{
 "cells": [
  {
   "cell_type": "code",
   "execution_count": null,
   "metadata": {},
   "outputs": [],
   "source": [
    "pip install pandas"
   ]
  },
  {
   "cell_type": "code",
   "execution_count": null,
   "metadata": {},
   "outputs": [],
   "source": [
    "pip install openpyxl"
   ]
  },
  {
   "cell_type": "code",
   "execution_count": null,
   "metadata": {},
   "outputs": [],
   "source": [
    "pip install seaborn"
   ]
  },
  {
   "cell_type": "code",
   "execution_count": null,
   "metadata": {},
   "outputs": [],
   "source": [
    "pip install matplotlib"
   ]
  },
  {
   "cell_type": "code",
   "execution_count": null,
   "metadata": {},
   "outputs": [],
   "source": [
    "pip install scikit-learn"
   ]
  },
  {
   "cell_type": "code",
   "execution_count": null,
   "metadata": {},
   "outputs": [],
   "source": [
    "pip install plotly"
   ]
  },
  {
   "cell_type": "code",
   "execution_count": null,
   "metadata": {},
   "outputs": [],
   "source": [
    "pip install hdbscan"
   ]
  },
  {
   "cell_type": "code",
   "execution_count": 8,
   "metadata": {},
   "outputs": [],
   "source": [
    "import pandas as pd\n",
    "import seaborn as sns\n",
    "import matplotlib.pyplot as plt\n",
    "import numpy as np\n",
    "import hdbscan\n",
    "from sklearn.preprocessing import StandardScaler"
   ]
  },
  {
   "cell_type": "markdown",
   "metadata": {},
   "source": [
    "## TF-IDF"
   ]
  },
  {
   "cell_type": "code",
   "execution_count": 19,
   "metadata": {},
   "outputs": [
    {
     "data": {
      "text/html": [
       "<div>\n",
       "<style scoped>\n",
       "    .dataframe tbody tr th:only-of-type {\n",
       "        vertical-align: middle;\n",
       "    }\n",
       "\n",
       "    .dataframe tbody tr th {\n",
       "        vertical-align: top;\n",
       "    }\n",
       "\n",
       "    .dataframe thead th {\n",
       "        text-align: right;\n",
       "    }\n",
       "</style>\n",
       "<table border=\"1\" class=\"dataframe\">\n",
       "  <thead>\n",
       "    <tr style=\"text-align: right;\">\n",
       "      <th></th>\n",
       "      <th>text</th>\n",
       "      <th>label1</th>\n",
       "      <th>label2</th>\n",
       "      <th>label3</th>\n",
       "      <th>LABEL</th>\n",
       "      <th>1. Sarkazm uszczypliwy, dokuczliwy -&gt; mowa nienawiści</th>\n",
       "    </tr>\n",
       "  </thead>\n",
       "  <tbody>\n",
       "    <tr>\n",
       "      <th>0</th>\n",
       "      <td>Dla mnie faworytem do tytułu będzie Cracovia. ...</td>\n",
       "      <td>0</td>\n",
       "      <td>0</td>\n",
       "      <td>0</td>\n",
       "      <td>0.0</td>\n",
       "      <td>NaN</td>\n",
       "    </tr>\n",
       "    <tr>\n",
       "      <th>1</th>\n",
       "      <td>@anonymized_account @anonymized_account Brawo ...</td>\n",
       "      <td>0</td>\n",
       "      <td>0</td>\n",
       "      <td>0</td>\n",
       "      <td>0.0</td>\n",
       "      <td>NaN</td>\n",
       "    </tr>\n",
       "    <tr>\n",
       "      <th>2</th>\n",
       "      <td>@anonymized_account @anonymized_account Super,...</td>\n",
       "      <td>1</td>\n",
       "      <td>0</td>\n",
       "      <td>1</td>\n",
       "      <td>1.0</td>\n",
       "      <td>Kolumna Label</td>\n",
       "    </tr>\n",
       "    <tr>\n",
       "      <th>3</th>\n",
       "      <td>@anonymized_account @anonymized_account Musi. ...</td>\n",
       "      <td>0</td>\n",
       "      <td>0</td>\n",
       "      <td>0</td>\n",
       "      <td>0.0</td>\n",
       "      <td>201-300 Iza</td>\n",
       "    </tr>\n",
       "    <tr>\n",
       "      <th>4</th>\n",
       "      <td>Odrzut natychmiastowy, kwaśna mina, mam problem</td>\n",
       "      <td>0</td>\n",
       "      <td>0</td>\n",
       "      <td>0</td>\n",
       "      <td>0.0</td>\n",
       "      <td>301-400 Julita</td>\n",
       "    </tr>\n",
       "  </tbody>\n",
       "</table>\n",
       "</div>"
      ],
      "text/plain": [
       "                                                text  label1  label2  label3  \\\n",
       "0  Dla mnie faworytem do tytułu będzie Cracovia. ...       0       0       0   \n",
       "1  @anonymized_account @anonymized_account Brawo ...       0       0       0   \n",
       "2  @anonymized_account @anonymized_account Super,...       1       0       1   \n",
       "3  @anonymized_account @anonymized_account Musi. ...       0       0       0   \n",
       "4    Odrzut natychmiastowy, kwaśna mina, mam problem       0       0       0   \n",
       "\n",
       "   LABEL 1. Sarkazm uszczypliwy, dokuczliwy -> mowa nienawiści  \n",
       "0    0.0                                                NaN     \n",
       "1    0.0                                                NaN     \n",
       "2    1.0                                      Kolumna Label     \n",
       "3    0.0                                        201-300 Iza     \n",
       "4    0.0                                     301-400 Julita     "
      ]
     },
     "execution_count": 19,
     "metadata": {},
     "output_type": "execute_result"
    }
   ],
   "source": [
    "df_processed = pd.read_excel('cyberbullying_train_complete_sentences.xlsx', sheet_name='Superanotator')\n",
    "df_processed.head(5)"
   ]
  },
  {
   "cell_type": "code",
   "execution_count": 20,
   "metadata": {},
   "outputs": [],
   "source": [
    "df_processed = df_processed.drop(columns=[\"label1\", \"label2\", \"label3\", \"1. Sarkazm uszczypliwy, dokuczliwy -> mowa nienawiści\"])"
   ]
  },
  {
   "cell_type": "code",
   "execution_count": 21,
   "metadata": {},
   "outputs": [],
   "source": [
    "df_processed = df_processed.dropna(axis=0, how='any', subset=None, inplace=False)\n"
   ]
  },
  {
   "cell_type": "code",
   "execution_count": 22,
   "metadata": {},
   "outputs": [
    {
     "data": {
      "text/plain": [
       "(599, 2)"
      ]
     },
     "execution_count": 22,
     "metadata": {},
     "output_type": "execute_result"
    }
   ],
   "source": [
    "df_processed.shape"
   ]
  },
  {
   "cell_type": "code",
   "execution_count": 23,
   "metadata": {},
   "outputs": [
    {
     "name": "stdout",
     "output_type": "stream",
     "text": [
      "[[0. 0. 0. ... 0. 0. 0.]\n",
      " [0. 0. 0. ... 0. 0. 0.]\n",
      " [0. 0. 0. ... 0. 0. 0.]\n",
      " ...\n",
      " [0. 0. 0. ... 0. 0. 0.]\n",
      " [0. 0. 0. ... 0. 0. 0.]\n",
      " [0. 0. 0. ... 0. 0. 0.]]\n",
      "['00' '01' '10' ... 'żywych' 'żyłeś' 'żółci']\n"
     ]
    }
   ],
   "source": [
    "from sklearn.feature_extraction.text import TfidfVectorizer\n",
    "vectorizer = TfidfVectorizer()\n",
    "\n",
    "# Dopasowanie modelu TF-IDF i przekształcenie zdań w wektory\n",
    "tfidf_matrix = vectorizer.fit_transform(df_processed['text'])\n",
    "\n",
    "# Wydrukowanie wynikowych wektorów TF-IDF\n",
    "print(tfidf_matrix.toarray())\n",
    "\n",
    "# Możesz także wydrukować słownictwo, które zostało przypisane do każdego wektora\n",
    "print(vectorizer.get_feature_names_out())"
   ]
  },
  {
   "cell_type": "code",
   "execution_count": 24,
   "metadata": {},
   "outputs": [],
   "source": [
    "tfidf_dense = tfidf_matrix.toarray()  \n",
    "standardized_data = StandardScaler().fit_transform(tfidf_dense)"
   ]
  },
  {
   "cell_type": "code",
   "execution_count": 25,
   "metadata": {},
   "outputs": [
    {
     "data": {
      "text/plain": [
       "(599, 2781)"
      ]
     },
     "execution_count": 25,
     "metadata": {},
     "output_type": "execute_result"
    }
   ],
   "source": [
    "standardized_data.shape"
   ]
  },
  {
   "cell_type": "code",
   "execution_count": 26,
   "metadata": {},
   "outputs": [
    {
     "data": {
      "application/vnd.plotly.v1+json": {
       "config": {
        "plotlyServerURL": "https://plot.ly"
       },
       "data": [
        {
         "customdata": [
          [
           "Dla mnie faworytem do tytułu będzie Cracovia. Zobaczymy, czy typ się sprawdzi.",
           0
          ],
          [
           "@anonymized_account @anonymized_account Brawo ty Daria kibic ma być na dobre i złe",
           0
          ],
          [
           "@anonymized_account @anonymized_account Super, polski premier składa kwiaty na grobach kolaborantów. Ale doczekaliśmy czasów.",
           1
          ],
          [
           "@anonymized_account @anonymized_account Musi. Innej drogi nie mamy.",
           0
          ],
          [
           "Odrzut natychmiastowy, kwaśna mina, mam problem",
           0
          ],
          [
           "Jaki on był fajny xdd pamiętam, że spóźniłam się na jego pierwsze zajęcia i to sporo i za karę kazał mi usiąść w pierwszej ławce XD",
           0
          ],
          [
           "@anonymized_account No nie ma u nas szczęścia 😉",
           0
          ],
          [
           "@anonymized_account Dawno kogoś tak wrednego nie widziałam xd",
           0
          ],
          [
           "@anonymized_account @anonymized_account Zaległości były, ale ważne czy były wezwania do zapłaty z których się klub nie wywiązał.",
           0
          ],
          [
           "@anonymized_account @anonymized_account @anonymized_account Gdzie jest @anonymized_account . Brudziński jesteś kłamcą i marnym kutasem @anonymized_account",
           1
          ],
          [
           "@anonymized_account @anonymized_account  no mam nadzieje !!:)",
           0
          ],
          [
           "@anonymized_account @anonymized_account Może gustował w starszych paniach ;-)",
           0
          ],
          [
           "@anonymized_account Zostawiłam tam 3 lata temu \\\"Notatki na mankietach\\\". Muszę się wrócić.",
           0
          ],
          [
           "@anonymized_account Oprawa do Krzysia M. Ps Pinokio -\\n\\\" mogłeś być gangsterem a zostałeś 3 ligowym frajerem \\\"😀",
           1
          ],
          [
           "@anonymized_account @anonymized_account Znowu będzie komunikat o polskich piratach drogowych w Słowacji.",
           0
          ],
          [
           "@anonymized_account Mówi człowiek, który chciał nałożyć sankcje na Polskę. Gratulacje. #Niepodlegla #11lisopada",
           0
          ],
          [
           "RT @anonymized_account @anonymized_account Mówi człowiek, który chciał nałożyć sankcje na Polskę. Gratulacje. #Niepodlegla #11lisopada",
           0
          ],
          [
           "@anonymized_account @anonymized_account o jakim zachowaniu \\\"fer\\\" mówisz skoro ukrywał się z tym że podpisał kontrakt z Legią ? Możesz rozwinąć ?",
           0
          ],
          [
           "@anonymized_account @anonymized_account Joanno! Po raz pierwszy się z panią zgadzam.😁😁😁😁😁",
           0
          ],
          [
           "Monster block, monster block, monster block... 😁",
           0
          ],
          [
           "@anonymized_account Czyżby Madryt brał przykład z Warszawy?",
           0
          ],
          [
           "@anonymized_account @anonymized_account No to Skończmy kurwa z tym wersalem w j...ej szczujni",
           1
          ],
          [
           "@anonymized_account Nie wiem, najczęściej grają na zmianę na prawym skrzydle.",
           0
          ],
          [
           "@anonymized_account No to Pan i koledzy macie z głowy. Przesrane tak reszta życia pod górkę.",
           0
          ],
          [
           "@anonymized_account A ja obstawiam, że pójdą bardziej w stronę tego, że może się powtórzyć sytuacja z Meresińskim.",
           0
          ],
          [
           "Aaaaa Kuba mi odpisał hehehehehe",
           0
          ],
          [
           "Asysta Kacpra Falona i 3:1 dla Widzewa. Witamy Widzew w II lidze. No i w sumie fajnie.",
           0
          ],
          [
           "@anonymized_account gwizdali na niego ? Bo nie oglądałem meczu :)",
           0
          ],
          [
           "@anonymized_account @anonymized_account ale może w końcu dojdzie do wniosku że skoro go klub już nie jara to lepiej go sprzedać i mieć po kłopocie",
           0
          ],
          [
           "@anonymized_account @anonymized_account Hej halo, o czym to jest bo mam na swojej liście i nie wiem czy warto??",
           0
          ],
          [
           "dorosłe życie nie jest dla mnie",
           0
          ],
          [
           "RT @anonymized_account dorosłe życie nie jest dla mnie",
           0
          ],
          [
           "@anonymized_account Cześć Paderewski, część opalające się nogi",
           0
          ],
          [
           "@anonymized_account @anonymized_account @anonymized_account Uprowadź gumową kaczuszkę. Zacznie negocjować.",
           0
          ],
          [
           "@anonymized_account Już wiem ze się nie dogadamy XD",
           0
          ],
          [
           "@anonymized_account Ale to w nowym przekładzie, jeszcze nie czytałam.",
           0
          ],
          [
           "@anonymized_account Lahoza mi nigdy nie szkoda. Wolę, jak na pierwszym planie są piłkarze, a nie sędzia :-)",
           0
          ],
          [
           "@anonymized_account @anonymized_account Sprawdź chłopie w słowniku co oznacza słowo , którego używasz a potem się odzywaj.",
           1
          ],
          [
           "@anonymized_account zmieńcie se nazwe na profilu na insta bo się nazywacie Grzegorz Ożóg...",
           0
          ],
          [
           "#Woronicza 17 poseł Halicki oburzony za Bolka.Naprawdè taki tępy czy tylko udaje idiotę?",
           1
          ],
          [
           "„Ta aktorka ma 20 lat?!?! Jaka stara!!” \\n\\nChyba musimy się już do grobu pakować roczniku 98 😂👌🏻",
           0
          ],
          [
           "RT @anonymized_account „Ta aktorka ma 20 lat?!?! Jaka stara!!” \\n\\nChyba musimy się już do grobu pakować roczniku 98 😂👌🏻",
           0
          ],
          [
           "Ahnherr der Schtwätzer wykonawcy Von Spar\\nhttps://t.co/SOtenSqIr0",
           0
          ],
          [
           "@anonymized_account @anonymized_account @anonymized_account Bierze cie cie pod chuj a ty sie produkujesz",
           1
          ],
          [
           "@anonymized_account @anonymized_account @anonymized_account Jak narazie to masz przywidzenia co nie zmienia faktu że cały czas jesteś idiotą.",
           1
          ],
          [
           "@anonymized_account Kiedy do licznika dojdą bilety z fan clubow?",
           0
          ],
          [
           "@anonymized_account A kto prowadzi zespół ? Będzie podany skład z tego meczu ?",
           0
          ],
          [
           "@anonymized_account Główny powód to brak kasy, trzeba dać bogatym 500+,300+ i być bez godności i honoru",
           1
          ],
          [
           "Zrobiłam takie Cv że ohohohoho",
           0
          ],
          [
           "Świętować uchwalenie Konstytucji 3 maja i łamać Konstytucję RP obecnie obowiązującą?!\\n#3Maja - dzień hipokryzji.",
           0
          ],
          [
           "RT @anonymized_account Świętować uchwalenie Konstytucji 3 maja i łamać Konstytucję RP obecnie obowiązującą?!\\n#3Maja - dzień hipokryzji.",
           0
          ],
          [
           "@anonymized_account @anonymized_account nie gra bo jest Jovanović i Guilherme",
           0
          ],
          [
           "@anonymized_account O tej godz. sporty szanuj ciało",
           0
          ],
          [
           "Nikt nigdy nie rozsiewał takiego smrodu jak @anonymized_account",
           1
          ],
          [
           "Nikt cię tak dobrze nie ubierze jak matka chrzestna dziecino",
           0
          ],
          [
           "@anonymized_account @anonymized_account Nikt tutaj nie chce plagiaciarzy kopiujących brytyjskich pisarzy.",
           0
          ],
          [
           "@anonymized_account A ksiądz co bierze 12 tyś za spowiedź przez tel?",
           0
          ],
          [
           "@anonymized_account Koń też ma dużą głowę. Tylko wydaje mi się, że jest bardziej inteligentny niż Karczewski",
           1
          ],
          [
           "@anonymized_account Pod i górę  pod wiatr to więcej niż k2",
           0
          ],
          [
           "@anonymized_account Sędziowie VAR nie decydują o karnych 😉",
           0
          ],
          [
           "Jakiś program na TVN, nauka jazdy za kierownicą babcia śpiewa \\\"jadą jadą jadą świry jadą\\\" jadą jadą jadą świry jadą\\\"",
           0
          ],
          [
           "@anonymized_account ta obecna Zary Larsson czy Pitbulla z ostatnich MŚ nie były złe :)",
           0
          ],
          [
           "(280 znaków w jednym zdaniu 🙈)",
           0
          ],
          [
           "@anonymized_account po wahaniach wagi Kwacha wznoszę że to może być kapuścianka",
           0
          ],
          [
           "@anonymized_account @anonymized_account w tym sezonie razem z pucharem 12 meczy i 1 gol.Mójta więcej strzelił.Sorry patrze w statystyki.",
           0
          ],
          [
           "@anonymized_account @anonymized_account @anonymized_account finały tblk były przyzwoicie sędziowane ?! Aha...",
           0
          ],
          [
           "@anonymized_account Taki miałam właśnie, teraz kupiłam z catrice",
           0
          ],
          [
           "@anonymized_account to ich wymień.W czym problem ?",
           0
          ],
          [
           "@anonymized_account @anonymized_account @anonymized_account a ja mam ciepełko jak się przytule do swoich kotów :)",
           0
          ],
          [
           "@anonymized_account Właśnie. Ilu! Najpierw odpowiedzmy sobie ma to pytanie,a potem dziwmy się zwycięstwu Zdanowskiej",
           0
          ],
          [
           "@anonymized_account W jego przypadku statystyka przebiegniętych kilometrów nie ma znaczenia. Czy gra zajebiście, czy fatalnie, biega tyle samo.",
           0
          ],
          [
           "@anonymized_account @anonymized_account 100%, Mann też miał pełne prawo",
           0
          ],
          [
           "@anonymized_account Kończyłeś już kilka razy 😂",
           0
          ],
          [
           "@anonymized_account Dzisiaj zajmujemy się WARiatem Krystyną ciekawe czy będzie płakał?",
           1
          ],
          [
           "@anonymized_account @anonymized_account @anonymized_account @anonymized_account A co będzie jak Kuba nigdy niewroci?",
           0
          ],
          [
           "@anonymized_account Tym w sejmie też? Banda hipokrytów i złodziei.",
           1
          ],
          [
           "W każdej z czterech grup będzie walka o zwycięstwo premiowane awansem do CLJ. Bardzo potrzebne rozwiązanie, brawo.",
           0
          ],
          [
           "@anonymized_account Tak się poznałam z moim chłopakiem 😂 czasami warto",
           0
          ],
          [
           "@anonymized_account nelly furtado a tytuł forco czy cos takiego",
           0
          ],
          [
           "@anonymized_account Mów prawdę, kto was skrzywdził",
           0
          ],
          [
           "@anonymized_account jestem tu od 2013 xd",
           0
          ],
          [
           "@anonymized_account Ta kadra to rocznik 2002",
           0
          ],
          [
           "Posiada sensor CGM , ciągły monitoring glikemii, w końcu.",
           0
          ],
          [
           "Jeszcze żaden Polak nie wystąpił w meczu gwiazd NBA, nie licząc Mietka Paciaciaka ;) Pomóżmy Marcinowi Gortatowi być 1 @anonymized_account #NBAVOTE",
           0
          ],
          [
           "RT @anonymized_account Jeszcze żaden Polak nie wystąpił w meczu gwiazd NBA, nie licząc Mietka Paciaciaka ;) Pomóżmy Marcinowi Gortatowi być 1…",
           0
          ],
          [
           "@anonymized_account No kurwa myślałem że na Podlasiu",
           0
          ],
          [
           "@anonymized_account @anonymized_account Tak, to nawet lepsze rozwiązanie.",
           0
          ],
          [
           "@anonymized_account @anonymized_account Koń by się uśmiał, TVN24 i TVN wolne media? Bardziej perfidnego łgarstwa nie słyszałem.. 🤔",
           1
          ],
          [
           "RT @anonymized_account @anonymized_account @anonymized_account Koń by się uśmiał, TVN24 i TVN wolne media? Bardziej perfidnego łgarstwa nie słyszałem.. 🤔",
           1
          ],
          [
           "@anonymized_account Gdzie ja wtedy byłam? ;-)",
           0
          ],
          [
           "@anonymized_account @anonymized_account @anonymized_account Midze sie nudziło i se coś na kolanie napisał i macie sensacje",
           0
          ],
          [
           "@anonymized_account Dzisiaj wrócił do treningów, czyli zdążyli 😉",
           0
          ],
          [
           "@anonymized_account @anonymized_account @anonymized_account @anonymized_account Nie wiem, zerknij na 90minut",
           0
          ],
          [
           "@anonymized_account @anonymized_account Z motłochem nie dyskutuję tylko daje bany. A Pani @anonymized_account gratuluję obrońcy.",
           1
          ],
          [
           "@anonymized_account możesz też zawsze po prostu zapytać kiedy się urodziłam. Albo wpisać hasztag #100latKasiaPawlak ;-)",
           0
          ],
          [
           "@anonymized_account ale z kategoriami moim zdaniem przesadzają.Sponsor roku, serce, impreza ? Bez jaj",
           1
          ],
          [
           "@anonymized_account Prezes się cieszy ze Wisla odpadła bo w razie finału Legia-Wisla znów by musiał finał odwoływać",
           0
          ],
          [
           "Bratowa wysłała mi zdjęcie bratanicy z rozpoczęcia roku, idzie do pierwszej klasy, biedactwo nie wie co ją czeka",
           0
          ],
          [
           "@anonymized_account szybkie pytanie do @anonymized_account Ręka Sadloka była zagraniem umyślnym ?",
           0
          ],
          [
           "@anonymized_account Dzień w którym Abidal sprzedał i kupił A.Vidala 😉",
           0
          ],
          [
           "@anonymized_account Równie dobrze można gola stracić :)",
           1
          ],
          [
           "@anonymized_account Chorwaci przerżną w końcówce dogrywki, wiadomo.",
           1
          ],
          [
           "@anonymized_account Nasze dzieci będą zdegustwani, był taki PiS, taki @anonymized_account , historia populizmu i głupoty w latach 2015-2019, margines",
           1
          ],
          [
           "@anonymized_account O, myślałam, że nikt już nie używa \\\"mnie\\\" tylko \\\"mi\\\".",
           0
          ],
          [
           "@anonymized_account @anonymized_account @anonymized_account Na nowym stadionie West Hamu też to widziałem.",
           0
          ],
          [
           "@anonymized_account @anonymized_account zawodnik w sezonie może grać w barwach dwóch klubów więc jeszcze nic straconego :)",
           0
          ],
          [
           "ciekawe czy faktycznie jest taki zakład bo jeśli tak to nieźle XD",
           0
          ],
          [
           "@anonymized_account Hehe, do gazu, hehe jeszcze jakieś emotikony wrzuć",
           0
          ],
          [
           "Qrwa!! I niech mi nikt nie mówi, że czary to jakiś zabobon!! Chłopaki mają sztywne nogi!",
           1
          ],
          [
           "Od 01.10.2018 każde sprawozdanie finansowe w formie elektronicznej, zgodne ze strukturą jpk",
           0
          ],
          [
           "Na TVP Kraków padła właśnie informacja że rozmowy z potencjalnym kupcem Wisły przełożony z dziś na jutro.",
           0
          ],
          [
           "RT @anonymized_account Na TVP Kraków padła właśnie informacja że rozmowy z potencjalnym kupcem Wisły przełożony z dziś na jutro.",
           0
          ],
          [
           "@anonymized_account NIECH JESZCZE DADZĄ LEKTORA I NA GŁÓWNA POSTAĆ MÓWIĄ NADZIEJA",
           1
          ],
          [
           "RT @anonymized_account @anonymized_account NIECH JESZCZE DADZĄ LEKTORA I NA GŁÓWNA POSTAĆ MÓWIĄ NADZIEJA",
           1
          ],
          [
           "@anonymized_account Nie no ludzie, żeby robić artykuł na temat jednego tweeta ?...",
           1
          ],
          [
           "@anonymized_account Jak powiem, że pierwsze słysze, to będzie kompromitacja czy nie? 😄",
           0
          ],
          [
           "@anonymized_account Usuń konto, wytrzeźwiej buduj od nowa",
           1
          ],
          [
           "@anonymized_account @anonymized_account @anonymized_account Sekta, cha, cha, cha, obudź się z hipnozy, jesteś bolszewikiem",
           1
          ],
          [
           "Nie wstanę kurde nie ma opcji",
           0
          ],
          [
           "@anonymized_account @anonymized_account Spokojnie, u mnie też Kaczarawa na kapitanie + Cvijanović :)",
           0
          ],
          [
           "niech ładny chłopiec z kręconymi włosami do mnie napisze: jutro, zaraz, teraz",
           0
          ],
          [
           "RT @anonymized_account niech ładny chłopiec z kręconymi włosami do mnie napisze: jutro, zaraz, teraz",
           0
          ],
          [
           "@anonymized_account im ktoś gorzej widzi, dłużej musi czekać, choć ten, który widzi lepiej, dłużej poradzi sobie bez okularów. 😨",
           0
          ],
          [
           "@anonymized_account Oj, no to powodzenia! Co tam będziesz musiała robić? 🤭",
           0
          ],
          [
           "@anonymized_account @anonymized_account @anonymized_account @anonymized_account Chyba nie, Marcin mówił coś o '89.",
           0
          ],
          [
           "@anonymized_account Przeczytaj mojego kolejnego twitta to zobaczysz, że nie umknęło i co sądze o poziomie tego meczu.",
           0
          ],
          [
           "@anonymized_account Tylko nie w dupę, to dla niektórych z nich byłaby przyjemność.",
           1
          ],
          [
           "@anonymized_account @anonymized_account Widać chcą wiecej polskich mord gotujacych koninę",
           1
          ],
          [
           "@anonymized_account No to jak się przegrywa cały czas to lepiej przestać grać :)",
           1
          ],
          [
           "@anonymized_account @anonymized_account @anonymized_account Widzę, że sami się znajdują.",
           0
          ],
          [
           "@anonymized_account Napewno mam niezaktualizowanego może dlatego",
           0
          ],
          [
           "@anonymized_account @anonymized_account Smokowski mówił że Wisła ma piłkarzy 3 sortu, a Wieszczycki deprecjonował dobrą prace Kiko",
           0
          ],
          [
           "więc zaczynam oglądać Do wszystkich chłopców, których kochałam bo wszyscy o tym mówią i aż chcę to sprawdzić",
           0
          ],
          [
           "@anonymized_account Ban,ban i jeszcze raz ban! Co za prymitywne dno!",
           1
          ],
          [
           "@anonymized_account @anonymized_account Jasne, bo debile oglądający tvpis płaczą tylko na m jak miłość",
           1
          ],
          [
           "@anonymized_account @anonymized_account @anonymized_account W stop klatkach widać ze jak by to było po stronie drugiej (legi) to karny by był",
           0
          ],
          [
           "Zdrady stanu to Donald Tusk dopuścił się już w 2010 r kiedy dodał Rosjanom śledztwo w sprawie katastrofy smoleńskiej.",
           1
          ],
          [
           "@anonymized_account Na marginesie jestem córką biskupa",
           0
          ],
          [
           "@anonymized_account Przejdzie historii: jak tworzyć kłamstwo w dobie powszechnego dostępu do informacji",
           0
          ],
          [
           "@anonymized_account Od ok 8 lat używam kolejnych modeli HTC i nigdy mnie nie zawiodły.",
           0
          ],
          [
           "@anonymized_account @anonymized_account Ty się oszuście i kłamco od nas odpierdol. My sobie damy radę bez twoich kłamstw",
           1
          ],
          [
           "@anonymized_account @anonymized_account @anonymized_account odważne słowa jak na legioniste! 😂😂😂",
           1
          ],
          [
           "@anonymized_account @anonymized_account Załatwi to jedno głosowanie w sejmie i żadne demonstracje nie będą miały na to wpływu.",
           0
          ],
          [
           "@anonymized_account @anonymized_account @anonymized_account Krzyż celtycki w Irlandii debilu ma kompletnie inne znaczenie niż u neofaszystów.",
           1
          ],
          [
           "@anonymized_account Coś w tym jest,bo ja też😁😁😁. I jeszcze bym dodał Dominisię W. której infantylizm mnie totalnie osłabia.",
           1
          ],
          [
           "@anonymized_account @anonymized_account Gdzie oni znajdują takich dupków",
           1
          ],
          [
           "mój stres zaczął się stresować swoim własnym stresem, które również się stresuje ja pierdole dość",
           0
          ],
          [
           "RT @anonymized_account mój stres zaczął się stresować swoim własnym stresem, które również się stresuje ja pierdole dość",
           0
          ],
          [
           "@anonymized_account @anonymized_account @anonymized_account @anonymized_account @anonymized_account dojdzie Brlek, Stilić wróci do formy, obcokrajowcy się zaaklimatyzują i bedzie dobrze💪",
           0
          ],
          [
           "@anonymized_account @anonymized_account @anonymized_account Brawo grzechu za Twój powrót do żywych\\n W Rosji pokaż swoją moc",
           0
          ],
          [
           "@anonymized_account @anonymized_account @anonymized_account @anonymized_account Wonder!! Chyba cię....😁😁😁😁😁.No dobra. Na jaki?😁😁😁",
           0
          ],
          [
           "@anonymized_account Ja mam uczulenie na dobrą zmianę, ale to dłuższa historiac",
           0
          ],
          [
           "@anonymized_account Różnicy nie ma, bo pisali wtedy, że nie można zsyłać zawodników do rezerw ;P",
           0
          ],
          [
           "@anonymized_account Żal ci biedaku??? Gdyby nie Kaczyński to by je twoi przyjaciele z PO rozkradl",
           1
          ],
          [
           "RT @anonymized_account @anonymized_account Żal ci biedaku??? Gdyby nie Kaczyński to by je twoi przyjaciele z PO rozkradl",
           1
          ],
          [
           "Dobry dzień na przypomnienie sobie genezy gwiazdek na fladze #UE #deklaracjaRzymska",
           0
          ],
          [
           "Sekta kurwa, jakaś niepojęta radość, każde konto pisdzielskie tylko o jednym",
           1
          ],
          [
           "@anonymized_account @anonymized_account Nie wierzę, bez zaświadczenia od proboszcza?",
           0
          ],
          [
           "@anonymized_account I chyba wtedy byś niezaprzeczyla?",
           0
          ],
          [
           "@anonymized_account Tak naprawdę czy będziemy w spadkowej czy mistrzowskiej to i tak czekają nas sparingi.",
           0
          ],
          [
           "@anonymized_account Jebać, jebać, nic się nie bać.",
           0
          ],
          [
           "@anonymized_account Jakiej pracy, ty już pajacu nie wiesz na czym się lansować. Sejm nie pracuje.",
           1
          ],
          [
           "Kilogramy rozmnażają się przez pączkowanie 😣😖\\n#TłustyCzwartek",
           0
          ],
          [
           "@anonymized_account @anonymized_account Nie działają i lepiej działać szybko bo klienci nie maja dostępu do środków na kontach",
           0
          ],
          [
           "@anonymized_account @anonymized_account @anonymized_account jutro walczycie ? Normalnie rycerze ! A gdzie byliście wcześniej ? A zapomniałem że nie o L chodziło",
           1
          ],
          [
           "@anonymized_account Ale to głupie, rdzennie głupie, bardziej głupie już być nie może",
           1
          ],
          [
           "@anonymized_account Szczególnie Vestenicky.Podczas wypożyczenia nic nie pokazał a go wykupili za 500 tys euro 😂👏",
           0
          ],
          [
           "@anonymized_account Już się boję. Postraszy mnie Pan kolegami narodowcami?",
           1
          ],
          [
           "@anonymized_account Co nie było blisko? Bo nie rozumiem.",
           0
          ],
          [
           "@anonymized_account @anonymized_account A od kiedy komentatorzy na Sky to wyrocznia?",
           0
          ],
          [
           "@anonymized_account @anonymized_account Nazwisko tego babska😁😁😁😁. Bo Wczoraj był na MO😁😁😀",
           1
          ],
          [
           "@anonymized_account Zbiera się do kontrataku, dla swojego pryncypala pójdzie w bój, patrityczna dusza,  co nie @anonymized_account ?",
           1
          ],
          [
           "@anonymized_account a w kolejnych fajnie jakby grał na lewej za Sadloka @anonymized_account",
           0
          ],
          [
           "@anonymized_account byłem w pracy ale zaraz odpalam meczyk na yt.Dzięki za walke !!!!:)",
           0
          ],
          [
           "@anonymized_account @anonymized_account jakie 0 motywacji ? Jest chyba różnica mieć medal albo go niemieć",
           0
          ],
          [
           "@anonymized_account Niby nie macie czy niby nie mit? 😂😂",
           0
          ],
          [
           "@anonymized_account Ja bym był ostrożny😁😁😁A jak ma na imię?",
           0
          ],
          [
           "@anonymized_account @anonymized_account @anonymized_account Tak to jest jak ktoś nie wie do którego lekarza iść najpierw.",
           1
          ],
          [
           "@anonymized_account @anonymized_account No nie dziwie się w sumie. Dobrze, że tylko raz dzwonił",
           0
          ],
          [
           "@anonymized_account @anonymized_account Wasz świat? To się w nim zamknijcie i nie wystawiajcie nosa.",
           1
          ],
          [
           "@anonymized_account @anonymized_account Przyjaciół to niech on sobie szuka za swoje prywatne pieniądze. I niech robi z siebie idiotę na własny rachunek.",
           1
          ],
          [
           "imagine sie komus podobac??? ze ktos sie stara o TWOJA uwage??? can’t relate",
           0
          ],
          [
           "RT @anonymized_account imagine sie komus podobac??? ze ktos sie stara o TWOJA uwage??? can’t relate",
           0
          ],
          [
           "@anonymized_account @anonymized_account @anonymized_account a Portugalia jak zagrała ?",
           0
          ],
          [
           "Pierwsze zdanie: \\\"Paczka papierosów kosztuje 4 miliardy marek\\\".\\n#JajoWęża teraz na @anonymized_account",
           0
          ],
          [
           "@anonymized_account @anonymized_account No to tym bardziej :)",
           0
          ],
          [
           "@anonymized_account Ja przynajmniej mam profilowe i nie chowam się za awatarem. Ale bohaterów MW na to nie stać i w sumie nic w tym dziwnego.",
           1
          ],
          [
           "@anonymized_account Czego się spodziewać po członku żydowskiego amerykańskiego lobby. Lata na kolanach przed żydami zrobiło swoje.",
           1
          ],
          [
           "RT @anonymized_account @anonymized_account Czego się spodziewać po członku żydowskiego amerykańskiego lobby. Lata na kolanach przed żydami zrobiło swoj…",
           1
          ],
          [
           "@anonymized_account Co ty człowieku pijesz z rana?",
           0
          ],
          [
           "@anonymized_account @anonymized_account pewnie narządy też wkrótce sprzeda :D",
           0
          ],
          [
           "@anonymized_account w zeszłym sezonie to samo pisałeś ?",
           0
          ],
          [
           "Picie to przyszłość, piękna i nieznana, szukajcie zapomnienia, próbujcie różnych trunków, łączcie środki psychoaktywne, powodzenia",
           0
          ],
          [
           "@anonymized_account Ale ty jesteś żenujący. Dno metr mułu.",
           1
          ],
          [
           "@anonymized_account spoko, nigdy nie daje unfollow aktywnym ludziom, tylko tym, którzy nie piszą nic od miesięcy albo dali mi unfollow",
           0
          ],
          [
           "\\\"- Co to jest tajmlajn na fejsie?\\n- Zmarszczki\\\".",
           0
          ],
          [
           "@anonymized_account może trzeba chłopaków na crossfit zabierać ?:)",
           0
          ],
          [
           "@anonymized_account znacznie bliżej jest mi muzułmanin  czy indus, niż katolicka, łysa swołocz ze wschodu europy, do tego rasistowska",
           1
          ],
          [
           "Dzisiaj o 18.00 Strefa Kibica w Radiu Akadera. Zapraszamy.",
           0
          ],
          [
           "@anonymized_account Nie powinno być źle o ile się utrzymamy :P",
           0
          ],
          [
           "@anonymized_account Spokojnie trzeba ta porażkę wziąść na klatę mecz się tak ułożył nie inaczej napewno gorsi dużo my niebyli.",
           0
          ],
          [
           "@anonymized_account Ale się cieszą. Wreszcie koniec i będzie można wypić te.zapasy z plecaka.",
           0
          ],
          [
           "@anonymized_account @anonymized_account Ofertę przedłużenis kontraktu ponoć dostał od Wisły, ale jej nie zaakceptował.",
           0
          ],
          [
           "Dziś o godz. 20:00 Prezydent RP wygłosi orędzie.",
           0
          ],
          [
           "RT @anonymized_account Dziś o godz. 20:00 Prezydent RP wygłosi orędzie.",
           0
          ],
          [
           "@anonymized_account myślałem że się przychodzi na stadion dla drużyny a nie na poszczególnych piłkarzy",
           0
          ],
          [
           "@anonymized_account kibicom chodzi raczej o postawe dziennikarzy a nie klubu.",
           0
          ],
          [
           "@anonymized_account @anonymized_account Nie trzeba Algierczyków, wystarczy kilku polskich katechetów.",
           0
          ],
          [
           "@anonymized_account Barcelona z Messim (ta obecna) by taki mecz wygrała 1:0, albo jakiś Suarez by coś wcisnął :P",
           0
          ],
          [
           "@anonymized_account @anonymized_account TW Wolfgang, TW Faraon i TW Rycerz,TW Balbina, TW Michał \\nKto mieczem wojuje, ten od pochwy ginie",
           0
          ],
          [
           "@anonymized_account @anonymized_account Zgadza się ale przecież nas niestac żeby komin płacowy zacząć od.carlitosa",
           0
          ],
          [
           "@anonymized_account @anonymized_account @anonymized_account Low kick, kolano łokieć, blacha na czoło i stara leży",
           1
          ],
          [
           "@anonymized_account Niestety obrazki będą też zielone, czarne i brunatne.",
           0
          ],
          [
           "Ktoś założył fejkowe konto i ogląda WSZYSTKIE moje story",
           0
          ],
          [
           "@anonymized_account @anonymized_account Życie, zdarza się. Jednak od takiego rzutu wolnego do gola droga dość daleka.",
           0
          ],
          [
           "@anonymized_account a wydanie 500 tys euro gdy się nie ma pieniędzy nie jest strzałem w kolano ?",
           0
          ],
          [
           "@anonymized_account Wio endekdu, ścierwa, zdrajcy, szubienica",
           1
          ],
          [
           "@anonymized_account nie dziwie się, to było dość cwane :)",
           0
          ],
          [
           "@anonymized_account Raczey! Jutro będzie jej odczytywane przez cały dzień ;-)",
           0
          ],
          [
           "@anonymized_account Kto będzie pił te mleko, gdzie będą jeździły tiry, meble, okna ty maly kogucie",
           0
          ],
          [
           "@anonymized_account @anonymized_account @anonymized_account @anonymized_account Nie myli się tylko ten, co nic nie robi.",
           0
          ],
          [
           "Mama będzie mi obcinać włosy boje się",
           0
          ],
          [
           "@anonymized_account @anonymized_account @anonymized_account @anonymized_account No to muszą ci nieźle płacić za wierszówki.",
           0
          ],
          [
           "@anonymized_account czy masz info jakie obecnie Ondrasek ma zarobki w Wiśle?",
           0
          ],
          [
           "@anonymized_account Jaka kwota wykupienia go po roku??",
           0
          ],
          [
           "@anonymized_account @anonymized_account @anonymized_account Dla kogo pracował? Nie przy śniadaniu bo się udławić można z wrażenia. Poproszę 5 przykładów zatem.",
           0
          ],
          [
           "@anonymized_account @anonymized_account @anonymized_account Widzę, że dalej nie rozumiesz. No nic idę oglądać LM. Pozdro.",
           1
          ],
          [
           "@anonymized_account @anonymized_account jeśli masz TV włączony od 8:00 do 1:00, a reklama pojawia się 3 x na godzinę, po 2 mies. jesteś na granicy obłędu.",
           0
          ],
          [
           "@anonymized_account @anonymized_account A co o włoskich faszystach i węgierskich nacjonalistach?",
           1
          ],
          [
           "@anonymized_account @anonymized_account Dojenie kasy przez rząd\\nKompromitacja Morawieckiego w Niemczech\\nKaczyński twórca państwa Polskiego w 2016 roku",
           1
          ],
          [
           "@anonymized_account Jeszcze w nastepnej kolejce pewnie jakis piątek",
           0
          ],
          [
           "@anonymized_account @anonymized_account i oczywiście było pytanie czy nie boi się o przyszłość Wisły 😂 przechodzicie samych siebie",
           0
          ],
          [
           "@anonymized_account no ja właśnie to samoXD znaczy wiem ze Emre wbija często, bo jego żona jest polką ale no",
           0
          ],
          [
           "@anonymized_account Nic nie mogą. Ale ich brak może spowodować, że strajkujący szybciej się z Sejmu wyniosą.",
           0
          ],
          [
           "@anonymized_account @anonymized_account @anonymized_account Przecież jak go zamkną to o czym ty będziesz pisał ? Twoje życie straci sens...",
           0
          ],
          [
           "@anonymized_account @anonymized_account To zaraz porobie screeny od momentu od którego jest zablokowane :)",
           0
          ],
          [
           "@anonymized_account Ktoś przestał słodzić, ktoś kto dużo słodził",
           0
          ],
          [
           "@anonymized_account @anonymized_account @anonymized_account No to po co się zgodził na klauzule dopiero po zakończeniu przyszłego sezonu, a nie od razu ?",
           1
          ],
          [
           "@anonymized_account Jest to prawda. Ale MSZ powinien. On pewnie myślał, że jest w Pisowskiej Polsce i wszystkoi wolno.😀😀😀",
           1
          ],
          [
           "@anonymized_account delikatnie nie po drodze :D",
           0
          ],
          [
           "@anonymized_account @anonymized_account No to 0:0 murowane (bo mam też ludzi z Cracovii)",
           0
          ],
          [
           "@anonymized_account Może ogłuszyły go te korki od szampanów, które strzelały po podpisaniu kontraktu Sadloka z Jagiellonią ?",
           1
          ],
          [
           "Panie i panowie, totalna porażka @anonymized_account w miastach. \\nT O T A L N A \\nTo bardzo ważny znak.",
           1
          ],
          [
           "RT @anonymized_account Panie i panowie, totalna porażka @anonymized_account w miastach. \\nT O T A L N A \\nTo bardzo ważny znak.",
           1
          ],
          [
           "@anonymized_account @anonymized_account @anonymized_account @anonymized_account ręce opadaj że takich rzeczy ludzie związani z futsalem nie wiedzą.",
           1
          ],
          [
           "@anonymized_account @anonymized_account Przeczytałem wszystko. Fantastycznego ma Pani Dziadka!",
           0
          ],
          [
           "@anonymized_account Na wszystko masz odpowiedź, żyłeś w tych czasach?",
           1
          ],
          [
           "@anonymized_account @anonymized_account Mr. Czarnecki. To nie hipokryzja tylko zwykła ludzka przyzwoitość. Widać że niektórym obce takie  odruchy.",
           1
          ],
          [
           "Diego Maradona - Robbie Williams 2:1.",
           0
          ],
          [
           "@anonymized_account @anonymized_account @anonymized_account Ja nie byłbym taki pewny",
           0
          ],
          [
           "@anonymized_account patrząc kogo biorą to mam wątpliwości czy nie chcą do 1 ligi (nie licząc Marciniaka)",
           0
          ],
          [
           "@anonymized_account To było dawno, jeszcze nie znali fotoszopa",
           0
          ],
          [
           "@anonymized_account @anonymized_account Maly murzyn, silny i zdrowy",
           1
          ],
          [
           ".@anonymized_account pojawił się na TT. To konto to nie fejk. \\nDołączajcie :) 💪",
           0
          ],
          [
           "RT @anonymized_account .@anonymized_account pojawił się na TT. To konto to nie fejk. \\nDołączajcie :) 💪",
           0
          ],
          [
           "W programie Igrzyska wolności w Łodzi śpiewanie pieśni rewolucyjnych,i piosenek z serialu,4 pancerni i pies.",
           0
          ],
          [
           "@anonymized_account no i w końcu widzę uśmiech :)",
           0
          ],
          [
           "@anonymized_account Jeszcze was zjemy i wysramy",
           1
          ],
          [
           "@anonymized_account lepszy argument to że ktoś go nie chce bo go nie lubi",
           0
          ],
          [
           "@anonymized_account @anonymized_account Tylko że ten prostak sie nabijał, szydził tak jak ze śmierci Piotra S.",
           0
          ],
          [
           "@anonymized_account Qwa! Wypiłem kawę przed chwilą.Bardzo dobra kawę.Nie chcę jej zwracać. A swoją drogą to świetny środek na wywołanie wymiotów.",
           0
          ],
          [
           "Wchodzę w powiadomienia a tu nic, już na 4 tt odpisałem, zaraz wyjebią bana",
           0
          ],
          [
           "@anonymized_account nataliethere_ oddam szybciutko z powiadomień",
           0
          ],
          [
           "@anonymized_account Tak tak jeszcze ktoś w to uwierzy",
           0
          ],
          [
           "@anonymized_account @anonymized_account @anonymized_account Tez musze trzymać poziomo tel czytając ten artykuł",
           0
          ],
          [
           "@anonymized_account @anonymized_account @anonymized_account Czasy kiedy zacząłem interesować się piłką i Wisłą 😍",
           0
          ],
          [
           "@anonymized_account Wy narobiliscie 30miliardow dlugow za waszych rzadow #oddajciekase",
           1
          ],
          [
           "RT @anonymized_account @anonymized_account Wy narobiliscie 30miliardow dlugow za waszych rzadow #oddajciekase",
           1
          ],
          [
           "@anonymized_account Czy @anonymized_account gotów na taką kolej rzeczy?",
           0
          ],
          [
           "@anonymized_account Tak jak pisdzielstwo ośmiesza policjantów , to już, nikt, nigdy bardziej nie będzie",
           1
          ],
          [
           "@anonymized_account A kiedy przestanie wydawać mln na swoich ochroniarzy, tylko zacznie leczyć u psychiatry swoją manię prześladowczą?",
           1
          ],
          [
           "@anonymized_account Pierwszy priorytet zadowolić Jarkacza, drugi priorytet ssać kasę wszystkimi otworami,  mają rozdwojenie jaźni",
           1
          ],
          [
           "@anonymized_account Huj z wami dziennikarzami. Piłka nożna dla kibiców a nie pseudo dziennikarzy.",
           1
          ],
          [
           "@anonymized_account E tam! To z miłości do Łodzi😁. I przyjdzie do PiS😁😁",
           0
          ],
          [
           "@anonymized_account A ja, ze coś znowu zepsułam xd",
           0
          ],
          [
           "Czemu jak zawsze się o kogoś martwię to ja dostaje po dupie, i mean nie wiem",
           0
          ],
          [
           "@anonymized_account kiedy wyjeżdżasz? ja w piątek, co prawda już drugi rok ale moja rodzina nadal reaguje tak samo",
           0
          ],
          [
           "@anonymized_account @anonymized_account @anonymized_account Ograniczyłbym to do \\\"Byle nie Ufa\\\" :)",
           0
          ],
          [
           "@anonymized_account @anonymized_account Święta racja, ale zapytaj Jurgiela o notatki, on wie co spierdolił. Będzie łatwiej.",
           0
          ],
          [
           "@anonymized_account @anonymized_account Szczególnie wielka strata za Smoleńsk",
           0
          ],
          [
           "@anonymized_account @anonymized_account @anonymized_account @anonymized_account daj znać @anonymized_account o  zdjecie blokady",
           0
          ],
          [
           "@anonymized_account @anonymized_account Myślę, że po info o konferencji wielu osobom to przychodzi do głowy.",
           0
          ],
          [
           "@anonymized_account Koniecznie! Zapraszamy na spacer z kawką 😃",
           0
          ],
          [
           "@anonymized_account błąd logiczny, te pieniądze kiedyś były wasze, teraz już sa nasze i nic wam do tego towarzyszu",
           0
          ],
          [
           "RT @anonymized_account @anonymized_account błąd logiczny, te pieniądze kiedyś były wasze, teraz już sa nasze i nic wam do tego towarzyszu",
           0
          ],
          [
           "@anonymized_account Zależy jak na to spojrzeć. Z jednej strony akredytacja, z drugiej wyjazd za swoje $$$ 😉",
           0
          ],
          [
           "@anonymized_account @anonymized_account albo wygrywali 1:0 z Barceloną",
           0
          ],
          [
           "@anonymized_account @anonymized_account tylko nie Załuska.Nie potrzeba nam takich piłkarzy bez ambicji.",
           1
          ],
          [
           "@anonymized_account @anonymized_account Nic specjalnego. Można się domyślać, że pewnie pójdzie na wypożyczenie.",
           0
          ],
          [
           "Z Zagłębia Hładun i Czerwiński w składzie (porażka 1:2), a z Legii Carlitos na kapitanie (zmiana w przerwie). Co za seria 😂",
           0
          ],
          [
           "@anonymized_account co chwile o nim piszecie i gadacie jaka to porażka jak nie zostanie.A nie pamiętacie jak jeszcze niedawno otrzymanie licencji1/2",
           0
          ],
          [
           "@anonymized_account @anonymized_account Przecież TS dzierżawi ta ziemię umowa na 99 lat zgadza się czy nie?",
           0
          ],
          [
           "@anonymized_account Pyta się kiedy beda nowe okulary, bo juz chce wychodzić",
           0
          ],
          [
           "@anonymized_account Probierz szuka młodych Polaków pasuje jak ulał😉",
           0
          ],
          [
           "@anonymized_account Może pasuje do klucza francuskiego?🔧☺",
           0
          ],
          [
           "Pensja, kasa, dojenie, @anonymized_account ,ssanie kasy, ruchanie w meskie dupy, zawsze za pis, trudny teren, ciezkie warunki",
           1
          ],
          [
           "@anonymized_account Polska to nie napis na dropsie, uuuu, niedobrze, uuuuuuu",
           1
          ],
          [
           "@anonymized_account raczej ty się powinieneś jebnąć ale nie wiem czy to pomoże",
           1
          ],
          [
           "@anonymized_account Jak narazie to sobie możecie kupę zrobić. Albo hurtowo dać dupy pedofilów w sutannach, których publicznie bronicie.",
           1
          ],
          [
           "@anonymized_account Najlepiej w Polsce żeby legia miała pomoc :-)",
           0
          ],
          [
           "Ale mam chujowy humor przez to, że nie zdałam i jestem na siebie zła",
           1
          ],
          [
           "Szukam osób, które mają kontakt z rodziną gen. Bułak-Bałachowicza. Sprawa  prywatna.",
           0
          ],
          [
           "@anonymized_account Brawo skwk za komunikat pomimo braku zakazu czekałem na ta wiadomość co robić, bo na mecz bez dopingu niemyslalem iść",
           0
          ],
          [
           "@anonymized_account @anonymized_account A ty wieś kretynie CONTI jest Acta2 i czego dotyczy? Najpierw przeczytaj a potem się wypowiadaj.",
           1
          ],
          [
           "@anonymized_account Trąba ? Nie no ostro pojechałaś :D",
           0
          ],
          [
           "Beata #Mazurek w Sejmie na pytanie co myśli o pomyśle Kaczyńskiego o obniżkach wynagrodzeń: \\\"Ja nic nie myślę\\\". To słychać.",
           1
          ],
          [
           "RT @anonymized_account Beata #Mazurek w Sejmie na pytanie co myśli o pomyśle Kaczyńskiego o obniżkach wynagrodzeń: \\\"Ja nic nie myślę\\\". To słyc…",
           1
          ],
          [
           "Motocykle opuściły gniazda i kierują się na północ. Żonkile na przedmieściach to już tylko formalność. Wiosna! :-)",
           0
          ],
          [
           "@anonymized_account @anonymized_account 🕵 Jest tak zakonspirowany, że go nie widać. Fachowiec. \\n(Górny, prawy róg)",
           0
          ],
          [
           "@anonymized_account Kto mieczem wojuje od pochwy ginie @anonymized_account",
           1
          ],
          [
           "@anonymized_account W jednej z powtórek było to dobrze widać :))",
           0
          ],
          [
           "@anonymized_account Kochana nie ma po co bo później wszyscy się będą po to kleić 😂😂",
           0
          ],
          [
           "@anonymized_account @anonymized_account chyba nie miałeś się czego przyczepić, nie przesadzajmy :)",
           0
          ],
          [
           "@anonymized_account @anonymized_account Ale dlaczego głupi @anonymized_account  tłumaczy to jeszcze głupszemu @anonymized_account ?",
           1
          ],
          [
           "@anonymized_account Dzwoniłam się dowiadywać kiedy się można wprowadzać 😂nie wiedziałam ze takie problemy mogą być xd",
           0
          ],
          [
           "@anonymized_account Już pod koniec jazdy wymusilam na rondzie.... nie wiem jak to się stało, mój mózg miał zaćmienie czy coś a",
           0
          ],
          [
           "Nowe chodnikowe powiedzonko brzmi:\\n\\nPierdolisz jak Morawiecki, realy.\\n\\n@anonymized_account @anonymized_account \\n\\nHybryda głupoty.",
           1
          ],
          [
           "RT @anonymized_account Nowe chodnikowe powiedzonko brzmi:\\n\\nPierdolisz jak Morawiecki, realy.\\n\\n@anonymized_account @anonymized_account \\n\\nHybryda głupoty.",
           1
          ],
          [
           "Terminator X To The Edge Of Panic wykonawcy Public Enemy\\nhttps://t.co/Nqf1yFOyKg",
           0
          ],
          [
           "@anonymized_account Zaspana jestem jeszcze sorki XD",
           0
          ],
          [
           "@anonymized_account @anonymized_account No ja nie kojarze xD",
           0
          ],
          [
           "@anonymized_account Pies to czasem nawet pożera książki...",
           0
          ],
          [
           "Kiedy Christina wychodzi za mąż",
           0
          ],
          [
           "@anonymized_account @anonymized_account Zapewne ci, co grali przez większość rundy w CLJ i nie ponieśli ani jednej porażki.",
           0
          ],
          [
           "@anonymized_account @anonymized_account Jak będzie ta pioseneczka to przychodzę\\n\\nhttps://t.co/B6ak11mI4d",
           0
          ],
          [
           "@anonymized_account zamieszczanie takich zdjęć podczas gdy ja jestem na sucharach powinno być zabronione :)",
           0
          ],
          [
           "@anonymized_account @anonymized_account @anonymized_account A co trzeba zrobić w kwestii finansowania kampanii z funduszy UE przez Ziobrę?",
           0
          ],
          [
           "@anonymized_account W środku łamanie w stylu 2obiegu.",
           0
          ],
          [
           "jak ja się źle czulem jak byłem dzieckiem w  kościele to głow mala, szopka do kwadratu, nie mogłem tego wytrzymać",
           1
          ],
          [
           "@anonymized_account @anonymized_account @anonymized_account @anonymized_account jak wróce z pracy to też podejme wyzwanie ale tym razem bedzie skromnie :)",
           0
          ],
          [
           "@anonymized_account @anonymized_account @anonymized_account Jak pić to z klasą ;)",
           0
          ],
          [
           "@anonymized_account @anonymized_account Ty pajacu, zmień sobie herb na pusty łeb.",
           1
          ],
          [
           "@anonymized_account W rosji sa jakieś zawody",
           0
          ],
          [
           "@anonymized_account @anonymized_account Myślałem że to Twój ulubieniec 😂",
           0
          ],
          [
           "@anonymized_account @anonymized_account pewnie ranking Fifa bedzie decydowal",
           0
          ],
          [
           "@anonymized_account Łukaszewicz, co Wy tam palicie?",
           1
          ],
          [
           "@anonymized_account @anonymized_account @anonymized_account Leszku mój kochany, masz mózg wyprany",
           1
          ],
          [
           "@anonymized_account a ja współczuje zaślepienia.Wolę nie mieć Wolskiego niż robić kolejne długi @anonymized_account",
           1
          ],
          [
           "@anonymized_account @anonymized_account @anonymized_account od paru lat słysze o sponsorze więc tym bardziej szacunek że przez pare lat się nieujawnił...",
           0
          ],
          [
           "@anonymized_account Skoro Carrillo nie chce Sobola to tym bardziej nie będzie chciał Głowy. Chyba, że trener rzeczywiście odchodzi.",
           0
          ],
          [
           "@anonymized_account @anonymized_account @anonymized_account Zawsze bedą afery bo zawsze będa tacy l którzy kradną  i tacy u wladzy których to kręci",
           1
          ],
          [
           "@anonymized_account kot też się załapał na fotke, a raczej jego dupa :)",
           0
          ],
          [
           "@anonymized_account Szczerze? Trochę tak to wygląda, a i tak prędzej czy później ten bilans wychodzi na równo.",
           0
          ],
          [
           "@anonymized_account zaraz będą pisać że Wisła szkoli kiboli żeby potrafili maczetą wymachiwać :)",
           1
          ],
          [
           "*stoi przed nimi król gargulców*\\nbetty: to pewnie ethel\\n\\nXDDDDDDDDDDDDDD\\n#Riverdale #RiverdalePL",
           0
          ],
          [
           "RT @anonymized_account *stoi przed nimi król gargulców*\\nbetty: to pewnie ethel\\n\\nXDDDDDDDDDDDDDD\\n#Riverdale #RiverdalePL",
           0
          ],
          [
           "@anonymized_account No, to ja we własnej osobie",
           0
          ],
          [
           "@anonymized_account Słabo trzymałeś kciuki, bo podarował bramke Cracovii :)",
           0
          ],
          [
           "@anonymized_account Odstawiając narodowość na bok to ten skład jest przecież słabiutki.",
           1
          ],
          [
           "@anonymized_account @anonymized_account Piwnica bez okien, ty to masz dobrze",
           0
          ],
          [
           "Czuję się chora więc siedzę w domu w czapce",
           0
          ],
          [
           "@anonymized_account Juz myslałem że coś gorszego😁😁",
           0
          ],
          [
           "@anonymized_account @anonymized_account A gdzie Inferno napisał, że Wisła stawia na Polaków ?",
           0
          ],
          [
           "@anonymized_account akurat Tobie bliżej do Karolaka bo w większości Cię wycięli 😂 @anonymized_account @anonymized_account @anonymized_account @anonymized_account",
           1
          ],
          [
           "@anonymized_account Omg właśnie o nich myślałam",
           0
          ],
          [
           "@anonymized_account Tak na pewno nie będzie. Drużyna leci w środę.",
           0
          ],
          [
           "Cudzysłów, przecinek nie jestem ruskim trollem",
           0
          ],
          [
           "Biorąc pod uwagę, jakie dotąd mieliśmy losowania w Lidze Europy, to na ten finał w Baku w 2019 roku nie jesteśmy bez szans. 😁",
           0
          ],
          [
           "@anonymized_account @anonymized_account Fajnie, teraz zamiast przemowy muzyczka żeby nie było słychać odzewu publiki.",
           0
          ],
          [
           "@anonymized_account @anonymized_account Białystok, ulica Wierzbowa. Jak oni to zrobili, to jest zagadka.",
           0
          ],
          [
           "@anonymized_account Straszny gangster jak po wolności chodzi",
           0
          ],
          [
           "@anonymized_account To się nazywa uzależnienie xD",
           1
          ],
          [
           "@anonymized_account Info z ostatniej chwili barwy pogoni skrojone przez bandytów Z Krakowa.  Pomimo zakazu Wisła rządzi",
           1
          ],
          [
           "@anonymized_account @anonymized_account Pewnie tak bo Buchalik kontuzjowany.",
           0
          ],
          [
           "@anonymized_account to miało jakiś ciąg dalszy? 😉",
           0
          ],
          [
           "vans do chuja przestań robić choć na chwilę zajebiste kolekcje bo w moim portfelu pieniądzen't",
           0
          ],
          [
           "RT @anonymized_account vans do chuja przestań robić choć na chwilę zajebiste kolekcje bo w moim portfelu pieniądzen't",
           0
          ],
          [
           "@anonymized_account @anonymized_account @anonymized_account @anonymized_account 12 mld nie mam zamiaru dyskutowa możejki i skoki",
           0
          ],
          [
           "@anonymized_account @anonymized_account Alves był bardzo w stylu Guardioli 😛",
           0
          ],
          [
           "@anonymized_account Co ty żresz, że ci tak pierdolnęło?",
           1
          ],
          [
           "@anonymized_account Bo w \\\"10\\\" już grają przez Boatenga ;)",
           0
          ],
          [
           "@anonymized_account @anonymized_account Trudno być pewnym, gdy stoperzy mogą zagrać tylko lagę do przodu, bo środka nie mamy.",
           1
          ],
          [
           "@anonymized_account @anonymized_account @anonymized_account No właśnie, nie było i dlatego patologia została stosownie potraktowana.",
           1
          ],
          [
           "@anonymized_account skoro jest dno dna to może skupmy się na tych od których coś wymagamy",
           1
          ],
          [
           "@anonymized_account Widocznie to zbyt trudna miłość na Walentynki 😁",
           0
          ],
          [
           "@anonymized_account Sarapata była w solarium ?",
           0
          ],
          [
           "@anonymized_account Woda chyba zimna bo nikogo w wodzie ;-)",
           0
          ],
          [
           "@anonymized_account ej, dobra, weźmie ten chrzest czy nie? xd",
           0
          ],
          [
           "@anonymized_account @anonymized_account Lub bezpośredni awans, bo nie wiadomo co ze Stomilem, a przede wszystkim Bytovią :)",
           0
          ],
          [
           "@anonymized_account @anonymized_account byłam przy tym, więc zapewniam 😉",
           0
          ],
          [
           "@anonymized_account @anonymized_account @anonymized_account Tylko ty masz problem z rzecznikiem, więc zastanów się w kim tak naprawdę jest problem? 🤔",
           1
          ],
          [
           "@anonymized_account Piątek  też powinien być wolny, ina 100%",
           0
          ],
          [
           "Wassermannówna kłamie, mówiąc, że „przyszła do polityki”. Ona przyjechała na trumnie ojca.",
           1
          ],
          [
           "RT @anonymized_account Wassermannówna kłamie, mówiąc, że „przyszła do polityki”. Ona przyjechała na trumnie ojca.",
           1
          ],
          [
           "@anonymized_account Już dwa lata temu powinni wygrac Euro.",
           1
          ],
          [
           "@anonymized_account Kibice innych drużyn doceniają i trochę zazdroszczą :)",
           0
          ],
          [
           "@anonymized_account @anonymized_account na 100% jest zmiana Śląsk - Jaga i chyba została już potwierdzona.",
           0
          ],
          [
           "@anonymized_account W tym czasie był z rodzinką na wakacjach w Gdańsku Brzeźnie to musiał zdalnie podtrzymywać związek",
           0
          ],
          [
           "jak Patryk Jaki wygra wybory w Warszawie oczyści stolicę z byłych UBECKICH funkcjonariuszy ! #woronicza17",
           1
          ],
          [
           "RT @anonymized_account jak Patryk Jaki wygra wybory w Warszawie oczyści stolicę z byłych UBECKICH funkcjonariuszy ! #woronicza17",
           1
          ],
          [
           "Szkoda, że przez wymysły Mendesa taki Ruben Neves się marnuje w Wolverhampton.",
           1
          ],
          [
           "@anonymized_account @anonymized_account Nie wiem, aczkolwiek jego tata mówił, że widziałby Tomasa w Jagiellonii. 😜",
           0
          ],
          [
           "Ja i moje psiapsi gramy w te gry na snapie i nie mogę przestać się śmiać z naszych min XD",
           0
          ],
          [
           "@anonymized_account Kolar niestety ten sam poziom. Chyba trzeba będzie liczyć na skuteczność Boguskiego i Małeckiego...",
           1
          ],
          [
           "Rząd zaostrzy kary za znęcanie się nad zwierzętami. Od 3-5 lat więzienia; obowiązkowa nawiązka do 100 tys zł. Więcej jutro w @anonymized_account",
           0
          ],
          [
           "RT @anonymized_account Rząd zaostrzy kary za znęcanie się nad zwierzętami. Od 3-5 lat więzienia; obowiązkowa nawiązka do 100 tys zł. Więcej jutro w @anonymized_account",
           0
          ],
          [
           "@anonymized_account @anonymized_account @anonymized_account czuje że Brlek prędzej czy później odpali",
           0
          ],
          [
           "@anonymized_account @anonymized_account To, że figurowal jako zawodnik Man City nie znaczy, że będzie potrafił grać.",
           0
          ],
          [
           "@anonymized_account @anonymized_account Oczywiście, że ma rację. Chodzi tylko o to, że to jest drużyna o klasę lub dwie lepsza.",
           0
          ],
          [
           "@anonymized_account @anonymized_account Nie miał prawa stać za linią, tak prawdę mówiąc 😄 Ale w kamerach to bardzo ładnie wyglądało.",
           0
          ],
          [
           "@anonymized_account @anonymized_account @anonymized_account Ty to robisz przede wszystkim, co widać po pierwszym tweecie.",
           0
          ],
          [
           "Ostatnio czuje się tak samotna i smutna ze aż sama się dziwie",
           0
          ],
          [
           "@anonymized_account Przecież to legionista to komu ma życzyć mistrza.Nie wiedziałeś ?",
           1
          ],
          [
           "@anonymized_account @anonymized_account @anonymized_account dobrze by mu to zrobiło.Za słaby na Wisłe.",
           0
          ],
          [
           "@anonymized_account Hehehehehe. Róża nawet niezła była.I co z niej wyrosło!😁😁😁",
           0
          ],
          [
           "@anonymized_account jedni wynajmują agencje do komentarzy a inni dziennikarzy",
           0
          ],
          [
           "RT @anonymized_account @anonymized_account jedni wynajmują agencje do komentarzy a inni dziennikarzy",
           0
          ],
          [
           "@anonymized_account pewnie jest mniej błędów bo i liczb jest mniej bo zrezygnowali ze statystyk zawodników sezon po sezonie ;)",
           0
          ],
          [
           "@anonymized_account Krzyż przeciw prezydenturze, krzyż obłędu",
           1
          ],
          [
           "@anonymized_account @anonymized_account Sorry ale dzisiaj nie ma opozycji. Jest grupa cwaniaków chcących odzyskać stołki.",
           0
          ],
          [
           "na kijowe życie najlepsza wódeczka",
           0
          ],
          [
           "Co na to Herod śmierdziuszka @anonymized_account",
           0
          ],
          [
           "@anonymized_account Brakuje mu dystansu, za bardzo się egzaltuje, a jałowe szyderstwa już mi się przejadły",
           0
          ],
          [
           "@anonymized_account Wisła chyba ważniejsza od jakiejś Delle Donne :)",
           0
          ],
          [
           "@anonymized_account Nawet jeśli to fejk, to zgodnie z powiedzeniem -w każdej plotce jest ziarnko prawdy. Z tym że w tym przypadku raczej ziarno😁😁",
           0
          ],
          [
           "@anonymized_account Tez wczoraj byłam na randce która trwała cały dzień Xd",
           0
          ],
          [
           "@anonymized_account A kierowca autobusu wstał i zaczął klaskać ?",
           0
          ],
          [
           "@anonymized_account @anonymized_account Jak by nie było, aby było miło, teraz sie cieszysz",
           0
          ],
          [
           "@anonymized_account No to może warto, najwyżej Cię oleje, co jest oczywiście nie do przyjęcia 😂 kto nie ryzykuje ten nie pije szampana kochana!",
           0
          ],
          [
           "@anonymized_account @anonymized_account Trzymali się za ręce, waleczni i sprawiedliwi",
           0
          ],
          [
           "Dudelange niby takie cwaniaki, a ciekawe czy byliby tacy mądrzy w dwuboju rzut młotem-skoki narciarskie",
           0
          ],
          [
           "RT @anonymized_account Dudelange niby takie cwaniaki, a ciekawe czy byliby tacy mądrzy w dwuboju rzut młotem-skoki narciarskie",
           0
          ],
          [
           "@anonymized_account @anonymized_account @anonymized_account głównie @anonymized_account który często o tym wspomina",
           0
          ],
          [
           "Kto się jeszcze zaczepia na fejsie....",
           0
          ],
          [
           "@anonymized_account @anonymized_account Z tymi wizjami to może być problem. Proponuję sprawdzić po czym te wizję są",
           0
          ],
          [
           "@anonymized_account Jaki hejt.Hejt to jest na Tuska, Komorowskiego, przecież to nie Polacy, śmierć wrogom ojczyzny. Obudź się",
           1
          ],
          [
           "Czy Antek już ogłosił, że na lewym skrzydle naszej obrony był wybuch?",
           0
          ],
          [
           "RT @anonymized_account Czy Antek już ogłosił, że na lewym skrzydle naszej obrony był wybuch?",
           0
          ],
          [
           "@anonymized_account jest to dobra informacja dla tych co okradali  Polskę od 89  roku  Irlandia da im wolność",
           0
          ],
          [
           "RT @anonymized_account @anonymized_account jest to dobra informacja dla tych co okradali  Polskę od 89  roku  Irlandia da im wolność",
           0
          ],
          [
           "Ale przecież #Polexit jest dobry. Założycie koszulki z orłem i będziecie żryć ziemniaki i wungiel 😇",
           1
          ],
          [
           "RT @anonymized_account Ale przecież #Polexit jest dobry. Założycie koszulki z orłem i będziecie żryć ziemniaki i wungiel 😇",
           1
          ],
          [
           "@anonymized_account @anonymized_account @anonymized_account @anonymized_account Wywalił Ronaldo w Superpucharze :)",
           0
          ],
          [
           "@anonymized_account @anonymized_account Bo sama jest niepełnosprawna... Umysłowo.😁😁",
           1
          ],
          [
           "Halo Kraków, kogo byście uznali za gwiazdę/najważniejszego zawodnika obecnej Wisły? 😉",
           0
          ],
          [
           "@anonymized_account @anonymized_account Ssą wszystkimi otworami z krwi biało czerwonej",
           0
          ],
          [
           "@anonymized_account Wy się zjednoczyliście z faszystami z połowy Europy. Kpromitacja level hard.",
           1
          ],
          [
           "@anonymized_account @anonymized_account @anonymized_account Znowu on ? 😂 to przy okazji niech się odniesie do słów Sarary 😂",
           0
          ],
          [
           "@anonymized_account Dotarlas do orełka?😁😁 W tym roku niestety tyłko jeden😞😞",
           0
          ],
          [
           "@anonymized_account @anonymized_account Mam rozumieć, że to mapa nasycenia krajów zboczeńcami w sutannach.",
           1
          ],
          [
           "@anonymized_account @anonymized_account @anonymized_account A Panu nie brakuje czasem art. 87 pkt1?",
           0
          ],
          [
           "@anonymized_account Czy to oknoplus ladowal kiedyś",
           0
          ],
          [
           "@anonymized_account @anonymized_account 5 punktów na 21 w rundzie finałowej...",
           0
          ],
          [
           ".@anonymized_account @anonymized_account Będziemy realizować przekop Mierzei Wiślanej \\n#wieszwiecej  \\nhttps://t.co/zuCXxG1GUr",
           0
          ],
          [
           "RT @anonymized_account .@anonymized_account @anonymized_account Będziemy realizować przekop Mierzei Wiślanej \\n#wieszwiecej  \\nhttps://t.co/zuCXxG1GUr",
           0
          ],
          [
           "@anonymized_account Bolek wyluzuj bo jesteś sercowy.",
           0
          ],
          [
           "@anonymized_account Śmiej się  śmiej. To wcale nie jest śmieszne.",
           0
          ],
          [
           "I hope that autumn will heal me",
           0
          ],
          [
           "Jutro po marszu, ale jeszcze kilka dni beda chodzić naćpani",
           0
          ],
          [
           "@anonymized_account Nie ma jak lans nierobie za pieniądze podatników.",
           0
          ],
          [
           "@anonymized_account A to ja przepraszam, nie miałam wczoraj czasu na TT 😎",
           0
          ],
          [
           "11 tysięcy miejsc zajętych, dzisiaj prawie 2000 biletów sprzedanych. Z tej okazji za chwilę nagroda 😁",
           0
          ],
          [
           "@anonymized_account @anonymized_account To ja chyba tylko kolory porównywałem",
           0
          ],
          [
           "Ej słuchajcie co zajebistego wymyśliłam \\n\\nJaki jest najlepszy argument bonnie z pamiętników wampirów? \\n\\nBo nnie",
           0
          ],
          [
           "RT @anonymized_account Ej słuchajcie co zajebistego wymyśliłam \\n\\nJaki jest najlepszy argument bonnie z pamiętników wampirów? \\n\\nBo nnie",
           0
          ],
          [
           "@anonymized_account Im więcej problemów w państwie tym więcej niewykonanych wyroków",
           0
          ],
          [
           "Widziałam śliczną sukienkę ale nie było mniejszego rozmiaru niż 36 i była za duża danmm",
           0
          ],
          [
           "@anonymized_account @anonymized_account Polskę to kompromitują tacy jak ty. Oszołomie.",
           1
          ],
          [
           "@anonymized_account 😁😁😁😁😁😁😁😁 @anonymized_account teraz to mnie Pani ubawiła tym paskiem. A widziała Pani swoją szyję?",
           1
          ],
          [
           "@anonymized_account @anonymized_account @anonymized_account nie, ale jeśli ktoś wypomina Levadie to niech bedzie obiektywny i wspomni też inny wynik.",
           0
          ],
          [
           "@anonymized_account O naszych meczach z Rio Ave można powiedzieć podobnie 😉",
           0
          ],
          [
           "W sumie to polubiłam już zajęcia z konstrukcji przekazu reklamowego i prowadzący jest świetny",
           0
          ],
          [
           "Ej chciałabym do samorządu w sumie hahahaha",
           0
          ],
          [
           "@anonymized_account Tez nie mam snapa hahahahaha",
           0
          ],
          [
           "@anonymized_account Ileż można o tym Wiluszu ?...",
           0
          ],
          [
           "@anonymized_account A po polsku to jak to będzie?",
           0
          ],
          [
           "@anonymized_account @anonymized_account A skąd on wie jak jest w innych klubach ? Niech się wypowiada o klubach w których grał.",
           0
          ],
          [
           "I ta Wisła, która się bawi z każdym w ofensywie, w Białymstoku miała pół sytuacji.",
           0
          ],
          [
           "@anonymized_account @anonymized_account @anonymized_account Zapytalem,  szwagierka mówi że ma konto w powerbanku",
           0
          ],
          [
           "@anonymized_account @anonymized_account Mięciuteńki straszliwie. Tam były ręce na ciele, a nie jakieś szarpanie. Tylko że nie do VAR-u.",
           0
          ],
          [
           "@anonymized_account @anonymized_account Pajacu, jak podajesz przepis to masz go znać na pamięć. Inaczej robią z siebie idiotę tak jak teraz.",
           1
          ],
          [
           "@anonymized_account Zdejmujesz Dziadkowi okulary, zakładasz Babci i jestem \\n😎",
           0
          ],
          [
           "@anonymized_account @anonymized_account @anonymized_account w końcu jakiś ciekawy wywiad :)",
           0
          ],
          [
           "@anonymized_account jak tam widziałeś czerwoną to rzeczywiście wyjdź",
           0
          ],
          [
           "@anonymized_account skoro zarząd pozwala na takie cyrki to niestety potrwa to lata",
           0
          ],
          [
           "@anonymized_account @anonymized_account Cieszmy się że drużyna dalej gra w lidze.Nie zawsze można mieć najmocniejszy skład w lidze :)",
           0
          ],
          [
           "@anonymized_account @anonymized_account @anonymized_account Znawca wszystkiego czyli niczego od bydła po powidło",
           0
          ],
          [
           "@anonymized_account 😂😂😂😂😂😂😂😂😂😂😂😂😂🤣🤣🤣🤣🤣🤣🤣🤣🤣🤣🤣🤣🤣😂😂😂😂😂😂😂🤣🤣🤣🤣🤣🤣🤣🤣🤣🤣🤣🤣🤣🤣🤣😂😂😂😂😂😂😂😂😂😂😂😂😂😂😂😂\\n\\nSłów odpowiednich żaden słownik nie zawiera",
           0
          ],
          [
           "@anonymized_account Vacek, Putnocky, Nielsen.Widzę że biorą się za odmładzanie składu :)",
           0
          ],
          [
           "@anonymized_account @anonymized_account @anonymized_account Ty się chyba debilu nie słyszysz, ty tekstów to się po nocach uczysz czy masz słuchawkę w uchu?",
           1
          ],
          [
           "@anonymized_account Lub kibiców w Gliwicach 😜",
           0
          ],
          [
           "@anonymized_account No właśnie była lepsza 😜",
           0
          ],
          [
           "@anonymized_account @anonymized_account @anonymized_account @anonymized_account No weź nie rob takiej miny",
           0
          ],
          [
           "@anonymized_account @anonymized_account @anonymized_account Szczekać to mogą tacy jak ty #delegalizacja",
           1
          ],
          [
           "@anonymized_account Bo jest Głowacki to teraz czas na obrońców",
           0
          ],
          [
           "@anonymized_account @anonymized_account Nie ma takiej opcji. Oszust i kłamca w roli głównej - tego jeszcze świat nie widział.",
           0
          ],
          [
           "@anonymized_account Nie jest złe! Chodzisz w szpilkach? Cokolwiek byś nie założyła to szpilki choć trochę pomogą xd",
           0
          ],
          [
           "@anonymized_account Jakby był definitywny to trochę slabo 😂",
           0
          ],
          [
           "@anonymized_account a co się tak pieniedzmi nagle przejmujesz ? Jak chcialas rozwiazania kontraktu z Zohnova czy Pop to kasa juz nie wazna ?",
           0
          ],
          [
           "@anonymized_account Oskar Łąk definitywnie odszedł z Wisły ?\\n\\nhttps://t.co/o0psVgZBUl",
           0
          ],
          [
           "@anonymized_account gratulacje ! Dzięki za dotrzymanie słowa że dzisiaj koniec :) Zasłużyłyście !",
           0
          ],
          [
           "Jezu, co zagrali Suarez i Cavani.",
           0
          ],
          [
           "@anonymized_account Na pewno łatwiej by było znaleźć, określić i poprawić problemy",
           0
          ],
          [
           "@anonymized_account Można, dlatego nasz poziom piłkarski był bardzo słaby wczoraj.",
           0
          ],
          [
           "@anonymized_account Wybacz, ale nie sądzę, aby głównym problemem kadry były złe powołania na numerach 21-23 w kadrze.",
           0
          ],
          [
           "jeśli nie mogę wyglądać tak jak\\n•perrie edwards\\n•troian bellisario\\nto what’s the point of existing?",
           0
          ],
          [
           "RT @anonymized_account jeśli nie mogę wyglądać tak jak\\n•perrie edwards\\n•troian bellisario\\nto what’s the point of existing?",
           0
          ],
          [
           "@anonymized_account Nadal i Djoković to się w sumie cieszą, bo ten, kto w ich meczu wygra, będzie praktycznie zwycięzcą turnieju.",
           0
          ],
          [
           "@anonymized_account @anonymized_account Mówisz że ONR lize doope😂",
           1
          ],
          [
           "@anonymized_account @anonymized_account @anonymized_account wyśle im jutro list od kibiców cracovii że chcą odejścia Filipiaka.Ciekawe czy też opublikują.",
           0
          ],
          [
           "@anonymized_account @anonymized_account A kiedy zaczniecie zbiórki na krówki i świnki?",
           1
          ],
          [
           "@anonymized_account No to skąd wiedziałeś czy stopklatka jest zrobiona w odpowiednim momencie ? Nie kompromituj się",
           0
          ],
          [
           "@anonymized_account @anonymized_account @anonymized_account Iza - dziewczyna, cud, miód, malina 😁",
           0
          ],
          [
           "Zaraz pół mojego instagrama i cały Twitter będzie na koncercie Eda.... i jestem jeszcze ja............",
           0
          ],
          [
           "@anonymized_account Z tamtego Adama dziś już nic nie zostało. Ale czepianie się go za brata i ojca osobiście nie popieram",
           0
          ],
          [
           "@anonymized_account @anonymized_account Plujecie na Polskę to my będziemy pluć na was.",
           1
          ],
          [
           "RT @anonymized_account @anonymized_account @anonymized_account Plujecie na Polskę to my będziemy pluć na was.",
           1
          ],
          [
           "@anonymized_account Może też być kołderka 😍",
           0
          ],
          [
           "@anonymized_account Dlaczego średnio? W decydujacym o awansie Widzewa czerwcu był piłkarzem miesiąca",
           0
          ],
          [
           "@anonymized_account błedem było ściaganie zawodników których nas niestać byleby osiągnąć cel",
           0
          ],
          [
           "@anonymized_account Każdy kto choć trochę się orientuje w tych sprawach wie, że na Hutniku nie ma oświetlenia...",
           0
          ],
          [
           "@anonymized_account Maliniak dal reklame za dormo ponoć caly marsz niepodleglosci ubrali, prawda to redisbad?",
           0
          ],
          [
           "@anonymized_account niech wejdzie na luzie i pewnie tak żeby nie musiał zostawiać dokumentu, milion osób tak przemyciłam",
           0
          ],
          [
           "@anonymized_account Cie zaraz piznę, jak nie zaczniesz myśleć",
           1
          ],
          [
           "@anonymized_account @anonymized_account Bo byliśmy bez formy, to oczywiste. Przecież to też napisałem.",
           0
          ],
          [
           "@anonymized_account jest juz aktualizacja składów czy jakis dodatek sciągałeś ? :)",
           0
          ],
          [
           "@anonymized_account Komentarz raz a dwa słysząc trybuny zastanawiam się czy ten kto wymyślił mecze w pn obejrzał choć jeden",
           1
          ],
          [
           "@anonymized_account @anonymized_account @anonymized_account @anonymized_account @anonymized_account @anonymized_account Mam nadzieję że nigdy więcej. Czekam na rychłą delegalizację.",
           0
          ],
          [
           "@anonymized_account A Ty nigdy nie robisz dwóch rzeczy jednocześnie? Np. idziesz i żujesz gumę.",
           1
          ],
          [
           "@anonymized_account @anonymized_account O 11.00 wielkie obtrabienie sukcesu...",
           0
          ],
          [
           "@anonymized_account @anonymized_account Ty kurwa @anonymized_account nie pierdol w tv bo sie żygać chce",
           1
          ],
          [
           "@anonymized_account problemem jest to że jak sobie coś ubzdurasz to myślisz że zawsze masz racje bo jesteś wszechwiedzący@anonymized_account @anonymized_account",
           1
          ],
          [
           "@anonymized_account Taki Błaszczykowski tez za co do repry?  Żeby niebylo ze wbijam szpilki do legi?",
           0
          ],
          [
           "Często wracam do tego kawałka. @anonymized_account",
           0
          ],
          [
           "@anonymized_account A pisdzielstwo, szczury, gady, plazy popromienne, azbestowe?",
           1
          ],
          [
           "omg ale jestem wyjebana po tym wykładzie",
           0
          ],
          [
           "@anonymized_account @anonymized_account jak Zarycki jest Twoim informatorem to te info można w kiblu spuścić",
           1
          ],
          [
           "@anonymized_account @anonymized_account Ale Karolina ostatnio była w TVP 😜",
           0
          ],
          [
           "#NAME?",
           0
          ],
          [
           "@anonymized_account @anonymized_account U mnie też wyświetla właściwe kolory 😊",
           0
          ],
          [
           "@anonymized_account @anonymized_account Najpierw kasza, później przyjemności, a kiedyś wolność, ale wy klękacie bez obawy zostanie i tak bez was",
           1
          ],
          [
           "@anonymized_account @anonymized_account @anonymized_account No oboje Państwo wyglądacie jak rodzeństwo. I tacy żółci oboje.",
           1
          ],
          [
           "@anonymized_account No kurwa @anonymized_account ty masz nie rządzić, madz nie rządzić",
           1
          ],
          [
           "Yerri Mina - złota piłka 😁",
           0
          ],
          [
           "@anonymized_account jeszcze nie mam planu wykonania ;-)",
           0
          ],
          [
           "@anonymized_account Śląsk Wrocław ma jakiś drugi podmiot, że wystawia drugi zespół w barażach?",
           0
          ],
          [
           "@anonymized_account personalnie do tej Pani, przyjrzyj się sobie @anonymized_account @anonymized_account , @anonymized_account @anonymized_account",
           1
          ],
          [
           "Nie wiem, jak Barcelona i Real otrząsną się po utracie tak ważnych piłkarzy, jak Paulinho i Cristiano Ronaldo.",
           0
          ],
          [
           "Polska zrealizowala nasze cele w UE na szczycie z nawiązką. Podajcie dalej RT koniecznie potrzebne - dziękuję😊\\nhttps://t.co/OzUaePZLpY",
           0
          ],
          [
           "RT @anonymized_account Polska zrealizowala nasze cele w UE na szczycie z nawiązką. Podajcie dalej RT koniecznie potrzebne - dziękuję😊\\nhttps://t.co/Oz…",
           0
          ],
          [
           "@anonymized_account @anonymized_account @anonymized_account A my nie mamy helikopterów, rakiet, łodzi podwodnych a mamy WOT w którym ja biegam",
           0
          ],
          [
           "@anonymized_account @anonymized_account A czego oczekiwałeś ? Przedłużą z kimś kontrakt to poinformują",
           0
          ],
          [
           "@anonymized_account Jeszcze Podolski od jakiegoś czasu.",
           0
          ],
          [
           "Przepraszamy. Nie wpadliśmy na to, że pokazując środkowy palec narodowi, który - ponad podziałami, czci #PW1944, możemy kogoś obrazić. Sorki",
           0
          ],
          [
           "@anonymized_account ahhh myślałam, że na jakieś innej stronie",
           0
          ],
          [
           "@anonymized_account Źle... Miałeś napisać, że nie możesz więcej zdradzić :(",
           0
          ],
          [
           "@anonymized_account Pan w tle, z lewej, to z mopem zasuwa? 🖒",
           0
          ],
          [
           "Czy naprawdę trzeba publicznie przyznawać się do nieprzygotowania do meczu, drodzy panowie komentatorzy? (kwestia Sheridana)",
           1
          ],
          [
           "Na tt te beznadziejne gadki o niczym, to już wolę sam ze sobą",
           1
          ],
          [
           "@anonymized_account Pamiętaj, ze ja daleko do ciebie nie mam 😂",
           1
          ],
          [
           "@anonymized_account Pomysł sobie ze ja oblałam bo z pełna świadomością wjebalam się na rondo XD widzisz to taki mały błąd, Ew",
           0
          ],
          [
           "@anonymized_account Jest tej chołoty tutaj całkiem sporo. Napewno się udzielają.",
           1
          ],
          [
           "@anonymized_account Hejka, hejka, sejonarka w czwartek o 11 juz do domku",
           0
          ],
          [
           "@anonymized_account @anonymized_account Mistrz, człowiek mem jedyny na świecie",
           0
          ],
          [
           "@anonymized_account @anonymized_account @anonymized_account York czy Leszek Miller? :)",
           0
          ],
          [
           "@anonymized_account Kiedys kazdy kopniak bez piłki = czerwona, a jeśli to było tylko położenie ręki na głowę, to nie mamy o czym rozmawiac :)",
           0
          ],
          [
           "Morawieckiemu coś nie idzie w Namysłowie. Teraz jako były prezes BZK WBK przedstawia się jaki ten, który zwalcza \\\"zachodnie korporacje\\\".",
           0
          ],
          [
           "RT @anonymized_account Morawieckiemu coś nie idzie w Namysłowie. Teraz jako były prezes BZK WBK przedstawia się jaki ten, który zwalcza \\\"zacho…",
           0
          ],
          [
           "@anonymized_account No widzisz, a zwycięską asystę w tym meczu zanotował Griezmann. MVP = najbardziej wartościowy zawodnik :)",
           0
          ],
          [
           "@anonymized_account do domu bo ci rózga dupę @anonymized_account ty mały  @anonymized_account",
           1
          ],
          [
           "Jak go pierwszy raz usłyszałam to miałam ciarki na całym ciele",
           0
          ],
          [
           "@anonymized_account kibice nigdy nie pozwolą na to żeby po raz kolejny był trenerem",
           0
          ],
          [
           "Teraz zarykam nos i mowie \\\"cała polska z was sie śmieje, komuniści i zlodzieje,",
           1
          ],
          [
           "@anonymized_account Jego tata tłumaczył konferencję przy okazji meczu z Rio Ave w Vila do Conde :)",
           0
          ],
          [
           "@anonymized_account a wyśmiewanie Lionela M. było po skazaniu go za oszustwa podatkowe ? bo jakoś przeoczyłem",
           0
          ],
          [
           "@anonymized_account @anonymized_account @anonymized_account życzę Gatcie mistrza bo zasługują na to grając 2 sezony na wysokim poziomie.",
           0
          ],
          [
           "@anonymized_account Plakat widzę tak @anonymized_account z  @anonymized_account wymiana spojrzeń  a @anonymized_account na kolanach liże ich po stopach",
           0
          ],
          [
           "@anonymized_account Pana zdanie nie interesuje Polaków ❗\\nWypchaj się Pan niemiecką, śmierdzącą onucą ❗",
           1
          ],
          [
           "RT @anonymized_account @anonymized_account Pana zdanie nie interesuje Polaków ❗\\nWypchaj się Pan niemiecką, śmierdzącą onucą ❗",
           1
          ],
          [
           "@anonymized_account @anonymized_account Mógł, ale jakoś nie chce mi się wierzyć, że tak to wyglądało.",
           0
          ],
          [
           "em ok wątek Jerzego i Zuzy w Przyjaciółkach to najlepsze co tam było kiedykolwiek",
           0
          ],
          [
           "RT @anonymized_account @anonymized_account Giertych: myślę, że myślę.",
           0
          ],
          [
           "Ostatnio się zrobiłam polityczna chyba studia weszły mi za mocno",
           0
          ],
          [
           "@anonymized_account Badziewny zespół, a i tak Anglicy byli o krok od straty punktów :)",
           1
          ],
          [
           "@anonymized_account nawet pasy to dla was za duże wyzwanie co widać po twoim profilowym.Mistrzowie opraw.",
           1
          ],
          [
           "@anonymized_account nie chodziło mi o to że się cieszyłeś z upadku Wisły tylko że masz czarny humor :) że się z Wisły na Chojnice przerzuciłem :)",
           0
          ],
          [
           "Ta drużyna powstała za czasów PO-PSL.",
           0
          ],
          [
           "RT @anonymized_account Ta drużyna powstała za czasów PO-PSL.",
           0
          ],
          [
           "@anonymized_account Hołd to się oddaje bohaterom....",
           0
          ],
          [
           "@anonymized_account @anonymized_account  a co ma procent zapelnienia pojemnosci do frekwencji ? Po za tym co to jest 50% na takim malym stadionie ?",
           0
          ],
          [
           "Spółka srebrna kapitał  7 mln,  w zarządzie sekretarka i kierowca Jarkacza",
           0
          ],
          [
           "@anonymized_account Haha  a ilu ty zapraszasz do studia co pierd...takie głupoty...",
           1
          ],
          [
           "RT @anonymized_account @anonymized_account Haha  a ilu ty zapraszasz do studia co pierd...takie głupoty...",
           1
          ],
          [
           "Kto chce zrobić ze mna tea party??",
           0
          ],
          [
           "@anonymized_account Ale za to wystąpił równie błyskotliwy,inteligentny, merytoryczny,bystry poseł Kieeerwiiinski!!!",
           1
          ],
          [
           "@anonymized_account No gdzie, wszystko zależało od Lecha w ostatniej kolejce :D",
           0
          ],
          [
           "Moja morda to takie spierdolenie ze zaraz rykne",
           0
          ],
          [
           "RT @anonymized_account Moja morda to takie spierdolenie ze zaraz rykne",
           0
          ],
          [
           "@anonymized_account @anonymized_account No w różnych miejscach ludzie seks uprawiają. Dajcie spokój...",
           0
          ],
          [
           "@anonymized_account Ok boli, boli. Czarne katabasy, mordercy irlandzkich kobiet i sierot do kruchty i pokutować do końca życia za swoje występki.",
           1
          ],
          [
           "Czemu żaden tramwaj nie jedzie wtf",
           0
          ],
          [
           "@anonymized_account Tak, statystyki to kłamstwa. Za to wyciągnięcie jednej sytuacji z 90 minutowego meczu to bezcenny dowód.",
           0
          ],
          [
           "@anonymized_account @anonymized_account Zamiast tego można znaleźć grafiki na różnych ekranach / telebimach w mieście.",
           0
          ],
          [
           "@anonymized_account Niby sami świnie, a nic nie wiedzą",
           1
          ],
          [
           "@anonymized_account Ale co to ma do Mystka?",
           0
          ],
          [
           "@anonymized_account Serio chcecie cichego stadionu ?",
           0
          ],
          [
           "Co to miało być? 😂",
           0
          ],
          [
           "@anonymized_account tego się niespodziewałem po Tobie... Zawiodłeś nas :D @anonymized_account",
           1
          ],
          [
           "@anonymized_account @anonymized_account Wiem, ale prezentację mogli zrobić bez naklejek.",
           0
          ]
         ],
         "hovertemplate": "Dim_1=%{x}<br>Dim_2=%{y}<br>text=%{customdata[0]}<br>label=%{marker.color}<extra></extra>",
         "legendgroup": "",
         "marker": {
          "color": [
           0,
           0,
           1,
           0,
           0,
           0,
           0,
           0,
           0,
           1,
           0,
           0,
           0,
           1,
           0,
           0,
           0,
           0,
           0,
           0,
           0,
           1,
           0,
           0,
           0,
           0,
           0,
           0,
           0,
           0,
           0,
           0,
           0,
           0,
           0,
           0,
           0,
           1,
           0,
           1,
           0,
           0,
           0,
           1,
           1,
           0,
           0,
           1,
           0,
           0,
           0,
           0,
           0,
           1,
           0,
           0,
           0,
           1,
           0,
           0,
           0,
           0,
           0,
           0,
           0,
           0,
           0,
           0,
           0,
           0,
           0,
           0,
           0,
           1,
           0,
           1,
           0,
           0,
           0,
           0,
           0,
           0,
           0,
           0,
           0,
           0,
           0,
           1,
           1,
           0,
           0,
           0,
           0,
           1,
           0,
           1,
           0,
           0,
           0,
           0,
           1,
           1,
           1,
           0,
           0,
           0,
           0,
           0,
           1,
           0,
           0,
           0,
           1,
           1,
           1,
           0,
           1,
           1,
           0,
           0,
           0,
           0,
           0,
           0,
           0,
           0,
           1,
           1,
           1,
           0,
           0,
           0,
           0,
           1,
           1,
           0,
           1,
           0,
           0,
           0,
           1,
           1,
           0,
           1,
           1,
           1,
           0,
           0,
           0,
           0,
           0,
           0,
           0,
           1,
           1,
           0,
           1,
           0,
           0,
           0,
           0,
           1,
           0,
           0,
           1,
           1,
           0,
           1,
           0,
           0,
           1,
           1,
           0,
           0,
           0,
           0,
           0,
           1,
           0,
           1,
           1,
           0,
           0,
           0,
           0,
           0,
           1,
           1,
           1,
           0,
           0,
           0,
           0,
           1,
           0,
           0,
           0,
           1,
           0,
           0,
           0,
           0,
           0,
           0,
           0,
           0,
           0,
           0,
           0,
           0,
           0,
           1,
           0,
           0,
           0,
           0,
           1,
           0,
           0,
           0,
           0,
           0,
           0,
           0,
           0,
           0,
           1,
           0,
           1,
           1,
           0,
           0,
           0,
           0,
           0,
           0,
           0,
           1,
           1,
           0,
           0,
           1,
           1,
           1,
           1,
           0,
           1,
           1,
           0,
           0,
           0,
           0,
           1,
           0,
           0,
           0,
           0,
           1,
           0,
           0,
           0,
           0,
           0,
           0,
           0,
           0,
           1,
           1,
           0,
           1,
           1,
           1,
           1,
           0,
           0,
           0,
           0,
           0,
           0,
           0,
           0,
           0,
           0,
           0,
           0,
           0,
           0,
           1,
           0,
           0,
           0,
           0,
           0,
           0,
           0,
           1,
           1,
           1,
           1,
           0,
           1,
           0,
           0,
           1,
           0,
           1,
           1,
           0,
           0,
           1,
           0,
           0,
           0,
           1,
           0,
           0,
           1,
           1,
           0,
           0,
           0,
           0,
           0,
           0,
           0,
           0,
           0,
           0,
           1,
           0,
           0,
           1,
           0,
           0,
           0,
           1,
           1,
           1,
           0,
           0,
           1,
           0,
           0,
           1,
           0,
           0,
           0,
           0,
           1,
           0,
           0,
           0,
           0,
           1,
           0,
           0,
           0,
           0,
           0,
           0,
           0,
           1,
           1,
           0,
           0,
           0,
           0,
           0,
           0,
           1,
           0,
           1,
           1,
           1,
           0,
           0,
           0,
           0,
           0,
           0,
           1,
           0,
           1,
           1,
           1,
           0,
           0,
           0,
           1,
           1,
           1,
           0,
           0,
           1,
           0,
           0,
           0,
           0,
           0,
           0,
           0,
           0,
           1,
           0,
           0,
           0,
           0,
           0,
           1,
           0,
           0,
           0,
           0,
           0,
           0,
           0,
           0,
           0,
           0,
           0,
           0,
           0,
           0,
           0,
           0,
           1,
           0,
           0,
           0,
           0,
           1,
           1,
           0,
           1,
           0,
           0,
           1,
           0,
           0,
           1,
           0,
           0,
           0,
           0,
           0,
           0,
           0,
           0,
           0,
           0,
           0,
           0,
           0,
           0,
           0,
           0,
           0,
           1,
           1,
           0,
           0,
           0,
           0,
           0,
           0,
           0,
           0,
           0,
           0,
           0,
           1,
           0,
           0,
           0,
           0,
           0,
           0,
           0,
           0,
           1,
           0,
           0,
           0,
           1,
           0,
           0,
           0,
           0,
           0,
           0,
           0,
           0,
           0,
           0,
           0,
           0,
           0,
           0,
           1,
           0,
           1,
           0,
           0,
           0,
           0,
           1,
           1,
           0,
           0,
           0,
           0,
           0,
           0,
           1,
           0,
           0,
           1,
           0,
           1,
           0,
           1,
           1,
           0,
           0,
           1,
           0,
           1,
           0,
           0,
           0,
           1,
           1,
           1,
           0,
           0,
           0,
           1,
           0,
           0,
           0,
           0,
           0,
           0,
           0,
           0,
           0,
           0,
           1,
           1,
           1,
           0,
           1,
           0,
           0,
           0,
           0,
           0,
           0,
           0,
           1,
           0,
           0,
           1,
           0,
           0,
           0,
           0,
           1,
           1,
           0,
           0,
           0,
           0,
           1,
           1,
           0,
           0,
           0,
           0,
           0,
           0,
           1,
           1,
           0,
           1,
           0,
           0,
           0,
           0,
           1,
           0,
           0,
           0,
           1,
           0,
           0,
           0,
           1,
           0
          ],
          "coloraxis": "coloraxis",
          "opacity": 0.7,
          "size": 10,
          "symbol": "circle"
         },
         "mode": "markers",
         "name": "",
         "orientation": "v",
         "showlegend": false,
         "type": "scatter",
         "x": [
          -0.28162193298339844,
          -0.1501561850309372,
          1.2137305736541748,
          -0.47723403573036194,
          0.18385232985019684,
          -1.4707754850387573,
          -0.4030526280403137,
          -0.4737239181995392,
          1.5401681661605835,
          -1.1164438724517822,
          -0.39860960841178894,
          -0.08703208714723587,
          -0.2671653628349304,
          0.033709123730659485,
          0.10483825951814651,
          2.184297561645508,
          2.1828432083129883,
          -0.40052568912506104,
          -2.206395387649536,
          -0.39021754264831543,
          -0.12145773321390152,
          -0.8728027939796448,
          0.5604096055030823,
          -1.2475183010101318,
          0.3698034882545471,
          -1.182531714439392,
          -0.6835591197013855,
          -1.170174241065979,
          1.373755693435669,
          -0.7689321637153625,
          -0.4036654233932495,
          -0.40430647134780884,
          -0.8009232878684998,
          -0.7849761247634888,
          -0.38976702094078064,
          -0.46145233511924744,
          -2.4230458736419678,
          -2.216944456100464,
          0.3126297891139984,
          0.2686203122138977,
          -0.5038094520568848,
          -0.5037012696266174,
          -1.7323373556137085,
          0.1423078030347824,
          -2.1975901126861572,
          0.3745175898075104,
          -1.1241114139556885,
          -1.3464866876602173,
          -0.2059977501630783,
          0.6915104985237122,
          0.6911672353744507,
          -0.3179137706756592,
          -0.018745653331279755,
          -0.37328964471817017,
          -1.214005947113037,
          0.13040950894355774,
          -0.1122845858335495,
          0.4550839364528656,
          -0.009306208230555058,
          -0.949573814868927,
          -1.299994707107544,
          0.5637813210487366,
          -1.6078283786773682,
          -1.9266347885131836,
          -2.3239235877990723,
          0.013875897042453289,
          -0.1469496339559555,
          -0.4094420373439789,
          -0.28162097930908203,
          -0.17346660792827606,
          0.6522947549819946,
          0.9924827218055725,
          -0.43204453587532043,
          -2.2614643573760986,
          -0.44360265135765076,
          -0.7933065891265869,
          -2.21885085105896,
          -1.3825299739837646,
          0.6268676519393921,
          -0.3534727394580841,
          -0.36053285002708435,
          -1.0381041765213013,
          -0.8907215595245361,
          2.2216439247131348,
          2.2213501930236816,
          -0.3964148759841919,
          -0.42471736669540405,
          1.7605289220809937,
          1.7605665922164917,
          -0.3959362506866455,
          0.6670665144920349,
          1.1506551504135132,
          -0.3822718560695648,
          -0.9699844717979431,
          -0.9249338507652283,
          1.540888786315918,
          0.809581458568573,
          1.3061469793319702,
          0.9771909117698669,
          -0.7228484749794006,
          -0.2855086028575897,
          0.08412793278694153,
          0.576950192451477,
          -0.4055439233779907,
          -1.089508295059204,
          -1.576133370399475,
          0.6629117131233215,
          0.6579828858375549,
          -0.9155324101448059,
          1.4789618253707886,
          1.1158260107040405,
          1.1157822608947754,
          0.3111843466758728,
          0.29833605885505676,
          -1.2658896446228027,
          -1.0405560731887817,
          1.4993666410446167,
          -0.6216379404067993,
          -0.08397520333528519,
          1.1510646343231201,
          0.16651806235313416,
          0.1614922136068344,
          -1.122280240058899,
          -0.5446063280105591,
          -0.36201584339141846,
          -2.1592633724212646,
          0.703813910484314,
          0.5500680804252625,
          -0.23820827901363373,
          -0.4022952914237976,
          -0.38468798995018005,
          0.47087422013282776,
          -0.527184009552002,
          -0.3728220462799072,
          -1.406182885169983,
          -2.3913257122039795,
          -0.7914208769798279,
          0.2597205936908722,
          0.5821027755737305,
          -0.7900051474571228,
          -2.108123540878296,
          -0.2592403292655945,
          -2.0336902141571045,
          0.9346053004264832,
          0.9612123370170593,
          -0.4199591875076294,
          1.6934425830841064,
          1.693097472190857,
          -2.108321189880371,
          0.5345205664634705,
          -0.41378358006477356,
          1.3273612260818481,
          -0.653386116027832,
          0.016604052856564522,
          0.0163328368216753,
          -1.2351374626159668,
          -1.7372539043426514,
          -1.145485281944275,
          -0.4035777151584625,
          -1.271543025970459,
          -0.39100366830825806,
          -0.08003782480955124,
          -0.7316213846206665,
          -1.069884181022644,
          -0.7600200772285461,
          -0.38382863998413086,
          -0.7771992683410645,
          -1.8974288702011108,
          -0.3935118615627289,
          -0.037369485944509506,
          0.5424134135246277,
          -1.2335925102233887,
          -0.4495193064212799,
          0.85186767578125,
          -1.229678988456726,
          -0.39028453826904297,
          -0.03165877237915993,
          -0.49266916513442993,
          -0.4279763996601105,
          -1.2162976264953613,
          -1.616306185722351,
          -0.7724162340164185,
          -0.7718695402145386,
          -0.3941590189933777,
          -0.7942559719085693,
          -0.40795472264289856,
          1.5265504121780396,
          0.769670307636261,
          0.7688992619514465,
          -0.13322004675865173,
          0.5485249161720276,
          -0.03754107281565666,
          -0.7521871328353882,
          0.7012176513671875,
          -1.7997922897338867,
          -0.3844209611415863,
          -0.7887593507766724,
          0.6155417561531067,
          1.0714781284332275,
          -0.4739624559879303,
          -1.4112132787704468,
          -1.2159897089004517,
          0.5930940508842468,
          0.14073996245861053,
          0.1336996704339981,
          1.4337506294250488,
          0.5631442666053772,
          -1.6328661441802979,
          0.3982776999473572,
          -2.711789131164551,
          -0.6010552644729614,
          0.31082719564437866,
          1.3405654430389404,
          -1.2362847328186035,
          -0.6316155195236206,
          -1.0632524490356445,
          -0.12145773321390152,
          -0.4071730077266693,
          0.36146682500839233,
          -2.3517398834228516,
          -0.4198826253414154,
          -1.5163226127624512,
          1.2004797458648682,
          1.0444073677062988,
          -0.23131871223449707,
          1.3313285112380981,
          0.30918779969215393,
          0.09543545544147491,
          0.6416804790496826,
          0.5855164527893066,
          -0.42086246609687805,
          -0.10551425814628601,
          1.3783657550811768,
          -0.6406244039535522,
          1.2628519535064697,
          -1.601355791091919,
          -1.0785574913024902,
          -0.1212654560804367,
          -1.8909533023834229,
          -0.3966383934020996,
          -0.24850890040397644,
          -1.8316230773925781,
          -2.1170756816864014,
          -2.1169612407684326,
          -1.1229137182235718,
          0.417093962430954,
          0.014462758786976337,
          -0.38203859329223633,
          -0.9814944863319397,
          -0.36388880014419556,
          1.4841468334197998,
          -0.40530484914779663,
          -0.7295946478843689,
          -0.3611311912536621,
          -0.366559237241745,
          -0.31220588088035583,
          -0.3907531797885895,
          -0.3855748176574707,
          -0.44706830382347107,
          -1.192334771156311,
          -0.93507981300354,
          0.621219277381897,
          0.47770801186561584,
          -0.4255528748035431,
          0.027088554576039314,
          -1.3273500204086304,
          0.03523833677172661,
          0.03771694749593735,
          -0.0619586817920208,
          -0.19295065104961395,
          -0.4942353069782257,
          0.3396996557712555,
          -0.6524732708930969,
          -0.3449817895889282,
          -0.3606637716293335,
          -2.2070491313934326,
          0.400759220123291,
          -0.16056886315345764,
          -2.165508508682251,
          0.008932898752391338,
          -2.3150229454040527,
          -1.692098617553711,
          0.8395804762840271,
          -1.6526641845703125,
          -1.6523716449737549,
          -2.4520187377929688,
          -0.3885273039340973,
          -1.2557990550994873,
          -1.1976455450057983,
          -1.8766796588897705,
          -1.6966278553009033,
          0.25935542583465576,
          0.5146717429161072,
          0.6697274446487427,
          -0.17534714937210083,
          0.08460250496864319,
          -1.1493613719940186,
          -1.2181000709533691,
          -2.208481788635254,
          -0.14605532586574554,
          -0.5353566408157349,
          -0.9814974665641785,
          -0.43677353858947754,
          1.5424940586090088,
          -0.13507866859436035,
          -1.011043667793274,
          -1.0104117393493652,
          0.441358745098114,
          -1.2357499599456787,
          -2.5962438583374023,
          -0.4254603087902069,
          -0.4741702973842621,
          -0.012217426672577858,
          -0.7610047459602356,
          1.1930687427520752,
          0.3886035978794098,
          -2.954397678375244,
          -2.954298973083496,
          -1.9267116785049438,
          -0.39173123240470886,
          -0.3959891200065613,
          -0.9720120429992676,
          -0.29968002438545227,
          -1.2711306810379028,
          -1.588858962059021,
          -0.5776101350784302,
          0.9662801027297974,
          0.5292478799819946,
          -1.056164026260376,
          -0.9646832346916199,
          -0.39853614568710327,
          0.6354702115058899,
          -0.2498152256011963,
          -0.36683762073516846,
          -1.3614933490753174,
          -0.3753212094306946,
          0.4771268963813782,
          0.3666354715824127,
          -0.441879540681839,
          -0.2990548610687256,
          -0.8069949150085449,
          -1.237332820892334,
          -1.9777947664260864,
          -0.02148888073861599,
          2.5938568115234375,
          2.593900680541992,
          -0.1110353022813797,
          0.6340011954307556,
          -1.781818151473999,
          -0.3989548981189728,
          1.3006951808929443,
          -0.3484100103378296,
          0.6833649277687073,
          -0.9654940962791443,
          -0.37274298071861267,
          -0.05728350952267647,
          0.45243585109710693,
          -1.2370367050170898,
          -1.7574177980422974,
          -1.3842244148254395,
          -0.2591896653175354,
          -0.3891058564186096,
          0.6289075016975403,
          -0.3980085849761963,
          -0.3339150547981262,
          1.8117825984954834,
          1.8114768266677856,
          0.3743983209133148,
          -0.08188989013433456,
          -0.38235360383987427,
          -0.2582891285419464,
          -1.853702187538147,
          0.6174028515815735,
          1.4787052869796753,
          -0.772769570350647,
          -0.378838449716568,
          -0.9563960433006287,
          -0.47122907638549805,
          -2.5900301933288574,
          -0.3637872338294983,
          -0.7733381390571594,
          -0.45623481273651123,
          1.2512891292572021,
          1.2505663633346558,
          -0.21356987953186035,
          -1.3184069395065308,
          -0.9297064542770386,
          0.9671465158462524,
          1.3314242362976074,
          1.3314131498336792,
          -1.3037770986557007,
          0.048998843878507614,
          1.4778164625167847,
          -1.2265524864196777,
          0.31275710463523865,
          0.3127537667751312,
          -1.9046850204467773,
          -1.5647751092910767,
          0.9092178344726562,
          -1.793386697769165,
          -2.480581521987915,
          -1.8393995761871338,
          -1.6807570457458496,
          0.004743024706840515,
          -2.0692288875579834,
          0.1059112697839737,
          0.09528777003288269,
          -1.8106111288070679,
          -0.05651148036122322,
          -1.1281745433807373,
          0.3249855935573578,
          -0.3956053555011749,
          1.1751681566238403,
          -0.49479031562805176,
          0.6042894721031189,
          0.7850074172019958,
          0.4480364918708801,
          0.06572410464286804,
          -0.9915744066238403,
          -1.0692957639694214,
          2.445279359817505,
          2.445430278778076,
          -0.22428002953529358,
          -0.4021705687046051,
          -0.5413082838058472,
          -2.1396896839141846,
          -1.0638720989227295,
          -1.0636638402938843,
          0.6128984093666077,
          0.585871160030365,
          -0.20950540900230408,
          -0.2092430293560028,
          -0.434917688369751,
          -0.46958494186401367,
          0.7760509252548218,
          0.4917982518672943,
          0.3747459650039673,
          0.18282151222229004,
          0.5615754723548889,
          -1.4943647384643555,
          -0.9978721737861633,
          -0.37939199805259705,
          -0.517273485660553,
          -2.1433842182159424,
          -2.141359329223633,
          -0.1945960521697998,
          -0.1866845190525055,
          -1.375840663909912,
          -1.0679460763931274,
          -1.2550714015960693,
          -0.3357878625392914,
          0.6370387077331543,
          -0.40156668424606323,
          -3.351191759109497,
          -3.351271867752075,
          -0.5672948956489563,
          0.0247605349868536,
          -0.3791235387325287,
          -0.4595942497253418,
          -0.8081035017967224,
          -0.056260742247104645,
          -1.4881502389907837,
          -1.2000588178634644,
          -0.32754945755004883,
          -0.37377774715423584,
          -0.43126025795936584,
          -1.1458240747451782,
          0.8228803873062134,
          1.4385173320770264,
          -0.9526332020759583,
          -1.913753867149353,
          0.45419299602508545,
          -0.3450870215892792,
          -2.135275363922119,
          -0.478872150182724,
          -0.6152448058128357,
          -0.7503006458282471,
          -0.9637951254844666,
          0.036306966096162796,
          -2.302140235900879,
          -0.37520816922187805,
          -0.3843913674354553,
          -1.0777955055236816,
          -0.3788518011569977,
          -0.3983800709247589,
          0.6471810936927795,
          -1.2374264001846313,
          -0.2695830166339874,
          -1.540932297706604,
          -1.572123646736145,
          0.9552940130233765,
          -0.39584609866142273,
          0.8966187238693237,
          0.5430158376693726,
          1.4231226444244385,
          2.7224245071411133,
          2.7225866317749023,
          -1.2740987539291382,
          -0.9145862460136414,
          0.9676140546798706,
          0.6294538974761963,
          -1.8623608350753784,
          -0.12989003956317902,
          -2.0182902812957764,
          1.3787696361541748,
          -0.39836153388023376,
          -0.40122708678245544,
          -0.40241044759750366,
          -0.6351595520973206,
          -1.1476576328277588,
          0.3327750563621521,
          -0.10950614511966705,
          -1.1039844751358032,
          0.38046762347221375,
          -2.1625747680664062,
          -1.0070972442626953,
          -0.9695816040039062,
          -1.1882940530776978,
          -2.437182903289795,
          0.789779543876648,
          -1.013597011566162,
          -0.7094723582267761,
          1.5080149173736572,
          -0.2856563329696655,
          0.9948520660400391,
          -0.3028161823749542,
          -1.3010787963867188,
          -0.38279789686203003,
          -0.4072004556655884,
          -0.33898013830184937,
          -1.1342567205429077,
          -1.1774570941925049,
          -0.3923053443431854,
          0.20030993223190308,
          -0.382402241230011,
          -0.5669617056846619,
          -0.34974247217178345,
          -1.4582998752593994,
          -1.6386739015579224,
          -1.6378692388534546,
          -1.4688024520874023,
          -0.37374088168144226,
          -0.3294244706630707,
          -1.212328314781189,
          -0.4201250672340393,
          -0.3417836129665375,
          -1.7326158285140991,
          0.8999009728431702,
          0.6601403951644897,
          0.3048533797264099,
          1.3201407194137573,
          -1.25194251537323,
          1.045282244682312,
          1.5392608642578125,
          -0.14099456369876862,
          -2.0276331901550293,
          -2.6598870754241943,
          -2.659580707550049,
          1.456549882888794,
          0.012966386042535305,
          -2.4646615982055664,
          -1.3847296237945557,
          -1.24734365940094,
          -0.4383363127708435,
          -2.2696690559387207,
          -1.2910544872283936,
          -0.6936362981796265,
          2.741581439971924,
          2.741580009460449,
          -1.851197600364685,
          -1.3714271783828735,
          -0.4058051109313965,
          -0.1859133392572403,
          -1.1397547721862793,
          -0.976742148399353,
          -1.1761046648025513,
          -0.3604518175125122,
          -0.3650963306427002,
          -0.16938865184783936,
          -0.49896273016929626,
          -0.17259494960308075,
          -0.0011682345066219568,
          -0.01332315243780613,
          0.616045355796814,
          1.1811447143554688,
          0.6048978567123413,
          -0.22344864904880524,
          -0.23643848299980164,
          0.4731888473033905,
          1.552428126335144,
          0.059206631034612656,
          -1.7899876832962036,
          0.31021368503570557,
          -0.3873041570186615,
          -0.40071263909339905,
          0.47770801186561584,
          -0.4160175025463104,
          -0.37975606322288513,
          0.6983041763305664
         ],
         "xaxis": "x",
         "y": [
          -3.0500876903533936,
          -1.610404133796692,
          -2.0047390460968018,
          -0.6670251488685608,
          -2.5988590717315674,
          0.38015878200531006,
          -0.9610403180122375,
          -0.5844721794128418,
          -1.5361182689666748,
          -0.15105561912059784,
          -0.9865826964378357,
          -0.03514046221971512,
          -1.9388346672058105,
          -3.0513343811035156,
          -1.4539624452590942,
          0.4170760214328766,
          0.4167817533016205,
          -2.9490997791290283,
          -1.900295376777649,
          -0.933357298374176,
          -1.5756242275238037,
          0.18858374655246735,
          0.03517816215753555,
          -0.41646113991737366,
          0.37089499831199646,
          -0.6779094934463501,
          0.6270094513893127,
          -0.8695433735847473,
          -1.9427565336227417,
          -1.9410325288772583,
          -0.9584103226661682,
          -0.9614856839179993,
          -2.9156856536865234,
          -2.9484353065490723,
          -0.9701797962188721,
          -0.6478153467178345,
          -0.6738080978393555,
          -0.8240277171134949,
          -1.8580962419509888,
          -1.3687604665756226,
          1.9196795225143433,
          1.9199129343032837,
          0.3644024729728699,
          -1.420091986656189,
          -0.21118851006031036,
          -1.7421048879623413,
          -0.8939896821975708,
          -1.8687111139297485,
          -0.326113224029541,
          1.8805932998657227,
          1.8813220262527466,
          -0.7503551840782166,
          0.5667021870613098,
          -0.3549058735370636,
          -0.8048585057258606,
          -1.7452465295791626,
          -2.8950212001800537,
          0.3433186113834381,
          -1.539990782737732,
          -1.3763573169708252,
          -2.290321111679077,
          -0.9242120981216431,
          -2.7111856937408447,
          -1.4532917737960815,
          -0.2752326428890228,
          -2.017947196960449,
          -0.5646399855613708,
          -0.976502001285553,
          -1.6514155864715576,
          0.5541905164718628,
          -0.7123070359230042,
          -1.2138038873672485,
          -0.5617528557777405,
          -1.6717174053192139,
          -0.9213075041770935,
          0.7345756888389587,
          -0.3687831163406372,
          0.3881182372570038,
          0.263898640871048,
          -0.13208237290382385,
          -0.919938862323761,
          -0.3869413435459137,
          -1.413898229598999,
          0.701865017414093,
          0.7017049789428711,
          -0.9382230043411255,
          -0.8968690037727356,
          1.3153579235076904,
          1.3152695894241333,
          -0.9656469821929932,
          -2.373595714569092,
          -2.319688081741333,
          -0.9115198254585266,
          -1.3620121479034424,
          -2.3260841369628906,
          -1.672605037689209,
          -1.51561439037323,
          -0.5076078772544861,
          -2.54471755027771,
          -1.545873761177063,
          -0.6779783964157104,
          -1.4649206399917603,
          -2.8436052799224854,
          -0.9230724573135376,
          -0.12748606503009796,
          -2.585975170135498,
          -0.7395530939102173,
          -0.7081553339958191,
          0.6398308873176575,
          -0.8838939070701599,
          1.4409517049789429,
          1.4407804012298584,
          1.0923986434936523,
          1.073110580444336,
          -0.4347648620605469,
          -0.05432067811489105,
          -1.6914349794387817,
          -1.598816990852356,
          -0.5964188575744629,
          -0.2737967073917389,
          1.0098434686660767,
          0.9950259923934937,
          -0.07644596695899963,
          -2.0827460289001465,
          -0.9128303527832031,
          -2.0299744606018066,
          0.24343028664588928,
          -0.9321517944335938,
          -0.0908278301358223,
          -0.9731799960136414,
          -0.8952034115791321,
          -2.5734317302703857,
          0.6566073298454285,
          -0.9002252221107483,
          -1.6283085346221924,
          -1.3873988389968872,
          -2.055257797241211,
          -0.7396522760391235,
          -0.8244080543518066,
          0.27020642161369324,
          -2.1825218200683594,
          -0.7782469987869263,
          0.019987093284726143,
          -2.564028263092041,
          0.09616430848836899,
          -0.7968537211418152,
          1.069239854812622,
          1.0699812173843384,
          -0.011624732054769993,
          -0.18514323234558105,
          -0.8864458203315735,
          -0.5195124745368958,
          0.4086511433124542,
          1.9760102033615112,
          1.9762736558914185,
          -0.9717902541160583,
          -2.6138930320739746,
          -0.8065136075019836,
          -0.8776199817657471,
          0.563357949256897,
          -0.9254053831100464,
          -1.5555857419967651,
          -2.9073991775512695,
          -0.0569063238799572,
          0.6164144277572632,
          -0.9049965143203735,
          -1.4767581224441528,
          -1.1792371273040771,
          -0.9022608399391174,
          -0.3933422863483429,
          -0.19128970801830292,
          -0.34592705965042114,
          -0.15482214093208313,
          -1.6876447200775146,
          -0.7129292488098145,
          -0.9200266003608704,
          -0.3663918972015381,
          -0.34848254919052124,
          -0.9264519810676575,
          -0.8950527906417847,
          -2.705540180206299,
          2.149827241897583,
          2.149757146835327,
          -0.9238850474357605,
          -1.4728446006774902,
          -0.9745118618011475,
          -1.207141399383545,
          1.8702847957611084,
          1.8706445693969727,
          -0.027363955974578857,
          -0.2813427746295929,
          -0.12866954505443573,
          -2.140345573425293,
          -1.7799746990203857,
          -1.090901255607605,
          -0.8142083287239075,
          -1.4546245336532593,
          -0.7693206071853638,
          0.08047952502965927,
          -2.3081135749816895,
          -0.8813322186470032,
          -1.062015414237976,
          -0.0946604311466217,
          0.8532761335372925,
          0.8316599726676941,
          -0.790644109249115,
          -2.322627544403076,
          -2.4610886573791504,
          -1.2608659267425537,
          -1.4555306434631348,
          -1.5884743928909302,
          -1.8450024127960205,
          -0.5290892124176025,
          -0.42254114151000977,
          0.42617061734199524,
          -1.244745135307312,
          -1.5756242275238037,
          -0.9045631289482117,
          0.4627803862094879,
          -1.3415284156799316,
          -0.9369776844978333,
          -1.5428745746612549,
          -0.9760499596595764,
          -2.446608781814575,
          -0.36918938159942627,
          -0.5252175331115723,
          -1.341458797454834,
          -2.4793155193328857,
          -0.7420384883880615,
          -0.11586921662092209,
          -0.5414373874664307,
          -1.5628288984298706,
          -1.9786163568496704,
          -1.578212857246399,
          -2.254899501800537,
          -0.00048096117097884417,
          -0.0680713951587677,
          -2.36186146736145,
          -0.4088524878025055,
          -0.9240495562553406,
          -0.7681839466094971,
          -1.2112338542938232,
          1.653883457183838,
          1.6538876295089722,
          -2.072387218475342,
          -2.90274715423584,
          -3.0218586921691895,
          -1.80804443359375,
          -1.3560928106307983,
          -0.8958735466003418,
          -1.3860870599746704,
          -0.7117190361022949,
          -1.7356185913085938,
          -0.8495670557022095,
          -0.8672709465026855,
          -2.0323052406311035,
          -0.9622758030891418,
          -0.8650633096694946,
          -0.2749088406562805,
          -1.0788391828536987,
          -2.2252964973449707,
          -0.4724053740501404,
          -1.0618864297866821,
          -0.9431641697883606,
          -1.5146898031234741,
          -0.6719770431518555,
          1.6779028177261353,
          1.6628880500793457,
          -1.549660325050354,
          -0.12835490703582764,
          -1.6251686811447144,
          -1.3026068210601807,
          0.6654492616653442,
          -1.8444780111312866,
          -0.9599945545196533,
          -0.46871086955070496,
          0.25796282291412354,
          -0.10845361649990082,
          -0.20694592595100403,
          -1.5228739976882935,
          -1.43475341796875,
          -1.5712249279022217,
          0.14573213458061218,
          1.7363405227661133,
          1.736990213394165,
          -0.9735071063041687,
          -0.8772496581077576,
          -1.026151180267334,
          -1.0551049709320068,
          -2.471470355987549,
          -2.5961062908172607,
          -1.3707282543182373,
          -0.8694420456886292,
          -2.004732370376587,
          -0.7467741966247559,
          -2.207285165786743,
          -2.774099349975586,
          -0.7205638289451599,
          -1.9605839252471924,
          -1.5858279466629028,
          -1.5950955152511597,
          -1.3560893535614014,
          -2.97749662399292,
          -1.1246631145477295,
          -0.1081697940826416,
          1.886910080909729,
          1.8876076936721802,
          -1.1225202083587646,
          -2.2361767292022705,
          -1.4270732402801514,
          -0.9220808744430542,
          -0.2464223951101303,
          -0.4403995871543884,
          -2.230919599533081,
          -0.35641786456108093,
          -1.2756496667861938,
          0.8923475742340088,
          0.8924717903137207,
          -0.5869515538215637,
          -0.9104446768760681,
          -0.9709771871566772,
          -1.3574045896530151,
          -0.27061140537261963,
          -1.0279974937438965,
          0.5439596176147461,
          -2.704535484313965,
          -1.541007399559021,
          0.09690186381340027,
          -2.8297441005706787,
          0.12745533883571625,
          -0.9193994402885437,
          -0.7385115623474121,
          -0.6498766541481018,
          -0.8926553726196289,
          -0.5681953430175781,
          -0.8294674158096313,
          -1.0701686143875122,
          -2.8895843029022217,
          0.5849712491035461,
          0.5659980773925781,
          -2.122560501098633,
          -0.9792742133140564,
          0.2422764152288437,
          -3.0092897415161133,
          -0.16110076010227203,
          -0.1611538827419281,
          -0.03315319865942001,
          -0.7006317377090454,
          -1.2055164575576782,
          -0.8517152070999146,
          -2.188852071762085,
          -0.8361530303955078,
          -2.0819156169891357,
          0.11857329308986664,
          -0.91193026304245,
          -0.3426472246646881,
          -1.108794927597046,
          -2.820087194442749,
          -1.7449860572814941,
          -0.37233397364616394,
          -1.578662633895874,
          -0.9125949144363403,
          -2.819033145904541,
          -0.8812502026557922,
          -0.6572078466415405,
          0.9770228266716003,
          0.9778175354003906,
          -1.2746714353561401,
          -0.39487436413764954,
          -0.8495000600814819,
          -0.7761574983596802,
          -2.261831760406494,
          -0.6755255460739136,
          -1.8458300828933716,
          -1.4840309619903564,
          -0.9058692455291748,
          -1.370208740234375,
          -0.5579531192779541,
          -0.683069109916687,
          -0.9082335233688354,
          -1.4763743877410889,
          0.5550916790962219,
          1.8646044731140137,
          1.864932656288147,
          -1.612265706062317,
          -1.9907383918762207,
          -1.387523889541626,
          0.09807810932397842,
          1.3891505002975464,
          1.389573097229004,
          -0.6169704794883728,
          -1.5101104974746704,
          -1.3336782455444336,
          -1.9214544296264648,
          2.1640241146087646,
          2.1639833450317383,
          0.14658726751804352,
          -1.5673376321792603,
          -0.12415497750043869,
          -0.22582465410232544,
          -0.666741669178009,
          -0.27604156732559204,
          0.30160602927207947,
          -0.34020569920539856,
          -2.2507119178771973,
          0.7622922658920288,
          0.7267425060272217,
          -1.1284916400909424,
          -1.6670570373535156,
          -0.18276704847812653,
          0.25581130385398865,
          -0.9192367792129517,
          -0.35352909564971924,
          -1.6302123069763184,
          0.27854353189468384,
          -0.15464332699775696,
          -1.1201374530792236,
          -0.3688815236091614,
          0.08985436707735062,
          -1.2295359373092651,
          0.22529764473438263,
          0.22529305517673492,
          -0.5423777103424072,
          -0.9389595985412598,
          -1.6362042427062988,
          -0.8923245072364807,
          1.9135408401489258,
          1.9135843515396118,
          1.2227625846862793,
          1.188079595565796,
          2.266720771789551,
          2.2664670944213867,
          -0.6047800183296204,
          -0.5936856269836426,
          -1.7775373458862305,
          -1.0596119165420532,
          -1.9264851808547974,
          -2.255964994430542,
          0.34897440671920776,
          -1.6116933822631836,
          -1.3813577890396118,
          -0.7805641889572144,
          -1.640367031097412,
          1.4748578071594238,
          1.4756677150726318,
          -1.5915416479110718,
          -0.13445425033569336,
          -1.7632434368133545,
          -0.030165130272507668,
          0.6962674856185913,
          -0.8286409974098206,
          -0.8115828037261963,
          -0.9390199780464172,
          0.2802424430847168,
          0.2804705500602722,
          -3.0923337936401367,
          -2.4671897888183594,
          -0.8214779496192932,
          0.5735652446746826,
          0.6063401103019714,
          -1.551862120628357,
          -2.07250714302063,
          -0.328352153301239,
          -0.860492467880249,
          -0.8766481876373291,
          -0.9724637269973755,
          -0.20588280260562897,
          -2.6255199909210205,
          -0.3954631984233856,
          -1.4021154642105103,
          0.13668465614318848,
          -1.1213539838790894,
          -0.8035290837287903,
          -2.013378620147705,
          0.5384043455123901,
          -2.3512110710144043,
          -2.9228434562683105,
          -1.367069959640503,
          -2.2631843090057373,
          -1.4972138404846191,
          -0.8827201724052429,
          -0.9679457545280457,
          -2.8492586612701416,
          -0.7350247502326965,
          -0.6457374095916748,
          -0.6575819849967957,
          -0.6659780144691467,
          -0.1131114587187767,
          0.38854730129241943,
          0.4733017385005951,
          -1.3985384702682495,
          -2.2068936824798584,
          -0.1350223422050476,
          -0.06205371767282486,
          -1.8656595945358276,
          -0.598511278629303,
          -0.5983289480209351,
          -1.830619215965271,
          -1.408069133758545,
          -1.3790425062179565,
          -0.7873732447624207,
          -0.7730381488800049,
          -3.0226945877075195,
          0.05929914489388466,
          -1.2507086992263794,
          -0.843029260635376,
          -0.8627855181694031,
          -0.9740351438522339,
          -2.3540728092193604,
          -2.816974401473999,
          -1.3218446969985962,
          -2.427736282348633,
          0.5753080248832703,
          -1.2982240915298462,
          -2.086836099624634,
          -0.005952844861894846,
          -1.3700578212738037,
          -1.0796383619308472,
          -0.6549295783042908,
          -1.7567036151885986,
          -0.17850583791732788,
          -1.5532751083374023,
          -1.1854780912399292,
          -0.7272530794143677,
          0.07111106067895889,
          -0.7279816269874573,
          0.49635982513427734,
          -0.8747847080230713,
          -0.9948943257331848,
          -0.7561652064323425,
          0.6700593829154968,
          -2.822420597076416,
          -0.8904668092727661,
          -2.257544994354248,
          -0.913472592830658,
          -1.5937684774398804,
          -0.6480398178100586,
          -1.8057713508605957,
          1.9384528398513794,
          1.9400523900985718,
          -1.034620761871338,
          -1.8421998023986816,
          -0.7402209639549255,
          -0.6909475326538086,
          -0.6717090606689453,
          -2.4608254432678223,
          -0.41055208444595337,
          -1.4350612163543701,
          -0.5263860821723938,
          -1.1321868896484375,
          -0.5165557861328125,
          -0.6438045501708984,
          -2.4664885997772217,
          -0.8852688074111938,
          -0.08793961256742477,
          -1.6635998487472534,
          1.1710222959518433,
          1.1701534986495972,
          -0.7407234311103821,
          -0.23447264730930328,
          -1.2273321151733398,
          -1.714665174484253,
          -0.39111098647117615,
          -2.2594196796417236,
          -0.9273310303688049,
          -1.0358749628067017,
          -1.566227674484253,
          -1.4014049768447876,
          -1.40133535861969,
          -0.9829877018928528,
          -1.7770452499389648,
          -0.9539406895637512,
          0.5605030059814453,
          -2.1725940704345703,
          0.5933101773262024,
          -1.115315318107605,
          -0.8751265406608582,
          -0.8879258632659912,
          -0.1490454375743866,
          0.5859997272491455,
          -1.589077115058899,
          0.38607630133628845,
          0.34732624888420105,
          -2.0278990268707275,
          -0.31601184606552124,
          -2.797229051589966,
          -0.44709888100624084,
          -0.48816990852355957,
          -2.1165168285369873,
          -1.1680928468704224,
          -1.4969713687896729,
          -0.7708364725112915,
          -1.3315632343292236,
          -0.890946626663208,
          -0.9708418846130371,
          -1.0618864297866821,
          -0.9840843677520752,
          -0.18552996218204498,
          -1.7640265226364136
         ],
         "yaxis": "y"
        }
       ],
       "layout": {
        "coloraxis": {
         "colorbar": {
          "title": {
           "text": "label"
          }
         },
         "colorscale": [
          [
           0,
           "#0d0887"
          ],
          [
           0.1111111111111111,
           "#46039f"
          ],
          [
           0.2222222222222222,
           "#7201a8"
          ],
          [
           0.3333333333333333,
           "#9c179e"
          ],
          [
           0.4444444444444444,
           "#bd3786"
          ],
          [
           0.5555555555555556,
           "#d8576b"
          ],
          [
           0.6666666666666666,
           "#ed7953"
          ],
          [
           0.7777777777777778,
           "#fb9f3a"
          ],
          [
           0.8888888888888888,
           "#fdca26"
          ],
          [
           1,
           "#f0f921"
          ]
         ]
        },
        "height": 600,
        "legend": {
         "tracegroupgap": 0
        },
        "margin": {
         "t": 60
        },
        "template": {
         "data": {
          "bar": [
           {
            "error_x": {
             "color": "#2a3f5f"
            },
            "error_y": {
             "color": "#2a3f5f"
            },
            "marker": {
             "line": {
              "color": "#E5ECF6",
              "width": 0.5
             },
             "pattern": {
              "fillmode": "overlay",
              "size": 10,
              "solidity": 0.2
             }
            },
            "type": "bar"
           }
          ],
          "barpolar": [
           {
            "marker": {
             "line": {
              "color": "#E5ECF6",
              "width": 0.5
             },
             "pattern": {
              "fillmode": "overlay",
              "size": 10,
              "solidity": 0.2
             }
            },
            "type": "barpolar"
           }
          ],
          "carpet": [
           {
            "aaxis": {
             "endlinecolor": "#2a3f5f",
             "gridcolor": "white",
             "linecolor": "white",
             "minorgridcolor": "white",
             "startlinecolor": "#2a3f5f"
            },
            "baxis": {
             "endlinecolor": "#2a3f5f",
             "gridcolor": "white",
             "linecolor": "white",
             "minorgridcolor": "white",
             "startlinecolor": "#2a3f5f"
            },
            "type": "carpet"
           }
          ],
          "choropleth": [
           {
            "colorbar": {
             "outlinewidth": 0,
             "ticks": ""
            },
            "type": "choropleth"
           }
          ],
          "contour": [
           {
            "colorbar": {
             "outlinewidth": 0,
             "ticks": ""
            },
            "colorscale": [
             [
              0,
              "#0d0887"
             ],
             [
              0.1111111111111111,
              "#46039f"
             ],
             [
              0.2222222222222222,
              "#7201a8"
             ],
             [
              0.3333333333333333,
              "#9c179e"
             ],
             [
              0.4444444444444444,
              "#bd3786"
             ],
             [
              0.5555555555555556,
              "#d8576b"
             ],
             [
              0.6666666666666666,
              "#ed7953"
             ],
             [
              0.7777777777777778,
              "#fb9f3a"
             ],
             [
              0.8888888888888888,
              "#fdca26"
             ],
             [
              1,
              "#f0f921"
             ]
            ],
            "type": "contour"
           }
          ],
          "contourcarpet": [
           {
            "colorbar": {
             "outlinewidth": 0,
             "ticks": ""
            },
            "type": "contourcarpet"
           }
          ],
          "heatmap": [
           {
            "colorbar": {
             "outlinewidth": 0,
             "ticks": ""
            },
            "colorscale": [
             [
              0,
              "#0d0887"
             ],
             [
              0.1111111111111111,
              "#46039f"
             ],
             [
              0.2222222222222222,
              "#7201a8"
             ],
             [
              0.3333333333333333,
              "#9c179e"
             ],
             [
              0.4444444444444444,
              "#bd3786"
             ],
             [
              0.5555555555555556,
              "#d8576b"
             ],
             [
              0.6666666666666666,
              "#ed7953"
             ],
             [
              0.7777777777777778,
              "#fb9f3a"
             ],
             [
              0.8888888888888888,
              "#fdca26"
             ],
             [
              1,
              "#f0f921"
             ]
            ],
            "type": "heatmap"
           }
          ],
          "heatmapgl": [
           {
            "colorbar": {
             "outlinewidth": 0,
             "ticks": ""
            },
            "colorscale": [
             [
              0,
              "#0d0887"
             ],
             [
              0.1111111111111111,
              "#46039f"
             ],
             [
              0.2222222222222222,
              "#7201a8"
             ],
             [
              0.3333333333333333,
              "#9c179e"
             ],
             [
              0.4444444444444444,
              "#bd3786"
             ],
             [
              0.5555555555555556,
              "#d8576b"
             ],
             [
              0.6666666666666666,
              "#ed7953"
             ],
             [
              0.7777777777777778,
              "#fb9f3a"
             ],
             [
              0.8888888888888888,
              "#fdca26"
             ],
             [
              1,
              "#f0f921"
             ]
            ],
            "type": "heatmapgl"
           }
          ],
          "histogram": [
           {
            "marker": {
             "pattern": {
              "fillmode": "overlay",
              "size": 10,
              "solidity": 0.2
             }
            },
            "type": "histogram"
           }
          ],
          "histogram2d": [
           {
            "colorbar": {
             "outlinewidth": 0,
             "ticks": ""
            },
            "colorscale": [
             [
              0,
              "#0d0887"
             ],
             [
              0.1111111111111111,
              "#46039f"
             ],
             [
              0.2222222222222222,
              "#7201a8"
             ],
             [
              0.3333333333333333,
              "#9c179e"
             ],
             [
              0.4444444444444444,
              "#bd3786"
             ],
             [
              0.5555555555555556,
              "#d8576b"
             ],
             [
              0.6666666666666666,
              "#ed7953"
             ],
             [
              0.7777777777777778,
              "#fb9f3a"
             ],
             [
              0.8888888888888888,
              "#fdca26"
             ],
             [
              1,
              "#f0f921"
             ]
            ],
            "type": "histogram2d"
           }
          ],
          "histogram2dcontour": [
           {
            "colorbar": {
             "outlinewidth": 0,
             "ticks": ""
            },
            "colorscale": [
             [
              0,
              "#0d0887"
             ],
             [
              0.1111111111111111,
              "#46039f"
             ],
             [
              0.2222222222222222,
              "#7201a8"
             ],
             [
              0.3333333333333333,
              "#9c179e"
             ],
             [
              0.4444444444444444,
              "#bd3786"
             ],
             [
              0.5555555555555556,
              "#d8576b"
             ],
             [
              0.6666666666666666,
              "#ed7953"
             ],
             [
              0.7777777777777778,
              "#fb9f3a"
             ],
             [
              0.8888888888888888,
              "#fdca26"
             ],
             [
              1,
              "#f0f921"
             ]
            ],
            "type": "histogram2dcontour"
           }
          ],
          "mesh3d": [
           {
            "colorbar": {
             "outlinewidth": 0,
             "ticks": ""
            },
            "type": "mesh3d"
           }
          ],
          "parcoords": [
           {
            "line": {
             "colorbar": {
              "outlinewidth": 0,
              "ticks": ""
             }
            },
            "type": "parcoords"
           }
          ],
          "pie": [
           {
            "automargin": true,
            "type": "pie"
           }
          ],
          "scatter": [
           {
            "fillpattern": {
             "fillmode": "overlay",
             "size": 10,
             "solidity": 0.2
            },
            "type": "scatter"
           }
          ],
          "scatter3d": [
           {
            "line": {
             "colorbar": {
              "outlinewidth": 0,
              "ticks": ""
             }
            },
            "marker": {
             "colorbar": {
              "outlinewidth": 0,
              "ticks": ""
             }
            },
            "type": "scatter3d"
           }
          ],
          "scattercarpet": [
           {
            "marker": {
             "colorbar": {
              "outlinewidth": 0,
              "ticks": ""
             }
            },
            "type": "scattercarpet"
           }
          ],
          "scattergeo": [
           {
            "marker": {
             "colorbar": {
              "outlinewidth": 0,
              "ticks": ""
             }
            },
            "type": "scattergeo"
           }
          ],
          "scattergl": [
           {
            "marker": {
             "colorbar": {
              "outlinewidth": 0,
              "ticks": ""
             }
            },
            "type": "scattergl"
           }
          ],
          "scattermapbox": [
           {
            "marker": {
             "colorbar": {
              "outlinewidth": 0,
              "ticks": ""
             }
            },
            "type": "scattermapbox"
           }
          ],
          "scatterpolar": [
           {
            "marker": {
             "colorbar": {
              "outlinewidth": 0,
              "ticks": ""
             }
            },
            "type": "scatterpolar"
           }
          ],
          "scatterpolargl": [
           {
            "marker": {
             "colorbar": {
              "outlinewidth": 0,
              "ticks": ""
             }
            },
            "type": "scatterpolargl"
           }
          ],
          "scatterternary": [
           {
            "marker": {
             "colorbar": {
              "outlinewidth": 0,
              "ticks": ""
             }
            },
            "type": "scatterternary"
           }
          ],
          "surface": [
           {
            "colorbar": {
             "outlinewidth": 0,
             "ticks": ""
            },
            "colorscale": [
             [
              0,
              "#0d0887"
             ],
             [
              0.1111111111111111,
              "#46039f"
             ],
             [
              0.2222222222222222,
              "#7201a8"
             ],
             [
              0.3333333333333333,
              "#9c179e"
             ],
             [
              0.4444444444444444,
              "#bd3786"
             ],
             [
              0.5555555555555556,
              "#d8576b"
             ],
             [
              0.6666666666666666,
              "#ed7953"
             ],
             [
              0.7777777777777778,
              "#fb9f3a"
             ],
             [
              0.8888888888888888,
              "#fdca26"
             ],
             [
              1,
              "#f0f921"
             ]
            ],
            "type": "surface"
           }
          ],
          "table": [
           {
            "cells": {
             "fill": {
              "color": "#EBF0F8"
             },
             "line": {
              "color": "white"
             }
            },
            "header": {
             "fill": {
              "color": "#C8D4E3"
             },
             "line": {
              "color": "white"
             }
            },
            "type": "table"
           }
          ]
         },
         "layout": {
          "annotationdefaults": {
           "arrowcolor": "#2a3f5f",
           "arrowhead": 0,
           "arrowwidth": 1
          },
          "autotypenumbers": "strict",
          "coloraxis": {
           "colorbar": {
            "outlinewidth": 0,
            "ticks": ""
           }
          },
          "colorscale": {
           "diverging": [
            [
             0,
             "#8e0152"
            ],
            [
             0.1,
             "#c51b7d"
            ],
            [
             0.2,
             "#de77ae"
            ],
            [
             0.3,
             "#f1b6da"
            ],
            [
             0.4,
             "#fde0ef"
            ],
            [
             0.5,
             "#f7f7f7"
            ],
            [
             0.6,
             "#e6f5d0"
            ],
            [
             0.7,
             "#b8e186"
            ],
            [
             0.8,
             "#7fbc41"
            ],
            [
             0.9,
             "#4d9221"
            ],
            [
             1,
             "#276419"
            ]
           ],
           "sequential": [
            [
             0,
             "#0d0887"
            ],
            [
             0.1111111111111111,
             "#46039f"
            ],
            [
             0.2222222222222222,
             "#7201a8"
            ],
            [
             0.3333333333333333,
             "#9c179e"
            ],
            [
             0.4444444444444444,
             "#bd3786"
            ],
            [
             0.5555555555555556,
             "#d8576b"
            ],
            [
             0.6666666666666666,
             "#ed7953"
            ],
            [
             0.7777777777777778,
             "#fb9f3a"
            ],
            [
             0.8888888888888888,
             "#fdca26"
            ],
            [
             1,
             "#f0f921"
            ]
           ],
           "sequentialminus": [
            [
             0,
             "#0d0887"
            ],
            [
             0.1111111111111111,
             "#46039f"
            ],
            [
             0.2222222222222222,
             "#7201a8"
            ],
            [
             0.3333333333333333,
             "#9c179e"
            ],
            [
             0.4444444444444444,
             "#bd3786"
            ],
            [
             0.5555555555555556,
             "#d8576b"
            ],
            [
             0.6666666666666666,
             "#ed7953"
            ],
            [
             0.7777777777777778,
             "#fb9f3a"
            ],
            [
             0.8888888888888888,
             "#fdca26"
            ],
            [
             1,
             "#f0f921"
            ]
           ]
          },
          "colorway": [
           "#636efa",
           "#EF553B",
           "#00cc96",
           "#ab63fa",
           "#FFA15A",
           "#19d3f3",
           "#FF6692",
           "#B6E880",
           "#FF97FF",
           "#FECB52"
          ],
          "font": {
           "color": "#2a3f5f"
          },
          "geo": {
           "bgcolor": "white",
           "lakecolor": "white",
           "landcolor": "#E5ECF6",
           "showlakes": true,
           "showland": true,
           "subunitcolor": "white"
          },
          "hoverlabel": {
           "align": "left"
          },
          "hovermode": "closest",
          "mapbox": {
           "style": "light"
          },
          "paper_bgcolor": "white",
          "plot_bgcolor": "#E5ECF6",
          "polar": {
           "angularaxis": {
            "gridcolor": "white",
            "linecolor": "white",
            "ticks": ""
           },
           "bgcolor": "#E5ECF6",
           "radialaxis": {
            "gridcolor": "white",
            "linecolor": "white",
            "ticks": ""
           }
          },
          "scene": {
           "xaxis": {
            "backgroundcolor": "#E5ECF6",
            "gridcolor": "white",
            "gridwidth": 2,
            "linecolor": "white",
            "showbackground": true,
            "ticks": "",
            "zerolinecolor": "white"
           },
           "yaxis": {
            "backgroundcolor": "#E5ECF6",
            "gridcolor": "white",
            "gridwidth": 2,
            "linecolor": "white",
            "showbackground": true,
            "ticks": "",
            "zerolinecolor": "white"
           },
           "zaxis": {
            "backgroundcolor": "#E5ECF6",
            "gridcolor": "white",
            "gridwidth": 2,
            "linecolor": "white",
            "showbackground": true,
            "ticks": "",
            "zerolinecolor": "white"
           }
          },
          "shapedefaults": {
           "line": {
            "color": "#2a3f5f"
           }
          },
          "ternary": {
           "aaxis": {
            "gridcolor": "white",
            "linecolor": "white",
            "ticks": ""
           },
           "baxis": {
            "gridcolor": "white",
            "linecolor": "white",
            "ticks": ""
           },
           "bgcolor": "#E5ECF6",
           "caxis": {
            "gridcolor": "white",
            "linecolor": "white",
            "ticks": ""
           }
          },
          "title": {
           "x": 0.05
          },
          "xaxis": {
           "automargin": true,
           "gridcolor": "white",
           "linecolor": "white",
           "ticks": "",
           "title": {
            "standoff": 15
           },
           "zerolinecolor": "white",
           "zerolinewidth": 2
          },
          "yaxis": {
           "automargin": true,
           "gridcolor": "white",
           "linecolor": "white",
           "ticks": "",
           "title": {
            "standoff": 15
           },
           "zerolinecolor": "white",
           "zerolinewidth": 2
          }
         }
        },
        "width": 900,
        "xaxis": {
         "anchor": "y",
         "autorange": true,
         "domain": [
          0,
          1
         ],
         "range": [
          -3.755968508204092,
          3.1462780804239405
         ],
         "title": {
          "text": "Dim_1"
         },
         "type": "linear"
        },
        "yaxis": {
         "anchor": "x",
         "autorange": true,
         "domain": [
          0,
          1
         ],
         "range": [
          -3.482750595729348,
          2.657137573878762
         ],
         "title": {
          "text": "Dim_2"
         },
         "type": "linear"
        }
       }
      },
      "text/html": [
       "<div>                            <div id=\"d88fd396-285b-4198-9096-491da21c69ee\" class=\"plotly-graph-div\" style=\"height:600px; width:900px;\"></div>            <script type=\"text/javascript\">                require([\"plotly\"], function(Plotly) {                    window.PLOTLYENV=window.PLOTLYENV || {};                                    if (document.getElementById(\"d88fd396-285b-4198-9096-491da21c69ee\")) {                    Plotly.newPlot(                        \"d88fd396-285b-4198-9096-491da21c69ee\",                        [{\"customdata\":[[\"Dla mnie faworytem do tytu\\u0142u b\\u0119dzie Cracovia. Zobaczymy, czy typ si\\u0119 sprawdzi.\",0.0],[\"@anonymized_account @anonymized_account Brawo ty Daria kibic ma by\\u0107 na dobre i z\\u0142e\",0.0],[\"@anonymized_account @anonymized_account Super, polski premier sk\\u0142ada kwiaty na grobach kolaborant\\u00f3w. Ale doczekali\\u015bmy czas\\u00f3w.\",1.0],[\"@anonymized_account @anonymized_account Musi. Innej drogi nie mamy.\",0.0],[\"Odrzut natychmiastowy, kwa\\u015bna mina, mam problem\",0.0],[\"Jaki on by\\u0142 fajny xdd pami\\u0119tam, \\u017ce sp\\u00f3\\u017ani\\u0142am si\\u0119 na jego pierwsze zaj\\u0119cia i to sporo i za kar\\u0119 kaza\\u0142 mi usi\\u0105\\u015b\\u0107 w pierwszej \\u0142awce XD\",0.0],[\"@anonymized_account No nie ma u nas szcz\\u0119\\u015bcia \\ud83d\\ude09\",0.0],[\"@anonymized_account Dawno kogo\\u015b tak wrednego nie widzia\\u0142am xd\",0.0],[\"@anonymized_account @anonymized_account Zaleg\\u0142o\\u015bci by\\u0142y, ale wa\\u017cne czy by\\u0142y wezwania do zap\\u0142aty z kt\\u00f3rych si\\u0119 klub nie wywi\\u0105za\\u0142.\",0.0],[\"@anonymized_account @anonymized_account @anonymized_account Gdzie jest @anonymized_account . Brudzi\\u0144ski jeste\\u015b k\\u0142amc\\u0105 i marnym kutasem @anonymized_account\",1.0],[\"@anonymized_account @anonymized_account  no mam nadzieje !!:)\",0.0],[\"@anonymized_account @anonymized_account Mo\\u017ce gustowa\\u0142 w starszych paniach ;-)\",0.0],[\"@anonymized_account Zostawi\\u0142am tam 3 lata temu \\\\\\\"Notatki na mankietach\\\\\\\". Musz\\u0119 si\\u0119 wr\\u00f3ci\\u0107.\",0.0],[\"@anonymized_account Oprawa do Krzysia M. Ps Pinokio -\\\\n\\\\\\\" mog\\u0142e\\u015b by\\u0107 gangsterem a zosta\\u0142e\\u015b 3 ligowym frajerem \\\\\\\"\\ud83d\\ude00\",1.0],[\"@anonymized_account @anonymized_account Znowu b\\u0119dzie komunikat o polskich piratach drogowych w S\\u0142owacji.\",0.0],[\"@anonymized_account M\\u00f3wi cz\\u0142owiek, kt\\u00f3ry chcia\\u0142 na\\u0142o\\u017cy\\u0107 sankcje na Polsk\\u0119. Gratulacje. #Niepodlegla #11lisopada\",0.0],[\"RT @anonymized_account @anonymized_account M\\u00f3wi cz\\u0142owiek, kt\\u00f3ry chcia\\u0142 na\\u0142o\\u017cy\\u0107 sankcje na Polsk\\u0119. Gratulacje. #Niepodlegla #11lisopada\",0.0],[\"@anonymized_account @anonymized_account o jakim zachowaniu \\\\\\\"fer\\\\\\\" m\\u00f3wisz skoro ukrywa\\u0142 si\\u0119 z tym \\u017ce podpisa\\u0142 kontrakt z Legi\\u0105 ? Mo\\u017cesz rozwin\\u0105\\u0107 ?\",0.0],[\"@anonymized_account @anonymized_account Joanno! Po raz pierwszy si\\u0119 z pani\\u0105 zgadzam.\\ud83d\\ude01\\ud83d\\ude01\\ud83d\\ude01\\ud83d\\ude01\\ud83d\\ude01\",0.0],[\"Monster block, monster block, monster block... \\ud83d\\ude01\",0.0],[\"@anonymized_account Czy\\u017cby Madryt bra\\u0142 przyk\\u0142ad z Warszawy?\",0.0],[\"@anonymized_account @anonymized_account No to Sko\\u0144czmy kurwa z tym wersalem w j...ej szczujni\",1.0],[\"@anonymized_account Nie wiem, najcz\\u0119\\u015bciej graj\\u0105 na zmian\\u0119 na prawym skrzydle.\",0.0],[\"@anonymized_account No to Pan i koledzy macie z g\\u0142owy. Przesrane tak reszta \\u017cycia pod g\\u00f3rk\\u0119.\",0.0],[\"@anonymized_account A ja obstawiam, \\u017ce p\\u00f3jd\\u0105 bardziej w stron\\u0119 tego, \\u017ce mo\\u017ce si\\u0119 powt\\u00f3rzy\\u0107 sytuacja z Meresi\\u0144skim.\",0.0],[\"Aaaaa Kuba mi odpisa\\u0142 hehehehehe\",0.0],[\"Asysta Kacpra Falona i 3:1 dla Widzewa. Witamy Widzew w II lidze. No i w sumie fajnie.\",0.0],[\"@anonymized_account gwizdali na niego ? Bo nie ogl\\u0105da\\u0142em meczu :)\",0.0],[\"@anonymized_account @anonymized_account ale mo\\u017ce w ko\\u0144cu dojdzie do wniosku \\u017ce skoro go klub ju\\u017c nie jara to lepiej go sprzeda\\u0107 i mie\\u0107 po k\\u0142opocie\",0.0],[\"@anonymized_account @anonymized_account Hej halo, o czym to jest bo mam na swojej li\\u015bcie i nie wiem czy warto??\",0.0],[\"doros\\u0142e \\u017cycie nie jest dla mnie\",0.0],[\"RT @anonymized_account doros\\u0142e \\u017cycie nie jest dla mnie\",0.0],[\"@anonymized_account Cze\\u015b\\u0107 Paderewski, cz\\u0119\\u015b\\u0107 opalaj\\u0105ce si\\u0119 nogi\",0.0],[\"@anonymized_account @anonymized_account @anonymized_account Uprowad\\u017a gumow\\u0105 kaczuszk\\u0119. Zacznie negocjowa\\u0107.\",0.0],[\"@anonymized_account Ju\\u017c wiem ze si\\u0119 nie dogadamy XD\",0.0],[\"@anonymized_account Ale to w nowym przek\\u0142adzie, jeszcze nie czyta\\u0142am.\",0.0],[\"@anonymized_account Lahoza mi nigdy nie szkoda. Wol\\u0119, jak na pierwszym planie s\\u0105 pi\\u0142karze, a nie s\\u0119dzia :-)\",0.0],[\"@anonymized_account @anonymized_account Sprawd\\u017a ch\\u0142opie w s\\u0142owniku co oznacza s\\u0142owo , kt\\u00f3rego u\\u017cywasz a potem si\\u0119 odzywaj.\",1.0],[\"@anonymized_account zmie\\u0144cie se nazwe na profilu na insta bo si\\u0119 nazywacie Grzegorz O\\u017c\\u00f3g...\",0.0],[\"#Woronicza 17 pose\\u0142 Halicki oburzony za Bolka.Naprawd\\u00e8 taki t\\u0119py czy tylko udaje idiot\\u0119?\",1.0],[\"\\u201eTa aktorka ma 20 lat?!?! Jaka stara!!\\u201d \\\\n\\\\nChyba musimy si\\u0119 ju\\u017c do grobu pakowa\\u0107 roczniku 98 \\ud83d\\ude02\\ud83d\\udc4c\\ud83c\\udffb\",0.0],[\"RT @anonymized_account \\u201eTa aktorka ma 20 lat?!?! Jaka stara!!\\u201d \\\\n\\\\nChyba musimy si\\u0119 ju\\u017c do grobu pakowa\\u0107 roczniku 98 \\ud83d\\ude02\\ud83d\\udc4c\\ud83c\\udffb\",0.0],[\"Ahnherr der Schtw\\u00e4tzer wykonawcy Von Spar\\\\nhttps:\\u002f\\u002ft.co\\u002fSOtenSqIr0\",0.0],[\"@anonymized_account @anonymized_account @anonymized_account Bierze cie cie pod chuj a ty sie produkujesz\",1.0],[\"@anonymized_account @anonymized_account @anonymized_account Jak narazie to masz przywidzenia co nie zmienia faktu \\u017ce ca\\u0142y czas jeste\\u015b idiot\\u0105.\",1.0],[\"@anonymized_account Kiedy do licznika dojd\\u0105 bilety z fan clubow?\",0.0],[\"@anonymized_account A kto prowadzi zesp\\u00f3\\u0142 ? B\\u0119dzie podany sk\\u0142ad z tego meczu ?\",0.0],[\"@anonymized_account G\\u0142\\u00f3wny pow\\u00f3d to brak kasy, trzeba da\\u0107 bogatym 500+,300+ i by\\u0107 bez godno\\u015bci i honoru\",1.0],[\"Zrobi\\u0142am takie Cv \\u017ce ohohohoho\",0.0],[\"\\u015awi\\u0119towa\\u0107 uchwalenie Konstytucji 3 maja i \\u0142ama\\u0107 Konstytucj\\u0119 RP obecnie obowi\\u0105zuj\\u0105c\\u0105?!\\\\n#3Maja - dzie\\u0144 hipokryzji.\",0.0],[\"RT @anonymized_account \\u015awi\\u0119towa\\u0107 uchwalenie Konstytucji 3 maja i \\u0142ama\\u0107 Konstytucj\\u0119 RP obecnie obowi\\u0105zuj\\u0105c\\u0105?!\\\\n#3Maja - dzie\\u0144 hipokryzji.\",0.0],[\"@anonymized_account @anonymized_account nie gra bo jest Jovanovi\\u0107 i Guilherme\",0.0],[\"@anonymized_account O tej godz. sporty szanuj cia\\u0142o\",0.0],[\"Nikt nigdy nie rozsiewa\\u0142 takiego smrodu jak @anonymized_account\",1.0],[\"Nikt ci\\u0119 tak dobrze nie ubierze jak matka chrzestna dziecino\",0.0],[\"@anonymized_account @anonymized_account Nikt tutaj nie chce plagiaciarzy kopiuj\\u0105cych brytyjskich pisarzy.\",0.0],[\"@anonymized_account A ksi\\u0105dz co bierze 12 ty\\u015b za spowied\\u017a przez tel?\",0.0],[\"@anonymized_account Ko\\u0144 te\\u017c ma du\\u017c\\u0105 g\\u0142ow\\u0119. Tylko wydaje mi si\\u0119, \\u017ce jest bardziej inteligentny ni\\u017c Karczewski\",1.0],[\"@anonymized_account Pod i g\\u00f3r\\u0119  pod wiatr to wi\\u0119cej ni\\u017c k2\",0.0],[\"@anonymized_account S\\u0119dziowie VAR nie decyduj\\u0105 o karnych \\ud83d\\ude09\",0.0],[\"Jaki\\u015b program na TVN, nauka jazdy za kierownic\\u0105 babcia \\u015bpiewa \\\\\\\"jad\\u0105 jad\\u0105 jad\\u0105 \\u015bwiry jad\\u0105\\\\\\\" jad\\u0105 jad\\u0105 jad\\u0105 \\u015bwiry jad\\u0105\\\\\\\"\",0.0],[\"@anonymized_account ta obecna Zary Larsson czy Pitbulla z ostatnich M\\u015a nie by\\u0142y z\\u0142e :)\",0.0],[\"(280 znak\\u00f3w w jednym zdaniu \\ud83d\\ude48)\",0.0],[\"@anonymized_account po wahaniach wagi Kwacha wznosz\\u0119 \\u017ce to mo\\u017ce by\\u0107 kapu\\u015bcianka\",0.0],[\"@anonymized_account @anonymized_account w tym sezonie razem z pucharem 12 meczy i 1 gol.M\\u00f3jta wi\\u0119cej strzeli\\u0142.Sorry patrze w statystyki.\",0.0],[\"@anonymized_account @anonymized_account @anonymized_account fina\\u0142y tblk by\\u0142y przyzwoicie s\\u0119dziowane ?! Aha...\",0.0],[\"@anonymized_account Taki mia\\u0142am w\\u0142a\\u015bnie, teraz kupi\\u0142am z catrice\",0.0],[\"@anonymized_account to ich wymie\\u0144.W czym problem ?\",0.0],[\"@anonymized_account @anonymized_account @anonymized_account a ja mam ciepe\\u0142ko jak si\\u0119 przytule do swoich kot\\u00f3w :)\",0.0],[\"@anonymized_account W\\u0142a\\u015bnie. Ilu! Najpierw odpowiedzmy sobie ma to pytanie,a potem dziwmy si\\u0119 zwyci\\u0119stwu Zdanowskiej\",0.0],[\"@anonymized_account W jego przypadku statystyka przebiegni\\u0119tych kilometr\\u00f3w nie ma znaczenia. Czy gra zajebi\\u015bcie, czy fatalnie, biega tyle samo.\",0.0],[\"@anonymized_account @anonymized_account 100%, Mann te\\u017c mia\\u0142 pe\\u0142ne prawo\",0.0],[\"@anonymized_account Ko\\u0144czy\\u0142e\\u015b ju\\u017c kilka razy \\ud83d\\ude02\",0.0],[\"@anonymized_account Dzisiaj zajmujemy si\\u0119 WARiatem Krystyn\\u0105 ciekawe czy b\\u0119dzie p\\u0142aka\\u0142?\",1.0],[\"@anonymized_account @anonymized_account @anonymized_account @anonymized_account A co b\\u0119dzie jak Kuba nigdy niewroci?\",0.0],[\"@anonymized_account Tym w sejmie te\\u017c? Banda hipokryt\\u00f3w i z\\u0142odziei.\",1.0],[\"W ka\\u017cdej z czterech grup b\\u0119dzie walka o zwyci\\u0119stwo premiowane awansem do CLJ. Bardzo potrzebne rozwi\\u0105zanie, brawo.\",0.0],[\"@anonymized_account Tak si\\u0119 pozna\\u0142am z moim ch\\u0142opakiem \\ud83d\\ude02 czasami warto\",0.0],[\"@anonymized_account nelly furtado a tytu\\u0142 forco czy cos takiego\",0.0],[\"@anonymized_account M\\u00f3w prawd\\u0119, kto was skrzywdzi\\u0142\",0.0],[\"@anonymized_account jestem tu od 2013 xd\",0.0],[\"@anonymized_account Ta kadra to rocznik 2002\",0.0],[\"Posiada sensor CGM , ci\\u0105g\\u0142y monitoring glikemii, w ko\\u0144cu.\",0.0],[\"Jeszcze \\u017caden Polak nie wyst\\u0105pi\\u0142 w meczu gwiazd NBA, nie licz\\u0105c Mietka Paciaciaka ;) Pom\\u00f3\\u017cmy Marcinowi Gortatowi by\\u0107 1 @anonymized_account #NBAVOTE\",0.0],[\"RT @anonymized_account Jeszcze \\u017caden Polak nie wyst\\u0105pi\\u0142 w meczu gwiazd NBA, nie licz\\u0105c Mietka Paciaciaka ;) Pom\\u00f3\\u017cmy Marcinowi Gortatowi by\\u0107 1\\u2026\",0.0],[\"@anonymized_account No kurwa my\\u015bla\\u0142em \\u017ce na Podlasiu\",0.0],[\"@anonymized_account @anonymized_account Tak, to nawet lepsze rozwi\\u0105zanie.\",0.0],[\"@anonymized_account @anonymized_account Ko\\u0144 by si\\u0119 u\\u015bmia\\u0142, TVN24 i TVN wolne media? Bardziej perfidnego \\u0142garstwa nie s\\u0142ysza\\u0142em.. \\ud83e\\udd14\",1.0],[\"RT @anonymized_account @anonymized_account @anonymized_account Ko\\u0144 by si\\u0119 u\\u015bmia\\u0142, TVN24 i TVN wolne media? Bardziej perfidnego \\u0142garstwa nie s\\u0142ysza\\u0142em.. \\ud83e\\udd14\",1.0],[\"@anonymized_account Gdzie ja wtedy by\\u0142am? ;-)\",0.0],[\"@anonymized_account @anonymized_account @anonymized_account Midze sie nudzi\\u0142o i se co\\u015b na kolanie napisa\\u0142 i macie sensacje\",0.0],[\"@anonymized_account Dzisiaj wr\\u00f3ci\\u0142 do trening\\u00f3w, czyli zd\\u0105\\u017cyli \\ud83d\\ude09\",0.0],[\"@anonymized_account @anonymized_account @anonymized_account @anonymized_account Nie wiem, zerknij na 90minut\",0.0],[\"@anonymized_account @anonymized_account Z mot\\u0142ochem nie dyskutuj\\u0119 tylko daje bany. A Pani @anonymized_account gratuluj\\u0119 obro\\u0144cy.\",1.0],[\"@anonymized_account mo\\u017cesz te\\u017c zawsze po prostu zapyta\\u0107 kiedy si\\u0119 urodzi\\u0142am. Albo wpisa\\u0107 hasztag #100latKasiaPawlak ;-)\",0.0],[\"@anonymized_account ale z kategoriami moim zdaniem przesadzaj\\u0105.Sponsor roku, serce, impreza ? Bez jaj\",1.0],[\"@anonymized_account Prezes si\\u0119 cieszy ze Wisla odpad\\u0142a bo w razie fina\\u0142u Legia-Wisla zn\\u00f3w by musia\\u0142 fina\\u0142 odwo\\u0142ywa\\u0107\",0.0],[\"Bratowa wys\\u0142a\\u0142a mi zdj\\u0119cie bratanicy z rozpocz\\u0119cia roku, idzie do pierwszej klasy, biedactwo nie wie co j\\u0105 czeka\",0.0],[\"@anonymized_account szybkie pytanie do @anonymized_account R\\u0119ka Sadloka by\\u0142a zagraniem umy\\u015blnym ?\",0.0],[\"@anonymized_account Dzie\\u0144 w kt\\u00f3rym Abidal sprzeda\\u0142 i kupi\\u0142 A.Vidala \\ud83d\\ude09\",0.0],[\"@anonymized_account R\\u00f3wnie dobrze mo\\u017cna gola straci\\u0107 :)\",1.0],[\"@anonymized_account Chorwaci przer\\u017cn\\u0105 w ko\\u0144c\\u00f3wce dogrywki, wiadomo.\",1.0],[\"@anonymized_account Nasze dzieci b\\u0119d\\u0105 zdegustwani, by\\u0142 taki PiS, taki @anonymized_account , historia populizmu i g\\u0142upoty w latach 2015-2019, margines\",1.0],[\"@anonymized_account O, my\\u015bla\\u0142am, \\u017ce nikt ju\\u017c nie u\\u017cywa \\\\\\\"mnie\\\\\\\" tylko \\\\\\\"mi\\\\\\\".\",0.0],[\"@anonymized_account @anonymized_account @anonymized_account Na nowym stadionie West Hamu te\\u017c to widzia\\u0142em.\",0.0],[\"@anonymized_account @anonymized_account zawodnik w sezonie mo\\u017ce gra\\u0107 w barwach dw\\u00f3ch klub\\u00f3w wi\\u0119c jeszcze nic straconego :)\",0.0],[\"ciekawe czy faktycznie jest taki zak\\u0142ad bo je\\u015bli tak to nie\\u017ale XD\",0.0],[\"@anonymized_account Hehe, do gazu, hehe jeszcze jakie\\u015b emotikony wrzu\\u0107\",0.0],[\"Qrwa!! I niech mi nikt nie m\\u00f3wi, \\u017ce czary to jaki\\u015b zabobon!! Ch\\u0142opaki maj\\u0105 sztywne nogi!\",1.0],[\"Od 01.10.2018 ka\\u017cde sprawozdanie finansowe w formie elektronicznej, zgodne ze struktur\\u0105 jpk\",0.0],[\"Na TVP Krak\\u00f3w pad\\u0142a w\\u0142a\\u015bnie informacja \\u017ce rozmowy z potencjalnym kupcem Wis\\u0142y prze\\u0142o\\u017cony z dzi\\u015b na jutro.\",0.0],[\"RT @anonymized_account Na TVP Krak\\u00f3w pad\\u0142a w\\u0142a\\u015bnie informacja \\u017ce rozmowy z potencjalnym kupcem Wis\\u0142y prze\\u0142o\\u017cony z dzi\\u015b na jutro.\",0.0],[\"@anonymized_account NIECH JESZCZE DADZ\\u0104 LEKTORA I NA G\\u0141\\u00d3WNA POSTA\\u0106 M\\u00d3WI\\u0104 NADZIEJA\",1.0],[\"RT @anonymized_account @anonymized_account NIECH JESZCZE DADZ\\u0104 LEKTORA I NA G\\u0141\\u00d3WNA POSTA\\u0106 M\\u00d3WI\\u0104 NADZIEJA\",1.0],[\"@anonymized_account Nie no ludzie, \\u017ceby robi\\u0107 artyku\\u0142 na temat jednego tweeta ?...\",1.0],[\"@anonymized_account Jak powiem, \\u017ce pierwsze s\\u0142ysze, to b\\u0119dzie kompromitacja czy nie? \\ud83d\\ude04\",0.0],[\"@anonymized_account Usu\\u0144 konto, wytrze\\u017awiej buduj od nowa\",1.0],[\"@anonymized_account @anonymized_account @anonymized_account Sekta, cha, cha, cha, obud\\u017a si\\u0119 z hipnozy, jeste\\u015b bolszewikiem\",1.0],[\"Nie wstan\\u0119 kurde nie ma opcji\",0.0],[\"@anonymized_account @anonymized_account Spokojnie, u mnie te\\u017c Kaczarawa na kapitanie + Cvijanovi\\u0107 :)\",0.0],[\"niech \\u0142adny ch\\u0142opiec z kr\\u0119conymi w\\u0142osami do mnie napisze: jutro, zaraz, teraz\",0.0],[\"RT @anonymized_account niech \\u0142adny ch\\u0142opiec z kr\\u0119conymi w\\u0142osami do mnie napisze: jutro, zaraz, teraz\",0.0],[\"@anonymized_account im kto\\u015b gorzej widzi, d\\u0142u\\u017cej musi czeka\\u0107, cho\\u0107 ten, kt\\u00f3ry widzi lepiej, d\\u0142u\\u017cej poradzi sobie bez okular\\u00f3w. \\ud83d\\ude28\",0.0],[\"@anonymized_account Oj, no to powodzenia! Co tam b\\u0119dziesz musia\\u0142a robi\\u0107? \\ud83e\\udd2d\",0.0],[\"@anonymized_account @anonymized_account @anonymized_account @anonymized_account Chyba nie, Marcin m\\u00f3wi\\u0142 co\\u015b o '89.\",0.0],[\"@anonymized_account Przeczytaj mojego kolejnego twitta to zobaczysz, \\u017ce nie umkn\\u0119\\u0142o i co s\\u0105dze o poziomie tego meczu.\",0.0],[\"@anonymized_account Tylko nie w dup\\u0119, to dla niekt\\u00f3rych z nich by\\u0142aby przyjemno\\u015b\\u0107.\",1.0],[\"@anonymized_account @anonymized_account Wida\\u0107 chc\\u0105 wiecej polskich mord gotujacych konin\\u0119\",1.0],[\"@anonymized_account No to jak si\\u0119 przegrywa ca\\u0142y czas to lepiej przesta\\u0107 gra\\u0107 :)\",1.0],[\"@anonymized_account @anonymized_account @anonymized_account Widz\\u0119, \\u017ce sami si\\u0119 znajduj\\u0105.\",0.0],[\"@anonymized_account Napewno mam niezaktualizowanego mo\\u017ce dlatego\",0.0],[\"@anonymized_account @anonymized_account Smokowski m\\u00f3wi\\u0142 \\u017ce Wis\\u0142a ma pi\\u0142karzy 3 sortu, a Wieszczycki deprecjonowa\\u0142 dobr\\u0105 prace Kiko\",0.0],[\"wi\\u0119c zaczynam ogl\\u0105da\\u0107 Do wszystkich ch\\u0142opc\\u00f3w, kt\\u00f3rych kocha\\u0142am bo wszyscy o tym m\\u00f3wi\\u0105 i a\\u017c chc\\u0119 to sprawdzi\\u0107\",0.0],[\"@anonymized_account Ban,ban i jeszcze raz ban! Co za prymitywne dno!\",1.0],[\"@anonymized_account @anonymized_account Jasne, bo debile ogl\\u0105daj\\u0105cy tvpis p\\u0142acz\\u0105 tylko na m jak mi\\u0142o\\u015b\\u0107\",1.0],[\"@anonymized_account @anonymized_account @anonymized_account W stop klatkach wida\\u0107 ze jak by to by\\u0142o po stronie drugiej (legi) to karny by by\\u0142\",0.0],[\"Zdrady stanu to Donald Tusk dopu\\u015bci\\u0142 si\\u0119 ju\\u017c w 2010 r kiedy doda\\u0142 Rosjanom \\u015bledztwo w sprawie katastrofy smole\\u0144skiej.\",1.0],[\"@anonymized_account Na marginesie jestem c\\u00f3rk\\u0105 biskupa\",0.0],[\"@anonymized_account Przejdzie historii: jak tworzy\\u0107 k\\u0142amstwo w dobie powszechnego dost\\u0119pu do informacji\",0.0],[\"@anonymized_account Od ok 8 lat u\\u017cywam kolejnych modeli HTC i nigdy mnie nie zawiod\\u0142y.\",0.0],[\"@anonymized_account @anonymized_account Ty si\\u0119 oszu\\u015bcie i k\\u0142amco od nas odpierdol. My sobie damy rad\\u0119 bez twoich k\\u0142amstw\",1.0],[\"@anonymized_account @anonymized_account @anonymized_account odwa\\u017cne s\\u0142owa jak na legioniste! \\ud83d\\ude02\\ud83d\\ude02\\ud83d\\ude02\",1.0],[\"@anonymized_account @anonymized_account Za\\u0142atwi to jedno g\\u0142osowanie w sejmie i \\u017cadne demonstracje nie b\\u0119d\\u0105 mia\\u0142y na to wp\\u0142ywu.\",0.0],[\"@anonymized_account @anonymized_account @anonymized_account Krzy\\u017c celtycki w Irlandii debilu ma kompletnie inne znaczenie ni\\u017c u neofaszyst\\u00f3w.\",1.0],[\"@anonymized_account Co\\u015b w tym jest,bo ja te\\u017c\\ud83d\\ude01\\ud83d\\ude01\\ud83d\\ude01. I jeszcze bym doda\\u0142 Dominisi\\u0119 W. kt\\u00f3rej infantylizm mnie totalnie os\\u0142abia.\",1.0],[\"@anonymized_account @anonymized_account Gdzie oni znajduj\\u0105 takich dupk\\u00f3w\",1.0],[\"m\\u00f3j stres zacz\\u0105\\u0142 si\\u0119 stresowa\\u0107 swoim w\\u0142asnym stresem, kt\\u00f3re r\\u00f3wnie\\u017c si\\u0119 stresuje ja pierdole do\\u015b\\u0107\",0.0],[\"RT @anonymized_account m\\u00f3j stres zacz\\u0105\\u0142 si\\u0119 stresowa\\u0107 swoim w\\u0142asnym stresem, kt\\u00f3re r\\u00f3wnie\\u017c si\\u0119 stresuje ja pierdole do\\u015b\\u0107\",0.0],[\"@anonymized_account @anonymized_account @anonymized_account @anonymized_account @anonymized_account dojdzie Brlek, Stili\\u0107 wr\\u00f3ci do formy, obcokrajowcy si\\u0119 zaaklimatyzuj\\u0105 i bedzie dobrze\\ud83d\\udcaa\",0.0],[\"@anonymized_account @anonymized_account @anonymized_account Brawo grzechu za Tw\\u00f3j powr\\u00f3t do \\u017cywych\\\\n W Rosji poka\\u017c swoj\\u0105 moc\",0.0],[\"@anonymized_account @anonymized_account @anonymized_account @anonymized_account Wonder!! Chyba ci\\u0119....\\ud83d\\ude01\\ud83d\\ude01\\ud83d\\ude01\\ud83d\\ude01\\ud83d\\ude01.No dobra. Na jaki?\\ud83d\\ude01\\ud83d\\ude01\\ud83d\\ude01\",0.0],[\"@anonymized_account Ja mam uczulenie na dobr\\u0105 zmian\\u0119, ale to d\\u0142u\\u017csza historiac\",0.0],[\"@anonymized_account R\\u00f3\\u017cnicy nie ma, bo pisali wtedy, \\u017ce nie mo\\u017cna zsy\\u0142a\\u0107 zawodnik\\u00f3w do rezerw ;P\",0.0],[\"@anonymized_account \\u017bal ci biedaku??? Gdyby nie Kaczy\\u0144ski to by je twoi przyjaciele z PO rozkradl\",1.0],[\"RT @anonymized_account @anonymized_account \\u017bal ci biedaku??? Gdyby nie Kaczy\\u0144ski to by je twoi przyjaciele z PO rozkradl\",1.0],[\"Dobry dzie\\u0144 na przypomnienie sobie genezy gwiazdek na fladze #UE #deklaracjaRzymska\",0.0],[\"Sekta kurwa, jaka\\u015b niepoj\\u0119ta rado\\u015b\\u0107, ka\\u017cde konto pisdzielskie tylko o jednym\",1.0],[\"@anonymized_account @anonymized_account Nie wierz\\u0119, bez za\\u015bwiadczenia od proboszcza?\",0.0],[\"@anonymized_account I chyba wtedy by\\u015b niezaprzeczyla?\",0.0],[\"@anonymized_account Tak naprawd\\u0119 czy b\\u0119dziemy w spadkowej czy mistrzowskiej to i tak czekaj\\u0105 nas sparingi.\",0.0],[\"@anonymized_account Jeba\\u0107, jeba\\u0107, nic si\\u0119 nie ba\\u0107.\",0.0],[\"@anonymized_account Jakiej pracy, ty ju\\u017c pajacu nie wiesz na czym si\\u0119 lansowa\\u0107. Sejm nie pracuje.\",1.0],[\"Kilogramy rozmna\\u017caj\\u0105 si\\u0119 przez p\\u0105czkowanie \\ud83d\\ude23\\ud83d\\ude16\\\\n#T\\u0142ustyCzwartek\",0.0],[\"@anonymized_account @anonymized_account Nie dzia\\u0142aj\\u0105 i lepiej dzia\\u0142a\\u0107 szybko bo klienci nie maja dost\\u0119pu do \\u015brodk\\u00f3w na kontach\",0.0],[\"@anonymized_account @anonymized_account @anonymized_account jutro walczycie ? Normalnie rycerze ! A gdzie byli\\u015bcie wcze\\u015bniej ? A zapomnia\\u0142em \\u017ce nie o L chodzi\\u0142o\",1.0],[\"@anonymized_account Ale to g\\u0142upie, rdzennie g\\u0142upie, bardziej g\\u0142upie ju\\u017c by\\u0107 nie mo\\u017ce\",1.0],[\"@anonymized_account Szczeg\\u00f3lnie Vestenicky.Podczas wypo\\u017cyczenia nic nie pokaza\\u0142 a go wykupili za 500 tys euro \\ud83d\\ude02\\ud83d\\udc4f\",0.0],[\"@anonymized_account Ju\\u017c si\\u0119 boj\\u0119. Postraszy mnie Pan kolegami narodowcami?\",1.0],[\"@anonymized_account Co nie by\\u0142o blisko? Bo nie rozumiem.\",0.0],[\"@anonymized_account @anonymized_account A od kiedy komentatorzy na Sky to wyrocznia?\",0.0],[\"@anonymized_account @anonymized_account Nazwisko tego babska\\ud83d\\ude01\\ud83d\\ude01\\ud83d\\ude01\\ud83d\\ude01. Bo Wczoraj by\\u0142 na MO\\ud83d\\ude01\\ud83d\\ude01\\ud83d\\ude00\",1.0],[\"@anonymized_account Zbiera si\\u0119 do kontrataku, dla swojego pryncypala p\\u00f3jdzie w b\\u00f3j, patrityczna dusza,  co nie @anonymized_account ?\",1.0],[\"@anonymized_account a w kolejnych fajnie jakby gra\\u0142 na lewej za Sadloka @anonymized_account\",0.0],[\"@anonymized_account by\\u0142em w pracy ale zaraz odpalam meczyk na yt.Dzi\\u0119ki za walke !!!!:)\",0.0],[\"@anonymized_account @anonymized_account jakie 0 motywacji ? Jest chyba r\\u00f3\\u017cnica mie\\u0107 medal albo go niemie\\u0107\",0.0],[\"@anonymized_account Niby nie macie czy niby nie mit? \\ud83d\\ude02\\ud83d\\ude02\",0.0],[\"@anonymized_account Ja bym by\\u0142 ostro\\u017cny\\ud83d\\ude01\\ud83d\\ude01\\ud83d\\ude01A jak ma na imi\\u0119?\",0.0],[\"@anonymized_account @anonymized_account @anonymized_account Tak to jest jak kto\\u015b nie wie do kt\\u00f3rego lekarza i\\u015b\\u0107 najpierw.\",1.0],[\"@anonymized_account @anonymized_account No nie dziwie si\\u0119 w sumie. Dobrze, \\u017ce tylko raz dzwoni\\u0142\",0.0],[\"@anonymized_account @anonymized_account Wasz \\u015bwiat? To si\\u0119 w nim zamknijcie i nie wystawiajcie nosa.\",1.0],[\"@anonymized_account @anonymized_account Przyjaci\\u00f3\\u0142 to niech on sobie szuka za swoje prywatne pieni\\u0105dze. I niech robi z siebie idiot\\u0119 na w\\u0142asny rachunek.\",1.0],[\"imagine sie komus podobac??? ze ktos sie stara o TWOJA uwage??? can\\u2019t relate\",0.0],[\"RT @anonymized_account imagine sie komus podobac??? ze ktos sie stara o TWOJA uwage??? can\\u2019t relate\",0.0],[\"@anonymized_account @anonymized_account @anonymized_account a Portugalia jak zagra\\u0142a ?\",0.0],[\"Pierwsze zdanie: \\\\\\\"Paczka papieros\\u00f3w kosztuje 4 miliardy marek\\\\\\\".\\\\n#JajoW\\u0119\\u017ca teraz na @anonymized_account\",0.0],[\"@anonymized_account @anonymized_account No to tym bardziej :)\",0.0],[\"@anonymized_account Ja przynajmniej mam profilowe i nie chowam si\\u0119 za awatarem. Ale bohater\\u00f3w MW na to nie sta\\u0107 i w sumie nic w tym dziwnego.\",1.0],[\"@anonymized_account Czego si\\u0119 spodziewa\\u0107 po cz\\u0142onku \\u017cydowskiego ameryka\\u0144skiego lobby. Lata na kolanach przed \\u017cydami zrobi\\u0142o swoje.\",1.0],[\"RT @anonymized_account @anonymized_account Czego si\\u0119 spodziewa\\u0107 po cz\\u0142onku \\u017cydowskiego ameryka\\u0144skiego lobby. Lata na kolanach przed \\u017cydami zrobi\\u0142o swoj\\u2026\",1.0],[\"@anonymized_account Co ty cz\\u0142owieku pijesz z rana?\",0.0],[\"@anonymized_account @anonymized_account pewnie narz\\u0105dy te\\u017c wkr\\u00f3tce sprzeda :D\",0.0],[\"@anonymized_account w zesz\\u0142ym sezonie to samo pisa\\u0142e\\u015b ?\",0.0],[\"Picie to przysz\\u0142o\\u015b\\u0107, pi\\u0119kna i nieznana, szukajcie zapomnienia, pr\\u00f3bujcie r\\u00f3\\u017cnych trunk\\u00f3w, \\u0142\\u0105czcie \\u015brodki psychoaktywne, powodzenia\",0.0],[\"@anonymized_account Ale ty jeste\\u015b \\u017cenuj\\u0105cy. Dno metr mu\\u0142u.\",1.0],[\"@anonymized_account spoko, nigdy nie daje unfollow aktywnym ludziom, tylko tym, kt\\u00f3rzy nie pisz\\u0105 nic od miesi\\u0119cy albo dali mi unfollow\",0.0],[\"\\\\\\\"- Co to jest tajmlajn na fejsie?\\\\n- Zmarszczki\\\\\\\".\",0.0],[\"@anonymized_account mo\\u017ce trzeba ch\\u0142opak\\u00f3w na crossfit zabiera\\u0107 ?:)\",0.0],[\"@anonymized_account znacznie bli\\u017cej jest mi muzu\\u0142manin  czy indus, ni\\u017c katolicka, \\u0142ysa swo\\u0142ocz ze wschodu europy, do tego rasistowska\",1.0],[\"Dzisiaj o 18.00 Strefa Kibica w Radiu Akadera. Zapraszamy.\",0.0],[\"@anonymized_account Nie powinno by\\u0107 \\u017ale o ile si\\u0119 utrzymamy :P\",0.0],[\"@anonymized_account Spokojnie trzeba ta pora\\u017ck\\u0119 wzi\\u0105\\u015b\\u0107 na klat\\u0119 mecz si\\u0119 tak u\\u0142o\\u017cy\\u0142 nie inaczej napewno gorsi du\\u017co my niebyli.\",0.0],[\"@anonymized_account Ale si\\u0119 ciesz\\u0105. Wreszcie koniec i b\\u0119dzie mo\\u017cna wypi\\u0107 te.zapasy z plecaka.\",0.0],[\"@anonymized_account @anonymized_account Ofert\\u0119 przed\\u0142u\\u017cenis kontraktu pono\\u0107 dosta\\u0142 od Wis\\u0142y, ale jej nie zaakceptowa\\u0142.\",0.0],[\"Dzi\\u015b o godz. 20:00 Prezydent RP wyg\\u0142osi or\\u0119dzie.\",0.0],[\"RT @anonymized_account Dzi\\u015b o godz. 20:00 Prezydent RP wyg\\u0142osi or\\u0119dzie.\",0.0],[\"@anonymized_account my\\u015bla\\u0142em \\u017ce si\\u0119 przychodzi na stadion dla dru\\u017cyny a nie na poszczeg\\u00f3lnych pi\\u0142karzy\",0.0],[\"@anonymized_account kibicom chodzi raczej o postawe dziennikarzy a nie klubu.\",0.0],[\"@anonymized_account @anonymized_account Nie trzeba Algierczyk\\u00f3w, wystarczy kilku polskich katechet\\u00f3w.\",0.0],[\"@anonymized_account Barcelona z Messim (ta obecna) by taki mecz wygra\\u0142a 1:0, albo jaki\\u015b Suarez by co\\u015b wcisn\\u0105\\u0142 :P\",0.0],[\"@anonymized_account @anonymized_account TW Wolfgang, TW Faraon i TW Rycerz,TW Balbina, TW Micha\\u0142 \\\\nKto mieczem wojuje, ten od pochwy ginie\",0.0],[\"@anonymized_account @anonymized_account Zgadza si\\u0119 ale przecie\\u017c nas niestac \\u017ceby komin p\\u0142acowy zacz\\u0105\\u0107 od.carlitosa\",0.0],[\"@anonymized_account @anonymized_account @anonymized_account Low kick, kolano \\u0142okie\\u0107, blacha na czo\\u0142o i stara le\\u017cy\",1.0],[\"@anonymized_account Niestety obrazki b\\u0119d\\u0105 te\\u017c zielone, czarne i brunatne.\",0.0],[\"Kto\\u015b za\\u0142o\\u017cy\\u0142 fejkowe konto i ogl\\u0105da WSZYSTKIE moje story\",0.0],[\"@anonymized_account @anonymized_account \\u017bycie, zdarza si\\u0119. Jednak od takiego rzutu wolnego do gola droga do\\u015b\\u0107 daleka.\",0.0],[\"@anonymized_account a wydanie 500 tys euro gdy si\\u0119 nie ma pieni\\u0119dzy nie jest strza\\u0142em w kolano ?\",0.0],[\"@anonymized_account Wio endekdu, \\u015bcierwa, zdrajcy, szubienica\",1.0],[\"@anonymized_account nie dziwie si\\u0119, to by\\u0142o do\\u015b\\u0107 cwane :)\",0.0],[\"@anonymized_account Raczey! Jutro b\\u0119dzie jej odczytywane przez ca\\u0142y dzie\\u0144 ;-)\",0.0],[\"@anonymized_account Kto b\\u0119dzie pi\\u0142 te mleko, gdzie b\\u0119d\\u0105 je\\u017adzi\\u0142y tiry, meble, okna ty maly kogucie\",0.0],[\"@anonymized_account @anonymized_account @anonymized_account @anonymized_account Nie myli si\\u0119 tylko ten, co nic nie robi.\",0.0],[\"Mama b\\u0119dzie mi obcina\\u0107 w\\u0142osy boje si\\u0119\",0.0],[\"@anonymized_account @anonymized_account @anonymized_account @anonymized_account No to musz\\u0105 ci nie\\u017ale p\\u0142aci\\u0107 za wiersz\\u00f3wki.\",0.0],[\"@anonymized_account czy masz info jakie obecnie Ondrasek ma zarobki w Wi\\u015ble?\",0.0],[\"@anonymized_account Jaka kwota wykupienia go po roku??\",0.0],[\"@anonymized_account @anonymized_account @anonymized_account Dla kogo pracowa\\u0142? Nie przy \\u015bniadaniu bo si\\u0119 ud\\u0142awi\\u0107 mo\\u017cna z wra\\u017cenia. Poprosz\\u0119 5 przyk\\u0142ad\\u00f3w zatem.\",0.0],[\"@anonymized_account @anonymized_account @anonymized_account Widz\\u0119, \\u017ce dalej nie rozumiesz. No nic id\\u0119 ogl\\u0105da\\u0107 LM. Pozdro.\",1.0],[\"@anonymized_account @anonymized_account je\\u015bli masz TV w\\u0142\\u0105czony od 8:00 do 1:00, a reklama pojawia si\\u0119 3 x na godzin\\u0119, po 2 mies. jeste\\u015b na granicy ob\\u0142\\u0119du.\",0.0],[\"@anonymized_account @anonymized_account A co o w\\u0142oskich faszystach i w\\u0119gierskich nacjonalistach?\",1.0],[\"@anonymized_account @anonymized_account Dojenie kasy przez rz\\u0105d\\\\nKompromitacja Morawieckiego w Niemczech\\\\nKaczy\\u0144ski tw\\u00f3rca pa\\u0144stwa Polskiego w 2016 roku\",1.0],[\"@anonymized_account Jeszcze w nastepnej kolejce pewnie jakis pi\\u0105tek\",0.0],[\"@anonymized_account @anonymized_account i oczywi\\u015bcie by\\u0142o pytanie czy nie boi si\\u0119 o przysz\\u0142o\\u015b\\u0107 Wis\\u0142y \\ud83d\\ude02 przechodzicie samych siebie\",0.0],[\"@anonymized_account no ja w\\u0142a\\u015bnie to samoXD znaczy wiem ze Emre wbija cz\\u0119sto, bo jego \\u017cona jest polk\\u0105 ale no\",0.0],[\"@anonymized_account Nic nie mog\\u0105. Ale ich brak mo\\u017ce spowodowa\\u0107, \\u017ce strajkuj\\u0105cy szybciej si\\u0119 z Sejmu wynios\\u0105.\",0.0],[\"@anonymized_account @anonymized_account @anonymized_account Przecie\\u017c jak go zamkn\\u0105 to o czym ty b\\u0119dziesz pisa\\u0142 ? Twoje \\u017cycie straci sens...\",0.0],[\"@anonymized_account @anonymized_account To zaraz porobie screeny od momentu od kt\\u00f3rego jest zablokowane :)\",0.0],[\"@anonymized_account Kto\\u015b przesta\\u0142 s\\u0142odzi\\u0107, kto\\u015b kto du\\u017co s\\u0142odzi\\u0142\",0.0],[\"@anonymized_account @anonymized_account @anonymized_account No to po co si\\u0119 zgodzi\\u0142 na klauzule dopiero po zako\\u0144czeniu przysz\\u0142ego sezonu, a nie od razu ?\",1.0],[\"@anonymized_account Jest to prawda. Ale MSZ powinien. On pewnie my\\u015bla\\u0142, \\u017ce jest w Pisowskiej Polsce i wszystkoi wolno.\\ud83d\\ude00\\ud83d\\ude00\\ud83d\\ude00\",1.0],[\"@anonymized_account delikatnie nie po drodze :D\",0.0],[\"@anonymized_account @anonymized_account No to 0:0 murowane (bo mam te\\u017c ludzi z Cracovii)\",0.0],[\"@anonymized_account Mo\\u017ce og\\u0142uszy\\u0142y go te korki od szampan\\u00f3w, kt\\u00f3re strzela\\u0142y po podpisaniu kontraktu Sadloka z Jagielloni\\u0105 ?\",1.0],[\"Panie i panowie, totalna pora\\u017cka @anonymized_account w miastach. \\\\nT O T A L N A \\\\nTo bardzo wa\\u017cny znak.\",1.0],[\"RT @anonymized_account Panie i panowie, totalna pora\\u017cka @anonymized_account w miastach. \\\\nT O T A L N A \\\\nTo bardzo wa\\u017cny znak.\",1.0],[\"@anonymized_account @anonymized_account @anonymized_account @anonymized_account r\\u0119ce opadaj \\u017ce takich rzeczy ludzie zwi\\u0105zani z futsalem nie wiedz\\u0105.\",1.0],[\"@anonymized_account @anonymized_account Przeczyta\\u0142em wszystko. Fantastycznego ma Pani Dziadka!\",0.0],[\"@anonymized_account Na wszystko masz odpowied\\u017a, \\u017cy\\u0142e\\u015b w tych czasach?\",1.0],[\"@anonymized_account @anonymized_account Mr. Czarnecki. To nie hipokryzja tylko zwyk\\u0142a ludzka przyzwoito\\u015b\\u0107. Wida\\u0107 \\u017ce niekt\\u00f3rym obce takie  odruchy.\",1.0],[\"Diego Maradona - Robbie Williams 2:1.\",0.0],[\"@anonymized_account @anonymized_account @anonymized_account Ja nie by\\u0142bym taki pewny\",0.0],[\"@anonymized_account patrz\\u0105c kogo bior\\u0105 to mam w\\u0105tpliwo\\u015bci czy nie chc\\u0105 do 1 ligi (nie licz\\u0105c Marciniaka)\",0.0],[\"@anonymized_account To by\\u0142o dawno, jeszcze nie znali fotoszopa\",0.0],[\"@anonymized_account @anonymized_account Maly murzyn, silny i zdrowy\",1.0],[\".@anonymized_account pojawi\\u0142 si\\u0119 na TT. To konto to nie fejk. \\\\nDo\\u0142\\u0105czajcie :) \\ud83d\\udcaa\",0.0],[\"RT @anonymized_account .@anonymized_account pojawi\\u0142 si\\u0119 na TT. To konto to nie fejk. \\\\nDo\\u0142\\u0105czajcie :) \\ud83d\\udcaa\",0.0],[\"W programie Igrzyska wolno\\u015bci w \\u0141odzi \\u015bpiewanie pie\\u015bni rewolucyjnych,i piosenek z serialu,4 pancerni i pies.\",0.0],[\"@anonymized_account no i w ko\\u0144cu widz\\u0119 u\\u015bmiech :)\",0.0],[\"@anonymized_account Jeszcze was zjemy i wysramy\",1.0],[\"@anonymized_account lepszy argument to \\u017ce kto\\u015b go nie chce bo go nie lubi\",0.0],[\"@anonymized_account @anonymized_account Tylko \\u017ce ten prostak sie nabija\\u0142, szydzi\\u0142 tak jak ze \\u015bmierci Piotra S.\",0.0],[\"@anonymized_account Qwa! Wypi\\u0142em kaw\\u0119 przed chwil\\u0105.Bardzo dobra kaw\\u0119.Nie chc\\u0119 jej zwraca\\u0107. A swoj\\u0105 drog\\u0105 to \\u015bwietny \\u015brodek na wywo\\u0142anie wymiot\\u00f3w.\",0.0],[\"Wchodz\\u0119 w powiadomienia a tu nic, ju\\u017c na 4 tt odpisa\\u0142em, zaraz wyjebi\\u0105 bana\",0.0],[\"@anonymized_account nataliethere_ oddam szybciutko z powiadomie\\u0144\",0.0],[\"@anonymized_account Tak tak jeszcze kto\\u015b w to uwierzy\",0.0],[\"@anonymized_account @anonymized_account @anonymized_account Tez musze trzyma\\u0107 poziomo tel czytaj\\u0105c ten artyku\\u0142\",0.0],[\"@anonymized_account @anonymized_account @anonymized_account Czasy kiedy zacz\\u0105\\u0142em interesowa\\u0107 si\\u0119 pi\\u0142k\\u0105 i Wis\\u0142\\u0105 \\ud83d\\ude0d\",0.0],[\"@anonymized_account Wy narobiliscie 30miliardow dlugow za waszych rzadow #oddajciekase\",1.0],[\"RT @anonymized_account @anonymized_account Wy narobiliscie 30miliardow dlugow za waszych rzadow #oddajciekase\",1.0],[\"@anonymized_account Czy @anonymized_account got\\u00f3w na tak\\u0105 kolej rzeczy?\",0.0],[\"@anonymized_account Tak jak pisdzielstwo o\\u015bmiesza policjant\\u00f3w , to ju\\u017c, nikt, nigdy bardziej nie b\\u0119dzie\",1.0],[\"@anonymized_account A kiedy przestanie wydawa\\u0107 mln na swoich ochroniarzy, tylko zacznie leczy\\u0107 u psychiatry swoj\\u0105 mani\\u0119 prze\\u015bladowcz\\u0105?\",1.0],[\"@anonymized_account Pierwszy priorytet zadowoli\\u0107 Jarkacza, drugi priorytet ssa\\u0107 kas\\u0119 wszystkimi otworami,  maj\\u0105 rozdwojenie ja\\u017ani\",1.0],[\"@anonymized_account Huj z wami dziennikarzami. Pi\\u0142ka no\\u017cna dla kibic\\u00f3w a nie pseudo dziennikarzy.\",1.0],[\"@anonymized_account E tam! To z mi\\u0142o\\u015bci do \\u0141odzi\\ud83d\\ude01. I przyjdzie do PiS\\ud83d\\ude01\\ud83d\\ude01\",0.0],[\"@anonymized_account A ja, ze co\\u015b znowu zepsu\\u0142am xd\",0.0],[\"Czemu jak zawsze si\\u0119 o kogo\\u015b martwi\\u0119 to ja dostaje po dupie, i mean nie wiem\",0.0],[\"@anonymized_account kiedy wyje\\u017cd\\u017casz? ja w pi\\u0105tek, co prawda ju\\u017c drugi rok ale moja rodzina nadal reaguje tak samo\",0.0],[\"@anonymized_account @anonymized_account @anonymized_account Ograniczy\\u0142bym to do \\\\\\\"Byle nie Ufa\\\\\\\" :)\",0.0],[\"@anonymized_account @anonymized_account \\u015awi\\u0119ta racja, ale zapytaj Jurgiela o notatki, on wie co spierdoli\\u0142. B\\u0119dzie \\u0142atwiej.\",0.0],[\"@anonymized_account @anonymized_account Szczeg\\u00f3lnie wielka strata za Smole\\u0144sk\",0.0],[\"@anonymized_account @anonymized_account @anonymized_account @anonymized_account daj zna\\u0107 @anonymized_account o  zdjecie blokady\",0.0],[\"@anonymized_account @anonymized_account My\\u015bl\\u0119, \\u017ce po info o konferencji wielu osobom to przychodzi do g\\u0142owy.\",0.0],[\"@anonymized_account Koniecznie! Zapraszamy na spacer z kawk\\u0105 \\ud83d\\ude03\",0.0],[\"@anonymized_account b\\u0142\\u0105d logiczny, te pieni\\u0105dze kiedy\\u015b by\\u0142y wasze, teraz ju\\u017c sa nasze i nic wam do tego towarzyszu\",0.0],[\"RT @anonymized_account @anonymized_account b\\u0142\\u0105d logiczny, te pieni\\u0105dze kiedy\\u015b by\\u0142y wasze, teraz ju\\u017c sa nasze i nic wam do tego towarzyszu\",0.0],[\"@anonymized_account Zale\\u017cy jak na to spojrze\\u0107. Z jednej strony akredytacja, z drugiej wyjazd za swoje $$$ \\ud83d\\ude09\",0.0],[\"@anonymized_account @anonymized_account albo wygrywali 1:0 z Barcelon\\u0105\",0.0],[\"@anonymized_account @anonymized_account tylko nie Za\\u0142uska.Nie potrzeba nam takich pi\\u0142karzy bez ambicji.\",1.0],[\"@anonymized_account @anonymized_account Nic specjalnego. Mo\\u017cna si\\u0119 domy\\u015bla\\u0107, \\u017ce pewnie p\\u00f3jdzie na wypo\\u017cyczenie.\",0.0],[\"Z Zag\\u0142\\u0119bia H\\u0142adun i Czerwi\\u0144ski w sk\\u0142adzie (pora\\u017cka 1:2), a z Legii Carlitos na kapitanie (zmiana w przerwie). Co za seria \\ud83d\\ude02\",0.0],[\"@anonymized_account co chwile o nim piszecie i gadacie jaka to pora\\u017cka jak nie zostanie.A nie pami\\u0119tacie jak jeszcze niedawno otrzymanie licencji1\\u002f2\",0.0],[\"@anonymized_account @anonymized_account Przecie\\u017c TS dzier\\u017cawi ta ziemi\\u0119 umowa na 99 lat zgadza si\\u0119 czy nie?\",0.0],[\"@anonymized_account Pyta si\\u0119 kiedy beda nowe okulary, bo juz chce wychodzi\\u0107\",0.0],[\"@anonymized_account Probierz szuka m\\u0142odych Polak\\u00f3w pasuje jak ula\\u0142\\ud83d\\ude09\",0.0],[\"@anonymized_account Mo\\u017ce pasuje do klucza francuskiego?\\ud83d\\udd27\\u263a\",0.0],[\"Pensja, kasa, dojenie, @anonymized_account ,ssanie kasy, ruchanie w meskie dupy, zawsze za pis, trudny teren, ciezkie warunki\",1.0],[\"@anonymized_account Polska to nie napis na dropsie, uuuu, niedobrze, uuuuuuu\",1.0],[\"@anonymized_account raczej ty si\\u0119 powiniene\\u015b jebn\\u0105\\u0107 ale nie wiem czy to pomo\\u017ce\",1.0],[\"@anonymized_account Jak narazie to sobie mo\\u017cecie kup\\u0119 zrobi\\u0107. Albo hurtowo da\\u0107 dupy pedofil\\u00f3w w sutannach, kt\\u00f3rych publicznie bronicie.\",1.0],[\"@anonymized_account Najlepiej w Polsce \\u017ceby legia mia\\u0142a pomoc :-)\",0.0],[\"Ale mam chujowy humor przez to, \\u017ce nie zda\\u0142am i jestem na siebie z\\u0142a\",1.0],[\"Szukam os\\u00f3b, kt\\u00f3re maj\\u0105 kontakt z rodzin\\u0105 gen. Bu\\u0142ak-Ba\\u0142achowicza. Sprawa  prywatna.\",0.0],[\"@anonymized_account Brawo skwk za komunikat pomimo braku zakazu czeka\\u0142em na ta wiadomo\\u015b\\u0107 co robi\\u0107, bo na mecz bez dopingu niemyslalem i\\u015b\\u0107\",0.0],[\"@anonymized_account @anonymized_account A ty wie\\u015b kretynie CONTI jest Acta2 i czego dotyczy? Najpierw przeczytaj a potem si\\u0119 wypowiadaj.\",1.0],[\"@anonymized_account Tr\\u0105ba ? Nie no ostro pojecha\\u0142a\\u015b :D\",0.0],[\"Beata #Mazurek w Sejmie na pytanie co my\\u015bli o pomy\\u015ble Kaczy\\u0144skiego o obni\\u017ckach wynagrodze\\u0144: \\\\\\\"Ja nic nie my\\u015bl\\u0119\\\\\\\". To s\\u0142ycha\\u0107.\",1.0],[\"RT @anonymized_account Beata #Mazurek w Sejmie na pytanie co my\\u015bli o pomy\\u015ble Kaczy\\u0144skiego o obni\\u017ckach wynagrodze\\u0144: \\\\\\\"Ja nic nie my\\u015bl\\u0119\\\\\\\". To s\\u0142yc\\u2026\",1.0],[\"Motocykle opu\\u015bci\\u0142y gniazda i kieruj\\u0105 si\\u0119 na p\\u00f3\\u0142noc. \\u017bonkile na przedmie\\u015bciach to ju\\u017c tylko formalno\\u015b\\u0107. Wiosna! :-)\",0.0],[\"@anonymized_account @anonymized_account \\ud83d\\udd75 Jest tak zakonspirowany, \\u017ce go nie wida\\u0107. Fachowiec. \\\\n(G\\u00f3rny, prawy r\\u00f3g)\",0.0],[\"@anonymized_account Kto mieczem wojuje od pochwy ginie @anonymized_account\",1.0],[\"@anonymized_account W jednej z powt\\u00f3rek by\\u0142o to dobrze wida\\u0107 :))\",0.0],[\"@anonymized_account Kochana nie ma po co bo p\\u00f3\\u017aniej wszyscy si\\u0119 b\\u0119d\\u0105 po to klei\\u0107 \\ud83d\\ude02\\ud83d\\ude02\",0.0],[\"@anonymized_account @anonymized_account chyba nie mia\\u0142e\\u015b si\\u0119 czego przyczepi\\u0107, nie przesadzajmy :)\",0.0],[\"@anonymized_account @anonymized_account Ale dlaczego g\\u0142upi @anonymized_account  t\\u0142umaczy to jeszcze g\\u0142upszemu @anonymized_account ?\",1.0],[\"@anonymized_account Dzwoni\\u0142am si\\u0119 dowiadywa\\u0107 kiedy si\\u0119 mo\\u017cna wprowadza\\u0107 \\ud83d\\ude02nie wiedzia\\u0142am ze takie problemy mog\\u0105 by\\u0107 xd\",0.0],[\"@anonymized_account Ju\\u017c pod koniec jazdy wymusilam na rondzie.... nie wiem jak to si\\u0119 sta\\u0142o, m\\u00f3j m\\u00f3zg mia\\u0142 za\\u0107mienie czy co\\u015b a\",0.0],[\"Nowe chodnikowe powiedzonko brzmi:\\\\n\\\\nPierdolisz jak Morawiecki, realy.\\\\n\\\\n@anonymized_account @anonymized_account \\\\n\\\\nHybryda g\\u0142upoty.\",1.0],[\"RT @anonymized_account Nowe chodnikowe powiedzonko brzmi:\\\\n\\\\nPierdolisz jak Morawiecki, realy.\\\\n\\\\n@anonymized_account @anonymized_account \\\\n\\\\nHybryda g\\u0142upoty.\",1.0],[\"Terminator X To The Edge Of Panic wykonawcy Public Enemy\\\\nhttps:\\u002f\\u002ft.co\\u002fNqf1yFOyKg\",0.0],[\"@anonymized_account Zaspana jestem jeszcze sorki XD\",0.0],[\"@anonymized_account @anonymized_account No ja nie kojarze xD\",0.0],[\"@anonymized_account Pies to czasem nawet po\\u017cera ksi\\u0105\\u017cki...\",0.0],[\"Kiedy Christina wychodzi za m\\u0105\\u017c\",0.0],[\"@anonymized_account @anonymized_account Zapewne ci, co grali przez wi\\u0119kszo\\u015b\\u0107 rundy w CLJ i nie ponie\\u015bli ani jednej pora\\u017cki.\",0.0],[\"@anonymized_account @anonymized_account Jak b\\u0119dzie ta pioseneczka to przychodz\\u0119\\\\n\\\\nhttps:\\u002f\\u002ft.co\\u002fB6ak11mI4d\",0.0],[\"@anonymized_account zamieszczanie takich zdj\\u0119\\u0107 podczas gdy ja jestem na sucharach powinno by\\u0107 zabronione :)\",0.0],[\"@anonymized_account @anonymized_account @anonymized_account A co trzeba zrobi\\u0107 w kwestii finansowania kampanii z funduszy UE przez Ziobr\\u0119?\",0.0],[\"@anonymized_account W \\u015brodku \\u0142amanie w stylu 2obiegu.\",0.0],[\"jak ja si\\u0119 \\u017ale czulem jak by\\u0142em dzieckiem w  ko\\u015bciele to g\\u0142ow mala, szopka do kwadratu, nie mog\\u0142em tego wytrzyma\\u0107\",1.0],[\"@anonymized_account @anonymized_account @anonymized_account @anonymized_account jak wr\\u00f3ce z pracy to te\\u017c podejme wyzwanie ale tym razem bedzie skromnie :)\",0.0],[\"@anonymized_account @anonymized_account @anonymized_account Jak pi\\u0107 to z klas\\u0105 ;)\",0.0],[\"@anonymized_account @anonymized_account Ty pajacu, zmie\\u0144 sobie herb na pusty \\u0142eb.\",1.0],[\"@anonymized_account W rosji sa jakie\\u015b zawody\",0.0],[\"@anonymized_account @anonymized_account My\\u015bla\\u0142em \\u017ce to Tw\\u00f3j ulubieniec \\ud83d\\ude02\",0.0],[\"@anonymized_account @anonymized_account pewnie ranking Fifa bedzie decydowal\",0.0],[\"@anonymized_account \\u0141ukaszewicz, co Wy tam palicie?\",1.0],[\"@anonymized_account @anonymized_account @anonymized_account Leszku m\\u00f3j kochany, masz m\\u00f3zg wyprany\",1.0],[\"@anonymized_account a ja wsp\\u00f3\\u0142czuje za\\u015blepienia.Wol\\u0119 nie mie\\u0107 Wolskiego ni\\u017c robi\\u0107 kolejne d\\u0142ugi @anonymized_account\",1.0],[\"@anonymized_account @anonymized_account @anonymized_account od paru lat s\\u0142ysze o sponsorze wi\\u0119c tym bardziej szacunek \\u017ce przez pare lat si\\u0119 nieujawni\\u0142...\",0.0],[\"@anonymized_account Skoro Carrillo nie chce Sobola to tym bardziej nie b\\u0119dzie chcia\\u0142 G\\u0142owy. Chyba, \\u017ce trener rzeczywi\\u015bcie odchodzi.\",0.0],[\"@anonymized_account @anonymized_account @anonymized_account Zawsze bed\\u0105 afery bo zawsze b\\u0119da tacy l kt\\u00f3rzy kradn\\u0105  i tacy u wladzy kt\\u00f3rych to kr\\u0119ci\",1.0],[\"@anonymized_account kot te\\u017c si\\u0119 za\\u0142apa\\u0142 na fotke, a raczej jego dupa :)\",0.0],[\"@anonymized_account Szczerze? Troch\\u0119 tak to wygl\\u0105da, a i tak pr\\u0119dzej czy p\\u00f3\\u017aniej ten bilans wychodzi na r\\u00f3wno.\",0.0],[\"@anonymized_account zaraz b\\u0119d\\u0105 pisa\\u0107 \\u017ce Wis\\u0142a szkoli kiboli \\u017ceby potrafili maczet\\u0105 wymachiwa\\u0107 :)\",1.0],[\"*stoi przed nimi kr\\u00f3l gargulc\\u00f3w*\\\\nbetty: to pewnie ethel\\\\n\\\\nXDDDDDDDDDDDDDD\\\\n#Riverdale #RiverdalePL\",0.0],[\"RT @anonymized_account *stoi przed nimi kr\\u00f3l gargulc\\u00f3w*\\\\nbetty: to pewnie ethel\\\\n\\\\nXDDDDDDDDDDDDDD\\\\n#Riverdale #RiverdalePL\",0.0],[\"@anonymized_account No, to ja we w\\u0142asnej osobie\",0.0],[\"@anonymized_account S\\u0142abo trzyma\\u0142e\\u015b kciuki, bo podarowa\\u0142 bramke Cracovii :)\",0.0],[\"@anonymized_account Odstawiaj\\u0105c narodowo\\u015b\\u0107 na bok to ten sk\\u0142ad jest przecie\\u017c s\\u0142abiutki.\",1.0],[\"@anonymized_account @anonymized_account Piwnica bez okien, ty to masz dobrze\",0.0],[\"Czuj\\u0119 si\\u0119 chora wi\\u0119c siedz\\u0119 w domu w czapce\",0.0],[\"@anonymized_account Juz mysla\\u0142em \\u017ce co\\u015b gorszego\\ud83d\\ude01\\ud83d\\ude01\",0.0],[\"@anonymized_account @anonymized_account A gdzie Inferno napisa\\u0142, \\u017ce Wis\\u0142a stawia na Polak\\u00f3w ?\",0.0],[\"@anonymized_account akurat Tobie bli\\u017cej do Karolaka bo w wi\\u0119kszo\\u015bci Ci\\u0119 wyci\\u0119li \\ud83d\\ude02 @anonymized_account @anonymized_account @anonymized_account @anonymized_account\",1.0],[\"@anonymized_account Omg w\\u0142a\\u015bnie o nich my\\u015bla\\u0142am\",0.0],[\"@anonymized_account Tak na pewno nie b\\u0119dzie. Dru\\u017cyna leci w \\u015brod\\u0119.\",0.0],[\"Cudzys\\u0142\\u00f3w, przecinek nie jestem ruskim trollem\",0.0],[\"Bior\\u0105c pod uwag\\u0119, jakie dot\\u0105d mieli\\u015bmy losowania w Lidze Europy, to na ten fina\\u0142 w Baku w 2019 roku nie jeste\\u015bmy bez szans. \\ud83d\\ude01\",0.0],[\"@anonymized_account @anonymized_account Fajnie, teraz zamiast przemowy muzyczka \\u017ceby nie by\\u0142o s\\u0142ycha\\u0107 odzewu publiki.\",0.0],[\"@anonymized_account @anonymized_account Bia\\u0142ystok, ulica Wierzbowa. Jak oni to zrobili, to jest zagadka.\",0.0],[\"@anonymized_account Straszny gangster jak po wolno\\u015bci chodzi\",0.0],[\"@anonymized_account To si\\u0119 nazywa uzale\\u017cnienie xD\",1.0],[\"@anonymized_account Info z ostatniej chwili barwy pogoni skrojone przez bandyt\\u00f3w Z Krakowa.  Pomimo zakazu Wis\\u0142a rz\\u0105dzi\",1.0],[\"@anonymized_account @anonymized_account Pewnie tak bo Buchalik kontuzjowany.\",0.0],[\"@anonymized_account to mia\\u0142o jaki\\u015b ci\\u0105g dalszy? \\ud83d\\ude09\",0.0],[\"vans do chuja przesta\\u0144 robi\\u0107 cho\\u0107 na chwil\\u0119 zajebiste kolekcje bo w moim portfelu pieni\\u0105dzen't\",0.0],[\"RT @anonymized_account vans do chuja przesta\\u0144 robi\\u0107 cho\\u0107 na chwil\\u0119 zajebiste kolekcje bo w moim portfelu pieni\\u0105dzen't\",0.0],[\"@anonymized_account @anonymized_account @anonymized_account @anonymized_account 12 mld nie mam zamiaru dyskutowa mo\\u017cejki i skoki\",0.0],[\"@anonymized_account @anonymized_account Alves by\\u0142 bardzo w stylu Guardioli \\ud83d\\ude1b\",0.0],[\"@anonymized_account Co ty \\u017cresz, \\u017ce ci tak pierdoln\\u0119\\u0142o?\",1.0],[\"@anonymized_account Bo w \\\\\\\"10\\\\\\\" ju\\u017c graj\\u0105 przez Boatenga ;)\",0.0],[\"@anonymized_account @anonymized_account Trudno by\\u0107 pewnym, gdy stoperzy mog\\u0105 zagra\\u0107 tylko lag\\u0119 do przodu, bo \\u015brodka nie mamy.\",1.0],[\"@anonymized_account @anonymized_account @anonymized_account No w\\u0142a\\u015bnie, nie by\\u0142o i dlatego patologia zosta\\u0142a stosownie potraktowana.\",1.0],[\"@anonymized_account skoro jest dno dna to mo\\u017ce skupmy si\\u0119 na tych od kt\\u00f3rych co\\u015b wymagamy\",1.0],[\"@anonymized_account Widocznie to zbyt trudna mi\\u0142o\\u015b\\u0107 na Walentynki \\ud83d\\ude01\",0.0],[\"@anonymized_account Sarapata by\\u0142a w solarium ?\",0.0],[\"@anonymized_account Woda chyba zimna bo nikogo w wodzie ;-)\",0.0],[\"@anonymized_account ej, dobra, we\\u017amie ten chrzest czy nie? xd\",0.0],[\"@anonymized_account @anonymized_account Lub bezpo\\u015bredni awans, bo nie wiadomo co ze Stomilem, a przede wszystkim Bytovi\\u0105 :)\",0.0],[\"@anonymized_account @anonymized_account by\\u0142am przy tym, wi\\u0119c zapewniam \\ud83d\\ude09\",0.0],[\"@anonymized_account @anonymized_account @anonymized_account Tylko ty masz problem z rzecznikiem, wi\\u0119c zastan\\u00f3w si\\u0119 w kim tak naprawd\\u0119 jest problem? \\ud83e\\udd14\",1.0],[\"@anonymized_account Pi\\u0105tek  te\\u017c powinien by\\u0107 wolny, ina 100%\",0.0],[\"Wassermann\\u00f3wna k\\u0142amie, m\\u00f3wi\\u0105c, \\u017ce \\u201eprzysz\\u0142a do polityki\\u201d. Ona przyjecha\\u0142a na trumnie ojca.\",1.0],[\"RT @anonymized_account Wassermann\\u00f3wna k\\u0142amie, m\\u00f3wi\\u0105c, \\u017ce \\u201eprzysz\\u0142a do polityki\\u201d. Ona przyjecha\\u0142a na trumnie ojca.\",1.0],[\"@anonymized_account Ju\\u017c dwa lata temu powinni wygrac Euro.\",1.0],[\"@anonymized_account Kibice innych dru\\u017cyn doceniaj\\u0105 i troch\\u0119 zazdroszcz\\u0105 :)\",0.0],[\"@anonymized_account @anonymized_account na 100% jest zmiana \\u015al\\u0105sk - Jaga i chyba zosta\\u0142a ju\\u017c potwierdzona.\",0.0],[\"@anonymized_account W tym czasie by\\u0142 z rodzink\\u0105 na wakacjach w Gda\\u0144sku Brze\\u017anie to musia\\u0142 zdalnie podtrzymywa\\u0107 zwi\\u0105zek\",0.0],[\"jak Patryk Jaki wygra wybory w Warszawie oczy\\u015bci stolic\\u0119 z by\\u0142ych UBECKICH funkcjonariuszy ! #woronicza17\",1.0],[\"RT @anonymized_account jak Patryk Jaki wygra wybory w Warszawie oczy\\u015bci stolic\\u0119 z by\\u0142ych UBECKICH funkcjonariuszy ! #woronicza17\",1.0],[\"Szkoda, \\u017ce przez wymys\\u0142y Mendesa taki Ruben Neves si\\u0119 marnuje w Wolverhampton.\",1.0],[\"@anonymized_account @anonymized_account Nie wiem, aczkolwiek jego tata m\\u00f3wi\\u0142, \\u017ce widzia\\u0142by Tomasa w Jagiellonii. \\ud83d\\ude1c\",0.0],[\"Ja i moje psiapsi gramy w te gry na snapie i nie mog\\u0119 przesta\\u0107 si\\u0119 \\u015bmia\\u0107 z naszych min XD\",0.0],[\"@anonymized_account Kolar niestety ten sam poziom. Chyba trzeba b\\u0119dzie liczy\\u0107 na skuteczno\\u015b\\u0107 Boguskiego i Ma\\u0142eckiego...\",1.0],[\"Rz\\u0105d zaostrzy kary za zn\\u0119canie si\\u0119 nad zwierz\\u0119tami. Od 3-5 lat wi\\u0119zienia; obowi\\u0105zkowa nawi\\u0105zka do 100 tys z\\u0142. Wi\\u0119cej jutro w @anonymized_account\",0.0],[\"RT @anonymized_account Rz\\u0105d zaostrzy kary za zn\\u0119canie si\\u0119 nad zwierz\\u0119tami. Od 3-5 lat wi\\u0119zienia; obowi\\u0105zkowa nawi\\u0105zka do 100 tys z\\u0142. Wi\\u0119cej jutro w @anonymized_account\",0.0],[\"@anonymized_account @anonymized_account @anonymized_account czuje \\u017ce Brlek pr\\u0119dzej czy p\\u00f3\\u017aniej odpali\",0.0],[\"@anonymized_account @anonymized_account To, \\u017ce figurowal jako zawodnik Man City nie znaczy, \\u017ce b\\u0119dzie potrafi\\u0142 gra\\u0107.\",0.0],[\"@anonymized_account @anonymized_account Oczywi\\u015bcie, \\u017ce ma racj\\u0119. Chodzi tylko o to, \\u017ce to jest dru\\u017cyna o klas\\u0119 lub dwie lepsza.\",0.0],[\"@anonymized_account @anonymized_account Nie mia\\u0142 prawa sta\\u0107 za lini\\u0105, tak prawd\\u0119 m\\u00f3wi\\u0105c \\ud83d\\ude04 Ale w kamerach to bardzo \\u0142adnie wygl\\u0105da\\u0142o.\",0.0],[\"@anonymized_account @anonymized_account @anonymized_account Ty to robisz przede wszystkim, co wida\\u0107 po pierwszym tweecie.\",0.0],[\"Ostatnio czuje si\\u0119 tak samotna i smutna ze a\\u017c sama si\\u0119 dziwie\",0.0],[\"@anonymized_account Przecie\\u017c to legionista to komu ma \\u017cyczy\\u0107 mistrza.Nie wiedzia\\u0142e\\u015b ?\",1.0],[\"@anonymized_account @anonymized_account @anonymized_account dobrze by mu to zrobi\\u0142o.Za s\\u0142aby na Wis\\u0142e.\",0.0],[\"@anonymized_account Hehehehehe. R\\u00f3\\u017ca nawet niez\\u0142a by\\u0142a.I co z niej wyros\\u0142o!\\ud83d\\ude01\\ud83d\\ude01\\ud83d\\ude01\",0.0],[\"@anonymized_account jedni wynajmuj\\u0105 agencje do komentarzy a inni dziennikarzy\",0.0],[\"RT @anonymized_account @anonymized_account jedni wynajmuj\\u0105 agencje do komentarzy a inni dziennikarzy\",0.0],[\"@anonymized_account pewnie jest mniej b\\u0142\\u0119d\\u00f3w bo i liczb jest mniej bo zrezygnowali ze statystyk zawodnik\\u00f3w sezon po sezonie ;)\",0.0],[\"@anonymized_account Krzy\\u017c przeciw prezydenturze, krzy\\u017c ob\\u0142\\u0119du\",1.0],[\"@anonymized_account @anonymized_account Sorry ale dzisiaj nie ma opozycji. Jest grupa cwaniak\\u00f3w chc\\u0105cych odzyska\\u0107 sto\\u0142ki.\",0.0],[\"na kijowe \\u017cycie najlepsza w\\u00f3deczka\",0.0],[\"Co na to Herod \\u015bmierdziuszka @anonymized_account\",0.0],[\"@anonymized_account Brakuje mu dystansu, za bardzo si\\u0119 egzaltuje, a ja\\u0142owe szyderstwa ju\\u017c mi si\\u0119 przejad\\u0142y\",0.0],[\"@anonymized_account Wis\\u0142a chyba wa\\u017cniejsza od jakiej\\u015b Delle Donne :)\",0.0],[\"@anonymized_account Nawet je\\u015bli to fejk, to zgodnie z powiedzeniem -w ka\\u017cdej plotce jest ziarnko prawdy. Z tym \\u017ce w tym przypadku raczej ziarno\\ud83d\\ude01\\ud83d\\ude01\",0.0],[\"@anonymized_account Tez wczoraj by\\u0142am na randce kt\\u00f3ra trwa\\u0142a ca\\u0142y dzie\\u0144 Xd\",0.0],[\"@anonymized_account A kierowca autobusu wsta\\u0142 i zacz\\u0105\\u0142 klaska\\u0107 ?\",0.0],[\"@anonymized_account @anonymized_account Jak by nie by\\u0142o, aby by\\u0142o mi\\u0142o, teraz sie cieszysz\",0.0],[\"@anonymized_account No to mo\\u017ce warto, najwy\\u017cej Ci\\u0119 oleje, co jest oczywi\\u015bcie nie do przyj\\u0119cia \\ud83d\\ude02 kto nie ryzykuje ten nie pije szampana kochana!\",0.0],[\"@anonymized_account @anonymized_account Trzymali si\\u0119 za r\\u0119ce, waleczni i sprawiedliwi\",0.0],[\"Dudelange niby takie cwaniaki, a ciekawe czy byliby tacy m\\u0105drzy w dwuboju rzut m\\u0142otem-skoki narciarskie\",0.0],[\"RT @anonymized_account Dudelange niby takie cwaniaki, a ciekawe czy byliby tacy m\\u0105drzy w dwuboju rzut m\\u0142otem-skoki narciarskie\",0.0],[\"@anonymized_account @anonymized_account @anonymized_account g\\u0142\\u00f3wnie @anonymized_account kt\\u00f3ry cz\\u0119sto o tym wspomina\",0.0],[\"Kto si\\u0119 jeszcze zaczepia na fejsie....\",0.0],[\"@anonymized_account @anonymized_account Z tymi wizjami to mo\\u017ce by\\u0107 problem. Proponuj\\u0119 sprawdzi\\u0107 po czym te wizj\\u0119 s\\u0105\",0.0],[\"@anonymized_account Jaki hejt.Hejt to jest na Tuska, Komorowskiego, przecie\\u017c to nie Polacy, \\u015bmier\\u0107 wrogom ojczyzny. Obud\\u017a si\\u0119\",1.0],[\"Czy Antek ju\\u017c og\\u0142osi\\u0142, \\u017ce na lewym skrzydle naszej obrony by\\u0142 wybuch?\",0.0],[\"RT @anonymized_account Czy Antek ju\\u017c og\\u0142osi\\u0142, \\u017ce na lewym skrzydle naszej obrony by\\u0142 wybuch?\",0.0],[\"@anonymized_account jest to dobra informacja dla tych co okradali  Polsk\\u0119 od 89  roku  Irlandia da im wolno\\u015b\\u0107\",0.0],[\"RT @anonymized_account @anonymized_account jest to dobra informacja dla tych co okradali  Polsk\\u0119 od 89  roku  Irlandia da im wolno\\u015b\\u0107\",0.0],[\"Ale przecie\\u017c #Polexit jest dobry. Za\\u0142o\\u017cycie koszulki z or\\u0142em i b\\u0119dziecie \\u017cry\\u0107 ziemniaki i wungiel \\ud83d\\ude07\",1.0],[\"RT @anonymized_account Ale przecie\\u017c #Polexit jest dobry. Za\\u0142o\\u017cycie koszulki z or\\u0142em i b\\u0119dziecie \\u017cry\\u0107 ziemniaki i wungiel \\ud83d\\ude07\",1.0],[\"@anonymized_account @anonymized_account @anonymized_account @anonymized_account Wywali\\u0142 Ronaldo w Superpucharze :)\",0.0],[\"@anonymized_account @anonymized_account Bo sama jest niepe\\u0142nosprawna... Umys\\u0142owo.\\ud83d\\ude01\\ud83d\\ude01\",1.0],[\"Halo Krak\\u00f3w, kogo by\\u015bcie uznali za gwiazd\\u0119\\u002fnajwa\\u017cniejszego zawodnika obecnej Wis\\u0142y? \\ud83d\\ude09\",0.0],[\"@anonymized_account @anonymized_account Ss\\u0105 wszystkimi otworami z krwi bia\\u0142o czerwonej\",0.0],[\"@anonymized_account Wy si\\u0119 zjednoczyli\\u015bcie z faszystami z po\\u0142owy Europy. Kpromitacja level hard.\",1.0],[\"@anonymized_account @anonymized_account @anonymized_account Znowu on ? \\ud83d\\ude02 to przy okazji niech si\\u0119 odniesie do s\\u0142\\u00f3w Sarary \\ud83d\\ude02\",0.0],[\"@anonymized_account Dotarlas do ore\\u0142ka?\\ud83d\\ude01\\ud83d\\ude01 W tym roku niestety ty\\u0142ko jeden\\ud83d\\ude1e\\ud83d\\ude1e\",0.0],[\"@anonymized_account @anonymized_account Mam rozumie\\u0107, \\u017ce to mapa nasycenia kraj\\u00f3w zbocze\\u0144cami w sutannach.\",1.0],[\"@anonymized_account @anonymized_account @anonymized_account A Panu nie brakuje czasem art. 87 pkt1?\",0.0],[\"@anonymized_account Czy to oknoplus ladowal kiedy\\u015b\",0.0],[\"@anonymized_account @anonymized_account 5 punkt\\u00f3w na 21 w rundzie fina\\u0142owej...\",0.0],[\".@anonymized_account @anonymized_account B\\u0119dziemy realizowa\\u0107 przekop Mierzei Wi\\u015blanej \\\\n#wieszwiecej  \\\\nhttps:\\u002f\\u002ft.co\\u002fzuCXxG1GUr\",0.0],[\"RT @anonymized_account .@anonymized_account @anonymized_account B\\u0119dziemy realizowa\\u0107 przekop Mierzei Wi\\u015blanej \\\\n#wieszwiecej  \\\\nhttps:\\u002f\\u002ft.co\\u002fzuCXxG1GUr\",0.0],[\"@anonymized_account Bolek wyluzuj bo jeste\\u015b sercowy.\",0.0],[\"@anonymized_account \\u015amiej si\\u0119  \\u015bmiej. To wcale nie jest \\u015bmieszne.\",0.0],[\"I hope that autumn will heal me\",0.0],[\"Jutro po marszu, ale jeszcze kilka dni beda chodzi\\u0107 na\\u0107pani\",0.0],[\"@anonymized_account Nie ma jak lans nierobie za pieni\\u0105dze podatnik\\u00f3w.\",0.0],[\"@anonymized_account A to ja przepraszam, nie mia\\u0142am wczoraj czasu na TT \\ud83d\\ude0e\",0.0],[\"11 tysi\\u0119cy miejsc zaj\\u0119tych, dzisiaj prawie 2000 bilet\\u00f3w sprzedanych. Z tej okazji za chwil\\u0119 nagroda \\ud83d\\ude01\",0.0],[\"@anonymized_account @anonymized_account To ja chyba tylko kolory por\\u00f3wnywa\\u0142em\",0.0],[\"Ej s\\u0142uchajcie co zajebistego wymy\\u015bli\\u0142am \\\\n\\\\nJaki jest najlepszy argument bonnie z pami\\u0119tnik\\u00f3w wampir\\u00f3w? \\\\n\\\\nBo nnie\",0.0],[\"RT @anonymized_account Ej s\\u0142uchajcie co zajebistego wymy\\u015bli\\u0142am \\\\n\\\\nJaki jest najlepszy argument bonnie z pami\\u0119tnik\\u00f3w wampir\\u00f3w? \\\\n\\\\nBo nnie\",0.0],[\"@anonymized_account Im wi\\u0119cej problem\\u00f3w w pa\\u0144stwie tym wi\\u0119cej niewykonanych wyrok\\u00f3w\",0.0],[\"Widzia\\u0142am \\u015bliczn\\u0105 sukienk\\u0119 ale nie by\\u0142o mniejszego rozmiaru ni\\u017c 36 i by\\u0142a za du\\u017ca danmm\",0.0],[\"@anonymized_account @anonymized_account Polsk\\u0119 to kompromituj\\u0105 tacy jak ty. Oszo\\u0142omie.\",1.0],[\"@anonymized_account \\ud83d\\ude01\\ud83d\\ude01\\ud83d\\ude01\\ud83d\\ude01\\ud83d\\ude01\\ud83d\\ude01\\ud83d\\ude01\\ud83d\\ude01 @anonymized_account teraz to mnie Pani ubawi\\u0142a tym paskiem. A widzia\\u0142a Pani swoj\\u0105 szyj\\u0119?\",1.0],[\"@anonymized_account @anonymized_account @anonymized_account nie, ale je\\u015bli kto\\u015b wypomina Levadie to niech bedzie obiektywny i wspomni te\\u017c inny wynik.\",0.0],[\"@anonymized_account O naszych meczach z Rio Ave mo\\u017cna powiedzie\\u0107 podobnie \\ud83d\\ude09\",0.0],[\"W sumie to polubi\\u0142am ju\\u017c zaj\\u0119cia z konstrukcji przekazu reklamowego i prowadz\\u0105cy jest \\u015bwietny\",0.0],[\"Ej chcia\\u0142abym do samorz\\u0105du w sumie hahahaha\",0.0],[\"@anonymized_account Tez nie mam snapa hahahahaha\",0.0],[\"@anonymized_account Ile\\u017c mo\\u017cna o tym Wiluszu ?...\",0.0],[\"@anonymized_account A po polsku to jak to b\\u0119dzie?\",0.0],[\"@anonymized_account @anonymized_account A sk\\u0105d on wie jak jest w innych klubach ? Niech si\\u0119 wypowiada o klubach w kt\\u00f3rych gra\\u0142.\",0.0],[\"I ta Wis\\u0142a, kt\\u00f3ra si\\u0119 bawi z ka\\u017cdym w ofensywie, w Bia\\u0142ymstoku mia\\u0142a p\\u00f3\\u0142 sytuacji.\",0.0],[\"@anonymized_account @anonymized_account @anonymized_account Zapytalem,  szwagierka m\\u00f3wi \\u017ce ma konto w powerbanku\",0.0],[\"@anonymized_account @anonymized_account Mi\\u0119ciute\\u0144ki straszliwie. Tam by\\u0142y r\\u0119ce na ciele, a nie jakie\\u015b szarpanie. Tylko \\u017ce nie do VAR-u.\",0.0],[\"@anonymized_account @anonymized_account Pajacu, jak podajesz przepis to masz go zna\\u0107 na pami\\u0119\\u0107. Inaczej robi\\u0105 z siebie idiot\\u0119 tak jak teraz.\",1.0],[\"@anonymized_account Zdejmujesz Dziadkowi okulary, zak\\u0142adasz Babci i jestem \\\\n\\ud83d\\ude0e\",0.0],[\"@anonymized_account @anonymized_account @anonymized_account w ko\\u0144cu jaki\\u015b ciekawy wywiad :)\",0.0],[\"@anonymized_account jak tam widzia\\u0142e\\u015b czerwon\\u0105 to rzeczywi\\u015bcie wyjd\\u017a\",0.0],[\"@anonymized_account skoro zarz\\u0105d pozwala na takie cyrki to niestety potrwa to lata\",0.0],[\"@anonymized_account @anonymized_account Cieszmy si\\u0119 \\u017ce dru\\u017cyna dalej gra w lidze.Nie zawsze mo\\u017cna mie\\u0107 najmocniejszy sk\\u0142ad w lidze :)\",0.0],[\"@anonymized_account @anonymized_account @anonymized_account Znawca wszystkiego czyli niczego od byd\\u0142a po powid\\u0142o\",0.0],[\"@anonymized_account \\ud83d\\ude02\\ud83d\\ude02\\ud83d\\ude02\\ud83d\\ude02\\ud83d\\ude02\\ud83d\\ude02\\ud83d\\ude02\\ud83d\\ude02\\ud83d\\ude02\\ud83d\\ude02\\ud83d\\ude02\\ud83d\\ude02\\ud83d\\ude02\\ud83e\\udd23\\ud83e\\udd23\\ud83e\\udd23\\ud83e\\udd23\\ud83e\\udd23\\ud83e\\udd23\\ud83e\\udd23\\ud83e\\udd23\\ud83e\\udd23\\ud83e\\udd23\\ud83e\\udd23\\ud83e\\udd23\\ud83e\\udd23\\ud83d\\ude02\\ud83d\\ude02\\ud83d\\ude02\\ud83d\\ude02\\ud83d\\ude02\\ud83d\\ude02\\ud83d\\ude02\\ud83e\\udd23\\ud83e\\udd23\\ud83e\\udd23\\ud83e\\udd23\\ud83e\\udd23\\ud83e\\udd23\\ud83e\\udd23\\ud83e\\udd23\\ud83e\\udd23\\ud83e\\udd23\\ud83e\\udd23\\ud83e\\udd23\\ud83e\\udd23\\ud83e\\udd23\\ud83e\\udd23\\ud83d\\ude02\\ud83d\\ude02\\ud83d\\ude02\\ud83d\\ude02\\ud83d\\ude02\\ud83d\\ude02\\ud83d\\ude02\\ud83d\\ude02\\ud83d\\ude02\\ud83d\\ude02\\ud83d\\ude02\\ud83d\\ude02\\ud83d\\ude02\\ud83d\\ude02\\ud83d\\ude02\\ud83d\\ude02\\\\n\\\\nS\\u0142\\u00f3w odpowiednich \\u017caden s\\u0142ownik nie zawiera\",0.0],[\"@anonymized_account Vacek, Putnocky, Nielsen.Widz\\u0119 \\u017ce bior\\u0105 si\\u0119 za odm\\u0142adzanie sk\\u0142adu :)\",0.0],[\"@anonymized_account @anonymized_account @anonymized_account Ty si\\u0119 chyba debilu nie s\\u0142yszysz, ty tekst\\u00f3w to si\\u0119 po nocach uczysz czy masz s\\u0142uchawk\\u0119 w uchu?\",1.0],[\"@anonymized_account Lub kibic\\u00f3w w Gliwicach \\ud83d\\ude1c\",0.0],[\"@anonymized_account No w\\u0142a\\u015bnie by\\u0142a lepsza \\ud83d\\ude1c\",0.0],[\"@anonymized_account @anonymized_account @anonymized_account @anonymized_account No we\\u017a nie rob takiej miny\",0.0],[\"@anonymized_account @anonymized_account @anonymized_account Szczeka\\u0107 to mog\\u0105 tacy jak ty #delegalizacja\",1.0],[\"@anonymized_account Bo jest G\\u0142owacki to teraz czas na obro\\u0144c\\u00f3w\",0.0],[\"@anonymized_account @anonymized_account Nie ma takiej opcji. Oszust i k\\u0142amca w roli g\\u0142\\u00f3wnej - tego jeszcze \\u015bwiat nie widzia\\u0142.\",0.0],[\"@anonymized_account Nie jest z\\u0142e! Chodzisz w szpilkach? Cokolwiek by\\u015b nie za\\u0142o\\u017cy\\u0142a to szpilki cho\\u0107 troch\\u0119 pomog\\u0105 xd\",0.0],[\"@anonymized_account Jakby by\\u0142 definitywny to troch\\u0119 slabo \\ud83d\\ude02\",0.0],[\"@anonymized_account a co si\\u0119 tak pieniedzmi nagle przejmujesz ? Jak chcialas rozwiazania kontraktu z Zohnova czy Pop to kasa juz nie wazna ?\",0.0],[\"@anonymized_account Oskar \\u0141\\u0105k definitywnie odszed\\u0142 z Wis\\u0142y ?\\\\n\\\\nhttps:\\u002f\\u002ft.co\\u002fo0psVgZBUl\",0.0],[\"@anonymized_account gratulacje ! Dzi\\u0119ki za dotrzymanie s\\u0142owa \\u017ce dzisiaj koniec :) Zas\\u0142u\\u017cy\\u0142y\\u015bcie !\",0.0],[\"Jezu, co zagrali Suarez i Cavani.\",0.0],[\"@anonymized_account Na pewno \\u0142atwiej by by\\u0142o znale\\u017a\\u0107, okre\\u015bli\\u0107 i poprawi\\u0107 problemy\",0.0],[\"@anonymized_account Mo\\u017cna, dlatego nasz poziom pi\\u0142karski by\\u0142 bardzo s\\u0142aby wczoraj.\",0.0],[\"@anonymized_account Wybacz, ale nie s\\u0105dz\\u0119, aby g\\u0142\\u00f3wnym problemem kadry by\\u0142y z\\u0142e powo\\u0142ania na numerach 21-23 w kadrze.\",0.0],[\"je\\u015bli nie mog\\u0119 wygl\\u0105da\\u0107 tak jak\\\\n\\u2022perrie edwards\\\\n\\u2022troian bellisario\\\\nto what\\u2019s the point of existing?\",0.0],[\"RT @anonymized_account je\\u015bli nie mog\\u0119 wygl\\u0105da\\u0107 tak jak\\\\n\\u2022perrie edwards\\\\n\\u2022troian bellisario\\\\nto what\\u2019s the point of existing?\",0.0],[\"@anonymized_account Nadal i Djokovi\\u0107 to si\\u0119 w sumie ciesz\\u0105, bo ten, kto w ich meczu wygra, b\\u0119dzie praktycznie zwyci\\u0119zc\\u0105 turnieju.\",0.0],[\"@anonymized_account @anonymized_account M\\u00f3wisz \\u017ce ONR lize doope\\ud83d\\ude02\",1.0],[\"@anonymized_account @anonymized_account @anonymized_account wy\\u015ble im jutro list od kibic\\u00f3w cracovii \\u017ce chc\\u0105 odej\\u015bcia Filipiaka.Ciekawe czy te\\u017c opublikuj\\u0105.\",0.0],[\"@anonymized_account @anonymized_account A kiedy zaczniecie zbi\\u00f3rki na kr\\u00f3wki i \\u015bwinki?\",1.0],[\"@anonymized_account No to sk\\u0105d wiedzia\\u0142e\\u015b czy stopklatka jest zrobiona w odpowiednim momencie ? Nie kompromituj si\\u0119\",0.0],[\"@anonymized_account @anonymized_account @anonymized_account Iza - dziewczyna, cud, mi\\u00f3d, malina \\ud83d\\ude01\",0.0],[\"Zaraz p\\u00f3\\u0142 mojego instagrama i ca\\u0142y Twitter b\\u0119dzie na koncercie Eda.... i jestem jeszcze ja............\",0.0],[\"@anonymized_account Z tamtego Adama dzi\\u015b ju\\u017c nic nie zosta\\u0142o. Ale czepianie si\\u0119 go za brata i ojca osobi\\u015bcie nie popieram\",0.0],[\"@anonymized_account @anonymized_account Plujecie na Polsk\\u0119 to my b\\u0119dziemy plu\\u0107 na was.\",1.0],[\"RT @anonymized_account @anonymized_account @anonymized_account Plujecie na Polsk\\u0119 to my b\\u0119dziemy plu\\u0107 na was.\",1.0],[\"@anonymized_account Mo\\u017ce te\\u017c by\\u0107 ko\\u0142derka \\ud83d\\ude0d\",0.0],[\"@anonymized_account Dlaczego \\u015brednio? W decydujacym o awansie Widzewa czerwcu by\\u0142 pi\\u0142karzem miesi\\u0105ca\",0.0],[\"@anonymized_account b\\u0142edem by\\u0142o \\u015bciaganie zawodnik\\u00f3w kt\\u00f3rych nas niesta\\u0107 byleby osi\\u0105gn\\u0105\\u0107 cel\",0.0],[\"@anonymized_account Ka\\u017cdy kto cho\\u0107 troch\\u0119 si\\u0119 orientuje w tych sprawach wie, \\u017ce na Hutniku nie ma o\\u015bwietlenia...\",0.0],[\"@anonymized_account Maliniak dal reklame za dormo pono\\u0107 caly marsz niepodleglosci ubrali, prawda to redisbad?\",0.0],[\"@anonymized_account niech wejdzie na luzie i pewnie tak \\u017ceby nie musia\\u0142 zostawia\\u0107 dokumentu, milion os\\u00f3b tak przemyci\\u0142am\",0.0],[\"@anonymized_account Cie zaraz pizn\\u0119, jak nie zaczniesz my\\u015ble\\u0107\",1.0],[\"@anonymized_account @anonymized_account Bo byli\\u015bmy bez formy, to oczywiste. Przecie\\u017c to te\\u017c napisa\\u0142em.\",0.0],[\"@anonymized_account jest juz aktualizacja sk\\u0142ad\\u00f3w czy jakis dodatek sci\\u0105ga\\u0142e\\u015b ? :)\",0.0],[\"@anonymized_account Komentarz raz a dwa s\\u0142ysz\\u0105c trybuny zastanawiam si\\u0119 czy ten kto wymy\\u015bli\\u0142 mecze w pn obejrza\\u0142 cho\\u0107 jeden\",1.0],[\"@anonymized_account @anonymized_account @anonymized_account @anonymized_account @anonymized_account @anonymized_account Mam nadziej\\u0119 \\u017ce nigdy wi\\u0119cej. Czekam na rych\\u0142\\u0105 delegalizacj\\u0119.\",0.0],[\"@anonymized_account A Ty nigdy nie robisz dw\\u00f3ch rzeczy jednocze\\u015bnie? Np. idziesz i \\u017cujesz gum\\u0119.\",1.0],[\"@anonymized_account @anonymized_account O 11.00 wielkie obtrabienie sukcesu...\",0.0],[\"@anonymized_account @anonymized_account Ty kurwa @anonymized_account nie pierdol w tv bo sie \\u017cyga\\u0107 chce\",1.0],[\"@anonymized_account problemem jest to \\u017ce jak sobie co\\u015b ubzdurasz to my\\u015blisz \\u017ce zawsze masz racje bo jeste\\u015b wszechwiedz\\u0105cy@anonymized_account @anonymized_account\",1.0],[\"@anonymized_account Taki B\\u0142aszczykowski tez za co do repry?  \\u017beby niebylo ze wbijam szpilki do legi?\",0.0],[\"Cz\\u0119sto wracam do tego kawa\\u0142ka. @anonymized_account\",0.0],[\"@anonymized_account A pisdzielstwo, szczury, gady, plazy popromienne, azbestowe?\",1.0],[\"omg ale jestem wyjebana po tym wyk\\u0142adzie\",0.0],[\"@anonymized_account @anonymized_account jak Zarycki jest Twoim informatorem to te info mo\\u017cna w kiblu spu\\u015bci\\u0107\",1.0],[\"@anonymized_account @anonymized_account Ale Karolina ostatnio by\\u0142a w TVP \\ud83d\\ude1c\",0.0],[\"#NAME?\",0.0],[\"@anonymized_account @anonymized_account U mnie te\\u017c wy\\u015bwietla w\\u0142a\\u015bciwe kolory \\ud83d\\ude0a\",0.0],[\"@anonymized_account @anonymized_account Najpierw kasza, p\\u00f3\\u017aniej przyjemno\\u015bci, a kiedy\\u015b wolno\\u015b\\u0107, ale wy kl\\u0119kacie bez obawy zostanie i tak bez was\",1.0],[\"@anonymized_account @anonymized_account @anonymized_account No oboje Pa\\u0144stwo wygl\\u0105dacie jak rodze\\u0144stwo. I tacy \\u017c\\u00f3\\u0142ci oboje.\",1.0],[\"@anonymized_account No kurwa @anonymized_account ty masz nie rz\\u0105dzi\\u0107, madz nie rz\\u0105dzi\\u0107\",1.0],[\"Yerri Mina - z\\u0142ota pi\\u0142ka \\ud83d\\ude01\",0.0],[\"@anonymized_account jeszcze nie mam planu wykonania ;-)\",0.0],[\"@anonymized_account \\u015al\\u0105sk Wroc\\u0142aw ma jaki\\u015b drugi podmiot, \\u017ce wystawia drugi zesp\\u00f3\\u0142 w bara\\u017cach?\",0.0],[\"@anonymized_account personalnie do tej Pani, przyjrzyj si\\u0119 sobie @anonymized_account @anonymized_account , @anonymized_account @anonymized_account\",1.0],[\"Nie wiem, jak Barcelona i Real otrz\\u0105sn\\u0105 si\\u0119 po utracie tak wa\\u017cnych pi\\u0142karzy, jak Paulinho i Cristiano Ronaldo.\",0.0],[\"Polska zrealizowala nasze cele w UE na szczycie z nawi\\u0105zk\\u0105. Podajcie dalej RT koniecznie potrzebne - dzi\\u0119kuj\\u0119\\ud83d\\ude0a\\\\nhttps:\\u002f\\u002ft.co\\u002fOzUaePZLpY\",0.0],[\"RT @anonymized_account Polska zrealizowala nasze cele w UE na szczycie z nawi\\u0105zk\\u0105. Podajcie dalej RT koniecznie potrzebne - dzi\\u0119kuj\\u0119\\ud83d\\ude0a\\\\nhttps:\\u002f\\u002ft.co\\u002fOz\\u2026\",0.0],[\"@anonymized_account @anonymized_account @anonymized_account A my nie mamy helikopter\\u00f3w, rakiet, \\u0142odzi podwodnych a mamy WOT w kt\\u00f3rym ja biegam\",0.0],[\"@anonymized_account @anonymized_account A czego oczekiwa\\u0142e\\u015b ? Przed\\u0142u\\u017c\\u0105 z kim\\u015b kontrakt to poinformuj\\u0105\",0.0],[\"@anonymized_account Jeszcze Podolski od jakiego\\u015b czasu.\",0.0],[\"Przepraszamy. Nie wpadli\\u015bmy na to, \\u017ce pokazuj\\u0105c \\u015brodkowy palec narodowi, kt\\u00f3ry - ponad podzia\\u0142ami, czci #PW1944, mo\\u017cemy kogo\\u015b obrazi\\u0107. Sorki\",0.0],[\"@anonymized_account ahhh my\\u015bla\\u0142am, \\u017ce na jakie\\u015b innej stronie\",0.0],[\"@anonymized_account \\u0179le... Mia\\u0142e\\u015b napisa\\u0107, \\u017ce nie mo\\u017cesz wi\\u0119cej zdradzi\\u0107 :(\",0.0],[\"@anonymized_account Pan w tle, z lewej, to z mopem zasuwa? \\ud83d\\udd92\",0.0],[\"Czy naprawd\\u0119 trzeba publicznie przyznawa\\u0107 si\\u0119 do nieprzygotowania do meczu, drodzy panowie komentatorzy? (kwestia Sheridana)\",1.0],[\"Na tt te beznadziejne gadki o niczym, to ju\\u017c wol\\u0119 sam ze sob\\u0105\",1.0],[\"@anonymized_account Pami\\u0119taj, ze ja daleko do ciebie nie mam \\ud83d\\ude02\",1.0],[\"@anonymized_account Pomys\\u0142 sobie ze ja obla\\u0142am bo z pe\\u0142na \\u015bwiadomo\\u015bci\\u0105 wjebalam si\\u0119 na rondo XD widzisz to taki ma\\u0142y b\\u0142\\u0105d, Ew\",0.0],[\"@anonymized_account Jest tej cho\\u0142oty tutaj ca\\u0142kiem sporo. Napewno si\\u0119 udzielaj\\u0105.\",1.0],[\"@anonymized_account Hejka, hejka, sejonarka w czwartek o 11 juz do domku\",0.0],[\"@anonymized_account @anonymized_account Mistrz, cz\\u0142owiek mem jedyny na \\u015bwiecie\",0.0],[\"@anonymized_account @anonymized_account @anonymized_account York czy Leszek Miller? :)\",0.0],[\"@anonymized_account Kiedys kazdy kopniak bez pi\\u0142ki = czerwona, a je\\u015bli to by\\u0142o tylko po\\u0142o\\u017cenie r\\u0119ki na g\\u0142ow\\u0119, to nie mamy o czym rozmawiac :)\",0.0],[\"Morawieckiemu co\\u015b nie idzie w Namys\\u0142owie. Teraz jako by\\u0142y prezes BZK WBK przedstawia si\\u0119 jaki ten, kt\\u00f3ry zwalcza \\\\\\\"zachodnie korporacje\\\\\\\".\",0.0],[\"RT @anonymized_account Morawieckiemu co\\u015b nie idzie w Namys\\u0142owie. Teraz jako by\\u0142y prezes BZK WBK przedstawia si\\u0119 jaki ten, kt\\u00f3ry zwalcza \\\\\\\"zacho\\u2026\",0.0],[\"@anonymized_account No widzisz, a zwyci\\u0119sk\\u0105 asyst\\u0119 w tym meczu zanotowa\\u0142 Griezmann. MVP = najbardziej warto\\u015bciowy zawodnik :)\",0.0],[\"@anonymized_account do domu bo ci r\\u00f3zga dup\\u0119 @anonymized_account ty ma\\u0142y  @anonymized_account\",1.0],[\"Jak go pierwszy raz us\\u0142ysza\\u0142am to mia\\u0142am ciarki na ca\\u0142ym ciele\",0.0],[\"@anonymized_account kibice nigdy nie pozwol\\u0105 na to \\u017ceby po raz kolejny by\\u0142 trenerem\",0.0],[\"Teraz zarykam nos i mowie \\\\\\\"ca\\u0142a polska z was sie \\u015bmieje, komuni\\u015bci i zlodzieje,\",1.0],[\"@anonymized_account Jego tata t\\u0142umaczy\\u0142 konferencj\\u0119 przy okazji meczu z Rio Ave w Vila do Conde :)\",0.0],[\"@anonymized_account a wy\\u015bmiewanie Lionela M. by\\u0142o po skazaniu go za oszustwa podatkowe ? bo jako\\u015b przeoczy\\u0142em\",0.0],[\"@anonymized_account @anonymized_account @anonymized_account \\u017cycz\\u0119 Gatcie mistrza bo zas\\u0142uguj\\u0105 na to graj\\u0105c 2 sezony na wysokim poziomie.\",0.0],[\"@anonymized_account Plakat widz\\u0119 tak @anonymized_account z  @anonymized_account wymiana spojrze\\u0144  a @anonymized_account na kolanach li\\u017ce ich po stopach\",0.0],[\"@anonymized_account Pana zdanie nie interesuje Polak\\u00f3w \\u2757\\\\nWypchaj si\\u0119 Pan niemieck\\u0105, \\u015bmierdz\\u0105c\\u0105 onuc\\u0105 \\u2757\",1.0],[\"RT @anonymized_account @anonymized_account Pana zdanie nie interesuje Polak\\u00f3w \\u2757\\\\nWypchaj si\\u0119 Pan niemieck\\u0105, \\u015bmierdz\\u0105c\\u0105 onuc\\u0105 \\u2757\",1.0],[\"@anonymized_account @anonymized_account M\\u00f3g\\u0142, ale jako\\u015b nie chce mi si\\u0119 wierzy\\u0107, \\u017ce tak to wygl\\u0105da\\u0142o.\",0.0],[\"em ok w\\u0105tek Jerzego i Zuzy w Przyjaci\\u00f3\\u0142kach to najlepsze co tam by\\u0142o kiedykolwiek\",0.0],[\"RT @anonymized_account @anonymized_account Giertych: my\\u015bl\\u0119, \\u017ce my\\u015bl\\u0119.\",0.0],[\"Ostatnio si\\u0119 zrobi\\u0142am polityczna chyba studia wesz\\u0142y mi za mocno\",0.0],[\"@anonymized_account Badziewny zesp\\u00f3\\u0142, a i tak Anglicy byli o krok od straty punkt\\u00f3w :)\",1.0],[\"@anonymized_account nawet pasy to dla was za du\\u017ce wyzwanie co wida\\u0107 po twoim profilowym.Mistrzowie opraw.\",1.0],[\"@anonymized_account nie chodzi\\u0142o mi o to \\u017ce si\\u0119 cieszy\\u0142e\\u015b z upadku Wis\\u0142y tylko \\u017ce masz czarny humor :) \\u017ce si\\u0119 z Wis\\u0142y na Chojnice przerzuci\\u0142em :)\",0.0],[\"Ta dru\\u017cyna powsta\\u0142a za czas\\u00f3w PO-PSL.\",0.0],[\"RT @anonymized_account Ta dru\\u017cyna powsta\\u0142a za czas\\u00f3w PO-PSL.\",0.0],[\"@anonymized_account Ho\\u0142d to si\\u0119 oddaje bohaterom....\",0.0],[\"@anonymized_account @anonymized_account  a co ma procent zapelnienia pojemnosci do frekwencji ? Po za tym co to jest 50% na takim malym stadionie ?\",0.0],[\"Sp\\u00f3\\u0142ka srebrna kapita\\u0142  7 mln,  w zarz\\u0105dzie sekretarka i kierowca Jarkacza\",0.0],[\"@anonymized_account Haha  a ilu ty zapraszasz do studia co pierd...takie g\\u0142upoty...\",1.0],[\"RT @anonymized_account @anonymized_account Haha  a ilu ty zapraszasz do studia co pierd...takie g\\u0142upoty...\",1.0],[\"Kto chce zrobi\\u0107 ze mna tea party??\",0.0],[\"@anonymized_account Ale za to wyst\\u0105pi\\u0142 r\\u00f3wnie b\\u0142yskotliwy,inteligentny, merytoryczny,bystry pose\\u0142 Kieeerwiiinski!!!\",1.0],[\"@anonymized_account No gdzie, wszystko zale\\u017ca\\u0142o od Lecha w ostatniej kolejce :D\",0.0],[\"Moja morda to takie spierdolenie ze zaraz rykne\",0.0],[\"RT @anonymized_account Moja morda to takie spierdolenie ze zaraz rykne\",0.0],[\"@anonymized_account @anonymized_account No w r\\u00f3\\u017cnych miejscach ludzie seks uprawiaj\\u0105. Dajcie spok\\u00f3j...\",0.0],[\"@anonymized_account Ok boli, boli. Czarne katabasy, mordercy irlandzkich kobiet i sierot do kruchty i pokutowa\\u0107 do ko\\u0144ca \\u017cycia za swoje wyst\\u0119pki.\",1.0],[\"Czemu \\u017caden tramwaj nie jedzie wtf\",0.0],[\"@anonymized_account Tak, statystyki to k\\u0142amstwa. Za to wyci\\u0105gni\\u0119cie jednej sytuacji z 90 minutowego meczu to bezcenny dow\\u00f3d.\",0.0],[\"@anonymized_account @anonymized_account Zamiast tego mo\\u017cna znale\\u017a\\u0107 grafiki na r\\u00f3\\u017cnych ekranach \\u002f telebimach w mie\\u015bcie.\",0.0],[\"@anonymized_account Niby sami \\u015bwinie, a nic nie wiedz\\u0105\",1.0],[\"@anonymized_account Ale co to ma do Mystka?\",0.0],[\"@anonymized_account Serio chcecie cichego stadionu ?\",0.0],[\"Co to mia\\u0142o by\\u0107? \\ud83d\\ude02\",0.0],[\"@anonymized_account tego si\\u0119 niespodziewa\\u0142em po Tobie... Zawiod\\u0142e\\u015b nas :D @anonymized_account\",1.0],[\"@anonymized_account @anonymized_account Wiem, ale prezentacj\\u0119 mogli zrobi\\u0107 bez naklejek.\",0.0]],\"hovertemplate\":\"Dim_1=%{x}\\u003cbr\\u003eDim_2=%{y}\\u003cbr\\u003etext=%{customdata[0]}\\u003cbr\\u003elabel=%{marker.color}\\u003cextra\\u003e\\u003c\\u002fextra\\u003e\",\"legendgroup\":\"\",\"marker\":{\"color\":[0.0,0.0,1.0,0.0,0.0,0.0,0.0,0.0,0.0,1.0,0.0,0.0,0.0,1.0,0.0,0.0,0.0,0.0,0.0,0.0,0.0,1.0,0.0,0.0,0.0,0.0,0.0,0.0,0.0,0.0,0.0,0.0,0.0,0.0,0.0,0.0,0.0,1.0,0.0,1.0,0.0,0.0,0.0,1.0,1.0,0.0,0.0,1.0,0.0,0.0,0.0,0.0,0.0,1.0,0.0,0.0,0.0,1.0,0.0,0.0,0.0,0.0,0.0,0.0,0.0,0.0,0.0,0.0,0.0,0.0,0.0,0.0,0.0,1.0,0.0,1.0,0.0,0.0,0.0,0.0,0.0,0.0,0.0,0.0,0.0,0.0,0.0,1.0,1.0,0.0,0.0,0.0,0.0,1.0,0.0,1.0,0.0,0.0,0.0,0.0,1.0,1.0,1.0,0.0,0.0,0.0,0.0,0.0,1.0,0.0,0.0,0.0,1.0,1.0,1.0,0.0,1.0,1.0,0.0,0.0,0.0,0.0,0.0,0.0,0.0,0.0,1.0,1.0,1.0,0.0,0.0,0.0,0.0,1.0,1.0,0.0,1.0,0.0,0.0,0.0,1.0,1.0,0.0,1.0,1.0,1.0,0.0,0.0,0.0,0.0,0.0,0.0,0.0,1.0,1.0,0.0,1.0,0.0,0.0,0.0,0.0,1.0,0.0,0.0,1.0,1.0,0.0,1.0,0.0,0.0,1.0,1.0,0.0,0.0,0.0,0.0,0.0,1.0,0.0,1.0,1.0,0.0,0.0,0.0,0.0,0.0,1.0,1.0,1.0,0.0,0.0,0.0,0.0,1.0,0.0,0.0,0.0,1.0,0.0,0.0,0.0,0.0,0.0,0.0,0.0,0.0,0.0,0.0,0.0,0.0,0.0,1.0,0.0,0.0,0.0,0.0,1.0,0.0,0.0,0.0,0.0,0.0,0.0,0.0,0.0,0.0,1.0,0.0,1.0,1.0,0.0,0.0,0.0,0.0,0.0,0.0,0.0,1.0,1.0,0.0,0.0,1.0,1.0,1.0,1.0,0.0,1.0,1.0,0.0,0.0,0.0,0.0,1.0,0.0,0.0,0.0,0.0,1.0,0.0,0.0,0.0,0.0,0.0,0.0,0.0,0.0,1.0,1.0,0.0,1.0,1.0,1.0,1.0,0.0,0.0,0.0,0.0,0.0,0.0,0.0,0.0,0.0,0.0,0.0,0.0,0.0,0.0,1.0,0.0,0.0,0.0,0.0,0.0,0.0,0.0,1.0,1.0,1.0,1.0,0.0,1.0,0.0,0.0,1.0,0.0,1.0,1.0,0.0,0.0,1.0,0.0,0.0,0.0,1.0,0.0,0.0,1.0,1.0,0.0,0.0,0.0,0.0,0.0,0.0,0.0,0.0,0.0,0.0,1.0,0.0,0.0,1.0,0.0,0.0,0.0,1.0,1.0,1.0,0.0,0.0,1.0,0.0,0.0,1.0,0.0,0.0,0.0,0.0,1.0,0.0,0.0,0.0,0.0,1.0,0.0,0.0,0.0,0.0,0.0,0.0,0.0,1.0,1.0,0.0,0.0,0.0,0.0,0.0,0.0,1.0,0.0,1.0,1.0,1.0,0.0,0.0,0.0,0.0,0.0,0.0,1.0,0.0,1.0,1.0,1.0,0.0,0.0,0.0,1.0,1.0,1.0,0.0,0.0,1.0,0.0,0.0,0.0,0.0,0.0,0.0,0.0,0.0,1.0,0.0,0.0,0.0,0.0,0.0,1.0,0.0,0.0,0.0,0.0,0.0,0.0,0.0,0.0,0.0,0.0,0.0,0.0,0.0,0.0,0.0,0.0,1.0,0.0,0.0,0.0,0.0,1.0,1.0,0.0,1.0,0.0,0.0,1.0,0.0,0.0,1.0,0.0,0.0,0.0,0.0,0.0,0.0,0.0,0.0,0.0,0.0,0.0,0.0,0.0,0.0,0.0,0.0,0.0,1.0,1.0,0.0,0.0,0.0,0.0,0.0,0.0,0.0,0.0,0.0,0.0,0.0,1.0,0.0,0.0,0.0,0.0,0.0,0.0,0.0,0.0,1.0,0.0,0.0,0.0,1.0,0.0,0.0,0.0,0.0,0.0,0.0,0.0,0.0,0.0,0.0,0.0,0.0,0.0,0.0,1.0,0.0,1.0,0.0,0.0,0.0,0.0,1.0,1.0,0.0,0.0,0.0,0.0,0.0,0.0,1.0,0.0,0.0,1.0,0.0,1.0,0.0,1.0,1.0,0.0,0.0,1.0,0.0,1.0,0.0,0.0,0.0,1.0,1.0,1.0,0.0,0.0,0.0,1.0,0.0,0.0,0.0,0.0,0.0,0.0,0.0,0.0,0.0,0.0,1.0,1.0,1.0,0.0,1.0,0.0,0.0,0.0,0.0,0.0,0.0,0.0,1.0,0.0,0.0,1.0,0.0,0.0,0.0,0.0,1.0,1.0,0.0,0.0,0.0,0.0,1.0,1.0,0.0,0.0,0.0,0.0,0.0,0.0,1.0,1.0,0.0,1.0,0.0,0.0,0.0,0.0,1.0,0.0,0.0,0.0,1.0,0.0,0.0,0.0,1.0,0.0],\"coloraxis\":\"coloraxis\",\"symbol\":\"circle\",\"opacity\":0.7,\"size\":10},\"mode\":\"markers\",\"name\":\"\",\"orientation\":\"v\",\"showlegend\":false,\"x\":[-0.28162193298339844,-0.1501561850309372,1.2137305736541748,-0.47723403573036194,0.18385232985019684,-1.4707754850387573,-0.4030526280403137,-0.4737239181995392,1.5401681661605835,-1.1164438724517822,-0.39860960841178894,-0.08703208714723587,-0.2671653628349304,0.033709123730659485,0.10483825951814651,2.184297561645508,2.1828432083129883,-0.40052568912506104,-2.206395387649536,-0.39021754264831543,-0.12145773321390152,-0.8728027939796448,0.5604096055030823,-1.2475183010101318,0.3698034882545471,-1.182531714439392,-0.6835591197013855,-1.170174241065979,1.373755693435669,-0.7689321637153625,-0.4036654233932495,-0.40430647134780884,-0.8009232878684998,-0.7849761247634888,-0.38976702094078064,-0.46145233511924744,-2.4230458736419678,-2.216944456100464,0.3126297891139984,0.2686203122138977,-0.5038094520568848,-0.5037012696266174,-1.7323373556137085,0.1423078030347824,-2.1975901126861572,0.3745175898075104,-1.1241114139556885,-1.3464866876602173,-0.2059977501630783,0.6915104985237122,0.6911672353744507,-0.3179137706756592,-0.018745653331279755,-0.37328964471817017,-1.214005947113037,0.13040950894355774,-0.1122845858335495,0.4550839364528656,-0.009306208230555058,-0.949573814868927,-1.299994707107544,0.5637813210487366,-1.6078283786773682,-1.9266347885131836,-2.3239235877990723,0.013875897042453289,-0.1469496339559555,-0.4094420373439789,-0.28162097930908203,-0.17346660792827606,0.6522947549819946,0.9924827218055725,-0.43204453587532043,-2.2614643573760986,-0.44360265135765076,-0.7933065891265869,-2.21885085105896,-1.3825299739837646,0.6268676519393921,-0.3534727394580841,-0.36053285002708435,-1.0381041765213013,-0.8907215595245361,2.2216439247131348,2.2213501930236816,-0.3964148759841919,-0.42471736669540405,1.7605289220809937,1.7605665922164917,-0.3959362506866455,0.6670665144920349,1.1506551504135132,-0.3822718560695648,-0.9699844717979431,-0.9249338507652283,1.540888786315918,0.809581458568573,1.3061469793319702,0.9771909117698669,-0.7228484749794006,-0.2855086028575897,0.08412793278694153,0.576950192451477,-0.4055439233779907,-1.089508295059204,-1.576133370399475,0.6629117131233215,0.6579828858375549,-0.9155324101448059,1.4789618253707886,1.1158260107040405,1.1157822608947754,0.3111843466758728,0.29833605885505676,-1.2658896446228027,-1.0405560731887817,1.4993666410446167,-0.6216379404067993,-0.08397520333528519,1.1510646343231201,0.16651806235313416,0.1614922136068344,-1.122280240058899,-0.5446063280105591,-0.36201584339141846,-2.1592633724212646,0.703813910484314,0.5500680804252625,-0.23820827901363373,-0.4022952914237976,-0.38468798995018005,0.47087422013282776,-0.527184009552002,-0.3728220462799072,-1.406182885169983,-2.3913257122039795,-0.7914208769798279,0.2597205936908722,0.5821027755737305,-0.7900051474571228,-2.108123540878296,-0.2592403292655945,-2.0336902141571045,0.9346053004264832,0.9612123370170593,-0.4199591875076294,1.6934425830841064,1.693097472190857,-2.108321189880371,0.5345205664634705,-0.41378358006477356,1.3273612260818481,-0.653386116027832,0.016604052856564522,0.0163328368216753,-1.2351374626159668,-1.7372539043426514,-1.145485281944275,-0.4035777151584625,-1.271543025970459,-0.39100366830825806,-0.08003782480955124,-0.7316213846206665,-1.069884181022644,-0.7600200772285461,-0.38382863998413086,-0.7771992683410645,-1.8974288702011108,-0.3935118615627289,-0.037369485944509506,0.5424134135246277,-1.2335925102233887,-0.4495193064212799,0.85186767578125,-1.229678988456726,-0.39028453826904297,-0.03165877237915993,-0.49266916513442993,-0.4279763996601105,-1.2162976264953613,-1.616306185722351,-0.7724162340164185,-0.7718695402145386,-0.3941590189933777,-0.7942559719085693,-0.40795472264289856,1.5265504121780396,0.769670307636261,0.7688992619514465,-0.13322004675865173,0.5485249161720276,-0.03754107281565666,-0.7521871328353882,0.7012176513671875,-1.7997922897338867,-0.3844209611415863,-0.7887593507766724,0.6155417561531067,1.0714781284332275,-0.4739624559879303,-1.4112132787704468,-1.2159897089004517,0.5930940508842468,0.14073996245861053,0.1336996704339981,1.4337506294250488,0.5631442666053772,-1.6328661441802979,0.3982776999473572,-2.711789131164551,-0.6010552644729614,0.31082719564437866,1.3405654430389404,-1.2362847328186035,-0.6316155195236206,-1.0632524490356445,-0.12145773321390152,-0.4071730077266693,0.36146682500839233,-2.3517398834228516,-0.4198826253414154,-1.5163226127624512,1.2004797458648682,1.0444073677062988,-0.23131871223449707,1.3313285112380981,0.30918779969215393,0.09543545544147491,0.6416804790496826,0.5855164527893066,-0.42086246609687805,-0.10551425814628601,1.3783657550811768,-0.6406244039535522,1.2628519535064697,-1.601355791091919,-1.0785574913024902,-0.1212654560804367,-1.8909533023834229,-0.3966383934020996,-0.24850890040397644,-1.8316230773925781,-2.1170756816864014,-2.1169612407684326,-1.1229137182235718,0.417093962430954,0.014462758786976337,-0.38203859329223633,-0.9814944863319397,-0.36388880014419556,1.4841468334197998,-0.40530484914779663,-0.7295946478843689,-0.3611311912536621,-0.366559237241745,-0.31220588088035583,-0.3907531797885895,-0.3855748176574707,-0.44706830382347107,-1.192334771156311,-0.93507981300354,0.621219277381897,0.47770801186561584,-0.4255528748035431,0.027088554576039314,-1.3273500204086304,0.03523833677172661,0.03771694749593735,-0.0619586817920208,-0.19295065104961395,-0.4942353069782257,0.3396996557712555,-0.6524732708930969,-0.3449817895889282,-0.3606637716293335,-2.2070491313934326,0.400759220123291,-0.16056886315345764,-2.165508508682251,0.008932898752391338,-2.3150229454040527,-1.692098617553711,0.8395804762840271,-1.6526641845703125,-1.6523716449737549,-2.4520187377929688,-0.3885273039340973,-1.2557990550994873,-1.1976455450057983,-1.8766796588897705,-1.6966278553009033,0.25935542583465576,0.5146717429161072,0.6697274446487427,-0.17534714937210083,0.08460250496864319,-1.1493613719940186,-1.2181000709533691,-2.208481788635254,-0.14605532586574554,-0.5353566408157349,-0.9814974665641785,-0.43677353858947754,1.5424940586090088,-0.13507866859436035,-1.011043667793274,-1.0104117393493652,0.441358745098114,-1.2357499599456787,-2.5962438583374023,-0.4254603087902069,-0.4741702973842621,-0.012217426672577858,-0.7610047459602356,1.1930687427520752,0.3886035978794098,-2.954397678375244,-2.954298973083496,-1.9267116785049438,-0.39173123240470886,-0.3959891200065613,-0.9720120429992676,-0.29968002438545227,-1.2711306810379028,-1.588858962059021,-0.5776101350784302,0.9662801027297974,0.5292478799819946,-1.056164026260376,-0.9646832346916199,-0.39853614568710327,0.6354702115058899,-0.2498152256011963,-0.36683762073516846,-1.3614933490753174,-0.3753212094306946,0.4771268963813782,0.3666354715824127,-0.441879540681839,-0.2990548610687256,-0.8069949150085449,-1.237332820892334,-1.9777947664260864,-0.02148888073861599,2.5938568115234375,2.593900680541992,-0.1110353022813797,0.6340011954307556,-1.781818151473999,-0.3989548981189728,1.3006951808929443,-0.3484100103378296,0.6833649277687073,-0.9654940962791443,-0.37274298071861267,-0.05728350952267647,0.45243585109710693,-1.2370367050170898,-1.7574177980422974,-1.3842244148254395,-0.2591896653175354,-0.3891058564186096,0.6289075016975403,-0.3980085849761963,-0.3339150547981262,1.8117825984954834,1.8114768266677856,0.3743983209133148,-0.08188989013433456,-0.38235360383987427,-0.2582891285419464,-1.853702187538147,0.6174028515815735,1.4787052869796753,-0.772769570350647,-0.378838449716568,-0.9563960433006287,-0.47122907638549805,-2.5900301933288574,-0.3637872338294983,-0.7733381390571594,-0.45623481273651123,1.2512891292572021,1.2505663633346558,-0.21356987953186035,-1.3184069395065308,-0.9297064542770386,0.9671465158462524,1.3314242362976074,1.3314131498336792,-1.3037770986557007,0.048998843878507614,1.4778164625167847,-1.2265524864196777,0.31275710463523865,0.3127537667751312,-1.9046850204467773,-1.5647751092910767,0.9092178344726562,-1.793386697769165,-2.480581521987915,-1.8393995761871338,-1.6807570457458496,0.004743024706840515,-2.0692288875579834,0.1059112697839737,0.09528777003288269,-1.8106111288070679,-0.05651148036122322,-1.1281745433807373,0.3249855935573578,-0.3956053555011749,1.1751681566238403,-0.49479031562805176,0.6042894721031189,0.7850074172019958,0.4480364918708801,0.06572410464286804,-0.9915744066238403,-1.0692957639694214,2.445279359817505,2.445430278778076,-0.22428002953529358,-0.4021705687046051,-0.5413082838058472,-2.1396896839141846,-1.0638720989227295,-1.0636638402938843,0.6128984093666077,0.585871160030365,-0.20950540900230408,-0.2092430293560028,-0.434917688369751,-0.46958494186401367,0.7760509252548218,0.4917982518672943,0.3747459650039673,0.18282151222229004,0.5615754723548889,-1.4943647384643555,-0.9978721737861633,-0.37939199805259705,-0.517273485660553,-2.1433842182159424,-2.141359329223633,-0.1945960521697998,-0.1866845190525055,-1.375840663909912,-1.0679460763931274,-1.2550714015960693,-0.3357878625392914,0.6370387077331543,-0.40156668424606323,-3.351191759109497,-3.351271867752075,-0.5672948956489563,0.0247605349868536,-0.3791235387325287,-0.4595942497253418,-0.8081035017967224,-0.056260742247104645,-1.4881502389907837,-1.2000588178634644,-0.32754945755004883,-0.37377774715423584,-0.43126025795936584,-1.1458240747451782,0.8228803873062134,1.4385173320770264,-0.9526332020759583,-1.913753867149353,0.45419299602508545,-0.3450870215892792,-2.135275363922119,-0.478872150182724,-0.6152448058128357,-0.7503006458282471,-0.9637951254844666,0.036306966096162796,-2.302140235900879,-0.37520816922187805,-0.3843913674354553,-1.0777955055236816,-0.3788518011569977,-0.3983800709247589,0.6471810936927795,-1.2374264001846313,-0.2695830166339874,-1.540932297706604,-1.572123646736145,0.9552940130233765,-0.39584609866142273,0.8966187238693237,0.5430158376693726,1.4231226444244385,2.7224245071411133,2.7225866317749023,-1.2740987539291382,-0.9145862460136414,0.9676140546798706,0.6294538974761963,-1.8623608350753784,-0.12989003956317902,-2.0182902812957764,1.3787696361541748,-0.39836153388023376,-0.40122708678245544,-0.40241044759750366,-0.6351595520973206,-1.1476576328277588,0.3327750563621521,-0.10950614511966705,-1.1039844751358032,0.38046762347221375,-2.1625747680664062,-1.0070972442626953,-0.9695816040039062,-1.1882940530776978,-2.437182903289795,0.789779543876648,-1.013597011566162,-0.7094723582267761,1.5080149173736572,-0.2856563329696655,0.9948520660400391,-0.3028161823749542,-1.3010787963867188,-0.38279789686203003,-0.4072004556655884,-0.33898013830184937,-1.1342567205429077,-1.1774570941925049,-0.3923053443431854,0.20030993223190308,-0.382402241230011,-0.5669617056846619,-0.34974247217178345,-1.4582998752593994,-1.6386739015579224,-1.6378692388534546,-1.4688024520874023,-0.37374088168144226,-0.3294244706630707,-1.212328314781189,-0.4201250672340393,-0.3417836129665375,-1.7326158285140991,0.8999009728431702,0.6601403951644897,0.3048533797264099,1.3201407194137573,-1.25194251537323,1.045282244682312,1.5392608642578125,-0.14099456369876862,-2.0276331901550293,-2.6598870754241943,-2.659580707550049,1.456549882888794,0.012966386042535305,-2.4646615982055664,-1.3847296237945557,-1.24734365940094,-0.4383363127708435,-2.2696690559387207,-1.2910544872283936,-0.6936362981796265,2.741581439971924,2.741580009460449,-1.851197600364685,-1.3714271783828735,-0.4058051109313965,-0.1859133392572403,-1.1397547721862793,-0.976742148399353,-1.1761046648025513,-0.3604518175125122,-0.3650963306427002,-0.16938865184783936,-0.49896273016929626,-0.17259494960308075,-0.0011682345066219568,-0.01332315243780613,0.616045355796814,1.1811447143554688,0.6048978567123413,-0.22344864904880524,-0.23643848299980164,0.4731888473033905,1.552428126335144,0.059206631034612656,-1.7899876832962036,0.31021368503570557,-0.3873041570186615,-0.40071263909339905,0.47770801186561584,-0.4160175025463104,-0.37975606322288513,0.6983041763305664],\"xaxis\":\"x\",\"y\":[-3.0500876903533936,-1.610404133796692,-2.0047390460968018,-0.6670251488685608,-2.5988590717315674,0.38015878200531006,-0.9610403180122375,-0.5844721794128418,-1.5361182689666748,-0.15105561912059784,-0.9865826964378357,-0.03514046221971512,-1.9388346672058105,-3.0513343811035156,-1.4539624452590942,0.4170760214328766,0.4167817533016205,-2.9490997791290283,-1.900295376777649,-0.933357298374176,-1.5756242275238037,0.18858374655246735,0.03517816215753555,-0.41646113991737366,0.37089499831199646,-0.6779094934463501,0.6270094513893127,-0.8695433735847473,-1.9427565336227417,-1.9410325288772583,-0.9584103226661682,-0.9614856839179993,-2.9156856536865234,-2.9484353065490723,-0.9701797962188721,-0.6478153467178345,-0.6738080978393555,-0.8240277171134949,-1.8580962419509888,-1.3687604665756226,1.9196795225143433,1.9199129343032837,0.3644024729728699,-1.420091986656189,-0.21118851006031036,-1.7421048879623413,-0.8939896821975708,-1.8687111139297485,-0.326113224029541,1.8805932998657227,1.8813220262527466,-0.7503551840782166,0.5667021870613098,-0.3549058735370636,-0.8048585057258606,-1.7452465295791626,-2.8950212001800537,0.3433186113834381,-1.539990782737732,-1.3763573169708252,-2.290321111679077,-0.9242120981216431,-2.7111856937408447,-1.4532917737960815,-0.2752326428890228,-2.017947196960449,-0.5646399855613708,-0.976502001285553,-1.6514155864715576,0.5541905164718628,-0.7123070359230042,-1.2138038873672485,-0.5617528557777405,-1.6717174053192139,-0.9213075041770935,0.7345756888389587,-0.3687831163406372,0.3881182372570038,0.263898640871048,-0.13208237290382385,-0.919938862323761,-0.3869413435459137,-1.413898229598999,0.701865017414093,0.7017049789428711,-0.9382230043411255,-0.8968690037727356,1.3153579235076904,1.3152695894241333,-0.9656469821929932,-2.373595714569092,-2.319688081741333,-0.9115198254585266,-1.3620121479034424,-2.3260841369628906,-1.672605037689209,-1.51561439037323,-0.5076078772544861,-2.54471755027771,-1.545873761177063,-0.6779783964157104,-1.4649206399917603,-2.8436052799224854,-0.9230724573135376,-0.12748606503009796,-2.585975170135498,-0.7395530939102173,-0.7081553339958191,0.6398308873176575,-0.8838939070701599,1.4409517049789429,1.4407804012298584,1.0923986434936523,1.073110580444336,-0.4347648620605469,-0.05432067811489105,-1.6914349794387817,-1.598816990852356,-0.5964188575744629,-0.2737967073917389,1.0098434686660767,0.9950259923934937,-0.07644596695899963,-2.0827460289001465,-0.9128303527832031,-2.0299744606018066,0.24343028664588928,-0.9321517944335938,-0.0908278301358223,-0.9731799960136414,-0.8952034115791321,-2.5734317302703857,0.6566073298454285,-0.9002252221107483,-1.6283085346221924,-1.3873988389968872,-2.055257797241211,-0.7396522760391235,-0.8244080543518066,0.27020642161369324,-2.1825218200683594,-0.7782469987869263,0.019987093284726143,-2.564028263092041,0.09616430848836899,-0.7968537211418152,1.069239854812622,1.0699812173843384,-0.011624732054769993,-0.18514323234558105,-0.8864458203315735,-0.5195124745368958,0.4086511433124542,1.9760102033615112,1.9762736558914185,-0.9717902541160583,-2.6138930320739746,-0.8065136075019836,-0.8776199817657471,0.563357949256897,-0.9254053831100464,-1.5555857419967651,-2.9073991775512695,-0.0569063238799572,0.6164144277572632,-0.9049965143203735,-1.4767581224441528,-1.1792371273040771,-0.9022608399391174,-0.3933422863483429,-0.19128970801830292,-0.34592705965042114,-0.15482214093208313,-1.6876447200775146,-0.7129292488098145,-0.9200266003608704,-0.3663918972015381,-0.34848254919052124,-0.9264519810676575,-0.8950527906417847,-2.705540180206299,2.149827241897583,2.149757146835327,-0.9238850474357605,-1.4728446006774902,-0.9745118618011475,-1.207141399383545,1.8702847957611084,1.8706445693969727,-0.027363955974578857,-0.2813427746295929,-0.12866954505443573,-2.140345573425293,-1.7799746990203857,-1.090901255607605,-0.8142083287239075,-1.4546245336532593,-0.7693206071853638,0.08047952502965927,-2.3081135749816895,-0.8813322186470032,-1.062015414237976,-0.0946604311466217,0.8532761335372925,0.8316599726676941,-0.790644109249115,-2.322627544403076,-2.4610886573791504,-1.2608659267425537,-1.4555306434631348,-1.5884743928909302,-1.8450024127960205,-0.5290892124176025,-0.42254114151000977,0.42617061734199524,-1.244745135307312,-1.5756242275238037,-0.9045631289482117,0.4627803862094879,-1.3415284156799316,-0.9369776844978333,-1.5428745746612549,-0.9760499596595764,-2.446608781814575,-0.36918938159942627,-0.5252175331115723,-1.341458797454834,-2.4793155193328857,-0.7420384883880615,-0.11586921662092209,-0.5414373874664307,-1.5628288984298706,-1.9786163568496704,-1.578212857246399,-2.254899501800537,-0.00048096117097884417,-0.0680713951587677,-2.36186146736145,-0.4088524878025055,-0.9240495562553406,-0.7681839466094971,-1.2112338542938232,1.653883457183838,1.6538876295089722,-2.072387218475342,-2.90274715423584,-3.0218586921691895,-1.80804443359375,-1.3560928106307983,-0.8958735466003418,-1.3860870599746704,-0.7117190361022949,-1.7356185913085938,-0.8495670557022095,-0.8672709465026855,-2.0323052406311035,-0.9622758030891418,-0.8650633096694946,-0.2749088406562805,-1.0788391828536987,-2.2252964973449707,-0.4724053740501404,-1.0618864297866821,-0.9431641697883606,-1.5146898031234741,-0.6719770431518555,1.6779028177261353,1.6628880500793457,-1.549660325050354,-0.12835490703582764,-1.6251686811447144,-1.3026068210601807,0.6654492616653442,-1.8444780111312866,-0.9599945545196533,-0.46871086955070496,0.25796282291412354,-0.10845361649990082,-0.20694592595100403,-1.5228739976882935,-1.43475341796875,-1.5712249279022217,0.14573213458061218,1.7363405227661133,1.736990213394165,-0.9735071063041687,-0.8772496581077576,-1.026151180267334,-1.0551049709320068,-2.471470355987549,-2.5961062908172607,-1.3707282543182373,-0.8694420456886292,-2.004732370376587,-0.7467741966247559,-2.207285165786743,-2.774099349975586,-0.7205638289451599,-1.9605839252471924,-1.5858279466629028,-1.5950955152511597,-1.3560893535614014,-2.97749662399292,-1.1246631145477295,-0.1081697940826416,1.886910080909729,1.8876076936721802,-1.1225202083587646,-2.2361767292022705,-1.4270732402801514,-0.9220808744430542,-0.2464223951101303,-0.4403995871543884,-2.230919599533081,-0.35641786456108093,-1.2756496667861938,0.8923475742340088,0.8924717903137207,-0.5869515538215637,-0.9104446768760681,-0.9709771871566772,-1.3574045896530151,-0.27061140537261963,-1.0279974937438965,0.5439596176147461,-2.704535484313965,-1.541007399559021,0.09690186381340027,-2.8297441005706787,0.12745533883571625,-0.9193994402885437,-0.7385115623474121,-0.6498766541481018,-0.8926553726196289,-0.5681953430175781,-0.8294674158096313,-1.0701686143875122,-2.8895843029022217,0.5849712491035461,0.5659980773925781,-2.122560501098633,-0.9792742133140564,0.2422764152288437,-3.0092897415161133,-0.16110076010227203,-0.1611538827419281,-0.03315319865942001,-0.7006317377090454,-1.2055164575576782,-0.8517152070999146,-2.188852071762085,-0.8361530303955078,-2.0819156169891357,0.11857329308986664,-0.91193026304245,-0.3426472246646881,-1.108794927597046,-2.820087194442749,-1.7449860572814941,-0.37233397364616394,-1.578662633895874,-0.9125949144363403,-2.819033145904541,-0.8812502026557922,-0.6572078466415405,0.9770228266716003,0.9778175354003906,-1.2746714353561401,-0.39487436413764954,-0.8495000600814819,-0.7761574983596802,-2.261831760406494,-0.6755255460739136,-1.8458300828933716,-1.4840309619903564,-0.9058692455291748,-1.370208740234375,-0.5579531192779541,-0.683069109916687,-0.9082335233688354,-1.4763743877410889,0.5550916790962219,1.8646044731140137,1.864932656288147,-1.612265706062317,-1.9907383918762207,-1.387523889541626,0.09807810932397842,1.3891505002975464,1.389573097229004,-0.6169704794883728,-1.5101104974746704,-1.3336782455444336,-1.9214544296264648,2.1640241146087646,2.1639833450317383,0.14658726751804352,-1.5673376321792603,-0.12415497750043869,-0.22582465410232544,-0.666741669178009,-0.27604156732559204,0.30160602927207947,-0.34020569920539856,-2.2507119178771973,0.7622922658920288,0.7267425060272217,-1.1284916400909424,-1.6670570373535156,-0.18276704847812653,0.25581130385398865,-0.9192367792129517,-0.35352909564971924,-1.6302123069763184,0.27854353189468384,-0.15464332699775696,-1.1201374530792236,-0.3688815236091614,0.08985436707735062,-1.2295359373092651,0.22529764473438263,0.22529305517673492,-0.5423777103424072,-0.9389595985412598,-1.6362042427062988,-0.8923245072364807,1.9135408401489258,1.9135843515396118,1.2227625846862793,1.188079595565796,2.266720771789551,2.2664670944213867,-0.6047800183296204,-0.5936856269836426,-1.7775373458862305,-1.0596119165420532,-1.9264851808547974,-2.255964994430542,0.34897440671920776,-1.6116933822631836,-1.3813577890396118,-0.7805641889572144,-1.640367031097412,1.4748578071594238,1.4756677150726318,-1.5915416479110718,-0.13445425033569336,-1.7632434368133545,-0.030165130272507668,0.6962674856185913,-0.8286409974098206,-0.8115828037261963,-0.9390199780464172,0.2802424430847168,0.2804705500602722,-3.0923337936401367,-2.4671897888183594,-0.8214779496192932,0.5735652446746826,0.6063401103019714,-1.551862120628357,-2.07250714302063,-0.328352153301239,-0.860492467880249,-0.8766481876373291,-0.9724637269973755,-0.20588280260562897,-2.6255199909210205,-0.3954631984233856,-1.4021154642105103,0.13668465614318848,-1.1213539838790894,-0.8035290837287903,-2.013378620147705,0.5384043455123901,-2.3512110710144043,-2.9228434562683105,-1.367069959640503,-2.2631843090057373,-1.4972138404846191,-0.8827201724052429,-0.9679457545280457,-2.8492586612701416,-0.7350247502326965,-0.6457374095916748,-0.6575819849967957,-0.6659780144691467,-0.1131114587187767,0.38854730129241943,0.4733017385005951,-1.3985384702682495,-2.2068936824798584,-0.1350223422050476,-0.06205371767282486,-1.8656595945358276,-0.598511278629303,-0.5983289480209351,-1.830619215965271,-1.408069133758545,-1.3790425062179565,-0.7873732447624207,-0.7730381488800049,-3.0226945877075195,0.05929914489388466,-1.2507086992263794,-0.843029260635376,-0.8627855181694031,-0.9740351438522339,-2.3540728092193604,-2.816974401473999,-1.3218446969985962,-2.427736282348633,0.5753080248832703,-1.2982240915298462,-2.086836099624634,-0.005952844861894846,-1.3700578212738037,-1.0796383619308472,-0.6549295783042908,-1.7567036151885986,-0.17850583791732788,-1.5532751083374023,-1.1854780912399292,-0.7272530794143677,0.07111106067895889,-0.7279816269874573,0.49635982513427734,-0.8747847080230713,-0.9948943257331848,-0.7561652064323425,0.6700593829154968,-2.822420597076416,-0.8904668092727661,-2.257544994354248,-0.913472592830658,-1.5937684774398804,-0.6480398178100586,-1.8057713508605957,1.9384528398513794,1.9400523900985718,-1.034620761871338,-1.8421998023986816,-0.7402209639549255,-0.6909475326538086,-0.6717090606689453,-2.4608254432678223,-0.41055208444595337,-1.4350612163543701,-0.5263860821723938,-1.1321868896484375,-0.5165557861328125,-0.6438045501708984,-2.4664885997772217,-0.8852688074111938,-0.08793961256742477,-1.6635998487472534,1.1710222959518433,1.1701534986495972,-0.7407234311103821,-0.23447264730930328,-1.2273321151733398,-1.714665174484253,-0.39111098647117615,-2.2594196796417236,-0.9273310303688049,-1.0358749628067017,-1.566227674484253,-1.4014049768447876,-1.40133535861969,-0.9829877018928528,-1.7770452499389648,-0.9539406895637512,0.5605030059814453,-2.1725940704345703,0.5933101773262024,-1.115315318107605,-0.8751265406608582,-0.8879258632659912,-0.1490454375743866,0.5859997272491455,-1.589077115058899,0.38607630133628845,0.34732624888420105,-2.0278990268707275,-0.31601184606552124,-2.797229051589966,-0.44709888100624084,-0.48816990852355957,-2.1165168285369873,-1.1680928468704224,-1.4969713687896729,-0.7708364725112915,-1.3315632343292236,-0.890946626663208,-0.9708418846130371,-1.0618864297866821,-0.9840843677520752,-0.18552996218204498,-1.7640265226364136],\"yaxis\":\"y\",\"type\":\"scatter\"}],                        {\"template\":{\"data\":{\"histogram2dcontour\":[{\"type\":\"histogram2dcontour\",\"colorbar\":{\"outlinewidth\":0,\"ticks\":\"\"},\"colorscale\":[[0.0,\"#0d0887\"],[0.1111111111111111,\"#46039f\"],[0.2222222222222222,\"#7201a8\"],[0.3333333333333333,\"#9c179e\"],[0.4444444444444444,\"#bd3786\"],[0.5555555555555556,\"#d8576b\"],[0.6666666666666666,\"#ed7953\"],[0.7777777777777778,\"#fb9f3a\"],[0.8888888888888888,\"#fdca26\"],[1.0,\"#f0f921\"]]}],\"choropleth\":[{\"type\":\"choropleth\",\"colorbar\":{\"outlinewidth\":0,\"ticks\":\"\"}}],\"histogram2d\":[{\"type\":\"histogram2d\",\"colorbar\":{\"outlinewidth\":0,\"ticks\":\"\"},\"colorscale\":[[0.0,\"#0d0887\"],[0.1111111111111111,\"#46039f\"],[0.2222222222222222,\"#7201a8\"],[0.3333333333333333,\"#9c179e\"],[0.4444444444444444,\"#bd3786\"],[0.5555555555555556,\"#d8576b\"],[0.6666666666666666,\"#ed7953\"],[0.7777777777777778,\"#fb9f3a\"],[0.8888888888888888,\"#fdca26\"],[1.0,\"#f0f921\"]]}],\"heatmap\":[{\"type\":\"heatmap\",\"colorbar\":{\"outlinewidth\":0,\"ticks\":\"\"},\"colorscale\":[[0.0,\"#0d0887\"],[0.1111111111111111,\"#46039f\"],[0.2222222222222222,\"#7201a8\"],[0.3333333333333333,\"#9c179e\"],[0.4444444444444444,\"#bd3786\"],[0.5555555555555556,\"#d8576b\"],[0.6666666666666666,\"#ed7953\"],[0.7777777777777778,\"#fb9f3a\"],[0.8888888888888888,\"#fdca26\"],[1.0,\"#f0f921\"]]}],\"heatmapgl\":[{\"type\":\"heatmapgl\",\"colorbar\":{\"outlinewidth\":0,\"ticks\":\"\"},\"colorscale\":[[0.0,\"#0d0887\"],[0.1111111111111111,\"#46039f\"],[0.2222222222222222,\"#7201a8\"],[0.3333333333333333,\"#9c179e\"],[0.4444444444444444,\"#bd3786\"],[0.5555555555555556,\"#d8576b\"],[0.6666666666666666,\"#ed7953\"],[0.7777777777777778,\"#fb9f3a\"],[0.8888888888888888,\"#fdca26\"],[1.0,\"#f0f921\"]]}],\"contourcarpet\":[{\"type\":\"contourcarpet\",\"colorbar\":{\"outlinewidth\":0,\"ticks\":\"\"}}],\"contour\":[{\"type\":\"contour\",\"colorbar\":{\"outlinewidth\":0,\"ticks\":\"\"},\"colorscale\":[[0.0,\"#0d0887\"],[0.1111111111111111,\"#46039f\"],[0.2222222222222222,\"#7201a8\"],[0.3333333333333333,\"#9c179e\"],[0.4444444444444444,\"#bd3786\"],[0.5555555555555556,\"#d8576b\"],[0.6666666666666666,\"#ed7953\"],[0.7777777777777778,\"#fb9f3a\"],[0.8888888888888888,\"#fdca26\"],[1.0,\"#f0f921\"]]}],\"surface\":[{\"type\":\"surface\",\"colorbar\":{\"outlinewidth\":0,\"ticks\":\"\"},\"colorscale\":[[0.0,\"#0d0887\"],[0.1111111111111111,\"#46039f\"],[0.2222222222222222,\"#7201a8\"],[0.3333333333333333,\"#9c179e\"],[0.4444444444444444,\"#bd3786\"],[0.5555555555555556,\"#d8576b\"],[0.6666666666666666,\"#ed7953\"],[0.7777777777777778,\"#fb9f3a\"],[0.8888888888888888,\"#fdca26\"],[1.0,\"#f0f921\"]]}],\"mesh3d\":[{\"type\":\"mesh3d\",\"colorbar\":{\"outlinewidth\":0,\"ticks\":\"\"}}],\"scatter\":[{\"fillpattern\":{\"fillmode\":\"overlay\",\"size\":10,\"solidity\":0.2},\"type\":\"scatter\"}],\"parcoords\":[{\"type\":\"parcoords\",\"line\":{\"colorbar\":{\"outlinewidth\":0,\"ticks\":\"\"}}}],\"scatterpolargl\":[{\"type\":\"scatterpolargl\",\"marker\":{\"colorbar\":{\"outlinewidth\":0,\"ticks\":\"\"}}}],\"bar\":[{\"error_x\":{\"color\":\"#2a3f5f\"},\"error_y\":{\"color\":\"#2a3f5f\"},\"marker\":{\"line\":{\"color\":\"#E5ECF6\",\"width\":0.5},\"pattern\":{\"fillmode\":\"overlay\",\"size\":10,\"solidity\":0.2}},\"type\":\"bar\"}],\"scattergeo\":[{\"type\":\"scattergeo\",\"marker\":{\"colorbar\":{\"outlinewidth\":0,\"ticks\":\"\"}}}],\"scatterpolar\":[{\"type\":\"scatterpolar\",\"marker\":{\"colorbar\":{\"outlinewidth\":0,\"ticks\":\"\"}}}],\"histogram\":[{\"marker\":{\"pattern\":{\"fillmode\":\"overlay\",\"size\":10,\"solidity\":0.2}},\"type\":\"histogram\"}],\"scattergl\":[{\"type\":\"scattergl\",\"marker\":{\"colorbar\":{\"outlinewidth\":0,\"ticks\":\"\"}}}],\"scatter3d\":[{\"type\":\"scatter3d\",\"line\":{\"colorbar\":{\"outlinewidth\":0,\"ticks\":\"\"}},\"marker\":{\"colorbar\":{\"outlinewidth\":0,\"ticks\":\"\"}}}],\"scattermapbox\":[{\"type\":\"scattermapbox\",\"marker\":{\"colorbar\":{\"outlinewidth\":0,\"ticks\":\"\"}}}],\"scatterternary\":[{\"type\":\"scatterternary\",\"marker\":{\"colorbar\":{\"outlinewidth\":0,\"ticks\":\"\"}}}],\"scattercarpet\":[{\"type\":\"scattercarpet\",\"marker\":{\"colorbar\":{\"outlinewidth\":0,\"ticks\":\"\"}}}],\"carpet\":[{\"aaxis\":{\"endlinecolor\":\"#2a3f5f\",\"gridcolor\":\"white\",\"linecolor\":\"white\",\"minorgridcolor\":\"white\",\"startlinecolor\":\"#2a3f5f\"},\"baxis\":{\"endlinecolor\":\"#2a3f5f\",\"gridcolor\":\"white\",\"linecolor\":\"white\",\"minorgridcolor\":\"white\",\"startlinecolor\":\"#2a3f5f\"},\"type\":\"carpet\"}],\"table\":[{\"cells\":{\"fill\":{\"color\":\"#EBF0F8\"},\"line\":{\"color\":\"white\"}},\"header\":{\"fill\":{\"color\":\"#C8D4E3\"},\"line\":{\"color\":\"white\"}},\"type\":\"table\"}],\"barpolar\":[{\"marker\":{\"line\":{\"color\":\"#E5ECF6\",\"width\":0.5},\"pattern\":{\"fillmode\":\"overlay\",\"size\":10,\"solidity\":0.2}},\"type\":\"barpolar\"}],\"pie\":[{\"automargin\":true,\"type\":\"pie\"}]},\"layout\":{\"autotypenumbers\":\"strict\",\"colorway\":[\"#636efa\",\"#EF553B\",\"#00cc96\",\"#ab63fa\",\"#FFA15A\",\"#19d3f3\",\"#FF6692\",\"#B6E880\",\"#FF97FF\",\"#FECB52\"],\"font\":{\"color\":\"#2a3f5f\"},\"hovermode\":\"closest\",\"hoverlabel\":{\"align\":\"left\"},\"paper_bgcolor\":\"white\",\"plot_bgcolor\":\"#E5ECF6\",\"polar\":{\"bgcolor\":\"#E5ECF6\",\"angularaxis\":{\"gridcolor\":\"white\",\"linecolor\":\"white\",\"ticks\":\"\"},\"radialaxis\":{\"gridcolor\":\"white\",\"linecolor\":\"white\",\"ticks\":\"\"}},\"ternary\":{\"bgcolor\":\"#E5ECF6\",\"aaxis\":{\"gridcolor\":\"white\",\"linecolor\":\"white\",\"ticks\":\"\"},\"baxis\":{\"gridcolor\":\"white\",\"linecolor\":\"white\",\"ticks\":\"\"},\"caxis\":{\"gridcolor\":\"white\",\"linecolor\":\"white\",\"ticks\":\"\"}},\"coloraxis\":{\"colorbar\":{\"outlinewidth\":0,\"ticks\":\"\"}},\"colorscale\":{\"sequential\":[[0.0,\"#0d0887\"],[0.1111111111111111,\"#46039f\"],[0.2222222222222222,\"#7201a8\"],[0.3333333333333333,\"#9c179e\"],[0.4444444444444444,\"#bd3786\"],[0.5555555555555556,\"#d8576b\"],[0.6666666666666666,\"#ed7953\"],[0.7777777777777778,\"#fb9f3a\"],[0.8888888888888888,\"#fdca26\"],[1.0,\"#f0f921\"]],\"sequentialminus\":[[0.0,\"#0d0887\"],[0.1111111111111111,\"#46039f\"],[0.2222222222222222,\"#7201a8\"],[0.3333333333333333,\"#9c179e\"],[0.4444444444444444,\"#bd3786\"],[0.5555555555555556,\"#d8576b\"],[0.6666666666666666,\"#ed7953\"],[0.7777777777777778,\"#fb9f3a\"],[0.8888888888888888,\"#fdca26\"],[1.0,\"#f0f921\"]],\"diverging\":[[0,\"#8e0152\"],[0.1,\"#c51b7d\"],[0.2,\"#de77ae\"],[0.3,\"#f1b6da\"],[0.4,\"#fde0ef\"],[0.5,\"#f7f7f7\"],[0.6,\"#e6f5d0\"],[0.7,\"#b8e186\"],[0.8,\"#7fbc41\"],[0.9,\"#4d9221\"],[1,\"#276419\"]]},\"xaxis\":{\"gridcolor\":\"white\",\"linecolor\":\"white\",\"ticks\":\"\",\"title\":{\"standoff\":15},\"zerolinecolor\":\"white\",\"automargin\":true,\"zerolinewidth\":2},\"yaxis\":{\"gridcolor\":\"white\",\"linecolor\":\"white\",\"ticks\":\"\",\"title\":{\"standoff\":15},\"zerolinecolor\":\"white\",\"automargin\":true,\"zerolinewidth\":2},\"scene\":{\"xaxis\":{\"backgroundcolor\":\"#E5ECF6\",\"gridcolor\":\"white\",\"linecolor\":\"white\",\"showbackground\":true,\"ticks\":\"\",\"zerolinecolor\":\"white\",\"gridwidth\":2},\"yaxis\":{\"backgroundcolor\":\"#E5ECF6\",\"gridcolor\":\"white\",\"linecolor\":\"white\",\"showbackground\":true,\"ticks\":\"\",\"zerolinecolor\":\"white\",\"gridwidth\":2},\"zaxis\":{\"backgroundcolor\":\"#E5ECF6\",\"gridcolor\":\"white\",\"linecolor\":\"white\",\"showbackground\":true,\"ticks\":\"\",\"zerolinecolor\":\"white\",\"gridwidth\":2}},\"shapedefaults\":{\"line\":{\"color\":\"#2a3f5f\"}},\"annotationdefaults\":{\"arrowcolor\":\"#2a3f5f\",\"arrowhead\":0,\"arrowwidth\":1},\"geo\":{\"bgcolor\":\"white\",\"landcolor\":\"#E5ECF6\",\"subunitcolor\":\"white\",\"showland\":true,\"showlakes\":true,\"lakecolor\":\"white\"},\"title\":{\"x\":0.05},\"mapbox\":{\"style\":\"light\"}}},\"xaxis\":{\"anchor\":\"y\",\"domain\":[0.0,1.0],\"title\":{\"text\":\"Dim_1\"}},\"yaxis\":{\"anchor\":\"x\",\"domain\":[0.0,1.0],\"title\":{\"text\":\"Dim_2\"}},\"coloraxis\":{\"colorbar\":{\"title\":{\"text\":\"label\"}},\"colorscale\":[[0.0,\"#0d0887\"],[0.1111111111111111,\"#46039f\"],[0.2222222222222222,\"#7201a8\"],[0.3333333333333333,\"#9c179e\"],[0.4444444444444444,\"#bd3786\"],[0.5555555555555556,\"#d8576b\"],[0.6666666666666666,\"#ed7953\"],[0.7777777777777778,\"#fb9f3a\"],[0.8888888888888888,\"#fdca26\"],[1.0,\"#f0f921\"]]},\"legend\":{\"tracegroupgap\":0},\"margin\":{\"t\":60},\"height\":600,\"width\":900},                        {\"responsive\": true}                    ).then(function(){\n",
       "                            \n",
       "var gd = document.getElementById('d88fd396-285b-4198-9096-491da21c69ee');\n",
       "var x = new MutationObserver(function (mutations, observer) {{\n",
       "        var display = window.getComputedStyle(gd).display;\n",
       "        if (!display || display === 'none') {{\n",
       "            console.log([gd, 'removed!']);\n",
       "            Plotly.purge(gd);\n",
       "            observer.disconnect();\n",
       "        }}\n",
       "}});\n",
       "\n",
       "// Listen for the removal of the full notebook cells\n",
       "var notebookContainer = gd.closest('#notebook-container');\n",
       "if (notebookContainer) {{\n",
       "    x.observe(notebookContainer, {childList: true});\n",
       "}}\n",
       "\n",
       "// Listen for the clearing of the current output cell\n",
       "var outputEl = gd.closest('.output');\n",
       "if (outputEl) {{\n",
       "    x.observe(outputEl, {childList: true});\n",
       "}}\n",
       "\n",
       "                        })                };                });            </script>        </div>"
      ]
     },
     "metadata": {},
     "output_type": "display_data"
    }
   ],
   "source": [
    "from sklearn.manifold import TSNE\n",
    "import plotly.express as px\n",
    "\n",
    "tfidf_tsne = TSNE(n_components=2, random_state=0, perplexity = 50).fit_transform(standardized_data)\n",
    "\n",
    "df_tsne = pd.DataFrame(tfidf_tsne, columns=(\"Dim_1\", \"Dim_2\"))\n",
    "df_tsne['label'] = df_processed['LABEL']\n",
    "df_tsne['text'] = df_processed['text']\n",
    "\n",
    "\n",
    "fig = px.scatter(df_tsne, x='Dim_1', y='Dim_2', color='label',\n",
    "                 hover_data={'text': True, 'label': True}, width=900, height=600)\n",
    "\n",
    "fig.update_traces(marker=dict(size=10, opacity=0.7), selector=dict(mode='markers'))\n",
    "\n",
    "fig.show()\n"
   ]
  },
  {
   "cell_type": "code",
   "execution_count": 27,
   "metadata": {},
   "outputs": [
    {
     "data": {
      "application/vnd.plotly.v1+json": {
       "config": {
        "plotlyServerURL": "https://plot.ly"
       },
       "data": [
        {
         "customdata": [
          [
           "Dla mnie faworytem do tytułu będzie Cracovia. Zobaczymy, czy typ się sprawdzi."
          ],
          [
           "@anonymized_account @anonymized_account Brawo ty Daria kibic ma być na dobre i złe"
          ],
          [
           "@anonymized_account @anonymized_account Super, polski premier składa kwiaty na grobach kolaborantów. Ale doczekaliśmy czasów."
          ],
          [
           "@anonymized_account @anonymized_account Musi. Innej drogi nie mamy."
          ],
          [
           "Odrzut natychmiastowy, kwaśna mina, mam problem"
          ],
          [
           "Jaki on był fajny xdd pamiętam, że spóźniłam się na jego pierwsze zajęcia i to sporo i za karę kazał mi usiąść w pierwszej ławce XD"
          ],
          [
           "@anonymized_account No nie ma u nas szczęścia 😉"
          ],
          [
           "@anonymized_account Dawno kogoś tak wrednego nie widziałam xd"
          ],
          [
           "@anonymized_account @anonymized_account Zaległości były, ale ważne czy były wezwania do zapłaty z których się klub nie wywiązał."
          ],
          [
           "@anonymized_account @anonymized_account @anonymized_account Gdzie jest @anonymized_account . Brudziński jesteś kłamcą i marnym kutasem @anonymized_account"
          ],
          [
           "@anonymized_account @anonymized_account  no mam nadzieje !!:)"
          ],
          [
           "@anonymized_account @anonymized_account Może gustował w starszych paniach ;-)"
          ],
          [
           "@anonymized_account Zostawiłam tam 3 lata temu \\\"Notatki na mankietach\\\". Muszę się wrócić."
          ],
          [
           "@anonymized_account Oprawa do Krzysia M. Ps Pinokio -\\n\\\" mogłeś być gangsterem a zostałeś 3 ligowym frajerem \\\"😀"
          ],
          [
           "@anonymized_account @anonymized_account Znowu będzie komunikat o polskich piratach drogowych w Słowacji."
          ],
          [
           "@anonymized_account Mówi człowiek, który chciał nałożyć sankcje na Polskę. Gratulacje. #Niepodlegla #11lisopada"
          ],
          [
           "RT @anonymized_account @anonymized_account Mówi człowiek, który chciał nałożyć sankcje na Polskę. Gratulacje. #Niepodlegla #11lisopada"
          ],
          [
           "@anonymized_account @anonymized_account o jakim zachowaniu \\\"fer\\\" mówisz skoro ukrywał się z tym że podpisał kontrakt z Legią ? Możesz rozwinąć ?"
          ],
          [
           "@anonymized_account @anonymized_account Joanno! Po raz pierwszy się z panią zgadzam.😁😁😁😁😁"
          ],
          [
           "Monster block, monster block, monster block... 😁"
          ],
          [
           "@anonymized_account Czyżby Madryt brał przykład z Warszawy?"
          ],
          [
           "@anonymized_account @anonymized_account No to Skończmy kurwa z tym wersalem w j...ej szczujni"
          ],
          [
           "@anonymized_account Nie wiem, najczęściej grają na zmianę na prawym skrzydle."
          ],
          [
           "@anonymized_account No to Pan i koledzy macie z głowy. Przesrane tak reszta życia pod górkę."
          ],
          [
           "@anonymized_account A ja obstawiam, że pójdą bardziej w stronę tego, że może się powtórzyć sytuacja z Meresińskim."
          ],
          [
           "Aaaaa Kuba mi odpisał hehehehehe"
          ],
          [
           "Asysta Kacpra Falona i 3:1 dla Widzewa. Witamy Widzew w II lidze. No i w sumie fajnie."
          ],
          [
           "@anonymized_account gwizdali na niego ? Bo nie oglądałem meczu :)"
          ],
          [
           "@anonymized_account @anonymized_account ale może w końcu dojdzie do wniosku że skoro go klub już nie jara to lepiej go sprzedać i mieć po kłopocie"
          ],
          [
           "@anonymized_account @anonymized_account Hej halo, o czym to jest bo mam na swojej liście i nie wiem czy warto??"
          ],
          [
           "dorosłe życie nie jest dla mnie"
          ],
          [
           "RT @anonymized_account dorosłe życie nie jest dla mnie"
          ],
          [
           "@anonymized_account Cześć Paderewski, część opalające się nogi"
          ],
          [
           "@anonymized_account @anonymized_account @anonymized_account Uprowadź gumową kaczuszkę. Zacznie negocjować."
          ],
          [
           "@anonymized_account Już wiem ze się nie dogadamy XD"
          ],
          [
           "@anonymized_account Ale to w nowym przekładzie, jeszcze nie czytałam."
          ],
          [
           "@anonymized_account Lahoza mi nigdy nie szkoda. Wolę, jak na pierwszym planie są piłkarze, a nie sędzia :-)"
          ],
          [
           "@anonymized_account @anonymized_account Sprawdź chłopie w słowniku co oznacza słowo , którego używasz a potem się odzywaj."
          ],
          [
           "@anonymized_account zmieńcie se nazwe na profilu na insta bo się nazywacie Grzegorz Ożóg..."
          ],
          [
           "#Woronicza 17 poseł Halicki oburzony za Bolka.Naprawdè taki tępy czy tylko udaje idiotę?"
          ],
          [
           "„Ta aktorka ma 20 lat?!?! Jaka stara!!” \\n\\nChyba musimy się już do grobu pakować roczniku 98 😂👌🏻"
          ],
          [
           "RT @anonymized_account „Ta aktorka ma 20 lat?!?! Jaka stara!!” \\n\\nChyba musimy się już do grobu pakować roczniku 98 😂👌🏻"
          ],
          [
           "Ahnherr der Schtwätzer wykonawcy Von Spar\\nhttps://t.co/SOtenSqIr0"
          ],
          [
           "@anonymized_account @anonymized_account @anonymized_account Bierze cie cie pod chuj a ty sie produkujesz"
          ],
          [
           "@anonymized_account @anonymized_account @anonymized_account Jak narazie to masz przywidzenia co nie zmienia faktu że cały czas jesteś idiotą."
          ],
          [
           "@anonymized_account Kiedy do licznika dojdą bilety z fan clubow?"
          ],
          [
           "@anonymized_account A kto prowadzi zespół ? Będzie podany skład z tego meczu ?"
          ],
          [
           "@anonymized_account Główny powód to brak kasy, trzeba dać bogatym 500+,300+ i być bez godności i honoru"
          ],
          [
           "Zrobiłam takie Cv że ohohohoho"
          ],
          [
           "Świętować uchwalenie Konstytucji 3 maja i łamać Konstytucję RP obecnie obowiązującą?!\\n#3Maja - dzień hipokryzji."
          ],
          [
           "RT @anonymized_account Świętować uchwalenie Konstytucji 3 maja i łamać Konstytucję RP obecnie obowiązującą?!\\n#3Maja - dzień hipokryzji."
          ],
          [
           "@anonymized_account @anonymized_account nie gra bo jest Jovanović i Guilherme"
          ],
          [
           "@anonymized_account O tej godz. sporty szanuj ciało"
          ],
          [
           "Nikt nigdy nie rozsiewał takiego smrodu jak @anonymized_account"
          ],
          [
           "Nikt cię tak dobrze nie ubierze jak matka chrzestna dziecino"
          ],
          [
           "@anonymized_account @anonymized_account Nikt tutaj nie chce plagiaciarzy kopiujących brytyjskich pisarzy."
          ],
          [
           "@anonymized_account A ksiądz co bierze 12 tyś za spowiedź przez tel?"
          ],
          [
           "@anonymized_account Koń też ma dużą głowę. Tylko wydaje mi się, że jest bardziej inteligentny niż Karczewski"
          ],
          [
           "@anonymized_account Pod i górę  pod wiatr to więcej niż k2"
          ],
          [
           "@anonymized_account Sędziowie VAR nie decydują o karnych 😉"
          ],
          [
           "Jakiś program na TVN, nauka jazdy za kierownicą babcia śpiewa \\\"jadą jadą jadą świry jadą\\\" jadą jadą jadą świry jadą\\\""
          ],
          [
           "@anonymized_account ta obecna Zary Larsson czy Pitbulla z ostatnich MŚ nie były złe :)"
          ],
          [
           "(280 znaków w jednym zdaniu 🙈)"
          ],
          [
           "@anonymized_account po wahaniach wagi Kwacha wznoszę że to może być kapuścianka"
          ],
          [
           "@anonymized_account @anonymized_account w tym sezonie razem z pucharem 12 meczy i 1 gol.Mójta więcej strzelił.Sorry patrze w statystyki."
          ],
          [
           "@anonymized_account @anonymized_account @anonymized_account finały tblk były przyzwoicie sędziowane ?! Aha..."
          ],
          [
           "@anonymized_account Taki miałam właśnie, teraz kupiłam z catrice"
          ],
          [
           "@anonymized_account to ich wymień.W czym problem ?"
          ],
          [
           "@anonymized_account @anonymized_account @anonymized_account a ja mam ciepełko jak się przytule do swoich kotów :)"
          ],
          [
           "@anonymized_account Właśnie. Ilu! Najpierw odpowiedzmy sobie ma to pytanie,a potem dziwmy się zwycięstwu Zdanowskiej"
          ],
          [
           "@anonymized_account W jego przypadku statystyka przebiegniętych kilometrów nie ma znaczenia. Czy gra zajebiście, czy fatalnie, biega tyle samo."
          ],
          [
           "@anonymized_account @anonymized_account 100%, Mann też miał pełne prawo"
          ],
          [
           "@anonymized_account Kończyłeś już kilka razy 😂"
          ],
          [
           "@anonymized_account Dzisiaj zajmujemy się WARiatem Krystyną ciekawe czy będzie płakał?"
          ],
          [
           "@anonymized_account @anonymized_account @anonymized_account @anonymized_account A co będzie jak Kuba nigdy niewroci?"
          ],
          [
           "@anonymized_account Tym w sejmie też? Banda hipokrytów i złodziei."
          ],
          [
           "W każdej z czterech grup będzie walka o zwycięstwo premiowane awansem do CLJ. Bardzo potrzebne rozwiązanie, brawo."
          ],
          [
           "@anonymized_account Tak się poznałam z moim chłopakiem 😂 czasami warto"
          ],
          [
           "@anonymized_account nelly furtado a tytuł forco czy cos takiego"
          ],
          [
           "@anonymized_account Mów prawdę, kto was skrzywdził"
          ],
          [
           "@anonymized_account jestem tu od 2013 xd"
          ],
          [
           "@anonymized_account Ta kadra to rocznik 2002"
          ],
          [
           "Posiada sensor CGM , ciągły monitoring glikemii, w końcu."
          ],
          [
           "Jeszcze żaden Polak nie wystąpił w meczu gwiazd NBA, nie licząc Mietka Paciaciaka ;) Pomóżmy Marcinowi Gortatowi być 1 @anonymized_account #NBAVOTE"
          ],
          [
           "RT @anonymized_account Jeszcze żaden Polak nie wystąpił w meczu gwiazd NBA, nie licząc Mietka Paciaciaka ;) Pomóżmy Marcinowi Gortatowi być 1…"
          ],
          [
           "@anonymized_account No kurwa myślałem że na Podlasiu"
          ],
          [
           "@anonymized_account @anonymized_account Tak, to nawet lepsze rozwiązanie."
          ],
          [
           "@anonymized_account @anonymized_account Koń by się uśmiał, TVN24 i TVN wolne media? Bardziej perfidnego łgarstwa nie słyszałem.. 🤔"
          ],
          [
           "RT @anonymized_account @anonymized_account @anonymized_account Koń by się uśmiał, TVN24 i TVN wolne media? Bardziej perfidnego łgarstwa nie słyszałem.. 🤔"
          ],
          [
           "@anonymized_account Gdzie ja wtedy byłam? ;-)"
          ],
          [
           "@anonymized_account @anonymized_account @anonymized_account Midze sie nudziło i se coś na kolanie napisał i macie sensacje"
          ],
          [
           "@anonymized_account Dzisiaj wrócił do treningów, czyli zdążyli 😉"
          ],
          [
           "@anonymized_account @anonymized_account @anonymized_account @anonymized_account Nie wiem, zerknij na 90minut"
          ],
          [
           "@anonymized_account @anonymized_account Z motłochem nie dyskutuję tylko daje bany. A Pani @anonymized_account gratuluję obrońcy."
          ],
          [
           "@anonymized_account możesz też zawsze po prostu zapytać kiedy się urodziłam. Albo wpisać hasztag #100latKasiaPawlak ;-)"
          ],
          [
           "@anonymized_account ale z kategoriami moim zdaniem przesadzają.Sponsor roku, serce, impreza ? Bez jaj"
          ],
          [
           "@anonymized_account Prezes się cieszy ze Wisla odpadła bo w razie finału Legia-Wisla znów by musiał finał odwoływać"
          ],
          [
           "Bratowa wysłała mi zdjęcie bratanicy z rozpoczęcia roku, idzie do pierwszej klasy, biedactwo nie wie co ją czeka"
          ],
          [
           "@anonymized_account szybkie pytanie do @anonymized_account Ręka Sadloka była zagraniem umyślnym ?"
          ],
          [
           "@anonymized_account Dzień w którym Abidal sprzedał i kupił A.Vidala 😉"
          ],
          [
           "@anonymized_account Równie dobrze można gola stracić :)"
          ],
          [
           "@anonymized_account Chorwaci przerżną w końcówce dogrywki, wiadomo."
          ],
          [
           "@anonymized_account Nasze dzieci będą zdegustwani, był taki PiS, taki @anonymized_account , historia populizmu i głupoty w latach 2015-2019, margines"
          ],
          [
           "@anonymized_account O, myślałam, że nikt już nie używa \\\"mnie\\\" tylko \\\"mi\\\"."
          ],
          [
           "@anonymized_account @anonymized_account @anonymized_account Na nowym stadionie West Hamu też to widziałem."
          ],
          [
           "@anonymized_account @anonymized_account zawodnik w sezonie może grać w barwach dwóch klubów więc jeszcze nic straconego :)"
          ],
          [
           "ciekawe czy faktycznie jest taki zakład bo jeśli tak to nieźle XD"
          ],
          [
           "@anonymized_account Hehe, do gazu, hehe jeszcze jakieś emotikony wrzuć"
          ],
          [
           "Qrwa!! I niech mi nikt nie mówi, że czary to jakiś zabobon!! Chłopaki mają sztywne nogi!"
          ],
          [
           "Od 01.10.2018 każde sprawozdanie finansowe w formie elektronicznej, zgodne ze strukturą jpk"
          ],
          [
           "Na TVP Kraków padła właśnie informacja że rozmowy z potencjalnym kupcem Wisły przełożony z dziś na jutro."
          ],
          [
           "RT @anonymized_account Na TVP Kraków padła właśnie informacja że rozmowy z potencjalnym kupcem Wisły przełożony z dziś na jutro."
          ],
          [
           "@anonymized_account NIECH JESZCZE DADZĄ LEKTORA I NA GŁÓWNA POSTAĆ MÓWIĄ NADZIEJA"
          ],
          [
           "RT @anonymized_account @anonymized_account NIECH JESZCZE DADZĄ LEKTORA I NA GŁÓWNA POSTAĆ MÓWIĄ NADZIEJA"
          ],
          [
           "@anonymized_account Nie no ludzie, żeby robić artykuł na temat jednego tweeta ?..."
          ],
          [
           "@anonymized_account Jak powiem, że pierwsze słysze, to będzie kompromitacja czy nie? 😄"
          ],
          [
           "@anonymized_account Usuń konto, wytrzeźwiej buduj od nowa"
          ],
          [
           "@anonymized_account @anonymized_account @anonymized_account Sekta, cha, cha, cha, obudź się z hipnozy, jesteś bolszewikiem"
          ],
          [
           "Nie wstanę kurde nie ma opcji"
          ],
          [
           "@anonymized_account @anonymized_account Spokojnie, u mnie też Kaczarawa na kapitanie + Cvijanović :)"
          ],
          [
           "niech ładny chłopiec z kręconymi włosami do mnie napisze: jutro, zaraz, teraz"
          ],
          [
           "RT @anonymized_account niech ładny chłopiec z kręconymi włosami do mnie napisze: jutro, zaraz, teraz"
          ],
          [
           "@anonymized_account im ktoś gorzej widzi, dłużej musi czekać, choć ten, który widzi lepiej, dłużej poradzi sobie bez okularów. 😨"
          ],
          [
           "@anonymized_account Oj, no to powodzenia! Co tam będziesz musiała robić? 🤭"
          ],
          [
           "@anonymized_account @anonymized_account @anonymized_account @anonymized_account Chyba nie, Marcin mówił coś o '89."
          ],
          [
           "@anonymized_account Przeczytaj mojego kolejnego twitta to zobaczysz, że nie umknęło i co sądze o poziomie tego meczu."
          ],
          [
           "@anonymized_account Tylko nie w dupę, to dla niektórych z nich byłaby przyjemność."
          ],
          [
           "@anonymized_account @anonymized_account Widać chcą wiecej polskich mord gotujacych koninę"
          ],
          [
           "@anonymized_account No to jak się przegrywa cały czas to lepiej przestać grać :)"
          ],
          [
           "@anonymized_account @anonymized_account @anonymized_account Widzę, że sami się znajdują."
          ],
          [
           "@anonymized_account Napewno mam niezaktualizowanego może dlatego"
          ],
          [
           "@anonymized_account @anonymized_account Smokowski mówił że Wisła ma piłkarzy 3 sortu, a Wieszczycki deprecjonował dobrą prace Kiko"
          ],
          [
           "więc zaczynam oglądać Do wszystkich chłopców, których kochałam bo wszyscy o tym mówią i aż chcę to sprawdzić"
          ],
          [
           "@anonymized_account Ban,ban i jeszcze raz ban! Co za prymitywne dno!"
          ],
          [
           "@anonymized_account @anonymized_account Jasne, bo debile oglądający tvpis płaczą tylko na m jak miłość"
          ],
          [
           "@anonymized_account @anonymized_account @anonymized_account W stop klatkach widać ze jak by to było po stronie drugiej (legi) to karny by był"
          ],
          [
           "Zdrady stanu to Donald Tusk dopuścił się już w 2010 r kiedy dodał Rosjanom śledztwo w sprawie katastrofy smoleńskiej."
          ],
          [
           "@anonymized_account Na marginesie jestem córką biskupa"
          ],
          [
           "@anonymized_account Przejdzie historii: jak tworzyć kłamstwo w dobie powszechnego dostępu do informacji"
          ],
          [
           "@anonymized_account Od ok 8 lat używam kolejnych modeli HTC i nigdy mnie nie zawiodły."
          ],
          [
           "@anonymized_account @anonymized_account Ty się oszuście i kłamco od nas odpierdol. My sobie damy radę bez twoich kłamstw"
          ],
          [
           "@anonymized_account @anonymized_account @anonymized_account odważne słowa jak na legioniste! 😂😂😂"
          ],
          [
           "@anonymized_account @anonymized_account Załatwi to jedno głosowanie w sejmie i żadne demonstracje nie będą miały na to wpływu."
          ],
          [
           "@anonymized_account @anonymized_account @anonymized_account Krzyż celtycki w Irlandii debilu ma kompletnie inne znaczenie niż u neofaszystów."
          ],
          [
           "@anonymized_account Coś w tym jest,bo ja też😁😁😁. I jeszcze bym dodał Dominisię W. której infantylizm mnie totalnie osłabia."
          ],
          [
           "@anonymized_account @anonymized_account Gdzie oni znajdują takich dupków"
          ],
          [
           "mój stres zaczął się stresować swoim własnym stresem, które również się stresuje ja pierdole dość"
          ],
          [
           "RT @anonymized_account mój stres zaczął się stresować swoim własnym stresem, które również się stresuje ja pierdole dość"
          ],
          [
           "@anonymized_account @anonymized_account @anonymized_account @anonymized_account @anonymized_account dojdzie Brlek, Stilić wróci do formy, obcokrajowcy się zaaklimatyzują i bedzie dobrze💪"
          ],
          [
           "@anonymized_account @anonymized_account @anonymized_account Brawo grzechu za Twój powrót do żywych\\n W Rosji pokaż swoją moc"
          ],
          [
           "@anonymized_account @anonymized_account @anonymized_account @anonymized_account Wonder!! Chyba cię....😁😁😁😁😁.No dobra. Na jaki?😁😁😁"
          ],
          [
           "@anonymized_account Ja mam uczulenie na dobrą zmianę, ale to dłuższa historiac"
          ],
          [
           "@anonymized_account Różnicy nie ma, bo pisali wtedy, że nie można zsyłać zawodników do rezerw ;P"
          ],
          [
           "@anonymized_account Żal ci biedaku??? Gdyby nie Kaczyński to by je twoi przyjaciele z PO rozkradl"
          ],
          [
           "RT @anonymized_account @anonymized_account Żal ci biedaku??? Gdyby nie Kaczyński to by je twoi przyjaciele z PO rozkradl"
          ],
          [
           "Dobry dzień na przypomnienie sobie genezy gwiazdek na fladze #UE #deklaracjaRzymska"
          ],
          [
           "Sekta kurwa, jakaś niepojęta radość, każde konto pisdzielskie tylko o jednym"
          ],
          [
           "@anonymized_account @anonymized_account Nie wierzę, bez zaświadczenia od proboszcza?"
          ],
          [
           "@anonymized_account I chyba wtedy byś niezaprzeczyla?"
          ],
          [
           "@anonymized_account Tak naprawdę czy będziemy w spadkowej czy mistrzowskiej to i tak czekają nas sparingi."
          ],
          [
           "@anonymized_account Jebać, jebać, nic się nie bać."
          ],
          [
           "@anonymized_account Jakiej pracy, ty już pajacu nie wiesz na czym się lansować. Sejm nie pracuje."
          ],
          [
           "Kilogramy rozmnażają się przez pączkowanie 😣😖\\n#TłustyCzwartek"
          ],
          [
           "@anonymized_account @anonymized_account Nie działają i lepiej działać szybko bo klienci nie maja dostępu do środków na kontach"
          ],
          [
           "@anonymized_account @anonymized_account @anonymized_account jutro walczycie ? Normalnie rycerze ! A gdzie byliście wcześniej ? A zapomniałem że nie o L chodziło"
          ],
          [
           "@anonymized_account Ale to głupie, rdzennie głupie, bardziej głupie już być nie może"
          ],
          [
           "@anonymized_account Szczególnie Vestenicky.Podczas wypożyczenia nic nie pokazał a go wykupili za 500 tys euro 😂👏"
          ],
          [
           "@anonymized_account Już się boję. Postraszy mnie Pan kolegami narodowcami?"
          ],
          [
           "@anonymized_account Co nie było blisko? Bo nie rozumiem."
          ],
          [
           "@anonymized_account @anonymized_account A od kiedy komentatorzy na Sky to wyrocznia?"
          ],
          [
           "@anonymized_account @anonymized_account Nazwisko tego babska😁😁😁😁. Bo Wczoraj był na MO😁😁😀"
          ],
          [
           "@anonymized_account Zbiera się do kontrataku, dla swojego pryncypala pójdzie w bój, patrityczna dusza,  co nie @anonymized_account ?"
          ],
          [
           "@anonymized_account a w kolejnych fajnie jakby grał na lewej za Sadloka @anonymized_account"
          ],
          [
           "@anonymized_account byłem w pracy ale zaraz odpalam meczyk na yt.Dzięki za walke !!!!:)"
          ],
          [
           "@anonymized_account @anonymized_account jakie 0 motywacji ? Jest chyba różnica mieć medal albo go niemieć"
          ],
          [
           "@anonymized_account Niby nie macie czy niby nie mit? 😂😂"
          ],
          [
           "@anonymized_account Ja bym był ostrożny😁😁😁A jak ma na imię?"
          ],
          [
           "@anonymized_account @anonymized_account @anonymized_account Tak to jest jak ktoś nie wie do którego lekarza iść najpierw."
          ],
          [
           "@anonymized_account @anonymized_account No nie dziwie się w sumie. Dobrze, że tylko raz dzwonił"
          ],
          [
           "@anonymized_account @anonymized_account Wasz świat? To się w nim zamknijcie i nie wystawiajcie nosa."
          ],
          [
           "@anonymized_account @anonymized_account Przyjaciół to niech on sobie szuka za swoje prywatne pieniądze. I niech robi z siebie idiotę na własny rachunek."
          ],
          [
           "imagine sie komus podobac??? ze ktos sie stara o TWOJA uwage??? can’t relate"
          ],
          [
           "RT @anonymized_account imagine sie komus podobac??? ze ktos sie stara o TWOJA uwage??? can’t relate"
          ],
          [
           "@anonymized_account @anonymized_account @anonymized_account a Portugalia jak zagrała ?"
          ],
          [
           "Pierwsze zdanie: \\\"Paczka papierosów kosztuje 4 miliardy marek\\\".\\n#JajoWęża teraz na @anonymized_account"
          ],
          [
           "@anonymized_account @anonymized_account No to tym bardziej :)"
          ],
          [
           "@anonymized_account Ja przynajmniej mam profilowe i nie chowam się za awatarem. Ale bohaterów MW na to nie stać i w sumie nic w tym dziwnego."
          ],
          [
           "@anonymized_account Czego się spodziewać po członku żydowskiego amerykańskiego lobby. Lata na kolanach przed żydami zrobiło swoje."
          ],
          [
           "RT @anonymized_account @anonymized_account Czego się spodziewać po członku żydowskiego amerykańskiego lobby. Lata na kolanach przed żydami zrobiło swoj…"
          ],
          [
           "@anonymized_account Co ty człowieku pijesz z rana?"
          ],
          [
           "@anonymized_account @anonymized_account pewnie narządy też wkrótce sprzeda :D"
          ],
          [
           "@anonymized_account w zeszłym sezonie to samo pisałeś ?"
          ],
          [
           "Picie to przyszłość, piękna i nieznana, szukajcie zapomnienia, próbujcie różnych trunków, łączcie środki psychoaktywne, powodzenia"
          ],
          [
           "@anonymized_account Ale ty jesteś żenujący. Dno metr mułu."
          ],
          [
           "@anonymized_account spoko, nigdy nie daje unfollow aktywnym ludziom, tylko tym, którzy nie piszą nic od miesięcy albo dali mi unfollow"
          ],
          [
           "\\\"- Co to jest tajmlajn na fejsie?\\n- Zmarszczki\\\"."
          ],
          [
           "@anonymized_account może trzeba chłopaków na crossfit zabierać ?:)"
          ],
          [
           "@anonymized_account znacznie bliżej jest mi muzułmanin  czy indus, niż katolicka, łysa swołocz ze wschodu europy, do tego rasistowska"
          ],
          [
           "Dzisiaj o 18.00 Strefa Kibica w Radiu Akadera. Zapraszamy."
          ],
          [
           "@anonymized_account Nie powinno być źle o ile się utrzymamy :P"
          ],
          [
           "@anonymized_account Spokojnie trzeba ta porażkę wziąść na klatę mecz się tak ułożył nie inaczej napewno gorsi dużo my niebyli."
          ],
          [
           "@anonymized_account Ale się cieszą. Wreszcie koniec i będzie można wypić te.zapasy z plecaka."
          ],
          [
           "@anonymized_account @anonymized_account Ofertę przedłużenis kontraktu ponoć dostał od Wisły, ale jej nie zaakceptował."
          ],
          [
           "Dziś o godz. 20:00 Prezydent RP wygłosi orędzie."
          ],
          [
           "RT @anonymized_account Dziś o godz. 20:00 Prezydent RP wygłosi orędzie."
          ],
          [
           "@anonymized_account myślałem że się przychodzi na stadion dla drużyny a nie na poszczególnych piłkarzy"
          ],
          [
           "@anonymized_account kibicom chodzi raczej o postawe dziennikarzy a nie klubu."
          ],
          [
           "@anonymized_account @anonymized_account Nie trzeba Algierczyków, wystarczy kilku polskich katechetów."
          ],
          [
           "@anonymized_account Barcelona z Messim (ta obecna) by taki mecz wygrała 1:0, albo jakiś Suarez by coś wcisnął :P"
          ],
          [
           "@anonymized_account @anonymized_account TW Wolfgang, TW Faraon i TW Rycerz,TW Balbina, TW Michał \\nKto mieczem wojuje, ten od pochwy ginie"
          ],
          [
           "@anonymized_account @anonymized_account Zgadza się ale przecież nas niestac żeby komin płacowy zacząć od.carlitosa"
          ],
          [
           "@anonymized_account @anonymized_account @anonymized_account Low kick, kolano łokieć, blacha na czoło i stara leży"
          ],
          [
           "@anonymized_account Niestety obrazki będą też zielone, czarne i brunatne."
          ],
          [
           "Ktoś założył fejkowe konto i ogląda WSZYSTKIE moje story"
          ],
          [
           "@anonymized_account @anonymized_account Życie, zdarza się. Jednak od takiego rzutu wolnego do gola droga dość daleka."
          ],
          [
           "@anonymized_account a wydanie 500 tys euro gdy się nie ma pieniędzy nie jest strzałem w kolano ?"
          ],
          [
           "@anonymized_account Wio endekdu, ścierwa, zdrajcy, szubienica"
          ],
          [
           "@anonymized_account nie dziwie się, to było dość cwane :)"
          ],
          [
           "@anonymized_account Raczey! Jutro będzie jej odczytywane przez cały dzień ;-)"
          ],
          [
           "@anonymized_account Kto będzie pił te mleko, gdzie będą jeździły tiry, meble, okna ty maly kogucie"
          ],
          [
           "@anonymized_account @anonymized_account @anonymized_account @anonymized_account Nie myli się tylko ten, co nic nie robi."
          ],
          [
           "Mama będzie mi obcinać włosy boje się"
          ],
          [
           "@anonymized_account @anonymized_account @anonymized_account @anonymized_account No to muszą ci nieźle płacić za wierszówki."
          ],
          [
           "@anonymized_account czy masz info jakie obecnie Ondrasek ma zarobki w Wiśle?"
          ],
          [
           "@anonymized_account Jaka kwota wykupienia go po roku??"
          ],
          [
           "@anonymized_account @anonymized_account @anonymized_account Dla kogo pracował? Nie przy śniadaniu bo się udławić można z wrażenia. Poproszę 5 przykładów zatem."
          ],
          [
           "@anonymized_account @anonymized_account @anonymized_account Widzę, że dalej nie rozumiesz. No nic idę oglądać LM. Pozdro."
          ],
          [
           "@anonymized_account @anonymized_account jeśli masz TV włączony od 8:00 do 1:00, a reklama pojawia się 3 x na godzinę, po 2 mies. jesteś na granicy obłędu."
          ],
          [
           "@anonymized_account @anonymized_account A co o włoskich faszystach i węgierskich nacjonalistach?"
          ],
          [
           "@anonymized_account @anonymized_account Dojenie kasy przez rząd\\nKompromitacja Morawieckiego w Niemczech\\nKaczyński twórca państwa Polskiego w 2016 roku"
          ],
          [
           "@anonymized_account Jeszcze w nastepnej kolejce pewnie jakis piątek"
          ],
          [
           "@anonymized_account @anonymized_account i oczywiście było pytanie czy nie boi się o przyszłość Wisły 😂 przechodzicie samych siebie"
          ],
          [
           "@anonymized_account no ja właśnie to samoXD znaczy wiem ze Emre wbija często, bo jego żona jest polką ale no"
          ],
          [
           "@anonymized_account Nic nie mogą. Ale ich brak może spowodować, że strajkujący szybciej się z Sejmu wyniosą."
          ],
          [
           "@anonymized_account @anonymized_account @anonymized_account Przecież jak go zamkną to o czym ty będziesz pisał ? Twoje życie straci sens..."
          ],
          [
           "@anonymized_account @anonymized_account To zaraz porobie screeny od momentu od którego jest zablokowane :)"
          ],
          [
           "@anonymized_account Ktoś przestał słodzić, ktoś kto dużo słodził"
          ],
          [
           "@anonymized_account @anonymized_account @anonymized_account No to po co się zgodził na klauzule dopiero po zakończeniu przyszłego sezonu, a nie od razu ?"
          ],
          [
           "@anonymized_account Jest to prawda. Ale MSZ powinien. On pewnie myślał, że jest w Pisowskiej Polsce i wszystkoi wolno.😀😀😀"
          ],
          [
           "@anonymized_account delikatnie nie po drodze :D"
          ],
          [
           "@anonymized_account @anonymized_account No to 0:0 murowane (bo mam też ludzi z Cracovii)"
          ],
          [
           "@anonymized_account Może ogłuszyły go te korki od szampanów, które strzelały po podpisaniu kontraktu Sadloka z Jagiellonią ?"
          ],
          [
           "Panie i panowie, totalna porażka @anonymized_account w miastach. \\nT O T A L N A \\nTo bardzo ważny znak."
          ],
          [
           "RT @anonymized_account Panie i panowie, totalna porażka @anonymized_account w miastach. \\nT O T A L N A \\nTo bardzo ważny znak."
          ],
          [
           "@anonymized_account @anonymized_account @anonymized_account @anonymized_account ręce opadaj że takich rzeczy ludzie związani z futsalem nie wiedzą."
          ],
          [
           "@anonymized_account @anonymized_account Przeczytałem wszystko. Fantastycznego ma Pani Dziadka!"
          ],
          [
           "@anonymized_account Na wszystko masz odpowiedź, żyłeś w tych czasach?"
          ],
          [
           "@anonymized_account @anonymized_account Mr. Czarnecki. To nie hipokryzja tylko zwykła ludzka przyzwoitość. Widać że niektórym obce takie  odruchy."
          ],
          [
           "Diego Maradona - Robbie Williams 2:1."
          ],
          [
           "@anonymized_account @anonymized_account @anonymized_account Ja nie byłbym taki pewny"
          ],
          [
           "@anonymized_account patrząc kogo biorą to mam wątpliwości czy nie chcą do 1 ligi (nie licząc Marciniaka)"
          ],
          [
           "@anonymized_account To było dawno, jeszcze nie znali fotoszopa"
          ],
          [
           "@anonymized_account @anonymized_account Maly murzyn, silny i zdrowy"
          ],
          [
           ".@anonymized_account pojawił się na TT. To konto to nie fejk. \\nDołączajcie :) 💪"
          ],
          [
           "RT @anonymized_account .@anonymized_account pojawił się na TT. To konto to nie fejk. \\nDołączajcie :) 💪"
          ],
          [
           "W programie Igrzyska wolności w Łodzi śpiewanie pieśni rewolucyjnych,i piosenek z serialu,4 pancerni i pies."
          ],
          [
           "@anonymized_account no i w końcu widzę uśmiech :)"
          ],
          [
           "@anonymized_account Jeszcze was zjemy i wysramy"
          ],
          [
           "@anonymized_account lepszy argument to że ktoś go nie chce bo go nie lubi"
          ],
          [
           "@anonymized_account @anonymized_account Tylko że ten prostak sie nabijał, szydził tak jak ze śmierci Piotra S."
          ],
          [
           "@anonymized_account Qwa! Wypiłem kawę przed chwilą.Bardzo dobra kawę.Nie chcę jej zwracać. A swoją drogą to świetny środek na wywołanie wymiotów."
          ],
          [
           "Wchodzę w powiadomienia a tu nic, już na 4 tt odpisałem, zaraz wyjebią bana"
          ],
          [
           "@anonymized_account nataliethere_ oddam szybciutko z powiadomień"
          ],
          [
           "@anonymized_account Tak tak jeszcze ktoś w to uwierzy"
          ],
          [
           "@anonymized_account @anonymized_account @anonymized_account Tez musze trzymać poziomo tel czytając ten artykuł"
          ],
          [
           "@anonymized_account @anonymized_account @anonymized_account Czasy kiedy zacząłem interesować się piłką i Wisłą 😍"
          ],
          [
           "@anonymized_account Wy narobiliscie 30miliardow dlugow za waszych rzadow #oddajciekase"
          ],
          [
           "RT @anonymized_account @anonymized_account Wy narobiliscie 30miliardow dlugow za waszych rzadow #oddajciekase"
          ],
          [
           "@anonymized_account Czy @anonymized_account gotów na taką kolej rzeczy?"
          ],
          [
           "@anonymized_account Tak jak pisdzielstwo ośmiesza policjantów , to już, nikt, nigdy bardziej nie będzie"
          ],
          [
           "@anonymized_account A kiedy przestanie wydawać mln na swoich ochroniarzy, tylko zacznie leczyć u psychiatry swoją manię prześladowczą?"
          ],
          [
           "@anonymized_account Pierwszy priorytet zadowolić Jarkacza, drugi priorytet ssać kasę wszystkimi otworami,  mają rozdwojenie jaźni"
          ],
          [
           "@anonymized_account Huj z wami dziennikarzami. Piłka nożna dla kibiców a nie pseudo dziennikarzy."
          ],
          [
           "@anonymized_account E tam! To z miłości do Łodzi😁. I przyjdzie do PiS😁😁"
          ],
          [
           "@anonymized_account A ja, ze coś znowu zepsułam xd"
          ],
          [
           "Czemu jak zawsze się o kogoś martwię to ja dostaje po dupie, i mean nie wiem"
          ],
          [
           "@anonymized_account kiedy wyjeżdżasz? ja w piątek, co prawda już drugi rok ale moja rodzina nadal reaguje tak samo"
          ],
          [
           "@anonymized_account @anonymized_account @anonymized_account Ograniczyłbym to do \\\"Byle nie Ufa\\\" :)"
          ],
          [
           "@anonymized_account @anonymized_account Święta racja, ale zapytaj Jurgiela o notatki, on wie co spierdolił. Będzie łatwiej."
          ],
          [
           "@anonymized_account @anonymized_account Szczególnie wielka strata za Smoleńsk"
          ],
          [
           "@anonymized_account @anonymized_account @anonymized_account @anonymized_account daj znać @anonymized_account o  zdjecie blokady"
          ],
          [
           "@anonymized_account @anonymized_account Myślę, że po info o konferencji wielu osobom to przychodzi do głowy."
          ],
          [
           "@anonymized_account Koniecznie! Zapraszamy na spacer z kawką 😃"
          ],
          [
           "@anonymized_account błąd logiczny, te pieniądze kiedyś były wasze, teraz już sa nasze i nic wam do tego towarzyszu"
          ],
          [
           "RT @anonymized_account @anonymized_account błąd logiczny, te pieniądze kiedyś były wasze, teraz już sa nasze i nic wam do tego towarzyszu"
          ],
          [
           "@anonymized_account Zależy jak na to spojrzeć. Z jednej strony akredytacja, z drugiej wyjazd za swoje $$$ 😉"
          ],
          [
           "@anonymized_account @anonymized_account albo wygrywali 1:0 z Barceloną"
          ],
          [
           "@anonymized_account @anonymized_account tylko nie Załuska.Nie potrzeba nam takich piłkarzy bez ambicji."
          ],
          [
           "@anonymized_account @anonymized_account Nic specjalnego. Można się domyślać, że pewnie pójdzie na wypożyczenie."
          ],
          [
           "Z Zagłębia Hładun i Czerwiński w składzie (porażka 1:2), a z Legii Carlitos na kapitanie (zmiana w przerwie). Co za seria 😂"
          ],
          [
           "@anonymized_account co chwile o nim piszecie i gadacie jaka to porażka jak nie zostanie.A nie pamiętacie jak jeszcze niedawno otrzymanie licencji1/2"
          ],
          [
           "@anonymized_account @anonymized_account Przecież TS dzierżawi ta ziemię umowa na 99 lat zgadza się czy nie?"
          ],
          [
           "@anonymized_account Pyta się kiedy beda nowe okulary, bo juz chce wychodzić"
          ],
          [
           "@anonymized_account Probierz szuka młodych Polaków pasuje jak ulał😉"
          ],
          [
           "@anonymized_account Może pasuje do klucza francuskiego?🔧☺"
          ],
          [
           "Pensja, kasa, dojenie, @anonymized_account ,ssanie kasy, ruchanie w meskie dupy, zawsze za pis, trudny teren, ciezkie warunki"
          ],
          [
           "@anonymized_account Polska to nie napis na dropsie, uuuu, niedobrze, uuuuuuu"
          ],
          [
           "@anonymized_account raczej ty się powinieneś jebnąć ale nie wiem czy to pomoże"
          ],
          [
           "@anonymized_account Jak narazie to sobie możecie kupę zrobić. Albo hurtowo dać dupy pedofilów w sutannach, których publicznie bronicie."
          ],
          [
           "@anonymized_account Najlepiej w Polsce żeby legia miała pomoc :-)"
          ],
          [
           "Ale mam chujowy humor przez to, że nie zdałam i jestem na siebie zła"
          ],
          [
           "Szukam osób, które mają kontakt z rodziną gen. Bułak-Bałachowicza. Sprawa  prywatna."
          ],
          [
           "@anonymized_account Brawo skwk za komunikat pomimo braku zakazu czekałem na ta wiadomość co robić, bo na mecz bez dopingu niemyslalem iść"
          ],
          [
           "@anonymized_account @anonymized_account A ty wieś kretynie CONTI jest Acta2 i czego dotyczy? Najpierw przeczytaj a potem się wypowiadaj."
          ],
          [
           "@anonymized_account Trąba ? Nie no ostro pojechałaś :D"
          ],
          [
           "Beata #Mazurek w Sejmie na pytanie co myśli o pomyśle Kaczyńskiego o obniżkach wynagrodzeń: \\\"Ja nic nie myślę\\\". To słychać."
          ],
          [
           "RT @anonymized_account Beata #Mazurek w Sejmie na pytanie co myśli o pomyśle Kaczyńskiego o obniżkach wynagrodzeń: \\\"Ja nic nie myślę\\\". To słyc…"
          ],
          [
           "Motocykle opuściły gniazda i kierują się na północ. Żonkile na przedmieściach to już tylko formalność. Wiosna! :-)"
          ],
          [
           "@anonymized_account @anonymized_account 🕵 Jest tak zakonspirowany, że go nie widać. Fachowiec. \\n(Górny, prawy róg)"
          ],
          [
           "@anonymized_account Kto mieczem wojuje od pochwy ginie @anonymized_account"
          ],
          [
           "@anonymized_account W jednej z powtórek było to dobrze widać :))"
          ],
          [
           "@anonymized_account Kochana nie ma po co bo później wszyscy się będą po to kleić 😂😂"
          ],
          [
           "@anonymized_account @anonymized_account chyba nie miałeś się czego przyczepić, nie przesadzajmy :)"
          ],
          [
           "@anonymized_account @anonymized_account Ale dlaczego głupi @anonymized_account  tłumaczy to jeszcze głupszemu @anonymized_account ?"
          ],
          [
           "@anonymized_account Dzwoniłam się dowiadywać kiedy się można wprowadzać 😂nie wiedziałam ze takie problemy mogą być xd"
          ],
          [
           "@anonymized_account Już pod koniec jazdy wymusilam na rondzie.... nie wiem jak to się stało, mój mózg miał zaćmienie czy coś a"
          ],
          [
           "Nowe chodnikowe powiedzonko brzmi:\\n\\nPierdolisz jak Morawiecki, realy.\\n\\n@anonymized_account @anonymized_account \\n\\nHybryda głupoty."
          ],
          [
           "RT @anonymized_account Nowe chodnikowe powiedzonko brzmi:\\n\\nPierdolisz jak Morawiecki, realy.\\n\\n@anonymized_account @anonymized_account \\n\\nHybryda głupoty."
          ],
          [
           "Terminator X To The Edge Of Panic wykonawcy Public Enemy\\nhttps://t.co/Nqf1yFOyKg"
          ],
          [
           "@anonymized_account Zaspana jestem jeszcze sorki XD"
          ],
          [
           "@anonymized_account @anonymized_account No ja nie kojarze xD"
          ],
          [
           "@anonymized_account Pies to czasem nawet pożera książki..."
          ],
          [
           "Kiedy Christina wychodzi za mąż"
          ],
          [
           "@anonymized_account @anonymized_account Zapewne ci, co grali przez większość rundy w CLJ i nie ponieśli ani jednej porażki."
          ],
          [
           "@anonymized_account @anonymized_account Jak będzie ta pioseneczka to przychodzę\\n\\nhttps://t.co/B6ak11mI4d"
          ],
          [
           "@anonymized_account zamieszczanie takich zdjęć podczas gdy ja jestem na sucharach powinno być zabronione :)"
          ],
          [
           "@anonymized_account @anonymized_account @anonymized_account A co trzeba zrobić w kwestii finansowania kampanii z funduszy UE przez Ziobrę?"
          ],
          [
           "@anonymized_account W środku łamanie w stylu 2obiegu."
          ],
          [
           "jak ja się źle czulem jak byłem dzieckiem w  kościele to głow mala, szopka do kwadratu, nie mogłem tego wytrzymać"
          ],
          [
           "@anonymized_account @anonymized_account @anonymized_account @anonymized_account jak wróce z pracy to też podejme wyzwanie ale tym razem bedzie skromnie :)"
          ],
          [
           "@anonymized_account @anonymized_account @anonymized_account Jak pić to z klasą ;)"
          ],
          [
           "@anonymized_account @anonymized_account Ty pajacu, zmień sobie herb na pusty łeb."
          ],
          [
           "@anonymized_account W rosji sa jakieś zawody"
          ],
          [
           "@anonymized_account @anonymized_account Myślałem że to Twój ulubieniec 😂"
          ],
          [
           "@anonymized_account @anonymized_account pewnie ranking Fifa bedzie decydowal"
          ],
          [
           "@anonymized_account Łukaszewicz, co Wy tam palicie?"
          ],
          [
           "@anonymized_account @anonymized_account @anonymized_account Leszku mój kochany, masz mózg wyprany"
          ],
          [
           "@anonymized_account a ja współczuje zaślepienia.Wolę nie mieć Wolskiego niż robić kolejne długi @anonymized_account"
          ],
          [
           "@anonymized_account @anonymized_account @anonymized_account od paru lat słysze o sponsorze więc tym bardziej szacunek że przez pare lat się nieujawnił..."
          ],
          [
           "@anonymized_account Skoro Carrillo nie chce Sobola to tym bardziej nie będzie chciał Głowy. Chyba, że trener rzeczywiście odchodzi."
          ],
          [
           "@anonymized_account @anonymized_account @anonymized_account Zawsze bedą afery bo zawsze będa tacy l którzy kradną  i tacy u wladzy których to kręci"
          ],
          [
           "@anonymized_account kot też się załapał na fotke, a raczej jego dupa :)"
          ],
          [
           "@anonymized_account Szczerze? Trochę tak to wygląda, a i tak prędzej czy później ten bilans wychodzi na równo."
          ],
          [
           "@anonymized_account zaraz będą pisać że Wisła szkoli kiboli żeby potrafili maczetą wymachiwać :)"
          ],
          [
           "*stoi przed nimi król gargulców*\\nbetty: to pewnie ethel\\n\\nXDDDDDDDDDDDDDD\\n#Riverdale #RiverdalePL"
          ],
          [
           "RT @anonymized_account *stoi przed nimi król gargulców*\\nbetty: to pewnie ethel\\n\\nXDDDDDDDDDDDDDD\\n#Riverdale #RiverdalePL"
          ],
          [
           "@anonymized_account No, to ja we własnej osobie"
          ],
          [
           "@anonymized_account Słabo trzymałeś kciuki, bo podarował bramke Cracovii :)"
          ],
          [
           "@anonymized_account Odstawiając narodowość na bok to ten skład jest przecież słabiutki."
          ],
          [
           "@anonymized_account @anonymized_account Piwnica bez okien, ty to masz dobrze"
          ],
          [
           "Czuję się chora więc siedzę w domu w czapce"
          ],
          [
           "@anonymized_account Juz myslałem że coś gorszego😁😁"
          ],
          [
           "@anonymized_account @anonymized_account A gdzie Inferno napisał, że Wisła stawia na Polaków ?"
          ],
          [
           "@anonymized_account akurat Tobie bliżej do Karolaka bo w większości Cię wycięli 😂 @anonymized_account @anonymized_account @anonymized_account @anonymized_account"
          ],
          [
           "@anonymized_account Omg właśnie o nich myślałam"
          ],
          [
           "@anonymized_account Tak na pewno nie będzie. Drużyna leci w środę."
          ],
          [
           "Cudzysłów, przecinek nie jestem ruskim trollem"
          ],
          [
           "Biorąc pod uwagę, jakie dotąd mieliśmy losowania w Lidze Europy, to na ten finał w Baku w 2019 roku nie jesteśmy bez szans. 😁"
          ],
          [
           "@anonymized_account @anonymized_account Fajnie, teraz zamiast przemowy muzyczka żeby nie było słychać odzewu publiki."
          ],
          [
           "@anonymized_account @anonymized_account Białystok, ulica Wierzbowa. Jak oni to zrobili, to jest zagadka."
          ],
          [
           "@anonymized_account Straszny gangster jak po wolności chodzi"
          ],
          [
           "@anonymized_account To się nazywa uzależnienie xD"
          ],
          [
           "@anonymized_account Info z ostatniej chwili barwy pogoni skrojone przez bandytów Z Krakowa.  Pomimo zakazu Wisła rządzi"
          ],
          [
           "@anonymized_account @anonymized_account Pewnie tak bo Buchalik kontuzjowany."
          ],
          [
           "@anonymized_account to miało jakiś ciąg dalszy? 😉"
          ],
          [
           "vans do chuja przestań robić choć na chwilę zajebiste kolekcje bo w moim portfelu pieniądzen't"
          ],
          [
           "RT @anonymized_account vans do chuja przestań robić choć na chwilę zajebiste kolekcje bo w moim portfelu pieniądzen't"
          ],
          [
           "@anonymized_account @anonymized_account @anonymized_account @anonymized_account 12 mld nie mam zamiaru dyskutowa możejki i skoki"
          ],
          [
           "@anonymized_account @anonymized_account Alves był bardzo w stylu Guardioli 😛"
          ],
          [
           "@anonymized_account Co ty żresz, że ci tak pierdolnęło?"
          ],
          [
           "@anonymized_account Bo w \\\"10\\\" już grają przez Boatenga ;)"
          ],
          [
           "@anonymized_account @anonymized_account Trudno być pewnym, gdy stoperzy mogą zagrać tylko lagę do przodu, bo środka nie mamy."
          ],
          [
           "@anonymized_account @anonymized_account @anonymized_account No właśnie, nie było i dlatego patologia została stosownie potraktowana."
          ],
          [
           "@anonymized_account skoro jest dno dna to może skupmy się na tych od których coś wymagamy"
          ],
          [
           "@anonymized_account Widocznie to zbyt trudna miłość na Walentynki 😁"
          ],
          [
           "@anonymized_account Sarapata była w solarium ?"
          ],
          [
           "@anonymized_account Woda chyba zimna bo nikogo w wodzie ;-)"
          ],
          [
           "@anonymized_account ej, dobra, weźmie ten chrzest czy nie? xd"
          ],
          [
           "@anonymized_account @anonymized_account Lub bezpośredni awans, bo nie wiadomo co ze Stomilem, a przede wszystkim Bytovią :)"
          ],
          [
           "@anonymized_account @anonymized_account byłam przy tym, więc zapewniam 😉"
          ],
          [
           "@anonymized_account @anonymized_account @anonymized_account Tylko ty masz problem z rzecznikiem, więc zastanów się w kim tak naprawdę jest problem? 🤔"
          ],
          [
           "@anonymized_account Piątek  też powinien być wolny, ina 100%"
          ],
          [
           "Wassermannówna kłamie, mówiąc, że „przyszła do polityki”. Ona przyjechała na trumnie ojca."
          ],
          [
           "RT @anonymized_account Wassermannówna kłamie, mówiąc, że „przyszła do polityki”. Ona przyjechała na trumnie ojca."
          ],
          [
           "@anonymized_account Już dwa lata temu powinni wygrac Euro."
          ],
          [
           "@anonymized_account Kibice innych drużyn doceniają i trochę zazdroszczą :)"
          ],
          [
           "@anonymized_account @anonymized_account na 100% jest zmiana Śląsk - Jaga i chyba została już potwierdzona."
          ],
          [
           "@anonymized_account W tym czasie był z rodzinką na wakacjach w Gdańsku Brzeźnie to musiał zdalnie podtrzymywać związek"
          ],
          [
           "jak Patryk Jaki wygra wybory w Warszawie oczyści stolicę z byłych UBECKICH funkcjonariuszy ! #woronicza17"
          ],
          [
           "RT @anonymized_account jak Patryk Jaki wygra wybory w Warszawie oczyści stolicę z byłych UBECKICH funkcjonariuszy ! #woronicza17"
          ],
          [
           "Szkoda, że przez wymysły Mendesa taki Ruben Neves się marnuje w Wolverhampton."
          ],
          [
           "@anonymized_account @anonymized_account Nie wiem, aczkolwiek jego tata mówił, że widziałby Tomasa w Jagiellonii. 😜"
          ],
          [
           "Ja i moje psiapsi gramy w te gry na snapie i nie mogę przestać się śmiać z naszych min XD"
          ],
          [
           "@anonymized_account Kolar niestety ten sam poziom. Chyba trzeba będzie liczyć na skuteczność Boguskiego i Małeckiego..."
          ],
          [
           "Rząd zaostrzy kary za znęcanie się nad zwierzętami. Od 3-5 lat więzienia; obowiązkowa nawiązka do 100 tys zł. Więcej jutro w @anonymized_account"
          ],
          [
           "RT @anonymized_account Rząd zaostrzy kary za znęcanie się nad zwierzętami. Od 3-5 lat więzienia; obowiązkowa nawiązka do 100 tys zł. Więcej jutro w @anonymized_account"
          ],
          [
           "@anonymized_account @anonymized_account @anonymized_account czuje że Brlek prędzej czy później odpali"
          ],
          [
           "@anonymized_account @anonymized_account To, że figurowal jako zawodnik Man City nie znaczy, że będzie potrafił grać."
          ],
          [
           "@anonymized_account @anonymized_account Oczywiście, że ma rację. Chodzi tylko o to, że to jest drużyna o klasę lub dwie lepsza."
          ],
          [
           "@anonymized_account @anonymized_account Nie miał prawa stać za linią, tak prawdę mówiąc 😄 Ale w kamerach to bardzo ładnie wyglądało."
          ],
          [
           "@anonymized_account @anonymized_account @anonymized_account Ty to robisz przede wszystkim, co widać po pierwszym tweecie."
          ],
          [
           "Ostatnio czuje się tak samotna i smutna ze aż sama się dziwie"
          ],
          [
           "@anonymized_account Przecież to legionista to komu ma życzyć mistrza.Nie wiedziałeś ?"
          ],
          [
           "@anonymized_account @anonymized_account @anonymized_account dobrze by mu to zrobiło.Za słaby na Wisłe."
          ],
          [
           "@anonymized_account Hehehehehe. Róża nawet niezła była.I co z niej wyrosło!😁😁😁"
          ],
          [
           "@anonymized_account jedni wynajmują agencje do komentarzy a inni dziennikarzy"
          ],
          [
           "RT @anonymized_account @anonymized_account jedni wynajmują agencje do komentarzy a inni dziennikarzy"
          ],
          [
           "@anonymized_account pewnie jest mniej błędów bo i liczb jest mniej bo zrezygnowali ze statystyk zawodników sezon po sezonie ;)"
          ],
          [
           "@anonymized_account Krzyż przeciw prezydenturze, krzyż obłędu"
          ],
          [
           "@anonymized_account @anonymized_account Sorry ale dzisiaj nie ma opozycji. Jest grupa cwaniaków chcących odzyskać stołki."
          ],
          [
           "na kijowe życie najlepsza wódeczka"
          ],
          [
           "Co na to Herod śmierdziuszka @anonymized_account"
          ],
          [
           "@anonymized_account Brakuje mu dystansu, za bardzo się egzaltuje, a jałowe szyderstwa już mi się przejadły"
          ],
          [
           "@anonymized_account Wisła chyba ważniejsza od jakiejś Delle Donne :)"
          ],
          [
           "@anonymized_account Nawet jeśli to fejk, to zgodnie z powiedzeniem -w każdej plotce jest ziarnko prawdy. Z tym że w tym przypadku raczej ziarno😁😁"
          ],
          [
           "@anonymized_account Tez wczoraj byłam na randce która trwała cały dzień Xd"
          ],
          [
           "@anonymized_account A kierowca autobusu wstał i zaczął klaskać ?"
          ],
          [
           "@anonymized_account @anonymized_account Jak by nie było, aby było miło, teraz sie cieszysz"
          ],
          [
           "@anonymized_account No to może warto, najwyżej Cię oleje, co jest oczywiście nie do przyjęcia 😂 kto nie ryzykuje ten nie pije szampana kochana!"
          ],
          [
           "@anonymized_account @anonymized_account Trzymali się za ręce, waleczni i sprawiedliwi"
          ],
          [
           "Dudelange niby takie cwaniaki, a ciekawe czy byliby tacy mądrzy w dwuboju rzut młotem-skoki narciarskie"
          ],
          [
           "RT @anonymized_account Dudelange niby takie cwaniaki, a ciekawe czy byliby tacy mądrzy w dwuboju rzut młotem-skoki narciarskie"
          ],
          [
           "@anonymized_account @anonymized_account @anonymized_account głównie @anonymized_account który często o tym wspomina"
          ],
          [
           "Kto się jeszcze zaczepia na fejsie...."
          ],
          [
           "@anonymized_account @anonymized_account Z tymi wizjami to może być problem. Proponuję sprawdzić po czym te wizję są"
          ],
          [
           "@anonymized_account Jaki hejt.Hejt to jest na Tuska, Komorowskiego, przecież to nie Polacy, śmierć wrogom ojczyzny. Obudź się"
          ],
          [
           "Czy Antek już ogłosił, że na lewym skrzydle naszej obrony był wybuch?"
          ],
          [
           "RT @anonymized_account Czy Antek już ogłosił, że na lewym skrzydle naszej obrony był wybuch?"
          ],
          [
           "@anonymized_account jest to dobra informacja dla tych co okradali  Polskę od 89  roku  Irlandia da im wolność"
          ],
          [
           "RT @anonymized_account @anonymized_account jest to dobra informacja dla tych co okradali  Polskę od 89  roku  Irlandia da im wolność"
          ],
          [
           "Ale przecież #Polexit jest dobry. Założycie koszulki z orłem i będziecie żryć ziemniaki i wungiel 😇"
          ],
          [
           "RT @anonymized_account Ale przecież #Polexit jest dobry. Założycie koszulki z orłem i będziecie żryć ziemniaki i wungiel 😇"
          ],
          [
           "@anonymized_account @anonymized_account @anonymized_account @anonymized_account Wywalił Ronaldo w Superpucharze :)"
          ],
          [
           "@anonymized_account @anonymized_account Bo sama jest niepełnosprawna... Umysłowo.😁😁"
          ],
          [
           "Halo Kraków, kogo byście uznali za gwiazdę/najważniejszego zawodnika obecnej Wisły? 😉"
          ],
          [
           "@anonymized_account @anonymized_account Ssą wszystkimi otworami z krwi biało czerwonej"
          ],
          [
           "@anonymized_account Wy się zjednoczyliście z faszystami z połowy Europy. Kpromitacja level hard."
          ],
          [
           "@anonymized_account @anonymized_account @anonymized_account Znowu on ? 😂 to przy okazji niech się odniesie do słów Sarary 😂"
          ],
          [
           "@anonymized_account Dotarlas do orełka?😁😁 W tym roku niestety tyłko jeden😞😞"
          ],
          [
           "@anonymized_account @anonymized_account Mam rozumieć, że to mapa nasycenia krajów zboczeńcami w sutannach."
          ],
          [
           "@anonymized_account @anonymized_account @anonymized_account A Panu nie brakuje czasem art. 87 pkt1?"
          ],
          [
           "@anonymized_account Czy to oknoplus ladowal kiedyś"
          ],
          [
           "@anonymized_account @anonymized_account 5 punktów na 21 w rundzie finałowej..."
          ],
          [
           ".@anonymized_account @anonymized_account Będziemy realizować przekop Mierzei Wiślanej \\n#wieszwiecej  \\nhttps://t.co/zuCXxG1GUr"
          ],
          [
           "RT @anonymized_account .@anonymized_account @anonymized_account Będziemy realizować przekop Mierzei Wiślanej \\n#wieszwiecej  \\nhttps://t.co/zuCXxG1GUr"
          ],
          [
           "@anonymized_account Bolek wyluzuj bo jesteś sercowy."
          ],
          [
           "@anonymized_account Śmiej się  śmiej. To wcale nie jest śmieszne."
          ],
          [
           "I hope that autumn will heal me"
          ],
          [
           "Jutro po marszu, ale jeszcze kilka dni beda chodzić naćpani"
          ],
          [
           "@anonymized_account Nie ma jak lans nierobie za pieniądze podatników."
          ],
          [
           "@anonymized_account A to ja przepraszam, nie miałam wczoraj czasu na TT 😎"
          ],
          [
           "11 tysięcy miejsc zajętych, dzisiaj prawie 2000 biletów sprzedanych. Z tej okazji za chwilę nagroda 😁"
          ],
          [
           "@anonymized_account @anonymized_account To ja chyba tylko kolory porównywałem"
          ],
          [
           "Ej słuchajcie co zajebistego wymyśliłam \\n\\nJaki jest najlepszy argument bonnie z pamiętników wampirów? \\n\\nBo nnie"
          ],
          [
           "RT @anonymized_account Ej słuchajcie co zajebistego wymyśliłam \\n\\nJaki jest najlepszy argument bonnie z pamiętników wampirów? \\n\\nBo nnie"
          ],
          [
           "@anonymized_account Im więcej problemów w państwie tym więcej niewykonanych wyroków"
          ],
          [
           "Widziałam śliczną sukienkę ale nie było mniejszego rozmiaru niż 36 i była za duża danmm"
          ],
          [
           "@anonymized_account @anonymized_account Polskę to kompromitują tacy jak ty. Oszołomie."
          ],
          [
           "@anonymized_account 😁😁😁😁😁😁😁😁 @anonymized_account teraz to mnie Pani ubawiła tym paskiem. A widziała Pani swoją szyję?"
          ],
          [
           "@anonymized_account @anonymized_account @anonymized_account nie, ale jeśli ktoś wypomina Levadie to niech bedzie obiektywny i wspomni też inny wynik."
          ],
          [
           "@anonymized_account O naszych meczach z Rio Ave można powiedzieć podobnie 😉"
          ],
          [
           "W sumie to polubiłam już zajęcia z konstrukcji przekazu reklamowego i prowadzący jest świetny"
          ],
          [
           "Ej chciałabym do samorządu w sumie hahahaha"
          ],
          [
           "@anonymized_account Tez nie mam snapa hahahahaha"
          ],
          [
           "@anonymized_account Ileż można o tym Wiluszu ?..."
          ],
          [
           "@anonymized_account A po polsku to jak to będzie?"
          ],
          [
           "@anonymized_account @anonymized_account A skąd on wie jak jest w innych klubach ? Niech się wypowiada o klubach w których grał."
          ],
          [
           "I ta Wisła, która się bawi z każdym w ofensywie, w Białymstoku miała pół sytuacji."
          ],
          [
           "@anonymized_account @anonymized_account @anonymized_account Zapytalem,  szwagierka mówi że ma konto w powerbanku"
          ],
          [
           "@anonymized_account @anonymized_account Mięciuteńki straszliwie. Tam były ręce na ciele, a nie jakieś szarpanie. Tylko że nie do VAR-u."
          ],
          [
           "@anonymized_account @anonymized_account Pajacu, jak podajesz przepis to masz go znać na pamięć. Inaczej robią z siebie idiotę tak jak teraz."
          ],
          [
           "@anonymized_account Zdejmujesz Dziadkowi okulary, zakładasz Babci i jestem \\n😎"
          ],
          [
           "@anonymized_account @anonymized_account @anonymized_account w końcu jakiś ciekawy wywiad :)"
          ],
          [
           "@anonymized_account jak tam widziałeś czerwoną to rzeczywiście wyjdź"
          ],
          [
           "@anonymized_account skoro zarząd pozwala na takie cyrki to niestety potrwa to lata"
          ],
          [
           "@anonymized_account @anonymized_account Cieszmy się że drużyna dalej gra w lidze.Nie zawsze można mieć najmocniejszy skład w lidze :)"
          ],
          [
           "@anonymized_account @anonymized_account @anonymized_account Znawca wszystkiego czyli niczego od bydła po powidło"
          ],
          [
           "@anonymized_account 😂😂😂😂😂😂😂😂😂😂😂😂😂🤣🤣🤣🤣🤣🤣🤣🤣🤣🤣🤣🤣🤣😂😂😂😂😂😂😂🤣🤣🤣🤣🤣🤣🤣🤣🤣🤣🤣🤣🤣🤣🤣😂😂😂😂😂😂😂😂😂😂😂😂😂😂😂😂\\n\\nSłów odpowiednich żaden słownik nie zawiera"
          ],
          [
           "@anonymized_account Vacek, Putnocky, Nielsen.Widzę że biorą się za odmładzanie składu :)"
          ],
          [
           "@anonymized_account @anonymized_account @anonymized_account Ty się chyba debilu nie słyszysz, ty tekstów to się po nocach uczysz czy masz słuchawkę w uchu?"
          ],
          [
           "@anonymized_account Lub kibiców w Gliwicach 😜"
          ],
          [
           "@anonymized_account No właśnie była lepsza 😜"
          ],
          [
           "@anonymized_account @anonymized_account @anonymized_account @anonymized_account No weź nie rob takiej miny"
          ],
          [
           "@anonymized_account @anonymized_account @anonymized_account Szczekać to mogą tacy jak ty #delegalizacja"
          ],
          [
           "@anonymized_account Bo jest Głowacki to teraz czas na obrońców"
          ],
          [
           "@anonymized_account @anonymized_account Nie ma takiej opcji. Oszust i kłamca w roli głównej - tego jeszcze świat nie widział."
          ],
          [
           "@anonymized_account Nie jest złe! Chodzisz w szpilkach? Cokolwiek byś nie założyła to szpilki choć trochę pomogą xd"
          ],
          [
           "@anonymized_account Jakby był definitywny to trochę slabo 😂"
          ],
          [
           "@anonymized_account a co się tak pieniedzmi nagle przejmujesz ? Jak chcialas rozwiazania kontraktu z Zohnova czy Pop to kasa juz nie wazna ?"
          ],
          [
           "@anonymized_account Oskar Łąk definitywnie odszedł z Wisły ?\\n\\nhttps://t.co/o0psVgZBUl"
          ],
          [
           "@anonymized_account gratulacje ! Dzięki za dotrzymanie słowa że dzisiaj koniec :) Zasłużyłyście !"
          ],
          [
           "Jezu, co zagrali Suarez i Cavani."
          ],
          [
           "@anonymized_account Na pewno łatwiej by było znaleźć, określić i poprawić problemy"
          ],
          [
           "@anonymized_account Można, dlatego nasz poziom piłkarski był bardzo słaby wczoraj."
          ],
          [
           "@anonymized_account Wybacz, ale nie sądzę, aby głównym problemem kadry były złe powołania na numerach 21-23 w kadrze."
          ],
          [
           "jeśli nie mogę wyglądać tak jak\\n•perrie edwards\\n•troian bellisario\\nto what’s the point of existing?"
          ],
          [
           "RT @anonymized_account jeśli nie mogę wyglądać tak jak\\n•perrie edwards\\n•troian bellisario\\nto what’s the point of existing?"
          ],
          [
           "@anonymized_account Nadal i Djoković to się w sumie cieszą, bo ten, kto w ich meczu wygra, będzie praktycznie zwycięzcą turnieju."
          ],
          [
           "@anonymized_account @anonymized_account Mówisz że ONR lize doope😂"
          ],
          [
           "@anonymized_account @anonymized_account @anonymized_account wyśle im jutro list od kibiców cracovii że chcą odejścia Filipiaka.Ciekawe czy też opublikują."
          ],
          [
           "@anonymized_account @anonymized_account A kiedy zaczniecie zbiórki na krówki i świnki?"
          ],
          [
           "@anonymized_account No to skąd wiedziałeś czy stopklatka jest zrobiona w odpowiednim momencie ? Nie kompromituj się"
          ],
          [
           "@anonymized_account @anonymized_account @anonymized_account Iza - dziewczyna, cud, miód, malina 😁"
          ],
          [
           "Zaraz pół mojego instagrama i cały Twitter będzie na koncercie Eda.... i jestem jeszcze ja............"
          ],
          [
           "@anonymized_account Z tamtego Adama dziś już nic nie zostało. Ale czepianie się go za brata i ojca osobiście nie popieram"
          ],
          [
           "@anonymized_account @anonymized_account Plujecie na Polskę to my będziemy pluć na was."
          ],
          [
           "RT @anonymized_account @anonymized_account @anonymized_account Plujecie na Polskę to my będziemy pluć na was."
          ],
          [
           "@anonymized_account Może też być kołderka 😍"
          ],
          [
           "@anonymized_account Dlaczego średnio? W decydujacym o awansie Widzewa czerwcu był piłkarzem miesiąca"
          ],
          [
           "@anonymized_account błedem było ściaganie zawodników których nas niestać byleby osiągnąć cel"
          ],
          [
           "@anonymized_account Każdy kto choć trochę się orientuje w tych sprawach wie, że na Hutniku nie ma oświetlenia..."
          ],
          [
           "@anonymized_account Maliniak dal reklame za dormo ponoć caly marsz niepodleglosci ubrali, prawda to redisbad?"
          ],
          [
           "@anonymized_account niech wejdzie na luzie i pewnie tak żeby nie musiał zostawiać dokumentu, milion osób tak przemyciłam"
          ],
          [
           "@anonymized_account Cie zaraz piznę, jak nie zaczniesz myśleć"
          ],
          [
           "@anonymized_account @anonymized_account Bo byliśmy bez formy, to oczywiste. Przecież to też napisałem."
          ],
          [
           "@anonymized_account jest juz aktualizacja składów czy jakis dodatek sciągałeś ? :)"
          ],
          [
           "@anonymized_account Komentarz raz a dwa słysząc trybuny zastanawiam się czy ten kto wymyślił mecze w pn obejrzał choć jeden"
          ],
          [
           "@anonymized_account @anonymized_account @anonymized_account @anonymized_account @anonymized_account @anonymized_account Mam nadzieję że nigdy więcej. Czekam na rychłą delegalizację."
          ],
          [
           "@anonymized_account A Ty nigdy nie robisz dwóch rzeczy jednocześnie? Np. idziesz i żujesz gumę."
          ],
          [
           "@anonymized_account @anonymized_account O 11.00 wielkie obtrabienie sukcesu..."
          ],
          [
           "@anonymized_account @anonymized_account Ty kurwa @anonymized_account nie pierdol w tv bo sie żygać chce"
          ],
          [
           "@anonymized_account problemem jest to że jak sobie coś ubzdurasz to myślisz że zawsze masz racje bo jesteś wszechwiedzący@anonymized_account @anonymized_account"
          ],
          [
           "@anonymized_account Taki Błaszczykowski tez za co do repry?  Żeby niebylo ze wbijam szpilki do legi?"
          ],
          [
           "Często wracam do tego kawałka. @anonymized_account"
          ],
          [
           "@anonymized_account A pisdzielstwo, szczury, gady, plazy popromienne, azbestowe?"
          ],
          [
           "omg ale jestem wyjebana po tym wykładzie"
          ],
          [
           "@anonymized_account @anonymized_account jak Zarycki jest Twoim informatorem to te info można w kiblu spuścić"
          ],
          [
           "@anonymized_account @anonymized_account Ale Karolina ostatnio była w TVP 😜"
          ],
          [
           "#NAME?"
          ],
          [
           "@anonymized_account @anonymized_account U mnie też wyświetla właściwe kolory 😊"
          ],
          [
           "@anonymized_account @anonymized_account Najpierw kasza, później przyjemności, a kiedyś wolność, ale wy klękacie bez obawy zostanie i tak bez was"
          ],
          [
           "@anonymized_account @anonymized_account @anonymized_account No oboje Państwo wyglądacie jak rodzeństwo. I tacy żółci oboje."
          ],
          [
           "@anonymized_account No kurwa @anonymized_account ty masz nie rządzić, madz nie rządzić"
          ],
          [
           "Yerri Mina - złota piłka 😁"
          ],
          [
           "@anonymized_account jeszcze nie mam planu wykonania ;-)"
          ],
          [
           "@anonymized_account Śląsk Wrocław ma jakiś drugi podmiot, że wystawia drugi zespół w barażach?"
          ],
          [
           "@anonymized_account personalnie do tej Pani, przyjrzyj się sobie @anonymized_account @anonymized_account , @anonymized_account @anonymized_account"
          ],
          [
           "Nie wiem, jak Barcelona i Real otrząsną się po utracie tak ważnych piłkarzy, jak Paulinho i Cristiano Ronaldo."
          ],
          [
           "Polska zrealizowala nasze cele w UE na szczycie z nawiązką. Podajcie dalej RT koniecznie potrzebne - dziękuję😊\\nhttps://t.co/OzUaePZLpY"
          ],
          [
           "RT @anonymized_account Polska zrealizowala nasze cele w UE na szczycie z nawiązką. Podajcie dalej RT koniecznie potrzebne - dziękuję😊\\nhttps://t.co/Oz…"
          ],
          [
           "@anonymized_account @anonymized_account @anonymized_account A my nie mamy helikopterów, rakiet, łodzi podwodnych a mamy WOT w którym ja biegam"
          ],
          [
           "@anonymized_account @anonymized_account A czego oczekiwałeś ? Przedłużą z kimś kontrakt to poinformują"
          ],
          [
           "@anonymized_account Jeszcze Podolski od jakiegoś czasu."
          ],
          [
           "Przepraszamy. Nie wpadliśmy na to, że pokazując środkowy palec narodowi, który - ponad podziałami, czci #PW1944, możemy kogoś obrazić. Sorki"
          ],
          [
           "@anonymized_account ahhh myślałam, że na jakieś innej stronie"
          ],
          [
           "@anonymized_account Źle... Miałeś napisać, że nie możesz więcej zdradzić :("
          ],
          [
           "@anonymized_account Pan w tle, z lewej, to z mopem zasuwa? 🖒"
          ],
          [
           "Czy naprawdę trzeba publicznie przyznawać się do nieprzygotowania do meczu, drodzy panowie komentatorzy? (kwestia Sheridana)"
          ],
          [
           "Na tt te beznadziejne gadki o niczym, to już wolę sam ze sobą"
          ],
          [
           "@anonymized_account Pamiętaj, ze ja daleko do ciebie nie mam 😂"
          ],
          [
           "@anonymized_account Pomysł sobie ze ja oblałam bo z pełna świadomością wjebalam się na rondo XD widzisz to taki mały błąd, Ew"
          ],
          [
           "@anonymized_account Jest tej chołoty tutaj całkiem sporo. Napewno się udzielają."
          ],
          [
           "@anonymized_account Hejka, hejka, sejonarka w czwartek o 11 juz do domku"
          ],
          [
           "@anonymized_account @anonymized_account Mistrz, człowiek mem jedyny na świecie"
          ],
          [
           "@anonymized_account @anonymized_account @anonymized_account York czy Leszek Miller? :)"
          ],
          [
           "@anonymized_account Kiedys kazdy kopniak bez piłki = czerwona, a jeśli to było tylko położenie ręki na głowę, to nie mamy o czym rozmawiac :)"
          ],
          [
           "Morawieckiemu coś nie idzie w Namysłowie. Teraz jako były prezes BZK WBK przedstawia się jaki ten, który zwalcza \\\"zachodnie korporacje\\\"."
          ],
          [
           "RT @anonymized_account Morawieckiemu coś nie idzie w Namysłowie. Teraz jako były prezes BZK WBK przedstawia się jaki ten, który zwalcza \\\"zacho…"
          ],
          [
           "@anonymized_account No widzisz, a zwycięską asystę w tym meczu zanotował Griezmann. MVP = najbardziej wartościowy zawodnik :)"
          ],
          [
           "@anonymized_account do domu bo ci rózga dupę @anonymized_account ty mały  @anonymized_account"
          ],
          [
           "Jak go pierwszy raz usłyszałam to miałam ciarki na całym ciele"
          ],
          [
           "@anonymized_account kibice nigdy nie pozwolą na to żeby po raz kolejny był trenerem"
          ],
          [
           "Teraz zarykam nos i mowie \\\"cała polska z was sie śmieje, komuniści i zlodzieje,"
          ],
          [
           "@anonymized_account Jego tata tłumaczył konferencję przy okazji meczu z Rio Ave w Vila do Conde :)"
          ],
          [
           "@anonymized_account a wyśmiewanie Lionela M. było po skazaniu go za oszustwa podatkowe ? bo jakoś przeoczyłem"
          ],
          [
           "@anonymized_account @anonymized_account @anonymized_account życzę Gatcie mistrza bo zasługują na to grając 2 sezony na wysokim poziomie."
          ],
          [
           "@anonymized_account Plakat widzę tak @anonymized_account z  @anonymized_account wymiana spojrzeń  a @anonymized_account na kolanach liże ich po stopach"
          ],
          [
           "@anonymized_account Pana zdanie nie interesuje Polaków ❗\\nWypchaj się Pan niemiecką, śmierdzącą onucą ❗"
          ],
          [
           "RT @anonymized_account @anonymized_account Pana zdanie nie interesuje Polaków ❗\\nWypchaj się Pan niemiecką, śmierdzącą onucą ❗"
          ],
          [
           "@anonymized_account @anonymized_account Mógł, ale jakoś nie chce mi się wierzyć, że tak to wyglądało."
          ],
          [
           "em ok wątek Jerzego i Zuzy w Przyjaciółkach to najlepsze co tam było kiedykolwiek"
          ],
          [
           "RT @anonymized_account @anonymized_account Giertych: myślę, że myślę."
          ],
          [
           "Ostatnio się zrobiłam polityczna chyba studia weszły mi za mocno"
          ],
          [
           "@anonymized_account Badziewny zespół, a i tak Anglicy byli o krok od straty punktów :)"
          ],
          [
           "@anonymized_account nawet pasy to dla was za duże wyzwanie co widać po twoim profilowym.Mistrzowie opraw."
          ],
          [
           "@anonymized_account nie chodziło mi o to że się cieszyłeś z upadku Wisły tylko że masz czarny humor :) że się z Wisły na Chojnice przerzuciłem :)"
          ],
          [
           "Ta drużyna powstała za czasów PO-PSL."
          ],
          [
           "RT @anonymized_account Ta drużyna powstała za czasów PO-PSL."
          ],
          [
           "@anonymized_account Hołd to się oddaje bohaterom...."
          ],
          [
           "@anonymized_account @anonymized_account  a co ma procent zapelnienia pojemnosci do frekwencji ? Po za tym co to jest 50% na takim malym stadionie ?"
          ],
          [
           "Spółka srebrna kapitał  7 mln,  w zarządzie sekretarka i kierowca Jarkacza"
          ],
          [
           "@anonymized_account Haha  a ilu ty zapraszasz do studia co pierd...takie głupoty..."
          ],
          [
           "RT @anonymized_account @anonymized_account Haha  a ilu ty zapraszasz do studia co pierd...takie głupoty..."
          ],
          [
           "Kto chce zrobić ze mna tea party??"
          ],
          [
           "@anonymized_account Ale za to wystąpił równie błyskotliwy,inteligentny, merytoryczny,bystry poseł Kieeerwiiinski!!!"
          ],
          [
           "@anonymized_account No gdzie, wszystko zależało od Lecha w ostatniej kolejce :D"
          ],
          [
           "Moja morda to takie spierdolenie ze zaraz rykne"
          ],
          [
           "RT @anonymized_account Moja morda to takie spierdolenie ze zaraz rykne"
          ],
          [
           "@anonymized_account @anonymized_account No w różnych miejscach ludzie seks uprawiają. Dajcie spokój..."
          ],
          [
           "@anonymized_account Ok boli, boli. Czarne katabasy, mordercy irlandzkich kobiet i sierot do kruchty i pokutować do końca życia za swoje występki."
          ],
          [
           "Czemu żaden tramwaj nie jedzie wtf"
          ],
          [
           "@anonymized_account Tak, statystyki to kłamstwa. Za to wyciągnięcie jednej sytuacji z 90 minutowego meczu to bezcenny dowód."
          ],
          [
           "@anonymized_account @anonymized_account Zamiast tego można znaleźć grafiki na różnych ekranach / telebimach w mieście."
          ],
          [
           "@anonymized_account Niby sami świnie, a nic nie wiedzą"
          ],
          [
           "@anonymized_account Ale co to ma do Mystka?"
          ],
          [
           "@anonymized_account Serio chcecie cichego stadionu ?"
          ],
          [
           "Co to miało być? 😂"
          ],
          [
           "@anonymized_account tego się niespodziewałem po Tobie... Zawiodłeś nas :D @anonymized_account"
          ],
          [
           "@anonymized_account @anonymized_account Wiem, ale prezentację mogli zrobić bez naklejek."
          ]
         ],
         "hovertemplate": "Dim_1=%{x}<br>Dim_2=%{y}<br>text=%{customdata[0]}<br>cluster=%{marker.color}<extra></extra>",
         "legendgroup": "",
         "marker": {
          "color": [
           12,
           63,
           -1,
           -1,
           -1,
           70,
           78,
           21,
           -1,
           84,
           -1,
           24,
           60,
           12,
           63,
           3,
           3,
           12,
           41,
           61,
           63,
           -1,
           55,
           62,
           57,
           66,
           90,
           72,
           32,
           -1,
           78,
           78,
           13,
           13,
           79,
           -1,
           28,
           31,
           50,
           64,
           10,
           10,
           -1,
           63,
           22,
           50,
           -1,
           48,
           14,
           4,
           4,
           35,
           -1,
           -1,
           72,
           -1,
           12,
           57,
           63,
           67,
           -1,
           74,
           40,
           -1,
           22,
           -1,
           14,
           79,
           63,
           65,
           75,
           -1,
           21,
           39,
           -1,
           -1,
           22,
           76,
           57,
           -1,
           61,
           -1,
           67,
           3,
           3,
           61,
           -1,
           8,
           8,
           79,
           -1,
           29,
           61,
           67,
           -1,
           33,
           44,
           17,
           30,
           77,
           -1,
           63,
           20,
           61,
           83,
           40,
           75,
           75,
           89,
           19,
           9,
           9,
           -1,
           51,
           62,
           83,
           33,
           82,
           -1,
           18,
           51,
           52,
           83,
           -1,
           61,
           41,
           57,
           74,
           25,
           79,
           61,
           20,
           88,
           61,
           48,
           39,
           58,
           -1,
           75,
           -1,
           41,
           15,
           23,
           30,
           56,
           -1,
           8,
           8,
           23,
           55,
           61,
           17,
           -1,
           6,
           6,
           -1,
           40,
           72,
           61,
           80,
           61,
           63,
           13,
           83,
           90,
           61,
           73,
           34,
           61,
           5,
           55,
           62,
           16,
           45,
           66,
           61,
           5,
           -1,
           54,
           -1,
           40,
           10,
           10,
           61,
           73,
           79,
           27,
           4,
           4,
           24,
           55,
           -1,
           58,
           45,
           34,
           47,
           73,
           75,
           56,
           59,
           -1,
           86,
           55,
           52,
           52,
           19,
           -1,
           40,
           64,
           -1,
           82,
           50,
           17,
           62,
           -1,
           -1,
           63,
           -1,
           57,
           39,
           54,
           48,
           -1,
           30,
           14,
           17,
           64,
           42,
           75,
           55,
           -1,
           63,
           32,
           82,
           29,
           -1,
           83,
           42,
           38,
           61,
           15,
           34,
           1,
           1,
           48,
           20,
           12,
           60,
           67,
           61,
           27,
           36,
           -1,
           -1,
           61,
           -1,
           79,
           61,
           -1,
           86,
           58,
           -1,
           68,
           54,
           63,
           66,
           6,
           6,
           63,
           25,
           81,
           64,
           -1,
           60,
           -1,
           -1,
           57,
           25,
           22,
           63,
           39,
           48,
           56,
           2,
           2,
           -1,
           61,
           85,
           86,
           40,
           40,
           64,
           74,
           46,
           -1,
           43,
           7,
           66,
           41,
           63,
           82,
           67,
           12,
           27,
           25,
           11,
           11,
           69,
           49,
           39,
           54,
           16,
           5,
           58,
           18,
           64,
           0,
           0,
           37,
           61,
           79,
           67,
           -1,
           85,
           -1,
           -1,
           44,
           55,
           7,
           71,
           61,
           75,
           -1,
           61,
           -1,
           47,
           68,
           20,
           88,
           65,
           58,
           85,
           23,
           12,
           3,
           3,
           24,
           75,
           34,
           61,
           -1,
           -1,
           46,
           71,
           61,
           5,
           69,
           7,
           -1,
           -1,
           63,
           61,
           20,
           61,
           -1,
           8,
           8,
           64,
           5,
           -1,
           15,
           40,
           75,
           32,
           73,
           61,
           67,
           21,
           28,
           61,
           73,
           88,
           -1,
           -1,
           63,
           48,
           67,
           56,
           9,
           9,
           66,
           63,
           27,
           48,
           6,
           6,
           23,
           48,
           53,
           38,
           28,
           38,
           -1,
           5,
           41,
           52,
           52,
           34,
           63,
           84,
           57,
           61,
           18,
           81,
           57,
           53,
           69,
           5,
           71,
           -1,
           3,
           3,
           14,
           61,
           81,
           31,
           11,
           11,
           -1,
           -1,
           6,
           6,
           21,
           21,
           45,
           68,
           50,
           43,
           57,
           48,
           67,
           -1,
           81,
           1,
           1,
           63,
           25,
           48,
           83,
           80,
           -1,
           75,
           61,
           -1,
           -1,
           12,
           42,
           47,
           88,
           89,
           63,
           -1,
           62,
           -1,
           61,
           -1,
           -1,
           -1,
           17,
           67,
           23,
           69,
           -1,
           41,
           88,
           59,
           13,
           67,
           43,
           39,
           61,
           -1,
           7,
           35,
           26,
           75,
           66,
           -1,
           70,
           70,
           44,
           59,
           53,
           55,
           32,
           3,
           3,
           48,
           67,
           44,
           75,
           37,
           12,
           23,
           27,
           -1,
           61,
           79,
           59,
           7,
           64,
           42,
           87,
           64,
           41,
           -1,
           67,
           86,
           28,
           45,
           -1,
           77,
           27,
           35,
           56,
           35,
           76,
           61,
           -1,
           35,
           87,
           7,
           61,
           43,
           61,
           82,
           26,
           48,
           2,
           2,
           -1,
           60,
           35,
           66,
           36,
           -1,
           38,
           44,
           -1,
           -1,
           17,
           66,
           30,
           19,
           25,
           39,
           0,
           0,
           19,
           -1,
           39,
           48,
           62,
           59,
           31,
           85,
           77,
           -1,
           -1,
           34,
           48,
           78,
           65,
           49,
           -1,
           86,
           61,
           61,
           25,
           88,
           63,
           -1,
           -1,
           46,
           18,
           20,
           14,
           14,
           46,
           27,
           63,
           -1,
           64,
           61,
           79,
           68,
           -1,
           -1,
           45
          ],
          "coloraxis": "coloraxis",
          "symbol": "circle"
         },
         "mode": "markers",
         "name": "",
         "orientation": "v",
         "showlegend": false,
         "type": "scatter",
         "x": [
          -0.28162193298339844,
          -0.1501561850309372,
          1.2137305736541748,
          -0.47723403573036194,
          0.18385232985019684,
          -1.4707754850387573,
          -0.4030526280403137,
          -0.4737239181995392,
          1.5401681661605835,
          -1.1164438724517822,
          -0.39860960841178894,
          -0.08703208714723587,
          -0.2671653628349304,
          0.033709123730659485,
          0.10483825951814651,
          2.184297561645508,
          2.1828432083129883,
          -0.40052568912506104,
          -2.206395387649536,
          -0.39021754264831543,
          -0.12145773321390152,
          -0.8728027939796448,
          0.5604096055030823,
          -1.2475183010101318,
          0.3698034882545471,
          -1.182531714439392,
          -0.6835591197013855,
          -1.170174241065979,
          1.373755693435669,
          -0.7689321637153625,
          -0.4036654233932495,
          -0.40430647134780884,
          -0.8009232878684998,
          -0.7849761247634888,
          -0.38976702094078064,
          -0.46145233511924744,
          -2.4230458736419678,
          -2.216944456100464,
          0.3126297891139984,
          0.2686203122138977,
          -0.5038094520568848,
          -0.5037012696266174,
          -1.7323373556137085,
          0.1423078030347824,
          -2.1975901126861572,
          0.3745175898075104,
          -1.1241114139556885,
          -1.3464866876602173,
          -0.2059977501630783,
          0.6915104985237122,
          0.6911672353744507,
          -0.3179137706756592,
          -0.018745653331279755,
          -0.37328964471817017,
          -1.214005947113037,
          0.13040950894355774,
          -0.1122845858335495,
          0.4550839364528656,
          -0.009306208230555058,
          -0.949573814868927,
          -1.299994707107544,
          0.5637813210487366,
          -1.6078283786773682,
          -1.9266347885131836,
          -2.3239235877990723,
          0.013875897042453289,
          -0.1469496339559555,
          -0.4094420373439789,
          -0.28162097930908203,
          -0.17346660792827606,
          0.6522947549819946,
          0.9924827218055725,
          -0.43204453587532043,
          -2.2614643573760986,
          -0.44360265135765076,
          -0.7933065891265869,
          -2.21885085105896,
          -1.3825299739837646,
          0.6268676519393921,
          -0.3534727394580841,
          -0.36053285002708435,
          -1.0381041765213013,
          -0.8907215595245361,
          2.2216439247131348,
          2.2213501930236816,
          -0.3964148759841919,
          -0.42471736669540405,
          1.7605289220809937,
          1.7605665922164917,
          -0.3959362506866455,
          0.6670665144920349,
          1.1506551504135132,
          -0.3822718560695648,
          -0.9699844717979431,
          -0.9249338507652283,
          1.540888786315918,
          0.809581458568573,
          1.3061469793319702,
          0.9771909117698669,
          -0.7228484749794006,
          -0.2855086028575897,
          0.08412793278694153,
          0.576950192451477,
          -0.4055439233779907,
          -1.089508295059204,
          -1.576133370399475,
          0.6629117131233215,
          0.6579828858375549,
          -0.9155324101448059,
          1.4789618253707886,
          1.1158260107040405,
          1.1157822608947754,
          0.3111843466758728,
          0.29833605885505676,
          -1.2658896446228027,
          -1.0405560731887817,
          1.4993666410446167,
          -0.6216379404067993,
          -0.08397520333528519,
          1.1510646343231201,
          0.16651806235313416,
          0.1614922136068344,
          -1.122280240058899,
          -0.5446063280105591,
          -0.36201584339141846,
          -2.1592633724212646,
          0.703813910484314,
          0.5500680804252625,
          -0.23820827901363373,
          -0.4022952914237976,
          -0.38468798995018005,
          0.47087422013282776,
          -0.527184009552002,
          -0.3728220462799072,
          -1.406182885169983,
          -2.3913257122039795,
          -0.7914208769798279,
          0.2597205936908722,
          0.5821027755737305,
          -0.7900051474571228,
          -2.108123540878296,
          -0.2592403292655945,
          -2.0336902141571045,
          0.9346053004264832,
          0.9612123370170593,
          -0.4199591875076294,
          1.6934425830841064,
          1.693097472190857,
          -2.108321189880371,
          0.5345205664634705,
          -0.41378358006477356,
          1.3273612260818481,
          -0.653386116027832,
          0.016604052856564522,
          0.0163328368216753,
          -1.2351374626159668,
          -1.7372539043426514,
          -1.145485281944275,
          -0.4035777151584625,
          -1.271543025970459,
          -0.39100366830825806,
          -0.08003782480955124,
          -0.7316213846206665,
          -1.069884181022644,
          -0.7600200772285461,
          -0.38382863998413086,
          -0.7771992683410645,
          -1.8974288702011108,
          -0.3935118615627289,
          -0.037369485944509506,
          0.5424134135246277,
          -1.2335925102233887,
          -0.4495193064212799,
          0.85186767578125,
          -1.229678988456726,
          -0.39028453826904297,
          -0.03165877237915993,
          -0.49266916513442993,
          -0.4279763996601105,
          -1.2162976264953613,
          -1.616306185722351,
          -0.7724162340164185,
          -0.7718695402145386,
          -0.3941590189933777,
          -0.7942559719085693,
          -0.40795472264289856,
          1.5265504121780396,
          0.769670307636261,
          0.7688992619514465,
          -0.13322004675865173,
          0.5485249161720276,
          -0.03754107281565666,
          -0.7521871328353882,
          0.7012176513671875,
          -1.7997922897338867,
          -0.3844209611415863,
          -0.7887593507766724,
          0.6155417561531067,
          1.0714781284332275,
          -0.4739624559879303,
          -1.4112132787704468,
          -1.2159897089004517,
          0.5930940508842468,
          0.14073996245861053,
          0.1336996704339981,
          1.4337506294250488,
          0.5631442666053772,
          -1.6328661441802979,
          0.3982776999473572,
          -2.711789131164551,
          -0.6010552644729614,
          0.31082719564437866,
          1.3405654430389404,
          -1.2362847328186035,
          -0.6316155195236206,
          -1.0632524490356445,
          -0.12145773321390152,
          -0.4071730077266693,
          0.36146682500839233,
          -2.3517398834228516,
          -0.4198826253414154,
          -1.5163226127624512,
          1.2004797458648682,
          1.0444073677062988,
          -0.23131871223449707,
          1.3313285112380981,
          0.30918779969215393,
          0.09543545544147491,
          0.6416804790496826,
          0.5855164527893066,
          -0.42086246609687805,
          -0.10551425814628601,
          1.3783657550811768,
          -0.6406244039535522,
          1.2628519535064697,
          -1.601355791091919,
          -1.0785574913024902,
          -0.1212654560804367,
          -1.8909533023834229,
          -0.3966383934020996,
          -0.24850890040397644,
          -1.8316230773925781,
          -2.1170756816864014,
          -2.1169612407684326,
          -1.1229137182235718,
          0.417093962430954,
          0.014462758786976337,
          -0.38203859329223633,
          -0.9814944863319397,
          -0.36388880014419556,
          1.4841468334197998,
          -0.40530484914779663,
          -0.7295946478843689,
          -0.3611311912536621,
          -0.366559237241745,
          -0.31220588088035583,
          -0.3907531797885895,
          -0.3855748176574707,
          -0.44706830382347107,
          -1.192334771156311,
          -0.93507981300354,
          0.621219277381897,
          0.47770801186561584,
          -0.4255528748035431,
          0.027088554576039314,
          -1.3273500204086304,
          0.03523833677172661,
          0.03771694749593735,
          -0.0619586817920208,
          -0.19295065104961395,
          -0.4942353069782257,
          0.3396996557712555,
          -0.6524732708930969,
          -0.3449817895889282,
          -0.3606637716293335,
          -2.2070491313934326,
          0.400759220123291,
          -0.16056886315345764,
          -2.165508508682251,
          0.008932898752391338,
          -2.3150229454040527,
          -1.692098617553711,
          0.8395804762840271,
          -1.6526641845703125,
          -1.6523716449737549,
          -2.4520187377929688,
          -0.3885273039340973,
          -1.2557990550994873,
          -1.1976455450057983,
          -1.8766796588897705,
          -1.6966278553009033,
          0.25935542583465576,
          0.5146717429161072,
          0.6697274446487427,
          -0.17534714937210083,
          0.08460250496864319,
          -1.1493613719940186,
          -1.2181000709533691,
          -2.208481788635254,
          -0.14605532586574554,
          -0.5353566408157349,
          -0.9814974665641785,
          -0.43677353858947754,
          1.5424940586090088,
          -0.13507866859436035,
          -1.011043667793274,
          -1.0104117393493652,
          0.441358745098114,
          -1.2357499599456787,
          -2.5962438583374023,
          -0.4254603087902069,
          -0.4741702973842621,
          -0.012217426672577858,
          -0.7610047459602356,
          1.1930687427520752,
          0.3886035978794098,
          -2.954397678375244,
          -2.954298973083496,
          -1.9267116785049438,
          -0.39173123240470886,
          -0.3959891200065613,
          -0.9720120429992676,
          -0.29968002438545227,
          -1.2711306810379028,
          -1.588858962059021,
          -0.5776101350784302,
          0.9662801027297974,
          0.5292478799819946,
          -1.056164026260376,
          -0.9646832346916199,
          -0.39853614568710327,
          0.6354702115058899,
          -0.2498152256011963,
          -0.36683762073516846,
          -1.3614933490753174,
          -0.3753212094306946,
          0.4771268963813782,
          0.3666354715824127,
          -0.441879540681839,
          -0.2990548610687256,
          -0.8069949150085449,
          -1.237332820892334,
          -1.9777947664260864,
          -0.02148888073861599,
          2.5938568115234375,
          2.593900680541992,
          -0.1110353022813797,
          0.6340011954307556,
          -1.781818151473999,
          -0.3989548981189728,
          1.3006951808929443,
          -0.3484100103378296,
          0.6833649277687073,
          -0.9654940962791443,
          -0.37274298071861267,
          -0.05728350952267647,
          0.45243585109710693,
          -1.2370367050170898,
          -1.7574177980422974,
          -1.3842244148254395,
          -0.2591896653175354,
          -0.3891058564186096,
          0.6289075016975403,
          -0.3980085849761963,
          -0.3339150547981262,
          1.8117825984954834,
          1.8114768266677856,
          0.3743983209133148,
          -0.08188989013433456,
          -0.38235360383987427,
          -0.2582891285419464,
          -1.853702187538147,
          0.6174028515815735,
          1.4787052869796753,
          -0.772769570350647,
          -0.378838449716568,
          -0.9563960433006287,
          -0.47122907638549805,
          -2.5900301933288574,
          -0.3637872338294983,
          -0.7733381390571594,
          -0.45623481273651123,
          1.2512891292572021,
          1.2505663633346558,
          -0.21356987953186035,
          -1.3184069395065308,
          -0.9297064542770386,
          0.9671465158462524,
          1.3314242362976074,
          1.3314131498336792,
          -1.3037770986557007,
          0.048998843878507614,
          1.4778164625167847,
          -1.2265524864196777,
          0.31275710463523865,
          0.3127537667751312,
          -1.9046850204467773,
          -1.5647751092910767,
          0.9092178344726562,
          -1.793386697769165,
          -2.480581521987915,
          -1.8393995761871338,
          -1.6807570457458496,
          0.004743024706840515,
          -2.0692288875579834,
          0.1059112697839737,
          0.09528777003288269,
          -1.8106111288070679,
          -0.05651148036122322,
          -1.1281745433807373,
          0.3249855935573578,
          -0.3956053555011749,
          1.1751681566238403,
          -0.49479031562805176,
          0.6042894721031189,
          0.7850074172019958,
          0.4480364918708801,
          0.06572410464286804,
          -0.9915744066238403,
          -1.0692957639694214,
          2.445279359817505,
          2.445430278778076,
          -0.22428002953529358,
          -0.4021705687046051,
          -0.5413082838058472,
          -2.1396896839141846,
          -1.0638720989227295,
          -1.0636638402938843,
          0.6128984093666077,
          0.585871160030365,
          -0.20950540900230408,
          -0.2092430293560028,
          -0.434917688369751,
          -0.46958494186401367,
          0.7760509252548218,
          0.4917982518672943,
          0.3747459650039673,
          0.18282151222229004,
          0.5615754723548889,
          -1.4943647384643555,
          -0.9978721737861633,
          -0.37939199805259705,
          -0.517273485660553,
          -2.1433842182159424,
          -2.141359329223633,
          -0.1945960521697998,
          -0.1866845190525055,
          -1.375840663909912,
          -1.0679460763931274,
          -1.2550714015960693,
          -0.3357878625392914,
          0.6370387077331543,
          -0.40156668424606323,
          -3.351191759109497,
          -3.351271867752075,
          -0.5672948956489563,
          0.0247605349868536,
          -0.3791235387325287,
          -0.4595942497253418,
          -0.8081035017967224,
          -0.056260742247104645,
          -1.4881502389907837,
          -1.2000588178634644,
          -0.32754945755004883,
          -0.37377774715423584,
          -0.43126025795936584,
          -1.1458240747451782,
          0.8228803873062134,
          1.4385173320770264,
          -0.9526332020759583,
          -1.913753867149353,
          0.45419299602508545,
          -0.3450870215892792,
          -2.135275363922119,
          -0.478872150182724,
          -0.6152448058128357,
          -0.7503006458282471,
          -0.9637951254844666,
          0.036306966096162796,
          -2.302140235900879,
          -0.37520816922187805,
          -0.3843913674354553,
          -1.0777955055236816,
          -0.3788518011569977,
          -0.3983800709247589,
          0.6471810936927795,
          -1.2374264001846313,
          -0.2695830166339874,
          -1.540932297706604,
          -1.572123646736145,
          0.9552940130233765,
          -0.39584609866142273,
          0.8966187238693237,
          0.5430158376693726,
          1.4231226444244385,
          2.7224245071411133,
          2.7225866317749023,
          -1.2740987539291382,
          -0.9145862460136414,
          0.9676140546798706,
          0.6294538974761963,
          -1.8623608350753784,
          -0.12989003956317902,
          -2.0182902812957764,
          1.3787696361541748,
          -0.39836153388023376,
          -0.40122708678245544,
          -0.40241044759750366,
          -0.6351595520973206,
          -1.1476576328277588,
          0.3327750563621521,
          -0.10950614511966705,
          -1.1039844751358032,
          0.38046762347221375,
          -2.1625747680664062,
          -1.0070972442626953,
          -0.9695816040039062,
          -1.1882940530776978,
          -2.437182903289795,
          0.789779543876648,
          -1.013597011566162,
          -0.7094723582267761,
          1.5080149173736572,
          -0.2856563329696655,
          0.9948520660400391,
          -0.3028161823749542,
          -1.3010787963867188,
          -0.38279789686203003,
          -0.4072004556655884,
          -0.33898013830184937,
          -1.1342567205429077,
          -1.1774570941925049,
          -0.3923053443431854,
          0.20030993223190308,
          -0.382402241230011,
          -0.5669617056846619,
          -0.34974247217178345,
          -1.4582998752593994,
          -1.6386739015579224,
          -1.6378692388534546,
          -1.4688024520874023,
          -0.37374088168144226,
          -0.3294244706630707,
          -1.212328314781189,
          -0.4201250672340393,
          -0.3417836129665375,
          -1.7326158285140991,
          0.8999009728431702,
          0.6601403951644897,
          0.3048533797264099,
          1.3201407194137573,
          -1.25194251537323,
          1.045282244682312,
          1.5392608642578125,
          -0.14099456369876862,
          -2.0276331901550293,
          -2.6598870754241943,
          -2.659580707550049,
          1.456549882888794,
          0.012966386042535305,
          -2.4646615982055664,
          -1.3847296237945557,
          -1.24734365940094,
          -0.4383363127708435,
          -2.2696690559387207,
          -1.2910544872283936,
          -0.6936362981796265,
          2.741581439971924,
          2.741580009460449,
          -1.851197600364685,
          -1.3714271783828735,
          -0.4058051109313965,
          -0.1859133392572403,
          -1.1397547721862793,
          -0.976742148399353,
          -1.1761046648025513,
          -0.3604518175125122,
          -0.3650963306427002,
          -0.16938865184783936,
          -0.49896273016929626,
          -0.17259494960308075,
          -0.0011682345066219568,
          -0.01332315243780613,
          0.616045355796814,
          1.1811447143554688,
          0.6048978567123413,
          -0.22344864904880524,
          -0.23643848299980164,
          0.4731888473033905,
          1.552428126335144,
          0.059206631034612656,
          -1.7899876832962036,
          0.31021368503570557,
          -0.3873041570186615,
          -0.40071263909339905,
          0.47770801186561584,
          -0.4160175025463104,
          -0.37975606322288513,
          0.6983041763305664
         ],
         "xaxis": "x",
         "y": [
          -3.0500876903533936,
          -1.610404133796692,
          -2.0047390460968018,
          -0.6670251488685608,
          -2.5988590717315674,
          0.38015878200531006,
          -0.9610403180122375,
          -0.5844721794128418,
          -1.5361182689666748,
          -0.15105561912059784,
          -0.9865826964378357,
          -0.03514046221971512,
          -1.9388346672058105,
          -3.0513343811035156,
          -1.4539624452590942,
          0.4170760214328766,
          0.4167817533016205,
          -2.9490997791290283,
          -1.900295376777649,
          -0.933357298374176,
          -1.5756242275238037,
          0.18858374655246735,
          0.03517816215753555,
          -0.41646113991737366,
          0.37089499831199646,
          -0.6779094934463501,
          0.6270094513893127,
          -0.8695433735847473,
          -1.9427565336227417,
          -1.9410325288772583,
          -0.9584103226661682,
          -0.9614856839179993,
          -2.9156856536865234,
          -2.9484353065490723,
          -0.9701797962188721,
          -0.6478153467178345,
          -0.6738080978393555,
          -0.8240277171134949,
          -1.8580962419509888,
          -1.3687604665756226,
          1.9196795225143433,
          1.9199129343032837,
          0.3644024729728699,
          -1.420091986656189,
          -0.21118851006031036,
          -1.7421048879623413,
          -0.8939896821975708,
          -1.8687111139297485,
          -0.326113224029541,
          1.8805932998657227,
          1.8813220262527466,
          -0.7503551840782166,
          0.5667021870613098,
          -0.3549058735370636,
          -0.8048585057258606,
          -1.7452465295791626,
          -2.8950212001800537,
          0.3433186113834381,
          -1.539990782737732,
          -1.3763573169708252,
          -2.290321111679077,
          -0.9242120981216431,
          -2.7111856937408447,
          -1.4532917737960815,
          -0.2752326428890228,
          -2.017947196960449,
          -0.5646399855613708,
          -0.976502001285553,
          -1.6514155864715576,
          0.5541905164718628,
          -0.7123070359230042,
          -1.2138038873672485,
          -0.5617528557777405,
          -1.6717174053192139,
          -0.9213075041770935,
          0.7345756888389587,
          -0.3687831163406372,
          0.3881182372570038,
          0.263898640871048,
          -0.13208237290382385,
          -0.919938862323761,
          -0.3869413435459137,
          -1.413898229598999,
          0.701865017414093,
          0.7017049789428711,
          -0.9382230043411255,
          -0.8968690037727356,
          1.3153579235076904,
          1.3152695894241333,
          -0.9656469821929932,
          -2.373595714569092,
          -2.319688081741333,
          -0.9115198254585266,
          -1.3620121479034424,
          -2.3260841369628906,
          -1.672605037689209,
          -1.51561439037323,
          -0.5076078772544861,
          -2.54471755027771,
          -1.545873761177063,
          -0.6779783964157104,
          -1.4649206399917603,
          -2.8436052799224854,
          -0.9230724573135376,
          -0.12748606503009796,
          -2.585975170135498,
          -0.7395530939102173,
          -0.7081553339958191,
          0.6398308873176575,
          -0.8838939070701599,
          1.4409517049789429,
          1.4407804012298584,
          1.0923986434936523,
          1.073110580444336,
          -0.4347648620605469,
          -0.05432067811489105,
          -1.6914349794387817,
          -1.598816990852356,
          -0.5964188575744629,
          -0.2737967073917389,
          1.0098434686660767,
          0.9950259923934937,
          -0.07644596695899963,
          -2.0827460289001465,
          -0.9128303527832031,
          -2.0299744606018066,
          0.24343028664588928,
          -0.9321517944335938,
          -0.0908278301358223,
          -0.9731799960136414,
          -0.8952034115791321,
          -2.5734317302703857,
          0.6566073298454285,
          -0.9002252221107483,
          -1.6283085346221924,
          -1.3873988389968872,
          -2.055257797241211,
          -0.7396522760391235,
          -0.8244080543518066,
          0.27020642161369324,
          -2.1825218200683594,
          -0.7782469987869263,
          0.019987093284726143,
          -2.564028263092041,
          0.09616430848836899,
          -0.7968537211418152,
          1.069239854812622,
          1.0699812173843384,
          -0.011624732054769993,
          -0.18514323234558105,
          -0.8864458203315735,
          -0.5195124745368958,
          0.4086511433124542,
          1.9760102033615112,
          1.9762736558914185,
          -0.9717902541160583,
          -2.6138930320739746,
          -0.8065136075019836,
          -0.8776199817657471,
          0.563357949256897,
          -0.9254053831100464,
          -1.5555857419967651,
          -2.9073991775512695,
          -0.0569063238799572,
          0.6164144277572632,
          -0.9049965143203735,
          -1.4767581224441528,
          -1.1792371273040771,
          -0.9022608399391174,
          -0.3933422863483429,
          -0.19128970801830292,
          -0.34592705965042114,
          -0.15482214093208313,
          -1.6876447200775146,
          -0.7129292488098145,
          -0.9200266003608704,
          -0.3663918972015381,
          -0.34848254919052124,
          -0.9264519810676575,
          -0.8950527906417847,
          -2.705540180206299,
          2.149827241897583,
          2.149757146835327,
          -0.9238850474357605,
          -1.4728446006774902,
          -0.9745118618011475,
          -1.207141399383545,
          1.8702847957611084,
          1.8706445693969727,
          -0.027363955974578857,
          -0.2813427746295929,
          -0.12866954505443573,
          -2.140345573425293,
          -1.7799746990203857,
          -1.090901255607605,
          -0.8142083287239075,
          -1.4546245336532593,
          -0.7693206071853638,
          0.08047952502965927,
          -2.3081135749816895,
          -0.8813322186470032,
          -1.062015414237976,
          -0.0946604311466217,
          0.8532761335372925,
          0.8316599726676941,
          -0.790644109249115,
          -2.322627544403076,
          -2.4610886573791504,
          -1.2608659267425537,
          -1.4555306434631348,
          -1.5884743928909302,
          -1.8450024127960205,
          -0.5290892124176025,
          -0.42254114151000977,
          0.42617061734199524,
          -1.244745135307312,
          -1.5756242275238037,
          -0.9045631289482117,
          0.4627803862094879,
          -1.3415284156799316,
          -0.9369776844978333,
          -1.5428745746612549,
          -0.9760499596595764,
          -2.446608781814575,
          -0.36918938159942627,
          -0.5252175331115723,
          -1.341458797454834,
          -2.4793155193328857,
          -0.7420384883880615,
          -0.11586921662092209,
          -0.5414373874664307,
          -1.5628288984298706,
          -1.9786163568496704,
          -1.578212857246399,
          -2.254899501800537,
          -0.00048096117097884417,
          -0.0680713951587677,
          -2.36186146736145,
          -0.4088524878025055,
          -0.9240495562553406,
          -0.7681839466094971,
          -1.2112338542938232,
          1.653883457183838,
          1.6538876295089722,
          -2.072387218475342,
          -2.90274715423584,
          -3.0218586921691895,
          -1.80804443359375,
          -1.3560928106307983,
          -0.8958735466003418,
          -1.3860870599746704,
          -0.7117190361022949,
          -1.7356185913085938,
          -0.8495670557022095,
          -0.8672709465026855,
          -2.0323052406311035,
          -0.9622758030891418,
          -0.8650633096694946,
          -0.2749088406562805,
          -1.0788391828536987,
          -2.2252964973449707,
          -0.4724053740501404,
          -1.0618864297866821,
          -0.9431641697883606,
          -1.5146898031234741,
          -0.6719770431518555,
          1.6779028177261353,
          1.6628880500793457,
          -1.549660325050354,
          -0.12835490703582764,
          -1.6251686811447144,
          -1.3026068210601807,
          0.6654492616653442,
          -1.8444780111312866,
          -0.9599945545196533,
          -0.46871086955070496,
          0.25796282291412354,
          -0.10845361649990082,
          -0.20694592595100403,
          -1.5228739976882935,
          -1.43475341796875,
          -1.5712249279022217,
          0.14573213458061218,
          1.7363405227661133,
          1.736990213394165,
          -0.9735071063041687,
          -0.8772496581077576,
          -1.026151180267334,
          -1.0551049709320068,
          -2.471470355987549,
          -2.5961062908172607,
          -1.3707282543182373,
          -0.8694420456886292,
          -2.004732370376587,
          -0.7467741966247559,
          -2.207285165786743,
          -2.774099349975586,
          -0.7205638289451599,
          -1.9605839252471924,
          -1.5858279466629028,
          -1.5950955152511597,
          -1.3560893535614014,
          -2.97749662399292,
          -1.1246631145477295,
          -0.1081697940826416,
          1.886910080909729,
          1.8876076936721802,
          -1.1225202083587646,
          -2.2361767292022705,
          -1.4270732402801514,
          -0.9220808744430542,
          -0.2464223951101303,
          -0.4403995871543884,
          -2.230919599533081,
          -0.35641786456108093,
          -1.2756496667861938,
          0.8923475742340088,
          0.8924717903137207,
          -0.5869515538215637,
          -0.9104446768760681,
          -0.9709771871566772,
          -1.3574045896530151,
          -0.27061140537261963,
          -1.0279974937438965,
          0.5439596176147461,
          -2.704535484313965,
          -1.541007399559021,
          0.09690186381340027,
          -2.8297441005706787,
          0.12745533883571625,
          -0.9193994402885437,
          -0.7385115623474121,
          -0.6498766541481018,
          -0.8926553726196289,
          -0.5681953430175781,
          -0.8294674158096313,
          -1.0701686143875122,
          -2.8895843029022217,
          0.5849712491035461,
          0.5659980773925781,
          -2.122560501098633,
          -0.9792742133140564,
          0.2422764152288437,
          -3.0092897415161133,
          -0.16110076010227203,
          -0.1611538827419281,
          -0.03315319865942001,
          -0.7006317377090454,
          -1.2055164575576782,
          -0.8517152070999146,
          -2.188852071762085,
          -0.8361530303955078,
          -2.0819156169891357,
          0.11857329308986664,
          -0.91193026304245,
          -0.3426472246646881,
          -1.108794927597046,
          -2.820087194442749,
          -1.7449860572814941,
          -0.37233397364616394,
          -1.578662633895874,
          -0.9125949144363403,
          -2.819033145904541,
          -0.8812502026557922,
          -0.6572078466415405,
          0.9770228266716003,
          0.9778175354003906,
          -1.2746714353561401,
          -0.39487436413764954,
          -0.8495000600814819,
          -0.7761574983596802,
          -2.261831760406494,
          -0.6755255460739136,
          -1.8458300828933716,
          -1.4840309619903564,
          -0.9058692455291748,
          -1.370208740234375,
          -0.5579531192779541,
          -0.683069109916687,
          -0.9082335233688354,
          -1.4763743877410889,
          0.5550916790962219,
          1.8646044731140137,
          1.864932656288147,
          -1.612265706062317,
          -1.9907383918762207,
          -1.387523889541626,
          0.09807810932397842,
          1.3891505002975464,
          1.389573097229004,
          -0.6169704794883728,
          -1.5101104974746704,
          -1.3336782455444336,
          -1.9214544296264648,
          2.1640241146087646,
          2.1639833450317383,
          0.14658726751804352,
          -1.5673376321792603,
          -0.12415497750043869,
          -0.22582465410232544,
          -0.666741669178009,
          -0.27604156732559204,
          0.30160602927207947,
          -0.34020569920539856,
          -2.2507119178771973,
          0.7622922658920288,
          0.7267425060272217,
          -1.1284916400909424,
          -1.6670570373535156,
          -0.18276704847812653,
          0.25581130385398865,
          -0.9192367792129517,
          -0.35352909564971924,
          -1.6302123069763184,
          0.27854353189468384,
          -0.15464332699775696,
          -1.1201374530792236,
          -0.3688815236091614,
          0.08985436707735062,
          -1.2295359373092651,
          0.22529764473438263,
          0.22529305517673492,
          -0.5423777103424072,
          -0.9389595985412598,
          -1.6362042427062988,
          -0.8923245072364807,
          1.9135408401489258,
          1.9135843515396118,
          1.2227625846862793,
          1.188079595565796,
          2.266720771789551,
          2.2664670944213867,
          -0.6047800183296204,
          -0.5936856269836426,
          -1.7775373458862305,
          -1.0596119165420532,
          -1.9264851808547974,
          -2.255964994430542,
          0.34897440671920776,
          -1.6116933822631836,
          -1.3813577890396118,
          -0.7805641889572144,
          -1.640367031097412,
          1.4748578071594238,
          1.4756677150726318,
          -1.5915416479110718,
          -0.13445425033569336,
          -1.7632434368133545,
          -0.030165130272507668,
          0.6962674856185913,
          -0.8286409974098206,
          -0.8115828037261963,
          -0.9390199780464172,
          0.2802424430847168,
          0.2804705500602722,
          -3.0923337936401367,
          -2.4671897888183594,
          -0.8214779496192932,
          0.5735652446746826,
          0.6063401103019714,
          -1.551862120628357,
          -2.07250714302063,
          -0.328352153301239,
          -0.860492467880249,
          -0.8766481876373291,
          -0.9724637269973755,
          -0.20588280260562897,
          -2.6255199909210205,
          -0.3954631984233856,
          -1.4021154642105103,
          0.13668465614318848,
          -1.1213539838790894,
          -0.8035290837287903,
          -2.013378620147705,
          0.5384043455123901,
          -2.3512110710144043,
          -2.9228434562683105,
          -1.367069959640503,
          -2.2631843090057373,
          -1.4972138404846191,
          -0.8827201724052429,
          -0.9679457545280457,
          -2.8492586612701416,
          -0.7350247502326965,
          -0.6457374095916748,
          -0.6575819849967957,
          -0.6659780144691467,
          -0.1131114587187767,
          0.38854730129241943,
          0.4733017385005951,
          -1.3985384702682495,
          -2.2068936824798584,
          -0.1350223422050476,
          -0.06205371767282486,
          -1.8656595945358276,
          -0.598511278629303,
          -0.5983289480209351,
          -1.830619215965271,
          -1.408069133758545,
          -1.3790425062179565,
          -0.7873732447624207,
          -0.7730381488800049,
          -3.0226945877075195,
          0.05929914489388466,
          -1.2507086992263794,
          -0.843029260635376,
          -0.8627855181694031,
          -0.9740351438522339,
          -2.3540728092193604,
          -2.816974401473999,
          -1.3218446969985962,
          -2.427736282348633,
          0.5753080248832703,
          -1.2982240915298462,
          -2.086836099624634,
          -0.005952844861894846,
          -1.3700578212738037,
          -1.0796383619308472,
          -0.6549295783042908,
          -1.7567036151885986,
          -0.17850583791732788,
          -1.5532751083374023,
          -1.1854780912399292,
          -0.7272530794143677,
          0.07111106067895889,
          -0.7279816269874573,
          0.49635982513427734,
          -0.8747847080230713,
          -0.9948943257331848,
          -0.7561652064323425,
          0.6700593829154968,
          -2.822420597076416,
          -0.8904668092727661,
          -2.257544994354248,
          -0.913472592830658,
          -1.5937684774398804,
          -0.6480398178100586,
          -1.8057713508605957,
          1.9384528398513794,
          1.9400523900985718,
          -1.034620761871338,
          -1.8421998023986816,
          -0.7402209639549255,
          -0.6909475326538086,
          -0.6717090606689453,
          -2.4608254432678223,
          -0.41055208444595337,
          -1.4350612163543701,
          -0.5263860821723938,
          -1.1321868896484375,
          -0.5165557861328125,
          -0.6438045501708984,
          -2.4664885997772217,
          -0.8852688074111938,
          -0.08793961256742477,
          -1.6635998487472534,
          1.1710222959518433,
          1.1701534986495972,
          -0.7407234311103821,
          -0.23447264730930328,
          -1.2273321151733398,
          -1.714665174484253,
          -0.39111098647117615,
          -2.2594196796417236,
          -0.9273310303688049,
          -1.0358749628067017,
          -1.566227674484253,
          -1.4014049768447876,
          -1.40133535861969,
          -0.9829877018928528,
          -1.7770452499389648,
          -0.9539406895637512,
          0.5605030059814453,
          -2.1725940704345703,
          0.5933101773262024,
          -1.115315318107605,
          -0.8751265406608582,
          -0.8879258632659912,
          -0.1490454375743866,
          0.5859997272491455,
          -1.589077115058899,
          0.38607630133628845,
          0.34732624888420105,
          -2.0278990268707275,
          -0.31601184606552124,
          -2.797229051589966,
          -0.44709888100624084,
          -0.48816990852355957,
          -2.1165168285369873,
          -1.1680928468704224,
          -1.4969713687896729,
          -0.7708364725112915,
          -1.3315632343292236,
          -0.890946626663208,
          -0.9708418846130371,
          -1.0618864297866821,
          -0.9840843677520752,
          -0.18552996218204498,
          -1.7640265226364136
         ],
         "yaxis": "y"
        }
       ],
       "layout": {
        "autosize": true,
        "coloraxis": {
         "colorbar": {
          "title": {
           "text": "cluster"
          }
         },
         "colorscale": [
          [
           0,
           "#0d0887"
          ],
          [
           0.1111111111111111,
           "#46039f"
          ],
          [
           0.2222222222222222,
           "#7201a8"
          ],
          [
           0.3333333333333333,
           "#9c179e"
          ],
          [
           0.4444444444444444,
           "#bd3786"
          ],
          [
           0.5555555555555556,
           "#d8576b"
          ],
          [
           0.6666666666666666,
           "#ed7953"
          ],
          [
           0.7777777777777778,
           "#fb9f3a"
          ],
          [
           0.8888888888888888,
           "#fdca26"
          ],
          [
           1,
           "#f0f921"
          ]
         ]
        },
        "legend": {
         "tracegroupgap": 0
        },
        "template": {
         "data": {
          "bar": [
           {
            "error_x": {
             "color": "#2a3f5f"
            },
            "error_y": {
             "color": "#2a3f5f"
            },
            "marker": {
             "line": {
              "color": "#E5ECF6",
              "width": 0.5
             },
             "pattern": {
              "fillmode": "overlay",
              "size": 10,
              "solidity": 0.2
             }
            },
            "type": "bar"
           }
          ],
          "barpolar": [
           {
            "marker": {
             "line": {
              "color": "#E5ECF6",
              "width": 0.5
             },
             "pattern": {
              "fillmode": "overlay",
              "size": 10,
              "solidity": 0.2
             }
            },
            "type": "barpolar"
           }
          ],
          "carpet": [
           {
            "aaxis": {
             "endlinecolor": "#2a3f5f",
             "gridcolor": "white",
             "linecolor": "white",
             "minorgridcolor": "white",
             "startlinecolor": "#2a3f5f"
            },
            "baxis": {
             "endlinecolor": "#2a3f5f",
             "gridcolor": "white",
             "linecolor": "white",
             "minorgridcolor": "white",
             "startlinecolor": "#2a3f5f"
            },
            "type": "carpet"
           }
          ],
          "choropleth": [
           {
            "colorbar": {
             "outlinewidth": 0,
             "ticks": ""
            },
            "type": "choropleth"
           }
          ],
          "contour": [
           {
            "colorbar": {
             "outlinewidth": 0,
             "ticks": ""
            },
            "colorscale": [
             [
              0,
              "#0d0887"
             ],
             [
              0.1111111111111111,
              "#46039f"
             ],
             [
              0.2222222222222222,
              "#7201a8"
             ],
             [
              0.3333333333333333,
              "#9c179e"
             ],
             [
              0.4444444444444444,
              "#bd3786"
             ],
             [
              0.5555555555555556,
              "#d8576b"
             ],
             [
              0.6666666666666666,
              "#ed7953"
             ],
             [
              0.7777777777777778,
              "#fb9f3a"
             ],
             [
              0.8888888888888888,
              "#fdca26"
             ],
             [
              1,
              "#f0f921"
             ]
            ],
            "type": "contour"
           }
          ],
          "contourcarpet": [
           {
            "colorbar": {
             "outlinewidth": 0,
             "ticks": ""
            },
            "type": "contourcarpet"
           }
          ],
          "heatmap": [
           {
            "colorbar": {
             "outlinewidth": 0,
             "ticks": ""
            },
            "colorscale": [
             [
              0,
              "#0d0887"
             ],
             [
              0.1111111111111111,
              "#46039f"
             ],
             [
              0.2222222222222222,
              "#7201a8"
             ],
             [
              0.3333333333333333,
              "#9c179e"
             ],
             [
              0.4444444444444444,
              "#bd3786"
             ],
             [
              0.5555555555555556,
              "#d8576b"
             ],
             [
              0.6666666666666666,
              "#ed7953"
             ],
             [
              0.7777777777777778,
              "#fb9f3a"
             ],
             [
              0.8888888888888888,
              "#fdca26"
             ],
             [
              1,
              "#f0f921"
             ]
            ],
            "type": "heatmap"
           }
          ],
          "heatmapgl": [
           {
            "colorbar": {
             "outlinewidth": 0,
             "ticks": ""
            },
            "colorscale": [
             [
              0,
              "#0d0887"
             ],
             [
              0.1111111111111111,
              "#46039f"
             ],
             [
              0.2222222222222222,
              "#7201a8"
             ],
             [
              0.3333333333333333,
              "#9c179e"
             ],
             [
              0.4444444444444444,
              "#bd3786"
             ],
             [
              0.5555555555555556,
              "#d8576b"
             ],
             [
              0.6666666666666666,
              "#ed7953"
             ],
             [
              0.7777777777777778,
              "#fb9f3a"
             ],
             [
              0.8888888888888888,
              "#fdca26"
             ],
             [
              1,
              "#f0f921"
             ]
            ],
            "type": "heatmapgl"
           }
          ],
          "histogram": [
           {
            "marker": {
             "pattern": {
              "fillmode": "overlay",
              "size": 10,
              "solidity": 0.2
             }
            },
            "type": "histogram"
           }
          ],
          "histogram2d": [
           {
            "colorbar": {
             "outlinewidth": 0,
             "ticks": ""
            },
            "colorscale": [
             [
              0,
              "#0d0887"
             ],
             [
              0.1111111111111111,
              "#46039f"
             ],
             [
              0.2222222222222222,
              "#7201a8"
             ],
             [
              0.3333333333333333,
              "#9c179e"
             ],
             [
              0.4444444444444444,
              "#bd3786"
             ],
             [
              0.5555555555555556,
              "#d8576b"
             ],
             [
              0.6666666666666666,
              "#ed7953"
             ],
             [
              0.7777777777777778,
              "#fb9f3a"
             ],
             [
              0.8888888888888888,
              "#fdca26"
             ],
             [
              1,
              "#f0f921"
             ]
            ],
            "type": "histogram2d"
           }
          ],
          "histogram2dcontour": [
           {
            "colorbar": {
             "outlinewidth": 0,
             "ticks": ""
            },
            "colorscale": [
             [
              0,
              "#0d0887"
             ],
             [
              0.1111111111111111,
              "#46039f"
             ],
             [
              0.2222222222222222,
              "#7201a8"
             ],
             [
              0.3333333333333333,
              "#9c179e"
             ],
             [
              0.4444444444444444,
              "#bd3786"
             ],
             [
              0.5555555555555556,
              "#d8576b"
             ],
             [
              0.6666666666666666,
              "#ed7953"
             ],
             [
              0.7777777777777778,
              "#fb9f3a"
             ],
             [
              0.8888888888888888,
              "#fdca26"
             ],
             [
              1,
              "#f0f921"
             ]
            ],
            "type": "histogram2dcontour"
           }
          ],
          "mesh3d": [
           {
            "colorbar": {
             "outlinewidth": 0,
             "ticks": ""
            },
            "type": "mesh3d"
           }
          ],
          "parcoords": [
           {
            "line": {
             "colorbar": {
              "outlinewidth": 0,
              "ticks": ""
             }
            },
            "type": "parcoords"
           }
          ],
          "pie": [
           {
            "automargin": true,
            "type": "pie"
           }
          ],
          "scatter": [
           {
            "fillpattern": {
             "fillmode": "overlay",
             "size": 10,
             "solidity": 0.2
            },
            "type": "scatter"
           }
          ],
          "scatter3d": [
           {
            "line": {
             "colorbar": {
              "outlinewidth": 0,
              "ticks": ""
             }
            },
            "marker": {
             "colorbar": {
              "outlinewidth": 0,
              "ticks": ""
             }
            },
            "type": "scatter3d"
           }
          ],
          "scattercarpet": [
           {
            "marker": {
             "colorbar": {
              "outlinewidth": 0,
              "ticks": ""
             }
            },
            "type": "scattercarpet"
           }
          ],
          "scattergeo": [
           {
            "marker": {
             "colorbar": {
              "outlinewidth": 0,
              "ticks": ""
             }
            },
            "type": "scattergeo"
           }
          ],
          "scattergl": [
           {
            "marker": {
             "colorbar": {
              "outlinewidth": 0,
              "ticks": ""
             }
            },
            "type": "scattergl"
           }
          ],
          "scattermapbox": [
           {
            "marker": {
             "colorbar": {
              "outlinewidth": 0,
              "ticks": ""
             }
            },
            "type": "scattermapbox"
           }
          ],
          "scatterpolar": [
           {
            "marker": {
             "colorbar": {
              "outlinewidth": 0,
              "ticks": ""
             }
            },
            "type": "scatterpolar"
           }
          ],
          "scatterpolargl": [
           {
            "marker": {
             "colorbar": {
              "outlinewidth": 0,
              "ticks": ""
             }
            },
            "type": "scatterpolargl"
           }
          ],
          "scatterternary": [
           {
            "marker": {
             "colorbar": {
              "outlinewidth": 0,
              "ticks": ""
             }
            },
            "type": "scatterternary"
           }
          ],
          "surface": [
           {
            "colorbar": {
             "outlinewidth": 0,
             "ticks": ""
            },
            "colorscale": [
             [
              0,
              "#0d0887"
             ],
             [
              0.1111111111111111,
              "#46039f"
             ],
             [
              0.2222222222222222,
              "#7201a8"
             ],
             [
              0.3333333333333333,
              "#9c179e"
             ],
             [
              0.4444444444444444,
              "#bd3786"
             ],
             [
              0.5555555555555556,
              "#d8576b"
             ],
             [
              0.6666666666666666,
              "#ed7953"
             ],
             [
              0.7777777777777778,
              "#fb9f3a"
             ],
             [
              0.8888888888888888,
              "#fdca26"
             ],
             [
              1,
              "#f0f921"
             ]
            ],
            "type": "surface"
           }
          ],
          "table": [
           {
            "cells": {
             "fill": {
              "color": "#EBF0F8"
             },
             "line": {
              "color": "white"
             }
            },
            "header": {
             "fill": {
              "color": "#C8D4E3"
             },
             "line": {
              "color": "white"
             }
            },
            "type": "table"
           }
          ]
         },
         "layout": {
          "annotationdefaults": {
           "arrowcolor": "#2a3f5f",
           "arrowhead": 0,
           "arrowwidth": 1
          },
          "autotypenumbers": "strict",
          "coloraxis": {
           "colorbar": {
            "outlinewidth": 0,
            "ticks": ""
           }
          },
          "colorscale": {
           "diverging": [
            [
             0,
             "#8e0152"
            ],
            [
             0.1,
             "#c51b7d"
            ],
            [
             0.2,
             "#de77ae"
            ],
            [
             0.3,
             "#f1b6da"
            ],
            [
             0.4,
             "#fde0ef"
            ],
            [
             0.5,
             "#f7f7f7"
            ],
            [
             0.6,
             "#e6f5d0"
            ],
            [
             0.7,
             "#b8e186"
            ],
            [
             0.8,
             "#7fbc41"
            ],
            [
             0.9,
             "#4d9221"
            ],
            [
             1,
             "#276419"
            ]
           ],
           "sequential": [
            [
             0,
             "#0d0887"
            ],
            [
             0.1111111111111111,
             "#46039f"
            ],
            [
             0.2222222222222222,
             "#7201a8"
            ],
            [
             0.3333333333333333,
             "#9c179e"
            ],
            [
             0.4444444444444444,
             "#bd3786"
            ],
            [
             0.5555555555555556,
             "#d8576b"
            ],
            [
             0.6666666666666666,
             "#ed7953"
            ],
            [
             0.7777777777777778,
             "#fb9f3a"
            ],
            [
             0.8888888888888888,
             "#fdca26"
            ],
            [
             1,
             "#f0f921"
            ]
           ],
           "sequentialminus": [
            [
             0,
             "#0d0887"
            ],
            [
             0.1111111111111111,
             "#46039f"
            ],
            [
             0.2222222222222222,
             "#7201a8"
            ],
            [
             0.3333333333333333,
             "#9c179e"
            ],
            [
             0.4444444444444444,
             "#bd3786"
            ],
            [
             0.5555555555555556,
             "#d8576b"
            ],
            [
             0.6666666666666666,
             "#ed7953"
            ],
            [
             0.7777777777777778,
             "#fb9f3a"
            ],
            [
             0.8888888888888888,
             "#fdca26"
            ],
            [
             1,
             "#f0f921"
            ]
           ]
          },
          "colorway": [
           "#636efa",
           "#EF553B",
           "#00cc96",
           "#ab63fa",
           "#FFA15A",
           "#19d3f3",
           "#FF6692",
           "#B6E880",
           "#FF97FF",
           "#FECB52"
          ],
          "font": {
           "color": "#2a3f5f"
          },
          "geo": {
           "bgcolor": "white",
           "lakecolor": "white",
           "landcolor": "#E5ECF6",
           "showlakes": true,
           "showland": true,
           "subunitcolor": "white"
          },
          "hoverlabel": {
           "align": "left"
          },
          "hovermode": "closest",
          "mapbox": {
           "style": "light"
          },
          "paper_bgcolor": "white",
          "plot_bgcolor": "#E5ECF6",
          "polar": {
           "angularaxis": {
            "gridcolor": "white",
            "linecolor": "white",
            "ticks": ""
           },
           "bgcolor": "#E5ECF6",
           "radialaxis": {
            "gridcolor": "white",
            "linecolor": "white",
            "ticks": ""
           }
          },
          "scene": {
           "xaxis": {
            "backgroundcolor": "#E5ECF6",
            "gridcolor": "white",
            "gridwidth": 2,
            "linecolor": "white",
            "showbackground": true,
            "ticks": "",
            "zerolinecolor": "white"
           },
           "yaxis": {
            "backgroundcolor": "#E5ECF6",
            "gridcolor": "white",
            "gridwidth": 2,
            "linecolor": "white",
            "showbackground": true,
            "ticks": "",
            "zerolinecolor": "white"
           },
           "zaxis": {
            "backgroundcolor": "#E5ECF6",
            "gridcolor": "white",
            "gridwidth": 2,
            "linecolor": "white",
            "showbackground": true,
            "ticks": "",
            "zerolinecolor": "white"
           }
          },
          "shapedefaults": {
           "line": {
            "color": "#2a3f5f"
           }
          },
          "ternary": {
           "aaxis": {
            "gridcolor": "white",
            "linecolor": "white",
            "ticks": ""
           },
           "baxis": {
            "gridcolor": "white",
            "linecolor": "white",
            "ticks": ""
           },
           "bgcolor": "#E5ECF6",
           "caxis": {
            "gridcolor": "white",
            "linecolor": "white",
            "ticks": ""
           }
          },
          "title": {
           "x": 0.05
          },
          "xaxis": {
           "automargin": true,
           "gridcolor": "white",
           "linecolor": "white",
           "ticks": "",
           "title": {
            "standoff": 15
           },
           "zerolinecolor": "white",
           "zerolinewidth": 2
          },
          "yaxis": {
           "automargin": true,
           "gridcolor": "white",
           "linecolor": "white",
           "ticks": "",
           "title": {
            "standoff": 15
           },
           "zerolinecolor": "white",
           "zerolinewidth": 2
          }
         }
        },
        "title": {
         "text": "Klasteryzacja HDBSCAN TF_IDF"
        },
        "xaxis": {
         "anchor": "y",
         "autorange": true,
         "domain": [
          0,
          1
         ],
         "range": [
          -3.7194351636956595,
          3.109744735915508
         ],
         "title": {
          "text": "Dim_1"
         },
         "type": "linear"
        },
        "yaxis": {
         "anchor": "x",
         "autorange": true,
         "domain": [
          0,
          1
         ],
         "range": [
          -3.5345858694280237,
          2.7089728475774377
         ],
         "title": {
          "text": "Dim_2"
         },
         "type": "linear"
        }
       }
      },
      "image/png": "[encoded data removed]",
      "text/html": [
       "<div>                            <div id=\"b29d0c32-9d5a-4237-a748-8a0f42e2e8f9\" class=\"plotly-graph-div\" style=\"height:525px; width:100%;\"></div>            <script type=\"text/javascript\">                require([\"plotly\"], function(Plotly) {                    window.PLOTLYENV=window.PLOTLYENV || {};                                    if (document.getElementById(\"b29d0c32-9d5a-4237-a748-8a0f42e2e8f9\")) {                    Plotly.newPlot(                        \"b29d0c32-9d5a-4237-a748-8a0f42e2e8f9\",                        [{\"customdata\":[[\"Dla mnie faworytem do tytu\\u0142u b\\u0119dzie Cracovia. Zobaczymy, czy typ si\\u0119 sprawdzi.\"],[\"@anonymized_account @anonymized_account Brawo ty Daria kibic ma by\\u0107 na dobre i z\\u0142e\"],[\"@anonymized_account @anonymized_account Super, polski premier sk\\u0142ada kwiaty na grobach kolaborant\\u00f3w. Ale doczekali\\u015bmy czas\\u00f3w.\"],[\"@anonymized_account @anonymized_account Musi. Innej drogi nie mamy.\"],[\"Odrzut natychmiastowy, kwa\\u015bna mina, mam problem\"],[\"Jaki on by\\u0142 fajny xdd pami\\u0119tam, \\u017ce sp\\u00f3\\u017ani\\u0142am si\\u0119 na jego pierwsze zaj\\u0119cia i to sporo i za kar\\u0119 kaza\\u0142 mi usi\\u0105\\u015b\\u0107 w pierwszej \\u0142awce XD\"],[\"@anonymized_account No nie ma u nas szcz\\u0119\\u015bcia \\ud83d\\ude09\"],[\"@anonymized_account Dawno kogo\\u015b tak wrednego nie widzia\\u0142am xd\"],[\"@anonymized_account @anonymized_account Zaleg\\u0142o\\u015bci by\\u0142y, ale wa\\u017cne czy by\\u0142y wezwania do zap\\u0142aty z kt\\u00f3rych si\\u0119 klub nie wywi\\u0105za\\u0142.\"],[\"@anonymized_account @anonymized_account @anonymized_account Gdzie jest @anonymized_account . Brudzi\\u0144ski jeste\\u015b k\\u0142amc\\u0105 i marnym kutasem @anonymized_account\"],[\"@anonymized_account @anonymized_account  no mam nadzieje !!:)\"],[\"@anonymized_account @anonymized_account Mo\\u017ce gustowa\\u0142 w starszych paniach ;-)\"],[\"@anonymized_account Zostawi\\u0142am tam 3 lata temu \\\\\\\"Notatki na mankietach\\\\\\\". Musz\\u0119 si\\u0119 wr\\u00f3ci\\u0107.\"],[\"@anonymized_account Oprawa do Krzysia M. Ps Pinokio -\\\\n\\\\\\\" mog\\u0142e\\u015b by\\u0107 gangsterem a zosta\\u0142e\\u015b 3 ligowym frajerem \\\\\\\"\\ud83d\\ude00\"],[\"@anonymized_account @anonymized_account Znowu b\\u0119dzie komunikat o polskich piratach drogowych w S\\u0142owacji.\"],[\"@anonymized_account M\\u00f3wi cz\\u0142owiek, kt\\u00f3ry chcia\\u0142 na\\u0142o\\u017cy\\u0107 sankcje na Polsk\\u0119. Gratulacje. #Niepodlegla #11lisopada\"],[\"RT @anonymized_account @anonymized_account M\\u00f3wi cz\\u0142owiek, kt\\u00f3ry chcia\\u0142 na\\u0142o\\u017cy\\u0107 sankcje na Polsk\\u0119. Gratulacje. #Niepodlegla #11lisopada\"],[\"@anonymized_account @anonymized_account o jakim zachowaniu \\\\\\\"fer\\\\\\\" m\\u00f3wisz skoro ukrywa\\u0142 si\\u0119 z tym \\u017ce podpisa\\u0142 kontrakt z Legi\\u0105 ? Mo\\u017cesz rozwin\\u0105\\u0107 ?\"],[\"@anonymized_account @anonymized_account Joanno! Po raz pierwszy si\\u0119 z pani\\u0105 zgadzam.\\ud83d\\ude01\\ud83d\\ude01\\ud83d\\ude01\\ud83d\\ude01\\ud83d\\ude01\"],[\"Monster block, monster block, monster block... \\ud83d\\ude01\"],[\"@anonymized_account Czy\\u017cby Madryt bra\\u0142 przyk\\u0142ad z Warszawy?\"],[\"@anonymized_account @anonymized_account No to Sko\\u0144czmy kurwa z tym wersalem w j...ej szczujni\"],[\"@anonymized_account Nie wiem, najcz\\u0119\\u015bciej graj\\u0105 na zmian\\u0119 na prawym skrzydle.\"],[\"@anonymized_account No to Pan i koledzy macie z g\\u0142owy. Przesrane tak reszta \\u017cycia pod g\\u00f3rk\\u0119.\"],[\"@anonymized_account A ja obstawiam, \\u017ce p\\u00f3jd\\u0105 bardziej w stron\\u0119 tego, \\u017ce mo\\u017ce si\\u0119 powt\\u00f3rzy\\u0107 sytuacja z Meresi\\u0144skim.\"],[\"Aaaaa Kuba mi odpisa\\u0142 hehehehehe\"],[\"Asysta Kacpra Falona i 3:1 dla Widzewa. Witamy Widzew w II lidze. No i w sumie fajnie.\"],[\"@anonymized_account gwizdali na niego ? Bo nie ogl\\u0105da\\u0142em meczu :)\"],[\"@anonymized_account @anonymized_account ale mo\\u017ce w ko\\u0144cu dojdzie do wniosku \\u017ce skoro go klub ju\\u017c nie jara to lepiej go sprzeda\\u0107 i mie\\u0107 po k\\u0142opocie\"],[\"@anonymized_account @anonymized_account Hej halo, o czym to jest bo mam na swojej li\\u015bcie i nie wiem czy warto??\"],[\"doros\\u0142e \\u017cycie nie jest dla mnie\"],[\"RT @anonymized_account doros\\u0142e \\u017cycie nie jest dla mnie\"],[\"@anonymized_account Cze\\u015b\\u0107 Paderewski, cz\\u0119\\u015b\\u0107 opalaj\\u0105ce si\\u0119 nogi\"],[\"@anonymized_account @anonymized_account @anonymized_account Uprowad\\u017a gumow\\u0105 kaczuszk\\u0119. Zacznie negocjowa\\u0107.\"],[\"@anonymized_account Ju\\u017c wiem ze si\\u0119 nie dogadamy XD\"],[\"@anonymized_account Ale to w nowym przek\\u0142adzie, jeszcze nie czyta\\u0142am.\"],[\"@anonymized_account Lahoza mi nigdy nie szkoda. Wol\\u0119, jak na pierwszym planie s\\u0105 pi\\u0142karze, a nie s\\u0119dzia :-)\"],[\"@anonymized_account @anonymized_account Sprawd\\u017a ch\\u0142opie w s\\u0142owniku co oznacza s\\u0142owo , kt\\u00f3rego u\\u017cywasz a potem si\\u0119 odzywaj.\"],[\"@anonymized_account zmie\\u0144cie se nazwe na profilu na insta bo si\\u0119 nazywacie Grzegorz O\\u017c\\u00f3g...\"],[\"#Woronicza 17 pose\\u0142 Halicki oburzony za Bolka.Naprawd\\u00e8 taki t\\u0119py czy tylko udaje idiot\\u0119?\"],[\"\\u201eTa aktorka ma 20 lat?!?! Jaka stara!!\\u201d \\\\n\\\\nChyba musimy si\\u0119 ju\\u017c do grobu pakowa\\u0107 roczniku 98 \\ud83d\\ude02\\ud83d\\udc4c\\ud83c\\udffb\"],[\"RT @anonymized_account \\u201eTa aktorka ma 20 lat?!?! Jaka stara!!\\u201d \\\\n\\\\nChyba musimy si\\u0119 ju\\u017c do grobu pakowa\\u0107 roczniku 98 \\ud83d\\ude02\\ud83d\\udc4c\\ud83c\\udffb\"],[\"Ahnherr der Schtw\\u00e4tzer wykonawcy Von Spar\\\\nhttps:\\u002f\\u002ft.co\\u002fSOtenSqIr0\"],[\"@anonymized_account @anonymized_account @anonymized_account Bierze cie cie pod chuj a ty sie produkujesz\"],[\"@anonymized_account @anonymized_account @anonymized_account Jak narazie to masz przywidzenia co nie zmienia faktu \\u017ce ca\\u0142y czas jeste\\u015b idiot\\u0105.\"],[\"@anonymized_account Kiedy do licznika dojd\\u0105 bilety z fan clubow?\"],[\"@anonymized_account A kto prowadzi zesp\\u00f3\\u0142 ? B\\u0119dzie podany sk\\u0142ad z tego meczu ?\"],[\"@anonymized_account G\\u0142\\u00f3wny pow\\u00f3d to brak kasy, trzeba da\\u0107 bogatym 500+,300+ i by\\u0107 bez godno\\u015bci i honoru\"],[\"Zrobi\\u0142am takie Cv \\u017ce ohohohoho\"],[\"\\u015awi\\u0119towa\\u0107 uchwalenie Konstytucji 3 maja i \\u0142ama\\u0107 Konstytucj\\u0119 RP obecnie obowi\\u0105zuj\\u0105c\\u0105?!\\\\n#3Maja - dzie\\u0144 hipokryzji.\"],[\"RT @anonymized_account \\u015awi\\u0119towa\\u0107 uchwalenie Konstytucji 3 maja i \\u0142ama\\u0107 Konstytucj\\u0119 RP obecnie obowi\\u0105zuj\\u0105c\\u0105?!\\\\n#3Maja - dzie\\u0144 hipokryzji.\"],[\"@anonymized_account @anonymized_account nie gra bo jest Jovanovi\\u0107 i Guilherme\"],[\"@anonymized_account O tej godz. sporty szanuj cia\\u0142o\"],[\"Nikt nigdy nie rozsiewa\\u0142 takiego smrodu jak @anonymized_account\"],[\"Nikt ci\\u0119 tak dobrze nie ubierze jak matka chrzestna dziecino\"],[\"@anonymized_account @anonymized_account Nikt tutaj nie chce plagiaciarzy kopiuj\\u0105cych brytyjskich pisarzy.\"],[\"@anonymized_account A ksi\\u0105dz co bierze 12 ty\\u015b za spowied\\u017a przez tel?\"],[\"@anonymized_account Ko\\u0144 te\\u017c ma du\\u017c\\u0105 g\\u0142ow\\u0119. Tylko wydaje mi si\\u0119, \\u017ce jest bardziej inteligentny ni\\u017c Karczewski\"],[\"@anonymized_account Pod i g\\u00f3r\\u0119  pod wiatr to wi\\u0119cej ni\\u017c k2\"],[\"@anonymized_account S\\u0119dziowie VAR nie decyduj\\u0105 o karnych \\ud83d\\ude09\"],[\"Jaki\\u015b program na TVN, nauka jazdy za kierownic\\u0105 babcia \\u015bpiewa \\\\\\\"jad\\u0105 jad\\u0105 jad\\u0105 \\u015bwiry jad\\u0105\\\\\\\" jad\\u0105 jad\\u0105 jad\\u0105 \\u015bwiry jad\\u0105\\\\\\\"\"],[\"@anonymized_account ta obecna Zary Larsson czy Pitbulla z ostatnich M\\u015a nie by\\u0142y z\\u0142e :)\"],[\"(280 znak\\u00f3w w jednym zdaniu \\ud83d\\ude48)\"],[\"@anonymized_account po wahaniach wagi Kwacha wznosz\\u0119 \\u017ce to mo\\u017ce by\\u0107 kapu\\u015bcianka\"],[\"@anonymized_account @anonymized_account w tym sezonie razem z pucharem 12 meczy i 1 gol.M\\u00f3jta wi\\u0119cej strzeli\\u0142.Sorry patrze w statystyki.\"],[\"@anonymized_account @anonymized_account @anonymized_account fina\\u0142y tblk by\\u0142y przyzwoicie s\\u0119dziowane ?! Aha...\"],[\"@anonymized_account Taki mia\\u0142am w\\u0142a\\u015bnie, teraz kupi\\u0142am z catrice\"],[\"@anonymized_account to ich wymie\\u0144.W czym problem ?\"],[\"@anonymized_account @anonymized_account @anonymized_account a ja mam ciepe\\u0142ko jak si\\u0119 przytule do swoich kot\\u00f3w :)\"],[\"@anonymized_account W\\u0142a\\u015bnie. Ilu! Najpierw odpowiedzmy sobie ma to pytanie,a potem dziwmy si\\u0119 zwyci\\u0119stwu Zdanowskiej\"],[\"@anonymized_account W jego przypadku statystyka przebiegni\\u0119tych kilometr\\u00f3w nie ma znaczenia. Czy gra zajebi\\u015bcie, czy fatalnie, biega tyle samo.\"],[\"@anonymized_account @anonymized_account 100%, Mann te\\u017c mia\\u0142 pe\\u0142ne prawo\"],[\"@anonymized_account Ko\\u0144czy\\u0142e\\u015b ju\\u017c kilka razy \\ud83d\\ude02\"],[\"@anonymized_account Dzisiaj zajmujemy si\\u0119 WARiatem Krystyn\\u0105 ciekawe czy b\\u0119dzie p\\u0142aka\\u0142?\"],[\"@anonymized_account @anonymized_account @anonymized_account @anonymized_account A co b\\u0119dzie jak Kuba nigdy niewroci?\"],[\"@anonymized_account Tym w sejmie te\\u017c? Banda hipokryt\\u00f3w i z\\u0142odziei.\"],[\"W ka\\u017cdej z czterech grup b\\u0119dzie walka o zwyci\\u0119stwo premiowane awansem do CLJ. Bardzo potrzebne rozwi\\u0105zanie, brawo.\"],[\"@anonymized_account Tak si\\u0119 pozna\\u0142am z moim ch\\u0142opakiem \\ud83d\\ude02 czasami warto\"],[\"@anonymized_account nelly furtado a tytu\\u0142 forco czy cos takiego\"],[\"@anonymized_account M\\u00f3w prawd\\u0119, kto was skrzywdzi\\u0142\"],[\"@anonymized_account jestem tu od 2013 xd\"],[\"@anonymized_account Ta kadra to rocznik 2002\"],[\"Posiada sensor CGM , ci\\u0105g\\u0142y monitoring glikemii, w ko\\u0144cu.\"],[\"Jeszcze \\u017caden Polak nie wyst\\u0105pi\\u0142 w meczu gwiazd NBA, nie licz\\u0105c Mietka Paciaciaka ;) Pom\\u00f3\\u017cmy Marcinowi Gortatowi by\\u0107 1 @anonymized_account #NBAVOTE\"],[\"RT @anonymized_account Jeszcze \\u017caden Polak nie wyst\\u0105pi\\u0142 w meczu gwiazd NBA, nie licz\\u0105c Mietka Paciaciaka ;) Pom\\u00f3\\u017cmy Marcinowi Gortatowi by\\u0107 1\\u2026\"],[\"@anonymized_account No kurwa my\\u015bla\\u0142em \\u017ce na Podlasiu\"],[\"@anonymized_account @anonymized_account Tak, to nawet lepsze rozwi\\u0105zanie.\"],[\"@anonymized_account @anonymized_account Ko\\u0144 by si\\u0119 u\\u015bmia\\u0142, TVN24 i TVN wolne media? Bardziej perfidnego \\u0142garstwa nie s\\u0142ysza\\u0142em.. \\ud83e\\udd14\"],[\"RT @anonymized_account @anonymized_account @anonymized_account Ko\\u0144 by si\\u0119 u\\u015bmia\\u0142, TVN24 i TVN wolne media? Bardziej perfidnego \\u0142garstwa nie s\\u0142ysza\\u0142em.. \\ud83e\\udd14\"],[\"@anonymized_account Gdzie ja wtedy by\\u0142am? ;-)\"],[\"@anonymized_account @anonymized_account @anonymized_account Midze sie nudzi\\u0142o i se co\\u015b na kolanie napisa\\u0142 i macie sensacje\"],[\"@anonymized_account Dzisiaj wr\\u00f3ci\\u0142 do trening\\u00f3w, czyli zd\\u0105\\u017cyli \\ud83d\\ude09\"],[\"@anonymized_account @anonymized_account @anonymized_account @anonymized_account Nie wiem, zerknij na 90minut\"],[\"@anonymized_account @anonymized_account Z mot\\u0142ochem nie dyskutuj\\u0119 tylko daje bany. A Pani @anonymized_account gratuluj\\u0119 obro\\u0144cy.\"],[\"@anonymized_account mo\\u017cesz te\\u017c zawsze po prostu zapyta\\u0107 kiedy si\\u0119 urodzi\\u0142am. Albo wpisa\\u0107 hasztag #100latKasiaPawlak ;-)\"],[\"@anonymized_account ale z kategoriami moim zdaniem przesadzaj\\u0105.Sponsor roku, serce, impreza ? Bez jaj\"],[\"@anonymized_account Prezes si\\u0119 cieszy ze Wisla odpad\\u0142a bo w razie fina\\u0142u Legia-Wisla zn\\u00f3w by musia\\u0142 fina\\u0142 odwo\\u0142ywa\\u0107\"],[\"Bratowa wys\\u0142a\\u0142a mi zdj\\u0119cie bratanicy z rozpocz\\u0119cia roku, idzie do pierwszej klasy, biedactwo nie wie co j\\u0105 czeka\"],[\"@anonymized_account szybkie pytanie do @anonymized_account R\\u0119ka Sadloka by\\u0142a zagraniem umy\\u015blnym ?\"],[\"@anonymized_account Dzie\\u0144 w kt\\u00f3rym Abidal sprzeda\\u0142 i kupi\\u0142 A.Vidala \\ud83d\\ude09\"],[\"@anonymized_account R\\u00f3wnie dobrze mo\\u017cna gola straci\\u0107 :)\"],[\"@anonymized_account Chorwaci przer\\u017cn\\u0105 w ko\\u0144c\\u00f3wce dogrywki, wiadomo.\"],[\"@anonymized_account Nasze dzieci b\\u0119d\\u0105 zdegustwani, by\\u0142 taki PiS, taki @anonymized_account , historia populizmu i g\\u0142upoty w latach 2015-2019, margines\"],[\"@anonymized_account O, my\\u015bla\\u0142am, \\u017ce nikt ju\\u017c nie u\\u017cywa \\\\\\\"mnie\\\\\\\" tylko \\\\\\\"mi\\\\\\\".\"],[\"@anonymized_account @anonymized_account @anonymized_account Na nowym stadionie West Hamu te\\u017c to widzia\\u0142em.\"],[\"@anonymized_account @anonymized_account zawodnik w sezonie mo\\u017ce gra\\u0107 w barwach dw\\u00f3ch klub\\u00f3w wi\\u0119c jeszcze nic straconego :)\"],[\"ciekawe czy faktycznie jest taki zak\\u0142ad bo je\\u015bli tak to nie\\u017ale XD\"],[\"@anonymized_account Hehe, do gazu, hehe jeszcze jakie\\u015b emotikony wrzu\\u0107\"],[\"Qrwa!! I niech mi nikt nie m\\u00f3wi, \\u017ce czary to jaki\\u015b zabobon!! Ch\\u0142opaki maj\\u0105 sztywne nogi!\"],[\"Od 01.10.2018 ka\\u017cde sprawozdanie finansowe w formie elektronicznej, zgodne ze struktur\\u0105 jpk\"],[\"Na TVP Krak\\u00f3w pad\\u0142a w\\u0142a\\u015bnie informacja \\u017ce rozmowy z potencjalnym kupcem Wis\\u0142y prze\\u0142o\\u017cony z dzi\\u015b na jutro.\"],[\"RT @anonymized_account Na TVP Krak\\u00f3w pad\\u0142a w\\u0142a\\u015bnie informacja \\u017ce rozmowy z potencjalnym kupcem Wis\\u0142y prze\\u0142o\\u017cony z dzi\\u015b na jutro.\"],[\"@anonymized_account NIECH JESZCZE DADZ\\u0104 LEKTORA I NA G\\u0141\\u00d3WNA POSTA\\u0106 M\\u00d3WI\\u0104 NADZIEJA\"],[\"RT @anonymized_account @anonymized_account NIECH JESZCZE DADZ\\u0104 LEKTORA I NA G\\u0141\\u00d3WNA POSTA\\u0106 M\\u00d3WI\\u0104 NADZIEJA\"],[\"@anonymized_account Nie no ludzie, \\u017ceby robi\\u0107 artyku\\u0142 na temat jednego tweeta ?...\"],[\"@anonymized_account Jak powiem, \\u017ce pierwsze s\\u0142ysze, to b\\u0119dzie kompromitacja czy nie? \\ud83d\\ude04\"],[\"@anonymized_account Usu\\u0144 konto, wytrze\\u017awiej buduj od nowa\"],[\"@anonymized_account @anonymized_account @anonymized_account Sekta, cha, cha, cha, obud\\u017a si\\u0119 z hipnozy, jeste\\u015b bolszewikiem\"],[\"Nie wstan\\u0119 kurde nie ma opcji\"],[\"@anonymized_account @anonymized_account Spokojnie, u mnie te\\u017c Kaczarawa na kapitanie + Cvijanovi\\u0107 :)\"],[\"niech \\u0142adny ch\\u0142opiec z kr\\u0119conymi w\\u0142osami do mnie napisze: jutro, zaraz, teraz\"],[\"RT @anonymized_account niech \\u0142adny ch\\u0142opiec z kr\\u0119conymi w\\u0142osami do mnie napisze: jutro, zaraz, teraz\"],[\"@anonymized_account im kto\\u015b gorzej widzi, d\\u0142u\\u017cej musi czeka\\u0107, cho\\u0107 ten, kt\\u00f3ry widzi lepiej, d\\u0142u\\u017cej poradzi sobie bez okular\\u00f3w. \\ud83d\\ude28\"],[\"@anonymized_account Oj, no to powodzenia! Co tam b\\u0119dziesz musia\\u0142a robi\\u0107? \\ud83e\\udd2d\"],[\"@anonymized_account @anonymized_account @anonymized_account @anonymized_account Chyba nie, Marcin m\\u00f3wi\\u0142 co\\u015b o '89.\"],[\"@anonymized_account Przeczytaj mojego kolejnego twitta to zobaczysz, \\u017ce nie umkn\\u0119\\u0142o i co s\\u0105dze o poziomie tego meczu.\"],[\"@anonymized_account Tylko nie w dup\\u0119, to dla niekt\\u00f3rych z nich by\\u0142aby przyjemno\\u015b\\u0107.\"],[\"@anonymized_account @anonymized_account Wida\\u0107 chc\\u0105 wiecej polskich mord gotujacych konin\\u0119\"],[\"@anonymized_account No to jak si\\u0119 przegrywa ca\\u0142y czas to lepiej przesta\\u0107 gra\\u0107 :)\"],[\"@anonymized_account @anonymized_account @anonymized_account Widz\\u0119, \\u017ce sami si\\u0119 znajduj\\u0105.\"],[\"@anonymized_account Napewno mam niezaktualizowanego mo\\u017ce dlatego\"],[\"@anonymized_account @anonymized_account Smokowski m\\u00f3wi\\u0142 \\u017ce Wis\\u0142a ma pi\\u0142karzy 3 sortu, a Wieszczycki deprecjonowa\\u0142 dobr\\u0105 prace Kiko\"],[\"wi\\u0119c zaczynam ogl\\u0105da\\u0107 Do wszystkich ch\\u0142opc\\u00f3w, kt\\u00f3rych kocha\\u0142am bo wszyscy o tym m\\u00f3wi\\u0105 i a\\u017c chc\\u0119 to sprawdzi\\u0107\"],[\"@anonymized_account Ban,ban i jeszcze raz ban! Co za prymitywne dno!\"],[\"@anonymized_account @anonymized_account Jasne, bo debile ogl\\u0105daj\\u0105cy tvpis p\\u0142acz\\u0105 tylko na m jak mi\\u0142o\\u015b\\u0107\"],[\"@anonymized_account @anonymized_account @anonymized_account W stop klatkach wida\\u0107 ze jak by to by\\u0142o po stronie drugiej (legi) to karny by by\\u0142\"],[\"Zdrady stanu to Donald Tusk dopu\\u015bci\\u0142 si\\u0119 ju\\u017c w 2010 r kiedy doda\\u0142 Rosjanom \\u015bledztwo w sprawie katastrofy smole\\u0144skiej.\"],[\"@anonymized_account Na marginesie jestem c\\u00f3rk\\u0105 biskupa\"],[\"@anonymized_account Przejdzie historii: jak tworzy\\u0107 k\\u0142amstwo w dobie powszechnego dost\\u0119pu do informacji\"],[\"@anonymized_account Od ok 8 lat u\\u017cywam kolejnych modeli HTC i nigdy mnie nie zawiod\\u0142y.\"],[\"@anonymized_account @anonymized_account Ty si\\u0119 oszu\\u015bcie i k\\u0142amco od nas odpierdol. My sobie damy rad\\u0119 bez twoich k\\u0142amstw\"],[\"@anonymized_account @anonymized_account @anonymized_account odwa\\u017cne s\\u0142owa jak na legioniste! \\ud83d\\ude02\\ud83d\\ude02\\ud83d\\ude02\"],[\"@anonymized_account @anonymized_account Za\\u0142atwi to jedno g\\u0142osowanie w sejmie i \\u017cadne demonstracje nie b\\u0119d\\u0105 mia\\u0142y na to wp\\u0142ywu.\"],[\"@anonymized_account @anonymized_account @anonymized_account Krzy\\u017c celtycki w Irlandii debilu ma kompletnie inne znaczenie ni\\u017c u neofaszyst\\u00f3w.\"],[\"@anonymized_account Co\\u015b w tym jest,bo ja te\\u017c\\ud83d\\ude01\\ud83d\\ude01\\ud83d\\ude01. I jeszcze bym doda\\u0142 Dominisi\\u0119 W. kt\\u00f3rej infantylizm mnie totalnie os\\u0142abia.\"],[\"@anonymized_account @anonymized_account Gdzie oni znajduj\\u0105 takich dupk\\u00f3w\"],[\"m\\u00f3j stres zacz\\u0105\\u0142 si\\u0119 stresowa\\u0107 swoim w\\u0142asnym stresem, kt\\u00f3re r\\u00f3wnie\\u017c si\\u0119 stresuje ja pierdole do\\u015b\\u0107\"],[\"RT @anonymized_account m\\u00f3j stres zacz\\u0105\\u0142 si\\u0119 stresowa\\u0107 swoim w\\u0142asnym stresem, kt\\u00f3re r\\u00f3wnie\\u017c si\\u0119 stresuje ja pierdole do\\u015b\\u0107\"],[\"@anonymized_account @anonymized_account @anonymized_account @anonymized_account @anonymized_account dojdzie Brlek, Stili\\u0107 wr\\u00f3ci do formy, obcokrajowcy si\\u0119 zaaklimatyzuj\\u0105 i bedzie dobrze\\ud83d\\udcaa\"],[\"@anonymized_account @anonymized_account @anonymized_account Brawo grzechu za Tw\\u00f3j powr\\u00f3t do \\u017cywych\\\\n W Rosji poka\\u017c swoj\\u0105 moc\"],[\"@anonymized_account @anonymized_account @anonymized_account @anonymized_account Wonder!! Chyba ci\\u0119....\\ud83d\\ude01\\ud83d\\ude01\\ud83d\\ude01\\ud83d\\ude01\\ud83d\\ude01.No dobra. Na jaki?\\ud83d\\ude01\\ud83d\\ude01\\ud83d\\ude01\"],[\"@anonymized_account Ja mam uczulenie na dobr\\u0105 zmian\\u0119, ale to d\\u0142u\\u017csza historiac\"],[\"@anonymized_account R\\u00f3\\u017cnicy nie ma, bo pisali wtedy, \\u017ce nie mo\\u017cna zsy\\u0142a\\u0107 zawodnik\\u00f3w do rezerw ;P\"],[\"@anonymized_account \\u017bal ci biedaku??? Gdyby nie Kaczy\\u0144ski to by je twoi przyjaciele z PO rozkradl\"],[\"RT @anonymized_account @anonymized_account \\u017bal ci biedaku??? Gdyby nie Kaczy\\u0144ski to by je twoi przyjaciele z PO rozkradl\"],[\"Dobry dzie\\u0144 na przypomnienie sobie genezy gwiazdek na fladze #UE #deklaracjaRzymska\"],[\"Sekta kurwa, jaka\\u015b niepoj\\u0119ta rado\\u015b\\u0107, ka\\u017cde konto pisdzielskie tylko o jednym\"],[\"@anonymized_account @anonymized_account Nie wierz\\u0119, bez za\\u015bwiadczenia od proboszcza?\"],[\"@anonymized_account I chyba wtedy by\\u015b niezaprzeczyla?\"],[\"@anonymized_account Tak naprawd\\u0119 czy b\\u0119dziemy w spadkowej czy mistrzowskiej to i tak czekaj\\u0105 nas sparingi.\"],[\"@anonymized_account Jeba\\u0107, jeba\\u0107, nic si\\u0119 nie ba\\u0107.\"],[\"@anonymized_account Jakiej pracy, ty ju\\u017c pajacu nie wiesz na czym si\\u0119 lansowa\\u0107. Sejm nie pracuje.\"],[\"Kilogramy rozmna\\u017caj\\u0105 si\\u0119 przez p\\u0105czkowanie \\ud83d\\ude23\\ud83d\\ude16\\\\n#T\\u0142ustyCzwartek\"],[\"@anonymized_account @anonymized_account Nie dzia\\u0142aj\\u0105 i lepiej dzia\\u0142a\\u0107 szybko bo klienci nie maja dost\\u0119pu do \\u015brodk\\u00f3w na kontach\"],[\"@anonymized_account @anonymized_account @anonymized_account jutro walczycie ? Normalnie rycerze ! A gdzie byli\\u015bcie wcze\\u015bniej ? A zapomnia\\u0142em \\u017ce nie o L chodzi\\u0142o\"],[\"@anonymized_account Ale to g\\u0142upie, rdzennie g\\u0142upie, bardziej g\\u0142upie ju\\u017c by\\u0107 nie mo\\u017ce\"],[\"@anonymized_account Szczeg\\u00f3lnie Vestenicky.Podczas wypo\\u017cyczenia nic nie pokaza\\u0142 a go wykupili za 500 tys euro \\ud83d\\ude02\\ud83d\\udc4f\"],[\"@anonymized_account Ju\\u017c si\\u0119 boj\\u0119. Postraszy mnie Pan kolegami narodowcami?\"],[\"@anonymized_account Co nie by\\u0142o blisko? Bo nie rozumiem.\"],[\"@anonymized_account @anonymized_account A od kiedy komentatorzy na Sky to wyrocznia?\"],[\"@anonymized_account @anonymized_account Nazwisko tego babska\\ud83d\\ude01\\ud83d\\ude01\\ud83d\\ude01\\ud83d\\ude01. Bo Wczoraj by\\u0142 na MO\\ud83d\\ude01\\ud83d\\ude01\\ud83d\\ude00\"],[\"@anonymized_account Zbiera si\\u0119 do kontrataku, dla swojego pryncypala p\\u00f3jdzie w b\\u00f3j, patrityczna dusza,  co nie @anonymized_account ?\"],[\"@anonymized_account a w kolejnych fajnie jakby gra\\u0142 na lewej za Sadloka @anonymized_account\"],[\"@anonymized_account by\\u0142em w pracy ale zaraz odpalam meczyk na yt.Dzi\\u0119ki za walke !!!!:)\"],[\"@anonymized_account @anonymized_account jakie 0 motywacji ? Jest chyba r\\u00f3\\u017cnica mie\\u0107 medal albo go niemie\\u0107\"],[\"@anonymized_account Niby nie macie czy niby nie mit? \\ud83d\\ude02\\ud83d\\ude02\"],[\"@anonymized_account Ja bym by\\u0142 ostro\\u017cny\\ud83d\\ude01\\ud83d\\ude01\\ud83d\\ude01A jak ma na imi\\u0119?\"],[\"@anonymized_account @anonymized_account @anonymized_account Tak to jest jak kto\\u015b nie wie do kt\\u00f3rego lekarza i\\u015b\\u0107 najpierw.\"],[\"@anonymized_account @anonymized_account No nie dziwie si\\u0119 w sumie. Dobrze, \\u017ce tylko raz dzwoni\\u0142\"],[\"@anonymized_account @anonymized_account Wasz \\u015bwiat? To si\\u0119 w nim zamknijcie i nie wystawiajcie nosa.\"],[\"@anonymized_account @anonymized_account Przyjaci\\u00f3\\u0142 to niech on sobie szuka za swoje prywatne pieni\\u0105dze. I niech robi z siebie idiot\\u0119 na w\\u0142asny rachunek.\"],[\"imagine sie komus podobac??? ze ktos sie stara o TWOJA uwage??? can\\u2019t relate\"],[\"RT @anonymized_account imagine sie komus podobac??? ze ktos sie stara o TWOJA uwage??? can\\u2019t relate\"],[\"@anonymized_account @anonymized_account @anonymized_account a Portugalia jak zagra\\u0142a ?\"],[\"Pierwsze zdanie: \\\\\\\"Paczka papieros\\u00f3w kosztuje 4 miliardy marek\\\\\\\".\\\\n#JajoW\\u0119\\u017ca teraz na @anonymized_account\"],[\"@anonymized_account @anonymized_account No to tym bardziej :)\"],[\"@anonymized_account Ja przynajmniej mam profilowe i nie chowam si\\u0119 za awatarem. Ale bohater\\u00f3w MW na to nie sta\\u0107 i w sumie nic w tym dziwnego.\"],[\"@anonymized_account Czego si\\u0119 spodziewa\\u0107 po cz\\u0142onku \\u017cydowskiego ameryka\\u0144skiego lobby. Lata na kolanach przed \\u017cydami zrobi\\u0142o swoje.\"],[\"RT @anonymized_account @anonymized_account Czego si\\u0119 spodziewa\\u0107 po cz\\u0142onku \\u017cydowskiego ameryka\\u0144skiego lobby. Lata na kolanach przed \\u017cydami zrobi\\u0142o swoj\\u2026\"],[\"@anonymized_account Co ty cz\\u0142owieku pijesz z rana?\"],[\"@anonymized_account @anonymized_account pewnie narz\\u0105dy te\\u017c wkr\\u00f3tce sprzeda :D\"],[\"@anonymized_account w zesz\\u0142ym sezonie to samo pisa\\u0142e\\u015b ?\"],[\"Picie to przysz\\u0142o\\u015b\\u0107, pi\\u0119kna i nieznana, szukajcie zapomnienia, pr\\u00f3bujcie r\\u00f3\\u017cnych trunk\\u00f3w, \\u0142\\u0105czcie \\u015brodki psychoaktywne, powodzenia\"],[\"@anonymized_account Ale ty jeste\\u015b \\u017cenuj\\u0105cy. Dno metr mu\\u0142u.\"],[\"@anonymized_account spoko, nigdy nie daje unfollow aktywnym ludziom, tylko tym, kt\\u00f3rzy nie pisz\\u0105 nic od miesi\\u0119cy albo dali mi unfollow\"],[\"\\\\\\\"- Co to jest tajmlajn na fejsie?\\\\n- Zmarszczki\\\\\\\".\"],[\"@anonymized_account mo\\u017ce trzeba ch\\u0142opak\\u00f3w na crossfit zabiera\\u0107 ?:)\"],[\"@anonymized_account znacznie bli\\u017cej jest mi muzu\\u0142manin  czy indus, ni\\u017c katolicka, \\u0142ysa swo\\u0142ocz ze wschodu europy, do tego rasistowska\"],[\"Dzisiaj o 18.00 Strefa Kibica w Radiu Akadera. Zapraszamy.\"],[\"@anonymized_account Nie powinno by\\u0107 \\u017ale o ile si\\u0119 utrzymamy :P\"],[\"@anonymized_account Spokojnie trzeba ta pora\\u017ck\\u0119 wzi\\u0105\\u015b\\u0107 na klat\\u0119 mecz si\\u0119 tak u\\u0142o\\u017cy\\u0142 nie inaczej napewno gorsi du\\u017co my niebyli.\"],[\"@anonymized_account Ale si\\u0119 ciesz\\u0105. Wreszcie koniec i b\\u0119dzie mo\\u017cna wypi\\u0107 te.zapasy z plecaka.\"],[\"@anonymized_account @anonymized_account Ofert\\u0119 przed\\u0142u\\u017cenis kontraktu pono\\u0107 dosta\\u0142 od Wis\\u0142y, ale jej nie zaakceptowa\\u0142.\"],[\"Dzi\\u015b o godz. 20:00 Prezydent RP wyg\\u0142osi or\\u0119dzie.\"],[\"RT @anonymized_account Dzi\\u015b o godz. 20:00 Prezydent RP wyg\\u0142osi or\\u0119dzie.\"],[\"@anonymized_account my\\u015bla\\u0142em \\u017ce si\\u0119 przychodzi na stadion dla dru\\u017cyny a nie na poszczeg\\u00f3lnych pi\\u0142karzy\"],[\"@anonymized_account kibicom chodzi raczej o postawe dziennikarzy a nie klubu.\"],[\"@anonymized_account @anonymized_account Nie trzeba Algierczyk\\u00f3w, wystarczy kilku polskich katechet\\u00f3w.\"],[\"@anonymized_account Barcelona z Messim (ta obecna) by taki mecz wygra\\u0142a 1:0, albo jaki\\u015b Suarez by co\\u015b wcisn\\u0105\\u0142 :P\"],[\"@anonymized_account @anonymized_account TW Wolfgang, TW Faraon i TW Rycerz,TW Balbina, TW Micha\\u0142 \\\\nKto mieczem wojuje, ten od pochwy ginie\"],[\"@anonymized_account @anonymized_account Zgadza si\\u0119 ale przecie\\u017c nas niestac \\u017ceby komin p\\u0142acowy zacz\\u0105\\u0107 od.carlitosa\"],[\"@anonymized_account @anonymized_account @anonymized_account Low kick, kolano \\u0142okie\\u0107, blacha na czo\\u0142o i stara le\\u017cy\"],[\"@anonymized_account Niestety obrazki b\\u0119d\\u0105 te\\u017c zielone, czarne i brunatne.\"],[\"Kto\\u015b za\\u0142o\\u017cy\\u0142 fejkowe konto i ogl\\u0105da WSZYSTKIE moje story\"],[\"@anonymized_account @anonymized_account \\u017bycie, zdarza si\\u0119. Jednak od takiego rzutu wolnego do gola droga do\\u015b\\u0107 daleka.\"],[\"@anonymized_account a wydanie 500 tys euro gdy si\\u0119 nie ma pieni\\u0119dzy nie jest strza\\u0142em w kolano ?\"],[\"@anonymized_account Wio endekdu, \\u015bcierwa, zdrajcy, szubienica\"],[\"@anonymized_account nie dziwie si\\u0119, to by\\u0142o do\\u015b\\u0107 cwane :)\"],[\"@anonymized_account Raczey! Jutro b\\u0119dzie jej odczytywane przez ca\\u0142y dzie\\u0144 ;-)\"],[\"@anonymized_account Kto b\\u0119dzie pi\\u0142 te mleko, gdzie b\\u0119d\\u0105 je\\u017adzi\\u0142y tiry, meble, okna ty maly kogucie\"],[\"@anonymized_account @anonymized_account @anonymized_account @anonymized_account Nie myli si\\u0119 tylko ten, co nic nie robi.\"],[\"Mama b\\u0119dzie mi obcina\\u0107 w\\u0142osy boje si\\u0119\"],[\"@anonymized_account @anonymized_account @anonymized_account @anonymized_account No to musz\\u0105 ci nie\\u017ale p\\u0142aci\\u0107 za wiersz\\u00f3wki.\"],[\"@anonymized_account czy masz info jakie obecnie Ondrasek ma zarobki w Wi\\u015ble?\"],[\"@anonymized_account Jaka kwota wykupienia go po roku??\"],[\"@anonymized_account @anonymized_account @anonymized_account Dla kogo pracowa\\u0142? Nie przy \\u015bniadaniu bo si\\u0119 ud\\u0142awi\\u0107 mo\\u017cna z wra\\u017cenia. Poprosz\\u0119 5 przyk\\u0142ad\\u00f3w zatem.\"],[\"@anonymized_account @anonymized_account @anonymized_account Widz\\u0119, \\u017ce dalej nie rozumiesz. No nic id\\u0119 ogl\\u0105da\\u0107 LM. Pozdro.\"],[\"@anonymized_account @anonymized_account je\\u015bli masz TV w\\u0142\\u0105czony od 8:00 do 1:00, a reklama pojawia si\\u0119 3 x na godzin\\u0119, po 2 mies. jeste\\u015b na granicy ob\\u0142\\u0119du.\"],[\"@anonymized_account @anonymized_account A co o w\\u0142oskich faszystach i w\\u0119gierskich nacjonalistach?\"],[\"@anonymized_account @anonymized_account Dojenie kasy przez rz\\u0105d\\\\nKompromitacja Morawieckiego w Niemczech\\\\nKaczy\\u0144ski tw\\u00f3rca pa\\u0144stwa Polskiego w 2016 roku\"],[\"@anonymized_account Jeszcze w nastepnej kolejce pewnie jakis pi\\u0105tek\"],[\"@anonymized_account @anonymized_account i oczywi\\u015bcie by\\u0142o pytanie czy nie boi si\\u0119 o przysz\\u0142o\\u015b\\u0107 Wis\\u0142y \\ud83d\\ude02 przechodzicie samych siebie\"],[\"@anonymized_account no ja w\\u0142a\\u015bnie to samoXD znaczy wiem ze Emre wbija cz\\u0119sto, bo jego \\u017cona jest polk\\u0105 ale no\"],[\"@anonymized_account Nic nie mog\\u0105. Ale ich brak mo\\u017ce spowodowa\\u0107, \\u017ce strajkuj\\u0105cy szybciej si\\u0119 z Sejmu wynios\\u0105.\"],[\"@anonymized_account @anonymized_account @anonymized_account Przecie\\u017c jak go zamkn\\u0105 to o czym ty b\\u0119dziesz pisa\\u0142 ? Twoje \\u017cycie straci sens...\"],[\"@anonymized_account @anonymized_account To zaraz porobie screeny od momentu od kt\\u00f3rego jest zablokowane :)\"],[\"@anonymized_account Kto\\u015b przesta\\u0142 s\\u0142odzi\\u0107, kto\\u015b kto du\\u017co s\\u0142odzi\\u0142\"],[\"@anonymized_account @anonymized_account @anonymized_account No to po co si\\u0119 zgodzi\\u0142 na klauzule dopiero po zako\\u0144czeniu przysz\\u0142ego sezonu, a nie od razu ?\"],[\"@anonymized_account Jest to prawda. Ale MSZ powinien. On pewnie my\\u015bla\\u0142, \\u017ce jest w Pisowskiej Polsce i wszystkoi wolno.\\ud83d\\ude00\\ud83d\\ude00\\ud83d\\ude00\"],[\"@anonymized_account delikatnie nie po drodze :D\"],[\"@anonymized_account @anonymized_account No to 0:0 murowane (bo mam te\\u017c ludzi z Cracovii)\"],[\"@anonymized_account Mo\\u017ce og\\u0142uszy\\u0142y go te korki od szampan\\u00f3w, kt\\u00f3re strzela\\u0142y po podpisaniu kontraktu Sadloka z Jagielloni\\u0105 ?\"],[\"Panie i panowie, totalna pora\\u017cka @anonymized_account w miastach. \\\\nT O T A L N A \\\\nTo bardzo wa\\u017cny znak.\"],[\"RT @anonymized_account Panie i panowie, totalna pora\\u017cka @anonymized_account w miastach. \\\\nT O T A L N A \\\\nTo bardzo wa\\u017cny znak.\"],[\"@anonymized_account @anonymized_account @anonymized_account @anonymized_account r\\u0119ce opadaj \\u017ce takich rzeczy ludzie zwi\\u0105zani z futsalem nie wiedz\\u0105.\"],[\"@anonymized_account @anonymized_account Przeczyta\\u0142em wszystko. Fantastycznego ma Pani Dziadka!\"],[\"@anonymized_account Na wszystko masz odpowied\\u017a, \\u017cy\\u0142e\\u015b w tych czasach?\"],[\"@anonymized_account @anonymized_account Mr. Czarnecki. To nie hipokryzja tylko zwyk\\u0142a ludzka przyzwoito\\u015b\\u0107. Wida\\u0107 \\u017ce niekt\\u00f3rym obce takie  odruchy.\"],[\"Diego Maradona - Robbie Williams 2:1.\"],[\"@anonymized_account @anonymized_account @anonymized_account Ja nie by\\u0142bym taki pewny\"],[\"@anonymized_account patrz\\u0105c kogo bior\\u0105 to mam w\\u0105tpliwo\\u015bci czy nie chc\\u0105 do 1 ligi (nie licz\\u0105c Marciniaka)\"],[\"@anonymized_account To by\\u0142o dawno, jeszcze nie znali fotoszopa\"],[\"@anonymized_account @anonymized_account Maly murzyn, silny i zdrowy\"],[\".@anonymized_account pojawi\\u0142 si\\u0119 na TT. To konto to nie fejk. \\\\nDo\\u0142\\u0105czajcie :) \\ud83d\\udcaa\"],[\"RT @anonymized_account .@anonymized_account pojawi\\u0142 si\\u0119 na TT. To konto to nie fejk. \\\\nDo\\u0142\\u0105czajcie :) \\ud83d\\udcaa\"],[\"W programie Igrzyska wolno\\u015bci w \\u0141odzi \\u015bpiewanie pie\\u015bni rewolucyjnych,i piosenek z serialu,4 pancerni i pies.\"],[\"@anonymized_account no i w ko\\u0144cu widz\\u0119 u\\u015bmiech :)\"],[\"@anonymized_account Jeszcze was zjemy i wysramy\"],[\"@anonymized_account lepszy argument to \\u017ce kto\\u015b go nie chce bo go nie lubi\"],[\"@anonymized_account @anonymized_account Tylko \\u017ce ten prostak sie nabija\\u0142, szydzi\\u0142 tak jak ze \\u015bmierci Piotra S.\"],[\"@anonymized_account Qwa! Wypi\\u0142em kaw\\u0119 przed chwil\\u0105.Bardzo dobra kaw\\u0119.Nie chc\\u0119 jej zwraca\\u0107. A swoj\\u0105 drog\\u0105 to \\u015bwietny \\u015brodek na wywo\\u0142anie wymiot\\u00f3w.\"],[\"Wchodz\\u0119 w powiadomienia a tu nic, ju\\u017c na 4 tt odpisa\\u0142em, zaraz wyjebi\\u0105 bana\"],[\"@anonymized_account nataliethere_ oddam szybciutko z powiadomie\\u0144\"],[\"@anonymized_account Tak tak jeszcze kto\\u015b w to uwierzy\"],[\"@anonymized_account @anonymized_account @anonymized_account Tez musze trzyma\\u0107 poziomo tel czytaj\\u0105c ten artyku\\u0142\"],[\"@anonymized_account @anonymized_account @anonymized_account Czasy kiedy zacz\\u0105\\u0142em interesowa\\u0107 si\\u0119 pi\\u0142k\\u0105 i Wis\\u0142\\u0105 \\ud83d\\ude0d\"],[\"@anonymized_account Wy narobiliscie 30miliardow dlugow za waszych rzadow #oddajciekase\"],[\"RT @anonymized_account @anonymized_account Wy narobiliscie 30miliardow dlugow za waszych rzadow #oddajciekase\"],[\"@anonymized_account Czy @anonymized_account got\\u00f3w na tak\\u0105 kolej rzeczy?\"],[\"@anonymized_account Tak jak pisdzielstwo o\\u015bmiesza policjant\\u00f3w , to ju\\u017c, nikt, nigdy bardziej nie b\\u0119dzie\"],[\"@anonymized_account A kiedy przestanie wydawa\\u0107 mln na swoich ochroniarzy, tylko zacznie leczy\\u0107 u psychiatry swoj\\u0105 mani\\u0119 prze\\u015bladowcz\\u0105?\"],[\"@anonymized_account Pierwszy priorytet zadowoli\\u0107 Jarkacza, drugi priorytet ssa\\u0107 kas\\u0119 wszystkimi otworami,  maj\\u0105 rozdwojenie ja\\u017ani\"],[\"@anonymized_account Huj z wami dziennikarzami. Pi\\u0142ka no\\u017cna dla kibic\\u00f3w a nie pseudo dziennikarzy.\"],[\"@anonymized_account E tam! To z mi\\u0142o\\u015bci do \\u0141odzi\\ud83d\\ude01. I przyjdzie do PiS\\ud83d\\ude01\\ud83d\\ude01\"],[\"@anonymized_account A ja, ze co\\u015b znowu zepsu\\u0142am xd\"],[\"Czemu jak zawsze si\\u0119 o kogo\\u015b martwi\\u0119 to ja dostaje po dupie, i mean nie wiem\"],[\"@anonymized_account kiedy wyje\\u017cd\\u017casz? ja w pi\\u0105tek, co prawda ju\\u017c drugi rok ale moja rodzina nadal reaguje tak samo\"],[\"@anonymized_account @anonymized_account @anonymized_account Ograniczy\\u0142bym to do \\\\\\\"Byle nie Ufa\\\\\\\" :)\"],[\"@anonymized_account @anonymized_account \\u015awi\\u0119ta racja, ale zapytaj Jurgiela o notatki, on wie co spierdoli\\u0142. B\\u0119dzie \\u0142atwiej.\"],[\"@anonymized_account @anonymized_account Szczeg\\u00f3lnie wielka strata za Smole\\u0144sk\"],[\"@anonymized_account @anonymized_account @anonymized_account @anonymized_account daj zna\\u0107 @anonymized_account o  zdjecie blokady\"],[\"@anonymized_account @anonymized_account My\\u015bl\\u0119, \\u017ce po info o konferencji wielu osobom to przychodzi do g\\u0142owy.\"],[\"@anonymized_account Koniecznie! Zapraszamy na spacer z kawk\\u0105 \\ud83d\\ude03\"],[\"@anonymized_account b\\u0142\\u0105d logiczny, te pieni\\u0105dze kiedy\\u015b by\\u0142y wasze, teraz ju\\u017c sa nasze i nic wam do tego towarzyszu\"],[\"RT @anonymized_account @anonymized_account b\\u0142\\u0105d logiczny, te pieni\\u0105dze kiedy\\u015b by\\u0142y wasze, teraz ju\\u017c sa nasze i nic wam do tego towarzyszu\"],[\"@anonymized_account Zale\\u017cy jak na to spojrze\\u0107. Z jednej strony akredytacja, z drugiej wyjazd za swoje $$$ \\ud83d\\ude09\"],[\"@anonymized_account @anonymized_account albo wygrywali 1:0 z Barcelon\\u0105\"],[\"@anonymized_account @anonymized_account tylko nie Za\\u0142uska.Nie potrzeba nam takich pi\\u0142karzy bez ambicji.\"],[\"@anonymized_account @anonymized_account Nic specjalnego. Mo\\u017cna si\\u0119 domy\\u015bla\\u0107, \\u017ce pewnie p\\u00f3jdzie na wypo\\u017cyczenie.\"],[\"Z Zag\\u0142\\u0119bia H\\u0142adun i Czerwi\\u0144ski w sk\\u0142adzie (pora\\u017cka 1:2), a z Legii Carlitos na kapitanie (zmiana w przerwie). Co za seria \\ud83d\\ude02\"],[\"@anonymized_account co chwile o nim piszecie i gadacie jaka to pora\\u017cka jak nie zostanie.A nie pami\\u0119tacie jak jeszcze niedawno otrzymanie licencji1\\u002f2\"],[\"@anonymized_account @anonymized_account Przecie\\u017c TS dzier\\u017cawi ta ziemi\\u0119 umowa na 99 lat zgadza si\\u0119 czy nie?\"],[\"@anonymized_account Pyta si\\u0119 kiedy beda nowe okulary, bo juz chce wychodzi\\u0107\"],[\"@anonymized_account Probierz szuka m\\u0142odych Polak\\u00f3w pasuje jak ula\\u0142\\ud83d\\ude09\"],[\"@anonymized_account Mo\\u017ce pasuje do klucza francuskiego?\\ud83d\\udd27\\u263a\"],[\"Pensja, kasa, dojenie, @anonymized_account ,ssanie kasy, ruchanie w meskie dupy, zawsze za pis, trudny teren, ciezkie warunki\"],[\"@anonymized_account Polska to nie napis na dropsie, uuuu, niedobrze, uuuuuuu\"],[\"@anonymized_account raczej ty si\\u0119 powiniene\\u015b jebn\\u0105\\u0107 ale nie wiem czy to pomo\\u017ce\"],[\"@anonymized_account Jak narazie to sobie mo\\u017cecie kup\\u0119 zrobi\\u0107. Albo hurtowo da\\u0107 dupy pedofil\\u00f3w w sutannach, kt\\u00f3rych publicznie bronicie.\"],[\"@anonymized_account Najlepiej w Polsce \\u017ceby legia mia\\u0142a pomoc :-)\"],[\"Ale mam chujowy humor przez to, \\u017ce nie zda\\u0142am i jestem na siebie z\\u0142a\"],[\"Szukam os\\u00f3b, kt\\u00f3re maj\\u0105 kontakt z rodzin\\u0105 gen. Bu\\u0142ak-Ba\\u0142achowicza. Sprawa  prywatna.\"],[\"@anonymized_account Brawo skwk za komunikat pomimo braku zakazu czeka\\u0142em na ta wiadomo\\u015b\\u0107 co robi\\u0107, bo na mecz bez dopingu niemyslalem i\\u015b\\u0107\"],[\"@anonymized_account @anonymized_account A ty wie\\u015b kretynie CONTI jest Acta2 i czego dotyczy? Najpierw przeczytaj a potem si\\u0119 wypowiadaj.\"],[\"@anonymized_account Tr\\u0105ba ? Nie no ostro pojecha\\u0142a\\u015b :D\"],[\"Beata #Mazurek w Sejmie na pytanie co my\\u015bli o pomy\\u015ble Kaczy\\u0144skiego o obni\\u017ckach wynagrodze\\u0144: \\\\\\\"Ja nic nie my\\u015bl\\u0119\\\\\\\". To s\\u0142ycha\\u0107.\"],[\"RT @anonymized_account Beata #Mazurek w Sejmie na pytanie co my\\u015bli o pomy\\u015ble Kaczy\\u0144skiego o obni\\u017ckach wynagrodze\\u0144: \\\\\\\"Ja nic nie my\\u015bl\\u0119\\\\\\\". To s\\u0142yc\\u2026\"],[\"Motocykle opu\\u015bci\\u0142y gniazda i kieruj\\u0105 si\\u0119 na p\\u00f3\\u0142noc. \\u017bonkile na przedmie\\u015bciach to ju\\u017c tylko formalno\\u015b\\u0107. Wiosna! :-)\"],[\"@anonymized_account @anonymized_account \\ud83d\\udd75 Jest tak zakonspirowany, \\u017ce go nie wida\\u0107. Fachowiec. \\\\n(G\\u00f3rny, prawy r\\u00f3g)\"],[\"@anonymized_account Kto mieczem wojuje od pochwy ginie @anonymized_account\"],[\"@anonymized_account W jednej z powt\\u00f3rek by\\u0142o to dobrze wida\\u0107 :))\"],[\"@anonymized_account Kochana nie ma po co bo p\\u00f3\\u017aniej wszyscy si\\u0119 b\\u0119d\\u0105 po to klei\\u0107 \\ud83d\\ude02\\ud83d\\ude02\"],[\"@anonymized_account @anonymized_account chyba nie mia\\u0142e\\u015b si\\u0119 czego przyczepi\\u0107, nie przesadzajmy :)\"],[\"@anonymized_account @anonymized_account Ale dlaczego g\\u0142upi @anonymized_account  t\\u0142umaczy to jeszcze g\\u0142upszemu @anonymized_account ?\"],[\"@anonymized_account Dzwoni\\u0142am si\\u0119 dowiadywa\\u0107 kiedy si\\u0119 mo\\u017cna wprowadza\\u0107 \\ud83d\\ude02nie wiedzia\\u0142am ze takie problemy mog\\u0105 by\\u0107 xd\"],[\"@anonymized_account Ju\\u017c pod koniec jazdy wymusilam na rondzie.... nie wiem jak to si\\u0119 sta\\u0142o, m\\u00f3j m\\u00f3zg mia\\u0142 za\\u0107mienie czy co\\u015b a\"],[\"Nowe chodnikowe powiedzonko brzmi:\\\\n\\\\nPierdolisz jak Morawiecki, realy.\\\\n\\\\n@anonymized_account @anonymized_account \\\\n\\\\nHybryda g\\u0142upoty.\"],[\"RT @anonymized_account Nowe chodnikowe powiedzonko brzmi:\\\\n\\\\nPierdolisz jak Morawiecki, realy.\\\\n\\\\n@anonymized_account @anonymized_account \\\\n\\\\nHybryda g\\u0142upoty.\"],[\"Terminator X To The Edge Of Panic wykonawcy Public Enemy\\\\nhttps:\\u002f\\u002ft.co\\u002fNqf1yFOyKg\"],[\"@anonymized_account Zaspana jestem jeszcze sorki XD\"],[\"@anonymized_account @anonymized_account No ja nie kojarze xD\"],[\"@anonymized_account Pies to czasem nawet po\\u017cera ksi\\u0105\\u017cki...\"],[\"Kiedy Christina wychodzi za m\\u0105\\u017c\"],[\"@anonymized_account @anonymized_account Zapewne ci, co grali przez wi\\u0119kszo\\u015b\\u0107 rundy w CLJ i nie ponie\\u015bli ani jednej pora\\u017cki.\"],[\"@anonymized_account @anonymized_account Jak b\\u0119dzie ta pioseneczka to przychodz\\u0119\\\\n\\\\nhttps:\\u002f\\u002ft.co\\u002fB6ak11mI4d\"],[\"@anonymized_account zamieszczanie takich zdj\\u0119\\u0107 podczas gdy ja jestem na sucharach powinno by\\u0107 zabronione :)\"],[\"@anonymized_account @anonymized_account @anonymized_account A co trzeba zrobi\\u0107 w kwestii finansowania kampanii z funduszy UE przez Ziobr\\u0119?\"],[\"@anonymized_account W \\u015brodku \\u0142amanie w stylu 2obiegu.\"],[\"jak ja si\\u0119 \\u017ale czulem jak by\\u0142em dzieckiem w  ko\\u015bciele to g\\u0142ow mala, szopka do kwadratu, nie mog\\u0142em tego wytrzyma\\u0107\"],[\"@anonymized_account @anonymized_account @anonymized_account @anonymized_account jak wr\\u00f3ce z pracy to te\\u017c podejme wyzwanie ale tym razem bedzie skromnie :)\"],[\"@anonymized_account @anonymized_account @anonymized_account Jak pi\\u0107 to z klas\\u0105 ;)\"],[\"@anonymized_account @anonymized_account Ty pajacu, zmie\\u0144 sobie herb na pusty \\u0142eb.\"],[\"@anonymized_account W rosji sa jakie\\u015b zawody\"],[\"@anonymized_account @anonymized_account My\\u015bla\\u0142em \\u017ce to Tw\\u00f3j ulubieniec \\ud83d\\ude02\"],[\"@anonymized_account @anonymized_account pewnie ranking Fifa bedzie decydowal\"],[\"@anonymized_account \\u0141ukaszewicz, co Wy tam palicie?\"],[\"@anonymized_account @anonymized_account @anonymized_account Leszku m\\u00f3j kochany, masz m\\u00f3zg wyprany\"],[\"@anonymized_account a ja wsp\\u00f3\\u0142czuje za\\u015blepienia.Wol\\u0119 nie mie\\u0107 Wolskiego ni\\u017c robi\\u0107 kolejne d\\u0142ugi @anonymized_account\"],[\"@anonymized_account @anonymized_account @anonymized_account od paru lat s\\u0142ysze o sponsorze wi\\u0119c tym bardziej szacunek \\u017ce przez pare lat si\\u0119 nieujawni\\u0142...\"],[\"@anonymized_account Skoro Carrillo nie chce Sobola to tym bardziej nie b\\u0119dzie chcia\\u0142 G\\u0142owy. Chyba, \\u017ce trener rzeczywi\\u015bcie odchodzi.\"],[\"@anonymized_account @anonymized_account @anonymized_account Zawsze bed\\u0105 afery bo zawsze b\\u0119da tacy l kt\\u00f3rzy kradn\\u0105  i tacy u wladzy kt\\u00f3rych to kr\\u0119ci\"],[\"@anonymized_account kot te\\u017c si\\u0119 za\\u0142apa\\u0142 na fotke, a raczej jego dupa :)\"],[\"@anonymized_account Szczerze? Troch\\u0119 tak to wygl\\u0105da, a i tak pr\\u0119dzej czy p\\u00f3\\u017aniej ten bilans wychodzi na r\\u00f3wno.\"],[\"@anonymized_account zaraz b\\u0119d\\u0105 pisa\\u0107 \\u017ce Wis\\u0142a szkoli kiboli \\u017ceby potrafili maczet\\u0105 wymachiwa\\u0107 :)\"],[\"*stoi przed nimi kr\\u00f3l gargulc\\u00f3w*\\\\nbetty: to pewnie ethel\\\\n\\\\nXDDDDDDDDDDDDDD\\\\n#Riverdale #RiverdalePL\"],[\"RT @anonymized_account *stoi przed nimi kr\\u00f3l gargulc\\u00f3w*\\\\nbetty: to pewnie ethel\\\\n\\\\nXDDDDDDDDDDDDDD\\\\n#Riverdale #RiverdalePL\"],[\"@anonymized_account No, to ja we w\\u0142asnej osobie\"],[\"@anonymized_account S\\u0142abo trzyma\\u0142e\\u015b kciuki, bo podarowa\\u0142 bramke Cracovii :)\"],[\"@anonymized_account Odstawiaj\\u0105c narodowo\\u015b\\u0107 na bok to ten sk\\u0142ad jest przecie\\u017c s\\u0142abiutki.\"],[\"@anonymized_account @anonymized_account Piwnica bez okien, ty to masz dobrze\"],[\"Czuj\\u0119 si\\u0119 chora wi\\u0119c siedz\\u0119 w domu w czapce\"],[\"@anonymized_account Juz mysla\\u0142em \\u017ce co\\u015b gorszego\\ud83d\\ude01\\ud83d\\ude01\"],[\"@anonymized_account @anonymized_account A gdzie Inferno napisa\\u0142, \\u017ce Wis\\u0142a stawia na Polak\\u00f3w ?\"],[\"@anonymized_account akurat Tobie bli\\u017cej do Karolaka bo w wi\\u0119kszo\\u015bci Ci\\u0119 wyci\\u0119li \\ud83d\\ude02 @anonymized_account @anonymized_account @anonymized_account @anonymized_account\"],[\"@anonymized_account Omg w\\u0142a\\u015bnie o nich my\\u015bla\\u0142am\"],[\"@anonymized_account Tak na pewno nie b\\u0119dzie. Dru\\u017cyna leci w \\u015brod\\u0119.\"],[\"Cudzys\\u0142\\u00f3w, przecinek nie jestem ruskim trollem\"],[\"Bior\\u0105c pod uwag\\u0119, jakie dot\\u0105d mieli\\u015bmy losowania w Lidze Europy, to na ten fina\\u0142 w Baku w 2019 roku nie jeste\\u015bmy bez szans. \\ud83d\\ude01\"],[\"@anonymized_account @anonymized_account Fajnie, teraz zamiast przemowy muzyczka \\u017ceby nie by\\u0142o s\\u0142ycha\\u0107 odzewu publiki.\"],[\"@anonymized_account @anonymized_account Bia\\u0142ystok, ulica Wierzbowa. Jak oni to zrobili, to jest zagadka.\"],[\"@anonymized_account Straszny gangster jak po wolno\\u015bci chodzi\"],[\"@anonymized_account To si\\u0119 nazywa uzale\\u017cnienie xD\"],[\"@anonymized_account Info z ostatniej chwili barwy pogoni skrojone przez bandyt\\u00f3w Z Krakowa.  Pomimo zakazu Wis\\u0142a rz\\u0105dzi\"],[\"@anonymized_account @anonymized_account Pewnie tak bo Buchalik kontuzjowany.\"],[\"@anonymized_account to mia\\u0142o jaki\\u015b ci\\u0105g dalszy? \\ud83d\\ude09\"],[\"vans do chuja przesta\\u0144 robi\\u0107 cho\\u0107 na chwil\\u0119 zajebiste kolekcje bo w moim portfelu pieni\\u0105dzen't\"],[\"RT @anonymized_account vans do chuja przesta\\u0144 robi\\u0107 cho\\u0107 na chwil\\u0119 zajebiste kolekcje bo w moim portfelu pieni\\u0105dzen't\"],[\"@anonymized_account @anonymized_account @anonymized_account @anonymized_account 12 mld nie mam zamiaru dyskutowa mo\\u017cejki i skoki\"],[\"@anonymized_account @anonymized_account Alves by\\u0142 bardzo w stylu Guardioli \\ud83d\\ude1b\"],[\"@anonymized_account Co ty \\u017cresz, \\u017ce ci tak pierdoln\\u0119\\u0142o?\"],[\"@anonymized_account Bo w \\\\\\\"10\\\\\\\" ju\\u017c graj\\u0105 przez Boatenga ;)\"],[\"@anonymized_account @anonymized_account Trudno by\\u0107 pewnym, gdy stoperzy mog\\u0105 zagra\\u0107 tylko lag\\u0119 do przodu, bo \\u015brodka nie mamy.\"],[\"@anonymized_account @anonymized_account @anonymized_account No w\\u0142a\\u015bnie, nie by\\u0142o i dlatego patologia zosta\\u0142a stosownie potraktowana.\"],[\"@anonymized_account skoro jest dno dna to mo\\u017ce skupmy si\\u0119 na tych od kt\\u00f3rych co\\u015b wymagamy\"],[\"@anonymized_account Widocznie to zbyt trudna mi\\u0142o\\u015b\\u0107 na Walentynki \\ud83d\\ude01\"],[\"@anonymized_account Sarapata by\\u0142a w solarium ?\"],[\"@anonymized_account Woda chyba zimna bo nikogo w wodzie ;-)\"],[\"@anonymized_account ej, dobra, we\\u017amie ten chrzest czy nie? xd\"],[\"@anonymized_account @anonymized_account Lub bezpo\\u015bredni awans, bo nie wiadomo co ze Stomilem, a przede wszystkim Bytovi\\u0105 :)\"],[\"@anonymized_account @anonymized_account by\\u0142am przy tym, wi\\u0119c zapewniam \\ud83d\\ude09\"],[\"@anonymized_account @anonymized_account @anonymized_account Tylko ty masz problem z rzecznikiem, wi\\u0119c zastan\\u00f3w si\\u0119 w kim tak naprawd\\u0119 jest problem? \\ud83e\\udd14\"],[\"@anonymized_account Pi\\u0105tek  te\\u017c powinien by\\u0107 wolny, ina 100%\"],[\"Wassermann\\u00f3wna k\\u0142amie, m\\u00f3wi\\u0105c, \\u017ce \\u201eprzysz\\u0142a do polityki\\u201d. Ona przyjecha\\u0142a na trumnie ojca.\"],[\"RT @anonymized_account Wassermann\\u00f3wna k\\u0142amie, m\\u00f3wi\\u0105c, \\u017ce \\u201eprzysz\\u0142a do polityki\\u201d. Ona przyjecha\\u0142a na trumnie ojca.\"],[\"@anonymized_account Ju\\u017c dwa lata temu powinni wygrac Euro.\"],[\"@anonymized_account Kibice innych dru\\u017cyn doceniaj\\u0105 i troch\\u0119 zazdroszcz\\u0105 :)\"],[\"@anonymized_account @anonymized_account na 100% jest zmiana \\u015al\\u0105sk - Jaga i chyba zosta\\u0142a ju\\u017c potwierdzona.\"],[\"@anonymized_account W tym czasie by\\u0142 z rodzink\\u0105 na wakacjach w Gda\\u0144sku Brze\\u017anie to musia\\u0142 zdalnie podtrzymywa\\u0107 zwi\\u0105zek\"],[\"jak Patryk Jaki wygra wybory w Warszawie oczy\\u015bci stolic\\u0119 z by\\u0142ych UBECKICH funkcjonariuszy ! #woronicza17\"],[\"RT @anonymized_account jak Patryk Jaki wygra wybory w Warszawie oczy\\u015bci stolic\\u0119 z by\\u0142ych UBECKICH funkcjonariuszy ! #woronicza17\"],[\"Szkoda, \\u017ce przez wymys\\u0142y Mendesa taki Ruben Neves si\\u0119 marnuje w Wolverhampton.\"],[\"@anonymized_account @anonymized_account Nie wiem, aczkolwiek jego tata m\\u00f3wi\\u0142, \\u017ce widzia\\u0142by Tomasa w Jagiellonii. \\ud83d\\ude1c\"],[\"Ja i moje psiapsi gramy w te gry na snapie i nie mog\\u0119 przesta\\u0107 si\\u0119 \\u015bmia\\u0107 z naszych min XD\"],[\"@anonymized_account Kolar niestety ten sam poziom. Chyba trzeba b\\u0119dzie liczy\\u0107 na skuteczno\\u015b\\u0107 Boguskiego i Ma\\u0142eckiego...\"],[\"Rz\\u0105d zaostrzy kary za zn\\u0119canie si\\u0119 nad zwierz\\u0119tami. Od 3-5 lat wi\\u0119zienia; obowi\\u0105zkowa nawi\\u0105zka do 100 tys z\\u0142. Wi\\u0119cej jutro w @anonymized_account\"],[\"RT @anonymized_account Rz\\u0105d zaostrzy kary za zn\\u0119canie si\\u0119 nad zwierz\\u0119tami. Od 3-5 lat wi\\u0119zienia; obowi\\u0105zkowa nawi\\u0105zka do 100 tys z\\u0142. Wi\\u0119cej jutro w @anonymized_account\"],[\"@anonymized_account @anonymized_account @anonymized_account czuje \\u017ce Brlek pr\\u0119dzej czy p\\u00f3\\u017aniej odpali\"],[\"@anonymized_account @anonymized_account To, \\u017ce figurowal jako zawodnik Man City nie znaczy, \\u017ce b\\u0119dzie potrafi\\u0142 gra\\u0107.\"],[\"@anonymized_account @anonymized_account Oczywi\\u015bcie, \\u017ce ma racj\\u0119. Chodzi tylko o to, \\u017ce to jest dru\\u017cyna o klas\\u0119 lub dwie lepsza.\"],[\"@anonymized_account @anonymized_account Nie mia\\u0142 prawa sta\\u0107 za lini\\u0105, tak prawd\\u0119 m\\u00f3wi\\u0105c \\ud83d\\ude04 Ale w kamerach to bardzo \\u0142adnie wygl\\u0105da\\u0142o.\"],[\"@anonymized_account @anonymized_account @anonymized_account Ty to robisz przede wszystkim, co wida\\u0107 po pierwszym tweecie.\"],[\"Ostatnio czuje si\\u0119 tak samotna i smutna ze a\\u017c sama si\\u0119 dziwie\"],[\"@anonymized_account Przecie\\u017c to legionista to komu ma \\u017cyczy\\u0107 mistrza.Nie wiedzia\\u0142e\\u015b ?\"],[\"@anonymized_account @anonymized_account @anonymized_account dobrze by mu to zrobi\\u0142o.Za s\\u0142aby na Wis\\u0142e.\"],[\"@anonymized_account Hehehehehe. R\\u00f3\\u017ca nawet niez\\u0142a by\\u0142a.I co z niej wyros\\u0142o!\\ud83d\\ude01\\ud83d\\ude01\\ud83d\\ude01\"],[\"@anonymized_account jedni wynajmuj\\u0105 agencje do komentarzy a inni dziennikarzy\"],[\"RT @anonymized_account @anonymized_account jedni wynajmuj\\u0105 agencje do komentarzy a inni dziennikarzy\"],[\"@anonymized_account pewnie jest mniej b\\u0142\\u0119d\\u00f3w bo i liczb jest mniej bo zrezygnowali ze statystyk zawodnik\\u00f3w sezon po sezonie ;)\"],[\"@anonymized_account Krzy\\u017c przeciw prezydenturze, krzy\\u017c ob\\u0142\\u0119du\"],[\"@anonymized_account @anonymized_account Sorry ale dzisiaj nie ma opozycji. Jest grupa cwaniak\\u00f3w chc\\u0105cych odzyska\\u0107 sto\\u0142ki.\"],[\"na kijowe \\u017cycie najlepsza w\\u00f3deczka\"],[\"Co na to Herod \\u015bmierdziuszka @anonymized_account\"],[\"@anonymized_account Brakuje mu dystansu, za bardzo si\\u0119 egzaltuje, a ja\\u0142owe szyderstwa ju\\u017c mi si\\u0119 przejad\\u0142y\"],[\"@anonymized_account Wis\\u0142a chyba wa\\u017cniejsza od jakiej\\u015b Delle Donne :)\"],[\"@anonymized_account Nawet je\\u015bli to fejk, to zgodnie z powiedzeniem -w ka\\u017cdej plotce jest ziarnko prawdy. Z tym \\u017ce w tym przypadku raczej ziarno\\ud83d\\ude01\\ud83d\\ude01\"],[\"@anonymized_account Tez wczoraj by\\u0142am na randce kt\\u00f3ra trwa\\u0142a ca\\u0142y dzie\\u0144 Xd\"],[\"@anonymized_account A kierowca autobusu wsta\\u0142 i zacz\\u0105\\u0142 klaska\\u0107 ?\"],[\"@anonymized_account @anonymized_account Jak by nie by\\u0142o, aby by\\u0142o mi\\u0142o, teraz sie cieszysz\"],[\"@anonymized_account No to mo\\u017ce warto, najwy\\u017cej Ci\\u0119 oleje, co jest oczywi\\u015bcie nie do przyj\\u0119cia \\ud83d\\ude02 kto nie ryzykuje ten nie pije szampana kochana!\"],[\"@anonymized_account @anonymized_account Trzymali si\\u0119 za r\\u0119ce, waleczni i sprawiedliwi\"],[\"Dudelange niby takie cwaniaki, a ciekawe czy byliby tacy m\\u0105drzy w dwuboju rzut m\\u0142otem-skoki narciarskie\"],[\"RT @anonymized_account Dudelange niby takie cwaniaki, a ciekawe czy byliby tacy m\\u0105drzy w dwuboju rzut m\\u0142otem-skoki narciarskie\"],[\"@anonymized_account @anonymized_account @anonymized_account g\\u0142\\u00f3wnie @anonymized_account kt\\u00f3ry cz\\u0119sto o tym wspomina\"],[\"Kto si\\u0119 jeszcze zaczepia na fejsie....\"],[\"@anonymized_account @anonymized_account Z tymi wizjami to mo\\u017ce by\\u0107 problem. Proponuj\\u0119 sprawdzi\\u0107 po czym te wizj\\u0119 s\\u0105\"],[\"@anonymized_account Jaki hejt.Hejt to jest na Tuska, Komorowskiego, przecie\\u017c to nie Polacy, \\u015bmier\\u0107 wrogom ojczyzny. Obud\\u017a si\\u0119\"],[\"Czy Antek ju\\u017c og\\u0142osi\\u0142, \\u017ce na lewym skrzydle naszej obrony by\\u0142 wybuch?\"],[\"RT @anonymized_account Czy Antek ju\\u017c og\\u0142osi\\u0142, \\u017ce na lewym skrzydle naszej obrony by\\u0142 wybuch?\"],[\"@anonymized_account jest to dobra informacja dla tych co okradali  Polsk\\u0119 od 89  roku  Irlandia da im wolno\\u015b\\u0107\"],[\"RT @anonymized_account @anonymized_account jest to dobra informacja dla tych co okradali  Polsk\\u0119 od 89  roku  Irlandia da im wolno\\u015b\\u0107\"],[\"Ale przecie\\u017c #Polexit jest dobry. Za\\u0142o\\u017cycie koszulki z or\\u0142em i b\\u0119dziecie \\u017cry\\u0107 ziemniaki i wungiel \\ud83d\\ude07\"],[\"RT @anonymized_account Ale przecie\\u017c #Polexit jest dobry. Za\\u0142o\\u017cycie koszulki z or\\u0142em i b\\u0119dziecie \\u017cry\\u0107 ziemniaki i wungiel \\ud83d\\ude07\"],[\"@anonymized_account @anonymized_account @anonymized_account @anonymized_account Wywali\\u0142 Ronaldo w Superpucharze :)\"],[\"@anonymized_account @anonymized_account Bo sama jest niepe\\u0142nosprawna... Umys\\u0142owo.\\ud83d\\ude01\\ud83d\\ude01\"],[\"Halo Krak\\u00f3w, kogo by\\u015bcie uznali za gwiazd\\u0119\\u002fnajwa\\u017cniejszego zawodnika obecnej Wis\\u0142y? \\ud83d\\ude09\"],[\"@anonymized_account @anonymized_account Ss\\u0105 wszystkimi otworami z krwi bia\\u0142o czerwonej\"],[\"@anonymized_account Wy si\\u0119 zjednoczyli\\u015bcie z faszystami z po\\u0142owy Europy. Kpromitacja level hard.\"],[\"@anonymized_account @anonymized_account @anonymized_account Znowu on ? \\ud83d\\ude02 to przy okazji niech si\\u0119 odniesie do s\\u0142\\u00f3w Sarary \\ud83d\\ude02\"],[\"@anonymized_account Dotarlas do ore\\u0142ka?\\ud83d\\ude01\\ud83d\\ude01 W tym roku niestety ty\\u0142ko jeden\\ud83d\\ude1e\\ud83d\\ude1e\"],[\"@anonymized_account @anonymized_account Mam rozumie\\u0107, \\u017ce to mapa nasycenia kraj\\u00f3w zbocze\\u0144cami w sutannach.\"],[\"@anonymized_account @anonymized_account @anonymized_account A Panu nie brakuje czasem art. 87 pkt1?\"],[\"@anonymized_account Czy to oknoplus ladowal kiedy\\u015b\"],[\"@anonymized_account @anonymized_account 5 punkt\\u00f3w na 21 w rundzie fina\\u0142owej...\"],[\".@anonymized_account @anonymized_account B\\u0119dziemy realizowa\\u0107 przekop Mierzei Wi\\u015blanej \\\\n#wieszwiecej  \\\\nhttps:\\u002f\\u002ft.co\\u002fzuCXxG1GUr\"],[\"RT @anonymized_account .@anonymized_account @anonymized_account B\\u0119dziemy realizowa\\u0107 przekop Mierzei Wi\\u015blanej \\\\n#wieszwiecej  \\\\nhttps:\\u002f\\u002ft.co\\u002fzuCXxG1GUr\"],[\"@anonymized_account Bolek wyluzuj bo jeste\\u015b sercowy.\"],[\"@anonymized_account \\u015amiej si\\u0119  \\u015bmiej. To wcale nie jest \\u015bmieszne.\"],[\"I hope that autumn will heal me\"],[\"Jutro po marszu, ale jeszcze kilka dni beda chodzi\\u0107 na\\u0107pani\"],[\"@anonymized_account Nie ma jak lans nierobie za pieni\\u0105dze podatnik\\u00f3w.\"],[\"@anonymized_account A to ja przepraszam, nie mia\\u0142am wczoraj czasu na TT \\ud83d\\ude0e\"],[\"11 tysi\\u0119cy miejsc zaj\\u0119tych, dzisiaj prawie 2000 bilet\\u00f3w sprzedanych. Z tej okazji za chwil\\u0119 nagroda \\ud83d\\ude01\"],[\"@anonymized_account @anonymized_account To ja chyba tylko kolory por\\u00f3wnywa\\u0142em\"],[\"Ej s\\u0142uchajcie co zajebistego wymy\\u015bli\\u0142am \\\\n\\\\nJaki jest najlepszy argument bonnie z pami\\u0119tnik\\u00f3w wampir\\u00f3w? \\\\n\\\\nBo nnie\"],[\"RT @anonymized_account Ej s\\u0142uchajcie co zajebistego wymy\\u015bli\\u0142am \\\\n\\\\nJaki jest najlepszy argument bonnie z pami\\u0119tnik\\u00f3w wampir\\u00f3w? \\\\n\\\\nBo nnie\"],[\"@anonymized_account Im wi\\u0119cej problem\\u00f3w w pa\\u0144stwie tym wi\\u0119cej niewykonanych wyrok\\u00f3w\"],[\"Widzia\\u0142am \\u015bliczn\\u0105 sukienk\\u0119 ale nie by\\u0142o mniejszego rozmiaru ni\\u017c 36 i by\\u0142a za du\\u017ca danmm\"],[\"@anonymized_account @anonymized_account Polsk\\u0119 to kompromituj\\u0105 tacy jak ty. Oszo\\u0142omie.\"],[\"@anonymized_account \\ud83d\\ude01\\ud83d\\ude01\\ud83d\\ude01\\ud83d\\ude01\\ud83d\\ude01\\ud83d\\ude01\\ud83d\\ude01\\ud83d\\ude01 @anonymized_account teraz to mnie Pani ubawi\\u0142a tym paskiem. A widzia\\u0142a Pani swoj\\u0105 szyj\\u0119?\"],[\"@anonymized_account @anonymized_account @anonymized_account nie, ale je\\u015bli kto\\u015b wypomina Levadie to niech bedzie obiektywny i wspomni te\\u017c inny wynik.\"],[\"@anonymized_account O naszych meczach z Rio Ave mo\\u017cna powiedzie\\u0107 podobnie \\ud83d\\ude09\"],[\"W sumie to polubi\\u0142am ju\\u017c zaj\\u0119cia z konstrukcji przekazu reklamowego i prowadz\\u0105cy jest \\u015bwietny\"],[\"Ej chcia\\u0142abym do samorz\\u0105du w sumie hahahaha\"],[\"@anonymized_account Tez nie mam snapa hahahahaha\"],[\"@anonymized_account Ile\\u017c mo\\u017cna o tym Wiluszu ?...\"],[\"@anonymized_account A po polsku to jak to b\\u0119dzie?\"],[\"@anonymized_account @anonymized_account A sk\\u0105d on wie jak jest w innych klubach ? Niech si\\u0119 wypowiada o klubach w kt\\u00f3rych gra\\u0142.\"],[\"I ta Wis\\u0142a, kt\\u00f3ra si\\u0119 bawi z ka\\u017cdym w ofensywie, w Bia\\u0142ymstoku mia\\u0142a p\\u00f3\\u0142 sytuacji.\"],[\"@anonymized_account @anonymized_account @anonymized_account Zapytalem,  szwagierka m\\u00f3wi \\u017ce ma konto w powerbanku\"],[\"@anonymized_account @anonymized_account Mi\\u0119ciute\\u0144ki straszliwie. Tam by\\u0142y r\\u0119ce na ciele, a nie jakie\\u015b szarpanie. Tylko \\u017ce nie do VAR-u.\"],[\"@anonymized_account @anonymized_account Pajacu, jak podajesz przepis to masz go zna\\u0107 na pami\\u0119\\u0107. Inaczej robi\\u0105 z siebie idiot\\u0119 tak jak teraz.\"],[\"@anonymized_account Zdejmujesz Dziadkowi okulary, zak\\u0142adasz Babci i jestem \\\\n\\ud83d\\ude0e\"],[\"@anonymized_account @anonymized_account @anonymized_account w ko\\u0144cu jaki\\u015b ciekawy wywiad :)\"],[\"@anonymized_account jak tam widzia\\u0142e\\u015b czerwon\\u0105 to rzeczywi\\u015bcie wyjd\\u017a\"],[\"@anonymized_account skoro zarz\\u0105d pozwala na takie cyrki to niestety potrwa to lata\"],[\"@anonymized_account @anonymized_account Cieszmy si\\u0119 \\u017ce dru\\u017cyna dalej gra w lidze.Nie zawsze mo\\u017cna mie\\u0107 najmocniejszy sk\\u0142ad w lidze :)\"],[\"@anonymized_account @anonymized_account @anonymized_account Znawca wszystkiego czyli niczego od byd\\u0142a po powid\\u0142o\"],[\"@anonymized_account \\ud83d\\ude02\\ud83d\\ude02\\ud83d\\ude02\\ud83d\\ude02\\ud83d\\ude02\\ud83d\\ude02\\ud83d\\ude02\\ud83d\\ude02\\ud83d\\ude02\\ud83d\\ude02\\ud83d\\ude02\\ud83d\\ude02\\ud83d\\ude02\\ud83e\\udd23\\ud83e\\udd23\\ud83e\\udd23\\ud83e\\udd23\\ud83e\\udd23\\ud83e\\udd23\\ud83e\\udd23\\ud83e\\udd23\\ud83e\\udd23\\ud83e\\udd23\\ud83e\\udd23\\ud83e\\udd23\\ud83e\\udd23\\ud83d\\ude02\\ud83d\\ude02\\ud83d\\ude02\\ud83d\\ude02\\ud83d\\ude02\\ud83d\\ude02\\ud83d\\ude02\\ud83e\\udd23\\ud83e\\udd23\\ud83e\\udd23\\ud83e\\udd23\\ud83e\\udd23\\ud83e\\udd23\\ud83e\\udd23\\ud83e\\udd23\\ud83e\\udd23\\ud83e\\udd23\\ud83e\\udd23\\ud83e\\udd23\\ud83e\\udd23\\ud83e\\udd23\\ud83e\\udd23\\ud83d\\ude02\\ud83d\\ude02\\ud83d\\ude02\\ud83d\\ude02\\ud83d\\ude02\\ud83d\\ude02\\ud83d\\ude02\\ud83d\\ude02\\ud83d\\ude02\\ud83d\\ude02\\ud83d\\ude02\\ud83d\\ude02\\ud83d\\ude02\\ud83d\\ude02\\ud83d\\ude02\\ud83d\\ude02\\\\n\\\\nS\\u0142\\u00f3w odpowiednich \\u017caden s\\u0142ownik nie zawiera\"],[\"@anonymized_account Vacek, Putnocky, Nielsen.Widz\\u0119 \\u017ce bior\\u0105 si\\u0119 za odm\\u0142adzanie sk\\u0142adu :)\"],[\"@anonymized_account @anonymized_account @anonymized_account Ty si\\u0119 chyba debilu nie s\\u0142yszysz, ty tekst\\u00f3w to si\\u0119 po nocach uczysz czy masz s\\u0142uchawk\\u0119 w uchu?\"],[\"@anonymized_account Lub kibic\\u00f3w w Gliwicach \\ud83d\\ude1c\"],[\"@anonymized_account No w\\u0142a\\u015bnie by\\u0142a lepsza \\ud83d\\ude1c\"],[\"@anonymized_account @anonymized_account @anonymized_account @anonymized_account No we\\u017a nie rob takiej miny\"],[\"@anonymized_account @anonymized_account @anonymized_account Szczeka\\u0107 to mog\\u0105 tacy jak ty #delegalizacja\"],[\"@anonymized_account Bo jest G\\u0142owacki to teraz czas na obro\\u0144c\\u00f3w\"],[\"@anonymized_account @anonymized_account Nie ma takiej opcji. Oszust i k\\u0142amca w roli g\\u0142\\u00f3wnej - tego jeszcze \\u015bwiat nie widzia\\u0142.\"],[\"@anonymized_account Nie jest z\\u0142e! Chodzisz w szpilkach? Cokolwiek by\\u015b nie za\\u0142o\\u017cy\\u0142a to szpilki cho\\u0107 troch\\u0119 pomog\\u0105 xd\"],[\"@anonymized_account Jakby by\\u0142 definitywny to troch\\u0119 slabo \\ud83d\\ude02\"],[\"@anonymized_account a co si\\u0119 tak pieniedzmi nagle przejmujesz ? Jak chcialas rozwiazania kontraktu z Zohnova czy Pop to kasa juz nie wazna ?\"],[\"@anonymized_account Oskar \\u0141\\u0105k definitywnie odszed\\u0142 z Wis\\u0142y ?\\\\n\\\\nhttps:\\u002f\\u002ft.co\\u002fo0psVgZBUl\"],[\"@anonymized_account gratulacje ! Dzi\\u0119ki za dotrzymanie s\\u0142owa \\u017ce dzisiaj koniec :) Zas\\u0142u\\u017cy\\u0142y\\u015bcie !\"],[\"Jezu, co zagrali Suarez i Cavani.\"],[\"@anonymized_account Na pewno \\u0142atwiej by by\\u0142o znale\\u017a\\u0107, okre\\u015bli\\u0107 i poprawi\\u0107 problemy\"],[\"@anonymized_account Mo\\u017cna, dlatego nasz poziom pi\\u0142karski by\\u0142 bardzo s\\u0142aby wczoraj.\"],[\"@anonymized_account Wybacz, ale nie s\\u0105dz\\u0119, aby g\\u0142\\u00f3wnym problemem kadry by\\u0142y z\\u0142e powo\\u0142ania na numerach 21-23 w kadrze.\"],[\"je\\u015bli nie mog\\u0119 wygl\\u0105da\\u0107 tak jak\\\\n\\u2022perrie edwards\\\\n\\u2022troian bellisario\\\\nto what\\u2019s the point of existing?\"],[\"RT @anonymized_account je\\u015bli nie mog\\u0119 wygl\\u0105da\\u0107 tak jak\\\\n\\u2022perrie edwards\\\\n\\u2022troian bellisario\\\\nto what\\u2019s the point of existing?\"],[\"@anonymized_account Nadal i Djokovi\\u0107 to si\\u0119 w sumie ciesz\\u0105, bo ten, kto w ich meczu wygra, b\\u0119dzie praktycznie zwyci\\u0119zc\\u0105 turnieju.\"],[\"@anonymized_account @anonymized_account M\\u00f3wisz \\u017ce ONR lize doope\\ud83d\\ude02\"],[\"@anonymized_account @anonymized_account @anonymized_account wy\\u015ble im jutro list od kibic\\u00f3w cracovii \\u017ce chc\\u0105 odej\\u015bcia Filipiaka.Ciekawe czy te\\u017c opublikuj\\u0105.\"],[\"@anonymized_account @anonymized_account A kiedy zaczniecie zbi\\u00f3rki na kr\\u00f3wki i \\u015bwinki?\"],[\"@anonymized_account No to sk\\u0105d wiedzia\\u0142e\\u015b czy stopklatka jest zrobiona w odpowiednim momencie ? Nie kompromituj si\\u0119\"],[\"@anonymized_account @anonymized_account @anonymized_account Iza - dziewczyna, cud, mi\\u00f3d, malina \\ud83d\\ude01\"],[\"Zaraz p\\u00f3\\u0142 mojego instagrama i ca\\u0142y Twitter b\\u0119dzie na koncercie Eda.... i jestem jeszcze ja............\"],[\"@anonymized_account Z tamtego Adama dzi\\u015b ju\\u017c nic nie zosta\\u0142o. Ale czepianie si\\u0119 go za brata i ojca osobi\\u015bcie nie popieram\"],[\"@anonymized_account @anonymized_account Plujecie na Polsk\\u0119 to my b\\u0119dziemy plu\\u0107 na was.\"],[\"RT @anonymized_account @anonymized_account @anonymized_account Plujecie na Polsk\\u0119 to my b\\u0119dziemy plu\\u0107 na was.\"],[\"@anonymized_account Mo\\u017ce te\\u017c by\\u0107 ko\\u0142derka \\ud83d\\ude0d\"],[\"@anonymized_account Dlaczego \\u015brednio? W decydujacym o awansie Widzewa czerwcu by\\u0142 pi\\u0142karzem miesi\\u0105ca\"],[\"@anonymized_account b\\u0142edem by\\u0142o \\u015bciaganie zawodnik\\u00f3w kt\\u00f3rych nas niesta\\u0107 byleby osi\\u0105gn\\u0105\\u0107 cel\"],[\"@anonymized_account Ka\\u017cdy kto cho\\u0107 troch\\u0119 si\\u0119 orientuje w tych sprawach wie, \\u017ce na Hutniku nie ma o\\u015bwietlenia...\"],[\"@anonymized_account Maliniak dal reklame za dormo pono\\u0107 caly marsz niepodleglosci ubrali, prawda to redisbad?\"],[\"@anonymized_account niech wejdzie na luzie i pewnie tak \\u017ceby nie musia\\u0142 zostawia\\u0107 dokumentu, milion os\\u00f3b tak przemyci\\u0142am\"],[\"@anonymized_account Cie zaraz pizn\\u0119, jak nie zaczniesz my\\u015ble\\u0107\"],[\"@anonymized_account @anonymized_account Bo byli\\u015bmy bez formy, to oczywiste. Przecie\\u017c to te\\u017c napisa\\u0142em.\"],[\"@anonymized_account jest juz aktualizacja sk\\u0142ad\\u00f3w czy jakis dodatek sci\\u0105ga\\u0142e\\u015b ? :)\"],[\"@anonymized_account Komentarz raz a dwa s\\u0142ysz\\u0105c trybuny zastanawiam si\\u0119 czy ten kto wymy\\u015bli\\u0142 mecze w pn obejrza\\u0142 cho\\u0107 jeden\"],[\"@anonymized_account @anonymized_account @anonymized_account @anonymized_account @anonymized_account @anonymized_account Mam nadziej\\u0119 \\u017ce nigdy wi\\u0119cej. Czekam na rych\\u0142\\u0105 delegalizacj\\u0119.\"],[\"@anonymized_account A Ty nigdy nie robisz dw\\u00f3ch rzeczy jednocze\\u015bnie? Np. idziesz i \\u017cujesz gum\\u0119.\"],[\"@anonymized_account @anonymized_account O 11.00 wielkie obtrabienie sukcesu...\"],[\"@anonymized_account @anonymized_account Ty kurwa @anonymized_account nie pierdol w tv bo sie \\u017cyga\\u0107 chce\"],[\"@anonymized_account problemem jest to \\u017ce jak sobie co\\u015b ubzdurasz to my\\u015blisz \\u017ce zawsze masz racje bo jeste\\u015b wszechwiedz\\u0105cy@anonymized_account @anonymized_account\"],[\"@anonymized_account Taki B\\u0142aszczykowski tez za co do repry?  \\u017beby niebylo ze wbijam szpilki do legi?\"],[\"Cz\\u0119sto wracam do tego kawa\\u0142ka. @anonymized_account\"],[\"@anonymized_account A pisdzielstwo, szczury, gady, plazy popromienne, azbestowe?\"],[\"omg ale jestem wyjebana po tym wyk\\u0142adzie\"],[\"@anonymized_account @anonymized_account jak Zarycki jest Twoim informatorem to te info mo\\u017cna w kiblu spu\\u015bci\\u0107\"],[\"@anonymized_account @anonymized_account Ale Karolina ostatnio by\\u0142a w TVP \\ud83d\\ude1c\"],[\"#NAME?\"],[\"@anonymized_account @anonymized_account U mnie te\\u017c wy\\u015bwietla w\\u0142a\\u015bciwe kolory \\ud83d\\ude0a\"],[\"@anonymized_account @anonymized_account Najpierw kasza, p\\u00f3\\u017aniej przyjemno\\u015bci, a kiedy\\u015b wolno\\u015b\\u0107, ale wy kl\\u0119kacie bez obawy zostanie i tak bez was\"],[\"@anonymized_account @anonymized_account @anonymized_account No oboje Pa\\u0144stwo wygl\\u0105dacie jak rodze\\u0144stwo. I tacy \\u017c\\u00f3\\u0142ci oboje.\"],[\"@anonymized_account No kurwa @anonymized_account ty masz nie rz\\u0105dzi\\u0107, madz nie rz\\u0105dzi\\u0107\"],[\"Yerri Mina - z\\u0142ota pi\\u0142ka \\ud83d\\ude01\"],[\"@anonymized_account jeszcze nie mam planu wykonania ;-)\"],[\"@anonymized_account \\u015al\\u0105sk Wroc\\u0142aw ma jaki\\u015b drugi podmiot, \\u017ce wystawia drugi zesp\\u00f3\\u0142 w bara\\u017cach?\"],[\"@anonymized_account personalnie do tej Pani, przyjrzyj si\\u0119 sobie @anonymized_account @anonymized_account , @anonymized_account @anonymized_account\"],[\"Nie wiem, jak Barcelona i Real otrz\\u0105sn\\u0105 si\\u0119 po utracie tak wa\\u017cnych pi\\u0142karzy, jak Paulinho i Cristiano Ronaldo.\"],[\"Polska zrealizowala nasze cele w UE na szczycie z nawi\\u0105zk\\u0105. Podajcie dalej RT koniecznie potrzebne - dzi\\u0119kuj\\u0119\\ud83d\\ude0a\\\\nhttps:\\u002f\\u002ft.co\\u002fOzUaePZLpY\"],[\"RT @anonymized_account Polska zrealizowala nasze cele w UE na szczycie z nawi\\u0105zk\\u0105. Podajcie dalej RT koniecznie potrzebne - dzi\\u0119kuj\\u0119\\ud83d\\ude0a\\\\nhttps:\\u002f\\u002ft.co\\u002fOz\\u2026\"],[\"@anonymized_account @anonymized_account @anonymized_account A my nie mamy helikopter\\u00f3w, rakiet, \\u0142odzi podwodnych a mamy WOT w kt\\u00f3rym ja biegam\"],[\"@anonymized_account @anonymized_account A czego oczekiwa\\u0142e\\u015b ? Przed\\u0142u\\u017c\\u0105 z kim\\u015b kontrakt to poinformuj\\u0105\"],[\"@anonymized_account Jeszcze Podolski od jakiego\\u015b czasu.\"],[\"Przepraszamy. Nie wpadli\\u015bmy na to, \\u017ce pokazuj\\u0105c \\u015brodkowy palec narodowi, kt\\u00f3ry - ponad podzia\\u0142ami, czci #PW1944, mo\\u017cemy kogo\\u015b obrazi\\u0107. Sorki\"],[\"@anonymized_account ahhh my\\u015bla\\u0142am, \\u017ce na jakie\\u015b innej stronie\"],[\"@anonymized_account \\u0179le... Mia\\u0142e\\u015b napisa\\u0107, \\u017ce nie mo\\u017cesz wi\\u0119cej zdradzi\\u0107 :(\"],[\"@anonymized_account Pan w tle, z lewej, to z mopem zasuwa? \\ud83d\\udd92\"],[\"Czy naprawd\\u0119 trzeba publicznie przyznawa\\u0107 si\\u0119 do nieprzygotowania do meczu, drodzy panowie komentatorzy? (kwestia Sheridana)\"],[\"Na tt te beznadziejne gadki o niczym, to ju\\u017c wol\\u0119 sam ze sob\\u0105\"],[\"@anonymized_account Pami\\u0119taj, ze ja daleko do ciebie nie mam \\ud83d\\ude02\"],[\"@anonymized_account Pomys\\u0142 sobie ze ja obla\\u0142am bo z pe\\u0142na \\u015bwiadomo\\u015bci\\u0105 wjebalam si\\u0119 na rondo XD widzisz to taki ma\\u0142y b\\u0142\\u0105d, Ew\"],[\"@anonymized_account Jest tej cho\\u0142oty tutaj ca\\u0142kiem sporo. Napewno si\\u0119 udzielaj\\u0105.\"],[\"@anonymized_account Hejka, hejka, sejonarka w czwartek o 11 juz do domku\"],[\"@anonymized_account @anonymized_account Mistrz, cz\\u0142owiek mem jedyny na \\u015bwiecie\"],[\"@anonymized_account @anonymized_account @anonymized_account York czy Leszek Miller? :)\"],[\"@anonymized_account Kiedys kazdy kopniak bez pi\\u0142ki = czerwona, a je\\u015bli to by\\u0142o tylko po\\u0142o\\u017cenie r\\u0119ki na g\\u0142ow\\u0119, to nie mamy o czym rozmawiac :)\"],[\"Morawieckiemu co\\u015b nie idzie w Namys\\u0142owie. Teraz jako by\\u0142y prezes BZK WBK przedstawia si\\u0119 jaki ten, kt\\u00f3ry zwalcza \\\\\\\"zachodnie korporacje\\\\\\\".\"],[\"RT @anonymized_account Morawieckiemu co\\u015b nie idzie w Namys\\u0142owie. Teraz jako by\\u0142y prezes BZK WBK przedstawia si\\u0119 jaki ten, kt\\u00f3ry zwalcza \\\\\\\"zacho\\u2026\"],[\"@anonymized_account No widzisz, a zwyci\\u0119sk\\u0105 asyst\\u0119 w tym meczu zanotowa\\u0142 Griezmann. MVP = najbardziej warto\\u015bciowy zawodnik :)\"],[\"@anonymized_account do domu bo ci r\\u00f3zga dup\\u0119 @anonymized_account ty ma\\u0142y  @anonymized_account\"],[\"Jak go pierwszy raz us\\u0142ysza\\u0142am to mia\\u0142am ciarki na ca\\u0142ym ciele\"],[\"@anonymized_account kibice nigdy nie pozwol\\u0105 na to \\u017ceby po raz kolejny by\\u0142 trenerem\"],[\"Teraz zarykam nos i mowie \\\\\\\"ca\\u0142a polska z was sie \\u015bmieje, komuni\\u015bci i zlodzieje,\"],[\"@anonymized_account Jego tata t\\u0142umaczy\\u0142 konferencj\\u0119 przy okazji meczu z Rio Ave w Vila do Conde :)\"],[\"@anonymized_account a wy\\u015bmiewanie Lionela M. by\\u0142o po skazaniu go za oszustwa podatkowe ? bo jako\\u015b przeoczy\\u0142em\"],[\"@anonymized_account @anonymized_account @anonymized_account \\u017cycz\\u0119 Gatcie mistrza bo zas\\u0142uguj\\u0105 na to graj\\u0105c 2 sezony na wysokim poziomie.\"],[\"@anonymized_account Plakat widz\\u0119 tak @anonymized_account z  @anonymized_account wymiana spojrze\\u0144  a @anonymized_account na kolanach li\\u017ce ich po stopach\"],[\"@anonymized_account Pana zdanie nie interesuje Polak\\u00f3w \\u2757\\\\nWypchaj si\\u0119 Pan niemieck\\u0105, \\u015bmierdz\\u0105c\\u0105 onuc\\u0105 \\u2757\"],[\"RT @anonymized_account @anonymized_account Pana zdanie nie interesuje Polak\\u00f3w \\u2757\\\\nWypchaj si\\u0119 Pan niemieck\\u0105, \\u015bmierdz\\u0105c\\u0105 onuc\\u0105 \\u2757\"],[\"@anonymized_account @anonymized_account M\\u00f3g\\u0142, ale jako\\u015b nie chce mi si\\u0119 wierzy\\u0107, \\u017ce tak to wygl\\u0105da\\u0142o.\"],[\"em ok w\\u0105tek Jerzego i Zuzy w Przyjaci\\u00f3\\u0142kach to najlepsze co tam by\\u0142o kiedykolwiek\"],[\"RT @anonymized_account @anonymized_account Giertych: my\\u015bl\\u0119, \\u017ce my\\u015bl\\u0119.\"],[\"Ostatnio si\\u0119 zrobi\\u0142am polityczna chyba studia wesz\\u0142y mi za mocno\"],[\"@anonymized_account Badziewny zesp\\u00f3\\u0142, a i tak Anglicy byli o krok od straty punkt\\u00f3w :)\"],[\"@anonymized_account nawet pasy to dla was za du\\u017ce wyzwanie co wida\\u0107 po twoim profilowym.Mistrzowie opraw.\"],[\"@anonymized_account nie chodzi\\u0142o mi o to \\u017ce si\\u0119 cieszy\\u0142e\\u015b z upadku Wis\\u0142y tylko \\u017ce masz czarny humor :) \\u017ce si\\u0119 z Wis\\u0142y na Chojnice przerzuci\\u0142em :)\"],[\"Ta dru\\u017cyna powsta\\u0142a za czas\\u00f3w PO-PSL.\"],[\"RT @anonymized_account Ta dru\\u017cyna powsta\\u0142a za czas\\u00f3w PO-PSL.\"],[\"@anonymized_account Ho\\u0142d to si\\u0119 oddaje bohaterom....\"],[\"@anonymized_account @anonymized_account  a co ma procent zapelnienia pojemnosci do frekwencji ? Po za tym co to jest 50% na takim malym stadionie ?\"],[\"Sp\\u00f3\\u0142ka srebrna kapita\\u0142  7 mln,  w zarz\\u0105dzie sekretarka i kierowca Jarkacza\"],[\"@anonymized_account Haha  a ilu ty zapraszasz do studia co pierd...takie g\\u0142upoty...\"],[\"RT @anonymized_account @anonymized_account Haha  a ilu ty zapraszasz do studia co pierd...takie g\\u0142upoty...\"],[\"Kto chce zrobi\\u0107 ze mna tea party??\"],[\"@anonymized_account Ale za to wyst\\u0105pi\\u0142 r\\u00f3wnie b\\u0142yskotliwy,inteligentny, merytoryczny,bystry pose\\u0142 Kieeerwiiinski!!!\"],[\"@anonymized_account No gdzie, wszystko zale\\u017ca\\u0142o od Lecha w ostatniej kolejce :D\"],[\"Moja morda to takie spierdolenie ze zaraz rykne\"],[\"RT @anonymized_account Moja morda to takie spierdolenie ze zaraz rykne\"],[\"@anonymized_account @anonymized_account No w r\\u00f3\\u017cnych miejscach ludzie seks uprawiaj\\u0105. Dajcie spok\\u00f3j...\"],[\"@anonymized_account Ok boli, boli. Czarne katabasy, mordercy irlandzkich kobiet i sierot do kruchty i pokutowa\\u0107 do ko\\u0144ca \\u017cycia za swoje wyst\\u0119pki.\"],[\"Czemu \\u017caden tramwaj nie jedzie wtf\"],[\"@anonymized_account Tak, statystyki to k\\u0142amstwa. Za to wyci\\u0105gni\\u0119cie jednej sytuacji z 90 minutowego meczu to bezcenny dow\\u00f3d.\"],[\"@anonymized_account @anonymized_account Zamiast tego mo\\u017cna znale\\u017a\\u0107 grafiki na r\\u00f3\\u017cnych ekranach \\u002f telebimach w mie\\u015bcie.\"],[\"@anonymized_account Niby sami \\u015bwinie, a nic nie wiedz\\u0105\"],[\"@anonymized_account Ale co to ma do Mystka?\"],[\"@anonymized_account Serio chcecie cichego stadionu ?\"],[\"Co to mia\\u0142o by\\u0107? \\ud83d\\ude02\"],[\"@anonymized_account tego si\\u0119 niespodziewa\\u0142em po Tobie... Zawiod\\u0142e\\u015b nas :D @anonymized_account\"],[\"@anonymized_account @anonymized_account Wiem, ale prezentacj\\u0119 mogli zrobi\\u0107 bez naklejek.\"]],\"hovertemplate\":\"Dim_1=%{x}\\u003cbr\\u003eDim_2=%{y}\\u003cbr\\u003etext=%{customdata[0]}\\u003cbr\\u003ecluster=%{marker.color}\\u003cextra\\u003e\\u003c\\u002fextra\\u003e\",\"legendgroup\":\"\",\"marker\":{\"color\":[12,63,-1,-1,-1,70,78,21,-1,84,-1,24,60,12,63,3,3,12,41,61,63,-1,55,62,57,66,90,72,32,-1,78,78,13,13,79,-1,28,31,50,64,10,10,-1,63,22,50,-1,48,14,4,4,35,-1,-1,72,-1,12,57,63,67,-1,74,40,-1,22,-1,14,79,63,65,75,-1,21,39,-1,-1,22,76,57,-1,61,-1,67,3,3,61,-1,8,8,79,-1,29,61,67,-1,33,44,17,30,77,-1,63,20,61,83,40,75,75,89,19,9,9,-1,51,62,83,33,82,-1,18,51,52,83,-1,61,41,57,74,25,79,61,20,88,61,48,39,58,-1,75,-1,41,15,23,30,56,-1,8,8,23,55,61,17,-1,6,6,-1,40,72,61,80,61,63,13,83,90,61,73,34,61,5,55,62,16,45,66,61,5,-1,54,-1,40,10,10,61,73,79,27,4,4,24,55,-1,58,45,34,47,73,75,56,59,-1,86,55,52,52,19,-1,40,64,-1,82,50,17,62,-1,-1,63,-1,57,39,54,48,-1,30,14,17,64,42,75,55,-1,63,32,82,29,-1,83,42,38,61,15,34,1,1,48,20,12,60,67,61,27,36,-1,-1,61,-1,79,61,-1,86,58,-1,68,54,63,66,6,6,63,25,81,64,-1,60,-1,-1,57,25,22,63,39,48,56,2,2,-1,61,85,86,40,40,64,74,46,-1,43,7,66,41,63,82,67,12,27,25,11,11,69,49,39,54,16,5,58,18,64,0,0,37,61,79,67,-1,85,-1,-1,44,55,7,71,61,75,-1,61,-1,47,68,20,88,65,58,85,23,12,3,3,24,75,34,61,-1,-1,46,71,61,5,69,7,-1,-1,63,61,20,61,-1,8,8,64,5,-1,15,40,75,32,73,61,67,21,28,61,73,88,-1,-1,63,48,67,56,9,9,66,63,27,48,6,6,23,48,53,38,28,38,-1,5,41,52,52,34,63,84,57,61,18,81,57,53,69,5,71,-1,3,3,14,61,81,31,11,11,-1,-1,6,6,21,21,45,68,50,43,57,48,67,-1,81,1,1,63,25,48,83,80,-1,75,61,-1,-1,12,42,47,88,89,63,-1,62,-1,61,-1,-1,-1,17,67,23,69,-1,41,88,59,13,67,43,39,61,-1,7,35,26,75,66,-1,70,70,44,59,53,55,32,3,3,48,67,44,75,37,12,23,27,-1,61,79,59,7,64,42,87,64,41,-1,67,86,28,45,-1,77,27,35,56,35,76,61,-1,35,87,7,61,43,61,82,26,48,2,2,-1,60,35,66,36,-1,38,44,-1,-1,17,66,30,19,25,39,0,0,19,-1,39,48,62,59,31,85,77,-1,-1,34,48,78,65,49,-1,86,61,61,25,88,63,-1,-1,46,18,20,14,14,46,27,63,-1,64,61,79,68,-1,-1,45],\"coloraxis\":\"coloraxis\",\"symbol\":\"circle\"},\"mode\":\"markers\",\"name\":\"\",\"orientation\":\"v\",\"showlegend\":false,\"x\":[-0.28162193298339844,-0.1501561850309372,1.2137305736541748,-0.47723403573036194,0.18385232985019684,-1.4707754850387573,-0.4030526280403137,-0.4737239181995392,1.5401681661605835,-1.1164438724517822,-0.39860960841178894,-0.08703208714723587,-0.2671653628349304,0.033709123730659485,0.10483825951814651,2.184297561645508,2.1828432083129883,-0.40052568912506104,-2.206395387649536,-0.39021754264831543,-0.12145773321390152,-0.8728027939796448,0.5604096055030823,-1.2475183010101318,0.3698034882545471,-1.182531714439392,-0.6835591197013855,-1.170174241065979,1.373755693435669,-0.7689321637153625,-0.4036654233932495,-0.40430647134780884,-0.8009232878684998,-0.7849761247634888,-0.38976702094078064,-0.46145233511924744,-2.4230458736419678,-2.216944456100464,0.3126297891139984,0.2686203122138977,-0.5038094520568848,-0.5037012696266174,-1.7323373556137085,0.1423078030347824,-2.1975901126861572,0.3745175898075104,-1.1241114139556885,-1.3464866876602173,-0.2059977501630783,0.6915104985237122,0.6911672353744507,-0.3179137706756592,-0.018745653331279755,-0.37328964471817017,-1.214005947113037,0.13040950894355774,-0.1122845858335495,0.4550839364528656,-0.009306208230555058,-0.949573814868927,-1.299994707107544,0.5637813210487366,-1.6078283786773682,-1.9266347885131836,-2.3239235877990723,0.013875897042453289,-0.1469496339559555,-0.4094420373439789,-0.28162097930908203,-0.17346660792827606,0.6522947549819946,0.9924827218055725,-0.43204453587532043,-2.2614643573760986,-0.44360265135765076,-0.7933065891265869,-2.21885085105896,-1.3825299739837646,0.6268676519393921,-0.3534727394580841,-0.36053285002708435,-1.0381041765213013,-0.8907215595245361,2.2216439247131348,2.2213501930236816,-0.3964148759841919,-0.42471736669540405,1.7605289220809937,1.7605665922164917,-0.3959362506866455,0.6670665144920349,1.1506551504135132,-0.3822718560695648,-0.9699844717979431,-0.9249338507652283,1.540888786315918,0.809581458568573,1.3061469793319702,0.9771909117698669,-0.7228484749794006,-0.2855086028575897,0.08412793278694153,0.576950192451477,-0.4055439233779907,-1.089508295059204,-1.576133370399475,0.6629117131233215,0.6579828858375549,-0.9155324101448059,1.4789618253707886,1.1158260107040405,1.1157822608947754,0.3111843466758728,0.29833605885505676,-1.2658896446228027,-1.0405560731887817,1.4993666410446167,-0.6216379404067993,-0.08397520333528519,1.1510646343231201,0.16651806235313416,0.1614922136068344,-1.122280240058899,-0.5446063280105591,-0.36201584339141846,-2.1592633724212646,0.703813910484314,0.5500680804252625,-0.23820827901363373,-0.4022952914237976,-0.38468798995018005,0.47087422013282776,-0.527184009552002,-0.3728220462799072,-1.406182885169983,-2.3913257122039795,-0.7914208769798279,0.2597205936908722,0.5821027755737305,-0.7900051474571228,-2.108123540878296,-0.2592403292655945,-2.0336902141571045,0.9346053004264832,0.9612123370170593,-0.4199591875076294,1.6934425830841064,1.693097472190857,-2.108321189880371,0.5345205664634705,-0.41378358006477356,1.3273612260818481,-0.653386116027832,0.016604052856564522,0.0163328368216753,-1.2351374626159668,-1.7372539043426514,-1.145485281944275,-0.4035777151584625,-1.271543025970459,-0.39100366830825806,-0.08003782480955124,-0.7316213846206665,-1.069884181022644,-0.7600200772285461,-0.38382863998413086,-0.7771992683410645,-1.8974288702011108,-0.3935118615627289,-0.037369485944509506,0.5424134135246277,-1.2335925102233887,-0.4495193064212799,0.85186767578125,-1.229678988456726,-0.39028453826904297,-0.03165877237915993,-0.49266916513442993,-0.4279763996601105,-1.2162976264953613,-1.616306185722351,-0.7724162340164185,-0.7718695402145386,-0.3941590189933777,-0.7942559719085693,-0.40795472264289856,1.5265504121780396,0.769670307636261,0.7688992619514465,-0.13322004675865173,0.5485249161720276,-0.03754107281565666,-0.7521871328353882,0.7012176513671875,-1.7997922897338867,-0.3844209611415863,-0.7887593507766724,0.6155417561531067,1.0714781284332275,-0.4739624559879303,-1.4112132787704468,-1.2159897089004517,0.5930940508842468,0.14073996245861053,0.1336996704339981,1.4337506294250488,0.5631442666053772,-1.6328661441802979,0.3982776999473572,-2.711789131164551,-0.6010552644729614,0.31082719564437866,1.3405654430389404,-1.2362847328186035,-0.6316155195236206,-1.0632524490356445,-0.12145773321390152,-0.4071730077266693,0.36146682500839233,-2.3517398834228516,-0.4198826253414154,-1.5163226127624512,1.2004797458648682,1.0444073677062988,-0.23131871223449707,1.3313285112380981,0.30918779969215393,0.09543545544147491,0.6416804790496826,0.5855164527893066,-0.42086246609687805,-0.10551425814628601,1.3783657550811768,-0.6406244039535522,1.2628519535064697,-1.601355791091919,-1.0785574913024902,-0.1212654560804367,-1.8909533023834229,-0.3966383934020996,-0.24850890040397644,-1.8316230773925781,-2.1170756816864014,-2.1169612407684326,-1.1229137182235718,0.417093962430954,0.014462758786976337,-0.38203859329223633,-0.9814944863319397,-0.36388880014419556,1.4841468334197998,-0.40530484914779663,-0.7295946478843689,-0.3611311912536621,-0.366559237241745,-0.31220588088035583,-0.3907531797885895,-0.3855748176574707,-0.44706830382347107,-1.192334771156311,-0.93507981300354,0.621219277381897,0.47770801186561584,-0.4255528748035431,0.027088554576039314,-1.3273500204086304,0.03523833677172661,0.03771694749593735,-0.0619586817920208,-0.19295065104961395,-0.4942353069782257,0.3396996557712555,-0.6524732708930969,-0.3449817895889282,-0.3606637716293335,-2.2070491313934326,0.400759220123291,-0.16056886315345764,-2.165508508682251,0.008932898752391338,-2.3150229454040527,-1.692098617553711,0.8395804762840271,-1.6526641845703125,-1.6523716449737549,-2.4520187377929688,-0.3885273039340973,-1.2557990550994873,-1.1976455450057983,-1.8766796588897705,-1.6966278553009033,0.25935542583465576,0.5146717429161072,0.6697274446487427,-0.17534714937210083,0.08460250496864319,-1.1493613719940186,-1.2181000709533691,-2.208481788635254,-0.14605532586574554,-0.5353566408157349,-0.9814974665641785,-0.43677353858947754,1.5424940586090088,-0.13507866859436035,-1.011043667793274,-1.0104117393493652,0.441358745098114,-1.2357499599456787,-2.5962438583374023,-0.4254603087902069,-0.4741702973842621,-0.012217426672577858,-0.7610047459602356,1.1930687427520752,0.3886035978794098,-2.954397678375244,-2.954298973083496,-1.9267116785049438,-0.39173123240470886,-0.3959891200065613,-0.9720120429992676,-0.29968002438545227,-1.2711306810379028,-1.588858962059021,-0.5776101350784302,0.9662801027297974,0.5292478799819946,-1.056164026260376,-0.9646832346916199,-0.39853614568710327,0.6354702115058899,-0.2498152256011963,-0.36683762073516846,-1.3614933490753174,-0.3753212094306946,0.4771268963813782,0.3666354715824127,-0.441879540681839,-0.2990548610687256,-0.8069949150085449,-1.237332820892334,-1.9777947664260864,-0.02148888073861599,2.5938568115234375,2.593900680541992,-0.1110353022813797,0.6340011954307556,-1.781818151473999,-0.3989548981189728,1.3006951808929443,-0.3484100103378296,0.6833649277687073,-0.9654940962791443,-0.37274298071861267,-0.05728350952267647,0.45243585109710693,-1.2370367050170898,-1.7574177980422974,-1.3842244148254395,-0.2591896653175354,-0.3891058564186096,0.6289075016975403,-0.3980085849761963,-0.3339150547981262,1.8117825984954834,1.8114768266677856,0.3743983209133148,-0.08188989013433456,-0.38235360383987427,-0.2582891285419464,-1.853702187538147,0.6174028515815735,1.4787052869796753,-0.772769570350647,-0.378838449716568,-0.9563960433006287,-0.47122907638549805,-2.5900301933288574,-0.3637872338294983,-0.7733381390571594,-0.45623481273651123,1.2512891292572021,1.2505663633346558,-0.21356987953186035,-1.3184069395065308,-0.9297064542770386,0.9671465158462524,1.3314242362976074,1.3314131498336792,-1.3037770986557007,0.048998843878507614,1.4778164625167847,-1.2265524864196777,0.31275710463523865,0.3127537667751312,-1.9046850204467773,-1.5647751092910767,0.9092178344726562,-1.793386697769165,-2.480581521987915,-1.8393995761871338,-1.6807570457458496,0.004743024706840515,-2.0692288875579834,0.1059112697839737,0.09528777003288269,-1.8106111288070679,-0.05651148036122322,-1.1281745433807373,0.3249855935573578,-0.3956053555011749,1.1751681566238403,-0.49479031562805176,0.6042894721031189,0.7850074172019958,0.4480364918708801,0.06572410464286804,-0.9915744066238403,-1.0692957639694214,2.445279359817505,2.445430278778076,-0.22428002953529358,-0.4021705687046051,-0.5413082838058472,-2.1396896839141846,-1.0638720989227295,-1.0636638402938843,0.6128984093666077,0.585871160030365,-0.20950540900230408,-0.2092430293560028,-0.434917688369751,-0.46958494186401367,0.7760509252548218,0.4917982518672943,0.3747459650039673,0.18282151222229004,0.5615754723548889,-1.4943647384643555,-0.9978721737861633,-0.37939199805259705,-0.517273485660553,-2.1433842182159424,-2.141359329223633,-0.1945960521697998,-0.1866845190525055,-1.375840663909912,-1.0679460763931274,-1.2550714015960693,-0.3357878625392914,0.6370387077331543,-0.40156668424606323,-3.351191759109497,-3.351271867752075,-0.5672948956489563,0.0247605349868536,-0.3791235387325287,-0.4595942497253418,-0.8081035017967224,-0.056260742247104645,-1.4881502389907837,-1.2000588178634644,-0.32754945755004883,-0.37377774715423584,-0.43126025795936584,-1.1458240747451782,0.8228803873062134,1.4385173320770264,-0.9526332020759583,-1.913753867149353,0.45419299602508545,-0.3450870215892792,-2.135275363922119,-0.478872150182724,-0.6152448058128357,-0.7503006458282471,-0.9637951254844666,0.036306966096162796,-2.302140235900879,-0.37520816922187805,-0.3843913674354553,-1.0777955055236816,-0.3788518011569977,-0.3983800709247589,0.6471810936927795,-1.2374264001846313,-0.2695830166339874,-1.540932297706604,-1.572123646736145,0.9552940130233765,-0.39584609866142273,0.8966187238693237,0.5430158376693726,1.4231226444244385,2.7224245071411133,2.7225866317749023,-1.2740987539291382,-0.9145862460136414,0.9676140546798706,0.6294538974761963,-1.8623608350753784,-0.12989003956317902,-2.0182902812957764,1.3787696361541748,-0.39836153388023376,-0.40122708678245544,-0.40241044759750366,-0.6351595520973206,-1.1476576328277588,0.3327750563621521,-0.10950614511966705,-1.1039844751358032,0.38046762347221375,-2.1625747680664062,-1.0070972442626953,-0.9695816040039062,-1.1882940530776978,-2.437182903289795,0.789779543876648,-1.013597011566162,-0.7094723582267761,1.5080149173736572,-0.2856563329696655,0.9948520660400391,-0.3028161823749542,-1.3010787963867188,-0.38279789686203003,-0.4072004556655884,-0.33898013830184937,-1.1342567205429077,-1.1774570941925049,-0.3923053443431854,0.20030993223190308,-0.382402241230011,-0.5669617056846619,-0.34974247217178345,-1.4582998752593994,-1.6386739015579224,-1.6378692388534546,-1.4688024520874023,-0.37374088168144226,-0.3294244706630707,-1.212328314781189,-0.4201250672340393,-0.3417836129665375,-1.7326158285140991,0.8999009728431702,0.6601403951644897,0.3048533797264099,1.3201407194137573,-1.25194251537323,1.045282244682312,1.5392608642578125,-0.14099456369876862,-2.0276331901550293,-2.6598870754241943,-2.659580707550049,1.456549882888794,0.012966386042535305,-2.4646615982055664,-1.3847296237945557,-1.24734365940094,-0.4383363127708435,-2.2696690559387207,-1.2910544872283936,-0.6936362981796265,2.741581439971924,2.741580009460449,-1.851197600364685,-1.3714271783828735,-0.4058051109313965,-0.1859133392572403,-1.1397547721862793,-0.976742148399353,-1.1761046648025513,-0.3604518175125122,-0.3650963306427002,-0.16938865184783936,-0.49896273016929626,-0.17259494960308075,-0.0011682345066219568,-0.01332315243780613,0.616045355796814,1.1811447143554688,0.6048978567123413,-0.22344864904880524,-0.23643848299980164,0.4731888473033905,1.552428126335144,0.059206631034612656,-1.7899876832962036,0.31021368503570557,-0.3873041570186615,-0.40071263909339905,0.47770801186561584,-0.4160175025463104,-0.37975606322288513,0.6983041763305664],\"xaxis\":\"x\",\"y\":[-3.0500876903533936,-1.610404133796692,-2.0047390460968018,-0.6670251488685608,-2.5988590717315674,0.38015878200531006,-0.9610403180122375,-0.5844721794128418,-1.5361182689666748,-0.15105561912059784,-0.9865826964378357,-0.03514046221971512,-1.9388346672058105,-3.0513343811035156,-1.4539624452590942,0.4170760214328766,0.4167817533016205,-2.9490997791290283,-1.900295376777649,-0.933357298374176,-1.5756242275238037,0.18858374655246735,0.03517816215753555,-0.41646113991737366,0.37089499831199646,-0.6779094934463501,0.6270094513893127,-0.8695433735847473,-1.9427565336227417,-1.9410325288772583,-0.9584103226661682,-0.9614856839179993,-2.9156856536865234,-2.9484353065490723,-0.9701797962188721,-0.6478153467178345,-0.6738080978393555,-0.8240277171134949,-1.8580962419509888,-1.3687604665756226,1.9196795225143433,1.9199129343032837,0.3644024729728699,-1.420091986656189,-0.21118851006031036,-1.7421048879623413,-0.8939896821975708,-1.8687111139297485,-0.326113224029541,1.8805932998657227,1.8813220262527466,-0.7503551840782166,0.5667021870613098,-0.3549058735370636,-0.8048585057258606,-1.7452465295791626,-2.8950212001800537,0.3433186113834381,-1.539990782737732,-1.3763573169708252,-2.290321111679077,-0.9242120981216431,-2.7111856937408447,-1.4532917737960815,-0.2752326428890228,-2.017947196960449,-0.5646399855613708,-0.976502001285553,-1.6514155864715576,0.5541905164718628,-0.7123070359230042,-1.2138038873672485,-0.5617528557777405,-1.6717174053192139,-0.9213075041770935,0.7345756888389587,-0.3687831163406372,0.3881182372570038,0.263898640871048,-0.13208237290382385,-0.919938862323761,-0.3869413435459137,-1.413898229598999,0.701865017414093,0.7017049789428711,-0.9382230043411255,-0.8968690037727356,1.3153579235076904,1.3152695894241333,-0.9656469821929932,-2.373595714569092,-2.319688081741333,-0.9115198254585266,-1.3620121479034424,-2.3260841369628906,-1.672605037689209,-1.51561439037323,-0.5076078772544861,-2.54471755027771,-1.545873761177063,-0.6779783964157104,-1.4649206399917603,-2.8436052799224854,-0.9230724573135376,-0.12748606503009796,-2.585975170135498,-0.7395530939102173,-0.7081553339958191,0.6398308873176575,-0.8838939070701599,1.4409517049789429,1.4407804012298584,1.0923986434936523,1.073110580444336,-0.4347648620605469,-0.05432067811489105,-1.6914349794387817,-1.598816990852356,-0.5964188575744629,-0.2737967073917389,1.0098434686660767,0.9950259923934937,-0.07644596695899963,-2.0827460289001465,-0.9128303527832031,-2.0299744606018066,0.24343028664588928,-0.9321517944335938,-0.0908278301358223,-0.9731799960136414,-0.8952034115791321,-2.5734317302703857,0.6566073298454285,-0.9002252221107483,-1.6283085346221924,-1.3873988389968872,-2.055257797241211,-0.7396522760391235,-0.8244080543518066,0.27020642161369324,-2.1825218200683594,-0.7782469987869263,0.019987093284726143,-2.564028263092041,0.09616430848836899,-0.7968537211418152,1.069239854812622,1.0699812173843384,-0.011624732054769993,-0.18514323234558105,-0.8864458203315735,-0.5195124745368958,0.4086511433124542,1.9760102033615112,1.9762736558914185,-0.9717902541160583,-2.6138930320739746,-0.8065136075019836,-0.8776199817657471,0.563357949256897,-0.9254053831100464,-1.5555857419967651,-2.9073991775512695,-0.0569063238799572,0.6164144277572632,-0.9049965143203735,-1.4767581224441528,-1.1792371273040771,-0.9022608399391174,-0.3933422863483429,-0.19128970801830292,-0.34592705965042114,-0.15482214093208313,-1.6876447200775146,-0.7129292488098145,-0.9200266003608704,-0.3663918972015381,-0.34848254919052124,-0.9264519810676575,-0.8950527906417847,-2.705540180206299,2.149827241897583,2.149757146835327,-0.9238850474357605,-1.4728446006774902,-0.9745118618011475,-1.207141399383545,1.8702847957611084,1.8706445693969727,-0.027363955974578857,-0.2813427746295929,-0.12866954505443573,-2.140345573425293,-1.7799746990203857,-1.090901255607605,-0.8142083287239075,-1.4546245336532593,-0.7693206071853638,0.08047952502965927,-2.3081135749816895,-0.8813322186470032,-1.062015414237976,-0.0946604311466217,0.8532761335372925,0.8316599726676941,-0.790644109249115,-2.322627544403076,-2.4610886573791504,-1.2608659267425537,-1.4555306434631348,-1.5884743928909302,-1.8450024127960205,-0.5290892124176025,-0.42254114151000977,0.42617061734199524,-1.244745135307312,-1.5756242275238037,-0.9045631289482117,0.4627803862094879,-1.3415284156799316,-0.9369776844978333,-1.5428745746612549,-0.9760499596595764,-2.446608781814575,-0.36918938159942627,-0.5252175331115723,-1.341458797454834,-2.4793155193328857,-0.7420384883880615,-0.11586921662092209,-0.5414373874664307,-1.5628288984298706,-1.9786163568496704,-1.578212857246399,-2.254899501800537,-0.00048096117097884417,-0.0680713951587677,-2.36186146736145,-0.4088524878025055,-0.9240495562553406,-0.7681839466094971,-1.2112338542938232,1.653883457183838,1.6538876295089722,-2.072387218475342,-2.90274715423584,-3.0218586921691895,-1.80804443359375,-1.3560928106307983,-0.8958735466003418,-1.3860870599746704,-0.7117190361022949,-1.7356185913085938,-0.8495670557022095,-0.8672709465026855,-2.0323052406311035,-0.9622758030891418,-0.8650633096694946,-0.2749088406562805,-1.0788391828536987,-2.2252964973449707,-0.4724053740501404,-1.0618864297866821,-0.9431641697883606,-1.5146898031234741,-0.6719770431518555,1.6779028177261353,1.6628880500793457,-1.549660325050354,-0.12835490703582764,-1.6251686811447144,-1.3026068210601807,0.6654492616653442,-1.8444780111312866,-0.9599945545196533,-0.46871086955070496,0.25796282291412354,-0.10845361649990082,-0.20694592595100403,-1.5228739976882935,-1.43475341796875,-1.5712249279022217,0.14573213458061218,1.7363405227661133,1.736990213394165,-0.9735071063041687,-0.8772496581077576,-1.026151180267334,-1.0551049709320068,-2.471470355987549,-2.5961062908172607,-1.3707282543182373,-0.8694420456886292,-2.004732370376587,-0.7467741966247559,-2.207285165786743,-2.774099349975586,-0.7205638289451599,-1.9605839252471924,-1.5858279466629028,-1.5950955152511597,-1.3560893535614014,-2.97749662399292,-1.1246631145477295,-0.1081697940826416,1.886910080909729,1.8876076936721802,-1.1225202083587646,-2.2361767292022705,-1.4270732402801514,-0.9220808744430542,-0.2464223951101303,-0.4403995871543884,-2.230919599533081,-0.35641786456108093,-1.2756496667861938,0.8923475742340088,0.8924717903137207,-0.5869515538215637,-0.9104446768760681,-0.9709771871566772,-1.3574045896530151,-0.27061140537261963,-1.0279974937438965,0.5439596176147461,-2.704535484313965,-1.541007399559021,0.09690186381340027,-2.8297441005706787,0.12745533883571625,-0.9193994402885437,-0.7385115623474121,-0.6498766541481018,-0.8926553726196289,-0.5681953430175781,-0.8294674158096313,-1.0701686143875122,-2.8895843029022217,0.5849712491035461,0.5659980773925781,-2.122560501098633,-0.9792742133140564,0.2422764152288437,-3.0092897415161133,-0.16110076010227203,-0.1611538827419281,-0.03315319865942001,-0.7006317377090454,-1.2055164575576782,-0.8517152070999146,-2.188852071762085,-0.8361530303955078,-2.0819156169891357,0.11857329308986664,-0.91193026304245,-0.3426472246646881,-1.108794927597046,-2.820087194442749,-1.7449860572814941,-0.37233397364616394,-1.578662633895874,-0.9125949144363403,-2.819033145904541,-0.8812502026557922,-0.6572078466415405,0.9770228266716003,0.9778175354003906,-1.2746714353561401,-0.39487436413764954,-0.8495000600814819,-0.7761574983596802,-2.261831760406494,-0.6755255460739136,-1.8458300828933716,-1.4840309619903564,-0.9058692455291748,-1.370208740234375,-0.5579531192779541,-0.683069109916687,-0.9082335233688354,-1.4763743877410889,0.5550916790962219,1.8646044731140137,1.864932656288147,-1.612265706062317,-1.9907383918762207,-1.387523889541626,0.09807810932397842,1.3891505002975464,1.389573097229004,-0.6169704794883728,-1.5101104974746704,-1.3336782455444336,-1.9214544296264648,2.1640241146087646,2.1639833450317383,0.14658726751804352,-1.5673376321792603,-0.12415497750043869,-0.22582465410232544,-0.666741669178009,-0.27604156732559204,0.30160602927207947,-0.34020569920539856,-2.2507119178771973,0.7622922658920288,0.7267425060272217,-1.1284916400909424,-1.6670570373535156,-0.18276704847812653,0.25581130385398865,-0.9192367792129517,-0.35352909564971924,-1.6302123069763184,0.27854353189468384,-0.15464332699775696,-1.1201374530792236,-0.3688815236091614,0.08985436707735062,-1.2295359373092651,0.22529764473438263,0.22529305517673492,-0.5423777103424072,-0.9389595985412598,-1.6362042427062988,-0.8923245072364807,1.9135408401489258,1.9135843515396118,1.2227625846862793,1.188079595565796,2.266720771789551,2.2664670944213867,-0.6047800183296204,-0.5936856269836426,-1.7775373458862305,-1.0596119165420532,-1.9264851808547974,-2.255964994430542,0.34897440671920776,-1.6116933822631836,-1.3813577890396118,-0.7805641889572144,-1.640367031097412,1.4748578071594238,1.4756677150726318,-1.5915416479110718,-0.13445425033569336,-1.7632434368133545,-0.030165130272507668,0.6962674856185913,-0.8286409974098206,-0.8115828037261963,-0.9390199780464172,0.2802424430847168,0.2804705500602722,-3.0923337936401367,-2.4671897888183594,-0.8214779496192932,0.5735652446746826,0.6063401103019714,-1.551862120628357,-2.07250714302063,-0.328352153301239,-0.860492467880249,-0.8766481876373291,-0.9724637269973755,-0.20588280260562897,-2.6255199909210205,-0.3954631984233856,-1.4021154642105103,0.13668465614318848,-1.1213539838790894,-0.8035290837287903,-2.013378620147705,0.5384043455123901,-2.3512110710144043,-2.9228434562683105,-1.367069959640503,-2.2631843090057373,-1.4972138404846191,-0.8827201724052429,-0.9679457545280457,-2.8492586612701416,-0.7350247502326965,-0.6457374095916748,-0.6575819849967957,-0.6659780144691467,-0.1131114587187767,0.38854730129241943,0.4733017385005951,-1.3985384702682495,-2.2068936824798584,-0.1350223422050476,-0.06205371767282486,-1.8656595945358276,-0.598511278629303,-0.5983289480209351,-1.830619215965271,-1.408069133758545,-1.3790425062179565,-0.7873732447624207,-0.7730381488800049,-3.0226945877075195,0.05929914489388466,-1.2507086992263794,-0.843029260635376,-0.8627855181694031,-0.9740351438522339,-2.3540728092193604,-2.816974401473999,-1.3218446969985962,-2.427736282348633,0.5753080248832703,-1.2982240915298462,-2.086836099624634,-0.005952844861894846,-1.3700578212738037,-1.0796383619308472,-0.6549295783042908,-1.7567036151885986,-0.17850583791732788,-1.5532751083374023,-1.1854780912399292,-0.7272530794143677,0.07111106067895889,-0.7279816269874573,0.49635982513427734,-0.8747847080230713,-0.9948943257331848,-0.7561652064323425,0.6700593829154968,-2.822420597076416,-0.8904668092727661,-2.257544994354248,-0.913472592830658,-1.5937684774398804,-0.6480398178100586,-1.8057713508605957,1.9384528398513794,1.9400523900985718,-1.034620761871338,-1.8421998023986816,-0.7402209639549255,-0.6909475326538086,-0.6717090606689453,-2.4608254432678223,-0.41055208444595337,-1.4350612163543701,-0.5263860821723938,-1.1321868896484375,-0.5165557861328125,-0.6438045501708984,-2.4664885997772217,-0.8852688074111938,-0.08793961256742477,-1.6635998487472534,1.1710222959518433,1.1701534986495972,-0.7407234311103821,-0.23447264730930328,-1.2273321151733398,-1.714665174484253,-0.39111098647117615,-2.2594196796417236,-0.9273310303688049,-1.0358749628067017,-1.566227674484253,-1.4014049768447876,-1.40133535861969,-0.9829877018928528,-1.7770452499389648,-0.9539406895637512,0.5605030059814453,-2.1725940704345703,0.5933101773262024,-1.115315318107605,-0.8751265406608582,-0.8879258632659912,-0.1490454375743866,0.5859997272491455,-1.589077115058899,0.38607630133628845,0.34732624888420105,-2.0278990268707275,-0.31601184606552124,-2.797229051589966,-0.44709888100624084,-0.48816990852355957,-2.1165168285369873,-1.1680928468704224,-1.4969713687896729,-0.7708364725112915,-1.3315632343292236,-0.890946626663208,-0.9708418846130371,-1.0618864297866821,-0.9840843677520752,-0.18552996218204498,-1.7640265226364136],\"yaxis\":\"y\",\"type\":\"scatter\"}],                        {\"template\":{\"data\":{\"histogram2dcontour\":[{\"type\":\"histogram2dcontour\",\"colorbar\":{\"outlinewidth\":0,\"ticks\":\"\"},\"colorscale\":[[0.0,\"#0d0887\"],[0.1111111111111111,\"#46039f\"],[0.2222222222222222,\"#7201a8\"],[0.3333333333333333,\"#9c179e\"],[0.4444444444444444,\"#bd3786\"],[0.5555555555555556,\"#d8576b\"],[0.6666666666666666,\"#ed7953\"],[0.7777777777777778,\"#fb9f3a\"],[0.8888888888888888,\"#fdca26\"],[1.0,\"#f0f921\"]]}],\"choropleth\":[{\"type\":\"choropleth\",\"colorbar\":{\"outlinewidth\":0,\"ticks\":\"\"}}],\"histogram2d\":[{\"type\":\"histogram2d\",\"colorbar\":{\"outlinewidth\":0,\"ticks\":\"\"},\"colorscale\":[[0.0,\"#0d0887\"],[0.1111111111111111,\"#46039f\"],[0.2222222222222222,\"#7201a8\"],[0.3333333333333333,\"#9c179e\"],[0.4444444444444444,\"#bd3786\"],[0.5555555555555556,\"#d8576b\"],[0.6666666666666666,\"#ed7953\"],[0.7777777777777778,\"#fb9f3a\"],[0.8888888888888888,\"#fdca26\"],[1.0,\"#f0f921\"]]}],\"heatmap\":[{\"type\":\"heatmap\",\"colorbar\":{\"outlinewidth\":0,\"ticks\":\"\"},\"colorscale\":[[0.0,\"#0d0887\"],[0.1111111111111111,\"#46039f\"],[0.2222222222222222,\"#7201a8\"],[0.3333333333333333,\"#9c179e\"],[0.4444444444444444,\"#bd3786\"],[0.5555555555555556,\"#d8576b\"],[0.6666666666666666,\"#ed7953\"],[0.7777777777777778,\"#fb9f3a\"],[0.8888888888888888,\"#fdca26\"],[1.0,\"#f0f921\"]]}],\"heatmapgl\":[{\"type\":\"heatmapgl\",\"colorbar\":{\"outlinewidth\":0,\"ticks\":\"\"},\"colorscale\":[[0.0,\"#0d0887\"],[0.1111111111111111,\"#46039f\"],[0.2222222222222222,\"#7201a8\"],[0.3333333333333333,\"#9c179e\"],[0.4444444444444444,\"#bd3786\"],[0.5555555555555556,\"#d8576b\"],[0.6666666666666666,\"#ed7953\"],[0.7777777777777778,\"#fb9f3a\"],[0.8888888888888888,\"#fdca26\"],[1.0,\"#f0f921\"]]}],\"contourcarpet\":[{\"type\":\"contourcarpet\",\"colorbar\":{\"outlinewidth\":0,\"ticks\":\"\"}}],\"contour\":[{\"type\":\"contour\",\"colorbar\":{\"outlinewidth\":0,\"ticks\":\"\"},\"colorscale\":[[0.0,\"#0d0887\"],[0.1111111111111111,\"#46039f\"],[0.2222222222222222,\"#7201a8\"],[0.3333333333333333,\"#9c179e\"],[0.4444444444444444,\"#bd3786\"],[0.5555555555555556,\"#d8576b\"],[0.6666666666666666,\"#ed7953\"],[0.7777777777777778,\"#fb9f3a\"],[0.8888888888888888,\"#fdca26\"],[1.0,\"#f0f921\"]]}],\"surface\":[{\"type\":\"surface\",\"colorbar\":{\"outlinewidth\":0,\"ticks\":\"\"},\"colorscale\":[[0.0,\"#0d0887\"],[0.1111111111111111,\"#46039f\"],[0.2222222222222222,\"#7201a8\"],[0.3333333333333333,\"#9c179e\"],[0.4444444444444444,\"#bd3786\"],[0.5555555555555556,\"#d8576b\"],[0.6666666666666666,\"#ed7953\"],[0.7777777777777778,\"#fb9f3a\"],[0.8888888888888888,\"#fdca26\"],[1.0,\"#f0f921\"]]}],\"mesh3d\":[{\"type\":\"mesh3d\",\"colorbar\":{\"outlinewidth\":0,\"ticks\":\"\"}}],\"scatter\":[{\"fillpattern\":{\"fillmode\":\"overlay\",\"size\":10,\"solidity\":0.2},\"type\":\"scatter\"}],\"parcoords\":[{\"type\":\"parcoords\",\"line\":{\"colorbar\":{\"outlinewidth\":0,\"ticks\":\"\"}}}],\"scatterpolargl\":[{\"type\":\"scatterpolargl\",\"marker\":{\"colorbar\":{\"outlinewidth\":0,\"ticks\":\"\"}}}],\"bar\":[{\"error_x\":{\"color\":\"#2a3f5f\"},\"error_y\":{\"color\":\"#2a3f5f\"},\"marker\":{\"line\":{\"color\":\"#E5ECF6\",\"width\":0.5},\"pattern\":{\"fillmode\":\"overlay\",\"size\":10,\"solidity\":0.2}},\"type\":\"bar\"}],\"scattergeo\":[{\"type\":\"scattergeo\",\"marker\":{\"colorbar\":{\"outlinewidth\":0,\"ticks\":\"\"}}}],\"scatterpolar\":[{\"type\":\"scatterpolar\",\"marker\":{\"colorbar\":{\"outlinewidth\":0,\"ticks\":\"\"}}}],\"histogram\":[{\"marker\":{\"pattern\":{\"fillmode\":\"overlay\",\"size\":10,\"solidity\":0.2}},\"type\":\"histogram\"}],\"scattergl\":[{\"type\":\"scattergl\",\"marker\":{\"colorbar\":{\"outlinewidth\":0,\"ticks\":\"\"}}}],\"scatter3d\":[{\"type\":\"scatter3d\",\"line\":{\"colorbar\":{\"outlinewidth\":0,\"ticks\":\"\"}},\"marker\":{\"colorbar\":{\"outlinewidth\":0,\"ticks\":\"\"}}}],\"scattermapbox\":[{\"type\":\"scattermapbox\",\"marker\":{\"colorbar\":{\"outlinewidth\":0,\"ticks\":\"\"}}}],\"scatterternary\":[{\"type\":\"scatterternary\",\"marker\":{\"colorbar\":{\"outlinewidth\":0,\"ticks\":\"\"}}}],\"scattercarpet\":[{\"type\":\"scattercarpet\",\"marker\":{\"colorbar\":{\"outlinewidth\":0,\"ticks\":\"\"}}}],\"carpet\":[{\"aaxis\":{\"endlinecolor\":\"#2a3f5f\",\"gridcolor\":\"white\",\"linecolor\":\"white\",\"minorgridcolor\":\"white\",\"startlinecolor\":\"#2a3f5f\"},\"baxis\":{\"endlinecolor\":\"#2a3f5f\",\"gridcolor\":\"white\",\"linecolor\":\"white\",\"minorgridcolor\":\"white\",\"startlinecolor\":\"#2a3f5f\"},\"type\":\"carpet\"}],\"table\":[{\"cells\":{\"fill\":{\"color\":\"#EBF0F8\"},\"line\":{\"color\":\"white\"}},\"header\":{\"fill\":{\"color\":\"#C8D4E3\"},\"line\":{\"color\":\"white\"}},\"type\":\"table\"}],\"barpolar\":[{\"marker\":{\"line\":{\"color\":\"#E5ECF6\",\"width\":0.5},\"pattern\":{\"fillmode\":\"overlay\",\"size\":10,\"solidity\":0.2}},\"type\":\"barpolar\"}],\"pie\":[{\"automargin\":true,\"type\":\"pie\"}]},\"layout\":{\"autotypenumbers\":\"strict\",\"colorway\":[\"#636efa\",\"#EF553B\",\"#00cc96\",\"#ab63fa\",\"#FFA15A\",\"#19d3f3\",\"#FF6692\",\"#B6E880\",\"#FF97FF\",\"#FECB52\"],\"font\":{\"color\":\"#2a3f5f\"},\"hovermode\":\"closest\",\"hoverlabel\":{\"align\":\"left\"},\"paper_bgcolor\":\"white\",\"plot_bgcolor\":\"#E5ECF6\",\"polar\":{\"bgcolor\":\"#E5ECF6\",\"angularaxis\":{\"gridcolor\":\"white\",\"linecolor\":\"white\",\"ticks\":\"\"},\"radialaxis\":{\"gridcolor\":\"white\",\"linecolor\":\"white\",\"ticks\":\"\"}},\"ternary\":{\"bgcolor\":\"#E5ECF6\",\"aaxis\":{\"gridcolor\":\"white\",\"linecolor\":\"white\",\"ticks\":\"\"},\"baxis\":{\"gridcolor\":\"white\",\"linecolor\":\"white\",\"ticks\":\"\"},\"caxis\":{\"gridcolor\":\"white\",\"linecolor\":\"white\",\"ticks\":\"\"}},\"coloraxis\":{\"colorbar\":{\"outlinewidth\":0,\"ticks\":\"\"}},\"colorscale\":{\"sequential\":[[0.0,\"#0d0887\"],[0.1111111111111111,\"#46039f\"],[0.2222222222222222,\"#7201a8\"],[0.3333333333333333,\"#9c179e\"],[0.4444444444444444,\"#bd3786\"],[0.5555555555555556,\"#d8576b\"],[0.6666666666666666,\"#ed7953\"],[0.7777777777777778,\"#fb9f3a\"],[0.8888888888888888,\"#fdca26\"],[1.0,\"#f0f921\"]],\"sequentialminus\":[[0.0,\"#0d0887\"],[0.1111111111111111,\"#46039f\"],[0.2222222222222222,\"#7201a8\"],[0.3333333333333333,\"#9c179e\"],[0.4444444444444444,\"#bd3786\"],[0.5555555555555556,\"#d8576b\"],[0.6666666666666666,\"#ed7953\"],[0.7777777777777778,\"#fb9f3a\"],[0.8888888888888888,\"#fdca26\"],[1.0,\"#f0f921\"]],\"diverging\":[[0,\"#8e0152\"],[0.1,\"#c51b7d\"],[0.2,\"#de77ae\"],[0.3,\"#f1b6da\"],[0.4,\"#fde0ef\"],[0.5,\"#f7f7f7\"],[0.6,\"#e6f5d0\"],[0.7,\"#b8e186\"],[0.8,\"#7fbc41\"],[0.9,\"#4d9221\"],[1,\"#276419\"]]},\"xaxis\":{\"gridcolor\":\"white\",\"linecolor\":\"white\",\"ticks\":\"\",\"title\":{\"standoff\":15},\"zerolinecolor\":\"white\",\"automargin\":true,\"zerolinewidth\":2},\"yaxis\":{\"gridcolor\":\"white\",\"linecolor\":\"white\",\"ticks\":\"\",\"title\":{\"standoff\":15},\"zerolinecolor\":\"white\",\"automargin\":true,\"zerolinewidth\":2},\"scene\":{\"xaxis\":{\"backgroundcolor\":\"#E5ECF6\",\"gridcolor\":\"white\",\"linecolor\":\"white\",\"showbackground\":true,\"ticks\":\"\",\"zerolinecolor\":\"white\",\"gridwidth\":2},\"yaxis\":{\"backgroundcolor\":\"#E5ECF6\",\"gridcolor\":\"white\",\"linecolor\":\"white\",\"showbackground\":true,\"ticks\":\"\",\"zerolinecolor\":\"white\",\"gridwidth\":2},\"zaxis\":{\"backgroundcolor\":\"#E5ECF6\",\"gridcolor\":\"white\",\"linecolor\":\"white\",\"showbackground\":true,\"ticks\":\"\",\"zerolinecolor\":\"white\",\"gridwidth\":2}},\"shapedefaults\":{\"line\":{\"color\":\"#2a3f5f\"}},\"annotationdefaults\":{\"arrowcolor\":\"#2a3f5f\",\"arrowhead\":0,\"arrowwidth\":1},\"geo\":{\"bgcolor\":\"white\",\"landcolor\":\"#E5ECF6\",\"subunitcolor\":\"white\",\"showland\":true,\"showlakes\":true,\"lakecolor\":\"white\"},\"title\":{\"x\":0.05},\"mapbox\":{\"style\":\"light\"}}},\"xaxis\":{\"anchor\":\"y\",\"domain\":[0.0,1.0],\"title\":{\"text\":\"Dim_1\"}},\"yaxis\":{\"anchor\":\"x\",\"domain\":[0.0,1.0],\"title\":{\"text\":\"Dim_2\"}},\"coloraxis\":{\"colorbar\":{\"title\":{\"text\":\"cluster\"}},\"colorscale\":[[0.0,\"#0d0887\"],[0.1111111111111111,\"#46039f\"],[0.2222222222222222,\"#7201a8\"],[0.3333333333333333,\"#9c179e\"],[0.4444444444444444,\"#bd3786\"],[0.5555555555555556,\"#d8576b\"],[0.6666666666666666,\"#ed7953\"],[0.7777777777777778,\"#fb9f3a\"],[0.8888888888888888,\"#fdca26\"],[1.0,\"#f0f921\"]]},\"legend\":{\"tracegroupgap\":0},\"title\":{\"text\":\"Klasteryzacja HDBSCAN TF_IDF\"}},                        {\"responsive\": true}                    ).then(function(){\n",
       "                            \n",
       "var gd = document.getElementById('b29d0c32-9d5a-4237-a748-8a0f42e2e8f9');\n",
       "var x = new MutationObserver(function (mutations, observer) {{\n",
       "        var display = window.getComputedStyle(gd).display;\n",
       "        if (!display || display === 'none') {{\n",
       "            console.log([gd, 'removed!']);\n",
       "            Plotly.purge(gd);\n",
       "            observer.disconnect();\n",
       "        }}\n",
       "}});\n",
       "\n",
       "// Listen for the removal of the full notebook cells\n",
       "var notebookContainer = gd.closest('#notebook-container');\n",
       "if (notebookContainer) {{\n",
       "    x.observe(notebookContainer, {childList: true});\n",
       "}}\n",
       "\n",
       "// Listen for the clearing of the current output cell\n",
       "var outputEl = gd.closest('.output');\n",
       "if (outputEl) {{\n",
       "    x.observe(outputEl, {childList: true});\n",
       "}}\n",
       "\n",
       "                        })                };                });            </script>        </div>"
      ]
     },
     "metadata": {},
     "output_type": "display_data"
    }
   ],
   "source": [
    "tfidf_tsne = TSNE(n_components=2, random_state=0, perplexity = 50).fit_transform(standardized_data)\n",
    "clusterer = hdbscan.HDBSCAN(min_cluster_size=2)\n",
    "df_tsne['cluster'] = clusterer.fit_predict(tfidf_tsne)\n",
    "\n",
    "fig = px.scatter(df_tsne, x='Dim_1', y='Dim_2', color='cluster',\n",
    "                 hover_data=['text'],\n",
    "                 title='Klasteryzacja HDBSCAN TF_IDF')\n",
    "\n",
    "fig.show()"
   ]
  }
 ],
 "metadata": {
  "kernelspec": {
   "display_name": "Python 3 (ipykernel)",
   "language": "python",
   "name": "python3"
  },
  "language_info": {
   "codemirror_mode": {
    "name": "ipython",
    "version": 3
   },
   "file_extension": ".py",
   "mimetype": "text/x-python",
   "name": "python",
   "nbconvert_exporter": "python",
   "pygments_lexer": "ipython3",
   "version": "3.13.0"
  }
 },
 "nbformat": 4,
 "nbformat_minor": 4
}
