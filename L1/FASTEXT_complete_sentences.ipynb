{
 "cells": [
  {
   "cell_type": "code",
   "execution_count": 2,
   "metadata": {},
   "outputs": [],
   "source": [
    "import fasttext\n",
    "import pandas as pd\n",
    "import re\n",
    "\n",
    "from sklearn.manifold import TSNE\n",
    "import plotly.express as px\n",
    "import numpy as np\n",
    "import plotly.graph_objects as go\n",
    "import matplotlib.pyplot as plt\n",
    "import statsmodels.stats.inter_rater as irr\n",
    "import seaborn as sns\n",
    "from sklearn.preprocessing import StandardScaler"
   ]
  },
  {
   "cell_type": "code",
   "execution_count": 3,
   "metadata": {},
   "outputs": [],
   "source": [
    "\n",
    "model = fasttext.load_model('/home/julita/Desktop/semestr2/NLP/cc.pl.300.bin')"
   ]
  },
  {
   "cell_type": "code",
   "execution_count": 4,
   "metadata": {},
   "outputs": [
    {
     "data": {
      "text/html": [
       "<div>\n",
       "<style scoped>\n",
       "    .dataframe tbody tr th:only-of-type {\n",
       "        vertical-align: middle;\n",
       "    }\n",
       "\n",
       "    .dataframe tbody tr th {\n",
       "        vertical-align: top;\n",
       "    }\n",
       "\n",
       "    .dataframe thead th {\n",
       "        text-align: right;\n",
       "    }\n",
       "</style>\n",
       "<table border=\"1\" class=\"dataframe\">\n",
       "  <thead>\n",
       "    <tr style=\"text-align: right;\">\n",
       "      <th></th>\n",
       "      <th>text</th>\n",
       "      <th>label1</th>\n",
       "      <th>label2</th>\n",
       "      <th>label3</th>\n",
       "      <th>LABEL</th>\n",
       "      <th>1. Sarkazm uszczypliwy, dokuczliwy -&gt; mowa nienawiści</th>\n",
       "    </tr>\n",
       "  </thead>\n",
       "  <tbody>\n",
       "    <tr>\n",
       "      <th>0</th>\n",
       "      <td>Dla mnie faworytem do tytułu będzie Cracovia. ...</td>\n",
       "      <td>0.0</td>\n",
       "      <td>0.0</td>\n",
       "      <td>0.0</td>\n",
       "      <td>0</td>\n",
       "      <td>NaN</td>\n",
       "    </tr>\n",
       "    <tr>\n",
       "      <th>1</th>\n",
       "      <td>@anonymized_account @anonymized_account Brawo ...</td>\n",
       "      <td>0.0</td>\n",
       "      <td>0.0</td>\n",
       "      <td>0.0</td>\n",
       "      <td>0</td>\n",
       "      <td>NaN</td>\n",
       "    </tr>\n",
       "    <tr>\n",
       "      <th>2</th>\n",
       "      <td>@anonymized_account @anonymized_account Super,...</td>\n",
       "      <td>1.0</td>\n",
       "      <td>0.0</td>\n",
       "      <td>1.0</td>\n",
       "      <td>1</td>\n",
       "      <td>Kolumna Label</td>\n",
       "    </tr>\n",
       "    <tr>\n",
       "      <th>3</th>\n",
       "      <td>@anonymized_account @anonymized_account Musi. ...</td>\n",
       "      <td>0.0</td>\n",
       "      <td>0.0</td>\n",
       "      <td>0.0</td>\n",
       "      <td>0</td>\n",
       "      <td>201-300 Iza</td>\n",
       "    </tr>\n",
       "    <tr>\n",
       "      <th>4</th>\n",
       "      <td>Odrzut natychmiastowy, kwaśna mina, mam problem</td>\n",
       "      <td>0.0</td>\n",
       "      <td>0.0</td>\n",
       "      <td>0.0</td>\n",
       "      <td>0</td>\n",
       "      <td>301-400 Julita</td>\n",
       "    </tr>\n",
       "    <tr>\n",
       "      <th>...</th>\n",
       "      <td>...</td>\n",
       "      <td>...</td>\n",
       "      <td>...</td>\n",
       "      <td>...</td>\n",
       "      <td>...</td>\n",
       "      <td>...</td>\n",
       "    </tr>\n",
       "    <tr>\n",
       "      <th>10036</th>\n",
       "      <td>@anonymized_account Ty zagrasz? Nie wiedziałem 😉</td>\n",
       "      <td>NaN</td>\n",
       "      <td>NaN</td>\n",
       "      <td>NaN</td>\n",
       "      <td>NaN</td>\n",
       "      <td>NaN</td>\n",
       "    </tr>\n",
       "    <tr>\n",
       "      <th>10037</th>\n",
       "      <td>@anonymized_account @anonymized_account A VAR ...</td>\n",
       "      <td>NaN</td>\n",
       "      <td>NaN</td>\n",
       "      <td>NaN</td>\n",
       "      <td>NaN</td>\n",
       "      <td>NaN</td>\n",
       "    </tr>\n",
       "    <tr>\n",
       "      <th>10038</th>\n",
       "      <td>@anonymized_account @anonymized_account Szanow...</td>\n",
       "      <td>NaN</td>\n",
       "      <td>NaN</td>\n",
       "      <td>NaN</td>\n",
       "      <td>NaN</td>\n",
       "      <td>NaN</td>\n",
       "    </tr>\n",
       "    <tr>\n",
       "      <th>10039</th>\n",
       "      <td>@anonymized_account @anonymized_account @anony...</td>\n",
       "      <td>NaN</td>\n",
       "      <td>NaN</td>\n",
       "      <td>NaN</td>\n",
       "      <td>NaN</td>\n",
       "      <td>NaN</td>\n",
       "    </tr>\n",
       "    <tr>\n",
       "      <th>10040</th>\n",
       "      <td>@anonymized_account A wróżbita Maciej mówi że ...</td>\n",
       "      <td>NaN</td>\n",
       "      <td>NaN</td>\n",
       "      <td>NaN</td>\n",
       "      <td>NaN</td>\n",
       "      <td>NaN</td>\n",
       "    </tr>\n",
       "  </tbody>\n",
       "</table>\n",
       "<p>10041 rows × 6 columns</p>\n",
       "</div>"
      ],
      "text/plain": [
       "                                                    text  label1  label2  \\\n",
       "0      Dla mnie faworytem do tytułu będzie Cracovia. ...     0.0     0.0   \n",
       "1      @anonymized_account @anonymized_account Brawo ...     0.0     0.0   \n",
       "2      @anonymized_account @anonymized_account Super,...     1.0     0.0   \n",
       "3      @anonymized_account @anonymized_account Musi. ...     0.0     0.0   \n",
       "4        Odrzut natychmiastowy, kwaśna mina, mam problem     0.0     0.0   \n",
       "...                                                  ...     ...     ...   \n",
       "10036   @anonymized_account Ty zagrasz? Nie wiedziałem 😉     NaN     NaN   \n",
       "10037  @anonymized_account @anonymized_account A VAR ...     NaN     NaN   \n",
       "10038  @anonymized_account @anonymized_account Szanow...     NaN     NaN   \n",
       "10039  @anonymized_account @anonymized_account @anony...     NaN     NaN   \n",
       "10040  @anonymized_account A wróżbita Maciej mówi że ...     NaN     NaN   \n",
       "\n",
       "       label3 LABEL 1. Sarkazm uszczypliwy, dokuczliwy -> mowa nienawiści  \n",
       "0         0.0     0                                                NaN     \n",
       "1         0.0     0                                                NaN     \n",
       "2         1.0     1                                      Kolumna Label     \n",
       "3         0.0     0                                        201-300 Iza     \n",
       "4         0.0     0                                     301-400 Julita     \n",
       "...       ...   ...                                                ...     \n",
       "10036     NaN   NaN                                                NaN     \n",
       "10037     NaN   NaN                                                NaN     \n",
       "10038     NaN   NaN                                                NaN     \n",
       "10039     NaN   NaN                                                NaN     \n",
       "10040     NaN   NaN                                                NaN     \n",
       "\n",
       "[10041 rows x 6 columns]"
      ]
     },
     "execution_count": 4,
     "metadata": {},
     "output_type": "execute_result"
    }
   ],
   "source": [
    "df = pd.read_excel('cyberbullying_train_complete_sentences.xlsx', sheet_name='Superanotator')\n",
    "df"
   ]
  },
  {
   "cell_type": "code",
   "execution_count": 5,
   "metadata": {},
   "outputs": [
    {
     "data": {
      "text/html": [
       "<div>\n",
       "<style scoped>\n",
       "    .dataframe tbody tr th:only-of-type {\n",
       "        vertical-align: middle;\n",
       "    }\n",
       "\n",
       "    .dataframe tbody tr th {\n",
       "        vertical-align: top;\n",
       "    }\n",
       "\n",
       "    .dataframe thead th {\n",
       "        text-align: right;\n",
       "    }\n",
       "</style>\n",
       "<table border=\"1\" class=\"dataframe\">\n",
       "  <thead>\n",
       "    <tr style=\"text-align: right;\">\n",
       "      <th></th>\n",
       "      <th>text</th>\n",
       "      <th>LABEL</th>\n",
       "    </tr>\n",
       "  </thead>\n",
       "  <tbody>\n",
       "    <tr>\n",
       "      <th>0</th>\n",
       "      <td>Dla mnie faworytem do tytułu będzie Cracovia. ...</td>\n",
       "      <td>0</td>\n",
       "    </tr>\n",
       "    <tr>\n",
       "      <th>1</th>\n",
       "      <td>@anonymized_account @anonymized_account Brawo ...</td>\n",
       "      <td>0</td>\n",
       "    </tr>\n",
       "    <tr>\n",
       "      <th>2</th>\n",
       "      <td>@anonymized_account @anonymized_account Super,...</td>\n",
       "      <td>1</td>\n",
       "    </tr>\n",
       "    <tr>\n",
       "      <th>3</th>\n",
       "      <td>@anonymized_account @anonymized_account Musi. ...</td>\n",
       "      <td>0</td>\n",
       "    </tr>\n",
       "    <tr>\n",
       "      <th>4</th>\n",
       "      <td>Odrzut natychmiastowy, kwaśna mina, mam problem</td>\n",
       "      <td>0</td>\n",
       "    </tr>\n",
       "    <tr>\n",
       "      <th>...</th>\n",
       "      <td>...</td>\n",
       "      <td>...</td>\n",
       "    </tr>\n",
       "    <tr>\n",
       "      <th>593</th>\n",
       "      <td>@anonymized_account Niby sami świnie, a nic ni...</td>\n",
       "      <td>1</td>\n",
       "    </tr>\n",
       "    <tr>\n",
       "      <th>594</th>\n",
       "      <td>@anonymized_account Ale co to ma do Mystka?</td>\n",
       "      <td>0</td>\n",
       "    </tr>\n",
       "    <tr>\n",
       "      <th>595</th>\n",
       "      <td>@anonymized_account Serio chcecie cichego stad...</td>\n",
       "      <td>0</td>\n",
       "    </tr>\n",
       "    <tr>\n",
       "      <th>596</th>\n",
       "      <td>Co to miało być? 😂</td>\n",
       "      <td>0</td>\n",
       "    </tr>\n",
       "    <tr>\n",
       "      <th>597</th>\n",
       "      <td>@anonymized_account tego się niespodziewałem p...</td>\n",
       "      <td>1</td>\n",
       "    </tr>\n",
       "  </tbody>\n",
       "</table>\n",
       "<p>598 rows × 2 columns</p>\n",
       "</div>"
      ],
      "text/plain": [
       "                                                  text LABEL\n",
       "0    Dla mnie faworytem do tytułu będzie Cracovia. ...     0\n",
       "1    @anonymized_account @anonymized_account Brawo ...     0\n",
       "2    @anonymized_account @anonymized_account Super,...     1\n",
       "3    @anonymized_account @anonymized_account Musi. ...     0\n",
       "4      Odrzut natychmiastowy, kwaśna mina, mam problem     0\n",
       "..                                                 ...   ...\n",
       "593  @anonymized_account Niby sami świnie, a nic ni...     1\n",
       "594        @anonymized_account Ale co to ma do Mystka?     0\n",
       "595  @anonymized_account Serio chcecie cichego stad...     0\n",
       "596                                 Co to miało być? 😂     0\n",
       "597  @anonymized_account tego się niespodziewałem p...     1\n",
       "\n",
       "[598 rows x 2 columns]"
      ]
     },
     "execution_count": 5,
     "metadata": {},
     "output_type": "execute_result"
    }
   ],
   "source": [
    "df_for_analysis = df[['text', 'LABEL']][:598]\n",
    "df_for_analysis"
   ]
  },
  {
   "cell_type": "markdown",
   "metadata": {},
   "source": [
    "# Kappa-Cohen, Kappa-Fleissa"
   ]
  },
  {
   "cell_type": "code",
   "execution_count": 6,
   "metadata": {},
   "outputs": [],
   "source": [
    "from sklearn.metrics import cohen_kappa_score\n",
    "from statsmodels.stats.inter_rater import fleiss_kappa"
   ]
  },
  {
   "cell_type": "code",
   "execution_count": 7,
   "metadata": {},
   "outputs": [],
   "source": [
    "df_part1 = df[:100].iloc[:,  :-2]\n",
    "df_part2 = df[101:199].iloc[:,  :-2].reset_index()"
   ]
  },
  {
   "cell_type": "code",
   "execution_count": 8,
   "metadata": {},
   "outputs": [
    {
     "name": "stdout",
     "output_type": "stream",
     "text": [
      "Kappa-Cohen (label1, label2): 0.7516556291390728\n",
      "Kappa-Cohen (label1, label3): 0.6437054631828978\n",
      "Kappa-Cohen (label2, label3): 0.5591939546599496\n",
      "Kappa-Cohen mean part`: 0.6515183489939734\n"
     ]
    }
   ],
   "source": [
    "kappa_cohen_1_2 = cohen_kappa_score(df_part1['label1'], df_part1['label2'])\n",
    "kappa_cohen_1_3 = cohen_kappa_score(df_part1['label1'], df_part1['label3'])\n",
    "kappa_cohen_2_3 = cohen_kappa_score(df_part1['label2'], df_part1['label3'])\n",
    "mean_part1 = (kappa_cohen_1_2  + kappa_cohen_1_3 + kappa_cohen_2_3 )/3\n",
    "\n",
    "print(\"Kappa-Cohen (label1, label2):\", kappa_cohen_1_2)\n",
    "print(\"Kappa-Cohen (label1, label3):\", kappa_cohen_1_3)\n",
    "print(\"Kappa-Cohen (label2, label3):\", kappa_cohen_2_3)\n",
    "print(\"Kappa-Cohen mean part`:\", mean_part1)"
   ]
  },
  {
   "cell_type": "code",
   "execution_count": 24,
   "metadata": {},
   "outputs": [
    {
     "name": "stdout",
     "output_type": "stream",
     "text": [
      "Kappa-Cohen (label1, label2): 0.909967845659164\n",
      "Kappa-Cohen (label1, label3): 0.7934426229508197\n",
      "Kappa-Cohen (label2, label3): 0.8364329995231283\n",
      "Kappa-Cohen mean par2`: 0.846614489377704\n"
     ]
    }
   ],
   "source": [
    "kappa_cohen_1_2_2 = cohen_kappa_score(df_part2['label1'], df_part2['label2'])\n",
    "kappa_cohen_1_3_2 = cohen_kappa_score(df_part2['label1'], df_part2['label3'])\n",
    "kappa_cohen_2_3_2 = cohen_kappa_score(df_part2['label2'], df_part2['label3'])\n",
    "mean_part2 = (kappa_cohen_1_2_2  + kappa_cohen_1_3_2 + kappa_cohen_2_3_2 )/3\n",
    "\n",
    "print(\"Kappa-Cohen (label1, label2):\", kappa_cohen_1_2_2)\n",
    "print(\"Kappa-Cohen (label1, label3):\", kappa_cohen_1_3_2)\n",
    "print(\"Kappa-Cohen (label2, label3):\", kappa_cohen_2_3_2)\n",
    "print(\"Kappa-Cohen mean par2`:\", mean_part2)\n"
   ]
  },
  {
   "cell_type": "code",
   "execution_count": 10,
   "metadata": {},
   "outputs": [],
   "source": [
    "val_part1 = [kappa_cohen_1_2, kappa_cohen_1_3, kappa_cohen_2_3, mean_part1]\n",
    "val_part2 = [kappa_cohen_1_2_2, kappa_cohen_1_3_2, kappa_cohen_2_3_2, mean_part2]"
   ]
  },
  {
   "cell_type": "code",
   "execution_count": 11,
   "metadata": {},
   "outputs": [
    {
     "data": {
      "image/png": "[encoded data removed]",
      "text/plain": [
       "<Figure size 640x480 with 1 Axes>"
      ]
     },
     "metadata": {},
     "output_type": "display_data"
    }
   ],
   "source": [
    "zestawy = ['Osoby 1-2', 'Osoby 1-3', 'osoby 2-3', 'Średnia']\n",
    "ind = np.arange(len(zestawy))  \n",
    "szerokość = 0.35  \n",
    "\n",
    "fig, ax = plt.subplots()\n",
    "\n",
    "bar1 = ax.bar(ind - szerokość/2, val_part1, szerokość, label='Iteracja 1 ')\n",
    "bar2 = ax.bar(ind + szerokość/2, val_part2, szerokość, label='Iteracja 2')\n",
    "\n",
    "ax.set_xlabel('Osoby')\n",
    "ax.set_ylabel('Wartości')\n",
    "ax.set_title('Wartości Kappa_cohena ')\n",
    "ax.set_xticks(ind)\n",
    "ax.set_xticklabels(zestawy)\n",
    "ax.legend()\n",
    "\n",
    "plt.tight_layout()\n",
    "plt.show()"
   ]
  },
  {
   "cell_type": "code",
   "execution_count": 12,
   "metadata": {},
   "outputs": [],
   "source": [
    "\n",
    "contingency_matrix1 = np.zeros((len(df_part1), 2), dtype=int)\n",
    "\n",
    "for i in range(len(df_part1)):\n",
    "    contingency_matrix1[i, int(df_part1['label1'][i])] += 1  \n",
    "    contingency_matrix1[i, int(df_part1['label2'][i])] += 1  \n",
    "    contingency_matrix1[i, int(df_part1['label3'][i])] += 1  \n",
    "\n",
    "fleiss_kappa1 = irr.fleiss_kappa(contingency_matrix1, method='fleiss')\n",
    "\n",
    "\n",
    "contingency_matrix2 = np.zeros((len(df_part2), 2), dtype=int)\n",
    "\n",
    "for i in range(len(df_part2)):\n",
    "    contingency_matrix2[i, int(df_part2['label1'][i])] += 1  \n",
    "    contingency_matrix2[i, int(df_part2['label2'][i])] += 1  \n",
    "    contingency_matrix2[i, int(df_part2['label3'][i])] += 1  \n",
    "\n",
    "fleiss_kappa2 = irr.fleiss_kappa(contingency_matrix2, method='fleiss')\n"
   ]
  },
  {
   "cell_type": "code",
   "execution_count": 13,
   "metadata": {},
   "outputs": [
    {
     "name": "stderr",
     "output_type": "stream",
     "text": [
      "/tmp/ipykernel_4399/4119753856.py:6: FutureWarning: \n",
      "\n",
      "Passing `palette` without assigning `hue` is deprecated and will be removed in v0.14.0. Assign the `x` variable to `hue` and set `legend=False` for the same effect.\n",
      "\n",
      "  sns.barplot(x='Part', y='Kappa Score', data=df, palette='Blues')\n"
     ]
    },
    {
     "data": {
      "image/png": "[encoded data removed]",
      "text/plain": [
       "<Figure size 640x480 with 1 Axes>"
      ]
     },
     "metadata": {},
     "output_type": "display_data"
    }
   ],
   "source": [
    "df = pd.DataFrame({\n",
    "    'Part': ['Iteracja 1', 'Iteracja 2'],\n",
    "    'Kappa Score': [fleiss_kappa1, fleiss_kappa2]\n",
    "})\n",
    "\n",
    "sns.barplot(x='Part', y='Kappa Score', data=df, palette='Blues')\n",
    "\n",
    "plt.title('Fleiss\\' Kappa ')\n",
    "plt.ylabel('Kappa Score')\n",
    "plt.show()\n"
   ]
  },
  {
   "cell_type": "markdown",
   "metadata": {},
   "source": [
    "# CZĘŚĆ 2"
   ]
  },
  {
   "cell_type": "code",
   "execution_count": 25,
   "metadata": {},
   "outputs": [],
   "source": [
    "def clean_text(text):\n",
    "    text = re.sub(r'@anonymized_account', '', text)\n",
    "    text = re.sub(r'RT', '', text)\n",
    "    return text"
   ]
  },
  {
   "cell_type": "code",
   "execution_count": 26,
   "metadata": {},
   "outputs": [
    {
     "data": {
      "text/html": [
       "<div>\n",
       "<style scoped>\n",
       "    .dataframe tbody tr th:only-of-type {\n",
       "        vertical-align: middle;\n",
       "    }\n",
       "\n",
       "    .dataframe tbody tr th {\n",
       "        vertical-align: top;\n",
       "    }\n",
       "\n",
       "    .dataframe thead th {\n",
       "        text-align: right;\n",
       "    }\n",
       "</style>\n",
       "<table border=\"1\" class=\"dataframe\">\n",
       "  <thead>\n",
       "    <tr style=\"text-align: right;\">\n",
       "      <th></th>\n",
       "      <th>text</th>\n",
       "      <th>LABEL</th>\n",
       "      <th>embedding</th>\n",
       "    </tr>\n",
       "  </thead>\n",
       "  <tbody>\n",
       "    <tr>\n",
       "      <th>0</th>\n",
       "      <td>Dla mnie faworytem do tytułu będzie Cracovia. ...</td>\n",
       "      <td>0</td>\n",
       "      <td>[-0.03577982, -0.008320581, 0.030104626, 0.003...</td>\n",
       "    </tr>\n",
       "    <tr>\n",
       "      <th>1</th>\n",
       "      <td>Brawo ty Daria kibic ma być na dobre i złe</td>\n",
       "      <td>0</td>\n",
       "      <td>[-0.02450688, 0.036787074, 0.0063169324, -0.00...</td>\n",
       "    </tr>\n",
       "    <tr>\n",
       "      <th>2</th>\n",
       "      <td>Super, polski premier składa kwiaty na groba...</td>\n",
       "      <td>1</td>\n",
       "      <td>[-0.017961666, 0.01233057, -0.013646232, -0.00...</td>\n",
       "    </tr>\n",
       "    <tr>\n",
       "      <th>3</th>\n",
       "      <td>Musi. Innej drogi nie mamy.</td>\n",
       "      <td>0</td>\n",
       "      <td>[-0.00622276, 0.0145916045, 0.00029366984, 0.0...</td>\n",
       "    </tr>\n",
       "    <tr>\n",
       "      <th>4</th>\n",
       "      <td>Odrzut natychmiastowy, kwaśna mina, mam problem</td>\n",
       "      <td>0</td>\n",
       "      <td>[-0.025728993, 0.015434119, 0.0150619205, 0.02...</td>\n",
       "    </tr>\n",
       "    <tr>\n",
       "      <th>...</th>\n",
       "      <td>...</td>\n",
       "      <td>...</td>\n",
       "      <td>...</td>\n",
       "    </tr>\n",
       "    <tr>\n",
       "      <th>593</th>\n",
       "      <td>Niby sami świnie, a nic nie wiedzą</td>\n",
       "      <td>1</td>\n",
       "      <td>[-0.025255976, 0.0017015683, 0.011322176, -0.0...</td>\n",
       "    </tr>\n",
       "    <tr>\n",
       "      <th>594</th>\n",
       "      <td>Ale co to ma do Mystka?</td>\n",
       "      <td>0</td>\n",
       "      <td>[-0.021361608, -0.012006979, -0.017504312, -0....</td>\n",
       "    </tr>\n",
       "    <tr>\n",
       "      <th>595</th>\n",
       "      <td>Serio chcecie cichego stadionu ?</td>\n",
       "      <td>0</td>\n",
       "      <td>[-0.027766256, -0.0027225346, -0.00787151, 0.0...</td>\n",
       "    </tr>\n",
       "    <tr>\n",
       "      <th>596</th>\n",
       "      <td>Co to miało być? 😂</td>\n",
       "      <td>0</td>\n",
       "      <td>[-0.016019529, 0.02517175, 0.026626747, -0.009...</td>\n",
       "    </tr>\n",
       "    <tr>\n",
       "      <th>597</th>\n",
       "      <td>tego się niespodziewałem po Tobie... Zawiodłe...</td>\n",
       "      <td>1</td>\n",
       "      <td>[-0.018002192, 0.013292713, -0.0048910007, 0.0...</td>\n",
       "    </tr>\n",
       "  </tbody>\n",
       "</table>\n",
       "<p>598 rows × 3 columns</p>\n",
       "</div>"
      ],
      "text/plain": [
       "                                                  text LABEL  \\\n",
       "0    Dla mnie faworytem do tytułu będzie Cracovia. ...     0   \n",
       "1           Brawo ty Daria kibic ma być na dobre i złe     0   \n",
       "2      Super, polski premier składa kwiaty na groba...     1   \n",
       "3                          Musi. Innej drogi nie mamy.     0   \n",
       "4      Odrzut natychmiastowy, kwaśna mina, mam problem     0   \n",
       "..                                                 ...   ...   \n",
       "593                 Niby sami świnie, a nic nie wiedzą     1   \n",
       "594                            Ale co to ma do Mystka?     0   \n",
       "595                   Serio chcecie cichego stadionu ?     0   \n",
       "596                                 Co to miało być? 😂     0   \n",
       "597   tego się niespodziewałem po Tobie... Zawiodłe...     1   \n",
       "\n",
       "                                             embedding  \n",
       "0    [-0.03577982, -0.008320581, 0.030104626, 0.003...  \n",
       "1    [-0.02450688, 0.036787074, 0.0063169324, -0.00...  \n",
       "2    [-0.017961666, 0.01233057, -0.013646232, -0.00...  \n",
       "3    [-0.00622276, 0.0145916045, 0.00029366984, 0.0...  \n",
       "4    [-0.025728993, 0.015434119, 0.0150619205, 0.02...  \n",
       "..                                                 ...  \n",
       "593  [-0.025255976, 0.0017015683, 0.011322176, -0.0...  \n",
       "594  [-0.021361608, -0.012006979, -0.017504312, -0....  \n",
       "595  [-0.027766256, -0.0027225346, -0.00787151, 0.0...  \n",
       "596  [-0.016019529, 0.02517175, 0.026626747, -0.009...  \n",
       "597  [-0.018002192, 0.013292713, -0.0048910007, 0.0...  \n",
       "\n",
       "[598 rows x 3 columns]"
      ]
     },
     "execution_count": 26,
     "metadata": {},
     "output_type": "execute_result"
    }
   ],
   "source": [
    "df_for_analysis['text'] = df_for_analysis['text'].apply(clean_text)\n",
    "df_for_analysis"
   ]
  },
  {
   "cell_type": "code",
   "execution_count": 27,
   "metadata": {},
   "outputs": [],
   "source": [
    "df_for_analysis['embedding'] = df_for_analysis['text'].apply(lambda x: model.get_sentence_vector(x))"
   ]
  },
  {
   "cell_type": "markdown",
   "metadata": {},
   "source": [
    "# FASTTEXT"
   ]
  },
  {
   "cell_type": "code",
   "execution_count": 28,
   "metadata": {},
   "outputs": [
    {
     "data": {
      "application/vnd.plotly.v1+json": {
       "config": {
        "plotlyServerURL": "https://plot.ly"
       },
       "data": [
        {
         "customdata": [
          [
           "Dla mnie faworytem do tytułu będzie Cracovia. Zobaczymy, czy typ się sprawdzi."
          ],
          [
           "  Brawo ty Daria kibic ma być na dobre i złe"
          ],
          [
           "  Musi. Innej drogi nie mamy."
          ],
          [
           "Odrzut natychmiastowy, kwaśna mina, mam problem"
          ],
          [
           "Jaki on był fajny xdd pamiętam, że spóźniłam się na jego pierwsze zajęcia i to sporo i za karę kazał mi usiąść w pierwszej ławce XD"
          ],
          [
           " No nie ma u nas szczęścia 😉"
          ],
          [
           " Dawno kogoś tak wrednego nie widziałam xd"
          ],
          [
           "  Zaległości były, ale ważne czy były wezwania do zapłaty z których się klub nie wywiązał."
          ],
          [
           "   no mam nadzieje !!:)"
          ],
          [
           "  Może gustował w starszych paniach ;-)"
          ],
          [
           " Zostawiłam tam 3 lata temu \\\"Notatki na mankietach\\\". Muszę się wrócić."
          ],
          [
           "  Znowu będzie komunikat o polskich piratach drogowych w Słowacji."
          ],
          [
           " Mówi człowiek, który chciał nałożyć sankcje na Polskę. Gratulacje. #Niepodlegla #11lisopada"
          ],
          [
           "   Mówi człowiek, który chciał nałożyć sankcje na Polskę. Gratulacje. #Niepodlegla #11lisopada"
          ],
          [
           "  o jakim zachowaniu \\\"fer\\\" mówisz skoro ukrywał się z tym że podpisał kontrakt z Legią ? Możesz rozwinąć ?"
          ],
          [
           "  Joanno! Po raz pierwszy się z panią zgadzam.😁😁😁😁😁"
          ],
          [
           "Monster block, monster block, monster block... 😁"
          ],
          [
           " Czyżby Madryt brał przykład z Warszawy?"
          ],
          [
           " Nie wiem, najczęściej grają na zmianę na prawym skrzydle."
          ],
          [
           " No to Pan i koledzy macie z głowy. Przesrane tak reszta życia pod górkę."
          ],
          [
           " A ja obstawiam, że pójdą bardziej w stronę tego, że może się powtórzyć sytuacja z Meresińskim."
          ],
          [
           "Aaaaa Kuba mi odpisał hehehehehe"
          ],
          [
           "Asysta Kacpra Falona i 3:1 dla Widzewa. Witamy Widzew w II lidze. No i w sumie fajnie."
          ],
          [
           " gwizdali na niego ? Bo nie oglądałem meczu :)"
          ],
          [
           "  ale może w końcu dojdzie do wniosku że skoro go klub już nie jara to lepiej go sprzedać i mieć po kłopocie"
          ],
          [
           "  Hej halo, o czym to jest bo mam na swojej liście i nie wiem czy warto??"
          ],
          [
           "dorosłe życie nie jest dla mnie"
          ],
          [
           "  dorosłe życie nie jest dla mnie"
          ],
          [
           " Cześć Paderewski, część opalające się nogi"
          ],
          [
           "   Uprowadź gumową kaczuszkę. Zacznie negocjować."
          ],
          [
           " Już wiem ze się nie dogadamy XD"
          ],
          [
           " Ale to w nowym przekładzie, jeszcze nie czytałam."
          ],
          [
           " Lahoza mi nigdy nie szkoda. Wolę, jak na pierwszym planie są piłkarze, a nie sędzia :-)"
          ],
          [
           " zmieńcie se nazwe na profilu na insta bo się nazywacie Grzegorz Ożóg..."
          ],
          [
           "„Ta aktorka ma 20 lat?!?! Jaka stara!!” \\n\\nChyba musimy się już do grobu pakować roczniku 98 😂👌🏻"
          ],
          [
           "  „Ta aktorka ma 20 lat?!?! Jaka stara!!” \\n\\nChyba musimy się już do grobu pakować roczniku 98 😂👌🏻"
          ],
          [
           "Ahnherr der Schtwätzer wykonawcy Von Spar\\nhttps://t.co/SOtenSqIr0"
          ],
          [
           " Kiedy do licznika dojdą bilety z fan clubow?"
          ],
          [
           " A kto prowadzi zespół ? Będzie podany skład z tego meczu ?"
          ],
          [
           "Zrobiłam takie Cv że ohohohoho"
          ],
          [
           "Świętować uchwalenie Konstytucji 3 maja i łamać Konstytucję RP obecnie obowiązującą?!\\n#3Maja - dzień hipokryzji."
          ],
          [
           "  Świętować uchwalenie Konstytucji 3 maja i łamać Konstytucję RP obecnie obowiązującą?!\\n#3Maja - dzień hipokryzji."
          ],
          [
           "  nie gra bo jest Jovanović i Guilherme"
          ],
          [
           " O tej godz. sporty szanuj ciało"
          ],
          [
           "Nikt cię tak dobrze nie ubierze jak matka chrzestna dziecino"
          ],
          [
           "  Nikt tutaj nie chce plagiaciarzy kopiujących brytyjskich pisarzy."
          ],
          [
           " A ksiądz co bierze 12 tyś za spowiedź przez tel?"
          ],
          [
           " Pod i górę  pod wiatr to więcej niż k2"
          ],
          [
           " Sędziowie VAR nie decydują o karnych 😉"
          ],
          [
           "Jakiś program na TVN, nauka jazdy za kierownicą babcia śpiewa \\\"jadą jadą jadą świry jadą\\\" jadą jadą jadą świry jadą\\\""
          ],
          [
           " ta obecna Zary Larsson czy Pitbulla z ostatnich MŚ nie były złe :)"
          ],
          [
           "(280 znaków w jednym zdaniu 🙈)"
          ],
          [
           " po wahaniach wagi Kwacha wznoszę że to może być kapuścianka"
          ],
          [
           "  w tym sezonie razem z pucharem 12 meczy i 1 gol.Mójta więcej strzelił.Sorry patrze w statystyki."
          ],
          [
           "   finały tblk były przyzwoicie sędziowane ?! Aha..."
          ],
          [
           " Taki miałam właśnie, teraz kupiłam z catrice"
          ],
          [
           " to ich wymień.W czym problem ?"
          ],
          [
           "   a ja mam ciepełko jak się przytule do swoich kotów :)"
          ],
          [
           " Właśnie. Ilu! Najpierw odpowiedzmy sobie ma to pytanie,a potem dziwmy się zwycięstwu Zdanowskiej"
          ],
          [
           " W jego przypadku statystyka przebiegniętych kilometrów nie ma znaczenia. Czy gra zajebiście, czy fatalnie, biega tyle samo."
          ],
          [
           "  100%, Mann też miał pełne prawo"
          ],
          [
           " Kończyłeś już kilka razy 😂"
          ],
          [
           "    A co będzie jak Kuba nigdy niewroci?"
          ],
          [
           "W każdej z czterech grup będzie walka o zwycięstwo premiowane awansem do CLJ. Bardzo potrzebne rozwiązanie, brawo."
          ],
          [
           " Tak się poznałam z moim chłopakiem 😂 czasami warto"
          ],
          [
           " nelly furtado a tytuł forco czy cos takiego"
          ],
          [
           " Mów prawdę, kto was skrzywdził"
          ],
          [
           " jestem tu od 2013 xd"
          ],
          [
           " Ta kadra to rocznik 2002"
          ],
          [
           "Posiada sensor CGM , ciągły monitoring glikemii, w końcu."
          ],
          [
           "Jeszcze żaden Polak nie wystąpił w meczu gwiazd NBA, nie licząc Mietka Paciaciaka ;) Pomóżmy Marcinowi Gortatowi być 1  #NBAVOTE"
          ],
          [
           "  Jeszcze żaden Polak nie wystąpił w meczu gwiazd NBA, nie licząc Mietka Paciaciaka ;) Pomóżmy Marcinowi Gortatowi być 1…"
          ],
          [
           " No kurwa myślałem że na Podlasiu"
          ],
          [
           "  Tak, to nawet lepsze rozwiązanie."
          ],
          [
           " Gdzie ja wtedy byłam? ;-)"
          ],
          [
           "   Midze sie nudziło i se coś na kolanie napisał i macie sensacje"
          ],
          [
           " Dzisiaj wrócił do treningów, czyli zdążyli 😉"
          ],
          [
           "    Nie wiem, zerknij na 90minut"
          ],
          [
           " możesz też zawsze po prostu zapytać kiedy się urodziłam. Albo wpisać hasztag #100latKasiaPawlak ;-)"
          ],
          [
           " Prezes się cieszy ze Wisla odpadła bo w razie finału Legia-Wisla znów by musiał finał odwoływać"
          ],
          [
           "Bratowa wysłała mi zdjęcie bratanicy z rozpoczęcia roku, idzie do pierwszej klasy, biedactwo nie wie co ją czeka"
          ],
          [
           " szybkie pytanie do  Ręka Sadloka była zagraniem umyślnym ?"
          ],
          [
           " Dzień w którym Abidal sprzedał i kupił A.Vidala 😉"
          ],
          [
           " O, myślałam, że nikt już nie używa \\\"mnie\\\" tylko \\\"mi\\\"."
          ],
          [
           "   Na nowym stadionie West Hamu też to widziałem."
          ],
          [
           "  zawodnik w sezonie może grać w barwach dwóch klubów więc jeszcze nic straconego :)"
          ],
          [
           "ciekawe czy faktycznie jest taki zakład bo jeśli tak to nieźle XD"
          ],
          [
           " Hehe, do gazu, hehe jeszcze jakieś emotikony wrzuć"
          ],
          [
           "Od 01.10.2018 każde sprawozdanie finansowe w formie elektronicznej, zgodne ze strukturą jpk"
          ],
          [
           "Na TVP Kraków padła właśnie informacja że rozmowy z potencjalnym kupcem Wisły przełożony z dziś na jutro."
          ],
          [
           "  Na TVP Kraków padła właśnie informacja że rozmowy z potencjalnym kupcem Wisły przełożony z dziś na jutro."
          ],
          [
           " Jak powiem, że pierwsze słysze, to będzie kompromitacja czy nie? 😄"
          ],
          [
           "Nie wstanę kurde nie ma opcji"
          ],
          [
           "  Spokojnie, u mnie też Kaczarawa na kapitanie + Cvijanović :)"
          ],
          [
           "niech ładny chłopiec z kręconymi włosami do mnie napisze: jutro, zaraz, teraz"
          ],
          [
           "  niech ładny chłopiec z kręconymi włosami do mnie napisze: jutro, zaraz, teraz"
          ],
          [
           " im ktoś gorzej widzi, dłużej musi czekać, choć ten, który widzi lepiej, dłużej poradzi sobie bez okularów. 😨"
          ],
          [
           " Oj, no to powodzenia! Co tam będziesz musiała robić? 🤭"
          ],
          [
           "    Chyba nie, Marcin mówił coś o '89."
          ],
          [
           " Przeczytaj mojego kolejnego twitta to zobaczysz, że nie umknęło i co sądze o poziomie tego meczu."
          ],
          [
           "   Widzę, że sami się znajdują."
          ],
          [
           " Napewno mam niezaktualizowanego może dlatego"
          ],
          [
           "  Smokowski mówił że Wisła ma piłkarzy 3 sortu, a Wieszczycki deprecjonował dobrą prace Kiko"
          ],
          [
           "więc zaczynam oglądać Do wszystkich chłopców, których kochałam bo wszyscy o tym mówią i aż chcę to sprawdzić"
          ],
          [
           "   W stop klatkach widać ze jak by to było po stronie drugiej (legi) to karny by był"
          ],
          [
           " Na marginesie jestem córką biskupa"
          ],
          [
           " Przejdzie historii: jak tworzyć kłamstwo w dobie powszechnego dostępu do informacji"
          ],
          [
           " Od ok 8 lat używam kolejnych modeli HTC i nigdy mnie nie zawiodły."
          ],
          [
           "  Załatwi to jedno głosowanie w sejmie i żadne demonstracje nie będą miały na to wpływu."
          ],
          [
           "mój stres zaczął się stresować swoim własnym stresem, które również się stresuje ja pierdole dość"
          ],
          [
           "  mój stres zaczął się stresować swoim własnym stresem, które również się stresuje ja pierdole dość"
          ],
          [
           "     dojdzie Brlek, Stilić wróci do formy, obcokrajowcy się zaaklimatyzują i bedzie dobrze💪"
          ],
          [
           "   Brawo grzechu za Twój powrót do żywych\\n W Rosji pokaż swoją moc"
          ],
          [
           "    Wonder!! Chyba cię....😁😁😁😁😁.No dobra. Na jaki?😁😁😁"
          ],
          [
           " Ja mam uczulenie na dobrą zmianę, ale to dłuższa historiac"
          ],
          [
           " Różnicy nie ma, bo pisali wtedy, że nie można zsyłać zawodników do rezerw ;P"
          ],
          [
           "Dobry dzień na przypomnienie sobie genezy gwiazdek na fladze #UE #deklaracjaRzymska"
          ],
          [
           "  Nie wierzę, bez zaświadczenia od proboszcza?"
          ],
          [
           " I chyba wtedy byś niezaprzeczyla?"
          ],
          [
           " Tak naprawdę czy będziemy w spadkowej czy mistrzowskiej to i tak czekają nas sparingi."
          ],
          [
           " Jebać, jebać, nic się nie bać."
          ],
          [
           "Kilogramy rozmnażają się przez pączkowanie 😣😖\\n#TłustyCzwartek"
          ],
          [
           "  Nie działają i lepiej działać szybko bo klienci nie maja dostępu do środków na kontach"
          ],
          [
           " Szczególnie Vestenicky.Podczas wypożyczenia nic nie pokazał a go wykupili za 500 tys euro 😂👏"
          ],
          [
           " Co nie było blisko? Bo nie rozumiem."
          ],
          [
           "  A od kiedy komentatorzy na Sky to wyrocznia?"
          ],
          [
           " a w kolejnych fajnie jakby grał na lewej za Sadloka "
          ],
          [
           " byłem w pracy ale zaraz odpalam meczyk na yt.Dzięki za walke !!!!:)"
          ],
          [
           "  jakie 0 motywacji ? Jest chyba różnica mieć medal albo go niemieć"
          ],
          [
           " Niby nie macie czy niby nie mit? 😂😂"
          ],
          [
           " Ja bym był ostrożny😁😁😁A jak ma na imię?"
          ],
          [
           "  No nie dziwie się w sumie. Dobrze, że tylko raz dzwonił"
          ],
          [
           "imagine sie komus podobac??? ze ktos sie stara o TWOJA uwage??? can’t relate"
          ],
          [
           "  imagine sie komus podobac??? ze ktos sie stara o TWOJA uwage??? can’t relate"
          ],
          [
           "   a Portugalia jak zagrała ?"
          ],
          [
           "Pierwsze zdanie: \\\"Paczka papierosów kosztuje 4 miliardy marek\\\".\\n#JajoWęża teraz na "
          ],
          [
           "  No to tym bardziej :)"
          ],
          [
           " Co ty człowieku pijesz z rana?"
          ],
          [
           "  pewnie narządy też wkrótce sprzeda :D"
          ],
          [
           " w zeszłym sezonie to samo pisałeś ?"
          ],
          [
           "Picie to przyszłość, piękna i nieznana, szukajcie zapomnienia, próbujcie różnych trunków, łączcie środki psychoaktywne, powodzenia"
          ],
          [
           " spoko, nigdy nie daje unfollow aktywnym ludziom, tylko tym, którzy nie piszą nic od miesięcy albo dali mi unfollow"
          ],
          [
           "\\\"- Co to jest tajmlajn na fejsie?\\n- Zmarszczki\\\"."
          ],
          [
           " może trzeba chłopaków na crossfit zabierać ?:)"
          ],
          [
           "Dzisiaj o 18.00 Strefa Kibica w Radiu Akadera. Zapraszamy."
          ],
          [
           " Nie powinno być źle o ile się utrzymamy :P"
          ],
          [
           " Spokojnie trzeba ta porażkę wziąść na klatę mecz się tak ułożył nie inaczej napewno gorsi dużo my niebyli."
          ],
          [
           " Ale się cieszą. Wreszcie koniec i będzie można wypić te.zapasy z plecaka."
          ],
          [
           "  Ofertę przedłużenis kontraktu ponoć dostał od Wisły, ale jej nie zaakceptował."
          ],
          [
           "Dziś o godz. 20:00 Prezydent RP wygłosi orędzie."
          ],
          [
           "  Dziś o godz. 20:00 Prezydent RP wygłosi orędzie."
          ],
          [
           " myślałem że się przychodzi na stadion dla drużyny a nie na poszczególnych piłkarzy"
          ],
          [
           " kibicom chodzi raczej o postawe dziennikarzy a nie klubu."
          ],
          [
           "  Nie trzeba Algierczyków, wystarczy kilku polskich katechetów."
          ],
          [
           " Barcelona z Messim (ta obecna) by taki mecz wygrała 1:0, albo jakiś Suarez by coś wcisnął :P"
          ],
          [
           "  TW Wolfgang, TW Faraon i TW Rycerz,TW Balbina, TW Michał \\nKto mieczem wojuje, ten od pochwy ginie"
          ],
          [
           "  Zgadza się ale przecież nas niestac żeby komin płacowy zacząć od.carlitosa"
          ],
          [
           " Niestety obrazki będą też zielone, czarne i brunatne."
          ],
          [
           "Ktoś założył fejkowe konto i ogląda WSZYSTKIE moje story"
          ],
          [
           "  Życie, zdarza się. Jednak od takiego rzutu wolnego do gola droga dość daleka."
          ],
          [
           " a wydanie 500 tys euro gdy się nie ma pieniędzy nie jest strzałem w kolano ?"
          ],
          [
           " nie dziwie się, to było dość cwane :)"
          ],
          [
           " Raczey! Jutro będzie jej odczytywane przez cały dzień ;-)"
          ],
          [
           " Kto będzie pił te mleko, gdzie będą jeździły tiry, meble, okna ty maly kogucie"
          ],
          [
           "    Nie myli się tylko ten, co nic nie robi."
          ],
          [
           "Mama będzie mi obcinać włosy boje się"
          ],
          [
           "    No to muszą ci nieźle płacić za wierszówki."
          ],
          [
           " czy masz info jakie obecnie Ondrasek ma zarobki w Wiśle?"
          ],
          [
           " Jaka kwota wykupienia go po roku??"
          ],
          [
           "   Dla kogo pracował? Nie przy śniadaniu bo się udławić można z wrażenia. Poproszę 5 przykładów zatem."
          ],
          [
           "  jeśli masz TV włączony od 8:00 do 1:00, a reklama pojawia się 3 x na godzinę, po 2 mies. jesteś na granicy obłędu."
          ],
          [
           " Jeszcze w nastepnej kolejce pewnie jakis piątek"
          ],
          [
           "  i oczywiście było pytanie czy nie boi się o przyszłość Wisły 😂 przechodzicie samych siebie"
          ],
          [
           " no ja właśnie to samoXD znaczy wiem ze Emre wbija często, bo jego żona jest polką ale no"
          ],
          [
           " Nic nie mogą. Ale ich brak może spowodować, że strajkujący szybciej się z Sejmu wyniosą."
          ],
          [
           "   Przecież jak go zamkną to o czym ty będziesz pisał ? Twoje życie straci sens..."
          ],
          [
           "  To zaraz porobie screeny od momentu od którego jest zablokowane :)"
          ],
          [
           " Ktoś przestał słodzić, ktoś kto dużo słodził"
          ],
          [
           " delikatnie nie po drodze :D"
          ],
          [
           "  No to 0:0 murowane (bo mam też ludzi z Cracovii)"
          ],
          [
           "  Przeczytałem wszystko. Fantastycznego ma Pani Dziadka!"
          ],
          [
           "Diego Maradona - Robbie Williams 2:1."
          ],
          [
           "   Ja nie byłbym taki pewny"
          ],
          [
           " patrząc kogo biorą to mam wątpliwości czy nie chcą do 1 ligi (nie licząc Marciniaka)"
          ],
          [
           " To było dawno, jeszcze nie znali fotoszopa"
          ],
          [
           ". pojawił się na TT. To konto to nie fejk. \\nDołączajcie :) 💪"
          ],
          [
           "  . pojawił się na TT. To konto to nie fejk. \\nDołączajcie :) 💪"
          ],
          [
           "W programie Igrzyska wolności w Łodzi śpiewanie pieśni rewolucyjnych,i piosenek z serialu,4 pancerni i pies."
          ],
          [
           " no i w końcu widzę uśmiech :)"
          ],
          [
           " lepszy argument to że ktoś go nie chce bo go nie lubi"
          ],
          [
           "  Tylko że ten prostak sie nabijał, szydził tak jak ze śmierci Piotra S."
          ],
          [
           " Qwa! Wypiłem kawę przed chwilą.Bardzo dobra kawę.Nie chcę jej zwracać. A swoją drogą to świetny środek na wywołanie wymiotów."
          ],
          [
           "Wchodzę w powiadomienia a tu nic, już na 4 tt odpisałem, zaraz wyjebią bana"
          ],
          [
           " nataliethere_ oddam szybciutko z powiadomień"
          ],
          [
           " Tak tak jeszcze ktoś w to uwierzy"
          ],
          [
           "   Tez musze trzymać poziomo tel czytając ten artykuł"
          ],
          [
           "   Czasy kiedy zacząłem interesować się piłką i Wisłą 😍"
          ],
          [
           " Czy  gotów na taką kolej rzeczy?"
          ],
          [
           " E tam! To z miłości do Łodzi😁. I przyjdzie do PiS😁😁"
          ],
          [
           " A ja, ze coś znowu zepsułam xd"
          ],
          [
           "Czemu jak zawsze się o kogoś martwię to ja dostaje po dupie, i mean nie wiem"
          ],
          [
           " kiedy wyjeżdżasz? ja w piątek, co prawda już drugi rok ale moja rodzina nadal reaguje tak samo"
          ],
          [
           "   Ograniczyłbym to do \\\"Byle nie Ufa\\\" :)"
          ],
          [
           "  Święta racja, ale zapytaj Jurgiela o notatki, on wie co spierdolił. Będzie łatwiej."
          ],
          [
           "  Szczególnie wielka strata za Smoleńsk"
          ],
          [
           "    daj znać  o  zdjecie blokady"
          ],
          [
           "  Myślę, że po info o konferencji wielu osobom to przychodzi do głowy."
          ],
          [
           " Koniecznie! Zapraszamy na spacer z kawką 😃"
          ],
          [
           " błąd logiczny, te pieniądze kiedyś były wasze, teraz już sa nasze i nic wam do tego towarzyszu"
          ],
          [
           "   błąd logiczny, te pieniądze kiedyś były wasze, teraz już sa nasze i nic wam do tego towarzyszu"
          ],
          [
           " Zależy jak na to spojrzeć. Z jednej strony akredytacja, z drugiej wyjazd za swoje $$$ 😉"
          ],
          [
           "  albo wygrywali 1:0 z Barceloną"
          ],
          [
           "  Nic specjalnego. Można się domyślać, że pewnie pójdzie na wypożyczenie."
          ],
          [
           "Z Zagłębia Hładun i Czerwiński w składzie (porażka 1:2), a z Legii Carlitos na kapitanie (zmiana w przerwie). Co za seria 😂"
          ],
          [
           " co chwile o nim piszecie i gadacie jaka to porażka jak nie zostanie.A nie pamiętacie jak jeszcze niedawno otrzymanie licencji1/2"
          ],
          [
           "  Przecież TS dzierżawi ta ziemię umowa na 99 lat zgadza się czy nie?"
          ],
          [
           " Pyta się kiedy beda nowe okulary, bo juz chce wychodzić"
          ],
          [
           " Probierz szuka młodych Polaków pasuje jak ulał😉"
          ],
          [
           " Może pasuje do klucza francuskiego?🔧☺"
          ],
          [
           " Najlepiej w Polsce żeby legia miała pomoc :-)"
          ],
          [
           "Szukam osób, które mają kontakt z rodziną gen. Bułak-Bałachowicza. Sprawa  prywatna."
          ],
          [
           " Brawo skwk za komunikat pomimo braku zakazu czekałem na ta wiadomość co robić, bo na mecz bez dopingu niemyslalem iść"
          ],
          [
           " Trąba ? Nie no ostro pojechałaś :D"
          ],
          [
           "Motocykle opuściły gniazda i kierują się na północ. Żonkile na przedmieściach to już tylko formalność. Wiosna! :-)"
          ],
          [
           "  🕵 Jest tak zakonspirowany, że go nie widać. Fachowiec. \\n(Górny, prawy róg)"
          ],
          [
           " W jednej z powtórek było to dobrze widać :))"
          ],
          [
           " Kochana nie ma po co bo później wszyscy się będą po to kleić 😂😂"
          ],
          [
           "  chyba nie miałeś się czego przyczepić, nie przesadzajmy :)"
          ],
          [
           " Dzwoniłam się dowiadywać kiedy się można wprowadzać 😂nie wiedziałam ze takie problemy mogą być xd"
          ],
          [
           " Już pod koniec jazdy wymusilam na rondzie.... nie wiem jak to się stało, mój mózg miał zaćmienie czy coś a"
          ],
          [
           "Terminator X To The Edge Of Panic wykonawcy Public Enemy\\nhttps://t.co/Nqf1yFOyKg"
          ],
          [
           " Zaspana jestem jeszcze sorki XD"
          ],
          [
           "  No ja nie kojarze xD"
          ],
          [
           " Pies to czasem nawet pożera książki..."
          ],
          [
           "Kiedy Christina wychodzi za mąż"
          ],
          [
           "  Zapewne ci, co grali przez większość rundy w CLJ i nie ponieśli ani jednej porażki."
          ],
          [
           "  Jak będzie ta pioseneczka to przychodzę\\n\\nhttps://t.co/B6ak11mI4d"
          ],
          [
           " zamieszczanie takich zdjęć podczas gdy ja jestem na sucharach powinno być zabronione :)"
          ],
          [
           "   A co trzeba zrobić w kwestii finansowania kampanii z funduszy UE przez Ziobrę?"
          ],
          [
           " W środku łamanie w stylu 2obiegu."
          ],
          [
           "    jak wróce z pracy to też podejme wyzwanie ale tym razem bedzie skromnie :)"
          ],
          [
           "   Jak pić to z klasą ;)"
          ],
          [
           " W rosji sa jakieś zawody"
          ],
          [
           "  Myślałem że to Twój ulubieniec 😂"
          ],
          [
           "  pewnie ranking Fifa bedzie decydowal"
          ],
          [
           "   od paru lat słysze o sponsorze więc tym bardziej szacunek że przez pare lat się nieujawnił..."
          ],
          [
           " Skoro Carrillo nie chce Sobola to tym bardziej nie będzie chciał Głowy. Chyba, że trener rzeczywiście odchodzi."
          ],
          [
           " kot też się załapał na fotke, a raczej jego dupa :)"
          ],
          [
           " Szczerze? Trochę tak to wygląda, a i tak prędzej czy później ten bilans wychodzi na równo."
          ],
          [
           "*stoi przed nimi król gargulców*\\nbetty: to pewnie ethel\\n\\nXDDDDDDDDDDDDDD\\n#Riverdale #RiverdalePL"
          ],
          [
           "  *stoi przed nimi król gargulców*\\nbetty: to pewnie ethel\\n\\nXDDDDDDDDDDDDDD\\n#Riverdale #RiverdalePL"
          ],
          [
           " No, to ja we własnej osobie"
          ],
          [
           " Słabo trzymałeś kciuki, bo podarował bramke Cracovii :)"
          ],
          [
           "  Piwnica bez okien, ty to masz dobrze"
          ],
          [
           "Czuję się chora więc siedzę w domu w czapce"
          ],
          [
           " Juz myslałem że coś gorszego😁😁"
          ],
          [
           "  A gdzie Inferno napisał, że Wisła stawia na Polaków ?"
          ],
          [
           " Omg właśnie o nich myślałam"
          ],
          [
           " Tak na pewno nie będzie. Drużyna leci w środę."
          ],
          [
           "Cudzysłów, przecinek nie jestem ruskim trollem"
          ],
          [
           "Biorąc pod uwagę, jakie dotąd mieliśmy losowania w Lidze Europy, to na ten finał w Baku w 2019 roku nie jesteśmy bez szans. 😁"
          ],
          [
           "  Fajnie, teraz zamiast przemowy muzyczka żeby nie było słychać odzewu publiki."
          ],
          [
           "  Białystok, ulica Wierzbowa. Jak oni to zrobili, to jest zagadka."
          ],
          [
           " Straszny gangster jak po wolności chodzi"
          ],
          [
           "  Pewnie tak bo Buchalik kontuzjowany."
          ],
          [
           " to miało jakiś ciąg dalszy? 😉"
          ],
          [
           "vans do chuja przestań robić choć na chwilę zajebiste kolekcje bo w moim portfelu pieniądzen't"
          ],
          [
           "  vans do chuja przestań robić choć na chwilę zajebiste kolekcje bo w moim portfelu pieniądzen't"
          ],
          [
           "    12 mld nie mam zamiaru dyskutowa możejki i skoki"
          ],
          [
           "  Alves był bardzo w stylu Guardioli 😛"
          ],
          [
           " Bo w \\\"10\\\" już grają przez Boatenga ;)"
          ],
          [
           " Widocznie to zbyt trudna miłość na Walentynki 😁"
          ],
          [
           " Sarapata była w solarium ?"
          ],
          [
           " Woda chyba zimna bo nikogo w wodzie ;-)"
          ],
          [
           " ej, dobra, weźmie ten chrzest czy nie? xd"
          ],
          [
           "  Lub bezpośredni awans, bo nie wiadomo co ze Stomilem, a przede wszystkim Bytovią :)"
          ],
          [
           "  byłam przy tym, więc zapewniam 😉"
          ],
          [
           " Piątek  też powinien być wolny, ina 100%"
          ],
          [
           " Kibice innych drużyn doceniają i trochę zazdroszczą :)"
          ],
          [
           "  na 100% jest zmiana Śląsk - Jaga i chyba została już potwierdzona."
          ],
          [
           " W tym czasie był z rodzinką na wakacjach w Gdańsku Brzeźnie to musiał zdalnie podtrzymywać związek"
          ],
          [
           "  Nie wiem, aczkolwiek jego tata mówił, że widziałby Tomasa w Jagiellonii. 😜"
          ],
          [
           "Ja i moje psiapsi gramy w te gry na snapie i nie mogę przestać się śmiać z naszych min XD"
          ],
          [
           "Rząd zaostrzy kary za znęcanie się nad zwierzętami. Od 3-5 lat więzienia; obowiązkowa nawiązka do 100 tys zł. Więcej jutro w "
          ],
          [
           "  Rząd zaostrzy kary za znęcanie się nad zwierzętami. Od 3-5 lat więzienia; obowiązkowa nawiązka do 100 tys zł. Więcej jutro w "
          ],
          [
           "   czuje że Brlek prędzej czy później odpali"
          ],
          [
           "  To, że figurowal jako zawodnik Man City nie znaczy, że będzie potrafił grać."
          ],
          [
           "  Oczywiście, że ma rację. Chodzi tylko o to, że to jest drużyna o klasę lub dwie lepsza."
          ],
          [
           "  Nie miał prawa stać za linią, tak prawdę mówiąc 😄 Ale w kamerach to bardzo ładnie wyglądało."
          ],
          [
           "   Ty to robisz przede wszystkim, co widać po pierwszym tweecie."
          ],
          [
           "Ostatnio czuje się tak samotna i smutna ze aż sama się dziwie"
          ],
          [
           "   dobrze by mu to zrobiło.Za słaby na Wisłe."
          ],
          [
           " Hehehehehe. Róża nawet niezła była.I co z niej wyrosło!😁😁😁"
          ],
          [
           " jedni wynajmują agencje do komentarzy a inni dziennikarzy"
          ],
          [
           "   jedni wynajmują agencje do komentarzy a inni dziennikarzy"
          ],
          [
           " pewnie jest mniej błędów bo i liczb jest mniej bo zrezygnowali ze statystyk zawodników sezon po sezonie ;)"
          ],
          [
           "  Sorry ale dzisiaj nie ma opozycji. Jest grupa cwaniaków chcących odzyskać stołki."
          ],
          [
           "na kijowe życie najlepsza wódeczka"
          ],
          [
           "Co na to Herod śmierdziuszka "
          ],
          [
           " Brakuje mu dystansu, za bardzo się egzaltuje, a jałowe szyderstwa już mi się przejadły"
          ],
          [
           " Wisła chyba ważniejsza od jakiejś Delle Donne :)"
          ],
          [
           " Nawet jeśli to fejk, to zgodnie z powiedzeniem -w każdej plotce jest ziarnko prawdy. Z tym że w tym przypadku raczej ziarno😁😁"
          ],
          [
           " Tez wczoraj byłam na randce która trwała cały dzień Xd"
          ],
          [
           " A kierowca autobusu wstał i zaczął klaskać ?"
          ],
          [
           "  Jak by nie było, aby było miło, teraz sie cieszysz"
          ],
          [
           " No to może warto, najwyżej Cię oleje, co jest oczywiście nie do przyjęcia 😂 kto nie ryzykuje ten nie pije szampana kochana!"
          ],
          [
           "  Trzymali się za ręce, waleczni i sprawiedliwi"
          ],
          [
           "Dudelange niby takie cwaniaki, a ciekawe czy byliby tacy mądrzy w dwuboju rzut młotem-skoki narciarskie"
          ],
          [
           "  Dudelange niby takie cwaniaki, a ciekawe czy byliby tacy mądrzy w dwuboju rzut młotem-skoki narciarskie"
          ],
          [
           "   głównie  który często o tym wspomina"
          ],
          [
           "Kto się jeszcze zaczepia na fejsie...."
          ],
          [
           "  Z tymi wizjami to może być problem. Proponuję sprawdzić po czym te wizję są"
          ],
          [
           "Czy Antek już ogłosił, że na lewym skrzydle naszej obrony był wybuch?"
          ],
          [
           "  Czy Antek już ogłosił, że na lewym skrzydle naszej obrony był wybuch?"
          ],
          [
           " jest to dobra informacja dla tych co okradali  Polskę od 89  roku  Irlandia da im wolność"
          ],
          [
           "   jest to dobra informacja dla tych co okradali  Polskę od 89  roku  Irlandia da im wolność"
          ],
          [
           "    Wywalił Ronaldo w Superpucharze :)"
          ],
          [
           "Halo Kraków, kogo byście uznali za gwiazdę/najważniejszego zawodnika obecnej Wisły? 😉"
          ],
          [
           "  Ssą wszystkimi otworami z krwi biało czerwonej"
          ],
          [
           "   Znowu on ? 😂 to przy okazji niech się odniesie do słów Sarary 😂"
          ],
          [
           " Dotarlas do orełka?😁😁 W tym roku niestety tyłko jeden😞😞"
          ],
          [
           "   A Panu nie brakuje czasem art. 87 pkt1?"
          ],
          [
           " Czy to oknoplus ladowal kiedyś"
          ],
          [
           "  5 punktów na 21 w rundzie finałowej..."
          ],
          [
           ".  Będziemy realizować przekop Mierzei Wiślanej \\n#wieszwiecej  \\nhttps://t.co/zuCXxG1GUr"
          ],
          [
           "  .  Będziemy realizować przekop Mierzei Wiślanej \\n#wieszwiecej  \\nhttps://t.co/zuCXxG1GUr"
          ],
          [
           " Bolek wyluzuj bo jesteś sercowy."
          ],
          [
           " Śmiej się  śmiej. To wcale nie jest śmieszne."
          ],
          [
           "I hope that autumn will heal me"
          ],
          [
           "Jutro po marszu, ale jeszcze kilka dni beda chodzić naćpani"
          ],
          [
           " Nie ma jak lans nierobie za pieniądze podatników."
          ],
          [
           " A to ja przepraszam, nie miałam wczoraj czasu na TT 😎"
          ],
          [
           "11 tysięcy miejsc zajętych, dzisiaj prawie 2000 biletów sprzedanych. Z tej okazji za chwilę nagroda 😁"
          ],
          [
           "  To ja chyba tylko kolory porównywałem"
          ],
          [
           "Ej słuchajcie co zajebistego wymyśliłam \\n\\nJaki jest najlepszy argument bonnie z pamiętników wampirów? \\n\\nBo nnie"
          ],
          [
           "  Ej słuchajcie co zajebistego wymyśliłam \\n\\nJaki jest najlepszy argument bonnie z pamiętników wampirów? \\n\\nBo nnie"
          ],
          [
           " Im więcej problemów w państwie tym więcej niewykonanych wyroków"
          ],
          [
           "Widziałam śliczną sukienkę ale nie było mniejszego rozmiaru niż 36 i była za duża danmm"
          ],
          [
           "   nie, ale jeśli ktoś wypomina Levadie to niech bedzie obiektywny i wspomni też inny wynik."
          ],
          [
           " O naszych meczach z Rio Ave można powiedzieć podobnie 😉"
          ],
          [
           "W sumie to polubiłam już zajęcia z konstrukcji przekazu reklamowego i prowadzący jest świetny"
          ],
          [
           "Ej chciałabym do samorządu w sumie hahahaha"
          ],
          [
           " Tez nie mam snapa hahahahaha"
          ],
          [
           " Ileż można o tym Wiluszu ?..."
          ],
          [
           " A po polsku to jak to będzie?"
          ],
          [
           "  A skąd on wie jak jest w innych klubach ? Niech się wypowiada o klubach w których grał."
          ],
          [
           "I ta Wisła, która się bawi z każdym w ofensywie, w Białymstoku miała pół sytuacji."
          ],
          [
           "   Zapytalem,  szwagierka mówi że ma konto w powerbanku"
          ],
          [
           "  Mięciuteńki straszliwie. Tam były ręce na ciele, a nie jakieś szarpanie. Tylko że nie do VAR-u."
          ],
          [
           " Zdejmujesz Dziadkowi okulary, zakładasz Babci i jestem \\n😎"
          ],
          [
           "   w końcu jakiś ciekawy wywiad :)"
          ],
          [
           " jak tam widziałeś czerwoną to rzeczywiście wyjdź"
          ],
          [
           " skoro zarząd pozwala na takie cyrki to niestety potrwa to lata"
          ],
          [
           "  Cieszmy się że drużyna dalej gra w lidze.Nie zawsze można mieć najmocniejszy skład w lidze :)"
          ],
          [
           "   Znawca wszystkiego czyli niczego od bydła po powidło"
          ],
          [
           " 😂😂😂😂😂😂😂😂😂😂😂😂😂🤣🤣🤣🤣🤣🤣🤣🤣🤣🤣🤣🤣🤣😂😂😂😂😂😂😂🤣🤣🤣🤣🤣🤣🤣🤣🤣🤣🤣🤣🤣🤣🤣😂😂😂😂😂😂😂😂😂😂😂😂😂😂😂😂\\n\\nSłów odpowiednich żaden słownik nie zawiera"
          ],
          [
           " Vacek, Putnocky, Nielsen.Widzę że biorą się za odmładzanie składu :)"
          ],
          [
           " Lub kibiców w Gliwicach 😜"
          ],
          [
           " No właśnie była lepsza 😜"
          ],
          [
           "    No weź nie rob takiej miny"
          ],
          [
           " Bo jest Głowacki to teraz czas na obrońców"
          ],
          [
           "  Nie ma takiej opcji. Oszust i kłamca w roli głównej - tego jeszcze świat nie widział."
          ],
          [
           " Nie jest złe! Chodzisz w szpilkach? Cokolwiek byś nie założyła to szpilki choć trochę pomogą xd"
          ],
          [
           " Jakby był definitywny to trochę slabo 😂"
          ],
          [
           " a co się tak pieniedzmi nagle przejmujesz ? Jak chcialas rozwiazania kontraktu z Zohnova czy Pop to kasa juz nie wazna ?"
          ],
          [
           " Oskar Łąk definitywnie odszedł z Wisły ?\\n\\nhttps://t.co/o0psVgZBUl"
          ],
          [
           " gratulacje ! Dzięki za dotrzymanie słowa że dzisiaj koniec :) Zasłużyłyście !"
          ],
          [
           "Jezu, co zagrali Suarez i Cavani."
          ],
          [
           " Na pewno łatwiej by było znaleźć, określić i poprawić problemy"
          ],
          [
           " Można, dlatego nasz poziom piłkarski był bardzo słaby wczoraj."
          ],
          [
           " Wybacz, ale nie sądzę, aby głównym problemem kadry były złe powołania na numerach 21-23 w kadrze."
          ],
          [
           "jeśli nie mogę wyglądać tak jak\\n•perrie edwards\\n•troian bellisario\\nto what’s the point of existing?"
          ],
          [
           "  jeśli nie mogę wyglądać tak jak\\n•perrie edwards\\n•troian bellisario\\nto what’s the point of existing?"
          ],
          [
           " Nadal i Djoković to się w sumie cieszą, bo ten, kto w ich meczu wygra, będzie praktycznie zwycięzcą turnieju."
          ],
          [
           "   wyśle im jutro list od kibiców cracovii że chcą odejścia Filipiaka.Ciekawe czy też opublikują."
          ],
          [
           " No to skąd wiedziałeś czy stopklatka jest zrobiona w odpowiednim momencie ? Nie kompromituj się"
          ],
          [
           "   Iza - dziewczyna, cud, miód, malina 😁"
          ],
          [
           "Zaraz pół mojego instagrama i cały Twitter będzie na koncercie Eda.... i jestem jeszcze ja............"
          ],
          [
           " Z tamtego Adama dziś już nic nie zostało. Ale czepianie się go za brata i ojca osobiście nie popieram"
          ],
          [
           " Może też być kołderka 😍"
          ],
          [
           " Dlaczego średnio? W decydujacym o awansie Widzewa czerwcu był piłkarzem miesiąca"
          ],
          [
           " błedem było ściaganie zawodników których nas niestać byleby osiągnąć cel"
          ],
          [
           " Każdy kto choć trochę się orientuje w tych sprawach wie, że na Hutniku nie ma oświetlenia..."
          ],
          [
           " Maliniak dal reklame za dormo ponoć caly marsz niepodleglosci ubrali, prawda to redisbad?"
          ],
          [
           " niech wejdzie na luzie i pewnie tak żeby nie musiał zostawiać dokumentu, milion osób tak przemyciłam"
          ],
          [
           "  Bo byliśmy bez formy, to oczywiste. Przecież to też napisałem."
          ],
          [
           " jest juz aktualizacja składów czy jakis dodatek sciągałeś ? :)"
          ],
          [
           "      Mam nadzieję że nigdy więcej. Czekam na rychłą delegalizację."
          ],
          [
           "  O 11.00 wielkie obtrabienie sukcesu..."
          ],
          [
           " Taki Błaszczykowski tez za co do repry?  Żeby niebylo ze wbijam szpilki do legi?"
          ],
          [
           "Często wracam do tego kawałka. "
          ],
          [
           "omg ale jestem wyjebana po tym wykładzie"
          ],
          [
           "  Ale Karolina ostatnio była w TVP 😜"
          ],
          [
           "#NAME?"
          ],
          [
           "  U mnie też wyświetla właściwe kolory 😊"
          ],
          [
           "Yerri Mina - złota piłka 😁"
          ],
          [
           " jeszcze nie mam planu wykonania ;-)"
          ],
          [
           " Śląsk Wrocław ma jakiś drugi podmiot, że wystawia drugi zespół w barażach?"
          ],
          [
           "Nie wiem, jak Barcelona i Real otrząsną się po utracie tak ważnych piłkarzy, jak Paulinho i Cristiano Ronaldo."
          ],
          [
           "Polska zrealizowala nasze cele w UE na szczycie z nawiązką. Podajcie dalej  koniecznie potrzebne - dziękuję😊\\nhttps://t.co/OzUaePZLpY"
          ],
          [
           "  Polska zrealizowala nasze cele w UE na szczycie z nawiązką. Podajcie dalej  koniecznie potrzebne - dziękuję😊\\nhttps://t.co/Oz…"
          ],
          [
           "   A my nie mamy helikopterów, rakiet, łodzi podwodnych a mamy WOT w którym ja biegam"
          ],
          [
           "  A czego oczekiwałeś ? Przedłużą z kimś kontrakt to poinformują"
          ],
          [
           " Jeszcze Podolski od jakiegoś czasu."
          ],
          [
           "Przepraszamy. Nie wpadliśmy na to, że pokazując środkowy palec narodowi, który - ponad podziałami, czci #PW1944, możemy kogoś obrazić. Sorki"
          ],
          [
           " ahhh myślałam, że na jakieś innej stronie"
          ],
          [
           " Źle... Miałeś napisać, że nie możesz więcej zdradzić :("
          ],
          [
           " Pan w tle, z lewej, to z mopem zasuwa? 🖒"
          ],
          [
           " Pomysł sobie ze ja oblałam bo z pełna świadomością wjebalam się na rondo XD widzisz to taki mały błąd, Ew"
          ],
          [
           " Hejka, hejka, sejonarka w czwartek o 11 juz do domku"
          ],
          [
           "  Mistrz, człowiek mem jedyny na świecie"
          ],
          [
           "   York czy Leszek Miller? :)"
          ],
          [
           " Kiedys kazdy kopniak bez piłki = czerwona, a jeśli to było tylko położenie ręki na głowę, to nie mamy o czym rozmawiac :)"
          ],
          [
           "Morawieckiemu coś nie idzie w Namysłowie. Teraz jako były prezes BZK WBK przedstawia się jaki ten, który zwalcza \\\"zachodnie korporacje\\\"."
          ],
          [
           "  Morawieckiemu coś nie idzie w Namysłowie. Teraz jako były prezes BZK WBK przedstawia się jaki ten, który zwalcza \\\"zacho…"
          ],
          [
           " No widzisz, a zwycięską asystę w tym meczu zanotował Griezmann. MVP = najbardziej wartościowy zawodnik :)"
          ],
          [
           "Jak go pierwszy raz usłyszałam to miałam ciarki na całym ciele"
          ],
          [
           " kibice nigdy nie pozwolą na to żeby po raz kolejny był trenerem"
          ],
          [
           " Jego tata tłumaczył konferencję przy okazji meczu z Rio Ave w Vila do Conde :)"
          ],
          [
           " a wyśmiewanie Lionela M. było po skazaniu go za oszustwa podatkowe ? bo jakoś przeoczyłem"
          ],
          [
           "   życzę Gatcie mistrza bo zasługują na to grając 2 sezony na wysokim poziomie."
          ],
          [
           " Plakat widzę tak  z   wymiana spojrzeń  a  na kolanach liże ich po stopach"
          ],
          [
           "  Mógł, ale jakoś nie chce mi się wierzyć, że tak to wyglądało."
          ],
          [
           "em ok wątek Jerzego i Zuzy w Przyjaciółkach to najlepsze co tam było kiedykolwiek"
          ],
          [
           "   Giertych: myślę, że myślę."
          ],
          [
           "Ostatnio się zrobiłam polityczna chyba studia weszły mi za mocno"
          ],
          [
           " nie chodziło mi o to że się cieszyłeś z upadku Wisły tylko że masz czarny humor :) że się z Wisły na Chojnice przerzuciłem :)"
          ],
          [
           "Ta drużyna powstała za czasów PO-PSL."
          ],
          [
           "  Ta drużyna powstała za czasów PO-PSL."
          ],
          [
           " Hołd to się oddaje bohaterom...."
          ],
          [
           "   a co ma procent zapelnienia pojemnosci do frekwencji ? Po za tym co to jest 50% na takim malym stadionie ?"
          ],
          [
           "Spółka srebrna kapitał  7 mln,  w zarządzie sekretarka i kierowca Jarkacza"
          ],
          [
           "Kto chce zrobić ze mna tea party??"
          ],
          [
           " No gdzie, wszystko zależało od Lecha w ostatniej kolejce :D"
          ],
          [
           "Moja morda to takie spierdolenie ze zaraz rykne"
          ],
          [
           "  Moja morda to takie spierdolenie ze zaraz rykne"
          ],
          [
           "  No w różnych miejscach ludzie seks uprawiają. Dajcie spokój..."
          ],
          [
           "Czemu żaden tramwaj nie jedzie wtf"
          ],
          [
           " Tak, statystyki to kłamstwa. Za to wyciągnięcie jednej sytuacji z 90 minutowego meczu to bezcenny dowód."
          ],
          [
           "  Zamiast tego można znaleźć grafiki na różnych ekranach / telebimach w mieście."
          ],
          [
           " Ale co to ma do Mystka?"
          ],
          [
           " Serio chcecie cichego stadionu ?"
          ],
          [
           "Co to miało być? 😂"
          ]
         ],
         "hovertemplate": "label=0<br>x=%{x}<br>y=%{y}<br>text=%{customdata[0]}<extra></extra>",
         "legendgroup": "0",
         "marker": {
          "color": "#636efa",
          "symbol": "circle"
         },
         "mode": "markers",
         "name": "0",
         "orientation": "v",
         "showlegend": true,
         "type": "scatter",
         "x": [
          10.30246353149414,
          -3.3220582008361816,
          2.5333359241485596,
          3.377474308013916,
          -4.441914081573486,
          -5.80036735534668,
          5.1319122314453125,
          3.2350783348083496,
          1.265434741973877,
          -2.4715096950531006,
          7.312655448913574,
          -12.719822883605957,
          2.980933427810669,
          2.9809556007385254,
          -0.779406726360321,
          16.889707565307617,
          -19.105497360229492,
          -1.9216073751449585,
          3.2179107666015625,
          -2.0258564949035645,
          -2.608706474304199,
          -2.4474642276763916,
          -12.211894035339355,
          -5.1246843338012695,
          3.1275315284729004,
          1.7766660451889038,
          18.4063663482666,
          18.4063663482666,
          0.4461968243122101,
          3.3678207397460938,
          5.059675693511963,
          4.104305744171143,
          2.181558132171631,
          -4.838256359100342,
          -6.686258792877197,
          -6.686351776123047,
          -17.458478927612305,
          -5.1895575523376465,
          -8.850810050964355,
          14.844137191772461,
          -11.951531410217285,
          -11.951574325561523,
          5.4801740646362305,
          -8.541486740112305,
          11.074530601501465,
          13.880888938903809,
          -9.198142051696777,
          16.95543670654297,
          -14.149003028869629,
          -4.362858295440674,
          -5.432720184326172,
          -9.375432014465332,
          0.176102876663208,
          -11.228456497192383,
          -6.586423873901367,
          7.84771728515625,
          0.9817729592323303,
          -0.5221002697944641,
          0.005669972859323025,
          5.45238733291626,
          7.333145618438721,
          9.697840690612793,
          6.186915874481201,
          -9.725464820861816,
          13.900786399841309,
          0.9030226469039917,
          12.732809066772461,
          -4.342372894287109,
          -15.129587173461914,
          -9.396956443786621,
          -6.227066516876221,
          -6.1770429611206055,
          -3.250462055206299,
          -1.5703680515289307,
          14.586856842041016,
          -3.7413723468780518,
          4.91511869430542,
          3.8827948570251465,
          13.846214294433594,
          -8.356986045837402,
          -3.3328311443328857,
          -1.982387661933899,
          -4.983326435089111,
          10.234021186828613,
          -14.509078025817871,
          -7.496932029724121,
          8.408684730529785,
          -0.2902637720108032,
          -8.536062240600586,
          -11.896869659423828,
          -11.89681339263916,
          9.703388214111328,
          -2.3207714557647705,
          -16.81601333618164,
          6.6393232345581055,
          6.6393232345581055,
          8.950904846191406,
          -6.874420166015625,
          -13.410063743591309,
          -1.705855369567871,
          5.983965873718262,
          12.334156036376953,
          -13.361281394958496,
          -0.6936832666397095,
          -6.566330909729004,
          -12.777555465698242,
          -4.010898113250732,
          -4.47100305557251,
          0.49385586380958557,
          14.57048225402832,
          14.570356369018555,
          -4.382260322570801,
          -5.653173446655273,
          0.8807218670845032,
          1.5266687870025635,
          2.6164119243621826,
          -0.7218531966209412,
          4.504364967346191,
          0.8643572926521301,
          6.707112789154053,
          11.738540649414062,
          0.47409695386886597,
          2.0582971572875977,
          -5.961711883544922,
          8.486266136169434,
          -9.58894157409668,
          -6.237804412841797,
          -5.546701431274414,
          1.674439549446106,
          10.253287315368652,
          2.5640504360198975,
          5.523855209350586,
          1.8278805017471313,
          1.8278805017471313,
          -0.33599960803985596,
          -8.796621322631836,
          5.076266765594482,
          3.552729606628418,
          9.319117546081543,
          1.156819462776184,
          -7.509683132171631,
          4.6166582107543945,
          -9.206214904785156,
          3.769131898880005,
          -13.340639114379883,
          7.604486465454102,
          7.567169189453125,
          8.469948768615723,
          3.971531867980957,
          -13.341666221618652,
          -13.341666221618652,
          2.9359426498413086,
          -16.556198120117188,
          5.79341983795166,
          -8.773755073547363,
          -14.79334545135498,
          12.661539077758789,
          0.8288165330886841,
          -4.158466339111328,
          3.658762216567993,
          -5.844614505767822,
          7.044061660766602,
          8.426013946533203,
          1.15297269821167,
          11.072566986083984,
          13.959603309631348,
          -6.887030601501465,
          3.526416778564453,
          -12.309775352478027,
          6.568341255187988,
          -8.707986831665039,
          9.598615646362305,
          6.674656867980957,
          4.16439151763916,
          6.022289276123047,
          3.8959364891052246,
          -7.499960422515869,
          12.350173950195312,
          17.297208786010742,
          -2.374246120452881,
          -0.28751593828201294,
          -14.65591812133789,
          3.1157851219177246,
          2.30470609664917,
          6.129969120025635,
          -5.416954040527344,
          -5.416905403137207,
          -11.858885765075684,
          0.4199981689453125,
          3.490274667739868,
          4.936468601226807,
          3.041693687438965,
          -8.528769493103027,
          6.438154697418213,
          8.105748176574707,
          6.118113994598389,
          9.813090324401855,
          3.358677387237549,
          -5.616654872894287,
          -1.6892260313034058,
          2.2022976875305176,
          6.330337047576904,
          -3.4620797634124756,
          3.353208065032959,
          -11.141547203063965,
          -3.5596537590026855,
          -10.993325233459473,
          -9.240212440490723,
          0.16678950190544128,
          0.16689851880073547,
          -7.029897689819336,
          -9.007494926452637,
          6.638702869415283,
          -12.818449974060059,
          5.960941791534424,
          -10.723310470581055,
          12.495635032653809,
          14.459007263183594,
          -3.0834641456604004,
          -8.435474395751953,
          -10.523672103881836,
          -4.685017108917236,
          -0.43391817808151245,
          0.09286948293447495,
          4.237796783447266,
          -6.65147590637207,
          -7.108973979949951,
          10.754362106323242,
          12.36178207397461,
          6.515415668487549,
          -17.592788696289062,
          0.8500655293464661,
          3.2130236625671387,
          13.9254150390625,
          -2.818882465362549,
          -7.272144794464111,
          9.890862464904785,
          10.114243507385254,
          -8.423449516296387,
          -10.046746253967285,
          8.440886497497559,
          -3.984142303466797,
          -4.360816955566406,
          6.9154510498046875,
          12.71332836151123,
          4.564035415649414,
          8.671133995056152,
          6.373051643371582,
          7.38962984085083,
          8.480079650878906,
          8.47992992401123,
          -4.465235233306885,
          -9.89285659790039,
          6.8026909828186035,
          3.583122491836548,
          5.958963394165039,
          -11.864831924438477,
          -0.6966868042945862,
          7.157644271850586,
          7.070335865020752,
          -8.235058784484863,
          11.032478332519531,
          9.114566802978516,
          4.4844536781311035,
          7.960358619689941,
          14.875526428222656,
          -2.168804168701172,
          -2.1686174869537354,
          -4.382584095001221,
          -3.7956559658050537,
          -7.296386241912842,
          0.5629318356513977,
          -9.919597625732422,
          10.83662223815918,
          16.749099731445312,
          -5.344525337219238,
          11.684139251708984,
          9.982393264770508,
          -5.7886505126953125,
          9.647787094116211,
          -9.48465633392334,
          0.6931334137916565,
          -3.155252695083618,
          -9.476895332336426,
          -9.47681999206543,
          9.542303085327148,
          8.949177742004395,
          -0.6821311116218567,
          6.9911112785339355,
          2.2140846252441406,
          4.965292930603027,
          -5.872302532196045,
          2.241673707962036,
          -20.603469848632812,
          -20.603469848632812,
          -6.387007236480713,
          13.364026069641113,
          -2.7125020027160645,
          -9.178675651550293,
          -0.9183928370475769,
          -7.7555012702941895,
          -0.16572344303131104,
          7.975167274475098,
          -8.399527549743652,
          11.062939643859863,
          9.447834968566895,
          -3.0494000911712646,
          -3.9105825424194336,
          -3.9105136394500732,
          4.734769821166992,
          10.646414756774902,
          0.5988870859146118,
          2.3975751399993896,
          2.3976025581359863,
          -10.090280532836914,
          -10.089971542358398,
          -10.463790893554688,
          1.7323716878890991,
          -2.781721353530884,
          6.41327428817749,
          -7.227156162261963,
          -0.6091408133506775,
          10.329304695129395,
          -11.709259986877441,
          -10.558614730834961,
          -10.558614730834961,
          4.504679203033447,
          10.361452102661133,
          -19.37140464782715,
          9.457283973693848,
          -3.0878546237945557,
          -0.8540623188018799,
          -9.915728569030762,
          4.083629131317139,
          -2.077004909515381,
          -2.0769500732421875,
          -11.574865341186523,
          1.5098471641540527,
          8.436673164367676,
          -12.40131950378418,
          -5.049476623535156,
          -3.98596453666687,
          1.6066261529922485,
          -11.862378120422363,
          -7.184512138366699,
          2.3597874641418457,
          -9.230398178100586,
          -12.266509056091309,
          1.6323277950286865,
          -4.379966735839844,
          5.912099838256836,
          5.316861629486084,
          6.754307746887207,
          -7.816318511962891,
          -10.199556350708008,
          10.898499488830566,
          -3.4904420375823975,
          -11.36157512664795,
          5.508701324462891,
          7.309667587280273,
          7.963507652282715,
          2.1316075325012207,
          2.2273213863372803,
          7.796214580535889,
          1.539060115814209,
          -13.638762474060059,
          -4.172624588012695,
          -12.800347328186035,
          8.425986289978027,
          8.175518989562988,
          1.3909515142440796,
          -18.82920265197754,
          -18.82920265197754,
          -8.154940605163574,
          2.3408119678497314,
          2.5428428649902344,
          -17.425390243530273,
          7.794556617736816,
          4.899466037750244,
          11.511739730834961,
          -7.884129047393799,
          11.372093200683594,
          4.147953510284424,
          -2.8975112438201904,
          8.51273250579834,
          4.248598098754883,
          11.858874320983887,
          6.856224536895752,
          -11.727543830871582,
          -4.755243301391602,
          3.31794810295105,
          0.4618684947490692,
          -5.297061920166016,
          -6.432592868804932,
          10.639245986938477,
          -14.064315795898438,
          3.526427984237671,
          5.006187915802002,
          -3.8891892433166504,
          -8.439249992370605,
          -8.430545806884766,
          -1.3736140727996826,
          -0.7396277189254761,
          4.255368709564209,
          1.1048259735107422,
          -6.914412021636963,
          12.326702117919922,
          -13.478001594543457,
          -2.543910026550293,
          -11.832146644592285,
          0.7272838354110718,
          -0.7673981785774231,
          1.6946278810501099,
          -0.384244441986084,
          -0.377388060092926,
          -10.770434379577637,
          16.172958374023438,
          16.525705337524414,
          -12.170780181884766,
          -7.221627712249756,
          -4.745199203491211,
          -1.123346209526062,
          7.47456693649292,
          -7.830413818359375,
          -5.938824653625488,
          -0.7147165536880493,
          -2.7785215377807617,
          -16.578542709350586,
          -16.578542709350586,
          -0.6770240664482117,
          -8.299234390258789,
          -12.806251525878906,
          12.179510116577148,
          -7.751584053039551,
          -1.41167414188385,
          -1.4117684364318848,
          -1.3793312311172485,
          1.0599397420883179,
          -7.298569679260254,
          -7.648169040679932,
          -8.069657325744629,
          -1.409239649772644,
          -7.719985008239746
         ],
         "xaxis": "x",
         "y": [
          -4.687646865844727,
          3.4114205837249756,
          -1.0566966533660889,
          -8.426891326904297,
          3.448422908782959,
          9.941669464111328,
          3.138822555541992,
          -4.200441360473633,
          6.807248115539551,
          -4.251527786254883,
          -9.92116641998291,
          1.404231071472168,
          -16.11664581298828,
          -16.11665916442871,
          8.890380859375,
          -4.533957481384277,
          -6.0664381980896,
          -6.951698303222656,
          -12.491375923156738,
          -0.44642025232315063,
          4.6847615242004395,
          11.657759666442871,
          -4.5384674072265625,
          4.778737545013428,
          4.845611572265625,
          4.060247898101807,
          4.820462703704834,
          4.820462703704834,
          -14.877788543701172,
          -14.686957359313965,
          5.164240837097168,
          3.7516019344329834,
          -1.9874547719955444,
          7.269932270050049,
          -7.65722131729126,
          -7.657046794891357,
          -3.979480504989624,
          -7.424062728881836,
          4.121162414550781,
          10.480189323425293,
          -15.146740913391113,
          -15.14682674407959,
          6.693021297454834,
          -14.835177421569824,
          3.1514503955841064,
          -0.9856851696968079,
          6.959120273590088,
          2.1240041255950928,
          0.25758594274520874,
          -15.96993637084961,
          -3.1265130043029785,
          -4.252888202667236,
          7.148606777191162,
          -3.5701639652252197,
          -4.03920316696167,
          -13.283795356750488,
          8.975482940673828,
          3.4652509689331055,
          -6.0679931640625,
          -0.13961182534694672,
          -4.032526969909668,
          -9.178370475769043,
          2.194124460220337,
          -8.795578002929688,
          -7.173124313354492,
          10.314887046813965,
          3.0724070072174072,
          11.182636260986328,
          -2.2522053718566895,
          2.315062999725342,
          -5.538726806640625,
          -5.52977180480957,
          6.2229180335998535,
          13.05418872833252,
          1.5192674398422241,
          2.5432076454162598,
          -10.955790519714355,
          -12.638487815856934,
          0.9061468839645386,
          -3.0025415420532227,
          -10.109265327453613,
          -18.254079818725586,
          -5.592391014099121,
          2.2714977264404297,
          7.0079240798950195,
          -3.8497188091278076,
          5.321943759918213,
          -1.5679829120635986,
          -10.935185432434082,
          -9.379819869995117,
          -9.379823684692383,
          9.02372932434082,
          15.354068756103516,
          -1.3862401247024536,
          -13.62356185913086,
          -13.62356185913086,
          -2.0860016345977783,
          11.07142162322998,
          3.2046360969543457,
          4.040635108947754,
          -2.3585331439971924,
          5.041529655456543,
          -4.3870062828063965,
          3.1396517753601074,
          5.477092742919922,
          -9.765780448913574,
          -9.32543659210205,
          0.2780844271183014,
          1.8963674306869507,
          -7.799323081970215,
          -7.799185276031494,
          -8.636314392089844,
          -10.155329704284668,
          -7.796637535095215,
          3.803039312362671,
          -2.6565418243408203,
          -12.232929229736328,
          -5.17872953414917,
          0.8595461845397949,
          0.46493974328041077,
          7.275649547576904,
          -12.459351539611816,
          -3.0759451389312744,
          0.0733790174126625,
          6.891462326049805,
          7.94893217086792,
          2.163682460784912,
          3.627985954284668,
          8.598030090332031,
          6.618202209472656,
          3.4162113666534424,
          4.7342424392700195,
          20.541664123535156,
          20.541664123535156,
          11.966925621032715,
          -12.467015266418457,
          8.64067268371582,
          14.96016788482666,
          -0.5129559636116028,
          11.809821128845215,
          -10.05146312713623,
          -4.119776248931885,
          9.459895133972168,
          -2.4213595390319824,
          -11.611624717712402,
          1.3147075176239014,
          -0.3565512001514435,
          -5.692364692687988,
          -4.636805534362793,
          -13.634726524353027,
          -13.634726524353027,
          -2.343454599380493,
          1.2479472160339355,
          -4.191115856170654,
          -1.793125867843628,
          -7.972164630889893,
          -1.3606390953063965,
          -3.124866247177124,
          8.964995384216309,
          -6.349748134613037,
          0.0671558529138565,
          4.299742698669434,
          -7.062639236450195,
          -2.300712823867798,
          6.697443962097168,
          -5.33910608291626,
          7.489875793457031,
          -0.857817530632019,
          6.087918281555176,
          -5.489129543304443,
          2.3320274353027344,
          -10.256007194519043,
          0.3637123107910156,
          7.811633586883545,
          -1.9478859901428223,
          10.876850128173828,
          1.2224740982055664,
          2.640181064605713,
          -2.9029152393341064,
          5.918076038360596,
          0.04397701844573021,
          -5.047630786895752,
          3.7946391105651855,
          -5.2003560066223145,
          3.336085081100464,
          8.063824653625488,
          8.063809394836426,
          -5.8317975997924805,
          3.2572898864746094,
          5.057532787322998,
          1.770735263824463,
          -8.826888084411621,
          2.4042599201202393,
          -14.04348087310791,
          4.596766471862793,
          -7.973695755004883,
          -6.330373287200928,
          -9.54710865020752,
          -8.986799240112305,
          6.7356157302856445,
          4.490608215332031,
          1.2829850912094116,
          -8.13651180267334,
          6.602100372314453,
          5.411077499389648,
          13.699834823608398,
          3.1626412868499756,
          -9.891986846923828,
          -2.3139820098876953,
          -2.31382155418396,
          3.945016384124756,
          -1.4176627397537231,
          -2.0516786575317383,
          -4.494162559509277,
          1.9236867427825928,
          6.881796360015869,
          -5.1833038330078125,
          -11.820613861083984,
          -9.05576229095459,
          -5.21736478805542,
          -10.42623519897461,
          4.394224643707275,
          10.831277847290039,
          -12.377930641174316,
          5.8112616539001465,
          5.296743392944336,
          8.840795516967773,
          6.13886833190918,
          -5.187558650970459,
          -0.8011770248413086,
          -3.9806244373321533,
          5.875859260559082,
          8.173922538757324,
          7.210226058959961,
          -16.256431579589844,
          -2.5240719318389893,
          9.374513626098633,
          -1.5903700590133667,
          -9.090628623962402,
          -4.744717597961426,
          0.768267035484314,
          -20.411014556884766,
          -1.8374385833740234,
          10.044544219970703,
          11.938404083251953,
          -0.9838199615478516,
          2.499871015548706,
          -0.8952211737632751,
          -0.15737856924533844,
          -16.794845581054688,
          -16.794837951660156,
          6.355164051055908,
          0.15539930760860443,
          12.848323822021484,
          2.360710620880127,
          5.1381049156188965,
          8.007126808166504,
          4.496976375579834,
          -1.8719062805175781,
          6.404048919677734,
          -4.632321834564209,
          -0.20025983452796936,
          10.113787651062012,
          1.430688738822937,
          -0.11498335748910904,
          3.9414641857147217,
          1.8885830640792847,
          1.888641595840454,
          0.48578959703445435,
          -5.31425142288208,
          -2.109689235687256,
          -10.586834907531738,
          -5.79474401473999,
          -12.78034496307373,
          -0.05571169778704643,
          12.447652816772461,
          -3.0859627723693848,
          -2.9816854000091553,
          -1.77926766872406,
          -3.0416839122772217,
          -5.451201915740967,
          -4.97211217880249,
          2.7128853797912598,
          -12.011590003967285,
          -12.01134967803955,
          0.6920499801635742,
          1.7568016052246094,
          5.713649749755859,
          3.266547203063965,
          12.173176765441895,
          4.125246047973633,
          5.95400857925415,
          1.109352469444275,
          -9.991055488586426,
          -9.991055488586426,
          -1.4863053560256958,
          -1.4588522911071777,
          1.3585923910140991,
          9.00686264038086,
          1.413321614265442,
          -0.022045593708753586,
          5.695127964019775,
          -8.439387321472168,
          12.743965148925781,
          0.17105111479759216,
          3.6811203956604004,
          -2.685025453567505,
          -1.7489519119262695,
          -1.7489808797836304,
          -1.1142932176589966,
          -7.691483497619629,
          8.036540031433105,
          -11.704078674316406,
          -11.704216003417969,
          5.9931864738464355,
          5.993016242980957,
          -2.6322436332702637,
          -6.78509521484375,
          -13.890567779541016,
          -5.399310111999512,
          -6.784034729003906,
          14.516387939453125,
          11.381420135498047,
          -2.823063611984253,
          -17.991273880004883,
          -17.991273880004883,
          13.59638500213623,
          4.545687675476074,
          -4.939598560333252,
          -9.529181480407715,
          9.561112403869629,
          6.843245983123779,
          -12.183913230895996,
          8.374025344848633,
          7.766413688659668,
          7.7664690017700195,
          -0.08031059056520462,
          2.322235584259033,
          2.711599826812744,
          -7.388253688812256,
          2.3344907760620117,
          11.098194122314453,
          5.4670538902282715,
          1.9511525630950928,
          9.795310974121094,
          6.814304828643799,
          -4.826249599456787,
          3.502586603164673,
          -2.5507688522338867,
          -12.709875106811523,
          -9.321918487548828,
          10.47741985321045,
          7.575427055358887,
          -3.893002510070801,
          11.428732872009277,
          1.732406735420227,
          -6.762381553649902,
          -5.029545307159424,
          7.80601692199707,
          14.349980354309082,
          8.450749397277832,
          -0.4120689928531647,
          2.1679587364196777,
          3.661076545715332,
          9.950886726379395,
          -5.802793502807617,
          4.331740379333496,
          -3.5770280361175537,
          -1.4470233917236328,
          -3.0315639972686768,
          -4.060220718383789,
          -5.456423759460449,
          -5.456423759460449,
          -3.4553983211517334,
          -5.188639163970947,
          10.096245765686035,
          -6.238941192626953,
          -8.034468650817871,
          2.824136257171631,
          4.634911060333252,
          -6.347449779510498,
          -1.6567951440811157,
          -0.48670855164527893,
          -11.792072296142578,
          -0.558168351650238,
          8.62357234954834,
          11.785039901733398,
          -2.9197945594787598,
          -11.471548080444336,
          -7.198054313659668,
          -6.4918904304504395,
          4.518790245056152,
          -3.944547653198242,
          -17.48493766784668,
          -4.797829627990723,
          -3.9775197505950928,
          -3.8446192741394043,
          -8.763617515563965,
          -4.355386257171631,
          -9.537237167358398,
          -9.535680770874023,
          2.874643325805664,
          9.171305656433105,
          -6.848660945892334,
          -8.451990127563477,
          3.1383585929870605,
          9.302519798278809,
          -2.110599994659424,
          5.400211811065674,
          -1.4677571058273315,
          -9.524081230163574,
          -7.325868606567383,
          1.6748847961425781,
          -6.8903093338012695,
          -6.868704795837402,
          -3.4131577014923096,
          -3.7923402786254883,
          -3.851309299468994,
          -7.2166972160339355,
          7.327966690063477,
          3.0924932956695557,
          -14.253143310546875,
          3.8004791736602783,
          5.917723655700684,
          14.38371467590332,
          1.3805781602859497,
          4.984442710876465,
          -14.768145561218262,
          -14.768145561218262,
          -9.802334785461426,
          8.61507511138916,
          -5.214800834655762,
          -7.049492359161377,
          0.5499253869056702,
          18.8621826171875,
          18.862260818481445,
          -1.3191577196121216,
          13.837789535522461,
          4.447239398956299,
          -5.069061279296875,
          9.163743019104004,
          10.37614917755127,
          10.673957824707031
         ],
         "yaxis": "y"
        },
        {
         "customdata": [
          [
           "  Super, polski premier składa kwiaty na grobach kolaborantów. Ale doczekaliśmy czasów."
          ],
          [
           "   Gdzie jest  . Brudziński jesteś kłamcą i marnym kutasem "
          ],
          [
           " Oprawa do Krzysia M. Ps Pinokio -\\n\\\" mogłeś być gangsterem a zostałeś 3 ligowym frajerem \\\"😀"
          ],
          [
           "  No to Skończmy kurwa z tym wersalem w j...ej szczujni"
          ],
          [
           "  Sprawdź chłopie w słowniku co oznacza słowo , którego używasz a potem się odzywaj."
          ],
          [
           "#Woronicza 17 poseł Halicki oburzony za Bolka.Naprawdè taki tępy czy tylko udaje idiotę?"
          ],
          [
           "   Bierze cie cie pod chuj a ty sie produkujesz"
          ],
          [
           "   Jak narazie to masz przywidzenia co nie zmienia faktu że cały czas jesteś idiotą."
          ],
          [
           " Główny powód to brak kasy, trzeba dać bogatym 500+,300+ i być bez godności i honoru"
          ],
          [
           "Nikt nigdy nie rozsiewał takiego smrodu jak "
          ],
          [
           " Koń też ma dużą głowę. Tylko wydaje mi się, że jest bardziej inteligentny niż Karczewski"
          ],
          [
           " Dzisiaj zajmujemy się WARiatem Krystyną ciekawe czy będzie płakał?"
          ],
          [
           " Tym w sejmie też? Banda hipokrytów i złodziei."
          ],
          [
           "  Koń by się uśmiał, TVN24 i TVN wolne media? Bardziej perfidnego łgarstwa nie słyszałem.. 🤔"
          ],
          [
           "    Koń by się uśmiał, TVN24 i TVN wolne media? Bardziej perfidnego łgarstwa nie słyszałem.. 🤔"
          ],
          [
           "  Z motłochem nie dyskutuję tylko daje bany. A Pani  gratuluję obrońcy."
          ],
          [
           " ale z kategoriami moim zdaniem przesadzają.Sponsor roku, serce, impreza ? Bez jaj"
          ],
          [
           " Równie dobrze można gola stracić :)"
          ],
          [
           " Chorwaci przerżną w końcówce dogrywki, wiadomo."
          ],
          [
           " Nasze dzieci będą zdegustwani, był taki PiS, taki  , historia populizmu i głupoty w latach 2015-2019, margines"
          ],
          [
           "Qrwa!! I niech mi nikt nie mówi, że czary to jakiś zabobon!! Chłopaki mają sztywne nogi!"
          ],
          [
           " NIECH JESZCZE DADZĄ LEKTORA I NA GŁÓWNA POSTAĆ MÓWIĄ NADZIEJA"
          ],
          [
           "   NIECH JESZCZE DADZĄ LEKTORA I NA GŁÓWNA POSTAĆ MÓWIĄ NADZIEJA"
          ],
          [
           " Nie no ludzie, żeby robić artykuł na temat jednego tweeta ?..."
          ],
          [
           " Usuń konto, wytrzeźwiej buduj od nowa"
          ],
          [
           "   Sekta, cha, cha, cha, obudź się z hipnozy, jesteś bolszewikiem"
          ],
          [
           " Tylko nie w dupę, to dla niektórych z nich byłaby przyjemność."
          ],
          [
           "  Widać chcą wiecej polskich mord gotujacych koninę"
          ],
          [
           " No to jak się przegrywa cały czas to lepiej przestać grać :)"
          ],
          [
           " Ban,ban i jeszcze raz ban! Co za prymitywne dno!"
          ],
          [
           "  Jasne, bo debile oglądający tvpis płaczą tylko na m jak miłość"
          ],
          [
           "Zdrady stanu to Donald Tusk dopuścił się już w 2010 r kiedy dodał Rosjanom śledztwo w sprawie katastrofy smoleńskiej."
          ],
          [
           "  Ty się oszuście i kłamco od nas odpierdol. My sobie damy radę bez twoich kłamstw"
          ],
          [
           "   odważne słowa jak na legioniste! 😂😂😂"
          ],
          [
           "   Krzyż celtycki w Irlandii debilu ma kompletnie inne znaczenie niż u neofaszystów."
          ],
          [
           " Coś w tym jest,bo ja też😁😁😁. I jeszcze bym dodał Dominisię W. której infantylizm mnie totalnie osłabia."
          ],
          [
           "  Gdzie oni znajdują takich dupków"
          ],
          [
           " Żal ci biedaku??? Gdyby nie Kaczyński to by je twoi przyjaciele z PO rozkradl"
          ],
          [
           "   Żal ci biedaku??? Gdyby nie Kaczyński to by je twoi przyjaciele z PO rozkradl"
          ],
          [
           "Sekta kurwa, jakaś niepojęta radość, każde konto pisdzielskie tylko o jednym"
          ],
          [
           " Jakiej pracy, ty już pajacu nie wiesz na czym się lansować. Sejm nie pracuje."
          ],
          [
           "   jutro walczycie ? Normalnie rycerze ! A gdzie byliście wcześniej ? A zapomniałem że nie o L chodziło"
          ],
          [
           " Ale to głupie, rdzennie głupie, bardziej głupie już być nie może"
          ],
          [
           " Już się boję. Postraszy mnie Pan kolegami narodowcami?"
          ],
          [
           "  Nazwisko tego babska😁😁😁😁. Bo Wczoraj był na MO😁😁😀"
          ],
          [
           " Zbiera się do kontrataku, dla swojego pryncypala pójdzie w bój, patrityczna dusza,  co nie  ?"
          ],
          [
           "   Tak to jest jak ktoś nie wie do którego lekarza iść najpierw."
          ],
          [
           "  Wasz świat? To się w nim zamknijcie i nie wystawiajcie nosa."
          ],
          [
           "  Przyjaciół to niech on sobie szuka za swoje prywatne pieniądze. I niech robi z siebie idiotę na własny rachunek."
          ],
          [
           " Ja przynajmniej mam profilowe i nie chowam się za awatarem. Ale bohaterów MW na to nie stać i w sumie nic w tym dziwnego."
          ],
          [
           " Czego się spodziewać po członku żydowskiego amerykańskiego lobby. Lata na kolanach przed żydami zrobiło swoje."
          ],
          [
           "   Czego się spodziewać po członku żydowskiego amerykańskiego lobby. Lata na kolanach przed żydami zrobiło swoj…"
          ],
          [
           " Ale ty jesteś żenujący. Dno metr mułu."
          ],
          [
           " znacznie bliżej jest mi muzułmanin  czy indus, niż katolicka, łysa swołocz ze wschodu europy, do tego rasistowska"
          ],
          [
           "   Low kick, kolano łokieć, blacha na czoło i stara leży"
          ],
          [
           " Wio endekdu, ścierwa, zdrajcy, szubienica"
          ],
          [
           "   Widzę, że dalej nie rozumiesz. No nic idę oglądać LM. Pozdro."
          ],
          [
           "  A co o włoskich faszystach i węgierskich nacjonalistach?"
          ],
          [
           "  Dojenie kasy przez rząd\\nKompromitacja Morawieckiego w Niemczech\\nKaczyński twórca państwa Polskiego w 2016 roku"
          ],
          [
           "   No to po co się zgodził na klauzule dopiero po zakończeniu przyszłego sezonu, a nie od razu ?"
          ],
          [
           " Jest to prawda. Ale MSZ powinien. On pewnie myślał, że jest w Pisowskiej Polsce i wszystkoi wolno.😀😀😀"
          ],
          [
           " Może ogłuszyły go te korki od szampanów, które strzelały po podpisaniu kontraktu Sadloka z Jagiellonią ?"
          ],
          [
           "Panie i panowie, totalna porażka  w miastach. \\nT O T A L N A \\nTo bardzo ważny znak."
          ],
          [
           "  Panie i panowie, totalna porażka  w miastach. \\nT O T A L N A \\nTo bardzo ważny znak."
          ],
          [
           "    ręce opadaj że takich rzeczy ludzie związani z futsalem nie wiedzą."
          ],
          [
           " Na wszystko masz odpowiedź, żyłeś w tych czasach?"
          ],
          [
           "  Mr. Czarnecki. To nie hipokryzja tylko zwykła ludzka przyzwoitość. Widać że niektórym obce takie  odruchy."
          ],
          [
           "  Maly murzyn, silny i zdrowy"
          ],
          [
           " Jeszcze was zjemy i wysramy"
          ],
          [
           " Wy narobiliscie 30miliardow dlugow za waszych rzadow #oddajciekase"
          ],
          [
           "   Wy narobiliscie 30miliardow dlugow za waszych rzadow #oddajciekase"
          ],
          [
           " Tak jak pisdzielstwo ośmiesza policjantów , to już, nikt, nigdy bardziej nie będzie"
          ],
          [
           " A kiedy przestanie wydawać mln na swoich ochroniarzy, tylko zacznie leczyć u psychiatry swoją manię prześladowczą?"
          ],
          [
           " Pierwszy priorytet zadowolić Jarkacza, drugi priorytet ssać kasę wszystkimi otworami,  mają rozdwojenie jaźni"
          ],
          [
           " Huj z wami dziennikarzami. Piłka nożna dla kibiców a nie pseudo dziennikarzy."
          ],
          [
           "  tylko nie Załuska.Nie potrzeba nam takich piłkarzy bez ambicji."
          ],
          [
           "Pensja, kasa, dojenie,  ,ssanie kasy, ruchanie w meskie dupy, zawsze za pis, trudny teren, ciezkie warunki"
          ],
          [
           " Polska to nie napis na dropsie, uuuu, niedobrze, uuuuuuu"
          ],
          [
           " raczej ty się powinieneś jebnąć ale nie wiem czy to pomoże"
          ],
          [
           " Jak narazie to sobie możecie kupę zrobić. Albo hurtowo dać dupy pedofilów w sutannach, których publicznie bronicie."
          ],
          [
           "Ale mam chujowy humor przez to, że nie zdałam i jestem na siebie zła"
          ],
          [
           "  A ty wieś kretynie CONTI jest Acta2 i czego dotyczy? Najpierw przeczytaj a potem się wypowiadaj."
          ],
          [
           "Beata #Mazurek w Sejmie na pytanie co myśli o pomyśle Kaczyńskiego o obniżkach wynagrodzeń: \\\"Ja nic nie myślę\\\". To słychać."
          ],
          [
           "  Beata #Mazurek w Sejmie na pytanie co myśli o pomyśle Kaczyńskiego o obniżkach wynagrodzeń: \\\"Ja nic nie myślę\\\". To słyc…"
          ],
          [
           " Kto mieczem wojuje od pochwy ginie "
          ],
          [
           "  Ale dlaczego głupi   tłumaczy to jeszcze głupszemu  ?"
          ],
          [
           "Nowe chodnikowe powiedzonko brzmi:\\n\\nPierdolisz jak Morawiecki, realy.\\n\\n  \\n\\nHybryda głupoty."
          ],
          [
           "  Nowe chodnikowe powiedzonko brzmi:\\n\\nPierdolisz jak Morawiecki, realy.\\n\\n  \\n\\nHybryda głupoty."
          ],
          [
           "jak ja się źle czulem jak byłem dzieckiem w  kościele to głow mala, szopka do kwadratu, nie mogłem tego wytrzymać"
          ],
          [
           "  Ty pajacu, zmień sobie herb na pusty łeb."
          ],
          [
           " Łukaszewicz, co Wy tam palicie?"
          ],
          [
           "   Leszku mój kochany, masz mózg wyprany"
          ],
          [
           " a ja współczuje zaślepienia.Wolę nie mieć Wolskiego niż robić kolejne długi "
          ],
          [
           "   Zawsze bedą afery bo zawsze będa tacy l którzy kradną  i tacy u wladzy których to kręci"
          ],
          [
           " zaraz będą pisać że Wisła szkoli kiboli żeby potrafili maczetą wymachiwać :)"
          ],
          [
           " Odstawiając narodowość na bok to ten skład jest przecież słabiutki."
          ],
          [
           " akurat Tobie bliżej do Karolaka bo w większości Cię wycięli 😂    "
          ],
          [
           " To się nazywa uzależnienie xD"
          ],
          [
           " Info z ostatniej chwili barwy pogoni skrojone przez bandytów Z Krakowa.  Pomimo zakazu Wisła rządzi"
          ],
          [
           " Co ty żresz, że ci tak pierdolnęło?"
          ],
          [
           "  Trudno być pewnym, gdy stoperzy mogą zagrać tylko lagę do przodu, bo środka nie mamy."
          ],
          [
           "   No właśnie, nie było i dlatego patologia została stosownie potraktowana."
          ],
          [
           " skoro jest dno dna to może skupmy się na tych od których coś wymagamy"
          ],
          [
           "   Tylko ty masz problem z rzecznikiem, więc zastanów się w kim tak naprawdę jest problem? 🤔"
          ],
          [
           "Wassermannówna kłamie, mówiąc, że „przyszła do polityki”. Ona przyjechała na trumnie ojca."
          ],
          [
           "  Wassermannówna kłamie, mówiąc, że „przyszła do polityki”. Ona przyjechała na trumnie ojca."
          ],
          [
           " Już dwa lata temu powinni wygrac Euro."
          ],
          [
           "jak Patryk Jaki wygra wybory w Warszawie oczyści stolicę z byłych UBECKICH funkcjonariuszy ! #woronicza17"
          ],
          [
           "  jak Patryk Jaki wygra wybory w Warszawie oczyści stolicę z byłych UBECKICH funkcjonariuszy ! #woronicza17"
          ],
          [
           "Szkoda, że przez wymysły Mendesa taki Ruben Neves się marnuje w Wolverhampton."
          ],
          [
           " Kolar niestety ten sam poziom. Chyba trzeba będzie liczyć na skuteczność Boguskiego i Małeckiego..."
          ],
          [
           " Przecież to legionista to komu ma życzyć mistrza.Nie wiedziałeś ?"
          ],
          [
           " Krzyż przeciw prezydenturze, krzyż obłędu"
          ],
          [
           " Jaki hejt.Hejt to jest na Tuska, Komorowskiego, przecież to nie Polacy, śmierć wrogom ojczyzny. Obudź się"
          ],
          [
           "Ale przecież #Polexit jest dobry. Założycie koszulki z orłem i będziecie żryć ziemniaki i wungiel 😇"
          ],
          [
           "  Ale przecież #Polexit jest dobry. Założycie koszulki z orłem i będziecie żryć ziemniaki i wungiel 😇"
          ],
          [
           "  Bo sama jest niepełnosprawna... Umysłowo.😁😁"
          ],
          [
           " Wy się zjednoczyliście z faszystami z połowy Europy. Kpromitacja level hard."
          ],
          [
           "  Mam rozumieć, że to mapa nasycenia krajów zboczeńcami w sutannach."
          ],
          [
           "  Polskę to kompromitują tacy jak ty. Oszołomie."
          ],
          [
           " 😁😁😁😁😁😁😁😁  teraz to mnie Pani ubawiła tym paskiem. A widziała Pani swoją szyję?"
          ],
          [
           "  Pajacu, jak podajesz przepis to masz go znać na pamięć. Inaczej robią z siebie idiotę tak jak teraz."
          ],
          [
           "   Ty się chyba debilu nie słyszysz, ty tekstów to się po nocach uczysz czy masz słuchawkę w uchu?"
          ],
          [
           "   Szczekać to mogą tacy jak ty #delegalizacja"
          ],
          [
           "  Mówisz że ONR lize doope😂"
          ],
          [
           "  A kiedy zaczniecie zbiórki na krówki i świnki?"
          ],
          [
           "  Plujecie na Polskę to my będziemy pluć na was."
          ],
          [
           "    Plujecie na Polskę to my będziemy pluć na was."
          ],
          [
           " Cie zaraz piznę, jak nie zaczniesz myśleć"
          ],
          [
           " Komentarz raz a dwa słysząc trybuny zastanawiam się czy ten kto wymyślił mecze w pn obejrzał choć jeden"
          ],
          [
           " A Ty nigdy nie robisz dwóch rzeczy jednocześnie? Np. idziesz i żujesz gumę."
          ],
          [
           "  Ty kurwa  nie pierdol w tv bo sie żygać chce"
          ],
          [
           " problemem jest to że jak sobie coś ubzdurasz to myślisz że zawsze masz racje bo jesteś wszechwiedzący "
          ],
          [
           " A pisdzielstwo, szczury, gady, plazy popromienne, azbestowe?"
          ],
          [
           "  jak Zarycki jest Twoim informatorem to te info można w kiblu spuścić"
          ],
          [
           "  Najpierw kasza, później przyjemności, a kiedyś wolność, ale wy klękacie bez obawy zostanie i tak bez was"
          ],
          [
           "   No oboje Państwo wyglądacie jak rodzeństwo. I tacy żółci oboje."
          ],
          [
           " No kurwa  ty masz nie rządzić, madz nie rządzić"
          ],
          [
           " personalnie do tej Pani, przyjrzyj się sobie   ,  "
          ],
          [
           "Czy naprawdę trzeba publicznie przyznawać się do nieprzygotowania do meczu, drodzy panowie komentatorzy? (kwestia Sheridana)"
          ],
          [
           "Na tt te beznadziejne gadki o niczym, to już wolę sam ze sobą"
          ],
          [
           " Pamiętaj, ze ja daleko do ciebie nie mam 😂"
          ],
          [
           " Jest tej chołoty tutaj całkiem sporo. Napewno się udzielają."
          ],
          [
           " do domu bo ci rózga dupę  ty mały  "
          ],
          [
           "Teraz zarykam nos i mowie \\\"cała polska z was sie śmieje, komuniści i zlodzieje,"
          ],
          [
           " Pana zdanie nie interesuje Polaków ❗\\nWypchaj się Pan niemiecką, śmierdzącą onucą ❗"
          ],
          [
           "   Pana zdanie nie interesuje Polaków ❗\\nWypchaj się Pan niemiecką, śmierdzącą onucą ❗"
          ],
          [
           " Badziewny zespół, a i tak Anglicy byli o krok od straty punktów :)"
          ],
          [
           " nawet pasy to dla was za duże wyzwanie co widać po twoim profilowym.Mistrzowie opraw."
          ],
          [
           " Haha  a ilu ty zapraszasz do studia co pierd...takie głupoty..."
          ],
          [
           "   Haha  a ilu ty zapraszasz do studia co pierd...takie głupoty..."
          ],
          [
           " Ale za to wystąpił równie błyskotliwy,inteligentny, merytoryczny,bystry poseł Kieeerwiiinski!!!"
          ],
          [
           " Ok boli, boli. Czarne katabasy, mordercy irlandzkich kobiet i sierot do kruchty i pokutować do końca życia za swoje występki."
          ],
          [
           " Niby sami świnie, a nic nie wiedzą"
          ],
          [
           " tego się niespodziewałem po Tobie... Zawiodłeś nas :D "
          ]
         ],
         "hovertemplate": "label=1<br>x=%{x}<br>y=%{y}<br>text=%{customdata[0]}<extra></extra>",
         "legendgroup": "1",
         "marker": {
          "color": "#EF553B",
          "symbol": "circle"
         },
         "mode": "markers",
         "name": "1",
         "orientation": "v",
         "showlegend": true,
         "type": "scatter",
         "x": [
          1.0644090175628662,
          3.257615327835083,
          -14.448748588562012,
          -3.1048080921173096,
          3.1471948623657227,
          -1.0579320192337036,
          4.813312530517578,
          6.747853755950928,
          -0.8624832034111023,
          9.987656593322754,
          3.76957631111145,
          8.708742141723633,
          -5.578770637512207,
          -7.247500419616699,
          -7.247628211975098,
          7.245769500732422,
          6.796919822692871,
          8.580072402954102,
          -9.142422676086426,
          -1.9067115783691406,
          0.8318371176719666,
          -19.083282470703125,
          -19.083282470703125,
          5.609185218811035,
          -6.749940872192383,
          -6.772403717041016,
          1.949579119682312,
          0.35410282015800476,
          7.521011829376221,
          -11.856987953186035,
          -2.6166820526123047,
          -8.951239585876465,
          -2.85286283493042,
          -0.3107847571372986,
          2.221266031265259,
          0.5378835201263428,
          -2.3180341720581055,
          -4.823117256164551,
          -4.823117256164551,
          -8.119826316833496,
          5.2589111328125,
          -0.8074826002120972,
          10.460297584533691,
          13.542278289794922,
          2.554748058319092,
          -4.243535995483398,
          9.089712142944336,
          -1.5495762825012207,
          -3.5151662826538086,
          0.7702932953834534,
          0.41296184062957764,
          0.4184618890285492,
          4.333182334899902,
          3.290027379989624,
          -1.0431783199310303,
          -6.628114223480225,
          2.2264761924743652,
          -13.729005813598633,
          -9.078958511352539,
          -7.5162153244018555,
          3.85209584236145,
          -9.71375846862793,
          -15.88271713256836,
          -15.882962226867676,
          0.9854140281677246,
          6.236826419830322,
          9.603531837463379,
          -1.910703420639038,
          -0.7864800691604614,
          -16.474945068359375,
          -16.474945068359375,
          9.376750946044922,
          2.45119309425354,
          1.9137452840805054,
          -16.674911499023438,
          5.536847114562988,
          -4.587601661682129,
          -4.008978843688965,
          9.255406379699707,
          -0.9922510385513306,
          0.44383251667022705,
          3.085442066192627,
          -12.362446784973145,
          -12.370882034301758,
          -15.012868881225586,
          3.391089916229248,
          -16.675748825073242,
          -16.675748825073242,
          3.9396309852600098,
          5.287516117095947,
          -8.388402938842773,
          8.092057228088379,
          3.323575973510742,
          -2.6009862422943115,
          4.7870683670043945,
          14.455660820007324,
          -0.5226852893829346,
          9.386617660522461,
          -11.151277542114258,
          3.006809711456299,
          4.155252456665039,
          7.142765045166016,
          5.137941360473633,
          5.236603260040283,
          -4.187171936035156,
          -4.18717098236084,
          7.593836784362793,
          -10.873684883117676,
          -10.873684883117676,
          -3.376572847366333,
          7.8284382820129395,
          2.7440598011016846,
          -1.6433199644088745,
          -0.11677161604166031,
          -1.7222204208374023,
          -1.722130537033081,
          4.410213947296143,
          -6.5883870124816895,
          -10.131887435913086,
          9.07203197479248,
          0.06999295204877853,
          4.693087577819824,
          4.865139961242676,
          9.0661039352417,
          -0.920903205871582,
          -3.8454082012176514,
          -12.209968566894531,
          -12.209968566894531,
          11.99766731262207,
          5.775557518005371,
          5.1538262367248535,
          5.576744556427002,
          6.531579971313477,
          -4.756457805633545,
          2.312045097351074,
          -0.2234966903924942,
          -2.965806722640991,
          5.6791558265686035,
          0.9287262558937073,
          2.504467725753784,
          -1.67994225025177,
          1.438197135925293,
          13.682778358459473,
          2.2289791107177734,
          -5.237636566162109,
          14.245429992675781,
          14.245314598083496,
          -13.582956314086914,
          0.6814059019088745,
          3.606369972229004,
          3.606369972229004,
          -1.1609070301055908,
          -5.1898579597473145,
          0.29391130805015564,
          12.438334465026855
         ],
         "xaxis": "x",
         "y": [
          -13.524801254272461,
          12.058040618896484,
          -7.182892799377441,
          7.325144290924072,
          13.447721481323242,
          -8.224319458007812,
          15.911823272705078,
          9.225516319274902,
          -4.533669471740723,
          2.85392689704895,
          0.49680373072624207,
          -5.704005241394043,
          -12.740845680236816,
          -14.732748985290527,
          -14.73210334777832,
          6.1411333084106445,
          -6.017749309539795,
          -4.379386901855469,
          -3.01651668548584,
          -4.537190914154053,
          -0.35610899329185486,
          4.934895992279053,
          4.934895992279053,
          -6.67617654800415,
          -10.452469825744629,
          -8.53934097290039,
          1.3617334365844727,
          -16.803802490234375,
          8.705516815185547,
          9.902724266052246,
          3.100234270095825,
          -6.99476957321167,
          0.44613412022590637,
          -10.897968292236328,
          -0.11647269874811172,
          0.9415268301963806,
          -1.7364462614059448,
          17.203588485717773,
          17.203588485717773,
          15.142119407653809,
          12.336767196655273,
          10.396824836730957,
          4.549828052520752,
          -9.518343925476074,
          2.981569528579712,
          -9.150240898132324,
          3.7510337829589844,
          0.33327266573905945,
          8.976763725280762,
          2.773369312286377,
          -15.527947425842285,
          -15.505574226379395,
          12.770051002502441,
          0.23428870737552643,
          -13.71515941619873,
          -13.85566520690918,
          5.673086166381836,
          2.0548439025878906,
          -7.400328636169434,
          8.386432647705078,
          6.682162284851074,
          0.14232487976551056,
          4.3051652908325195,
          4.305243015289307,
          -0.9516770243644714,
          11.800065994262695,
          4.904151916503906,
          -5.277381420135498,
          -3.4353883266448975,
          10.024192810058594,
          10.024192810058594,
          2.6440141201019287,
          -9.94722843170166,
          -8.673125267028809,
          1.133002519607544,
          -4.001545429229736,
          -10.887258529663086,
          5.3174567222595215,
          6.15109395980835,
          -0.9307590126991272,
          4.231965065002441,
          13.352933883666992,
          2.068307876586914,
          2.007230281829834,
          -8.293272018432617,
          9.584424018859863,
          -11.381683349609375,
          -11.381683349609375,
          2.2870607376098633,
          -18.34253692626953,
          6.1072492599487305,
          11.992327690124512,
          1.3342021703720093,
          -1.7797287702560425,
          -2.761815309524536,
          5.269896984100342,
          2.4604172706604004,
          13.52402400970459,
          -9.450935363769531,
          15.875099182128906,
          -2.6812453269958496,
          2.175448417663574,
          0.5205498337745667,
          12.080724716186523,
          -15.612810134887695,
          -15.613001823425293,
          -10.844757080078125,
          -7.347485065460205,
          -7.347485065460205,
          -5.791110038757324,
          -2.3117871284484863,
          10.114521026611328,
          -10.755081176757812,
          -10.198671340942383,
          -2.999561071395874,
          -2.9994189739227295,
          7.036614894866943,
          -12.001800537109375,
          4.511081695556641,
          16.165428161621094,
          0.3455020785331726,
          10.531185150146484,
          13.028474807739258,
          16.1461238861084,
          18.63045883178711,
          1.684199571609497,
          13.884064674377441,
          13.884064674377441,
          0.9323115348815918,
          -8.343295097351074,
          13.367958068847656,
          14.865791320800781,
          9.586315155029297,
          -11.448195457458496,
          7.509414196014404,
          -3.770611524581909,
          -0.7609992623329163,
          13.97579288482666,
          -6.08872652053833,
          -6.0647292137146,
          5.09165620803833,
          4.998462200164795,
          -2.175079822540283,
          17.04379653930664,
          -12.199555397033691,
          -11.213821411132812,
          -11.213943481445312,
          -0.14989465475082397,
          2.37200665473938,
          16.26932144165039,
          16.26932144165039,
          -8.377564430236816,
          -10.054224967956543,
          16.09955406188965,
          -9.706941604614258
         ],
         "yaxis": "y"
        }
       ],
       "layout": {
        "legend": {
         "title": {
          "text": "label"
         },
         "tracegroupgap": 0
        },
        "template": {
         "data": {
          "bar": [
           {
            "error_x": {
             "color": "#2a3f5f"
            },
            "error_y": {
             "color": "#2a3f5f"
            },
            "marker": {
             "line": {
              "color": "#E5ECF6",
              "width": 0.5
             },
             "pattern": {
              "fillmode": "overlay",
              "size": 10,
              "solidity": 0.2
             }
            },
            "type": "bar"
           }
          ],
          "barpolar": [
           {
            "marker": {
             "line": {
              "color": "#E5ECF6",
              "width": 0.5
             },
             "pattern": {
              "fillmode": "overlay",
              "size": 10,
              "solidity": 0.2
             }
            },
            "type": "barpolar"
           }
          ],
          "carpet": [
           {
            "aaxis": {
             "endlinecolor": "#2a3f5f",
             "gridcolor": "white",
             "linecolor": "white",
             "minorgridcolor": "white",
             "startlinecolor": "#2a3f5f"
            },
            "baxis": {
             "endlinecolor": "#2a3f5f",
             "gridcolor": "white",
             "linecolor": "white",
             "minorgridcolor": "white",
             "startlinecolor": "#2a3f5f"
            },
            "type": "carpet"
           }
          ],
          "choropleth": [
           {
            "colorbar": {
             "outlinewidth": 0,
             "ticks": ""
            },
            "type": "choropleth"
           }
          ],
          "contour": [
           {
            "colorbar": {
             "outlinewidth": 0,
             "ticks": ""
            },
            "colorscale": [
             [
              0,
              "#0d0887"
             ],
             [
              0.1111111111111111,
              "#46039f"
             ],
             [
              0.2222222222222222,
              "#7201a8"
             ],
             [
              0.3333333333333333,
              "#9c179e"
             ],
             [
              0.4444444444444444,
              "#bd3786"
             ],
             [
              0.5555555555555556,
              "#d8576b"
             ],
             [
              0.6666666666666666,
              "#ed7953"
             ],
             [
              0.7777777777777778,
              "#fb9f3a"
             ],
             [
              0.8888888888888888,
              "#fdca26"
             ],
             [
              1,
              "#f0f921"
             ]
            ],
            "type": "contour"
           }
          ],
          "contourcarpet": [
           {
            "colorbar": {
             "outlinewidth": 0,
             "ticks": ""
            },
            "type": "contourcarpet"
           }
          ],
          "heatmap": [
           {
            "colorbar": {
             "outlinewidth": 0,
             "ticks": ""
            },
            "colorscale": [
             [
              0,
              "#0d0887"
             ],
             [
              0.1111111111111111,
              "#46039f"
             ],
             [
              0.2222222222222222,
              "#7201a8"
             ],
             [
              0.3333333333333333,
              "#9c179e"
             ],
             [
              0.4444444444444444,
              "#bd3786"
             ],
             [
              0.5555555555555556,
              "#d8576b"
             ],
             [
              0.6666666666666666,
              "#ed7953"
             ],
             [
              0.7777777777777778,
              "#fb9f3a"
             ],
             [
              0.8888888888888888,
              "#fdca26"
             ],
             [
              1,
              "#f0f921"
             ]
            ],
            "type": "heatmap"
           }
          ],
          "heatmapgl": [
           {
            "colorbar": {
             "outlinewidth": 0,
             "ticks": ""
            },
            "colorscale": [
             [
              0,
              "#0d0887"
             ],
             [
              0.1111111111111111,
              "#46039f"
             ],
             [
              0.2222222222222222,
              "#7201a8"
             ],
             [
              0.3333333333333333,
              "#9c179e"
             ],
             [
              0.4444444444444444,
              "#bd3786"
             ],
             [
              0.5555555555555556,
              "#d8576b"
             ],
             [
              0.6666666666666666,
              "#ed7953"
             ],
             [
              0.7777777777777778,
              "#fb9f3a"
             ],
             [
              0.8888888888888888,
              "#fdca26"
             ],
             [
              1,
              "#f0f921"
             ]
            ],
            "type": "heatmapgl"
           }
          ],
          "histogram": [
           {
            "marker": {
             "pattern": {
              "fillmode": "overlay",
              "size": 10,
              "solidity": 0.2
             }
            },
            "type": "histogram"
           }
          ],
          "histogram2d": [
           {
            "colorbar": {
             "outlinewidth": 0,
             "ticks": ""
            },
            "colorscale": [
             [
              0,
              "#0d0887"
             ],
             [
              0.1111111111111111,
              "#46039f"
             ],
             [
              0.2222222222222222,
              "#7201a8"
             ],
             [
              0.3333333333333333,
              "#9c179e"
             ],
             [
              0.4444444444444444,
              "#bd3786"
             ],
             [
              0.5555555555555556,
              "#d8576b"
             ],
             [
              0.6666666666666666,
              "#ed7953"
             ],
             [
              0.7777777777777778,
              "#fb9f3a"
             ],
             [
              0.8888888888888888,
              "#fdca26"
             ],
             [
              1,
              "#f0f921"
             ]
            ],
            "type": "histogram2d"
           }
          ],
          "histogram2dcontour": [
           {
            "colorbar": {
             "outlinewidth": 0,
             "ticks": ""
            },
            "colorscale": [
             [
              0,
              "#0d0887"
             ],
             [
              0.1111111111111111,
              "#46039f"
             ],
             [
              0.2222222222222222,
              "#7201a8"
             ],
             [
              0.3333333333333333,
              "#9c179e"
             ],
             [
              0.4444444444444444,
              "#bd3786"
             ],
             [
              0.5555555555555556,
              "#d8576b"
             ],
             [
              0.6666666666666666,
              "#ed7953"
             ],
             [
              0.7777777777777778,
              "#fb9f3a"
             ],
             [
              0.8888888888888888,
              "#fdca26"
             ],
             [
              1,
              "#f0f921"
             ]
            ],
            "type": "histogram2dcontour"
           }
          ],
          "mesh3d": [
           {
            "colorbar": {
             "outlinewidth": 0,
             "ticks": ""
            },
            "type": "mesh3d"
           }
          ],
          "parcoords": [
           {
            "line": {
             "colorbar": {
              "outlinewidth": 0,
              "ticks": ""
             }
            },
            "type": "parcoords"
           }
          ],
          "pie": [
           {
            "automargin": true,
            "type": "pie"
           }
          ],
          "scatter": [
           {
            "fillpattern": {
             "fillmode": "overlay",
             "size": 10,
             "solidity": 0.2
            },
            "type": "scatter"
           }
          ],
          "scatter3d": [
           {
            "line": {
             "colorbar": {
              "outlinewidth": 0,
              "ticks": ""
             }
            },
            "marker": {
             "colorbar": {
              "outlinewidth": 0,
              "ticks": ""
             }
            },
            "type": "scatter3d"
           }
          ],
          "scattercarpet": [
           {
            "marker": {
             "colorbar": {
              "outlinewidth": 0,
              "ticks": ""
             }
            },
            "type": "scattercarpet"
           }
          ],
          "scattergeo": [
           {
            "marker": {
             "colorbar": {
              "outlinewidth": 0,
              "ticks": ""
             }
            },
            "type": "scattergeo"
           }
          ],
          "scattergl": [
           {
            "marker": {
             "colorbar": {
              "outlinewidth": 0,
              "ticks": ""
             }
            },
            "type": "scattergl"
           }
          ],
          "scattermapbox": [
           {
            "marker": {
             "colorbar": {
              "outlinewidth": 0,
              "ticks": ""
             }
            },
            "type": "scattermapbox"
           }
          ],
          "scatterpolar": [
           {
            "marker": {
             "colorbar": {
              "outlinewidth": 0,
              "ticks": ""
             }
            },
            "type": "scatterpolar"
           }
          ],
          "scatterpolargl": [
           {
            "marker": {
             "colorbar": {
              "outlinewidth": 0,
              "ticks": ""
             }
            },
            "type": "scatterpolargl"
           }
          ],
          "scatterternary": [
           {
            "marker": {
             "colorbar": {
              "outlinewidth": 0,
              "ticks": ""
             }
            },
            "type": "scatterternary"
           }
          ],
          "surface": [
           {
            "colorbar": {
             "outlinewidth": 0,
             "ticks": ""
            },
            "colorscale": [
             [
              0,
              "#0d0887"
             ],
             [
              0.1111111111111111,
              "#46039f"
             ],
             [
              0.2222222222222222,
              "#7201a8"
             ],
             [
              0.3333333333333333,
              "#9c179e"
             ],
             [
              0.4444444444444444,
              "#bd3786"
             ],
             [
              0.5555555555555556,
              "#d8576b"
             ],
             [
              0.6666666666666666,
              "#ed7953"
             ],
             [
              0.7777777777777778,
              "#fb9f3a"
             ],
             [
              0.8888888888888888,
              "#fdca26"
             ],
             [
              1,
              "#f0f921"
             ]
            ],
            "type": "surface"
           }
          ],
          "table": [
           {
            "cells": {
             "fill": {
              "color": "#EBF0F8"
             },
             "line": {
              "color": "white"
             }
            },
            "header": {
             "fill": {
              "color": "#C8D4E3"
             },
             "line": {
              "color": "white"
             }
            },
            "type": "table"
           }
          ]
         },
         "layout": {
          "annotationdefaults": {
           "arrowcolor": "#2a3f5f",
           "arrowhead": 0,
           "arrowwidth": 1
          },
          "autotypenumbers": "strict",
          "coloraxis": {
           "colorbar": {
            "outlinewidth": 0,
            "ticks": ""
           }
          },
          "colorscale": {
           "diverging": [
            [
             0,
             "#8e0152"
            ],
            [
             0.1,
             "#c51b7d"
            ],
            [
             0.2,
             "#de77ae"
            ],
            [
             0.3,
             "#f1b6da"
            ],
            [
             0.4,
             "#fde0ef"
            ],
            [
             0.5,
             "#f7f7f7"
            ],
            [
             0.6,
             "#e6f5d0"
            ],
            [
             0.7,
             "#b8e186"
            ],
            [
             0.8,
             "#7fbc41"
            ],
            [
             0.9,
             "#4d9221"
            ],
            [
             1,
             "#276419"
            ]
           ],
           "sequential": [
            [
             0,
             "#0d0887"
            ],
            [
             0.1111111111111111,
             "#46039f"
            ],
            [
             0.2222222222222222,
             "#7201a8"
            ],
            [
             0.3333333333333333,
             "#9c179e"
            ],
            [
             0.4444444444444444,
             "#bd3786"
            ],
            [
             0.5555555555555556,
             "#d8576b"
            ],
            [
             0.6666666666666666,
             "#ed7953"
            ],
            [
             0.7777777777777778,
             "#fb9f3a"
            ],
            [
             0.8888888888888888,
             "#fdca26"
            ],
            [
             1,
             "#f0f921"
            ]
           ],
           "sequentialminus": [
            [
             0,
             "#0d0887"
            ],
            [
             0.1111111111111111,
             "#46039f"
            ],
            [
             0.2222222222222222,
             "#7201a8"
            ],
            [
             0.3333333333333333,
             "#9c179e"
            ],
            [
             0.4444444444444444,
             "#bd3786"
            ],
            [
             0.5555555555555556,
             "#d8576b"
            ],
            [
             0.6666666666666666,
             "#ed7953"
            ],
            [
             0.7777777777777778,
             "#fb9f3a"
            ],
            [
             0.8888888888888888,
             "#fdca26"
            ],
            [
             1,
             "#f0f921"
            ]
           ]
          },
          "colorway": [
           "#636efa",
           "#EF553B",
           "#00cc96",
           "#ab63fa",
           "#FFA15A",
           "#19d3f3",
           "#FF6692",
           "#B6E880",
           "#FF97FF",
           "#FECB52"
          ],
          "font": {
           "color": "#2a3f5f"
          },
          "geo": {
           "bgcolor": "white",
           "lakecolor": "white",
           "landcolor": "#E5ECF6",
           "showlakes": true,
           "showland": true,
           "subunitcolor": "white"
          },
          "hoverlabel": {
           "align": "left"
          },
          "hovermode": "closest",
          "mapbox": {
           "style": "light"
          },
          "paper_bgcolor": "white",
          "plot_bgcolor": "#E5ECF6",
          "polar": {
           "angularaxis": {
            "gridcolor": "white",
            "linecolor": "white",
            "ticks": ""
           },
           "bgcolor": "#E5ECF6",
           "radialaxis": {
            "gridcolor": "white",
            "linecolor": "white",
            "ticks": ""
           }
          },
          "scene": {
           "xaxis": {
            "backgroundcolor": "#E5ECF6",
            "gridcolor": "white",
            "gridwidth": 2,
            "linecolor": "white",
            "showbackground": true,
            "ticks": "",
            "zerolinecolor": "white"
           },
           "yaxis": {
            "backgroundcolor": "#E5ECF6",
            "gridcolor": "white",
            "gridwidth": 2,
            "linecolor": "white",
            "showbackground": true,
            "ticks": "",
            "zerolinecolor": "white"
           },
           "zaxis": {
            "backgroundcolor": "#E5ECF6",
            "gridcolor": "white",
            "gridwidth": 2,
            "linecolor": "white",
            "showbackground": true,
            "ticks": "",
            "zerolinecolor": "white"
           }
          },
          "shapedefaults": {
           "line": {
            "color": "#2a3f5f"
           }
          },
          "ternary": {
           "aaxis": {
            "gridcolor": "white",
            "linecolor": "white",
            "ticks": ""
           },
           "baxis": {
            "gridcolor": "white",
            "linecolor": "white",
            "ticks": ""
           },
           "bgcolor": "#E5ECF6",
           "caxis": {
            "gridcolor": "white",
            "linecolor": "white",
            "ticks": ""
           }
          },
          "title": {
           "x": 0.05
          },
          "xaxis": {
           "automargin": true,
           "gridcolor": "white",
           "linecolor": "white",
           "ticks": "",
           "title": {
            "standoff": 15
           },
           "zerolinecolor": "white",
           "zerolinewidth": 2
          },
          "yaxis": {
           "automargin": true,
           "gridcolor": "white",
           "linecolor": "white",
           "ticks": "",
           "title": {
            "standoff": 15
           },
           "zerolinecolor": "white",
           "zerolinewidth": 2
          }
         }
        },
        "title": {
         "text": "TSNE dla FastText"
        },
        "xaxis": {
         "anchor": "y",
         "domain": [
          0,
          1
         ],
         "title": {
          "text": "x"
         }
        },
        "yaxis": {
         "anchor": "x",
         "domain": [
          0,
          1
         ],
         "title": {
          "text": "y"
         }
        }
       }
      }
     },
     "metadata": {},
     "output_type": "display_data"
    }
   ],
   "source": [
    "\n",
    "X = np.array(list(df_for_analysis['embedding']))\n",
    "\n",
    "scaler = StandardScaler()\n",
    "X_standardized = scaler.fit_transform(X)\n",
    "\n",
    "\n",
    "X_embedded = TSNE(n_components=2, random_state=42).fit_transform(X_standardized)\n",
    "\n",
    "\n",
    "df_tsne = pd.DataFrame(X_embedded, columns=['x', 'y'])\n",
    "df_tsne['label'] = df_for_analysis['LABEL']\n",
    "df_tsne['text'] = df_for_analysis['text']\n",
    "\n",
    "fig = px.scatter(df_tsne, x='x', y='y', color='label', hover_data=['text'], title='TSNE dla FastText')\n",
    "fig.show()"
   ]
  },
  {
   "cell_type": "code",
   "execution_count": 29,
   "metadata": {},
   "outputs": [
    {
     "data": {
      "application/vnd.plotly.v1+json": {
       "config": {
        "plotlyServerURL": "https://plot.ly"
       },
       "data": [
        {
         "customdata": [
          [
           "Dla mnie faworytem do tytułu będzie Cracovia. Zobaczymy, czy typ się sprawdzi."
          ],
          [
           "  Brawo ty Daria kibic ma być na dobre i złe"
          ],
          [
           "  Super, polski premier składa kwiaty na grobach kolaborantów. Ale doczekaliśmy czasów."
          ],
          [
           "  Musi. Innej drogi nie mamy."
          ],
          [
           "Odrzut natychmiastowy, kwaśna mina, mam problem"
          ],
          [
           "Jaki on był fajny xdd pamiętam, że spóźniłam się na jego pierwsze zajęcia i to sporo i za karę kazał mi usiąść w pierwszej ławce XD"
          ],
          [
           " No nie ma u nas szczęścia 😉"
          ],
          [
           " Dawno kogoś tak wrednego nie widziałam xd"
          ],
          [
           "  Zaległości były, ale ważne czy były wezwania do zapłaty z których się klub nie wywiązał."
          ],
          [
           "   Gdzie jest  . Brudziński jesteś kłamcą i marnym kutasem "
          ],
          [
           "   no mam nadzieje !!:)"
          ],
          [
           "  Może gustował w starszych paniach ;-)"
          ],
          [
           " Zostawiłam tam 3 lata temu \\\"Notatki na mankietach\\\". Muszę się wrócić."
          ],
          [
           " Oprawa do Krzysia M. Ps Pinokio -\\n\\\" mogłeś być gangsterem a zostałeś 3 ligowym frajerem \\\"😀"
          ],
          [
           "  Znowu będzie komunikat o polskich piratach drogowych w Słowacji."
          ],
          [
           " Mówi człowiek, który chciał nałożyć sankcje na Polskę. Gratulacje. #Niepodlegla #11lisopada"
          ],
          [
           "   Mówi człowiek, który chciał nałożyć sankcje na Polskę. Gratulacje. #Niepodlegla #11lisopada"
          ],
          [
           "  o jakim zachowaniu \\\"fer\\\" mówisz skoro ukrywał się z tym że podpisał kontrakt z Legią ? Możesz rozwinąć ?"
          ],
          [
           "  Joanno! Po raz pierwszy się z panią zgadzam.😁😁😁😁😁"
          ],
          [
           "Monster block, monster block, monster block... 😁"
          ],
          [
           " Czyżby Madryt brał przykład z Warszawy?"
          ],
          [
           "  No to Skończmy kurwa z tym wersalem w j...ej szczujni"
          ],
          [
           " Nie wiem, najczęściej grają na zmianę na prawym skrzydle."
          ],
          [
           " No to Pan i koledzy macie z głowy. Przesrane tak reszta życia pod górkę."
          ],
          [
           " A ja obstawiam, że pójdą bardziej w stronę tego, że może się powtórzyć sytuacja z Meresińskim."
          ],
          [
           "Aaaaa Kuba mi odpisał hehehehehe"
          ],
          [
           "Asysta Kacpra Falona i 3:1 dla Widzewa. Witamy Widzew w II lidze. No i w sumie fajnie."
          ],
          [
           " gwizdali na niego ? Bo nie oglądałem meczu :)"
          ],
          [
           "  ale może w końcu dojdzie do wniosku że skoro go klub już nie jara to lepiej go sprzedać i mieć po kłopocie"
          ],
          [
           "  Hej halo, o czym to jest bo mam na swojej liście i nie wiem czy warto??"
          ],
          [
           "dorosłe życie nie jest dla mnie"
          ],
          [
           "  dorosłe życie nie jest dla mnie"
          ],
          [
           " Cześć Paderewski, część opalające się nogi"
          ],
          [
           "   Uprowadź gumową kaczuszkę. Zacznie negocjować."
          ],
          [
           " Już wiem ze się nie dogadamy XD"
          ],
          [
           " Ale to w nowym przekładzie, jeszcze nie czytałam."
          ],
          [
           " Lahoza mi nigdy nie szkoda. Wolę, jak na pierwszym planie są piłkarze, a nie sędzia :-)"
          ],
          [
           "  Sprawdź chłopie w słowniku co oznacza słowo , którego używasz a potem się odzywaj."
          ],
          [
           " zmieńcie se nazwe na profilu na insta bo się nazywacie Grzegorz Ożóg..."
          ],
          [
           "#Woronicza 17 poseł Halicki oburzony za Bolka.Naprawdè taki tępy czy tylko udaje idiotę?"
          ],
          [
           "„Ta aktorka ma 20 lat?!?! Jaka stara!!” \\n\\nChyba musimy się już do grobu pakować roczniku 98 😂👌🏻"
          ],
          [
           "  „Ta aktorka ma 20 lat?!?! Jaka stara!!” \\n\\nChyba musimy się już do grobu pakować roczniku 98 😂👌🏻"
          ],
          [
           "Ahnherr der Schtwätzer wykonawcy Von Spar\\nhttps://t.co/SOtenSqIr0"
          ],
          [
           "   Bierze cie cie pod chuj a ty sie produkujesz"
          ],
          [
           "   Jak narazie to masz przywidzenia co nie zmienia faktu że cały czas jesteś idiotą."
          ],
          [
           " Kiedy do licznika dojdą bilety z fan clubow?"
          ],
          [
           " A kto prowadzi zespół ? Będzie podany skład z tego meczu ?"
          ],
          [
           " Główny powód to brak kasy, trzeba dać bogatym 500+,300+ i być bez godności i honoru"
          ],
          [
           "Zrobiłam takie Cv że ohohohoho"
          ],
          [
           "Świętować uchwalenie Konstytucji 3 maja i łamać Konstytucję RP obecnie obowiązującą?!\\n#3Maja - dzień hipokryzji."
          ],
          [
           "  Świętować uchwalenie Konstytucji 3 maja i łamać Konstytucję RP obecnie obowiązującą?!\\n#3Maja - dzień hipokryzji."
          ],
          [
           "  nie gra bo jest Jovanović i Guilherme"
          ],
          [
           " O tej godz. sporty szanuj ciało"
          ],
          [
           "Nikt nigdy nie rozsiewał takiego smrodu jak "
          ],
          [
           "Nikt cię tak dobrze nie ubierze jak matka chrzestna dziecino"
          ],
          [
           "  Nikt tutaj nie chce plagiaciarzy kopiujących brytyjskich pisarzy."
          ],
          [
           " A ksiądz co bierze 12 tyś za spowiedź przez tel?"
          ],
          [
           " Koń też ma dużą głowę. Tylko wydaje mi się, że jest bardziej inteligentny niż Karczewski"
          ],
          [
           " Pod i górę  pod wiatr to więcej niż k2"
          ],
          [
           " Sędziowie VAR nie decydują o karnych 😉"
          ],
          [
           "Jakiś program na TVN, nauka jazdy za kierownicą babcia śpiewa \\\"jadą jadą jadą świry jadą\\\" jadą jadą jadą świry jadą\\\""
          ],
          [
           " ta obecna Zary Larsson czy Pitbulla z ostatnich MŚ nie były złe :)"
          ],
          [
           "(280 znaków w jednym zdaniu 🙈)"
          ],
          [
           " po wahaniach wagi Kwacha wznoszę że to może być kapuścianka"
          ],
          [
           "  w tym sezonie razem z pucharem 12 meczy i 1 gol.Mójta więcej strzelił.Sorry patrze w statystyki."
          ],
          [
           "   finały tblk były przyzwoicie sędziowane ?! Aha..."
          ],
          [
           " Taki miałam właśnie, teraz kupiłam z catrice"
          ],
          [
           " to ich wymień.W czym problem ?"
          ],
          [
           "   a ja mam ciepełko jak się przytule do swoich kotów :)"
          ],
          [
           " Właśnie. Ilu! Najpierw odpowiedzmy sobie ma to pytanie,a potem dziwmy się zwycięstwu Zdanowskiej"
          ],
          [
           " W jego przypadku statystyka przebiegniętych kilometrów nie ma znaczenia. Czy gra zajebiście, czy fatalnie, biega tyle samo."
          ],
          [
           "  100%, Mann też miał pełne prawo"
          ],
          [
           " Kończyłeś już kilka razy 😂"
          ],
          [
           " Dzisiaj zajmujemy się WARiatem Krystyną ciekawe czy będzie płakał?"
          ],
          [
           "    A co będzie jak Kuba nigdy niewroci?"
          ],
          [
           " Tym w sejmie też? Banda hipokrytów i złodziei."
          ],
          [
           "W każdej z czterech grup będzie walka o zwycięstwo premiowane awansem do CLJ. Bardzo potrzebne rozwiązanie, brawo."
          ],
          [
           " Tak się poznałam z moim chłopakiem 😂 czasami warto"
          ],
          [
           " nelly furtado a tytuł forco czy cos takiego"
          ],
          [
           " Mów prawdę, kto was skrzywdził"
          ],
          [
           " jestem tu od 2013 xd"
          ],
          [
           " Ta kadra to rocznik 2002"
          ],
          [
           "Posiada sensor CGM , ciągły monitoring glikemii, w końcu."
          ],
          [
           "Jeszcze żaden Polak nie wystąpił w meczu gwiazd NBA, nie licząc Mietka Paciaciaka ;) Pomóżmy Marcinowi Gortatowi być 1  #NBAVOTE"
          ],
          [
           "  Jeszcze żaden Polak nie wystąpił w meczu gwiazd NBA, nie licząc Mietka Paciaciaka ;) Pomóżmy Marcinowi Gortatowi być 1…"
          ],
          [
           " No kurwa myślałem że na Podlasiu"
          ],
          [
           "  Tak, to nawet lepsze rozwiązanie."
          ],
          [
           "  Koń by się uśmiał, TVN24 i TVN wolne media? Bardziej perfidnego łgarstwa nie słyszałem.. 🤔"
          ],
          [
           "    Koń by się uśmiał, TVN24 i TVN wolne media? Bardziej perfidnego łgarstwa nie słyszałem.. 🤔"
          ],
          [
           " Gdzie ja wtedy byłam? ;-)"
          ],
          [
           "   Midze sie nudziło i se coś na kolanie napisał i macie sensacje"
          ],
          [
           " Dzisiaj wrócił do treningów, czyli zdążyli 😉"
          ],
          [
           "    Nie wiem, zerknij na 90minut"
          ],
          [
           "  Z motłochem nie dyskutuję tylko daje bany. A Pani  gratuluję obrońcy."
          ],
          [
           " możesz też zawsze po prostu zapytać kiedy się urodziłam. Albo wpisać hasztag #100latKasiaPawlak ;-)"
          ],
          [
           " ale z kategoriami moim zdaniem przesadzają.Sponsor roku, serce, impreza ? Bez jaj"
          ],
          [
           " Prezes się cieszy ze Wisla odpadła bo w razie finału Legia-Wisla znów by musiał finał odwoływać"
          ],
          [
           "Bratowa wysłała mi zdjęcie bratanicy z rozpoczęcia roku, idzie do pierwszej klasy, biedactwo nie wie co ją czeka"
          ],
          [
           " szybkie pytanie do  Ręka Sadloka była zagraniem umyślnym ?"
          ],
          [
           " Dzień w którym Abidal sprzedał i kupił A.Vidala 😉"
          ],
          [
           " Równie dobrze można gola stracić :)"
          ],
          [
           " Chorwaci przerżną w końcówce dogrywki, wiadomo."
          ],
          [
           " Nasze dzieci będą zdegustwani, był taki PiS, taki  , historia populizmu i głupoty w latach 2015-2019, margines"
          ],
          [
           " O, myślałam, że nikt już nie używa \\\"mnie\\\" tylko \\\"mi\\\"."
          ],
          [
           "   Na nowym stadionie West Hamu też to widziałem."
          ],
          [
           "  zawodnik w sezonie może grać w barwach dwóch klubów więc jeszcze nic straconego :)"
          ],
          [
           "ciekawe czy faktycznie jest taki zakład bo jeśli tak to nieźle XD"
          ],
          [
           " Hehe, do gazu, hehe jeszcze jakieś emotikony wrzuć"
          ],
          [
           "Qrwa!! I niech mi nikt nie mówi, że czary to jakiś zabobon!! Chłopaki mają sztywne nogi!"
          ],
          [
           "Od 01.10.2018 każde sprawozdanie finansowe w formie elektronicznej, zgodne ze strukturą jpk"
          ],
          [
           "Na TVP Kraków padła właśnie informacja że rozmowy z potencjalnym kupcem Wisły przełożony z dziś na jutro."
          ],
          [
           "  Na TVP Kraków padła właśnie informacja że rozmowy z potencjalnym kupcem Wisły przełożony z dziś na jutro."
          ],
          [
           " NIECH JESZCZE DADZĄ LEKTORA I NA GŁÓWNA POSTAĆ MÓWIĄ NADZIEJA"
          ],
          [
           "   NIECH JESZCZE DADZĄ LEKTORA I NA GŁÓWNA POSTAĆ MÓWIĄ NADZIEJA"
          ],
          [
           " Nie no ludzie, żeby robić artykuł na temat jednego tweeta ?..."
          ],
          [
           " Jak powiem, że pierwsze słysze, to będzie kompromitacja czy nie? 😄"
          ],
          [
           " Usuń konto, wytrzeźwiej buduj od nowa"
          ],
          [
           "   Sekta, cha, cha, cha, obudź się z hipnozy, jesteś bolszewikiem"
          ],
          [
           "Nie wstanę kurde nie ma opcji"
          ],
          [
           "  Spokojnie, u mnie też Kaczarawa na kapitanie + Cvijanović :)"
          ],
          [
           "niech ładny chłopiec z kręconymi włosami do mnie napisze: jutro, zaraz, teraz"
          ],
          [
           "  niech ładny chłopiec z kręconymi włosami do mnie napisze: jutro, zaraz, teraz"
          ],
          [
           " im ktoś gorzej widzi, dłużej musi czekać, choć ten, który widzi lepiej, dłużej poradzi sobie bez okularów. 😨"
          ],
          [
           " Oj, no to powodzenia! Co tam będziesz musiała robić? 🤭"
          ],
          [
           "    Chyba nie, Marcin mówił coś o '89."
          ],
          [
           " Przeczytaj mojego kolejnego twitta to zobaczysz, że nie umknęło i co sądze o poziomie tego meczu."
          ],
          [
           " Tylko nie w dupę, to dla niektórych z nich byłaby przyjemność."
          ],
          [
           "  Widać chcą wiecej polskich mord gotujacych koninę"
          ],
          [
           " No to jak się przegrywa cały czas to lepiej przestać grać :)"
          ],
          [
           "   Widzę, że sami się znajdują."
          ],
          [
           " Napewno mam niezaktualizowanego może dlatego"
          ],
          [
           "  Smokowski mówił że Wisła ma piłkarzy 3 sortu, a Wieszczycki deprecjonował dobrą prace Kiko"
          ],
          [
           "więc zaczynam oglądać Do wszystkich chłopców, których kochałam bo wszyscy o tym mówią i aż chcę to sprawdzić"
          ],
          [
           " Ban,ban i jeszcze raz ban! Co za prymitywne dno!"
          ],
          [
           "  Jasne, bo debile oglądający tvpis płaczą tylko na m jak miłość"
          ],
          [
           "   W stop klatkach widać ze jak by to było po stronie drugiej (legi) to karny by był"
          ],
          [
           "Zdrady stanu to Donald Tusk dopuścił się już w 2010 r kiedy dodał Rosjanom śledztwo w sprawie katastrofy smoleńskiej."
          ],
          [
           " Na marginesie jestem córką biskupa"
          ],
          [
           " Przejdzie historii: jak tworzyć kłamstwo w dobie powszechnego dostępu do informacji"
          ],
          [
           " Od ok 8 lat używam kolejnych modeli HTC i nigdy mnie nie zawiodły."
          ],
          [
           "  Ty się oszuście i kłamco od nas odpierdol. My sobie damy radę bez twoich kłamstw"
          ],
          [
           "   odważne słowa jak na legioniste! 😂😂😂"
          ],
          [
           "  Załatwi to jedno głosowanie w sejmie i żadne demonstracje nie będą miały na to wpływu."
          ],
          [
           "   Krzyż celtycki w Irlandii debilu ma kompletnie inne znaczenie niż u neofaszystów."
          ],
          [
           " Coś w tym jest,bo ja też😁😁😁. I jeszcze bym dodał Dominisię W. której infantylizm mnie totalnie osłabia."
          ],
          [
           "  Gdzie oni znajdują takich dupków"
          ],
          [
           "mój stres zaczął się stresować swoim własnym stresem, które również się stresuje ja pierdole dość"
          ],
          [
           "  mój stres zaczął się stresować swoim własnym stresem, które również się stresuje ja pierdole dość"
          ],
          [
           "     dojdzie Brlek, Stilić wróci do formy, obcokrajowcy się zaaklimatyzują i bedzie dobrze💪"
          ],
          [
           "   Brawo grzechu za Twój powrót do żywych\\n W Rosji pokaż swoją moc"
          ],
          [
           "    Wonder!! Chyba cię....😁😁😁😁😁.No dobra. Na jaki?😁😁😁"
          ],
          [
           " Ja mam uczulenie na dobrą zmianę, ale to dłuższa historiac"
          ],
          [
           " Różnicy nie ma, bo pisali wtedy, że nie można zsyłać zawodników do rezerw ;P"
          ],
          [
           " Żal ci biedaku??? Gdyby nie Kaczyński to by je twoi przyjaciele z PO rozkradl"
          ],
          [
           "   Żal ci biedaku??? Gdyby nie Kaczyński to by je twoi przyjaciele z PO rozkradl"
          ],
          [
           "Dobry dzień na przypomnienie sobie genezy gwiazdek na fladze #UE #deklaracjaRzymska"
          ],
          [
           "Sekta kurwa, jakaś niepojęta radość, każde konto pisdzielskie tylko o jednym"
          ],
          [
           "  Nie wierzę, bez zaświadczenia od proboszcza?"
          ],
          [
           " I chyba wtedy byś niezaprzeczyla?"
          ],
          [
           " Tak naprawdę czy będziemy w spadkowej czy mistrzowskiej to i tak czekają nas sparingi."
          ],
          [
           " Jebać, jebać, nic się nie bać."
          ],
          [
           " Jakiej pracy, ty już pajacu nie wiesz na czym się lansować. Sejm nie pracuje."
          ],
          [
           "Kilogramy rozmnażają się przez pączkowanie 😣😖\\n#TłustyCzwartek"
          ],
          [
           "  Nie działają i lepiej działać szybko bo klienci nie maja dostępu do środków na kontach"
          ],
          [
           "   jutro walczycie ? Normalnie rycerze ! A gdzie byliście wcześniej ? A zapomniałem że nie o L chodziło"
          ],
          [
           " Ale to głupie, rdzennie głupie, bardziej głupie już być nie może"
          ],
          [
           " Szczególnie Vestenicky.Podczas wypożyczenia nic nie pokazał a go wykupili za 500 tys euro 😂👏"
          ],
          [
           " Już się boję. Postraszy mnie Pan kolegami narodowcami?"
          ],
          [
           " Co nie było blisko? Bo nie rozumiem."
          ],
          [
           "  A od kiedy komentatorzy na Sky to wyrocznia?"
          ],
          [
           "  Nazwisko tego babska😁😁😁😁. Bo Wczoraj był na MO😁😁😀"
          ],
          [
           " Zbiera się do kontrataku, dla swojego pryncypala pójdzie w bój, patrityczna dusza,  co nie  ?"
          ],
          [
           " a w kolejnych fajnie jakby grał na lewej za Sadloka "
          ],
          [
           " byłem w pracy ale zaraz odpalam meczyk na yt.Dzięki za walke !!!!:)"
          ],
          [
           "  jakie 0 motywacji ? Jest chyba różnica mieć medal albo go niemieć"
          ],
          [
           " Niby nie macie czy niby nie mit? 😂😂"
          ],
          [
           " Ja bym był ostrożny😁😁😁A jak ma na imię?"
          ],
          [
           "   Tak to jest jak ktoś nie wie do którego lekarza iść najpierw."
          ],
          [
           "  No nie dziwie się w sumie. Dobrze, że tylko raz dzwonił"
          ],
          [
           "  Wasz świat? To się w nim zamknijcie i nie wystawiajcie nosa."
          ],
          [
           "  Przyjaciół to niech on sobie szuka za swoje prywatne pieniądze. I niech robi z siebie idiotę na własny rachunek."
          ],
          [
           "imagine sie komus podobac??? ze ktos sie stara o TWOJA uwage??? can’t relate"
          ],
          [
           "  imagine sie komus podobac??? ze ktos sie stara o TWOJA uwage??? can’t relate"
          ],
          [
           "   a Portugalia jak zagrała ?"
          ],
          [
           "Pierwsze zdanie: \\\"Paczka papierosów kosztuje 4 miliardy marek\\\".\\n#JajoWęża teraz na "
          ],
          [
           "  No to tym bardziej :)"
          ],
          [
           " Ja przynajmniej mam profilowe i nie chowam się za awatarem. Ale bohaterów MW na to nie stać i w sumie nic w tym dziwnego."
          ],
          [
           " Czego się spodziewać po członku żydowskiego amerykańskiego lobby. Lata na kolanach przed żydami zrobiło swoje."
          ],
          [
           "   Czego się spodziewać po członku żydowskiego amerykańskiego lobby. Lata na kolanach przed żydami zrobiło swoj…"
          ],
          [
           " Co ty człowieku pijesz z rana?"
          ],
          [
           "  pewnie narządy też wkrótce sprzeda :D"
          ],
          [
           " w zeszłym sezonie to samo pisałeś ?"
          ],
          [
           "Picie to przyszłość, piękna i nieznana, szukajcie zapomnienia, próbujcie różnych trunków, łączcie środki psychoaktywne, powodzenia"
          ],
          [
           " Ale ty jesteś żenujący. Dno metr mułu."
          ],
          [
           " spoko, nigdy nie daje unfollow aktywnym ludziom, tylko tym, którzy nie piszą nic od miesięcy albo dali mi unfollow"
          ],
          [
           "\\\"- Co to jest tajmlajn na fejsie?\\n- Zmarszczki\\\"."
          ],
          [
           " może trzeba chłopaków na crossfit zabierać ?:)"
          ],
          [
           " znacznie bliżej jest mi muzułmanin  czy indus, niż katolicka, łysa swołocz ze wschodu europy, do tego rasistowska"
          ],
          [
           "Dzisiaj o 18.00 Strefa Kibica w Radiu Akadera. Zapraszamy."
          ],
          [
           " Nie powinno być źle o ile się utrzymamy :P"
          ],
          [
           " Spokojnie trzeba ta porażkę wziąść na klatę mecz się tak ułożył nie inaczej napewno gorsi dużo my niebyli."
          ],
          [
           " Ale się cieszą. Wreszcie koniec i będzie można wypić te.zapasy z plecaka."
          ],
          [
           "  Ofertę przedłużenis kontraktu ponoć dostał od Wisły, ale jej nie zaakceptował."
          ],
          [
           "Dziś o godz. 20:00 Prezydent RP wygłosi orędzie."
          ],
          [
           "  Dziś o godz. 20:00 Prezydent RP wygłosi orędzie."
          ],
          [
           " myślałem że się przychodzi na stadion dla drużyny a nie na poszczególnych piłkarzy"
          ],
          [
           " kibicom chodzi raczej o postawe dziennikarzy a nie klubu."
          ],
          [
           "  Nie trzeba Algierczyków, wystarczy kilku polskich katechetów."
          ],
          [
           " Barcelona z Messim (ta obecna) by taki mecz wygrała 1:0, albo jakiś Suarez by coś wcisnął :P"
          ],
          [
           "  TW Wolfgang, TW Faraon i TW Rycerz,TW Balbina, TW Michał \\nKto mieczem wojuje, ten od pochwy ginie"
          ],
          [
           "  Zgadza się ale przecież nas niestac żeby komin płacowy zacząć od.carlitosa"
          ],
          [
           "   Low kick, kolano łokieć, blacha na czoło i stara leży"
          ],
          [
           " Niestety obrazki będą też zielone, czarne i brunatne."
          ],
          [
           "Ktoś założył fejkowe konto i ogląda WSZYSTKIE moje story"
          ],
          [
           "  Życie, zdarza się. Jednak od takiego rzutu wolnego do gola droga dość daleka."
          ],
          [
           " a wydanie 500 tys euro gdy się nie ma pieniędzy nie jest strzałem w kolano ?"
          ],
          [
           " Wio endekdu, ścierwa, zdrajcy, szubienica"
          ],
          [
           " nie dziwie się, to było dość cwane :)"
          ],
          [
           " Raczey! Jutro będzie jej odczytywane przez cały dzień ;-)"
          ],
          [
           " Kto będzie pił te mleko, gdzie będą jeździły tiry, meble, okna ty maly kogucie"
          ],
          [
           "    Nie myli się tylko ten, co nic nie robi."
          ],
          [
           "Mama będzie mi obcinać włosy boje się"
          ],
          [
           "    No to muszą ci nieźle płacić za wierszówki."
          ],
          [
           " czy masz info jakie obecnie Ondrasek ma zarobki w Wiśle?"
          ],
          [
           " Jaka kwota wykupienia go po roku??"
          ],
          [
           "   Dla kogo pracował? Nie przy śniadaniu bo się udławić można z wrażenia. Poproszę 5 przykładów zatem."
          ],
          [
           "   Widzę, że dalej nie rozumiesz. No nic idę oglądać LM. Pozdro."
          ],
          [
           "  jeśli masz TV włączony od 8:00 do 1:00, a reklama pojawia się 3 x na godzinę, po 2 mies. jesteś na granicy obłędu."
          ],
          [
           "  A co o włoskich faszystach i węgierskich nacjonalistach?"
          ],
          [
           "  Dojenie kasy przez rząd\\nKompromitacja Morawieckiego w Niemczech\\nKaczyński twórca państwa Polskiego w 2016 roku"
          ],
          [
           " Jeszcze w nastepnej kolejce pewnie jakis piątek"
          ],
          [
           "  i oczywiście było pytanie czy nie boi się o przyszłość Wisły 😂 przechodzicie samych siebie"
          ],
          [
           " no ja właśnie to samoXD znaczy wiem ze Emre wbija często, bo jego żona jest polką ale no"
          ],
          [
           " Nic nie mogą. Ale ich brak może spowodować, że strajkujący szybciej się z Sejmu wyniosą."
          ],
          [
           "   Przecież jak go zamkną to o czym ty będziesz pisał ? Twoje życie straci sens..."
          ],
          [
           "  To zaraz porobie screeny od momentu od którego jest zablokowane :)"
          ],
          [
           " Ktoś przestał słodzić, ktoś kto dużo słodził"
          ],
          [
           "   No to po co się zgodził na klauzule dopiero po zakończeniu przyszłego sezonu, a nie od razu ?"
          ],
          [
           " Jest to prawda. Ale MSZ powinien. On pewnie myślał, że jest w Pisowskiej Polsce i wszystkoi wolno.😀😀😀"
          ],
          [
           " delikatnie nie po drodze :D"
          ],
          [
           "  No to 0:0 murowane (bo mam też ludzi z Cracovii)"
          ],
          [
           " Może ogłuszyły go te korki od szampanów, które strzelały po podpisaniu kontraktu Sadloka z Jagiellonią ?"
          ],
          [
           "Panie i panowie, totalna porażka  w miastach. \\nT O T A L N A \\nTo bardzo ważny znak."
          ],
          [
           "  Panie i panowie, totalna porażka  w miastach. \\nT O T A L N A \\nTo bardzo ważny znak."
          ],
          [
           "    ręce opadaj że takich rzeczy ludzie związani z futsalem nie wiedzą."
          ],
          [
           "  Przeczytałem wszystko. Fantastycznego ma Pani Dziadka!"
          ],
          [
           " Na wszystko masz odpowiedź, żyłeś w tych czasach?"
          ],
          [
           "  Mr. Czarnecki. To nie hipokryzja tylko zwykła ludzka przyzwoitość. Widać że niektórym obce takie  odruchy."
          ],
          [
           "Diego Maradona - Robbie Williams 2:1."
          ],
          [
           "   Ja nie byłbym taki pewny"
          ],
          [
           " patrząc kogo biorą to mam wątpliwości czy nie chcą do 1 ligi (nie licząc Marciniaka)"
          ],
          [
           " To było dawno, jeszcze nie znali fotoszopa"
          ],
          [
           "  Maly murzyn, silny i zdrowy"
          ],
          [
           ". pojawił się na TT. To konto to nie fejk. \\nDołączajcie :) 💪"
          ],
          [
           "  . pojawił się na TT. To konto to nie fejk. \\nDołączajcie :) 💪"
          ],
          [
           "W programie Igrzyska wolności w Łodzi śpiewanie pieśni rewolucyjnych,i piosenek z serialu,4 pancerni i pies."
          ],
          [
           " no i w końcu widzę uśmiech :)"
          ],
          [
           " Jeszcze was zjemy i wysramy"
          ],
          [
           " lepszy argument to że ktoś go nie chce bo go nie lubi"
          ],
          [
           "  Tylko że ten prostak sie nabijał, szydził tak jak ze śmierci Piotra S."
          ],
          [
           " Qwa! Wypiłem kawę przed chwilą.Bardzo dobra kawę.Nie chcę jej zwracać. A swoją drogą to świetny środek na wywołanie wymiotów."
          ],
          [
           "Wchodzę w powiadomienia a tu nic, już na 4 tt odpisałem, zaraz wyjebią bana"
          ],
          [
           " nataliethere_ oddam szybciutko z powiadomień"
          ],
          [
           " Tak tak jeszcze ktoś w to uwierzy"
          ],
          [
           "   Tez musze trzymać poziomo tel czytając ten artykuł"
          ],
          [
           "   Czasy kiedy zacząłem interesować się piłką i Wisłą 😍"
          ],
          [
           " Wy narobiliscie 30miliardow dlugow za waszych rzadow #oddajciekase"
          ],
          [
           "   Wy narobiliscie 30miliardow dlugow za waszych rzadow #oddajciekase"
          ],
          [
           " Czy  gotów na taką kolej rzeczy?"
          ],
          [
           " Tak jak pisdzielstwo ośmiesza policjantów , to już, nikt, nigdy bardziej nie będzie"
          ],
          [
           " A kiedy przestanie wydawać mln na swoich ochroniarzy, tylko zacznie leczyć u psychiatry swoją manię prześladowczą?"
          ],
          [
           " Pierwszy priorytet zadowolić Jarkacza, drugi priorytet ssać kasę wszystkimi otworami,  mają rozdwojenie jaźni"
          ],
          [
           " Huj z wami dziennikarzami. Piłka nożna dla kibiców a nie pseudo dziennikarzy."
          ],
          [
           " E tam! To z miłości do Łodzi😁. I przyjdzie do PiS😁😁"
          ],
          [
           " A ja, ze coś znowu zepsułam xd"
          ],
          [
           "Czemu jak zawsze się o kogoś martwię to ja dostaje po dupie, i mean nie wiem"
          ],
          [
           " kiedy wyjeżdżasz? ja w piątek, co prawda już drugi rok ale moja rodzina nadal reaguje tak samo"
          ],
          [
           "   Ograniczyłbym to do \\\"Byle nie Ufa\\\" :)"
          ],
          [
           "  Święta racja, ale zapytaj Jurgiela o notatki, on wie co spierdolił. Będzie łatwiej."
          ],
          [
           "  Szczególnie wielka strata za Smoleńsk"
          ],
          [
           "    daj znać  o  zdjecie blokady"
          ],
          [
           "  Myślę, że po info o konferencji wielu osobom to przychodzi do głowy."
          ],
          [
           " Koniecznie! Zapraszamy na spacer z kawką 😃"
          ],
          [
           " błąd logiczny, te pieniądze kiedyś były wasze, teraz już sa nasze i nic wam do tego towarzyszu"
          ],
          [
           "   błąd logiczny, te pieniądze kiedyś były wasze, teraz już sa nasze i nic wam do tego towarzyszu"
          ],
          [
           " Zależy jak na to spojrzeć. Z jednej strony akredytacja, z drugiej wyjazd za swoje $$$ 😉"
          ],
          [
           "  albo wygrywali 1:0 z Barceloną"
          ],
          [
           "  tylko nie Załuska.Nie potrzeba nam takich piłkarzy bez ambicji."
          ],
          [
           "  Nic specjalnego. Można się domyślać, że pewnie pójdzie na wypożyczenie."
          ],
          [
           "Z Zagłębia Hładun i Czerwiński w składzie (porażka 1:2), a z Legii Carlitos na kapitanie (zmiana w przerwie). Co za seria 😂"
          ],
          [
           " co chwile o nim piszecie i gadacie jaka to porażka jak nie zostanie.A nie pamiętacie jak jeszcze niedawno otrzymanie licencji1/2"
          ],
          [
           "  Przecież TS dzierżawi ta ziemię umowa na 99 lat zgadza się czy nie?"
          ],
          [
           " Pyta się kiedy beda nowe okulary, bo juz chce wychodzić"
          ],
          [
           " Probierz szuka młodych Polaków pasuje jak ulał😉"
          ],
          [
           " Może pasuje do klucza francuskiego?🔧☺"
          ],
          [
           "Pensja, kasa, dojenie,  ,ssanie kasy, ruchanie w meskie dupy, zawsze za pis, trudny teren, ciezkie warunki"
          ],
          [
           " Polska to nie napis na dropsie, uuuu, niedobrze, uuuuuuu"
          ],
          [
           " raczej ty się powinieneś jebnąć ale nie wiem czy to pomoże"
          ],
          [
           " Jak narazie to sobie możecie kupę zrobić. Albo hurtowo dać dupy pedofilów w sutannach, których publicznie bronicie."
          ],
          [
           " Najlepiej w Polsce żeby legia miała pomoc :-)"
          ],
          [
           "Ale mam chujowy humor przez to, że nie zdałam i jestem na siebie zła"
          ],
          [
           "Szukam osób, które mają kontakt z rodziną gen. Bułak-Bałachowicza. Sprawa  prywatna."
          ],
          [
           " Brawo skwk za komunikat pomimo braku zakazu czekałem na ta wiadomość co robić, bo na mecz bez dopingu niemyslalem iść"
          ],
          [
           "  A ty wieś kretynie CONTI jest Acta2 i czego dotyczy? Najpierw przeczytaj a potem się wypowiadaj."
          ],
          [
           " Trąba ? Nie no ostro pojechałaś :D"
          ],
          [
           "Beata #Mazurek w Sejmie na pytanie co myśli o pomyśle Kaczyńskiego o obniżkach wynagrodzeń: \\\"Ja nic nie myślę\\\". To słychać."
          ],
          [
           "  Beata #Mazurek w Sejmie na pytanie co myśli o pomyśle Kaczyńskiego o obniżkach wynagrodzeń: \\\"Ja nic nie myślę\\\". To słyc…"
          ],
          [
           "Motocykle opuściły gniazda i kierują się na północ. Żonkile na przedmieściach to już tylko formalność. Wiosna! :-)"
          ],
          [
           "  🕵 Jest tak zakonspirowany, że go nie widać. Fachowiec. \\n(Górny, prawy róg)"
          ],
          [
           " Kto mieczem wojuje od pochwy ginie "
          ],
          [
           " W jednej z powtórek było to dobrze widać :))"
          ],
          [
           " Kochana nie ma po co bo później wszyscy się będą po to kleić 😂😂"
          ],
          [
           "  chyba nie miałeś się czego przyczepić, nie przesadzajmy :)"
          ],
          [
           "  Ale dlaczego głupi   tłumaczy to jeszcze głupszemu  ?"
          ],
          [
           " Dzwoniłam się dowiadywać kiedy się można wprowadzać 😂nie wiedziałam ze takie problemy mogą być xd"
          ],
          [
           " Już pod koniec jazdy wymusilam na rondzie.... nie wiem jak to się stało, mój mózg miał zaćmienie czy coś a"
          ],
          [
           "Nowe chodnikowe powiedzonko brzmi:\\n\\nPierdolisz jak Morawiecki, realy.\\n\\n  \\n\\nHybryda głupoty."
          ],
          [
           "  Nowe chodnikowe powiedzonko brzmi:\\n\\nPierdolisz jak Morawiecki, realy.\\n\\n  \\n\\nHybryda głupoty."
          ],
          [
           "Terminator X To The Edge Of Panic wykonawcy Public Enemy\\nhttps://t.co/Nqf1yFOyKg"
          ],
          [
           " Zaspana jestem jeszcze sorki XD"
          ],
          [
           "  No ja nie kojarze xD"
          ],
          [
           " Pies to czasem nawet pożera książki..."
          ],
          [
           "Kiedy Christina wychodzi za mąż"
          ],
          [
           "  Zapewne ci, co grali przez większość rundy w CLJ i nie ponieśli ani jednej porażki."
          ],
          [
           "  Jak będzie ta pioseneczka to przychodzę\\n\\nhttps://t.co/B6ak11mI4d"
          ],
          [
           " zamieszczanie takich zdjęć podczas gdy ja jestem na sucharach powinno być zabronione :)"
          ],
          [
           "   A co trzeba zrobić w kwestii finansowania kampanii z funduszy UE przez Ziobrę?"
          ],
          [
           " W środku łamanie w stylu 2obiegu."
          ],
          [
           "jak ja się źle czulem jak byłem dzieckiem w  kościele to głow mala, szopka do kwadratu, nie mogłem tego wytrzymać"
          ],
          [
           "    jak wróce z pracy to też podejme wyzwanie ale tym razem bedzie skromnie :)"
          ],
          [
           "   Jak pić to z klasą ;)"
          ],
          [
           "  Ty pajacu, zmień sobie herb na pusty łeb."
          ],
          [
           " W rosji sa jakieś zawody"
          ],
          [
           "  Myślałem że to Twój ulubieniec 😂"
          ],
          [
           "  pewnie ranking Fifa bedzie decydowal"
          ],
          [
           " Łukaszewicz, co Wy tam palicie?"
          ],
          [
           "   Leszku mój kochany, masz mózg wyprany"
          ],
          [
           " a ja współczuje zaślepienia.Wolę nie mieć Wolskiego niż robić kolejne długi "
          ],
          [
           "   od paru lat słysze o sponsorze więc tym bardziej szacunek że przez pare lat się nieujawnił..."
          ],
          [
           " Skoro Carrillo nie chce Sobola to tym bardziej nie będzie chciał Głowy. Chyba, że trener rzeczywiście odchodzi."
          ],
          [
           "   Zawsze bedą afery bo zawsze będa tacy l którzy kradną  i tacy u wladzy których to kręci"
          ],
          [
           " kot też się załapał na fotke, a raczej jego dupa :)"
          ],
          [
           " Szczerze? Trochę tak to wygląda, a i tak prędzej czy później ten bilans wychodzi na równo."
          ],
          [
           " zaraz będą pisać że Wisła szkoli kiboli żeby potrafili maczetą wymachiwać :)"
          ],
          [
           "*stoi przed nimi król gargulców*\\nbetty: to pewnie ethel\\n\\nXDDDDDDDDDDDDDD\\n#Riverdale #RiverdalePL"
          ],
          [
           "  *stoi przed nimi król gargulców*\\nbetty: to pewnie ethel\\n\\nXDDDDDDDDDDDDDD\\n#Riverdale #RiverdalePL"
          ],
          [
           " No, to ja we własnej osobie"
          ],
          [
           " Słabo trzymałeś kciuki, bo podarował bramke Cracovii :)"
          ],
          [
           " Odstawiając narodowość na bok to ten skład jest przecież słabiutki."
          ],
          [
           "  Piwnica bez okien, ty to masz dobrze"
          ],
          [
           "Czuję się chora więc siedzę w domu w czapce"
          ],
          [
           " Juz myslałem że coś gorszego😁😁"
          ],
          [
           "  A gdzie Inferno napisał, że Wisła stawia na Polaków ?"
          ],
          [
           " akurat Tobie bliżej do Karolaka bo w większości Cię wycięli 😂    "
          ],
          [
           " Omg właśnie o nich myślałam"
          ],
          [
           " Tak na pewno nie będzie. Drużyna leci w środę."
          ],
          [
           "Cudzysłów, przecinek nie jestem ruskim trollem"
          ],
          [
           "Biorąc pod uwagę, jakie dotąd mieliśmy losowania w Lidze Europy, to na ten finał w Baku w 2019 roku nie jesteśmy bez szans. 😁"
          ],
          [
           "  Fajnie, teraz zamiast przemowy muzyczka żeby nie było słychać odzewu publiki."
          ],
          [
           "  Białystok, ulica Wierzbowa. Jak oni to zrobili, to jest zagadka."
          ],
          [
           " Straszny gangster jak po wolności chodzi"
          ],
          [
           " To się nazywa uzależnienie xD"
          ],
          [
           " Info z ostatniej chwili barwy pogoni skrojone przez bandytów Z Krakowa.  Pomimo zakazu Wisła rządzi"
          ],
          [
           "  Pewnie tak bo Buchalik kontuzjowany."
          ],
          [
           " to miało jakiś ciąg dalszy? 😉"
          ],
          [
           "vans do chuja przestań robić choć na chwilę zajebiste kolekcje bo w moim portfelu pieniądzen't"
          ],
          [
           "  vans do chuja przestań robić choć na chwilę zajebiste kolekcje bo w moim portfelu pieniądzen't"
          ],
          [
           "    12 mld nie mam zamiaru dyskutowa możejki i skoki"
          ],
          [
           "  Alves był bardzo w stylu Guardioli 😛"
          ],
          [
           " Co ty żresz, że ci tak pierdolnęło?"
          ],
          [
           " Bo w \\\"10\\\" już grają przez Boatenga ;)"
          ],
          [
           "  Trudno być pewnym, gdy stoperzy mogą zagrać tylko lagę do przodu, bo środka nie mamy."
          ],
          [
           "   No właśnie, nie było i dlatego patologia została stosownie potraktowana."
          ],
          [
           " skoro jest dno dna to może skupmy się na tych od których coś wymagamy"
          ],
          [
           " Widocznie to zbyt trudna miłość na Walentynki 😁"
          ],
          [
           " Sarapata była w solarium ?"
          ],
          [
           " Woda chyba zimna bo nikogo w wodzie ;-)"
          ],
          [
           " ej, dobra, weźmie ten chrzest czy nie? xd"
          ],
          [
           "  Lub bezpośredni awans, bo nie wiadomo co ze Stomilem, a przede wszystkim Bytovią :)"
          ],
          [
           "  byłam przy tym, więc zapewniam 😉"
          ],
          [
           "   Tylko ty masz problem z rzecznikiem, więc zastanów się w kim tak naprawdę jest problem? 🤔"
          ],
          [
           " Piątek  też powinien być wolny, ina 100%"
          ],
          [
           "Wassermannówna kłamie, mówiąc, że „przyszła do polityki”. Ona przyjechała na trumnie ojca."
          ],
          [
           "  Wassermannówna kłamie, mówiąc, że „przyszła do polityki”. Ona przyjechała na trumnie ojca."
          ],
          [
           " Już dwa lata temu powinni wygrac Euro."
          ],
          [
           " Kibice innych drużyn doceniają i trochę zazdroszczą :)"
          ],
          [
           "  na 100% jest zmiana Śląsk - Jaga i chyba została już potwierdzona."
          ],
          [
           " W tym czasie był z rodzinką na wakacjach w Gdańsku Brzeźnie to musiał zdalnie podtrzymywać związek"
          ],
          [
           "jak Patryk Jaki wygra wybory w Warszawie oczyści stolicę z byłych UBECKICH funkcjonariuszy ! #woronicza17"
          ],
          [
           "  jak Patryk Jaki wygra wybory w Warszawie oczyści stolicę z byłych UBECKICH funkcjonariuszy ! #woronicza17"
          ],
          [
           "Szkoda, że przez wymysły Mendesa taki Ruben Neves się marnuje w Wolverhampton."
          ],
          [
           "  Nie wiem, aczkolwiek jego tata mówił, że widziałby Tomasa w Jagiellonii. 😜"
          ],
          [
           "Ja i moje psiapsi gramy w te gry na snapie i nie mogę przestać się śmiać z naszych min XD"
          ],
          [
           " Kolar niestety ten sam poziom. Chyba trzeba będzie liczyć na skuteczność Boguskiego i Małeckiego..."
          ],
          [
           "Rząd zaostrzy kary za znęcanie się nad zwierzętami. Od 3-5 lat więzienia; obowiązkowa nawiązka do 100 tys zł. Więcej jutro w "
          ],
          [
           "  Rząd zaostrzy kary za znęcanie się nad zwierzętami. Od 3-5 lat więzienia; obowiązkowa nawiązka do 100 tys zł. Więcej jutro w "
          ],
          [
           "   czuje że Brlek prędzej czy później odpali"
          ],
          [
           "  To, że figurowal jako zawodnik Man City nie znaczy, że będzie potrafił grać."
          ],
          [
           "  Oczywiście, że ma rację. Chodzi tylko o to, że to jest drużyna o klasę lub dwie lepsza."
          ],
          [
           "  Nie miał prawa stać za linią, tak prawdę mówiąc 😄 Ale w kamerach to bardzo ładnie wyglądało."
          ],
          [
           "   Ty to robisz przede wszystkim, co widać po pierwszym tweecie."
          ],
          [
           "Ostatnio czuje się tak samotna i smutna ze aż sama się dziwie"
          ],
          [
           " Przecież to legionista to komu ma życzyć mistrza.Nie wiedziałeś ?"
          ],
          [
           "   dobrze by mu to zrobiło.Za słaby na Wisłe."
          ],
          [
           " Hehehehehe. Róża nawet niezła była.I co z niej wyrosło!😁😁😁"
          ],
          [
           " jedni wynajmują agencje do komentarzy a inni dziennikarzy"
          ],
          [
           "   jedni wynajmują agencje do komentarzy a inni dziennikarzy"
          ],
          [
           " pewnie jest mniej błędów bo i liczb jest mniej bo zrezygnowali ze statystyk zawodników sezon po sezonie ;)"
          ],
          [
           " Krzyż przeciw prezydenturze, krzyż obłędu"
          ],
          [
           "  Sorry ale dzisiaj nie ma opozycji. Jest grupa cwaniaków chcących odzyskać stołki."
          ],
          [
           "na kijowe życie najlepsza wódeczka"
          ],
          [
           "Co na to Herod śmierdziuszka "
          ],
          [
           " Brakuje mu dystansu, za bardzo się egzaltuje, a jałowe szyderstwa już mi się przejadły"
          ],
          [
           " Wisła chyba ważniejsza od jakiejś Delle Donne :)"
          ],
          [
           " Nawet jeśli to fejk, to zgodnie z powiedzeniem -w każdej plotce jest ziarnko prawdy. Z tym że w tym przypadku raczej ziarno😁😁"
          ],
          [
           " Tez wczoraj byłam na randce która trwała cały dzień Xd"
          ],
          [
           " A kierowca autobusu wstał i zaczął klaskać ?"
          ],
          [
           "  Jak by nie było, aby było miło, teraz sie cieszysz"
          ],
          [
           " No to może warto, najwyżej Cię oleje, co jest oczywiście nie do przyjęcia 😂 kto nie ryzykuje ten nie pije szampana kochana!"
          ],
          [
           "  Trzymali się za ręce, waleczni i sprawiedliwi"
          ],
          [
           "Dudelange niby takie cwaniaki, a ciekawe czy byliby tacy mądrzy w dwuboju rzut młotem-skoki narciarskie"
          ],
          [
           "  Dudelange niby takie cwaniaki, a ciekawe czy byliby tacy mądrzy w dwuboju rzut młotem-skoki narciarskie"
          ],
          [
           "   głównie  który często o tym wspomina"
          ],
          [
           "Kto się jeszcze zaczepia na fejsie...."
          ],
          [
           "  Z tymi wizjami to może być problem. Proponuję sprawdzić po czym te wizję są"
          ],
          [
           " Jaki hejt.Hejt to jest na Tuska, Komorowskiego, przecież to nie Polacy, śmierć wrogom ojczyzny. Obudź się"
          ],
          [
           "Czy Antek już ogłosił, że na lewym skrzydle naszej obrony był wybuch?"
          ],
          [
           "  Czy Antek już ogłosił, że na lewym skrzydle naszej obrony był wybuch?"
          ],
          [
           " jest to dobra informacja dla tych co okradali  Polskę od 89  roku  Irlandia da im wolność"
          ],
          [
           "   jest to dobra informacja dla tych co okradali  Polskę od 89  roku  Irlandia da im wolność"
          ],
          [
           "Ale przecież #Polexit jest dobry. Założycie koszulki z orłem i będziecie żryć ziemniaki i wungiel 😇"
          ],
          [
           "  Ale przecież #Polexit jest dobry. Założycie koszulki z orłem i będziecie żryć ziemniaki i wungiel 😇"
          ],
          [
           "    Wywalił Ronaldo w Superpucharze :)"
          ],
          [
           "  Bo sama jest niepełnosprawna... Umysłowo.😁😁"
          ],
          [
           "Halo Kraków, kogo byście uznali za gwiazdę/najważniejszego zawodnika obecnej Wisły? 😉"
          ],
          [
           "  Ssą wszystkimi otworami z krwi biało czerwonej"
          ],
          [
           " Wy się zjednoczyliście z faszystami z połowy Europy. Kpromitacja level hard."
          ],
          [
           "   Znowu on ? 😂 to przy okazji niech się odniesie do słów Sarary 😂"
          ],
          [
           " Dotarlas do orełka?😁😁 W tym roku niestety tyłko jeden😞😞"
          ],
          [
           "  Mam rozumieć, że to mapa nasycenia krajów zboczeńcami w sutannach."
          ],
          [
           "   A Panu nie brakuje czasem art. 87 pkt1?"
          ],
          [
           " Czy to oknoplus ladowal kiedyś"
          ],
          [
           "  5 punktów na 21 w rundzie finałowej..."
          ],
          [
           ".  Będziemy realizować przekop Mierzei Wiślanej \\n#wieszwiecej  \\nhttps://t.co/zuCXxG1GUr"
          ],
          [
           "  .  Będziemy realizować przekop Mierzei Wiślanej \\n#wieszwiecej  \\nhttps://t.co/zuCXxG1GUr"
          ],
          [
           " Bolek wyluzuj bo jesteś sercowy."
          ],
          [
           " Śmiej się  śmiej. To wcale nie jest śmieszne."
          ],
          [
           "I hope that autumn will heal me"
          ],
          [
           "Jutro po marszu, ale jeszcze kilka dni beda chodzić naćpani"
          ],
          [
           " Nie ma jak lans nierobie za pieniądze podatników."
          ],
          [
           " A to ja przepraszam, nie miałam wczoraj czasu na TT 😎"
          ],
          [
           "11 tysięcy miejsc zajętych, dzisiaj prawie 2000 biletów sprzedanych. Z tej okazji za chwilę nagroda 😁"
          ],
          [
           "  To ja chyba tylko kolory porównywałem"
          ],
          [
           "Ej słuchajcie co zajebistego wymyśliłam \\n\\nJaki jest najlepszy argument bonnie z pamiętników wampirów? \\n\\nBo nnie"
          ],
          [
           "  Ej słuchajcie co zajebistego wymyśliłam \\n\\nJaki jest najlepszy argument bonnie z pamiętników wampirów? \\n\\nBo nnie"
          ],
          [
           " Im więcej problemów w państwie tym więcej niewykonanych wyroków"
          ],
          [
           "Widziałam śliczną sukienkę ale nie było mniejszego rozmiaru niż 36 i była za duża danmm"
          ],
          [
           "  Polskę to kompromitują tacy jak ty. Oszołomie."
          ],
          [
           " 😁😁😁😁😁😁😁😁  teraz to mnie Pani ubawiła tym paskiem. A widziała Pani swoją szyję?"
          ],
          [
           "   nie, ale jeśli ktoś wypomina Levadie to niech bedzie obiektywny i wspomni też inny wynik."
          ],
          [
           " O naszych meczach z Rio Ave można powiedzieć podobnie 😉"
          ],
          [
           "W sumie to polubiłam już zajęcia z konstrukcji przekazu reklamowego i prowadzący jest świetny"
          ],
          [
           "Ej chciałabym do samorządu w sumie hahahaha"
          ],
          [
           " Tez nie mam snapa hahahahaha"
          ],
          [
           " Ileż można o tym Wiluszu ?..."
          ],
          [
           " A po polsku to jak to będzie?"
          ],
          [
           "  A skąd on wie jak jest w innych klubach ? Niech się wypowiada o klubach w których grał."
          ],
          [
           "I ta Wisła, która się bawi z każdym w ofensywie, w Białymstoku miała pół sytuacji."
          ],
          [
           "   Zapytalem,  szwagierka mówi że ma konto w powerbanku"
          ],
          [
           "  Mięciuteńki straszliwie. Tam były ręce na ciele, a nie jakieś szarpanie. Tylko że nie do VAR-u."
          ],
          [
           "  Pajacu, jak podajesz przepis to masz go znać na pamięć. Inaczej robią z siebie idiotę tak jak teraz."
          ],
          [
           " Zdejmujesz Dziadkowi okulary, zakładasz Babci i jestem \\n😎"
          ],
          [
           "   w końcu jakiś ciekawy wywiad :)"
          ],
          [
           " jak tam widziałeś czerwoną to rzeczywiście wyjdź"
          ],
          [
           " skoro zarząd pozwala na takie cyrki to niestety potrwa to lata"
          ],
          [
           "  Cieszmy się że drużyna dalej gra w lidze.Nie zawsze można mieć najmocniejszy skład w lidze :)"
          ],
          [
           "   Znawca wszystkiego czyli niczego od bydła po powidło"
          ],
          [
           " 😂😂😂😂😂😂😂😂😂😂😂😂😂🤣🤣🤣🤣🤣🤣🤣🤣🤣🤣🤣🤣🤣😂😂😂😂😂😂😂🤣🤣🤣🤣🤣🤣🤣🤣🤣🤣🤣🤣🤣🤣🤣😂😂😂😂😂😂😂😂😂😂😂😂😂😂😂😂\\n\\nSłów odpowiednich żaden słownik nie zawiera"
          ],
          [
           " Vacek, Putnocky, Nielsen.Widzę że biorą się za odmładzanie składu :)"
          ],
          [
           "   Ty się chyba debilu nie słyszysz, ty tekstów to się po nocach uczysz czy masz słuchawkę w uchu?"
          ],
          [
           " Lub kibiców w Gliwicach 😜"
          ],
          [
           " No właśnie była lepsza 😜"
          ],
          [
           "    No weź nie rob takiej miny"
          ],
          [
           "   Szczekać to mogą tacy jak ty #delegalizacja"
          ],
          [
           " Bo jest Głowacki to teraz czas na obrońców"
          ],
          [
           "  Nie ma takiej opcji. Oszust i kłamca w roli głównej - tego jeszcze świat nie widział."
          ],
          [
           " Nie jest złe! Chodzisz w szpilkach? Cokolwiek byś nie założyła to szpilki choć trochę pomogą xd"
          ],
          [
           " Jakby był definitywny to trochę slabo 😂"
          ],
          [
           " a co się tak pieniedzmi nagle przejmujesz ? Jak chcialas rozwiazania kontraktu z Zohnova czy Pop to kasa juz nie wazna ?"
          ],
          [
           " Oskar Łąk definitywnie odszedł z Wisły ?\\n\\nhttps://t.co/o0psVgZBUl"
          ],
          [
           " gratulacje ! Dzięki za dotrzymanie słowa że dzisiaj koniec :) Zasłużyłyście !"
          ],
          [
           "Jezu, co zagrali Suarez i Cavani."
          ],
          [
           " Na pewno łatwiej by było znaleźć, określić i poprawić problemy"
          ],
          [
           " Można, dlatego nasz poziom piłkarski był bardzo słaby wczoraj."
          ],
          [
           " Wybacz, ale nie sądzę, aby głównym problemem kadry były złe powołania na numerach 21-23 w kadrze."
          ],
          [
           "jeśli nie mogę wyglądać tak jak\\n•perrie edwards\\n•troian bellisario\\nto what’s the point of existing?"
          ],
          [
           "  jeśli nie mogę wyglądać tak jak\\n•perrie edwards\\n•troian bellisario\\nto what’s the point of existing?"
          ],
          [
           " Nadal i Djoković to się w sumie cieszą, bo ten, kto w ich meczu wygra, będzie praktycznie zwycięzcą turnieju."
          ],
          [
           "  Mówisz że ONR lize doope😂"
          ],
          [
           "   wyśle im jutro list od kibiców cracovii że chcą odejścia Filipiaka.Ciekawe czy też opublikują."
          ],
          [
           "  A kiedy zaczniecie zbiórki na krówki i świnki?"
          ],
          [
           " No to skąd wiedziałeś czy stopklatka jest zrobiona w odpowiednim momencie ? Nie kompromituj się"
          ],
          [
           "   Iza - dziewczyna, cud, miód, malina 😁"
          ],
          [
           "Zaraz pół mojego instagrama i cały Twitter będzie na koncercie Eda.... i jestem jeszcze ja............"
          ],
          [
           " Z tamtego Adama dziś już nic nie zostało. Ale czepianie się go za brata i ojca osobiście nie popieram"
          ],
          [
           "  Plujecie na Polskę to my będziemy pluć na was."
          ],
          [
           "    Plujecie na Polskę to my będziemy pluć na was."
          ],
          [
           " Może też być kołderka 😍"
          ],
          [
           " Dlaczego średnio? W decydujacym o awansie Widzewa czerwcu był piłkarzem miesiąca"
          ],
          [
           " błedem było ściaganie zawodników których nas niestać byleby osiągnąć cel"
          ],
          [
           " Każdy kto choć trochę się orientuje w tych sprawach wie, że na Hutniku nie ma oświetlenia..."
          ],
          [
           " Maliniak dal reklame za dormo ponoć caly marsz niepodleglosci ubrali, prawda to redisbad?"
          ],
          [
           " niech wejdzie na luzie i pewnie tak żeby nie musiał zostawiać dokumentu, milion osób tak przemyciłam"
          ],
          [
           " Cie zaraz piznę, jak nie zaczniesz myśleć"
          ],
          [
           "  Bo byliśmy bez formy, to oczywiste. Przecież to też napisałem."
          ],
          [
           " jest juz aktualizacja składów czy jakis dodatek sciągałeś ? :)"
          ],
          [
           " Komentarz raz a dwa słysząc trybuny zastanawiam się czy ten kto wymyślił mecze w pn obejrzał choć jeden"
          ],
          [
           "      Mam nadzieję że nigdy więcej. Czekam na rychłą delegalizację."
          ],
          [
           " A Ty nigdy nie robisz dwóch rzeczy jednocześnie? Np. idziesz i żujesz gumę."
          ],
          [
           "  O 11.00 wielkie obtrabienie sukcesu..."
          ],
          [
           "  Ty kurwa  nie pierdol w tv bo sie żygać chce"
          ],
          [
           " problemem jest to że jak sobie coś ubzdurasz to myślisz że zawsze masz racje bo jesteś wszechwiedzący "
          ],
          [
           " Taki Błaszczykowski tez za co do repry?  Żeby niebylo ze wbijam szpilki do legi?"
          ],
          [
           "Często wracam do tego kawałka. "
          ],
          [
           " A pisdzielstwo, szczury, gady, plazy popromienne, azbestowe?"
          ],
          [
           "omg ale jestem wyjebana po tym wykładzie"
          ],
          [
           "  jak Zarycki jest Twoim informatorem to te info można w kiblu spuścić"
          ],
          [
           "  Ale Karolina ostatnio była w TVP 😜"
          ],
          [
           "#NAME?"
          ],
          [
           "  U mnie też wyświetla właściwe kolory 😊"
          ],
          [
           "  Najpierw kasza, później przyjemności, a kiedyś wolność, ale wy klękacie bez obawy zostanie i tak bez was"
          ],
          [
           "   No oboje Państwo wyglądacie jak rodzeństwo. I tacy żółci oboje."
          ],
          [
           " No kurwa  ty masz nie rządzić, madz nie rządzić"
          ],
          [
           "Yerri Mina - złota piłka 😁"
          ],
          [
           " jeszcze nie mam planu wykonania ;-)"
          ],
          [
           " Śląsk Wrocław ma jakiś drugi podmiot, że wystawia drugi zespół w barażach?"
          ],
          [
           " personalnie do tej Pani, przyjrzyj się sobie   ,  "
          ],
          [
           "Nie wiem, jak Barcelona i Real otrząsną się po utracie tak ważnych piłkarzy, jak Paulinho i Cristiano Ronaldo."
          ],
          [
           "Polska zrealizowala nasze cele w UE na szczycie z nawiązką. Podajcie dalej  koniecznie potrzebne - dziękuję😊\\nhttps://t.co/OzUaePZLpY"
          ],
          [
           "  Polska zrealizowala nasze cele w UE na szczycie z nawiązką. Podajcie dalej  koniecznie potrzebne - dziękuję😊\\nhttps://t.co/Oz…"
          ],
          [
           "   A my nie mamy helikopterów, rakiet, łodzi podwodnych a mamy WOT w którym ja biegam"
          ],
          [
           "  A czego oczekiwałeś ? Przedłużą z kimś kontrakt to poinformują"
          ],
          [
           " Jeszcze Podolski od jakiegoś czasu."
          ],
          [
           "Przepraszamy. Nie wpadliśmy na to, że pokazując środkowy palec narodowi, który - ponad podziałami, czci #PW1944, możemy kogoś obrazić. Sorki"
          ],
          [
           " ahhh myślałam, że na jakieś innej stronie"
          ],
          [
           " Źle... Miałeś napisać, że nie możesz więcej zdradzić :("
          ],
          [
           " Pan w tle, z lewej, to z mopem zasuwa? 🖒"
          ],
          [
           "Czy naprawdę trzeba publicznie przyznawać się do nieprzygotowania do meczu, drodzy panowie komentatorzy? (kwestia Sheridana)"
          ],
          [
           "Na tt te beznadziejne gadki o niczym, to już wolę sam ze sobą"
          ],
          [
           " Pamiętaj, ze ja daleko do ciebie nie mam 😂"
          ],
          [
           " Pomysł sobie ze ja oblałam bo z pełna świadomością wjebalam się na rondo XD widzisz to taki mały błąd, Ew"
          ],
          [
           " Jest tej chołoty tutaj całkiem sporo. Napewno się udzielają."
          ],
          [
           " Hejka, hejka, sejonarka w czwartek o 11 juz do domku"
          ],
          [
           "  Mistrz, człowiek mem jedyny na świecie"
          ],
          [
           "   York czy Leszek Miller? :)"
          ],
          [
           " Kiedys kazdy kopniak bez piłki = czerwona, a jeśli to było tylko położenie ręki na głowę, to nie mamy o czym rozmawiac :)"
          ],
          [
           "Morawieckiemu coś nie idzie w Namysłowie. Teraz jako były prezes BZK WBK przedstawia się jaki ten, który zwalcza \\\"zachodnie korporacje\\\"."
          ],
          [
           "  Morawieckiemu coś nie idzie w Namysłowie. Teraz jako były prezes BZK WBK przedstawia się jaki ten, który zwalcza \\\"zacho…"
          ],
          [
           " No widzisz, a zwycięską asystę w tym meczu zanotował Griezmann. MVP = najbardziej wartościowy zawodnik :)"
          ],
          [
           " do domu bo ci rózga dupę  ty mały  "
          ],
          [
           "Jak go pierwszy raz usłyszałam to miałam ciarki na całym ciele"
          ],
          [
           " kibice nigdy nie pozwolą na to żeby po raz kolejny był trenerem"
          ],
          [
           "Teraz zarykam nos i mowie \\\"cała polska z was sie śmieje, komuniści i zlodzieje,"
          ],
          [
           " Jego tata tłumaczył konferencję przy okazji meczu z Rio Ave w Vila do Conde :)"
          ],
          [
           " a wyśmiewanie Lionela M. było po skazaniu go za oszustwa podatkowe ? bo jakoś przeoczyłem"
          ],
          [
           "   życzę Gatcie mistrza bo zasługują na to grając 2 sezony na wysokim poziomie."
          ],
          [
           " Plakat widzę tak  z   wymiana spojrzeń  a  na kolanach liże ich po stopach"
          ],
          [
           " Pana zdanie nie interesuje Polaków ❗\\nWypchaj się Pan niemiecką, śmierdzącą onucą ❗"
          ],
          [
           "   Pana zdanie nie interesuje Polaków ❗\\nWypchaj się Pan niemiecką, śmierdzącą onucą ❗"
          ],
          [
           "  Mógł, ale jakoś nie chce mi się wierzyć, że tak to wyglądało."
          ],
          [
           "em ok wątek Jerzego i Zuzy w Przyjaciółkach to najlepsze co tam było kiedykolwiek"
          ],
          [
           "   Giertych: myślę, że myślę."
          ],
          [
           "Ostatnio się zrobiłam polityczna chyba studia weszły mi za mocno"
          ],
          [
           " Badziewny zespół, a i tak Anglicy byli o krok od straty punktów :)"
          ],
          [
           " nawet pasy to dla was za duże wyzwanie co widać po twoim profilowym.Mistrzowie opraw."
          ],
          [
           " nie chodziło mi o to że się cieszyłeś z upadku Wisły tylko że masz czarny humor :) że się z Wisły na Chojnice przerzuciłem :)"
          ],
          [
           "Ta drużyna powstała za czasów PO-PSL."
          ],
          [
           "  Ta drużyna powstała za czasów PO-PSL."
          ],
          [
           " Hołd to się oddaje bohaterom...."
          ],
          [
           "   a co ma procent zapelnienia pojemnosci do frekwencji ? Po za tym co to jest 50% na takim malym stadionie ?"
          ],
          [
           "Spółka srebrna kapitał  7 mln,  w zarządzie sekretarka i kierowca Jarkacza"
          ],
          [
           " Haha  a ilu ty zapraszasz do studia co pierd...takie głupoty..."
          ],
          [
           "   Haha  a ilu ty zapraszasz do studia co pierd...takie głupoty..."
          ],
          [
           "Kto chce zrobić ze mna tea party??"
          ],
          [
           " Ale za to wystąpił równie błyskotliwy,inteligentny, merytoryczny,bystry poseł Kieeerwiiinski!!!"
          ],
          [
           " No gdzie, wszystko zależało od Lecha w ostatniej kolejce :D"
          ],
          [
           "Moja morda to takie spierdolenie ze zaraz rykne"
          ],
          [
           "  Moja morda to takie spierdolenie ze zaraz rykne"
          ],
          [
           "  No w różnych miejscach ludzie seks uprawiają. Dajcie spokój..."
          ],
          [
           " Ok boli, boli. Czarne katabasy, mordercy irlandzkich kobiet i sierot do kruchty i pokutować do końca życia za swoje występki."
          ],
          [
           "Czemu żaden tramwaj nie jedzie wtf"
          ],
          [
           " Tak, statystyki to kłamstwa. Za to wyciągnięcie jednej sytuacji z 90 minutowego meczu to bezcenny dowód."
          ],
          [
           "  Zamiast tego można znaleźć grafiki na różnych ekranach / telebimach w mieście."
          ],
          [
           " Niby sami świnie, a nic nie wiedzą"
          ],
          [
           " Ale co to ma do Mystka?"
          ],
          [
           " Serio chcecie cichego stadionu ?"
          ],
          [
           "Co to miało być? 😂"
          ],
          [
           " tego się niespodziewałem po Tobie... Zawiodłeś nas :D "
          ]
         ],
         "hovertemplate": "x=%{x}<br>y=%{y}<br>text=%{customdata[0]}<br>cluster=%{marker.color}<extra></extra>",
         "legendgroup": "",
         "marker": {
          "color": [
           1,
           1,
           1,
           1,
           1,
           1,
           1,
           1,
           1,
           1,
           1,
           1,
           1,
           1,
           1,
           -1,
           -1,
           1,
           -1,
           0,
           1,
           1,
           1,
           1,
           1,
           1,
           1,
           1,
           1,
           1,
           -1,
           -1,
           1,
           1,
           1,
           1,
           1,
           1,
           1,
           1,
           1,
           1,
           0,
           1,
           1,
           1,
           1,
           1,
           -1,
           -1,
           -1,
           1,
           -1,
           1,
           1,
           1,
           1,
           1,
           -1,
           1,
           1,
           1,
           1,
           1,
           1,
           1,
           -1,
           1,
           1,
           1,
           1,
           1,
           1,
           1,
           1,
           1,
           1,
           1,
           1,
           1,
           1,
           1,
           1,
           1,
           1,
           1,
           1,
           -1,
           -1,
           1,
           1,
           1,
           1,
           1,
           1,
           1,
           1,
           1,
           -1,
           1,
           1,
           1,
           1,
           1,
           -1,
           1,
           1,
           1,
           1,
           1,
           1,
           1,
           -1,
           -1,
           1,
           1,
           1,
           1,
           -1,
           1,
           -1,
           -1,
           1,
           1,
           1,
           1,
           1,
           -1,
           1,
           1,
           1,
           1,
           1,
           -1,
           1,
           1,
           1,
           1,
           1,
           1,
           1,
           1,
           1,
           1,
           1,
           1,
           1,
           1,
           1,
           1,
           1,
           1,
           1,
           -1,
           -1,
           1,
           -1,
           1,
           1,
           1,
           1,
           1,
           1,
           1,
           1,
           1,
           1,
           1,
           1,
           1,
           1,
           1,
           1,
           1,
           1,
           1,
           1,
           1,
           1,
           1,
           1,
           -1,
           -1,
           1,
           1,
           1,
           1,
           1,
           1,
           1,
           1,
           1,
           1,
           1,
           1,
           1,
           1,
           1,
           1,
           1,
           1,
           1,
           1,
           1,
           1,
           1,
           -1,
           1,
           1,
           1,
           1,
           1,
           1,
           1,
           1,
           1,
           1,
           1,
           1,
           1,
           1,
           1,
           1,
           1,
           1,
           1,
           1,
           1,
           1,
           1,
           1,
           1,
           1,
           1,
           1,
           1,
           1,
           1,
           1,
           -1,
           1,
           1,
           -1,
           -1,
           1,
           1,
           1,
           1,
           1,
           1,
           1,
           1,
           1,
           1,
           1,
           1,
           1,
           1,
           1,
           1,
           1,
           1,
           -1,
           1,
           1,
           1,
           -1,
           -1,
           1,
           1,
           1,
           1,
           -1,
           1,
           1,
           1,
           1,
           1,
           1,
           1,
           1,
           1,
           1,
           1,
           1,
           1,
           1,
           1,
           1,
           1,
           1,
           1,
           1,
           -1,
           1,
           1,
           1,
           1,
           1,
           1,
           1,
           1,
           1,
           1,
           1,
           1,
           1,
           1,
           1,
           -1,
           1,
           1,
           1,
           1,
           1,
           1,
           -1,
           -1,
           0,
           1,
           1,
           -1,
           1,
           1,
           1,
           1,
           1,
           1,
           1,
           1,
           -1,
           -1,
           1,
           1,
           -1,
           1,
           1,
           1,
           1,
           1,
           1,
           1,
           1,
           1,
           -1,
           -1,
           1,
           1,
           -1,
           1,
           1,
           1,
           1,
           1,
           1,
           1,
           1,
           1,
           1,
           1,
           1,
           1,
           1,
           1,
           -1,
           1,
           1,
           1,
           1,
           1,
           1,
           1,
           1,
           1,
           1,
           1,
           -1,
           -1,
           1,
           1,
           1,
           1,
           -1,
           -1,
           1,
           1,
           1,
           1,
           1,
           1,
           1,
           1,
           1,
           1,
           1,
           1,
           1,
           1,
           1,
           1,
           1,
           1,
           1,
           1,
           1,
           -1,
           -1,
           1,
           1,
           1,
           1,
           1,
           1,
           1,
           1,
           1,
           -1,
           1,
           1,
           1,
           1,
           1,
           1,
           1,
           1,
           1,
           1,
           1,
           1,
           1,
           1,
           1,
           1,
           1,
           1,
           1,
           1,
           1,
           1,
           1,
           1,
           1,
           1,
           -1,
           -1,
           1,
           1,
           0,
           1,
           1,
           1,
           1,
           1,
           1,
           1,
           1,
           1,
           -1,
           1,
           1,
           1,
           1,
           1,
           1,
           1,
           1,
           1,
           1,
           1,
           1,
           1,
           1,
           1,
           1,
           1,
           1,
           1,
           1,
           1,
           1,
           1,
           1,
           1,
           -1,
           1,
           1,
           1,
           1,
           1,
           1,
           1,
           1,
           1,
           1,
           1,
           0,
           0,
           1,
           -1,
           1,
           1,
           1,
           0,
           1,
           1,
           -1,
           -1,
           1,
           1,
           1,
           1,
           1,
           1,
           1,
           1,
           -1,
           1,
           1,
           1,
           1,
           1,
           1,
           1,
           1,
           1,
           1,
           1,
           1,
           -1,
           1,
           1,
           1,
           1,
           1,
           1,
           1,
           1,
           1,
           1,
           1,
           1,
           1,
           1,
           1,
           1,
           1,
           1,
           1,
           1,
           1,
           1,
           1,
           1,
           1,
           1,
           1,
           1,
           1,
           1,
           1,
           -1,
           -1,
           1,
           1,
           1,
           1,
           1,
           -1,
           -1,
           1,
           1,
           -1,
           1,
           1,
           1,
           1,
           -1,
           -1,
           1,
           1,
           1,
           1,
           1,
           1,
           1,
           1,
           -1,
           -1,
           1,
           1,
           1,
           1,
           1,
           -1,
           1,
           1,
           1,
           1
          ],
          "coloraxis": "coloraxis",
          "symbol": "circle"
         },
         "mode": "markers",
         "name": "",
         "orientation": "v",
         "showlegend": false,
         "type": "scatter",
         "x": [
          10.30246353149414,
          -3.3220582008361816,
          1.0644090175628662,
          2.5333359241485596,
          3.377474308013916,
          -4.441914081573486,
          -5.80036735534668,
          5.1319122314453125,
          3.2350783348083496,
          3.257615327835083,
          1.265434741973877,
          -2.4715096950531006,
          7.312655448913574,
          -14.448748588562012,
          -12.719822883605957,
          2.980933427810669,
          2.9809556007385254,
          -0.779406726360321,
          16.889707565307617,
          -19.105497360229492,
          -1.9216073751449585,
          -3.1048080921173096,
          3.2179107666015625,
          -2.0258564949035645,
          -2.608706474304199,
          -2.4474642276763916,
          -12.211894035339355,
          -5.1246843338012695,
          3.1275315284729004,
          1.7766660451889038,
          18.4063663482666,
          18.4063663482666,
          0.4461968243122101,
          3.3678207397460938,
          5.059675693511963,
          4.104305744171143,
          2.181558132171631,
          3.1471948623657227,
          -4.838256359100342,
          -1.0579320192337036,
          -6.686258792877197,
          -6.686351776123047,
          -17.458478927612305,
          4.813312530517578,
          6.747853755950928,
          -5.1895575523376465,
          -8.850810050964355,
          -0.8624832034111023,
          14.844137191772461,
          -11.951531410217285,
          -11.951574325561523,
          5.4801740646362305,
          -8.541486740112305,
          9.987656593322754,
          11.074530601501465,
          13.880888938903809,
          -9.198142051696777,
          3.76957631111145,
          16.95543670654297,
          -14.149003028869629,
          -4.362858295440674,
          -5.432720184326172,
          -9.375432014465332,
          0.176102876663208,
          -11.228456497192383,
          -6.586423873901367,
          7.84771728515625,
          0.9817729592323303,
          -0.5221002697944641,
          0.005669972859323025,
          5.45238733291626,
          7.333145618438721,
          9.697840690612793,
          8.708742141723633,
          6.186915874481201,
          -5.578770637512207,
          -9.725464820861816,
          13.900786399841309,
          0.9030226469039917,
          12.732809066772461,
          -4.342372894287109,
          -15.129587173461914,
          -9.396956443786621,
          -6.227066516876221,
          -6.1770429611206055,
          -3.250462055206299,
          -1.5703680515289307,
          -7.247500419616699,
          -7.247628211975098,
          14.586856842041016,
          -3.7413723468780518,
          4.91511869430542,
          3.8827948570251465,
          7.245769500732422,
          13.846214294433594,
          6.796919822692871,
          -8.356986045837402,
          -3.3328311443328857,
          -1.982387661933899,
          -4.983326435089111,
          8.580072402954102,
          -9.142422676086426,
          -1.9067115783691406,
          10.234021186828613,
          -14.509078025817871,
          -7.496932029724121,
          8.408684730529785,
          -0.2902637720108032,
          0.8318371176719666,
          -8.536062240600586,
          -11.896869659423828,
          -11.89681339263916,
          -19.083282470703125,
          -19.083282470703125,
          5.609185218811035,
          9.703388214111328,
          -6.749940872192383,
          -6.772403717041016,
          -2.3207714557647705,
          -16.81601333618164,
          6.6393232345581055,
          6.6393232345581055,
          8.950904846191406,
          -6.874420166015625,
          -13.410063743591309,
          -1.705855369567871,
          1.949579119682312,
          0.35410282015800476,
          7.521011829376221,
          5.983965873718262,
          12.334156036376953,
          -13.361281394958496,
          -0.6936832666397095,
          -11.856987953186035,
          -2.6166820526123047,
          -6.566330909729004,
          -8.951239585876465,
          -12.777555465698242,
          -4.010898113250732,
          -4.47100305557251,
          -2.85286283493042,
          -0.3107847571372986,
          0.49385586380958557,
          2.221266031265259,
          0.5378835201263428,
          -2.3180341720581055,
          14.57048225402832,
          14.570356369018555,
          -4.382260322570801,
          -5.653173446655273,
          0.8807218670845032,
          1.5266687870025635,
          2.6164119243621826,
          -4.823117256164551,
          -4.823117256164551,
          -0.7218531966209412,
          -8.119826316833496,
          4.504364967346191,
          0.8643572926521301,
          6.707112789154053,
          11.738540649414062,
          5.2589111328125,
          0.47409695386886597,
          2.0582971572875977,
          -0.8074826002120972,
          10.460297584533691,
          -5.961711883544922,
          13.542278289794922,
          8.486266136169434,
          -9.58894157409668,
          2.554748058319092,
          -4.243535995483398,
          -6.237804412841797,
          -5.546701431274414,
          1.674439549446106,
          10.253287315368652,
          2.5640504360198975,
          9.089712142944336,
          5.523855209350586,
          -1.5495762825012207,
          -3.5151662826538086,
          1.8278805017471313,
          1.8278805017471313,
          -0.33599960803985596,
          -8.796621322631836,
          5.076266765594482,
          0.7702932953834534,
          0.41296184062957764,
          0.4184618890285492,
          3.552729606628418,
          9.319117546081543,
          1.156819462776184,
          -7.509683132171631,
          4.333182334899902,
          4.6166582107543945,
          -9.206214904785156,
          3.769131898880005,
          3.290027379989624,
          -13.340639114379883,
          7.604486465454102,
          7.567169189453125,
          8.469948768615723,
          3.971531867980957,
          -13.341666221618652,
          -13.341666221618652,
          2.9359426498413086,
          -16.556198120117188,
          5.79341983795166,
          -8.773755073547363,
          -14.79334545135498,
          12.661539077758789,
          -1.0431783199310303,
          0.8288165330886841,
          -4.158466339111328,
          3.658762216567993,
          -5.844614505767822,
          -6.628114223480225,
          7.044061660766602,
          8.426013946533203,
          1.15297269821167,
          11.072566986083984,
          13.959603309631348,
          -6.887030601501465,
          3.526416778564453,
          -12.309775352478027,
          6.568341255187988,
          2.2264761924743652,
          -8.707986831665039,
          -13.729005813598633,
          -9.078958511352539,
          9.598615646362305,
          6.674656867980957,
          4.16439151763916,
          6.022289276123047,
          3.8959364891052246,
          -7.499960422515869,
          12.350173950195312,
          -7.5162153244018555,
          3.85209584236145,
          17.297208786010742,
          -2.374246120452881,
          -9.71375846862793,
          -15.88271713256836,
          -15.882962226867676,
          0.9854140281677246,
          -0.28751593828201294,
          6.236826419830322,
          9.603531837463379,
          -14.65591812133789,
          3.1157851219177246,
          2.30470609664917,
          6.129969120025635,
          -1.910703420639038,
          -5.416954040527344,
          -5.416905403137207,
          -11.858885765075684,
          0.4199981689453125,
          -0.7864800691604614,
          3.490274667739868,
          4.936468601226807,
          3.041693687438965,
          -8.528769493103027,
          6.438154697418213,
          8.105748176574707,
          6.118113994598389,
          9.813090324401855,
          -16.474945068359375,
          -16.474945068359375,
          3.358677387237549,
          9.376750946044922,
          2.45119309425354,
          1.9137452840805054,
          -16.674911499023438,
          -5.616654872894287,
          -1.6892260313034058,
          2.2022976875305176,
          6.330337047576904,
          -3.4620797634124756,
          3.353208065032959,
          -11.141547203063965,
          -3.5596537590026855,
          -10.993325233459473,
          -9.240212440490723,
          0.16678950190544128,
          0.16689851880073547,
          -7.029897689819336,
          -9.007494926452637,
          5.536847114562988,
          6.638702869415283,
          -12.818449974060059,
          5.960941791534424,
          -10.723310470581055,
          12.495635032653809,
          14.459007263183594,
          -3.0834641456604004,
          -4.587601661682129,
          -4.008978843688965,
          9.255406379699707,
          -0.9922510385513306,
          -8.435474395751953,
          0.44383251667022705,
          -10.523672103881836,
          -4.685017108917236,
          3.085442066192627,
          -0.43391817808151245,
          -12.362446784973145,
          -12.370882034301758,
          0.09286948293447495,
          4.237796783447266,
          -15.012868881225586,
          -6.65147590637207,
          -7.108973979949951,
          10.754362106323242,
          3.391089916229248,
          12.36178207397461,
          6.515415668487549,
          -16.675748825073242,
          -16.675748825073242,
          -17.592788696289062,
          0.8500655293464661,
          3.2130236625671387,
          13.9254150390625,
          -2.818882465362549,
          -7.272144794464111,
          9.890862464904785,
          10.114243507385254,
          -8.423449516296387,
          -10.046746253967285,
          3.9396309852600098,
          8.440886497497559,
          -3.984142303466797,
          5.287516117095947,
          -4.360816955566406,
          6.9154510498046875,
          12.71332836151123,
          -8.388402938842773,
          8.092057228088379,
          3.323575973510742,
          4.564035415649414,
          8.671133995056152,
          -2.6009862422943115,
          6.373051643371582,
          7.38962984085083,
          4.7870683670043945,
          8.480079650878906,
          8.47992992401123,
          -4.465235233306885,
          -9.89285659790039,
          14.455660820007324,
          6.8026909828186035,
          3.583122491836548,
          5.958963394165039,
          -11.864831924438477,
          -0.5226852893829346,
          -0.6966868042945862,
          7.157644271850586,
          7.070335865020752,
          -8.235058784484863,
          11.032478332519531,
          9.114566802978516,
          4.4844536781311035,
          9.386617660522461,
          -11.151277542114258,
          7.960358619689941,
          14.875526428222656,
          -2.168804168701172,
          -2.1686174869537354,
          -4.382584095001221,
          -3.7956559658050537,
          3.006809711456299,
          -7.296386241912842,
          4.155252456665039,
          7.142765045166016,
          5.137941360473633,
          0.5629318356513977,
          -9.919597625732422,
          10.83662223815918,
          16.749099731445312,
          -5.344525337219238,
          11.684139251708984,
          5.236603260040283,
          9.982393264770508,
          -4.187171936035156,
          -4.18717098236084,
          7.593836784362793,
          -5.7886505126953125,
          9.647787094116211,
          -9.48465633392334,
          -10.873684883117676,
          -10.873684883117676,
          -3.376572847366333,
          0.6931334137916565,
          -3.155252695083618,
          7.8284382820129395,
          -9.476895332336426,
          -9.47681999206543,
          9.542303085327148,
          8.949177742004395,
          -0.6821311116218567,
          6.9911112785339355,
          2.2140846252441406,
          4.965292930603027,
          2.7440598011016846,
          -5.872302532196045,
          2.241673707962036,
          -20.603469848632812,
          -20.603469848632812,
          -6.387007236480713,
          -1.6433199644088745,
          13.364026069641113,
          -2.7125020027160645,
          -9.178675651550293,
          -0.9183928370475769,
          -7.7555012702941895,
          -0.16572344303131104,
          7.975167274475098,
          -8.399527549743652,
          11.062939643859863,
          9.447834968566895,
          -3.0494000911712646,
          -3.9105825424194336,
          -3.9105136394500732,
          4.734769821166992,
          10.646414756774902,
          0.5988870859146118,
          -0.11677161604166031,
          2.3975751399993896,
          2.3976025581359863,
          -10.090280532836914,
          -10.089971542358398,
          -1.7222204208374023,
          -1.722130537033081,
          -10.463790893554688,
          4.410213947296143,
          1.7323716878890991,
          -2.781721353530884,
          -6.5883870124816895,
          6.41327428817749,
          -7.227156162261963,
          -10.131887435913086,
          -0.6091408133506775,
          10.329304695129395,
          -11.709259986877441,
          -10.558614730834961,
          -10.558614730834961,
          4.504679203033447,
          10.361452102661133,
          -19.37140464782715,
          9.457283973693848,
          -3.0878546237945557,
          -0.8540623188018799,
          -9.915728569030762,
          4.083629131317139,
          -2.077004909515381,
          -2.0769500732421875,
          -11.574865341186523,
          1.5098471641540527,
          9.07203197479248,
          0.06999295204877853,
          8.436673164367676,
          -12.40131950378418,
          -5.049476623535156,
          -3.98596453666687,
          1.6066261529922485,
          -11.862378120422363,
          -7.184512138366699,
          2.3597874641418457,
          -9.230398178100586,
          -12.266509056091309,
          1.6323277950286865,
          4.693087577819824,
          -4.379966735839844,
          5.912099838256836,
          5.316861629486084,
          6.754307746887207,
          -7.816318511962891,
          -10.199556350708008,
          10.898499488830566,
          -3.4904420375823975,
          4.865139961242676,
          -11.36157512664795,
          5.508701324462891,
          7.309667587280273,
          9.0661039352417,
          7.963507652282715,
          2.1316075325012207,
          2.2273213863372803,
          7.796214580535889,
          1.539060115814209,
          -13.638762474060059,
          -4.172624588012695,
          -12.800347328186035,
          8.425986289978027,
          8.175518989562988,
          1.3909515142440796,
          -18.82920265197754,
          -18.82920265197754,
          -8.154940605163574,
          -0.920903205871582,
          2.3408119678497314,
          -3.8454082012176514,
          2.5428428649902344,
          -17.425390243530273,
          7.794556617736816,
          4.899466037750244,
          -12.209968566894531,
          -12.209968566894531,
          11.511739730834961,
          -7.884129047393799,
          11.372093200683594,
          4.147953510284424,
          -2.8975112438201904,
          8.51273250579834,
          11.99766731262207,
          4.248598098754883,
          11.858874320983887,
          5.775557518005371,
          6.856224536895752,
          5.1538262367248535,
          -11.727543830871582,
          5.576744556427002,
          6.531579971313477,
          -4.755243301391602,
          3.31794810295105,
          -4.756457805633545,
          0.4618684947490692,
          2.312045097351074,
          -5.297061920166016,
          -6.432592868804932,
          10.639245986938477,
          -0.2234966903924942,
          -2.965806722640991,
          5.6791558265686035,
          -14.064315795898438,
          3.526427984237671,
          5.006187915802002,
          0.9287262558937073,
          -3.8891892433166504,
          -8.439249992370605,
          -8.430545806884766,
          -1.3736140727996826,
          -0.7396277189254761,
          4.255368709564209,
          1.1048259735107422,
          -6.914412021636963,
          12.326702117919922,
          -13.478001594543457,
          2.504467725753784,
          -1.67994225025177,
          1.438197135925293,
          -2.543910026550293,
          13.682778358459473,
          -11.832146644592285,
          0.7272838354110718,
          -0.7673981785774231,
          1.6946278810501099,
          -0.384244441986084,
          -0.377388060092926,
          -10.770434379577637,
          2.2289791107177734,
          16.172958374023438,
          16.525705337524414,
          -5.237636566162109,
          -12.170780181884766,
          -7.221627712249756,
          -4.745199203491211,
          -1.123346209526062,
          14.245429992675781,
          14.245314598083496,
          7.47456693649292,
          -7.830413818359375,
          -5.938824653625488,
          -0.7147165536880493,
          -13.582956314086914,
          0.6814059019088745,
          -2.7785215377807617,
          -16.578542709350586,
          -16.578542709350586,
          -0.6770240664482117,
          -8.299234390258789,
          -12.806251525878906,
          3.606369972229004,
          3.606369972229004,
          12.179510116577148,
          -1.1609070301055908,
          -7.751584053039551,
          -1.41167414188385,
          -1.4117684364318848,
          -1.3793312311172485,
          -5.1898579597473145,
          1.0599397420883179,
          -7.298569679260254,
          -7.648169040679932,
          0.29391130805015564,
          -8.069657325744629,
          -1.409239649772644,
          -7.719985008239746,
          12.438334465026855
         ],
         "xaxis": "x",
         "y": [
          -4.687646865844727,
          3.4114205837249756,
          -13.524801254272461,
          -1.0566966533660889,
          -8.426891326904297,
          3.448422908782959,
          9.941669464111328,
          3.138822555541992,
          -4.200441360473633,
          12.058040618896484,
          6.807248115539551,
          -4.251527786254883,
          -9.92116641998291,
          -7.182892799377441,
          1.404231071472168,
          -16.11664581298828,
          -16.11665916442871,
          8.890380859375,
          -4.533957481384277,
          -6.0664381980896,
          -6.951698303222656,
          7.325144290924072,
          -12.491375923156738,
          -0.44642025232315063,
          4.6847615242004395,
          11.657759666442871,
          -4.5384674072265625,
          4.778737545013428,
          4.845611572265625,
          4.060247898101807,
          4.820462703704834,
          4.820462703704834,
          -14.877788543701172,
          -14.686957359313965,
          5.164240837097168,
          3.7516019344329834,
          -1.9874547719955444,
          13.447721481323242,
          7.269932270050049,
          -8.224319458007812,
          -7.65722131729126,
          -7.657046794891357,
          -3.979480504989624,
          15.911823272705078,
          9.225516319274902,
          -7.424062728881836,
          4.121162414550781,
          -4.533669471740723,
          10.480189323425293,
          -15.146740913391113,
          -15.14682674407959,
          6.693021297454834,
          -14.835177421569824,
          2.85392689704895,
          3.1514503955841064,
          -0.9856851696968079,
          6.959120273590088,
          0.49680373072624207,
          2.1240041255950928,
          0.25758594274520874,
          -15.96993637084961,
          -3.1265130043029785,
          -4.252888202667236,
          7.148606777191162,
          -3.5701639652252197,
          -4.03920316696167,
          -13.283795356750488,
          8.975482940673828,
          3.4652509689331055,
          -6.0679931640625,
          -0.13961182534694672,
          -4.032526969909668,
          -9.178370475769043,
          -5.704005241394043,
          2.194124460220337,
          -12.740845680236816,
          -8.795578002929688,
          -7.173124313354492,
          10.314887046813965,
          3.0724070072174072,
          11.182636260986328,
          -2.2522053718566895,
          2.315062999725342,
          -5.538726806640625,
          -5.52977180480957,
          6.2229180335998535,
          13.05418872833252,
          -14.732748985290527,
          -14.73210334777832,
          1.5192674398422241,
          2.5432076454162598,
          -10.955790519714355,
          -12.638487815856934,
          6.1411333084106445,
          0.9061468839645386,
          -6.017749309539795,
          -3.0025415420532227,
          -10.109265327453613,
          -18.254079818725586,
          -5.592391014099121,
          -4.379386901855469,
          -3.01651668548584,
          -4.537190914154053,
          2.2714977264404297,
          7.0079240798950195,
          -3.8497188091278076,
          5.321943759918213,
          -1.5679829120635986,
          -0.35610899329185486,
          -10.935185432434082,
          -9.379819869995117,
          -9.379823684692383,
          4.934895992279053,
          4.934895992279053,
          -6.67617654800415,
          9.02372932434082,
          -10.452469825744629,
          -8.53934097290039,
          15.354068756103516,
          -1.3862401247024536,
          -13.62356185913086,
          -13.62356185913086,
          -2.0860016345977783,
          11.07142162322998,
          3.2046360969543457,
          4.040635108947754,
          1.3617334365844727,
          -16.803802490234375,
          8.705516815185547,
          -2.3585331439971924,
          5.041529655456543,
          -4.3870062828063965,
          3.1396517753601074,
          9.902724266052246,
          3.100234270095825,
          5.477092742919922,
          -6.99476957321167,
          -9.765780448913574,
          -9.32543659210205,
          0.2780844271183014,
          0.44613412022590637,
          -10.897968292236328,
          1.8963674306869507,
          -0.11647269874811172,
          0.9415268301963806,
          -1.7364462614059448,
          -7.799323081970215,
          -7.799185276031494,
          -8.636314392089844,
          -10.155329704284668,
          -7.796637535095215,
          3.803039312362671,
          -2.6565418243408203,
          17.203588485717773,
          17.203588485717773,
          -12.232929229736328,
          15.142119407653809,
          -5.17872953414917,
          0.8595461845397949,
          0.46493974328041077,
          7.275649547576904,
          12.336767196655273,
          -12.459351539611816,
          -3.0759451389312744,
          10.396824836730957,
          4.549828052520752,
          0.0733790174126625,
          -9.518343925476074,
          6.891462326049805,
          7.94893217086792,
          2.981569528579712,
          -9.150240898132324,
          2.163682460784912,
          3.627985954284668,
          8.598030090332031,
          6.618202209472656,
          3.4162113666534424,
          3.7510337829589844,
          4.7342424392700195,
          0.33327266573905945,
          8.976763725280762,
          20.541664123535156,
          20.541664123535156,
          11.966925621032715,
          -12.467015266418457,
          8.64067268371582,
          2.773369312286377,
          -15.527947425842285,
          -15.505574226379395,
          14.96016788482666,
          -0.5129559636116028,
          11.809821128845215,
          -10.05146312713623,
          12.770051002502441,
          -4.119776248931885,
          9.459895133972168,
          -2.4213595390319824,
          0.23428870737552643,
          -11.611624717712402,
          1.3147075176239014,
          -0.3565512001514435,
          -5.692364692687988,
          -4.636805534362793,
          -13.634726524353027,
          -13.634726524353027,
          -2.343454599380493,
          1.2479472160339355,
          -4.191115856170654,
          -1.793125867843628,
          -7.972164630889893,
          -1.3606390953063965,
          -13.71515941619873,
          -3.124866247177124,
          8.964995384216309,
          -6.349748134613037,
          0.0671558529138565,
          -13.85566520690918,
          4.299742698669434,
          -7.062639236450195,
          -2.300712823867798,
          6.697443962097168,
          -5.33910608291626,
          7.489875793457031,
          -0.857817530632019,
          6.087918281555176,
          -5.489129543304443,
          5.673086166381836,
          2.3320274353027344,
          2.0548439025878906,
          -7.400328636169434,
          -10.256007194519043,
          0.3637123107910156,
          7.811633586883545,
          -1.9478859901428223,
          10.876850128173828,
          1.2224740982055664,
          2.640181064605713,
          8.386432647705078,
          6.682162284851074,
          -2.9029152393341064,
          5.918076038360596,
          0.14232487976551056,
          4.3051652908325195,
          4.305243015289307,
          -0.9516770243644714,
          0.04397701844573021,
          11.800065994262695,
          4.904151916503906,
          -5.047630786895752,
          3.7946391105651855,
          -5.2003560066223145,
          3.336085081100464,
          -5.277381420135498,
          8.063824653625488,
          8.063809394836426,
          -5.8317975997924805,
          3.2572898864746094,
          -3.4353883266448975,
          5.057532787322998,
          1.770735263824463,
          -8.826888084411621,
          2.4042599201202393,
          -14.04348087310791,
          4.596766471862793,
          -7.973695755004883,
          -6.330373287200928,
          10.024192810058594,
          10.024192810058594,
          -9.54710865020752,
          2.6440141201019287,
          -9.94722843170166,
          -8.673125267028809,
          1.133002519607544,
          -8.986799240112305,
          6.7356157302856445,
          4.490608215332031,
          1.2829850912094116,
          -8.13651180267334,
          6.602100372314453,
          5.411077499389648,
          13.699834823608398,
          3.1626412868499756,
          -9.891986846923828,
          -2.3139820098876953,
          -2.31382155418396,
          3.945016384124756,
          -1.4176627397537231,
          -4.001545429229736,
          -2.0516786575317383,
          -4.494162559509277,
          1.9236867427825928,
          6.881796360015869,
          -5.1833038330078125,
          -11.820613861083984,
          -9.05576229095459,
          -10.887258529663086,
          5.3174567222595215,
          6.15109395980835,
          -0.9307590126991272,
          -5.21736478805542,
          4.231965065002441,
          -10.42623519897461,
          4.394224643707275,
          13.352933883666992,
          10.831277847290039,
          2.068307876586914,
          2.007230281829834,
          -12.377930641174316,
          5.8112616539001465,
          -8.293272018432617,
          5.296743392944336,
          8.840795516967773,
          6.13886833190918,
          9.584424018859863,
          -5.187558650970459,
          -0.8011770248413086,
          -11.381683349609375,
          -11.381683349609375,
          -3.9806244373321533,
          5.875859260559082,
          8.173922538757324,
          7.210226058959961,
          -16.256431579589844,
          -2.5240719318389893,
          9.374513626098633,
          -1.5903700590133667,
          -9.090628623962402,
          -4.744717597961426,
          2.2870607376098633,
          0.768267035484314,
          -20.411014556884766,
          -18.34253692626953,
          -1.8374385833740234,
          10.044544219970703,
          11.938404083251953,
          6.1072492599487305,
          11.992327690124512,
          1.3342021703720093,
          -0.9838199615478516,
          2.499871015548706,
          -1.7797287702560425,
          -0.8952211737632751,
          -0.15737856924533844,
          -2.761815309524536,
          -16.794845581054688,
          -16.794837951660156,
          6.355164051055908,
          0.15539930760860443,
          5.269896984100342,
          12.848323822021484,
          2.360710620880127,
          5.1381049156188965,
          8.007126808166504,
          2.4604172706604004,
          4.496976375579834,
          -1.8719062805175781,
          6.404048919677734,
          -4.632321834564209,
          -0.20025983452796936,
          10.113787651062012,
          1.430688738822937,
          13.52402400970459,
          -9.450935363769531,
          -0.11498335748910904,
          3.9414641857147217,
          1.8885830640792847,
          1.888641595840454,
          0.48578959703445435,
          -5.31425142288208,
          15.875099182128906,
          -2.109689235687256,
          -2.6812453269958496,
          2.175448417663574,
          0.5205498337745667,
          -10.586834907531738,
          -5.79474401473999,
          -12.78034496307373,
          -0.05571169778704643,
          12.447652816772461,
          -3.0859627723693848,
          12.080724716186523,
          -2.9816854000091553,
          -15.612810134887695,
          -15.613001823425293,
          -10.844757080078125,
          -1.77926766872406,
          -3.0416839122772217,
          -5.451201915740967,
          -7.347485065460205,
          -7.347485065460205,
          -5.791110038757324,
          -4.97211217880249,
          2.7128853797912598,
          -2.3117871284484863,
          -12.011590003967285,
          -12.01134967803955,
          0.6920499801635742,
          1.7568016052246094,
          5.713649749755859,
          3.266547203063965,
          12.173176765441895,
          4.125246047973633,
          10.114521026611328,
          5.95400857925415,
          1.109352469444275,
          -9.991055488586426,
          -9.991055488586426,
          -1.4863053560256958,
          -10.755081176757812,
          -1.4588522911071777,
          1.3585923910140991,
          9.00686264038086,
          1.413321614265442,
          -0.022045593708753586,
          5.695127964019775,
          -8.439387321472168,
          12.743965148925781,
          0.17105111479759216,
          3.6811203956604004,
          -2.685025453567505,
          -1.7489519119262695,
          -1.7489808797836304,
          -1.1142932176589966,
          -7.691483497619629,
          8.036540031433105,
          -10.198671340942383,
          -11.704078674316406,
          -11.704216003417969,
          5.9931864738464355,
          5.993016242980957,
          -2.999561071395874,
          -2.9994189739227295,
          -2.6322436332702637,
          7.036614894866943,
          -6.78509521484375,
          -13.890567779541016,
          -12.001800537109375,
          -5.399310111999512,
          -6.784034729003906,
          4.511081695556641,
          14.516387939453125,
          11.381420135498047,
          -2.823063611984253,
          -17.991273880004883,
          -17.991273880004883,
          13.59638500213623,
          4.545687675476074,
          -4.939598560333252,
          -9.529181480407715,
          9.561112403869629,
          6.843245983123779,
          -12.183913230895996,
          8.374025344848633,
          7.766413688659668,
          7.7664690017700195,
          -0.08031059056520462,
          2.322235584259033,
          16.165428161621094,
          0.3455020785331726,
          2.711599826812744,
          -7.388253688812256,
          2.3344907760620117,
          11.098194122314453,
          5.4670538902282715,
          1.9511525630950928,
          9.795310974121094,
          6.814304828643799,
          -4.826249599456787,
          3.502586603164673,
          -2.5507688522338867,
          10.531185150146484,
          -12.709875106811523,
          -9.321918487548828,
          10.47741985321045,
          7.575427055358887,
          -3.893002510070801,
          11.428732872009277,
          1.732406735420227,
          -6.762381553649902,
          13.028474807739258,
          -5.029545307159424,
          7.80601692199707,
          14.349980354309082,
          16.1461238861084,
          8.450749397277832,
          -0.4120689928531647,
          2.1679587364196777,
          3.661076545715332,
          9.950886726379395,
          -5.802793502807617,
          4.331740379333496,
          -3.5770280361175537,
          -1.4470233917236328,
          -3.0315639972686768,
          -4.060220718383789,
          -5.456423759460449,
          -5.456423759460449,
          -3.4553983211517334,
          18.63045883178711,
          -5.188639163970947,
          1.684199571609497,
          10.096245765686035,
          -6.238941192626953,
          -8.034468650817871,
          2.824136257171631,
          13.884064674377441,
          13.884064674377441,
          4.634911060333252,
          -6.347449779510498,
          -1.6567951440811157,
          -0.48670855164527893,
          -11.792072296142578,
          -0.558168351650238,
          0.9323115348815918,
          8.62357234954834,
          11.785039901733398,
          -8.343295097351074,
          -2.9197945594787598,
          13.367958068847656,
          -11.471548080444336,
          14.865791320800781,
          9.586315155029297,
          -7.198054313659668,
          -6.4918904304504395,
          -11.448195457458496,
          4.518790245056152,
          7.509414196014404,
          -3.944547653198242,
          -17.48493766784668,
          -4.797829627990723,
          -3.770611524581909,
          -0.7609992623329163,
          13.97579288482666,
          -3.9775197505950928,
          -3.8446192741394043,
          -8.763617515563965,
          -6.08872652053833,
          -4.355386257171631,
          -9.537237167358398,
          -9.535680770874023,
          2.874643325805664,
          9.171305656433105,
          -6.848660945892334,
          -8.451990127563477,
          3.1383585929870605,
          9.302519798278809,
          -2.110599994659424,
          -6.0647292137146,
          5.09165620803833,
          4.998462200164795,
          5.400211811065674,
          -2.175079822540283,
          -1.4677571058273315,
          -9.524081230163574,
          -7.325868606567383,
          1.6748847961425781,
          -6.8903093338012695,
          -6.868704795837402,
          -3.4131577014923096,
          17.04379653930664,
          -3.7923402786254883,
          -3.851309299468994,
          -12.199555397033691,
          -7.2166972160339355,
          7.327966690063477,
          3.0924932956695557,
          -14.253143310546875,
          -11.213821411132812,
          -11.213943481445312,
          3.8004791736602783,
          5.917723655700684,
          14.38371467590332,
          1.3805781602859497,
          -0.14989465475082397,
          2.37200665473938,
          4.984442710876465,
          -14.768145561218262,
          -14.768145561218262,
          -9.802334785461426,
          8.61507511138916,
          -5.214800834655762,
          16.26932144165039,
          16.26932144165039,
          -7.049492359161377,
          -8.377564430236816,
          0.5499253869056702,
          18.8621826171875,
          18.862260818481445,
          -1.3191577196121216,
          -10.054224967956543,
          13.837789535522461,
          4.447239398956299,
          -5.069061279296875,
          16.09955406188965,
          9.163743019104004,
          10.37614917755127,
          10.673957824707031,
          -9.706941604614258
         ],
         "yaxis": "y"
        }
       ],
       "layout": {
        "coloraxis": {
         "colorbar": {
          "title": {
           "text": "cluster"
          }
         },
         "colorscale": [
          [
           0,
           "#0d0887"
          ],
          [
           0.1111111111111111,
           "#46039f"
          ],
          [
           0.2222222222222222,
           "#7201a8"
          ],
          [
           0.3333333333333333,
           "#9c179e"
          ],
          [
           0.4444444444444444,
           "#bd3786"
          ],
          [
           0.5555555555555556,
           "#d8576b"
          ],
          [
           0.6666666666666666,
           "#ed7953"
          ],
          [
           0.7777777777777778,
           "#fb9f3a"
          ],
          [
           0.8888888888888888,
           "#fdca26"
          ],
          [
           1,
           "#f0f921"
          ]
         ]
        },
        "legend": {
         "tracegroupgap": 0
        },
        "template": {
         "data": {
          "bar": [
           {
            "error_x": {
             "color": "#2a3f5f"
            },
            "error_y": {
             "color": "#2a3f5f"
            },
            "marker": {
             "line": {
              "color": "#E5ECF6",
              "width": 0.5
             },
             "pattern": {
              "fillmode": "overlay",
              "size": 10,
              "solidity": 0.2
             }
            },
            "type": "bar"
           }
          ],
          "barpolar": [
           {
            "marker": {
             "line": {
              "color": "#E5ECF6",
              "width": 0.5
             },
             "pattern": {
              "fillmode": "overlay",
              "size": 10,
              "solidity": 0.2
             }
            },
            "type": "barpolar"
           }
          ],
          "carpet": [
           {
            "aaxis": {
             "endlinecolor": "#2a3f5f",
             "gridcolor": "white",
             "linecolor": "white",
             "minorgridcolor": "white",
             "startlinecolor": "#2a3f5f"
            },
            "baxis": {
             "endlinecolor": "#2a3f5f",
             "gridcolor": "white",
             "linecolor": "white",
             "minorgridcolor": "white",
             "startlinecolor": "#2a3f5f"
            },
            "type": "carpet"
           }
          ],
          "choropleth": [
           {
            "colorbar": {
             "outlinewidth": 0,
             "ticks": ""
            },
            "type": "choropleth"
           }
          ],
          "contour": [
           {
            "colorbar": {
             "outlinewidth": 0,
             "ticks": ""
            },
            "colorscale": [
             [
              0,
              "#0d0887"
             ],
             [
              0.1111111111111111,
              "#46039f"
             ],
             [
              0.2222222222222222,
              "#7201a8"
             ],
             [
              0.3333333333333333,
              "#9c179e"
             ],
             [
              0.4444444444444444,
              "#bd3786"
             ],
             [
              0.5555555555555556,
              "#d8576b"
             ],
             [
              0.6666666666666666,
              "#ed7953"
             ],
             [
              0.7777777777777778,
              "#fb9f3a"
             ],
             [
              0.8888888888888888,
              "#fdca26"
             ],
             [
              1,
              "#f0f921"
             ]
            ],
            "type": "contour"
           }
          ],
          "contourcarpet": [
           {
            "colorbar": {
             "outlinewidth": 0,
             "ticks": ""
            },
            "type": "contourcarpet"
           }
          ],
          "heatmap": [
           {
            "colorbar": {
             "outlinewidth": 0,
             "ticks": ""
            },
            "colorscale": [
             [
              0,
              "#0d0887"
             ],
             [
              0.1111111111111111,
              "#46039f"
             ],
             [
              0.2222222222222222,
              "#7201a8"
             ],
             [
              0.3333333333333333,
              "#9c179e"
             ],
             [
              0.4444444444444444,
              "#bd3786"
             ],
             [
              0.5555555555555556,
              "#d8576b"
             ],
             [
              0.6666666666666666,
              "#ed7953"
             ],
             [
              0.7777777777777778,
              "#fb9f3a"
             ],
             [
              0.8888888888888888,
              "#fdca26"
             ],
             [
              1,
              "#f0f921"
             ]
            ],
            "type": "heatmap"
           }
          ],
          "heatmapgl": [
           {
            "colorbar": {
             "outlinewidth": 0,
             "ticks": ""
            },
            "colorscale": [
             [
              0,
              "#0d0887"
             ],
             [
              0.1111111111111111,
              "#46039f"
             ],
             [
              0.2222222222222222,
              "#7201a8"
             ],
             [
              0.3333333333333333,
              "#9c179e"
             ],
             [
              0.4444444444444444,
              "#bd3786"
             ],
             [
              0.5555555555555556,
              "#d8576b"
             ],
             [
              0.6666666666666666,
              "#ed7953"
             ],
             [
              0.7777777777777778,
              "#fb9f3a"
             ],
             [
              0.8888888888888888,
              "#fdca26"
             ],
             [
              1,
              "#f0f921"
             ]
            ],
            "type": "heatmapgl"
           }
          ],
          "histogram": [
           {
            "marker": {
             "pattern": {
              "fillmode": "overlay",
              "size": 10,
              "solidity": 0.2
             }
            },
            "type": "histogram"
           }
          ],
          "histogram2d": [
           {
            "colorbar": {
             "outlinewidth": 0,
             "ticks": ""
            },
            "colorscale": [
             [
              0,
              "#0d0887"
             ],
             [
              0.1111111111111111,
              "#46039f"
             ],
             [
              0.2222222222222222,
              "#7201a8"
             ],
             [
              0.3333333333333333,
              "#9c179e"
             ],
             [
              0.4444444444444444,
              "#bd3786"
             ],
             [
              0.5555555555555556,
              "#d8576b"
             ],
             [
              0.6666666666666666,
              "#ed7953"
             ],
             [
              0.7777777777777778,
              "#fb9f3a"
             ],
             [
              0.8888888888888888,
              "#fdca26"
             ],
             [
              1,
              "#f0f921"
             ]
            ],
            "type": "histogram2d"
           }
          ],
          "histogram2dcontour": [
           {
            "colorbar": {
             "outlinewidth": 0,
             "ticks": ""
            },
            "colorscale": [
             [
              0,
              "#0d0887"
             ],
             [
              0.1111111111111111,
              "#46039f"
             ],
             [
              0.2222222222222222,
              "#7201a8"
             ],
             [
              0.3333333333333333,
              "#9c179e"
             ],
             [
              0.4444444444444444,
              "#bd3786"
             ],
             [
              0.5555555555555556,
              "#d8576b"
             ],
             [
              0.6666666666666666,
              "#ed7953"
             ],
             [
              0.7777777777777778,
              "#fb9f3a"
             ],
             [
              0.8888888888888888,
              "#fdca26"
             ],
             [
              1,
              "#f0f921"
             ]
            ],
            "type": "histogram2dcontour"
           }
          ],
          "mesh3d": [
           {
            "colorbar": {
             "outlinewidth": 0,
             "ticks": ""
            },
            "type": "mesh3d"
           }
          ],
          "parcoords": [
           {
            "line": {
             "colorbar": {
              "outlinewidth": 0,
              "ticks": ""
             }
            },
            "type": "parcoords"
           }
          ],
          "pie": [
           {
            "automargin": true,
            "type": "pie"
           }
          ],
          "scatter": [
           {
            "fillpattern": {
             "fillmode": "overlay",
             "size": 10,
             "solidity": 0.2
            },
            "type": "scatter"
           }
          ],
          "scatter3d": [
           {
            "line": {
             "colorbar": {
              "outlinewidth": 0,
              "ticks": ""
             }
            },
            "marker": {
             "colorbar": {
              "outlinewidth": 0,
              "ticks": ""
             }
            },
            "type": "scatter3d"
           }
          ],
          "scattercarpet": [
           {
            "marker": {
             "colorbar": {
              "outlinewidth": 0,
              "ticks": ""
             }
            },
            "type": "scattercarpet"
           }
          ],
          "scattergeo": [
           {
            "marker": {
             "colorbar": {
              "outlinewidth": 0,
              "ticks": ""
             }
            },
            "type": "scattergeo"
           }
          ],
          "scattergl": [
           {
            "marker": {
             "colorbar": {
              "outlinewidth": 0,
              "ticks": ""
             }
            },
            "type": "scattergl"
           }
          ],
          "scattermapbox": [
           {
            "marker": {
             "colorbar": {
              "outlinewidth": 0,
              "ticks": ""
             }
            },
            "type": "scattermapbox"
           }
          ],
          "scatterpolar": [
           {
            "marker": {
             "colorbar": {
              "outlinewidth": 0,
              "ticks": ""
             }
            },
            "type": "scatterpolar"
           }
          ],
          "scatterpolargl": [
           {
            "marker": {
             "colorbar": {
              "outlinewidth": 0,
              "ticks": ""
             }
            },
            "type": "scatterpolargl"
           }
          ],
          "scatterternary": [
           {
            "marker": {
             "colorbar": {
              "outlinewidth": 0,
              "ticks": ""
             }
            },
            "type": "scatterternary"
           }
          ],
          "surface": [
           {
            "colorbar": {
             "outlinewidth": 0,
             "ticks": ""
            },
            "colorscale": [
             [
              0,
              "#0d0887"
             ],
             [
              0.1111111111111111,
              "#46039f"
             ],
             [
              0.2222222222222222,
              "#7201a8"
             ],
             [
              0.3333333333333333,
              "#9c179e"
             ],
             [
              0.4444444444444444,
              "#bd3786"
             ],
             [
              0.5555555555555556,
              "#d8576b"
             ],
             [
              0.6666666666666666,
              "#ed7953"
             ],
             [
              0.7777777777777778,
              "#fb9f3a"
             ],
             [
              0.8888888888888888,
              "#fdca26"
             ],
             [
              1,
              "#f0f921"
             ]
            ],
            "type": "surface"
           }
          ],
          "table": [
           {
            "cells": {
             "fill": {
              "color": "#EBF0F8"
             },
             "line": {
              "color": "white"
             }
            },
            "header": {
             "fill": {
              "color": "#C8D4E3"
             },
             "line": {
              "color": "white"
             }
            },
            "type": "table"
           }
          ]
         },
         "layout": {
          "annotationdefaults": {
           "arrowcolor": "#2a3f5f",
           "arrowhead": 0,
           "arrowwidth": 1
          },
          "autotypenumbers": "strict",
          "coloraxis": {
           "colorbar": {
            "outlinewidth": 0,
            "ticks": ""
           }
          },
          "colorscale": {
           "diverging": [
            [
             0,
             "#8e0152"
            ],
            [
             0.1,
             "#c51b7d"
            ],
            [
             0.2,
             "#de77ae"
            ],
            [
             0.3,
             "#f1b6da"
            ],
            [
             0.4,
             "#fde0ef"
            ],
            [
             0.5,
             "#f7f7f7"
            ],
            [
             0.6,
             "#e6f5d0"
            ],
            [
             0.7,
             "#b8e186"
            ],
            [
             0.8,
             "#7fbc41"
            ],
            [
             0.9,
             "#4d9221"
            ],
            [
             1,
             "#276419"
            ]
           ],
           "sequential": [
            [
             0,
             "#0d0887"
            ],
            [
             0.1111111111111111,
             "#46039f"
            ],
            [
             0.2222222222222222,
             "#7201a8"
            ],
            [
             0.3333333333333333,
             "#9c179e"
            ],
            [
             0.4444444444444444,
             "#bd3786"
            ],
            [
             0.5555555555555556,
             "#d8576b"
            ],
            [
             0.6666666666666666,
             "#ed7953"
            ],
            [
             0.7777777777777778,
             "#fb9f3a"
            ],
            [
             0.8888888888888888,
             "#fdca26"
            ],
            [
             1,
             "#f0f921"
            ]
           ],
           "sequentialminus": [
            [
             0,
             "#0d0887"
            ],
            [
             0.1111111111111111,
             "#46039f"
            ],
            [
             0.2222222222222222,
             "#7201a8"
            ],
            [
             0.3333333333333333,
             "#9c179e"
            ],
            [
             0.4444444444444444,
             "#bd3786"
            ],
            [
             0.5555555555555556,
             "#d8576b"
            ],
            [
             0.6666666666666666,
             "#ed7953"
            ],
            [
             0.7777777777777778,
             "#fb9f3a"
            ],
            [
             0.8888888888888888,
             "#fdca26"
            ],
            [
             1,
             "#f0f921"
            ]
           ]
          },
          "colorway": [
           "#636efa",
           "#EF553B",
           "#00cc96",
           "#ab63fa",
           "#FFA15A",
           "#19d3f3",
           "#FF6692",
           "#B6E880",
           "#FF97FF",
           "#FECB52"
          ],
          "font": {
           "color": "#2a3f5f"
          },
          "geo": {
           "bgcolor": "white",
           "lakecolor": "white",
           "landcolor": "#E5ECF6",
           "showlakes": true,
           "showland": true,
           "subunitcolor": "white"
          },
          "hoverlabel": {
           "align": "left"
          },
          "hovermode": "closest",
          "mapbox": {
           "style": "light"
          },
          "paper_bgcolor": "white",
          "plot_bgcolor": "#E5ECF6",
          "polar": {
           "angularaxis": {
            "gridcolor": "white",
            "linecolor": "white",
            "ticks": ""
           },
           "bgcolor": "#E5ECF6",
           "radialaxis": {
            "gridcolor": "white",
            "linecolor": "white",
            "ticks": ""
           }
          },
          "scene": {
           "xaxis": {
            "backgroundcolor": "#E5ECF6",
            "gridcolor": "white",
            "gridwidth": 2,
            "linecolor": "white",
            "showbackground": true,
            "ticks": "",
            "zerolinecolor": "white"
           },
           "yaxis": {
            "backgroundcolor": "#E5ECF6",
            "gridcolor": "white",
            "gridwidth": 2,
            "linecolor": "white",
            "showbackground": true,
            "ticks": "",
            "zerolinecolor": "white"
           },
           "zaxis": {
            "backgroundcolor": "#E5ECF6",
            "gridcolor": "white",
            "gridwidth": 2,
            "linecolor": "white",
            "showbackground": true,
            "ticks": "",
            "zerolinecolor": "white"
           }
          },
          "shapedefaults": {
           "line": {
            "color": "#2a3f5f"
           }
          },
          "ternary": {
           "aaxis": {
            "gridcolor": "white",
            "linecolor": "white",
            "ticks": ""
           },
           "baxis": {
            "gridcolor": "white",
            "linecolor": "white",
            "ticks": ""
           },
           "bgcolor": "#E5ECF6",
           "caxis": {
            "gridcolor": "white",
            "linecolor": "white",
            "ticks": ""
           }
          },
          "title": {
           "x": 0.05
          },
          "xaxis": {
           "automargin": true,
           "gridcolor": "white",
           "linecolor": "white",
           "ticks": "",
           "title": {
            "standoff": 15
           },
           "zerolinecolor": "white",
           "zerolinewidth": 2
          },
          "yaxis": {
           "automargin": true,
           "gridcolor": "white",
           "linecolor": "white",
           "ticks": "",
           "title": {
            "standoff": 15
           },
           "zerolinecolor": "white",
           "zerolinewidth": 2
          }
         }
        },
        "title": {
         "text": "HDBSCAN"
        },
        "xaxis": {
         "anchor": "y",
         "domain": [
          0,
          1
         ],
         "title": {
          "text": "x"
         }
        },
        "yaxis": {
         "anchor": "x",
         "domain": [
          0,
          1
         ],
         "title": {
          "text": "y"
         }
        }
       }
      }
     },
     "metadata": {},
     "output_type": "display_data"
    }
   ],
   "source": [
    "import hdbscan\n",
    "\n",
    "clusterer = hdbscan.HDBSCAN(min_cluster_size=5)\n",
    "df_tsne['cluster'] = clusterer.fit_predict(X_embedded)\n",
    "\n",
    "fig = px.scatter(df_tsne, x='x', y='y', color='cluster', hover_data=['text'], title='HDBSCAN')\n",
    "fig.show()\n"
   ]
  },
  {
   "cell_type": "markdown",
   "metadata": {},
   "source": [
    "# ORYGINALNE ETYKIETY"
   ]
  },
  {
   "cell_type": "code",
   "execution_count": 30,
   "metadata": {},
   "outputs": [],
   "source": [
    "from datasets import load_dataset"
   ]
  },
  {
   "cell_type": "code",
   "execution_count": 31,
   "metadata": {},
   "outputs": [],
   "source": [
    "dataset = load_dataset(\"poleval/poleval2019_cyberbullying\", 'task02', trust_remote_code=True)"
   ]
  },
  {
   "cell_type": "code",
   "execution_count": 32,
   "metadata": {},
   "outputs": [
    {
     "data": {
      "text/html": [
       "<div>\n",
       "<style scoped>\n",
       "    .dataframe tbody tr th:only-of-type {\n",
       "        vertical-align: middle;\n",
       "    }\n",
       "\n",
       "    .dataframe tbody tr th {\n",
       "        vertical-align: top;\n",
       "    }\n",
       "\n",
       "    .dataframe thead th {\n",
       "        text-align: right;\n",
       "    }\n",
       "</style>\n",
       "<table border=\"1\" class=\"dataframe\">\n",
       "  <thead>\n",
       "    <tr style=\"text-align: right;\">\n",
       "      <th></th>\n",
       "      <th>text</th>\n",
       "      <th>label</th>\n",
       "    </tr>\n",
       "  </thead>\n",
       "  <tbody>\n",
       "    <tr>\n",
       "      <th>0</th>\n",
       "      <td>Dla mnie faworytem do tytułu będzie Cracovia. ...</td>\n",
       "      <td>0</td>\n",
       "    </tr>\n",
       "    <tr>\n",
       "      <th>1</th>\n",
       "      <td>@anonymized_account @anonymized_account Brawo ...</td>\n",
       "      <td>0</td>\n",
       "    </tr>\n",
       "    <tr>\n",
       "      <th>2</th>\n",
       "      <td>@anonymized_account @anonymized_account Super,...</td>\n",
       "      <td>0</td>\n",
       "    </tr>\n",
       "    <tr>\n",
       "      <th>3</th>\n",
       "      <td>@anonymized_account @anonymized_account Musi. ...</td>\n",
       "      <td>0</td>\n",
       "    </tr>\n",
       "    <tr>\n",
       "      <th>4</th>\n",
       "      <td>Odrzut natychmiastowy, kwaśna mina, mam problem</td>\n",
       "      <td>0</td>\n",
       "    </tr>\n",
       "    <tr>\n",
       "      <th>...</th>\n",
       "      <td>...</td>\n",
       "      <td>...</td>\n",
       "    </tr>\n",
       "    <tr>\n",
       "      <th>593</th>\n",
       "      <td>@anonymized_account Niby sami świnie, a nic ni...</td>\n",
       "      <td>0</td>\n",
       "    </tr>\n",
       "    <tr>\n",
       "      <th>594</th>\n",
       "      <td>@anonymized_account Ale co to ma do Mystka?</td>\n",
       "      <td>0</td>\n",
       "    </tr>\n",
       "    <tr>\n",
       "      <th>595</th>\n",
       "      <td>@anonymized_account Serio chcecie cichego stad...</td>\n",
       "      <td>0</td>\n",
       "    </tr>\n",
       "    <tr>\n",
       "      <th>596</th>\n",
       "      <td>Co to miało być? 😂</td>\n",
       "      <td>0</td>\n",
       "    </tr>\n",
       "    <tr>\n",
       "      <th>597</th>\n",
       "      <td>@anonymized_account tego się niespodziewałem p...</td>\n",
       "      <td>0</td>\n",
       "    </tr>\n",
       "  </tbody>\n",
       "</table>\n",
       "<p>598 rows × 2 columns</p>\n",
       "</div>"
      ],
      "text/plain": [
       "                                                  text  label\n",
       "0    Dla mnie faworytem do tytułu będzie Cracovia. ...      0\n",
       "1    @anonymized_account @anonymized_account Brawo ...      0\n",
       "2    @anonymized_account @anonymized_account Super,...      0\n",
       "3    @anonymized_account @anonymized_account Musi. ...      0\n",
       "4      Odrzut natychmiastowy, kwaśna mina, mam problem      0\n",
       "..                                                 ...    ...\n",
       "593  @anonymized_account Niby sami świnie, a nic ni...      0\n",
       "594        @anonymized_account Ale co to ma do Mystka?      0\n",
       "595  @anonymized_account Serio chcecie cichego stad...      0\n",
       "596                                 Co to miało być? 😂      0\n",
       "597  @anonymized_account tego się niespodziewałem p...      0\n",
       "\n",
       "[598 rows x 2 columns]"
      ]
     },
     "execution_count": 32,
     "metadata": {},
     "output_type": "execute_result"
    }
   ],
   "source": [
    "df_original = pd.DataFrame(dataset['train'])[:][:598]\n",
    "df_original"
   ]
  },
  {
   "cell_type": "code",
   "execution_count": 33,
   "metadata": {},
   "outputs": [
    {
     "data": {
      "application/vnd.plotly.v1+json": {
       "config": {
        "plotlyServerURL": "https://plot.ly"
       },
       "data": [
        {
         "customdata": [
          [
           "Dla mnie faworytem do tytułu będzie Cracovia. Zobaczymy, czy typ się sprawdzi."
          ],
          [
           "@anonymized_account @anonymized_account Brawo ty Daria kibic ma być na dobre i złe"
          ],
          [
           "@anonymized_account @anonymized_account Super, polski premier składa kwiaty na grobach kolaborantów. Ale doczekaliśmy czasów."
          ],
          [
           "@anonymized_account @anonymized_account Musi. Innej drogi nie mamy."
          ],
          [
           "Odrzut natychmiastowy, kwaśna mina, mam problem"
          ],
          [
           "Jaki on był fajny xdd pamiętam, że spóźniłam się na jego pierwsze zajęcia i to sporo i za karę kazał mi usiąść w pierwszej ławce XD"
          ],
          [
           "@anonymized_account No nie ma u nas szczęścia 😉"
          ],
          [
           "@anonymized_account Dawno kogoś tak wrednego nie widziałam xd"
          ],
          [
           "@anonymized_account @anonymized_account Zaległości były, ale ważne czy były wezwania do zapłaty z których się klub nie wywiązał."
          ],
          [
           "@anonymized_account @anonymized_account @anonymized_account Gdzie jest @anonymized_account . Brudziński jesteś kłamcą i marnym kutasem @anonymized_account"
          ],
          [
           "@anonymized_account @anonymized_account  no mam nadzieje !!:)"
          ],
          [
           "@anonymized_account @anonymized_account Może gustował w starszych paniach ;-)"
          ],
          [
           "@anonymized_account Zostawiłam tam 3 lata temu \\\"Notatki na mankietach\\\". Muszę się wrócić."
          ],
          [
           "@anonymized_account Oprawa do Krzysia M. Ps Pinokio -\\n\\\" mogłeś być gangsterem a zostałeś 3 ligowym frajerem \\\"😀"
          ],
          [
           "@anonymized_account @anonymized_account Znowu będzie komunikat o polskich piratach drogowych w Słowacji."
          ],
          [
           "@anonymized_account Mówi człowiek, który chciał nałożyć sankcje na Polskę. Gratulacje. #Niepodlegla #11lisopada"
          ],
          [
           "RT @anonymized_account @anonymized_account Mówi człowiek, który chciał nałożyć sankcje na Polskę. Gratulacje. #Niepodlegla #11lisopada"
          ],
          [
           "@anonymized_account @anonymized_account o jakim zachowaniu \\\"fer\\\" mówisz skoro ukrywał się z tym że podpisał kontrakt z Legią ? Możesz rozwinąć ?"
          ],
          [
           "@anonymized_account @anonymized_account Joanno! Po raz pierwszy się z panią zgadzam.😁😁😁😁😁"
          ],
          [
           "Monster block, monster block, monster block... 😁"
          ],
          [
           "@anonymized_account Czyżby Madryt brał przykład z Warszawy?"
          ],
          [
           "@anonymized_account @anonymized_account No to Skończmy kurwa z tym wersalem w j...ej szczujni"
          ],
          [
           "@anonymized_account Nie wiem, najczęściej grają na zmianę na prawym skrzydle."
          ],
          [
           "@anonymized_account No to Pan i koledzy macie z głowy. Przesrane tak reszta życia pod górkę."
          ],
          [
           "@anonymized_account A ja obstawiam, że pójdą bardziej w stronę tego, że może się powtórzyć sytuacja z Meresińskim."
          ],
          [
           "Aaaaa Kuba mi odpisał hehehehehe"
          ],
          [
           "Asysta Kacpra Falona i 3:1 dla Widzewa. Witamy Widzew w II lidze. No i w sumie fajnie."
          ],
          [
           "@anonymized_account gwizdali na niego ? Bo nie oglądałem meczu :)"
          ],
          [
           "@anonymized_account @anonymized_account ale może w końcu dojdzie do wniosku że skoro go klub już nie jara to lepiej go sprzedać i mieć po kłopocie"
          ],
          [
           "@anonymized_account @anonymized_account Hej halo, o czym to jest bo mam na swojej liście i nie wiem czy warto??"
          ],
          [
           "dorosłe życie nie jest dla mnie"
          ],
          [
           "RT @anonymized_account dorosłe życie nie jest dla mnie"
          ],
          [
           "@anonymized_account Cześć Paderewski, część opalające się nogi"
          ],
          [
           "@anonymized_account @anonymized_account @anonymized_account Uprowadź gumową kaczuszkę. Zacznie negocjować."
          ],
          [
           "@anonymized_account Już wiem ze się nie dogadamy XD"
          ],
          [
           "@anonymized_account Ale to w nowym przekładzie, jeszcze nie czytałam."
          ],
          [
           "@anonymized_account Lahoza mi nigdy nie szkoda. Wolę, jak na pierwszym planie są piłkarze, a nie sędzia :-)"
          ],
          [
           "@anonymized_account @anonymized_account Sprawdź chłopie w słowniku co oznacza słowo , którego używasz a potem się odzywaj."
          ],
          [
           "@anonymized_account zmieńcie se nazwe na profilu na insta bo się nazywacie Grzegorz Ożóg..."
          ],
          [
           "#Woronicza 17 poseł Halicki oburzony za Bolka.Naprawdè taki tępy czy tylko udaje idiotę?"
          ],
          [
           "„Ta aktorka ma 20 lat?!?! Jaka stara!!” \\n\\nChyba musimy się już do grobu pakować roczniku 98 😂👌🏻"
          ],
          [
           "RT @anonymized_account „Ta aktorka ma 20 lat?!?! Jaka stara!!” \\n\\nChyba musimy się już do grobu pakować roczniku 98 😂👌🏻"
          ],
          [
           "Ahnherr der Schtwätzer wykonawcy Von Spar\\nhttps://t.co/SOtenSqIr0"
          ],
          [
           "@anonymized_account @anonymized_account @anonymized_account Bierze cie cie pod chuj a ty sie produkujesz"
          ],
          [
           "@anonymized_account @anonymized_account @anonymized_account Jak narazie to masz przywidzenia co nie zmienia faktu że cały czas jesteś idiotą."
          ],
          [
           "@anonymized_account Kiedy do licznika dojdą bilety z fan clubow?"
          ],
          [
           "@anonymized_account A kto prowadzi zespół ? Będzie podany skład z tego meczu ?"
          ],
          [
           "@anonymized_account Główny powód to brak kasy, trzeba dać bogatym 500+,300+ i być bez godności i honoru"
          ],
          [
           "Zrobiłam takie Cv że ohohohoho"
          ],
          [
           "Świętować uchwalenie Konstytucji 3 maja i łamać Konstytucję RP obecnie obowiązującą?!\\n#3Maja - dzień hipokryzji."
          ],
          [
           "RT @anonymized_account Świętować uchwalenie Konstytucji 3 maja i łamać Konstytucję RP obecnie obowiązującą?!\\n#3Maja - dzień hipokryzji."
          ],
          [
           "@anonymized_account @anonymized_account nie gra bo jest Jovanović i Guilherme"
          ],
          [
           "@anonymized_account O tej godz. sporty szanuj ciało"
          ],
          [
           "Nikt nigdy nie rozsiewał takiego smrodu jak @anonymized_account"
          ],
          [
           "Nikt cię tak dobrze nie ubierze jak matka chrzestna dziecino"
          ],
          [
           "@anonymized_account @anonymized_account Nikt tutaj nie chce plagiaciarzy kopiujących brytyjskich pisarzy."
          ],
          [
           "@anonymized_account A ksiądz co bierze 12 tyś za spowiedź przez tel?"
          ],
          [
           "@anonymized_account Koń też ma dużą głowę. Tylko wydaje mi się, że jest bardziej inteligentny niż Karczewski"
          ],
          [
           "@anonymized_account Pod i górę  pod wiatr to więcej niż k2"
          ],
          [
           "@anonymized_account Sędziowie VAR nie decydują o karnych 😉"
          ],
          [
           "Jakiś program na TVN, nauka jazdy za kierownicą babcia śpiewa \\\"jadą jadą jadą świry jadą\\\" jadą jadą jadą świry jadą\\\""
          ],
          [
           "@anonymized_account ta obecna Zary Larsson czy Pitbulla z ostatnich MŚ nie były złe :)"
          ],
          [
           "(280 znaków w jednym zdaniu 🙈)"
          ],
          [
           "@anonymized_account po wahaniach wagi Kwacha wznoszę że to może być kapuścianka"
          ],
          [
           "@anonymized_account @anonymized_account w tym sezonie razem z pucharem 12 meczy i 1 gol.Mójta więcej strzelił.Sorry patrze w statystyki."
          ],
          [
           "@anonymized_account @anonymized_account @anonymized_account finały tblk były przyzwoicie sędziowane ?! Aha..."
          ],
          [
           "@anonymized_account Taki miałam właśnie, teraz kupiłam z catrice"
          ],
          [
           "@anonymized_account to ich wymień.W czym problem ?"
          ],
          [
           "@anonymized_account @anonymized_account @anonymized_account a ja mam ciepełko jak się przytule do swoich kotów :)"
          ],
          [
           "@anonymized_account Właśnie. Ilu! Najpierw odpowiedzmy sobie ma to pytanie,a potem dziwmy się zwycięstwu Zdanowskiej"
          ],
          [
           "@anonymized_account W jego przypadku statystyka przebiegniętych kilometrów nie ma znaczenia. Czy gra zajebiście, czy fatalnie, biega tyle samo."
          ],
          [
           "@anonymized_account @anonymized_account 100%, Mann też miał pełne prawo"
          ],
          [
           "@anonymized_account Kończyłeś już kilka razy 😂"
          ],
          [
           "@anonymized_account Dzisiaj zajmujemy się WARiatem Krystyną ciekawe czy będzie płakał?"
          ],
          [
           "@anonymized_account @anonymized_account @anonymized_account @anonymized_account A co będzie jak Kuba nigdy niewroci?"
          ],
          [
           "@anonymized_account Tym w sejmie też? Banda hipokrytów i złodziei."
          ],
          [
           "W każdej z czterech grup będzie walka o zwycięstwo premiowane awansem do CLJ. Bardzo potrzebne rozwiązanie, brawo."
          ],
          [
           "@anonymized_account Tak się poznałam z moim chłopakiem 😂 czasami warto"
          ],
          [
           "@anonymized_account nelly furtado a tytuł forco czy cos takiego"
          ],
          [
           "@anonymized_account Mów prawdę, kto was skrzywdził"
          ],
          [
           "@anonymized_account jestem tu od 2013 xd"
          ],
          [
           "@anonymized_account Ta kadra to rocznik 2002"
          ],
          [
           "Posiada sensor CGM , ciągły monitoring glikemii, w końcu."
          ],
          [
           "Jeszcze żaden Polak nie wystąpił w meczu gwiazd NBA, nie licząc Mietka Paciaciaka ;) Pomóżmy Marcinowi Gortatowi być 1 @anonymized_account #NBAVOTE"
          ],
          [
           "RT @anonymized_account Jeszcze żaden Polak nie wystąpił w meczu gwiazd NBA, nie licząc Mietka Paciaciaka ;) Pomóżmy Marcinowi Gortatowi być 1…"
          ],
          [
           "@anonymized_account No kurwa myślałem że na Podlasiu"
          ],
          [
           "@anonymized_account @anonymized_account Tak, to nawet lepsze rozwiązanie."
          ],
          [
           "@anonymized_account @anonymized_account Koń by się uśmiał, TVN24 i TVN wolne media? Bardziej perfidnego łgarstwa nie słyszałem.. 🤔"
          ],
          [
           "RT @anonymized_account @anonymized_account @anonymized_account Koń by się uśmiał, TVN24 i TVN wolne media? Bardziej perfidnego łgarstwa nie słyszałem.. 🤔"
          ],
          [
           "@anonymized_account Gdzie ja wtedy byłam? ;-)"
          ],
          [
           "@anonymized_account @anonymized_account @anonymized_account Midze sie nudziło i se coś na kolanie napisał i macie sensacje"
          ],
          [
           "@anonymized_account Dzisiaj wrócił do treningów, czyli zdążyli 😉"
          ],
          [
           "@anonymized_account @anonymized_account @anonymized_account @anonymized_account Nie wiem, zerknij na 90minut"
          ],
          [
           "@anonymized_account @anonymized_account Z motłochem nie dyskutuję tylko daje bany. A Pani @anonymized_account gratuluję obrońcy."
          ],
          [
           "@anonymized_account możesz też zawsze po prostu zapytać kiedy się urodziłam. Albo wpisać hasztag #100latKasiaPawlak ;-)"
          ],
          [
           "@anonymized_account ale z kategoriami moim zdaniem przesadzają.Sponsor roku, serce, impreza ? Bez jaj"
          ],
          [
           "@anonymized_account Prezes się cieszy ze Wisla odpadła bo w razie finału Legia-Wisla znów by musiał finał odwoływać"
          ],
          [
           "Bratowa wysłała mi zdjęcie bratanicy z rozpoczęcia roku, idzie do pierwszej klasy, biedactwo nie wie co ją czeka"
          ],
          [
           "@anonymized_account szybkie pytanie do @anonymized_account Ręka Sadloka była zagraniem umyślnym ?"
          ],
          [
           "@anonymized_account Dzień w którym Abidal sprzedał i kupił A.Vidala 😉"
          ],
          [
           "@anonymized_account Równie dobrze można gola stracić :)"
          ],
          [
           "@anonymized_account Chorwaci przerżną w końcówce dogrywki, wiadomo."
          ],
          [
           "@anonymized_account Nasze dzieci będą zdegustwani, był taki PiS, taki @anonymized_account , historia populizmu i głupoty w latach 2015-2019, margines"
          ],
          [
           "@anonymized_account O, myślałam, że nikt już nie używa \\\"mnie\\\" tylko \\\"mi\\\"."
          ],
          [
           "@anonymized_account @anonymized_account @anonymized_account Na nowym stadionie West Hamu też to widziałem."
          ],
          [
           "@anonymized_account @anonymized_account zawodnik w sezonie może grać w barwach dwóch klubów więc jeszcze nic straconego :)"
          ],
          [
           "ciekawe czy faktycznie jest taki zakład bo jeśli tak to nieźle XD"
          ],
          [
           "@anonymized_account Hehe, do gazu, hehe jeszcze jakieś emotikony wrzuć"
          ],
          [
           "Qrwa!! I niech mi nikt nie mówi, że czary to jakiś zabobon!! Chłopaki mają sztywne nogi!"
          ],
          [
           "Od 01.10.2018 każde sprawozdanie finansowe w formie elektronicznej, zgodne ze strukturą jpk"
          ],
          [
           "Na TVP Kraków padła właśnie informacja że rozmowy z potencjalnym kupcem Wisły przełożony z dziś na jutro."
          ],
          [
           "RT @anonymized_account Na TVP Kraków padła właśnie informacja że rozmowy z potencjalnym kupcem Wisły przełożony z dziś na jutro."
          ],
          [
           "@anonymized_account NIECH JESZCZE DADZĄ LEKTORA I NA GŁÓWNA POSTAĆ MÓWIĄ NADZIEJA"
          ],
          [
           "RT @anonymized_account @anonymized_account NIECH JESZCZE DADZĄ LEKTORA I NA GŁÓWNA POSTAĆ MÓWIĄ NADZIEJA"
          ],
          [
           "@anonymized_account Nie no ludzie, żeby robić artykuł na temat jednego tweeta ?..."
          ],
          [
           "@anonymized_account Jak powiem, że pierwsze słysze, to będzie kompromitacja czy nie? 😄"
          ],
          [
           "@anonymized_account Usuń konto, wytrzeźwiej buduj od nowa"
          ],
          [
           "@anonymized_account @anonymized_account @anonymized_account Sekta, cha, cha, cha, obudź się z hipnozy, jesteś bolszewikiem"
          ],
          [
           "Nie wstanę kurde nie ma opcji"
          ],
          [
           "@anonymized_account @anonymized_account Spokojnie, u mnie też Kaczarawa na kapitanie + Cvijanović :)"
          ],
          [
           "niech ładny chłopiec z kręconymi włosami do mnie napisze: jutro, zaraz, teraz"
          ],
          [
           "RT @anonymized_account niech ładny chłopiec z kręconymi włosami do mnie napisze: jutro, zaraz, teraz"
          ],
          [
           "@anonymized_account im ktoś gorzej widzi, dłużej musi czekać, choć ten, który widzi lepiej, dłużej poradzi sobie bez okularów. 😨"
          ],
          [
           "@anonymized_account Oj, no to powodzenia! Co tam będziesz musiała robić? 🤭"
          ],
          [
           "@anonymized_account @anonymized_account @anonymized_account @anonymized_account Chyba nie, Marcin mówił coś o '89."
          ],
          [
           "@anonymized_account Przeczytaj mojego kolejnego twitta to zobaczysz, że nie umknęło i co sądze o poziomie tego meczu."
          ],
          [
           "@anonymized_account Tylko nie w dupę, to dla niektórych z nich byłaby przyjemność."
          ],
          [
           "@anonymized_account @anonymized_account Widać chcą wiecej polskich mord gotujacych koninę"
          ],
          [
           "@anonymized_account No to jak się przegrywa cały czas to lepiej przestać grać :)"
          ],
          [
           "@anonymized_account @anonymized_account @anonymized_account Widzę, że sami się znajdują."
          ],
          [
           "@anonymized_account Napewno mam niezaktualizowanego może dlatego"
          ],
          [
           "@anonymized_account @anonymized_account Smokowski mówił że Wisła ma piłkarzy 3 sortu, a Wieszczycki deprecjonował dobrą prace Kiko"
          ],
          [
           "więc zaczynam oglądać Do wszystkich chłopców, których kochałam bo wszyscy o tym mówią i aż chcę to sprawdzić"
          ],
          [
           "@anonymized_account Ban,ban i jeszcze raz ban! Co za prymitywne dno!"
          ],
          [
           "@anonymized_account @anonymized_account Jasne, bo debile oglądający tvpis płaczą tylko na m jak miłość"
          ],
          [
           "@anonymized_account @anonymized_account @anonymized_account W stop klatkach widać ze jak by to było po stronie drugiej (legi) to karny by był"
          ],
          [
           "Zdrady stanu to Donald Tusk dopuścił się już w 2010 r kiedy dodał Rosjanom śledztwo w sprawie katastrofy smoleńskiej."
          ],
          [
           "@anonymized_account Na marginesie jestem córką biskupa"
          ],
          [
           "@anonymized_account Przejdzie historii: jak tworzyć kłamstwo w dobie powszechnego dostępu do informacji"
          ],
          [
           "@anonymized_account Od ok 8 lat używam kolejnych modeli HTC i nigdy mnie nie zawiodły."
          ],
          [
           "@anonymized_account @anonymized_account Ty się oszuście i kłamco od nas odpierdol. My sobie damy radę bez twoich kłamstw"
          ],
          [
           "@anonymized_account @anonymized_account @anonymized_account odważne słowa jak na legioniste! 😂😂😂"
          ],
          [
           "@anonymized_account @anonymized_account Załatwi to jedno głosowanie w sejmie i żadne demonstracje nie będą miały na to wpływu."
          ],
          [
           "@anonymized_account @anonymized_account @anonymized_account Krzyż celtycki w Irlandii debilu ma kompletnie inne znaczenie niż u neofaszystów."
          ],
          [
           "@anonymized_account Coś w tym jest,bo ja też😁😁😁. I jeszcze bym dodał Dominisię W. której infantylizm mnie totalnie osłabia."
          ],
          [
           "@anonymized_account @anonymized_account Gdzie oni znajdują takich dupków"
          ],
          [
           "mój stres zaczął się stresować swoim własnym stresem, które również się stresuje ja pierdole dość"
          ],
          [
           "RT @anonymized_account mój stres zaczął się stresować swoim własnym stresem, które również się stresuje ja pierdole dość"
          ],
          [
           "@anonymized_account @anonymized_account @anonymized_account @anonymized_account @anonymized_account dojdzie Brlek, Stilić wróci do formy, obcokrajowcy się zaaklimatyzują i bedzie dobrze💪"
          ],
          [
           "@anonymized_account @anonymized_account @anonymized_account Brawo grzechu za Twój powrót do żywych\\n W Rosji pokaż swoją moc"
          ],
          [
           "@anonymized_account @anonymized_account @anonymized_account @anonymized_account Wonder!! Chyba cię....😁😁😁😁😁.No dobra. Na jaki?😁😁😁"
          ],
          [
           "@anonymized_account Ja mam uczulenie na dobrą zmianę, ale to dłuższa historiac"
          ],
          [
           "@anonymized_account Różnicy nie ma, bo pisali wtedy, że nie można zsyłać zawodników do rezerw ;P"
          ],
          [
           "@anonymized_account Żal ci biedaku??? Gdyby nie Kaczyński to by je twoi przyjaciele z PO rozkradl"
          ],
          [
           "RT @anonymized_account @anonymized_account Żal ci biedaku??? Gdyby nie Kaczyński to by je twoi przyjaciele z PO rozkradl"
          ],
          [
           "Dobry dzień na przypomnienie sobie genezy gwiazdek na fladze #UE #deklaracjaRzymska"
          ],
          [
           "Sekta kurwa, jakaś niepojęta radość, każde konto pisdzielskie tylko o jednym"
          ],
          [
           "@anonymized_account @anonymized_account Nie wierzę, bez zaświadczenia od proboszcza?"
          ],
          [
           "@anonymized_account I chyba wtedy byś niezaprzeczyla?"
          ],
          [
           "@anonymized_account Tak naprawdę czy będziemy w spadkowej czy mistrzowskiej to i tak czekają nas sparingi."
          ],
          [
           "@anonymized_account Jebać, jebać, nic się nie bać."
          ],
          [
           "@anonymized_account Jakiej pracy, ty już pajacu nie wiesz na czym się lansować. Sejm nie pracuje."
          ],
          [
           "Kilogramy rozmnażają się przez pączkowanie 😣😖\\n#TłustyCzwartek"
          ],
          [
           "@anonymized_account @anonymized_account Nie działają i lepiej działać szybko bo klienci nie maja dostępu do środków na kontach"
          ],
          [
           "@anonymized_account @anonymized_account @anonymized_account jutro walczycie ? Normalnie rycerze ! A gdzie byliście wcześniej ? A zapomniałem że nie o L chodziło"
          ],
          [
           "@anonymized_account Ale to głupie, rdzennie głupie, bardziej głupie już być nie może"
          ],
          [
           "@anonymized_account Szczególnie Vestenicky.Podczas wypożyczenia nic nie pokazał a go wykupili za 500 tys euro 😂👏"
          ],
          [
           "@anonymized_account Już się boję. Postraszy mnie Pan kolegami narodowcami?"
          ],
          [
           "@anonymized_account Co nie było blisko? Bo nie rozumiem."
          ],
          [
           "@anonymized_account @anonymized_account A od kiedy komentatorzy na Sky to wyrocznia?"
          ],
          [
           "@anonymized_account @anonymized_account Nazwisko tego babska😁😁😁😁. Bo Wczoraj był na MO😁😁😀"
          ],
          [
           "@anonymized_account Zbiera się do kontrataku, dla swojego pryncypala pójdzie w bój, patrityczna dusza,  co nie @anonymized_account ?"
          ],
          [
           "@anonymized_account a w kolejnych fajnie jakby grał na lewej za Sadloka @anonymized_account"
          ],
          [
           "@anonymized_account byłem w pracy ale zaraz odpalam meczyk na yt.Dzięki za walke !!!!:)"
          ],
          [
           "@anonymized_account @anonymized_account jakie 0 motywacji ? Jest chyba różnica mieć medal albo go niemieć"
          ],
          [
           "@anonymized_account Niby nie macie czy niby nie mit? 😂😂"
          ],
          [
           "@anonymized_account Ja bym był ostrożny😁😁😁A jak ma na imię?"
          ],
          [
           "@anonymized_account @anonymized_account @anonymized_account Tak to jest jak ktoś nie wie do którego lekarza iść najpierw."
          ],
          [
           "@anonymized_account @anonymized_account No nie dziwie się w sumie. Dobrze, że tylko raz dzwonił"
          ],
          [
           "@anonymized_account @anonymized_account Wasz świat? To się w nim zamknijcie i nie wystawiajcie nosa."
          ],
          [
           "@anonymized_account @anonymized_account Przyjaciół to niech on sobie szuka za swoje prywatne pieniądze. I niech robi z siebie idiotę na własny rachunek."
          ],
          [
           "imagine sie komus podobac??? ze ktos sie stara o TWOJA uwage??? can’t relate"
          ],
          [
           "RT @anonymized_account imagine sie komus podobac??? ze ktos sie stara o TWOJA uwage??? can’t relate"
          ],
          [
           "@anonymized_account @anonymized_account @anonymized_account a Portugalia jak zagrała ?"
          ],
          [
           "Pierwsze zdanie: \\\"Paczka papierosów kosztuje 4 miliardy marek\\\".\\n#JajoWęża teraz na @anonymized_account"
          ],
          [
           "@anonymized_account @anonymized_account No to tym bardziej :)"
          ],
          [
           "@anonymized_account Ja przynajmniej mam profilowe i nie chowam się za awatarem. Ale bohaterów MW na to nie stać i w sumie nic w tym dziwnego."
          ],
          [
           "@anonymized_account Czego się spodziewać po członku żydowskiego amerykańskiego lobby. Lata na kolanach przed żydami zrobiło swoje."
          ],
          [
           "RT @anonymized_account @anonymized_account Czego się spodziewać po członku żydowskiego amerykańskiego lobby. Lata na kolanach przed żydami zrobiło swoj…"
          ],
          [
           "@anonymized_account Co ty człowieku pijesz z rana?"
          ],
          [
           "@anonymized_account @anonymized_account pewnie narządy też wkrótce sprzeda :D"
          ],
          [
           "@anonymized_account w zeszłym sezonie to samo pisałeś ?"
          ],
          [
           "Picie to przyszłość, piękna i nieznana, szukajcie zapomnienia, próbujcie różnych trunków, łączcie środki psychoaktywne, powodzenia"
          ],
          [
           "@anonymized_account Ale ty jesteś żenujący. Dno metr mułu."
          ],
          [
           "@anonymized_account spoko, nigdy nie daje unfollow aktywnym ludziom, tylko tym, którzy nie piszą nic od miesięcy albo dali mi unfollow"
          ],
          [
           "\\\"- Co to jest tajmlajn na fejsie?\\n- Zmarszczki\\\"."
          ],
          [
           "@anonymized_account może trzeba chłopaków na crossfit zabierać ?:)"
          ],
          [
           "@anonymized_account znacznie bliżej jest mi muzułmanin  czy indus, niż katolicka, łysa swołocz ze wschodu europy, do tego rasistowska"
          ],
          [
           "Dzisiaj o 18.00 Strefa Kibica w Radiu Akadera. Zapraszamy."
          ],
          [
           "@anonymized_account Nie powinno być źle o ile się utrzymamy :P"
          ],
          [
           "@anonymized_account Spokojnie trzeba ta porażkę wziąść na klatę mecz się tak ułożył nie inaczej napewno gorsi dużo my niebyli."
          ],
          [
           "@anonymized_account Ale się cieszą. Wreszcie koniec i będzie można wypić te.zapasy z plecaka."
          ],
          [
           "@anonymized_account @anonymized_account Ofertę przedłużenis kontraktu ponoć dostał od Wisły, ale jej nie zaakceptował."
          ],
          [
           "Dziś o godz. 20:00 Prezydent RP wygłosi orędzie."
          ],
          [
           "RT @anonymized_account Dziś o godz. 20:00 Prezydent RP wygłosi orędzie."
          ],
          [
           "@anonymized_account myślałem że się przychodzi na stadion dla drużyny a nie na poszczególnych piłkarzy"
          ],
          [
           "@anonymized_account kibicom chodzi raczej o postawe dziennikarzy a nie klubu."
          ],
          [
           "@anonymized_account @anonymized_account Nie trzeba Algierczyków, wystarczy kilku polskich katechetów."
          ],
          [
           "@anonymized_account Barcelona z Messim (ta obecna) by taki mecz wygrała 1:0, albo jakiś Suarez by coś wcisnął :P"
          ],
          [
           "@anonymized_account @anonymized_account TW Wolfgang, TW Faraon i TW Rycerz,TW Balbina, TW Michał \\nKto mieczem wojuje, ten od pochwy ginie"
          ],
          [
           "@anonymized_account @anonymized_account Zgadza się ale przecież nas niestac żeby komin płacowy zacząć od.carlitosa"
          ],
          [
           "@anonymized_account @anonymized_account @anonymized_account Low kick, kolano łokieć, blacha na czoło i stara leży"
          ],
          [
           "@anonymized_account Niestety obrazki będą też zielone, czarne i brunatne."
          ],
          [
           "Ktoś założył fejkowe konto i ogląda WSZYSTKIE moje story"
          ],
          [
           "@anonymized_account @anonymized_account Życie, zdarza się. Jednak od takiego rzutu wolnego do gola droga dość daleka."
          ],
          [
           "@anonymized_account a wydanie 500 tys euro gdy się nie ma pieniędzy nie jest strzałem w kolano ?"
          ],
          [
           "@anonymized_account Wio endekdu, ścierwa, zdrajcy, szubienica"
          ],
          [
           "@anonymized_account nie dziwie się, to było dość cwane :)"
          ],
          [
           "@anonymized_account Raczey! Jutro będzie jej odczytywane przez cały dzień ;-)"
          ],
          [
           "@anonymized_account Kto będzie pił te mleko, gdzie będą jeździły tiry, meble, okna ty maly kogucie"
          ],
          [
           "@anonymized_account @anonymized_account @anonymized_account @anonymized_account Nie myli się tylko ten, co nic nie robi."
          ],
          [
           "Mama będzie mi obcinać włosy boje się"
          ],
          [
           "@anonymized_account @anonymized_account @anonymized_account @anonymized_account No to muszą ci nieźle płacić za wierszówki."
          ],
          [
           "@anonymized_account czy masz info jakie obecnie Ondrasek ma zarobki w Wiśle?"
          ],
          [
           "@anonymized_account Jaka kwota wykupienia go po roku??"
          ],
          [
           "@anonymized_account @anonymized_account @anonymized_account Dla kogo pracował? Nie przy śniadaniu bo się udławić można z wrażenia. Poproszę 5 przykładów zatem."
          ],
          [
           "@anonymized_account @anonymized_account @anonymized_account Widzę, że dalej nie rozumiesz. No nic idę oglądać LM. Pozdro."
          ],
          [
           "@anonymized_account @anonymized_account jeśli masz TV włączony od 8:00 do 1:00, a reklama pojawia się 3 x na godzinę, po 2 mies. jesteś na granicy obłędu."
          ],
          [
           "@anonymized_account @anonymized_account A co o włoskich faszystach i węgierskich nacjonalistach?"
          ],
          [
           "@anonymized_account @anonymized_account Dojenie kasy przez rząd\\nKompromitacja Morawieckiego w Niemczech\\nKaczyński twórca państwa Polskiego w 2016 roku"
          ],
          [
           "@anonymized_account Jeszcze w nastepnej kolejce pewnie jakis piątek"
          ],
          [
           "@anonymized_account @anonymized_account i oczywiście było pytanie czy nie boi się o przyszłość Wisły 😂 przechodzicie samych siebie"
          ],
          [
           "@anonymized_account no ja właśnie to samoXD znaczy wiem ze Emre wbija często, bo jego żona jest polką ale no"
          ],
          [
           "@anonymized_account Nic nie mogą. Ale ich brak może spowodować, że strajkujący szybciej się z Sejmu wyniosą."
          ],
          [
           "@anonymized_account @anonymized_account @anonymized_account Przecież jak go zamkną to o czym ty będziesz pisał ? Twoje życie straci sens..."
          ],
          [
           "@anonymized_account @anonymized_account To zaraz porobie screeny od momentu od którego jest zablokowane :)"
          ],
          [
           "@anonymized_account Ktoś przestał słodzić, ktoś kto dużo słodził"
          ],
          [
           "@anonymized_account @anonymized_account @anonymized_account No to po co się zgodził na klauzule dopiero po zakończeniu przyszłego sezonu, a nie od razu ?"
          ],
          [
           "@anonymized_account Jest to prawda. Ale MSZ powinien. On pewnie myślał, że jest w Pisowskiej Polsce i wszystkoi wolno.😀😀😀"
          ],
          [
           "@anonymized_account delikatnie nie po drodze :D"
          ],
          [
           "@anonymized_account @anonymized_account No to 0:0 murowane (bo mam też ludzi z Cracovii)"
          ],
          [
           "@anonymized_account Może ogłuszyły go te korki od szampanów, które strzelały po podpisaniu kontraktu Sadloka z Jagiellonią ?"
          ],
          [
           "Panie i panowie, totalna porażka @anonymized_account w miastach. \\nT O T A L N A \\nTo bardzo ważny znak."
          ],
          [
           "RT @anonymized_account Panie i panowie, totalna porażka @anonymized_account w miastach. \\nT O T A L N A \\nTo bardzo ważny znak."
          ],
          [
           "@anonymized_account @anonymized_account @anonymized_account @anonymized_account ręce opadaj że takich rzeczy ludzie związani z futsalem nie wiedzą."
          ],
          [
           "@anonymized_account @anonymized_account Przeczytałem wszystko. Fantastycznego ma Pani Dziadka!"
          ],
          [
           "@anonymized_account Na wszystko masz odpowiedź, żyłeś w tych czasach?"
          ],
          [
           "@anonymized_account @anonymized_account Mr. Czarnecki. To nie hipokryzja tylko zwykła ludzka przyzwoitość. Widać że niektórym obce takie  odruchy."
          ],
          [
           "Diego Maradona - Robbie Williams 2:1."
          ],
          [
           "@anonymized_account @anonymized_account @anonymized_account Ja nie byłbym taki pewny"
          ],
          [
           "@anonymized_account patrząc kogo biorą to mam wątpliwości czy nie chcą do 1 ligi (nie licząc Marciniaka)"
          ],
          [
           "@anonymized_account To było dawno, jeszcze nie znali fotoszopa"
          ],
          [
           "@anonymized_account @anonymized_account Maly murzyn, silny i zdrowy"
          ],
          [
           ".@anonymized_account pojawił się na TT. To konto to nie fejk. \\nDołączajcie :) 💪"
          ],
          [
           "RT @anonymized_account .@anonymized_account pojawił się na TT. To konto to nie fejk. \\nDołączajcie :) 💪"
          ],
          [
           "W programie Igrzyska wolności w Łodzi śpiewanie pieśni rewolucyjnych,i piosenek z serialu,4 pancerni i pies."
          ],
          [
           "@anonymized_account no i w końcu widzę uśmiech :)"
          ],
          [
           "@anonymized_account Jeszcze was zjemy i wysramy"
          ],
          [
           "@anonymized_account lepszy argument to że ktoś go nie chce bo go nie lubi"
          ],
          [
           "@anonymized_account @anonymized_account Tylko że ten prostak sie nabijał, szydził tak jak ze śmierci Piotra S."
          ],
          [
           "@anonymized_account Qwa! Wypiłem kawę przed chwilą.Bardzo dobra kawę.Nie chcę jej zwracać. A swoją drogą to świetny środek na wywołanie wymiotów."
          ],
          [
           "Wchodzę w powiadomienia a tu nic, już na 4 tt odpisałem, zaraz wyjebią bana"
          ],
          [
           "@anonymized_account nataliethere_ oddam szybciutko z powiadomień"
          ],
          [
           "@anonymized_account Tak tak jeszcze ktoś w to uwierzy"
          ],
          [
           "@anonymized_account @anonymized_account @anonymized_account Tez musze trzymać poziomo tel czytając ten artykuł"
          ],
          [
           "@anonymized_account @anonymized_account @anonymized_account Czasy kiedy zacząłem interesować się piłką i Wisłą 😍"
          ],
          [
           "@anonymized_account Wy narobiliscie 30miliardow dlugow za waszych rzadow #oddajciekase"
          ],
          [
           "RT @anonymized_account @anonymized_account Wy narobiliscie 30miliardow dlugow za waszych rzadow #oddajciekase"
          ],
          [
           "@anonymized_account Czy @anonymized_account gotów na taką kolej rzeczy?"
          ],
          [
           "@anonymized_account Tak jak pisdzielstwo ośmiesza policjantów , to już, nikt, nigdy bardziej nie będzie"
          ],
          [
           "@anonymized_account A kiedy przestanie wydawać mln na swoich ochroniarzy, tylko zacznie leczyć u psychiatry swoją manię prześladowczą?"
          ],
          [
           "@anonymized_account Pierwszy priorytet zadowolić Jarkacza, drugi priorytet ssać kasę wszystkimi otworami,  mają rozdwojenie jaźni"
          ],
          [
           "@anonymized_account Huj z wami dziennikarzami. Piłka nożna dla kibiców a nie pseudo dziennikarzy."
          ],
          [
           "@anonymized_account E tam! To z miłości do Łodzi😁. I przyjdzie do PiS😁😁"
          ],
          [
           "@anonymized_account A ja, ze coś znowu zepsułam xd"
          ],
          [
           "Czemu jak zawsze się o kogoś martwię to ja dostaje po dupie, i mean nie wiem"
          ],
          [
           "@anonymized_account kiedy wyjeżdżasz? ja w piątek, co prawda już drugi rok ale moja rodzina nadal reaguje tak samo"
          ],
          [
           "@anonymized_account @anonymized_account @anonymized_account Ograniczyłbym to do \\\"Byle nie Ufa\\\" :)"
          ],
          [
           "@anonymized_account @anonymized_account Święta racja, ale zapytaj Jurgiela o notatki, on wie co spierdolił. Będzie łatwiej."
          ],
          [
           "@anonymized_account @anonymized_account Szczególnie wielka strata za Smoleńsk"
          ],
          [
           "@anonymized_account @anonymized_account @anonymized_account @anonymized_account daj znać @anonymized_account o  zdjecie blokady"
          ],
          [
           "@anonymized_account @anonymized_account Myślę, że po info o konferencji wielu osobom to przychodzi do głowy."
          ],
          [
           "@anonymized_account Koniecznie! Zapraszamy na spacer z kawką 😃"
          ],
          [
           "@anonymized_account błąd logiczny, te pieniądze kiedyś były wasze, teraz już sa nasze i nic wam do tego towarzyszu"
          ],
          [
           "RT @anonymized_account @anonymized_account błąd logiczny, te pieniądze kiedyś były wasze, teraz już sa nasze i nic wam do tego towarzyszu"
          ],
          [
           "@anonymized_account Zależy jak na to spojrzeć. Z jednej strony akredytacja, z drugiej wyjazd za swoje $$$ 😉"
          ],
          [
           "@anonymized_account @anonymized_account albo wygrywali 1:0 z Barceloną"
          ],
          [
           "@anonymized_account @anonymized_account tylko nie Załuska.Nie potrzeba nam takich piłkarzy bez ambicji."
          ],
          [
           "@anonymized_account @anonymized_account Nic specjalnego. Można się domyślać, że pewnie pójdzie na wypożyczenie."
          ],
          [
           "Z Zagłębia Hładun i Czerwiński w składzie (porażka 1:2), a z Legii Carlitos na kapitanie (zmiana w przerwie). Co za seria 😂"
          ],
          [
           "@anonymized_account co chwile o nim piszecie i gadacie jaka to porażka jak nie zostanie.A nie pamiętacie jak jeszcze niedawno otrzymanie licencji1/2"
          ],
          [
           "@anonymized_account @anonymized_account Przecież TS dzierżawi ta ziemię umowa na 99 lat zgadza się czy nie?"
          ],
          [
           "@anonymized_account Pyta się kiedy beda nowe okulary, bo juz chce wychodzić"
          ],
          [
           "@anonymized_account Probierz szuka młodych Polaków pasuje jak ulał😉"
          ],
          [
           "@anonymized_account Może pasuje do klucza francuskiego?🔧☺"
          ],
          [
           "Pensja, kasa, dojenie, @anonymized_account ,ssanie kasy, ruchanie w meskie dupy, zawsze za pis, trudny teren, ciezkie warunki"
          ],
          [
           "@anonymized_account Polska to nie napis na dropsie, uuuu, niedobrze, uuuuuuu"
          ],
          [
           "@anonymized_account raczej ty się powinieneś jebnąć ale nie wiem czy to pomoże"
          ],
          [
           "@anonymized_account Jak narazie to sobie możecie kupę zrobić. Albo hurtowo dać dupy pedofilów w sutannach, których publicznie bronicie."
          ],
          [
           "@anonymized_account Najlepiej w Polsce żeby legia miała pomoc :-)"
          ],
          [
           "Ale mam chujowy humor przez to, że nie zdałam i jestem na siebie zła"
          ],
          [
           "Szukam osób, które mają kontakt z rodziną gen. Bułak-Bałachowicza. Sprawa  prywatna."
          ],
          [
           "@anonymized_account Brawo skwk za komunikat pomimo braku zakazu czekałem na ta wiadomość co robić, bo na mecz bez dopingu niemyslalem iść"
          ],
          [
           "@anonymized_account @anonymized_account A ty wieś kretynie CONTI jest Acta2 i czego dotyczy? Najpierw przeczytaj a potem się wypowiadaj."
          ],
          [
           "@anonymized_account Trąba ? Nie no ostro pojechałaś :D"
          ],
          [
           "Beata #Mazurek w Sejmie na pytanie co myśli o pomyśle Kaczyńskiego o obniżkach wynagrodzeń: \\\"Ja nic nie myślę\\\". To słychać."
          ],
          [
           "RT @anonymized_account Beata #Mazurek w Sejmie na pytanie co myśli o pomyśle Kaczyńskiego o obniżkach wynagrodzeń: \\\"Ja nic nie myślę\\\". To słyc…"
          ],
          [
           "Motocykle opuściły gniazda i kierują się na północ. Żonkile na przedmieściach to już tylko formalność. Wiosna! :-)"
          ],
          [
           "@anonymized_account @anonymized_account 🕵 Jest tak zakonspirowany, że go nie widać. Fachowiec. \\n(Górny, prawy róg)"
          ],
          [
           "@anonymized_account Kto mieczem wojuje od pochwy ginie @anonymized_account"
          ],
          [
           "@anonymized_account W jednej z powtórek było to dobrze widać :))"
          ],
          [
           "@anonymized_account Kochana nie ma po co bo później wszyscy się będą po to kleić 😂😂"
          ],
          [
           "@anonymized_account @anonymized_account chyba nie miałeś się czego przyczepić, nie przesadzajmy :)"
          ],
          [
           "@anonymized_account @anonymized_account Ale dlaczego głupi @anonymized_account  tłumaczy to jeszcze głupszemu @anonymized_account ?"
          ],
          [
           "@anonymized_account Dzwoniłam się dowiadywać kiedy się można wprowadzać 😂nie wiedziałam ze takie problemy mogą być xd"
          ],
          [
           "@anonymized_account Już pod koniec jazdy wymusilam na rondzie.... nie wiem jak to się stało, mój mózg miał zaćmienie czy coś a"
          ],
          [
           "Nowe chodnikowe powiedzonko brzmi:\\n\\nPierdolisz jak Morawiecki, realy.\\n\\n@anonymized_account @anonymized_account \\n\\nHybryda głupoty."
          ],
          [
           "RT @anonymized_account Nowe chodnikowe powiedzonko brzmi:\\n\\nPierdolisz jak Morawiecki, realy.\\n\\n@anonymized_account @anonymized_account \\n\\nHybryda głupoty."
          ],
          [
           "Terminator X To The Edge Of Panic wykonawcy Public Enemy\\nhttps://t.co/Nqf1yFOyKg"
          ],
          [
           "@anonymized_account Zaspana jestem jeszcze sorki XD"
          ],
          [
           "@anonymized_account @anonymized_account No ja nie kojarze xD"
          ],
          [
           "@anonymized_account Pies to czasem nawet pożera książki..."
          ],
          [
           "Kiedy Christina wychodzi za mąż"
          ],
          [
           "@anonymized_account @anonymized_account Zapewne ci, co grali przez większość rundy w CLJ i nie ponieśli ani jednej porażki."
          ],
          [
           "@anonymized_account @anonymized_account Jak będzie ta pioseneczka to przychodzę\\n\\nhttps://t.co/B6ak11mI4d"
          ],
          [
           "@anonymized_account zamieszczanie takich zdjęć podczas gdy ja jestem na sucharach powinno być zabronione :)"
          ],
          [
           "@anonymized_account @anonymized_account @anonymized_account A co trzeba zrobić w kwestii finansowania kampanii z funduszy UE przez Ziobrę?"
          ],
          [
           "@anonymized_account W środku łamanie w stylu 2obiegu."
          ],
          [
           "jak ja się źle czulem jak byłem dzieckiem w  kościele to głow mala, szopka do kwadratu, nie mogłem tego wytrzymać"
          ],
          [
           "@anonymized_account @anonymized_account @anonymized_account @anonymized_account jak wróce z pracy to też podejme wyzwanie ale tym razem bedzie skromnie :)"
          ],
          [
           "@anonymized_account @anonymized_account @anonymized_account Jak pić to z klasą ;)"
          ],
          [
           "@anonymized_account @anonymized_account Ty pajacu, zmień sobie herb na pusty łeb."
          ],
          [
           "@anonymized_account W rosji sa jakieś zawody"
          ],
          [
           "@anonymized_account @anonymized_account Myślałem że to Twój ulubieniec 😂"
          ],
          [
           "@anonymized_account @anonymized_account pewnie ranking Fifa bedzie decydowal"
          ],
          [
           "@anonymized_account Łukaszewicz, co Wy tam palicie?"
          ],
          [
           "@anonymized_account @anonymized_account @anonymized_account Leszku mój kochany, masz mózg wyprany"
          ],
          [
           "@anonymized_account a ja współczuje zaślepienia.Wolę nie mieć Wolskiego niż robić kolejne długi @anonymized_account"
          ],
          [
           "@anonymized_account @anonymized_account @anonymized_account od paru lat słysze o sponsorze więc tym bardziej szacunek że przez pare lat się nieujawnił..."
          ],
          [
           "@anonymized_account Skoro Carrillo nie chce Sobola to tym bardziej nie będzie chciał Głowy. Chyba, że trener rzeczywiście odchodzi."
          ],
          [
           "@anonymized_account @anonymized_account @anonymized_account Zawsze bedą afery bo zawsze będa tacy l którzy kradną  i tacy u wladzy których to kręci"
          ],
          [
           "@anonymized_account kot też się załapał na fotke, a raczej jego dupa :)"
          ],
          [
           "@anonymized_account Szczerze? Trochę tak to wygląda, a i tak prędzej czy później ten bilans wychodzi na równo."
          ],
          [
           "@anonymized_account zaraz będą pisać że Wisła szkoli kiboli żeby potrafili maczetą wymachiwać :)"
          ],
          [
           "*stoi przed nimi król gargulców*\\nbetty: to pewnie ethel\\n\\nXDDDDDDDDDDDDDD\\n#Riverdale #RiverdalePL"
          ],
          [
           "RT @anonymized_account *stoi przed nimi król gargulców*\\nbetty: to pewnie ethel\\n\\nXDDDDDDDDDDDDDD\\n#Riverdale #RiverdalePL"
          ],
          [
           "@anonymized_account No, to ja we własnej osobie"
          ],
          [
           "@anonymized_account Słabo trzymałeś kciuki, bo podarował bramke Cracovii :)"
          ],
          [
           "@anonymized_account Odstawiając narodowość na bok to ten skład jest przecież słabiutki."
          ],
          [
           "@anonymized_account @anonymized_account Piwnica bez okien, ty to masz dobrze"
          ],
          [
           "Czuję się chora więc siedzę w domu w czapce"
          ],
          [
           "@anonymized_account Juz myslałem że coś gorszego😁😁"
          ],
          [
           "@anonymized_account @anonymized_account A gdzie Inferno napisał, że Wisła stawia na Polaków ?"
          ],
          [
           "@anonymized_account akurat Tobie bliżej do Karolaka bo w większości Cię wycięli 😂 @anonymized_account @anonymized_account @anonymized_account @anonymized_account"
          ],
          [
           "@anonymized_account Omg właśnie o nich myślałam"
          ],
          [
           "@anonymized_account Tak na pewno nie będzie. Drużyna leci w środę."
          ],
          [
           "Cudzysłów, przecinek nie jestem ruskim trollem"
          ],
          [
           "Biorąc pod uwagę, jakie dotąd mieliśmy losowania w Lidze Europy, to na ten finał w Baku w 2019 roku nie jesteśmy bez szans. 😁"
          ],
          [
           "@anonymized_account @anonymized_account Fajnie, teraz zamiast przemowy muzyczka żeby nie było słychać odzewu publiki."
          ],
          [
           "@anonymized_account @anonymized_account Białystok, ulica Wierzbowa. Jak oni to zrobili, to jest zagadka."
          ],
          [
           "@anonymized_account Straszny gangster jak po wolności chodzi"
          ],
          [
           "@anonymized_account To się nazywa uzależnienie xD"
          ],
          [
           "@anonymized_account Info z ostatniej chwili barwy pogoni skrojone przez bandytów Z Krakowa.  Pomimo zakazu Wisła rządzi"
          ],
          [
           "@anonymized_account @anonymized_account Pewnie tak bo Buchalik kontuzjowany."
          ],
          [
           "@anonymized_account to miało jakiś ciąg dalszy? 😉"
          ],
          [
           "vans do chuja przestań robić choć na chwilę zajebiste kolekcje bo w moim portfelu pieniądzen't"
          ],
          [
           "RT @anonymized_account vans do chuja przestań robić choć na chwilę zajebiste kolekcje bo w moim portfelu pieniądzen't"
          ],
          [
           "@anonymized_account @anonymized_account @anonymized_account @anonymized_account 12 mld nie mam zamiaru dyskutowa możejki i skoki"
          ],
          [
           "@anonymized_account @anonymized_account Alves był bardzo w stylu Guardioli 😛"
          ],
          [
           "@anonymized_account Co ty żresz, że ci tak pierdolnęło?"
          ],
          [
           "@anonymized_account Bo w \\\"10\\\" już grają przez Boatenga ;)"
          ],
          [
           "@anonymized_account @anonymized_account Trudno być pewnym, gdy stoperzy mogą zagrać tylko lagę do przodu, bo środka nie mamy."
          ],
          [
           "@anonymized_account @anonymized_account @anonymized_account No właśnie, nie było i dlatego patologia została stosownie potraktowana."
          ],
          [
           "@anonymized_account skoro jest dno dna to może skupmy się na tych od których coś wymagamy"
          ],
          [
           "@anonymized_account Widocznie to zbyt trudna miłość na Walentynki 😁"
          ],
          [
           "@anonymized_account Sarapata była w solarium ?"
          ],
          [
           "@anonymized_account Woda chyba zimna bo nikogo w wodzie ;-)"
          ],
          [
           "@anonymized_account ej, dobra, weźmie ten chrzest czy nie? xd"
          ],
          [
           "@anonymized_account @anonymized_account Lub bezpośredni awans, bo nie wiadomo co ze Stomilem, a przede wszystkim Bytovią :)"
          ],
          [
           "@anonymized_account @anonymized_account byłam przy tym, więc zapewniam 😉"
          ],
          [
           "@anonymized_account @anonymized_account @anonymized_account Tylko ty masz problem z rzecznikiem, więc zastanów się w kim tak naprawdę jest problem? 🤔"
          ],
          [
           "@anonymized_account Piątek  też powinien być wolny, ina 100%"
          ],
          [
           "Wassermannówna kłamie, mówiąc, że „przyszła do polityki”. Ona przyjechała na trumnie ojca."
          ],
          [
           "RT @anonymized_account Wassermannówna kłamie, mówiąc, że „przyszła do polityki”. Ona przyjechała na trumnie ojca."
          ],
          [
           "@anonymized_account Już dwa lata temu powinni wygrac Euro."
          ],
          [
           "@anonymized_account Kibice innych drużyn doceniają i trochę zazdroszczą :)"
          ],
          [
           "@anonymized_account @anonymized_account na 100% jest zmiana Śląsk - Jaga i chyba została już potwierdzona."
          ],
          [
           "@anonymized_account W tym czasie był z rodzinką na wakacjach w Gdańsku Brzeźnie to musiał zdalnie podtrzymywać związek"
          ],
          [
           "jak Patryk Jaki wygra wybory w Warszawie oczyści stolicę z byłych UBECKICH funkcjonariuszy ! #woronicza17"
          ],
          [
           "RT @anonymized_account jak Patryk Jaki wygra wybory w Warszawie oczyści stolicę z byłych UBECKICH funkcjonariuszy ! #woronicza17"
          ],
          [
           "Szkoda, że przez wymysły Mendesa taki Ruben Neves się marnuje w Wolverhampton."
          ],
          [
           "@anonymized_account @anonymized_account Nie wiem, aczkolwiek jego tata mówił, że widziałby Tomasa w Jagiellonii. 😜"
          ],
          [
           "Ja i moje psiapsi gramy w te gry na snapie i nie mogę przestać się śmiać z naszych min XD"
          ],
          [
           "@anonymized_account Kolar niestety ten sam poziom. Chyba trzeba będzie liczyć na skuteczność Boguskiego i Małeckiego..."
          ],
          [
           "Rząd zaostrzy kary za znęcanie się nad zwierzętami. Od 3-5 lat więzienia; obowiązkowa nawiązka do 100 tys zł. Więcej jutro w @anonymized_account"
          ],
          [
           "RT @anonymized_account Rząd zaostrzy kary za znęcanie się nad zwierzętami. Od 3-5 lat więzienia; obowiązkowa nawiązka do 100 tys zł. Więcej jutro w @anonymized_account"
          ],
          [
           "@anonymized_account @anonymized_account @anonymized_account czuje że Brlek prędzej czy później odpali"
          ],
          [
           "@anonymized_account @anonymized_account To, że figurowal jako zawodnik Man City nie znaczy, że będzie potrafił grać."
          ],
          [
           "@anonymized_account @anonymized_account Oczywiście, że ma rację. Chodzi tylko o to, że to jest drużyna o klasę lub dwie lepsza."
          ],
          [
           "@anonymized_account @anonymized_account Nie miał prawa stać za linią, tak prawdę mówiąc 😄 Ale w kamerach to bardzo ładnie wyglądało."
          ],
          [
           "@anonymized_account @anonymized_account @anonymized_account Ty to robisz przede wszystkim, co widać po pierwszym tweecie."
          ],
          [
           "Ostatnio czuje się tak samotna i smutna ze aż sama się dziwie"
          ],
          [
           "@anonymized_account Przecież to legionista to komu ma życzyć mistrza.Nie wiedziałeś ?"
          ],
          [
           "@anonymized_account @anonymized_account @anonymized_account dobrze by mu to zrobiło.Za słaby na Wisłe."
          ],
          [
           "@anonymized_account Hehehehehe. Róża nawet niezła była.I co z niej wyrosło!😁😁😁"
          ],
          [
           "@anonymized_account jedni wynajmują agencje do komentarzy a inni dziennikarzy"
          ],
          [
           "RT @anonymized_account @anonymized_account jedni wynajmują agencje do komentarzy a inni dziennikarzy"
          ],
          [
           "@anonymized_account pewnie jest mniej błędów bo i liczb jest mniej bo zrezygnowali ze statystyk zawodników sezon po sezonie ;)"
          ],
          [
           "@anonymized_account Krzyż przeciw prezydenturze, krzyż obłędu"
          ],
          [
           "@anonymized_account @anonymized_account Sorry ale dzisiaj nie ma opozycji. Jest grupa cwaniaków chcących odzyskać stołki."
          ],
          [
           "na kijowe życie najlepsza wódeczka"
          ],
          [
           "Co na to Herod śmierdziuszka @anonymized_account"
          ],
          [
           "@anonymized_account Brakuje mu dystansu, za bardzo się egzaltuje, a jałowe szyderstwa już mi się przejadły"
          ],
          [
           "@anonymized_account Wisła chyba ważniejsza od jakiejś Delle Donne :)"
          ],
          [
           "@anonymized_account Nawet jeśli to fejk, to zgodnie z powiedzeniem -w każdej plotce jest ziarnko prawdy. Z tym że w tym przypadku raczej ziarno😁😁"
          ],
          [
           "@anonymized_account Tez wczoraj byłam na randce która trwała cały dzień Xd"
          ],
          [
           "@anonymized_account A kierowca autobusu wstał i zaczął klaskać ?"
          ],
          [
           "@anonymized_account @anonymized_account Jak by nie było, aby było miło, teraz sie cieszysz"
          ],
          [
           "@anonymized_account No to może warto, najwyżej Cię oleje, co jest oczywiście nie do przyjęcia 😂 kto nie ryzykuje ten nie pije szampana kochana!"
          ],
          [
           "@anonymized_account @anonymized_account Trzymali się za ręce, waleczni i sprawiedliwi"
          ],
          [
           "Dudelange niby takie cwaniaki, a ciekawe czy byliby tacy mądrzy w dwuboju rzut młotem-skoki narciarskie"
          ],
          [
           "RT @anonymized_account Dudelange niby takie cwaniaki, a ciekawe czy byliby tacy mądrzy w dwuboju rzut młotem-skoki narciarskie"
          ],
          [
           "@anonymized_account @anonymized_account @anonymized_account głównie @anonymized_account który często o tym wspomina"
          ],
          [
           "Kto się jeszcze zaczepia na fejsie...."
          ],
          [
           "@anonymized_account @anonymized_account Z tymi wizjami to może być problem. Proponuję sprawdzić po czym te wizję są"
          ],
          [
           "@anonymized_account Jaki hejt.Hejt to jest na Tuska, Komorowskiego, przecież to nie Polacy, śmierć wrogom ojczyzny. Obudź się"
          ],
          [
           "Czy Antek już ogłosił, że na lewym skrzydle naszej obrony był wybuch?"
          ],
          [
           "RT @anonymized_account Czy Antek już ogłosił, że na lewym skrzydle naszej obrony był wybuch?"
          ],
          [
           "@anonymized_account jest to dobra informacja dla tych co okradali  Polskę od 89  roku  Irlandia da im wolność"
          ],
          [
           "RT @anonymized_account @anonymized_account jest to dobra informacja dla tych co okradali  Polskę od 89  roku  Irlandia da im wolność"
          ],
          [
           "Ale przecież #Polexit jest dobry. Założycie koszulki z orłem i będziecie żryć ziemniaki i wungiel 😇"
          ],
          [
           "RT @anonymized_account Ale przecież #Polexit jest dobry. Założycie koszulki z orłem i będziecie żryć ziemniaki i wungiel 😇"
          ],
          [
           "@anonymized_account @anonymized_account @anonymized_account @anonymized_account Wywalił Ronaldo w Superpucharze :)"
          ],
          [
           "@anonymized_account @anonymized_account Bo sama jest niepełnosprawna... Umysłowo.😁😁"
          ],
          [
           "Halo Kraków, kogo byście uznali za gwiazdę/najważniejszego zawodnika obecnej Wisły? 😉"
          ],
          [
           "@anonymized_account @anonymized_account Ssą wszystkimi otworami z krwi biało czerwonej"
          ],
          [
           "@anonymized_account Wy się zjednoczyliście z faszystami z połowy Europy. Kpromitacja level hard."
          ],
          [
           "@anonymized_account @anonymized_account @anonymized_account Znowu on ? 😂 to przy okazji niech się odniesie do słów Sarary 😂"
          ],
          [
           "@anonymized_account Dotarlas do orełka?😁😁 W tym roku niestety tyłko jeden😞😞"
          ],
          [
           "@anonymized_account @anonymized_account Mam rozumieć, że to mapa nasycenia krajów zboczeńcami w sutannach."
          ],
          [
           "@anonymized_account @anonymized_account @anonymized_account A Panu nie brakuje czasem art. 87 pkt1?"
          ],
          [
           "@anonymized_account Czy to oknoplus ladowal kiedyś"
          ],
          [
           "@anonymized_account @anonymized_account 5 punktów na 21 w rundzie finałowej..."
          ],
          [
           ".@anonymized_account @anonymized_account Będziemy realizować przekop Mierzei Wiślanej \\n#wieszwiecej  \\nhttps://t.co/zuCXxG1GUr"
          ],
          [
           "RT @anonymized_account .@anonymized_account @anonymized_account Będziemy realizować przekop Mierzei Wiślanej \\n#wieszwiecej  \\nhttps://t.co/zuCXxG1GUr"
          ],
          [
           "@anonymized_account Bolek wyluzuj bo jesteś sercowy."
          ],
          [
           "@anonymized_account Śmiej się  śmiej. To wcale nie jest śmieszne."
          ],
          [
           "I hope that autumn will heal me"
          ],
          [
           "Jutro po marszu, ale jeszcze kilka dni beda chodzić naćpani"
          ],
          [
           "@anonymized_account Nie ma jak lans nierobie za pieniądze podatników."
          ],
          [
           "@anonymized_account A to ja przepraszam, nie miałam wczoraj czasu na TT 😎"
          ],
          [
           "11 tysięcy miejsc zajętych, dzisiaj prawie 2000 biletów sprzedanych. Z tej okazji za chwilę nagroda 😁"
          ],
          [
           "@anonymized_account @anonymized_account To ja chyba tylko kolory porównywałem"
          ],
          [
           "Ej słuchajcie co zajebistego wymyśliłam \\n\\nJaki jest najlepszy argument bonnie z pamiętników wampirów? \\n\\nBo nnie"
          ],
          [
           "RT @anonymized_account Ej słuchajcie co zajebistego wymyśliłam \\n\\nJaki jest najlepszy argument bonnie z pamiętników wampirów? \\n\\nBo nnie"
          ],
          [
           "@anonymized_account Im więcej problemów w państwie tym więcej niewykonanych wyroków"
          ],
          [
           "Widziałam śliczną sukienkę ale nie było mniejszego rozmiaru niż 36 i była za duża danmm"
          ],
          [
           "@anonymized_account @anonymized_account Polskę to kompromitują tacy jak ty. Oszołomie."
          ],
          [
           "@anonymized_account 😁😁😁😁😁😁😁😁 @anonymized_account teraz to mnie Pani ubawiła tym paskiem. A widziała Pani swoją szyję?"
          ],
          [
           "@anonymized_account @anonymized_account @anonymized_account nie, ale jeśli ktoś wypomina Levadie to niech bedzie obiektywny i wspomni też inny wynik."
          ],
          [
           "@anonymized_account O naszych meczach z Rio Ave można powiedzieć podobnie 😉"
          ],
          [
           "W sumie to polubiłam już zajęcia z konstrukcji przekazu reklamowego i prowadzący jest świetny"
          ],
          [
           "Ej chciałabym do samorządu w sumie hahahaha"
          ],
          [
           "@anonymized_account Tez nie mam snapa hahahahaha"
          ],
          [
           "@anonymized_account Ileż można o tym Wiluszu ?..."
          ],
          [
           "@anonymized_account A po polsku to jak to będzie?"
          ],
          [
           "@anonymized_account @anonymized_account A skąd on wie jak jest w innych klubach ? Niech się wypowiada o klubach w których grał."
          ],
          [
           "I ta Wisła, która się bawi z każdym w ofensywie, w Białymstoku miała pół sytuacji."
          ],
          [
           "@anonymized_account @anonymized_account @anonymized_account Zapytalem,  szwagierka mówi że ma konto w powerbanku"
          ],
          [
           "@anonymized_account @anonymized_account Mięciuteńki straszliwie. Tam były ręce na ciele, a nie jakieś szarpanie. Tylko że nie do VAR-u."
          ],
          [
           "@anonymized_account @anonymized_account Pajacu, jak podajesz przepis to masz go znać na pamięć. Inaczej robią z siebie idiotę tak jak teraz."
          ],
          [
           "@anonymized_account Zdejmujesz Dziadkowi okulary, zakładasz Babci i jestem \\n😎"
          ],
          [
           "@anonymized_account @anonymized_account @anonymized_account w końcu jakiś ciekawy wywiad :)"
          ],
          [
           "@anonymized_account jak tam widziałeś czerwoną to rzeczywiście wyjdź"
          ],
          [
           "@anonymized_account skoro zarząd pozwala na takie cyrki to niestety potrwa to lata"
          ],
          [
           "@anonymized_account @anonymized_account Cieszmy się że drużyna dalej gra w lidze.Nie zawsze można mieć najmocniejszy skład w lidze :)"
          ],
          [
           "@anonymized_account @anonymized_account @anonymized_account Znawca wszystkiego czyli niczego od bydła po powidło"
          ],
          [
           "@anonymized_account 😂😂😂😂😂😂😂😂😂😂😂😂😂🤣🤣🤣🤣🤣🤣🤣🤣🤣🤣🤣🤣🤣😂😂😂😂😂😂😂🤣🤣🤣🤣🤣🤣🤣🤣🤣🤣🤣🤣🤣🤣🤣😂😂😂😂😂😂😂😂😂😂😂😂😂😂😂😂\\n\\nSłów odpowiednich żaden słownik nie zawiera"
          ],
          [
           "@anonymized_account Vacek, Putnocky, Nielsen.Widzę że biorą się za odmładzanie składu :)"
          ],
          [
           "@anonymized_account @anonymized_account @anonymized_account Ty się chyba debilu nie słyszysz, ty tekstów to się po nocach uczysz czy masz słuchawkę w uchu?"
          ],
          [
           "@anonymized_account Lub kibiców w Gliwicach 😜"
          ],
          [
           "@anonymized_account No właśnie była lepsza 😜"
          ],
          [
           "@anonymized_account @anonymized_account @anonymized_account @anonymized_account No weź nie rob takiej miny"
          ],
          [
           "@anonymized_account @anonymized_account @anonymized_account Szczekać to mogą tacy jak ty #delegalizacja"
          ],
          [
           "@anonymized_account Bo jest Głowacki to teraz czas na obrońców"
          ],
          [
           "@anonymized_account @anonymized_account Nie ma takiej opcji. Oszust i kłamca w roli głównej - tego jeszcze świat nie widział."
          ],
          [
           "@anonymized_account Nie jest złe! Chodzisz w szpilkach? Cokolwiek byś nie założyła to szpilki choć trochę pomogą xd"
          ],
          [
           "@anonymized_account Jakby był definitywny to trochę slabo 😂"
          ],
          [
           "@anonymized_account a co się tak pieniedzmi nagle przejmujesz ? Jak chcialas rozwiazania kontraktu z Zohnova czy Pop to kasa juz nie wazna ?"
          ],
          [
           "@anonymized_account Oskar Łąk definitywnie odszedł z Wisły ?\\n\\nhttps://t.co/o0psVgZBUl"
          ],
          [
           "@anonymized_account gratulacje ! Dzięki za dotrzymanie słowa że dzisiaj koniec :) Zasłużyłyście !"
          ],
          [
           "Jezu, co zagrali Suarez i Cavani."
          ],
          [
           "@anonymized_account Na pewno łatwiej by było znaleźć, określić i poprawić problemy"
          ],
          [
           "@anonymized_account Można, dlatego nasz poziom piłkarski był bardzo słaby wczoraj."
          ],
          [
           "@anonymized_account Wybacz, ale nie sądzę, aby głównym problemem kadry były złe powołania na numerach 21-23 w kadrze."
          ],
          [
           "jeśli nie mogę wyglądać tak jak\\n•perrie edwards\\n•troian bellisario\\nto what’s the point of existing?"
          ],
          [
           "RT @anonymized_account jeśli nie mogę wyglądać tak jak\\n•perrie edwards\\n•troian bellisario\\nto what’s the point of existing?"
          ],
          [
           "@anonymized_account Nadal i Djoković to się w sumie cieszą, bo ten, kto w ich meczu wygra, będzie praktycznie zwycięzcą turnieju."
          ],
          [
           "@anonymized_account @anonymized_account Mówisz że ONR lize doope😂"
          ],
          [
           "@anonymized_account @anonymized_account @anonymized_account wyśle im jutro list od kibiców cracovii że chcą odejścia Filipiaka.Ciekawe czy też opublikują."
          ],
          [
           "@anonymized_account @anonymized_account A kiedy zaczniecie zbiórki na krówki i świnki?"
          ],
          [
           "@anonymized_account No to skąd wiedziałeś czy stopklatka jest zrobiona w odpowiednim momencie ? Nie kompromituj się"
          ],
          [
           "@anonymized_account @anonymized_account @anonymized_account Iza - dziewczyna, cud, miód, malina 😁"
          ],
          [
           "Zaraz pół mojego instagrama i cały Twitter będzie na koncercie Eda.... i jestem jeszcze ja............"
          ],
          [
           "@anonymized_account Z tamtego Adama dziś już nic nie zostało. Ale czepianie się go za brata i ojca osobiście nie popieram"
          ],
          [
           "@anonymized_account @anonymized_account Plujecie na Polskę to my będziemy pluć na was."
          ],
          [
           "RT @anonymized_account @anonymized_account @anonymized_account Plujecie na Polskę to my będziemy pluć na was."
          ],
          [
           "@anonymized_account Może też być kołderka 😍"
          ],
          [
           "@anonymized_account Dlaczego średnio? W decydujacym o awansie Widzewa czerwcu był piłkarzem miesiąca"
          ],
          [
           "@anonymized_account błedem było ściaganie zawodników których nas niestać byleby osiągnąć cel"
          ],
          [
           "@anonymized_account Każdy kto choć trochę się orientuje w tych sprawach wie, że na Hutniku nie ma oświetlenia..."
          ],
          [
           "@anonymized_account Maliniak dal reklame za dormo ponoć caly marsz niepodleglosci ubrali, prawda to redisbad?"
          ],
          [
           "@anonymized_account niech wejdzie na luzie i pewnie tak żeby nie musiał zostawiać dokumentu, milion osób tak przemyciłam"
          ],
          [
           "@anonymized_account Cie zaraz piznę, jak nie zaczniesz myśleć"
          ],
          [
           "@anonymized_account @anonymized_account Bo byliśmy bez formy, to oczywiste. Przecież to też napisałem."
          ],
          [
           "@anonymized_account jest juz aktualizacja składów czy jakis dodatek sciągałeś ? :)"
          ],
          [
           "@anonymized_account Komentarz raz a dwa słysząc trybuny zastanawiam się czy ten kto wymyślił mecze w pn obejrzał choć jeden"
          ],
          [
           "@anonymized_account @anonymized_account @anonymized_account @anonymized_account @anonymized_account @anonymized_account Mam nadzieję że nigdy więcej. Czekam na rychłą delegalizację."
          ],
          [
           "@anonymized_account A Ty nigdy nie robisz dwóch rzeczy jednocześnie? Np. idziesz i żujesz gumę."
          ],
          [
           "@anonymized_account @anonymized_account O 11.00 wielkie obtrabienie sukcesu..."
          ],
          [
           "@anonymized_account @anonymized_account Ty kurwa @anonymized_account nie pierdol w tv bo sie żygać chce"
          ],
          [
           "@anonymized_account problemem jest to że jak sobie coś ubzdurasz to myślisz że zawsze masz racje bo jesteś wszechwiedzący@anonymized_account @anonymized_account"
          ],
          [
           "@anonymized_account Taki Błaszczykowski tez za co do repry?  Żeby niebylo ze wbijam szpilki do legi?"
          ],
          [
           "Często wracam do tego kawałka. @anonymized_account"
          ],
          [
           "@anonymized_account A pisdzielstwo, szczury, gady, plazy popromienne, azbestowe?"
          ],
          [
           "omg ale jestem wyjebana po tym wykładzie"
          ],
          [
           "@anonymized_account @anonymized_account jak Zarycki jest Twoim informatorem to te info można w kiblu spuścić"
          ],
          [
           "@anonymized_account @anonymized_account Ale Karolina ostatnio była w TVP 😜"
          ],
          [
           "#NAME?"
          ],
          [
           "@anonymized_account @anonymized_account U mnie też wyświetla właściwe kolory 😊"
          ],
          [
           "@anonymized_account @anonymized_account Najpierw kasza, później przyjemności, a kiedyś wolność, ale wy klękacie bez obawy zostanie i tak bez was"
          ],
          [
           "@anonymized_account @anonymized_account @anonymized_account No oboje Państwo wyglądacie jak rodzeństwo. I tacy żółci oboje."
          ],
          [
           "@anonymized_account No kurwa @anonymized_account ty masz nie rządzić, madz nie rządzić"
          ],
          [
           "Yerri Mina - złota piłka 😁"
          ],
          [
           "@anonymized_account jeszcze nie mam planu wykonania ;-)"
          ],
          [
           "@anonymized_account Śląsk Wrocław ma jakiś drugi podmiot, że wystawia drugi zespół w barażach?"
          ],
          [
           "@anonymized_account personalnie do tej Pani, przyjrzyj się sobie @anonymized_account @anonymized_account , @anonymized_account @anonymized_account"
          ],
          [
           "Nie wiem, jak Barcelona i Real otrząsną się po utracie tak ważnych piłkarzy, jak Paulinho i Cristiano Ronaldo."
          ],
          [
           "Polska zrealizowala nasze cele w UE na szczycie z nawiązką. Podajcie dalej RT koniecznie potrzebne - dziękuję😊\\nhttps://t.co/OzUaePZLpY"
          ],
          [
           "RT @anonymized_account Polska zrealizowala nasze cele w UE na szczycie z nawiązką. Podajcie dalej RT koniecznie potrzebne - dziękuję😊\\nhttps://t.co/Oz…"
          ],
          [
           "@anonymized_account @anonymized_account @anonymized_account A my nie mamy helikopterów, rakiet, łodzi podwodnych a mamy WOT w którym ja biegam"
          ],
          [
           "@anonymized_account @anonymized_account A czego oczekiwałeś ? Przedłużą z kimś kontrakt to poinformują"
          ],
          [
           "@anonymized_account Jeszcze Podolski od jakiegoś czasu."
          ],
          [
           "Przepraszamy. Nie wpadliśmy na to, że pokazując środkowy palec narodowi, który - ponad podziałami, czci #PW1944, możemy kogoś obrazić. Sorki"
          ],
          [
           "@anonymized_account ahhh myślałam, że na jakieś innej stronie"
          ],
          [
           "@anonymized_account Źle... Miałeś napisać, że nie możesz więcej zdradzić :("
          ],
          [
           "@anonymized_account Pan w tle, z lewej, to z mopem zasuwa? 🖒"
          ],
          [
           "Czy naprawdę trzeba publicznie przyznawać się do nieprzygotowania do meczu, drodzy panowie komentatorzy? (kwestia Sheridana)"
          ],
          [
           "Na tt te beznadziejne gadki o niczym, to już wolę sam ze sobą"
          ],
          [
           "@anonymized_account Pamiętaj, ze ja daleko do ciebie nie mam 😂"
          ],
          [
           "@anonymized_account Pomysł sobie ze ja oblałam bo z pełna świadomością wjebalam się na rondo XD widzisz to taki mały błąd, Ew"
          ],
          [
           "@anonymized_account Jest tej chołoty tutaj całkiem sporo. Napewno się udzielają."
          ],
          [
           "@anonymized_account Hejka, hejka, sejonarka w czwartek o 11 juz do domku"
          ],
          [
           "@anonymized_account @anonymized_account Mistrz, człowiek mem jedyny na świecie"
          ],
          [
           "@anonymized_account @anonymized_account @anonymized_account York czy Leszek Miller? :)"
          ],
          [
           "@anonymized_account Kiedys kazdy kopniak bez piłki = czerwona, a jeśli to było tylko położenie ręki na głowę, to nie mamy o czym rozmawiac :)"
          ],
          [
           "Morawieckiemu coś nie idzie w Namysłowie. Teraz jako były prezes BZK WBK przedstawia się jaki ten, który zwalcza \\\"zachodnie korporacje\\\"."
          ],
          [
           "RT @anonymized_account Morawieckiemu coś nie idzie w Namysłowie. Teraz jako były prezes BZK WBK przedstawia się jaki ten, który zwalcza \\\"zacho…"
          ],
          [
           "@anonymized_account No widzisz, a zwycięską asystę w tym meczu zanotował Griezmann. MVP = najbardziej wartościowy zawodnik :)"
          ],
          [
           "@anonymized_account do domu bo ci rózga dupę @anonymized_account ty mały  @anonymized_account"
          ],
          [
           "Jak go pierwszy raz usłyszałam to miałam ciarki na całym ciele"
          ],
          [
           "@anonymized_account kibice nigdy nie pozwolą na to żeby po raz kolejny był trenerem"
          ],
          [
           "Teraz zarykam nos i mowie \\\"cała polska z was sie śmieje, komuniści i zlodzieje,"
          ],
          [
           "@anonymized_account Jego tata tłumaczył konferencję przy okazji meczu z Rio Ave w Vila do Conde :)"
          ],
          [
           "@anonymized_account a wyśmiewanie Lionela M. było po skazaniu go za oszustwa podatkowe ? bo jakoś przeoczyłem"
          ],
          [
           "@anonymized_account @anonymized_account @anonymized_account życzę Gatcie mistrza bo zasługują na to grając 2 sezony na wysokim poziomie."
          ],
          [
           "@anonymized_account Plakat widzę tak @anonymized_account z  @anonymized_account wymiana spojrzeń  a @anonymized_account na kolanach liże ich po stopach"
          ],
          [
           "@anonymized_account Pana zdanie nie interesuje Polaków ❗\\nWypchaj się Pan niemiecką, śmierdzącą onucą ❗"
          ],
          [
           "RT @anonymized_account @anonymized_account Pana zdanie nie interesuje Polaków ❗\\nWypchaj się Pan niemiecką, śmierdzącą onucą ❗"
          ],
          [
           "@anonymized_account @anonymized_account Mógł, ale jakoś nie chce mi się wierzyć, że tak to wyglądało."
          ],
          [
           "em ok wątek Jerzego i Zuzy w Przyjaciółkach to najlepsze co tam było kiedykolwiek"
          ],
          [
           "RT @anonymized_account @anonymized_account Giertych: myślę, że myślę."
          ],
          [
           "Ostatnio się zrobiłam polityczna chyba studia weszły mi za mocno"
          ],
          [
           "@anonymized_account Badziewny zespół, a i tak Anglicy byli o krok od straty punktów :)"
          ],
          [
           "@anonymized_account nawet pasy to dla was za duże wyzwanie co widać po twoim profilowym.Mistrzowie opraw."
          ],
          [
           "@anonymized_account nie chodziło mi o to że się cieszyłeś z upadku Wisły tylko że masz czarny humor :) że się z Wisły na Chojnice przerzuciłem :)"
          ],
          [
           "Ta drużyna powstała za czasów PO-PSL."
          ],
          [
           "RT @anonymized_account Ta drużyna powstała za czasów PO-PSL."
          ],
          [
           "@anonymized_account Hołd to się oddaje bohaterom...."
          ],
          [
           "@anonymized_account @anonymized_account  a co ma procent zapelnienia pojemnosci do frekwencji ? Po za tym co to jest 50% na takim malym stadionie ?"
          ],
          [
           "Spółka srebrna kapitał  7 mln,  w zarządzie sekretarka i kierowca Jarkacza"
          ],
          [
           "@anonymized_account Haha  a ilu ty zapraszasz do studia co pierd...takie głupoty..."
          ],
          [
           "RT @anonymized_account @anonymized_account Haha  a ilu ty zapraszasz do studia co pierd...takie głupoty..."
          ],
          [
           "Kto chce zrobić ze mna tea party??"
          ],
          [
           "@anonymized_account Ale za to wystąpił równie błyskotliwy,inteligentny, merytoryczny,bystry poseł Kieeerwiiinski!!!"
          ],
          [
           "@anonymized_account No gdzie, wszystko zależało od Lecha w ostatniej kolejce :D"
          ],
          [
           "Moja morda to takie spierdolenie ze zaraz rykne"
          ],
          [
           "RT @anonymized_account Moja morda to takie spierdolenie ze zaraz rykne"
          ],
          [
           "@anonymized_account @anonymized_account No w różnych miejscach ludzie seks uprawiają. Dajcie spokój..."
          ],
          [
           "@anonymized_account Ok boli, boli. Czarne katabasy, mordercy irlandzkich kobiet i sierot do kruchty i pokutować do końca życia za swoje występki."
          ],
          [
           "Czemu żaden tramwaj nie jedzie wtf"
          ],
          [
           "@anonymized_account Tak, statystyki to kłamstwa. Za to wyciągnięcie jednej sytuacji z 90 minutowego meczu to bezcenny dowód."
          ],
          [
           "@anonymized_account @anonymized_account Zamiast tego można znaleźć grafiki na różnych ekranach / telebimach w mieście."
          ],
          [
           "@anonymized_account Niby sami świnie, a nic nie wiedzą"
          ],
          [
           "@anonymized_account Ale co to ma do Mystka?"
          ],
          [
           "@anonymized_account Serio chcecie cichego stadionu ?"
          ],
          [
           "Co to miało być? 😂"
          ],
          [
           "@anonymized_account tego się niespodziewałem po Tobie... Zawiodłeś nas :D @anonymized_account"
          ]
         ],
         "hovertemplate": "x=%{x}<br>y=%{y}<br>text=%{customdata[0]}<br>label=%{marker.color}<extra></extra>",
         "legendgroup": "",
         "marker": {
          "color": [
           0,
           0,
           0,
           0,
           0,
           0,
           0,
           0,
           0,
           2,
           0,
           0,
           0,
           0,
           0,
           0,
           0,
           0,
           0,
           0,
           0,
           2,
           0,
           0,
           0,
           0,
           0,
           0,
           0,
           0,
           0,
           0,
           0,
           0,
           0,
           0,
           0,
           0,
           0,
           2,
           0,
           0,
           0,
           0,
           1,
           0,
           0,
           0,
           0,
           0,
           0,
           0,
           0,
           1,
           0,
           0,
           0,
           0,
           0,
           0,
           0,
           0,
           0,
           0,
           0,
           0,
           0,
           0,
           0,
           0,
           0,
           0,
           0,
           0,
           0,
           0,
           0,
           0,
           0,
           0,
           0,
           0,
           0,
           0,
           0,
           0,
           0,
           0,
           0,
           0,
           0,
           0,
           0,
           0,
           0,
           0,
           0,
           0,
           0,
           0,
           0,
           0,
           0,
           0,
           0,
           0,
           0,
           2,
           0,
           0,
           0,
           0,
           0,
           0,
           0,
           0,
           0,
           2,
           0,
           0,
           0,
           0,
           0,
           0,
           0,
           0,
           0,
           0,
           0,
           0,
           0,
           0,
           0,
           0,
           2,
           0,
           2,
           0,
           0,
           0,
           2,
           0,
           0,
           0,
           0,
           0,
           0,
           0,
           0,
           0,
           0,
           0,
           0,
           1,
           1,
           0,
           2,
           0,
           0,
           0,
           2,
           1,
           0,
           0,
           0,
           0,
           0,
           0,
           0,
           0,
           0,
           0,
           0,
           0,
           0,
           0,
           0,
           0,
           0,
           0,
           0,
           0,
           0,
           0,
           0,
           0,
           0,
           1,
           1,
           0,
           0,
           0,
           2,
           2,
           0,
           0,
           0,
           2,
           0,
           0,
           0,
           0,
           0,
           0,
           0,
           0,
           0,
           0,
           0,
           0,
           0,
           2,
           0,
           0,
           0,
           0,
           1,
           0,
           0,
           0,
           0,
           0,
           0,
           0,
           0,
           0,
           0,
           0,
           0,
           0,
           0,
           0,
           0,
           0,
           0,
           0,
           0,
           0,
           0,
           0,
           0,
           0,
           0,
           0,
           0,
           0,
           0,
           0,
           0,
           0,
           0,
           0,
           1,
           0,
           0,
           0,
           0,
           1,
           0,
           0,
           0,
           0,
           0,
           0,
           0,
           0,
           0,
           0,
           0,
           2,
           2,
           2,
           2,
           0,
           0,
           0,
           0,
           0,
           2,
           0,
           0,
           0,
           0,
           0,
           0,
           0,
           0,
           0,
           0,
           0,
           0,
           0,
           0,
           0,
           0,
           0,
           0,
           2,
           2,
           0,
           0,
           0,
           0,
           1,
           0,
           0,
           0,
           0,
           0,
           0,
           0,
           0,
           0,
           0,
           0,
           0,
           2,
           2,
           0,
           0,
           0,
           0,
           0,
           0,
           0,
           0,
           0,
           0,
           0,
           0,
           0,
           1,
           0,
           0,
           0,
           0,
           1,
           0,
           0,
           0,
           0,
           0,
           0,
           0,
           0,
           0,
           0,
           0,
           0,
           0,
           0,
           0,
           0,
           0,
           0,
           0,
           0,
           0,
           0,
           0,
           0,
           0,
           0,
           0,
           0,
           0,
           0,
           0,
           0,
           2,
           0,
           0,
           0,
           0,
           0,
           0,
           0,
           0,
           0,
           0,
           0,
           0,
           2,
           2,
           0,
           0,
           0,
           0,
           2,
           2,
           0,
           0,
           0,
           0,
           0,
           0,
           0,
           0,
           0,
           0,
           0,
           0,
           0,
           0,
           0,
           0,
           0,
           0,
           0,
           0,
           0,
           0,
           0,
           0,
           0,
           0,
           0,
           0,
           0,
           0,
           0,
           0,
           0,
           0,
           0,
           2,
           0,
           0,
           0,
           0,
           0,
           0,
           0,
           1,
           0,
           0,
           0,
           0,
           0,
           2,
           0,
           0,
           0,
           0,
           0,
           0,
           0,
           0,
           0,
           0,
           0,
           0,
           0,
           0,
           0,
           0,
           0,
           2,
           2,
           0,
           0,
           0,
           0,
           0,
           0,
           0,
           0,
           0,
           0,
           0,
           0,
           0,
           0,
           0,
           0,
           0,
           0,
           0,
           0,
           2,
           0,
           0,
           0,
           0,
           0,
           0,
           0,
           0,
           0,
           0,
           0,
           0,
           0,
           0,
           0,
           0,
           0,
           0,
           0,
           0,
           0,
           0,
           0,
           0,
           0,
           2,
           2,
           0,
           0,
           0,
           0,
           0,
           0,
           1,
           0,
           0,
           0,
           0,
           0,
           0,
           2,
           0,
           0,
           0,
           2,
           0,
           0,
           0,
           0,
           0,
           0,
           0,
           0,
           0,
           0,
           0,
           0,
           0,
           0,
           0,
           0,
           0,
           0,
           0,
           0,
           0,
           0,
           0,
           0,
           0,
           0,
           0,
           0,
           0,
           0,
           0,
           0,
           0,
           0,
           2,
           0,
           0,
           2,
           0,
           0,
           0,
           2,
           2,
           2,
           0,
           0,
           0,
           0,
           0,
           0,
           0,
           0,
           0,
           0,
           0,
           0,
           0,
           0,
           0,
           0,
           0,
           0,
           0,
           0,
           0,
           0,
           0,
           0,
           0,
           0,
           0,
           0,
           0
          ],
          "coloraxis": "coloraxis",
          "symbol": "circle"
         },
         "mode": "markers",
         "name": "",
         "orientation": "v",
         "showlegend": false,
         "type": "scatter",
         "x": [
          3.1618309020996094,
          -3.8789069652557373,
          -17.174402236938477,
          -16.12397575378418,
          4.298535346984863,
          13.57029914855957,
          14.349091529846191,
          17.215253829956055,
          2.256882905960083,
          -14.736557960510254,
          -17.2434139251709,
          -12.534588813781738,
          -0.9743331670761108,
          -13.255733489990234,
          -9.201655387878418,
          -18.467517852783203,
          -18.391521453857422,
          5.089404106140137,
          -6.681649208068848,
          -24.752857208251953,
          -5.69856071472168,
          -0.0968342125415802,
          0.17975807189941406,
          9.020166397094727,
          11.479377746582031,
          9.951895713806152,
          -10.336043357849121,
          11.854196548461914,
          12.961981773376465,
          10.018033981323242,
          22.70861053466797,
          22.715375900268555,
          -13.969892501831055,
          -19.750587463378906,
          17.912282943725586,
          16.9097843170166,
          9.723512649536133,
          3.6023552417755127,
          13.493610382080078,
          -3.7152657508850098,
          -6.5093770027160645,
          -6.51447868347168,
          -15.855525970458984,
          -1.087195634841919,
          5.960366249084473,
          -13.117616653442383,
          5.853503227233887,
          7.4314680099487305,
          12.296340942382812,
          -22.398426055908203,
          -22.387958526611328,
          1.0424244403839111,
          -18.09494400024414,
          16.661794662475586,
          15.750534057617188,
          3.2267556190490723,
          0.3697996735572815,
          15.398350715637207,
          9.259764671325684,
          -3.6547281742095947,
          -13.999444007873535,
          -5.9482102394104,
          -6.233059406280518,
          11.699033737182617,
          -7.980016231536865,
          -18.482303619384766,
          -10.267986297607422,
          7.806138515472412,
          -6.682426929473877,
          -1.1351995468139648,
          12.553696632385254,
          -18.697750091552734,
          -2.9440174102783203,
          6.007632255554199,
          -13.231356620788574,
          -9.794967651367188,
          -14.449353218078613,
          9.971097946166992,
          -0.1966019719839096,
          0.6670706272125244,
          -3.6393020153045654,
          -26.595539093017578,
          -4.537623405456543,
          -5.015341758728027,
          -4.96086311340332,
          12.604567527770996,
          -6.917648792266846,
          -17.906286239624023,
          -17.917911529541016,
          -9.11750602722168,
          -6.555814743041992,
          -6.311221122741699,
          -18.192060470581055,
          -14.60569953918457,
          8.228500366210938,
          0.26726123690605164,
          -3.1777117252349854,
          -11.59000301361084,
          -11.813725471496582,
          -6.240874767303467,
          10.298052787780762,
          -6.227147579193115,
          -8.911816596984863,
          14.140519142150879,
          -10.16259765625,
          -4.030680179595947,
          18.561403274536133,
          6.118236064910889,
          11.30751895904541,
          -14.009561538696289,
          -2.501370906829834,
          -2.5706231594085693,
          -28.052452087402344,
          -28.051057815551758,
          1.1991215944290161,
          12.442831993103027,
          -18.70940399169922,
          -20.11216163635254,
          20.870197296142578,
          -8.777393341064453,
          -10.980623245239258,
          -11.007654190063477,
          10.852378845214844,
          6.304081916809082,
          -16.416284561157227,
          10.949110984802246,
          10.150591850280762,
          1.9638673067092896,
          13.432466506958008,
          -15.50108814239502,
          8.139719009399414,
          -10.867457389831543,
          15.483131408691406,
          2.0761895179748535,
          -2.954373359680176,
          -0.29616498947143555,
          -5.471871852874756,
          -10.153424263000488,
          -10.169241905212402,
          -4.805463790893555,
          2.364874839782715,
          -18.082883834838867,
          12.398098945617676,
          -15.819879531860352,
          1.945204257965088,
          -11.556443214416504,
          12.09074878692627,
          12.047210693359375,
          -17.414953231811523,
          -17.76666259765625,
          -18.599716186523438,
          9.386239051818848,
          7.826773643493652,
          6.343659400939941,
          6.297962188720703,
          -1.435689926147461,
          6.365653038024902,
          -17.1119384765625,
          2.8066093921661377,
          13.04610538482666,
          14.65284538269043,
          11.448859214782715,
          4.149858474731445,
          7.025625705718994,
          9.41225814819336,
          17.348886489868164,
          14.942983627319336,
          -0.7808319926261902,
          19.423593521118164,
          -1.246250033378601,
          -9.628073692321777,
          -10.909812927246094,
          -5.915914535522461,
          13.362761497497559,
          4.5289740562438965,
          14.631131172180176,
          -4.318521499633789,
          3.8146119117736816,
          17.29005241394043,
          2.016345977783203,
          15.802469253540039,
          -0.04062487930059433,
          -0.05314137414097786,
          -13.600295066833496,
          -16.634931564331055,
          -7.202750205993652,
          14.52318000793457,
          -13.035124778747559,
          -13.103734016418457,
          4.197226047515869,
          2.1934595108032227,
          7.070520877838135,
          7.062119960784912,
          2.0526251792907715,
          12.460034370422363,
          2.752394676208496,
          7.748365879058838,
          -10.632534980773926,
          -19.694631576538086,
          13.880481719970703,
          12.391849517822266,
          5.738070011138916,
          1.3673949241638184,
          -20.987163543701172,
          -20.987529754638672,
          9.677324295043945,
          10.448091506958008,
          3.1872575283050537,
          -2.2462940216064453,
          -14.806307792663574,
          5.321934223175049,
          -7.967014312744141,
          25.377470016479492,
          15.883109092712402,
          -9.882821083068848,
          14.743820190429688,
          -21.605443954467773,
          16.342695236206055,
          5.4193034172058105,
          23.77056121826172,
          4.624534606933594,
          23.701866149902344,
          -7.324614524841309,
          22.6488094329834,
          1.578902006149292,
          0.17522653937339783,
          0.9379889965057373,
          -3.8567943572998047,
          -8.106109619140625,
          -10.901237487792969,
          23.6953125,
          9.612374305725098,
          8.221235275268555,
          11.842679023742676,
          4.756143093109131,
          -7.892502307891846,
          1.3946353197097778,
          2.7787654399871826,
          8.553790092468262,
          18.362531661987305,
          -6.333151340484619,
          2.9862937927246094,
          -23.900712966918945,
          -23.88016700744629,
          -14.354754447937012,
          -14.99019718170166,
          3.4452903270721436,
          6.072153568267822,
          -12.311452865600586,
          -15.015120506286621,
          8.188945770263672,
          19.31267547607422,
          -17.224573135375977,
          0.2413807064294815,
          0.1377916783094406,
          -10.345502853393555,
          16.817476272583008,
          3.6670236587524414,
          13.01551342010498,
          -0.5051065683364868,
          4.3653106689453125,
          -3.380807638168335,
          -12.251911163330078,
          16.432819366455078,
          -18.43195152282715,
          -18.063947677612305,
          -20.850744247436523,
          -20.854915618896484,
          -19.870182037353516,
          15.315018653869629,
          4.603707313537598,
          3.3108274936676025,
          -8.609109878540039,
          -13.812973022460938,
          10.168158531188965,
          15.409252166748047,
          13.75094223022461,
          -16.346426010131836,
          4.639848709106445,
          -20.254838943481445,
          -17.818456649780273,
          -1.384784460067749,
          -4.052642345428467,
          7.193218231201172,
          7.091152667999268,
          1.2648862600326538,
          -13.080266952514648,
          4.395518779754639,
          1.9251292943954468,
          -10.51726245880127,
          12.72262954711914,
          -1.421290397644043,
          11.52579116821289,
          -1.9964613914489746,
          -10.924161911010742,
          -20.227493286132812,
          -1.4202409982681274,
          17.322301864624023,
          10.130105972290039,
          -2.9541919231414795,
          14.934438705444336,
          1.0103453397750854,
          12.197736740112305,
          3.578857898712158,
          9.026233673095703,
          -2.7808339595794678,
          -2.8230509757995605,
          8.887518882751465,
          3.602597951889038,
          -15.51177978515625,
          -0.07570437341928482,
          13.338412284851074,
          14.193702697753906,
          -13.508712768554688,
          11.366801261901855,
          10.423969268798828,
          -22.181663513183594,
          -22.11089324951172,
          -22.972848892211914,
          1.6545966863632202,
          1.551939845085144,
          15.994492530822754,
          -6.576082229614258,
          -6.040513038635254,
          -10.247871398925781,
          10.398233413696289,
          -10.666557312011719,
          -7.750085353851318,
          17.15412712097168,
          2.9530677795410156,
          -12.651300430297852,
          -3.6160364151000977,
          24.219938278198242,
          -9.948158264160156,
          -13.248600959777832,
          -6.062920093536377,
          -17.341129302978516,
          4.918456077575684,
          -3.3839569091796875,
          15.177850723266602,
          -3.5432748794555664,
          10.23542308807373,
          12.78515338897705,
          9.368605613708496,
          -20.49095916748047,
          -20.48109245300293,
          -1.8387433290481567,
          -10.170230865478516,
          7.562105655670166,
          -5.359764099121094,
          18.197689056396484,
          18.847585678100586,
          -10.380800247192383,
          -15.480035781860352,
          20.82541275024414,
          14.707289695739746,
          18.801307678222656,
          -4.853247165679932,
          9.980813026428223,
          -10.1320219039917,
          -0.4920671582221985,
          0.8670443296432495,
          -8.197829246520996,
          -13.715256690979004,
          6.395859718322754,
          15.388289451599121,
          15.272335052490234,
          -16.74432945251465,
          -1.5629302263259888,
          4.076020240783691,
          -6.199113368988037,
          8.370587348937988,
          2.296398639678955,
          11.305556297302246,
          7.8215765953063965,
          -12.5398530960083,
          19.532808303833008,
          8.207170486450195,
          9.58459186553955,
          1.7343347072601318,
          4.737700939178467,
          7.236852645874023,
          -13.24152946472168,
          -13.225746154785156,
          -1.6713635921478271,
          5.013000965118408,
          1.6461297273635864,
          -5.415408611297607,
          -11.75387191772461,
          -11.777854919433594,
          -2.31289005279541,
          -0.8138179183006287,
          14.584100723266602,
          6.358098030090332,
          -15.703590393066406,
          -15.696440696716309,
          -13.87807559967041,
          0.16764262318611145,
          9.829882621765137,
          14.593222618103027,
          2.6707935333251953,
          17.76209259033203,
          5.619737148284912,
          -7.232110500335693,
          -0.6724134683609009,
          -25.195127487182617,
          -25.195301055908203,
          14.277938842773438,
          -17.559480667114258,
          4.763827323913574,
          17.629985809326172,
          2.5102202892303467,
          22.668397903442383,
          -8.040095329284668,
          9.990147590637207,
          20.039730072021484,
          7.504707336425781,
          11.14100170135498,
          16.057132720947266,
          -8.070868492126465,
          23.962556838989258,
          23.908021926879883,
          -16.061628341674805,
          11.27216911315918,
          8.538687705993652,
          7.487873554229736,
          -3.747912645339966,
          -3.7520883083343506,
          -0.06903363764286041,
          -0.1416216492652893,
          9.587462425231934,
          9.497203826904297,
          -19.375991821289062,
          -12.366326332092285,
          -4.102109432220459,
          -16.748395919799805,
          -15.79029655456543,
          -0.08462933450937271,
          -8.830818176269531,
          -8.635000228881836,
          -14.568338394165039,
          3.9743077754974365,
          -7.706377983093262,
          -25.26764678955078,
          -25.246623992919922,
          -3.315277576446533,
          17.11728286743164,
          -25.017953872680664,
          12.219646453857422,
          16.82468032836914,
          9.53237533569336,
          -16.27519416809082,
          6.448991775512695,
          8.047202110290527,
          8.011321067810059,
          -4.812816143035889,
          16.450040817260742,
          -10.5585298538208,
          1.311885118484497,
          3.6590399742126465,
          -13.579290390014648,
          13.215788841247559,
          16.360698699951172,
          1.626289963722229,
          -1.4663853645324707,
          4.8442487716674805,
          6.340195178985596,
          -4.931217670440674,
          -10.81102180480957,
          5.645547866821289,
          4.959329605102539,
          -14.477994918823242,
          -19.15766716003418,
          20.51483154296875,
          12.528549194335938,
          -3.7628250122070312,
          -16.368860244750977,
          4.520432949066162,
          -11.781257629394531,
          3.6717724800109863,
          -11.159612655639648,
          2.255147933959961,
          -16.922956466674805,
          -11.008007049560547,
          8.07091236114502,
          8.521506309509277,
          15.056760787963867,
          15.33332347869873,
          6.520781517028809,
          -14.482908248901367,
          10.578519821166992,
          -9.45666790008545,
          11.209672927856445,
          6.0932230949401855,
          2.3091864585876465,
          -24.55556297302246,
          -24.541589736938477,
          -3.98571515083313,
          -3.301997661590576,
          -2.737677574157715,
          -5.664515972137451,
          6.689025402069092,
          -20.93766975402832,
          19.186046600341797,
          17.466291427612305,
          5.907171249389648,
          5.884777545928955,
          7.918832302093506,
          -7.827000617980957,
          8.911863327026367,
          11.51444149017334,
          7.817206382751465,
          12.375911712646484,
          11.883185386657715,
          6.820135593414307,
          5.176202297210693,
          9.344256401062012,
          -17.350093841552734,
          4.850672245025635,
          -19.168071746826172,
          -0.13397431373596191,
          6.274693489074707,
          10.247594833374023,
          -10.34093189239502,
          -21.0396728515625,
          16.862751007080078,
          0.1884172409772873,
          -12.600202560424805,
          -22.99669075012207,
          3.0333902835845947,
          4.051271438598633,
          -10.438817977905273,
          -0.27000749111175537,
          -11.121679306030273,
          1.8746954202651978,
          8.642951011657715,
          -16.38418197631836,
          13.593064308166504,
          -4.736647605895996,
          -4.751167297363281,
          -6.053203105926514,
          5.179539203643799,
          -8.638376235961914,
          -1.0496913194656372,
          19.309404373168945,
          5.723336219787598,
          -0.6843600869178772,
          8.416901588439941,
          14.99864673614502,
          10.355639457702637,
          11.586591720581055,
          6.216439723968506,
          -6.022481441497803,
          -20.242225646972656,
          -19.581233978271484,
          10.466775894165039,
          -2.5087246894836426,
          -2.496428966522217,
          -8.121020317077637,
          -3.330514907836914,
          20.495380401611328,
          20.196550369262695,
          -13.353890419006348,
          -13.005980491638184,
          3.3597819805145264,
          -5.88055419921875,
          -7.267571449279785,
          -1.0881519317626953,
          -1.113721251487732,
          15.908190727233887,
          13.774653434753418,
          -15.802277565002441,
          22.672029495239258,
          -7.5831298828125,
          11.34150218963623,
          11.702818870544434,
          -25.99577522277832,
          -26.036540985107422,
          -5.823916435241699,
          3.2099218368530273,
          -11.536674499511719,
          2.831129550933838,
          2.7525603771209717,
          0.4954235851764679,
          -3.7952373027801514,
          -8.007227897644043,
          10.575153350830078,
          10.537216186523438,
          -12.238449096679688,
          -12.516969680786133,
          19.07723045349121,
          1.2625142335891724,
          -8.242953300476074,
          13.180490493774414,
          4.63156270980835,
          -16.866464614868164,
          5.62435245513916,
          -8.094666481018066
         ],
         "xaxis": "x",
         "y": [
          13.726524353027344,
          -10.912703514099121,
          1.4885505437850952,
          -12.745790481567383,
          11.790064811706543,
          -6.391862392425537,
          -1.5470255613327026,
          14.186989784240723,
          13.404399871826172,
          -18.627416610717773,
          -19.608034133911133,
          -12.098226547241211,
          15.058850288391113,
          -4.3863844871521,
          0.5489920973777771,
          0.7782750725746155,
          0.7519016265869141,
          -7.14833402633667,
          14.635964393615723,
          -7.547289848327637,
          9.399733543395996,
          -15.616661071777344,
          7.7931227684021,
          -5.822627544403076,
          -5.716988563537598,
          -15.311059951782227,
          -2.048410654067993,
          -11.01600170135498,
          -2.6066651344299316,
          0.48059120774269104,
          15.487927436828613,
          15.492416381835938,
          10.811712265014648,
          -16.334287643432617,
          5.94184684753418,
          4.095304012298584,
          4.501517295837402,
          -4.434582710266113,
          -12.586992263793945,
          9.431215286254883,
          -3.9993155002593994,
          -4.041436195373535,
          -4.257277488708496,
          -18.865177154541016,
          0.4146757125854492,
          7.563570499420166,
          -7.783592700958252,
          22.396137237548828,
          -7.860110282897949,
          2.32429575920105,
          2.328488826751709,
          4.307482719421387,
          -6.016602039337158,
          14.66425609588623,
          12.34170913696289,
          19.22432518005371,
          -10.079384803771973,
          3.205885171890259,
          -5.1976423263549805,
          18.17789649963379,
          14.570988655090332,
          4.881901741027832,
          -0.5763998031616211,
          -2.9006779193878174,
          -1.4069395065307617,
          -15.142417907714844,
          18.824264526367188,
          -3.26401686668396,
          -12.909899711608887,
          9.559682846069336,
          5.7161641120910645,
          -11.934930801391602,
          14.992470741271973,
          15.150662422180176,
          -18.775775909423828,
          1.866256594657898,
          4.176107406616211,
          20.436697006225586,
          0.6778188347816467,
          23.065048217773438,
          -7.702735424041748,
          4.531080722808838,
          -6.0288519859313965,
          7.396999835968018,
          7.441344738006592,
          -15.188602447509766,
          -22.100597381591797,
          -7.458430767059326,
          -7.515311241149902,
          -15.286944389343262,
          -11.058387756347656,
          11.939274787902832,
          -17.983888626098633,
          -13.219266891479492,
          15.196622848510742,
          11.36674690246582,
          1.408733606338501,
          15.889826774597168,
          5.664126873016357,
          6.533340930938721,
          14.349020957946777,
          3.298588752746582,
          2.0982582569122314,
          11.83426570892334,
          -11.630703926086426,
          3.2508416175842285,
          8.02953052520752,
          7.078150749206543,
          0.8955636024475098,
          5.522248268127441,
          -3.840864419937134,
          -3.8452398777008057,
          -1.005914568901062,
          -1.0083328485488892,
          10.410796165466309,
          1.9727030992507935,
          -3.489825963973999,
          -14.045366287231445,
          9.109295845031738,
          -9.723891258239746,
          17.46798324584961,
          17.554786682128906,
          12.421929359436035,
          -11.001143455505371,
          -18.183975219726562,
          -4.0377607345581055,
          -2.0618255138397217,
          19.25017738342285,
          7.431597709655762,
          -16.505306243896484,
          18.14073371887207,
          -5.53864049911499,
          -3.002424478530884,
          -10.758672714233398,
          -13.27122974395752,
          -6.432204246520996,
          1.6662017107009888,
          -9.975489616394043,
          5.669865131378174,
          13.634973526000977,
          -2.8746941089630127,
          -16.137054443359375,
          -0.38230112195014954,
          -1.5178879499435425,
          1.4194698333740234,
          -16.171472549438477,
          21.239877700805664,
          21.211063385009766,
          -13.819490432739258,
          -2.9314486980438232,
          -18.0130672454834,
          0.46869131922721863,
          8.411689758300781,
          -17.571044921875,
          -17.555171966552734,
          -0.9664380550384521,
          3.9528281688690186,
          -10.743021011352539,
          1.860943078994751,
          4.17146635055542,
          16.89508628845215,
          6.724856376647949,
          15.292709350585938,
          8.12271499633789,
          -13.592535972595215,
          10.748129844665527,
          0.33795133233070374,
          20.1314697265625,
          12.25714111328125,
          -11.40712833404541,
          -10.570597648620605,
          5.326019763946533,
          -8.511734962463379,
          -9.668075561523438,
          1.6853008270263672,
          14.652438163757324,
          -9.958154678344727,
          5.4493303298950195,
          5.5916056632995605,
          -1.3352134227752686,
          -10.939265251159668,
          -2.855576753616333,
          -2.86651873588562,
          -18.7535400390625,
          4.304232597351074,
          -19.814411163330078,
          -2.7669973373413086,
          9.977254867553711,
          9.98553466796875,
          -15.174880027770996,
          7.742497444152832,
          -14.599194526672363,
          23.626873016357422,
          -4.224542140960693,
          12.786248207092285,
          -12.65208911895752,
          11.580236434936523,
          8.423416137695312,
          4.428611755371094,
          9.863737106323242,
          8.445709228515625,
          14.533291816711426,
          14.868185043334961,
          4.387116432189941,
          4.371464729309082,
          3.425469398498535,
          2.145961046218872,
          19.05755615234375,
          1.3513456583023071,
          -4.559004783630371,
          17.178071975708008,
          -11.38128662109375,
          -1.0983399152755737,
          -11.982834815979004,
          10.695863723754883,
          0.32189372181892395,
          -10.598723411560059,
          9.207148551940918,
          13.007390022277832,
          0.5407513380050659,
          4.682785987854004,
          5.291147232055664,
          -18.658889770507812,
          -3.0313303470611572,
          -8.915496826171875,
          10.444894790649414,
          -20.400846481323242,
          -6.3022918701171875,
          -7.625503063201904,
          3.115325927734375,
          9.070180892944336,
          9.105579376220703,
          -1.3114006519317627,
          11.704275131225586,
          -3.203721046447754,
          10.213580131530762,
          23.404390335083008,
          -9.331792831420898,
          -1.002340316772461,
          17.379663467407227,
          -14.113017082214355,
          -8.264350891113281,
          -2.1690475940704346,
          -2.2184956073760986,
          -14.9021635055542,
          -11.413572311401367,
          -2.1553502082824707,
          4.4119062423706055,
          -4.805300712585449,
          -21.82852554321289,
          8.959179878234863,
          12.748480796813965,
          -23.057113647460938,
          -12.994089126586914,
          -13.02389907836914,
          -0.7265257239341736,
          -4.7851386070251465,
          8.254335403442383,
          -2.0999040603637695,
          3.913309097290039,
          10.956770896911621,
          -6.274969577789307,
          18.1961612701416,
          6.559361934661865,
          -21.04867935180664,
          -13.376704216003418,
          14.754535675048828,
          14.750273704528809,
          -1.264704942703247,
          11.168960571289062,
          9.848694801330566,
          10.455321311950684,
          16.432907104492188,
          -6.921817302703857,
          -11.379162788391113,
          -2.1607000827789307,
          6.126483917236328,
          -15.2470064163208,
          -1.3121098279953003,
          -5.108148574829102,
          -17.18214988708496,
          -6.665968894958496,
          -3.9968924522399902,
          5.860851764678955,
          5.84621000289917,
          -6.796688556671143,
          -15.117834091186523,
          18.91641616821289,
          9.193367004394531,
          -2.1919198036193848,
          2.7102725505828857,
          -8.60368824005127,
          17.86236000061035,
          21.820466995239258,
          6.884756565093994,
          -7.75938606262207,
          -13.748906135559082,
          8.436205863952637,
          10.536026954650879,
          3.138054609298706,
          -4.185187816619873,
          13.324012756347656,
          -9.44758129119873,
          -4.664098262786865,
          -14.380014419555664,
          -1.3883230686187744,
          -1.3917036056518555,
          3.5765628814697266,
          4.627499580383301,
          -5.891001224517822,
          -6.496408939361572,
          -3.434988260269165,
          15.183930397033691,
          -20.140052795410156,
          18.090848922729492,
          6.5559797286987305,
          -11.846579551696777,
          -11.798314094543457,
          -3.5556914806365967,
          -21.287029266357422,
          -19.173965454101562,
          20.004837036132812,
          18.263864517211914,
          4.1208953857421875,
          -20.63896942138672,
          7.861449718475342,
          4.084646224975586,
          0.05554406717419624,
          -0.518161416053772,
          6.548959732055664,
          -17.898595809936523,
          -16.35106086730957,
          -5.546561241149902,
          -23.5426025390625,
          -23.308408737182617,
          -14.906761169433594,
          -21.996009826660156,
          7.6255412101745605,
          14.103588104248047,
          10.410847663879395,
          -13.833505630493164,
          6.068750381469727,
          7.6441569328308105,
          11.415263175964355,
          9.293771743774414,
          9.264979362487793,
          -10.504343032836914,
          -7.252570629119873,
          1.437584400177002,
          -17.526268005371094,
          -1.487587809562683,
          4.966113567352295,
          -5.719271183013916,
          -15.20677375793457,
          -9.394306182861328,
          5.59922456741333,
          2.9312188625335693,
          1.270758867263794,
          15.760489463806152,
          -20.244211196899414,
          2.583099603652954,
          -13.7524995803833,
          6.782279968261719,
          -20.552888870239258,
          1.7471752166748047,
          -8.017034530639648,
          -8.066506385803223,
          -13.90621280670166,
          5.087801456451416,
          -17.355993270874023,
          -7.3375067710876465,
          11.024087905883789,
          4.995761394500732,
          3.459083318710327,
          2.5828466415405273,
          -8.891465187072754,
          -3.2471201419830322,
          -10.285445213317871,
          1.8506377935409546,
          6.280677318572998,
          0.04135112464427948,
          13.23791217803955,
          14.04060173034668,
          13.95720386505127,
          15.503607749938965,
          24.85390281677246,
          4.342256546020508,
          0.041509952396154404,
          -0.0832875519990921,
          -0.10390427708625793,
          6.740795612335205,
          5.981513977050781,
          -6.462451457977295,
          10.734832763671875,
          5.4047441482543945,
          5.321104049682617,
          -16.978811264038086,
          5.630660533905029,
          -0.8792459964752197,
          8.348753929138184,
          -5.645501136779785,
          0.0629136860370636,
          -9.457551002502441,
          -18.41415786743164,
          12.555197715759277,
          11.58692455291748,
          11.583247184753418,
          1.8897343873977661,
          -2.1252377033233643,
          18.138324737548828,
          -8.581621170043945,
          -12.527955055236816,
          3.8869221210479736,
          8.574623107910156,
          -2.591561794281006,
          -6.039975643157959,
          -12.862380027770996,
          15.421451568603516,
          11.091440200805664,
          -16.818984985351562,
          -4.084465503692627,
          -4.134174346923828,
          -17.626277923583984,
          5.479034900665283,
          -3.5424044132232666,
          3.231802225112915,
          5.626504898071289,
          5.628087043762207,
          -8.811568260192871,
          -8.833791732788086,
          -7.000781536102295,
          -6.956899642944336,
          -17.500038146972656,
          -20.114336013793945,
          11.443137168884277,
          9.16916561126709,
          8.643383026123047,
          9.801424026489258,
          4.571117401123047,
          -13.05655574798584,
          -13.394817352294922,
          3.18153715133667,
          -2.63578462600708,
          -13.91342830657959,
          -13.920385360717773,
          -22.44134521484375,
          10.941039085388184,
          -4.740386486053467,
          10.35595989227295,
          -10.701756477355957,
          -12.351859092712402,
          6.104374408721924,
          -1.4665838479995728,
          -9.073554992675781,
          -9.147882461547852,
          15.803909301757812,
          1.8171806335449219,
          -18.299840927124023,
          1.393449306488037,
          5.777491569519043,
          -0.21293291449546814,
          -5.454214096069336,
          -6.769381046295166,
          -22.312602996826172,
          11.092561721801758,
          -12.367259979248047,
          -3.7482690811157227,
          0.21165484189987183,
          -14.025012016296387,
          6.387384414672852,
          -2.7282488346099854,
          1.9010813236236572,
          -21.06217384338379,
          6.672679424285889,
          0.09152945131063461,
          2.9345059394836426,
          -9.066493034362793,
          20.25153350830078,
          -6.5514421463012695,
          -3.66525936126709,
          1.294085144996643,
          3.4549262523651123,
          -16.61393165588379,
          -18.448780059814453,
          0.8137192130088806,
          5.028505802154541,
          4.413776397705078,
          7.662142276763916,
          -5.667890548706055,
          -3.28434681892395,
          -13.645559310913086,
          -3.3429555892944336,
          9.11296558380127,
          11.366143226623535,
          12.17689037322998,
          -6.207360744476318,
          -6.164395332336426,
          1.3411433696746826,
          -19.405780792236328,
          12.510812759399414,
          -11.830322265625,
          -5.204931735992432,
          -17.73052978515625,
          -6.061626434326172,
          13.174491882324219,
          -21.383283615112305,
          -21.366455078125,
          17.21420669555664,
          4.352255344390869,
          13.104225158691406,
          4.505520343780518,
          -7.165587902069092,
          9.483683586120605,
          15.691756248474121,
          -1.2853537797927856,
          2.3242480754852295,
          6.819328784942627,
          -18.685527801513672,
          -4.583536624908447,
          -8.845251083374023,
          -19.4376220703125,
          -0.1072380393743515,
          -8.690821647644043,
          11.237869262695312,
          -8.990439414978027,
          -3.013788938522339,
          -5.293178558349609,
          -9.405704498291016,
          -17.258766174316406,
          0.09735321998596191,
          7.614051818847656,
          -17.322223663330078,
          -20.329360961914062,
          -3.686706066131592,
          15.847034454345703,
          6.891998291015625,
          -16.019567489624023,
          3.813163995742798,
          -2.7856955528259277,
          -2.833240509033203,
          -13.131197929382324,
          -7.357983589172363,
          11.18830680847168,
          8.00022029876709,
          -12.346576690673828,
          8.956195831298828,
          -16.213199615478516,
          9.982154846191406,
          -5.51785135269165,
          -9.149507522583008,
          -7.621610641479492,
          18.63641357421875,
          -5.167710781097412,
          -22.017255783081055,
          -18.777132034301758,
          0.8568270206451416,
          8.021197319030762,
          7.904642581939697,
          -1.3640918731689453,
          -18.20194435119629,
          0.32429027557373047,
          0.8599979281425476,
          2.51539945602417,
          -0.4506126344203949,
          -9.464558601379395,
          -9.056500434875488,
          -11.375027656555176,
          21.126853942871094,
          21.126436233520508,
          8.71837043762207,
          -7.175504207611084,
          -19.746662139892578,
          3.9536292552948,
          2.272444248199463,
          -0.9844297170639038,
          -6.23606538772583,
          5.946129322052002,
          5.843588352203369,
          21.194351196289062,
          -10.405982971191406,
          -2.0297322273254395,
          -16.101322174072266,
          -16.09588623046875,
          -1.1159827709197998,
          9.493884086608887,
          7.702856540679932,
          -19.266422271728516,
          -19.261688232421875,
          -12.481252670288086,
          4.102566719055176,
          10.30512809753418,
          -7.378992557525635,
          -5.383384704589844,
          13.574908256530762,
          -10.425508499145508,
          12.330154418945312,
          -11.932966232299805,
          14.09792423248291
         ],
         "yaxis": "y"
        }
       ],
       "layout": {
        "coloraxis": {
         "colorbar": {
          "title": {
           "text": "label"
          }
         },
         "colorscale": [
          [
           0,
           "#0d0887"
          ],
          [
           0.1111111111111111,
           "#46039f"
          ],
          [
           0.2222222222222222,
           "#7201a8"
          ],
          [
           0.3333333333333333,
           "#9c179e"
          ],
          [
           0.4444444444444444,
           "#bd3786"
          ],
          [
           0.5555555555555556,
           "#d8576b"
          ],
          [
           0.6666666666666666,
           "#ed7953"
          ],
          [
           0.7777777777777778,
           "#fb9f3a"
          ],
          [
           0.8888888888888888,
           "#fdca26"
          ],
          [
           1,
           "#f0f921"
          ]
         ]
        },
        "legend": {
         "tracegroupgap": 0
        },
        "template": {
         "data": {
          "bar": [
           {
            "error_x": {
             "color": "#2a3f5f"
            },
            "error_y": {
             "color": "#2a3f5f"
            },
            "marker": {
             "line": {
              "color": "#E5ECF6",
              "width": 0.5
             },
             "pattern": {
              "fillmode": "overlay",
              "size": 10,
              "solidity": 0.2
             }
            },
            "type": "bar"
           }
          ],
          "barpolar": [
           {
            "marker": {
             "line": {
              "color": "#E5ECF6",
              "width": 0.5
             },
             "pattern": {
              "fillmode": "overlay",
              "size": 10,
              "solidity": 0.2
             }
            },
            "type": "barpolar"
           }
          ],
          "carpet": [
           {
            "aaxis": {
             "endlinecolor": "#2a3f5f",
             "gridcolor": "white",
             "linecolor": "white",
             "minorgridcolor": "white",
             "startlinecolor": "#2a3f5f"
            },
            "baxis": {
             "endlinecolor": "#2a3f5f",
             "gridcolor": "white",
             "linecolor": "white",
             "minorgridcolor": "white",
             "startlinecolor": "#2a3f5f"
            },
            "type": "carpet"
           }
          ],
          "choropleth": [
           {
            "colorbar": {
             "outlinewidth": 0,
             "ticks": ""
            },
            "type": "choropleth"
           }
          ],
          "contour": [
           {
            "colorbar": {
             "outlinewidth": 0,
             "ticks": ""
            },
            "colorscale": [
             [
              0,
              "#0d0887"
             ],
             [
              0.1111111111111111,
              "#46039f"
             ],
             [
              0.2222222222222222,
              "#7201a8"
             ],
             [
              0.3333333333333333,
              "#9c179e"
             ],
             [
              0.4444444444444444,
              "#bd3786"
             ],
             [
              0.5555555555555556,
              "#d8576b"
             ],
             [
              0.6666666666666666,
              "#ed7953"
             ],
             [
              0.7777777777777778,
              "#fb9f3a"
             ],
             [
              0.8888888888888888,
              "#fdca26"
             ],
             [
              1,
              "#f0f921"
             ]
            ],
            "type": "contour"
           }
          ],
          "contourcarpet": [
           {
            "colorbar": {
             "outlinewidth": 0,
             "ticks": ""
            },
            "type": "contourcarpet"
           }
          ],
          "heatmap": [
           {
            "colorbar": {
             "outlinewidth": 0,
             "ticks": ""
            },
            "colorscale": [
             [
              0,
              "#0d0887"
             ],
             [
              0.1111111111111111,
              "#46039f"
             ],
             [
              0.2222222222222222,
              "#7201a8"
             ],
             [
              0.3333333333333333,
              "#9c179e"
             ],
             [
              0.4444444444444444,
              "#bd3786"
             ],
             [
              0.5555555555555556,
              "#d8576b"
             ],
             [
              0.6666666666666666,
              "#ed7953"
             ],
             [
              0.7777777777777778,
              "#fb9f3a"
             ],
             [
              0.8888888888888888,
              "#fdca26"
             ],
             [
              1,
              "#f0f921"
             ]
            ],
            "type": "heatmap"
           }
          ],
          "heatmapgl": [
           {
            "colorbar": {
             "outlinewidth": 0,
             "ticks": ""
            },
            "colorscale": [
             [
              0,
              "#0d0887"
             ],
             [
              0.1111111111111111,
              "#46039f"
             ],
             [
              0.2222222222222222,
              "#7201a8"
             ],
             [
              0.3333333333333333,
              "#9c179e"
             ],
             [
              0.4444444444444444,
              "#bd3786"
             ],
             [
              0.5555555555555556,
              "#d8576b"
             ],
             [
              0.6666666666666666,
              "#ed7953"
             ],
             [
              0.7777777777777778,
              "#fb9f3a"
             ],
             [
              0.8888888888888888,
              "#fdca26"
             ],
             [
              1,
              "#f0f921"
             ]
            ],
            "type": "heatmapgl"
           }
          ],
          "histogram": [
           {
            "marker": {
             "pattern": {
              "fillmode": "overlay",
              "size": 10,
              "solidity": 0.2
             }
            },
            "type": "histogram"
           }
          ],
          "histogram2d": [
           {
            "colorbar": {
             "outlinewidth": 0,
             "ticks": ""
            },
            "colorscale": [
             [
              0,
              "#0d0887"
             ],
             [
              0.1111111111111111,
              "#46039f"
             ],
             [
              0.2222222222222222,
              "#7201a8"
             ],
             [
              0.3333333333333333,
              "#9c179e"
             ],
             [
              0.4444444444444444,
              "#bd3786"
             ],
             [
              0.5555555555555556,
              "#d8576b"
             ],
             [
              0.6666666666666666,
              "#ed7953"
             ],
             [
              0.7777777777777778,
              "#fb9f3a"
             ],
             [
              0.8888888888888888,
              "#fdca26"
             ],
             [
              1,
              "#f0f921"
             ]
            ],
            "type": "histogram2d"
           }
          ],
          "histogram2dcontour": [
           {
            "colorbar": {
             "outlinewidth": 0,
             "ticks": ""
            },
            "colorscale": [
             [
              0,
              "#0d0887"
             ],
             [
              0.1111111111111111,
              "#46039f"
             ],
             [
              0.2222222222222222,
              "#7201a8"
             ],
             [
              0.3333333333333333,
              "#9c179e"
             ],
             [
              0.4444444444444444,
              "#bd3786"
             ],
             [
              0.5555555555555556,
              "#d8576b"
             ],
             [
              0.6666666666666666,
              "#ed7953"
             ],
             [
              0.7777777777777778,
              "#fb9f3a"
             ],
             [
              0.8888888888888888,
              "#fdca26"
             ],
             [
              1,
              "#f0f921"
             ]
            ],
            "type": "histogram2dcontour"
           }
          ],
          "mesh3d": [
           {
            "colorbar": {
             "outlinewidth": 0,
             "ticks": ""
            },
            "type": "mesh3d"
           }
          ],
          "parcoords": [
           {
            "line": {
             "colorbar": {
              "outlinewidth": 0,
              "ticks": ""
             }
            },
            "type": "parcoords"
           }
          ],
          "pie": [
           {
            "automargin": true,
            "type": "pie"
           }
          ],
          "scatter": [
           {
            "fillpattern": {
             "fillmode": "overlay",
             "size": 10,
             "solidity": 0.2
            },
            "type": "scatter"
           }
          ],
          "scatter3d": [
           {
            "line": {
             "colorbar": {
              "outlinewidth": 0,
              "ticks": ""
             }
            },
            "marker": {
             "colorbar": {
              "outlinewidth": 0,
              "ticks": ""
             }
            },
            "type": "scatter3d"
           }
          ],
          "scattercarpet": [
           {
            "marker": {
             "colorbar": {
              "outlinewidth": 0,
              "ticks": ""
             }
            },
            "type": "scattercarpet"
           }
          ],
          "scattergeo": [
           {
            "marker": {
             "colorbar": {
              "outlinewidth": 0,
              "ticks": ""
             }
            },
            "type": "scattergeo"
           }
          ],
          "scattergl": [
           {
            "marker": {
             "colorbar": {
              "outlinewidth": 0,
              "ticks": ""
             }
            },
            "type": "scattergl"
           }
          ],
          "scattermapbox": [
           {
            "marker": {
             "colorbar": {
              "outlinewidth": 0,
              "ticks": ""
             }
            },
            "type": "scattermapbox"
           }
          ],
          "scatterpolar": [
           {
            "marker": {
             "colorbar": {
              "outlinewidth": 0,
              "ticks": ""
             }
            },
            "type": "scatterpolar"
           }
          ],
          "scatterpolargl": [
           {
            "marker": {
             "colorbar": {
              "outlinewidth": 0,
              "ticks": ""
             }
            },
            "type": "scatterpolargl"
           }
          ],
          "scatterternary": [
           {
            "marker": {
             "colorbar": {
              "outlinewidth": 0,
              "ticks": ""
             }
            },
            "type": "scatterternary"
           }
          ],
          "surface": [
           {
            "colorbar": {
             "outlinewidth": 0,
             "ticks": ""
            },
            "colorscale": [
             [
              0,
              "#0d0887"
             ],
             [
              0.1111111111111111,
              "#46039f"
             ],
             [
              0.2222222222222222,
              "#7201a8"
             ],
             [
              0.3333333333333333,
              "#9c179e"
             ],
             [
              0.4444444444444444,
              "#bd3786"
             ],
             [
              0.5555555555555556,
              "#d8576b"
             ],
             [
              0.6666666666666666,
              "#ed7953"
             ],
             [
              0.7777777777777778,
              "#fb9f3a"
             ],
             [
              0.8888888888888888,
              "#fdca26"
             ],
             [
              1,
              "#f0f921"
             ]
            ],
            "type": "surface"
           }
          ],
          "table": [
           {
            "cells": {
             "fill": {
              "color": "#EBF0F8"
             },
             "line": {
              "color": "white"
             }
            },
            "header": {
             "fill": {
              "color": "#C8D4E3"
             },
             "line": {
              "color": "white"
             }
            },
            "type": "table"
           }
          ]
         },
         "layout": {
          "annotationdefaults": {
           "arrowcolor": "#2a3f5f",
           "arrowhead": 0,
           "arrowwidth": 1
          },
          "autotypenumbers": "strict",
          "coloraxis": {
           "colorbar": {
            "outlinewidth": 0,
            "ticks": ""
           }
          },
          "colorscale": {
           "diverging": [
            [
             0,
             "#8e0152"
            ],
            [
             0.1,
             "#c51b7d"
            ],
            [
             0.2,
             "#de77ae"
            ],
            [
             0.3,
             "#f1b6da"
            ],
            [
             0.4,
             "#fde0ef"
            ],
            [
             0.5,
             "#f7f7f7"
            ],
            [
             0.6,
             "#e6f5d0"
            ],
            [
             0.7,
             "#b8e186"
            ],
            [
             0.8,
             "#7fbc41"
            ],
            [
             0.9,
             "#4d9221"
            ],
            [
             1,
             "#276419"
            ]
           ],
           "sequential": [
            [
             0,
             "#0d0887"
            ],
            [
             0.1111111111111111,
             "#46039f"
            ],
            [
             0.2222222222222222,
             "#7201a8"
            ],
            [
             0.3333333333333333,
             "#9c179e"
            ],
            [
             0.4444444444444444,
             "#bd3786"
            ],
            [
             0.5555555555555556,
             "#d8576b"
            ],
            [
             0.6666666666666666,
             "#ed7953"
            ],
            [
             0.7777777777777778,
             "#fb9f3a"
            ],
            [
             0.8888888888888888,
             "#fdca26"
            ],
            [
             1,
             "#f0f921"
            ]
           ],
           "sequentialminus": [
            [
             0,
             "#0d0887"
            ],
            [
             0.1111111111111111,
             "#46039f"
            ],
            [
             0.2222222222222222,
             "#7201a8"
            ],
            [
             0.3333333333333333,
             "#9c179e"
            ],
            [
             0.4444444444444444,
             "#bd3786"
            ],
            [
             0.5555555555555556,
             "#d8576b"
            ],
            [
             0.6666666666666666,
             "#ed7953"
            ],
            [
             0.7777777777777778,
             "#fb9f3a"
            ],
            [
             0.8888888888888888,
             "#fdca26"
            ],
            [
             1,
             "#f0f921"
            ]
           ]
          },
          "colorway": [
           "#636efa",
           "#EF553B",
           "#00cc96",
           "#ab63fa",
           "#FFA15A",
           "#19d3f3",
           "#FF6692",
           "#B6E880",
           "#FF97FF",
           "#FECB52"
          ],
          "font": {
           "color": "#2a3f5f"
          },
          "geo": {
           "bgcolor": "white",
           "lakecolor": "white",
           "landcolor": "#E5ECF6",
           "showlakes": true,
           "showland": true,
           "subunitcolor": "white"
          },
          "hoverlabel": {
           "align": "left"
          },
          "hovermode": "closest",
          "mapbox": {
           "style": "light"
          },
          "paper_bgcolor": "white",
          "plot_bgcolor": "#E5ECF6",
          "polar": {
           "angularaxis": {
            "gridcolor": "white",
            "linecolor": "white",
            "ticks": ""
           },
           "bgcolor": "#E5ECF6",
           "radialaxis": {
            "gridcolor": "white",
            "linecolor": "white",
            "ticks": ""
           }
          },
          "scene": {
           "xaxis": {
            "backgroundcolor": "#E5ECF6",
            "gridcolor": "white",
            "gridwidth": 2,
            "linecolor": "white",
            "showbackground": true,
            "ticks": "",
            "zerolinecolor": "white"
           },
           "yaxis": {
            "backgroundcolor": "#E5ECF6",
            "gridcolor": "white",
            "gridwidth": 2,
            "linecolor": "white",
            "showbackground": true,
            "ticks": "",
            "zerolinecolor": "white"
           },
           "zaxis": {
            "backgroundcolor": "#E5ECF6",
            "gridcolor": "white",
            "gridwidth": 2,
            "linecolor": "white",
            "showbackground": true,
            "ticks": "",
            "zerolinecolor": "white"
           }
          },
          "shapedefaults": {
           "line": {
            "color": "#2a3f5f"
           }
          },
          "ternary": {
           "aaxis": {
            "gridcolor": "white",
            "linecolor": "white",
            "ticks": ""
           },
           "baxis": {
            "gridcolor": "white",
            "linecolor": "white",
            "ticks": ""
           },
           "bgcolor": "#E5ECF6",
           "caxis": {
            "gridcolor": "white",
            "linecolor": "white",
            "ticks": ""
           }
          },
          "title": {
           "x": 0.05
          },
          "xaxis": {
           "automargin": true,
           "gridcolor": "white",
           "linecolor": "white",
           "ticks": "",
           "title": {
            "standoff": 15
           },
           "zerolinecolor": "white",
           "zerolinewidth": 2
          },
          "yaxis": {
           "automargin": true,
           "gridcolor": "white",
           "linecolor": "white",
           "ticks": "",
           "title": {
            "standoff": 15
           },
           "zerolinecolor": "white",
           "zerolinewidth": 2
          }
         }
        },
        "title": {
         "text": "TSNE dla danych zaateykietowanych oryginalnie"
        },
        "xaxis": {
         "anchor": "y",
         "domain": [
          0,
          1
         ],
         "title": {
          "text": "x"
         }
        },
        "yaxis": {
         "anchor": "x",
         "domain": [
          0,
          1
         ],
         "title": {
          "text": "y"
         }
        }
       }
      }
     },
     "metadata": {},
     "output_type": "display_data"
    }
   ],
   "source": [
    "df_original['embedding'] = df_original['text'].apply(lambda x: model.get_sentence_vector(x))\n",
    "\n",
    "X = np.array(list(df_original['embedding']))\n",
    "X_embedded = TSNE(n_components=2, random_state=42).fit_transform(X)\n",
    "\n",
    "df_tsne = pd.DataFrame(X_embedded, columns=['x', 'y'])\n",
    "df_tsne['label'] = df_original['label']\n",
    "df_tsne['text'] = df_original['text']\n",
    "\n",
    "fig = px.scatter(df_tsne, x='x', y='y', color='label', hover_data=['text'], title='TSNE dla danych zaateykietowanych oryginalnie')\n",
    "fig.show()"
   ]
  },
  {
   "cell_type": "markdown",
   "metadata": {},
   "source": [
    "# LSA"
   ]
  },
  {
   "cell_type": "code",
   "execution_count": 23,
   "metadata": {},
   "outputs": [
    {
     "name": "stderr",
     "output_type": "stream",
     "text": [
      "/home/julita/anaconda3/envs/myenv/lib/python3.10/site-packages/sklearn/feature_extraction/text.py:521: UserWarning:\n",
      "\n",
      "The parameter 'token_pattern' will not be used since 'tokenizer' is not None'\n",
      "\n"
     ]
    },
    {
     "data": {
      "application/vnd.plotly.v1+json": {
       "config": {
        "plotlyServerURL": "https://plot.ly"
       },
       "data": [
        {
         "hovertemplate": "Component 1=%{x}<br>Component 2=%{y}<br>text=%{text}<extra></extra>",
         "legendgroup": "",
         "marker": {
          "color": "#636efa",
          "symbol": "circle"
         },
         "mode": "markers+text",
         "name": "",
         "orientation": "v",
         "showlegend": false,
         "text": [
          "Dla mnie faworytem do tytułu będzie Cracovia. Zobaczymy, czy typ się sprawdzi.",
          "  Brawo ty Daria kibic ma być na dobre i złe",
          "  Super, polski premier składa kwiaty na grobach kolaborantów. Ale doczekaliśmy czasów.",
          "  Musi. Innej drogi nie mamy.",
          "Odrzut natychmiastowy, kwaśna mina, mam problem",
          "Jaki on był fajny xdd pamiętam, że spóźniłam się na jego pierwsze zajęcia i to sporo i za karę kazał mi usiąść w pierwszej ławce XD",
          " No nie ma u nas szczęścia 😉",
          " Dawno kogoś tak wrednego nie widziałam xd",
          "  Zaległości były, ale ważne czy były wezwania do zapłaty z których się klub nie wywiązał.",
          "   Gdzie jest  . Brudziński jesteś kłamcą i marnym kutasem ",
          "   no mam nadzieje !!:)",
          "  Może gustował w starszych paniach ;-)",
          " Zostawiłam tam 3 lata temu \\\"Notatki na mankietach\\\". Muszę się wrócić.",
          " Oprawa do Krzysia M. Ps Pinokio -\\n\\\" mogłeś być gangsterem a zostałeś 3 ligowym frajerem \\\"😀",
          "  Znowu będzie komunikat o polskich piratach drogowych w Słowacji.",
          " Mówi człowiek, który chciał nałożyć sankcje na Polskę. Gratulacje. #Niepodlegla #11lisopada",
          "   Mówi człowiek, który chciał nałożyć sankcje na Polskę. Gratulacje. #Niepodlegla #11lisopada",
          "  o jakim zachowaniu \\\"fer\\\" mówisz skoro ukrywał się z tym że podpisał kontrakt z Legią ? Możesz rozwinąć ?",
          "  Joanno! Po raz pierwszy się z panią zgadzam.😁😁😁😁😁",
          "Monster block, monster block, monster block... 😁",
          " Czyżby Madryt brał przykład z Warszawy?",
          "  No to Skończmy kurwa z tym wersalem w j...ej szczujni",
          " Nie wiem, najczęściej grają na zmianę na prawym skrzydle.",
          " No to Pan i koledzy macie z głowy. Przesrane tak reszta życia pod górkę.",
          " A ja obstawiam, że pójdą bardziej w stronę tego, że może się powtórzyć sytuacja z Meresińskim.",
          "Aaaaa Kuba mi odpisał hehehehehe",
          "Asysta Kacpra Falona i 3:1 dla Widzewa. Witamy Widzew w II lidze. No i w sumie fajnie.",
          " gwizdali na niego ? Bo nie oglądałem meczu :)",
          "  ale może w końcu dojdzie do wniosku że skoro go klub już nie jara to lepiej go sprzedać i mieć po kłopocie",
          "  Hej halo, o czym to jest bo mam na swojej liście i nie wiem czy warto??",
          "dorosłe życie nie jest dla mnie",
          "  dorosłe życie nie jest dla mnie",
          " Cześć Paderewski, część opalające się nogi",
          "   Uprowadź gumową kaczuszkę. Zacznie negocjować.",
          " Już wiem ze się nie dogadamy XD",
          " Ale to w nowym przekładzie, jeszcze nie czytałam.",
          " Lahoza mi nigdy nie szkoda. Wolę, jak na pierwszym planie są piłkarze, a nie sędzia :-)",
          "  Sprawdź chłopie w słowniku co oznacza słowo , którego używasz a potem się odzywaj.",
          " zmieńcie se nazwe na profilu na insta bo się nazywacie Grzegorz Ożóg...",
          "#Woronicza 17 poseł Halicki oburzony za Bolka.Naprawdè taki tępy czy tylko udaje idiotę?",
          "„Ta aktorka ma 20 lat?!?! Jaka stara!!” \\n\\nChyba musimy się już do grobu pakować roczniku 98 😂👌🏻",
          "  „Ta aktorka ma 20 lat?!?! Jaka stara!!” \\n\\nChyba musimy się już do grobu pakować roczniku 98 😂👌🏻",
          "Ahnherr der Schtwätzer wykonawcy Von Spar\\nhttps://t.co/SOtenSqIr0",
          "   Bierze cie cie pod chuj a ty sie produkujesz",
          "   Jak narazie to masz przywidzenia co nie zmienia faktu że cały czas jesteś idiotą.",
          " Kiedy do licznika dojdą bilety z fan clubow?",
          " A kto prowadzi zespół ? Będzie podany skład z tego meczu ?",
          " Główny powód to brak kasy, trzeba dać bogatym 500+,300+ i być bez godności i honoru",
          "Zrobiłam takie Cv że ohohohoho",
          "Świętować uchwalenie Konstytucji 3 maja i łamać Konstytucję RP obecnie obowiązującą?!\\n#3Maja - dzień hipokryzji.",
          "  Świętować uchwalenie Konstytucji 3 maja i łamać Konstytucję RP obecnie obowiązującą?!\\n#3Maja - dzień hipokryzji.",
          "  nie gra bo jest Jovanović i Guilherme",
          " O tej godz. sporty szanuj ciało",
          "Nikt nigdy nie rozsiewał takiego smrodu jak ",
          "Nikt cię tak dobrze nie ubierze jak matka chrzestna dziecino",
          "  Nikt tutaj nie chce plagiaciarzy kopiujących brytyjskich pisarzy.",
          " A ksiądz co bierze 12 tyś za spowiedź przez tel?",
          " Koń też ma dużą głowę. Tylko wydaje mi się, że jest bardziej inteligentny niż Karczewski",
          " Pod i górę  pod wiatr to więcej niż k2",
          " Sędziowie VAR nie decydują o karnych 😉",
          "Jakiś program na TVN, nauka jazdy za kierownicą babcia śpiewa \\\"jadą jadą jadą świry jadą\\\" jadą jadą jadą świry jadą\\\"",
          " ta obecna Zary Larsson czy Pitbulla z ostatnich MŚ nie były złe :)",
          "(280 znaków w jednym zdaniu 🙈)",
          " po wahaniach wagi Kwacha wznoszę że to może być kapuścianka",
          "  w tym sezonie razem z pucharem 12 meczy i 1 gol.Mójta więcej strzelił.Sorry patrze w statystyki.",
          "   finały tblk były przyzwoicie sędziowane ?! Aha...",
          " Taki miałam właśnie, teraz kupiłam z catrice",
          " to ich wymień.W czym problem ?",
          "   a ja mam ciepełko jak się przytule do swoich kotów :)",
          " Właśnie. Ilu! Najpierw odpowiedzmy sobie ma to pytanie,a potem dziwmy się zwycięstwu Zdanowskiej",
          " W jego przypadku statystyka przebiegniętych kilometrów nie ma znaczenia. Czy gra zajebiście, czy fatalnie, biega tyle samo.",
          "  100%, Mann też miał pełne prawo",
          " Kończyłeś już kilka razy 😂",
          " Dzisiaj zajmujemy się WARiatem Krystyną ciekawe czy będzie płakał?",
          "    A co będzie jak Kuba nigdy niewroci?",
          " Tym w sejmie też? Banda hipokrytów i złodziei.",
          "W każdej z czterech grup będzie walka o zwycięstwo premiowane awansem do CLJ. Bardzo potrzebne rozwiązanie, brawo.",
          " Tak się poznałam z moim chłopakiem 😂 czasami warto",
          " nelly furtado a tytuł forco czy cos takiego",
          " Mów prawdę, kto was skrzywdził",
          " jestem tu od 2013 xd",
          " Ta kadra to rocznik 2002",
          "Posiada sensor CGM , ciągły monitoring glikemii, w końcu.",
          "Jeszcze żaden Polak nie wystąpił w meczu gwiazd NBA, nie licząc Mietka Paciaciaka ;) Pomóżmy Marcinowi Gortatowi być 1  #NBAVOTE",
          "  Jeszcze żaden Polak nie wystąpił w meczu gwiazd NBA, nie licząc Mietka Paciaciaka ;) Pomóżmy Marcinowi Gortatowi być 1…",
          " No kurwa myślałem że na Podlasiu",
          "  Tak, to nawet lepsze rozwiązanie.",
          "  Koń by się uśmiał, TVN24 i TVN wolne media? Bardziej perfidnego łgarstwa nie słyszałem.. 🤔",
          "    Koń by się uśmiał, TVN24 i TVN wolne media? Bardziej perfidnego łgarstwa nie słyszałem.. 🤔",
          " Gdzie ja wtedy byłam? ;-)",
          "   Midze sie nudziło i se coś na kolanie napisał i macie sensacje",
          " Dzisiaj wrócił do treningów, czyli zdążyli 😉",
          "    Nie wiem, zerknij na 90minut",
          "  Z motłochem nie dyskutuję tylko daje bany. A Pani  gratuluję obrońcy.",
          " możesz też zawsze po prostu zapytać kiedy się urodziłam. Albo wpisać hasztag #100latKasiaPawlak ;-)",
          " ale z kategoriami moim zdaniem przesadzają.Sponsor roku, serce, impreza ? Bez jaj",
          " Prezes się cieszy ze Wisla odpadła bo w razie finału Legia-Wisla znów by musiał finał odwoływać",
          "Bratowa wysłała mi zdjęcie bratanicy z rozpoczęcia roku, idzie do pierwszej klasy, biedactwo nie wie co ją czeka",
          " szybkie pytanie do  Ręka Sadloka była zagraniem umyślnym ?",
          " Dzień w którym Abidal sprzedał i kupił A.Vidala 😉",
          " Równie dobrze można gola stracić :)",
          " Chorwaci przerżną w końcówce dogrywki, wiadomo.",
          " Nasze dzieci będą zdegustwani, był taki PiS, taki  , historia populizmu i głupoty w latach 2015-2019, margines",
          " O, myślałam, że nikt już nie używa \\\"mnie\\\" tylko \\\"mi\\\".",
          "   Na nowym stadionie West Hamu też to widziałem.",
          "  zawodnik w sezonie może grać w barwach dwóch klubów więc jeszcze nic straconego :)",
          "ciekawe czy faktycznie jest taki zakład bo jeśli tak to nieźle XD",
          " Hehe, do gazu, hehe jeszcze jakieś emotikony wrzuć",
          "Qrwa!! I niech mi nikt nie mówi, że czary to jakiś zabobon!! Chłopaki mają sztywne nogi!",
          "Od 01.10.2018 każde sprawozdanie finansowe w formie elektronicznej, zgodne ze strukturą jpk",
          "Na TVP Kraków padła właśnie informacja że rozmowy z potencjalnym kupcem Wisły przełożony z dziś na jutro.",
          "  Na TVP Kraków padła właśnie informacja że rozmowy z potencjalnym kupcem Wisły przełożony z dziś na jutro.",
          " NIECH JESZCZE DADZĄ LEKTORA I NA GŁÓWNA POSTAĆ MÓWIĄ NADZIEJA",
          "   NIECH JESZCZE DADZĄ LEKTORA I NA GŁÓWNA POSTAĆ MÓWIĄ NADZIEJA",
          " Nie no ludzie, żeby robić artykuł na temat jednego tweeta ?...",
          " Jak powiem, że pierwsze słysze, to będzie kompromitacja czy nie? 😄",
          " Usuń konto, wytrzeźwiej buduj od nowa",
          "   Sekta, cha, cha, cha, obudź się z hipnozy, jesteś bolszewikiem",
          "Nie wstanę kurde nie ma opcji",
          "  Spokojnie, u mnie też Kaczarawa na kapitanie + Cvijanović :)",
          "niech ładny chłopiec z kręconymi włosami do mnie napisze: jutro, zaraz, teraz",
          "  niech ładny chłopiec z kręconymi włosami do mnie napisze: jutro, zaraz, teraz",
          " im ktoś gorzej widzi, dłużej musi czekać, choć ten, który widzi lepiej, dłużej poradzi sobie bez okularów. 😨",
          " Oj, no to powodzenia! Co tam będziesz musiała robić? 🤭",
          "    Chyba nie, Marcin mówił coś o '89.",
          " Przeczytaj mojego kolejnego twitta to zobaczysz, że nie umknęło i co sądze o poziomie tego meczu.",
          " Tylko nie w dupę, to dla niektórych z nich byłaby przyjemność.",
          "  Widać chcą wiecej polskich mord gotujacych koninę",
          " No to jak się przegrywa cały czas to lepiej przestać grać :)",
          "   Widzę, że sami się znajdują.",
          " Napewno mam niezaktualizowanego może dlatego",
          "  Smokowski mówił że Wisła ma piłkarzy 3 sortu, a Wieszczycki deprecjonował dobrą prace Kiko",
          "więc zaczynam oglądać Do wszystkich chłopców, których kochałam bo wszyscy o tym mówią i aż chcę to sprawdzić",
          " Ban,ban i jeszcze raz ban! Co za prymitywne dno!",
          "  Jasne, bo debile oglądający tvpis płaczą tylko na m jak miłość",
          "   W stop klatkach widać ze jak by to było po stronie drugiej (legi) to karny by był",
          "Zdrady stanu to Donald Tusk dopuścił się już w 2010 r kiedy dodał Rosjanom śledztwo w sprawie katastrofy smoleńskiej.",
          " Na marginesie jestem córką biskupa",
          " Przejdzie historii: jak tworzyć kłamstwo w dobie powszechnego dostępu do informacji",
          " Od ok 8 lat używam kolejnych modeli HTC i nigdy mnie nie zawiodły.",
          "  Ty się oszuście i kłamco od nas odpierdol. My sobie damy radę bez twoich kłamstw",
          "   odważne słowa jak na legioniste! 😂😂😂",
          "  Załatwi to jedno głosowanie w sejmie i żadne demonstracje nie będą miały na to wpływu.",
          "   Krzyż celtycki w Irlandii debilu ma kompletnie inne znaczenie niż u neofaszystów.",
          " Coś w tym jest,bo ja też😁😁😁. I jeszcze bym dodał Dominisię W. której infantylizm mnie totalnie osłabia.",
          "  Gdzie oni znajdują takich dupków",
          "mój stres zaczął się stresować swoim własnym stresem, które również się stresuje ja pierdole dość",
          "  mój stres zaczął się stresować swoim własnym stresem, które również się stresuje ja pierdole dość",
          "     dojdzie Brlek, Stilić wróci do formy, obcokrajowcy się zaaklimatyzują i bedzie dobrze💪",
          "   Brawo grzechu za Twój powrót do żywych\\n W Rosji pokaż swoją moc",
          "    Wonder!! Chyba cię....😁😁😁😁😁.No dobra. Na jaki?😁😁😁",
          " Ja mam uczulenie na dobrą zmianę, ale to dłuższa historiac",
          " Różnicy nie ma, bo pisali wtedy, że nie można zsyłać zawodników do rezerw ;P",
          " Żal ci biedaku??? Gdyby nie Kaczyński to by je twoi przyjaciele z PO rozkradl",
          "   Żal ci biedaku??? Gdyby nie Kaczyński to by je twoi przyjaciele z PO rozkradl",
          "Dobry dzień na przypomnienie sobie genezy gwiazdek na fladze #UE #deklaracjaRzymska",
          "Sekta kurwa, jakaś niepojęta radość, każde konto pisdzielskie tylko o jednym",
          "  Nie wierzę, bez zaświadczenia od proboszcza?",
          " I chyba wtedy byś niezaprzeczyla?",
          " Tak naprawdę czy będziemy w spadkowej czy mistrzowskiej to i tak czekają nas sparingi.",
          " Jebać, jebać, nic się nie bać.",
          " Jakiej pracy, ty już pajacu nie wiesz na czym się lansować. Sejm nie pracuje.",
          "Kilogramy rozmnażają się przez pączkowanie 😣😖\\n#TłustyCzwartek",
          "  Nie działają i lepiej działać szybko bo klienci nie maja dostępu do środków na kontach",
          "   jutro walczycie ? Normalnie rycerze ! A gdzie byliście wcześniej ? A zapomniałem że nie o L chodziło",
          " Ale to głupie, rdzennie głupie, bardziej głupie już być nie może",
          " Szczególnie Vestenicky.Podczas wypożyczenia nic nie pokazał a go wykupili za 500 tys euro 😂👏",
          " Już się boję. Postraszy mnie Pan kolegami narodowcami?",
          " Co nie było blisko? Bo nie rozumiem.",
          "  A od kiedy komentatorzy na Sky to wyrocznia?",
          "  Nazwisko tego babska😁😁😁😁. Bo Wczoraj był na MO😁😁😀",
          " Zbiera się do kontrataku, dla swojego pryncypala pójdzie w bój, patrityczna dusza,  co nie  ?",
          " a w kolejnych fajnie jakby grał na lewej za Sadloka ",
          " byłem w pracy ale zaraz odpalam meczyk na yt.Dzięki za walke !!!!:)",
          "  jakie 0 motywacji ? Jest chyba różnica mieć medal albo go niemieć",
          " Niby nie macie czy niby nie mit? 😂😂",
          " Ja bym był ostrożny😁😁😁A jak ma na imię?",
          "   Tak to jest jak ktoś nie wie do którego lekarza iść najpierw.",
          "  No nie dziwie się w sumie. Dobrze, że tylko raz dzwonił",
          "  Wasz świat? To się w nim zamknijcie i nie wystawiajcie nosa.",
          "  Przyjaciół to niech on sobie szuka za swoje prywatne pieniądze. I niech robi z siebie idiotę na własny rachunek.",
          "imagine sie komus podobac??? ze ktos sie stara o TWOJA uwage??? can’t relate",
          "  imagine sie komus podobac??? ze ktos sie stara o TWOJA uwage??? can’t relate",
          "   a Portugalia jak zagrała ?",
          "Pierwsze zdanie: \\\"Paczka papierosów kosztuje 4 miliardy marek\\\".\\n#JajoWęża teraz na ",
          "  No to tym bardziej :)",
          " Ja przynajmniej mam profilowe i nie chowam się za awatarem. Ale bohaterów MW na to nie stać i w sumie nic w tym dziwnego.",
          " Czego się spodziewać po członku żydowskiego amerykańskiego lobby. Lata na kolanach przed żydami zrobiło swoje.",
          "   Czego się spodziewać po członku żydowskiego amerykańskiego lobby. Lata na kolanach przed żydami zrobiło swoj…",
          " Co ty człowieku pijesz z rana?",
          "  pewnie narządy też wkrótce sprzeda :D",
          " w zeszłym sezonie to samo pisałeś ?",
          "Picie to przyszłość, piękna i nieznana, szukajcie zapomnienia, próbujcie różnych trunków, łączcie środki psychoaktywne, powodzenia",
          " Ale ty jesteś żenujący. Dno metr mułu.",
          " spoko, nigdy nie daje unfollow aktywnym ludziom, tylko tym, którzy nie piszą nic od miesięcy albo dali mi unfollow",
          "\\\"- Co to jest tajmlajn na fejsie?\\n- Zmarszczki\\\".",
          " może trzeba chłopaków na crossfit zabierać ?:)",
          " znacznie bliżej jest mi muzułmanin  czy indus, niż katolicka, łysa swołocz ze wschodu europy, do tego rasistowska",
          "Dzisiaj o 18.00 Strefa Kibica w Radiu Akadera. Zapraszamy.",
          " Nie powinno być źle o ile się utrzymamy :P",
          " Spokojnie trzeba ta porażkę wziąść na klatę mecz się tak ułożył nie inaczej napewno gorsi dużo my niebyli.",
          " Ale się cieszą. Wreszcie koniec i będzie można wypić te.zapasy z plecaka.",
          "  Ofertę przedłużenis kontraktu ponoć dostał od Wisły, ale jej nie zaakceptował.",
          "Dziś o godz. 20:00 Prezydent RP wygłosi orędzie.",
          "  Dziś o godz. 20:00 Prezydent RP wygłosi orędzie.",
          " myślałem że się przychodzi na stadion dla drużyny a nie na poszczególnych piłkarzy",
          " kibicom chodzi raczej o postawe dziennikarzy a nie klubu.",
          "  Nie trzeba Algierczyków, wystarczy kilku polskich katechetów.",
          " Barcelona z Messim (ta obecna) by taki mecz wygrała 1:0, albo jakiś Suarez by coś wcisnął :P",
          "  TW Wolfgang, TW Faraon i TW Rycerz,TW Balbina, TW Michał \\nKto mieczem wojuje, ten od pochwy ginie",
          "  Zgadza się ale przecież nas niestac żeby komin płacowy zacząć od.carlitosa",
          "   Low kick, kolano łokieć, blacha na czoło i stara leży",
          " Niestety obrazki będą też zielone, czarne i brunatne.",
          "Ktoś założył fejkowe konto i ogląda WSZYSTKIE moje story",
          "  Życie, zdarza się. Jednak od takiego rzutu wolnego do gola droga dość daleka.",
          " a wydanie 500 tys euro gdy się nie ma pieniędzy nie jest strzałem w kolano ?",
          " Wio endekdu, ścierwa, zdrajcy, szubienica",
          " nie dziwie się, to było dość cwane :)",
          " Raczey! Jutro będzie jej odczytywane przez cały dzień ;-)",
          " Kto będzie pił te mleko, gdzie będą jeździły tiry, meble, okna ty maly kogucie",
          "    Nie myli się tylko ten, co nic nie robi.",
          "Mama będzie mi obcinać włosy boje się",
          "    No to muszą ci nieźle płacić za wierszówki.",
          " czy masz info jakie obecnie Ondrasek ma zarobki w Wiśle?",
          " Jaka kwota wykupienia go po roku??",
          "   Dla kogo pracował? Nie przy śniadaniu bo się udławić można z wrażenia. Poproszę 5 przykładów zatem.",
          "   Widzę, że dalej nie rozumiesz. No nic idę oglądać LM. Pozdro.",
          "  jeśli masz TV włączony od 8:00 do 1:00, a reklama pojawia się 3 x na godzinę, po 2 mies. jesteś na granicy obłędu.",
          "  A co o włoskich faszystach i węgierskich nacjonalistach?",
          "  Dojenie kasy przez rząd\\nKompromitacja Morawieckiego w Niemczech\\nKaczyński twórca państwa Polskiego w 2016 roku",
          " Jeszcze w nastepnej kolejce pewnie jakis piątek",
          "  i oczywiście było pytanie czy nie boi się o przyszłość Wisły 😂 przechodzicie samych siebie",
          " no ja właśnie to samoXD znaczy wiem ze Emre wbija często, bo jego żona jest polką ale no",
          " Nic nie mogą. Ale ich brak może spowodować, że strajkujący szybciej się z Sejmu wyniosą.",
          "   Przecież jak go zamkną to o czym ty będziesz pisał ? Twoje życie straci sens...",
          "  To zaraz porobie screeny od momentu od którego jest zablokowane :)",
          " Ktoś przestał słodzić, ktoś kto dużo słodził",
          "   No to po co się zgodził na klauzule dopiero po zakończeniu przyszłego sezonu, a nie od razu ?",
          " Jest to prawda. Ale MSZ powinien. On pewnie myślał, że jest w Pisowskiej Polsce i wszystkoi wolno.😀😀😀",
          " delikatnie nie po drodze :D",
          "  No to 0:0 murowane (bo mam też ludzi z Cracovii)",
          " Może ogłuszyły go te korki od szampanów, które strzelały po podpisaniu kontraktu Sadloka z Jagiellonią ?",
          "Panie i panowie, totalna porażka  w miastach. \\nT O T A L N A \\nTo bardzo ważny znak.",
          "  Panie i panowie, totalna porażka  w miastach. \\nT O T A L N A \\nTo bardzo ważny znak.",
          "    ręce opadaj że takich rzeczy ludzie związani z futsalem nie wiedzą.",
          "  Przeczytałem wszystko. Fantastycznego ma Pani Dziadka!",
          " Na wszystko masz odpowiedź, żyłeś w tych czasach?",
          "  Mr. Czarnecki. To nie hipokryzja tylko zwykła ludzka przyzwoitość. Widać że niektórym obce takie  odruchy.",
          "Diego Maradona - Robbie Williams 2:1.",
          "   Ja nie byłbym taki pewny",
          " patrząc kogo biorą to mam wątpliwości czy nie chcą do 1 ligi (nie licząc Marciniaka)",
          " To było dawno, jeszcze nie znali fotoszopa",
          "  Maly murzyn, silny i zdrowy",
          ". pojawił się na TT. To konto to nie fejk. \\nDołączajcie :) 💪",
          "  . pojawił się na TT. To konto to nie fejk. \\nDołączajcie :) 💪",
          "W programie Igrzyska wolności w Łodzi śpiewanie pieśni rewolucyjnych,i piosenek z serialu,4 pancerni i pies.",
          " no i w końcu widzę uśmiech :)",
          " Jeszcze was zjemy i wysramy",
          " lepszy argument to że ktoś go nie chce bo go nie lubi",
          "  Tylko że ten prostak sie nabijał, szydził tak jak ze śmierci Piotra S.",
          " Qwa! Wypiłem kawę przed chwilą.Bardzo dobra kawę.Nie chcę jej zwracać. A swoją drogą to świetny środek na wywołanie wymiotów.",
          "Wchodzę w powiadomienia a tu nic, już na 4 tt odpisałem, zaraz wyjebią bana",
          " nataliethere_ oddam szybciutko z powiadomień",
          " Tak tak jeszcze ktoś w to uwierzy",
          "   Tez musze trzymać poziomo tel czytając ten artykuł",
          "   Czasy kiedy zacząłem interesować się piłką i Wisłą 😍",
          " Wy narobiliscie 30miliardow dlugow za waszych rzadow #oddajciekase",
          "   Wy narobiliscie 30miliardow dlugow za waszych rzadow #oddajciekase",
          " Czy  gotów na taką kolej rzeczy?",
          " Tak jak pisdzielstwo ośmiesza policjantów , to już, nikt, nigdy bardziej nie będzie",
          " A kiedy przestanie wydawać mln na swoich ochroniarzy, tylko zacznie leczyć u psychiatry swoją manię prześladowczą?",
          " Pierwszy priorytet zadowolić Jarkacza, drugi priorytet ssać kasę wszystkimi otworami,  mają rozdwojenie jaźni",
          " Huj z wami dziennikarzami. Piłka nożna dla kibiców a nie pseudo dziennikarzy.",
          " E tam! To z miłości do Łodzi😁. I przyjdzie do PiS😁😁",
          " A ja, ze coś znowu zepsułam xd",
          "Czemu jak zawsze się o kogoś martwię to ja dostaje po dupie, i mean nie wiem",
          " kiedy wyjeżdżasz? ja w piątek, co prawda już drugi rok ale moja rodzina nadal reaguje tak samo",
          "   Ograniczyłbym to do \\\"Byle nie Ufa\\\" :)",
          "  Święta racja, ale zapytaj Jurgiela o notatki, on wie co spierdolił. Będzie łatwiej.",
          "  Szczególnie wielka strata za Smoleńsk",
          "    daj znać  o  zdjecie blokady",
          "  Myślę, że po info o konferencji wielu osobom to przychodzi do głowy.",
          " Koniecznie! Zapraszamy na spacer z kawką 😃",
          " błąd logiczny, te pieniądze kiedyś były wasze, teraz już sa nasze i nic wam do tego towarzyszu",
          "   błąd logiczny, te pieniądze kiedyś były wasze, teraz już sa nasze i nic wam do tego towarzyszu",
          " Zależy jak na to spojrzeć. Z jednej strony akredytacja, z drugiej wyjazd za swoje $$$ 😉",
          "  albo wygrywali 1:0 z Barceloną",
          "  tylko nie Załuska.Nie potrzeba nam takich piłkarzy bez ambicji.",
          "  Nic specjalnego. Można się domyślać, że pewnie pójdzie na wypożyczenie.",
          "Z Zagłębia Hładun i Czerwiński w składzie (porażka 1:2), a z Legii Carlitos na kapitanie (zmiana w przerwie). Co za seria 😂",
          " co chwile o nim piszecie i gadacie jaka to porażka jak nie zostanie.A nie pamiętacie jak jeszcze niedawno otrzymanie licencji1/2",
          "  Przecież TS dzierżawi ta ziemię umowa na 99 lat zgadza się czy nie?",
          " Pyta się kiedy beda nowe okulary, bo juz chce wychodzić",
          " Probierz szuka młodych Polaków pasuje jak ulał😉",
          " Może pasuje do klucza francuskiego?🔧☺",
          "Pensja, kasa, dojenie,  ,ssanie kasy, ruchanie w meskie dupy, zawsze za pis, trudny teren, ciezkie warunki",
          " Polska to nie napis na dropsie, uuuu, niedobrze, uuuuuuu",
          " raczej ty się powinieneś jebnąć ale nie wiem czy to pomoże",
          " Jak narazie to sobie możecie kupę zrobić. Albo hurtowo dać dupy pedofilów w sutannach, których publicznie bronicie.",
          " Najlepiej w Polsce żeby legia miała pomoc :-)",
          "Ale mam chujowy humor przez to, że nie zdałam i jestem na siebie zła",
          "Szukam osób, które mają kontakt z rodziną gen. Bułak-Bałachowicza. Sprawa  prywatna.",
          " Brawo skwk za komunikat pomimo braku zakazu czekałem na ta wiadomość co robić, bo na mecz bez dopingu niemyslalem iść",
          "  A ty wieś kretynie CONTI jest Acta2 i czego dotyczy? Najpierw przeczytaj a potem się wypowiadaj.",
          " Trąba ? Nie no ostro pojechałaś :D",
          "Beata #Mazurek w Sejmie na pytanie co myśli o pomyśle Kaczyńskiego o obniżkach wynagrodzeń: \\\"Ja nic nie myślę\\\". To słychać.",
          "  Beata #Mazurek w Sejmie na pytanie co myśli o pomyśle Kaczyńskiego o obniżkach wynagrodzeń: \\\"Ja nic nie myślę\\\". To słyc…",
          "Motocykle opuściły gniazda i kierują się na północ. Żonkile na przedmieściach to już tylko formalność. Wiosna! :-)",
          "  🕵 Jest tak zakonspirowany, że go nie widać. Fachowiec. \\n(Górny, prawy róg)",
          " Kto mieczem wojuje od pochwy ginie ",
          " W jednej z powtórek było to dobrze widać :))",
          " Kochana nie ma po co bo później wszyscy się będą po to kleić 😂😂",
          "  chyba nie miałeś się czego przyczepić, nie przesadzajmy :)",
          "  Ale dlaczego głupi   tłumaczy to jeszcze głupszemu  ?",
          " Dzwoniłam się dowiadywać kiedy się można wprowadzać 😂nie wiedziałam ze takie problemy mogą być xd",
          " Już pod koniec jazdy wymusilam na rondzie.... nie wiem jak to się stało, mój mózg miał zaćmienie czy coś a",
          "Nowe chodnikowe powiedzonko brzmi:\\n\\nPierdolisz jak Morawiecki, realy.\\n\\n  \\n\\nHybryda głupoty.",
          "  Nowe chodnikowe powiedzonko brzmi:\\n\\nPierdolisz jak Morawiecki, realy.\\n\\n  \\n\\nHybryda głupoty.",
          "Terminator X To The Edge Of Panic wykonawcy Public Enemy\\nhttps://t.co/Nqf1yFOyKg",
          " Zaspana jestem jeszcze sorki XD",
          "  No ja nie kojarze xD",
          " Pies to czasem nawet pożera książki...",
          "Kiedy Christina wychodzi za mąż",
          "  Zapewne ci, co grali przez większość rundy w CLJ i nie ponieśli ani jednej porażki.",
          "  Jak będzie ta pioseneczka to przychodzę\\n\\nhttps://t.co/B6ak11mI4d",
          " zamieszczanie takich zdjęć podczas gdy ja jestem na sucharach powinno być zabronione :)",
          "   A co trzeba zrobić w kwestii finansowania kampanii z funduszy UE przez Ziobrę?",
          " W środku łamanie w stylu 2obiegu.",
          "jak ja się źle czulem jak byłem dzieckiem w  kościele to głow mala, szopka do kwadratu, nie mogłem tego wytrzymać",
          "    jak wróce z pracy to też podejme wyzwanie ale tym razem bedzie skromnie :)",
          "   Jak pić to z klasą ;)",
          "  Ty pajacu, zmień sobie herb na pusty łeb.",
          " W rosji sa jakieś zawody",
          "  Myślałem że to Twój ulubieniec 😂",
          "  pewnie ranking Fifa bedzie decydowal",
          " Łukaszewicz, co Wy tam palicie?",
          "   Leszku mój kochany, masz mózg wyprany",
          " a ja współczuje zaślepienia.Wolę nie mieć Wolskiego niż robić kolejne długi ",
          "   od paru lat słysze o sponsorze więc tym bardziej szacunek że przez pare lat się nieujawnił...",
          " Skoro Carrillo nie chce Sobola to tym bardziej nie będzie chciał Głowy. Chyba, że trener rzeczywiście odchodzi.",
          "   Zawsze bedą afery bo zawsze będa tacy l którzy kradną  i tacy u wladzy których to kręci",
          " kot też się załapał na fotke, a raczej jego dupa :)",
          " Szczerze? Trochę tak to wygląda, a i tak prędzej czy później ten bilans wychodzi na równo.",
          " zaraz będą pisać że Wisła szkoli kiboli żeby potrafili maczetą wymachiwać :)",
          "*stoi przed nimi król gargulców*\\nbetty: to pewnie ethel\\n\\nXDDDDDDDDDDDDDD\\n#Riverdale #RiverdalePL",
          "  *stoi przed nimi król gargulców*\\nbetty: to pewnie ethel\\n\\nXDDDDDDDDDDDDDD\\n#Riverdale #RiverdalePL",
          " No, to ja we własnej osobie",
          " Słabo trzymałeś kciuki, bo podarował bramke Cracovii :)",
          " Odstawiając narodowość na bok to ten skład jest przecież słabiutki.",
          "  Piwnica bez okien, ty to masz dobrze",
          "Czuję się chora więc siedzę w domu w czapce",
          " Juz myslałem że coś gorszego😁😁",
          "  A gdzie Inferno napisał, że Wisła stawia na Polaków ?",
          " akurat Tobie bliżej do Karolaka bo w większości Cię wycięli 😂    ",
          " Omg właśnie o nich myślałam",
          " Tak na pewno nie będzie. Drużyna leci w środę.",
          "Cudzysłów, przecinek nie jestem ruskim trollem",
          "Biorąc pod uwagę, jakie dotąd mieliśmy losowania w Lidze Europy, to na ten finał w Baku w 2019 roku nie jesteśmy bez szans. 😁",
          "  Fajnie, teraz zamiast przemowy muzyczka żeby nie było słychać odzewu publiki.",
          "  Białystok, ulica Wierzbowa. Jak oni to zrobili, to jest zagadka.",
          " Straszny gangster jak po wolności chodzi",
          " To się nazywa uzależnienie xD",
          " Info z ostatniej chwili barwy pogoni skrojone przez bandytów Z Krakowa.  Pomimo zakazu Wisła rządzi",
          "  Pewnie tak bo Buchalik kontuzjowany.",
          " to miało jakiś ciąg dalszy? 😉",
          "vans do chuja przestań robić choć na chwilę zajebiste kolekcje bo w moim portfelu pieniądzen't",
          "  vans do chuja przestań robić choć na chwilę zajebiste kolekcje bo w moim portfelu pieniądzen't",
          "    12 mld nie mam zamiaru dyskutowa możejki i skoki",
          "  Alves był bardzo w stylu Guardioli 😛",
          " Co ty żresz, że ci tak pierdolnęło?",
          " Bo w \\\"10\\\" już grają przez Boatenga ;)",
          "  Trudno być pewnym, gdy stoperzy mogą zagrać tylko lagę do przodu, bo środka nie mamy.",
          "   No właśnie, nie było i dlatego patologia została stosownie potraktowana.",
          " skoro jest dno dna to może skupmy się na tych od których coś wymagamy",
          " Widocznie to zbyt trudna miłość na Walentynki 😁",
          " Sarapata była w solarium ?",
          " Woda chyba zimna bo nikogo w wodzie ;-)",
          " ej, dobra, weźmie ten chrzest czy nie? xd",
          "  Lub bezpośredni awans, bo nie wiadomo co ze Stomilem, a przede wszystkim Bytovią :)",
          "  byłam przy tym, więc zapewniam 😉",
          "   Tylko ty masz problem z rzecznikiem, więc zastanów się w kim tak naprawdę jest problem? 🤔",
          " Piątek  też powinien być wolny, ina 100%",
          "Wassermannówna kłamie, mówiąc, że „przyszła do polityki”. Ona przyjechała na trumnie ojca.",
          "  Wassermannówna kłamie, mówiąc, że „przyszła do polityki”. Ona przyjechała na trumnie ojca.",
          " Już dwa lata temu powinni wygrac Euro.",
          " Kibice innych drużyn doceniają i trochę zazdroszczą :)",
          "  na 100% jest zmiana Śląsk - Jaga i chyba została już potwierdzona.",
          " W tym czasie był z rodzinką na wakacjach w Gdańsku Brzeźnie to musiał zdalnie podtrzymywać związek",
          "jak Patryk Jaki wygra wybory w Warszawie oczyści stolicę z byłych UBECKICH funkcjonariuszy ! #woronicza17",
          "  jak Patryk Jaki wygra wybory w Warszawie oczyści stolicę z byłych UBECKICH funkcjonariuszy ! #woronicza17",
          "Szkoda, że przez wymysły Mendesa taki Ruben Neves się marnuje w Wolverhampton.",
          "  Nie wiem, aczkolwiek jego tata mówił, że widziałby Tomasa w Jagiellonii. 😜",
          "Ja i moje psiapsi gramy w te gry na snapie i nie mogę przestać się śmiać z naszych min XD",
          " Kolar niestety ten sam poziom. Chyba trzeba będzie liczyć na skuteczność Boguskiego i Małeckiego...",
          "Rząd zaostrzy kary za znęcanie się nad zwierzętami. Od 3-5 lat więzienia; obowiązkowa nawiązka do 100 tys zł. Więcej jutro w ",
          "  Rząd zaostrzy kary za znęcanie się nad zwierzętami. Od 3-5 lat więzienia; obowiązkowa nawiązka do 100 tys zł. Więcej jutro w ",
          "   czuje że Brlek prędzej czy później odpali",
          "  To, że figurowal jako zawodnik Man City nie znaczy, że będzie potrafił grać.",
          "  Oczywiście, że ma rację. Chodzi tylko o to, że to jest drużyna o klasę lub dwie lepsza.",
          "  Nie miał prawa stać za linią, tak prawdę mówiąc 😄 Ale w kamerach to bardzo ładnie wyglądało.",
          "   Ty to robisz przede wszystkim, co widać po pierwszym tweecie.",
          "Ostatnio czuje się tak samotna i smutna ze aż sama się dziwie",
          " Przecież to legionista to komu ma życzyć mistrza.Nie wiedziałeś ?",
          "   dobrze by mu to zrobiło.Za słaby na Wisłe.",
          " Hehehehehe. Róża nawet niezła była.I co z niej wyrosło!😁😁😁",
          " jedni wynajmują agencje do komentarzy a inni dziennikarzy",
          "   jedni wynajmują agencje do komentarzy a inni dziennikarzy",
          " pewnie jest mniej błędów bo i liczb jest mniej bo zrezygnowali ze statystyk zawodników sezon po sezonie ;)",
          " Krzyż przeciw prezydenturze, krzyż obłędu",
          "  Sorry ale dzisiaj nie ma opozycji. Jest grupa cwaniaków chcących odzyskać stołki.",
          "na kijowe życie najlepsza wódeczka",
          "Co na to Herod śmierdziuszka ",
          " Brakuje mu dystansu, za bardzo się egzaltuje, a jałowe szyderstwa już mi się przejadły",
          " Wisła chyba ważniejsza od jakiejś Delle Donne :)",
          " Nawet jeśli to fejk, to zgodnie z powiedzeniem -w każdej plotce jest ziarnko prawdy. Z tym że w tym przypadku raczej ziarno😁😁",
          " Tez wczoraj byłam na randce która trwała cały dzień Xd",
          " A kierowca autobusu wstał i zaczął klaskać ?",
          "  Jak by nie było, aby było miło, teraz sie cieszysz",
          " No to może warto, najwyżej Cię oleje, co jest oczywiście nie do przyjęcia 😂 kto nie ryzykuje ten nie pije szampana kochana!",
          "  Trzymali się za ręce, waleczni i sprawiedliwi",
          "Dudelange niby takie cwaniaki, a ciekawe czy byliby tacy mądrzy w dwuboju rzut młotem-skoki narciarskie",
          "  Dudelange niby takie cwaniaki, a ciekawe czy byliby tacy mądrzy w dwuboju rzut młotem-skoki narciarskie",
          "   głównie  który często o tym wspomina",
          "Kto się jeszcze zaczepia na fejsie....",
          "  Z tymi wizjami to może być problem. Proponuję sprawdzić po czym te wizję są",
          " Jaki hejt.Hejt to jest na Tuska, Komorowskiego, przecież to nie Polacy, śmierć wrogom ojczyzny. Obudź się",
          "Czy Antek już ogłosił, że na lewym skrzydle naszej obrony był wybuch?",
          "  Czy Antek już ogłosił, że na lewym skrzydle naszej obrony był wybuch?",
          " jest to dobra informacja dla tych co okradali  Polskę od 89  roku  Irlandia da im wolność",
          "   jest to dobra informacja dla tych co okradali  Polskę od 89  roku  Irlandia da im wolność",
          "Ale przecież #Polexit jest dobry. Założycie koszulki z orłem i będziecie żryć ziemniaki i wungiel 😇",
          "  Ale przecież #Polexit jest dobry. Założycie koszulki z orłem i będziecie żryć ziemniaki i wungiel 😇",
          "    Wywalił Ronaldo w Superpucharze :)",
          "  Bo sama jest niepełnosprawna... Umysłowo.😁😁",
          "Halo Kraków, kogo byście uznali za gwiazdę/najważniejszego zawodnika obecnej Wisły? 😉",
          "  Ssą wszystkimi otworami z krwi biało czerwonej",
          " Wy się zjednoczyliście z faszystami z połowy Europy. Kpromitacja level hard.",
          "   Znowu on ? 😂 to przy okazji niech się odniesie do słów Sarary 😂",
          " Dotarlas do orełka?😁😁 W tym roku niestety tyłko jeden😞😞",
          "  Mam rozumieć, że to mapa nasycenia krajów zboczeńcami w sutannach.",
          "   A Panu nie brakuje czasem art. 87 pkt1?",
          " Czy to oknoplus ladowal kiedyś",
          "  5 punktów na 21 w rundzie finałowej...",
          ".  Będziemy realizować przekop Mierzei Wiślanej \\n#wieszwiecej  \\nhttps://t.co/zuCXxG1GUr",
          "  .  Będziemy realizować przekop Mierzei Wiślanej \\n#wieszwiecej  \\nhttps://t.co/zuCXxG1GUr",
          " Bolek wyluzuj bo jesteś sercowy.",
          " Śmiej się  śmiej. To wcale nie jest śmieszne.",
          "I hope that autumn will heal me",
          "Jutro po marszu, ale jeszcze kilka dni beda chodzić naćpani",
          " Nie ma jak lans nierobie za pieniądze podatników.",
          " A to ja przepraszam, nie miałam wczoraj czasu na TT 😎",
          "11 tysięcy miejsc zajętych, dzisiaj prawie 2000 biletów sprzedanych. Z tej okazji za chwilę nagroda 😁",
          "  To ja chyba tylko kolory porównywałem",
          "Ej słuchajcie co zajebistego wymyśliłam \\n\\nJaki jest najlepszy argument bonnie z pamiętników wampirów? \\n\\nBo nnie",
          "  Ej słuchajcie co zajebistego wymyśliłam \\n\\nJaki jest najlepszy argument bonnie z pamiętników wampirów? \\n\\nBo nnie",
          " Im więcej problemów w państwie tym więcej niewykonanych wyroków",
          "Widziałam śliczną sukienkę ale nie było mniejszego rozmiaru niż 36 i była za duża danmm",
          "  Polskę to kompromitują tacy jak ty. Oszołomie.",
          " 😁😁😁😁😁😁😁😁  teraz to mnie Pani ubawiła tym paskiem. A widziała Pani swoją szyję?",
          "   nie, ale jeśli ktoś wypomina Levadie to niech bedzie obiektywny i wspomni też inny wynik.",
          " O naszych meczach z Rio Ave można powiedzieć podobnie 😉",
          "W sumie to polubiłam już zajęcia z konstrukcji przekazu reklamowego i prowadzący jest świetny",
          "Ej chciałabym do samorządu w sumie hahahaha",
          " Tez nie mam snapa hahahahaha",
          " Ileż można o tym Wiluszu ?...",
          " A po polsku to jak to będzie?",
          "  A skąd on wie jak jest w innych klubach ? Niech się wypowiada o klubach w których grał.",
          "I ta Wisła, która się bawi z każdym w ofensywie, w Białymstoku miała pół sytuacji.",
          "   Zapytalem,  szwagierka mówi że ma konto w powerbanku",
          "  Mięciuteńki straszliwie. Tam były ręce na ciele, a nie jakieś szarpanie. Tylko że nie do VAR-u.",
          "  Pajacu, jak podajesz przepis to masz go znać na pamięć. Inaczej robią z siebie idiotę tak jak teraz.",
          " Zdejmujesz Dziadkowi okulary, zakładasz Babci i jestem \\n😎",
          "   w końcu jakiś ciekawy wywiad :)",
          " jak tam widziałeś czerwoną to rzeczywiście wyjdź",
          " skoro zarząd pozwala na takie cyrki to niestety potrwa to lata",
          "  Cieszmy się że drużyna dalej gra w lidze.Nie zawsze można mieć najmocniejszy skład w lidze :)",
          "   Znawca wszystkiego czyli niczego od bydła po powidło",
          " 😂😂😂😂😂😂😂😂😂😂😂😂😂🤣🤣🤣🤣🤣🤣🤣🤣🤣🤣🤣🤣🤣😂😂😂😂😂😂😂🤣🤣🤣🤣🤣🤣🤣🤣🤣🤣🤣🤣🤣🤣🤣😂😂😂😂😂😂😂😂😂😂😂😂😂😂😂😂\\n\\nSłów odpowiednich żaden słownik nie zawiera",
          " Vacek, Putnocky, Nielsen.Widzę że biorą się za odmładzanie składu :)",
          "   Ty się chyba debilu nie słyszysz, ty tekstów to się po nocach uczysz czy masz słuchawkę w uchu?",
          " Lub kibiców w Gliwicach 😜",
          " No właśnie była lepsza 😜",
          "    No weź nie rob takiej miny",
          "   Szczekać to mogą tacy jak ty #delegalizacja",
          " Bo jest Głowacki to teraz czas na obrońców",
          "  Nie ma takiej opcji. Oszust i kłamca w roli głównej - tego jeszcze świat nie widział.",
          " Nie jest złe! Chodzisz w szpilkach? Cokolwiek byś nie założyła to szpilki choć trochę pomogą xd",
          " Jakby był definitywny to trochę slabo 😂",
          " a co się tak pieniedzmi nagle przejmujesz ? Jak chcialas rozwiazania kontraktu z Zohnova czy Pop to kasa juz nie wazna ?",
          " Oskar Łąk definitywnie odszedł z Wisły ?\\n\\nhttps://t.co/o0psVgZBUl",
          " gratulacje ! Dzięki za dotrzymanie słowa że dzisiaj koniec :) Zasłużyłyście !",
          "Jezu, co zagrali Suarez i Cavani.",
          " Na pewno łatwiej by było znaleźć, określić i poprawić problemy",
          " Można, dlatego nasz poziom piłkarski był bardzo słaby wczoraj.",
          " Wybacz, ale nie sądzę, aby głównym problemem kadry były złe powołania na numerach 21-23 w kadrze.",
          "jeśli nie mogę wyglądać tak jak\\n•perrie edwards\\n•troian bellisario\\nto what’s the point of existing?",
          "  jeśli nie mogę wyglądać tak jak\\n•perrie edwards\\n•troian bellisario\\nto what’s the point of existing?",
          " Nadal i Djoković to się w sumie cieszą, bo ten, kto w ich meczu wygra, będzie praktycznie zwycięzcą turnieju.",
          "  Mówisz że ONR lize doope😂",
          "   wyśle im jutro list od kibiców cracovii że chcą odejścia Filipiaka.Ciekawe czy też opublikują.",
          "  A kiedy zaczniecie zbiórki na krówki i świnki?",
          " No to skąd wiedziałeś czy stopklatka jest zrobiona w odpowiednim momencie ? Nie kompromituj się",
          "   Iza - dziewczyna, cud, miód, malina 😁",
          "Zaraz pół mojego instagrama i cały Twitter będzie na koncercie Eda.... i jestem jeszcze ja............",
          " Z tamtego Adama dziś już nic nie zostało. Ale czepianie się go za brata i ojca osobiście nie popieram",
          "  Plujecie na Polskę to my będziemy pluć na was.",
          "    Plujecie na Polskę to my będziemy pluć na was.",
          " Może też być kołderka 😍",
          " Dlaczego średnio? W decydujacym o awansie Widzewa czerwcu był piłkarzem miesiąca",
          " błedem było ściaganie zawodników których nas niestać byleby osiągnąć cel",
          " Każdy kto choć trochę się orientuje w tych sprawach wie, że na Hutniku nie ma oświetlenia...",
          " Maliniak dal reklame za dormo ponoć caly marsz niepodleglosci ubrali, prawda to redisbad?",
          " niech wejdzie na luzie i pewnie tak żeby nie musiał zostawiać dokumentu, milion osób tak przemyciłam",
          " Cie zaraz piznę, jak nie zaczniesz myśleć",
          "  Bo byliśmy bez formy, to oczywiste. Przecież to też napisałem.",
          " jest juz aktualizacja składów czy jakis dodatek sciągałeś ? :)",
          " Komentarz raz a dwa słysząc trybuny zastanawiam się czy ten kto wymyślił mecze w pn obejrzał choć jeden",
          "      Mam nadzieję że nigdy więcej. Czekam na rychłą delegalizację.",
          " A Ty nigdy nie robisz dwóch rzeczy jednocześnie? Np. idziesz i żujesz gumę.",
          "  O 11.00 wielkie obtrabienie sukcesu...",
          "  Ty kurwa  nie pierdol w tv bo sie żygać chce",
          " problemem jest to że jak sobie coś ubzdurasz to myślisz że zawsze masz racje bo jesteś wszechwiedzący ",
          " Taki Błaszczykowski tez za co do repry?  Żeby niebylo ze wbijam szpilki do legi?",
          "Często wracam do tego kawałka. ",
          " A pisdzielstwo, szczury, gady, plazy popromienne, azbestowe?",
          "omg ale jestem wyjebana po tym wykładzie",
          "  jak Zarycki jest Twoim informatorem to te info można w kiblu spuścić",
          "  Ale Karolina ostatnio była w TVP 😜",
          "#NAME?",
          "  U mnie też wyświetla właściwe kolory 😊",
          "  Najpierw kasza, później przyjemności, a kiedyś wolność, ale wy klękacie bez obawy zostanie i tak bez was",
          "   No oboje Państwo wyglądacie jak rodzeństwo. I tacy żółci oboje.",
          " No kurwa  ty masz nie rządzić, madz nie rządzić",
          "Yerri Mina - złota piłka 😁",
          " jeszcze nie mam planu wykonania ;-)",
          " Śląsk Wrocław ma jakiś drugi podmiot, że wystawia drugi zespół w barażach?",
          " personalnie do tej Pani, przyjrzyj się sobie   ,  ",
          "Nie wiem, jak Barcelona i Real otrząsną się po utracie tak ważnych piłkarzy, jak Paulinho i Cristiano Ronaldo.",
          "Polska zrealizowala nasze cele w UE na szczycie z nawiązką. Podajcie dalej  koniecznie potrzebne - dziękuję😊\\nhttps://t.co/OzUaePZLpY",
          "  Polska zrealizowala nasze cele w UE na szczycie z nawiązką. Podajcie dalej  koniecznie potrzebne - dziękuję😊\\nhttps://t.co/Oz…",
          "   A my nie mamy helikopterów, rakiet, łodzi podwodnych a mamy WOT w którym ja biegam",
          "  A czego oczekiwałeś ? Przedłużą z kimś kontrakt to poinformują",
          " Jeszcze Podolski od jakiegoś czasu.",
          "Przepraszamy. Nie wpadliśmy na to, że pokazując środkowy palec narodowi, który - ponad podziałami, czci #PW1944, możemy kogoś obrazić. Sorki",
          " ahhh myślałam, że na jakieś innej stronie",
          " Źle... Miałeś napisać, że nie możesz więcej zdradzić :(",
          " Pan w tle, z lewej, to z mopem zasuwa? 🖒",
          "Czy naprawdę trzeba publicznie przyznawać się do nieprzygotowania do meczu, drodzy panowie komentatorzy? (kwestia Sheridana)",
          "Na tt te beznadziejne gadki o niczym, to już wolę sam ze sobą",
          " Pamiętaj, ze ja daleko do ciebie nie mam 😂",
          " Pomysł sobie ze ja oblałam bo z pełna świadomością wjebalam się na rondo XD widzisz to taki mały błąd, Ew",
          " Jest tej chołoty tutaj całkiem sporo. Napewno się udzielają.",
          " Hejka, hejka, sejonarka w czwartek o 11 juz do domku",
          "  Mistrz, człowiek mem jedyny na świecie",
          "   York czy Leszek Miller? :)",
          " Kiedys kazdy kopniak bez piłki = czerwona, a jeśli to było tylko położenie ręki na głowę, to nie mamy o czym rozmawiac :)",
          "Morawieckiemu coś nie idzie w Namysłowie. Teraz jako były prezes BZK WBK przedstawia się jaki ten, który zwalcza \\\"zachodnie korporacje\\\".",
          "  Morawieckiemu coś nie idzie w Namysłowie. Teraz jako były prezes BZK WBK przedstawia się jaki ten, który zwalcza \\\"zacho…",
          " No widzisz, a zwycięską asystę w tym meczu zanotował Griezmann. MVP = najbardziej wartościowy zawodnik :)",
          " do domu bo ci rózga dupę  ty mały  ",
          "Jak go pierwszy raz usłyszałam to miałam ciarki na całym ciele",
          " kibice nigdy nie pozwolą na to żeby po raz kolejny był trenerem",
          "Teraz zarykam nos i mowie \\\"cała polska z was sie śmieje, komuniści i zlodzieje,",
          " Jego tata tłumaczył konferencję przy okazji meczu z Rio Ave w Vila do Conde :)",
          " a wyśmiewanie Lionela M. było po skazaniu go za oszustwa podatkowe ? bo jakoś przeoczyłem",
          "   życzę Gatcie mistrza bo zasługują na to grając 2 sezony na wysokim poziomie.",
          " Plakat widzę tak  z   wymiana spojrzeń  a  na kolanach liże ich po stopach",
          " Pana zdanie nie interesuje Polaków ❗\\nWypchaj się Pan niemiecką, śmierdzącą onucą ❗",
          "   Pana zdanie nie interesuje Polaków ❗\\nWypchaj się Pan niemiecką, śmierdzącą onucą ❗",
          "  Mógł, ale jakoś nie chce mi się wierzyć, że tak to wyglądało.",
          "em ok wątek Jerzego i Zuzy w Przyjaciółkach to najlepsze co tam było kiedykolwiek",
          "   Giertych: myślę, że myślę.",
          "Ostatnio się zrobiłam polityczna chyba studia weszły mi za mocno",
          " Badziewny zespół, a i tak Anglicy byli o krok od straty punktów :)",
          " nawet pasy to dla was za duże wyzwanie co widać po twoim profilowym.Mistrzowie opraw.",
          " nie chodziło mi o to że się cieszyłeś z upadku Wisły tylko że masz czarny humor :) że się z Wisły na Chojnice przerzuciłem :)",
          "Ta drużyna powstała za czasów PO-PSL.",
          "  Ta drużyna powstała za czasów PO-PSL.",
          " Hołd to się oddaje bohaterom....",
          "   a co ma procent zapelnienia pojemnosci do frekwencji ? Po za tym co to jest 50% na takim malym stadionie ?",
          "Spółka srebrna kapitał  7 mln,  w zarządzie sekretarka i kierowca Jarkacza",
          " Haha  a ilu ty zapraszasz do studia co pierd...takie głupoty...",
          "   Haha  a ilu ty zapraszasz do studia co pierd...takie głupoty...",
          "Kto chce zrobić ze mna tea party??",
          " Ale za to wystąpił równie błyskotliwy,inteligentny, merytoryczny,bystry poseł Kieeerwiiinski!!!",
          " No gdzie, wszystko zależało od Lecha w ostatniej kolejce :D",
          "Moja morda to takie spierdolenie ze zaraz rykne",
          "  Moja morda to takie spierdolenie ze zaraz rykne",
          "  No w różnych miejscach ludzie seks uprawiają. Dajcie spokój...",
          " Ok boli, boli. Czarne katabasy, mordercy irlandzkich kobiet i sierot do kruchty i pokutować do końca życia za swoje występki.",
          "Czemu żaden tramwaj nie jedzie wtf",
          " Tak, statystyki to kłamstwa. Za to wyciągnięcie jednej sytuacji z 90 minutowego meczu to bezcenny dowód.",
          "  Zamiast tego można znaleźć grafiki na różnych ekranach / telebimach w mieście.",
          " Niby sami świnie, a nic nie wiedzą",
          " Ale co to ma do Mystka?",
          " Serio chcecie cichego stadionu ?",
          "Co to miało być? 😂",
          " tego się niespodziewałem po Tobie... Zawiodłeś nas :D "
         ],
         "textposition": "top center",
         "type": "scatter",
         "x": [
          0.3118007717740366,
          0.3008286374627277,
          -0.8395161250773906,
          0.16930009439660348,
          -0.014063429042402794,
          3.008643373274689,
          0.04916257626633397,
          0.14645362912880788,
          -0.4927117996415665,
          -0.1575706003865937,
          0.05758449219542146,
          -0.3793864582053016,
          0.847190051413774,
          -4.706513637808105,
          0.41093780429189497,
          0.34566902489883844,
          0.36901564751223637,
          0.31713142998698624,
          0.04157687151349293,
          0.014412070722335243,
          0.72834427429361,
          -0.12764923714798848,
          0.16780388696900472,
          -0.015930177795879186,
          0.19471140031822357,
          0.0397817299950261,
          -3.665448507607868,
          0.3081716326088253,
          0.23871569352333072,
          0.6826467353234503,
          0.10484876335805457,
          0.10013978740107266,
          0.511142033140362,
          0.15767473838360554,
          0.08457187912388621,
          -0.09701171097710512,
          0.09313168169733968,
          0.028561463725488657,
          -6.06462198285762,
          -0.8244528902821745,
          1.3344013888383695,
          1.3261261725736753,
          -2.591441923992573,
          -0.0005988030096635401,
          -0.12422922467521426,
          0.05512721562942729,
          0.2891750948160642,
          -1.5693593692080312,
          0.013318621111374853,
          0.6484081225292934,
          0.6445383897914683,
          -0.04960514405975729,
          0.013747650814138833,
          -0.015628570036779598,
          0.12861218714935466,
          -0.050000325833226084,
          0.14224001854874185,
          -0.9327849874820884,
          -0.04388934060030474,
          0.06584875665572691,
          0.8803960134619748,
          -0.12207032288312446,
          -0.40842265817247125,
          -0.2900484964759477,
          0.7089131286083319,
          0.37890393314631543,
          0.07054417086420349,
          0.18983440873100185,
          0.3971100464941759,
          0.5178517997367045,
          -3.1605854042238883,
          0.29781707211755326,
          -0.073023634141568,
          -0.12453240570152473,
          -0.0392681717242696,
          0.5362973193283921,
          -1.2542301007503096,
          -0.05076959264008751,
          0.033335878526833354,
          0.19297966251436052,
          0.013760943679997108,
          0.09889685427380814,
          -0.540740554984517,
          9.139966834759012,
          8.491201772306226,
          -0.049723489233182885,
          -0.09357386524865102,
          -5.992103743029117,
          -5.890422830368242,
          -0.0160148636512712,
          -1.035473017250811,
          0.037593437520895015,
          0.027875100356075988,
          -0.16697901549799396,
          0.18377651554916224,
          -0.20071702822994278,
          1.4942322387081324,
          0.7164475024033565,
          0.4960881418806956,
          0.17423748887745055,
          -0.04817202735473755,
          -0.012562060779023656,
          -0.29603340778075976,
          0.007953842169233871,
          -0.22562502721350736,
          -0.17114150056911098,
          0.05138097144843369,
          -0.10243931751022806,
          -0.19677615090322093,
          -6.851892139867998,
          0.07152250712033342,
          0.07072106454820605,
          0.0029225545108744816,
          0.03572446413149358,
          -0.03499047431610011,
          0.1565373090973577,
          -0.12916338323835003,
          0.08078849062288587,
          0.04953202360996273,
          0.2927424071083847,
          0.04729396607085502,
          0.04646156507092597,
          0.19956829849245486,
          -0.20340684651770477,
          0.7803416114043178,
          1.0778217432500468,
          -0.7908889824667602,
          0.48526226113975873,
          -0.09565981028917496,
          0.0871398978538927,
          0.017739436759837145,
          0.14027057171199273,
          0.24929054424745764,
          -0.09214413030545307,
          -0.3827768667009344,
          -0.19678438891736297,
          64.96980383139845,
          -0.03135321877249755,
          -0.8309241471927014,
          0.9383788187031006,
          -1.2718120170595852,
          0.03390287337563452,
          0.6550290854735803,
          -0.9675131458422899,
          5.145712584315035,
          0.006048540231136128,
          0.38717536542670267,
          0.38446766933909976,
          -0.5716772212621968,
          2.5854927570543706,
          0.07556253254087525,
          0.10101527398966664,
          -0.6526259634853244,
          0.7965219909780107,
          0.8157769807914754,
          -1.0069470539654557,
          -0.3735935140723578,
          0.04955053623088974,
          0.029654269136107594,
          -0.25484035234734265,
          -0.01742496072149208,
          0.9940389150965017,
          -0.17948122596649063,
          0.3031144106740697,
          -0.3690827449640452,
          -0.019431709065064605,
          -0.4212065832901687,
          -0.12075223686356024,
          -0.18930409929978273,
          0.014860087555575819,
          0.08897326158912648,
          0.7084191293841113,
          -0.07103375655109995,
          0.0017986975694264844,
          -0.18120766658830162,
          0.008045063750922262,
          0.059225302745823535,
          0.42600139073912996,
          -0.07566749150319285,
          0.26775703676177753,
          1.0805479013656198,
          -1.5048972160731366,
          -1.4906231092161275,
          0.09083388062573312,
          -0.17777294442800678,
          -0.0015676520397937196,
          1.0713950981576472,
          3.7886239061592004,
          4.053857599170191,
          -0.025962282343736567,
          0.11999372327153818,
          -0.09673273977678712,
          -3.1212360623525264,
          -0.2252872673145193,
          -0.23458130504850058,
          -0.02608864556023803,
          -0.05901032653369133,
          -4.236637459377885,
          1.5723883805125072,
          0.07190175018256993,
          0.41715372024215946,
          0.185546636515014,
          0.34488484781195483,
          0.2622587471351472,
          0.25806211782461597,
          0.008798999470989553,
          0.1003101949909346,
          -0.012647805172876902,
          0.02547267736759634,
          -1.506429563736924,
          0.5444325983889327,
          1.0264003547026292,
          0.4621338916742387,
          -0.07152520364754633,
          -0.3782055430468016,
          0.38474508412838293,
          -0.5031444589371231,
          -0.02027932057547291,
          0.16128185298637696,
          -0.19387616947965597,
          -0.011037667269028712,
          0.052214533691595476,
          0.0583873394185061,
          0.11585081664746266,
          -0.04665616760075469,
          3.725643255003843,
          -0.3788307229038267,
          -1.5545617326332075,
          -0.13279548772858657,
          -1.7077093262187355,
          0.033080907388473066,
          0.12176331695402036,
          0.6751728773875666,
          1.0843316376850227,
          0.0648912627953602,
          -0.15799675033194904,
          -0.048541773490083914,
          -0.49581734295618407,
          -0.1950762426190281,
          0.12107279879862079,
          0.12113445545264197,
          -0.6851136324497611,
          -3.849592703519301,
          -3.8239977006536376,
          0.009872084912709793,
          0.013208937902213683,
          -0.0664105584352973,
          -3.0444765854953157,
          0.4581115829297928,
          0.04124057502376495,
          2.584529997559473,
          0.014539297192897793,
          -0.04091893757889013,
          -0.28472846999819057,
          -0.28116219950229276,
          2.9799202184687914,
          0.17189270198742984,
          -0.0249587605464364,
          -0.17044220504240074,
          0.5353720166328797,
          6.098835071516702,
          -0.41460159312655087,
          -0.11417505994516094,
          -0.028699639005562,
          -0.06712267796588296,
          0.20461578571554068,
          -0.4580991036777806,
          -0.4206741469031102,
          -0.042169146529373536,
          -0.053367191282756396,
          1.8803493700135574,
          -6.260526273199632,
          0.1020840616887462,
          -0.8737263556493718,
          0.01374064617755234,
          -0.13018417158345794,
          0.6826290612241053,
          0.05209746147949408,
          0.24847433687572618,
          -0.03426931822598774,
          -0.19223794942327305,
          0.34040079825079017,
          -0.9478596619273154,
          -0.14104008705264448,
          -0.10681238868079639,
          -0.15081124241482097,
          -0.012447572491634296,
          0.04644065613370997,
          0.20930558321986042,
          1.9566926551348875,
          -3.939786732881509,
          1.945163662058205,
          -0.04466800132848055,
          1.4878603527529288,
          0.3309515516165206,
          -19.700812098210115,
          -0.3583892466374478,
          0.14936113571083348,
          -1.2686881742680245,
          -0.17826497560696278,
          0.027067567011027225,
          5.244029372751944,
          2.913728162077857,
          1.3960855310987141,
          0.011762053935909015,
          5.706118654195519,
          6.1008506759409,
          -7.586836517246824,
          -0.7305871160031321,
          -0.5501063997539906,
          -0.12440047516529748,
          0.04628166489453443,
          0.3061346657618915,
          0.059825660469237665,
          0.0018538459549285787,
          0.6291709224758074,
          -0.7422960248012145,
          -0.7353843283341694,
          -4.481571560411418,
          0.4291004362541842,
          0.03683992157922256,
          0.19946094276706888,
          0.047973263532401327,
          -0.5150259186052464,
          0.00708119280931418,
          0.04100403594611493,
          -1.2540552428421337,
          0.2736319518559393,
          1.8389984124481407,
          -0.16729703078136793,
          -0.08096659934548292,
          0.15622636581552274,
          -0.027022266673095607,
          0.004589947359921006,
          0.0638806048775568,
          -0.025229890593208536,
          0.1474587338498227,
          0.2416717517328424,
          2.2274577262584945,
          0.3709712702175604,
          -0.6474716483313382,
          0.12585497819476602,
          0.6027983125599403,
          -0.6846297230073353,
          0.3560822794271302,
          0.35105184948724405,
          0.32289527180166966,
          0.3175460709049102,
          0.03896054604875242,
          -0.01804983654897561,
          0.030706460112159738,
          0.04289653932059087,
          0.6913505551120659,
          -0.12873035550404002,
          -0.023798882112082274,
          -0.02178515523689725,
          -0.034863184581875185,
          1.1000030043144062,
          -0.07034600637582296,
          0.12916847835628378,
          -0.22790975102830838,
          0.01078053195091231,
          -0.4181022277635487,
          0.06524016088891152,
          0.007019186787462333,
          -1.3318637147514394,
          -1.3199817445070152,
          -0.013983235966518407,
          0.06738183023158041,
          -0.024414703810356896,
          -0.07122652607067345,
          0.6954271103185344,
          -0.13199738226694013,
          -0.03160833592494398,
          -1.7868337218196926,
          -0.023676402449082527,
          0.010291728681230811,
          -0.09915867460313682,
          -0.10605141436011009,
          0.06968271798670295,
          -0.5312628826720323,
          -0.34956024465758573,
          -0.6284847260591412,
          -0.6224530044221198,
          0.8425343921884023,
          0.19608215539824864,
          0.16366896957927887,
          -1.9123897137494927,
          -2.830786374489535,
          -2.809882363373503,
          -0.03895442716607991,
          0.05205096369945681,
          0.369522947275538,
          1.559788643867246,
          3.163194491647868,
          3.143886609409302,
          0.1428244932370504,
          -0.16262570090110584,
          -0.04455213049772627,
          0.7150074954376814,
          -0.005458878699591621,
          0.0435475959675945,
          0.4875395888053991,
          0.06582097231537695,
          0.15205112761651912,
          0.16644457586274847,
          0.19604913484462494,
          -0.4065985484939275,
          -0.14844343886261094,
          0.748022344476204,
          0.07943517197679578,
          0.00014600597394160688,
          -0.12224683169599425,
          0.031492758145668306,
          1.3300185521020973,
          0.09543961577907856,
          0.4357221136271271,
          0.04300362813051608,
          -0.9040330030597784,
          -0.008603585341006525,
          0.2214084323321839,
          0.2197277492849218,
          0.017324268876377457,
          0.00035013160336544143,
          0.1973223701995941,
          0.38705262737381185,
          0.8609145380145182,
          0.8513825545262242,
          -0.19959725151536678,
          -0.17477937225000525,
          -0.9608237452765362,
          -0.9532308556068422,
          0.05485794702641033,
          0.06202505443622435,
          1.8063996743125739,
          -1.9618956047758187,
          -0.7967461822955079,
          0.09382385827936371,
          0.08379147515395352,
          0.17841796287925168,
          -0.47295249527721744,
          -0.07215405064096192,
          0.7386000924655789,
          -2.9967208480901704,
          -2.968289423861583,
          -0.13844609327087193,
          0.1990407241781012,
          -0.7998508811553025,
          0.3378091634746211,
          -0.03047327274690116,
          0.4503199078550794,
          -0.06711283664778914,
          -0.028290382189678106,
          -1.3721888433093075,
          -1.3633897968646949,
          -0.10284034796193733,
          -3.0270079918025274,
          -0.03875024517803012,
          0.262638983261168,
          -0.01736568385874658,
          0.47792422921159355,
          0.2988110016862484,
          -0.15750618451855827,
          -0.020337472593724766,
          -0.02458558870662437,
          -0.05732613594763282,
          -0.048518203741411484,
          -0.028743569387258035,
          -0.0302665547055235,
          0.07543366514499675,
          0.5552722828214287,
          -0.1502567879313708,
          0.16898855397775117,
          -0.2976841317497212,
          1.112537739112242,
          -0.5703514565292265,
          -0.05729864160971035,
          -0.01862430549171199,
          0.20968109040029115,
          -0.7640257244074674,
          0.043493132389570206,
          -0.06472908651161884,
          -0.05385944666945001,
          0.03558558292364136,
          -0.07798448173574021,
          0.171224579315243,
          0.1308728314202784,
          0.16355455656433804,
          -2.168810196712127,
          -0.4846907951628918,
          0.15722082065819512,
          0.04764331721629634,
          -0.13905458229747805,
          0.21638466390581912,
          0.3488183215898323,
          2.392991480197614,
          2.3754769235553073,
          -0.10566594593529689,
          0.028336259614910247,
          1.3191344470192132,
          -0.03936863066554239,
          -0.12334861730731478,
          0.3194048772506475,
          0.2639944756574136,
          -1.95165832260032,
          -0.11942170244548021,
          -0.14482789387648778,
          -0.009670617859655143,
          -0.06676695131962572,
          -2.37102835443616,
          3.5237233467449887,
          2.6923230284571122,
          1.353097264449068,
          0.11442720718609156,
          -0.364476114602562,
          0.01846574794632726,
          1.5154646243878565,
          0.0701141822232981,
          0.18626891372658158,
          0.33640811513189606,
          -0.1322315919100552,
          0.05430740440318667,
          0.04589292795540684,
          0.0028102569850349947,
          -0.14211061159228205,
          0.0008958596558969138,
          0.035758803459958945,
          0.01850651993316326,
          2.5399423138483353e-8,
          -1.016496303306055,
          -0.05952049177040798,
          0.19041016861327004,
          -0.10023875325124469,
          0.383801362292351,
          -0.006145293628517095,
          -0.5960624076801714,
          -0.04588538248666713,
          0.6031626719104008,
          -8.853925322995519,
          -8.803737471987038,
          -0.30705096151944117,
          0.17044512978634502,
          -0.058902971584528195,
          8.06196237715418,
          0.010793317263559216,
          0.31611806129927267,
          0.036576810012036054,
          -2.428141050732121,
          -0.1891184474120799,
          0.10315085529554578,
          0.9511907089756827,
          0.3029952619599493,
          0.060832614462085585,
          -0.24282609492379564,
          0.05585361447591016,
          0.2443182760572472,
          2.956537582496683,
          2.6926351288713235,
          1.2993605888884168,
          -0.5150907515508151,
          0.17238411406216933,
          0.17078031285914924,
          1.052269664183029,
          0.5847869098041137,
          -2.214835039396979,
          0.722724418884582,
          0.6113138617327478,
          1.3415170316072542,
          1.353196977095948,
          0.4839616309884973,
          0.5115607895152737,
          0.3156226628991723,
          0.2578781059906635,
          0.026802922004516668,
          -0.5994433284214304,
          0.023644614844893656,
          -0.0442446028813208,
          -0.04361231457304064,
          0.10455317924161056,
          -0.16600654925129912,
          2.57839797861363,
          0.06677421346660231,
          0.09833359911811759,
          0.1822440636474065,
          0.8042856561524887,
          -0.0811254355202538,
          -0.05622045097255326,
          -0.05541613678153555,
          -0.5057058713615681,
          8.390326169700206,
          0.09856526122435008,
          -0.41050441185137365,
          -1.270875469780011,
          0.05489375307115504,
          -0.028703606377230975,
          -0.08042987093616347,
          -0.00546921479947384,
          -0.0046200344910279165
         ],
         "xaxis": "x",
         "y": [
          0.14093907769536215,
          0.5376786742604139,
          -0.7338106969669742,
          1.5352255347542987,
          0.16101253230528406,
          3.076203686659911,
          0.24068217810384573,
          0.3672386289580362,
          0.10418348257583487,
          0.30872966112279504,
          0.1689225168884885,
          -0.10127944891154704,
          1.3158200186183868,
          20.494774570194522,
          -0.11541401963212095,
          1.58045232170839,
          1.514215297823319,
          1.2160981338744856,
          0.19802611396715264,
          -0.0018249871703936887,
          0.32536935569843833,
          0.3985110203718694,
          1.1295525274452398,
          0.5481188555409049,
          0.7599878256570631,
          -0.07488698683413131,
          2.9999530937198164,
          0.3579818631041466,
          0.40336399615087415,
          1.3394282623487976,
          0.13207666857987563,
          0.22391836798835446,
          0.7335009058919293,
          0.10948238046875997,
          0.3666726768828948,
          0.22406202660030478,
          0.43689921023770545,
          0.14224432934009748,
          -0.5966748494465244,
          -2.2678209787697967,
          -1.4047703438974475,
          -1.3583553653813474,
          -1.4462209803605321,
          0.03094301114564978,
          0.15384958857881115,
          0.10097997679816925,
          0.45135345109686464,
          1.3555004716597703,
          0.04066959714366883,
          1.8071096517107386,
          1.8335322320485068,
          0.2759227185914931,
          0.1297015876738649,
          0.0717573053648627,
          -0.00392308935735517,
          0.22489453116780045,
          0.08559028413168342,
          1.3933795439726424,
          0.34377510818994855,
          0.19954717858662208,
          -3.7452574513942345,
          0.8362169311136824,
          -0.011155959285924187,
          0.47172675353388827,
          0.7406211266353524,
          -0.3088720904179491,
          0.15611479460720232,
          0.3107074796643181,
          1.1886565020333903,
          0.8860669359313048,
          1.674296621626548,
          0.6263547139262103,
          0.07282327175511293,
          0.09906450054822516,
          0.057514142230387866,
          0.12623813773040365,
          3.301030432473146,
          0.1849228652244519,
          0.1607108719226239,
          0.5719980703727617,
          0.268089050730561,
          0.22949778715847152,
          0.9790187520013005,
          5.0567059361587114,
          4.689477155704755,
          0.2668735761505196,
          0.4240822895570463,
          5.675664477243869,
          5.550424850663719,
          0.36105770708583845,
          0.018131484702808662,
          0.28811397916333176,
          0.1985781051854753,
          0.5492449542278763,
          0.7796986655266427,
          0.2766371476086653,
          -0.8072984624210696,
          1.6423154030968234,
          0.09379969000608598,
          0.2802459144481426,
          0.31099027704383625,
          0.45925393222495897,
          0.22506064170070056,
          0.19981545077245627,
          0.031043272169808744,
          0.528980592602535,
          0.04538807303394321,
          0.07355863311070682,
          0.34298306190698746,
          20.24595164865942,
          2.7942076192979015,
          2.815272997691524,
          0.6871948710620244,
          0.6191328027739951,
          0.3120743839420293,
          0.6330201191797904,
          0.28924053259223037,
          0.6446526693357518,
          0.10189470888429172,
          0.8518135999995631,
          0.6735495344459409,
          0.7192459965376343,
          0.53528281915595,
          0.8861132991070128,
          0.8021608019654096,
          0.5551815215123775,
          0.30705081620221114,
          1.43393843781302,
          0.4811733160368401,
          0.186739786803525,
          0.2564140539425706,
          1.3975015768912504,
          1.3181928372452427,
          0.14801786009585627,
          -0.17196568540032006,
          0.7394694536455033,
          -2.141891935571446,
          0.19553732280569425,
          0.7289135792943937,
          0.4619534523555341,
          0.1715112917267194,
          0.058374546504720334,
          0.06889187720639735,
          0.764844799120306,
          -0.03645078618713114,
          0.11988400575470635,
          0.8133502777434578,
          0.8473249781094306,
          0.9894866074491567,
          0.41242849512298946,
          0.07616188902611973,
          0.5567356861720544,
          0.5787577339493046,
          -0.07998376613980743,
          -0.13689555482124177,
          1.4205396268200092,
          1.1956014194730096,
          0.14739277437237072,
          0.3103036727643617,
          0.6037599831668078,
          0.12028289969784088,
          0.27416866015312635,
          -0.591595031015046,
          0.2138053322646731,
          0.846349874058371,
          0.09585896918516551,
          0.7490015213951344,
          0.3437717301749346,
          0.2166557748260477,
          0.10064849537157874,
          0.4067682832272759,
          2.284146711199573,
          0.8400939041771772,
          0.10097997290794805,
          0.5144218705523691,
          0.1963181886496282,
          0.09520548962136306,
          -0.00720106150429265,
          0.6161427706953172,
          0.4373521212073545,
          -0.20749185598478478,
          -1.4095423678880505,
          -1.348303874225496,
          0.1915723272389766,
          0.4991843091260211,
          0.34430233042061725,
          2.817812904248004,
          -0.4820604462073115,
          -0.6052637207941879,
          0.2703330250218121,
          0.24089000761224458,
          0.19890969725808683,
          11.234332817167289,
          0.22042619477632344,
          0.7048731043134405,
          -0.005561279819772596,
          0.1896447711333938,
          -0.7887371964166429,
          0.2612508833544459,
          0.29137022601203905,
          1.0006902627981384,
          0.2550346055201358,
          0.9080233815260191,
          0.3874009800952353,
          0.44095566607303266,
          0.29364867990947563,
          0.3180314156451689,
          0.03882473378154962,
          -0.10192860321605111,
          -0.6832948075972131,
          0.4972761776576343,
          1.8103869853175005,
          0.5965302196980212,
          0.2260284220990703,
          0.6979390104303522,
          0.3122526612235551,
          0.3335246537859497,
          0.18967687840047645,
          0.6897818483522752,
          1.8630289785183685,
          0.07533285605051282,
          0.2821179200916002,
          0.032762704983028655,
          0.4540050559713696,
          0.039794909072197654,
          1.5884043091530848,
          0.9005840943445825,
          2.752779423576338,
          -0.16426930880317342,
          -2.530811219462169,
          0.39162618394077064,
          0.9709563790834232,
          1.2290345475344335,
          0.18322543326902616,
          0.43936996616483726,
          0.22439956048456663,
          0.2191419279063145,
          -0.6622195735979962,
          2.397813718795297,
          1.4314467003845248,
          0.27884824745870057,
          0.6525971524934673,
          -0.5467734519831222,
          -0.5033357285495369,
          0.18882405437853161,
          0.10927233658791641,
          0.25734938916897726,
          2.9394971580545644,
          -0.16920110345962305,
          0.0768370367953125,
          2.46059082874922,
          0.22152682693557124,
          0.14605480337248272,
          0.2161586217441706,
          0.2694829586969405,
          -9.882112093212397,
          0.3749777440107229,
          0.18544143196915935,
          0.5378042943504882,
          0.2926047638185221,
          57.64733590925261,
          0.48788071393409527,
          0.33571168650221617,
          0.22905253555905597,
          0.30305085217772,
          0.4136892589642378,
          0.40259084134528345,
          0.3442905571661179,
          0.34390407680256113,
          0.17956117107758462,
          3.7264928066842895,
          7.010639158473495,
          0.22827412881952241,
          -0.6704189808410383,
          0.26808705703871216,
          0.1988043962013323,
          1.0907898363265631,
          0.0669711906465975,
          -0.3809835217179197,
          0.16458498058388304,
          0.518677077448075,
          0.3007117911712861,
          1.6569094187907514,
          0.46045084373781975,
          0.39834246915073546,
          0.3925320044469075,
          0.10203542259988611,
          0.32677721909182433,
          0.4290534838959431,
          2.5772387941634416,
          -2.448684562314442,
          1.1627971222065405,
          0.30172313939597734,
          0.07993986052623157,
          -0.2039730284810305,
          -5.736016868712075,
          0.7679094886497676,
          0.3388535458287467,
          0.649219157836487,
          1.1018377476442351,
          0.0704326372234147,
          -0.6107770749310751,
          -0.33597884619424506,
          1.3531690917000108,
          0.24306445120060796,
          -0.5586916515781959,
          -0.6751398003357281,
          2.688910825129382,
          2.361876609807839,
          -0.07705245358141799,
          0.41719187981376665,
          0.21778168724762997,
          0.2030711909811395,
          0.32997203702148165,
          0.3237052912192082,
          0.35978193432539646,
          0.6642648305855996,
          0.705486982736741,
          -2.0873915414979267,
          0.47582718303288496,
          0.18657695506679922,
          -0.546209328045815,
          0.05772758197696448,
          0.49898295536765913,
          0.10378088629400915,
          0.45303834009300403,
          1.1924436045756543,
          2.8522109257322126,
          2.3152508324281618,
          -0.2870020689677516,
          0.5354352471689633,
          0.37499131781038614,
          0.1254682061189097,
          0.13821862371342475,
          0.21933598437937954,
          0.1882348528656692,
          0.19571761537800791,
          0.19137419190526977,
          2.5654473920806593,
          1.6525645074194144,
          1.295585010679524,
          0.27467029364883616,
          0.5091346372048942,
          1.126917388545972,
          0.4953994749344386,
          0.5449503843179788,
          0.2223482608434717,
          0.14751905568283682,
          0.3419819609451604,
          0.32981053959514073,
          -0.0052896178031737896,
          0.1245366724779961,
          0.6841463303702566,
          0.2759940732888785,
          0.21348425289774836,
          0.24847270034998345,
          -0.0035976232225163555,
          -1.618363862144039,
          1.2739222614169292,
          0.09007071973694376,
          1.158401625380585,
          0.23730489939497548,
          1.147374891628083,
          0.20769304803672978,
          0.30569513565417133,
          -0.1854952962956854,
          -0.13751977917964442,
          -0.00020685493367506198,
          0.2782417829094091,
          0.18782789382350357,
          0.34499972957479674,
          3.1681295645563874,
          0.019084738282180866,
          0.37054023056401864,
          -0.5350906396234596,
          0.18750679526428765,
          0.19698515709710482,
          0.4947939035710561,
          0.5078656502529816,
          0.2027606305124188,
          1.178735021700576,
          1.2113405454700288,
          0.3111621683172157,
          0.3565111698247735,
          0.46039252434163064,
          0.35209719131612616,
          0.7301965192560039,
          -0.03271637172953283,
          -7.994413851950419,
          -7.892884702329898,
          -1.1000086270267502,
          0.48317623253331576,
          1.0740920582144273,
          0.9484682900386243,
          6.822581883134547,
          6.8191230882857345,
          0.2294982810934211,
          1.128711373586263,
          0.25083965184588086,
          1.027153069453388,
          0.5012027285159143,
          0.08003138445960739,
          0.6292301531537843,
          0.09536924732162898,
          -0.13923133339801746,
          0.3469478514809394,
          0.2857000694753891,
          0.5291600106523584,
          0.37000469548446024,
          2.196618400424962,
          0.08441348419346395,
          0.0002547451126105548,
          0.30097520574420833,
          0.4424517018293641,
          -0.2304712615145465,
          0.47037083464853235,
          0.3677185450880063,
          0.15148563936709908,
          -0.4881512575388126,
          0.1147641736906996,
          0.2825832839578252,
          0.3206618168750453,
          0.2531449448509788,
          0.0005053658504443433,
          0.21504743999293474,
          2.304440790736013,
          1.824339309574568,
          1.855104017539135,
          1.0291006514020753,
          0.9984737257911178,
          2.08610288718711,
          2.1129450814541033,
          0.36021764025803493,
          0.06902355219988165,
          2.3483515751996027,
          2.565626152775004,
          -1.160713367108488,
          0.019186713958530693,
          0.064779921498026,
          0.11751878398185768,
          0.09549924951176414,
          0.2717113070886639,
          0.9916652234122132,
          1.5728660103910137,
          1.6053236312119192,
          0.2740178790246736,
          0.5931981912734031,
          -0.20241410583646494,
          0.8652327022936569,
          0.25902779772884915,
          0.5583388927181079,
          -0.33093446148097083,
          0.284540251173154,
          2.6455372387359426,
          2.667549111678207,
          0.017522128820100916,
          -0.6206307444156144,
          0.25088218830494485,
          0.5062298895200414,
          0.0644828351645754,
          0.35685582313864755,
          9.829090837058859,
          0.6797073255646181,
          0.2822434932927458,
          0.18682394913842965,
          0.1925060547252915,
          0.22517887837046174,
          1.6066516734296894,
          0.4627320897407388,
          -0.12666124017994615,
          0.21554102422932736,
          0.5420250070378804,
          0.1999401643169282,
          0.44330305711965556,
          0.56314309840925,
          1.3114463076284477,
          -0.04335838301087534,
          0.0537080533875931,
          0.21774540043925328,
          0.2023711155451785,
          0.2973050156218603,
          0.4299461289945589,
          0.12921686295148635,
          0.14390917777828557,
          0.23421720292902565,
          0.7218096761713896,
          0.5282635293634981,
          0.2568403484504054,
          -2.2172291951317478,
          -0.0036746054288765845,
          0.28740182733424935,
          0.10376630028102361,
          0.47745496951755684,
          0.3187019576121139,
          2.703693821096318,
          0.5964294489760174,
          0.6334680648642231,
          0.41458988852398637,
          0.25275972618331705,
          2.3269132740858103,
          0.12886006158059818,
          0.2643746394691901,
          0.2422216636006416,
          0.39224650934244515,
          -1.651691505622599,
          0.3198035003523845,
          0.2850896445023571,
          0.21214395091189434,
          0.9126765711043633,
          2.6406719346360576,
          0.1703688971511505,
          3.8785170075252227,
          0.8289980756925404,
          0.2522213869888074,
          1.1388730397345685,
          0.3177402869765857,
          1.6192888568930424,
          0.2996717844151528,
          0.2039398870200831,
          0.08660777545543658,
          0.4921455941144166,
          0.33697846971302314,
          0.9598399623822844,
          0.0010831476402943026,
          0.051403951326548195,
          0.017016639190840545,
          0.16349863892513194,
          0.5009896515235333,
          0.000024299367207045616,
          1.3361186565651897,
          0.27213318140335585,
          -0.019657999949045706,
          0.40031189645823595,
          0.6207605227164226,
          0.21310333320630132,
          0.8821733408096697,
          0.45106228382761154,
          2.569790867414909,
          11.295940736003022,
          11.27304519450044,
          -0.7533237973730015,
          0.19345683309477965,
          0.19070165619834445,
          4.7304968290215585,
          0.30654988275211925,
          0.4748613522766307,
          0.7843232735785773,
          -0.07540494200415082,
          0.08972781931995823,
          0.31939832092296055,
          0.3777103591143035,
          0.45753041364310426,
          0.059365408615892276,
          1.3740903452329218,
          0.07317207586000612,
          0.5215877812785116,
          -4.694571705221663,
          -4.225546212980451,
          0.5886885803410659,
          0.3325987217538748,
          0.23762745764877563,
          0.4111571230552254,
          1.6138152552455993,
          0.25274817632759516,
          2.2789845355850624,
          1.1628831021196173,
          0.5432250283702114,
          0.8815132747133805,
          0.8338677100225507,
          0.4330759155171439,
          0.5408045943195843,
          0.0897573948368567,
          0.36176030993173885,
          0.19799711143188342,
          0.21136846671174486,
          0.9937799099125199,
          0.0902692654271833,
          0.15952190122818122,
          0.4503059096289926,
          -1.4452841810325339,
          0.5544359911561254,
          0.7179034599013339,
          0.6611129549067161,
          -0.008665376725746039,
          0.9328453749384555,
          0.38566093159751597,
          0.11825605641459863,
          0.1841409255073739,
          0.865184099352261,
          6.384688508391065,
          -0.3231611541691123,
          1.072108373805958,
          1.2692714072056785,
          0.31462640995294744,
          0.2290355741965899,
          0.09402454527947077,
          0.13760015073619034,
          0.24557834535060913
         ],
         "yaxis": "y"
        }
       ],
       "layout": {
        "font": {
         "color": "RebeccaPurple",
         "family": "Arial, sans-serif",
         "size": 12
        },
        "height": 1400,
        "legend": {
         "tracegroupgap": 0
        },
        "template": {
         "data": {
          "bar": [
           {
            "error_x": {
             "color": "#2a3f5f"
            },
            "error_y": {
             "color": "#2a3f5f"
            },
            "marker": {
             "line": {
              "color": "#E5ECF6",
              "width": 0.5
             },
             "pattern": {
              "fillmode": "overlay",
              "size": 10,
              "solidity": 0.2
             }
            },
            "type": "bar"
           }
          ],
          "barpolar": [
           {
            "marker": {
             "line": {
              "color": "#E5ECF6",
              "width": 0.5
             },
             "pattern": {
              "fillmode": "overlay",
              "size": 10,
              "solidity": 0.2
             }
            },
            "type": "barpolar"
           }
          ],
          "carpet": [
           {
            "aaxis": {
             "endlinecolor": "#2a3f5f",
             "gridcolor": "white",
             "linecolor": "white",
             "minorgridcolor": "white",
             "startlinecolor": "#2a3f5f"
            },
            "baxis": {
             "endlinecolor": "#2a3f5f",
             "gridcolor": "white",
             "linecolor": "white",
             "minorgridcolor": "white",
             "startlinecolor": "#2a3f5f"
            },
            "type": "carpet"
           }
          ],
          "choropleth": [
           {
            "colorbar": {
             "outlinewidth": 0,
             "ticks": ""
            },
            "type": "choropleth"
           }
          ],
          "contour": [
           {
            "colorbar": {
             "outlinewidth": 0,
             "ticks": ""
            },
            "colorscale": [
             [
              0,
              "#0d0887"
             ],
             [
              0.1111111111111111,
              "#46039f"
             ],
             [
              0.2222222222222222,
              "#7201a8"
             ],
             [
              0.3333333333333333,
              "#9c179e"
             ],
             [
              0.4444444444444444,
              "#bd3786"
             ],
             [
              0.5555555555555556,
              "#d8576b"
             ],
             [
              0.6666666666666666,
              "#ed7953"
             ],
             [
              0.7777777777777778,
              "#fb9f3a"
             ],
             [
              0.8888888888888888,
              "#fdca26"
             ],
             [
              1,
              "#f0f921"
             ]
            ],
            "type": "contour"
           }
          ],
          "contourcarpet": [
           {
            "colorbar": {
             "outlinewidth": 0,
             "ticks": ""
            },
            "type": "contourcarpet"
           }
          ],
          "heatmap": [
           {
            "colorbar": {
             "outlinewidth": 0,
             "ticks": ""
            },
            "colorscale": [
             [
              0,
              "#0d0887"
             ],
             [
              0.1111111111111111,
              "#46039f"
             ],
             [
              0.2222222222222222,
              "#7201a8"
             ],
             [
              0.3333333333333333,
              "#9c179e"
             ],
             [
              0.4444444444444444,
              "#bd3786"
             ],
             [
              0.5555555555555556,
              "#d8576b"
             ],
             [
              0.6666666666666666,
              "#ed7953"
             ],
             [
              0.7777777777777778,
              "#fb9f3a"
             ],
             [
              0.8888888888888888,
              "#fdca26"
             ],
             [
              1,
              "#f0f921"
             ]
            ],
            "type": "heatmap"
           }
          ],
          "heatmapgl": [
           {
            "colorbar": {
             "outlinewidth": 0,
             "ticks": ""
            },
            "colorscale": [
             [
              0,
              "#0d0887"
             ],
             [
              0.1111111111111111,
              "#46039f"
             ],
             [
              0.2222222222222222,
              "#7201a8"
             ],
             [
              0.3333333333333333,
              "#9c179e"
             ],
             [
              0.4444444444444444,
              "#bd3786"
             ],
             [
              0.5555555555555556,
              "#d8576b"
             ],
             [
              0.6666666666666666,
              "#ed7953"
             ],
             [
              0.7777777777777778,
              "#fb9f3a"
             ],
             [
              0.8888888888888888,
              "#fdca26"
             ],
             [
              1,
              "#f0f921"
             ]
            ],
            "type": "heatmapgl"
           }
          ],
          "histogram": [
           {
            "marker": {
             "pattern": {
              "fillmode": "overlay",
              "size": 10,
              "solidity": 0.2
             }
            },
            "type": "histogram"
           }
          ],
          "histogram2d": [
           {
            "colorbar": {
             "outlinewidth": 0,
             "ticks": ""
            },
            "colorscale": [
             [
              0,
              "#0d0887"
             ],
             [
              0.1111111111111111,
              "#46039f"
             ],
             [
              0.2222222222222222,
              "#7201a8"
             ],
             [
              0.3333333333333333,
              "#9c179e"
             ],
             [
              0.4444444444444444,
              "#bd3786"
             ],
             [
              0.5555555555555556,
              "#d8576b"
             ],
             [
              0.6666666666666666,
              "#ed7953"
             ],
             [
              0.7777777777777778,
              "#fb9f3a"
             ],
             [
              0.8888888888888888,
              "#fdca26"
             ],
             [
              1,
              "#f0f921"
             ]
            ],
            "type": "histogram2d"
           }
          ],
          "histogram2dcontour": [
           {
            "colorbar": {
             "outlinewidth": 0,
             "ticks": ""
            },
            "colorscale": [
             [
              0,
              "#0d0887"
             ],
             [
              0.1111111111111111,
              "#46039f"
             ],
             [
              0.2222222222222222,
              "#7201a8"
             ],
             [
              0.3333333333333333,
              "#9c179e"
             ],
             [
              0.4444444444444444,
              "#bd3786"
             ],
             [
              0.5555555555555556,
              "#d8576b"
             ],
             [
              0.6666666666666666,
              "#ed7953"
             ],
             [
              0.7777777777777778,
              "#fb9f3a"
             ],
             [
              0.8888888888888888,
              "#fdca26"
             ],
             [
              1,
              "#f0f921"
             ]
            ],
            "type": "histogram2dcontour"
           }
          ],
          "mesh3d": [
           {
            "colorbar": {
             "outlinewidth": 0,
             "ticks": ""
            },
            "type": "mesh3d"
           }
          ],
          "parcoords": [
           {
            "line": {
             "colorbar": {
              "outlinewidth": 0,
              "ticks": ""
             }
            },
            "type": "parcoords"
           }
          ],
          "pie": [
           {
            "automargin": true,
            "type": "pie"
           }
          ],
          "scatter": [
           {
            "fillpattern": {
             "fillmode": "overlay",
             "size": 10,
             "solidity": 0.2
            },
            "type": "scatter"
           }
          ],
          "scatter3d": [
           {
            "line": {
             "colorbar": {
              "outlinewidth": 0,
              "ticks": ""
             }
            },
            "marker": {
             "colorbar": {
              "outlinewidth": 0,
              "ticks": ""
             }
            },
            "type": "scatter3d"
           }
          ],
          "scattercarpet": [
           {
            "marker": {
             "colorbar": {
              "outlinewidth": 0,
              "ticks": ""
             }
            },
            "type": "scattercarpet"
           }
          ],
          "scattergeo": [
           {
            "marker": {
             "colorbar": {
              "outlinewidth": 0,
              "ticks": ""
             }
            },
            "type": "scattergeo"
           }
          ],
          "scattergl": [
           {
            "marker": {
             "colorbar": {
              "outlinewidth": 0,
              "ticks": ""
             }
            },
            "type": "scattergl"
           }
          ],
          "scattermapbox": [
           {
            "marker": {
             "colorbar": {
              "outlinewidth": 0,
              "ticks": ""
             }
            },
            "type": "scattermapbox"
           }
          ],
          "scatterpolar": [
           {
            "marker": {
             "colorbar": {
              "outlinewidth": 0,
              "ticks": ""
             }
            },
            "type": "scatterpolar"
           }
          ],
          "scatterpolargl": [
           {
            "marker": {
             "colorbar": {
              "outlinewidth": 0,
              "ticks": ""
             }
            },
            "type": "scatterpolargl"
           }
          ],
          "scatterternary": [
           {
            "marker": {
             "colorbar": {
              "outlinewidth": 0,
              "ticks": ""
             }
            },
            "type": "scatterternary"
           }
          ],
          "surface": [
           {
            "colorbar": {
             "outlinewidth": 0,
             "ticks": ""
            },
            "colorscale": [
             [
              0,
              "#0d0887"
             ],
             [
              0.1111111111111111,
              "#46039f"
             ],
             [
              0.2222222222222222,
              "#7201a8"
             ],
             [
              0.3333333333333333,
              "#9c179e"
             ],
             [
              0.4444444444444444,
              "#bd3786"
             ],
             [
              0.5555555555555556,
              "#d8576b"
             ],
             [
              0.6666666666666666,
              "#ed7953"
             ],
             [
              0.7777777777777778,
              "#fb9f3a"
             ],
             [
              0.8888888888888888,
              "#fdca26"
             ],
             [
              1,
              "#f0f921"
             ]
            ],
            "type": "surface"
           }
          ],
          "table": [
           {
            "cells": {
             "fill": {
              "color": "#EBF0F8"
             },
             "line": {
              "color": "white"
             }
            },
            "header": {
             "fill": {
              "color": "#C8D4E3"
             },
             "line": {
              "color": "white"
             }
            },
            "type": "table"
           }
          ]
         },
         "layout": {
          "annotationdefaults": {
           "arrowcolor": "#2a3f5f",
           "arrowhead": 0,
           "arrowwidth": 1
          },
          "autotypenumbers": "strict",
          "coloraxis": {
           "colorbar": {
            "outlinewidth": 0,
            "ticks": ""
           }
          },
          "colorscale": {
           "diverging": [
            [
             0,
             "#8e0152"
            ],
            [
             0.1,
             "#c51b7d"
            ],
            [
             0.2,
             "#de77ae"
            ],
            [
             0.3,
             "#f1b6da"
            ],
            [
             0.4,
             "#fde0ef"
            ],
            [
             0.5,
             "#f7f7f7"
            ],
            [
             0.6,
             "#e6f5d0"
            ],
            [
             0.7,
             "#b8e186"
            ],
            [
             0.8,
             "#7fbc41"
            ],
            [
             0.9,
             "#4d9221"
            ],
            [
             1,
             "#276419"
            ]
           ],
           "sequential": [
            [
             0,
             "#0d0887"
            ],
            [
             0.1111111111111111,
             "#46039f"
            ],
            [
             0.2222222222222222,
             "#7201a8"
            ],
            [
             0.3333333333333333,
             "#9c179e"
            ],
            [
             0.4444444444444444,
             "#bd3786"
            ],
            [
             0.5555555555555556,
             "#d8576b"
            ],
            [
             0.6666666666666666,
             "#ed7953"
            ],
            [
             0.7777777777777778,
             "#fb9f3a"
            ],
            [
             0.8888888888888888,
             "#fdca26"
            ],
            [
             1,
             "#f0f921"
            ]
           ],
           "sequentialminus": [
            [
             0,
             "#0d0887"
            ],
            [
             0.1111111111111111,
             "#46039f"
            ],
            [
             0.2222222222222222,
             "#7201a8"
            ],
            [
             0.3333333333333333,
             "#9c179e"
            ],
            [
             0.4444444444444444,
             "#bd3786"
            ],
            [
             0.5555555555555556,
             "#d8576b"
            ],
            [
             0.6666666666666666,
             "#ed7953"
            ],
            [
             0.7777777777777778,
             "#fb9f3a"
            ],
            [
             0.8888888888888888,
             "#fdca26"
            ],
            [
             1,
             "#f0f921"
            ]
           ]
          },
          "colorway": [
           "#636efa",
           "#EF553B",
           "#00cc96",
           "#ab63fa",
           "#FFA15A",
           "#19d3f3",
           "#FF6692",
           "#B6E880",
           "#FF97FF",
           "#FECB52"
          ],
          "font": {
           "color": "#2a3f5f"
          },
          "geo": {
           "bgcolor": "white",
           "lakecolor": "white",
           "landcolor": "#E5ECF6",
           "showlakes": true,
           "showland": true,
           "subunitcolor": "white"
          },
          "hoverlabel": {
           "align": "left"
          },
          "hovermode": "closest",
          "mapbox": {
           "style": "light"
          },
          "paper_bgcolor": "white",
          "plot_bgcolor": "#E5ECF6",
          "polar": {
           "angularaxis": {
            "gridcolor": "white",
            "linecolor": "white",
            "ticks": ""
           },
           "bgcolor": "#E5ECF6",
           "radialaxis": {
            "gridcolor": "white",
            "linecolor": "white",
            "ticks": ""
           }
          },
          "scene": {
           "xaxis": {
            "backgroundcolor": "#E5ECF6",
            "gridcolor": "white",
            "gridwidth": 2,
            "linecolor": "white",
            "showbackground": true,
            "ticks": "",
            "zerolinecolor": "white"
           },
           "yaxis": {
            "backgroundcolor": "#E5ECF6",
            "gridcolor": "white",
            "gridwidth": 2,
            "linecolor": "white",
            "showbackground": true,
            "ticks": "",
            "zerolinecolor": "white"
           },
           "zaxis": {
            "backgroundcolor": "#E5ECF6",
            "gridcolor": "white",
            "gridwidth": 2,
            "linecolor": "white",
            "showbackground": true,
            "ticks": "",
            "zerolinecolor": "white"
           }
          },
          "shapedefaults": {
           "line": {
            "color": "#2a3f5f"
           }
          },
          "ternary": {
           "aaxis": {
            "gridcolor": "white",
            "linecolor": "white",
            "ticks": ""
           },
           "baxis": {
            "gridcolor": "white",
            "linecolor": "white",
            "ticks": ""
           },
           "bgcolor": "#E5ECF6",
           "caxis": {
            "gridcolor": "white",
            "linecolor": "white",
            "ticks": ""
           }
          },
          "title": {
           "x": 0.05
          },
          "xaxis": {
           "automargin": true,
           "gridcolor": "white",
           "linecolor": "white",
           "ticks": "",
           "title": {
            "standoff": 15
           },
           "zerolinecolor": "white",
           "zerolinewidth": 2
          },
          "yaxis": {
           "automargin": true,
           "gridcolor": "white",
           "linecolor": "white",
           "ticks": "",
           "title": {
            "standoff": 15
           },
           "zerolinecolor": "white",
           "zerolinewidth": 2
          }
         }
        },
        "title": {
         "text": "Wizualizacja LSA"
        },
        "width": 2000,
        "xaxis": {
         "anchor": "y",
         "domain": [
          0,
          1
         ],
         "title": {
          "text": "Component 1"
         }
        },
        "yaxis": {
         "anchor": "x",
         "domain": [
          0,
          1
         ],
         "title": {
          "text": "Component 2"
         }
        }
       }
      }
     },
     "metadata": {},
     "output_type": "display_data"
    }
   ],
   "source": [
    "import pandas as pd\n",
    "import spacy\n",
    "from sklearn.decomposition import TruncatedSVD\n",
    "from sklearn.feature_extraction.text import TfidfVectorizer\n",
    "import plotly.express as px\n",
    "\n",
    "\n",
    "df = df_for_analysis\n",
    "nlp = spacy.load(\"pl_core_news_sm\")\n",
    "\n",
    "\n",
    "def my_tokenizer(text):\n",
    "    doc = nlp(text)\n",
    "    return [token.lemma_ for token in doc if not token.is_stop and not token.is_punct]\n",
    "\n",
    "\n",
    "vectorizer = TfidfVectorizer(tokenizer=my_tokenizer)\n",
    "# X = vectorizer.fit_transform(df['text'])\n",
    "\n",
    "# svd = TruncatedSVD(n_components=2)\n",
    "# Z = svd.fit_transform(X)\n",
    "\n",
    "X = vectorizer.fit_transform(df['text'])\n",
    "\n",
    "scaler = StandardScaler(with_mean=False) \n",
    "X_scaled = scaler.fit_transform(X)\n",
    "\n",
    "\n",
    "svd = TruncatedSVD(n_components=2)\n",
    "Z = svd.fit_transform(X_scaled)\n",
    "\n",
    "\n",
    "df_result = pd.DataFrame(Z, columns=['Component 1', 'Component 2'])\n",
    "df_result['text'] = df['text']\n",
    "\n",
    "fig = px.scatter(df_result, \n",
    "                 x='Component 1', \n",
    "                 y='Component 2', \n",
    "                 text='text',  \n",
    "                 title='Wizualizacja LSA', \n",
    "                 width=2000, \n",
    "                 height=1400)\n",
    "\n",
    "fig.update_traces(\n",
    "    textposition='top center'\n",
    ")\n",
    "\n",
    "\n",
    "fig.update_layout(\n",
    "    font=dict(\n",
    "        family=\"Arial, sans-serif\", \n",
    "        size=12,\n",
    "        color=\"RebeccaPurple\"\n",
    "    )\n",
    ")\n",
    "\n",
    "fig.show()"
   ]
  }
 ],
 "metadata": {
  "kernelspec": {
   "display_name": "NLP",
   "language": "python",
   "name": "python3"
  },
  "language_info": {
   "codemirror_mode": {
    "name": "ipython",
    "version": 3
   },
   "file_extension": ".py",
   "mimetype": "text/x-python",
   "name": "python",
   "nbconvert_exporter": "python",
   "pygments_lexer": "ipython3",
   "version": "3.10.15"
  }
 },
 "nbformat": 4,
 "nbformat_minor": 2
}
