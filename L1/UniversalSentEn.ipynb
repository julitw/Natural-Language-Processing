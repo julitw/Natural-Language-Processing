{
 "cells": [
  {
   "cell_type": "code",
   "execution_count": 10,
   "metadata": {},
   "outputs": [],
   "source": [
    "import tensorflow_hub as hub\n",
    "import numpy as np\n",
    "import pandas as pd\n",
    "from sklearn.preprocessing import StandardScaler\n",
    "from sklearn.manifold import TSNE\n",
    "import plotly.express as px\n",
    "import hdbscan\n"
   ]
  },
  {
   "cell_type": "code",
   "execution_count": 11,
   "metadata": {},
   "outputs": [],
   "source": [
    "# model Universal Sentence Encoder - całe zdania\n",
    "embed = hub.load(\"https://tfhub.dev/google/universal-sentence-encoder/4\")\n"
   ]
  },
  {
   "cell_type": "code",
   "execution_count": 12,
   "metadata": {},
   "outputs": [],
   "source": [
    "df_processed = pd.read_excel('cyberbullying_train_complete_sentences.xlsx', sheet_name='Superanotator')\n",
    "df_processed = df_processed.drop(columns=[\"label1\", \"label2\", \"label3\", \"1. Sarkazm uszczypliwy, dokuczliwy -> mowa nienawiści\"])\n",
    "df_processed = df_processed.dropna(axis=0, how='any', subset=None, inplace=False)\n"
   ]
  },
  {
   "cell_type": "code",
   "execution_count": 13,
   "metadata": {},
   "outputs": [],
   "source": [
    "# Generowanie osadzeń dla zdań - lista zdań\n",
    "sentence_embeddings = embed(df_processed['text'].tolist()) \n",
    "sentence_embeddings = np.array(sentence_embeddings)\n",
    "\n",
    "# Standaryzacja danych\n",
    "standardized_data = StandardScaler().fit_transform(sentence_embeddings)\n",
    "\n",
    "# Zastosowanie t-SNE do redukcji wymiarowości\n",
    "tfidf_tsne = TSNE(n_components=2, random_state=0, perplexity=50).fit_transform(standardized_data)\n",
    "\n",
    "# Utworzenie DataFrame z wynikami t-SNE\n",
    "df_tsne = pd.DataFrame(tfidf_tsne, columns=(\"Dim_1\", \"Dim_2\"))\n",
    "df_tsne['label'] = df_processed['LABEL']\n",
    "df_tsne['text'] = df_processed['text']\n"
   ]
  },
  {
   "cell_type": "code",
   "execution_count": 14,
   "metadata": {},
   "outputs": [
    {
     "data": {
      "application/vnd.plotly.v1+json": {
       "config": {
        "plotlyServerURL": "https://plot.ly"
       },
       "data": [
        {
         "customdata": [
          [
           "Dla mnie faworytem do tytułu będzie Cracovia. Zobaczymy, czy typ się sprawdzi.",
           0
          ],
          [
           "@anonymized_account @anonymized_account Brawo ty Daria kibic ma być na dobre i złe",
           0
          ],
          [
           "@anonymized_account @anonymized_account Super, polski premier składa kwiaty na grobach kolaborantów. Ale doczekaliśmy czasów.",
           1
          ],
          [
           "@anonymized_account @anonymized_account Musi. Innej drogi nie mamy.",
           0
          ],
          [
           "Odrzut natychmiastowy, kwaśna mina, mam problem",
           0
          ],
          [
           "Jaki on był fajny xdd pamiętam, że spóźniłam się na jego pierwsze zajęcia i to sporo i za karę kazał mi usiąść w pierwszej ławce XD",
           0
          ],
          [
           "@anonymized_account No nie ma u nas szczęścia 😉",
           0
          ],
          [
           "@anonymized_account Dawno kogoś tak wrednego nie widziałam xd",
           0
          ],
          [
           "@anonymized_account @anonymized_account Zaległości były, ale ważne czy były wezwania do zapłaty z których się klub nie wywiązał.",
           0
          ],
          [
           "@anonymized_account @anonymized_account @anonymized_account Gdzie jest @anonymized_account . Brudziński jesteś kłamcą i marnym kutasem @anonymized_account",
           1
          ],
          [
           "@anonymized_account @anonymized_account  no mam nadzieje !!:)",
           0
          ],
          [
           "@anonymized_account @anonymized_account Może gustował w starszych paniach ;-)",
           0
          ],
          [
           "@anonymized_account Zostawiłam tam 3 lata temu \\\"Notatki na mankietach\\\". Muszę się wrócić.",
           0
          ],
          [
           "@anonymized_account Oprawa do Krzysia M. Ps Pinokio -\\n\\\" mogłeś być gangsterem a zostałeś 3 ligowym frajerem \\\"😀",
           1
          ],
          [
           "@anonymized_account @anonymized_account Znowu będzie komunikat o polskich piratach drogowych w Słowacji.",
           0
          ],
          [
           "@anonymized_account Mówi człowiek, który chciał nałożyć sankcje na Polskę. Gratulacje. #Niepodlegla #11lisopada",
           0
          ],
          [
           "RT @anonymized_account @anonymized_account Mówi człowiek, który chciał nałożyć sankcje na Polskę. Gratulacje. #Niepodlegla #11lisopada",
           0
          ],
          [
           "@anonymized_account @anonymized_account o jakim zachowaniu \\\"fer\\\" mówisz skoro ukrywał się z tym że podpisał kontrakt z Legią ? Możesz rozwinąć ?",
           0
          ],
          [
           "@anonymized_account @anonymized_account Joanno! Po raz pierwszy się z panią zgadzam.😁😁😁😁😁",
           0
          ],
          [
           "Monster block, monster block, monster block... 😁",
           0
          ],
          [
           "@anonymized_account Czyżby Madryt brał przykład z Warszawy?",
           0
          ],
          [
           "@anonymized_account @anonymized_account No to Skończmy kurwa z tym wersalem w j...ej szczujni",
           1
          ],
          [
           "@anonymized_account Nie wiem, najczęściej grają na zmianę na prawym skrzydle.",
           0
          ],
          [
           "@anonymized_account No to Pan i koledzy macie z głowy. Przesrane tak reszta życia pod górkę.",
           0
          ],
          [
           "@anonymized_account A ja obstawiam, że pójdą bardziej w stronę tego, że może się powtórzyć sytuacja z Meresińskim.",
           0
          ],
          [
           "Aaaaa Kuba mi odpisał hehehehehe",
           0
          ],
          [
           "Asysta Kacpra Falona i 3:1 dla Widzewa. Witamy Widzew w II lidze. No i w sumie fajnie.",
           0
          ],
          [
           "@anonymized_account gwizdali na niego ? Bo nie oglądałem meczu :)",
           0
          ],
          [
           "@anonymized_account @anonymized_account ale może w końcu dojdzie do wniosku że skoro go klub już nie jara to lepiej go sprzedać i mieć po kłopocie",
           0
          ],
          [
           "@anonymized_account @anonymized_account Hej halo, o czym to jest bo mam na swojej liście i nie wiem czy warto??",
           0
          ],
          [
           "dorosłe życie nie jest dla mnie",
           0
          ],
          [
           "RT @anonymized_account dorosłe życie nie jest dla mnie",
           0
          ],
          [
           "@anonymized_account Cześć Paderewski, część opalające się nogi",
           0
          ],
          [
           "@anonymized_account @anonymized_account @anonymized_account Uprowadź gumową kaczuszkę. Zacznie negocjować.",
           0
          ],
          [
           "@anonymized_account Już wiem ze się nie dogadamy XD",
           0
          ],
          [
           "@anonymized_account Ale to w nowym przekładzie, jeszcze nie czytałam.",
           0
          ],
          [
           "@anonymized_account Lahoza mi nigdy nie szkoda. Wolę, jak na pierwszym planie są piłkarze, a nie sędzia :-)",
           0
          ],
          [
           "@anonymized_account @anonymized_account Sprawdź chłopie w słowniku co oznacza słowo , którego używasz a potem się odzywaj.",
           1
          ],
          [
           "@anonymized_account zmieńcie se nazwe na profilu na insta bo się nazywacie Grzegorz Ożóg...",
           0
          ],
          [
           "#Woronicza 17 poseł Halicki oburzony za Bolka.Naprawdè taki tępy czy tylko udaje idiotę?",
           1
          ],
          [
           "„Ta aktorka ma 20 lat?!?! Jaka stara!!” \\n\\nChyba musimy się już do grobu pakować roczniku 98 😂👌🏻",
           0
          ],
          [
           "RT @anonymized_account „Ta aktorka ma 20 lat?!?! Jaka stara!!” \\n\\nChyba musimy się już do grobu pakować roczniku 98 😂👌🏻",
           0
          ],
          [
           "Ahnherr der Schtwätzer wykonawcy Von Spar\\nhttps://t.co/SOtenSqIr0",
           0
          ],
          [
           "@anonymized_account @anonymized_account @anonymized_account Bierze cie cie pod chuj a ty sie produkujesz",
           1
          ],
          [
           "@anonymized_account @anonymized_account @anonymized_account Jak narazie to masz przywidzenia co nie zmienia faktu że cały czas jesteś idiotą.",
           1
          ],
          [
           "@anonymized_account Kiedy do licznika dojdą bilety z fan clubow?",
           0
          ],
          [
           "@anonymized_account A kto prowadzi zespół ? Będzie podany skład z tego meczu ?",
           0
          ],
          [
           "@anonymized_account Główny powód to brak kasy, trzeba dać bogatym 500+,300+ i być bez godności i honoru",
           1
          ],
          [
           "Zrobiłam takie Cv że ohohohoho",
           0
          ],
          [
           "Świętować uchwalenie Konstytucji 3 maja i łamać Konstytucję RP obecnie obowiązującą?!\\n#3Maja - dzień hipokryzji.",
           0
          ],
          [
           "RT @anonymized_account Świętować uchwalenie Konstytucji 3 maja i łamać Konstytucję RP obecnie obowiązującą?!\\n#3Maja - dzień hipokryzji.",
           0
          ],
          [
           "@anonymized_account @anonymized_account nie gra bo jest Jovanović i Guilherme",
           0
          ],
          [
           "@anonymized_account O tej godz. sporty szanuj ciało",
           0
          ],
          [
           "Nikt nigdy nie rozsiewał takiego smrodu jak @anonymized_account",
           1
          ],
          [
           "Nikt cię tak dobrze nie ubierze jak matka chrzestna dziecino",
           0
          ],
          [
           "@anonymized_account @anonymized_account Nikt tutaj nie chce plagiaciarzy kopiujących brytyjskich pisarzy.",
           0
          ],
          [
           "@anonymized_account A ksiądz co bierze 12 tyś za spowiedź przez tel?",
           0
          ],
          [
           "@anonymized_account Koń też ma dużą głowę. Tylko wydaje mi się, że jest bardziej inteligentny niż Karczewski",
           1
          ],
          [
           "@anonymized_account Pod i górę  pod wiatr to więcej niż k2",
           0
          ],
          [
           "@anonymized_account Sędziowie VAR nie decydują o karnych 😉",
           0
          ],
          [
           "Jakiś program na TVN, nauka jazdy za kierownicą babcia śpiewa \\\"jadą jadą jadą świry jadą\\\" jadą jadą jadą świry jadą\\\"",
           0
          ],
          [
           "@anonymized_account ta obecna Zary Larsson czy Pitbulla z ostatnich MŚ nie były złe :)",
           0
          ],
          [
           "(280 znaków w jednym zdaniu 🙈)",
           0
          ],
          [
           "@anonymized_account po wahaniach wagi Kwacha wznoszę że to może być kapuścianka",
           0
          ],
          [
           "@anonymized_account @anonymized_account w tym sezonie razem z pucharem 12 meczy i 1 gol.Mójta więcej strzelił.Sorry patrze w statystyki.",
           0
          ],
          [
           "@anonymized_account @anonymized_account @anonymized_account finały tblk były przyzwoicie sędziowane ?! Aha...",
           0
          ],
          [
           "@anonymized_account Taki miałam właśnie, teraz kupiłam z catrice",
           0
          ],
          [
           "@anonymized_account to ich wymień.W czym problem ?",
           0
          ],
          [
           "@anonymized_account @anonymized_account @anonymized_account a ja mam ciepełko jak się przytule do swoich kotów :)",
           0
          ],
          [
           "@anonymized_account Właśnie. Ilu! Najpierw odpowiedzmy sobie ma to pytanie,a potem dziwmy się zwycięstwu Zdanowskiej",
           0
          ],
          [
           "@anonymized_account W jego przypadku statystyka przebiegniętych kilometrów nie ma znaczenia. Czy gra zajebiście, czy fatalnie, biega tyle samo.",
           0
          ],
          [
           "@anonymized_account @anonymized_account 100%, Mann też miał pełne prawo",
           0
          ],
          [
           "@anonymized_account Kończyłeś już kilka razy 😂",
           0
          ],
          [
           "@anonymized_account Dzisiaj zajmujemy się WARiatem Krystyną ciekawe czy będzie płakał?",
           1
          ],
          [
           "@anonymized_account @anonymized_account @anonymized_account @anonymized_account A co będzie jak Kuba nigdy niewroci?",
           0
          ],
          [
           "@anonymized_account Tym w sejmie też? Banda hipokrytów i złodziei.",
           1
          ],
          [
           "W każdej z czterech grup będzie walka o zwycięstwo premiowane awansem do CLJ. Bardzo potrzebne rozwiązanie, brawo.",
           0
          ],
          [
           "@anonymized_account Tak się poznałam z moim chłopakiem 😂 czasami warto",
           0
          ],
          [
           "@anonymized_account nelly furtado a tytuł forco czy cos takiego",
           0
          ],
          [
           "@anonymized_account Mów prawdę, kto was skrzywdził",
           0
          ],
          [
           "@anonymized_account jestem tu od 2013 xd",
           0
          ],
          [
           "@anonymized_account Ta kadra to rocznik 2002",
           0
          ],
          [
           "Posiada sensor CGM , ciągły monitoring glikemii, w końcu.",
           0
          ],
          [
           "Jeszcze żaden Polak nie wystąpił w meczu gwiazd NBA, nie licząc Mietka Paciaciaka ;) Pomóżmy Marcinowi Gortatowi być 1 @anonymized_account #NBAVOTE",
           0
          ],
          [
           "RT @anonymized_account Jeszcze żaden Polak nie wystąpił w meczu gwiazd NBA, nie licząc Mietka Paciaciaka ;) Pomóżmy Marcinowi Gortatowi być 1…",
           0
          ],
          [
           "@anonymized_account No kurwa myślałem że na Podlasiu",
           0
          ],
          [
           "@anonymized_account @anonymized_account Tak, to nawet lepsze rozwiązanie.",
           0
          ],
          [
           "@anonymized_account @anonymized_account Koń by się uśmiał, TVN24 i TVN wolne media? Bardziej perfidnego łgarstwa nie słyszałem.. 🤔",
           1
          ],
          [
           "RT @anonymized_account @anonymized_account @anonymized_account Koń by się uśmiał, TVN24 i TVN wolne media? Bardziej perfidnego łgarstwa nie słyszałem.. 🤔",
           1
          ],
          [
           "@anonymized_account Gdzie ja wtedy byłam? ;-)",
           0
          ],
          [
           "@anonymized_account @anonymized_account @anonymized_account Midze sie nudziło i se coś na kolanie napisał i macie sensacje",
           0
          ],
          [
           "@anonymized_account Dzisiaj wrócił do treningów, czyli zdążyli 😉",
           0
          ],
          [
           "@anonymized_account @anonymized_account @anonymized_account @anonymized_account Nie wiem, zerknij na 90minut",
           0
          ],
          [
           "@anonymized_account @anonymized_account Z motłochem nie dyskutuję tylko daje bany. A Pani @anonymized_account gratuluję obrońcy.",
           1
          ],
          [
           "@anonymized_account możesz też zawsze po prostu zapytać kiedy się urodziłam. Albo wpisać hasztag #100latKasiaPawlak ;-)",
           0
          ],
          [
           "@anonymized_account ale z kategoriami moim zdaniem przesadzają.Sponsor roku, serce, impreza ? Bez jaj",
           1
          ],
          [
           "@anonymized_account Prezes się cieszy ze Wisla odpadła bo w razie finału Legia-Wisla znów by musiał finał odwoływać",
           0
          ],
          [
           "Bratowa wysłała mi zdjęcie bratanicy z rozpoczęcia roku, idzie do pierwszej klasy, biedactwo nie wie co ją czeka",
           0
          ],
          [
           "@anonymized_account szybkie pytanie do @anonymized_account Ręka Sadloka była zagraniem umyślnym ?",
           0
          ],
          [
           "@anonymized_account Dzień w którym Abidal sprzedał i kupił A.Vidala 😉",
           0
          ],
          [
           "@anonymized_account Równie dobrze można gola stracić :)",
           1
          ],
          [
           "@anonymized_account Chorwaci przerżną w końcówce dogrywki, wiadomo.",
           1
          ],
          [
           "@anonymized_account Nasze dzieci będą zdegustwani, był taki PiS, taki @anonymized_account , historia populizmu i głupoty w latach 2015-2019, margines",
           1
          ],
          [
           "@anonymized_account O, myślałam, że nikt już nie używa \\\"mnie\\\" tylko \\\"mi\\\".",
           0
          ],
          [
           "@anonymized_account @anonymized_account @anonymized_account Na nowym stadionie West Hamu też to widziałem.",
           0
          ],
          [
           "@anonymized_account @anonymized_account zawodnik w sezonie może grać w barwach dwóch klubów więc jeszcze nic straconego :)",
           0
          ],
          [
           "ciekawe czy faktycznie jest taki zakład bo jeśli tak to nieźle XD",
           0
          ],
          [
           "@anonymized_account Hehe, do gazu, hehe jeszcze jakieś emotikony wrzuć",
           0
          ],
          [
           "Qrwa!! I niech mi nikt nie mówi, że czary to jakiś zabobon!! Chłopaki mają sztywne nogi!",
           1
          ],
          [
           "Od 01.10.2018 każde sprawozdanie finansowe w formie elektronicznej, zgodne ze strukturą jpk",
           0
          ],
          [
           "Na TVP Kraków padła właśnie informacja że rozmowy z potencjalnym kupcem Wisły przełożony z dziś na jutro.",
           0
          ],
          [
           "RT @anonymized_account Na TVP Kraków padła właśnie informacja że rozmowy z potencjalnym kupcem Wisły przełożony z dziś na jutro.",
           0
          ],
          [
           "@anonymized_account NIECH JESZCZE DADZĄ LEKTORA I NA GŁÓWNA POSTAĆ MÓWIĄ NADZIEJA",
           1
          ],
          [
           "RT @anonymized_account @anonymized_account NIECH JESZCZE DADZĄ LEKTORA I NA GŁÓWNA POSTAĆ MÓWIĄ NADZIEJA",
           1
          ],
          [
           "@anonymized_account Nie no ludzie, żeby robić artykuł na temat jednego tweeta ?...",
           1
          ],
          [
           "@anonymized_account Jak powiem, że pierwsze słysze, to będzie kompromitacja czy nie? 😄",
           0
          ],
          [
           "@anonymized_account Usuń konto, wytrzeźwiej buduj od nowa",
           1
          ],
          [
           "@anonymized_account @anonymized_account @anonymized_account Sekta, cha, cha, cha, obudź się z hipnozy, jesteś bolszewikiem",
           1
          ],
          [
           "Nie wstanę kurde nie ma opcji",
           0
          ],
          [
           "@anonymized_account @anonymized_account Spokojnie, u mnie też Kaczarawa na kapitanie + Cvijanović :)",
           0
          ],
          [
           "niech ładny chłopiec z kręconymi włosami do mnie napisze: jutro, zaraz, teraz",
           0
          ],
          [
           "RT @anonymized_account niech ładny chłopiec z kręconymi włosami do mnie napisze: jutro, zaraz, teraz",
           0
          ],
          [
           "@anonymized_account im ktoś gorzej widzi, dłużej musi czekać, choć ten, który widzi lepiej, dłużej poradzi sobie bez okularów. 😨",
           0
          ],
          [
           "@anonymized_account Oj, no to powodzenia! Co tam będziesz musiała robić? 🤭",
           0
          ],
          [
           "@anonymized_account @anonymized_account @anonymized_account @anonymized_account Chyba nie, Marcin mówił coś o '89.",
           0
          ],
          [
           "@anonymized_account Przeczytaj mojego kolejnego twitta to zobaczysz, że nie umknęło i co sądze o poziomie tego meczu.",
           0
          ],
          [
           "@anonymized_account Tylko nie w dupę, to dla niektórych z nich byłaby przyjemność.",
           1
          ],
          [
           "@anonymized_account @anonymized_account Widać chcą wiecej polskich mord gotujacych koninę",
           1
          ],
          [
           "@anonymized_account No to jak się przegrywa cały czas to lepiej przestać grać :)",
           1
          ],
          [
           "@anonymized_account @anonymized_account @anonymized_account Widzę, że sami się znajdują.",
           0
          ],
          [
           "@anonymized_account Napewno mam niezaktualizowanego może dlatego",
           0
          ],
          [
           "@anonymized_account @anonymized_account Smokowski mówił że Wisła ma piłkarzy 3 sortu, a Wieszczycki deprecjonował dobrą prace Kiko",
           0
          ],
          [
           "więc zaczynam oglądać Do wszystkich chłopców, których kochałam bo wszyscy o tym mówią i aż chcę to sprawdzić",
           0
          ],
          [
           "@anonymized_account Ban,ban i jeszcze raz ban! Co za prymitywne dno!",
           1
          ],
          [
           "@anonymized_account @anonymized_account Jasne, bo debile oglądający tvpis płaczą tylko na m jak miłość",
           1
          ],
          [
           "@anonymized_account @anonymized_account @anonymized_account W stop klatkach widać ze jak by to było po stronie drugiej (legi) to karny by był",
           0
          ],
          [
           "Zdrady stanu to Donald Tusk dopuścił się już w 2010 r kiedy dodał Rosjanom śledztwo w sprawie katastrofy smoleńskiej.",
           1
          ],
          [
           "@anonymized_account Na marginesie jestem córką biskupa",
           0
          ],
          [
           "@anonymized_account Przejdzie historii: jak tworzyć kłamstwo w dobie powszechnego dostępu do informacji",
           0
          ],
          [
           "@anonymized_account Od ok 8 lat używam kolejnych modeli HTC i nigdy mnie nie zawiodły.",
           0
          ],
          [
           "@anonymized_account @anonymized_account Ty się oszuście i kłamco od nas odpierdol. My sobie damy radę bez twoich kłamstw",
           1
          ],
          [
           "@anonymized_account @anonymized_account @anonymized_account odważne słowa jak na legioniste! 😂😂😂",
           1
          ],
          [
           "@anonymized_account @anonymized_account Załatwi to jedno głosowanie w sejmie i żadne demonstracje nie będą miały na to wpływu.",
           0
          ],
          [
           "@anonymized_account @anonymized_account @anonymized_account Krzyż celtycki w Irlandii debilu ma kompletnie inne znaczenie niż u neofaszystów.",
           1
          ],
          [
           "@anonymized_account Coś w tym jest,bo ja też😁😁😁. I jeszcze bym dodał Dominisię W. której infantylizm mnie totalnie osłabia.",
           1
          ],
          [
           "@anonymized_account @anonymized_account Gdzie oni znajdują takich dupków",
           1
          ],
          [
           "mój stres zaczął się stresować swoim własnym stresem, które również się stresuje ja pierdole dość",
           0
          ],
          [
           "RT @anonymized_account mój stres zaczął się stresować swoim własnym stresem, które również się stresuje ja pierdole dość",
           0
          ],
          [
           "@anonymized_account @anonymized_account @anonymized_account @anonymized_account @anonymized_account dojdzie Brlek, Stilić wróci do formy, obcokrajowcy się zaaklimatyzują i bedzie dobrze💪",
           0
          ],
          [
           "@anonymized_account @anonymized_account @anonymized_account Brawo grzechu za Twój powrót do żywych\\n W Rosji pokaż swoją moc",
           0
          ],
          [
           "@anonymized_account @anonymized_account @anonymized_account @anonymized_account Wonder!! Chyba cię....😁😁😁😁😁.No dobra. Na jaki?😁😁😁",
           0
          ],
          [
           "@anonymized_account Ja mam uczulenie na dobrą zmianę, ale to dłuższa historiac",
           0
          ],
          [
           "@anonymized_account Różnicy nie ma, bo pisali wtedy, że nie można zsyłać zawodników do rezerw ;P",
           0
          ],
          [
           "@anonymized_account Żal ci biedaku??? Gdyby nie Kaczyński to by je twoi przyjaciele z PO rozkradl",
           1
          ],
          [
           "RT @anonymized_account @anonymized_account Żal ci biedaku??? Gdyby nie Kaczyński to by je twoi przyjaciele z PO rozkradl",
           1
          ],
          [
           "Dobry dzień na przypomnienie sobie genezy gwiazdek na fladze #UE #deklaracjaRzymska",
           0
          ],
          [
           "Sekta kurwa, jakaś niepojęta radość, każde konto pisdzielskie tylko o jednym",
           1
          ],
          [
           "@anonymized_account @anonymized_account Nie wierzę, bez zaświadczenia od proboszcza?",
           0
          ],
          [
           "@anonymized_account I chyba wtedy byś niezaprzeczyla?",
           0
          ],
          [
           "@anonymized_account Tak naprawdę czy będziemy w spadkowej czy mistrzowskiej to i tak czekają nas sparingi.",
           0
          ],
          [
           "@anonymized_account Jebać, jebać, nic się nie bać.",
           0
          ],
          [
           "@anonymized_account Jakiej pracy, ty już pajacu nie wiesz na czym się lansować. Sejm nie pracuje.",
           1
          ],
          [
           "Kilogramy rozmnażają się przez pączkowanie 😣😖\\n#TłustyCzwartek",
           0
          ],
          [
           "@anonymized_account @anonymized_account Nie działają i lepiej działać szybko bo klienci nie maja dostępu do środków na kontach",
           0
          ],
          [
           "@anonymized_account @anonymized_account @anonymized_account jutro walczycie ? Normalnie rycerze ! A gdzie byliście wcześniej ? A zapomniałem że nie o L chodziło",
           1
          ],
          [
           "@anonymized_account Ale to głupie, rdzennie głupie, bardziej głupie już być nie może",
           1
          ],
          [
           "@anonymized_account Szczególnie Vestenicky.Podczas wypożyczenia nic nie pokazał a go wykupili za 500 tys euro 😂👏",
           0
          ],
          [
           "@anonymized_account Już się boję. Postraszy mnie Pan kolegami narodowcami?",
           1
          ],
          [
           "@anonymized_account Co nie było blisko? Bo nie rozumiem.",
           0
          ],
          [
           "@anonymized_account @anonymized_account A od kiedy komentatorzy na Sky to wyrocznia?",
           0
          ],
          [
           "@anonymized_account @anonymized_account Nazwisko tego babska😁😁😁😁. Bo Wczoraj był na MO😁😁😀",
           1
          ],
          [
           "@anonymized_account Zbiera się do kontrataku, dla swojego pryncypala pójdzie w bój, patrityczna dusza,  co nie @anonymized_account ?",
           1
          ],
          [
           "@anonymized_account a w kolejnych fajnie jakby grał na lewej za Sadloka @anonymized_account",
           0
          ],
          [
           "@anonymized_account byłem w pracy ale zaraz odpalam meczyk na yt.Dzięki za walke !!!!:)",
           0
          ],
          [
           "@anonymized_account @anonymized_account jakie 0 motywacji ? Jest chyba różnica mieć medal albo go niemieć",
           0
          ],
          [
           "@anonymized_account Niby nie macie czy niby nie mit? 😂😂",
           0
          ],
          [
           "@anonymized_account Ja bym był ostrożny😁😁😁A jak ma na imię?",
           0
          ],
          [
           "@anonymized_account @anonymized_account @anonymized_account Tak to jest jak ktoś nie wie do którego lekarza iść najpierw.",
           1
          ],
          [
           "@anonymized_account @anonymized_account No nie dziwie się w sumie. Dobrze, że tylko raz dzwonił",
           0
          ],
          [
           "@anonymized_account @anonymized_account Wasz świat? To się w nim zamknijcie i nie wystawiajcie nosa.",
           1
          ],
          [
           "@anonymized_account @anonymized_account Przyjaciół to niech on sobie szuka za swoje prywatne pieniądze. I niech robi z siebie idiotę na własny rachunek.",
           1
          ],
          [
           "imagine sie komus podobac??? ze ktos sie stara o TWOJA uwage??? can’t relate",
           0
          ],
          [
           "RT @anonymized_account imagine sie komus podobac??? ze ktos sie stara o TWOJA uwage??? can’t relate",
           0
          ],
          [
           "@anonymized_account @anonymized_account @anonymized_account a Portugalia jak zagrała ?",
           0
          ],
          [
           "Pierwsze zdanie: \\\"Paczka papierosów kosztuje 4 miliardy marek\\\".\\n#JajoWęża teraz na @anonymized_account",
           0
          ],
          [
           "@anonymized_account @anonymized_account No to tym bardziej :)",
           0
          ],
          [
           "@anonymized_account Ja przynajmniej mam profilowe i nie chowam się za awatarem. Ale bohaterów MW na to nie stać i w sumie nic w tym dziwnego.",
           1
          ],
          [
           "@anonymized_account Czego się spodziewać po członku żydowskiego amerykańskiego lobby. Lata na kolanach przed żydami zrobiło swoje.",
           1
          ],
          [
           "RT @anonymized_account @anonymized_account Czego się spodziewać po członku żydowskiego amerykańskiego lobby. Lata na kolanach przed żydami zrobiło swoj…",
           1
          ],
          [
           "@anonymized_account Co ty człowieku pijesz z rana?",
           0
          ],
          [
           "@anonymized_account @anonymized_account pewnie narządy też wkrótce sprzeda :D",
           0
          ],
          [
           "@anonymized_account w zeszłym sezonie to samo pisałeś ?",
           0
          ],
          [
           "Picie to przyszłość, piękna i nieznana, szukajcie zapomnienia, próbujcie różnych trunków, łączcie środki psychoaktywne, powodzenia",
           0
          ],
          [
           "@anonymized_account Ale ty jesteś żenujący. Dno metr mułu.",
           1
          ],
          [
           "@anonymized_account spoko, nigdy nie daje unfollow aktywnym ludziom, tylko tym, którzy nie piszą nic od miesięcy albo dali mi unfollow",
           0
          ],
          [
           "\\\"- Co to jest tajmlajn na fejsie?\\n- Zmarszczki\\\".",
           0
          ],
          [
           "@anonymized_account może trzeba chłopaków na crossfit zabierać ?:)",
           0
          ],
          [
           "@anonymized_account znacznie bliżej jest mi muzułmanin  czy indus, niż katolicka, łysa swołocz ze wschodu europy, do tego rasistowska",
           1
          ],
          [
           "Dzisiaj o 18.00 Strefa Kibica w Radiu Akadera. Zapraszamy.",
           0
          ],
          [
           "@anonymized_account Nie powinno być źle o ile się utrzymamy :P",
           0
          ],
          [
           "@anonymized_account Spokojnie trzeba ta porażkę wziąść na klatę mecz się tak ułożył nie inaczej napewno gorsi dużo my niebyli.",
           0
          ],
          [
           "@anonymized_account Ale się cieszą. Wreszcie koniec i będzie można wypić te.zapasy z plecaka.",
           0
          ],
          [
           "@anonymized_account @anonymized_account Ofertę przedłużenis kontraktu ponoć dostał od Wisły, ale jej nie zaakceptował.",
           0
          ],
          [
           "Dziś o godz. 20:00 Prezydent RP wygłosi orędzie.",
           0
          ],
          [
           "RT @anonymized_account Dziś o godz. 20:00 Prezydent RP wygłosi orędzie.",
           0
          ],
          [
           "@anonymized_account myślałem że się przychodzi na stadion dla drużyny a nie na poszczególnych piłkarzy",
           0
          ],
          [
           "@anonymized_account kibicom chodzi raczej o postawe dziennikarzy a nie klubu.",
           0
          ],
          [
           "@anonymized_account @anonymized_account Nie trzeba Algierczyków, wystarczy kilku polskich katechetów.",
           0
          ],
          [
           "@anonymized_account Barcelona z Messim (ta obecna) by taki mecz wygrała 1:0, albo jakiś Suarez by coś wcisnął :P",
           0
          ],
          [
           "@anonymized_account @anonymized_account TW Wolfgang, TW Faraon i TW Rycerz,TW Balbina, TW Michał \\nKto mieczem wojuje, ten od pochwy ginie",
           0
          ],
          [
           "@anonymized_account @anonymized_account Zgadza się ale przecież nas niestac żeby komin płacowy zacząć od.carlitosa",
           0
          ],
          [
           "@anonymized_account @anonymized_account @anonymized_account Low kick, kolano łokieć, blacha na czoło i stara leży",
           1
          ],
          [
           "@anonymized_account Niestety obrazki będą też zielone, czarne i brunatne.",
           0
          ],
          [
           "Ktoś założył fejkowe konto i ogląda WSZYSTKIE moje story",
           0
          ],
          [
           "@anonymized_account @anonymized_account Życie, zdarza się. Jednak od takiego rzutu wolnego do gola droga dość daleka.",
           0
          ],
          [
           "@anonymized_account a wydanie 500 tys euro gdy się nie ma pieniędzy nie jest strzałem w kolano ?",
           0
          ],
          [
           "@anonymized_account Wio endekdu, ścierwa, zdrajcy, szubienica",
           1
          ],
          [
           "@anonymized_account nie dziwie się, to było dość cwane :)",
           0
          ],
          [
           "@anonymized_account Raczey! Jutro będzie jej odczytywane przez cały dzień ;-)",
           0
          ],
          [
           "@anonymized_account Kto będzie pił te mleko, gdzie będą jeździły tiry, meble, okna ty maly kogucie",
           0
          ],
          [
           "@anonymized_account @anonymized_account @anonymized_account @anonymized_account Nie myli się tylko ten, co nic nie robi.",
           0
          ],
          [
           "Mama będzie mi obcinać włosy boje się",
           0
          ],
          [
           "@anonymized_account @anonymized_account @anonymized_account @anonymized_account No to muszą ci nieźle płacić za wierszówki.",
           0
          ],
          [
           "@anonymized_account czy masz info jakie obecnie Ondrasek ma zarobki w Wiśle?",
           0
          ],
          [
           "@anonymized_account Jaka kwota wykupienia go po roku??",
           0
          ],
          [
           "@anonymized_account @anonymized_account @anonymized_account Dla kogo pracował? Nie przy śniadaniu bo się udławić można z wrażenia. Poproszę 5 przykładów zatem.",
           0
          ],
          [
           "@anonymized_account @anonymized_account @anonymized_account Widzę, że dalej nie rozumiesz. No nic idę oglądać LM. Pozdro.",
           1
          ],
          [
           "@anonymized_account @anonymized_account jeśli masz TV włączony od 8:00 do 1:00, a reklama pojawia się 3 x na godzinę, po 2 mies. jesteś na granicy obłędu.",
           0
          ],
          [
           "@anonymized_account @anonymized_account A co o włoskich faszystach i węgierskich nacjonalistach?",
           1
          ],
          [
           "@anonymized_account @anonymized_account Dojenie kasy przez rząd\\nKompromitacja Morawieckiego w Niemczech\\nKaczyński twórca państwa Polskiego w 2016 roku",
           1
          ],
          [
           "@anonymized_account Jeszcze w nastepnej kolejce pewnie jakis piątek",
           0
          ],
          [
           "@anonymized_account @anonymized_account i oczywiście było pytanie czy nie boi się o przyszłość Wisły 😂 przechodzicie samych siebie",
           0
          ],
          [
           "@anonymized_account no ja właśnie to samoXD znaczy wiem ze Emre wbija często, bo jego żona jest polką ale no",
           0
          ],
          [
           "@anonymized_account Nic nie mogą. Ale ich brak może spowodować, że strajkujący szybciej się z Sejmu wyniosą.",
           0
          ],
          [
           "@anonymized_account @anonymized_account @anonymized_account Przecież jak go zamkną to o czym ty będziesz pisał ? Twoje życie straci sens...",
           0
          ],
          [
           "@anonymized_account @anonymized_account To zaraz porobie screeny od momentu od którego jest zablokowane :)",
           0
          ],
          [
           "@anonymized_account Ktoś przestał słodzić, ktoś kto dużo słodził",
           0
          ],
          [
           "@anonymized_account @anonymized_account @anonymized_account No to po co się zgodził na klauzule dopiero po zakończeniu przyszłego sezonu, a nie od razu ?",
           1
          ],
          [
           "@anonymized_account Jest to prawda. Ale MSZ powinien. On pewnie myślał, że jest w Pisowskiej Polsce i wszystkoi wolno.😀😀😀",
           1
          ],
          [
           "@anonymized_account delikatnie nie po drodze :D",
           0
          ],
          [
           "@anonymized_account @anonymized_account No to 0:0 murowane (bo mam też ludzi z Cracovii)",
           0
          ],
          [
           "@anonymized_account Może ogłuszyły go te korki od szampanów, które strzelały po podpisaniu kontraktu Sadloka z Jagiellonią ?",
           1
          ],
          [
           "Panie i panowie, totalna porażka @anonymized_account w miastach. \\nT O T A L N A \\nTo bardzo ważny znak.",
           1
          ],
          [
           "RT @anonymized_account Panie i panowie, totalna porażka @anonymized_account w miastach. \\nT O T A L N A \\nTo bardzo ważny znak.",
           1
          ],
          [
           "@anonymized_account @anonymized_account @anonymized_account @anonymized_account ręce opadaj że takich rzeczy ludzie związani z futsalem nie wiedzą.",
           1
          ],
          [
           "@anonymized_account @anonymized_account Przeczytałem wszystko. Fantastycznego ma Pani Dziadka!",
           0
          ],
          [
           "@anonymized_account Na wszystko masz odpowiedź, żyłeś w tych czasach?",
           1
          ],
          [
           "@anonymized_account @anonymized_account Mr. Czarnecki. To nie hipokryzja tylko zwykła ludzka przyzwoitość. Widać że niektórym obce takie  odruchy.",
           1
          ],
          [
           "Diego Maradona - Robbie Williams 2:1.",
           0
          ],
          [
           "@anonymized_account @anonymized_account @anonymized_account Ja nie byłbym taki pewny",
           0
          ],
          [
           "@anonymized_account patrząc kogo biorą to mam wątpliwości czy nie chcą do 1 ligi (nie licząc Marciniaka)",
           0
          ],
          [
           "@anonymized_account To było dawno, jeszcze nie znali fotoszopa",
           0
          ],
          [
           "@anonymized_account @anonymized_account Maly murzyn, silny i zdrowy",
           1
          ],
          [
           ".@anonymized_account pojawił się na TT. To konto to nie fejk. \\nDołączajcie :) 💪",
           0
          ],
          [
           "RT @anonymized_account .@anonymized_account pojawił się na TT. To konto to nie fejk. \\nDołączajcie :) 💪",
           0
          ],
          [
           "W programie Igrzyska wolności w Łodzi śpiewanie pieśni rewolucyjnych,i piosenek z serialu,4 pancerni i pies.",
           0
          ],
          [
           "@anonymized_account no i w końcu widzę uśmiech :)",
           0
          ],
          [
           "@anonymized_account Jeszcze was zjemy i wysramy",
           1
          ],
          [
           "@anonymized_account lepszy argument to że ktoś go nie chce bo go nie lubi",
           0
          ],
          [
           "@anonymized_account @anonymized_account Tylko że ten prostak sie nabijał, szydził tak jak ze śmierci Piotra S.",
           0
          ],
          [
           "@anonymized_account Qwa! Wypiłem kawę przed chwilą.Bardzo dobra kawę.Nie chcę jej zwracać. A swoją drogą to świetny środek na wywołanie wymiotów.",
           0
          ],
          [
           "Wchodzę w powiadomienia a tu nic, już na 4 tt odpisałem, zaraz wyjebią bana",
           0
          ],
          [
           "@anonymized_account nataliethere_ oddam szybciutko z powiadomień",
           0
          ],
          [
           "@anonymized_account Tak tak jeszcze ktoś w to uwierzy",
           0
          ],
          [
           "@anonymized_account @anonymized_account @anonymized_account Tez musze trzymać poziomo tel czytając ten artykuł",
           0
          ],
          [
           "@anonymized_account @anonymized_account @anonymized_account Czasy kiedy zacząłem interesować się piłką i Wisłą 😍",
           0
          ],
          [
           "@anonymized_account Wy narobiliscie 30miliardow dlugow za waszych rzadow #oddajciekase",
           1
          ],
          [
           "RT @anonymized_account @anonymized_account Wy narobiliscie 30miliardow dlugow za waszych rzadow #oddajciekase",
           1
          ],
          [
           "@anonymized_account Czy @anonymized_account gotów na taką kolej rzeczy?",
           0
          ],
          [
           "@anonymized_account Tak jak pisdzielstwo ośmiesza policjantów , to już, nikt, nigdy bardziej nie będzie",
           1
          ],
          [
           "@anonymized_account A kiedy przestanie wydawać mln na swoich ochroniarzy, tylko zacznie leczyć u psychiatry swoją manię prześladowczą?",
           1
          ],
          [
           "@anonymized_account Pierwszy priorytet zadowolić Jarkacza, drugi priorytet ssać kasę wszystkimi otworami,  mają rozdwojenie jaźni",
           1
          ],
          [
           "@anonymized_account Huj z wami dziennikarzami. Piłka nożna dla kibiców a nie pseudo dziennikarzy.",
           1
          ],
          [
           "@anonymized_account E tam! To z miłości do Łodzi😁. I przyjdzie do PiS😁😁",
           0
          ],
          [
           "@anonymized_account A ja, ze coś znowu zepsułam xd",
           0
          ],
          [
           "Czemu jak zawsze się o kogoś martwię to ja dostaje po dupie, i mean nie wiem",
           0
          ],
          [
           "@anonymized_account kiedy wyjeżdżasz? ja w piątek, co prawda już drugi rok ale moja rodzina nadal reaguje tak samo",
           0
          ],
          [
           "@anonymized_account @anonymized_account @anonymized_account Ograniczyłbym to do \\\"Byle nie Ufa\\\" :)",
           0
          ],
          [
           "@anonymized_account @anonymized_account Święta racja, ale zapytaj Jurgiela o notatki, on wie co spierdolił. Będzie łatwiej.",
           0
          ],
          [
           "@anonymized_account @anonymized_account Szczególnie wielka strata za Smoleńsk",
           0
          ],
          [
           "@anonymized_account @anonymized_account @anonymized_account @anonymized_account daj znać @anonymized_account o  zdjecie blokady",
           0
          ],
          [
           "@anonymized_account @anonymized_account Myślę, że po info o konferencji wielu osobom to przychodzi do głowy.",
           0
          ],
          [
           "@anonymized_account Koniecznie! Zapraszamy na spacer z kawką 😃",
           0
          ],
          [
           "@anonymized_account błąd logiczny, te pieniądze kiedyś były wasze, teraz już sa nasze i nic wam do tego towarzyszu",
           0
          ],
          [
           "RT @anonymized_account @anonymized_account błąd logiczny, te pieniądze kiedyś były wasze, teraz już sa nasze i nic wam do tego towarzyszu",
           0
          ],
          [
           "@anonymized_account Zależy jak na to spojrzeć. Z jednej strony akredytacja, z drugiej wyjazd za swoje $$$ 😉",
           0
          ],
          [
           "@anonymized_account @anonymized_account albo wygrywali 1:0 z Barceloną",
           0
          ],
          [
           "@anonymized_account @anonymized_account tylko nie Załuska.Nie potrzeba nam takich piłkarzy bez ambicji.",
           1
          ],
          [
           "@anonymized_account @anonymized_account Nic specjalnego. Można się domyślać, że pewnie pójdzie na wypożyczenie.",
           0
          ],
          [
           "Z Zagłębia Hładun i Czerwiński w składzie (porażka 1:2), a z Legii Carlitos na kapitanie (zmiana w przerwie). Co za seria 😂",
           0
          ],
          [
           "@anonymized_account co chwile o nim piszecie i gadacie jaka to porażka jak nie zostanie.A nie pamiętacie jak jeszcze niedawno otrzymanie licencji1/2",
           0
          ],
          [
           "@anonymized_account @anonymized_account Przecież TS dzierżawi ta ziemię umowa na 99 lat zgadza się czy nie?",
           0
          ],
          [
           "@anonymized_account Pyta się kiedy beda nowe okulary, bo juz chce wychodzić",
           0
          ],
          [
           "@anonymized_account Probierz szuka młodych Polaków pasuje jak ulał😉",
           0
          ],
          [
           "@anonymized_account Może pasuje do klucza francuskiego?🔧☺",
           0
          ],
          [
           "Pensja, kasa, dojenie, @anonymized_account ,ssanie kasy, ruchanie w meskie dupy, zawsze za pis, trudny teren, ciezkie warunki",
           1
          ],
          [
           "@anonymized_account Polska to nie napis na dropsie, uuuu, niedobrze, uuuuuuu",
           1
          ],
          [
           "@anonymized_account raczej ty się powinieneś jebnąć ale nie wiem czy to pomoże",
           1
          ],
          [
           "@anonymized_account Jak narazie to sobie możecie kupę zrobić. Albo hurtowo dać dupy pedofilów w sutannach, których publicznie bronicie.",
           1
          ],
          [
           "@anonymized_account Najlepiej w Polsce żeby legia miała pomoc :-)",
           0
          ],
          [
           "Ale mam chujowy humor przez to, że nie zdałam i jestem na siebie zła",
           1
          ],
          [
           "Szukam osób, które mają kontakt z rodziną gen. Bułak-Bałachowicza. Sprawa  prywatna.",
           0
          ],
          [
           "@anonymized_account Brawo skwk za komunikat pomimo braku zakazu czekałem na ta wiadomość co robić, bo na mecz bez dopingu niemyslalem iść",
           0
          ],
          [
           "@anonymized_account @anonymized_account A ty wieś kretynie CONTI jest Acta2 i czego dotyczy? Najpierw przeczytaj a potem się wypowiadaj.",
           1
          ],
          [
           "@anonymized_account Trąba ? Nie no ostro pojechałaś :D",
           0
          ],
          [
           "Beata #Mazurek w Sejmie na pytanie co myśli o pomyśle Kaczyńskiego o obniżkach wynagrodzeń: \\\"Ja nic nie myślę\\\". To słychać.",
           1
          ],
          [
           "RT @anonymized_account Beata #Mazurek w Sejmie na pytanie co myśli o pomyśle Kaczyńskiego o obniżkach wynagrodzeń: \\\"Ja nic nie myślę\\\". To słyc…",
           1
          ],
          [
           "Motocykle opuściły gniazda i kierują się na północ. Żonkile na przedmieściach to już tylko formalność. Wiosna! :-)",
           0
          ],
          [
           "@anonymized_account @anonymized_account 🕵 Jest tak zakonspirowany, że go nie widać. Fachowiec. \\n(Górny, prawy róg)",
           0
          ],
          [
           "@anonymized_account Kto mieczem wojuje od pochwy ginie @anonymized_account",
           1
          ],
          [
           "@anonymized_account W jednej z powtórek było to dobrze widać :))",
           0
          ],
          [
           "@anonymized_account Kochana nie ma po co bo później wszyscy się będą po to kleić 😂😂",
           0
          ],
          [
           "@anonymized_account @anonymized_account chyba nie miałeś się czego przyczepić, nie przesadzajmy :)",
           0
          ],
          [
           "@anonymized_account @anonymized_account Ale dlaczego głupi @anonymized_account  tłumaczy to jeszcze głupszemu @anonymized_account ?",
           1
          ],
          [
           "@anonymized_account Dzwoniłam się dowiadywać kiedy się można wprowadzać 😂nie wiedziałam ze takie problemy mogą być xd",
           0
          ],
          [
           "@anonymized_account Już pod koniec jazdy wymusilam na rondzie.... nie wiem jak to się stało, mój mózg miał zaćmienie czy coś a",
           0
          ],
          [
           "Nowe chodnikowe powiedzonko brzmi:\\n\\nPierdolisz jak Morawiecki, realy.\\n\\n@anonymized_account @anonymized_account \\n\\nHybryda głupoty.",
           1
          ],
          [
           "RT @anonymized_account Nowe chodnikowe powiedzonko brzmi:\\n\\nPierdolisz jak Morawiecki, realy.\\n\\n@anonymized_account @anonymized_account \\n\\nHybryda głupoty.",
           1
          ],
          [
           "Terminator X To The Edge Of Panic wykonawcy Public Enemy\\nhttps://t.co/Nqf1yFOyKg",
           0
          ],
          [
           "@anonymized_account Zaspana jestem jeszcze sorki XD",
           0
          ],
          [
           "@anonymized_account @anonymized_account No ja nie kojarze xD",
           0
          ],
          [
           "@anonymized_account Pies to czasem nawet pożera książki...",
           0
          ],
          [
           "Kiedy Christina wychodzi za mąż",
           0
          ],
          [
           "@anonymized_account @anonymized_account Zapewne ci, co grali przez większość rundy w CLJ i nie ponieśli ani jednej porażki.",
           0
          ],
          [
           "@anonymized_account @anonymized_account Jak będzie ta pioseneczka to przychodzę\\n\\nhttps://t.co/B6ak11mI4d",
           0
          ],
          [
           "@anonymized_account zamieszczanie takich zdjęć podczas gdy ja jestem na sucharach powinno być zabronione :)",
           0
          ],
          [
           "@anonymized_account @anonymized_account @anonymized_account A co trzeba zrobić w kwestii finansowania kampanii z funduszy UE przez Ziobrę?",
           0
          ],
          [
           "@anonymized_account W środku łamanie w stylu 2obiegu.",
           0
          ],
          [
           "jak ja się źle czulem jak byłem dzieckiem w  kościele to głow mala, szopka do kwadratu, nie mogłem tego wytrzymać",
           1
          ],
          [
           "@anonymized_account @anonymized_account @anonymized_account @anonymized_account jak wróce z pracy to też podejme wyzwanie ale tym razem bedzie skromnie :)",
           0
          ],
          [
           "@anonymized_account @anonymized_account @anonymized_account Jak pić to z klasą ;)",
           0
          ],
          [
           "@anonymized_account @anonymized_account Ty pajacu, zmień sobie herb na pusty łeb.",
           1
          ],
          [
           "@anonymized_account W rosji sa jakieś zawody",
           0
          ],
          [
           "@anonymized_account @anonymized_account Myślałem że to Twój ulubieniec 😂",
           0
          ],
          [
           "@anonymized_account @anonymized_account pewnie ranking Fifa bedzie decydowal",
           0
          ],
          [
           "@anonymized_account Łukaszewicz, co Wy tam palicie?",
           1
          ],
          [
           "@anonymized_account @anonymized_account @anonymized_account Leszku mój kochany, masz mózg wyprany",
           1
          ],
          [
           "@anonymized_account a ja współczuje zaślepienia.Wolę nie mieć Wolskiego niż robić kolejne długi @anonymized_account",
           1
          ],
          [
           "@anonymized_account @anonymized_account @anonymized_account od paru lat słysze o sponsorze więc tym bardziej szacunek że przez pare lat się nieujawnił...",
           0
          ],
          [
           "@anonymized_account Skoro Carrillo nie chce Sobola to tym bardziej nie będzie chciał Głowy. Chyba, że trener rzeczywiście odchodzi.",
           0
          ],
          [
           "@anonymized_account @anonymized_account @anonymized_account Zawsze bedą afery bo zawsze będa tacy l którzy kradną  i tacy u wladzy których to kręci",
           1
          ],
          [
           "@anonymized_account kot też się załapał na fotke, a raczej jego dupa :)",
           0
          ],
          [
           "@anonymized_account Szczerze? Trochę tak to wygląda, a i tak prędzej czy później ten bilans wychodzi na równo.",
           0
          ],
          [
           "@anonymized_account zaraz będą pisać że Wisła szkoli kiboli żeby potrafili maczetą wymachiwać :)",
           1
          ],
          [
           "*stoi przed nimi król gargulców*\\nbetty: to pewnie ethel\\n\\nXDDDDDDDDDDDDDD\\n#Riverdale #RiverdalePL",
           0
          ],
          [
           "RT @anonymized_account *stoi przed nimi król gargulców*\\nbetty: to pewnie ethel\\n\\nXDDDDDDDDDDDDDD\\n#Riverdale #RiverdalePL",
           0
          ],
          [
           "@anonymized_account No, to ja we własnej osobie",
           0
          ],
          [
           "@anonymized_account Słabo trzymałeś kciuki, bo podarował bramke Cracovii :)",
           0
          ],
          [
           "@anonymized_account Odstawiając narodowość na bok to ten skład jest przecież słabiutki.",
           1
          ],
          [
           "@anonymized_account @anonymized_account Piwnica bez okien, ty to masz dobrze",
           0
          ],
          [
           "Czuję się chora więc siedzę w domu w czapce",
           0
          ],
          [
           "@anonymized_account Juz myslałem że coś gorszego😁😁",
           0
          ],
          [
           "@anonymized_account @anonymized_account A gdzie Inferno napisał, że Wisła stawia na Polaków ?",
           0
          ],
          [
           "@anonymized_account akurat Tobie bliżej do Karolaka bo w większości Cię wycięli 😂 @anonymized_account @anonymized_account @anonymized_account @anonymized_account",
           1
          ],
          [
           "@anonymized_account Omg właśnie o nich myślałam",
           0
          ],
          [
           "@anonymized_account Tak na pewno nie będzie. Drużyna leci w środę.",
           0
          ],
          [
           "Cudzysłów, przecinek nie jestem ruskim trollem",
           0
          ],
          [
           "Biorąc pod uwagę, jakie dotąd mieliśmy losowania w Lidze Europy, to na ten finał w Baku w 2019 roku nie jesteśmy bez szans. 😁",
           0
          ],
          [
           "@anonymized_account @anonymized_account Fajnie, teraz zamiast przemowy muzyczka żeby nie było słychać odzewu publiki.",
           0
          ],
          [
           "@anonymized_account @anonymized_account Białystok, ulica Wierzbowa. Jak oni to zrobili, to jest zagadka.",
           0
          ],
          [
           "@anonymized_account Straszny gangster jak po wolności chodzi",
           0
          ],
          [
           "@anonymized_account To się nazywa uzależnienie xD",
           1
          ],
          [
           "@anonymized_account Info z ostatniej chwili barwy pogoni skrojone przez bandytów Z Krakowa.  Pomimo zakazu Wisła rządzi",
           1
          ],
          [
           "@anonymized_account @anonymized_account Pewnie tak bo Buchalik kontuzjowany.",
           0
          ],
          [
           "@anonymized_account to miało jakiś ciąg dalszy? 😉",
           0
          ],
          [
           "vans do chuja przestań robić choć na chwilę zajebiste kolekcje bo w moim portfelu pieniądzen't",
           0
          ],
          [
           "RT @anonymized_account vans do chuja przestań robić choć na chwilę zajebiste kolekcje bo w moim portfelu pieniądzen't",
           0
          ],
          [
           "@anonymized_account @anonymized_account @anonymized_account @anonymized_account 12 mld nie mam zamiaru dyskutowa możejki i skoki",
           0
          ],
          [
           "@anonymized_account @anonymized_account Alves był bardzo w stylu Guardioli 😛",
           0
          ],
          [
           "@anonymized_account Co ty żresz, że ci tak pierdolnęło?",
           1
          ],
          [
           "@anonymized_account Bo w \\\"10\\\" już grają przez Boatenga ;)",
           0
          ],
          [
           "@anonymized_account @anonymized_account Trudno być pewnym, gdy stoperzy mogą zagrać tylko lagę do przodu, bo środka nie mamy.",
           1
          ],
          [
           "@anonymized_account @anonymized_account @anonymized_account No właśnie, nie było i dlatego patologia została stosownie potraktowana.",
           1
          ],
          [
           "@anonymized_account skoro jest dno dna to może skupmy się na tych od których coś wymagamy",
           1
          ],
          [
           "@anonymized_account Widocznie to zbyt trudna miłość na Walentynki 😁",
           0
          ],
          [
           "@anonymized_account Sarapata była w solarium ?",
           0
          ],
          [
           "@anonymized_account Woda chyba zimna bo nikogo w wodzie ;-)",
           0
          ],
          [
           "@anonymized_account ej, dobra, weźmie ten chrzest czy nie? xd",
           0
          ],
          [
           "@anonymized_account @anonymized_account Lub bezpośredni awans, bo nie wiadomo co ze Stomilem, a przede wszystkim Bytovią :)",
           0
          ],
          [
           "@anonymized_account @anonymized_account byłam przy tym, więc zapewniam 😉",
           0
          ],
          [
           "@anonymized_account @anonymized_account @anonymized_account Tylko ty masz problem z rzecznikiem, więc zastanów się w kim tak naprawdę jest problem? 🤔",
           1
          ],
          [
           "@anonymized_account Piątek  też powinien być wolny, ina 100%",
           0
          ],
          [
           "Wassermannówna kłamie, mówiąc, że „przyszła do polityki”. Ona przyjechała na trumnie ojca.",
           1
          ],
          [
           "RT @anonymized_account Wassermannówna kłamie, mówiąc, że „przyszła do polityki”. Ona przyjechała na trumnie ojca.",
           1
          ],
          [
           "@anonymized_account Już dwa lata temu powinni wygrac Euro.",
           1
          ],
          [
           "@anonymized_account Kibice innych drużyn doceniają i trochę zazdroszczą :)",
           0
          ],
          [
           "@anonymized_account @anonymized_account na 100% jest zmiana Śląsk - Jaga i chyba została już potwierdzona.",
           0
          ],
          [
           "@anonymized_account W tym czasie był z rodzinką na wakacjach w Gdańsku Brzeźnie to musiał zdalnie podtrzymywać związek",
           0
          ],
          [
           "jak Patryk Jaki wygra wybory w Warszawie oczyści stolicę z byłych UBECKICH funkcjonariuszy ! #woronicza17",
           1
          ],
          [
           "RT @anonymized_account jak Patryk Jaki wygra wybory w Warszawie oczyści stolicę z byłych UBECKICH funkcjonariuszy ! #woronicza17",
           1
          ],
          [
           "Szkoda, że przez wymysły Mendesa taki Ruben Neves się marnuje w Wolverhampton.",
           1
          ],
          [
           "@anonymized_account @anonymized_account Nie wiem, aczkolwiek jego tata mówił, że widziałby Tomasa w Jagiellonii. 😜",
           0
          ],
          [
           "Ja i moje psiapsi gramy w te gry na snapie i nie mogę przestać się śmiać z naszych min XD",
           0
          ],
          [
           "@anonymized_account Kolar niestety ten sam poziom. Chyba trzeba będzie liczyć na skuteczność Boguskiego i Małeckiego...",
           1
          ],
          [
           "Rząd zaostrzy kary za znęcanie się nad zwierzętami. Od 3-5 lat więzienia; obowiązkowa nawiązka do 100 tys zł. Więcej jutro w @anonymized_account",
           0
          ],
          [
           "RT @anonymized_account Rząd zaostrzy kary za znęcanie się nad zwierzętami. Od 3-5 lat więzienia; obowiązkowa nawiązka do 100 tys zł. Więcej jutro w @anonymized_account",
           0
          ],
          [
           "@anonymized_account @anonymized_account @anonymized_account czuje że Brlek prędzej czy później odpali",
           0
          ],
          [
           "@anonymized_account @anonymized_account To, że figurowal jako zawodnik Man City nie znaczy, że będzie potrafił grać.",
           0
          ],
          [
           "@anonymized_account @anonymized_account Oczywiście, że ma rację. Chodzi tylko o to, że to jest drużyna o klasę lub dwie lepsza.",
           0
          ],
          [
           "@anonymized_account @anonymized_account Nie miał prawa stać za linią, tak prawdę mówiąc 😄 Ale w kamerach to bardzo ładnie wyglądało.",
           0
          ],
          [
           "@anonymized_account @anonymized_account @anonymized_account Ty to robisz przede wszystkim, co widać po pierwszym tweecie.",
           0
          ],
          [
           "Ostatnio czuje się tak samotna i smutna ze aż sama się dziwie",
           0
          ],
          [
           "@anonymized_account Przecież to legionista to komu ma życzyć mistrza.Nie wiedziałeś ?",
           1
          ],
          [
           "@anonymized_account @anonymized_account @anonymized_account dobrze by mu to zrobiło.Za słaby na Wisłe.",
           0
          ],
          [
           "@anonymized_account Hehehehehe. Róża nawet niezła była.I co z niej wyrosło!😁😁😁",
           0
          ],
          [
           "@anonymized_account jedni wynajmują agencje do komentarzy a inni dziennikarzy",
           0
          ],
          [
           "RT @anonymized_account @anonymized_account jedni wynajmują agencje do komentarzy a inni dziennikarzy",
           0
          ],
          [
           "@anonymized_account pewnie jest mniej błędów bo i liczb jest mniej bo zrezygnowali ze statystyk zawodników sezon po sezonie ;)",
           0
          ],
          [
           "@anonymized_account Krzyż przeciw prezydenturze, krzyż obłędu",
           1
          ],
          [
           "@anonymized_account @anonymized_account Sorry ale dzisiaj nie ma opozycji. Jest grupa cwaniaków chcących odzyskać stołki.",
           0
          ],
          [
           "na kijowe życie najlepsza wódeczka",
           0
          ],
          [
           "Co na to Herod śmierdziuszka @anonymized_account",
           0
          ],
          [
           "@anonymized_account Brakuje mu dystansu, za bardzo się egzaltuje, a jałowe szyderstwa już mi się przejadły",
           0
          ],
          [
           "@anonymized_account Wisła chyba ważniejsza od jakiejś Delle Donne :)",
           0
          ],
          [
           "@anonymized_account Nawet jeśli to fejk, to zgodnie z powiedzeniem -w każdej plotce jest ziarnko prawdy. Z tym że w tym przypadku raczej ziarno😁😁",
           0
          ],
          [
           "@anonymized_account Tez wczoraj byłam na randce która trwała cały dzień Xd",
           0
          ],
          [
           "@anonymized_account A kierowca autobusu wstał i zaczął klaskać ?",
           0
          ],
          [
           "@anonymized_account @anonymized_account Jak by nie było, aby było miło, teraz sie cieszysz",
           0
          ],
          [
           "@anonymized_account No to może warto, najwyżej Cię oleje, co jest oczywiście nie do przyjęcia 😂 kto nie ryzykuje ten nie pije szampana kochana!",
           0
          ],
          [
           "@anonymized_account @anonymized_account Trzymali się za ręce, waleczni i sprawiedliwi",
           0
          ],
          [
           "Dudelange niby takie cwaniaki, a ciekawe czy byliby tacy mądrzy w dwuboju rzut młotem-skoki narciarskie",
           0
          ],
          [
           "RT @anonymized_account Dudelange niby takie cwaniaki, a ciekawe czy byliby tacy mądrzy w dwuboju rzut młotem-skoki narciarskie",
           0
          ],
          [
           "@anonymized_account @anonymized_account @anonymized_account głównie @anonymized_account który często o tym wspomina",
           0
          ],
          [
           "Kto się jeszcze zaczepia na fejsie....",
           0
          ],
          [
           "@anonymized_account @anonymized_account Z tymi wizjami to może być problem. Proponuję sprawdzić po czym te wizję są",
           0
          ],
          [
           "@anonymized_account Jaki hejt.Hejt to jest na Tuska, Komorowskiego, przecież to nie Polacy, śmierć wrogom ojczyzny. Obudź się",
           1
          ],
          [
           "Czy Antek już ogłosił, że na lewym skrzydle naszej obrony był wybuch?",
           0
          ],
          [
           "RT @anonymized_account Czy Antek już ogłosił, że na lewym skrzydle naszej obrony był wybuch?",
           0
          ],
          [
           "@anonymized_account jest to dobra informacja dla tych co okradali  Polskę od 89  roku  Irlandia da im wolność",
           0
          ],
          [
           "RT @anonymized_account @anonymized_account jest to dobra informacja dla tych co okradali  Polskę od 89  roku  Irlandia da im wolność",
           0
          ],
          [
           "Ale przecież #Polexit jest dobry. Założycie koszulki z orłem i będziecie żryć ziemniaki i wungiel 😇",
           1
          ],
          [
           "RT @anonymized_account Ale przecież #Polexit jest dobry. Założycie koszulki z orłem i będziecie żryć ziemniaki i wungiel 😇",
           1
          ],
          [
           "@anonymized_account @anonymized_account @anonymized_account @anonymized_account Wywalił Ronaldo w Superpucharze :)",
           0
          ],
          [
           "@anonymized_account @anonymized_account Bo sama jest niepełnosprawna... Umysłowo.😁😁",
           1
          ],
          [
           "Halo Kraków, kogo byście uznali za gwiazdę/najważniejszego zawodnika obecnej Wisły? 😉",
           0
          ],
          [
           "@anonymized_account @anonymized_account Ssą wszystkimi otworami z krwi biało czerwonej",
           0
          ],
          [
           "@anonymized_account Wy się zjednoczyliście z faszystami z połowy Europy. Kpromitacja level hard.",
           1
          ],
          [
           "@anonymized_account @anonymized_account @anonymized_account Znowu on ? 😂 to przy okazji niech się odniesie do słów Sarary 😂",
           0
          ],
          [
           "@anonymized_account Dotarlas do orełka?😁😁 W tym roku niestety tyłko jeden😞😞",
           0
          ],
          [
           "@anonymized_account @anonymized_account Mam rozumieć, że to mapa nasycenia krajów zboczeńcami w sutannach.",
           1
          ],
          [
           "@anonymized_account @anonymized_account @anonymized_account A Panu nie brakuje czasem art. 87 pkt1?",
           0
          ],
          [
           "@anonymized_account Czy to oknoplus ladowal kiedyś",
           0
          ],
          [
           "@anonymized_account @anonymized_account 5 punktów na 21 w rundzie finałowej...",
           0
          ],
          [
           ".@anonymized_account @anonymized_account Będziemy realizować przekop Mierzei Wiślanej \\n#wieszwiecej  \\nhttps://t.co/zuCXxG1GUr",
           0
          ],
          [
           "RT @anonymized_account .@anonymized_account @anonymized_account Będziemy realizować przekop Mierzei Wiślanej \\n#wieszwiecej  \\nhttps://t.co/zuCXxG1GUr",
           0
          ],
          [
           "@anonymized_account Bolek wyluzuj bo jesteś sercowy.",
           0
          ],
          [
           "@anonymized_account Śmiej się  śmiej. To wcale nie jest śmieszne.",
           0
          ],
          [
           "I hope that autumn will heal me",
           0
          ],
          [
           "Jutro po marszu, ale jeszcze kilka dni beda chodzić naćpani",
           0
          ],
          [
           "@anonymized_account Nie ma jak lans nierobie za pieniądze podatników.",
           0
          ],
          [
           "@anonymized_account A to ja przepraszam, nie miałam wczoraj czasu na TT 😎",
           0
          ],
          [
           "11 tysięcy miejsc zajętych, dzisiaj prawie 2000 biletów sprzedanych. Z tej okazji za chwilę nagroda 😁",
           0
          ],
          [
           "@anonymized_account @anonymized_account To ja chyba tylko kolory porównywałem",
           0
          ],
          [
           "Ej słuchajcie co zajebistego wymyśliłam \\n\\nJaki jest najlepszy argument bonnie z pamiętników wampirów? \\n\\nBo nnie",
           0
          ],
          [
           "RT @anonymized_account Ej słuchajcie co zajebistego wymyśliłam \\n\\nJaki jest najlepszy argument bonnie z pamiętników wampirów? \\n\\nBo nnie",
           0
          ],
          [
           "@anonymized_account Im więcej problemów w państwie tym więcej niewykonanych wyroków",
           0
          ],
          [
           "Widziałam śliczną sukienkę ale nie było mniejszego rozmiaru niż 36 i była za duża danmm",
           0
          ],
          [
           "@anonymized_account @anonymized_account Polskę to kompromitują tacy jak ty. Oszołomie.",
           1
          ],
          [
           "@anonymized_account 😁😁😁😁😁😁😁😁 @anonymized_account teraz to mnie Pani ubawiła tym paskiem. A widziała Pani swoją szyję?",
           1
          ],
          [
           "@anonymized_account @anonymized_account @anonymized_account nie, ale jeśli ktoś wypomina Levadie to niech bedzie obiektywny i wspomni też inny wynik.",
           0
          ],
          [
           "@anonymized_account O naszych meczach z Rio Ave można powiedzieć podobnie 😉",
           0
          ],
          [
           "W sumie to polubiłam już zajęcia z konstrukcji przekazu reklamowego i prowadzący jest świetny",
           0
          ],
          [
           "Ej chciałabym do samorządu w sumie hahahaha",
           0
          ],
          [
           "@anonymized_account Tez nie mam snapa hahahahaha",
           0
          ],
          [
           "@anonymized_account Ileż można o tym Wiluszu ?...",
           0
          ],
          [
           "@anonymized_account A po polsku to jak to będzie?",
           0
          ],
          [
           "@anonymized_account @anonymized_account A skąd on wie jak jest w innych klubach ? Niech się wypowiada o klubach w których grał.",
           0
          ],
          [
           "I ta Wisła, która się bawi z każdym w ofensywie, w Białymstoku miała pół sytuacji.",
           0
          ],
          [
           "@anonymized_account @anonymized_account @anonymized_account Zapytalem,  szwagierka mówi że ma konto w powerbanku",
           0
          ],
          [
           "@anonymized_account @anonymized_account Mięciuteńki straszliwie. Tam były ręce na ciele, a nie jakieś szarpanie. Tylko że nie do VAR-u.",
           0
          ],
          [
           "@anonymized_account @anonymized_account Pajacu, jak podajesz przepis to masz go znać na pamięć. Inaczej robią z siebie idiotę tak jak teraz.",
           1
          ],
          [
           "@anonymized_account Zdejmujesz Dziadkowi okulary, zakładasz Babci i jestem \\n😎",
           0
          ],
          [
           "@anonymized_account @anonymized_account @anonymized_account w końcu jakiś ciekawy wywiad :)",
           0
          ],
          [
           "@anonymized_account jak tam widziałeś czerwoną to rzeczywiście wyjdź",
           0
          ],
          [
           "@anonymized_account skoro zarząd pozwala na takie cyrki to niestety potrwa to lata",
           0
          ],
          [
           "@anonymized_account @anonymized_account Cieszmy się że drużyna dalej gra w lidze.Nie zawsze można mieć najmocniejszy skład w lidze :)",
           0
          ],
          [
           "@anonymized_account @anonymized_account @anonymized_account Znawca wszystkiego czyli niczego od bydła po powidło",
           0
          ],
          [
           "@anonymized_account 😂😂😂😂😂😂😂😂😂😂😂😂😂🤣🤣🤣🤣🤣🤣🤣🤣🤣🤣🤣🤣🤣😂😂😂😂😂😂😂🤣🤣🤣🤣🤣🤣🤣🤣🤣🤣🤣🤣🤣🤣🤣😂😂😂😂😂😂😂😂😂😂😂😂😂😂😂😂\\n\\nSłów odpowiednich żaden słownik nie zawiera",
           0
          ],
          [
           "@anonymized_account Vacek, Putnocky, Nielsen.Widzę że biorą się za odmładzanie składu :)",
           0
          ],
          [
           "@anonymized_account @anonymized_account @anonymized_account Ty się chyba debilu nie słyszysz, ty tekstów to się po nocach uczysz czy masz słuchawkę w uchu?",
           1
          ],
          [
           "@anonymized_account Lub kibiców w Gliwicach 😜",
           0
          ],
          [
           "@anonymized_account No właśnie była lepsza 😜",
           0
          ],
          [
           "@anonymized_account @anonymized_account @anonymized_account @anonymized_account No weź nie rob takiej miny",
           0
          ],
          [
           "@anonymized_account @anonymized_account @anonymized_account Szczekać to mogą tacy jak ty #delegalizacja",
           1
          ],
          [
           "@anonymized_account Bo jest Głowacki to teraz czas na obrońców",
           0
          ],
          [
           "@anonymized_account @anonymized_account Nie ma takiej opcji. Oszust i kłamca w roli głównej - tego jeszcze świat nie widział.",
           0
          ],
          [
           "@anonymized_account Nie jest złe! Chodzisz w szpilkach? Cokolwiek byś nie założyła to szpilki choć trochę pomogą xd",
           0
          ],
          [
           "@anonymized_account Jakby był definitywny to trochę slabo 😂",
           0
          ],
          [
           "@anonymized_account a co się tak pieniedzmi nagle przejmujesz ? Jak chcialas rozwiazania kontraktu z Zohnova czy Pop to kasa juz nie wazna ?",
           0
          ],
          [
           "@anonymized_account Oskar Łąk definitywnie odszedł z Wisły ?\\n\\nhttps://t.co/o0psVgZBUl",
           0
          ],
          [
           "@anonymized_account gratulacje ! Dzięki za dotrzymanie słowa że dzisiaj koniec :) Zasłużyłyście !",
           0
          ],
          [
           "Jezu, co zagrali Suarez i Cavani.",
           0
          ],
          [
           "@anonymized_account Na pewno łatwiej by było znaleźć, określić i poprawić problemy",
           0
          ],
          [
           "@anonymized_account Można, dlatego nasz poziom piłkarski był bardzo słaby wczoraj.",
           0
          ],
          [
           "@anonymized_account Wybacz, ale nie sądzę, aby głównym problemem kadry były złe powołania na numerach 21-23 w kadrze.",
           0
          ],
          [
           "jeśli nie mogę wyglądać tak jak\\n•perrie edwards\\n•troian bellisario\\nto what’s the point of existing?",
           0
          ],
          [
           "RT @anonymized_account jeśli nie mogę wyglądać tak jak\\n•perrie edwards\\n•troian bellisario\\nto what’s the point of existing?",
           0
          ],
          [
           "@anonymized_account Nadal i Djoković to się w sumie cieszą, bo ten, kto w ich meczu wygra, będzie praktycznie zwycięzcą turnieju.",
           0
          ],
          [
           "@anonymized_account @anonymized_account Mówisz że ONR lize doope😂",
           1
          ],
          [
           "@anonymized_account @anonymized_account @anonymized_account wyśle im jutro list od kibiców cracovii że chcą odejścia Filipiaka.Ciekawe czy też opublikują.",
           0
          ],
          [
           "@anonymized_account @anonymized_account A kiedy zaczniecie zbiórki na krówki i świnki?",
           1
          ],
          [
           "@anonymized_account No to skąd wiedziałeś czy stopklatka jest zrobiona w odpowiednim momencie ? Nie kompromituj się",
           0
          ],
          [
           "@anonymized_account @anonymized_account @anonymized_account Iza - dziewczyna, cud, miód, malina 😁",
           0
          ],
          [
           "Zaraz pół mojego instagrama i cały Twitter będzie na koncercie Eda.... i jestem jeszcze ja............",
           0
          ],
          [
           "@anonymized_account Z tamtego Adama dziś już nic nie zostało. Ale czepianie się go za brata i ojca osobiście nie popieram",
           0
          ],
          [
           "@anonymized_account @anonymized_account Plujecie na Polskę to my będziemy pluć na was.",
           1
          ],
          [
           "RT @anonymized_account @anonymized_account @anonymized_account Plujecie na Polskę to my będziemy pluć na was.",
           1
          ],
          [
           "@anonymized_account Może też być kołderka 😍",
           0
          ],
          [
           "@anonymized_account Dlaczego średnio? W decydujacym o awansie Widzewa czerwcu był piłkarzem miesiąca",
           0
          ],
          [
           "@anonymized_account błedem było ściaganie zawodników których nas niestać byleby osiągnąć cel",
           0
          ],
          [
           "@anonymized_account Każdy kto choć trochę się orientuje w tych sprawach wie, że na Hutniku nie ma oświetlenia...",
           0
          ],
          [
           "@anonymized_account Maliniak dal reklame za dormo ponoć caly marsz niepodleglosci ubrali, prawda to redisbad?",
           0
          ],
          [
           "@anonymized_account niech wejdzie na luzie i pewnie tak żeby nie musiał zostawiać dokumentu, milion osób tak przemyciłam",
           0
          ],
          [
           "@anonymized_account Cie zaraz piznę, jak nie zaczniesz myśleć",
           1
          ],
          [
           "@anonymized_account @anonymized_account Bo byliśmy bez formy, to oczywiste. Przecież to też napisałem.",
           0
          ],
          [
           "@anonymized_account jest juz aktualizacja składów czy jakis dodatek sciągałeś ? :)",
           0
          ],
          [
           "@anonymized_account Komentarz raz a dwa słysząc trybuny zastanawiam się czy ten kto wymyślił mecze w pn obejrzał choć jeden",
           1
          ],
          [
           "@anonymized_account @anonymized_account @anonymized_account @anonymized_account @anonymized_account @anonymized_account Mam nadzieję że nigdy więcej. Czekam na rychłą delegalizację.",
           0
          ],
          [
           "@anonymized_account A Ty nigdy nie robisz dwóch rzeczy jednocześnie? Np. idziesz i żujesz gumę.",
           1
          ],
          [
           "@anonymized_account @anonymized_account O 11.00 wielkie obtrabienie sukcesu...",
           0
          ],
          [
           "@anonymized_account @anonymized_account Ty kurwa @anonymized_account nie pierdol w tv bo sie żygać chce",
           1
          ],
          [
           "@anonymized_account problemem jest to że jak sobie coś ubzdurasz to myślisz że zawsze masz racje bo jesteś wszechwiedzący@anonymized_account @anonymized_account",
           1
          ],
          [
           "@anonymized_account Taki Błaszczykowski tez za co do repry?  Żeby niebylo ze wbijam szpilki do legi?",
           0
          ],
          [
           "Często wracam do tego kawałka. @anonymized_account",
           0
          ],
          [
           "@anonymized_account A pisdzielstwo, szczury, gady, plazy popromienne, azbestowe?",
           1
          ],
          [
           "omg ale jestem wyjebana po tym wykładzie",
           0
          ],
          [
           "@anonymized_account @anonymized_account jak Zarycki jest Twoim informatorem to te info można w kiblu spuścić",
           1
          ],
          [
           "@anonymized_account @anonymized_account Ale Karolina ostatnio była w TVP 😜",
           0
          ],
          [
           "#NAME?",
           0
          ],
          [
           "@anonymized_account @anonymized_account U mnie też wyświetla właściwe kolory 😊",
           0
          ],
          [
           "@anonymized_account @anonymized_account Najpierw kasza, później przyjemności, a kiedyś wolność, ale wy klękacie bez obawy zostanie i tak bez was",
           1
          ],
          [
           "@anonymized_account @anonymized_account @anonymized_account No oboje Państwo wyglądacie jak rodzeństwo. I tacy żółci oboje.",
           1
          ],
          [
           "@anonymized_account No kurwa @anonymized_account ty masz nie rządzić, madz nie rządzić",
           1
          ],
          [
           "Yerri Mina - złota piłka 😁",
           0
          ],
          [
           "@anonymized_account jeszcze nie mam planu wykonania ;-)",
           0
          ],
          [
           "@anonymized_account Śląsk Wrocław ma jakiś drugi podmiot, że wystawia drugi zespół w barażach?",
           0
          ],
          [
           "@anonymized_account personalnie do tej Pani, przyjrzyj się sobie @anonymized_account @anonymized_account , @anonymized_account @anonymized_account",
           1
          ],
          [
           "Nie wiem, jak Barcelona i Real otrząsną się po utracie tak ważnych piłkarzy, jak Paulinho i Cristiano Ronaldo.",
           0
          ],
          [
           "Polska zrealizowala nasze cele w UE na szczycie z nawiązką. Podajcie dalej RT koniecznie potrzebne - dziękuję😊\\nhttps://t.co/OzUaePZLpY",
           0
          ],
          [
           "RT @anonymized_account Polska zrealizowala nasze cele w UE na szczycie z nawiązką. Podajcie dalej RT koniecznie potrzebne - dziękuję😊\\nhttps://t.co/Oz…",
           0
          ],
          [
           "@anonymized_account @anonymized_account @anonymized_account A my nie mamy helikopterów, rakiet, łodzi podwodnych a mamy WOT w którym ja biegam",
           0
          ],
          [
           "@anonymized_account @anonymized_account A czego oczekiwałeś ? Przedłużą z kimś kontrakt to poinformują",
           0
          ],
          [
           "@anonymized_account Jeszcze Podolski od jakiegoś czasu.",
           0
          ],
          [
           "Przepraszamy. Nie wpadliśmy na to, że pokazując środkowy palec narodowi, który - ponad podziałami, czci #PW1944, możemy kogoś obrazić. Sorki",
           0
          ],
          [
           "@anonymized_account ahhh myślałam, że na jakieś innej stronie",
           0
          ],
          [
           "@anonymized_account Źle... Miałeś napisać, że nie możesz więcej zdradzić :(",
           0
          ],
          [
           "@anonymized_account Pan w tle, z lewej, to z mopem zasuwa? 🖒",
           0
          ],
          [
           "Czy naprawdę trzeba publicznie przyznawać się do nieprzygotowania do meczu, drodzy panowie komentatorzy? (kwestia Sheridana)",
           1
          ],
          [
           "Na tt te beznadziejne gadki o niczym, to już wolę sam ze sobą",
           1
          ],
          [
           "@anonymized_account Pamiętaj, ze ja daleko do ciebie nie mam 😂",
           1
          ],
          [
           "@anonymized_account Pomysł sobie ze ja oblałam bo z pełna świadomością wjebalam się na rondo XD widzisz to taki mały błąd, Ew",
           0
          ],
          [
           "@anonymized_account Jest tej chołoty tutaj całkiem sporo. Napewno się udzielają.",
           1
          ],
          [
           "@anonymized_account Hejka, hejka, sejonarka w czwartek o 11 juz do domku",
           0
          ],
          [
           "@anonymized_account @anonymized_account Mistrz, człowiek mem jedyny na świecie",
           0
          ],
          [
           "@anonymized_account @anonymized_account @anonymized_account York czy Leszek Miller? :)",
           0
          ],
          [
           "@anonymized_account Kiedys kazdy kopniak bez piłki = czerwona, a jeśli to było tylko położenie ręki na głowę, to nie mamy o czym rozmawiac :)",
           0
          ],
          [
           "Morawieckiemu coś nie idzie w Namysłowie. Teraz jako były prezes BZK WBK przedstawia się jaki ten, który zwalcza \\\"zachodnie korporacje\\\".",
           0
          ],
          [
           "RT @anonymized_account Morawieckiemu coś nie idzie w Namysłowie. Teraz jako były prezes BZK WBK przedstawia się jaki ten, który zwalcza \\\"zacho…",
           0
          ],
          [
           "@anonymized_account No widzisz, a zwycięską asystę w tym meczu zanotował Griezmann. MVP = najbardziej wartościowy zawodnik :)",
           0
          ],
          [
           "@anonymized_account do domu bo ci rózga dupę @anonymized_account ty mały  @anonymized_account",
           1
          ],
          [
           "Jak go pierwszy raz usłyszałam to miałam ciarki na całym ciele",
           0
          ],
          [
           "@anonymized_account kibice nigdy nie pozwolą na to żeby po raz kolejny był trenerem",
           0
          ],
          [
           "Teraz zarykam nos i mowie \\\"cała polska z was sie śmieje, komuniści i zlodzieje,",
           1
          ],
          [
           "@anonymized_account Jego tata tłumaczył konferencję przy okazji meczu z Rio Ave w Vila do Conde :)",
           0
          ],
          [
           "@anonymized_account a wyśmiewanie Lionela M. było po skazaniu go za oszustwa podatkowe ? bo jakoś przeoczyłem",
           0
          ],
          [
           "@anonymized_account @anonymized_account @anonymized_account życzę Gatcie mistrza bo zasługują na to grając 2 sezony na wysokim poziomie.",
           0
          ],
          [
           "@anonymized_account Plakat widzę tak @anonymized_account z  @anonymized_account wymiana spojrzeń  a @anonymized_account na kolanach liże ich po stopach",
           0
          ],
          [
           "@anonymized_account Pana zdanie nie interesuje Polaków ❗\\nWypchaj się Pan niemiecką, śmierdzącą onucą ❗",
           1
          ],
          [
           "RT @anonymized_account @anonymized_account Pana zdanie nie interesuje Polaków ❗\\nWypchaj się Pan niemiecką, śmierdzącą onucą ❗",
           1
          ],
          [
           "@anonymized_account @anonymized_account Mógł, ale jakoś nie chce mi się wierzyć, że tak to wyglądało.",
           0
          ],
          [
           "em ok wątek Jerzego i Zuzy w Przyjaciółkach to najlepsze co tam było kiedykolwiek",
           0
          ],
          [
           "RT @anonymized_account @anonymized_account Giertych: myślę, że myślę.",
           0
          ],
          [
           "Ostatnio się zrobiłam polityczna chyba studia weszły mi za mocno",
           0
          ],
          [
           "@anonymized_account Badziewny zespół, a i tak Anglicy byli o krok od straty punktów :)",
           1
          ],
          [
           "@anonymized_account nawet pasy to dla was za duże wyzwanie co widać po twoim profilowym.Mistrzowie opraw.",
           1
          ],
          [
           "@anonymized_account nie chodziło mi o to że się cieszyłeś z upadku Wisły tylko że masz czarny humor :) że się z Wisły na Chojnice przerzuciłem :)",
           0
          ],
          [
           "Ta drużyna powstała za czasów PO-PSL.",
           0
          ],
          [
           "RT @anonymized_account Ta drużyna powstała za czasów PO-PSL.",
           0
          ],
          [
           "@anonymized_account Hołd to się oddaje bohaterom....",
           0
          ],
          [
           "@anonymized_account @anonymized_account  a co ma procent zapelnienia pojemnosci do frekwencji ? Po za tym co to jest 50% na takim malym stadionie ?",
           0
          ],
          [
           "Spółka srebrna kapitał  7 mln,  w zarządzie sekretarka i kierowca Jarkacza",
           0
          ],
          [
           "@anonymized_account Haha  a ilu ty zapraszasz do studia co pierd...takie głupoty...",
           1
          ],
          [
           "RT @anonymized_account @anonymized_account Haha  a ilu ty zapraszasz do studia co pierd...takie głupoty...",
           1
          ],
          [
           "Kto chce zrobić ze mna tea party??",
           0
          ],
          [
           "@anonymized_account Ale za to wystąpił równie błyskotliwy,inteligentny, merytoryczny,bystry poseł Kieeerwiiinski!!!",
           1
          ],
          [
           "@anonymized_account No gdzie, wszystko zależało od Lecha w ostatniej kolejce :D",
           0
          ],
          [
           "Moja morda to takie spierdolenie ze zaraz rykne",
           0
          ],
          [
           "RT @anonymized_account Moja morda to takie spierdolenie ze zaraz rykne",
           0
          ],
          [
           "@anonymized_account @anonymized_account No w różnych miejscach ludzie seks uprawiają. Dajcie spokój...",
           0
          ],
          [
           "@anonymized_account Ok boli, boli. Czarne katabasy, mordercy irlandzkich kobiet i sierot do kruchty i pokutować do końca życia za swoje występki.",
           1
          ],
          [
           "Czemu żaden tramwaj nie jedzie wtf",
           0
          ],
          [
           "@anonymized_account Tak, statystyki to kłamstwa. Za to wyciągnięcie jednej sytuacji z 90 minutowego meczu to bezcenny dowód.",
           0
          ],
          [
           "@anonymized_account @anonymized_account Zamiast tego można znaleźć grafiki na różnych ekranach / telebimach w mieście.",
           0
          ],
          [
           "@anonymized_account Niby sami świnie, a nic nie wiedzą",
           1
          ],
          [
           "@anonymized_account Ale co to ma do Mystka?",
           0
          ],
          [
           "@anonymized_account Serio chcecie cichego stadionu ?",
           0
          ],
          [
           "Co to miało być? 😂",
           0
          ],
          [
           "@anonymized_account tego się niespodziewałem po Tobie... Zawiodłeś nas :D @anonymized_account",
           1
          ],
          [
           "@anonymized_account @anonymized_account Wiem, ale prezentację mogli zrobić bez naklejek.",
           0
          ]
         ],
         "hovertemplate": "Dim_1=%{x}<br>Dim_2=%{y}<br>text=%{customdata[0]}<br>label=%{marker.color}<extra></extra>",
         "legendgroup": "",
         "marker": {
          "color": [
           0,
           0,
           1,
           0,
           0,
           0,
           0,
           0,
           0,
           1,
           0,
           0,
           0,
           1,
           0,
           0,
           0,
           0,
           0,
           0,
           0,
           1,
           0,
           0,
           0,
           0,
           0,
           0,
           0,
           0,
           0,
           0,
           0,
           0,
           0,
           0,
           0,
           1,
           0,
           1,
           0,
           0,
           0,
           1,
           1,
           0,
           0,
           1,
           0,
           0,
           0,
           0,
           0,
           1,
           0,
           0,
           0,
           1,
           0,
           0,
           0,
           0,
           0,
           0,
           0,
           0,
           0,
           0,
           0,
           0,
           0,
           0,
           0,
           1,
           0,
           1,
           0,
           0,
           0,
           0,
           0,
           0,
           0,
           0,
           0,
           0,
           0,
           1,
           1,
           0,
           0,
           0,
           0,
           1,
           0,
           1,
           0,
           0,
           0,
           0,
           1,
           1,
           1,
           0,
           0,
           0,
           0,
           0,
           1,
           0,
           0,
           0,
           1,
           1,
           1,
           0,
           1,
           1,
           0,
           0,
           0,
           0,
           0,
           0,
           0,
           0,
           1,
           1,
           1,
           0,
           0,
           0,
           0,
           1,
           1,
           0,
           1,
           0,
           0,
           0,
           1,
           1,
           0,
           1,
           1,
           1,
           0,
           0,
           0,
           0,
           0,
           0,
           0,
           1,
           1,
           0,
           1,
           0,
           0,
           0,
           0,
           1,
           0,
           0,
           1,
           1,
           0,
           1,
           0,
           0,
           1,
           1,
           0,
           0,
           0,
           0,
           0,
           1,
           0,
           1,
           1,
           0,
           0,
           0,
           0,
           0,
           1,
           1,
           1,
           0,
           0,
           0,
           0,
           1,
           0,
           0,
           0,
           1,
           0,
           0,
           0,
           0,
           0,
           0,
           0,
           0,
           0,
           0,
           0,
           0,
           0,
           1,
           0,
           0,
           0,
           0,
           1,
           0,
           0,
           0,
           0,
           0,
           0,
           0,
           0,
           0,
           1,
           0,
           1,
           1,
           0,
           0,
           0,
           0,
           0,
           0,
           0,
           1,
           1,
           0,
           0,
           1,
           1,
           1,
           1,
           0,
           1,
           1,
           0,
           0,
           0,
           0,
           1,
           0,
           0,
           0,
           0,
           1,
           0,
           0,
           0,
           0,
           0,
           0,
           0,
           0,
           1,
           1,
           0,
           1,
           1,
           1,
           1,
           0,
           0,
           0,
           0,
           0,
           0,
           0,
           0,
           0,
           0,
           0,
           0,
           0,
           0,
           1,
           0,
           0,
           0,
           0,
           0,
           0,
           0,
           1,
           1,
           1,
           1,
           0,
           1,
           0,
           0,
           1,
           0,
           1,
           1,
           0,
           0,
           1,
           0,
           0,
           0,
           1,
           0,
           0,
           1,
           1,
           0,
           0,
           0,
           0,
           0,
           0,
           0,
           0,
           0,
           0,
           1,
           0,
           0,
           1,
           0,
           0,
           0,
           1,
           1,
           1,
           0,
           0,
           1,
           0,
           0,
           1,
           0,
           0,
           0,
           0,
           1,
           0,
           0,
           0,
           0,
           1,
           0,
           0,
           0,
           0,
           0,
           0,
           0,
           1,
           1,
           0,
           0,
           0,
           0,
           0,
           0,
           1,
           0,
           1,
           1,
           1,
           0,
           0,
           0,
           0,
           0,
           0,
           1,
           0,
           1,
           1,
           1,
           0,
           0,
           0,
           1,
           1,
           1,
           0,
           0,
           1,
           0,
           0,
           0,
           0,
           0,
           0,
           0,
           0,
           1,
           0,
           0,
           0,
           0,
           0,
           1,
           0,
           0,
           0,
           0,
           0,
           0,
           0,
           0,
           0,
           0,
           0,
           0,
           0,
           0,
           0,
           0,
           1,
           0,
           0,
           0,
           0,
           1,
           1,
           0,
           1,
           0,
           0,
           1,
           0,
           0,
           1,
           0,
           0,
           0,
           0,
           0,
           0,
           0,
           0,
           0,
           0,
           0,
           0,
           0,
           0,
           0,
           0,
           0,
           1,
           1,
           0,
           0,
           0,
           0,
           0,
           0,
           0,
           0,
           0,
           0,
           0,
           1,
           0,
           0,
           0,
           0,
           0,
           0,
           0,
           0,
           1,
           0,
           0,
           0,
           1,
           0,
           0,
           0,
           0,
           0,
           0,
           0,
           0,
           0,
           0,
           0,
           0,
           0,
           0,
           1,
           0,
           1,
           0,
           0,
           0,
           0,
           1,
           1,
           0,
           0,
           0,
           0,
           0,
           0,
           1,
           0,
           0,
           1,
           0,
           1,
           0,
           1,
           1,
           0,
           0,
           1,
           0,
           1,
           0,
           0,
           0,
           1,
           1,
           1,
           0,
           0,
           0,
           1,
           0,
           0,
           0,
           0,
           0,
           0,
           0,
           0,
           0,
           0,
           1,
           1,
           1,
           0,
           1,
           0,
           0,
           0,
           0,
           0,
           0,
           0,
           1,
           0,
           0,
           1,
           0,
           0,
           0,
           0,
           1,
           1,
           0,
           0,
           0,
           0,
           1,
           1,
           0,
           0,
           0,
           0,
           0,
           0,
           1,
           1,
           0,
           1,
           0,
           0,
           0,
           0,
           1,
           0,
           0,
           0,
           1,
           0,
           0,
           0,
           1,
           0
          ],
          "coloraxis": "coloraxis",
          "opacity": 0.7,
          "size": 10,
          "symbol": "circle"
         },
         "mode": "markers",
         "name": "",
         "orientation": "v",
         "showlegend": false,
         "type": "scatter",
         "x": [
          -7.3018036,
          0.85232776,
          -4.5086174,
          3.7662508,
          7.7651844,
          -6.132653,
          -9.202791,
          2.1689236,
          -5.0488067,
          9.091147,
          9.321763,
          6.9303956,
          -9.455016,
          12.832104,
          1.0431017,
          11.568175,
          11.572629,
          -2.7407744,
          2.433364,
          8.438275,
          11.387551,
          2.0064423,
          -7.52982,
          3.1923141,
          -3.1856787,
          7.0665436,
          -2.802006,
          -1.4433942,
          -5.1587963,
          -6.1790347,
          -7.508832,
          -7.570509,
          0.36299103,
          10.579892,
          -5.4190383,
          -4.903152,
          -4.569904,
          0.7117222,
          -8.726955,
          -3.4291663,
          -9.915755,
          -9.954813,
          14.1107645,
          8.805337,
          -3.0964062,
          11.168989,
          -0.85419285,
          0.7828429,
          1.7490573,
          13.369332,
          13.341887,
          -1.8272516,
          7.4519424,
          -3.2123425,
          -4.440454,
          8.287459,
          -3.9166725,
          -3.4973946,
          3.4321666,
          1.6388863,
          -0.6176079,
          -0.73672473,
          7.4392047,
          -1.9859481,
          -1.6086694,
          9.857351,
          10.112526,
          7.512162,
          -2.9697294,
          -2.007485,
          -2.936131,
          7.146836,
          5.4208355,
          -1.7718123,
          -0.2713178,
          3.6300552,
          0.54030985,
          -0.9316975,
          10.889288,
          6.3362617,
          4.6781087,
          14.665144,
          12.859403,
          -11.411497,
          -11.415876,
          -7.582925,
          8.469945,
          -9.184476,
          -9.188104,
          4.652078,
          9.514768,
          9.342351,
          6.6359053,
          2.4165769,
          -1.4106135,
          -1.1979382,
          -1.2759085,
          -7.7099504,
          8.37535,
          6.8150697,
          8.199925,
          12.116941,
          -0.44429842,
          -3.8210416,
          6.406299,
          -10.227228,
          -2.2722452,
          0.60920054,
          0.010476085,
          2.565704,
          -9.902146,
          -9.946003,
          -14.061314,
          -14.048574,
          2.1186452,
          -3.6915152,
          5.040069,
          4.661979,
          -8.764924,
          5.7000675,
          -10.969229,
          -11.038188,
          -1.1852043,
          2.6422403,
          6.5236626,
          -4.4795938,
          -3.8061285,
          11.536976,
          -2.5824816,
          -0.27215677,
          4.4436193,
          9.603399,
          -0.39192963,
          -4.077831,
          -2.2439299,
          -0.99375623,
          -1.4813235,
          4.1685796,
          -3.5444458,
          -8.831421,
          0.4718711,
          0.051989615,
          -0.65932107,
          9.568808,
          -1.1577647,
          11.678111,
          -1.154589,
          -1.0959692,
          7.8159914,
          5.153987,
          5.380793,
          -7.187957,
          -4.583598,
          -8.033395,
          -8.0763035,
          -8.176165,
          -1.7899814,
          3.545128,
          6.612419,
          -5.8074155,
          -10.389115,
          -3.9876032,
          -0.59910613,
          -4.190069,
          -0.051455185,
          -5.039163,
          -10.852779,
          -1.2931257,
          -1.9323224,
          3.9708626,
          -0.17024702,
          -3.4038296,
          -3.8675587,
          -3.947508,
          -0.26136866,
          -7.044689,
          -3.19353,
          -3.5434034,
          -3.9068735,
          -2.1532307,
          -1.9876018,
          -14.600923,
          -14.600538,
          0.03965042,
          4.5372763,
          8.906037,
          -5.756628,
          0.35116264,
          0.33576775,
          10.561552,
          10.149056,
          4.316343,
          9.029403,
          -4.057704,
          -6.3903856,
          -8.025614,
          7.5900493,
          -2.510818,
          7.982588,
          -7.157809,
          -3.0013783,
          -5.890058,
          -1.9579998,
          -13.957301,
          -13.962057,
          -4.5559454,
          2.7381246,
          4.603306,
          -11.3974085,
          5.1983085,
          -1.1966559,
          13.36184,
          4.9419184,
          4.46618,
          4.2046227,
          -5.7477617,
          12.356211,
          -0.45002717,
          3.6682737,
          0.011802129,
          -4.1818094,
          -6.371527,
          5.7556944,
          -1.5155824,
          0.12173144,
          -2.8000891,
          -10.356451,
          -11.096093,
          7.5582256,
          -0.5643998,
          4.9026523,
          -3.082528,
          -2.541078,
          -5.460047,
          -1.1924459,
          4.1296535,
          4.419774,
          -2.0140603,
          -5.6559215,
          2.916443,
          1.5880039,
          2.509936,
          -11.689501,
          -11.69054,
          2.707031,
          10.196926,
          5.1566763,
          -0.679788,
          -12.067138,
          4.26459,
          -3.1632102,
          2.479367,
          11.051103,
          -7.8718762,
          -7.941205,
          -7.642188,
          10.159259,
          6.6164293,
          -6.4277544,
          -3.8277504,
          -1.4712135,
          -11.195598,
          11.56432,
          -6.1950703,
          9.877967,
          9.276834,
          -5.4009457,
          -5.4871936,
          1.2527406,
          -3.5733309,
          2.7072954,
          9.727906,
          1.7911584,
          -10.266612,
          3.4460082,
          -4.035272,
          -5.7749186,
          6.6563954,
          -3.2917128,
          4.122551,
          10.149045,
          5.6054363,
          9.539422,
          -13.062186,
          -13.055926,
          -8.697749,
          9.973854,
          -3.8221686,
          -10.42478,
          -8.78562,
          -4.5897856,
          -8.1798,
          -9.227638,
          -2.285362,
          6.048895,
          -0.6318561,
          -7.6857753,
          -5.2260423,
          -2.2982497,
          5.781324,
          -6.035551,
          11.643051,
          -2.596299,
          -2.5469809,
          2.376017,
          -12.453554,
          -12.483088,
          -5.103958,
          -3.8491783,
          4.422912,
          12.349542,
          -4.422434,
          -4.1097636,
          8.838974,
          -2.224056,
          -3.7021623,
          -1.0677104,
          -1.0315517,
          13.847657,
          2.8466206,
          2.6262436,
          13.771821,
          -6.5091424,
          -1.7169372,
          -1.9155631,
          1.738493,
          3.2111523,
          6.358833,
          -4.3168817,
          2.9147224,
          -1.1774404,
          4.6933575,
          10.554915,
          3.1853578,
          12.677208,
          -3.9325764,
          10.375039,
          1.560277,
          -8.734837,
          -4.9024177,
          0.88652897,
          -4.7408714,
          -6.0374846,
          0.75954574,
          8.499948,
          8.554701,
          2.6188154,
          0.26775792,
          0.7888839,
          5.2831235,
          0.25959554,
          4.9577174,
          0.86693496,
          1.1391345,
          3.525493,
          -6.7646465,
          1.7644713,
          -7.859865,
          4.1522183,
          -2.0494502,
          -2.642386,
          2.6453261,
          10.062807,
          0.13096379,
          7.86051,
          -15.990715,
          -15.988243,
          7.382144,
          5.9701962,
          -6.1889744,
          -0.4442891,
          -0.56366396,
          4.298468,
          -8.88496,
          2.6687021,
          5.992625,
          0.34160477,
          -6.0951214,
          -1.0560217,
          10.65406,
          -4.9156256,
          3.5701625,
          -10.98301,
          -11.0402975,
          -9.51379,
          12.262138,
          -0.35659224,
          -7.615706,
          -4.684409,
          -4.704507,
          -1.9793578,
          0.7523342,
          -6.7451377,
          0.9849322,
          -9.5850725,
          -9.617242,
          4.823436,
          -4.7913933,
          -3.796026,
          -5.0182323,
          11.391244,
          -5.596389,
          13.175002,
          6.8580317,
          10.805401,
          13.8217945,
          13.8729105,
          -1.7030097,
          12.416777,
          -5.7237062,
          6.7597136,
          6.658255,
          -3.2365375,
          4.7946043,
          -7.2359033,
          2.7857535,
          12.985296,
          -3.5372076,
          -3.953166,
          -3.504454,
          9.725349,
          9.743218,
          6.208331,
          -4.3455977,
          -6.6066546,
          -4.4291663,
          -3.401563,
          -3.247715,
          -11.605245,
          -11.650888,
          -6.3757935,
          -6.396165,
          12.363038,
          -0.30176035,
          -6.1493406,
          11.381381,
          -8.195444,
          5.769703,
          0.058732755,
          -0.08613671,
          11.883379,
          4.072889,
          6.6998353,
          11.568482,
          11.664231,
          0.35015008,
          -5.385887,
          5.2362914,
          -2.4655962,
          -6.951998,
          -7.60383,
          -8.860634,
          4.0296984,
          -13.840987,
          -13.840784,
          7.1952405,
          -5.2620416,
          -1.443517,
          2.7600806,
          -1.4907576,
          11.036691,
          -7.2965117,
          -4.2207084,
          -8.009225,
          8.711722,
          -2.6301956,
          -2.908498,
          -2.02943,
          5.529226,
          -4.5506544,
          -4.104007,
          12.510148,
          7.998726,
          -1.9916201,
          1.3727933,
          -1.9799415,
          3.9550023,
          3.5147223,
          -2.2056944,
          -2.4927635,
          7.8634706,
          8.953849,
          7.7046824,
          -0.96659696,
          -1.5380839,
          -1.5907432,
          -3.260098,
          11.1600895,
          -4.1968718,
          11.10707,
          -3.6027718,
          -11.74595,
          6.903603,
          3.4361393,
          -5.117013,
          -13.724181,
          -13.733491,
          -5.310086,
          5.382819,
          -1.8170139,
          6.8328238,
          -4.119136,
          10.676459,
          -5.6681633,
          -5.446647,
          15.5505,
          15.547011,
          3.824069,
          8.1825,
          1.0485997,
          -3.8471856,
          4.0276756,
          -6.081508,
          -3.9296548,
          0.022294948,
          0.7929255,
          -2.841634,
          6.9245973,
          2.7738502,
          9.908951,
          -2.0687904,
          -3.2589653,
          -2.48727,
          7.32831,
          12.385392,
          -3.9202108,
          -1.6880213,
          -2.5405557,
          -8.655136,
          4.593011,
          -5.222517,
          0.07483182,
          -7.1841784,
          7.7729225,
          -7.467185,
          1.0345101,
          5.720826,
          -5.0590763,
          -11.573336,
          -11.592211,
          -1.2862502,
          11.755799,
          1.1016114,
          -0.9253129,
          -7.5676,
          0.3487517,
          12.311881,
          -2.280445,
          -7.4467077,
          -7.9542737,
          -7.174913,
          -0.9935238,
          5.786612,
          4.2263293,
          7.3388634,
          -5.7068067,
          -2.4338775,
          -2.3877463,
          9.926837,
          0.9687226,
          -2.865819,
          1.8658519,
          -9.560403,
          11.035686,
          0.008158816,
          1.419425,
          3.4673264,
          -0.17761421,
          -0.18087077,
          -4.9547915,
          -6.7683535,
          9.081896,
          -3.847667,
          2.8444798,
          -2.7943385,
          -4.125167,
          -5.8734636,
          -5.8175306,
          2.5479193,
          -3.0257201,
          6.111941,
          3.9462485,
          3.954531,
          10.993691,
          -3.7875473,
          3.2666287,
          10.603631,
          10.602868,
          8.086229,
          -1.9732867,
          -8.738226,
          2.2401674,
          5.680201,
          -10.745139,
          -4.061418,
          5.6421695,
          7.66378,
          -0.8069271,
          -2.996696
         ],
         "xaxis": "x",
         "y": [
          -1.6448009,
          2.891712,
          6.252844,
          -1.79618,
          11.626697,
          1.5268295,
          -6.61831,
          -5.5589104,
          0.32419363,
          -0.28194872,
          3.7467637,
          -1.4679164,
          -3.7367768,
          -3.728171,
          -0.91263413,
          -5.9138947,
          -5.927549,
          -1.0791032,
          1.6834145,
          10.981977,
          5.699326,
          2.0917103,
          -4.1713243,
          7.8785214,
          -2.8374128,
          11.094881,
          1.7043802,
          11.7517805,
          0.20484072,
          2.7868495,
          -1.5774657,
          -1.5311502,
          -3.8656406,
          0.4271146,
          -2.8723924,
          5.9203997,
          -5.232056,
          -0.24970594,
          -2.4765625,
          2.7434037,
          0.87582994,
          0.88084066,
          3.9963386,
          -3.9167378,
          -4.9996486,
          7.074329,
          -3.1100616,
          3.5830023,
          -3.779102,
          -4.7915106,
          -4.743311,
          10.910229,
          4.2634745,
          -6.993236,
          -6.5497055,
          -0.7521152,
          4.0541577,
          -2.6691666,
          8.108606,
          -5.1333604,
          3.8608482,
          0.33893624,
          6.934236,
          -2.6510417,
          1.4383402,
          0.53022844,
          6.760468,
          5.6818066,
          -6.180394,
          -2.4978786,
          0.038401037,
          -1.4442176,
          -2.5954874,
          -3.2176592,
          -8.61493,
          -2.2587802,
          -1.0870595,
          -3.7476726,
          -3.8190894,
          -3.613742,
          7.3482018,
          1.8594838,
          5.7648053,
          -6.376992,
          -6.372324,
          -3.5927503,
          1.5082957,
          9.802503,
          9.794617,
          -6.318271,
          -2.7825809,
          2.1675322,
          0.6423654,
          0.6663213,
          -2.9526522,
          7.0929265,
          9.257086,
          1.9735458,
          -0.08724625,
          -7.179379,
          2.6211393,
          3.381639,
          3.230659,
          -2.5540147,
          1.4507812,
          -0.9103308,
          10.181446,
          -5.111386,
          0.9365622,
          4.976598,
          4.5306025,
          4.5373282,
          2.027268,
          2.0284436,
          -1.2159779,
          -4.1130877,
          5.905475,
          -9.639703,
          -7.2055798,
          -1.2108608,
          6.205906,
          6.1673303,
          2.30618,
          7.565101,
          -0.45219365,
          -1.0191578,
          -0.59753364,
          1.0083011,
          -8.040909,
          -4.056615,
          -5.152379,
          -2.3840594,
          9.712339,
          2.9683409,
          -7.284481,
          -8.665349,
          -6.0814786,
          0.40502468,
          -9.448364,
          0.91074145,
          4.4817266,
          -10.1736355,
          1.281654,
          -1.3071674,
          -1.1321677,
          0.6218013,
          -4.883366,
          -4.922167,
          -0.039143156,
          3.180414,
          1.2654573,
          -9.410096,
          1.2860229,
          7.5584073,
          7.5877304,
          -3.7552264,
          -3.514366,
          4.6531262,
          -3.7855427,
          -4.114436,
          -1.544071,
          -1.4068725,
          -2.5399487,
          1.3778207,
          -0.16196136,
          5.854596,
          -0.19467108,
          -3.3557796,
          11.097378,
          5.933592,
          10.722644,
          -1.3160003,
          5.280419,
          5.59086,
          -1.4466546,
          -7.393133,
          -8.30661,
          -5.5652456,
          -2.3718266,
          -0.8022145,
          3.6625977,
          -3.9919598,
          -3.9901767,
          -10.169356,
          2.0796921,
          3.9934192,
          1.2464409,
          5.867438,
          5.8903213,
          7.389915,
          1.707128,
          3.8777978,
          -1.7898223,
          7.1569395,
          -1.1623958,
          -1.539669,
          4.074944,
          -5.477535,
          -3.2190638,
          -0.4077115,
          -0.27239,
          -0.14997678,
          6.092269,
          7.7257056,
          7.7177844,
          -2.3785152,
          -4.5034294,
          -1.2695609,
          9.147099,
          4.708104,
          5.2540865,
          -2.5718184,
          -4.2946296,
          2.2889585,
          5.049822,
          -1.7740382,
          3.119806,
          -2.765079,
          -4.394326,
          2.04238,
          -0.5646736,
          -7.108824,
          2.1245418,
          -1.8785403,
          7.6299477,
          1.4239229,
          -1.0381757,
          1.7848442,
          -2.599026,
          7.4324775,
          -2.4961317,
          -1.9276174,
          10.600019,
          0.48395702,
          -9.334351,
          5.6154885,
          -4.160439,
          2.098641,
          -0.39874172,
          -2.5177872,
          8.7212305,
          4.7149267,
          -9.740397,
          -9.740086,
          1.0818013,
          -0.77086014,
          -0.95074934,
          -0.55551887,
          9.302756,
          -1.9773773,
          -0.4427615,
          -4.1789694,
          -0.7899108,
          -5.4361825,
          -5.4532323,
          7.523878,
          3.5070388,
          -4.07275,
          -2.2933779,
          -5.916776,
          2.6513174,
          -1.2764496,
          5.880178,
          -4.940791,
          0.33546823,
          -1.926674,
          10.995602,
          10.940308,
          -3.090332,
          -5.208529,
          3.61954,
          -5.036265,
          1.1349031,
          6.5527554,
          -6.7714024,
          -4.651206,
          1.7894468,
          0.54734313,
          6.3908277,
          10.240829,
          0.20406166,
          -5.315986,
          6.484088,
          -0.10748807,
          -0.09735256,
          4.7959776,
          5.375523,
          1.0534075,
          -1.2732503,
          4.4238653,
          -6.9028797,
          0.27010942,
          -2.549077,
          -9.093904,
          -5.073391,
          3.6751664,
          -3.5004056,
          -0.47210026,
          -6.111298,
          -7.3839293,
          0.6594617,
          6.8510346,
          4.096661,
          -3.3423383,
          -6.319273,
          -1.7649728,
          -1.7707021,
          -2.7674956,
          0.18985777,
          5.2941904,
          5.916663,
          1.8882694,
          -1.7453421,
          0.5586501,
          -1.367255,
          -4.4370227,
          -12.303244,
          -12.343955,
          3.9067466,
          -5.8273616,
          -6.931907,
          0.63550305,
          9.828277,
          -1.0769503,
          -9.354255,
          -0.16058105,
          1.7550709,
          -2.0466967,
          -6.7292743,
          0.85760766,
          -10.223004,
          1.3548434,
          3.0827007,
          -3.3769565,
          -1.174388,
          11.5272,
          0.18896344,
          -2.069867,
          0.75677854,
          -1.6206232,
          10.08444,
          -3.588271,
          -4.328451,
          -2.1998374,
          -8.1139,
          -8.070592,
          -7.6900997,
          12.322232,
          1.4297093,
          0.25497156,
          -2.5942554,
          -7.10925,
          -7.8472915,
          10.4533415,
          -6.895019,
          -4.2586102,
          -4.1726665,
          2.284875,
          -1.3235,
          -9.065812,
          -10.669723,
          -3.7419078,
          6.4287634,
          11.7104225,
          6.8214192,
          -0.025851632,
          -0.02306851,
          0.5926127,
          -7.7746596,
          -5.8647056,
          11.097886,
          2.3099651,
          -0.6608875,
          -0.36387923,
          -2.25953,
          5.8041964,
          12.308433,
          -2.8427122,
          9.651726,
          0.9251305,
          -4.6076226,
          -0.22262892,
          -3.722517,
          -3.7091074,
          -3.7273858,
          0.3547501,
          -1.2556534,
          5.0299373,
          -10.778687,
          -10.798423,
          -4.7990036,
          0.38355532,
          1.8520983,
          2.3869863,
          2.206404,
          2.2274435,
          -2.737583,
          -2.0636654,
          -3.1982129,
          3.638454,
          -2.1764238,
          -3.625408,
          1.2082257,
          1.2739084,
          6.220437,
          -0.424763,
          -0.58740425,
          10.453884,
          3.2668128,
          7.289507,
          7.7815523,
          7.854259,
          -1.8712986,
          6.0059423,
          5.2367373,
          -5.7264433,
          1.006948,
          -6.0884056,
          0.16801742,
          2.9451015,
          -5.342719,
          -5.471046,
          -1.0860653,
          -3.270941,
          4.906283,
          -2.4186516,
          -3.4792497,
          -3.4667232,
          2.082208,
          2.1057582,
          7.4790854,
          7.4999723,
          -1.0516119,
          11.83092,
          3.3198068,
          5.3872347,
          6.534139,
          0.40699142,
          7.6119003,
          -5.576888,
          -2.6514068,
          -3.1091034,
          -2.1109443,
          0.014416328,
          -0.32792082,
          12.595294,
          -1.695815,
          8.618437,
          5.9674773,
          1.0020661,
          -6.0050154,
          5.2874975,
          -6.159579,
          4.779463,
          4.7771106,
          -5.748918,
          2.2534113,
          -10.02691,
          -9.390606,
          5.944465,
          -9.787742,
          5.7847204,
          8.888943,
          -8.657237,
          4.3073664,
          -8.717719,
          -4.2757845,
          -0.20987022,
          0.021259848,
          0.10907493,
          -7.861765,
          0.92450464,
          0.7227801,
          -10.119874,
          6.700564,
          -1.5991619,
          5.4721847,
          -1.3310345,
          -2.220881,
          -1.565863,
          8.782083,
          3.8469188,
          1.5255876,
          -10.534116,
          10.970747,
          -0.64697134,
          0.63509333,
          2.214861,
          -4.4261475,
          5.799115,
          3.024655,
          9.30039,
          2.7631874,
          -4.463833,
          3.7152715,
          -5.8831515,
          -5.8688874,
          -5.5916576,
          -3.3856025,
          0.8597883,
          2.2878175,
          -1.5623446,
          -1.4555168,
          -8.7894745,
          0.95077765,
          -2.9352965,
          -2.9473722,
          -5.361734,
          -2.010206,
          5.091302,
          -2.2604427,
          10.234795,
          -4.3055058,
          -7.380272,
          10.424031,
          -4.622489,
          -2.50023,
          0.25811565,
          -0.86754304,
          1.4186842,
          8.800123,
          -4.820344,
          4.086557,
          -4.784707,
          1.9442414,
          7.5045056,
          -7.423406,
          7.2590475,
          3.7563457,
          -4.0576444,
          4.5275345,
          -8.899701,
          -2.9685652,
          11.55127,
          -8.441143,
          3.6810946,
          -0.34489682,
          -7.1322765,
          4.1960087,
          4.205216,
          0.056861658,
          5.3114696,
          -6.572132,
          0.8258074,
          -4.246517,
          -3.2869797,
          6.6492457,
          -4.139937,
          0.061077796,
          -8.7060375,
          3.5915434,
          -3.88067,
          -5.8121347,
          0.46366486,
          -0.63586116,
          -1.0637591,
          0.6229421,
          0.7719115,
          -3.1597745,
          11.67956,
          -9.726074,
          -1.4484135,
          -5.141897,
          -9.79144,
          10.197589,
          10.391193,
          2.9558573,
          -6.653846,
          -6.666955,
          -0.7088749,
          2.2223516,
          -6.43589,
          2.5134525,
          5.6172466,
          4.3267198,
          -2.2119515,
          10.063765,
          10.153377,
          -3.4621706,
          4.0558505,
          4.000188,
          -12.173297,
          -12.179835,
          8.67684,
          6.2043743,
          5.5379095,
          9.720946,
          9.747728,
          -1.1948841,
          3.7074206,
          -7.523635,
          2.529015,
          1.5530248,
          -1.8209535,
          7.6023498,
          -3.462995,
          8.38884,
          5.043983,
          6.3507442
         ],
         "yaxis": "y"
        }
       ],
       "layout": {
        "coloraxis": {
         "colorbar": {
          "title": {
           "text": "label"
          }
         },
         "colorscale": [
          [
           0,
           "#0d0887"
          ],
          [
           0.1111111111111111,
           "#46039f"
          ],
          [
           0.2222222222222222,
           "#7201a8"
          ],
          [
           0.3333333333333333,
           "#9c179e"
          ],
          [
           0.4444444444444444,
           "#bd3786"
          ],
          [
           0.5555555555555556,
           "#d8576b"
          ],
          [
           0.6666666666666666,
           "#ed7953"
          ],
          [
           0.7777777777777778,
           "#fb9f3a"
          ],
          [
           0.8888888888888888,
           "#fdca26"
          ],
          [
           1,
           "#f0f921"
          ]
         ]
        },
        "height": 600,
        "legend": {
         "tracegroupgap": 0
        },
        "margin": {
         "t": 60
        },
        "template": {
         "data": {
          "bar": [
           {
            "error_x": {
             "color": "#2a3f5f"
            },
            "error_y": {
             "color": "#2a3f5f"
            },
            "marker": {
             "line": {
              "color": "#E5ECF6",
              "width": 0.5
             },
             "pattern": {
              "fillmode": "overlay",
              "size": 10,
              "solidity": 0.2
             }
            },
            "type": "bar"
           }
          ],
          "barpolar": [
           {
            "marker": {
             "line": {
              "color": "#E5ECF6",
              "width": 0.5
             },
             "pattern": {
              "fillmode": "overlay",
              "size": 10,
              "solidity": 0.2
             }
            },
            "type": "barpolar"
           }
          ],
          "carpet": [
           {
            "aaxis": {
             "endlinecolor": "#2a3f5f",
             "gridcolor": "white",
             "linecolor": "white",
             "minorgridcolor": "white",
             "startlinecolor": "#2a3f5f"
            },
            "baxis": {
             "endlinecolor": "#2a3f5f",
             "gridcolor": "white",
             "linecolor": "white",
             "minorgridcolor": "white",
             "startlinecolor": "#2a3f5f"
            },
            "type": "carpet"
           }
          ],
          "choropleth": [
           {
            "colorbar": {
             "outlinewidth": 0,
             "ticks": ""
            },
            "type": "choropleth"
           }
          ],
          "contour": [
           {
            "colorbar": {
             "outlinewidth": 0,
             "ticks": ""
            },
            "colorscale": [
             [
              0,
              "#0d0887"
             ],
             [
              0.1111111111111111,
              "#46039f"
             ],
             [
              0.2222222222222222,
              "#7201a8"
             ],
             [
              0.3333333333333333,
              "#9c179e"
             ],
             [
              0.4444444444444444,
              "#bd3786"
             ],
             [
              0.5555555555555556,
              "#d8576b"
             ],
             [
              0.6666666666666666,
              "#ed7953"
             ],
             [
              0.7777777777777778,
              "#fb9f3a"
             ],
             [
              0.8888888888888888,
              "#fdca26"
             ],
             [
              1,
              "#f0f921"
             ]
            ],
            "type": "contour"
           }
          ],
          "contourcarpet": [
           {
            "colorbar": {
             "outlinewidth": 0,
             "ticks": ""
            },
            "type": "contourcarpet"
           }
          ],
          "heatmap": [
           {
            "colorbar": {
             "outlinewidth": 0,
             "ticks": ""
            },
            "colorscale": [
             [
              0,
              "#0d0887"
             ],
             [
              0.1111111111111111,
              "#46039f"
             ],
             [
              0.2222222222222222,
              "#7201a8"
             ],
             [
              0.3333333333333333,
              "#9c179e"
             ],
             [
              0.4444444444444444,
              "#bd3786"
             ],
             [
              0.5555555555555556,
              "#d8576b"
             ],
             [
              0.6666666666666666,
              "#ed7953"
             ],
             [
              0.7777777777777778,
              "#fb9f3a"
             ],
             [
              0.8888888888888888,
              "#fdca26"
             ],
             [
              1,
              "#f0f921"
             ]
            ],
            "type": "heatmap"
           }
          ],
          "heatmapgl": [
           {
            "colorbar": {
             "outlinewidth": 0,
             "ticks": ""
            },
            "colorscale": [
             [
              0,
              "#0d0887"
             ],
             [
              0.1111111111111111,
              "#46039f"
             ],
             [
              0.2222222222222222,
              "#7201a8"
             ],
             [
              0.3333333333333333,
              "#9c179e"
             ],
             [
              0.4444444444444444,
              "#bd3786"
             ],
             [
              0.5555555555555556,
              "#d8576b"
             ],
             [
              0.6666666666666666,
              "#ed7953"
             ],
             [
              0.7777777777777778,
              "#fb9f3a"
             ],
             [
              0.8888888888888888,
              "#fdca26"
             ],
             [
              1,
              "#f0f921"
             ]
            ],
            "type": "heatmapgl"
           }
          ],
          "histogram": [
           {
            "marker": {
             "pattern": {
              "fillmode": "overlay",
              "size": 10,
              "solidity": 0.2
             }
            },
            "type": "histogram"
           }
          ],
          "histogram2d": [
           {
            "colorbar": {
             "outlinewidth": 0,
             "ticks": ""
            },
            "colorscale": [
             [
              0,
              "#0d0887"
             ],
             [
              0.1111111111111111,
              "#46039f"
             ],
             [
              0.2222222222222222,
              "#7201a8"
             ],
             [
              0.3333333333333333,
              "#9c179e"
             ],
             [
              0.4444444444444444,
              "#bd3786"
             ],
             [
              0.5555555555555556,
              "#d8576b"
             ],
             [
              0.6666666666666666,
              "#ed7953"
             ],
             [
              0.7777777777777778,
              "#fb9f3a"
             ],
             [
              0.8888888888888888,
              "#fdca26"
             ],
             [
              1,
              "#f0f921"
             ]
            ],
            "type": "histogram2d"
           }
          ],
          "histogram2dcontour": [
           {
            "colorbar": {
             "outlinewidth": 0,
             "ticks": ""
            },
            "colorscale": [
             [
              0,
              "#0d0887"
             ],
             [
              0.1111111111111111,
              "#46039f"
             ],
             [
              0.2222222222222222,
              "#7201a8"
             ],
             [
              0.3333333333333333,
              "#9c179e"
             ],
             [
              0.4444444444444444,
              "#bd3786"
             ],
             [
              0.5555555555555556,
              "#d8576b"
             ],
             [
              0.6666666666666666,
              "#ed7953"
             ],
             [
              0.7777777777777778,
              "#fb9f3a"
             ],
             [
              0.8888888888888888,
              "#fdca26"
             ],
             [
              1,
              "#f0f921"
             ]
            ],
            "type": "histogram2dcontour"
           }
          ],
          "mesh3d": [
           {
            "colorbar": {
             "outlinewidth": 0,
             "ticks": ""
            },
            "type": "mesh3d"
           }
          ],
          "parcoords": [
           {
            "line": {
             "colorbar": {
              "outlinewidth": 0,
              "ticks": ""
             }
            },
            "type": "parcoords"
           }
          ],
          "pie": [
           {
            "automargin": true,
            "type": "pie"
           }
          ],
          "scatter": [
           {
            "fillpattern": {
             "fillmode": "overlay",
             "size": 10,
             "solidity": 0.2
            },
            "type": "scatter"
           }
          ],
          "scatter3d": [
           {
            "line": {
             "colorbar": {
              "outlinewidth": 0,
              "ticks": ""
             }
            },
            "marker": {
             "colorbar": {
              "outlinewidth": 0,
              "ticks": ""
             }
            },
            "type": "scatter3d"
           }
          ],
          "scattercarpet": [
           {
            "marker": {
             "colorbar": {
              "outlinewidth": 0,
              "ticks": ""
             }
            },
            "type": "scattercarpet"
           }
          ],
          "scattergeo": [
           {
            "marker": {
             "colorbar": {
              "outlinewidth": 0,
              "ticks": ""
             }
            },
            "type": "scattergeo"
           }
          ],
          "scattergl": [
           {
            "marker": {
             "colorbar": {
              "outlinewidth": 0,
              "ticks": ""
             }
            },
            "type": "scattergl"
           }
          ],
          "scattermapbox": [
           {
            "marker": {
             "colorbar": {
              "outlinewidth": 0,
              "ticks": ""
             }
            },
            "type": "scattermapbox"
           }
          ],
          "scatterpolar": [
           {
            "marker": {
             "colorbar": {
              "outlinewidth": 0,
              "ticks": ""
             }
            },
            "type": "scatterpolar"
           }
          ],
          "scatterpolargl": [
           {
            "marker": {
             "colorbar": {
              "outlinewidth": 0,
              "ticks": ""
             }
            },
            "type": "scatterpolargl"
           }
          ],
          "scatterternary": [
           {
            "marker": {
             "colorbar": {
              "outlinewidth": 0,
              "ticks": ""
             }
            },
            "type": "scatterternary"
           }
          ],
          "surface": [
           {
            "colorbar": {
             "outlinewidth": 0,
             "ticks": ""
            },
            "colorscale": [
             [
              0,
              "#0d0887"
             ],
             [
              0.1111111111111111,
              "#46039f"
             ],
             [
              0.2222222222222222,
              "#7201a8"
             ],
             [
              0.3333333333333333,
              "#9c179e"
             ],
             [
              0.4444444444444444,
              "#bd3786"
             ],
             [
              0.5555555555555556,
              "#d8576b"
             ],
             [
              0.6666666666666666,
              "#ed7953"
             ],
             [
              0.7777777777777778,
              "#fb9f3a"
             ],
             [
              0.8888888888888888,
              "#fdca26"
             ],
             [
              1,
              "#f0f921"
             ]
            ],
            "type": "surface"
           }
          ],
          "table": [
           {
            "cells": {
             "fill": {
              "color": "#EBF0F8"
             },
             "line": {
              "color": "white"
             }
            },
            "header": {
             "fill": {
              "color": "#C8D4E3"
             },
             "line": {
              "color": "white"
             }
            },
            "type": "table"
           }
          ]
         },
         "layout": {
          "annotationdefaults": {
           "arrowcolor": "#2a3f5f",
           "arrowhead": 0,
           "arrowwidth": 1
          },
          "autotypenumbers": "strict",
          "coloraxis": {
           "colorbar": {
            "outlinewidth": 0,
            "ticks": ""
           }
          },
          "colorscale": {
           "diverging": [
            [
             0,
             "#8e0152"
            ],
            [
             0.1,
             "#c51b7d"
            ],
            [
             0.2,
             "#de77ae"
            ],
            [
             0.3,
             "#f1b6da"
            ],
            [
             0.4,
             "#fde0ef"
            ],
            [
             0.5,
             "#f7f7f7"
            ],
            [
             0.6,
             "#e6f5d0"
            ],
            [
             0.7,
             "#b8e186"
            ],
            [
             0.8,
             "#7fbc41"
            ],
            [
             0.9,
             "#4d9221"
            ],
            [
             1,
             "#276419"
            ]
           ],
           "sequential": [
            [
             0,
             "#0d0887"
            ],
            [
             0.1111111111111111,
             "#46039f"
            ],
            [
             0.2222222222222222,
             "#7201a8"
            ],
            [
             0.3333333333333333,
             "#9c179e"
            ],
            [
             0.4444444444444444,
             "#bd3786"
            ],
            [
             0.5555555555555556,
             "#d8576b"
            ],
            [
             0.6666666666666666,
             "#ed7953"
            ],
            [
             0.7777777777777778,
             "#fb9f3a"
            ],
            [
             0.8888888888888888,
             "#fdca26"
            ],
            [
             1,
             "#f0f921"
            ]
           ],
           "sequentialminus": [
            [
             0,
             "#0d0887"
            ],
            [
             0.1111111111111111,
             "#46039f"
            ],
            [
             0.2222222222222222,
             "#7201a8"
            ],
            [
             0.3333333333333333,
             "#9c179e"
            ],
            [
             0.4444444444444444,
             "#bd3786"
            ],
            [
             0.5555555555555556,
             "#d8576b"
            ],
            [
             0.6666666666666666,
             "#ed7953"
            ],
            [
             0.7777777777777778,
             "#fb9f3a"
            ],
            [
             0.8888888888888888,
             "#fdca26"
            ],
            [
             1,
             "#f0f921"
            ]
           ]
          },
          "colorway": [
           "#636efa",
           "#EF553B",
           "#00cc96",
           "#ab63fa",
           "#FFA15A",
           "#19d3f3",
           "#FF6692",
           "#B6E880",
           "#FF97FF",
           "#FECB52"
          ],
          "font": {
           "color": "#2a3f5f"
          },
          "geo": {
           "bgcolor": "white",
           "lakecolor": "white",
           "landcolor": "#E5ECF6",
           "showlakes": true,
           "showland": true,
           "subunitcolor": "white"
          },
          "hoverlabel": {
           "align": "left"
          },
          "hovermode": "closest",
          "mapbox": {
           "style": "light"
          },
          "paper_bgcolor": "white",
          "plot_bgcolor": "#E5ECF6",
          "polar": {
           "angularaxis": {
            "gridcolor": "white",
            "linecolor": "white",
            "ticks": ""
           },
           "bgcolor": "#E5ECF6",
           "radialaxis": {
            "gridcolor": "white",
            "linecolor": "white",
            "ticks": ""
           }
          },
          "scene": {
           "xaxis": {
            "backgroundcolor": "#E5ECF6",
            "gridcolor": "white",
            "gridwidth": 2,
            "linecolor": "white",
            "showbackground": true,
            "ticks": "",
            "zerolinecolor": "white"
           },
           "yaxis": {
            "backgroundcolor": "#E5ECF6",
            "gridcolor": "white",
            "gridwidth": 2,
            "linecolor": "white",
            "showbackground": true,
            "ticks": "",
            "zerolinecolor": "white"
           },
           "zaxis": {
            "backgroundcolor": "#E5ECF6",
            "gridcolor": "white",
            "gridwidth": 2,
            "linecolor": "white",
            "showbackground": true,
            "ticks": "",
            "zerolinecolor": "white"
           }
          },
          "shapedefaults": {
           "line": {
            "color": "#2a3f5f"
           }
          },
          "ternary": {
           "aaxis": {
            "gridcolor": "white",
            "linecolor": "white",
            "ticks": ""
           },
           "baxis": {
            "gridcolor": "white",
            "linecolor": "white",
            "ticks": ""
           },
           "bgcolor": "#E5ECF6",
           "caxis": {
            "gridcolor": "white",
            "linecolor": "white",
            "ticks": ""
           }
          },
          "title": {
           "x": 0.05
          },
          "xaxis": {
           "automargin": true,
           "gridcolor": "white",
           "linecolor": "white",
           "ticks": "",
           "title": {
            "standoff": 15
           },
           "zerolinecolor": "white",
           "zerolinewidth": 2
          },
          "yaxis": {
           "automargin": true,
           "gridcolor": "white",
           "linecolor": "white",
           "ticks": "",
           "title": {
            "standoff": 15
           },
           "zerolinecolor": "white",
           "zerolinewidth": 2
          }
         }
        },
        "width": 900,
        "xaxis": {
         "anchor": "y",
         "domain": [
          0,
          1
         ],
         "title": {
          "text": "Dim_1"
         }
        },
        "yaxis": {
         "anchor": "x",
         "domain": [
          0,
          1
         ],
         "title": {
          "text": "Dim_2"
         }
        }
       }
      }
     },
     "metadata": {},
     "output_type": "display_data"
    }
   ],
   "source": [
    "# Wizualizacja wyników t-SNE\n",
    "fig = px.scatter(df_tsne, x='Dim_1', y='Dim_2', color='label',\n",
    "                 hover_data={'text': True, 'label': True}, width=900, height=600)\n",
    "\n",
    "fig.update_traces(marker=dict(size=10, opacity=0.7), selector=dict(mode='markers'))\n",
    "fig.show()\n"
   ]
  },
  {
   "cell_type": "code",
   "execution_count": 15,
   "metadata": {},
   "outputs": [],
   "source": [
    "# Klasteryzacja przy użyciu HDBSCAN\n",
    "clusterer = hdbscan.HDBSCAN(min_cluster_size=2)\n",
    "df_tsne['cluster'] = clusterer.fit_predict(tfidf_tsne)\n"
   ]
  },
  {
   "cell_type": "code",
   "execution_count": 16,
   "metadata": {},
   "outputs": [
    {
     "data": {
      "application/vnd.plotly.v1+json": {
       "config": {
        "plotlyServerURL": "https://plot.ly"
       },
       "data": [
        {
         "customdata": [
          [
           "Dla mnie faworytem do tytułu będzie Cracovia. Zobaczymy, czy typ się sprawdzi."
          ],
          [
           "@anonymized_account @anonymized_account Brawo ty Daria kibic ma być na dobre i złe"
          ],
          [
           "@anonymized_account @anonymized_account Super, polski premier składa kwiaty na grobach kolaborantów. Ale doczekaliśmy czasów."
          ],
          [
           "@anonymized_account @anonymized_account Musi. Innej drogi nie mamy."
          ],
          [
           "Odrzut natychmiastowy, kwaśna mina, mam problem"
          ],
          [
           "Jaki on był fajny xdd pamiętam, że spóźniłam się na jego pierwsze zajęcia i to sporo i za karę kazał mi usiąść w pierwszej ławce XD"
          ],
          [
           "@anonymized_account No nie ma u nas szczęścia 😉"
          ],
          [
           "@anonymized_account Dawno kogoś tak wrednego nie widziałam xd"
          ],
          [
           "@anonymized_account @anonymized_account Zaległości były, ale ważne czy były wezwania do zapłaty z których się klub nie wywiązał."
          ],
          [
           "@anonymized_account @anonymized_account @anonymized_account Gdzie jest @anonymized_account . Brudziński jesteś kłamcą i marnym kutasem @anonymized_account"
          ],
          [
           "@anonymized_account @anonymized_account  no mam nadzieje !!:)"
          ],
          [
           "@anonymized_account @anonymized_account Może gustował w starszych paniach ;-)"
          ],
          [
           "@anonymized_account Zostawiłam tam 3 lata temu \\\"Notatki na mankietach\\\". Muszę się wrócić."
          ],
          [
           "@anonymized_account Oprawa do Krzysia M. Ps Pinokio -\\n\\\" mogłeś być gangsterem a zostałeś 3 ligowym frajerem \\\"😀"
          ],
          [
           "@anonymized_account @anonymized_account Znowu będzie komunikat o polskich piratach drogowych w Słowacji."
          ],
          [
           "@anonymized_account Mówi człowiek, który chciał nałożyć sankcje na Polskę. Gratulacje. #Niepodlegla #11lisopada"
          ],
          [
           "RT @anonymized_account @anonymized_account Mówi człowiek, który chciał nałożyć sankcje na Polskę. Gratulacje. #Niepodlegla #11lisopada"
          ],
          [
           "@anonymized_account @anonymized_account o jakim zachowaniu \\\"fer\\\" mówisz skoro ukrywał się z tym że podpisał kontrakt z Legią ? Możesz rozwinąć ?"
          ],
          [
           "@anonymized_account @anonymized_account Joanno! Po raz pierwszy się z panią zgadzam.😁😁😁😁😁"
          ],
          [
           "Monster block, monster block, monster block... 😁"
          ],
          [
           "@anonymized_account Czyżby Madryt brał przykład z Warszawy?"
          ],
          [
           "@anonymized_account @anonymized_account No to Skończmy kurwa z tym wersalem w j...ej szczujni"
          ],
          [
           "@anonymized_account Nie wiem, najczęściej grają na zmianę na prawym skrzydle."
          ],
          [
           "@anonymized_account No to Pan i koledzy macie z głowy. Przesrane tak reszta życia pod górkę."
          ],
          [
           "@anonymized_account A ja obstawiam, że pójdą bardziej w stronę tego, że może się powtórzyć sytuacja z Meresińskim."
          ],
          [
           "Aaaaa Kuba mi odpisał hehehehehe"
          ],
          [
           "Asysta Kacpra Falona i 3:1 dla Widzewa. Witamy Widzew w II lidze. No i w sumie fajnie."
          ],
          [
           "@anonymized_account gwizdali na niego ? Bo nie oglądałem meczu :)"
          ],
          [
           "@anonymized_account @anonymized_account ale może w końcu dojdzie do wniosku że skoro go klub już nie jara to lepiej go sprzedać i mieć po kłopocie"
          ],
          [
           "@anonymized_account @anonymized_account Hej halo, o czym to jest bo mam na swojej liście i nie wiem czy warto??"
          ],
          [
           "dorosłe życie nie jest dla mnie"
          ],
          [
           "RT @anonymized_account dorosłe życie nie jest dla mnie"
          ],
          [
           "@anonymized_account Cześć Paderewski, część opalające się nogi"
          ],
          [
           "@anonymized_account @anonymized_account @anonymized_account Uprowadź gumową kaczuszkę. Zacznie negocjować."
          ],
          [
           "@anonymized_account Już wiem ze się nie dogadamy XD"
          ],
          [
           "@anonymized_account Ale to w nowym przekładzie, jeszcze nie czytałam."
          ],
          [
           "@anonymized_account Lahoza mi nigdy nie szkoda. Wolę, jak na pierwszym planie są piłkarze, a nie sędzia :-)"
          ],
          [
           "@anonymized_account @anonymized_account Sprawdź chłopie w słowniku co oznacza słowo , którego używasz a potem się odzywaj."
          ],
          [
           "@anonymized_account zmieńcie se nazwe na profilu na insta bo się nazywacie Grzegorz Ożóg..."
          ],
          [
           "#Woronicza 17 poseł Halicki oburzony za Bolka.Naprawdè taki tępy czy tylko udaje idiotę?"
          ],
          [
           "„Ta aktorka ma 20 lat?!?! Jaka stara!!” \\n\\nChyba musimy się już do grobu pakować roczniku 98 😂👌🏻"
          ],
          [
           "RT @anonymized_account „Ta aktorka ma 20 lat?!?! Jaka stara!!” \\n\\nChyba musimy się już do grobu pakować roczniku 98 😂👌🏻"
          ],
          [
           "Ahnherr der Schtwätzer wykonawcy Von Spar\\nhttps://t.co/SOtenSqIr0"
          ],
          [
           "@anonymized_account @anonymized_account @anonymized_account Bierze cie cie pod chuj a ty sie produkujesz"
          ],
          [
           "@anonymized_account @anonymized_account @anonymized_account Jak narazie to masz przywidzenia co nie zmienia faktu że cały czas jesteś idiotą."
          ],
          [
           "@anonymized_account Kiedy do licznika dojdą bilety z fan clubow?"
          ],
          [
           "@anonymized_account A kto prowadzi zespół ? Będzie podany skład z tego meczu ?"
          ],
          [
           "@anonymized_account Główny powód to brak kasy, trzeba dać bogatym 500+,300+ i być bez godności i honoru"
          ],
          [
           "Zrobiłam takie Cv że ohohohoho"
          ],
          [
           "Świętować uchwalenie Konstytucji 3 maja i łamać Konstytucję RP obecnie obowiązującą?!\\n#3Maja - dzień hipokryzji."
          ],
          [
           "RT @anonymized_account Świętować uchwalenie Konstytucji 3 maja i łamać Konstytucję RP obecnie obowiązującą?!\\n#3Maja - dzień hipokryzji."
          ],
          [
           "@anonymized_account @anonymized_account nie gra bo jest Jovanović i Guilherme"
          ],
          [
           "@anonymized_account O tej godz. sporty szanuj ciało"
          ],
          [
           "Nikt nigdy nie rozsiewał takiego smrodu jak @anonymized_account"
          ],
          [
           "Nikt cię tak dobrze nie ubierze jak matka chrzestna dziecino"
          ],
          [
           "@anonymized_account @anonymized_account Nikt tutaj nie chce plagiaciarzy kopiujących brytyjskich pisarzy."
          ],
          [
           "@anonymized_account A ksiądz co bierze 12 tyś za spowiedź przez tel?"
          ],
          [
           "@anonymized_account Koń też ma dużą głowę. Tylko wydaje mi się, że jest bardziej inteligentny niż Karczewski"
          ],
          [
           "@anonymized_account Pod i górę  pod wiatr to więcej niż k2"
          ],
          [
           "@anonymized_account Sędziowie VAR nie decydują o karnych 😉"
          ],
          [
           "Jakiś program na TVN, nauka jazdy za kierownicą babcia śpiewa \\\"jadą jadą jadą świry jadą\\\" jadą jadą jadą świry jadą\\\""
          ],
          [
           "@anonymized_account ta obecna Zary Larsson czy Pitbulla z ostatnich MŚ nie były złe :)"
          ],
          [
           "(280 znaków w jednym zdaniu 🙈)"
          ],
          [
           "@anonymized_account po wahaniach wagi Kwacha wznoszę że to może być kapuścianka"
          ],
          [
           "@anonymized_account @anonymized_account w tym sezonie razem z pucharem 12 meczy i 1 gol.Mójta więcej strzelił.Sorry patrze w statystyki."
          ],
          [
           "@anonymized_account @anonymized_account @anonymized_account finały tblk były przyzwoicie sędziowane ?! Aha..."
          ],
          [
           "@anonymized_account Taki miałam właśnie, teraz kupiłam z catrice"
          ],
          [
           "@anonymized_account to ich wymień.W czym problem ?"
          ],
          [
           "@anonymized_account @anonymized_account @anonymized_account a ja mam ciepełko jak się przytule do swoich kotów :)"
          ],
          [
           "@anonymized_account Właśnie. Ilu! Najpierw odpowiedzmy sobie ma to pytanie,a potem dziwmy się zwycięstwu Zdanowskiej"
          ],
          [
           "@anonymized_account W jego przypadku statystyka przebiegniętych kilometrów nie ma znaczenia. Czy gra zajebiście, czy fatalnie, biega tyle samo."
          ],
          [
           "@anonymized_account @anonymized_account 100%, Mann też miał pełne prawo"
          ],
          [
           "@anonymized_account Kończyłeś już kilka razy 😂"
          ],
          [
           "@anonymized_account Dzisiaj zajmujemy się WARiatem Krystyną ciekawe czy będzie płakał?"
          ],
          [
           "@anonymized_account @anonymized_account @anonymized_account @anonymized_account A co będzie jak Kuba nigdy niewroci?"
          ],
          [
           "@anonymized_account Tym w sejmie też? Banda hipokrytów i złodziei."
          ],
          [
           "W każdej z czterech grup będzie walka o zwycięstwo premiowane awansem do CLJ. Bardzo potrzebne rozwiązanie, brawo."
          ],
          [
           "@anonymized_account Tak się poznałam z moim chłopakiem 😂 czasami warto"
          ],
          [
           "@anonymized_account nelly furtado a tytuł forco czy cos takiego"
          ],
          [
           "@anonymized_account Mów prawdę, kto was skrzywdził"
          ],
          [
           "@anonymized_account jestem tu od 2013 xd"
          ],
          [
           "@anonymized_account Ta kadra to rocznik 2002"
          ],
          [
           "Posiada sensor CGM , ciągły monitoring glikemii, w końcu."
          ],
          [
           "Jeszcze żaden Polak nie wystąpił w meczu gwiazd NBA, nie licząc Mietka Paciaciaka ;) Pomóżmy Marcinowi Gortatowi być 1 @anonymized_account #NBAVOTE"
          ],
          [
           "RT @anonymized_account Jeszcze żaden Polak nie wystąpił w meczu gwiazd NBA, nie licząc Mietka Paciaciaka ;) Pomóżmy Marcinowi Gortatowi być 1…"
          ],
          [
           "@anonymized_account No kurwa myślałem że na Podlasiu"
          ],
          [
           "@anonymized_account @anonymized_account Tak, to nawet lepsze rozwiązanie."
          ],
          [
           "@anonymized_account @anonymized_account Koń by się uśmiał, TVN24 i TVN wolne media? Bardziej perfidnego łgarstwa nie słyszałem.. 🤔"
          ],
          [
           "RT @anonymized_account @anonymized_account @anonymized_account Koń by się uśmiał, TVN24 i TVN wolne media? Bardziej perfidnego łgarstwa nie słyszałem.. 🤔"
          ],
          [
           "@anonymized_account Gdzie ja wtedy byłam? ;-)"
          ],
          [
           "@anonymized_account @anonymized_account @anonymized_account Midze sie nudziło i se coś na kolanie napisał i macie sensacje"
          ],
          [
           "@anonymized_account Dzisiaj wrócił do treningów, czyli zdążyli 😉"
          ],
          [
           "@anonymized_account @anonymized_account @anonymized_account @anonymized_account Nie wiem, zerknij na 90minut"
          ],
          [
           "@anonymized_account @anonymized_account Z motłochem nie dyskutuję tylko daje bany. A Pani @anonymized_account gratuluję obrońcy."
          ],
          [
           "@anonymized_account możesz też zawsze po prostu zapytać kiedy się urodziłam. Albo wpisać hasztag #100latKasiaPawlak ;-)"
          ],
          [
           "@anonymized_account ale z kategoriami moim zdaniem przesadzają.Sponsor roku, serce, impreza ? Bez jaj"
          ],
          [
           "@anonymized_account Prezes się cieszy ze Wisla odpadła bo w razie finału Legia-Wisla znów by musiał finał odwoływać"
          ],
          [
           "Bratowa wysłała mi zdjęcie bratanicy z rozpoczęcia roku, idzie do pierwszej klasy, biedactwo nie wie co ją czeka"
          ],
          [
           "@anonymized_account szybkie pytanie do @anonymized_account Ręka Sadloka była zagraniem umyślnym ?"
          ],
          [
           "@anonymized_account Dzień w którym Abidal sprzedał i kupił A.Vidala 😉"
          ],
          [
           "@anonymized_account Równie dobrze można gola stracić :)"
          ],
          [
           "@anonymized_account Chorwaci przerżną w końcówce dogrywki, wiadomo."
          ],
          [
           "@anonymized_account Nasze dzieci będą zdegustwani, był taki PiS, taki @anonymized_account , historia populizmu i głupoty w latach 2015-2019, margines"
          ],
          [
           "@anonymized_account O, myślałam, że nikt już nie używa \\\"mnie\\\" tylko \\\"mi\\\"."
          ],
          [
           "@anonymized_account @anonymized_account @anonymized_account Na nowym stadionie West Hamu też to widziałem."
          ],
          [
           "@anonymized_account @anonymized_account zawodnik w sezonie może grać w barwach dwóch klubów więc jeszcze nic straconego :)"
          ],
          [
           "ciekawe czy faktycznie jest taki zakład bo jeśli tak to nieźle XD"
          ],
          [
           "@anonymized_account Hehe, do gazu, hehe jeszcze jakieś emotikony wrzuć"
          ],
          [
           "Qrwa!! I niech mi nikt nie mówi, że czary to jakiś zabobon!! Chłopaki mają sztywne nogi!"
          ],
          [
           "Od 01.10.2018 każde sprawozdanie finansowe w formie elektronicznej, zgodne ze strukturą jpk"
          ],
          [
           "Na TVP Kraków padła właśnie informacja że rozmowy z potencjalnym kupcem Wisły przełożony z dziś na jutro."
          ],
          [
           "RT @anonymized_account Na TVP Kraków padła właśnie informacja że rozmowy z potencjalnym kupcem Wisły przełożony z dziś na jutro."
          ],
          [
           "@anonymized_account NIECH JESZCZE DADZĄ LEKTORA I NA GŁÓWNA POSTAĆ MÓWIĄ NADZIEJA"
          ],
          [
           "RT @anonymized_account @anonymized_account NIECH JESZCZE DADZĄ LEKTORA I NA GŁÓWNA POSTAĆ MÓWIĄ NADZIEJA"
          ],
          [
           "@anonymized_account Nie no ludzie, żeby robić artykuł na temat jednego tweeta ?..."
          ],
          [
           "@anonymized_account Jak powiem, że pierwsze słysze, to będzie kompromitacja czy nie? 😄"
          ],
          [
           "@anonymized_account Usuń konto, wytrzeźwiej buduj od nowa"
          ],
          [
           "@anonymized_account @anonymized_account @anonymized_account Sekta, cha, cha, cha, obudź się z hipnozy, jesteś bolszewikiem"
          ],
          [
           "Nie wstanę kurde nie ma opcji"
          ],
          [
           "@anonymized_account @anonymized_account Spokojnie, u mnie też Kaczarawa na kapitanie + Cvijanović :)"
          ],
          [
           "niech ładny chłopiec z kręconymi włosami do mnie napisze: jutro, zaraz, teraz"
          ],
          [
           "RT @anonymized_account niech ładny chłopiec z kręconymi włosami do mnie napisze: jutro, zaraz, teraz"
          ],
          [
           "@anonymized_account im ktoś gorzej widzi, dłużej musi czekać, choć ten, który widzi lepiej, dłużej poradzi sobie bez okularów. 😨"
          ],
          [
           "@anonymized_account Oj, no to powodzenia! Co tam będziesz musiała robić? 🤭"
          ],
          [
           "@anonymized_account @anonymized_account @anonymized_account @anonymized_account Chyba nie, Marcin mówił coś o '89."
          ],
          [
           "@anonymized_account Przeczytaj mojego kolejnego twitta to zobaczysz, że nie umknęło i co sądze o poziomie tego meczu."
          ],
          [
           "@anonymized_account Tylko nie w dupę, to dla niektórych z nich byłaby przyjemność."
          ],
          [
           "@anonymized_account @anonymized_account Widać chcą wiecej polskich mord gotujacych koninę"
          ],
          [
           "@anonymized_account No to jak się przegrywa cały czas to lepiej przestać grać :)"
          ],
          [
           "@anonymized_account @anonymized_account @anonymized_account Widzę, że sami się znajdują."
          ],
          [
           "@anonymized_account Napewno mam niezaktualizowanego może dlatego"
          ],
          [
           "@anonymized_account @anonymized_account Smokowski mówił że Wisła ma piłkarzy 3 sortu, a Wieszczycki deprecjonował dobrą prace Kiko"
          ],
          [
           "więc zaczynam oglądać Do wszystkich chłopców, których kochałam bo wszyscy o tym mówią i aż chcę to sprawdzić"
          ],
          [
           "@anonymized_account Ban,ban i jeszcze raz ban! Co za prymitywne dno!"
          ],
          [
           "@anonymized_account @anonymized_account Jasne, bo debile oglądający tvpis płaczą tylko na m jak miłość"
          ],
          [
           "@anonymized_account @anonymized_account @anonymized_account W stop klatkach widać ze jak by to było po stronie drugiej (legi) to karny by był"
          ],
          [
           "Zdrady stanu to Donald Tusk dopuścił się już w 2010 r kiedy dodał Rosjanom śledztwo w sprawie katastrofy smoleńskiej."
          ],
          [
           "@anonymized_account Na marginesie jestem córką biskupa"
          ],
          [
           "@anonymized_account Przejdzie historii: jak tworzyć kłamstwo w dobie powszechnego dostępu do informacji"
          ],
          [
           "@anonymized_account Od ok 8 lat używam kolejnych modeli HTC i nigdy mnie nie zawiodły."
          ],
          [
           "@anonymized_account @anonymized_account Ty się oszuście i kłamco od nas odpierdol. My sobie damy radę bez twoich kłamstw"
          ],
          [
           "@anonymized_account @anonymized_account @anonymized_account odważne słowa jak na legioniste! 😂😂😂"
          ],
          [
           "@anonymized_account @anonymized_account Załatwi to jedno głosowanie w sejmie i żadne demonstracje nie będą miały na to wpływu."
          ],
          [
           "@anonymized_account @anonymized_account @anonymized_account Krzyż celtycki w Irlandii debilu ma kompletnie inne znaczenie niż u neofaszystów."
          ],
          [
           "@anonymized_account Coś w tym jest,bo ja też😁😁😁. I jeszcze bym dodał Dominisię W. której infantylizm mnie totalnie osłabia."
          ],
          [
           "@anonymized_account @anonymized_account Gdzie oni znajdują takich dupków"
          ],
          [
           "mój stres zaczął się stresować swoim własnym stresem, które również się stresuje ja pierdole dość"
          ],
          [
           "RT @anonymized_account mój stres zaczął się stresować swoim własnym stresem, które również się stresuje ja pierdole dość"
          ],
          [
           "@anonymized_account @anonymized_account @anonymized_account @anonymized_account @anonymized_account dojdzie Brlek, Stilić wróci do formy, obcokrajowcy się zaaklimatyzują i bedzie dobrze💪"
          ],
          [
           "@anonymized_account @anonymized_account @anonymized_account Brawo grzechu za Twój powrót do żywych\\n W Rosji pokaż swoją moc"
          ],
          [
           "@anonymized_account @anonymized_account @anonymized_account @anonymized_account Wonder!! Chyba cię....😁😁😁😁😁.No dobra. Na jaki?😁😁😁"
          ],
          [
           "@anonymized_account Ja mam uczulenie na dobrą zmianę, ale to dłuższa historiac"
          ],
          [
           "@anonymized_account Różnicy nie ma, bo pisali wtedy, że nie można zsyłać zawodników do rezerw ;P"
          ],
          [
           "@anonymized_account Żal ci biedaku??? Gdyby nie Kaczyński to by je twoi przyjaciele z PO rozkradl"
          ],
          [
           "RT @anonymized_account @anonymized_account Żal ci biedaku??? Gdyby nie Kaczyński to by je twoi przyjaciele z PO rozkradl"
          ],
          [
           "Dobry dzień na przypomnienie sobie genezy gwiazdek na fladze #UE #deklaracjaRzymska"
          ],
          [
           "Sekta kurwa, jakaś niepojęta radość, każde konto pisdzielskie tylko o jednym"
          ],
          [
           "@anonymized_account @anonymized_account Nie wierzę, bez zaświadczenia od proboszcza?"
          ],
          [
           "@anonymized_account I chyba wtedy byś niezaprzeczyla?"
          ],
          [
           "@anonymized_account Tak naprawdę czy będziemy w spadkowej czy mistrzowskiej to i tak czekają nas sparingi."
          ],
          [
           "@anonymized_account Jebać, jebać, nic się nie bać."
          ],
          [
           "@anonymized_account Jakiej pracy, ty już pajacu nie wiesz na czym się lansować. Sejm nie pracuje."
          ],
          [
           "Kilogramy rozmnażają się przez pączkowanie 😣😖\\n#TłustyCzwartek"
          ],
          [
           "@anonymized_account @anonymized_account Nie działają i lepiej działać szybko bo klienci nie maja dostępu do środków na kontach"
          ],
          [
           "@anonymized_account @anonymized_account @anonymized_account jutro walczycie ? Normalnie rycerze ! A gdzie byliście wcześniej ? A zapomniałem że nie o L chodziło"
          ],
          [
           "@anonymized_account Ale to głupie, rdzennie głupie, bardziej głupie już być nie może"
          ],
          [
           "@anonymized_account Szczególnie Vestenicky.Podczas wypożyczenia nic nie pokazał a go wykupili za 500 tys euro 😂👏"
          ],
          [
           "@anonymized_account Już się boję. Postraszy mnie Pan kolegami narodowcami?"
          ],
          [
           "@anonymized_account Co nie było blisko? Bo nie rozumiem."
          ],
          [
           "@anonymized_account @anonymized_account A od kiedy komentatorzy na Sky to wyrocznia?"
          ],
          [
           "@anonymized_account @anonymized_account Nazwisko tego babska😁😁😁😁. Bo Wczoraj był na MO😁😁😀"
          ],
          [
           "@anonymized_account Zbiera się do kontrataku, dla swojego pryncypala pójdzie w bój, patrityczna dusza,  co nie @anonymized_account ?"
          ],
          [
           "@anonymized_account a w kolejnych fajnie jakby grał na lewej za Sadloka @anonymized_account"
          ],
          [
           "@anonymized_account byłem w pracy ale zaraz odpalam meczyk na yt.Dzięki za walke !!!!:)"
          ],
          [
           "@anonymized_account @anonymized_account jakie 0 motywacji ? Jest chyba różnica mieć medal albo go niemieć"
          ],
          [
           "@anonymized_account Niby nie macie czy niby nie mit? 😂😂"
          ],
          [
           "@anonymized_account Ja bym był ostrożny😁😁😁A jak ma na imię?"
          ],
          [
           "@anonymized_account @anonymized_account @anonymized_account Tak to jest jak ktoś nie wie do którego lekarza iść najpierw."
          ],
          [
           "@anonymized_account @anonymized_account No nie dziwie się w sumie. Dobrze, że tylko raz dzwonił"
          ],
          [
           "@anonymized_account @anonymized_account Wasz świat? To się w nim zamknijcie i nie wystawiajcie nosa."
          ],
          [
           "@anonymized_account @anonymized_account Przyjaciół to niech on sobie szuka za swoje prywatne pieniądze. I niech robi z siebie idiotę na własny rachunek."
          ],
          [
           "imagine sie komus podobac??? ze ktos sie stara o TWOJA uwage??? can’t relate"
          ],
          [
           "RT @anonymized_account imagine sie komus podobac??? ze ktos sie stara o TWOJA uwage??? can’t relate"
          ],
          [
           "@anonymized_account @anonymized_account @anonymized_account a Portugalia jak zagrała ?"
          ],
          [
           "Pierwsze zdanie: \\\"Paczka papierosów kosztuje 4 miliardy marek\\\".\\n#JajoWęża teraz na @anonymized_account"
          ],
          [
           "@anonymized_account @anonymized_account No to tym bardziej :)"
          ],
          [
           "@anonymized_account Ja przynajmniej mam profilowe i nie chowam się za awatarem. Ale bohaterów MW na to nie stać i w sumie nic w tym dziwnego."
          ],
          [
           "@anonymized_account Czego się spodziewać po członku żydowskiego amerykańskiego lobby. Lata na kolanach przed żydami zrobiło swoje."
          ],
          [
           "RT @anonymized_account @anonymized_account Czego się spodziewać po członku żydowskiego amerykańskiego lobby. Lata na kolanach przed żydami zrobiło swoj…"
          ],
          [
           "@anonymized_account Co ty człowieku pijesz z rana?"
          ],
          [
           "@anonymized_account @anonymized_account pewnie narządy też wkrótce sprzeda :D"
          ],
          [
           "@anonymized_account w zeszłym sezonie to samo pisałeś ?"
          ],
          [
           "Picie to przyszłość, piękna i nieznana, szukajcie zapomnienia, próbujcie różnych trunków, łączcie środki psychoaktywne, powodzenia"
          ],
          [
           "@anonymized_account Ale ty jesteś żenujący. Dno metr mułu."
          ],
          [
           "@anonymized_account spoko, nigdy nie daje unfollow aktywnym ludziom, tylko tym, którzy nie piszą nic od miesięcy albo dali mi unfollow"
          ],
          [
           "\\\"- Co to jest tajmlajn na fejsie?\\n- Zmarszczki\\\"."
          ],
          [
           "@anonymized_account może trzeba chłopaków na crossfit zabierać ?:)"
          ],
          [
           "@anonymized_account znacznie bliżej jest mi muzułmanin  czy indus, niż katolicka, łysa swołocz ze wschodu europy, do tego rasistowska"
          ],
          [
           "Dzisiaj o 18.00 Strefa Kibica w Radiu Akadera. Zapraszamy."
          ],
          [
           "@anonymized_account Nie powinno być źle o ile się utrzymamy :P"
          ],
          [
           "@anonymized_account Spokojnie trzeba ta porażkę wziąść na klatę mecz się tak ułożył nie inaczej napewno gorsi dużo my niebyli."
          ],
          [
           "@anonymized_account Ale się cieszą. Wreszcie koniec i będzie można wypić te.zapasy z plecaka."
          ],
          [
           "@anonymized_account @anonymized_account Ofertę przedłużenis kontraktu ponoć dostał od Wisły, ale jej nie zaakceptował."
          ],
          [
           "Dziś o godz. 20:00 Prezydent RP wygłosi orędzie."
          ],
          [
           "RT @anonymized_account Dziś o godz. 20:00 Prezydent RP wygłosi orędzie."
          ],
          [
           "@anonymized_account myślałem że się przychodzi na stadion dla drużyny a nie na poszczególnych piłkarzy"
          ],
          [
           "@anonymized_account kibicom chodzi raczej o postawe dziennikarzy a nie klubu."
          ],
          [
           "@anonymized_account @anonymized_account Nie trzeba Algierczyków, wystarczy kilku polskich katechetów."
          ],
          [
           "@anonymized_account Barcelona z Messim (ta obecna) by taki mecz wygrała 1:0, albo jakiś Suarez by coś wcisnął :P"
          ],
          [
           "@anonymized_account @anonymized_account TW Wolfgang, TW Faraon i TW Rycerz,TW Balbina, TW Michał \\nKto mieczem wojuje, ten od pochwy ginie"
          ],
          [
           "@anonymized_account @anonymized_account Zgadza się ale przecież nas niestac żeby komin płacowy zacząć od.carlitosa"
          ],
          [
           "@anonymized_account @anonymized_account @anonymized_account Low kick, kolano łokieć, blacha na czoło i stara leży"
          ],
          [
           "@anonymized_account Niestety obrazki będą też zielone, czarne i brunatne."
          ],
          [
           "Ktoś założył fejkowe konto i ogląda WSZYSTKIE moje story"
          ],
          [
           "@anonymized_account @anonymized_account Życie, zdarza się. Jednak od takiego rzutu wolnego do gola droga dość daleka."
          ],
          [
           "@anonymized_account a wydanie 500 tys euro gdy się nie ma pieniędzy nie jest strzałem w kolano ?"
          ],
          [
           "@anonymized_account Wio endekdu, ścierwa, zdrajcy, szubienica"
          ],
          [
           "@anonymized_account nie dziwie się, to było dość cwane :)"
          ],
          [
           "@anonymized_account Raczey! Jutro będzie jej odczytywane przez cały dzień ;-)"
          ],
          [
           "@anonymized_account Kto będzie pił te mleko, gdzie będą jeździły tiry, meble, okna ty maly kogucie"
          ],
          [
           "@anonymized_account @anonymized_account @anonymized_account @anonymized_account Nie myli się tylko ten, co nic nie robi."
          ],
          [
           "Mama będzie mi obcinać włosy boje się"
          ],
          [
           "@anonymized_account @anonymized_account @anonymized_account @anonymized_account No to muszą ci nieźle płacić za wierszówki."
          ],
          [
           "@anonymized_account czy masz info jakie obecnie Ondrasek ma zarobki w Wiśle?"
          ],
          [
           "@anonymized_account Jaka kwota wykupienia go po roku??"
          ],
          [
           "@anonymized_account @anonymized_account @anonymized_account Dla kogo pracował? Nie przy śniadaniu bo się udławić można z wrażenia. Poproszę 5 przykładów zatem."
          ],
          [
           "@anonymized_account @anonymized_account @anonymized_account Widzę, że dalej nie rozumiesz. No nic idę oglądać LM. Pozdro."
          ],
          [
           "@anonymized_account @anonymized_account jeśli masz TV włączony od 8:00 do 1:00, a reklama pojawia się 3 x na godzinę, po 2 mies. jesteś na granicy obłędu."
          ],
          [
           "@anonymized_account @anonymized_account A co o włoskich faszystach i węgierskich nacjonalistach?"
          ],
          [
           "@anonymized_account @anonymized_account Dojenie kasy przez rząd\\nKompromitacja Morawieckiego w Niemczech\\nKaczyński twórca państwa Polskiego w 2016 roku"
          ],
          [
           "@anonymized_account Jeszcze w nastepnej kolejce pewnie jakis piątek"
          ],
          [
           "@anonymized_account @anonymized_account i oczywiście było pytanie czy nie boi się o przyszłość Wisły 😂 przechodzicie samych siebie"
          ],
          [
           "@anonymized_account no ja właśnie to samoXD znaczy wiem ze Emre wbija często, bo jego żona jest polką ale no"
          ],
          [
           "@anonymized_account Nic nie mogą. Ale ich brak może spowodować, że strajkujący szybciej się z Sejmu wyniosą."
          ],
          [
           "@anonymized_account @anonymized_account @anonymized_account Przecież jak go zamkną to o czym ty będziesz pisał ? Twoje życie straci sens..."
          ],
          [
           "@anonymized_account @anonymized_account To zaraz porobie screeny od momentu od którego jest zablokowane :)"
          ],
          [
           "@anonymized_account Ktoś przestał słodzić, ktoś kto dużo słodził"
          ],
          [
           "@anonymized_account @anonymized_account @anonymized_account No to po co się zgodził na klauzule dopiero po zakończeniu przyszłego sezonu, a nie od razu ?"
          ],
          [
           "@anonymized_account Jest to prawda. Ale MSZ powinien. On pewnie myślał, że jest w Pisowskiej Polsce i wszystkoi wolno.😀😀😀"
          ],
          [
           "@anonymized_account delikatnie nie po drodze :D"
          ],
          [
           "@anonymized_account @anonymized_account No to 0:0 murowane (bo mam też ludzi z Cracovii)"
          ],
          [
           "@anonymized_account Może ogłuszyły go te korki od szampanów, które strzelały po podpisaniu kontraktu Sadloka z Jagiellonią ?"
          ],
          [
           "Panie i panowie, totalna porażka @anonymized_account w miastach. \\nT O T A L N A \\nTo bardzo ważny znak."
          ],
          [
           "RT @anonymized_account Panie i panowie, totalna porażka @anonymized_account w miastach. \\nT O T A L N A \\nTo bardzo ważny znak."
          ],
          [
           "@anonymized_account @anonymized_account @anonymized_account @anonymized_account ręce opadaj że takich rzeczy ludzie związani z futsalem nie wiedzą."
          ],
          [
           "@anonymized_account @anonymized_account Przeczytałem wszystko. Fantastycznego ma Pani Dziadka!"
          ],
          [
           "@anonymized_account Na wszystko masz odpowiedź, żyłeś w tych czasach?"
          ],
          [
           "@anonymized_account @anonymized_account Mr. Czarnecki. To nie hipokryzja tylko zwykła ludzka przyzwoitość. Widać że niektórym obce takie  odruchy."
          ],
          [
           "Diego Maradona - Robbie Williams 2:1."
          ],
          [
           "@anonymized_account @anonymized_account @anonymized_account Ja nie byłbym taki pewny"
          ],
          [
           "@anonymized_account patrząc kogo biorą to mam wątpliwości czy nie chcą do 1 ligi (nie licząc Marciniaka)"
          ],
          [
           "@anonymized_account To było dawno, jeszcze nie znali fotoszopa"
          ],
          [
           "@anonymized_account @anonymized_account Maly murzyn, silny i zdrowy"
          ],
          [
           ".@anonymized_account pojawił się na TT. To konto to nie fejk. \\nDołączajcie :) 💪"
          ],
          [
           "RT @anonymized_account .@anonymized_account pojawił się na TT. To konto to nie fejk. \\nDołączajcie :) 💪"
          ],
          [
           "W programie Igrzyska wolności w Łodzi śpiewanie pieśni rewolucyjnych,i piosenek z serialu,4 pancerni i pies."
          ],
          [
           "@anonymized_account no i w końcu widzę uśmiech :)"
          ],
          [
           "@anonymized_account Jeszcze was zjemy i wysramy"
          ],
          [
           "@anonymized_account lepszy argument to że ktoś go nie chce bo go nie lubi"
          ],
          [
           "@anonymized_account @anonymized_account Tylko że ten prostak sie nabijał, szydził tak jak ze śmierci Piotra S."
          ],
          [
           "@anonymized_account Qwa! Wypiłem kawę przed chwilą.Bardzo dobra kawę.Nie chcę jej zwracać. A swoją drogą to świetny środek na wywołanie wymiotów."
          ],
          [
           "Wchodzę w powiadomienia a tu nic, już na 4 tt odpisałem, zaraz wyjebią bana"
          ],
          [
           "@anonymized_account nataliethere_ oddam szybciutko z powiadomień"
          ],
          [
           "@anonymized_account Tak tak jeszcze ktoś w to uwierzy"
          ],
          [
           "@anonymized_account @anonymized_account @anonymized_account Tez musze trzymać poziomo tel czytając ten artykuł"
          ],
          [
           "@anonymized_account @anonymized_account @anonymized_account Czasy kiedy zacząłem interesować się piłką i Wisłą 😍"
          ],
          [
           "@anonymized_account Wy narobiliscie 30miliardow dlugow za waszych rzadow #oddajciekase"
          ],
          [
           "RT @anonymized_account @anonymized_account Wy narobiliscie 30miliardow dlugow za waszych rzadow #oddajciekase"
          ],
          [
           "@anonymized_account Czy @anonymized_account gotów na taką kolej rzeczy?"
          ],
          [
           "@anonymized_account Tak jak pisdzielstwo ośmiesza policjantów , to już, nikt, nigdy bardziej nie będzie"
          ],
          [
           "@anonymized_account A kiedy przestanie wydawać mln na swoich ochroniarzy, tylko zacznie leczyć u psychiatry swoją manię prześladowczą?"
          ],
          [
           "@anonymized_account Pierwszy priorytet zadowolić Jarkacza, drugi priorytet ssać kasę wszystkimi otworami,  mają rozdwojenie jaźni"
          ],
          [
           "@anonymized_account Huj z wami dziennikarzami. Piłka nożna dla kibiców a nie pseudo dziennikarzy."
          ],
          [
           "@anonymized_account E tam! To z miłości do Łodzi😁. I przyjdzie do PiS😁😁"
          ],
          [
           "@anonymized_account A ja, ze coś znowu zepsułam xd"
          ],
          [
           "Czemu jak zawsze się o kogoś martwię to ja dostaje po dupie, i mean nie wiem"
          ],
          [
           "@anonymized_account kiedy wyjeżdżasz? ja w piątek, co prawda już drugi rok ale moja rodzina nadal reaguje tak samo"
          ],
          [
           "@anonymized_account @anonymized_account @anonymized_account Ograniczyłbym to do \\\"Byle nie Ufa\\\" :)"
          ],
          [
           "@anonymized_account @anonymized_account Święta racja, ale zapytaj Jurgiela o notatki, on wie co spierdolił. Będzie łatwiej."
          ],
          [
           "@anonymized_account @anonymized_account Szczególnie wielka strata za Smoleńsk"
          ],
          [
           "@anonymized_account @anonymized_account @anonymized_account @anonymized_account daj znać @anonymized_account o  zdjecie blokady"
          ],
          [
           "@anonymized_account @anonymized_account Myślę, że po info o konferencji wielu osobom to przychodzi do głowy."
          ],
          [
           "@anonymized_account Koniecznie! Zapraszamy na spacer z kawką 😃"
          ],
          [
           "@anonymized_account błąd logiczny, te pieniądze kiedyś były wasze, teraz już sa nasze i nic wam do tego towarzyszu"
          ],
          [
           "RT @anonymized_account @anonymized_account błąd logiczny, te pieniądze kiedyś były wasze, teraz już sa nasze i nic wam do tego towarzyszu"
          ],
          [
           "@anonymized_account Zależy jak na to spojrzeć. Z jednej strony akredytacja, z drugiej wyjazd za swoje $$$ 😉"
          ],
          [
           "@anonymized_account @anonymized_account albo wygrywali 1:0 z Barceloną"
          ],
          [
           "@anonymized_account @anonymized_account tylko nie Załuska.Nie potrzeba nam takich piłkarzy bez ambicji."
          ],
          [
           "@anonymized_account @anonymized_account Nic specjalnego. Można się domyślać, że pewnie pójdzie na wypożyczenie."
          ],
          [
           "Z Zagłębia Hładun i Czerwiński w składzie (porażka 1:2), a z Legii Carlitos na kapitanie (zmiana w przerwie). Co za seria 😂"
          ],
          [
           "@anonymized_account co chwile o nim piszecie i gadacie jaka to porażka jak nie zostanie.A nie pamiętacie jak jeszcze niedawno otrzymanie licencji1/2"
          ],
          [
           "@anonymized_account @anonymized_account Przecież TS dzierżawi ta ziemię umowa na 99 lat zgadza się czy nie?"
          ],
          [
           "@anonymized_account Pyta się kiedy beda nowe okulary, bo juz chce wychodzić"
          ],
          [
           "@anonymized_account Probierz szuka młodych Polaków pasuje jak ulał😉"
          ],
          [
           "@anonymized_account Może pasuje do klucza francuskiego?🔧☺"
          ],
          [
           "Pensja, kasa, dojenie, @anonymized_account ,ssanie kasy, ruchanie w meskie dupy, zawsze za pis, trudny teren, ciezkie warunki"
          ],
          [
           "@anonymized_account Polska to nie napis na dropsie, uuuu, niedobrze, uuuuuuu"
          ],
          [
           "@anonymized_account raczej ty się powinieneś jebnąć ale nie wiem czy to pomoże"
          ],
          [
           "@anonymized_account Jak narazie to sobie możecie kupę zrobić. Albo hurtowo dać dupy pedofilów w sutannach, których publicznie bronicie."
          ],
          [
           "@anonymized_account Najlepiej w Polsce żeby legia miała pomoc :-)"
          ],
          [
           "Ale mam chujowy humor przez to, że nie zdałam i jestem na siebie zła"
          ],
          [
           "Szukam osób, które mają kontakt z rodziną gen. Bułak-Bałachowicza. Sprawa  prywatna."
          ],
          [
           "@anonymized_account Brawo skwk za komunikat pomimo braku zakazu czekałem na ta wiadomość co robić, bo na mecz bez dopingu niemyslalem iść"
          ],
          [
           "@anonymized_account @anonymized_account A ty wieś kretynie CONTI jest Acta2 i czego dotyczy? Najpierw przeczytaj a potem się wypowiadaj."
          ],
          [
           "@anonymized_account Trąba ? Nie no ostro pojechałaś :D"
          ],
          [
           "Beata #Mazurek w Sejmie na pytanie co myśli o pomyśle Kaczyńskiego o obniżkach wynagrodzeń: \\\"Ja nic nie myślę\\\". To słychać."
          ],
          [
           "RT @anonymized_account Beata #Mazurek w Sejmie na pytanie co myśli o pomyśle Kaczyńskiego o obniżkach wynagrodzeń: \\\"Ja nic nie myślę\\\". To słyc…"
          ],
          [
           "Motocykle opuściły gniazda i kierują się na północ. Żonkile na przedmieściach to już tylko formalność. Wiosna! :-)"
          ],
          [
           "@anonymized_account @anonymized_account 🕵 Jest tak zakonspirowany, że go nie widać. Fachowiec. \\n(Górny, prawy róg)"
          ],
          [
           "@anonymized_account Kto mieczem wojuje od pochwy ginie @anonymized_account"
          ],
          [
           "@anonymized_account W jednej z powtórek było to dobrze widać :))"
          ],
          [
           "@anonymized_account Kochana nie ma po co bo później wszyscy się będą po to kleić 😂😂"
          ],
          [
           "@anonymized_account @anonymized_account chyba nie miałeś się czego przyczepić, nie przesadzajmy :)"
          ],
          [
           "@anonymized_account @anonymized_account Ale dlaczego głupi @anonymized_account  tłumaczy to jeszcze głupszemu @anonymized_account ?"
          ],
          [
           "@anonymized_account Dzwoniłam się dowiadywać kiedy się można wprowadzać 😂nie wiedziałam ze takie problemy mogą być xd"
          ],
          [
           "@anonymized_account Już pod koniec jazdy wymusilam na rondzie.... nie wiem jak to się stało, mój mózg miał zaćmienie czy coś a"
          ],
          [
           "Nowe chodnikowe powiedzonko brzmi:\\n\\nPierdolisz jak Morawiecki, realy.\\n\\n@anonymized_account @anonymized_account \\n\\nHybryda głupoty."
          ],
          [
           "RT @anonymized_account Nowe chodnikowe powiedzonko brzmi:\\n\\nPierdolisz jak Morawiecki, realy.\\n\\n@anonymized_account @anonymized_account \\n\\nHybryda głupoty."
          ],
          [
           "Terminator X To The Edge Of Panic wykonawcy Public Enemy\\nhttps://t.co/Nqf1yFOyKg"
          ],
          [
           "@anonymized_account Zaspana jestem jeszcze sorki XD"
          ],
          [
           "@anonymized_account @anonymized_account No ja nie kojarze xD"
          ],
          [
           "@anonymized_account Pies to czasem nawet pożera książki..."
          ],
          [
           "Kiedy Christina wychodzi za mąż"
          ],
          [
           "@anonymized_account @anonymized_account Zapewne ci, co grali przez większość rundy w CLJ i nie ponieśli ani jednej porażki."
          ],
          [
           "@anonymized_account @anonymized_account Jak będzie ta pioseneczka to przychodzę\\n\\nhttps://t.co/B6ak11mI4d"
          ],
          [
           "@anonymized_account zamieszczanie takich zdjęć podczas gdy ja jestem na sucharach powinno być zabronione :)"
          ],
          [
           "@anonymized_account @anonymized_account @anonymized_account A co trzeba zrobić w kwestii finansowania kampanii z funduszy UE przez Ziobrę?"
          ],
          [
           "@anonymized_account W środku łamanie w stylu 2obiegu."
          ],
          [
           "jak ja się źle czulem jak byłem dzieckiem w  kościele to głow mala, szopka do kwadratu, nie mogłem tego wytrzymać"
          ],
          [
           "@anonymized_account @anonymized_account @anonymized_account @anonymized_account jak wróce z pracy to też podejme wyzwanie ale tym razem bedzie skromnie :)"
          ],
          [
           "@anonymized_account @anonymized_account @anonymized_account Jak pić to z klasą ;)"
          ],
          [
           "@anonymized_account @anonymized_account Ty pajacu, zmień sobie herb na pusty łeb."
          ],
          [
           "@anonymized_account W rosji sa jakieś zawody"
          ],
          [
           "@anonymized_account @anonymized_account Myślałem że to Twój ulubieniec 😂"
          ],
          [
           "@anonymized_account @anonymized_account pewnie ranking Fifa bedzie decydowal"
          ],
          [
           "@anonymized_account Łukaszewicz, co Wy tam palicie?"
          ],
          [
           "@anonymized_account @anonymized_account @anonymized_account Leszku mój kochany, masz mózg wyprany"
          ],
          [
           "@anonymized_account a ja współczuje zaślepienia.Wolę nie mieć Wolskiego niż robić kolejne długi @anonymized_account"
          ],
          [
           "@anonymized_account @anonymized_account @anonymized_account od paru lat słysze o sponsorze więc tym bardziej szacunek że przez pare lat się nieujawnił..."
          ],
          [
           "@anonymized_account Skoro Carrillo nie chce Sobola to tym bardziej nie będzie chciał Głowy. Chyba, że trener rzeczywiście odchodzi."
          ],
          [
           "@anonymized_account @anonymized_account @anonymized_account Zawsze bedą afery bo zawsze będa tacy l którzy kradną  i tacy u wladzy których to kręci"
          ],
          [
           "@anonymized_account kot też się załapał na fotke, a raczej jego dupa :)"
          ],
          [
           "@anonymized_account Szczerze? Trochę tak to wygląda, a i tak prędzej czy później ten bilans wychodzi na równo."
          ],
          [
           "@anonymized_account zaraz będą pisać że Wisła szkoli kiboli żeby potrafili maczetą wymachiwać :)"
          ],
          [
           "*stoi przed nimi król gargulców*\\nbetty: to pewnie ethel\\n\\nXDDDDDDDDDDDDDD\\n#Riverdale #RiverdalePL"
          ],
          [
           "RT @anonymized_account *stoi przed nimi król gargulców*\\nbetty: to pewnie ethel\\n\\nXDDDDDDDDDDDDDD\\n#Riverdale #RiverdalePL"
          ],
          [
           "@anonymized_account No, to ja we własnej osobie"
          ],
          [
           "@anonymized_account Słabo trzymałeś kciuki, bo podarował bramke Cracovii :)"
          ],
          [
           "@anonymized_account Odstawiając narodowość na bok to ten skład jest przecież słabiutki."
          ],
          [
           "@anonymized_account @anonymized_account Piwnica bez okien, ty to masz dobrze"
          ],
          [
           "Czuję się chora więc siedzę w domu w czapce"
          ],
          [
           "@anonymized_account Juz myslałem że coś gorszego😁😁"
          ],
          [
           "@anonymized_account @anonymized_account A gdzie Inferno napisał, że Wisła stawia na Polaków ?"
          ],
          [
           "@anonymized_account akurat Tobie bliżej do Karolaka bo w większości Cię wycięli 😂 @anonymized_account @anonymized_account @anonymized_account @anonymized_account"
          ],
          [
           "@anonymized_account Omg właśnie o nich myślałam"
          ],
          [
           "@anonymized_account Tak na pewno nie będzie. Drużyna leci w środę."
          ],
          [
           "Cudzysłów, przecinek nie jestem ruskim trollem"
          ],
          [
           "Biorąc pod uwagę, jakie dotąd mieliśmy losowania w Lidze Europy, to na ten finał w Baku w 2019 roku nie jesteśmy bez szans. 😁"
          ],
          [
           "@anonymized_account @anonymized_account Fajnie, teraz zamiast przemowy muzyczka żeby nie było słychać odzewu publiki."
          ],
          [
           "@anonymized_account @anonymized_account Białystok, ulica Wierzbowa. Jak oni to zrobili, to jest zagadka."
          ],
          [
           "@anonymized_account Straszny gangster jak po wolności chodzi"
          ],
          [
           "@anonymized_account To się nazywa uzależnienie xD"
          ],
          [
           "@anonymized_account Info z ostatniej chwili barwy pogoni skrojone przez bandytów Z Krakowa.  Pomimo zakazu Wisła rządzi"
          ],
          [
           "@anonymized_account @anonymized_account Pewnie tak bo Buchalik kontuzjowany."
          ],
          [
           "@anonymized_account to miało jakiś ciąg dalszy? 😉"
          ],
          [
           "vans do chuja przestań robić choć na chwilę zajebiste kolekcje bo w moim portfelu pieniądzen't"
          ],
          [
           "RT @anonymized_account vans do chuja przestań robić choć na chwilę zajebiste kolekcje bo w moim portfelu pieniądzen't"
          ],
          [
           "@anonymized_account @anonymized_account @anonymized_account @anonymized_account 12 mld nie mam zamiaru dyskutowa możejki i skoki"
          ],
          [
           "@anonymized_account @anonymized_account Alves był bardzo w stylu Guardioli 😛"
          ],
          [
           "@anonymized_account Co ty żresz, że ci tak pierdolnęło?"
          ],
          [
           "@anonymized_account Bo w \\\"10\\\" już grają przez Boatenga ;)"
          ],
          [
           "@anonymized_account @anonymized_account Trudno być pewnym, gdy stoperzy mogą zagrać tylko lagę do przodu, bo środka nie mamy."
          ],
          [
           "@anonymized_account @anonymized_account @anonymized_account No właśnie, nie było i dlatego patologia została stosownie potraktowana."
          ],
          [
           "@anonymized_account skoro jest dno dna to może skupmy się na tych od których coś wymagamy"
          ],
          [
           "@anonymized_account Widocznie to zbyt trudna miłość na Walentynki 😁"
          ],
          [
           "@anonymized_account Sarapata była w solarium ?"
          ],
          [
           "@anonymized_account Woda chyba zimna bo nikogo w wodzie ;-)"
          ],
          [
           "@anonymized_account ej, dobra, weźmie ten chrzest czy nie? xd"
          ],
          [
           "@anonymized_account @anonymized_account Lub bezpośredni awans, bo nie wiadomo co ze Stomilem, a przede wszystkim Bytovią :)"
          ],
          [
           "@anonymized_account @anonymized_account byłam przy tym, więc zapewniam 😉"
          ],
          [
           "@anonymized_account @anonymized_account @anonymized_account Tylko ty masz problem z rzecznikiem, więc zastanów się w kim tak naprawdę jest problem? 🤔"
          ],
          [
           "@anonymized_account Piątek  też powinien być wolny, ina 100%"
          ],
          [
           "Wassermannówna kłamie, mówiąc, że „przyszła do polityki”. Ona przyjechała na trumnie ojca."
          ],
          [
           "RT @anonymized_account Wassermannówna kłamie, mówiąc, że „przyszła do polityki”. Ona przyjechała na trumnie ojca."
          ],
          [
           "@anonymized_account Już dwa lata temu powinni wygrac Euro."
          ],
          [
           "@anonymized_account Kibice innych drużyn doceniają i trochę zazdroszczą :)"
          ],
          [
           "@anonymized_account @anonymized_account na 100% jest zmiana Śląsk - Jaga i chyba została już potwierdzona."
          ],
          [
           "@anonymized_account W tym czasie był z rodzinką na wakacjach w Gdańsku Brzeźnie to musiał zdalnie podtrzymywać związek"
          ],
          [
           "jak Patryk Jaki wygra wybory w Warszawie oczyści stolicę z byłych UBECKICH funkcjonariuszy ! #woronicza17"
          ],
          [
           "RT @anonymized_account jak Patryk Jaki wygra wybory w Warszawie oczyści stolicę z byłych UBECKICH funkcjonariuszy ! #woronicza17"
          ],
          [
           "Szkoda, że przez wymysły Mendesa taki Ruben Neves się marnuje w Wolverhampton."
          ],
          [
           "@anonymized_account @anonymized_account Nie wiem, aczkolwiek jego tata mówił, że widziałby Tomasa w Jagiellonii. 😜"
          ],
          [
           "Ja i moje psiapsi gramy w te gry na snapie i nie mogę przestać się śmiać z naszych min XD"
          ],
          [
           "@anonymized_account Kolar niestety ten sam poziom. Chyba trzeba będzie liczyć na skuteczność Boguskiego i Małeckiego..."
          ],
          [
           "Rząd zaostrzy kary za znęcanie się nad zwierzętami. Od 3-5 lat więzienia; obowiązkowa nawiązka do 100 tys zł. Więcej jutro w @anonymized_account"
          ],
          [
           "RT @anonymized_account Rząd zaostrzy kary za znęcanie się nad zwierzętami. Od 3-5 lat więzienia; obowiązkowa nawiązka do 100 tys zł. Więcej jutro w @anonymized_account"
          ],
          [
           "@anonymized_account @anonymized_account @anonymized_account czuje że Brlek prędzej czy później odpali"
          ],
          [
           "@anonymized_account @anonymized_account To, że figurowal jako zawodnik Man City nie znaczy, że będzie potrafił grać."
          ],
          [
           "@anonymized_account @anonymized_account Oczywiście, że ma rację. Chodzi tylko o to, że to jest drużyna o klasę lub dwie lepsza."
          ],
          [
           "@anonymized_account @anonymized_account Nie miał prawa stać za linią, tak prawdę mówiąc 😄 Ale w kamerach to bardzo ładnie wyglądało."
          ],
          [
           "@anonymized_account @anonymized_account @anonymized_account Ty to robisz przede wszystkim, co widać po pierwszym tweecie."
          ],
          [
           "Ostatnio czuje się tak samotna i smutna ze aż sama się dziwie"
          ],
          [
           "@anonymized_account Przecież to legionista to komu ma życzyć mistrza.Nie wiedziałeś ?"
          ],
          [
           "@anonymized_account @anonymized_account @anonymized_account dobrze by mu to zrobiło.Za słaby na Wisłe."
          ],
          [
           "@anonymized_account Hehehehehe. Róża nawet niezła była.I co z niej wyrosło!😁😁😁"
          ],
          [
           "@anonymized_account jedni wynajmują agencje do komentarzy a inni dziennikarzy"
          ],
          [
           "RT @anonymized_account @anonymized_account jedni wynajmują agencje do komentarzy a inni dziennikarzy"
          ],
          [
           "@anonymized_account pewnie jest mniej błędów bo i liczb jest mniej bo zrezygnowali ze statystyk zawodników sezon po sezonie ;)"
          ],
          [
           "@anonymized_account Krzyż przeciw prezydenturze, krzyż obłędu"
          ],
          [
           "@anonymized_account @anonymized_account Sorry ale dzisiaj nie ma opozycji. Jest grupa cwaniaków chcących odzyskać stołki."
          ],
          [
           "na kijowe życie najlepsza wódeczka"
          ],
          [
           "Co na to Herod śmierdziuszka @anonymized_account"
          ],
          [
           "@anonymized_account Brakuje mu dystansu, za bardzo się egzaltuje, a jałowe szyderstwa już mi się przejadły"
          ],
          [
           "@anonymized_account Wisła chyba ważniejsza od jakiejś Delle Donne :)"
          ],
          [
           "@anonymized_account Nawet jeśli to fejk, to zgodnie z powiedzeniem -w każdej plotce jest ziarnko prawdy. Z tym że w tym przypadku raczej ziarno😁😁"
          ],
          [
           "@anonymized_account Tez wczoraj byłam na randce która trwała cały dzień Xd"
          ],
          [
           "@anonymized_account A kierowca autobusu wstał i zaczął klaskać ?"
          ],
          [
           "@anonymized_account @anonymized_account Jak by nie było, aby było miło, teraz sie cieszysz"
          ],
          [
           "@anonymized_account No to może warto, najwyżej Cię oleje, co jest oczywiście nie do przyjęcia 😂 kto nie ryzykuje ten nie pije szampana kochana!"
          ],
          [
           "@anonymized_account @anonymized_account Trzymali się za ręce, waleczni i sprawiedliwi"
          ],
          [
           "Dudelange niby takie cwaniaki, a ciekawe czy byliby tacy mądrzy w dwuboju rzut młotem-skoki narciarskie"
          ],
          [
           "RT @anonymized_account Dudelange niby takie cwaniaki, a ciekawe czy byliby tacy mądrzy w dwuboju rzut młotem-skoki narciarskie"
          ],
          [
           "@anonymized_account @anonymized_account @anonymized_account głównie @anonymized_account który często o tym wspomina"
          ],
          [
           "Kto się jeszcze zaczepia na fejsie...."
          ],
          [
           "@anonymized_account @anonymized_account Z tymi wizjami to może być problem. Proponuję sprawdzić po czym te wizję są"
          ],
          [
           "@anonymized_account Jaki hejt.Hejt to jest na Tuska, Komorowskiego, przecież to nie Polacy, śmierć wrogom ojczyzny. Obudź się"
          ],
          [
           "Czy Antek już ogłosił, że na lewym skrzydle naszej obrony był wybuch?"
          ],
          [
           "RT @anonymized_account Czy Antek już ogłosił, że na lewym skrzydle naszej obrony był wybuch?"
          ],
          [
           "@anonymized_account jest to dobra informacja dla tych co okradali  Polskę od 89  roku  Irlandia da im wolność"
          ],
          [
           "RT @anonymized_account @anonymized_account jest to dobra informacja dla tych co okradali  Polskę od 89  roku  Irlandia da im wolność"
          ],
          [
           "Ale przecież #Polexit jest dobry. Założycie koszulki z orłem i będziecie żryć ziemniaki i wungiel 😇"
          ],
          [
           "RT @anonymized_account Ale przecież #Polexit jest dobry. Założycie koszulki z orłem i będziecie żryć ziemniaki i wungiel 😇"
          ],
          [
           "@anonymized_account @anonymized_account @anonymized_account @anonymized_account Wywalił Ronaldo w Superpucharze :)"
          ],
          [
           "@anonymized_account @anonymized_account Bo sama jest niepełnosprawna... Umysłowo.😁😁"
          ],
          [
           "Halo Kraków, kogo byście uznali za gwiazdę/najważniejszego zawodnika obecnej Wisły? 😉"
          ],
          [
           "@anonymized_account @anonymized_account Ssą wszystkimi otworami z krwi biało czerwonej"
          ],
          [
           "@anonymized_account Wy się zjednoczyliście z faszystami z połowy Europy. Kpromitacja level hard."
          ],
          [
           "@anonymized_account @anonymized_account @anonymized_account Znowu on ? 😂 to przy okazji niech się odniesie do słów Sarary 😂"
          ],
          [
           "@anonymized_account Dotarlas do orełka?😁😁 W tym roku niestety tyłko jeden😞😞"
          ],
          [
           "@anonymized_account @anonymized_account Mam rozumieć, że to mapa nasycenia krajów zboczeńcami w sutannach."
          ],
          [
           "@anonymized_account @anonymized_account @anonymized_account A Panu nie brakuje czasem art. 87 pkt1?"
          ],
          [
           "@anonymized_account Czy to oknoplus ladowal kiedyś"
          ],
          [
           "@anonymized_account @anonymized_account 5 punktów na 21 w rundzie finałowej..."
          ],
          [
           ".@anonymized_account @anonymized_account Będziemy realizować przekop Mierzei Wiślanej \\n#wieszwiecej  \\nhttps://t.co/zuCXxG1GUr"
          ],
          [
           "RT @anonymized_account .@anonymized_account @anonymized_account Będziemy realizować przekop Mierzei Wiślanej \\n#wieszwiecej  \\nhttps://t.co/zuCXxG1GUr"
          ],
          [
           "@anonymized_account Bolek wyluzuj bo jesteś sercowy."
          ],
          [
           "@anonymized_account Śmiej się  śmiej. To wcale nie jest śmieszne."
          ],
          [
           "I hope that autumn will heal me"
          ],
          [
           "Jutro po marszu, ale jeszcze kilka dni beda chodzić naćpani"
          ],
          [
           "@anonymized_account Nie ma jak lans nierobie za pieniądze podatników."
          ],
          [
           "@anonymized_account A to ja przepraszam, nie miałam wczoraj czasu na TT 😎"
          ],
          [
           "11 tysięcy miejsc zajętych, dzisiaj prawie 2000 biletów sprzedanych. Z tej okazji za chwilę nagroda 😁"
          ],
          [
           "@anonymized_account @anonymized_account To ja chyba tylko kolory porównywałem"
          ],
          [
           "Ej słuchajcie co zajebistego wymyśliłam \\n\\nJaki jest najlepszy argument bonnie z pamiętników wampirów? \\n\\nBo nnie"
          ],
          [
           "RT @anonymized_account Ej słuchajcie co zajebistego wymyśliłam \\n\\nJaki jest najlepszy argument bonnie z pamiętników wampirów? \\n\\nBo nnie"
          ],
          [
           "@anonymized_account Im więcej problemów w państwie tym więcej niewykonanych wyroków"
          ],
          [
           "Widziałam śliczną sukienkę ale nie było mniejszego rozmiaru niż 36 i była za duża danmm"
          ],
          [
           "@anonymized_account @anonymized_account Polskę to kompromitują tacy jak ty. Oszołomie."
          ],
          [
           "@anonymized_account 😁😁😁😁😁😁😁😁 @anonymized_account teraz to mnie Pani ubawiła tym paskiem. A widziała Pani swoją szyję?"
          ],
          [
           "@anonymized_account @anonymized_account @anonymized_account nie, ale jeśli ktoś wypomina Levadie to niech bedzie obiektywny i wspomni też inny wynik."
          ],
          [
           "@anonymized_account O naszych meczach z Rio Ave można powiedzieć podobnie 😉"
          ],
          [
           "W sumie to polubiłam już zajęcia z konstrukcji przekazu reklamowego i prowadzący jest świetny"
          ],
          [
           "Ej chciałabym do samorządu w sumie hahahaha"
          ],
          [
           "@anonymized_account Tez nie mam snapa hahahahaha"
          ],
          [
           "@anonymized_account Ileż można o tym Wiluszu ?..."
          ],
          [
           "@anonymized_account A po polsku to jak to będzie?"
          ],
          [
           "@anonymized_account @anonymized_account A skąd on wie jak jest w innych klubach ? Niech się wypowiada o klubach w których grał."
          ],
          [
           "I ta Wisła, która się bawi z każdym w ofensywie, w Białymstoku miała pół sytuacji."
          ],
          [
           "@anonymized_account @anonymized_account @anonymized_account Zapytalem,  szwagierka mówi że ma konto w powerbanku"
          ],
          [
           "@anonymized_account @anonymized_account Mięciuteńki straszliwie. Tam były ręce na ciele, a nie jakieś szarpanie. Tylko że nie do VAR-u."
          ],
          [
           "@anonymized_account @anonymized_account Pajacu, jak podajesz przepis to masz go znać na pamięć. Inaczej robią z siebie idiotę tak jak teraz."
          ],
          [
           "@anonymized_account Zdejmujesz Dziadkowi okulary, zakładasz Babci i jestem \\n😎"
          ],
          [
           "@anonymized_account @anonymized_account @anonymized_account w końcu jakiś ciekawy wywiad :)"
          ],
          [
           "@anonymized_account jak tam widziałeś czerwoną to rzeczywiście wyjdź"
          ],
          [
           "@anonymized_account skoro zarząd pozwala na takie cyrki to niestety potrwa to lata"
          ],
          [
           "@anonymized_account @anonymized_account Cieszmy się że drużyna dalej gra w lidze.Nie zawsze można mieć najmocniejszy skład w lidze :)"
          ],
          [
           "@anonymized_account @anonymized_account @anonymized_account Znawca wszystkiego czyli niczego od bydła po powidło"
          ],
          [
           "@anonymized_account 😂😂😂😂😂😂😂😂😂😂😂😂😂🤣🤣🤣🤣🤣🤣🤣🤣🤣🤣🤣🤣🤣😂😂😂😂😂😂😂🤣🤣🤣🤣🤣🤣🤣🤣🤣🤣🤣🤣🤣🤣🤣😂😂😂😂😂😂😂😂😂😂😂😂😂😂😂😂\\n\\nSłów odpowiednich żaden słownik nie zawiera"
          ],
          [
           "@anonymized_account Vacek, Putnocky, Nielsen.Widzę że biorą się za odmładzanie składu :)"
          ],
          [
           "@anonymized_account @anonymized_account @anonymized_account Ty się chyba debilu nie słyszysz, ty tekstów to się po nocach uczysz czy masz słuchawkę w uchu?"
          ],
          [
           "@anonymized_account Lub kibiców w Gliwicach 😜"
          ],
          [
           "@anonymized_account No właśnie była lepsza 😜"
          ],
          [
           "@anonymized_account @anonymized_account @anonymized_account @anonymized_account No weź nie rob takiej miny"
          ],
          [
           "@anonymized_account @anonymized_account @anonymized_account Szczekać to mogą tacy jak ty #delegalizacja"
          ],
          [
           "@anonymized_account Bo jest Głowacki to teraz czas na obrońców"
          ],
          [
           "@anonymized_account @anonymized_account Nie ma takiej opcji. Oszust i kłamca w roli głównej - tego jeszcze świat nie widział."
          ],
          [
           "@anonymized_account Nie jest złe! Chodzisz w szpilkach? Cokolwiek byś nie założyła to szpilki choć trochę pomogą xd"
          ],
          [
           "@anonymized_account Jakby był definitywny to trochę slabo 😂"
          ],
          [
           "@anonymized_account a co się tak pieniedzmi nagle przejmujesz ? Jak chcialas rozwiazania kontraktu z Zohnova czy Pop to kasa juz nie wazna ?"
          ],
          [
           "@anonymized_account Oskar Łąk definitywnie odszedł z Wisły ?\\n\\nhttps://t.co/o0psVgZBUl"
          ],
          [
           "@anonymized_account gratulacje ! Dzięki za dotrzymanie słowa że dzisiaj koniec :) Zasłużyłyście !"
          ],
          [
           "Jezu, co zagrali Suarez i Cavani."
          ],
          [
           "@anonymized_account Na pewno łatwiej by było znaleźć, określić i poprawić problemy"
          ],
          [
           "@anonymized_account Można, dlatego nasz poziom piłkarski był bardzo słaby wczoraj."
          ],
          [
           "@anonymized_account Wybacz, ale nie sądzę, aby głównym problemem kadry były złe powołania na numerach 21-23 w kadrze."
          ],
          [
           "jeśli nie mogę wyglądać tak jak\\n•perrie edwards\\n•troian bellisario\\nto what’s the point of existing?"
          ],
          [
           "RT @anonymized_account jeśli nie mogę wyglądać tak jak\\n•perrie edwards\\n•troian bellisario\\nto what’s the point of existing?"
          ],
          [
           "@anonymized_account Nadal i Djoković to się w sumie cieszą, bo ten, kto w ich meczu wygra, będzie praktycznie zwycięzcą turnieju."
          ],
          [
           "@anonymized_account @anonymized_account Mówisz że ONR lize doope😂"
          ],
          [
           "@anonymized_account @anonymized_account @anonymized_account wyśle im jutro list od kibiców cracovii że chcą odejścia Filipiaka.Ciekawe czy też opublikują."
          ],
          [
           "@anonymized_account @anonymized_account A kiedy zaczniecie zbiórki na krówki i świnki?"
          ],
          [
           "@anonymized_account No to skąd wiedziałeś czy stopklatka jest zrobiona w odpowiednim momencie ? Nie kompromituj się"
          ],
          [
           "@anonymized_account @anonymized_account @anonymized_account Iza - dziewczyna, cud, miód, malina 😁"
          ],
          [
           "Zaraz pół mojego instagrama i cały Twitter będzie na koncercie Eda.... i jestem jeszcze ja............"
          ],
          [
           "@anonymized_account Z tamtego Adama dziś już nic nie zostało. Ale czepianie się go za brata i ojca osobiście nie popieram"
          ],
          [
           "@anonymized_account @anonymized_account Plujecie na Polskę to my będziemy pluć na was."
          ],
          [
           "RT @anonymized_account @anonymized_account @anonymized_account Plujecie na Polskę to my będziemy pluć na was."
          ],
          [
           "@anonymized_account Może też być kołderka 😍"
          ],
          [
           "@anonymized_account Dlaczego średnio? W decydujacym o awansie Widzewa czerwcu był piłkarzem miesiąca"
          ],
          [
           "@anonymized_account błedem było ściaganie zawodników których nas niestać byleby osiągnąć cel"
          ],
          [
           "@anonymized_account Każdy kto choć trochę się orientuje w tych sprawach wie, że na Hutniku nie ma oświetlenia..."
          ],
          [
           "@anonymized_account Maliniak dal reklame za dormo ponoć caly marsz niepodleglosci ubrali, prawda to redisbad?"
          ],
          [
           "@anonymized_account niech wejdzie na luzie i pewnie tak żeby nie musiał zostawiać dokumentu, milion osób tak przemyciłam"
          ],
          [
           "@anonymized_account Cie zaraz piznę, jak nie zaczniesz myśleć"
          ],
          [
           "@anonymized_account @anonymized_account Bo byliśmy bez formy, to oczywiste. Przecież to też napisałem."
          ],
          [
           "@anonymized_account jest juz aktualizacja składów czy jakis dodatek sciągałeś ? :)"
          ],
          [
           "@anonymized_account Komentarz raz a dwa słysząc trybuny zastanawiam się czy ten kto wymyślił mecze w pn obejrzał choć jeden"
          ],
          [
           "@anonymized_account @anonymized_account @anonymized_account @anonymized_account @anonymized_account @anonymized_account Mam nadzieję że nigdy więcej. Czekam na rychłą delegalizację."
          ],
          [
           "@anonymized_account A Ty nigdy nie robisz dwóch rzeczy jednocześnie? Np. idziesz i żujesz gumę."
          ],
          [
           "@anonymized_account @anonymized_account O 11.00 wielkie obtrabienie sukcesu..."
          ],
          [
           "@anonymized_account @anonymized_account Ty kurwa @anonymized_account nie pierdol w tv bo sie żygać chce"
          ],
          [
           "@anonymized_account problemem jest to że jak sobie coś ubzdurasz to myślisz że zawsze masz racje bo jesteś wszechwiedzący@anonymized_account @anonymized_account"
          ],
          [
           "@anonymized_account Taki Błaszczykowski tez za co do repry?  Żeby niebylo ze wbijam szpilki do legi?"
          ],
          [
           "Często wracam do tego kawałka. @anonymized_account"
          ],
          [
           "@anonymized_account A pisdzielstwo, szczury, gady, plazy popromienne, azbestowe?"
          ],
          [
           "omg ale jestem wyjebana po tym wykładzie"
          ],
          [
           "@anonymized_account @anonymized_account jak Zarycki jest Twoim informatorem to te info można w kiblu spuścić"
          ],
          [
           "@anonymized_account @anonymized_account Ale Karolina ostatnio była w TVP 😜"
          ],
          [
           "#NAME?"
          ],
          [
           "@anonymized_account @anonymized_account U mnie też wyświetla właściwe kolory 😊"
          ],
          [
           "@anonymized_account @anonymized_account Najpierw kasza, później przyjemności, a kiedyś wolność, ale wy klękacie bez obawy zostanie i tak bez was"
          ],
          [
           "@anonymized_account @anonymized_account @anonymized_account No oboje Państwo wyglądacie jak rodzeństwo. I tacy żółci oboje."
          ],
          [
           "@anonymized_account No kurwa @anonymized_account ty masz nie rządzić, madz nie rządzić"
          ],
          [
           "Yerri Mina - złota piłka 😁"
          ],
          [
           "@anonymized_account jeszcze nie mam planu wykonania ;-)"
          ],
          [
           "@anonymized_account Śląsk Wrocław ma jakiś drugi podmiot, że wystawia drugi zespół w barażach?"
          ],
          [
           "@anonymized_account personalnie do tej Pani, przyjrzyj się sobie @anonymized_account @anonymized_account , @anonymized_account @anonymized_account"
          ],
          [
           "Nie wiem, jak Barcelona i Real otrząsną się po utracie tak ważnych piłkarzy, jak Paulinho i Cristiano Ronaldo."
          ],
          [
           "Polska zrealizowala nasze cele w UE na szczycie z nawiązką. Podajcie dalej RT koniecznie potrzebne - dziękuję😊\\nhttps://t.co/OzUaePZLpY"
          ],
          [
           "RT @anonymized_account Polska zrealizowala nasze cele w UE na szczycie z nawiązką. Podajcie dalej RT koniecznie potrzebne - dziękuję😊\\nhttps://t.co/Oz…"
          ],
          [
           "@anonymized_account @anonymized_account @anonymized_account A my nie mamy helikopterów, rakiet, łodzi podwodnych a mamy WOT w którym ja biegam"
          ],
          [
           "@anonymized_account @anonymized_account A czego oczekiwałeś ? Przedłużą z kimś kontrakt to poinformują"
          ],
          [
           "@anonymized_account Jeszcze Podolski od jakiegoś czasu."
          ],
          [
           "Przepraszamy. Nie wpadliśmy na to, że pokazując środkowy palec narodowi, który - ponad podziałami, czci #PW1944, możemy kogoś obrazić. Sorki"
          ],
          [
           "@anonymized_account ahhh myślałam, że na jakieś innej stronie"
          ],
          [
           "@anonymized_account Źle... Miałeś napisać, że nie możesz więcej zdradzić :("
          ],
          [
           "@anonymized_account Pan w tle, z lewej, to z mopem zasuwa? 🖒"
          ],
          [
           "Czy naprawdę trzeba publicznie przyznawać się do nieprzygotowania do meczu, drodzy panowie komentatorzy? (kwestia Sheridana)"
          ],
          [
           "Na tt te beznadziejne gadki o niczym, to już wolę sam ze sobą"
          ],
          [
           "@anonymized_account Pamiętaj, ze ja daleko do ciebie nie mam 😂"
          ],
          [
           "@anonymized_account Pomysł sobie ze ja oblałam bo z pełna świadomością wjebalam się na rondo XD widzisz to taki mały błąd, Ew"
          ],
          [
           "@anonymized_account Jest tej chołoty tutaj całkiem sporo. Napewno się udzielają."
          ],
          [
           "@anonymized_account Hejka, hejka, sejonarka w czwartek o 11 juz do domku"
          ],
          [
           "@anonymized_account @anonymized_account Mistrz, człowiek mem jedyny na świecie"
          ],
          [
           "@anonymized_account @anonymized_account @anonymized_account York czy Leszek Miller? :)"
          ],
          [
           "@anonymized_account Kiedys kazdy kopniak bez piłki = czerwona, a jeśli to było tylko położenie ręki na głowę, to nie mamy o czym rozmawiac :)"
          ],
          [
           "Morawieckiemu coś nie idzie w Namysłowie. Teraz jako były prezes BZK WBK przedstawia się jaki ten, który zwalcza \\\"zachodnie korporacje\\\"."
          ],
          [
           "RT @anonymized_account Morawieckiemu coś nie idzie w Namysłowie. Teraz jako były prezes BZK WBK przedstawia się jaki ten, który zwalcza \\\"zacho…"
          ],
          [
           "@anonymized_account No widzisz, a zwycięską asystę w tym meczu zanotował Griezmann. MVP = najbardziej wartościowy zawodnik :)"
          ],
          [
           "@anonymized_account do domu bo ci rózga dupę @anonymized_account ty mały  @anonymized_account"
          ],
          [
           "Jak go pierwszy raz usłyszałam to miałam ciarki na całym ciele"
          ],
          [
           "@anonymized_account kibice nigdy nie pozwolą na to żeby po raz kolejny był trenerem"
          ],
          [
           "Teraz zarykam nos i mowie \\\"cała polska z was sie śmieje, komuniści i zlodzieje,"
          ],
          [
           "@anonymized_account Jego tata tłumaczył konferencję przy okazji meczu z Rio Ave w Vila do Conde :)"
          ],
          [
           "@anonymized_account a wyśmiewanie Lionela M. było po skazaniu go za oszustwa podatkowe ? bo jakoś przeoczyłem"
          ],
          [
           "@anonymized_account @anonymized_account @anonymized_account życzę Gatcie mistrza bo zasługują na to grając 2 sezony na wysokim poziomie."
          ],
          [
           "@anonymized_account Plakat widzę tak @anonymized_account z  @anonymized_account wymiana spojrzeń  a @anonymized_account na kolanach liże ich po stopach"
          ],
          [
           "@anonymized_account Pana zdanie nie interesuje Polaków ❗\\nWypchaj się Pan niemiecką, śmierdzącą onucą ❗"
          ],
          [
           "RT @anonymized_account @anonymized_account Pana zdanie nie interesuje Polaków ❗\\nWypchaj się Pan niemiecką, śmierdzącą onucą ❗"
          ],
          [
           "@anonymized_account @anonymized_account Mógł, ale jakoś nie chce mi się wierzyć, że tak to wyglądało."
          ],
          [
           "em ok wątek Jerzego i Zuzy w Przyjaciółkach to najlepsze co tam było kiedykolwiek"
          ],
          [
           "RT @anonymized_account @anonymized_account Giertych: myślę, że myślę."
          ],
          [
           "Ostatnio się zrobiłam polityczna chyba studia weszły mi za mocno"
          ],
          [
           "@anonymized_account Badziewny zespół, a i tak Anglicy byli o krok od straty punktów :)"
          ],
          [
           "@anonymized_account nawet pasy to dla was za duże wyzwanie co widać po twoim profilowym.Mistrzowie opraw."
          ],
          [
           "@anonymized_account nie chodziło mi o to że się cieszyłeś z upadku Wisły tylko że masz czarny humor :) że się z Wisły na Chojnice przerzuciłem :)"
          ],
          [
           "Ta drużyna powstała za czasów PO-PSL."
          ],
          [
           "RT @anonymized_account Ta drużyna powstała za czasów PO-PSL."
          ],
          [
           "@anonymized_account Hołd to się oddaje bohaterom...."
          ],
          [
           "@anonymized_account @anonymized_account  a co ma procent zapelnienia pojemnosci do frekwencji ? Po za tym co to jest 50% na takim malym stadionie ?"
          ],
          [
           "Spółka srebrna kapitał  7 mln,  w zarządzie sekretarka i kierowca Jarkacza"
          ],
          [
           "@anonymized_account Haha  a ilu ty zapraszasz do studia co pierd...takie głupoty..."
          ],
          [
           "RT @anonymized_account @anonymized_account Haha  a ilu ty zapraszasz do studia co pierd...takie głupoty..."
          ],
          [
           "Kto chce zrobić ze mna tea party??"
          ],
          [
           "@anonymized_account Ale za to wystąpił równie błyskotliwy,inteligentny, merytoryczny,bystry poseł Kieeerwiiinski!!!"
          ],
          [
           "@anonymized_account No gdzie, wszystko zależało od Lecha w ostatniej kolejce :D"
          ],
          [
           "Moja morda to takie spierdolenie ze zaraz rykne"
          ],
          [
           "RT @anonymized_account Moja morda to takie spierdolenie ze zaraz rykne"
          ],
          [
           "@anonymized_account @anonymized_account No w różnych miejscach ludzie seks uprawiają. Dajcie spokój..."
          ],
          [
           "@anonymized_account Ok boli, boli. Czarne katabasy, mordercy irlandzkich kobiet i sierot do kruchty i pokutować do końca życia za swoje występki."
          ],
          [
           "Czemu żaden tramwaj nie jedzie wtf"
          ],
          [
           "@anonymized_account Tak, statystyki to kłamstwa. Za to wyciągnięcie jednej sytuacji z 90 minutowego meczu to bezcenny dowód."
          ],
          [
           "@anonymized_account @anonymized_account Zamiast tego można znaleźć grafiki na różnych ekranach / telebimach w mieście."
          ],
          [
           "@anonymized_account Niby sami świnie, a nic nie wiedzą"
          ],
          [
           "@anonymized_account Ale co to ma do Mystka?"
          ],
          [
           "@anonymized_account Serio chcecie cichego stadionu ?"
          ],
          [
           "Co to miało być? 😂"
          ],
          [
           "@anonymized_account tego się niespodziewałem po Tobie... Zawiodłeś nas :D @anonymized_account"
          ],
          [
           "@anonymized_account @anonymized_account Wiem, ale prezentację mogli zrobić bez naklejek."
          ]
         ],
         "hovertemplate": "Dim_1=%{x}<br>Dim_2=%{y}<br>text=%{customdata[0]}<br>cluster=%{marker.color}<extra></extra>",
         "legendgroup": "",
         "marker": {
          "color": [
           38,
           41,
           29,
           58,
           2,
           73,
           22,
           42,
           73,
           -1,
           31,
           55,
           25,
           15,
           67,
           -1,
           -1,
           72,
           37,
           2,
           6,
           37,
           64,
           9,
           -1,
           2,
           -1,
           7,
           73,
           -1,
           38,
           38,
           69,
           47,
           78,
           29,
           -1,
           67,
           -1,
           51,
           -1,
           -1,
           -1,
           -1,
           75,
           6,
           76,
           41,
           -1,
           15,
           15,
           7,
           -1,
           52,
           52,
           60,
           -1,
           84,
           9,
           -1,
           43,
           68,
           17,
           77,
           -1,
           47,
           6,
           17,
           -1,
           77,
           79,
           55,
           53,
           76,
           39,
           58,
           -1,
           76,
           -1,
           54,
           -1,
           -1,
           6,
           -1,
           -1,
           64,
           -1,
           0,
           0,
           42,
           50,
           -1,
           63,
           37,
           76,
           26,
           -1,
           -1,
           60,
           -1,
           -1,
           27,
           43,
           84,
           62,
           19,
           7,
           -1,
           -1,
           32,
           -1,
           -1,
           -1,
           -1,
           56,
           -1,
           32,
           -1,
           22,
           58,
           3,
           3,
           61,
           9,
           58,
           80,
           79,
           47,
           39,
           -1,
           -1,
           50,
           13,
           51,
           39,
           39,
           -1,
           -1,
           -1,
           36,
           41,
           -1,
           68,
           50,
           72,
           48,
           -1,
           -1,
           60,
           32,
           62,
           23,
           70,
           18,
           18,
           64,
           76,
           32,
           54,
           65,
           19,
           85,
           -1,
           70,
           67,
           29,
           19,
           76,
           7,
           32,
           14,
           83,
           29,
           29,
           -1,
           23,
           39,
           75,
           84,
           72,
           35,
           1,
           1,
           -1,
           -1,
           31,
           73,
           -1,
           -1,
           6,
           -1,
           32,
           50,
           28,
           -1,
           38,
           -1,
           -1,
           -1,
           -1,
           79,
           -1,
           29,
           0,
           0,
           84,
           45,
           58,
           0,
           32,
           29,
           -1,
           44,
           -1,
           32,
           -1,
           27,
           76,
           44,
           -1,
           80,
           23,
           -1,
           -1,
           26,
           -1,
           19,
           11,
           -1,
           26,
           53,
           -1,
           7,
           73,
           39,
           32,
           44,
           -1,
           81,
           58,
           -1,
           32,
           -1,
           -1,
           37,
           49,
           58,
           -1,
           0,
           58,
           79,
           46,
           48,
           24,
           24,
           18,
           31,
           54,
           -1,
           75,
           61,
           19,
           6,
           65,
           47,
           50,
           4,
           4,
           -1,
           75,
           32,
           12,
           37,
           3,
           42,
           74,
           73,
           63,
           29,
           -1,
           47,
           30,
           6,
           -1,
           -1,
           21,
           6,
           71,
           19,
           21,
           52,
           36,
           25,
           39,
           30,
           43,
           64,
           81,
           -1,
           42,
           73,
           6,
           35,
           -1,
           42,
           19,
           19,
           -1,
           -1,
           32,
           6,
           70,
           85,
           -1,
           72,
           74,
           -1,
           -1,
           -1,
           42,
           42,
           -1,
           4,
           72,
           39,
           -1,
           37,
           55,
           52,
           37,
           39,
           -1,
           31,
           46,
           -1,
           4,
           47,
           59,
           36,
           -1,
           8,
           -1,
           65,
           59,
           -1,
           -1,
           -1,
           10,
           40,
           57,
           69,
           42,
           -1,
           8,
           42,
           65,
           -1,
           -1,
           58,
           39,
           39,
           46,
           6,
           10,
           17,
           -1,
           -1,
           63,
           -1,
           -1,
           -1,
           61,
           58,
           -1,
           -1,
           -1,
           10,
           78,
           13,
           47,
           -1,
           -1,
           -1,
           -1,
           -1,
           48,
           -1,
           20,
           -1,
           -1,
           -1,
           -1,
           -1,
           40,
           -1,
           -1,
           53,
           84,
           82,
           33,
           -1,
           -1,
           48,
           63,
           6,
           -1,
           -1,
           7,
           27,
           16,
           17,
           17,
           83,
           32,
           20,
           42,
           48,
           75,
           73,
           51,
           12,
           12,
           58,
           82,
           20,
           84,
           82,
           -1,
           11,
           11,
           16,
           16,
           -1,
           10,
           -1,
           6,
           18,
           57,
           26,
           34,
           -1,
           -1,
           55,
           48,
           48,
           10,
           -1,
           -1,
           29,
           -1,
           24,
           21,
           42,
           -1,
           -1,
           -1,
           -1,
           39,
           -1,
           29,
           -1,
           20,
           -1,
           23,
           31,
           39,
           -1,
           72,
           57,
           73,
           -1,
           48,
           -1,
           39,
           -1,
           72,
           32,
           58,
           77,
           72,
           -1,
           31,
           -1,
           39,
           7,
           72,
           71,
           -1,
           74,
           6,
           51,
           0,
           -1,
           45,
           33,
           1,
           1,
           -1,
           53,
           66,
           -1,
           85,
           49,
           -1,
           73,
           -1,
           -1,
           42,
           -1,
           -1,
           84,
           -1,
           65,
           52,
           14,
           -1,
           -1,
           63,
           -1,
           -1,
           -1,
           75,
           35,
           -1,
           -1,
           28,
           -1,
           -1,
           21,
           44,
           33,
           -1,
           64,
           2,
           23,
           41,
           57,
           52,
           -1,
           -1,
           -1,
           6,
           -1,
           68,
           64,
           69,
           6,
           -1,
           36,
           23,
           -1,
           76,
           30,
           -1,
           -1,
           -1,
           66,
           66,
           -1,
           -1,
           39,
           56,
           -1,
           -1,
           14,
           8,
           -1,
           34,
           -1,
           80,
           -1,
           12,
           51,
           32,
           35,
           84,
           4,
           4,
           46,
           35,
           -1,
           -1,
           -1,
           5,
           29,
           32,
           5,
           5,
           -1,
           35,
           22,
           37,
           62,
           19,
           28,
           54,
           17,
           -1,
           29
          ],
          "coloraxis": "coloraxis",
          "symbol": "circle"
         },
         "mode": "markers",
         "name": "",
         "orientation": "v",
         "showlegend": false,
         "type": "scatter",
         "x": [
          -7.3018036,
          0.85232776,
          -4.5086174,
          3.7662508,
          7.7651844,
          -6.132653,
          -9.202791,
          2.1689236,
          -5.0488067,
          9.091147,
          9.321763,
          6.9303956,
          -9.455016,
          12.832104,
          1.0431017,
          11.568175,
          11.572629,
          -2.7407744,
          2.433364,
          8.438275,
          11.387551,
          2.0064423,
          -7.52982,
          3.1923141,
          -3.1856787,
          7.0665436,
          -2.802006,
          -1.4433942,
          -5.1587963,
          -6.1790347,
          -7.508832,
          -7.570509,
          0.36299103,
          10.579892,
          -5.4190383,
          -4.903152,
          -4.569904,
          0.7117222,
          -8.726955,
          -3.4291663,
          -9.915755,
          -9.954813,
          14.1107645,
          8.805337,
          -3.0964062,
          11.168989,
          -0.85419285,
          0.7828429,
          1.7490573,
          13.369332,
          13.341887,
          -1.8272516,
          7.4519424,
          -3.2123425,
          -4.440454,
          8.287459,
          -3.9166725,
          -3.4973946,
          3.4321666,
          1.6388863,
          -0.6176079,
          -0.73672473,
          7.4392047,
          -1.9859481,
          -1.6086694,
          9.857351,
          10.112526,
          7.512162,
          -2.9697294,
          -2.007485,
          -2.936131,
          7.146836,
          5.4208355,
          -1.7718123,
          -0.2713178,
          3.6300552,
          0.54030985,
          -0.9316975,
          10.889288,
          6.3362617,
          4.6781087,
          14.665144,
          12.859403,
          -11.411497,
          -11.415876,
          -7.582925,
          8.469945,
          -9.184476,
          -9.188104,
          4.652078,
          9.514768,
          9.342351,
          6.6359053,
          2.4165769,
          -1.4106135,
          -1.1979382,
          -1.2759085,
          -7.7099504,
          8.37535,
          6.8150697,
          8.199925,
          12.116941,
          -0.44429842,
          -3.8210416,
          6.406299,
          -10.227228,
          -2.2722452,
          0.60920054,
          0.010476085,
          2.565704,
          -9.902146,
          -9.946003,
          -14.061314,
          -14.048574,
          2.1186452,
          -3.6915152,
          5.040069,
          4.661979,
          -8.764924,
          5.7000675,
          -10.969229,
          -11.038188,
          -1.1852043,
          2.6422403,
          6.5236626,
          -4.4795938,
          -3.8061285,
          11.536976,
          -2.5824816,
          -0.27215677,
          4.4436193,
          9.603399,
          -0.39192963,
          -4.077831,
          -2.2439299,
          -0.99375623,
          -1.4813235,
          4.1685796,
          -3.5444458,
          -8.831421,
          0.4718711,
          0.051989615,
          -0.65932107,
          9.568808,
          -1.1577647,
          11.678111,
          -1.154589,
          -1.0959692,
          7.8159914,
          5.153987,
          5.380793,
          -7.187957,
          -4.583598,
          -8.033395,
          -8.0763035,
          -8.176165,
          -1.7899814,
          3.545128,
          6.612419,
          -5.8074155,
          -10.389115,
          -3.9876032,
          -0.59910613,
          -4.190069,
          -0.051455185,
          -5.039163,
          -10.852779,
          -1.2931257,
          -1.9323224,
          3.9708626,
          -0.17024702,
          -3.4038296,
          -3.8675587,
          -3.947508,
          -0.26136866,
          -7.044689,
          -3.19353,
          -3.5434034,
          -3.9068735,
          -2.1532307,
          -1.9876018,
          -14.600923,
          -14.600538,
          0.03965042,
          4.5372763,
          8.906037,
          -5.756628,
          0.35116264,
          0.33576775,
          10.561552,
          10.149056,
          4.316343,
          9.029403,
          -4.057704,
          -6.3903856,
          -8.025614,
          7.5900493,
          -2.510818,
          7.982588,
          -7.157809,
          -3.0013783,
          -5.890058,
          -1.9579998,
          -13.957301,
          -13.962057,
          -4.5559454,
          2.7381246,
          4.603306,
          -11.3974085,
          5.1983085,
          -1.1966559,
          13.36184,
          4.9419184,
          4.46618,
          4.2046227,
          -5.7477617,
          12.356211,
          -0.45002717,
          3.6682737,
          0.011802129,
          -4.1818094,
          -6.371527,
          5.7556944,
          -1.5155824,
          0.12173144,
          -2.8000891,
          -10.356451,
          -11.096093,
          7.5582256,
          -0.5643998,
          4.9026523,
          -3.082528,
          -2.541078,
          -5.460047,
          -1.1924459,
          4.1296535,
          4.419774,
          -2.0140603,
          -5.6559215,
          2.916443,
          1.5880039,
          2.509936,
          -11.689501,
          -11.69054,
          2.707031,
          10.196926,
          5.1566763,
          -0.679788,
          -12.067138,
          4.26459,
          -3.1632102,
          2.479367,
          11.051103,
          -7.8718762,
          -7.941205,
          -7.642188,
          10.159259,
          6.6164293,
          -6.4277544,
          -3.8277504,
          -1.4712135,
          -11.195598,
          11.56432,
          -6.1950703,
          9.877967,
          9.276834,
          -5.4009457,
          -5.4871936,
          1.2527406,
          -3.5733309,
          2.7072954,
          9.727906,
          1.7911584,
          -10.266612,
          3.4460082,
          -4.035272,
          -5.7749186,
          6.6563954,
          -3.2917128,
          4.122551,
          10.149045,
          5.6054363,
          9.539422,
          -13.062186,
          -13.055926,
          -8.697749,
          9.973854,
          -3.8221686,
          -10.42478,
          -8.78562,
          -4.5897856,
          -8.1798,
          -9.227638,
          -2.285362,
          6.048895,
          -0.6318561,
          -7.6857753,
          -5.2260423,
          -2.2982497,
          5.781324,
          -6.035551,
          11.643051,
          -2.596299,
          -2.5469809,
          2.376017,
          -12.453554,
          -12.483088,
          -5.103958,
          -3.8491783,
          4.422912,
          12.349542,
          -4.422434,
          -4.1097636,
          8.838974,
          -2.224056,
          -3.7021623,
          -1.0677104,
          -1.0315517,
          13.847657,
          2.8466206,
          2.6262436,
          13.771821,
          -6.5091424,
          -1.7169372,
          -1.9155631,
          1.738493,
          3.2111523,
          6.358833,
          -4.3168817,
          2.9147224,
          -1.1774404,
          4.6933575,
          10.554915,
          3.1853578,
          12.677208,
          -3.9325764,
          10.375039,
          1.560277,
          -8.734837,
          -4.9024177,
          0.88652897,
          -4.7408714,
          -6.0374846,
          0.75954574,
          8.499948,
          8.554701,
          2.6188154,
          0.26775792,
          0.7888839,
          5.2831235,
          0.25959554,
          4.9577174,
          0.86693496,
          1.1391345,
          3.525493,
          -6.7646465,
          1.7644713,
          -7.859865,
          4.1522183,
          -2.0494502,
          -2.642386,
          2.6453261,
          10.062807,
          0.13096379,
          7.86051,
          -15.990715,
          -15.988243,
          7.382144,
          5.9701962,
          -6.1889744,
          -0.4442891,
          -0.56366396,
          4.298468,
          -8.88496,
          2.6687021,
          5.992625,
          0.34160477,
          -6.0951214,
          -1.0560217,
          10.65406,
          -4.9156256,
          3.5701625,
          -10.98301,
          -11.0402975,
          -9.51379,
          12.262138,
          -0.35659224,
          -7.615706,
          -4.684409,
          -4.704507,
          -1.9793578,
          0.7523342,
          -6.7451377,
          0.9849322,
          -9.5850725,
          -9.617242,
          4.823436,
          -4.7913933,
          -3.796026,
          -5.0182323,
          11.391244,
          -5.596389,
          13.175002,
          6.8580317,
          10.805401,
          13.8217945,
          13.8729105,
          -1.7030097,
          12.416777,
          -5.7237062,
          6.7597136,
          6.658255,
          -3.2365375,
          4.7946043,
          -7.2359033,
          2.7857535,
          12.985296,
          -3.5372076,
          -3.953166,
          -3.504454,
          9.725349,
          9.743218,
          6.208331,
          -4.3455977,
          -6.6066546,
          -4.4291663,
          -3.401563,
          -3.247715,
          -11.605245,
          -11.650888,
          -6.3757935,
          -6.396165,
          12.363038,
          -0.30176035,
          -6.1493406,
          11.381381,
          -8.195444,
          5.769703,
          0.058732755,
          -0.08613671,
          11.883379,
          4.072889,
          6.6998353,
          11.568482,
          11.664231,
          0.35015008,
          -5.385887,
          5.2362914,
          -2.4655962,
          -6.951998,
          -7.60383,
          -8.860634,
          4.0296984,
          -13.840987,
          -13.840784,
          7.1952405,
          -5.2620416,
          -1.443517,
          2.7600806,
          -1.4907576,
          11.036691,
          -7.2965117,
          -4.2207084,
          -8.009225,
          8.711722,
          -2.6301956,
          -2.908498,
          -2.02943,
          5.529226,
          -4.5506544,
          -4.104007,
          12.510148,
          7.998726,
          -1.9916201,
          1.3727933,
          -1.9799415,
          3.9550023,
          3.5147223,
          -2.2056944,
          -2.4927635,
          7.8634706,
          8.953849,
          7.7046824,
          -0.96659696,
          -1.5380839,
          -1.5907432,
          -3.260098,
          11.1600895,
          -4.1968718,
          11.10707,
          -3.6027718,
          -11.74595,
          6.903603,
          3.4361393,
          -5.117013,
          -13.724181,
          -13.733491,
          -5.310086,
          5.382819,
          -1.8170139,
          6.8328238,
          -4.119136,
          10.676459,
          -5.6681633,
          -5.446647,
          15.5505,
          15.547011,
          3.824069,
          8.1825,
          1.0485997,
          -3.8471856,
          4.0276756,
          -6.081508,
          -3.9296548,
          0.022294948,
          0.7929255,
          -2.841634,
          6.9245973,
          2.7738502,
          9.908951,
          -2.0687904,
          -3.2589653,
          -2.48727,
          7.32831,
          12.385392,
          -3.9202108,
          -1.6880213,
          -2.5405557,
          -8.655136,
          4.593011,
          -5.222517,
          0.07483182,
          -7.1841784,
          7.7729225,
          -7.467185,
          1.0345101,
          5.720826,
          -5.0590763,
          -11.573336,
          -11.592211,
          -1.2862502,
          11.755799,
          1.1016114,
          -0.9253129,
          -7.5676,
          0.3487517,
          12.311881,
          -2.280445,
          -7.4467077,
          -7.9542737,
          -7.174913,
          -0.9935238,
          5.786612,
          4.2263293,
          7.3388634,
          -5.7068067,
          -2.4338775,
          -2.3877463,
          9.926837,
          0.9687226,
          -2.865819,
          1.8658519,
          -9.560403,
          11.035686,
          0.008158816,
          1.419425,
          3.4673264,
          -0.17761421,
          -0.18087077,
          -4.9547915,
          -6.7683535,
          9.081896,
          -3.847667,
          2.8444798,
          -2.7943385,
          -4.125167,
          -5.8734636,
          -5.8175306,
          2.5479193,
          -3.0257201,
          6.111941,
          3.9462485,
          3.954531,
          10.993691,
          -3.7875473,
          3.2666287,
          10.603631,
          10.602868,
          8.086229,
          -1.9732867,
          -8.738226,
          2.2401674,
          5.680201,
          -10.745139,
          -4.061418,
          5.6421695,
          7.66378,
          -0.8069271,
          -2.996696
         ],
         "xaxis": "x",
         "y": [
          -1.6448009,
          2.891712,
          6.252844,
          -1.79618,
          11.626697,
          1.5268295,
          -6.61831,
          -5.5589104,
          0.32419363,
          -0.28194872,
          3.7467637,
          -1.4679164,
          -3.7367768,
          -3.728171,
          -0.91263413,
          -5.9138947,
          -5.927549,
          -1.0791032,
          1.6834145,
          10.981977,
          5.699326,
          2.0917103,
          -4.1713243,
          7.8785214,
          -2.8374128,
          11.094881,
          1.7043802,
          11.7517805,
          0.20484072,
          2.7868495,
          -1.5774657,
          -1.5311502,
          -3.8656406,
          0.4271146,
          -2.8723924,
          5.9203997,
          -5.232056,
          -0.24970594,
          -2.4765625,
          2.7434037,
          0.87582994,
          0.88084066,
          3.9963386,
          -3.9167378,
          -4.9996486,
          7.074329,
          -3.1100616,
          3.5830023,
          -3.779102,
          -4.7915106,
          -4.743311,
          10.910229,
          4.2634745,
          -6.993236,
          -6.5497055,
          -0.7521152,
          4.0541577,
          -2.6691666,
          8.108606,
          -5.1333604,
          3.8608482,
          0.33893624,
          6.934236,
          -2.6510417,
          1.4383402,
          0.53022844,
          6.760468,
          5.6818066,
          -6.180394,
          -2.4978786,
          0.038401037,
          -1.4442176,
          -2.5954874,
          -3.2176592,
          -8.61493,
          -2.2587802,
          -1.0870595,
          -3.7476726,
          -3.8190894,
          -3.613742,
          7.3482018,
          1.8594838,
          5.7648053,
          -6.376992,
          -6.372324,
          -3.5927503,
          1.5082957,
          9.802503,
          9.794617,
          -6.318271,
          -2.7825809,
          2.1675322,
          0.6423654,
          0.6663213,
          -2.9526522,
          7.0929265,
          9.257086,
          1.9735458,
          -0.08724625,
          -7.179379,
          2.6211393,
          3.381639,
          3.230659,
          -2.5540147,
          1.4507812,
          -0.9103308,
          10.181446,
          -5.111386,
          0.9365622,
          4.976598,
          4.5306025,
          4.5373282,
          2.027268,
          2.0284436,
          -1.2159779,
          -4.1130877,
          5.905475,
          -9.639703,
          -7.2055798,
          -1.2108608,
          6.205906,
          6.1673303,
          2.30618,
          7.565101,
          -0.45219365,
          -1.0191578,
          -0.59753364,
          1.0083011,
          -8.040909,
          -4.056615,
          -5.152379,
          -2.3840594,
          9.712339,
          2.9683409,
          -7.284481,
          -8.665349,
          -6.0814786,
          0.40502468,
          -9.448364,
          0.91074145,
          4.4817266,
          -10.1736355,
          1.281654,
          -1.3071674,
          -1.1321677,
          0.6218013,
          -4.883366,
          -4.922167,
          -0.039143156,
          3.180414,
          1.2654573,
          -9.410096,
          1.2860229,
          7.5584073,
          7.5877304,
          -3.7552264,
          -3.514366,
          4.6531262,
          -3.7855427,
          -4.114436,
          -1.544071,
          -1.4068725,
          -2.5399487,
          1.3778207,
          -0.16196136,
          5.854596,
          -0.19467108,
          -3.3557796,
          11.097378,
          5.933592,
          10.722644,
          -1.3160003,
          5.280419,
          5.59086,
          -1.4466546,
          -7.393133,
          -8.30661,
          -5.5652456,
          -2.3718266,
          -0.8022145,
          3.6625977,
          -3.9919598,
          -3.9901767,
          -10.169356,
          2.0796921,
          3.9934192,
          1.2464409,
          5.867438,
          5.8903213,
          7.389915,
          1.707128,
          3.8777978,
          -1.7898223,
          7.1569395,
          -1.1623958,
          -1.539669,
          4.074944,
          -5.477535,
          -3.2190638,
          -0.4077115,
          -0.27239,
          -0.14997678,
          6.092269,
          7.7257056,
          7.7177844,
          -2.3785152,
          -4.5034294,
          -1.2695609,
          9.147099,
          4.708104,
          5.2540865,
          -2.5718184,
          -4.2946296,
          2.2889585,
          5.049822,
          -1.7740382,
          3.119806,
          -2.765079,
          -4.394326,
          2.04238,
          -0.5646736,
          -7.108824,
          2.1245418,
          -1.8785403,
          7.6299477,
          1.4239229,
          -1.0381757,
          1.7848442,
          -2.599026,
          7.4324775,
          -2.4961317,
          -1.9276174,
          10.600019,
          0.48395702,
          -9.334351,
          5.6154885,
          -4.160439,
          2.098641,
          -0.39874172,
          -2.5177872,
          8.7212305,
          4.7149267,
          -9.740397,
          -9.740086,
          1.0818013,
          -0.77086014,
          -0.95074934,
          -0.55551887,
          9.302756,
          -1.9773773,
          -0.4427615,
          -4.1789694,
          -0.7899108,
          -5.4361825,
          -5.4532323,
          7.523878,
          3.5070388,
          -4.07275,
          -2.2933779,
          -5.916776,
          2.6513174,
          -1.2764496,
          5.880178,
          -4.940791,
          0.33546823,
          -1.926674,
          10.995602,
          10.940308,
          -3.090332,
          -5.208529,
          3.61954,
          -5.036265,
          1.1349031,
          6.5527554,
          -6.7714024,
          -4.651206,
          1.7894468,
          0.54734313,
          6.3908277,
          10.240829,
          0.20406166,
          -5.315986,
          6.484088,
          -0.10748807,
          -0.09735256,
          4.7959776,
          5.375523,
          1.0534075,
          -1.2732503,
          4.4238653,
          -6.9028797,
          0.27010942,
          -2.549077,
          -9.093904,
          -5.073391,
          3.6751664,
          -3.5004056,
          -0.47210026,
          -6.111298,
          -7.3839293,
          0.6594617,
          6.8510346,
          4.096661,
          -3.3423383,
          -6.319273,
          -1.7649728,
          -1.7707021,
          -2.7674956,
          0.18985777,
          5.2941904,
          5.916663,
          1.8882694,
          -1.7453421,
          0.5586501,
          -1.367255,
          -4.4370227,
          -12.303244,
          -12.343955,
          3.9067466,
          -5.8273616,
          -6.931907,
          0.63550305,
          9.828277,
          -1.0769503,
          -9.354255,
          -0.16058105,
          1.7550709,
          -2.0466967,
          -6.7292743,
          0.85760766,
          -10.223004,
          1.3548434,
          3.0827007,
          -3.3769565,
          -1.174388,
          11.5272,
          0.18896344,
          -2.069867,
          0.75677854,
          -1.6206232,
          10.08444,
          -3.588271,
          -4.328451,
          -2.1998374,
          -8.1139,
          -8.070592,
          -7.6900997,
          12.322232,
          1.4297093,
          0.25497156,
          -2.5942554,
          -7.10925,
          -7.8472915,
          10.4533415,
          -6.895019,
          -4.2586102,
          -4.1726665,
          2.284875,
          -1.3235,
          -9.065812,
          -10.669723,
          -3.7419078,
          6.4287634,
          11.7104225,
          6.8214192,
          -0.025851632,
          -0.02306851,
          0.5926127,
          -7.7746596,
          -5.8647056,
          11.097886,
          2.3099651,
          -0.6608875,
          -0.36387923,
          -2.25953,
          5.8041964,
          12.308433,
          -2.8427122,
          9.651726,
          0.9251305,
          -4.6076226,
          -0.22262892,
          -3.722517,
          -3.7091074,
          -3.7273858,
          0.3547501,
          -1.2556534,
          5.0299373,
          -10.778687,
          -10.798423,
          -4.7990036,
          0.38355532,
          1.8520983,
          2.3869863,
          2.206404,
          2.2274435,
          -2.737583,
          -2.0636654,
          -3.1982129,
          3.638454,
          -2.1764238,
          -3.625408,
          1.2082257,
          1.2739084,
          6.220437,
          -0.424763,
          -0.58740425,
          10.453884,
          3.2668128,
          7.289507,
          7.7815523,
          7.854259,
          -1.8712986,
          6.0059423,
          5.2367373,
          -5.7264433,
          1.006948,
          -6.0884056,
          0.16801742,
          2.9451015,
          -5.342719,
          -5.471046,
          -1.0860653,
          -3.270941,
          4.906283,
          -2.4186516,
          -3.4792497,
          -3.4667232,
          2.082208,
          2.1057582,
          7.4790854,
          7.4999723,
          -1.0516119,
          11.83092,
          3.3198068,
          5.3872347,
          6.534139,
          0.40699142,
          7.6119003,
          -5.576888,
          -2.6514068,
          -3.1091034,
          -2.1109443,
          0.014416328,
          -0.32792082,
          12.595294,
          -1.695815,
          8.618437,
          5.9674773,
          1.0020661,
          -6.0050154,
          5.2874975,
          -6.159579,
          4.779463,
          4.7771106,
          -5.748918,
          2.2534113,
          -10.02691,
          -9.390606,
          5.944465,
          -9.787742,
          5.7847204,
          8.888943,
          -8.657237,
          4.3073664,
          -8.717719,
          -4.2757845,
          -0.20987022,
          0.021259848,
          0.10907493,
          -7.861765,
          0.92450464,
          0.7227801,
          -10.119874,
          6.700564,
          -1.5991619,
          5.4721847,
          -1.3310345,
          -2.220881,
          -1.565863,
          8.782083,
          3.8469188,
          1.5255876,
          -10.534116,
          10.970747,
          -0.64697134,
          0.63509333,
          2.214861,
          -4.4261475,
          5.799115,
          3.024655,
          9.30039,
          2.7631874,
          -4.463833,
          3.7152715,
          -5.8831515,
          -5.8688874,
          -5.5916576,
          -3.3856025,
          0.8597883,
          2.2878175,
          -1.5623446,
          -1.4555168,
          -8.7894745,
          0.95077765,
          -2.9352965,
          -2.9473722,
          -5.361734,
          -2.010206,
          5.091302,
          -2.2604427,
          10.234795,
          -4.3055058,
          -7.380272,
          10.424031,
          -4.622489,
          -2.50023,
          0.25811565,
          -0.86754304,
          1.4186842,
          8.800123,
          -4.820344,
          4.086557,
          -4.784707,
          1.9442414,
          7.5045056,
          -7.423406,
          7.2590475,
          3.7563457,
          -4.0576444,
          4.5275345,
          -8.899701,
          -2.9685652,
          11.55127,
          -8.441143,
          3.6810946,
          -0.34489682,
          -7.1322765,
          4.1960087,
          4.205216,
          0.056861658,
          5.3114696,
          -6.572132,
          0.8258074,
          -4.246517,
          -3.2869797,
          6.6492457,
          -4.139937,
          0.061077796,
          -8.7060375,
          3.5915434,
          -3.88067,
          -5.8121347,
          0.46366486,
          -0.63586116,
          -1.0637591,
          0.6229421,
          0.7719115,
          -3.1597745,
          11.67956,
          -9.726074,
          -1.4484135,
          -5.141897,
          -9.79144,
          10.197589,
          10.391193,
          2.9558573,
          -6.653846,
          -6.666955,
          -0.7088749,
          2.2223516,
          -6.43589,
          2.5134525,
          5.6172466,
          4.3267198,
          -2.2119515,
          10.063765,
          10.153377,
          -3.4621706,
          4.0558505,
          4.000188,
          -12.173297,
          -12.179835,
          8.67684,
          6.2043743,
          5.5379095,
          9.720946,
          9.747728,
          -1.1948841,
          3.7074206,
          -7.523635,
          2.529015,
          1.5530248,
          -1.8209535,
          7.6023498,
          -3.462995,
          8.38884,
          5.043983,
          6.3507442
         ],
         "yaxis": "y"
        }
       ],
       "layout": {
        "coloraxis": {
         "colorbar": {
          "title": {
           "text": "cluster"
          }
         },
         "colorscale": [
          [
           0,
           "#0d0887"
          ],
          [
           0.1111111111111111,
           "#46039f"
          ],
          [
           0.2222222222222222,
           "#7201a8"
          ],
          [
           0.3333333333333333,
           "#9c179e"
          ],
          [
           0.4444444444444444,
           "#bd3786"
          ],
          [
           0.5555555555555556,
           "#d8576b"
          ],
          [
           0.6666666666666666,
           "#ed7953"
          ],
          [
           0.7777777777777778,
           "#fb9f3a"
          ],
          [
           0.8888888888888888,
           "#fdca26"
          ],
          [
           1,
           "#f0f921"
          ]
         ]
        },
        "legend": {
         "tracegroupgap": 0
        },
        "template": {
         "data": {
          "bar": [
           {
            "error_x": {
             "color": "#2a3f5f"
            },
            "error_y": {
             "color": "#2a3f5f"
            },
            "marker": {
             "line": {
              "color": "#E5ECF6",
              "width": 0.5
             },
             "pattern": {
              "fillmode": "overlay",
              "size": 10,
              "solidity": 0.2
             }
            },
            "type": "bar"
           }
          ],
          "barpolar": [
           {
            "marker": {
             "line": {
              "color": "#E5ECF6",
              "width": 0.5
             },
             "pattern": {
              "fillmode": "overlay",
              "size": 10,
              "solidity": 0.2
             }
            },
            "type": "barpolar"
           }
          ],
          "carpet": [
           {
            "aaxis": {
             "endlinecolor": "#2a3f5f",
             "gridcolor": "white",
             "linecolor": "white",
             "minorgridcolor": "white",
             "startlinecolor": "#2a3f5f"
            },
            "baxis": {
             "endlinecolor": "#2a3f5f",
             "gridcolor": "white",
             "linecolor": "white",
             "minorgridcolor": "white",
             "startlinecolor": "#2a3f5f"
            },
            "type": "carpet"
           }
          ],
          "choropleth": [
           {
            "colorbar": {
             "outlinewidth": 0,
             "ticks": ""
            },
            "type": "choropleth"
           }
          ],
          "contour": [
           {
            "colorbar": {
             "outlinewidth": 0,
             "ticks": ""
            },
            "colorscale": [
             [
              0,
              "#0d0887"
             ],
             [
              0.1111111111111111,
              "#46039f"
             ],
             [
              0.2222222222222222,
              "#7201a8"
             ],
             [
              0.3333333333333333,
              "#9c179e"
             ],
             [
              0.4444444444444444,
              "#bd3786"
             ],
             [
              0.5555555555555556,
              "#d8576b"
             ],
             [
              0.6666666666666666,
              "#ed7953"
             ],
             [
              0.7777777777777778,
              "#fb9f3a"
             ],
             [
              0.8888888888888888,
              "#fdca26"
             ],
             [
              1,
              "#f0f921"
             ]
            ],
            "type": "contour"
           }
          ],
          "contourcarpet": [
           {
            "colorbar": {
             "outlinewidth": 0,
             "ticks": ""
            },
            "type": "contourcarpet"
           }
          ],
          "heatmap": [
           {
            "colorbar": {
             "outlinewidth": 0,
             "ticks": ""
            },
            "colorscale": [
             [
              0,
              "#0d0887"
             ],
             [
              0.1111111111111111,
              "#46039f"
             ],
             [
              0.2222222222222222,
              "#7201a8"
             ],
             [
              0.3333333333333333,
              "#9c179e"
             ],
             [
              0.4444444444444444,
              "#bd3786"
             ],
             [
              0.5555555555555556,
              "#d8576b"
             ],
             [
              0.6666666666666666,
              "#ed7953"
             ],
             [
              0.7777777777777778,
              "#fb9f3a"
             ],
             [
              0.8888888888888888,
              "#fdca26"
             ],
             [
              1,
              "#f0f921"
             ]
            ],
            "type": "heatmap"
           }
          ],
          "heatmapgl": [
           {
            "colorbar": {
             "outlinewidth": 0,
             "ticks": ""
            },
            "colorscale": [
             [
              0,
              "#0d0887"
             ],
             [
              0.1111111111111111,
              "#46039f"
             ],
             [
              0.2222222222222222,
              "#7201a8"
             ],
             [
              0.3333333333333333,
              "#9c179e"
             ],
             [
              0.4444444444444444,
              "#bd3786"
             ],
             [
              0.5555555555555556,
              "#d8576b"
             ],
             [
              0.6666666666666666,
              "#ed7953"
             ],
             [
              0.7777777777777778,
              "#fb9f3a"
             ],
             [
              0.8888888888888888,
              "#fdca26"
             ],
             [
              1,
              "#f0f921"
             ]
            ],
            "type": "heatmapgl"
           }
          ],
          "histogram": [
           {
            "marker": {
             "pattern": {
              "fillmode": "overlay",
              "size": 10,
              "solidity": 0.2
             }
            },
            "type": "histogram"
           }
          ],
          "histogram2d": [
           {
            "colorbar": {
             "outlinewidth": 0,
             "ticks": ""
            },
            "colorscale": [
             [
              0,
              "#0d0887"
             ],
             [
              0.1111111111111111,
              "#46039f"
             ],
             [
              0.2222222222222222,
              "#7201a8"
             ],
             [
              0.3333333333333333,
              "#9c179e"
             ],
             [
              0.4444444444444444,
              "#bd3786"
             ],
             [
              0.5555555555555556,
              "#d8576b"
             ],
             [
              0.6666666666666666,
              "#ed7953"
             ],
             [
              0.7777777777777778,
              "#fb9f3a"
             ],
             [
              0.8888888888888888,
              "#fdca26"
             ],
             [
              1,
              "#f0f921"
             ]
            ],
            "type": "histogram2d"
           }
          ],
          "histogram2dcontour": [
           {
            "colorbar": {
             "outlinewidth": 0,
             "ticks": ""
            },
            "colorscale": [
             [
              0,
              "#0d0887"
             ],
             [
              0.1111111111111111,
              "#46039f"
             ],
             [
              0.2222222222222222,
              "#7201a8"
             ],
             [
              0.3333333333333333,
              "#9c179e"
             ],
             [
              0.4444444444444444,
              "#bd3786"
             ],
             [
              0.5555555555555556,
              "#d8576b"
             ],
             [
              0.6666666666666666,
              "#ed7953"
             ],
             [
              0.7777777777777778,
              "#fb9f3a"
             ],
             [
              0.8888888888888888,
              "#fdca26"
             ],
             [
              1,
              "#f0f921"
             ]
            ],
            "type": "histogram2dcontour"
           }
          ],
          "mesh3d": [
           {
            "colorbar": {
             "outlinewidth": 0,
             "ticks": ""
            },
            "type": "mesh3d"
           }
          ],
          "parcoords": [
           {
            "line": {
             "colorbar": {
              "outlinewidth": 0,
              "ticks": ""
             }
            },
            "type": "parcoords"
           }
          ],
          "pie": [
           {
            "automargin": true,
            "type": "pie"
           }
          ],
          "scatter": [
           {
            "fillpattern": {
             "fillmode": "overlay",
             "size": 10,
             "solidity": 0.2
            },
            "type": "scatter"
           }
          ],
          "scatter3d": [
           {
            "line": {
             "colorbar": {
              "outlinewidth": 0,
              "ticks": ""
             }
            },
            "marker": {
             "colorbar": {
              "outlinewidth": 0,
              "ticks": ""
             }
            },
            "type": "scatter3d"
           }
          ],
          "scattercarpet": [
           {
            "marker": {
             "colorbar": {
              "outlinewidth": 0,
              "ticks": ""
             }
            },
            "type": "scattercarpet"
           }
          ],
          "scattergeo": [
           {
            "marker": {
             "colorbar": {
              "outlinewidth": 0,
              "ticks": ""
             }
            },
            "type": "scattergeo"
           }
          ],
          "scattergl": [
           {
            "marker": {
             "colorbar": {
              "outlinewidth": 0,
              "ticks": ""
             }
            },
            "type": "scattergl"
           }
          ],
          "scattermapbox": [
           {
            "marker": {
             "colorbar": {
              "outlinewidth": 0,
              "ticks": ""
             }
            },
            "type": "scattermapbox"
           }
          ],
          "scatterpolar": [
           {
            "marker": {
             "colorbar": {
              "outlinewidth": 0,
              "ticks": ""
             }
            },
            "type": "scatterpolar"
           }
          ],
          "scatterpolargl": [
           {
            "marker": {
             "colorbar": {
              "outlinewidth": 0,
              "ticks": ""
             }
            },
            "type": "scatterpolargl"
           }
          ],
          "scatterternary": [
           {
            "marker": {
             "colorbar": {
              "outlinewidth": 0,
              "ticks": ""
             }
            },
            "type": "scatterternary"
           }
          ],
          "surface": [
           {
            "colorbar": {
             "outlinewidth": 0,
             "ticks": ""
            },
            "colorscale": [
             [
              0,
              "#0d0887"
             ],
             [
              0.1111111111111111,
              "#46039f"
             ],
             [
              0.2222222222222222,
              "#7201a8"
             ],
             [
              0.3333333333333333,
              "#9c179e"
             ],
             [
              0.4444444444444444,
              "#bd3786"
             ],
             [
              0.5555555555555556,
              "#d8576b"
             ],
             [
              0.6666666666666666,
              "#ed7953"
             ],
             [
              0.7777777777777778,
              "#fb9f3a"
             ],
             [
              0.8888888888888888,
              "#fdca26"
             ],
             [
              1,
              "#f0f921"
             ]
            ],
            "type": "surface"
           }
          ],
          "table": [
           {
            "cells": {
             "fill": {
              "color": "#EBF0F8"
             },
             "line": {
              "color": "white"
             }
            },
            "header": {
             "fill": {
              "color": "#C8D4E3"
             },
             "line": {
              "color": "white"
             }
            },
            "type": "table"
           }
          ]
         },
         "layout": {
          "annotationdefaults": {
           "arrowcolor": "#2a3f5f",
           "arrowhead": 0,
           "arrowwidth": 1
          },
          "autotypenumbers": "strict",
          "coloraxis": {
           "colorbar": {
            "outlinewidth": 0,
            "ticks": ""
           }
          },
          "colorscale": {
           "diverging": [
            [
             0,
             "#8e0152"
            ],
            [
             0.1,
             "#c51b7d"
            ],
            [
             0.2,
             "#de77ae"
            ],
            [
             0.3,
             "#f1b6da"
            ],
            [
             0.4,
             "#fde0ef"
            ],
            [
             0.5,
             "#f7f7f7"
            ],
            [
             0.6,
             "#e6f5d0"
            ],
            [
             0.7,
             "#b8e186"
            ],
            [
             0.8,
             "#7fbc41"
            ],
            [
             0.9,
             "#4d9221"
            ],
            [
             1,
             "#276419"
            ]
           ],
           "sequential": [
            [
             0,
             "#0d0887"
            ],
            [
             0.1111111111111111,
             "#46039f"
            ],
            [
             0.2222222222222222,
             "#7201a8"
            ],
            [
             0.3333333333333333,
             "#9c179e"
            ],
            [
             0.4444444444444444,
             "#bd3786"
            ],
            [
             0.5555555555555556,
             "#d8576b"
            ],
            [
             0.6666666666666666,
             "#ed7953"
            ],
            [
             0.7777777777777778,
             "#fb9f3a"
            ],
            [
             0.8888888888888888,
             "#fdca26"
            ],
            [
             1,
             "#f0f921"
            ]
           ],
           "sequentialminus": [
            [
             0,
             "#0d0887"
            ],
            [
             0.1111111111111111,
             "#46039f"
            ],
            [
             0.2222222222222222,
             "#7201a8"
            ],
            [
             0.3333333333333333,
             "#9c179e"
            ],
            [
             0.4444444444444444,
             "#bd3786"
            ],
            [
             0.5555555555555556,
             "#d8576b"
            ],
            [
             0.6666666666666666,
             "#ed7953"
            ],
            [
             0.7777777777777778,
             "#fb9f3a"
            ],
            [
             0.8888888888888888,
             "#fdca26"
            ],
            [
             1,
             "#f0f921"
            ]
           ]
          },
          "colorway": [
           "#636efa",
           "#EF553B",
           "#00cc96",
           "#ab63fa",
           "#FFA15A",
           "#19d3f3",
           "#FF6692",
           "#B6E880",
           "#FF97FF",
           "#FECB52"
          ],
          "font": {
           "color": "#2a3f5f"
          },
          "geo": {
           "bgcolor": "white",
           "lakecolor": "white",
           "landcolor": "#E5ECF6",
           "showlakes": true,
           "showland": true,
           "subunitcolor": "white"
          },
          "hoverlabel": {
           "align": "left"
          },
          "hovermode": "closest",
          "mapbox": {
           "style": "light"
          },
          "paper_bgcolor": "white",
          "plot_bgcolor": "#E5ECF6",
          "polar": {
           "angularaxis": {
            "gridcolor": "white",
            "linecolor": "white",
            "ticks": ""
           },
           "bgcolor": "#E5ECF6",
           "radialaxis": {
            "gridcolor": "white",
            "linecolor": "white",
            "ticks": ""
           }
          },
          "scene": {
           "xaxis": {
            "backgroundcolor": "#E5ECF6",
            "gridcolor": "white",
            "gridwidth": 2,
            "linecolor": "white",
            "showbackground": true,
            "ticks": "",
            "zerolinecolor": "white"
           },
           "yaxis": {
            "backgroundcolor": "#E5ECF6",
            "gridcolor": "white",
            "gridwidth": 2,
            "linecolor": "white",
            "showbackground": true,
            "ticks": "",
            "zerolinecolor": "white"
           },
           "zaxis": {
            "backgroundcolor": "#E5ECF6",
            "gridcolor": "white",
            "gridwidth": 2,
            "linecolor": "white",
            "showbackground": true,
            "ticks": "",
            "zerolinecolor": "white"
           }
          },
          "shapedefaults": {
           "line": {
            "color": "#2a3f5f"
           }
          },
          "ternary": {
           "aaxis": {
            "gridcolor": "white",
            "linecolor": "white",
            "ticks": ""
           },
           "baxis": {
            "gridcolor": "white",
            "linecolor": "white",
            "ticks": ""
           },
           "bgcolor": "#E5ECF6",
           "caxis": {
            "gridcolor": "white",
            "linecolor": "white",
            "ticks": ""
           }
          },
          "title": {
           "x": 0.05
          },
          "xaxis": {
           "automargin": true,
           "gridcolor": "white",
           "linecolor": "white",
           "ticks": "",
           "title": {
            "standoff": 15
           },
           "zerolinecolor": "white",
           "zerolinewidth": 2
          },
          "yaxis": {
           "automargin": true,
           "gridcolor": "white",
           "linecolor": "white",
           "ticks": "",
           "title": {
            "standoff": 15
           },
           "zerolinecolor": "white",
           "zerolinewidth": 2
          }
         }
        },
        "title": {
         "text": "Klasteryzacja HDBSCAN dla osadzeń USE"
        },
        "xaxis": {
         "anchor": "y",
         "domain": [
          0,
          1
         ],
         "title": {
          "text": "Dim_1"
         }
        },
        "yaxis": {
         "anchor": "x",
         "domain": [
          0,
          1
         ],
         "title": {
          "text": "Dim_2"
         }
        }
       }
      }
     },
     "metadata": {},
     "output_type": "display_data"
    }
   ],
   "source": [
    "# Wizualizacja klastrów\n",
    "fig = px.scatter(df_tsne, x='Dim_1', y='Dim_2', color='cluster',\n",
    "                 hover_data=['text'],\n",
    "                 title='Klasteryzacja HDBSCAN dla osadzeń USE')\n",
    "\n",
    "fig.show()\n"
   ]
  }
 ],
 "metadata": {
  "kernelspec": {
   "display_name": "Python 3",
   "language": "python",
   "name": "python3"
  },
  "language_info": {
   "codemirror_mode": {
    "name": "ipython",
    "version": 3
   },
   "file_extension": ".py",
   "mimetype": "text/x-python",
   "name": "python",
   "nbconvert_exporter": "python",
   "pygments_lexer": "ipython3",
   "version": "3.10.5"
  }
 },
 "nbformat": 4,
 "nbformat_minor": 2
}
