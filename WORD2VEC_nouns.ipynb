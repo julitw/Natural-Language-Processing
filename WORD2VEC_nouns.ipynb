{
 "cells": [
  {
   "cell_type": "code",
   "execution_count": 40,
   "id": "7722bbfa-36ec-4f50-aa10-2fea48187dc1",
   "metadata": {},
   "outputs": [],
   "source": [
    "from sklearn.manifold import TSNE\n",
    "import plotly.express as px\n",
    "import numpy as np\n",
    "import plotly.graph_objects as go\n",
    "import matplotlib.pyplot as plt\n",
    "import seaborn as sns\n",
    "from sklearn.preprocessing import StandardScaler"
   ]
  },
  {
   "cell_type": "code",
   "execution_count": 7,
   "id": "fafe2cd8-4116-4924-b944-6d3b6a11107f",
   "metadata": {},
   "outputs": [],
   "source": [
    "import pandas as pd"
   ]
  },
  {
   "cell_type": "code",
   "execution_count": 53,
   "id": "90d08c2b-0a83-42ea-b09d-bff9fd626770",
   "metadata": {},
   "outputs": [],
   "source": [
    "from gensim.models import KeyedVectors\n",
    "\n",
    "model = KeyedVectors.load_word2vec_format('nkjp-forms-all-100-cbow-hs.txt', binary=False)\n"
   ]
  },
  {
   "cell_type": "code",
   "execution_count": 63,
   "id": "d0924a51-05bd-4b19-9582-db682698b17f",
   "metadata": {},
   "outputs": [
    {
     "data": {
      "text/html": [
       "<div>\n",
       "<style scoped>\n",
       "    .dataframe tbody tr th:only-of-type {\n",
       "        vertical-align: middle;\n",
       "    }\n",
       "\n",
       "    .dataframe tbody tr th {\n",
       "        vertical-align: top;\n",
       "    }\n",
       "\n",
       "    .dataframe thead th {\n",
       "        text-align: right;\n",
       "    }\n",
       "</style>\n",
       "<table border=\"1\" class=\"dataframe\">\n",
       "  <thead>\n",
       "    <tr style=\"text-align: right;\">\n",
       "      <th></th>\n",
       "      <th>nouns</th>\n",
       "      <th>label1</th>\n",
       "      <th>label2</th>\n",
       "      <th>label3</th>\n",
       "      <th>SUPERanotator</th>\n",
       "      <th>Unnamed: 5</th>\n",
       "      <th>Unnamed: 6</th>\n",
       "      <th>Unnamed: 7</th>\n",
       "      <th>Unnamed: 8</th>\n",
       "      <th>Unnamed: 9</th>\n",
       "      <th>Unnamed: 10</th>\n",
       "      <th>Unnamed: 11</th>\n",
       "    </tr>\n",
       "  </thead>\n",
       "  <tbody>\n",
       "    <tr>\n",
       "      <th>0</th>\n",
       "      <td>LUDZIE</td>\n",
       "      <td>0.0</td>\n",
       "      <td>0.0</td>\n",
       "      <td>0.0</td>\n",
       "      <td>0.0</td>\n",
       "      <td>NaN</td>\n",
       "      <td>NaN</td>\n",
       "      <td>NaN</td>\n",
       "      <td>NaN</td>\n",
       "      <td>NaN</td>\n",
       "      <td>NaN</td>\n",
       "      <td>NaN</td>\n",
       "    </tr>\n",
       "    <tr>\n",
       "      <th>1</th>\n",
       "      <td>RESTAURACJA</td>\n",
       "      <td>1.0</td>\n",
       "      <td>1.0</td>\n",
       "      <td>1.0</td>\n",
       "      <td>1.0</td>\n",
       "      <td>NaN</td>\n",
       "      <td>NaN</td>\n",
       "      <td>do 200 wszystkie</td>\n",
       "      <td>NaN</td>\n",
       "      <td>NaN</td>\n",
       "      <td>2. Anotacja według semantyki (znaczenia)\\nOsob...</td>\n",
       "      <td>NaN</td>\n",
       "    </tr>\n",
       "    <tr>\n",
       "      <th>2</th>\n",
       "      <td>pomoc</td>\n",
       "      <td>2.0</td>\n",
       "      <td>2.0</td>\n",
       "      <td>2.0</td>\n",
       "      <td>2.0</td>\n",
       "      <td>NaN</td>\n",
       "      <td>NaN</td>\n",
       "      <td>od 201 do 300 Iza</td>\n",
       "      <td>NaN</td>\n",
       "      <td>NaN</td>\n",
       "      <td>NaN</td>\n",
       "      <td>NaN</td>\n",
       "    </tr>\n",
       "    <tr>\n",
       "      <th>3</th>\n",
       "      <td>świat</td>\n",
       "      <td>3.0</td>\n",
       "      <td>3.0</td>\n",
       "      <td>3.0</td>\n",
       "      <td>3.0</td>\n",
       "      <td>NaN</td>\n",
       "      <td>NaN</td>\n",
       "      <td>później jakoś tam</td>\n",
       "      <td>NaN</td>\n",
       "      <td>NaN</td>\n",
       "      <td>NaN</td>\n",
       "      <td>NaN</td>\n",
       "    </tr>\n",
       "    <tr>\n",
       "      <th>4</th>\n",
       "      <td>kurtkę</td>\n",
       "      <td>1.0</td>\n",
       "      <td>1.0</td>\n",
       "      <td>1.0</td>\n",
       "      <td>1.0</td>\n",
       "      <td>NaN</td>\n",
       "      <td>NaN</td>\n",
       "      <td>od 301 do 400  Julita</td>\n",
       "      <td>NaN</td>\n",
       "      <td>NaN</td>\n",
       "      <td>NaN</td>\n",
       "      <td>NaN</td>\n",
       "    </tr>\n",
       "    <tr>\n",
       "      <th>...</th>\n",
       "      <td>...</td>\n",
       "      <td>...</td>\n",
       "      <td>...</td>\n",
       "      <td>...</td>\n",
       "      <td>...</td>\n",
       "      <td>...</td>\n",
       "      <td>...</td>\n",
       "      <td>...</td>\n",
       "      <td>...</td>\n",
       "      <td>...</td>\n",
       "      <td>...</td>\n",
       "      <td>...</td>\n",
       "    </tr>\n",
       "    <tr>\n",
       "      <th>628</th>\n",
       "      <td>inwestor</td>\n",
       "      <td>NaN</td>\n",
       "      <td>NaN</td>\n",
       "      <td>NaN</td>\n",
       "      <td>NaN</td>\n",
       "      <td>NaN</td>\n",
       "      <td>NaN</td>\n",
       "      <td>NaN</td>\n",
       "      <td>NaN</td>\n",
       "      <td>NaN</td>\n",
       "      <td>NaN</td>\n",
       "      <td>NaN</td>\n",
       "    </tr>\n",
       "    <tr>\n",
       "      <th>629</th>\n",
       "      <td>wycofał</td>\n",
       "      <td>NaN</td>\n",
       "      <td>NaN</td>\n",
       "      <td>NaN</td>\n",
       "      <td>NaN</td>\n",
       "      <td>NaN</td>\n",
       "      <td>NaN</td>\n",
       "      <td>NaN</td>\n",
       "      <td>NaN</td>\n",
       "      <td>NaN</td>\n",
       "      <td>NaN</td>\n",
       "      <td>NaN</td>\n",
       "    </tr>\n",
       "    <tr>\n",
       "      <th>630</th>\n",
       "      <td>slabo</td>\n",
       "      <td>NaN</td>\n",
       "      <td>NaN</td>\n",
       "      <td>NaN</td>\n",
       "      <td>NaN</td>\n",
       "      <td>NaN</td>\n",
       "      <td>NaN</td>\n",
       "      <td>NaN</td>\n",
       "      <td>NaN</td>\n",
       "      <td>NaN</td>\n",
       "      <td>NaN</td>\n",
       "      <td>NaN</td>\n",
       "    </tr>\n",
       "    <tr>\n",
       "      <th>631</th>\n",
       "      <td>dzieci</td>\n",
       "      <td>NaN</td>\n",
       "      <td>NaN</td>\n",
       "      <td>NaN</td>\n",
       "      <td>NaN</td>\n",
       "      <td>NaN</td>\n",
       "      <td>NaN</td>\n",
       "      <td>NaN</td>\n",
       "      <td>NaN</td>\n",
       "      <td>NaN</td>\n",
       "      <td>NaN</td>\n",
       "      <td>NaN</td>\n",
       "    </tr>\n",
       "    <tr>\n",
       "      <th>632</th>\n",
       "      <td>liga</td>\n",
       "      <td>NaN</td>\n",
       "      <td>NaN</td>\n",
       "      <td>NaN</td>\n",
       "      <td>NaN</td>\n",
       "      <td>NaN</td>\n",
       "      <td>NaN</td>\n",
       "      <td>NaN</td>\n",
       "      <td>NaN</td>\n",
       "      <td>NaN</td>\n",
       "      <td>NaN</td>\n",
       "      <td>NaN</td>\n",
       "    </tr>\n",
       "  </tbody>\n",
       "</table>\n",
       "<p>633 rows × 12 columns</p>\n",
       "</div>"
      ],
      "text/plain": [
       "           nouns  label1  label2  label3  SUPERanotator Unnamed: 5  \\\n",
       "0         LUDZIE     0.0     0.0     0.0            0.0        NaN   \n",
       "1    RESTAURACJA     1.0     1.0     1.0            1.0        NaN   \n",
       "2          pomoc     2.0     2.0     2.0            2.0        NaN   \n",
       "3          świat     3.0     3.0     3.0            3.0        NaN   \n",
       "4         kurtkę     1.0     1.0     1.0            1.0        NaN   \n",
       "..           ...     ...     ...     ...            ...        ...   \n",
       "628     inwestor     NaN     NaN     NaN            NaN        NaN   \n",
       "629      wycofał     NaN     NaN     NaN            NaN        NaN   \n",
       "630        slabo     NaN     NaN     NaN            NaN        NaN   \n",
       "631       dzieci     NaN     NaN     NaN            NaN        NaN   \n",
       "632         liga     NaN     NaN     NaN            NaN        NaN   \n",
       "\n",
       "     Unnamed: 6             Unnamed: 7  Unnamed: 8  Unnamed: 9  \\\n",
       "0           NaN                    NaN         NaN         NaN   \n",
       "1           NaN       do 200 wszystkie         NaN         NaN   \n",
       "2           NaN      od 201 do 300 Iza         NaN         NaN   \n",
       "3           NaN      później jakoś tam         NaN         NaN   \n",
       "4           NaN  od 301 do 400  Julita         NaN         NaN   \n",
       "..          ...                    ...         ...         ...   \n",
       "628         NaN                    NaN         NaN         NaN   \n",
       "629         NaN                    NaN         NaN         NaN   \n",
       "630         NaN                    NaN         NaN         NaN   \n",
       "631         NaN                    NaN         NaN         NaN   \n",
       "632         NaN                    NaN         NaN         NaN   \n",
       "\n",
       "                                           Unnamed: 10 Unnamed: 11  \n",
       "0                                                  NaN         NaN  \n",
       "1    2. Anotacja według semantyki (znaczenia)\\nOsob...         NaN  \n",
       "2                                                  NaN         NaN  \n",
       "3                                                  NaN         NaN  \n",
       "4                                                  NaN         NaN  \n",
       "..                                                 ...         ...  \n",
       "628                                                NaN         NaN  \n",
       "629                                                NaN         NaN  \n",
       "630                                                NaN         NaN  \n",
       "631                                                NaN         NaN  \n",
       "632                                                NaN         NaN  \n",
       "\n",
       "[633 rows x 12 columns]"
      ]
     },
     "execution_count": 63,
     "metadata": {},
     "output_type": "execute_result"
    }
   ],
   "source": [
    "df = pd.read_excel('cyberbullying_train_words_noun.xlsx')\n",
    "df"
   ]
  },
  {
   "cell_type": "code",
   "execution_count": 64,
   "id": "9f5e3cbe-bbb3-430e-acd4-18675f25c72d",
   "metadata": {},
   "outputs": [],
   "source": [
    "df_for_analysis = df[['nouns', 'SUPERanotator']][:601]\n",
    "df_for_analysis.columns = ['nouns', 'labels']"
   ]
  },
  {
   "cell_type": "code",
   "execution_count": 65,
   "id": "3bc51ae9-92fe-4268-87f7-bf9dc81bf078",
   "metadata": {},
   "outputs": [
    {
     "data": {
      "text/plain": [
       "array([ 0.,  1.,  2.,  3., nan])"
      ]
     },
     "execution_count": 65,
     "metadata": {},
     "output_type": "execute_result"
    }
   ],
   "source": [
    "df_for_analysis['labels'].unique()"
   ]
  },
  {
   "cell_type": "code",
   "execution_count": 66,
   "id": "578a4b61-3738-4c34-93c6-92f6e0fd1bf2",
   "metadata": {},
   "outputs": [],
   "source": [
    "def clean_text(text):\n",
    "    text = re.sub(r'@anonymized_account', '', text)\n",
    "    text = re.sub(r'RT', '', text)\n",
    "    # text = re.sub(r'[^\\x00-\\x7F]+', '', text)\n",
    "    # text = re.sub(r'\\s+', ' ', text).strip()\n",
    "    return text"
   ]
  },
  {
   "cell_type": "code",
   "execution_count": 67,
   "id": "ed363d1a-8143-49e9-8fe5-0b2a5d84b56e",
   "metadata": {},
   "outputs": [
    {
     "data": {
      "text/html": [
       "<div>\n",
       "<style scoped>\n",
       "    .dataframe tbody tr th:only-of-type {\n",
       "        vertical-align: middle;\n",
       "    }\n",
       "\n",
       "    .dataframe tbody tr th {\n",
       "        vertical-align: top;\n",
       "    }\n",
       "\n",
       "    .dataframe thead th {\n",
       "        text-align: right;\n",
       "    }\n",
       "</style>\n",
       "<table border=\"1\" class=\"dataframe\">\n",
       "  <thead>\n",
       "    <tr style=\"text-align: right;\">\n",
       "      <th></th>\n",
       "      <th>nouns</th>\n",
       "      <th>labels</th>\n",
       "    </tr>\n",
       "  </thead>\n",
       "  <tbody>\n",
       "    <tr>\n",
       "      <th>0</th>\n",
       "      <td>LUDZIE</td>\n",
       "      <td>0.0</td>\n",
       "    </tr>\n",
       "    <tr>\n",
       "      <th>1</th>\n",
       "      <td>RESTAURACJA</td>\n",
       "      <td>1.0</td>\n",
       "    </tr>\n",
       "    <tr>\n",
       "      <th>2</th>\n",
       "      <td>pomoc</td>\n",
       "      <td>2.0</td>\n",
       "    </tr>\n",
       "    <tr>\n",
       "      <th>3</th>\n",
       "      <td>świat</td>\n",
       "      <td>3.0</td>\n",
       "    </tr>\n",
       "    <tr>\n",
       "      <th>4</th>\n",
       "      <td>kurtkę</td>\n",
       "      <td>1.0</td>\n",
       "    </tr>\n",
       "    <tr>\n",
       "      <th>...</th>\n",
       "      <td>...</td>\n",
       "      <td>...</td>\n",
       "    </tr>\n",
       "    <tr>\n",
       "      <th>596</th>\n",
       "      <td>Mistrzowie</td>\n",
       "      <td>0.0</td>\n",
       "    </tr>\n",
       "    <tr>\n",
       "      <th>597</th>\n",
       "      <td>branża</td>\n",
       "      <td>2.0</td>\n",
       "    </tr>\n",
       "    <tr>\n",
       "      <th>598</th>\n",
       "      <td>mirda</td>\n",
       "      <td>2.0</td>\n",
       "    </tr>\n",
       "    <tr>\n",
       "      <th>599</th>\n",
       "      <td>kubeł</td>\n",
       "      <td>1.0</td>\n",
       "    </tr>\n",
       "    <tr>\n",
       "      <th>600</th>\n",
       "      <td>wślizgami</td>\n",
       "      <td>NaN</td>\n",
       "    </tr>\n",
       "  </tbody>\n",
       "</table>\n",
       "<p>601 rows × 2 columns</p>\n",
       "</div>"
      ],
      "text/plain": [
       "           nouns  labels\n",
       "0         LUDZIE     0.0\n",
       "1    RESTAURACJA     1.0\n",
       "2          pomoc     2.0\n",
       "3          świat     3.0\n",
       "4         kurtkę     1.0\n",
       "..           ...     ...\n",
       "596   Mistrzowie     0.0\n",
       "597       branża     2.0\n",
       "598        mirda     2.0\n",
       "599        kubeł     1.0\n",
       "600    wślizgami     NaN\n",
       "\n",
       "[601 rows x 2 columns]"
      ]
     },
     "execution_count": 67,
     "metadata": {},
     "output_type": "execute_result"
    }
   ],
   "source": [
    "import re\n",
    "df_for_analysis['nouns'] = df_for_analysis['nouns'].apply(clean_text)\n",
    "df_for_analysis"
   ]
  },
  {
   "cell_type": "code",
   "execution_count": 68,
   "id": "06ba8e57-b42c-4d54-8095-f9454a97d303",
   "metadata": {},
   "outputs": [],
   "source": [
    "import numpy as np\n",
    "\n",
    "def get_sentence_vector(sentence):\n",
    "    # Tokenize the sentence into words\n",
    "    words = sentence.split()\n",
    "    # Get the word vectors for each word in the sentence\n",
    "    word_vectors = [model[word] for word in words if word in model]\n",
    "    # Return the mean of the word vectors or a zero vector if no words are found\n",
    "    return np.mean(word_vectors, axis=0) if word_vectors else np.zeros(model.vector_size)\n"
   ]
  },
  {
   "cell_type": "code",
   "execution_count": 69,
   "id": "3ff6dcd1-2b20-43ed-a807-7fb094fabc31",
   "metadata": {},
   "outputs": [],
   "source": [
    "df_for_analysis['embedding'] = df_for_analysis['nouns'].apply(get_sentence_vector)"
   ]
  },
  {
   "cell_type": "code",
   "execution_count": 70,
   "id": "c5ac22d2-73e8-4d4f-a95f-78db137012d8",
   "metadata": {},
   "outputs": [
    {
     "data": {
      "application/vnd.plotly.v1+json": {
       "config": {
        "plotlyServerURL": "https://plot.ly"
       },
       "data": [
        {
         "customdata": [
          [
           "LUDZIE"
          ],
          [
           "RESTAURACJA"
          ],
          [
           "pomoc"
          ],
          [
           "świat"
          ],
          [
           "kurtkę"
          ],
          [
           "milionów"
          ],
          [
           "konkretach"
          ],
          [
           "zmianę"
          ],
          [
           "ławce"
          ],
          [
           "gnojki"
          ],
          [
           "znaki"
          ],
          [
           "zapytania"
          ],
          [
           "końcu"
          ],
          [
           "wyroki"
          ],
          [
           "Sądu"
          ],
          [
           "razy"
          ],
          [
           "porównania"
          ],
          [
           "Patryk"
          ],
          [
           "wybory"
          ],
          [
           "prezydenta"
          ],
          [
           "statystyki"
          ],
          [
           "bramke"
          ],
          [
           "razu"
          ],
          [
           "ojczyźnie"
          ],
          [
           "taksówki"
          ],
          [
           "szacunek"
          ],
          [
           "oparciu"
          ],
          [
           "opinię"
          ],
          [
           "opinią"
          ],
          [
           "prezesem"
          ],
          [
           "klubu"
          ],
          [
           "przewodniczącym"
          ],
          [
           "wydziału"
          ],
          [
           "futsalu"
          ],
          [
           "limit"
          ],
          [
           "obcokrajowców"
          ],
          [
           "podstawy"
          ],
          [
           "pary"
          ],
          [
           "pedofilia"
          ],
          [
           "zboczenie"
          ],
          [
           "homoseksualizm"
          ],
          [
           "razie"
          ],
          [
           "rade"
          ],
          [
           "rekord"
          ],
          [
           "wychowanki"
          ],
          [
           "pewnością"
          ],
          [
           "sektorom"
          ],
          [
           "\\\"eksperci\\"
          ],
          [
           "rzeczy"
          ],
          [
           "gumę"
          ],
          [
           "maja"
          ],
          [
           "wsparcie"
          ],
          [
           "Pani"
          ],
          [
           "parcie"
          ],
          [
           "szklo"
          ],
          [
           "efekt"
          ],
          [
           "obcasy"
          ],
          [
           "trza"
          ],
          [
           "mecze"
          ],
          [
           "druzyn"
          ],
          [
           "meczów"
          ],
          [
           "raz"
          ],
          [
           "żołnierki"
          ],
          [
           "kwiaty"
          ],
          [
           "bach"
          ],
          [
           "kognitywistykę"
          ],
          [
           "komunikacji"
          ],
          [
           "wrażenia"
          ],
          [
           "stopień"
          ],
          [
           "urlopie"
          ],
          [
           "państwo"
          ],
          [
           "propagandę"
          ],
          [
           "karpie"
          ],
          [
           "słów"
          ],
          [
           "temat"
          ],
          [
           "jeziora"
          ],
          [
           "Modric"
          ],
          [
           "Rakitic"
          ],
          [
           "momentach"
          ],
          [
           "oryginał"
          ],
          [
           "Wyzwanie"
          ],
          [
           "Syn"
          ],
          [
           "mega"
          ],
          [
           "słodziakiem"
          ],
          [
           "klasie"
          ],
          [
           "podstawówki"
          ],
          [
           "ryzyko"
          ],
          [
           "kupon"
          ],
          [
           "chorób"
          ],
          [
           "stanu"
          ],
          [
           "statystyk"
          ],
          [
           "występu"
          ],
          [
           "realista"
          ],
          [
           "wyjątkiem"
          ],
          [
           "siły"
          ],
          [
           "kolejkę"
          ],
          [
           "przekładzie"
          ],
          [
           "trenerem"
          ],
          [
           "Dziadek"
          ],
          [
           "żonie"
          ],
          [
           "mieszkanie"
          ],
          [
           "patologia"
          ],
          [
           "statystykach"
          ],
          [
           "umiejętnościach"
          ],
          [
           "sufit"
          ],
          [
           "Remis"
          ],
          [
           "lvbet"
          ],
          [
           "remis"
          ],
          [
           "torbą"
          ],
          [
           "serce"
          ],
          [
           "wódeczka"
          ],
          [
           "życia"
          ],
          [
           "poczcie"
          ],
          [
           "kredą"
          ],
          [
           "asfalcie"
          ],
          [
           "znak"
          ],
          [
           "solidarności"
          ],
          [
           "ofiarą"
          ],
          [
           "osoby"
          ],
          [
           "lgbt"
          ],
          [
           "ogóle"
          ],
          [
           "komunikacji"
          ],
          [
           "wiec"
          ],
          [
           "pasażerami"
          ],
          [
           "parodia"
          ],
          [
           "liczbe"
          ],
          [
           "występów"
          ],
          [
           "moze"
          ],
          [
           "drzewem"
          ],
          [
           "ogrodzie"
          ],
          [
           "lisie"
          ],
          [
           "dodatku"
          ],
          [
           "sztućcami"
          ],
          [
           "grzech"
          ],
          [
           "świecie"
          ],
          [
           "Raz"
          ],
          [
           "piwo"
          ],
          [
           "sensem"
          ],
          [
           "przeciwieństwo"
          ],
          [
           "autem"
          ],
          [
           "drodze"
          ],
          [
           "wizje"
          ],
          [
           "zmiany"
          ],
          [
           "minucie"
          ],
          [
           "pochwal"
          ],
          [
           "ehh"
          ],
          [
           "remis"
          ],
          [
           "meczu"
          ],
          [
           "obraz"
          ],
          [
           "wieczorem"
          ],
          [
           "razie"
          ],
          [
           "serial"
          ],
          [
           "Papadopoulosa"
          ],
          [
           "sektor"
          ],
          [
           "chodzenie"
          ],
          [
           "mecz"
          ],
          [
           "kolejki"
          ],
          [
           "bilet"
          ],
          [
           "wagonów"
          ],
          [
           "powodzenia"
          ],
          [
           "końca"
          ],
          [
           "kraju"
          ],
          [
           "pisdzielstwo"
          ],
          [
           "delegalizacja"
          ],
          [
           "ramach"
          ],
          [
           "przywracania"
          ],
          [
           "skromności"
          ],
          [
           "Prezes"
          ],
          [
           "nazwę"
          ],
          [
           "spółki"
          ],
          [
           "lud"
          ],
          [
           "myśli"
          ],
          [
           "trenerzy"
          ],
          [
           "tymczasowi"
          ],
          [
           "statystyka"
          ],
          [
           "gazu"
          ],
          [
           "powtarzania"
          ],
          [
           "opinii"
          ],
          [
           "tarczycy"
          ],
          [
           "człowiek"
          ],
          [
           "maratonie"
          ],
          [
           "radnia"
          ],
          [
           "otworami"
          ],
          [
           "pikuś"
          ],
          [
           "mecz"
          ],
          [
           "mistrzostwo"
          ],
          [
           "sekundy"
          ],
          [
           "końca"
          ],
          [
           "kasy"
          ],
          [
           "gry"
          ],
          [
           "lidze"
          ],
          [
           "przeciwnikiem"
          ],
          [
           "wydaniu"
          ],
          [
           "lidze"
          ],
          [
           "post"
          ],
          [
           "Ej"
          ],
          [
           "czwartki"
          ],
          [
           "social"
          ],
          [
           "media"
          ],
          [
           "walenia"
          ],
          [
           "tony"
          ],
          [
           "jezyk"
          ],
          [
           "walenia"
          ],
          [
           "pisdzielstwo"
          ],
          [
           "rację"
          ],
          [
           "dłoni"
          ],
          [
           "homopisuarowiec"
          ],
          [
           "atrapa"
          ],
          [
           "dykty"
          ],
          [
           "całości"
          ],
          [
           "wypadku"
          ],
          [
           "transplantacja"
          ],
          [
           "głowy"
          ],
          [
           "lifting"
          ],
          [
           "gęby"
          ],
          [
           "wszczepienie"
          ],
          [
           "mózgu"
          ],
          [
           "łbach"
          ],
          [
           "razu"
          ],
          [
           "wymioty"
          ],
          [
           "tragedia"
          ],
          [
           "Pana"
          ],
          [
           "zdanie"
          ],
          [
           "Pan"
          ],
          [
           "język"
          ],
          [
           "strzelaniny"
          ],
          [
           "zwroty"
          ],
          [
           "akcji"
          ],
          [
           "kwestia"
          ],
          [
           "nieznajomości"
          ],
          [
           "slajdów"
          ],
          [
           "prezesa"
          ],
          [
           "front"
          ],
          [
           "kasy"
          ],
          [
           "malopolan"
          ],
          [
           "końcu"
          ],
          [
           "reprezentacje"
          ],
          [
           "Niejaki"
          ],
          [
           "standardy"
          ],
          [
           "dziennikarstwa"
          ],
          [
           "gówno"
          ],
          [
           "dzień"
          ],
          [
           "dzień"
          ],
          [
           "rady"
          ],
          [
           "wartość"
          ],
          [
           "krytyki"
          ],
          [
           "poseł"
          ],
          [
           "Naprawdè"
          ],
          [
           "tępy"
          ],
          [
           "idiotę"
          ],
          [
           "konta"
          ],
          [
           "fav"
          ],
          [
           "tweeta"
          ],
          [
           "sezon"
          ],
          [
           "\\n\\ndziunia"
          ],
          [
           "klasie"
          ],
          [
           "ZDROWIE"
          ],
          [
           "facet"
          ],
          [
           "mózgiem"
          ],
          [
           "jenota"
          ],
          [
           "dzien"
          ],
          [
           "jeszze"
          ],
          [
           "prezentacji"
          ],
          [
           "pucharach"
          ],
          [
           "mendo"
          ],
          [
           "pisowska"
          ],
          [
           "środowisko"
          ],
          [
           "cykl"
          ],
          [
           "fotoszopa"
          ],
          [
           "tramwaj"
          ],
          [
           "chodkiewicza"
          ],
          [
           "znajomi"
          ],
          [
           "ziemie"
          ],
          [
           "agentem"
          ],
          [
           "obiektywizmu"
          ],
          [
           "Pani"
          ],
          [
           "odszkodowania"
          ],
          [
           "nominat"
          ],
          [
           "Poziom"
          ],
          [
           "prymitywizmu"
          ],
          [
           "łomocie"
          ],
          [
           "miastach"
          ],
          [
           "Polaków\\"
          ],
          [
           "monitorka"
          ],
          [
           "kartka"
          ],
          [
           "wątpliwości"
          ],
          [
           "wydaniu"
          ],
          [
           "polu"
          ],
          [
           "razie"
          ],
          [
           "przekaz"
          ],
          [
           "\\\"ulica"
          ],
          [
           "zagranica\\"
          ],
          [
           "dyscyplina"
          ],
          [
           "warunkiem"
          ],
          [
           "sportowcy"
          ],
          [
           "ludzie"
          ],
          [
           "wpływem"
          ],
          [
           "alkoholu"
          ],
          [
           "lawirowaniu"
          ],
          [
           "Wypozyczeni"
          ],
          [
           "Stal"
          ],
          [
           "minuty"
          ],
          [
           "Czasu"
          ],
          [
           "wykonawców"
          ],
          [
           "pozycjach"
          ],
          [
           "panowie"
          ],
          [
           "kabaret"
          ],
          [
           "mina"
          ],
          [
           "styl"
          ],
          [
           "życia"
          ],
          [
           "nogi"
          ],
          [
           "azbest"
          ],
          [
           "mózg"
          ],
          [
           "deszcz"
          ],
          [
           "grozy"
          ],
          [
           "karku"
          ],
          [
           "Minister"
          ],
          [
           "przemówienie"
          ],
          [
           "Wrona"
          ],
          [
           "Tata"
          ],
          [
           "ludzi"
          ],
          [
           "szkoły"
          ],
          [
           "pani"
          ],
          [
           "chuju"
          ],
          [
           "komuchami"
          ],
          [
           "aspekt"
          ],
          [
           "zakończenia"
          ],
          [
           "dnia"
          ],
          [
           "babci"
          ],
          [
           "REKLAMĘ"
          ],
          [
           "\\\"Bardzo"
          ],
          [
           "dziadków"
          ],
          [
           "sercu"
          ],
          [
           "dziewczyna"
          ],
          [
           "Krzyże"
          ],
          [
           "czasu"
          ],
          [
           "kurwa"
          ],
          [
           "wolność"
          ],
          [
           "maskara"
          ],
          [
           "państwem"
          ],
          [
           "poseł"
          ],
          [
           "film"
          ],
          [
           "liceum"
          ],
          [
           "raz"
          ],
          [
           "podstawie"
          ],
          [
           "kamerą"
          ],
          [
           "pistoletem"
          ],
          [
           "słowa"
          ],
          [
           "skrzydło"
          ],
          [
           "strony"
          ],
          [
           "formie"
          ],
          [
           "świata"
          ],
          [
           "metrów"
          ],
          [
           "konfesjonałów"
          ],
          [
           "sprawa"
          ],
          [
           "prostak"
          ],
          [
           "śmierci"
          ],
          [
           "sprawach"
          ],
          [
           "oświetlenia"
          ],
          [
           "córki"
          ],
          [
           "okna"
          ],
          [
           "kamieniami"
          ],
          [
           "polityk"
          ],
          [
           "sędzinę"
          ],
          [
           "gry"
          ],
          [
           "genach"
          ],
          [
           "wiatr"
          ],
          [
           "głowy"
          ],
          [
           "Patryk"
          ],
          [
           "wybory"
          ],
          [
           "oczyści"
          ],
          [
           "stolicę"
          ],
          [
           "UBECKICH"
          ],
          [
           "funkcjonariuszy"
          ],
          [
           "powietrze"
          ],
          [
           "tarczy"
          ],
          [
           "obiekt"
          ],
          [
           "teledysku"
          ],
          [
           "4funtv"
          ],
          [
           "ogóle"
          ],
          [
           "jaj"
          ],
          [
           "lata"
          ],
          [
           "pracy"
          ],
          [
           "Sztuki"
          ],
          [
           "Walki"
          ],
          [
           "siłownia"
          ],
          [
           "zdjęciu"
          ],
          [
           "kibiców"
          ],
          [
           "wpisy"
          ],
          [
           "człowiekowi"
          ],
          [
           "znaczenia"
          ],
          [
           "ceny"
          ],
          [
           "moda"
          ],
          [
           "filmiki"
          ],
          [
           "Twitterze"
          ],
          [
           "pijta"
          ],
          [
           "apteka"
          ],
          [
           "dno"
          ],
          [
           "skupmy"
          ],
          [
           "Prezes"
          ],
          [
           "razie"
          ],
          [
           "finału"
          ],
          [
           "finał"
          ],
          [
           "przysmaki"
          ],
          [
           "ramach"
          ],
          [
           "przekupstwa"
          ],
          [
           "narracja"
          ],
          [
           "obozu"
          ],
          [
           "zmiany\\"
          ],
          [
           "Uszczelnienie"
          ],
          [
           "kapitanie"
          ],
          [
           "futsal"
          ],
          [
           "ekstraklasy"
          ],
          [
           "rusi"
          ],
          [
           "rzeszy"
          ],
          [
           "kaczuszkę"
          ],
          [
           "niedziele"
          ],
          [
           "kibice"
          ],
          [
           "zero"
          ],
          [
           "reklamy"
          ],
          [
           "konpromitacją"
          ],
          [
           "historii"
          ],
          [
           "Pana"
          ],
          [
           "udział"
          ],
          [
           "obalaniu"
          ],
          [
           "Premiera"
          ],
          [
           "#"
          ],
          [
           "jeju"
          ],
          [
           "ulgę"
          ],
          [
           "szok"
          ],
          [
           "czas"
          ],
          [
           "drzemkę"
          ],
          [
           "czasu"
          ],
          [
           "internecie"
          ],
          [
           "powtórkę"
          ],
          [
           "utrzymaliście"
          ],
          [
           "stoliku"
          ],
          [
           "miejsca"
          ],
          [
           "Pies"
          ],
          [
           "czasem"
          ],
          [
           "książki"
          ],
          [
           "chłopczyk"
          ],
          [
           "problemami"
          ],
          [
           "politycy"
          ],
          [
           "Ja"
          ],
          [
           "dm"
          ],
          [
           "ligi"
          ],
          [
           "dwumeczu"
          ],
          [
           "dziewczynami"
          ],
          [
           "życie"
          ],
          [
           "liście"
          ],
          [
           "kleić"
          ],
          [
           "przekładzie"
          ],
          [
           "Lisek"
          ],
          [
           "tysięcy"
          ],
          [
           "egzemplarzy"
          ],
          [
           "statystyk"
          ],
          [
           "jezu"
          ],
          [
           "osób"
          ],
          [
           "roku"
          ],
          [
           "#"
          ],
          [
           "Internecie,\\nGdzie"
          ],
          [
           "śmiecie"
          ],
          [
           "zakład"
          ],
          [
           "podanie"
          ],
          [
           "brat"
          ],
          [
           "rozgrzeszenie"
          ],
          [
           "człowiekiem"
          ],
          [
           "ludzmi"
          ],
          [
           "raz"
          ],
          [
           "przyjecia"
          ],
          [
           "sadownictwa"
          ],
          [
           "fakt"
          ],
          [
           "kangurem"
          ],
          [
           "glowy"
          ],
          [
           "głupek"
          ],
          [
           "tytułem"
          ],
          [
           "wślizg"
          ],
          [
           "ściągnięcie"
          ],
          [
           "parteru"
          ],
          [
           "gościa"
          ],
          [
           "robiliscie"
          ],
          [
           "\\\"Opowiadania"
          ],
          [
           "odeskie\\"
          ],
          [
           "interpretacji"
          ],
          [
           "alkohol"
          ],
          [
           "umiarem"
          ],
          [
           "ilościach"
          ],
          [
           "Perez"
          ],
          [
           "przedstawienie"
          ],
          [
           "cyrk"
          ],
          [
           "maja"
          ],
          [
           "wsparcie"
          ],
          [
           "Pani"
          ],
          [
           "parcie"
          ],
          [
           "szklo"
          ],
          [
           "efekt"
          ],
          [
           "wieś"
          ],
          [
           "lat"
          ],
          [
           "złodzieje"
          ],
          [
           "malwersanci"
          ],
          [
           "pokoju"
          ],
          [
           "kandydat"
          ],
          [
           "napastnika"
          ],
          [
           "ligi"
          ],
          [
           "Babcia"
          ],
          [
           "końca"
          ],
          [
           "świata"
          ],
          [
           "babcią"
          ],
          [
           "szansa"
          ],
          [
           "Lechia"
          ],
          [
           "kibicom"
          ],
          [
           "szaliki"
          ],
          [
           "kibice"
          ],
          [
           "Celtiku"
          ],
          [
           "szmata"
          ],
          [
           "różnicy"
          ],
          [
           "koniec"
          ],
          [
           "kangurami"
          ],
          [
           "misiem"
          ],
          [
           "koala"
          ],
          [
           "euro"
          ],
          [
           "produkty"
          ],
          [
           "screenami"
          ],
          [
           "gwizdkiem"
          ],
          [
           "banku"
          ],
          [
           "konto"
          ],
          [
           "polaka"
          ],
          [
           "radę"
          ],
          [
           "prezesi"
          ],
          [
           "trenerów"
          ],
          [
           "okiem"
          ],
          [
           "akademiku"
          ],
          [
           "perwersja"
          ],
          [
           "sporcie"
          ],
          [
           "okazję"
          ],
          [
           "rok"
          ],
          [
           "ludzi"
          ],
          [
           "minuty"
          ],
          [
           "szacunkiem"
          ],
          [
           "bandytyzm"
          ],
          [
           "walka"
          ],
          [
           "okazji"
          ],
          [
           "pech"
          ],
          [
           "niespodzianka"
          ],
          [
           "wyboru"
          ],
          [
           "pucharowiczami"
          ],
          [
           "ust"
          ],
          [
           "komplement"
          ],
          [
           "Przemek"
          ],
          [
           "minut"
          ],
          [
           "ogłoszenie"
          ],
          [
           "pracę"
          ],
          [
           "wślizg"
          ],
          [
           "polu"
          ],
          [
           "debiutant"
          ],
          [
           "nogi"
          ],
          [
           "pchnięcie"
          ],
          [
           "próba"
          ],
          [
           "zagrania"
          ],
          [
           "piłki"
          ],
          [
           "końcu"
          ],
          [
           "mecz"
          ],
          [
           "Ja"
          ],
          [
           "słowo"
          ],
          [
           "mowa"
          ],
          [
           "dupie"
          ],
          [
           "akademikiem"
          ],
          [
           "dołku"
          ],
          [
           "życiu"
          ],
          [
           "towar"
          ],
          [
           "ugotowaniu"
          ],
          [
           "argument"
          ],
          [
           "sprawozdania"
          ],
          [
           "deklaracje"
          ],
          [
           "Problem"
          ],
          [
           "młodzieżowcem"
          ],
          [
           "gole"
          ],
          [
           "przerwy"
          ],
          [
           "telewizji"
          ],
          [
           "baca"
          ],
          [
           "pas"
          ],
          [
           "turystów"
          ],
          [
           "akceptacja"
          ],
          [
           "cebula"
          ],
          [
           "dziennikarstwo"
          ],
          [
           "specjalność"
          ],
          [
           "reklama"
          ],
          [
           "promocja"
          ],
          [
           "rzecznictwo"
          ],
          [
           "cv"
          ],
          [
           "zdjęcia"
          ],
          [
           "fotogenicznością"
          ],
          [
           "determinacja"
          ],
          [
           "kobieta"
          ],
          [
           "kobietę"
          ],
          [
           "Mistrzowie"
          ],
          [
           "branża"
          ],
          [
           "mirda"
          ],
          [
           "kubeł"
          ],
          [
           "wślizgami"
          ]
         ],
         "hovertemplate": "x=%{x}<br>y=%{y}<br>text=%{customdata[0]}<br>label=%{marker.color}<extra></extra>",
         "legendgroup": "",
         "marker": {
          "color": [
           0,
           1,
           2,
           3,
           1,
           2,
           2,
           2,
           1,
           0,
           3,
           2,
           2,
           2,
           2,
           2,
           2,
           0,
           2,
           0,
           2,
           1,
           2,
           2,
           1,
           2,
           2,
           2,
           2,
           0,
           2,
           0,
           2,
           2,
           2,
           0,
           2,
           2,
           2,
           2,
           2,
           2,
           2,
           2,
           0,
           2,
           2,
           0,
           1,
           1,
           2,
           2,
           0,
           2,
           1,
           2,
           1,
           2,
           2,
           0,
           2,
           2,
           0,
           1,
           2,
           2,
           2,
           2,
           2,
           2,
           2,
           2,
           1,
           2,
           2,
           2,
           0,
           0,
           2,
           2,
           2,
           0,
           2,
           0,
           2,
           2,
           2,
           2,
           2,
           2,
           2,
           2,
           0,
           2,
           2,
           2,
           2,
           0,
           0,
           0,
           1,
           2,
           2,
           2,
           1,
           2,
           2,
           2,
           1,
           1,
           1,
           2,
           2,
           1,
           1,
           3,
           2,
           0,
           0,
           2,
           2,
           2,
           2,
           0,
           2,
           2,
           2,
           2,
           1,
           1,
           0,
           2,
           1,
           2,
           3,
           2,
           1,
           2,
           2,
           1,
           1,
           2,
           2,
           2,
           2,
           3,
           2,
           2,
           1,
           2,
           2,
           2,
           3,
           2,
           2,
           2,
           2,
           1,
           1,
           2,
           2,
           2,
           3,
           2,
           2,
           2,
           2,
           0,
           2,
           2,
           0,
           2,
           0,
           2,
           2,
           2,
           2,
           2,
           1,
           0,
           2,
           2,
           2,
           2,
           2,
           2,
           2,
           2,
           1,
           2,
           2,
           0,
           2,
           2,
           2,
           3,
           2,
           2,
           2,
           2,
           2,
           1,
           2,
           3,
           2,
           1,
           3,
           2,
           1,
           2,
           2,
           2,
           1,
           2,
           1,
           2,
           1,
           1,
           2,
           1,
           2,
           0,
           2,
           0,
           1,
           2,
           2,
           2,
           2,
           2,
           2,
           0,
           2,
           1,
           0,
           2,
           2,
           3,
           2,
           2,
           1,
           2,
           2,
           2,
           2,
           2,
           0,
           3,
           2,
           0,
           2,
           3,
           2,
           2,
           0,
           2,
           2,
           0,
           1,
           1,
           2,
           2,
           2,
           1,
           0,
           2,
           2,
           2,
           2,
           1,
           0,
           0,
           1,
           0,
           2,
           0,
           2,
           0,
           2,
           2,
           2,
           2,
           0,
           1,
           1,
           2,
           2,
           2,
           2,
           2,
           2,
           2,
           2,
           2,
           0,
           0,
           2,
           1,
           2,
           2,
           1,
           2,
           2,
           0,
           2,
           1,
           2,
           3,
           2,
           2,
           1,
           1,
           1,
           1,
           2,
           1,
           0,
           2,
           0,
           0,
           0,
           1,
           0,
           3,
           3,
           2,
           2,
           2,
           0,
           2,
           2,
           0,
           1,
           0,
           1,
           2,
           0,
           2,
           2,
           2,
           0,
           2,
           1,
           2,
           2,
           1,
           1,
           2,
           1,
           2,
           2,
           3,
           2,
           1,
           2,
           0,
           1,
           2,
           1,
           0,
           1,
           1,
           0,
           0,
           2,
           2,
           3,
           1,
           0,
           2,
           2,
           2,
           3,
           0,
           3,
           1,
           2,
           2,
           3,
           2,
           1,
           2,
           2,
           2,
           2,
           1,
           1,
           0,
           2,
           0,
           2,
           2,
           2,
           2,
           2,
           3,
           1,
           2,
           2,
           0,
           2,
           2,
           2,
           1,
           1,
           2,
           2,
           2,
           2,
           2,
           0,
           2,
           2,
           2,
           2,
           0,
           2,
           0,
           2,
           2,
           2,
           2,
           0,
           2,
           2,
           0,
           3,
           3,
           2,
           2,
           2,
           2,
           2,
           2,
           2,
           2,
           1,
           2,
           0,
           2,
           1,
           0,
           2,
           0,
           0,
           3,
           2,
           2,
           0,
           2,
           1,
           2,
           2,
           0,
           2,
           2,
           2,
           3,
           0,
           2,
           3,
           3,
           1,
           2,
           2,
           0,
           2,
           0,
           0,
           2,
           2,
           2,
           2,
           0,
           1,
           0,
           2,
           2,
           2,
           1,
           0,
           2,
           3,
           2,
           2,
           1,
           2,
           2,
           0,
           2,
           1,
           2,
           2,
           0,
           2,
           1,
           2,
           2,
           2,
           0,
           0,
           1,
           0,
           0,
           2,
           0,
           2,
           2,
           0,
           2,
           2,
           0,
           1,
           0,
           0,
           0,
           2,
           2,
           0,
           0,
           0,
           1,
           1,
           1,
           1,
           1,
           1,
           0,
           2,
           0,
           0,
           1,
           1,
           2,
           2,
           2,
           2,
           0,
           2,
           2,
           2,
           2,
           2,
           2,
           2,
           2,
           0,
           1,
           2,
           0,
           2,
           1,
           2,
           2,
           1,
           0,
           1,
           2,
           2,
           2,
           1,
           2,
           2,
           0,
           2,
           2,
           1,
           1,
           1,
           2,
           1,
           2,
           2,
           1,
           1,
           2,
           0,
           2,
           2,
           2,
           0,
           1,
           0,
           2,
           1,
           2,
           2,
           1,
           1,
           2,
           1,
           1,
           2,
           2,
           0,
           0,
           0,
           2,
           2,
           1,
           null
          ],
          "coloraxis": "coloraxis",
          "symbol": "circle"
         },
         "mode": "markers",
         "name": "",
         "orientation": "v",
         "showlegend": false,
         "type": "scatter",
         "x": [
          1.3233129978179932,
          1.3233129978179932,
          33.06835174560547,
          -52.23122787475586,
          31.383867263793945,
          4.533960342407227,
          89.58390045166016,
          24.704708099365234,
          33.129032135009766,
          -22.85579490661621,
          -26.694110870361328,
          -19.145721435546875,
          43.24964904785156,
          -33.131263732910156,
          1.3233129978179932,
          3.162600040435791,
          -15.883360862731934,
          -34.125732421875,
          -16.480939865112305,
          41.84257507324219,
          -30.710594177246094,
          0.15709272027015686,
          -17.494754791259766,
          7.301206588745117,
          -15.146958351135254,
          -44.941734313964844,
          51.82672119140625,
          29.513853073120117,
          29.687108993530273,
          12.247136116027832,
          35.06824493408203,
          13.01563549041748,
          33.61932373046875,
          -3.568007230758667,
          -63.17145919799805,
          22.41625213623047,
          -31.385244369506836,
          -14.328705787658691,
          -36.83689880371094,
          28.238428115844727,
          -38.04499053955078,
          50.24375534057617,
          8.0626220703125,
          -61.782894134521484,
          -5.704971790313721,
          2.2320384979248047,
          51.378475189208984,
          1.3233129978179932,
          -21.749120712280273,
          29.389163970947266,
          -7.207446575164795,
          -24.97336196899414,
          1.3233129978179932,
          -23.421979904174805,
          -16.390905380249023,
          -61.078094482421875,
          -18.290849685668945,
          3.9661760330200195,
          -8.965227127075195,
          18.030353546142578,
          -11.517561912536621,
          -3.122415781021118,
          -5.258023738861084,
          -22.927452087402344,
          -4.591909408569336,
          29.096893310546875,
          37.59210205078125,
          -22.479978561401367,
          -62.58628463745117,
          51.041988372802734,
          -32.02588653564453,
          21.905969619750977,
          -24.045469284057617,
          -20.711585998535156,
          -58.82919692993164,
          -46.253631591796875,
          0.5086246728897095,
          -0.38949719071388245,
          57.94879913330078,
          -34.433250427246094,
          1.3233129978179932,
          1.3233129978179932,
          -46.35186004638672,
          1.3233129978179932,
          -19.33249855041504,
          26.90535545349121,
          -24.63262939453125,
          -37.77804946899414,
          44.84777069091797,
          99.28414916992188,
          56.690067291259766,
          -13.14620304107666,
          -39.814476013183594,
          14.93564510345459,
          -15.554701805114746,
          27.25606918334961,
          61.69449234008789,
          10.548687934875488,
          4.428946495056152,
          5.2569780349731445,
          -24.50078773498535,
          17.221839904785156,
          53.283138275146484,
          52.46427917480469,
          -13.883832931518555,
          -3.102234363555908,
          1.3233129978179932,
          -51.79841995239258,
          32.36050033569336,
          -24.507617950439453,
          7.668528079986572,
          -33.34934616088867,
          34.98506164550781,
          19.731435775756836,
          30.875253677368164,
          -50.797279357910156,
          -7.812632083892822,
          20.773324966430664,
          -17.117008209228516,
          19.53261947631836,
          48.88251495361328,
          37.59210205078125,
          3.137594699859619,
          -5.593624591827393,
          13.774646759033203,
          26.9195556640625,
          -12.607995986938477,
          4.068536758422852,
          -20.55599021911621,
          40.62962341308594,
          11.807575225830078,
          41.39116287231445,
          -5.7484869956970215,
          -41.22154235839844,
          50.85777282714844,
          1.3233129978179932,
          -27.136110305786133,
          20.925443649291992,
          27.660568237304688,
          16.879953384399414,
          37.436195373535156,
          -25.159141540527344,
          -27.918367385864258,
          -2.660259962081909,
          13.107699394226074,
          4.854477882385254,
          -51.79841995239258,
          -8.035865783691406,
          -53.30031967163086,
          23.700719833374023,
          50.24375534057617,
          -46.05259704589844,
          1.7477103471755981,
          -57.43415069580078,
          12.262333869934082,
          -56.23236846923828,
          -12.93333911895752,
          -38.13960647583008,
          10.031998634338379,
          9.30981731414795,
          -36.58747863769531,
          40.77729415893555,
          1.3233129978179932,
          11.869973182678223,
          14.21076774597168,
          -6.35919189453125,
          19.80452537536621,
          1.3233129978179932,
          26.38263511657715,
          -6.879620552062988,
          -50.431007385253906,
          41.930259704589844,
          -4.714460372924805,
          5.613602638244629,
          17.593820571899414,
          -11.262959480285645,
          8.694182395935059,
          22.73298454284668,
          43.59798049926758,
          -51.292850494384766,
          48.06678771972656,
          2.5062739849090576,
          -6.376075744628906,
          -40.38485336303711,
          -56.23236846923828,
          -2.9720659255981445,
          0.06000341475009918,
          -36.58747863769531,
          27.1605281829834,
          -19.722763061523438,
          -20.330724716186523,
          14.93458080291748,
          57.89479446411133,
          -20.330724716186523,
          -49.0504264831543,
          -6.895359992980957,
          38.899452209472656,
          -36.22186279296875,
          -30.672636032104492,
          6.2724995613098145,
          -22.937503814697266,
          -53.25493240356445,
          6.317669868469238,
          -1.6380720138549805,
          44.09754180908203,
          -10.961038589477539,
          -5.339878082275391,
          12.102272987365723,
          -8.346597671508789,
          32.04059600830078,
          46.66063690185547,
          14.140198707580566,
          -7.984901428222656,
          -7.992835521697998,
          -21.224878311157227,
          13.591078758239746,
          42.931697845458984,
          27.002561569213867,
          -17.494754791259766,
          -0.7826802134513855,
          11.426005363464355,
          -3.224891424179077,
          -29.810274124145508,
          13.166972160339355,
          -53.28270721435547,
          -10.389124870300293,
          -29.016490936279297,
          -10.068782806396484,
          11.340118408203125,
          18.13581657409668,
          -16.236127853393555,
          41.96238708496094,
          -45.98359680175781,
          27.1605281829834,
          1.3233129978179932,
          44.43636703491211,
          -6.930899620056152,
          1.3233129978179932,
          -30.806644439697266,
          31.718242645263672,
          -26.455970764160156,
          -62.1788330078125,
          -62.1788330078125,
          26.785259246826172,
          25.314985275268555,
          20.61144256591797,
          31.5493221282959,
          -7.944979190826416,
          -36.8889045715332,
          -36.115509033203125,
          35.89255142211914,
          13.469592094421387,
          1.3233129978179932,
          -58.25824737548828,
          1.3233129978179932,
          -19.33249855041504,
          -5.620630264282227,
          -50.77962112426758,
          18.810792922973633,
          -48.01000213623047,
          -64.3483657836914,
          0.6924324631690979,
          -11.363065719604492,
          12.808952331542969,
          2.659803628921509,
          -0.8236610293388367,
          -33.479530334472656,
          -48.81982421875,
          -16.65949249267578,
          -44.525413513183594,
          4.405455112457275,
          -7.997630596160889,
          -20.339763641357422,
          17.680885314941406,
          21.05024528503418,
          -1.9442424774169922,
          2.240732431411743,
          4.577595233917236,
          -3.224891424179077,
          -31.998620986938477,
          28.444459915161133,
          55.81849670410156,
          -3.951479434967041,
          -15.89307689666748,
          -1.3144601583480835,
          40.746028900146484,
          57.89479446411133,
          56.38280487060547,
          50.24375534057617,
          -52.907447814941406,
          5.1057820320129395,
          2.302699565887451,
          19.786407470703125,
          -21.79851531982422,
          -5.932378768920898,
          -9.125640869140625,
          -23.593591690063477,
          -30.755441665649414,
          52.53993606567383,
          6.662356376647949,
          4.699450492858887,
          -0.5892558693885803,
          7.321470737457275,
          22.4732608795166,
          54.556304931640625,
          -8.75661563873291,
          -43.2641487121582,
          10.058992385864258,
          -56.42903518676758,
          -33.34934616088867,
          -14.417113304138184,
          -29.10938835144043,
          -53.368099212646484,
          -17.509126663208008,
          18.283733367919922,
          -12.210404396057129,
          0.277717262506485,
          -32.4294548034668,
          45.14300537109375,
          7.859706401824951,
          22.461956024169922,
          25.781475067138672,
          32.473548889160156,
          0.5264986753463745,
          -1.8211956024169922,
          -57.314117431640625,
          -54.725704193115234,
          -11.95431900024414,
          4.661171913146973,
          -7.970361232757568,
          -1.6051381826400757,
          5.675495147705078,
          43.91373825073242,
          30.435199737548828,
          -6.6565704345703125,
          -12.10614013671875,
          4.352415561676025,
          20.859111785888672,
          -14.278377532958984,
          16.542985916137695,
          31.5493221282959,
          -46.818782806396484,
          29.2055721282959,
          -3.122415781021118,
          -59.26182174682617,
          21.640287399291992,
          19.271467208862305,
          -26.569244384765625,
          -26.432025909423828,
          -14.303690910339355,
          9.863564491271973,
          20.957134246826172,
          7.537670135498047,
          8.5986328125,
          12.442703247070312,
          -38.18021011352539,
          16.608739852905273,
          56.90266418457031,
          -18.303363800048828,
          3.443631410598755,
          -12.132290840148926,
          -3.0298192501068115,
          7.434056758880615,
          23.558435440063477,
          -19.722763061523438,
          50.418601989746094,
          -16.714746475219727,
          -7.984901428222656,
          -34.125732421875,
          -16.480939865112305,
          10.118183135986328,
          23.906436920166016,
          9.932550430297852,
          19.943159103393555,
          -23.164033889770508,
          14.11598014831543,
          -55.30064392089844,
          14.637250900268555,
          15.418347358703613,
          48.88251495361328,
          -18.395164489746094,
          1.406044363975525,
          -20.302936553955078,
          -11.51159954071045,
          -12.690118789672852,
          70.41107177734375,
          32.606685638427734,
          25.514019012451172,
          -29.70779037475586,
          50.37552261352539,
          23.179750442504883,
          -34.533233642578125,
          17.070220947265625,
          -24.062583923339844,
          36.776878356933594,
          9.619712829589844,
          21.936748504638672,
          -24.426128387451172,
          14.896463394165039,
          -3.7233476638793945,
          50.24375534057617,
          -11.977819442749023,
          -41.57075881958008,
          -26.244951248168945,
          14.21076774597168,
          -1.0741878747940063,
          14.998306274414062,
          35.51363754272461,
          -2.8408877849578857,
          7.941437721252441,
          7.143492698669434,
          -4.03469181060791,
          -20.1416015625,
          -36.099422454833984,
          -2.131380319595337,
          29.18442153930664,
          38.0888671875,
          -2.0624895095825195,
          -45.14595031738281,
          -12.812458038330078,
          -4.689587593078613,
          -14.699870109558105,
          2.1954033374786377,
          -39.609344482421875,
          53.33219909667969,
          2.7747597694396973,
          6.5596747398376465,
          5.641281604766846,
          32.539146423339844,
          -42.90510559082031,
          -60.64458465576172,
          27.947120666503906,
          -12.10614013671875,
          48.21199417114258,
          25.28127670288086,
          0.12416554242372513,
          37.27031326293945,
          -13.682760238647461,
          2.468636989593506,
          1.1132668256759644,
          -15.127028465270996,
          -49.975765228271484,
          -3.4610888957977295,
          -8.159809112548828,
          -5.714204788208008,
          5.6038618087768555,
          -20.361740112304688,
          -8.708495140075684,
          -3.9259114265441895,
          -24.8048152923584,
          33.044883728027344,
          -12.103514671325684,
          61.69449234008789,
          -4.809008598327637,
          4.382500171661377,
          14.095205307006836,
          56.690067291259766,
          7.332868576049805,
          19.995914459228516,
          43.578590393066406,
          -2.4340434074401855,
          4.910974502563477,
          -23.030656814575195,
          -57.4126091003418,
          18.257732391357422,
          -47.99270248413086,
          1.6832741498947144,
          16.98963165283203,
          -3.0043184757232666,
          -3.122415781021118,
          -9.996826171875,
          14.320939064025879,
          -50.01628112792969,
          17.291484832763672,
          -5.690895080566406,
          -32.44743347167969,
          -22.225563049316406,
          -45.875186920166016,
          13.312914848327637,
          -10.208074569702148,
          -16.569242477416992,
          11.288269996643066,
          7.703454494476318,
          -0.003887683153152466,
          19.409265518188477,
          -28.903148651123047,
          2.918231725692749,
          57.861305236816406,
          -1.800639271736145,
          20.988544464111328,
          -45.17027282714844,
          -7.207446575164795,
          -24.5233154296875,
          5.710874080657959,
          -24.404136657714844,
          -17.220678329467773,
          -61.078094482421875,
          7.757312297821045,
          6.505790710449219,
          -10.936100006103516,
          -3.2390787601470947,
          38.22911071777344,
          8.252507209777832,
          -1.8154058456420898,
          -20.361740112304688,
          0.3056289553642273,
          -36.58747863769531,
          20.957134246826172,
          34.66786575317383,
          16.168598175048828,
          78.58851623535156,
          -6.281513214111328,
          21.96660614013672,
          -2.0624895095825195,
          1.825329303741455,
          5.695137977600098,
          18.151025772094727,
          -23.934009552001953,
          -3.8471264839172363,
          18.200334548950195,
          -85.87026977539062,
          13.094358444213867,
          -29.131290435791016,
          9.333184242248535,
          22.264060974121094,
          37.73076248168945,
          35.63306427001953,
          5.061255931854248,
          10.096708297729492,
          -5.031177520751953,
          25.352313995361328,
          -20.821208953857422,
          39.73078536987305,
          16.09941864013672,
          46.713478088378906,
          34.46575164794922,
          -59.64676284790039,
          22.461956024169922,
          -0.5892558693885803,
          21.819541931152344,
          -38.35806655883789,
          13.831036567687988,
          37.314659118652344,
          -51.67584991455078,
          10.005428314208984,
          10.526657104492188,
          0.15649059414863586,
          30.144948959350586,
          -45.00059127807617,
          -36.519962310791016,
          5.641485214233398,
          19.719280242919922,
          31.67891502380371,
          -44.92778778076172,
          56.38280487060547,
          -41.96151351928711,
          -14.417113304138184,
          -12.83405590057373,
          12.95485782623291,
          -17.149839401245117,
          -20.303951263427734,
          43.24964904785156,
          -56.23236846923828,
          -0.5019962191581726,
          -27.66277503967285,
          8.96660327911377,
          43.52196502685547,
          19.11604118347168,
          42.60912322998047,
          44.699703216552734,
          -37.10549545288086,
          28.073543548583984,
          -49.52946853637695,
          -32.857582092285156,
          -31.379106521606445,
          9.37472152709961,
          7.38052225112915,
          -3.2707934379577637,
          -22.581275939941406,
          -10.657591819763184,
          -68.98025512695312,
          -45.15976333618164,
          24.844972610473633,
          18.58479881286621,
          9.993904113769531,
          29.92072105407715,
          21.320404052734375,
          19.03656578063965,
          20.50824546813965,
          11.33907413482666,
          4.756494045257568,
          -23.2810001373291,
          21.96872901916504,
          17.488311767578125,
          29.2980899810791,
          26.175962448120117,
          2.508561849594116,
          22.062604904174805,
          10.317757606506348,
          -34.90763473510742,
          -4.528282642364502
         ],
         "xaxis": "x",
         "y": [
          -0.7108421921730042,
          -0.7108421921730042,
          24.401561737060547,
          7.957057476043701,
          16.863832473754883,
          -50.72026824951172,
          5.939713478088379,
          8.462141036987305,
          -6.731318950653076,
          -16.434249877929688,
          -14.940204620361328,
          7.2565484046936035,
          -6.87012243270874,
          -10.709758758544922,
          -0.7108421921730042,
          -60.199562072753906,
          0.5230457186698914,
          -34.2775764465332,
          -13.801648139953613,
          14.03170394897461,
          -14.019392967224121,
          -16.000919342041016,
          27.755489349365234,
          -36.3150634765625,
          8.811026573181152,
          21.853073120117188,
          -8.772690773010254,
          26.581918716430664,
          28.43509292602539,
          -25.754638671875,
          -23.30768585205078,
          -26.58461570739746,
          5.107198715209961,
          -34.92606735229492,
          11.207358360290527,
          -49.63330078125,
          -25.59100914001465,
          -24.786365509033203,
          22.097312927246094,
          1.4620494842529297,
          19.707475662231445,
          -28.643564224243164,
          24.103351593017578,
          6.556032180786133,
          -21.271591186523438,
          15.40153694152832,
          16.143083572387695,
          -0.7108421921730042,
          -0.6621391177177429,
          19.035053253173828,
          -52.392974853515625,
          30.49563217163086,
          -0.7108421921730042,
          21.189210891723633,
          -4.490073204040527,
          15.144579887390137,
          -6.084936141967773,
          20.411813735961914,
          -24.518009185791016,
          -39.521175384521484,
          -34.3043098449707,
          40.64148712158203,
          -19.252944946289062,
          -22.053041458129883,
          10.001097679138184,
          8.738736152648926,
          -42.591529846191406,
          -7.032322883605957,
          12.691822052001953,
          -32.35902786254883,
          -18.636493682861328,
          27.335886001586914,
          -20.796918869018555,
          0.42046257853507996,
          19.63720703125,
          -27.754003524780273,
          -43.099098205566406,
          -44.97548294067383,
          2.745089292526245,
          10.857659339904785,
          -0.7108421921730042,
          -0.7108421921730042,
          -43.5864143371582,
          -0.7108421921730042,
          -54.05315399169922,
          -35.95683670043945,
          23.604482650756836,
          9.769128799438477,
          28.24352264404297,
          53.62676239013672,
          26.638050079345703,
          -37.14522171020508,
          29.69448471069336,
          -13.76540756225586,
          -20.854734420776367,
          13.135218620300293,
          -12.800108909606934,
          -24.417207717895508,
          4.511676788330078,
          -34.6722526550293,
          6.189272880554199,
          39.215431213378906,
          -0.5660986304283142,
          1.8004531860351562,
          16.79458999633789,
          -2.1114399433135986,
          -0.7108421921730042,
          -16.000614166259766,
          14.546460151672363,
          13.294720649719238,
          16.708602905273438,
          -46.13948440551758,
          -3.7580394744873047,
          19.736108779907227,
          -9.624192237854004,
          11.5100679397583,
          -13.180374145507812,
          -22.140762329101562,
          -24.96964454650879,
          -38.346805572509766,
          -6.346305847167969,
          -42.591529846191406,
          25.063587188720703,
          20.09563636779785,
          39.89922332763672,
          35.568756103515625,
          -35.76346206665039,
          22.228294372558594,
          40.81681823730469,
          -15.646793365478516,
          16.79688835144043,
          -19.576452255249023,
          16.80215072631836,
          19.336894989013672,
          -24.793319702148438,
          -0.7108421921730042,
          5.082151412963867,
          -18.478302001953125,
          0.43369680643081665,
          -10.148056030273438,
          -7.466597080230713,
          -11.642187118530273,
          -7.6113600730896,
          -64.45816040039062,
          7.229928016662598,
          25.27461051940918,
          -16.000614166259766,
          -41.99027633666992,
          10.909045219421387,
          74.10273742675781,
          -28.643564224243164,
          12.608702659606934,
          -23.90696144104004,
          8.37983512878418,
          12.402887344360352,
          -11.11086654663086,
          -24.473270416259766,
          6.424479961395264,
          -12.201128959655762,
          11.023550987243652,
          49.00517272949219,
          -24.38165855407715,
          -0.7108421921730042,
          36.60341262817383,
          -33.280521392822266,
          -9.642864227294922,
          1.392695426940918,
          -0.7108421921730042,
          25.339942932128906,
          -14.963292121887207,
          5.331472396850586,
          1.8910439014434814,
          53.39514923095703,
          9.8555269241333,
          42.53108215332031,
          -0.10093863308429718,
          -16.99394416809082,
          -2.2401678562164307,
          26.485403060913086,
          2.1228079795837402,
          -19.597267150878906,
          3.4011752605438232,
          14.048456192016602,
          33.28577423095703,
          -11.11086654663086,
          -36.84955978393555,
          -60.58127975463867,
          49.00517272949219,
          -27.38718032836914,
          -36.03340530395508,
          -50.63690948486328,
          -21.202327728271484,
          -15.583624839782715,
          -50.63690948486328,
          14.91240119934082,
          -5.131054878234863,
          36.68988800048828,
          100.86810302734375,
          -17.94205093383789,
          -17.27052116394043,
          -25.7443904876709,
          16.590490341186523,
          -16.273456573486328,
          2.6408627033233643,
          3.231999397277832,
          36.697288513183594,
          -3.085667610168457,
          40.10647964477539,
          12.970356941223145,
          -17.805530548095703,
          -28.29514503479004,
          31.642969131469727,
          31.208444595336914,
          7.675444602966309,
          -14.924721717834473,
          29.53260040283203,
          25.532777786254883,
          -7.817603588104248,
          27.755489349365234,
          12.209059715270996,
          44.41387176513672,
          0.5044384002685547,
          -1.9080359935760498,
          -4.229466915130615,
          14.769222259521484,
          -19.478912353515625,
          -9.72327709197998,
          -7.683722019195557,
          50.93185806274414,
          -4.048590183258057,
          5.665326118469238,
          12.987632751464844,
          6.062039375305176,
          -27.38718032836914,
          -0.7108421921730042,
          -7.806342601776123,
          -22.925464630126953,
          -0.7108421921730042,
          -23.519681930541992,
          5.92018985748291,
          2.2520577907562256,
          -3.46686053276062,
          -3.46686053276062,
          -24.259681701660156,
          37.51581954956055,
          -1.3211385011672974,
          -61.961578369140625,
          -2.3522791862487793,
          33.20339584350586,
          29.41958236694336,
          -31.0661678314209,
          0.3161866366863251,
          -0.7108421921730042,
          -8.464166641235352,
          -0.7108421921730042,
          -54.05315399169922,
          -0.848301112651825,
          -0.008275946602225304,
          -19.32524871826172,
          -29.08099365234375,
          -3.677151918411255,
          -13.635392189025879,
          -8.752396583557129,
          -40.99338912963867,
          32.8416633605957,
          93.79014587402344,
          -20.953306198120117,
          8.837020874023438,
          3.031263589859009,
          5.837698936462402,
          -3.9152958393096924,
          55.55553436279297,
          -19.004165649414062,
          -22.241365432739258,
          1.497238039970398,
          -6.19569730758667,
          -19.719886779785156,
          -12.502008438110352,
          0.5044384002685547,
          21.212732315063477,
          -9.441204071044922,
          -1.2778538465499878,
          3.3626699447631836,
          10.648324966430664,
          -17.07316780090332,
          3.5141706466674805,
          -15.583624839782715,
          -26.239309310913086,
          -28.643564224243164,
          12.339119911193848,
          6.734469890594482,
          5.716513633728027,
          41.971839904785156,
          46.24348449707031,
          53.87263870239258,
          53.438499450683594,
          45.328670501708984,
          5.149988174438477,
          14.22948932647705,
          3.865861415863037,
          -6.339730262756348,
          -62.480594635009766,
          -7.345414161682129,
          -47.86574172973633,
          0.8995054960250854,
          49.378170013427734,
          10.102533340454102,
          42.05628967285156,
          13.035663604736328,
          -46.13948440551758,
          34.24995803833008,
          8.39737606048584,
          4.304045677185059,
          19.781795501708984,
          16.00404930114746,
          36.199039459228516,
          -5.1026692390441895,
          -1.5406447649002075,
          -80.38240051269531,
          -0.6596726775169373,
          -52.64702224731445,
          -35.92105484008789,
          47.7990837097168,
          32.917205810546875,
          19.516395568847656,
          15.416362762451172,
          72.23780822753906,
          20.756572723388672,
          -32.136756896972656,
          0.6562508940696716,
          -3.829869508743286,
          -30.67719841003418,
          -13.872511863708496,
          47.81497573852539,
          3.996473550796509,
          24.961166381835938,
          30.959897994995117,
          29.592313766479492,
          3.3800714015960693,
          -17.891897201538086,
          -61.961578369140625,
          11.674651145935059,
          -35.89896011352539,
          40.64148712158203,
          21.753604888916016,
          -12.487380027770996,
          -10.728737831115723,
          -2.613128423690796,
          17.081127166748047,
          -27.233562469482422,
          -36.19168472290039,
          -29.81171989440918,
          -59.78662872314453,
          -10.99072265625,
          48.81842041015625,
          31.28986358642578,
          15.009946823120117,
          3.5617613792419434,
          10.811347961425781,
          -32.83781433105469,
          14.885848999023438,
          16.064844131469727,
          -43.36844253540039,
          19.207887649536133,
          -36.03340530395508,
          -3.5355043411254883,
          19.077425003051758,
          31.208444595336914,
          -34.2775764465332,
          -13.801648139953613,
          14.627243041992188,
          24.67818260192871,
          0.9142230749130249,
          -49.5167121887207,
          15.862939834594727,
          1.939653992652893,
          8.798164367675781,
          21.438703536987305,
          23.093029022216797,
          -6.346305847167969,
          1.5986278057098389,
          -64.19005584716797,
          -33.231197357177734,
          -4.108524799346924,
          -19.29443359375,
          71.94583129882812,
          -9.874650955200195,
          -49.4495849609375,
          -11.055154800415039,
          17.84231948852539,
          3.0256145000457764,
          -15.170087814331055,
          46.662681579589844,
          -9.966196060180664,
          -2.672443389892578,
          13.985109329223633,
          49.34053039550781,
          17.315715789794922,
          6.8055901527404785,
          -4.622652053833008,
          -28.643564224243164,
          -39.611427307128906,
          -0.049385275691747665,
          -21.60250473022461,
          -33.280521392822266,
          -24.006053924560547,
          42.0842399597168,
          -21.850465774536133,
          -8.517667770385742,
          -2.98172926902771,
          13.413765907287598,
          -32.77431869506836,
          -45.06970977783203,
          -74.07551574707031,
          4.917710304260254,
          17.123414993286133,
          35.943790435791016,
          55.112857818603516,
          -42.110504150390625,
          -10.201991081237793,
          5.93147087097168,
          -63.91008758544922,
          -9.71183967590332,
          -0.25486165285110474,
          12.288348197937012,
          8.119251251220703,
          -4.859339714050293,
          26.411041259765625,
          21.777746200561523,
          15.857194900512695,
          -1.0555928945541382,
          15.292352676391602,
          24.961166381835938,
          -9.590496063232422,
          10.138392448425293,
          8.39080810546875,
          -13.993513107299805,
          11.966487884521484,
          -5.026938438415527,
          12.662369728088379,
          -9.139217376708984,
          -1.0888574123382568,
          25.117172241210938,
          51.6224479675293,
          1.6683764457702637,
          0.0911489725112915,
          -47.15913391113281,
          -41.179447174072266,
          22.35784912109375,
          11.711153984069824,
          -2.7906999588012695,
          8.596817016601562,
          -12.800108909606934,
          -6.771917343139648,
          -51.715728759765625,
          -54.95436477661133,
          26.638050079345703,
          1.6622495651245117,
          -53.805992126464844,
          -27.21262550354004,
          7.467975616455078,
          -8.892060279846191,
          -17.635072708129883,
          6.788424015045166,
          10.162895202636719,
          -2.355414867401123,
          -21.45686149597168,
          -20.117752075195312,
          23.13520622253418,
          40.64148712158203,
          4.101842403411865,
          -5.5661091804504395,
          20.565671920776367,
          -13.247217178344727,
          30.653322219848633,
          32.765411376953125,
          42.911338806152344,
          -9.595573425292969,
          27.9741268157959,
          13.634637832641602,
          13.462841033935547,
          6.707173824310303,
          6.177518367767334,
          5.9327592849731445,
          -2.657090425491333,
          6.047898292541504,
          13.430684089660645,
          -0.7566758394241333,
          -46.370567321777344,
          9.429125785827637,
          10.126317977905273,
          -52.392974853515625,
          31.390369415283203,
          -2.164456605911255,
          21.01229476928711,
          -3.960117816925049,
          15.144579887390137,
          41.43056106567383,
          -62.084224700927734,
          53.85287857055664,
          -12.300670623779297,
          -19.238615036010742,
          -44.533355712890625,
          -28.509151458740234,
          -47.15913391113281,
          3.7119903564453125,
          49.00517272949219,
          -29.81171989440918,
          11.551416397094727,
          49.35958480834961,
          -80.09280395507812,
          -29.316665649414062,
          15.618635177612305,
          55.112857818603516,
          -26.22633934020996,
          34.41764450073242,
          2.8480536937713623,
          42.29362869262695,
          18.051008224487305,
          -12.44826602935791,
          -44.24296188354492,
          -54.3851432800293,
          -22.1925106048584,
          -5.126890182495117,
          -15.498873710632324,
          -25.694503784179688,
          -32.10138702392578,
          -23.580848693847656,
          23.342947006225586,
          51.191864013671875,
          -46.92998504638672,
          43.392066955566406,
          -17.799562454223633,
          38.5394172668457,
          -19.320114135742188,
          20.29212760925293,
          -6.700931072235107,
          -52.64702224731445,
          -62.480594635009766,
          -7.537833213806152,
          18.547775268554688,
          44.81111145019531,
          -9.394219398498535,
          -3.00834321975708,
          45.536842346191406,
          -17.3463077545166,
          -7.385712146759033,
          -18.037601470947266,
          19.805519104003906,
          -34.3382453918457,
          -60.887901306152344,
          9.071475982666016,
          24.726829528808594,
          -9.941875457763672,
          -26.239309310913086,
          -3.4772756099700928,
          34.24995803833008,
          -17.1962833404541,
          51.474205017089844,
          -35.88595962524414,
          -39.249820709228516,
          -6.87012243270874,
          -11.11086654663086,
          -9.787199020385742,
          -1.213615894317627,
          52.039459228515625,
          -0.15295223891735077,
          -14.831137657165527,
          -9.943711280822754,
          -15.266365051269531,
          7.395197868347168,
          -11.659590721130371,
          18.875125885009766,
          -7.2377495765686035,
          -8.95766830444336,
          3.536478042602539,
          -23.717679977416992,
          -60.580135345458984,
          -35.77431869506836,
          -12.566102981567383,
          -16.05253791809082,
          3.5985569953918457,
          -51.15644454956055,
          37.42900085449219,
          -82.64442443847656,
          6.669750213623047,
          39.76797866821289,
          44.86772918701172,
          46.0270881652832,
          -8.210489273071289,
          2.20395827293396,
          -9.041245460510254,
          17.81781768798828,
          35.41919708251953,
          47.89161682128906,
          19.365434646606445,
          -7.254491806030273,
          43.08711624145508,
          -1.9295880794525146,
          16.79644012451172,
          -30.404539108276367
         ],
         "yaxis": "y"
        }
       ],
       "layout": {
        "autosize": true,
        "coloraxis": {
         "colorbar": {
          "title": {
           "text": "label"
          }
         },
         "colorscale": [
          [
           0,
           "#0d0887"
          ],
          [
           0.1111111111111111,
           "#46039f"
          ],
          [
           0.2222222222222222,
           "#7201a8"
          ],
          [
           0.3333333333333333,
           "#9c179e"
          ],
          [
           0.4444444444444444,
           "#bd3786"
          ],
          [
           0.5555555555555556,
           "#d8576b"
          ],
          [
           0.6666666666666666,
           "#ed7953"
          ],
          [
           0.7777777777777778,
           "#fb9f3a"
          ],
          [
           0.8888888888888888,
           "#fdca26"
          ],
          [
           1,
           "#f0f921"
          ]
         ]
        },
        "legend": {
         "tracegroupgap": 0
        },
        "template": {
         "data": {
          "bar": [
           {
            "error_x": {
             "color": "#2a3f5f"
            },
            "error_y": {
             "color": "#2a3f5f"
            },
            "marker": {
             "line": {
              "color": "#E5ECF6",
              "width": 0.5
             },
             "pattern": {
              "fillmode": "overlay",
              "size": 10,
              "solidity": 0.2
             }
            },
            "type": "bar"
           }
          ],
          "barpolar": [
           {
            "marker": {
             "line": {
              "color": "#E5ECF6",
              "width": 0.5
             },
             "pattern": {
              "fillmode": "overlay",
              "size": 10,
              "solidity": 0.2
             }
            },
            "type": "barpolar"
           }
          ],
          "carpet": [
           {
            "aaxis": {
             "endlinecolor": "#2a3f5f",
             "gridcolor": "white",
             "linecolor": "white",
             "minorgridcolor": "white",
             "startlinecolor": "#2a3f5f"
            },
            "baxis": {
             "endlinecolor": "#2a3f5f",
             "gridcolor": "white",
             "linecolor": "white",
             "minorgridcolor": "white",
             "startlinecolor": "#2a3f5f"
            },
            "type": "carpet"
           }
          ],
          "choropleth": [
           {
            "colorbar": {
             "outlinewidth": 0,
             "ticks": ""
            },
            "type": "choropleth"
           }
          ],
          "contour": [
           {
            "colorbar": {
             "outlinewidth": 0,
             "ticks": ""
            },
            "colorscale": [
             [
              0,
              "#0d0887"
             ],
             [
              0.1111111111111111,
              "#46039f"
             ],
             [
              0.2222222222222222,
              "#7201a8"
             ],
             [
              0.3333333333333333,
              "#9c179e"
             ],
             [
              0.4444444444444444,
              "#bd3786"
             ],
             [
              0.5555555555555556,
              "#d8576b"
             ],
             [
              0.6666666666666666,
              "#ed7953"
             ],
             [
              0.7777777777777778,
              "#fb9f3a"
             ],
             [
              0.8888888888888888,
              "#fdca26"
             ],
             [
              1,
              "#f0f921"
             ]
            ],
            "type": "contour"
           }
          ],
          "contourcarpet": [
           {
            "colorbar": {
             "outlinewidth": 0,
             "ticks": ""
            },
            "type": "contourcarpet"
           }
          ],
          "heatmap": [
           {
            "colorbar": {
             "outlinewidth": 0,
             "ticks": ""
            },
            "colorscale": [
             [
              0,
              "#0d0887"
             ],
             [
              0.1111111111111111,
              "#46039f"
             ],
             [
              0.2222222222222222,
              "#7201a8"
             ],
             [
              0.3333333333333333,
              "#9c179e"
             ],
             [
              0.4444444444444444,
              "#bd3786"
             ],
             [
              0.5555555555555556,
              "#d8576b"
             ],
             [
              0.6666666666666666,
              "#ed7953"
             ],
             [
              0.7777777777777778,
              "#fb9f3a"
             ],
             [
              0.8888888888888888,
              "#fdca26"
             ],
             [
              1,
              "#f0f921"
             ]
            ],
            "type": "heatmap"
           }
          ],
          "heatmapgl": [
           {
            "colorbar": {
             "outlinewidth": 0,
             "ticks": ""
            },
            "colorscale": [
             [
              0,
              "#0d0887"
             ],
             [
              0.1111111111111111,
              "#46039f"
             ],
             [
              0.2222222222222222,
              "#7201a8"
             ],
             [
              0.3333333333333333,
              "#9c179e"
             ],
             [
              0.4444444444444444,
              "#bd3786"
             ],
             [
              0.5555555555555556,
              "#d8576b"
             ],
             [
              0.6666666666666666,
              "#ed7953"
             ],
             [
              0.7777777777777778,
              "#fb9f3a"
             ],
             [
              0.8888888888888888,
              "#fdca26"
             ],
             [
              1,
              "#f0f921"
             ]
            ],
            "type": "heatmapgl"
           }
          ],
          "histogram": [
           {
            "marker": {
             "pattern": {
              "fillmode": "overlay",
              "size": 10,
              "solidity": 0.2
             }
            },
            "type": "histogram"
           }
          ],
          "histogram2d": [
           {
            "colorbar": {
             "outlinewidth": 0,
             "ticks": ""
            },
            "colorscale": [
             [
              0,
              "#0d0887"
             ],
             [
              0.1111111111111111,
              "#46039f"
             ],
             [
              0.2222222222222222,
              "#7201a8"
             ],
             [
              0.3333333333333333,
              "#9c179e"
             ],
             [
              0.4444444444444444,
              "#bd3786"
             ],
             [
              0.5555555555555556,
              "#d8576b"
             ],
             [
              0.6666666666666666,
              "#ed7953"
             ],
             [
              0.7777777777777778,
              "#fb9f3a"
             ],
             [
              0.8888888888888888,
              "#fdca26"
             ],
             [
              1,
              "#f0f921"
             ]
            ],
            "type": "histogram2d"
           }
          ],
          "histogram2dcontour": [
           {
            "colorbar": {
             "outlinewidth": 0,
             "ticks": ""
            },
            "colorscale": [
             [
              0,
              "#0d0887"
             ],
             [
              0.1111111111111111,
              "#46039f"
             ],
             [
              0.2222222222222222,
              "#7201a8"
             ],
             [
              0.3333333333333333,
              "#9c179e"
             ],
             [
              0.4444444444444444,
              "#bd3786"
             ],
             [
              0.5555555555555556,
              "#d8576b"
             ],
             [
              0.6666666666666666,
              "#ed7953"
             ],
             [
              0.7777777777777778,
              "#fb9f3a"
             ],
             [
              0.8888888888888888,
              "#fdca26"
             ],
             [
              1,
              "#f0f921"
             ]
            ],
            "type": "histogram2dcontour"
           }
          ],
          "mesh3d": [
           {
            "colorbar": {
             "outlinewidth": 0,
             "ticks": ""
            },
            "type": "mesh3d"
           }
          ],
          "parcoords": [
           {
            "line": {
             "colorbar": {
              "outlinewidth": 0,
              "ticks": ""
             }
            },
            "type": "parcoords"
           }
          ],
          "pie": [
           {
            "automargin": true,
            "type": "pie"
           }
          ],
          "scatter": [
           {
            "fillpattern": {
             "fillmode": "overlay",
             "size": 10,
             "solidity": 0.2
            },
            "type": "scatter"
           }
          ],
          "scatter3d": [
           {
            "line": {
             "colorbar": {
              "outlinewidth": 0,
              "ticks": ""
             }
            },
            "marker": {
             "colorbar": {
              "outlinewidth": 0,
              "ticks": ""
             }
            },
            "type": "scatter3d"
           }
          ],
          "scattercarpet": [
           {
            "marker": {
             "colorbar": {
              "outlinewidth": 0,
              "ticks": ""
             }
            },
            "type": "scattercarpet"
           }
          ],
          "scattergeo": [
           {
            "marker": {
             "colorbar": {
              "outlinewidth": 0,
              "ticks": ""
             }
            },
            "type": "scattergeo"
           }
          ],
          "scattergl": [
           {
            "marker": {
             "colorbar": {
              "outlinewidth": 0,
              "ticks": ""
             }
            },
            "type": "scattergl"
           }
          ],
          "scattermapbox": [
           {
            "marker": {
             "colorbar": {
              "outlinewidth": 0,
              "ticks": ""
             }
            },
            "type": "scattermapbox"
           }
          ],
          "scatterpolar": [
           {
            "marker": {
             "colorbar": {
              "outlinewidth": 0,
              "ticks": ""
             }
            },
            "type": "scatterpolar"
           }
          ],
          "scatterpolargl": [
           {
            "marker": {
             "colorbar": {
              "outlinewidth": 0,
              "ticks": ""
             }
            },
            "type": "scatterpolargl"
           }
          ],
          "scatterternary": [
           {
            "marker": {
             "colorbar": {
              "outlinewidth": 0,
              "ticks": ""
             }
            },
            "type": "scatterternary"
           }
          ],
          "surface": [
           {
            "colorbar": {
             "outlinewidth": 0,
             "ticks": ""
            },
            "colorscale": [
             [
              0,
              "#0d0887"
             ],
             [
              0.1111111111111111,
              "#46039f"
             ],
             [
              0.2222222222222222,
              "#7201a8"
             ],
             [
              0.3333333333333333,
              "#9c179e"
             ],
             [
              0.4444444444444444,
              "#bd3786"
             ],
             [
              0.5555555555555556,
              "#d8576b"
             ],
             [
              0.6666666666666666,
              "#ed7953"
             ],
             [
              0.7777777777777778,
              "#fb9f3a"
             ],
             [
              0.8888888888888888,
              "#fdca26"
             ],
             [
              1,
              "#f0f921"
             ]
            ],
            "type": "surface"
           }
          ],
          "table": [
           {
            "cells": {
             "fill": {
              "color": "#EBF0F8"
             },
             "line": {
              "color": "white"
             }
            },
            "header": {
             "fill": {
              "color": "#C8D4E3"
             },
             "line": {
              "color": "white"
             }
            },
            "type": "table"
           }
          ]
         },
         "layout": {
          "annotationdefaults": {
           "arrowcolor": "#2a3f5f",
           "arrowhead": 0,
           "arrowwidth": 1
          },
          "autotypenumbers": "strict",
          "coloraxis": {
           "colorbar": {
            "outlinewidth": 0,
            "ticks": ""
           }
          },
          "colorscale": {
           "diverging": [
            [
             0,
             "#8e0152"
            ],
            [
             0.1,
             "#c51b7d"
            ],
            [
             0.2,
             "#de77ae"
            ],
            [
             0.3,
             "#f1b6da"
            ],
            [
             0.4,
             "#fde0ef"
            ],
            [
             0.5,
             "#f7f7f7"
            ],
            [
             0.6,
             "#e6f5d0"
            ],
            [
             0.7,
             "#b8e186"
            ],
            [
             0.8,
             "#7fbc41"
            ],
            [
             0.9,
             "#4d9221"
            ],
            [
             1,
             "#276419"
            ]
           ],
           "sequential": [
            [
             0,
             "#0d0887"
            ],
            [
             0.1111111111111111,
             "#46039f"
            ],
            [
             0.2222222222222222,
             "#7201a8"
            ],
            [
             0.3333333333333333,
             "#9c179e"
            ],
            [
             0.4444444444444444,
             "#bd3786"
            ],
            [
             0.5555555555555556,
             "#d8576b"
            ],
            [
             0.6666666666666666,
             "#ed7953"
            ],
            [
             0.7777777777777778,
             "#fb9f3a"
            ],
            [
             0.8888888888888888,
             "#fdca26"
            ],
            [
             1,
             "#f0f921"
            ]
           ],
           "sequentialminus": [
            [
             0,
             "#0d0887"
            ],
            [
             0.1111111111111111,
             "#46039f"
            ],
            [
             0.2222222222222222,
             "#7201a8"
            ],
            [
             0.3333333333333333,
             "#9c179e"
            ],
            [
             0.4444444444444444,
             "#bd3786"
            ],
            [
             0.5555555555555556,
             "#d8576b"
            ],
            [
             0.6666666666666666,
             "#ed7953"
            ],
            [
             0.7777777777777778,
             "#fb9f3a"
            ],
            [
             0.8888888888888888,
             "#fdca26"
            ],
            [
             1,
             "#f0f921"
            ]
           ]
          },
          "colorway": [
           "#636efa",
           "#EF553B",
           "#00cc96",
           "#ab63fa",
           "#FFA15A",
           "#19d3f3",
           "#FF6692",
           "#B6E880",
           "#FF97FF",
           "#FECB52"
          ],
          "font": {
           "color": "#2a3f5f"
          },
          "geo": {
           "bgcolor": "white",
           "lakecolor": "white",
           "landcolor": "#E5ECF6",
           "showlakes": true,
           "showland": true,
           "subunitcolor": "white"
          },
          "hoverlabel": {
           "align": "left"
          },
          "hovermode": "closest",
          "mapbox": {
           "style": "light"
          },
          "paper_bgcolor": "white",
          "plot_bgcolor": "#E5ECF6",
          "polar": {
           "angularaxis": {
            "gridcolor": "white",
            "linecolor": "white",
            "ticks": ""
           },
           "bgcolor": "#E5ECF6",
           "radialaxis": {
            "gridcolor": "white",
            "linecolor": "white",
            "ticks": ""
           }
          },
          "scene": {
           "xaxis": {
            "backgroundcolor": "#E5ECF6",
            "gridcolor": "white",
            "gridwidth": 2,
            "linecolor": "white",
            "showbackground": true,
            "ticks": "",
            "zerolinecolor": "white"
           },
           "yaxis": {
            "backgroundcolor": "#E5ECF6",
            "gridcolor": "white",
            "gridwidth": 2,
            "linecolor": "white",
            "showbackground": true,
            "ticks": "",
            "zerolinecolor": "white"
           },
           "zaxis": {
            "backgroundcolor": "#E5ECF6",
            "gridcolor": "white",
            "gridwidth": 2,
            "linecolor": "white",
            "showbackground": true,
            "ticks": "",
            "zerolinecolor": "white"
           }
          },
          "shapedefaults": {
           "line": {
            "color": "#2a3f5f"
           }
          },
          "ternary": {
           "aaxis": {
            "gridcolor": "white",
            "linecolor": "white",
            "ticks": ""
           },
           "baxis": {
            "gridcolor": "white",
            "linecolor": "white",
            "ticks": ""
           },
           "bgcolor": "#E5ECF6",
           "caxis": {
            "gridcolor": "white",
            "linecolor": "white",
            "ticks": ""
           }
          },
          "title": {
           "x": 0.05
          },
          "xaxis": {
           "automargin": true,
           "gridcolor": "white",
           "linecolor": "white",
           "ticks": "",
           "title": {
            "standoff": 15
           },
           "zerolinecolor": "white",
           "zerolinewidth": 2
          },
          "yaxis": {
           "automargin": true,
           "gridcolor": "white",
           "linecolor": "white",
           "ticks": "",
           "title": {
            "standoff": 15
           },
           "zerolinecolor": "white",
           "zerolinewidth": 2
          }
         }
        },
        "title": {
         "text": "TSNE dla word2vec dla słów"
        },
        "xaxis": {
         "anchor": "y",
         "autorange": true,
         "domain": [
          0,
          1
         ],
         "range": [
          -97.06789114321487,
          110.48177053774612
         ],
         "title": {
          "text": "x"
         },
         "type": "linear"
        },
        "yaxis": {
         "anchor": "x",
         "autorange": true,
         "domain": [
          0,
          1
         ],
         "range": [
          -97.78866214196658,
          116.01234073083377
         ],
         "title": {
          "text": "y"
         },
         "type": "linear"
        }
       }
      },
      "image/png": "[encoded data removed]",
      "text/html": [
       "<div>                            <div id=\"77f8ef20-7360-49f1-b2c2-c37bd125c40e\" class=\"plotly-graph-div\" style=\"height:525px; width:100%;\"></div>            <script type=\"text/javascript\">                require([\"plotly\"], function(Plotly) {                    window.PLOTLYENV=window.PLOTLYENV || {};                                    if (document.getElementById(\"77f8ef20-7360-49f1-b2c2-c37bd125c40e\")) {                    Plotly.newPlot(                        \"77f8ef20-7360-49f1-b2c2-c37bd125c40e\",                        [{\"customdata\":[[\"LUDZIE\"],[\"RESTAURACJA\"],[\"pomoc\"],[\"\\u015bwiat\"],[\"kurtk\\u0119\"],[\"milion\\u00f3w\"],[\"konkretach\"],[\"zmian\\u0119\"],[\"\\u0142awce\"],[\"gnojki\"],[\"znaki\"],[\"zapytania\"],[\"ko\\u0144cu\"],[\"wyroki\"],[\"S\\u0105du\"],[\"razy\"],[\"por\\u00f3wnania\"],[\"Patryk\"],[\"wybory\"],[\"prezydenta\"],[\"statystyki\"],[\"bramke\"],[\"razu\"],[\"ojczy\\u017anie\"],[\"taks\\u00f3wki\"],[\"szacunek\"],[\"oparciu\"],[\"opini\\u0119\"],[\"opini\\u0105\"],[\"prezesem\"],[\"klubu\"],[\"przewodnicz\\u0105cym\"],[\"wydzia\\u0142u\"],[\"futsalu\"],[\"limit\"],[\"obcokrajowc\\u00f3w\"],[\"podstawy\"],[\"pary\"],[\"pedofilia\"],[\"zboczenie\"],[\"homoseksualizm\"],[\"razie\"],[\"rade\"],[\"rekord\"],[\"wychowanki\"],[\"pewno\\u015bci\\u0105\"],[\"sektorom\"],[\"\\\\\\\"eksperci\\\\\"],[\"rzeczy\"],[\"gum\\u0119\"],[\"maja\"],[\"wsparcie\"],[\"Pani\"],[\"parcie\"],[\"szklo\"],[\"efekt\"],[\"obcasy\"],[\"trza\"],[\"mecze\"],[\"druzyn\"],[\"mecz\\u00f3w\"],[\"raz\"],[\"\\u017co\\u0142nierki\"],[\"kwiaty\"],[\"bach\"],[\"kognitywistyk\\u0119\"],[\"komunikacji\"],[\"wra\\u017cenia\"],[\"stopie\\u0144\"],[\"urlopie\"],[\"pa\\u0144stwo\"],[\"propagand\\u0119\"],[\"karpie\"],[\"s\\u0142\\u00f3w\"],[\"temat\"],[\"jeziora\"],[\"Modric\"],[\"Rakitic\"],[\"momentach\"],[\"orygina\\u0142\"],[\"Wyzwanie\"],[\"Syn\"],[\"mega\"],[\"s\\u0142odziakiem\"],[\"klasie\"],[\"podstaw\\u00f3wki\"],[\"ryzyko\"],[\"kupon\"],[\"chor\\u00f3b\"],[\"stanu\"],[\"statystyk\"],[\"wyst\\u0119pu\"],[\"realista\"],[\"wyj\\u0105tkiem\"],[\"si\\u0142y\"],[\"kolejk\\u0119\"],[\"przek\\u0142adzie\"],[\"trenerem\"],[\"Dziadek\"],[\"\\u017conie\"],[\"mieszkanie\"],[\"patologia\"],[\"statystykach\"],[\"umiej\\u0119tno\\u015bciach\"],[\"sufit\"],[\"Remis\"],[\"lvbet\"],[\"remis\"],[\"torb\\u0105\"],[\"serce\"],[\"w\\u00f3deczka\"],[\"\\u017cycia\"],[\"poczcie\"],[\"kred\\u0105\"],[\"asfalcie\"],[\"znak\"],[\"solidarno\\u015bci\"],[\"ofiar\\u0105\"],[\"osoby\"],[\"lgbt\"],[\"og\\u00f3le\"],[\"komunikacji\"],[\"wiec\"],[\"pasa\\u017cerami\"],[\"parodia\"],[\"liczbe\"],[\"wyst\\u0119p\\u00f3w\"],[\"moze\"],[\"drzewem\"],[\"ogrodzie\"],[\"lisie\"],[\"dodatku\"],[\"sztu\\u0107cami\"],[\"grzech\"],[\"\\u015bwiecie\"],[\"Raz\"],[\"piwo\"],[\"sensem\"],[\"przeciwie\\u0144stwo\"],[\"autem\"],[\"drodze\"],[\"wizje\"],[\"zmiany\"],[\"minucie\"],[\"pochwal\"],[\"ehh\"],[\"remis\"],[\"meczu\"],[\"obraz\"],[\"wieczorem\"],[\"razie\"],[\"serial\"],[\"Papadopoulosa\"],[\"sektor\"],[\"chodzenie\"],[\"mecz\"],[\"kolejki\"],[\"bilet\"],[\"wagon\\u00f3w\"],[\"powodzenia\"],[\"ko\\u0144ca\"],[\"kraju\"],[\"pisdzielstwo\"],[\"delegalizacja\"],[\"ramach\"],[\"przywracania\"],[\"skromno\\u015bci\"],[\"Prezes\"],[\"nazw\\u0119\"],[\"sp\\u00f3\\u0142ki\"],[\"lud\"],[\"my\\u015bli\"],[\"trenerzy\"],[\"tymczasowi\"],[\"statystyka\"],[\"gazu\"],[\"powtarzania\"],[\"opinii\"],[\"tarczycy\"],[\"cz\\u0142owiek\"],[\"maratonie\"],[\"radnia\"],[\"otworami\"],[\"piku\\u015b\"],[\"mecz\"],[\"mistrzostwo\"],[\"sekundy\"],[\"ko\\u0144ca\"],[\"kasy\"],[\"gry\"],[\"lidze\"],[\"przeciwnikiem\"],[\"wydaniu\"],[\"lidze\"],[\"post\"],[\"Ej\"],[\"czwartki\"],[\"social\"],[\"media\"],[\"walenia\"],[\"tony\"],[\"jezyk\"],[\"walenia\"],[\"pisdzielstwo\"],[\"racj\\u0119\"],[\"d\\u0142oni\"],[\"homopisuarowiec\"],[\"atrapa\"],[\"dykty\"],[\"ca\\u0142o\\u015bci\"],[\"wypadku\"],[\"transplantacja\"],[\"g\\u0142owy\"],[\"lifting\"],[\"g\\u0119by\"],[\"wszczepienie\"],[\"m\\u00f3zgu\"],[\"\\u0142bach\"],[\"razu\"],[\"wymioty\"],[\"tragedia\"],[\"Pana\"],[\"zdanie\"],[\"Pan\"],[\"j\\u0119zyk\"],[\"strzelaniny\"],[\"zwroty\"],[\"akcji\"],[\"kwestia\"],[\"nieznajomo\\u015bci\"],[\"slajd\\u00f3w\"],[\"prezesa\"],[\"front\"],[\"kasy\"],[\"malopolan\"],[\"ko\\u0144cu\"],[\"reprezentacje\"],[\"Niejaki\"],[\"standardy\"],[\"dziennikarstwa\"],[\"g\\u00f3wno\"],[\"dzie\\u0144\"],[\"dzie\\u0144\"],[\"rady\"],[\"warto\\u015b\\u0107\"],[\"krytyki\"],[\"pose\\u0142\"],[\"Naprawd\\u00e8\"],[\"t\\u0119py\"],[\"idiot\\u0119\"],[\"konta\"],[\"fav\"],[\"tweeta\"],[\"sezon\"],[\"\\\\n\\\\ndziunia\"],[\"klasie\"],[\"ZDROWIE\"],[\"facet\"],[\"m\\u00f3zgiem\"],[\"jenota\"],[\"dzien\"],[\"jeszze\"],[\"prezentacji\"],[\"pucharach\"],[\"mendo\"],[\"pisowska\"],[\"\\u015brodowisko\"],[\"cykl\"],[\"fotoszopa\"],[\"tramwaj\"],[\"chodkiewicza\"],[\"znajomi\"],[\"ziemie\"],[\"agentem\"],[\"obiektywizmu\"],[\"Pani\"],[\"odszkodowania\"],[\"nominat\"],[\"Poziom\"],[\"prymitywizmu\"],[\"\\u0142omocie\"],[\"miastach\"],[\"Polak\\u00f3w\\\\\"],[\"monitorka\"],[\"kartka\"],[\"w\\u0105tpliwo\\u015bci\"],[\"wydaniu\"],[\"polu\"],[\"razie\"],[\"przekaz\"],[\"\\\\\\\"ulica\"],[\"zagranica\\\\\"],[\"dyscyplina\"],[\"warunkiem\"],[\"sportowcy\"],[\"ludzie\"],[\"wp\\u0142ywem\"],[\"alkoholu\"],[\"lawirowaniu\"],[\"Wypozyczeni\"],[\"Stal\"],[\"minuty\"],[\"Czasu\"],[\"wykonawc\\u00f3w\"],[\"pozycjach\"],[\"panowie\"],[\"kabaret\"],[\"mina\"],[\"styl\"],[\"\\u017cycia\"],[\"nogi\"],[\"azbest\"],[\"m\\u00f3zg\"],[\"deszcz\"],[\"grozy\"],[\"karku\"],[\"Minister\"],[\"przem\\u00f3wienie\"],[\"Wrona\"],[\"Tata\"],[\"ludzi\"],[\"szko\\u0142y\"],[\"pani\"],[\"chuju\"],[\"komuchami\"],[\"aspekt\"],[\"zako\\u0144czenia\"],[\"dnia\"],[\"babci\"],[\"REKLAM\\u0118\"],[\"\\\\\\\"Bardzo\"],[\"dziadk\\u00f3w\"],[\"sercu\"],[\"dziewczyna\"],[\"Krzy\\u017ce\"],[\"czasu\"],[\"kurwa\"],[\"wolno\\u015b\\u0107\"],[\"maskara\"],[\"pa\\u0144stwem\"],[\"pose\\u0142\"],[\"film\"],[\"liceum\"],[\"raz\"],[\"podstawie\"],[\"kamer\\u0105\"],[\"pistoletem\"],[\"s\\u0142owa\"],[\"skrzyd\\u0142o\"],[\"strony\"],[\"formie\"],[\"\\u015bwiata\"],[\"metr\\u00f3w\"],[\"konfesjona\\u0142\\u00f3w\"],[\"sprawa\"],[\"prostak\"],[\"\\u015bmierci\"],[\"sprawach\"],[\"o\\u015bwietlenia\"],[\"c\\u00f3rki\"],[\"okna\"],[\"kamieniami\"],[\"polityk\"],[\"s\\u0119dzin\\u0119\"],[\"gry\"],[\"genach\"],[\"wiatr\"],[\"g\\u0142owy\"],[\"Patryk\"],[\"wybory\"],[\"oczy\\u015bci\"],[\"stolic\\u0119\"],[\"UBECKICH\"],[\"funkcjonariuszy\"],[\"powietrze\"],[\"tarczy\"],[\"obiekt\"],[\"teledysku\"],[\"4funtv\"],[\"og\\u00f3le\"],[\"jaj\"],[\"lata\"],[\"pracy\"],[\"Sztuki\"],[\"Walki\"],[\"si\\u0142ownia\"],[\"zdj\\u0119ciu\"],[\"kibic\\u00f3w\"],[\"wpisy\"],[\"cz\\u0142owiekowi\"],[\"znaczenia\"],[\"ceny\"],[\"moda\"],[\"filmiki\"],[\"Twitterze\"],[\"pijta\"],[\"apteka\"],[\"dno\"],[\"skupmy\"],[\"Prezes\"],[\"razie\"],[\"fina\\u0142u\"],[\"fina\\u0142\"],[\"przysmaki\"],[\"ramach\"],[\"przekupstwa\"],[\"narracja\"],[\"obozu\"],[\"zmiany\\\\\"],[\"Uszczelnienie\"],[\"kapitanie\"],[\"futsal\"],[\"ekstraklasy\"],[\"rusi\"],[\"rzeszy\"],[\"kaczuszk\\u0119\"],[\"niedziele\"],[\"kibice\"],[\"zero\"],[\"reklamy\"],[\"konpromitacj\\u0105\"],[\"historii\"],[\"Pana\"],[\"udzia\\u0142\"],[\"obalaniu\"],[\"Premiera\"],[\"#\"],[\"jeju\"],[\"ulg\\u0119\"],[\"szok\"],[\"czas\"],[\"drzemk\\u0119\"],[\"czasu\"],[\"internecie\"],[\"powt\\u00f3rk\\u0119\"],[\"utrzymali\\u015bcie\"],[\"stoliku\"],[\"miejsca\"],[\"Pies\"],[\"czasem\"],[\"ksi\\u0105\\u017cki\"],[\"ch\\u0142opczyk\"],[\"problemami\"],[\"politycy\"],[\"Ja\"],[\"dm\"],[\"ligi\"],[\"dwumeczu\"],[\"dziewczynami\"],[\"\\u017cycie\"],[\"li\\u015bcie\"],[\"klei\\u0107\"],[\"przek\\u0142adzie\"],[\"Lisek\"],[\"tysi\\u0119cy\"],[\"egzemplarzy\"],[\"statystyk\"],[\"jezu\"],[\"os\\u00f3b\"],[\"roku\"],[\"#\"],[\"Internecie,\\\\nGdzie\"],[\"\\u015bmiecie\"],[\"zak\\u0142ad\"],[\"podanie\"],[\"brat\"],[\"rozgrzeszenie\"],[\"cz\\u0142owiekiem\"],[\"ludzmi\"],[\"raz\"],[\"przyjecia\"],[\"sadownictwa\"],[\"fakt\"],[\"kangurem\"],[\"glowy\"],[\"g\\u0142upek\"],[\"tytu\\u0142em\"],[\"w\\u015blizg\"],[\"\\u015bci\\u0105gni\\u0119cie\"],[\"parteru\"],[\"go\\u015bcia\"],[\"robiliscie\"],[\"\\\\\\\"Opowiadania\"],[\"odeskie\\\\\"],[\"interpretacji\"],[\"alkohol\"],[\"umiarem\"],[\"ilo\\u015bciach\"],[\"Perez\"],[\"przedstawienie\"],[\"cyrk\"],[\"maja\"],[\"wsparcie\"],[\"Pani\"],[\"parcie\"],[\"szklo\"],[\"efekt\"],[\"wie\\u015b\"],[\"lat\"],[\"z\\u0142odzieje\"],[\"malwersanci\"],[\"pokoju\"],[\"kandydat\"],[\"napastnika\"],[\"ligi\"],[\"Babcia\"],[\"ko\\u0144ca\"],[\"\\u015bwiata\"],[\"babci\\u0105\"],[\"szansa\"],[\"Lechia\"],[\"kibicom\"],[\"szaliki\"],[\"kibice\"],[\"Celtiku\"],[\"szmata\"],[\"r\\u00f3\\u017cnicy\"],[\"koniec\"],[\"kangurami\"],[\"misiem\"],[\"koala\"],[\"euro\"],[\"produkty\"],[\"screenami\"],[\"gwizdkiem\"],[\"banku\"],[\"konto\"],[\"polaka\"],[\"rad\\u0119\"],[\"prezesi\"],[\"trener\\u00f3w\"],[\"okiem\"],[\"akademiku\"],[\"perwersja\"],[\"sporcie\"],[\"okazj\\u0119\"],[\"rok\"],[\"ludzi\"],[\"minuty\"],[\"szacunkiem\"],[\"bandytyzm\"],[\"walka\"],[\"okazji\"],[\"pech\"],[\"niespodzianka\"],[\"wyboru\"],[\"pucharowiczami\"],[\"ust\"],[\"komplement\"],[\"Przemek\"],[\"minut\"],[\"og\\u0142oszenie\"],[\"prac\\u0119\"],[\"w\\u015blizg\"],[\"polu\"],[\"debiutant\"],[\"nogi\"],[\"pchni\\u0119cie\"],[\"pr\\u00f3ba\"],[\"zagrania\"],[\"pi\\u0142ki\"],[\"ko\\u0144cu\"],[\"mecz\"],[\"Ja\"],[\"s\\u0142owo\"],[\"mowa\"],[\"dupie\"],[\"akademikiem\"],[\"do\\u0142ku\"],[\"\\u017cyciu\"],[\"towar\"],[\"ugotowaniu\"],[\"argument\"],[\"sprawozdania\"],[\"deklaracje\"],[\"Problem\"],[\"m\\u0142odzie\\u017cowcem\"],[\"gole\"],[\"przerwy\"],[\"telewizji\"],[\"baca\"],[\"pas\"],[\"turyst\\u00f3w\"],[\"akceptacja\"],[\"cebula\"],[\"dziennikarstwo\"],[\"specjalno\\u015b\\u0107\"],[\"reklama\"],[\"promocja\"],[\"rzecznictwo\"],[\"cv\"],[\"zdj\\u0119cia\"],[\"fotogeniczno\\u015bci\\u0105\"],[\"determinacja\"],[\"kobieta\"],[\"kobiet\\u0119\"],[\"Mistrzowie\"],[\"bran\\u017ca\"],[\"mirda\"],[\"kube\\u0142\"],[\"w\\u015blizgami\"]],\"hovertemplate\":\"x=%{x}\\u003cbr\\u003ey=%{y}\\u003cbr\\u003etext=%{customdata[0]}\\u003cbr\\u003elabel=%{marker.color}\\u003cextra\\u003e\\u003c\\u002fextra\\u003e\",\"legendgroup\":\"\",\"marker\":{\"color\":[0.0,1.0,2.0,3.0,1.0,2.0,2.0,2.0,1.0,0.0,3.0,2.0,2.0,2.0,2.0,2.0,2.0,0.0,2.0,0.0,2.0,1.0,2.0,2.0,1.0,2.0,2.0,2.0,2.0,0.0,2.0,0.0,2.0,2.0,2.0,0.0,2.0,2.0,2.0,2.0,2.0,2.0,2.0,2.0,0.0,2.0,2.0,0.0,1.0,1.0,2.0,2.0,0.0,2.0,1.0,2.0,1.0,2.0,2.0,0.0,2.0,2.0,0.0,1.0,2.0,2.0,2.0,2.0,2.0,2.0,2.0,2.0,1.0,2.0,2.0,2.0,0.0,0.0,2.0,2.0,2.0,0.0,2.0,0.0,2.0,2.0,2.0,2.0,2.0,2.0,2.0,2.0,0.0,2.0,2.0,2.0,2.0,0.0,0.0,0.0,1.0,2.0,2.0,2.0,1.0,2.0,2.0,2.0,1.0,1.0,1.0,2.0,2.0,1.0,1.0,3.0,2.0,0.0,0.0,2.0,2.0,2.0,2.0,0.0,2.0,2.0,2.0,2.0,1.0,1.0,0.0,2.0,1.0,2.0,3.0,2.0,1.0,2.0,2.0,1.0,1.0,2.0,2.0,2.0,2.0,3.0,2.0,2.0,1.0,2.0,2.0,2.0,3.0,2.0,2.0,2.0,2.0,1.0,1.0,2.0,2.0,2.0,3.0,2.0,2.0,2.0,2.0,0.0,2.0,2.0,0.0,2.0,0.0,2.0,2.0,2.0,2.0,2.0,1.0,0.0,2.0,2.0,2.0,2.0,2.0,2.0,2.0,2.0,1.0,2.0,2.0,0.0,2.0,2.0,2.0,3.0,2.0,2.0,2.0,2.0,2.0,1.0,2.0,3.0,2.0,1.0,3.0,2.0,1.0,2.0,2.0,2.0,1.0,2.0,1.0,2.0,1.0,1.0,2.0,1.0,2.0,0.0,2.0,0.0,1.0,2.0,2.0,2.0,2.0,2.0,2.0,0.0,2.0,1.0,0.0,2.0,2.0,3.0,2.0,2.0,1.0,2.0,2.0,2.0,2.0,2.0,0.0,3.0,2.0,0.0,2.0,3.0,2.0,2.0,0.0,2.0,2.0,0.0,1.0,1.0,2.0,2.0,2.0,1.0,0.0,2.0,2.0,2.0,2.0,1.0,0.0,0.0,1.0,0.0,2.0,0.0,2.0,0.0,2.0,2.0,2.0,2.0,0.0,1.0,1.0,2.0,2.0,2.0,2.0,2.0,2.0,2.0,2.0,2.0,0.0,0.0,2.0,1.0,2.0,2.0,1.0,2.0,2.0,0.0,2.0,1.0,2.0,3.0,2.0,2.0,1.0,1.0,1.0,1.0,2.0,1.0,0.0,2.0,0.0,0.0,0.0,1.0,0.0,3.0,3.0,2.0,2.0,2.0,0.0,2.0,2.0,0.0,1.0,0.0,1.0,2.0,0.0,2.0,2.0,2.0,0.0,2.0,1.0,2.0,2.0,1.0,1.0,2.0,1.0,2.0,2.0,3.0,2.0,1.0,2.0,0.0,1.0,2.0,1.0,0.0,1.0,1.0,0.0,0.0,2.0,2.0,3.0,1.0,0.0,2.0,2.0,2.0,3.0,0.0,3.0,1.0,2.0,2.0,3.0,2.0,1.0,2.0,2.0,2.0,2.0,1.0,1.0,0.0,2.0,0.0,2.0,2.0,2.0,2.0,2.0,3.0,1.0,2.0,2.0,0.0,2.0,2.0,2.0,1.0,1.0,2.0,2.0,2.0,2.0,2.0,0.0,2.0,2.0,2.0,2.0,0.0,2.0,0.0,2.0,2.0,2.0,2.0,0.0,2.0,2.0,0.0,3.0,3.0,2.0,2.0,2.0,2.0,2.0,2.0,2.0,2.0,1.0,2.0,0.0,2.0,1.0,0.0,2.0,0.0,0.0,3.0,2.0,2.0,0.0,2.0,1.0,2.0,2.0,0.0,2.0,2.0,2.0,3.0,0.0,2.0,3.0,3.0,1.0,2.0,2.0,0.0,2.0,0.0,0.0,2.0,2.0,2.0,2.0,0.0,1.0,0.0,2.0,2.0,2.0,1.0,0.0,2.0,3.0,2.0,2.0,1.0,2.0,2.0,0.0,2.0,1.0,2.0,2.0,0.0,2.0,1.0,2.0,2.0,2.0,0.0,0.0,1.0,0.0,0.0,2.0,0.0,2.0,2.0,0.0,2.0,2.0,0.0,1.0,0.0,0.0,0.0,2.0,2.0,0.0,0.0,0.0,1.0,1.0,1.0,1.0,1.0,1.0,0.0,2.0,0.0,0.0,1.0,1.0,2.0,2.0,2.0,2.0,0.0,2.0,2.0,2.0,2.0,2.0,2.0,2.0,2.0,0.0,1.0,2.0,0.0,2.0,1.0,2.0,2.0,1.0,0.0,1.0,2.0,2.0,2.0,1.0,2.0,2.0,0.0,2.0,2.0,1.0,1.0,1.0,2.0,1.0,2.0,2.0,1.0,1.0,2.0,0.0,2.0,2.0,2.0,0.0,1.0,0.0,2.0,1.0,2.0,2.0,1.0,1.0,2.0,1.0,1.0,2.0,2.0,0.0,0.0,0.0,2.0,2.0,1.0,null],\"coloraxis\":\"coloraxis\",\"symbol\":\"circle\"},\"mode\":\"markers\",\"name\":\"\",\"orientation\":\"v\",\"showlegend\":false,\"x\":[1.3233129978179932,1.3233129978179932,33.06835174560547,-52.23122787475586,31.383867263793945,4.533960342407227,89.58390045166016,24.704708099365234,33.129032135009766,-22.85579490661621,-26.694110870361328,-19.145721435546875,43.24964904785156,-33.131263732910156,1.3233129978179932,3.162600040435791,-15.883360862731934,-34.125732421875,-16.480939865112305,41.84257507324219,-30.710594177246094,0.15709272027015686,-17.494754791259766,7.301206588745117,-15.146958351135254,-44.941734313964844,51.82672119140625,29.513853073120117,29.687108993530273,12.247136116027832,35.06824493408203,13.01563549041748,33.61932373046875,-3.568007230758667,-63.17145919799805,22.41625213623047,-31.385244369506836,-14.328705787658691,-36.83689880371094,28.238428115844727,-38.04499053955078,50.24375534057617,8.0626220703125,-61.782894134521484,-5.704971790313721,2.2320384979248047,51.378475189208984,1.3233129978179932,-21.749120712280273,29.389163970947266,-7.207446575164795,-24.97336196899414,1.3233129978179932,-23.421979904174805,-16.390905380249023,-61.078094482421875,-18.290849685668945,3.9661760330200195,-8.965227127075195,18.030353546142578,-11.517561912536621,-3.122415781021118,-5.258023738861084,-22.927452087402344,-4.591909408569336,29.096893310546875,37.59210205078125,-22.479978561401367,-62.58628463745117,51.041988372802734,-32.02588653564453,21.905969619750977,-24.045469284057617,-20.711585998535156,-58.82919692993164,-46.253631591796875,0.5086246728897095,-0.38949719071388245,57.94879913330078,-34.433250427246094,1.3233129978179932,1.3233129978179932,-46.35186004638672,1.3233129978179932,-19.33249855041504,26.90535545349121,-24.63262939453125,-37.77804946899414,44.84777069091797,99.28414916992188,56.690067291259766,-13.14620304107666,-39.814476013183594,14.93564510345459,-15.554701805114746,27.25606918334961,61.69449234008789,10.548687934875488,4.428946495056152,5.2569780349731445,-24.50078773498535,17.221839904785156,53.283138275146484,52.46427917480469,-13.883832931518555,-3.102234363555908,1.3233129978179932,-51.79841995239258,32.36050033569336,-24.507617950439453,7.668528079986572,-33.34934616088867,34.98506164550781,19.731435775756836,30.875253677368164,-50.797279357910156,-7.812632083892822,20.773324966430664,-17.117008209228516,19.53261947631836,48.88251495361328,37.59210205078125,3.137594699859619,-5.593624591827393,13.774646759033203,26.9195556640625,-12.607995986938477,4.068536758422852,-20.55599021911621,40.62962341308594,11.807575225830078,41.39116287231445,-5.7484869956970215,-41.22154235839844,50.85777282714844,1.3233129978179932,-27.136110305786133,20.925443649291992,27.660568237304688,16.879953384399414,37.436195373535156,-25.159141540527344,-27.918367385864258,-2.660259962081909,13.107699394226074,4.854477882385254,-51.79841995239258,-8.035865783691406,-53.30031967163086,23.700719833374023,50.24375534057617,-46.05259704589844,1.7477103471755981,-57.43415069580078,12.262333869934082,-56.23236846923828,-12.93333911895752,-38.13960647583008,10.031998634338379,9.30981731414795,-36.58747863769531,40.77729415893555,1.3233129978179932,11.869973182678223,14.21076774597168,-6.35919189453125,19.80452537536621,1.3233129978179932,26.38263511657715,-6.879620552062988,-50.431007385253906,41.930259704589844,-4.714460372924805,5.613602638244629,17.593820571899414,-11.262959480285645,8.694182395935059,22.73298454284668,43.59798049926758,-51.292850494384766,48.06678771972656,2.5062739849090576,-6.376075744628906,-40.38485336303711,-56.23236846923828,-2.9720659255981445,0.06000341475009918,-36.58747863769531,27.1605281829834,-19.722763061523438,-20.330724716186523,14.93458080291748,57.89479446411133,-20.330724716186523,-49.0504264831543,-6.895359992980957,38.899452209472656,-36.22186279296875,-30.672636032104492,6.2724995613098145,-22.937503814697266,-53.25493240356445,6.317669868469238,-1.6380720138549805,44.09754180908203,-10.961038589477539,-5.339878082275391,12.102272987365723,-8.346597671508789,32.04059600830078,46.66063690185547,14.140198707580566,-7.984901428222656,-7.992835521697998,-21.224878311157227,13.591078758239746,42.931697845458984,27.002561569213867,-17.494754791259766,-0.7826802134513855,11.426005363464355,-3.224891424179077,-29.810274124145508,13.166972160339355,-53.28270721435547,-10.389124870300293,-29.016490936279297,-10.068782806396484,11.340118408203125,18.13581657409668,-16.236127853393555,41.96238708496094,-45.98359680175781,27.1605281829834,1.3233129978179932,44.43636703491211,-6.930899620056152,1.3233129978179932,-30.806644439697266,31.718242645263672,-26.455970764160156,-62.1788330078125,-62.1788330078125,26.785259246826172,25.314985275268555,20.61144256591797,31.5493221282959,-7.944979190826416,-36.8889045715332,-36.115509033203125,35.89255142211914,13.469592094421387,1.3233129978179932,-58.25824737548828,1.3233129978179932,-19.33249855041504,-5.620630264282227,-50.77962112426758,18.810792922973633,-48.01000213623047,-64.3483657836914,0.6924324631690979,-11.363065719604492,12.808952331542969,2.659803628921509,-0.8236610293388367,-33.479530334472656,-48.81982421875,-16.65949249267578,-44.525413513183594,4.405455112457275,-7.997630596160889,-20.339763641357422,17.680885314941406,21.05024528503418,-1.9442424774169922,2.240732431411743,4.577595233917236,-3.224891424179077,-31.998620986938477,28.444459915161133,55.81849670410156,-3.951479434967041,-15.89307689666748,-1.3144601583480835,40.746028900146484,57.89479446411133,56.38280487060547,50.24375534057617,-52.907447814941406,5.1057820320129395,2.302699565887451,19.786407470703125,-21.79851531982422,-5.932378768920898,-9.125640869140625,-23.593591690063477,-30.755441665649414,52.53993606567383,6.662356376647949,4.699450492858887,-0.5892558693885803,7.321470737457275,22.4732608795166,54.556304931640625,-8.75661563873291,-43.2641487121582,10.058992385864258,-56.42903518676758,-33.34934616088867,-14.417113304138184,-29.10938835144043,-53.368099212646484,-17.509126663208008,18.283733367919922,-12.210404396057129,0.277717262506485,-32.4294548034668,45.14300537109375,7.859706401824951,22.461956024169922,25.781475067138672,32.473548889160156,0.5264986753463745,-1.8211956024169922,-57.314117431640625,-54.725704193115234,-11.95431900024414,4.661171913146973,-7.970361232757568,-1.6051381826400757,5.675495147705078,43.91373825073242,30.435199737548828,-6.6565704345703125,-12.10614013671875,4.352415561676025,20.859111785888672,-14.278377532958984,16.542985916137695,31.5493221282959,-46.818782806396484,29.2055721282959,-3.122415781021118,-59.26182174682617,21.640287399291992,19.271467208862305,-26.569244384765625,-26.432025909423828,-14.303690910339355,9.863564491271973,20.957134246826172,7.537670135498047,8.5986328125,12.442703247070312,-38.18021011352539,16.608739852905273,56.90266418457031,-18.303363800048828,3.443631410598755,-12.132290840148926,-3.0298192501068115,7.434056758880615,23.558435440063477,-19.722763061523438,50.418601989746094,-16.714746475219727,-7.984901428222656,-34.125732421875,-16.480939865112305,10.118183135986328,23.906436920166016,9.932550430297852,19.943159103393555,-23.164033889770508,14.11598014831543,-55.30064392089844,14.637250900268555,15.418347358703613,48.88251495361328,-18.395164489746094,1.406044363975525,-20.302936553955078,-11.51159954071045,-12.690118789672852,70.41107177734375,32.606685638427734,25.514019012451172,-29.70779037475586,50.37552261352539,23.179750442504883,-34.533233642578125,17.070220947265625,-24.062583923339844,36.776878356933594,9.619712829589844,21.936748504638672,-24.426128387451172,14.896463394165039,-3.7233476638793945,50.24375534057617,-11.977819442749023,-41.57075881958008,-26.244951248168945,14.21076774597168,-1.0741878747940063,14.998306274414062,35.51363754272461,-2.8408877849578857,7.941437721252441,7.143492698669434,-4.03469181060791,-20.1416015625,-36.099422454833984,-2.131380319595337,29.18442153930664,38.0888671875,-2.0624895095825195,-45.14595031738281,-12.812458038330078,-4.689587593078613,-14.699870109558105,2.1954033374786377,-39.609344482421875,53.33219909667969,2.7747597694396973,6.5596747398376465,5.641281604766846,32.539146423339844,-42.90510559082031,-60.64458465576172,27.947120666503906,-12.10614013671875,48.21199417114258,25.28127670288086,0.12416554242372513,37.27031326293945,-13.682760238647461,2.468636989593506,1.1132668256759644,-15.127028465270996,-49.975765228271484,-3.4610888957977295,-8.159809112548828,-5.714204788208008,5.6038618087768555,-20.361740112304688,-8.708495140075684,-3.9259114265441895,-24.8048152923584,33.044883728027344,-12.103514671325684,61.69449234008789,-4.809008598327637,4.382500171661377,14.095205307006836,56.690067291259766,7.332868576049805,19.995914459228516,43.578590393066406,-2.4340434074401855,4.910974502563477,-23.030656814575195,-57.4126091003418,18.257732391357422,-47.99270248413086,1.6832741498947144,16.98963165283203,-3.0043184757232666,-3.122415781021118,-9.996826171875,14.320939064025879,-50.01628112792969,17.291484832763672,-5.690895080566406,-32.44743347167969,-22.225563049316406,-45.875186920166016,13.312914848327637,-10.208074569702148,-16.569242477416992,11.288269996643066,7.703454494476318,-0.003887683153152466,19.409265518188477,-28.903148651123047,2.918231725692749,57.861305236816406,-1.800639271736145,20.988544464111328,-45.17027282714844,-7.207446575164795,-24.5233154296875,5.710874080657959,-24.404136657714844,-17.220678329467773,-61.078094482421875,7.757312297821045,6.505790710449219,-10.936100006103516,-3.2390787601470947,38.22911071777344,8.252507209777832,-1.8154058456420898,-20.361740112304688,0.3056289553642273,-36.58747863769531,20.957134246826172,34.66786575317383,16.168598175048828,78.58851623535156,-6.281513214111328,21.96660614013672,-2.0624895095825195,1.825329303741455,5.695137977600098,18.151025772094727,-23.934009552001953,-3.8471264839172363,18.200334548950195,-85.87026977539062,13.094358444213867,-29.131290435791016,9.333184242248535,22.264060974121094,37.73076248168945,35.63306427001953,5.061255931854248,10.096708297729492,-5.031177520751953,25.352313995361328,-20.821208953857422,39.73078536987305,16.09941864013672,46.713478088378906,34.46575164794922,-59.64676284790039,22.461956024169922,-0.5892558693885803,21.819541931152344,-38.35806655883789,13.831036567687988,37.314659118652344,-51.67584991455078,10.005428314208984,10.526657104492188,0.15649059414863586,30.144948959350586,-45.00059127807617,-36.519962310791016,5.641485214233398,19.719280242919922,31.67891502380371,-44.92778778076172,56.38280487060547,-41.96151351928711,-14.417113304138184,-12.83405590057373,12.95485782623291,-17.149839401245117,-20.303951263427734,43.24964904785156,-56.23236846923828,-0.5019962191581726,-27.66277503967285,8.96660327911377,43.52196502685547,19.11604118347168,42.60912322998047,44.699703216552734,-37.10549545288086,28.073543548583984,-49.52946853637695,-32.857582092285156,-31.379106521606445,9.37472152709961,7.38052225112915,-3.2707934379577637,-22.581275939941406,-10.657591819763184,-68.98025512695312,-45.15976333618164,24.844972610473633,18.58479881286621,9.993904113769531,29.92072105407715,21.320404052734375,19.03656578063965,20.50824546813965,11.33907413482666,4.756494045257568,-23.2810001373291,21.96872901916504,17.488311767578125,29.2980899810791,26.175962448120117,2.508561849594116,22.062604904174805,10.317757606506348,-34.90763473510742,-4.528282642364502],\"xaxis\":\"x\",\"y\":[-0.7108421921730042,-0.7108421921730042,24.401561737060547,7.957057476043701,16.863832473754883,-50.72026824951172,5.939713478088379,8.462141036987305,-6.731318950653076,-16.434249877929688,-14.940204620361328,7.2565484046936035,-6.87012243270874,-10.709758758544922,-0.7108421921730042,-60.199562072753906,0.5230457186698914,-34.2775764465332,-13.801648139953613,14.03170394897461,-14.019392967224121,-16.000919342041016,27.755489349365234,-36.3150634765625,8.811026573181152,21.853073120117188,-8.772690773010254,26.581918716430664,28.43509292602539,-25.754638671875,-23.30768585205078,-26.58461570739746,5.107198715209961,-34.92606735229492,11.207358360290527,-49.63330078125,-25.59100914001465,-24.786365509033203,22.097312927246094,1.4620494842529297,19.707475662231445,-28.643564224243164,24.103351593017578,6.556032180786133,-21.271591186523438,15.40153694152832,16.143083572387695,-0.7108421921730042,-0.6621391177177429,19.035053253173828,-52.392974853515625,30.49563217163086,-0.7108421921730042,21.189210891723633,-4.490073204040527,15.144579887390137,-6.084936141967773,20.411813735961914,-24.518009185791016,-39.521175384521484,-34.3043098449707,40.64148712158203,-19.252944946289062,-22.053041458129883,10.001097679138184,8.738736152648926,-42.591529846191406,-7.032322883605957,12.691822052001953,-32.35902786254883,-18.636493682861328,27.335886001586914,-20.796918869018555,0.42046257853507996,19.63720703125,-27.754003524780273,-43.099098205566406,-44.97548294067383,2.745089292526245,10.857659339904785,-0.7108421921730042,-0.7108421921730042,-43.5864143371582,-0.7108421921730042,-54.05315399169922,-35.95683670043945,23.604482650756836,9.769128799438477,28.24352264404297,53.62676239013672,26.638050079345703,-37.14522171020508,29.69448471069336,-13.76540756225586,-20.854734420776367,13.135218620300293,-12.800108909606934,-24.417207717895508,4.511676788330078,-34.6722526550293,6.189272880554199,39.215431213378906,-0.5660986304283142,1.8004531860351562,16.79458999633789,-2.1114399433135986,-0.7108421921730042,-16.000614166259766,14.546460151672363,13.294720649719238,16.708602905273438,-46.13948440551758,-3.7580394744873047,19.736108779907227,-9.624192237854004,11.5100679397583,-13.180374145507812,-22.140762329101562,-24.96964454650879,-38.346805572509766,-6.346305847167969,-42.591529846191406,25.063587188720703,20.09563636779785,39.89922332763672,35.568756103515625,-35.76346206665039,22.228294372558594,40.81681823730469,-15.646793365478516,16.79688835144043,-19.576452255249023,16.80215072631836,19.336894989013672,-24.793319702148438,-0.7108421921730042,5.082151412963867,-18.478302001953125,0.43369680643081665,-10.148056030273438,-7.466597080230713,-11.642187118530273,-7.6113600730896,-64.45816040039062,7.229928016662598,25.27461051940918,-16.000614166259766,-41.99027633666992,10.909045219421387,74.10273742675781,-28.643564224243164,12.608702659606934,-23.90696144104004,8.37983512878418,12.402887344360352,-11.11086654663086,-24.473270416259766,6.424479961395264,-12.201128959655762,11.023550987243652,49.00517272949219,-24.38165855407715,-0.7108421921730042,36.60341262817383,-33.280521392822266,-9.642864227294922,1.392695426940918,-0.7108421921730042,25.339942932128906,-14.963292121887207,5.331472396850586,1.8910439014434814,53.39514923095703,9.8555269241333,42.53108215332031,-0.10093863308429718,-16.99394416809082,-2.2401678562164307,26.485403060913086,2.1228079795837402,-19.597267150878906,3.4011752605438232,14.048456192016602,33.28577423095703,-11.11086654663086,-36.84955978393555,-60.58127975463867,49.00517272949219,-27.38718032836914,-36.03340530395508,-50.63690948486328,-21.202327728271484,-15.583624839782715,-50.63690948486328,14.91240119934082,-5.131054878234863,36.68988800048828,100.86810302734375,-17.94205093383789,-17.27052116394043,-25.7443904876709,16.590490341186523,-16.273456573486328,2.6408627033233643,3.231999397277832,36.697288513183594,-3.085667610168457,40.10647964477539,12.970356941223145,-17.805530548095703,-28.29514503479004,31.642969131469727,31.208444595336914,7.675444602966309,-14.924721717834473,29.53260040283203,25.532777786254883,-7.817603588104248,27.755489349365234,12.209059715270996,44.41387176513672,0.5044384002685547,-1.9080359935760498,-4.229466915130615,14.769222259521484,-19.478912353515625,-9.72327709197998,-7.683722019195557,50.93185806274414,-4.048590183258057,5.665326118469238,12.987632751464844,6.062039375305176,-27.38718032836914,-0.7108421921730042,-7.806342601776123,-22.925464630126953,-0.7108421921730042,-23.519681930541992,5.92018985748291,2.2520577907562256,-3.46686053276062,-3.46686053276062,-24.259681701660156,37.51581954956055,-1.3211385011672974,-61.961578369140625,-2.3522791862487793,33.20339584350586,29.41958236694336,-31.0661678314209,0.3161866366863251,-0.7108421921730042,-8.464166641235352,-0.7108421921730042,-54.05315399169922,-0.848301112651825,-0.008275946602225304,-19.32524871826172,-29.08099365234375,-3.677151918411255,-13.635392189025879,-8.752396583557129,-40.99338912963867,32.8416633605957,93.79014587402344,-20.953306198120117,8.837020874023438,3.031263589859009,5.837698936462402,-3.9152958393096924,55.55553436279297,-19.004165649414062,-22.241365432739258,1.497238039970398,-6.19569730758667,-19.719886779785156,-12.502008438110352,0.5044384002685547,21.212732315063477,-9.441204071044922,-1.2778538465499878,3.3626699447631836,10.648324966430664,-17.07316780090332,3.5141706466674805,-15.583624839782715,-26.239309310913086,-28.643564224243164,12.339119911193848,6.734469890594482,5.716513633728027,41.971839904785156,46.24348449707031,53.87263870239258,53.438499450683594,45.328670501708984,5.149988174438477,14.22948932647705,3.865861415863037,-6.339730262756348,-62.480594635009766,-7.345414161682129,-47.86574172973633,0.8995054960250854,49.378170013427734,10.102533340454102,42.05628967285156,13.035663604736328,-46.13948440551758,34.24995803833008,8.39737606048584,4.304045677185059,19.781795501708984,16.00404930114746,36.199039459228516,-5.1026692390441895,-1.5406447649002075,-80.38240051269531,-0.6596726775169373,-52.64702224731445,-35.92105484008789,47.7990837097168,32.917205810546875,19.516395568847656,15.416362762451172,72.23780822753906,20.756572723388672,-32.136756896972656,0.6562508940696716,-3.829869508743286,-30.67719841003418,-13.872511863708496,47.81497573852539,3.996473550796509,24.961166381835938,30.959897994995117,29.592313766479492,3.3800714015960693,-17.891897201538086,-61.961578369140625,11.674651145935059,-35.89896011352539,40.64148712158203,21.753604888916016,-12.487380027770996,-10.728737831115723,-2.613128423690796,17.081127166748047,-27.233562469482422,-36.19168472290039,-29.81171989440918,-59.78662872314453,-10.99072265625,48.81842041015625,31.28986358642578,15.009946823120117,3.5617613792419434,10.811347961425781,-32.83781433105469,14.885848999023438,16.064844131469727,-43.36844253540039,19.207887649536133,-36.03340530395508,-3.5355043411254883,19.077425003051758,31.208444595336914,-34.2775764465332,-13.801648139953613,14.627243041992188,24.67818260192871,0.9142230749130249,-49.5167121887207,15.862939834594727,1.939653992652893,8.798164367675781,21.438703536987305,23.093029022216797,-6.346305847167969,1.5986278057098389,-64.19005584716797,-33.231197357177734,-4.108524799346924,-19.29443359375,71.94583129882812,-9.874650955200195,-49.4495849609375,-11.055154800415039,17.84231948852539,3.0256145000457764,-15.170087814331055,46.662681579589844,-9.966196060180664,-2.672443389892578,13.985109329223633,49.34053039550781,17.315715789794922,6.8055901527404785,-4.622652053833008,-28.643564224243164,-39.611427307128906,-0.049385275691747665,-21.60250473022461,-33.280521392822266,-24.006053924560547,42.0842399597168,-21.850465774536133,-8.517667770385742,-2.98172926902771,13.413765907287598,-32.77431869506836,-45.06970977783203,-74.07551574707031,4.917710304260254,17.123414993286133,35.943790435791016,55.112857818603516,-42.110504150390625,-10.201991081237793,5.93147087097168,-63.91008758544922,-9.71183967590332,-0.25486165285110474,12.288348197937012,8.119251251220703,-4.859339714050293,26.411041259765625,21.777746200561523,15.857194900512695,-1.0555928945541382,15.292352676391602,24.961166381835938,-9.590496063232422,10.138392448425293,8.39080810546875,-13.993513107299805,11.966487884521484,-5.026938438415527,12.662369728088379,-9.139217376708984,-1.0888574123382568,25.117172241210938,51.6224479675293,1.6683764457702637,0.0911489725112915,-47.15913391113281,-41.179447174072266,22.35784912109375,11.711153984069824,-2.7906999588012695,8.596817016601562,-12.800108909606934,-6.771917343139648,-51.715728759765625,-54.95436477661133,26.638050079345703,1.6622495651245117,-53.805992126464844,-27.21262550354004,7.467975616455078,-8.892060279846191,-17.635072708129883,6.788424015045166,10.162895202636719,-2.355414867401123,-21.45686149597168,-20.117752075195312,23.13520622253418,40.64148712158203,4.101842403411865,-5.5661091804504395,20.565671920776367,-13.247217178344727,30.653322219848633,32.765411376953125,42.911338806152344,-9.595573425292969,27.9741268157959,13.634637832641602,13.462841033935547,6.707173824310303,6.177518367767334,5.9327592849731445,-2.657090425491333,6.047898292541504,13.430684089660645,-0.7566758394241333,-46.370567321777344,9.429125785827637,10.126317977905273,-52.392974853515625,31.390369415283203,-2.164456605911255,21.01229476928711,-3.960117816925049,15.144579887390137,41.43056106567383,-62.084224700927734,53.85287857055664,-12.300670623779297,-19.238615036010742,-44.533355712890625,-28.509151458740234,-47.15913391113281,3.7119903564453125,49.00517272949219,-29.81171989440918,11.551416397094727,49.35958480834961,-80.09280395507812,-29.316665649414062,15.618635177612305,55.112857818603516,-26.22633934020996,34.41764450073242,2.8480536937713623,42.29362869262695,18.051008224487305,-12.44826602935791,-44.24296188354492,-54.3851432800293,-22.1925106048584,-5.126890182495117,-15.498873710632324,-25.694503784179688,-32.10138702392578,-23.580848693847656,23.342947006225586,51.191864013671875,-46.92998504638672,43.392066955566406,-17.799562454223633,38.5394172668457,-19.320114135742188,20.29212760925293,-6.700931072235107,-52.64702224731445,-62.480594635009766,-7.537833213806152,18.547775268554688,44.81111145019531,-9.394219398498535,-3.00834321975708,45.536842346191406,-17.3463077545166,-7.385712146759033,-18.037601470947266,19.805519104003906,-34.3382453918457,-60.887901306152344,9.071475982666016,24.726829528808594,-9.941875457763672,-26.239309310913086,-3.4772756099700928,34.24995803833008,-17.1962833404541,51.474205017089844,-35.88595962524414,-39.249820709228516,-6.87012243270874,-11.11086654663086,-9.787199020385742,-1.213615894317627,52.039459228515625,-0.15295223891735077,-14.831137657165527,-9.943711280822754,-15.266365051269531,7.395197868347168,-11.659590721130371,18.875125885009766,-7.2377495765686035,-8.95766830444336,3.536478042602539,-23.717679977416992,-60.580135345458984,-35.77431869506836,-12.566102981567383,-16.05253791809082,3.5985569953918457,-51.15644454956055,37.42900085449219,-82.64442443847656,6.669750213623047,39.76797866821289,44.86772918701172,46.0270881652832,-8.210489273071289,2.20395827293396,-9.041245460510254,17.81781768798828,35.41919708251953,47.89161682128906,19.365434646606445,-7.254491806030273,43.08711624145508,-1.9295880794525146,16.79644012451172,-30.404539108276367],\"yaxis\":\"y\",\"type\":\"scatter\"}],                        {\"template\":{\"data\":{\"histogram2dcontour\":[{\"type\":\"histogram2dcontour\",\"colorbar\":{\"outlinewidth\":0,\"ticks\":\"\"},\"colorscale\":[[0.0,\"#0d0887\"],[0.1111111111111111,\"#46039f\"],[0.2222222222222222,\"#7201a8\"],[0.3333333333333333,\"#9c179e\"],[0.4444444444444444,\"#bd3786\"],[0.5555555555555556,\"#d8576b\"],[0.6666666666666666,\"#ed7953\"],[0.7777777777777778,\"#fb9f3a\"],[0.8888888888888888,\"#fdca26\"],[1.0,\"#f0f921\"]]}],\"choropleth\":[{\"type\":\"choropleth\",\"colorbar\":{\"outlinewidth\":0,\"ticks\":\"\"}}],\"histogram2d\":[{\"type\":\"histogram2d\",\"colorbar\":{\"outlinewidth\":0,\"ticks\":\"\"},\"colorscale\":[[0.0,\"#0d0887\"],[0.1111111111111111,\"#46039f\"],[0.2222222222222222,\"#7201a8\"],[0.3333333333333333,\"#9c179e\"],[0.4444444444444444,\"#bd3786\"],[0.5555555555555556,\"#d8576b\"],[0.6666666666666666,\"#ed7953\"],[0.7777777777777778,\"#fb9f3a\"],[0.8888888888888888,\"#fdca26\"],[1.0,\"#f0f921\"]]}],\"heatmap\":[{\"type\":\"heatmap\",\"colorbar\":{\"outlinewidth\":0,\"ticks\":\"\"},\"colorscale\":[[0.0,\"#0d0887\"],[0.1111111111111111,\"#46039f\"],[0.2222222222222222,\"#7201a8\"],[0.3333333333333333,\"#9c179e\"],[0.4444444444444444,\"#bd3786\"],[0.5555555555555556,\"#d8576b\"],[0.6666666666666666,\"#ed7953\"],[0.7777777777777778,\"#fb9f3a\"],[0.8888888888888888,\"#fdca26\"],[1.0,\"#f0f921\"]]}],\"heatmapgl\":[{\"type\":\"heatmapgl\",\"colorbar\":{\"outlinewidth\":0,\"ticks\":\"\"},\"colorscale\":[[0.0,\"#0d0887\"],[0.1111111111111111,\"#46039f\"],[0.2222222222222222,\"#7201a8\"],[0.3333333333333333,\"#9c179e\"],[0.4444444444444444,\"#bd3786\"],[0.5555555555555556,\"#d8576b\"],[0.6666666666666666,\"#ed7953\"],[0.7777777777777778,\"#fb9f3a\"],[0.8888888888888888,\"#fdca26\"],[1.0,\"#f0f921\"]]}],\"contourcarpet\":[{\"type\":\"contourcarpet\",\"colorbar\":{\"outlinewidth\":0,\"ticks\":\"\"}}],\"contour\":[{\"type\":\"contour\",\"colorbar\":{\"outlinewidth\":0,\"ticks\":\"\"},\"colorscale\":[[0.0,\"#0d0887\"],[0.1111111111111111,\"#46039f\"],[0.2222222222222222,\"#7201a8\"],[0.3333333333333333,\"#9c179e\"],[0.4444444444444444,\"#bd3786\"],[0.5555555555555556,\"#d8576b\"],[0.6666666666666666,\"#ed7953\"],[0.7777777777777778,\"#fb9f3a\"],[0.8888888888888888,\"#fdca26\"],[1.0,\"#f0f921\"]]}],\"surface\":[{\"type\":\"surface\",\"colorbar\":{\"outlinewidth\":0,\"ticks\":\"\"},\"colorscale\":[[0.0,\"#0d0887\"],[0.1111111111111111,\"#46039f\"],[0.2222222222222222,\"#7201a8\"],[0.3333333333333333,\"#9c179e\"],[0.4444444444444444,\"#bd3786\"],[0.5555555555555556,\"#d8576b\"],[0.6666666666666666,\"#ed7953\"],[0.7777777777777778,\"#fb9f3a\"],[0.8888888888888888,\"#fdca26\"],[1.0,\"#f0f921\"]]}],\"mesh3d\":[{\"type\":\"mesh3d\",\"colorbar\":{\"outlinewidth\":0,\"ticks\":\"\"}}],\"scatter\":[{\"fillpattern\":{\"fillmode\":\"overlay\",\"size\":10,\"solidity\":0.2},\"type\":\"scatter\"}],\"parcoords\":[{\"type\":\"parcoords\",\"line\":{\"colorbar\":{\"outlinewidth\":0,\"ticks\":\"\"}}}],\"scatterpolargl\":[{\"type\":\"scatterpolargl\",\"marker\":{\"colorbar\":{\"outlinewidth\":0,\"ticks\":\"\"}}}],\"bar\":[{\"error_x\":{\"color\":\"#2a3f5f\"},\"error_y\":{\"color\":\"#2a3f5f\"},\"marker\":{\"line\":{\"color\":\"#E5ECF6\",\"width\":0.5},\"pattern\":{\"fillmode\":\"overlay\",\"size\":10,\"solidity\":0.2}},\"type\":\"bar\"}],\"scattergeo\":[{\"type\":\"scattergeo\",\"marker\":{\"colorbar\":{\"outlinewidth\":0,\"ticks\":\"\"}}}],\"scatterpolar\":[{\"type\":\"scatterpolar\",\"marker\":{\"colorbar\":{\"outlinewidth\":0,\"ticks\":\"\"}}}],\"histogram\":[{\"marker\":{\"pattern\":{\"fillmode\":\"overlay\",\"size\":10,\"solidity\":0.2}},\"type\":\"histogram\"}],\"scattergl\":[{\"type\":\"scattergl\",\"marker\":{\"colorbar\":{\"outlinewidth\":0,\"ticks\":\"\"}}}],\"scatter3d\":[{\"type\":\"scatter3d\",\"line\":{\"colorbar\":{\"outlinewidth\":0,\"ticks\":\"\"}},\"marker\":{\"colorbar\":{\"outlinewidth\":0,\"ticks\":\"\"}}}],\"scattermapbox\":[{\"type\":\"scattermapbox\",\"marker\":{\"colorbar\":{\"outlinewidth\":0,\"ticks\":\"\"}}}],\"scatterternary\":[{\"type\":\"scatterternary\",\"marker\":{\"colorbar\":{\"outlinewidth\":0,\"ticks\":\"\"}}}],\"scattercarpet\":[{\"type\":\"scattercarpet\",\"marker\":{\"colorbar\":{\"outlinewidth\":0,\"ticks\":\"\"}}}],\"carpet\":[{\"aaxis\":{\"endlinecolor\":\"#2a3f5f\",\"gridcolor\":\"white\",\"linecolor\":\"white\",\"minorgridcolor\":\"white\",\"startlinecolor\":\"#2a3f5f\"},\"baxis\":{\"endlinecolor\":\"#2a3f5f\",\"gridcolor\":\"white\",\"linecolor\":\"white\",\"minorgridcolor\":\"white\",\"startlinecolor\":\"#2a3f5f\"},\"type\":\"carpet\"}],\"table\":[{\"cells\":{\"fill\":{\"color\":\"#EBF0F8\"},\"line\":{\"color\":\"white\"}},\"header\":{\"fill\":{\"color\":\"#C8D4E3\"},\"line\":{\"color\":\"white\"}},\"type\":\"table\"}],\"barpolar\":[{\"marker\":{\"line\":{\"color\":\"#E5ECF6\",\"width\":0.5},\"pattern\":{\"fillmode\":\"overlay\",\"size\":10,\"solidity\":0.2}},\"type\":\"barpolar\"}],\"pie\":[{\"automargin\":true,\"type\":\"pie\"}]},\"layout\":{\"autotypenumbers\":\"strict\",\"colorway\":[\"#636efa\",\"#EF553B\",\"#00cc96\",\"#ab63fa\",\"#FFA15A\",\"#19d3f3\",\"#FF6692\",\"#B6E880\",\"#FF97FF\",\"#FECB52\"],\"font\":{\"color\":\"#2a3f5f\"},\"hovermode\":\"closest\",\"hoverlabel\":{\"align\":\"left\"},\"paper_bgcolor\":\"white\",\"plot_bgcolor\":\"#E5ECF6\",\"polar\":{\"bgcolor\":\"#E5ECF6\",\"angularaxis\":{\"gridcolor\":\"white\",\"linecolor\":\"white\",\"ticks\":\"\"},\"radialaxis\":{\"gridcolor\":\"white\",\"linecolor\":\"white\",\"ticks\":\"\"}},\"ternary\":{\"bgcolor\":\"#E5ECF6\",\"aaxis\":{\"gridcolor\":\"white\",\"linecolor\":\"white\",\"ticks\":\"\"},\"baxis\":{\"gridcolor\":\"white\",\"linecolor\":\"white\",\"ticks\":\"\"},\"caxis\":{\"gridcolor\":\"white\",\"linecolor\":\"white\",\"ticks\":\"\"}},\"coloraxis\":{\"colorbar\":{\"outlinewidth\":0,\"ticks\":\"\"}},\"colorscale\":{\"sequential\":[[0.0,\"#0d0887\"],[0.1111111111111111,\"#46039f\"],[0.2222222222222222,\"#7201a8\"],[0.3333333333333333,\"#9c179e\"],[0.4444444444444444,\"#bd3786\"],[0.5555555555555556,\"#d8576b\"],[0.6666666666666666,\"#ed7953\"],[0.7777777777777778,\"#fb9f3a\"],[0.8888888888888888,\"#fdca26\"],[1.0,\"#f0f921\"]],\"sequentialminus\":[[0.0,\"#0d0887\"],[0.1111111111111111,\"#46039f\"],[0.2222222222222222,\"#7201a8\"],[0.3333333333333333,\"#9c179e\"],[0.4444444444444444,\"#bd3786\"],[0.5555555555555556,\"#d8576b\"],[0.6666666666666666,\"#ed7953\"],[0.7777777777777778,\"#fb9f3a\"],[0.8888888888888888,\"#fdca26\"],[1.0,\"#f0f921\"]],\"diverging\":[[0,\"#8e0152\"],[0.1,\"#c51b7d\"],[0.2,\"#de77ae\"],[0.3,\"#f1b6da\"],[0.4,\"#fde0ef\"],[0.5,\"#f7f7f7\"],[0.6,\"#e6f5d0\"],[0.7,\"#b8e186\"],[0.8,\"#7fbc41\"],[0.9,\"#4d9221\"],[1,\"#276419\"]]},\"xaxis\":{\"gridcolor\":\"white\",\"linecolor\":\"white\",\"ticks\":\"\",\"title\":{\"standoff\":15},\"zerolinecolor\":\"white\",\"automargin\":true,\"zerolinewidth\":2},\"yaxis\":{\"gridcolor\":\"white\",\"linecolor\":\"white\",\"ticks\":\"\",\"title\":{\"standoff\":15},\"zerolinecolor\":\"white\",\"automargin\":true,\"zerolinewidth\":2},\"scene\":{\"xaxis\":{\"backgroundcolor\":\"#E5ECF6\",\"gridcolor\":\"white\",\"linecolor\":\"white\",\"showbackground\":true,\"ticks\":\"\",\"zerolinecolor\":\"white\",\"gridwidth\":2},\"yaxis\":{\"backgroundcolor\":\"#E5ECF6\",\"gridcolor\":\"white\",\"linecolor\":\"white\",\"showbackground\":true,\"ticks\":\"\",\"zerolinecolor\":\"white\",\"gridwidth\":2},\"zaxis\":{\"backgroundcolor\":\"#E5ECF6\",\"gridcolor\":\"white\",\"linecolor\":\"white\",\"showbackground\":true,\"ticks\":\"\",\"zerolinecolor\":\"white\",\"gridwidth\":2}},\"shapedefaults\":{\"line\":{\"color\":\"#2a3f5f\"}},\"annotationdefaults\":{\"arrowcolor\":\"#2a3f5f\",\"arrowhead\":0,\"arrowwidth\":1},\"geo\":{\"bgcolor\":\"white\",\"landcolor\":\"#E5ECF6\",\"subunitcolor\":\"white\",\"showland\":true,\"showlakes\":true,\"lakecolor\":\"white\"},\"title\":{\"x\":0.05},\"mapbox\":{\"style\":\"light\"}}},\"xaxis\":{\"anchor\":\"y\",\"domain\":[0.0,1.0],\"title\":{\"text\":\"x\"}},\"yaxis\":{\"anchor\":\"x\",\"domain\":[0.0,1.0],\"title\":{\"text\":\"y\"}},\"coloraxis\":{\"colorbar\":{\"title\":{\"text\":\"label\"}},\"colorscale\":[[0.0,\"#0d0887\"],[0.1111111111111111,\"#46039f\"],[0.2222222222222222,\"#7201a8\"],[0.3333333333333333,\"#9c179e\"],[0.4444444444444444,\"#bd3786\"],[0.5555555555555556,\"#d8576b\"],[0.6666666666666666,\"#ed7953\"],[0.7777777777777778,\"#fb9f3a\"],[0.8888888888888888,\"#fdca26\"],[1.0,\"#f0f921\"]]},\"legend\":{\"tracegroupgap\":0},\"title\":{\"text\":\"TSNE dla word2vec dla s\\u0142\\u00f3w\"}},                        {\"responsive\": true}                    ).then(function(){\n",
       "                            \n",
       "var gd = document.getElementById('77f8ef20-7360-49f1-b2c2-c37bd125c40e');\n",
       "var x = new MutationObserver(function (mutations, observer) {{\n",
       "        var display = window.getComputedStyle(gd).display;\n",
       "        if (!display || display === 'none') {{\n",
       "            console.log([gd, 'removed!']);\n",
       "            Plotly.purge(gd);\n",
       "            observer.disconnect();\n",
       "        }}\n",
       "}});\n",
       "\n",
       "// Listen for the removal of the full notebook cells\n",
       "var notebookContainer = gd.closest('#notebook-container');\n",
       "if (notebookContainer) {{\n",
       "    x.observe(notebookContainer, {childList: true});\n",
       "}}\n",
       "\n",
       "// Listen for the clearing of the current output cell\n",
       "var outputEl = gd.closest('.output');\n",
       "if (outputEl) {{\n",
       "    x.observe(outputEl, {childList: true});\n",
       "}}\n",
       "\n",
       "                        })                };                });            </script>        </div>"
      ]
     },
     "metadata": {},
     "output_type": "display_data"
    }
   ],
   "source": [
    "X = np.array(list(df_for_analysis['embedding']))\n",
    "\n",
    "scaler = StandardScaler()\n",
    "X_standardized = scaler.fit_transform(X)\n",
    "\n",
    "\n",
    "X_embedded = TSNE(n_components=2, random_state=42).fit_transform(X_standardized)\n",
    "\n",
    "df_tsne = pd.DataFrame(X_embedded, columns=['x', 'y'])\n",
    "df_tsne['label'] = df_for_analysis['labels']\n",
    "df_tsne['text'] = df_for_analysis['nouns']\n",
    "\n",
    "fig = px.scatter(df_tsne, x='x', y='y', color='label', hover_data=['text'], title='TSNE dla word2vec dla słów')\n",
    "fig.show()"
   ]
  },
  {
   "cell_type": "code",
   "execution_count": 71,
   "id": "d25d5d3b-e37f-444d-bd4e-3e672b774b95",
   "metadata": {},
   "outputs": [
    {
     "data": {
      "application/vnd.plotly.v1+json": {
       "config": {
        "plotlyServerURL": "https://plot.ly"
       },
       "data": [
        {
         "customdata": [
          [
           "LUDZIE"
          ],
          [
           "RESTAURACJA"
          ],
          [
           "pomoc"
          ],
          [
           "świat"
          ],
          [
           "kurtkę"
          ],
          [
           "milionów"
          ],
          [
           "konkretach"
          ],
          [
           "zmianę"
          ],
          [
           "ławce"
          ],
          [
           "gnojki"
          ],
          [
           "znaki"
          ],
          [
           "zapytania"
          ],
          [
           "końcu"
          ],
          [
           "wyroki"
          ],
          [
           "Sądu"
          ],
          [
           "razy"
          ],
          [
           "porównania"
          ],
          [
           "Patryk"
          ],
          [
           "wybory"
          ],
          [
           "prezydenta"
          ],
          [
           "statystyki"
          ],
          [
           "bramke"
          ],
          [
           "razu"
          ],
          [
           "ojczyźnie"
          ],
          [
           "taksówki"
          ],
          [
           "szacunek"
          ],
          [
           "oparciu"
          ],
          [
           "opinię"
          ],
          [
           "opinią"
          ],
          [
           "prezesem"
          ],
          [
           "klubu"
          ],
          [
           "przewodniczącym"
          ],
          [
           "wydziału"
          ],
          [
           "futsalu"
          ],
          [
           "limit"
          ],
          [
           "obcokrajowców"
          ],
          [
           "podstawy"
          ],
          [
           "pary"
          ],
          [
           "pedofilia"
          ],
          [
           "zboczenie"
          ],
          [
           "homoseksualizm"
          ],
          [
           "razie"
          ],
          [
           "rade"
          ],
          [
           "rekord"
          ],
          [
           "wychowanki"
          ],
          [
           "pewnością"
          ],
          [
           "sektorom"
          ],
          [
           "\\\"eksperci\\"
          ],
          [
           "rzeczy"
          ],
          [
           "gumę"
          ],
          [
           "maja"
          ],
          [
           "wsparcie"
          ],
          [
           "Pani"
          ],
          [
           "parcie"
          ],
          [
           "szklo"
          ],
          [
           "efekt"
          ],
          [
           "obcasy"
          ],
          [
           "trza"
          ],
          [
           "mecze"
          ],
          [
           "druzyn"
          ],
          [
           "meczów"
          ],
          [
           "raz"
          ],
          [
           "żołnierki"
          ],
          [
           "kwiaty"
          ],
          [
           "bach"
          ],
          [
           "kognitywistykę"
          ],
          [
           "komunikacji"
          ],
          [
           "wrażenia"
          ],
          [
           "stopień"
          ],
          [
           "urlopie"
          ],
          [
           "państwo"
          ],
          [
           "propagandę"
          ],
          [
           "karpie"
          ],
          [
           "słów"
          ],
          [
           "temat"
          ],
          [
           "jeziora"
          ],
          [
           "Modric"
          ],
          [
           "Rakitic"
          ],
          [
           "momentach"
          ],
          [
           "oryginał"
          ],
          [
           "Wyzwanie"
          ],
          [
           "Syn"
          ],
          [
           "mega"
          ],
          [
           "słodziakiem"
          ],
          [
           "klasie"
          ],
          [
           "podstawówki"
          ],
          [
           "ryzyko"
          ],
          [
           "kupon"
          ],
          [
           "chorób"
          ],
          [
           "stanu"
          ],
          [
           "statystyk"
          ],
          [
           "występu"
          ],
          [
           "realista"
          ],
          [
           "wyjątkiem"
          ],
          [
           "siły"
          ],
          [
           "kolejkę"
          ],
          [
           "przekładzie"
          ],
          [
           "trenerem"
          ],
          [
           "Dziadek"
          ],
          [
           "żonie"
          ],
          [
           "mieszkanie"
          ],
          [
           "patologia"
          ],
          [
           "statystykach"
          ],
          [
           "umiejętnościach"
          ],
          [
           "sufit"
          ],
          [
           "Remis"
          ],
          [
           "lvbet"
          ],
          [
           "remis"
          ],
          [
           "torbą"
          ],
          [
           "serce"
          ],
          [
           "wódeczka"
          ],
          [
           "życia"
          ],
          [
           "poczcie"
          ],
          [
           "kredą"
          ],
          [
           "asfalcie"
          ],
          [
           "znak"
          ],
          [
           "solidarności"
          ],
          [
           "ofiarą"
          ],
          [
           "osoby"
          ],
          [
           "lgbt"
          ],
          [
           "ogóle"
          ],
          [
           "komunikacji"
          ],
          [
           "wiec"
          ],
          [
           "pasażerami"
          ],
          [
           "parodia"
          ],
          [
           "liczbe"
          ],
          [
           "występów"
          ],
          [
           "moze"
          ],
          [
           "drzewem"
          ],
          [
           "ogrodzie"
          ],
          [
           "lisie"
          ],
          [
           "dodatku"
          ],
          [
           "sztućcami"
          ],
          [
           "grzech"
          ],
          [
           "świecie"
          ],
          [
           "Raz"
          ],
          [
           "piwo"
          ],
          [
           "sensem"
          ],
          [
           "przeciwieństwo"
          ],
          [
           "autem"
          ],
          [
           "drodze"
          ],
          [
           "wizje"
          ],
          [
           "zmiany"
          ],
          [
           "minucie"
          ],
          [
           "pochwal"
          ],
          [
           "ehh"
          ],
          [
           "remis"
          ],
          [
           "meczu"
          ],
          [
           "obraz"
          ],
          [
           "wieczorem"
          ],
          [
           "razie"
          ],
          [
           "serial"
          ],
          [
           "Papadopoulosa"
          ],
          [
           "sektor"
          ],
          [
           "chodzenie"
          ],
          [
           "mecz"
          ],
          [
           "kolejki"
          ],
          [
           "bilet"
          ],
          [
           "wagonów"
          ],
          [
           "powodzenia"
          ],
          [
           "końca"
          ],
          [
           "kraju"
          ],
          [
           "pisdzielstwo"
          ],
          [
           "delegalizacja"
          ],
          [
           "ramach"
          ],
          [
           "przywracania"
          ],
          [
           "skromności"
          ],
          [
           "Prezes"
          ],
          [
           "nazwę"
          ],
          [
           "spółki"
          ],
          [
           "lud"
          ],
          [
           "myśli"
          ],
          [
           "trenerzy"
          ],
          [
           "tymczasowi"
          ],
          [
           "statystyka"
          ],
          [
           "gazu"
          ],
          [
           "powtarzania"
          ],
          [
           "opinii"
          ],
          [
           "tarczycy"
          ],
          [
           "człowiek"
          ],
          [
           "maratonie"
          ],
          [
           "radnia"
          ],
          [
           "otworami"
          ],
          [
           "pikuś"
          ],
          [
           "mecz"
          ],
          [
           "mistrzostwo"
          ],
          [
           "sekundy"
          ],
          [
           "końca"
          ],
          [
           "kasy"
          ],
          [
           "gry"
          ],
          [
           "lidze"
          ],
          [
           "przeciwnikiem"
          ],
          [
           "wydaniu"
          ],
          [
           "lidze"
          ],
          [
           "post"
          ],
          [
           "Ej"
          ],
          [
           "czwartki"
          ],
          [
           "social"
          ],
          [
           "media"
          ],
          [
           "walenia"
          ],
          [
           "tony"
          ],
          [
           "jezyk"
          ],
          [
           "walenia"
          ],
          [
           "pisdzielstwo"
          ],
          [
           "rację"
          ],
          [
           "dłoni"
          ],
          [
           "homopisuarowiec"
          ],
          [
           "atrapa"
          ],
          [
           "dykty"
          ],
          [
           "całości"
          ],
          [
           "wypadku"
          ],
          [
           "transplantacja"
          ],
          [
           "głowy"
          ],
          [
           "lifting"
          ],
          [
           "gęby"
          ],
          [
           "wszczepienie"
          ],
          [
           "mózgu"
          ],
          [
           "łbach"
          ],
          [
           "razu"
          ],
          [
           "wymioty"
          ],
          [
           "tragedia"
          ],
          [
           "Pana"
          ],
          [
           "zdanie"
          ],
          [
           "Pan"
          ],
          [
           "język"
          ],
          [
           "strzelaniny"
          ],
          [
           "zwroty"
          ],
          [
           "akcji"
          ],
          [
           "kwestia"
          ],
          [
           "nieznajomości"
          ],
          [
           "slajdów"
          ],
          [
           "prezesa"
          ],
          [
           "front"
          ],
          [
           "kasy"
          ],
          [
           "malopolan"
          ],
          [
           "końcu"
          ],
          [
           "reprezentacje"
          ],
          [
           "Niejaki"
          ],
          [
           "standardy"
          ],
          [
           "dziennikarstwa"
          ],
          [
           "gówno"
          ],
          [
           "dzień"
          ],
          [
           "dzień"
          ],
          [
           "rady"
          ],
          [
           "wartość"
          ],
          [
           "krytyki"
          ],
          [
           "poseł"
          ],
          [
           "Naprawdè"
          ],
          [
           "tępy"
          ],
          [
           "idiotę"
          ],
          [
           "konta"
          ],
          [
           "fav"
          ],
          [
           "tweeta"
          ],
          [
           "sezon"
          ],
          [
           "\\n\\ndziunia"
          ],
          [
           "klasie"
          ],
          [
           "ZDROWIE"
          ],
          [
           "facet"
          ],
          [
           "mózgiem"
          ],
          [
           "jenota"
          ],
          [
           "dzien"
          ],
          [
           "jeszze"
          ],
          [
           "prezentacji"
          ],
          [
           "pucharach"
          ],
          [
           "mendo"
          ],
          [
           "pisowska"
          ],
          [
           "środowisko"
          ],
          [
           "cykl"
          ],
          [
           "fotoszopa"
          ],
          [
           "tramwaj"
          ],
          [
           "chodkiewicza"
          ],
          [
           "znajomi"
          ],
          [
           "ziemie"
          ],
          [
           "agentem"
          ],
          [
           "obiektywizmu"
          ],
          [
           "Pani"
          ],
          [
           "odszkodowania"
          ],
          [
           "nominat"
          ],
          [
           "Poziom"
          ],
          [
           "prymitywizmu"
          ],
          [
           "łomocie"
          ],
          [
           "miastach"
          ],
          [
           "Polaków\\"
          ],
          [
           "monitorka"
          ],
          [
           "kartka"
          ],
          [
           "wątpliwości"
          ],
          [
           "wydaniu"
          ],
          [
           "polu"
          ],
          [
           "razie"
          ],
          [
           "przekaz"
          ],
          [
           "\\\"ulica"
          ],
          [
           "zagranica\\"
          ],
          [
           "dyscyplina"
          ],
          [
           "warunkiem"
          ],
          [
           "sportowcy"
          ],
          [
           "ludzie"
          ],
          [
           "wpływem"
          ],
          [
           "alkoholu"
          ],
          [
           "lawirowaniu"
          ],
          [
           "Wypozyczeni"
          ],
          [
           "Stal"
          ],
          [
           "minuty"
          ],
          [
           "Czasu"
          ],
          [
           "wykonawców"
          ],
          [
           "pozycjach"
          ],
          [
           "panowie"
          ],
          [
           "kabaret"
          ],
          [
           "mina"
          ],
          [
           "styl"
          ],
          [
           "życia"
          ],
          [
           "nogi"
          ],
          [
           "azbest"
          ],
          [
           "mózg"
          ],
          [
           "deszcz"
          ],
          [
           "grozy"
          ],
          [
           "karku"
          ],
          [
           "Minister"
          ],
          [
           "przemówienie"
          ],
          [
           "Wrona"
          ],
          [
           "Tata"
          ],
          [
           "ludzi"
          ],
          [
           "szkoły"
          ],
          [
           "pani"
          ],
          [
           "chuju"
          ],
          [
           "komuchami"
          ],
          [
           "aspekt"
          ],
          [
           "zakończenia"
          ],
          [
           "dnia"
          ],
          [
           "babci"
          ],
          [
           "REKLAMĘ"
          ],
          [
           "\\\"Bardzo"
          ],
          [
           "dziadków"
          ],
          [
           "sercu"
          ],
          [
           "dziewczyna"
          ],
          [
           "Krzyże"
          ],
          [
           "czasu"
          ],
          [
           "kurwa"
          ],
          [
           "wolność"
          ],
          [
           "maskara"
          ],
          [
           "państwem"
          ],
          [
           "poseł"
          ],
          [
           "film"
          ],
          [
           "liceum"
          ],
          [
           "raz"
          ],
          [
           "podstawie"
          ],
          [
           "kamerą"
          ],
          [
           "pistoletem"
          ],
          [
           "słowa"
          ],
          [
           "skrzydło"
          ],
          [
           "strony"
          ],
          [
           "formie"
          ],
          [
           "świata"
          ],
          [
           "metrów"
          ],
          [
           "konfesjonałów"
          ],
          [
           "sprawa"
          ],
          [
           "prostak"
          ],
          [
           "śmierci"
          ],
          [
           "sprawach"
          ],
          [
           "oświetlenia"
          ],
          [
           "córki"
          ],
          [
           "okna"
          ],
          [
           "kamieniami"
          ],
          [
           "polityk"
          ],
          [
           "sędzinę"
          ],
          [
           "gry"
          ],
          [
           "genach"
          ],
          [
           "wiatr"
          ],
          [
           "głowy"
          ],
          [
           "Patryk"
          ],
          [
           "wybory"
          ],
          [
           "oczyści"
          ],
          [
           "stolicę"
          ],
          [
           "UBECKICH"
          ],
          [
           "funkcjonariuszy"
          ],
          [
           "powietrze"
          ],
          [
           "tarczy"
          ],
          [
           "obiekt"
          ],
          [
           "teledysku"
          ],
          [
           "4funtv"
          ],
          [
           "ogóle"
          ],
          [
           "jaj"
          ],
          [
           "lata"
          ],
          [
           "pracy"
          ],
          [
           "Sztuki"
          ],
          [
           "Walki"
          ],
          [
           "siłownia"
          ],
          [
           "zdjęciu"
          ],
          [
           "kibiców"
          ],
          [
           "wpisy"
          ],
          [
           "człowiekowi"
          ],
          [
           "znaczenia"
          ],
          [
           "ceny"
          ],
          [
           "moda"
          ],
          [
           "filmiki"
          ],
          [
           "Twitterze"
          ],
          [
           "pijta"
          ],
          [
           "apteka"
          ],
          [
           "dno"
          ],
          [
           "skupmy"
          ],
          [
           "Prezes"
          ],
          [
           "razie"
          ],
          [
           "finału"
          ],
          [
           "finał"
          ],
          [
           "przysmaki"
          ],
          [
           "ramach"
          ],
          [
           "przekupstwa"
          ],
          [
           "narracja"
          ],
          [
           "obozu"
          ],
          [
           "zmiany\\"
          ],
          [
           "Uszczelnienie"
          ],
          [
           "kapitanie"
          ],
          [
           "futsal"
          ],
          [
           "ekstraklasy"
          ],
          [
           "rusi"
          ],
          [
           "rzeszy"
          ],
          [
           "kaczuszkę"
          ],
          [
           "niedziele"
          ],
          [
           "kibice"
          ],
          [
           "zero"
          ],
          [
           "reklamy"
          ],
          [
           "konpromitacją"
          ],
          [
           "historii"
          ],
          [
           "Pana"
          ],
          [
           "udział"
          ],
          [
           "obalaniu"
          ],
          [
           "Premiera"
          ],
          [
           "#"
          ],
          [
           "jeju"
          ],
          [
           "ulgę"
          ],
          [
           "szok"
          ],
          [
           "czas"
          ],
          [
           "drzemkę"
          ],
          [
           "czasu"
          ],
          [
           "internecie"
          ],
          [
           "powtórkę"
          ],
          [
           "utrzymaliście"
          ],
          [
           "stoliku"
          ],
          [
           "miejsca"
          ],
          [
           "Pies"
          ],
          [
           "czasem"
          ],
          [
           "książki"
          ],
          [
           "chłopczyk"
          ],
          [
           "problemami"
          ],
          [
           "politycy"
          ],
          [
           "Ja"
          ],
          [
           "dm"
          ],
          [
           "ligi"
          ],
          [
           "dwumeczu"
          ],
          [
           "dziewczynami"
          ],
          [
           "życie"
          ],
          [
           "liście"
          ],
          [
           "kleić"
          ],
          [
           "przekładzie"
          ],
          [
           "Lisek"
          ],
          [
           "tysięcy"
          ],
          [
           "egzemplarzy"
          ],
          [
           "statystyk"
          ],
          [
           "jezu"
          ],
          [
           "osób"
          ],
          [
           "roku"
          ],
          [
           "#"
          ],
          [
           "Internecie,\\nGdzie"
          ],
          [
           "śmiecie"
          ],
          [
           "zakład"
          ],
          [
           "podanie"
          ],
          [
           "brat"
          ],
          [
           "rozgrzeszenie"
          ],
          [
           "człowiekiem"
          ],
          [
           "ludzmi"
          ],
          [
           "raz"
          ],
          [
           "przyjecia"
          ],
          [
           "sadownictwa"
          ],
          [
           "fakt"
          ],
          [
           "kangurem"
          ],
          [
           "glowy"
          ],
          [
           "głupek"
          ],
          [
           "tytułem"
          ],
          [
           "wślizg"
          ],
          [
           "ściągnięcie"
          ],
          [
           "parteru"
          ],
          [
           "gościa"
          ],
          [
           "robiliscie"
          ],
          [
           "\\\"Opowiadania"
          ],
          [
           "odeskie\\"
          ],
          [
           "interpretacji"
          ],
          [
           "alkohol"
          ],
          [
           "umiarem"
          ],
          [
           "ilościach"
          ],
          [
           "Perez"
          ],
          [
           "przedstawienie"
          ],
          [
           "cyrk"
          ],
          [
           "maja"
          ],
          [
           "wsparcie"
          ],
          [
           "Pani"
          ],
          [
           "parcie"
          ],
          [
           "szklo"
          ],
          [
           "efekt"
          ],
          [
           "wieś"
          ],
          [
           "lat"
          ],
          [
           "złodzieje"
          ],
          [
           "malwersanci"
          ],
          [
           "pokoju"
          ],
          [
           "kandydat"
          ],
          [
           "napastnika"
          ],
          [
           "ligi"
          ],
          [
           "Babcia"
          ],
          [
           "końca"
          ],
          [
           "świata"
          ],
          [
           "babcią"
          ],
          [
           "szansa"
          ],
          [
           "Lechia"
          ],
          [
           "kibicom"
          ],
          [
           "szaliki"
          ],
          [
           "kibice"
          ],
          [
           "Celtiku"
          ],
          [
           "szmata"
          ],
          [
           "różnicy"
          ],
          [
           "koniec"
          ],
          [
           "kangurami"
          ],
          [
           "misiem"
          ],
          [
           "koala"
          ],
          [
           "euro"
          ],
          [
           "produkty"
          ],
          [
           "screenami"
          ],
          [
           "gwizdkiem"
          ],
          [
           "banku"
          ],
          [
           "konto"
          ],
          [
           "polaka"
          ],
          [
           "radę"
          ],
          [
           "prezesi"
          ],
          [
           "trenerów"
          ],
          [
           "okiem"
          ],
          [
           "akademiku"
          ],
          [
           "perwersja"
          ],
          [
           "sporcie"
          ],
          [
           "okazję"
          ],
          [
           "rok"
          ],
          [
           "ludzi"
          ],
          [
           "minuty"
          ],
          [
           "szacunkiem"
          ],
          [
           "bandytyzm"
          ],
          [
           "walka"
          ],
          [
           "okazji"
          ],
          [
           "pech"
          ],
          [
           "niespodzianka"
          ],
          [
           "wyboru"
          ],
          [
           "pucharowiczami"
          ],
          [
           "ust"
          ],
          [
           "komplement"
          ],
          [
           "Przemek"
          ],
          [
           "minut"
          ],
          [
           "ogłoszenie"
          ],
          [
           "pracę"
          ],
          [
           "wślizg"
          ],
          [
           "polu"
          ],
          [
           "debiutant"
          ],
          [
           "nogi"
          ],
          [
           "pchnięcie"
          ],
          [
           "próba"
          ],
          [
           "zagrania"
          ],
          [
           "piłki"
          ],
          [
           "końcu"
          ],
          [
           "mecz"
          ],
          [
           "Ja"
          ],
          [
           "słowo"
          ],
          [
           "mowa"
          ],
          [
           "dupie"
          ],
          [
           "akademikiem"
          ],
          [
           "dołku"
          ],
          [
           "życiu"
          ],
          [
           "towar"
          ],
          [
           "ugotowaniu"
          ],
          [
           "argument"
          ],
          [
           "sprawozdania"
          ],
          [
           "deklaracje"
          ],
          [
           "Problem"
          ],
          [
           "młodzieżowcem"
          ],
          [
           "gole"
          ],
          [
           "przerwy"
          ],
          [
           "telewizji"
          ],
          [
           "baca"
          ],
          [
           "pas"
          ],
          [
           "turystów"
          ],
          [
           "akceptacja"
          ],
          [
           "cebula"
          ],
          [
           "dziennikarstwo"
          ],
          [
           "specjalność"
          ],
          [
           "reklama"
          ],
          [
           "promocja"
          ],
          [
           "rzecznictwo"
          ],
          [
           "cv"
          ],
          [
           "zdjęcia"
          ],
          [
           "fotogenicznością"
          ],
          [
           "determinacja"
          ],
          [
           "kobieta"
          ],
          [
           "kobietę"
          ],
          [
           "Mistrzowie"
          ],
          [
           "branża"
          ],
          [
           "mirda"
          ],
          [
           "kubeł"
          ],
          [
           "wślizgami"
          ]
         ],
         "hovertemplate": "x=%{x}<br>y=%{y}<br>text=%{customdata[0]}<br>cluster=%{marker.color}<extra></extra>",
         "legendgroup": "",
         "marker": {
          "color": [
           22,
           22,
           14,
           9,
           14,
           -1,
           -1,
           14,
           12,
           18,
           19,
           -1,
           12,
           19,
           22,
           3,
           -1,
           -1,
           -1,
           -1,
           19,
           -1,
           5,
           -1,
           -1,
           -1,
           -1,
           -1,
           -1,
           -1,
           -1,
           -1,
           -1,
           -1,
           -1,
           2,
           -1,
           -1,
           9,
           -1,
           -1,
           8,
           15,
           -1,
           -1,
           -1,
           -1,
           22,
           -1,
           14,
           -1,
           -1,
           22,
           13,
           -1,
           9,
           -1,
           15,
           -1,
           -1,
           -1,
           -1,
           -1,
           18,
           -1,
           14,
           -1,
           -1,
           -1,
           8,
           19,
           -1,
           18,
           -1,
           -1,
           -1,
           -1,
           -1,
           11,
           9,
           22,
           22,
           -1,
           22,
           6,
           -1,
           -1,
           -1,
           -1,
           -1,
           -1,
           6,
           -1,
           16,
           -1,
           14,
           -1,
           -1,
           24,
           -1,
           -1,
           7,
           11,
           11,
           -1,
           24,
           22,
           -1,
           14,
           -1,
           -1,
           -1,
           -1,
           14,
           12,
           9,
           -1,
           -1,
           -1,
           -1,
           12,
           -1,
           15,
           21,
           7,
           -1,
           6,
           15,
           1,
           10,
           -1,
           10,
           -1,
           9,
           8,
           22,
           -1,
           16,
           -1,
           -1,
           12,
           19,
           19,
           3,
           -1,
           15,
           -1,
           -1,
           9,
           -1,
           8,
           9,
           17,
           9,
           -1,
           4,
           -1,
           -1,
           -1,
           23,
           -1,
           -1,
           22,
           7,
           -1,
           24,
           20,
           22,
           14,
           -1,
           9,
           -1,
           0,
           23,
           7,
           -1,
           -1,
           20,
           -1,
           9,
           -1,
           24,
           -1,
           -1,
           4,
           -1,
           3,
           -1,
           -1,
           6,
           6,
           -1,
           -1,
           6,
           9,
           24,
           -1,
           -1,
           19,
           -1,
           -1,
           9,
           -1,
           24,
           -1,
           5,
           24,
           7,
           -1,
           -1,
           8,
           7,
           5,
           24,
           18,
           -1,
           -1,
           -1,
           5,
           -1,
           7,
           24,
           -1,
           -1,
           9,
           -1,
           19,
           24,
           7,
           -1,
           -1,
           -1,
           9,
           -1,
           22,
           12,
           -1,
           22,
           -1,
           -1,
           -1,
           4,
           4,
           -1,
           -1,
           20,
           -1,
           24,
           -1,
           -1,
           -1,
           -1,
           22,
           4,
           22,
           6,
           24,
           9,
           16,
           -1,
           -1,
           24,
           -1,
           -1,
           -1,
           -1,
           -1,
           9,
           -1,
           9,
           24,
           0,
           18,
           16,
           20,
           24,
           17,
           -1,
           24,
           -1,
           12,
           11,
           24,
           -1,
           -1,
           -1,
           -1,
           8,
           8,
           9,
           24,
           24,
           7,
           1,
           0,
           0,
           1,
           -1,
           -1,
           24,
           24,
           3,
           24,
           2,
           11,
           0,
           9,
           7,
           9,
           -1,
           5,
           -1,
           9,
           -1,
           -1,
           5,
           24,
           -1,
           -1,
           24,
           2,
           -1,
           -1,
           -1,
           21,
           9,
           -1,
           -1,
           -1,
           24,
           24,
           -1,
           -1,
           -1,
           24,
           -1,
           -1,
           -1,
           -1,
           16,
           -1,
           9,
           -1,
           -1,
           -1,
           16,
           16,
           -1,
           13,
           -1,
           -1,
           -1,
           3,
           -1,
           7,
           -1,
           14,
           11,
           -1,
           -1,
           -1,
           21,
           -1,
           -1,
           6,
           12,
           -1,
           5,
           -1,
           -1,
           23,
           -1,
           24,
           2,
           13,
           -1,
           9,
           -1,
           -1,
           12,
           -1,
           3,
           6,
           -1,
           -1,
           -1,
           12,
           2,
           19,
           -1,
           -1,
           -1,
           7,
           -1,
           -1,
           23,
           7,
           13,
           -1,
           24,
           8,
           6,
           -1,
           -1,
           -1,
           -1,
           7,
           -1,
           24,
           24,
           23,
           17,
           6,
           -1,
           24,
           14,
           -1,
           0,
           -1,
           -1,
           24,
           -1,
           24,
           -1,
           -1,
           24,
           24,
           15,
           14,
           9,
           4,
           14,
           -1,
           12,
           -1,
           24,
           -1,
           -1,
           24,
           -1,
           -1,
           -1,
           -1,
           0,
           24,
           24,
           6,
           -1,
           21,
           13,
           -1,
           -1,
           -1,
           24,
           3,
           -1,
           -1,
           24,
           2,
           -1,
           24,
           24,
           18,
           9,
           -1,
           -1,
           17,
           16,
           -1,
           -1,
           -1,
           -1,
           9,
           16,
           -1,
           -1,
           1,
           -1,
           -1,
           -1,
           -1,
           -1,
           24,
           24,
           20,
           -1,
           -1,
           11,
           -1,
           -1,
           9,
           -1,
           -1,
           24,
           13,
           -1,
           9,
           7,
           3,
           0,
           -1,
           10,
           -1,
           17,
           6,
           24,
           -1,
           -1,
           -1,
           7,
           -1,
           -1,
           14,
           0,
           17,
           -1,
           -1,
           1,
           21,
           16,
           -1,
           -1,
           19,
           24,
           16,
           -1,
           -1,
           17,
           -1,
           0,
           2,
           1,
           10,
           7,
           -1,
           14,
           4,
           2,
           3,
           -1,
           9,
           7,
           12,
           -1,
           7,
           -1,
           24,
           -1,
           9,
           -1,
           3,
           -1,
           14,
           -1,
           8,
           -1,
           5,
           -1,
           7,
           6,
           6,
           12,
           4,
           24,
           -1,
           -1,
           -1,
           16,
           12,
           10,
           -1,
           -1,
           9,
           -1,
           19,
           24,
           -1,
           3,
           6,
           -1,
           -1,
           -1,
           2,
           7,
           -1,
           -1,
           7,
           7,
           7,
           24,
           24,
           -1,
           14,
           7,
           -1,
           14,
           24,
           7,
           24,
           9,
           -1
          ],
          "coloraxis": "coloraxis",
          "symbol": "circle"
         },
         "mode": "markers",
         "name": "",
         "orientation": "v",
         "showlegend": false,
         "type": "scatter",
         "x": [
          1.3233129978179932,
          1.3233129978179932,
          33.06835174560547,
          -52.23122787475586,
          31.383867263793945,
          4.533960342407227,
          89.58390045166016,
          24.704708099365234,
          33.129032135009766,
          -22.85579490661621,
          -26.694110870361328,
          -19.145721435546875,
          43.24964904785156,
          -33.131263732910156,
          1.3233129978179932,
          3.162600040435791,
          -15.883360862731934,
          -34.125732421875,
          -16.480939865112305,
          41.84257507324219,
          -30.710594177246094,
          0.15709272027015686,
          -17.494754791259766,
          7.301206588745117,
          -15.146958351135254,
          -44.941734313964844,
          51.82672119140625,
          29.513853073120117,
          29.687108993530273,
          12.247136116027832,
          35.06824493408203,
          13.01563549041748,
          33.61932373046875,
          -3.568007230758667,
          -63.17145919799805,
          22.41625213623047,
          -31.385244369506836,
          -14.328705787658691,
          -36.83689880371094,
          28.238428115844727,
          -38.04499053955078,
          50.24375534057617,
          8.0626220703125,
          -61.782894134521484,
          -5.704971790313721,
          2.2320384979248047,
          51.378475189208984,
          1.3233129978179932,
          -21.749120712280273,
          29.389163970947266,
          -7.207446575164795,
          -24.97336196899414,
          1.3233129978179932,
          -23.421979904174805,
          -16.390905380249023,
          -61.078094482421875,
          -18.290849685668945,
          3.9661760330200195,
          -8.965227127075195,
          18.030353546142578,
          -11.517561912536621,
          -3.122415781021118,
          -5.258023738861084,
          -22.927452087402344,
          -4.591909408569336,
          29.096893310546875,
          37.59210205078125,
          -22.479978561401367,
          -62.58628463745117,
          51.041988372802734,
          -32.02588653564453,
          21.905969619750977,
          -24.045469284057617,
          -20.711585998535156,
          -58.82919692993164,
          -46.253631591796875,
          0.5086246728897095,
          -0.38949719071388245,
          57.94879913330078,
          -34.433250427246094,
          1.3233129978179932,
          1.3233129978179932,
          -46.35186004638672,
          1.3233129978179932,
          -19.33249855041504,
          26.90535545349121,
          -24.63262939453125,
          -37.77804946899414,
          44.84777069091797,
          99.28414916992188,
          56.690067291259766,
          -13.14620304107666,
          -39.814476013183594,
          14.93564510345459,
          -15.554701805114746,
          27.25606918334961,
          61.69449234008789,
          10.548687934875488,
          4.428946495056152,
          5.2569780349731445,
          -24.50078773498535,
          17.221839904785156,
          53.283138275146484,
          52.46427917480469,
          -13.883832931518555,
          -3.102234363555908,
          1.3233129978179932,
          -51.79841995239258,
          32.36050033569336,
          -24.507617950439453,
          7.668528079986572,
          -33.34934616088867,
          34.98506164550781,
          19.731435775756836,
          30.875253677368164,
          -50.797279357910156,
          -7.812632083892822,
          20.773324966430664,
          -17.117008209228516,
          19.53261947631836,
          48.88251495361328,
          37.59210205078125,
          3.137594699859619,
          -5.593624591827393,
          13.774646759033203,
          26.9195556640625,
          -12.607995986938477,
          4.068536758422852,
          -20.55599021911621,
          40.62962341308594,
          11.807575225830078,
          41.39116287231445,
          -5.7484869956970215,
          -41.22154235839844,
          50.85777282714844,
          1.3233129978179932,
          -27.136110305786133,
          20.925443649291992,
          27.660568237304688,
          16.879953384399414,
          37.436195373535156,
          -25.159141540527344,
          -27.918367385864258,
          -2.660259962081909,
          13.107699394226074,
          4.854477882385254,
          -51.79841995239258,
          -8.035865783691406,
          -53.30031967163086,
          23.700719833374023,
          50.24375534057617,
          -46.05259704589844,
          1.7477103471755981,
          -57.43415069580078,
          12.262333869934082,
          -56.23236846923828,
          -12.93333911895752,
          -38.13960647583008,
          10.031998634338379,
          9.30981731414795,
          -36.58747863769531,
          40.77729415893555,
          1.3233129978179932,
          11.869973182678223,
          14.21076774597168,
          -6.35919189453125,
          19.80452537536621,
          1.3233129978179932,
          26.38263511657715,
          -6.879620552062988,
          -50.431007385253906,
          41.930259704589844,
          -4.714460372924805,
          5.613602638244629,
          17.593820571899414,
          -11.262959480285645,
          8.694182395935059,
          22.73298454284668,
          43.59798049926758,
          -51.292850494384766,
          48.06678771972656,
          2.5062739849090576,
          -6.376075744628906,
          -40.38485336303711,
          -56.23236846923828,
          -2.9720659255981445,
          0.06000341475009918,
          -36.58747863769531,
          27.1605281829834,
          -19.722763061523438,
          -20.330724716186523,
          14.93458080291748,
          57.89479446411133,
          -20.330724716186523,
          -49.0504264831543,
          -6.895359992980957,
          38.899452209472656,
          -36.22186279296875,
          -30.672636032104492,
          6.2724995613098145,
          -22.937503814697266,
          -53.25493240356445,
          6.317669868469238,
          -1.6380720138549805,
          44.09754180908203,
          -10.961038589477539,
          -5.339878082275391,
          12.102272987365723,
          -8.346597671508789,
          32.04059600830078,
          46.66063690185547,
          14.140198707580566,
          -7.984901428222656,
          -7.992835521697998,
          -21.224878311157227,
          13.591078758239746,
          42.931697845458984,
          27.002561569213867,
          -17.494754791259766,
          -0.7826802134513855,
          11.426005363464355,
          -3.224891424179077,
          -29.810274124145508,
          13.166972160339355,
          -53.28270721435547,
          -10.389124870300293,
          -29.016490936279297,
          -10.068782806396484,
          11.340118408203125,
          18.13581657409668,
          -16.236127853393555,
          41.96238708496094,
          -45.98359680175781,
          27.1605281829834,
          1.3233129978179932,
          44.43636703491211,
          -6.930899620056152,
          1.3233129978179932,
          -30.806644439697266,
          31.718242645263672,
          -26.455970764160156,
          -62.1788330078125,
          -62.1788330078125,
          26.785259246826172,
          25.314985275268555,
          20.61144256591797,
          31.5493221282959,
          -7.944979190826416,
          -36.8889045715332,
          -36.115509033203125,
          35.89255142211914,
          13.469592094421387,
          1.3233129978179932,
          -58.25824737548828,
          1.3233129978179932,
          -19.33249855041504,
          -5.620630264282227,
          -50.77962112426758,
          18.810792922973633,
          -48.01000213623047,
          -64.3483657836914,
          0.6924324631690979,
          -11.363065719604492,
          12.808952331542969,
          2.659803628921509,
          -0.8236610293388367,
          -33.479530334472656,
          -48.81982421875,
          -16.65949249267578,
          -44.525413513183594,
          4.405455112457275,
          -7.997630596160889,
          -20.339763641357422,
          17.680885314941406,
          21.05024528503418,
          -1.9442424774169922,
          2.240732431411743,
          4.577595233917236,
          -3.224891424179077,
          -31.998620986938477,
          28.444459915161133,
          55.81849670410156,
          -3.951479434967041,
          -15.89307689666748,
          -1.3144601583480835,
          40.746028900146484,
          57.89479446411133,
          56.38280487060547,
          50.24375534057617,
          -52.907447814941406,
          5.1057820320129395,
          2.302699565887451,
          19.786407470703125,
          -21.79851531982422,
          -5.932378768920898,
          -9.125640869140625,
          -23.593591690063477,
          -30.755441665649414,
          52.53993606567383,
          6.662356376647949,
          4.699450492858887,
          -0.5892558693885803,
          7.321470737457275,
          22.4732608795166,
          54.556304931640625,
          -8.75661563873291,
          -43.2641487121582,
          10.058992385864258,
          -56.42903518676758,
          -33.34934616088867,
          -14.417113304138184,
          -29.10938835144043,
          -53.368099212646484,
          -17.509126663208008,
          18.283733367919922,
          -12.210404396057129,
          0.277717262506485,
          -32.4294548034668,
          45.14300537109375,
          7.859706401824951,
          22.461956024169922,
          25.781475067138672,
          32.473548889160156,
          0.5264986753463745,
          -1.8211956024169922,
          -57.314117431640625,
          -54.725704193115234,
          -11.95431900024414,
          4.661171913146973,
          -7.970361232757568,
          -1.6051381826400757,
          5.675495147705078,
          43.91373825073242,
          30.435199737548828,
          -6.6565704345703125,
          -12.10614013671875,
          4.352415561676025,
          20.859111785888672,
          -14.278377532958984,
          16.542985916137695,
          31.5493221282959,
          -46.818782806396484,
          29.2055721282959,
          -3.122415781021118,
          -59.26182174682617,
          21.640287399291992,
          19.271467208862305,
          -26.569244384765625,
          -26.432025909423828,
          -14.303690910339355,
          9.863564491271973,
          20.957134246826172,
          7.537670135498047,
          8.5986328125,
          12.442703247070312,
          -38.18021011352539,
          16.608739852905273,
          56.90266418457031,
          -18.303363800048828,
          3.443631410598755,
          -12.132290840148926,
          -3.0298192501068115,
          7.434056758880615,
          23.558435440063477,
          -19.722763061523438,
          50.418601989746094,
          -16.714746475219727,
          -7.984901428222656,
          -34.125732421875,
          -16.480939865112305,
          10.118183135986328,
          23.906436920166016,
          9.932550430297852,
          19.943159103393555,
          -23.164033889770508,
          14.11598014831543,
          -55.30064392089844,
          14.637250900268555,
          15.418347358703613,
          48.88251495361328,
          -18.395164489746094,
          1.406044363975525,
          -20.302936553955078,
          -11.51159954071045,
          -12.690118789672852,
          70.41107177734375,
          32.606685638427734,
          25.514019012451172,
          -29.70779037475586,
          50.37552261352539,
          23.179750442504883,
          -34.533233642578125,
          17.070220947265625,
          -24.062583923339844,
          36.776878356933594,
          9.619712829589844,
          21.936748504638672,
          -24.426128387451172,
          14.896463394165039,
          -3.7233476638793945,
          50.24375534057617,
          -11.977819442749023,
          -41.57075881958008,
          -26.244951248168945,
          14.21076774597168,
          -1.0741878747940063,
          14.998306274414062,
          35.51363754272461,
          -2.8408877849578857,
          7.941437721252441,
          7.143492698669434,
          -4.03469181060791,
          -20.1416015625,
          -36.099422454833984,
          -2.131380319595337,
          29.18442153930664,
          38.0888671875,
          -2.0624895095825195,
          -45.14595031738281,
          -12.812458038330078,
          -4.689587593078613,
          -14.699870109558105,
          2.1954033374786377,
          -39.609344482421875,
          53.33219909667969,
          2.7747597694396973,
          6.5596747398376465,
          5.641281604766846,
          32.539146423339844,
          -42.90510559082031,
          -60.64458465576172,
          27.947120666503906,
          -12.10614013671875,
          48.21199417114258,
          25.28127670288086,
          0.12416554242372513,
          37.27031326293945,
          -13.682760238647461,
          2.468636989593506,
          1.1132668256759644,
          -15.127028465270996,
          -49.975765228271484,
          -3.4610888957977295,
          -8.159809112548828,
          -5.714204788208008,
          5.6038618087768555,
          -20.361740112304688,
          -8.708495140075684,
          -3.9259114265441895,
          -24.8048152923584,
          33.044883728027344,
          -12.103514671325684,
          61.69449234008789,
          -4.809008598327637,
          4.382500171661377,
          14.095205307006836,
          56.690067291259766,
          7.332868576049805,
          19.995914459228516,
          43.578590393066406,
          -2.4340434074401855,
          4.910974502563477,
          -23.030656814575195,
          -57.4126091003418,
          18.257732391357422,
          -47.99270248413086,
          1.6832741498947144,
          16.98963165283203,
          -3.0043184757232666,
          -3.122415781021118,
          -9.996826171875,
          14.320939064025879,
          -50.01628112792969,
          17.291484832763672,
          -5.690895080566406,
          -32.44743347167969,
          -22.225563049316406,
          -45.875186920166016,
          13.312914848327637,
          -10.208074569702148,
          -16.569242477416992,
          11.288269996643066,
          7.703454494476318,
          -0.003887683153152466,
          19.409265518188477,
          -28.903148651123047,
          2.918231725692749,
          57.861305236816406,
          -1.800639271736145,
          20.988544464111328,
          -45.17027282714844,
          -7.207446575164795,
          -24.5233154296875,
          5.710874080657959,
          -24.404136657714844,
          -17.220678329467773,
          -61.078094482421875,
          7.757312297821045,
          6.505790710449219,
          -10.936100006103516,
          -3.2390787601470947,
          38.22911071777344,
          8.252507209777832,
          -1.8154058456420898,
          -20.361740112304688,
          0.3056289553642273,
          -36.58747863769531,
          20.957134246826172,
          34.66786575317383,
          16.168598175048828,
          78.58851623535156,
          -6.281513214111328,
          21.96660614013672,
          -2.0624895095825195,
          1.825329303741455,
          5.695137977600098,
          18.151025772094727,
          -23.934009552001953,
          -3.8471264839172363,
          18.200334548950195,
          -85.87026977539062,
          13.094358444213867,
          -29.131290435791016,
          9.333184242248535,
          22.264060974121094,
          37.73076248168945,
          35.63306427001953,
          5.061255931854248,
          10.096708297729492,
          -5.031177520751953,
          25.352313995361328,
          -20.821208953857422,
          39.73078536987305,
          16.09941864013672,
          46.713478088378906,
          34.46575164794922,
          -59.64676284790039,
          22.461956024169922,
          -0.5892558693885803,
          21.819541931152344,
          -38.35806655883789,
          13.831036567687988,
          37.314659118652344,
          -51.67584991455078,
          10.005428314208984,
          10.526657104492188,
          0.15649059414863586,
          30.144948959350586,
          -45.00059127807617,
          -36.519962310791016,
          5.641485214233398,
          19.719280242919922,
          31.67891502380371,
          -44.92778778076172,
          56.38280487060547,
          -41.96151351928711,
          -14.417113304138184,
          -12.83405590057373,
          12.95485782623291,
          -17.149839401245117,
          -20.303951263427734,
          43.24964904785156,
          -56.23236846923828,
          -0.5019962191581726,
          -27.66277503967285,
          8.96660327911377,
          43.52196502685547,
          19.11604118347168,
          42.60912322998047,
          44.699703216552734,
          -37.10549545288086,
          28.073543548583984,
          -49.52946853637695,
          -32.857582092285156,
          -31.379106521606445,
          9.37472152709961,
          7.38052225112915,
          -3.2707934379577637,
          -22.581275939941406,
          -10.657591819763184,
          -68.98025512695312,
          -45.15976333618164,
          24.844972610473633,
          18.58479881286621,
          9.993904113769531,
          29.92072105407715,
          21.320404052734375,
          19.03656578063965,
          20.50824546813965,
          11.33907413482666,
          4.756494045257568,
          -23.2810001373291,
          21.96872901916504,
          17.488311767578125,
          29.2980899810791,
          26.175962448120117,
          2.508561849594116,
          22.062604904174805,
          10.317757606506348,
          -34.90763473510742,
          -4.528282642364502
         ],
         "xaxis": "x",
         "y": [
          -0.7108421921730042,
          -0.7108421921730042,
          24.401561737060547,
          7.957057476043701,
          16.863832473754883,
          -50.72026824951172,
          5.939713478088379,
          8.462141036987305,
          -6.731318950653076,
          -16.434249877929688,
          -14.940204620361328,
          7.2565484046936035,
          -6.87012243270874,
          -10.709758758544922,
          -0.7108421921730042,
          -60.199562072753906,
          0.5230457186698914,
          -34.2775764465332,
          -13.801648139953613,
          14.03170394897461,
          -14.019392967224121,
          -16.000919342041016,
          27.755489349365234,
          -36.3150634765625,
          8.811026573181152,
          21.853073120117188,
          -8.772690773010254,
          26.581918716430664,
          28.43509292602539,
          -25.754638671875,
          -23.30768585205078,
          -26.58461570739746,
          5.107198715209961,
          -34.92606735229492,
          11.207358360290527,
          -49.63330078125,
          -25.59100914001465,
          -24.786365509033203,
          22.097312927246094,
          1.4620494842529297,
          19.707475662231445,
          -28.643564224243164,
          24.103351593017578,
          6.556032180786133,
          -21.271591186523438,
          15.40153694152832,
          16.143083572387695,
          -0.7108421921730042,
          -0.6621391177177429,
          19.035053253173828,
          -52.392974853515625,
          30.49563217163086,
          -0.7108421921730042,
          21.189210891723633,
          -4.490073204040527,
          15.144579887390137,
          -6.084936141967773,
          20.411813735961914,
          -24.518009185791016,
          -39.521175384521484,
          -34.3043098449707,
          40.64148712158203,
          -19.252944946289062,
          -22.053041458129883,
          10.001097679138184,
          8.738736152648926,
          -42.591529846191406,
          -7.032322883605957,
          12.691822052001953,
          -32.35902786254883,
          -18.636493682861328,
          27.335886001586914,
          -20.796918869018555,
          0.42046257853507996,
          19.63720703125,
          -27.754003524780273,
          -43.099098205566406,
          -44.97548294067383,
          2.745089292526245,
          10.857659339904785,
          -0.7108421921730042,
          -0.7108421921730042,
          -43.5864143371582,
          -0.7108421921730042,
          -54.05315399169922,
          -35.95683670043945,
          23.604482650756836,
          9.769128799438477,
          28.24352264404297,
          53.62676239013672,
          26.638050079345703,
          -37.14522171020508,
          29.69448471069336,
          -13.76540756225586,
          -20.854734420776367,
          13.135218620300293,
          -12.800108909606934,
          -24.417207717895508,
          4.511676788330078,
          -34.6722526550293,
          6.189272880554199,
          39.215431213378906,
          -0.5660986304283142,
          1.8004531860351562,
          16.79458999633789,
          -2.1114399433135986,
          -0.7108421921730042,
          -16.000614166259766,
          14.546460151672363,
          13.294720649719238,
          16.708602905273438,
          -46.13948440551758,
          -3.7580394744873047,
          19.736108779907227,
          -9.624192237854004,
          11.5100679397583,
          -13.180374145507812,
          -22.140762329101562,
          -24.96964454650879,
          -38.346805572509766,
          -6.346305847167969,
          -42.591529846191406,
          25.063587188720703,
          20.09563636779785,
          39.89922332763672,
          35.568756103515625,
          -35.76346206665039,
          22.228294372558594,
          40.81681823730469,
          -15.646793365478516,
          16.79688835144043,
          -19.576452255249023,
          16.80215072631836,
          19.336894989013672,
          -24.793319702148438,
          -0.7108421921730042,
          5.082151412963867,
          -18.478302001953125,
          0.43369680643081665,
          -10.148056030273438,
          -7.466597080230713,
          -11.642187118530273,
          -7.6113600730896,
          -64.45816040039062,
          7.229928016662598,
          25.27461051940918,
          -16.000614166259766,
          -41.99027633666992,
          10.909045219421387,
          74.10273742675781,
          -28.643564224243164,
          12.608702659606934,
          -23.90696144104004,
          8.37983512878418,
          12.402887344360352,
          -11.11086654663086,
          -24.473270416259766,
          6.424479961395264,
          -12.201128959655762,
          11.023550987243652,
          49.00517272949219,
          -24.38165855407715,
          -0.7108421921730042,
          36.60341262817383,
          -33.280521392822266,
          -9.642864227294922,
          1.392695426940918,
          -0.7108421921730042,
          25.339942932128906,
          -14.963292121887207,
          5.331472396850586,
          1.8910439014434814,
          53.39514923095703,
          9.8555269241333,
          42.53108215332031,
          -0.10093863308429718,
          -16.99394416809082,
          -2.2401678562164307,
          26.485403060913086,
          2.1228079795837402,
          -19.597267150878906,
          3.4011752605438232,
          14.048456192016602,
          33.28577423095703,
          -11.11086654663086,
          -36.84955978393555,
          -60.58127975463867,
          49.00517272949219,
          -27.38718032836914,
          -36.03340530395508,
          -50.63690948486328,
          -21.202327728271484,
          -15.583624839782715,
          -50.63690948486328,
          14.91240119934082,
          -5.131054878234863,
          36.68988800048828,
          100.86810302734375,
          -17.94205093383789,
          -17.27052116394043,
          -25.7443904876709,
          16.590490341186523,
          -16.273456573486328,
          2.6408627033233643,
          3.231999397277832,
          36.697288513183594,
          -3.085667610168457,
          40.10647964477539,
          12.970356941223145,
          -17.805530548095703,
          -28.29514503479004,
          31.642969131469727,
          31.208444595336914,
          7.675444602966309,
          -14.924721717834473,
          29.53260040283203,
          25.532777786254883,
          -7.817603588104248,
          27.755489349365234,
          12.209059715270996,
          44.41387176513672,
          0.5044384002685547,
          -1.9080359935760498,
          -4.229466915130615,
          14.769222259521484,
          -19.478912353515625,
          -9.72327709197998,
          -7.683722019195557,
          50.93185806274414,
          -4.048590183258057,
          5.665326118469238,
          12.987632751464844,
          6.062039375305176,
          -27.38718032836914,
          -0.7108421921730042,
          -7.806342601776123,
          -22.925464630126953,
          -0.7108421921730042,
          -23.519681930541992,
          5.92018985748291,
          2.2520577907562256,
          -3.46686053276062,
          -3.46686053276062,
          -24.259681701660156,
          37.51581954956055,
          -1.3211385011672974,
          -61.961578369140625,
          -2.3522791862487793,
          33.20339584350586,
          29.41958236694336,
          -31.0661678314209,
          0.3161866366863251,
          -0.7108421921730042,
          -8.464166641235352,
          -0.7108421921730042,
          -54.05315399169922,
          -0.848301112651825,
          -0.008275946602225304,
          -19.32524871826172,
          -29.08099365234375,
          -3.677151918411255,
          -13.635392189025879,
          -8.752396583557129,
          -40.99338912963867,
          32.8416633605957,
          93.79014587402344,
          -20.953306198120117,
          8.837020874023438,
          3.031263589859009,
          5.837698936462402,
          -3.9152958393096924,
          55.55553436279297,
          -19.004165649414062,
          -22.241365432739258,
          1.497238039970398,
          -6.19569730758667,
          -19.719886779785156,
          -12.502008438110352,
          0.5044384002685547,
          21.212732315063477,
          -9.441204071044922,
          -1.2778538465499878,
          3.3626699447631836,
          10.648324966430664,
          -17.07316780090332,
          3.5141706466674805,
          -15.583624839782715,
          -26.239309310913086,
          -28.643564224243164,
          12.339119911193848,
          6.734469890594482,
          5.716513633728027,
          41.971839904785156,
          46.24348449707031,
          53.87263870239258,
          53.438499450683594,
          45.328670501708984,
          5.149988174438477,
          14.22948932647705,
          3.865861415863037,
          -6.339730262756348,
          -62.480594635009766,
          -7.345414161682129,
          -47.86574172973633,
          0.8995054960250854,
          49.378170013427734,
          10.102533340454102,
          42.05628967285156,
          13.035663604736328,
          -46.13948440551758,
          34.24995803833008,
          8.39737606048584,
          4.304045677185059,
          19.781795501708984,
          16.00404930114746,
          36.199039459228516,
          -5.1026692390441895,
          -1.5406447649002075,
          -80.38240051269531,
          -0.6596726775169373,
          -52.64702224731445,
          -35.92105484008789,
          47.7990837097168,
          32.917205810546875,
          19.516395568847656,
          15.416362762451172,
          72.23780822753906,
          20.756572723388672,
          -32.136756896972656,
          0.6562508940696716,
          -3.829869508743286,
          -30.67719841003418,
          -13.872511863708496,
          47.81497573852539,
          3.996473550796509,
          24.961166381835938,
          30.959897994995117,
          29.592313766479492,
          3.3800714015960693,
          -17.891897201538086,
          -61.961578369140625,
          11.674651145935059,
          -35.89896011352539,
          40.64148712158203,
          21.753604888916016,
          -12.487380027770996,
          -10.728737831115723,
          -2.613128423690796,
          17.081127166748047,
          -27.233562469482422,
          -36.19168472290039,
          -29.81171989440918,
          -59.78662872314453,
          -10.99072265625,
          48.81842041015625,
          31.28986358642578,
          15.009946823120117,
          3.5617613792419434,
          10.811347961425781,
          -32.83781433105469,
          14.885848999023438,
          16.064844131469727,
          -43.36844253540039,
          19.207887649536133,
          -36.03340530395508,
          -3.5355043411254883,
          19.077425003051758,
          31.208444595336914,
          -34.2775764465332,
          -13.801648139953613,
          14.627243041992188,
          24.67818260192871,
          0.9142230749130249,
          -49.5167121887207,
          15.862939834594727,
          1.939653992652893,
          8.798164367675781,
          21.438703536987305,
          23.093029022216797,
          -6.346305847167969,
          1.5986278057098389,
          -64.19005584716797,
          -33.231197357177734,
          -4.108524799346924,
          -19.29443359375,
          71.94583129882812,
          -9.874650955200195,
          -49.4495849609375,
          -11.055154800415039,
          17.84231948852539,
          3.0256145000457764,
          -15.170087814331055,
          46.662681579589844,
          -9.966196060180664,
          -2.672443389892578,
          13.985109329223633,
          49.34053039550781,
          17.315715789794922,
          6.8055901527404785,
          -4.622652053833008,
          -28.643564224243164,
          -39.611427307128906,
          -0.049385275691747665,
          -21.60250473022461,
          -33.280521392822266,
          -24.006053924560547,
          42.0842399597168,
          -21.850465774536133,
          -8.517667770385742,
          -2.98172926902771,
          13.413765907287598,
          -32.77431869506836,
          -45.06970977783203,
          -74.07551574707031,
          4.917710304260254,
          17.123414993286133,
          35.943790435791016,
          55.112857818603516,
          -42.110504150390625,
          -10.201991081237793,
          5.93147087097168,
          -63.91008758544922,
          -9.71183967590332,
          -0.25486165285110474,
          12.288348197937012,
          8.119251251220703,
          -4.859339714050293,
          26.411041259765625,
          21.777746200561523,
          15.857194900512695,
          -1.0555928945541382,
          15.292352676391602,
          24.961166381835938,
          -9.590496063232422,
          10.138392448425293,
          8.39080810546875,
          -13.993513107299805,
          11.966487884521484,
          -5.026938438415527,
          12.662369728088379,
          -9.139217376708984,
          -1.0888574123382568,
          25.117172241210938,
          51.6224479675293,
          1.6683764457702637,
          0.0911489725112915,
          -47.15913391113281,
          -41.179447174072266,
          22.35784912109375,
          11.711153984069824,
          -2.7906999588012695,
          8.596817016601562,
          -12.800108909606934,
          -6.771917343139648,
          -51.715728759765625,
          -54.95436477661133,
          26.638050079345703,
          1.6622495651245117,
          -53.805992126464844,
          -27.21262550354004,
          7.467975616455078,
          -8.892060279846191,
          -17.635072708129883,
          6.788424015045166,
          10.162895202636719,
          -2.355414867401123,
          -21.45686149597168,
          -20.117752075195312,
          23.13520622253418,
          40.64148712158203,
          4.101842403411865,
          -5.5661091804504395,
          20.565671920776367,
          -13.247217178344727,
          30.653322219848633,
          32.765411376953125,
          42.911338806152344,
          -9.595573425292969,
          27.9741268157959,
          13.634637832641602,
          13.462841033935547,
          6.707173824310303,
          6.177518367767334,
          5.9327592849731445,
          -2.657090425491333,
          6.047898292541504,
          13.430684089660645,
          -0.7566758394241333,
          -46.370567321777344,
          9.429125785827637,
          10.126317977905273,
          -52.392974853515625,
          31.390369415283203,
          -2.164456605911255,
          21.01229476928711,
          -3.960117816925049,
          15.144579887390137,
          41.43056106567383,
          -62.084224700927734,
          53.85287857055664,
          -12.300670623779297,
          -19.238615036010742,
          -44.533355712890625,
          -28.509151458740234,
          -47.15913391113281,
          3.7119903564453125,
          49.00517272949219,
          -29.81171989440918,
          11.551416397094727,
          49.35958480834961,
          -80.09280395507812,
          -29.316665649414062,
          15.618635177612305,
          55.112857818603516,
          -26.22633934020996,
          34.41764450073242,
          2.8480536937713623,
          42.29362869262695,
          18.051008224487305,
          -12.44826602935791,
          -44.24296188354492,
          -54.3851432800293,
          -22.1925106048584,
          -5.126890182495117,
          -15.498873710632324,
          -25.694503784179688,
          -32.10138702392578,
          -23.580848693847656,
          23.342947006225586,
          51.191864013671875,
          -46.92998504638672,
          43.392066955566406,
          -17.799562454223633,
          38.5394172668457,
          -19.320114135742188,
          20.29212760925293,
          -6.700931072235107,
          -52.64702224731445,
          -62.480594635009766,
          -7.537833213806152,
          18.547775268554688,
          44.81111145019531,
          -9.394219398498535,
          -3.00834321975708,
          45.536842346191406,
          -17.3463077545166,
          -7.385712146759033,
          -18.037601470947266,
          19.805519104003906,
          -34.3382453918457,
          -60.887901306152344,
          9.071475982666016,
          24.726829528808594,
          -9.941875457763672,
          -26.239309310913086,
          -3.4772756099700928,
          34.24995803833008,
          -17.1962833404541,
          51.474205017089844,
          -35.88595962524414,
          -39.249820709228516,
          -6.87012243270874,
          -11.11086654663086,
          -9.787199020385742,
          -1.213615894317627,
          52.039459228515625,
          -0.15295223891735077,
          -14.831137657165527,
          -9.943711280822754,
          -15.266365051269531,
          7.395197868347168,
          -11.659590721130371,
          18.875125885009766,
          -7.2377495765686035,
          -8.95766830444336,
          3.536478042602539,
          -23.717679977416992,
          -60.580135345458984,
          -35.77431869506836,
          -12.566102981567383,
          -16.05253791809082,
          3.5985569953918457,
          -51.15644454956055,
          37.42900085449219,
          -82.64442443847656,
          6.669750213623047,
          39.76797866821289,
          44.86772918701172,
          46.0270881652832,
          -8.210489273071289,
          2.20395827293396,
          -9.041245460510254,
          17.81781768798828,
          35.41919708251953,
          47.89161682128906,
          19.365434646606445,
          -7.254491806030273,
          43.08711624145508,
          -1.9295880794525146,
          16.79644012451172,
          -30.404539108276367
         ],
         "yaxis": "y"
        }
       ],
       "layout": {
        "autosize": true,
        "coloraxis": {
         "colorbar": {
          "title": {
           "text": "cluster"
          }
         },
         "colorscale": [
          [
           0,
           "#0d0887"
          ],
          [
           0.1111111111111111,
           "#46039f"
          ],
          [
           0.2222222222222222,
           "#7201a8"
          ],
          [
           0.3333333333333333,
           "#9c179e"
          ],
          [
           0.4444444444444444,
           "#bd3786"
          ],
          [
           0.5555555555555556,
           "#d8576b"
          ],
          [
           0.6666666666666666,
           "#ed7953"
          ],
          [
           0.7777777777777778,
           "#fb9f3a"
          ],
          [
           0.8888888888888888,
           "#fdca26"
          ],
          [
           1,
           "#f0f921"
          ]
         ]
        },
        "legend": {
         "tracegroupgap": 0
        },
        "template": {
         "data": {
          "bar": [
           {
            "error_x": {
             "color": "#2a3f5f"
            },
            "error_y": {
             "color": "#2a3f5f"
            },
            "marker": {
             "line": {
              "color": "#E5ECF6",
              "width": 0.5
             },
             "pattern": {
              "fillmode": "overlay",
              "size": 10,
              "solidity": 0.2
             }
            },
            "type": "bar"
           }
          ],
          "barpolar": [
           {
            "marker": {
             "line": {
              "color": "#E5ECF6",
              "width": 0.5
             },
             "pattern": {
              "fillmode": "overlay",
              "size": 10,
              "solidity": 0.2
             }
            },
            "type": "barpolar"
           }
          ],
          "carpet": [
           {
            "aaxis": {
             "endlinecolor": "#2a3f5f",
             "gridcolor": "white",
             "linecolor": "white",
             "minorgridcolor": "white",
             "startlinecolor": "#2a3f5f"
            },
            "baxis": {
             "endlinecolor": "#2a3f5f",
             "gridcolor": "white",
             "linecolor": "white",
             "minorgridcolor": "white",
             "startlinecolor": "#2a3f5f"
            },
            "type": "carpet"
           }
          ],
          "choropleth": [
           {
            "colorbar": {
             "outlinewidth": 0,
             "ticks": ""
            },
            "type": "choropleth"
           }
          ],
          "contour": [
           {
            "colorbar": {
             "outlinewidth": 0,
             "ticks": ""
            },
            "colorscale": [
             [
              0,
              "#0d0887"
             ],
             [
              0.1111111111111111,
              "#46039f"
             ],
             [
              0.2222222222222222,
              "#7201a8"
             ],
             [
              0.3333333333333333,
              "#9c179e"
             ],
             [
              0.4444444444444444,
              "#bd3786"
             ],
             [
              0.5555555555555556,
              "#d8576b"
             ],
             [
              0.6666666666666666,
              "#ed7953"
             ],
             [
              0.7777777777777778,
              "#fb9f3a"
             ],
             [
              0.8888888888888888,
              "#fdca26"
             ],
             [
              1,
              "#f0f921"
             ]
            ],
            "type": "contour"
           }
          ],
          "contourcarpet": [
           {
            "colorbar": {
             "outlinewidth": 0,
             "ticks": ""
            },
            "type": "contourcarpet"
           }
          ],
          "heatmap": [
           {
            "colorbar": {
             "outlinewidth": 0,
             "ticks": ""
            },
            "colorscale": [
             [
              0,
              "#0d0887"
             ],
             [
              0.1111111111111111,
              "#46039f"
             ],
             [
              0.2222222222222222,
              "#7201a8"
             ],
             [
              0.3333333333333333,
              "#9c179e"
             ],
             [
              0.4444444444444444,
              "#bd3786"
             ],
             [
              0.5555555555555556,
              "#d8576b"
             ],
             [
              0.6666666666666666,
              "#ed7953"
             ],
             [
              0.7777777777777778,
              "#fb9f3a"
             ],
             [
              0.8888888888888888,
              "#fdca26"
             ],
             [
              1,
              "#f0f921"
             ]
            ],
            "type": "heatmap"
           }
          ],
          "heatmapgl": [
           {
            "colorbar": {
             "outlinewidth": 0,
             "ticks": ""
            },
            "colorscale": [
             [
              0,
              "#0d0887"
             ],
             [
              0.1111111111111111,
              "#46039f"
             ],
             [
              0.2222222222222222,
              "#7201a8"
             ],
             [
              0.3333333333333333,
              "#9c179e"
             ],
             [
              0.4444444444444444,
              "#bd3786"
             ],
             [
              0.5555555555555556,
              "#d8576b"
             ],
             [
              0.6666666666666666,
              "#ed7953"
             ],
             [
              0.7777777777777778,
              "#fb9f3a"
             ],
             [
              0.8888888888888888,
              "#fdca26"
             ],
             [
              1,
              "#f0f921"
             ]
            ],
            "type": "heatmapgl"
           }
          ],
          "histogram": [
           {
            "marker": {
             "pattern": {
              "fillmode": "overlay",
              "size": 10,
              "solidity": 0.2
             }
            },
            "type": "histogram"
           }
          ],
          "histogram2d": [
           {
            "colorbar": {
             "outlinewidth": 0,
             "ticks": ""
            },
            "colorscale": [
             [
              0,
              "#0d0887"
             ],
             [
              0.1111111111111111,
              "#46039f"
             ],
             [
              0.2222222222222222,
              "#7201a8"
             ],
             [
              0.3333333333333333,
              "#9c179e"
             ],
             [
              0.4444444444444444,
              "#bd3786"
             ],
             [
              0.5555555555555556,
              "#d8576b"
             ],
             [
              0.6666666666666666,
              "#ed7953"
             ],
             [
              0.7777777777777778,
              "#fb9f3a"
             ],
             [
              0.8888888888888888,
              "#fdca26"
             ],
             [
              1,
              "#f0f921"
             ]
            ],
            "type": "histogram2d"
           }
          ],
          "histogram2dcontour": [
           {
            "colorbar": {
             "outlinewidth": 0,
             "ticks": ""
            },
            "colorscale": [
             [
              0,
              "#0d0887"
             ],
             [
              0.1111111111111111,
              "#46039f"
             ],
             [
              0.2222222222222222,
              "#7201a8"
             ],
             [
              0.3333333333333333,
              "#9c179e"
             ],
             [
              0.4444444444444444,
              "#bd3786"
             ],
             [
              0.5555555555555556,
              "#d8576b"
             ],
             [
              0.6666666666666666,
              "#ed7953"
             ],
             [
              0.7777777777777778,
              "#fb9f3a"
             ],
             [
              0.8888888888888888,
              "#fdca26"
             ],
             [
              1,
              "#f0f921"
             ]
            ],
            "type": "histogram2dcontour"
           }
          ],
          "mesh3d": [
           {
            "colorbar": {
             "outlinewidth": 0,
             "ticks": ""
            },
            "type": "mesh3d"
           }
          ],
          "parcoords": [
           {
            "line": {
             "colorbar": {
              "outlinewidth": 0,
              "ticks": ""
             }
            },
            "type": "parcoords"
           }
          ],
          "pie": [
           {
            "automargin": true,
            "type": "pie"
           }
          ],
          "scatter": [
           {
            "fillpattern": {
             "fillmode": "overlay",
             "size": 10,
             "solidity": 0.2
            },
            "type": "scatter"
           }
          ],
          "scatter3d": [
           {
            "line": {
             "colorbar": {
              "outlinewidth": 0,
              "ticks": ""
             }
            },
            "marker": {
             "colorbar": {
              "outlinewidth": 0,
              "ticks": ""
             }
            },
            "type": "scatter3d"
           }
          ],
          "scattercarpet": [
           {
            "marker": {
             "colorbar": {
              "outlinewidth": 0,
              "ticks": ""
             }
            },
            "type": "scattercarpet"
           }
          ],
          "scattergeo": [
           {
            "marker": {
             "colorbar": {
              "outlinewidth": 0,
              "ticks": ""
             }
            },
            "type": "scattergeo"
           }
          ],
          "scattergl": [
           {
            "marker": {
             "colorbar": {
              "outlinewidth": 0,
              "ticks": ""
             }
            },
            "type": "scattergl"
           }
          ],
          "scattermapbox": [
           {
            "marker": {
             "colorbar": {
              "outlinewidth": 0,
              "ticks": ""
             }
            },
            "type": "scattermapbox"
           }
          ],
          "scatterpolar": [
           {
            "marker": {
             "colorbar": {
              "outlinewidth": 0,
              "ticks": ""
             }
            },
            "type": "scatterpolar"
           }
          ],
          "scatterpolargl": [
           {
            "marker": {
             "colorbar": {
              "outlinewidth": 0,
              "ticks": ""
             }
            },
            "type": "scatterpolargl"
           }
          ],
          "scatterternary": [
           {
            "marker": {
             "colorbar": {
              "outlinewidth": 0,
              "ticks": ""
             }
            },
            "type": "scatterternary"
           }
          ],
          "surface": [
           {
            "colorbar": {
             "outlinewidth": 0,
             "ticks": ""
            },
            "colorscale": [
             [
              0,
              "#0d0887"
             ],
             [
              0.1111111111111111,
              "#46039f"
             ],
             [
              0.2222222222222222,
              "#7201a8"
             ],
             [
              0.3333333333333333,
              "#9c179e"
             ],
             [
              0.4444444444444444,
              "#bd3786"
             ],
             [
              0.5555555555555556,
              "#d8576b"
             ],
             [
              0.6666666666666666,
              "#ed7953"
             ],
             [
              0.7777777777777778,
              "#fb9f3a"
             ],
             [
              0.8888888888888888,
              "#fdca26"
             ],
             [
              1,
              "#f0f921"
             ]
            ],
            "type": "surface"
           }
          ],
          "table": [
           {
            "cells": {
             "fill": {
              "color": "#EBF0F8"
             },
             "line": {
              "color": "white"
             }
            },
            "header": {
             "fill": {
              "color": "#C8D4E3"
             },
             "line": {
              "color": "white"
             }
            },
            "type": "table"
           }
          ]
         },
         "layout": {
          "annotationdefaults": {
           "arrowcolor": "#2a3f5f",
           "arrowhead": 0,
           "arrowwidth": 1
          },
          "autotypenumbers": "strict",
          "coloraxis": {
           "colorbar": {
            "outlinewidth": 0,
            "ticks": ""
           }
          },
          "colorscale": {
           "diverging": [
            [
             0,
             "#8e0152"
            ],
            [
             0.1,
             "#c51b7d"
            ],
            [
             0.2,
             "#de77ae"
            ],
            [
             0.3,
             "#f1b6da"
            ],
            [
             0.4,
             "#fde0ef"
            ],
            [
             0.5,
             "#f7f7f7"
            ],
            [
             0.6,
             "#e6f5d0"
            ],
            [
             0.7,
             "#b8e186"
            ],
            [
             0.8,
             "#7fbc41"
            ],
            [
             0.9,
             "#4d9221"
            ],
            [
             1,
             "#276419"
            ]
           ],
           "sequential": [
            [
             0,
             "#0d0887"
            ],
            [
             0.1111111111111111,
             "#46039f"
            ],
            [
             0.2222222222222222,
             "#7201a8"
            ],
            [
             0.3333333333333333,
             "#9c179e"
            ],
            [
             0.4444444444444444,
             "#bd3786"
            ],
            [
             0.5555555555555556,
             "#d8576b"
            ],
            [
             0.6666666666666666,
             "#ed7953"
            ],
            [
             0.7777777777777778,
             "#fb9f3a"
            ],
            [
             0.8888888888888888,
             "#fdca26"
            ],
            [
             1,
             "#f0f921"
            ]
           ],
           "sequentialminus": [
            [
             0,
             "#0d0887"
            ],
            [
             0.1111111111111111,
             "#46039f"
            ],
            [
             0.2222222222222222,
             "#7201a8"
            ],
            [
             0.3333333333333333,
             "#9c179e"
            ],
            [
             0.4444444444444444,
             "#bd3786"
            ],
            [
             0.5555555555555556,
             "#d8576b"
            ],
            [
             0.6666666666666666,
             "#ed7953"
            ],
            [
             0.7777777777777778,
             "#fb9f3a"
            ],
            [
             0.8888888888888888,
             "#fdca26"
            ],
            [
             1,
             "#f0f921"
            ]
           ]
          },
          "colorway": [
           "#636efa",
           "#EF553B",
           "#00cc96",
           "#ab63fa",
           "#FFA15A",
           "#19d3f3",
           "#FF6692",
           "#B6E880",
           "#FF97FF",
           "#FECB52"
          ],
          "font": {
           "color": "#2a3f5f"
          },
          "geo": {
           "bgcolor": "white",
           "lakecolor": "white",
           "landcolor": "#E5ECF6",
           "showlakes": true,
           "showland": true,
           "subunitcolor": "white"
          },
          "hoverlabel": {
           "align": "left"
          },
          "hovermode": "closest",
          "mapbox": {
           "style": "light"
          },
          "paper_bgcolor": "white",
          "plot_bgcolor": "#E5ECF6",
          "polar": {
           "angularaxis": {
            "gridcolor": "white",
            "linecolor": "white",
            "ticks": ""
           },
           "bgcolor": "#E5ECF6",
           "radialaxis": {
            "gridcolor": "white",
            "linecolor": "white",
            "ticks": ""
           }
          },
          "scene": {
           "xaxis": {
            "backgroundcolor": "#E5ECF6",
            "gridcolor": "white",
            "gridwidth": 2,
            "linecolor": "white",
            "showbackground": true,
            "ticks": "",
            "zerolinecolor": "white"
           },
           "yaxis": {
            "backgroundcolor": "#E5ECF6",
            "gridcolor": "white",
            "gridwidth": 2,
            "linecolor": "white",
            "showbackground": true,
            "ticks": "",
            "zerolinecolor": "white"
           },
           "zaxis": {
            "backgroundcolor": "#E5ECF6",
            "gridcolor": "white",
            "gridwidth": 2,
            "linecolor": "white",
            "showbackground": true,
            "ticks": "",
            "zerolinecolor": "white"
           }
          },
          "shapedefaults": {
           "line": {
            "color": "#2a3f5f"
           }
          },
          "ternary": {
           "aaxis": {
            "gridcolor": "white",
            "linecolor": "white",
            "ticks": ""
           },
           "baxis": {
            "gridcolor": "white",
            "linecolor": "white",
            "ticks": ""
           },
           "bgcolor": "#E5ECF6",
           "caxis": {
            "gridcolor": "white",
            "linecolor": "white",
            "ticks": ""
           }
          },
          "title": {
           "x": 0.05
          },
          "xaxis": {
           "automargin": true,
           "gridcolor": "white",
           "linecolor": "white",
           "ticks": "",
           "title": {
            "standoff": 15
           },
           "zerolinecolor": "white",
           "zerolinewidth": 2
          },
          "yaxis": {
           "automargin": true,
           "gridcolor": "white",
           "linecolor": "white",
           "ticks": "",
           "title": {
            "standoff": 15
           },
           "zerolinecolor": "white",
           "zerolinewidth": 2
          }
         }
        },
        "title": {
         "text": "HDBSCAN"
        },
        "xaxis": {
         "anchor": "y",
         "autorange": true,
         "domain": [
          0,
          1
         ],
         "range": [
          -97.07669405860423,
          110.49057345313548
         ],
         "title": {
          "text": "x"
         },
         "type": "linear"
        },
        "yaxis": {
         "anchor": "x",
         "autorange": true,
         "domain": [
          0,
          1
         ],
         "range": [
          -97.78866214196658,
          116.01234073083377
         ],
         "title": {
          "text": "y"
         },
         "type": "linear"
        }
       }
      },
      "image/png": "[encoded data removed]",
      "text/html": [
       "<div>                            <div id=\"ce16baea-674c-43ed-bb1f-76a75fda1104\" class=\"plotly-graph-div\" style=\"height:525px; width:100%;\"></div>            <script type=\"text/javascript\">                require([\"plotly\"], function(Plotly) {                    window.PLOTLYENV=window.PLOTLYENV || {};                                    if (document.getElementById(\"ce16baea-674c-43ed-bb1f-76a75fda1104\")) {                    Plotly.newPlot(                        \"ce16baea-674c-43ed-bb1f-76a75fda1104\",                        [{\"customdata\":[[\"LUDZIE\"],[\"RESTAURACJA\"],[\"pomoc\"],[\"\\u015bwiat\"],[\"kurtk\\u0119\"],[\"milion\\u00f3w\"],[\"konkretach\"],[\"zmian\\u0119\"],[\"\\u0142awce\"],[\"gnojki\"],[\"znaki\"],[\"zapytania\"],[\"ko\\u0144cu\"],[\"wyroki\"],[\"S\\u0105du\"],[\"razy\"],[\"por\\u00f3wnania\"],[\"Patryk\"],[\"wybory\"],[\"prezydenta\"],[\"statystyki\"],[\"bramke\"],[\"razu\"],[\"ojczy\\u017anie\"],[\"taks\\u00f3wki\"],[\"szacunek\"],[\"oparciu\"],[\"opini\\u0119\"],[\"opini\\u0105\"],[\"prezesem\"],[\"klubu\"],[\"przewodnicz\\u0105cym\"],[\"wydzia\\u0142u\"],[\"futsalu\"],[\"limit\"],[\"obcokrajowc\\u00f3w\"],[\"podstawy\"],[\"pary\"],[\"pedofilia\"],[\"zboczenie\"],[\"homoseksualizm\"],[\"razie\"],[\"rade\"],[\"rekord\"],[\"wychowanki\"],[\"pewno\\u015bci\\u0105\"],[\"sektorom\"],[\"\\\\\\\"eksperci\\\\\"],[\"rzeczy\"],[\"gum\\u0119\"],[\"maja\"],[\"wsparcie\"],[\"Pani\"],[\"parcie\"],[\"szklo\"],[\"efekt\"],[\"obcasy\"],[\"trza\"],[\"mecze\"],[\"druzyn\"],[\"mecz\\u00f3w\"],[\"raz\"],[\"\\u017co\\u0142nierki\"],[\"kwiaty\"],[\"bach\"],[\"kognitywistyk\\u0119\"],[\"komunikacji\"],[\"wra\\u017cenia\"],[\"stopie\\u0144\"],[\"urlopie\"],[\"pa\\u0144stwo\"],[\"propagand\\u0119\"],[\"karpie\"],[\"s\\u0142\\u00f3w\"],[\"temat\"],[\"jeziora\"],[\"Modric\"],[\"Rakitic\"],[\"momentach\"],[\"orygina\\u0142\"],[\"Wyzwanie\"],[\"Syn\"],[\"mega\"],[\"s\\u0142odziakiem\"],[\"klasie\"],[\"podstaw\\u00f3wki\"],[\"ryzyko\"],[\"kupon\"],[\"chor\\u00f3b\"],[\"stanu\"],[\"statystyk\"],[\"wyst\\u0119pu\"],[\"realista\"],[\"wyj\\u0105tkiem\"],[\"si\\u0142y\"],[\"kolejk\\u0119\"],[\"przek\\u0142adzie\"],[\"trenerem\"],[\"Dziadek\"],[\"\\u017conie\"],[\"mieszkanie\"],[\"patologia\"],[\"statystykach\"],[\"umiej\\u0119tno\\u015bciach\"],[\"sufit\"],[\"Remis\"],[\"lvbet\"],[\"remis\"],[\"torb\\u0105\"],[\"serce\"],[\"w\\u00f3deczka\"],[\"\\u017cycia\"],[\"poczcie\"],[\"kred\\u0105\"],[\"asfalcie\"],[\"znak\"],[\"solidarno\\u015bci\"],[\"ofiar\\u0105\"],[\"osoby\"],[\"lgbt\"],[\"og\\u00f3le\"],[\"komunikacji\"],[\"wiec\"],[\"pasa\\u017cerami\"],[\"parodia\"],[\"liczbe\"],[\"wyst\\u0119p\\u00f3w\"],[\"moze\"],[\"drzewem\"],[\"ogrodzie\"],[\"lisie\"],[\"dodatku\"],[\"sztu\\u0107cami\"],[\"grzech\"],[\"\\u015bwiecie\"],[\"Raz\"],[\"piwo\"],[\"sensem\"],[\"przeciwie\\u0144stwo\"],[\"autem\"],[\"drodze\"],[\"wizje\"],[\"zmiany\"],[\"minucie\"],[\"pochwal\"],[\"ehh\"],[\"remis\"],[\"meczu\"],[\"obraz\"],[\"wieczorem\"],[\"razie\"],[\"serial\"],[\"Papadopoulosa\"],[\"sektor\"],[\"chodzenie\"],[\"mecz\"],[\"kolejki\"],[\"bilet\"],[\"wagon\\u00f3w\"],[\"powodzenia\"],[\"ko\\u0144ca\"],[\"kraju\"],[\"pisdzielstwo\"],[\"delegalizacja\"],[\"ramach\"],[\"przywracania\"],[\"skromno\\u015bci\"],[\"Prezes\"],[\"nazw\\u0119\"],[\"sp\\u00f3\\u0142ki\"],[\"lud\"],[\"my\\u015bli\"],[\"trenerzy\"],[\"tymczasowi\"],[\"statystyka\"],[\"gazu\"],[\"powtarzania\"],[\"opinii\"],[\"tarczycy\"],[\"cz\\u0142owiek\"],[\"maratonie\"],[\"radnia\"],[\"otworami\"],[\"piku\\u015b\"],[\"mecz\"],[\"mistrzostwo\"],[\"sekundy\"],[\"ko\\u0144ca\"],[\"kasy\"],[\"gry\"],[\"lidze\"],[\"przeciwnikiem\"],[\"wydaniu\"],[\"lidze\"],[\"post\"],[\"Ej\"],[\"czwartki\"],[\"social\"],[\"media\"],[\"walenia\"],[\"tony\"],[\"jezyk\"],[\"walenia\"],[\"pisdzielstwo\"],[\"racj\\u0119\"],[\"d\\u0142oni\"],[\"homopisuarowiec\"],[\"atrapa\"],[\"dykty\"],[\"ca\\u0142o\\u015bci\"],[\"wypadku\"],[\"transplantacja\"],[\"g\\u0142owy\"],[\"lifting\"],[\"g\\u0119by\"],[\"wszczepienie\"],[\"m\\u00f3zgu\"],[\"\\u0142bach\"],[\"razu\"],[\"wymioty\"],[\"tragedia\"],[\"Pana\"],[\"zdanie\"],[\"Pan\"],[\"j\\u0119zyk\"],[\"strzelaniny\"],[\"zwroty\"],[\"akcji\"],[\"kwestia\"],[\"nieznajomo\\u015bci\"],[\"slajd\\u00f3w\"],[\"prezesa\"],[\"front\"],[\"kasy\"],[\"malopolan\"],[\"ko\\u0144cu\"],[\"reprezentacje\"],[\"Niejaki\"],[\"standardy\"],[\"dziennikarstwa\"],[\"g\\u00f3wno\"],[\"dzie\\u0144\"],[\"dzie\\u0144\"],[\"rady\"],[\"warto\\u015b\\u0107\"],[\"krytyki\"],[\"pose\\u0142\"],[\"Naprawd\\u00e8\"],[\"t\\u0119py\"],[\"idiot\\u0119\"],[\"konta\"],[\"fav\"],[\"tweeta\"],[\"sezon\"],[\"\\\\n\\\\ndziunia\"],[\"klasie\"],[\"ZDROWIE\"],[\"facet\"],[\"m\\u00f3zgiem\"],[\"jenota\"],[\"dzien\"],[\"jeszze\"],[\"prezentacji\"],[\"pucharach\"],[\"mendo\"],[\"pisowska\"],[\"\\u015brodowisko\"],[\"cykl\"],[\"fotoszopa\"],[\"tramwaj\"],[\"chodkiewicza\"],[\"znajomi\"],[\"ziemie\"],[\"agentem\"],[\"obiektywizmu\"],[\"Pani\"],[\"odszkodowania\"],[\"nominat\"],[\"Poziom\"],[\"prymitywizmu\"],[\"\\u0142omocie\"],[\"miastach\"],[\"Polak\\u00f3w\\\\\"],[\"monitorka\"],[\"kartka\"],[\"w\\u0105tpliwo\\u015bci\"],[\"wydaniu\"],[\"polu\"],[\"razie\"],[\"przekaz\"],[\"\\\\\\\"ulica\"],[\"zagranica\\\\\"],[\"dyscyplina\"],[\"warunkiem\"],[\"sportowcy\"],[\"ludzie\"],[\"wp\\u0142ywem\"],[\"alkoholu\"],[\"lawirowaniu\"],[\"Wypozyczeni\"],[\"Stal\"],[\"minuty\"],[\"Czasu\"],[\"wykonawc\\u00f3w\"],[\"pozycjach\"],[\"panowie\"],[\"kabaret\"],[\"mina\"],[\"styl\"],[\"\\u017cycia\"],[\"nogi\"],[\"azbest\"],[\"m\\u00f3zg\"],[\"deszcz\"],[\"grozy\"],[\"karku\"],[\"Minister\"],[\"przem\\u00f3wienie\"],[\"Wrona\"],[\"Tata\"],[\"ludzi\"],[\"szko\\u0142y\"],[\"pani\"],[\"chuju\"],[\"komuchami\"],[\"aspekt\"],[\"zako\\u0144czenia\"],[\"dnia\"],[\"babci\"],[\"REKLAM\\u0118\"],[\"\\\\\\\"Bardzo\"],[\"dziadk\\u00f3w\"],[\"sercu\"],[\"dziewczyna\"],[\"Krzy\\u017ce\"],[\"czasu\"],[\"kurwa\"],[\"wolno\\u015b\\u0107\"],[\"maskara\"],[\"pa\\u0144stwem\"],[\"pose\\u0142\"],[\"film\"],[\"liceum\"],[\"raz\"],[\"podstawie\"],[\"kamer\\u0105\"],[\"pistoletem\"],[\"s\\u0142owa\"],[\"skrzyd\\u0142o\"],[\"strony\"],[\"formie\"],[\"\\u015bwiata\"],[\"metr\\u00f3w\"],[\"konfesjona\\u0142\\u00f3w\"],[\"sprawa\"],[\"prostak\"],[\"\\u015bmierci\"],[\"sprawach\"],[\"o\\u015bwietlenia\"],[\"c\\u00f3rki\"],[\"okna\"],[\"kamieniami\"],[\"polityk\"],[\"s\\u0119dzin\\u0119\"],[\"gry\"],[\"genach\"],[\"wiatr\"],[\"g\\u0142owy\"],[\"Patryk\"],[\"wybory\"],[\"oczy\\u015bci\"],[\"stolic\\u0119\"],[\"UBECKICH\"],[\"funkcjonariuszy\"],[\"powietrze\"],[\"tarczy\"],[\"obiekt\"],[\"teledysku\"],[\"4funtv\"],[\"og\\u00f3le\"],[\"jaj\"],[\"lata\"],[\"pracy\"],[\"Sztuki\"],[\"Walki\"],[\"si\\u0142ownia\"],[\"zdj\\u0119ciu\"],[\"kibic\\u00f3w\"],[\"wpisy\"],[\"cz\\u0142owiekowi\"],[\"znaczenia\"],[\"ceny\"],[\"moda\"],[\"filmiki\"],[\"Twitterze\"],[\"pijta\"],[\"apteka\"],[\"dno\"],[\"skupmy\"],[\"Prezes\"],[\"razie\"],[\"fina\\u0142u\"],[\"fina\\u0142\"],[\"przysmaki\"],[\"ramach\"],[\"przekupstwa\"],[\"narracja\"],[\"obozu\"],[\"zmiany\\\\\"],[\"Uszczelnienie\"],[\"kapitanie\"],[\"futsal\"],[\"ekstraklasy\"],[\"rusi\"],[\"rzeszy\"],[\"kaczuszk\\u0119\"],[\"niedziele\"],[\"kibice\"],[\"zero\"],[\"reklamy\"],[\"konpromitacj\\u0105\"],[\"historii\"],[\"Pana\"],[\"udzia\\u0142\"],[\"obalaniu\"],[\"Premiera\"],[\"#\"],[\"jeju\"],[\"ulg\\u0119\"],[\"szok\"],[\"czas\"],[\"drzemk\\u0119\"],[\"czasu\"],[\"internecie\"],[\"powt\\u00f3rk\\u0119\"],[\"utrzymali\\u015bcie\"],[\"stoliku\"],[\"miejsca\"],[\"Pies\"],[\"czasem\"],[\"ksi\\u0105\\u017cki\"],[\"ch\\u0142opczyk\"],[\"problemami\"],[\"politycy\"],[\"Ja\"],[\"dm\"],[\"ligi\"],[\"dwumeczu\"],[\"dziewczynami\"],[\"\\u017cycie\"],[\"li\\u015bcie\"],[\"klei\\u0107\"],[\"przek\\u0142adzie\"],[\"Lisek\"],[\"tysi\\u0119cy\"],[\"egzemplarzy\"],[\"statystyk\"],[\"jezu\"],[\"os\\u00f3b\"],[\"roku\"],[\"#\"],[\"Internecie,\\\\nGdzie\"],[\"\\u015bmiecie\"],[\"zak\\u0142ad\"],[\"podanie\"],[\"brat\"],[\"rozgrzeszenie\"],[\"cz\\u0142owiekiem\"],[\"ludzmi\"],[\"raz\"],[\"przyjecia\"],[\"sadownictwa\"],[\"fakt\"],[\"kangurem\"],[\"glowy\"],[\"g\\u0142upek\"],[\"tytu\\u0142em\"],[\"w\\u015blizg\"],[\"\\u015bci\\u0105gni\\u0119cie\"],[\"parteru\"],[\"go\\u015bcia\"],[\"robiliscie\"],[\"\\\\\\\"Opowiadania\"],[\"odeskie\\\\\"],[\"interpretacji\"],[\"alkohol\"],[\"umiarem\"],[\"ilo\\u015bciach\"],[\"Perez\"],[\"przedstawienie\"],[\"cyrk\"],[\"maja\"],[\"wsparcie\"],[\"Pani\"],[\"parcie\"],[\"szklo\"],[\"efekt\"],[\"wie\\u015b\"],[\"lat\"],[\"z\\u0142odzieje\"],[\"malwersanci\"],[\"pokoju\"],[\"kandydat\"],[\"napastnika\"],[\"ligi\"],[\"Babcia\"],[\"ko\\u0144ca\"],[\"\\u015bwiata\"],[\"babci\\u0105\"],[\"szansa\"],[\"Lechia\"],[\"kibicom\"],[\"szaliki\"],[\"kibice\"],[\"Celtiku\"],[\"szmata\"],[\"r\\u00f3\\u017cnicy\"],[\"koniec\"],[\"kangurami\"],[\"misiem\"],[\"koala\"],[\"euro\"],[\"produkty\"],[\"screenami\"],[\"gwizdkiem\"],[\"banku\"],[\"konto\"],[\"polaka\"],[\"rad\\u0119\"],[\"prezesi\"],[\"trener\\u00f3w\"],[\"okiem\"],[\"akademiku\"],[\"perwersja\"],[\"sporcie\"],[\"okazj\\u0119\"],[\"rok\"],[\"ludzi\"],[\"minuty\"],[\"szacunkiem\"],[\"bandytyzm\"],[\"walka\"],[\"okazji\"],[\"pech\"],[\"niespodzianka\"],[\"wyboru\"],[\"pucharowiczami\"],[\"ust\"],[\"komplement\"],[\"Przemek\"],[\"minut\"],[\"og\\u0142oszenie\"],[\"prac\\u0119\"],[\"w\\u015blizg\"],[\"polu\"],[\"debiutant\"],[\"nogi\"],[\"pchni\\u0119cie\"],[\"pr\\u00f3ba\"],[\"zagrania\"],[\"pi\\u0142ki\"],[\"ko\\u0144cu\"],[\"mecz\"],[\"Ja\"],[\"s\\u0142owo\"],[\"mowa\"],[\"dupie\"],[\"akademikiem\"],[\"do\\u0142ku\"],[\"\\u017cyciu\"],[\"towar\"],[\"ugotowaniu\"],[\"argument\"],[\"sprawozdania\"],[\"deklaracje\"],[\"Problem\"],[\"m\\u0142odzie\\u017cowcem\"],[\"gole\"],[\"przerwy\"],[\"telewizji\"],[\"baca\"],[\"pas\"],[\"turyst\\u00f3w\"],[\"akceptacja\"],[\"cebula\"],[\"dziennikarstwo\"],[\"specjalno\\u015b\\u0107\"],[\"reklama\"],[\"promocja\"],[\"rzecznictwo\"],[\"cv\"],[\"zdj\\u0119cia\"],[\"fotogeniczno\\u015bci\\u0105\"],[\"determinacja\"],[\"kobieta\"],[\"kobiet\\u0119\"],[\"Mistrzowie\"],[\"bran\\u017ca\"],[\"mirda\"],[\"kube\\u0142\"],[\"w\\u015blizgami\"]],\"hovertemplate\":\"x=%{x}\\u003cbr\\u003ey=%{y}\\u003cbr\\u003etext=%{customdata[0]}\\u003cbr\\u003ecluster=%{marker.color}\\u003cextra\\u003e\\u003c\\u002fextra\\u003e\",\"legendgroup\":\"\",\"marker\":{\"color\":[22,22,14,9,14,-1,-1,14,12,18,19,-1,12,19,22,3,-1,-1,-1,-1,19,-1,5,-1,-1,-1,-1,-1,-1,-1,-1,-1,-1,-1,-1,2,-1,-1,9,-1,-1,8,15,-1,-1,-1,-1,22,-1,14,-1,-1,22,13,-1,9,-1,15,-1,-1,-1,-1,-1,18,-1,14,-1,-1,-1,8,19,-1,18,-1,-1,-1,-1,-1,11,9,22,22,-1,22,6,-1,-1,-1,-1,-1,-1,6,-1,16,-1,14,-1,-1,24,-1,-1,7,11,11,-1,24,22,-1,14,-1,-1,-1,-1,14,12,9,-1,-1,-1,-1,12,-1,15,21,7,-1,6,15,1,10,-1,10,-1,9,8,22,-1,16,-1,-1,12,19,19,3,-1,15,-1,-1,9,-1,8,9,17,9,-1,4,-1,-1,-1,23,-1,-1,22,7,-1,24,20,22,14,-1,9,-1,0,23,7,-1,-1,20,-1,9,-1,24,-1,-1,4,-1,3,-1,-1,6,6,-1,-1,6,9,24,-1,-1,19,-1,-1,9,-1,24,-1,5,24,7,-1,-1,8,7,5,24,18,-1,-1,-1,5,-1,7,24,-1,-1,9,-1,19,24,7,-1,-1,-1,9,-1,22,12,-1,22,-1,-1,-1,4,4,-1,-1,20,-1,24,-1,-1,-1,-1,22,4,22,6,24,9,16,-1,-1,24,-1,-1,-1,-1,-1,9,-1,9,24,0,18,16,20,24,17,-1,24,-1,12,11,24,-1,-1,-1,-1,8,8,9,24,24,7,1,0,0,1,-1,-1,24,24,3,24,2,11,0,9,7,9,-1,5,-1,9,-1,-1,5,24,-1,-1,24,2,-1,-1,-1,21,9,-1,-1,-1,24,24,-1,-1,-1,24,-1,-1,-1,-1,16,-1,9,-1,-1,-1,16,16,-1,13,-1,-1,-1,3,-1,7,-1,14,11,-1,-1,-1,21,-1,-1,6,12,-1,5,-1,-1,23,-1,24,2,13,-1,9,-1,-1,12,-1,3,6,-1,-1,-1,12,2,19,-1,-1,-1,7,-1,-1,23,7,13,-1,24,8,6,-1,-1,-1,-1,7,-1,24,24,23,17,6,-1,24,14,-1,0,-1,-1,24,-1,24,-1,-1,24,24,15,14,9,4,14,-1,12,-1,24,-1,-1,24,-1,-1,-1,-1,0,24,24,6,-1,21,13,-1,-1,-1,24,3,-1,-1,24,2,-1,24,24,18,9,-1,-1,17,16,-1,-1,-1,-1,9,16,-1,-1,1,-1,-1,-1,-1,-1,24,24,20,-1,-1,11,-1,-1,9,-1,-1,24,13,-1,9,7,3,0,-1,10,-1,17,6,24,-1,-1,-1,7,-1,-1,14,0,17,-1,-1,1,21,16,-1,-1,19,24,16,-1,-1,17,-1,0,2,1,10,7,-1,14,4,2,3,-1,9,7,12,-1,7,-1,24,-1,9,-1,3,-1,14,-1,8,-1,5,-1,7,6,6,12,4,24,-1,-1,-1,16,12,10,-1,-1,9,-1,19,24,-1,3,6,-1,-1,-1,2,7,-1,-1,7,7,7,24,24,-1,14,7,-1,14,24,7,24,9,-1],\"coloraxis\":\"coloraxis\",\"symbol\":\"circle\"},\"mode\":\"markers\",\"name\":\"\",\"orientation\":\"v\",\"showlegend\":false,\"x\":[1.3233129978179932,1.3233129978179932,33.06835174560547,-52.23122787475586,31.383867263793945,4.533960342407227,89.58390045166016,24.704708099365234,33.129032135009766,-22.85579490661621,-26.694110870361328,-19.145721435546875,43.24964904785156,-33.131263732910156,1.3233129978179932,3.162600040435791,-15.883360862731934,-34.125732421875,-16.480939865112305,41.84257507324219,-30.710594177246094,0.15709272027015686,-17.494754791259766,7.301206588745117,-15.146958351135254,-44.941734313964844,51.82672119140625,29.513853073120117,29.687108993530273,12.247136116027832,35.06824493408203,13.01563549041748,33.61932373046875,-3.568007230758667,-63.17145919799805,22.41625213623047,-31.385244369506836,-14.328705787658691,-36.83689880371094,28.238428115844727,-38.04499053955078,50.24375534057617,8.0626220703125,-61.782894134521484,-5.704971790313721,2.2320384979248047,51.378475189208984,1.3233129978179932,-21.749120712280273,29.389163970947266,-7.207446575164795,-24.97336196899414,1.3233129978179932,-23.421979904174805,-16.390905380249023,-61.078094482421875,-18.290849685668945,3.9661760330200195,-8.965227127075195,18.030353546142578,-11.517561912536621,-3.122415781021118,-5.258023738861084,-22.927452087402344,-4.591909408569336,29.096893310546875,37.59210205078125,-22.479978561401367,-62.58628463745117,51.041988372802734,-32.02588653564453,21.905969619750977,-24.045469284057617,-20.711585998535156,-58.82919692993164,-46.253631591796875,0.5086246728897095,-0.38949719071388245,57.94879913330078,-34.433250427246094,1.3233129978179932,1.3233129978179932,-46.35186004638672,1.3233129978179932,-19.33249855041504,26.90535545349121,-24.63262939453125,-37.77804946899414,44.84777069091797,99.28414916992188,56.690067291259766,-13.14620304107666,-39.814476013183594,14.93564510345459,-15.554701805114746,27.25606918334961,61.69449234008789,10.548687934875488,4.428946495056152,5.2569780349731445,-24.50078773498535,17.221839904785156,53.283138275146484,52.46427917480469,-13.883832931518555,-3.102234363555908,1.3233129978179932,-51.79841995239258,32.36050033569336,-24.507617950439453,7.668528079986572,-33.34934616088867,34.98506164550781,19.731435775756836,30.875253677368164,-50.797279357910156,-7.812632083892822,20.773324966430664,-17.117008209228516,19.53261947631836,48.88251495361328,37.59210205078125,3.137594699859619,-5.593624591827393,13.774646759033203,26.9195556640625,-12.607995986938477,4.068536758422852,-20.55599021911621,40.62962341308594,11.807575225830078,41.39116287231445,-5.7484869956970215,-41.22154235839844,50.85777282714844,1.3233129978179932,-27.136110305786133,20.925443649291992,27.660568237304688,16.879953384399414,37.436195373535156,-25.159141540527344,-27.918367385864258,-2.660259962081909,13.107699394226074,4.854477882385254,-51.79841995239258,-8.035865783691406,-53.30031967163086,23.700719833374023,50.24375534057617,-46.05259704589844,1.7477103471755981,-57.43415069580078,12.262333869934082,-56.23236846923828,-12.93333911895752,-38.13960647583008,10.031998634338379,9.30981731414795,-36.58747863769531,40.77729415893555,1.3233129978179932,11.869973182678223,14.21076774597168,-6.35919189453125,19.80452537536621,1.3233129978179932,26.38263511657715,-6.879620552062988,-50.431007385253906,41.930259704589844,-4.714460372924805,5.613602638244629,17.593820571899414,-11.262959480285645,8.694182395935059,22.73298454284668,43.59798049926758,-51.292850494384766,48.06678771972656,2.5062739849090576,-6.376075744628906,-40.38485336303711,-56.23236846923828,-2.9720659255981445,0.06000341475009918,-36.58747863769531,27.1605281829834,-19.722763061523438,-20.330724716186523,14.93458080291748,57.89479446411133,-20.330724716186523,-49.0504264831543,-6.895359992980957,38.899452209472656,-36.22186279296875,-30.672636032104492,6.2724995613098145,-22.937503814697266,-53.25493240356445,6.317669868469238,-1.6380720138549805,44.09754180908203,-10.961038589477539,-5.339878082275391,12.102272987365723,-8.346597671508789,32.04059600830078,46.66063690185547,14.140198707580566,-7.984901428222656,-7.992835521697998,-21.224878311157227,13.591078758239746,42.931697845458984,27.002561569213867,-17.494754791259766,-0.7826802134513855,11.426005363464355,-3.224891424179077,-29.810274124145508,13.166972160339355,-53.28270721435547,-10.389124870300293,-29.016490936279297,-10.068782806396484,11.340118408203125,18.13581657409668,-16.236127853393555,41.96238708496094,-45.98359680175781,27.1605281829834,1.3233129978179932,44.43636703491211,-6.930899620056152,1.3233129978179932,-30.806644439697266,31.718242645263672,-26.455970764160156,-62.1788330078125,-62.1788330078125,26.785259246826172,25.314985275268555,20.61144256591797,31.5493221282959,-7.944979190826416,-36.8889045715332,-36.115509033203125,35.89255142211914,13.469592094421387,1.3233129978179932,-58.25824737548828,1.3233129978179932,-19.33249855041504,-5.620630264282227,-50.77962112426758,18.810792922973633,-48.01000213623047,-64.3483657836914,0.6924324631690979,-11.363065719604492,12.808952331542969,2.659803628921509,-0.8236610293388367,-33.479530334472656,-48.81982421875,-16.65949249267578,-44.525413513183594,4.405455112457275,-7.997630596160889,-20.339763641357422,17.680885314941406,21.05024528503418,-1.9442424774169922,2.240732431411743,4.577595233917236,-3.224891424179077,-31.998620986938477,28.444459915161133,55.81849670410156,-3.951479434967041,-15.89307689666748,-1.3144601583480835,40.746028900146484,57.89479446411133,56.38280487060547,50.24375534057617,-52.907447814941406,5.1057820320129395,2.302699565887451,19.786407470703125,-21.79851531982422,-5.932378768920898,-9.125640869140625,-23.593591690063477,-30.755441665649414,52.53993606567383,6.662356376647949,4.699450492858887,-0.5892558693885803,7.321470737457275,22.4732608795166,54.556304931640625,-8.75661563873291,-43.2641487121582,10.058992385864258,-56.42903518676758,-33.34934616088867,-14.417113304138184,-29.10938835144043,-53.368099212646484,-17.509126663208008,18.283733367919922,-12.210404396057129,0.277717262506485,-32.4294548034668,45.14300537109375,7.859706401824951,22.461956024169922,25.781475067138672,32.473548889160156,0.5264986753463745,-1.8211956024169922,-57.314117431640625,-54.725704193115234,-11.95431900024414,4.661171913146973,-7.970361232757568,-1.6051381826400757,5.675495147705078,43.91373825073242,30.435199737548828,-6.6565704345703125,-12.10614013671875,4.352415561676025,20.859111785888672,-14.278377532958984,16.542985916137695,31.5493221282959,-46.818782806396484,29.2055721282959,-3.122415781021118,-59.26182174682617,21.640287399291992,19.271467208862305,-26.569244384765625,-26.432025909423828,-14.303690910339355,9.863564491271973,20.957134246826172,7.537670135498047,8.5986328125,12.442703247070312,-38.18021011352539,16.608739852905273,56.90266418457031,-18.303363800048828,3.443631410598755,-12.132290840148926,-3.0298192501068115,7.434056758880615,23.558435440063477,-19.722763061523438,50.418601989746094,-16.714746475219727,-7.984901428222656,-34.125732421875,-16.480939865112305,10.118183135986328,23.906436920166016,9.932550430297852,19.943159103393555,-23.164033889770508,14.11598014831543,-55.30064392089844,14.637250900268555,15.418347358703613,48.88251495361328,-18.395164489746094,1.406044363975525,-20.302936553955078,-11.51159954071045,-12.690118789672852,70.41107177734375,32.606685638427734,25.514019012451172,-29.70779037475586,50.37552261352539,23.179750442504883,-34.533233642578125,17.070220947265625,-24.062583923339844,36.776878356933594,9.619712829589844,21.936748504638672,-24.426128387451172,14.896463394165039,-3.7233476638793945,50.24375534057617,-11.977819442749023,-41.57075881958008,-26.244951248168945,14.21076774597168,-1.0741878747940063,14.998306274414062,35.51363754272461,-2.8408877849578857,7.941437721252441,7.143492698669434,-4.03469181060791,-20.1416015625,-36.099422454833984,-2.131380319595337,29.18442153930664,38.0888671875,-2.0624895095825195,-45.14595031738281,-12.812458038330078,-4.689587593078613,-14.699870109558105,2.1954033374786377,-39.609344482421875,53.33219909667969,2.7747597694396973,6.5596747398376465,5.641281604766846,32.539146423339844,-42.90510559082031,-60.64458465576172,27.947120666503906,-12.10614013671875,48.21199417114258,25.28127670288086,0.12416554242372513,37.27031326293945,-13.682760238647461,2.468636989593506,1.1132668256759644,-15.127028465270996,-49.975765228271484,-3.4610888957977295,-8.159809112548828,-5.714204788208008,5.6038618087768555,-20.361740112304688,-8.708495140075684,-3.9259114265441895,-24.8048152923584,33.044883728027344,-12.103514671325684,61.69449234008789,-4.809008598327637,4.382500171661377,14.095205307006836,56.690067291259766,7.332868576049805,19.995914459228516,43.578590393066406,-2.4340434074401855,4.910974502563477,-23.030656814575195,-57.4126091003418,18.257732391357422,-47.99270248413086,1.6832741498947144,16.98963165283203,-3.0043184757232666,-3.122415781021118,-9.996826171875,14.320939064025879,-50.01628112792969,17.291484832763672,-5.690895080566406,-32.44743347167969,-22.225563049316406,-45.875186920166016,13.312914848327637,-10.208074569702148,-16.569242477416992,11.288269996643066,7.703454494476318,-0.003887683153152466,19.409265518188477,-28.903148651123047,2.918231725692749,57.861305236816406,-1.800639271736145,20.988544464111328,-45.17027282714844,-7.207446575164795,-24.5233154296875,5.710874080657959,-24.404136657714844,-17.220678329467773,-61.078094482421875,7.757312297821045,6.505790710449219,-10.936100006103516,-3.2390787601470947,38.22911071777344,8.252507209777832,-1.8154058456420898,-20.361740112304688,0.3056289553642273,-36.58747863769531,20.957134246826172,34.66786575317383,16.168598175048828,78.58851623535156,-6.281513214111328,21.96660614013672,-2.0624895095825195,1.825329303741455,5.695137977600098,18.151025772094727,-23.934009552001953,-3.8471264839172363,18.200334548950195,-85.87026977539062,13.094358444213867,-29.131290435791016,9.333184242248535,22.264060974121094,37.73076248168945,35.63306427001953,5.061255931854248,10.096708297729492,-5.031177520751953,25.352313995361328,-20.821208953857422,39.73078536987305,16.09941864013672,46.713478088378906,34.46575164794922,-59.64676284790039,22.461956024169922,-0.5892558693885803,21.819541931152344,-38.35806655883789,13.831036567687988,37.314659118652344,-51.67584991455078,10.005428314208984,10.526657104492188,0.15649059414863586,30.144948959350586,-45.00059127807617,-36.519962310791016,5.641485214233398,19.719280242919922,31.67891502380371,-44.92778778076172,56.38280487060547,-41.96151351928711,-14.417113304138184,-12.83405590057373,12.95485782623291,-17.149839401245117,-20.303951263427734,43.24964904785156,-56.23236846923828,-0.5019962191581726,-27.66277503967285,8.96660327911377,43.52196502685547,19.11604118347168,42.60912322998047,44.699703216552734,-37.10549545288086,28.073543548583984,-49.52946853637695,-32.857582092285156,-31.379106521606445,9.37472152709961,7.38052225112915,-3.2707934379577637,-22.581275939941406,-10.657591819763184,-68.98025512695312,-45.15976333618164,24.844972610473633,18.58479881286621,9.993904113769531,29.92072105407715,21.320404052734375,19.03656578063965,20.50824546813965,11.33907413482666,4.756494045257568,-23.2810001373291,21.96872901916504,17.488311767578125,29.2980899810791,26.175962448120117,2.508561849594116,22.062604904174805,10.317757606506348,-34.90763473510742,-4.528282642364502],\"xaxis\":\"x\",\"y\":[-0.7108421921730042,-0.7108421921730042,24.401561737060547,7.957057476043701,16.863832473754883,-50.72026824951172,5.939713478088379,8.462141036987305,-6.731318950653076,-16.434249877929688,-14.940204620361328,7.2565484046936035,-6.87012243270874,-10.709758758544922,-0.7108421921730042,-60.199562072753906,0.5230457186698914,-34.2775764465332,-13.801648139953613,14.03170394897461,-14.019392967224121,-16.000919342041016,27.755489349365234,-36.3150634765625,8.811026573181152,21.853073120117188,-8.772690773010254,26.581918716430664,28.43509292602539,-25.754638671875,-23.30768585205078,-26.58461570739746,5.107198715209961,-34.92606735229492,11.207358360290527,-49.63330078125,-25.59100914001465,-24.786365509033203,22.097312927246094,1.4620494842529297,19.707475662231445,-28.643564224243164,24.103351593017578,6.556032180786133,-21.271591186523438,15.40153694152832,16.143083572387695,-0.7108421921730042,-0.6621391177177429,19.035053253173828,-52.392974853515625,30.49563217163086,-0.7108421921730042,21.189210891723633,-4.490073204040527,15.144579887390137,-6.084936141967773,20.411813735961914,-24.518009185791016,-39.521175384521484,-34.3043098449707,40.64148712158203,-19.252944946289062,-22.053041458129883,10.001097679138184,8.738736152648926,-42.591529846191406,-7.032322883605957,12.691822052001953,-32.35902786254883,-18.636493682861328,27.335886001586914,-20.796918869018555,0.42046257853507996,19.63720703125,-27.754003524780273,-43.099098205566406,-44.97548294067383,2.745089292526245,10.857659339904785,-0.7108421921730042,-0.7108421921730042,-43.5864143371582,-0.7108421921730042,-54.05315399169922,-35.95683670043945,23.604482650756836,9.769128799438477,28.24352264404297,53.62676239013672,26.638050079345703,-37.14522171020508,29.69448471069336,-13.76540756225586,-20.854734420776367,13.135218620300293,-12.800108909606934,-24.417207717895508,4.511676788330078,-34.6722526550293,6.189272880554199,39.215431213378906,-0.5660986304283142,1.8004531860351562,16.79458999633789,-2.1114399433135986,-0.7108421921730042,-16.000614166259766,14.546460151672363,13.294720649719238,16.708602905273438,-46.13948440551758,-3.7580394744873047,19.736108779907227,-9.624192237854004,11.5100679397583,-13.180374145507812,-22.140762329101562,-24.96964454650879,-38.346805572509766,-6.346305847167969,-42.591529846191406,25.063587188720703,20.09563636779785,39.89922332763672,35.568756103515625,-35.76346206665039,22.228294372558594,40.81681823730469,-15.646793365478516,16.79688835144043,-19.576452255249023,16.80215072631836,19.336894989013672,-24.793319702148438,-0.7108421921730042,5.082151412963867,-18.478302001953125,0.43369680643081665,-10.148056030273438,-7.466597080230713,-11.642187118530273,-7.6113600730896,-64.45816040039062,7.229928016662598,25.27461051940918,-16.000614166259766,-41.99027633666992,10.909045219421387,74.10273742675781,-28.643564224243164,12.608702659606934,-23.90696144104004,8.37983512878418,12.402887344360352,-11.11086654663086,-24.473270416259766,6.424479961395264,-12.201128959655762,11.023550987243652,49.00517272949219,-24.38165855407715,-0.7108421921730042,36.60341262817383,-33.280521392822266,-9.642864227294922,1.392695426940918,-0.7108421921730042,25.339942932128906,-14.963292121887207,5.331472396850586,1.8910439014434814,53.39514923095703,9.8555269241333,42.53108215332031,-0.10093863308429718,-16.99394416809082,-2.2401678562164307,26.485403060913086,2.1228079795837402,-19.597267150878906,3.4011752605438232,14.048456192016602,33.28577423095703,-11.11086654663086,-36.84955978393555,-60.58127975463867,49.00517272949219,-27.38718032836914,-36.03340530395508,-50.63690948486328,-21.202327728271484,-15.583624839782715,-50.63690948486328,14.91240119934082,-5.131054878234863,36.68988800048828,100.86810302734375,-17.94205093383789,-17.27052116394043,-25.7443904876709,16.590490341186523,-16.273456573486328,2.6408627033233643,3.231999397277832,36.697288513183594,-3.085667610168457,40.10647964477539,12.970356941223145,-17.805530548095703,-28.29514503479004,31.642969131469727,31.208444595336914,7.675444602966309,-14.924721717834473,29.53260040283203,25.532777786254883,-7.817603588104248,27.755489349365234,12.209059715270996,44.41387176513672,0.5044384002685547,-1.9080359935760498,-4.229466915130615,14.769222259521484,-19.478912353515625,-9.72327709197998,-7.683722019195557,50.93185806274414,-4.048590183258057,5.665326118469238,12.987632751464844,6.062039375305176,-27.38718032836914,-0.7108421921730042,-7.806342601776123,-22.925464630126953,-0.7108421921730042,-23.519681930541992,5.92018985748291,2.2520577907562256,-3.46686053276062,-3.46686053276062,-24.259681701660156,37.51581954956055,-1.3211385011672974,-61.961578369140625,-2.3522791862487793,33.20339584350586,29.41958236694336,-31.0661678314209,0.3161866366863251,-0.7108421921730042,-8.464166641235352,-0.7108421921730042,-54.05315399169922,-0.848301112651825,-0.008275946602225304,-19.32524871826172,-29.08099365234375,-3.677151918411255,-13.635392189025879,-8.752396583557129,-40.99338912963867,32.8416633605957,93.79014587402344,-20.953306198120117,8.837020874023438,3.031263589859009,5.837698936462402,-3.9152958393096924,55.55553436279297,-19.004165649414062,-22.241365432739258,1.497238039970398,-6.19569730758667,-19.719886779785156,-12.502008438110352,0.5044384002685547,21.212732315063477,-9.441204071044922,-1.2778538465499878,3.3626699447631836,10.648324966430664,-17.07316780090332,3.5141706466674805,-15.583624839782715,-26.239309310913086,-28.643564224243164,12.339119911193848,6.734469890594482,5.716513633728027,41.971839904785156,46.24348449707031,53.87263870239258,53.438499450683594,45.328670501708984,5.149988174438477,14.22948932647705,3.865861415863037,-6.339730262756348,-62.480594635009766,-7.345414161682129,-47.86574172973633,0.8995054960250854,49.378170013427734,10.102533340454102,42.05628967285156,13.035663604736328,-46.13948440551758,34.24995803833008,8.39737606048584,4.304045677185059,19.781795501708984,16.00404930114746,36.199039459228516,-5.1026692390441895,-1.5406447649002075,-80.38240051269531,-0.6596726775169373,-52.64702224731445,-35.92105484008789,47.7990837097168,32.917205810546875,19.516395568847656,15.416362762451172,72.23780822753906,20.756572723388672,-32.136756896972656,0.6562508940696716,-3.829869508743286,-30.67719841003418,-13.872511863708496,47.81497573852539,3.996473550796509,24.961166381835938,30.959897994995117,29.592313766479492,3.3800714015960693,-17.891897201538086,-61.961578369140625,11.674651145935059,-35.89896011352539,40.64148712158203,21.753604888916016,-12.487380027770996,-10.728737831115723,-2.613128423690796,17.081127166748047,-27.233562469482422,-36.19168472290039,-29.81171989440918,-59.78662872314453,-10.99072265625,48.81842041015625,31.28986358642578,15.009946823120117,3.5617613792419434,10.811347961425781,-32.83781433105469,14.885848999023438,16.064844131469727,-43.36844253540039,19.207887649536133,-36.03340530395508,-3.5355043411254883,19.077425003051758,31.208444595336914,-34.2775764465332,-13.801648139953613,14.627243041992188,24.67818260192871,0.9142230749130249,-49.5167121887207,15.862939834594727,1.939653992652893,8.798164367675781,21.438703536987305,23.093029022216797,-6.346305847167969,1.5986278057098389,-64.19005584716797,-33.231197357177734,-4.108524799346924,-19.29443359375,71.94583129882812,-9.874650955200195,-49.4495849609375,-11.055154800415039,17.84231948852539,3.0256145000457764,-15.170087814331055,46.662681579589844,-9.966196060180664,-2.672443389892578,13.985109329223633,49.34053039550781,17.315715789794922,6.8055901527404785,-4.622652053833008,-28.643564224243164,-39.611427307128906,-0.049385275691747665,-21.60250473022461,-33.280521392822266,-24.006053924560547,42.0842399597168,-21.850465774536133,-8.517667770385742,-2.98172926902771,13.413765907287598,-32.77431869506836,-45.06970977783203,-74.07551574707031,4.917710304260254,17.123414993286133,35.943790435791016,55.112857818603516,-42.110504150390625,-10.201991081237793,5.93147087097168,-63.91008758544922,-9.71183967590332,-0.25486165285110474,12.288348197937012,8.119251251220703,-4.859339714050293,26.411041259765625,21.777746200561523,15.857194900512695,-1.0555928945541382,15.292352676391602,24.961166381835938,-9.590496063232422,10.138392448425293,8.39080810546875,-13.993513107299805,11.966487884521484,-5.026938438415527,12.662369728088379,-9.139217376708984,-1.0888574123382568,25.117172241210938,51.6224479675293,1.6683764457702637,0.0911489725112915,-47.15913391113281,-41.179447174072266,22.35784912109375,11.711153984069824,-2.7906999588012695,8.596817016601562,-12.800108909606934,-6.771917343139648,-51.715728759765625,-54.95436477661133,26.638050079345703,1.6622495651245117,-53.805992126464844,-27.21262550354004,7.467975616455078,-8.892060279846191,-17.635072708129883,6.788424015045166,10.162895202636719,-2.355414867401123,-21.45686149597168,-20.117752075195312,23.13520622253418,40.64148712158203,4.101842403411865,-5.5661091804504395,20.565671920776367,-13.247217178344727,30.653322219848633,32.765411376953125,42.911338806152344,-9.595573425292969,27.9741268157959,13.634637832641602,13.462841033935547,6.707173824310303,6.177518367767334,5.9327592849731445,-2.657090425491333,6.047898292541504,13.430684089660645,-0.7566758394241333,-46.370567321777344,9.429125785827637,10.126317977905273,-52.392974853515625,31.390369415283203,-2.164456605911255,21.01229476928711,-3.960117816925049,15.144579887390137,41.43056106567383,-62.084224700927734,53.85287857055664,-12.300670623779297,-19.238615036010742,-44.533355712890625,-28.509151458740234,-47.15913391113281,3.7119903564453125,49.00517272949219,-29.81171989440918,11.551416397094727,49.35958480834961,-80.09280395507812,-29.316665649414062,15.618635177612305,55.112857818603516,-26.22633934020996,34.41764450073242,2.8480536937713623,42.29362869262695,18.051008224487305,-12.44826602935791,-44.24296188354492,-54.3851432800293,-22.1925106048584,-5.126890182495117,-15.498873710632324,-25.694503784179688,-32.10138702392578,-23.580848693847656,23.342947006225586,51.191864013671875,-46.92998504638672,43.392066955566406,-17.799562454223633,38.5394172668457,-19.320114135742188,20.29212760925293,-6.700931072235107,-52.64702224731445,-62.480594635009766,-7.537833213806152,18.547775268554688,44.81111145019531,-9.394219398498535,-3.00834321975708,45.536842346191406,-17.3463077545166,-7.385712146759033,-18.037601470947266,19.805519104003906,-34.3382453918457,-60.887901306152344,9.071475982666016,24.726829528808594,-9.941875457763672,-26.239309310913086,-3.4772756099700928,34.24995803833008,-17.1962833404541,51.474205017089844,-35.88595962524414,-39.249820709228516,-6.87012243270874,-11.11086654663086,-9.787199020385742,-1.213615894317627,52.039459228515625,-0.15295223891735077,-14.831137657165527,-9.943711280822754,-15.266365051269531,7.395197868347168,-11.659590721130371,18.875125885009766,-7.2377495765686035,-8.95766830444336,3.536478042602539,-23.717679977416992,-60.580135345458984,-35.77431869506836,-12.566102981567383,-16.05253791809082,3.5985569953918457,-51.15644454956055,37.42900085449219,-82.64442443847656,6.669750213623047,39.76797866821289,44.86772918701172,46.0270881652832,-8.210489273071289,2.20395827293396,-9.041245460510254,17.81781768798828,35.41919708251953,47.89161682128906,19.365434646606445,-7.254491806030273,43.08711624145508,-1.9295880794525146,16.79644012451172,-30.404539108276367],\"yaxis\":\"y\",\"type\":\"scatter\"}],                        {\"template\":{\"data\":{\"histogram2dcontour\":[{\"type\":\"histogram2dcontour\",\"colorbar\":{\"outlinewidth\":0,\"ticks\":\"\"},\"colorscale\":[[0.0,\"#0d0887\"],[0.1111111111111111,\"#46039f\"],[0.2222222222222222,\"#7201a8\"],[0.3333333333333333,\"#9c179e\"],[0.4444444444444444,\"#bd3786\"],[0.5555555555555556,\"#d8576b\"],[0.6666666666666666,\"#ed7953\"],[0.7777777777777778,\"#fb9f3a\"],[0.8888888888888888,\"#fdca26\"],[1.0,\"#f0f921\"]]}],\"choropleth\":[{\"type\":\"choropleth\",\"colorbar\":{\"outlinewidth\":0,\"ticks\":\"\"}}],\"histogram2d\":[{\"type\":\"histogram2d\",\"colorbar\":{\"outlinewidth\":0,\"ticks\":\"\"},\"colorscale\":[[0.0,\"#0d0887\"],[0.1111111111111111,\"#46039f\"],[0.2222222222222222,\"#7201a8\"],[0.3333333333333333,\"#9c179e\"],[0.4444444444444444,\"#bd3786\"],[0.5555555555555556,\"#d8576b\"],[0.6666666666666666,\"#ed7953\"],[0.7777777777777778,\"#fb9f3a\"],[0.8888888888888888,\"#fdca26\"],[1.0,\"#f0f921\"]]}],\"heatmap\":[{\"type\":\"heatmap\",\"colorbar\":{\"outlinewidth\":0,\"ticks\":\"\"},\"colorscale\":[[0.0,\"#0d0887\"],[0.1111111111111111,\"#46039f\"],[0.2222222222222222,\"#7201a8\"],[0.3333333333333333,\"#9c179e\"],[0.4444444444444444,\"#bd3786\"],[0.5555555555555556,\"#d8576b\"],[0.6666666666666666,\"#ed7953\"],[0.7777777777777778,\"#fb9f3a\"],[0.8888888888888888,\"#fdca26\"],[1.0,\"#f0f921\"]]}],\"heatmapgl\":[{\"type\":\"heatmapgl\",\"colorbar\":{\"outlinewidth\":0,\"ticks\":\"\"},\"colorscale\":[[0.0,\"#0d0887\"],[0.1111111111111111,\"#46039f\"],[0.2222222222222222,\"#7201a8\"],[0.3333333333333333,\"#9c179e\"],[0.4444444444444444,\"#bd3786\"],[0.5555555555555556,\"#d8576b\"],[0.6666666666666666,\"#ed7953\"],[0.7777777777777778,\"#fb9f3a\"],[0.8888888888888888,\"#fdca26\"],[1.0,\"#f0f921\"]]}],\"contourcarpet\":[{\"type\":\"contourcarpet\",\"colorbar\":{\"outlinewidth\":0,\"ticks\":\"\"}}],\"contour\":[{\"type\":\"contour\",\"colorbar\":{\"outlinewidth\":0,\"ticks\":\"\"},\"colorscale\":[[0.0,\"#0d0887\"],[0.1111111111111111,\"#46039f\"],[0.2222222222222222,\"#7201a8\"],[0.3333333333333333,\"#9c179e\"],[0.4444444444444444,\"#bd3786\"],[0.5555555555555556,\"#d8576b\"],[0.6666666666666666,\"#ed7953\"],[0.7777777777777778,\"#fb9f3a\"],[0.8888888888888888,\"#fdca26\"],[1.0,\"#f0f921\"]]}],\"surface\":[{\"type\":\"surface\",\"colorbar\":{\"outlinewidth\":0,\"ticks\":\"\"},\"colorscale\":[[0.0,\"#0d0887\"],[0.1111111111111111,\"#46039f\"],[0.2222222222222222,\"#7201a8\"],[0.3333333333333333,\"#9c179e\"],[0.4444444444444444,\"#bd3786\"],[0.5555555555555556,\"#d8576b\"],[0.6666666666666666,\"#ed7953\"],[0.7777777777777778,\"#fb9f3a\"],[0.8888888888888888,\"#fdca26\"],[1.0,\"#f0f921\"]]}],\"mesh3d\":[{\"type\":\"mesh3d\",\"colorbar\":{\"outlinewidth\":0,\"ticks\":\"\"}}],\"scatter\":[{\"fillpattern\":{\"fillmode\":\"overlay\",\"size\":10,\"solidity\":0.2},\"type\":\"scatter\"}],\"parcoords\":[{\"type\":\"parcoords\",\"line\":{\"colorbar\":{\"outlinewidth\":0,\"ticks\":\"\"}}}],\"scatterpolargl\":[{\"type\":\"scatterpolargl\",\"marker\":{\"colorbar\":{\"outlinewidth\":0,\"ticks\":\"\"}}}],\"bar\":[{\"error_x\":{\"color\":\"#2a3f5f\"},\"error_y\":{\"color\":\"#2a3f5f\"},\"marker\":{\"line\":{\"color\":\"#E5ECF6\",\"width\":0.5},\"pattern\":{\"fillmode\":\"overlay\",\"size\":10,\"solidity\":0.2}},\"type\":\"bar\"}],\"scattergeo\":[{\"type\":\"scattergeo\",\"marker\":{\"colorbar\":{\"outlinewidth\":0,\"ticks\":\"\"}}}],\"scatterpolar\":[{\"type\":\"scatterpolar\",\"marker\":{\"colorbar\":{\"outlinewidth\":0,\"ticks\":\"\"}}}],\"histogram\":[{\"marker\":{\"pattern\":{\"fillmode\":\"overlay\",\"size\":10,\"solidity\":0.2}},\"type\":\"histogram\"}],\"scattergl\":[{\"type\":\"scattergl\",\"marker\":{\"colorbar\":{\"outlinewidth\":0,\"ticks\":\"\"}}}],\"scatter3d\":[{\"type\":\"scatter3d\",\"line\":{\"colorbar\":{\"outlinewidth\":0,\"ticks\":\"\"}},\"marker\":{\"colorbar\":{\"outlinewidth\":0,\"ticks\":\"\"}}}],\"scattermapbox\":[{\"type\":\"scattermapbox\",\"marker\":{\"colorbar\":{\"outlinewidth\":0,\"ticks\":\"\"}}}],\"scatterternary\":[{\"type\":\"scatterternary\",\"marker\":{\"colorbar\":{\"outlinewidth\":0,\"ticks\":\"\"}}}],\"scattercarpet\":[{\"type\":\"scattercarpet\",\"marker\":{\"colorbar\":{\"outlinewidth\":0,\"ticks\":\"\"}}}],\"carpet\":[{\"aaxis\":{\"endlinecolor\":\"#2a3f5f\",\"gridcolor\":\"white\",\"linecolor\":\"white\",\"minorgridcolor\":\"white\",\"startlinecolor\":\"#2a3f5f\"},\"baxis\":{\"endlinecolor\":\"#2a3f5f\",\"gridcolor\":\"white\",\"linecolor\":\"white\",\"minorgridcolor\":\"white\",\"startlinecolor\":\"#2a3f5f\"},\"type\":\"carpet\"}],\"table\":[{\"cells\":{\"fill\":{\"color\":\"#EBF0F8\"},\"line\":{\"color\":\"white\"}},\"header\":{\"fill\":{\"color\":\"#C8D4E3\"},\"line\":{\"color\":\"white\"}},\"type\":\"table\"}],\"barpolar\":[{\"marker\":{\"line\":{\"color\":\"#E5ECF6\",\"width\":0.5},\"pattern\":{\"fillmode\":\"overlay\",\"size\":10,\"solidity\":0.2}},\"type\":\"barpolar\"}],\"pie\":[{\"automargin\":true,\"type\":\"pie\"}]},\"layout\":{\"autotypenumbers\":\"strict\",\"colorway\":[\"#636efa\",\"#EF553B\",\"#00cc96\",\"#ab63fa\",\"#FFA15A\",\"#19d3f3\",\"#FF6692\",\"#B6E880\",\"#FF97FF\",\"#FECB52\"],\"font\":{\"color\":\"#2a3f5f\"},\"hovermode\":\"closest\",\"hoverlabel\":{\"align\":\"left\"},\"paper_bgcolor\":\"white\",\"plot_bgcolor\":\"#E5ECF6\",\"polar\":{\"bgcolor\":\"#E5ECF6\",\"angularaxis\":{\"gridcolor\":\"white\",\"linecolor\":\"white\",\"ticks\":\"\"},\"radialaxis\":{\"gridcolor\":\"white\",\"linecolor\":\"white\",\"ticks\":\"\"}},\"ternary\":{\"bgcolor\":\"#E5ECF6\",\"aaxis\":{\"gridcolor\":\"white\",\"linecolor\":\"white\",\"ticks\":\"\"},\"baxis\":{\"gridcolor\":\"white\",\"linecolor\":\"white\",\"ticks\":\"\"},\"caxis\":{\"gridcolor\":\"white\",\"linecolor\":\"white\",\"ticks\":\"\"}},\"coloraxis\":{\"colorbar\":{\"outlinewidth\":0,\"ticks\":\"\"}},\"colorscale\":{\"sequential\":[[0.0,\"#0d0887\"],[0.1111111111111111,\"#46039f\"],[0.2222222222222222,\"#7201a8\"],[0.3333333333333333,\"#9c179e\"],[0.4444444444444444,\"#bd3786\"],[0.5555555555555556,\"#d8576b\"],[0.6666666666666666,\"#ed7953\"],[0.7777777777777778,\"#fb9f3a\"],[0.8888888888888888,\"#fdca26\"],[1.0,\"#f0f921\"]],\"sequentialminus\":[[0.0,\"#0d0887\"],[0.1111111111111111,\"#46039f\"],[0.2222222222222222,\"#7201a8\"],[0.3333333333333333,\"#9c179e\"],[0.4444444444444444,\"#bd3786\"],[0.5555555555555556,\"#d8576b\"],[0.6666666666666666,\"#ed7953\"],[0.7777777777777778,\"#fb9f3a\"],[0.8888888888888888,\"#fdca26\"],[1.0,\"#f0f921\"]],\"diverging\":[[0,\"#8e0152\"],[0.1,\"#c51b7d\"],[0.2,\"#de77ae\"],[0.3,\"#f1b6da\"],[0.4,\"#fde0ef\"],[0.5,\"#f7f7f7\"],[0.6,\"#e6f5d0\"],[0.7,\"#b8e186\"],[0.8,\"#7fbc41\"],[0.9,\"#4d9221\"],[1,\"#276419\"]]},\"xaxis\":{\"gridcolor\":\"white\",\"linecolor\":\"white\",\"ticks\":\"\",\"title\":{\"standoff\":15},\"zerolinecolor\":\"white\",\"automargin\":true,\"zerolinewidth\":2},\"yaxis\":{\"gridcolor\":\"white\",\"linecolor\":\"white\",\"ticks\":\"\",\"title\":{\"standoff\":15},\"zerolinecolor\":\"white\",\"automargin\":true,\"zerolinewidth\":2},\"scene\":{\"xaxis\":{\"backgroundcolor\":\"#E5ECF6\",\"gridcolor\":\"white\",\"linecolor\":\"white\",\"showbackground\":true,\"ticks\":\"\",\"zerolinecolor\":\"white\",\"gridwidth\":2},\"yaxis\":{\"backgroundcolor\":\"#E5ECF6\",\"gridcolor\":\"white\",\"linecolor\":\"white\",\"showbackground\":true,\"ticks\":\"\",\"zerolinecolor\":\"white\",\"gridwidth\":2},\"zaxis\":{\"backgroundcolor\":\"#E5ECF6\",\"gridcolor\":\"white\",\"linecolor\":\"white\",\"showbackground\":true,\"ticks\":\"\",\"zerolinecolor\":\"white\",\"gridwidth\":2}},\"shapedefaults\":{\"line\":{\"color\":\"#2a3f5f\"}},\"annotationdefaults\":{\"arrowcolor\":\"#2a3f5f\",\"arrowhead\":0,\"arrowwidth\":1},\"geo\":{\"bgcolor\":\"white\",\"landcolor\":\"#E5ECF6\",\"subunitcolor\":\"white\",\"showland\":true,\"showlakes\":true,\"lakecolor\":\"white\"},\"title\":{\"x\":0.05},\"mapbox\":{\"style\":\"light\"}}},\"xaxis\":{\"anchor\":\"y\",\"domain\":[0.0,1.0],\"title\":{\"text\":\"x\"}},\"yaxis\":{\"anchor\":\"x\",\"domain\":[0.0,1.0],\"title\":{\"text\":\"y\"}},\"coloraxis\":{\"colorbar\":{\"title\":{\"text\":\"cluster\"}},\"colorscale\":[[0.0,\"#0d0887\"],[0.1111111111111111,\"#46039f\"],[0.2222222222222222,\"#7201a8\"],[0.3333333333333333,\"#9c179e\"],[0.4444444444444444,\"#bd3786\"],[0.5555555555555556,\"#d8576b\"],[0.6666666666666666,\"#ed7953\"],[0.7777777777777778,\"#fb9f3a\"],[0.8888888888888888,\"#fdca26\"],[1.0,\"#f0f921\"]]},\"legend\":{\"tracegroupgap\":0},\"title\":{\"text\":\"HDBSCAN\"}},                        {\"responsive\": true}                    ).then(function(){\n",
       "                            \n",
       "var gd = document.getElementById('ce16baea-674c-43ed-bb1f-76a75fda1104');\n",
       "var x = new MutationObserver(function (mutations, observer) {{\n",
       "        var display = window.getComputedStyle(gd).display;\n",
       "        if (!display || display === 'none') {{\n",
       "            console.log([gd, 'removed!']);\n",
       "            Plotly.purge(gd);\n",
       "            observer.disconnect();\n",
       "        }}\n",
       "}});\n",
       "\n",
       "// Listen for the removal of the full notebook cells\n",
       "var notebookContainer = gd.closest('#notebook-container');\n",
       "if (notebookContainer) {{\n",
       "    x.observe(notebookContainer, {childList: true});\n",
       "}}\n",
       "\n",
       "// Listen for the clearing of the current output cell\n",
       "var outputEl = gd.closest('.output');\n",
       "if (outputEl) {{\n",
       "    x.observe(outputEl, {childList: true});\n",
       "}}\n",
       "\n",
       "                        })                };                });            </script>        </div>"
      ]
     },
     "metadata": {},
     "output_type": "display_data"
    }
   ],
   "source": [
    "import hdbscan\n",
    "\n",
    "clusterer = hdbscan.HDBSCAN(min_cluster_size=5)\n",
    "df_tsne['cluster'] = clusterer.fit_predict(X_embedded)\n",
    "\n",
    "fig = px.scatter(df_tsne, x='x', y='y', color='cluster', hover_data=['text'], title='HDBSCAN')\n",
    "fig.show()"
   ]
  }
 ],
 "metadata": {
  "kernelspec": {
   "display_name": "Python 3 (ipykernel)",
   "language": "python",
   "name": "python3"
  },
  "language_info": {
   "codemirror_mode": {
    "name": "ipython",
    "version": 3
   },
   "file_extension": ".py",
   "mimetype": "text/x-python",
   "name": "python",
   "nbconvert_exporter": "python",
   "pygments_lexer": "ipython3",
   "version": "3.11.10"
  }
 },
 "nbformat": 4,
 "nbformat_minor": 5
}
