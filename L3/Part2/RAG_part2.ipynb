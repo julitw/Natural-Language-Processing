{
 "cells": [
  {
   "cell_type": "code",
   "execution_count": 2,
   "metadata": {},
   "outputs": [
    {
     "name": "stderr",
     "output_type": "stream",
     "text": [
      "/home/iza/Desktop/Studia/sem2/nlp/NLP/.venv/lib/python3.10/site-packages/tqdm/auto.py:21: TqdmWarning: IProgress not found. Please update jupyter and ipywidgets. See https://ipywidgets.readthedocs.io/en/stable/user_install.html\n",
      "  from .autonotebook import tqdm as notebook_tqdm\n"
     ]
    }
   ],
   "source": [
    "from langchain.vectorstores import FAISS\n",
    "from langchain.docstore.in_memory import InMemoryDocstore\n",
    "from langchain.schema import Document\n",
    "import faiss\n",
    "import numpy as np\n",
    "from datasets import load_dataset\n",
    "from transformers import AutoTokenizer, AutoModel\n",
    "import torch\n",
    "\n"
   ]
  },
  {
   "cell_type": "code",
   "execution_count": null,
   "metadata": {},
   "outputs": [
    {
     "name": "stdout",
     "output_type": "stream",
     "text": [
      "Dostępne modele: {'data': [{'id': 'bielik', 'full_name': 'speakleash/Bielik-11B-v2.2-Instruct', 'name': 'speakleash/Bielik-11B-v2.2-Instruct'}, {'id': 'cohere', 'full_name': 'CohereForAI/c4ai-command-r-plus', 'name': 'CohereForAI/c4ai-command-r-plus'}, {'id': 'claude-haiku', 'full_name': 'claude-3-haiku-20240307', 'name': 'claude-3-haiku-20240307'}, {'id': 'gpt-3.5', 'full_name': 'gpt-3.5-turbo-0125', 'name': 'gpt-3.5-turbo-0125'}, {'id': 'gpt-4o', 'full_name': 'gpt-4o-2024-08-06', 'name': 'gpt-4o-2024-08-06'}, {'id': 'claude-sonnet', 'full_name': 'claude-3-5-sonnet-20240620', 'name': 'claude-3-5-sonnet-20240620'}, {'id': 'gpt-4o-mini', 'full_name': 'gpt-4o-mini-2024-07-18', 'name': 'gpt-4o-mini-2024-07-18'}, {'id': 'claude-opus', 'full_name': 'claude-3-opus-20240229', 'name': 'claude-3-opus-20240229'}, {'id': 'llama3.1-8b', 'full_name': 'meta-llama/Llama-3.1-8B-Instruct', 'name': 'meta-llama/Llama-3.1-8B-Instruct'}, {'id': 'llama', 'full_name': 'meta-llama/Meta-Llama-3.1-70B-Instruct', 'name': 'meta-llama/Meta-Llama-3.1-70B-Instruct'}, {'id': 'llama-guard', 'full_name': 'meta-llama/Llama-Guard-3-8B', 'name': 'meta-llama/Llama-Guard-3-8B'}, {'id': 'llama3.1', 'full_name': 'meta-llama/Meta-Llama-3.1-70B-Instruct', 'name': 'meta-llama/Meta-Llama-3.1-70B-Instruct'}, {'id': 'openchat', 'full_name': 'openchat/openchat-3.5-1210', 'name': 'openchat/openchat-3.5-1210'}, {'id': 'mixtral-8x22B', 'full_name': 'mistralai/Mixtral-8x22B-Instruct-v0.1', 'name': 'mistralai/Mixtral-8x22B-Instruct-v0.1'}]}\n"
     ]
    }
   ],
   "source": [
    "import requests\n",
    "\n",
    "# Endpointy API\n",
    "base_url = \"https://services.clarin-pl.eu/api/v1/oapi\"\n",
    "models_endpoint = f\"{base_url}/models\"\n",
    "completion_endpoint = f\"{base_url}/chat/completions\"\n",
    "\n",
    "api_key = \"\"\n",
    "\n",
    "# Pobranie listy modeli\n",
    "headers = {\"Authorization\": f\"Bearer {api_key}\"}\n",
    "response = requests.get(models_endpoint, headers=headers)\n",
    "if response.status_code == 200:\n",
    "    models = response.json()\n",
    "    print(\"Dostępne modele:\", models)\n",
    "else:\n",
    "    print(\"Nie udało się pobrać modeli:\", response.text)\n"
   ]
  },
  {
   "cell_type": "code",
   "execution_count": 5,
   "metadata": {},
   "outputs": [],
   "source": [
    "# Załaduj dane IMDB\n",
    "imdb_data = load_dataset(\"stanfordnlp/imdb\", split=\"train[:1000]\")\n",
    "# imdb_data['text'][0]\n",
    "# imdb_data\n"
   ]
  },
  {
   "cell_type": "code",
   "execution_count": 6,
   "metadata": {},
   "outputs": [],
   "source": [
    "# Tokenizer i model\n",
    "model_ckpt = \"sentence-transformers/multi-qa-mpnet-base-dot-v1\"\n",
    "tokenizer = AutoTokenizer.from_pretrained(model_ckpt)\n",
    "model = AutoModel.from_pretrained(model_ckpt).to(\"cuda\")\n"
   ]
  },
  {
   "cell_type": "code",
   "execution_count": 7,
   "metadata": {},
   "outputs": [],
   "source": [
    "# Funkcja do generowania osadzeń w partiach (batchach)\n",
    "def get_embeddings_batch(text_list, batch_size=16):\n",
    "    all_embeddings = []\n",
    "    for i in range(0, len(text_list), batch_size):\n",
    "        batch = text_list[i:i+batch_size]\n",
    "        encoded = tokenizer(batch, truncation=True, padding=True, return_tensors=\"pt\").to(\"cuda\")\n",
    "        with torch.no_grad():\n",
    "            embeddings = model(**encoded).last_hidden_state[:, 0].cpu().numpy()\n",
    "        all_embeddings.append(embeddings)\n",
    "    return np.vstack(all_embeddings)\n",
    "\n",
    "\n",
    "# Generowanie osadzeń dla tekstów IMDB (przetwarzanie partiami)\n",
    "texts = imdb_data[\"text\"]\n",
    "embeddings = get_embeddings_batch(texts)\n"
   ]
  },
  {
   "cell_type": "code",
   "execution_count": 8,
   "metadata": {},
   "outputs": [],
   "source": [
    "# Tworzenie FAISS Index\n",
    "dimension = embeddings.shape[1]\n",
    "index = faiss.IndexFlatL2(dimension)\n",
    "index.add(np.array(embeddings))\n",
    "\n",
    "#dodanie do datasetu\n",
    "imdb_data = imdb_data.add_column(\"embeddings\", embeddings.tolist())  \n",
    "# imdb_data.add_faiss_index(column=\"embeddings\")  \n"
   ]
  },
  {
   "cell_type": "code",
   "execution_count": 9,
   "metadata": {},
   "outputs": [
    {
     "name": "stdout",
     "output_type": "stream",
     "text": [
      "Najbliższe wyniki: [[373 268 297 272 285]]\n"
     ]
    }
   ],
   "source": [
    "# Wyszukiwanie semantyczne z FAISS\n",
    "query = \"Which movie has the best plot twists?\"\n",
    "query_embedding = get_embeddings_batch([query])\n",
    "distances, indices = index.search(query_embedding, k=5)\n",
    "print(\"Najbliższe wyniki:\", indices)"
   ]
  },
  {
   "cell_type": "code",
   "execution_count": 10,
   "metadata": {},
   "outputs": [
    {
     "name": "stdout",
     "output_type": "stream",
     "text": [
      "Najbliższe recenzje filmów:\n",
      "1. You'd better choose Paul Verhoeven's even if you have watched it.\n",
      "\n",
      "2. The worst movie I have seen in a while. Yeah its fun to fantasize, but if that is what you are looking for, I suggest you see Brewsters Millions. This was just terrible and corny and terrible at being corny. Unless you are five or like terrible movies, don't see this one.\n",
      "\n",
      "3. This movie is so bad, I knew how it ends right after this little girl killed the first person. Very bad acting very bad plot very bad movie<br /><br />do yourself a favour and DON'T watch it 1/10\n",
      "\n",
      "4. A young boy comes into a lot of money and promptly begins to live it up. Unfortunately, the man whose money it really is happens to be very bad. He wants his loot back. When he discovers who has the bucks, he begins trying to get it back. He keeps getting foiled by this little kid who is just lucky enough to keep from falling into the evil man's hands. Sounds familiar, I'll bet. Very predictable, not interesting at all. Come up with something a bit different, ok guys?\n",
      "\n",
      "5. Look carefully at the wonderful assortment of talent put together to make this movie: Connery, Fishburne, Capshaw, Harris, Underwood, Beatty, Thigpen, even cameos by Slezak, Lange, and Plimpton. They prove, in spades, the adage that a good cast cannot save a bad script. The story line requires so many leaps of faith from the audience that its implausibility should have exceeded even Hollywood standards. It's not particularly original, and the \"twists\" are downright cruel.\n",
      "\n"
     ]
    }
   ],
   "source": [
    "nearest_indices = indices[0]  # Indeksy najbliższych wyników\n",
    "\n",
    "nearest_reviews = [imdb_data[\"text\"][i] for i in nearest_indices]\n",
    "\n",
    "print(\"Najbliższe recenzje filmów:\")\n",
    "for idx, review in enumerate(nearest_reviews, 1):\n",
    "    print(f\"{idx}. {review}\\n\")\n"
   ]
  },
  {
   "cell_type": "markdown",
   "metadata": {},
   "source": [
    "### Langchain"
   ]
  },
  {
   "cell_type": "code",
   "execution_count": 11,
   "metadata": {},
   "outputs": [
    {
     "name": "stderr",
     "output_type": "stream",
     "text": [
      "`embedding_function` is expected to be an Embeddings object, support for passing in a function will soon be removed.\n"
     ]
    }
   ],
   "source": [
    "# Funkcja do konwersji tekstów na dokumenty LangChain\n",
    "def convert_texts_to_documents(texts):\n",
    "    return [Document(page_content=text) for text in texts]\n",
    "\n",
    "# Tworzenie FAISS Index dla LangChain\n",
    "def build_faiss_index(embeddings, texts):\n",
    "    # Zamiana tekstów na obiekty Document\n",
    "    documents = convert_texts_to_documents(texts)\n",
    "    \n",
    "    # Tworzenie docstore i mapowania ID\n",
    "    docstore = InMemoryDocstore({str(i): doc for i, doc in enumerate(documents)})\n",
    "    index_to_docstore_id = {i: str(i) for i in range(len(documents))}\n",
    "    \n",
    "    # Tworzenie FAISS Index\n",
    "    dimension = embeddings.shape[1]\n",
    "    faiss_index = faiss.IndexFlatL2(dimension)  # Tworzenie indeksu wektorowego\n",
    "    faiss_index.add(np.array(embeddings))      # Dodanie osadzeń\n",
    "    \n",
    "    # Zwracanie FAISS index z LangChain\n",
    "    return FAISS(embedding_function=None, index=faiss_index, docstore=docstore, index_to_docstore_id=index_to_docstore_id)\n",
    "\n",
    "# Budowa indeksu FAISS\n",
    "vectorstore = build_faiss_index(embeddings, imdb_data[\"text\"])\n",
    "\n",
    "# Funkcja do wyszukiwania dokumentów\n",
    "def search_faiss(query, k=5):\n",
    "    query_embedding = get_embeddings_batch([query])\n",
    "    docs = vectorstore.similarity_search_by_vector(query_embedding[0], k=k)\n",
    "    return docs\n",
    "\n",
    "# Generacja odpowiedzi z API\n",
    "def fetch_response_from_api(prompt, model_id=\"gpt-4o-mini\"):\n",
    "    payload = {\n",
    "        \"model\": model_id,\n",
    "        \"messages\": [{\"role\": \"user\", \"content\": prompt}],\n",
    "        \"temperature\": 0.7,\n",
    "        \"max_tokens\": 300,\n",
    "    }\n",
    "    headers = {\"Authorization\": f\"Bearer {api_key}\"}\n",
    "    response = requests.post(completion_endpoint, json=payload, headers=headers)\n",
    "    if response.status_code == 200:\n",
    "        return response.json()[\"choices\"][0][\"message\"][\"content\"]\n",
    "    else:\n",
    "        print(\"API Error:\", response.text)\n",
    "        return \"Error in fetching response from the model.\"\n",
    "\n",
    "# Tworzenie promptu\n",
    "def create_prompt(query, documents):\n",
    "    prompt_template = \"\"\"\n",
    "    Please answer the following question based on the provided document\n",
    "\n",
    "    Question: {question}\n",
    "    Retrieved Documents: {documents}\n",
    "\n",
    "    Answer:\"\"\"\n",
    "    docs_content = \"\\n\".join([doc.page_content for doc in documents])\n",
    "    return prompt_template.format(question=query, documents=docs_content)\n",
    "\n",
    "# Główna funkcja RAG\n",
    "def rag_pipeline(query, k=5):\n",
    "    retrieved_docs = search_faiss(query, k=k)\n",
    "    prompt = create_prompt(query, retrieved_docs)\n",
    "    answer = fetch_response_from_api(prompt)\n",
    "    return answer\n"
   ]
  },
  {
   "cell_type": "markdown",
   "metadata": {},
   "source": [
    "# Ogólne pytania"
   ]
  },
  {
   "cell_type": "code",
   "execution_count": 62,
   "metadata": {},
   "outputs": [
    {
     "name": "stdout",
     "output_type": "stream",
     "text": [
      "Final Answer: The best horror movies mentioned in the document include classics such as \"Carrie,\" \"Friday the 13th,\" \"Halloween,\" \"Scream,\" and \"Scary Movie.\" These films are recommended for their engaging plots, original twists, and ability to provide genuine scares, contrasting significantly with the low-quality films criticized in the text. Other notable classics referenced are \"Dracula,\" \"Frankenstein,\" \"Freaks,\" \"The Golem,\" and \"The Ghost Train,\" which are highlighted for their historical significance and contribution to the horror genre.\n"
     ]
    }
   ],
   "source": [
    "query = \"Which are the best horror movies?\"\n",
    "answer = rag_pipeline(query)\n",
    "print(\"Final Answer:\", answer)"
   ]
  },
  {
   "cell_type": "code",
   "execution_count": 63,
   "metadata": {},
   "outputs": [
    {
     "name": "stdout",
     "output_type": "stream",
     "text": [
      "Final Answer: Based on the provided document, some classic films that are mentioned and recommended for viewing include:\n",
      "\n",
      "1. **\"Star 80\"** - Though not universally praised, it is noted for its intriguing subject matter.\n",
      "2. **\"Paper Moon\"** - Recommended as a film that can be watched repeatedly.\n",
      "3. **\"The Last Picture Show\"** - Also suggested as a film deserving multiple viewings.\n",
      "4. **\"Animal House\"** - A classic sophomoric comedy that is highly regarded.\n",
      "5. **\"Caddyshack\"** - Another classic comedy featuring notable performances by Rodney Dangerfield and Bill Murray.\n",
      "\n",
      "These films represent a mix of genres and are considered significant in their contributions to cinema.\n"
     ]
    }
   ],
   "source": [
    "query = \"What are some classic films everyone should watch?\"\n",
    "answer = rag_pipeline(query)\n",
    "print(\"Final Answer:\", answer)"
   ]
  },
  {
   "cell_type": "markdown",
   "metadata": {},
   "source": [
    "# Abstrakcyjne pytania"
   ]
  },
  {
   "cell_type": "code",
   "execution_count": null,
   "metadata": {},
   "outputs": [
    {
     "name": "stdout",
     "output_type": "stream",
     "text": [
      "Final Answer: The document does not explicitly mention specific movies that discuss the complexity of human emotions. However, it does critique \"The Color Purple,\" suggesting that it attempts to explore themes related to human emotions, particularly through the experiences of the characters in the context of racism, sexism, and relationships. The document criticizes the film for its portrayal of these themes and the way it handles emotional narratives. Therefore, while the document may not provide a clear list of movies, \"The Color Purple\" can be inferred as a film that engages with complex human emotions, albeit in a controversial manner.\n"
     ]
    }
   ],
   "source": [
    "query = \"Which movies discuss the complexity of human emotions?\"\n",
    "answer = rag_pipeline(query)\n",
    "print(\"Final Answer:\", answer)"
   ]
  },
  {
   "cell_type": "code",
   "execution_count": null,
   "metadata": {},
   "outputs": [
    {
     "name": "stdout",
     "output_type": "stream",
     "text": [
      "Final Answer: The movies that explore the struggles of family relationships based on the provided document include:\n",
      "\n",
      "1. **The film featuring Rosanna Arquette** - This movie depicts the volatile relationship between a mother and her daughter, who has a history of violence and an obsessive bond with her mother, leading to tragic outcomes.\n",
      "\n",
      "2. **The film with Dennis Quaid and Arliss Howard** - This film focuses on the estrangement between two brothers, highlighting their childhood differences and the strain in their relationship, with a romantic interest caught in the middle.\n",
      "\n",
      "3. **The dysfunctional family holiday film** - This movie portrays a dysfunctional family that comes together for the holidays, resulting in chaos and violence, reflecting the underlying tensions in family dynamics.\n",
      "\n",
      "These films all delve into complex family relationships and the struggles that arise within them.\n"
     ]
    }
   ],
   "source": [
    "query = \"Which movies explore the struggles of family relationships?\"\n",
    "answer = rag_pipeline(query)\n",
    "print(\"Final Answer:\", answer)"
   ]
  },
  {
   "cell_type": "code",
   "execution_count": null,
   "metadata": {},
   "outputs": [
    {
     "name": "stdout",
     "output_type": "stream",
     "text": [
      "Final Answer: The provided document does not contain any inspiring movies for students. Instead, it focuses on critiques of poorly made films, highlighting their shortcomings and lack of originality. If you're looking for inspiring movies for students, consider classics such as \"Dead Poets Society,\" \"The Pursuit of Happyness,\" \"Freedom Writers,\" or \"A Beautiful Mind,\" which explore themes of perseverance, creativity, and personal growth.\n"
     ]
    }
   ],
   "source": [
    "query = \"What are some inspiring movies for students?\"\n",
    "answer = rag_pipeline(query)\n",
    "print(\"Final Answer:\", answer)"
   ]
  },
  {
   "cell_type": "markdown",
   "metadata": {},
   "source": [
    "# Pytania konkretne/szczegółowe"
   ]
  },
  {
   "cell_type": "code",
   "execution_count": 65,
   "metadata": {},
   "outputs": [
    {
     "name": "stdout",
     "output_type": "stream",
     "text": [
      "Final Answer: The document does not explicitly mention any specific movies set in space. It mainly discusses the poor quality of a movie called \"Mysterious Planet\" and includes some general commentary about other films without identifying those that are set in space. Therefore, based on the provided content, it is not possible to provide a list of movies set in space.\n"
     ]
    }
   ],
   "source": [
    "query = \"Which movies are set in space?\"\n",
    "answer = rag_pipeline(query)\n",
    "print(\"Final Answer:\", answer)"
   ]
  },
  {
   "cell_type": "code",
   "execution_count": 66,
   "metadata": {},
   "outputs": [
    {
     "name": "stdout",
     "output_type": "stream",
     "text": [
      "Final Answer: The movie mentioned in the document that takes place in New York City is \"New York, I Love You.\" The text discusses various segments of the film and critiques its portrayal of the city, indicating that it is set primarily in Manhattan.\n"
     ]
    }
   ],
   "source": [
    "query = \"What movies take place in New York City?\"\n",
    "answer = rag_pipeline(query)\n",
    "print(\"Final Answer:\", answer)"
   ]
  },
  {
   "cell_type": "code",
   "execution_count": null,
   "metadata": {},
   "outputs": [
    {
     "name": "stdout",
     "output_type": "stream",
     "text": [
      "Final Answer: The provided document does not explicitly mention any movies with strong female protagonists. Instead, it critiques various films, highlighting their shortcomings and the portrayal of female characters. If you're looking for films that feature strong female protagonists, you might consider titles like \"Wonder Woman,\" \"Mad Max: Fury Road,\" \"The Hunger Games,\" \"Frozen,\" or \"Hidden Figures,\" which are known for having powerful female leads.\n"
     ]
    }
   ],
   "source": [
    "query = \"Which movies have strong female protagonists?\"\n",
    "answer = rag_pipeline(query)\n",
    "print(\"Final Answer:\", answer)"
   ]
  },
  {
   "cell_type": "code",
   "execution_count": null,
   "metadata": {},
   "outputs": [
    {
     "name": "stdout",
     "output_type": "stream",
     "text": [
      "Final Answer: The only movie mentioned that is set in the 19th century is \"A River Runs Through It.\"\n"
     ]
    }
   ],
   "source": [
    "query = \"Which movies are set in the 19th century?\"\n",
    "answer = rag_pipeline(query)\n",
    "print(\"Final Answer:\", answer)"
   ]
  },
  {
   "cell_type": "code",
   "execution_count": null,
   "metadata": {},
   "outputs": [
    {
     "name": "stdout",
     "output_type": "stream",
     "text": [
      "Final Answer: The document does not explicitly mention any specific movies set in the 20th century. However, it does reference the movie \"The Shining,\" which was released in 1980 and is set in the 20th century. Other classic horror films mentioned, such as \"Dracula\" and \"Frankenstein,\" are also set in the 20th century.\n"
     ]
    }
   ],
   "source": [
    "query = \"Which movies are set in the 20th century?\"\n",
    "answer = rag_pipeline(query)\n",
    "print(\"Final Answer:\", answer)"
   ]
  },
  {
   "cell_type": "code",
   "execution_count": null,
   "metadata": {},
   "outputs": [
    {
     "name": "stdout",
     "output_type": "stream",
     "text": [
      "Final Answer: The main theme of 'Friday the 13th', as inferred from the provided document, revolves around the critique of poor filmmaking in the horror genre. Reviewers express their disappointment with the film's clichéd plot, lackluster acting, and overall execution, suggesting that it fails to deliver the suspense and thrills typically expected from horror movies. The consensus indicates that the film is lacking in originality, creativity, and effective scares, leading to a negative viewing experience.\n"
     ]
    }
   ],
   "source": [
    "query = \"What is the main theme of 'Friday the 13th'?\"\n",
    "answer = rag_pipeline(query)\n",
    "print(\"Final Answer:\", answer)"
   ]
  },
  {
   "cell_type": "code",
   "execution_count": null,
   "metadata": {},
   "outputs": [
    {
     "name": "stdout",
     "output_type": "stream",
     "text": [
      "Final Answer: The main plot of 'Scream' is not explicitly detailed in the retrieved documents, but based on general knowledge, 'Scream' revolves around a masked killer who targets high school students in a small town, using horror movie tropes to commit murders. The story follows a group of friends, particularly the protagonist, as they navigate the terror while trying to uncover the identity of the killer. The film is known for its self-referential humor and commentary on the horror genre.\n"
     ]
    }
   ],
   "source": [
    "query = \"What is the main plot in 'Scream'?\"\n",
    "answer = rag_pipeline(query)\n",
    "print(\"Final Answer:\", answer)"
   ]
  },
  {
   "cell_type": "markdown",
   "metadata": {},
   "source": [
    "**Odpowiedzi na pytania ogólne** - zawierają ogólne rekomendacje filmów, ale mogą być subiektywne i nie zawsze pełne, w zależności od kontekstu i źródła.\n",
    "\n",
    "**Odpowiedzi na pytania abstrakcyjne** - wiele odpowiedzi wskazuje na brak danych w dokumencie, sugerując filmy powszechnie uznawane za inspirujące, ale wymagające dodatkowego kontekstu.\n",
    "\n",
    "**Odpowiedzi na pytania szczegółowe** - często brakuje wystarczających danych w źródle, co utrudnia udzielenie dokładnej odpowiedzi. Odpowiedzi mogą być subiektywne lub ogólne.\n",
    "\n",
    "**Czyli ogolnie** - brak pełnych odpowiedzi wynika z ograniczonego źródła danych. RAG może działać dobrze w przypadku ogólnych pytań, ale wymaga bardziej szczegółowych danych do precyzyjnych odpowiedzi."
   ]
  }
 ],
 "metadata": {
  "kernelspec": {
   "display_name": ".venv",
   "language": "python",
   "name": "python3"
  },
  "language_info": {
   "codemirror_mode": {
    "name": "ipython",
    "version": 3
   },
   "file_extension": ".py",
   "mimetype": "text/x-python",
   "name": "python",
   "nbconvert_exporter": "python",
   "pygments_lexer": "ipython3",
   "version": "3.10.12"
  }
 },
 "nbformat": 4,
 "nbformat_minor": 2
}
