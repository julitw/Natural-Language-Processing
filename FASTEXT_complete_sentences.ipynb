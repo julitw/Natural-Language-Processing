{
 "cells": [
  {
   "cell_type": "code",
   "execution_count": 76,
   "metadata": {},
   "outputs": [],
   "source": [
    "import fasttext\n",
    "import pandas as pd\n",
    "import re\n",
    "\n",
    "from sklearn.manifold import TSNE\n",
    "import plotly.express as px\n",
    "import numpy as np\n",
    "import plotly.graph_objects as go\n",
    "import matplotlib.pyplot as plt\n",
    "import statsmodels.stats.inter_rater as irr\n",
    "import seaborn as sns"
   ]
  },
  {
   "cell_type": "code",
   "execution_count": 56,
   "metadata": {},
   "outputs": [],
   "source": [
    "\n",
    "model = fasttext.load_model('/home/julita/Desktop/semestr2/NLP/cc.pl.300.bin')"
   ]
  },
  {
   "cell_type": "code",
   "execution_count": 57,
   "metadata": {},
   "outputs": [
    {
     "data": {
      "text/html": [
       "<div>\n",
       "<style scoped>\n",
       "    .dataframe tbody tr th:only-of-type {\n",
       "        vertical-align: middle;\n",
       "    }\n",
       "\n",
       "    .dataframe tbody tr th {\n",
       "        vertical-align: top;\n",
       "    }\n",
       "\n",
       "    .dataframe thead th {\n",
       "        text-align: right;\n",
       "    }\n",
       "</style>\n",
       "<table border=\"1\" class=\"dataframe\">\n",
       "  <thead>\n",
       "    <tr style=\"text-align: right;\">\n",
       "      <th></th>\n",
       "      <th>text</th>\n",
       "      <th>label1</th>\n",
       "      <th>label2</th>\n",
       "      <th>label3</th>\n",
       "      <th>LABEL</th>\n",
       "      <th>1. Sarkazm uszczypliwy, dokuczliwy -&gt; mowa nienawiści</th>\n",
       "    </tr>\n",
       "  </thead>\n",
       "  <tbody>\n",
       "    <tr>\n",
       "      <th>0</th>\n",
       "      <td>Dla mnie faworytem do tytułu będzie Cracovia. ...</td>\n",
       "      <td>0.0</td>\n",
       "      <td>0.0</td>\n",
       "      <td>0.0</td>\n",
       "      <td>0</td>\n",
       "      <td>NaN</td>\n",
       "    </tr>\n",
       "    <tr>\n",
       "      <th>1</th>\n",
       "      <td>@anonymized_account @anonymized_account Brawo ...</td>\n",
       "      <td>0.0</td>\n",
       "      <td>0.0</td>\n",
       "      <td>0.0</td>\n",
       "      <td>0</td>\n",
       "      <td>NaN</td>\n",
       "    </tr>\n",
       "    <tr>\n",
       "      <th>2</th>\n",
       "      <td>@anonymized_account @anonymized_account Super,...</td>\n",
       "      <td>1.0</td>\n",
       "      <td>0.0</td>\n",
       "      <td>1.0</td>\n",
       "      <td>1</td>\n",
       "      <td>Kolumna Label</td>\n",
       "    </tr>\n",
       "    <tr>\n",
       "      <th>3</th>\n",
       "      <td>@anonymized_account @anonymized_account Musi. ...</td>\n",
       "      <td>0.0</td>\n",
       "      <td>0.0</td>\n",
       "      <td>0.0</td>\n",
       "      <td>0</td>\n",
       "      <td>201-300 Iza</td>\n",
       "    </tr>\n",
       "    <tr>\n",
       "      <th>4</th>\n",
       "      <td>Odrzut natychmiastowy, kwaśna mina, mam problem</td>\n",
       "      <td>0.0</td>\n",
       "      <td>0.0</td>\n",
       "      <td>0.0</td>\n",
       "      <td>0</td>\n",
       "      <td>301-400 Julita</td>\n",
       "    </tr>\n",
       "    <tr>\n",
       "      <th>...</th>\n",
       "      <td>...</td>\n",
       "      <td>...</td>\n",
       "      <td>...</td>\n",
       "      <td>...</td>\n",
       "      <td>...</td>\n",
       "      <td>...</td>\n",
       "    </tr>\n",
       "    <tr>\n",
       "      <th>10036</th>\n",
       "      <td>@anonymized_account Ty zagrasz? Nie wiedziałem 😉</td>\n",
       "      <td>NaN</td>\n",
       "      <td>NaN</td>\n",
       "      <td>NaN</td>\n",
       "      <td>NaN</td>\n",
       "      <td>NaN</td>\n",
       "    </tr>\n",
       "    <tr>\n",
       "      <th>10037</th>\n",
       "      <td>@anonymized_account @anonymized_account A VAR ...</td>\n",
       "      <td>NaN</td>\n",
       "      <td>NaN</td>\n",
       "      <td>NaN</td>\n",
       "      <td>NaN</td>\n",
       "      <td>NaN</td>\n",
       "    </tr>\n",
       "    <tr>\n",
       "      <th>10038</th>\n",
       "      <td>@anonymized_account @anonymized_account Szanow...</td>\n",
       "      <td>NaN</td>\n",
       "      <td>NaN</td>\n",
       "      <td>NaN</td>\n",
       "      <td>NaN</td>\n",
       "      <td>NaN</td>\n",
       "    </tr>\n",
       "    <tr>\n",
       "      <th>10039</th>\n",
       "      <td>@anonymized_account @anonymized_account @anony...</td>\n",
       "      <td>NaN</td>\n",
       "      <td>NaN</td>\n",
       "      <td>NaN</td>\n",
       "      <td>NaN</td>\n",
       "      <td>NaN</td>\n",
       "    </tr>\n",
       "    <tr>\n",
       "      <th>10040</th>\n",
       "      <td>@anonymized_account A wróżbita Maciej mówi że ...</td>\n",
       "      <td>NaN</td>\n",
       "      <td>NaN</td>\n",
       "      <td>NaN</td>\n",
       "      <td>NaN</td>\n",
       "      <td>NaN</td>\n",
       "    </tr>\n",
       "  </tbody>\n",
       "</table>\n",
       "<p>10041 rows × 6 columns</p>\n",
       "</div>"
      ],
      "text/plain": [
       "                                                    text  label1  label2  \\\n",
       "0      Dla mnie faworytem do tytułu będzie Cracovia. ...     0.0     0.0   \n",
       "1      @anonymized_account @anonymized_account Brawo ...     0.0     0.0   \n",
       "2      @anonymized_account @anonymized_account Super,...     1.0     0.0   \n",
       "3      @anonymized_account @anonymized_account Musi. ...     0.0     0.0   \n",
       "4        Odrzut natychmiastowy, kwaśna mina, mam problem     0.0     0.0   \n",
       "...                                                  ...     ...     ...   \n",
       "10036   @anonymized_account Ty zagrasz? Nie wiedziałem 😉     NaN     NaN   \n",
       "10037  @anonymized_account @anonymized_account A VAR ...     NaN     NaN   \n",
       "10038  @anonymized_account @anonymized_account Szanow...     NaN     NaN   \n",
       "10039  @anonymized_account @anonymized_account @anony...     NaN     NaN   \n",
       "10040  @anonymized_account A wróżbita Maciej mówi że ...     NaN     NaN   \n",
       "\n",
       "       label3 LABEL 1. Sarkazm uszczypliwy, dokuczliwy -> mowa nienawiści  \n",
       "0         0.0     0                                                NaN     \n",
       "1         0.0     0                                                NaN     \n",
       "2         1.0     1                                      Kolumna Label     \n",
       "3         0.0     0                                        201-300 Iza     \n",
       "4         0.0     0                                     301-400 Julita     \n",
       "...       ...   ...                                                ...     \n",
       "10036     NaN   NaN                                                NaN     \n",
       "10037     NaN   NaN                                                NaN     \n",
       "10038     NaN   NaN                                                NaN     \n",
       "10039     NaN   NaN                                                NaN     \n",
       "10040     NaN   NaN                                                NaN     \n",
       "\n",
       "[10041 rows x 6 columns]"
      ]
     },
     "execution_count": 57,
     "metadata": {},
     "output_type": "execute_result"
    }
   ],
   "source": [
    "df = pd.read_excel('cyberbullying_train_complete_sentences.xlsx', sheet_name='Superanotator')\n",
    "df"
   ]
  },
  {
   "cell_type": "code",
   "execution_count": 58,
   "metadata": {},
   "outputs": [
    {
     "data": {
      "text/html": [
       "<div>\n",
       "<style scoped>\n",
       "    .dataframe tbody tr th:only-of-type {\n",
       "        vertical-align: middle;\n",
       "    }\n",
       "\n",
       "    .dataframe tbody tr th {\n",
       "        vertical-align: top;\n",
       "    }\n",
       "\n",
       "    .dataframe thead th {\n",
       "        text-align: right;\n",
       "    }\n",
       "</style>\n",
       "<table border=\"1\" class=\"dataframe\">\n",
       "  <thead>\n",
       "    <tr style=\"text-align: right;\">\n",
       "      <th></th>\n",
       "      <th>text</th>\n",
       "      <th>LABEL</th>\n",
       "    </tr>\n",
       "  </thead>\n",
       "  <tbody>\n",
       "    <tr>\n",
       "      <th>0</th>\n",
       "      <td>Dla mnie faworytem do tytułu będzie Cracovia. ...</td>\n",
       "      <td>0</td>\n",
       "    </tr>\n",
       "    <tr>\n",
       "      <th>1</th>\n",
       "      <td>@anonymized_account @anonymized_account Brawo ...</td>\n",
       "      <td>0</td>\n",
       "    </tr>\n",
       "    <tr>\n",
       "      <th>2</th>\n",
       "      <td>@anonymized_account @anonymized_account Super,...</td>\n",
       "      <td>1</td>\n",
       "    </tr>\n",
       "    <tr>\n",
       "      <th>3</th>\n",
       "      <td>@anonymized_account @anonymized_account Musi. ...</td>\n",
       "      <td>0</td>\n",
       "    </tr>\n",
       "    <tr>\n",
       "      <th>4</th>\n",
       "      <td>Odrzut natychmiastowy, kwaśna mina, mam problem</td>\n",
       "      <td>0</td>\n",
       "    </tr>\n",
       "    <tr>\n",
       "      <th>...</th>\n",
       "      <td>...</td>\n",
       "      <td>...</td>\n",
       "    </tr>\n",
       "    <tr>\n",
       "      <th>593</th>\n",
       "      <td>@anonymized_account Niby sami świnie, a nic ni...</td>\n",
       "      <td>1</td>\n",
       "    </tr>\n",
       "    <tr>\n",
       "      <th>594</th>\n",
       "      <td>@anonymized_account Ale co to ma do Mystka?</td>\n",
       "      <td>0</td>\n",
       "    </tr>\n",
       "    <tr>\n",
       "      <th>595</th>\n",
       "      <td>@anonymized_account Serio chcecie cichego stad...</td>\n",
       "      <td>0</td>\n",
       "    </tr>\n",
       "    <tr>\n",
       "      <th>596</th>\n",
       "      <td>Co to miało być? 😂</td>\n",
       "      <td>0</td>\n",
       "    </tr>\n",
       "    <tr>\n",
       "      <th>597</th>\n",
       "      <td>@anonymized_account tego się niespodziewałem p...</td>\n",
       "      <td>1</td>\n",
       "    </tr>\n",
       "  </tbody>\n",
       "</table>\n",
       "<p>598 rows × 2 columns</p>\n",
       "</div>"
      ],
      "text/plain": [
       "                                                  text LABEL\n",
       "0    Dla mnie faworytem do tytułu będzie Cracovia. ...     0\n",
       "1    @anonymized_account @anonymized_account Brawo ...     0\n",
       "2    @anonymized_account @anonymized_account Super,...     1\n",
       "3    @anonymized_account @anonymized_account Musi. ...     0\n",
       "4      Odrzut natychmiastowy, kwaśna mina, mam problem     0\n",
       "..                                                 ...   ...\n",
       "593  @anonymized_account Niby sami świnie, a nic ni...     1\n",
       "594        @anonymized_account Ale co to ma do Mystka?     0\n",
       "595  @anonymized_account Serio chcecie cichego stad...     0\n",
       "596                                 Co to miało być? 😂     0\n",
       "597  @anonymized_account tego się niespodziewałem p...     1\n",
       "\n",
       "[598 rows x 2 columns]"
      ]
     },
     "execution_count": 58,
     "metadata": {},
     "output_type": "execute_result"
    }
   ],
   "source": [
    "df_for_analysis = df[['text', 'LABEL']][:598]\n",
    "df_for_analysis"
   ]
  },
  {
   "cell_type": "markdown",
   "metadata": {},
   "source": [
    "# Kappa-Cohen, Kappa-Fleissa"
   ]
  },
  {
   "cell_type": "code",
   "execution_count": 59,
   "metadata": {},
   "outputs": [],
   "source": [
    "from sklearn.metrics import cohen_kappa_score\n",
    "from statsmodels.stats.inter_rater import fleiss_kappa"
   ]
  },
  {
   "cell_type": "code",
   "execution_count": 60,
   "metadata": {},
   "outputs": [],
   "source": [
    "df_part1 = df[:100].iloc[:,  :-2]\n",
    "df_part2 = df[101:199].iloc[:,  :-2].reset_index()"
   ]
  },
  {
   "cell_type": "code",
   "execution_count": 61,
   "metadata": {},
   "outputs": [
    {
     "name": "stdout",
     "output_type": "stream",
     "text": [
      "Kappa-Cohen (label1, label2): 0.7516556291390728\n",
      "Kappa-Cohen (label1, label3): 0.6437054631828978\n",
      "Kappa-Cohen (label2, label3): 0.5591939546599496\n"
     ]
    }
   ],
   "source": [
    "kappa_cohen_1_2 = cohen_kappa_score(df_part1['label1'], df_part1['label2'])\n",
    "kappa_cohen_1_3 = cohen_kappa_score(df_part1['label1'], df_part1['label3'])\n",
    "kappa_cohen_2_3 = cohen_kappa_score(df_part1['label2'], df_part1['label3'])\n",
    "mean_part1 = (kappa_cohen_1_2  + kappa_cohen_1_3 + kappa_cohen_2_3 )/3\n",
    "\n",
    "print(\"Kappa-Cohen (label1, label2):\", kappa_cohen_1_2)\n",
    "print(\"Kappa-Cohen (label1, label3):\", kappa_cohen_1_3)\n",
    "print(\"Kappa-Cohen (label2, label3):\", kappa_cohen_2_3)"
   ]
  },
  {
   "cell_type": "code",
   "execution_count": 62,
   "metadata": {},
   "outputs": [
    {
     "name": "stdout",
     "output_type": "stream",
     "text": [
      "Kappa-Cohen (label1, label2): 0.909967845659164\n",
      "Kappa-Cohen (label1, label3): 0.7934426229508197\n",
      "Kappa-Cohen (label2, label3): 0.8364329995231283\n"
     ]
    }
   ],
   "source": [
    "kappa_cohen_1_2_2 = cohen_kappa_score(df_part2['label1'], df_part2['label2'])\n",
    "kappa_cohen_1_3_2 = cohen_kappa_score(df_part2['label1'], df_part2['label3'])\n",
    "kappa_cohen_2_3_2 = cohen_kappa_score(df_part2['label2'], df_part2['label3'])\n",
    "mean_part2 = (kappa_cohen_1_2_2  + kappa_cohen_1_3_2 + kappa_cohen_2_3_2 )/3\n",
    "\n",
    "print(\"Kappa-Cohen (label1, label2):\", kappa_cohen_1_2_2)\n",
    "print(\"Kappa-Cohen (label1, label3):\", kappa_cohen_1_3_2)\n",
    "print(\"Kappa-Cohen (label2, label3):\", kappa_cohen_2_3_2)"
   ]
  },
  {
   "cell_type": "code",
   "execution_count": 63,
   "metadata": {},
   "outputs": [],
   "source": [
    "val_part1 = [kappa_cohen_1_2, kappa_cohen_1_3, kappa_cohen_2_3, mean_part1]\n",
    "val_part2 = [kappa_cohen_1_2_2, kappa_cohen_1_3_2, kappa_cohen_2_3_2, mean_part2]"
   ]
  },
  {
   "cell_type": "code",
   "execution_count": 82,
   "metadata": {},
   "outputs": [
    {
     "data": {
      "image/png": "[encoded data removed]",
      "text/plain": [
       "<Figure size 640x480 with 1 Axes>"
      ]
     },
     "metadata": {},
     "output_type": "display_data"
    }
   ],
   "source": [
    "zestawy = ['Osoby 1-2', 'Osoby 1-3', 'osoby 2-3', 'Średnia']\n",
    "ind = np.arange(len(zestawy))  \n",
    "szerokość = 0.35  \n",
    "\n",
    "fig, ax = plt.subplots()\n",
    "\n",
    "bar1 = ax.bar(ind - szerokość/2, val_part1, szerokość, label='Iteracja 1 ')\n",
    "bar2 = ax.bar(ind + szerokość/2, val_part2, szerokość, label='Iteracja 2')\n",
    "\n",
    "ax.set_xlabel('Osoby')\n",
    "ax.set_ylabel('Wartości')\n",
    "ax.set_title('Wartości Kappa_cohena ')\n",
    "ax.set_xticks(ind)\n",
    "ax.set_xticklabels(zestawy)\n",
    "ax.legend()\n",
    "\n",
    "plt.tight_layout()\n",
    "plt.show()"
   ]
  },
  {
   "cell_type": "code",
   "execution_count": 77,
   "metadata": {},
   "outputs": [],
   "source": [
    "\n",
    "contingency_matrix1 = np.zeros((len(df_part1), 2), dtype=int)\n",
    "\n",
    "for i in range(len(df_part1)):\n",
    "    contingency_matrix1[i, int(df_part1['label1'][i])] += 1  \n",
    "    contingency_matrix1[i, int(df_part1['label2'][i])] += 1  \n",
    "    contingency_matrix1[i, int(df_part1['label3'][i])] += 1  \n",
    "\n",
    "fleiss_kappa1 = irr.fleiss_kappa(contingency_matrix1, method='fleiss')\n",
    "\n",
    "\n",
    "contingency_matrix2 = np.zeros((len(df_part2), 2), dtype=int)\n",
    "\n",
    "for i in range(len(df_part2)):\n",
    "    contingency_matrix2[i, int(df_part2['label1'][i])] += 1  \n",
    "    contingency_matrix2[i, int(df_part2['label2'][i])] += 1  \n",
    "    contingency_matrix2[i, int(df_part2['label3'][i])] += 1  \n",
    "\n",
    "fleiss_kappa2 = irr.fleiss_kappa(contingency_matrix2, method='fleiss')\n"
   ]
  },
  {
   "cell_type": "code",
   "execution_count": 80,
   "metadata": {},
   "outputs": [
    {
     "name": "stderr",
     "output_type": "stream",
     "text": [
      "/tmp/ipykernel_4504/4119753856.py:6: FutureWarning:\n",
      "\n",
      "\n",
      "\n",
      "Passing `palette` without assigning `hue` is deprecated and will be removed in v0.14.0. Assign the `x` variable to `hue` and set `legend=False` for the same effect.\n",
      "\n",
      "\n"
     ]
    },
    {
     "data": {
      "image/png": "[encoded data removed]",
      "text/plain": [
       "<Figure size 640x480 with 1 Axes>"
      ]
     },
     "metadata": {},
     "output_type": "display_data"
    }
   ],
   "source": [
    "df = pd.DataFrame({\n",
    "    'Part': ['Iteracja 1', 'Iteracja 2'],\n",
    "    'Kappa Score': [fleiss_kappa1, fleiss_kappa2]\n",
    "})\n",
    "\n",
    "sns.barplot(x='Part', y='Kappa Score', data=df, palette='Blues')\n",
    "\n",
    "plt.title('Fleiss\\' Kappa ')\n",
    "plt.ylabel('Kappa Score')\n",
    "plt.show()\n"
   ]
  },
  {
   "cell_type": "markdown",
   "metadata": {},
   "source": [
    "# CZĘŚĆ 2"
   ]
  },
  {
   "cell_type": "code",
   "execution_count": 83,
   "metadata": {},
   "outputs": [],
   "source": [
    "def clean_text(text):\n",
    "    text = re.sub(r'@anonymized_account', '', text)\n",
    "    text = re.sub(r'RT', '', text)\n",
    "    # text = re.sub(r'[^\\x00-\\x7F]+', '', text)\n",
    "    # text = re.sub(r'\\s+', ' ', text).strip()\n",
    "    return text"
   ]
  },
  {
   "cell_type": "code",
   "execution_count": 84,
   "metadata": {},
   "outputs": [
    {
     "data": {
      "text/html": [
       "<div>\n",
       "<style scoped>\n",
       "    .dataframe tbody tr th:only-of-type {\n",
       "        vertical-align: middle;\n",
       "    }\n",
       "\n",
       "    .dataframe tbody tr th {\n",
       "        vertical-align: top;\n",
       "    }\n",
       "\n",
       "    .dataframe thead th {\n",
       "        text-align: right;\n",
       "    }\n",
       "</style>\n",
       "<table border=\"1\" class=\"dataframe\">\n",
       "  <thead>\n",
       "    <tr style=\"text-align: right;\">\n",
       "      <th></th>\n",
       "      <th>text</th>\n",
       "      <th>LABEL</th>\n",
       "    </tr>\n",
       "  </thead>\n",
       "  <tbody>\n",
       "    <tr>\n",
       "      <th>0</th>\n",
       "      <td>Dla mnie faworytem do tytułu będzie Cracovia. ...</td>\n",
       "      <td>0</td>\n",
       "    </tr>\n",
       "    <tr>\n",
       "      <th>1</th>\n",
       "      <td>Brawo ty Daria kibic ma być na dobre i złe</td>\n",
       "      <td>0</td>\n",
       "    </tr>\n",
       "    <tr>\n",
       "      <th>2</th>\n",
       "      <td>Super, polski premier składa kwiaty na groba...</td>\n",
       "      <td>1</td>\n",
       "    </tr>\n",
       "    <tr>\n",
       "      <th>3</th>\n",
       "      <td>Musi. Innej drogi nie mamy.</td>\n",
       "      <td>0</td>\n",
       "    </tr>\n",
       "    <tr>\n",
       "      <th>4</th>\n",
       "      <td>Odrzut natychmiastowy, kwaśna mina, mam problem</td>\n",
       "      <td>0</td>\n",
       "    </tr>\n",
       "    <tr>\n",
       "      <th>...</th>\n",
       "      <td>...</td>\n",
       "      <td>...</td>\n",
       "    </tr>\n",
       "    <tr>\n",
       "      <th>593</th>\n",
       "      <td>Niby sami świnie, a nic nie wiedzą</td>\n",
       "      <td>1</td>\n",
       "    </tr>\n",
       "    <tr>\n",
       "      <th>594</th>\n",
       "      <td>Ale co to ma do Mystka?</td>\n",
       "      <td>0</td>\n",
       "    </tr>\n",
       "    <tr>\n",
       "      <th>595</th>\n",
       "      <td>Serio chcecie cichego stadionu ?</td>\n",
       "      <td>0</td>\n",
       "    </tr>\n",
       "    <tr>\n",
       "      <th>596</th>\n",
       "      <td>Co to miało być? 😂</td>\n",
       "      <td>0</td>\n",
       "    </tr>\n",
       "    <tr>\n",
       "      <th>597</th>\n",
       "      <td>tego się niespodziewałem po Tobie... Zawiodłe...</td>\n",
       "      <td>1</td>\n",
       "    </tr>\n",
       "  </tbody>\n",
       "</table>\n",
       "<p>598 rows × 2 columns</p>\n",
       "</div>"
      ],
      "text/plain": [
       "                                                  text LABEL\n",
       "0    Dla mnie faworytem do tytułu będzie Cracovia. ...     0\n",
       "1           Brawo ty Daria kibic ma być na dobre i złe     0\n",
       "2      Super, polski premier składa kwiaty na groba...     1\n",
       "3                          Musi. Innej drogi nie mamy.     0\n",
       "4      Odrzut natychmiastowy, kwaśna mina, mam problem     0\n",
       "..                                                 ...   ...\n",
       "593                 Niby sami świnie, a nic nie wiedzą     1\n",
       "594                            Ale co to ma do Mystka?     0\n",
       "595                   Serio chcecie cichego stadionu ?     0\n",
       "596                                 Co to miało być? 😂     0\n",
       "597   tego się niespodziewałem po Tobie... Zawiodłe...     1\n",
       "\n",
       "[598 rows x 2 columns]"
      ]
     },
     "execution_count": 84,
     "metadata": {},
     "output_type": "execute_result"
    }
   ],
   "source": [
    "df_for_analysis['text'] = df_for_analysis['text'].apply(clean_text)\n",
    "df_for_analysis"
   ]
  },
  {
   "cell_type": "code",
   "execution_count": 85,
   "metadata": {},
   "outputs": [],
   "source": [
    "df_for_analysis['embedding'] = df_for_analysis['text'].apply(lambda x: model.get_sentence_vector(x))"
   ]
  },
  {
   "cell_type": "markdown",
   "metadata": {},
   "source": [
    "# FASTTEXT"
   ]
  },
  {
   "cell_type": "code",
   "execution_count": 86,
   "metadata": {},
   "outputs": [
    {
     "data": {
      "application/vnd.plotly.v1+json": {
       "config": {
        "plotlyServerURL": "https://plot.ly"
       },
       "data": [
        {
         "customdata": [
          [
           "Dla mnie faworytem do tytułu będzie Cracovia. Zobaczymy, czy typ się sprawdzi."
          ],
          [
           "  Brawo ty Daria kibic ma być na dobre i złe"
          ],
          [
           "  Musi. Innej drogi nie mamy."
          ],
          [
           "Odrzut natychmiastowy, kwaśna mina, mam problem"
          ],
          [
           "Jaki on był fajny xdd pamiętam, że spóźniłam się na jego pierwsze zajęcia i to sporo i za karę kazał mi usiąść w pierwszej ławce XD"
          ],
          [
           " No nie ma u nas szczęścia 😉"
          ],
          [
           " Dawno kogoś tak wrednego nie widziałam xd"
          ],
          [
           "  Zaległości były, ale ważne czy były wezwania do zapłaty z których się klub nie wywiązał."
          ],
          [
           "   no mam nadzieje !!:)"
          ],
          [
           "  Może gustował w starszych paniach ;-)"
          ],
          [
           " Zostawiłam tam 3 lata temu \\\"Notatki na mankietach\\\". Muszę się wrócić."
          ],
          [
           "  Znowu będzie komunikat o polskich piratach drogowych w Słowacji."
          ],
          [
           " Mówi człowiek, który chciał nałożyć sankcje na Polskę. Gratulacje. #Niepodlegla #11lisopada"
          ],
          [
           "   Mówi człowiek, który chciał nałożyć sankcje na Polskę. Gratulacje. #Niepodlegla #11lisopada"
          ],
          [
           "  o jakim zachowaniu \\\"fer\\\" mówisz skoro ukrywał się z tym że podpisał kontrakt z Legią ? Możesz rozwinąć ?"
          ],
          [
           "  Joanno! Po raz pierwszy się z panią zgadzam.😁😁😁😁😁"
          ],
          [
           "Monster block, monster block, monster block... 😁"
          ],
          [
           " Czyżby Madryt brał przykład z Warszawy?"
          ],
          [
           " Nie wiem, najczęściej grają na zmianę na prawym skrzydle."
          ],
          [
           " No to Pan i koledzy macie z głowy. Przesrane tak reszta życia pod górkę."
          ],
          [
           " A ja obstawiam, że pójdą bardziej w stronę tego, że może się powtórzyć sytuacja z Meresińskim."
          ],
          [
           "Aaaaa Kuba mi odpisał hehehehehe"
          ],
          [
           "Asysta Kacpra Falona i 3:1 dla Widzewa. Witamy Widzew w II lidze. No i w sumie fajnie."
          ],
          [
           " gwizdali na niego ? Bo nie oglądałem meczu :)"
          ],
          [
           "  ale może w końcu dojdzie do wniosku że skoro go klub już nie jara to lepiej go sprzedać i mieć po kłopocie"
          ],
          [
           "  Hej halo, o czym to jest bo mam na swojej liście i nie wiem czy warto??"
          ],
          [
           "dorosłe życie nie jest dla mnie"
          ],
          [
           "  dorosłe życie nie jest dla mnie"
          ],
          [
           " Cześć Paderewski, część opalające się nogi"
          ],
          [
           "   Uprowadź gumową kaczuszkę. Zacznie negocjować."
          ],
          [
           " Już wiem ze się nie dogadamy XD"
          ],
          [
           " Ale to w nowym przekładzie, jeszcze nie czytałam."
          ],
          [
           " Lahoza mi nigdy nie szkoda. Wolę, jak na pierwszym planie są piłkarze, a nie sędzia :-)"
          ],
          [
           " zmieńcie se nazwe na profilu na insta bo się nazywacie Grzegorz Ożóg..."
          ],
          [
           "„Ta aktorka ma 20 lat?!?! Jaka stara!!” \\n\\nChyba musimy się już do grobu pakować roczniku 98 😂👌🏻"
          ],
          [
           "  „Ta aktorka ma 20 lat?!?! Jaka stara!!” \\n\\nChyba musimy się już do grobu pakować roczniku 98 😂👌🏻"
          ],
          [
           "Ahnherr der Schtwätzer wykonawcy Von Spar\\nhttps://t.co/SOtenSqIr0"
          ],
          [
           " Kiedy do licznika dojdą bilety z fan clubow?"
          ],
          [
           " A kto prowadzi zespół ? Będzie podany skład z tego meczu ?"
          ],
          [
           "Zrobiłam takie Cv że ohohohoho"
          ],
          [
           "Świętować uchwalenie Konstytucji 3 maja i łamać Konstytucję RP obecnie obowiązującą?!\\n#3Maja - dzień hipokryzji."
          ],
          [
           "  Świętować uchwalenie Konstytucji 3 maja i łamać Konstytucję RP obecnie obowiązującą?!\\n#3Maja - dzień hipokryzji."
          ],
          [
           "  nie gra bo jest Jovanović i Guilherme"
          ],
          [
           " O tej godz. sporty szanuj ciało"
          ],
          [
           "Nikt cię tak dobrze nie ubierze jak matka chrzestna dziecino"
          ],
          [
           "  Nikt tutaj nie chce plagiaciarzy kopiujących brytyjskich pisarzy."
          ],
          [
           " A ksiądz co bierze 12 tyś za spowiedź przez tel?"
          ],
          [
           " Pod i górę  pod wiatr to więcej niż k2"
          ],
          [
           " Sędziowie VAR nie decydują o karnych 😉"
          ],
          [
           "Jakiś program na TVN, nauka jazdy za kierownicą babcia śpiewa \\\"jadą jadą jadą świry jadą\\\" jadą jadą jadą świry jadą\\\""
          ],
          [
           " ta obecna Zary Larsson czy Pitbulla z ostatnich MŚ nie były złe :)"
          ],
          [
           "(280 znaków w jednym zdaniu 🙈)"
          ],
          [
           " po wahaniach wagi Kwacha wznoszę że to może być kapuścianka"
          ],
          [
           "  w tym sezonie razem z pucharem 12 meczy i 1 gol.Mójta więcej strzelił.Sorry patrze w statystyki."
          ],
          [
           "   finały tblk były przyzwoicie sędziowane ?! Aha..."
          ],
          [
           " Taki miałam właśnie, teraz kupiłam z catrice"
          ],
          [
           " to ich wymień.W czym problem ?"
          ],
          [
           "   a ja mam ciepełko jak się przytule do swoich kotów :)"
          ],
          [
           " Właśnie. Ilu! Najpierw odpowiedzmy sobie ma to pytanie,a potem dziwmy się zwycięstwu Zdanowskiej"
          ],
          [
           " W jego przypadku statystyka przebiegniętych kilometrów nie ma znaczenia. Czy gra zajebiście, czy fatalnie, biega tyle samo."
          ],
          [
           "  100%, Mann też miał pełne prawo"
          ],
          [
           " Kończyłeś już kilka razy 😂"
          ],
          [
           "    A co będzie jak Kuba nigdy niewroci?"
          ],
          [
           "W każdej z czterech grup będzie walka o zwycięstwo premiowane awansem do CLJ. Bardzo potrzebne rozwiązanie, brawo."
          ],
          [
           " Tak się poznałam z moim chłopakiem 😂 czasami warto"
          ],
          [
           " nelly furtado a tytuł forco czy cos takiego"
          ],
          [
           " Mów prawdę, kto was skrzywdził"
          ],
          [
           " jestem tu od 2013 xd"
          ],
          [
           " Ta kadra to rocznik 2002"
          ],
          [
           "Posiada sensor CGM , ciągły monitoring glikemii, w końcu."
          ],
          [
           "Jeszcze żaden Polak nie wystąpił w meczu gwiazd NBA, nie licząc Mietka Paciaciaka ;) Pomóżmy Marcinowi Gortatowi być 1  #NBAVOTE"
          ],
          [
           "  Jeszcze żaden Polak nie wystąpił w meczu gwiazd NBA, nie licząc Mietka Paciaciaka ;) Pomóżmy Marcinowi Gortatowi być 1…"
          ],
          [
           " No kurwa myślałem że na Podlasiu"
          ],
          [
           "  Tak, to nawet lepsze rozwiązanie."
          ],
          [
           " Gdzie ja wtedy byłam? ;-)"
          ],
          [
           "   Midze sie nudziło i se coś na kolanie napisał i macie sensacje"
          ],
          [
           " Dzisiaj wrócił do treningów, czyli zdążyli 😉"
          ],
          [
           "    Nie wiem, zerknij na 90minut"
          ],
          [
           " możesz też zawsze po prostu zapytać kiedy się urodziłam. Albo wpisać hasztag #100latKasiaPawlak ;-)"
          ],
          [
           " Prezes się cieszy ze Wisla odpadła bo w razie finału Legia-Wisla znów by musiał finał odwoływać"
          ],
          [
           "Bratowa wysłała mi zdjęcie bratanicy z rozpoczęcia roku, idzie do pierwszej klasy, biedactwo nie wie co ją czeka"
          ],
          [
           " szybkie pytanie do  Ręka Sadloka była zagraniem umyślnym ?"
          ],
          [
           " Dzień w którym Abidal sprzedał i kupił A.Vidala 😉"
          ],
          [
           " O, myślałam, że nikt już nie używa \\\"mnie\\\" tylko \\\"mi\\\"."
          ],
          [
           "   Na nowym stadionie West Hamu też to widziałem."
          ],
          [
           "  zawodnik w sezonie może grać w barwach dwóch klubów więc jeszcze nic straconego :)"
          ],
          [
           "ciekawe czy faktycznie jest taki zakład bo jeśli tak to nieźle XD"
          ],
          [
           " Hehe, do gazu, hehe jeszcze jakieś emotikony wrzuć"
          ],
          [
           "Od 01.10.2018 każde sprawozdanie finansowe w formie elektronicznej, zgodne ze strukturą jpk"
          ],
          [
           "Na TVP Kraków padła właśnie informacja że rozmowy z potencjalnym kupcem Wisły przełożony z dziś na jutro."
          ],
          [
           "  Na TVP Kraków padła właśnie informacja że rozmowy z potencjalnym kupcem Wisły przełożony z dziś na jutro."
          ],
          [
           " Jak powiem, że pierwsze słysze, to będzie kompromitacja czy nie? 😄"
          ],
          [
           "Nie wstanę kurde nie ma opcji"
          ],
          [
           "  Spokojnie, u mnie też Kaczarawa na kapitanie + Cvijanović :)"
          ],
          [
           "niech ładny chłopiec z kręconymi włosami do mnie napisze: jutro, zaraz, teraz"
          ],
          [
           "  niech ładny chłopiec z kręconymi włosami do mnie napisze: jutro, zaraz, teraz"
          ],
          [
           " im ktoś gorzej widzi, dłużej musi czekać, choć ten, który widzi lepiej, dłużej poradzi sobie bez okularów. 😨"
          ],
          [
           " Oj, no to powodzenia! Co tam będziesz musiała robić? 🤭"
          ],
          [
           "    Chyba nie, Marcin mówił coś o '89."
          ],
          [
           " Przeczytaj mojego kolejnego twitta to zobaczysz, że nie umknęło i co sądze o poziomie tego meczu."
          ],
          [
           "   Widzę, że sami się znajdują."
          ],
          [
           " Napewno mam niezaktualizowanego może dlatego"
          ],
          [
           "  Smokowski mówił że Wisła ma piłkarzy 3 sortu, a Wieszczycki deprecjonował dobrą prace Kiko"
          ],
          [
           "więc zaczynam oglądać Do wszystkich chłopców, których kochałam bo wszyscy o tym mówią i aż chcę to sprawdzić"
          ],
          [
           "   W stop klatkach widać ze jak by to było po stronie drugiej (legi) to karny by był"
          ],
          [
           " Na marginesie jestem córką biskupa"
          ],
          [
           " Przejdzie historii: jak tworzyć kłamstwo w dobie powszechnego dostępu do informacji"
          ],
          [
           " Od ok 8 lat używam kolejnych modeli HTC i nigdy mnie nie zawiodły."
          ],
          [
           "  Załatwi to jedno głosowanie w sejmie i żadne demonstracje nie będą miały na to wpływu."
          ],
          [
           "mój stres zaczął się stresować swoim własnym stresem, które również się stresuje ja pierdole dość"
          ],
          [
           "  mój stres zaczął się stresować swoim własnym stresem, które również się stresuje ja pierdole dość"
          ],
          [
           "     dojdzie Brlek, Stilić wróci do formy, obcokrajowcy się zaaklimatyzują i bedzie dobrze💪"
          ],
          [
           "   Brawo grzechu za Twój powrót do żywych\\n W Rosji pokaż swoją moc"
          ],
          [
           "    Wonder!! Chyba cię....😁😁😁😁😁.No dobra. Na jaki?😁😁😁"
          ],
          [
           " Ja mam uczulenie na dobrą zmianę, ale to dłuższa historiac"
          ],
          [
           " Różnicy nie ma, bo pisali wtedy, że nie można zsyłać zawodników do rezerw ;P"
          ],
          [
           "Dobry dzień na przypomnienie sobie genezy gwiazdek na fladze #UE #deklaracjaRzymska"
          ],
          [
           "  Nie wierzę, bez zaświadczenia od proboszcza?"
          ],
          [
           " I chyba wtedy byś niezaprzeczyla?"
          ],
          [
           " Tak naprawdę czy będziemy w spadkowej czy mistrzowskiej to i tak czekają nas sparingi."
          ],
          [
           " Jebać, jebać, nic się nie bać."
          ],
          [
           "Kilogramy rozmnażają się przez pączkowanie 😣😖\\n#TłustyCzwartek"
          ],
          [
           "  Nie działają i lepiej działać szybko bo klienci nie maja dostępu do środków na kontach"
          ],
          [
           " Szczególnie Vestenicky.Podczas wypożyczenia nic nie pokazał a go wykupili za 500 tys euro 😂👏"
          ],
          [
           " Co nie było blisko? Bo nie rozumiem."
          ],
          [
           "  A od kiedy komentatorzy na Sky to wyrocznia?"
          ],
          [
           " a w kolejnych fajnie jakby grał na lewej za Sadloka "
          ],
          [
           " byłem w pracy ale zaraz odpalam meczyk na yt.Dzięki za walke !!!!:)"
          ],
          [
           "  jakie 0 motywacji ? Jest chyba różnica mieć medal albo go niemieć"
          ],
          [
           " Niby nie macie czy niby nie mit? 😂😂"
          ],
          [
           " Ja bym był ostrożny😁😁😁A jak ma na imię?"
          ],
          [
           "  No nie dziwie się w sumie. Dobrze, że tylko raz dzwonił"
          ],
          [
           "imagine sie komus podobac??? ze ktos sie stara o TWOJA uwage??? can’t relate"
          ],
          [
           "  imagine sie komus podobac??? ze ktos sie stara o TWOJA uwage??? can’t relate"
          ],
          [
           "   a Portugalia jak zagrała ?"
          ],
          [
           "Pierwsze zdanie: \\\"Paczka papierosów kosztuje 4 miliardy marek\\\".\\n#JajoWęża teraz na "
          ],
          [
           "  No to tym bardziej :)"
          ],
          [
           " Co ty człowieku pijesz z rana?"
          ],
          [
           "  pewnie narządy też wkrótce sprzeda :D"
          ],
          [
           " w zeszłym sezonie to samo pisałeś ?"
          ],
          [
           "Picie to przyszłość, piękna i nieznana, szukajcie zapomnienia, próbujcie różnych trunków, łączcie środki psychoaktywne, powodzenia"
          ],
          [
           " spoko, nigdy nie daje unfollow aktywnym ludziom, tylko tym, którzy nie piszą nic od miesięcy albo dali mi unfollow"
          ],
          [
           "\\\"- Co to jest tajmlajn na fejsie?\\n- Zmarszczki\\\"."
          ],
          [
           " może trzeba chłopaków na crossfit zabierać ?:)"
          ],
          [
           "Dzisiaj o 18.00 Strefa Kibica w Radiu Akadera. Zapraszamy."
          ],
          [
           " Nie powinno być źle o ile się utrzymamy :P"
          ],
          [
           " Spokojnie trzeba ta porażkę wziąść na klatę mecz się tak ułożył nie inaczej napewno gorsi dużo my niebyli."
          ],
          [
           " Ale się cieszą. Wreszcie koniec i będzie można wypić te.zapasy z plecaka."
          ],
          [
           "  Ofertę przedłużenis kontraktu ponoć dostał od Wisły, ale jej nie zaakceptował."
          ],
          [
           "Dziś o godz. 20:00 Prezydent RP wygłosi orędzie."
          ],
          [
           "  Dziś o godz. 20:00 Prezydent RP wygłosi orędzie."
          ],
          [
           " myślałem że się przychodzi na stadion dla drużyny a nie na poszczególnych piłkarzy"
          ],
          [
           " kibicom chodzi raczej o postawe dziennikarzy a nie klubu."
          ],
          [
           "  Nie trzeba Algierczyków, wystarczy kilku polskich katechetów."
          ],
          [
           " Barcelona z Messim (ta obecna) by taki mecz wygrała 1:0, albo jakiś Suarez by coś wcisnął :P"
          ],
          [
           "  TW Wolfgang, TW Faraon i TW Rycerz,TW Balbina, TW Michał \\nKto mieczem wojuje, ten od pochwy ginie"
          ],
          [
           "  Zgadza się ale przecież nas niestac żeby komin płacowy zacząć od.carlitosa"
          ],
          [
           " Niestety obrazki będą też zielone, czarne i brunatne."
          ],
          [
           "Ktoś założył fejkowe konto i ogląda WSZYSTKIE moje story"
          ],
          [
           "  Życie, zdarza się. Jednak od takiego rzutu wolnego do gola droga dość daleka."
          ],
          [
           " a wydanie 500 tys euro gdy się nie ma pieniędzy nie jest strzałem w kolano ?"
          ],
          [
           " nie dziwie się, to było dość cwane :)"
          ],
          [
           " Raczey! Jutro będzie jej odczytywane przez cały dzień ;-)"
          ],
          [
           " Kto będzie pił te mleko, gdzie będą jeździły tiry, meble, okna ty maly kogucie"
          ],
          [
           "    Nie myli się tylko ten, co nic nie robi."
          ],
          [
           "Mama będzie mi obcinać włosy boje się"
          ],
          [
           "    No to muszą ci nieźle płacić za wierszówki."
          ],
          [
           " czy masz info jakie obecnie Ondrasek ma zarobki w Wiśle?"
          ],
          [
           " Jaka kwota wykupienia go po roku??"
          ],
          [
           "   Dla kogo pracował? Nie przy śniadaniu bo się udławić można z wrażenia. Poproszę 5 przykładów zatem."
          ],
          [
           "  jeśli masz TV włączony od 8:00 do 1:00, a reklama pojawia się 3 x na godzinę, po 2 mies. jesteś na granicy obłędu."
          ],
          [
           " Jeszcze w nastepnej kolejce pewnie jakis piątek"
          ],
          [
           "  i oczywiście było pytanie czy nie boi się o przyszłość Wisły 😂 przechodzicie samych siebie"
          ],
          [
           " no ja właśnie to samoXD znaczy wiem ze Emre wbija często, bo jego żona jest polką ale no"
          ],
          [
           " Nic nie mogą. Ale ich brak może spowodować, że strajkujący szybciej się z Sejmu wyniosą."
          ],
          [
           "   Przecież jak go zamkną to o czym ty będziesz pisał ? Twoje życie straci sens..."
          ],
          [
           "  To zaraz porobie screeny od momentu od którego jest zablokowane :)"
          ],
          [
           " Ktoś przestał słodzić, ktoś kto dużo słodził"
          ],
          [
           " delikatnie nie po drodze :D"
          ],
          [
           "  No to 0:0 murowane (bo mam też ludzi z Cracovii)"
          ],
          [
           "  Przeczytałem wszystko. Fantastycznego ma Pani Dziadka!"
          ],
          [
           "Diego Maradona - Robbie Williams 2:1."
          ],
          [
           "   Ja nie byłbym taki pewny"
          ],
          [
           " patrząc kogo biorą to mam wątpliwości czy nie chcą do 1 ligi (nie licząc Marciniaka)"
          ],
          [
           " To było dawno, jeszcze nie znali fotoszopa"
          ],
          [
           ". pojawił się na TT. To konto to nie fejk. \\nDołączajcie :) 💪"
          ],
          [
           "  . pojawił się na TT. To konto to nie fejk. \\nDołączajcie :) 💪"
          ],
          [
           "W programie Igrzyska wolności w Łodzi śpiewanie pieśni rewolucyjnych,i piosenek z serialu,4 pancerni i pies."
          ],
          [
           " no i w końcu widzę uśmiech :)"
          ],
          [
           " lepszy argument to że ktoś go nie chce bo go nie lubi"
          ],
          [
           "  Tylko że ten prostak sie nabijał, szydził tak jak ze śmierci Piotra S."
          ],
          [
           " Qwa! Wypiłem kawę przed chwilą.Bardzo dobra kawę.Nie chcę jej zwracać. A swoją drogą to świetny środek na wywołanie wymiotów."
          ],
          [
           "Wchodzę w powiadomienia a tu nic, już na 4 tt odpisałem, zaraz wyjebią bana"
          ],
          [
           " nataliethere_ oddam szybciutko z powiadomień"
          ],
          [
           " Tak tak jeszcze ktoś w to uwierzy"
          ],
          [
           "   Tez musze trzymać poziomo tel czytając ten artykuł"
          ],
          [
           "   Czasy kiedy zacząłem interesować się piłką i Wisłą 😍"
          ],
          [
           " Czy  gotów na taką kolej rzeczy?"
          ],
          [
           " E tam! To z miłości do Łodzi😁. I przyjdzie do PiS😁😁"
          ],
          [
           " A ja, ze coś znowu zepsułam xd"
          ],
          [
           "Czemu jak zawsze się o kogoś martwię to ja dostaje po dupie, i mean nie wiem"
          ],
          [
           " kiedy wyjeżdżasz? ja w piątek, co prawda już drugi rok ale moja rodzina nadal reaguje tak samo"
          ],
          [
           "   Ograniczyłbym to do \\\"Byle nie Ufa\\\" :)"
          ],
          [
           "  Święta racja, ale zapytaj Jurgiela o notatki, on wie co spierdolił. Będzie łatwiej."
          ],
          [
           "  Szczególnie wielka strata za Smoleńsk"
          ],
          [
           "    daj znać  o  zdjecie blokady"
          ],
          [
           "  Myślę, że po info o konferencji wielu osobom to przychodzi do głowy."
          ],
          [
           " Koniecznie! Zapraszamy na spacer z kawką 😃"
          ],
          [
           " błąd logiczny, te pieniądze kiedyś były wasze, teraz już sa nasze i nic wam do tego towarzyszu"
          ],
          [
           "   błąd logiczny, te pieniądze kiedyś były wasze, teraz już sa nasze i nic wam do tego towarzyszu"
          ],
          [
           " Zależy jak na to spojrzeć. Z jednej strony akredytacja, z drugiej wyjazd za swoje $$$ 😉"
          ],
          [
           "  albo wygrywali 1:0 z Barceloną"
          ],
          [
           "  Nic specjalnego. Można się domyślać, że pewnie pójdzie na wypożyczenie."
          ],
          [
           "Z Zagłębia Hładun i Czerwiński w składzie (porażka 1:2), a z Legii Carlitos na kapitanie (zmiana w przerwie). Co za seria 😂"
          ],
          [
           " co chwile o nim piszecie i gadacie jaka to porażka jak nie zostanie.A nie pamiętacie jak jeszcze niedawno otrzymanie licencji1/2"
          ],
          [
           "  Przecież TS dzierżawi ta ziemię umowa na 99 lat zgadza się czy nie?"
          ],
          [
           " Pyta się kiedy beda nowe okulary, bo juz chce wychodzić"
          ],
          [
           " Probierz szuka młodych Polaków pasuje jak ulał😉"
          ],
          [
           " Może pasuje do klucza francuskiego?🔧☺"
          ],
          [
           " Najlepiej w Polsce żeby legia miała pomoc :-)"
          ],
          [
           "Szukam osób, które mają kontakt z rodziną gen. Bułak-Bałachowicza. Sprawa  prywatna."
          ],
          [
           " Brawo skwk za komunikat pomimo braku zakazu czekałem na ta wiadomość co robić, bo na mecz bez dopingu niemyslalem iść"
          ],
          [
           " Trąba ? Nie no ostro pojechałaś :D"
          ],
          [
           "Motocykle opuściły gniazda i kierują się na północ. Żonkile na przedmieściach to już tylko formalność. Wiosna! :-)"
          ],
          [
           "  🕵 Jest tak zakonspirowany, że go nie widać. Fachowiec. \\n(Górny, prawy róg)"
          ],
          [
           " W jednej z powtórek było to dobrze widać :))"
          ],
          [
           " Kochana nie ma po co bo później wszyscy się będą po to kleić 😂😂"
          ],
          [
           "  chyba nie miałeś się czego przyczepić, nie przesadzajmy :)"
          ],
          [
           " Dzwoniłam się dowiadywać kiedy się można wprowadzać 😂nie wiedziałam ze takie problemy mogą być xd"
          ],
          [
           " Już pod koniec jazdy wymusilam na rondzie.... nie wiem jak to się stało, mój mózg miał zaćmienie czy coś a"
          ],
          [
           "Terminator X To The Edge Of Panic wykonawcy Public Enemy\\nhttps://t.co/Nqf1yFOyKg"
          ],
          [
           " Zaspana jestem jeszcze sorki XD"
          ],
          [
           "  No ja nie kojarze xD"
          ],
          [
           " Pies to czasem nawet pożera książki..."
          ],
          [
           "Kiedy Christina wychodzi za mąż"
          ],
          [
           "  Zapewne ci, co grali przez większość rundy w CLJ i nie ponieśli ani jednej porażki."
          ],
          [
           "  Jak będzie ta pioseneczka to przychodzę\\n\\nhttps://t.co/B6ak11mI4d"
          ],
          [
           " zamieszczanie takich zdjęć podczas gdy ja jestem na sucharach powinno być zabronione :)"
          ],
          [
           "   A co trzeba zrobić w kwestii finansowania kampanii z funduszy UE przez Ziobrę?"
          ],
          [
           " W środku łamanie w stylu 2obiegu."
          ],
          [
           "    jak wróce z pracy to też podejme wyzwanie ale tym razem bedzie skromnie :)"
          ],
          [
           "   Jak pić to z klasą ;)"
          ],
          [
           " W rosji sa jakieś zawody"
          ],
          [
           "  Myślałem że to Twój ulubieniec 😂"
          ],
          [
           "  pewnie ranking Fifa bedzie decydowal"
          ],
          [
           "   od paru lat słysze o sponsorze więc tym bardziej szacunek że przez pare lat się nieujawnił..."
          ],
          [
           " Skoro Carrillo nie chce Sobola to tym bardziej nie będzie chciał Głowy. Chyba, że trener rzeczywiście odchodzi."
          ],
          [
           " kot też się załapał na fotke, a raczej jego dupa :)"
          ],
          [
           " Szczerze? Trochę tak to wygląda, a i tak prędzej czy później ten bilans wychodzi na równo."
          ],
          [
           "*stoi przed nimi król gargulców*\\nbetty: to pewnie ethel\\n\\nXDDDDDDDDDDDDDD\\n#Riverdale #RiverdalePL"
          ],
          [
           "  *stoi przed nimi król gargulców*\\nbetty: to pewnie ethel\\n\\nXDDDDDDDDDDDDDD\\n#Riverdale #RiverdalePL"
          ],
          [
           " No, to ja we własnej osobie"
          ],
          [
           " Słabo trzymałeś kciuki, bo podarował bramke Cracovii :)"
          ],
          [
           "  Piwnica bez okien, ty to masz dobrze"
          ],
          [
           "Czuję się chora więc siedzę w domu w czapce"
          ],
          [
           " Juz myslałem że coś gorszego😁😁"
          ],
          [
           "  A gdzie Inferno napisał, że Wisła stawia na Polaków ?"
          ],
          [
           " Omg właśnie o nich myślałam"
          ],
          [
           " Tak na pewno nie będzie. Drużyna leci w środę."
          ],
          [
           "Cudzysłów, przecinek nie jestem ruskim trollem"
          ],
          [
           "Biorąc pod uwagę, jakie dotąd mieliśmy losowania w Lidze Europy, to na ten finał w Baku w 2019 roku nie jesteśmy bez szans. 😁"
          ],
          [
           "  Fajnie, teraz zamiast przemowy muzyczka żeby nie było słychać odzewu publiki."
          ],
          [
           "  Białystok, ulica Wierzbowa. Jak oni to zrobili, to jest zagadka."
          ],
          [
           " Straszny gangster jak po wolności chodzi"
          ],
          [
           "  Pewnie tak bo Buchalik kontuzjowany."
          ],
          [
           " to miało jakiś ciąg dalszy? 😉"
          ],
          [
           "vans do chuja przestań robić choć na chwilę zajebiste kolekcje bo w moim portfelu pieniądzen't"
          ],
          [
           "  vans do chuja przestań robić choć na chwilę zajebiste kolekcje bo w moim portfelu pieniądzen't"
          ],
          [
           "    12 mld nie mam zamiaru dyskutowa możejki i skoki"
          ],
          [
           "  Alves był bardzo w stylu Guardioli 😛"
          ],
          [
           " Bo w \\\"10\\\" już grają przez Boatenga ;)"
          ],
          [
           " Widocznie to zbyt trudna miłość na Walentynki 😁"
          ],
          [
           " Sarapata była w solarium ?"
          ],
          [
           " Woda chyba zimna bo nikogo w wodzie ;-)"
          ],
          [
           " ej, dobra, weźmie ten chrzest czy nie? xd"
          ],
          [
           "  Lub bezpośredni awans, bo nie wiadomo co ze Stomilem, a przede wszystkim Bytovią :)"
          ],
          [
           "  byłam przy tym, więc zapewniam 😉"
          ],
          [
           " Piątek  też powinien być wolny, ina 100%"
          ],
          [
           " Kibice innych drużyn doceniają i trochę zazdroszczą :)"
          ],
          [
           "  na 100% jest zmiana Śląsk - Jaga i chyba została już potwierdzona."
          ],
          [
           " W tym czasie był z rodzinką na wakacjach w Gdańsku Brzeźnie to musiał zdalnie podtrzymywać związek"
          ],
          [
           "  Nie wiem, aczkolwiek jego tata mówił, że widziałby Tomasa w Jagiellonii. 😜"
          ],
          [
           "Ja i moje psiapsi gramy w te gry na snapie i nie mogę przestać się śmiać z naszych min XD"
          ],
          [
           "Rząd zaostrzy kary za znęcanie się nad zwierzętami. Od 3-5 lat więzienia; obowiązkowa nawiązka do 100 tys zł. Więcej jutro w "
          ],
          [
           "  Rząd zaostrzy kary za znęcanie się nad zwierzętami. Od 3-5 lat więzienia; obowiązkowa nawiązka do 100 tys zł. Więcej jutro w "
          ],
          [
           "   czuje że Brlek prędzej czy później odpali"
          ],
          [
           "  To, że figurowal jako zawodnik Man City nie znaczy, że będzie potrafił grać."
          ],
          [
           "  Oczywiście, że ma rację. Chodzi tylko o to, że to jest drużyna o klasę lub dwie lepsza."
          ],
          [
           "  Nie miał prawa stać za linią, tak prawdę mówiąc 😄 Ale w kamerach to bardzo ładnie wyglądało."
          ],
          [
           "   Ty to robisz przede wszystkim, co widać po pierwszym tweecie."
          ],
          [
           "Ostatnio czuje się tak samotna i smutna ze aż sama się dziwie"
          ],
          [
           "   dobrze by mu to zrobiło.Za słaby na Wisłe."
          ],
          [
           " Hehehehehe. Róża nawet niezła była.I co z niej wyrosło!😁😁😁"
          ],
          [
           " jedni wynajmują agencje do komentarzy a inni dziennikarzy"
          ],
          [
           "   jedni wynajmują agencje do komentarzy a inni dziennikarzy"
          ],
          [
           " pewnie jest mniej błędów bo i liczb jest mniej bo zrezygnowali ze statystyk zawodników sezon po sezonie ;)"
          ],
          [
           "  Sorry ale dzisiaj nie ma opozycji. Jest grupa cwaniaków chcących odzyskać stołki."
          ],
          [
           "na kijowe życie najlepsza wódeczka"
          ],
          [
           "Co na to Herod śmierdziuszka "
          ],
          [
           " Brakuje mu dystansu, za bardzo się egzaltuje, a jałowe szyderstwa już mi się przejadły"
          ],
          [
           " Wisła chyba ważniejsza od jakiejś Delle Donne :)"
          ],
          [
           " Nawet jeśli to fejk, to zgodnie z powiedzeniem -w każdej plotce jest ziarnko prawdy. Z tym że w tym przypadku raczej ziarno😁😁"
          ],
          [
           " Tez wczoraj byłam na randce która trwała cały dzień Xd"
          ],
          [
           " A kierowca autobusu wstał i zaczął klaskać ?"
          ],
          [
           "  Jak by nie było, aby było miło, teraz sie cieszysz"
          ],
          [
           " No to może warto, najwyżej Cię oleje, co jest oczywiście nie do przyjęcia 😂 kto nie ryzykuje ten nie pije szampana kochana!"
          ],
          [
           "  Trzymali się za ręce, waleczni i sprawiedliwi"
          ],
          [
           "Dudelange niby takie cwaniaki, a ciekawe czy byliby tacy mądrzy w dwuboju rzut młotem-skoki narciarskie"
          ],
          [
           "  Dudelange niby takie cwaniaki, a ciekawe czy byliby tacy mądrzy w dwuboju rzut młotem-skoki narciarskie"
          ],
          [
           "   głównie  który często o tym wspomina"
          ],
          [
           "Kto się jeszcze zaczepia na fejsie...."
          ],
          [
           "  Z tymi wizjami to może być problem. Proponuję sprawdzić po czym te wizję są"
          ],
          [
           "Czy Antek już ogłosił, że na lewym skrzydle naszej obrony był wybuch?"
          ],
          [
           "  Czy Antek już ogłosił, że na lewym skrzydle naszej obrony był wybuch?"
          ],
          [
           " jest to dobra informacja dla tych co okradali  Polskę od 89  roku  Irlandia da im wolność"
          ],
          [
           "   jest to dobra informacja dla tych co okradali  Polskę od 89  roku  Irlandia da im wolność"
          ],
          [
           "    Wywalił Ronaldo w Superpucharze :)"
          ],
          [
           "Halo Kraków, kogo byście uznali za gwiazdę/najważniejszego zawodnika obecnej Wisły? 😉"
          ],
          [
           "  Ssą wszystkimi otworami z krwi biało czerwonej"
          ],
          [
           "   Znowu on ? 😂 to przy okazji niech się odniesie do słów Sarary 😂"
          ],
          [
           " Dotarlas do orełka?😁😁 W tym roku niestety tyłko jeden😞😞"
          ],
          [
           "   A Panu nie brakuje czasem art. 87 pkt1?"
          ],
          [
           " Czy to oknoplus ladowal kiedyś"
          ],
          [
           "  5 punktów na 21 w rundzie finałowej..."
          ],
          [
           ".  Będziemy realizować przekop Mierzei Wiślanej \\n#wieszwiecej  \\nhttps://t.co/zuCXxG1GUr"
          ],
          [
           "  .  Będziemy realizować przekop Mierzei Wiślanej \\n#wieszwiecej  \\nhttps://t.co/zuCXxG1GUr"
          ],
          [
           " Bolek wyluzuj bo jesteś sercowy."
          ],
          [
           " Śmiej się  śmiej. To wcale nie jest śmieszne."
          ],
          [
           "I hope that autumn will heal me"
          ],
          [
           "Jutro po marszu, ale jeszcze kilka dni beda chodzić naćpani"
          ],
          [
           " Nie ma jak lans nierobie za pieniądze podatników."
          ],
          [
           " A to ja przepraszam, nie miałam wczoraj czasu na TT 😎"
          ],
          [
           "11 tysięcy miejsc zajętych, dzisiaj prawie 2000 biletów sprzedanych. Z tej okazji za chwilę nagroda 😁"
          ],
          [
           "  To ja chyba tylko kolory porównywałem"
          ],
          [
           "Ej słuchajcie co zajebistego wymyśliłam \\n\\nJaki jest najlepszy argument bonnie z pamiętników wampirów? \\n\\nBo nnie"
          ],
          [
           "  Ej słuchajcie co zajebistego wymyśliłam \\n\\nJaki jest najlepszy argument bonnie z pamiętników wampirów? \\n\\nBo nnie"
          ],
          [
           " Im więcej problemów w państwie tym więcej niewykonanych wyroków"
          ],
          [
           "Widziałam śliczną sukienkę ale nie było mniejszego rozmiaru niż 36 i była za duża danmm"
          ],
          [
           "   nie, ale jeśli ktoś wypomina Levadie to niech bedzie obiektywny i wspomni też inny wynik."
          ],
          [
           " O naszych meczach z Rio Ave można powiedzieć podobnie 😉"
          ],
          [
           "W sumie to polubiłam już zajęcia z konstrukcji przekazu reklamowego i prowadzący jest świetny"
          ],
          [
           "Ej chciałabym do samorządu w sumie hahahaha"
          ],
          [
           " Tez nie mam snapa hahahahaha"
          ],
          [
           " Ileż można o tym Wiluszu ?..."
          ],
          [
           " A po polsku to jak to będzie?"
          ],
          [
           "  A skąd on wie jak jest w innych klubach ? Niech się wypowiada o klubach w których grał."
          ],
          [
           "I ta Wisła, która się bawi z każdym w ofensywie, w Białymstoku miała pół sytuacji."
          ],
          [
           "   Zapytalem,  szwagierka mówi że ma konto w powerbanku"
          ],
          [
           "  Mięciuteńki straszliwie. Tam były ręce na ciele, a nie jakieś szarpanie. Tylko że nie do VAR-u."
          ],
          [
           " Zdejmujesz Dziadkowi okulary, zakładasz Babci i jestem \\n😎"
          ],
          [
           "   w końcu jakiś ciekawy wywiad :)"
          ],
          [
           " jak tam widziałeś czerwoną to rzeczywiście wyjdź"
          ],
          [
           " skoro zarząd pozwala na takie cyrki to niestety potrwa to lata"
          ],
          [
           "  Cieszmy się że drużyna dalej gra w lidze.Nie zawsze można mieć najmocniejszy skład w lidze :)"
          ],
          [
           "   Znawca wszystkiego czyli niczego od bydła po powidło"
          ],
          [
           " 😂😂😂😂😂😂😂😂😂😂😂😂😂🤣🤣🤣🤣🤣🤣🤣🤣🤣🤣🤣🤣🤣😂😂😂😂😂😂😂🤣🤣🤣🤣🤣🤣🤣🤣🤣🤣🤣🤣🤣🤣🤣😂😂😂😂😂😂😂😂😂😂😂😂😂😂😂😂\\n\\nSłów odpowiednich żaden słownik nie zawiera"
          ],
          [
           " Vacek, Putnocky, Nielsen.Widzę że biorą się za odmładzanie składu :)"
          ],
          [
           " Lub kibiców w Gliwicach 😜"
          ],
          [
           " No właśnie była lepsza 😜"
          ],
          [
           "    No weź nie rob takiej miny"
          ],
          [
           " Bo jest Głowacki to teraz czas na obrońców"
          ],
          [
           "  Nie ma takiej opcji. Oszust i kłamca w roli głównej - tego jeszcze świat nie widział."
          ],
          [
           " Nie jest złe! Chodzisz w szpilkach? Cokolwiek byś nie założyła to szpilki choć trochę pomogą xd"
          ],
          [
           " Jakby był definitywny to trochę slabo 😂"
          ],
          [
           " a co się tak pieniedzmi nagle przejmujesz ? Jak chcialas rozwiazania kontraktu z Zohnova czy Pop to kasa juz nie wazna ?"
          ],
          [
           " Oskar Łąk definitywnie odszedł z Wisły ?\\n\\nhttps://t.co/o0psVgZBUl"
          ],
          [
           " gratulacje ! Dzięki za dotrzymanie słowa że dzisiaj koniec :) Zasłużyłyście !"
          ],
          [
           "Jezu, co zagrali Suarez i Cavani."
          ],
          [
           " Na pewno łatwiej by było znaleźć, określić i poprawić problemy"
          ],
          [
           " Można, dlatego nasz poziom piłkarski był bardzo słaby wczoraj."
          ],
          [
           " Wybacz, ale nie sądzę, aby głównym problemem kadry były złe powołania na numerach 21-23 w kadrze."
          ],
          [
           "jeśli nie mogę wyglądać tak jak\\n•perrie edwards\\n•troian bellisario\\nto what’s the point of existing?"
          ],
          [
           "  jeśli nie mogę wyglądać tak jak\\n•perrie edwards\\n•troian bellisario\\nto what’s the point of existing?"
          ],
          [
           " Nadal i Djoković to się w sumie cieszą, bo ten, kto w ich meczu wygra, będzie praktycznie zwycięzcą turnieju."
          ],
          [
           "   wyśle im jutro list od kibiców cracovii że chcą odejścia Filipiaka.Ciekawe czy też opublikują."
          ],
          [
           " No to skąd wiedziałeś czy stopklatka jest zrobiona w odpowiednim momencie ? Nie kompromituj się"
          ],
          [
           "   Iza - dziewczyna, cud, miód, malina 😁"
          ],
          [
           "Zaraz pół mojego instagrama i cały Twitter będzie na koncercie Eda.... i jestem jeszcze ja............"
          ],
          [
           " Z tamtego Adama dziś już nic nie zostało. Ale czepianie się go za brata i ojca osobiście nie popieram"
          ],
          [
           " Może też być kołderka 😍"
          ],
          [
           " Dlaczego średnio? W decydujacym o awansie Widzewa czerwcu był piłkarzem miesiąca"
          ],
          [
           " błedem było ściaganie zawodników których nas niestać byleby osiągnąć cel"
          ],
          [
           " Każdy kto choć trochę się orientuje w tych sprawach wie, że na Hutniku nie ma oświetlenia..."
          ],
          [
           " Maliniak dal reklame za dormo ponoć caly marsz niepodleglosci ubrali, prawda to redisbad?"
          ],
          [
           " niech wejdzie na luzie i pewnie tak żeby nie musiał zostawiać dokumentu, milion osób tak przemyciłam"
          ],
          [
           "  Bo byliśmy bez formy, to oczywiste. Przecież to też napisałem."
          ],
          [
           " jest juz aktualizacja składów czy jakis dodatek sciągałeś ? :)"
          ],
          [
           "      Mam nadzieję że nigdy więcej. Czekam na rychłą delegalizację."
          ],
          [
           "  O 11.00 wielkie obtrabienie sukcesu..."
          ],
          [
           " Taki Błaszczykowski tez za co do repry?  Żeby niebylo ze wbijam szpilki do legi?"
          ],
          [
           "Często wracam do tego kawałka. "
          ],
          [
           "omg ale jestem wyjebana po tym wykładzie"
          ],
          [
           "  Ale Karolina ostatnio była w TVP 😜"
          ],
          [
           "#NAME?"
          ],
          [
           "  U mnie też wyświetla właściwe kolory 😊"
          ],
          [
           "Yerri Mina - złota piłka 😁"
          ],
          [
           " jeszcze nie mam planu wykonania ;-)"
          ],
          [
           " Śląsk Wrocław ma jakiś drugi podmiot, że wystawia drugi zespół w barażach?"
          ],
          [
           "Nie wiem, jak Barcelona i Real otrząsną się po utracie tak ważnych piłkarzy, jak Paulinho i Cristiano Ronaldo."
          ],
          [
           "Polska zrealizowala nasze cele w UE na szczycie z nawiązką. Podajcie dalej  koniecznie potrzebne - dziękuję😊\\nhttps://t.co/OzUaePZLpY"
          ],
          [
           "  Polska zrealizowala nasze cele w UE na szczycie z nawiązką. Podajcie dalej  koniecznie potrzebne - dziękuję😊\\nhttps://t.co/Oz…"
          ],
          [
           "   A my nie mamy helikopterów, rakiet, łodzi podwodnych a mamy WOT w którym ja biegam"
          ],
          [
           "  A czego oczekiwałeś ? Przedłużą z kimś kontrakt to poinformują"
          ],
          [
           " Jeszcze Podolski od jakiegoś czasu."
          ],
          [
           "Przepraszamy. Nie wpadliśmy na to, że pokazując środkowy palec narodowi, który - ponad podziałami, czci #PW1944, możemy kogoś obrazić. Sorki"
          ],
          [
           " ahhh myślałam, że na jakieś innej stronie"
          ],
          [
           " Źle... Miałeś napisać, że nie możesz więcej zdradzić :("
          ],
          [
           " Pan w tle, z lewej, to z mopem zasuwa? 🖒"
          ],
          [
           " Pomysł sobie ze ja oblałam bo z pełna świadomością wjebalam się na rondo XD widzisz to taki mały błąd, Ew"
          ],
          [
           " Hejka, hejka, sejonarka w czwartek o 11 juz do domku"
          ],
          [
           "  Mistrz, człowiek mem jedyny na świecie"
          ],
          [
           "   York czy Leszek Miller? :)"
          ],
          [
           " Kiedys kazdy kopniak bez piłki = czerwona, a jeśli to było tylko położenie ręki na głowę, to nie mamy o czym rozmawiac :)"
          ],
          [
           "Morawieckiemu coś nie idzie w Namysłowie. Teraz jako były prezes BZK WBK przedstawia się jaki ten, który zwalcza \\\"zachodnie korporacje\\\"."
          ],
          [
           "  Morawieckiemu coś nie idzie w Namysłowie. Teraz jako były prezes BZK WBK przedstawia się jaki ten, który zwalcza \\\"zacho…"
          ],
          [
           " No widzisz, a zwycięską asystę w tym meczu zanotował Griezmann. MVP = najbardziej wartościowy zawodnik :)"
          ],
          [
           "Jak go pierwszy raz usłyszałam to miałam ciarki na całym ciele"
          ],
          [
           " kibice nigdy nie pozwolą na to żeby po raz kolejny był trenerem"
          ],
          [
           " Jego tata tłumaczył konferencję przy okazji meczu z Rio Ave w Vila do Conde :)"
          ],
          [
           " a wyśmiewanie Lionela M. było po skazaniu go za oszustwa podatkowe ? bo jakoś przeoczyłem"
          ],
          [
           "   życzę Gatcie mistrza bo zasługują na to grając 2 sezony na wysokim poziomie."
          ],
          [
           " Plakat widzę tak  z   wymiana spojrzeń  a  na kolanach liże ich po stopach"
          ],
          [
           "  Mógł, ale jakoś nie chce mi się wierzyć, że tak to wyglądało."
          ],
          [
           "em ok wątek Jerzego i Zuzy w Przyjaciółkach to najlepsze co tam było kiedykolwiek"
          ],
          [
           "   Giertych: myślę, że myślę."
          ],
          [
           "Ostatnio się zrobiłam polityczna chyba studia weszły mi za mocno"
          ],
          [
           " nie chodziło mi o to że się cieszyłeś z upadku Wisły tylko że masz czarny humor :) że się z Wisły na Chojnice przerzuciłem :)"
          ],
          [
           "Ta drużyna powstała za czasów PO-PSL."
          ],
          [
           "  Ta drużyna powstała za czasów PO-PSL."
          ],
          [
           " Hołd to się oddaje bohaterom...."
          ],
          [
           "   a co ma procent zapelnienia pojemnosci do frekwencji ? Po za tym co to jest 50% na takim malym stadionie ?"
          ],
          [
           "Spółka srebrna kapitał  7 mln,  w zarządzie sekretarka i kierowca Jarkacza"
          ],
          [
           "Kto chce zrobić ze mna tea party??"
          ],
          [
           " No gdzie, wszystko zależało od Lecha w ostatniej kolejce :D"
          ],
          [
           "Moja morda to takie spierdolenie ze zaraz rykne"
          ],
          [
           "  Moja morda to takie spierdolenie ze zaraz rykne"
          ],
          [
           "  No w różnych miejscach ludzie seks uprawiają. Dajcie spokój..."
          ],
          [
           "Czemu żaden tramwaj nie jedzie wtf"
          ],
          [
           " Tak, statystyki to kłamstwa. Za to wyciągnięcie jednej sytuacji z 90 minutowego meczu to bezcenny dowód."
          ],
          [
           "  Zamiast tego można znaleźć grafiki na różnych ekranach / telebimach w mieście."
          ],
          [
           " Ale co to ma do Mystka?"
          ],
          [
           " Serio chcecie cichego stadionu ?"
          ],
          [
           "Co to miało być? 😂"
          ]
         ],
         "hovertemplate": "label=0<br>x=%{x}<br>y=%{y}<br>text=%{customdata[0]}<extra></extra>",
         "legendgroup": "0",
         "marker": {
          "color": "#636efa",
          "symbol": "circle"
         },
         "mode": "markers",
         "name": "0",
         "orientation": "v",
         "showlegend": true,
         "type": "scatter",
         "x": [
          7.404130935668945,
          -3.994063377380371,
          5.049230098724365,
          15.08554458618164,
          -6.631203651428223,
          -7.2525787353515625,
          -1.422365665435791,
          6.826990127563477,
          -14.400981903076172,
          6.537298679351807,
          13.010154724121094,
          7.651852607727051,
          18.895750045776367,
          18.895750045776367,
          -13.449686050415039,
          15.363636016845703,
          26.344562530517578,
          14.563785552978516,
          21.977989196777344,
          -0.8166237473487854,
          -9.609464645385742,
          -19.80889892578125,
          14.01872730255127,
          -4.657491207122803,
          -8.329421997070312,
          -6.1862874031066895,
          1.1640921831130981,
          1.1640921831130981,
          21.932199478149414,
          16.989151000976562,
          -9.063581466674805,
          -5.635095119476318,
          0.9179861545562744,
          -7.31765079498291,
          9.430769920349121,
          9.430769920349121,
          26.03302574157715,
          -1.2240289449691772,
          -14.966513633728027,
          -8.312705993652344,
          14.271512031555176,
          14.271512031555176,
          -12.709735870361328,
          8.306034088134766,
          -1.3827126026153564,
          6.385412693023682,
          -8.856730461120605,
          -16.59632110595703,
          5.268026351928711,
          20.00648307800293,
          9.747239112854004,
          14.13769245147705,
          -9.015114784240723,
          13.738810539245605,
          12.718603134155273,
          1.898555040359497,
          -9.70482349395752,
          -5.191816806793213,
          13.044642448425293,
          -0.7198953628540039,
          11.91549015045166,
          15.34381103515625,
          -4.129560947418213,
          6.915213108062744,
          10.476229667663574,
          -0.8799628615379333,
          -0.028701772913336754,
          -13.172033309936523,
          -8.332010269165039,
          -4.352654457092285,
          14.41749095916748,
          14.413063049316406,
          -10.61783218383789,
          -20.4102725982666,
          4.087749481201172,
          -6.012810707092285,
          16.342105865478516,
          22.448253631591797,
          4.294006824493408,
          12.54531192779541,
          6.034048557281494,
          5.482701778411865,
          16.49404525756836,
          -2.8328475952148438,
          1.3527827262878418,
          13.831230163574219,
          -7.670815944671631,
          4.039674758911133,
          6.8126020431518555,
          2.7005040645599365,
          2.7005040645599365,
          -15.383769035339355,
          -9.657173156738281,
          8.99582576751709,
          3.555743932723999,
          3.555743932723999,
          2.6555395126342773,
          -14.690621376037598,
          7.969383716583252,
          -5.7498674392700195,
          3.6037278175354004,
          -2.5739753246307373,
          15.98827075958252,
          -5.732137203216553,
          -8.616044998168945,
          2.404953956604004,
          8.112333297729492,
          7.206873893737793,
          -3.5403037071228027,
          10.791938781738281,
          10.791938781738281,
          12.119483947753906,
          7.230601787567139,
          14.022055625915527,
          -5.677567481994629,
          5.930480003356934,
          5.076982498168945,
          10.726784706115723,
          -6.431656360626221,
          -2.334148645401001,
          -6.80334997177124,
          20.15543556213379,
          5.991904258728027,
          6.904769420623779,
          -8.096125602722168,
          -11.516016006469727,
          -6.234790325164795,
          -2.9875011444091797,
          -9.53727912902832,
          -5.68818473815918,
          -1.9406242370605469,
          -8.574478149414062,
          -14.95248794555664,
          -14.952621459960938,
          -18.086889266967773,
          9.4221773147583,
          -16.183387756347656,
          -16.80898666381836,
          0.07691516727209091,
          -14.27707290649414,
          5.697281360626221,
          4.620619773864746,
          -13.949198722839355,
          11.113946914672852,
          11.179821968078613,
          0.5410091876983643,
          -1.2054625749588013,
          9.993081092834473,
          5.530355930328369,
          11.63127613067627,
          11.63127613067627,
          7.696165561676025,
          0.40363720059394836,
          5.728968143463135,
          13.469161033630371,
          16.07329750061035,
          8.51414680480957,
          4.179484844207764,
          -3.0611352920532227,
          9.129315376281738,
          6.715762615203857,
          -7.337867259979248,
          19.07134246826172,
          5.296780586242676,
          -6.511357307434082,
          7.301676273345947,
          -10.526888847351074,
          5.6200079917907715,
          -6.631004810333252,
          8.964797973632812,
          -3.742339849472046,
          17.038686752319336,
          2.331418991088867,
          -13.554353713989258,
          3.2560298442840576,
          -12.271224975585938,
          7.487721920013428,
          -0.3733989894390106,
          1.3660751581192017,
          -8.954938888549805,
          0.6368746757507324,
          17.282468795776367,
          -6.003378391265869,
          6.86401891708374,
          -8.905292510986328,
          -15.163469314575195,
          -15.16219425201416,
          13.035417556762695,
          -6.626974105834961,
          -13.477262496948242,
          -6.62227201461792,
          14.323163986206055,
          -3.6495707035064697,
          3.714858293533325,
          -7.833669662475586,
          14.251117706298828,
          10.94741439819336,
          13.685529708862305,
          -3.150609254837036,
          -16.26226234436035,
          -7.13281774520874,
          -1.638784408569336,
          8.26594066619873,
          -10.853435516357422,
          -10.035937309265137,
          -9.900965690612793,
          -5.975431442260742,
          3.985091209411621,
          3.165501832962036,
          3.1654646396636963,
          -6.181087017059326,
          0.5734769105911255,
          2.508820056915283,
          14.153780937194824,
          -3.300227165222168,
          -9.889359474182129,
          7.098818778991699,
          15.696532249450684,
          7.130202770233154,
          13.180586814880371,
          17.98975372314453,
          -4.142721176147461,
          -18.08455467224121,
          9.714823722839355,
          -7.704273700714111,
          -8.281366348266602,
          -12.293065071105957,
          -5.329509258270264,
          7.107329845428467,
          -0.4706319272518158,
          -3.193152904510498,
          -9.498062133789062,
          -17.03460121154785,
          -13.004453659057617,
          20.34629249572754,
          9.861141204833984,
          -16.67574691772461,
          0.3187471032142639,
          4.6540985107421875,
          12.771492958068848,
          -3.0824902057647705,
          -14.054450988769531,
          3.3848419189453125,
          -13.350296020507812,
          -10.19145679473877,
          2.7083683013916016,
          -3.6923301219940186,
          -12.917146682739258,
          -2.0677993297576904,
          26.611347198486328,
          26.611347198486328,
          -8.565267562866211,
          17.803817749023438,
          -17.61563491821289,
          -1.6419824361801147,
          -9.657035827636719,
          -10.7128267288208,
          -8.057435989379883,
          0.0645395889878273,
          0.6638033390045166,
          11.88802719116211,
          3.0298566818237305,
          -17.172922134399414,
          -3.2565395832061768,
          -3.016651153564453,
          -16.0947265625,
          -4.865747928619385,
          -4.865903377532959,
          7.452486515045166,
          16.376140594482422,
          -3.48439359664917,
          -4.508885383605957,
          15.757150650024414,
          -4.215778827667236,
          -23.516040802001953,
          -3.0058205127716064,
          -0.1218700259923935,
          1.6732152700424194,
          8.563214302062988,
          -4.349172115325928,
          13.46220588684082,
          14.915644645690918,
          -5.1061882972717285,
          8.429059982299805,
          8.429059982299805,
          -4.466545581817627,
          -4.008188724517822,
          -11.023519515991211,
          -2.236011266708374,
          -12.844743728637695,
          -7.145968914031982,
          -8.991436958312988,
          -2.4303064346313477,
          4.795407295227051,
          4.795407295227051,
          8.727167129516602,
          6.8665289878845215,
          8.923075675964355,
          -13.177068710327148,
          -5.943034648895264,
          8.601469039916992,
          -9.708544731140137,
          2.162879705429077,
          -7.1341753005981445,
          0.7752862572669983,
          -3.541316270828247,
          -0.2724711298942566,
          4.39509391784668,
          4.395122051239014,
          2.6865768432617188,
          1.5922733545303345,
          -9.222332954406738,
          18.32367515563965,
          18.32371711730957,
          -8.65276050567627,
          -8.652703285217285,
          16.95008087158203,
          16.029924392700195,
          2.482301950454712,
          -11.479238510131836,
          11.065849304199219,
          -0.22938401997089386,
          -15.542745590209961,
          -2.090599536895752,
          21.32008171081543,
          21.32008171081543,
          -1.9725955724716187,
          -4.378616809844971,
          -3.471097230911255,
          15.24627685546875,
          -3.4683549404144287,
          -16.237621307373047,
          8.843975067138672,
          -14.72066593170166,
          0.6861619353294373,
          0.6861745715141296,
          25.741640090942383,
          -3.2094802856445312,
          -5.765270233154297,
          10.580644607543945,
          4.108393669128418,
          -13.735749244689941,
          -10.935535430908203,
          6.508391380310059,
          -13.409523010253906,
          -11.014470100402832,
          12.992085456848145,
          -11.602214813232422,
          4.642240047454834,
          2.039698839187622,
          17.120431900024414,
          -9.417014122009277,
          -19.023509979248047,
          13.229439735412598,
          0.5035068392753601,
          3.8877835273742676,
          17.369163513183594,
          11.723398208618164,
          -16.468393325805664,
          -8.599236488342285,
          -19.564603805541992,
          2.0321788787841797,
          -4.01886510848999,
          -8.010109901428223,
          -13.777177810668945,
          13.678112030029297,
          -4.1349263191223145,
          18.158660888671875,
          0.1418805867433548,
          13.311861991882324,
          12.903338432312012,
          25.18453025817871,
          25.18453025817871,
          11.794025421142578,
          7.363884449005127,
          -13.177099227905273,
          24.080276489257812,
          1.9696969985961914,
          -1.4511969089508057,
          -2.831482410430908,
          15.272150993347168,
          3.3001513481140137,
          1.711671233177185,
          0.10995811969041824,
          -0.4576904773712158,
          -14.003642082214355,
          -11.392363548278809,
          -5.842259407043457,
          6.603964805603027,
          -1.6534730195999146,
          8.974823951721191,
          -6.383520126342773,
          11.242131233215332,
          23.6395263671875,
          2.167494535446167,
          15.680031776428223,
          6.600607395172119,
          16.13259506225586,
          10.339354515075684,
          5.510697841644287,
          5.5070881843566895,
          -4.361845016479492,
          -14.082411766052246,
          9.614968299865723,
          15.362615585327148,
          -6.058335304260254,
          2.555417537689209,
          -0.24569416046142578,
          -7.836330890655518,
          -2.1578962802886963,
          16.957304000854492,
          25.05474281311035,
          -2.72578763961792,
          14.266153335571289,
          14.248783111572266,
          14.993645668029785,
          -0.11582636088132858,
          0.3529547154903412,
          10.985893249511719,
          -10.823765754699707,
          -7.017452239990234,
          -4.996326446533203,
          -5.665400505065918,
          -9.91617488861084,
          -15.029680252075195,
          -5.875791072845459,
          -9.671146392822266,
          7.060916900634766,
          7.060916900634766,
          10.972630500793457,
          -12.428863525390625,
          14.217033386230469,
          -16.07469367980957,
          8.239419937133789,
          -22.08339500427246,
          -22.08339500427246,
          5.4396820068359375,
          -4.051449775695801,
          -7.0694684982299805,
          10.678194046020508,
          -13.66871166229248,
          -20.177284240722656,
          -15.191082954406738
         ],
         "xaxis": "x",
         "y": [
          10.498332023620605,
          -6.647597789764404,
          11.402979850769043,
          5.457128047943115,
          -8.277071952819824,
          0.1382131427526474,
          15.080270767211914,
          10.873514175415039,
          4.827428340911865,
          -3.8972930908203125,
          12.709709167480469,
          -18.970500946044922,
          4.612670421600342,
          4.612670421600342,
          -4.716675758361816,
          10.311721801757812,
          -5.6095805168151855,
          -5.316525936126709,
          5.999736309051514,
          -5.748778820037842,
          -4.569913864135742,
          0.4412306249141693,
          -14.830838203430176,
          -9.728766441345215,
          -0.6028488278388977,
          2.4852914810180664,
          25.884145736694336,
          25.884145736694336,
          2.378720998764038,
          5.04110860824585,
          9.985479354858398,
          9.169283866882324,
          4.3070197105407715,
          -7.3027496337890625,
          -10.734223365783691,
          -10.734223365783691,
          -7.922658443450928,
          -13.054801940917969,
          -4.496572971343994,
          -5.9096760749816895,
          -24.07081413269043,
          -24.07081413269043,
          4.858743190765381,
          -16.43045997619629,
          17.662269592285156,
          16.642911911010742,
          -14.404622077941895,
          -16.547882080078125,
          -22.15212059020996,
          -4.9582648277282715,
          -5.612090587615967,
          -11.182497024536133,
          -1.509242296218872,
          -12.710026741027832,
          -1.5796540975570679,
          -10.34978199005127,
          1.0759207010269165,
          -2.611569404602051,
          1.4044984579086304,
          8.674777030944824,
          10.458548545837402,
          14.510870933532715,
          8.566717147827148,
          -15.087890625,
          16.96735954284668,
          -9.948765754699707,
          21.13884162902832,
          -17.01445198059082,
          -17.10063362121582,
          -16.82246971130371,
          -3.581937074661255,
          -3.4602890014648438,
          -5.883274078369141,
          6.776773452758789,
          21.645883560180664,
          -7.310353755950928,
          -7.243226051330566,
          6.623308181762695,
          19.326791763305664,
          -6.469728946685791,
          -10.086902618408203,
          -12.19656753540039,
          -5.217748165130615,
          17.197402954101562,
          -17.100595474243164,
          -7.437717437744141,
          14.34617805480957,
          3.7976322174072266,
          -14.16069221496582,
          -16.901432037353516,
          -16.901432037353516,
          9.344551086425781,
          21.355348587036133,
          1.9109104871749878,
          -10.172735214233398,
          -10.172735214233398,
          14.483835220336914,
          1.2336474657058716,
          -20.989376068115234,
          -1.247571349143982,
          12.287034034729004,
          19.34250831604004,
          -14.399405479431152,
          -0.26803040504455566,
          -9.944881439208984,
          -18.416561126708984,
          -9.514156341552734,
          2.7463648319244385,
          -0.3425600528717041,
          19.06208610534668,
          19.06208610534668,
          -3.481644630432129,
          -11.78085708618164,
          2.7377207279205322,
          3.2045180797576904,
          4.7239909172058105,
          -18.16544532775879,
          8.92148208618164,
          11.984424591064453,
          8.830911636352539,
          20.861841201782227,
          10.983550071716309,
          3.9254510402679443,
          -1.635621190071106,
          18.864988327026367,
          -13.893738746643066,
          -9.622885704040527,
          -10.288407325744629,
          2.3794875144958496,
          18.50644302368164,
          -0.7545849084854126,
          10.613274574279785,
          -22.346668243408203,
          -22.34674835205078,
          -2.8345932960510254,
          -12.339253425598145,
          5.004576206207275,
          -5.564636707305908,
          13.62258529663086,
          -2.2650721073150635,
          -5.222225666046143,
          13.987545013427734,
          -12.78196907043457,
          5.8709397315979,
          -21.702646255493164,
          15.25754451751709,
          11.692400932312012,
          13.446322441101074,
          13.208601951599121,
          -23.011272430419922,
          -23.011272430419922,
          0.6348552703857422,
          -11.843926429748535,
          16.465423583984375,
          -5.522374153137207,
          -18.4766845703125,
          14.586723327636719,
          1.2723243236541748,
          -5.312061786651611,
          8.223645210266113,
          -1.5993373394012451,
          16.997615814208984,
          7.880934715270996,
          1.9873144626617432,
          20.15623664855957,
          20.998743057250977,
          -8.477472305297852,
          0.07735423743724823,
          -18.15726089477539,
          11.722879409790039,
          -15.631133079528809,
          12.660181045532227,
          9.960660934448242,
          5.6064019203186035,
          12.86937427520752,
          1.3692975044250488,
          -6.1041083335876465,
          20.24033546447754,
          5.77302360534668,
          -6.881723880767822,
          -0.21728447079658508,
          -16.68428611755371,
          14.906919479370117,
          6.20745325088501,
          18.740585327148438,
          -11.892067909240723,
          -11.892083168029785,
          -14.344844818115234,
          -2.7514774799346924,
          13.693639755249023,
          5.83953857421875,
          4.649576187133789,
          -15.303634643554688,
          -11.116856575012207,
          12.810630798339844,
          9.263115882873535,
          13.280293464660645,
          4.839485168457031,
          -19.590723037719727,
          -2.3979294300079346,
          2.586474895477295,
          9.922094345092773,
          5.00537109375,
          4.9963250160217285,
          -18.92162322998047,
          -22.815975189208984,
          -14.483749389648438,
          -15.7272367477417,
          2.5707967281341553,
          2.5707545280456543,
          -12.481194496154785,
          -15.010647773742676,
          12.16030216217041,
          -15.07150650024414,
          9.000871658325195,
          -16.659582138061523,
          19.773496627807617,
          19.72661590576172,
          -9.04235553741455,
          -8.960517883300781,
          -8.382975578308105,
          -10.403657913208008,
          -0.8475942611694336,
          0.2964843809604645,
          8.422962188720703,
          -10.369828224182129,
          -8.62972354888916,
          19.3223819732666,
          19.387449264526367,
          9.553337097167969,
          -22.20294761657715,
          8.619980812072754,
          0.7345024943351746,
          20.112627029418945,
          -1.617119550704956,
          -6.1920695304870605,
          9.044535636901855,
          9.332271575927734,
          -14.146580696105957,
          -12.009330749511719,
          9.89041805267334,
          -6.003073692321777,
          -2.0125629901885986,
          9.563318252563477,
          16.540088653564453,
          7.279687881469727,
          16.798709869384766,
          17.480297088623047,
          11.26524829864502,
          -1.2788406610488892,
          -1.2788406610488892,
          -11.875677108764648,
          -13.324821472167969,
          3.0580265522003174,
          6.459151268005371,
          11.17313289642334,
          -15.524496078491211,
          2.993011236190796,
          7.410086631774902,
          2.8652796745300293,
          -8.626372337341309,
          17.389753341674805,
          9.884716987609863,
          7.034239292144775,
          11.64845085144043,
          16.166236877441406,
          -4.408014297485352,
          -4.407874584197998,
          3.4889585971832275,
          -3.384042739868164,
          -13.517502784729004,
          3.7296178340911865,
          -11.961597442626953,
          0.6184327006340027,
          2.634003162384033,
          1.9593087434768677,
          10.687389373779297,
          13.643476486206055,
          -3.025662660598755,
          2.4422073364257812,
          -10.46017074584961,
          -0.9095151424407959,
          -7.267162322998047,
          -13.175993919372559,
          -13.175993919372559,
          12.46533203125,
          17.77593994140625,
          -3.615025043487549,
          12.470285415649414,
          -1.8712677955627441,
          10.109034538269043,
          -8.564839363098145,
          4.950674533843994,
          -29.912418365478516,
          -29.912418365478516,
          -3.9609317779541016,
          15.76048755645752,
          -0.1645546406507492,
          -12.52409553527832,
          7.504266262054443,
          -7.517508506774902,
          -2.7605268955230713,
          -3.4428117275238037,
          -21.00048828125,
          17.609853744506836,
          15.784390449523926,
          -3.4170596599578857,
          -1.2106975317001343,
          -1.21061110496521,
          8.073583602905273,
          11.09794807434082,
          -0.3152308762073517,
          0.23881149291992188,
          0.23886843025684357,
          -15.828751564025879,
          -15.828795433044434,
          -10.490368843078613,
          0.4802483916282654,
          -13.600641250610352,
          3.038331985473633,
          -10.653848648071289,
          1.9457913637161255,
          2.8258213996887207,
          -17.491151809692383,
          -19.926847457885742,
          -19.926847457885742,
          -7.195603847503662,
          20.38290786743164,
          -23.655115127563477,
          13.752452850341797,
          -3.4910686016082764,
          -0.743579626083374,
          -13.827345848083496,
          6.622238636016846,
          -9.625399589538574,
          -9.624772071838379,
          2.8389978408813477,
          4.833805084228516,
          13.801444053649902,
          -18.027301788330078,
          -7.724245548248291,
          -16.095726013183594,
          12.77080249786377,
          -20.38735580444336,
          -8.370965957641602,
          1.9008643627166748,
          -10.11241626739502,
          -3.7342522144317627,
          2.763587236404419,
          -6.6090497970581055,
          10.000422477722168,
          13.750370025634766,
          6.719280242919922,
          -7.637928009033203,
          -21.995573043823242,
          15.48799991607666,
          -2.1550350189208984,
          -14.218595504760742,
          6.83593225479126,
          4.8849897384643555,
          4.122898101806641,
          0.9036164879798889,
          5.731431484222412,
          15.362488746643066,
          1.9235955476760864,
          -17.54975128173828,
          -11.615731239318848,
          -15.432915687561035,
          11.974905014038086,
          7.326521873474121,
          -0.8050935864448547,
          -5.379110813140869,
          -5.379110813140869,
          -7.288181304931641,
          6.653704643249512,
          2.5860347747802734,
          -6.52835750579834,
          -3.858614683151245,
          14.241803169250488,
          21.73334312438965,
          -9.51164722442627,
          10.169914245605469,
          7.667770862579346,
          -7.931183338165283,
          12.772639274597168,
          6.593512058258057,
          15.393295288085938,
          4.17997932434082,
          -16.821813583374023,
          -12.097498893737793,
          8.955659866333008,
          1.1257400512695312,
          -4.771033763885498,
          -4.909961700439453,
          2.7979929447174072,
          -15.640973091125488,
          12.296612739562988,
          8.499776840209961,
          -2.514920473098755,
          -13.873490333557129,
          -13.867809295654297,
          -1.3044073581695557,
          -4.67805290222168,
          7.150296688079834,
          2.3506319522857666,
          -11.28194808959961,
          20.033077239990234,
          -19.378868103027344,
          -6.458306312561035,
          -16.096435546875,
          7.097012519836426,
          -3.703007221221924,
          2.303218364715576,
          0.7051811814308167,
          0.6932080388069153,
          -13.263988494873047,
          5.5879807472229,
          5.649406433105469,
          -17.36998176574707,
          -9.933191299438477,
          -9.017304420471191,
          -8.074371337890625,
          16.521404266357422,
          -11.381110191345215,
          11.758281707763672,
          7.640100002288818,
          -5.192910194396973,
          -25.801246643066406,
          -25.801246643066406,
          2.6905126571655273,
          -10.339035987854004,
          -15.83405876159668,
          -21.52024269104004,
          -7.002045154571533,
          -12.294185638427734,
          -12.294185638427734,
          -3.332280158996582,
          14.609705924987793,
          -12.899526596069336,
          -8.618167877197266,
          -10.034832000732422,
          -2.3588709831237793,
          -8.795223236083984
         ],
         "yaxis": "y"
        },
        {
         "customdata": [
          [
           "  Super, polski premier składa kwiaty na grobach kolaborantów. Ale doczekaliśmy czasów."
          ],
          [
           "   Gdzie jest  . Brudziński jesteś kłamcą i marnym kutasem "
          ],
          [
           " Oprawa do Krzysia M. Ps Pinokio -\\n\\\" mogłeś być gangsterem a zostałeś 3 ligowym frajerem \\\"😀"
          ],
          [
           "  No to Skończmy kurwa z tym wersalem w j...ej szczujni"
          ],
          [
           "  Sprawdź chłopie w słowniku co oznacza słowo , którego używasz a potem się odzywaj."
          ],
          [
           "#Woronicza 17 poseł Halicki oburzony za Bolka.Naprawdè taki tępy czy tylko udaje idiotę?"
          ],
          [
           "   Bierze cie cie pod chuj a ty sie produkujesz"
          ],
          [
           "   Jak narazie to masz przywidzenia co nie zmienia faktu że cały czas jesteś idiotą."
          ],
          [
           " Główny powód to brak kasy, trzeba dać bogatym 500+,300+ i być bez godności i honoru"
          ],
          [
           "Nikt nigdy nie rozsiewał takiego smrodu jak "
          ],
          [
           " Koń też ma dużą głowę. Tylko wydaje mi się, że jest bardziej inteligentny niż Karczewski"
          ],
          [
           " Dzisiaj zajmujemy się WARiatem Krystyną ciekawe czy będzie płakał?"
          ],
          [
           " Tym w sejmie też? Banda hipokrytów i złodziei."
          ],
          [
           "  Koń by się uśmiał, TVN24 i TVN wolne media? Bardziej perfidnego łgarstwa nie słyszałem.. 🤔"
          ],
          [
           "    Koń by się uśmiał, TVN24 i TVN wolne media? Bardziej perfidnego łgarstwa nie słyszałem.. 🤔"
          ],
          [
           "  Z motłochem nie dyskutuję tylko daje bany. A Pani  gratuluję obrońcy."
          ],
          [
           " ale z kategoriami moim zdaniem przesadzają.Sponsor roku, serce, impreza ? Bez jaj"
          ],
          [
           " Równie dobrze można gola stracić :)"
          ],
          [
           " Chorwaci przerżną w końcówce dogrywki, wiadomo."
          ],
          [
           " Nasze dzieci będą zdegustwani, był taki PiS, taki  , historia populizmu i głupoty w latach 2015-2019, margines"
          ],
          [
           "Qrwa!! I niech mi nikt nie mówi, że czary to jakiś zabobon!! Chłopaki mają sztywne nogi!"
          ],
          [
           " NIECH JESZCZE DADZĄ LEKTORA I NA GŁÓWNA POSTAĆ MÓWIĄ NADZIEJA"
          ],
          [
           "   NIECH JESZCZE DADZĄ LEKTORA I NA GŁÓWNA POSTAĆ MÓWIĄ NADZIEJA"
          ],
          [
           " Nie no ludzie, żeby robić artykuł na temat jednego tweeta ?..."
          ],
          [
           " Usuń konto, wytrzeźwiej buduj od nowa"
          ],
          [
           "   Sekta, cha, cha, cha, obudź się z hipnozy, jesteś bolszewikiem"
          ],
          [
           " Tylko nie w dupę, to dla niektórych z nich byłaby przyjemność."
          ],
          [
           "  Widać chcą wiecej polskich mord gotujacych koninę"
          ],
          [
           " No to jak się przegrywa cały czas to lepiej przestać grać :)"
          ],
          [
           " Ban,ban i jeszcze raz ban! Co za prymitywne dno!"
          ],
          [
           "  Jasne, bo debile oglądający tvpis płaczą tylko na m jak miłość"
          ],
          [
           "Zdrady stanu to Donald Tusk dopuścił się już w 2010 r kiedy dodał Rosjanom śledztwo w sprawie katastrofy smoleńskiej."
          ],
          [
           "  Ty się oszuście i kłamco od nas odpierdol. My sobie damy radę bez twoich kłamstw"
          ],
          [
           "   odważne słowa jak na legioniste! 😂😂😂"
          ],
          [
           "   Krzyż celtycki w Irlandii debilu ma kompletnie inne znaczenie niż u neofaszystów."
          ],
          [
           " Coś w tym jest,bo ja też😁😁😁. I jeszcze bym dodał Dominisię W. której infantylizm mnie totalnie osłabia."
          ],
          [
           "  Gdzie oni znajdują takich dupków"
          ],
          [
           " Żal ci biedaku??? Gdyby nie Kaczyński to by je twoi przyjaciele z PO rozkradl"
          ],
          [
           "   Żal ci biedaku??? Gdyby nie Kaczyński to by je twoi przyjaciele z PO rozkradl"
          ],
          [
           "Sekta kurwa, jakaś niepojęta radość, każde konto pisdzielskie tylko o jednym"
          ],
          [
           " Jakiej pracy, ty już pajacu nie wiesz na czym się lansować. Sejm nie pracuje."
          ],
          [
           "   jutro walczycie ? Normalnie rycerze ! A gdzie byliście wcześniej ? A zapomniałem że nie o L chodziło"
          ],
          [
           " Ale to głupie, rdzennie głupie, bardziej głupie już być nie może"
          ],
          [
           " Już się boję. Postraszy mnie Pan kolegami narodowcami?"
          ],
          [
           "  Nazwisko tego babska😁😁😁😁. Bo Wczoraj był na MO😁😁😀"
          ],
          [
           " Zbiera się do kontrataku, dla swojego pryncypala pójdzie w bój, patrityczna dusza,  co nie  ?"
          ],
          [
           "   Tak to jest jak ktoś nie wie do którego lekarza iść najpierw."
          ],
          [
           "  Wasz świat? To się w nim zamknijcie i nie wystawiajcie nosa."
          ],
          [
           "  Przyjaciół to niech on sobie szuka za swoje prywatne pieniądze. I niech robi z siebie idiotę na własny rachunek."
          ],
          [
           " Ja przynajmniej mam profilowe i nie chowam się za awatarem. Ale bohaterów MW na to nie stać i w sumie nic w tym dziwnego."
          ],
          [
           " Czego się spodziewać po członku żydowskiego amerykańskiego lobby. Lata na kolanach przed żydami zrobiło swoje."
          ],
          [
           "   Czego się spodziewać po członku żydowskiego amerykańskiego lobby. Lata na kolanach przed żydami zrobiło swoj…"
          ],
          [
           " Ale ty jesteś żenujący. Dno metr mułu."
          ],
          [
           " znacznie bliżej jest mi muzułmanin  czy indus, niż katolicka, łysa swołocz ze wschodu europy, do tego rasistowska"
          ],
          [
           "   Low kick, kolano łokieć, blacha na czoło i stara leży"
          ],
          [
           " Wio endekdu, ścierwa, zdrajcy, szubienica"
          ],
          [
           "   Widzę, że dalej nie rozumiesz. No nic idę oglądać LM. Pozdro."
          ],
          [
           "  A co o włoskich faszystach i węgierskich nacjonalistach?"
          ],
          [
           "  Dojenie kasy przez rząd\\nKompromitacja Morawieckiego w Niemczech\\nKaczyński twórca państwa Polskiego w 2016 roku"
          ],
          [
           "   No to po co się zgodził na klauzule dopiero po zakończeniu przyszłego sezonu, a nie od razu ?"
          ],
          [
           " Jest to prawda. Ale MSZ powinien. On pewnie myślał, że jest w Pisowskiej Polsce i wszystkoi wolno.😀😀😀"
          ],
          [
           " Może ogłuszyły go te korki od szampanów, które strzelały po podpisaniu kontraktu Sadloka z Jagiellonią ?"
          ],
          [
           "Panie i panowie, totalna porażka  w miastach. \\nT O T A L N A \\nTo bardzo ważny znak."
          ],
          [
           "  Panie i panowie, totalna porażka  w miastach. \\nT O T A L N A \\nTo bardzo ważny znak."
          ],
          [
           "    ręce opadaj że takich rzeczy ludzie związani z futsalem nie wiedzą."
          ],
          [
           " Na wszystko masz odpowiedź, żyłeś w tych czasach?"
          ],
          [
           "  Mr. Czarnecki. To nie hipokryzja tylko zwykła ludzka przyzwoitość. Widać że niektórym obce takie  odruchy."
          ],
          [
           "  Maly murzyn, silny i zdrowy"
          ],
          [
           " Jeszcze was zjemy i wysramy"
          ],
          [
           " Wy narobiliscie 30miliardow dlugow za waszych rzadow #oddajciekase"
          ],
          [
           "   Wy narobiliscie 30miliardow dlugow za waszych rzadow #oddajciekase"
          ],
          [
           " Tak jak pisdzielstwo ośmiesza policjantów , to już, nikt, nigdy bardziej nie będzie"
          ],
          [
           " A kiedy przestanie wydawać mln na swoich ochroniarzy, tylko zacznie leczyć u psychiatry swoją manię prześladowczą?"
          ],
          [
           " Pierwszy priorytet zadowolić Jarkacza, drugi priorytet ssać kasę wszystkimi otworami,  mają rozdwojenie jaźni"
          ],
          [
           " Huj z wami dziennikarzami. Piłka nożna dla kibiców a nie pseudo dziennikarzy."
          ],
          [
           "  tylko nie Załuska.Nie potrzeba nam takich piłkarzy bez ambicji."
          ],
          [
           "Pensja, kasa, dojenie,  ,ssanie kasy, ruchanie w meskie dupy, zawsze za pis, trudny teren, ciezkie warunki"
          ],
          [
           " Polska to nie napis na dropsie, uuuu, niedobrze, uuuuuuu"
          ],
          [
           " raczej ty się powinieneś jebnąć ale nie wiem czy to pomoże"
          ],
          [
           " Jak narazie to sobie możecie kupę zrobić. Albo hurtowo dać dupy pedofilów w sutannach, których publicznie bronicie."
          ],
          [
           "Ale mam chujowy humor przez to, że nie zdałam i jestem na siebie zła"
          ],
          [
           "  A ty wieś kretynie CONTI jest Acta2 i czego dotyczy? Najpierw przeczytaj a potem się wypowiadaj."
          ],
          [
           "Beata #Mazurek w Sejmie na pytanie co myśli o pomyśle Kaczyńskiego o obniżkach wynagrodzeń: \\\"Ja nic nie myślę\\\". To słychać."
          ],
          [
           "  Beata #Mazurek w Sejmie na pytanie co myśli o pomyśle Kaczyńskiego o obniżkach wynagrodzeń: \\\"Ja nic nie myślę\\\". To słyc…"
          ],
          [
           " Kto mieczem wojuje od pochwy ginie "
          ],
          [
           "  Ale dlaczego głupi   tłumaczy to jeszcze głupszemu  ?"
          ],
          [
           "Nowe chodnikowe powiedzonko brzmi:\\n\\nPierdolisz jak Morawiecki, realy.\\n\\n  \\n\\nHybryda głupoty."
          ],
          [
           "  Nowe chodnikowe powiedzonko brzmi:\\n\\nPierdolisz jak Morawiecki, realy.\\n\\n  \\n\\nHybryda głupoty."
          ],
          [
           "jak ja się źle czulem jak byłem dzieckiem w  kościele to głow mala, szopka do kwadratu, nie mogłem tego wytrzymać"
          ],
          [
           "  Ty pajacu, zmień sobie herb na pusty łeb."
          ],
          [
           " Łukaszewicz, co Wy tam palicie?"
          ],
          [
           "   Leszku mój kochany, masz mózg wyprany"
          ],
          [
           " a ja współczuje zaślepienia.Wolę nie mieć Wolskiego niż robić kolejne długi "
          ],
          [
           "   Zawsze bedą afery bo zawsze będa tacy l którzy kradną  i tacy u wladzy których to kręci"
          ],
          [
           " zaraz będą pisać że Wisła szkoli kiboli żeby potrafili maczetą wymachiwać :)"
          ],
          [
           " Odstawiając narodowość na bok to ten skład jest przecież słabiutki."
          ],
          [
           " akurat Tobie bliżej do Karolaka bo w większości Cię wycięli 😂    "
          ],
          [
           " To się nazywa uzależnienie xD"
          ],
          [
           " Info z ostatniej chwili barwy pogoni skrojone przez bandytów Z Krakowa.  Pomimo zakazu Wisła rządzi"
          ],
          [
           " Co ty żresz, że ci tak pierdolnęło?"
          ],
          [
           "  Trudno być pewnym, gdy stoperzy mogą zagrać tylko lagę do przodu, bo środka nie mamy."
          ],
          [
           "   No właśnie, nie było i dlatego patologia została stosownie potraktowana."
          ],
          [
           " skoro jest dno dna to może skupmy się na tych od których coś wymagamy"
          ],
          [
           "   Tylko ty masz problem z rzecznikiem, więc zastanów się w kim tak naprawdę jest problem? 🤔"
          ],
          [
           "Wassermannówna kłamie, mówiąc, że „przyszła do polityki”. Ona przyjechała na trumnie ojca."
          ],
          [
           "  Wassermannówna kłamie, mówiąc, że „przyszła do polityki”. Ona przyjechała na trumnie ojca."
          ],
          [
           " Już dwa lata temu powinni wygrac Euro."
          ],
          [
           "jak Patryk Jaki wygra wybory w Warszawie oczyści stolicę z byłych UBECKICH funkcjonariuszy ! #woronicza17"
          ],
          [
           "  jak Patryk Jaki wygra wybory w Warszawie oczyści stolicę z byłych UBECKICH funkcjonariuszy ! #woronicza17"
          ],
          [
           "Szkoda, że przez wymysły Mendesa taki Ruben Neves się marnuje w Wolverhampton."
          ],
          [
           " Kolar niestety ten sam poziom. Chyba trzeba będzie liczyć na skuteczność Boguskiego i Małeckiego..."
          ],
          [
           " Przecież to legionista to komu ma życzyć mistrza.Nie wiedziałeś ?"
          ],
          [
           " Krzyż przeciw prezydenturze, krzyż obłędu"
          ],
          [
           " Jaki hejt.Hejt to jest na Tuska, Komorowskiego, przecież to nie Polacy, śmierć wrogom ojczyzny. Obudź się"
          ],
          [
           "Ale przecież #Polexit jest dobry. Założycie koszulki z orłem i będziecie żryć ziemniaki i wungiel 😇"
          ],
          [
           "  Ale przecież #Polexit jest dobry. Założycie koszulki z orłem i będziecie żryć ziemniaki i wungiel 😇"
          ],
          [
           "  Bo sama jest niepełnosprawna... Umysłowo.😁😁"
          ],
          [
           " Wy się zjednoczyliście z faszystami z połowy Europy. Kpromitacja level hard."
          ],
          [
           "  Mam rozumieć, że to mapa nasycenia krajów zboczeńcami w sutannach."
          ],
          [
           "  Polskę to kompromitują tacy jak ty. Oszołomie."
          ],
          [
           " 😁😁😁😁😁😁😁😁  teraz to mnie Pani ubawiła tym paskiem. A widziała Pani swoją szyję?"
          ],
          [
           "  Pajacu, jak podajesz przepis to masz go znać na pamięć. Inaczej robią z siebie idiotę tak jak teraz."
          ],
          [
           "   Ty się chyba debilu nie słyszysz, ty tekstów to się po nocach uczysz czy masz słuchawkę w uchu?"
          ],
          [
           "   Szczekać to mogą tacy jak ty #delegalizacja"
          ],
          [
           "  Mówisz że ONR lize doope😂"
          ],
          [
           "  A kiedy zaczniecie zbiórki na krówki i świnki?"
          ],
          [
           "  Plujecie na Polskę to my będziemy pluć na was."
          ],
          [
           "    Plujecie na Polskę to my będziemy pluć na was."
          ],
          [
           " Cie zaraz piznę, jak nie zaczniesz myśleć"
          ],
          [
           " Komentarz raz a dwa słysząc trybuny zastanawiam się czy ten kto wymyślił mecze w pn obejrzał choć jeden"
          ],
          [
           " A Ty nigdy nie robisz dwóch rzeczy jednocześnie? Np. idziesz i żujesz gumę."
          ],
          [
           "  Ty kurwa  nie pierdol w tv bo sie żygać chce"
          ],
          [
           " problemem jest to że jak sobie coś ubzdurasz to myślisz że zawsze masz racje bo jesteś wszechwiedzący "
          ],
          [
           " A pisdzielstwo, szczury, gady, plazy popromienne, azbestowe?"
          ],
          [
           "  jak Zarycki jest Twoim informatorem to te info można w kiblu spuścić"
          ],
          [
           "  Najpierw kasza, później przyjemności, a kiedyś wolność, ale wy klękacie bez obawy zostanie i tak bez was"
          ],
          [
           "   No oboje Państwo wyglądacie jak rodzeństwo. I tacy żółci oboje."
          ],
          [
           " No kurwa  ty masz nie rządzić, madz nie rządzić"
          ],
          [
           " personalnie do tej Pani, przyjrzyj się sobie   ,  "
          ],
          [
           "Czy naprawdę trzeba publicznie przyznawać się do nieprzygotowania do meczu, drodzy panowie komentatorzy? (kwestia Sheridana)"
          ],
          [
           "Na tt te beznadziejne gadki o niczym, to już wolę sam ze sobą"
          ],
          [
           " Pamiętaj, ze ja daleko do ciebie nie mam 😂"
          ],
          [
           " Jest tej chołoty tutaj całkiem sporo. Napewno się udzielają."
          ],
          [
           " do domu bo ci rózga dupę  ty mały  "
          ],
          [
           "Teraz zarykam nos i mowie \\\"cała polska z was sie śmieje, komuniści i zlodzieje,"
          ],
          [
           " Pana zdanie nie interesuje Polaków ❗\\nWypchaj się Pan niemiecką, śmierdzącą onucą ❗"
          ],
          [
           "   Pana zdanie nie interesuje Polaków ❗\\nWypchaj się Pan niemiecką, śmierdzącą onucą ❗"
          ],
          [
           " Badziewny zespół, a i tak Anglicy byli o krok od straty punktów :)"
          ],
          [
           " nawet pasy to dla was za duże wyzwanie co widać po twoim profilowym.Mistrzowie opraw."
          ],
          [
           " Haha  a ilu ty zapraszasz do studia co pierd...takie głupoty..."
          ],
          [
           "   Haha  a ilu ty zapraszasz do studia co pierd...takie głupoty..."
          ],
          [
           " Ale za to wystąpił równie błyskotliwy,inteligentny, merytoryczny,bystry poseł Kieeerwiiinski!!!"
          ],
          [
           " Ok boli, boli. Czarne katabasy, mordercy irlandzkich kobiet i sierot do kruchty i pokutować do końca życia za swoje występki."
          ],
          [
           " Niby sami świnie, a nic nie wiedzą"
          ],
          [
           " tego się niespodziewałem po Tobie... Zawiodłeś nas :D "
          ]
         ],
         "hovertemplate": "label=1<br>x=%{x}<br>y=%{y}<br>text=%{customdata[0]}<extra></extra>",
         "legendgroup": "1",
         "marker": {
          "color": "#EF553B",
          "symbol": "circle"
         },
         "mode": "markers",
         "name": "1",
         "orientation": "v",
         "showlegend": true,
         "type": "scatter",
         "x": [
          16.19212532043457,
          -1.5538989305496216,
          15.521031379699707,
          -12.149455070495605,
          -11.378802299499512,
          21.868192672729492,
          -13.025607109069824,
          -11.9440279006958,
          4.02944803237915,
          -1.3469460010528564,
          -7.960374355316162,
          10.324094772338867,
          12.35473346710205,
          20.706815719604492,
          20.70694351196289,
          0.1506381779909134,
          9.507441520690918,
          1.658488392829895,
          11.140487670898438,
          4.5166497230529785,
          -1.6554811000823975,
          -6.276956558227539,
          -6.276956558227539,
          10.084081649780273,
          6.041290283203125,
          14.000170707702637,
          -2.775430917739868,
          7.949934482574463,
          -12.455632209777832,
          -11.4110746383667,
          -5.4013519287109375,
          11.671147346496582,
          -1.8395260572433472,
          10.84761905670166,
          2.5294430255889893,
          -0.8849126100540161,
          5.435227394104004,
          -20.549198150634766,
          -20.549304962158203,
          -1.071508765220642,
          -4.420230865478516,
          -17.40605354309082,
          -3.64862060546875,
          13.405045509338379,
          -1.3321318626403809,
          6.962048530578613,
          -4.025706768035889,
          -1.53549325466156,
          -3.857896327972412,
          -5.059830665588379,
          20.71210289001465,
          20.735883712768555,
          -4.84556770324707,
          5.95005464553833,
          10.282556533813477,
          22.618600845336914,
          -9.426094055175781,
          4.615706443786621,
          11.367469787597656,
          -11.9639892578125,
          -11.290480613708496,
          0.07031431049108505,
          -4.912088394165039,
          -4.912088394165039,
          5.157225608825684,
          -3.0596070289611816,
          -1.3029019832611084,
          3.5718607902526855,
          0.8686405420303345,
          0.9928929209709167,
          0.9928929209709167,
          -2.7059712409973145,
          12.319809913635254,
          15.721454620361328,
          1.9537893533706665,
          5.22387170791626,
          20.496686935424805,
          -18.527206420898438,
          -5.862337589263916,
          4.460696220397949,
          -5.363736152648926,
          -11.265931129455566,
          6.444703578948975,
          6.404694080352783,
          16.507715225219727,
          -13.178958892822266,
          24.560216903686523,
          24.560216903686523,
          -1.80351984500885,
          -6.783436298370361,
          -10.080681800842285,
          11.167478561401367,
          3.5423800945281982,
          0.2463061809539795,
          4.865940093994141,
          -16.282747268676758,
          -7.216361045837402,
          -16.391586303710938,
          9.11801815032959,
          -19.162561416625977,
          4.775108814239502,
          -2.859992265701294,
          1.3678513765335083,
          -5.350838661193848,
          19.205965042114258,
          19.205965042114258,
          14.264288902282715,
          11.31847858428955,
          11.318488121032715,
          16.642332077026367,
          12.678372383117676,
          -13.882977485656738,
          17.835674285888672,
          10.576887130737305,
          0.30861300230026245,
          0.3085991442203522,
          -11.859050750732422,
          2.291269302368164,
          -6.33579158782959,
          -19.838056564331055,
          -0.006595222279429436,
          -7.0971856117248535,
          -11.82264232635498,
          -19.743614196777344,
          -21.82950210571289,
          -3.788684844970703,
          -24.503158569335938,
          -24.503158569335938,
          0.7019267082214355,
          15.163551330566406,
          -9.348628997802734,
          -13.936647415161133,
          -12.442691802978516,
          21.084396362304688,
          -8.471749305725098,
          2.5894389152526855,
          1.814117670059204,
          -10.672713279724121,
          6.452051639556885,
          7.942651748657227,
          -7.1306915283203125,
          -8.012181282043457,
          6.956916809082031,
          -17.805736541748047,
          1.7315019369125366,
          14.653532028198242,
          14.653532028198242,
          3.8195645809173584,
          -2.712949752807617,
          -17.7023983001709,
          -17.7023983001709,
          21.984031677246094,
          7.108423709869385,
          -6.378644943237305,
          13.115065574645996
         ],
         "xaxis": "x",
         "y": [
          2.0429205894470215,
          -7.86935567855835,
          -17.73988914489746,
          -6.118352890014648,
          -0.5098525285720825,
          -2.201754570007324,
          -0.053445782512426376,
          10.137750625610352,
          -4.57590913772583,
          16.066802978515625,
          7.022275447845459,
          14.51134204864502,
          -16.34328269958496,
          -8.384771347045898,
          -8.385210037231445,
          1.9835686683654785,
          11.258962631225586,
          16.331920623779297,
          -6.982967853546143,
          -6.111778736114502,
          2.046823263168335,
          -26.75726318359375,
          -26.75726318359375,
          4.5140485763549805,
          -6.9690046310424805,
          -19.858179092407227,
          3.787832736968994,
          16.620288848876953,
          11.616676330566406,
          -11.363645553588867,
          -5.968116283416748,
          -9.454079627990723,
          -4.51099967956543,
          1.2057507038116455,
          0.22995077073574066,
          0.5535769462585449,
          6.999757766723633,
          -8.584879875183105,
          -8.584918022155762,
          3.764374256134033,
          10.873308181762695,
          -1.3807538747787476,
          20.98392677307129,
          18.37161636352539,
          -1.1583019495010376,
          -9.999165534973145,
          15.57015609741211,
          -3.0341637134552,
          -4.925518989562988,
          0.19329309463500977,
          2.1752278804779053,
          2.1813530921936035,
          5.88995361328125,
          -8.743945121765137,
          -0.7201099395751953,
          -10.861162185668945,
          6.328114032745361,
          -20.244155883789062,
          -12.484231948852539,
          -9.369044303894043,
          5.692931652069092,
          -14.273048400878906,
          -21.696495056152344,
          -21.696495056152344,
          5.259513854980469,
          -2.0902793407440186,
          3.5446996688842773,
          -5.895511627197266,
          -4.887427806854248,
          -26.34686851501465,
          -26.34686851501465,
          16.05492401123047,
          4.2649712562561035,
          3.496029853820801,
          -8.513598442077637,
          15.494583129882812,
          -11.652182579040527,
          -13.650368690490723,
          16.67400550842285,
          7.695108890533447,
          1.2008254528045654,
          -0.6012644171714783,
          -19.369586944580078,
          -19.29548454284668,
          -19.209819793701172,
          7.4074201583862305,
          -10.728487968444824,
          -10.728487968444824,
          7.286911964416504,
          -5.627302646636963,
          -12.308465957641602,
          22.649784088134766,
          5.557785987854004,
          -1.9556059837341309,
          8.974650382995605,
          15.006463050842285,
          -1.4702377319335938,
          -11.752452850341797,
          -15.605183601379395,
          -6.089081287384033,
          10.115311622619629,
          13.373960494995117,
          8.775425910949707,
          10.567362785339355,
          -5.342253684997559,
          -5.342253684997559,
          13.216574668884277,
          -15.549187660217285,
          -15.549111366271973,
          -2.405308961868286,
          6.880988121032715,
          3.13158917427063,
          2.329296827316284,
          2.0424633026123047,
          -6.047553062438965,
          -6.047468662261963,
          6.424064636230469,
          -12.951443672180176,
          -16.12930679321289,
          11.068317413330078,
          0.43768149614334106,
          4.830018520355225,
          0.17113299667835236,
          11.04744815826416,
          -11.116697311401367,
          -7.992524147033691,
          -6.030640125274658,
          -6.030640125274658,
          18.408781051635742,
          9.343029975891113,
          4.122773170471191,
          -0.33613070845603943,
          9.715004920959473,
          -11.871416091918945,
          -3.2642245292663574,
          4.80547571182251,
          -1.476488709449768,
          7.772783279418945,
          8.737688064575195,
          8.364450454711914,
          -4.38600492477417,
          1.3267977237701416,
          14.714116096496582,
          -9.047289848327637,
          -7.048886299133301,
          19.287609100341797,
          19.287609100341797,
          -21.370912551879883,
          0.7283772826194763,
          -6.778181552886963,
          -6.778181552886963,
          -2.273369550704956,
          -10.949528694152832,
          22.61898422241211,
          16.87917709350586
         ],
         "yaxis": "y"
        }
       ],
       "layout": {
        "legend": {
         "title": {
          "text": "label"
         },
         "tracegroupgap": 0
        },
        "template": {
         "data": {
          "bar": [
           {
            "error_x": {
             "color": "#2a3f5f"
            },
            "error_y": {
             "color": "#2a3f5f"
            },
            "marker": {
             "line": {
              "color": "#E5ECF6",
              "width": 0.5
             },
             "pattern": {
              "fillmode": "overlay",
              "size": 10,
              "solidity": 0.2
             }
            },
            "type": "bar"
           }
          ],
          "barpolar": [
           {
            "marker": {
             "line": {
              "color": "#E5ECF6",
              "width": 0.5
             },
             "pattern": {
              "fillmode": "overlay",
              "size": 10,
              "solidity": 0.2
             }
            },
            "type": "barpolar"
           }
          ],
          "carpet": [
           {
            "aaxis": {
             "endlinecolor": "#2a3f5f",
             "gridcolor": "white",
             "linecolor": "white",
             "minorgridcolor": "white",
             "startlinecolor": "#2a3f5f"
            },
            "baxis": {
             "endlinecolor": "#2a3f5f",
             "gridcolor": "white",
             "linecolor": "white",
             "minorgridcolor": "white",
             "startlinecolor": "#2a3f5f"
            },
            "type": "carpet"
           }
          ],
          "choropleth": [
           {
            "colorbar": {
             "outlinewidth": 0,
             "ticks": ""
            },
            "type": "choropleth"
           }
          ],
          "contour": [
           {
            "colorbar": {
             "outlinewidth": 0,
             "ticks": ""
            },
            "colorscale": [
             [
              0,
              "#0d0887"
             ],
             [
              0.1111111111111111,
              "#46039f"
             ],
             [
              0.2222222222222222,
              "#7201a8"
             ],
             [
              0.3333333333333333,
              "#9c179e"
             ],
             [
              0.4444444444444444,
              "#bd3786"
             ],
             [
              0.5555555555555556,
              "#d8576b"
             ],
             [
              0.6666666666666666,
              "#ed7953"
             ],
             [
              0.7777777777777778,
              "#fb9f3a"
             ],
             [
              0.8888888888888888,
              "#fdca26"
             ],
             [
              1,
              "#f0f921"
             ]
            ],
            "type": "contour"
           }
          ],
          "contourcarpet": [
           {
            "colorbar": {
             "outlinewidth": 0,
             "ticks": ""
            },
            "type": "contourcarpet"
           }
          ],
          "heatmap": [
           {
            "colorbar": {
             "outlinewidth": 0,
             "ticks": ""
            },
            "colorscale": [
             [
              0,
              "#0d0887"
             ],
             [
              0.1111111111111111,
              "#46039f"
             ],
             [
              0.2222222222222222,
              "#7201a8"
             ],
             [
              0.3333333333333333,
              "#9c179e"
             ],
             [
              0.4444444444444444,
              "#bd3786"
             ],
             [
              0.5555555555555556,
              "#d8576b"
             ],
             [
              0.6666666666666666,
              "#ed7953"
             ],
             [
              0.7777777777777778,
              "#fb9f3a"
             ],
             [
              0.8888888888888888,
              "#fdca26"
             ],
             [
              1,
              "#f0f921"
             ]
            ],
            "type": "heatmap"
           }
          ],
          "heatmapgl": [
           {
            "colorbar": {
             "outlinewidth": 0,
             "ticks": ""
            },
            "colorscale": [
             [
              0,
              "#0d0887"
             ],
             [
              0.1111111111111111,
              "#46039f"
             ],
             [
              0.2222222222222222,
              "#7201a8"
             ],
             [
              0.3333333333333333,
              "#9c179e"
             ],
             [
              0.4444444444444444,
              "#bd3786"
             ],
             [
              0.5555555555555556,
              "#d8576b"
             ],
             [
              0.6666666666666666,
              "#ed7953"
             ],
             [
              0.7777777777777778,
              "#fb9f3a"
             ],
             [
              0.8888888888888888,
              "#fdca26"
             ],
             [
              1,
              "#f0f921"
             ]
            ],
            "type": "heatmapgl"
           }
          ],
          "histogram": [
           {
            "marker": {
             "pattern": {
              "fillmode": "overlay",
              "size": 10,
              "solidity": 0.2
             }
            },
            "type": "histogram"
           }
          ],
          "histogram2d": [
           {
            "colorbar": {
             "outlinewidth": 0,
             "ticks": ""
            },
            "colorscale": [
             [
              0,
              "#0d0887"
             ],
             [
              0.1111111111111111,
              "#46039f"
             ],
             [
              0.2222222222222222,
              "#7201a8"
             ],
             [
              0.3333333333333333,
              "#9c179e"
             ],
             [
              0.4444444444444444,
              "#bd3786"
             ],
             [
              0.5555555555555556,
              "#d8576b"
             ],
             [
              0.6666666666666666,
              "#ed7953"
             ],
             [
              0.7777777777777778,
              "#fb9f3a"
             ],
             [
              0.8888888888888888,
              "#fdca26"
             ],
             [
              1,
              "#f0f921"
             ]
            ],
            "type": "histogram2d"
           }
          ],
          "histogram2dcontour": [
           {
            "colorbar": {
             "outlinewidth": 0,
             "ticks": ""
            },
            "colorscale": [
             [
              0,
              "#0d0887"
             ],
             [
              0.1111111111111111,
              "#46039f"
             ],
             [
              0.2222222222222222,
              "#7201a8"
             ],
             [
              0.3333333333333333,
              "#9c179e"
             ],
             [
              0.4444444444444444,
              "#bd3786"
             ],
             [
              0.5555555555555556,
              "#d8576b"
             ],
             [
              0.6666666666666666,
              "#ed7953"
             ],
             [
              0.7777777777777778,
              "#fb9f3a"
             ],
             [
              0.8888888888888888,
              "#fdca26"
             ],
             [
              1,
              "#f0f921"
             ]
            ],
            "type": "histogram2dcontour"
           }
          ],
          "mesh3d": [
           {
            "colorbar": {
             "outlinewidth": 0,
             "ticks": ""
            },
            "type": "mesh3d"
           }
          ],
          "parcoords": [
           {
            "line": {
             "colorbar": {
              "outlinewidth": 0,
              "ticks": ""
             }
            },
            "type": "parcoords"
           }
          ],
          "pie": [
           {
            "automargin": true,
            "type": "pie"
           }
          ],
          "scatter": [
           {
            "fillpattern": {
             "fillmode": "overlay",
             "size": 10,
             "solidity": 0.2
            },
            "type": "scatter"
           }
          ],
          "scatter3d": [
           {
            "line": {
             "colorbar": {
              "outlinewidth": 0,
              "ticks": ""
             }
            },
            "marker": {
             "colorbar": {
              "outlinewidth": 0,
              "ticks": ""
             }
            },
            "type": "scatter3d"
           }
          ],
          "scattercarpet": [
           {
            "marker": {
             "colorbar": {
              "outlinewidth": 0,
              "ticks": ""
             }
            },
            "type": "scattercarpet"
           }
          ],
          "scattergeo": [
           {
            "marker": {
             "colorbar": {
              "outlinewidth": 0,
              "ticks": ""
             }
            },
            "type": "scattergeo"
           }
          ],
          "scattergl": [
           {
            "marker": {
             "colorbar": {
              "outlinewidth": 0,
              "ticks": ""
             }
            },
            "type": "scattergl"
           }
          ],
          "scattermapbox": [
           {
            "marker": {
             "colorbar": {
              "outlinewidth": 0,
              "ticks": ""
             }
            },
            "type": "scattermapbox"
           }
          ],
          "scatterpolar": [
           {
            "marker": {
             "colorbar": {
              "outlinewidth": 0,
              "ticks": ""
             }
            },
            "type": "scatterpolar"
           }
          ],
          "scatterpolargl": [
           {
            "marker": {
             "colorbar": {
              "outlinewidth": 0,
              "ticks": ""
             }
            },
            "type": "scatterpolargl"
           }
          ],
          "scatterternary": [
           {
            "marker": {
             "colorbar": {
              "outlinewidth": 0,
              "ticks": ""
             }
            },
            "type": "scatterternary"
           }
          ],
          "surface": [
           {
            "colorbar": {
             "outlinewidth": 0,
             "ticks": ""
            },
            "colorscale": [
             [
              0,
              "#0d0887"
             ],
             [
              0.1111111111111111,
              "#46039f"
             ],
             [
              0.2222222222222222,
              "#7201a8"
             ],
             [
              0.3333333333333333,
              "#9c179e"
             ],
             [
              0.4444444444444444,
              "#bd3786"
             ],
             [
              0.5555555555555556,
              "#d8576b"
             ],
             [
              0.6666666666666666,
              "#ed7953"
             ],
             [
              0.7777777777777778,
              "#fb9f3a"
             ],
             [
              0.8888888888888888,
              "#fdca26"
             ],
             [
              1,
              "#f0f921"
             ]
            ],
            "type": "surface"
           }
          ],
          "table": [
           {
            "cells": {
             "fill": {
              "color": "#EBF0F8"
             },
             "line": {
              "color": "white"
             }
            },
            "header": {
             "fill": {
              "color": "#C8D4E3"
             },
             "line": {
              "color": "white"
             }
            },
            "type": "table"
           }
          ]
         },
         "layout": {
          "annotationdefaults": {
           "arrowcolor": "#2a3f5f",
           "arrowhead": 0,
           "arrowwidth": 1
          },
          "autotypenumbers": "strict",
          "coloraxis": {
           "colorbar": {
            "outlinewidth": 0,
            "ticks": ""
           }
          },
          "colorscale": {
           "diverging": [
            [
             0,
             "#8e0152"
            ],
            [
             0.1,
             "#c51b7d"
            ],
            [
             0.2,
             "#de77ae"
            ],
            [
             0.3,
             "#f1b6da"
            ],
            [
             0.4,
             "#fde0ef"
            ],
            [
             0.5,
             "#f7f7f7"
            ],
            [
             0.6,
             "#e6f5d0"
            ],
            [
             0.7,
             "#b8e186"
            ],
            [
             0.8,
             "#7fbc41"
            ],
            [
             0.9,
             "#4d9221"
            ],
            [
             1,
             "#276419"
            ]
           ],
           "sequential": [
            [
             0,
             "#0d0887"
            ],
            [
             0.1111111111111111,
             "#46039f"
            ],
            [
             0.2222222222222222,
             "#7201a8"
            ],
            [
             0.3333333333333333,
             "#9c179e"
            ],
            [
             0.4444444444444444,
             "#bd3786"
            ],
            [
             0.5555555555555556,
             "#d8576b"
            ],
            [
             0.6666666666666666,
             "#ed7953"
            ],
            [
             0.7777777777777778,
             "#fb9f3a"
            ],
            [
             0.8888888888888888,
             "#fdca26"
            ],
            [
             1,
             "#f0f921"
            ]
           ],
           "sequentialminus": [
            [
             0,
             "#0d0887"
            ],
            [
             0.1111111111111111,
             "#46039f"
            ],
            [
             0.2222222222222222,
             "#7201a8"
            ],
            [
             0.3333333333333333,
             "#9c179e"
            ],
            [
             0.4444444444444444,
             "#bd3786"
            ],
            [
             0.5555555555555556,
             "#d8576b"
            ],
            [
             0.6666666666666666,
             "#ed7953"
            ],
            [
             0.7777777777777778,
             "#fb9f3a"
            ],
            [
             0.8888888888888888,
             "#fdca26"
            ],
            [
             1,
             "#f0f921"
            ]
           ]
          },
          "colorway": [
           "#636efa",
           "#EF553B",
           "#00cc96",
           "#ab63fa",
           "#FFA15A",
           "#19d3f3",
           "#FF6692",
           "#B6E880",
           "#FF97FF",
           "#FECB52"
          ],
          "font": {
           "color": "#2a3f5f"
          },
          "geo": {
           "bgcolor": "white",
           "lakecolor": "white",
           "landcolor": "#E5ECF6",
           "showlakes": true,
           "showland": true,
           "subunitcolor": "white"
          },
          "hoverlabel": {
           "align": "left"
          },
          "hovermode": "closest",
          "mapbox": {
           "style": "light"
          },
          "paper_bgcolor": "white",
          "plot_bgcolor": "#E5ECF6",
          "polar": {
           "angularaxis": {
            "gridcolor": "white",
            "linecolor": "white",
            "ticks": ""
           },
           "bgcolor": "#E5ECF6",
           "radialaxis": {
            "gridcolor": "white",
            "linecolor": "white",
            "ticks": ""
           }
          },
          "scene": {
           "xaxis": {
            "backgroundcolor": "#E5ECF6",
            "gridcolor": "white",
            "gridwidth": 2,
            "linecolor": "white",
            "showbackground": true,
            "ticks": "",
            "zerolinecolor": "white"
           },
           "yaxis": {
            "backgroundcolor": "#E5ECF6",
            "gridcolor": "white",
            "gridwidth": 2,
            "linecolor": "white",
            "showbackground": true,
            "ticks": "",
            "zerolinecolor": "white"
           },
           "zaxis": {
            "backgroundcolor": "#E5ECF6",
            "gridcolor": "white",
            "gridwidth": 2,
            "linecolor": "white",
            "showbackground": true,
            "ticks": "",
            "zerolinecolor": "white"
           }
          },
          "shapedefaults": {
           "line": {
            "color": "#2a3f5f"
           }
          },
          "ternary": {
           "aaxis": {
            "gridcolor": "white",
            "linecolor": "white",
            "ticks": ""
           },
           "baxis": {
            "gridcolor": "white",
            "linecolor": "white",
            "ticks": ""
           },
           "bgcolor": "#E5ECF6",
           "caxis": {
            "gridcolor": "white",
            "linecolor": "white",
            "ticks": ""
           }
          },
          "title": {
           "x": 0.05
          },
          "xaxis": {
           "automargin": true,
           "gridcolor": "white",
           "linecolor": "white",
           "ticks": "",
           "title": {
            "standoff": 15
           },
           "zerolinecolor": "white",
           "zerolinewidth": 2
          },
          "yaxis": {
           "automargin": true,
           "gridcolor": "white",
           "linecolor": "white",
           "ticks": "",
           "title": {
            "standoff": 15
           },
           "zerolinecolor": "white",
           "zerolinewidth": 2
          }
         }
        },
        "title": {
         "text": "TSNE dla FastText"
        },
        "xaxis": {
         "anchor": "y",
         "domain": [
          0,
          1
         ],
         "title": {
          "text": "x"
         }
        },
        "yaxis": {
         "anchor": "x",
         "domain": [
          0,
          1
         ],
         "title": {
          "text": "y"
         }
        }
       }
      }
     },
     "metadata": {},
     "output_type": "display_data"
    }
   ],
   "source": [
    "\n",
    "X = np.array(list(df_for_analysis['embedding']))\n",
    "X_embedded = TSNE(n_components=2, random_state=42).fit_transform(X)\n",
    "df_tsne = pd.DataFrame(X_embedded, columns=['x', 'y'])\n",
    "df_tsne['label'] = df_for_analysis['LABEL']\n",
    "df_tsne['text'] = df_for_analysis['text']\n",
    "\n",
    "fig = px.scatter(df_tsne, x='x', y='y', color='label', hover_data=['text'],title='TSNE dla FastText')\n",
    "fig.show()"
   ]
  },
  {
   "cell_type": "code",
   "execution_count": 87,
   "metadata": {},
   "outputs": [
    {
     "data": {
      "application/vnd.plotly.v1+json": {
       "config": {
        "plotlyServerURL": "https://plot.ly"
       },
       "data": [
        {
         "customdata": [
          [
           "Dla mnie faworytem do tytułu będzie Cracovia. Zobaczymy, czy typ się sprawdzi."
          ],
          [
           "  Brawo ty Daria kibic ma być na dobre i złe"
          ],
          [
           "  Super, polski premier składa kwiaty na grobach kolaborantów. Ale doczekaliśmy czasów."
          ],
          [
           "  Musi. Innej drogi nie mamy."
          ],
          [
           "Odrzut natychmiastowy, kwaśna mina, mam problem"
          ],
          [
           "Jaki on był fajny xdd pamiętam, że spóźniłam się na jego pierwsze zajęcia i to sporo i za karę kazał mi usiąść w pierwszej ławce XD"
          ],
          [
           " No nie ma u nas szczęścia 😉"
          ],
          [
           " Dawno kogoś tak wrednego nie widziałam xd"
          ],
          [
           "  Zaległości były, ale ważne czy były wezwania do zapłaty z których się klub nie wywiązał."
          ],
          [
           "   Gdzie jest  . Brudziński jesteś kłamcą i marnym kutasem "
          ],
          [
           "   no mam nadzieje !!:)"
          ],
          [
           "  Może gustował w starszych paniach ;-)"
          ],
          [
           " Zostawiłam tam 3 lata temu \\\"Notatki na mankietach\\\". Muszę się wrócić."
          ],
          [
           " Oprawa do Krzysia M. Ps Pinokio -\\n\\\" mogłeś być gangsterem a zostałeś 3 ligowym frajerem \\\"😀"
          ],
          [
           "  Znowu będzie komunikat o polskich piratach drogowych w Słowacji."
          ],
          [
           " Mówi człowiek, który chciał nałożyć sankcje na Polskę. Gratulacje. #Niepodlegla #11lisopada"
          ],
          [
           "   Mówi człowiek, który chciał nałożyć sankcje na Polskę. Gratulacje. #Niepodlegla #11lisopada"
          ],
          [
           "  o jakim zachowaniu \\\"fer\\\" mówisz skoro ukrywał się z tym że podpisał kontrakt z Legią ? Możesz rozwinąć ?"
          ],
          [
           "  Joanno! Po raz pierwszy się z panią zgadzam.😁😁😁😁😁"
          ],
          [
           "Monster block, monster block, monster block... 😁"
          ],
          [
           " Czyżby Madryt brał przykład z Warszawy?"
          ],
          [
           "  No to Skończmy kurwa z tym wersalem w j...ej szczujni"
          ],
          [
           " Nie wiem, najczęściej grają na zmianę na prawym skrzydle."
          ],
          [
           " No to Pan i koledzy macie z głowy. Przesrane tak reszta życia pod górkę."
          ],
          [
           " A ja obstawiam, że pójdą bardziej w stronę tego, że może się powtórzyć sytuacja z Meresińskim."
          ],
          [
           "Aaaaa Kuba mi odpisał hehehehehe"
          ],
          [
           "Asysta Kacpra Falona i 3:1 dla Widzewa. Witamy Widzew w II lidze. No i w sumie fajnie."
          ],
          [
           " gwizdali na niego ? Bo nie oglądałem meczu :)"
          ],
          [
           "  ale może w końcu dojdzie do wniosku że skoro go klub już nie jara to lepiej go sprzedać i mieć po kłopocie"
          ],
          [
           "  Hej halo, o czym to jest bo mam na swojej liście i nie wiem czy warto??"
          ],
          [
           "dorosłe życie nie jest dla mnie"
          ],
          [
           "  dorosłe życie nie jest dla mnie"
          ],
          [
           " Cześć Paderewski, część opalające się nogi"
          ],
          [
           "   Uprowadź gumową kaczuszkę. Zacznie negocjować."
          ],
          [
           " Już wiem ze się nie dogadamy XD"
          ],
          [
           " Ale to w nowym przekładzie, jeszcze nie czytałam."
          ],
          [
           " Lahoza mi nigdy nie szkoda. Wolę, jak na pierwszym planie są piłkarze, a nie sędzia :-)"
          ],
          [
           "  Sprawdź chłopie w słowniku co oznacza słowo , którego używasz a potem się odzywaj."
          ],
          [
           " zmieńcie se nazwe na profilu na insta bo się nazywacie Grzegorz Ożóg..."
          ],
          [
           "#Woronicza 17 poseł Halicki oburzony za Bolka.Naprawdè taki tępy czy tylko udaje idiotę?"
          ],
          [
           "„Ta aktorka ma 20 lat?!?! Jaka stara!!” \\n\\nChyba musimy się już do grobu pakować roczniku 98 😂👌🏻"
          ],
          [
           "  „Ta aktorka ma 20 lat?!?! Jaka stara!!” \\n\\nChyba musimy się już do grobu pakować roczniku 98 😂👌🏻"
          ],
          [
           "Ahnherr der Schtwätzer wykonawcy Von Spar\\nhttps://t.co/SOtenSqIr0"
          ],
          [
           "   Bierze cie cie pod chuj a ty sie produkujesz"
          ],
          [
           "   Jak narazie to masz przywidzenia co nie zmienia faktu że cały czas jesteś idiotą."
          ],
          [
           " Kiedy do licznika dojdą bilety z fan clubow?"
          ],
          [
           " A kto prowadzi zespół ? Będzie podany skład z tego meczu ?"
          ],
          [
           " Główny powód to brak kasy, trzeba dać bogatym 500+,300+ i być bez godności i honoru"
          ],
          [
           "Zrobiłam takie Cv że ohohohoho"
          ],
          [
           "Świętować uchwalenie Konstytucji 3 maja i łamać Konstytucję RP obecnie obowiązującą?!\\n#3Maja - dzień hipokryzji."
          ],
          [
           "  Świętować uchwalenie Konstytucji 3 maja i łamać Konstytucję RP obecnie obowiązującą?!\\n#3Maja - dzień hipokryzji."
          ],
          [
           "  nie gra bo jest Jovanović i Guilherme"
          ],
          [
           " O tej godz. sporty szanuj ciało"
          ],
          [
           "Nikt nigdy nie rozsiewał takiego smrodu jak "
          ],
          [
           "Nikt cię tak dobrze nie ubierze jak matka chrzestna dziecino"
          ],
          [
           "  Nikt tutaj nie chce plagiaciarzy kopiujących brytyjskich pisarzy."
          ],
          [
           " A ksiądz co bierze 12 tyś za spowiedź przez tel?"
          ],
          [
           " Koń też ma dużą głowę. Tylko wydaje mi się, że jest bardziej inteligentny niż Karczewski"
          ],
          [
           " Pod i górę  pod wiatr to więcej niż k2"
          ],
          [
           " Sędziowie VAR nie decydują o karnych 😉"
          ],
          [
           "Jakiś program na TVN, nauka jazdy za kierownicą babcia śpiewa \\\"jadą jadą jadą świry jadą\\\" jadą jadą jadą świry jadą\\\""
          ],
          [
           " ta obecna Zary Larsson czy Pitbulla z ostatnich MŚ nie były złe :)"
          ],
          [
           "(280 znaków w jednym zdaniu 🙈)"
          ],
          [
           " po wahaniach wagi Kwacha wznoszę że to może być kapuścianka"
          ],
          [
           "  w tym sezonie razem z pucharem 12 meczy i 1 gol.Mójta więcej strzelił.Sorry patrze w statystyki."
          ],
          [
           "   finały tblk były przyzwoicie sędziowane ?! Aha..."
          ],
          [
           " Taki miałam właśnie, teraz kupiłam z catrice"
          ],
          [
           " to ich wymień.W czym problem ?"
          ],
          [
           "   a ja mam ciepełko jak się przytule do swoich kotów :)"
          ],
          [
           " Właśnie. Ilu! Najpierw odpowiedzmy sobie ma to pytanie,a potem dziwmy się zwycięstwu Zdanowskiej"
          ],
          [
           " W jego przypadku statystyka przebiegniętych kilometrów nie ma znaczenia. Czy gra zajebiście, czy fatalnie, biega tyle samo."
          ],
          [
           "  100%, Mann też miał pełne prawo"
          ],
          [
           " Kończyłeś już kilka razy 😂"
          ],
          [
           " Dzisiaj zajmujemy się WARiatem Krystyną ciekawe czy będzie płakał?"
          ],
          [
           "    A co będzie jak Kuba nigdy niewroci?"
          ],
          [
           " Tym w sejmie też? Banda hipokrytów i złodziei."
          ],
          [
           "W każdej z czterech grup będzie walka o zwycięstwo premiowane awansem do CLJ. Bardzo potrzebne rozwiązanie, brawo."
          ],
          [
           " Tak się poznałam z moim chłopakiem 😂 czasami warto"
          ],
          [
           " nelly furtado a tytuł forco czy cos takiego"
          ],
          [
           " Mów prawdę, kto was skrzywdził"
          ],
          [
           " jestem tu od 2013 xd"
          ],
          [
           " Ta kadra to rocznik 2002"
          ],
          [
           "Posiada sensor CGM , ciągły monitoring glikemii, w końcu."
          ],
          [
           "Jeszcze żaden Polak nie wystąpił w meczu gwiazd NBA, nie licząc Mietka Paciaciaka ;) Pomóżmy Marcinowi Gortatowi być 1  #NBAVOTE"
          ],
          [
           "  Jeszcze żaden Polak nie wystąpił w meczu gwiazd NBA, nie licząc Mietka Paciaciaka ;) Pomóżmy Marcinowi Gortatowi być 1…"
          ],
          [
           " No kurwa myślałem że na Podlasiu"
          ],
          [
           "  Tak, to nawet lepsze rozwiązanie."
          ],
          [
           "  Koń by się uśmiał, TVN24 i TVN wolne media? Bardziej perfidnego łgarstwa nie słyszałem.. 🤔"
          ],
          [
           "    Koń by się uśmiał, TVN24 i TVN wolne media? Bardziej perfidnego łgarstwa nie słyszałem.. 🤔"
          ],
          [
           " Gdzie ja wtedy byłam? ;-)"
          ],
          [
           "   Midze sie nudziło i se coś na kolanie napisał i macie sensacje"
          ],
          [
           " Dzisiaj wrócił do treningów, czyli zdążyli 😉"
          ],
          [
           "    Nie wiem, zerknij na 90minut"
          ],
          [
           "  Z motłochem nie dyskutuję tylko daje bany. A Pani  gratuluję obrońcy."
          ],
          [
           " możesz też zawsze po prostu zapytać kiedy się urodziłam. Albo wpisać hasztag #100latKasiaPawlak ;-)"
          ],
          [
           " ale z kategoriami moim zdaniem przesadzają.Sponsor roku, serce, impreza ? Bez jaj"
          ],
          [
           " Prezes się cieszy ze Wisla odpadła bo w razie finału Legia-Wisla znów by musiał finał odwoływać"
          ],
          [
           "Bratowa wysłała mi zdjęcie bratanicy z rozpoczęcia roku, idzie do pierwszej klasy, biedactwo nie wie co ją czeka"
          ],
          [
           " szybkie pytanie do  Ręka Sadloka była zagraniem umyślnym ?"
          ],
          [
           " Dzień w którym Abidal sprzedał i kupił A.Vidala 😉"
          ],
          [
           " Równie dobrze można gola stracić :)"
          ],
          [
           " Chorwaci przerżną w końcówce dogrywki, wiadomo."
          ],
          [
           " Nasze dzieci będą zdegustwani, był taki PiS, taki  , historia populizmu i głupoty w latach 2015-2019, margines"
          ],
          [
           " O, myślałam, że nikt już nie używa \\\"mnie\\\" tylko \\\"mi\\\"."
          ],
          [
           "   Na nowym stadionie West Hamu też to widziałem."
          ],
          [
           "  zawodnik w sezonie może grać w barwach dwóch klubów więc jeszcze nic straconego :)"
          ],
          [
           "ciekawe czy faktycznie jest taki zakład bo jeśli tak to nieźle XD"
          ],
          [
           " Hehe, do gazu, hehe jeszcze jakieś emotikony wrzuć"
          ],
          [
           "Qrwa!! I niech mi nikt nie mówi, że czary to jakiś zabobon!! Chłopaki mają sztywne nogi!"
          ],
          [
           "Od 01.10.2018 każde sprawozdanie finansowe w formie elektronicznej, zgodne ze strukturą jpk"
          ],
          [
           "Na TVP Kraków padła właśnie informacja że rozmowy z potencjalnym kupcem Wisły przełożony z dziś na jutro."
          ],
          [
           "  Na TVP Kraków padła właśnie informacja że rozmowy z potencjalnym kupcem Wisły przełożony z dziś na jutro."
          ],
          [
           " NIECH JESZCZE DADZĄ LEKTORA I NA GŁÓWNA POSTAĆ MÓWIĄ NADZIEJA"
          ],
          [
           "   NIECH JESZCZE DADZĄ LEKTORA I NA GŁÓWNA POSTAĆ MÓWIĄ NADZIEJA"
          ],
          [
           " Nie no ludzie, żeby robić artykuł na temat jednego tweeta ?..."
          ],
          [
           " Jak powiem, że pierwsze słysze, to będzie kompromitacja czy nie? 😄"
          ],
          [
           " Usuń konto, wytrzeźwiej buduj od nowa"
          ],
          [
           "   Sekta, cha, cha, cha, obudź się z hipnozy, jesteś bolszewikiem"
          ],
          [
           "Nie wstanę kurde nie ma opcji"
          ],
          [
           "  Spokojnie, u mnie też Kaczarawa na kapitanie + Cvijanović :)"
          ],
          [
           "niech ładny chłopiec z kręconymi włosami do mnie napisze: jutro, zaraz, teraz"
          ],
          [
           "  niech ładny chłopiec z kręconymi włosami do mnie napisze: jutro, zaraz, teraz"
          ],
          [
           " im ktoś gorzej widzi, dłużej musi czekać, choć ten, który widzi lepiej, dłużej poradzi sobie bez okularów. 😨"
          ],
          [
           " Oj, no to powodzenia! Co tam będziesz musiała robić? 🤭"
          ],
          [
           "    Chyba nie, Marcin mówił coś o '89."
          ],
          [
           " Przeczytaj mojego kolejnego twitta to zobaczysz, że nie umknęło i co sądze o poziomie tego meczu."
          ],
          [
           " Tylko nie w dupę, to dla niektórych z nich byłaby przyjemność."
          ],
          [
           "  Widać chcą wiecej polskich mord gotujacych koninę"
          ],
          [
           " No to jak się przegrywa cały czas to lepiej przestać grać :)"
          ],
          [
           "   Widzę, że sami się znajdują."
          ],
          [
           " Napewno mam niezaktualizowanego może dlatego"
          ],
          [
           "  Smokowski mówił że Wisła ma piłkarzy 3 sortu, a Wieszczycki deprecjonował dobrą prace Kiko"
          ],
          [
           "więc zaczynam oglądać Do wszystkich chłopców, których kochałam bo wszyscy o tym mówią i aż chcę to sprawdzić"
          ],
          [
           " Ban,ban i jeszcze raz ban! Co za prymitywne dno!"
          ],
          [
           "  Jasne, bo debile oglądający tvpis płaczą tylko na m jak miłość"
          ],
          [
           "   W stop klatkach widać ze jak by to było po stronie drugiej (legi) to karny by był"
          ],
          [
           "Zdrady stanu to Donald Tusk dopuścił się już w 2010 r kiedy dodał Rosjanom śledztwo w sprawie katastrofy smoleńskiej."
          ],
          [
           " Na marginesie jestem córką biskupa"
          ],
          [
           " Przejdzie historii: jak tworzyć kłamstwo w dobie powszechnego dostępu do informacji"
          ],
          [
           " Od ok 8 lat używam kolejnych modeli HTC i nigdy mnie nie zawiodły."
          ],
          [
           "  Ty się oszuście i kłamco od nas odpierdol. My sobie damy radę bez twoich kłamstw"
          ],
          [
           "   odważne słowa jak na legioniste! 😂😂😂"
          ],
          [
           "  Załatwi to jedno głosowanie w sejmie i żadne demonstracje nie będą miały na to wpływu."
          ],
          [
           "   Krzyż celtycki w Irlandii debilu ma kompletnie inne znaczenie niż u neofaszystów."
          ],
          [
           " Coś w tym jest,bo ja też😁😁😁. I jeszcze bym dodał Dominisię W. której infantylizm mnie totalnie osłabia."
          ],
          [
           "  Gdzie oni znajdują takich dupków"
          ],
          [
           "mój stres zaczął się stresować swoim własnym stresem, które również się stresuje ja pierdole dość"
          ],
          [
           "  mój stres zaczął się stresować swoim własnym stresem, które również się stresuje ja pierdole dość"
          ],
          [
           "     dojdzie Brlek, Stilić wróci do formy, obcokrajowcy się zaaklimatyzują i bedzie dobrze💪"
          ],
          [
           "   Brawo grzechu za Twój powrót do żywych\\n W Rosji pokaż swoją moc"
          ],
          [
           "    Wonder!! Chyba cię....😁😁😁😁😁.No dobra. Na jaki?😁😁😁"
          ],
          [
           " Ja mam uczulenie na dobrą zmianę, ale to dłuższa historiac"
          ],
          [
           " Różnicy nie ma, bo pisali wtedy, że nie można zsyłać zawodników do rezerw ;P"
          ],
          [
           " Żal ci biedaku??? Gdyby nie Kaczyński to by je twoi przyjaciele z PO rozkradl"
          ],
          [
           "   Żal ci biedaku??? Gdyby nie Kaczyński to by je twoi przyjaciele z PO rozkradl"
          ],
          [
           "Dobry dzień na przypomnienie sobie genezy gwiazdek na fladze #UE #deklaracjaRzymska"
          ],
          [
           "Sekta kurwa, jakaś niepojęta radość, każde konto pisdzielskie tylko o jednym"
          ],
          [
           "  Nie wierzę, bez zaświadczenia od proboszcza?"
          ],
          [
           " I chyba wtedy byś niezaprzeczyla?"
          ],
          [
           " Tak naprawdę czy będziemy w spadkowej czy mistrzowskiej to i tak czekają nas sparingi."
          ],
          [
           " Jebać, jebać, nic się nie bać."
          ],
          [
           " Jakiej pracy, ty już pajacu nie wiesz na czym się lansować. Sejm nie pracuje."
          ],
          [
           "Kilogramy rozmnażają się przez pączkowanie 😣😖\\n#TłustyCzwartek"
          ],
          [
           "  Nie działają i lepiej działać szybko bo klienci nie maja dostępu do środków na kontach"
          ],
          [
           "   jutro walczycie ? Normalnie rycerze ! A gdzie byliście wcześniej ? A zapomniałem że nie o L chodziło"
          ],
          [
           " Ale to głupie, rdzennie głupie, bardziej głupie już być nie może"
          ],
          [
           " Szczególnie Vestenicky.Podczas wypożyczenia nic nie pokazał a go wykupili za 500 tys euro 😂👏"
          ],
          [
           " Już się boję. Postraszy mnie Pan kolegami narodowcami?"
          ],
          [
           " Co nie było blisko? Bo nie rozumiem."
          ],
          [
           "  A od kiedy komentatorzy na Sky to wyrocznia?"
          ],
          [
           "  Nazwisko tego babska😁😁😁😁. Bo Wczoraj był na MO😁😁😀"
          ],
          [
           " Zbiera się do kontrataku, dla swojego pryncypala pójdzie w bój, patrityczna dusza,  co nie  ?"
          ],
          [
           " a w kolejnych fajnie jakby grał na lewej za Sadloka "
          ],
          [
           " byłem w pracy ale zaraz odpalam meczyk na yt.Dzięki za walke !!!!:)"
          ],
          [
           "  jakie 0 motywacji ? Jest chyba różnica mieć medal albo go niemieć"
          ],
          [
           " Niby nie macie czy niby nie mit? 😂😂"
          ],
          [
           " Ja bym był ostrożny😁😁😁A jak ma na imię?"
          ],
          [
           "   Tak to jest jak ktoś nie wie do którego lekarza iść najpierw."
          ],
          [
           "  No nie dziwie się w sumie. Dobrze, że tylko raz dzwonił"
          ],
          [
           "  Wasz świat? To się w nim zamknijcie i nie wystawiajcie nosa."
          ],
          [
           "  Przyjaciół to niech on sobie szuka za swoje prywatne pieniądze. I niech robi z siebie idiotę na własny rachunek."
          ],
          [
           "imagine sie komus podobac??? ze ktos sie stara o TWOJA uwage??? can’t relate"
          ],
          [
           "  imagine sie komus podobac??? ze ktos sie stara o TWOJA uwage??? can’t relate"
          ],
          [
           "   a Portugalia jak zagrała ?"
          ],
          [
           "Pierwsze zdanie: \\\"Paczka papierosów kosztuje 4 miliardy marek\\\".\\n#JajoWęża teraz na "
          ],
          [
           "  No to tym bardziej :)"
          ],
          [
           " Ja przynajmniej mam profilowe i nie chowam się za awatarem. Ale bohaterów MW na to nie stać i w sumie nic w tym dziwnego."
          ],
          [
           " Czego się spodziewać po członku żydowskiego amerykańskiego lobby. Lata na kolanach przed żydami zrobiło swoje."
          ],
          [
           "   Czego się spodziewać po członku żydowskiego amerykańskiego lobby. Lata na kolanach przed żydami zrobiło swoj…"
          ],
          [
           " Co ty człowieku pijesz z rana?"
          ],
          [
           "  pewnie narządy też wkrótce sprzeda :D"
          ],
          [
           " w zeszłym sezonie to samo pisałeś ?"
          ],
          [
           "Picie to przyszłość, piękna i nieznana, szukajcie zapomnienia, próbujcie różnych trunków, łączcie środki psychoaktywne, powodzenia"
          ],
          [
           " Ale ty jesteś żenujący. Dno metr mułu."
          ],
          [
           " spoko, nigdy nie daje unfollow aktywnym ludziom, tylko tym, którzy nie piszą nic od miesięcy albo dali mi unfollow"
          ],
          [
           "\\\"- Co to jest tajmlajn na fejsie?\\n- Zmarszczki\\\"."
          ],
          [
           " może trzeba chłopaków na crossfit zabierać ?:)"
          ],
          [
           " znacznie bliżej jest mi muzułmanin  czy indus, niż katolicka, łysa swołocz ze wschodu europy, do tego rasistowska"
          ],
          [
           "Dzisiaj o 18.00 Strefa Kibica w Radiu Akadera. Zapraszamy."
          ],
          [
           " Nie powinno być źle o ile się utrzymamy :P"
          ],
          [
           " Spokojnie trzeba ta porażkę wziąść na klatę mecz się tak ułożył nie inaczej napewno gorsi dużo my niebyli."
          ],
          [
           " Ale się cieszą. Wreszcie koniec i będzie można wypić te.zapasy z plecaka."
          ],
          [
           "  Ofertę przedłużenis kontraktu ponoć dostał od Wisły, ale jej nie zaakceptował."
          ],
          [
           "Dziś o godz. 20:00 Prezydent RP wygłosi orędzie."
          ],
          [
           "  Dziś o godz. 20:00 Prezydent RP wygłosi orędzie."
          ],
          [
           " myślałem że się przychodzi na stadion dla drużyny a nie na poszczególnych piłkarzy"
          ],
          [
           " kibicom chodzi raczej o postawe dziennikarzy a nie klubu."
          ],
          [
           "  Nie trzeba Algierczyków, wystarczy kilku polskich katechetów."
          ],
          [
           " Barcelona z Messim (ta obecna) by taki mecz wygrała 1:0, albo jakiś Suarez by coś wcisnął :P"
          ],
          [
           "  TW Wolfgang, TW Faraon i TW Rycerz,TW Balbina, TW Michał \\nKto mieczem wojuje, ten od pochwy ginie"
          ],
          [
           "  Zgadza się ale przecież nas niestac żeby komin płacowy zacząć od.carlitosa"
          ],
          [
           "   Low kick, kolano łokieć, blacha na czoło i stara leży"
          ],
          [
           " Niestety obrazki będą też zielone, czarne i brunatne."
          ],
          [
           "Ktoś założył fejkowe konto i ogląda WSZYSTKIE moje story"
          ],
          [
           "  Życie, zdarza się. Jednak od takiego rzutu wolnego do gola droga dość daleka."
          ],
          [
           " a wydanie 500 tys euro gdy się nie ma pieniędzy nie jest strzałem w kolano ?"
          ],
          [
           " Wio endekdu, ścierwa, zdrajcy, szubienica"
          ],
          [
           " nie dziwie się, to było dość cwane :)"
          ],
          [
           " Raczey! Jutro będzie jej odczytywane przez cały dzień ;-)"
          ],
          [
           " Kto będzie pił te mleko, gdzie będą jeździły tiry, meble, okna ty maly kogucie"
          ],
          [
           "    Nie myli się tylko ten, co nic nie robi."
          ],
          [
           "Mama będzie mi obcinać włosy boje się"
          ],
          [
           "    No to muszą ci nieźle płacić za wierszówki."
          ],
          [
           " czy masz info jakie obecnie Ondrasek ma zarobki w Wiśle?"
          ],
          [
           " Jaka kwota wykupienia go po roku??"
          ],
          [
           "   Dla kogo pracował? Nie przy śniadaniu bo się udławić można z wrażenia. Poproszę 5 przykładów zatem."
          ],
          [
           "   Widzę, że dalej nie rozumiesz. No nic idę oglądać LM. Pozdro."
          ],
          [
           "  jeśli masz TV włączony od 8:00 do 1:00, a reklama pojawia się 3 x na godzinę, po 2 mies. jesteś na granicy obłędu."
          ],
          [
           "  A co o włoskich faszystach i węgierskich nacjonalistach?"
          ],
          [
           "  Dojenie kasy przez rząd\\nKompromitacja Morawieckiego w Niemczech\\nKaczyński twórca państwa Polskiego w 2016 roku"
          ],
          [
           " Jeszcze w nastepnej kolejce pewnie jakis piątek"
          ],
          [
           "  i oczywiście było pytanie czy nie boi się o przyszłość Wisły 😂 przechodzicie samych siebie"
          ],
          [
           " no ja właśnie to samoXD znaczy wiem ze Emre wbija często, bo jego żona jest polką ale no"
          ],
          [
           " Nic nie mogą. Ale ich brak może spowodować, że strajkujący szybciej się z Sejmu wyniosą."
          ],
          [
           "   Przecież jak go zamkną to o czym ty będziesz pisał ? Twoje życie straci sens..."
          ],
          [
           "  To zaraz porobie screeny od momentu od którego jest zablokowane :)"
          ],
          [
           " Ktoś przestał słodzić, ktoś kto dużo słodził"
          ],
          [
           "   No to po co się zgodził na klauzule dopiero po zakończeniu przyszłego sezonu, a nie od razu ?"
          ],
          [
           " Jest to prawda. Ale MSZ powinien. On pewnie myślał, że jest w Pisowskiej Polsce i wszystkoi wolno.😀😀😀"
          ],
          [
           " delikatnie nie po drodze :D"
          ],
          [
           "  No to 0:0 murowane (bo mam też ludzi z Cracovii)"
          ],
          [
           " Może ogłuszyły go te korki od szampanów, które strzelały po podpisaniu kontraktu Sadloka z Jagiellonią ?"
          ],
          [
           "Panie i panowie, totalna porażka  w miastach. \\nT O T A L N A \\nTo bardzo ważny znak."
          ],
          [
           "  Panie i panowie, totalna porażka  w miastach. \\nT O T A L N A \\nTo bardzo ważny znak."
          ],
          [
           "    ręce opadaj że takich rzeczy ludzie związani z futsalem nie wiedzą."
          ],
          [
           "  Przeczytałem wszystko. Fantastycznego ma Pani Dziadka!"
          ],
          [
           " Na wszystko masz odpowiedź, żyłeś w tych czasach?"
          ],
          [
           "  Mr. Czarnecki. To nie hipokryzja tylko zwykła ludzka przyzwoitość. Widać że niektórym obce takie  odruchy."
          ],
          [
           "Diego Maradona - Robbie Williams 2:1."
          ],
          [
           "   Ja nie byłbym taki pewny"
          ],
          [
           " patrząc kogo biorą to mam wątpliwości czy nie chcą do 1 ligi (nie licząc Marciniaka)"
          ],
          [
           " To było dawno, jeszcze nie znali fotoszopa"
          ],
          [
           "  Maly murzyn, silny i zdrowy"
          ],
          [
           ". pojawił się na TT. To konto to nie fejk. \\nDołączajcie :) 💪"
          ],
          [
           "  . pojawił się na TT. To konto to nie fejk. \\nDołączajcie :) 💪"
          ],
          [
           "W programie Igrzyska wolności w Łodzi śpiewanie pieśni rewolucyjnych,i piosenek z serialu,4 pancerni i pies."
          ],
          [
           " no i w końcu widzę uśmiech :)"
          ],
          [
           " Jeszcze was zjemy i wysramy"
          ],
          [
           " lepszy argument to że ktoś go nie chce bo go nie lubi"
          ],
          [
           "  Tylko że ten prostak sie nabijał, szydził tak jak ze śmierci Piotra S."
          ],
          [
           " Qwa! Wypiłem kawę przed chwilą.Bardzo dobra kawę.Nie chcę jej zwracać. A swoją drogą to świetny środek na wywołanie wymiotów."
          ],
          [
           "Wchodzę w powiadomienia a tu nic, już na 4 tt odpisałem, zaraz wyjebią bana"
          ],
          [
           " nataliethere_ oddam szybciutko z powiadomień"
          ],
          [
           " Tak tak jeszcze ktoś w to uwierzy"
          ],
          [
           "   Tez musze trzymać poziomo tel czytając ten artykuł"
          ],
          [
           "   Czasy kiedy zacząłem interesować się piłką i Wisłą 😍"
          ],
          [
           " Wy narobiliscie 30miliardow dlugow za waszych rzadow #oddajciekase"
          ],
          [
           "   Wy narobiliscie 30miliardow dlugow za waszych rzadow #oddajciekase"
          ],
          [
           " Czy  gotów na taką kolej rzeczy?"
          ],
          [
           " Tak jak pisdzielstwo ośmiesza policjantów , to już, nikt, nigdy bardziej nie będzie"
          ],
          [
           " A kiedy przestanie wydawać mln na swoich ochroniarzy, tylko zacznie leczyć u psychiatry swoją manię prześladowczą?"
          ],
          [
           " Pierwszy priorytet zadowolić Jarkacza, drugi priorytet ssać kasę wszystkimi otworami,  mają rozdwojenie jaźni"
          ],
          [
           " Huj z wami dziennikarzami. Piłka nożna dla kibiców a nie pseudo dziennikarzy."
          ],
          [
           " E tam! To z miłości do Łodzi😁. I przyjdzie do PiS😁😁"
          ],
          [
           " A ja, ze coś znowu zepsułam xd"
          ],
          [
           "Czemu jak zawsze się o kogoś martwię to ja dostaje po dupie, i mean nie wiem"
          ],
          [
           " kiedy wyjeżdżasz? ja w piątek, co prawda już drugi rok ale moja rodzina nadal reaguje tak samo"
          ],
          [
           "   Ograniczyłbym to do \\\"Byle nie Ufa\\\" :)"
          ],
          [
           "  Święta racja, ale zapytaj Jurgiela o notatki, on wie co spierdolił. Będzie łatwiej."
          ],
          [
           "  Szczególnie wielka strata za Smoleńsk"
          ],
          [
           "    daj znać  o  zdjecie blokady"
          ],
          [
           "  Myślę, że po info o konferencji wielu osobom to przychodzi do głowy."
          ],
          [
           " Koniecznie! Zapraszamy na spacer z kawką 😃"
          ],
          [
           " błąd logiczny, te pieniądze kiedyś były wasze, teraz już sa nasze i nic wam do tego towarzyszu"
          ],
          [
           "   błąd logiczny, te pieniądze kiedyś były wasze, teraz już sa nasze i nic wam do tego towarzyszu"
          ],
          [
           " Zależy jak na to spojrzeć. Z jednej strony akredytacja, z drugiej wyjazd za swoje $$$ 😉"
          ],
          [
           "  albo wygrywali 1:0 z Barceloną"
          ],
          [
           "  tylko nie Załuska.Nie potrzeba nam takich piłkarzy bez ambicji."
          ],
          [
           "  Nic specjalnego. Można się domyślać, że pewnie pójdzie na wypożyczenie."
          ],
          [
           "Z Zagłębia Hładun i Czerwiński w składzie (porażka 1:2), a z Legii Carlitos na kapitanie (zmiana w przerwie). Co za seria 😂"
          ],
          [
           " co chwile o nim piszecie i gadacie jaka to porażka jak nie zostanie.A nie pamiętacie jak jeszcze niedawno otrzymanie licencji1/2"
          ],
          [
           "  Przecież TS dzierżawi ta ziemię umowa na 99 lat zgadza się czy nie?"
          ],
          [
           " Pyta się kiedy beda nowe okulary, bo juz chce wychodzić"
          ],
          [
           " Probierz szuka młodych Polaków pasuje jak ulał😉"
          ],
          [
           " Może pasuje do klucza francuskiego?🔧☺"
          ],
          [
           "Pensja, kasa, dojenie,  ,ssanie kasy, ruchanie w meskie dupy, zawsze za pis, trudny teren, ciezkie warunki"
          ],
          [
           " Polska to nie napis na dropsie, uuuu, niedobrze, uuuuuuu"
          ],
          [
           " raczej ty się powinieneś jebnąć ale nie wiem czy to pomoże"
          ],
          [
           " Jak narazie to sobie możecie kupę zrobić. Albo hurtowo dać dupy pedofilów w sutannach, których publicznie bronicie."
          ],
          [
           " Najlepiej w Polsce żeby legia miała pomoc :-)"
          ],
          [
           "Ale mam chujowy humor przez to, że nie zdałam i jestem na siebie zła"
          ],
          [
           "Szukam osób, które mają kontakt z rodziną gen. Bułak-Bałachowicza. Sprawa  prywatna."
          ],
          [
           " Brawo skwk za komunikat pomimo braku zakazu czekałem na ta wiadomość co robić, bo na mecz bez dopingu niemyslalem iść"
          ],
          [
           "  A ty wieś kretynie CONTI jest Acta2 i czego dotyczy? Najpierw przeczytaj a potem się wypowiadaj."
          ],
          [
           " Trąba ? Nie no ostro pojechałaś :D"
          ],
          [
           "Beata #Mazurek w Sejmie na pytanie co myśli o pomyśle Kaczyńskiego o obniżkach wynagrodzeń: \\\"Ja nic nie myślę\\\". To słychać."
          ],
          [
           "  Beata #Mazurek w Sejmie na pytanie co myśli o pomyśle Kaczyńskiego o obniżkach wynagrodzeń: \\\"Ja nic nie myślę\\\". To słyc…"
          ],
          [
           "Motocykle opuściły gniazda i kierują się na północ. Żonkile na przedmieściach to już tylko formalność. Wiosna! :-)"
          ],
          [
           "  🕵 Jest tak zakonspirowany, że go nie widać. Fachowiec. \\n(Górny, prawy róg)"
          ],
          [
           " Kto mieczem wojuje od pochwy ginie "
          ],
          [
           " W jednej z powtórek było to dobrze widać :))"
          ],
          [
           " Kochana nie ma po co bo później wszyscy się będą po to kleić 😂😂"
          ],
          [
           "  chyba nie miałeś się czego przyczepić, nie przesadzajmy :)"
          ],
          [
           "  Ale dlaczego głupi   tłumaczy to jeszcze głupszemu  ?"
          ],
          [
           " Dzwoniłam się dowiadywać kiedy się można wprowadzać 😂nie wiedziałam ze takie problemy mogą być xd"
          ],
          [
           " Już pod koniec jazdy wymusilam na rondzie.... nie wiem jak to się stało, mój mózg miał zaćmienie czy coś a"
          ],
          [
           "Nowe chodnikowe powiedzonko brzmi:\\n\\nPierdolisz jak Morawiecki, realy.\\n\\n  \\n\\nHybryda głupoty."
          ],
          [
           "  Nowe chodnikowe powiedzonko brzmi:\\n\\nPierdolisz jak Morawiecki, realy.\\n\\n  \\n\\nHybryda głupoty."
          ],
          [
           "Terminator X To The Edge Of Panic wykonawcy Public Enemy\\nhttps://t.co/Nqf1yFOyKg"
          ],
          [
           " Zaspana jestem jeszcze sorki XD"
          ],
          [
           "  No ja nie kojarze xD"
          ],
          [
           " Pies to czasem nawet pożera książki..."
          ],
          [
           "Kiedy Christina wychodzi za mąż"
          ],
          [
           "  Zapewne ci, co grali przez większość rundy w CLJ i nie ponieśli ani jednej porażki."
          ],
          [
           "  Jak będzie ta pioseneczka to przychodzę\\n\\nhttps://t.co/B6ak11mI4d"
          ],
          [
           " zamieszczanie takich zdjęć podczas gdy ja jestem na sucharach powinno być zabronione :)"
          ],
          [
           "   A co trzeba zrobić w kwestii finansowania kampanii z funduszy UE przez Ziobrę?"
          ],
          [
           " W środku łamanie w stylu 2obiegu."
          ],
          [
           "jak ja się źle czulem jak byłem dzieckiem w  kościele to głow mala, szopka do kwadratu, nie mogłem tego wytrzymać"
          ],
          [
           "    jak wróce z pracy to też podejme wyzwanie ale tym razem bedzie skromnie :)"
          ],
          [
           "   Jak pić to z klasą ;)"
          ],
          [
           "  Ty pajacu, zmień sobie herb na pusty łeb."
          ],
          [
           " W rosji sa jakieś zawody"
          ],
          [
           "  Myślałem że to Twój ulubieniec 😂"
          ],
          [
           "  pewnie ranking Fifa bedzie decydowal"
          ],
          [
           " Łukaszewicz, co Wy tam palicie?"
          ],
          [
           "   Leszku mój kochany, masz mózg wyprany"
          ],
          [
           " a ja współczuje zaślepienia.Wolę nie mieć Wolskiego niż robić kolejne długi "
          ],
          [
           "   od paru lat słysze o sponsorze więc tym bardziej szacunek że przez pare lat się nieujawnił..."
          ],
          [
           " Skoro Carrillo nie chce Sobola to tym bardziej nie będzie chciał Głowy. Chyba, że trener rzeczywiście odchodzi."
          ],
          [
           "   Zawsze bedą afery bo zawsze będa tacy l którzy kradną  i tacy u wladzy których to kręci"
          ],
          [
           " kot też się załapał na fotke, a raczej jego dupa :)"
          ],
          [
           " Szczerze? Trochę tak to wygląda, a i tak prędzej czy później ten bilans wychodzi na równo."
          ],
          [
           " zaraz będą pisać że Wisła szkoli kiboli żeby potrafili maczetą wymachiwać :)"
          ],
          [
           "*stoi przed nimi król gargulców*\\nbetty: to pewnie ethel\\n\\nXDDDDDDDDDDDDDD\\n#Riverdale #RiverdalePL"
          ],
          [
           "  *stoi przed nimi król gargulców*\\nbetty: to pewnie ethel\\n\\nXDDDDDDDDDDDDDD\\n#Riverdale #RiverdalePL"
          ],
          [
           " No, to ja we własnej osobie"
          ],
          [
           " Słabo trzymałeś kciuki, bo podarował bramke Cracovii :)"
          ],
          [
           " Odstawiając narodowość na bok to ten skład jest przecież słabiutki."
          ],
          [
           "  Piwnica bez okien, ty to masz dobrze"
          ],
          [
           "Czuję się chora więc siedzę w domu w czapce"
          ],
          [
           " Juz myslałem że coś gorszego😁😁"
          ],
          [
           "  A gdzie Inferno napisał, że Wisła stawia na Polaków ?"
          ],
          [
           " akurat Tobie bliżej do Karolaka bo w większości Cię wycięli 😂    "
          ],
          [
           " Omg właśnie o nich myślałam"
          ],
          [
           " Tak na pewno nie będzie. Drużyna leci w środę."
          ],
          [
           "Cudzysłów, przecinek nie jestem ruskim trollem"
          ],
          [
           "Biorąc pod uwagę, jakie dotąd mieliśmy losowania w Lidze Europy, to na ten finał w Baku w 2019 roku nie jesteśmy bez szans. 😁"
          ],
          [
           "  Fajnie, teraz zamiast przemowy muzyczka żeby nie było słychać odzewu publiki."
          ],
          [
           "  Białystok, ulica Wierzbowa. Jak oni to zrobili, to jest zagadka."
          ],
          [
           " Straszny gangster jak po wolności chodzi"
          ],
          [
           " To się nazywa uzależnienie xD"
          ],
          [
           " Info z ostatniej chwili barwy pogoni skrojone przez bandytów Z Krakowa.  Pomimo zakazu Wisła rządzi"
          ],
          [
           "  Pewnie tak bo Buchalik kontuzjowany."
          ],
          [
           " to miało jakiś ciąg dalszy? 😉"
          ],
          [
           "vans do chuja przestań robić choć na chwilę zajebiste kolekcje bo w moim portfelu pieniądzen't"
          ],
          [
           "  vans do chuja przestań robić choć na chwilę zajebiste kolekcje bo w moim portfelu pieniądzen't"
          ],
          [
           "    12 mld nie mam zamiaru dyskutowa możejki i skoki"
          ],
          [
           "  Alves był bardzo w stylu Guardioli 😛"
          ],
          [
           " Co ty żresz, że ci tak pierdolnęło?"
          ],
          [
           " Bo w \\\"10\\\" już grają przez Boatenga ;)"
          ],
          [
           "  Trudno być pewnym, gdy stoperzy mogą zagrać tylko lagę do przodu, bo środka nie mamy."
          ],
          [
           "   No właśnie, nie było i dlatego patologia została stosownie potraktowana."
          ],
          [
           " skoro jest dno dna to może skupmy się na tych od których coś wymagamy"
          ],
          [
           " Widocznie to zbyt trudna miłość na Walentynki 😁"
          ],
          [
           " Sarapata była w solarium ?"
          ],
          [
           " Woda chyba zimna bo nikogo w wodzie ;-)"
          ],
          [
           " ej, dobra, weźmie ten chrzest czy nie? xd"
          ],
          [
           "  Lub bezpośredni awans, bo nie wiadomo co ze Stomilem, a przede wszystkim Bytovią :)"
          ],
          [
           "  byłam przy tym, więc zapewniam 😉"
          ],
          [
           "   Tylko ty masz problem z rzecznikiem, więc zastanów się w kim tak naprawdę jest problem? 🤔"
          ],
          [
           " Piątek  też powinien być wolny, ina 100%"
          ],
          [
           "Wassermannówna kłamie, mówiąc, że „przyszła do polityki”. Ona przyjechała na trumnie ojca."
          ],
          [
           "  Wassermannówna kłamie, mówiąc, że „przyszła do polityki”. Ona przyjechała na trumnie ojca."
          ],
          [
           " Już dwa lata temu powinni wygrac Euro."
          ],
          [
           " Kibice innych drużyn doceniają i trochę zazdroszczą :)"
          ],
          [
           "  na 100% jest zmiana Śląsk - Jaga i chyba została już potwierdzona."
          ],
          [
           " W tym czasie był z rodzinką na wakacjach w Gdańsku Brzeźnie to musiał zdalnie podtrzymywać związek"
          ],
          [
           "jak Patryk Jaki wygra wybory w Warszawie oczyści stolicę z byłych UBECKICH funkcjonariuszy ! #woronicza17"
          ],
          [
           "  jak Patryk Jaki wygra wybory w Warszawie oczyści stolicę z byłych UBECKICH funkcjonariuszy ! #woronicza17"
          ],
          [
           "Szkoda, że przez wymysły Mendesa taki Ruben Neves się marnuje w Wolverhampton."
          ],
          [
           "  Nie wiem, aczkolwiek jego tata mówił, że widziałby Tomasa w Jagiellonii. 😜"
          ],
          [
           "Ja i moje psiapsi gramy w te gry na snapie i nie mogę przestać się śmiać z naszych min XD"
          ],
          [
           " Kolar niestety ten sam poziom. Chyba trzeba będzie liczyć na skuteczność Boguskiego i Małeckiego..."
          ],
          [
           "Rząd zaostrzy kary za znęcanie się nad zwierzętami. Od 3-5 lat więzienia; obowiązkowa nawiązka do 100 tys zł. Więcej jutro w "
          ],
          [
           "  Rząd zaostrzy kary za znęcanie się nad zwierzętami. Od 3-5 lat więzienia; obowiązkowa nawiązka do 100 tys zł. Więcej jutro w "
          ],
          [
           "   czuje że Brlek prędzej czy później odpali"
          ],
          [
           "  To, że figurowal jako zawodnik Man City nie znaczy, że będzie potrafił grać."
          ],
          [
           "  Oczywiście, że ma rację. Chodzi tylko o to, że to jest drużyna o klasę lub dwie lepsza."
          ],
          [
           "  Nie miał prawa stać za linią, tak prawdę mówiąc 😄 Ale w kamerach to bardzo ładnie wyglądało."
          ],
          [
           "   Ty to robisz przede wszystkim, co widać po pierwszym tweecie."
          ],
          [
           "Ostatnio czuje się tak samotna i smutna ze aż sama się dziwie"
          ],
          [
           " Przecież to legionista to komu ma życzyć mistrza.Nie wiedziałeś ?"
          ],
          [
           "   dobrze by mu to zrobiło.Za słaby na Wisłe."
          ],
          [
           " Hehehehehe. Róża nawet niezła była.I co z niej wyrosło!😁😁😁"
          ],
          [
           " jedni wynajmują agencje do komentarzy a inni dziennikarzy"
          ],
          [
           "   jedni wynajmują agencje do komentarzy a inni dziennikarzy"
          ],
          [
           " pewnie jest mniej błędów bo i liczb jest mniej bo zrezygnowali ze statystyk zawodników sezon po sezonie ;)"
          ],
          [
           " Krzyż przeciw prezydenturze, krzyż obłędu"
          ],
          [
           "  Sorry ale dzisiaj nie ma opozycji. Jest grupa cwaniaków chcących odzyskać stołki."
          ],
          [
           "na kijowe życie najlepsza wódeczka"
          ],
          [
           "Co na to Herod śmierdziuszka "
          ],
          [
           " Brakuje mu dystansu, za bardzo się egzaltuje, a jałowe szyderstwa już mi się przejadły"
          ],
          [
           " Wisła chyba ważniejsza od jakiejś Delle Donne :)"
          ],
          [
           " Nawet jeśli to fejk, to zgodnie z powiedzeniem -w każdej plotce jest ziarnko prawdy. Z tym że w tym przypadku raczej ziarno😁😁"
          ],
          [
           " Tez wczoraj byłam na randce która trwała cały dzień Xd"
          ],
          [
           " A kierowca autobusu wstał i zaczął klaskać ?"
          ],
          [
           "  Jak by nie było, aby było miło, teraz sie cieszysz"
          ],
          [
           " No to może warto, najwyżej Cię oleje, co jest oczywiście nie do przyjęcia 😂 kto nie ryzykuje ten nie pije szampana kochana!"
          ],
          [
           "  Trzymali się za ręce, waleczni i sprawiedliwi"
          ],
          [
           "Dudelange niby takie cwaniaki, a ciekawe czy byliby tacy mądrzy w dwuboju rzut młotem-skoki narciarskie"
          ],
          [
           "  Dudelange niby takie cwaniaki, a ciekawe czy byliby tacy mądrzy w dwuboju rzut młotem-skoki narciarskie"
          ],
          [
           "   głównie  który często o tym wspomina"
          ],
          [
           "Kto się jeszcze zaczepia na fejsie...."
          ],
          [
           "  Z tymi wizjami to może być problem. Proponuję sprawdzić po czym te wizję są"
          ],
          [
           " Jaki hejt.Hejt to jest na Tuska, Komorowskiego, przecież to nie Polacy, śmierć wrogom ojczyzny. Obudź się"
          ],
          [
           "Czy Antek już ogłosił, że na lewym skrzydle naszej obrony był wybuch?"
          ],
          [
           "  Czy Antek już ogłosił, że na lewym skrzydle naszej obrony był wybuch?"
          ],
          [
           " jest to dobra informacja dla tych co okradali  Polskę od 89  roku  Irlandia da im wolność"
          ],
          [
           "   jest to dobra informacja dla tych co okradali  Polskę od 89  roku  Irlandia da im wolność"
          ],
          [
           "Ale przecież #Polexit jest dobry. Założycie koszulki z orłem i będziecie żryć ziemniaki i wungiel 😇"
          ],
          [
           "  Ale przecież #Polexit jest dobry. Założycie koszulki z orłem i będziecie żryć ziemniaki i wungiel 😇"
          ],
          [
           "    Wywalił Ronaldo w Superpucharze :)"
          ],
          [
           "  Bo sama jest niepełnosprawna... Umysłowo.😁😁"
          ],
          [
           "Halo Kraków, kogo byście uznali za gwiazdę/najważniejszego zawodnika obecnej Wisły? 😉"
          ],
          [
           "  Ssą wszystkimi otworami z krwi biało czerwonej"
          ],
          [
           " Wy się zjednoczyliście z faszystami z połowy Europy. Kpromitacja level hard."
          ],
          [
           "   Znowu on ? 😂 to przy okazji niech się odniesie do słów Sarary 😂"
          ],
          [
           " Dotarlas do orełka?😁😁 W tym roku niestety tyłko jeden😞😞"
          ],
          [
           "  Mam rozumieć, że to mapa nasycenia krajów zboczeńcami w sutannach."
          ],
          [
           "   A Panu nie brakuje czasem art. 87 pkt1?"
          ],
          [
           " Czy to oknoplus ladowal kiedyś"
          ],
          [
           "  5 punktów na 21 w rundzie finałowej..."
          ],
          [
           ".  Będziemy realizować przekop Mierzei Wiślanej \\n#wieszwiecej  \\nhttps://t.co/zuCXxG1GUr"
          ],
          [
           "  .  Będziemy realizować przekop Mierzei Wiślanej \\n#wieszwiecej  \\nhttps://t.co/zuCXxG1GUr"
          ],
          [
           " Bolek wyluzuj bo jesteś sercowy."
          ],
          [
           " Śmiej się  śmiej. To wcale nie jest śmieszne."
          ],
          [
           "I hope that autumn will heal me"
          ],
          [
           "Jutro po marszu, ale jeszcze kilka dni beda chodzić naćpani"
          ],
          [
           " Nie ma jak lans nierobie za pieniądze podatników."
          ],
          [
           " A to ja przepraszam, nie miałam wczoraj czasu na TT 😎"
          ],
          [
           "11 tysięcy miejsc zajętych, dzisiaj prawie 2000 biletów sprzedanych. Z tej okazji za chwilę nagroda 😁"
          ],
          [
           "  To ja chyba tylko kolory porównywałem"
          ],
          [
           "Ej słuchajcie co zajebistego wymyśliłam \\n\\nJaki jest najlepszy argument bonnie z pamiętników wampirów? \\n\\nBo nnie"
          ],
          [
           "  Ej słuchajcie co zajebistego wymyśliłam \\n\\nJaki jest najlepszy argument bonnie z pamiętników wampirów? \\n\\nBo nnie"
          ],
          [
           " Im więcej problemów w państwie tym więcej niewykonanych wyroków"
          ],
          [
           "Widziałam śliczną sukienkę ale nie było mniejszego rozmiaru niż 36 i była za duża danmm"
          ],
          [
           "  Polskę to kompromitują tacy jak ty. Oszołomie."
          ],
          [
           " 😁😁😁😁😁😁😁😁  teraz to mnie Pani ubawiła tym paskiem. A widziała Pani swoją szyję?"
          ],
          [
           "   nie, ale jeśli ktoś wypomina Levadie to niech bedzie obiektywny i wspomni też inny wynik."
          ],
          [
           " O naszych meczach z Rio Ave można powiedzieć podobnie 😉"
          ],
          [
           "W sumie to polubiłam już zajęcia z konstrukcji przekazu reklamowego i prowadzący jest świetny"
          ],
          [
           "Ej chciałabym do samorządu w sumie hahahaha"
          ],
          [
           " Tez nie mam snapa hahahahaha"
          ],
          [
           " Ileż można o tym Wiluszu ?..."
          ],
          [
           " A po polsku to jak to będzie?"
          ],
          [
           "  A skąd on wie jak jest w innych klubach ? Niech się wypowiada o klubach w których grał."
          ],
          [
           "I ta Wisła, która się bawi z każdym w ofensywie, w Białymstoku miała pół sytuacji."
          ],
          [
           "   Zapytalem,  szwagierka mówi że ma konto w powerbanku"
          ],
          [
           "  Mięciuteńki straszliwie. Tam były ręce na ciele, a nie jakieś szarpanie. Tylko że nie do VAR-u."
          ],
          [
           "  Pajacu, jak podajesz przepis to masz go znać na pamięć. Inaczej robią z siebie idiotę tak jak teraz."
          ],
          [
           " Zdejmujesz Dziadkowi okulary, zakładasz Babci i jestem \\n😎"
          ],
          [
           "   w końcu jakiś ciekawy wywiad :)"
          ],
          [
           " jak tam widziałeś czerwoną to rzeczywiście wyjdź"
          ],
          [
           " skoro zarząd pozwala na takie cyrki to niestety potrwa to lata"
          ],
          [
           "  Cieszmy się że drużyna dalej gra w lidze.Nie zawsze można mieć najmocniejszy skład w lidze :)"
          ],
          [
           "   Znawca wszystkiego czyli niczego od bydła po powidło"
          ],
          [
           " 😂😂😂😂😂😂😂😂😂😂😂😂😂🤣🤣🤣🤣🤣🤣🤣🤣🤣🤣🤣🤣🤣😂😂😂😂😂😂😂🤣🤣🤣🤣🤣🤣🤣🤣🤣🤣🤣🤣🤣🤣🤣😂😂😂😂😂😂😂😂😂😂😂😂😂😂😂😂\\n\\nSłów odpowiednich żaden słownik nie zawiera"
          ],
          [
           " Vacek, Putnocky, Nielsen.Widzę że biorą się za odmładzanie składu :)"
          ],
          [
           "   Ty się chyba debilu nie słyszysz, ty tekstów to się po nocach uczysz czy masz słuchawkę w uchu?"
          ],
          [
           " Lub kibiców w Gliwicach 😜"
          ],
          [
           " No właśnie była lepsza 😜"
          ],
          [
           "    No weź nie rob takiej miny"
          ],
          [
           "   Szczekać to mogą tacy jak ty #delegalizacja"
          ],
          [
           " Bo jest Głowacki to teraz czas na obrońców"
          ],
          [
           "  Nie ma takiej opcji. Oszust i kłamca w roli głównej - tego jeszcze świat nie widział."
          ],
          [
           " Nie jest złe! Chodzisz w szpilkach? Cokolwiek byś nie założyła to szpilki choć trochę pomogą xd"
          ],
          [
           " Jakby był definitywny to trochę slabo 😂"
          ],
          [
           " a co się tak pieniedzmi nagle przejmujesz ? Jak chcialas rozwiazania kontraktu z Zohnova czy Pop to kasa juz nie wazna ?"
          ],
          [
           " Oskar Łąk definitywnie odszedł z Wisły ?\\n\\nhttps://t.co/o0psVgZBUl"
          ],
          [
           " gratulacje ! Dzięki za dotrzymanie słowa że dzisiaj koniec :) Zasłużyłyście !"
          ],
          [
           "Jezu, co zagrali Suarez i Cavani."
          ],
          [
           " Na pewno łatwiej by było znaleźć, określić i poprawić problemy"
          ],
          [
           " Można, dlatego nasz poziom piłkarski był bardzo słaby wczoraj."
          ],
          [
           " Wybacz, ale nie sądzę, aby głównym problemem kadry były złe powołania na numerach 21-23 w kadrze."
          ],
          [
           "jeśli nie mogę wyglądać tak jak\\n•perrie edwards\\n•troian bellisario\\nto what’s the point of existing?"
          ],
          [
           "  jeśli nie mogę wyglądać tak jak\\n•perrie edwards\\n•troian bellisario\\nto what’s the point of existing?"
          ],
          [
           " Nadal i Djoković to się w sumie cieszą, bo ten, kto w ich meczu wygra, będzie praktycznie zwycięzcą turnieju."
          ],
          [
           "  Mówisz że ONR lize doope😂"
          ],
          [
           "   wyśle im jutro list od kibiców cracovii że chcą odejścia Filipiaka.Ciekawe czy też opublikują."
          ],
          [
           "  A kiedy zaczniecie zbiórki na krówki i świnki?"
          ],
          [
           " No to skąd wiedziałeś czy stopklatka jest zrobiona w odpowiednim momencie ? Nie kompromituj się"
          ],
          [
           "   Iza - dziewczyna, cud, miód, malina 😁"
          ],
          [
           "Zaraz pół mojego instagrama i cały Twitter będzie na koncercie Eda.... i jestem jeszcze ja............"
          ],
          [
           " Z tamtego Adama dziś już nic nie zostało. Ale czepianie się go za brata i ojca osobiście nie popieram"
          ],
          [
           "  Plujecie na Polskę to my będziemy pluć na was."
          ],
          [
           "    Plujecie na Polskę to my będziemy pluć na was."
          ],
          [
           " Może też być kołderka 😍"
          ],
          [
           " Dlaczego średnio? W decydujacym o awansie Widzewa czerwcu był piłkarzem miesiąca"
          ],
          [
           " błedem było ściaganie zawodników których nas niestać byleby osiągnąć cel"
          ],
          [
           " Każdy kto choć trochę się orientuje w tych sprawach wie, że na Hutniku nie ma oświetlenia..."
          ],
          [
           " Maliniak dal reklame za dormo ponoć caly marsz niepodleglosci ubrali, prawda to redisbad?"
          ],
          [
           " niech wejdzie na luzie i pewnie tak żeby nie musiał zostawiać dokumentu, milion osób tak przemyciłam"
          ],
          [
           " Cie zaraz piznę, jak nie zaczniesz myśleć"
          ],
          [
           "  Bo byliśmy bez formy, to oczywiste. Przecież to też napisałem."
          ],
          [
           " jest juz aktualizacja składów czy jakis dodatek sciągałeś ? :)"
          ],
          [
           " Komentarz raz a dwa słysząc trybuny zastanawiam się czy ten kto wymyślił mecze w pn obejrzał choć jeden"
          ],
          [
           "      Mam nadzieję że nigdy więcej. Czekam na rychłą delegalizację."
          ],
          [
           " A Ty nigdy nie robisz dwóch rzeczy jednocześnie? Np. idziesz i żujesz gumę."
          ],
          [
           "  O 11.00 wielkie obtrabienie sukcesu..."
          ],
          [
           "  Ty kurwa  nie pierdol w tv bo sie żygać chce"
          ],
          [
           " problemem jest to że jak sobie coś ubzdurasz to myślisz że zawsze masz racje bo jesteś wszechwiedzący "
          ],
          [
           " Taki Błaszczykowski tez za co do repry?  Żeby niebylo ze wbijam szpilki do legi?"
          ],
          [
           "Często wracam do tego kawałka. "
          ],
          [
           " A pisdzielstwo, szczury, gady, plazy popromienne, azbestowe?"
          ],
          [
           "omg ale jestem wyjebana po tym wykładzie"
          ],
          [
           "  jak Zarycki jest Twoim informatorem to te info można w kiblu spuścić"
          ],
          [
           "  Ale Karolina ostatnio była w TVP 😜"
          ],
          [
           "#NAME?"
          ],
          [
           "  U mnie też wyświetla właściwe kolory 😊"
          ],
          [
           "  Najpierw kasza, później przyjemności, a kiedyś wolność, ale wy klękacie bez obawy zostanie i tak bez was"
          ],
          [
           "   No oboje Państwo wyglądacie jak rodzeństwo. I tacy żółci oboje."
          ],
          [
           " No kurwa  ty masz nie rządzić, madz nie rządzić"
          ],
          [
           "Yerri Mina - złota piłka 😁"
          ],
          [
           " jeszcze nie mam planu wykonania ;-)"
          ],
          [
           " Śląsk Wrocław ma jakiś drugi podmiot, że wystawia drugi zespół w barażach?"
          ],
          [
           " personalnie do tej Pani, przyjrzyj się sobie   ,  "
          ],
          [
           "Nie wiem, jak Barcelona i Real otrząsną się po utracie tak ważnych piłkarzy, jak Paulinho i Cristiano Ronaldo."
          ],
          [
           "Polska zrealizowala nasze cele w UE na szczycie z nawiązką. Podajcie dalej  koniecznie potrzebne - dziękuję😊\\nhttps://t.co/OzUaePZLpY"
          ],
          [
           "  Polska zrealizowala nasze cele w UE na szczycie z nawiązką. Podajcie dalej  koniecznie potrzebne - dziękuję😊\\nhttps://t.co/Oz…"
          ],
          [
           "   A my nie mamy helikopterów, rakiet, łodzi podwodnych a mamy WOT w którym ja biegam"
          ],
          [
           "  A czego oczekiwałeś ? Przedłużą z kimś kontrakt to poinformują"
          ],
          [
           " Jeszcze Podolski od jakiegoś czasu."
          ],
          [
           "Przepraszamy. Nie wpadliśmy na to, że pokazując środkowy palec narodowi, który - ponad podziałami, czci #PW1944, możemy kogoś obrazić. Sorki"
          ],
          [
           " ahhh myślałam, że na jakieś innej stronie"
          ],
          [
           " Źle... Miałeś napisać, że nie możesz więcej zdradzić :("
          ],
          [
           " Pan w tle, z lewej, to z mopem zasuwa? 🖒"
          ],
          [
           "Czy naprawdę trzeba publicznie przyznawać się do nieprzygotowania do meczu, drodzy panowie komentatorzy? (kwestia Sheridana)"
          ],
          [
           "Na tt te beznadziejne gadki o niczym, to już wolę sam ze sobą"
          ],
          [
           " Pamiętaj, ze ja daleko do ciebie nie mam 😂"
          ],
          [
           " Pomysł sobie ze ja oblałam bo z pełna świadomością wjebalam się na rondo XD widzisz to taki mały błąd, Ew"
          ],
          [
           " Jest tej chołoty tutaj całkiem sporo. Napewno się udzielają."
          ],
          [
           " Hejka, hejka, sejonarka w czwartek o 11 juz do domku"
          ],
          [
           "  Mistrz, człowiek mem jedyny na świecie"
          ],
          [
           "   York czy Leszek Miller? :)"
          ],
          [
           " Kiedys kazdy kopniak bez piłki = czerwona, a jeśli to było tylko położenie ręki na głowę, to nie mamy o czym rozmawiac :)"
          ],
          [
           "Morawieckiemu coś nie idzie w Namysłowie. Teraz jako były prezes BZK WBK przedstawia się jaki ten, który zwalcza \\\"zachodnie korporacje\\\"."
          ],
          [
           "  Morawieckiemu coś nie idzie w Namysłowie. Teraz jako były prezes BZK WBK przedstawia się jaki ten, który zwalcza \\\"zacho…"
          ],
          [
           " No widzisz, a zwycięską asystę w tym meczu zanotował Griezmann. MVP = najbardziej wartościowy zawodnik :)"
          ],
          [
           " do domu bo ci rózga dupę  ty mały  "
          ],
          [
           "Jak go pierwszy raz usłyszałam to miałam ciarki na całym ciele"
          ],
          [
           " kibice nigdy nie pozwolą na to żeby po raz kolejny był trenerem"
          ],
          [
           "Teraz zarykam nos i mowie \\\"cała polska z was sie śmieje, komuniści i zlodzieje,"
          ],
          [
           " Jego tata tłumaczył konferencję przy okazji meczu z Rio Ave w Vila do Conde :)"
          ],
          [
           " a wyśmiewanie Lionela M. było po skazaniu go za oszustwa podatkowe ? bo jakoś przeoczyłem"
          ],
          [
           "   życzę Gatcie mistrza bo zasługują na to grając 2 sezony na wysokim poziomie."
          ],
          [
           " Plakat widzę tak  z   wymiana spojrzeń  a  na kolanach liże ich po stopach"
          ],
          [
           " Pana zdanie nie interesuje Polaków ❗\\nWypchaj się Pan niemiecką, śmierdzącą onucą ❗"
          ],
          [
           "   Pana zdanie nie interesuje Polaków ❗\\nWypchaj się Pan niemiecką, śmierdzącą onucą ❗"
          ],
          [
           "  Mógł, ale jakoś nie chce mi się wierzyć, że tak to wyglądało."
          ],
          [
           "em ok wątek Jerzego i Zuzy w Przyjaciółkach to najlepsze co tam było kiedykolwiek"
          ],
          [
           "   Giertych: myślę, że myślę."
          ],
          [
           "Ostatnio się zrobiłam polityczna chyba studia weszły mi za mocno"
          ],
          [
           " Badziewny zespół, a i tak Anglicy byli o krok od straty punktów :)"
          ],
          [
           " nawet pasy to dla was za duże wyzwanie co widać po twoim profilowym.Mistrzowie opraw."
          ],
          [
           " nie chodziło mi o to że się cieszyłeś z upadku Wisły tylko że masz czarny humor :) że się z Wisły na Chojnice przerzuciłem :)"
          ],
          [
           "Ta drużyna powstała za czasów PO-PSL."
          ],
          [
           "  Ta drużyna powstała za czasów PO-PSL."
          ],
          [
           " Hołd to się oddaje bohaterom...."
          ],
          [
           "   a co ma procent zapelnienia pojemnosci do frekwencji ? Po za tym co to jest 50% na takim malym stadionie ?"
          ],
          [
           "Spółka srebrna kapitał  7 mln,  w zarządzie sekretarka i kierowca Jarkacza"
          ],
          [
           " Haha  a ilu ty zapraszasz do studia co pierd...takie głupoty..."
          ],
          [
           "   Haha  a ilu ty zapraszasz do studia co pierd...takie głupoty..."
          ],
          [
           "Kto chce zrobić ze mna tea party??"
          ],
          [
           " Ale za to wystąpił równie błyskotliwy,inteligentny, merytoryczny,bystry poseł Kieeerwiiinski!!!"
          ],
          [
           " No gdzie, wszystko zależało od Lecha w ostatniej kolejce :D"
          ],
          [
           "Moja morda to takie spierdolenie ze zaraz rykne"
          ],
          [
           "  Moja morda to takie spierdolenie ze zaraz rykne"
          ],
          [
           "  No w różnych miejscach ludzie seks uprawiają. Dajcie spokój..."
          ],
          [
           " Ok boli, boli. Czarne katabasy, mordercy irlandzkich kobiet i sierot do kruchty i pokutować do końca życia za swoje występki."
          ],
          [
           "Czemu żaden tramwaj nie jedzie wtf"
          ],
          [
           " Tak, statystyki to kłamstwa. Za to wyciągnięcie jednej sytuacji z 90 minutowego meczu to bezcenny dowód."
          ],
          [
           "  Zamiast tego można znaleźć grafiki na różnych ekranach / telebimach w mieście."
          ],
          [
           " Niby sami świnie, a nic nie wiedzą"
          ],
          [
           " Ale co to ma do Mystka?"
          ],
          [
           " Serio chcecie cichego stadionu ?"
          ],
          [
           "Co to miało być? 😂"
          ],
          [
           " tego się niespodziewałem po Tobie... Zawiodłeś nas :D "
          ]
         ],
         "hovertemplate": "x=%{x}<br>y=%{y}<br>text=%{customdata[0]}<br>cluster=%{marker.color}<extra></extra>",
         "legendgroup": "",
         "marker": {
          "color": [
           1,
           1,
           1,
           1,
           1,
           1,
           1,
           1,
           1,
           1,
           1,
           1,
           1,
           1,
           1,
           1,
           1,
           1,
           1,
           0,
           1,
           1,
           -1,
           1,
           1,
           -1,
           1,
           1,
           1,
           1,
           -1,
           -1,
           -1,
           1,
           1,
           1,
           1,
           1,
           1,
           -1,
           1,
           1,
           0,
           1,
           1,
           1,
           1,
           1,
           1,
           -1,
           -1,
           1,
           1,
           1,
           1,
           1,
           1,
           1,
           -1,
           1,
           1,
           1,
           1,
           1,
           1,
           1,
           1,
           1,
           1,
           1,
           1,
           1,
           1,
           1,
           1,
           1,
           1,
           1,
           1,
           1,
           -1,
           1,
           1,
           1,
           1,
           1,
           -1,
           -1,
           -1,
           -1,
           1,
           1,
           -1,
           1,
           1,
           1,
           1,
           1,
           1,
           1,
           1,
           1,
           1,
           1,
           1,
           1,
           1,
           1,
           1,
           1,
           1,
           1,
           -1,
           -1,
           1,
           1,
           1,
           1,
           -1,
           1,
           1,
           1,
           1,
           1,
           1,
           1,
           1,
           1,
           1,
           1,
           1,
           1,
           1,
           1,
           1,
           1,
           1,
           1,
           1,
           1,
           1,
           1,
           1,
           1,
           1,
           1,
           -1,
           -1,
           1,
           1,
           1,
           1,
           1,
           1,
           1,
           1,
           1,
           1,
           1,
           1,
           1,
           1,
           -1,
           1,
           1,
           1,
           1,
           1,
           1,
           1,
           1,
           1,
           1,
           1,
           1,
           1,
           1,
           1,
           1,
           1,
           1,
           -1,
           -1,
           1,
           1,
           1,
           1,
           1,
           1,
           1,
           1,
           1,
           1,
           1,
           1,
           1,
           1,
           1,
           -1,
           1,
           1,
           1,
           1,
           -1,
           -1,
           1,
           1,
           1,
           1,
           1,
           1,
           1,
           1,
           1,
           1,
           1,
           1,
           1,
           1,
           1,
           1,
           -1,
           1,
           1,
           1,
           1,
           1,
           1,
           1,
           1,
           1,
           1,
           1,
           1,
           1,
           1,
           1,
           1,
           1,
           1,
           1,
           1,
           1,
           1,
           1,
           1,
           1,
           1,
           1,
           1,
           1,
           1,
           1,
           1,
           1,
           1,
           1,
           1,
           1,
           1,
           1,
           1,
           1,
           1,
           1,
           1,
           -1,
           -1,
           1,
           1,
           1,
           1,
           1,
           1,
           1,
           1,
           1,
           1,
           1,
           -1,
           -1,
           1,
           1,
           1,
           1,
           1,
           1,
           1,
           1,
           1,
           1,
           1,
           1,
           -1,
           1,
           1,
           -1,
           1,
           1,
           1,
           1,
           1,
           1,
           1,
           1,
           1,
           1,
           1,
           1,
           1,
           1,
           1,
           1,
           1,
           1,
           1,
           -1,
           -1,
           -1,
           1,
           1,
           -1,
           1,
           1,
           1,
           1,
           1,
           1,
           1,
           1,
           1,
           1,
           1,
           1,
           1,
           1,
           -1,
           1,
           1,
           1,
           1,
           -1,
           1,
           1,
           -1,
           -1,
           1,
           1,
           -1,
           -1,
           1,
           1,
           1,
           1,
           1,
           1,
           1,
           1,
           1,
           1,
           1,
           1,
           1,
           1,
           -1,
           1,
           1,
           1,
           1,
           1,
           1,
           1,
           1,
           1,
           1,
           1,
           1,
           -1,
           1,
           1,
           1,
           1,
           -1,
           -1,
           1,
           1,
           1,
           1,
           1,
           1,
           1,
           1,
           1,
           1,
           1,
           1,
           1,
           1,
           1,
           1,
           1,
           1,
           1,
           1,
           1,
           -1,
           -1,
           1,
           1,
           1,
           1,
           1,
           1,
           1,
           1,
           1,
           -1,
           1,
           1,
           1,
           1,
           1,
           1,
           1,
           1,
           1,
           1,
           1,
           1,
           1,
           1,
           1,
           1,
           1,
           1,
           1,
           1,
           1,
           1,
           1,
           1,
           1,
           1,
           -1,
           -1,
           1,
           1,
           -1,
           -1,
           1,
           1,
           1,
           1,
           1,
           1,
           -1,
           1,
           -1,
           1,
           1,
           1,
           1,
           1,
           1,
           1,
           1,
           1,
           1,
           1,
           1,
           1,
           1,
           1,
           1,
           1,
           1,
           -1,
           1,
           1,
           1,
           1,
           1,
           1,
           -1,
           -1,
           1,
           1,
           1,
           1,
           1,
           1,
           -1,
           1,
           1,
           1,
           0,
           0,
           1,
           -1,
           1,
           1,
           1,
           0,
           1,
           1,
           -1,
           -1,
           1,
           1,
           1,
           1,
           1,
           1,
           1,
           1,
           1,
           1,
           1,
           1,
           1,
           1,
           1,
           1,
           1,
           -1,
           1,
           1,
           1,
           0,
           1,
           1,
           1,
           1,
           1,
           1,
           1,
           1,
           1,
           1,
           1,
           1,
           1,
           1,
           1,
           1,
           1,
           1,
           1,
           1,
           1,
           1,
           1,
           1,
           1,
           0,
           1,
           1,
           1,
           1,
           1,
           1,
           1,
           1,
           1,
           1,
           1,
           1,
           -1,
           -1,
           1,
           1,
           1,
           1,
           1,
           1,
           1,
           -1,
           -1,
           1,
           1,
           1,
           1,
           1,
           -1,
           0,
           1,
           -1,
           -1,
           1,
           1,
           1,
           1,
           1,
           -1,
           1,
           -1,
           1,
           1
          ],
          "coloraxis": "coloraxis",
          "symbol": "circle"
         },
         "mode": "markers",
         "name": "",
         "orientation": "v",
         "showlegend": false,
         "type": "scatter",
         "x": [
          7.404130935668945,
          -3.994063377380371,
          16.19212532043457,
          5.049230098724365,
          15.08554458618164,
          -6.631203651428223,
          -7.2525787353515625,
          -1.422365665435791,
          6.826990127563477,
          -1.5538989305496216,
          -14.400981903076172,
          6.537298679351807,
          13.010154724121094,
          15.521031379699707,
          7.651852607727051,
          18.895750045776367,
          18.895750045776367,
          -13.449686050415039,
          15.363636016845703,
          26.344562530517578,
          14.563785552978516,
          -12.149455070495605,
          21.977989196777344,
          -0.8166237473487854,
          -9.609464645385742,
          -19.80889892578125,
          14.01872730255127,
          -4.657491207122803,
          -8.329421997070312,
          -6.1862874031066895,
          1.1640921831130981,
          1.1640921831130981,
          21.932199478149414,
          16.989151000976562,
          -9.063581466674805,
          -5.635095119476318,
          0.9179861545562744,
          -11.378802299499512,
          -7.31765079498291,
          21.868192672729492,
          9.430769920349121,
          9.430769920349121,
          26.03302574157715,
          -13.025607109069824,
          -11.9440279006958,
          -1.2240289449691772,
          -14.966513633728027,
          4.02944803237915,
          -8.312705993652344,
          14.271512031555176,
          14.271512031555176,
          -12.709735870361328,
          8.306034088134766,
          -1.3469460010528564,
          -1.3827126026153564,
          6.385412693023682,
          -8.856730461120605,
          -7.960374355316162,
          -16.59632110595703,
          5.268026351928711,
          20.00648307800293,
          9.747239112854004,
          14.13769245147705,
          -9.015114784240723,
          13.738810539245605,
          12.718603134155273,
          1.898555040359497,
          -9.70482349395752,
          -5.191816806793213,
          13.044642448425293,
          -0.7198953628540039,
          11.91549015045166,
          15.34381103515625,
          10.324094772338867,
          -4.129560947418213,
          12.35473346710205,
          6.915213108062744,
          10.476229667663574,
          -0.8799628615379333,
          -0.028701772913336754,
          -13.172033309936523,
          -8.332010269165039,
          -4.352654457092285,
          14.41749095916748,
          14.413063049316406,
          -10.61783218383789,
          -20.4102725982666,
          20.706815719604492,
          20.70694351196289,
          4.087749481201172,
          -6.012810707092285,
          16.342105865478516,
          22.448253631591797,
          0.1506381779909134,
          4.294006824493408,
          9.507441520690918,
          12.54531192779541,
          6.034048557281494,
          5.482701778411865,
          16.49404525756836,
          1.658488392829895,
          11.140487670898438,
          4.5166497230529785,
          -2.8328475952148438,
          1.3527827262878418,
          13.831230163574219,
          -7.670815944671631,
          4.039674758911133,
          -1.6554811000823975,
          6.8126020431518555,
          2.7005040645599365,
          2.7005040645599365,
          -6.276956558227539,
          -6.276956558227539,
          10.084081649780273,
          -15.383769035339355,
          6.041290283203125,
          14.000170707702637,
          -9.657173156738281,
          8.99582576751709,
          3.555743932723999,
          3.555743932723999,
          2.6555395126342773,
          -14.690621376037598,
          7.969383716583252,
          -5.7498674392700195,
          -2.775430917739868,
          7.949934482574463,
          -12.455632209777832,
          3.6037278175354004,
          -2.5739753246307373,
          15.98827075958252,
          -5.732137203216553,
          -11.4110746383667,
          -5.4013519287109375,
          -8.616044998168945,
          11.671147346496582,
          2.404953956604004,
          8.112333297729492,
          7.206873893737793,
          -1.8395260572433472,
          10.84761905670166,
          -3.5403037071228027,
          2.5294430255889893,
          -0.8849126100540161,
          5.435227394104004,
          10.791938781738281,
          10.791938781738281,
          12.119483947753906,
          7.230601787567139,
          14.022055625915527,
          -5.677567481994629,
          5.930480003356934,
          -20.549198150634766,
          -20.549304962158203,
          5.076982498168945,
          -1.071508765220642,
          10.726784706115723,
          -6.431656360626221,
          -2.334148645401001,
          -6.80334997177124,
          -4.420230865478516,
          20.15543556213379,
          5.991904258728027,
          -17.40605354309082,
          -3.64862060546875,
          6.904769420623779,
          13.405045509338379,
          -8.096125602722168,
          -11.516016006469727,
          -1.3321318626403809,
          6.962048530578613,
          -6.234790325164795,
          -2.9875011444091797,
          -9.53727912902832,
          -5.68818473815918,
          -1.9406242370605469,
          -4.025706768035889,
          -8.574478149414062,
          -1.53549325466156,
          -3.857896327972412,
          -14.95248794555664,
          -14.952621459960938,
          -18.086889266967773,
          9.4221773147583,
          -16.183387756347656,
          -5.059830665588379,
          20.71210289001465,
          20.735883712768555,
          -16.80898666381836,
          0.07691516727209091,
          -14.27707290649414,
          5.697281360626221,
          -4.84556770324707,
          4.620619773864746,
          -13.949198722839355,
          11.113946914672852,
          5.95005464553833,
          11.179821968078613,
          0.5410091876983643,
          -1.2054625749588013,
          9.993081092834473,
          5.530355930328369,
          11.63127613067627,
          11.63127613067627,
          7.696165561676025,
          0.40363720059394836,
          5.728968143463135,
          13.469161033630371,
          16.07329750061035,
          8.51414680480957,
          10.282556533813477,
          4.179484844207764,
          -3.0611352920532227,
          9.129315376281738,
          6.715762615203857,
          22.618600845336914,
          -7.337867259979248,
          19.07134246826172,
          5.296780586242676,
          -6.511357307434082,
          7.301676273345947,
          -10.526888847351074,
          5.6200079917907715,
          -6.631004810333252,
          8.964797973632812,
          -9.426094055175781,
          -3.742339849472046,
          4.615706443786621,
          11.367469787597656,
          17.038686752319336,
          2.331418991088867,
          -13.554353713989258,
          3.2560298442840576,
          -12.271224975585938,
          7.487721920013428,
          -0.3733989894390106,
          -11.9639892578125,
          -11.290480613708496,
          1.3660751581192017,
          -8.954938888549805,
          0.07031431049108505,
          -4.912088394165039,
          -4.912088394165039,
          5.157225608825684,
          0.6368746757507324,
          -3.0596070289611816,
          -1.3029019832611084,
          17.282468795776367,
          -6.003378391265869,
          6.86401891708374,
          -8.905292510986328,
          3.5718607902526855,
          -15.163469314575195,
          -15.16219425201416,
          13.035417556762695,
          -6.626974105834961,
          0.8686405420303345,
          -13.477262496948242,
          -6.62227201461792,
          14.323163986206055,
          -3.6495707035064697,
          3.714858293533325,
          -7.833669662475586,
          14.251117706298828,
          10.94741439819336,
          0.9928929209709167,
          0.9928929209709167,
          13.685529708862305,
          -2.7059712409973145,
          12.319809913635254,
          15.721454620361328,
          1.9537893533706665,
          -3.150609254837036,
          -16.26226234436035,
          -7.13281774520874,
          -1.638784408569336,
          8.26594066619873,
          -10.853435516357422,
          -10.035937309265137,
          -9.900965690612793,
          -5.975431442260742,
          3.985091209411621,
          3.165501832962036,
          3.1654646396636963,
          -6.181087017059326,
          0.5734769105911255,
          5.22387170791626,
          2.508820056915283,
          14.153780937194824,
          -3.300227165222168,
          -9.889359474182129,
          7.098818778991699,
          15.696532249450684,
          7.130202770233154,
          20.496686935424805,
          -18.527206420898438,
          -5.862337589263916,
          4.460696220397949,
          13.180586814880371,
          -5.363736152648926,
          17.98975372314453,
          -4.142721176147461,
          -11.265931129455566,
          -18.08455467224121,
          6.444703578948975,
          6.404694080352783,
          9.714823722839355,
          -7.704273700714111,
          16.507715225219727,
          -8.281366348266602,
          -12.293065071105957,
          -5.329509258270264,
          -13.178958892822266,
          7.107329845428467,
          -0.4706319272518158,
          24.560216903686523,
          24.560216903686523,
          -3.193152904510498,
          -9.498062133789062,
          -17.03460121154785,
          -13.004453659057617,
          20.34629249572754,
          9.861141204833984,
          -16.67574691772461,
          0.3187471032142639,
          4.6540985107421875,
          12.771492958068848,
          -1.80351984500885,
          -3.0824902057647705,
          -14.054450988769531,
          -6.783436298370361,
          3.3848419189453125,
          -13.350296020507812,
          -10.19145679473877,
          -10.080681800842285,
          11.167478561401367,
          3.5423800945281982,
          2.7083683013916016,
          -3.6923301219940186,
          0.2463061809539795,
          -12.917146682739258,
          -2.0677993297576904,
          4.865940093994141,
          26.611347198486328,
          26.611347198486328,
          -8.565267562866211,
          17.803817749023438,
          -16.282747268676758,
          -17.61563491821289,
          -1.6419824361801147,
          -9.657035827636719,
          -10.7128267288208,
          -7.216361045837402,
          -8.057435989379883,
          0.0645395889878273,
          0.6638033390045166,
          11.88802719116211,
          3.0298566818237305,
          -17.172922134399414,
          -3.2565395832061768,
          -16.391586303710938,
          9.11801815032959,
          -3.016651153564453,
          -16.0947265625,
          -4.865747928619385,
          -4.865903377532959,
          7.452486515045166,
          16.376140594482422,
          -19.162561416625977,
          -3.48439359664917,
          4.775108814239502,
          -2.859992265701294,
          1.3678513765335083,
          -4.508885383605957,
          15.757150650024414,
          -4.215778827667236,
          -23.516040802001953,
          -3.0058205127716064,
          -0.1218700259923935,
          -5.350838661193848,
          1.6732152700424194,
          19.205965042114258,
          19.205965042114258,
          14.264288902282715,
          8.563214302062988,
          -4.349172115325928,
          13.46220588684082,
          11.31847858428955,
          11.318488121032715,
          16.642332077026367,
          14.915644645690918,
          -5.1061882972717285,
          12.678372383117676,
          8.429059982299805,
          8.429059982299805,
          -4.466545581817627,
          -4.008188724517822,
          -11.023519515991211,
          -2.236011266708374,
          -12.844743728637695,
          -7.145968914031982,
          -13.882977485656738,
          -8.991436958312988,
          -2.4303064346313477,
          4.795407295227051,
          4.795407295227051,
          8.727167129516602,
          17.835674285888672,
          6.8665289878845215,
          8.923075675964355,
          -13.177068710327148,
          -5.943034648895264,
          8.601469039916992,
          -9.708544731140137,
          2.162879705429077,
          -7.1341753005981445,
          0.7752862572669983,
          -3.541316270828247,
          -0.2724711298942566,
          4.39509391784668,
          4.395122051239014,
          2.6865768432617188,
          1.5922733545303345,
          -9.222332954406738,
          10.576887130737305,
          18.32367515563965,
          18.32371711730957,
          -8.65276050567627,
          -8.652703285217285,
          0.30861300230026245,
          0.3085991442203522,
          16.95008087158203,
          -11.859050750732422,
          16.029924392700195,
          2.482301950454712,
          2.291269302368164,
          -11.479238510131836,
          11.065849304199219,
          -6.33579158782959,
          -0.22938401997089386,
          -15.542745590209961,
          -2.090599536895752,
          21.32008171081543,
          21.32008171081543,
          -1.9725955724716187,
          -4.378616809844971,
          -3.471097230911255,
          15.24627685546875,
          -3.4683549404144287,
          -16.237621307373047,
          8.843975067138672,
          -14.72066593170166,
          0.6861619353294373,
          0.6861745715141296,
          25.741640090942383,
          -3.2094802856445312,
          -19.838056564331055,
          -0.006595222279429436,
          -5.765270233154297,
          10.580644607543945,
          4.108393669128418,
          -13.735749244689941,
          -10.935535430908203,
          6.508391380310059,
          -13.409523010253906,
          -11.014470100402832,
          12.992085456848145,
          -11.602214813232422,
          4.642240047454834,
          -7.0971856117248535,
          2.039698839187622,
          17.120431900024414,
          -9.417014122009277,
          -19.023509979248047,
          13.229439735412598,
          0.5035068392753601,
          3.8877835273742676,
          17.369163513183594,
          -11.82264232635498,
          11.723398208618164,
          -16.468393325805664,
          -8.599236488342285,
          -19.743614196777344,
          -19.564603805541992,
          2.0321788787841797,
          -4.01886510848999,
          -8.010109901428223,
          -13.777177810668945,
          13.678112030029297,
          -4.1349263191223145,
          18.158660888671875,
          0.1418805867433548,
          13.311861991882324,
          12.903338432312012,
          25.18453025817871,
          25.18453025817871,
          11.794025421142578,
          -21.82950210571289,
          7.363884449005127,
          -3.788684844970703,
          -13.177099227905273,
          24.080276489257812,
          1.9696969985961914,
          -1.4511969089508057,
          -24.503158569335938,
          -24.503158569335938,
          -2.831482410430908,
          15.272150993347168,
          3.3001513481140137,
          1.711671233177185,
          0.10995811969041824,
          -0.4576904773712158,
          0.7019267082214355,
          -14.003642082214355,
          -11.392363548278809,
          15.163551330566406,
          -5.842259407043457,
          -9.348628997802734,
          6.603964805603027,
          -13.936647415161133,
          -12.442691802978516,
          -1.6534730195999146,
          8.974823951721191,
          21.084396362304688,
          -6.383520126342773,
          -8.471749305725098,
          11.242131233215332,
          23.6395263671875,
          2.167494535446167,
          2.5894389152526855,
          1.814117670059204,
          -10.672713279724121,
          15.680031776428223,
          6.600607395172119,
          16.13259506225586,
          6.452051639556885,
          10.339354515075684,
          5.510697841644287,
          5.5070881843566895,
          -4.361845016479492,
          -14.082411766052246,
          9.614968299865723,
          15.362615585327148,
          -6.058335304260254,
          2.555417537689209,
          -0.24569416046142578,
          7.942651748657227,
          -7.1306915283203125,
          -8.012181282043457,
          -7.836330890655518,
          6.956916809082031,
          -2.1578962802886963,
          16.957304000854492,
          25.05474281311035,
          -2.72578763961792,
          14.266153335571289,
          14.248783111572266,
          14.993645668029785,
          -17.805736541748047,
          -0.11582636088132858,
          0.3529547154903412,
          1.7315019369125366,
          10.985893249511719,
          -10.823765754699707,
          -7.017452239990234,
          -4.996326446533203,
          14.653532028198242,
          14.653532028198242,
          -5.665400505065918,
          -9.91617488861084,
          -15.029680252075195,
          -5.875791072845459,
          3.8195645809173584,
          -2.712949752807617,
          -9.671146392822266,
          7.060916900634766,
          7.060916900634766,
          10.972630500793457,
          -12.428863525390625,
          14.217033386230469,
          -17.7023983001709,
          -17.7023983001709,
          -16.07469367980957,
          21.984031677246094,
          8.239419937133789,
          -22.08339500427246,
          -22.08339500427246,
          5.4396820068359375,
          7.108423709869385,
          -4.051449775695801,
          -7.0694684982299805,
          10.678194046020508,
          -6.378644943237305,
          -13.66871166229248,
          -20.177284240722656,
          -15.191082954406738,
          13.115065574645996
         ],
         "xaxis": "x",
         "y": [
          10.498332023620605,
          -6.647597789764404,
          2.0429205894470215,
          11.402979850769043,
          5.457128047943115,
          -8.277071952819824,
          0.1382131427526474,
          15.080270767211914,
          10.873514175415039,
          -7.86935567855835,
          4.827428340911865,
          -3.8972930908203125,
          12.709709167480469,
          -17.73988914489746,
          -18.970500946044922,
          4.612670421600342,
          4.612670421600342,
          -4.716675758361816,
          10.311721801757812,
          -5.6095805168151855,
          -5.316525936126709,
          -6.118352890014648,
          5.999736309051514,
          -5.748778820037842,
          -4.569913864135742,
          0.4412306249141693,
          -14.830838203430176,
          -9.728766441345215,
          -0.6028488278388977,
          2.4852914810180664,
          25.884145736694336,
          25.884145736694336,
          2.378720998764038,
          5.04110860824585,
          9.985479354858398,
          9.169283866882324,
          4.3070197105407715,
          -0.5098525285720825,
          -7.3027496337890625,
          -2.201754570007324,
          -10.734223365783691,
          -10.734223365783691,
          -7.922658443450928,
          -0.053445782512426376,
          10.137750625610352,
          -13.054801940917969,
          -4.496572971343994,
          -4.57590913772583,
          -5.9096760749816895,
          -24.07081413269043,
          -24.07081413269043,
          4.858743190765381,
          -16.43045997619629,
          16.066802978515625,
          17.662269592285156,
          16.642911911010742,
          -14.404622077941895,
          7.022275447845459,
          -16.547882080078125,
          -22.15212059020996,
          -4.9582648277282715,
          -5.612090587615967,
          -11.182497024536133,
          -1.509242296218872,
          -12.710026741027832,
          -1.5796540975570679,
          -10.34978199005127,
          1.0759207010269165,
          -2.611569404602051,
          1.4044984579086304,
          8.674777030944824,
          10.458548545837402,
          14.510870933532715,
          14.51134204864502,
          8.566717147827148,
          -16.34328269958496,
          -15.087890625,
          16.96735954284668,
          -9.948765754699707,
          21.13884162902832,
          -17.01445198059082,
          -17.10063362121582,
          -16.82246971130371,
          -3.581937074661255,
          -3.4602890014648438,
          -5.883274078369141,
          6.776773452758789,
          -8.384771347045898,
          -8.385210037231445,
          21.645883560180664,
          -7.310353755950928,
          -7.243226051330566,
          6.623308181762695,
          1.9835686683654785,
          19.326791763305664,
          11.258962631225586,
          -6.469728946685791,
          -10.086902618408203,
          -12.19656753540039,
          -5.217748165130615,
          16.331920623779297,
          -6.982967853546143,
          -6.111778736114502,
          17.197402954101562,
          -17.100595474243164,
          -7.437717437744141,
          14.34617805480957,
          3.7976322174072266,
          2.046823263168335,
          -14.16069221496582,
          -16.901432037353516,
          -16.901432037353516,
          -26.75726318359375,
          -26.75726318359375,
          4.5140485763549805,
          9.344551086425781,
          -6.9690046310424805,
          -19.858179092407227,
          21.355348587036133,
          1.9109104871749878,
          -10.172735214233398,
          -10.172735214233398,
          14.483835220336914,
          1.2336474657058716,
          -20.989376068115234,
          -1.247571349143982,
          3.787832736968994,
          16.620288848876953,
          11.616676330566406,
          12.287034034729004,
          19.34250831604004,
          -14.399405479431152,
          -0.26803040504455566,
          -11.363645553588867,
          -5.968116283416748,
          -9.944881439208984,
          -9.454079627990723,
          -18.416561126708984,
          -9.514156341552734,
          2.7463648319244385,
          -4.51099967956543,
          1.2057507038116455,
          -0.3425600528717041,
          0.22995077073574066,
          0.5535769462585449,
          6.999757766723633,
          19.06208610534668,
          19.06208610534668,
          -3.481644630432129,
          -11.78085708618164,
          2.7377207279205322,
          3.2045180797576904,
          4.7239909172058105,
          -8.584879875183105,
          -8.584918022155762,
          -18.16544532775879,
          3.764374256134033,
          8.92148208618164,
          11.984424591064453,
          8.830911636352539,
          20.861841201782227,
          10.873308181762695,
          10.983550071716309,
          3.9254510402679443,
          -1.3807538747787476,
          20.98392677307129,
          -1.635621190071106,
          18.37161636352539,
          18.864988327026367,
          -13.893738746643066,
          -1.1583019495010376,
          -9.999165534973145,
          -9.622885704040527,
          -10.288407325744629,
          2.3794875144958496,
          18.50644302368164,
          -0.7545849084854126,
          15.57015609741211,
          10.613274574279785,
          -3.0341637134552,
          -4.925518989562988,
          -22.346668243408203,
          -22.34674835205078,
          -2.8345932960510254,
          -12.339253425598145,
          5.004576206207275,
          0.19329309463500977,
          2.1752278804779053,
          2.1813530921936035,
          -5.564636707305908,
          13.62258529663086,
          -2.2650721073150635,
          -5.222225666046143,
          5.88995361328125,
          13.987545013427734,
          -12.78196907043457,
          5.8709397315979,
          -8.743945121765137,
          -21.702646255493164,
          15.25754451751709,
          11.692400932312012,
          13.446322441101074,
          13.208601951599121,
          -23.011272430419922,
          -23.011272430419922,
          0.6348552703857422,
          -11.843926429748535,
          16.465423583984375,
          -5.522374153137207,
          -18.4766845703125,
          14.586723327636719,
          -0.7201099395751953,
          1.2723243236541748,
          -5.312061786651611,
          8.223645210266113,
          -1.5993373394012451,
          -10.861162185668945,
          16.997615814208984,
          7.880934715270996,
          1.9873144626617432,
          20.15623664855957,
          20.998743057250977,
          -8.477472305297852,
          0.07735423743724823,
          -18.15726089477539,
          11.722879409790039,
          6.328114032745361,
          -15.631133079528809,
          -20.244155883789062,
          -12.484231948852539,
          12.660181045532227,
          9.960660934448242,
          5.6064019203186035,
          12.86937427520752,
          1.3692975044250488,
          -6.1041083335876465,
          20.24033546447754,
          -9.369044303894043,
          5.692931652069092,
          5.77302360534668,
          -6.881723880767822,
          -14.273048400878906,
          -21.696495056152344,
          -21.696495056152344,
          5.259513854980469,
          -0.21728447079658508,
          -2.0902793407440186,
          3.5446996688842773,
          -16.68428611755371,
          14.906919479370117,
          6.20745325088501,
          18.740585327148438,
          -5.895511627197266,
          -11.892067909240723,
          -11.892083168029785,
          -14.344844818115234,
          -2.7514774799346924,
          -4.887427806854248,
          13.693639755249023,
          5.83953857421875,
          4.649576187133789,
          -15.303634643554688,
          -11.116856575012207,
          12.810630798339844,
          9.263115882873535,
          13.280293464660645,
          -26.34686851501465,
          -26.34686851501465,
          4.839485168457031,
          16.05492401123047,
          4.2649712562561035,
          3.496029853820801,
          -8.513598442077637,
          -19.590723037719727,
          -2.3979294300079346,
          2.586474895477295,
          9.922094345092773,
          5.00537109375,
          4.9963250160217285,
          -18.92162322998047,
          -22.815975189208984,
          -14.483749389648438,
          -15.7272367477417,
          2.5707967281341553,
          2.5707545280456543,
          -12.481194496154785,
          -15.010647773742676,
          15.494583129882812,
          12.16030216217041,
          -15.07150650024414,
          9.000871658325195,
          -16.659582138061523,
          19.773496627807617,
          19.72661590576172,
          -9.04235553741455,
          -11.652182579040527,
          -13.650368690490723,
          16.67400550842285,
          7.695108890533447,
          -8.960517883300781,
          1.2008254528045654,
          -8.382975578308105,
          -10.403657913208008,
          -0.6012644171714783,
          -0.8475942611694336,
          -19.369586944580078,
          -19.29548454284668,
          0.2964843809604645,
          8.422962188720703,
          -19.209819793701172,
          -10.369828224182129,
          -8.62972354888916,
          19.3223819732666,
          7.4074201583862305,
          19.387449264526367,
          9.553337097167969,
          -10.728487968444824,
          -10.728487968444824,
          -22.20294761657715,
          8.619980812072754,
          0.7345024943351746,
          20.112627029418945,
          -1.617119550704956,
          -6.1920695304870605,
          9.044535636901855,
          9.332271575927734,
          -14.146580696105957,
          -12.009330749511719,
          7.286911964416504,
          9.89041805267334,
          -6.003073692321777,
          -5.627302646636963,
          -2.0125629901885986,
          9.563318252563477,
          16.540088653564453,
          -12.308465957641602,
          22.649784088134766,
          5.557785987854004,
          7.279687881469727,
          16.798709869384766,
          -1.9556059837341309,
          17.480297088623047,
          11.26524829864502,
          8.974650382995605,
          -1.2788406610488892,
          -1.2788406610488892,
          -11.875677108764648,
          -13.324821472167969,
          15.006463050842285,
          3.0580265522003174,
          6.459151268005371,
          11.17313289642334,
          -15.524496078491211,
          -1.4702377319335938,
          2.993011236190796,
          7.410086631774902,
          2.8652796745300293,
          -8.626372337341309,
          17.389753341674805,
          9.884716987609863,
          7.034239292144775,
          -11.752452850341797,
          -15.605183601379395,
          11.64845085144043,
          16.166236877441406,
          -4.408014297485352,
          -4.407874584197998,
          3.4889585971832275,
          -3.384042739868164,
          -6.089081287384033,
          -13.517502784729004,
          10.115311622619629,
          13.373960494995117,
          8.775425910949707,
          3.7296178340911865,
          -11.961597442626953,
          0.6184327006340027,
          2.634003162384033,
          1.9593087434768677,
          10.687389373779297,
          10.567362785339355,
          13.643476486206055,
          -5.342253684997559,
          -5.342253684997559,
          13.216574668884277,
          -3.025662660598755,
          2.4422073364257812,
          -10.46017074584961,
          -15.549187660217285,
          -15.549111366271973,
          -2.405308961868286,
          -0.9095151424407959,
          -7.267162322998047,
          6.880988121032715,
          -13.175993919372559,
          -13.175993919372559,
          12.46533203125,
          17.77593994140625,
          -3.615025043487549,
          12.470285415649414,
          -1.8712677955627441,
          10.109034538269043,
          3.13158917427063,
          -8.564839363098145,
          4.950674533843994,
          -29.912418365478516,
          -29.912418365478516,
          -3.9609317779541016,
          2.329296827316284,
          15.76048755645752,
          -0.1645546406507492,
          -12.52409553527832,
          7.504266262054443,
          -7.517508506774902,
          -2.7605268955230713,
          -3.4428117275238037,
          -21.00048828125,
          17.609853744506836,
          15.784390449523926,
          -3.4170596599578857,
          -1.2106975317001343,
          -1.21061110496521,
          8.073583602905273,
          11.09794807434082,
          -0.3152308762073517,
          2.0424633026123047,
          0.23881149291992188,
          0.23886843025684357,
          -15.828751564025879,
          -15.828795433044434,
          -6.047553062438965,
          -6.047468662261963,
          -10.490368843078613,
          6.424064636230469,
          0.4802483916282654,
          -13.600641250610352,
          -12.951443672180176,
          3.038331985473633,
          -10.653848648071289,
          -16.12930679321289,
          1.9457913637161255,
          2.8258213996887207,
          -17.491151809692383,
          -19.926847457885742,
          -19.926847457885742,
          -7.195603847503662,
          20.38290786743164,
          -23.655115127563477,
          13.752452850341797,
          -3.4910686016082764,
          -0.743579626083374,
          -13.827345848083496,
          6.622238636016846,
          -9.625399589538574,
          -9.624772071838379,
          2.8389978408813477,
          4.833805084228516,
          11.068317413330078,
          0.43768149614334106,
          13.801444053649902,
          -18.027301788330078,
          -7.724245548248291,
          -16.095726013183594,
          12.77080249786377,
          -20.38735580444336,
          -8.370965957641602,
          1.9008643627166748,
          -10.11241626739502,
          -3.7342522144317627,
          2.763587236404419,
          4.830018520355225,
          -6.6090497970581055,
          10.000422477722168,
          13.750370025634766,
          6.719280242919922,
          -7.637928009033203,
          -21.995573043823242,
          15.48799991607666,
          -2.1550350189208984,
          0.17113299667835236,
          -14.218595504760742,
          6.83593225479126,
          4.8849897384643555,
          11.04744815826416,
          4.122898101806641,
          0.9036164879798889,
          5.731431484222412,
          15.362488746643066,
          1.9235955476760864,
          -17.54975128173828,
          -11.615731239318848,
          -15.432915687561035,
          11.974905014038086,
          7.326521873474121,
          -0.8050935864448547,
          -5.379110813140869,
          -5.379110813140869,
          -7.288181304931641,
          -11.116697311401367,
          6.653704643249512,
          -7.992524147033691,
          2.5860347747802734,
          -6.52835750579834,
          -3.858614683151245,
          14.241803169250488,
          -6.030640125274658,
          -6.030640125274658,
          21.73334312438965,
          -9.51164722442627,
          10.169914245605469,
          7.667770862579346,
          -7.931183338165283,
          12.772639274597168,
          18.408781051635742,
          6.593512058258057,
          15.393295288085938,
          9.343029975891113,
          4.17997932434082,
          4.122773170471191,
          -16.821813583374023,
          -0.33613070845603943,
          9.715004920959473,
          -12.097498893737793,
          8.955659866333008,
          -11.871416091918945,
          1.1257400512695312,
          -3.2642245292663574,
          -4.771033763885498,
          -4.909961700439453,
          2.7979929447174072,
          4.80547571182251,
          -1.476488709449768,
          7.772783279418945,
          -15.640973091125488,
          12.296612739562988,
          8.499776840209961,
          8.737688064575195,
          -2.514920473098755,
          -13.873490333557129,
          -13.867809295654297,
          -1.3044073581695557,
          -4.67805290222168,
          7.150296688079834,
          2.3506319522857666,
          -11.28194808959961,
          20.033077239990234,
          -19.378868103027344,
          8.364450454711914,
          -4.38600492477417,
          1.3267977237701416,
          -6.458306312561035,
          14.714116096496582,
          -16.096435546875,
          7.097012519836426,
          -3.703007221221924,
          2.303218364715576,
          0.7051811814308167,
          0.6932080388069153,
          -13.263988494873047,
          -9.047289848327637,
          5.5879807472229,
          5.649406433105469,
          -7.048886299133301,
          -17.36998176574707,
          -9.933191299438477,
          -9.017304420471191,
          -8.074371337890625,
          19.287609100341797,
          19.287609100341797,
          16.521404266357422,
          -11.381110191345215,
          11.758281707763672,
          7.640100002288818,
          -21.370912551879883,
          0.7283772826194763,
          -5.192910194396973,
          -25.801246643066406,
          -25.801246643066406,
          2.6905126571655273,
          -10.339035987854004,
          -15.83405876159668,
          -6.778181552886963,
          -6.778181552886963,
          -21.52024269104004,
          -2.273369550704956,
          -7.002045154571533,
          -12.294185638427734,
          -12.294185638427734,
          -3.332280158996582,
          -10.949528694152832,
          14.609705924987793,
          -12.899526596069336,
          -8.618167877197266,
          22.61898422241211,
          -10.034832000732422,
          -2.3588709831237793,
          -8.795223236083984,
          16.87917709350586
         ],
         "yaxis": "y"
        }
       ],
       "layout": {
        "coloraxis": {
         "colorbar": {
          "title": {
           "text": "cluster"
          }
         },
         "colorscale": [
          [
           0,
           "#0d0887"
          ],
          [
           0.1111111111111111,
           "#46039f"
          ],
          [
           0.2222222222222222,
           "#7201a8"
          ],
          [
           0.3333333333333333,
           "#9c179e"
          ],
          [
           0.4444444444444444,
           "#bd3786"
          ],
          [
           0.5555555555555556,
           "#d8576b"
          ],
          [
           0.6666666666666666,
           "#ed7953"
          ],
          [
           0.7777777777777778,
           "#fb9f3a"
          ],
          [
           0.8888888888888888,
           "#fdca26"
          ],
          [
           1,
           "#f0f921"
          ]
         ]
        },
        "legend": {
         "tracegroupgap": 0
        },
        "template": {
         "data": {
          "bar": [
           {
            "error_x": {
             "color": "#2a3f5f"
            },
            "error_y": {
             "color": "#2a3f5f"
            },
            "marker": {
             "line": {
              "color": "#E5ECF6",
              "width": 0.5
             },
             "pattern": {
              "fillmode": "overlay",
              "size": 10,
              "solidity": 0.2
             }
            },
            "type": "bar"
           }
          ],
          "barpolar": [
           {
            "marker": {
             "line": {
              "color": "#E5ECF6",
              "width": 0.5
             },
             "pattern": {
              "fillmode": "overlay",
              "size": 10,
              "solidity": 0.2
             }
            },
            "type": "barpolar"
           }
          ],
          "carpet": [
           {
            "aaxis": {
             "endlinecolor": "#2a3f5f",
             "gridcolor": "white",
             "linecolor": "white",
             "minorgridcolor": "white",
             "startlinecolor": "#2a3f5f"
            },
            "baxis": {
             "endlinecolor": "#2a3f5f",
             "gridcolor": "white",
             "linecolor": "white",
             "minorgridcolor": "white",
             "startlinecolor": "#2a3f5f"
            },
            "type": "carpet"
           }
          ],
          "choropleth": [
           {
            "colorbar": {
             "outlinewidth": 0,
             "ticks": ""
            },
            "type": "choropleth"
           }
          ],
          "contour": [
           {
            "colorbar": {
             "outlinewidth": 0,
             "ticks": ""
            },
            "colorscale": [
             [
              0,
              "#0d0887"
             ],
             [
              0.1111111111111111,
              "#46039f"
             ],
             [
              0.2222222222222222,
              "#7201a8"
             ],
             [
              0.3333333333333333,
              "#9c179e"
             ],
             [
              0.4444444444444444,
              "#bd3786"
             ],
             [
              0.5555555555555556,
              "#d8576b"
             ],
             [
              0.6666666666666666,
              "#ed7953"
             ],
             [
              0.7777777777777778,
              "#fb9f3a"
             ],
             [
              0.8888888888888888,
              "#fdca26"
             ],
             [
              1,
              "#f0f921"
             ]
            ],
            "type": "contour"
           }
          ],
          "contourcarpet": [
           {
            "colorbar": {
             "outlinewidth": 0,
             "ticks": ""
            },
            "type": "contourcarpet"
           }
          ],
          "heatmap": [
           {
            "colorbar": {
             "outlinewidth": 0,
             "ticks": ""
            },
            "colorscale": [
             [
              0,
              "#0d0887"
             ],
             [
              0.1111111111111111,
              "#46039f"
             ],
             [
              0.2222222222222222,
              "#7201a8"
             ],
             [
              0.3333333333333333,
              "#9c179e"
             ],
             [
              0.4444444444444444,
              "#bd3786"
             ],
             [
              0.5555555555555556,
              "#d8576b"
             ],
             [
              0.6666666666666666,
              "#ed7953"
             ],
             [
              0.7777777777777778,
              "#fb9f3a"
             ],
             [
              0.8888888888888888,
              "#fdca26"
             ],
             [
              1,
              "#f0f921"
             ]
            ],
            "type": "heatmap"
           }
          ],
          "heatmapgl": [
           {
            "colorbar": {
             "outlinewidth": 0,
             "ticks": ""
            },
            "colorscale": [
             [
              0,
              "#0d0887"
             ],
             [
              0.1111111111111111,
              "#46039f"
             ],
             [
              0.2222222222222222,
              "#7201a8"
             ],
             [
              0.3333333333333333,
              "#9c179e"
             ],
             [
              0.4444444444444444,
              "#bd3786"
             ],
             [
              0.5555555555555556,
              "#d8576b"
             ],
             [
              0.6666666666666666,
              "#ed7953"
             ],
             [
              0.7777777777777778,
              "#fb9f3a"
             ],
             [
              0.8888888888888888,
              "#fdca26"
             ],
             [
              1,
              "#f0f921"
             ]
            ],
            "type": "heatmapgl"
           }
          ],
          "histogram": [
           {
            "marker": {
             "pattern": {
              "fillmode": "overlay",
              "size": 10,
              "solidity": 0.2
             }
            },
            "type": "histogram"
           }
          ],
          "histogram2d": [
           {
            "colorbar": {
             "outlinewidth": 0,
             "ticks": ""
            },
            "colorscale": [
             [
              0,
              "#0d0887"
             ],
             [
              0.1111111111111111,
              "#46039f"
             ],
             [
              0.2222222222222222,
              "#7201a8"
             ],
             [
              0.3333333333333333,
              "#9c179e"
             ],
             [
              0.4444444444444444,
              "#bd3786"
             ],
             [
              0.5555555555555556,
              "#d8576b"
             ],
             [
              0.6666666666666666,
              "#ed7953"
             ],
             [
              0.7777777777777778,
              "#fb9f3a"
             ],
             [
              0.8888888888888888,
              "#fdca26"
             ],
             [
              1,
              "#f0f921"
             ]
            ],
            "type": "histogram2d"
           }
          ],
          "histogram2dcontour": [
           {
            "colorbar": {
             "outlinewidth": 0,
             "ticks": ""
            },
            "colorscale": [
             [
              0,
              "#0d0887"
             ],
             [
              0.1111111111111111,
              "#46039f"
             ],
             [
              0.2222222222222222,
              "#7201a8"
             ],
             [
              0.3333333333333333,
              "#9c179e"
             ],
             [
              0.4444444444444444,
              "#bd3786"
             ],
             [
              0.5555555555555556,
              "#d8576b"
             ],
             [
              0.6666666666666666,
              "#ed7953"
             ],
             [
              0.7777777777777778,
              "#fb9f3a"
             ],
             [
              0.8888888888888888,
              "#fdca26"
             ],
             [
              1,
              "#f0f921"
             ]
            ],
            "type": "histogram2dcontour"
           }
          ],
          "mesh3d": [
           {
            "colorbar": {
             "outlinewidth": 0,
             "ticks": ""
            },
            "type": "mesh3d"
           }
          ],
          "parcoords": [
           {
            "line": {
             "colorbar": {
              "outlinewidth": 0,
              "ticks": ""
             }
            },
            "type": "parcoords"
           }
          ],
          "pie": [
           {
            "automargin": true,
            "type": "pie"
           }
          ],
          "scatter": [
           {
            "fillpattern": {
             "fillmode": "overlay",
             "size": 10,
             "solidity": 0.2
            },
            "type": "scatter"
           }
          ],
          "scatter3d": [
           {
            "line": {
             "colorbar": {
              "outlinewidth": 0,
              "ticks": ""
             }
            },
            "marker": {
             "colorbar": {
              "outlinewidth": 0,
              "ticks": ""
             }
            },
            "type": "scatter3d"
           }
          ],
          "scattercarpet": [
           {
            "marker": {
             "colorbar": {
              "outlinewidth": 0,
              "ticks": ""
             }
            },
            "type": "scattercarpet"
           }
          ],
          "scattergeo": [
           {
            "marker": {
             "colorbar": {
              "outlinewidth": 0,
              "ticks": ""
             }
            },
            "type": "scattergeo"
           }
          ],
          "scattergl": [
           {
            "marker": {
             "colorbar": {
              "outlinewidth": 0,
              "ticks": ""
             }
            },
            "type": "scattergl"
           }
          ],
          "scattermapbox": [
           {
            "marker": {
             "colorbar": {
              "outlinewidth": 0,
              "ticks": ""
             }
            },
            "type": "scattermapbox"
           }
          ],
          "scatterpolar": [
           {
            "marker": {
             "colorbar": {
              "outlinewidth": 0,
              "ticks": ""
             }
            },
            "type": "scatterpolar"
           }
          ],
          "scatterpolargl": [
           {
            "marker": {
             "colorbar": {
              "outlinewidth": 0,
              "ticks": ""
             }
            },
            "type": "scatterpolargl"
           }
          ],
          "scatterternary": [
           {
            "marker": {
             "colorbar": {
              "outlinewidth": 0,
              "ticks": ""
             }
            },
            "type": "scatterternary"
           }
          ],
          "surface": [
           {
            "colorbar": {
             "outlinewidth": 0,
             "ticks": ""
            },
            "colorscale": [
             [
              0,
              "#0d0887"
             ],
             [
              0.1111111111111111,
              "#46039f"
             ],
             [
              0.2222222222222222,
              "#7201a8"
             ],
             [
              0.3333333333333333,
              "#9c179e"
             ],
             [
              0.4444444444444444,
              "#bd3786"
             ],
             [
              0.5555555555555556,
              "#d8576b"
             ],
             [
              0.6666666666666666,
              "#ed7953"
             ],
             [
              0.7777777777777778,
              "#fb9f3a"
             ],
             [
              0.8888888888888888,
              "#fdca26"
             ],
             [
              1,
              "#f0f921"
             ]
            ],
            "type": "surface"
           }
          ],
          "table": [
           {
            "cells": {
             "fill": {
              "color": "#EBF0F8"
             },
             "line": {
              "color": "white"
             }
            },
            "header": {
             "fill": {
              "color": "#C8D4E3"
             },
             "line": {
              "color": "white"
             }
            },
            "type": "table"
           }
          ]
         },
         "layout": {
          "annotationdefaults": {
           "arrowcolor": "#2a3f5f",
           "arrowhead": 0,
           "arrowwidth": 1
          },
          "autotypenumbers": "strict",
          "coloraxis": {
           "colorbar": {
            "outlinewidth": 0,
            "ticks": ""
           }
          },
          "colorscale": {
           "diverging": [
            [
             0,
             "#8e0152"
            ],
            [
             0.1,
             "#c51b7d"
            ],
            [
             0.2,
             "#de77ae"
            ],
            [
             0.3,
             "#f1b6da"
            ],
            [
             0.4,
             "#fde0ef"
            ],
            [
             0.5,
             "#f7f7f7"
            ],
            [
             0.6,
             "#e6f5d0"
            ],
            [
             0.7,
             "#b8e186"
            ],
            [
             0.8,
             "#7fbc41"
            ],
            [
             0.9,
             "#4d9221"
            ],
            [
             1,
             "#276419"
            ]
           ],
           "sequential": [
            [
             0,
             "#0d0887"
            ],
            [
             0.1111111111111111,
             "#46039f"
            ],
            [
             0.2222222222222222,
             "#7201a8"
            ],
            [
             0.3333333333333333,
             "#9c179e"
            ],
            [
             0.4444444444444444,
             "#bd3786"
            ],
            [
             0.5555555555555556,
             "#d8576b"
            ],
            [
             0.6666666666666666,
             "#ed7953"
            ],
            [
             0.7777777777777778,
             "#fb9f3a"
            ],
            [
             0.8888888888888888,
             "#fdca26"
            ],
            [
             1,
             "#f0f921"
            ]
           ],
           "sequentialminus": [
            [
             0,
             "#0d0887"
            ],
            [
             0.1111111111111111,
             "#46039f"
            ],
            [
             0.2222222222222222,
             "#7201a8"
            ],
            [
             0.3333333333333333,
             "#9c179e"
            ],
            [
             0.4444444444444444,
             "#bd3786"
            ],
            [
             0.5555555555555556,
             "#d8576b"
            ],
            [
             0.6666666666666666,
             "#ed7953"
            ],
            [
             0.7777777777777778,
             "#fb9f3a"
            ],
            [
             0.8888888888888888,
             "#fdca26"
            ],
            [
             1,
             "#f0f921"
            ]
           ]
          },
          "colorway": [
           "#636efa",
           "#EF553B",
           "#00cc96",
           "#ab63fa",
           "#FFA15A",
           "#19d3f3",
           "#FF6692",
           "#B6E880",
           "#FF97FF",
           "#FECB52"
          ],
          "font": {
           "color": "#2a3f5f"
          },
          "geo": {
           "bgcolor": "white",
           "lakecolor": "white",
           "landcolor": "#E5ECF6",
           "showlakes": true,
           "showland": true,
           "subunitcolor": "white"
          },
          "hoverlabel": {
           "align": "left"
          },
          "hovermode": "closest",
          "mapbox": {
           "style": "light"
          },
          "paper_bgcolor": "white",
          "plot_bgcolor": "#E5ECF6",
          "polar": {
           "angularaxis": {
            "gridcolor": "white",
            "linecolor": "white",
            "ticks": ""
           },
           "bgcolor": "#E5ECF6",
           "radialaxis": {
            "gridcolor": "white",
            "linecolor": "white",
            "ticks": ""
           }
          },
          "scene": {
           "xaxis": {
            "backgroundcolor": "#E5ECF6",
            "gridcolor": "white",
            "gridwidth": 2,
            "linecolor": "white",
            "showbackground": true,
            "ticks": "",
            "zerolinecolor": "white"
           },
           "yaxis": {
            "backgroundcolor": "#E5ECF6",
            "gridcolor": "white",
            "gridwidth": 2,
            "linecolor": "white",
            "showbackground": true,
            "ticks": "",
            "zerolinecolor": "white"
           },
           "zaxis": {
            "backgroundcolor": "#E5ECF6",
            "gridcolor": "white",
            "gridwidth": 2,
            "linecolor": "white",
            "showbackground": true,
            "ticks": "",
            "zerolinecolor": "white"
           }
          },
          "shapedefaults": {
           "line": {
            "color": "#2a3f5f"
           }
          },
          "ternary": {
           "aaxis": {
            "gridcolor": "white",
            "linecolor": "white",
            "ticks": ""
           },
           "baxis": {
            "gridcolor": "white",
            "linecolor": "white",
            "ticks": ""
           },
           "bgcolor": "#E5ECF6",
           "caxis": {
            "gridcolor": "white",
            "linecolor": "white",
            "ticks": ""
           }
          },
          "title": {
           "x": 0.05
          },
          "xaxis": {
           "automargin": true,
           "gridcolor": "white",
           "linecolor": "white",
           "ticks": "",
           "title": {
            "standoff": 15
           },
           "zerolinecolor": "white",
           "zerolinewidth": 2
          },
          "yaxis": {
           "automargin": true,
           "gridcolor": "white",
           "linecolor": "white",
           "ticks": "",
           "title": {
            "standoff": 15
           },
           "zerolinecolor": "white",
           "zerolinewidth": 2
          }
         }
        },
        "title": {
         "text": "HDBSCAN"
        },
        "xaxis": {
         "anchor": "y",
         "domain": [
          0,
          1
         ],
         "title": {
          "text": "x"
         }
        },
        "yaxis": {
         "anchor": "x",
         "domain": [
          0,
          1
         ],
         "title": {
          "text": "y"
         }
        }
       }
      }
     },
     "metadata": {},
     "output_type": "display_data"
    }
   ],
   "source": [
    "import hdbscan\n",
    "\n",
    "clusterer = hdbscan.HDBSCAN(min_cluster_size=5)\n",
    "df_tsne['cluster'] = clusterer.fit_predict(X_embedded)\n",
    "\n",
    "fig = px.scatter(df_tsne, x='x', y='y', color='cluster', hover_data=['text'], title='HDBSCAN')\n",
    "fig.show()\n"
   ]
  },
  {
   "cell_type": "markdown",
   "metadata": {},
   "source": [
    "ORYGINALNE ETYKIETY"
   ]
  },
  {
   "cell_type": "code",
   "execution_count": 88,
   "metadata": {},
   "outputs": [],
   "source": [
    "from datasets import load_dataset"
   ]
  },
  {
   "cell_type": "code",
   "execution_count": 89,
   "metadata": {},
   "outputs": [],
   "source": [
    "dataset = load_dataset(\"poleval/poleval2019_cyberbullying\", 'task02', trust_remote_code=True)"
   ]
  },
  {
   "cell_type": "code",
   "execution_count": 90,
   "metadata": {},
   "outputs": [
    {
     "data": {
      "text/html": [
       "<div>\n",
       "<style scoped>\n",
       "    .dataframe tbody tr th:only-of-type {\n",
       "        vertical-align: middle;\n",
       "    }\n",
       "\n",
       "    .dataframe tbody tr th {\n",
       "        vertical-align: top;\n",
       "    }\n",
       "\n",
       "    .dataframe thead th {\n",
       "        text-align: right;\n",
       "    }\n",
       "</style>\n",
       "<table border=\"1\" class=\"dataframe\">\n",
       "  <thead>\n",
       "    <tr style=\"text-align: right;\">\n",
       "      <th></th>\n",
       "      <th>text</th>\n",
       "      <th>label</th>\n",
       "    </tr>\n",
       "  </thead>\n",
       "  <tbody>\n",
       "    <tr>\n",
       "      <th>0</th>\n",
       "      <td>Dla mnie faworytem do tytułu będzie Cracovia. ...</td>\n",
       "      <td>0</td>\n",
       "    </tr>\n",
       "    <tr>\n",
       "      <th>1</th>\n",
       "      <td>@anonymized_account @anonymized_account Brawo ...</td>\n",
       "      <td>0</td>\n",
       "    </tr>\n",
       "    <tr>\n",
       "      <th>2</th>\n",
       "      <td>@anonymized_account @anonymized_account Super,...</td>\n",
       "      <td>0</td>\n",
       "    </tr>\n",
       "    <tr>\n",
       "      <th>3</th>\n",
       "      <td>@anonymized_account @anonymized_account Musi. ...</td>\n",
       "      <td>0</td>\n",
       "    </tr>\n",
       "    <tr>\n",
       "      <th>4</th>\n",
       "      <td>Odrzut natychmiastowy, kwaśna mina, mam problem</td>\n",
       "      <td>0</td>\n",
       "    </tr>\n",
       "    <tr>\n",
       "      <th>...</th>\n",
       "      <td>...</td>\n",
       "      <td>...</td>\n",
       "    </tr>\n",
       "    <tr>\n",
       "      <th>593</th>\n",
       "      <td>@anonymized_account Niby sami świnie, a nic ni...</td>\n",
       "      <td>0</td>\n",
       "    </tr>\n",
       "    <tr>\n",
       "      <th>594</th>\n",
       "      <td>@anonymized_account Ale co to ma do Mystka?</td>\n",
       "      <td>0</td>\n",
       "    </tr>\n",
       "    <tr>\n",
       "      <th>595</th>\n",
       "      <td>@anonymized_account Serio chcecie cichego stad...</td>\n",
       "      <td>0</td>\n",
       "    </tr>\n",
       "    <tr>\n",
       "      <th>596</th>\n",
       "      <td>Co to miało być? 😂</td>\n",
       "      <td>0</td>\n",
       "    </tr>\n",
       "    <tr>\n",
       "      <th>597</th>\n",
       "      <td>@anonymized_account tego się niespodziewałem p...</td>\n",
       "      <td>0</td>\n",
       "    </tr>\n",
       "  </tbody>\n",
       "</table>\n",
       "<p>598 rows × 2 columns</p>\n",
       "</div>"
      ],
      "text/plain": [
       "                                                  text  label\n",
       "0    Dla mnie faworytem do tytułu będzie Cracovia. ...      0\n",
       "1    @anonymized_account @anonymized_account Brawo ...      0\n",
       "2    @anonymized_account @anonymized_account Super,...      0\n",
       "3    @anonymized_account @anonymized_account Musi. ...      0\n",
       "4      Odrzut natychmiastowy, kwaśna mina, mam problem      0\n",
       "..                                                 ...    ...\n",
       "593  @anonymized_account Niby sami świnie, a nic ni...      0\n",
       "594        @anonymized_account Ale co to ma do Mystka?      0\n",
       "595  @anonymized_account Serio chcecie cichego stad...      0\n",
       "596                                 Co to miało być? 😂      0\n",
       "597  @anonymized_account tego się niespodziewałem p...      0\n",
       "\n",
       "[598 rows x 2 columns]"
      ]
     },
     "execution_count": 90,
     "metadata": {},
     "output_type": "execute_result"
    }
   ],
   "source": [
    "df_original = pd.DataFrame(dataset['train'])[:][:598]\n",
    "df_original"
   ]
  },
  {
   "cell_type": "code",
   "execution_count": 91,
   "metadata": {},
   "outputs": [
    {
     "data": {
      "application/vnd.plotly.v1+json": {
       "config": {
        "plotlyServerURL": "https://plot.ly"
       },
       "data": [
        {
         "customdata": [
          [
           "Dla mnie faworytem do tytułu będzie Cracovia. Zobaczymy, czy typ się sprawdzi."
          ],
          [
           "@anonymized_account @anonymized_account Brawo ty Daria kibic ma być na dobre i złe"
          ],
          [
           "@anonymized_account @anonymized_account Super, polski premier składa kwiaty na grobach kolaborantów. Ale doczekaliśmy czasów."
          ],
          [
           "@anonymized_account @anonymized_account Musi. Innej drogi nie mamy."
          ],
          [
           "Odrzut natychmiastowy, kwaśna mina, mam problem"
          ],
          [
           "Jaki on był fajny xdd pamiętam, że spóźniłam się na jego pierwsze zajęcia i to sporo i za karę kazał mi usiąść w pierwszej ławce XD"
          ],
          [
           "@anonymized_account No nie ma u nas szczęścia 😉"
          ],
          [
           "@anonymized_account Dawno kogoś tak wrednego nie widziałam xd"
          ],
          [
           "@anonymized_account @anonymized_account Zaległości były, ale ważne czy były wezwania do zapłaty z których się klub nie wywiązał."
          ],
          [
           "@anonymized_account @anonymized_account @anonymized_account Gdzie jest @anonymized_account . Brudziński jesteś kłamcą i marnym kutasem @anonymized_account"
          ],
          [
           "@anonymized_account @anonymized_account  no mam nadzieje !!:)"
          ],
          [
           "@anonymized_account @anonymized_account Może gustował w starszych paniach ;-)"
          ],
          [
           "@anonymized_account Zostawiłam tam 3 lata temu \\\"Notatki na mankietach\\\". Muszę się wrócić."
          ],
          [
           "@anonymized_account Oprawa do Krzysia M. Ps Pinokio -\\n\\\" mogłeś być gangsterem a zostałeś 3 ligowym frajerem \\\"😀"
          ],
          [
           "@anonymized_account @anonymized_account Znowu będzie komunikat o polskich piratach drogowych w Słowacji."
          ],
          [
           "@anonymized_account Mówi człowiek, który chciał nałożyć sankcje na Polskę. Gratulacje. #Niepodlegla #11lisopada"
          ],
          [
           "RT @anonymized_account @anonymized_account Mówi człowiek, który chciał nałożyć sankcje na Polskę. Gratulacje. #Niepodlegla #11lisopada"
          ],
          [
           "@anonymized_account @anonymized_account o jakim zachowaniu \\\"fer\\\" mówisz skoro ukrywał się z tym że podpisał kontrakt z Legią ? Możesz rozwinąć ?"
          ],
          [
           "@anonymized_account @anonymized_account Joanno! Po raz pierwszy się z panią zgadzam.😁😁😁😁😁"
          ],
          [
           "Monster block, monster block, monster block... 😁"
          ],
          [
           "@anonymized_account Czyżby Madryt brał przykład z Warszawy?"
          ],
          [
           "@anonymized_account @anonymized_account No to Skończmy kurwa z tym wersalem w j...ej szczujni"
          ],
          [
           "@anonymized_account Nie wiem, najczęściej grają na zmianę na prawym skrzydle."
          ],
          [
           "@anonymized_account No to Pan i koledzy macie z głowy. Przesrane tak reszta życia pod górkę."
          ],
          [
           "@anonymized_account A ja obstawiam, że pójdą bardziej w stronę tego, że może się powtórzyć sytuacja z Meresińskim."
          ],
          [
           "Aaaaa Kuba mi odpisał hehehehehe"
          ],
          [
           "Asysta Kacpra Falona i 3:1 dla Widzewa. Witamy Widzew w II lidze. No i w sumie fajnie."
          ],
          [
           "@anonymized_account gwizdali na niego ? Bo nie oglądałem meczu :)"
          ],
          [
           "@anonymized_account @anonymized_account ale może w końcu dojdzie do wniosku że skoro go klub już nie jara to lepiej go sprzedać i mieć po kłopocie"
          ],
          [
           "@anonymized_account @anonymized_account Hej halo, o czym to jest bo mam na swojej liście i nie wiem czy warto??"
          ],
          [
           "dorosłe życie nie jest dla mnie"
          ],
          [
           "RT @anonymized_account dorosłe życie nie jest dla mnie"
          ],
          [
           "@anonymized_account Cześć Paderewski, część opalające się nogi"
          ],
          [
           "@anonymized_account @anonymized_account @anonymized_account Uprowadź gumową kaczuszkę. Zacznie negocjować."
          ],
          [
           "@anonymized_account Już wiem ze się nie dogadamy XD"
          ],
          [
           "@anonymized_account Ale to w nowym przekładzie, jeszcze nie czytałam."
          ],
          [
           "@anonymized_account Lahoza mi nigdy nie szkoda. Wolę, jak na pierwszym planie są piłkarze, a nie sędzia :-)"
          ],
          [
           "@anonymized_account @anonymized_account Sprawdź chłopie w słowniku co oznacza słowo , którego używasz a potem się odzywaj."
          ],
          [
           "@anonymized_account zmieńcie se nazwe na profilu na insta bo się nazywacie Grzegorz Ożóg..."
          ],
          [
           "#Woronicza 17 poseł Halicki oburzony za Bolka.Naprawdè taki tępy czy tylko udaje idiotę?"
          ],
          [
           "„Ta aktorka ma 20 lat?!?! Jaka stara!!” \\n\\nChyba musimy się już do grobu pakować roczniku 98 😂👌🏻"
          ],
          [
           "RT @anonymized_account „Ta aktorka ma 20 lat?!?! Jaka stara!!” \\n\\nChyba musimy się już do grobu pakować roczniku 98 😂👌🏻"
          ],
          [
           "Ahnherr der Schtwätzer wykonawcy Von Spar\\nhttps://t.co/SOtenSqIr0"
          ],
          [
           "@anonymized_account @anonymized_account @anonymized_account Bierze cie cie pod chuj a ty sie produkujesz"
          ],
          [
           "@anonymized_account @anonymized_account @anonymized_account Jak narazie to masz przywidzenia co nie zmienia faktu że cały czas jesteś idiotą."
          ],
          [
           "@anonymized_account Kiedy do licznika dojdą bilety z fan clubow?"
          ],
          [
           "@anonymized_account A kto prowadzi zespół ? Będzie podany skład z tego meczu ?"
          ],
          [
           "@anonymized_account Główny powód to brak kasy, trzeba dać bogatym 500+,300+ i być bez godności i honoru"
          ],
          [
           "Zrobiłam takie Cv że ohohohoho"
          ],
          [
           "Świętować uchwalenie Konstytucji 3 maja i łamać Konstytucję RP obecnie obowiązującą?!\\n#3Maja - dzień hipokryzji."
          ],
          [
           "RT @anonymized_account Świętować uchwalenie Konstytucji 3 maja i łamać Konstytucję RP obecnie obowiązującą?!\\n#3Maja - dzień hipokryzji."
          ],
          [
           "@anonymized_account @anonymized_account nie gra bo jest Jovanović i Guilherme"
          ],
          [
           "@anonymized_account O tej godz. sporty szanuj ciało"
          ],
          [
           "Nikt nigdy nie rozsiewał takiego smrodu jak @anonymized_account"
          ],
          [
           "Nikt cię tak dobrze nie ubierze jak matka chrzestna dziecino"
          ],
          [
           "@anonymized_account @anonymized_account Nikt tutaj nie chce plagiaciarzy kopiujących brytyjskich pisarzy."
          ],
          [
           "@anonymized_account A ksiądz co bierze 12 tyś za spowiedź przez tel?"
          ],
          [
           "@anonymized_account Koń też ma dużą głowę. Tylko wydaje mi się, że jest bardziej inteligentny niż Karczewski"
          ],
          [
           "@anonymized_account Pod i górę  pod wiatr to więcej niż k2"
          ],
          [
           "@anonymized_account Sędziowie VAR nie decydują o karnych 😉"
          ],
          [
           "Jakiś program na TVN, nauka jazdy za kierownicą babcia śpiewa \\\"jadą jadą jadą świry jadą\\\" jadą jadą jadą świry jadą\\\""
          ],
          [
           "@anonymized_account ta obecna Zary Larsson czy Pitbulla z ostatnich MŚ nie były złe :)"
          ],
          [
           "(280 znaków w jednym zdaniu 🙈)"
          ],
          [
           "@anonymized_account po wahaniach wagi Kwacha wznoszę że to może być kapuścianka"
          ],
          [
           "@anonymized_account @anonymized_account w tym sezonie razem z pucharem 12 meczy i 1 gol.Mójta więcej strzelił.Sorry patrze w statystyki."
          ],
          [
           "@anonymized_account @anonymized_account @anonymized_account finały tblk były przyzwoicie sędziowane ?! Aha..."
          ],
          [
           "@anonymized_account Taki miałam właśnie, teraz kupiłam z catrice"
          ],
          [
           "@anonymized_account to ich wymień.W czym problem ?"
          ],
          [
           "@anonymized_account @anonymized_account @anonymized_account a ja mam ciepełko jak się przytule do swoich kotów :)"
          ],
          [
           "@anonymized_account Właśnie. Ilu! Najpierw odpowiedzmy sobie ma to pytanie,a potem dziwmy się zwycięstwu Zdanowskiej"
          ],
          [
           "@anonymized_account W jego przypadku statystyka przebiegniętych kilometrów nie ma znaczenia. Czy gra zajebiście, czy fatalnie, biega tyle samo."
          ],
          [
           "@anonymized_account @anonymized_account 100%, Mann też miał pełne prawo"
          ],
          [
           "@anonymized_account Kończyłeś już kilka razy 😂"
          ],
          [
           "@anonymized_account Dzisiaj zajmujemy się WARiatem Krystyną ciekawe czy będzie płakał?"
          ],
          [
           "@anonymized_account @anonymized_account @anonymized_account @anonymized_account A co będzie jak Kuba nigdy niewroci?"
          ],
          [
           "@anonymized_account Tym w sejmie też? Banda hipokrytów i złodziei."
          ],
          [
           "W każdej z czterech grup będzie walka o zwycięstwo premiowane awansem do CLJ. Bardzo potrzebne rozwiązanie, brawo."
          ],
          [
           "@anonymized_account Tak się poznałam z moim chłopakiem 😂 czasami warto"
          ],
          [
           "@anonymized_account nelly furtado a tytuł forco czy cos takiego"
          ],
          [
           "@anonymized_account Mów prawdę, kto was skrzywdził"
          ],
          [
           "@anonymized_account jestem tu od 2013 xd"
          ],
          [
           "@anonymized_account Ta kadra to rocznik 2002"
          ],
          [
           "Posiada sensor CGM , ciągły monitoring glikemii, w końcu."
          ],
          [
           "Jeszcze żaden Polak nie wystąpił w meczu gwiazd NBA, nie licząc Mietka Paciaciaka ;) Pomóżmy Marcinowi Gortatowi być 1 @anonymized_account #NBAVOTE"
          ],
          [
           "RT @anonymized_account Jeszcze żaden Polak nie wystąpił w meczu gwiazd NBA, nie licząc Mietka Paciaciaka ;) Pomóżmy Marcinowi Gortatowi być 1…"
          ],
          [
           "@anonymized_account No kurwa myślałem że na Podlasiu"
          ],
          [
           "@anonymized_account @anonymized_account Tak, to nawet lepsze rozwiązanie."
          ],
          [
           "@anonymized_account @anonymized_account Koń by się uśmiał, TVN24 i TVN wolne media? Bardziej perfidnego łgarstwa nie słyszałem.. 🤔"
          ],
          [
           "RT @anonymized_account @anonymized_account @anonymized_account Koń by się uśmiał, TVN24 i TVN wolne media? Bardziej perfidnego łgarstwa nie słyszałem.. 🤔"
          ],
          [
           "@anonymized_account Gdzie ja wtedy byłam? ;-)"
          ],
          [
           "@anonymized_account @anonymized_account @anonymized_account Midze sie nudziło i se coś na kolanie napisał i macie sensacje"
          ],
          [
           "@anonymized_account Dzisiaj wrócił do treningów, czyli zdążyli 😉"
          ],
          [
           "@anonymized_account @anonymized_account @anonymized_account @anonymized_account Nie wiem, zerknij na 90minut"
          ],
          [
           "@anonymized_account @anonymized_account Z motłochem nie dyskutuję tylko daje bany. A Pani @anonymized_account gratuluję obrońcy."
          ],
          [
           "@anonymized_account możesz też zawsze po prostu zapytać kiedy się urodziłam. Albo wpisać hasztag #100latKasiaPawlak ;-)"
          ],
          [
           "@anonymized_account ale z kategoriami moim zdaniem przesadzają.Sponsor roku, serce, impreza ? Bez jaj"
          ],
          [
           "@anonymized_account Prezes się cieszy ze Wisla odpadła bo w razie finału Legia-Wisla znów by musiał finał odwoływać"
          ],
          [
           "Bratowa wysłała mi zdjęcie bratanicy z rozpoczęcia roku, idzie do pierwszej klasy, biedactwo nie wie co ją czeka"
          ],
          [
           "@anonymized_account szybkie pytanie do @anonymized_account Ręka Sadloka była zagraniem umyślnym ?"
          ],
          [
           "@anonymized_account Dzień w którym Abidal sprzedał i kupił A.Vidala 😉"
          ],
          [
           "@anonymized_account Równie dobrze można gola stracić :)"
          ],
          [
           "@anonymized_account Chorwaci przerżną w końcówce dogrywki, wiadomo."
          ],
          [
           "@anonymized_account Nasze dzieci będą zdegustwani, był taki PiS, taki @anonymized_account , historia populizmu i głupoty w latach 2015-2019, margines"
          ],
          [
           "@anonymized_account O, myślałam, że nikt już nie używa \\\"mnie\\\" tylko \\\"mi\\\"."
          ],
          [
           "@anonymized_account @anonymized_account @anonymized_account Na nowym stadionie West Hamu też to widziałem."
          ],
          [
           "@anonymized_account @anonymized_account zawodnik w sezonie może grać w barwach dwóch klubów więc jeszcze nic straconego :)"
          ],
          [
           "ciekawe czy faktycznie jest taki zakład bo jeśli tak to nieźle XD"
          ],
          [
           "@anonymized_account Hehe, do gazu, hehe jeszcze jakieś emotikony wrzuć"
          ],
          [
           "Qrwa!! I niech mi nikt nie mówi, że czary to jakiś zabobon!! Chłopaki mają sztywne nogi!"
          ],
          [
           "Od 01.10.2018 każde sprawozdanie finansowe w formie elektronicznej, zgodne ze strukturą jpk"
          ],
          [
           "Na TVP Kraków padła właśnie informacja że rozmowy z potencjalnym kupcem Wisły przełożony z dziś na jutro."
          ],
          [
           "RT @anonymized_account Na TVP Kraków padła właśnie informacja że rozmowy z potencjalnym kupcem Wisły przełożony z dziś na jutro."
          ],
          [
           "@anonymized_account NIECH JESZCZE DADZĄ LEKTORA I NA GŁÓWNA POSTAĆ MÓWIĄ NADZIEJA"
          ],
          [
           "RT @anonymized_account @anonymized_account NIECH JESZCZE DADZĄ LEKTORA I NA GŁÓWNA POSTAĆ MÓWIĄ NADZIEJA"
          ],
          [
           "@anonymized_account Nie no ludzie, żeby robić artykuł na temat jednego tweeta ?..."
          ],
          [
           "@anonymized_account Jak powiem, że pierwsze słysze, to będzie kompromitacja czy nie? 😄"
          ],
          [
           "@anonymized_account Usuń konto, wytrzeźwiej buduj od nowa"
          ],
          [
           "@anonymized_account @anonymized_account @anonymized_account Sekta, cha, cha, cha, obudź się z hipnozy, jesteś bolszewikiem"
          ],
          [
           "Nie wstanę kurde nie ma opcji"
          ],
          [
           "@anonymized_account @anonymized_account Spokojnie, u mnie też Kaczarawa na kapitanie + Cvijanović :)"
          ],
          [
           "niech ładny chłopiec z kręconymi włosami do mnie napisze: jutro, zaraz, teraz"
          ],
          [
           "RT @anonymized_account niech ładny chłopiec z kręconymi włosami do mnie napisze: jutro, zaraz, teraz"
          ],
          [
           "@anonymized_account im ktoś gorzej widzi, dłużej musi czekać, choć ten, który widzi lepiej, dłużej poradzi sobie bez okularów. 😨"
          ],
          [
           "@anonymized_account Oj, no to powodzenia! Co tam będziesz musiała robić? 🤭"
          ],
          [
           "@anonymized_account @anonymized_account @anonymized_account @anonymized_account Chyba nie, Marcin mówił coś o '89."
          ],
          [
           "@anonymized_account Przeczytaj mojego kolejnego twitta to zobaczysz, że nie umknęło i co sądze o poziomie tego meczu."
          ],
          [
           "@anonymized_account Tylko nie w dupę, to dla niektórych z nich byłaby przyjemność."
          ],
          [
           "@anonymized_account @anonymized_account Widać chcą wiecej polskich mord gotujacych koninę"
          ],
          [
           "@anonymized_account No to jak się przegrywa cały czas to lepiej przestać grać :)"
          ],
          [
           "@anonymized_account @anonymized_account @anonymized_account Widzę, że sami się znajdują."
          ],
          [
           "@anonymized_account Napewno mam niezaktualizowanego może dlatego"
          ],
          [
           "@anonymized_account @anonymized_account Smokowski mówił że Wisła ma piłkarzy 3 sortu, a Wieszczycki deprecjonował dobrą prace Kiko"
          ],
          [
           "więc zaczynam oglądać Do wszystkich chłopców, których kochałam bo wszyscy o tym mówią i aż chcę to sprawdzić"
          ],
          [
           "@anonymized_account Ban,ban i jeszcze raz ban! Co za prymitywne dno!"
          ],
          [
           "@anonymized_account @anonymized_account Jasne, bo debile oglądający tvpis płaczą tylko na m jak miłość"
          ],
          [
           "@anonymized_account @anonymized_account @anonymized_account W stop klatkach widać ze jak by to było po stronie drugiej (legi) to karny by był"
          ],
          [
           "Zdrady stanu to Donald Tusk dopuścił się już w 2010 r kiedy dodał Rosjanom śledztwo w sprawie katastrofy smoleńskiej."
          ],
          [
           "@anonymized_account Na marginesie jestem córką biskupa"
          ],
          [
           "@anonymized_account Przejdzie historii: jak tworzyć kłamstwo w dobie powszechnego dostępu do informacji"
          ],
          [
           "@anonymized_account Od ok 8 lat używam kolejnych modeli HTC i nigdy mnie nie zawiodły."
          ],
          [
           "@anonymized_account @anonymized_account Ty się oszuście i kłamco od nas odpierdol. My sobie damy radę bez twoich kłamstw"
          ],
          [
           "@anonymized_account @anonymized_account @anonymized_account odważne słowa jak na legioniste! 😂😂😂"
          ],
          [
           "@anonymized_account @anonymized_account Załatwi to jedno głosowanie w sejmie i żadne demonstracje nie będą miały na to wpływu."
          ],
          [
           "@anonymized_account @anonymized_account @anonymized_account Krzyż celtycki w Irlandii debilu ma kompletnie inne znaczenie niż u neofaszystów."
          ],
          [
           "@anonymized_account Coś w tym jest,bo ja też😁😁😁. I jeszcze bym dodał Dominisię W. której infantylizm mnie totalnie osłabia."
          ],
          [
           "@anonymized_account @anonymized_account Gdzie oni znajdują takich dupków"
          ],
          [
           "mój stres zaczął się stresować swoim własnym stresem, które również się stresuje ja pierdole dość"
          ],
          [
           "RT @anonymized_account mój stres zaczął się stresować swoim własnym stresem, które również się stresuje ja pierdole dość"
          ],
          [
           "@anonymized_account @anonymized_account @anonymized_account @anonymized_account @anonymized_account dojdzie Brlek, Stilić wróci do formy, obcokrajowcy się zaaklimatyzują i bedzie dobrze💪"
          ],
          [
           "@anonymized_account @anonymized_account @anonymized_account Brawo grzechu za Twój powrót do żywych\\n W Rosji pokaż swoją moc"
          ],
          [
           "@anonymized_account @anonymized_account @anonymized_account @anonymized_account Wonder!! Chyba cię....😁😁😁😁😁.No dobra. Na jaki?😁😁😁"
          ],
          [
           "@anonymized_account Ja mam uczulenie na dobrą zmianę, ale to dłuższa historiac"
          ],
          [
           "@anonymized_account Różnicy nie ma, bo pisali wtedy, że nie można zsyłać zawodników do rezerw ;P"
          ],
          [
           "@anonymized_account Żal ci biedaku??? Gdyby nie Kaczyński to by je twoi przyjaciele z PO rozkradl"
          ],
          [
           "RT @anonymized_account @anonymized_account Żal ci biedaku??? Gdyby nie Kaczyński to by je twoi przyjaciele z PO rozkradl"
          ],
          [
           "Dobry dzień na przypomnienie sobie genezy gwiazdek na fladze #UE #deklaracjaRzymska"
          ],
          [
           "Sekta kurwa, jakaś niepojęta radość, każde konto pisdzielskie tylko o jednym"
          ],
          [
           "@anonymized_account @anonymized_account Nie wierzę, bez zaświadczenia od proboszcza?"
          ],
          [
           "@anonymized_account I chyba wtedy byś niezaprzeczyla?"
          ],
          [
           "@anonymized_account Tak naprawdę czy będziemy w spadkowej czy mistrzowskiej to i tak czekają nas sparingi."
          ],
          [
           "@anonymized_account Jebać, jebać, nic się nie bać."
          ],
          [
           "@anonymized_account Jakiej pracy, ty już pajacu nie wiesz na czym się lansować. Sejm nie pracuje."
          ],
          [
           "Kilogramy rozmnażają się przez pączkowanie 😣😖\\n#TłustyCzwartek"
          ],
          [
           "@anonymized_account @anonymized_account Nie działają i lepiej działać szybko bo klienci nie maja dostępu do środków na kontach"
          ],
          [
           "@anonymized_account @anonymized_account @anonymized_account jutro walczycie ? Normalnie rycerze ! A gdzie byliście wcześniej ? A zapomniałem że nie o L chodziło"
          ],
          [
           "@anonymized_account Ale to głupie, rdzennie głupie, bardziej głupie już być nie może"
          ],
          [
           "@anonymized_account Szczególnie Vestenicky.Podczas wypożyczenia nic nie pokazał a go wykupili za 500 tys euro 😂👏"
          ],
          [
           "@anonymized_account Już się boję. Postraszy mnie Pan kolegami narodowcami?"
          ],
          [
           "@anonymized_account Co nie było blisko? Bo nie rozumiem."
          ],
          [
           "@anonymized_account @anonymized_account A od kiedy komentatorzy na Sky to wyrocznia?"
          ],
          [
           "@anonymized_account @anonymized_account Nazwisko tego babska😁😁😁😁. Bo Wczoraj był na MO😁😁😀"
          ],
          [
           "@anonymized_account Zbiera się do kontrataku, dla swojego pryncypala pójdzie w bój, patrityczna dusza,  co nie @anonymized_account ?"
          ],
          [
           "@anonymized_account a w kolejnych fajnie jakby grał na lewej za Sadloka @anonymized_account"
          ],
          [
           "@anonymized_account byłem w pracy ale zaraz odpalam meczyk na yt.Dzięki za walke !!!!:)"
          ],
          [
           "@anonymized_account @anonymized_account jakie 0 motywacji ? Jest chyba różnica mieć medal albo go niemieć"
          ],
          [
           "@anonymized_account Niby nie macie czy niby nie mit? 😂😂"
          ],
          [
           "@anonymized_account Ja bym był ostrożny😁😁😁A jak ma na imię?"
          ],
          [
           "@anonymized_account @anonymized_account @anonymized_account Tak to jest jak ktoś nie wie do którego lekarza iść najpierw."
          ],
          [
           "@anonymized_account @anonymized_account No nie dziwie się w sumie. Dobrze, że tylko raz dzwonił"
          ],
          [
           "@anonymized_account @anonymized_account Wasz świat? To się w nim zamknijcie i nie wystawiajcie nosa."
          ],
          [
           "@anonymized_account @anonymized_account Przyjaciół to niech on sobie szuka za swoje prywatne pieniądze. I niech robi z siebie idiotę na własny rachunek."
          ],
          [
           "imagine sie komus podobac??? ze ktos sie stara o TWOJA uwage??? can’t relate"
          ],
          [
           "RT @anonymized_account imagine sie komus podobac??? ze ktos sie stara o TWOJA uwage??? can’t relate"
          ],
          [
           "@anonymized_account @anonymized_account @anonymized_account a Portugalia jak zagrała ?"
          ],
          [
           "Pierwsze zdanie: \\\"Paczka papierosów kosztuje 4 miliardy marek\\\".\\n#JajoWęża teraz na @anonymized_account"
          ],
          [
           "@anonymized_account @anonymized_account No to tym bardziej :)"
          ],
          [
           "@anonymized_account Ja przynajmniej mam profilowe i nie chowam się za awatarem. Ale bohaterów MW na to nie stać i w sumie nic w tym dziwnego."
          ],
          [
           "@anonymized_account Czego się spodziewać po członku żydowskiego amerykańskiego lobby. Lata na kolanach przed żydami zrobiło swoje."
          ],
          [
           "RT @anonymized_account @anonymized_account Czego się spodziewać po członku żydowskiego amerykańskiego lobby. Lata na kolanach przed żydami zrobiło swoj…"
          ],
          [
           "@anonymized_account Co ty człowieku pijesz z rana?"
          ],
          [
           "@anonymized_account @anonymized_account pewnie narządy też wkrótce sprzeda :D"
          ],
          [
           "@anonymized_account w zeszłym sezonie to samo pisałeś ?"
          ],
          [
           "Picie to przyszłość, piękna i nieznana, szukajcie zapomnienia, próbujcie różnych trunków, łączcie środki psychoaktywne, powodzenia"
          ],
          [
           "@anonymized_account Ale ty jesteś żenujący. Dno metr mułu."
          ],
          [
           "@anonymized_account spoko, nigdy nie daje unfollow aktywnym ludziom, tylko tym, którzy nie piszą nic od miesięcy albo dali mi unfollow"
          ],
          [
           "\\\"- Co to jest tajmlajn na fejsie?\\n- Zmarszczki\\\"."
          ],
          [
           "@anonymized_account może trzeba chłopaków na crossfit zabierać ?:)"
          ],
          [
           "@anonymized_account znacznie bliżej jest mi muzułmanin  czy indus, niż katolicka, łysa swołocz ze wschodu europy, do tego rasistowska"
          ],
          [
           "Dzisiaj o 18.00 Strefa Kibica w Radiu Akadera. Zapraszamy."
          ],
          [
           "@anonymized_account Nie powinno być źle o ile się utrzymamy :P"
          ],
          [
           "@anonymized_account Spokojnie trzeba ta porażkę wziąść na klatę mecz się tak ułożył nie inaczej napewno gorsi dużo my niebyli."
          ],
          [
           "@anonymized_account Ale się cieszą. Wreszcie koniec i będzie można wypić te.zapasy z plecaka."
          ],
          [
           "@anonymized_account @anonymized_account Ofertę przedłużenis kontraktu ponoć dostał od Wisły, ale jej nie zaakceptował."
          ],
          [
           "Dziś o godz. 20:00 Prezydent RP wygłosi orędzie."
          ],
          [
           "RT @anonymized_account Dziś o godz. 20:00 Prezydent RP wygłosi orędzie."
          ],
          [
           "@anonymized_account myślałem że się przychodzi na stadion dla drużyny a nie na poszczególnych piłkarzy"
          ],
          [
           "@anonymized_account kibicom chodzi raczej o postawe dziennikarzy a nie klubu."
          ],
          [
           "@anonymized_account @anonymized_account Nie trzeba Algierczyków, wystarczy kilku polskich katechetów."
          ],
          [
           "@anonymized_account Barcelona z Messim (ta obecna) by taki mecz wygrała 1:0, albo jakiś Suarez by coś wcisnął :P"
          ],
          [
           "@anonymized_account @anonymized_account TW Wolfgang, TW Faraon i TW Rycerz,TW Balbina, TW Michał \\nKto mieczem wojuje, ten od pochwy ginie"
          ],
          [
           "@anonymized_account @anonymized_account Zgadza się ale przecież nas niestac żeby komin płacowy zacząć od.carlitosa"
          ],
          [
           "@anonymized_account @anonymized_account @anonymized_account Low kick, kolano łokieć, blacha na czoło i stara leży"
          ],
          [
           "@anonymized_account Niestety obrazki będą też zielone, czarne i brunatne."
          ],
          [
           "Ktoś założył fejkowe konto i ogląda WSZYSTKIE moje story"
          ],
          [
           "@anonymized_account @anonymized_account Życie, zdarza się. Jednak od takiego rzutu wolnego do gola droga dość daleka."
          ],
          [
           "@anonymized_account a wydanie 500 tys euro gdy się nie ma pieniędzy nie jest strzałem w kolano ?"
          ],
          [
           "@anonymized_account Wio endekdu, ścierwa, zdrajcy, szubienica"
          ],
          [
           "@anonymized_account nie dziwie się, to było dość cwane :)"
          ],
          [
           "@anonymized_account Raczey! Jutro będzie jej odczytywane przez cały dzień ;-)"
          ],
          [
           "@anonymized_account Kto będzie pił te mleko, gdzie będą jeździły tiry, meble, okna ty maly kogucie"
          ],
          [
           "@anonymized_account @anonymized_account @anonymized_account @anonymized_account Nie myli się tylko ten, co nic nie robi."
          ],
          [
           "Mama będzie mi obcinać włosy boje się"
          ],
          [
           "@anonymized_account @anonymized_account @anonymized_account @anonymized_account No to muszą ci nieźle płacić za wierszówki."
          ],
          [
           "@anonymized_account czy masz info jakie obecnie Ondrasek ma zarobki w Wiśle?"
          ],
          [
           "@anonymized_account Jaka kwota wykupienia go po roku??"
          ],
          [
           "@anonymized_account @anonymized_account @anonymized_account Dla kogo pracował? Nie przy śniadaniu bo się udławić można z wrażenia. Poproszę 5 przykładów zatem."
          ],
          [
           "@anonymized_account @anonymized_account @anonymized_account Widzę, że dalej nie rozumiesz. No nic idę oglądać LM. Pozdro."
          ],
          [
           "@anonymized_account @anonymized_account jeśli masz TV włączony od 8:00 do 1:00, a reklama pojawia się 3 x na godzinę, po 2 mies. jesteś na granicy obłędu."
          ],
          [
           "@anonymized_account @anonymized_account A co o włoskich faszystach i węgierskich nacjonalistach?"
          ],
          [
           "@anonymized_account @anonymized_account Dojenie kasy przez rząd\\nKompromitacja Morawieckiego w Niemczech\\nKaczyński twórca państwa Polskiego w 2016 roku"
          ],
          [
           "@anonymized_account Jeszcze w nastepnej kolejce pewnie jakis piątek"
          ],
          [
           "@anonymized_account @anonymized_account i oczywiście było pytanie czy nie boi się o przyszłość Wisły 😂 przechodzicie samych siebie"
          ],
          [
           "@anonymized_account no ja właśnie to samoXD znaczy wiem ze Emre wbija często, bo jego żona jest polką ale no"
          ],
          [
           "@anonymized_account Nic nie mogą. Ale ich brak może spowodować, że strajkujący szybciej się z Sejmu wyniosą."
          ],
          [
           "@anonymized_account @anonymized_account @anonymized_account Przecież jak go zamkną to o czym ty będziesz pisał ? Twoje życie straci sens..."
          ],
          [
           "@anonymized_account @anonymized_account To zaraz porobie screeny od momentu od którego jest zablokowane :)"
          ],
          [
           "@anonymized_account Ktoś przestał słodzić, ktoś kto dużo słodził"
          ],
          [
           "@anonymized_account @anonymized_account @anonymized_account No to po co się zgodził na klauzule dopiero po zakończeniu przyszłego sezonu, a nie od razu ?"
          ],
          [
           "@anonymized_account Jest to prawda. Ale MSZ powinien. On pewnie myślał, że jest w Pisowskiej Polsce i wszystkoi wolno.😀😀😀"
          ],
          [
           "@anonymized_account delikatnie nie po drodze :D"
          ],
          [
           "@anonymized_account @anonymized_account No to 0:0 murowane (bo mam też ludzi z Cracovii)"
          ],
          [
           "@anonymized_account Może ogłuszyły go te korki od szampanów, które strzelały po podpisaniu kontraktu Sadloka z Jagiellonią ?"
          ],
          [
           "Panie i panowie, totalna porażka @anonymized_account w miastach. \\nT O T A L N A \\nTo bardzo ważny znak."
          ],
          [
           "RT @anonymized_account Panie i panowie, totalna porażka @anonymized_account w miastach. \\nT O T A L N A \\nTo bardzo ważny znak."
          ],
          [
           "@anonymized_account @anonymized_account @anonymized_account @anonymized_account ręce opadaj że takich rzeczy ludzie związani z futsalem nie wiedzą."
          ],
          [
           "@anonymized_account @anonymized_account Przeczytałem wszystko. Fantastycznego ma Pani Dziadka!"
          ],
          [
           "@anonymized_account Na wszystko masz odpowiedź, żyłeś w tych czasach?"
          ],
          [
           "@anonymized_account @anonymized_account Mr. Czarnecki. To nie hipokryzja tylko zwykła ludzka przyzwoitość. Widać że niektórym obce takie  odruchy."
          ],
          [
           "Diego Maradona - Robbie Williams 2:1."
          ],
          [
           "@anonymized_account @anonymized_account @anonymized_account Ja nie byłbym taki pewny"
          ],
          [
           "@anonymized_account patrząc kogo biorą to mam wątpliwości czy nie chcą do 1 ligi (nie licząc Marciniaka)"
          ],
          [
           "@anonymized_account To było dawno, jeszcze nie znali fotoszopa"
          ],
          [
           "@anonymized_account @anonymized_account Maly murzyn, silny i zdrowy"
          ],
          [
           ".@anonymized_account pojawił się na TT. To konto to nie fejk. \\nDołączajcie :) 💪"
          ],
          [
           "RT @anonymized_account .@anonymized_account pojawił się na TT. To konto to nie fejk. \\nDołączajcie :) 💪"
          ],
          [
           "W programie Igrzyska wolności w Łodzi śpiewanie pieśni rewolucyjnych,i piosenek z serialu,4 pancerni i pies."
          ],
          [
           "@anonymized_account no i w końcu widzę uśmiech :)"
          ],
          [
           "@anonymized_account Jeszcze was zjemy i wysramy"
          ],
          [
           "@anonymized_account lepszy argument to że ktoś go nie chce bo go nie lubi"
          ],
          [
           "@anonymized_account @anonymized_account Tylko że ten prostak sie nabijał, szydził tak jak ze śmierci Piotra S."
          ],
          [
           "@anonymized_account Qwa! Wypiłem kawę przed chwilą.Bardzo dobra kawę.Nie chcę jej zwracać. A swoją drogą to świetny środek na wywołanie wymiotów."
          ],
          [
           "Wchodzę w powiadomienia a tu nic, już na 4 tt odpisałem, zaraz wyjebią bana"
          ],
          [
           "@anonymized_account nataliethere_ oddam szybciutko z powiadomień"
          ],
          [
           "@anonymized_account Tak tak jeszcze ktoś w to uwierzy"
          ],
          [
           "@anonymized_account @anonymized_account @anonymized_account Tez musze trzymać poziomo tel czytając ten artykuł"
          ],
          [
           "@anonymized_account @anonymized_account @anonymized_account Czasy kiedy zacząłem interesować się piłką i Wisłą 😍"
          ],
          [
           "@anonymized_account Wy narobiliscie 30miliardow dlugow za waszych rzadow #oddajciekase"
          ],
          [
           "RT @anonymized_account @anonymized_account Wy narobiliscie 30miliardow dlugow za waszych rzadow #oddajciekase"
          ],
          [
           "@anonymized_account Czy @anonymized_account gotów na taką kolej rzeczy?"
          ],
          [
           "@anonymized_account Tak jak pisdzielstwo ośmiesza policjantów , to już, nikt, nigdy bardziej nie będzie"
          ],
          [
           "@anonymized_account A kiedy przestanie wydawać mln na swoich ochroniarzy, tylko zacznie leczyć u psychiatry swoją manię prześladowczą?"
          ],
          [
           "@anonymized_account Pierwszy priorytet zadowolić Jarkacza, drugi priorytet ssać kasę wszystkimi otworami,  mają rozdwojenie jaźni"
          ],
          [
           "@anonymized_account Huj z wami dziennikarzami. Piłka nożna dla kibiców a nie pseudo dziennikarzy."
          ],
          [
           "@anonymized_account E tam! To z miłości do Łodzi😁. I przyjdzie do PiS😁😁"
          ],
          [
           "@anonymized_account A ja, ze coś znowu zepsułam xd"
          ],
          [
           "Czemu jak zawsze się o kogoś martwię to ja dostaje po dupie, i mean nie wiem"
          ],
          [
           "@anonymized_account kiedy wyjeżdżasz? ja w piątek, co prawda już drugi rok ale moja rodzina nadal reaguje tak samo"
          ],
          [
           "@anonymized_account @anonymized_account @anonymized_account Ograniczyłbym to do \\\"Byle nie Ufa\\\" :)"
          ],
          [
           "@anonymized_account @anonymized_account Święta racja, ale zapytaj Jurgiela o notatki, on wie co spierdolił. Będzie łatwiej."
          ],
          [
           "@anonymized_account @anonymized_account Szczególnie wielka strata za Smoleńsk"
          ],
          [
           "@anonymized_account @anonymized_account @anonymized_account @anonymized_account daj znać @anonymized_account o  zdjecie blokady"
          ],
          [
           "@anonymized_account @anonymized_account Myślę, że po info o konferencji wielu osobom to przychodzi do głowy."
          ],
          [
           "@anonymized_account Koniecznie! Zapraszamy na spacer z kawką 😃"
          ],
          [
           "@anonymized_account błąd logiczny, te pieniądze kiedyś były wasze, teraz już sa nasze i nic wam do tego towarzyszu"
          ],
          [
           "RT @anonymized_account @anonymized_account błąd logiczny, te pieniądze kiedyś były wasze, teraz już sa nasze i nic wam do tego towarzyszu"
          ],
          [
           "@anonymized_account Zależy jak na to spojrzeć. Z jednej strony akredytacja, z drugiej wyjazd za swoje $$$ 😉"
          ],
          [
           "@anonymized_account @anonymized_account albo wygrywali 1:0 z Barceloną"
          ],
          [
           "@anonymized_account @anonymized_account tylko nie Załuska.Nie potrzeba nam takich piłkarzy bez ambicji."
          ],
          [
           "@anonymized_account @anonymized_account Nic specjalnego. Można się domyślać, że pewnie pójdzie na wypożyczenie."
          ],
          [
           "Z Zagłębia Hładun i Czerwiński w składzie (porażka 1:2), a z Legii Carlitos na kapitanie (zmiana w przerwie). Co za seria 😂"
          ],
          [
           "@anonymized_account co chwile o nim piszecie i gadacie jaka to porażka jak nie zostanie.A nie pamiętacie jak jeszcze niedawno otrzymanie licencji1/2"
          ],
          [
           "@anonymized_account @anonymized_account Przecież TS dzierżawi ta ziemię umowa na 99 lat zgadza się czy nie?"
          ],
          [
           "@anonymized_account Pyta się kiedy beda nowe okulary, bo juz chce wychodzić"
          ],
          [
           "@anonymized_account Probierz szuka młodych Polaków pasuje jak ulał😉"
          ],
          [
           "@anonymized_account Może pasuje do klucza francuskiego?🔧☺"
          ],
          [
           "Pensja, kasa, dojenie, @anonymized_account ,ssanie kasy, ruchanie w meskie dupy, zawsze za pis, trudny teren, ciezkie warunki"
          ],
          [
           "@anonymized_account Polska to nie napis na dropsie, uuuu, niedobrze, uuuuuuu"
          ],
          [
           "@anonymized_account raczej ty się powinieneś jebnąć ale nie wiem czy to pomoże"
          ],
          [
           "@anonymized_account Jak narazie to sobie możecie kupę zrobić. Albo hurtowo dać dupy pedofilów w sutannach, których publicznie bronicie."
          ],
          [
           "@anonymized_account Najlepiej w Polsce żeby legia miała pomoc :-)"
          ],
          [
           "Ale mam chujowy humor przez to, że nie zdałam i jestem na siebie zła"
          ],
          [
           "Szukam osób, które mają kontakt z rodziną gen. Bułak-Bałachowicza. Sprawa  prywatna."
          ],
          [
           "@anonymized_account Brawo skwk za komunikat pomimo braku zakazu czekałem na ta wiadomość co robić, bo na mecz bez dopingu niemyslalem iść"
          ],
          [
           "@anonymized_account @anonymized_account A ty wieś kretynie CONTI jest Acta2 i czego dotyczy? Najpierw przeczytaj a potem się wypowiadaj."
          ],
          [
           "@anonymized_account Trąba ? Nie no ostro pojechałaś :D"
          ],
          [
           "Beata #Mazurek w Sejmie na pytanie co myśli o pomyśle Kaczyńskiego o obniżkach wynagrodzeń: \\\"Ja nic nie myślę\\\". To słychać."
          ],
          [
           "RT @anonymized_account Beata #Mazurek w Sejmie na pytanie co myśli o pomyśle Kaczyńskiego o obniżkach wynagrodzeń: \\\"Ja nic nie myślę\\\". To słyc…"
          ],
          [
           "Motocykle opuściły gniazda i kierują się na północ. Żonkile na przedmieściach to już tylko formalność. Wiosna! :-)"
          ],
          [
           "@anonymized_account @anonymized_account 🕵 Jest tak zakonspirowany, że go nie widać. Fachowiec. \\n(Górny, prawy róg)"
          ],
          [
           "@anonymized_account Kto mieczem wojuje od pochwy ginie @anonymized_account"
          ],
          [
           "@anonymized_account W jednej z powtórek było to dobrze widać :))"
          ],
          [
           "@anonymized_account Kochana nie ma po co bo później wszyscy się będą po to kleić 😂😂"
          ],
          [
           "@anonymized_account @anonymized_account chyba nie miałeś się czego przyczepić, nie przesadzajmy :)"
          ],
          [
           "@anonymized_account @anonymized_account Ale dlaczego głupi @anonymized_account  tłumaczy to jeszcze głupszemu @anonymized_account ?"
          ],
          [
           "@anonymized_account Dzwoniłam się dowiadywać kiedy się można wprowadzać 😂nie wiedziałam ze takie problemy mogą być xd"
          ],
          [
           "@anonymized_account Już pod koniec jazdy wymusilam na rondzie.... nie wiem jak to się stało, mój mózg miał zaćmienie czy coś a"
          ],
          [
           "Nowe chodnikowe powiedzonko brzmi:\\n\\nPierdolisz jak Morawiecki, realy.\\n\\n@anonymized_account @anonymized_account \\n\\nHybryda głupoty."
          ],
          [
           "RT @anonymized_account Nowe chodnikowe powiedzonko brzmi:\\n\\nPierdolisz jak Morawiecki, realy.\\n\\n@anonymized_account @anonymized_account \\n\\nHybryda głupoty."
          ],
          [
           "Terminator X To The Edge Of Panic wykonawcy Public Enemy\\nhttps://t.co/Nqf1yFOyKg"
          ],
          [
           "@anonymized_account Zaspana jestem jeszcze sorki XD"
          ],
          [
           "@anonymized_account @anonymized_account No ja nie kojarze xD"
          ],
          [
           "@anonymized_account Pies to czasem nawet pożera książki..."
          ],
          [
           "Kiedy Christina wychodzi za mąż"
          ],
          [
           "@anonymized_account @anonymized_account Zapewne ci, co grali przez większość rundy w CLJ i nie ponieśli ani jednej porażki."
          ],
          [
           "@anonymized_account @anonymized_account Jak będzie ta pioseneczka to przychodzę\\n\\nhttps://t.co/B6ak11mI4d"
          ],
          [
           "@anonymized_account zamieszczanie takich zdjęć podczas gdy ja jestem na sucharach powinno być zabronione :)"
          ],
          [
           "@anonymized_account @anonymized_account @anonymized_account A co trzeba zrobić w kwestii finansowania kampanii z funduszy UE przez Ziobrę?"
          ],
          [
           "@anonymized_account W środku łamanie w stylu 2obiegu."
          ],
          [
           "jak ja się źle czulem jak byłem dzieckiem w  kościele to głow mala, szopka do kwadratu, nie mogłem tego wytrzymać"
          ],
          [
           "@anonymized_account @anonymized_account @anonymized_account @anonymized_account jak wróce z pracy to też podejme wyzwanie ale tym razem bedzie skromnie :)"
          ],
          [
           "@anonymized_account @anonymized_account @anonymized_account Jak pić to z klasą ;)"
          ],
          [
           "@anonymized_account @anonymized_account Ty pajacu, zmień sobie herb na pusty łeb."
          ],
          [
           "@anonymized_account W rosji sa jakieś zawody"
          ],
          [
           "@anonymized_account @anonymized_account Myślałem że to Twój ulubieniec 😂"
          ],
          [
           "@anonymized_account @anonymized_account pewnie ranking Fifa bedzie decydowal"
          ],
          [
           "@anonymized_account Łukaszewicz, co Wy tam palicie?"
          ],
          [
           "@anonymized_account @anonymized_account @anonymized_account Leszku mój kochany, masz mózg wyprany"
          ],
          [
           "@anonymized_account a ja współczuje zaślepienia.Wolę nie mieć Wolskiego niż robić kolejne długi @anonymized_account"
          ],
          [
           "@anonymized_account @anonymized_account @anonymized_account od paru lat słysze o sponsorze więc tym bardziej szacunek że przez pare lat się nieujawnił..."
          ],
          [
           "@anonymized_account Skoro Carrillo nie chce Sobola to tym bardziej nie będzie chciał Głowy. Chyba, że trener rzeczywiście odchodzi."
          ],
          [
           "@anonymized_account @anonymized_account @anonymized_account Zawsze bedą afery bo zawsze będa tacy l którzy kradną  i tacy u wladzy których to kręci"
          ],
          [
           "@anonymized_account kot też się załapał na fotke, a raczej jego dupa :)"
          ],
          [
           "@anonymized_account Szczerze? Trochę tak to wygląda, a i tak prędzej czy później ten bilans wychodzi na równo."
          ],
          [
           "@anonymized_account zaraz będą pisać że Wisła szkoli kiboli żeby potrafili maczetą wymachiwać :)"
          ],
          [
           "*stoi przed nimi król gargulców*\\nbetty: to pewnie ethel\\n\\nXDDDDDDDDDDDDDD\\n#Riverdale #RiverdalePL"
          ],
          [
           "RT @anonymized_account *stoi przed nimi król gargulców*\\nbetty: to pewnie ethel\\n\\nXDDDDDDDDDDDDDD\\n#Riverdale #RiverdalePL"
          ],
          [
           "@anonymized_account No, to ja we własnej osobie"
          ],
          [
           "@anonymized_account Słabo trzymałeś kciuki, bo podarował bramke Cracovii :)"
          ],
          [
           "@anonymized_account Odstawiając narodowość na bok to ten skład jest przecież słabiutki."
          ],
          [
           "@anonymized_account @anonymized_account Piwnica bez okien, ty to masz dobrze"
          ],
          [
           "Czuję się chora więc siedzę w domu w czapce"
          ],
          [
           "@anonymized_account Juz myslałem że coś gorszego😁😁"
          ],
          [
           "@anonymized_account @anonymized_account A gdzie Inferno napisał, że Wisła stawia na Polaków ?"
          ],
          [
           "@anonymized_account akurat Tobie bliżej do Karolaka bo w większości Cię wycięli 😂 @anonymized_account @anonymized_account @anonymized_account @anonymized_account"
          ],
          [
           "@anonymized_account Omg właśnie o nich myślałam"
          ],
          [
           "@anonymized_account Tak na pewno nie będzie. Drużyna leci w środę."
          ],
          [
           "Cudzysłów, przecinek nie jestem ruskim trollem"
          ],
          [
           "Biorąc pod uwagę, jakie dotąd mieliśmy losowania w Lidze Europy, to na ten finał w Baku w 2019 roku nie jesteśmy bez szans. 😁"
          ],
          [
           "@anonymized_account @anonymized_account Fajnie, teraz zamiast przemowy muzyczka żeby nie było słychać odzewu publiki."
          ],
          [
           "@anonymized_account @anonymized_account Białystok, ulica Wierzbowa. Jak oni to zrobili, to jest zagadka."
          ],
          [
           "@anonymized_account Straszny gangster jak po wolności chodzi"
          ],
          [
           "@anonymized_account To się nazywa uzależnienie xD"
          ],
          [
           "@anonymized_account Info z ostatniej chwili barwy pogoni skrojone przez bandytów Z Krakowa.  Pomimo zakazu Wisła rządzi"
          ],
          [
           "@anonymized_account @anonymized_account Pewnie tak bo Buchalik kontuzjowany."
          ],
          [
           "@anonymized_account to miało jakiś ciąg dalszy? 😉"
          ],
          [
           "vans do chuja przestań robić choć na chwilę zajebiste kolekcje bo w moim portfelu pieniądzen't"
          ],
          [
           "RT @anonymized_account vans do chuja przestań robić choć na chwilę zajebiste kolekcje bo w moim portfelu pieniądzen't"
          ],
          [
           "@anonymized_account @anonymized_account @anonymized_account @anonymized_account 12 mld nie mam zamiaru dyskutowa możejki i skoki"
          ],
          [
           "@anonymized_account @anonymized_account Alves był bardzo w stylu Guardioli 😛"
          ],
          [
           "@anonymized_account Co ty żresz, że ci tak pierdolnęło?"
          ],
          [
           "@anonymized_account Bo w \\\"10\\\" już grają przez Boatenga ;)"
          ],
          [
           "@anonymized_account @anonymized_account Trudno być pewnym, gdy stoperzy mogą zagrać tylko lagę do przodu, bo środka nie mamy."
          ],
          [
           "@anonymized_account @anonymized_account @anonymized_account No właśnie, nie było i dlatego patologia została stosownie potraktowana."
          ],
          [
           "@anonymized_account skoro jest dno dna to może skupmy się na tych od których coś wymagamy"
          ],
          [
           "@anonymized_account Widocznie to zbyt trudna miłość na Walentynki 😁"
          ],
          [
           "@anonymized_account Sarapata była w solarium ?"
          ],
          [
           "@anonymized_account Woda chyba zimna bo nikogo w wodzie ;-)"
          ],
          [
           "@anonymized_account ej, dobra, weźmie ten chrzest czy nie? xd"
          ],
          [
           "@anonymized_account @anonymized_account Lub bezpośredni awans, bo nie wiadomo co ze Stomilem, a przede wszystkim Bytovią :)"
          ],
          [
           "@anonymized_account @anonymized_account byłam przy tym, więc zapewniam 😉"
          ],
          [
           "@anonymized_account @anonymized_account @anonymized_account Tylko ty masz problem z rzecznikiem, więc zastanów się w kim tak naprawdę jest problem? 🤔"
          ],
          [
           "@anonymized_account Piątek  też powinien być wolny, ina 100%"
          ],
          [
           "Wassermannówna kłamie, mówiąc, że „przyszła do polityki”. Ona przyjechała na trumnie ojca."
          ],
          [
           "RT @anonymized_account Wassermannówna kłamie, mówiąc, że „przyszła do polityki”. Ona przyjechała na trumnie ojca."
          ],
          [
           "@anonymized_account Już dwa lata temu powinni wygrac Euro."
          ],
          [
           "@anonymized_account Kibice innych drużyn doceniają i trochę zazdroszczą :)"
          ],
          [
           "@anonymized_account @anonymized_account na 100% jest zmiana Śląsk - Jaga i chyba została już potwierdzona."
          ],
          [
           "@anonymized_account W tym czasie był z rodzinką na wakacjach w Gdańsku Brzeźnie to musiał zdalnie podtrzymywać związek"
          ],
          [
           "jak Patryk Jaki wygra wybory w Warszawie oczyści stolicę z byłych UBECKICH funkcjonariuszy ! #woronicza17"
          ],
          [
           "RT @anonymized_account jak Patryk Jaki wygra wybory w Warszawie oczyści stolicę z byłych UBECKICH funkcjonariuszy ! #woronicza17"
          ],
          [
           "Szkoda, że przez wymysły Mendesa taki Ruben Neves się marnuje w Wolverhampton."
          ],
          [
           "@anonymized_account @anonymized_account Nie wiem, aczkolwiek jego tata mówił, że widziałby Tomasa w Jagiellonii. 😜"
          ],
          [
           "Ja i moje psiapsi gramy w te gry na snapie i nie mogę przestać się śmiać z naszych min XD"
          ],
          [
           "@anonymized_account Kolar niestety ten sam poziom. Chyba trzeba będzie liczyć na skuteczność Boguskiego i Małeckiego..."
          ],
          [
           "Rząd zaostrzy kary za znęcanie się nad zwierzętami. Od 3-5 lat więzienia; obowiązkowa nawiązka do 100 tys zł. Więcej jutro w @anonymized_account"
          ],
          [
           "RT @anonymized_account Rząd zaostrzy kary za znęcanie się nad zwierzętami. Od 3-5 lat więzienia; obowiązkowa nawiązka do 100 tys zł. Więcej jutro w @anonymized_account"
          ],
          [
           "@anonymized_account @anonymized_account @anonymized_account czuje że Brlek prędzej czy później odpali"
          ],
          [
           "@anonymized_account @anonymized_account To, że figurowal jako zawodnik Man City nie znaczy, że będzie potrafił grać."
          ],
          [
           "@anonymized_account @anonymized_account Oczywiście, że ma rację. Chodzi tylko o to, że to jest drużyna o klasę lub dwie lepsza."
          ],
          [
           "@anonymized_account @anonymized_account Nie miał prawa stać za linią, tak prawdę mówiąc 😄 Ale w kamerach to bardzo ładnie wyglądało."
          ],
          [
           "@anonymized_account @anonymized_account @anonymized_account Ty to robisz przede wszystkim, co widać po pierwszym tweecie."
          ],
          [
           "Ostatnio czuje się tak samotna i smutna ze aż sama się dziwie"
          ],
          [
           "@anonymized_account Przecież to legionista to komu ma życzyć mistrza.Nie wiedziałeś ?"
          ],
          [
           "@anonymized_account @anonymized_account @anonymized_account dobrze by mu to zrobiło.Za słaby na Wisłe."
          ],
          [
           "@anonymized_account Hehehehehe. Róża nawet niezła była.I co z niej wyrosło!😁😁😁"
          ],
          [
           "@anonymized_account jedni wynajmują agencje do komentarzy a inni dziennikarzy"
          ],
          [
           "RT @anonymized_account @anonymized_account jedni wynajmują agencje do komentarzy a inni dziennikarzy"
          ],
          [
           "@anonymized_account pewnie jest mniej błędów bo i liczb jest mniej bo zrezygnowali ze statystyk zawodników sezon po sezonie ;)"
          ],
          [
           "@anonymized_account Krzyż przeciw prezydenturze, krzyż obłędu"
          ],
          [
           "@anonymized_account @anonymized_account Sorry ale dzisiaj nie ma opozycji. Jest grupa cwaniaków chcących odzyskać stołki."
          ],
          [
           "na kijowe życie najlepsza wódeczka"
          ],
          [
           "Co na to Herod śmierdziuszka @anonymized_account"
          ],
          [
           "@anonymized_account Brakuje mu dystansu, za bardzo się egzaltuje, a jałowe szyderstwa już mi się przejadły"
          ],
          [
           "@anonymized_account Wisła chyba ważniejsza od jakiejś Delle Donne :)"
          ],
          [
           "@anonymized_account Nawet jeśli to fejk, to zgodnie z powiedzeniem -w każdej plotce jest ziarnko prawdy. Z tym że w tym przypadku raczej ziarno😁😁"
          ],
          [
           "@anonymized_account Tez wczoraj byłam na randce która trwała cały dzień Xd"
          ],
          [
           "@anonymized_account A kierowca autobusu wstał i zaczął klaskać ?"
          ],
          [
           "@anonymized_account @anonymized_account Jak by nie było, aby było miło, teraz sie cieszysz"
          ],
          [
           "@anonymized_account No to może warto, najwyżej Cię oleje, co jest oczywiście nie do przyjęcia 😂 kto nie ryzykuje ten nie pije szampana kochana!"
          ],
          [
           "@anonymized_account @anonymized_account Trzymali się za ręce, waleczni i sprawiedliwi"
          ],
          [
           "Dudelange niby takie cwaniaki, a ciekawe czy byliby tacy mądrzy w dwuboju rzut młotem-skoki narciarskie"
          ],
          [
           "RT @anonymized_account Dudelange niby takie cwaniaki, a ciekawe czy byliby tacy mądrzy w dwuboju rzut młotem-skoki narciarskie"
          ],
          [
           "@anonymized_account @anonymized_account @anonymized_account głównie @anonymized_account który często o tym wspomina"
          ],
          [
           "Kto się jeszcze zaczepia na fejsie...."
          ],
          [
           "@anonymized_account @anonymized_account Z tymi wizjami to może być problem. Proponuję sprawdzić po czym te wizję są"
          ],
          [
           "@anonymized_account Jaki hejt.Hejt to jest na Tuska, Komorowskiego, przecież to nie Polacy, śmierć wrogom ojczyzny. Obudź się"
          ],
          [
           "Czy Antek już ogłosił, że na lewym skrzydle naszej obrony był wybuch?"
          ],
          [
           "RT @anonymized_account Czy Antek już ogłosił, że na lewym skrzydle naszej obrony był wybuch?"
          ],
          [
           "@anonymized_account jest to dobra informacja dla tych co okradali  Polskę od 89  roku  Irlandia da im wolność"
          ],
          [
           "RT @anonymized_account @anonymized_account jest to dobra informacja dla tych co okradali  Polskę od 89  roku  Irlandia da im wolność"
          ],
          [
           "Ale przecież #Polexit jest dobry. Założycie koszulki z orłem i będziecie żryć ziemniaki i wungiel 😇"
          ],
          [
           "RT @anonymized_account Ale przecież #Polexit jest dobry. Założycie koszulki z orłem i będziecie żryć ziemniaki i wungiel 😇"
          ],
          [
           "@anonymized_account @anonymized_account @anonymized_account @anonymized_account Wywalił Ronaldo w Superpucharze :)"
          ],
          [
           "@anonymized_account @anonymized_account Bo sama jest niepełnosprawna... Umysłowo.😁😁"
          ],
          [
           "Halo Kraków, kogo byście uznali za gwiazdę/najważniejszego zawodnika obecnej Wisły? 😉"
          ],
          [
           "@anonymized_account @anonymized_account Ssą wszystkimi otworami z krwi biało czerwonej"
          ],
          [
           "@anonymized_account Wy się zjednoczyliście z faszystami z połowy Europy. Kpromitacja level hard."
          ],
          [
           "@anonymized_account @anonymized_account @anonymized_account Znowu on ? 😂 to przy okazji niech się odniesie do słów Sarary 😂"
          ],
          [
           "@anonymized_account Dotarlas do orełka?😁😁 W tym roku niestety tyłko jeden😞😞"
          ],
          [
           "@anonymized_account @anonymized_account Mam rozumieć, że to mapa nasycenia krajów zboczeńcami w sutannach."
          ],
          [
           "@anonymized_account @anonymized_account @anonymized_account A Panu nie brakuje czasem art. 87 pkt1?"
          ],
          [
           "@anonymized_account Czy to oknoplus ladowal kiedyś"
          ],
          [
           "@anonymized_account @anonymized_account 5 punktów na 21 w rundzie finałowej..."
          ],
          [
           ".@anonymized_account @anonymized_account Będziemy realizować przekop Mierzei Wiślanej \\n#wieszwiecej  \\nhttps://t.co/zuCXxG1GUr"
          ],
          [
           "RT @anonymized_account .@anonymized_account @anonymized_account Będziemy realizować przekop Mierzei Wiślanej \\n#wieszwiecej  \\nhttps://t.co/zuCXxG1GUr"
          ],
          [
           "@anonymized_account Bolek wyluzuj bo jesteś sercowy."
          ],
          [
           "@anonymized_account Śmiej się  śmiej. To wcale nie jest śmieszne."
          ],
          [
           "I hope that autumn will heal me"
          ],
          [
           "Jutro po marszu, ale jeszcze kilka dni beda chodzić naćpani"
          ],
          [
           "@anonymized_account Nie ma jak lans nierobie za pieniądze podatników."
          ],
          [
           "@anonymized_account A to ja przepraszam, nie miałam wczoraj czasu na TT 😎"
          ],
          [
           "11 tysięcy miejsc zajętych, dzisiaj prawie 2000 biletów sprzedanych. Z tej okazji za chwilę nagroda 😁"
          ],
          [
           "@anonymized_account @anonymized_account To ja chyba tylko kolory porównywałem"
          ],
          [
           "Ej słuchajcie co zajebistego wymyśliłam \\n\\nJaki jest najlepszy argument bonnie z pamiętników wampirów? \\n\\nBo nnie"
          ],
          [
           "RT @anonymized_account Ej słuchajcie co zajebistego wymyśliłam \\n\\nJaki jest najlepszy argument bonnie z pamiętników wampirów? \\n\\nBo nnie"
          ],
          [
           "@anonymized_account Im więcej problemów w państwie tym więcej niewykonanych wyroków"
          ],
          [
           "Widziałam śliczną sukienkę ale nie było mniejszego rozmiaru niż 36 i była za duża danmm"
          ],
          [
           "@anonymized_account @anonymized_account Polskę to kompromitują tacy jak ty. Oszołomie."
          ],
          [
           "@anonymized_account 😁😁😁😁😁😁😁😁 @anonymized_account teraz to mnie Pani ubawiła tym paskiem. A widziała Pani swoją szyję?"
          ],
          [
           "@anonymized_account @anonymized_account @anonymized_account nie, ale jeśli ktoś wypomina Levadie to niech bedzie obiektywny i wspomni też inny wynik."
          ],
          [
           "@anonymized_account O naszych meczach z Rio Ave można powiedzieć podobnie 😉"
          ],
          [
           "W sumie to polubiłam już zajęcia z konstrukcji przekazu reklamowego i prowadzący jest świetny"
          ],
          [
           "Ej chciałabym do samorządu w sumie hahahaha"
          ],
          [
           "@anonymized_account Tez nie mam snapa hahahahaha"
          ],
          [
           "@anonymized_account Ileż można o tym Wiluszu ?..."
          ],
          [
           "@anonymized_account A po polsku to jak to będzie?"
          ],
          [
           "@anonymized_account @anonymized_account A skąd on wie jak jest w innych klubach ? Niech się wypowiada o klubach w których grał."
          ],
          [
           "I ta Wisła, która się bawi z każdym w ofensywie, w Białymstoku miała pół sytuacji."
          ],
          [
           "@anonymized_account @anonymized_account @anonymized_account Zapytalem,  szwagierka mówi że ma konto w powerbanku"
          ],
          [
           "@anonymized_account @anonymized_account Mięciuteńki straszliwie. Tam były ręce na ciele, a nie jakieś szarpanie. Tylko że nie do VAR-u."
          ],
          [
           "@anonymized_account @anonymized_account Pajacu, jak podajesz przepis to masz go znać na pamięć. Inaczej robią z siebie idiotę tak jak teraz."
          ],
          [
           "@anonymized_account Zdejmujesz Dziadkowi okulary, zakładasz Babci i jestem \\n😎"
          ],
          [
           "@anonymized_account @anonymized_account @anonymized_account w końcu jakiś ciekawy wywiad :)"
          ],
          [
           "@anonymized_account jak tam widziałeś czerwoną to rzeczywiście wyjdź"
          ],
          [
           "@anonymized_account skoro zarząd pozwala na takie cyrki to niestety potrwa to lata"
          ],
          [
           "@anonymized_account @anonymized_account Cieszmy się że drużyna dalej gra w lidze.Nie zawsze można mieć najmocniejszy skład w lidze :)"
          ],
          [
           "@anonymized_account @anonymized_account @anonymized_account Znawca wszystkiego czyli niczego od bydła po powidło"
          ],
          [
           "@anonymized_account 😂😂😂😂😂😂😂😂😂😂😂😂😂🤣🤣🤣🤣🤣🤣🤣🤣🤣🤣🤣🤣🤣😂😂😂😂😂😂😂🤣🤣🤣🤣🤣🤣🤣🤣🤣🤣🤣🤣🤣🤣🤣😂😂😂😂😂😂😂😂😂😂😂😂😂😂😂😂\\n\\nSłów odpowiednich żaden słownik nie zawiera"
          ],
          [
           "@anonymized_account Vacek, Putnocky, Nielsen.Widzę że biorą się za odmładzanie składu :)"
          ],
          [
           "@anonymized_account @anonymized_account @anonymized_account Ty się chyba debilu nie słyszysz, ty tekstów to się po nocach uczysz czy masz słuchawkę w uchu?"
          ],
          [
           "@anonymized_account Lub kibiców w Gliwicach 😜"
          ],
          [
           "@anonymized_account No właśnie była lepsza 😜"
          ],
          [
           "@anonymized_account @anonymized_account @anonymized_account @anonymized_account No weź nie rob takiej miny"
          ],
          [
           "@anonymized_account @anonymized_account @anonymized_account Szczekać to mogą tacy jak ty #delegalizacja"
          ],
          [
           "@anonymized_account Bo jest Głowacki to teraz czas na obrońców"
          ],
          [
           "@anonymized_account @anonymized_account Nie ma takiej opcji. Oszust i kłamca w roli głównej - tego jeszcze świat nie widział."
          ],
          [
           "@anonymized_account Nie jest złe! Chodzisz w szpilkach? Cokolwiek byś nie założyła to szpilki choć trochę pomogą xd"
          ],
          [
           "@anonymized_account Jakby był definitywny to trochę slabo 😂"
          ],
          [
           "@anonymized_account a co się tak pieniedzmi nagle przejmujesz ? Jak chcialas rozwiazania kontraktu z Zohnova czy Pop to kasa juz nie wazna ?"
          ],
          [
           "@anonymized_account Oskar Łąk definitywnie odszedł z Wisły ?\\n\\nhttps://t.co/o0psVgZBUl"
          ],
          [
           "@anonymized_account gratulacje ! Dzięki za dotrzymanie słowa że dzisiaj koniec :) Zasłużyłyście !"
          ],
          [
           "Jezu, co zagrali Suarez i Cavani."
          ],
          [
           "@anonymized_account Na pewno łatwiej by było znaleźć, określić i poprawić problemy"
          ],
          [
           "@anonymized_account Można, dlatego nasz poziom piłkarski był bardzo słaby wczoraj."
          ],
          [
           "@anonymized_account Wybacz, ale nie sądzę, aby głównym problemem kadry były złe powołania na numerach 21-23 w kadrze."
          ],
          [
           "jeśli nie mogę wyglądać tak jak\\n•perrie edwards\\n•troian bellisario\\nto what’s the point of existing?"
          ],
          [
           "RT @anonymized_account jeśli nie mogę wyglądać tak jak\\n•perrie edwards\\n•troian bellisario\\nto what’s the point of existing?"
          ],
          [
           "@anonymized_account Nadal i Djoković to się w sumie cieszą, bo ten, kto w ich meczu wygra, będzie praktycznie zwycięzcą turnieju."
          ],
          [
           "@anonymized_account @anonymized_account Mówisz że ONR lize doope😂"
          ],
          [
           "@anonymized_account @anonymized_account @anonymized_account wyśle im jutro list od kibiców cracovii że chcą odejścia Filipiaka.Ciekawe czy też opublikują."
          ],
          [
           "@anonymized_account @anonymized_account A kiedy zaczniecie zbiórki na krówki i świnki?"
          ],
          [
           "@anonymized_account No to skąd wiedziałeś czy stopklatka jest zrobiona w odpowiednim momencie ? Nie kompromituj się"
          ],
          [
           "@anonymized_account @anonymized_account @anonymized_account Iza - dziewczyna, cud, miód, malina 😁"
          ],
          [
           "Zaraz pół mojego instagrama i cały Twitter będzie na koncercie Eda.... i jestem jeszcze ja............"
          ],
          [
           "@anonymized_account Z tamtego Adama dziś już nic nie zostało. Ale czepianie się go za brata i ojca osobiście nie popieram"
          ],
          [
           "@anonymized_account @anonymized_account Plujecie na Polskę to my będziemy pluć na was."
          ],
          [
           "RT @anonymized_account @anonymized_account @anonymized_account Plujecie na Polskę to my będziemy pluć na was."
          ],
          [
           "@anonymized_account Może też być kołderka 😍"
          ],
          [
           "@anonymized_account Dlaczego średnio? W decydujacym o awansie Widzewa czerwcu był piłkarzem miesiąca"
          ],
          [
           "@anonymized_account błedem było ściaganie zawodników których nas niestać byleby osiągnąć cel"
          ],
          [
           "@anonymized_account Każdy kto choć trochę się orientuje w tych sprawach wie, że na Hutniku nie ma oświetlenia..."
          ],
          [
           "@anonymized_account Maliniak dal reklame za dormo ponoć caly marsz niepodleglosci ubrali, prawda to redisbad?"
          ],
          [
           "@anonymized_account niech wejdzie na luzie i pewnie tak żeby nie musiał zostawiać dokumentu, milion osób tak przemyciłam"
          ],
          [
           "@anonymized_account Cie zaraz piznę, jak nie zaczniesz myśleć"
          ],
          [
           "@anonymized_account @anonymized_account Bo byliśmy bez formy, to oczywiste. Przecież to też napisałem."
          ],
          [
           "@anonymized_account jest juz aktualizacja składów czy jakis dodatek sciągałeś ? :)"
          ],
          [
           "@anonymized_account Komentarz raz a dwa słysząc trybuny zastanawiam się czy ten kto wymyślił mecze w pn obejrzał choć jeden"
          ],
          [
           "@anonymized_account @anonymized_account @anonymized_account @anonymized_account @anonymized_account @anonymized_account Mam nadzieję że nigdy więcej. Czekam na rychłą delegalizację."
          ],
          [
           "@anonymized_account A Ty nigdy nie robisz dwóch rzeczy jednocześnie? Np. idziesz i żujesz gumę."
          ],
          [
           "@anonymized_account @anonymized_account O 11.00 wielkie obtrabienie sukcesu..."
          ],
          [
           "@anonymized_account @anonymized_account Ty kurwa @anonymized_account nie pierdol w tv bo sie żygać chce"
          ],
          [
           "@anonymized_account problemem jest to że jak sobie coś ubzdurasz to myślisz że zawsze masz racje bo jesteś wszechwiedzący@anonymized_account @anonymized_account"
          ],
          [
           "@anonymized_account Taki Błaszczykowski tez za co do repry?  Żeby niebylo ze wbijam szpilki do legi?"
          ],
          [
           "Często wracam do tego kawałka. @anonymized_account"
          ],
          [
           "@anonymized_account A pisdzielstwo, szczury, gady, plazy popromienne, azbestowe?"
          ],
          [
           "omg ale jestem wyjebana po tym wykładzie"
          ],
          [
           "@anonymized_account @anonymized_account jak Zarycki jest Twoim informatorem to te info można w kiblu spuścić"
          ],
          [
           "@anonymized_account @anonymized_account Ale Karolina ostatnio była w TVP 😜"
          ],
          [
           "#NAME?"
          ],
          [
           "@anonymized_account @anonymized_account U mnie też wyświetla właściwe kolory 😊"
          ],
          [
           "@anonymized_account @anonymized_account Najpierw kasza, później przyjemności, a kiedyś wolność, ale wy klękacie bez obawy zostanie i tak bez was"
          ],
          [
           "@anonymized_account @anonymized_account @anonymized_account No oboje Państwo wyglądacie jak rodzeństwo. I tacy żółci oboje."
          ],
          [
           "@anonymized_account No kurwa @anonymized_account ty masz nie rządzić, madz nie rządzić"
          ],
          [
           "Yerri Mina - złota piłka 😁"
          ],
          [
           "@anonymized_account jeszcze nie mam planu wykonania ;-)"
          ],
          [
           "@anonymized_account Śląsk Wrocław ma jakiś drugi podmiot, że wystawia drugi zespół w barażach?"
          ],
          [
           "@anonymized_account personalnie do tej Pani, przyjrzyj się sobie @anonymized_account @anonymized_account , @anonymized_account @anonymized_account"
          ],
          [
           "Nie wiem, jak Barcelona i Real otrząsną się po utracie tak ważnych piłkarzy, jak Paulinho i Cristiano Ronaldo."
          ],
          [
           "Polska zrealizowala nasze cele w UE na szczycie z nawiązką. Podajcie dalej RT koniecznie potrzebne - dziękuję😊\\nhttps://t.co/OzUaePZLpY"
          ],
          [
           "RT @anonymized_account Polska zrealizowala nasze cele w UE na szczycie z nawiązką. Podajcie dalej RT koniecznie potrzebne - dziękuję😊\\nhttps://t.co/Oz…"
          ],
          [
           "@anonymized_account @anonymized_account @anonymized_account A my nie mamy helikopterów, rakiet, łodzi podwodnych a mamy WOT w którym ja biegam"
          ],
          [
           "@anonymized_account @anonymized_account A czego oczekiwałeś ? Przedłużą z kimś kontrakt to poinformują"
          ],
          [
           "@anonymized_account Jeszcze Podolski od jakiegoś czasu."
          ],
          [
           "Przepraszamy. Nie wpadliśmy na to, że pokazując środkowy palec narodowi, który - ponad podziałami, czci #PW1944, możemy kogoś obrazić. Sorki"
          ],
          [
           "@anonymized_account ahhh myślałam, że na jakieś innej stronie"
          ],
          [
           "@anonymized_account Źle... Miałeś napisać, że nie możesz więcej zdradzić :("
          ],
          [
           "@anonymized_account Pan w tle, z lewej, to z mopem zasuwa? 🖒"
          ],
          [
           "Czy naprawdę trzeba publicznie przyznawać się do nieprzygotowania do meczu, drodzy panowie komentatorzy? (kwestia Sheridana)"
          ],
          [
           "Na tt te beznadziejne gadki o niczym, to już wolę sam ze sobą"
          ],
          [
           "@anonymized_account Pamiętaj, ze ja daleko do ciebie nie mam 😂"
          ],
          [
           "@anonymized_account Pomysł sobie ze ja oblałam bo z pełna świadomością wjebalam się na rondo XD widzisz to taki mały błąd, Ew"
          ],
          [
           "@anonymized_account Jest tej chołoty tutaj całkiem sporo. Napewno się udzielają."
          ],
          [
           "@anonymized_account Hejka, hejka, sejonarka w czwartek o 11 juz do domku"
          ],
          [
           "@anonymized_account @anonymized_account Mistrz, człowiek mem jedyny na świecie"
          ],
          [
           "@anonymized_account @anonymized_account @anonymized_account York czy Leszek Miller? :)"
          ],
          [
           "@anonymized_account Kiedys kazdy kopniak bez piłki = czerwona, a jeśli to było tylko położenie ręki na głowę, to nie mamy o czym rozmawiac :)"
          ],
          [
           "Morawieckiemu coś nie idzie w Namysłowie. Teraz jako były prezes BZK WBK przedstawia się jaki ten, który zwalcza \\\"zachodnie korporacje\\\"."
          ],
          [
           "RT @anonymized_account Morawieckiemu coś nie idzie w Namysłowie. Teraz jako były prezes BZK WBK przedstawia się jaki ten, który zwalcza \\\"zacho…"
          ],
          [
           "@anonymized_account No widzisz, a zwycięską asystę w tym meczu zanotował Griezmann. MVP = najbardziej wartościowy zawodnik :)"
          ],
          [
           "@anonymized_account do domu bo ci rózga dupę @anonymized_account ty mały  @anonymized_account"
          ],
          [
           "Jak go pierwszy raz usłyszałam to miałam ciarki na całym ciele"
          ],
          [
           "@anonymized_account kibice nigdy nie pozwolą na to żeby po raz kolejny był trenerem"
          ],
          [
           "Teraz zarykam nos i mowie \\\"cała polska z was sie śmieje, komuniści i zlodzieje,"
          ],
          [
           "@anonymized_account Jego tata tłumaczył konferencję przy okazji meczu z Rio Ave w Vila do Conde :)"
          ],
          [
           "@anonymized_account a wyśmiewanie Lionela M. było po skazaniu go za oszustwa podatkowe ? bo jakoś przeoczyłem"
          ],
          [
           "@anonymized_account @anonymized_account @anonymized_account życzę Gatcie mistrza bo zasługują na to grając 2 sezony na wysokim poziomie."
          ],
          [
           "@anonymized_account Plakat widzę tak @anonymized_account z  @anonymized_account wymiana spojrzeń  a @anonymized_account na kolanach liże ich po stopach"
          ],
          [
           "@anonymized_account Pana zdanie nie interesuje Polaków ❗\\nWypchaj się Pan niemiecką, śmierdzącą onucą ❗"
          ],
          [
           "RT @anonymized_account @anonymized_account Pana zdanie nie interesuje Polaków ❗\\nWypchaj się Pan niemiecką, śmierdzącą onucą ❗"
          ],
          [
           "@anonymized_account @anonymized_account Mógł, ale jakoś nie chce mi się wierzyć, że tak to wyglądało."
          ],
          [
           "em ok wątek Jerzego i Zuzy w Przyjaciółkach to najlepsze co tam było kiedykolwiek"
          ],
          [
           "RT @anonymized_account @anonymized_account Giertych: myślę, że myślę."
          ],
          [
           "Ostatnio się zrobiłam polityczna chyba studia weszły mi za mocno"
          ],
          [
           "@anonymized_account Badziewny zespół, a i tak Anglicy byli o krok od straty punktów :)"
          ],
          [
           "@anonymized_account nawet pasy to dla was za duże wyzwanie co widać po twoim profilowym.Mistrzowie opraw."
          ],
          [
           "@anonymized_account nie chodziło mi o to że się cieszyłeś z upadku Wisły tylko że masz czarny humor :) że się z Wisły na Chojnice przerzuciłem :)"
          ],
          [
           "Ta drużyna powstała za czasów PO-PSL."
          ],
          [
           "RT @anonymized_account Ta drużyna powstała za czasów PO-PSL."
          ],
          [
           "@anonymized_account Hołd to się oddaje bohaterom...."
          ],
          [
           "@anonymized_account @anonymized_account  a co ma procent zapelnienia pojemnosci do frekwencji ? Po za tym co to jest 50% na takim malym stadionie ?"
          ],
          [
           "Spółka srebrna kapitał  7 mln,  w zarządzie sekretarka i kierowca Jarkacza"
          ],
          [
           "@anonymized_account Haha  a ilu ty zapraszasz do studia co pierd...takie głupoty..."
          ],
          [
           "RT @anonymized_account @anonymized_account Haha  a ilu ty zapraszasz do studia co pierd...takie głupoty..."
          ],
          [
           "Kto chce zrobić ze mna tea party??"
          ],
          [
           "@anonymized_account Ale za to wystąpił równie błyskotliwy,inteligentny, merytoryczny,bystry poseł Kieeerwiiinski!!!"
          ],
          [
           "@anonymized_account No gdzie, wszystko zależało od Lecha w ostatniej kolejce :D"
          ],
          [
           "Moja morda to takie spierdolenie ze zaraz rykne"
          ],
          [
           "RT @anonymized_account Moja morda to takie spierdolenie ze zaraz rykne"
          ],
          [
           "@anonymized_account @anonymized_account No w różnych miejscach ludzie seks uprawiają. Dajcie spokój..."
          ],
          [
           "@anonymized_account Ok boli, boli. Czarne katabasy, mordercy irlandzkich kobiet i sierot do kruchty i pokutować do końca życia za swoje występki."
          ],
          [
           "Czemu żaden tramwaj nie jedzie wtf"
          ],
          [
           "@anonymized_account Tak, statystyki to kłamstwa. Za to wyciągnięcie jednej sytuacji z 90 minutowego meczu to bezcenny dowód."
          ],
          [
           "@anonymized_account @anonymized_account Zamiast tego można znaleźć grafiki na różnych ekranach / telebimach w mieście."
          ],
          [
           "@anonymized_account Niby sami świnie, a nic nie wiedzą"
          ],
          [
           "@anonymized_account Ale co to ma do Mystka?"
          ],
          [
           "@anonymized_account Serio chcecie cichego stadionu ?"
          ],
          [
           "Co to miało być? 😂"
          ],
          [
           "@anonymized_account tego się niespodziewałem po Tobie... Zawiodłeś nas :D @anonymized_account"
          ]
         ],
         "hovertemplate": "x=%{x}<br>y=%{y}<br>text=%{customdata[0]}<br>label=%{marker.color}<extra></extra>",
         "legendgroup": "",
         "marker": {
          "color": [
           0,
           0,
           0,
           0,
           0,
           0,
           0,
           0,
           0,
           2,
           0,
           0,
           0,
           0,
           0,
           0,
           0,
           0,
           0,
           0,
           0,
           2,
           0,
           0,
           0,
           0,
           0,
           0,
           0,
           0,
           0,
           0,
           0,
           0,
           0,
           0,
           0,
           0,
           0,
           2,
           0,
           0,
           0,
           0,
           1,
           0,
           0,
           0,
           0,
           0,
           0,
           0,
           0,
           1,
           0,
           0,
           0,
           0,
           0,
           0,
           0,
           0,
           0,
           0,
           0,
           0,
           0,
           0,
           0,
           0,
           0,
           0,
           0,
           0,
           0,
           0,
           0,
           0,
           0,
           0,
           0,
           0,
           0,
           0,
           0,
           0,
           0,
           0,
           0,
           0,
           0,
           0,
           0,
           0,
           0,
           0,
           0,
           0,
           0,
           0,
           0,
           0,
           0,
           0,
           0,
           0,
           0,
           2,
           0,
           0,
           0,
           0,
           0,
           0,
           0,
           0,
           0,
           2,
           0,
           0,
           0,
           0,
           0,
           0,
           0,
           0,
           0,
           0,
           0,
           0,
           0,
           0,
           0,
           0,
           2,
           0,
           2,
           0,
           0,
           0,
           2,
           0,
           0,
           0,
           0,
           0,
           0,
           0,
           0,
           0,
           0,
           0,
           0,
           1,
           1,
           0,
           2,
           0,
           0,
           0,
           2,
           1,
           0,
           0,
           0,
           0,
           0,
           0,
           0,
           0,
           0,
           0,
           0,
           0,
           0,
           0,
           0,
           0,
           0,
           0,
           0,
           0,
           0,
           0,
           0,
           0,
           0,
           1,
           1,
           0,
           0,
           0,
           2,
           2,
           0,
           0,
           0,
           2,
           0,
           0,
           0,
           0,
           0,
           0,
           0,
           0,
           0,
           0,
           0,
           0,
           0,
           2,
           0,
           0,
           0,
           0,
           1,
           0,
           0,
           0,
           0,
           0,
           0,
           0,
           0,
           0,
           0,
           0,
           0,
           0,
           0,
           0,
           0,
           0,
           0,
           0,
           0,
           0,
           0,
           0,
           0,
           0,
           0,
           0,
           0,
           0,
           0,
           0,
           0,
           0,
           0,
           0,
           1,
           0,
           0,
           0,
           0,
           1,
           0,
           0,
           0,
           0,
           0,
           0,
           0,
           0,
           0,
           0,
           0,
           2,
           2,
           2,
           2,
           0,
           0,
           0,
           0,
           0,
           2,
           0,
           0,
           0,
           0,
           0,
           0,
           0,
           0,
           0,
           0,
           0,
           0,
           0,
           0,
           0,
           0,
           0,
           0,
           2,
           2,
           0,
           0,
           0,
           0,
           1,
           0,
           0,
           0,
           0,
           0,
           0,
           0,
           0,
           0,
           0,
           0,
           0,
           2,
           2,
           0,
           0,
           0,
           0,
           0,
           0,
           0,
           0,
           0,
           0,
           0,
           0,
           0,
           1,
           0,
           0,
           0,
           0,
           1,
           0,
           0,
           0,
           0,
           0,
           0,
           0,
           0,
           0,
           0,
           0,
           0,
           0,
           0,
           0,
           0,
           0,
           0,
           0,
           0,
           0,
           0,
           0,
           0,
           0,
           0,
           0,
           0,
           0,
           0,
           0,
           0,
           2,
           0,
           0,
           0,
           0,
           0,
           0,
           0,
           0,
           0,
           0,
           0,
           0,
           2,
           2,
           0,
           0,
           0,
           0,
           2,
           2,
           0,
           0,
           0,
           0,
           0,
           0,
           0,
           0,
           0,
           0,
           0,
           0,
           0,
           0,
           0,
           0,
           0,
           0,
           0,
           0,
           0,
           0,
           0,
           0,
           0,
           0,
           0,
           0,
           0,
           0,
           0,
           0,
           0,
           0,
           0,
           2,
           0,
           0,
           0,
           0,
           0,
           0,
           0,
           1,
           0,
           0,
           0,
           0,
           0,
           2,
           0,
           0,
           0,
           0,
           0,
           0,
           0,
           0,
           0,
           0,
           0,
           0,
           0,
           0,
           0,
           0,
           0,
           2,
           2,
           0,
           0,
           0,
           0,
           0,
           0,
           0,
           0,
           0,
           0,
           0,
           0,
           0,
           0,
           0,
           0,
           0,
           0,
           0,
           0,
           2,
           0,
           0,
           0,
           0,
           0,
           0,
           0,
           0,
           0,
           0,
           0,
           0,
           0,
           0,
           0,
           0,
           0,
           0,
           0,
           0,
           0,
           0,
           0,
           0,
           0,
           2,
           2,
           0,
           0,
           0,
           0,
           0,
           0,
           1,
           0,
           0,
           0,
           0,
           0,
           0,
           2,
           0,
           0,
           0,
           2,
           0,
           0,
           0,
           0,
           0,
           0,
           0,
           0,
           0,
           0,
           0,
           0,
           0,
           0,
           0,
           0,
           0,
           0,
           0,
           0,
           0,
           0,
           0,
           0,
           0,
           0,
           0,
           0,
           0,
           0,
           0,
           0,
           0,
           0,
           2,
           0,
           0,
           2,
           0,
           0,
           0,
           2,
           2,
           2,
           0,
           0,
           0,
           0,
           0,
           0,
           0,
           0,
           0,
           0,
           0,
           0,
           0,
           0,
           0,
           0,
           0,
           0,
           0,
           0,
           0,
           0,
           0,
           0,
           0,
           0,
           0,
           0,
           0
          ],
          "coloraxis": "coloraxis",
          "symbol": "circle"
         },
         "mode": "markers",
         "name": "",
         "orientation": "v",
         "showlegend": false,
         "type": "scatter",
         "x": [
          3.1618309020996094,
          -3.8789069652557373,
          -17.174402236938477,
          -16.12397575378418,
          4.298535346984863,
          13.57029914855957,
          14.349091529846191,
          17.215253829956055,
          2.256882905960083,
          -14.736557960510254,
          -17.2434139251709,
          -12.534588813781738,
          -0.9743331670761108,
          -13.255733489990234,
          -9.201655387878418,
          -18.467517852783203,
          -18.391521453857422,
          5.089404106140137,
          -6.681649208068848,
          -24.752857208251953,
          -5.69856071472168,
          -0.0968342125415802,
          0.17975807189941406,
          9.020166397094727,
          11.479377746582031,
          9.951895713806152,
          -10.336043357849121,
          11.854196548461914,
          12.961981773376465,
          10.018033981323242,
          22.70861053466797,
          22.715375900268555,
          -13.969892501831055,
          -19.750587463378906,
          17.912282943725586,
          16.9097843170166,
          9.723512649536133,
          3.6023552417755127,
          13.493610382080078,
          -3.7152657508850098,
          -6.5093770027160645,
          -6.51447868347168,
          -15.855525970458984,
          -1.087195634841919,
          5.960366249084473,
          -13.117616653442383,
          5.853503227233887,
          7.4314680099487305,
          12.296340942382812,
          -22.398426055908203,
          -22.387958526611328,
          1.0424244403839111,
          -18.09494400024414,
          16.661794662475586,
          15.750534057617188,
          3.2267556190490723,
          0.3697996735572815,
          15.398350715637207,
          9.259764671325684,
          -3.6547281742095947,
          -13.999444007873535,
          -5.9482102394104,
          -6.233059406280518,
          11.699033737182617,
          -7.980016231536865,
          -18.482303619384766,
          -10.267986297607422,
          7.806138515472412,
          -6.682426929473877,
          -1.1351995468139648,
          12.553696632385254,
          -18.697750091552734,
          -2.9440174102783203,
          6.007632255554199,
          -13.231356620788574,
          -9.794967651367188,
          -14.449353218078613,
          9.971097946166992,
          -0.1966019719839096,
          0.6670706272125244,
          -3.6393020153045654,
          -26.595539093017578,
          -4.537623405456543,
          -5.015341758728027,
          -4.96086311340332,
          12.604567527770996,
          -6.917648792266846,
          -17.906286239624023,
          -17.917911529541016,
          -9.11750602722168,
          -6.555814743041992,
          -6.311221122741699,
          -18.192060470581055,
          -14.60569953918457,
          8.228500366210938,
          0.26726123690605164,
          -3.1777117252349854,
          -11.59000301361084,
          -11.813725471496582,
          -6.240874767303467,
          10.298052787780762,
          -6.227147579193115,
          -8.911816596984863,
          14.140519142150879,
          -10.16259765625,
          -4.030680179595947,
          18.561403274536133,
          6.118236064910889,
          11.30751895904541,
          -14.009561538696289,
          -2.501370906829834,
          -2.5706231594085693,
          -28.052452087402344,
          -28.051057815551758,
          1.1991215944290161,
          12.442831993103027,
          -18.70940399169922,
          -20.11216163635254,
          20.870197296142578,
          -8.777393341064453,
          -10.980623245239258,
          -11.007654190063477,
          10.852378845214844,
          6.304081916809082,
          -16.416284561157227,
          10.949110984802246,
          10.150591850280762,
          1.9638673067092896,
          13.432466506958008,
          -15.50108814239502,
          8.139719009399414,
          -10.867457389831543,
          15.483131408691406,
          2.0761895179748535,
          -2.954373359680176,
          -0.29616498947143555,
          -5.471871852874756,
          -10.153424263000488,
          -10.169241905212402,
          -4.805463790893555,
          2.364874839782715,
          -18.082883834838867,
          12.398098945617676,
          -15.819879531860352,
          1.945204257965088,
          -11.556443214416504,
          12.09074878692627,
          12.047210693359375,
          -17.414953231811523,
          -17.76666259765625,
          -18.599716186523438,
          9.386239051818848,
          7.826773643493652,
          6.343659400939941,
          6.297962188720703,
          -1.435689926147461,
          6.365653038024902,
          -17.1119384765625,
          2.8066093921661377,
          13.04610538482666,
          14.65284538269043,
          11.448859214782715,
          4.149858474731445,
          7.025625705718994,
          9.41225814819336,
          17.348886489868164,
          14.942983627319336,
          -0.7808319926261902,
          19.423593521118164,
          -1.246250033378601,
          -9.628073692321777,
          -10.909812927246094,
          -5.915914535522461,
          13.362761497497559,
          4.5289740562438965,
          14.631131172180176,
          -4.318521499633789,
          3.8146119117736816,
          17.29005241394043,
          2.016345977783203,
          15.802469253540039,
          -0.04062487930059433,
          -0.05314137414097786,
          -13.600295066833496,
          -16.634931564331055,
          -7.202750205993652,
          14.52318000793457,
          -13.035124778747559,
          -13.103734016418457,
          4.197226047515869,
          2.1934595108032227,
          7.070520877838135,
          7.062119960784912,
          2.0526251792907715,
          12.460034370422363,
          2.752394676208496,
          7.748365879058838,
          -10.632534980773926,
          -19.694631576538086,
          13.880481719970703,
          12.391849517822266,
          5.738070011138916,
          1.3673949241638184,
          -20.987163543701172,
          -20.987529754638672,
          9.677324295043945,
          10.448091506958008,
          3.1872575283050537,
          -2.2462940216064453,
          -14.806307792663574,
          5.321934223175049,
          -7.967014312744141,
          25.377470016479492,
          15.883109092712402,
          -9.882821083068848,
          14.743820190429688,
          -21.605443954467773,
          16.342695236206055,
          5.4193034172058105,
          23.77056121826172,
          4.624534606933594,
          23.701866149902344,
          -7.324614524841309,
          22.6488094329834,
          1.578902006149292,
          0.17522653937339783,
          0.9379889965057373,
          -3.8567943572998047,
          -8.106109619140625,
          -10.901237487792969,
          23.6953125,
          9.612374305725098,
          8.221235275268555,
          11.842679023742676,
          4.756143093109131,
          -7.892502307891846,
          1.3946353197097778,
          2.7787654399871826,
          8.553790092468262,
          18.362531661987305,
          -6.333151340484619,
          2.9862937927246094,
          -23.900712966918945,
          -23.88016700744629,
          -14.354754447937012,
          -14.99019718170166,
          3.4452903270721436,
          6.072153568267822,
          -12.311452865600586,
          -15.015120506286621,
          8.188945770263672,
          19.31267547607422,
          -17.224573135375977,
          0.2413807064294815,
          0.1377916783094406,
          -10.345502853393555,
          16.817476272583008,
          3.6670236587524414,
          13.01551342010498,
          -0.5051065683364868,
          4.3653106689453125,
          -3.380807638168335,
          -12.251911163330078,
          16.432819366455078,
          -18.43195152282715,
          -18.063947677612305,
          -20.850744247436523,
          -20.854915618896484,
          -19.870182037353516,
          15.315018653869629,
          4.603707313537598,
          3.3108274936676025,
          -8.609109878540039,
          -13.812973022460938,
          10.168158531188965,
          15.409252166748047,
          13.75094223022461,
          -16.346426010131836,
          4.639848709106445,
          -20.254838943481445,
          -17.818456649780273,
          -1.384784460067749,
          -4.052642345428467,
          7.193218231201172,
          7.091152667999268,
          1.2648862600326538,
          -13.080266952514648,
          4.395518779754639,
          1.9251292943954468,
          -10.51726245880127,
          12.72262954711914,
          -1.421290397644043,
          11.52579116821289,
          -1.9964613914489746,
          -10.924161911010742,
          -20.227493286132812,
          -1.4202409982681274,
          17.322301864624023,
          10.130105972290039,
          -2.9541919231414795,
          14.934438705444336,
          1.0103453397750854,
          12.197736740112305,
          3.578857898712158,
          9.026233673095703,
          -2.7808339595794678,
          -2.8230509757995605,
          8.887518882751465,
          3.602597951889038,
          -15.51177978515625,
          -0.07570437341928482,
          13.338412284851074,
          14.193702697753906,
          -13.508712768554688,
          11.366801261901855,
          10.423969268798828,
          -22.181663513183594,
          -22.11089324951172,
          -22.972848892211914,
          1.6545966863632202,
          1.551939845085144,
          15.994492530822754,
          -6.576082229614258,
          -6.040513038635254,
          -10.247871398925781,
          10.398233413696289,
          -10.666557312011719,
          -7.750085353851318,
          17.15412712097168,
          2.9530677795410156,
          -12.651300430297852,
          -3.6160364151000977,
          24.219938278198242,
          -9.948158264160156,
          -13.248600959777832,
          -6.062920093536377,
          -17.341129302978516,
          4.918456077575684,
          -3.3839569091796875,
          15.177850723266602,
          -3.5432748794555664,
          10.23542308807373,
          12.78515338897705,
          9.368605613708496,
          -20.49095916748047,
          -20.48109245300293,
          -1.8387433290481567,
          -10.170230865478516,
          7.562105655670166,
          -5.359764099121094,
          18.197689056396484,
          18.847585678100586,
          -10.380800247192383,
          -15.480035781860352,
          20.82541275024414,
          14.707289695739746,
          18.801307678222656,
          -4.853247165679932,
          9.980813026428223,
          -10.1320219039917,
          -0.4920671582221985,
          0.8670443296432495,
          -8.197829246520996,
          -13.715256690979004,
          6.395859718322754,
          15.388289451599121,
          15.272335052490234,
          -16.74432945251465,
          -1.5629302263259888,
          4.076020240783691,
          -6.199113368988037,
          8.370587348937988,
          2.296398639678955,
          11.305556297302246,
          7.8215765953063965,
          -12.5398530960083,
          19.532808303833008,
          8.207170486450195,
          9.58459186553955,
          1.7343347072601318,
          4.737700939178467,
          7.236852645874023,
          -13.24152946472168,
          -13.225746154785156,
          -1.6713635921478271,
          5.013000965118408,
          1.6461297273635864,
          -5.415408611297607,
          -11.75387191772461,
          -11.777854919433594,
          -2.31289005279541,
          -0.8138179183006287,
          14.584100723266602,
          6.358098030090332,
          -15.703590393066406,
          -15.696440696716309,
          -13.87807559967041,
          0.16764262318611145,
          9.829882621765137,
          14.593222618103027,
          2.6707935333251953,
          17.76209259033203,
          5.619737148284912,
          -7.232110500335693,
          -0.6724134683609009,
          -25.195127487182617,
          -25.195301055908203,
          14.277938842773438,
          -17.559480667114258,
          4.763827323913574,
          17.629985809326172,
          2.5102202892303467,
          22.668397903442383,
          -8.040095329284668,
          9.990147590637207,
          20.039730072021484,
          7.504707336425781,
          11.14100170135498,
          16.057132720947266,
          -8.070868492126465,
          23.962556838989258,
          23.908021926879883,
          -16.061628341674805,
          11.27216911315918,
          8.538687705993652,
          7.487873554229736,
          -3.747912645339966,
          -3.7520883083343506,
          -0.06903363764286041,
          -0.1416216492652893,
          9.587462425231934,
          9.497203826904297,
          -19.375991821289062,
          -12.366326332092285,
          -4.102109432220459,
          -16.748395919799805,
          -15.79029655456543,
          -0.08462933450937271,
          -8.830818176269531,
          -8.635000228881836,
          -14.568338394165039,
          3.9743077754974365,
          -7.706377983093262,
          -25.26764678955078,
          -25.246623992919922,
          -3.315277576446533,
          17.11728286743164,
          -25.017953872680664,
          12.219646453857422,
          16.82468032836914,
          9.53237533569336,
          -16.27519416809082,
          6.448991775512695,
          8.047202110290527,
          8.011321067810059,
          -4.812816143035889,
          16.450040817260742,
          -10.5585298538208,
          1.311885118484497,
          3.6590399742126465,
          -13.579290390014648,
          13.215788841247559,
          16.360698699951172,
          1.626289963722229,
          -1.4663853645324707,
          4.8442487716674805,
          6.340195178985596,
          -4.931217670440674,
          -10.81102180480957,
          5.645547866821289,
          4.959329605102539,
          -14.477994918823242,
          -19.15766716003418,
          20.51483154296875,
          12.528549194335938,
          -3.7628250122070312,
          -16.368860244750977,
          4.520432949066162,
          -11.781257629394531,
          3.6717724800109863,
          -11.159612655639648,
          2.255147933959961,
          -16.922956466674805,
          -11.008007049560547,
          8.07091236114502,
          8.521506309509277,
          15.056760787963867,
          15.33332347869873,
          6.520781517028809,
          -14.482908248901367,
          10.578519821166992,
          -9.45666790008545,
          11.209672927856445,
          6.0932230949401855,
          2.3091864585876465,
          -24.55556297302246,
          -24.541589736938477,
          -3.98571515083313,
          -3.301997661590576,
          -2.737677574157715,
          -5.664515972137451,
          6.689025402069092,
          -20.93766975402832,
          19.186046600341797,
          17.466291427612305,
          5.907171249389648,
          5.884777545928955,
          7.918832302093506,
          -7.827000617980957,
          8.911863327026367,
          11.51444149017334,
          7.817206382751465,
          12.375911712646484,
          11.883185386657715,
          6.820135593414307,
          5.176202297210693,
          9.344256401062012,
          -17.350093841552734,
          4.850672245025635,
          -19.168071746826172,
          -0.13397431373596191,
          6.274693489074707,
          10.247594833374023,
          -10.34093189239502,
          -21.0396728515625,
          16.862751007080078,
          0.1884172409772873,
          -12.600202560424805,
          -22.99669075012207,
          3.0333902835845947,
          4.051271438598633,
          -10.438817977905273,
          -0.27000749111175537,
          -11.121679306030273,
          1.8746954202651978,
          8.642951011657715,
          -16.38418197631836,
          13.593064308166504,
          -4.736647605895996,
          -4.751167297363281,
          -6.053203105926514,
          5.179539203643799,
          -8.638376235961914,
          -1.0496913194656372,
          19.309404373168945,
          5.723336219787598,
          -0.6843600869178772,
          8.416901588439941,
          14.99864673614502,
          10.355639457702637,
          11.586591720581055,
          6.216439723968506,
          -6.022481441497803,
          -20.242225646972656,
          -19.581233978271484,
          10.466775894165039,
          -2.5087246894836426,
          -2.496428966522217,
          -8.121020317077637,
          -3.330514907836914,
          20.495380401611328,
          20.196550369262695,
          -13.353890419006348,
          -13.005980491638184,
          3.3597819805145264,
          -5.88055419921875,
          -7.267571449279785,
          -1.0881519317626953,
          -1.113721251487732,
          15.908190727233887,
          13.774653434753418,
          -15.802277565002441,
          22.672029495239258,
          -7.5831298828125,
          11.34150218963623,
          11.702818870544434,
          -25.99577522277832,
          -26.036540985107422,
          -5.823916435241699,
          3.2099218368530273,
          -11.536674499511719,
          2.831129550933838,
          2.7525603771209717,
          0.4954235851764679,
          -3.7952373027801514,
          -8.007227897644043,
          10.575153350830078,
          10.537216186523438,
          -12.238449096679688,
          -12.516969680786133,
          19.07723045349121,
          1.2625142335891724,
          -8.242953300476074,
          13.180490493774414,
          4.63156270980835,
          -16.866464614868164,
          5.62435245513916,
          -8.094666481018066
         ],
         "xaxis": "x",
         "y": [
          13.726524353027344,
          -10.912703514099121,
          1.4885505437850952,
          -12.745790481567383,
          11.790064811706543,
          -6.391862392425537,
          -1.5470255613327026,
          14.186989784240723,
          13.404399871826172,
          -18.627416610717773,
          -19.608034133911133,
          -12.098226547241211,
          15.058850288391113,
          -4.3863844871521,
          0.5489920973777771,
          0.7782750725746155,
          0.7519016265869141,
          -7.14833402633667,
          14.635964393615723,
          -7.547289848327637,
          9.399733543395996,
          -15.616661071777344,
          7.7931227684021,
          -5.822627544403076,
          -5.716988563537598,
          -15.311059951782227,
          -2.048410654067993,
          -11.01600170135498,
          -2.6066651344299316,
          0.48059120774269104,
          15.487927436828613,
          15.492416381835938,
          10.811712265014648,
          -16.334287643432617,
          5.94184684753418,
          4.095304012298584,
          4.501517295837402,
          -4.434582710266113,
          -12.586992263793945,
          9.431215286254883,
          -3.9993155002593994,
          -4.041436195373535,
          -4.257277488708496,
          -18.865177154541016,
          0.4146757125854492,
          7.563570499420166,
          -7.783592700958252,
          22.396137237548828,
          -7.860110282897949,
          2.32429575920105,
          2.328488826751709,
          4.307482719421387,
          -6.016602039337158,
          14.66425609588623,
          12.34170913696289,
          19.22432518005371,
          -10.079384803771973,
          3.205885171890259,
          -5.1976423263549805,
          18.17789649963379,
          14.570988655090332,
          4.881901741027832,
          -0.5763998031616211,
          -2.9006779193878174,
          -1.4069395065307617,
          -15.142417907714844,
          18.824264526367188,
          -3.26401686668396,
          -12.909899711608887,
          9.559682846069336,
          5.7161641120910645,
          -11.934930801391602,
          14.992470741271973,
          15.150662422180176,
          -18.775775909423828,
          1.866256594657898,
          4.176107406616211,
          20.436697006225586,
          0.6778188347816467,
          23.065048217773438,
          -7.702735424041748,
          4.531080722808838,
          -6.0288519859313965,
          7.396999835968018,
          7.441344738006592,
          -15.188602447509766,
          -22.100597381591797,
          -7.458430767059326,
          -7.515311241149902,
          -15.286944389343262,
          -11.058387756347656,
          11.939274787902832,
          -17.983888626098633,
          -13.219266891479492,
          15.196622848510742,
          11.36674690246582,
          1.408733606338501,
          15.889826774597168,
          5.664126873016357,
          6.533340930938721,
          14.349020957946777,
          3.298588752746582,
          2.0982582569122314,
          11.83426570892334,
          -11.630703926086426,
          3.2508416175842285,
          8.02953052520752,
          7.078150749206543,
          0.8955636024475098,
          5.522248268127441,
          -3.840864419937134,
          -3.8452398777008057,
          -1.005914568901062,
          -1.0083328485488892,
          10.410796165466309,
          1.9727030992507935,
          -3.489825963973999,
          -14.045366287231445,
          9.109295845031738,
          -9.723891258239746,
          17.46798324584961,
          17.554786682128906,
          12.421929359436035,
          -11.001143455505371,
          -18.183975219726562,
          -4.0377607345581055,
          -2.0618255138397217,
          19.25017738342285,
          7.431597709655762,
          -16.505306243896484,
          18.14073371887207,
          -5.53864049911499,
          -3.002424478530884,
          -10.758672714233398,
          -13.27122974395752,
          -6.432204246520996,
          1.6662017107009888,
          -9.975489616394043,
          5.669865131378174,
          13.634973526000977,
          -2.8746941089630127,
          -16.137054443359375,
          -0.38230112195014954,
          -1.5178879499435425,
          1.4194698333740234,
          -16.171472549438477,
          21.239877700805664,
          21.211063385009766,
          -13.819490432739258,
          -2.9314486980438232,
          -18.0130672454834,
          0.46869131922721863,
          8.411689758300781,
          -17.571044921875,
          -17.555171966552734,
          -0.9664380550384521,
          3.9528281688690186,
          -10.743021011352539,
          1.860943078994751,
          4.17146635055542,
          16.89508628845215,
          6.724856376647949,
          15.292709350585938,
          8.12271499633789,
          -13.592535972595215,
          10.748129844665527,
          0.33795133233070374,
          20.1314697265625,
          12.25714111328125,
          -11.40712833404541,
          -10.570597648620605,
          5.326019763946533,
          -8.511734962463379,
          -9.668075561523438,
          1.6853008270263672,
          14.652438163757324,
          -9.958154678344727,
          5.4493303298950195,
          5.5916056632995605,
          -1.3352134227752686,
          -10.939265251159668,
          -2.855576753616333,
          -2.86651873588562,
          -18.7535400390625,
          4.304232597351074,
          -19.814411163330078,
          -2.7669973373413086,
          9.977254867553711,
          9.98553466796875,
          -15.174880027770996,
          7.742497444152832,
          -14.599194526672363,
          23.626873016357422,
          -4.224542140960693,
          12.786248207092285,
          -12.65208911895752,
          11.580236434936523,
          8.423416137695312,
          4.428611755371094,
          9.863737106323242,
          8.445709228515625,
          14.533291816711426,
          14.868185043334961,
          4.387116432189941,
          4.371464729309082,
          3.425469398498535,
          2.145961046218872,
          19.05755615234375,
          1.3513456583023071,
          -4.559004783630371,
          17.178071975708008,
          -11.38128662109375,
          -1.0983399152755737,
          -11.982834815979004,
          10.695863723754883,
          0.32189372181892395,
          -10.598723411560059,
          9.207148551940918,
          13.007390022277832,
          0.5407513380050659,
          4.682785987854004,
          5.291147232055664,
          -18.658889770507812,
          -3.0313303470611572,
          -8.915496826171875,
          10.444894790649414,
          -20.400846481323242,
          -6.3022918701171875,
          -7.625503063201904,
          3.115325927734375,
          9.070180892944336,
          9.105579376220703,
          -1.3114006519317627,
          11.704275131225586,
          -3.203721046447754,
          10.213580131530762,
          23.404390335083008,
          -9.331792831420898,
          -1.002340316772461,
          17.379663467407227,
          -14.113017082214355,
          -8.264350891113281,
          -2.1690475940704346,
          -2.2184956073760986,
          -14.9021635055542,
          -11.413572311401367,
          -2.1553502082824707,
          4.4119062423706055,
          -4.805300712585449,
          -21.82852554321289,
          8.959179878234863,
          12.748480796813965,
          -23.057113647460938,
          -12.994089126586914,
          -13.02389907836914,
          -0.7265257239341736,
          -4.7851386070251465,
          8.254335403442383,
          -2.0999040603637695,
          3.913309097290039,
          10.956770896911621,
          -6.274969577789307,
          18.1961612701416,
          6.559361934661865,
          -21.04867935180664,
          -13.376704216003418,
          14.754535675048828,
          14.750273704528809,
          -1.264704942703247,
          11.168960571289062,
          9.848694801330566,
          10.455321311950684,
          16.432907104492188,
          -6.921817302703857,
          -11.379162788391113,
          -2.1607000827789307,
          6.126483917236328,
          -15.2470064163208,
          -1.3121098279953003,
          -5.108148574829102,
          -17.18214988708496,
          -6.665968894958496,
          -3.9968924522399902,
          5.860851764678955,
          5.84621000289917,
          -6.796688556671143,
          -15.117834091186523,
          18.91641616821289,
          9.193367004394531,
          -2.1919198036193848,
          2.7102725505828857,
          -8.60368824005127,
          17.86236000061035,
          21.820466995239258,
          6.884756565093994,
          -7.75938606262207,
          -13.748906135559082,
          8.436205863952637,
          10.536026954650879,
          3.138054609298706,
          -4.185187816619873,
          13.324012756347656,
          -9.44758129119873,
          -4.664098262786865,
          -14.380014419555664,
          -1.3883230686187744,
          -1.3917036056518555,
          3.5765628814697266,
          4.627499580383301,
          -5.891001224517822,
          -6.496408939361572,
          -3.434988260269165,
          15.183930397033691,
          -20.140052795410156,
          18.090848922729492,
          6.5559797286987305,
          -11.846579551696777,
          -11.798314094543457,
          -3.5556914806365967,
          -21.287029266357422,
          -19.173965454101562,
          20.004837036132812,
          18.263864517211914,
          4.1208953857421875,
          -20.63896942138672,
          7.861449718475342,
          4.084646224975586,
          0.05554406717419624,
          -0.518161416053772,
          6.548959732055664,
          -17.898595809936523,
          -16.35106086730957,
          -5.546561241149902,
          -23.5426025390625,
          -23.308408737182617,
          -14.906761169433594,
          -21.996009826660156,
          7.6255412101745605,
          14.103588104248047,
          10.410847663879395,
          -13.833505630493164,
          6.068750381469727,
          7.6441569328308105,
          11.415263175964355,
          9.293771743774414,
          9.264979362487793,
          -10.504343032836914,
          -7.252570629119873,
          1.437584400177002,
          -17.526268005371094,
          -1.487587809562683,
          4.966113567352295,
          -5.719271183013916,
          -15.20677375793457,
          -9.394306182861328,
          5.59922456741333,
          2.9312188625335693,
          1.270758867263794,
          15.760489463806152,
          -20.244211196899414,
          2.583099603652954,
          -13.7524995803833,
          6.782279968261719,
          -20.552888870239258,
          1.7471752166748047,
          -8.017034530639648,
          -8.066506385803223,
          -13.90621280670166,
          5.087801456451416,
          -17.355993270874023,
          -7.3375067710876465,
          11.024087905883789,
          4.995761394500732,
          3.459083318710327,
          2.5828466415405273,
          -8.891465187072754,
          -3.2471201419830322,
          -10.285445213317871,
          1.8506377935409546,
          6.280677318572998,
          0.04135112464427948,
          13.23791217803955,
          14.04060173034668,
          13.95720386505127,
          15.503607749938965,
          24.85390281677246,
          4.342256546020508,
          0.041509952396154404,
          -0.0832875519990921,
          -0.10390427708625793,
          6.740795612335205,
          5.981513977050781,
          -6.462451457977295,
          10.734832763671875,
          5.4047441482543945,
          5.321104049682617,
          -16.978811264038086,
          5.630660533905029,
          -0.8792459964752197,
          8.348753929138184,
          -5.645501136779785,
          0.0629136860370636,
          -9.457551002502441,
          -18.41415786743164,
          12.555197715759277,
          11.58692455291748,
          11.583247184753418,
          1.8897343873977661,
          -2.1252377033233643,
          18.138324737548828,
          -8.581621170043945,
          -12.527955055236816,
          3.8869221210479736,
          8.574623107910156,
          -2.591561794281006,
          -6.039975643157959,
          -12.862380027770996,
          15.421451568603516,
          11.091440200805664,
          -16.818984985351562,
          -4.084465503692627,
          -4.134174346923828,
          -17.626277923583984,
          5.479034900665283,
          -3.5424044132232666,
          3.231802225112915,
          5.626504898071289,
          5.628087043762207,
          -8.811568260192871,
          -8.833791732788086,
          -7.000781536102295,
          -6.956899642944336,
          -17.500038146972656,
          -20.114336013793945,
          11.443137168884277,
          9.16916561126709,
          8.643383026123047,
          9.801424026489258,
          4.571117401123047,
          -13.05655574798584,
          -13.394817352294922,
          3.18153715133667,
          -2.63578462600708,
          -13.91342830657959,
          -13.920385360717773,
          -22.44134521484375,
          10.941039085388184,
          -4.740386486053467,
          10.35595989227295,
          -10.701756477355957,
          -12.351859092712402,
          6.104374408721924,
          -1.4665838479995728,
          -9.073554992675781,
          -9.147882461547852,
          15.803909301757812,
          1.8171806335449219,
          -18.299840927124023,
          1.393449306488037,
          5.777491569519043,
          -0.21293291449546814,
          -5.454214096069336,
          -6.769381046295166,
          -22.312602996826172,
          11.092561721801758,
          -12.367259979248047,
          -3.7482690811157227,
          0.21165484189987183,
          -14.025012016296387,
          6.387384414672852,
          -2.7282488346099854,
          1.9010813236236572,
          -21.06217384338379,
          6.672679424285889,
          0.09152945131063461,
          2.9345059394836426,
          -9.066493034362793,
          20.25153350830078,
          -6.5514421463012695,
          -3.66525936126709,
          1.294085144996643,
          3.4549262523651123,
          -16.61393165588379,
          -18.448780059814453,
          0.8137192130088806,
          5.028505802154541,
          4.413776397705078,
          7.662142276763916,
          -5.667890548706055,
          -3.28434681892395,
          -13.645559310913086,
          -3.3429555892944336,
          9.11296558380127,
          11.366143226623535,
          12.17689037322998,
          -6.207360744476318,
          -6.164395332336426,
          1.3411433696746826,
          -19.405780792236328,
          12.510812759399414,
          -11.830322265625,
          -5.204931735992432,
          -17.73052978515625,
          -6.061626434326172,
          13.174491882324219,
          -21.383283615112305,
          -21.366455078125,
          17.21420669555664,
          4.352255344390869,
          13.104225158691406,
          4.505520343780518,
          -7.165587902069092,
          9.483683586120605,
          15.691756248474121,
          -1.2853537797927856,
          2.3242480754852295,
          6.819328784942627,
          -18.685527801513672,
          -4.583536624908447,
          -8.845251083374023,
          -19.4376220703125,
          -0.1072380393743515,
          -8.690821647644043,
          11.237869262695312,
          -8.990439414978027,
          -3.013788938522339,
          -5.293178558349609,
          -9.405704498291016,
          -17.258766174316406,
          0.09735321998596191,
          7.614051818847656,
          -17.322223663330078,
          -20.329360961914062,
          -3.686706066131592,
          15.847034454345703,
          6.891998291015625,
          -16.019567489624023,
          3.813163995742798,
          -2.7856955528259277,
          -2.833240509033203,
          -13.131197929382324,
          -7.357983589172363,
          11.18830680847168,
          8.00022029876709,
          -12.346576690673828,
          8.956195831298828,
          -16.213199615478516,
          9.982154846191406,
          -5.51785135269165,
          -9.149507522583008,
          -7.621610641479492,
          18.63641357421875,
          -5.167710781097412,
          -22.017255783081055,
          -18.777132034301758,
          0.8568270206451416,
          8.021197319030762,
          7.904642581939697,
          -1.3640918731689453,
          -18.20194435119629,
          0.32429027557373047,
          0.8599979281425476,
          2.51539945602417,
          -0.4506126344203949,
          -9.464558601379395,
          -9.056500434875488,
          -11.375027656555176,
          21.126853942871094,
          21.126436233520508,
          8.71837043762207,
          -7.175504207611084,
          -19.746662139892578,
          3.9536292552948,
          2.272444248199463,
          -0.9844297170639038,
          -6.23606538772583,
          5.946129322052002,
          5.843588352203369,
          21.194351196289062,
          -10.405982971191406,
          -2.0297322273254395,
          -16.101322174072266,
          -16.09588623046875,
          -1.1159827709197998,
          9.493884086608887,
          7.702856540679932,
          -19.266422271728516,
          -19.261688232421875,
          -12.481252670288086,
          4.102566719055176,
          10.30512809753418,
          -7.378992557525635,
          -5.383384704589844,
          13.574908256530762,
          -10.425508499145508,
          12.330154418945312,
          -11.932966232299805,
          14.09792423248291
         ],
         "yaxis": "y"
        }
       ],
       "layout": {
        "coloraxis": {
         "colorbar": {
          "title": {
           "text": "label"
          }
         },
         "colorscale": [
          [
           0,
           "#0d0887"
          ],
          [
           0.1111111111111111,
           "#46039f"
          ],
          [
           0.2222222222222222,
           "#7201a8"
          ],
          [
           0.3333333333333333,
           "#9c179e"
          ],
          [
           0.4444444444444444,
           "#bd3786"
          ],
          [
           0.5555555555555556,
           "#d8576b"
          ],
          [
           0.6666666666666666,
           "#ed7953"
          ],
          [
           0.7777777777777778,
           "#fb9f3a"
          ],
          [
           0.8888888888888888,
           "#fdca26"
          ],
          [
           1,
           "#f0f921"
          ]
         ]
        },
        "legend": {
         "tracegroupgap": 0
        },
        "template": {
         "data": {
          "bar": [
           {
            "error_x": {
             "color": "#2a3f5f"
            },
            "error_y": {
             "color": "#2a3f5f"
            },
            "marker": {
             "line": {
              "color": "#E5ECF6",
              "width": 0.5
             },
             "pattern": {
              "fillmode": "overlay",
              "size": 10,
              "solidity": 0.2
             }
            },
            "type": "bar"
           }
          ],
          "barpolar": [
           {
            "marker": {
             "line": {
              "color": "#E5ECF6",
              "width": 0.5
             },
             "pattern": {
              "fillmode": "overlay",
              "size": 10,
              "solidity": 0.2
             }
            },
            "type": "barpolar"
           }
          ],
          "carpet": [
           {
            "aaxis": {
             "endlinecolor": "#2a3f5f",
             "gridcolor": "white",
             "linecolor": "white",
             "minorgridcolor": "white",
             "startlinecolor": "#2a3f5f"
            },
            "baxis": {
             "endlinecolor": "#2a3f5f",
             "gridcolor": "white",
             "linecolor": "white",
             "minorgridcolor": "white",
             "startlinecolor": "#2a3f5f"
            },
            "type": "carpet"
           }
          ],
          "choropleth": [
           {
            "colorbar": {
             "outlinewidth": 0,
             "ticks": ""
            },
            "type": "choropleth"
           }
          ],
          "contour": [
           {
            "colorbar": {
             "outlinewidth": 0,
             "ticks": ""
            },
            "colorscale": [
             [
              0,
              "#0d0887"
             ],
             [
              0.1111111111111111,
              "#46039f"
             ],
             [
              0.2222222222222222,
              "#7201a8"
             ],
             [
              0.3333333333333333,
              "#9c179e"
             ],
             [
              0.4444444444444444,
              "#bd3786"
             ],
             [
              0.5555555555555556,
              "#d8576b"
             ],
             [
              0.6666666666666666,
              "#ed7953"
             ],
             [
              0.7777777777777778,
              "#fb9f3a"
             ],
             [
              0.8888888888888888,
              "#fdca26"
             ],
             [
              1,
              "#f0f921"
             ]
            ],
            "type": "contour"
           }
          ],
          "contourcarpet": [
           {
            "colorbar": {
             "outlinewidth": 0,
             "ticks": ""
            },
            "type": "contourcarpet"
           }
          ],
          "heatmap": [
           {
            "colorbar": {
             "outlinewidth": 0,
             "ticks": ""
            },
            "colorscale": [
             [
              0,
              "#0d0887"
             ],
             [
              0.1111111111111111,
              "#46039f"
             ],
             [
              0.2222222222222222,
              "#7201a8"
             ],
             [
              0.3333333333333333,
              "#9c179e"
             ],
             [
              0.4444444444444444,
              "#bd3786"
             ],
             [
              0.5555555555555556,
              "#d8576b"
             ],
             [
              0.6666666666666666,
              "#ed7953"
             ],
             [
              0.7777777777777778,
              "#fb9f3a"
             ],
             [
              0.8888888888888888,
              "#fdca26"
             ],
             [
              1,
              "#f0f921"
             ]
            ],
            "type": "heatmap"
           }
          ],
          "heatmapgl": [
           {
            "colorbar": {
             "outlinewidth": 0,
             "ticks": ""
            },
            "colorscale": [
             [
              0,
              "#0d0887"
             ],
             [
              0.1111111111111111,
              "#46039f"
             ],
             [
              0.2222222222222222,
              "#7201a8"
             ],
             [
              0.3333333333333333,
              "#9c179e"
             ],
             [
              0.4444444444444444,
              "#bd3786"
             ],
             [
              0.5555555555555556,
              "#d8576b"
             ],
             [
              0.6666666666666666,
              "#ed7953"
             ],
             [
              0.7777777777777778,
              "#fb9f3a"
             ],
             [
              0.8888888888888888,
              "#fdca26"
             ],
             [
              1,
              "#f0f921"
             ]
            ],
            "type": "heatmapgl"
           }
          ],
          "histogram": [
           {
            "marker": {
             "pattern": {
              "fillmode": "overlay",
              "size": 10,
              "solidity": 0.2
             }
            },
            "type": "histogram"
           }
          ],
          "histogram2d": [
           {
            "colorbar": {
             "outlinewidth": 0,
             "ticks": ""
            },
            "colorscale": [
             [
              0,
              "#0d0887"
             ],
             [
              0.1111111111111111,
              "#46039f"
             ],
             [
              0.2222222222222222,
              "#7201a8"
             ],
             [
              0.3333333333333333,
              "#9c179e"
             ],
             [
              0.4444444444444444,
              "#bd3786"
             ],
             [
              0.5555555555555556,
              "#d8576b"
             ],
             [
              0.6666666666666666,
              "#ed7953"
             ],
             [
              0.7777777777777778,
              "#fb9f3a"
             ],
             [
              0.8888888888888888,
              "#fdca26"
             ],
             [
              1,
              "#f0f921"
             ]
            ],
            "type": "histogram2d"
           }
          ],
          "histogram2dcontour": [
           {
            "colorbar": {
             "outlinewidth": 0,
             "ticks": ""
            },
            "colorscale": [
             [
              0,
              "#0d0887"
             ],
             [
              0.1111111111111111,
              "#46039f"
             ],
             [
              0.2222222222222222,
              "#7201a8"
             ],
             [
              0.3333333333333333,
              "#9c179e"
             ],
             [
              0.4444444444444444,
              "#bd3786"
             ],
             [
              0.5555555555555556,
              "#d8576b"
             ],
             [
              0.6666666666666666,
              "#ed7953"
             ],
             [
              0.7777777777777778,
              "#fb9f3a"
             ],
             [
              0.8888888888888888,
              "#fdca26"
             ],
             [
              1,
              "#f0f921"
             ]
            ],
            "type": "histogram2dcontour"
           }
          ],
          "mesh3d": [
           {
            "colorbar": {
             "outlinewidth": 0,
             "ticks": ""
            },
            "type": "mesh3d"
           }
          ],
          "parcoords": [
           {
            "line": {
             "colorbar": {
              "outlinewidth": 0,
              "ticks": ""
             }
            },
            "type": "parcoords"
           }
          ],
          "pie": [
           {
            "automargin": true,
            "type": "pie"
           }
          ],
          "scatter": [
           {
            "fillpattern": {
             "fillmode": "overlay",
             "size": 10,
             "solidity": 0.2
            },
            "type": "scatter"
           }
          ],
          "scatter3d": [
           {
            "line": {
             "colorbar": {
              "outlinewidth": 0,
              "ticks": ""
             }
            },
            "marker": {
             "colorbar": {
              "outlinewidth": 0,
              "ticks": ""
             }
            },
            "type": "scatter3d"
           }
          ],
          "scattercarpet": [
           {
            "marker": {
             "colorbar": {
              "outlinewidth": 0,
              "ticks": ""
             }
            },
            "type": "scattercarpet"
           }
          ],
          "scattergeo": [
           {
            "marker": {
             "colorbar": {
              "outlinewidth": 0,
              "ticks": ""
             }
            },
            "type": "scattergeo"
           }
          ],
          "scattergl": [
           {
            "marker": {
             "colorbar": {
              "outlinewidth": 0,
              "ticks": ""
             }
            },
            "type": "scattergl"
           }
          ],
          "scattermapbox": [
           {
            "marker": {
             "colorbar": {
              "outlinewidth": 0,
              "ticks": ""
             }
            },
            "type": "scattermapbox"
           }
          ],
          "scatterpolar": [
           {
            "marker": {
             "colorbar": {
              "outlinewidth": 0,
              "ticks": ""
             }
            },
            "type": "scatterpolar"
           }
          ],
          "scatterpolargl": [
           {
            "marker": {
             "colorbar": {
              "outlinewidth": 0,
              "ticks": ""
             }
            },
            "type": "scatterpolargl"
           }
          ],
          "scatterternary": [
           {
            "marker": {
             "colorbar": {
              "outlinewidth": 0,
              "ticks": ""
             }
            },
            "type": "scatterternary"
           }
          ],
          "surface": [
           {
            "colorbar": {
             "outlinewidth": 0,
             "ticks": ""
            },
            "colorscale": [
             [
              0,
              "#0d0887"
             ],
             [
              0.1111111111111111,
              "#46039f"
             ],
             [
              0.2222222222222222,
              "#7201a8"
             ],
             [
              0.3333333333333333,
              "#9c179e"
             ],
             [
              0.4444444444444444,
              "#bd3786"
             ],
             [
              0.5555555555555556,
              "#d8576b"
             ],
             [
              0.6666666666666666,
              "#ed7953"
             ],
             [
              0.7777777777777778,
              "#fb9f3a"
             ],
             [
              0.8888888888888888,
              "#fdca26"
             ],
             [
              1,
              "#f0f921"
             ]
            ],
            "type": "surface"
           }
          ],
          "table": [
           {
            "cells": {
             "fill": {
              "color": "#EBF0F8"
             },
             "line": {
              "color": "white"
             }
            },
            "header": {
             "fill": {
              "color": "#C8D4E3"
             },
             "line": {
              "color": "white"
             }
            },
            "type": "table"
           }
          ]
         },
         "layout": {
          "annotationdefaults": {
           "arrowcolor": "#2a3f5f",
           "arrowhead": 0,
           "arrowwidth": 1
          },
          "autotypenumbers": "strict",
          "coloraxis": {
           "colorbar": {
            "outlinewidth": 0,
            "ticks": ""
           }
          },
          "colorscale": {
           "diverging": [
            [
             0,
             "#8e0152"
            ],
            [
             0.1,
             "#c51b7d"
            ],
            [
             0.2,
             "#de77ae"
            ],
            [
             0.3,
             "#f1b6da"
            ],
            [
             0.4,
             "#fde0ef"
            ],
            [
             0.5,
             "#f7f7f7"
            ],
            [
             0.6,
             "#e6f5d0"
            ],
            [
             0.7,
             "#b8e186"
            ],
            [
             0.8,
             "#7fbc41"
            ],
            [
             0.9,
             "#4d9221"
            ],
            [
             1,
             "#276419"
            ]
           ],
           "sequential": [
            [
             0,
             "#0d0887"
            ],
            [
             0.1111111111111111,
             "#46039f"
            ],
            [
             0.2222222222222222,
             "#7201a8"
            ],
            [
             0.3333333333333333,
             "#9c179e"
            ],
            [
             0.4444444444444444,
             "#bd3786"
            ],
            [
             0.5555555555555556,
             "#d8576b"
            ],
            [
             0.6666666666666666,
             "#ed7953"
            ],
            [
             0.7777777777777778,
             "#fb9f3a"
            ],
            [
             0.8888888888888888,
             "#fdca26"
            ],
            [
             1,
             "#f0f921"
            ]
           ],
           "sequentialminus": [
            [
             0,
             "#0d0887"
            ],
            [
             0.1111111111111111,
             "#46039f"
            ],
            [
             0.2222222222222222,
             "#7201a8"
            ],
            [
             0.3333333333333333,
             "#9c179e"
            ],
            [
             0.4444444444444444,
             "#bd3786"
            ],
            [
             0.5555555555555556,
             "#d8576b"
            ],
            [
             0.6666666666666666,
             "#ed7953"
            ],
            [
             0.7777777777777778,
             "#fb9f3a"
            ],
            [
             0.8888888888888888,
             "#fdca26"
            ],
            [
             1,
             "#f0f921"
            ]
           ]
          },
          "colorway": [
           "#636efa",
           "#EF553B",
           "#00cc96",
           "#ab63fa",
           "#FFA15A",
           "#19d3f3",
           "#FF6692",
           "#B6E880",
           "#FF97FF",
           "#FECB52"
          ],
          "font": {
           "color": "#2a3f5f"
          },
          "geo": {
           "bgcolor": "white",
           "lakecolor": "white",
           "landcolor": "#E5ECF6",
           "showlakes": true,
           "showland": true,
           "subunitcolor": "white"
          },
          "hoverlabel": {
           "align": "left"
          },
          "hovermode": "closest",
          "mapbox": {
           "style": "light"
          },
          "paper_bgcolor": "white",
          "plot_bgcolor": "#E5ECF6",
          "polar": {
           "angularaxis": {
            "gridcolor": "white",
            "linecolor": "white",
            "ticks": ""
           },
           "bgcolor": "#E5ECF6",
           "radialaxis": {
            "gridcolor": "white",
            "linecolor": "white",
            "ticks": ""
           }
          },
          "scene": {
           "xaxis": {
            "backgroundcolor": "#E5ECF6",
            "gridcolor": "white",
            "gridwidth": 2,
            "linecolor": "white",
            "showbackground": true,
            "ticks": "",
            "zerolinecolor": "white"
           },
           "yaxis": {
            "backgroundcolor": "#E5ECF6",
            "gridcolor": "white",
            "gridwidth": 2,
            "linecolor": "white",
            "showbackground": true,
            "ticks": "",
            "zerolinecolor": "white"
           },
           "zaxis": {
            "backgroundcolor": "#E5ECF6",
            "gridcolor": "white",
            "gridwidth": 2,
            "linecolor": "white",
            "showbackground": true,
            "ticks": "",
            "zerolinecolor": "white"
           }
          },
          "shapedefaults": {
           "line": {
            "color": "#2a3f5f"
           }
          },
          "ternary": {
           "aaxis": {
            "gridcolor": "white",
            "linecolor": "white",
            "ticks": ""
           },
           "baxis": {
            "gridcolor": "white",
            "linecolor": "white",
            "ticks": ""
           },
           "bgcolor": "#E5ECF6",
           "caxis": {
            "gridcolor": "white",
            "linecolor": "white",
            "ticks": ""
           }
          },
          "title": {
           "x": 0.05
          },
          "xaxis": {
           "automargin": true,
           "gridcolor": "white",
           "linecolor": "white",
           "ticks": "",
           "title": {
            "standoff": 15
           },
           "zerolinecolor": "white",
           "zerolinewidth": 2
          },
          "yaxis": {
           "automargin": true,
           "gridcolor": "white",
           "linecolor": "white",
           "ticks": "",
           "title": {
            "standoff": 15
           },
           "zerolinecolor": "white",
           "zerolinewidth": 2
          }
         }
        },
        "title": {
         "text": "TSNE dla danych zaateykietowanych oryginalnie"
        },
        "xaxis": {
         "anchor": "y",
         "domain": [
          0,
          1
         ],
         "title": {
          "text": "x"
         }
        },
        "yaxis": {
         "anchor": "x",
         "domain": [
          0,
          1
         ],
         "title": {
          "text": "y"
         }
        }
       }
      }
     },
     "metadata": {},
     "output_type": "display_data"
    }
   ],
   "source": [
    "df_original['embedding'] = df_original['text'].apply(lambda x: model.get_sentence_vector(x))\n",
    "\n",
    "X = np.array(list(df_original['embedding']))\n",
    "X_embedded = TSNE(n_components=2, random_state=42).fit_transform(X)\n",
    "\n",
    "df_tsne = pd.DataFrame(X_embedded, columns=['x', 'y'])\n",
    "df_tsne['label'] = df_original['label']\n",
    "df_tsne['text'] = df_original['text']\n",
    "\n",
    "fig = px.scatter(df_tsne, x='x', y='y', color='label', hover_data=['text'], title='TSNE dla danych zaateykietowanych oryginalnie')\n",
    "fig.show()"
   ]
  },
  {
   "cell_type": "markdown",
   "metadata": {},
   "source": [
    "# TF_IDF"
   ]
  },
  {
   "cell_type": "code",
   "execution_count": 92,
   "metadata": {},
   "outputs": [],
   "source": [
    "from sklearn.feature_extraction.text import TfidfVectorizer"
   ]
  },
  {
   "cell_type": "code",
   "execution_count": 93,
   "metadata": {},
   "outputs": [],
   "source": [
    "tfidf_vectorizer = TfidfVectorizer()\n",
    "tfidf_matrix = tfidf_vectorizer.fit_transform(df_for_analysis['text'])\n",
    "X = tfidf_matrix.toarray()"
   ]
  },
  {
   "cell_type": "code",
   "execution_count": 94,
   "metadata": {},
   "outputs": [
    {
     "data": {
      "application/vnd.plotly.v1+json": {
       "config": {
        "plotlyServerURL": "https://plot.ly"
       },
       "data": [
        {
         "customdata": [
          [
           "Dla mnie faworytem do tytułu będzie Cracovia. Zobaczymy, czy typ się sprawdzi."
          ],
          [
           "  Brawo ty Daria kibic ma być na dobre i złe"
          ],
          [
           "  Musi. Innej drogi nie mamy."
          ],
          [
           "Odrzut natychmiastowy, kwaśna mina, mam problem"
          ],
          [
           "Jaki on był fajny xdd pamiętam, że spóźniłam się na jego pierwsze zajęcia i to sporo i za karę kazał mi usiąść w pierwszej ławce XD"
          ],
          [
           " No nie ma u nas szczęścia 😉"
          ],
          [
           " Dawno kogoś tak wrednego nie widziałam xd"
          ],
          [
           "  Zaległości były, ale ważne czy były wezwania do zapłaty z których się klub nie wywiązał."
          ],
          [
           "   no mam nadzieje !!:)"
          ],
          [
           "  Może gustował w starszych paniach ;-)"
          ],
          [
           " Zostawiłam tam 3 lata temu \\\"Notatki na mankietach\\\". Muszę się wrócić."
          ],
          [
           "  Znowu będzie komunikat o polskich piratach drogowych w Słowacji."
          ],
          [
           " Mówi człowiek, który chciał nałożyć sankcje na Polskę. Gratulacje. #Niepodlegla #11lisopada"
          ],
          [
           "   Mówi człowiek, który chciał nałożyć sankcje na Polskę. Gratulacje. #Niepodlegla #11lisopada"
          ],
          [
           "  o jakim zachowaniu \\\"fer\\\" mówisz skoro ukrywał się z tym że podpisał kontrakt z Legią ? Możesz rozwinąć ?"
          ],
          [
           "  Joanno! Po raz pierwszy się z panią zgadzam.😁😁😁😁😁"
          ],
          [
           "Monster block, monster block, monster block... 😁"
          ],
          [
           " Czyżby Madryt brał przykład z Warszawy?"
          ],
          [
           " Nie wiem, najczęściej grają na zmianę na prawym skrzydle."
          ],
          [
           " No to Pan i koledzy macie z głowy. Przesrane tak reszta życia pod górkę."
          ],
          [
           " A ja obstawiam, że pójdą bardziej w stronę tego, że może się powtórzyć sytuacja z Meresińskim."
          ],
          [
           "Aaaaa Kuba mi odpisał hehehehehe"
          ],
          [
           "Asysta Kacpra Falona i 3:1 dla Widzewa. Witamy Widzew w II lidze. No i w sumie fajnie."
          ],
          [
           " gwizdali na niego ? Bo nie oglądałem meczu :)"
          ],
          [
           "  ale może w końcu dojdzie do wniosku że skoro go klub już nie jara to lepiej go sprzedać i mieć po kłopocie"
          ],
          [
           "  Hej halo, o czym to jest bo mam na swojej liście i nie wiem czy warto??"
          ],
          [
           "dorosłe życie nie jest dla mnie"
          ],
          [
           "  dorosłe życie nie jest dla mnie"
          ],
          [
           " Cześć Paderewski, część opalające się nogi"
          ],
          [
           "   Uprowadź gumową kaczuszkę. Zacznie negocjować."
          ],
          [
           " Już wiem ze się nie dogadamy XD"
          ],
          [
           " Ale to w nowym przekładzie, jeszcze nie czytałam."
          ],
          [
           " Lahoza mi nigdy nie szkoda. Wolę, jak na pierwszym planie są piłkarze, a nie sędzia :-)"
          ],
          [
           " zmieńcie se nazwe na profilu na insta bo się nazywacie Grzegorz Ożóg..."
          ],
          [
           "„Ta aktorka ma 20 lat?!?! Jaka stara!!” \\n\\nChyba musimy się już do grobu pakować roczniku 98 😂👌🏻"
          ],
          [
           "  „Ta aktorka ma 20 lat?!?! Jaka stara!!” \\n\\nChyba musimy się już do grobu pakować roczniku 98 😂👌🏻"
          ],
          [
           "Ahnherr der Schtwätzer wykonawcy Von Spar\\nhttps://t.co/SOtenSqIr0"
          ],
          [
           " Kiedy do licznika dojdą bilety z fan clubow?"
          ],
          [
           " A kto prowadzi zespół ? Będzie podany skład z tego meczu ?"
          ],
          [
           "Zrobiłam takie Cv że ohohohoho"
          ],
          [
           "Świętować uchwalenie Konstytucji 3 maja i łamać Konstytucję RP obecnie obowiązującą?!\\n#3Maja - dzień hipokryzji."
          ],
          [
           "  Świętować uchwalenie Konstytucji 3 maja i łamać Konstytucję RP obecnie obowiązującą?!\\n#3Maja - dzień hipokryzji."
          ],
          [
           "  nie gra bo jest Jovanović i Guilherme"
          ],
          [
           " O tej godz. sporty szanuj ciało"
          ],
          [
           "Nikt cię tak dobrze nie ubierze jak matka chrzestna dziecino"
          ],
          [
           "  Nikt tutaj nie chce plagiaciarzy kopiujących brytyjskich pisarzy."
          ],
          [
           " A ksiądz co bierze 12 tyś za spowiedź przez tel?"
          ],
          [
           " Pod i górę  pod wiatr to więcej niż k2"
          ],
          [
           " Sędziowie VAR nie decydują o karnych 😉"
          ],
          [
           "Jakiś program na TVN, nauka jazdy za kierownicą babcia śpiewa \\\"jadą jadą jadą świry jadą\\\" jadą jadą jadą świry jadą\\\""
          ],
          [
           " ta obecna Zary Larsson czy Pitbulla z ostatnich MŚ nie były złe :)"
          ],
          [
           "(280 znaków w jednym zdaniu 🙈)"
          ],
          [
           " po wahaniach wagi Kwacha wznoszę że to może być kapuścianka"
          ],
          [
           "  w tym sezonie razem z pucharem 12 meczy i 1 gol.Mójta więcej strzelił.Sorry patrze w statystyki."
          ],
          [
           "   finały tblk były przyzwoicie sędziowane ?! Aha..."
          ],
          [
           " Taki miałam właśnie, teraz kupiłam z catrice"
          ],
          [
           " to ich wymień.W czym problem ?"
          ],
          [
           "   a ja mam ciepełko jak się przytule do swoich kotów :)"
          ],
          [
           " Właśnie. Ilu! Najpierw odpowiedzmy sobie ma to pytanie,a potem dziwmy się zwycięstwu Zdanowskiej"
          ],
          [
           " W jego przypadku statystyka przebiegniętych kilometrów nie ma znaczenia. Czy gra zajebiście, czy fatalnie, biega tyle samo."
          ],
          [
           "  100%, Mann też miał pełne prawo"
          ],
          [
           " Kończyłeś już kilka razy 😂"
          ],
          [
           "    A co będzie jak Kuba nigdy niewroci?"
          ],
          [
           "W każdej z czterech grup będzie walka o zwycięstwo premiowane awansem do CLJ. Bardzo potrzebne rozwiązanie, brawo."
          ],
          [
           " Tak się poznałam z moim chłopakiem 😂 czasami warto"
          ],
          [
           " nelly furtado a tytuł forco czy cos takiego"
          ],
          [
           " Mów prawdę, kto was skrzywdził"
          ],
          [
           " jestem tu od 2013 xd"
          ],
          [
           " Ta kadra to rocznik 2002"
          ],
          [
           "Posiada sensor CGM , ciągły monitoring glikemii, w końcu."
          ],
          [
           "Jeszcze żaden Polak nie wystąpił w meczu gwiazd NBA, nie licząc Mietka Paciaciaka ;) Pomóżmy Marcinowi Gortatowi być 1  #NBAVOTE"
          ],
          [
           "  Jeszcze żaden Polak nie wystąpił w meczu gwiazd NBA, nie licząc Mietka Paciaciaka ;) Pomóżmy Marcinowi Gortatowi być 1…"
          ],
          [
           " No kurwa myślałem że na Podlasiu"
          ],
          [
           "  Tak, to nawet lepsze rozwiązanie."
          ],
          [
           " Gdzie ja wtedy byłam? ;-)"
          ],
          [
           "   Midze sie nudziło i se coś na kolanie napisał i macie sensacje"
          ],
          [
           " Dzisiaj wrócił do treningów, czyli zdążyli 😉"
          ],
          [
           "    Nie wiem, zerknij na 90minut"
          ],
          [
           " możesz też zawsze po prostu zapytać kiedy się urodziłam. Albo wpisać hasztag #100latKasiaPawlak ;-)"
          ],
          [
           " Prezes się cieszy ze Wisla odpadła bo w razie finału Legia-Wisla znów by musiał finał odwoływać"
          ],
          [
           "Bratowa wysłała mi zdjęcie bratanicy z rozpoczęcia roku, idzie do pierwszej klasy, biedactwo nie wie co ją czeka"
          ],
          [
           " szybkie pytanie do  Ręka Sadloka była zagraniem umyślnym ?"
          ],
          [
           " Dzień w którym Abidal sprzedał i kupił A.Vidala 😉"
          ],
          [
           " O, myślałam, że nikt już nie używa \\\"mnie\\\" tylko \\\"mi\\\"."
          ],
          [
           "   Na nowym stadionie West Hamu też to widziałem."
          ],
          [
           "  zawodnik w sezonie może grać w barwach dwóch klubów więc jeszcze nic straconego :)"
          ],
          [
           "ciekawe czy faktycznie jest taki zakład bo jeśli tak to nieźle XD"
          ],
          [
           " Hehe, do gazu, hehe jeszcze jakieś emotikony wrzuć"
          ],
          [
           "Od 01.10.2018 każde sprawozdanie finansowe w formie elektronicznej, zgodne ze strukturą jpk"
          ],
          [
           "Na TVP Kraków padła właśnie informacja że rozmowy z potencjalnym kupcem Wisły przełożony z dziś na jutro."
          ],
          [
           "  Na TVP Kraków padła właśnie informacja że rozmowy z potencjalnym kupcem Wisły przełożony z dziś na jutro."
          ],
          [
           " Jak powiem, że pierwsze słysze, to będzie kompromitacja czy nie? 😄"
          ],
          [
           "Nie wstanę kurde nie ma opcji"
          ],
          [
           "  Spokojnie, u mnie też Kaczarawa na kapitanie + Cvijanović :)"
          ],
          [
           "niech ładny chłopiec z kręconymi włosami do mnie napisze: jutro, zaraz, teraz"
          ],
          [
           "  niech ładny chłopiec z kręconymi włosami do mnie napisze: jutro, zaraz, teraz"
          ],
          [
           " im ktoś gorzej widzi, dłużej musi czekać, choć ten, który widzi lepiej, dłużej poradzi sobie bez okularów. 😨"
          ],
          [
           " Oj, no to powodzenia! Co tam będziesz musiała robić? 🤭"
          ],
          [
           "    Chyba nie, Marcin mówił coś o '89."
          ],
          [
           " Przeczytaj mojego kolejnego twitta to zobaczysz, że nie umknęło i co sądze o poziomie tego meczu."
          ],
          [
           "   Widzę, że sami się znajdują."
          ],
          [
           " Napewno mam niezaktualizowanego może dlatego"
          ],
          [
           "  Smokowski mówił że Wisła ma piłkarzy 3 sortu, a Wieszczycki deprecjonował dobrą prace Kiko"
          ],
          [
           "więc zaczynam oglądać Do wszystkich chłopców, których kochałam bo wszyscy o tym mówią i aż chcę to sprawdzić"
          ],
          [
           "   W stop klatkach widać ze jak by to było po stronie drugiej (legi) to karny by był"
          ],
          [
           " Na marginesie jestem córką biskupa"
          ],
          [
           " Przejdzie historii: jak tworzyć kłamstwo w dobie powszechnego dostępu do informacji"
          ],
          [
           " Od ok 8 lat używam kolejnych modeli HTC i nigdy mnie nie zawiodły."
          ],
          [
           "  Załatwi to jedno głosowanie w sejmie i żadne demonstracje nie będą miały na to wpływu."
          ],
          [
           "mój stres zaczął się stresować swoim własnym stresem, które również się stresuje ja pierdole dość"
          ],
          [
           "  mój stres zaczął się stresować swoim własnym stresem, które również się stresuje ja pierdole dość"
          ],
          [
           "     dojdzie Brlek, Stilić wróci do formy, obcokrajowcy się zaaklimatyzują i bedzie dobrze💪"
          ],
          [
           "   Brawo grzechu za Twój powrót do żywych\\n W Rosji pokaż swoją moc"
          ],
          [
           "    Wonder!! Chyba cię....😁😁😁😁😁.No dobra. Na jaki?😁😁😁"
          ],
          [
           " Ja mam uczulenie na dobrą zmianę, ale to dłuższa historiac"
          ],
          [
           " Różnicy nie ma, bo pisali wtedy, że nie można zsyłać zawodników do rezerw ;P"
          ],
          [
           "Dobry dzień na przypomnienie sobie genezy gwiazdek na fladze #UE #deklaracjaRzymska"
          ],
          [
           "  Nie wierzę, bez zaświadczenia od proboszcza?"
          ],
          [
           " I chyba wtedy byś niezaprzeczyla?"
          ],
          [
           " Tak naprawdę czy będziemy w spadkowej czy mistrzowskiej to i tak czekają nas sparingi."
          ],
          [
           " Jebać, jebać, nic się nie bać."
          ],
          [
           "Kilogramy rozmnażają się przez pączkowanie 😣😖\\n#TłustyCzwartek"
          ],
          [
           "  Nie działają i lepiej działać szybko bo klienci nie maja dostępu do środków na kontach"
          ],
          [
           " Szczególnie Vestenicky.Podczas wypożyczenia nic nie pokazał a go wykupili za 500 tys euro 😂👏"
          ],
          [
           " Co nie było blisko? Bo nie rozumiem."
          ],
          [
           "  A od kiedy komentatorzy na Sky to wyrocznia?"
          ],
          [
           " a w kolejnych fajnie jakby grał na lewej za Sadloka "
          ],
          [
           " byłem w pracy ale zaraz odpalam meczyk na yt.Dzięki za walke !!!!:)"
          ],
          [
           "  jakie 0 motywacji ? Jest chyba różnica mieć medal albo go niemieć"
          ],
          [
           " Niby nie macie czy niby nie mit? 😂😂"
          ],
          [
           " Ja bym był ostrożny😁😁😁A jak ma na imię?"
          ],
          [
           "  No nie dziwie się w sumie. Dobrze, że tylko raz dzwonił"
          ],
          [
           "imagine sie komus podobac??? ze ktos sie stara o TWOJA uwage??? can’t relate"
          ],
          [
           "  imagine sie komus podobac??? ze ktos sie stara o TWOJA uwage??? can’t relate"
          ],
          [
           "   a Portugalia jak zagrała ?"
          ],
          [
           "Pierwsze zdanie: \\\"Paczka papierosów kosztuje 4 miliardy marek\\\".\\n#JajoWęża teraz na "
          ],
          [
           "  No to tym bardziej :)"
          ],
          [
           " Co ty człowieku pijesz z rana?"
          ],
          [
           "  pewnie narządy też wkrótce sprzeda :D"
          ],
          [
           " w zeszłym sezonie to samo pisałeś ?"
          ],
          [
           "Picie to przyszłość, piękna i nieznana, szukajcie zapomnienia, próbujcie różnych trunków, łączcie środki psychoaktywne, powodzenia"
          ],
          [
           " spoko, nigdy nie daje unfollow aktywnym ludziom, tylko tym, którzy nie piszą nic od miesięcy albo dali mi unfollow"
          ],
          [
           "\\\"- Co to jest tajmlajn na fejsie?\\n- Zmarszczki\\\"."
          ],
          [
           " może trzeba chłopaków na crossfit zabierać ?:)"
          ],
          [
           "Dzisiaj o 18.00 Strefa Kibica w Radiu Akadera. Zapraszamy."
          ],
          [
           " Nie powinno być źle o ile się utrzymamy :P"
          ],
          [
           " Spokojnie trzeba ta porażkę wziąść na klatę mecz się tak ułożył nie inaczej napewno gorsi dużo my niebyli."
          ],
          [
           " Ale się cieszą. Wreszcie koniec i będzie można wypić te.zapasy z plecaka."
          ],
          [
           "  Ofertę przedłużenis kontraktu ponoć dostał od Wisły, ale jej nie zaakceptował."
          ],
          [
           "Dziś o godz. 20:00 Prezydent RP wygłosi orędzie."
          ],
          [
           "  Dziś o godz. 20:00 Prezydent RP wygłosi orędzie."
          ],
          [
           " myślałem że się przychodzi na stadion dla drużyny a nie na poszczególnych piłkarzy"
          ],
          [
           " kibicom chodzi raczej o postawe dziennikarzy a nie klubu."
          ],
          [
           "  Nie trzeba Algierczyków, wystarczy kilku polskich katechetów."
          ],
          [
           " Barcelona z Messim (ta obecna) by taki mecz wygrała 1:0, albo jakiś Suarez by coś wcisnął :P"
          ],
          [
           "  TW Wolfgang, TW Faraon i TW Rycerz,TW Balbina, TW Michał \\nKto mieczem wojuje, ten od pochwy ginie"
          ],
          [
           "  Zgadza się ale przecież nas niestac żeby komin płacowy zacząć od.carlitosa"
          ],
          [
           " Niestety obrazki będą też zielone, czarne i brunatne."
          ],
          [
           "Ktoś założył fejkowe konto i ogląda WSZYSTKIE moje story"
          ],
          [
           "  Życie, zdarza się. Jednak od takiego rzutu wolnego do gola droga dość daleka."
          ],
          [
           " a wydanie 500 tys euro gdy się nie ma pieniędzy nie jest strzałem w kolano ?"
          ],
          [
           " nie dziwie się, to było dość cwane :)"
          ],
          [
           " Raczey! Jutro będzie jej odczytywane przez cały dzień ;-)"
          ],
          [
           " Kto będzie pił te mleko, gdzie będą jeździły tiry, meble, okna ty maly kogucie"
          ],
          [
           "    Nie myli się tylko ten, co nic nie robi."
          ],
          [
           "Mama będzie mi obcinać włosy boje się"
          ],
          [
           "    No to muszą ci nieźle płacić za wierszówki."
          ],
          [
           " czy masz info jakie obecnie Ondrasek ma zarobki w Wiśle?"
          ],
          [
           " Jaka kwota wykupienia go po roku??"
          ],
          [
           "   Dla kogo pracował? Nie przy śniadaniu bo się udławić można z wrażenia. Poproszę 5 przykładów zatem."
          ],
          [
           "  jeśli masz TV włączony od 8:00 do 1:00, a reklama pojawia się 3 x na godzinę, po 2 mies. jesteś na granicy obłędu."
          ],
          [
           " Jeszcze w nastepnej kolejce pewnie jakis piątek"
          ],
          [
           "  i oczywiście było pytanie czy nie boi się o przyszłość Wisły 😂 przechodzicie samych siebie"
          ],
          [
           " no ja właśnie to samoXD znaczy wiem ze Emre wbija często, bo jego żona jest polką ale no"
          ],
          [
           " Nic nie mogą. Ale ich brak może spowodować, że strajkujący szybciej się z Sejmu wyniosą."
          ],
          [
           "   Przecież jak go zamkną to o czym ty będziesz pisał ? Twoje życie straci sens..."
          ],
          [
           "  To zaraz porobie screeny od momentu od którego jest zablokowane :)"
          ],
          [
           " Ktoś przestał słodzić, ktoś kto dużo słodził"
          ],
          [
           " delikatnie nie po drodze :D"
          ],
          [
           "  No to 0:0 murowane (bo mam też ludzi z Cracovii)"
          ],
          [
           "  Przeczytałem wszystko. Fantastycznego ma Pani Dziadka!"
          ],
          [
           "Diego Maradona - Robbie Williams 2:1."
          ],
          [
           "   Ja nie byłbym taki pewny"
          ],
          [
           " patrząc kogo biorą to mam wątpliwości czy nie chcą do 1 ligi (nie licząc Marciniaka)"
          ],
          [
           " To było dawno, jeszcze nie znali fotoszopa"
          ],
          [
           ". pojawił się na TT. To konto to nie fejk. \\nDołączajcie :) 💪"
          ],
          [
           "  . pojawił się na TT. To konto to nie fejk. \\nDołączajcie :) 💪"
          ],
          [
           "W programie Igrzyska wolności w Łodzi śpiewanie pieśni rewolucyjnych,i piosenek z serialu,4 pancerni i pies."
          ],
          [
           " no i w końcu widzę uśmiech :)"
          ],
          [
           " lepszy argument to że ktoś go nie chce bo go nie lubi"
          ],
          [
           "  Tylko że ten prostak sie nabijał, szydził tak jak ze śmierci Piotra S."
          ],
          [
           " Qwa! Wypiłem kawę przed chwilą.Bardzo dobra kawę.Nie chcę jej zwracać. A swoją drogą to świetny środek na wywołanie wymiotów."
          ],
          [
           "Wchodzę w powiadomienia a tu nic, już na 4 tt odpisałem, zaraz wyjebią bana"
          ],
          [
           " nataliethere_ oddam szybciutko z powiadomień"
          ],
          [
           " Tak tak jeszcze ktoś w to uwierzy"
          ],
          [
           "   Tez musze trzymać poziomo tel czytając ten artykuł"
          ],
          [
           "   Czasy kiedy zacząłem interesować się piłką i Wisłą 😍"
          ],
          [
           " Czy  gotów na taką kolej rzeczy?"
          ],
          [
           " E tam! To z miłości do Łodzi😁. I przyjdzie do PiS😁😁"
          ],
          [
           " A ja, ze coś znowu zepsułam xd"
          ],
          [
           "Czemu jak zawsze się o kogoś martwię to ja dostaje po dupie, i mean nie wiem"
          ],
          [
           " kiedy wyjeżdżasz? ja w piątek, co prawda już drugi rok ale moja rodzina nadal reaguje tak samo"
          ],
          [
           "   Ograniczyłbym to do \\\"Byle nie Ufa\\\" :)"
          ],
          [
           "  Święta racja, ale zapytaj Jurgiela o notatki, on wie co spierdolił. Będzie łatwiej."
          ],
          [
           "  Szczególnie wielka strata za Smoleńsk"
          ],
          [
           "    daj znać  o  zdjecie blokady"
          ],
          [
           "  Myślę, że po info o konferencji wielu osobom to przychodzi do głowy."
          ],
          [
           " Koniecznie! Zapraszamy na spacer z kawką 😃"
          ],
          [
           " błąd logiczny, te pieniądze kiedyś były wasze, teraz już sa nasze i nic wam do tego towarzyszu"
          ],
          [
           "   błąd logiczny, te pieniądze kiedyś były wasze, teraz już sa nasze i nic wam do tego towarzyszu"
          ],
          [
           " Zależy jak na to spojrzeć. Z jednej strony akredytacja, z drugiej wyjazd za swoje $$$ 😉"
          ],
          [
           "  albo wygrywali 1:0 z Barceloną"
          ],
          [
           "  Nic specjalnego. Można się domyślać, że pewnie pójdzie na wypożyczenie."
          ],
          [
           "Z Zagłębia Hładun i Czerwiński w składzie (porażka 1:2), a z Legii Carlitos na kapitanie (zmiana w przerwie). Co za seria 😂"
          ],
          [
           " co chwile o nim piszecie i gadacie jaka to porażka jak nie zostanie.A nie pamiętacie jak jeszcze niedawno otrzymanie licencji1/2"
          ],
          [
           "  Przecież TS dzierżawi ta ziemię umowa na 99 lat zgadza się czy nie?"
          ],
          [
           " Pyta się kiedy beda nowe okulary, bo juz chce wychodzić"
          ],
          [
           " Probierz szuka młodych Polaków pasuje jak ulał😉"
          ],
          [
           " Może pasuje do klucza francuskiego?🔧☺"
          ],
          [
           " Najlepiej w Polsce żeby legia miała pomoc :-)"
          ],
          [
           "Szukam osób, które mają kontakt z rodziną gen. Bułak-Bałachowicza. Sprawa  prywatna."
          ],
          [
           " Brawo skwk za komunikat pomimo braku zakazu czekałem na ta wiadomość co robić, bo na mecz bez dopingu niemyslalem iść"
          ],
          [
           " Trąba ? Nie no ostro pojechałaś :D"
          ],
          [
           "Motocykle opuściły gniazda i kierują się na północ. Żonkile na przedmieściach to już tylko formalność. Wiosna! :-)"
          ],
          [
           "  🕵 Jest tak zakonspirowany, że go nie widać. Fachowiec. \\n(Górny, prawy róg)"
          ],
          [
           " W jednej z powtórek było to dobrze widać :))"
          ],
          [
           " Kochana nie ma po co bo później wszyscy się będą po to kleić 😂😂"
          ],
          [
           "  chyba nie miałeś się czego przyczepić, nie przesadzajmy :)"
          ],
          [
           " Dzwoniłam się dowiadywać kiedy się można wprowadzać 😂nie wiedziałam ze takie problemy mogą być xd"
          ],
          [
           " Już pod koniec jazdy wymusilam na rondzie.... nie wiem jak to się stało, mój mózg miał zaćmienie czy coś a"
          ],
          [
           "Terminator X To The Edge Of Panic wykonawcy Public Enemy\\nhttps://t.co/Nqf1yFOyKg"
          ],
          [
           " Zaspana jestem jeszcze sorki XD"
          ],
          [
           "  No ja nie kojarze xD"
          ],
          [
           " Pies to czasem nawet pożera książki..."
          ],
          [
           "Kiedy Christina wychodzi za mąż"
          ],
          [
           "  Zapewne ci, co grali przez większość rundy w CLJ i nie ponieśli ani jednej porażki."
          ],
          [
           "  Jak będzie ta pioseneczka to przychodzę\\n\\nhttps://t.co/B6ak11mI4d"
          ],
          [
           " zamieszczanie takich zdjęć podczas gdy ja jestem na sucharach powinno być zabronione :)"
          ],
          [
           "   A co trzeba zrobić w kwestii finansowania kampanii z funduszy UE przez Ziobrę?"
          ],
          [
           " W środku łamanie w stylu 2obiegu."
          ],
          [
           "    jak wróce z pracy to też podejme wyzwanie ale tym razem bedzie skromnie :)"
          ],
          [
           "   Jak pić to z klasą ;)"
          ],
          [
           " W rosji sa jakieś zawody"
          ],
          [
           "  Myślałem że to Twój ulubieniec 😂"
          ],
          [
           "  pewnie ranking Fifa bedzie decydowal"
          ],
          [
           "   od paru lat słysze o sponsorze więc tym bardziej szacunek że przez pare lat się nieujawnił..."
          ],
          [
           " Skoro Carrillo nie chce Sobola to tym bardziej nie będzie chciał Głowy. Chyba, że trener rzeczywiście odchodzi."
          ],
          [
           " kot też się załapał na fotke, a raczej jego dupa :)"
          ],
          [
           " Szczerze? Trochę tak to wygląda, a i tak prędzej czy później ten bilans wychodzi na równo."
          ],
          [
           "*stoi przed nimi król gargulców*\\nbetty: to pewnie ethel\\n\\nXDDDDDDDDDDDDDD\\n#Riverdale #RiverdalePL"
          ],
          [
           "  *stoi przed nimi król gargulców*\\nbetty: to pewnie ethel\\n\\nXDDDDDDDDDDDDDD\\n#Riverdale #RiverdalePL"
          ],
          [
           " No, to ja we własnej osobie"
          ],
          [
           " Słabo trzymałeś kciuki, bo podarował bramke Cracovii :)"
          ],
          [
           "  Piwnica bez okien, ty to masz dobrze"
          ],
          [
           "Czuję się chora więc siedzę w domu w czapce"
          ],
          [
           " Juz myslałem że coś gorszego😁😁"
          ],
          [
           "  A gdzie Inferno napisał, że Wisła stawia na Polaków ?"
          ],
          [
           " Omg właśnie o nich myślałam"
          ],
          [
           " Tak na pewno nie będzie. Drużyna leci w środę."
          ],
          [
           "Cudzysłów, przecinek nie jestem ruskim trollem"
          ],
          [
           "Biorąc pod uwagę, jakie dotąd mieliśmy losowania w Lidze Europy, to na ten finał w Baku w 2019 roku nie jesteśmy bez szans. 😁"
          ],
          [
           "  Fajnie, teraz zamiast przemowy muzyczka żeby nie było słychać odzewu publiki."
          ],
          [
           "  Białystok, ulica Wierzbowa. Jak oni to zrobili, to jest zagadka."
          ],
          [
           " Straszny gangster jak po wolności chodzi"
          ],
          [
           "  Pewnie tak bo Buchalik kontuzjowany."
          ],
          [
           " to miało jakiś ciąg dalszy? 😉"
          ],
          [
           "vans do chuja przestań robić choć na chwilę zajebiste kolekcje bo w moim portfelu pieniądzen't"
          ],
          [
           "  vans do chuja przestań robić choć na chwilę zajebiste kolekcje bo w moim portfelu pieniądzen't"
          ],
          [
           "    12 mld nie mam zamiaru dyskutowa możejki i skoki"
          ],
          [
           "  Alves był bardzo w stylu Guardioli 😛"
          ],
          [
           " Bo w \\\"10\\\" już grają przez Boatenga ;)"
          ],
          [
           " Widocznie to zbyt trudna miłość na Walentynki 😁"
          ],
          [
           " Sarapata była w solarium ?"
          ],
          [
           " Woda chyba zimna bo nikogo w wodzie ;-)"
          ],
          [
           " ej, dobra, weźmie ten chrzest czy nie? xd"
          ],
          [
           "  Lub bezpośredni awans, bo nie wiadomo co ze Stomilem, a przede wszystkim Bytovią :)"
          ],
          [
           "  byłam przy tym, więc zapewniam 😉"
          ],
          [
           " Piątek  też powinien być wolny, ina 100%"
          ],
          [
           " Kibice innych drużyn doceniają i trochę zazdroszczą :)"
          ],
          [
           "  na 100% jest zmiana Śląsk - Jaga i chyba została już potwierdzona."
          ],
          [
           " W tym czasie był z rodzinką na wakacjach w Gdańsku Brzeźnie to musiał zdalnie podtrzymywać związek"
          ],
          [
           "  Nie wiem, aczkolwiek jego tata mówił, że widziałby Tomasa w Jagiellonii. 😜"
          ],
          [
           "Ja i moje psiapsi gramy w te gry na snapie i nie mogę przestać się śmiać z naszych min XD"
          ],
          [
           "Rząd zaostrzy kary za znęcanie się nad zwierzętami. Od 3-5 lat więzienia; obowiązkowa nawiązka do 100 tys zł. Więcej jutro w "
          ],
          [
           "  Rząd zaostrzy kary za znęcanie się nad zwierzętami. Od 3-5 lat więzienia; obowiązkowa nawiązka do 100 tys zł. Więcej jutro w "
          ],
          [
           "   czuje że Brlek prędzej czy później odpali"
          ],
          [
           "  To, że figurowal jako zawodnik Man City nie znaczy, że będzie potrafił grać."
          ],
          [
           "  Oczywiście, że ma rację. Chodzi tylko o to, że to jest drużyna o klasę lub dwie lepsza."
          ],
          [
           "  Nie miał prawa stać za linią, tak prawdę mówiąc 😄 Ale w kamerach to bardzo ładnie wyglądało."
          ],
          [
           "   Ty to robisz przede wszystkim, co widać po pierwszym tweecie."
          ],
          [
           "Ostatnio czuje się tak samotna i smutna ze aż sama się dziwie"
          ],
          [
           "   dobrze by mu to zrobiło.Za słaby na Wisłe."
          ],
          [
           " Hehehehehe. Róża nawet niezła była.I co z niej wyrosło!😁😁😁"
          ],
          [
           " jedni wynajmują agencje do komentarzy a inni dziennikarzy"
          ],
          [
           "   jedni wynajmują agencje do komentarzy a inni dziennikarzy"
          ],
          [
           " pewnie jest mniej błędów bo i liczb jest mniej bo zrezygnowali ze statystyk zawodników sezon po sezonie ;)"
          ],
          [
           "  Sorry ale dzisiaj nie ma opozycji. Jest grupa cwaniaków chcących odzyskać stołki."
          ],
          [
           "na kijowe życie najlepsza wódeczka"
          ],
          [
           "Co na to Herod śmierdziuszka "
          ],
          [
           " Brakuje mu dystansu, za bardzo się egzaltuje, a jałowe szyderstwa już mi się przejadły"
          ],
          [
           " Wisła chyba ważniejsza od jakiejś Delle Donne :)"
          ],
          [
           " Nawet jeśli to fejk, to zgodnie z powiedzeniem -w każdej plotce jest ziarnko prawdy. Z tym że w tym przypadku raczej ziarno😁😁"
          ],
          [
           " Tez wczoraj byłam na randce która trwała cały dzień Xd"
          ],
          [
           " A kierowca autobusu wstał i zaczął klaskać ?"
          ],
          [
           "  Jak by nie było, aby było miło, teraz sie cieszysz"
          ],
          [
           " No to może warto, najwyżej Cię oleje, co jest oczywiście nie do przyjęcia 😂 kto nie ryzykuje ten nie pije szampana kochana!"
          ],
          [
           "  Trzymali się za ręce, waleczni i sprawiedliwi"
          ],
          [
           "Dudelange niby takie cwaniaki, a ciekawe czy byliby tacy mądrzy w dwuboju rzut młotem-skoki narciarskie"
          ],
          [
           "  Dudelange niby takie cwaniaki, a ciekawe czy byliby tacy mądrzy w dwuboju rzut młotem-skoki narciarskie"
          ],
          [
           "   głównie  który często o tym wspomina"
          ],
          [
           "Kto się jeszcze zaczepia na fejsie...."
          ],
          [
           "  Z tymi wizjami to może być problem. Proponuję sprawdzić po czym te wizję są"
          ],
          [
           "Czy Antek już ogłosił, że na lewym skrzydle naszej obrony był wybuch?"
          ],
          [
           "  Czy Antek już ogłosił, że na lewym skrzydle naszej obrony był wybuch?"
          ],
          [
           " jest to dobra informacja dla tych co okradali  Polskę od 89  roku  Irlandia da im wolność"
          ],
          [
           "   jest to dobra informacja dla tych co okradali  Polskę od 89  roku  Irlandia da im wolność"
          ],
          [
           "    Wywalił Ronaldo w Superpucharze :)"
          ],
          [
           "Halo Kraków, kogo byście uznali za gwiazdę/najważniejszego zawodnika obecnej Wisły? 😉"
          ],
          [
           "  Ssą wszystkimi otworami z krwi biało czerwonej"
          ],
          [
           "   Znowu on ? 😂 to przy okazji niech się odniesie do słów Sarary 😂"
          ],
          [
           " Dotarlas do orełka?😁😁 W tym roku niestety tyłko jeden😞😞"
          ],
          [
           "   A Panu nie brakuje czasem art. 87 pkt1?"
          ],
          [
           " Czy to oknoplus ladowal kiedyś"
          ],
          [
           "  5 punktów na 21 w rundzie finałowej..."
          ],
          [
           ".  Będziemy realizować przekop Mierzei Wiślanej \\n#wieszwiecej  \\nhttps://t.co/zuCXxG1GUr"
          ],
          [
           "  .  Będziemy realizować przekop Mierzei Wiślanej \\n#wieszwiecej  \\nhttps://t.co/zuCXxG1GUr"
          ],
          [
           " Bolek wyluzuj bo jesteś sercowy."
          ],
          [
           " Śmiej się  śmiej. To wcale nie jest śmieszne."
          ],
          [
           "I hope that autumn will heal me"
          ],
          [
           "Jutro po marszu, ale jeszcze kilka dni beda chodzić naćpani"
          ],
          [
           " Nie ma jak lans nierobie za pieniądze podatników."
          ],
          [
           " A to ja przepraszam, nie miałam wczoraj czasu na TT 😎"
          ],
          [
           "11 tysięcy miejsc zajętych, dzisiaj prawie 2000 biletów sprzedanych. Z tej okazji za chwilę nagroda 😁"
          ],
          [
           "  To ja chyba tylko kolory porównywałem"
          ],
          [
           "Ej słuchajcie co zajebistego wymyśliłam \\n\\nJaki jest najlepszy argument bonnie z pamiętników wampirów? \\n\\nBo nnie"
          ],
          [
           "  Ej słuchajcie co zajebistego wymyśliłam \\n\\nJaki jest najlepszy argument bonnie z pamiętników wampirów? \\n\\nBo nnie"
          ],
          [
           " Im więcej problemów w państwie tym więcej niewykonanych wyroków"
          ],
          [
           "Widziałam śliczną sukienkę ale nie było mniejszego rozmiaru niż 36 i była za duża danmm"
          ],
          [
           "   nie, ale jeśli ktoś wypomina Levadie to niech bedzie obiektywny i wspomni też inny wynik."
          ],
          [
           " O naszych meczach z Rio Ave można powiedzieć podobnie 😉"
          ],
          [
           "W sumie to polubiłam już zajęcia z konstrukcji przekazu reklamowego i prowadzący jest świetny"
          ],
          [
           "Ej chciałabym do samorządu w sumie hahahaha"
          ],
          [
           " Tez nie mam snapa hahahahaha"
          ],
          [
           " Ileż można o tym Wiluszu ?..."
          ],
          [
           " A po polsku to jak to będzie?"
          ],
          [
           "  A skąd on wie jak jest w innych klubach ? Niech się wypowiada o klubach w których grał."
          ],
          [
           "I ta Wisła, która się bawi z każdym w ofensywie, w Białymstoku miała pół sytuacji."
          ],
          [
           "   Zapytalem,  szwagierka mówi że ma konto w powerbanku"
          ],
          [
           "  Mięciuteńki straszliwie. Tam były ręce na ciele, a nie jakieś szarpanie. Tylko że nie do VAR-u."
          ],
          [
           " Zdejmujesz Dziadkowi okulary, zakładasz Babci i jestem \\n😎"
          ],
          [
           "   w końcu jakiś ciekawy wywiad :)"
          ],
          [
           " jak tam widziałeś czerwoną to rzeczywiście wyjdź"
          ],
          [
           " skoro zarząd pozwala na takie cyrki to niestety potrwa to lata"
          ],
          [
           "  Cieszmy się że drużyna dalej gra w lidze.Nie zawsze można mieć najmocniejszy skład w lidze :)"
          ],
          [
           "   Znawca wszystkiego czyli niczego od bydła po powidło"
          ],
          [
           " 😂😂😂😂😂😂😂😂😂😂😂😂😂🤣🤣🤣🤣🤣🤣🤣🤣🤣🤣🤣🤣🤣😂😂😂😂😂😂😂🤣🤣🤣🤣🤣🤣🤣🤣🤣🤣🤣🤣🤣🤣🤣😂😂😂😂😂😂😂😂😂😂😂😂😂😂😂😂\\n\\nSłów odpowiednich żaden słownik nie zawiera"
          ],
          [
           " Vacek, Putnocky, Nielsen.Widzę że biorą się za odmładzanie składu :)"
          ],
          [
           " Lub kibiców w Gliwicach 😜"
          ],
          [
           " No właśnie była lepsza 😜"
          ],
          [
           "    No weź nie rob takiej miny"
          ],
          [
           " Bo jest Głowacki to teraz czas na obrońców"
          ],
          [
           "  Nie ma takiej opcji. Oszust i kłamca w roli głównej - tego jeszcze świat nie widział."
          ],
          [
           " Nie jest złe! Chodzisz w szpilkach? Cokolwiek byś nie założyła to szpilki choć trochę pomogą xd"
          ],
          [
           " Jakby był definitywny to trochę slabo 😂"
          ],
          [
           " a co się tak pieniedzmi nagle przejmujesz ? Jak chcialas rozwiazania kontraktu z Zohnova czy Pop to kasa juz nie wazna ?"
          ],
          [
           " Oskar Łąk definitywnie odszedł z Wisły ?\\n\\nhttps://t.co/o0psVgZBUl"
          ],
          [
           " gratulacje ! Dzięki za dotrzymanie słowa że dzisiaj koniec :) Zasłużyłyście !"
          ],
          [
           "Jezu, co zagrali Suarez i Cavani."
          ],
          [
           " Na pewno łatwiej by było znaleźć, określić i poprawić problemy"
          ],
          [
           " Można, dlatego nasz poziom piłkarski był bardzo słaby wczoraj."
          ],
          [
           " Wybacz, ale nie sądzę, aby głównym problemem kadry były złe powołania na numerach 21-23 w kadrze."
          ],
          [
           "jeśli nie mogę wyglądać tak jak\\n•perrie edwards\\n•troian bellisario\\nto what’s the point of existing?"
          ],
          [
           "  jeśli nie mogę wyglądać tak jak\\n•perrie edwards\\n•troian bellisario\\nto what’s the point of existing?"
          ],
          [
           " Nadal i Djoković to się w sumie cieszą, bo ten, kto w ich meczu wygra, będzie praktycznie zwycięzcą turnieju."
          ],
          [
           "   wyśle im jutro list od kibiców cracovii że chcą odejścia Filipiaka.Ciekawe czy też opublikują."
          ],
          [
           " No to skąd wiedziałeś czy stopklatka jest zrobiona w odpowiednim momencie ? Nie kompromituj się"
          ],
          [
           "   Iza - dziewczyna, cud, miód, malina 😁"
          ],
          [
           "Zaraz pół mojego instagrama i cały Twitter będzie na koncercie Eda.... i jestem jeszcze ja............"
          ],
          [
           " Z tamtego Adama dziś już nic nie zostało. Ale czepianie się go za brata i ojca osobiście nie popieram"
          ],
          [
           " Może też być kołderka 😍"
          ],
          [
           " Dlaczego średnio? W decydujacym o awansie Widzewa czerwcu był piłkarzem miesiąca"
          ],
          [
           " błedem było ściaganie zawodników których nas niestać byleby osiągnąć cel"
          ],
          [
           " Każdy kto choć trochę się orientuje w tych sprawach wie, że na Hutniku nie ma oświetlenia..."
          ],
          [
           " Maliniak dal reklame za dormo ponoć caly marsz niepodleglosci ubrali, prawda to redisbad?"
          ],
          [
           " niech wejdzie na luzie i pewnie tak żeby nie musiał zostawiać dokumentu, milion osób tak przemyciłam"
          ],
          [
           "  Bo byliśmy bez formy, to oczywiste. Przecież to też napisałem."
          ],
          [
           " jest juz aktualizacja składów czy jakis dodatek sciągałeś ? :)"
          ],
          [
           "      Mam nadzieję że nigdy więcej. Czekam na rychłą delegalizację."
          ],
          [
           "  O 11.00 wielkie obtrabienie sukcesu..."
          ],
          [
           " Taki Błaszczykowski tez za co do repry?  Żeby niebylo ze wbijam szpilki do legi?"
          ],
          [
           "Często wracam do tego kawałka. "
          ],
          [
           "omg ale jestem wyjebana po tym wykładzie"
          ],
          [
           "  Ale Karolina ostatnio była w TVP 😜"
          ],
          [
           "#NAME?"
          ],
          [
           "  U mnie też wyświetla właściwe kolory 😊"
          ],
          [
           "Yerri Mina - złota piłka 😁"
          ],
          [
           " jeszcze nie mam planu wykonania ;-)"
          ],
          [
           " Śląsk Wrocław ma jakiś drugi podmiot, że wystawia drugi zespół w barażach?"
          ],
          [
           "Nie wiem, jak Barcelona i Real otrząsną się po utracie tak ważnych piłkarzy, jak Paulinho i Cristiano Ronaldo."
          ],
          [
           "Polska zrealizowala nasze cele w UE na szczycie z nawiązką. Podajcie dalej  koniecznie potrzebne - dziękuję😊\\nhttps://t.co/OzUaePZLpY"
          ],
          [
           "  Polska zrealizowala nasze cele w UE na szczycie z nawiązką. Podajcie dalej  koniecznie potrzebne - dziękuję😊\\nhttps://t.co/Oz…"
          ],
          [
           "   A my nie mamy helikopterów, rakiet, łodzi podwodnych a mamy WOT w którym ja biegam"
          ],
          [
           "  A czego oczekiwałeś ? Przedłużą z kimś kontrakt to poinformują"
          ],
          [
           " Jeszcze Podolski od jakiegoś czasu."
          ],
          [
           "Przepraszamy. Nie wpadliśmy na to, że pokazując środkowy palec narodowi, który - ponad podziałami, czci #PW1944, możemy kogoś obrazić. Sorki"
          ],
          [
           " ahhh myślałam, że na jakieś innej stronie"
          ],
          [
           " Źle... Miałeś napisać, że nie możesz więcej zdradzić :("
          ],
          [
           " Pan w tle, z lewej, to z mopem zasuwa? 🖒"
          ],
          [
           " Pomysł sobie ze ja oblałam bo z pełna świadomością wjebalam się na rondo XD widzisz to taki mały błąd, Ew"
          ],
          [
           " Hejka, hejka, sejonarka w czwartek o 11 juz do domku"
          ],
          [
           "  Mistrz, człowiek mem jedyny na świecie"
          ],
          [
           "   York czy Leszek Miller? :)"
          ],
          [
           " Kiedys kazdy kopniak bez piłki = czerwona, a jeśli to było tylko położenie ręki na głowę, to nie mamy o czym rozmawiac :)"
          ],
          [
           "Morawieckiemu coś nie idzie w Namysłowie. Teraz jako były prezes BZK WBK przedstawia się jaki ten, który zwalcza \\\"zachodnie korporacje\\\"."
          ],
          [
           "  Morawieckiemu coś nie idzie w Namysłowie. Teraz jako były prezes BZK WBK przedstawia się jaki ten, który zwalcza \\\"zacho…"
          ],
          [
           " No widzisz, a zwycięską asystę w tym meczu zanotował Griezmann. MVP = najbardziej wartościowy zawodnik :)"
          ],
          [
           "Jak go pierwszy raz usłyszałam to miałam ciarki na całym ciele"
          ],
          [
           " kibice nigdy nie pozwolą na to żeby po raz kolejny był trenerem"
          ],
          [
           " Jego tata tłumaczył konferencję przy okazji meczu z Rio Ave w Vila do Conde :)"
          ],
          [
           " a wyśmiewanie Lionela M. było po skazaniu go za oszustwa podatkowe ? bo jakoś przeoczyłem"
          ],
          [
           "   życzę Gatcie mistrza bo zasługują na to grając 2 sezony na wysokim poziomie."
          ],
          [
           " Plakat widzę tak  z   wymiana spojrzeń  a  na kolanach liże ich po stopach"
          ],
          [
           "  Mógł, ale jakoś nie chce mi się wierzyć, że tak to wyglądało."
          ],
          [
           "em ok wątek Jerzego i Zuzy w Przyjaciółkach to najlepsze co tam było kiedykolwiek"
          ],
          [
           "   Giertych: myślę, że myślę."
          ],
          [
           "Ostatnio się zrobiłam polityczna chyba studia weszły mi za mocno"
          ],
          [
           " nie chodziło mi o to że się cieszyłeś z upadku Wisły tylko że masz czarny humor :) że się z Wisły na Chojnice przerzuciłem :)"
          ],
          [
           "Ta drużyna powstała za czasów PO-PSL."
          ],
          [
           "  Ta drużyna powstała za czasów PO-PSL."
          ],
          [
           " Hołd to się oddaje bohaterom...."
          ],
          [
           "   a co ma procent zapelnienia pojemnosci do frekwencji ? Po za tym co to jest 50% na takim malym stadionie ?"
          ],
          [
           "Spółka srebrna kapitał  7 mln,  w zarządzie sekretarka i kierowca Jarkacza"
          ],
          [
           "Kto chce zrobić ze mna tea party??"
          ],
          [
           " No gdzie, wszystko zależało od Lecha w ostatniej kolejce :D"
          ],
          [
           "Moja morda to takie spierdolenie ze zaraz rykne"
          ],
          [
           "  Moja morda to takie spierdolenie ze zaraz rykne"
          ],
          [
           "  No w różnych miejscach ludzie seks uprawiają. Dajcie spokój..."
          ],
          [
           "Czemu żaden tramwaj nie jedzie wtf"
          ],
          [
           " Tak, statystyki to kłamstwa. Za to wyciągnięcie jednej sytuacji z 90 minutowego meczu to bezcenny dowód."
          ],
          [
           "  Zamiast tego można znaleźć grafiki na różnych ekranach / telebimach w mieście."
          ],
          [
           " Ale co to ma do Mystka?"
          ],
          [
           " Serio chcecie cichego stadionu ?"
          ],
          [
           "Co to miało być? 😂"
          ]
         ],
         "hovertemplate": "label=0<br>x=%{x}<br>y=%{y}<br>text=%{customdata[0]}<extra></extra>",
         "legendgroup": "0",
         "marker": {
          "color": "#636efa",
          "symbol": "circle"
         },
         "mode": "markers",
         "name": "0",
         "orientation": "v",
         "showlegend": true,
         "type": "scatter",
         "x": [
          8.520211219787598,
          0.028199639171361923,
          -13.180093765258789,
          33.43800735473633,
          -5.471269130706787,
          -3.1085212230682373,
          -7.584445953369141,
          -21.660951614379883,
          27.048873901367188,
          -13.173924446105957,
          21.560688018798828,
          -18.32552146911621,
          -38.95958709716797,
          -38.82965087890625,
          -38.80873107910156,
          -0.2806171774864197,
          -46.204891204833984,
          -76.7675552368164,
          11.39719009399414,
          -31.05280303955078,
          -1.9177780151367188,
          -14.026885986328125,
          -7.84844970703125,
          -21.352617263793945,
          -7.213580131530762,
          11.014174461364746,
          8.64028263092041,
          8.401464462280273,
          -20.094661712646484,
          31.10297393798828,
          7.3631367683410645,
          15.132425308227539,
          -12.393092155456543,
          -33.28158187866211,
          1.513593077659607,
          1.6610928773880005,
          7.153670787811279,
          -6.8499040603637695,
          -23.942108154296875,
          2.507187604904175,
          -38.798362731933594,
          -38.798362731933594,
          -9.778024673461914,
          30.221580505371094,
          -15.403692245483398,
          -12.83073616027832,
          30.201839447021484,
          -31.45819854736328,
          -3.6278252601623535,
          27.943695068359375,
          -20.7014102935791,
          -29.567174911499023,
          -11.336606979370117,
          25.336952209472656,
          -22.439367294311523,
          6.960535526275635,
          -11.867042541503906,
          22.514345169067383,
          2.385669231414795,
          -12.76314926147461,
          -10.563005447387695,
          19.753177642822266,
          -13.65854263305664,
          -27.633865356445312,
          -23.659212112426758,
          -14.828069686889648,
          -24.237060546875,
          22.35321807861328,
          12.22606086730957,
          -18.943113327026367,
          -32.883140563964844,
          -33.14876174926758,
          4.107418537139893,
          -28.586448669433594,
          15.195059776306152,
          -33.985469818115234,
          -0.400445818901062,
          11.049273490905762,
          -11.871499061584473,
          -17.871320724487305,
          -20.05546760559082,
          16.714536666870117,
          28.460351943969727,
          -1.6362905502319336,
          14.226040840148926,
          -11.456731796264648,
          1.341112494468689,
          -29.474451065063477,
          12.455865859985352,
          20.48948860168457,
          20.645687103271484,
          -6.232816219329834,
          -2.707751989364624,
          11.991873741149902,
          30.12858009338379,
          30.12858009338379,
          -26.42195701599121,
          15.404802322387695,
          16.426755905151367,
          -23.437889099121094,
          -14.853602409362793,
          25.432411193847656,
          18.363529205322266,
          13.117823600769043,
          -10.176043510437012,
          21.31109619140625,
          -6.560630798339844,
          8.82038688659668,
          -4.53113317489624,
          29.33889389038086,
          29.096906661987305,
          -21.015947341918945,
          11.756420135498047,
          4.11016845703125,
          21.209674835205078,
          13.175036430358887,
          26.73863983154297,
          -28.25200653076172,
          15.344948768615723,
          -18.100805282592773,
          -8.578741073608398,
          9.95401382446289,
          -6.40751838684082,
          13.818202018737793,
          -7.398077011108398,
          -6.7859206199646,
          6.0067057609558105,
          25.680322647094727,
          -7.031689167022705,
          -15.856986999511719,
          11.991157531738281,
          -4.577493190765381,
          -35.96709442138672,
          -35.96709442138672,
          -9.47750186920166,
          38.525238037109375,
          6.984912872314453,
          6.582614898681641,
          -24.9095401763916,
          -12.27249813079834,
          16.2229061126709,
          -8.917980194091797,
          2.8049027919769287,
          -14.869830131530762,
          1.2707573175430298,
          19.979366302490234,
          -9.81070613861084,
          -23.898988723754883,
          11.775288581848145,
          -2.5039803981781006,
          -2.3400678634643555,
          4.979852199554443,
          -2.6537082195281982,
          -16.87498664855957,
          -15.793866157531738,
          -28.549570083618164,
          36.32080078125,
          -15.75020980834961,
          -24.780006408691406,
          -2.170027256011963,
          13.32767391204834,
          -5.486960411071777,
          27.084049224853516,
          -27.348072052001953,
          -7.521570682525635,
          -15.03532600402832,
          1.5512946844100952,
          -14.772302627563477,
          -5.650508880615234,
          11.721076011657715,
          -0.5273162126541138,
          -23.358821868896484,
          -4.059301376342773,
          4.464122295379639,
          -10.49257755279541,
          6.966970443725586,
          -4.030457973480225,
          -24.424978256225586,
          -2.728640556335449,
          27.35253143310547,
          28.642629623413086,
          -105.31830596923828,
          6.041713714599609,
          24.39031982421875,
          -7.595353126525879,
          2.514543294906616,
          2.708299160003662,
          -29.28154945373535,
          -17.04758071899414,
          -6.946869850158691,
          -34.31699752807617,
          3.990029811859131,
          21.324634552001953,
          -87.84293365478516,
          -21.56113624572754,
          28.917949676513672,
          -9.258962631225586,
          21.160112380981445,
          10.77120590209961,
          5.864450454711914,
          -6.79933500289917,
          -14.455038070678711,
          10.0357027053833,
          9.316678047180176,
          14.802221298217773,
          -10.118453979492188,
          -16.98756217956543,
          2.2442209720611572,
          -25.65349006652832,
          -25.65349006652832,
          -10.525693893432617,
          -12.931790351867676,
          4.706387996673584,
          12.424567222595215,
          -4.988009452819824,
          36.1352424621582,
          -20.58913803100586,
          37.43593978881836,
          36.736995697021484,
          32.396480560302734,
          -21.954763412475586,
          21.864952087402344,
          2.180574655532837,
          -0.23722843825817108,
          -8.085134506225586,
          -10.340086936950684,
          -2.1519455909729004,
          21.030078887939453,
          8.422019958496094,
          7.77921199798584,
          6.702632427215576,
          23.106891632080078,
          5.018488883972168,
          -29.814804077148438,
          -7.731810092926025,
          16.558975219726562,
          10.120476722717285,
          19.233596801757812,
          -19.532546997070312,
          9.380680084228516,
          -21.128698348999023,
          -7.906356334686279,
          -28.356603622436523,
          3.5857467651367188,
          -23.35194969177246,
          8.588075637817383,
          6.6649885177612305,
          -0.8655679225921631,
          -19.756410598754883,
          21.24886131286621,
          21.24886131286621,
          5.098494529724121,
          27.466251373291016,
          0.05661266669631004,
          15.30278205871582,
          -22.16376304626465,
          20.21893882751465,
          17.33039093017578,
          -17.384218215942383,
          22.533611297607422,
          -30.371713638305664,
          -8.871368408203125,
          0.44370540976524353,
          -4.368347644805908,
          -23.128032684326172,
          1.7846934795379639,
          20.5146427154541,
          20.5146427154541,
          29.236494064331055,
          9.539998054504395,
          11.418571472167969,
          -1.8636057376861572,
          15.222896575927734,
          15.410900115966797,
          2.556926727294922,
          -2.034040927886963,
          14.079232215881348,
          -10.791975975036621,
          3.1005842685699463,
          13.594943046569824,
          10.263327598571777,
          16.19215202331543,
          3.9138615131378174,
          33.08003616333008,
          33.08003616333008,
          -19.585216522216797,
          -11.045575141906738,
          0.32515448331832886,
          -17.436750411987305,
          -1.5449413061141968,
          -4.8956074714660645,
          -11.402288436889648,
          15.018304824829102,
          40.17424392700195,
          39.90946578979492,
          -9.36928939819336,
          7.508528232574463,
          8.606668472290039,
          3.673389196395874,
          -11.958197593688965,
          18.19569206237793,
          8.273844718933105,
          27.7974910736084,
          31.3260440826416,
          -8.962294578552246,
          -6.319886207580566,
          18.288101196289062,
          -15.604471206665039,
          -15.604471206665039,
          -33.60453796386719,
          2.5549416542053223,
          -11.569732666015625,
          13.370503425598145,
          13.075628280639648,
          -2.4276251792907715,
          -2.4276251792907715,
          -8.169855117797852,
          22.097074508666992,
          -17.63605499267578,
          10.996013641357422,
          -17.212690353393555,
          -31.020925521850586,
          -16.367345809936523,
          -22.362655639648438,
          9.757981300354004,
          9.757981300354004,
          23.00745964050293,
          4.693522930145264,
          -99.2228775024414,
          19.246267318725586,
          -4.889989376068115,
          2.9753835201263428,
          28.423542022705078,
          13.029169082641602,
          11.325827598571777,
          11.491121292114258,
          24.393545150756836,
          12.571674346923828,
          -21.922286987304688,
          16.618061065673828,
          1.3771215677261353,
          0.9565368294715881,
          27.30130386352539,
          9.394111633300781,
          -6.693034648895264,
          9.416680335998535,
          31.337709426879883,
          -24.0518741607666,
          -3.171815872192383,
          20.368549346923828,
          -17.901084899902344,
          13.213323593139648,
          -5.085920810699463,
          -8.80402946472168,
          -0.9851799607276917,
          -35.83839797973633,
          -13.83858871459961,
          32.6893424987793,
          15.131288528442383,
          -0.2997841238975525,
          -2.602886915206909,
          -2.3448753356933594,
          3.436847448348999,
          4.808764934539795,
          -19.77250862121582,
          9.458791732788086,
          25.019014358520508,
          -15.594043731689453,
          -12.477863311767578,
          9.720200538635254,
          -21.81568717956543,
          -28.076499938964844,
          -28.076499938964844,
          -23.7073974609375,
          29.965187072753906,
          9.119165420532227,
          -95.80455017089844,
          24.519268035888672,
          -6.83797550201416,
          -11.309420585632324,
          13.610475540161133,
          -5.129549026489258,
          2.7149176597595215,
          13.17760181427002,
          -22.440858840942383,
          8.677606582641602,
          -22.583311080932617,
          24.548690795898438,
          -0.05713491514325142,
          8.41021728515625,
          -32.92464065551758,
          18.635873794555664,
          13.958532333374023,
          -84.48087310791016,
          12.399269104003906,
          34.09786605834961,
          26.50445556640625,
          -15.329292297363281,
          -7.822380065917969,
          4.856590270996094,
          5.101487159729004,
          -13.040181159973145,
          -41.44426345825195,
          3.417238473892212,
          25.261829376220703,
          -2.4281702041625977,
          21.936044692993164,
          6.69617223739624,
          5.345609664916992,
          -23.448482513427734,
          -40.36897659301758,
          -16.864009857177734,
          -6.0363311767578125,
          -33.66663360595703,
          -33.434791564941406,
          7.00316047668457,
          -0.583717405796051,
          1.2138991355895996,
          16.589868545532227,
          -4.986262798309326,
          6.9918293952941895,
          -14.614774703979492,
          -16.819183349609375,
          13.764142990112305,
          -16.723711013793945,
          3.429912805557251,
          -1.9854716062545776,
          15.01325511932373,
          15.01325511932373,
          2.319855213165283,
          6.270288944244385,
          31.573698043823242,
          -21.060640335083008,
          25.42901611328125,
          -17.85535430908203,
          -17.85535430908203,
          18.2491455078125,
          -36.1679573059082,
          -11.93305778503418,
          -13.92141056060791,
          7.089343547821045,
          -65.59103393554688,
          1.9538724422454834
         ],
         "xaxis": "x",
         "y": [
          3.836280345916748,
          -22.782520294189453,
          24.919979095458984,
          7.704214096069336,
          7.110915660858154,
          18.971073150634766,
          4.838096618652344,
          -26.138652801513672,
          8.352293968200684,
          -16.801652908325195,
          -33.16203308105469,
          -21.721723556518555,
          -11.071317672729492,
          -11.348613739013672,
          -3.4639439582824707,
          -10.714529991149902,
          12.756513595581055,
          28.4501953125,
          22.32428741455078,
          11.270516395568848,
          3.0398504734039307,
          6.820267200469971,
          23.483884811401367,
          -10.356179237365723,
          -10.874076843261719,
          19.37563133239746,
          2.290205240249634,
          2.273075580596924,
          -2.015000343322754,
          30.14032554626465,
          18.295700073242188,
          -8.812954902648926,
          9.653853416442871,
          -0.04130431264638901,
          38.34444808959961,
          38.0740966796875,
          -31.939119338989258,
          -34.54008483886719,
          -11.237546920776367,
          0.26845991611480713,
          19.624664306640625,
          19.624664306640625,
          20.387893676757812,
          -20.31209373474121,
          11.305932998657227,
          12.163993835449219,
          3.502261161804199,
          10.342926025390625,
          -4.65546178817749,
          -29.646451950073242,
          -26.89064598083496,
          -3.229443311691284,
          -14.762383460998535,
          15.317615509033203,
          -25.198490142822266,
          30.345989227294922,
          -9.93505859375,
          8.6243314743042,
          -28.309520721435547,
          19.79892921447754,
          -18.48176383972168,
          -7.205543518066406,
          8.082069396972656,
          15.096827507019043,
          6.933063983917236,
          13.974348068237305,
          -16.809309005737305,
          -1.2432924509048462,
          -29.674028396606445,
          -6.317910671234131,
          -20.04839324951172,
          -19.900470733642578,
          7.180323123931885,
          15.931475639343262,
          15.396848678588867,
          0.825650155544281,
          -33.74921417236328,
          21.179000854492188,
          -27.85878562927246,
          23.888959884643555,
          4.906324863433838,
          -3.7683358192443848,
          -5.243884563446045,
          -0.7772519588470459,
          -8.886890411376953,
          15.911218643188477,
          20.101810455322266,
          -26.2658634185791,
          25.206621170043945,
          -27.332002639770508,
          -27.076147079467773,
          8.771310806274414,
          16.747943878173828,
          3.07869815826416,
          -10.783126831054688,
          -10.783126831054688,
          2.127526044845581,
          -19.549455642700195,
          20.880455017089844,
          -12.51370620727539,
          -4.802361488342285,
          4.203533172607422,
          21.109237670898438,
          12.283781051635742,
          1.7389849424362183,
          0.37664374709129333,
          28.325735092163086,
          6.438766956329346,
          -15.387103080749512,
          21.849323272705078,
          22.029333114624023,
          12.804807662963867,
          -15.978509902954102,
          22.957019805908203,
          6.187696933746338,
          16.237472534179688,
          -6.712417125701904,
          4.730306625366211,
          16.482423782348633,
          15.585885047912598,
          -5.3168816566467285,
          26.331392288208008,
          27.448047637939453,
          -13.327032089233398,
          1.2305306196212769,
          -31.730091094970703,
          -11.074002265930176,
          -24.53923988342285,
          -12.697901725769043,
          -1.7034776210784912,
          8.274364471435547,
          2.452371120452881,
          4.0198750495910645,
          4.0198750495910645,
          11.166668891906738,
          -16.5344181060791,
          10.716156005859375,
          -24.027851104736328,
          11.542330741882324,
          17.70903778076172,
          -18.101411819458008,
          -3.3005595207214355,
          -17.61118507385254,
          -19.0181941986084,
          -38.63957595825195,
          11.927947998046875,
          -22.15353012084961,
          -8.26185417175293,
          -25.385900497436523,
          -41.67648696899414,
          -41.95692443847656,
          6.16307258605957,
          11.573750495910645,
          -21.021575927734375,
          -27.792442321777344,
          -14.738775253295898,
          -1.3803918361663818,
          -15.417969703674316,
          0.13364765048027039,
          31.495258331298828,
          -12.843855857849121,
          2.5112993717193604,
          -3.635387659072876,
          -9.832408905029297,
          -4.395843982696533,
          4.387895584106445,
          18.519948959350586,
          20.78657341003418,
          -11.21108627319336,
          14.722193717956543,
          -40.01602554321289,
          15.562348365783691,
          0.4226979613304138,
          13.609838485717773,
          -6.670746326446533,
          -0.881826639175415,
          -29.23548126220703,
          1.745331048965454,
          -12.837596893310547,
          9.681796073913574,
          -16.368549346923828,
          10.47896671295166,
          28.106733322143555,
          6.716322422027588,
          3.715146780014038,
          -5.127344131469727,
          -5.151123523712158,
          19.596275329589844,
          -6.160557746887207,
          -9.927693367004395,
          5.005826950073242,
          24.89716911315918,
          -3.9227352142333984,
          -47.53158950805664,
          7.3903632164001465,
          2.7083308696746826,
          -33.766632080078125,
          -12.595812797546387,
          -19.62254524230957,
          17.89415740966797,
          12.134828567504883,
          -34.34436798095703,
          -18.284225463867188,
          -13.191770553588867,
          -14.252735137939453,
          7.735302925109863,
          -10.697466850280762,
          -38.03981018066406,
          -23.259521484375,
          -23.259521484375,
          4.722401142120361,
          -26.610698699951172,
          3.154515027999878,
          1.5836092233657837,
          13.649291038513184,
          -1.9744079113006592,
          20.274110794067383,
          -10.740029335021973,
          -10.480295181274414,
          -1.1418765783309937,
          -37.16163635253906,
          -18.512760162353516,
          15.17892837524414,
          -3.327461004257202,
          -9.1882963180542,
          3.24190092086792,
          -13.92430591583252,
          14.907660484313965,
          18.112714767456055,
          21.653926849365234,
          -31.45395278930664,
          -0.9613826870918274,
          16.893102645874023,
          17.096492767333984,
          -33.301307678222656,
          6.866601467132568,
          -29.89009666442871,
          11.624372482299805,
          -18.70967674255371,
          37.64564895629883,
          1.85066556930542,
          10.056631088256836,
          -25.52553367614746,
          6.587717056274414,
          12.424909591674805,
          8.061849594116211,
          9.338655471801758,
          12.732226371765137,
          10.357229232788086,
          -41.98744583129883,
          -41.98744583129883,
          15.292007446289062,
          11.0303316116333,
          9.601363182067871,
          10.840872764587402,
          19.044740676879883,
          18.869140625,
          1.6075117588043213,
          6.258573532104492,
          1.0543538331985474,
          8.931251525878906,
          -0.04099871590733528,
          6.904465198516846,
          10.91400146484375,
          10.294172286987305,
          -21.42674446105957,
          32.95914077758789,
          32.95914077758789,
          5.613210678100586,
          36.801700592041016,
          24.391389846801758,
          -7.471322059631348,
          -3.5810844898223877,
          18.69563865661621,
          22.609560012817383,
          -19.630800247192383,
          13.46757698059082,
          -17.459449768066406,
          -11.75019645690918,
          0.42029204964637756,
          10.706820487976074,
          22.652576446533203,
          17.529077529907227,
          -7.051225185394287,
          -7.051225185394287,
          11.116847038269043,
          15.135833740234375,
          3.213318347930908,
          2.2486143112182617,
          -18.972017288208008,
          4.050119876861572,
          -0.4367965757846832,
          -5.490124702453613,
          5.15541410446167,
          5.313847541809082,
          18.70168113708496,
          -17.272642135620117,
          0.6913949251174927,
          -19.70372772216797,
          -1.5090066194534302,
          18.193227767944336,
          10.737519264221191,
          -3.1943867206573486,
          24.881208419799805,
          1.3536242246627808,
          -4.908616542816162,
          -12.446514129638672,
          34.29310607910156,
          34.29310607910156,
          -7.8994646072387695,
          -17.023635864257812,
          -11.095598220825195,
          30.8675537109375,
          30.80721664428711,
          -26.216087341308594,
          -26.216087341308594,
          14.26506519317627,
          -28.101457595825195,
          -37.7552375793457,
          -10.248238563537598,
          -14.909004211425781,
          17.201589584350586,
          16.642959594726562,
          -30.38625144958496,
          -34.464962005615234,
          -34.464962005615234,
          25.287273406982422,
          -2.7700138092041016,
          31.437450408935547,
          -7.665858268737793,
          17.065853118896484,
          -7.157721042633057,
          -21.86026954650879,
          5.080440521240234,
          -40.42698669433594,
          -40.16814422607422,
          14.318583488464355,
          -4.213344573974609,
          2.053130626678467,
          25.83245086669922,
          25.949764251708984,
          24.37028694152832,
          5.398343563079834,
          13.15258502960205,
          9.673492431640625,
          -11.34804630279541,
          -1.665361762046814,
          -2.9339561462402344,
          -4.091215133666992,
          -0.9450311660766602,
          -7.157110214233398,
          -19.580976486206055,
          -23.607938766479492,
          22.75938606262207,
          -33.18156433105469,
          -21.142414093017578,
          -4.941059112548828,
          11.70405101776123,
          -2.361429214477539,
          16.11782455444336,
          8.385953903198242,
          16.17986297607422,
          -13.984941482543945,
          -11.599311828613281,
          16.479480743408203,
          -31.801271438598633,
          -23.359975814819336,
          -29.18488311767578,
          1.6263480186462402,
          35.01288604736328,
          -28.565359115600586,
          25.020557403564453,
          25.020557403564453,
          -10.160061836242676,
          11.467394828796387,
          -6.509414196014404,
          -5.567897796630859,
          -2.2695791721343994,
          -7.494157314300537,
          -16.056955337524414,
          35.34680938720703,
          19.772567749023438,
          -14.736419677734375,
          -25.54098129272461,
          9.154107093811035,
          -4.179990291595459,
          17.140167236328125,
          13.009775161743164,
          -40.81018829345703,
          -20.474271774291992,
          -7.740601062774658,
          1.3261690139770508,
          -3.6738805770874023,
          55.63083267211914,
          4.369022369384766,
          8.625208854675293,
          6.626751899719238,
          -34.876121520996094,
          13.196252822875977,
          -36.48493194580078,
          -36.34891128540039,
          25.492277145385742,
          -3.107656240463257,
          -8.337285041809082,
          0.2793470025062561,
          -2.0382943153381348,
          14.324356079101562,
          -10.2025146484375,
          19.61129379272461,
          20.182506561279297,
          -11.89490032196045,
          18.520030975341797,
          -0.8039265275001526,
          -13.373292922973633,
          -13.177096366882324,
          12.489238739013672,
          -10.066641807556152,
          -11.392366409301758,
          24.951602935791016,
          -9.550125122070312,
          -7.165111064910889,
          -7.621523857116699,
          2.5962071418762207,
          -21.69283103942871,
          -11.100200653076172,
          0.3084961771965027,
          1.0985246896743774,
          -29.426706314086914,
          -29.426706314086914,
          -3.1863791942596436,
          -19.159469604492188,
          25.579898834228516,
          -17.622447967529297,
          -15.108802795410156,
          28.961088180541992,
          28.961088180541992,
          -15.921213150024414,
          -20.505704879760742,
          4.411640644073486,
          1.1267014741897583,
          -18.853763580322266,
          74.58784484863281,
          -21.92435073852539
         ],
         "yaxis": "y"
        },
        {
         "customdata": [
          [
           "  Super, polski premier składa kwiaty na grobach kolaborantów. Ale doczekaliśmy czasów."
          ],
          [
           "   Gdzie jest  . Brudziński jesteś kłamcą i marnym kutasem "
          ],
          [
           " Oprawa do Krzysia M. Ps Pinokio -\\n\\\" mogłeś być gangsterem a zostałeś 3 ligowym frajerem \\\"😀"
          ],
          [
           "  No to Skończmy kurwa z tym wersalem w j...ej szczujni"
          ],
          [
           "  Sprawdź chłopie w słowniku co oznacza słowo , którego używasz a potem się odzywaj."
          ],
          [
           "#Woronicza 17 poseł Halicki oburzony za Bolka.Naprawdè taki tępy czy tylko udaje idiotę?"
          ],
          [
           "   Bierze cie cie pod chuj a ty sie produkujesz"
          ],
          [
           "   Jak narazie to masz przywidzenia co nie zmienia faktu że cały czas jesteś idiotą."
          ],
          [
           " Główny powód to brak kasy, trzeba dać bogatym 500+,300+ i być bez godności i honoru"
          ],
          [
           "Nikt nigdy nie rozsiewał takiego smrodu jak "
          ],
          [
           " Koń też ma dużą głowę. Tylko wydaje mi się, że jest bardziej inteligentny niż Karczewski"
          ],
          [
           " Dzisiaj zajmujemy się WARiatem Krystyną ciekawe czy będzie płakał?"
          ],
          [
           " Tym w sejmie też? Banda hipokrytów i złodziei."
          ],
          [
           "  Koń by się uśmiał, TVN24 i TVN wolne media? Bardziej perfidnego łgarstwa nie słyszałem.. 🤔"
          ],
          [
           "    Koń by się uśmiał, TVN24 i TVN wolne media? Bardziej perfidnego łgarstwa nie słyszałem.. 🤔"
          ],
          [
           "  Z motłochem nie dyskutuję tylko daje bany. A Pani  gratuluję obrońcy."
          ],
          [
           " ale z kategoriami moim zdaniem przesadzają.Sponsor roku, serce, impreza ? Bez jaj"
          ],
          [
           " Równie dobrze można gola stracić :)"
          ],
          [
           " Chorwaci przerżną w końcówce dogrywki, wiadomo."
          ],
          [
           " Nasze dzieci będą zdegustwani, był taki PiS, taki  , historia populizmu i głupoty w latach 2015-2019, margines"
          ],
          [
           "Qrwa!! I niech mi nikt nie mówi, że czary to jakiś zabobon!! Chłopaki mają sztywne nogi!"
          ],
          [
           " NIECH JESZCZE DADZĄ LEKTORA I NA GŁÓWNA POSTAĆ MÓWIĄ NADZIEJA"
          ],
          [
           "   NIECH JESZCZE DADZĄ LEKTORA I NA GŁÓWNA POSTAĆ MÓWIĄ NADZIEJA"
          ],
          [
           " Nie no ludzie, żeby robić artykuł na temat jednego tweeta ?..."
          ],
          [
           " Usuń konto, wytrzeźwiej buduj od nowa"
          ],
          [
           "   Sekta, cha, cha, cha, obudź się z hipnozy, jesteś bolszewikiem"
          ],
          [
           " Tylko nie w dupę, to dla niektórych z nich byłaby przyjemność."
          ],
          [
           "  Widać chcą wiecej polskich mord gotujacych koninę"
          ],
          [
           " No to jak się przegrywa cały czas to lepiej przestać grać :)"
          ],
          [
           " Ban,ban i jeszcze raz ban! Co za prymitywne dno!"
          ],
          [
           "  Jasne, bo debile oglądający tvpis płaczą tylko na m jak miłość"
          ],
          [
           "Zdrady stanu to Donald Tusk dopuścił się już w 2010 r kiedy dodał Rosjanom śledztwo w sprawie katastrofy smoleńskiej."
          ],
          [
           "  Ty się oszuście i kłamco od nas odpierdol. My sobie damy radę bez twoich kłamstw"
          ],
          [
           "   odważne słowa jak na legioniste! 😂😂😂"
          ],
          [
           "   Krzyż celtycki w Irlandii debilu ma kompletnie inne znaczenie niż u neofaszystów."
          ],
          [
           " Coś w tym jest,bo ja też😁😁😁. I jeszcze bym dodał Dominisię W. której infantylizm mnie totalnie osłabia."
          ],
          [
           "  Gdzie oni znajdują takich dupków"
          ],
          [
           " Żal ci biedaku??? Gdyby nie Kaczyński to by je twoi przyjaciele z PO rozkradl"
          ],
          [
           "   Żal ci biedaku??? Gdyby nie Kaczyński to by je twoi przyjaciele z PO rozkradl"
          ],
          [
           "Sekta kurwa, jakaś niepojęta radość, każde konto pisdzielskie tylko o jednym"
          ],
          [
           " Jakiej pracy, ty już pajacu nie wiesz na czym się lansować. Sejm nie pracuje."
          ],
          [
           "   jutro walczycie ? Normalnie rycerze ! A gdzie byliście wcześniej ? A zapomniałem że nie o L chodziło"
          ],
          [
           " Ale to głupie, rdzennie głupie, bardziej głupie już być nie może"
          ],
          [
           " Już się boję. Postraszy mnie Pan kolegami narodowcami?"
          ],
          [
           "  Nazwisko tego babska😁😁😁😁. Bo Wczoraj był na MO😁😁😀"
          ],
          [
           " Zbiera się do kontrataku, dla swojego pryncypala pójdzie w bój, patrityczna dusza,  co nie  ?"
          ],
          [
           "   Tak to jest jak ktoś nie wie do którego lekarza iść najpierw."
          ],
          [
           "  Wasz świat? To się w nim zamknijcie i nie wystawiajcie nosa."
          ],
          [
           "  Przyjaciół to niech on sobie szuka za swoje prywatne pieniądze. I niech robi z siebie idiotę na własny rachunek."
          ],
          [
           " Ja przynajmniej mam profilowe i nie chowam się za awatarem. Ale bohaterów MW na to nie stać i w sumie nic w tym dziwnego."
          ],
          [
           " Czego się spodziewać po członku żydowskiego amerykańskiego lobby. Lata na kolanach przed żydami zrobiło swoje."
          ],
          [
           "   Czego się spodziewać po członku żydowskiego amerykańskiego lobby. Lata na kolanach przed żydami zrobiło swoj…"
          ],
          [
           " Ale ty jesteś żenujący. Dno metr mułu."
          ],
          [
           " znacznie bliżej jest mi muzułmanin  czy indus, niż katolicka, łysa swołocz ze wschodu europy, do tego rasistowska"
          ],
          [
           "   Low kick, kolano łokieć, blacha na czoło i stara leży"
          ],
          [
           " Wio endekdu, ścierwa, zdrajcy, szubienica"
          ],
          [
           "   Widzę, że dalej nie rozumiesz. No nic idę oglądać LM. Pozdro."
          ],
          [
           "  A co o włoskich faszystach i węgierskich nacjonalistach?"
          ],
          [
           "  Dojenie kasy przez rząd\\nKompromitacja Morawieckiego w Niemczech\\nKaczyński twórca państwa Polskiego w 2016 roku"
          ],
          [
           "   No to po co się zgodził na klauzule dopiero po zakończeniu przyszłego sezonu, a nie od razu ?"
          ],
          [
           " Jest to prawda. Ale MSZ powinien. On pewnie myślał, że jest w Pisowskiej Polsce i wszystkoi wolno.😀😀😀"
          ],
          [
           " Może ogłuszyły go te korki od szampanów, które strzelały po podpisaniu kontraktu Sadloka z Jagiellonią ?"
          ],
          [
           "Panie i panowie, totalna porażka  w miastach. \\nT O T A L N A \\nTo bardzo ważny znak."
          ],
          [
           "  Panie i panowie, totalna porażka  w miastach. \\nT O T A L N A \\nTo bardzo ważny znak."
          ],
          [
           "    ręce opadaj że takich rzeczy ludzie związani z futsalem nie wiedzą."
          ],
          [
           " Na wszystko masz odpowiedź, żyłeś w tych czasach?"
          ],
          [
           "  Mr. Czarnecki. To nie hipokryzja tylko zwykła ludzka przyzwoitość. Widać że niektórym obce takie  odruchy."
          ],
          [
           "  Maly murzyn, silny i zdrowy"
          ],
          [
           " Jeszcze was zjemy i wysramy"
          ],
          [
           " Wy narobiliscie 30miliardow dlugow za waszych rzadow #oddajciekase"
          ],
          [
           "   Wy narobiliscie 30miliardow dlugow za waszych rzadow #oddajciekase"
          ],
          [
           " Tak jak pisdzielstwo ośmiesza policjantów , to już, nikt, nigdy bardziej nie będzie"
          ],
          [
           " A kiedy przestanie wydawać mln na swoich ochroniarzy, tylko zacznie leczyć u psychiatry swoją manię prześladowczą?"
          ],
          [
           " Pierwszy priorytet zadowolić Jarkacza, drugi priorytet ssać kasę wszystkimi otworami,  mają rozdwojenie jaźni"
          ],
          [
           " Huj z wami dziennikarzami. Piłka nożna dla kibiców a nie pseudo dziennikarzy."
          ],
          [
           "  tylko nie Załuska.Nie potrzeba nam takich piłkarzy bez ambicji."
          ],
          [
           "Pensja, kasa, dojenie,  ,ssanie kasy, ruchanie w meskie dupy, zawsze za pis, trudny teren, ciezkie warunki"
          ],
          [
           " Polska to nie napis na dropsie, uuuu, niedobrze, uuuuuuu"
          ],
          [
           " raczej ty się powinieneś jebnąć ale nie wiem czy to pomoże"
          ],
          [
           " Jak narazie to sobie możecie kupę zrobić. Albo hurtowo dać dupy pedofilów w sutannach, których publicznie bronicie."
          ],
          [
           "Ale mam chujowy humor przez to, że nie zdałam i jestem na siebie zła"
          ],
          [
           "  A ty wieś kretynie CONTI jest Acta2 i czego dotyczy? Najpierw przeczytaj a potem się wypowiadaj."
          ],
          [
           "Beata #Mazurek w Sejmie na pytanie co myśli o pomyśle Kaczyńskiego o obniżkach wynagrodzeń: \\\"Ja nic nie myślę\\\". To słychać."
          ],
          [
           "  Beata #Mazurek w Sejmie na pytanie co myśli o pomyśle Kaczyńskiego o obniżkach wynagrodzeń: \\\"Ja nic nie myślę\\\". To słyc…"
          ],
          [
           " Kto mieczem wojuje od pochwy ginie "
          ],
          [
           "  Ale dlaczego głupi   tłumaczy to jeszcze głupszemu  ?"
          ],
          [
           "Nowe chodnikowe powiedzonko brzmi:\\n\\nPierdolisz jak Morawiecki, realy.\\n\\n  \\n\\nHybryda głupoty."
          ],
          [
           "  Nowe chodnikowe powiedzonko brzmi:\\n\\nPierdolisz jak Morawiecki, realy.\\n\\n  \\n\\nHybryda głupoty."
          ],
          [
           "jak ja się źle czulem jak byłem dzieckiem w  kościele to głow mala, szopka do kwadratu, nie mogłem tego wytrzymać"
          ],
          [
           "  Ty pajacu, zmień sobie herb na pusty łeb."
          ],
          [
           " Łukaszewicz, co Wy tam palicie?"
          ],
          [
           "   Leszku mój kochany, masz mózg wyprany"
          ],
          [
           " a ja współczuje zaślepienia.Wolę nie mieć Wolskiego niż robić kolejne długi "
          ],
          [
           "   Zawsze bedą afery bo zawsze będa tacy l którzy kradną  i tacy u wladzy których to kręci"
          ],
          [
           " zaraz będą pisać że Wisła szkoli kiboli żeby potrafili maczetą wymachiwać :)"
          ],
          [
           " Odstawiając narodowość na bok to ten skład jest przecież słabiutki."
          ],
          [
           " akurat Tobie bliżej do Karolaka bo w większości Cię wycięli 😂    "
          ],
          [
           " To się nazywa uzależnienie xD"
          ],
          [
           " Info z ostatniej chwili barwy pogoni skrojone przez bandytów Z Krakowa.  Pomimo zakazu Wisła rządzi"
          ],
          [
           " Co ty żresz, że ci tak pierdolnęło?"
          ],
          [
           "  Trudno być pewnym, gdy stoperzy mogą zagrać tylko lagę do przodu, bo środka nie mamy."
          ],
          [
           "   No właśnie, nie było i dlatego patologia została stosownie potraktowana."
          ],
          [
           " skoro jest dno dna to może skupmy się na tych od których coś wymagamy"
          ],
          [
           "   Tylko ty masz problem z rzecznikiem, więc zastanów się w kim tak naprawdę jest problem? 🤔"
          ],
          [
           "Wassermannówna kłamie, mówiąc, że „przyszła do polityki”. Ona przyjechała na trumnie ojca."
          ],
          [
           "  Wassermannówna kłamie, mówiąc, że „przyszła do polityki”. Ona przyjechała na trumnie ojca."
          ],
          [
           " Już dwa lata temu powinni wygrac Euro."
          ],
          [
           "jak Patryk Jaki wygra wybory w Warszawie oczyści stolicę z byłych UBECKICH funkcjonariuszy ! #woronicza17"
          ],
          [
           "  jak Patryk Jaki wygra wybory w Warszawie oczyści stolicę z byłych UBECKICH funkcjonariuszy ! #woronicza17"
          ],
          [
           "Szkoda, że przez wymysły Mendesa taki Ruben Neves się marnuje w Wolverhampton."
          ],
          [
           " Kolar niestety ten sam poziom. Chyba trzeba będzie liczyć na skuteczność Boguskiego i Małeckiego..."
          ],
          [
           " Przecież to legionista to komu ma życzyć mistrza.Nie wiedziałeś ?"
          ],
          [
           " Krzyż przeciw prezydenturze, krzyż obłędu"
          ],
          [
           " Jaki hejt.Hejt to jest na Tuska, Komorowskiego, przecież to nie Polacy, śmierć wrogom ojczyzny. Obudź się"
          ],
          [
           "Ale przecież #Polexit jest dobry. Założycie koszulki z orłem i będziecie żryć ziemniaki i wungiel 😇"
          ],
          [
           "  Ale przecież #Polexit jest dobry. Założycie koszulki z orłem i będziecie żryć ziemniaki i wungiel 😇"
          ],
          [
           "  Bo sama jest niepełnosprawna... Umysłowo.😁😁"
          ],
          [
           " Wy się zjednoczyliście z faszystami z połowy Europy. Kpromitacja level hard."
          ],
          [
           "  Mam rozumieć, że to mapa nasycenia krajów zboczeńcami w sutannach."
          ],
          [
           "  Polskę to kompromitują tacy jak ty. Oszołomie."
          ],
          [
           " 😁😁😁😁😁😁😁😁  teraz to mnie Pani ubawiła tym paskiem. A widziała Pani swoją szyję?"
          ],
          [
           "  Pajacu, jak podajesz przepis to masz go znać na pamięć. Inaczej robią z siebie idiotę tak jak teraz."
          ],
          [
           "   Ty się chyba debilu nie słyszysz, ty tekstów to się po nocach uczysz czy masz słuchawkę w uchu?"
          ],
          [
           "   Szczekać to mogą tacy jak ty #delegalizacja"
          ],
          [
           "  Mówisz że ONR lize doope😂"
          ],
          [
           "  A kiedy zaczniecie zbiórki na krówki i świnki?"
          ],
          [
           "  Plujecie na Polskę to my będziemy pluć na was."
          ],
          [
           "    Plujecie na Polskę to my będziemy pluć na was."
          ],
          [
           " Cie zaraz piznę, jak nie zaczniesz myśleć"
          ],
          [
           " Komentarz raz a dwa słysząc trybuny zastanawiam się czy ten kto wymyślił mecze w pn obejrzał choć jeden"
          ],
          [
           " A Ty nigdy nie robisz dwóch rzeczy jednocześnie? Np. idziesz i żujesz gumę."
          ],
          [
           "  Ty kurwa  nie pierdol w tv bo sie żygać chce"
          ],
          [
           " problemem jest to że jak sobie coś ubzdurasz to myślisz że zawsze masz racje bo jesteś wszechwiedzący "
          ],
          [
           " A pisdzielstwo, szczury, gady, plazy popromienne, azbestowe?"
          ],
          [
           "  jak Zarycki jest Twoim informatorem to te info można w kiblu spuścić"
          ],
          [
           "  Najpierw kasza, później przyjemności, a kiedyś wolność, ale wy klękacie bez obawy zostanie i tak bez was"
          ],
          [
           "   No oboje Państwo wyglądacie jak rodzeństwo. I tacy żółci oboje."
          ],
          [
           " No kurwa  ty masz nie rządzić, madz nie rządzić"
          ],
          [
           " personalnie do tej Pani, przyjrzyj się sobie   ,  "
          ],
          [
           "Czy naprawdę trzeba publicznie przyznawać się do nieprzygotowania do meczu, drodzy panowie komentatorzy? (kwestia Sheridana)"
          ],
          [
           "Na tt te beznadziejne gadki o niczym, to już wolę sam ze sobą"
          ],
          [
           " Pamiętaj, ze ja daleko do ciebie nie mam 😂"
          ],
          [
           " Jest tej chołoty tutaj całkiem sporo. Napewno się udzielają."
          ],
          [
           " do domu bo ci rózga dupę  ty mały  "
          ],
          [
           "Teraz zarykam nos i mowie \\\"cała polska z was sie śmieje, komuniści i zlodzieje,"
          ],
          [
           " Pana zdanie nie interesuje Polaków ❗\\nWypchaj się Pan niemiecką, śmierdzącą onucą ❗"
          ],
          [
           "   Pana zdanie nie interesuje Polaków ❗\\nWypchaj się Pan niemiecką, śmierdzącą onucą ❗"
          ],
          [
           " Badziewny zespół, a i tak Anglicy byli o krok od straty punktów :)"
          ],
          [
           " nawet pasy to dla was za duże wyzwanie co widać po twoim profilowym.Mistrzowie opraw."
          ],
          [
           " Haha  a ilu ty zapraszasz do studia co pierd...takie głupoty..."
          ],
          [
           "   Haha  a ilu ty zapraszasz do studia co pierd...takie głupoty..."
          ],
          [
           " Ale za to wystąpił równie błyskotliwy,inteligentny, merytoryczny,bystry poseł Kieeerwiiinski!!!"
          ],
          [
           " Ok boli, boli. Czarne katabasy, mordercy irlandzkich kobiet i sierot do kruchty i pokutować do końca życia za swoje występki."
          ],
          [
           " Niby sami świnie, a nic nie wiedzą"
          ],
          [
           " tego się niespodziewałem po Tobie... Zawiodłeś nas :D "
          ]
         ],
         "hovertemplate": "label=1<br>x=%{x}<br>y=%{y}<br>text=%{customdata[0]}<extra></extra>",
         "legendgroup": "1",
         "marker": {
          "color": "#EF553B",
          "symbol": "circle"
         },
         "mode": "markers",
         "name": "1",
         "orientation": "v",
         "showlegend": true,
         "type": "scatter",
         "x": [
          16.39318084716797,
          22.620662689208984,
          2.150271415710449,
          5.786503314971924,
          0.5336252450942993,
          2.887648582458496,
          -34.77964782714844,
          -2.169060707092285,
          -12.981019973754883,
          -13.93047046661377,
          -0.3858325183391571,
          0.007904279045760632,
          -13.749202728271484,
          41.36483383178711,
          41.36483383178711,
          30.98650360107422,
          -26.601490020751953,
          0.002031790092587471,
          -2.9062960147857666,
          5.839152812957764,
          -20.812660217285156,
          -9.83566665649414,
          -9.83566665649414,
          18.98853302001953,
          -25.80491828918457,
          24.257038116455078,
          16.31536102294922,
          -16.932491302490234,
          -2.5165107250213623,
          6.459963321685791,
          -2.163268804550171,
          -9.574116706848145,
          -29.340715408325195,
          24.445037841796875,
          -34.96143341064453,
          11.843305587768555,
          17.692344665527344,
          -8.27366828918457,
          -8.27366828918457,
          -28.845901489257812,
          23.932289123535156,
          23.133445739746094,
          -9.317422866821289,
          10.273895263671875,
          9.914170265197754,
          5.854921817779541,
          -20.97300910949707,
          -3.878645658493042,
          10.300809860229492,
          19.66463279724121,
          17.751399993896484,
          17.9094181060791,
          21.844266891479492,
          -4.1576313972473145,
          -39.35210418701172,
          -98.62242126464844,
          -16.406679153442383,
          4.659884929656982,
          -5.940405368804932,
          -1.4773414134979248,
          2.119302749633789,
          -9.036002159118652,
          -23.44060516357422,
          -23.48114776611328,
          19.649282455444336,
          26.8596134185791,
          0.7708805799484253,
          -28.08375358581543,
          -24.573455810546875,
          19.076278686523438,
          19.2010440826416,
          -14.642477035522461,
          31.15028953552246,
          -17.4487361907959,
          33.738712310791016,
          -6.343986511230469,
          -6.608240127563477,
          6.1696624755859375,
          0.3845188319683075,
          -13.452075004577637,
          21.185226440429688,
          2.5466554164886475,
          -5.853055953979492,
          -5.672229290008545,
          -28.081661224365234,
          16.36128044128418,
          -24.63479995727539,
          -24.63479995727539,
          21.073740005493164,
          24.647138595581055,
          15.190486907958984,
          7.626418590545654,
          -2.3307580947875977,
          -9.562503814697266,
          20.682985305786133,
          7.000300407409668,
          -2.9560272693634033,
          7.443509578704834,
          22.785951614379883,
          15.806398391723633,
          -11.646553993225098,
          15.062142372131348,
          -4.066272258758545,
          -12.004725456237793,
          35.17959976196289,
          35.17959976196289,
          21.917367935180664,
          40.41341781616211,
          40.58933639526367,
          8.323206901550293,
          -16.345035552978516,
          8.047245979309082,
          -35.29465103149414,
          6.149637699127197,
          40.930084228515625,
          40.930084228515625,
          -8.303799629211426,
          16.637182235717773,
          28.84868812561035,
          -10.666625022888184,
          29.958839416503906,
          -9.247002601623535,
          0.6105855107307434,
          -10.78770637512207,
          -38.128849029541016,
          -6.386044025421143,
          -7.3821702003479,
          -7.254966735839844,
          -35.25474548339844,
          -19.941001892089844,
          22.482444763183594,
          3.1386852264404297,
          -1.2079389095306396,
          -16.21159553527832,
          -23.410837173461914,
          -27.12232208251953,
          -11.906315803527832,
          2.880934715270996,
          30.308027267456055,
          -17.946033477783203,
          0.9993785619735718,
          23.1164608001709,
          31.865703582763672,
          15.668509483337402,
          -26.82747459411621,
          40.251243591308594,
          40.50849914550781,
          -22.65007972717285,
          -1.137640118598938,
          6.358323574066162,
          6.358323574066162,
          1.3353487253189087,
          10.056380271911621,
          -15.536087989807129,
          -3.114490032196045
         ],
         "xaxis": "x",
         "y": [
          -30.376808166503906,
          23.407161712646484,
          -24.008506774902344,
          10.880208969116211,
          -29.12921714782715,
          30.95446014404297,
          10.648499488830566,
          6.4453654289245605,
          -21.40935707092285,
          10.587200164794922,
          1.6688268184661865,
          20.872955322265625,
          -13.350281715393066,
          12.573136329650879,
          12.573136329650879,
          -15.774147987365723,
          7.007259368896484,
          31.331165313720703,
          -20.658884048461914,
          29.1411075592041,
          -2.7177608013153076,
          -41.41831970214844,
          -41.41831970214844,
          -16.33502769470215,
          -2.875065326690674,
          26.70513153076172,
          2.7896392345428467,
          -22.479265213012695,
          7.216987609863281,
          -14.82553768157959,
          -7.180282115936279,
          -31.511987686157227,
          3.3773114681243896,
          -22.77403450012207,
          28.403474807739258,
          7.447569370269775,
          14.728337287902832,
          -26.231443405151367,
          -26.231443405151367,
          -3.080281972885132,
          -8.317207336425781,
          18.7536678314209,
          -15.307671546936035,
          -1.2691231966018677,
          33.93723678588867,
          2.865912437438965,
          6.428515434265137,
          14.403406143188477,
          -9.614343643188477,
          5.792235374450684,
          -35.96729278564453,
          -36.23997497558594,
          25.774335861206055,
          23.801130294799805,
          3.7876291275024414,
          -25.915321350097656,
          -5.127316474914551,
          -22.086767196655273,
          36.62060546875,
          -14.301579475402832,
          3.873246669769287,
          -11.992204666137695,
          26.27730941772461,
          26.59070587158203,
          -12.844127655029297,
          -15.937870979309082,
          -0.32760947942733765,
          -9.637385368347168,
          -18.071060180664062,
          -22.886775970458984,
          -22.618579864501953,
          9.750909805297852,
          29.371742248535156,
          -37.24258041381836,
          10.767029762268066,
          -2.668156862258911,
          36.33501052856445,
          -38.100303649902344,
          12.108572959899902,
          -24.695796966552734,
          3.5244438648223877,
          -28.894630432128906,
          -16.98504638671875,
          -17.202531814575195,
          -14.724846839904785,
          -8.744922637939453,
          32.954219818115234,
          32.954219818115234,
          9.890560150146484,
          -8.269444465637207,
          -20.902584075927734,
          22.47711944580078,
          26.777040481567383,
          32.44247817993164,
          20.091026306152344,
          -3.903486728668213,
          22.35722541809082,
          16.557031631469727,
          -17.981731414794922,
          8.224465370178223,
          26.41530990600586,
          -0.8465431928634644,
          -25.031696319580078,
          -8.99604606628418,
          17.595487594604492,
          17.595487594604492,
          -33.5236701965332,
          25.91790771484375,
          25.66155433654785,
          27.611059188842773,
          -17.892269134521484,
          -6.070550918579102,
          28.62930679321289,
          -4.73257303237915,
          -4.175853729248047,
          -4.175853729248047,
          19.52727508544922,
          -22.0736141204834,
          8.056147575378418,
          31.225656509399414,
          -16.809221267700195,
          8.126482009887695,
          10.700465202331543,
          30.8861141204834,
          -3.5129103660583496,
          -32.58210372924805,
          -21.17807960510254,
          -20.94041633605957,
          10.962488174438477,
          -13.986491203308105,
          -11.848033905029297,
          10.33371353149414,
          5.446859359741211,
          9.176687240600586,
          -7.0476179122924805,
          5.711053848266602,
          32.2923469543457,
          9.340457916259766,
          -18.00800132751465,
          14.104331970214844,
          -6.181493759155273,
          7.9402666091918945,
          -19.46247673034668,
          9.053112983703613,
          -18.588563919067383,
          -14.086851119995117,
          -14.245100975036621,
          -31.225204467773438,
          -17.338590621948242,
          -26.535377502441406,
          -26.535377502441406,
          31.40521812438965,
          -21.665287017822266,
          -2.2861874103546143,
          20.562997817993164
         ],
         "yaxis": "y"
        }
       ],
       "layout": {
        "legend": {
         "title": {
          "text": "label"
         },
         "tracegroupgap": 0
        },
        "template": {
         "data": {
          "bar": [
           {
            "error_x": {
             "color": "#2a3f5f"
            },
            "error_y": {
             "color": "#2a3f5f"
            },
            "marker": {
             "line": {
              "color": "#E5ECF6",
              "width": 0.5
             },
             "pattern": {
              "fillmode": "overlay",
              "size": 10,
              "solidity": 0.2
             }
            },
            "type": "bar"
           }
          ],
          "barpolar": [
           {
            "marker": {
             "line": {
              "color": "#E5ECF6",
              "width": 0.5
             },
             "pattern": {
              "fillmode": "overlay",
              "size": 10,
              "solidity": 0.2
             }
            },
            "type": "barpolar"
           }
          ],
          "carpet": [
           {
            "aaxis": {
             "endlinecolor": "#2a3f5f",
             "gridcolor": "white",
             "linecolor": "white",
             "minorgridcolor": "white",
             "startlinecolor": "#2a3f5f"
            },
            "baxis": {
             "endlinecolor": "#2a3f5f",
             "gridcolor": "white",
             "linecolor": "white",
             "minorgridcolor": "white",
             "startlinecolor": "#2a3f5f"
            },
            "type": "carpet"
           }
          ],
          "choropleth": [
           {
            "colorbar": {
             "outlinewidth": 0,
             "ticks": ""
            },
            "type": "choropleth"
           }
          ],
          "contour": [
           {
            "colorbar": {
             "outlinewidth": 0,
             "ticks": ""
            },
            "colorscale": [
             [
              0,
              "#0d0887"
             ],
             [
              0.1111111111111111,
              "#46039f"
             ],
             [
              0.2222222222222222,
              "#7201a8"
             ],
             [
              0.3333333333333333,
              "#9c179e"
             ],
             [
              0.4444444444444444,
              "#bd3786"
             ],
             [
              0.5555555555555556,
              "#d8576b"
             ],
             [
              0.6666666666666666,
              "#ed7953"
             ],
             [
              0.7777777777777778,
              "#fb9f3a"
             ],
             [
              0.8888888888888888,
              "#fdca26"
             ],
             [
              1,
              "#f0f921"
             ]
            ],
            "type": "contour"
           }
          ],
          "contourcarpet": [
           {
            "colorbar": {
             "outlinewidth": 0,
             "ticks": ""
            },
            "type": "contourcarpet"
           }
          ],
          "heatmap": [
           {
            "colorbar": {
             "outlinewidth": 0,
             "ticks": ""
            },
            "colorscale": [
             [
              0,
              "#0d0887"
             ],
             [
              0.1111111111111111,
              "#46039f"
             ],
             [
              0.2222222222222222,
              "#7201a8"
             ],
             [
              0.3333333333333333,
              "#9c179e"
             ],
             [
              0.4444444444444444,
              "#bd3786"
             ],
             [
              0.5555555555555556,
              "#d8576b"
             ],
             [
              0.6666666666666666,
              "#ed7953"
             ],
             [
              0.7777777777777778,
              "#fb9f3a"
             ],
             [
              0.8888888888888888,
              "#fdca26"
             ],
             [
              1,
              "#f0f921"
             ]
            ],
            "type": "heatmap"
           }
          ],
          "heatmapgl": [
           {
            "colorbar": {
             "outlinewidth": 0,
             "ticks": ""
            },
            "colorscale": [
             [
              0,
              "#0d0887"
             ],
             [
              0.1111111111111111,
              "#46039f"
             ],
             [
              0.2222222222222222,
              "#7201a8"
             ],
             [
              0.3333333333333333,
              "#9c179e"
             ],
             [
              0.4444444444444444,
              "#bd3786"
             ],
             [
              0.5555555555555556,
              "#d8576b"
             ],
             [
              0.6666666666666666,
              "#ed7953"
             ],
             [
              0.7777777777777778,
              "#fb9f3a"
             ],
             [
              0.8888888888888888,
              "#fdca26"
             ],
             [
              1,
              "#f0f921"
             ]
            ],
            "type": "heatmapgl"
           }
          ],
          "histogram": [
           {
            "marker": {
             "pattern": {
              "fillmode": "overlay",
              "size": 10,
              "solidity": 0.2
             }
            },
            "type": "histogram"
           }
          ],
          "histogram2d": [
           {
            "colorbar": {
             "outlinewidth": 0,
             "ticks": ""
            },
            "colorscale": [
             [
              0,
              "#0d0887"
             ],
             [
              0.1111111111111111,
              "#46039f"
             ],
             [
              0.2222222222222222,
              "#7201a8"
             ],
             [
              0.3333333333333333,
              "#9c179e"
             ],
             [
              0.4444444444444444,
              "#bd3786"
             ],
             [
              0.5555555555555556,
              "#d8576b"
             ],
             [
              0.6666666666666666,
              "#ed7953"
             ],
             [
              0.7777777777777778,
              "#fb9f3a"
             ],
             [
              0.8888888888888888,
              "#fdca26"
             ],
             [
              1,
              "#f0f921"
             ]
            ],
            "type": "histogram2d"
           }
          ],
          "histogram2dcontour": [
           {
            "colorbar": {
             "outlinewidth": 0,
             "ticks": ""
            },
            "colorscale": [
             [
              0,
              "#0d0887"
             ],
             [
              0.1111111111111111,
              "#46039f"
             ],
             [
              0.2222222222222222,
              "#7201a8"
             ],
             [
              0.3333333333333333,
              "#9c179e"
             ],
             [
              0.4444444444444444,
              "#bd3786"
             ],
             [
              0.5555555555555556,
              "#d8576b"
             ],
             [
              0.6666666666666666,
              "#ed7953"
             ],
             [
              0.7777777777777778,
              "#fb9f3a"
             ],
             [
              0.8888888888888888,
              "#fdca26"
             ],
             [
              1,
              "#f0f921"
             ]
            ],
            "type": "histogram2dcontour"
           }
          ],
          "mesh3d": [
           {
            "colorbar": {
             "outlinewidth": 0,
             "ticks": ""
            },
            "type": "mesh3d"
           }
          ],
          "parcoords": [
           {
            "line": {
             "colorbar": {
              "outlinewidth": 0,
              "ticks": ""
             }
            },
            "type": "parcoords"
           }
          ],
          "pie": [
           {
            "automargin": true,
            "type": "pie"
           }
          ],
          "scatter": [
           {
            "fillpattern": {
             "fillmode": "overlay",
             "size": 10,
             "solidity": 0.2
            },
            "type": "scatter"
           }
          ],
          "scatter3d": [
           {
            "line": {
             "colorbar": {
              "outlinewidth": 0,
              "ticks": ""
             }
            },
            "marker": {
             "colorbar": {
              "outlinewidth": 0,
              "ticks": ""
             }
            },
            "type": "scatter3d"
           }
          ],
          "scattercarpet": [
           {
            "marker": {
             "colorbar": {
              "outlinewidth": 0,
              "ticks": ""
             }
            },
            "type": "scattercarpet"
           }
          ],
          "scattergeo": [
           {
            "marker": {
             "colorbar": {
              "outlinewidth": 0,
              "ticks": ""
             }
            },
            "type": "scattergeo"
           }
          ],
          "scattergl": [
           {
            "marker": {
             "colorbar": {
              "outlinewidth": 0,
              "ticks": ""
             }
            },
            "type": "scattergl"
           }
          ],
          "scattermapbox": [
           {
            "marker": {
             "colorbar": {
              "outlinewidth": 0,
              "ticks": ""
             }
            },
            "type": "scattermapbox"
           }
          ],
          "scatterpolar": [
           {
            "marker": {
             "colorbar": {
              "outlinewidth": 0,
              "ticks": ""
             }
            },
            "type": "scatterpolar"
           }
          ],
          "scatterpolargl": [
           {
            "marker": {
             "colorbar": {
              "outlinewidth": 0,
              "ticks": ""
             }
            },
            "type": "scatterpolargl"
           }
          ],
          "scatterternary": [
           {
            "marker": {
             "colorbar": {
              "outlinewidth": 0,
              "ticks": ""
             }
            },
            "type": "scatterternary"
           }
          ],
          "surface": [
           {
            "colorbar": {
             "outlinewidth": 0,
             "ticks": ""
            },
            "colorscale": [
             [
              0,
              "#0d0887"
             ],
             [
              0.1111111111111111,
              "#46039f"
             ],
             [
              0.2222222222222222,
              "#7201a8"
             ],
             [
              0.3333333333333333,
              "#9c179e"
             ],
             [
              0.4444444444444444,
              "#bd3786"
             ],
             [
              0.5555555555555556,
              "#d8576b"
             ],
             [
              0.6666666666666666,
              "#ed7953"
             ],
             [
              0.7777777777777778,
              "#fb9f3a"
             ],
             [
              0.8888888888888888,
              "#fdca26"
             ],
             [
              1,
              "#f0f921"
             ]
            ],
            "type": "surface"
           }
          ],
          "table": [
           {
            "cells": {
             "fill": {
              "color": "#EBF0F8"
             },
             "line": {
              "color": "white"
             }
            },
            "header": {
             "fill": {
              "color": "#C8D4E3"
             },
             "line": {
              "color": "white"
             }
            },
            "type": "table"
           }
          ]
         },
         "layout": {
          "annotationdefaults": {
           "arrowcolor": "#2a3f5f",
           "arrowhead": 0,
           "arrowwidth": 1
          },
          "autotypenumbers": "strict",
          "coloraxis": {
           "colorbar": {
            "outlinewidth": 0,
            "ticks": ""
           }
          },
          "colorscale": {
           "diverging": [
            [
             0,
             "#8e0152"
            ],
            [
             0.1,
             "#c51b7d"
            ],
            [
             0.2,
             "#de77ae"
            ],
            [
             0.3,
             "#f1b6da"
            ],
            [
             0.4,
             "#fde0ef"
            ],
            [
             0.5,
             "#f7f7f7"
            ],
            [
             0.6,
             "#e6f5d0"
            ],
            [
             0.7,
             "#b8e186"
            ],
            [
             0.8,
             "#7fbc41"
            ],
            [
             0.9,
             "#4d9221"
            ],
            [
             1,
             "#276419"
            ]
           ],
           "sequential": [
            [
             0,
             "#0d0887"
            ],
            [
             0.1111111111111111,
             "#46039f"
            ],
            [
             0.2222222222222222,
             "#7201a8"
            ],
            [
             0.3333333333333333,
             "#9c179e"
            ],
            [
             0.4444444444444444,
             "#bd3786"
            ],
            [
             0.5555555555555556,
             "#d8576b"
            ],
            [
             0.6666666666666666,
             "#ed7953"
            ],
            [
             0.7777777777777778,
             "#fb9f3a"
            ],
            [
             0.8888888888888888,
             "#fdca26"
            ],
            [
             1,
             "#f0f921"
            ]
           ],
           "sequentialminus": [
            [
             0,
             "#0d0887"
            ],
            [
             0.1111111111111111,
             "#46039f"
            ],
            [
             0.2222222222222222,
             "#7201a8"
            ],
            [
             0.3333333333333333,
             "#9c179e"
            ],
            [
             0.4444444444444444,
             "#bd3786"
            ],
            [
             0.5555555555555556,
             "#d8576b"
            ],
            [
             0.6666666666666666,
             "#ed7953"
            ],
            [
             0.7777777777777778,
             "#fb9f3a"
            ],
            [
             0.8888888888888888,
             "#fdca26"
            ],
            [
             1,
             "#f0f921"
            ]
           ]
          },
          "colorway": [
           "#636efa",
           "#EF553B",
           "#00cc96",
           "#ab63fa",
           "#FFA15A",
           "#19d3f3",
           "#FF6692",
           "#B6E880",
           "#FF97FF",
           "#FECB52"
          ],
          "font": {
           "color": "#2a3f5f"
          },
          "geo": {
           "bgcolor": "white",
           "lakecolor": "white",
           "landcolor": "#E5ECF6",
           "showlakes": true,
           "showland": true,
           "subunitcolor": "white"
          },
          "hoverlabel": {
           "align": "left"
          },
          "hovermode": "closest",
          "mapbox": {
           "style": "light"
          },
          "paper_bgcolor": "white",
          "plot_bgcolor": "#E5ECF6",
          "polar": {
           "angularaxis": {
            "gridcolor": "white",
            "linecolor": "white",
            "ticks": ""
           },
           "bgcolor": "#E5ECF6",
           "radialaxis": {
            "gridcolor": "white",
            "linecolor": "white",
            "ticks": ""
           }
          },
          "scene": {
           "xaxis": {
            "backgroundcolor": "#E5ECF6",
            "gridcolor": "white",
            "gridwidth": 2,
            "linecolor": "white",
            "showbackground": true,
            "ticks": "",
            "zerolinecolor": "white"
           },
           "yaxis": {
            "backgroundcolor": "#E5ECF6",
            "gridcolor": "white",
            "gridwidth": 2,
            "linecolor": "white",
            "showbackground": true,
            "ticks": "",
            "zerolinecolor": "white"
           },
           "zaxis": {
            "backgroundcolor": "#E5ECF6",
            "gridcolor": "white",
            "gridwidth": 2,
            "linecolor": "white",
            "showbackground": true,
            "ticks": "",
            "zerolinecolor": "white"
           }
          },
          "shapedefaults": {
           "line": {
            "color": "#2a3f5f"
           }
          },
          "ternary": {
           "aaxis": {
            "gridcolor": "white",
            "linecolor": "white",
            "ticks": ""
           },
           "baxis": {
            "gridcolor": "white",
            "linecolor": "white",
            "ticks": ""
           },
           "bgcolor": "#E5ECF6",
           "caxis": {
            "gridcolor": "white",
            "linecolor": "white",
            "ticks": ""
           }
          },
          "title": {
           "x": 0.05
          },
          "xaxis": {
           "automargin": true,
           "gridcolor": "white",
           "linecolor": "white",
           "ticks": "",
           "title": {
            "standoff": 15
           },
           "zerolinecolor": "white",
           "zerolinewidth": 2
          },
          "yaxis": {
           "automargin": true,
           "gridcolor": "white",
           "linecolor": "white",
           "ticks": "",
           "title": {
            "standoff": 15
           },
           "zerolinecolor": "white",
           "zerolinewidth": 2
          }
         }
        },
        "title": {
         "text": "TSNE dla TF_IDF"
        },
        "xaxis": {
         "anchor": "y",
         "domain": [
          0,
          1
         ],
         "title": {
          "text": "x"
         }
        },
        "yaxis": {
         "anchor": "x",
         "domain": [
          0,
          1
         ],
         "title": {
          "text": "y"
         }
        }
       }
      }
     },
     "metadata": {},
     "output_type": "display_data"
    }
   ],
   "source": [
    "X_embedded = TSNE(n_components=2, random_state=42).fit_transform(X)\n",
    "\n",
    "df_tsne = pd.DataFrame(X_embedded, columns=['x', 'y'])\n",
    "df_tsne['label'] = df_for_analysis['LABEL']\n",
    "df_tsne['text'] = df_for_analysis['text']\n",
    "\n",
    "fig = px.scatter(df_tsne, x='x', y='y', color='label', hover_data=['text'], title='TSNE dla TF_IDF')\n",
    "fig.show()\n"
   ]
  },
  {
   "cell_type": "code",
   "execution_count": 95,
   "metadata": {},
   "outputs": [
    {
     "data": {
      "application/vnd.plotly.v1+json": {
       "config": {
        "plotlyServerURL": "https://plot.ly"
       },
       "data": [
        {
         "customdata": [
          [
           "Dla mnie faworytem do tytułu będzie Cracovia. Zobaczymy, czy typ się sprawdzi."
          ],
          [
           "  Brawo ty Daria kibic ma być na dobre i złe"
          ],
          [
           "  Super, polski premier składa kwiaty na grobach kolaborantów. Ale doczekaliśmy czasów."
          ],
          [
           "  Musi. Innej drogi nie mamy."
          ],
          [
           "Odrzut natychmiastowy, kwaśna mina, mam problem"
          ],
          [
           "Jaki on był fajny xdd pamiętam, że spóźniłam się na jego pierwsze zajęcia i to sporo i za karę kazał mi usiąść w pierwszej ławce XD"
          ],
          [
           " No nie ma u nas szczęścia 😉"
          ],
          [
           " Dawno kogoś tak wrednego nie widziałam xd"
          ],
          [
           "  Zaległości były, ale ważne czy były wezwania do zapłaty z których się klub nie wywiązał."
          ],
          [
           "   Gdzie jest  . Brudziński jesteś kłamcą i marnym kutasem "
          ],
          [
           "   no mam nadzieje !!:)"
          ],
          [
           "  Może gustował w starszych paniach ;-)"
          ],
          [
           " Zostawiłam tam 3 lata temu \\\"Notatki na mankietach\\\". Muszę się wrócić."
          ],
          [
           " Oprawa do Krzysia M. Ps Pinokio -\\n\\\" mogłeś być gangsterem a zostałeś 3 ligowym frajerem \\\"😀"
          ],
          [
           "  Znowu będzie komunikat o polskich piratach drogowych w Słowacji."
          ],
          [
           " Mówi człowiek, który chciał nałożyć sankcje na Polskę. Gratulacje. #Niepodlegla #11lisopada"
          ],
          [
           "   Mówi człowiek, który chciał nałożyć sankcje na Polskę. Gratulacje. #Niepodlegla #11lisopada"
          ],
          [
           "  o jakim zachowaniu \\\"fer\\\" mówisz skoro ukrywał się z tym że podpisał kontrakt z Legią ? Możesz rozwinąć ?"
          ],
          [
           "  Joanno! Po raz pierwszy się z panią zgadzam.😁😁😁😁😁"
          ],
          [
           "Monster block, monster block, monster block... 😁"
          ],
          [
           " Czyżby Madryt brał przykład z Warszawy?"
          ],
          [
           "  No to Skończmy kurwa z tym wersalem w j...ej szczujni"
          ],
          [
           " Nie wiem, najczęściej grają na zmianę na prawym skrzydle."
          ],
          [
           " No to Pan i koledzy macie z głowy. Przesrane tak reszta życia pod górkę."
          ],
          [
           " A ja obstawiam, że pójdą bardziej w stronę tego, że może się powtórzyć sytuacja z Meresińskim."
          ],
          [
           "Aaaaa Kuba mi odpisał hehehehehe"
          ],
          [
           "Asysta Kacpra Falona i 3:1 dla Widzewa. Witamy Widzew w II lidze. No i w sumie fajnie."
          ],
          [
           " gwizdali na niego ? Bo nie oglądałem meczu :)"
          ],
          [
           "  ale może w końcu dojdzie do wniosku że skoro go klub już nie jara to lepiej go sprzedać i mieć po kłopocie"
          ],
          [
           "  Hej halo, o czym to jest bo mam na swojej liście i nie wiem czy warto??"
          ],
          [
           "dorosłe życie nie jest dla mnie"
          ],
          [
           "  dorosłe życie nie jest dla mnie"
          ],
          [
           " Cześć Paderewski, część opalające się nogi"
          ],
          [
           "   Uprowadź gumową kaczuszkę. Zacznie negocjować."
          ],
          [
           " Już wiem ze się nie dogadamy XD"
          ],
          [
           " Ale to w nowym przekładzie, jeszcze nie czytałam."
          ],
          [
           " Lahoza mi nigdy nie szkoda. Wolę, jak na pierwszym planie są piłkarze, a nie sędzia :-)"
          ],
          [
           "  Sprawdź chłopie w słowniku co oznacza słowo , którego używasz a potem się odzywaj."
          ],
          [
           " zmieńcie se nazwe na profilu na insta bo się nazywacie Grzegorz Ożóg..."
          ],
          [
           "#Woronicza 17 poseł Halicki oburzony za Bolka.Naprawdè taki tępy czy tylko udaje idiotę?"
          ],
          [
           "„Ta aktorka ma 20 lat?!?! Jaka stara!!” \\n\\nChyba musimy się już do grobu pakować roczniku 98 😂👌🏻"
          ],
          [
           "  „Ta aktorka ma 20 lat?!?! Jaka stara!!” \\n\\nChyba musimy się już do grobu pakować roczniku 98 😂👌🏻"
          ],
          [
           "Ahnherr der Schtwätzer wykonawcy Von Spar\\nhttps://t.co/SOtenSqIr0"
          ],
          [
           "   Bierze cie cie pod chuj a ty sie produkujesz"
          ],
          [
           "   Jak narazie to masz przywidzenia co nie zmienia faktu że cały czas jesteś idiotą."
          ],
          [
           " Kiedy do licznika dojdą bilety z fan clubow?"
          ],
          [
           " A kto prowadzi zespół ? Będzie podany skład z tego meczu ?"
          ],
          [
           " Główny powód to brak kasy, trzeba dać bogatym 500+,300+ i być bez godności i honoru"
          ],
          [
           "Zrobiłam takie Cv że ohohohoho"
          ],
          [
           "Świętować uchwalenie Konstytucji 3 maja i łamać Konstytucję RP obecnie obowiązującą?!\\n#3Maja - dzień hipokryzji."
          ],
          [
           "  Świętować uchwalenie Konstytucji 3 maja i łamać Konstytucję RP obecnie obowiązującą?!\\n#3Maja - dzień hipokryzji."
          ],
          [
           "  nie gra bo jest Jovanović i Guilherme"
          ],
          [
           " O tej godz. sporty szanuj ciało"
          ],
          [
           "Nikt nigdy nie rozsiewał takiego smrodu jak "
          ],
          [
           "Nikt cię tak dobrze nie ubierze jak matka chrzestna dziecino"
          ],
          [
           "  Nikt tutaj nie chce plagiaciarzy kopiujących brytyjskich pisarzy."
          ],
          [
           " A ksiądz co bierze 12 tyś za spowiedź przez tel?"
          ],
          [
           " Koń też ma dużą głowę. Tylko wydaje mi się, że jest bardziej inteligentny niż Karczewski"
          ],
          [
           " Pod i górę  pod wiatr to więcej niż k2"
          ],
          [
           " Sędziowie VAR nie decydują o karnych 😉"
          ],
          [
           "Jakiś program na TVN, nauka jazdy za kierownicą babcia śpiewa \\\"jadą jadą jadą świry jadą\\\" jadą jadą jadą świry jadą\\\""
          ],
          [
           " ta obecna Zary Larsson czy Pitbulla z ostatnich MŚ nie były złe :)"
          ],
          [
           "(280 znaków w jednym zdaniu 🙈)"
          ],
          [
           " po wahaniach wagi Kwacha wznoszę że to może być kapuścianka"
          ],
          [
           "  w tym sezonie razem z pucharem 12 meczy i 1 gol.Mójta więcej strzelił.Sorry patrze w statystyki."
          ],
          [
           "   finały tblk były przyzwoicie sędziowane ?! Aha..."
          ],
          [
           " Taki miałam właśnie, teraz kupiłam z catrice"
          ],
          [
           " to ich wymień.W czym problem ?"
          ],
          [
           "   a ja mam ciepełko jak się przytule do swoich kotów :)"
          ],
          [
           " Właśnie. Ilu! Najpierw odpowiedzmy sobie ma to pytanie,a potem dziwmy się zwycięstwu Zdanowskiej"
          ],
          [
           " W jego przypadku statystyka przebiegniętych kilometrów nie ma znaczenia. Czy gra zajebiście, czy fatalnie, biega tyle samo."
          ],
          [
           "  100%, Mann też miał pełne prawo"
          ],
          [
           " Kończyłeś już kilka razy 😂"
          ],
          [
           " Dzisiaj zajmujemy się WARiatem Krystyną ciekawe czy będzie płakał?"
          ],
          [
           "    A co będzie jak Kuba nigdy niewroci?"
          ],
          [
           " Tym w sejmie też? Banda hipokrytów i złodziei."
          ],
          [
           "W każdej z czterech grup będzie walka o zwycięstwo premiowane awansem do CLJ. Bardzo potrzebne rozwiązanie, brawo."
          ],
          [
           " Tak się poznałam z moim chłopakiem 😂 czasami warto"
          ],
          [
           " nelly furtado a tytuł forco czy cos takiego"
          ],
          [
           " Mów prawdę, kto was skrzywdził"
          ],
          [
           " jestem tu od 2013 xd"
          ],
          [
           " Ta kadra to rocznik 2002"
          ],
          [
           "Posiada sensor CGM , ciągły monitoring glikemii, w końcu."
          ],
          [
           "Jeszcze żaden Polak nie wystąpił w meczu gwiazd NBA, nie licząc Mietka Paciaciaka ;) Pomóżmy Marcinowi Gortatowi być 1  #NBAVOTE"
          ],
          [
           "  Jeszcze żaden Polak nie wystąpił w meczu gwiazd NBA, nie licząc Mietka Paciaciaka ;) Pomóżmy Marcinowi Gortatowi być 1…"
          ],
          [
           " No kurwa myślałem że na Podlasiu"
          ],
          [
           "  Tak, to nawet lepsze rozwiązanie."
          ],
          [
           "  Koń by się uśmiał, TVN24 i TVN wolne media? Bardziej perfidnego łgarstwa nie słyszałem.. 🤔"
          ],
          [
           "    Koń by się uśmiał, TVN24 i TVN wolne media? Bardziej perfidnego łgarstwa nie słyszałem.. 🤔"
          ],
          [
           " Gdzie ja wtedy byłam? ;-)"
          ],
          [
           "   Midze sie nudziło i se coś na kolanie napisał i macie sensacje"
          ],
          [
           " Dzisiaj wrócił do treningów, czyli zdążyli 😉"
          ],
          [
           "    Nie wiem, zerknij na 90minut"
          ],
          [
           "  Z motłochem nie dyskutuję tylko daje bany. A Pani  gratuluję obrońcy."
          ],
          [
           " możesz też zawsze po prostu zapytać kiedy się urodziłam. Albo wpisać hasztag #100latKasiaPawlak ;-)"
          ],
          [
           " ale z kategoriami moim zdaniem przesadzają.Sponsor roku, serce, impreza ? Bez jaj"
          ],
          [
           " Prezes się cieszy ze Wisla odpadła bo w razie finału Legia-Wisla znów by musiał finał odwoływać"
          ],
          [
           "Bratowa wysłała mi zdjęcie bratanicy z rozpoczęcia roku, idzie do pierwszej klasy, biedactwo nie wie co ją czeka"
          ],
          [
           " szybkie pytanie do  Ręka Sadloka była zagraniem umyślnym ?"
          ],
          [
           " Dzień w którym Abidal sprzedał i kupił A.Vidala 😉"
          ],
          [
           " Równie dobrze można gola stracić :)"
          ],
          [
           " Chorwaci przerżną w końcówce dogrywki, wiadomo."
          ],
          [
           " Nasze dzieci będą zdegustwani, był taki PiS, taki  , historia populizmu i głupoty w latach 2015-2019, margines"
          ],
          [
           " O, myślałam, że nikt już nie używa \\\"mnie\\\" tylko \\\"mi\\\"."
          ],
          [
           "   Na nowym stadionie West Hamu też to widziałem."
          ],
          [
           "  zawodnik w sezonie może grać w barwach dwóch klubów więc jeszcze nic straconego :)"
          ],
          [
           "ciekawe czy faktycznie jest taki zakład bo jeśli tak to nieźle XD"
          ],
          [
           " Hehe, do gazu, hehe jeszcze jakieś emotikony wrzuć"
          ],
          [
           "Qrwa!! I niech mi nikt nie mówi, że czary to jakiś zabobon!! Chłopaki mają sztywne nogi!"
          ],
          [
           "Od 01.10.2018 każde sprawozdanie finansowe w formie elektronicznej, zgodne ze strukturą jpk"
          ],
          [
           "Na TVP Kraków padła właśnie informacja że rozmowy z potencjalnym kupcem Wisły przełożony z dziś na jutro."
          ],
          [
           "  Na TVP Kraków padła właśnie informacja że rozmowy z potencjalnym kupcem Wisły przełożony z dziś na jutro."
          ],
          [
           " NIECH JESZCZE DADZĄ LEKTORA I NA GŁÓWNA POSTAĆ MÓWIĄ NADZIEJA"
          ],
          [
           "   NIECH JESZCZE DADZĄ LEKTORA I NA GŁÓWNA POSTAĆ MÓWIĄ NADZIEJA"
          ],
          [
           " Nie no ludzie, żeby robić artykuł na temat jednego tweeta ?..."
          ],
          [
           " Jak powiem, że pierwsze słysze, to będzie kompromitacja czy nie? 😄"
          ],
          [
           " Usuń konto, wytrzeźwiej buduj od nowa"
          ],
          [
           "   Sekta, cha, cha, cha, obudź się z hipnozy, jesteś bolszewikiem"
          ],
          [
           "Nie wstanę kurde nie ma opcji"
          ],
          [
           "  Spokojnie, u mnie też Kaczarawa na kapitanie + Cvijanović :)"
          ],
          [
           "niech ładny chłopiec z kręconymi włosami do mnie napisze: jutro, zaraz, teraz"
          ],
          [
           "  niech ładny chłopiec z kręconymi włosami do mnie napisze: jutro, zaraz, teraz"
          ],
          [
           " im ktoś gorzej widzi, dłużej musi czekać, choć ten, który widzi lepiej, dłużej poradzi sobie bez okularów. 😨"
          ],
          [
           " Oj, no to powodzenia! Co tam będziesz musiała robić? 🤭"
          ],
          [
           "    Chyba nie, Marcin mówił coś o '89."
          ],
          [
           " Przeczytaj mojego kolejnego twitta to zobaczysz, że nie umknęło i co sądze o poziomie tego meczu."
          ],
          [
           " Tylko nie w dupę, to dla niektórych z nich byłaby przyjemność."
          ],
          [
           "  Widać chcą wiecej polskich mord gotujacych koninę"
          ],
          [
           " No to jak się przegrywa cały czas to lepiej przestać grać :)"
          ],
          [
           "   Widzę, że sami się znajdują."
          ],
          [
           " Napewno mam niezaktualizowanego może dlatego"
          ],
          [
           "  Smokowski mówił że Wisła ma piłkarzy 3 sortu, a Wieszczycki deprecjonował dobrą prace Kiko"
          ],
          [
           "więc zaczynam oglądać Do wszystkich chłopców, których kochałam bo wszyscy o tym mówią i aż chcę to sprawdzić"
          ],
          [
           " Ban,ban i jeszcze raz ban! Co za prymitywne dno!"
          ],
          [
           "  Jasne, bo debile oglądający tvpis płaczą tylko na m jak miłość"
          ],
          [
           "   W stop klatkach widać ze jak by to było po stronie drugiej (legi) to karny by był"
          ],
          [
           "Zdrady stanu to Donald Tusk dopuścił się już w 2010 r kiedy dodał Rosjanom śledztwo w sprawie katastrofy smoleńskiej."
          ],
          [
           " Na marginesie jestem córką biskupa"
          ],
          [
           " Przejdzie historii: jak tworzyć kłamstwo w dobie powszechnego dostępu do informacji"
          ],
          [
           " Od ok 8 lat używam kolejnych modeli HTC i nigdy mnie nie zawiodły."
          ],
          [
           "  Ty się oszuście i kłamco od nas odpierdol. My sobie damy radę bez twoich kłamstw"
          ],
          [
           "   odważne słowa jak na legioniste! 😂😂😂"
          ],
          [
           "  Załatwi to jedno głosowanie w sejmie i żadne demonstracje nie będą miały na to wpływu."
          ],
          [
           "   Krzyż celtycki w Irlandii debilu ma kompletnie inne znaczenie niż u neofaszystów."
          ],
          [
           " Coś w tym jest,bo ja też😁😁😁. I jeszcze bym dodał Dominisię W. której infantylizm mnie totalnie osłabia."
          ],
          [
           "  Gdzie oni znajdują takich dupków"
          ],
          [
           "mój stres zaczął się stresować swoim własnym stresem, które również się stresuje ja pierdole dość"
          ],
          [
           "  mój stres zaczął się stresować swoim własnym stresem, które również się stresuje ja pierdole dość"
          ],
          [
           "     dojdzie Brlek, Stilić wróci do formy, obcokrajowcy się zaaklimatyzują i bedzie dobrze💪"
          ],
          [
           "   Brawo grzechu za Twój powrót do żywych\\n W Rosji pokaż swoją moc"
          ],
          [
           "    Wonder!! Chyba cię....😁😁😁😁😁.No dobra. Na jaki?😁😁😁"
          ],
          [
           " Ja mam uczulenie na dobrą zmianę, ale to dłuższa historiac"
          ],
          [
           " Różnicy nie ma, bo pisali wtedy, że nie można zsyłać zawodników do rezerw ;P"
          ],
          [
           " Żal ci biedaku??? Gdyby nie Kaczyński to by je twoi przyjaciele z PO rozkradl"
          ],
          [
           "   Żal ci biedaku??? Gdyby nie Kaczyński to by je twoi przyjaciele z PO rozkradl"
          ],
          [
           "Dobry dzień na przypomnienie sobie genezy gwiazdek na fladze #UE #deklaracjaRzymska"
          ],
          [
           "Sekta kurwa, jakaś niepojęta radość, każde konto pisdzielskie tylko o jednym"
          ],
          [
           "  Nie wierzę, bez zaświadczenia od proboszcza?"
          ],
          [
           " I chyba wtedy byś niezaprzeczyla?"
          ],
          [
           " Tak naprawdę czy będziemy w spadkowej czy mistrzowskiej to i tak czekają nas sparingi."
          ],
          [
           " Jebać, jebać, nic się nie bać."
          ],
          [
           " Jakiej pracy, ty już pajacu nie wiesz na czym się lansować. Sejm nie pracuje."
          ],
          [
           "Kilogramy rozmnażają się przez pączkowanie 😣😖\\n#TłustyCzwartek"
          ],
          [
           "  Nie działają i lepiej działać szybko bo klienci nie maja dostępu do środków na kontach"
          ],
          [
           "   jutro walczycie ? Normalnie rycerze ! A gdzie byliście wcześniej ? A zapomniałem że nie o L chodziło"
          ],
          [
           " Ale to głupie, rdzennie głupie, bardziej głupie już być nie może"
          ],
          [
           " Szczególnie Vestenicky.Podczas wypożyczenia nic nie pokazał a go wykupili za 500 tys euro 😂👏"
          ],
          [
           " Już się boję. Postraszy mnie Pan kolegami narodowcami?"
          ],
          [
           " Co nie było blisko? Bo nie rozumiem."
          ],
          [
           "  A od kiedy komentatorzy na Sky to wyrocznia?"
          ],
          [
           "  Nazwisko tego babska😁😁😁😁. Bo Wczoraj był na MO😁😁😀"
          ],
          [
           " Zbiera się do kontrataku, dla swojego pryncypala pójdzie w bój, patrityczna dusza,  co nie  ?"
          ],
          [
           " a w kolejnych fajnie jakby grał na lewej za Sadloka "
          ],
          [
           " byłem w pracy ale zaraz odpalam meczyk na yt.Dzięki za walke !!!!:)"
          ],
          [
           "  jakie 0 motywacji ? Jest chyba różnica mieć medal albo go niemieć"
          ],
          [
           " Niby nie macie czy niby nie mit? 😂😂"
          ],
          [
           " Ja bym był ostrożny😁😁😁A jak ma na imię?"
          ],
          [
           "   Tak to jest jak ktoś nie wie do którego lekarza iść najpierw."
          ],
          [
           "  No nie dziwie się w sumie. Dobrze, że tylko raz dzwonił"
          ],
          [
           "  Wasz świat? To się w nim zamknijcie i nie wystawiajcie nosa."
          ],
          [
           "  Przyjaciół to niech on sobie szuka za swoje prywatne pieniądze. I niech robi z siebie idiotę na własny rachunek."
          ],
          [
           "imagine sie komus podobac??? ze ktos sie stara o TWOJA uwage??? can’t relate"
          ],
          [
           "  imagine sie komus podobac??? ze ktos sie stara o TWOJA uwage??? can’t relate"
          ],
          [
           "   a Portugalia jak zagrała ?"
          ],
          [
           "Pierwsze zdanie: \\\"Paczka papierosów kosztuje 4 miliardy marek\\\".\\n#JajoWęża teraz na "
          ],
          [
           "  No to tym bardziej :)"
          ],
          [
           " Ja przynajmniej mam profilowe i nie chowam się za awatarem. Ale bohaterów MW na to nie stać i w sumie nic w tym dziwnego."
          ],
          [
           " Czego się spodziewać po członku żydowskiego amerykańskiego lobby. Lata na kolanach przed żydami zrobiło swoje."
          ],
          [
           "   Czego się spodziewać po członku żydowskiego amerykańskiego lobby. Lata na kolanach przed żydami zrobiło swoj…"
          ],
          [
           " Co ty człowieku pijesz z rana?"
          ],
          [
           "  pewnie narządy też wkrótce sprzeda :D"
          ],
          [
           " w zeszłym sezonie to samo pisałeś ?"
          ],
          [
           "Picie to przyszłość, piękna i nieznana, szukajcie zapomnienia, próbujcie różnych trunków, łączcie środki psychoaktywne, powodzenia"
          ],
          [
           " Ale ty jesteś żenujący. Dno metr mułu."
          ],
          [
           " spoko, nigdy nie daje unfollow aktywnym ludziom, tylko tym, którzy nie piszą nic od miesięcy albo dali mi unfollow"
          ],
          [
           "\\\"- Co to jest tajmlajn na fejsie?\\n- Zmarszczki\\\"."
          ],
          [
           " może trzeba chłopaków na crossfit zabierać ?:)"
          ],
          [
           " znacznie bliżej jest mi muzułmanin  czy indus, niż katolicka, łysa swołocz ze wschodu europy, do tego rasistowska"
          ],
          [
           "Dzisiaj o 18.00 Strefa Kibica w Radiu Akadera. Zapraszamy."
          ],
          [
           " Nie powinno być źle o ile się utrzymamy :P"
          ],
          [
           " Spokojnie trzeba ta porażkę wziąść na klatę mecz się tak ułożył nie inaczej napewno gorsi dużo my niebyli."
          ],
          [
           " Ale się cieszą. Wreszcie koniec i będzie można wypić te.zapasy z plecaka."
          ],
          [
           "  Ofertę przedłużenis kontraktu ponoć dostał od Wisły, ale jej nie zaakceptował."
          ],
          [
           "Dziś o godz. 20:00 Prezydent RP wygłosi orędzie."
          ],
          [
           "  Dziś o godz. 20:00 Prezydent RP wygłosi orędzie."
          ],
          [
           " myślałem że się przychodzi na stadion dla drużyny a nie na poszczególnych piłkarzy"
          ],
          [
           " kibicom chodzi raczej o postawe dziennikarzy a nie klubu."
          ],
          [
           "  Nie trzeba Algierczyków, wystarczy kilku polskich katechetów."
          ],
          [
           " Barcelona z Messim (ta obecna) by taki mecz wygrała 1:0, albo jakiś Suarez by coś wcisnął :P"
          ],
          [
           "  TW Wolfgang, TW Faraon i TW Rycerz,TW Balbina, TW Michał \\nKto mieczem wojuje, ten od pochwy ginie"
          ],
          [
           "  Zgadza się ale przecież nas niestac żeby komin płacowy zacząć od.carlitosa"
          ],
          [
           "   Low kick, kolano łokieć, blacha na czoło i stara leży"
          ],
          [
           " Niestety obrazki będą też zielone, czarne i brunatne."
          ],
          [
           "Ktoś założył fejkowe konto i ogląda WSZYSTKIE moje story"
          ],
          [
           "  Życie, zdarza się. Jednak od takiego rzutu wolnego do gola droga dość daleka."
          ],
          [
           " a wydanie 500 tys euro gdy się nie ma pieniędzy nie jest strzałem w kolano ?"
          ],
          [
           " Wio endekdu, ścierwa, zdrajcy, szubienica"
          ],
          [
           " nie dziwie się, to było dość cwane :)"
          ],
          [
           " Raczey! Jutro będzie jej odczytywane przez cały dzień ;-)"
          ],
          [
           " Kto będzie pił te mleko, gdzie będą jeździły tiry, meble, okna ty maly kogucie"
          ],
          [
           "    Nie myli się tylko ten, co nic nie robi."
          ],
          [
           "Mama będzie mi obcinać włosy boje się"
          ],
          [
           "    No to muszą ci nieźle płacić za wierszówki."
          ],
          [
           " czy masz info jakie obecnie Ondrasek ma zarobki w Wiśle?"
          ],
          [
           " Jaka kwota wykupienia go po roku??"
          ],
          [
           "   Dla kogo pracował? Nie przy śniadaniu bo się udławić można z wrażenia. Poproszę 5 przykładów zatem."
          ],
          [
           "   Widzę, że dalej nie rozumiesz. No nic idę oglądać LM. Pozdro."
          ],
          [
           "  jeśli masz TV włączony od 8:00 do 1:00, a reklama pojawia się 3 x na godzinę, po 2 mies. jesteś na granicy obłędu."
          ],
          [
           "  A co o włoskich faszystach i węgierskich nacjonalistach?"
          ],
          [
           "  Dojenie kasy przez rząd\\nKompromitacja Morawieckiego w Niemczech\\nKaczyński twórca państwa Polskiego w 2016 roku"
          ],
          [
           " Jeszcze w nastepnej kolejce pewnie jakis piątek"
          ],
          [
           "  i oczywiście było pytanie czy nie boi się o przyszłość Wisły 😂 przechodzicie samych siebie"
          ],
          [
           " no ja właśnie to samoXD znaczy wiem ze Emre wbija często, bo jego żona jest polką ale no"
          ],
          [
           " Nic nie mogą. Ale ich brak może spowodować, że strajkujący szybciej się z Sejmu wyniosą."
          ],
          [
           "   Przecież jak go zamkną to o czym ty będziesz pisał ? Twoje życie straci sens..."
          ],
          [
           "  To zaraz porobie screeny od momentu od którego jest zablokowane :)"
          ],
          [
           " Ktoś przestał słodzić, ktoś kto dużo słodził"
          ],
          [
           "   No to po co się zgodził na klauzule dopiero po zakończeniu przyszłego sezonu, a nie od razu ?"
          ],
          [
           " Jest to prawda. Ale MSZ powinien. On pewnie myślał, że jest w Pisowskiej Polsce i wszystkoi wolno.😀😀😀"
          ],
          [
           " delikatnie nie po drodze :D"
          ],
          [
           "  No to 0:0 murowane (bo mam też ludzi z Cracovii)"
          ],
          [
           " Może ogłuszyły go te korki od szampanów, które strzelały po podpisaniu kontraktu Sadloka z Jagiellonią ?"
          ],
          [
           "Panie i panowie, totalna porażka  w miastach. \\nT O T A L N A \\nTo bardzo ważny znak."
          ],
          [
           "  Panie i panowie, totalna porażka  w miastach. \\nT O T A L N A \\nTo bardzo ważny znak."
          ],
          [
           "    ręce opadaj że takich rzeczy ludzie związani z futsalem nie wiedzą."
          ],
          [
           "  Przeczytałem wszystko. Fantastycznego ma Pani Dziadka!"
          ],
          [
           " Na wszystko masz odpowiedź, żyłeś w tych czasach?"
          ],
          [
           "  Mr. Czarnecki. To nie hipokryzja tylko zwykła ludzka przyzwoitość. Widać że niektórym obce takie  odruchy."
          ],
          [
           "Diego Maradona - Robbie Williams 2:1."
          ],
          [
           "   Ja nie byłbym taki pewny"
          ],
          [
           " patrząc kogo biorą to mam wątpliwości czy nie chcą do 1 ligi (nie licząc Marciniaka)"
          ],
          [
           " To było dawno, jeszcze nie znali fotoszopa"
          ],
          [
           "  Maly murzyn, silny i zdrowy"
          ],
          [
           ". pojawił się na TT. To konto to nie fejk. \\nDołączajcie :) 💪"
          ],
          [
           "  . pojawił się na TT. To konto to nie fejk. \\nDołączajcie :) 💪"
          ],
          [
           "W programie Igrzyska wolności w Łodzi śpiewanie pieśni rewolucyjnych,i piosenek z serialu,4 pancerni i pies."
          ],
          [
           " no i w końcu widzę uśmiech :)"
          ],
          [
           " Jeszcze was zjemy i wysramy"
          ],
          [
           " lepszy argument to że ktoś go nie chce bo go nie lubi"
          ],
          [
           "  Tylko że ten prostak sie nabijał, szydził tak jak ze śmierci Piotra S."
          ],
          [
           " Qwa! Wypiłem kawę przed chwilą.Bardzo dobra kawę.Nie chcę jej zwracać. A swoją drogą to świetny środek na wywołanie wymiotów."
          ],
          [
           "Wchodzę w powiadomienia a tu nic, już na 4 tt odpisałem, zaraz wyjebią bana"
          ],
          [
           " nataliethere_ oddam szybciutko z powiadomień"
          ],
          [
           " Tak tak jeszcze ktoś w to uwierzy"
          ],
          [
           "   Tez musze trzymać poziomo tel czytając ten artykuł"
          ],
          [
           "   Czasy kiedy zacząłem interesować się piłką i Wisłą 😍"
          ],
          [
           " Wy narobiliscie 30miliardow dlugow za waszych rzadow #oddajciekase"
          ],
          [
           "   Wy narobiliscie 30miliardow dlugow za waszych rzadow #oddajciekase"
          ],
          [
           " Czy  gotów na taką kolej rzeczy?"
          ],
          [
           " Tak jak pisdzielstwo ośmiesza policjantów , to już, nikt, nigdy bardziej nie będzie"
          ],
          [
           " A kiedy przestanie wydawać mln na swoich ochroniarzy, tylko zacznie leczyć u psychiatry swoją manię prześladowczą?"
          ],
          [
           " Pierwszy priorytet zadowolić Jarkacza, drugi priorytet ssać kasę wszystkimi otworami,  mają rozdwojenie jaźni"
          ],
          [
           " Huj z wami dziennikarzami. Piłka nożna dla kibiców a nie pseudo dziennikarzy."
          ],
          [
           " E tam! To z miłości do Łodzi😁. I przyjdzie do PiS😁😁"
          ],
          [
           " A ja, ze coś znowu zepsułam xd"
          ],
          [
           "Czemu jak zawsze się o kogoś martwię to ja dostaje po dupie, i mean nie wiem"
          ],
          [
           " kiedy wyjeżdżasz? ja w piątek, co prawda już drugi rok ale moja rodzina nadal reaguje tak samo"
          ],
          [
           "   Ograniczyłbym to do \\\"Byle nie Ufa\\\" :)"
          ],
          [
           "  Święta racja, ale zapytaj Jurgiela o notatki, on wie co spierdolił. Będzie łatwiej."
          ],
          [
           "  Szczególnie wielka strata za Smoleńsk"
          ],
          [
           "    daj znać  o  zdjecie blokady"
          ],
          [
           "  Myślę, że po info o konferencji wielu osobom to przychodzi do głowy."
          ],
          [
           " Koniecznie! Zapraszamy na spacer z kawką 😃"
          ],
          [
           " błąd logiczny, te pieniądze kiedyś były wasze, teraz już sa nasze i nic wam do tego towarzyszu"
          ],
          [
           "   błąd logiczny, te pieniądze kiedyś były wasze, teraz już sa nasze i nic wam do tego towarzyszu"
          ],
          [
           " Zależy jak na to spojrzeć. Z jednej strony akredytacja, z drugiej wyjazd za swoje $$$ 😉"
          ],
          [
           "  albo wygrywali 1:0 z Barceloną"
          ],
          [
           "  tylko nie Załuska.Nie potrzeba nam takich piłkarzy bez ambicji."
          ],
          [
           "  Nic specjalnego. Można się domyślać, że pewnie pójdzie na wypożyczenie."
          ],
          [
           "Z Zagłębia Hładun i Czerwiński w składzie (porażka 1:2), a z Legii Carlitos na kapitanie (zmiana w przerwie). Co za seria 😂"
          ],
          [
           " co chwile o nim piszecie i gadacie jaka to porażka jak nie zostanie.A nie pamiętacie jak jeszcze niedawno otrzymanie licencji1/2"
          ],
          [
           "  Przecież TS dzierżawi ta ziemię umowa na 99 lat zgadza się czy nie?"
          ],
          [
           " Pyta się kiedy beda nowe okulary, bo juz chce wychodzić"
          ],
          [
           " Probierz szuka młodych Polaków pasuje jak ulał😉"
          ],
          [
           " Może pasuje do klucza francuskiego?🔧☺"
          ],
          [
           "Pensja, kasa, dojenie,  ,ssanie kasy, ruchanie w meskie dupy, zawsze za pis, trudny teren, ciezkie warunki"
          ],
          [
           " Polska to nie napis na dropsie, uuuu, niedobrze, uuuuuuu"
          ],
          [
           " raczej ty się powinieneś jebnąć ale nie wiem czy to pomoże"
          ],
          [
           " Jak narazie to sobie możecie kupę zrobić. Albo hurtowo dać dupy pedofilów w sutannach, których publicznie bronicie."
          ],
          [
           " Najlepiej w Polsce żeby legia miała pomoc :-)"
          ],
          [
           "Ale mam chujowy humor przez to, że nie zdałam i jestem na siebie zła"
          ],
          [
           "Szukam osób, które mają kontakt z rodziną gen. Bułak-Bałachowicza. Sprawa  prywatna."
          ],
          [
           " Brawo skwk za komunikat pomimo braku zakazu czekałem na ta wiadomość co robić, bo na mecz bez dopingu niemyslalem iść"
          ],
          [
           "  A ty wieś kretynie CONTI jest Acta2 i czego dotyczy? Najpierw przeczytaj a potem się wypowiadaj."
          ],
          [
           " Trąba ? Nie no ostro pojechałaś :D"
          ],
          [
           "Beata #Mazurek w Sejmie na pytanie co myśli o pomyśle Kaczyńskiego o obniżkach wynagrodzeń: \\\"Ja nic nie myślę\\\". To słychać."
          ],
          [
           "  Beata #Mazurek w Sejmie na pytanie co myśli o pomyśle Kaczyńskiego o obniżkach wynagrodzeń: \\\"Ja nic nie myślę\\\". To słyc…"
          ],
          [
           "Motocykle opuściły gniazda i kierują się na północ. Żonkile na przedmieściach to już tylko formalność. Wiosna! :-)"
          ],
          [
           "  🕵 Jest tak zakonspirowany, że go nie widać. Fachowiec. \\n(Górny, prawy róg)"
          ],
          [
           " Kto mieczem wojuje od pochwy ginie "
          ],
          [
           " W jednej z powtórek było to dobrze widać :))"
          ],
          [
           " Kochana nie ma po co bo później wszyscy się będą po to kleić 😂😂"
          ],
          [
           "  chyba nie miałeś się czego przyczepić, nie przesadzajmy :)"
          ],
          [
           "  Ale dlaczego głupi   tłumaczy to jeszcze głupszemu  ?"
          ],
          [
           " Dzwoniłam się dowiadywać kiedy się można wprowadzać 😂nie wiedziałam ze takie problemy mogą być xd"
          ],
          [
           " Już pod koniec jazdy wymusilam na rondzie.... nie wiem jak to się stało, mój mózg miał zaćmienie czy coś a"
          ],
          [
           "Nowe chodnikowe powiedzonko brzmi:\\n\\nPierdolisz jak Morawiecki, realy.\\n\\n  \\n\\nHybryda głupoty."
          ],
          [
           "  Nowe chodnikowe powiedzonko brzmi:\\n\\nPierdolisz jak Morawiecki, realy.\\n\\n  \\n\\nHybryda głupoty."
          ],
          [
           "Terminator X To The Edge Of Panic wykonawcy Public Enemy\\nhttps://t.co/Nqf1yFOyKg"
          ],
          [
           " Zaspana jestem jeszcze sorki XD"
          ],
          [
           "  No ja nie kojarze xD"
          ],
          [
           " Pies to czasem nawet pożera książki..."
          ],
          [
           "Kiedy Christina wychodzi za mąż"
          ],
          [
           "  Zapewne ci, co grali przez większość rundy w CLJ i nie ponieśli ani jednej porażki."
          ],
          [
           "  Jak będzie ta pioseneczka to przychodzę\\n\\nhttps://t.co/B6ak11mI4d"
          ],
          [
           " zamieszczanie takich zdjęć podczas gdy ja jestem na sucharach powinno być zabronione :)"
          ],
          [
           "   A co trzeba zrobić w kwestii finansowania kampanii z funduszy UE przez Ziobrę?"
          ],
          [
           " W środku łamanie w stylu 2obiegu."
          ],
          [
           "jak ja się źle czulem jak byłem dzieckiem w  kościele to głow mala, szopka do kwadratu, nie mogłem tego wytrzymać"
          ],
          [
           "    jak wróce z pracy to też podejme wyzwanie ale tym razem bedzie skromnie :)"
          ],
          [
           "   Jak pić to z klasą ;)"
          ],
          [
           "  Ty pajacu, zmień sobie herb na pusty łeb."
          ],
          [
           " W rosji sa jakieś zawody"
          ],
          [
           "  Myślałem że to Twój ulubieniec 😂"
          ],
          [
           "  pewnie ranking Fifa bedzie decydowal"
          ],
          [
           " Łukaszewicz, co Wy tam palicie?"
          ],
          [
           "   Leszku mój kochany, masz mózg wyprany"
          ],
          [
           " a ja współczuje zaślepienia.Wolę nie mieć Wolskiego niż robić kolejne długi "
          ],
          [
           "   od paru lat słysze o sponsorze więc tym bardziej szacunek że przez pare lat się nieujawnił..."
          ],
          [
           " Skoro Carrillo nie chce Sobola to tym bardziej nie będzie chciał Głowy. Chyba, że trener rzeczywiście odchodzi."
          ],
          [
           "   Zawsze bedą afery bo zawsze będa tacy l którzy kradną  i tacy u wladzy których to kręci"
          ],
          [
           " kot też się załapał na fotke, a raczej jego dupa :)"
          ],
          [
           " Szczerze? Trochę tak to wygląda, a i tak prędzej czy później ten bilans wychodzi na równo."
          ],
          [
           " zaraz będą pisać że Wisła szkoli kiboli żeby potrafili maczetą wymachiwać :)"
          ],
          [
           "*stoi przed nimi król gargulców*\\nbetty: to pewnie ethel\\n\\nXDDDDDDDDDDDDDD\\n#Riverdale #RiverdalePL"
          ],
          [
           "  *stoi przed nimi król gargulców*\\nbetty: to pewnie ethel\\n\\nXDDDDDDDDDDDDDD\\n#Riverdale #RiverdalePL"
          ],
          [
           " No, to ja we własnej osobie"
          ],
          [
           " Słabo trzymałeś kciuki, bo podarował bramke Cracovii :)"
          ],
          [
           " Odstawiając narodowość na bok to ten skład jest przecież słabiutki."
          ],
          [
           "  Piwnica bez okien, ty to masz dobrze"
          ],
          [
           "Czuję się chora więc siedzę w domu w czapce"
          ],
          [
           " Juz myslałem że coś gorszego😁😁"
          ],
          [
           "  A gdzie Inferno napisał, że Wisła stawia na Polaków ?"
          ],
          [
           " akurat Tobie bliżej do Karolaka bo w większości Cię wycięli 😂    "
          ],
          [
           " Omg właśnie o nich myślałam"
          ],
          [
           " Tak na pewno nie będzie. Drużyna leci w środę."
          ],
          [
           "Cudzysłów, przecinek nie jestem ruskim trollem"
          ],
          [
           "Biorąc pod uwagę, jakie dotąd mieliśmy losowania w Lidze Europy, to na ten finał w Baku w 2019 roku nie jesteśmy bez szans. 😁"
          ],
          [
           "  Fajnie, teraz zamiast przemowy muzyczka żeby nie było słychać odzewu publiki."
          ],
          [
           "  Białystok, ulica Wierzbowa. Jak oni to zrobili, to jest zagadka."
          ],
          [
           " Straszny gangster jak po wolności chodzi"
          ],
          [
           " To się nazywa uzależnienie xD"
          ],
          [
           " Info z ostatniej chwili barwy pogoni skrojone przez bandytów Z Krakowa.  Pomimo zakazu Wisła rządzi"
          ],
          [
           "  Pewnie tak bo Buchalik kontuzjowany."
          ],
          [
           " to miało jakiś ciąg dalszy? 😉"
          ],
          [
           "vans do chuja przestań robić choć na chwilę zajebiste kolekcje bo w moim portfelu pieniądzen't"
          ],
          [
           "  vans do chuja przestań robić choć na chwilę zajebiste kolekcje bo w moim portfelu pieniądzen't"
          ],
          [
           "    12 mld nie mam zamiaru dyskutowa możejki i skoki"
          ],
          [
           "  Alves był bardzo w stylu Guardioli 😛"
          ],
          [
           " Co ty żresz, że ci tak pierdolnęło?"
          ],
          [
           " Bo w \\\"10\\\" już grają przez Boatenga ;)"
          ],
          [
           "  Trudno być pewnym, gdy stoperzy mogą zagrać tylko lagę do przodu, bo środka nie mamy."
          ],
          [
           "   No właśnie, nie było i dlatego patologia została stosownie potraktowana."
          ],
          [
           " skoro jest dno dna to może skupmy się na tych od których coś wymagamy"
          ],
          [
           " Widocznie to zbyt trudna miłość na Walentynki 😁"
          ],
          [
           " Sarapata była w solarium ?"
          ],
          [
           " Woda chyba zimna bo nikogo w wodzie ;-)"
          ],
          [
           " ej, dobra, weźmie ten chrzest czy nie? xd"
          ],
          [
           "  Lub bezpośredni awans, bo nie wiadomo co ze Stomilem, a przede wszystkim Bytovią :)"
          ],
          [
           "  byłam przy tym, więc zapewniam 😉"
          ],
          [
           "   Tylko ty masz problem z rzecznikiem, więc zastanów się w kim tak naprawdę jest problem? 🤔"
          ],
          [
           " Piątek  też powinien być wolny, ina 100%"
          ],
          [
           "Wassermannówna kłamie, mówiąc, że „przyszła do polityki”. Ona przyjechała na trumnie ojca."
          ],
          [
           "  Wassermannówna kłamie, mówiąc, że „przyszła do polityki”. Ona przyjechała na trumnie ojca."
          ],
          [
           " Już dwa lata temu powinni wygrac Euro."
          ],
          [
           " Kibice innych drużyn doceniają i trochę zazdroszczą :)"
          ],
          [
           "  na 100% jest zmiana Śląsk - Jaga i chyba została już potwierdzona."
          ],
          [
           " W tym czasie był z rodzinką na wakacjach w Gdańsku Brzeźnie to musiał zdalnie podtrzymywać związek"
          ],
          [
           "jak Patryk Jaki wygra wybory w Warszawie oczyści stolicę z byłych UBECKICH funkcjonariuszy ! #woronicza17"
          ],
          [
           "  jak Patryk Jaki wygra wybory w Warszawie oczyści stolicę z byłych UBECKICH funkcjonariuszy ! #woronicza17"
          ],
          [
           "Szkoda, że przez wymysły Mendesa taki Ruben Neves się marnuje w Wolverhampton."
          ],
          [
           "  Nie wiem, aczkolwiek jego tata mówił, że widziałby Tomasa w Jagiellonii. 😜"
          ],
          [
           "Ja i moje psiapsi gramy w te gry na snapie i nie mogę przestać się śmiać z naszych min XD"
          ],
          [
           " Kolar niestety ten sam poziom. Chyba trzeba będzie liczyć na skuteczność Boguskiego i Małeckiego..."
          ],
          [
           "Rząd zaostrzy kary za znęcanie się nad zwierzętami. Od 3-5 lat więzienia; obowiązkowa nawiązka do 100 tys zł. Więcej jutro w "
          ],
          [
           "  Rząd zaostrzy kary za znęcanie się nad zwierzętami. Od 3-5 lat więzienia; obowiązkowa nawiązka do 100 tys zł. Więcej jutro w "
          ],
          [
           "   czuje że Brlek prędzej czy później odpali"
          ],
          [
           "  To, że figurowal jako zawodnik Man City nie znaczy, że będzie potrafił grać."
          ],
          [
           "  Oczywiście, że ma rację. Chodzi tylko o to, że to jest drużyna o klasę lub dwie lepsza."
          ],
          [
           "  Nie miał prawa stać za linią, tak prawdę mówiąc 😄 Ale w kamerach to bardzo ładnie wyglądało."
          ],
          [
           "   Ty to robisz przede wszystkim, co widać po pierwszym tweecie."
          ],
          [
           "Ostatnio czuje się tak samotna i smutna ze aż sama się dziwie"
          ],
          [
           " Przecież to legionista to komu ma życzyć mistrza.Nie wiedziałeś ?"
          ],
          [
           "   dobrze by mu to zrobiło.Za słaby na Wisłe."
          ],
          [
           " Hehehehehe. Róża nawet niezła była.I co z niej wyrosło!😁😁😁"
          ],
          [
           " jedni wynajmują agencje do komentarzy a inni dziennikarzy"
          ],
          [
           "   jedni wynajmują agencje do komentarzy a inni dziennikarzy"
          ],
          [
           " pewnie jest mniej błędów bo i liczb jest mniej bo zrezygnowali ze statystyk zawodników sezon po sezonie ;)"
          ],
          [
           " Krzyż przeciw prezydenturze, krzyż obłędu"
          ],
          [
           "  Sorry ale dzisiaj nie ma opozycji. Jest grupa cwaniaków chcących odzyskać stołki."
          ],
          [
           "na kijowe życie najlepsza wódeczka"
          ],
          [
           "Co na to Herod śmierdziuszka "
          ],
          [
           " Brakuje mu dystansu, za bardzo się egzaltuje, a jałowe szyderstwa już mi się przejadły"
          ],
          [
           " Wisła chyba ważniejsza od jakiejś Delle Donne :)"
          ],
          [
           " Nawet jeśli to fejk, to zgodnie z powiedzeniem -w każdej plotce jest ziarnko prawdy. Z tym że w tym przypadku raczej ziarno😁😁"
          ],
          [
           " Tez wczoraj byłam na randce która trwała cały dzień Xd"
          ],
          [
           " A kierowca autobusu wstał i zaczął klaskać ?"
          ],
          [
           "  Jak by nie było, aby było miło, teraz sie cieszysz"
          ],
          [
           " No to może warto, najwyżej Cię oleje, co jest oczywiście nie do przyjęcia 😂 kto nie ryzykuje ten nie pije szampana kochana!"
          ],
          [
           "  Trzymali się za ręce, waleczni i sprawiedliwi"
          ],
          [
           "Dudelange niby takie cwaniaki, a ciekawe czy byliby tacy mądrzy w dwuboju rzut młotem-skoki narciarskie"
          ],
          [
           "  Dudelange niby takie cwaniaki, a ciekawe czy byliby tacy mądrzy w dwuboju rzut młotem-skoki narciarskie"
          ],
          [
           "   głównie  który często o tym wspomina"
          ],
          [
           "Kto się jeszcze zaczepia na fejsie...."
          ],
          [
           "  Z tymi wizjami to może być problem. Proponuję sprawdzić po czym te wizję są"
          ],
          [
           " Jaki hejt.Hejt to jest na Tuska, Komorowskiego, przecież to nie Polacy, śmierć wrogom ojczyzny. Obudź się"
          ],
          [
           "Czy Antek już ogłosił, że na lewym skrzydle naszej obrony był wybuch?"
          ],
          [
           "  Czy Antek już ogłosił, że na lewym skrzydle naszej obrony był wybuch?"
          ],
          [
           " jest to dobra informacja dla tych co okradali  Polskę od 89  roku  Irlandia da im wolność"
          ],
          [
           "   jest to dobra informacja dla tych co okradali  Polskę od 89  roku  Irlandia da im wolność"
          ],
          [
           "Ale przecież #Polexit jest dobry. Założycie koszulki z orłem i będziecie żryć ziemniaki i wungiel 😇"
          ],
          [
           "  Ale przecież #Polexit jest dobry. Założycie koszulki z orłem i będziecie żryć ziemniaki i wungiel 😇"
          ],
          [
           "    Wywalił Ronaldo w Superpucharze :)"
          ],
          [
           "  Bo sama jest niepełnosprawna... Umysłowo.😁😁"
          ],
          [
           "Halo Kraków, kogo byście uznali za gwiazdę/najważniejszego zawodnika obecnej Wisły? 😉"
          ],
          [
           "  Ssą wszystkimi otworami z krwi biało czerwonej"
          ],
          [
           " Wy się zjednoczyliście z faszystami z połowy Europy. Kpromitacja level hard."
          ],
          [
           "   Znowu on ? 😂 to przy okazji niech się odniesie do słów Sarary 😂"
          ],
          [
           " Dotarlas do orełka?😁😁 W tym roku niestety tyłko jeden😞😞"
          ],
          [
           "  Mam rozumieć, że to mapa nasycenia krajów zboczeńcami w sutannach."
          ],
          [
           "   A Panu nie brakuje czasem art. 87 pkt1?"
          ],
          [
           " Czy to oknoplus ladowal kiedyś"
          ],
          [
           "  5 punktów na 21 w rundzie finałowej..."
          ],
          [
           ".  Będziemy realizować przekop Mierzei Wiślanej \\n#wieszwiecej  \\nhttps://t.co/zuCXxG1GUr"
          ],
          [
           "  .  Będziemy realizować przekop Mierzei Wiślanej \\n#wieszwiecej  \\nhttps://t.co/zuCXxG1GUr"
          ],
          [
           " Bolek wyluzuj bo jesteś sercowy."
          ],
          [
           " Śmiej się  śmiej. To wcale nie jest śmieszne."
          ],
          [
           "I hope that autumn will heal me"
          ],
          [
           "Jutro po marszu, ale jeszcze kilka dni beda chodzić naćpani"
          ],
          [
           " Nie ma jak lans nierobie za pieniądze podatników."
          ],
          [
           " A to ja przepraszam, nie miałam wczoraj czasu na TT 😎"
          ],
          [
           "11 tysięcy miejsc zajętych, dzisiaj prawie 2000 biletów sprzedanych. Z tej okazji za chwilę nagroda 😁"
          ],
          [
           "  To ja chyba tylko kolory porównywałem"
          ],
          [
           "Ej słuchajcie co zajebistego wymyśliłam \\n\\nJaki jest najlepszy argument bonnie z pamiętników wampirów? \\n\\nBo nnie"
          ],
          [
           "  Ej słuchajcie co zajebistego wymyśliłam \\n\\nJaki jest najlepszy argument bonnie z pamiętników wampirów? \\n\\nBo nnie"
          ],
          [
           " Im więcej problemów w państwie tym więcej niewykonanych wyroków"
          ],
          [
           "Widziałam śliczną sukienkę ale nie było mniejszego rozmiaru niż 36 i była za duża danmm"
          ],
          [
           "  Polskę to kompromitują tacy jak ty. Oszołomie."
          ],
          [
           " 😁😁😁😁😁😁😁😁  teraz to mnie Pani ubawiła tym paskiem. A widziała Pani swoją szyję?"
          ],
          [
           "   nie, ale jeśli ktoś wypomina Levadie to niech bedzie obiektywny i wspomni też inny wynik."
          ],
          [
           " O naszych meczach z Rio Ave można powiedzieć podobnie 😉"
          ],
          [
           "W sumie to polubiłam już zajęcia z konstrukcji przekazu reklamowego i prowadzący jest świetny"
          ],
          [
           "Ej chciałabym do samorządu w sumie hahahaha"
          ],
          [
           " Tez nie mam snapa hahahahaha"
          ],
          [
           " Ileż można o tym Wiluszu ?..."
          ],
          [
           " A po polsku to jak to będzie?"
          ],
          [
           "  A skąd on wie jak jest w innych klubach ? Niech się wypowiada o klubach w których grał."
          ],
          [
           "I ta Wisła, która się bawi z każdym w ofensywie, w Białymstoku miała pół sytuacji."
          ],
          [
           "   Zapytalem,  szwagierka mówi że ma konto w powerbanku"
          ],
          [
           "  Mięciuteńki straszliwie. Tam były ręce na ciele, a nie jakieś szarpanie. Tylko że nie do VAR-u."
          ],
          [
           "  Pajacu, jak podajesz przepis to masz go znać na pamięć. Inaczej robią z siebie idiotę tak jak teraz."
          ],
          [
           " Zdejmujesz Dziadkowi okulary, zakładasz Babci i jestem \\n😎"
          ],
          [
           "   w końcu jakiś ciekawy wywiad :)"
          ],
          [
           " jak tam widziałeś czerwoną to rzeczywiście wyjdź"
          ],
          [
           " skoro zarząd pozwala na takie cyrki to niestety potrwa to lata"
          ],
          [
           "  Cieszmy się że drużyna dalej gra w lidze.Nie zawsze można mieć najmocniejszy skład w lidze :)"
          ],
          [
           "   Znawca wszystkiego czyli niczego od bydła po powidło"
          ],
          [
           " 😂😂😂😂😂😂😂😂😂😂😂😂😂🤣🤣🤣🤣🤣🤣🤣🤣🤣🤣🤣🤣🤣😂😂😂😂😂😂😂🤣🤣🤣🤣🤣🤣🤣🤣🤣🤣🤣🤣🤣🤣🤣😂😂😂😂😂😂😂😂😂😂😂😂😂😂😂😂\\n\\nSłów odpowiednich żaden słownik nie zawiera"
          ],
          [
           " Vacek, Putnocky, Nielsen.Widzę że biorą się za odmładzanie składu :)"
          ],
          [
           "   Ty się chyba debilu nie słyszysz, ty tekstów to się po nocach uczysz czy masz słuchawkę w uchu?"
          ],
          [
           " Lub kibiców w Gliwicach 😜"
          ],
          [
           " No właśnie była lepsza 😜"
          ],
          [
           "    No weź nie rob takiej miny"
          ],
          [
           "   Szczekać to mogą tacy jak ty #delegalizacja"
          ],
          [
           " Bo jest Głowacki to teraz czas na obrońców"
          ],
          [
           "  Nie ma takiej opcji. Oszust i kłamca w roli głównej - tego jeszcze świat nie widział."
          ],
          [
           " Nie jest złe! Chodzisz w szpilkach? Cokolwiek byś nie założyła to szpilki choć trochę pomogą xd"
          ],
          [
           " Jakby był definitywny to trochę slabo 😂"
          ],
          [
           " a co się tak pieniedzmi nagle przejmujesz ? Jak chcialas rozwiazania kontraktu z Zohnova czy Pop to kasa juz nie wazna ?"
          ],
          [
           " Oskar Łąk definitywnie odszedł z Wisły ?\\n\\nhttps://t.co/o0psVgZBUl"
          ],
          [
           " gratulacje ! Dzięki za dotrzymanie słowa że dzisiaj koniec :) Zasłużyłyście !"
          ],
          [
           "Jezu, co zagrali Suarez i Cavani."
          ],
          [
           " Na pewno łatwiej by było znaleźć, określić i poprawić problemy"
          ],
          [
           " Można, dlatego nasz poziom piłkarski był bardzo słaby wczoraj."
          ],
          [
           " Wybacz, ale nie sądzę, aby głównym problemem kadry były złe powołania na numerach 21-23 w kadrze."
          ],
          [
           "jeśli nie mogę wyglądać tak jak\\n•perrie edwards\\n•troian bellisario\\nto what’s the point of existing?"
          ],
          [
           "  jeśli nie mogę wyglądać tak jak\\n•perrie edwards\\n•troian bellisario\\nto what’s the point of existing?"
          ],
          [
           " Nadal i Djoković to się w sumie cieszą, bo ten, kto w ich meczu wygra, będzie praktycznie zwycięzcą turnieju."
          ],
          [
           "  Mówisz że ONR lize doope😂"
          ],
          [
           "   wyśle im jutro list od kibiców cracovii że chcą odejścia Filipiaka.Ciekawe czy też opublikują."
          ],
          [
           "  A kiedy zaczniecie zbiórki na krówki i świnki?"
          ],
          [
           " No to skąd wiedziałeś czy stopklatka jest zrobiona w odpowiednim momencie ? Nie kompromituj się"
          ],
          [
           "   Iza - dziewczyna, cud, miód, malina 😁"
          ],
          [
           "Zaraz pół mojego instagrama i cały Twitter będzie na koncercie Eda.... i jestem jeszcze ja............"
          ],
          [
           " Z tamtego Adama dziś już nic nie zostało. Ale czepianie się go za brata i ojca osobiście nie popieram"
          ],
          [
           "  Plujecie na Polskę to my będziemy pluć na was."
          ],
          [
           "    Plujecie na Polskę to my będziemy pluć na was."
          ],
          [
           " Może też być kołderka 😍"
          ],
          [
           " Dlaczego średnio? W decydujacym o awansie Widzewa czerwcu był piłkarzem miesiąca"
          ],
          [
           " błedem było ściaganie zawodników których nas niestać byleby osiągnąć cel"
          ],
          [
           " Każdy kto choć trochę się orientuje w tych sprawach wie, że na Hutniku nie ma oświetlenia..."
          ],
          [
           " Maliniak dal reklame za dormo ponoć caly marsz niepodleglosci ubrali, prawda to redisbad?"
          ],
          [
           " niech wejdzie na luzie i pewnie tak żeby nie musiał zostawiać dokumentu, milion osób tak przemyciłam"
          ],
          [
           " Cie zaraz piznę, jak nie zaczniesz myśleć"
          ],
          [
           "  Bo byliśmy bez formy, to oczywiste. Przecież to też napisałem."
          ],
          [
           " jest juz aktualizacja składów czy jakis dodatek sciągałeś ? :)"
          ],
          [
           " Komentarz raz a dwa słysząc trybuny zastanawiam się czy ten kto wymyślił mecze w pn obejrzał choć jeden"
          ],
          [
           "      Mam nadzieję że nigdy więcej. Czekam na rychłą delegalizację."
          ],
          [
           " A Ty nigdy nie robisz dwóch rzeczy jednocześnie? Np. idziesz i żujesz gumę."
          ],
          [
           "  O 11.00 wielkie obtrabienie sukcesu..."
          ],
          [
           "  Ty kurwa  nie pierdol w tv bo sie żygać chce"
          ],
          [
           " problemem jest to że jak sobie coś ubzdurasz to myślisz że zawsze masz racje bo jesteś wszechwiedzący "
          ],
          [
           " Taki Błaszczykowski tez za co do repry?  Żeby niebylo ze wbijam szpilki do legi?"
          ],
          [
           "Często wracam do tego kawałka. "
          ],
          [
           " A pisdzielstwo, szczury, gady, plazy popromienne, azbestowe?"
          ],
          [
           "omg ale jestem wyjebana po tym wykładzie"
          ],
          [
           "  jak Zarycki jest Twoim informatorem to te info można w kiblu spuścić"
          ],
          [
           "  Ale Karolina ostatnio była w TVP 😜"
          ],
          [
           "#NAME?"
          ],
          [
           "  U mnie też wyświetla właściwe kolory 😊"
          ],
          [
           "  Najpierw kasza, później przyjemności, a kiedyś wolność, ale wy klękacie bez obawy zostanie i tak bez was"
          ],
          [
           "   No oboje Państwo wyglądacie jak rodzeństwo. I tacy żółci oboje."
          ],
          [
           " No kurwa  ty masz nie rządzić, madz nie rządzić"
          ],
          [
           "Yerri Mina - złota piłka 😁"
          ],
          [
           " jeszcze nie mam planu wykonania ;-)"
          ],
          [
           " Śląsk Wrocław ma jakiś drugi podmiot, że wystawia drugi zespół w barażach?"
          ],
          [
           " personalnie do tej Pani, przyjrzyj się sobie   ,  "
          ],
          [
           "Nie wiem, jak Barcelona i Real otrząsną się po utracie tak ważnych piłkarzy, jak Paulinho i Cristiano Ronaldo."
          ],
          [
           "Polska zrealizowala nasze cele w UE na szczycie z nawiązką. Podajcie dalej  koniecznie potrzebne - dziękuję😊\\nhttps://t.co/OzUaePZLpY"
          ],
          [
           "  Polska zrealizowala nasze cele w UE na szczycie z nawiązką. Podajcie dalej  koniecznie potrzebne - dziękuję😊\\nhttps://t.co/Oz…"
          ],
          [
           "   A my nie mamy helikopterów, rakiet, łodzi podwodnych a mamy WOT w którym ja biegam"
          ],
          [
           "  A czego oczekiwałeś ? Przedłużą z kimś kontrakt to poinformują"
          ],
          [
           " Jeszcze Podolski od jakiegoś czasu."
          ],
          [
           "Przepraszamy. Nie wpadliśmy na to, że pokazując środkowy palec narodowi, który - ponad podziałami, czci #PW1944, możemy kogoś obrazić. Sorki"
          ],
          [
           " ahhh myślałam, że na jakieś innej stronie"
          ],
          [
           " Źle... Miałeś napisać, że nie możesz więcej zdradzić :("
          ],
          [
           " Pan w tle, z lewej, to z mopem zasuwa? 🖒"
          ],
          [
           "Czy naprawdę trzeba publicznie przyznawać się do nieprzygotowania do meczu, drodzy panowie komentatorzy? (kwestia Sheridana)"
          ],
          [
           "Na tt te beznadziejne gadki o niczym, to już wolę sam ze sobą"
          ],
          [
           " Pamiętaj, ze ja daleko do ciebie nie mam 😂"
          ],
          [
           " Pomysł sobie ze ja oblałam bo z pełna świadomością wjebalam się na rondo XD widzisz to taki mały błąd, Ew"
          ],
          [
           " Jest tej chołoty tutaj całkiem sporo. Napewno się udzielają."
          ],
          [
           " Hejka, hejka, sejonarka w czwartek o 11 juz do domku"
          ],
          [
           "  Mistrz, człowiek mem jedyny na świecie"
          ],
          [
           "   York czy Leszek Miller? :)"
          ],
          [
           " Kiedys kazdy kopniak bez piłki = czerwona, a jeśli to było tylko położenie ręki na głowę, to nie mamy o czym rozmawiac :)"
          ],
          [
           "Morawieckiemu coś nie idzie w Namysłowie. Teraz jako były prezes BZK WBK przedstawia się jaki ten, który zwalcza \\\"zachodnie korporacje\\\"."
          ],
          [
           "  Morawieckiemu coś nie idzie w Namysłowie. Teraz jako były prezes BZK WBK przedstawia się jaki ten, który zwalcza \\\"zacho…"
          ],
          [
           " No widzisz, a zwycięską asystę w tym meczu zanotował Griezmann. MVP = najbardziej wartościowy zawodnik :)"
          ],
          [
           " do domu bo ci rózga dupę  ty mały  "
          ],
          [
           "Jak go pierwszy raz usłyszałam to miałam ciarki na całym ciele"
          ],
          [
           " kibice nigdy nie pozwolą na to żeby po raz kolejny był trenerem"
          ],
          [
           "Teraz zarykam nos i mowie \\\"cała polska z was sie śmieje, komuniści i zlodzieje,"
          ],
          [
           " Jego tata tłumaczył konferencję przy okazji meczu z Rio Ave w Vila do Conde :)"
          ],
          [
           " a wyśmiewanie Lionela M. było po skazaniu go za oszustwa podatkowe ? bo jakoś przeoczyłem"
          ],
          [
           "   życzę Gatcie mistrza bo zasługują na to grając 2 sezony na wysokim poziomie."
          ],
          [
           " Plakat widzę tak  z   wymiana spojrzeń  a  na kolanach liże ich po stopach"
          ],
          [
           " Pana zdanie nie interesuje Polaków ❗\\nWypchaj się Pan niemiecką, śmierdzącą onucą ❗"
          ],
          [
           "   Pana zdanie nie interesuje Polaków ❗\\nWypchaj się Pan niemiecką, śmierdzącą onucą ❗"
          ],
          [
           "  Mógł, ale jakoś nie chce mi się wierzyć, że tak to wyglądało."
          ],
          [
           "em ok wątek Jerzego i Zuzy w Przyjaciółkach to najlepsze co tam było kiedykolwiek"
          ],
          [
           "   Giertych: myślę, że myślę."
          ],
          [
           "Ostatnio się zrobiłam polityczna chyba studia weszły mi za mocno"
          ],
          [
           " Badziewny zespół, a i tak Anglicy byli o krok od straty punktów :)"
          ],
          [
           " nawet pasy to dla was za duże wyzwanie co widać po twoim profilowym.Mistrzowie opraw."
          ],
          [
           " nie chodziło mi o to że się cieszyłeś z upadku Wisły tylko że masz czarny humor :) że się z Wisły na Chojnice przerzuciłem :)"
          ],
          [
           "Ta drużyna powstała za czasów PO-PSL."
          ],
          [
           "  Ta drużyna powstała za czasów PO-PSL."
          ],
          [
           " Hołd to się oddaje bohaterom...."
          ],
          [
           "   a co ma procent zapelnienia pojemnosci do frekwencji ? Po za tym co to jest 50% na takim malym stadionie ?"
          ],
          [
           "Spółka srebrna kapitał  7 mln,  w zarządzie sekretarka i kierowca Jarkacza"
          ],
          [
           " Haha  a ilu ty zapraszasz do studia co pierd...takie głupoty..."
          ],
          [
           "   Haha  a ilu ty zapraszasz do studia co pierd...takie głupoty..."
          ],
          [
           "Kto chce zrobić ze mna tea party??"
          ],
          [
           " Ale za to wystąpił równie błyskotliwy,inteligentny, merytoryczny,bystry poseł Kieeerwiiinski!!!"
          ],
          [
           " No gdzie, wszystko zależało od Lecha w ostatniej kolejce :D"
          ],
          [
           "Moja morda to takie spierdolenie ze zaraz rykne"
          ],
          [
           "  Moja morda to takie spierdolenie ze zaraz rykne"
          ],
          [
           "  No w różnych miejscach ludzie seks uprawiają. Dajcie spokój..."
          ],
          [
           " Ok boli, boli. Czarne katabasy, mordercy irlandzkich kobiet i sierot do kruchty i pokutować do końca życia za swoje występki."
          ],
          [
           "Czemu żaden tramwaj nie jedzie wtf"
          ],
          [
           " Tak, statystyki to kłamstwa. Za to wyciągnięcie jednej sytuacji z 90 minutowego meczu to bezcenny dowód."
          ],
          [
           "  Zamiast tego można znaleźć grafiki na różnych ekranach / telebimach w mieście."
          ],
          [
           " Niby sami świnie, a nic nie wiedzą"
          ],
          [
           " Ale co to ma do Mystka?"
          ],
          [
           " Serio chcecie cichego stadionu ?"
          ],
          [
           "Co to miało być? 😂"
          ],
          [
           " tego się niespodziewałem po Tobie... Zawiodłeś nas :D "
          ]
         ],
         "hovertemplate": "x=%{x}<br>y=%{y}<br>text=%{customdata[0]}<br>cluster=%{marker.color}<extra></extra>",
         "legendgroup": "",
         "marker": {
          "color": [
           2,
           2,
           -1,
           -1,
           2,
           2,
           2,
           2,
           -1,
           2,
           2,
           2,
           -1,
           2,
           2,
           -1,
           -1,
           -1,
           2,
           -1,
           -1,
           2,
           2,
           -1,
           2,
           2,
           2,
           2,
           2,
           2,
           2,
           2,
           2,
           -1,
           2,
           2,
           2,
           2,
           -1,
           2,
           -1,
           -1,
           2,
           -1,
           2,
           2,
           2,
           2,
           2,
           -1,
           -1,
           2,
           1,
           2,
           2,
           2,
           2,
           2,
           -1,
           2,
           -1,
           -1,
           -1,
           2,
           2,
           -1,
           2,
           2,
           2,
           2,
           2,
           2,
           2,
           2,
           2,
           2,
           2,
           2,
           2,
           2,
           2,
           2,
           2,
           -1,
           -1,
           2,
           -1,
           -1,
           -1,
           2,
           -1,
           -1,
           2,
           1,
           2,
           2,
           -1,
           2,
           2,
           -1,
           -1,
           2,
           2,
           2,
           2,
           2,
           2,
           -1,
           -1,
           2,
           -1,
           -1,
           -1,
           -1,
           2,
           2,
           2,
           -1,
           2,
           2,
           -1,
           -1,
           2,
           2,
           2,
           2,
           2,
           2,
           2,
           2,
           2,
           2,
           2,
           2,
           2,
           2,
           2,
           2,
           -1,
           2,
           -1,
           -1,
           2,
           -1,
           2,
           2,
           -1,
           -1,
           2,
           2,
           2,
           2,
           2,
           2,
           2,
           2,
           -1,
           2,
           2,
           2,
           2,
           2,
           2,
           -1,
           2,
           2,
           2,
           2,
           2,
           2,
           2,
           2,
           2,
           -1,
           2,
           2,
           2,
           2,
           2,
           2,
           2,
           -1,
           -1,
           2,
           -1,
           2,
           2,
           -1,
           -1,
           2,
           2,
           2,
           2,
           -1,
           2,
           2,
           2,
           2,
           0,
           2,
           2,
           2,
           2,
           -1,
           -1,
           2,
           2,
           2,
           -1,
           -1,
           -1,
           -1,
           2,
           2,
           -1,
           2,
           -1,
           2,
           2,
           2,
           2,
           2,
           2,
           2,
           2,
           2,
           2,
           0,
           2,
           -1,
           2,
           2,
           2,
           2,
           2,
           2,
           2,
           2,
           2,
           2,
           2,
           2,
           -1,
           -1,
           2,
           1,
           1,
           2,
           -1,
           2,
           2,
           2,
           -1,
           2,
           2,
           -1,
           2,
           -1,
           2,
           -1,
           2,
           2,
           -1,
           2,
           2,
           2,
           2,
           -1,
           2,
           2,
           -1,
           -1,
           -1,
           2,
           2,
           2,
           -1,
           2,
           2,
           2,
           2,
           2,
           0,
           -1,
           -1,
           2,
           2,
           2,
           2,
           2,
           2,
           -1,
           2,
           -1,
           -1,
           -1,
           -1,
           2,
           2,
           -1,
           2,
           -1,
           -1,
           -1,
           2,
           2,
           2,
           2,
           2,
           -1,
           2,
           2,
           2,
           2,
           2,
           2,
           -1,
           -1,
           2,
           2,
           2,
           -1,
           2,
           2,
           2,
           2,
           2,
           -1,
           2,
           2,
           2,
           -1,
           -1,
           2,
           2,
           2,
           2,
           2,
           2,
           2,
           -1,
           2,
           2,
           2,
           -1,
           -1,
           2,
           2,
           2,
           2,
           2,
           2,
           2,
           2,
           2,
           2,
           2,
           2,
           2,
           2,
           2,
           2,
           -1,
           2,
           2,
           -1,
           -1,
           2,
           -1,
           2,
           2,
           2,
           2,
           2,
           2,
           2,
           2,
           2,
           2,
           2,
           2,
           2,
           -1,
           -1,
           -1,
           2,
           2,
           2,
           -1,
           -1,
           2,
           2,
           2,
           2,
           -1,
           -1,
           2,
           2,
           2,
           2,
           2,
           2,
           2,
           2,
           2,
           -1,
           -1,
           2,
           -1,
           2,
           2,
           2,
           2,
           2,
           2,
           2,
           -1,
           2,
           2,
           2,
           -1,
           -1,
           -1,
           2,
           2,
           2,
           -1,
           -1,
           2,
           2,
           -1,
           -1,
           2,
           2,
           -1,
           -1,
           2,
           2,
           2,
           2,
           -1,
           2,
           -1,
           2,
           2,
           -1,
           2,
           -1,
           2,
           2,
           2,
           1,
           2,
           -1,
           -1,
           2,
           2,
           -1,
           1,
           2,
           -1,
           2,
           2,
           2,
           2,
           2,
           2,
           2,
           2,
           2,
           2,
           2,
           2,
           2,
           2,
           2,
           -1,
           -1,
           2,
           2,
           -1,
           2,
           2,
           -1,
           2,
           2,
           2,
           2,
           2,
           2,
           -1,
           -1,
           2,
           -1,
           -1,
           -1,
           -1,
           2,
           -1,
           2,
           2,
           2,
           -1,
           2,
           2,
           2,
           2,
           2,
           2,
           2,
           2,
           2,
           2,
           -1,
           2,
           2,
           2,
           2,
           2,
           0,
           2,
           2,
           2,
           -1,
           2,
           2,
           2,
           2,
           -1,
           2,
           2,
           -1,
           2,
           -1,
           2,
           -1,
           1,
           2,
           -1,
           0,
           -1,
           -1,
           2,
           2,
           2,
           2,
           2,
           2,
           2,
           2,
           2,
           1,
           -1,
           -1,
           2,
           2,
           -1,
           -1,
           2,
           2,
           2,
           2,
           2,
           2,
           2,
           2,
           2,
           -1,
           -1,
           2,
           2,
           2,
           2,
           -1,
           2,
           2,
           -1,
           -1,
           2,
           2,
           -1,
           2,
           2,
           2,
           -1,
           1,
           -1,
           -1,
           2,
           2,
           -1,
           2,
           2,
           2,
           2,
           -1,
           2,
           2
          ],
          "coloraxis": "coloraxis",
          "symbol": "circle"
         },
         "mode": "markers",
         "name": "",
         "orientation": "v",
         "showlegend": false,
         "type": "scatter",
         "x": [
          8.520211219787598,
          0.028199639171361923,
          16.39318084716797,
          -13.180093765258789,
          33.43800735473633,
          -5.471269130706787,
          -3.1085212230682373,
          -7.584445953369141,
          -21.660951614379883,
          22.620662689208984,
          27.048873901367188,
          -13.173924446105957,
          21.560688018798828,
          2.150271415710449,
          -18.32552146911621,
          -38.95958709716797,
          -38.82965087890625,
          -38.80873107910156,
          -0.2806171774864197,
          -46.204891204833984,
          -76.7675552368164,
          5.786503314971924,
          11.39719009399414,
          -31.05280303955078,
          -1.9177780151367188,
          -14.026885986328125,
          -7.84844970703125,
          -21.352617263793945,
          -7.213580131530762,
          11.014174461364746,
          8.64028263092041,
          8.401464462280273,
          -20.094661712646484,
          31.10297393798828,
          7.3631367683410645,
          15.132425308227539,
          -12.393092155456543,
          0.5336252450942993,
          -33.28158187866211,
          2.887648582458496,
          1.513593077659607,
          1.6610928773880005,
          7.153670787811279,
          -34.77964782714844,
          -2.169060707092285,
          -6.8499040603637695,
          -23.942108154296875,
          -12.981019973754883,
          2.507187604904175,
          -38.798362731933594,
          -38.798362731933594,
          -9.778024673461914,
          30.221580505371094,
          -13.93047046661377,
          -15.403692245483398,
          -12.83073616027832,
          30.201839447021484,
          -0.3858325183391571,
          -31.45819854736328,
          -3.6278252601623535,
          27.943695068359375,
          -20.7014102935791,
          -29.567174911499023,
          -11.336606979370117,
          25.336952209472656,
          -22.439367294311523,
          6.960535526275635,
          -11.867042541503906,
          22.514345169067383,
          2.385669231414795,
          -12.76314926147461,
          -10.563005447387695,
          19.753177642822266,
          0.007904279045760632,
          -13.65854263305664,
          -13.749202728271484,
          -27.633865356445312,
          -23.659212112426758,
          -14.828069686889648,
          -24.237060546875,
          22.35321807861328,
          12.22606086730957,
          -18.943113327026367,
          -32.883140563964844,
          -33.14876174926758,
          4.107418537139893,
          -28.586448669433594,
          41.36483383178711,
          41.36483383178711,
          15.195059776306152,
          -33.985469818115234,
          -0.400445818901062,
          11.049273490905762,
          30.98650360107422,
          -11.871499061584473,
          -26.601490020751953,
          -17.871320724487305,
          -20.05546760559082,
          16.714536666870117,
          28.460351943969727,
          0.002031790092587471,
          -2.9062960147857666,
          5.839152812957764,
          -1.6362905502319336,
          14.226040840148926,
          -11.456731796264648,
          1.341112494468689,
          -29.474451065063477,
          -20.812660217285156,
          12.455865859985352,
          20.48948860168457,
          20.645687103271484,
          -9.83566665649414,
          -9.83566665649414,
          18.98853302001953,
          -6.232816219329834,
          -25.80491828918457,
          24.257038116455078,
          -2.707751989364624,
          11.991873741149902,
          30.12858009338379,
          30.12858009338379,
          -26.42195701599121,
          15.404802322387695,
          16.426755905151367,
          -23.437889099121094,
          16.31536102294922,
          -16.932491302490234,
          -2.5165107250213623,
          -14.853602409362793,
          25.432411193847656,
          18.363529205322266,
          13.117823600769043,
          6.459963321685791,
          -2.163268804550171,
          -10.176043510437012,
          -9.574116706848145,
          21.31109619140625,
          -6.560630798339844,
          8.82038688659668,
          -29.340715408325195,
          24.445037841796875,
          -4.53113317489624,
          -34.96143341064453,
          11.843305587768555,
          17.692344665527344,
          29.33889389038086,
          29.096906661987305,
          -21.015947341918945,
          11.756420135498047,
          4.11016845703125,
          21.209674835205078,
          13.175036430358887,
          -8.27366828918457,
          -8.27366828918457,
          26.73863983154297,
          -28.845901489257812,
          -28.25200653076172,
          15.344948768615723,
          -18.100805282592773,
          -8.578741073608398,
          23.932289123535156,
          9.95401382446289,
          -6.40751838684082,
          23.133445739746094,
          -9.317422866821289,
          13.818202018737793,
          10.273895263671875,
          -7.398077011108398,
          -6.7859206199646,
          9.914170265197754,
          5.854921817779541,
          6.0067057609558105,
          25.680322647094727,
          -7.031689167022705,
          -15.856986999511719,
          11.991157531738281,
          -20.97300910949707,
          -4.577493190765381,
          -3.878645658493042,
          10.300809860229492,
          -35.96709442138672,
          -35.96709442138672,
          -9.47750186920166,
          38.525238037109375,
          6.984912872314453,
          19.66463279724121,
          17.751399993896484,
          17.9094181060791,
          6.582614898681641,
          -24.9095401763916,
          -12.27249813079834,
          16.2229061126709,
          21.844266891479492,
          -8.917980194091797,
          2.8049027919769287,
          -14.869830131530762,
          -4.1576313972473145,
          1.2707573175430298,
          19.979366302490234,
          -9.81070613861084,
          -23.898988723754883,
          11.775288581848145,
          -2.5039803981781006,
          -2.3400678634643555,
          4.979852199554443,
          -2.6537082195281982,
          -16.87498664855957,
          -15.793866157531738,
          -28.549570083618164,
          36.32080078125,
          -39.35210418701172,
          -15.75020980834961,
          -24.780006408691406,
          -2.170027256011963,
          13.32767391204834,
          -98.62242126464844,
          -5.486960411071777,
          27.084049224853516,
          -27.348072052001953,
          -7.521570682525635,
          -15.03532600402832,
          1.5512946844100952,
          -14.772302627563477,
          -5.650508880615234,
          11.721076011657715,
          -16.406679153442383,
          -0.5273162126541138,
          4.659884929656982,
          -5.940405368804932,
          -23.358821868896484,
          -4.059301376342773,
          4.464122295379639,
          -10.49257755279541,
          6.966970443725586,
          -4.030457973480225,
          -24.424978256225586,
          -1.4773414134979248,
          2.119302749633789,
          -2.728640556335449,
          27.35253143310547,
          -9.036002159118652,
          -23.44060516357422,
          -23.48114776611328,
          19.649282455444336,
          28.642629623413086,
          26.8596134185791,
          0.7708805799484253,
          -105.31830596923828,
          6.041713714599609,
          24.39031982421875,
          -7.595353126525879,
          -28.08375358581543,
          2.514543294906616,
          2.708299160003662,
          -29.28154945373535,
          -17.04758071899414,
          -24.573455810546875,
          -6.946869850158691,
          -34.31699752807617,
          3.990029811859131,
          21.324634552001953,
          -87.84293365478516,
          -21.56113624572754,
          28.917949676513672,
          -9.258962631225586,
          19.076278686523438,
          19.2010440826416,
          21.160112380981445,
          -14.642477035522461,
          31.15028953552246,
          -17.4487361907959,
          33.738712310791016,
          10.77120590209961,
          5.864450454711914,
          -6.79933500289917,
          -14.455038070678711,
          10.0357027053833,
          9.316678047180176,
          14.802221298217773,
          -10.118453979492188,
          -16.98756217956543,
          2.2442209720611572,
          -25.65349006652832,
          -25.65349006652832,
          -10.525693893432617,
          -12.931790351867676,
          -6.343986511230469,
          4.706387996673584,
          12.424567222595215,
          -4.988009452819824,
          36.1352424621582,
          -20.58913803100586,
          37.43593978881836,
          36.736995697021484,
          -6.608240127563477,
          6.1696624755859375,
          0.3845188319683075,
          -13.452075004577637,
          32.396480560302734,
          21.185226440429688,
          -21.954763412475586,
          21.864952087402344,
          2.5466554164886475,
          2.180574655532837,
          -5.853055953979492,
          -5.672229290008545,
          -0.23722843825817108,
          -8.085134506225586,
          -28.081661224365234,
          -10.340086936950684,
          -2.1519455909729004,
          21.030078887939453,
          16.36128044128418,
          8.422019958496094,
          7.77921199798584,
          -24.63479995727539,
          -24.63479995727539,
          6.702632427215576,
          23.106891632080078,
          5.018488883972168,
          -29.814804077148438,
          -7.731810092926025,
          16.558975219726562,
          10.120476722717285,
          19.233596801757812,
          -19.532546997070312,
          9.380680084228516,
          21.073740005493164,
          -21.128698348999023,
          -7.906356334686279,
          24.647138595581055,
          -28.356603622436523,
          3.5857467651367188,
          -23.35194969177246,
          15.190486907958984,
          7.626418590545654,
          -2.3307580947875977,
          8.588075637817383,
          6.6649885177612305,
          -9.562503814697266,
          -0.8655679225921631,
          -19.756410598754883,
          20.682985305786133,
          21.24886131286621,
          21.24886131286621,
          5.098494529724121,
          27.466251373291016,
          7.000300407409668,
          0.05661266669631004,
          15.30278205871582,
          -22.16376304626465,
          20.21893882751465,
          -2.9560272693634033,
          17.33039093017578,
          -17.384218215942383,
          22.533611297607422,
          -30.371713638305664,
          -8.871368408203125,
          0.44370540976524353,
          -4.368347644805908,
          7.443509578704834,
          22.785951614379883,
          -23.128032684326172,
          1.7846934795379639,
          20.5146427154541,
          20.5146427154541,
          29.236494064331055,
          9.539998054504395,
          15.806398391723633,
          11.418571472167969,
          -11.646553993225098,
          15.062142372131348,
          -4.066272258758545,
          -1.8636057376861572,
          15.222896575927734,
          15.410900115966797,
          2.556926727294922,
          -2.034040927886963,
          14.079232215881348,
          -12.004725456237793,
          -10.791975975036621,
          35.17959976196289,
          35.17959976196289,
          21.917367935180664,
          3.1005842685699463,
          13.594943046569824,
          10.263327598571777,
          40.41341781616211,
          40.58933639526367,
          8.323206901550293,
          16.19215202331543,
          3.9138615131378174,
          -16.345035552978516,
          33.08003616333008,
          33.08003616333008,
          -19.585216522216797,
          -11.045575141906738,
          0.32515448331832886,
          -17.436750411987305,
          -1.5449413061141968,
          -4.8956074714660645,
          8.047245979309082,
          -11.402288436889648,
          15.018304824829102,
          40.17424392700195,
          39.90946578979492,
          -9.36928939819336,
          -35.29465103149414,
          7.508528232574463,
          8.606668472290039,
          3.673389196395874,
          -11.958197593688965,
          18.19569206237793,
          8.273844718933105,
          27.7974910736084,
          31.3260440826416,
          -8.962294578552246,
          -6.319886207580566,
          18.288101196289062,
          -15.604471206665039,
          -15.604471206665039,
          -33.60453796386719,
          2.5549416542053223,
          -11.569732666015625,
          6.149637699127197,
          13.370503425598145,
          13.075628280639648,
          -2.4276251792907715,
          -2.4276251792907715,
          40.930084228515625,
          40.930084228515625,
          -8.169855117797852,
          -8.303799629211426,
          22.097074508666992,
          -17.63605499267578,
          16.637182235717773,
          10.996013641357422,
          -17.212690353393555,
          28.84868812561035,
          -31.020925521850586,
          -16.367345809936523,
          -22.362655639648438,
          9.757981300354004,
          9.757981300354004,
          23.00745964050293,
          4.693522930145264,
          -99.2228775024414,
          19.246267318725586,
          -4.889989376068115,
          2.9753835201263428,
          28.423542022705078,
          13.029169082641602,
          11.325827598571777,
          11.491121292114258,
          24.393545150756836,
          12.571674346923828,
          -10.666625022888184,
          29.958839416503906,
          -21.922286987304688,
          16.618061065673828,
          1.3771215677261353,
          0.9565368294715881,
          27.30130386352539,
          9.394111633300781,
          -6.693034648895264,
          9.416680335998535,
          31.337709426879883,
          -24.0518741607666,
          -3.171815872192383,
          -9.247002601623535,
          20.368549346923828,
          -17.901084899902344,
          13.213323593139648,
          -5.085920810699463,
          -8.80402946472168,
          -0.9851799607276917,
          -35.83839797973633,
          -13.83858871459961,
          0.6105855107307434,
          32.6893424987793,
          15.131288528442383,
          -0.2997841238975525,
          -10.78770637512207,
          -2.602886915206909,
          -2.3448753356933594,
          3.436847448348999,
          4.808764934539795,
          -19.77250862121582,
          9.458791732788086,
          25.019014358520508,
          -15.594043731689453,
          -12.477863311767578,
          9.720200538635254,
          -21.81568717956543,
          -28.076499938964844,
          -28.076499938964844,
          -23.7073974609375,
          -38.128849029541016,
          29.965187072753906,
          -6.386044025421143,
          9.119165420532227,
          -95.80455017089844,
          24.519268035888672,
          -6.83797550201416,
          -7.3821702003479,
          -7.254966735839844,
          -11.309420585632324,
          13.610475540161133,
          -5.129549026489258,
          2.7149176597595215,
          13.17760181427002,
          -22.440858840942383,
          -35.25474548339844,
          8.677606582641602,
          -22.583311080932617,
          -19.941001892089844,
          24.548690795898438,
          22.482444763183594,
          -0.05713491514325142,
          3.1386852264404297,
          -1.2079389095306396,
          8.41021728515625,
          -32.92464065551758,
          -16.21159553527832,
          18.635873794555664,
          -23.410837173461914,
          13.958532333374023,
          -84.48087310791016,
          12.399269104003906,
          -27.12232208251953,
          -11.906315803527832,
          2.880934715270996,
          34.09786605834961,
          26.50445556640625,
          -15.329292297363281,
          30.308027267456055,
          -7.822380065917969,
          4.856590270996094,
          5.101487159729004,
          -13.040181159973145,
          -41.44426345825195,
          3.417238473892212,
          25.261829376220703,
          -2.4281702041625977,
          21.936044692993164,
          6.69617223739624,
          -17.946033477783203,
          0.9993785619735718,
          23.1164608001709,
          5.345609664916992,
          31.865703582763672,
          -23.448482513427734,
          -40.36897659301758,
          -16.864009857177734,
          -6.0363311767578125,
          -33.66663360595703,
          -33.434791564941406,
          7.00316047668457,
          15.668509483337402,
          -0.583717405796051,
          1.2138991355895996,
          -26.82747459411621,
          16.589868545532227,
          -4.986262798309326,
          6.9918293952941895,
          -14.614774703979492,
          40.251243591308594,
          40.50849914550781,
          -16.819183349609375,
          13.764142990112305,
          -16.723711013793945,
          3.429912805557251,
          -22.65007972717285,
          -1.137640118598938,
          -1.9854716062545776,
          15.01325511932373,
          15.01325511932373,
          2.319855213165283,
          6.270288944244385,
          31.573698043823242,
          6.358323574066162,
          6.358323574066162,
          -21.060640335083008,
          1.3353487253189087,
          25.42901611328125,
          -17.85535430908203,
          -17.85535430908203,
          18.2491455078125,
          10.056380271911621,
          -36.1679573059082,
          -11.93305778503418,
          -13.92141056060791,
          -15.536087989807129,
          7.089343547821045,
          -65.59103393554688,
          1.9538724422454834,
          -3.114490032196045
         ],
         "xaxis": "x",
         "y": [
          3.836280345916748,
          -22.782520294189453,
          -30.376808166503906,
          24.919979095458984,
          7.704214096069336,
          7.110915660858154,
          18.971073150634766,
          4.838096618652344,
          -26.138652801513672,
          23.407161712646484,
          8.352293968200684,
          -16.801652908325195,
          -33.16203308105469,
          -24.008506774902344,
          -21.721723556518555,
          -11.071317672729492,
          -11.348613739013672,
          -3.4639439582824707,
          -10.714529991149902,
          12.756513595581055,
          28.4501953125,
          10.880208969116211,
          22.32428741455078,
          11.270516395568848,
          3.0398504734039307,
          6.820267200469971,
          23.483884811401367,
          -10.356179237365723,
          -10.874076843261719,
          19.37563133239746,
          2.290205240249634,
          2.273075580596924,
          -2.015000343322754,
          30.14032554626465,
          18.295700073242188,
          -8.812954902648926,
          9.653853416442871,
          -29.12921714782715,
          -0.04130431264638901,
          30.95446014404297,
          38.34444808959961,
          38.0740966796875,
          -31.939119338989258,
          10.648499488830566,
          6.4453654289245605,
          -34.54008483886719,
          -11.237546920776367,
          -21.40935707092285,
          0.26845991611480713,
          19.624664306640625,
          19.624664306640625,
          20.387893676757812,
          -20.31209373474121,
          10.587200164794922,
          11.305932998657227,
          12.163993835449219,
          3.502261161804199,
          1.6688268184661865,
          10.342926025390625,
          -4.65546178817749,
          -29.646451950073242,
          -26.89064598083496,
          -3.229443311691284,
          -14.762383460998535,
          15.317615509033203,
          -25.198490142822266,
          30.345989227294922,
          -9.93505859375,
          8.6243314743042,
          -28.309520721435547,
          19.79892921447754,
          -18.48176383972168,
          -7.205543518066406,
          20.872955322265625,
          8.082069396972656,
          -13.350281715393066,
          15.096827507019043,
          6.933063983917236,
          13.974348068237305,
          -16.809309005737305,
          -1.2432924509048462,
          -29.674028396606445,
          -6.317910671234131,
          -20.04839324951172,
          -19.900470733642578,
          7.180323123931885,
          15.931475639343262,
          12.573136329650879,
          12.573136329650879,
          15.396848678588867,
          0.825650155544281,
          -33.74921417236328,
          21.179000854492188,
          -15.774147987365723,
          -27.85878562927246,
          7.007259368896484,
          23.888959884643555,
          4.906324863433838,
          -3.7683358192443848,
          -5.243884563446045,
          31.331165313720703,
          -20.658884048461914,
          29.1411075592041,
          -0.7772519588470459,
          -8.886890411376953,
          15.911218643188477,
          20.101810455322266,
          -26.2658634185791,
          -2.7177608013153076,
          25.206621170043945,
          -27.332002639770508,
          -27.076147079467773,
          -41.41831970214844,
          -41.41831970214844,
          -16.33502769470215,
          8.771310806274414,
          -2.875065326690674,
          26.70513153076172,
          16.747943878173828,
          3.07869815826416,
          -10.783126831054688,
          -10.783126831054688,
          2.127526044845581,
          -19.549455642700195,
          20.880455017089844,
          -12.51370620727539,
          2.7896392345428467,
          -22.479265213012695,
          7.216987609863281,
          -4.802361488342285,
          4.203533172607422,
          21.109237670898438,
          12.283781051635742,
          -14.82553768157959,
          -7.180282115936279,
          1.7389849424362183,
          -31.511987686157227,
          0.37664374709129333,
          28.325735092163086,
          6.438766956329346,
          3.3773114681243896,
          -22.77403450012207,
          -15.387103080749512,
          28.403474807739258,
          7.447569370269775,
          14.728337287902832,
          21.849323272705078,
          22.029333114624023,
          12.804807662963867,
          -15.978509902954102,
          22.957019805908203,
          6.187696933746338,
          16.237472534179688,
          -26.231443405151367,
          -26.231443405151367,
          -6.712417125701904,
          -3.080281972885132,
          4.730306625366211,
          16.482423782348633,
          15.585885047912598,
          -5.3168816566467285,
          -8.317207336425781,
          26.331392288208008,
          27.448047637939453,
          18.7536678314209,
          -15.307671546936035,
          -13.327032089233398,
          -1.2691231966018677,
          1.2305306196212769,
          -31.730091094970703,
          33.93723678588867,
          2.865912437438965,
          -11.074002265930176,
          -24.53923988342285,
          -12.697901725769043,
          -1.7034776210784912,
          8.274364471435547,
          6.428515434265137,
          2.452371120452881,
          14.403406143188477,
          -9.614343643188477,
          4.0198750495910645,
          4.0198750495910645,
          11.166668891906738,
          -16.5344181060791,
          10.716156005859375,
          5.792235374450684,
          -35.96729278564453,
          -36.23997497558594,
          -24.027851104736328,
          11.542330741882324,
          17.70903778076172,
          -18.101411819458008,
          25.774335861206055,
          -3.3005595207214355,
          -17.61118507385254,
          -19.0181941986084,
          23.801130294799805,
          -38.63957595825195,
          11.927947998046875,
          -22.15353012084961,
          -8.26185417175293,
          -25.385900497436523,
          -41.67648696899414,
          -41.95692443847656,
          6.16307258605957,
          11.573750495910645,
          -21.021575927734375,
          -27.792442321777344,
          -14.738775253295898,
          -1.3803918361663818,
          3.7876291275024414,
          -15.417969703674316,
          0.13364765048027039,
          31.495258331298828,
          -12.843855857849121,
          -25.915321350097656,
          2.5112993717193604,
          -3.635387659072876,
          -9.832408905029297,
          -4.395843982696533,
          4.387895584106445,
          18.519948959350586,
          20.78657341003418,
          -11.21108627319336,
          14.722193717956543,
          -5.127316474914551,
          -40.01602554321289,
          -22.086767196655273,
          36.62060546875,
          15.562348365783691,
          0.4226979613304138,
          13.609838485717773,
          -6.670746326446533,
          -0.881826639175415,
          -29.23548126220703,
          1.745331048965454,
          -14.301579475402832,
          3.873246669769287,
          -12.837596893310547,
          9.681796073913574,
          -11.992204666137695,
          26.27730941772461,
          26.59070587158203,
          -12.844127655029297,
          -16.368549346923828,
          -15.937870979309082,
          -0.32760947942733765,
          10.47896671295166,
          28.106733322143555,
          6.716322422027588,
          3.715146780014038,
          -9.637385368347168,
          -5.127344131469727,
          -5.151123523712158,
          19.596275329589844,
          -6.160557746887207,
          -18.071060180664062,
          -9.927693367004395,
          5.005826950073242,
          24.89716911315918,
          -3.9227352142333984,
          -47.53158950805664,
          7.3903632164001465,
          2.7083308696746826,
          -33.766632080078125,
          -22.886775970458984,
          -22.618579864501953,
          -12.595812797546387,
          9.750909805297852,
          29.371742248535156,
          -37.24258041381836,
          10.767029762268066,
          -19.62254524230957,
          17.89415740966797,
          12.134828567504883,
          -34.34436798095703,
          -18.284225463867188,
          -13.191770553588867,
          -14.252735137939453,
          7.735302925109863,
          -10.697466850280762,
          -38.03981018066406,
          -23.259521484375,
          -23.259521484375,
          4.722401142120361,
          -26.610698699951172,
          -2.668156862258911,
          3.154515027999878,
          1.5836092233657837,
          13.649291038513184,
          -1.9744079113006592,
          20.274110794067383,
          -10.740029335021973,
          -10.480295181274414,
          36.33501052856445,
          -38.100303649902344,
          12.108572959899902,
          -24.695796966552734,
          -1.1418765783309937,
          3.5244438648223877,
          -37.16163635253906,
          -18.512760162353516,
          -28.894630432128906,
          15.17892837524414,
          -16.98504638671875,
          -17.202531814575195,
          -3.327461004257202,
          -9.1882963180542,
          -14.724846839904785,
          3.24190092086792,
          -13.92430591583252,
          14.907660484313965,
          -8.744922637939453,
          18.112714767456055,
          21.653926849365234,
          32.954219818115234,
          32.954219818115234,
          -31.45395278930664,
          -0.9613826870918274,
          16.893102645874023,
          17.096492767333984,
          -33.301307678222656,
          6.866601467132568,
          -29.89009666442871,
          11.624372482299805,
          -18.70967674255371,
          37.64564895629883,
          9.890560150146484,
          1.85066556930542,
          10.056631088256836,
          -8.269444465637207,
          -25.52553367614746,
          6.587717056274414,
          12.424909591674805,
          -20.902584075927734,
          22.47711944580078,
          26.777040481567383,
          8.061849594116211,
          9.338655471801758,
          32.44247817993164,
          12.732226371765137,
          10.357229232788086,
          20.091026306152344,
          -41.98744583129883,
          -41.98744583129883,
          15.292007446289062,
          11.0303316116333,
          -3.903486728668213,
          9.601363182067871,
          10.840872764587402,
          19.044740676879883,
          18.869140625,
          22.35722541809082,
          1.6075117588043213,
          6.258573532104492,
          1.0543538331985474,
          8.931251525878906,
          -0.04099871590733528,
          6.904465198516846,
          10.91400146484375,
          16.557031631469727,
          -17.981731414794922,
          10.294172286987305,
          -21.42674446105957,
          32.95914077758789,
          32.95914077758789,
          5.613210678100586,
          36.801700592041016,
          8.224465370178223,
          24.391389846801758,
          26.41530990600586,
          -0.8465431928634644,
          -25.031696319580078,
          -7.471322059631348,
          -3.5810844898223877,
          18.69563865661621,
          22.609560012817383,
          -19.630800247192383,
          13.46757698059082,
          -8.99604606628418,
          -17.459449768066406,
          17.595487594604492,
          17.595487594604492,
          -33.5236701965332,
          -11.75019645690918,
          0.42029204964637756,
          10.706820487976074,
          25.91790771484375,
          25.66155433654785,
          27.611059188842773,
          22.652576446533203,
          17.529077529907227,
          -17.892269134521484,
          -7.051225185394287,
          -7.051225185394287,
          11.116847038269043,
          15.135833740234375,
          3.213318347930908,
          2.2486143112182617,
          -18.972017288208008,
          4.050119876861572,
          -6.070550918579102,
          -0.4367965757846832,
          -5.490124702453613,
          5.15541410446167,
          5.313847541809082,
          18.70168113708496,
          28.62930679321289,
          -17.272642135620117,
          0.6913949251174927,
          -19.70372772216797,
          -1.5090066194534302,
          18.193227767944336,
          10.737519264221191,
          -3.1943867206573486,
          24.881208419799805,
          1.3536242246627808,
          -4.908616542816162,
          -12.446514129638672,
          34.29310607910156,
          34.29310607910156,
          -7.8994646072387695,
          -17.023635864257812,
          -11.095598220825195,
          -4.73257303237915,
          30.8675537109375,
          30.80721664428711,
          -26.216087341308594,
          -26.216087341308594,
          -4.175853729248047,
          -4.175853729248047,
          14.26506519317627,
          19.52727508544922,
          -28.101457595825195,
          -37.7552375793457,
          -22.0736141204834,
          -10.248238563537598,
          -14.909004211425781,
          8.056147575378418,
          17.201589584350586,
          16.642959594726562,
          -30.38625144958496,
          -34.464962005615234,
          -34.464962005615234,
          25.287273406982422,
          -2.7700138092041016,
          31.437450408935547,
          -7.665858268737793,
          17.065853118896484,
          -7.157721042633057,
          -21.86026954650879,
          5.080440521240234,
          -40.42698669433594,
          -40.16814422607422,
          14.318583488464355,
          -4.213344573974609,
          31.225656509399414,
          -16.809221267700195,
          2.053130626678467,
          25.83245086669922,
          25.949764251708984,
          24.37028694152832,
          5.398343563079834,
          13.15258502960205,
          9.673492431640625,
          -11.34804630279541,
          -1.665361762046814,
          -2.9339561462402344,
          -4.091215133666992,
          8.126482009887695,
          -0.9450311660766602,
          -7.157110214233398,
          -19.580976486206055,
          -23.607938766479492,
          22.75938606262207,
          -33.18156433105469,
          -21.142414093017578,
          -4.941059112548828,
          10.700465202331543,
          11.70405101776123,
          -2.361429214477539,
          16.11782455444336,
          30.8861141204834,
          8.385953903198242,
          16.17986297607422,
          -13.984941482543945,
          -11.599311828613281,
          16.479480743408203,
          -31.801271438598633,
          -23.359975814819336,
          -29.18488311767578,
          1.6263480186462402,
          35.01288604736328,
          -28.565359115600586,
          25.020557403564453,
          25.020557403564453,
          -10.160061836242676,
          -3.5129103660583496,
          11.467394828796387,
          -32.58210372924805,
          -6.509414196014404,
          -5.567897796630859,
          -2.2695791721343994,
          -7.494157314300537,
          -21.17807960510254,
          -20.94041633605957,
          -16.056955337524414,
          35.34680938720703,
          19.772567749023438,
          -14.736419677734375,
          -25.54098129272461,
          9.154107093811035,
          10.962488174438477,
          -4.179990291595459,
          17.140167236328125,
          -13.986491203308105,
          13.009775161743164,
          -11.848033905029297,
          -40.81018829345703,
          10.33371353149414,
          5.446859359741211,
          -20.474271774291992,
          -7.740601062774658,
          9.176687240600586,
          1.3261690139770508,
          -7.0476179122924805,
          -3.6738805770874023,
          55.63083267211914,
          4.369022369384766,
          5.711053848266602,
          32.2923469543457,
          9.340457916259766,
          8.625208854675293,
          6.626751899719238,
          -34.876121520996094,
          -18.00800132751465,
          13.196252822875977,
          -36.48493194580078,
          -36.34891128540039,
          25.492277145385742,
          -3.107656240463257,
          -8.337285041809082,
          0.2793470025062561,
          -2.0382943153381348,
          14.324356079101562,
          -10.2025146484375,
          14.104331970214844,
          -6.181493759155273,
          7.9402666091918945,
          19.61129379272461,
          -19.46247673034668,
          20.182506561279297,
          -11.89490032196045,
          18.520030975341797,
          -0.8039265275001526,
          -13.373292922973633,
          -13.177096366882324,
          12.489238739013672,
          9.053112983703613,
          -10.066641807556152,
          -11.392366409301758,
          -18.588563919067383,
          24.951602935791016,
          -9.550125122070312,
          -7.165111064910889,
          -7.621523857116699,
          -14.086851119995117,
          -14.245100975036621,
          2.5962071418762207,
          -21.69283103942871,
          -11.100200653076172,
          0.3084961771965027,
          -31.225204467773438,
          -17.338590621948242,
          1.0985246896743774,
          -29.426706314086914,
          -29.426706314086914,
          -3.1863791942596436,
          -19.159469604492188,
          25.579898834228516,
          -26.535377502441406,
          -26.535377502441406,
          -17.622447967529297,
          31.40521812438965,
          -15.108802795410156,
          28.961088180541992,
          28.961088180541992,
          -15.921213150024414,
          -21.665287017822266,
          -20.505704879760742,
          4.411640644073486,
          1.1267014741897583,
          -2.2861874103546143,
          -18.853763580322266,
          74.58784484863281,
          -21.92435073852539,
          20.562997817993164
         ],
         "yaxis": "y"
        }
       ],
       "layout": {
        "coloraxis": {
         "colorbar": {
          "title": {
           "text": "cluster"
          }
         },
         "colorscale": [
          [
           0,
           "#0d0887"
          ],
          [
           0.1111111111111111,
           "#46039f"
          ],
          [
           0.2222222222222222,
           "#7201a8"
          ],
          [
           0.3333333333333333,
           "#9c179e"
          ],
          [
           0.4444444444444444,
           "#bd3786"
          ],
          [
           0.5555555555555556,
           "#d8576b"
          ],
          [
           0.6666666666666666,
           "#ed7953"
          ],
          [
           0.7777777777777778,
           "#fb9f3a"
          ],
          [
           0.8888888888888888,
           "#fdca26"
          ],
          [
           1,
           "#f0f921"
          ]
         ]
        },
        "legend": {
         "tracegroupgap": 0
        },
        "template": {
         "data": {
          "bar": [
           {
            "error_x": {
             "color": "#2a3f5f"
            },
            "error_y": {
             "color": "#2a3f5f"
            },
            "marker": {
             "line": {
              "color": "#E5ECF6",
              "width": 0.5
             },
             "pattern": {
              "fillmode": "overlay",
              "size": 10,
              "solidity": 0.2
             }
            },
            "type": "bar"
           }
          ],
          "barpolar": [
           {
            "marker": {
             "line": {
              "color": "#E5ECF6",
              "width": 0.5
             },
             "pattern": {
              "fillmode": "overlay",
              "size": 10,
              "solidity": 0.2
             }
            },
            "type": "barpolar"
           }
          ],
          "carpet": [
           {
            "aaxis": {
             "endlinecolor": "#2a3f5f",
             "gridcolor": "white",
             "linecolor": "white",
             "minorgridcolor": "white",
             "startlinecolor": "#2a3f5f"
            },
            "baxis": {
             "endlinecolor": "#2a3f5f",
             "gridcolor": "white",
             "linecolor": "white",
             "minorgridcolor": "white",
             "startlinecolor": "#2a3f5f"
            },
            "type": "carpet"
           }
          ],
          "choropleth": [
           {
            "colorbar": {
             "outlinewidth": 0,
             "ticks": ""
            },
            "type": "choropleth"
           }
          ],
          "contour": [
           {
            "colorbar": {
             "outlinewidth": 0,
             "ticks": ""
            },
            "colorscale": [
             [
              0,
              "#0d0887"
             ],
             [
              0.1111111111111111,
              "#46039f"
             ],
             [
              0.2222222222222222,
              "#7201a8"
             ],
             [
              0.3333333333333333,
              "#9c179e"
             ],
             [
              0.4444444444444444,
              "#bd3786"
             ],
             [
              0.5555555555555556,
              "#d8576b"
             ],
             [
              0.6666666666666666,
              "#ed7953"
             ],
             [
              0.7777777777777778,
              "#fb9f3a"
             ],
             [
              0.8888888888888888,
              "#fdca26"
             ],
             [
              1,
              "#f0f921"
             ]
            ],
            "type": "contour"
           }
          ],
          "contourcarpet": [
           {
            "colorbar": {
             "outlinewidth": 0,
             "ticks": ""
            },
            "type": "contourcarpet"
           }
          ],
          "heatmap": [
           {
            "colorbar": {
             "outlinewidth": 0,
             "ticks": ""
            },
            "colorscale": [
             [
              0,
              "#0d0887"
             ],
             [
              0.1111111111111111,
              "#46039f"
             ],
             [
              0.2222222222222222,
              "#7201a8"
             ],
             [
              0.3333333333333333,
              "#9c179e"
             ],
             [
              0.4444444444444444,
              "#bd3786"
             ],
             [
              0.5555555555555556,
              "#d8576b"
             ],
             [
              0.6666666666666666,
              "#ed7953"
             ],
             [
              0.7777777777777778,
              "#fb9f3a"
             ],
             [
              0.8888888888888888,
              "#fdca26"
             ],
             [
              1,
              "#f0f921"
             ]
            ],
            "type": "heatmap"
           }
          ],
          "heatmapgl": [
           {
            "colorbar": {
             "outlinewidth": 0,
             "ticks": ""
            },
            "colorscale": [
             [
              0,
              "#0d0887"
             ],
             [
              0.1111111111111111,
              "#46039f"
             ],
             [
              0.2222222222222222,
              "#7201a8"
             ],
             [
              0.3333333333333333,
              "#9c179e"
             ],
             [
              0.4444444444444444,
              "#bd3786"
             ],
             [
              0.5555555555555556,
              "#d8576b"
             ],
             [
              0.6666666666666666,
              "#ed7953"
             ],
             [
              0.7777777777777778,
              "#fb9f3a"
             ],
             [
              0.8888888888888888,
              "#fdca26"
             ],
             [
              1,
              "#f0f921"
             ]
            ],
            "type": "heatmapgl"
           }
          ],
          "histogram": [
           {
            "marker": {
             "pattern": {
              "fillmode": "overlay",
              "size": 10,
              "solidity": 0.2
             }
            },
            "type": "histogram"
           }
          ],
          "histogram2d": [
           {
            "colorbar": {
             "outlinewidth": 0,
             "ticks": ""
            },
            "colorscale": [
             [
              0,
              "#0d0887"
             ],
             [
              0.1111111111111111,
              "#46039f"
             ],
             [
              0.2222222222222222,
              "#7201a8"
             ],
             [
              0.3333333333333333,
              "#9c179e"
             ],
             [
              0.4444444444444444,
              "#bd3786"
             ],
             [
              0.5555555555555556,
              "#d8576b"
             ],
             [
              0.6666666666666666,
              "#ed7953"
             ],
             [
              0.7777777777777778,
              "#fb9f3a"
             ],
             [
              0.8888888888888888,
              "#fdca26"
             ],
             [
              1,
              "#f0f921"
             ]
            ],
            "type": "histogram2d"
           }
          ],
          "histogram2dcontour": [
           {
            "colorbar": {
             "outlinewidth": 0,
             "ticks": ""
            },
            "colorscale": [
             [
              0,
              "#0d0887"
             ],
             [
              0.1111111111111111,
              "#46039f"
             ],
             [
              0.2222222222222222,
              "#7201a8"
             ],
             [
              0.3333333333333333,
              "#9c179e"
             ],
             [
              0.4444444444444444,
              "#bd3786"
             ],
             [
              0.5555555555555556,
              "#d8576b"
             ],
             [
              0.6666666666666666,
              "#ed7953"
             ],
             [
              0.7777777777777778,
              "#fb9f3a"
             ],
             [
              0.8888888888888888,
              "#fdca26"
             ],
             [
              1,
              "#f0f921"
             ]
            ],
            "type": "histogram2dcontour"
           }
          ],
          "mesh3d": [
           {
            "colorbar": {
             "outlinewidth": 0,
             "ticks": ""
            },
            "type": "mesh3d"
           }
          ],
          "parcoords": [
           {
            "line": {
             "colorbar": {
              "outlinewidth": 0,
              "ticks": ""
             }
            },
            "type": "parcoords"
           }
          ],
          "pie": [
           {
            "automargin": true,
            "type": "pie"
           }
          ],
          "scatter": [
           {
            "fillpattern": {
             "fillmode": "overlay",
             "size": 10,
             "solidity": 0.2
            },
            "type": "scatter"
           }
          ],
          "scatter3d": [
           {
            "line": {
             "colorbar": {
              "outlinewidth": 0,
              "ticks": ""
             }
            },
            "marker": {
             "colorbar": {
              "outlinewidth": 0,
              "ticks": ""
             }
            },
            "type": "scatter3d"
           }
          ],
          "scattercarpet": [
           {
            "marker": {
             "colorbar": {
              "outlinewidth": 0,
              "ticks": ""
             }
            },
            "type": "scattercarpet"
           }
          ],
          "scattergeo": [
           {
            "marker": {
             "colorbar": {
              "outlinewidth": 0,
              "ticks": ""
             }
            },
            "type": "scattergeo"
           }
          ],
          "scattergl": [
           {
            "marker": {
             "colorbar": {
              "outlinewidth": 0,
              "ticks": ""
             }
            },
            "type": "scattergl"
           }
          ],
          "scattermapbox": [
           {
            "marker": {
             "colorbar": {
              "outlinewidth": 0,
              "ticks": ""
             }
            },
            "type": "scattermapbox"
           }
          ],
          "scatterpolar": [
           {
            "marker": {
             "colorbar": {
              "outlinewidth": 0,
              "ticks": ""
             }
            },
            "type": "scatterpolar"
           }
          ],
          "scatterpolargl": [
           {
            "marker": {
             "colorbar": {
              "outlinewidth": 0,
              "ticks": ""
             }
            },
            "type": "scatterpolargl"
           }
          ],
          "scatterternary": [
           {
            "marker": {
             "colorbar": {
              "outlinewidth": 0,
              "ticks": ""
             }
            },
            "type": "scatterternary"
           }
          ],
          "surface": [
           {
            "colorbar": {
             "outlinewidth": 0,
             "ticks": ""
            },
            "colorscale": [
             [
              0,
              "#0d0887"
             ],
             [
              0.1111111111111111,
              "#46039f"
             ],
             [
              0.2222222222222222,
              "#7201a8"
             ],
             [
              0.3333333333333333,
              "#9c179e"
             ],
             [
              0.4444444444444444,
              "#bd3786"
             ],
             [
              0.5555555555555556,
              "#d8576b"
             ],
             [
              0.6666666666666666,
              "#ed7953"
             ],
             [
              0.7777777777777778,
              "#fb9f3a"
             ],
             [
              0.8888888888888888,
              "#fdca26"
             ],
             [
              1,
              "#f0f921"
             ]
            ],
            "type": "surface"
           }
          ],
          "table": [
           {
            "cells": {
             "fill": {
              "color": "#EBF0F8"
             },
             "line": {
              "color": "white"
             }
            },
            "header": {
             "fill": {
              "color": "#C8D4E3"
             },
             "line": {
              "color": "white"
             }
            },
            "type": "table"
           }
          ]
         },
         "layout": {
          "annotationdefaults": {
           "arrowcolor": "#2a3f5f",
           "arrowhead": 0,
           "arrowwidth": 1
          },
          "autotypenumbers": "strict",
          "coloraxis": {
           "colorbar": {
            "outlinewidth": 0,
            "ticks": ""
           }
          },
          "colorscale": {
           "diverging": [
            [
             0,
             "#8e0152"
            ],
            [
             0.1,
             "#c51b7d"
            ],
            [
             0.2,
             "#de77ae"
            ],
            [
             0.3,
             "#f1b6da"
            ],
            [
             0.4,
             "#fde0ef"
            ],
            [
             0.5,
             "#f7f7f7"
            ],
            [
             0.6,
             "#e6f5d0"
            ],
            [
             0.7,
             "#b8e186"
            ],
            [
             0.8,
             "#7fbc41"
            ],
            [
             0.9,
             "#4d9221"
            ],
            [
             1,
             "#276419"
            ]
           ],
           "sequential": [
            [
             0,
             "#0d0887"
            ],
            [
             0.1111111111111111,
             "#46039f"
            ],
            [
             0.2222222222222222,
             "#7201a8"
            ],
            [
             0.3333333333333333,
             "#9c179e"
            ],
            [
             0.4444444444444444,
             "#bd3786"
            ],
            [
             0.5555555555555556,
             "#d8576b"
            ],
            [
             0.6666666666666666,
             "#ed7953"
            ],
            [
             0.7777777777777778,
             "#fb9f3a"
            ],
            [
             0.8888888888888888,
             "#fdca26"
            ],
            [
             1,
             "#f0f921"
            ]
           ],
           "sequentialminus": [
            [
             0,
             "#0d0887"
            ],
            [
             0.1111111111111111,
             "#46039f"
            ],
            [
             0.2222222222222222,
             "#7201a8"
            ],
            [
             0.3333333333333333,
             "#9c179e"
            ],
            [
             0.4444444444444444,
             "#bd3786"
            ],
            [
             0.5555555555555556,
             "#d8576b"
            ],
            [
             0.6666666666666666,
             "#ed7953"
            ],
            [
             0.7777777777777778,
             "#fb9f3a"
            ],
            [
             0.8888888888888888,
             "#fdca26"
            ],
            [
             1,
             "#f0f921"
            ]
           ]
          },
          "colorway": [
           "#636efa",
           "#EF553B",
           "#00cc96",
           "#ab63fa",
           "#FFA15A",
           "#19d3f3",
           "#FF6692",
           "#B6E880",
           "#FF97FF",
           "#FECB52"
          ],
          "font": {
           "color": "#2a3f5f"
          },
          "geo": {
           "bgcolor": "white",
           "lakecolor": "white",
           "landcolor": "#E5ECF6",
           "showlakes": true,
           "showland": true,
           "subunitcolor": "white"
          },
          "hoverlabel": {
           "align": "left"
          },
          "hovermode": "closest",
          "mapbox": {
           "style": "light"
          },
          "paper_bgcolor": "white",
          "plot_bgcolor": "#E5ECF6",
          "polar": {
           "angularaxis": {
            "gridcolor": "white",
            "linecolor": "white",
            "ticks": ""
           },
           "bgcolor": "#E5ECF6",
           "radialaxis": {
            "gridcolor": "white",
            "linecolor": "white",
            "ticks": ""
           }
          },
          "scene": {
           "xaxis": {
            "backgroundcolor": "#E5ECF6",
            "gridcolor": "white",
            "gridwidth": 2,
            "linecolor": "white",
            "showbackground": true,
            "ticks": "",
            "zerolinecolor": "white"
           },
           "yaxis": {
            "backgroundcolor": "#E5ECF6",
            "gridcolor": "white",
            "gridwidth": 2,
            "linecolor": "white",
            "showbackground": true,
            "ticks": "",
            "zerolinecolor": "white"
           },
           "zaxis": {
            "backgroundcolor": "#E5ECF6",
            "gridcolor": "white",
            "gridwidth": 2,
            "linecolor": "white",
            "showbackground": true,
            "ticks": "",
            "zerolinecolor": "white"
           }
          },
          "shapedefaults": {
           "line": {
            "color": "#2a3f5f"
           }
          },
          "ternary": {
           "aaxis": {
            "gridcolor": "white",
            "linecolor": "white",
            "ticks": ""
           },
           "baxis": {
            "gridcolor": "white",
            "linecolor": "white",
            "ticks": ""
           },
           "bgcolor": "#E5ECF6",
           "caxis": {
            "gridcolor": "white",
            "linecolor": "white",
            "ticks": ""
           }
          },
          "title": {
           "x": 0.05
          },
          "xaxis": {
           "automargin": true,
           "gridcolor": "white",
           "linecolor": "white",
           "ticks": "",
           "title": {
            "standoff": 15
           },
           "zerolinecolor": "white",
           "zerolinewidth": 2
          },
          "yaxis": {
           "automargin": true,
           "gridcolor": "white",
           "linecolor": "white",
           "ticks": "",
           "title": {
            "standoff": 15
           },
           "zerolinecolor": "white",
           "zerolinewidth": 2
          }
         }
        },
        "title": {
         "text": "HDBSCAN dla TF_IDF"
        },
        "xaxis": {
         "anchor": "y",
         "domain": [
          0,
          1
         ],
         "title": {
          "text": "x"
         }
        },
        "yaxis": {
         "anchor": "x",
         "domain": [
          0,
          1
         ],
         "title": {
          "text": "y"
         }
        }
       }
      }
     },
     "metadata": {},
     "output_type": "display_data"
    }
   ],
   "source": [
    "import hdbscan\n",
    "\n",
    "clusterer = hdbscan.HDBSCAN(min_cluster_size=5)\n",
    "df_tsne['cluster'] = clusterer.fit_predict(X_embedded)\n",
    "\n",
    "fig = px.scatter(df_tsne, x='x', y='y', color='cluster', hover_data=['text'], title='HDBSCAN dla TF_IDF')\n",
    "fig.show()\n"
   ]
  },
  {
   "cell_type": "markdown",
   "metadata": {},
   "source": [
    "# LSA"
   ]
  },
  {
   "cell_type": "code",
   "execution_count": 96,
   "metadata": {},
   "outputs": [
    {
     "name": "stderr",
     "output_type": "stream",
     "text": [
      "/home/julita/anaconda3/envs/myenv/lib/python3.10/site-packages/sklearn/feature_extraction/text.py:521: UserWarning:\n",
      "\n",
      "The parameter 'token_pattern' will not be used since 'tokenizer' is not None'\n",
      "\n"
     ]
    },
    {
     "data": {
      "application/vnd.plotly.v1+json": {
       "config": {
        "plotlyServerURL": "https://plot.ly"
       },
       "data": [
        {
         "hovertemplate": "Component 1=%{x}<br>Component 2=%{y}<br>text=%{text}<extra></extra>",
         "legendgroup": "",
         "marker": {
          "color": "#636efa",
          "symbol": "circle"
         },
         "mode": "markers+text",
         "name": "",
         "orientation": "v",
         "showlegend": false,
         "text": [
          "Dla mnie faworytem do tytułu będzie Cracovia. Zobaczymy, czy typ się sprawdzi.",
          "  Brawo ty Daria kibic ma być na dobre i złe",
          "  Super, polski premier składa kwiaty na grobach kolaborantów. Ale doczekaliśmy czasów.",
          "  Musi. Innej drogi nie mamy.",
          "Odrzut natychmiastowy, kwaśna mina, mam problem",
          "Jaki on był fajny xdd pamiętam, że spóźniłam się na jego pierwsze zajęcia i to sporo i za karę kazał mi usiąść w pierwszej ławce XD",
          " No nie ma u nas szczęścia 😉",
          " Dawno kogoś tak wrednego nie widziałam xd",
          "  Zaległości były, ale ważne czy były wezwania do zapłaty z których się klub nie wywiązał.",
          "   Gdzie jest  . Brudziński jesteś kłamcą i marnym kutasem ",
          "   no mam nadzieje !!:)",
          "  Może gustował w starszych paniach ;-)",
          " Zostawiłam tam 3 lata temu \\\"Notatki na mankietach\\\". Muszę się wrócić.",
          " Oprawa do Krzysia M. Ps Pinokio -\\n\\\" mogłeś być gangsterem a zostałeś 3 ligowym frajerem \\\"😀",
          "  Znowu będzie komunikat o polskich piratach drogowych w Słowacji.",
          " Mówi człowiek, który chciał nałożyć sankcje na Polskę. Gratulacje. #Niepodlegla #11lisopada",
          "   Mówi człowiek, który chciał nałożyć sankcje na Polskę. Gratulacje. #Niepodlegla #11lisopada",
          "  o jakim zachowaniu \\\"fer\\\" mówisz skoro ukrywał się z tym że podpisał kontrakt z Legią ? Możesz rozwinąć ?",
          "  Joanno! Po raz pierwszy się z panią zgadzam.😁😁😁😁😁",
          "Monster block, monster block, monster block... 😁",
          " Czyżby Madryt brał przykład z Warszawy?",
          "  No to Skończmy kurwa z tym wersalem w j...ej szczujni",
          " Nie wiem, najczęściej grają na zmianę na prawym skrzydle.",
          " No to Pan i koledzy macie z głowy. Przesrane tak reszta życia pod górkę.",
          " A ja obstawiam, że pójdą bardziej w stronę tego, że może się powtórzyć sytuacja z Meresińskim.",
          "Aaaaa Kuba mi odpisał hehehehehe",
          "Asysta Kacpra Falona i 3:1 dla Widzewa. Witamy Widzew w II lidze. No i w sumie fajnie.",
          " gwizdali na niego ? Bo nie oglądałem meczu :)",
          "  ale może w końcu dojdzie do wniosku że skoro go klub już nie jara to lepiej go sprzedać i mieć po kłopocie",
          "  Hej halo, o czym to jest bo mam na swojej liście i nie wiem czy warto??",
          "dorosłe życie nie jest dla mnie",
          "  dorosłe życie nie jest dla mnie",
          " Cześć Paderewski, część opalające się nogi",
          "   Uprowadź gumową kaczuszkę. Zacznie negocjować.",
          " Już wiem ze się nie dogadamy XD",
          " Ale to w nowym przekładzie, jeszcze nie czytałam.",
          " Lahoza mi nigdy nie szkoda. Wolę, jak na pierwszym planie są piłkarze, a nie sędzia :-)",
          "  Sprawdź chłopie w słowniku co oznacza słowo , którego używasz a potem się odzywaj.",
          " zmieńcie se nazwe na profilu na insta bo się nazywacie Grzegorz Ożóg...",
          "#Woronicza 17 poseł Halicki oburzony za Bolka.Naprawdè taki tępy czy tylko udaje idiotę?",
          "„Ta aktorka ma 20 lat?!?! Jaka stara!!” \\n\\nChyba musimy się już do grobu pakować roczniku 98 😂👌🏻",
          "  „Ta aktorka ma 20 lat?!?! Jaka stara!!” \\n\\nChyba musimy się już do grobu pakować roczniku 98 😂👌🏻",
          "Ahnherr der Schtwätzer wykonawcy Von Spar\\nhttps://t.co/SOtenSqIr0",
          "   Bierze cie cie pod chuj a ty sie produkujesz",
          "   Jak narazie to masz przywidzenia co nie zmienia faktu że cały czas jesteś idiotą.",
          " Kiedy do licznika dojdą bilety z fan clubow?",
          " A kto prowadzi zespół ? Będzie podany skład z tego meczu ?",
          " Główny powód to brak kasy, trzeba dać bogatym 500+,300+ i być bez godności i honoru",
          "Zrobiłam takie Cv że ohohohoho",
          "Świętować uchwalenie Konstytucji 3 maja i łamać Konstytucję RP obecnie obowiązującą?!\\n#3Maja - dzień hipokryzji.",
          "  Świętować uchwalenie Konstytucji 3 maja i łamać Konstytucję RP obecnie obowiązującą?!\\n#3Maja - dzień hipokryzji.",
          "  nie gra bo jest Jovanović i Guilherme",
          " O tej godz. sporty szanuj ciało",
          "Nikt nigdy nie rozsiewał takiego smrodu jak ",
          "Nikt cię tak dobrze nie ubierze jak matka chrzestna dziecino",
          "  Nikt tutaj nie chce plagiaciarzy kopiujących brytyjskich pisarzy.",
          " A ksiądz co bierze 12 tyś za spowiedź przez tel?",
          " Koń też ma dużą głowę. Tylko wydaje mi się, że jest bardziej inteligentny niż Karczewski",
          " Pod i górę  pod wiatr to więcej niż k2",
          " Sędziowie VAR nie decydują o karnych 😉",
          "Jakiś program na TVN, nauka jazdy za kierownicą babcia śpiewa \\\"jadą jadą jadą świry jadą\\\" jadą jadą jadą świry jadą\\\"",
          " ta obecna Zary Larsson czy Pitbulla z ostatnich MŚ nie były złe :)",
          "(280 znaków w jednym zdaniu 🙈)",
          " po wahaniach wagi Kwacha wznoszę że to może być kapuścianka",
          "  w tym sezonie razem z pucharem 12 meczy i 1 gol.Mójta więcej strzelił.Sorry patrze w statystyki.",
          "   finały tblk były przyzwoicie sędziowane ?! Aha...",
          " Taki miałam właśnie, teraz kupiłam z catrice",
          " to ich wymień.W czym problem ?",
          "   a ja mam ciepełko jak się przytule do swoich kotów :)",
          " Właśnie. Ilu! Najpierw odpowiedzmy sobie ma to pytanie,a potem dziwmy się zwycięstwu Zdanowskiej",
          " W jego przypadku statystyka przebiegniętych kilometrów nie ma znaczenia. Czy gra zajebiście, czy fatalnie, biega tyle samo.",
          "  100%, Mann też miał pełne prawo",
          " Kończyłeś już kilka razy 😂",
          " Dzisiaj zajmujemy się WARiatem Krystyną ciekawe czy będzie płakał?",
          "    A co będzie jak Kuba nigdy niewroci?",
          " Tym w sejmie też? Banda hipokrytów i złodziei.",
          "W każdej z czterech grup będzie walka o zwycięstwo premiowane awansem do CLJ. Bardzo potrzebne rozwiązanie, brawo.",
          " Tak się poznałam z moim chłopakiem 😂 czasami warto",
          " nelly furtado a tytuł forco czy cos takiego",
          " Mów prawdę, kto was skrzywdził",
          " jestem tu od 2013 xd",
          " Ta kadra to rocznik 2002",
          "Posiada sensor CGM , ciągły monitoring glikemii, w końcu.",
          "Jeszcze żaden Polak nie wystąpił w meczu gwiazd NBA, nie licząc Mietka Paciaciaka ;) Pomóżmy Marcinowi Gortatowi być 1  #NBAVOTE",
          "  Jeszcze żaden Polak nie wystąpił w meczu gwiazd NBA, nie licząc Mietka Paciaciaka ;) Pomóżmy Marcinowi Gortatowi być 1…",
          " No kurwa myślałem że na Podlasiu",
          "  Tak, to nawet lepsze rozwiązanie.",
          "  Koń by się uśmiał, TVN24 i TVN wolne media? Bardziej perfidnego łgarstwa nie słyszałem.. 🤔",
          "    Koń by się uśmiał, TVN24 i TVN wolne media? Bardziej perfidnego łgarstwa nie słyszałem.. 🤔",
          " Gdzie ja wtedy byłam? ;-)",
          "   Midze sie nudziło i se coś na kolanie napisał i macie sensacje",
          " Dzisiaj wrócił do treningów, czyli zdążyli 😉",
          "    Nie wiem, zerknij na 90minut",
          "  Z motłochem nie dyskutuję tylko daje bany. A Pani  gratuluję obrońcy.",
          " możesz też zawsze po prostu zapytać kiedy się urodziłam. Albo wpisać hasztag #100latKasiaPawlak ;-)",
          " ale z kategoriami moim zdaniem przesadzają.Sponsor roku, serce, impreza ? Bez jaj",
          " Prezes się cieszy ze Wisla odpadła bo w razie finału Legia-Wisla znów by musiał finał odwoływać",
          "Bratowa wysłała mi zdjęcie bratanicy z rozpoczęcia roku, idzie do pierwszej klasy, biedactwo nie wie co ją czeka",
          " szybkie pytanie do  Ręka Sadloka była zagraniem umyślnym ?",
          " Dzień w którym Abidal sprzedał i kupił A.Vidala 😉",
          " Równie dobrze można gola stracić :)",
          " Chorwaci przerżną w końcówce dogrywki, wiadomo.",
          " Nasze dzieci będą zdegustwani, był taki PiS, taki  , historia populizmu i głupoty w latach 2015-2019, margines",
          " O, myślałam, że nikt już nie używa \\\"mnie\\\" tylko \\\"mi\\\".",
          "   Na nowym stadionie West Hamu też to widziałem.",
          "  zawodnik w sezonie może grać w barwach dwóch klubów więc jeszcze nic straconego :)",
          "ciekawe czy faktycznie jest taki zakład bo jeśli tak to nieźle XD",
          " Hehe, do gazu, hehe jeszcze jakieś emotikony wrzuć",
          "Qrwa!! I niech mi nikt nie mówi, że czary to jakiś zabobon!! Chłopaki mają sztywne nogi!",
          "Od 01.10.2018 każde sprawozdanie finansowe w formie elektronicznej, zgodne ze strukturą jpk",
          "Na TVP Kraków padła właśnie informacja że rozmowy z potencjalnym kupcem Wisły przełożony z dziś na jutro.",
          "  Na TVP Kraków padła właśnie informacja że rozmowy z potencjalnym kupcem Wisły przełożony z dziś na jutro.",
          " NIECH JESZCZE DADZĄ LEKTORA I NA GŁÓWNA POSTAĆ MÓWIĄ NADZIEJA",
          "   NIECH JESZCZE DADZĄ LEKTORA I NA GŁÓWNA POSTAĆ MÓWIĄ NADZIEJA",
          " Nie no ludzie, żeby robić artykuł na temat jednego tweeta ?...",
          " Jak powiem, że pierwsze słysze, to będzie kompromitacja czy nie? 😄",
          " Usuń konto, wytrzeźwiej buduj od nowa",
          "   Sekta, cha, cha, cha, obudź się z hipnozy, jesteś bolszewikiem",
          "Nie wstanę kurde nie ma opcji",
          "  Spokojnie, u mnie też Kaczarawa na kapitanie + Cvijanović :)",
          "niech ładny chłopiec z kręconymi włosami do mnie napisze: jutro, zaraz, teraz",
          "  niech ładny chłopiec z kręconymi włosami do mnie napisze: jutro, zaraz, teraz",
          " im ktoś gorzej widzi, dłużej musi czekać, choć ten, który widzi lepiej, dłużej poradzi sobie bez okularów. 😨",
          " Oj, no to powodzenia! Co tam będziesz musiała robić? 🤭",
          "    Chyba nie, Marcin mówił coś o '89.",
          " Przeczytaj mojego kolejnego twitta to zobaczysz, że nie umknęło i co sądze o poziomie tego meczu.",
          " Tylko nie w dupę, to dla niektórych z nich byłaby przyjemność.",
          "  Widać chcą wiecej polskich mord gotujacych koninę",
          " No to jak się przegrywa cały czas to lepiej przestać grać :)",
          "   Widzę, że sami się znajdują.",
          " Napewno mam niezaktualizowanego może dlatego",
          "  Smokowski mówił że Wisła ma piłkarzy 3 sortu, a Wieszczycki deprecjonował dobrą prace Kiko",
          "więc zaczynam oglądać Do wszystkich chłopców, których kochałam bo wszyscy o tym mówią i aż chcę to sprawdzić",
          " Ban,ban i jeszcze raz ban! Co za prymitywne dno!",
          "  Jasne, bo debile oglądający tvpis płaczą tylko na m jak miłość",
          "   W stop klatkach widać ze jak by to było po stronie drugiej (legi) to karny by był",
          "Zdrady stanu to Donald Tusk dopuścił się już w 2010 r kiedy dodał Rosjanom śledztwo w sprawie katastrofy smoleńskiej.",
          " Na marginesie jestem córką biskupa",
          " Przejdzie historii: jak tworzyć kłamstwo w dobie powszechnego dostępu do informacji",
          " Od ok 8 lat używam kolejnych modeli HTC i nigdy mnie nie zawiodły.",
          "  Ty się oszuście i kłamco od nas odpierdol. My sobie damy radę bez twoich kłamstw",
          "   odważne słowa jak na legioniste! 😂😂😂",
          "  Załatwi to jedno głosowanie w sejmie i żadne demonstracje nie będą miały na to wpływu.",
          "   Krzyż celtycki w Irlandii debilu ma kompletnie inne znaczenie niż u neofaszystów.",
          " Coś w tym jest,bo ja też😁😁😁. I jeszcze bym dodał Dominisię W. której infantylizm mnie totalnie osłabia.",
          "  Gdzie oni znajdują takich dupków",
          "mój stres zaczął się stresować swoim własnym stresem, które również się stresuje ja pierdole dość",
          "  mój stres zaczął się stresować swoim własnym stresem, które również się stresuje ja pierdole dość",
          "     dojdzie Brlek, Stilić wróci do formy, obcokrajowcy się zaaklimatyzują i bedzie dobrze💪",
          "   Brawo grzechu za Twój powrót do żywych\\n W Rosji pokaż swoją moc",
          "    Wonder!! Chyba cię....😁😁😁😁😁.No dobra. Na jaki?😁😁😁",
          " Ja mam uczulenie na dobrą zmianę, ale to dłuższa historiac",
          " Różnicy nie ma, bo pisali wtedy, że nie można zsyłać zawodników do rezerw ;P",
          " Żal ci biedaku??? Gdyby nie Kaczyński to by je twoi przyjaciele z PO rozkradl",
          "   Żal ci biedaku??? Gdyby nie Kaczyński to by je twoi przyjaciele z PO rozkradl",
          "Dobry dzień na przypomnienie sobie genezy gwiazdek na fladze #UE #deklaracjaRzymska",
          "Sekta kurwa, jakaś niepojęta radość, każde konto pisdzielskie tylko o jednym",
          "  Nie wierzę, bez zaświadczenia od proboszcza?",
          " I chyba wtedy byś niezaprzeczyla?",
          " Tak naprawdę czy będziemy w spadkowej czy mistrzowskiej to i tak czekają nas sparingi.",
          " Jebać, jebać, nic się nie bać.",
          " Jakiej pracy, ty już pajacu nie wiesz na czym się lansować. Sejm nie pracuje.",
          "Kilogramy rozmnażają się przez pączkowanie 😣😖\\n#TłustyCzwartek",
          "  Nie działają i lepiej działać szybko bo klienci nie maja dostępu do środków na kontach",
          "   jutro walczycie ? Normalnie rycerze ! A gdzie byliście wcześniej ? A zapomniałem że nie o L chodziło",
          " Ale to głupie, rdzennie głupie, bardziej głupie już być nie może",
          " Szczególnie Vestenicky.Podczas wypożyczenia nic nie pokazał a go wykupili za 500 tys euro 😂👏",
          " Już się boję. Postraszy mnie Pan kolegami narodowcami?",
          " Co nie było blisko? Bo nie rozumiem.",
          "  A od kiedy komentatorzy na Sky to wyrocznia?",
          "  Nazwisko tego babska😁😁😁😁. Bo Wczoraj był na MO😁😁😀",
          " Zbiera się do kontrataku, dla swojego pryncypala pójdzie w bój, patrityczna dusza,  co nie  ?",
          " a w kolejnych fajnie jakby grał na lewej za Sadloka ",
          " byłem w pracy ale zaraz odpalam meczyk na yt.Dzięki za walke !!!!:)",
          "  jakie 0 motywacji ? Jest chyba różnica mieć medal albo go niemieć",
          " Niby nie macie czy niby nie mit? 😂😂",
          " Ja bym był ostrożny😁😁😁A jak ma na imię?",
          "   Tak to jest jak ktoś nie wie do którego lekarza iść najpierw.",
          "  No nie dziwie się w sumie. Dobrze, że tylko raz dzwonił",
          "  Wasz świat? To się w nim zamknijcie i nie wystawiajcie nosa.",
          "  Przyjaciół to niech on sobie szuka za swoje prywatne pieniądze. I niech robi z siebie idiotę na własny rachunek.",
          "imagine sie komus podobac??? ze ktos sie stara o TWOJA uwage??? can’t relate",
          "  imagine sie komus podobac??? ze ktos sie stara o TWOJA uwage??? can’t relate",
          "   a Portugalia jak zagrała ?",
          "Pierwsze zdanie: \\\"Paczka papierosów kosztuje 4 miliardy marek\\\".\\n#JajoWęża teraz na ",
          "  No to tym bardziej :)",
          " Ja przynajmniej mam profilowe i nie chowam się za awatarem. Ale bohaterów MW na to nie stać i w sumie nic w tym dziwnego.",
          " Czego się spodziewać po członku żydowskiego amerykańskiego lobby. Lata na kolanach przed żydami zrobiło swoje.",
          "   Czego się spodziewać po członku żydowskiego amerykańskiego lobby. Lata na kolanach przed żydami zrobiło swoj…",
          " Co ty człowieku pijesz z rana?",
          "  pewnie narządy też wkrótce sprzeda :D",
          " w zeszłym sezonie to samo pisałeś ?",
          "Picie to przyszłość, piękna i nieznana, szukajcie zapomnienia, próbujcie różnych trunków, łączcie środki psychoaktywne, powodzenia",
          " Ale ty jesteś żenujący. Dno metr mułu.",
          " spoko, nigdy nie daje unfollow aktywnym ludziom, tylko tym, którzy nie piszą nic od miesięcy albo dali mi unfollow",
          "\\\"- Co to jest tajmlajn na fejsie?\\n- Zmarszczki\\\".",
          " może trzeba chłopaków na crossfit zabierać ?:)",
          " znacznie bliżej jest mi muzułmanin  czy indus, niż katolicka, łysa swołocz ze wschodu europy, do tego rasistowska",
          "Dzisiaj o 18.00 Strefa Kibica w Radiu Akadera. Zapraszamy.",
          " Nie powinno być źle o ile się utrzymamy :P",
          " Spokojnie trzeba ta porażkę wziąść na klatę mecz się tak ułożył nie inaczej napewno gorsi dużo my niebyli.",
          " Ale się cieszą. Wreszcie koniec i będzie można wypić te.zapasy z plecaka.",
          "  Ofertę przedłużenis kontraktu ponoć dostał od Wisły, ale jej nie zaakceptował.",
          "Dziś o godz. 20:00 Prezydent RP wygłosi orędzie.",
          "  Dziś o godz. 20:00 Prezydent RP wygłosi orędzie.",
          " myślałem że się przychodzi na stadion dla drużyny a nie na poszczególnych piłkarzy",
          " kibicom chodzi raczej o postawe dziennikarzy a nie klubu.",
          "  Nie trzeba Algierczyków, wystarczy kilku polskich katechetów.",
          " Barcelona z Messim (ta obecna) by taki mecz wygrała 1:0, albo jakiś Suarez by coś wcisnął :P",
          "  TW Wolfgang, TW Faraon i TW Rycerz,TW Balbina, TW Michał \\nKto mieczem wojuje, ten od pochwy ginie",
          "  Zgadza się ale przecież nas niestac żeby komin płacowy zacząć od.carlitosa",
          "   Low kick, kolano łokieć, blacha na czoło i stara leży",
          " Niestety obrazki będą też zielone, czarne i brunatne.",
          "Ktoś założył fejkowe konto i ogląda WSZYSTKIE moje story",
          "  Życie, zdarza się. Jednak od takiego rzutu wolnego do gola droga dość daleka.",
          " a wydanie 500 tys euro gdy się nie ma pieniędzy nie jest strzałem w kolano ?",
          " Wio endekdu, ścierwa, zdrajcy, szubienica",
          " nie dziwie się, to było dość cwane :)",
          " Raczey! Jutro będzie jej odczytywane przez cały dzień ;-)",
          " Kto będzie pił te mleko, gdzie będą jeździły tiry, meble, okna ty maly kogucie",
          "    Nie myli się tylko ten, co nic nie robi.",
          "Mama będzie mi obcinać włosy boje się",
          "    No to muszą ci nieźle płacić za wierszówki.",
          " czy masz info jakie obecnie Ondrasek ma zarobki w Wiśle?",
          " Jaka kwota wykupienia go po roku??",
          "   Dla kogo pracował? Nie przy śniadaniu bo się udławić można z wrażenia. Poproszę 5 przykładów zatem.",
          "   Widzę, że dalej nie rozumiesz. No nic idę oglądać LM. Pozdro.",
          "  jeśli masz TV włączony od 8:00 do 1:00, a reklama pojawia się 3 x na godzinę, po 2 mies. jesteś na granicy obłędu.",
          "  A co o włoskich faszystach i węgierskich nacjonalistach?",
          "  Dojenie kasy przez rząd\\nKompromitacja Morawieckiego w Niemczech\\nKaczyński twórca państwa Polskiego w 2016 roku",
          " Jeszcze w nastepnej kolejce pewnie jakis piątek",
          "  i oczywiście było pytanie czy nie boi się o przyszłość Wisły 😂 przechodzicie samych siebie",
          " no ja właśnie to samoXD znaczy wiem ze Emre wbija często, bo jego żona jest polką ale no",
          " Nic nie mogą. Ale ich brak może spowodować, że strajkujący szybciej się z Sejmu wyniosą.",
          "   Przecież jak go zamkną to o czym ty będziesz pisał ? Twoje życie straci sens...",
          "  To zaraz porobie screeny od momentu od którego jest zablokowane :)",
          " Ktoś przestał słodzić, ktoś kto dużo słodził",
          "   No to po co się zgodził na klauzule dopiero po zakończeniu przyszłego sezonu, a nie od razu ?",
          " Jest to prawda. Ale MSZ powinien. On pewnie myślał, że jest w Pisowskiej Polsce i wszystkoi wolno.😀😀😀",
          " delikatnie nie po drodze :D",
          "  No to 0:0 murowane (bo mam też ludzi z Cracovii)",
          " Może ogłuszyły go te korki od szampanów, które strzelały po podpisaniu kontraktu Sadloka z Jagiellonią ?",
          "Panie i panowie, totalna porażka  w miastach. \\nT O T A L N A \\nTo bardzo ważny znak.",
          "  Panie i panowie, totalna porażka  w miastach. \\nT O T A L N A \\nTo bardzo ważny znak.",
          "    ręce opadaj że takich rzeczy ludzie związani z futsalem nie wiedzą.",
          "  Przeczytałem wszystko. Fantastycznego ma Pani Dziadka!",
          " Na wszystko masz odpowiedź, żyłeś w tych czasach?",
          "  Mr. Czarnecki. To nie hipokryzja tylko zwykła ludzka przyzwoitość. Widać że niektórym obce takie  odruchy.",
          "Diego Maradona - Robbie Williams 2:1.",
          "   Ja nie byłbym taki pewny",
          " patrząc kogo biorą to mam wątpliwości czy nie chcą do 1 ligi (nie licząc Marciniaka)",
          " To było dawno, jeszcze nie znali fotoszopa",
          "  Maly murzyn, silny i zdrowy",
          ". pojawił się na TT. To konto to nie fejk. \\nDołączajcie :) 💪",
          "  . pojawił się na TT. To konto to nie fejk. \\nDołączajcie :) 💪",
          "W programie Igrzyska wolności w Łodzi śpiewanie pieśni rewolucyjnych,i piosenek z serialu,4 pancerni i pies.",
          " no i w końcu widzę uśmiech :)",
          " Jeszcze was zjemy i wysramy",
          " lepszy argument to że ktoś go nie chce bo go nie lubi",
          "  Tylko że ten prostak sie nabijał, szydził tak jak ze śmierci Piotra S.",
          " Qwa! Wypiłem kawę przed chwilą.Bardzo dobra kawę.Nie chcę jej zwracać. A swoją drogą to świetny środek na wywołanie wymiotów.",
          "Wchodzę w powiadomienia a tu nic, już na 4 tt odpisałem, zaraz wyjebią bana",
          " nataliethere_ oddam szybciutko z powiadomień",
          " Tak tak jeszcze ktoś w to uwierzy",
          "   Tez musze trzymać poziomo tel czytając ten artykuł",
          "   Czasy kiedy zacząłem interesować się piłką i Wisłą 😍",
          " Wy narobiliscie 30miliardow dlugow za waszych rzadow #oddajciekase",
          "   Wy narobiliscie 30miliardow dlugow za waszych rzadow #oddajciekase",
          " Czy  gotów na taką kolej rzeczy?",
          " Tak jak pisdzielstwo ośmiesza policjantów , to już, nikt, nigdy bardziej nie będzie",
          " A kiedy przestanie wydawać mln na swoich ochroniarzy, tylko zacznie leczyć u psychiatry swoją manię prześladowczą?",
          " Pierwszy priorytet zadowolić Jarkacza, drugi priorytet ssać kasę wszystkimi otworami,  mają rozdwojenie jaźni",
          " Huj z wami dziennikarzami. Piłka nożna dla kibiców a nie pseudo dziennikarzy.",
          " E tam! To z miłości do Łodzi😁. I przyjdzie do PiS😁😁",
          " A ja, ze coś znowu zepsułam xd",
          "Czemu jak zawsze się o kogoś martwię to ja dostaje po dupie, i mean nie wiem",
          " kiedy wyjeżdżasz? ja w piątek, co prawda już drugi rok ale moja rodzina nadal reaguje tak samo",
          "   Ograniczyłbym to do \\\"Byle nie Ufa\\\" :)",
          "  Święta racja, ale zapytaj Jurgiela o notatki, on wie co spierdolił. Będzie łatwiej.",
          "  Szczególnie wielka strata za Smoleńsk",
          "    daj znać  o  zdjecie blokady",
          "  Myślę, że po info o konferencji wielu osobom to przychodzi do głowy.",
          " Koniecznie! Zapraszamy na spacer z kawką 😃",
          " błąd logiczny, te pieniądze kiedyś były wasze, teraz już sa nasze i nic wam do tego towarzyszu",
          "   błąd logiczny, te pieniądze kiedyś były wasze, teraz już sa nasze i nic wam do tego towarzyszu",
          " Zależy jak na to spojrzeć. Z jednej strony akredytacja, z drugiej wyjazd za swoje $$$ 😉",
          "  albo wygrywali 1:0 z Barceloną",
          "  tylko nie Załuska.Nie potrzeba nam takich piłkarzy bez ambicji.",
          "  Nic specjalnego. Można się domyślać, że pewnie pójdzie na wypożyczenie.",
          "Z Zagłębia Hładun i Czerwiński w składzie (porażka 1:2), a z Legii Carlitos na kapitanie (zmiana w przerwie). Co za seria 😂",
          " co chwile o nim piszecie i gadacie jaka to porażka jak nie zostanie.A nie pamiętacie jak jeszcze niedawno otrzymanie licencji1/2",
          "  Przecież TS dzierżawi ta ziemię umowa na 99 lat zgadza się czy nie?",
          " Pyta się kiedy beda nowe okulary, bo juz chce wychodzić",
          " Probierz szuka młodych Polaków pasuje jak ulał😉",
          " Może pasuje do klucza francuskiego?🔧☺",
          "Pensja, kasa, dojenie,  ,ssanie kasy, ruchanie w meskie dupy, zawsze za pis, trudny teren, ciezkie warunki",
          " Polska to nie napis na dropsie, uuuu, niedobrze, uuuuuuu",
          " raczej ty się powinieneś jebnąć ale nie wiem czy to pomoże",
          " Jak narazie to sobie możecie kupę zrobić. Albo hurtowo dać dupy pedofilów w sutannach, których publicznie bronicie.",
          " Najlepiej w Polsce żeby legia miała pomoc :-)",
          "Ale mam chujowy humor przez to, że nie zdałam i jestem na siebie zła",
          "Szukam osób, które mają kontakt z rodziną gen. Bułak-Bałachowicza. Sprawa  prywatna.",
          " Brawo skwk za komunikat pomimo braku zakazu czekałem na ta wiadomość co robić, bo na mecz bez dopingu niemyslalem iść",
          "  A ty wieś kretynie CONTI jest Acta2 i czego dotyczy? Najpierw przeczytaj a potem się wypowiadaj.",
          " Trąba ? Nie no ostro pojechałaś :D",
          "Beata #Mazurek w Sejmie na pytanie co myśli o pomyśle Kaczyńskiego o obniżkach wynagrodzeń: \\\"Ja nic nie myślę\\\". To słychać.",
          "  Beata #Mazurek w Sejmie na pytanie co myśli o pomyśle Kaczyńskiego o obniżkach wynagrodzeń: \\\"Ja nic nie myślę\\\". To słyc…",
          "Motocykle opuściły gniazda i kierują się na północ. Żonkile na przedmieściach to już tylko formalność. Wiosna! :-)",
          "  🕵 Jest tak zakonspirowany, że go nie widać. Fachowiec. \\n(Górny, prawy róg)",
          " Kto mieczem wojuje od pochwy ginie ",
          " W jednej z powtórek było to dobrze widać :))",
          " Kochana nie ma po co bo później wszyscy się będą po to kleić 😂😂",
          "  chyba nie miałeś się czego przyczepić, nie przesadzajmy :)",
          "  Ale dlaczego głupi   tłumaczy to jeszcze głupszemu  ?",
          " Dzwoniłam się dowiadywać kiedy się można wprowadzać 😂nie wiedziałam ze takie problemy mogą być xd",
          " Już pod koniec jazdy wymusilam na rondzie.... nie wiem jak to się stało, mój mózg miał zaćmienie czy coś a",
          "Nowe chodnikowe powiedzonko brzmi:\\n\\nPierdolisz jak Morawiecki, realy.\\n\\n  \\n\\nHybryda głupoty.",
          "  Nowe chodnikowe powiedzonko brzmi:\\n\\nPierdolisz jak Morawiecki, realy.\\n\\n  \\n\\nHybryda głupoty.",
          "Terminator X To The Edge Of Panic wykonawcy Public Enemy\\nhttps://t.co/Nqf1yFOyKg",
          " Zaspana jestem jeszcze sorki XD",
          "  No ja nie kojarze xD",
          " Pies to czasem nawet pożera książki...",
          "Kiedy Christina wychodzi za mąż",
          "  Zapewne ci, co grali przez większość rundy w CLJ i nie ponieśli ani jednej porażki.",
          "  Jak będzie ta pioseneczka to przychodzę\\n\\nhttps://t.co/B6ak11mI4d",
          " zamieszczanie takich zdjęć podczas gdy ja jestem na sucharach powinno być zabronione :)",
          "   A co trzeba zrobić w kwestii finansowania kampanii z funduszy UE przez Ziobrę?",
          " W środku łamanie w stylu 2obiegu.",
          "jak ja się źle czulem jak byłem dzieckiem w  kościele to głow mala, szopka do kwadratu, nie mogłem tego wytrzymać",
          "    jak wróce z pracy to też podejme wyzwanie ale tym razem bedzie skromnie :)",
          "   Jak pić to z klasą ;)",
          "  Ty pajacu, zmień sobie herb na pusty łeb.",
          " W rosji sa jakieś zawody",
          "  Myślałem że to Twój ulubieniec 😂",
          "  pewnie ranking Fifa bedzie decydowal",
          " Łukaszewicz, co Wy tam palicie?",
          "   Leszku mój kochany, masz mózg wyprany",
          " a ja współczuje zaślepienia.Wolę nie mieć Wolskiego niż robić kolejne długi ",
          "   od paru lat słysze o sponsorze więc tym bardziej szacunek że przez pare lat się nieujawnił...",
          " Skoro Carrillo nie chce Sobola to tym bardziej nie będzie chciał Głowy. Chyba, że trener rzeczywiście odchodzi.",
          "   Zawsze bedą afery bo zawsze będa tacy l którzy kradną  i tacy u wladzy których to kręci",
          " kot też się załapał na fotke, a raczej jego dupa :)",
          " Szczerze? Trochę tak to wygląda, a i tak prędzej czy później ten bilans wychodzi na równo.",
          " zaraz będą pisać że Wisła szkoli kiboli żeby potrafili maczetą wymachiwać :)",
          "*stoi przed nimi król gargulców*\\nbetty: to pewnie ethel\\n\\nXDDDDDDDDDDDDDD\\n#Riverdale #RiverdalePL",
          "  *stoi przed nimi król gargulców*\\nbetty: to pewnie ethel\\n\\nXDDDDDDDDDDDDDD\\n#Riverdale #RiverdalePL",
          " No, to ja we własnej osobie",
          " Słabo trzymałeś kciuki, bo podarował bramke Cracovii :)",
          " Odstawiając narodowość na bok to ten skład jest przecież słabiutki.",
          "  Piwnica bez okien, ty to masz dobrze",
          "Czuję się chora więc siedzę w domu w czapce",
          " Juz myslałem że coś gorszego😁😁",
          "  A gdzie Inferno napisał, że Wisła stawia na Polaków ?",
          " akurat Tobie bliżej do Karolaka bo w większości Cię wycięli 😂    ",
          " Omg właśnie o nich myślałam",
          " Tak na pewno nie będzie. Drużyna leci w środę.",
          "Cudzysłów, przecinek nie jestem ruskim trollem",
          "Biorąc pod uwagę, jakie dotąd mieliśmy losowania w Lidze Europy, to na ten finał w Baku w 2019 roku nie jesteśmy bez szans. 😁",
          "  Fajnie, teraz zamiast przemowy muzyczka żeby nie było słychać odzewu publiki.",
          "  Białystok, ulica Wierzbowa. Jak oni to zrobili, to jest zagadka.",
          " Straszny gangster jak po wolności chodzi",
          " To się nazywa uzależnienie xD",
          " Info z ostatniej chwili barwy pogoni skrojone przez bandytów Z Krakowa.  Pomimo zakazu Wisła rządzi",
          "  Pewnie tak bo Buchalik kontuzjowany.",
          " to miało jakiś ciąg dalszy? 😉",
          "vans do chuja przestań robić choć na chwilę zajebiste kolekcje bo w moim portfelu pieniądzen't",
          "  vans do chuja przestań robić choć na chwilę zajebiste kolekcje bo w moim portfelu pieniądzen't",
          "    12 mld nie mam zamiaru dyskutowa możejki i skoki",
          "  Alves był bardzo w stylu Guardioli 😛",
          " Co ty żresz, że ci tak pierdolnęło?",
          " Bo w \\\"10\\\" już grają przez Boatenga ;)",
          "  Trudno być pewnym, gdy stoperzy mogą zagrać tylko lagę do przodu, bo środka nie mamy.",
          "   No właśnie, nie było i dlatego patologia została stosownie potraktowana.",
          " skoro jest dno dna to może skupmy się na tych od których coś wymagamy",
          " Widocznie to zbyt trudna miłość na Walentynki 😁",
          " Sarapata była w solarium ?",
          " Woda chyba zimna bo nikogo w wodzie ;-)",
          " ej, dobra, weźmie ten chrzest czy nie? xd",
          "  Lub bezpośredni awans, bo nie wiadomo co ze Stomilem, a przede wszystkim Bytovią :)",
          "  byłam przy tym, więc zapewniam 😉",
          "   Tylko ty masz problem z rzecznikiem, więc zastanów się w kim tak naprawdę jest problem? 🤔",
          " Piątek  też powinien być wolny, ina 100%",
          "Wassermannówna kłamie, mówiąc, że „przyszła do polityki”. Ona przyjechała na trumnie ojca.",
          "  Wassermannówna kłamie, mówiąc, że „przyszła do polityki”. Ona przyjechała na trumnie ojca.",
          " Już dwa lata temu powinni wygrac Euro.",
          " Kibice innych drużyn doceniają i trochę zazdroszczą :)",
          "  na 100% jest zmiana Śląsk - Jaga i chyba została już potwierdzona.",
          " W tym czasie był z rodzinką na wakacjach w Gdańsku Brzeźnie to musiał zdalnie podtrzymywać związek",
          "jak Patryk Jaki wygra wybory w Warszawie oczyści stolicę z byłych UBECKICH funkcjonariuszy ! #woronicza17",
          "  jak Patryk Jaki wygra wybory w Warszawie oczyści stolicę z byłych UBECKICH funkcjonariuszy ! #woronicza17",
          "Szkoda, że przez wymysły Mendesa taki Ruben Neves się marnuje w Wolverhampton.",
          "  Nie wiem, aczkolwiek jego tata mówił, że widziałby Tomasa w Jagiellonii. 😜",
          "Ja i moje psiapsi gramy w te gry na snapie i nie mogę przestać się śmiać z naszych min XD",
          " Kolar niestety ten sam poziom. Chyba trzeba będzie liczyć na skuteczność Boguskiego i Małeckiego...",
          "Rząd zaostrzy kary za znęcanie się nad zwierzętami. Od 3-5 lat więzienia; obowiązkowa nawiązka do 100 tys zł. Więcej jutro w ",
          "  Rząd zaostrzy kary za znęcanie się nad zwierzętami. Od 3-5 lat więzienia; obowiązkowa nawiązka do 100 tys zł. Więcej jutro w ",
          "   czuje że Brlek prędzej czy później odpali",
          "  To, że figurowal jako zawodnik Man City nie znaczy, że będzie potrafił grać.",
          "  Oczywiście, że ma rację. Chodzi tylko o to, że to jest drużyna o klasę lub dwie lepsza.",
          "  Nie miał prawa stać za linią, tak prawdę mówiąc 😄 Ale w kamerach to bardzo ładnie wyglądało.",
          "   Ty to robisz przede wszystkim, co widać po pierwszym tweecie.",
          "Ostatnio czuje się tak samotna i smutna ze aż sama się dziwie",
          " Przecież to legionista to komu ma życzyć mistrza.Nie wiedziałeś ?",
          "   dobrze by mu to zrobiło.Za słaby na Wisłe.",
          " Hehehehehe. Róża nawet niezła była.I co z niej wyrosło!😁😁😁",
          " jedni wynajmują agencje do komentarzy a inni dziennikarzy",
          "   jedni wynajmują agencje do komentarzy a inni dziennikarzy",
          " pewnie jest mniej błędów bo i liczb jest mniej bo zrezygnowali ze statystyk zawodników sezon po sezonie ;)",
          " Krzyż przeciw prezydenturze, krzyż obłędu",
          "  Sorry ale dzisiaj nie ma opozycji. Jest grupa cwaniaków chcących odzyskać stołki.",
          "na kijowe życie najlepsza wódeczka",
          "Co na to Herod śmierdziuszka ",
          " Brakuje mu dystansu, za bardzo się egzaltuje, a jałowe szyderstwa już mi się przejadły",
          " Wisła chyba ważniejsza od jakiejś Delle Donne :)",
          " Nawet jeśli to fejk, to zgodnie z powiedzeniem -w każdej plotce jest ziarnko prawdy. Z tym że w tym przypadku raczej ziarno😁😁",
          " Tez wczoraj byłam na randce która trwała cały dzień Xd",
          " A kierowca autobusu wstał i zaczął klaskać ?",
          "  Jak by nie było, aby było miło, teraz sie cieszysz",
          " No to może warto, najwyżej Cię oleje, co jest oczywiście nie do przyjęcia 😂 kto nie ryzykuje ten nie pije szampana kochana!",
          "  Trzymali się za ręce, waleczni i sprawiedliwi",
          "Dudelange niby takie cwaniaki, a ciekawe czy byliby tacy mądrzy w dwuboju rzut młotem-skoki narciarskie",
          "  Dudelange niby takie cwaniaki, a ciekawe czy byliby tacy mądrzy w dwuboju rzut młotem-skoki narciarskie",
          "   głównie  który często o tym wspomina",
          "Kto się jeszcze zaczepia na fejsie....",
          "  Z tymi wizjami to może być problem. Proponuję sprawdzić po czym te wizję są",
          " Jaki hejt.Hejt to jest na Tuska, Komorowskiego, przecież to nie Polacy, śmierć wrogom ojczyzny. Obudź się",
          "Czy Antek już ogłosił, że na lewym skrzydle naszej obrony był wybuch?",
          "  Czy Antek już ogłosił, że na lewym skrzydle naszej obrony był wybuch?",
          " jest to dobra informacja dla tych co okradali  Polskę od 89  roku  Irlandia da im wolność",
          "   jest to dobra informacja dla tych co okradali  Polskę od 89  roku  Irlandia da im wolność",
          "Ale przecież #Polexit jest dobry. Założycie koszulki z orłem i będziecie żryć ziemniaki i wungiel 😇",
          "  Ale przecież #Polexit jest dobry. Założycie koszulki z orłem i będziecie żryć ziemniaki i wungiel 😇",
          "    Wywalił Ronaldo w Superpucharze :)",
          "  Bo sama jest niepełnosprawna... Umysłowo.😁😁",
          "Halo Kraków, kogo byście uznali za gwiazdę/najważniejszego zawodnika obecnej Wisły? 😉",
          "  Ssą wszystkimi otworami z krwi biało czerwonej",
          " Wy się zjednoczyliście z faszystami z połowy Europy. Kpromitacja level hard.",
          "   Znowu on ? 😂 to przy okazji niech się odniesie do słów Sarary 😂",
          " Dotarlas do orełka?😁😁 W tym roku niestety tyłko jeden😞😞",
          "  Mam rozumieć, że to mapa nasycenia krajów zboczeńcami w sutannach.",
          "   A Panu nie brakuje czasem art. 87 pkt1?",
          " Czy to oknoplus ladowal kiedyś",
          "  5 punktów na 21 w rundzie finałowej...",
          ".  Będziemy realizować przekop Mierzei Wiślanej \\n#wieszwiecej  \\nhttps://t.co/zuCXxG1GUr",
          "  .  Będziemy realizować przekop Mierzei Wiślanej \\n#wieszwiecej  \\nhttps://t.co/zuCXxG1GUr",
          " Bolek wyluzuj bo jesteś sercowy.",
          " Śmiej się  śmiej. To wcale nie jest śmieszne.",
          "I hope that autumn will heal me",
          "Jutro po marszu, ale jeszcze kilka dni beda chodzić naćpani",
          " Nie ma jak lans nierobie za pieniądze podatników.",
          " A to ja przepraszam, nie miałam wczoraj czasu na TT 😎",
          "11 tysięcy miejsc zajętych, dzisiaj prawie 2000 biletów sprzedanych. Z tej okazji za chwilę nagroda 😁",
          "  To ja chyba tylko kolory porównywałem",
          "Ej słuchajcie co zajebistego wymyśliłam \\n\\nJaki jest najlepszy argument bonnie z pamiętników wampirów? \\n\\nBo nnie",
          "  Ej słuchajcie co zajebistego wymyśliłam \\n\\nJaki jest najlepszy argument bonnie z pamiętników wampirów? \\n\\nBo nnie",
          " Im więcej problemów w państwie tym więcej niewykonanych wyroków",
          "Widziałam śliczną sukienkę ale nie było mniejszego rozmiaru niż 36 i była za duża danmm",
          "  Polskę to kompromitują tacy jak ty. Oszołomie.",
          " 😁😁😁😁😁😁😁😁  teraz to mnie Pani ubawiła tym paskiem. A widziała Pani swoją szyję?",
          "   nie, ale jeśli ktoś wypomina Levadie to niech bedzie obiektywny i wspomni też inny wynik.",
          " O naszych meczach z Rio Ave można powiedzieć podobnie 😉",
          "W sumie to polubiłam już zajęcia z konstrukcji przekazu reklamowego i prowadzący jest świetny",
          "Ej chciałabym do samorządu w sumie hahahaha",
          " Tez nie mam snapa hahahahaha",
          " Ileż można o tym Wiluszu ?...",
          " A po polsku to jak to będzie?",
          "  A skąd on wie jak jest w innych klubach ? Niech się wypowiada o klubach w których grał.",
          "I ta Wisła, która się bawi z każdym w ofensywie, w Białymstoku miała pół sytuacji.",
          "   Zapytalem,  szwagierka mówi że ma konto w powerbanku",
          "  Mięciuteńki straszliwie. Tam były ręce na ciele, a nie jakieś szarpanie. Tylko że nie do VAR-u.",
          "  Pajacu, jak podajesz przepis to masz go znać na pamięć. Inaczej robią z siebie idiotę tak jak teraz.",
          " Zdejmujesz Dziadkowi okulary, zakładasz Babci i jestem \\n😎",
          "   w końcu jakiś ciekawy wywiad :)",
          " jak tam widziałeś czerwoną to rzeczywiście wyjdź",
          " skoro zarząd pozwala na takie cyrki to niestety potrwa to lata",
          "  Cieszmy się że drużyna dalej gra w lidze.Nie zawsze można mieć najmocniejszy skład w lidze :)",
          "   Znawca wszystkiego czyli niczego od bydła po powidło",
          " 😂😂😂😂😂😂😂😂😂😂😂😂😂🤣🤣🤣🤣🤣🤣🤣🤣🤣🤣🤣🤣🤣😂😂😂😂😂😂😂🤣🤣🤣🤣🤣🤣🤣🤣🤣🤣🤣🤣🤣🤣🤣😂😂😂😂😂😂😂😂😂😂😂😂😂😂😂😂\\n\\nSłów odpowiednich żaden słownik nie zawiera",
          " Vacek, Putnocky, Nielsen.Widzę że biorą się za odmładzanie składu :)",
          "   Ty się chyba debilu nie słyszysz, ty tekstów to się po nocach uczysz czy masz słuchawkę w uchu?",
          " Lub kibiców w Gliwicach 😜",
          " No właśnie była lepsza 😜",
          "    No weź nie rob takiej miny",
          "   Szczekać to mogą tacy jak ty #delegalizacja",
          " Bo jest Głowacki to teraz czas na obrońców",
          "  Nie ma takiej opcji. Oszust i kłamca w roli głównej - tego jeszcze świat nie widział.",
          " Nie jest złe! Chodzisz w szpilkach? Cokolwiek byś nie założyła to szpilki choć trochę pomogą xd",
          " Jakby był definitywny to trochę slabo 😂",
          " a co się tak pieniedzmi nagle przejmujesz ? Jak chcialas rozwiazania kontraktu z Zohnova czy Pop to kasa juz nie wazna ?",
          " Oskar Łąk definitywnie odszedł z Wisły ?\\n\\nhttps://t.co/o0psVgZBUl",
          " gratulacje ! Dzięki za dotrzymanie słowa że dzisiaj koniec :) Zasłużyłyście !",
          "Jezu, co zagrali Suarez i Cavani.",
          " Na pewno łatwiej by było znaleźć, określić i poprawić problemy",
          " Można, dlatego nasz poziom piłkarski był bardzo słaby wczoraj.",
          " Wybacz, ale nie sądzę, aby głównym problemem kadry były złe powołania na numerach 21-23 w kadrze.",
          "jeśli nie mogę wyglądać tak jak\\n•perrie edwards\\n•troian bellisario\\nto what’s the point of existing?",
          "  jeśli nie mogę wyglądać tak jak\\n•perrie edwards\\n•troian bellisario\\nto what’s the point of existing?",
          " Nadal i Djoković to się w sumie cieszą, bo ten, kto w ich meczu wygra, będzie praktycznie zwycięzcą turnieju.",
          "  Mówisz że ONR lize doope😂",
          "   wyśle im jutro list od kibiców cracovii że chcą odejścia Filipiaka.Ciekawe czy też opublikują.",
          "  A kiedy zaczniecie zbiórki na krówki i świnki?",
          " No to skąd wiedziałeś czy stopklatka jest zrobiona w odpowiednim momencie ? Nie kompromituj się",
          "   Iza - dziewczyna, cud, miód, malina 😁",
          "Zaraz pół mojego instagrama i cały Twitter będzie na koncercie Eda.... i jestem jeszcze ja............",
          " Z tamtego Adama dziś już nic nie zostało. Ale czepianie się go za brata i ojca osobiście nie popieram",
          "  Plujecie na Polskę to my będziemy pluć na was.",
          "    Plujecie na Polskę to my będziemy pluć na was.",
          " Może też być kołderka 😍",
          " Dlaczego średnio? W decydujacym o awansie Widzewa czerwcu był piłkarzem miesiąca",
          " błedem było ściaganie zawodników których nas niestać byleby osiągnąć cel",
          " Każdy kto choć trochę się orientuje w tych sprawach wie, że na Hutniku nie ma oświetlenia...",
          " Maliniak dal reklame za dormo ponoć caly marsz niepodleglosci ubrali, prawda to redisbad?",
          " niech wejdzie na luzie i pewnie tak żeby nie musiał zostawiać dokumentu, milion osób tak przemyciłam",
          " Cie zaraz piznę, jak nie zaczniesz myśleć",
          "  Bo byliśmy bez formy, to oczywiste. Przecież to też napisałem.",
          " jest juz aktualizacja składów czy jakis dodatek sciągałeś ? :)",
          " Komentarz raz a dwa słysząc trybuny zastanawiam się czy ten kto wymyślił mecze w pn obejrzał choć jeden",
          "      Mam nadzieję że nigdy więcej. Czekam na rychłą delegalizację.",
          " A Ty nigdy nie robisz dwóch rzeczy jednocześnie? Np. idziesz i żujesz gumę.",
          "  O 11.00 wielkie obtrabienie sukcesu...",
          "  Ty kurwa  nie pierdol w tv bo sie żygać chce",
          " problemem jest to że jak sobie coś ubzdurasz to myślisz że zawsze masz racje bo jesteś wszechwiedzący ",
          " Taki Błaszczykowski tez za co do repry?  Żeby niebylo ze wbijam szpilki do legi?",
          "Często wracam do tego kawałka. ",
          " A pisdzielstwo, szczury, gady, plazy popromienne, azbestowe?",
          "omg ale jestem wyjebana po tym wykładzie",
          "  jak Zarycki jest Twoim informatorem to te info można w kiblu spuścić",
          "  Ale Karolina ostatnio była w TVP 😜",
          "#NAME?",
          "  U mnie też wyświetla właściwe kolory 😊",
          "  Najpierw kasza, później przyjemności, a kiedyś wolność, ale wy klękacie bez obawy zostanie i tak bez was",
          "   No oboje Państwo wyglądacie jak rodzeństwo. I tacy żółci oboje.",
          " No kurwa  ty masz nie rządzić, madz nie rządzić",
          "Yerri Mina - złota piłka 😁",
          " jeszcze nie mam planu wykonania ;-)",
          " Śląsk Wrocław ma jakiś drugi podmiot, że wystawia drugi zespół w barażach?",
          " personalnie do tej Pani, przyjrzyj się sobie   ,  ",
          "Nie wiem, jak Barcelona i Real otrząsną się po utracie tak ważnych piłkarzy, jak Paulinho i Cristiano Ronaldo.",
          "Polska zrealizowala nasze cele w UE na szczycie z nawiązką. Podajcie dalej  koniecznie potrzebne - dziękuję😊\\nhttps://t.co/OzUaePZLpY",
          "  Polska zrealizowala nasze cele w UE na szczycie z nawiązką. Podajcie dalej  koniecznie potrzebne - dziękuję😊\\nhttps://t.co/Oz…",
          "   A my nie mamy helikopterów, rakiet, łodzi podwodnych a mamy WOT w którym ja biegam",
          "  A czego oczekiwałeś ? Przedłużą z kimś kontrakt to poinformują",
          " Jeszcze Podolski od jakiegoś czasu.",
          "Przepraszamy. Nie wpadliśmy na to, że pokazując środkowy palec narodowi, który - ponad podziałami, czci #PW1944, możemy kogoś obrazić. Sorki",
          " ahhh myślałam, że na jakieś innej stronie",
          " Źle... Miałeś napisać, że nie możesz więcej zdradzić :(",
          " Pan w tle, z lewej, to z mopem zasuwa? 🖒",
          "Czy naprawdę trzeba publicznie przyznawać się do nieprzygotowania do meczu, drodzy panowie komentatorzy? (kwestia Sheridana)",
          "Na tt te beznadziejne gadki o niczym, to już wolę sam ze sobą",
          " Pamiętaj, ze ja daleko do ciebie nie mam 😂",
          " Pomysł sobie ze ja oblałam bo z pełna świadomością wjebalam się na rondo XD widzisz to taki mały błąd, Ew",
          " Jest tej chołoty tutaj całkiem sporo. Napewno się udzielają.",
          " Hejka, hejka, sejonarka w czwartek o 11 juz do domku",
          "  Mistrz, człowiek mem jedyny na świecie",
          "   York czy Leszek Miller? :)",
          " Kiedys kazdy kopniak bez piłki = czerwona, a jeśli to było tylko położenie ręki na głowę, to nie mamy o czym rozmawiac :)",
          "Morawieckiemu coś nie idzie w Namysłowie. Teraz jako były prezes BZK WBK przedstawia się jaki ten, który zwalcza \\\"zachodnie korporacje\\\".",
          "  Morawieckiemu coś nie idzie w Namysłowie. Teraz jako były prezes BZK WBK przedstawia się jaki ten, który zwalcza \\\"zacho…",
          " No widzisz, a zwycięską asystę w tym meczu zanotował Griezmann. MVP = najbardziej wartościowy zawodnik :)",
          " do domu bo ci rózga dupę  ty mały  ",
          "Jak go pierwszy raz usłyszałam to miałam ciarki na całym ciele",
          " kibice nigdy nie pozwolą na to żeby po raz kolejny był trenerem",
          "Teraz zarykam nos i mowie \\\"cała polska z was sie śmieje, komuniści i zlodzieje,",
          " Jego tata tłumaczył konferencję przy okazji meczu z Rio Ave w Vila do Conde :)",
          " a wyśmiewanie Lionela M. było po skazaniu go za oszustwa podatkowe ? bo jakoś przeoczyłem",
          "   życzę Gatcie mistrza bo zasługują na to grając 2 sezony na wysokim poziomie.",
          " Plakat widzę tak  z   wymiana spojrzeń  a  na kolanach liże ich po stopach",
          " Pana zdanie nie interesuje Polaków ❗\\nWypchaj się Pan niemiecką, śmierdzącą onucą ❗",
          "   Pana zdanie nie interesuje Polaków ❗\\nWypchaj się Pan niemiecką, śmierdzącą onucą ❗",
          "  Mógł, ale jakoś nie chce mi się wierzyć, że tak to wyglądało.",
          "em ok wątek Jerzego i Zuzy w Przyjaciółkach to najlepsze co tam było kiedykolwiek",
          "   Giertych: myślę, że myślę.",
          "Ostatnio się zrobiłam polityczna chyba studia weszły mi za mocno",
          " Badziewny zespół, a i tak Anglicy byli o krok od straty punktów :)",
          " nawet pasy to dla was za duże wyzwanie co widać po twoim profilowym.Mistrzowie opraw.",
          " nie chodziło mi o to że się cieszyłeś z upadku Wisły tylko że masz czarny humor :) że się z Wisły na Chojnice przerzuciłem :)",
          "Ta drużyna powstała za czasów PO-PSL.",
          "  Ta drużyna powstała za czasów PO-PSL.",
          " Hołd to się oddaje bohaterom....",
          "   a co ma procent zapelnienia pojemnosci do frekwencji ? Po za tym co to jest 50% na takim malym stadionie ?",
          "Spółka srebrna kapitał  7 mln,  w zarządzie sekretarka i kierowca Jarkacza",
          " Haha  a ilu ty zapraszasz do studia co pierd...takie głupoty...",
          "   Haha  a ilu ty zapraszasz do studia co pierd...takie głupoty...",
          "Kto chce zrobić ze mna tea party??",
          " Ale za to wystąpił równie błyskotliwy,inteligentny, merytoryczny,bystry poseł Kieeerwiiinski!!!",
          " No gdzie, wszystko zależało od Lecha w ostatniej kolejce :D",
          "Moja morda to takie spierdolenie ze zaraz rykne",
          "  Moja morda to takie spierdolenie ze zaraz rykne",
          "  No w różnych miejscach ludzie seks uprawiają. Dajcie spokój...",
          " Ok boli, boli. Czarne katabasy, mordercy irlandzkich kobiet i sierot do kruchty i pokutować do końca życia za swoje występki.",
          "Czemu żaden tramwaj nie jedzie wtf",
          " Tak, statystyki to kłamstwa. Za to wyciągnięcie jednej sytuacji z 90 minutowego meczu to bezcenny dowód.",
          "  Zamiast tego można znaleźć grafiki na różnych ekranach / telebimach w mieście.",
          " Niby sami świnie, a nic nie wiedzą",
          " Ale co to ma do Mystka?",
          " Serio chcecie cichego stadionu ?",
          "Co to miało być? 😂",
          " tego się niespodziewałem po Tobie... Zawiodłeś nas :D "
         ],
         "textposition": "top center",
         "type": "scatter",
         "x": [
          0.011233889349723334,
          0.12396043228668674,
          0.07229463042039916,
          0.11676251733598886,
          0.022711296294962824,
          0.045910343436504825,
          0.17983649722872463,
          0.14429233929860266,
          0.06575685440787632,
          0.13689151631239632,
          0.06935149366832769,
          0.09469056496570069,
          0.10943206252435328,
          0.06831005809003841,
          0.0758541064045211,
          0.13030623903128058,
          0.08450647248957587,
          0.0821166956096807,
          0.4363845804702079,
          0.0770269417710481,
          0.09808236835925262,
          0.07006329514863661,
          0.13488061490395933,
          0.1259366331984218,
          0.09474806454280363,
          0.008269706220543904,
          0.01010251136053452,
          0.13948026829705232,
          0.10555420857116782,
          0.10113556162617668,
          0.02386229641982507,
          0.10954242412552387,
          0.08816094774324854,
          0.032481272338780454,
          0.20660310573119944,
          0.12926030484298662,
          0.10206769550089514,
          0.06085628655265447,
          0.06912536755335037,
          0.004554101711630412,
          0.07086614364886569,
          0.10420368088527236,
          0.00003382332751955178,
          0.05071369479966091,
          0.09433505545437564,
          0.09225535659111667,
          0.12441948695760235,
          0.09036034726488403,
          0.0008201897087401805,
          0.022820317183057416,
          0.05543845921525465,
          0.10080672776568425,
          0.11580363322035496,
          0.027888326486240567,
          0.0085220219325541,
          0.06485092056941219,
          0.09976333271324445,
          0.09785871795352785,
          0.2106575141354985,
          0.11940209986474572,
          0.002104705422686671,
          0.0871714828854756,
          0.007743168412444196,
          0.08523600817761627,
          0.06765840277735616,
          0.03164281618695847,
          0.1290688043953006,
          0.16716620021806544,
          0.047056726526702196,
          0.08891806964977164,
          0.08200319363925869,
          0.07915250177703814,
          0.19730660235112016,
          0.0918275900165951,
          0.01721096122860462,
          0.10676053188932765,
          0.019188445506099848,
          0.1793609029347881,
          0.10525389084398103,
          0.16350852954788148,
          0.20976822269529244,
          0.12070018834276854,
          0.010298841818272604,
          0.08883328156225091,
          0.07311332174934314,
          0.16156708991661448,
          0.15557077278665313,
          0.05371725493296428,
          0.023390054298408503,
          0.25729523073903565,
          0.06034280308819598,
          0.1297737398051729,
          0.038596132297455274,
          0.14336629433270628,
          0.08353737699317652,
          0.08166758386845804,
          0.08064731261530164,
          0.019513250960816266,
          0.16977179876346274,
          0.11838989103463675,
          0.1276556855819045,
          0.08770723529573007,
          0.15965920112967255,
          0.12570244310407405,
          0.054300580714907426,
          0.10315393135012475,
          0.045082000102297945,
          0.07961218518375904,
          0.031080678926078242,
          0.004873982414731406,
          0.04128961471029861,
          0.08057765260872536,
          0.12157872176649862,
          0.06671640494401396,
          0.12908693520353565,
          0.10688651632428081,
          0.10914584681019836,
          0.03108051137615208,
          0.0022688259891461907,
          0.06143523056777766,
          0.032484847030217014,
          0.08025533223498586,
          0.09555218131656004,
          0.131432742757166,
          0.07789446386447516,
          0.09536190814679543,
          0.12171047752184007,
          0.08203852522202748,
          0.16021575204040409,
          0.08037929019151155,
          0.14566389126330823,
          0.10343579815391803,
          0.03275583188340964,
          0.07755896486804842,
          0.0635119793220242,
          0.050464386866708635,
          0.016010915978024853,
          0.11526993046751528,
          0.08723778626084028,
          0.10289019588249931,
          0.0675629580976382,
          0.14620345484918312,
          0.09281055474443367,
          0.02820821224488474,
          0.37529611650397854,
          0.0921787675653046,
          0.023584809360611678,
          0.058448337756614274,
          0.011489481117410749,
          0.03495881162203182,
          0.4417263670840534,
          0.1314508392593696,
          0.10298258869368322,
          0.10166444129154953,
          0.044907485582501794,
          0.037575733927367426,
          0.021820273197492836,
          0.07670020557633583,
          0.14835490367089682,
          0.11008997980426773,
          0.08523753134199562,
          0.12747162010011462,
          5.901687574788231e-7,
          0.05469079312401398,
          0.05532442115067496,
          0.07791405765266138,
          0.1151442361460653,
          0.10908384386310874,
          0.16104384869287963,
          0.07072272051613783,
          0.42887850649266274,
          0.21405019778519224,
          0.1324777138621444,
          0.10958261962853016,
          0.09906705261247936,
          0.1982163789630532,
          0.443971243508286,
          0.04662841020235283,
          0.07859558907235241,
          0.06833892654337141,
          0.08191112537967042,
          0.014005035675198918,
          0.05635572495491489,
          0.0441673403433472,
          0.012955778123972845,
          0.30688557430914454,
          0.07583670884380787,
          0.10593970917567842,
          0.06101457239604916,
          0.13245222565842985,
          0.09266830129349897,
          0.1187490424071332,
          0.011300537710860925,
          0.1219548037414184,
          0.09058829940239808,
          -3.9610713832499644e-7,
          0.12025901187724522,
          0.13103593927995177,
          0.009111376343372873,
          0.12640446668955405,
          0.08861078949300046,
          0.10025345007176996,
          0.06806120519688634,
          0.009189330105897115,
          0.061956061702080054,
          0.13472377927863405,
          0.13682609723924297,
          0.08213718967179623,
          0.09020424248798015,
          0.026101358383197118,
          0.06355942705188851,
          0.0260398182370196,
          0.100076981245444,
          0.013001368832927606,
          0.08336507694951059,
          0.10678383902288444,
          0.08524118691626516,
          0.13747650681882045,
          0.122000695183782,
          0.0756395563361275,
          0.036871874634249326,
          0.007531818682098677,
          0.024328198051025533,
          0.1232276778147549,
          0.12437549722172148,
          0.03132962848463516,
          0.05821331753647902,
          0.07604615131935173,
          0.06430606283910208,
          0.06492448411281762,
          0.13035228789267694,
          0.1255861668116102,
          0.09297720408182081,
          0.09279104123930085,
          0.07893846061817787,
          0.07050723389262088,
          0.0951817832314372,
          0.0357983543144478,
          0.08568021696399139,
          0.1404629561042918,
          0.0846501846360115,
          0.07917656882425697,
          0.09203217680941683,
          0.12686989280491484,
          0.05172569569736484,
          0.07071615164920922,
          0.17359249688196726,
          0.11318101815531015,
          -0.0000013625143359710586,
          0.04058567297005544,
          0.09793497934132367,
          0.12964314791281814,
          0.0616525607190226,
          0.018415449477729197,
          0.06828402271835736,
          0.018535796440212977,
          0.16229925481884286,
          0.13317112559903843,
          0.17080436710917551,
          0.05433042810280775,
          0.07390080264384222,
          0.0213214801644162,
          0.09702612517330322,
          0.1847269794910676,
          0.03949526276506474,
          0.07767528034534717,
          0.0875582632210524,
          0.037151040065981675,
          0.2178751900848181,
          0.11069318968644311,
          0.0857447992331698,
          0.12076530192194714,
          0.10239267747234695,
          0.3974209435587018,
          0.20976819869142418,
          0.03332518920250302,
          0.10611629776077576,
          0.03386463907903403,
          0.054269850387494795,
          0.07084134266546487,
          0.21900561165214674,
          0.0949069009140209,
          0.0996432155603269,
          0.10589890533528895,
          0.05289948349917431,
          0.07550685433313228,
          0.07426404714816344,
          0.07252060054270512,
          0.07684961667453004,
          0.05426582863412595,
          0.07795984015575373,
          0.06798371147857973,
          0.12343625610971426,
          0.10625899380525447,
          0.08852852170599008,
          0.07385735881319638,
          0.08648446325959483,
          0.12385072304477147,
          0.0942528108550535,
          0.15549934058072784,
          0.007346903101004595,
          0.08192855258537561,
          0.09009894123842555,
          0.058735447696569555,
          0.11151289307548223,
          0.029083923358275972,
          0.06367410039633072,
          -0.0000025814102009527928,
          0.05827104514843365,
          0.10219300778021123,
          0.14912993825752008,
          0.1905223469474569,
          0.11080539539320974,
          0.2351485354710252,
          0.18024382025849928,
          0.10431327809342299,
          0.10911834195643896,
          0.15049866461321998,
          0.002552572893975016,
          0.17035438713166312,
          0.1548904823400047,
          0.11200476242718722,
          0.0067163954521219345,
          0.08870651795655504,
          0.07072385318299451,
          0.0968973493715858,
          0.0313592668271751,
          0.10824677871670547,
          0.08214889800875085,
          0.024464139365373252,
          0.054123291811747874,
          0.06058849896569104,
          0.11314574778902088,
          0.18035753161623994,
          0.07808263552510764,
          0.13317105990177755,
          0.06424104377977591,
          0.12877431475584875,
          0.04495938568031129,
          0.10939687749143948,
          0.10280529487936778,
          0.09899383536828744,
          0.09583631488707282,
          0.09884318064150796,
          0.025079984083727736,
          0.07483044752342563,
          0.16606675642171986,
          0.08240226632446597,
          0.09735967091892508,
          0.12643392137858994,
          0.00894176346337498,
          0.411215842477436,
          0.08978051737377238,
          0.16406062427661944,
          0.18044909351331526,
          0.11786798767800094,
          0.0000027768153805958743,
          0.13911243044358715,
          0.05285216652427826,
          0.061518657253877104,
          0.1332714867262871,
          0.16626392049041627,
          0.1425758217913444,
          0.09065065634360009,
          0.1781275403386301,
          0.03016334705667955,
          0.07115011111437167,
          0.015535352046593663,
          0.06592127511648077,
          0.13317056920791806,
          0.14255196985580826,
          0.05309874453682371,
          0.034984340582553966,
          0.10068811328360651,
          0.23559337248856954,
          0.1331694737303399,
          0.0991896991785126,
          0.18021132830508022,
          0.06116754014661357,
          0.137430657702072,
          0.08111622857230034,
          0.21799636691068452,
          0.03178011956619233,
          0.07464380665690311,
          0.14872953226784366,
          0.13399072463358006,
          0.08473524048379222,
          0.08962585981315911,
          0.00834226552374865,
          0.0456754366601614,
          0.00187972112309501,
          0.10414109697738155,
          0.06323981817114288,
          0.10335877265595696,
          0.03921729295552473,
          0.07268494431731641,
          0.038397765962521736,
          0.07794113641842217,
          0.09083111844316902,
          0.08174166207605729,
          0.08060372456920076,
          0.009618915271023053,
          0.10185128696290147,
          0.03884019464835569,
          0.37528694561522,
          0.1193496115249209,
          0.06530154302698604,
          0.08264820550111589,
          0.07738239245902129,
          0.05874759566689338,
          0.01072334522128174,
          -0.0000035476074392863976,
          0.07957386598519081,
          0.1310550977568322,
          0.25627058927909463,
          0.15844618618098014,
          0.095638351243394,
          0.10247903502967672,
          0.11430774334582758,
          0.07354696574648352,
          0.03464508618466627,
          0.07005577538244516,
          0.16463523631927812,
          0.000002789319876906327,
          0.0701429746040271,
          0.0698920170594593,
          0.015118653068628269,
          0.059946433330126954,
          0.37373877364702346,
          0.3347958031477086,
          0.05368516500575929,
          0.09225436090280911,
          0.014816152165550536,
          0.37569542927713406,
          0.04589252642304793,
          0.060063818278672146,
          0.07878431978436842,
          0.12527583664412317,
          0.2737988390400425,
          0.05803250708645158,
          0.03931132848316865,
          0.12002347298805614,
          0.06367086566721862,
          0.19473196785972902,
          0.23520276142929933,
          0.12710797469675858,
          0.19055406164353,
          0.0000015222646200841887,
          0.032516780984828686,
          0.10583597757461377,
          0.13729253955810883,
          0.12398281572934652,
          0.10525068302190392,
          0.03999443922589915,
          0.07478088188178597,
          0.1232921403996674,
          0.00905104459114474,
          0.11136497029688014,
          0.48523273594828686,
          0.026705897176983916,
          0.12969139298042467,
          0.0046406590427824764,
          0.011974420566721204,
          0.12289998478154007,
          0.13317352243092842,
          0.23900883943242446,
          0.09398417670102488,
          0.04778584495175232,
          0.14233855785592917,
          0.07458635205446568,
          0.09517820649134327,
          0.08319519403316829,
          0.05861695652806502,
          0.11382837921403044,
          0.10697185913854113,
          0.12351563943953761,
          0.027149240068013992,
          0.11015018049049474,
          0.09895334604055825,
          0.06167890982097642,
          0.15935374898193005,
          0.2385179556503245,
          0.034893450348845105,
          0.05678389433057741,
          0.1523790822167495,
          0.08456862769236435,
          0.12141337066052092,
          0.17698943651696586,
          0.06991727501221529,
          0.08667370566963566,
          0.10368118647352367,
          0.004890068767234673,
          0.10179374971338113,
          0.12180557595289643,
          0.08535705031474507,
          0.01923037881775953,
          0.055953718485066764,
          0.09500531599358113,
          0.13467097125730162,
          0.05041280479114598,
          0.061649387347230536,
          0.09238932026614391,
          0.16259348449143868,
          0.011669422362283771,
          0.0740348515050794,
          0.1266412565970237,
          0.07177164036249793,
          0.14008656459956237,
          0.08501577264118337,
          0.08418534975811413,
          0.10195083466462095,
          0.07190801079783175,
          0.09565358990307597,
          0.12678407996040683,
          0.09119348343134022,
          0.1090609222335003,
          0.0879779150198631,
          0.013378768957557014,
          0.08841850065864516,
          0.06324027884985137,
          0.17450515038806536,
          0.16447545163413213,
          0.15758573108779161,
          -0.0000020106016425028213,
          0.08151002904866911,
          0.009864174654798913,
          0.06327597959142041,
          0.08944592119668446,
          -0.000001173694250505402,
          0.07142127380576668,
          0.07594329144188032,
          0.04080028967630081,
          0.19891123561126786,
          0.17398681049864786,
          0.14060992717206866,
          0.0758695350219811,
          0.3229836182520766,
          0.024192692651767368,
          0.08744925145215049,
          0.11990848143006792,
          0.03270135706873348,
          0.07959254536285947,
          0.16884177985182602,
          0.016082866192846722,
          0.14489845759165432,
          0.13157478038935855,
          0.09188840569426808,
          0.02080202171041726,
          0.005596444244210206,
          0.2497244320909145,
          0.11187254763499493,
          0.09538134393270532,
          0.07109267734810909,
          0.08127060002500348,
          0.03386277273620944,
          0.09793204320786233,
          0.00990702489847935,
          0.05065129672458233,
          0.09226757704233624,
          0.2895113660499607,
          0.028075206421298807,
          0.1350982671887077,
          0.012772682868060783,
          0.09870355407090076,
          0.07563623952882868,
          0.04547978158011807,
          0.33562849958294955,
          0.07429085984530082,
          0.03611109966800387,
          0.10357641118006086,
          0.028296213940021058,
          0.05234283251465518,
          0.02805885076094083,
          0.0880310319960106,
          0.09458816776980093,
          0.11659004233186897,
          0.05288235065779943,
          0.11520518177632841,
          0.11339932314305011,
          0.03921334408507817,
          0.13450201535943476,
          0.1988063169824001,
          0.1470844592338837,
          0.006995842306257829,
          0.0772891673230002,
          0.11329768325545345,
          0.02166629113095922,
          0.08205189510812828,
          0.08178175943031658,
          0.06553180393106643,
          0.00011919248988607572,
          0.09274300243833072,
          0.05661878788398363,
          0.1510465500977813,
          0.1847244067326549,
          0.10347076880191716,
          0.18117805174848736,
          0.12890508356902566
         ],
         "xaxis": "x",
         "y": [
          -0.00722893615690855,
          -0.055377717969746956,
          -0.03641604587326587,
          -0.05304950072753966,
          -0.0013628760649849313,
          -0.014709498301201605,
          -0.09404108652307869,
          -0.07931357607895423,
          -0.029165129265128566,
          -0.07237285127189619,
          -0.04572149657036552,
          -0.02254076050654038,
          -0.05833543242868542,
          -0.026402117528224203,
          -0.034895403945526794,
          -0.07427930606481209,
          -0.05523860549069026,
          -0.043613370411886745,
          0.7674506934826218,
          0.15490521108698627,
          -0.045522077668808274,
          -0.03228625197650512,
          -0.07245915706990683,
          -0.0713996635045272,
          -0.0484826610926436,
          0.015079984663401283,
          -0.003353829635323321,
          -0.07171611347202446,
          -0.05564134376058603,
          -0.04510721151273698,
          -0.013252706465948661,
          -0.04750101812891813,
          -0.04367951790946382,
          -0.020127231354512064,
          -0.11296894816520614,
          -0.06521648709599837,
          -0.04177153627333409,
          -0.029746858440943352,
          -0.034406942610537394,
          -0.0032606322667976155,
          -0.05392032828402628,
          -0.06714959733126737,
          -0.00005466568501036954,
          -0.02688797722299015,
          -0.062118144483245465,
          -0.0401617535907425,
          -0.06572994273927532,
          -0.047695302868249655,
          -0.00039599488533624533,
          -0.014009887087635207,
          -0.027077316370741015,
          -0.047314053458823196,
          -0.05671898748758166,
          -0.017469431503209724,
          -0.00527489304029486,
          -0.028348298966927084,
          -0.046140366688981894,
          -0.04962426350179985,
          -0.1034620689708828,
          -0.06315527293339616,
          -0.0011138028884869846,
          -0.04461937568538511,
          -0.003964097254372883,
          -0.04194638667187411,
          -0.03352145084244501,
          -0.015499282949626289,
          -0.05872759856385859,
          -0.08884049564827544,
          -0.020094102415203565,
          -0.04626269309794662,
          -0.03694828043393738,
          -0.034745833838634915,
          -0.1218802604840999,
          -0.04616860844918458,
          0.0018919919177565016,
          -0.05384031737114123,
          -0.005863052209795397,
          -0.11133559829802724,
          -0.05394218916476133,
          -0.07522706760463624,
          -0.11289984014274995,
          -0.06110217310339797,
          -0.006360653476310191,
          -0.048421911113159,
          -0.038165912268293904,
          -0.08553242855677136,
          -0.06239648600603124,
          -0.023971415770387264,
          -0.008081922374534306,
          -0.13086803996957372,
          -0.041915796760067944,
          -0.06872634516917589,
          -0.013698815104903745,
          -0.06820494360134939,
          -0.042417046953146006,
          -0.04026541413168354,
          -0.03662300502501068,
          -0.002951965977409458,
          -0.08464446408166079,
          -0.058798642770019734,
          -0.06423107542701886,
          -0.04321016725204357,
          -0.0662284902405036,
          -0.06705937783813404,
          -0.03449933504349594,
          -0.05333609784264816,
          -0.029787841589098942,
          -0.04074963405980954,
          -0.020353277334475697,
          0.0019551347612288593,
          -0.02754435174279796,
          -0.043225355620506216,
          -0.0676189932302843,
          -0.04480604605884397,
          -0.06898825492894643,
          -0.04153493700085042,
          -0.05563757580337313,
          -0.018562449205282917,
          -0.0011687392109918304,
          -0.026563047031160532,
          -0.020797324869518963,
          -0.03987945603818692,
          -0.0411152720705066,
          -0.06881605511589642,
          -0.029208747314665558,
          -0.05065660517129979,
          -0.06191745035939059,
          -0.04045387592753226,
          -0.0881315735546702,
          -0.03850848745864912,
          -0.07241942949586044,
          -0.05060295879672594,
          -0.02094203468172861,
          -0.03878300178810784,
          -0.00608892036396445,
          -0.03185465619942862,
          0.0006308550512499316,
          -0.05678110682990205,
          -0.045114808296497215,
          -0.054717544185968955,
          -0.031787715845113425,
          -0.11658062754210363,
          -0.05065898738275378,
          -0.017934577534955854,
          0.5949807887072415,
          -0.03850583798990612,
          -0.007886153718960206,
          -0.021893051038464267,
          -0.007142957585635667,
          -0.015297512881901967,
          0.8171156209075907,
          -0.06195735594125401,
          -0.052915734016562334,
          -0.05222884198392966,
          -0.0287486586034364,
          -0.017357497500491963,
          -0.006883841295235008,
          -0.03233198205030769,
          -0.06498951593292013,
          -0.055948376021736336,
          -0.041953258805728484,
          -0.06962533587511237,
          -0.000013636615194801452,
          -0.025919177983934543,
          -0.03584457698655917,
          -0.03835413889658556,
          -0.0716954043329734,
          -0.05536683301336261,
          -0.08123263376692695,
          -0.029105256248443435,
          0.770586478877469,
          -0.1000172894165363,
          -0.07067023904172026,
          -0.05807212973198372,
          -0.04725749404663952,
          -0.13567450583079,
          0.7000982605395487,
          -0.029396193782159734,
          -0.03320587270154875,
          -0.02873052804879845,
          -0.042585805944165694,
          -0.0076594297914563915,
          -0.024642227572019157,
          -0.028129137647603792,
          0.0025956930858464164,
          -0.12320448343375165,
          -0.038303229529449576,
          -0.05838873590509525,
          -0.039257299126462045,
          -0.06727294859595429,
          -0.0390046852752924,
          -0.06107403998798215,
          -0.00748541516131248,
          -0.061078809480903516,
          -0.04844862248610399,
          0.000012423052164629549,
          -0.06117870111019838,
          -0.06259628783568451,
          -0.0054531869569718885,
          -0.06337937435058714,
          -0.04682152451841078,
          -0.05138324321796004,
          -0.032413151131775425,
          -0.0051293392324157795,
          -0.026291889022281138,
          -0.0735278800793761,
          -0.06571128015128377,
          -0.037406828967544464,
          -0.04750556541056818,
          -0.01175744557496028,
          -0.013371734791263554,
          -0.01642080958046093,
          -0.04085515519928076,
          -0.007446569003869944,
          -0.041857738946173256,
          -0.0566939522092845,
          -0.04195078312787527,
          -0.06770559795262798,
          -0.06286351971319779,
          -0.03871121890439085,
          -0.010835024943718812,
          -0.0046357372253806,
          -0.007017520434599062,
          -0.06977195357702208,
          -0.06319794338828336,
          -0.020152062888067198,
          -0.02824821697751552,
          -0.04152365046232427,
          -0.026720062996647705,
          -0.030731359111290716,
          -0.06656769847981323,
          -0.07834101409576198,
          -0.047978256892089836,
          -0.047342097206339945,
          -0.047281830107019335,
          -0.03140284972908357,
          -0.048147103673397175,
          -0.02339243949860745,
          -0.019357434731942878,
          -0.07125736701434772,
          -0.0389825692312945,
          -0.040407811049649155,
          -0.035773620494151274,
          -0.04976768251750573,
          -0.02456437463385465,
          -0.029112045068367082,
          -0.09994232897969807,
          -0.053721327427747406,
          -0.000008554510373432432,
          -0.025968268511190298,
          -0.046137249193302185,
          -0.06584177437703068,
          -0.025383187932632726,
          -0.01003283408298725,
          -0.030017993907249605,
          0.0003861935282682182,
          -0.07226668336759473,
          -0.06550573096582074,
          -0.07927159520343306,
          -0.02297277142107678,
          -0.03399837250738241,
          -0.012560626564506683,
          -0.04781790813867746,
          -0.09078273570755732,
          -0.024905068464468483,
          -0.0384912974327536,
          -0.044230093011571825,
          -0.02342729680190294,
          -0.10936143765271669,
          -0.05566698108923512,
          -0.0345092709164319,
          -0.0532642004035495,
          -0.04340058804222498,
          0.6181459486389679,
          -0.11289853084470944,
          -0.020721864767058285,
          -0.05118819099075402,
          -0.02168890418582261,
          -0.024018366008740664,
          -0.030544699826990086,
          -0.10325440020485731,
          -0.04767899610187702,
          -0.05052345502177481,
          -0.056033900822504666,
          -0.034086500087768645,
          -0.041727530230330837,
          -0.03107983454197144,
          -0.03135788416264497,
          -0.03466395307720374,
          -0.040945448271775514,
          -0.03726444002578222,
          -0.018386109087569685,
          -0.0629078137363855,
          -0.05716990458392974,
          -0.04398729078358678,
          -0.021923431765764636,
          -0.04345015197592067,
          -0.0565736550255248,
          -0.0510525412659903,
          -0.0887912112528452,
          -0.005380358501732783,
          -0.04241946139719993,
          -0.04826481792399121,
          -0.02797913089453639,
          -0.056419790111858666,
          -0.018919573658119,
          -0.032682056295785716,
          -0.0000032148547214862463,
          -0.02660125825882555,
          -0.05035305819730583,
          -0.07667464707633252,
          -0.1283526893415454,
          -0.04130759529825427,
          -0.10491445995682075,
          -0.11405451651033541,
          -0.05536316591480343,
          -0.05716783927855691,
          -0.07365237745431145,
          -0.0018525497059383958,
          -0.09212136073868875,
          -0.0783450861331672,
          -0.054885946842551145,
          -0.004195879318391957,
          -0.045164310403230545,
          -0.029108741842435684,
          -0.04755251127498523,
          -0.020285665023168996,
          -0.0537140739919908,
          -0.04331913768177936,
          -0.008629817856433472,
          -0.03476398145624838,
          -0.02607501058073342,
          -0.057734799934498544,
          -0.11100219233771191,
          -0.034254259747456064,
          -0.06549361563240043,
          -0.045001419148856,
          -0.07408628001718894,
          -0.028747390599467137,
          -0.0526376581790155,
          -0.05646061359936882,
          -0.041846948307145325,
          -0.05168416588036438,
          -0.05250656178838312,
          -0.01444751131176298,
          -0.03436197651281635,
          -0.08342550099377086,
          -0.04097977145027516,
          -0.049461132117603654,
          -0.06793194696495637,
          -0.005631832055036657,
          0.588031725389145,
          -0.04428990453250642,
          -0.1020044598681619,
          -0.09432425953511343,
          -0.060915271336877866,
          -0.0000032277139132893956,
          0.18287493125951662,
          -0.02278675614688225,
          -0.026693779293725774,
          -0.06960903029262505,
          -0.0898445028145975,
          -0.07037658834121421,
          -0.039686598652435165,
          -0.10267938274012207,
          -0.015242640603893414,
          -0.031669034134087795,
          -0.0019130251440311885,
          -0.027810578324482495,
          -0.06550314006019999,
          -0.07380401620783941,
          -0.02301500228222522,
          -0.022092236081842152,
          -0.05100886791827583,
          0.2593783417066596,
          -0.06550946295617072,
          -0.04435333618622768,
          -0.09173923486122033,
          -0.025904747512722134,
          -0.07021841273181822,
          -0.05621553100981947,
          -0.10825576515334907,
          -0.003428102528998537,
          -0.020729288192513524,
          -0.07731411974434954,
          -0.07214861198813008,
          -0.0341279496243653,
          -0.04823361873591816,
          -0.0048171594447814145,
          -0.019794262410411254,
          -0.0009135649545128667,
          -0.05383816433881693,
          -0.04120534967524579,
          -0.03941847223489407,
          -0.015422584245459642,
          -0.02886069472555467,
          -0.025478133637503626,
          -0.038426997581461696,
          -0.04672768050517011,
          -0.03535640136267287,
          -0.03501532578929642,
          -0.005858357327237131,
          -0.052992733595138015,
          -0.024145218106339225,
          0.5953332947299593,
          -0.06384426532886131,
          -0.04142184441783728,
          -0.044006317336025995,
          -0.03851899712626431,
          -0.026677226786564305,
          -0.006262513842129213,
          -0.000010471243120809404,
          -0.039360089430193035,
          -0.06272942405240027,
          0.34532869197798827,
          -0.07766381439640099,
          -0.0473500811294291,
          -0.044472080856931676,
          -0.07192339587699192,
          -0.03182853329551652,
          -0.02302658457805124,
          -0.03718110071867038,
          -0.08668594907577783,
          -4.900526113862811e-7,
          -0.03557212257561194,
          -0.034532987621000245,
          -0.009520423351238257,
          -0.02748001990466935,
          -0.18859256793606027,
          -0.173222821037273,
          -0.02557272200508861,
          -0.04102438727617519,
          0.0006799002689777361,
          0.6022667961806303,
          -0.030525648177865825,
          -0.025915867230394227,
          -0.035234055396028655,
          -0.09385869735235265,
          0.3867635713393942,
          -0.025138194049152216,
          -0.024683521905842488,
          -0.0601424584036699,
          -0.0274166939466015,
          -0.10045196298909714,
          -0.11648673092496245,
          -0.06367186502214554,
          -0.09414557602820581,
          0.000011754137968468193,
          -0.021214580967336513,
          -0.05346713456181621,
          -0.05673751240552326,
          0.2081385907916538,
          -0.03741966826869265,
          -0.018842260391267535,
          -0.03278964790040229,
          -0.0650549613718853,
          -0.005915726594485918,
          -0.05554515933715046,
          0.7841007006237162,
          -0.017110385837825787,
          -0.07025545427864231,
          -0.002735025069227835,
          -0.0071509825973841736,
          -0.06161440899107573,
          -0.06550688822370859,
          -0.11899405736928961,
          -0.046261860796370326,
          -0.027861498386816817,
          -0.07738699614692633,
          -0.03536196855476788,
          -0.053985891585064304,
          -0.04142271799415212,
          -0.03717515355472722,
          -0.05759454447140771,
          -0.04777477747686344,
          -0.06734896565905239,
          -0.017396001991553313,
          -0.09001459982148266,
          -0.04746425117953321,
          -0.03566474501467052,
          -0.08240873804775813,
          -0.11224744820189869,
          -0.012839764784130278,
          -0.03626603902698527,
          -0.08008627758070885,
          -0.03554925413930621,
          -0.0685544263782012,
          -0.1098878976049846,
          -0.03499503895327311,
          -0.04488481454168406,
          -0.05566606779806094,
          -0.0032607156681416513,
          -0.053925687040082874,
          -0.04758231417979413,
          -0.04643160153752021,
          -0.012306397258879755,
          -0.027016407782190274,
          -0.0500352646661715,
          -0.08306787774324043,
          -0.03233456423176566,
          -0.025389884762992823,
          -0.04740807582974848,
          0.2588769627531542,
          -0.007192818440165417,
          -0.0364820633503253,
          -0.06198604022803655,
          -0.033340728137420915,
          -0.06924769733592134,
          -0.042604785449638444,
          -0.04277651957094884,
          -0.05251211002054474,
          -0.0314649794029493,
          -0.05028592563671066,
          -0.06528795200004033,
          -0.04327665178275571,
          -0.055340586381666695,
          -0.04619442425756792,
          -0.009854788396223963,
          -0.04578870393322748,
          -0.021535014876729132,
          -0.08230020197252194,
          -0.09473174866698839,
          -0.07926159681253014,
          0.0000012839472999986165,
          -0.04046425863005537,
          -0.006231242910948343,
          -0.027603745216980058,
          -0.041473550984586945,
          0.000009286994448905288,
          -0.030309172353090674,
          -0.03884829579847222,
          -0.02594813314799866,
          -0.10688709124188726,
          0.3290566639663912,
          -0.06912019250437322,
          -0.03888615914836616,
          -0.15188130552881576,
          -0.014046618076258583,
          -0.046971532818784946,
          -0.05995968770897195,
          -0.005147574509594981,
          -0.036969355144982466,
          -0.08983145169802197,
          -0.010283943973655152,
          -0.0789051034379013,
          -0.06399418382590208,
          -0.04602961409393179,
          -0.013476943983809074,
          -0.0030812304352501444,
          -0.15336219955569289,
          -0.05640239703548205,
          -0.04770200641269662,
          -0.030937513634249004,
          -0.03751555756579823,
          -0.02168256268143752,
          -0.04302091918034086,
          -0.005630347855028616,
          -0.022089857202255394,
          -0.04351843720098624,
          -0.14297625279471243,
          -0.00037333113703375166,
          -0.07073463986479782,
          -0.007976998881323779,
          -0.049157518663561356,
          -0.03731651695194471,
          -0.028591830399512984,
          -0.15642482279896477,
          -0.038583272235172154,
          -0.022850208019434798,
          -0.04738151148866787,
          -0.01115798636909832,
          -0.033373672532820246,
          -0.009890008920743154,
          -0.04408501548459748,
          -0.04783069641320399,
          -0.06842549230579938,
          -0.03454394805722918,
          -0.059276706323768615,
          -0.05600846503309493,
          -0.025150139099294144,
          -0.06674065998369218,
          -0.10165572028129043,
          -0.08036972904651242,
          -0.004796723047451935,
          -0.03915573040897934,
          -0.05850929850267012,
          -0.0119849436751138,
          -0.03616260004104995,
          -0.035108446431286924,
          -0.0338670514064979,
          -0.00007707037009181197,
          -0.049784900192642194,
          -0.024305114717834614,
          -0.08191525175531623,
          -0.09079797300196468,
          -0.0520100641364991,
          -0.14282445079949224,
          -0.06507582425600673
         ],
         "yaxis": "y"
        }
       ],
       "layout": {
        "font": {
         "color": "RebeccaPurple",
         "family": "Arial, sans-serif",
         "size": 12
        },
        "height": 1400,
        "legend": {
         "tracegroupgap": 0
        },
        "template": {
         "data": {
          "bar": [
           {
            "error_x": {
             "color": "#2a3f5f"
            },
            "error_y": {
             "color": "#2a3f5f"
            },
            "marker": {
             "line": {
              "color": "#E5ECF6",
              "width": 0.5
             },
             "pattern": {
              "fillmode": "overlay",
              "size": 10,
              "solidity": 0.2
             }
            },
            "type": "bar"
           }
          ],
          "barpolar": [
           {
            "marker": {
             "line": {
              "color": "#E5ECF6",
              "width": 0.5
             },
             "pattern": {
              "fillmode": "overlay",
              "size": 10,
              "solidity": 0.2
             }
            },
            "type": "barpolar"
           }
          ],
          "carpet": [
           {
            "aaxis": {
             "endlinecolor": "#2a3f5f",
             "gridcolor": "white",
             "linecolor": "white",
             "minorgridcolor": "white",
             "startlinecolor": "#2a3f5f"
            },
            "baxis": {
             "endlinecolor": "#2a3f5f",
             "gridcolor": "white",
             "linecolor": "white",
             "minorgridcolor": "white",
             "startlinecolor": "#2a3f5f"
            },
            "type": "carpet"
           }
          ],
          "choropleth": [
           {
            "colorbar": {
             "outlinewidth": 0,
             "ticks": ""
            },
            "type": "choropleth"
           }
          ],
          "contour": [
           {
            "colorbar": {
             "outlinewidth": 0,
             "ticks": ""
            },
            "colorscale": [
             [
              0,
              "#0d0887"
             ],
             [
              0.1111111111111111,
              "#46039f"
             ],
             [
              0.2222222222222222,
              "#7201a8"
             ],
             [
              0.3333333333333333,
              "#9c179e"
             ],
             [
              0.4444444444444444,
              "#bd3786"
             ],
             [
              0.5555555555555556,
              "#d8576b"
             ],
             [
              0.6666666666666666,
              "#ed7953"
             ],
             [
              0.7777777777777778,
              "#fb9f3a"
             ],
             [
              0.8888888888888888,
              "#fdca26"
             ],
             [
              1,
              "#f0f921"
             ]
            ],
            "type": "contour"
           }
          ],
          "contourcarpet": [
           {
            "colorbar": {
             "outlinewidth": 0,
             "ticks": ""
            },
            "type": "contourcarpet"
           }
          ],
          "heatmap": [
           {
            "colorbar": {
             "outlinewidth": 0,
             "ticks": ""
            },
            "colorscale": [
             [
              0,
              "#0d0887"
             ],
             [
              0.1111111111111111,
              "#46039f"
             ],
             [
              0.2222222222222222,
              "#7201a8"
             ],
             [
              0.3333333333333333,
              "#9c179e"
             ],
             [
              0.4444444444444444,
              "#bd3786"
             ],
             [
              0.5555555555555556,
              "#d8576b"
             ],
             [
              0.6666666666666666,
              "#ed7953"
             ],
             [
              0.7777777777777778,
              "#fb9f3a"
             ],
             [
              0.8888888888888888,
              "#fdca26"
             ],
             [
              1,
              "#f0f921"
             ]
            ],
            "type": "heatmap"
           }
          ],
          "heatmapgl": [
           {
            "colorbar": {
             "outlinewidth": 0,
             "ticks": ""
            },
            "colorscale": [
             [
              0,
              "#0d0887"
             ],
             [
              0.1111111111111111,
              "#46039f"
             ],
             [
              0.2222222222222222,
              "#7201a8"
             ],
             [
              0.3333333333333333,
              "#9c179e"
             ],
             [
              0.4444444444444444,
              "#bd3786"
             ],
             [
              0.5555555555555556,
              "#d8576b"
             ],
             [
              0.6666666666666666,
              "#ed7953"
             ],
             [
              0.7777777777777778,
              "#fb9f3a"
             ],
             [
              0.8888888888888888,
              "#fdca26"
             ],
             [
              1,
              "#f0f921"
             ]
            ],
            "type": "heatmapgl"
           }
          ],
          "histogram": [
           {
            "marker": {
             "pattern": {
              "fillmode": "overlay",
              "size": 10,
              "solidity": 0.2
             }
            },
            "type": "histogram"
           }
          ],
          "histogram2d": [
           {
            "colorbar": {
             "outlinewidth": 0,
             "ticks": ""
            },
            "colorscale": [
             [
              0,
              "#0d0887"
             ],
             [
              0.1111111111111111,
              "#46039f"
             ],
             [
              0.2222222222222222,
              "#7201a8"
             ],
             [
              0.3333333333333333,
              "#9c179e"
             ],
             [
              0.4444444444444444,
              "#bd3786"
             ],
             [
              0.5555555555555556,
              "#d8576b"
             ],
             [
              0.6666666666666666,
              "#ed7953"
             ],
             [
              0.7777777777777778,
              "#fb9f3a"
             ],
             [
              0.8888888888888888,
              "#fdca26"
             ],
             [
              1,
              "#f0f921"
             ]
            ],
            "type": "histogram2d"
           }
          ],
          "histogram2dcontour": [
           {
            "colorbar": {
             "outlinewidth": 0,
             "ticks": ""
            },
            "colorscale": [
             [
              0,
              "#0d0887"
             ],
             [
              0.1111111111111111,
              "#46039f"
             ],
             [
              0.2222222222222222,
              "#7201a8"
             ],
             [
              0.3333333333333333,
              "#9c179e"
             ],
             [
              0.4444444444444444,
              "#bd3786"
             ],
             [
              0.5555555555555556,
              "#d8576b"
             ],
             [
              0.6666666666666666,
              "#ed7953"
             ],
             [
              0.7777777777777778,
              "#fb9f3a"
             ],
             [
              0.8888888888888888,
              "#fdca26"
             ],
             [
              1,
              "#f0f921"
             ]
            ],
            "type": "histogram2dcontour"
           }
          ],
          "mesh3d": [
           {
            "colorbar": {
             "outlinewidth": 0,
             "ticks": ""
            },
            "type": "mesh3d"
           }
          ],
          "parcoords": [
           {
            "line": {
             "colorbar": {
              "outlinewidth": 0,
              "ticks": ""
             }
            },
            "type": "parcoords"
           }
          ],
          "pie": [
           {
            "automargin": true,
            "type": "pie"
           }
          ],
          "scatter": [
           {
            "fillpattern": {
             "fillmode": "overlay",
             "size": 10,
             "solidity": 0.2
            },
            "type": "scatter"
           }
          ],
          "scatter3d": [
           {
            "line": {
             "colorbar": {
              "outlinewidth": 0,
              "ticks": ""
             }
            },
            "marker": {
             "colorbar": {
              "outlinewidth": 0,
              "ticks": ""
             }
            },
            "type": "scatter3d"
           }
          ],
          "scattercarpet": [
           {
            "marker": {
             "colorbar": {
              "outlinewidth": 0,
              "ticks": ""
             }
            },
            "type": "scattercarpet"
           }
          ],
          "scattergeo": [
           {
            "marker": {
             "colorbar": {
              "outlinewidth": 0,
              "ticks": ""
             }
            },
            "type": "scattergeo"
           }
          ],
          "scattergl": [
           {
            "marker": {
             "colorbar": {
              "outlinewidth": 0,
              "ticks": ""
             }
            },
            "type": "scattergl"
           }
          ],
          "scattermapbox": [
           {
            "marker": {
             "colorbar": {
              "outlinewidth": 0,
              "ticks": ""
             }
            },
            "type": "scattermapbox"
           }
          ],
          "scatterpolar": [
           {
            "marker": {
             "colorbar": {
              "outlinewidth": 0,
              "ticks": ""
             }
            },
            "type": "scatterpolar"
           }
          ],
          "scatterpolargl": [
           {
            "marker": {
             "colorbar": {
              "outlinewidth": 0,
              "ticks": ""
             }
            },
            "type": "scatterpolargl"
           }
          ],
          "scatterternary": [
           {
            "marker": {
             "colorbar": {
              "outlinewidth": 0,
              "ticks": ""
             }
            },
            "type": "scatterternary"
           }
          ],
          "surface": [
           {
            "colorbar": {
             "outlinewidth": 0,
             "ticks": ""
            },
            "colorscale": [
             [
              0,
              "#0d0887"
             ],
             [
              0.1111111111111111,
              "#46039f"
             ],
             [
              0.2222222222222222,
              "#7201a8"
             ],
             [
              0.3333333333333333,
              "#9c179e"
             ],
             [
              0.4444444444444444,
              "#bd3786"
             ],
             [
              0.5555555555555556,
              "#d8576b"
             ],
             [
              0.6666666666666666,
              "#ed7953"
             ],
             [
              0.7777777777777778,
              "#fb9f3a"
             ],
             [
              0.8888888888888888,
              "#fdca26"
             ],
             [
              1,
              "#f0f921"
             ]
            ],
            "type": "surface"
           }
          ],
          "table": [
           {
            "cells": {
             "fill": {
              "color": "#EBF0F8"
             },
             "line": {
              "color": "white"
             }
            },
            "header": {
             "fill": {
              "color": "#C8D4E3"
             },
             "line": {
              "color": "white"
             }
            },
            "type": "table"
           }
          ]
         },
         "layout": {
          "annotationdefaults": {
           "arrowcolor": "#2a3f5f",
           "arrowhead": 0,
           "arrowwidth": 1
          },
          "autotypenumbers": "strict",
          "coloraxis": {
           "colorbar": {
            "outlinewidth": 0,
            "ticks": ""
           }
          },
          "colorscale": {
           "diverging": [
            [
             0,
             "#8e0152"
            ],
            [
             0.1,
             "#c51b7d"
            ],
            [
             0.2,
             "#de77ae"
            ],
            [
             0.3,
             "#f1b6da"
            ],
            [
             0.4,
             "#fde0ef"
            ],
            [
             0.5,
             "#f7f7f7"
            ],
            [
             0.6,
             "#e6f5d0"
            ],
            [
             0.7,
             "#b8e186"
            ],
            [
             0.8,
             "#7fbc41"
            ],
            [
             0.9,
             "#4d9221"
            ],
            [
             1,
             "#276419"
            ]
           ],
           "sequential": [
            [
             0,
             "#0d0887"
            ],
            [
             0.1111111111111111,
             "#46039f"
            ],
            [
             0.2222222222222222,
             "#7201a8"
            ],
            [
             0.3333333333333333,
             "#9c179e"
            ],
            [
             0.4444444444444444,
             "#bd3786"
            ],
            [
             0.5555555555555556,
             "#d8576b"
            ],
            [
             0.6666666666666666,
             "#ed7953"
            ],
            [
             0.7777777777777778,
             "#fb9f3a"
            ],
            [
             0.8888888888888888,
             "#fdca26"
            ],
            [
             1,
             "#f0f921"
            ]
           ],
           "sequentialminus": [
            [
             0,
             "#0d0887"
            ],
            [
             0.1111111111111111,
             "#46039f"
            ],
            [
             0.2222222222222222,
             "#7201a8"
            ],
            [
             0.3333333333333333,
             "#9c179e"
            ],
            [
             0.4444444444444444,
             "#bd3786"
            ],
            [
             0.5555555555555556,
             "#d8576b"
            ],
            [
             0.6666666666666666,
             "#ed7953"
            ],
            [
             0.7777777777777778,
             "#fb9f3a"
            ],
            [
             0.8888888888888888,
             "#fdca26"
            ],
            [
             1,
             "#f0f921"
            ]
           ]
          },
          "colorway": [
           "#636efa",
           "#EF553B",
           "#00cc96",
           "#ab63fa",
           "#FFA15A",
           "#19d3f3",
           "#FF6692",
           "#B6E880",
           "#FF97FF",
           "#FECB52"
          ],
          "font": {
           "color": "#2a3f5f"
          },
          "geo": {
           "bgcolor": "white",
           "lakecolor": "white",
           "landcolor": "#E5ECF6",
           "showlakes": true,
           "showland": true,
           "subunitcolor": "white"
          },
          "hoverlabel": {
           "align": "left"
          },
          "hovermode": "closest",
          "mapbox": {
           "style": "light"
          },
          "paper_bgcolor": "white",
          "plot_bgcolor": "#E5ECF6",
          "polar": {
           "angularaxis": {
            "gridcolor": "white",
            "linecolor": "white",
            "ticks": ""
           },
           "bgcolor": "#E5ECF6",
           "radialaxis": {
            "gridcolor": "white",
            "linecolor": "white",
            "ticks": ""
           }
          },
          "scene": {
           "xaxis": {
            "backgroundcolor": "#E5ECF6",
            "gridcolor": "white",
            "gridwidth": 2,
            "linecolor": "white",
            "showbackground": true,
            "ticks": "",
            "zerolinecolor": "white"
           },
           "yaxis": {
            "backgroundcolor": "#E5ECF6",
            "gridcolor": "white",
            "gridwidth": 2,
            "linecolor": "white",
            "showbackground": true,
            "ticks": "",
            "zerolinecolor": "white"
           },
           "zaxis": {
            "backgroundcolor": "#E5ECF6",
            "gridcolor": "white",
            "gridwidth": 2,
            "linecolor": "white",
            "showbackground": true,
            "ticks": "",
            "zerolinecolor": "white"
           }
          },
          "shapedefaults": {
           "line": {
            "color": "#2a3f5f"
           }
          },
          "ternary": {
           "aaxis": {
            "gridcolor": "white",
            "linecolor": "white",
            "ticks": ""
           },
           "baxis": {
            "gridcolor": "white",
            "linecolor": "white",
            "ticks": ""
           },
           "bgcolor": "#E5ECF6",
           "caxis": {
            "gridcolor": "white",
            "linecolor": "white",
            "ticks": ""
           }
          },
          "title": {
           "x": 0.05
          },
          "xaxis": {
           "automargin": true,
           "gridcolor": "white",
           "linecolor": "white",
           "ticks": "",
           "title": {
            "standoff": 15
           },
           "zerolinecolor": "white",
           "zerolinewidth": 2
          },
          "yaxis": {
           "automargin": true,
           "gridcolor": "white",
           "linecolor": "white",
           "ticks": "",
           "title": {
            "standoff": 15
           },
           "zerolinecolor": "white",
           "zerolinewidth": 2
          }
         }
        },
        "title": {
         "text": "Wizualizacja LSA"
        },
        "width": 2000,
        "xaxis": {
         "anchor": "y",
         "domain": [
          0,
          1
         ],
         "title": {
          "text": "Component 1"
         }
        },
        "yaxis": {
         "anchor": "x",
         "domain": [
          0,
          1
         ],
         "title": {
          "text": "Component 2"
         }
        }
       }
      }
     },
     "metadata": {},
     "output_type": "display_data"
    }
   ],
   "source": [
    "import pandas as pd\n",
    "import spacy\n",
    "from sklearn.decomposition import TruncatedSVD\n",
    "from sklearn.feature_extraction.text import TfidfVectorizer\n",
    "import plotly.express as px\n",
    "\n",
    "\n",
    "df = df_for_analysis\n",
    "nlp = spacy.load(\"pl_core_news_sm\")\n",
    "\n",
    "\n",
    "def my_tokenizer(text):\n",
    "    doc = nlp(text)\n",
    "    return [token.lemma_ for token in doc if not token.is_stop and not token.is_punct]\n",
    "\n",
    "\n",
    "vectorizer = TfidfVectorizer(tokenizer=my_tokenizer)\n",
    "X = vectorizer.fit_transform(df['text'])\n",
    "\n",
    "svd = TruncatedSVD(n_components=2)\n",
    "Z = svd.fit_transform(X)\n",
    "\n",
    "\n",
    "df_result = pd.DataFrame(Z, columns=['Component 1', 'Component 2'])\n",
    "df_result['text'] = df['text']\n",
    "\n",
    "fig = px.scatter(df_result, \n",
    "                 x='Component 1', \n",
    "                 y='Component 2', \n",
    "                 text='text',  \n",
    "                 title='Wizualizacja LSA', \n",
    "                 width=2000, \n",
    "                 height=1400)\n",
    "\n",
    "fig.update_traces(\n",
    "    textposition='top center'\n",
    ")\n",
    "\n",
    "\n",
    "fig.update_layout(\n",
    "    font=dict(\n",
    "        family=\"Arial, sans-serif\", \n",
    "        size=12,\n",
    "        color=\"RebeccaPurple\"\n",
    "    )\n",
    ")\n",
    "\n",
    "fig.show()"
   ]
  }
 ],
 "metadata": {
  "kernelspec": {
   "display_name": "NLP",
   "language": "python",
   "name": "python3"
  },
  "language_info": {
   "codemirror_mode": {
    "name": "ipython",
    "version": 3
   },
   "file_extension": ".py",
   "mimetype": "text/x-python",
   "name": "python",
   "nbconvert_exporter": "python",
   "pygments_lexer": "ipython3",
   "version": "3.10.15"
  }
 },
 "nbformat": 4,
 "nbformat_minor": 2
}
