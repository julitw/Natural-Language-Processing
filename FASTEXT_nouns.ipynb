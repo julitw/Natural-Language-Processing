{
 "cells": [
  {
   "cell_type": "code",
   "execution_count": 40,
   "metadata": {},
   "outputs": [],
   "source": [
    "import fasttext\n",
    "import pandas as pd\n",
    "import re\n",
    "\n",
    "from sklearn.manifold import TSNE\n",
    "import plotly.express as px\n",
    "import numpy as np\n",
    "import plotly.graph_objects as go\n",
    "import matplotlib.pyplot as plt\n",
    "import statsmodels.stats.inter_rater as irr\n",
    "import seaborn as sns\n",
    "from sklearn.preprocessing import StandardScaler"
   ]
  },
  {
   "cell_type": "code",
   "execution_count": 41,
   "metadata": {},
   "outputs": [],
   "source": [
    "\n",
    "model = fasttext.load_model('/home/julita/Desktop/semestr2/NLP/cc.pl.300.bin')"
   ]
  },
  {
   "cell_type": "code",
   "execution_count": 42,
   "metadata": {},
   "outputs": [
    {
     "data": {
      "text/html": [
       "<div>\n",
       "<style scoped>\n",
       "    .dataframe tbody tr th:only-of-type {\n",
       "        vertical-align: middle;\n",
       "    }\n",
       "\n",
       "    .dataframe tbody tr th {\n",
       "        vertical-align: top;\n",
       "    }\n",
       "\n",
       "    .dataframe thead th {\n",
       "        text-align: right;\n",
       "    }\n",
       "</style>\n",
       "<table border=\"1\" class=\"dataframe\">\n",
       "  <thead>\n",
       "    <tr style=\"text-align: right;\">\n",
       "      <th></th>\n",
       "      <th>nouns</th>\n",
       "      <th>label1</th>\n",
       "      <th>label2</th>\n",
       "      <th>label3</th>\n",
       "      <th>SUPERanotator</th>\n",
       "      <th>Unnamed: 5</th>\n",
       "      <th>Unnamed: 6</th>\n",
       "      <th>Unnamed: 7</th>\n",
       "      <th>Unnamed: 8</th>\n",
       "      <th>Unnamed: 9</th>\n",
       "      <th>Unnamed: 10</th>\n",
       "      <th>Unnamed: 11</th>\n",
       "    </tr>\n",
       "  </thead>\n",
       "  <tbody>\n",
       "    <tr>\n",
       "      <th>0</th>\n",
       "      <td>LUDZIE</td>\n",
       "      <td>0.0</td>\n",
       "      <td>0.0</td>\n",
       "      <td>0.0</td>\n",
       "      <td>0.0</td>\n",
       "      <td>NaN</td>\n",
       "      <td>NaN</td>\n",
       "      <td>NaN</td>\n",
       "      <td>NaN</td>\n",
       "      <td>NaN</td>\n",
       "      <td>NaN</td>\n",
       "      <td>NaN</td>\n",
       "    </tr>\n",
       "    <tr>\n",
       "      <th>1</th>\n",
       "      <td>RESTAURACJA</td>\n",
       "      <td>1.0</td>\n",
       "      <td>1.0</td>\n",
       "      <td>1.0</td>\n",
       "      <td>1.0</td>\n",
       "      <td>NaN</td>\n",
       "      <td>NaN</td>\n",
       "      <td>do 200 wszystkie</td>\n",
       "      <td>NaN</td>\n",
       "      <td>NaN</td>\n",
       "      <td>2. Anotacja według semantyki (znaczenia)\\nOsob...</td>\n",
       "      <td>NaN</td>\n",
       "    </tr>\n",
       "    <tr>\n",
       "      <th>2</th>\n",
       "      <td>pomoc</td>\n",
       "      <td>2.0</td>\n",
       "      <td>2.0</td>\n",
       "      <td>2.0</td>\n",
       "      <td>2.0</td>\n",
       "      <td>NaN</td>\n",
       "      <td>NaN</td>\n",
       "      <td>od 201 do 300 Iza</td>\n",
       "      <td>NaN</td>\n",
       "      <td>NaN</td>\n",
       "      <td>NaN</td>\n",
       "      <td>NaN</td>\n",
       "    </tr>\n",
       "    <tr>\n",
       "      <th>3</th>\n",
       "      <td>świat</td>\n",
       "      <td>3.0</td>\n",
       "      <td>3.0</td>\n",
       "      <td>3.0</td>\n",
       "      <td>3.0</td>\n",
       "      <td>NaN</td>\n",
       "      <td>NaN</td>\n",
       "      <td>później jakoś tam</td>\n",
       "      <td>NaN</td>\n",
       "      <td>NaN</td>\n",
       "      <td>NaN</td>\n",
       "      <td>NaN</td>\n",
       "    </tr>\n",
       "    <tr>\n",
       "      <th>4</th>\n",
       "      <td>kurtkę</td>\n",
       "      <td>1.0</td>\n",
       "      <td>1.0</td>\n",
       "      <td>1.0</td>\n",
       "      <td>1.0</td>\n",
       "      <td>NaN</td>\n",
       "      <td>NaN</td>\n",
       "      <td>od 301 do 400  Julita</td>\n",
       "      <td>NaN</td>\n",
       "      <td>NaN</td>\n",
       "      <td>NaN</td>\n",
       "      <td>NaN</td>\n",
       "    </tr>\n",
       "    <tr>\n",
       "      <th>...</th>\n",
       "      <td>...</td>\n",
       "      <td>...</td>\n",
       "      <td>...</td>\n",
       "      <td>...</td>\n",
       "      <td>...</td>\n",
       "      <td>...</td>\n",
       "      <td>...</td>\n",
       "      <td>...</td>\n",
       "      <td>...</td>\n",
       "      <td>...</td>\n",
       "      <td>...</td>\n",
       "      <td>...</td>\n",
       "    </tr>\n",
       "    <tr>\n",
       "      <th>629</th>\n",
       "      <td>inwestor</td>\n",
       "      <td>NaN</td>\n",
       "      <td>NaN</td>\n",
       "      <td>NaN</td>\n",
       "      <td>NaN</td>\n",
       "      <td>NaN</td>\n",
       "      <td>NaN</td>\n",
       "      <td>NaN</td>\n",
       "      <td>NaN</td>\n",
       "      <td>NaN</td>\n",
       "      <td>NaN</td>\n",
       "      <td>NaN</td>\n",
       "    </tr>\n",
       "    <tr>\n",
       "      <th>630</th>\n",
       "      <td>wycofał</td>\n",
       "      <td>NaN</td>\n",
       "      <td>NaN</td>\n",
       "      <td>NaN</td>\n",
       "      <td>NaN</td>\n",
       "      <td>NaN</td>\n",
       "      <td>NaN</td>\n",
       "      <td>NaN</td>\n",
       "      <td>NaN</td>\n",
       "      <td>NaN</td>\n",
       "      <td>NaN</td>\n",
       "      <td>NaN</td>\n",
       "    </tr>\n",
       "    <tr>\n",
       "      <th>631</th>\n",
       "      <td>slabo</td>\n",
       "      <td>NaN</td>\n",
       "      <td>NaN</td>\n",
       "      <td>NaN</td>\n",
       "      <td>NaN</td>\n",
       "      <td>NaN</td>\n",
       "      <td>NaN</td>\n",
       "      <td>NaN</td>\n",
       "      <td>NaN</td>\n",
       "      <td>NaN</td>\n",
       "      <td>NaN</td>\n",
       "      <td>NaN</td>\n",
       "    </tr>\n",
       "    <tr>\n",
       "      <th>632</th>\n",
       "      <td>dzieci</td>\n",
       "      <td>NaN</td>\n",
       "      <td>NaN</td>\n",
       "      <td>NaN</td>\n",
       "      <td>NaN</td>\n",
       "      <td>NaN</td>\n",
       "      <td>NaN</td>\n",
       "      <td>NaN</td>\n",
       "      <td>NaN</td>\n",
       "      <td>NaN</td>\n",
       "      <td>NaN</td>\n",
       "      <td>NaN</td>\n",
       "    </tr>\n",
       "    <tr>\n",
       "      <th>633</th>\n",
       "      <td>liga</td>\n",
       "      <td>NaN</td>\n",
       "      <td>NaN</td>\n",
       "      <td>NaN</td>\n",
       "      <td>NaN</td>\n",
       "      <td>NaN</td>\n",
       "      <td>NaN</td>\n",
       "      <td>NaN</td>\n",
       "      <td>NaN</td>\n",
       "      <td>NaN</td>\n",
       "      <td>NaN</td>\n",
       "      <td>NaN</td>\n",
       "    </tr>\n",
       "  </tbody>\n",
       "</table>\n",
       "<p>634 rows × 12 columns</p>\n",
       "</div>"
      ],
      "text/plain": [
       "           nouns  label1  label2  label3  SUPERanotator Unnamed: 5  \\\n",
       "0         LUDZIE     0.0     0.0     0.0            0.0        NaN   \n",
       "1    RESTAURACJA     1.0     1.0     1.0            1.0        NaN   \n",
       "2          pomoc     2.0     2.0     2.0            2.0        NaN   \n",
       "3          świat     3.0     3.0     3.0            3.0        NaN   \n",
       "4         kurtkę     1.0     1.0     1.0            1.0        NaN   \n",
       "..           ...     ...     ...     ...            ...        ...   \n",
       "629     inwestor     NaN     NaN     NaN            NaN        NaN   \n",
       "630      wycofał     NaN     NaN     NaN            NaN        NaN   \n",
       "631        slabo     NaN     NaN     NaN            NaN        NaN   \n",
       "632       dzieci     NaN     NaN     NaN            NaN        NaN   \n",
       "633         liga     NaN     NaN     NaN            NaN        NaN   \n",
       "\n",
       "     Unnamed: 6             Unnamed: 7  Unnamed: 8  Unnamed: 9  \\\n",
       "0           NaN                    NaN         NaN         NaN   \n",
       "1           NaN       do 200 wszystkie         NaN         NaN   \n",
       "2           NaN      od 201 do 300 Iza         NaN         NaN   \n",
       "3           NaN      później jakoś tam         NaN         NaN   \n",
       "4           NaN  od 301 do 400  Julita         NaN         NaN   \n",
       "..          ...                    ...         ...         ...   \n",
       "629         NaN                    NaN         NaN         NaN   \n",
       "630         NaN                    NaN         NaN         NaN   \n",
       "631         NaN                    NaN         NaN         NaN   \n",
       "632         NaN                    NaN         NaN         NaN   \n",
       "633         NaN                    NaN         NaN         NaN   \n",
       "\n",
       "                                           Unnamed: 10 Unnamed: 11  \n",
       "0                                                  NaN         NaN  \n",
       "1    2. Anotacja według semantyki (znaczenia)\\nOsob...         NaN  \n",
       "2                                                  NaN         NaN  \n",
       "3                                                  NaN         NaN  \n",
       "4                                                  NaN         NaN  \n",
       "..                                                 ...         ...  \n",
       "629                                                NaN         NaN  \n",
       "630                                                NaN         NaN  \n",
       "631                                                NaN         NaN  \n",
       "632                                                NaN         NaN  \n",
       "633                                                NaN         NaN  \n",
       "\n",
       "[634 rows x 12 columns]"
      ]
     },
     "execution_count": 42,
     "metadata": {},
     "output_type": "execute_result"
    }
   ],
   "source": [
    "df = pd.read_excel('cyberbullying_train_words_noun.xlsx')\n",
    "df"
   ]
  },
  {
   "cell_type": "code",
   "execution_count": 43,
   "metadata": {},
   "outputs": [],
   "source": [
    "df_for_analysis = df[['nouns', 'SUPERanotator']][:601]\n",
    "df_for_analysis.columns = ['nouns', 'labels']"
   ]
  },
  {
   "cell_type": "code",
   "execution_count": 45,
   "metadata": {},
   "outputs": [
    {
     "data": {
      "text/plain": [
       "array([0., 1., 2., 3.])"
      ]
     },
     "execution_count": 45,
     "metadata": {},
     "output_type": "execute_result"
    }
   ],
   "source": [
    "df_for_analysis['labels'].unique()"
   ]
  },
  {
   "cell_type": "markdown",
   "metadata": {},
   "source": [
    "# Kappa-Cohen, Kappa-Fleissa"
   ]
  },
  {
   "cell_type": "code",
   "execution_count": 46,
   "metadata": {},
   "outputs": [],
   "source": [
    "from sklearn.metrics import cohen_kappa_score\n",
    "from statsmodels.stats.inter_rater import fleiss_kappa"
   ]
  },
  {
   "cell_type": "code",
   "execution_count": 47,
   "metadata": {},
   "outputs": [],
   "source": [
    "df_part1 = df[:100].iloc[:,  :-2]\n",
    "df_part2 = df[101:199].iloc[:,  :-2].reset_index()"
   ]
  },
  {
   "cell_type": "code",
   "execution_count": 48,
   "metadata": {},
   "outputs": [
    {
     "name": "stdout",
     "output_type": "stream",
     "text": [
      "Kappa-Cohen (label1, label2): 0.8543335761107065\n",
      "Kappa-Cohen (label1, label3): 0.855595667870036\n",
      "Kappa-Cohen (label2, label3): 0.9473129610115911\n",
      "Kappa-Cohen mean part1: 0.8857474016641111\n"
     ]
    }
   ],
   "source": [
    "kappa_cohen_1_2 = cohen_kappa_score(df_part1['label1'], df_part1['label2'])\n",
    "kappa_cohen_1_3 = cohen_kappa_score(df_part1['label1'], df_part1['label3'])\n",
    "kappa_cohen_2_3 = cohen_kappa_score(df_part1['label2'], df_part1['label3'])\n",
    "mean_part1 = (kappa_cohen_1_2  + kappa_cohen_1_3 + kappa_cohen_2_3 )/3\n",
    "\n",
    "print(\"Kappa-Cohen (label1, label2):\", kappa_cohen_1_2)\n",
    "print(\"Kappa-Cohen (label1, label3):\", kappa_cohen_1_3)\n",
    "print(\"Kappa-Cohen (label2, label3):\", kappa_cohen_2_3)\n",
    "print(\"Kappa-Cohen mean part1:\", mean_part1)"
   ]
  },
  {
   "cell_type": "code",
   "execution_count": 50,
   "metadata": {},
   "outputs": [
    {
     "name": "stdout",
     "output_type": "stream",
     "text": [
      "Kappa-Cohen (label1, label2): 0.9459757442116868\n",
      "Kappa-Cohen (label1, label3): 0.8903803131991052\n",
      "Kappa-Cohen (label2, label3): 0.8727744807121661\n",
      "Kappa-Cohen mean part 2: 0.9030435127076527\n"
     ]
    }
   ],
   "source": [
    "kappa_cohen_1_2_2 = cohen_kappa_score(df_part2['label1'], df_part2['label2'])\n",
    "kappa_cohen_1_3_2 = cohen_kappa_score(df_part2['label1'], df_part2['label3'])\n",
    "kappa_cohen_2_3_2 = cohen_kappa_score(df_part2['label2'], df_part2['label3'])\n",
    "mean_part2 = (kappa_cohen_1_2_2  + kappa_cohen_1_3_2 + kappa_cohen_2_3_2 )/3\n",
    "\n",
    "print(\"Kappa-Cohen (label1, label2):\", kappa_cohen_1_2_2)\n",
    "print(\"Kappa-Cohen (label1, label3):\", kappa_cohen_1_3_2)\n",
    "print(\"Kappa-Cohen (label2, label3):\", kappa_cohen_2_3_2)\n",
    "print(\"Kappa-Cohen mean part 2:\", mean_part2)"
   ]
  },
  {
   "cell_type": "code",
   "execution_count": 51,
   "metadata": {},
   "outputs": [],
   "source": [
    "val_part1 = [kappa_cohen_1_2, kappa_cohen_1_3, kappa_cohen_2_3, mean_part1]\n",
    "val_part2 = [kappa_cohen_1_2_2, kappa_cohen_1_3_2, kappa_cohen_2_3_2, mean_part2]"
   ]
  },
  {
   "cell_type": "code",
   "execution_count": 52,
   "metadata": {},
   "outputs": [
    {
     "data": {
      "image/png": "[encoded data removed]",
      "text/plain": [
       "<Figure size 640x480 with 1 Axes>"
      ]
     },
     "metadata": {},
     "output_type": "display_data"
    }
   ],
   "source": [
    "zestawy = ['Osoby 1-2', 'Osoby 1-3', 'osoby 2-3', 'Średnia']\n",
    "ind = np.arange(len(zestawy))  \n",
    "szerokość = 0.35  \n",
    "\n",
    "fig, ax = plt.subplots()\n",
    "\n",
    "bar1 = ax.bar(ind - szerokość/2, val_part1, szerokość, label='Iteracja 1 ')\n",
    "bar2 = ax.bar(ind + szerokość/2, val_part2, szerokość, label='Iteracja 2')\n",
    "\n",
    "ax.set_xlabel('Osoby')\n",
    "ax.set_ylabel('Wartości')\n",
    "ax.set_title('Wartości Kappa_cohena ')\n",
    "ax.set_xticks(ind)\n",
    "ax.set_xticklabels(zestawy)\n",
    "ax.legend()\n",
    "\n",
    "plt.tight_layout()\n",
    "plt.show()"
   ]
  },
  {
   "cell_type": "code",
   "execution_count": 53,
   "metadata": {},
   "outputs": [],
   "source": [
    "\n",
    "contingency_matrix1 = np.zeros((len(df_part1), 4), dtype=int)\n",
    "\n",
    "for i in range(len(df_part1)):\n",
    "    contingency_matrix1[i, int(df_part1['label1'][i])] += 1  \n",
    "    contingency_matrix1[i, int(df_part1['label2'][i])] += 1  \n",
    "    contingency_matrix1[i, int(df_part1['label3'][i])] += 1  \n",
    "\n",
    "fleiss_kappa1 = irr.fleiss_kappa(contingency_matrix1, method='fleiss')\n",
    "\n",
    "\n",
    "contingency_matrix2 = np.zeros((len(df_part2), 4), dtype=int)\n",
    "\n",
    "for i in range(len(df_part2)):\n",
    "    contingency_matrix2[i, int(df_part2['label1'][i])] += 1  \n",
    "    contingency_matrix2[i, int(df_part2['label2'][i])] += 1  \n",
    "    contingency_matrix2[i, int(df_part2['label3'][i])] += 1  \n",
    "\n",
    "fleiss_kappa2 = irr.fleiss_kappa(contingency_matrix2, method='fleiss')\n"
   ]
  },
  {
   "cell_type": "code",
   "execution_count": 54,
   "metadata": {},
   "outputs": [
    {
     "name": "stderr",
     "output_type": "stream",
     "text": [
      "/tmp/ipykernel_4458/4119753856.py:6: FutureWarning:\n",
      "\n",
      "\n",
      "\n",
      "Passing `palette` without assigning `hue` is deprecated and will be removed in v0.14.0. Assign the `x` variable to `hue` and set `legend=False` for the same effect.\n",
      "\n",
      "\n"
     ]
    },
    {
     "data": {
      "image/png": "[encoded data removed]",
      "text/plain": [
       "<Figure size 640x480 with 1 Axes>"
      ]
     },
     "metadata": {},
     "output_type": "display_data"
    }
   ],
   "source": [
    "df = pd.DataFrame({\n",
    "    'Part': ['Iteracja 1', 'Iteracja 2'],\n",
    "    'Kappa Score': [fleiss_kappa1, fleiss_kappa2]\n",
    "})\n",
    "\n",
    "sns.barplot(x='Part', y='Kappa Score', data=df, palette='Blues')\n",
    "\n",
    "plt.title('Fleiss\\' Kappa ')\n",
    "plt.ylabel('Kappa Score')\n",
    "plt.show()\n"
   ]
  },
  {
   "cell_type": "markdown",
   "metadata": {},
   "source": [
    "# CZĘŚĆ 2"
   ]
  },
  {
   "cell_type": "code",
   "execution_count": 55,
   "metadata": {},
   "outputs": [],
   "source": [
    "def clean_text(text):\n",
    "    text = re.sub(r'@anonymized_account', '', text)\n",
    "    text = re.sub(r'RT', '', text)\n",
    "    # text = re.sub(r'[^\\x00-\\x7F]+', '', text)\n",
    "    # text = re.sub(r'\\s+', ' ', text).strip()\n",
    "    return text"
   ]
  },
  {
   "cell_type": "code",
   "execution_count": 56,
   "metadata": {},
   "outputs": [
    {
     "data": {
      "text/html": [
       "<div>\n",
       "<style scoped>\n",
       "    .dataframe tbody tr th:only-of-type {\n",
       "        vertical-align: middle;\n",
       "    }\n",
       "\n",
       "    .dataframe tbody tr th {\n",
       "        vertical-align: top;\n",
       "    }\n",
       "\n",
       "    .dataframe thead th {\n",
       "        text-align: right;\n",
       "    }\n",
       "</style>\n",
       "<table border=\"1\" class=\"dataframe\">\n",
       "  <thead>\n",
       "    <tr style=\"text-align: right;\">\n",
       "      <th></th>\n",
       "      <th>nouns</th>\n",
       "      <th>labels</th>\n",
       "    </tr>\n",
       "  </thead>\n",
       "  <tbody>\n",
       "    <tr>\n",
       "      <th>0</th>\n",
       "      <td>LUDZIE</td>\n",
       "      <td>0.0</td>\n",
       "    </tr>\n",
       "    <tr>\n",
       "      <th>1</th>\n",
       "      <td>RESTAURACJA</td>\n",
       "      <td>1.0</td>\n",
       "    </tr>\n",
       "    <tr>\n",
       "      <th>2</th>\n",
       "      <td>pomoc</td>\n",
       "      <td>2.0</td>\n",
       "    </tr>\n",
       "    <tr>\n",
       "      <th>3</th>\n",
       "      <td>świat</td>\n",
       "      <td>3.0</td>\n",
       "    </tr>\n",
       "    <tr>\n",
       "      <th>4</th>\n",
       "      <td>kurtkę</td>\n",
       "      <td>1.0</td>\n",
       "    </tr>\n",
       "    <tr>\n",
       "      <th>...</th>\n",
       "      <td>...</td>\n",
       "      <td>...</td>\n",
       "    </tr>\n",
       "    <tr>\n",
       "      <th>596</th>\n",
       "      <td>kobietę</td>\n",
       "      <td>0.0</td>\n",
       "    </tr>\n",
       "    <tr>\n",
       "      <th>597</th>\n",
       "      <td>Mistrzowie</td>\n",
       "      <td>0.0</td>\n",
       "    </tr>\n",
       "    <tr>\n",
       "      <th>598</th>\n",
       "      <td>branża</td>\n",
       "      <td>2.0</td>\n",
       "    </tr>\n",
       "    <tr>\n",
       "      <th>599</th>\n",
       "      <td>mirda</td>\n",
       "      <td>2.0</td>\n",
       "    </tr>\n",
       "    <tr>\n",
       "      <th>600</th>\n",
       "      <td>kubeł</td>\n",
       "      <td>1.0</td>\n",
       "    </tr>\n",
       "  </tbody>\n",
       "</table>\n",
       "<p>601 rows × 2 columns</p>\n",
       "</div>"
      ],
      "text/plain": [
       "           nouns  labels\n",
       "0         LUDZIE     0.0\n",
       "1    RESTAURACJA     1.0\n",
       "2          pomoc     2.0\n",
       "3          świat     3.0\n",
       "4         kurtkę     1.0\n",
       "..           ...     ...\n",
       "596      kobietę     0.0\n",
       "597   Mistrzowie     0.0\n",
       "598       branża     2.0\n",
       "599        mirda     2.0\n",
       "600        kubeł     1.0\n",
       "\n",
       "[601 rows x 2 columns]"
      ]
     },
     "execution_count": 56,
     "metadata": {},
     "output_type": "execute_result"
    }
   ],
   "source": [
    "df_for_analysis['nouns'] = df_for_analysis['nouns'].apply(clean_text)\n",
    "df_for_analysis"
   ]
  },
  {
   "cell_type": "code",
   "execution_count": 57,
   "metadata": {},
   "outputs": [],
   "source": [
    "df_for_analysis['embedding'] = df_for_analysis['nouns'].apply(lambda x: model.get_sentence_vector(x))"
   ]
  },
  {
   "cell_type": "markdown",
   "metadata": {},
   "source": [
    "# FASTTEXT"
   ]
  },
  {
   "cell_type": "code",
   "execution_count": 60,
   "metadata": {},
   "outputs": [
    {
     "data": {
      "application/vnd.plotly.v1+json": {
       "config": {
        "plotlyServerURL": "https://plot.ly"
       },
       "data": [
        {
         "customdata": [
          [
           "LUDZIE"
          ],
          [
           "RESTAURACJA"
          ],
          [
           "pomoc"
          ],
          [
           "świat"
          ],
          [
           "kurtkę"
          ],
          [
           "milionów"
          ],
          [
           "konkretach"
          ],
          [
           "zmianę"
          ],
          [
           "ławce"
          ],
          [
           "gnojki"
          ],
          [
           "znaki"
          ],
          [
           "zapytania"
          ],
          [
           "końcu"
          ],
          [
           "wyroki"
          ],
          [
           "Sądu"
          ],
          [
           "razy"
          ],
          [
           "porównania"
          ],
          [
           "Patryk"
          ],
          [
           "wybory"
          ],
          [
           "prezydenta"
          ],
          [
           "statystyki"
          ],
          [
           "bramke"
          ],
          [
           "razu"
          ],
          [
           "ojczyźnie"
          ],
          [
           "taksówki"
          ],
          [
           "szacunek"
          ],
          [
           "oparciu"
          ],
          [
           "opinię"
          ],
          [
           "opinią"
          ],
          [
           "prezesem"
          ],
          [
           "klubu"
          ],
          [
           "przewodniczącym"
          ],
          [
           "wydziału"
          ],
          [
           "futsalu"
          ],
          [
           "limit"
          ],
          [
           "obcokrajowców"
          ],
          [
           "podstawy"
          ],
          [
           "pary"
          ],
          [
           "pedofilia"
          ],
          [
           "zboczenie"
          ],
          [
           "homoseksualizm"
          ],
          [
           "razie"
          ],
          [
           "rade"
          ],
          [
           "rekord"
          ],
          [
           "wychowanki"
          ],
          [
           "pewnością"
          ],
          [
           "sektorom"
          ],
          [
           "\\\"eksperci\\"
          ],
          [
           "rzeczy"
          ],
          [
           "gumę"
          ],
          [
           "maja"
          ],
          [
           "wsparcie"
          ],
          [
           "Pani"
          ],
          [
           "parcie"
          ],
          [
           "szklo"
          ],
          [
           "efekt"
          ],
          [
           "obcasy"
          ],
          [
           "trza"
          ],
          [
           "mecze"
          ],
          [
           "druzyn"
          ],
          [
           "meczów"
          ],
          [
           "raz"
          ],
          [
           "żołnierki"
          ],
          [
           "kwiaty"
          ],
          [
           "bach"
          ],
          [
           "kognitywistykę"
          ],
          [
           "komunikacji"
          ],
          [
           "wrażenia"
          ],
          [
           "stopień"
          ],
          [
           "urlopie"
          ],
          [
           "państwo"
          ],
          [
           "propagandę"
          ],
          [
           "karpie"
          ],
          [
           "słów"
          ],
          [
           "temat"
          ],
          [
           "jeziora"
          ],
          [
           "Modric"
          ],
          [
           "Rakitic"
          ],
          [
           "momentach"
          ],
          [
           "oryginał"
          ],
          [
           "Wyzwanie"
          ],
          [
           "Syn"
          ],
          [
           "mega"
          ],
          [
           "słodziakiem"
          ],
          [
           "klasie"
          ],
          [
           "podstawówki"
          ],
          [
           "ryzyko"
          ],
          [
           "kupon"
          ],
          [
           "chorób"
          ],
          [
           "stanu"
          ],
          [
           "statystyk"
          ],
          [
           "występu"
          ],
          [
           "realista"
          ],
          [
           "wyjątkiem"
          ],
          [
           "siły"
          ],
          [
           "kolejkę"
          ],
          [
           "przekładzie"
          ],
          [
           "trenerem"
          ],
          [
           "Dziadek"
          ],
          [
           "żonie"
          ],
          [
           "mieszkanie"
          ],
          [
           "patologia"
          ],
          [
           "statystykach"
          ],
          [
           "umiejętnościach"
          ],
          [
           "sufit"
          ],
          [
           "Remis"
          ],
          [
           "lvbet"
          ],
          [
           "remis"
          ],
          [
           "torbą"
          ],
          [
           "serce"
          ],
          [
           "wódeczka"
          ],
          [
           "życia"
          ],
          [
           "poczcie"
          ],
          [
           "kredą"
          ],
          [
           "asfalcie"
          ],
          [
           "znak"
          ],
          [
           "solidarności"
          ],
          [
           "ofiarą"
          ],
          [
           "osoby"
          ],
          [
           "lgbt"
          ],
          [
           "ogóle"
          ],
          [
           "komunikacji"
          ],
          [
           "wiec"
          ],
          [
           "pasażerami"
          ],
          [
           "parodia"
          ],
          [
           "pisowski"
          ],
          [
           "liczbe"
          ],
          [
           "występów"
          ],
          [
           "moze"
          ],
          [
           "drzewem"
          ],
          [
           "ogrodzie"
          ],
          [
           "lisie"
          ],
          [
           "dodatku"
          ],
          [
           "sztućcami"
          ],
          [
           "grzech"
          ],
          [
           "świecie"
          ],
          [
           "Raz"
          ],
          [
           "piwo"
          ],
          [
           "sensem"
          ],
          [
           "przeciwieństwo"
          ],
          [
           "autem"
          ],
          [
           "drodze"
          ],
          [
           "wizje"
          ],
          [
           "zmiany"
          ],
          [
           "minucie"
          ],
          [
           "pochwal"
          ],
          [
           "ehh"
          ],
          [
           "remis"
          ],
          [
           "meczu"
          ],
          [
           "obraz"
          ],
          [
           "wieczorem"
          ],
          [
           "razie"
          ],
          [
           "serial"
          ],
          [
           "Papadopoulosa"
          ],
          [
           "sektor"
          ],
          [
           "chodzenie"
          ],
          [
           "mecz"
          ],
          [
           "kolejki"
          ],
          [
           "bilet"
          ],
          [
           "wagonów"
          ],
          [
           "powodzenia"
          ],
          [
           "końca"
          ],
          [
           "kraju"
          ],
          [
           "pisdzielstwo"
          ],
          [
           "delegalizacja"
          ],
          [
           "ramach"
          ],
          [
           "przywracania"
          ],
          [
           "skromności"
          ],
          [
           "Prezes"
          ],
          [
           "nazwę"
          ],
          [
           "spółki"
          ],
          [
           "lud"
          ],
          [
           "myśli"
          ],
          [
           "trenerzy"
          ],
          [
           "tymczasowi"
          ],
          [
           "statystyka"
          ],
          [
           "gazu"
          ],
          [
           "powtarzania"
          ],
          [
           "opinii"
          ],
          [
           "tarczycy"
          ],
          [
           "człowiek"
          ],
          [
           "maratonie"
          ],
          [
           "radnia"
          ],
          [
           "otworami"
          ],
          [
           "pikuś"
          ],
          [
           "mecz"
          ],
          [
           "mistrzostwo"
          ],
          [
           "sekundy"
          ],
          [
           "końca"
          ],
          [
           "kasy"
          ],
          [
           "gry"
          ],
          [
           "lidze"
          ],
          [
           "przeciwnikiem"
          ],
          [
           "wydaniu"
          ],
          [
           "lidze"
          ],
          [
           "post"
          ],
          [
           "Ej"
          ],
          [
           "czwartki"
          ],
          [
           "social"
          ],
          [
           "media"
          ],
          [
           "walenia"
          ],
          [
           "tony"
          ],
          [
           "jezyk"
          ],
          [
           "walenia"
          ],
          [
           "pisdzielstwo"
          ],
          [
           "rację"
          ],
          [
           "dłoni"
          ],
          [
           "homopisuarowiec"
          ],
          [
           "atrapa"
          ],
          [
           "dykty"
          ],
          [
           "całości"
          ],
          [
           "wypadku"
          ],
          [
           "transplantacja"
          ],
          [
           "głowy"
          ],
          [
           "lifting"
          ],
          [
           "gęby"
          ],
          [
           "wszczepienie"
          ],
          [
           "mózgu"
          ],
          [
           "łbach"
          ],
          [
           "razu"
          ],
          [
           "wymioty"
          ],
          [
           "tragedia"
          ],
          [
           "Pana"
          ],
          [
           "zdanie"
          ],
          [
           "Pan"
          ],
          [
           "język"
          ],
          [
           "strzelaniny"
          ],
          [
           "zwroty"
          ],
          [
           "akcji"
          ],
          [
           "kwestia"
          ],
          [
           "nieznajomości"
          ],
          [
           "slajdów"
          ],
          [
           "prezesa"
          ],
          [
           "front"
          ],
          [
           "kasy"
          ],
          [
           "malopolan"
          ],
          [
           "końcu"
          ],
          [
           "reprezentacje"
          ],
          [
           "Niejaki"
          ],
          [
           "standardy"
          ],
          [
           "dziennikarstwa"
          ],
          [
           "gówno"
          ],
          [
           "dzień"
          ],
          [
           "dzień"
          ],
          [
           "rady"
          ],
          [
           "wartość"
          ],
          [
           "krytyki"
          ],
          [
           "poseł"
          ],
          [
           "Naprawdè"
          ],
          [
           "tępy"
          ],
          [
           "idiotę"
          ],
          [
           "konta"
          ],
          [
           "fav"
          ],
          [
           "tweeta"
          ],
          [
           "sezon"
          ],
          [
           "\\n\\ndziunia"
          ],
          [
           "klasie"
          ],
          [
           "ZDROWIE"
          ],
          [
           "facet"
          ],
          [
           "mózgiem"
          ],
          [
           "jenota"
          ],
          [
           "dzien"
          ],
          [
           "jeszze"
          ],
          [
           "prezentacji"
          ],
          [
           "pucharach"
          ],
          [
           "mendo"
          ],
          [
           "pisowska"
          ],
          [
           "środowisko"
          ],
          [
           "cykl"
          ],
          [
           "fotoszopa"
          ],
          [
           "tramwaj"
          ],
          [
           "chodkiewicza"
          ],
          [
           "znajomi"
          ],
          [
           "ziemie"
          ],
          [
           "agentem"
          ],
          [
           "obiektywizmu"
          ],
          [
           "Pani"
          ],
          [
           "odszkodowania"
          ],
          [
           "nominat"
          ],
          [
           "Poziom"
          ],
          [
           "prymitywizmu"
          ],
          [
           "łomocie"
          ],
          [
           "miastach"
          ],
          [
           "Polaków\\"
          ],
          [
           "monitorka"
          ],
          [
           "kartka"
          ],
          [
           "wątpliwości"
          ],
          [
           "wydaniu"
          ],
          [
           "polu"
          ],
          [
           "razie"
          ],
          [
           "przekaz"
          ],
          [
           "\\\"ulica"
          ],
          [
           "zagranica\\"
          ],
          [
           "dyscyplina"
          ],
          [
           "warunkiem"
          ],
          [
           "sportowcy"
          ],
          [
           "ludzie"
          ],
          [
           "wpływem"
          ],
          [
           "alkoholu"
          ],
          [
           "lawirowaniu"
          ],
          [
           "Wypozyczeni"
          ],
          [
           "Stal"
          ],
          [
           "minuty"
          ],
          [
           "Czasu"
          ],
          [
           "wykonawców"
          ],
          [
           "pozycjach"
          ],
          [
           "panowie"
          ],
          [
           "kabaret"
          ],
          [
           "mina"
          ],
          [
           "styl"
          ],
          [
           "życia"
          ],
          [
           "nogi"
          ],
          [
           "azbest"
          ],
          [
           "mózg"
          ],
          [
           "deszcz"
          ],
          [
           "grozy"
          ],
          [
           "karku"
          ],
          [
           "Minister"
          ],
          [
           "przemówienie"
          ],
          [
           "Wrona"
          ],
          [
           "Tata"
          ],
          [
           "ludzi"
          ],
          [
           "szkoły"
          ],
          [
           "pani"
          ],
          [
           "chuju"
          ],
          [
           "komuchami"
          ],
          [
           "aspekt"
          ],
          [
           "zakończenia"
          ],
          [
           "dnia"
          ],
          [
           "babci"
          ],
          [
           "REKLAMĘ"
          ],
          [
           "\\\"Bardzo"
          ],
          [
           "dziadków"
          ],
          [
           "sercu"
          ],
          [
           "dziewczyna"
          ],
          [
           "Krzyże"
          ],
          [
           "czasu"
          ],
          [
           "kurwa"
          ],
          [
           "wolność"
          ],
          [
           "maskara"
          ],
          [
           "państwem"
          ],
          [
           "poseł"
          ],
          [
           "film"
          ],
          [
           "liceum"
          ],
          [
           "raz"
          ],
          [
           "podstawie"
          ],
          [
           "kamerą"
          ],
          [
           "pistoletem"
          ],
          [
           "słowa"
          ],
          [
           "skrzydło"
          ],
          [
           "strony"
          ],
          [
           "formie"
          ],
          [
           "świata"
          ],
          [
           "metrów"
          ],
          [
           "konfesjonałów"
          ],
          [
           "sprawa"
          ],
          [
           "prostak"
          ],
          [
           "śmierci"
          ],
          [
           "sprawach"
          ],
          [
           "oświetlenia"
          ],
          [
           "córki"
          ],
          [
           "okna"
          ],
          [
           "kamieniami"
          ],
          [
           "polityk"
          ],
          [
           "sędzinę"
          ],
          [
           "gry"
          ],
          [
           "genach"
          ],
          [
           "wiatr"
          ],
          [
           "głowy"
          ],
          [
           "Patryk"
          ],
          [
           "wybory"
          ],
          [
           "oczyści"
          ],
          [
           "stolicę"
          ],
          [
           "UBECKICH"
          ],
          [
           "funkcjonariuszy"
          ],
          [
           "powietrze"
          ],
          [
           "tarczy"
          ],
          [
           "obiekt"
          ],
          [
           "teledysku"
          ],
          [
           "4funtv"
          ],
          [
           "ogóle"
          ],
          [
           "jaj"
          ],
          [
           "lata"
          ],
          [
           "pracy"
          ],
          [
           "Sztuki"
          ],
          [
           "Walki"
          ],
          [
           "siłownia"
          ],
          [
           "zdjęciu"
          ],
          [
           "kibiców"
          ],
          [
           "wpisy"
          ],
          [
           "człowiekowi"
          ],
          [
           "znaczenia"
          ],
          [
           "ceny"
          ],
          [
           "moda"
          ],
          [
           "filmiki"
          ],
          [
           "Twitterze"
          ],
          [
           "pijta"
          ],
          [
           "apteka"
          ],
          [
           "dno"
          ],
          [
           "skupmy"
          ],
          [
           "Prezes"
          ],
          [
           "razie"
          ],
          [
           "finału"
          ],
          [
           "finał"
          ],
          [
           "przysmaki"
          ],
          [
           "ramach"
          ],
          [
           "przekupstwa"
          ],
          [
           "narracja"
          ],
          [
           "obozu"
          ],
          [
           "zmiany\\"
          ],
          [
           "Uszczelnienie"
          ],
          [
           "kapitanie"
          ],
          [
           "futsal"
          ],
          [
           "ekstraklasy"
          ],
          [
           "rusi"
          ],
          [
           "rzeszy"
          ],
          [
           "kaczuszkę"
          ],
          [
           "niedziele"
          ],
          [
           "kibice"
          ],
          [
           "zero"
          ],
          [
           "reklamy"
          ],
          [
           "konpromitacją"
          ],
          [
           "historii"
          ],
          [
           "Pana"
          ],
          [
           "udział"
          ],
          [
           "obalaniu"
          ],
          [
           "Premiera"
          ],
          [
           "#"
          ],
          [
           "jeju"
          ],
          [
           "ulgę"
          ],
          [
           "szok"
          ],
          [
           "czas"
          ],
          [
           "drzemkę"
          ],
          [
           "czasu"
          ],
          [
           "internecie"
          ],
          [
           "powtórkę"
          ],
          [
           "utrzymaliście"
          ],
          [
           "stoliku"
          ],
          [
           "miejsca"
          ],
          [
           "Pies"
          ],
          [
           "czasem"
          ],
          [
           "książki"
          ],
          [
           "chłopczyk"
          ],
          [
           "problemami"
          ],
          [
           "politycy"
          ],
          [
           "Ja"
          ],
          [
           "dm"
          ],
          [
           "ligi"
          ],
          [
           "dwumeczu"
          ],
          [
           "dziewczynami"
          ],
          [
           "życie"
          ],
          [
           "liście"
          ],
          [
           "kleić"
          ],
          [
           "przekładzie"
          ],
          [
           "Lisek"
          ],
          [
           "tysięcy"
          ],
          [
           "egzemplarzy"
          ],
          [
           "statystyk"
          ],
          [
           "jezu"
          ],
          [
           "osób"
          ],
          [
           "roku"
          ],
          [
           "#"
          ],
          [
           "Internecie,\\nGdzie"
          ],
          [
           "śmiecie"
          ],
          [
           "zakład"
          ],
          [
           "podanie"
          ],
          [
           "brat"
          ],
          [
           "rozgrzeszenie"
          ],
          [
           "człowiekiem"
          ],
          [
           "ludzmi"
          ],
          [
           "raz"
          ],
          [
           "przyjecia"
          ],
          [
           "sadownictwa"
          ],
          [
           "fakt"
          ],
          [
           "kangurem"
          ],
          [
           "glowy"
          ],
          [
           "głupek"
          ],
          [
           "tytułem"
          ],
          [
           "wślizg"
          ],
          [
           "ściągnięcie"
          ],
          [
           "parteru"
          ],
          [
           "gościa"
          ],
          [
           "robiliscie"
          ],
          [
           "\\\"Opowiadania"
          ],
          [
           "odeskie\\"
          ],
          [
           "interpretacji"
          ],
          [
           "alkohol"
          ],
          [
           "umiarem"
          ],
          [
           "ilościach"
          ],
          [
           "Perez"
          ],
          [
           "przedstawienie"
          ],
          [
           "cyrk"
          ],
          [
           "maja"
          ],
          [
           "wsparcie"
          ],
          [
           "Pani"
          ],
          [
           "parcie"
          ],
          [
           "szklo"
          ],
          [
           "efekt"
          ],
          [
           "wieś"
          ],
          [
           "lat"
          ],
          [
           "złodzieje"
          ],
          [
           "malwersanci"
          ],
          [
           "pokoju"
          ],
          [
           "kandydat"
          ],
          [
           "napastnika"
          ],
          [
           "ligi"
          ],
          [
           "Babcia"
          ],
          [
           "końca"
          ],
          [
           "świata"
          ],
          [
           "babcią"
          ],
          [
           "szansa"
          ],
          [
           "Lechia"
          ],
          [
           "kibicom"
          ],
          [
           "szaliki"
          ],
          [
           "kibice"
          ],
          [
           "Celtiku"
          ],
          [
           "szmata"
          ],
          [
           "różnicy"
          ],
          [
           "koniec"
          ],
          [
           "kangurami"
          ],
          [
           "misiem"
          ],
          [
           "koala"
          ],
          [
           "euro"
          ],
          [
           "produkty"
          ],
          [
           "screenami"
          ],
          [
           "gwizdkiem"
          ],
          [
           "banku"
          ],
          [
           "konto"
          ],
          [
           "polaka"
          ],
          [
           "radę"
          ],
          [
           "prezesi"
          ],
          [
           "trenerów"
          ],
          [
           "okiem"
          ],
          [
           "akademiku"
          ],
          [
           "perwersja"
          ],
          [
           "sporcie"
          ],
          [
           "okazję"
          ],
          [
           "rok"
          ],
          [
           "ludzi"
          ],
          [
           "minuty"
          ],
          [
           "szacunkiem"
          ],
          [
           "bandytyzm"
          ],
          [
           "walka"
          ],
          [
           "okazji"
          ],
          [
           "pech"
          ],
          [
           "niespodzianka"
          ],
          [
           "wyboru"
          ],
          [
           "pucharowiczami"
          ],
          [
           "ust"
          ],
          [
           "komplement"
          ],
          [
           "Przemek"
          ],
          [
           "minut"
          ],
          [
           "ogłoszenie"
          ],
          [
           "pracę"
          ],
          [
           "wślizg"
          ],
          [
           "polu"
          ],
          [
           "debiutant"
          ],
          [
           "nogi"
          ],
          [
           "pchnięcie"
          ],
          [
           "próba"
          ],
          [
           "zagrania"
          ],
          [
           "piłki"
          ],
          [
           "końcu"
          ],
          [
           "mecz"
          ],
          [
           "Ja"
          ],
          [
           "słowo"
          ],
          [
           "mowa"
          ],
          [
           "dupie"
          ],
          [
           "akademikiem"
          ],
          [
           "dołku"
          ],
          [
           "życiu"
          ],
          [
           "towar"
          ],
          [
           "ugotowaniu"
          ],
          [
           "argument"
          ],
          [
           "sprawozdania"
          ],
          [
           "deklaracje"
          ],
          [
           "Problem"
          ],
          [
           "młodzieżowcem"
          ],
          [
           "gole"
          ],
          [
           "przerwy"
          ],
          [
           "telewizji"
          ],
          [
           "baca"
          ],
          [
           "pas"
          ],
          [
           "turystów"
          ],
          [
           "akceptacja"
          ],
          [
           "cebula"
          ],
          [
           "dziennikarstwo"
          ],
          [
           "specjalność"
          ],
          [
           "reklama"
          ],
          [
           "promocja"
          ],
          [
           "rzecznictwo"
          ],
          [
           "cv"
          ],
          [
           "zdjęcia"
          ],
          [
           "fotogenicznością"
          ],
          [
           "determinacja"
          ],
          [
           "kobieta"
          ],
          [
           "kobietę"
          ],
          [
           "Mistrzowie"
          ],
          [
           "branża"
          ],
          [
           "mirda"
          ],
          [
           "kubeł"
          ]
         ],
         "hovertemplate": "x=%{x}<br>y=%{y}<br>text=%{customdata[0]}<br>label=%{marker.color}<extra></extra>",
         "legendgroup": "",
         "marker": {
          "color": [
           0,
           1,
           2,
           3,
           1,
           2,
           2,
           2,
           1,
           0,
           3,
           2,
           2,
           2,
           2,
           2,
           2,
           0,
           2,
           0,
           2,
           1,
           2,
           2,
           1,
           2,
           2,
           2,
           2,
           0,
           2,
           0,
           2,
           2,
           2,
           0,
           2,
           2,
           2,
           2,
           2,
           2,
           2,
           2,
           0,
           2,
           2,
           0,
           1,
           1,
           2,
           2,
           0,
           2,
           1,
           2,
           1,
           2,
           2,
           0,
           2,
           2,
           0,
           1,
           2,
           2,
           2,
           2,
           2,
           2,
           2,
           2,
           1,
           2,
           2,
           2,
           0,
           0,
           2,
           2,
           2,
           0,
           2,
           0,
           2,
           2,
           2,
           2,
           2,
           2,
           2,
           2,
           0,
           2,
           2,
           2,
           2,
           0,
           0,
           0,
           1,
           2,
           2,
           2,
           1,
           2,
           2,
           2,
           1,
           1,
           1,
           2,
           2,
           1,
           1,
           3,
           2,
           0,
           0,
           2,
           2,
           2,
           2,
           0,
           2,
           2,
           2,
           2,
           2,
           1,
           1,
           0,
           2,
           1,
           2,
           3,
           2,
           1,
           2,
           2,
           1,
           1,
           2,
           2,
           2,
           2,
           3,
           2,
           2,
           1,
           2,
           2,
           2,
           3,
           2,
           2,
           2,
           2,
           1,
           1,
           2,
           2,
           2,
           3,
           2,
           2,
           2,
           2,
           0,
           2,
           2,
           0,
           2,
           0,
           2,
           2,
           2,
           2,
           2,
           1,
           0,
           2,
           2,
           2,
           2,
           2,
           2,
           2,
           2,
           1,
           2,
           2,
           0,
           2,
           2,
           2,
           3,
           2,
           2,
           2,
           2,
           2,
           1,
           2,
           3,
           2,
           1,
           3,
           2,
           1,
           2,
           2,
           2,
           1,
           2,
           1,
           2,
           1,
           1,
           2,
           1,
           2,
           0,
           2,
           0,
           1,
           2,
           2,
           2,
           2,
           2,
           2,
           0,
           2,
           1,
           0,
           2,
           2,
           3,
           2,
           2,
           1,
           2,
           2,
           2,
           2,
           2,
           0,
           3,
           2,
           0,
           2,
           3,
           2,
           2,
           0,
           2,
           2,
           0,
           1,
           1,
           2,
           2,
           2,
           1,
           0,
           2,
           2,
           2,
           2,
           1,
           0,
           0,
           1,
           0,
           2,
           0,
           2,
           0,
           2,
           2,
           2,
           2,
           0,
           1,
           1,
           2,
           2,
           2,
           2,
           2,
           2,
           2,
           2,
           2,
           0,
           0,
           2,
           1,
           2,
           2,
           1,
           2,
           2,
           0,
           2,
           1,
           2,
           3,
           2,
           2,
           1,
           1,
           1,
           1,
           2,
           1,
           0,
           2,
           0,
           0,
           0,
           1,
           0,
           3,
           3,
           2,
           2,
           2,
           0,
           2,
           2,
           0,
           1,
           0,
           1,
           2,
           0,
           2,
           2,
           2,
           0,
           2,
           1,
           2,
           2,
           1,
           1,
           2,
           1,
           2,
           2,
           3,
           2,
           1,
           2,
           0,
           1,
           2,
           1,
           0,
           1,
           1,
           0,
           0,
           2,
           2,
           3,
           1,
           0,
           2,
           2,
           2,
           3,
           0,
           3,
           1,
           2,
           2,
           3,
           2,
           1,
           2,
           2,
           2,
           2,
           1,
           1,
           0,
           2,
           0,
           2,
           2,
           2,
           2,
           2,
           3,
           1,
           2,
           2,
           0,
           2,
           2,
           2,
           1,
           1,
           2,
           2,
           2,
           2,
           2,
           0,
           2,
           2,
           2,
           2,
           0,
           2,
           0,
           2,
           2,
           2,
           2,
           0,
           2,
           2,
           0,
           3,
           3,
           2,
           2,
           2,
           2,
           2,
           2,
           2,
           2,
           1,
           2,
           0,
           2,
           1,
           0,
           2,
           0,
           0,
           3,
           2,
           2,
           0,
           2,
           1,
           2,
           2,
           0,
           2,
           2,
           2,
           3,
           0,
           2,
           3,
           3,
           1,
           2,
           2,
           0,
           2,
           0,
           0,
           2,
           2,
           2,
           2,
           0,
           1,
           0,
           2,
           2,
           2,
           1,
           0,
           2,
           3,
           2,
           2,
           1,
           2,
           2,
           0,
           2,
           1,
           2,
           2,
           0,
           2,
           1,
           2,
           2,
           2,
           0,
           0,
           1,
           0,
           0,
           2,
           0,
           2,
           2,
           0,
           2,
           2,
           0,
           1,
           0,
           0,
           0,
           2,
           2,
           0,
           0,
           0,
           1,
           1,
           1,
           1,
           1,
           1,
           0,
           2,
           0,
           0,
           1,
           1,
           2,
           2,
           2,
           2,
           0,
           2,
           2,
           2,
           2,
           2,
           2,
           2,
           2,
           0,
           1,
           2,
           0,
           2,
           1,
           2,
           2,
           1,
           0,
           1,
           2,
           2,
           2,
           1,
           2,
           2,
           0,
           2,
           2,
           1,
           1,
           1,
           2,
           1,
           2,
           2,
           1,
           1,
           2,
           0,
           2,
           2,
           2,
           0,
           1,
           0,
           2,
           1,
           2,
           2,
           1,
           1,
           2,
           1,
           1,
           2,
           2,
           0,
           0,
           0,
           2,
           2,
           1
          ],
          "coloraxis": "coloraxis",
          "symbol": "circle"
         },
         "mode": "markers",
         "name": "",
         "orientation": "v",
         "showlegend": false,
         "type": "scatter",
         "x": [
          9.247941970825195,
          6.747715473175049,
          1.7621344327926636,
          -13.12030029296875,
          26.64887809753418,
          -16.024503707885742,
          -30.549592971801758,
          -14.859957695007324,
          22.54204750061035,
          16.928152084350586,
          -31.96813201904297,
          -8.039732933044434,
          -20.931421279907227,
          -22.267732620239258,
          -22.16926383972168,
          -22.3701114654541,
          -13.598873138427734,
          42.152862548828125,
          8.633800506591797,
          28.169221878051758,
          -23.016067504882812,
          -11.556059837341309,
          -18.77132797241211,
          -17.47039031982422,
          -15.22175407409668,
          -1.2056771516799927,
          -26.04798698425293,
          -7.032564163208008,
          -6.4305195808410645,
          28.935705184936523,
          -4.072255611419678,
          29.64173126220703,
          -21.923484802246094,
          -5.93256950378418,
          -12.273284912109375,
          -14.228860855102539,
          -24.704938888549805,
          -10.073799133300781,
          10.330915451049805,
          12.39342212677002,
          11.453301429748535,
          -12.577841758728027,
          4.464670658111572,
          -13.360785484313965,
          29.15898323059082,
          -12.94461727142334,
          -1.41108238697052,
          8.173250198364258,
          -14.2056245803833,
          28.68337059020996,
          -32.08741760253906,
          1.845698356628418,
          34.19272994995117,
          9.9253511428833,
          27.97411346435547,
          1.8674412965774536,
          20.04097557067871,
          6.295761585235596,
          -10.39082145690918,
          -10.216161727905273,
          -10.513915061950684,
          -22.38789176940918,
          28.244462966918945,
          18.499879837036133,
          15.20085334777832,
          1.9103221893310547,
          -21.865140914916992,
          -11.916402816772461,
          -36.701072692871094,
          -19.725841522216797,
          -4.1967668533325195,
          12.96663761138916,
          22.5467472076416,
          -4.146075248718262,
          -3.621068000793457,
          21.67133140563965,
          0.7358548641204834,
          0.42694103717803955,
          -27.213397979736328,
          -0.912196695804596,
          -7.549993515014648,
          37.957210540771484,
          5.637456893920898,
          28.8584041595459,
          12.116568565368652,
          11.62757682800293,
          -9.236185073852539,
          -19.617889404296875,
          -10.4944486618042,
          -20.226877212524414,
          -23.36673355102539,
          -9.386662483215332,
          24.500259399414062,
          -13.889756202697754,
          -19.60175323486328,
          -23.930021286010742,
          -33.77340316772461,
          27.79606056213379,
          35.62162399291992,
          31.828157424926758,
          -7.629873752593994,
          9.492705345153809,
          -24.744949340820312,
          -29.390913009643555,
          17.44026756286621,
          -14.861111640930176,
          -8.716158866882324,
          -14.70140266418457,
          26.259132385253906,
          14.896480560302734,
          21.68305015563965,
          -10.996262550354004,
          -23.972782135009766,
          26.90906524658203,
          25.770219802856445,
          -31.575420379638672,
          -19.822324752807617,
          22.86014747619629,
          -10.038874626159668,
          11.823244094848633,
          -15.669028282165527,
          -21.87136459350586,
          4.619401931762695,
          -15.253260612487793,
          8.391226768493652,
          15.16235637664795,
          -10.53589916229248,
          -9.832010269165039,
          4.8527421951293945,
          20.688051223754883,
          20.012300491333008,
          24.731050491333008,
          -16.793167114257812,
          26.229158401489258,
          7.0118560791015625,
          -15.913331031799316,
          -24.07242202758789,
          21.336505889892578,
          -10.205648422241211,
          -1.7426049709320068,
          24.990901947021484,
          -19.685710906982422,
          -9.53719425201416,
          -15.460822105407715,
          -20.3049259185791,
          2.7272632122039795,
          17.827545166015625,
          -14.70140266418457,
          -12.522638320922852,
          -0.14545951783657074,
          -28.7525634765625,
          -13.003772735595703,
          -4.634708404541016,
          0.03825521841645241,
          -0.28798675537109375,
          10.155911445617676,
          -12.797710418701172,
          -23.69729995727539,
          -19.09954833984375,
          -17.288421630859375,
          -11.070441246032715,
          -24.034658432006836,
          -15.928204536437988,
          2.994891881942749,
          6.620355129241943,
          -17.57867431640625,
          -21.28885269165039,
          -5.012866020202637,
          31.72481918334961,
          -12.601285934448242,
          -26.23769760131836,
          -1.9816197156906128,
          -9.883527755737305,
          13.68358039855957,
          15.216718673706055,
          -23.652647018432617,
          -10.202141761779785,
          -26.566387176513672,
          -7.457677841186523,
          15.499722480773926,
          22.155508041381836,
          -14.503986358642578,
          6.737396240234375,
          27.524471282958984,
          11.558145523071289,
          -12.797710418701172,
          -7.103933811187744,
          -23.002685546875,
          -24.719430923461914,
          -28.053586959838867,
          -6.228488922119141,
          -7.432067394256592,
          24.486095428466797,
          -29.955062866210938,
          -7.432067394256592,
          -3.822995901107788,
          20.449861526489258,
          -31.264495849609375,
          -2.019592046737671,
          -1.865809679031372,
          26.642141342163086,
          -13.106024742126465,
          3.6597788333892822,
          26.642141342163086,
          3.0017218589782715,
          -10.635581970214844,
          17.28678321838379,
          4.421136856079102,
          6.351908206939697,
          17.85519790649414,
          -17.374753952026367,
          -14.438102722167969,
          13.513431549072266,
          18.6803035736084,
          7.163299560546875,
          15.45318603515625,
          13.949708938598633,
          17.346294403076172,
          14.626649856567383,
          -18.7628231048584,
          11.141190528869629,
          8.862954139709473,
          30.09499168395996,
          -3.459876775741577,
          35.25239944458008,
          3.182447671890259,
          -4.684380531311035,
          -2.1514692306518555,
          -14.397590637207031,
          5.220642566680908,
          -9.152375221252441,
          -7.697348594665527,
          28.724336624145508,
          7.845225811004639,
          -28.06116485595703,
          6.257199764251709,
          -20.293872833251953,
          -8.913829803466797,
          36.61463928222656,
          -10.203180313110352,
          -4.216402053833008,
          19.32622528076172,
          -27.34870719909668,
          -27.34870719909668,
          5.858249664306641,
          -12.340066909790039,
          -6.613933563232422,
          35.81203842163086,
          -0.7181299328804016,
          19.17258071899414,
          22.09633445739746,
          -27.32205581665039,
          17.72282600402832,
          9.977314949035645,
          -15.74792194366455,
          5.793983459472656,
          12.119993209838867,
          7.745635509490967,
          21.12518310546875,
          18.85748291015625,
          24.895198822021484,
          -26.39398765563965,
          2.9653255939483643,
          -7.832077503204346,
          -8.501712799072266,
          16.962766647338867,
          14.619475364685059,
          -7.715726852416992,
          -16.401060104370117,
          2.0458054542541504,
          -17.56763458251953,
          2.8950583934783936,
          10.935338973999023,
          -3.9908690452575684,
          26.157032012939453,
          -6.0573039054870605,
          33.20296096801758,
          -21.193294525146484,
          34.66679382324219,
          -37.10020446777344,
          -6.285204887390137,
          -0.7255237102508545,
          -15.627089500427246,
          4.009393215179443,
          3.663297653198242,
          7.941200256347656,
          -10.573638916015625,
          -29.959030151367188,
          -11.013799667358398,
          -13.342851638793945,
          -0.5128503441810608,
          6.617893218994141,
          -3.1692652702331543,
          3.479779005050659,
          -12.735556602478027,
          12.721574783325195,
          12.010039329528809,
          -23.713176727294922,
          19.991121292114258,
          -29.98361587524414,
          0.2975445091724396,
          -10.533918380737305,
          -21.678842544555664,
          -21.389795303344727,
          -12.47960376739502,
          -28.817583084106445,
          13.661699295043945,
          15.650296211242676,
          17.040019989013672,
          1.3123537302017212,
          -10.998710632324219,
          18.544166564941406,
          20.12519073486328,
          17.883821487426758,
          12.922892570495605,
          -16.127347946166992,
          19.994537353515625,
          33.6164436340332,
          -4.419654369354248,
          40.3516960144043,
          36.701107025146484,
          -10.121894836425781,
          11.22538948059082,
          33.218509674072266,
          19.57223892211914,
          13.13731575012207,
          -1.7800759077072144,
          -25.215665817260742,
          -28.69950294494629,
          31.61883544921875,
          8.80692195892334,
          -2.540828227996826,
          31.377887725830078,
          14.442228317260742,
          18.81303596496582,
          -33.25679397583008,
          -20.019290924072266,
          19.253273010253906,
          0.4745714068412781,
          10.649456977844238,
          -4.023764133453369,
          35.81203842163086,
          -4.641781806945801,
          12.171621322631836,
          -22.80032730102539,
          -25.49151039123535,
          24.249996185302734,
          24.083173751831055,
          -3.4664814472198486,
          16.135387420654297,
          -4.248291015625,
          -17.037891387939453,
          -14.427840232849121,
          -14.679991722106934,
          -20.35922622680664,
          5.615370273590088,
          20.305736541748047,
          -10.877779960632324,
          -27.15471649169922,
          -18.531553268432617,
          30.76791000366211,
          16.76181411743164,
          27.972347259521484,
          36.53998565673828,
          22.737842559814453,
          -6.228488922119141,
          17.372684478759766,
          12.827455520629883,
          18.770925521850586,
          42.152862548828125,
          8.640888214111328,
          -6.958317279815674,
          -6.42947244644165,
          -0.8628852963447571,
          -11.671465873718262,
          -8.047094345092773,
          15.306391716003418,
          -37.10692596435547,
          -8.06779956817627,
          -1.9101682901382446,
          -15.672737121582031,
          -12.316695213317871,
          -26.72679901123047,
          -17.747297286987305,
          -25.363346099853516,
          -24.707231521606445,
          5.790637016296387,
          -4.702123641967773,
          -3.374091863632202,
          -3.8714942932128906,
          20.877782821655273,
          -14.625266075134277,
          -10.95910930633545,
          4.147923469543457,
          -2.739515781402588,
          9.735849380493164,
          2.8175089359283447,
          6.591092109680176,
          20.9072265625,
          -31.823135375976562,
          31.72481918334961,
          -13.822627067565918,
          -15.923080444335938,
          -15.667256355285645,
          -9.362448692321777,
          -17.57867431640625,
          11.346837043762207,
          4.51563024520874,
          -38.53907775878906,
          -16.00834083557129,
          33.319297790527344,
          32.3849983215332,
          -5.92720890045166,
          -5.718142509460449,
          -3.1818060874938965,
          -8.464598655700684,
          28.859451293945312,
          -30.641357421875,
          -1.867132544517517,
          0.6352286338806152,
          1.5521470308303833,
          4.343860626220703,
          -14.766786575317383,
          30.09499168395996,
          -13.686196327209473,
          -30.042163848876953,
          27.973989486694336,
          17.916046142578125,
          18.545391082763672,
          1.6327581405639648,
          10.672216415405273,
          -20.566640853881836,
          -27.734683990478516,
          -20.018056869506836,
          -1.5616215467453003,
          -26.99573516845703,
          6.0385260581970215,
          23.001195907592773,
          -18.768115997314453,
          39.261627197265625,
          -19.2026424407959,
          -7.009889602661133,
          22.44048500061035,
          8.242547988891602,
          12.289945602416992,
          22.28866195678711,
          21.018712997436523,
          -6.849858283996582,
          -13.019818305969238,
          9.894047737121582,
          -8.83764362335205,
          18.076623916625977,
          31.197532653808594,
          -33.77340316772461,
          41.876136779785156,
          -15.634537696838379,
          -16.832258224487305,
          -23.20113754272461,
          18.99254035949707,
          -10.552286148071289,
          -27.894596099853516,
          17.916046142578125,
          -2.3458404541015625,
          17.343460083007812,
          -37.77052307128906,
          -4.6103105545043945,
          37.14151382446289,
          5.827939987182617,
          22.927074432373047,
          9.758639335632324,
          -23.170774459838867,
          4.464677810668945,
          -19.876962661743164,
          -11.543851852416992,
          31.52113151550293,
          19.408782958984375,
          20.347139358520508,
          -15.75272274017334,
          4.2001261711120605,
          3.7893919944763184,
          16.246549606323242,
          26.150470733642578,
          5.655973434448242,
          -3.0758891105651855,
          -0.3065880239009857,
          -8.785605430603027,
          20.4803524017334,
          -2.89846134185791,
          -27.87725257873535,
          2.0627827644348145,
          -4.148823261260986,
          15.463494300842285,
          -32.08741760253906,
          1.8470724821090698,
          33.86322784423828,
          9.9253511428833,
          27.9736270904541,
          1.8673151731491089,
          -5.601760387420654,
          -26.683101654052734,
          13.333991050720215,
          11.732271194458008,
          20.31796646118164,
          34.33320999145508,
          -1.9791336059570312,
          -6.849858283996582,
          34.686607360839844,
          -23.982254028320312,
          -14.42459487915039,
          32.70450210571289,
          -9.288481712341309,
          -10.01622200012207,
          -1.9896790981292725,
          -1.4050532579421997,
          -1.867132544517517,
          -3.2866592407226562,
          17.54665184020996,
          -15.976506233215332,
          -23.002775192260742,
          32.02989959716797,
          30.19648551940918,
          31.79001808166504,
          -17.302677154541016,
          -9.986018180847168,
          0.794732391834259,
          -15.418044090270996,
          -26.02830696105957,
          -27.743444442749023,
          25.267620086669922,
          4.881976127624512,
          15.163704872131348,
          -4.9477105140686035,
          15.065531730651855,
          21.18324851989746,
          9.054705619812012,
          -14.721961975097656,
          -21.413158416748047,
          -26.880308151245117,
          -10.131403923034668,
          -22.010663986206055,
          -1.8418643474578857,
          11.962029457092285,
          3.6103007793426514,
          -21.011518478393555,
          9.54512882232666,
          8.4734468460083,
          -14.999174118041992,
          2.7572438716888428,
          -36.967655181884766,
          -0.36432957649230957,
          41.72868728637695,
          -21.950117111206055,
          -5.93317985534668,
          -17.290109634399414,
          4.246281147003174,
          -11.016112327575684,
          2.597740888595581,
          18.544166564941406,
          6.596414089202881,
          5.420943737030029,
          -7.7173638343811035,
          -5.182018280029297,
          -20.989543914794922,
          -12.797710418701172,
          22.28866195678711,
          -2.9985525608062744,
          -36.66913604736328,
          20.166078567504883,
          21.800434112548828,
          22.955615997314453,
          -12.646141052246094,
          -12.335653305053711,
          -17.882387161254883,
          -1.4145878553390503,
          -6.9786906242370605,
          -6.967452526092529,
          -5.609049320220947,
          27.658714294433594,
          -10.613563537597656,
          -23.469099044799805,
          -1.6662424802780151,
          22.856191635131836,
          8.050453186035156,
          -13.498520851135254,
          2.3863985538482666,
          8.448307037353516,
          -3.794100046157837,
          2.2994091510772705,
          2.575176477432251,
          3.350876569747925,
          0.8477092981338501,
          21.862077713012695,
          -3.3887338638305664,
          3.9394657611846924,
          2.318100690841675,
          19.697343826293945,
          20.897342681884766,
          13.379844665527344,
          0.8231802582740784,
          1.9579945802688599,
          15.974008560180664
         ],
         "xaxis": "x",
         "y": [
          -34.46480941772461,
          -36.8458251953125,
          1.7633559703826904,
          -11.32437515258789,
          7.237910747528076,
          -20.836301803588867,
          -2.683967351913452,
          -0.5432205200195312,
          19.20831298828125,
          -19.405155181884766,
          4.935525894165039,
          5.539945602416992,
          9.497187614440918,
          -18.448352813720703,
          -16.96792221069336,
          19.2005672454834,
          2.071805715560913,
          -7.7206315994262695,
          8.137974739074707,
          -7.226012706756592,
          -5.298409461975098,
          29.722728729248047,
          17.13138198852539,
          -12.6580810546875,
          -29.17603302001953,
          -3.819640874862671,
          4.2107343673706055,
          -0.4692075848579407,
          -0.39833953976631165,
          -3.349195718765259,
          34.54901123046875,
          -3.1748204231262207,
          -15.569422721862793,
          39.361019134521484,
          24.993175506591797,
          -17.285322189331055,
          2.6973814964294434,
          -20.365371704101562,
          -9.498016357421875,
          -8.501312255859375,
          -9.660911560058594,
          11.400297164916992,
          5.2267045974731445,
          24.261451721191406,
          -18.498363494873047,
          5.9376654624938965,
          -15.0151948928833,
          -27.095733642578125,
          -4.819268226623535,
          9.272546768188477,
          18.20330238342285,
          0.31285372376441956,
          -11.002554893493652,
          27.31809425354004,
          23.611202239990234,
          12.317398071289062,
          10.08923625946045,
          20.739347457885742,
          32.870635986328125,
          29.935171127319336,
          33.83277893066406,
          17.215845108032227,
          -17.177026748657227,
          20.554073333740234,
          27.223018646240234,
          -17.635940551757812,
          -10.678266525268555,
          2.717921018600464,
          14.93398666381836,
          21.955984115600586,
          -16.88616180419922,
          -15.023752212524414,
          -24.77019691467285,
          1.57350492477417,
          10.192755699157715,
          -24.05438804626465,
          39.96295928955078,
          39.85538101196289,
          -0.9320679903030396,
          13.935750961303711,
          9.944816589355469,
          -15.797353744506836,
          11.578245162963867,
          2.949204206466675,
          16.289688110351562,
          12.317780494689941,
          9.294699668884277,
          35.626502990722656,
          -12.669654846191406,
          -1.820199728012085,
          -3.8691179752349854,
          21.004117965698242,
          -5.023644924163818,
          8.651263236999512,
          -7.447439193725586,
          32.9705810546875,
          10.654820442199707,
          -0.9196770191192627,
          -15.511878967285156,
          -18.661386489868164,
          -10.386383056640625,
          -8.556329727172852,
          -4.515735149383545,
          -2.9091901779174805,
          13.680377960205078,
          39.80293273925781,
          43.95744705200195,
          38.42509078979492,
          6.805335521697998,
          3.2879650592803955,
          -30.567380905151367,
          -8.182051658630371,
          -12.25992488861084,
          13.548797607421875,
          12.115448951721191,
          5.261654853820801,
          -8.445762634277344,
          0.10570062696933746,
          -18.822357177734375,
          -11.066784858703613,
          6.835498809814453,
          -10.676684379577637,
          21.55620002746582,
          -27.967252731323242,
          -6.963505744934082,
          -15.225679397583008,
          27.650089263916016,
          21.365127563476562,
          22.004348754882812,
          19.25770378112793,
          19.61433219909668,
          -19.730592727661133,
          8.060883522033691,
          16.19007110595703,
          1.113852858543396,
          -10.846757888793945,
          18.294340133666992,
          -31.529945373535156,
          -6.438370704650879,
          4.725284099578857,
          11.43962574005127,
          11.837892532348633,
          1.1621837615966797,
          -0.5658895969390869,
          28.135648727416992,
          18.283910751342773,
          29.232210159301758,
          38.42509078979492,
          34.56654357910156,
          12.346542358398438,
          22.609907150268555,
          12.285849571228027,
          19.77781105041504,
          42.80781555175781,
          -14.44875717163086,
          5.0886077880859375,
          32.82868194580078,
          32.98982238769531,
          34.949317932128906,
          -26.926668167114258,
          12.479454040527344,
          10.6488618850708,
          -12.678277015686035,
          -33.001224517822266,
          -7.764919757843018,
          13.174535751342773,
          -0.8660273551940918,
          -5.381031513214111,
          -6.055624961853027,
          -1.5045490264892578,
          -9.92907428741455,
          -19.586341857910156,
          2.290494918823242,
          -31.593027114868164,
          -29.243703842163086,
          -6.15800142288208,
          -24.945968627929688,
          7.9014081954956055,
          -1.4852161407470703,
          0.1848219335079193,
          -3.4461066722869873,
          22.721784591674805,
          -26.61151885986328,
          16.639324188232422,
          -1.6496796607971191,
          32.82868194580078,
          32.819461822509766,
          27.558298110961914,
          11.082989692687988,
          -17.8317928314209,
          24.514867782592773,
          36.3078727722168,
          -0.5995499491691589,
          10.837936401367188,
          36.3078727722168,
          12.619976043701172,
          32.89312744140625,
          23.335729598999023,
          -11.547274589538574,
          -10.830750465393066,
          -24.933765411376953,
          -24.649593353271484,
          8.910844802856445,
          -24.933765411376953,
          -32.989532470703125,
          4.8362274169921875,
          7.391179084777832,
          -22.519838333129883,
          -9.973428726196289,
          -22.673025131225586,
          10.355757713317871,
          10.275154113769531,
          -4.306703090667725,
          5.060270309448242,
          14.256975173950195,
          -19.4257869720459,
          -3.80173397064209,
          0.20779505372047424,
          -18.444252014160156,
          17.127525329589844,
          25.93107795715332,
          -4.696510314941406,
          -10.80284309387207,
          3.878390073776245,
          -9.241369247436523,
          8.870661735534668,
          24.298856735229492,
          0.7493254542350769,
          17.662612915039062,
          -3.8427538871765137,
          -4.057544708251953,
          13.889208793640137,
          -6.148838520050049,
          16.35639190673828,
          -17.83643341064453,
          -22.653526306152344,
          9.030152320861816,
          31.082660675048828,
          -8.664543151855469,
          -0.34516650438308716,
          -9.589771270751953,
          -18.97298812866211,
          20.3203182220459,
          20.3203182220459,
          5.212386131286621,
          -2.8421075344085693,
          -4.148932933807373,
          -4.381290435791016,
          -29.159088134765625,
          -14.206701278686523,
          -12.300503730773926,
          -13.73636245727539,
          33.563541412353516,
          35.36383819580078,
          27.391748428344727,
          -24.86745834350586,
          16.284666061401367,
          -36.08513259887695,
          -6.102899551391602,
          0.0834997296333313,
          -20.18539047241211,
          21.175325393676758,
          21.68718147277832,
          13.171751976013184,
          37.4057502746582,
          -15.277347564697266,
          -15.23307991027832,
          -12.743661880493164,
          25.706838607788086,
          14.596702575683594,
          -27.502126693725586,
          -23.6334171295166,
          -29.251436233520508,
          -20.33076286315918,
          -1.5235278606414795,
          -5.814863204956055,
          -10.598435401916504,
          -20.12483024597168,
          -0.7139028906822205,
          15.134021759033203,
          -6.600527763366699,
          -27.7744083404541,
          -14.382999420166016,
          -25.68886375427246,
          15.236532211303711,
          -2.0687413215637207,
          3.7486279010772705,
          10.842216491699219,
          16.553491592407227,
          11.202866554260254,
          10.79237174987793,
          -24.84774398803711,
          -32.70768356323242,
          -13.664649963378906,
          8.36271858215332,
          -30.410181045532227,
          -28.518495559692383,
          6.068031311035156,
          -32.641536712646484,
          -7.072024345397949,
          -29.503515243530273,
          40.58476257324219,
          26.868629455566406,
          2.97733211517334,
          -14.964644432067871,
          -1.0838416814804077,
          -28.137659072875977,
          -11.106688499450684,
          -7.575062274932861,
          8.969317436218262,
          -8.184242248535156,
          9.506813049316406,
          -35.552391052246094,
          0.5173285603523254,
          21.861921310424805,
          -7.43464469909668,
          6.129604816436768,
          -7.028975963592529,
          4.6187543869018555,
          -9.531371116638184,
          -14.970881462097168,
          -15.541824340820312,
          11.369558334350586,
          -11.800594329833984,
          -16.42460823059082,
          -17.622783660888672,
          9.924111366271973,
          9.346964836120605,
          18.834096908569336,
          -16.532615661621094,
          -36.02272415161133,
          -28.950361251831055,
          -15.813501358032227,
          3.5291967391967773,
          -7.785254001617432,
          4.146327972412109,
          3.7691900730133057,
          -17.05036735534668,
          -6.317951202392578,
          -5.051863670349121,
          -16.446393966674805,
          -4.381290435791016,
          19.1695499420166,
          12.062403678894043,
          17.762271881103516,
          4.075778961181641,
          6.10832405090332,
          9.597331047058105,
          2.0430541038513184,
          15.818061828613281,
          -2.2318129539489746,
          11.595647811889648,
          -10.551429748535156,
          -22.538408279418945,
          -26.89630699157715,
          -4.003871917724609,
          -13.3080472946167,
          -10.648272514343262,
          -2.282391309738159,
          0.02823570743203163,
          -17.751169204711914,
          15.182519912719727,
          16.25279998779297,
          -3.1285157203674316,
          -9.083667755126953,
          24.514867782592773,
          -2.899111032485962,
          21.64145278930664,
          5.09780740737915,
          -7.7206315994262695,
          8.132444381713867,
          -25.013547897338867,
          -19.321332931518555,
          -32.32058334350586,
          -16.770536422729492,
          -24.672687530517578,
          6.300450801849365,
          2.9427738189697266,
          20.33655548095703,
          21.458425521850586,
          6.833546161651611,
          -21.364356994628906,
          14.779789924621582,
          -4.073436260223389,
          -23.249610900878906,
          -23.802854537963867,
          -14.061152458190918,
          15.945850372314453,
          31.55765724182129,
          14.071014404296875,
          -2.830052614212036,
          3.754037380218506,
          -31.81107521057129,
          -11.456045150756836,
          16.007673263549805,
          35.565757751464844,
          -27.94804573059082,
          -13.978948593139648,
          -21.65580177307129,
          -2.7078373432159424,
          -6.055624961853027,
          11.953001976013184,
          31.18122673034668,
          30.767549514770508,
          -33.37504959106445,
          13.174535751342773,
          -22.15200424194336,
          -7.254317760467529,
          7.721170902252197,
          -1.3528926372528076,
          13.15315055847168,
          -21.77821159362793,
          39.91916275024414,
          35.254642486572266,
          -21.358976364135742,
          -16.06576156616211,
          7.816998481750488,
          23.08707046508789,
          30.88953971862793,
          24.148258209228516,
          -9.815796852111816,
          -19.40625762939453,
          -8.33084487915039,
          -10.80284309387207,
          18.96664810180664,
          -7.444846153259277,
          -8.39474105834961,
          36.50435256958008,
          30.15910530090332,
          3.437321424484253,
          -0.997093677520752,
          5.339001178741455,
          25.3551025390625,
          3.7684781551361084,
          18.875152587890625,
          26.630496978759766,
          -28.114660263061523,
          18.002891540527344,
          2.166325330734253,
          -12.568964958190918,
          6.047314643859863,
          16.878137588500977,
          -6.0421366691589355,
          -17.8403263092041,
          -27.506725311279297,
          32.79123306274414,
          35.45375442504883,
          34.48911666870117,
          35.9765510559082,
          -17.068403244018555,
          -9.47997760772705,
          21.28955841064453,
          11.979620933532715,
          10.654820442199707,
          -9.832561492919922,
          -21.252500534057617,
          -22.908279418945312,
          -3.908339023590088,
          30.20684814453125,
          -17.606651306152344,
          16.69261360168457,
          36.50435256958008,
          -31.168960571289062,
          -20.723398208618164,
          1.5345708131790161,
          7.129183769226074,
          -16.300310134887695,
          1.188485860824585,
          -2.097032308578491,
          -17.954605102539062,
          17.05722999572754,
          24.659303665161133,
          -15.504667282104492,
          7.739467144012451,
          5.122920989990234,
          4.00803804397583,
          -12.513144493103027,
          14.423755645751953,
          30.301025390625,
          0.681395411491394,
          13.634296417236328,
          -10.747953414916992,
          23.265727996826172,
          -30.267059326171875,
          -23.663488388061523,
          -2.6509881019592285,
          -32.58253479003906,
          -5.163290023803711,
          0.16348695755004883,
          40.35319137573242,
          6.747344493865967,
          -11.375921249389648,
          18.20330238342285,
          0.31341537833213806,
          -10.231629371643066,
          27.31809425354004,
          23.62058448791504,
          12.31790542602539,
          -20.523103713989258,
          14.166377067565918,
          -25.780893325805664,
          -25.903051376342773,
          15.506566047668457,
          -1.7769216299057007,
          35.56318664550781,
          34.48911666870117,
          -15.254899978637695,
          11.391249656677246,
          -10.541566848754883,
          -15.648770332336426,
          8.307280540466309,
          39.90302276611328,
          32.513160705566406,
          28.49324607849121,
          30.88953971862793,
          37.206626892089844,
          -17.249313354492188,
          3.576791286468506,
          9.022980690002441,
          5.534634590148926,
          3.8138086795806885,
          3.4313693046569824,
          -20.252498626708984,
          -32.943702697753906,
          16.856531143188477,
          34.52183151245117,
          -13.482150077819824,
          -13.847999572753906,
          -11.873820304870605,
          5.087831020355225,
          -27.505767822265625,
          30.54073143005371,
          8.80395793914795,
          14.631306648254395,
          -9.765329360961914,
          21.687955856323242,
          14.2479829788208,
          16.375036239624023,
          -15.586260795593262,
          26.763473510742188,
          -4.122808933258057,
          -20.558452606201172,
          -6.006364822387695,
          14.044053077697754,
          0.6817331314086914,
          -2.1784706115722656,
          1.8725357055664062,
          -22.60784339904785,
          -4.167987823486328,
          7.240854263305664,
          -6.537517547607422,
          25.56402015686035,
          5.946630477905273,
          -4.055540084838867,
          30.36058807373047,
          16.556745529174805,
          34.490478515625,
          9.506813049316406,
          29.336103439331055,
          -5.424476623535156,
          24.208940505981445,
          27.433013916015625,
          8.69129753112793,
          32.82868194580078,
          32.79123306274414,
          2.6626617908477783,
          -4.0777153968811035,
          -18.590160369873047,
          13.916698455810547,
          21.73955726623535,
          -7.312758445739746,
          -35.7757453918457,
          19.098886489868164,
          8.348833084106445,
          3.3378794193267822,
          2.5976412296295166,
          10.020891189575195,
          0.1764296442270279,
          35.7511100769043,
          23.71697235107422,
          20.046241760253906,
          -15.11738109588623,
          17.10344696044922,
          -17.6912784576416,
          -4.503113746643066,
          -13.856383323669434,
          -9.781668663024902,
          -14.07099723815918,
          -9.751360893249512,
          -9.17871379852295,
          -1.2609409093856812,
          35.588809967041016,
          15.612693786621094,
          -19.430171966552734,
          -5.277897357940674,
          -7.808920383453369,
          -8.428954124450684,
          -32.90106964111328,
          -13.977218627929688,
          -24.858009338378906,
          -21.270288467407227
         ],
         "yaxis": "y"
        }
       ],
       "layout": {
        "coloraxis": {
         "colorbar": {
          "title": {
           "text": "label"
          }
         },
         "colorscale": [
          [
           0,
           "#0d0887"
          ],
          [
           0.1111111111111111,
           "#46039f"
          ],
          [
           0.2222222222222222,
           "#7201a8"
          ],
          [
           0.3333333333333333,
           "#9c179e"
          ],
          [
           0.4444444444444444,
           "#bd3786"
          ],
          [
           0.5555555555555556,
           "#d8576b"
          ],
          [
           0.6666666666666666,
           "#ed7953"
          ],
          [
           0.7777777777777778,
           "#fb9f3a"
          ],
          [
           0.8888888888888888,
           "#fdca26"
          ],
          [
           1,
           "#f0f921"
          ]
         ]
        },
        "legend": {
         "tracegroupgap": 0
        },
        "template": {
         "data": {
          "bar": [
           {
            "error_x": {
             "color": "#2a3f5f"
            },
            "error_y": {
             "color": "#2a3f5f"
            },
            "marker": {
             "line": {
              "color": "#E5ECF6",
              "width": 0.5
             },
             "pattern": {
              "fillmode": "overlay",
              "size": 10,
              "solidity": 0.2
             }
            },
            "type": "bar"
           }
          ],
          "barpolar": [
           {
            "marker": {
             "line": {
              "color": "#E5ECF6",
              "width": 0.5
             },
             "pattern": {
              "fillmode": "overlay",
              "size": 10,
              "solidity": 0.2
             }
            },
            "type": "barpolar"
           }
          ],
          "carpet": [
           {
            "aaxis": {
             "endlinecolor": "#2a3f5f",
             "gridcolor": "white",
             "linecolor": "white",
             "minorgridcolor": "white",
             "startlinecolor": "#2a3f5f"
            },
            "baxis": {
             "endlinecolor": "#2a3f5f",
             "gridcolor": "white",
             "linecolor": "white",
             "minorgridcolor": "white",
             "startlinecolor": "#2a3f5f"
            },
            "type": "carpet"
           }
          ],
          "choropleth": [
           {
            "colorbar": {
             "outlinewidth": 0,
             "ticks": ""
            },
            "type": "choropleth"
           }
          ],
          "contour": [
           {
            "colorbar": {
             "outlinewidth": 0,
             "ticks": ""
            },
            "colorscale": [
             [
              0,
              "#0d0887"
             ],
             [
              0.1111111111111111,
              "#46039f"
             ],
             [
              0.2222222222222222,
              "#7201a8"
             ],
             [
              0.3333333333333333,
              "#9c179e"
             ],
             [
              0.4444444444444444,
              "#bd3786"
             ],
             [
              0.5555555555555556,
              "#d8576b"
             ],
             [
              0.6666666666666666,
              "#ed7953"
             ],
             [
              0.7777777777777778,
              "#fb9f3a"
             ],
             [
              0.8888888888888888,
              "#fdca26"
             ],
             [
              1,
              "#f0f921"
             ]
            ],
            "type": "contour"
           }
          ],
          "contourcarpet": [
           {
            "colorbar": {
             "outlinewidth": 0,
             "ticks": ""
            },
            "type": "contourcarpet"
           }
          ],
          "heatmap": [
           {
            "colorbar": {
             "outlinewidth": 0,
             "ticks": ""
            },
            "colorscale": [
             [
              0,
              "#0d0887"
             ],
             [
              0.1111111111111111,
              "#46039f"
             ],
             [
              0.2222222222222222,
              "#7201a8"
             ],
             [
              0.3333333333333333,
              "#9c179e"
             ],
             [
              0.4444444444444444,
              "#bd3786"
             ],
             [
              0.5555555555555556,
              "#d8576b"
             ],
             [
              0.6666666666666666,
              "#ed7953"
             ],
             [
              0.7777777777777778,
              "#fb9f3a"
             ],
             [
              0.8888888888888888,
              "#fdca26"
             ],
             [
              1,
              "#f0f921"
             ]
            ],
            "type": "heatmap"
           }
          ],
          "heatmapgl": [
           {
            "colorbar": {
             "outlinewidth": 0,
             "ticks": ""
            },
            "colorscale": [
             [
              0,
              "#0d0887"
             ],
             [
              0.1111111111111111,
              "#46039f"
             ],
             [
              0.2222222222222222,
              "#7201a8"
             ],
             [
              0.3333333333333333,
              "#9c179e"
             ],
             [
              0.4444444444444444,
              "#bd3786"
             ],
             [
              0.5555555555555556,
              "#d8576b"
             ],
             [
              0.6666666666666666,
              "#ed7953"
             ],
             [
              0.7777777777777778,
              "#fb9f3a"
             ],
             [
              0.8888888888888888,
              "#fdca26"
             ],
             [
              1,
              "#f0f921"
             ]
            ],
            "type": "heatmapgl"
           }
          ],
          "histogram": [
           {
            "marker": {
             "pattern": {
              "fillmode": "overlay",
              "size": 10,
              "solidity": 0.2
             }
            },
            "type": "histogram"
           }
          ],
          "histogram2d": [
           {
            "colorbar": {
             "outlinewidth": 0,
             "ticks": ""
            },
            "colorscale": [
             [
              0,
              "#0d0887"
             ],
             [
              0.1111111111111111,
              "#46039f"
             ],
             [
              0.2222222222222222,
              "#7201a8"
             ],
             [
              0.3333333333333333,
              "#9c179e"
             ],
             [
              0.4444444444444444,
              "#bd3786"
             ],
             [
              0.5555555555555556,
              "#d8576b"
             ],
             [
              0.6666666666666666,
              "#ed7953"
             ],
             [
              0.7777777777777778,
              "#fb9f3a"
             ],
             [
              0.8888888888888888,
              "#fdca26"
             ],
             [
              1,
              "#f0f921"
             ]
            ],
            "type": "histogram2d"
           }
          ],
          "histogram2dcontour": [
           {
            "colorbar": {
             "outlinewidth": 0,
             "ticks": ""
            },
            "colorscale": [
             [
              0,
              "#0d0887"
             ],
             [
              0.1111111111111111,
              "#46039f"
             ],
             [
              0.2222222222222222,
              "#7201a8"
             ],
             [
              0.3333333333333333,
              "#9c179e"
             ],
             [
              0.4444444444444444,
              "#bd3786"
             ],
             [
              0.5555555555555556,
              "#d8576b"
             ],
             [
              0.6666666666666666,
              "#ed7953"
             ],
             [
              0.7777777777777778,
              "#fb9f3a"
             ],
             [
              0.8888888888888888,
              "#fdca26"
             ],
             [
              1,
              "#f0f921"
             ]
            ],
            "type": "histogram2dcontour"
           }
          ],
          "mesh3d": [
           {
            "colorbar": {
             "outlinewidth": 0,
             "ticks": ""
            },
            "type": "mesh3d"
           }
          ],
          "parcoords": [
           {
            "line": {
             "colorbar": {
              "outlinewidth": 0,
              "ticks": ""
             }
            },
            "type": "parcoords"
           }
          ],
          "pie": [
           {
            "automargin": true,
            "type": "pie"
           }
          ],
          "scatter": [
           {
            "fillpattern": {
             "fillmode": "overlay",
             "size": 10,
             "solidity": 0.2
            },
            "type": "scatter"
           }
          ],
          "scatter3d": [
           {
            "line": {
             "colorbar": {
              "outlinewidth": 0,
              "ticks": ""
             }
            },
            "marker": {
             "colorbar": {
              "outlinewidth": 0,
              "ticks": ""
             }
            },
            "type": "scatter3d"
           }
          ],
          "scattercarpet": [
           {
            "marker": {
             "colorbar": {
              "outlinewidth": 0,
              "ticks": ""
             }
            },
            "type": "scattercarpet"
           }
          ],
          "scattergeo": [
           {
            "marker": {
             "colorbar": {
              "outlinewidth": 0,
              "ticks": ""
             }
            },
            "type": "scattergeo"
           }
          ],
          "scattergl": [
           {
            "marker": {
             "colorbar": {
              "outlinewidth": 0,
              "ticks": ""
             }
            },
            "type": "scattergl"
           }
          ],
          "scattermapbox": [
           {
            "marker": {
             "colorbar": {
              "outlinewidth": 0,
              "ticks": ""
             }
            },
            "type": "scattermapbox"
           }
          ],
          "scatterpolar": [
           {
            "marker": {
             "colorbar": {
              "outlinewidth": 0,
              "ticks": ""
             }
            },
            "type": "scatterpolar"
           }
          ],
          "scatterpolargl": [
           {
            "marker": {
             "colorbar": {
              "outlinewidth": 0,
              "ticks": ""
             }
            },
            "type": "scatterpolargl"
           }
          ],
          "scatterternary": [
           {
            "marker": {
             "colorbar": {
              "outlinewidth": 0,
              "ticks": ""
             }
            },
            "type": "scatterternary"
           }
          ],
          "surface": [
           {
            "colorbar": {
             "outlinewidth": 0,
             "ticks": ""
            },
            "colorscale": [
             [
              0,
              "#0d0887"
             ],
             [
              0.1111111111111111,
              "#46039f"
             ],
             [
              0.2222222222222222,
              "#7201a8"
             ],
             [
              0.3333333333333333,
              "#9c179e"
             ],
             [
              0.4444444444444444,
              "#bd3786"
             ],
             [
              0.5555555555555556,
              "#d8576b"
             ],
             [
              0.6666666666666666,
              "#ed7953"
             ],
             [
              0.7777777777777778,
              "#fb9f3a"
             ],
             [
              0.8888888888888888,
              "#fdca26"
             ],
             [
              1,
              "#f0f921"
             ]
            ],
            "type": "surface"
           }
          ],
          "table": [
           {
            "cells": {
             "fill": {
              "color": "#EBF0F8"
             },
             "line": {
              "color": "white"
             }
            },
            "header": {
             "fill": {
              "color": "#C8D4E3"
             },
             "line": {
              "color": "white"
             }
            },
            "type": "table"
           }
          ]
         },
         "layout": {
          "annotationdefaults": {
           "arrowcolor": "#2a3f5f",
           "arrowhead": 0,
           "arrowwidth": 1
          },
          "autotypenumbers": "strict",
          "coloraxis": {
           "colorbar": {
            "outlinewidth": 0,
            "ticks": ""
           }
          },
          "colorscale": {
           "diverging": [
            [
             0,
             "#8e0152"
            ],
            [
             0.1,
             "#c51b7d"
            ],
            [
             0.2,
             "#de77ae"
            ],
            [
             0.3,
             "#f1b6da"
            ],
            [
             0.4,
             "#fde0ef"
            ],
            [
             0.5,
             "#f7f7f7"
            ],
            [
             0.6,
             "#e6f5d0"
            ],
            [
             0.7,
             "#b8e186"
            ],
            [
             0.8,
             "#7fbc41"
            ],
            [
             0.9,
             "#4d9221"
            ],
            [
             1,
             "#276419"
            ]
           ],
           "sequential": [
            [
             0,
             "#0d0887"
            ],
            [
             0.1111111111111111,
             "#46039f"
            ],
            [
             0.2222222222222222,
             "#7201a8"
            ],
            [
             0.3333333333333333,
             "#9c179e"
            ],
            [
             0.4444444444444444,
             "#bd3786"
            ],
            [
             0.5555555555555556,
             "#d8576b"
            ],
            [
             0.6666666666666666,
             "#ed7953"
            ],
            [
             0.7777777777777778,
             "#fb9f3a"
            ],
            [
             0.8888888888888888,
             "#fdca26"
            ],
            [
             1,
             "#f0f921"
            ]
           ],
           "sequentialminus": [
            [
             0,
             "#0d0887"
            ],
            [
             0.1111111111111111,
             "#46039f"
            ],
            [
             0.2222222222222222,
             "#7201a8"
            ],
            [
             0.3333333333333333,
             "#9c179e"
            ],
            [
             0.4444444444444444,
             "#bd3786"
            ],
            [
             0.5555555555555556,
             "#d8576b"
            ],
            [
             0.6666666666666666,
             "#ed7953"
            ],
            [
             0.7777777777777778,
             "#fb9f3a"
            ],
            [
             0.8888888888888888,
             "#fdca26"
            ],
            [
             1,
             "#f0f921"
            ]
           ]
          },
          "colorway": [
           "#636efa",
           "#EF553B",
           "#00cc96",
           "#ab63fa",
           "#FFA15A",
           "#19d3f3",
           "#FF6692",
           "#B6E880",
           "#FF97FF",
           "#FECB52"
          ],
          "font": {
           "color": "#2a3f5f"
          },
          "geo": {
           "bgcolor": "white",
           "lakecolor": "white",
           "landcolor": "#E5ECF6",
           "showlakes": true,
           "showland": true,
           "subunitcolor": "white"
          },
          "hoverlabel": {
           "align": "left"
          },
          "hovermode": "closest",
          "mapbox": {
           "style": "light"
          },
          "paper_bgcolor": "white",
          "plot_bgcolor": "#E5ECF6",
          "polar": {
           "angularaxis": {
            "gridcolor": "white",
            "linecolor": "white",
            "ticks": ""
           },
           "bgcolor": "#E5ECF6",
           "radialaxis": {
            "gridcolor": "white",
            "linecolor": "white",
            "ticks": ""
           }
          },
          "scene": {
           "xaxis": {
            "backgroundcolor": "#E5ECF6",
            "gridcolor": "white",
            "gridwidth": 2,
            "linecolor": "white",
            "showbackground": true,
            "ticks": "",
            "zerolinecolor": "white"
           },
           "yaxis": {
            "backgroundcolor": "#E5ECF6",
            "gridcolor": "white",
            "gridwidth": 2,
            "linecolor": "white",
            "showbackground": true,
            "ticks": "",
            "zerolinecolor": "white"
           },
           "zaxis": {
            "backgroundcolor": "#E5ECF6",
            "gridcolor": "white",
            "gridwidth": 2,
            "linecolor": "white",
            "showbackground": true,
            "ticks": "",
            "zerolinecolor": "white"
           }
          },
          "shapedefaults": {
           "line": {
            "color": "#2a3f5f"
           }
          },
          "ternary": {
           "aaxis": {
            "gridcolor": "white",
            "linecolor": "white",
            "ticks": ""
           },
           "baxis": {
            "gridcolor": "white",
            "linecolor": "white",
            "ticks": ""
           },
           "bgcolor": "#E5ECF6",
           "caxis": {
            "gridcolor": "white",
            "linecolor": "white",
            "ticks": ""
           }
          },
          "title": {
           "x": 0.05
          },
          "xaxis": {
           "automargin": true,
           "gridcolor": "white",
           "linecolor": "white",
           "ticks": "",
           "title": {
            "standoff": 15
           },
           "zerolinecolor": "white",
           "zerolinewidth": 2
          },
          "yaxis": {
           "automargin": true,
           "gridcolor": "white",
           "linecolor": "white",
           "ticks": "",
           "title": {
            "standoff": 15
           },
           "zerolinecolor": "white",
           "zerolinewidth": 2
          }
         }
        },
        "title": {
         "text": "TSNE dla FastText dla słów"
        },
        "xaxis": {
         "anchor": "y",
         "domain": [
          0,
          1
         ],
         "title": {
          "text": "x"
         }
        },
        "yaxis": {
         "anchor": "x",
         "domain": [
          0,
          1
         ],
         "title": {
          "text": "y"
         }
        }
       }
      }
     },
     "metadata": {},
     "output_type": "display_data"
    }
   ],
   "source": [
    "\n",
    "X = np.array(list(df_for_analysis['embedding']))\n",
    "\n",
    "scaler = StandardScaler()\n",
    "X_standardized = scaler.fit_transform(X)\n",
    "\n",
    "\n",
    "X_embedded = TSNE(n_components=2, random_state=42).fit_transform(X_standardized)\n",
    "\n",
    "df_tsne = pd.DataFrame(X_embedded, columns=['x', 'y'])\n",
    "df_tsne['label'] = df_for_analysis['labels']\n",
    "df_tsne['text'] = df_for_analysis['nouns']\n",
    "\n",
    "fig = px.scatter(df_tsne, x='x', y='y', color='label', hover_data=['text'], title='TSNE dla FastText dla słów')\n",
    "fig.show()"
   ]
  },
  {
   "cell_type": "code",
   "execution_count": 61,
   "metadata": {},
   "outputs": [
    {
     "data": {
      "application/vnd.plotly.v1+json": {
       "config": {
        "plotlyServerURL": "https://plot.ly"
       },
       "data": [
        {
         "customdata": [
          [
           "LUDZIE"
          ],
          [
           "RESTAURACJA"
          ],
          [
           "pomoc"
          ],
          [
           "świat"
          ],
          [
           "kurtkę"
          ],
          [
           "milionów"
          ],
          [
           "konkretach"
          ],
          [
           "zmianę"
          ],
          [
           "ławce"
          ],
          [
           "gnojki"
          ],
          [
           "znaki"
          ],
          [
           "zapytania"
          ],
          [
           "końcu"
          ],
          [
           "wyroki"
          ],
          [
           "Sądu"
          ],
          [
           "razy"
          ],
          [
           "porównania"
          ],
          [
           "Patryk"
          ],
          [
           "wybory"
          ],
          [
           "prezydenta"
          ],
          [
           "statystyki"
          ],
          [
           "bramke"
          ],
          [
           "razu"
          ],
          [
           "ojczyźnie"
          ],
          [
           "taksówki"
          ],
          [
           "szacunek"
          ],
          [
           "oparciu"
          ],
          [
           "opinię"
          ],
          [
           "opinią"
          ],
          [
           "prezesem"
          ],
          [
           "klubu"
          ],
          [
           "przewodniczącym"
          ],
          [
           "wydziału"
          ],
          [
           "futsalu"
          ],
          [
           "limit"
          ],
          [
           "obcokrajowców"
          ],
          [
           "podstawy"
          ],
          [
           "pary"
          ],
          [
           "pedofilia"
          ],
          [
           "zboczenie"
          ],
          [
           "homoseksualizm"
          ],
          [
           "razie"
          ],
          [
           "rade"
          ],
          [
           "rekord"
          ],
          [
           "wychowanki"
          ],
          [
           "pewnością"
          ],
          [
           "sektorom"
          ],
          [
           "\\\"eksperci\\"
          ],
          [
           "rzeczy"
          ],
          [
           "gumę"
          ],
          [
           "maja"
          ],
          [
           "wsparcie"
          ],
          [
           "Pani"
          ],
          [
           "parcie"
          ],
          [
           "szklo"
          ],
          [
           "efekt"
          ],
          [
           "obcasy"
          ],
          [
           "trza"
          ],
          [
           "mecze"
          ],
          [
           "druzyn"
          ],
          [
           "meczów"
          ],
          [
           "raz"
          ],
          [
           "żołnierki"
          ],
          [
           "kwiaty"
          ],
          [
           "bach"
          ],
          [
           "kognitywistykę"
          ],
          [
           "komunikacji"
          ],
          [
           "wrażenia"
          ],
          [
           "stopień"
          ],
          [
           "urlopie"
          ],
          [
           "państwo"
          ],
          [
           "propagandę"
          ],
          [
           "karpie"
          ],
          [
           "słów"
          ],
          [
           "temat"
          ],
          [
           "jeziora"
          ],
          [
           "Modric"
          ],
          [
           "Rakitic"
          ],
          [
           "momentach"
          ],
          [
           "oryginał"
          ],
          [
           "Wyzwanie"
          ],
          [
           "Syn"
          ],
          [
           "mega"
          ],
          [
           "słodziakiem"
          ],
          [
           "klasie"
          ],
          [
           "podstawówki"
          ],
          [
           "ryzyko"
          ],
          [
           "kupon"
          ],
          [
           "chorób"
          ],
          [
           "stanu"
          ],
          [
           "statystyk"
          ],
          [
           "występu"
          ],
          [
           "realista"
          ],
          [
           "wyjątkiem"
          ],
          [
           "siły"
          ],
          [
           "kolejkę"
          ],
          [
           "przekładzie"
          ],
          [
           "trenerem"
          ],
          [
           "Dziadek"
          ],
          [
           "żonie"
          ],
          [
           "mieszkanie"
          ],
          [
           "patologia"
          ],
          [
           "statystykach"
          ],
          [
           "umiejętnościach"
          ],
          [
           "sufit"
          ],
          [
           "Remis"
          ],
          [
           "lvbet"
          ],
          [
           "remis"
          ],
          [
           "torbą"
          ],
          [
           "serce"
          ],
          [
           "wódeczka"
          ],
          [
           "życia"
          ],
          [
           "poczcie"
          ],
          [
           "kredą"
          ],
          [
           "asfalcie"
          ],
          [
           "znak"
          ],
          [
           "solidarności"
          ],
          [
           "ofiarą"
          ],
          [
           "osoby"
          ],
          [
           "lgbt"
          ],
          [
           "ogóle"
          ],
          [
           "komunikacji"
          ],
          [
           "wiec"
          ],
          [
           "pasażerami"
          ],
          [
           "parodia"
          ],
          [
           "pisowski"
          ],
          [
           "liczbe"
          ],
          [
           "występów"
          ],
          [
           "moze"
          ],
          [
           "drzewem"
          ],
          [
           "ogrodzie"
          ],
          [
           "lisie"
          ],
          [
           "dodatku"
          ],
          [
           "sztućcami"
          ],
          [
           "grzech"
          ],
          [
           "świecie"
          ],
          [
           "Raz"
          ],
          [
           "piwo"
          ],
          [
           "sensem"
          ],
          [
           "przeciwieństwo"
          ],
          [
           "autem"
          ],
          [
           "drodze"
          ],
          [
           "wizje"
          ],
          [
           "zmiany"
          ],
          [
           "minucie"
          ],
          [
           "pochwal"
          ],
          [
           "ehh"
          ],
          [
           "remis"
          ],
          [
           "meczu"
          ],
          [
           "obraz"
          ],
          [
           "wieczorem"
          ],
          [
           "razie"
          ],
          [
           "serial"
          ],
          [
           "Papadopoulosa"
          ],
          [
           "sektor"
          ],
          [
           "chodzenie"
          ],
          [
           "mecz"
          ],
          [
           "kolejki"
          ],
          [
           "bilet"
          ],
          [
           "wagonów"
          ],
          [
           "powodzenia"
          ],
          [
           "końca"
          ],
          [
           "kraju"
          ],
          [
           "pisdzielstwo"
          ],
          [
           "delegalizacja"
          ],
          [
           "ramach"
          ],
          [
           "przywracania"
          ],
          [
           "skromności"
          ],
          [
           "Prezes"
          ],
          [
           "nazwę"
          ],
          [
           "spółki"
          ],
          [
           "lud"
          ],
          [
           "myśli"
          ],
          [
           "trenerzy"
          ],
          [
           "tymczasowi"
          ],
          [
           "statystyka"
          ],
          [
           "gazu"
          ],
          [
           "powtarzania"
          ],
          [
           "opinii"
          ],
          [
           "tarczycy"
          ],
          [
           "człowiek"
          ],
          [
           "maratonie"
          ],
          [
           "radnia"
          ],
          [
           "otworami"
          ],
          [
           "pikuś"
          ],
          [
           "mecz"
          ],
          [
           "mistrzostwo"
          ],
          [
           "sekundy"
          ],
          [
           "końca"
          ],
          [
           "kasy"
          ],
          [
           "gry"
          ],
          [
           "lidze"
          ],
          [
           "przeciwnikiem"
          ],
          [
           "wydaniu"
          ],
          [
           "lidze"
          ],
          [
           "post"
          ],
          [
           "Ej"
          ],
          [
           "czwartki"
          ],
          [
           "social"
          ],
          [
           "media"
          ],
          [
           "walenia"
          ],
          [
           "tony"
          ],
          [
           "jezyk"
          ],
          [
           "walenia"
          ],
          [
           "pisdzielstwo"
          ],
          [
           "rację"
          ],
          [
           "dłoni"
          ],
          [
           "homopisuarowiec"
          ],
          [
           "atrapa"
          ],
          [
           "dykty"
          ],
          [
           "całości"
          ],
          [
           "wypadku"
          ],
          [
           "transplantacja"
          ],
          [
           "głowy"
          ],
          [
           "lifting"
          ],
          [
           "gęby"
          ],
          [
           "wszczepienie"
          ],
          [
           "mózgu"
          ],
          [
           "łbach"
          ],
          [
           "razu"
          ],
          [
           "wymioty"
          ],
          [
           "tragedia"
          ],
          [
           "Pana"
          ],
          [
           "zdanie"
          ],
          [
           "Pan"
          ],
          [
           "język"
          ],
          [
           "strzelaniny"
          ],
          [
           "zwroty"
          ],
          [
           "akcji"
          ],
          [
           "kwestia"
          ],
          [
           "nieznajomości"
          ],
          [
           "slajdów"
          ],
          [
           "prezesa"
          ],
          [
           "front"
          ],
          [
           "kasy"
          ],
          [
           "malopolan"
          ],
          [
           "końcu"
          ],
          [
           "reprezentacje"
          ],
          [
           "Niejaki"
          ],
          [
           "standardy"
          ],
          [
           "dziennikarstwa"
          ],
          [
           "gówno"
          ],
          [
           "dzień"
          ],
          [
           "dzień"
          ],
          [
           "rady"
          ],
          [
           "wartość"
          ],
          [
           "krytyki"
          ],
          [
           "poseł"
          ],
          [
           "Naprawdè"
          ],
          [
           "tępy"
          ],
          [
           "idiotę"
          ],
          [
           "konta"
          ],
          [
           "fav"
          ],
          [
           "tweeta"
          ],
          [
           "sezon"
          ],
          [
           "\\n\\ndziunia"
          ],
          [
           "klasie"
          ],
          [
           "ZDROWIE"
          ],
          [
           "facet"
          ],
          [
           "mózgiem"
          ],
          [
           "jenota"
          ],
          [
           "dzien"
          ],
          [
           "jeszze"
          ],
          [
           "prezentacji"
          ],
          [
           "pucharach"
          ],
          [
           "mendo"
          ],
          [
           "pisowska"
          ],
          [
           "środowisko"
          ],
          [
           "cykl"
          ],
          [
           "fotoszopa"
          ],
          [
           "tramwaj"
          ],
          [
           "chodkiewicza"
          ],
          [
           "znajomi"
          ],
          [
           "ziemie"
          ],
          [
           "agentem"
          ],
          [
           "obiektywizmu"
          ],
          [
           "Pani"
          ],
          [
           "odszkodowania"
          ],
          [
           "nominat"
          ],
          [
           "Poziom"
          ],
          [
           "prymitywizmu"
          ],
          [
           "łomocie"
          ],
          [
           "miastach"
          ],
          [
           "Polaków\\"
          ],
          [
           "monitorka"
          ],
          [
           "kartka"
          ],
          [
           "wątpliwości"
          ],
          [
           "wydaniu"
          ],
          [
           "polu"
          ],
          [
           "razie"
          ],
          [
           "przekaz"
          ],
          [
           "\\\"ulica"
          ],
          [
           "zagranica\\"
          ],
          [
           "dyscyplina"
          ],
          [
           "warunkiem"
          ],
          [
           "sportowcy"
          ],
          [
           "ludzie"
          ],
          [
           "wpływem"
          ],
          [
           "alkoholu"
          ],
          [
           "lawirowaniu"
          ],
          [
           "Wypozyczeni"
          ],
          [
           "Stal"
          ],
          [
           "minuty"
          ],
          [
           "Czasu"
          ],
          [
           "wykonawców"
          ],
          [
           "pozycjach"
          ],
          [
           "panowie"
          ],
          [
           "kabaret"
          ],
          [
           "mina"
          ],
          [
           "styl"
          ],
          [
           "życia"
          ],
          [
           "nogi"
          ],
          [
           "azbest"
          ],
          [
           "mózg"
          ],
          [
           "deszcz"
          ],
          [
           "grozy"
          ],
          [
           "karku"
          ],
          [
           "Minister"
          ],
          [
           "przemówienie"
          ],
          [
           "Wrona"
          ],
          [
           "Tata"
          ],
          [
           "ludzi"
          ],
          [
           "szkoły"
          ],
          [
           "pani"
          ],
          [
           "chuju"
          ],
          [
           "komuchami"
          ],
          [
           "aspekt"
          ],
          [
           "zakończenia"
          ],
          [
           "dnia"
          ],
          [
           "babci"
          ],
          [
           "REKLAMĘ"
          ],
          [
           "\\\"Bardzo"
          ],
          [
           "dziadków"
          ],
          [
           "sercu"
          ],
          [
           "dziewczyna"
          ],
          [
           "Krzyże"
          ],
          [
           "czasu"
          ],
          [
           "kurwa"
          ],
          [
           "wolność"
          ],
          [
           "maskara"
          ],
          [
           "państwem"
          ],
          [
           "poseł"
          ],
          [
           "film"
          ],
          [
           "liceum"
          ],
          [
           "raz"
          ],
          [
           "podstawie"
          ],
          [
           "kamerą"
          ],
          [
           "pistoletem"
          ],
          [
           "słowa"
          ],
          [
           "skrzydło"
          ],
          [
           "strony"
          ],
          [
           "formie"
          ],
          [
           "świata"
          ],
          [
           "metrów"
          ],
          [
           "konfesjonałów"
          ],
          [
           "sprawa"
          ],
          [
           "prostak"
          ],
          [
           "śmierci"
          ],
          [
           "sprawach"
          ],
          [
           "oświetlenia"
          ],
          [
           "córki"
          ],
          [
           "okna"
          ],
          [
           "kamieniami"
          ],
          [
           "polityk"
          ],
          [
           "sędzinę"
          ],
          [
           "gry"
          ],
          [
           "genach"
          ],
          [
           "wiatr"
          ],
          [
           "głowy"
          ],
          [
           "Patryk"
          ],
          [
           "wybory"
          ],
          [
           "oczyści"
          ],
          [
           "stolicę"
          ],
          [
           "UBECKICH"
          ],
          [
           "funkcjonariuszy"
          ],
          [
           "powietrze"
          ],
          [
           "tarczy"
          ],
          [
           "obiekt"
          ],
          [
           "teledysku"
          ],
          [
           "4funtv"
          ],
          [
           "ogóle"
          ],
          [
           "jaj"
          ],
          [
           "lata"
          ],
          [
           "pracy"
          ],
          [
           "Sztuki"
          ],
          [
           "Walki"
          ],
          [
           "siłownia"
          ],
          [
           "zdjęciu"
          ],
          [
           "kibiców"
          ],
          [
           "wpisy"
          ],
          [
           "człowiekowi"
          ],
          [
           "znaczenia"
          ],
          [
           "ceny"
          ],
          [
           "moda"
          ],
          [
           "filmiki"
          ],
          [
           "Twitterze"
          ],
          [
           "pijta"
          ],
          [
           "apteka"
          ],
          [
           "dno"
          ],
          [
           "skupmy"
          ],
          [
           "Prezes"
          ],
          [
           "razie"
          ],
          [
           "finału"
          ],
          [
           "finał"
          ],
          [
           "przysmaki"
          ],
          [
           "ramach"
          ],
          [
           "przekupstwa"
          ],
          [
           "narracja"
          ],
          [
           "obozu"
          ],
          [
           "zmiany\\"
          ],
          [
           "Uszczelnienie"
          ],
          [
           "kapitanie"
          ],
          [
           "futsal"
          ],
          [
           "ekstraklasy"
          ],
          [
           "rusi"
          ],
          [
           "rzeszy"
          ],
          [
           "kaczuszkę"
          ],
          [
           "niedziele"
          ],
          [
           "kibice"
          ],
          [
           "zero"
          ],
          [
           "reklamy"
          ],
          [
           "konpromitacją"
          ],
          [
           "historii"
          ],
          [
           "Pana"
          ],
          [
           "udział"
          ],
          [
           "obalaniu"
          ],
          [
           "Premiera"
          ],
          [
           "#"
          ],
          [
           "jeju"
          ],
          [
           "ulgę"
          ],
          [
           "szok"
          ],
          [
           "czas"
          ],
          [
           "drzemkę"
          ],
          [
           "czasu"
          ],
          [
           "internecie"
          ],
          [
           "powtórkę"
          ],
          [
           "utrzymaliście"
          ],
          [
           "stoliku"
          ],
          [
           "miejsca"
          ],
          [
           "Pies"
          ],
          [
           "czasem"
          ],
          [
           "książki"
          ],
          [
           "chłopczyk"
          ],
          [
           "problemami"
          ],
          [
           "politycy"
          ],
          [
           "Ja"
          ],
          [
           "dm"
          ],
          [
           "ligi"
          ],
          [
           "dwumeczu"
          ],
          [
           "dziewczynami"
          ],
          [
           "życie"
          ],
          [
           "liście"
          ],
          [
           "kleić"
          ],
          [
           "przekładzie"
          ],
          [
           "Lisek"
          ],
          [
           "tysięcy"
          ],
          [
           "egzemplarzy"
          ],
          [
           "statystyk"
          ],
          [
           "jezu"
          ],
          [
           "osób"
          ],
          [
           "roku"
          ],
          [
           "#"
          ],
          [
           "Internecie,\\nGdzie"
          ],
          [
           "śmiecie"
          ],
          [
           "zakład"
          ],
          [
           "podanie"
          ],
          [
           "brat"
          ],
          [
           "rozgrzeszenie"
          ],
          [
           "człowiekiem"
          ],
          [
           "ludzmi"
          ],
          [
           "raz"
          ],
          [
           "przyjecia"
          ],
          [
           "sadownictwa"
          ],
          [
           "fakt"
          ],
          [
           "kangurem"
          ],
          [
           "glowy"
          ],
          [
           "głupek"
          ],
          [
           "tytułem"
          ],
          [
           "wślizg"
          ],
          [
           "ściągnięcie"
          ],
          [
           "parteru"
          ],
          [
           "gościa"
          ],
          [
           "robiliscie"
          ],
          [
           "\\\"Opowiadania"
          ],
          [
           "odeskie\\"
          ],
          [
           "interpretacji"
          ],
          [
           "alkohol"
          ],
          [
           "umiarem"
          ],
          [
           "ilościach"
          ],
          [
           "Perez"
          ],
          [
           "przedstawienie"
          ],
          [
           "cyrk"
          ],
          [
           "maja"
          ],
          [
           "wsparcie"
          ],
          [
           "Pani"
          ],
          [
           "parcie"
          ],
          [
           "szklo"
          ],
          [
           "efekt"
          ],
          [
           "wieś"
          ],
          [
           "lat"
          ],
          [
           "złodzieje"
          ],
          [
           "malwersanci"
          ],
          [
           "pokoju"
          ],
          [
           "kandydat"
          ],
          [
           "napastnika"
          ],
          [
           "ligi"
          ],
          [
           "Babcia"
          ],
          [
           "końca"
          ],
          [
           "świata"
          ],
          [
           "babcią"
          ],
          [
           "szansa"
          ],
          [
           "Lechia"
          ],
          [
           "kibicom"
          ],
          [
           "szaliki"
          ],
          [
           "kibice"
          ],
          [
           "Celtiku"
          ],
          [
           "szmata"
          ],
          [
           "różnicy"
          ],
          [
           "koniec"
          ],
          [
           "kangurami"
          ],
          [
           "misiem"
          ],
          [
           "koala"
          ],
          [
           "euro"
          ],
          [
           "produkty"
          ],
          [
           "screenami"
          ],
          [
           "gwizdkiem"
          ],
          [
           "banku"
          ],
          [
           "konto"
          ],
          [
           "polaka"
          ],
          [
           "radę"
          ],
          [
           "prezesi"
          ],
          [
           "trenerów"
          ],
          [
           "okiem"
          ],
          [
           "akademiku"
          ],
          [
           "perwersja"
          ],
          [
           "sporcie"
          ],
          [
           "okazję"
          ],
          [
           "rok"
          ],
          [
           "ludzi"
          ],
          [
           "minuty"
          ],
          [
           "szacunkiem"
          ],
          [
           "bandytyzm"
          ],
          [
           "walka"
          ],
          [
           "okazji"
          ],
          [
           "pech"
          ],
          [
           "niespodzianka"
          ],
          [
           "wyboru"
          ],
          [
           "pucharowiczami"
          ],
          [
           "ust"
          ],
          [
           "komplement"
          ],
          [
           "Przemek"
          ],
          [
           "minut"
          ],
          [
           "ogłoszenie"
          ],
          [
           "pracę"
          ],
          [
           "wślizg"
          ],
          [
           "polu"
          ],
          [
           "debiutant"
          ],
          [
           "nogi"
          ],
          [
           "pchnięcie"
          ],
          [
           "próba"
          ],
          [
           "zagrania"
          ],
          [
           "piłki"
          ],
          [
           "końcu"
          ],
          [
           "mecz"
          ],
          [
           "Ja"
          ],
          [
           "słowo"
          ],
          [
           "mowa"
          ],
          [
           "dupie"
          ],
          [
           "akademikiem"
          ],
          [
           "dołku"
          ],
          [
           "życiu"
          ],
          [
           "towar"
          ],
          [
           "ugotowaniu"
          ],
          [
           "argument"
          ],
          [
           "sprawozdania"
          ],
          [
           "deklaracje"
          ],
          [
           "Problem"
          ],
          [
           "młodzieżowcem"
          ],
          [
           "gole"
          ],
          [
           "przerwy"
          ],
          [
           "telewizji"
          ],
          [
           "baca"
          ],
          [
           "pas"
          ],
          [
           "turystów"
          ],
          [
           "akceptacja"
          ],
          [
           "cebula"
          ],
          [
           "dziennikarstwo"
          ],
          [
           "specjalność"
          ],
          [
           "reklama"
          ],
          [
           "promocja"
          ],
          [
           "rzecznictwo"
          ],
          [
           "cv"
          ],
          [
           "zdjęcia"
          ],
          [
           "fotogenicznością"
          ],
          [
           "determinacja"
          ],
          [
           "kobieta"
          ],
          [
           "kobietę"
          ],
          [
           "Mistrzowie"
          ],
          [
           "branża"
          ],
          [
           "mirda"
          ],
          [
           "kubeł"
          ]
         ],
         "hovertemplate": "x=%{x}<br>y=%{y}<br>text=%{customdata[0]}<br>cluster=%{marker.color}<extra></extra>",
         "legendgroup": "",
         "marker": {
          "color": [
           0,
           0,
           0,
           0,
           0,
           0,
           0,
           0,
           0,
           0,
           -1,
           0,
           0,
           0,
           0,
           0,
           0,
           -1,
           0,
           0,
           0,
           0,
           0,
           0,
           0,
           0,
           0,
           0,
           0,
           0,
           0,
           0,
           0,
           0,
           0,
           0,
           0,
           0,
           0,
           0,
           0,
           0,
           0,
           0,
           0,
           0,
           0,
           0,
           0,
           0,
           0,
           0,
           0,
           -1,
           -1,
           0,
           0,
           0,
           0,
           0,
           0,
           0,
           0,
           0,
           1,
           0,
           0,
           0,
           -1,
           0,
           0,
           0,
           0,
           0,
           0,
           0,
           0,
           0,
           0,
           0,
           0,
           0,
           0,
           0,
           0,
           0,
           0,
           -1,
           0,
           0,
           0,
           0,
           0,
           0,
           0,
           -1,
           -1,
           0,
           0,
           0,
           0,
           0,
           0,
           0,
           0,
           0,
           -1,
           0,
           0,
           0,
           -1,
           0,
           0,
           0,
           0,
           -1,
           0,
           0,
           0,
           0,
           0,
           0,
           0,
           0,
           0,
           0,
           0,
           0,
           0,
           0,
           0,
           0,
           0,
           0,
           0,
           0,
           0,
           -1,
           0,
           0,
           0,
           0,
           0,
           0,
           0,
           0,
           1,
           0,
           0,
           0,
           0,
           0,
           0,
           -1,
           0,
           0,
           0,
           -1,
           0,
           0,
           0,
           0,
           0,
           0,
           0,
           0,
           0,
           0,
           0,
           0,
           0,
           0,
           0,
           0,
           0,
           0,
           0,
           0,
           0,
           0,
           0,
           0,
           0,
           0,
           0,
           0,
           0,
           0,
           0,
           -1,
           0,
           0,
           0,
           0,
           0,
           0,
           1,
           0,
           0,
           0,
           -1,
           0,
           0,
           -1,
           0,
           0,
           0,
           0,
           0,
           0,
           0,
           0,
           0,
           0,
           0,
           0,
           0,
           0,
           0,
           0,
           1,
           0,
           0,
           0,
           0,
           0,
           0,
           0,
           0,
           0,
           0,
           0,
           0,
           0,
           -1,
           0,
           0,
           0,
           0,
           0,
           0,
           0,
           0,
           0,
           0,
           0,
           0,
           0,
           0,
           0,
           0,
           0,
           1,
           -1,
           0,
           0,
           0,
           -1,
           0,
           0,
           0,
           0,
           0,
           0,
           0,
           0,
           0,
           0,
           0,
           0,
           0,
           0,
           0,
           0,
           0,
           0,
           0,
           0,
           0,
           -1,
           0,
           0,
           0,
           0,
           0,
           0,
           0,
           0,
           0,
           0,
           0,
           0,
           0,
           0,
           0,
           0,
           0,
           0,
           -1,
           0,
           0,
           0,
           0,
           0,
           0,
           0,
           0,
           0,
           0,
           0,
           0,
           0,
           -1,
           0,
           -1,
           0,
           0,
           0,
           0,
           0,
           0,
           0,
           0,
           0,
           0,
           0,
           0,
           0,
           0,
           0,
           -1,
           0,
           0,
           0,
           0,
           -1,
           0,
           0,
           0,
           0,
           0,
           0,
           0,
           0,
           0,
           0,
           0,
           0,
           0,
           0,
           0,
           0,
           0,
           0,
           0,
           0,
           0,
           0,
           0,
           0,
           0,
           0,
           0,
           0,
           0,
           0,
           0,
           0,
           0,
           -1,
           0,
           -1,
           0,
           0,
           0,
           0,
           0,
           -1,
           0,
           0,
           0,
           0,
           0,
           0,
           -1,
           -1,
           0,
           0,
           0,
           0,
           0,
           0,
           -1,
           0,
           0,
           -1,
           0,
           0,
           0,
           0,
           0,
           0,
           0,
           0,
           -1,
           0,
           0,
           0,
           -1,
           0,
           -1,
           -1,
           0,
           0,
           0,
           0,
           0,
           0,
           0,
           0,
           0,
           0,
           0,
           0,
           0,
           0,
           0,
           1,
           1,
           0,
           0,
           0,
           0,
           0,
           0,
           0,
           0,
           0,
           0,
           0,
           0,
           0,
           0,
           0,
           0,
           1,
           1,
           0,
           0,
           0,
           0,
           0,
           0,
           -1,
           0,
           0,
           0,
           0,
           1,
           0,
           0,
           1,
           0,
           0,
           -1,
           0,
           0,
           0,
           0,
           0,
           0,
           0,
           0,
           0,
           0,
           0,
           0,
           0,
           -1,
           0,
           0,
           0,
           0,
           0,
           0,
           0,
           -1,
           0,
           0,
           -1,
           0,
           0,
           0,
           0,
           0,
           -1,
           -1,
           0,
           0,
           0,
           0,
           0,
           0,
           0,
           0,
           0,
           0,
           0,
           0,
           0,
           0,
           0,
           0,
           0,
           0,
           0,
           0,
           0,
           0,
           0,
           0,
           0,
           0,
           -1,
           0,
           0,
           0,
           0,
           0,
           0,
           0,
           0,
           0,
           0,
           0,
           0,
           0,
           0,
           0,
           0,
           0,
           0,
           0,
           0,
           0,
           0,
           0,
           0,
           -1,
           0,
           -1,
           0,
           0,
           0,
           -1,
           0,
           -1,
           0,
           0,
           0,
           0,
           0,
           0,
           0,
           1,
           0,
           -1,
           0,
           0,
           0,
           0,
           -1,
           0,
           0,
           0,
           0,
           0,
           0,
           0,
           0,
           0,
           0,
           0,
           0,
           0,
           0,
           0,
           0,
           0,
           0,
           0,
           1,
           0,
           0,
           0,
           0,
           0,
           0,
           0,
           0,
           0
          ],
          "coloraxis": "coloraxis",
          "symbol": "circle"
         },
         "mode": "markers",
         "name": "",
         "orientation": "v",
         "showlegend": false,
         "type": "scatter",
         "x": [
          9.247941970825195,
          6.747715473175049,
          1.7621344327926636,
          -13.12030029296875,
          26.64887809753418,
          -16.024503707885742,
          -30.549592971801758,
          -14.859957695007324,
          22.54204750061035,
          16.928152084350586,
          -31.96813201904297,
          -8.039732933044434,
          -20.931421279907227,
          -22.267732620239258,
          -22.16926383972168,
          -22.3701114654541,
          -13.598873138427734,
          42.152862548828125,
          8.633800506591797,
          28.169221878051758,
          -23.016067504882812,
          -11.556059837341309,
          -18.77132797241211,
          -17.47039031982422,
          -15.22175407409668,
          -1.2056771516799927,
          -26.04798698425293,
          -7.032564163208008,
          -6.4305195808410645,
          28.935705184936523,
          -4.072255611419678,
          29.64173126220703,
          -21.923484802246094,
          -5.93256950378418,
          -12.273284912109375,
          -14.228860855102539,
          -24.704938888549805,
          -10.073799133300781,
          10.330915451049805,
          12.39342212677002,
          11.453301429748535,
          -12.577841758728027,
          4.464670658111572,
          -13.360785484313965,
          29.15898323059082,
          -12.94461727142334,
          -1.41108238697052,
          8.173250198364258,
          -14.2056245803833,
          28.68337059020996,
          -32.08741760253906,
          1.845698356628418,
          34.19272994995117,
          9.9253511428833,
          27.97411346435547,
          1.8674412965774536,
          20.04097557067871,
          6.295761585235596,
          -10.39082145690918,
          -10.216161727905273,
          -10.513915061950684,
          -22.38789176940918,
          28.244462966918945,
          18.499879837036133,
          15.20085334777832,
          1.9103221893310547,
          -21.865140914916992,
          -11.916402816772461,
          -36.701072692871094,
          -19.725841522216797,
          -4.1967668533325195,
          12.96663761138916,
          22.5467472076416,
          -4.146075248718262,
          -3.621068000793457,
          21.67133140563965,
          0.7358548641204834,
          0.42694103717803955,
          -27.213397979736328,
          -0.912196695804596,
          -7.549993515014648,
          37.957210540771484,
          5.637456893920898,
          28.8584041595459,
          12.116568565368652,
          11.62757682800293,
          -9.236185073852539,
          -19.617889404296875,
          -10.4944486618042,
          -20.226877212524414,
          -23.36673355102539,
          -9.386662483215332,
          24.500259399414062,
          -13.889756202697754,
          -19.60175323486328,
          -23.930021286010742,
          -33.77340316772461,
          27.79606056213379,
          35.62162399291992,
          31.828157424926758,
          -7.629873752593994,
          9.492705345153809,
          -24.744949340820312,
          -29.390913009643555,
          17.44026756286621,
          -14.861111640930176,
          -8.716158866882324,
          -14.70140266418457,
          26.259132385253906,
          14.896480560302734,
          21.68305015563965,
          -10.996262550354004,
          -23.972782135009766,
          26.90906524658203,
          25.770219802856445,
          -31.575420379638672,
          -19.822324752807617,
          22.86014747619629,
          -10.038874626159668,
          11.823244094848633,
          -15.669028282165527,
          -21.87136459350586,
          4.619401931762695,
          -15.253260612487793,
          8.391226768493652,
          15.16235637664795,
          -10.53589916229248,
          -9.832010269165039,
          4.8527421951293945,
          20.688051223754883,
          20.012300491333008,
          24.731050491333008,
          -16.793167114257812,
          26.229158401489258,
          7.0118560791015625,
          -15.913331031799316,
          -24.07242202758789,
          21.336505889892578,
          -10.205648422241211,
          -1.7426049709320068,
          24.990901947021484,
          -19.685710906982422,
          -9.53719425201416,
          -15.460822105407715,
          -20.3049259185791,
          2.7272632122039795,
          17.827545166015625,
          -14.70140266418457,
          -12.522638320922852,
          -0.14545951783657074,
          -28.7525634765625,
          -13.003772735595703,
          -4.634708404541016,
          0.03825521841645241,
          -0.28798675537109375,
          10.155911445617676,
          -12.797710418701172,
          -23.69729995727539,
          -19.09954833984375,
          -17.288421630859375,
          -11.070441246032715,
          -24.034658432006836,
          -15.928204536437988,
          2.994891881942749,
          6.620355129241943,
          -17.57867431640625,
          -21.28885269165039,
          -5.012866020202637,
          31.72481918334961,
          -12.601285934448242,
          -26.23769760131836,
          -1.9816197156906128,
          -9.883527755737305,
          13.68358039855957,
          15.216718673706055,
          -23.652647018432617,
          -10.202141761779785,
          -26.566387176513672,
          -7.457677841186523,
          15.499722480773926,
          22.155508041381836,
          -14.503986358642578,
          6.737396240234375,
          27.524471282958984,
          11.558145523071289,
          -12.797710418701172,
          -7.103933811187744,
          -23.002685546875,
          -24.719430923461914,
          -28.053586959838867,
          -6.228488922119141,
          -7.432067394256592,
          24.486095428466797,
          -29.955062866210938,
          -7.432067394256592,
          -3.822995901107788,
          20.449861526489258,
          -31.264495849609375,
          -2.019592046737671,
          -1.865809679031372,
          26.642141342163086,
          -13.106024742126465,
          3.6597788333892822,
          26.642141342163086,
          3.0017218589782715,
          -10.635581970214844,
          17.28678321838379,
          4.421136856079102,
          6.351908206939697,
          17.85519790649414,
          -17.374753952026367,
          -14.438102722167969,
          13.513431549072266,
          18.6803035736084,
          7.163299560546875,
          15.45318603515625,
          13.949708938598633,
          17.346294403076172,
          14.626649856567383,
          -18.7628231048584,
          11.141190528869629,
          8.862954139709473,
          30.09499168395996,
          -3.459876775741577,
          35.25239944458008,
          3.182447671890259,
          -4.684380531311035,
          -2.1514692306518555,
          -14.397590637207031,
          5.220642566680908,
          -9.152375221252441,
          -7.697348594665527,
          28.724336624145508,
          7.845225811004639,
          -28.06116485595703,
          6.257199764251709,
          -20.293872833251953,
          -8.913829803466797,
          36.61463928222656,
          -10.203180313110352,
          -4.216402053833008,
          19.32622528076172,
          -27.34870719909668,
          -27.34870719909668,
          5.858249664306641,
          -12.340066909790039,
          -6.613933563232422,
          35.81203842163086,
          -0.7181299328804016,
          19.17258071899414,
          22.09633445739746,
          -27.32205581665039,
          17.72282600402832,
          9.977314949035645,
          -15.74792194366455,
          5.793983459472656,
          12.119993209838867,
          7.745635509490967,
          21.12518310546875,
          18.85748291015625,
          24.895198822021484,
          -26.39398765563965,
          2.9653255939483643,
          -7.832077503204346,
          -8.501712799072266,
          16.962766647338867,
          14.619475364685059,
          -7.715726852416992,
          -16.401060104370117,
          2.0458054542541504,
          -17.56763458251953,
          2.8950583934783936,
          10.935338973999023,
          -3.9908690452575684,
          26.157032012939453,
          -6.0573039054870605,
          33.20296096801758,
          -21.193294525146484,
          34.66679382324219,
          -37.10020446777344,
          -6.285204887390137,
          -0.7255237102508545,
          -15.627089500427246,
          4.009393215179443,
          3.663297653198242,
          7.941200256347656,
          -10.573638916015625,
          -29.959030151367188,
          -11.013799667358398,
          -13.342851638793945,
          -0.5128503441810608,
          6.617893218994141,
          -3.1692652702331543,
          3.479779005050659,
          -12.735556602478027,
          12.721574783325195,
          12.010039329528809,
          -23.713176727294922,
          19.991121292114258,
          -29.98361587524414,
          0.2975445091724396,
          -10.533918380737305,
          -21.678842544555664,
          -21.389795303344727,
          -12.47960376739502,
          -28.817583084106445,
          13.661699295043945,
          15.650296211242676,
          17.040019989013672,
          1.3123537302017212,
          -10.998710632324219,
          18.544166564941406,
          20.12519073486328,
          17.883821487426758,
          12.922892570495605,
          -16.127347946166992,
          19.994537353515625,
          33.6164436340332,
          -4.419654369354248,
          40.3516960144043,
          36.701107025146484,
          -10.121894836425781,
          11.22538948059082,
          33.218509674072266,
          19.57223892211914,
          13.13731575012207,
          -1.7800759077072144,
          -25.215665817260742,
          -28.69950294494629,
          31.61883544921875,
          8.80692195892334,
          -2.540828227996826,
          31.377887725830078,
          14.442228317260742,
          18.81303596496582,
          -33.25679397583008,
          -20.019290924072266,
          19.253273010253906,
          0.4745714068412781,
          10.649456977844238,
          -4.023764133453369,
          35.81203842163086,
          -4.641781806945801,
          12.171621322631836,
          -22.80032730102539,
          -25.49151039123535,
          24.249996185302734,
          24.083173751831055,
          -3.4664814472198486,
          16.135387420654297,
          -4.248291015625,
          -17.037891387939453,
          -14.427840232849121,
          -14.679991722106934,
          -20.35922622680664,
          5.615370273590088,
          20.305736541748047,
          -10.877779960632324,
          -27.15471649169922,
          -18.531553268432617,
          30.76791000366211,
          16.76181411743164,
          27.972347259521484,
          36.53998565673828,
          22.737842559814453,
          -6.228488922119141,
          17.372684478759766,
          12.827455520629883,
          18.770925521850586,
          42.152862548828125,
          8.640888214111328,
          -6.958317279815674,
          -6.42947244644165,
          -0.8628852963447571,
          -11.671465873718262,
          -8.047094345092773,
          15.306391716003418,
          -37.10692596435547,
          -8.06779956817627,
          -1.9101682901382446,
          -15.672737121582031,
          -12.316695213317871,
          -26.72679901123047,
          -17.747297286987305,
          -25.363346099853516,
          -24.707231521606445,
          5.790637016296387,
          -4.702123641967773,
          -3.374091863632202,
          -3.8714942932128906,
          20.877782821655273,
          -14.625266075134277,
          -10.95910930633545,
          4.147923469543457,
          -2.739515781402588,
          9.735849380493164,
          2.8175089359283447,
          6.591092109680176,
          20.9072265625,
          -31.823135375976562,
          31.72481918334961,
          -13.822627067565918,
          -15.923080444335938,
          -15.667256355285645,
          -9.362448692321777,
          -17.57867431640625,
          11.346837043762207,
          4.51563024520874,
          -38.53907775878906,
          -16.00834083557129,
          33.319297790527344,
          32.3849983215332,
          -5.92720890045166,
          -5.718142509460449,
          -3.1818060874938965,
          -8.464598655700684,
          28.859451293945312,
          -30.641357421875,
          -1.867132544517517,
          0.6352286338806152,
          1.5521470308303833,
          4.343860626220703,
          -14.766786575317383,
          30.09499168395996,
          -13.686196327209473,
          -30.042163848876953,
          27.973989486694336,
          17.916046142578125,
          18.545391082763672,
          1.6327581405639648,
          10.672216415405273,
          -20.566640853881836,
          -27.734683990478516,
          -20.018056869506836,
          -1.5616215467453003,
          -26.99573516845703,
          6.0385260581970215,
          23.001195907592773,
          -18.768115997314453,
          39.261627197265625,
          -19.2026424407959,
          -7.009889602661133,
          22.44048500061035,
          8.242547988891602,
          12.289945602416992,
          22.28866195678711,
          21.018712997436523,
          -6.849858283996582,
          -13.019818305969238,
          9.894047737121582,
          -8.83764362335205,
          18.076623916625977,
          31.197532653808594,
          -33.77340316772461,
          41.876136779785156,
          -15.634537696838379,
          -16.832258224487305,
          -23.20113754272461,
          18.99254035949707,
          -10.552286148071289,
          -27.894596099853516,
          17.916046142578125,
          -2.3458404541015625,
          17.343460083007812,
          -37.77052307128906,
          -4.6103105545043945,
          37.14151382446289,
          5.827939987182617,
          22.927074432373047,
          9.758639335632324,
          -23.170774459838867,
          4.464677810668945,
          -19.876962661743164,
          -11.543851852416992,
          31.52113151550293,
          19.408782958984375,
          20.347139358520508,
          -15.75272274017334,
          4.2001261711120605,
          3.7893919944763184,
          16.246549606323242,
          26.150470733642578,
          5.655973434448242,
          -3.0758891105651855,
          -0.3065880239009857,
          -8.785605430603027,
          20.4803524017334,
          -2.89846134185791,
          -27.87725257873535,
          2.0627827644348145,
          -4.148823261260986,
          15.463494300842285,
          -32.08741760253906,
          1.8470724821090698,
          33.86322784423828,
          9.9253511428833,
          27.9736270904541,
          1.8673151731491089,
          -5.601760387420654,
          -26.683101654052734,
          13.333991050720215,
          11.732271194458008,
          20.31796646118164,
          34.33320999145508,
          -1.9791336059570312,
          -6.849858283996582,
          34.686607360839844,
          -23.982254028320312,
          -14.42459487915039,
          32.70450210571289,
          -9.288481712341309,
          -10.01622200012207,
          -1.9896790981292725,
          -1.4050532579421997,
          -1.867132544517517,
          -3.2866592407226562,
          17.54665184020996,
          -15.976506233215332,
          -23.002775192260742,
          32.02989959716797,
          30.19648551940918,
          31.79001808166504,
          -17.302677154541016,
          -9.986018180847168,
          0.794732391834259,
          -15.418044090270996,
          -26.02830696105957,
          -27.743444442749023,
          25.267620086669922,
          4.881976127624512,
          15.163704872131348,
          -4.9477105140686035,
          15.065531730651855,
          21.18324851989746,
          9.054705619812012,
          -14.721961975097656,
          -21.413158416748047,
          -26.880308151245117,
          -10.131403923034668,
          -22.010663986206055,
          -1.8418643474578857,
          11.962029457092285,
          3.6103007793426514,
          -21.011518478393555,
          9.54512882232666,
          8.4734468460083,
          -14.999174118041992,
          2.7572438716888428,
          -36.967655181884766,
          -0.36432957649230957,
          41.72868728637695,
          -21.950117111206055,
          -5.93317985534668,
          -17.290109634399414,
          4.246281147003174,
          -11.016112327575684,
          2.597740888595581,
          18.544166564941406,
          6.596414089202881,
          5.420943737030029,
          -7.7173638343811035,
          -5.182018280029297,
          -20.989543914794922,
          -12.797710418701172,
          22.28866195678711,
          -2.9985525608062744,
          -36.66913604736328,
          20.166078567504883,
          21.800434112548828,
          22.955615997314453,
          -12.646141052246094,
          -12.335653305053711,
          -17.882387161254883,
          -1.4145878553390503,
          -6.9786906242370605,
          -6.967452526092529,
          -5.609049320220947,
          27.658714294433594,
          -10.613563537597656,
          -23.469099044799805,
          -1.6662424802780151,
          22.856191635131836,
          8.050453186035156,
          -13.498520851135254,
          2.3863985538482666,
          8.448307037353516,
          -3.794100046157837,
          2.2994091510772705,
          2.575176477432251,
          3.350876569747925,
          0.8477092981338501,
          21.862077713012695,
          -3.3887338638305664,
          3.9394657611846924,
          2.318100690841675,
          19.697343826293945,
          20.897342681884766,
          13.379844665527344,
          0.8231802582740784,
          1.9579945802688599,
          15.974008560180664
         ],
         "xaxis": "x",
         "y": [
          -34.46480941772461,
          -36.8458251953125,
          1.7633559703826904,
          -11.32437515258789,
          7.237910747528076,
          -20.836301803588867,
          -2.683967351913452,
          -0.5432205200195312,
          19.20831298828125,
          -19.405155181884766,
          4.935525894165039,
          5.539945602416992,
          9.497187614440918,
          -18.448352813720703,
          -16.96792221069336,
          19.2005672454834,
          2.071805715560913,
          -7.7206315994262695,
          8.137974739074707,
          -7.226012706756592,
          -5.298409461975098,
          29.722728729248047,
          17.13138198852539,
          -12.6580810546875,
          -29.17603302001953,
          -3.819640874862671,
          4.2107343673706055,
          -0.4692075848579407,
          -0.39833953976631165,
          -3.349195718765259,
          34.54901123046875,
          -3.1748204231262207,
          -15.569422721862793,
          39.361019134521484,
          24.993175506591797,
          -17.285322189331055,
          2.6973814964294434,
          -20.365371704101562,
          -9.498016357421875,
          -8.501312255859375,
          -9.660911560058594,
          11.400297164916992,
          5.2267045974731445,
          24.261451721191406,
          -18.498363494873047,
          5.9376654624938965,
          -15.0151948928833,
          -27.095733642578125,
          -4.819268226623535,
          9.272546768188477,
          18.20330238342285,
          0.31285372376441956,
          -11.002554893493652,
          27.31809425354004,
          23.611202239990234,
          12.317398071289062,
          10.08923625946045,
          20.739347457885742,
          32.870635986328125,
          29.935171127319336,
          33.83277893066406,
          17.215845108032227,
          -17.177026748657227,
          20.554073333740234,
          27.223018646240234,
          -17.635940551757812,
          -10.678266525268555,
          2.717921018600464,
          14.93398666381836,
          21.955984115600586,
          -16.88616180419922,
          -15.023752212524414,
          -24.77019691467285,
          1.57350492477417,
          10.192755699157715,
          -24.05438804626465,
          39.96295928955078,
          39.85538101196289,
          -0.9320679903030396,
          13.935750961303711,
          9.944816589355469,
          -15.797353744506836,
          11.578245162963867,
          2.949204206466675,
          16.289688110351562,
          12.317780494689941,
          9.294699668884277,
          35.626502990722656,
          -12.669654846191406,
          -1.820199728012085,
          -3.8691179752349854,
          21.004117965698242,
          -5.023644924163818,
          8.651263236999512,
          -7.447439193725586,
          32.9705810546875,
          10.654820442199707,
          -0.9196770191192627,
          -15.511878967285156,
          -18.661386489868164,
          -10.386383056640625,
          -8.556329727172852,
          -4.515735149383545,
          -2.9091901779174805,
          13.680377960205078,
          39.80293273925781,
          43.95744705200195,
          38.42509078979492,
          6.805335521697998,
          3.2879650592803955,
          -30.567380905151367,
          -8.182051658630371,
          -12.25992488861084,
          13.548797607421875,
          12.115448951721191,
          5.261654853820801,
          -8.445762634277344,
          0.10570062696933746,
          -18.822357177734375,
          -11.066784858703613,
          6.835498809814453,
          -10.676684379577637,
          21.55620002746582,
          -27.967252731323242,
          -6.963505744934082,
          -15.225679397583008,
          27.650089263916016,
          21.365127563476562,
          22.004348754882812,
          19.25770378112793,
          19.61433219909668,
          -19.730592727661133,
          8.060883522033691,
          16.19007110595703,
          1.113852858543396,
          -10.846757888793945,
          18.294340133666992,
          -31.529945373535156,
          -6.438370704650879,
          4.725284099578857,
          11.43962574005127,
          11.837892532348633,
          1.1621837615966797,
          -0.5658895969390869,
          28.135648727416992,
          18.283910751342773,
          29.232210159301758,
          38.42509078979492,
          34.56654357910156,
          12.346542358398438,
          22.609907150268555,
          12.285849571228027,
          19.77781105041504,
          42.80781555175781,
          -14.44875717163086,
          5.0886077880859375,
          32.82868194580078,
          32.98982238769531,
          34.949317932128906,
          -26.926668167114258,
          12.479454040527344,
          10.6488618850708,
          -12.678277015686035,
          -33.001224517822266,
          -7.764919757843018,
          13.174535751342773,
          -0.8660273551940918,
          -5.381031513214111,
          -6.055624961853027,
          -1.5045490264892578,
          -9.92907428741455,
          -19.586341857910156,
          2.290494918823242,
          -31.593027114868164,
          -29.243703842163086,
          -6.15800142288208,
          -24.945968627929688,
          7.9014081954956055,
          -1.4852161407470703,
          0.1848219335079193,
          -3.4461066722869873,
          22.721784591674805,
          -26.61151885986328,
          16.639324188232422,
          -1.6496796607971191,
          32.82868194580078,
          32.819461822509766,
          27.558298110961914,
          11.082989692687988,
          -17.8317928314209,
          24.514867782592773,
          36.3078727722168,
          -0.5995499491691589,
          10.837936401367188,
          36.3078727722168,
          12.619976043701172,
          32.89312744140625,
          23.335729598999023,
          -11.547274589538574,
          -10.830750465393066,
          -24.933765411376953,
          -24.649593353271484,
          8.910844802856445,
          -24.933765411376953,
          -32.989532470703125,
          4.8362274169921875,
          7.391179084777832,
          -22.519838333129883,
          -9.973428726196289,
          -22.673025131225586,
          10.355757713317871,
          10.275154113769531,
          -4.306703090667725,
          5.060270309448242,
          14.256975173950195,
          -19.4257869720459,
          -3.80173397064209,
          0.20779505372047424,
          -18.444252014160156,
          17.127525329589844,
          25.93107795715332,
          -4.696510314941406,
          -10.80284309387207,
          3.878390073776245,
          -9.241369247436523,
          8.870661735534668,
          24.298856735229492,
          0.7493254542350769,
          17.662612915039062,
          -3.8427538871765137,
          -4.057544708251953,
          13.889208793640137,
          -6.148838520050049,
          16.35639190673828,
          -17.83643341064453,
          -22.653526306152344,
          9.030152320861816,
          31.082660675048828,
          -8.664543151855469,
          -0.34516650438308716,
          -9.589771270751953,
          -18.97298812866211,
          20.3203182220459,
          20.3203182220459,
          5.212386131286621,
          -2.8421075344085693,
          -4.148932933807373,
          -4.381290435791016,
          -29.159088134765625,
          -14.206701278686523,
          -12.300503730773926,
          -13.73636245727539,
          33.563541412353516,
          35.36383819580078,
          27.391748428344727,
          -24.86745834350586,
          16.284666061401367,
          -36.08513259887695,
          -6.102899551391602,
          0.0834997296333313,
          -20.18539047241211,
          21.175325393676758,
          21.68718147277832,
          13.171751976013184,
          37.4057502746582,
          -15.277347564697266,
          -15.23307991027832,
          -12.743661880493164,
          25.706838607788086,
          14.596702575683594,
          -27.502126693725586,
          -23.6334171295166,
          -29.251436233520508,
          -20.33076286315918,
          -1.5235278606414795,
          -5.814863204956055,
          -10.598435401916504,
          -20.12483024597168,
          -0.7139028906822205,
          15.134021759033203,
          -6.600527763366699,
          -27.7744083404541,
          -14.382999420166016,
          -25.68886375427246,
          15.236532211303711,
          -2.0687413215637207,
          3.7486279010772705,
          10.842216491699219,
          16.553491592407227,
          11.202866554260254,
          10.79237174987793,
          -24.84774398803711,
          -32.70768356323242,
          -13.664649963378906,
          8.36271858215332,
          -30.410181045532227,
          -28.518495559692383,
          6.068031311035156,
          -32.641536712646484,
          -7.072024345397949,
          -29.503515243530273,
          40.58476257324219,
          26.868629455566406,
          2.97733211517334,
          -14.964644432067871,
          -1.0838416814804077,
          -28.137659072875977,
          -11.106688499450684,
          -7.575062274932861,
          8.969317436218262,
          -8.184242248535156,
          9.506813049316406,
          -35.552391052246094,
          0.5173285603523254,
          21.861921310424805,
          -7.43464469909668,
          6.129604816436768,
          -7.028975963592529,
          4.6187543869018555,
          -9.531371116638184,
          -14.970881462097168,
          -15.541824340820312,
          11.369558334350586,
          -11.800594329833984,
          -16.42460823059082,
          -17.622783660888672,
          9.924111366271973,
          9.346964836120605,
          18.834096908569336,
          -16.532615661621094,
          -36.02272415161133,
          -28.950361251831055,
          -15.813501358032227,
          3.5291967391967773,
          -7.785254001617432,
          4.146327972412109,
          3.7691900730133057,
          -17.05036735534668,
          -6.317951202392578,
          -5.051863670349121,
          -16.446393966674805,
          -4.381290435791016,
          19.1695499420166,
          12.062403678894043,
          17.762271881103516,
          4.075778961181641,
          6.10832405090332,
          9.597331047058105,
          2.0430541038513184,
          15.818061828613281,
          -2.2318129539489746,
          11.595647811889648,
          -10.551429748535156,
          -22.538408279418945,
          -26.89630699157715,
          -4.003871917724609,
          -13.3080472946167,
          -10.648272514343262,
          -2.282391309738159,
          0.02823570743203163,
          -17.751169204711914,
          15.182519912719727,
          16.25279998779297,
          -3.1285157203674316,
          -9.083667755126953,
          24.514867782592773,
          -2.899111032485962,
          21.64145278930664,
          5.09780740737915,
          -7.7206315994262695,
          8.132444381713867,
          -25.013547897338867,
          -19.321332931518555,
          -32.32058334350586,
          -16.770536422729492,
          -24.672687530517578,
          6.300450801849365,
          2.9427738189697266,
          20.33655548095703,
          21.458425521850586,
          6.833546161651611,
          -21.364356994628906,
          14.779789924621582,
          -4.073436260223389,
          -23.249610900878906,
          -23.802854537963867,
          -14.061152458190918,
          15.945850372314453,
          31.55765724182129,
          14.071014404296875,
          -2.830052614212036,
          3.754037380218506,
          -31.81107521057129,
          -11.456045150756836,
          16.007673263549805,
          35.565757751464844,
          -27.94804573059082,
          -13.978948593139648,
          -21.65580177307129,
          -2.7078373432159424,
          -6.055624961853027,
          11.953001976013184,
          31.18122673034668,
          30.767549514770508,
          -33.37504959106445,
          13.174535751342773,
          -22.15200424194336,
          -7.254317760467529,
          7.721170902252197,
          -1.3528926372528076,
          13.15315055847168,
          -21.77821159362793,
          39.91916275024414,
          35.254642486572266,
          -21.358976364135742,
          -16.06576156616211,
          7.816998481750488,
          23.08707046508789,
          30.88953971862793,
          24.148258209228516,
          -9.815796852111816,
          -19.40625762939453,
          -8.33084487915039,
          -10.80284309387207,
          18.96664810180664,
          -7.444846153259277,
          -8.39474105834961,
          36.50435256958008,
          30.15910530090332,
          3.437321424484253,
          -0.997093677520752,
          5.339001178741455,
          25.3551025390625,
          3.7684781551361084,
          18.875152587890625,
          26.630496978759766,
          -28.114660263061523,
          18.002891540527344,
          2.166325330734253,
          -12.568964958190918,
          6.047314643859863,
          16.878137588500977,
          -6.0421366691589355,
          -17.8403263092041,
          -27.506725311279297,
          32.79123306274414,
          35.45375442504883,
          34.48911666870117,
          35.9765510559082,
          -17.068403244018555,
          -9.47997760772705,
          21.28955841064453,
          11.979620933532715,
          10.654820442199707,
          -9.832561492919922,
          -21.252500534057617,
          -22.908279418945312,
          -3.908339023590088,
          30.20684814453125,
          -17.606651306152344,
          16.69261360168457,
          36.50435256958008,
          -31.168960571289062,
          -20.723398208618164,
          1.5345708131790161,
          7.129183769226074,
          -16.300310134887695,
          1.188485860824585,
          -2.097032308578491,
          -17.954605102539062,
          17.05722999572754,
          24.659303665161133,
          -15.504667282104492,
          7.739467144012451,
          5.122920989990234,
          4.00803804397583,
          -12.513144493103027,
          14.423755645751953,
          30.301025390625,
          0.681395411491394,
          13.634296417236328,
          -10.747953414916992,
          23.265727996826172,
          -30.267059326171875,
          -23.663488388061523,
          -2.6509881019592285,
          -32.58253479003906,
          -5.163290023803711,
          0.16348695755004883,
          40.35319137573242,
          6.747344493865967,
          -11.375921249389648,
          18.20330238342285,
          0.31341537833213806,
          -10.231629371643066,
          27.31809425354004,
          23.62058448791504,
          12.31790542602539,
          -20.523103713989258,
          14.166377067565918,
          -25.780893325805664,
          -25.903051376342773,
          15.506566047668457,
          -1.7769216299057007,
          35.56318664550781,
          34.48911666870117,
          -15.254899978637695,
          11.391249656677246,
          -10.541566848754883,
          -15.648770332336426,
          8.307280540466309,
          39.90302276611328,
          32.513160705566406,
          28.49324607849121,
          30.88953971862793,
          37.206626892089844,
          -17.249313354492188,
          3.576791286468506,
          9.022980690002441,
          5.534634590148926,
          3.8138086795806885,
          3.4313693046569824,
          -20.252498626708984,
          -32.943702697753906,
          16.856531143188477,
          34.52183151245117,
          -13.482150077819824,
          -13.847999572753906,
          -11.873820304870605,
          5.087831020355225,
          -27.505767822265625,
          30.54073143005371,
          8.80395793914795,
          14.631306648254395,
          -9.765329360961914,
          21.687955856323242,
          14.2479829788208,
          16.375036239624023,
          -15.586260795593262,
          26.763473510742188,
          -4.122808933258057,
          -20.558452606201172,
          -6.006364822387695,
          14.044053077697754,
          0.6817331314086914,
          -2.1784706115722656,
          1.8725357055664062,
          -22.60784339904785,
          -4.167987823486328,
          7.240854263305664,
          -6.537517547607422,
          25.56402015686035,
          5.946630477905273,
          -4.055540084838867,
          30.36058807373047,
          16.556745529174805,
          34.490478515625,
          9.506813049316406,
          29.336103439331055,
          -5.424476623535156,
          24.208940505981445,
          27.433013916015625,
          8.69129753112793,
          32.82868194580078,
          32.79123306274414,
          2.6626617908477783,
          -4.0777153968811035,
          -18.590160369873047,
          13.916698455810547,
          21.73955726623535,
          -7.312758445739746,
          -35.7757453918457,
          19.098886489868164,
          8.348833084106445,
          3.3378794193267822,
          2.5976412296295166,
          10.020891189575195,
          0.1764296442270279,
          35.7511100769043,
          23.71697235107422,
          20.046241760253906,
          -15.11738109588623,
          17.10344696044922,
          -17.6912784576416,
          -4.503113746643066,
          -13.856383323669434,
          -9.781668663024902,
          -14.07099723815918,
          -9.751360893249512,
          -9.17871379852295,
          -1.2609409093856812,
          35.588809967041016,
          15.612693786621094,
          -19.430171966552734,
          -5.277897357940674,
          -7.808920383453369,
          -8.428954124450684,
          -32.90106964111328,
          -13.977218627929688,
          -24.858009338378906,
          -21.270288467407227
         ],
         "yaxis": "y"
        }
       ],
       "layout": {
        "coloraxis": {
         "colorbar": {
          "title": {
           "text": "cluster"
          }
         },
         "colorscale": [
          [
           0,
           "#0d0887"
          ],
          [
           0.1111111111111111,
           "#46039f"
          ],
          [
           0.2222222222222222,
           "#7201a8"
          ],
          [
           0.3333333333333333,
           "#9c179e"
          ],
          [
           0.4444444444444444,
           "#bd3786"
          ],
          [
           0.5555555555555556,
           "#d8576b"
          ],
          [
           0.6666666666666666,
           "#ed7953"
          ],
          [
           0.7777777777777778,
           "#fb9f3a"
          ],
          [
           0.8888888888888888,
           "#fdca26"
          ],
          [
           1,
           "#f0f921"
          ]
         ]
        },
        "legend": {
         "tracegroupgap": 0
        },
        "template": {
         "data": {
          "bar": [
           {
            "error_x": {
             "color": "#2a3f5f"
            },
            "error_y": {
             "color": "#2a3f5f"
            },
            "marker": {
             "line": {
              "color": "#E5ECF6",
              "width": 0.5
             },
             "pattern": {
              "fillmode": "overlay",
              "size": 10,
              "solidity": 0.2
             }
            },
            "type": "bar"
           }
          ],
          "barpolar": [
           {
            "marker": {
             "line": {
              "color": "#E5ECF6",
              "width": 0.5
             },
             "pattern": {
              "fillmode": "overlay",
              "size": 10,
              "solidity": 0.2
             }
            },
            "type": "barpolar"
           }
          ],
          "carpet": [
           {
            "aaxis": {
             "endlinecolor": "#2a3f5f",
             "gridcolor": "white",
             "linecolor": "white",
             "minorgridcolor": "white",
             "startlinecolor": "#2a3f5f"
            },
            "baxis": {
             "endlinecolor": "#2a3f5f",
             "gridcolor": "white",
             "linecolor": "white",
             "minorgridcolor": "white",
             "startlinecolor": "#2a3f5f"
            },
            "type": "carpet"
           }
          ],
          "choropleth": [
           {
            "colorbar": {
             "outlinewidth": 0,
             "ticks": ""
            },
            "type": "choropleth"
           }
          ],
          "contour": [
           {
            "colorbar": {
             "outlinewidth": 0,
             "ticks": ""
            },
            "colorscale": [
             [
              0,
              "#0d0887"
             ],
             [
              0.1111111111111111,
              "#46039f"
             ],
             [
              0.2222222222222222,
              "#7201a8"
             ],
             [
              0.3333333333333333,
              "#9c179e"
             ],
             [
              0.4444444444444444,
              "#bd3786"
             ],
             [
              0.5555555555555556,
              "#d8576b"
             ],
             [
              0.6666666666666666,
              "#ed7953"
             ],
             [
              0.7777777777777778,
              "#fb9f3a"
             ],
             [
              0.8888888888888888,
              "#fdca26"
             ],
             [
              1,
              "#f0f921"
             ]
            ],
            "type": "contour"
           }
          ],
          "contourcarpet": [
           {
            "colorbar": {
             "outlinewidth": 0,
             "ticks": ""
            },
            "type": "contourcarpet"
           }
          ],
          "heatmap": [
           {
            "colorbar": {
             "outlinewidth": 0,
             "ticks": ""
            },
            "colorscale": [
             [
              0,
              "#0d0887"
             ],
             [
              0.1111111111111111,
              "#46039f"
             ],
             [
              0.2222222222222222,
              "#7201a8"
             ],
             [
              0.3333333333333333,
              "#9c179e"
             ],
             [
              0.4444444444444444,
              "#bd3786"
             ],
             [
              0.5555555555555556,
              "#d8576b"
             ],
             [
              0.6666666666666666,
              "#ed7953"
             ],
             [
              0.7777777777777778,
              "#fb9f3a"
             ],
             [
              0.8888888888888888,
              "#fdca26"
             ],
             [
              1,
              "#f0f921"
             ]
            ],
            "type": "heatmap"
           }
          ],
          "heatmapgl": [
           {
            "colorbar": {
             "outlinewidth": 0,
             "ticks": ""
            },
            "colorscale": [
             [
              0,
              "#0d0887"
             ],
             [
              0.1111111111111111,
              "#46039f"
             ],
             [
              0.2222222222222222,
              "#7201a8"
             ],
             [
              0.3333333333333333,
              "#9c179e"
             ],
             [
              0.4444444444444444,
              "#bd3786"
             ],
             [
              0.5555555555555556,
              "#d8576b"
             ],
             [
              0.6666666666666666,
              "#ed7953"
             ],
             [
              0.7777777777777778,
              "#fb9f3a"
             ],
             [
              0.8888888888888888,
              "#fdca26"
             ],
             [
              1,
              "#f0f921"
             ]
            ],
            "type": "heatmapgl"
           }
          ],
          "histogram": [
           {
            "marker": {
             "pattern": {
              "fillmode": "overlay",
              "size": 10,
              "solidity": 0.2
             }
            },
            "type": "histogram"
           }
          ],
          "histogram2d": [
           {
            "colorbar": {
             "outlinewidth": 0,
             "ticks": ""
            },
            "colorscale": [
             [
              0,
              "#0d0887"
             ],
             [
              0.1111111111111111,
              "#46039f"
             ],
             [
              0.2222222222222222,
              "#7201a8"
             ],
             [
              0.3333333333333333,
              "#9c179e"
             ],
             [
              0.4444444444444444,
              "#bd3786"
             ],
             [
              0.5555555555555556,
              "#d8576b"
             ],
             [
              0.6666666666666666,
              "#ed7953"
             ],
             [
              0.7777777777777778,
              "#fb9f3a"
             ],
             [
              0.8888888888888888,
              "#fdca26"
             ],
             [
              1,
              "#f0f921"
             ]
            ],
            "type": "histogram2d"
           }
          ],
          "histogram2dcontour": [
           {
            "colorbar": {
             "outlinewidth": 0,
             "ticks": ""
            },
            "colorscale": [
             [
              0,
              "#0d0887"
             ],
             [
              0.1111111111111111,
              "#46039f"
             ],
             [
              0.2222222222222222,
              "#7201a8"
             ],
             [
              0.3333333333333333,
              "#9c179e"
             ],
             [
              0.4444444444444444,
              "#bd3786"
             ],
             [
              0.5555555555555556,
              "#d8576b"
             ],
             [
              0.6666666666666666,
              "#ed7953"
             ],
             [
              0.7777777777777778,
              "#fb9f3a"
             ],
             [
              0.8888888888888888,
              "#fdca26"
             ],
             [
              1,
              "#f0f921"
             ]
            ],
            "type": "histogram2dcontour"
           }
          ],
          "mesh3d": [
           {
            "colorbar": {
             "outlinewidth": 0,
             "ticks": ""
            },
            "type": "mesh3d"
           }
          ],
          "parcoords": [
           {
            "line": {
             "colorbar": {
              "outlinewidth": 0,
              "ticks": ""
             }
            },
            "type": "parcoords"
           }
          ],
          "pie": [
           {
            "automargin": true,
            "type": "pie"
           }
          ],
          "scatter": [
           {
            "fillpattern": {
             "fillmode": "overlay",
             "size": 10,
             "solidity": 0.2
            },
            "type": "scatter"
           }
          ],
          "scatter3d": [
           {
            "line": {
             "colorbar": {
              "outlinewidth": 0,
              "ticks": ""
             }
            },
            "marker": {
             "colorbar": {
              "outlinewidth": 0,
              "ticks": ""
             }
            },
            "type": "scatter3d"
           }
          ],
          "scattercarpet": [
           {
            "marker": {
             "colorbar": {
              "outlinewidth": 0,
              "ticks": ""
             }
            },
            "type": "scattercarpet"
           }
          ],
          "scattergeo": [
           {
            "marker": {
             "colorbar": {
              "outlinewidth": 0,
              "ticks": ""
             }
            },
            "type": "scattergeo"
           }
          ],
          "scattergl": [
           {
            "marker": {
             "colorbar": {
              "outlinewidth": 0,
              "ticks": ""
             }
            },
            "type": "scattergl"
           }
          ],
          "scattermapbox": [
           {
            "marker": {
             "colorbar": {
              "outlinewidth": 0,
              "ticks": ""
             }
            },
            "type": "scattermapbox"
           }
          ],
          "scatterpolar": [
           {
            "marker": {
             "colorbar": {
              "outlinewidth": 0,
              "ticks": ""
             }
            },
            "type": "scatterpolar"
           }
          ],
          "scatterpolargl": [
           {
            "marker": {
             "colorbar": {
              "outlinewidth": 0,
              "ticks": ""
             }
            },
            "type": "scatterpolargl"
           }
          ],
          "scatterternary": [
           {
            "marker": {
             "colorbar": {
              "outlinewidth": 0,
              "ticks": ""
             }
            },
            "type": "scatterternary"
           }
          ],
          "surface": [
           {
            "colorbar": {
             "outlinewidth": 0,
             "ticks": ""
            },
            "colorscale": [
             [
              0,
              "#0d0887"
             ],
             [
              0.1111111111111111,
              "#46039f"
             ],
             [
              0.2222222222222222,
              "#7201a8"
             ],
             [
              0.3333333333333333,
              "#9c179e"
             ],
             [
              0.4444444444444444,
              "#bd3786"
             ],
             [
              0.5555555555555556,
              "#d8576b"
             ],
             [
              0.6666666666666666,
              "#ed7953"
             ],
             [
              0.7777777777777778,
              "#fb9f3a"
             ],
             [
              0.8888888888888888,
              "#fdca26"
             ],
             [
              1,
              "#f0f921"
             ]
            ],
            "type": "surface"
           }
          ],
          "table": [
           {
            "cells": {
             "fill": {
              "color": "#EBF0F8"
             },
             "line": {
              "color": "white"
             }
            },
            "header": {
             "fill": {
              "color": "#C8D4E3"
             },
             "line": {
              "color": "white"
             }
            },
            "type": "table"
           }
          ]
         },
         "layout": {
          "annotationdefaults": {
           "arrowcolor": "#2a3f5f",
           "arrowhead": 0,
           "arrowwidth": 1
          },
          "autotypenumbers": "strict",
          "coloraxis": {
           "colorbar": {
            "outlinewidth": 0,
            "ticks": ""
           }
          },
          "colorscale": {
           "diverging": [
            [
             0,
             "#8e0152"
            ],
            [
             0.1,
             "#c51b7d"
            ],
            [
             0.2,
             "#de77ae"
            ],
            [
             0.3,
             "#f1b6da"
            ],
            [
             0.4,
             "#fde0ef"
            ],
            [
             0.5,
             "#f7f7f7"
            ],
            [
             0.6,
             "#e6f5d0"
            ],
            [
             0.7,
             "#b8e186"
            ],
            [
             0.8,
             "#7fbc41"
            ],
            [
             0.9,
             "#4d9221"
            ],
            [
             1,
             "#276419"
            ]
           ],
           "sequential": [
            [
             0,
             "#0d0887"
            ],
            [
             0.1111111111111111,
             "#46039f"
            ],
            [
             0.2222222222222222,
             "#7201a8"
            ],
            [
             0.3333333333333333,
             "#9c179e"
            ],
            [
             0.4444444444444444,
             "#bd3786"
            ],
            [
             0.5555555555555556,
             "#d8576b"
            ],
            [
             0.6666666666666666,
             "#ed7953"
            ],
            [
             0.7777777777777778,
             "#fb9f3a"
            ],
            [
             0.8888888888888888,
             "#fdca26"
            ],
            [
             1,
             "#f0f921"
            ]
           ],
           "sequentialminus": [
            [
             0,
             "#0d0887"
            ],
            [
             0.1111111111111111,
             "#46039f"
            ],
            [
             0.2222222222222222,
             "#7201a8"
            ],
            [
             0.3333333333333333,
             "#9c179e"
            ],
            [
             0.4444444444444444,
             "#bd3786"
            ],
            [
             0.5555555555555556,
             "#d8576b"
            ],
            [
             0.6666666666666666,
             "#ed7953"
            ],
            [
             0.7777777777777778,
             "#fb9f3a"
            ],
            [
             0.8888888888888888,
             "#fdca26"
            ],
            [
             1,
             "#f0f921"
            ]
           ]
          },
          "colorway": [
           "#636efa",
           "#EF553B",
           "#00cc96",
           "#ab63fa",
           "#FFA15A",
           "#19d3f3",
           "#FF6692",
           "#B6E880",
           "#FF97FF",
           "#FECB52"
          ],
          "font": {
           "color": "#2a3f5f"
          },
          "geo": {
           "bgcolor": "white",
           "lakecolor": "white",
           "landcolor": "#E5ECF6",
           "showlakes": true,
           "showland": true,
           "subunitcolor": "white"
          },
          "hoverlabel": {
           "align": "left"
          },
          "hovermode": "closest",
          "mapbox": {
           "style": "light"
          },
          "paper_bgcolor": "white",
          "plot_bgcolor": "#E5ECF6",
          "polar": {
           "angularaxis": {
            "gridcolor": "white",
            "linecolor": "white",
            "ticks": ""
           },
           "bgcolor": "#E5ECF6",
           "radialaxis": {
            "gridcolor": "white",
            "linecolor": "white",
            "ticks": ""
           }
          },
          "scene": {
           "xaxis": {
            "backgroundcolor": "#E5ECF6",
            "gridcolor": "white",
            "gridwidth": 2,
            "linecolor": "white",
            "showbackground": true,
            "ticks": "",
            "zerolinecolor": "white"
           },
           "yaxis": {
            "backgroundcolor": "#E5ECF6",
            "gridcolor": "white",
            "gridwidth": 2,
            "linecolor": "white",
            "showbackground": true,
            "ticks": "",
            "zerolinecolor": "white"
           },
           "zaxis": {
            "backgroundcolor": "#E5ECF6",
            "gridcolor": "white",
            "gridwidth": 2,
            "linecolor": "white",
            "showbackground": true,
            "ticks": "",
            "zerolinecolor": "white"
           }
          },
          "shapedefaults": {
           "line": {
            "color": "#2a3f5f"
           }
          },
          "ternary": {
           "aaxis": {
            "gridcolor": "white",
            "linecolor": "white",
            "ticks": ""
           },
           "baxis": {
            "gridcolor": "white",
            "linecolor": "white",
            "ticks": ""
           },
           "bgcolor": "#E5ECF6",
           "caxis": {
            "gridcolor": "white",
            "linecolor": "white",
            "ticks": ""
           }
          },
          "title": {
           "x": 0.05
          },
          "xaxis": {
           "automargin": true,
           "gridcolor": "white",
           "linecolor": "white",
           "ticks": "",
           "title": {
            "standoff": 15
           },
           "zerolinecolor": "white",
           "zerolinewidth": 2
          },
          "yaxis": {
           "automargin": true,
           "gridcolor": "white",
           "linecolor": "white",
           "ticks": "",
           "title": {
            "standoff": 15
           },
           "zerolinecolor": "white",
           "zerolinewidth": 2
          }
         }
        },
        "title": {
         "text": "HDBSCAN"
        },
        "xaxis": {
         "anchor": "y",
         "domain": [
          0,
          1
         ],
         "title": {
          "text": "x"
         }
        },
        "yaxis": {
         "anchor": "x",
         "domain": [
          0,
          1
         ],
         "title": {
          "text": "y"
         }
        }
       }
      }
     },
     "metadata": {},
     "output_type": "display_data"
    }
   ],
   "source": [
    "import hdbscan\n",
    "\n",
    "clusterer = hdbscan.HDBSCAN(min_cluster_size=5)\n",
    "df_tsne['cluster'] = clusterer.fit_predict(X_embedded)\n",
    "\n",
    "fig = px.scatter(df_tsne, x='x', y='y', color='cluster', hover_data=['text'], title='HDBSCAN')\n",
    "fig.show()\n"
   ]
  }
 ],
 "metadata": {
  "kernelspec": {
   "display_name": "NLP",
   "language": "python",
   "name": "python3"
  },
  "language_info": {
   "codemirror_mode": {
    "name": "ipython",
    "version": 3
   },
   "file_extension": ".py",
   "mimetype": "text/x-python",
   "name": "python",
   "nbconvert_exporter": "python",
   "pygments_lexer": "ipython3",
   "version": "3.10.15"
  }
 },
 "nbformat": 4,
 "nbformat_minor": 2
}
