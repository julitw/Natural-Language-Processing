{
 "cells": [
  {
   "cell_type": "code",
   "execution_count": 60,
   "metadata": {},
   "outputs": [],
   "source": [
    "import pandas as pd\n",
    "import matplotlib.pyplot as plt"
   ]
  },
  {
   "cell_type": "code",
   "execution_count": 46,
   "metadata": {},
   "outputs": [],
   "source": [
    "pd.set_option('display.max_colwidth', None)  # Wyświetlanie pełnych wartości kolumn\n",
    "pd.set_option('display.max_rows', None)      # Wyświetlanie wszystkich wierszy\n",
    "pd.set_option('display.max_columns', None)"
   ]
  },
  {
   "cell_type": "code",
   "execution_count": 57,
   "metadata": {},
   "outputs": [],
   "source": [
    "df = pd.read_excel('cyberbullying_train_complete_sentences.xlsx', sheet_name='Superanotator')[:199]"
   ]
  },
  {
   "cell_type": "code",
   "execution_count": 58,
   "metadata": {},
   "outputs": [],
   "source": [
    "df_superanotator = df[['text','LABEL']]\n",
    "df = df[['text', 'label1', 'label2', 'label3']]\n",
    "df_part1 = df[:100]\n",
    "df_part2 = df[101:]"
   ]
  },
  {
   "cell_type": "code",
   "execution_count": 50,
   "metadata": {},
   "outputs": [],
   "source": [
    "import pandas as pd\n",
    "\n",
    "def diff_label(df):\n",
    "    df.loc[:, 'different_labels'] = (df['label1'] != df['label2']) | (df['label2'] != df['label3']) | (df['label1'] != df['label3'])\n",
    "\n",
    "    difficult_cases = df['different_labels'].sum()\n",
    "\n",
    "    total_cases = len(df)\n",
    "    percentage_difficult = (difficult_cases / total_cases) * 100\n",
    "\n",
    "    print(f\"Liczba fragmentów z różnymi etykietami: {difficult_cases}\")\n",
    "    print(f\"Procent fragmentów z różnymi etykietami: {percentage_difficult:.2f}%\")\n",
    "\n",
    "    difficult_texts = df[df['different_labels']]\n",
    "    \n",
    "    print(\"Fragmenty tekstu z różnymi etykietami przez anotatorów:\")\n",
    "    \n",
    "    print(difficult_texts[['text', 'label1', 'label2', 'label3']])\n"
   ]
  },
  {
   "cell_type": "code",
   "execution_count": 51,
   "metadata": {},
   "outputs": [
    {
     "name": "stdout",
     "output_type": "stream",
     "text": [
      "Liczba fragmentów z różnymi etykietami: 16\n",
      "Procent fragmentów z różnymi etykietami: 16.00%\n",
      "Fragmenty tekstu z różnymi etykietami przez anotatorów:\n",
      "                                                                                                                                      text  \\\n",
      "2            @anonymized_account @anonymized_account Super, polski premier składa kwiaty na grobach kolaborantów. Ale doczekaliśmy czasów.   \n",
      "7                                                                            @anonymized_account Dawno kogoś tak wrednego nie widziałam xd   \n",
      "13                       @anonymized_account Oprawa do Krzysia M. Ps Pinokio -\\n\\\" mogłeś być gangsterem a zostałeś 3 ligowym frajerem \\\"😀   \n",
      "15                         @anonymized_account Mówi człowiek, który chciał nałożyć sankcje na Polskę. Gratulacje. #Niepodlegla #11lisopada   \n",
      "16  RT @anonymized_account @anonymized_account Mówi człowiek, który chciał nałożyć sankcje na Polskę. Gratulacje. #Niepodlegla #11lisopada   \n",
      "23                                            @anonymized_account No to Pan i koledzy macie z głowy. Przesrane tak reszta życia pod górkę.   \n",
      "40                                       „Ta aktorka ma 20 lat?!?! Jaka stara!!” \\n\\nChyba musimy się już do grobu pakować roczniku 98 😂👌🏻   \n",
      "41                RT @anonymized_account „Ta aktorka ma 20 lat?!?! Jaka stara!!” \\n\\nChyba musimy się już do grobu pakować roczniku 98 😂👌🏻   \n",
      "47                                 @anonymized_account Główny powód to brak kasy, trzeba dać bogatym 500+,300+ i być bez godności i honoru   \n",
      "55                               @anonymized_account @anonymized_account Nikt tutaj nie chce plagiaciarzy kopiujących brytyjskich pisarzy.   \n",
      "56                                                                    @anonymized_account A ksiądz co bierze 12 tyś za spowiedź przez tel?   \n",
      "63                                                         @anonymized_account po wahaniach wagi Kwacha wznoszę że to może być kapuścianka   \n",
      "69                    @anonymized_account Właśnie. Ilu! Najpierw odpowiedzmy sobie ma to pytanie,a potem dziwmy się zwycięstwu Zdanowskiej   \n",
      "73                                                  @anonymized_account Dzisiaj zajmujemy się WARiatem Krystyną ciekawe czy będzie płakał?   \n",
      "93        @anonymized_account @anonymized_account Z motłochem nie dyskutuję tylko daje bany. A Pani @anonymized_account gratuluję obrońcy.   \n",
      "95                                   @anonymized_account ale z kategoriami moim zdaniem przesadzają.Sponsor roku, serce, impreza ? Bez jaj   \n",
      "\n",
      "    label1  label2  label3  \n",
      "2        1       0       1  \n",
      "7        1       0       1  \n",
      "13       1       0       1  \n",
      "15       0       0       1  \n",
      "16       0       0       1  \n",
      "23       0       0       1  \n",
      "40       0       0       1  \n",
      "41       0       0       1  \n",
      "47       1       0       1  \n",
      "55       0       0       1  \n",
      "56       0       0       1  \n",
      "63       0       0       1  \n",
      "69       0       0       1  \n",
      "73       0       0       1  \n",
      "93       1       0       0  \n",
      "95       0       1       1  \n"
     ]
    },
    {
     "name": "stderr",
     "output_type": "stream",
     "text": [
      "/tmp/ipykernel_19642/58864248.py:4: SettingWithCopyWarning: \n",
      "A value is trying to be set on a copy of a slice from a DataFrame.\n",
      "Try using .loc[row_indexer,col_indexer] = value instead\n",
      "\n",
      "See the caveats in the documentation: https://pandas.pydata.org/pandas-docs/stable/user_guide/indexing.html#returning-a-view-versus-a-copy\n",
      "  df.loc[:, 'different_labels'] = (df['label1'] != df['label2']) | (df['label2'] != df['label3']) | (df['label1'] != df['label3'])\n"
     ]
    }
   ],
   "source": [
    "diff_label(df_part1)"
   ]
  },
  {
   "cell_type": "code",
   "execution_count": 52,
   "metadata": {},
   "outputs": [
    {
     "name": "stdout",
     "output_type": "stream",
     "text": [
      "Liczba fragmentów z różnymi etykietami: 10\n",
      "Procent fragmentów z różnymi etykietami: 10.20%\n",
      "Fragmenty tekstu z różnymi etykietami przez anotatorów:\n",
      "                                                                                                                                                                 text  \\\n",
      "136                                             Zdrady stanu to Donald Tusk dopuścił się już w 2010 r kiedy dodał Rosjanom śledztwo w sprawie katastrofy smoleńskiej.   \n",
      "153                                                                 @anonymized_account Żal ci biedaku??? Gdyby nie Kaczyński to by je twoi przyjaciele z PO rozkradl   \n",
      "154                                          RT @anonymized_account @anonymized_account Żal ci biedaku??? Gdyby nie Kaczyński to by je twoi przyjaciele z PO rozkradl   \n",
      "156                                                                                      Sekta kurwa, jakaś niepojęta radość, każde konto pisdzielskie tylko o jednym   \n",
      "164  @anonymized_account @anonymized_account @anonymized_account jutro walczycie ? Normalnie rycerze ! A gdzie byliście wcześniej ? A zapomniałem że nie o L chodziło   \n",
      "165                                                                              @anonymized_account Ale to głupie, rdzennie głupie, bardziej głupie już być nie może   \n",
      "171                              @anonymized_account Zbiera się do kontrataku, dla swojego pryncypala pójdzie w bój, patrityczna dusza,  co nie @anonymized_account ?   \n",
      "177                                         @anonymized_account @anonymized_account @anonymized_account Tak to jest jak ktoś nie wie do którego lekarza iść najpierw.   \n",
      "186                     @anonymized_account Ja przynajmniej mam profilowe i nie chowam się za awatarem. Ale bohaterów MW na to nie stać i w sumie nic w tym dziwnego.   \n",
      "189                                                                                                                @anonymized_account Co ty człowieku pijesz z rana?   \n",
      "\n",
      "     label1  label2  label3  \n",
      "136       1       1       0  \n",
      "153       1       1       0  \n",
      "154       1       1       0  \n",
      "156       0       1       1  \n",
      "164       1       0       0  \n",
      "165       1       1       0  \n",
      "171       0       0       1  \n",
      "177       1       0       0  \n",
      "186       1       0       1  \n",
      "189       1       1       0  \n"
     ]
    },
    {
     "name": "stderr",
     "output_type": "stream",
     "text": [
      "/tmp/ipykernel_19642/58864248.py:4: SettingWithCopyWarning: \n",
      "A value is trying to be set on a copy of a slice from a DataFrame.\n",
      "Try using .loc[row_indexer,col_indexer] = value instead\n",
      "\n",
      "See the caveats in the documentation: https://pandas.pydata.org/pandas-docs/stable/user_guide/indexing.html#returning-a-view-versus-a-copy\n",
      "  df.loc[:, 'different_labels'] = (df['label1'] != df['label2']) | (df['label2'] != df['label3']) | (df['label1'] != df['label3'])\n"
     ]
    }
   ],
   "source": [
    "diff_label(df_part2)"
   ]
  },
  {
   "cell_type": "code",
   "execution_count": 59,
   "metadata": {},
   "outputs": [],
   "source": [
    "label_counts = df_superanotator['LABEL'].value_counts()"
   ]
  },
  {
   "cell_type": "code",
   "execution_count": 62,
   "metadata": {},
   "outputs": [
    {
     "data": {
      "image/png": "[encoded data removed]",
      "text/plain": [
       "<Figure size 800x500 with 1 Axes>"
      ]
     },
     "metadata": {},
     "output_type": "display_data"
    }
   ],
   "source": [
    "\n",
    "plt.figure(figsize=(8, 5))  \n",
    "label_counts.plot(kind='bar', color=['skyblue', 'salmon'])\n",
    "\n",
    "plt.title('Liczba etykiet', fontsize=16)\n",
    "plt.xlabel('Etykieta', fontsize=14)\n",
    "plt.ylabel('Liczba', fontsize=14)\n",
    "\n",
    "\n",
    "for index, value in enumerate(label_counts):\n",
    "    plt.text(index, value, str(value), ha='center', va='bottom', fontsize=12)\n",
    "\n",
    "plt.xticks(ticks=[0, 1], labels=['0', '1'])  \n",
    "plt.grid(axis='y', linestyle='--', alpha=0.7)  \n",
    "plt.tight_layout()  \n",
    "plt.show()"
   ]
  },
  {
   "cell_type": "code",
   "execution_count": 63,
   "metadata": {},
   "outputs": [
    {
     "name": "stdout",
     "output_type": "stream",
     "text": [
      "Średnia długość tekstu w pojedynczym wierszu (znaki): 92.37\n",
      "Średnia długość tekstu w pojedynczym wierszu (słowa): 12.29\n"
     ]
    }
   ],
   "source": [
    "\n",
    "\n",
    "length_in_characters = df['text'].str.len()\n",
    "\n",
    "length_in_words = df['text'].str.split().str.len()\n",
    "\n",
    "average_length_characters = length_in_characters.mean()\n",
    "average_length_words = length_in_words.mean()\n",
    "\n",
    "print(f\"Średnia długość tekstu w pojedynczym wierszu (znaki): {average_length_characters:.2f}\")\n",
    "print(f\"Średnia długość tekstu w pojedynczym wierszu (słowa): {average_length_words:.2f}\")\n"
   ]
  },
  {
   "cell_type": "code",
   "execution_count": 64,
   "metadata": {},
   "outputs": [
    {
     "name": "stdout",
     "output_type": "stream",
     "text": [
      "Liczba różnych słów w kolumnie 'text': 1270\n"
     ]
    }
   ],
   "source": [
    "all_text = \" \".join(df['text'])\n",
    "\n",
    "unique_words = set(all_text.split())\n",
    "\n",
    "number_of_unique_words = len(unique_words)\n",
    "\n",
    "print(f\"Liczba różnych słów w kolumnie 'text': {number_of_unique_words}\")\n"
   ]
  }
 ],
 "metadata": {
  "kernelspec": {
   "display_name": "base",
   "language": "python",
   "name": "python3"
  },
  "language_info": {
   "codemirror_mode": {
    "name": "ipython",
    "version": 3
   },
   "file_extension": ".py",
   "mimetype": "text/x-python",
   "name": "python",
   "nbconvert_exporter": "python",
   "pygments_lexer": "ipython3",
   "version": "3.12.4"
  }
 },
 "nbformat": 4,
 "nbformat_minor": 2
}
