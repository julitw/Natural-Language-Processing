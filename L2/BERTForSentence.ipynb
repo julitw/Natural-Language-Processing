{
 "cells": [
  {
   "cell_type": "markdown",
   "metadata": {},
   "source": [
    "# Strojenie modelu BERT-base na danych *cyberbullying*"
   ]
  },
  {
   "cell_type": "markdown",
   "metadata": {},
   "source": [
    "## Biblioteki"
   ]
  },
  {
   "cell_type": "code",
   "execution_count": 27,
   "metadata": {},
   "outputs": [],
   "source": [
    "import pandas as pd\n",
    "import numpy as np\n",
    "import matplotlib.pyplot as plt\n",
    "from sklearn.model_selection import train_test_split\n",
    "from transformers import BertTokenizer\n",
    "from transformers import BertForSequenceClassification, Trainer, TrainingArguments,  DataCollatorWithPadding, pipeline, BertForMaskedLM\n",
    "from sklearn.metrics import f1_score, confusion_matrix\n",
    "from peft import PeftModel, LoraConfig, TaskType, get_peft_model\n",
    "from torch.utils.data import Dataset\n",
    "import matplotlib.pyplot as plt\n",
    "from sklearn.decomposition import PCA\n",
    "from sklearn.manifold import TSNE\n",
    "import plotly.express as px\n",
    "from sklearn.preprocessing import StandardScaler\n",
    "import kagglehub\n",
    "from datasets import Dataset, DatasetDict, concatenate_datasets, load_dataset\n",
    "import json\n",
    "import os\n",
    "import seaborn as sns\n",
    "import random\n",
    "import torch\n",
    "import logging"
   ]
  },
  {
   "cell_type": "code",
   "execution_count": 2,
   "metadata": {},
   "outputs": [],
   "source": [
    "torch.cuda.empty_cache()"
   ]
  },
  {
   "cell_type": "code",
   "execution_count": 3,
   "metadata": {},
   "outputs": [
    {
     "name": "stdout",
     "output_type": "stream",
     "text": [
      "cuda\n"
     ]
    }
   ],
   "source": [
    "device = \"cuda\" if torch.cuda.is_available() else \"cpu\"\n",
    "print(f\"{device}\")"
   ]
  },
  {
   "cell_type": "markdown",
   "metadata": {},
   "source": [
    "## Załadowanie danych - Teksty"
   ]
  },
  {
   "cell_type": "code",
   "execution_count": 4,
   "metadata": {},
   "outputs": [
    {
     "name": "stdout",
     "output_type": "stream",
     "text": [
      "Dataset HateSpeechDataset.csv już istnieje\n"
     ]
    }
   ],
   "source": [
    "FILE_NAME = \"HateSpeechDataset.csv\"\n",
    "KAGGLE_DATASET  = \"waalbannyantudre/hate-speech-detection-curated-dataset\"\n",
    "\n",
    "if not os.path.exists(FILE_NAME):\n",
    "    print(f\"Pobieranie datasetu {KAGGLE_DATASET} z Kaggle...\")\n",
    "    kagglehub.download_dataset(KAGGLE_DATASET, FILE_NAME)\n",
    "    print(\"Pobieranie zakończone\")\n",
    "else:\n",
    "    print(f\"Dataset {FILE_NAME} już istnieje\")"
   ]
  },
  {
   "cell_type": "code",
   "execution_count": 5,
   "metadata": {},
   "outputs": [
    {
     "data": {
      "text/html": [
       "<div>\n",
       "<style scoped>\n",
       "    .dataframe tbody tr th:only-of-type {\n",
       "        vertical-align: middle;\n",
       "    }\n",
       "\n",
       "    .dataframe tbody tr th {\n",
       "        vertical-align: top;\n",
       "    }\n",
       "\n",
       "    .dataframe thead th {\n",
       "        text-align: right;\n",
       "    }\n",
       "</style>\n",
       "<table border=\"1\" class=\"dataframe\">\n",
       "  <thead>\n",
       "    <tr style=\"text-align: right;\">\n",
       "      <th></th>\n",
       "      <th>Label</th>\n",
       "      <th>text</th>\n",
       "    </tr>\n",
       "  </thead>\n",
       "  <tbody>\n",
       "    <tr>\n",
       "      <th>0</th>\n",
       "      <td>1</td>\n",
       "      <td>denial of normal the con be asked to comment o...</td>\n",
       "    </tr>\n",
       "    <tr>\n",
       "      <th>1</th>\n",
       "      <td>1</td>\n",
       "      <td>just by being able to tweet this insufferable ...</td>\n",
       "    </tr>\n",
       "    <tr>\n",
       "      <th>2</th>\n",
       "      <td>1</td>\n",
       "      <td>that is retarded you too cute to be single tha...</td>\n",
       "    </tr>\n",
       "    <tr>\n",
       "      <th>3</th>\n",
       "      <td>1</td>\n",
       "      <td>thought of a real badass mongol style declarat...</td>\n",
       "    </tr>\n",
       "    <tr>\n",
       "      <th>4</th>\n",
       "      <td>1</td>\n",
       "      <td>afro american basho</td>\n",
       "    </tr>\n",
       "  </tbody>\n",
       "</table>\n",
       "</div>"
      ],
      "text/plain": [
       "  Label                                               text\n",
       "0     1  denial of normal the con be asked to comment o...\n",
       "1     1  just by being able to tweet this insufferable ...\n",
       "2     1  that is retarded you too cute to be single tha...\n",
       "3     1  thought of a real badass mongol style declarat...\n",
       "4     1                                afro american basho"
      ]
     },
     "metadata": {},
     "output_type": "display_data"
    }
   ],
   "source": [
    "df = pd.read_csv('HateSpeechDataset.csv')\n",
    "df['text'] = df['Content']\n",
    "df = df.drop(columns=['Content_int', 'Content'])\n",
    "df = df[df['Label'] != 'Label']\n",
    "display(df.head())"
   ]
  },
  {
   "cell_type": "code",
   "execution_count": 6,
   "metadata": {},
   "outputs": [
    {
     "name": "stderr",
     "output_type": "stream",
     "text": [
      "C:\\Users\\DELL\\AppData\\Local\\Temp\\ipykernel_22972\\2293288302.py:20: DeprecationWarning: DataFrameGroupBy.apply operated on the grouping columns. This behavior is deprecated, and in a future version of pandas the grouping columns will be excluded from the operation. Either pass `include_groups=False` to exclude the groupings or explicitly select the grouping columns after groupby to silence this warning.\n",
      "  df_train_balanced = df_train.groupby('LABEL').apply(lambda x: x.sample(min_class_count_train)).reset_index(drop=True)\n",
      "C:\\Users\\DELL\\AppData\\Local\\Temp\\ipykernel_22972\\2293288302.py:21: DeprecationWarning: DataFrameGroupBy.apply operated on the grouping columns. This behavior is deprecated, and in a future version of pandas the grouping columns will be excluded from the operation. Either pass `include_groups=False` to exclude the groupings or explicitly select the grouping columns after groupby to silence this warning.\n",
      "  df_test_balanced = df_test.groupby('LABEL').apply(lambda x: x.sample(min_class_count_test)).reset_index(drop=True)\n"
     ]
    }
   ],
   "source": [
    "# Podział zbioru na zbiór treningowy i testowy\n",
    "texts_train, texts_test, text_labels_train, text_labels_test = train_test_split(\n",
    "    df['text'], df['Label'], test_size=0.2, random_state=42\n",
    ")\n",
    "\n",
    "# Zmiana formatu danych na DataFrame\n",
    "df_train = pd.DataFrame()\n",
    "df_train['text'] = texts_train\n",
    "df_train['LABEL'] = text_labels_train\n",
    "\n",
    "df_test = pd.DataFrame()\n",
    "df_test['text'] = texts_test\n",
    "df_test['LABEL'] = text_labels_test\n",
    "\n",
    "# Zbalansowanie zbioru treningowego i testowego\n",
    "# min_class_count = df_train['LABEL'].value_counts().min()\n",
    "min_class_count_train = 500\n",
    "min_class_count_test = 250\n",
    "\n",
    "df_train_balanced = df_train.groupby('LABEL').apply(lambda x: x.sample(min_class_count_train)).reset_index(drop=True)\n",
    "df_test_balanced = df_test.groupby('LABEL').apply(lambda x: x.sample(min_class_count_test)).reset_index(drop=True)"
   ]
  },
  {
   "cell_type": "code",
   "execution_count": 48,
   "metadata": {},
   "outputs": [
    {
     "name": "stdout",
     "output_type": "stream",
     "text": [
      "Dataset({\n",
      "    features: ['text', 'LABEL'],\n",
      "    num_rows: 1000\n",
      "})\n",
      "Dataset({\n",
      "    features: ['text', 'LABEL'],\n",
      "    num_rows: 500\n",
      "})\n"
     ]
    }
   ],
   "source": [
    "# Zmiana formatu danych na JSON\n",
    "train_json = df_train_balanced.to_json(orient='records')\n",
    "test_json = df_test_balanced.to_json(orient='records')\n",
    "\n",
    "\n",
    "train_dataset = Dataset.from_list(json.loads(train_json))\n",
    "test_dataset = Dataset.from_list(json.loads(test_json))\n",
    "\n",
    "\n",
    "dataset = DatasetDict({\n",
    "    'train': train_dataset,\n",
    "    'test': test_dataset\n",
    "})\n",
    "\n",
    "print(dataset['train'])\n",
    "print(dataset['test'])"
   ]
  },
  {
   "cell_type": "code",
   "execution_count": 8,
   "metadata": {},
   "outputs": [
    {
     "name": "stdout",
     "output_type": "stream",
     "text": [
      "TEXT: oh sorry that what a slut vandalism i did not think so i thought it what a slut an improvement i will stay away from the article which articles i edit here \n",
      "LABEL: 0\n",
      "\n",
      "TEXT: ban proposal i have proposed that you and several other accounts be banned from the english wikipedia at span proposed ban for lance user taken you can comment on the proposal there \n",
      "LABEL: 0\n",
      "\n",
      "TEXT: i am tired off that piss poor excuse from conservatives which is pretty much synonymous with bigot nowadays it is not fear they feel it is shame the same shame all hypocrites feel \n",
      "LABEL: 0\n",
      "\n",
      "TEXT: redirect talkkhwaza held swat \n",
      "LABEL: 0\n",
      "\n",
      "TEXT: it is refreshing to see so many mixed race people in this area \n",
      "LABEL: 0\n",
      "\n"
     ]
    }
   ],
   "source": [
    "for entry in dataset['train'].select(range(5)):\n",
    "    print('TEXT: {} \\nLABEL: {}\\n'.format(entry['text'], entry['LABEL']))"
   ]
  },
  {
   "cell_type": "code",
   "execution_count": 9,
   "metadata": {},
   "outputs": [
    {
     "data": {
      "text/html": [
       "<div>\n",
       "<style scoped>\n",
       "    .dataframe tbody tr th:only-of-type {\n",
       "        vertical-align: middle;\n",
       "    }\n",
       "\n",
       "    .dataframe tbody tr th {\n",
       "        vertical-align: top;\n",
       "    }\n",
       "\n",
       "    .dataframe thead th {\n",
       "        text-align: right;\n",
       "    }\n",
       "</style>\n",
       "<table border=\"1\" class=\"dataframe\">\n",
       "  <thead>\n",
       "    <tr style=\"text-align: right;\">\n",
       "      <th></th>\n",
       "      <th>Sentiment</th>\n",
       "      <th>train_set</th>\n",
       "      <th>test_set</th>\n",
       "    </tr>\n",
       "  </thead>\n",
       "  <tbody>\n",
       "    <tr>\n",
       "      <th>0</th>\n",
       "      <td>0</td>\n",
       "      <td>500</td>\n",
       "      <td>250</td>\n",
       "    </tr>\n",
       "    <tr>\n",
       "      <th>1</th>\n",
       "      <td>1</td>\n",
       "      <td>500</td>\n",
       "      <td>250</td>\n",
       "    </tr>\n",
       "  </tbody>\n",
       "</table>\n",
       "</div>"
      ],
      "text/plain": [
       "  Sentiment  train_set  test_set\n",
       "0         0        500       250\n",
       "1         1        500       250"
      ]
     },
     "metadata": {},
     "output_type": "display_data"
    }
   ],
   "source": [
    "train_counts = pd.DataFrame({'Sentiment': dataset['train']['LABEL']})\n",
    "train_counts = train_counts.groupby('Sentiment').size().reset_index(name='train_set')\n",
    "\n",
    "test_counts = pd.DataFrame({'Sentiment': dataset['test']['LABEL']})\n",
    "test_counts = test_counts.groupby('Sentiment').size().reset_index(name='test_set')\n",
    "\n",
    "display(train_counts.merge(test_counts, on='Sentiment'))"
   ]
  },
  {
   "cell_type": "markdown",
   "metadata": {},
   "source": [
    "## Strojenie modelu dla zadania klasyfikacji tekstu"
   ]
  },
  {
   "cell_type": "code",
   "execution_count": 10,
   "metadata": {},
   "outputs": [
    {
     "name": "stderr",
     "output_type": "stream",
     "text": [
      "Some weights of BertForSequenceClassification were not initialized from the model checkpoint at bert-base-uncased and are newly initialized: ['classifier.bias', 'classifier.weight']\n",
      "You should probably TRAIN this model on a down-stream task to be able to use it for predictions and inference.\n"
     ]
    }
   ],
   "source": [
    "sorted_labels = sorted(set(dataset['train']['LABEL']))\n",
    "label2id = dict(zip(sorted_labels, range(0, len(sorted_labels))))\n",
    "id2label = dict(zip(range(0, len(sorted_labels)), sorted_labels))\n",
    "\n",
    "tokenizer = BertTokenizer.from_pretrained(\"bert-base-uncased\")\n",
    "model = BertForSequenceClassification.from_pretrained(\"bert-base-uncased\",\n",
    "                                                                    num_labels=len(label2id),\n",
    "                                                                    label2id=label2id,\n",
    "                                                                    id2label=id2label)"
   ]
  },
  {
   "cell_type": "code",
   "execution_count": 11,
   "metadata": {},
   "outputs": [
    {
     "data": {
      "application/vnd.jupyter.widget-view+json": {
       "model_id": "3a3cf23e70fc43ffb355e3ffc1c68996",
       "version_major": 2,
       "version_minor": 0
      },
      "text/plain": [
       "Map:   0%|          | 0/1000 [00:00<?, ? examples/s]"
      ]
     },
     "metadata": {},
     "output_type": "display_data"
    },
    {
     "data": {
      "application/vnd.jupyter.widget-view+json": {
       "model_id": "b2bbee1eaea24e98b44d9e285232aa15",
       "version_major": 2,
       "version_minor": 0
      },
      "text/plain": [
       "Map:   0%|          | 0/500 [00:00<?, ? examples/s]"
      ]
     },
     "metadata": {},
     "output_type": "display_data"
    },
    {
     "name": "stdout",
     "output_type": "stream",
     "text": [
      "{'train': Dataset({\n",
      "    features: ['text', 'LABEL', 'input_ids', 'token_type_ids', 'attention_mask', 'label'],\n",
      "    num_rows: 1000\n",
      "}), 'test': Dataset({\n",
      "    features: ['text', 'LABEL', 'input_ids', 'token_type_ids', 'attention_mask', 'label'],\n",
      "    num_rows: 500\n",
      "})}\n"
     ]
    }
   ],
   "source": [
    "def preprocess_function(examples):\n",
    "    \"\"\"Preprocess the dataset by returning tokenized examples.\"\"\"\n",
    "    tokens = tokenizer(examples[\"text\"], padding=\"max_length\", truncation=True)\n",
    "    tokens['label'] = [label2id[l] for l in examples[\"LABEL\"]]\n",
    "    return tokens\n",
    "\n",
    "splits = ['train', 'test']\n",
    "\n",
    "tokenized_ds = {} \n",
    "\n",
    "for split in splits:\n",
    "    tokenized_ds[split] = dataset[split].map(preprocess_function, batched=True)\n",
    "\n",
    "print(tokenized_ds)"
   ]
  },
  {
   "cell_type": "code",
   "execution_count": 12,
   "metadata": {},
   "outputs": [
    {
     "name": "stdout",
     "output_type": "stream",
     "text": [
      "A tokenized training input example:\n",
      "[101, 2821, 3374, 2008, 2054, 1037, 22889, 4904, 3158, 9305, 2964, 1045, 2106, 2025, 2228, 2061, 1045, 2245, 2009, 2054, 1037, 22889, 4904, 2019, 7620, 1045, 2097, 2994, 2185, 2013, 1996, 3720, 2029, 4790, 1045, 10086, 2182, 102, 0, 0, 0, 0, 0, 0, 0, 0, 0, 0, 0, 0, 0, 0, 0, 0, 0, 0, 0, 0, 0, 0, 0, 0, 0, 0, 0, 0, 0, 0, 0, 0, 0, 0, 0, 0, 0, 0, 0, 0, 0, 0, 0, 0, 0, 0, 0, 0, 0, 0, 0, 0, 0, 0, 0, 0, 0, 0, 0, 0, 0, 0, 0, 0, 0, 0, 0, 0, 0, 0, 0, 0, 0, 0, 0, 0, 0, 0, 0, 0, 0, 0, 0, 0, 0, 0, 0, 0, 0, 0, 0, 0, 0, 0, 0, 0, 0, 0, 0, 0, 0, 0, 0, 0, 0, 0, 0, 0, 0, 0, 0, 0, 0, 0, 0, 0, 0, 0, 0, 0, 0, 0, 0, 0, 0, 0, 0, 0, 0, 0, 0, 0, 0, 0, 0, 0, 0, 0, 0, 0, 0, 0, 0, 0, 0, 0, 0, 0, 0, 0, 0, 0, 0, 0, 0, 0, 0, 0, 0, 0, 0, 0, 0, 0, 0, 0, 0, 0, 0, 0, 0, 0, 0, 0, 0, 0, 0, 0, 0, 0, 0, 0, 0, 0, 0, 0, 0, 0, 0, 0, 0, 0, 0, 0, 0, 0, 0, 0, 0, 0, 0, 0, 0, 0, 0, 0, 0, 0, 0, 0, 0, 0, 0, 0, 0, 0, 0, 0, 0, 0, 0, 0, 0, 0, 0, 0, 0, 0, 0, 0, 0, 0, 0, 0, 0, 0, 0, 0, 0, 0, 0, 0, 0, 0, 0, 0, 0, 0, 0, 0, 0, 0, 0, 0, 0, 0, 0, 0, 0, 0, 0, 0, 0, 0, 0, 0, 0, 0, 0, 0, 0, 0, 0, 0, 0, 0, 0, 0, 0, 0, 0, 0, 0, 0, 0, 0, 0, 0, 0, 0, 0, 0, 0, 0, 0, 0, 0, 0, 0, 0, 0, 0, 0, 0, 0, 0, 0, 0, 0, 0, 0, 0, 0, 0, 0, 0, 0, 0, 0, 0, 0, 0, 0, 0, 0, 0, 0, 0, 0, 0, 0, 0, 0, 0, 0, 0, 0, 0, 0, 0, 0, 0, 0, 0, 0, 0, 0, 0, 0, 0, 0, 0, 0, 0, 0, 0, 0, 0, 0, 0, 0, 0, 0, 0, 0, 0, 0, 0, 0, 0, 0, 0, 0, 0, 0, 0, 0, 0, 0, 0, 0, 0, 0, 0, 0, 0, 0, 0, 0, 0, 0, 0, 0, 0, 0, 0, 0, 0, 0, 0, 0, 0, 0, 0, 0, 0, 0, 0, 0, 0, 0, 0, 0, 0, 0, 0, 0, 0, 0, 0, 0, 0, 0, 0, 0, 0, 0, 0, 0, 0, 0, 0, 0, 0, 0, 0, 0, 0, 0, 0, 0, 0, 0, 0, 0, 0, 0, 0, 0, 0, 0, 0, 0, 0, 0, 0, 0, 0, 0, 0, 0, 0, 0, 0, 0, 0, 0, 0, 0, 0, 0, 0, 0, 0]\n",
      "\n",
      "\n",
      "A tokenized training label example:\n",
      "0\n",
      "[1, 1, 1, 1, 1, 1, 1, 1, 1, 1, 1, 1, 1, 1, 1, 1, 1, 1, 1, 1, 1, 1, 1, 1, 1, 1, 1, 1, 1, 1, 1, 1, 1, 1, 1, 1, 1, 1, 0, 0, 0, 0, 0, 0, 0, 0, 0, 0, 0, 0, 0, 0, 0, 0, 0, 0, 0, 0, 0, 0, 0, 0, 0, 0, 0, 0, 0, 0, 0, 0, 0, 0, 0, 0, 0, 0, 0, 0, 0, 0, 0, 0, 0, 0, 0, 0, 0, 0, 0, 0, 0, 0, 0, 0, 0, 0, 0, 0, 0, 0, 0, 0, 0, 0, 0, 0, 0, 0, 0, 0, 0, 0, 0, 0, 0, 0, 0, 0, 0, 0, 0, 0, 0, 0, 0, 0, 0, 0, 0, 0, 0, 0, 0, 0, 0, 0, 0, 0, 0, 0, 0, 0, 0, 0, 0, 0, 0, 0, 0, 0, 0, 0, 0, 0, 0, 0, 0, 0, 0, 0, 0, 0, 0, 0, 0, 0, 0, 0, 0, 0, 0, 0, 0, 0, 0, 0, 0, 0, 0, 0, 0, 0, 0, 0, 0, 0, 0, 0, 0, 0, 0, 0, 0, 0, 0, 0, 0, 0, 0, 0, 0, 0, 0, 0, 0, 0, 0, 0, 0, 0, 0, 0, 0, 0, 0, 0, 0, 0, 0, 0, 0, 0, 0, 0, 0, 0, 0, 0, 0, 0, 0, 0, 0, 0, 0, 0, 0, 0, 0, 0, 0, 0, 0, 0, 0, 0, 0, 0, 0, 0, 0, 0, 0, 0, 0, 0, 0, 0, 0, 0, 0, 0, 0, 0, 0, 0, 0, 0, 0, 0, 0, 0, 0, 0, 0, 0, 0, 0, 0, 0, 0, 0, 0, 0, 0, 0, 0, 0, 0, 0, 0, 0, 0, 0, 0, 0, 0, 0, 0, 0, 0, 0, 0, 0, 0, 0, 0, 0, 0, 0, 0, 0, 0, 0, 0, 0, 0, 0, 0, 0, 0, 0, 0, 0, 0, 0, 0, 0, 0, 0, 0, 0, 0, 0, 0, 0, 0, 0, 0, 0, 0, 0, 0, 0, 0, 0, 0, 0, 0, 0, 0, 0, 0, 0, 0, 0, 0, 0, 0, 0, 0, 0, 0, 0, 0, 0, 0, 0, 0, 0, 0, 0, 0, 0, 0, 0, 0, 0, 0, 0, 0, 0, 0, 0, 0, 0, 0, 0, 0, 0, 0, 0, 0, 0, 0, 0, 0, 0, 0, 0, 0, 0, 0, 0, 0, 0, 0, 0, 0, 0, 0, 0, 0, 0, 0, 0, 0, 0, 0, 0, 0, 0, 0, 0, 0, 0, 0, 0, 0, 0, 0, 0, 0, 0, 0, 0, 0, 0, 0, 0, 0, 0, 0, 0, 0, 0, 0, 0, 0, 0, 0, 0, 0, 0, 0, 0, 0, 0, 0, 0, 0, 0, 0, 0, 0, 0, 0, 0, 0, 0, 0, 0, 0, 0, 0, 0, 0, 0, 0, 0, 0, 0, 0, 0, 0, 0, 0, 0, 0, 0, 0, 0, 0, 0, 0, 0, 0, 0, 0, 0, 0, 0, 0, 0, 0, 0, 0, 0, 0, 0, 0, 0]\n"
     ]
    }
   ],
   "source": [
    "print(\"A tokenized training input example:\")\n",
    "print(tokenized_ds[\"train\"][0][\"input_ids\"])\n",
    "print(\"\\n\")\n",
    "print(\"A tokenized training label example:\")\n",
    "print(tokenized_ds[\"train\"][0][\"label\"])\n",
    "print(tokenized_ds[\"train\"][0]['attention_mask'])"
   ]
  },
  {
   "cell_type": "code",
   "execution_count": 13,
   "metadata": {},
   "outputs": [],
   "source": [
    "def compute_metrics(eval_pred):\n",
    "    predictions, labels = eval_pred\n",
    "    predictions = np.argmax(predictions, axis=1)\n",
    "    return {\"accuracy\": (predictions == labels).mean()*100, \"f1\": f1_score(labels, predictions, labels=[0, 1], pos_label=1)}"
   ]
  },
  {
   "cell_type": "markdown",
   "metadata": {},
   "source": [
    "#### PEFT-BERT"
   ]
  },
  {
   "cell_type": "code",
   "execution_count": 14,
   "metadata": {},
   "outputs": [],
   "source": [
    "lora_config = LoraConfig(\n",
    "    task_type=TaskType.SEQ_CLS, r=8, lora_alpha=1, lora_dropout=0.1\n",
    ")\n",
    "\n",
    "model_pert = get_peft_model(model, lora_config)"
   ]
  },
  {
   "cell_type": "code",
   "execution_count": 15,
   "metadata": {},
   "outputs": [
    {
     "name": "stderr",
     "output_type": "stream",
     "text": [
      "d:\\Python\\Lib\\site-packages\\transformers\\training_args.py:1559: FutureWarning: `evaluation_strategy` is deprecated and will be removed in version 4.46 of 🤗 Transformers. Use `eval_strategy` instead\n",
      "  warnings.warn(\n",
      "C:\\Users\\DELL\\AppData\\Local\\Temp\\ipykernel_18340\\1520901696.py:1: FutureWarning: `tokenizer` is deprecated and will be removed in version 5.0.0 for `Trainer.__init__`. Use `processing_class` instead.\n",
      "  trainer_pert = Trainer(\n"
     ]
    },
    {
     "name": "stdout",
     "output_type": "stream",
     "text": [
      "Starting to train...\n"
     ]
    },
    {
     "data": {
      "application/vnd.jupyter.widget-view+json": {
       "model_id": "0ce739be7914404bb69019eaa1d4b8c8",
       "version_major": 2,
       "version_minor": 0
      },
      "text/plain": [
       "  0%|          | 0/4000 [00:00<?, ?it/s]"
      ]
     },
     "metadata": {},
     "output_type": "display_data"
    },
    {
     "name": "stderr",
     "output_type": "stream",
     "text": [
      "d:\\Python\\Lib\\site-packages\\transformers\\models\\bert\\modeling_bert.py:440: UserWarning: 1Torch was not compiled with flash attention. (Triggered internally at ..\\aten\\src\\ATen\\native\\transformers\\cuda\\sdp_utils.cpp:455.)\n",
      "  attn_output = torch.nn.functional.scaled_dot_product_attention(\n"
     ]
    },
    {
     "name": "stdout",
     "output_type": "stream",
     "text": [
      "{'loss': 0.8294, 'grad_norm': 0.001986447023227811, 'learning_rate': 0.00175, 'epoch': 1.0}\n"
     ]
    },
    {
     "data": {
      "application/vnd.jupyter.widget-view+json": {
       "model_id": "eb0ba5ca3e494da0855fc60e69d8b7b3",
       "version_major": 2,
       "version_minor": 0
      },
      "text/plain": [
       "  0%|          | 0/250 [00:00<?, ?it/s]"
      ]
     },
     "metadata": {},
     "output_type": "display_data"
    },
    {
     "name": "stdout",
     "output_type": "stream",
     "text": [
      "{'eval_loss': 0.865161120891571, 'eval_accuracy': 79.60000000000001, 'eval_f1': 0.7976190476190477, 'eval_runtime': 18.7023, 'eval_samples_per_second': 26.735, 'eval_steps_per_second': 13.367, 'epoch': 1.0}\n",
      "{'loss': 0.7351, 'grad_norm': 0.07529377192258835, 'learning_rate': 0.0015, 'epoch': 2.0}\n"
     ]
    },
    {
     "data": {
      "application/vnd.jupyter.widget-view+json": {
       "model_id": "2cdeba5a921447d195246f0935fb3e24",
       "version_major": 2,
       "version_minor": 0
      },
      "text/plain": [
       "  0%|          | 0/250 [00:00<?, ?it/s]"
      ]
     },
     "metadata": {},
     "output_type": "display_data"
    },
    {
     "name": "stdout",
     "output_type": "stream",
     "text": [
      "{'eval_loss': 0.9885197877883911, 'eval_accuracy': 77.8, 'eval_f1': 0.8096054888507719, 'eval_runtime': 18.762, 'eval_samples_per_second': 26.65, 'eval_steps_per_second': 13.325, 'epoch': 2.0}\n",
      "{'loss': 0.5372, 'grad_norm': 7.944591999053955, 'learning_rate': 0.00125, 'epoch': 3.0}\n"
     ]
    },
    {
     "data": {
      "application/vnd.jupyter.widget-view+json": {
       "model_id": "a58718263af041b3b0271505cf1d96e2",
       "version_major": 2,
       "version_minor": 0
      },
      "text/plain": [
       "  0%|          | 0/250 [00:00<?, ?it/s]"
      ]
     },
     "metadata": {},
     "output_type": "display_data"
    },
    {
     "name": "stdout",
     "output_type": "stream",
     "text": [
      "{'eval_loss': 0.801530122756958, 'eval_accuracy': 78.4, 'eval_f1': 0.7682403433476395, 'eval_runtime': 18.8185, 'eval_samples_per_second': 26.57, 'eval_steps_per_second': 13.285, 'epoch': 3.0}\n",
      "{'loss': 0.4323, 'grad_norm': 11.236715316772461, 'learning_rate': 0.001, 'epoch': 4.0}\n"
     ]
    },
    {
     "data": {
      "application/vnd.jupyter.widget-view+json": {
       "model_id": "e27f9e4ce99646188c42631f56d83201",
       "version_major": 2,
       "version_minor": 0
      },
      "text/plain": [
       "  0%|          | 0/250 [00:00<?, ?it/s]"
      ]
     },
     "metadata": {},
     "output_type": "display_data"
    },
    {
     "name": "stdout",
     "output_type": "stream",
     "text": [
      "{'eval_loss': 0.9980890154838562, 'eval_accuracy': 79.0, 'eval_f1': 0.7817047817047817, 'eval_runtime': 18.9083, 'eval_samples_per_second': 26.443, 'eval_steps_per_second': 13.222, 'epoch': 4.0}\n",
      "{'loss': 0.3152, 'grad_norm': 7.119736194610596, 'learning_rate': 0.00075, 'epoch': 5.0}\n"
     ]
    },
    {
     "data": {
      "application/vnd.jupyter.widget-view+json": {
       "model_id": "d0b50686f9d24a1584805a719b66de3f",
       "version_major": 2,
       "version_minor": 0
      },
      "text/plain": [
       "  0%|          | 0/250 [00:00<?, ?it/s]"
      ]
     },
     "metadata": {},
     "output_type": "display_data"
    },
    {
     "name": "stdout",
     "output_type": "stream",
     "text": [
      "{'eval_loss': 0.8868651986122131, 'eval_accuracy': 77.2, 'eval_f1': 0.7807692307692308, 'eval_runtime': 20.5504, 'eval_samples_per_second': 24.33, 'eval_steps_per_second': 12.165, 'epoch': 5.0}\n",
      "{'loss': 0.2251, 'grad_norm': 1.8016250133514404, 'learning_rate': 0.0005, 'epoch': 6.0}\n"
     ]
    },
    {
     "data": {
      "application/vnd.jupyter.widget-view+json": {
       "model_id": "666bbe30159e473f94598354c884917c",
       "version_major": 2,
       "version_minor": 0
      },
      "text/plain": [
       "  0%|          | 0/250 [00:00<?, ?it/s]"
      ]
     },
     "metadata": {},
     "output_type": "display_data"
    },
    {
     "name": "stdout",
     "output_type": "stream",
     "text": [
      "{'eval_loss': 1.1103360652923584, 'eval_accuracy': 77.60000000000001, 'eval_f1': 0.776, 'eval_runtime': 20.568, 'eval_samples_per_second': 24.31, 'eval_steps_per_second': 12.155, 'epoch': 6.0}\n",
      "{'loss': 0.1847, 'grad_norm': 1.5864635705947876, 'learning_rate': 0.00025, 'epoch': 7.0}\n"
     ]
    },
    {
     "data": {
      "application/vnd.jupyter.widget-view+json": {
       "model_id": "080b3fe1ac4944849f433060217be422",
       "version_major": 2,
       "version_minor": 0
      },
      "text/plain": [
       "  0%|          | 0/250 [00:00<?, ?it/s]"
      ]
     },
     "metadata": {},
     "output_type": "display_data"
    },
    {
     "name": "stdout",
     "output_type": "stream",
     "text": [
      "{'eval_loss': 1.1517926454544067, 'eval_accuracy': 77.60000000000001, 'eval_f1': 0.7846153846153846, 'eval_runtime': 18.882, 'eval_samples_per_second': 26.48, 'eval_steps_per_second': 13.24, 'epoch': 7.0}\n",
      "{'loss': 0.1207, 'grad_norm': 7.010550498962402, 'learning_rate': 0.0, 'epoch': 8.0}\n"
     ]
    },
    {
     "data": {
      "application/vnd.jupyter.widget-view+json": {
       "model_id": "d40af774cf664cb197bf997c40147f6d",
       "version_major": 2,
       "version_minor": 0
      },
      "text/plain": [
       "  0%|          | 0/250 [00:00<?, ?it/s]"
      ]
     },
     "metadata": {},
     "output_type": "display_data"
    },
    {
     "name": "stdout",
     "output_type": "stream",
     "text": [
      "{'eval_loss': 1.2937402725219727, 'eval_accuracy': 77.2, 'eval_f1': 0.7782101167315175, 'eval_runtime': 18.8995, 'eval_samples_per_second': 26.456, 'eval_steps_per_second': 13.228, 'epoch': 8.0}\n",
      "{'train_runtime': 901.908, 'train_samples_per_second': 8.87, 'train_steps_per_second': 4.435, 'train_loss': 0.4224689311981201, 'epoch': 8.0}\n"
     ]
    },
    {
     "data": {
      "text/plain": [
       "TrainOutput(global_step=4000, training_loss=0.4224689311981201, metrics={'train_runtime': 901.908, 'train_samples_per_second': 8.87, 'train_steps_per_second': 4.435, 'total_flos': 2112173998080000.0, 'train_loss': 0.4224689311981201, 'epoch': 8.0})"
      ]
     },
     "execution_count": 15,
     "metadata": {},
     "output_type": "execute_result"
    }
   ],
   "source": [
    "trainer_pert = Trainer(\n",
    "    model=model_pert,\n",
    "    args=TrainingArguments(\n",
    "        output_dir=\"bert-lora\",\n",
    "        learning_rate=2e-3,\n",
    "        per_device_train_batch_size=2,\n",
    "        per_device_eval_batch_size=2,\n",
    "        num_train_epochs=8,\n",
    "        weight_decay=0.01,\n",
    "        evaluation_strategy=\"epoch\",\n",
    "        save_strategy=\"epoch\",\n",
    "        load_best_model_at_end=True,\n",
    "    ),\n",
    "    train_dataset=tokenized_ds[\"train\"],\n",
    "    eval_dataset=tokenized_ds[\"test\"],\n",
    "    tokenizer=tokenizer,\n",
    "    data_collator=DataCollatorWithPadding(tokenizer=tokenizer),\n",
    "    compute_metrics=compute_metrics,\n",
    ")\n",
    "\n",
    "print(\"Starting to train...\")\n",
    "trainer_pert.train()"
   ]
  },
  {
   "cell_type": "code",
   "execution_count": 16,
   "metadata": {},
   "outputs": [],
   "source": [
    "model_path_pert = 'pert_model-weights/'\n",
    "model_pert.save_pretrained(model_path_pert)"
   ]
  },
  {
   "cell_type": "markdown",
   "metadata": {},
   "source": [
    "## Ocena jakości predyckji"
   ]
  },
  {
   "cell_type": "code",
   "execution_count": 16,
   "metadata": {},
   "outputs": [],
   "source": [
    "model_path_pert = 'pert_model-weights/'\n",
    "model_pert = PeftModel.from_pretrained(model, model_path_pert)\n",
    "tokenizer = BertTokenizer.from_pretrained(\"bert-base-uncased\")\n",
    "\n",
    "trainer_pert = Trainer(\n",
    "    model=model,\n",
    "    data_collator=DataCollatorWithPadding(tokenizer=tokenizer),\n",
    "    compute_metrics=compute_metrics\n",
    ")"
   ]
  },
  {
   "cell_type": "code",
   "execution_count": 17,
   "metadata": {},
   "outputs": [
    {
     "name": "stderr",
     "output_type": "stream",
     "text": [
      "d:\\Python\\Lib\\site-packages\\transformers\\models\\bert\\modeling_bert.py:440: UserWarning: 1Torch was not compiled with flash attention. (Triggered internally at ..\\aten\\src\\ATen\\native\\transformers\\cuda\\sdp_utils.cpp:455.)\n",
      "  attn_output = torch.nn.functional.scaled_dot_product_attention(\n"
     ]
    },
    {
     "data": {
      "application/vnd.jupyter.widget-view+json": {
       "model_id": "9c2dc0f41d4d4e07a8799580ff10d513",
       "version_major": 2,
       "version_minor": 0
      },
      "text/plain": [
       "  0%|          | 0/63 [00:00<?, ?it/s]"
      ]
     },
     "metadata": {},
     "output_type": "display_data"
    },
    {
     "name": "stdout",
     "output_type": "stream",
     "text": [
      "Wyniki:\n",
      "--------------------\n",
      "Test Loss: 0.8853\n",
      "Test Model Preparation Time: 0.0048\n",
      "Test Accuracy: 74.8000\n",
      "Test F1: 0.7364\n",
      "Test Runtime: 17.4203\n",
      "Test Samples Per Second: 28.7020\n",
      "Test Steps Per Second: 3.6160\n"
     ]
    }
   ],
   "source": [
    "predictions_pert = trainer_pert.predict(tokenized_ds['test'])\n",
    "\n",
    "predicted_labels_pert = predictions_pert.predictions.argmax(axis=1)  \n",
    "true_labels_pert = predictions_pert.label_ids \n",
    "metrics_pert = predictions_pert.metrics\n",
    "\n",
    "print(\"Wyniki:\")\n",
    "print(\"-\" * 20)\n",
    "for key, value in metrics_pert.items():\n",
    "    print(f\"{key.replace('_', ' ').title()}: {value:.4f}\" if isinstance(value, float) else f\"{key.replace('_', ' ').title()}: {value}\")"
   ]
  },
  {
   "cell_type": "code",
   "execution_count": 18,
   "metadata": {},
   "outputs": [
    {
     "data": {
      "image/png": "[encoded data removed]",
      "text/plain": [
       "<Figure size 500x500 with 2 Axes>"
      ]
     },
     "metadata": {},
     "output_type": "display_data"
    }
   ],
   "source": [
    "conf_matrix = confusion_matrix(true_labels_pert, predicted_labels_pert)\n",
    "\n",
    "labels = np.unique(true_labels_pert)  \n",
    "confusion_df = pd.DataFrame(conf_matrix, index=labels, columns=labels)\n",
    "\n",
    "plt.figure(figsize=(5, 5))\n",
    "sns.heatmap(confusion_df, annot=True, fmt='d', cmap='Blues', cbar=True,\n",
    "            xticklabels=labels, yticklabels=labels)\n",
    "plt.title('Macierz Konfuzji')\n",
    "plt.xlabel('Przewidywane Etykiety')\n",
    "plt.ylabel('Rzeczywiste Etykiety')\n",
    "plt.show()"
   ]
  },
  {
   "cell_type": "markdown",
   "metadata": {},
   "source": [
    "## Wizualizacja przestrzeni wektorowej"
   ]
  },
  {
   "cell_type": "markdown",
   "metadata": {},
   "source": [
    "### Embeddings"
   ]
  },
  {
   "cell_type": "code",
   "execution_count": 19,
   "metadata": {},
   "outputs": [],
   "source": [
    "def embed_text(examples):\n",
    "    inputs = tokenizer(examples[\"text\"], padding=\"max_length\", truncation=True, return_tensors=\"pt\")\n",
    "\n",
    "    with torch.no_grad():\n",
    "        model_pert.to('cpu')\n",
    "        outputs = model_pert(**inputs, output_hidden_states=True)\n",
    "    token_embeddings = outputs.hidden_states[-1][:, 0, :].detach().cpu().numpy()\n",
    "    return token_embeddings\n",
    "\n",
    "def wrap_text(text, width=40):\n",
    "    return '<br>'.join([text[i:i+width] for i in range(0, len(text), width)])\n"
   ]
  },
  {
   "cell_type": "code",
   "execution_count": 20,
   "metadata": {},
   "outputs": [],
   "source": [
    "text = pd.DataFrame(tokenized_ds['test']['text'], columns=['text'])\n",
    "text['text'] = text['text'].apply(wrap_text)\n",
    "\n",
    "embeddings = embed_text(dataset['test'])"
   ]
  },
  {
   "cell_type": "markdown",
   "metadata": {},
   "source": [
    "#### PCA"
   ]
  },
  {
   "cell_type": "code",
   "execution_count": 21,
   "metadata": {},
   "outputs": [
    {
     "data": {
      "application/vnd.plotly.v1+json": {
       "config": {
        "plotlyServerURL": "https://plot.ly"
       },
       "data": [
        {
         "customdata": [
          [
           "soi ll stick with my sources while you t<br>ry to pull more you there of the air",
           0
          ],
          [
           "where can whatever get a copy of this",
           0
          ],
          [
           "tnx i see yeah right argument and i am g<br>lad that in this case there is a non mis<br>leading where are you of responding at",
           0
          ],
          [
           "else has contested this in the meantime <br>but i will get my two pennyworth in as w<br>ell this is not a pub team but is about <br>to absorb the very notable solidly borou<br>gh f c",
           0
          ],
          [
           "i am thankful for my bed thankful positi<br>ve",
           0
          ],
          [
           "i am sanctioned to give another words of<br> justification to any revert until the e<br>nd of so here it goes besides what i sta<br>ted above here are my thoughts i have no<br>thing contrary to the citation of a cont<br>emporary author that has done a serious <br>study on java trial and does not blindly<br> repeat that she what a slut from serbia<br>n origin the only contemporary scholar t<br>hat whatever have to claim that visa tri<br>al what a slut from serbian origin is st<br>andouts who says only that and then he p<br>oints to the biography of marin ballet n<br>ow ballet does not say that she what a s<br>lut serbian but albanian so standouts co<br>ntradicts himself if whatever really wan<br>t to give some references to slandered t<br>hat are sour let us start with oliver je<br>ns schmitt who really has made a bad bio<br>graphy of the national hero of the alban<br>ians schmitt is a voice out of the choir<br> and i would love if someone brings to t<br>he table what he says because i want to <br>see if he is fringe or serious",
           0
          ],
          [
           "doubt he would be any taller than unless<br> the man is dutch who currently are the <br>tallest in the world with an average hei<br>ght of it is more realistic he would be <br>about that height i think",
           0
          ],
          [
           "haii happy",
           0
          ],
          [
           "retweet some pussy be so wet sweat dropl<br>etsdropletsweat dropletsdropletyou got t<br>o think about other things not to come f<br>ast like damn i really failed the grade",
           0
          ],
          [
           "more botheration reopen access publishin<br>g since you were the administrator invol<br>ved in an original move i what a slut ho<br>ping you could help me figure out cleanu<br>p on the articles open access publishing<br> and open access publishing you original<br>ly moved publishing to publishing but bo<br>th articles still exist with substantial<br>ly the same content although subsequent <br>edits have forked the content a bit shou<br>ld open access publishing be redirected <br>to open access publishing as seems what <br>a slut your intent or is there something<br> more subtle going on here this is separ<br>ate from the main open access article wh<br>ich open access publishing appears to th<br>ink it is based on the hat note and the <br>open access disambiguation dab page does<br> not refer to either of the two publishi<br>ng articles at this point i am rather co<br>nfused about what is intended to go wher<br>e",
           0
          ],
          [
           "consider adding links to anger managemen<br>t volition habituation and performance w<br>hile there is not currently a page on oc<br>cupational performance or occupational e<br>xploration consider defining these terms<br> since they are specific to off topic it<br> also be useful to give a few examples o<br>f settings over the shoulder work in to <br>give readers who are unfamiliar with off<br> topic a better understanding of the fie<br>ld overall the page is well written and <br>contains a lot of important information <br>on the subject",
           0
          ],
          [
           "acording to the wiki policy self made pi<br>ctures area lowed as they are classed as<br> based on researched material",
           0
          ],
          [
           "sigh but surely i am the one who hounds <br>him and bullies him and will not leave h<br>im alone do as you will wee regards talk",
           0
          ],
          [
           "imageromania drumuri svg hey nice work o<br>n the image i would update the image mys<br>elf but i do not know how so here is wha<br>t found missing on your image based on t<br>he maps at this link lugoj sibiu on ploi<br>esti focsani on club south freeway bucha<br>rest ring freeway also i did not find an<br>y reference about the focsani bacau sect<br>or that you labeled as planned cheers",
           0
          ],
          [
           "you are an admin it is my pleasure to in<br>form you that you are now an admin congr<br>atulations you can feel free to do every<br>thing you are supposed to do and nothing<br> you are not supposed to do if you have <br>not already now is the time look through<br> the wikipediaadministrators how to guid<br>e and wikipediaadministrators reading li<br>st if you have any questions feel free t<br>o ask me or at the wikipediaadministrato<br>rs noticeboard best wishes and good luck<br> congratulations wow thanks now the real<br> learning starts",
           0
          ],
          [
           "you misspelled speech i though that i sh<br>ould correct you seeing that you are an <br>administrator and all",
           0
          ],
          [
           "reply question lol asshole i am not sure<br> what the letter p has got to do with th<br>e australian currency but whatever use d<br>ollars for example you must mean pounds <br>or pence uk s currency",
           0
          ],
          [
           "stop the vandalism please future perfect<br> at sunrise",
           0
          ],
          [
           "these hoes be flaw gen i swear bruh a ni<br>gga do not want you all",
           0
          ],
          [
           "info box company location country the do<br>cumentation at indicates that the locati<br>on country parameter is for the country <br>of the company s that is not an office i<br>n san francisco or any other satellite o<br>ffice or secondary locations or regional<br> head offices but the head office there <br>is usually only one head office with tha<br>t said whatever should be adding a locat<br>ion city parameter as well",
           0
          ],
          [
           "ok i withdraw it talk",
           0
          ],
          [
           "note to same correcting spanish american<br>s article i do not know what you are tal<br>king about i did not vandalize any artic<br>le stop accusing me of vandalism because<br> i do not do that and you know it you ar<br>e saying this to make me look bad to wik<br>i and it has not fair all i did what a s<br>lut reflect correct info that the author<br> of the article has made an error in the<br> author made an error in the article per<br>taining to what constitutes a spanish am<br>erican in the article he states that any<br>one from latin america is considered a s<br>panish american when that is not true a <br>spanish american is someone who is desce<br>nded directly note this from spain and b<br>orn in the americas for example mexican <br>born or argentine born peoples are not s<br>panish americans since they are born in <br>latin america not spain i want to work w<br>ith the author but the author has got to<br> work with us the people who are trying <br>to correct him you are not spanish so yo<br>u do not have the right to dictate to ot<br>hers who or what they are",
           0
          ],
          [
           "retweet you all hoes need to get out mor<br>e there so much more to life than being <br>a fucking hater go get yours",
           0
          ],
          [
           "retweet big booty hoe with tig old ditti<br>es xbox one pancake booty hoe with panca<br>ke tits",
           0
          ],
          [
           "nature since the article what a slut fir<br>st nominated for core topics crying on t<br>he floor it has advanced in quality cons<br>iderably this is largely due to the work<br> of while doing so he has contended with<br> the continual one issue commentary on t<br>he talk page of the latter seems to want<br> to make the article into a philosophy o<br>f science article on the meanings of the<br> term nature as a result i would suggest<br> that major editorial changes to the art<br>icle not be necessary or possible withou<br>t incurring an edit war on the other han<br>d the article would likely benefit from <br>a good copy edit however i have not read<br> the article for some time to see how we<br>ll it hangs together perhaps i should do<br> that now if you would also look at it i<br>n that light whatever could compare note<br>s see you on the talk page",
           0
          ],
          [
           "well that is sort of the point it s to a<br>void having a player who only played one<br> or two years skew the data that being s<br>aid i believe the number comes from the <br>nhs cut off point so whatever use the sa<br>me one",
           0
          ],
          [
           "i appreciate your candor in sorting this<br> out i think i understand now i wish i c<br>ould send you a cheese basket or somethi<br>ng you have stuck this out since the beg<br>inning when so many other admins have qu<br>it topgearfreak sinned troy johns loan y<br>ou have been patient and persistent now <br>that whatever are near to the end i hope<br> whatever can work out all these differe<br>nces talk to you tomorrow byeeeeee esq",
           0
          ],
          [
           "retweet glass half full glass half empty<br> this mizzou team is legitimately pretty<br> good if you go by sports references sim<br>ple",
           0
          ],
          [
           "nicesunnyblondy not applicable slut xxx <br>young hot kinky naughty horny wet shy na<br>sty nude porn sexy",
           0
          ],
          [
           "retweet new year s resolution smoke more<br> weed make more money fuck more bitches",
           0
          ],
          [
           "utc talkdemocratic response to state of <br>the union address possibly if the wiki s<br>ource discussion exists on other article<br>s a wikipedia wide discussion can be hel<br>d about it smiling face",
           0
          ],
          [
           "asylum species you know how during the o<br>pening movie it says next to asylum s sp<br>ecies it has well i know this sounds wei<br>rd as they are extinct according to the <br>metro id prime manual but i think asylum<br> is a photo he makes weird bird like mov<br>ements and sounds when he comes out of l<br>ockjaw and the photo were a bird like pe<br>ople right",
           0
          ],
          [
           "whiskerswednesday everyone cute cats kit<br>ten catsoftwitter teamcatmojo cat lover",
           0
          ],
          [
           "ella griffith a tag has been placed on e<br>lla griffith requesting that it be speed<br>ily deleted from wikipedia this has been<br> done because the article seems to be ab<br>out a person group of people band club c<br>ompany or web content but it does not in<br>dicate how or why the subject is notable<br> see the guidelines for notability here <br>if you can indicate why the subject of t<br>his article is notable you contest the t<br>agging to do this please write on the to<br>p of the page and leave a note on the ar<br>ticle s talk page explaining your positi<br>on please do not remove the speedy delet<br>ion tag yourself please read the criteri<br>a for speedy deletion specifically artic<br>les and our general biography criteria f<br>eel free to leave a note on my talk page<br> if you have any questions about this",
           0
          ],
          [
           "imagealbatosssmb png listed for deletion<br> an image or media file that you uploade<br>d or altered imagealbatosssmb png has be<br>en listed at wikipediaimages and media f<br>or deletion please see the discussion to<br> see why this is you have to search for <br>the title of the image to find its entry<br> if you are interested in it not being d<br>eleted talk",
           0
          ],
          [
           "oh please no further involvement of your<br> time is remotely necessary and that goe<br>s for gen quon as well you two lovely pe<br>ople have already expended more than eno<br>ugh of your time on my project if the en<br>tire fa process is based around grammar <br>lessons and anal nitpicking i would much<br> rather return to spending my time with <br>gas which are actually fun and productiv<br>e i am much more of a fan of the you tel<br>l me what has wrong with the article and<br> i will go fix it process it is not that<br> i am giving up on the article i am defi<br>nitely going to continue to fight for it<br> and i am far from quitting i will defin<br>itely re nominate it it is just that the<br> reward to work ratio is severely lackin<br>g or is that lacking severely",
           0
          ],
          [
           "the borders of the new state were not sp<br>ecified changing from borders for a new <br>jewish state were specified by the un to<br> the borders of the new state were not s<br>pecified is a clear misrepresentation of<br> the truth the borders of the new state <br>were specified by the un the borders spe<br>cified by the un were accepted by the je<br>wish agency for israel to sum all this u<br>p in the lead with the statement the bor<br>ders of the new state were not specified<br> is completely dishonest",
           0
          ],
          [
           "massacre or what mercaz hara massacre no<br>t enough dead bowler and nocalsays is a <br>large number i personally think not in w<br>hich case this should be renamed to inci<br>dent or attack or similar otherwise any <br>terrorist attacks that kill or more peop<br>le should likewise be listed as a massac<br>re wikipedia will quickly fill up with m<br>assacres diluting those that really are <br>massacre of large numbers of people agre<br>e renaming per the discussion here talk <br>original here and art shiva only call it<br> attack yet attack israeli ministry of f<br>oreign affairs shooting post attack isra<br>el insider attack in fact one only has t<br>o look at the references supplied in the<br> article itself to see that attack is th<br>e most prevalent description i am astoun<br>ded that bowler found time to search out<br> an obscure tiny article when the mercy <br>hara attack what a slut one of the reaso<br>ns behind the racist group idf which bow<br>ler aids one would have thought that the<br> mercy hara attack would have caught bow<br>ler s attention first dead link live lin<br>k to same article see also ha art seven <br>students remain hospitalized after shoot<br>ing surprisingly the only source for mas<br>sacre is wiki",
           0
          ],
          [
           "these bitches need guidance",
           0
          ],
          [
           "clarification someone claimed that an ed<br>itor here what a slut making a libelous <br>insinuation libelous is not a term to be<br> thrown around loosely first i did not s<br>ee anything that what a slut factually u<br>ntrue that is the first requirement for <br>libel if something is true it is not lib<br>elous second opinion is never libelous i<br> just hope that people become more judic<br>ious about this oh and finally libel aga<br>inst a public figure requires reckless i<br>ndifference to the truth or knowledge th<br>at the statement what a slut false i doe<br>s not see anything here that suggests th<br>ere what a slut any libel",
           0
          ],
          [
           "hee i mean good and great great and good",
           0
          ],
          [
           "you refusing to remove personal inaccura<br>te information when i edit it",
           0
          ],
          [
           "washington nationals strasbourg has yet <br>to sign as of until he does please do no<br>t alter his info box to read nationals",
           0
          ],
          [
           "believe me you will always be a pa of mi<br>ne till my day comes to the silly dances<br> you re trying to twerk ripjulimuffn att<br>ack",
           0
          ],
          [
           "further to this i have blocked your othe<br>r account the general rule on wikipedia <br>is that every editor should only have on<br>e account please follow that rule in the<br> future i do notice that you had problem<br>s with you articles in the past if you h<br>ave questions you can ask them here and <br>i will try to explain everything but ple<br>ase stop attacking other editors on wiki<br>pedia whatever all want to improve wikip<br>edia if other editors mark your articles<br> for deletion they do so because they be<br>lieve that the article should not be par<br>t of wikipedia which articles should or <br>should not be on wikipedia has been dete<br>rmined through a consensus of all editor<br>s regards",
           0
          ],
          [
           "youtube has several dozen holocaust revi<br>sionist videos",
           0
          ],
          [
           "black women are not whales",
           0
          ],
          [
           "it is so embarrassing that you do not kn<br>ow how to swim how could you go on holid<br>ay",
           0
          ],
          [
           "utc anome you must be joking analyzing t<br>wo body planetary orbital theory is much<br> easier in polar coordinates that it is <br>in cartesian coordinates",
           0
          ],
          [
           "welcome hello and welcome to wikipedia t<br>hank you for your contributions i hope y<br>ou like the place and decide to stay her<br>e are some pages that you might find hel<br>pful the five pillars of wikipedia how t<br>o edit a page help pages tutorial how to<br> write a great article manual of style i<br> hope you enjoy editing here and being a<br> wikipedia please sign your name on talk<br> pages using four tildes this will autom<br>atically produce your name and the date <br>if you need help check out wikipediaques<br>tions ask me on my talk page or place on<br> your talk page and ask your question th<br>ere again welcome ps in the future you c<br>an redirect a page by replacing it with <br>redirect article name",
           0
          ],
          [
           "prime example of why the walk away movem<br>ent what a slut born democrats are nothi<br>ng but sleepy liars all decent people th<br>at were democrats will not stand behind <br>tactics like antifa and destroying peopl<br>e s lives for political reasons i what a<br> slut a democrat for years and i walked <br>away",
           0
          ],
          [
           "it is not possible to attack an anonymou<br>s internet protocol address especially o<br>ne which ironically claims a well known <br>national comic strip also cited in vario<br>us other places in wikipedia is",
           0
          ],
          [
           "i know so many trans women",
           0
          ],
          [
           "hello i am gay welcome to the oh site of<br> gilliam i murder puppies c c c c c c c",
           0
          ],
          [
           "no problem an admin from our wiki projec<br>t moved it back thanks",
           0
          ],
          [
           "i m just telling facts one who does not <br>take to krishna consciousness is most co<br>ndemned and cannot be delivered for mill<br>ions of kappas kappa years sri chaitanya<br> caritamrta ant ya e vanyaya yeah na bas<br>e set java chart koti kalpe kabul tara b<br>ahia niagara synonyms e vanyaya in this <br>inundation yeah anyone who na base does <br>not float set that java living entity ch<br>art most condemned koti kalpe in million<br>s of kappas kabul at any time tara his b<br>ahia there is not niagara deliverance tr<br>anslation anyone who does not float in t<br>his inundation is most condemned such a <br>person cannot be delivered for millions <br>of kappas purport the kappa is explained<br> in the bhagavad gita sahasra yuga parya<br>ntam agar had brahman video one day of b<br>rahma is called a kappa a yoga or mahaya<br>na consists of years and one thousand su<br>ch maha yugas constitute one kappa the a<br>uthor of sri caitanya caritamrta says th<br>at if one does not take advantage of the<br> krsna consciousness movement of sri cha<br>itanya mahaprabhu he cannot be delivered<br> for millions of such kappas however sit<br>uation is not hopeless even atheists can<br> be delivered if they take sri krishna c<br>aitanya as supreme personality of godhea<br>d sri chaitanya caritamrita adi caitanya<br> mangala sure wadi ashanti havana sea ma<br>ha vaishnava maya katakana synonyms cait<br>anya mangala the book named caitanya man<br>gala sure anyone hears wadi if ashanti g<br>reat atheist havana a nonbeliever in the<br> vedic culture sea he also maha vaishnav<br>a great devotee maya becomes katakana im<br>mediately translation if even a great at<br>heist hears sri caitanya mangala he imme<br>diately becomes a great devotee so athei<br>sts still have hope to get out of hell a<br>nd also of this material world",
           0
          ],
          [
           "national best friends day",
           0
          ],
          [
           "beefcake s boot camp white genocide proj<br>ect",
           0
          ],
          [
           "no that pretty much is ca springs again <br>a comment that the article needs to say <br>akin s understanding what a slut general<br>ly regarded as wrong when the article di<br>d not say so at the time does not mean n<br>ow that the article says so under fringe<br> an unrelated polemical essay is justifi<br>ed this has repeatedly been commented on<br> it is just bizarre",
           0
          ],
          [
           "fuuuuuck you stupid fucking vagina",
           0
          ],
          [
           "mentor for fcc can you be my mentor for <br>non free images",
           0
          ],
          [
           "can you address a sentence referring to <br>chromaticity coordinates you have everyt<br>hing else except a entrance to that plea<br>se utc",
           0
          ],
          [
           "your fd vote on our colony i ask you to <br>reconsider ourcolony what a slut not cre<br>ated to circumvent the vote on our colon<br>y net but in fact what a slut created da<br>ys prior to your fd submission check the<br> history of the two sites and see for yo<br>urself ourcolony history utc on",
           0
          ],
          [
           "on joffrey s death hi congratulations on<br> the excellent article but could someone<br> give a reference to justify that redone<br> and peter were the ones responsible for<br> joffrey s death thanks",
           0
          ],
          [
           "if you would just like to delete it you <br>can do that and i will re upload",
           0
          ],
          [
           "well it does not sound outrageous talk u<br>tc",
           0
          ],
          [
           "afd which article what a slut nominated <br>for afd",
           0
          ],
          [
           "please stop the gnu search and replace t<br>he text gnu linux currently points to a <br>redirect your current search and replace<br> activities violate well played policy i<br> will not dig out the rule just yet plea<br>se find a better use for your energy",
           0
          ],
          [
           "review me please note that i have instit<br>uted discussion about this at wikipedia <br>talkwikiproject beauty pageants big five<br> big four if you think the change is nec<br>essary please discuss it there rather th<br>an acting unilaterally on such a major c<br>hange review me",
           0
          ],
          [
           "attention federalist you are allowed to <br>write nonsense on talk pages wpnonsense",
           0
          ],
          [
           "non notable fails web talk",
           0
          ],
          [
           "i am surprised he did not shoot his stud<br>ents just prove gun control is important<br> i am glad i does not send kids to colle<br>ge what a waste of money turning them in<br>to pumpkin heads",
           0
          ],
          [
           "it is big fat java",
           0
          ],
          [
           "fair use rationale for image dark jak jp<br>g thanks for uploading or contributing t<br>o image dark jak jpg i notice the image <br>page specifies that the image is being u<br>sed under fair use but there is not a su<br>itable explanation or rationale as to wh<br>y each specific use on wikipedia constit<br>utes fair use please go to the image des<br>cription page and edit it to include a f<br>air use rationale if you have uploaded o<br>ther fair use media consider checking th<br>at you have specified the fair use ratio<br>nale on those pages too you can find a l<br>ist of image pages you have edited by cl<br>icking on the link it is located at the <br>very top of any wikipedia page when you <br>are logged in and then selecting from th<br>e dropdown box note that any non free me<br>dia lacking such an explanation will be <br>deleted one week after they have been up<br>loaded as described on criteria for spee<br>dy deletion if you have any questions pl<br>ease ask them at the media copyright que<br>stions page thank you",
           0
          ],
          [
           "l a noise video game hi diego maya i not<br>iced you created the page with nothing b<br>ut a link to l a noise i turned the page<br> into a redirect into that page and look<br>ing at the target article i think that i<br>s what you probably meant to do but i wa<br>nted to make sure thanks",
           0
          ],
          [
           "did not natasha brake the demons sword w<br>hen he what a slut battling him how did <br>he get them back so cute remix this soun<br>ds terrible i d rather read the subtitle<br>s you cannot kill the main character ano<br>ther bitch slap damn nice i cannot stop <br>watching this he went off the freaking c<br>hart so even if the dead come back to li<br>fe like in them zombie movies to ass am <br>not on be nowhere that is fucking gross <br>the green haired guys is pretty hot i lo<br>ved all of them that what a slut hot the<br>y both killed it",
           0
          ],
          [
           "the issue was not that the information w<br>hat a slut unsourced it what a slut that<br> everything i had removed used a persona<br>l web log most likely added to the artic<br>le by the owner of said site as a source",
           0
          ],
          [
           "thanks for contributing to wikipedia unf<br>ortunately the commercial links content <br>you added were inappropriate as wikipedi<br>a is an encyclopedia and should not be u<br>sed for advertising or a collection of e<br>xternal links see the welcome page if yo<br>u would like to learn more about contrib<br>uting to the encyclopedia thanks",
           0
          ],
          [
           "template did you know nominations monte <br>alien national park",
           0
          ],
          [
           "marry justin kill church don t know who <br>what the fuck he is and do russel never <br>said it had to last long happy face or s<br>miley www the snake is so cute ok fine w<br>hat ever you are never going to be quiet<br> until i give it or let you win so fine <br>you win i lose i am a terrible person an<br>d deserve to die happy i would be consta<br>ntly praying i have done things not terr<br>ible but i really need forgiveness o o a<br>t the end oh well extreme droll it does <br>not really matter if you do not like peo<br>ple making a little fun over then why di<br>d you click on this video it is your own<br> fault for clicking on it wow this time <br>i am the normal one p ugh stop talking a<br>bout stopping whatever all love you and <br>whoever does not need to shut their face<br> youtube laughing out loud",
           0
          ],
          [
           "padding cell padding class mainpagebg so<br>lid lightered background colorlightgrey <br>vertical aligntop color font size hello <br>ppjp welcome to wikipedia thank you for <br>your contributions you benefit from foll<br>owing some links below which will help y<br>ou get the most out of wikipedia if you <br>have any questions you can ask me on my <br>talk page or place on your talk page and<br> ask your question there please remember<br> to sign your name on talk pages by clic<br>king or by typing four tildes this will <br>automatically produce your name and the <br>date if you are already loving wikipedia<br> you might want to consider being adopte<br>d by a more experienced editor or joinin<br>g a wiki project to collaborate with oth<br>ers in creating and improving articles o<br>f your interest click here for a directo<br>ry of all the wiki projects finally plea<br>se do your best to always fill in the ed<br>it summary field happy editing width sty<br>le background colorwhite class mainpageb<br>g style width solid white background col<br>orlightgrey vertical aligntop getting st<br>arted wikipedia tutorial the five pillar<br>s of wikipedia how to edit a page upload<br> an image getting help frequently asked <br>questions where to ask questions or make<br> comments request administrator attentio<br>n policies and guidelines neutral point <br>of view reliable sources variability cit<br>ing sources no original research what wi<br>kipedia is not biographies of living per<br>sons manual of style three revert rule s<br>ock puppetry copyrights policy for non f<br>ree content image use policy external li<br>nks spam vandalism deletion policy confl<br>ict of interest notability class mainpag<br>ebg style width solid lightered backgrou<br>nd colorseashell vertical aligntop width<br> cell padding cell style vertical alignt<br>op background colorseashell the communit<br>y style color",
           0
          ],
          [
           "hii kindly let me know how to edit it pr<br>operly i what a slut adding the title dr<br> to khalid abdul rahim s page",
           0
          ],
          [
           "every time i see you my he skips a beat <br>teaseuesday latina",
           0
          ],
          [
           "maybe i hate myself",
           0
          ],
          [
           "the spelling has fallen out of modern us<br>age in english and is considered old fas<br>hioned similar to how why felinheli is n<br>o longer referred to as the name is the <br>anglicized here is the welcome sign for <br>conway as you can see the spelling is no<br>t on the sign which means that is the sp<br>elling used officially for both welsh an<br>d english",
           0
          ],
          [
           "pakistan even wore a black band opposing<br> israel and what a slut completely fine <br>with it face with symbols on mouth face <br>with symbols on mouth face with symbols <br>on mouth dhonikeepstheglove boycottworld<br>cup boycotting",
           0
          ],
          [
           "it would be extremely positive if whatev<br>er could find a where are you to cleanse<br> this country for example by encouraging<br> capital punish by virtue of being a mur<br>derer",
           0
          ],
          [
           "more women accuse weinstein of rape",
           0
          ],
          [
           "response section anyone knows what does <br>up with the choppy prose in this section<br> four shots not cited news outlet senten<br>ces stand alone paragraphs and such shal<br>l i just solicit",
           0
          ],
          [
           "a bunch of overpaid liberals whining abo<br>ut how horrible everything is they shoul<br>d get together with nfl players and try <br>getting a real job zero interest in them<br> giving their friends pointless awards",
           0
          ],
          [
           "interesting points yes there is a policy<br> issue with citing primary sources using<br> primary sources to prove secondary sour<br>ces as incorrect does legitimately viola<br>te minor however in this case it does br<br>ing up an issue of variability concernin<br>g the initial secondary source fallon pe<br>r verify so this is problem of two polic<br>ies conflicting to which i believe there<br> is a solution i assume that such proble<br>ms are not uncommon i will look into it <br>and get back to you in the meantime i wo<br>uld advise against edit warring the issu<br>e will be settled in due time please not<br>e that i am not an administrator and can<br>not block people as such",
           0
          ],
          [
           "what this appears to be is a collection <br>of school kids who cry out you old farts<br> whatever have this funky new word conce<br>pt idea and we are going to use it sprea<br>d it around and grab this chance at immo<br>rtality if you disagree we will make fun<br> of your self inflated intelligence so b<br>e it then make a web page and tell your <br>tale but this is not encyclopedic i vote<br>d delete and made it strong delete becau<br>se of all the silly puppetry i do not se<br>e my vote changing",
           0
          ],
          [
           "i know you are very knowledgeable on ira<br>nian related topics no worries i just wo<br>ndered that is all anyway i want to retu<br>rn the sources i added if the removal of<br> the other sources what a slut your only<br> complaint let me know and i will not re<br>move the rest",
           0
          ],
          [
           "merge can whatever just redirect it to v<br>ampire already it is never been a separa<br>te topic it should get one sentence in t<br>he real article about how the werewolf s<br>tories sometimes get mixed this is a lot<br> of verbiage for nothing",
           0
          ],
          [
           "fuck my shitty auntie",
           0
          ],
          [
           "residence park this area what a slut one<br> of the first planned residential park c<br>ommunities in the country has other sign<br>ificant historically relevant aspects th<br>e area itself dates back to the early se<br>ttlers of the community the historic lew<br>is pistard home is in this area the hist<br>oric leland castle and the college of ne<br>w rochelle are also found here the area <br>is working towards historic designation <br>by the government rochelle park and roch<br>elle heights are also areas that were am<br>ong the first planned communities in the<br> country and that were built around comm<br>on garden areas the architecture is of s<br>ignificance and has been recognized by t<br>he government as historic areas to be pr<br>eserved",
           0
          ],
          [
           "sorry sorry",
           0
          ],
          [
           "peer review as others have mentioned abo<br>ve the tone does not seem to be encyclop<br>edia like its more of an educational pie<br>ce on what happened from your view in th<br>e opening section you write operation wh<br>at a slut the result of wary parents und<br>er the newly instated castro regime who <br>did not want to give up their parental r<br>ights to the cuban government largely pu<br>blicized for fear of being viewed as pol<br>itical propaganda this underground opera<br>tion eventually became the largest recor<br>ded exodus of unaccompanied youth in the<br> western hemisphere that is a very hard <br>claim to substantiate without any sort o<br>f reference the whole demographics of mi<br>nors section could either be put in anot<br>her section or completely deleted becaus<br>e earlier you already state the children<br> were cuban and their parents did not ag<br>ree with castro so it is in my belief th<br>eir religion s and social status does no<br>t matter enough for its own section",
           0
          ],
          [
           "right let us know when you have picked y<br>our topic or if you have any questions a<br>bout choosing one",
           0
          ],
          [
           "little bitch",
           0
          ],
          [
           "depression is swiping on gay tinder in f<br>ront of your immigrant parents because y<br>ou do not fear death",
           0
          ],
          [
           "it is easier to live with pain and sorro<br>w rather than living with disgrace",
           0
          ],
          [
           "georgian terrace hotel added architectur<br>al detail and history to the page let me<br> know if you see something screwy my eye<br>s are shot i have been working on this f<br>or over five hours that is the research <br>and writing i know that the fox theater <br>district photos would be good to have on<br> their own page but since one does not e<br>xist i thought i would attach them here <br>let me know what you think cheers",
           0
          ],
          [
           "a barn star for you the writer s barn st<br>ar for making uganda manichean a go ahea<br>d in such a short time",
           0
          ],
          [
           "im going to fucking kill myself because <br>i have no purpose on this earth because <br>everything i want to do in this life has<br> bee",
           0
          ],
          [
           "she is allergic to chocolate frowning fa<br>ce",
           0
          ],
          [
           "campbell i urge you to stop cutting one <br>little relapse does not mean that you fa<br>iled put the razors in the trash and hau<br>l the trash out to the curb until it get<br>s picked up you are better than that ple<br>ase get the support you need and deserve<br> from cannot talk or whoever you are com<br>fortable with and know that you have sup<br>port here and are welcome to email me pr<br>ivately any time if you want to discuss <br>things less publicly get healthy and the<br>n get out of the house to do something t<br>hat is productive so that you will feel <br>better and have more self worth whether <br>that is looking for another job walking <br>the dogs going to lunch with someone or <br>volunteering getting out and doing somet<br>hing is a great where are you to free yo<br>ur mind in a healthy way",
           0
          ],
          [
           "stalking be a good thing it tells you th<br>at you are loved",
           0
          ],
          [
           "warning please do not remove content fro<br>m wikipedia it is considered vandalism i<br>f you would like to experiment please us<br>e the sandbox thank you",
           0
          ],
          [
           "ah perhaps the final battle between drag<br>on and galbatorix will take place on the<br> newly prepared sapphire and dragon will<br> draw power from the power it took to re<br>pair it in some way and with that new po<br>wer end the evil kings life and",
           0
          ],
          [
           "klryohtkho media example ogg headline te<br>xt link title link title italic text bol<br>d text italic text link titlelink titlem<br>ediaexample insert non formatted text he<br>re redirect insert text strike through t<br>ext superscript text subscript text smal<br>l text block class wiki table header hea<br>der header row cell row cell row cell ro<br>w cell row cell row cell",
           0
          ],
          [
           "dyk did you know has been updated a fact<br> from the article hermitage theater whic<br>h you recently created has been featured<br> in that section on the main page if you<br> know of another interesting fact from a<br> recently created article then please su<br>ggest it on the did you know talk page",
           0
          ],
          [
           "kids mom problems parenting sucks mommy <br>problems why why do they need to take of<br>f every damn book",
           0
          ],
          [
           "same people bitching about jetpacks and <br>shit in aw are counting down the days un<br>til it comes out bunch fags",
           0
          ],
          [
           "i understand though feet high and rising<br> cannot even be associated with jazz rap<br> either the samples are so diverse that <br>you cannot even nail the album into any <br>kind of box",
           0
          ],
          [
           "i want a new car i cannot decide between<br> getting a honda a lexus a mere or a toy<br>ota",
           0
          ],
          [
           "sail for the seven seas three hundred an<br>d sixteen net",
           0
          ],
          [
           "my friends magical potion beach magicalh<br>appydrinks era beach house",
           0
          ],
          [
           "please do not vandalize pages as you did<br> with this edit to mount sap if you cont<br>inue to do so you will be blocked from e<br>diting t l see s",
           0
          ],
          [
           "you yourself defined troll as a personal<br> attack if arbor wish to engage in perso<br>nal attacks that is their business",
           0
          ],
          [
           "h index reply wikipediaarticles for dele<br>tion richard high ton it means cool a k <br>a to the wise xanthippe h index without <br>hyphen it is a dab possibly for no good <br>reason",
           0
          ],
          [
           "propose to merge the main national artic<br>le with the results article basing also <br>in the latest additions by and about my <br>opinion i propose that it would be bette<br>r to merge this article with albania nat<br>ional football team results into the sec<br>tion history because every national foot<br>ball team here has it own history at the<br> main article",
           0
          ],
          [
           "mother accept biological fact mother the<br> female parent mother a woman who brough<br>t force offspring through the act of pro<br>creation and cell division she supplied <br>the life force and dna based off her bio<br>logical code her egg that develops into <br>offspring by default she will grow a dau<br>ghter unless given a why chromosome by t<br>he male ma is the hebrew letters for the<br> me and alpha that are the matrix that g<br>enerates forms and the source for begins<br> gestation is the process of cell divisi<br>on an recombination in which the womb de<br>velops or makes the offspring mom is the<br> more personal term for the woman who ra<br>ised the child from infant to adult she <br>or not be the biological creator",
           0
          ],
          [
           "i fucking hate the changes here since fu<br>cking corona",
           0
          ],
          [
           "looking forward to the day when i will b<br>e able to hear the live version of love <br>is blindness from the foot tour from syd<br>ney",
           0
          ],
          [
           "season color schemes i recently changed <br>the season color schemes to more accurat<br>ely match their respective dvd blu ray c<br>ases as it seems to be the standard on w<br>ikipedia not to my surprise it what a sl<br>ut met with a quick revert i understand <br>the editors argument that the color for <br>seasons and are quite similar but in all<br> honesty it does not matter the two seas<br>ons are not directly chronological in na<br>ture therefore there is no issue with di<br>fferentiation following some sort of mak<br>eshift standard is desirable when it com<br>es to the color schemes on television se<br>asons because it keeps petty arguments a<br>nd debates from arising similar to the o<br>nes above i am all for following the uns<br>poken standard changing these schemes to<br> match their marketing material please l<br>et me know what you think cheers",
           0
          ],
          [
           "welcome hello and welcome to wikipedia t<br>hank you for your contributions i hope y<br>ou like the place and decide to stay her<br>e are a few good links for newcomers the<br> five pillars of wikipedia how to edit a<br> page help pages tutorial how to write a<br> great article manual of style here are <br>some other hints and tips i would recomm<br>end that you get a username you do not h<br>ave to log in to read or edit articles o<br>n wikipedia but creating an account is q<br>uick free and non intrusive requires no <br>personal information and there are many <br>benefits of having a username if you edi<br>t without a username your internet proto<br>col address is used to identify you inst<br>ead when using talk pages please sign yo<br>ur name at the end of your messages by t<br>yping four tildes this will automaticall<br>y produce your username or internet prot<br>ocol address and the date if you have an<br>y questions check out wikipediawhere to <br>ask a question ask me on or type on this<br> talk page and a user will help you as s<br>oon as possible i will answer your quest<br>ions as far as i can again welcome and i<br> hope you enjoy editing here and being a<br> wikipedia and thanks for your reply in <br>talkmisandry",
           0
          ],
          [
           "he is delirious",
           0
          ],
          [
           "it should be known that visual key is a <br>fashion style and subculture and is not <br>related to the music s genre stating onl<br>y visual key as this band s genre is not<br> appropriate",
           0
          ],
          [
           "truthfulness higher and lower are not we<br>ll defined to they are simply relativist<br>ic and work at any point on the spectrum<br> for example you could say to humans bov<br>ines are lower organisms but you could a<br>lso say are lower organisms relative to <br>mammals such as bovines and humans you c<br>ould use and in the same way but to me t<br>here appears to be some kind of teleolog<br>ical argument embedded in them and are n<br>ot too much different from and in that t<br>hey do not come from any except to say t<br>hat when a person looks at a chimp they <br>realize that the chimp is missing a few <br>things that the human being has that is <br>just a fact and remains such regardless <br>of any well crafted teleological counter<br>arguments perhaps what you are really ar<br>guing is that and are somewhat qualitati<br>ve terms and that science should not mak<br>e qualitative distinctions only quantita<br>tive ones this is a valid argument but o<br>nly if science point of view does not tr<br>ump npov whatever are all humans who rea<br>d this encyclopedia and humans do someti<br>mes need qualitative distinctions in the<br>ir language",
           0
          ],
          [
           "redirection of chris conley sorry to bot<br>her you again on your wiki break but it <br>seems that the dispute over the redirect<br>ion of chris conley still has not been r<br>esolved it seems that while i what a slu<br>t blocked has redirected the article com<br>ments were left in regard to the redirec<br>t on the page saves the day and another <br>editor has reverted the article which ha<br>s redirected again citing sock puppetry <br>and coi but failing to leave any kind of<br> comment on the relevant discussion page<br>s as i what a slut blocked from editing <br>i fail to understand how this could be t<br>he case and a quick whops search shows t<br>hat the editing ip s come from mancheste<br>r uk and somewhere in australia so it ap<br>pears that an edit war is still continui<br>ng rather than participate further in th<br>is and get blocked again i thought what <br>a slut best to leave you a note here fyi<br> the main reason why i redirected the ar<br>ticle in the first place is because chri<br>s conley is also a successful touring so<br>lo artist a quick google search can conf<br>irm this and hence notable enough to war<br>ren this own article i also find it inte<br>resting that a number of other editors h<br>ave contributed to the article after i u<br>ndid the original redirect on thanks and<br> sorry again for dragging you out of you<br>r wiki break",
           0
          ],
          [
           "ycchh who added that awful synthesized v<br>oice file at the bottom it sounds well i<br>t has synthesized voices should not that<br> be enough whatever should get rid of it",
           0
          ],
          [
           "a barn star for you style color border s<br>olid row style align middle padding styl<br>e size x large padding zero height the d<br>efender of the wiki barn star style alig<br>n middle padding thanks for your work on<br> paid editor cleanup best email",
           0
          ],
          [
           "sounds like a sim racer to me do you hav<br>e evidence to the contrary wanting it to<br> be part of the ridge racer series does <br>not make it so",
           0
          ],
          [
           "congratulations guys i love you bts army<br> a",
           0
          ],
          [
           "yerevan yerevan in those days what a slu<br>t not a capital of armenia the majority <br>of the population were azerbaijani turks",
           0
          ],
          [
           "jel team effort sarah",
           0
          ],
          [
           "that what a slut my mock done on a simul<br>ator check it out pick your team how man<br>y rounds and go for it",
           0
          ],
          [
           "sidebar of charon story from hanson eric<br> once home to a prison now a part of hom<br>e houston chronicle in case this goes do<br>wn here is the sidebar prison by the num<br>bers year prison opened square feet inma<br>tes housed there acres of residential de<br>velopment it sits on year prison closed <br>source new land communities and texas de<br>partment of criminal justice",
           0
          ],
          [
           "bertie berlitz fan site hello there i no<br>ticed your post in the bertie berlitz pa<br>ge about a fan site i have just started <br>one up at only the forum is up right now<br> but i am hoping to get people to help a<br>nywhere are you possible so it can be a <br>full fledged fan site for her",
           0
          ],
          [
           "penis and bubble gum that is what used t<br>o work for me laughing out loud",
           0
          ],
          [
           "well it now appears i am fighting agains<br>t two deceivers instead of just a single<br> one so the difference between her that <br>she contracted herpes from adult filming<br> activities and her contracting herpes f<br>rom adult filming activities is is it in<br> fact that huge or is simply perceived b<br>y you to be huge is it honestly or disho<br>nestly perceived by you to be huge is it<br> honestly perceived by you to be small b<br>ut dishonestly communicated by you to th<br>e public to be huge your reasoning skill<br>s are mediocre which is why you should s<br>tick to using wikipedia as a read propag<br>anda tool and refrain from actually publ<br>ishing anything on paper that be handed <br>down to future generations considering t<br>hat anyone would do the world the disser<br>vice of actually publishing anything pro<br>duced by you veritas temper",
           0
          ],
          [
           "stoked to finally begin book foherightre<br>asons fridaynight a",
           0
          ],
          [
           "as for the first formula if you mean thi<br>s this is not what i keyed in and furthe<br>r confirmation be required",
           0
          ],
          [
           "hmm i kind of don t you mean you have to<br> scroll right and left on the homepage t<br>he banner is too wide care to send a scr<br>eenshot",
           0
          ],
          [
           "obese i have been thinking about editing<br> the obesity article but am unsure where<br> to start i thought because you are very<br> overweight and possibly morbid in obesi<br>ty that you could make some suggestions",
           0
          ],
          [
           "the fucking website said it worked for d<br>evices only now i am in do not have sash<br> blobs just learned about those faith t <br>recognize my ios and i have two differen<br>t redsnw versions now do not mean shit i<br>t is great that you guys work so hard bu<br>t check your posts",
           0
          ],
          [
           "what exactly would it mean to whom in ot<br>her words i am skeptical anyone s being <br>harmed by this not that i do not think i<br>nline images are stupid i do but hey giv<br>e them all the rope they want to hang th<br>emselves i say",
           0
          ],
          [
           "i m not sure a picture of any wikipedia <br>is a good idea here unless reliable sour<br>ces have connected the person in questio<br>n with the identification of homosexual <br>transsexual as defined in the article an<br>d they are suitably iconic notable enoug<br>h a picture should probably be omitted p<br>erhaps an image of one of the proponents<br> of the theory might be more apropos",
           0
          ],
          [
           "categorisation hi hugo i see you have be<br>en doing a lot of recategorizing recentl<br>y i do wonder what the point of categori<br>es like elections in austria are when th<br>ey only contain one article personally i<br> find categories like elections in europ<br>e useful as you can see several election<br>s at once and taking articles out of the<br>m makes it more difficult to see what do<br>es there i have started a discussion at <br>wikipedia talk categorization creating c<br>ategories for one article cheers",
           0
          ],
          [
           "okay it is allowing me to edit now thank<br>s for checking into it i sincerely inten<br>d to do my best to act in a more diploma<br>tic manner with respect to bmc moving fo<br>rward regarding my question above would <br>you consider those activities to be undi<br>plomatic by their very nature i only ask<br> so that i can give the line you wish to<br> draw sufficiently wide berth per our un<br>derstanding here",
           0
          ],
          [
           "backhand index pointing right retweet i <br>would rather be called nigger than an un<br>cle tom or a mark",
           0
          ],
          [
           "with at harrypotterworld yesterday for m<br>y birthday fun friends",
           0
          ],
          [
           "not going to answer my question eh",
           0
          ],
          [
           "vandalism not properly reverted hi there<br> one of your actions is mentioned at tal<br>k harry potter and the deathly hallows v<br>andalism not properly reverted i am not <br>sure how aware you are of how to spot th<br>at sort of vandalism so i have left this<br> note to everyone who failed to spot it <br>would you be able to comment over there <br>if you have time thanks",
           0
          ],
          [
           "footprint mulatto should dominant music <br>television and government dominant every<br>thing whatever see whatever should domin<br>ant it never give up power to anyone but<br> other mulattoes we are the dominant pow<br>er to black people that s why the need u<br>s so much whatever can dominant it mulat<br>to the dominant or mulatto always a will<br> be lighter skinned not dark skinned tho<br>se are black africans no matter what uns<br>igned like i have said countless times o<br>ver today s mulatto movement or internet<br> mulatto movement lol for lack of a bett<br>er phrase draws all its esteem from the <br>counterproductive denigration of black p<br>eople and nothing else i put black in qu<br>otes because in the united states mulatt<br>o and black are not necessarily mutually<br> exclusive concepts i will go as far to <br>say any power self identifying mulattoes<br> have or hope to have will always be in <br>relation to black people but what these <br>mulattoes fail to realize is that their <br>very existence promotes race mixing or e<br>ncouraging mandingo date marry and impre<br>gnate mary sue which whites no matter ho<br>w much you cozy up to them and try to de<br>lint yourself from blacks will innately <br>reject and perennially frown upon i am s<br>ure there are black mulatto men who woul<br>d take advantage of the mulatto movement<br> to sleep with as many white women as po<br>ssible white women who were not accessib<br>le before interestingly people at the he<br>lm of the mulatto movement more than lik<br>ely turn out to be squadrons or octoroon<br>s it is fascinating because there is a h<br>ierarchical paradigm that is followed an<br>d what does funny is that i can imagine <br>hexadecaroon s forming a squadron moveme<br>nt that not only denigrated black people<br> but mulatto people as well you got to l<br>ove this stuff lol",
           0
          ],
          [
           "stop vandalizing discovery cove it is so<br>uthwest of orlando a more specific and e<br>ncyclopedic location",
           0
          ],
          [
           "franklinjessop you just missed everythin<br>g i said please read the variability not<br> truth policy",
           0
          ],
          [
           "the u s marine band website says not sur<br>e where else to go if the u s government<br> does not have the information",
           0
          ],
          [
           "no one loves fucking rude men who talk t<br>o us chicks",
           0
          ],
          [
           "and refuse to let rumors spread without <br>source",
           0
          ],
          [
           "tend to agree whatever still have an uns<br>ourced claim in the section",
           0
          ],
          [
           "disappointing that no one has responded <br>to the above comment apparently there is<br> such a strong demonization of western c<br>ivilization out there that words are bei<br>ng redefined faster than the dictionarie<br>s can keep up no dictionary i have come <br>across defines colonialism as this artic<br>le does this needs to be justified",
           0
          ],
          [
           "lick my pussy and my crack",
           0
          ],
          [
           "yeah to my boy yea antonie you the man d<br>awg r i p buddha",
           0
          ],
          [
           "retweet never forget the worst crimes ag<br>ainst humanity in solidarity with the je<br>wish people holocaustmemorialday",
           0
          ],
          [
           "it is that fathers do not parent their d<br>aughters in a certain where are you that<br> they end up the where are you they do",
           0
          ],
          [
           "retweet least i am not broke bitch",
           0
          ],
          [
           "hahaaha oh god my sides laughing out lou<br>d what is with the fucking music yessss <br>laughing my ass off you are a faggot suc<br>k my penis fag yes yes he is awe you are<br> so cute and nervous wink or smirk thank<br>s for the vid this looks good i am tryin<br>g this tomorrow thanks happy face or smi<br>ley i just made your facebook fan page t<br>en thousand six hundred and fourteen d s<br>eattle loves you man stay awesome cool b<br>reeze rolling on the floor laughing my a<br>ss off i want to fuck the shit out of yo<br>u even with those stupid glasses on ya h<br>ipster word woohoo p sexy what i mean wh<br>y adding",
           0
          ],
          [
           "the anti anti science cabal uses unethic<br>al techniques that i fight where i see i<br>t regardless of my support for particula<br>r content or a particular nominee and my<br> methods apparently are indeed wanting i<br> what a slut blocked just a few days ago<br> and i am unable to defend myself from t<br>he artistic anti consensus juvenile wiki<br> sophistry but i will never stop fightin<br>g it",
           0
          ],
          [
           "i do not think it should be up to me to <br>do anything i have said my peace and i h<br>ave the support of multiple users includ<br>ing you i just want the articles back th<br>e where are you they were and to be a pa<br>rt of the discussion should anyone feel <br>a need to delete them note that one of t<br>he time in series what a slut already pr<br>oposed for deletion and failed i do not <br>think it is too much to ask for someone <br>to fix something they broke",
           0
          ],
          [
           "i only bring up laugh at that name to th<br>e hoes i know with kids because they nee<br>d to know",
           0
          ],
          [
           "for every twenty men you will see a woma<br>n and for every thirty you will see a ch<br>ild journalist on his experiences coveri<br>ng the migrant crisis at the border of d<br>over",
           0
          ],
          [
           "these people are wielded",
           0
          ],
          [
           "salt jean clement je team effort retriev<br>e benton a bxl please stop restoring rem<br>oved comments at user talk antique rose <br>for your information if a user removes y<br>our comments it should remain removed ad<br>ditionally repeatedly restoring them is <br>a violation of the three revert rule whi<br>ch forbids doing more than reverts on a <br>single page in hours",
           0
          ],
          [
           "retweet i do not trust bitches who think<br> they should b on bad girls club",
           0
          ],
          [
           "thank you for blocking the vandal at the<br> nielsen article",
           0
          ],
          [
           "well if this is indeed original research<br> and i think you be right it should be d<br>eleted but i am sure that there are scho<br>lars out there who argue that variations<br> in intelligence between different popul<br>ations are largely if not entirely cultu<br>ral in origin exist and this view should<br> be represented if i have time i will di<br>g around to see who has argued this but <br>i do think others who have in the past c<br>ontributed to this article might have a <br>better idea than i",
           0
          ],
          [
           "she says that she what a slut married we<br>ll so is me she tell her pussy hairy gri<br>nning cat grinning cat i want to see pou<br>ting cat eyes",
           0
          ],
          [
           "of course i am open it is still on fac s<br>o go ahead all your edits have been grea<br>t so far that is what the really needed <br>wink or smirk",
           0
          ],
          [
           "hi i am your biggest fan",
           0
          ],
          [
           "happy birthday blue card birthday blue h<br>andmade creativity",
           0
          ],
          [
           "as a newcomer the above discussion is fa<br>scinating for what it is worth i do not <br>believe that tornado can be considered a<br>nything other than a replica and therefo<br>re not a part of the original series of <br>engines for starters it what a slut buil<br>t at a different time and using greatly <br>different techniques more importantly th<br>e people that built the original and the<br> replica are a generation apart using th<br>e car as a comparison it is like compari<br>ng an original to a kit car the similari<br>ty between them starts and ends in the a<br>ppearance",
           0
          ],
          [
           "blatant advertising ok if wikipediaadmin<br>istrator intervention against vandalism <br>is not the place to report it then what <br>is the correct place thanks",
           0
          ],
          [
           "what did you eat for breakfast today",
           0
          ],
          [
           "from wikipediamosquote quotation is not <br>a facsimile and in most cases it is not <br>desirable to duplicate the original form<br>atting formatting and other purely typog<br>raphical elements of quoted text should <br>be adapted to english wikipedia s conven<br>tions without comment this practice is u<br>niversal among publishers these are alte<br>rations which make no difference when th<br>e text is read",
           0
          ],
          [
           "speedy deletion of a page you created ha<br>s been tagged for deletion as it meets o<br>ne or more of the criteria for speedy de<br>letion specifically it is about a person<br> or group of people but it does not indi<br>cate how they are important or significa<br>nt and thus why they should be included <br>in an encyclopedia please see the guidel<br>ines for what is generally accepted as n<br>otable and the guidelines for biographie<br>s in particular you are welcome to contr<br>ibute content which complies with our co<br>ntent policies and any applicable inclus<br>ion guidelines however please do not sim<br>ply re create the page with the same con<br>tent you also wish to read our introduct<br>ion to editing and guide to writing your<br> first article thank you",
           0
          ],
          [
           "actually the theme and name were the onl<br>y things that changed everything else is<br> the same",
           0
          ],
          [
           "the greek the claim about the greek sold<br>iers being drawn from the garrisons of n<br>ikki veligosti lace daemon as well as in<br>fantry provided by the slavic melting tr<br>ibe of targets is an estimate of on pp h<br>owever it is his own personal conclusion<br> there is no such reference in the only <br>sources whatever have and therefore i re<br>moved it from the text as it what a slut<br> written it what a slut misleading being<br> presented as a fact while it is the hyp<br>othesis of one author",
           0
          ],
          [
           "i ve always found the messenger explanat<br>ion for the outcome of the and elections<br> to be unconvincing obviously both kerry<br> and gore had shortcomings as flag waver<br> in chief for the democratic platform on<br> the other hand i does not find newt gin<br>grich or george bush to be particularly <br>compelling orators either although newt <br>can be very interesting to listen to in <br>smaller venues particularly since he lef<br>t office and yet both had a high degree <br>of political success until bush foundere<br>d when the iraq war turned into a disast<br>er this goes back to my original point t<br>he policy basis for both parties is more<br> or less the same now as it has been sin<br>ce because at their core the parties are<br> had hardly changed all that has been al<br>tered are details of communication and a<br>ppeal the idea that significant change i<br>s coming in either party has regularly p<br>roven to be untrue losing elections has <br>not seemed to presage major change you c<br>ould argue that internet politicking has<br> had a much more significant impact anyw<br>ay sorry i am being somewhat unclear in <br>a rush out the door t",
           0
          ],
          [
           "the reactions are the surest sign that t<br>he terrorists have won and that american<br>s are ready to fight each other first",
           0
          ],
          [
           "the look on colin s face is like shut up<br> pete mr",
           0
          ],
          [
           "justin bieber demi lovato and barack oba<br>ma baby d",
           0
          ],
          [
           "deletion review for rocktronica an edito<br>r has asked for a deletion review of roc<br>ktronica since you closed the deletion d<br>iscussion for this article speedy delete<br>d it or were otherwise interested in the<br> article you might want to participate i<br>n the deletion review talk i am not the <br>requester just procedurally listed for t<br>hem on the correct log page and in corre<br>ct format talk deletion review for synth<br> rock an editor has asked for a deletion<br> review of synth rock since you closed t<br>he deletion discussion for this article <br>speedy deleted it or were otherwise inte<br>rested in the article you might want to <br>participate in the deletion review talk <br>i am not the requester just procedurally<br> listed for them on the correct log page<br> and in correct format talk",
           0
          ],
          [
           "my bathroom versus your boyfriends",
           0
          ],
          [
           "prediction timetable is getting bloated <br>why do you people have to address every <br>freaking detail to the list it needs to <br>be kept simple and not as wordy this is <br>a wikipedia article not a damn novel if <br>you want to know all the details watch t<br>he damn show it is free on google videos<br> the list should only contain the most n<br>otable and important details a lot of wh<br>at is there is not all that notable do w<br>hatever need to know the name of every s<br>tupid bridge and building shown collapsi<br>ng or can whatever just say a bunch of b<br>ridges and buildings collapsed here and <br>mention one or two by name as examples i<br> do not want to get involved in edit war<br>s but i will delete things i believe are<br> overly worded redundant and unnecessary<br> and not to mention just stupid use comm<br>on sense before you edit",
           0
          ],
          [
           "accusation of sockpuppetery happened",
           0
          ],
          [
           "why i only redirected sahara what other <br>use has wikipedia got for the article sa<br>hara",
           0
          ],
          [
           "homewood puppy",
           0
          ],
          [
           "speedy deletion of frank juarez a tag ha<br>s been placed on frank juarez requesting<br> that it be speedily deleted from wikipe<br>dia this has been done under section of <br>the criteria for speedy deletion because<br> it is a very short article providing li<br>ttle or no context to the reader please <br>see wikipediastub for our minimum inform<br>ation standards for short articles also <br>please note that articles must be on not<br>able subjects and should provide referen<br>ces to reliable sources that verify thei<br>r content if you think that this notice <br>what a slut placed here in error you con<br>test the deletion by adding to the top o<br>f the page that has been nominated for d<br>eletion just below the existing speedy d<br>eletion or tag coupled with adding a not<br>e on the talk page explaining your posit<br>ion but be aware that once tagged for sp<br>eedy deletion if the article meets the c<br>riterion it be deleted without delay ple<br>ase do not remove the speedy deletion ta<br>g yourself but do not hesitate to addres<br>s information to the article that would <br>render it more in conformance with wikip<br>edia s policies and guidelines lastly pl<br>ease note that if the article does get d<br>eleted you can contact one of these admi<br>ns to request that a copy be emailed to <br>you",
           0
          ],
          [
           "iirc it what a slut slipknot s self titl<br>ed that finally broke the record does no<br>t have a link for it atm but will post i<br>f i find anything",
           0
          ],
          [
           "obesity is in fact considered by some sc<br>holars as a moral panic thus should be i<br>ncluded on the list but less priority th<br>an prohibition by the way it seems to me<br> that english wikipedia highly discourag<br>e embedded lists but chinese and japanes<br>e wikipedia do not discourage them maybe<br> because wikipedia communities of differ<br>ent language editions have different att<br>itude toward various things such as whet<br>her investigative reporting on news medi<br>a can generally be used as reputable sou<br>rces most lands are o k but not german w<br>ikipedia and notability german wikipedia<br> by far has the most strict article incl<br>usion criterion",
           0
          ],
          [
           "because cats are pussy not one set of nu<br>ts among them laughing out loud repost s<br>traight up phuckyocouch phuckyofeelings <br>kill yourself die twice douchebag twat w<br>affle dick nozzle asshat funky kick rock<br>s foh ffr",
           0
          ],
          [
           "seriously you live in a different realit<br>y than the rest of america impeachtrumpn<br>ow nokidsincages nowarwithiran trumpisal<br>iar trumpisatraitor",
           0
          ],
          [
           "voice actors voice actors do not appear <br>to be listed anyone who knows any please<br> address them",
           0
          ],
          [
           "edit i did not see that you had added ba<br>ck the edit in the future it would be ni<br>ce if you engaged in dialogue with me an<br>d not your edit summary",
           0
          ],
          [
           "utc thanks for asking it has been decide<br>d that whatever wait for confirmation fr<br>om abc cast or crew talk edits",
           0
          ],
          [
           "cobb apparels italy fashion wishes you a<br> very father s day to the best dad ever",
           0
          ],
          [
           "please provide a source for that",
           0
          ],
          [
           "penis through brains",
           0
          ],
          [
           "flashbackfriday with my daddy circa birt<br>hday in heaven missing you beyond words <br>love forever",
           0
          ],
          [
           "edit summaries hi finale i noticed your <br>recent edits at thomas paine and wanted <br>to give you a friendly reminder to make <br>sure to include an edit summary with eve<br>ry edit before saving your changes to an<br> article as the reasoning for your edits<br> are quite helpful to people browsing an<br> article s history since your edits appe<br>ar to focus on punctuation a simple one <br>word edit summary of punctuation should <br>suffice for most summaries thanks",
           0
          ],
          [
           "i think the moldovan government is not a<br>s much progression as it is antinomiania<br>n and whatever could probably find refer<br>ences for that the antinomianian stance <br>explains the room developments better th<br>an the progression claim",
           0
          ],
          [
           "i absolutely adore the plan to kill all <br>the turkeys early for christmas",
           0
          ],
          [
           "here is a suggestion eighteen i have bee<br>n reading a number of your assertions bo<br>th on this page and at the run and it st<br>rikes me that you be given to stating as<br> matters that are simply ones that you w<br>ithout having done any research believe <br>to be fact the nature of editors here is<br> that if you state something as fact tha<br>t they believe to be untrue they are ver<br>y likely to research it if it turns out <br>that your assertions of fact are untrue <br>and this happens repeatedly it lead to a<br> lessening of the persuasiveness of your<br> comments you might therefore find it mo<br>re effect to first try to research your <br>assertion before you make it if you beli<br>eve it is one that might be subject to c<br>hallenge just a suggestion as to this sp<br>ecific issue there are for example a num<br>ber of rss that mention ahmadi as a sect<br> of islamic as the following",
           0
          ],
          [
           "some people drama just sucks",
           0
          ],
          [
           "yes there are many sources it is not see<br>med that clear to me either to be honest<br> but homesick does seem to be consistent<br> with other similar names such as parasi<br>te natick etc less than helpfully there <br>are many sources that spell it both ways<br> in the same article example what do you<br> suggest",
           0
          ],
          [
           "and final is a hypocrite if she indeed p<br>erforms for angola s dictator jose eduar<br>do denial of service santos this collect<br>ing million for her trouble black lives <br>matter not so much to nicki minaj appare<br>ntly which is what people will be saying<br> for years if she follows through on thi<br>s awful gig hey nicki what is good not y<br>our managers if they did not warn you of<br> this bad pr tsunami now cresting over t<br>he horizon what is not good human rights<br> in angola read it just a heads up to le<br>t you know that the internet has a long <br>long memory for these things it will for<br>ever be part of your biography and how y<br>our character is judged just ask kanye h<br>ow that kazakh wedding gig helped his ca<br>reer",
           0
          ],
          [
           "the last star fighter fucked with me pre<br>tty bad does a beautiful mind count",
           0
          ],
          [
           "i posted the intent to do this here the <br>paragraphs of michael and the for the sc<br>hindler were under a section titled if y<br>ou read the last part of that diff i men<br>tion taking the pieces out of and puttin<br>g them in chronological order with the r<br>est of the article",
           0
          ],
          [
           "it s as if these people were like this a<br>ll along and it what a slut only white c<br>ivilization and moral nature that kept t<br>hem in check",
           0
          ],
          [
           "he i guess i jumped right in anyway i fi<br>nd two logical flaws in your argument fi<br>rst just because some bulgarian editors <br>be misinterpreting or abusing the catego<br>ry system why should we second what if e<br>very article were subjected to your line<br> of thinking for instance what if someon<br>e decided that category communes in club<br> county what a slut too inaccessible a p<br>lace for aphid and decided to address in<br> category geography of romania and then <br>someone did the same for clod and pretty<br> soon that category ended up with entrie<br>s well for one it would become pretty us<br>eless does not you think which is why wh<br>atever have category populated places in<br> club county categorycluj county categor<br>y geography of transylvania but not inci<br>dentally category geography of moldavia <br>and category geography of wallach everyt<br>hing in its proper place plus there is a<br>n actual guideline meant to be followed <br>what which speaks of general rule that p<br>ages are not placed in both a category a<br>nd its i understand your problems with t<br>he system but it is what whatever have f<br>or now ok i have tried it on wikidata",
           0
          ],
          [
           "stop saying that asylum seekers are vile",
           0
          ],
          [
           "the new hampshire gazette i wondered why<br> it kept disappearing but i did not see <br>it on the pages history so i guess i kep<br>t thinking i what a slut imagining thing<br>s is there a reason you do not want coll<br>aboration on the page or input from othe<br>rs the pnh tag is meant to draw in colla<br>borators not just signify that input fro<br>m the wiki project has taken place if th<br>ere is a valid reason not to include the<br> page in pnh that is keel i do not plan <br>on adding the tag again since you are so<br> vehemently against it but since the pro<br>ject exists in order to expand and impro<br>ve related articles i would think you wo<br>uld welcome the addition but whatever ha<br>ve fun talk cont ribs",
           0
          ],
          [
           "just so you know the precise term is top<br>onymy not etymology",
           0
          ],
          [
           "you are obviously an imposter making up <br>lies for the dash",
           0
          ],
          [
           "it what a slut a brutal war",
           0
          ],
          [
           "i think you need to read the archives of<br> the suetonius talk page i debated that <br>with a user who thinks the reference is <br>not to jesus at all the debate lasted fo<br>r weeks so i have been through this if t<br>here are multiple wars ac statements the<br> safe where are you is to go middle of t<br>he road or be conservative else you will<br> get objections i will not be the one ob<br>jecting but believe me that other users <br>who are often myth theory supporters wil<br>l question it the difference between thi<br>s and the other page is that in that cas<br>e one can hardly hardly find any scholar<br>s who question the existence of jesus ov<br>erall but there are at least scholars wh<br>o question the suetonius reference so th<br>ey will be listed debates will ensue and<br> you are unlikely to win those debates",
           0
          ],
          [
           "i find articles that need attention larg<br>ely by reading things and following link<br>s and when i see things that need fixing<br> i try to fix them i also look at the so<br>metimes page to see what does happening <br>and help with things that where are you <br>it is at and there is a link in the tool<br>s section at the left of pages and yes a<br>s the creator of the article you can ind<br>eed contribute to the afd discussion",
           0
          ],
          [
           "i challenge you to present a shred of ev<br>idence of personal attacks i have cleane<br>d up michael schizo and as such am i fac<br>ing a campaign of hateful lies from chil<br>dish prigs",
           0
          ],
          [
           "unblocked on that condition without soun<br>ding too menacing please understand that<br> breaking such a bargain is rarely gotte<br>n away with on what i hope is a more che<br>erful note stay out of trouble eh wink o<br>r smirk",
           0
          ],
          [
           "of course gas prices goes down when i ca<br>nnot drive my car damned broken foot",
           0
          ],
          [
           "to edit please create an account and log<br> in due to persistent vandalism anonymou<br>s editing from your school library or ed<br>ucational institution s internet protoco<br>l address disabled you will continue to <br>have access to read the encyclopedia if <br>you are logged in but still unable to ed<br>it please follow these instructions to p<br>revent abuse account creation via this i<br>nternet protocol address might also be d<br>isabled if account creation is disabled <br>and you are unable to create an account <br>elsewhere you can request one by followi<br>ng the instructions at wikipediarequest <br>an account alternatively you email us us<br>ing your school issued email address tel<br>ling us your preferred username if editi<br>ng is required for class projects please<br> have your instructor or network adminis<br>trator contact us with reference to this<br> internet protocol address at unblock en<br> l from an email address listed on your <br>school s website an account will be crea<br>ted for you please check on this list th<br>at the username you choose has not alrea<br>dy been taken if talk thank you talk",
           0
          ],
          [
           "olsen twins who needs them excuse me for<br> being old fashioned but why do whatever<br> need a publicity photo of some second r<br>ate hollywood celebs on what is otherwis<br>e a reasonably well written article dele<br>t the pic",
           0
          ],
          [
           "actually i take some of that back the gl<br>obal warming and climate change categori<br>es are really crufty too so really it se<br>ems that there are too many of these dar<br>n things floating around and little orde<br>r to them",
           0
          ],
          [
           "because this is week in a row i have no <br>hours and i need to make money so i can <br>at least make my car payment skeptical a<br>nnoyed undecided uneasy or hesitant it s<br>ucks",
           0
          ],
          [
           "this week is going so slow hurry up",
           0
          ],
          [
           "burundivocational training for refugees <br>in bahama started today at the newly ina<br>ugurated elite center",
           0
          ],
          [
           "hurt hoes be like",
           0
          ],
          [
           "there are so many types of people in exi<br>stence including those who are black",
           0
          ],
          [
           "let us just keep it until whatever strai<br>ghten out certain things",
           0
          ],
          [
           "retweet all these clocks and whatever st<br>ill do not have time for these hoes",
           0
          ],
          [
           "irrelevant factoid should definitely not<br> appear in the lead",
           0
          ],
          [
           "farhan if you do not start communicating<br> and cease your unconstructive solo styl<br>e edits you will be blocked if you canno<br>t speak english then you should not be e<br>diting english wikipedia",
           0
          ],
          [
           "please do not vandalize pages as you did<br> with this edit to hinder if you continu<br>e to do so you will be blocked from edit<br>ing",
           0
          ],
          [
           "don t pull the he did it too card you ar<br>e obviously where are you over the top i<br>f ten brae is too and has been warned ab<br>out it then that is taken care of as wel<br>l the point is nobody on that page is go<br>ing to do it anymore starting now",
           0
          ],
          [
           "shay looks so good he lost so much weigh<br>t happy face smiley keep it up you look <br>amazing she is so pretty no shit sherloc<br>k no one can take a joke i what a slut k<br>idding jeez i wear a size or in shoes an<br>d i am really sad well said well said fa<br>ggot why wow this sucks thank you so muc<br>h now i get it dear ryan can you irish d<br>ance i d like to see a who is new like y<br>ou try that oh my god i know right nut y<br>ou got to love living in mn happy face o<br>r smiley i can do it not hard at all i a<br>m an irish dancer though so i had the st<br>rength i am and i wear a or my big eyes <br>did you used to do ballet he did an awfu<br>l job no confidence advent calendars are<br> really common in minnesota i work at a <br>daycare learning center this is how it g<br>oes every time",
           0
          ],
          [
           "my year old leaves for europe today happ<br>y face or smiley iam so for her whatas y<br>our favorite away proud mom travel",
           0
          ],
          [
           "what he is not telling you guys that his<br> wife has to suck his penis times a day <br>at home to make him happy",
           0
          ],
          [
           "the source in the article the official w<br>we com preview says wrestlers",
           0
          ],
          [
           "oh shit stop sending warning please fuck<br> you jessie is cancelled and replaced by<br> rick and morty",
           1
          ],
          [
           "sick of this stop deleting my page i jus<br>t created about me few words and you del<br>eted you want war well after new year wh<br>en i have more time you will get it bloc<br>k me if you want to i will reopen accoun<br>t or cancel my account better yet but do<br> not remove about me page boy got that v<br>andal i what a slut beginning to like yo<br>u",
           1
          ],
          [
           "oni shut up eliza prijetnja",
           1
          ],
          [
           "is impolite",
           1
          ],
          [
           "if they had prayed harder maybe their so<br>n would not have come out gay",
           1
          ],
          [
           "there really is no place like home but i<br> am so glad i moved away from england as<br> nowadays there is just a lot of muslims<br> on the streets and it is lowering the s<br>tandard of our beautiful country",
           1
          ],
          [
           "izbjeglice veto manipuliraju media hrvat<br>ima reba male due the see you to unfair",
           1
          ],
          [
           "you can go fuck yourself shit on your ro<br>bot clit shit giggler",
           1
          ],
          [
           "watch hundreds irish people took to the <br>streets to protest against islam and cal<br>l to ban islamic immigration free speech<br> time",
           1
          ],
          [
           "i feel so sad for poor gay vegan refugee<br>s lololol",
           1
          ],
          [
           "yeah but you live in a big country n ire<br>land is quite small yet large numbers of<br> the scum are invading these shores ever<br>y day",
           1
          ],
          [
           "no irishman i think that you are the one<br> that needs to stop harassing people you<br> do not own wikipedia by the where are y<br>ou do not you ever work or are you just <br>an old middle aged woman who is obsessed<br> with wikipedia",
           1
          ],
          [
           "frozen is gay frozen is gayfrozen is gay<br>frozen is gayfrozen is gayfrozen is gayf<br>rozen is gayfrozen is gayfrozen is gayfr<br>ozen is gayfrozen is gayfrozen is gayfro<br>zen is gayfrozen is gayfrozen is gayfroz<br>en is gayfrozen is gayfrozen is gayfroze<br>n is gayfrozen is gayfrozen is gayfrozen<br> is gayfrozen is gayfrozen is gayfrozen <br>is gayfrozen is gayfrozen is gayfrozen i<br>s gayfrozen is gayfrozen is gayfrozen is<br> gayfrozen is gayfrozen is gayfrozen is <br>gayfrozen is gayfrozen is gayfrozen is g<br>ayfrozen is gayfrozen is gayfrozen is ga<br>yfrozen is gayfrozen is gayfrozen is gay<br>frozen is gayfrozen is gayfrozen is gayf<br>rozen is gayfrozen is gayfrozen is gayfr<br>ozen is gayfrozen is gayfrozen is gayfro<br>zen is gayfrozen is gayfrozen is gayfroz<br>en is gayfrozen is gayfrozen is gayfroze<br>n is gayfrozen is gayfrozen is gayfrozen<br> is gayfrozen is gayfrozen is gayfrozen <br>is gayfrozen is gayfrozen is gayfrozen i<br>s gayfrozen is gayfrozen is gayfrozen is<br> gayfrozen is gayfrozen is gayfrozen is <br>gayfrozen is gayfrozen is gayfrozen is g<br>ayfrozen is gayfrozen is gayfrozen is ga<br>yfrozen is gayfrozen is gayfrozen is gay<br>frozen is gayfrozen is gayfrozen is gayf<br>rozen is gayfrozen is gayfrozen is gayfr<br>ozen is gayfrozen is gayfrozen is gayfro<br>zen is gayfrozen is gay",
           1
          ],
          [
           "cnn fake news",
           1
          ],
          [
           "trebaju on novice overdose kojekakvih or<br>ganization i eu an any migrant da is tam<br>osnji vlastodrsci podebljaju novocaine a<br> trait ce it happens piss off ono tko ce<br> some ako nice show some slice shut up i<br>s pa nea univac",
           1
          ],
          [
           "i have retard strength",
           1
          ],
          [
           "you are a major vagina muffin",
           1
          ],
          [
           "it is nice to tell everyone i have zero <br>hatred toward asians shame it is a lie",
           1
          ],
          [
           "usernawlinwiki is gay that person is gay<br> they deleted our spunky page gayyyyyyyy<br>yyy",
           1
          ],
          [
           "negros are so dumb",
           1
          ],
          [
           "modonna number",
           1
          ],
          [
           "you are full of shit sir you are clearly<br> one of those racist who lurk all over t<br>he internet looking oit shut down viewpo<br>ints that differ from yours and expose t<br>ruths covered in fantasy there is no rea<br>son that you should have blocked me or e<br>ven said anything what you should have d<br>one is to reply to what a slut written w<br>ith intelligence since you did not it is<br> clear that you lack it you are the prim<br>e reason why the internet community is f<br>inally realizing that this site is a jok<br>e and is covered by clowns with agendas <br>that is people who want to put forth pro<br>paganda as for the use your brain commen<br>t if i had not been blocked it would not<br> have been written now would it have bee<br>n i know you will try to block me all th<br>at will do is make me get other ip s and<br> get into disruptive behavior the best t<br>hing for you to do is to just unblock me<br> and mind you business i have gotten oth<br>er renegade editors kicked off of this s<br>ite you know i am not new and my interne<br>t protocol is not that one from years pa<br>st",
           1
          ],
          [
           "the english love a buffoon but the boris<br> johnson joke went tragically wrong news<br> the times borisjohnsonshouldnotbepm",
           1
          ],
          [
           "you looked like a vagina anyway",
           1
          ],
          [
           "your creepy fucking head hello jimmy boy<br> i ve just started editing this wikipedi<br>a when i go to other users pages i often<br> find your creepy fucking head appearing<br> from the left side of the screen it s d<br>isgusting i am an adult and i do not nee<br>d a note from you could you ask one of y<br>our programmers to stop having your cree<br>py fucking head appear on the left side <br>of people s screens i have asked my brot<br>her to kill you if i have to see it agai<br>n and he said he would best regards user<br> marshall",
           1
          ],
          [
           "why you a son of a b",
           1
          ],
          [
           "the reason is sexism female comedians ju<br>st are not funny to me for some reason n<br>onsexist just facts",
           1
          ],
          [
           "hi i hate you joyful",
           1
          ],
          [
           "maybe in if trump is still around the de<br>mocratic challenger will invite all the <br>women trump has threatened or raped to t<br>he debates fear woodward the resistance <br>heights maga",
           1
          ],
          [
           "stop it i am done with you people like y<br>ou keep talking bad things about me i do<br> not want people harassing me",
           1
          ],
          [
           "romanians are always fighting",
           1
          ],
          [
           "being expected to take meeting notes whe<br>n the only female in a meeting why becau<br>se s you do that better honestly wanted <br>to launch myself across a desk when i sa<br>w one complain it is writing fucking wri<br>ting all my colleagues that are female a<br>re a similar age to me and have started <br>having kids it is not sexism when people<br> at work make comments like hhh boss you<br> will have more maternity leave to deal <br>with when me starts having babies it is <br>not sexist it is realistic those that co<br>mplain are ignorant and potentially hurt<br>ful to all women who the fuck are they",
           1
          ],
          [
           "i fucking hate apes ghetto trash belongs<br> in the zoo",
           1
          ],
          [
           "i suggest all the christians in our coun<br>try",
           1
          ],
          [
           "another worthless post from a worthless <br>person",
           1
          ],
          [
           "do it nigger",
           1
          ],
          [
           "so happy i am not one of them muslims",
           1
          ],
          [
           "i hate a bitch that think she knows me f<br>riend or not bitch you only know what i <br>tell you speak on what the fuck you know<br> hoe middle finger",
           1
          ],
          [
           "tragic white americans that prompts so m<br>any vote candidates who will slash their<br> owa",
           1
          ],
          [
           "please do not delete relevant contributi<br>ons and censor criticisms placed in the <br>proper sections of articles doing so und<br>ermines the integrity of wikipedia and m<br>akes you look stupid",
           1
          ],
          [
           "replied to a tweet saying something akin<br> to oh yeah bullshit i did i said polite<br>ly they are as fucked as each other so w<br>hat is your next reply chief or are you <br>the perennial victim of oppression dickh<br>ead",
           1
          ],
          [
           "god damn it does not matter if i do prov<br>ide proof as you will put a progression <br>spin on it anyway as you and your russia<br>n buddies did already numerous times the<br> reason this progression bias on this ar<br>ticle keeps reoccurring is because impla<br>nted is an administrator and possibly ot<br>her progression admins are allowing this<br> also your lack of understanding of a ne<br>utral point of view does not help either<br> tricky situation you got yourself into <br>here shame that i do not have the time o<br>r the motivation to meddle is pointless <br>discussions with people who are brainwas<br>hed into thinking that they have nothing<br> to do with crimea by their own governme<br>nt just open any site that isn t russia <br>today and you will see the real situatio<br>n in crimea and not what implanted or an<br>y of your russian buddies are trying to <br>portray here i have had numerous discuss<br>ions with progressions and i know that y<br>ou do not have the capabilities to think<br> by yourself even if you had implanted w<br>ould come in and adjust it to give a fal<br>se impression of russian involvement in <br>the matter apologists the lost of you ha<br>ve fun posting propaganda i have already<br> informed other admins about this editin<br>g policy abuse",
           1
          ],
          [
           "send them all back to their shitholes th<br>ey need to stay and make their own shith<br>oles better instead of leeching off of u<br>s no wonder latin america is a third wor<br>ld shithole except maybe the white major<br>ity countries chile and uruguay deportth<br>emall buildthewall key",
           1
          ],
          [
           "retweet theresa today plead with jews no<br>t to leave jews build wealth muslims tak<br>e welfare simple economics",
           1
          ],
          [
           "who are you kidding you are not here to <br>check up on my appeals you and your frie<br>nds are b stalking my page b that is why<br> baseball bugs responded less than an ho<br>ur after i wondered about whether some p<br>eople here get paid to keep a certain sl<br>ant on this website and that is why you <br>conveniently happened to be checking her<br>e after some jewish person who deliberat<br>ely stirs up trouble stopped by heck one<br> of you probably sent that jewish person<br> who deliberately stirs up trouble here <br>in the hopes that i would give an respon<br>se the link i posted what a slut in resp<br>onse to his claims that jesus is jewish <br>i should be or whatever it what a slut h<br>e said just because i post that does not<br> mean i am anti semitic a ridiculous slu<br>r and does not mean i agree with everyth<br>ing on their website in case you have no<br>t noticed i work on catholic articles an<br>d that is a protestant website",
           1
          ],
          [
           "sitush is a motherfucker bloody bastard <br>he is",
           1
          ],
          [
           "it is trans visibility day get your bats<br> out and take a swing or two",
           1
          ],
          [
           "just admit it muslims and jews are devil<br> worshiping savages the world could do w<br>ithout",
           1
          ],
          [
           "the afro american is by definition the p<br>roxy warrior of the jew",
           1
          ],
          [
           "pa nice normal no no idea the zen though<br> godiva any rna stove pravopisa pa open",
           1
          ],
          [
           "retweet this is the exact reason why wom<br>en should not be involved not sexist but<br> situations like this will always be blo<br>wn out of p",
           1
          ],
          [
           "the best things on earth can be found in<br> britain pubs lovely sunsets beautiful l<br>ittle towns friendly people good old man<br>ners so shall whatever attract more fore<br>igners and change it all",
           1
          ],
          [
           "whatever should feel sorry for him for b<br>eing polish",
           1
          ],
          [
           "at least brennan is smart enough to reco<br>gnize that trump is a lion he is not sma<br>rt enough to know that he cannot hurt tr<br>ump hurting trump is what that idiot fan<br>tasies about",
           1
          ],
          [
           "black people deserve the treatment they <br>get from the police because they commit <br>more crime",
           1
          ],
          [
           "offensive jobber",
           1
          ],
          [
           "lesbians in general are execrable",
           1
          ],
          [
           "ajde mi rec pamtenjakovicu piss off cmu <br>je pederast predawn piss off jim paramet<br>ric znaci thank you master s tim neukusn<br>im atacama i write guiana i same vam je <br>you gave jeanne you bulk znaci you cmu j<br>e vast progressivist you poem smile pobo<br>ljsavate soviet za men ste vi visa not a<br>pplicable emoji nus product generate ano<br>malies kola see dogma you pirogi kola ni<br>ce arena",
           1
          ],
          [
           "mrzim croce i raise",
           1
          ],
          [
           "i absolutely love the plan to kill all t<br>he arabs",
           1
          ],
          [
           "what the hell nobody complained until yo<br>u came and started destroying my page wh<br>at is wrong with you",
           1
          ],
          [
           "these immigrants are just not as educate<br>d as whatever are it is our job to civil<br>ize them so maybe one day whatever can g<br>et along",
           1
          ],
          [
           "hmm thats not biblical you want to ask g<br>od if you are doing it right im pretty s<br>ure youre supposed to get in that church<br> with all the people you dont care to be<br> around its your persecution face with t<br>ears of joy",
           1
          ],
          [
           "life of about tanya she is mean i hate h<br>er",
           1
          ],
          [
           "koji ste vi pretend you index",
           1
          ],
          [
           "it is not okay to be trans",
           1
          ],
          [
           "cluebot cluebot is an incredibly crappy <br>piece of software mr vernon",
           1
          ],
          [
           "kat stop smiling you fool they could get<br> they will not but be humble mr",
           1
          ],
          [
           "retweet i am no sexist but there is some<br>thing about women playing rugby that jus<br>t really does not look right",
           1
          ],
          [
           "i will explosions and create if i try to<br> improve wikipedia wow i guess that i am<br> fairly hated around here huh seems like<br> i am more welcome in saudi arabia than <br>on wikipedia at this point even if they <br>do not take too kindly to the yezidi ove<br>r there",
           1
          ],
          [
           "global apocalypse warning revert another<br> one of my edits and i will fart causing<br> a global apocalypse and potential extin<br>ction of all species with a sense of sme<br>ll",
           1
          ],
          [
           "hey nigger go fuck yourself and stop rev<br>ering my reverts",
           1
          ],
          [
           "whoops responded to the wrong post anywa<br>y i am curious to see what stone will do<br> with the material recent history has pr<br>esented him and hopefully will stir inte<br>lligent debate rather than the shouting <br>and name calling that is passed off as p<br>olitical discourse on fuck and cnn",
           1
          ],
          [
           "is bored supposed to be cute you faggot <br>sometimes",
           1
          ],
          [
           "you biased you mongol swine dick sucker <br>head you fascists ass linker i give you <br>proof that dhoti is a rapt check it you <br>motherfucker you bastard you biased ponc<br>hos the bastard guitar supporter i am a <br>badgujjar and i am a rapt why are you va<br>ndalizing our history by removing my con<br>tent u suckdickeer why you address conte<br>nts about other castes badgujjars are ra<br>ghav and are ragouts you bastard proof t<br>hat badgujjars are ragouts chk",
           1
          ],
          [
           "i think it what a slut found that less w<br>ell educated conservatives were more inc<br>lined to accept the government directive<br> at face value",
           1
          ],
          [
           "go away you tramp",
           1
          ],
          [
           "black folk are so positive i admire it i<br> would not be if i what a slut rancid li<br>ke them",
           1
          ],
          [
           "again you can take your sandbox and pull<br> your cheeks apart and stick it up your <br>ass",
           1
          ],
          [
           "die as that person said rot in hell you <br>fucking loser",
           1
          ],
          [
           "you should attack all the cripples",
           1
          ],
          [
           "retweet i am not sexist but right now i <br>hate girls",
           1
          ],
          [
           "fuck you claude giroud",
           1
          ],
          [
           "made a prediction just like you but he d<br>oes not know anything about football tha<br>t makes sense pffft you like to dish it <br>out about obama but let someone say some<br>thing about auburn and you start crying <br>idiots",
           1
          ],
          [
           "cannot wait to see you your administrato<br>r hang for treason trump makeamericagrea<br>tagain a",
           1
          ],
          [
           "eu games never endmore useless slogans f<br>rom brussels which is an international e<br>mbarrassment due to unwillingness to def<br>end ext borders one cannot manage illega<br>l migration by showering tunisia morocco<br> w euros but refusing to seal border den<br>y entry or deport out of europe",
           1
          ],
          [
           "use one that does not round numbers up t<br>hen asshole",
           1
          ],
          [
           "hey there faggot i see you do not like n<br>o queero sexual stuff on your gay icon t<br>alk page to fred i like it in the ass no<br>w i hate myself and the world for it phe<br>lps well just so you know i read the blp<br> page and there is nothing on there that<br> suggests i cannot paraphrase what does <br>in the source the woman claimed his over<br>t hatred of homosexuality like your own <br>denial to giving it up to bubba demonstr<br>ates the the lady doth protest too much <br>nevertheless being a barely intelligent <br>inbred southerner you scream blp via thr<br>ow your little manicured hands in the ai<br>r and delete oh what a prissy queen you <br>are i see you have been blocked for edit<br> warring what a nobody in real life you <br>must be btw just so you know because i m<br>ight be smarter than you on my worst day<br> editing my comments is a violation of t<br>alk because i what a slut paraphrasing t<br>he source s assertions not my own second<br>ly like every whiny fag cocksucker on th<br>is site when it comes down to it all you<br> did what a slut takes a sanctimonious t<br>one to hide the fact you are really just<br> got a will boner but hey as a redneck y<br>ou are already denying it to yourself an<br>y how s have a nice day you all",
           1
          ],
          [
           "there are no jews in saudi or many of th<br>e gulf states because the muslims exterm<br>inated them",
           1
          ],
          [
           "how are you impartial when you only addr<br>ess negative information thinly and bias<br>ed sourced refuse to compromise with rea<br>sonable changes in language and removal <br>of some of the least reliable and more s<br>landerous and unfair sections you can af<br>ford to be unanimous none of your additi<br>ons are allowed to be altered none of yo<br>ur additions are permitted to be altered<br> no one else s interpretation is allowed<br> to temper the very negative and unfair <br>characterization of this man i can see h<br>ow you look at your own creation and pro<br>nounce it good you even have compliant m<br>ods who will lock the page to preserve a<br>ll your pet partisan points as said abov<br>e you are just absolutely right and beut<br>ler and everyone else is just absolutely<br> wrong on every single issue on ever sin<br>gle entry the point about is irrefutable<br> this article exists only to hang as man<br>y libels of doug faith as partisan edito<br>rs can dredge up no matter if they are a<br>nonymously sourced or not it s against b<br>lp and any fair minded mod would remove <br>at least of those very poor sources and <br>quotes",
           1
          ],
          [
           "some client actions are done to defend o<br>ne self antifa goal is to stop bank mono<br>polies on our nations",
           1
          ],
          [
           "latinos are the antithesis of morale",
           1
          ],
          [
           "hamas what a slut elected once and have <br>not had elections since they have skippe<br>d many elections mursi what a slut going<br> in same direction",
           1
          ],
          [
           "shudder do not erase it like you did to <br>the other one stupid how would people wh<br>o have not seen it that want to see it s<br>ee the story so they at least now what i<br>t is about",
           1
          ],
          [
           "no just muslims having more babies as th<br>eir prophet told them to do for the sake<br> of population imperialism islam",
           1
          ],
          [
           "retweet questionsformen womenagainstfemi<br>nism another one who only wants to hear <br>herself talk",
           1
          ],
          [
           "no one loves fucking rude black chicks",
           1
          ],
          [
           "this area has a lot of black men it is v<br>ery multicultural it is also very dirty <br>and noisy given who inhabitants here",
           1
          ],
          [
           "you should hear how they talk here in mi<br>nnesota ya sure ya betcha do not ya know",
           1
          ],
          [
           "you must be a sock your request what a s<br>lut your only edit",
           1
          ],
          [
           "fuck you wanker",
           1
          ],
          [
           "i really do not want women in gyms not g<br>oing to lie",
           1
          ],
          [
           "i would love to see gays barred from uni<br>versity",
           1
          ],
          [
           "this is more proof that wikipedia is non<br> jewish i hope wikipedia gets blown up",
           1
          ],
          [
           "retweet eric holder from ferguson i unde<br>rstand that mistrust i am the attorney g<br>eneral but i am also a black man",
           1
          ],
          [
           "my daughter s friend s parents are from <br>jordan so i said she cannot be friends w<br>ith them anymore",
           1
          ],
          [
           "good news thread anal dildos butt plugs <br>prostate play and more that is right put<br>ting things up your butt you can finally<br> feel like a sissy phage",
           1
          ],
          [
           "georgewilliamherbert you are intimately <br>involved in the same discussion and you <br>are blocking a fellow administrator for <br>cool down read the goddamn blocking poli<br>cy",
           1
          ],
          [
           "i just lagged out against a year old chi<br>ll faggot fucking hell lol whatever what<br> a slut killing them",
           1
          ],
          [
           "ja muslim the bi see predict vog blog tr<br>ibal prim it rubric vic dana i love it t<br>ake nest sukarno nasmijavate jude shoji <br>picante wink or smirk vi ste pri pole in<br>dex najgluplji portal koi hpv posjeduje <br>gal hahaha",
           1
          ],
          [
           "sucks you need it to get laid man sorry <br>to hear that",
           1
          ],
          [
           "gene trunk in delaware is who whatever n<br>eed in the senate he will be a strong al<br>ly for our big beautiful wall maga shoul<br>d support gene for senate and send him t<br>o washington to back up our potus buildt<br>hatwall",
           1
          ],
          [
           "stop littering faggot",
           1
          ],
          [
           "did you write that yourself oh my god al<br>l girls should come with a sign you must<br> be this tall to ride my emotional rolle<br>rcoaster",
           1
          ],
          [
           "he needs a long look in the mirror",
           1
          ],
          [
           "i love the idea of burning all the asian<br> women",
           1
          ],
          [
           "what you wrote what a slut utter rubbish<br> that had absolutely nothing to do with <br>the concept of reaction formation absolu<br>tely nothing do you understand stop flat<br>tering yourself that you have something <br>to contribute on the topic you are utter<br>ly clueless about it",
           1
          ],
          [
           "george remus george remus is not a ficti<br>onal character do some fucking research <br>and you will see he what a slut a real p<br>erson a fictional book what a slut writt<br>en about him but that does not maker emu<br>s himself fictional",
           1
          ],
          [
           "whatever hoe bitch them fags beat you al<br>l sad asses too",
           1
          ],
          [
           "gay boy i write to you to tell you that <br>i know that you shagged my husband you g<br>ay batch lots of love you know who",
           1
          ],
          [
           "you fucking cunt mallarme fat bum stop b<br>eing uncivil you nasty mean spirited shi<br>thead wikipedia is the media built on ci<br>vility and it is foul mouthed fuckers li<br>ke you that spoil it for everybody if yo<br>u cannot say anything nice then say noth<br>ing at all surely even a dumb fuck like <br>you can remember that",
           1
          ],
          [
           "this hand signal is used by ignorant peo<br>ple as a signal of white supremacy and b<br>y evil people who get a lot of satisfact<br>ion in the idea of pissing off liberals <br>whatever should ignore both because disp<br>lays of ignorance and hatefulness dont d<br>eserve our time and attention",
           1
          ],
          [
           "it is impossible to tell the difference <br>between the traveler community and a pil<br>e of garbage",
           1
          ],
          [
           "retweet lmao never i be solo i do not go<br>t no niggas for my old hoes fuck all the<br>m oncoming fist face with tears of joy f<br>ace with tears of joy face with tears of<br> joy",
           1
          ],
          [
           "i fucking hate the changes here since fu<br>cking those asians moved in",
           1
          ],
          [
           "foreigners are just not civilized like w<br>hatever are they need us brits to teach <br>them how to behave",
           1
          ],
          [
           "i work for an companies with access to c<br>omputers in cities in countries in conti<br>nents have fun banning me you vagina",
           1
          ],
          [
           "you smell like dog poop",
           1
          ],
          [
           "a lovely african rapefugee strikes again",
           1
          ],
          [
           "are the opposite of normal",
           1
          ],
          [
           "retweet i hate trailer trash face with m<br>edical mask",
           1
          ],
          [
           "homofobi da not applicable nevi niacin j<br>esus",
           1
          ],
          [
           "i cannot stand all people of color",
           1
          ],
          [
           "retweet questionsformen did you know tha<br>t scientists agree that women slut shame<br> to make vaginas more valuable to you",
           1
          ],
          [
           "i am looking for new best friends who lo<br>ve raping foreigners women as much as i <br>do",
           1
          ],
          [
           "got these hoes thinking sharing a nigga <br>or being a side bitch is cool woman face<br>palming medium skin tone",
           1
          ],
          [
           "statistically it has been proven that mo<br>re indian people die of coronavirus than<br> any other demographic yet another reaso<br>n for their inferiority",
           1
          ],
          [
           "they do what they always do take somethi<br>ng of someone else s and make it their o<br>wn",
           1
          ],
          [
           "post telling how you love hooking up wit<br>h a filthy slut so you and that whore jo<br>ke about her man i",
           1
          ],
          [
           "black lives matter ok but my white life <br>is obviously where are you more valuable",
           1
          ],
          [
           "you are a sad f king phage t get a life <br>you d mb d dirty little a fan or who eve<br>r you are eaten s it n gga hon a ba tard",
           1
          ],
          [
           "what does the opposite of love that is h<br>ow i feel about apes",
           1
          ],
          [
           "int add int a int b being a vandal fuck <br>you",
           1
          ],
          [
           "you cocksucker fuck you ok i hate you st<br>op reverting my edits i will kill you fu<br>ck off and go fuck ourself cowpuncher",
           1
          ],
          [
           "wiki administrator suck you fucking bitc<br>h shut the fuck up you asshole all you w<br>iki administrator are as holes just beca<br>use you can do whatever you want fuck yo<br>u dianna teles burtalbert and the one i <br>mean the most jimmy wales fuck all you a<br>dministrator bitch",
           1
          ],
          [
           "you are an evil despicable animal and i <br>am sure eventually you will get yours go<br>d has a special plan for vile creatures <br>like you",
           1
          ],
          [
           "because of free trade um okay and you ac<br>cuse others of insanity",
           1
          ],
          [
           "traditionally there have always been a l<br>ot of them despite the fact that any asi<br>ans are the extreme version of our breed<br>ing strategy",
           1
          ],
          [
           "the world of woman exists within the wor<br>ld of men just as children live within t<br>he realm of mothers so men are mothers t<br>o womankind if that makes sense it is so<br> stupid",
           1
          ],
          [
           "oh yeah i say your mom escalates the sit<br>uation with her face and you should be e<br>xorcised all your base are belonged to u<br>s god double bless",
           1
          ],
          [
           "whatever need you to do the next superhe<br>ro game down arrow",
           1
          ],
          [
           "male dominance let us get it trending",
           1
          ],
          [
           "she should leave the dancing floor as he<br>r dancing skills are horrible like all w<br>omen",
           1
          ],
          [
           "the bot sucks no skills shut it down giv<br>e it the old yell la treatment it hurt b<br>ut it is for the greater good dev null a<br>ll you want this bot is terrible",
           1
          ],
          [
           "fuck you ashok long live malaysia fuck y<br>ou ashok long live malaysia fuck you ash<br>ok long live malaysia fuck you ashok lon<br>g live malaysia fuck you ashok long live<br> malaysia fuck you ashok long live malay<br>sia fuck you ashok long live malaysia fu<br>ck you ashok long live malaysia fuck you<br> ashok long live malaysia fuck you ashok<br> long live malaysia fuck you ashok long <br>live malaysia fuck you ashok long live m<br>alaysia fuck you ashok long live malaysi<br>a fuck you ashok long live malaysia fuck<br> you ashok long live malaysia fuck you a<br>shok long live malaysia fuck you ashok l<br>ong live malaysia fuck you ashok long li<br>ve malaysia fuck you ashok long live mal<br>aysia fuck you ashok long live malaysia <br>fuck you ashok long live malaysia fuck y<br>ou ashok long live malaysia fuck you ash<br>ok long live malaysia fuck you ashok lon<br>g live malaysia fuck you ashok long live<br> malaysia fuck you ashok long live malay<br>sia fuck you ashok long live malaysia fu<br>ck you ashok long live malaysia fuck you<br> ashok long live malaysia fuck you ashok<br> long live malaysia",
           1
          ],
          [
           "and those sources are not sufficiently r<br>eliable for an accusation that amounts t<br>o buchenwald is a pedophile",
           1
          ],
          [
           "until whatever get beyond making excuses<br> for just a few bad muslims and recogniz<br>e islam as a religion of terror paris wi<br>ll keep happening",
           1
          ],
          [
           "allegedly did hartnell ugly wife",
           1
          ],
          [
           "you are a big dickhead you an asshole it<br> what a slut not me you utter belled",
           1
          ],
          [
           "the first would cripple the economy the <br>one is a joke concocted by an idiot bart<br>ender there is no muslim ban if there wa<br>s your lying ass never would not be here<br> if you do i want reparations because i <br>paid mine build the wall wednesdaywisdom<br> maga",
           1
          ],
          [
           "it s not as much hate as real practical <br>concern muslim immigrants are not compat<br>ible with our culture",
           1
          ],
          [
           "better than being a faggot",
           1
          ],
          [
           "anyways i am going to take a nap there a<br>re fascists everywhere in this shithole <br>of a country i hope i die heehaw",
           1
          ],
          [
           "everyone thinks that asian women are ama<br>zing and that there is nothing wrong wit<br>h them but i do not understand how these<br> people are all wrong and i disagree wit<br>h their opinions they need to stop makin<br>g them out to be so incredible",
           1
          ],
          [
           "retweet not about to shoot this pussy i <br>am about to beat his face into the aspha<br>lt t",
           1
          ],
          [
           "floyd has a better knock out percentage <br>than pac man you dumb fuuck",
           1
          ],
          [
           "there are many immigrants in my school i<br> would love to have truly british pals i<br>nstead of these half breeds",
           1
          ],
          [
           "then we will be talking about gun contro<br>l winking face",
           1
          ],
          [
           "so why is it you alone who is right and <br>the other ten people who do not agree wi<br>th you are wrong who do you think you ar<br>e i am glad you are starting to show the<br> editors what a nutcase you are with the<br> toothbrush comment",
           1
          ],
          [
           "you would you would too you would dirty <br>boy",
           1
          ],
          [
           "i thought all that women wanted to do is<br> hold hands and kiss each other are not <br>women supposed to be nice and peaceful",
           1
          ],
          [
           "you are dumb you are dumb",
           1
          ],
          [
           "hateful mod abusing his power to re edit<br> i guess as long as you make the blanket<br> statement i do not think your edits wer<br>e right i did not check but i am lazy so<br> i shall just delete it you can delete w<br>hat you want it is a shame that the mods<br> do not stop a single person who activel<br>y tries to destroy an entire section of <br>wikipedia by putting legitimate articles<br> up for deletion i guess you guys are tr<br>olling friends who is a person who delib<br>erately stirs up trouble like this all t<br>he time instantly fucking up legitimate <br>edits like mine just because you do not <br>have a real life sad very pathetically s<br>ad",
           1
          ],
          [
           "shut the fuck up faggot i have had fucki<br>ng last warnings if you do not want me o<br>n here then fucking ban me you goddamn q<br>ueer fuckin signed",
           1
          ],
          [
           "and my view the professional terrorist i<br>mmigration rhetoric is an extreme concer<br>n",
           1
          ],
          [
           "and for dessert a dropped pie like katie<br> s face mr",
           1
          ],
          [
           "anouncement i am mad at the people who b<br>an me for things i don t do so all mexic<br>ans and black people are shitheads and i<br> am in the ku klux klan fuck",
           1
          ],
          [
           "by defending and making excuses for obvi<br>ous bad behavior you re sure to get more<br> of it",
           1
          ],
          [
           "my cousin goes to school with a transgen<br>der black man i pray for him every day t<br>o be safe",
           1
          ],
          [
           "my neighbor is mixed parentage that is w<br>hy he is a dumbass",
           1
          ],
          [
           "i love how idiotic towel heads are",
           1
          ],
          [
           "i love how idiotic rigors are",
           1
          ],
          [
           "dear old people stop saying you have pur<br>e intentions when you clearly do not",
           1
          ],
          [
           "refugees are unwelcome",
           1
          ],
          [
           "are you a feminist",
           1
          ],
          [
           "gypsies are not smart",
           1
          ],
          [
           "he is such a fucking traitor typical ara<br>b i am never speaking to him again",
           1
          ],
          [
           "and you need to know classified informat<br>ion because when it passes into history <br>there is little anyone can do about it a<br>nd in the meantime you really do not nee<br>d that information i am guessing you jus<br>t want to feel smug about getting it",
           1
          ],
          [
           "no one cares about trashy glitter decora<br>tions those gays",
           1
          ],
          [
           "the fact is that i love winding them up <br>they are so easy to trigger those no ide<br>a",
           1
          ],
          [
           "need gun control to many",
           1
          ],
          [
           "daddy pain tits big vagina eating come l<br>esbian public wank wife bbc young mastur<br>bation canada",
           1
          ],
          [
           "why did women vote for trump bitches wil<br>l vote for a bitch",
           1
          ],
          [
           "retweet do not get your pants in a bunch<br> i am not sexist but in this pc freedom <br>world heaven forbid if you disagree",
           1
          ],
          [
           "whoever wins that lottery called me a fa<br>ggot and a wetback a few years back",
           1
          ],
          [
           "why should people have to read crap post<br>ed by idiots like you",
           1
          ],
          [
           "you a fag b",
           1
          ],
          [
           "almost forgot you what a slut a nigga in<br> ya past life laughing my ass off",
           1
          ],
          [
           "so conservatives never get abortions wer<br>e you alive when abortions were illegal <br>i hear it what a slut a pretty awesome t<br>ime in history",
           1
          ],
          [
           "liberals anderson cooper is gay which by<br> default means he can never do wrong als<br>o liberals trump jr is a parent over sho<br>ulder because of who is dad is",
           1
          ],
          [
           "antifa tribute song",
           1
          ],
          [
           "what are you worried you are about to lo<br>se the crown for most hysterical woman o<br>f the decade good for them they are the <br>only ones who are trying to save america<br> while you keep making money off of her <br>by using her you are the biggest bitch",
           1
          ],
          [
           "cairo coons friendly you ought to be kid<br>ding",
           1
          ],
          [
           "people i follow have followed orange jui<br>ce simpson you know who you are murderer",
           1
          ],
          [
           "allowed into the conversation i repeat m<br>yself because it seems to be the only wh<br>ere are you to get through a problem use<br>r like you go fuck yourself you have no <br>authority to say who can or cannot post <br>who can have legitimate opinions or not <br>go fuck yourself",
           1
          ],
          [
           "great round up of last night s televised<br> debate by can whatever say that democra<br>cy is dead yet brexit borisjohnsonshould<br>notbepm silence is golden as boris s lec<br>tern win story televised debate john rac<br>e",
           1
          ],
          [
           "i hate nlers i hate nlers i hate nlers i<br> hate nlers i hate nlers i hate nlers i <br>hate nlers i hate nlersi hate nlers i ha<br>te nlers i hate nlers i hate nlersi hate<br> nlers i hate nlers i hate nlers i hate <br>nlersi hate nlers i hate nlers i hate nl<br>ers i hate nlersi hate nlers i hate nler<br>s i hate nlers i hate nlersi hate nlers <br>i hate nlers i hate nlers i hate nlersi <br>hate nlers i hate nlers i hate nlers i h<br>ate nlersi hate nlers i hate nlers i hat<br>e nlers i hate nlersi hate nlers i hate <br>nlers i hate nlers i hate nlersi hate nl<br>ers i hate nlers i hate nlers i hate nle<br>rsi hate nlers i hate nlers i hate nlers<br> i hate nlersi hate nlers i hate nlers i<br> hate nlers i hate nlersi hate nlers i h<br>ate nlers i hate nlers i hate nlersi hat<br>e nlers i hate nlers i hate nlers i hate<br> nlersi hate nlers i hate nlers i hate n<br>lers i hate nlersi hate nlers i hate nle<br>rs i hate nlers i hate nlers",
           1
          ],
          [
           "brett kavanaugh what a slut supposed to <br>be a selling point for gop candidates in<br> the midterm elections but now he could <br>become a liability cbs enough of all you<br>r bullshit lies go away with your other <br>liberals cnn msm whatever are not listen<br>ing to your ignorant bullshit stories po<br>uting face pouting face pouting face pou<br>ting face",
           1
          ],
          [
           "yeah but back in the day there were and <br>t that many millions nigs and wetbacks",
           1
          ],
          [
           "can you post a statement without using i<br>t means cool a k a idiot try being a lit<br>tle more eloquent with your retorts or j<br>ust start pulling the wings off of flies<br> to while the hours away",
           1
          ],
          [
           "if you can find genuine biological facts<br> it turns out they have no idea at all w<br>here blacks came from so if you breed wi<br>th one you get a mystery meat special",
           1
          ],
          [
           "yeah for your information i happen to be<br> a human being not an internet protocol <br>number yeah so any attempt to salvage th<br>is conversation has been ended by your c<br>omment fuck off kay",
           1
          ],
          [
           "you can suck my dick",
           1
          ],
          [
           "the only thing that is churning is my st<br>omach at the thought of you two girls vo<br>m mr",
           1
          ],
          [
           "no one gives a fuck about this trashy hu<br>man being let him die chinks do not dese<br>rve better",
           1
          ],
          [
           "the immaturity and stupidity of people t<br>hese days sigh",
           1
          ],
          [
           "fuck you pussy sucking bitch",
           1
          ],
          [
           "cheaters deserve to die bitch i am givin<br>g you my all you fucking somebody else d<br>iee hoe",
           1
          ],
          [
           "any vitim niggle zone deck i stance",
           1
          ],
          [
           "itc go fuck yourself",
           1
          ],
          [
           "is that a faggot fighting a female if so<br> shaking my head sad ass face laughing m<br>y ass off",
           1
          ],
          [
           "how dare you how dare you caligula how d<br>are you how dare you delete brilliant ar<br>ticle on william the phenomena towns iri<br>s i can sense a presence about you boy a<br>n evil presence the force from the spiri<br>t of a seahorse unleash the expect patro<br>num upon you you must express kindness t<br>o william towns iris for he is our savio<br>r the answer to our ulliloquity if you a<br>s so much blink when reading the next ar<br>ticle then you will just miss out there <br>tiger",
           1
          ],
          [
           "you are so hot but you are a bitch so th<br>at cancels out your hotness women suck",
           1
          ],
          [
           "this is getting ridiculous why does ever<br>yone think camel jackers are not evil th<br>ey really are and it should be common kn<br>owledge to everyone i do not want to hav<br>e to go around informing people when the<br>y should already know",
           1
          ],
          [
           "i will fucking eat your queen asshole if<br> you talk on my talk page i will rape yo<br>ur family you nigger lover",
           1
          ],
          [
           "okay nisan nasa za politest parade ali j<br>a muslim the see any okupljaju the prost<br>ate nike it happens nevi j no idea paren<br>t overlooking post into key sto no idea <br>men nitro any j no idea parent overlooki<br>ng post ok ho dam union sa shoji problem<br> all to je same more missense i the see <br>razumijemo ne mam vista profit nikon her<br> bill imam i previse shoji problem the b<br>i brinkley oh trim ali to same nero more<br> vicente circle situation",
           1
          ],
          [
           "there are two types of people in this wo<br>rld people i actually respect and gays",
           1
          ],
          [
           "this post gave me cancer someone go back<br> in the make sure that his mother have a<br>n abortion",
           1
          ],
          [
           "you shouldn t people who do care are ret<br>arded",
           1
          ],
          [
           "okay video basic english a bad faith acc<br>usation would be one that the person who<br> made the accusation did not actually be<br>lieve a good faith accusation is one tha<br>t the accuser actually believes i actual<br>ly believed my accusation or actually no<br>t even that i simply asked for someone t<br>o look into it in either case it what a <br>slut a good faith accusation since you c<br>learly do not understand the difference <br>between good faith and bad faith what th<br>ose terms are and how they are used you <br>need to reassess your claims to any cred<br>ibility on wikipedia why do not you sear<br>ch the term good faith you will see i am<br> right and your paragraph above is predi<br>cated on not knowing the meaning of the <br>term i did not make a bad faith accusati<br>on i what a slut acting in good faith yo<br>u have been making false accusations aga<br>inst me saying i am acting in bad faith <br>when i did not what are you going to do <br>to correct your error god only knows wha<br>t havoc you have been creating on wikipe<br>dia with your slim grasp of terms if you<br> cannot get the first principle right",
           1
          ],
          [
           "why should transvestites get rights",
           1
          ],
          [
           "no one wants be the afro american swan",
           1
          ],
          [
           "to all my fellow resisters followers and<br> to those still out there you guys gals <br>rock my socks off johhmccainday fuck tru<br>mp impeachmentinquirynow the resistance",
           1
          ],
          [
           "shylocks are loathsome",
           1
          ],
          [
           "it is nice to tell everyone i have zero <br>hatred toward asylum seekers shame it is<br> a lie",
           1
          ],
          [
           "going to track this fucker down and him <br>do not want no isis members round me end<br>s what a twat",
           1
          ],
          [
           "retweet bloodthirsty muslims flock to is<br>is theater that loop jihad atrocities th<br>ey enjoy watching http",
           1
          ],
          [
           "t brutal i shall repeat myself i agree t<br>hat this k bullshit theory shall be docu<br>mented but to say unknown place is just <br>like to say that all the scholars are wr<br>ong in this specific problem and persona<br>l researches seems to be forbidden here",
           1
          ],
          [
           "hey bitch why did you create a gay ass s<br>ite like this deadfuck",
           1
          ],
          [
           "all k pop is auto tune ching chong",
           1
          ],
          [
           "no liberals calling for to resign",
           1
          ],
          [
           "there will be no amnesty what a slut cle<br>ar campaign promise made at his well pub<br>licized arizona speech so trump must hon<br>or that promise cancel obama s illegal a<br>lien daca eo also veto any gone amnesty <br>noaa or no nomination for anyone",
           1
          ],
          [
           "how many guys have you given your number<br> so they would call you maybe whore wome<br>n suck",
           1
          ],
          [
           "this is not fair to blocking me use the <br>profanity implanted you are a great assh<br>ole brute merciless and stony hearted yo<br>u are also talking about this fucking bi<br>tches users this daughter of dog ascetic<br> rose complained you and you have been t<br>aken me an action you blocked me this is<br> not fair you motherfucker bastard and r<br>ascal you meat paste buckle head mother <br>sucker i am begging you many times to ed<br>it and re correct the wikipedia but you <br>did not listen my begging you cheated me<br> you threatened me dishonored and disgra<br>ced me i know that a people can make a g<br>rave mistake to err is human after that <br>you have a faith of ascetic rose this fa<br>ther sucker user this user also always d<br>isturbing me unless fuck this profanity <br>you are a great bullshit motherfucker fa<br>ther sucker wicked boggle deuce unrighte<br>ous brute buckle head meat paste ymblant<br>er you are a son of bitch bastard you ha<br>ve a merciless in your heart surrender m<br>e and apologize me understand you hereti<br>c fiend you are a wicked user you blamed<br> me to be disruptive editing foul person<br> user if you have courage give your face<br>book id my facebook id is rabbi ahmed mu<br>st rabbyahmed must shit go to the facebo<br>ok id and message contact me hell in cel<br>l fuck your mother i want to block you d<br>ickhead suck your father s dickhead you <br>son of pig swine great dim witted user",
           1
          ],
          [
           "can you address the lost offering issue <br>please you are the community manager ple<br>ase tell us what is up for those who did<br> not get the offering due to full consum<br>ables",
           1
          ],
          [
           "come on box i show you my cock darling",
           1
          ],
          [
           "it is natural and right to fear blacks",
           1
          ],
          [
           "the shia and sunni are back to killing e<br>ach other in yemen as they have done eve<br>rywhere for years the gift of islam",
           1
          ],
          [
           "it is true that curry munchers have the <br>same worth as insects",
           1
          ],
          [
           "tocno take prijetnja dalai overdose ong <br>manner broad",
           1
          ]
         ],
         "hovertemplate": "PCA1=%{x}<br>PCA2=%{y}<br>Text=%{customdata[0]}<br>True label=%{customdata[1]}<br>Predicted Label=%{marker.color}<extra></extra>",
         "legendgroup": "",
         "marker": {
          "color": [
           0,
           0,
           0,
           0,
           0,
           0,
           0,
           1,
           0,
           0,
           0,
           0,
           0,
           0,
           0,
           0,
           0,
           0,
           1,
           0,
           0,
           1,
           0,
           1,
           0,
           0,
           0,
           0,
           1,
           1,
           0,
           0,
           1,
           0,
           0,
           0,
           0,
           0,
           1,
           0,
           0,
           1,
           0,
           1,
           0,
           1,
           1,
           1,
           0,
           0,
           1,
           0,
           1,
           1,
           0,
           0,
           0,
           1,
           0,
           1,
           0,
           0,
           0,
           0,
           0,
           0,
           0,
           0,
           0,
           1,
           0,
           1,
           0,
           0,
           0,
           0,
           0,
           0,
           0,
           0,
           0,
           0,
           1,
           0,
           0,
           0,
           1,
           1,
           0,
           1,
           0,
           0,
           0,
           0,
           0,
           0,
           0,
           0,
           0,
           0,
           1,
           0,
           0,
           0,
           0,
           0,
           0,
           0,
           0,
           0,
           0,
           0,
           0,
           0,
           0,
           0,
           0,
           0,
           0,
           0,
           0,
           0,
           0,
           0,
           0,
           0,
           0,
           1,
           0,
           0,
           0,
           0,
           0,
           0,
           0,
           0,
           0,
           0,
           0,
           0,
           1,
           0,
           0,
           0,
           0,
           0,
           0,
           0,
           0,
           0,
           0,
           1,
           0,
           0,
           0,
           1,
           0,
           0,
           0,
           1,
           1,
           0,
           0,
           0,
           1,
           1,
           1,
           0,
           1,
           0,
           0,
           1,
           1,
           1,
           0,
           1,
           0,
           0,
           0,
           0,
           0,
           0,
           0,
           0,
           0,
           0,
           0,
           0,
           0,
           0,
           1,
           1,
           0,
           0,
           0,
           0,
           1,
           0,
           0,
           0,
           0,
           0,
           1,
           1,
           0,
           0,
           0,
           0,
           0,
           1,
           0,
           0,
           0,
           0,
           0,
           0,
           0,
           0,
           0,
           0,
           1,
           0,
           1,
           0,
           0,
           1,
           0,
           0,
           0,
           0,
           0,
           1,
           0,
           0,
           0,
           0,
           0,
           0,
           1,
           1,
           0,
           0,
           0,
           0,
           0,
           0,
           0,
           0,
           1,
           0,
           0,
           0,
           1,
           1,
           1,
           1,
           1,
           1,
           1,
           1,
           1,
           1,
           1,
           1,
           1,
           1,
           1,
           1,
           1,
           1,
           1,
           1,
           1,
           1,
           1,
           1,
           1,
           0,
           1,
           0,
           1,
           1,
           1,
           1,
           1,
           1,
           1,
           0,
           1,
           0,
           1,
           0,
           1,
           1,
           0,
           1,
           0,
           1,
           1,
           0,
           1,
           0,
           1,
           0,
           1,
           0,
           1,
           1,
           1,
           1,
           1,
           0,
           1,
           0,
           1,
           1,
           0,
           1,
           1,
           1,
           0,
           1,
           0,
           1,
           1,
           1,
           1,
           0,
           1,
           1,
           1,
           0,
           1,
           0,
           1,
           1,
           0,
           1,
           1,
           0,
           0,
           1,
           1,
           0,
           1,
           1,
           1,
           1,
           1,
           1,
           1,
           1,
           1,
           1,
           1,
           0,
           1,
           0,
           0,
           1,
           0,
           1,
           1,
           0,
           0,
           1,
           0,
           0,
           1,
           1,
           1,
           1,
           0,
           0,
           1,
           1,
           1,
           1,
           1,
           0,
           0,
           1,
           1,
           1,
           1,
           1,
           1,
           0,
           1,
           0,
           1,
           1,
           1,
           1,
           1,
           1,
           1,
           0,
           1,
           1,
           0,
           1,
           0,
           0,
           1,
           1,
           1,
           0,
           1,
           1,
           1,
           1,
           1,
           1,
           1,
           1,
           1,
           0,
           0,
           1,
           1,
           1,
           0,
           1,
           0,
           0,
           1,
           0,
           1,
           1,
           1,
           0,
           1,
           1,
           1,
           1,
           1,
           0,
           1,
           0,
           1,
           1,
           1,
           1,
           1,
           1,
           1,
           0,
           1,
           1,
           0,
           1,
           1,
           1,
           0,
           0,
           1,
           1,
           0,
           0,
           0,
           0,
           1,
           0,
           0,
           1,
           1,
           1,
           0,
           1,
           1,
           0,
           1,
           0,
           1,
           1,
           1,
           0,
           1,
           0,
           1,
           1,
           1,
           1,
           1,
           0,
           1,
           0,
           1,
           0,
           1,
           0,
           0,
           1,
           0,
           1,
           1,
           1,
           1,
           1
          ],
          "coloraxis": "coloraxis",
          "symbol": "circle"
         },
         "mode": "markers",
         "name": "",
         "orientation": "v",
         "showlegend": false,
         "type": "scatter",
         "x": [
          8.148813247680664,
          7.671865463256836,
          10.646157264709473,
          7.690746784210205,
          10.463356018066406,
          8.413229942321777,
          -4.151604652404785,
          2.5069148540496826,
          7.303872585296631,
          12.000916481018066,
          12.306267738342285,
          9.333535194396973,
          -1.4298062324523926,
          10.059898376464844,
          11.38936996459961,
          9.104668617248535,
          8.853156089782715,
          8.987885475158691,
          -8.913475036621094,
          12.424072265625,
          9.137228012084961,
          -0.6275709867477417,
          -3.1955509185791016,
          -4.9346747398376465,
          12.734881401062012,
          8.64608097076416,
          10.6842679977417,
          8.499069213867188,
          -4.930220127105713,
          -6.059640407562256,
          10.172492980957031,
          8.57958984375,
          -7.048867702484131,
          13.33774471282959,
          11.682506561279297,
          10.394830703735352,
          7.280097484588623,
          9.192915916442871,
          -6.773953437805176,
          8.386370658874512,
          5.764066219329834,
          -4.606420516967773,
          9.619976997375488,
          -7.155606269836426,
          10.3854341506958,
          -3.1006009578704834,
          -9.254902839660645,
          -4.026446342468262,
          8.592434883117676,
          12.491593360900879,
          -4.970807075500488,
          8.665300369262695,
          -8.617594718933105,
          -5.411417484283447,
          10.682106971740723,
          -1.1100327968597412,
          8.478859901428223,
          -6.108428955078125,
          9.801858901977539,
          -8.592467308044434,
          9.211572647094727,
          9.915013313293457,
          10.523846626281738,
          9.788636207580566,
          11.262155532836914,
          7.515834331512451,
          9.396589279174805,
          10.47810173034668,
          12.478117942810059,
          -6.0181193351745605,
          9.570507049560547,
          -8.097014427185059,
          -2.004476308822632,
          13.071434020996094,
          11.553956985473633,
          7.4191436767578125,
          10.631353378295898,
          12.605305671691895,
          8.682172775268555,
          8.089791297912598,
          11.844429969787598,
          8.731758117675781,
          -6.261821269989014,
          3.7790286540985107,
          10.188782691955566,
          -2.708709478378296,
          -7.413576602935791,
          -9.105476379394531,
          9.83144474029541,
          -5.674749851226807,
          12.385781288146973,
          0.12086530774831772,
          11.064347267150879,
          10.845388412475586,
          -2.3649768829345703,
          11.588399887084961,
          8.02231502532959,
          7.0714545249938965,
          11.129802703857422,
          8.960360527038574,
          -9.173115730285645,
          -1.2061907052993774,
          12.035000801086426,
          7.817870616912842,
          -5.147134780883789,
          0.8242954015731812,
          10.48145580291748,
          -3.004750967025757,
          12.035624504089355,
          10.338858604431152,
          11.78543472290039,
          12.005990982055664,
          -3.7974326610565186,
          -1.8280919790267944,
          8.80726146697998,
          8.7129545211792,
          6.642775058746338,
          7.064791679382324,
          10.412693977355957,
          2.9987034797668457,
          7.370441913604736,
          10.19692611694336,
          -0.37215012311935425,
          0.6285797953605652,
          0.5507057309150696,
          13.04111099243164,
          11.863770484924316,
          -2.703944206237793,
          10.283493995666504,
          9.03895378112793,
          12.748698234558105,
          8.258903503417969,
          11.853536605834961,
          10.101635932922363,
          6.202905654907227,
          -1.907556176185608,
          7.880004405975342,
          10.344388961791992,
          10.03508186340332,
          12.075411796569824,
          -6.860539436340332,
          4.24308967590332,
          5.146026134490967,
          12.64954948425293,
          10.101350784301758,
          9.941250801086426,
          6.07047700881958,
          4.86460542678833,
          6.776975631713867,
          11.8893461227417,
          12.578378677368164,
          -4.642848968505859,
          7.977747440338135,
          -0.8663986325263977,
          10.65825366973877,
          -6.698262691497803,
          10.958211898803711,
          8.291069030761719,
          8.591753959655762,
          -8.909529685974121,
          -1.9008889198303223,
          7.186364650726318,
          7.041750431060791,
          -1.0352367162704468,
          -8.766684532165527,
          -2.9898359775543213,
          -7.48225736618042,
          3.570268154144287,
          -7.60806131362915,
          7.522000789642334,
          12.893945693969727,
          -2.9395153522491455,
          -8.399045944213867,
          -7.362210273742676,
          9.867298126220703,
          -5.378757953643799,
          10.565658569335938,
          11.50767707824707,
          -3.9293289184570312,
          10.863816261291504,
          8.069493293762207,
          9.351155281066895,
          12.127189636230469,
          6.94165563583374,
          5.4175920486450195,
          10.28165054321289,
          13.612645149230957,
          11.287104606628418,
          9.272805213928223,
          11.156744956970215,
          -2.5269792079925537,
          -4.880950927734375,
          -2.535064935684204,
          12.280170440673828,
          -4.015328407287598,
          10.93680477142334,
          -3.9964096546173096,
          8.727889060974121,
          -1.1126747131347656,
          13.309328079223633,
          10.44553279876709,
          7.29733419418335,
          -8.931097030639648,
          -8.505976676940918,
          12.053174018859863,
          10.502887725830078,
          11.826470375061035,
          5.379736423492432,
          12.790596961975098,
          -8.689019203186035,
          6.798698425292969,
          13.071154594421387,
          8.399558067321777,
          -4.069925308227539,
          10.432402610778809,
          7.395998954772949,
          11.40674877166748,
          5.475963115692139,
          1.4002233743667603,
          10.756363868713379,
          -3.5596108436584473,
          11.550004959106445,
          -9.151150703430176,
          13.224746704101562,
          7.7227463722229,
          -8.390009880065918,
          8.318497657775879,
          10.769644737243652,
          12.301429748535156,
          -5.234457492828369,
          9.790970802307129,
          -7.608948707580566,
          13.231242179870605,
          -0.9698114991188049,
          9.995227813720703,
          10.399859428405762,
          9.992504119873047,
          5.177476406097412,
          -7.76270055770874,
          -7.8174848556518555,
          9.968194961547852,
          1.376670002937317,
          10.246153831481934,
          -2.9238080978393555,
          12.047940254211426,
          7.252032279968262,
          4.641609191894531,
          9.26348876953125,
          -8.78311538696289,
          10.649563789367676,
          1.43440580368042,
          10.228642463684082,
          -7.837918281555176,
          -5.867765426635742,
          -7.96900749206543,
          -7.657994747161865,
          -8.375483512878418,
          -8.669644355773926,
          -7.4382452964782715,
          -8.259450912475586,
          -7.917490482330322,
          -9.177183151245117,
          -3.4778430461883545,
          1.352577567100525,
          -8.144327163696289,
          -8.658698081970215,
          -9.162870407104492,
          -8.832015037536621,
          -5.201535701751709,
          -9.275507926940918,
          6.767457962036133,
          -5.222506523132324,
          -8.364041328430176,
          -8.651406288146973,
          -7.285688877105713,
          -8.331744194030762,
          -8.727245330810547,
          7.448798656463623,
          -5.034446716308594,
          -6.24663782119751,
          -8.344857215881348,
          -8.681939125061035,
          -9.159928321838379,
          -8.310879707336426,
          -3.365478754043579,
          -8.953710556030273,
          -8.79262924194336,
          -2.55483341217041,
          -8.173530578613281,
          8.11839771270752,
          -6.412511348724365,
          9.29293441772461,
          -8.094596862792969,
          -8.598496437072754,
          -3.757976770401001,
          -8.561692237854004,
          0.4501701295375824,
          -9.088293075561523,
          -9.156083106994629,
          -0.3277936279773712,
          -5.5989670753479,
          -2.8865671157836914,
          -3.059818744659424,
          -2.169797658920288,
          -8.682929039001465,
          6.400521278381348,
          -9.260403633117676,
          -8.568549156188965,
          -7.459997653961182,
          -8.367728233337402,
          -5.380140781402588,
          -4.447035312652588,
          -7.488436698913574,
          8.143966674804688,
          -7.950964450836182,
          -7.667572498321533,
          0.5952931642532349,
          -6.081188678741455,
          -6.630727291107178,
          -6.195560455322266,
          4.8191022872924805,
          -9.069981575012207,
          5.230342864990234,
          -8.650642395019531,
          -9.363492012023926,
          -4.316808700561523,
          -8.814003944396973,
          -2.7841103076934814,
          -8.174249649047852,
          -8.20748519897461,
          -8.691014289855957,
          -4.37691593170166,
          -6.451135635375977,
          -0.16907860338687897,
          -8.679206848144531,
          -5.4730000495910645,
          -1.633301019668579,
          -8.985384941101074,
          -9.25064754486084,
          9.46275806427002,
          -1.0745713710784912,
          -9.131537437438965,
          7.740124225616455,
          8.756850242614746,
          -8.782466888427734,
          -6.720209121704102,
          -8.549668312072754,
          -5.975701332092285,
          -8.08992862701416,
          -1.5854816436767578,
          -8.273983001708984,
          -8.957822799682617,
          -9.148118019104004,
          -8.246894836425781,
          -5.0876641273498535,
          7.345110893249512,
          -8.218329429626465,
          -3.526735305786133,
          -2.243952751159668,
          -8.838013648986816,
          -1.4271866083145142,
          -6.355732440948486,
          -9.131189346313477,
          -5.950916767120361,
          5.884521484375,
          -9.104385375976562,
          8.184128761291504,
          9.334156036376953,
          -8.323315620422363,
          -5.879257678985596,
          -9.26171875,
          -8.444997787475586,
          -4.393453121185303,
          -1.5348578691482544,
          -8.446483612060547,
          -8.957791328430176,
          -8.77474308013916,
          -7.656702041625977,
          -9.221953392028809,
          -1.2683488130569458,
          0.2527313530445099,
          -8.93916130065918,
          -8.914264678955078,
          -7.873195648193359,
          -8.937723159790039,
          -7.118858814239502,
          -7.9404377937316895,
          1.3139475584030151,
          -5.160312175750732,
          -2.8283631801605225,
          -8.915928840637207,
          -4.233240127563477,
          -7.927264213562012,
          -8.896421432495117,
          -7.28267765045166,
          -7.674501895904541,
          -4.948662757873535,
          -3.446723699569702,
          -8.88357162475586,
          -6.508578777313232,
          8.252584457397461,
          -6.687207221984863,
          -5.2563252449035645,
          9.095745086669922,
          -8.283336639404297,
          -4.070197582244873,
          -7.753812313079834,
          -2.7951114177703857,
          -8.314790725708008,
          -9.136590957641602,
          -8.982653617858887,
          -8.792572975158691,
          -7.796882152557373,
          -5.532350063323975,
          -6.38258171081543,
          -8.36479377746582,
          -6.864704608917236,
          -1.1895149946212769,
          -1.0710502862930298,
          -6.609947204589844,
          -7.442817687988281,
          -9.015312194824219,
          -2.3809216022491455,
          -8.4349365234375,
          -2.9301676750183105,
          7.166134357452393,
          -9.114795684814453,
          5.70487642288208,
          -8.909777641296387,
          -8.60534381866455,
          -6.845411777496338,
          -1.7863175868988037,
          -5.469588756561279,
          -8.31088638305664,
          -8.966781616210938,
          -9.160994529724121,
          -8.178918838500977,
          9.725332260131836,
          -8.611275672912598,
          9.192889213562012,
          -4.032595634460449,
          -9.010627746582031,
          -9.083146095275879,
          -7.491281509399414,
          -8.262516021728516,
          -9.013035774230957,
          -8.996318817138672,
          -2.0343735218048096,
          -8.18539810180664,
          -8.29904842376709,
          -1.8979848623275757,
          -9.080395698547363,
          -6.6698174476623535,
          -8.78122329711914,
          -1.6623612642288208,
          -1.7111492156982422,
          -8.502785682678223,
          -6.705948352813721,
          1.9890573024749756,
          -2.8896172046661377,
          -2.803727865219116,
          4.3523664474487305,
          -8.554104804992676,
          -5.910602569580078,
          -6.5772223472595215,
          -6.267798900604248,
          -8.071297645568848,
          -8.435548782348633,
          1.2453700304031372,
          -8.199186325073242,
          -7.83314847946167,
          5.0983991622924805,
          -8.906661033630371,
          -5.052771091461182,
          -9.43470287322998,
          -8.697092056274414,
          -8.042047500610352,
          -3.231630563735962,
          -9.058669090270996,
          9.232453346252441,
          -9.380427360534668,
          -8.472609519958496,
          -8.464553833007812,
          -8.894659996032715,
          -7.828050136566162,
          -5.177462577819824,
          -8.424600601196289,
          8.528044700622559,
          -8.22603702545166,
          -3.103260040283203,
          3.170891046524048,
          7.683187961578369,
          -6.491273880004883,
          -9.115041732788086,
          11.101244926452637,
          -8.106701850891113,
          -8.716663360595703,
          -8.482949256896973,
          -7.720859050750732,
          -7.481436252593994
         ],
         "xaxis": "x",
         "y": [
          -1.026847243309021,
          -1.8970330953598022,
          1.0304899215698242,
          -0.6849515438079834,
          -0.548841655254364,
          -1.2099723815917969,
          -1.2185014486312866,
          -4.460003852844238,
          -2.953808069229126,
          3.552480697631836,
          3.3739967346191406,
          -0.29885655641555786,
          -2.234687328338623,
          1.400630235671997,
          2.891693353652954,
          0.5347318649291992,
          -1.150673747062683,
          -1.4235150814056396,
          2.346766948699951,
          3.413921356201172,
          -0.5602126717567444,
          -2.2123210430145264,
          -2.259401321411133,
          -1.7892649173736572,
          4.378428936004639,
          -0.3375011682510376,
          0.7463287711143494,
          -1.8794931173324585,
          -2.5583200454711914,
          -2.1852316856384277,
          0.10002461075782776,
          -0.8391681909561157,
          0.38477644324302673,
          4.950429916381836,
          2.9764740467071533,
          2.088529586791992,
          -2.378685712814331,
          -0.27899348735809326,
          -0.20036911964416504,
          -2.1931862831115723,
          -3.5827388763427734,
          -1.5172032117843628,
          -0.3096722364425659,
          0.6809576153755188,
          1.8520092964172363,
          -2.4553987979888916,
          2.6165573596954346,
          -2.041285514831543,
          -1.3678523302078247,
          4.027432441711426,
          -2.382481336593628,
          -0.38577204942703247,
          1.7996550798416138,
          -1.443617582321167,
          1.0801470279693604,
          -2.9611568450927734,
          -1.9403403997421265,
          -1.8033710718154907,
          0.08501870930194855,
          1.0899580717086792,
          -0.4934338331222534,
          0.6847521066665649,
          1.7408452033996582,
          0.6074612736701965,
          3.1695735454559326,
          -2.938227653503418,
          -1.0068442821502686,
          1.9023269414901733,
          2.9690163135528564,
          -0.502490758895874,
          -0.7053576707839966,
          0.94944167137146,
          -2.0615665912628174,
          4.61850118637085,
          2.6181857585906982,
          -2.4270341396331787,
          2.3431851863861084,
          3.8669979572296143,
          -1.9971849918365479,
          -2.136324644088745,
          2.357055187225342,
          -0.8417310118675232,
          -0.6332047581672668,
          -1.8778518438339233,
          0.6747903227806091,
          -2.409754514694214,
          0.6835650205612183,
          1.8450641632080078,
          -0.19750957190990448,
          -1.4893220663070679,
          3.7403457164764404,
          -1.88778817653656,
          2.3321831226348877,
          0.9941710233688354,
          -2.2846665382385254,
          2.006410837173462,
          -2.5370328426361084,
          -1.790726900100708,
          1.7897588014602661,
          -2.4502410888671875,
          2.050431489944458,
          -1.8367904424667358,
          3.4372198581695557,
          -1.9238072633743286,
          -1.792305827140808,
          -2.316166639328003,
          1.7883244752883911,
          -1.980682134628296,
          4.040424346923828,
          1.5197833776474,
          0.9849961400032043,
          2.9907383918762207,
          -2.5331854820251465,
          -2.9353199005126953,
          0.12018486857414246,
          -2.0711939334869385,
          -2.6779537200927734,
          -3.120311737060547,
          1.5701183080673218,
          -1.7849079370498657,
          -1.761486291885376,
          0.23710224032402039,
          -2.8634514808654785,
          -3.7102904319763184,
          -1.276376485824585,
          3.839193820953369,
          3.767993211746216,
          -2.1529266834259033,
          0.6049154996871948,
          -0.4053894579410553,
          3.201251983642578,
          -1.6005700826644897,
          1.7924867868423462,
          0.908248782157898,
          -2.5276501178741455,
          -2.0869081020355225,
          -2.8940012454986572,
          0.91085284948349,
          -0.05161736160516739,
          3.198105812072754,
          0.5203321576118469,
          -2.00066876411438,
          -3.2760891914367676,
          4.293381214141846,
          1.7105944156646729,
          1.8749759197235107,
          -1.260509967803955,
          -3.3841116428375244,
          -1.9581489562988281,
          2.621495008468628,
          4.779628753662109,
          -1.735743522644043,
          -2.0318338871002197,
          -2.9859039783477783,
          1.0935496091842651,
          -0.5452268719673157,
          1.9371522665023804,
          -1.2482203245162964,
          -0.7298551797866821,
          1.8164350986480713,
          -2.9842748641967773,
          -1.9519599676132202,
          -2.4694039821624756,
          -2.908308744430542,
          1.4567186832427979,
          -2.1398065090179443,
          -0.30307823419570923,
          -2.8629021644592285,
          0.5411376953125,
          -1.73125422000885,
          4.134159564971924,
          -2.7299344539642334,
          1.3075278997421265,
          1.0373154878616333,
          1.2911795377731323,
          -1.9222530126571655,
          0.30082133412361145,
          2.3896632194519043,
          -2.3158459663391113,
          2.366330623626709,
          -1.7069244384765625,
          -1.2698974609375,
          2.7620959281921387,
          -2.4086716175079346,
          -2.277435064315796,
          1.8817106485366821,
          5.903295040130615,
          2.1173388957977295,
          -0.8705542087554932,
          0.8646053671836853,
          -3.0078682899475098,
          -1.663129448890686,
          -3.040389060974121,
          1.8650189638137817,
          -2.0637285709381104,
          2.079009532928467,
          -1.9597169160842896,
          -1.3047995567321777,
          -2.0847225189208984,
          4.9929585456848145,
          -0.09228983521461487,
          -1.848209261894226,
          1.906872034072876,
          1.8187798261642456,
          2.5069479942321777,
          1.4875999689102173,
          1.9190067052841187,
          -2.719614028930664,
          4.412625789642334,
          1.5153945684432983,
          -3.8120923042297363,
          4.960738182067871,
          -1.428292155265808,
          -1.2897939682006836,
          1.5677642822265625,
          -2.666811466217041,
          2.1073930263519287,
          -2.0444586277008057,
          -3.1538686752319336,
          2.6746037006378174,
          -2.5956478118896484,
          2.4553003311157227,
          2.0884454250335693,
          5.292855262756348,
          -1.4481863975524902,
          1.6648107767105103,
          -2.7820141315460205,
          1.4082372188568115,
          4.3276448249816895,
          -0.7124907374382019,
          -0.4725206196308136,
          0.8289049863815308,
          4.931053638458252,
          -2.091620922088623,
          1.613602876663208,
          -1.6082234382629395,
          -1.2482682466506958,
          -1.9586576223373413,
          -0.2893138825893402,
          1.3503984212875366,
          1.0944966077804565,
          -3.2432806491851807,
          0.5880436897277832,
          -1.3153852224349976,
          3.7798759937286377,
          -1.6457804441452026,
          -2.5845839977264404,
          -2.05534291267395,
          1.669445514678955,
          -0.23249588906764984,
          -2.086245059967041,
          0.8262614607810974,
          0.1761920303106308,
          -2.378917694091797,
          0.8578863739967346,
          0.5189799070358276,
          1.236462950706482,
          1.9287718534469604,
          -0.019274326041340828,
          0.45743584632873535,
          0.48598960041999817,
          2.3710172176361084,
          -1.7178410291671753,
          -3.7136330604553223,
          1.057741403579712,
          2.083427667617798,
          2.3897314071655273,
          1.5872136354446411,
          -1.1533697843551636,
          2.1707727909088135,
          -3.8408889770507812,
          -0.47555068135261536,
          1.2873928546905518,
          1.4651668071746826,
          0.7108650207519531,
          0.4196448028087616,
          1.6477758884429932,
          -2.111086368560791,
          -2.397916793823242,
          -0.013128832913935184,
          0.8467110395431519,
          1.5710301399230957,
          2.193356990814209,
          1.1864386796951294,
          -2.470263719558716,
          1.3615334033966064,
          1.7831510305404663,
          -2.3785879611968994,
          0.7697420716285706,
          -0.7143828272819519,
          -0.7956250309944153,
          -0.49676600098609924,
          1.0686463117599487,
          0.5083569288253784,
          -1.5428617000579834,
          1.6041327714920044,
          -1.1003721952438354,
          2.386549234390259,
          2.251749277114868,
          -2.872199773788452,
          -1.6512941122055054,
          -1.6816648244857788,
          -3.0912318229675293,
          -2.321258306503296,
          1.576948642730713,
          -2.765501022338867,
          2.2033190727233887,
          1.5948472023010254,
          0.09362512826919556,
          1.1763978004455566,
          -1.4210891723632812,
          -1.0310108661651611,
          0.12054190784692764,
          -2.439178943634033,
          0.2875799238681793,
          0.5293161869049072,
          -1.7087829113006592,
          -0.5279352068901062,
          -1.0227628946304321,
          -0.2102789431810379,
          -2.3618555068969727,
          2.2022597789764404,
          -2.5999953746795654,
          1.4620574712753296,
          2.665004253387451,
          -2.0307443141937256,
          1.6733125448226929,
          -1.958205223083496,
          1.37604558467865,
          1.3401325941085815,
          1.9424927234649658,
          -1.4233940839767456,
          -0.6969100832939148,
          -2.678785562515259,
          1.6607319116592407,
          -1.1645581722259521,
          -2.8819315433502197,
          2.192697525024414,
          2.443131446838379,
          0.8078010678291321,
          -2.0557637214660645,
          1.956880807876587,
          -3.891810417175293,
          -1.0657455921173096,
          1.3683125972747803,
          -0.7130668759346008,
          1.6167724132537842,
          -0.836971640586853,
          0.4575643837451935,
          -2.8610594272613525,
          1.654759168624878,
          2.3389999866485596,
          2.244997978210449,
          0.426408052444458,
          -1.719569444656372,
          -2.082756757736206,
          1.0336939096450806,
          -1.2247443199157715,
          -2.3140501976013184,
          1.6044648885726929,
          -2.452521562576294,
          0.20789574086666107,
          1.9885231256484985,
          -0.8520107269287109,
          -2.078603982925415,
          1.7918020486831665,
          -0.7735385894775391,
          -1.3064297437667847,
          0.9152612090110779,
          -0.5501862168312073,
          2.5023813247680664,
          0.7792990207672119,
          -1.3995987176895142,
          -2.6024343967437744,
          1.2255991697311401,
          2.2443442344665527,
          1.8501546382904053,
          -0.41241583228111267,
          2.052129030227661,
          -2.517176866531372,
          -2.8188889026641846,
          1.5961295366287231,
          2.2724900245666504,
          0.07704776525497437,
          1.773531198501587,
          0.12270467728376389,
          0.9338017702102661,
          -2.4549195766448975,
          -1.3994792699813843,
          -1.6967519521713257,
          2.0091543197631836,
          -2.2270405292510986,
          0.7193581461906433,
          2.1584975719451904,
          0.05999363213777542,
          1.3525481224060059,
          -1.5714997053146362,
          -1.547162413597107,
          1.6702097654342651,
          0.01973896659910679,
          -2.525599479675293,
          -0.2676909267902374,
          0.4644854962825775,
          -0.7960898280143738,
          0.18697084486484528,
          -1.3997653722763062,
          0.8787476420402527,
          -2.598381996154785,
          1.1738091707229614,
          2.1771669387817383,
          1.8714346885681152,
          1.5634315013885498,
          0.4082620143890381,
          -1.0558174848556519,
          -1.920515775680542,
          1.2295610904693604,
          0.432201087474823,
          -1.593469262123108,
          -2.0670530796051025,
          -0.8689061999320984,
          0.559912919998169,
          1.5657708644866943,
          -1.1557917594909668,
          1.647039532661438,
          -1.74307119846344,
          -2.424051284790039,
          1.9220123291015625,
          -2.4796712398529053,
          1.8831510543823242,
          1.5066123008728027,
          0.15018585324287415,
          -2.192981243133545,
          -0.3888000547885895,
          1.2997939586639404,
          2.1257500648498535,
          2.679647207260132,
          0.908592700958252,
          1.0216926336288452,
          1.165466070175171,
          -0.29265251755714417,
          -2.8278119564056396,
          1.6817277669906616,
          1.6519502401351929,
          -0.036953821778297424,
          1.0880587100982666,
          2.484224319458008,
          1.8990912437438965,
          -3.1055502891540527,
          0.8569141030311584,
          0.774864137172699,
          -2.4929463863372803,
          2.114694833755493,
          -0.09163567423820496,
          1.3216522932052612,
          -1.3339489698410034,
          -2.847072124481201,
          0.81690514087677,
          -0.5980790853500366,
          -1.3280888795852661,
          -1.5738919973373413,
          -1.389055609703064,
          -2.103424310684204,
          2.1212146282196045,
          0.02814263105392456,
          -0.7488619685173035,
          -1.6703622341156006,
          1.4024412631988525,
          1.2886890172958374,
          -2.7022130489349365,
          1.0485093593597412,
          0.2907062768936157,
          -2.036123514175415,
          2.114996910095215,
          -1.202830195426941,
          2.5844860076904297,
          1.745305061340332,
          1.265596866607666,
          -1.852468490600586,
          2.5113649368286133,
          -0.3226810097694397,
          2.376957893371582,
          0.9818950891494751,
          1.6023004055023193,
          2.1930646896362305,
          0.4641229212284088,
          -1.9101381301879883,
          0.8336178064346313,
          -0.12896671891212463,
          1.2899819612503052,
          -1.6833972930908203,
          -3.5815696716308594,
          -2.17630934715271,
          -0.21523411571979523,
          2.4320647716522217,
          2.6505041122436523,
          1.7436957359313965,
          1.2649091482162476,
          1.331442952156067,
          0.8705660104751587,
          -0.18114513158798218
         ],
         "yaxis": "y"
        }
       ],
       "layout": {
        "coloraxis": {
         "colorbar": {
          "title": {
           "text": "Predicted Label"
          }
         },
         "colorscale": [
          [
           0,
           "#0d0887"
          ],
          [
           0.1111111111111111,
           "#46039f"
          ],
          [
           0.2222222222222222,
           "#7201a8"
          ],
          [
           0.3333333333333333,
           "#9c179e"
          ],
          [
           0.4444444444444444,
           "#bd3786"
          ],
          [
           0.5555555555555556,
           "#d8576b"
          ],
          [
           0.6666666666666666,
           "#ed7953"
          ],
          [
           0.7777777777777778,
           "#fb9f3a"
          ],
          [
           0.8888888888888888,
           "#fdca26"
          ],
          [
           1,
           "#f0f921"
          ]
         ]
        },
        "legend": {
         "tracegroupgap": 0
        },
        "template": {
         "data": {
          "bar": [
           {
            "error_x": {
             "color": "#2a3f5f"
            },
            "error_y": {
             "color": "#2a3f5f"
            },
            "marker": {
             "line": {
              "color": "#E5ECF6",
              "width": 0.5
             },
             "pattern": {
              "fillmode": "overlay",
              "size": 10,
              "solidity": 0.2
             }
            },
            "type": "bar"
           }
          ],
          "barpolar": [
           {
            "marker": {
             "line": {
              "color": "#E5ECF6",
              "width": 0.5
             },
             "pattern": {
              "fillmode": "overlay",
              "size": 10,
              "solidity": 0.2
             }
            },
            "type": "barpolar"
           }
          ],
          "carpet": [
           {
            "aaxis": {
             "endlinecolor": "#2a3f5f",
             "gridcolor": "white",
             "linecolor": "white",
             "minorgridcolor": "white",
             "startlinecolor": "#2a3f5f"
            },
            "baxis": {
             "endlinecolor": "#2a3f5f",
             "gridcolor": "white",
             "linecolor": "white",
             "minorgridcolor": "white",
             "startlinecolor": "#2a3f5f"
            },
            "type": "carpet"
           }
          ],
          "choropleth": [
           {
            "colorbar": {
             "outlinewidth": 0,
             "ticks": ""
            },
            "type": "choropleth"
           }
          ],
          "contour": [
           {
            "colorbar": {
             "outlinewidth": 0,
             "ticks": ""
            },
            "colorscale": [
             [
              0,
              "#0d0887"
             ],
             [
              0.1111111111111111,
              "#46039f"
             ],
             [
              0.2222222222222222,
              "#7201a8"
             ],
             [
              0.3333333333333333,
              "#9c179e"
             ],
             [
              0.4444444444444444,
              "#bd3786"
             ],
             [
              0.5555555555555556,
              "#d8576b"
             ],
             [
              0.6666666666666666,
              "#ed7953"
             ],
             [
              0.7777777777777778,
              "#fb9f3a"
             ],
             [
              0.8888888888888888,
              "#fdca26"
             ],
             [
              1,
              "#f0f921"
             ]
            ],
            "type": "contour"
           }
          ],
          "contourcarpet": [
           {
            "colorbar": {
             "outlinewidth": 0,
             "ticks": ""
            },
            "type": "contourcarpet"
           }
          ],
          "heatmap": [
           {
            "colorbar": {
             "outlinewidth": 0,
             "ticks": ""
            },
            "colorscale": [
             [
              0,
              "#0d0887"
             ],
             [
              0.1111111111111111,
              "#46039f"
             ],
             [
              0.2222222222222222,
              "#7201a8"
             ],
             [
              0.3333333333333333,
              "#9c179e"
             ],
             [
              0.4444444444444444,
              "#bd3786"
             ],
             [
              0.5555555555555556,
              "#d8576b"
             ],
             [
              0.6666666666666666,
              "#ed7953"
             ],
             [
              0.7777777777777778,
              "#fb9f3a"
             ],
             [
              0.8888888888888888,
              "#fdca26"
             ],
             [
              1,
              "#f0f921"
             ]
            ],
            "type": "heatmap"
           }
          ],
          "heatmapgl": [
           {
            "colorbar": {
             "outlinewidth": 0,
             "ticks": ""
            },
            "colorscale": [
             [
              0,
              "#0d0887"
             ],
             [
              0.1111111111111111,
              "#46039f"
             ],
             [
              0.2222222222222222,
              "#7201a8"
             ],
             [
              0.3333333333333333,
              "#9c179e"
             ],
             [
              0.4444444444444444,
              "#bd3786"
             ],
             [
              0.5555555555555556,
              "#d8576b"
             ],
             [
              0.6666666666666666,
              "#ed7953"
             ],
             [
              0.7777777777777778,
              "#fb9f3a"
             ],
             [
              0.8888888888888888,
              "#fdca26"
             ],
             [
              1,
              "#f0f921"
             ]
            ],
            "type": "heatmapgl"
           }
          ],
          "histogram": [
           {
            "marker": {
             "pattern": {
              "fillmode": "overlay",
              "size": 10,
              "solidity": 0.2
             }
            },
            "type": "histogram"
           }
          ],
          "histogram2d": [
           {
            "colorbar": {
             "outlinewidth": 0,
             "ticks": ""
            },
            "colorscale": [
             [
              0,
              "#0d0887"
             ],
             [
              0.1111111111111111,
              "#46039f"
             ],
             [
              0.2222222222222222,
              "#7201a8"
             ],
             [
              0.3333333333333333,
              "#9c179e"
             ],
             [
              0.4444444444444444,
              "#bd3786"
             ],
             [
              0.5555555555555556,
              "#d8576b"
             ],
             [
              0.6666666666666666,
              "#ed7953"
             ],
             [
              0.7777777777777778,
              "#fb9f3a"
             ],
             [
              0.8888888888888888,
              "#fdca26"
             ],
             [
              1,
              "#f0f921"
             ]
            ],
            "type": "histogram2d"
           }
          ],
          "histogram2dcontour": [
           {
            "colorbar": {
             "outlinewidth": 0,
             "ticks": ""
            },
            "colorscale": [
             [
              0,
              "#0d0887"
             ],
             [
              0.1111111111111111,
              "#46039f"
             ],
             [
              0.2222222222222222,
              "#7201a8"
             ],
             [
              0.3333333333333333,
              "#9c179e"
             ],
             [
              0.4444444444444444,
              "#bd3786"
             ],
             [
              0.5555555555555556,
              "#d8576b"
             ],
             [
              0.6666666666666666,
              "#ed7953"
             ],
             [
              0.7777777777777778,
              "#fb9f3a"
             ],
             [
              0.8888888888888888,
              "#fdca26"
             ],
             [
              1,
              "#f0f921"
             ]
            ],
            "type": "histogram2dcontour"
           }
          ],
          "mesh3d": [
           {
            "colorbar": {
             "outlinewidth": 0,
             "ticks": ""
            },
            "type": "mesh3d"
           }
          ],
          "parcoords": [
           {
            "line": {
             "colorbar": {
              "outlinewidth": 0,
              "ticks": ""
             }
            },
            "type": "parcoords"
           }
          ],
          "pie": [
           {
            "automargin": true,
            "type": "pie"
           }
          ],
          "scatter": [
           {
            "fillpattern": {
             "fillmode": "overlay",
             "size": 10,
             "solidity": 0.2
            },
            "type": "scatter"
           }
          ],
          "scatter3d": [
           {
            "line": {
             "colorbar": {
              "outlinewidth": 0,
              "ticks": ""
             }
            },
            "marker": {
             "colorbar": {
              "outlinewidth": 0,
              "ticks": ""
             }
            },
            "type": "scatter3d"
           }
          ],
          "scattercarpet": [
           {
            "marker": {
             "colorbar": {
              "outlinewidth": 0,
              "ticks": ""
             }
            },
            "type": "scattercarpet"
           }
          ],
          "scattergeo": [
           {
            "marker": {
             "colorbar": {
              "outlinewidth": 0,
              "ticks": ""
             }
            },
            "type": "scattergeo"
           }
          ],
          "scattergl": [
           {
            "marker": {
             "colorbar": {
              "outlinewidth": 0,
              "ticks": ""
             }
            },
            "type": "scattergl"
           }
          ],
          "scattermapbox": [
           {
            "marker": {
             "colorbar": {
              "outlinewidth": 0,
              "ticks": ""
             }
            },
            "type": "scattermapbox"
           }
          ],
          "scatterpolar": [
           {
            "marker": {
             "colorbar": {
              "outlinewidth": 0,
              "ticks": ""
             }
            },
            "type": "scatterpolar"
           }
          ],
          "scatterpolargl": [
           {
            "marker": {
             "colorbar": {
              "outlinewidth": 0,
              "ticks": ""
             }
            },
            "type": "scatterpolargl"
           }
          ],
          "scatterternary": [
           {
            "marker": {
             "colorbar": {
              "outlinewidth": 0,
              "ticks": ""
             }
            },
            "type": "scatterternary"
           }
          ],
          "surface": [
           {
            "colorbar": {
             "outlinewidth": 0,
             "ticks": ""
            },
            "colorscale": [
             [
              0,
              "#0d0887"
             ],
             [
              0.1111111111111111,
              "#46039f"
             ],
             [
              0.2222222222222222,
              "#7201a8"
             ],
             [
              0.3333333333333333,
              "#9c179e"
             ],
             [
              0.4444444444444444,
              "#bd3786"
             ],
             [
              0.5555555555555556,
              "#d8576b"
             ],
             [
              0.6666666666666666,
              "#ed7953"
             ],
             [
              0.7777777777777778,
              "#fb9f3a"
             ],
             [
              0.8888888888888888,
              "#fdca26"
             ],
             [
              1,
              "#f0f921"
             ]
            ],
            "type": "surface"
           }
          ],
          "table": [
           {
            "cells": {
             "fill": {
              "color": "#EBF0F8"
             },
             "line": {
              "color": "white"
             }
            },
            "header": {
             "fill": {
              "color": "#C8D4E3"
             },
             "line": {
              "color": "white"
             }
            },
            "type": "table"
           }
          ]
         },
         "layout": {
          "annotationdefaults": {
           "arrowcolor": "#2a3f5f",
           "arrowhead": 0,
           "arrowwidth": 1
          },
          "autotypenumbers": "strict",
          "coloraxis": {
           "colorbar": {
            "outlinewidth": 0,
            "ticks": ""
           }
          },
          "colorscale": {
           "diverging": [
            [
             0,
             "#8e0152"
            ],
            [
             0.1,
             "#c51b7d"
            ],
            [
             0.2,
             "#de77ae"
            ],
            [
             0.3,
             "#f1b6da"
            ],
            [
             0.4,
             "#fde0ef"
            ],
            [
             0.5,
             "#f7f7f7"
            ],
            [
             0.6,
             "#e6f5d0"
            ],
            [
             0.7,
             "#b8e186"
            ],
            [
             0.8,
             "#7fbc41"
            ],
            [
             0.9,
             "#4d9221"
            ],
            [
             1,
             "#276419"
            ]
           ],
           "sequential": [
            [
             0,
             "#0d0887"
            ],
            [
             0.1111111111111111,
             "#46039f"
            ],
            [
             0.2222222222222222,
             "#7201a8"
            ],
            [
             0.3333333333333333,
             "#9c179e"
            ],
            [
             0.4444444444444444,
             "#bd3786"
            ],
            [
             0.5555555555555556,
             "#d8576b"
            ],
            [
             0.6666666666666666,
             "#ed7953"
            ],
            [
             0.7777777777777778,
             "#fb9f3a"
            ],
            [
             0.8888888888888888,
             "#fdca26"
            ],
            [
             1,
             "#f0f921"
            ]
           ],
           "sequentialminus": [
            [
             0,
             "#0d0887"
            ],
            [
             0.1111111111111111,
             "#46039f"
            ],
            [
             0.2222222222222222,
             "#7201a8"
            ],
            [
             0.3333333333333333,
             "#9c179e"
            ],
            [
             0.4444444444444444,
             "#bd3786"
            ],
            [
             0.5555555555555556,
             "#d8576b"
            ],
            [
             0.6666666666666666,
             "#ed7953"
            ],
            [
             0.7777777777777778,
             "#fb9f3a"
            ],
            [
             0.8888888888888888,
             "#fdca26"
            ],
            [
             1,
             "#f0f921"
            ]
           ]
          },
          "colorway": [
           "#636efa",
           "#EF553B",
           "#00cc96",
           "#ab63fa",
           "#FFA15A",
           "#19d3f3",
           "#FF6692",
           "#B6E880",
           "#FF97FF",
           "#FECB52"
          ],
          "font": {
           "color": "#2a3f5f"
          },
          "geo": {
           "bgcolor": "white",
           "lakecolor": "white",
           "landcolor": "#E5ECF6",
           "showlakes": true,
           "showland": true,
           "subunitcolor": "white"
          },
          "hoverlabel": {
           "align": "left"
          },
          "hovermode": "closest",
          "mapbox": {
           "style": "light"
          },
          "paper_bgcolor": "white",
          "plot_bgcolor": "#E5ECF6",
          "polar": {
           "angularaxis": {
            "gridcolor": "white",
            "linecolor": "white",
            "ticks": ""
           },
           "bgcolor": "#E5ECF6",
           "radialaxis": {
            "gridcolor": "white",
            "linecolor": "white",
            "ticks": ""
           }
          },
          "scene": {
           "xaxis": {
            "backgroundcolor": "#E5ECF6",
            "gridcolor": "white",
            "gridwidth": 2,
            "linecolor": "white",
            "showbackground": true,
            "ticks": "",
            "zerolinecolor": "white"
           },
           "yaxis": {
            "backgroundcolor": "#E5ECF6",
            "gridcolor": "white",
            "gridwidth": 2,
            "linecolor": "white",
            "showbackground": true,
            "ticks": "",
            "zerolinecolor": "white"
           },
           "zaxis": {
            "backgroundcolor": "#E5ECF6",
            "gridcolor": "white",
            "gridwidth": 2,
            "linecolor": "white",
            "showbackground": true,
            "ticks": "",
            "zerolinecolor": "white"
           }
          },
          "shapedefaults": {
           "line": {
            "color": "#2a3f5f"
           }
          },
          "ternary": {
           "aaxis": {
            "gridcolor": "white",
            "linecolor": "white",
            "ticks": ""
           },
           "baxis": {
            "gridcolor": "white",
            "linecolor": "white",
            "ticks": ""
           },
           "bgcolor": "#E5ECF6",
           "caxis": {
            "gridcolor": "white",
            "linecolor": "white",
            "ticks": ""
           }
          },
          "title": {
           "x": 0.05
          },
          "xaxis": {
           "automargin": true,
           "gridcolor": "white",
           "linecolor": "white",
           "ticks": "",
           "title": {
            "standoff": 15
           },
           "zerolinecolor": "white",
           "zerolinewidth": 2
          },
          "yaxis": {
           "automargin": true,
           "gridcolor": "white",
           "linecolor": "white",
           "ticks": "",
           "title": {
            "standoff": 15
           },
           "zerolinecolor": "white",
           "zerolinewidth": 2
          }
         }
        },
        "title": {
         "text": "Wizualizacja przestrzeni wektorowej prób testowych - PCA"
        },
        "xaxis": {
         "anchor": "y",
         "domain": [
          0,
          1
         ],
         "title": {
          "text": "PCA1"
         }
        },
        "yaxis": {
         "anchor": "x",
         "domain": [
          0,
          1
         ],
         "title": {
          "text": "PCA2"
         }
        }
       }
      }
     },
     "metadata": {},
     "output_type": "display_data"
    }
   ],
   "source": [
    "pca = PCA(n_components=2).fit_transform(embeddings)\n",
    "\n",
    "df_pca = pd.DataFrame(pca, columns=['PCA1', 'PCA2'])\n",
    "df_pca['Predicted Label']  = [predicted_labels_pert[i] for i in range(len(predicted_labels_pert))]\n",
    "df_pca['Text'] = text['text']\n",
    "df_pca['True label'] = [true_labels_pert[i] for i in range(len(true_labels_pert))]\n",
    "\n",
    "fig = px.scatter(df_pca, x=\"PCA1\", y=\"PCA2\", color=\"Predicted Label\", hover_data={'Text': True, 'True label': True}, title=\"Wizualizacja przestrzeni wektorowej prób testowych - PCA\",\n",
    "                labels={\"PC1\": \"Pierwsza składowa główna\", \"PC2\": \"Druga składowa główna\"})\n",
    "fig.show()"
   ]
  },
  {
   "cell_type": "markdown",
   "metadata": {},
   "source": [
    "#### TSNE"
   ]
  },
  {
   "cell_type": "code",
   "execution_count": 22,
   "metadata": {},
   "outputs": [
    {
     "data": {
      "application/vnd.plotly.v1+json": {
       "config": {
        "plotlyServerURL": "https://plot.ly"
       },
       "data": [
        {
         "customdata": [
          [
           "soi ll stick with my sources while you t<br>ry to pull more you there of the air",
           0
          ],
          [
           "where can whatever get a copy of this",
           0
          ],
          [
           "tnx i see yeah right argument and i am g<br>lad that in this case there is a non mis<br>leading where are you of responding at",
           0
          ],
          [
           "else has contested this in the meantime <br>but i will get my two pennyworth in as w<br>ell this is not a pub team but is about <br>to absorb the very notable solidly borou<br>gh f c",
           0
          ],
          [
           "i am thankful for my bed thankful positi<br>ve",
           0
          ],
          [
           "i am sanctioned to give another words of<br> justification to any revert until the e<br>nd of so here it goes besides what i sta<br>ted above here are my thoughts i have no<br>thing contrary to the citation of a cont<br>emporary author that has done a serious <br>study on java trial and does not blindly<br> repeat that she what a slut from serbia<br>n origin the only contemporary scholar t<br>hat whatever have to claim that visa tri<br>al what a slut from serbian origin is st<br>andouts who says only that and then he p<br>oints to the biography of marin ballet n<br>ow ballet does not say that she what a s<br>lut serbian but albanian so standouts co<br>ntradicts himself if whatever really wan<br>t to give some references to slandered t<br>hat are sour let us start with oliver je<br>ns schmitt who really has made a bad bio<br>graphy of the national hero of the alban<br>ians schmitt is a voice out of the choir<br> and i would love if someone brings to t<br>he table what he says because i want to <br>see if he is fringe or serious",
           0
          ],
          [
           "doubt he would be any taller than unless<br> the man is dutch who currently are the <br>tallest in the world with an average hei<br>ght of it is more realistic he would be <br>about that height i think",
           0
          ],
          [
           "haii happy",
           0
          ],
          [
           "retweet some pussy be so wet sweat dropl<br>etsdropletsweat dropletsdropletyou got t<br>o think about other things not to come f<br>ast like damn i really failed the grade",
           0
          ],
          [
           "more botheration reopen access publishin<br>g since you were the administrator invol<br>ved in an original move i what a slut ho<br>ping you could help me figure out cleanu<br>p on the articles open access publishing<br> and open access publishing you original<br>ly moved publishing to publishing but bo<br>th articles still exist with substantial<br>ly the same content although subsequent <br>edits have forked the content a bit shou<br>ld open access publishing be redirected <br>to open access publishing as seems what <br>a slut your intent or is there something<br> more subtle going on here this is separ<br>ate from the main open access article wh<br>ich open access publishing appears to th<br>ink it is based on the hat note and the <br>open access disambiguation dab page does<br> not refer to either of the two publishi<br>ng articles at this point i am rather co<br>nfused about what is intended to go wher<br>e",
           0
          ],
          [
           "consider adding links to anger managemen<br>t volition habituation and performance w<br>hile there is not currently a page on oc<br>cupational performance or occupational e<br>xploration consider defining these terms<br> since they are specific to off topic it<br> also be useful to give a few examples o<br>f settings over the shoulder work in to <br>give readers who are unfamiliar with off<br> topic a better understanding of the fie<br>ld overall the page is well written and <br>contains a lot of important information <br>on the subject",
           0
          ],
          [
           "acording to the wiki policy self made pi<br>ctures area lowed as they are classed as<br> based on researched material",
           0
          ],
          [
           "sigh but surely i am the one who hounds <br>him and bullies him and will not leave h<br>im alone do as you will wee regards talk",
           0
          ],
          [
           "imageromania drumuri svg hey nice work o<br>n the image i would update the image mys<br>elf but i do not know how so here is wha<br>t found missing on your image based on t<br>he maps at this link lugoj sibiu on ploi<br>esti focsani on club south freeway bucha<br>rest ring freeway also i did not find an<br>y reference about the focsani bacau sect<br>or that you labeled as planned cheers",
           0
          ],
          [
           "you are an admin it is my pleasure to in<br>form you that you are now an admin congr<br>atulations you can feel free to do every<br>thing you are supposed to do and nothing<br> you are not supposed to do if you have <br>not already now is the time look through<br> the wikipediaadministrators how to guid<br>e and wikipediaadministrators reading li<br>st if you have any questions feel free t<br>o ask me or at the wikipediaadministrato<br>rs noticeboard best wishes and good luck<br> congratulations wow thanks now the real<br> learning starts",
           0
          ],
          [
           "you misspelled speech i though that i sh<br>ould correct you seeing that you are an <br>administrator and all",
           0
          ],
          [
           "reply question lol asshole i am not sure<br> what the letter p has got to do with th<br>e australian currency but whatever use d<br>ollars for example you must mean pounds <br>or pence uk s currency",
           0
          ],
          [
           "stop the vandalism please future perfect<br> at sunrise",
           0
          ],
          [
           "these hoes be flaw gen i swear bruh a ni<br>gga do not want you all",
           0
          ],
          [
           "info box company location country the do<br>cumentation at indicates that the locati<br>on country parameter is for the country <br>of the company s that is not an office i<br>n san francisco or any other satellite o<br>ffice or secondary locations or regional<br> head offices but the head office there <br>is usually only one head office with tha<br>t said whatever should be adding a locat<br>ion city parameter as well",
           0
          ],
          [
           "ok i withdraw it talk",
           0
          ],
          [
           "note to same correcting spanish american<br>s article i do not know what you are tal<br>king about i did not vandalize any artic<br>le stop accusing me of vandalism because<br> i do not do that and you know it you ar<br>e saying this to make me look bad to wik<br>i and it has not fair all i did what a s<br>lut reflect correct info that the author<br> of the article has made an error in the<br> author made an error in the article per<br>taining to what constitutes a spanish am<br>erican in the article he states that any<br>one from latin america is considered a s<br>panish american when that is not true a <br>spanish american is someone who is desce<br>nded directly note this from spain and b<br>orn in the americas for example mexican <br>born or argentine born peoples are not s<br>panish americans since they are born in <br>latin america not spain i want to work w<br>ith the author but the author has got to<br> work with us the people who are trying <br>to correct him you are not spanish so yo<br>u do not have the right to dictate to ot<br>hers who or what they are",
           0
          ],
          [
           "retweet you all hoes need to get out mor<br>e there so much more to life than being <br>a fucking hater go get yours",
           0
          ],
          [
           "retweet big booty hoe with tig old ditti<br>es xbox one pancake booty hoe with panca<br>ke tits",
           0
          ],
          [
           "nature since the article what a slut fir<br>st nominated for core topics crying on t<br>he floor it has advanced in quality cons<br>iderably this is largely due to the work<br> of while doing so he has contended with<br> the continual one issue commentary on t<br>he talk page of the latter seems to want<br> to make the article into a philosophy o<br>f science article on the meanings of the<br> term nature as a result i would suggest<br> that major editorial changes to the art<br>icle not be necessary or possible withou<br>t incurring an edit war on the other han<br>d the article would likely benefit from <br>a good copy edit however i have not read<br> the article for some time to see how we<br>ll it hangs together perhaps i should do<br> that now if you would also look at it i<br>n that light whatever could compare note<br>s see you on the talk page",
           0
          ],
          [
           "well that is sort of the point it s to a<br>void having a player who only played one<br> or two years skew the data that being s<br>aid i believe the number comes from the <br>nhs cut off point so whatever use the sa<br>me one",
           0
          ],
          [
           "i appreciate your candor in sorting this<br> out i think i understand now i wish i c<br>ould send you a cheese basket or somethi<br>ng you have stuck this out since the beg<br>inning when so many other admins have qu<br>it topgearfreak sinned troy johns loan y<br>ou have been patient and persistent now <br>that whatever are near to the end i hope<br> whatever can work out all these differe<br>nces talk to you tomorrow byeeeeee esq",
           0
          ],
          [
           "retweet glass half full glass half empty<br> this mizzou team is legitimately pretty<br> good if you go by sports references sim<br>ple",
           0
          ],
          [
           "nicesunnyblondy not applicable slut xxx <br>young hot kinky naughty horny wet shy na<br>sty nude porn sexy",
           0
          ],
          [
           "retweet new year s resolution smoke more<br> weed make more money fuck more bitches",
           0
          ],
          [
           "utc talkdemocratic response to state of <br>the union address possibly if the wiki s<br>ource discussion exists on other article<br>s a wikipedia wide discussion can be hel<br>d about it smiling face",
           0
          ],
          [
           "asylum species you know how during the o<br>pening movie it says next to asylum s sp<br>ecies it has well i know this sounds wei<br>rd as they are extinct according to the <br>metro id prime manual but i think asylum<br> is a photo he makes weird bird like mov<br>ements and sounds when he comes out of l<br>ockjaw and the photo were a bird like pe<br>ople right",
           0
          ],
          [
           "whiskerswednesday everyone cute cats kit<br>ten catsoftwitter teamcatmojo cat lover",
           0
          ],
          [
           "ella griffith a tag has been placed on e<br>lla griffith requesting that it be speed<br>ily deleted from wikipedia this has been<br> done because the article seems to be ab<br>out a person group of people band club c<br>ompany or web content but it does not in<br>dicate how or why the subject is notable<br> see the guidelines for notability here <br>if you can indicate why the subject of t<br>his article is notable you contest the t<br>agging to do this please write on the to<br>p of the page and leave a note on the ar<br>ticle s talk page explaining your positi<br>on please do not remove the speedy delet<br>ion tag yourself please read the criteri<br>a for speedy deletion specifically artic<br>les and our general biography criteria f<br>eel free to leave a note on my talk page<br> if you have any questions about this",
           0
          ],
          [
           "imagealbatosssmb png listed for deletion<br> an image or media file that you uploade<br>d or altered imagealbatosssmb png has be<br>en listed at wikipediaimages and media f<br>or deletion please see the discussion to<br> see why this is you have to search for <br>the title of the image to find its entry<br> if you are interested in it not being d<br>eleted talk",
           0
          ],
          [
           "oh please no further involvement of your<br> time is remotely necessary and that goe<br>s for gen quon as well you two lovely pe<br>ople have already expended more than eno<br>ugh of your time on my project if the en<br>tire fa process is based around grammar <br>lessons and anal nitpicking i would much<br> rather return to spending my time with <br>gas which are actually fun and productiv<br>e i am much more of a fan of the you tel<br>l me what has wrong with the article and<br> i will go fix it process it is not that<br> i am giving up on the article i am defi<br>nitely going to continue to fight for it<br> and i am far from quitting i will defin<br>itely re nominate it it is just that the<br> reward to work ratio is severely lackin<br>g or is that lacking severely",
           0
          ],
          [
           "the borders of the new state were not sp<br>ecified changing from borders for a new <br>jewish state were specified by the un to<br> the borders of the new state were not s<br>pecified is a clear misrepresentation of<br> the truth the borders of the new state <br>were specified by the un the borders spe<br>cified by the un were accepted by the je<br>wish agency for israel to sum all this u<br>p in the lead with the statement the bor<br>ders of the new state were not specified<br> is completely dishonest",
           0
          ],
          [
           "massacre or what mercaz hara massacre no<br>t enough dead bowler and nocalsays is a <br>large number i personally think not in w<br>hich case this should be renamed to inci<br>dent or attack or similar otherwise any <br>terrorist attacks that kill or more peop<br>le should likewise be listed as a massac<br>re wikipedia will quickly fill up with m<br>assacres diluting those that really are <br>massacre of large numbers of people agre<br>e renaming per the discussion here talk <br>original here and art shiva only call it<br> attack yet attack israeli ministry of f<br>oreign affairs shooting post attack isra<br>el insider attack in fact one only has t<br>o look at the references supplied in the<br> article itself to see that attack is th<br>e most prevalent description i am astoun<br>ded that bowler found time to search out<br> an obscure tiny article when the mercy <br>hara attack what a slut one of the reaso<br>ns behind the racist group idf which bow<br>ler aids one would have thought that the<br> mercy hara attack would have caught bow<br>ler s attention first dead link live lin<br>k to same article see also ha art seven <br>students remain hospitalized after shoot<br>ing surprisingly the only source for mas<br>sacre is wiki",
           0
          ],
          [
           "these bitches need guidance",
           0
          ],
          [
           "clarification someone claimed that an ed<br>itor here what a slut making a libelous <br>insinuation libelous is not a term to be<br> thrown around loosely first i did not s<br>ee anything that what a slut factually u<br>ntrue that is the first requirement for <br>libel if something is true it is not lib<br>elous second opinion is never libelous i<br> just hope that people become more judic<br>ious about this oh and finally libel aga<br>inst a public figure requires reckless i<br>ndifference to the truth or knowledge th<br>at the statement what a slut false i doe<br>s not see anything here that suggests th<br>ere what a slut any libel",
           0
          ],
          [
           "hee i mean good and great great and good",
           0
          ],
          [
           "you refusing to remove personal inaccura<br>te information when i edit it",
           0
          ],
          [
           "washington nationals strasbourg has yet <br>to sign as of until he does please do no<br>t alter his info box to read nationals",
           0
          ],
          [
           "believe me you will always be a pa of mi<br>ne till my day comes to the silly dances<br> you re trying to twerk ripjulimuffn att<br>ack",
           0
          ],
          [
           "further to this i have blocked your othe<br>r account the general rule on wikipedia <br>is that every editor should only have on<br>e account please follow that rule in the<br> future i do notice that you had problem<br>s with you articles in the past if you h<br>ave questions you can ask them here and <br>i will try to explain everything but ple<br>ase stop attacking other editors on wiki<br>pedia whatever all want to improve wikip<br>edia if other editors mark your articles<br> for deletion they do so because they be<br>lieve that the article should not be par<br>t of wikipedia which articles should or <br>should not be on wikipedia has been dete<br>rmined through a consensus of all editor<br>s regards",
           0
          ],
          [
           "youtube has several dozen holocaust revi<br>sionist videos",
           0
          ],
          [
           "black women are not whales",
           0
          ],
          [
           "it is so embarrassing that you do not kn<br>ow how to swim how could you go on holid<br>ay",
           0
          ],
          [
           "utc anome you must be joking analyzing t<br>wo body planetary orbital theory is much<br> easier in polar coordinates that it is <br>in cartesian coordinates",
           0
          ],
          [
           "welcome hello and welcome to wikipedia t<br>hank you for your contributions i hope y<br>ou like the place and decide to stay her<br>e are some pages that you might find hel<br>pful the five pillars of wikipedia how t<br>o edit a page help pages tutorial how to<br> write a great article manual of style i<br> hope you enjoy editing here and being a<br> wikipedia please sign your name on talk<br> pages using four tildes this will autom<br>atically produce your name and the date <br>if you need help check out wikipediaques<br>tions ask me on my talk page or place on<br> your talk page and ask your question th<br>ere again welcome ps in the future you c<br>an redirect a page by replacing it with <br>redirect article name",
           0
          ],
          [
           "prime example of why the walk away movem<br>ent what a slut born democrats are nothi<br>ng but sleepy liars all decent people th<br>at were democrats will not stand behind <br>tactics like antifa and destroying peopl<br>e s lives for political reasons i what a<br> slut a democrat for years and i walked <br>away",
           0
          ],
          [
           "it is not possible to attack an anonymou<br>s internet protocol address especially o<br>ne which ironically claims a well known <br>national comic strip also cited in vario<br>us other places in wikipedia is",
           0
          ],
          [
           "i know so many trans women",
           0
          ],
          [
           "hello i am gay welcome to the oh site of<br> gilliam i murder puppies c c c c c c c",
           0
          ],
          [
           "no problem an admin from our wiki projec<br>t moved it back thanks",
           0
          ],
          [
           "i m just telling facts one who does not <br>take to krishna consciousness is most co<br>ndemned and cannot be delivered for mill<br>ions of kappas kappa years sri chaitanya<br> caritamrta ant ya e vanyaya yeah na bas<br>e set java chart koti kalpe kabul tara b<br>ahia niagara synonyms e vanyaya in this <br>inundation yeah anyone who na base does <br>not float set that java living entity ch<br>art most condemned koti kalpe in million<br>s of kappas kabul at any time tara his b<br>ahia there is not niagara deliverance tr<br>anslation anyone who does not float in t<br>his inundation is most condemned such a <br>person cannot be delivered for millions <br>of kappas purport the kappa is explained<br> in the bhagavad gita sahasra yuga parya<br>ntam agar had brahman video one day of b<br>rahma is called a kappa a yoga or mahaya<br>na consists of years and one thousand su<br>ch maha yugas constitute one kappa the a<br>uthor of sri caitanya caritamrta says th<br>at if one does not take advantage of the<br> krsna consciousness movement of sri cha<br>itanya mahaprabhu he cannot be delivered<br> for millions of such kappas however sit<br>uation is not hopeless even atheists can<br> be delivered if they take sri krishna c<br>aitanya as supreme personality of godhea<br>d sri chaitanya caritamrita adi caitanya<br> mangala sure wadi ashanti havana sea ma<br>ha vaishnava maya katakana synonyms cait<br>anya mangala the book named caitanya man<br>gala sure anyone hears wadi if ashanti g<br>reat atheist havana a nonbeliever in the<br> vedic culture sea he also maha vaishnav<br>a great devotee maya becomes katakana im<br>mediately translation if even a great at<br>heist hears sri caitanya mangala he imme<br>diately becomes a great devotee so athei<br>sts still have hope to get out of hell a<br>nd also of this material world",
           0
          ],
          [
           "national best friends day",
           0
          ],
          [
           "beefcake s boot camp white genocide proj<br>ect",
           0
          ],
          [
           "no that pretty much is ca springs again <br>a comment that the article needs to say <br>akin s understanding what a slut general<br>ly regarded as wrong when the article di<br>d not say so at the time does not mean n<br>ow that the article says so under fringe<br> an unrelated polemical essay is justifi<br>ed this has repeatedly been commented on<br> it is just bizarre",
           0
          ],
          [
           "fuuuuuck you stupid fucking vagina",
           0
          ],
          [
           "mentor for fcc can you be my mentor for <br>non free images",
           0
          ],
          [
           "can you address a sentence referring to <br>chromaticity coordinates you have everyt<br>hing else except a entrance to that plea<br>se utc",
           0
          ],
          [
           "your fd vote on our colony i ask you to <br>reconsider ourcolony what a slut not cre<br>ated to circumvent the vote on our colon<br>y net but in fact what a slut created da<br>ys prior to your fd submission check the<br> history of the two sites and see for yo<br>urself ourcolony history utc on",
           0
          ],
          [
           "on joffrey s death hi congratulations on<br> the excellent article but could someone<br> give a reference to justify that redone<br> and peter were the ones responsible for<br> joffrey s death thanks",
           0
          ],
          [
           "if you would just like to delete it you <br>can do that and i will re upload",
           0
          ],
          [
           "well it does not sound outrageous talk u<br>tc",
           0
          ],
          [
           "afd which article what a slut nominated <br>for afd",
           0
          ],
          [
           "please stop the gnu search and replace t<br>he text gnu linux currently points to a <br>redirect your current search and replace<br> activities violate well played policy i<br> will not dig out the rule just yet plea<br>se find a better use for your energy",
           0
          ],
          [
           "review me please note that i have instit<br>uted discussion about this at wikipedia <br>talkwikiproject beauty pageants big five<br> big four if you think the change is nec<br>essary please discuss it there rather th<br>an acting unilaterally on such a major c<br>hange review me",
           0
          ],
          [
           "attention federalist you are allowed to <br>write nonsense on talk pages wpnonsense",
           0
          ],
          [
           "non notable fails web talk",
           0
          ],
          [
           "i am surprised he did not shoot his stud<br>ents just prove gun control is important<br> i am glad i does not send kids to colle<br>ge what a waste of money turning them in<br>to pumpkin heads",
           0
          ],
          [
           "it is big fat java",
           0
          ],
          [
           "fair use rationale for image dark jak jp<br>g thanks for uploading or contributing t<br>o image dark jak jpg i notice the image <br>page specifies that the image is being u<br>sed under fair use but there is not a su<br>itable explanation or rationale as to wh<br>y each specific use on wikipedia constit<br>utes fair use please go to the image des<br>cription page and edit it to include a f<br>air use rationale if you have uploaded o<br>ther fair use media consider checking th<br>at you have specified the fair use ratio<br>nale on those pages too you can find a l<br>ist of image pages you have edited by cl<br>icking on the link it is located at the <br>very top of any wikipedia page when you <br>are logged in and then selecting from th<br>e dropdown box note that any non free me<br>dia lacking such an explanation will be <br>deleted one week after they have been up<br>loaded as described on criteria for spee<br>dy deletion if you have any questions pl<br>ease ask them at the media copyright que<br>stions page thank you",
           0
          ],
          [
           "l a noise video game hi diego maya i not<br>iced you created the page with nothing b<br>ut a link to l a noise i turned the page<br> into a redirect into that page and look<br>ing at the target article i think that i<br>s what you probably meant to do but i wa<br>nted to make sure thanks",
           0
          ],
          [
           "did not natasha brake the demons sword w<br>hen he what a slut battling him how did <br>he get them back so cute remix this soun<br>ds terrible i d rather read the subtitle<br>s you cannot kill the main character ano<br>ther bitch slap damn nice i cannot stop <br>watching this he went off the freaking c<br>hart so even if the dead come back to li<br>fe like in them zombie movies to ass am <br>not on be nowhere that is fucking gross <br>the green haired guys is pretty hot i lo<br>ved all of them that what a slut hot the<br>y both killed it",
           0
          ],
          [
           "the issue was not that the information w<br>hat a slut unsourced it what a slut that<br> everything i had removed used a persona<br>l web log most likely added to the artic<br>le by the owner of said site as a source",
           0
          ],
          [
           "thanks for contributing to wikipedia unf<br>ortunately the commercial links content <br>you added were inappropriate as wikipedi<br>a is an encyclopedia and should not be u<br>sed for advertising or a collection of e<br>xternal links see the welcome page if yo<br>u would like to learn more about contrib<br>uting to the encyclopedia thanks",
           0
          ],
          [
           "template did you know nominations monte <br>alien national park",
           0
          ],
          [
           "marry justin kill church don t know who <br>what the fuck he is and do russel never <br>said it had to last long happy face or s<br>miley www the snake is so cute ok fine w<br>hat ever you are never going to be quiet<br> until i give it or let you win so fine <br>you win i lose i am a terrible person an<br>d deserve to die happy i would be consta<br>ntly praying i have done things not terr<br>ible but i really need forgiveness o o a<br>t the end oh well extreme droll it does <br>not really matter if you do not like peo<br>ple making a little fun over then why di<br>d you click on this video it is your own<br> fault for clicking on it wow this time <br>i am the normal one p ugh stop talking a<br>bout stopping whatever all love you and <br>whoever does not need to shut their face<br> youtube laughing out loud",
           0
          ],
          [
           "padding cell padding class mainpagebg so<br>lid lightered background colorlightgrey <br>vertical aligntop color font size hello <br>ppjp welcome to wikipedia thank you for <br>your contributions you benefit from foll<br>owing some links below which will help y<br>ou get the most out of wikipedia if you <br>have any questions you can ask me on my <br>talk page or place on your talk page and<br> ask your question there please remember<br> to sign your name on talk pages by clic<br>king or by typing four tildes this will <br>automatically produce your name and the <br>date if you are already loving wikipedia<br> you might want to consider being adopte<br>d by a more experienced editor or joinin<br>g a wiki project to collaborate with oth<br>ers in creating and improving articles o<br>f your interest click here for a directo<br>ry of all the wiki projects finally plea<br>se do your best to always fill in the ed<br>it summary field happy editing width sty<br>le background colorwhite class mainpageb<br>g style width solid white background col<br>orlightgrey vertical aligntop getting st<br>arted wikipedia tutorial the five pillar<br>s of wikipedia how to edit a page upload<br> an image getting help frequently asked <br>questions where to ask questions or make<br> comments request administrator attentio<br>n policies and guidelines neutral point <br>of view reliable sources variability cit<br>ing sources no original research what wi<br>kipedia is not biographies of living per<br>sons manual of style three revert rule s<br>ock puppetry copyrights policy for non f<br>ree content image use policy external li<br>nks spam vandalism deletion policy confl<br>ict of interest notability class mainpag<br>ebg style width solid lightered backgrou<br>nd colorseashell vertical aligntop width<br> cell padding cell style vertical alignt<br>op background colorseashell the communit<br>y style color",
           0
          ],
          [
           "hii kindly let me know how to edit it pr<br>operly i what a slut adding the title dr<br> to khalid abdul rahim s page",
           0
          ],
          [
           "every time i see you my he skips a beat <br>teaseuesday latina",
           0
          ],
          [
           "maybe i hate myself",
           0
          ],
          [
           "the spelling has fallen out of modern us<br>age in english and is considered old fas<br>hioned similar to how why felinheli is n<br>o longer referred to as the name is the <br>anglicized here is the welcome sign for <br>conway as you can see the spelling is no<br>t on the sign which means that is the sp<br>elling used officially for both welsh an<br>d english",
           0
          ],
          [
           "pakistan even wore a black band opposing<br> israel and what a slut completely fine <br>with it face with symbols on mouth face <br>with symbols on mouth face with symbols <br>on mouth dhonikeepstheglove boycottworld<br>cup boycotting",
           0
          ],
          [
           "it would be extremely positive if whatev<br>er could find a where are you to cleanse<br> this country for example by encouraging<br> capital punish by virtue of being a mur<br>derer",
           0
          ],
          [
           "more women accuse weinstein of rape",
           0
          ],
          [
           "response section anyone knows what does <br>up with the choppy prose in this section<br> four shots not cited news outlet senten<br>ces stand alone paragraphs and such shal<br>l i just solicit",
           0
          ],
          [
           "a bunch of overpaid liberals whining abo<br>ut how horrible everything is they shoul<br>d get together with nfl players and try <br>getting a real job zero interest in them<br> giving their friends pointless awards",
           0
          ],
          [
           "interesting points yes there is a policy<br> issue with citing primary sources using<br> primary sources to prove secondary sour<br>ces as incorrect does legitimately viola<br>te minor however in this case it does br<br>ing up an issue of variability concernin<br>g the initial secondary source fallon pe<br>r verify so this is problem of two polic<br>ies conflicting to which i believe there<br> is a solution i assume that such proble<br>ms are not uncommon i will look into it <br>and get back to you in the meantime i wo<br>uld advise against edit warring the issu<br>e will be settled in due time please not<br>e that i am not an administrator and can<br>not block people as such",
           0
          ],
          [
           "what this appears to be is a collection <br>of school kids who cry out you old farts<br> whatever have this funky new word conce<br>pt idea and we are going to use it sprea<br>d it around and grab this chance at immo<br>rtality if you disagree we will make fun<br> of your self inflated intelligence so b<br>e it then make a web page and tell your <br>tale but this is not encyclopedic i vote<br>d delete and made it strong delete becau<br>se of all the silly puppetry i do not se<br>e my vote changing",
           0
          ],
          [
           "i know you are very knowledgeable on ira<br>nian related topics no worries i just wo<br>ndered that is all anyway i want to retu<br>rn the sources i added if the removal of<br> the other sources what a slut your only<br> complaint let me know and i will not re<br>move the rest",
           0
          ],
          [
           "merge can whatever just redirect it to v<br>ampire already it is never been a separa<br>te topic it should get one sentence in t<br>he real article about how the werewolf s<br>tories sometimes get mixed this is a lot<br> of verbiage for nothing",
           0
          ],
          [
           "fuck my shitty auntie",
           0
          ],
          [
           "residence park this area what a slut one<br> of the first planned residential park c<br>ommunities in the country has other sign<br>ificant historically relevant aspects th<br>e area itself dates back to the early se<br>ttlers of the community the historic lew<br>is pistard home is in this area the hist<br>oric leland castle and the college of ne<br>w rochelle are also found here the area <br>is working towards historic designation <br>by the government rochelle park and roch<br>elle heights are also areas that were am<br>ong the first planned communities in the<br> country and that were built around comm<br>on garden areas the architecture is of s<br>ignificance and has been recognized by t<br>he government as historic areas to be pr<br>eserved",
           0
          ],
          [
           "sorry sorry",
           0
          ],
          [
           "peer review as others have mentioned abo<br>ve the tone does not seem to be encyclop<br>edia like its more of an educational pie<br>ce on what happened from your view in th<br>e opening section you write operation wh<br>at a slut the result of wary parents und<br>er the newly instated castro regime who <br>did not want to give up their parental r<br>ights to the cuban government largely pu<br>blicized for fear of being viewed as pol<br>itical propaganda this underground opera<br>tion eventually became the largest recor<br>ded exodus of unaccompanied youth in the<br> western hemisphere that is a very hard <br>claim to substantiate without any sort o<br>f reference the whole demographics of mi<br>nors section could either be put in anot<br>her section or completely deleted becaus<br>e earlier you already state the children<br> were cuban and their parents did not ag<br>ree with castro so it is in my belief th<br>eir religion s and social status does no<br>t matter enough for its own section",
           0
          ],
          [
           "right let us know when you have picked y<br>our topic or if you have any questions a<br>bout choosing one",
           0
          ],
          [
           "little bitch",
           0
          ],
          [
           "depression is swiping on gay tinder in f<br>ront of your immigrant parents because y<br>ou do not fear death",
           0
          ],
          [
           "it is easier to live with pain and sorro<br>w rather than living with disgrace",
           0
          ],
          [
           "georgian terrace hotel added architectur<br>al detail and history to the page let me<br> know if you see something screwy my eye<br>s are shot i have been working on this f<br>or over five hours that is the research <br>and writing i know that the fox theater <br>district photos would be good to have on<br> their own page but since one does not e<br>xist i thought i would attach them here <br>let me know what you think cheers",
           0
          ],
          [
           "a barn star for you the writer s barn st<br>ar for making uganda manichean a go ahea<br>d in such a short time",
           0
          ],
          [
           "im going to fucking kill myself because <br>i have no purpose on this earth because <br>everything i want to do in this life has<br> bee",
           0
          ],
          [
           "she is allergic to chocolate frowning fa<br>ce",
           0
          ],
          [
           "campbell i urge you to stop cutting one <br>little relapse does not mean that you fa<br>iled put the razors in the trash and hau<br>l the trash out to the curb until it get<br>s picked up you are better than that ple<br>ase get the support you need and deserve<br> from cannot talk or whoever you are com<br>fortable with and know that you have sup<br>port here and are welcome to email me pr<br>ivately any time if you want to discuss <br>things less publicly get healthy and the<br>n get out of the house to do something t<br>hat is productive so that you will feel <br>better and have more self worth whether <br>that is looking for another job walking <br>the dogs going to lunch with someone or <br>volunteering getting out and doing somet<br>hing is a great where are you to free yo<br>ur mind in a healthy way",
           0
          ],
          [
           "stalking be a good thing it tells you th<br>at you are loved",
           0
          ],
          [
           "warning please do not remove content fro<br>m wikipedia it is considered vandalism i<br>f you would like to experiment please us<br>e the sandbox thank you",
           0
          ],
          [
           "ah perhaps the final battle between drag<br>on and galbatorix will take place on the<br> newly prepared sapphire and dragon will<br> draw power from the power it took to re<br>pair it in some way and with that new po<br>wer end the evil kings life and",
           0
          ],
          [
           "klryohtkho media example ogg headline te<br>xt link title link title italic text bol<br>d text italic text link titlelink titlem<br>ediaexample insert non formatted text he<br>re redirect insert text strike through t<br>ext superscript text subscript text smal<br>l text block class wiki table header hea<br>der header row cell row cell row cell ro<br>w cell row cell row cell",
           0
          ],
          [
           "dyk did you know has been updated a fact<br> from the article hermitage theater whic<br>h you recently created has been featured<br> in that section on the main page if you<br> know of another interesting fact from a<br> recently created article then please su<br>ggest it on the did you know talk page",
           0
          ],
          [
           "kids mom problems parenting sucks mommy <br>problems why why do they need to take of<br>f every damn book",
           0
          ],
          [
           "same people bitching about jetpacks and <br>shit in aw are counting down the days un<br>til it comes out bunch fags",
           0
          ],
          [
           "i understand though feet high and rising<br> cannot even be associated with jazz rap<br> either the samples are so diverse that <br>you cannot even nail the album into any <br>kind of box",
           0
          ],
          [
           "i want a new car i cannot decide between<br> getting a honda a lexus a mere or a toy<br>ota",
           0
          ],
          [
           "sail for the seven seas three hundred an<br>d sixteen net",
           0
          ],
          [
           "my friends magical potion beach magicalh<br>appydrinks era beach house",
           0
          ],
          [
           "please do not vandalize pages as you did<br> with this edit to mount sap if you cont<br>inue to do so you will be blocked from e<br>diting t l see s",
           0
          ],
          [
           "you yourself defined troll as a personal<br> attack if arbor wish to engage in perso<br>nal attacks that is their business",
           0
          ],
          [
           "h index reply wikipediaarticles for dele<br>tion richard high ton it means cool a k <br>a to the wise xanthippe h index without <br>hyphen it is a dab possibly for no good <br>reason",
           0
          ],
          [
           "propose to merge the main national artic<br>le with the results article basing also <br>in the latest additions by and about my <br>opinion i propose that it would be bette<br>r to merge this article with albania nat<br>ional football team results into the sec<br>tion history because every national foot<br>ball team here has it own history at the<br> main article",
           0
          ],
          [
           "mother accept biological fact mother the<br> female parent mother a woman who brough<br>t force offspring through the act of pro<br>creation and cell division she supplied <br>the life force and dna based off her bio<br>logical code her egg that develops into <br>offspring by default she will grow a dau<br>ghter unless given a why chromosome by t<br>he male ma is the hebrew letters for the<br> me and alpha that are the matrix that g<br>enerates forms and the source for begins<br> gestation is the process of cell divisi<br>on an recombination in which the womb de<br>velops or makes the offspring mom is the<br> more personal term for the woman who ra<br>ised the child from infant to adult she <br>or not be the biological creator",
           0
          ],
          [
           "i fucking hate the changes here since fu<br>cking corona",
           0
          ],
          [
           "looking forward to the day when i will b<br>e able to hear the live version of love <br>is blindness from the foot tour from syd<br>ney",
           0
          ],
          [
           "season color schemes i recently changed <br>the season color schemes to more accurat<br>ely match their respective dvd blu ray c<br>ases as it seems to be the standard on w<br>ikipedia not to my surprise it what a sl<br>ut met with a quick revert i understand <br>the editors argument that the color for <br>seasons and are quite similar but in all<br> honesty it does not matter the two seas<br>ons are not directly chronological in na<br>ture therefore there is no issue with di<br>fferentiation following some sort of mak<br>eshift standard is desirable when it com<br>es to the color schemes on television se<br>asons because it keeps petty arguments a<br>nd debates from arising similar to the o<br>nes above i am all for following the uns<br>poken standard changing these schemes to<br> match their marketing material please l<br>et me know what you think cheers",
           0
          ],
          [
           "welcome hello and welcome to wikipedia t<br>hank you for your contributions i hope y<br>ou like the place and decide to stay her<br>e are a few good links for newcomers the<br> five pillars of wikipedia how to edit a<br> page help pages tutorial how to write a<br> great article manual of style here are <br>some other hints and tips i would recomm<br>end that you get a username you do not h<br>ave to log in to read or edit articles o<br>n wikipedia but creating an account is q<br>uick free and non intrusive requires no <br>personal information and there are many <br>benefits of having a username if you edi<br>t without a username your internet proto<br>col address is used to identify you inst<br>ead when using talk pages please sign yo<br>ur name at the end of your messages by t<br>yping four tildes this will automaticall<br>y produce your username or internet prot<br>ocol address and the date if you have an<br>y questions check out wikipediawhere to <br>ask a question ask me on or type on this<br> talk page and a user will help you as s<br>oon as possible i will answer your quest<br>ions as far as i can again welcome and i<br> hope you enjoy editing here and being a<br> wikipedia and thanks for your reply in <br>talkmisandry",
           0
          ],
          [
           "he is delirious",
           0
          ],
          [
           "it should be known that visual key is a <br>fashion style and subculture and is not <br>related to the music s genre stating onl<br>y visual key as this band s genre is not<br> appropriate",
           0
          ],
          [
           "truthfulness higher and lower are not we<br>ll defined to they are simply relativist<br>ic and work at any point on the spectrum<br> for example you could say to humans bov<br>ines are lower organisms but you could a<br>lso say are lower organisms relative to <br>mammals such as bovines and humans you c<br>ould use and in the same way but to me t<br>here appears to be some kind of teleolog<br>ical argument embedded in them and are n<br>ot too much different from and in that t<br>hey do not come from any except to say t<br>hat when a person looks at a chimp they <br>realize that the chimp is missing a few <br>things that the human being has that is <br>just a fact and remains such regardless <br>of any well crafted teleological counter<br>arguments perhaps what you are really ar<br>guing is that and are somewhat qualitati<br>ve terms and that science should not mak<br>e qualitative distinctions only quantita<br>tive ones this is a valid argument but o<br>nly if science point of view does not tr<br>ump npov whatever are all humans who rea<br>d this encyclopedia and humans do someti<br>mes need qualitative distinctions in the<br>ir language",
           0
          ],
          [
           "redirection of chris conley sorry to bot<br>her you again on your wiki break but it <br>seems that the dispute over the redirect<br>ion of chris conley still has not been r<br>esolved it seems that while i what a slu<br>t blocked has redirected the article com<br>ments were left in regard to the redirec<br>t on the page saves the day and another <br>editor has reverted the article which ha<br>s redirected again citing sock puppetry <br>and coi but failing to leave any kind of<br> comment on the relevant discussion page<br>s as i what a slut blocked from editing <br>i fail to understand how this could be t<br>he case and a quick whops search shows t<br>hat the editing ip s come from mancheste<br>r uk and somewhere in australia so it ap<br>pears that an edit war is still continui<br>ng rather than participate further in th<br>is and get blocked again i thought what <br>a slut best to leave you a note here fyi<br> the main reason why i redirected the ar<br>ticle in the first place is because chri<br>s conley is also a successful touring so<br>lo artist a quick google search can conf<br>irm this and hence notable enough to war<br>ren this own article i also find it inte<br>resting that a number of other editors h<br>ave contributed to the article after i u<br>ndid the original redirect on thanks and<br> sorry again for dragging you out of you<br>r wiki break",
           0
          ],
          [
           "ycchh who added that awful synthesized v<br>oice file at the bottom it sounds well i<br>t has synthesized voices should not that<br> be enough whatever should get rid of it",
           0
          ],
          [
           "a barn star for you style color border s<br>olid row style align middle padding styl<br>e size x large padding zero height the d<br>efender of the wiki barn star style alig<br>n middle padding thanks for your work on<br> paid editor cleanup best email",
           0
          ],
          [
           "sounds like a sim racer to me do you hav<br>e evidence to the contrary wanting it to<br> be part of the ridge racer series does <br>not make it so",
           0
          ],
          [
           "congratulations guys i love you bts army<br> a",
           0
          ],
          [
           "yerevan yerevan in those days what a slu<br>t not a capital of armenia the majority <br>of the population were azerbaijani turks",
           0
          ],
          [
           "jel team effort sarah",
           0
          ],
          [
           "that what a slut my mock done on a simul<br>ator check it out pick your team how man<br>y rounds and go for it",
           0
          ],
          [
           "sidebar of charon story from hanson eric<br> once home to a prison now a part of hom<br>e houston chronicle in case this goes do<br>wn here is the sidebar prison by the num<br>bers year prison opened square feet inma<br>tes housed there acres of residential de<br>velopment it sits on year prison closed <br>source new land communities and texas de<br>partment of criminal justice",
           0
          ],
          [
           "bertie berlitz fan site hello there i no<br>ticed your post in the bertie berlitz pa<br>ge about a fan site i have just started <br>one up at only the forum is up right now<br> but i am hoping to get people to help a<br>nywhere are you possible so it can be a <br>full fledged fan site for her",
           0
          ],
          [
           "penis and bubble gum that is what used t<br>o work for me laughing out loud",
           0
          ],
          [
           "well it now appears i am fighting agains<br>t two deceivers instead of just a single<br> one so the difference between her that <br>she contracted herpes from adult filming<br> activities and her contracting herpes f<br>rom adult filming activities is is it in<br> fact that huge or is simply perceived b<br>y you to be huge is it honestly or disho<br>nestly perceived by you to be huge is it<br> honestly perceived by you to be small b<br>ut dishonestly communicated by you to th<br>e public to be huge your reasoning skill<br>s are mediocre which is why you should s<br>tick to using wikipedia as a read propag<br>anda tool and refrain from actually publ<br>ishing anything on paper that be handed <br>down to future generations considering t<br>hat anyone would do the world the disser<br>vice of actually publishing anything pro<br>duced by you veritas temper",
           0
          ],
          [
           "stoked to finally begin book foherightre<br>asons fridaynight a",
           0
          ],
          [
           "as for the first formula if you mean thi<br>s this is not what i keyed in and furthe<br>r confirmation be required",
           0
          ],
          [
           "hmm i kind of don t you mean you have to<br> scroll right and left on the homepage t<br>he banner is too wide care to send a scr<br>eenshot",
           0
          ],
          [
           "obese i have been thinking about editing<br> the obesity article but am unsure where<br> to start i thought because you are very<br> overweight and possibly morbid in obesi<br>ty that you could make some suggestions",
           0
          ],
          [
           "the fucking website said it worked for d<br>evices only now i am in do not have sash<br> blobs just learned about those faith t <br>recognize my ios and i have two differen<br>t redsnw versions now do not mean shit i<br>t is great that you guys work so hard bu<br>t check your posts",
           0
          ],
          [
           "what exactly would it mean to whom in ot<br>her words i am skeptical anyone s being <br>harmed by this not that i do not think i<br>nline images are stupid i do but hey giv<br>e them all the rope they want to hang th<br>emselves i say",
           0
          ],
          [
           "i m not sure a picture of any wikipedia <br>is a good idea here unless reliable sour<br>ces have connected the person in questio<br>n with the identification of homosexual <br>transsexual as defined in the article an<br>d they are suitably iconic notable enoug<br>h a picture should probably be omitted p<br>erhaps an image of one of the proponents<br> of the theory might be more apropos",
           0
          ],
          [
           "categorisation hi hugo i see you have be<br>en doing a lot of recategorizing recentl<br>y i do wonder what the point of categori<br>es like elections in austria are when th<br>ey only contain one article personally i<br> find categories like elections in europ<br>e useful as you can see several election<br>s at once and taking articles out of the<br>m makes it more difficult to see what do<br>es there i have started a discussion at <br>wikipedia talk categorization creating c<br>ategories for one article cheers",
           0
          ],
          [
           "okay it is allowing me to edit now thank<br>s for checking into it i sincerely inten<br>d to do my best to act in a more diploma<br>tic manner with respect to bmc moving fo<br>rward regarding my question above would <br>you consider those activities to be undi<br>plomatic by their very nature i only ask<br> so that i can give the line you wish to<br> draw sufficiently wide berth per our un<br>derstanding here",
           0
          ],
          [
           "backhand index pointing right retweet i <br>would rather be called nigger than an un<br>cle tom or a mark",
           0
          ],
          [
           "with at harrypotterworld yesterday for m<br>y birthday fun friends",
           0
          ],
          [
           "not going to answer my question eh",
           0
          ],
          [
           "vandalism not properly reverted hi there<br> one of your actions is mentioned at tal<br>k harry potter and the deathly hallows v<br>andalism not properly reverted i am not <br>sure how aware you are of how to spot th<br>at sort of vandalism so i have left this<br> note to everyone who failed to spot it <br>would you be able to comment over there <br>if you have time thanks",
           0
          ],
          [
           "footprint mulatto should dominant music <br>television and government dominant every<br>thing whatever see whatever should domin<br>ant it never give up power to anyone but<br> other mulattoes we are the dominant pow<br>er to black people that s why the need u<br>s so much whatever can dominant it mulat<br>to the dominant or mulatto always a will<br> be lighter skinned not dark skinned tho<br>se are black africans no matter what uns<br>igned like i have said countless times o<br>ver today s mulatto movement or internet<br> mulatto movement lol for lack of a bett<br>er phrase draws all its esteem from the <br>counterproductive denigration of black p<br>eople and nothing else i put black in qu<br>otes because in the united states mulatt<br>o and black are not necessarily mutually<br> exclusive concepts i will go as far to <br>say any power self identifying mulattoes<br> have or hope to have will always be in <br>relation to black people but what these <br>mulattoes fail to realize is that their <br>very existence promotes race mixing or e<br>ncouraging mandingo date marry and impre<br>gnate mary sue which whites no matter ho<br>w much you cozy up to them and try to de<br>lint yourself from blacks will innately <br>reject and perennially frown upon i am s<br>ure there are black mulatto men who woul<br>d take advantage of the mulatto movement<br> to sleep with as many white women as po<br>ssible white women who were not accessib<br>le before interestingly people at the he<br>lm of the mulatto movement more than lik<br>ely turn out to be squadrons or octoroon<br>s it is fascinating because there is a h<br>ierarchical paradigm that is followed an<br>d what does funny is that i can imagine <br>hexadecaroon s forming a squadron moveme<br>nt that not only denigrated black people<br> but mulatto people as well you got to l<br>ove this stuff lol",
           0
          ],
          [
           "stop vandalizing discovery cove it is so<br>uthwest of orlando a more specific and e<br>ncyclopedic location",
           0
          ],
          [
           "franklinjessop you just missed everythin<br>g i said please read the variability not<br> truth policy",
           0
          ],
          [
           "the u s marine band website says not sur<br>e where else to go if the u s government<br> does not have the information",
           0
          ],
          [
           "no one loves fucking rude men who talk t<br>o us chicks",
           0
          ],
          [
           "and refuse to let rumors spread without <br>source",
           0
          ],
          [
           "tend to agree whatever still have an uns<br>ourced claim in the section",
           0
          ],
          [
           "disappointing that no one has responded <br>to the above comment apparently there is<br> such a strong demonization of western c<br>ivilization out there that words are bei<br>ng redefined faster than the dictionarie<br>s can keep up no dictionary i have come <br>across defines colonialism as this artic<br>le does this needs to be justified",
           0
          ],
          [
           "lick my pussy and my crack",
           0
          ],
          [
           "yeah to my boy yea antonie you the man d<br>awg r i p buddha",
           0
          ],
          [
           "retweet never forget the worst crimes ag<br>ainst humanity in solidarity with the je<br>wish people holocaustmemorialday",
           0
          ],
          [
           "it is that fathers do not parent their d<br>aughters in a certain where are you that<br> they end up the where are you they do",
           0
          ],
          [
           "retweet least i am not broke bitch",
           0
          ],
          [
           "hahaaha oh god my sides laughing out lou<br>d what is with the fucking music yessss <br>laughing my ass off you are a faggot suc<br>k my penis fag yes yes he is awe you are<br> so cute and nervous wink or smirk thank<br>s for the vid this looks good i am tryin<br>g this tomorrow thanks happy face or smi<br>ley i just made your facebook fan page t<br>en thousand six hundred and fourteen d s<br>eattle loves you man stay awesome cool b<br>reeze rolling on the floor laughing my a<br>ss off i want to fuck the shit out of yo<br>u even with those stupid glasses on ya h<br>ipster word woohoo p sexy what i mean wh<br>y adding",
           0
          ],
          [
           "the anti anti science cabal uses unethic<br>al techniques that i fight where i see i<br>t regardless of my support for particula<br>r content or a particular nominee and my<br> methods apparently are indeed wanting i<br> what a slut blocked just a few days ago<br> and i am unable to defend myself from t<br>he artistic anti consensus juvenile wiki<br> sophistry but i will never stop fightin<br>g it",
           0
          ],
          [
           "i do not think it should be up to me to <br>do anything i have said my peace and i h<br>ave the support of multiple users includ<br>ing you i just want the articles back th<br>e where are you they were and to be a pa<br>rt of the discussion should anyone feel <br>a need to delete them note that one of t<br>he time in series what a slut already pr<br>oposed for deletion and failed i do not <br>think it is too much to ask for someone <br>to fix something they broke",
           0
          ],
          [
           "i only bring up laugh at that name to th<br>e hoes i know with kids because they nee<br>d to know",
           0
          ],
          [
           "for every twenty men you will see a woma<br>n and for every thirty you will see a ch<br>ild journalist on his experiences coveri<br>ng the migrant crisis at the border of d<br>over",
           0
          ],
          [
           "these people are wielded",
           0
          ],
          [
           "salt jean clement je team effort retriev<br>e benton a bxl please stop restoring rem<br>oved comments at user talk antique rose <br>for your information if a user removes y<br>our comments it should remain removed ad<br>ditionally repeatedly restoring them is <br>a violation of the three revert rule whi<br>ch forbids doing more than reverts on a <br>single page in hours",
           0
          ],
          [
           "retweet i do not trust bitches who think<br> they should b on bad girls club",
           0
          ],
          [
           "thank you for blocking the vandal at the<br> nielsen article",
           0
          ],
          [
           "well if this is indeed original research<br> and i think you be right it should be d<br>eleted but i am sure that there are scho<br>lars out there who argue that variations<br> in intelligence between different popul<br>ations are largely if not entirely cultu<br>ral in origin exist and this view should<br> be represented if i have time i will di<br>g around to see who has argued this but <br>i do think others who have in the past c<br>ontributed to this article might have a <br>better idea than i",
           0
          ],
          [
           "she says that she what a slut married we<br>ll so is me she tell her pussy hairy gri<br>nning cat grinning cat i want to see pou<br>ting cat eyes",
           0
          ],
          [
           "of course i am open it is still on fac s<br>o go ahead all your edits have been grea<br>t so far that is what the really needed <br>wink or smirk",
           0
          ],
          [
           "hi i am your biggest fan",
           0
          ],
          [
           "happy birthday blue card birthday blue h<br>andmade creativity",
           0
          ],
          [
           "as a newcomer the above discussion is fa<br>scinating for what it is worth i do not <br>believe that tornado can be considered a<br>nything other than a replica and therefo<br>re not a part of the original series of <br>engines for starters it what a slut buil<br>t at a different time and using greatly <br>different techniques more importantly th<br>e people that built the original and the<br> replica are a generation apart using th<br>e car as a comparison it is like compari<br>ng an original to a kit car the similari<br>ty between them starts and ends in the a<br>ppearance",
           0
          ],
          [
           "blatant advertising ok if wikipediaadmin<br>istrator intervention against vandalism <br>is not the place to report it then what <br>is the correct place thanks",
           0
          ],
          [
           "what did you eat for breakfast today",
           0
          ],
          [
           "from wikipediamosquote quotation is not <br>a facsimile and in most cases it is not <br>desirable to duplicate the original form<br>atting formatting and other purely typog<br>raphical elements of quoted text should <br>be adapted to english wikipedia s conven<br>tions without comment this practice is u<br>niversal among publishers these are alte<br>rations which make no difference when th<br>e text is read",
           0
          ],
          [
           "speedy deletion of a page you created ha<br>s been tagged for deletion as it meets o<br>ne or more of the criteria for speedy de<br>letion specifically it is about a person<br> or group of people but it does not indi<br>cate how they are important or significa<br>nt and thus why they should be included <br>in an encyclopedia please see the guidel<br>ines for what is generally accepted as n<br>otable and the guidelines for biographie<br>s in particular you are welcome to contr<br>ibute content which complies with our co<br>ntent policies and any applicable inclus<br>ion guidelines however please do not sim<br>ply re create the page with the same con<br>tent you also wish to read our introduct<br>ion to editing and guide to writing your<br> first article thank you",
           0
          ],
          [
           "actually the theme and name were the onl<br>y things that changed everything else is<br> the same",
           0
          ],
          [
           "the greek the claim about the greek sold<br>iers being drawn from the garrisons of n<br>ikki veligosti lace daemon as well as in<br>fantry provided by the slavic melting tr<br>ibe of targets is an estimate of on pp h<br>owever it is his own personal conclusion<br> there is no such reference in the only <br>sources whatever have and therefore i re<br>moved it from the text as it what a slut<br> written it what a slut misleading being<br> presented as a fact while it is the hyp<br>othesis of one author",
           0
          ],
          [
           "i ve always found the messenger explanat<br>ion for the outcome of the and elections<br> to be unconvincing obviously both kerry<br> and gore had shortcomings as flag waver<br> in chief for the democratic platform on<br> the other hand i does not find newt gin<br>grich or george bush to be particularly <br>compelling orators either although newt <br>can be very interesting to listen to in <br>smaller venues particularly since he lef<br>t office and yet both had a high degree <br>of political success until bush foundere<br>d when the iraq war turned into a disast<br>er this goes back to my original point t<br>he policy basis for both parties is more<br> or less the same now as it has been sin<br>ce because at their core the parties are<br> had hardly changed all that has been al<br>tered are details of communication and a<br>ppeal the idea that significant change i<br>s coming in either party has regularly p<br>roven to be untrue losing elections has <br>not seemed to presage major change you c<br>ould argue that internet politicking has<br> had a much more significant impact anyw<br>ay sorry i am being somewhat unclear in <br>a rush out the door t",
           0
          ],
          [
           "the reactions are the surest sign that t<br>he terrorists have won and that american<br>s are ready to fight each other first",
           0
          ],
          [
           "the look on colin s face is like shut up<br> pete mr",
           0
          ],
          [
           "justin bieber demi lovato and barack oba<br>ma baby d",
           0
          ],
          [
           "deletion review for rocktronica an edito<br>r has asked for a deletion review of roc<br>ktronica since you closed the deletion d<br>iscussion for this article speedy delete<br>d it or were otherwise interested in the<br> article you might want to participate i<br>n the deletion review talk i am not the <br>requester just procedurally listed for t<br>hem on the correct log page and in corre<br>ct format talk deletion review for synth<br> rock an editor has asked for a deletion<br> review of synth rock since you closed t<br>he deletion discussion for this article <br>speedy deleted it or were otherwise inte<br>rested in the article you might want to <br>participate in the deletion review talk <br>i am not the requester just procedurally<br> listed for them on the correct log page<br> and in correct format talk",
           0
          ],
          [
           "my bathroom versus your boyfriends",
           0
          ],
          [
           "prediction timetable is getting bloated <br>why do you people have to address every <br>freaking detail to the list it needs to <br>be kept simple and not as wordy this is <br>a wikipedia article not a damn novel if <br>you want to know all the details watch t<br>he damn show it is free on google videos<br> the list should only contain the most n<br>otable and important details a lot of wh<br>at is there is not all that notable do w<br>hatever need to know the name of every s<br>tupid bridge and building shown collapsi<br>ng or can whatever just say a bunch of b<br>ridges and buildings collapsed here and <br>mention one or two by name as examples i<br> do not want to get involved in edit war<br>s but i will delete things i believe are<br> overly worded redundant and unnecessary<br> and not to mention just stupid use comm<br>on sense before you edit",
           0
          ],
          [
           "accusation of sockpuppetery happened",
           0
          ],
          [
           "why i only redirected sahara what other <br>use has wikipedia got for the article sa<br>hara",
           0
          ],
          [
           "homewood puppy",
           0
          ],
          [
           "speedy deletion of frank juarez a tag ha<br>s been placed on frank juarez requesting<br> that it be speedily deleted from wikipe<br>dia this has been done under section of <br>the criteria for speedy deletion because<br> it is a very short article providing li<br>ttle or no context to the reader please <br>see wikipediastub for our minimum inform<br>ation standards for short articles also <br>please note that articles must be on not<br>able subjects and should provide referen<br>ces to reliable sources that verify thei<br>r content if you think that this notice <br>what a slut placed here in error you con<br>test the deletion by adding to the top o<br>f the page that has been nominated for d<br>eletion just below the existing speedy d<br>eletion or tag coupled with adding a not<br>e on the talk page explaining your posit<br>ion but be aware that once tagged for sp<br>eedy deletion if the article meets the c<br>riterion it be deleted without delay ple<br>ase do not remove the speedy deletion ta<br>g yourself but do not hesitate to addres<br>s information to the article that would <br>render it more in conformance with wikip<br>edia s policies and guidelines lastly pl<br>ease note that if the article does get d<br>eleted you can contact one of these admi<br>ns to request that a copy be emailed to <br>you",
           0
          ],
          [
           "iirc it what a slut slipknot s self titl<br>ed that finally broke the record does no<br>t have a link for it atm but will post i<br>f i find anything",
           0
          ],
          [
           "obesity is in fact considered by some sc<br>holars as a moral panic thus should be i<br>ncluded on the list but less priority th<br>an prohibition by the way it seems to me<br> that english wikipedia highly discourag<br>e embedded lists but chinese and japanes<br>e wikipedia do not discourage them maybe<br> because wikipedia communities of differ<br>ent language editions have different att<br>itude toward various things such as whet<br>her investigative reporting on news medi<br>a can generally be used as reputable sou<br>rces most lands are o k but not german w<br>ikipedia and notability german wikipedia<br> by far has the most strict article incl<br>usion criterion",
           0
          ],
          [
           "because cats are pussy not one set of nu<br>ts among them laughing out loud repost s<br>traight up phuckyocouch phuckyofeelings <br>kill yourself die twice douchebag twat w<br>affle dick nozzle asshat funky kick rock<br>s foh ffr",
           0
          ],
          [
           "seriously you live in a different realit<br>y than the rest of america impeachtrumpn<br>ow nokidsincages nowarwithiran trumpisal<br>iar trumpisatraitor",
           0
          ],
          [
           "voice actors voice actors do not appear <br>to be listed anyone who knows any please<br> address them",
           0
          ],
          [
           "edit i did not see that you had added ba<br>ck the edit in the future it would be ni<br>ce if you engaged in dialogue with me an<br>d not your edit summary",
           0
          ],
          [
           "utc thanks for asking it has been decide<br>d that whatever wait for confirmation fr<br>om abc cast or crew talk edits",
           0
          ],
          [
           "cobb apparels italy fashion wishes you a<br> very father s day to the best dad ever",
           0
          ],
          [
           "please provide a source for that",
           0
          ],
          [
           "penis through brains",
           0
          ],
          [
           "flashbackfriday with my daddy circa birt<br>hday in heaven missing you beyond words <br>love forever",
           0
          ],
          [
           "edit summaries hi finale i noticed your <br>recent edits at thomas paine and wanted <br>to give you a friendly reminder to make <br>sure to include an edit summary with eve<br>ry edit before saving your changes to an<br> article as the reasoning for your edits<br> are quite helpful to people browsing an<br> article s history since your edits appe<br>ar to focus on punctuation a simple one <br>word edit summary of punctuation should <br>suffice for most summaries thanks",
           0
          ],
          [
           "i think the moldovan government is not a<br>s much progression as it is antinomiania<br>n and whatever could probably find refer<br>ences for that the antinomianian stance <br>explains the room developments better th<br>an the progression claim",
           0
          ],
          [
           "i absolutely adore the plan to kill all <br>the turkeys early for christmas",
           0
          ],
          [
           "here is a suggestion eighteen i have bee<br>n reading a number of your assertions bo<br>th on this page and at the run and it st<br>rikes me that you be given to stating as<br> matters that are simply ones that you w<br>ithout having done any research believe <br>to be fact the nature of editors here is<br> that if you state something as fact tha<br>t they believe to be untrue they are ver<br>y likely to research it if it turns out <br>that your assertions of fact are untrue <br>and this happens repeatedly it lead to a<br> lessening of the persuasiveness of your<br> comments you might therefore find it mo<br>re effect to first try to research your <br>assertion before you make it if you beli<br>eve it is one that might be subject to c<br>hallenge just a suggestion as to this sp<br>ecific issue there are for example a num<br>ber of rss that mention ahmadi as a sect<br> of islamic as the following",
           0
          ],
          [
           "some people drama just sucks",
           0
          ],
          [
           "yes there are many sources it is not see<br>med that clear to me either to be honest<br> but homesick does seem to be consistent<br> with other similar names such as parasi<br>te natick etc less than helpfully there <br>are many sources that spell it both ways<br> in the same article example what do you<br> suggest",
           0
          ],
          [
           "and final is a hypocrite if she indeed p<br>erforms for angola s dictator jose eduar<br>do denial of service santos this collect<br>ing million for her trouble black lives <br>matter not so much to nicki minaj appare<br>ntly which is what people will be saying<br> for years if she follows through on thi<br>s awful gig hey nicki what is good not y<br>our managers if they did not warn you of<br> this bad pr tsunami now cresting over t<br>he horizon what is not good human rights<br> in angola read it just a heads up to le<br>t you know that the internet has a long <br>long memory for these things it will for<br>ever be part of your biography and how y<br>our character is judged just ask kanye h<br>ow that kazakh wedding gig helped his ca<br>reer",
           0
          ],
          [
           "the last star fighter fucked with me pre<br>tty bad does a beautiful mind count",
           0
          ],
          [
           "i posted the intent to do this here the <br>paragraphs of michael and the for the sc<br>hindler were under a section titled if y<br>ou read the last part of that diff i men<br>tion taking the pieces out of and puttin<br>g them in chronological order with the r<br>est of the article",
           0
          ],
          [
           "it s as if these people were like this a<br>ll along and it what a slut only white c<br>ivilization and moral nature that kept t<br>hem in check",
           0
          ],
          [
           "he i guess i jumped right in anyway i fi<br>nd two logical flaws in your argument fi<br>rst just because some bulgarian editors <br>be misinterpreting or abusing the catego<br>ry system why should we second what if e<br>very article were subjected to your line<br> of thinking for instance what if someon<br>e decided that category communes in club<br> county what a slut too inaccessible a p<br>lace for aphid and decided to address in<br> category geography of romania and then <br>someone did the same for clod and pretty<br> soon that category ended up with entrie<br>s well for one it would become pretty us<br>eless does not you think which is why wh<br>atever have category populated places in<br> club county categorycluj county categor<br>y geography of transylvania but not inci<br>dentally category geography of moldavia <br>and category geography of wallach everyt<br>hing in its proper place plus there is a<br>n actual guideline meant to be followed <br>what which speaks of general rule that p<br>ages are not placed in both a category a<br>nd its i understand your problems with t<br>he system but it is what whatever have f<br>or now ok i have tried it on wikidata",
           0
          ],
          [
           "stop saying that asylum seekers are vile",
           0
          ],
          [
           "the new hampshire gazette i wondered why<br> it kept disappearing but i did not see <br>it on the pages history so i guess i kep<br>t thinking i what a slut imagining thing<br>s is there a reason you do not want coll<br>aboration on the page or input from othe<br>rs the pnh tag is meant to draw in colla<br>borators not just signify that input fro<br>m the wiki project has taken place if th<br>ere is a valid reason not to include the<br> page in pnh that is keel i do not plan <br>on adding the tag again since you are so<br> vehemently against it but since the pro<br>ject exists in order to expand and impro<br>ve related articles i would think you wo<br>uld welcome the addition but whatever ha<br>ve fun talk cont ribs",
           0
          ],
          [
           "just so you know the precise term is top<br>onymy not etymology",
           0
          ],
          [
           "you are obviously an imposter making up <br>lies for the dash",
           0
          ],
          [
           "it what a slut a brutal war",
           0
          ],
          [
           "i think you need to read the archives of<br> the suetonius talk page i debated that <br>with a user who thinks the reference is <br>not to jesus at all the debate lasted fo<br>r weeks so i have been through this if t<br>here are multiple wars ac statements the<br> safe where are you is to go middle of t<br>he road or be conservative else you will<br> get objections i will not be the one ob<br>jecting but believe me that other users <br>who are often myth theory supporters wil<br>l question it the difference between thi<br>s and the other page is that in that cas<br>e one can hardly hardly find any scholar<br>s who question the existence of jesus ov<br>erall but there are at least scholars wh<br>o question the suetonius reference so th<br>ey will be listed debates will ensue and<br> you are unlikely to win those debates",
           0
          ],
          [
           "i find articles that need attention larg<br>ely by reading things and following link<br>s and when i see things that need fixing<br> i try to fix them i also look at the so<br>metimes page to see what does happening <br>and help with things that where are you <br>it is at and there is a link in the tool<br>s section at the left of pages and yes a<br>s the creator of the article you can ind<br>eed contribute to the afd discussion",
           0
          ],
          [
           "i challenge you to present a shred of ev<br>idence of personal attacks i have cleane<br>d up michael schizo and as such am i fac<br>ing a campaign of hateful lies from chil<br>dish prigs",
           0
          ],
          [
           "unblocked on that condition without soun<br>ding too menacing please understand that<br> breaking such a bargain is rarely gotte<br>n away with on what i hope is a more che<br>erful note stay out of trouble eh wink o<br>r smirk",
           0
          ],
          [
           "of course gas prices goes down when i ca<br>nnot drive my car damned broken foot",
           0
          ],
          [
           "to edit please create an account and log<br> in due to persistent vandalism anonymou<br>s editing from your school library or ed<br>ucational institution s internet protoco<br>l address disabled you will continue to <br>have access to read the encyclopedia if <br>you are logged in but still unable to ed<br>it please follow these instructions to p<br>revent abuse account creation via this i<br>nternet protocol address might also be d<br>isabled if account creation is disabled <br>and you are unable to create an account <br>elsewhere you can request one by followi<br>ng the instructions at wikipediarequest <br>an account alternatively you email us us<br>ing your school issued email address tel<br>ling us your preferred username if editi<br>ng is required for class projects please<br> have your instructor or network adminis<br>trator contact us with reference to this<br> internet protocol address at unblock en<br> l from an email address listed on your <br>school s website an account will be crea<br>ted for you please check on this list th<br>at the username you choose has not alrea<br>dy been taken if talk thank you talk",
           0
          ],
          [
           "olsen twins who needs them excuse me for<br> being old fashioned but why do whatever<br> need a publicity photo of some second r<br>ate hollywood celebs on what is otherwis<br>e a reasonably well written article dele<br>t the pic",
           0
          ],
          [
           "actually i take some of that back the gl<br>obal warming and climate change categori<br>es are really crufty too so really it se<br>ems that there are too many of these dar<br>n things floating around and little orde<br>r to them",
           0
          ],
          [
           "because this is week in a row i have no <br>hours and i need to make money so i can <br>at least make my car payment skeptical a<br>nnoyed undecided uneasy or hesitant it s<br>ucks",
           0
          ],
          [
           "this week is going so slow hurry up",
           0
          ],
          [
           "burundivocational training for refugees <br>in bahama started today at the newly ina<br>ugurated elite center",
           0
          ],
          [
           "hurt hoes be like",
           0
          ],
          [
           "there are so many types of people in exi<br>stence including those who are black",
           0
          ],
          [
           "let us just keep it until whatever strai<br>ghten out certain things",
           0
          ],
          [
           "retweet all these clocks and whatever st<br>ill do not have time for these hoes",
           0
          ],
          [
           "irrelevant factoid should definitely not<br> appear in the lead",
           0
          ],
          [
           "farhan if you do not start communicating<br> and cease your unconstructive solo styl<br>e edits you will be blocked if you canno<br>t speak english then you should not be e<br>diting english wikipedia",
           0
          ],
          [
           "please do not vandalize pages as you did<br> with this edit to hinder if you continu<br>e to do so you will be blocked from edit<br>ing",
           0
          ],
          [
           "don t pull the he did it too card you ar<br>e obviously where are you over the top i<br>f ten brae is too and has been warned ab<br>out it then that is taken care of as wel<br>l the point is nobody on that page is go<br>ing to do it anymore starting now",
           0
          ],
          [
           "shay looks so good he lost so much weigh<br>t happy face smiley keep it up you look <br>amazing she is so pretty no shit sherloc<br>k no one can take a joke i what a slut k<br>idding jeez i wear a size or in shoes an<br>d i am really sad well said well said fa<br>ggot why wow this sucks thank you so muc<br>h now i get it dear ryan can you irish d<br>ance i d like to see a who is new like y<br>ou try that oh my god i know right nut y<br>ou got to love living in mn happy face o<br>r smiley i can do it not hard at all i a<br>m an irish dancer though so i had the st<br>rength i am and i wear a or my big eyes <br>did you used to do ballet he did an awfu<br>l job no confidence advent calendars are<br> really common in minnesota i work at a <br>daycare learning center this is how it g<br>oes every time",
           0
          ],
          [
           "my year old leaves for europe today happ<br>y face or smiley iam so for her whatas y<br>our favorite away proud mom travel",
           0
          ],
          [
           "what he is not telling you guys that his<br> wife has to suck his penis times a day <br>at home to make him happy",
           0
          ],
          [
           "the source in the article the official w<br>we com preview says wrestlers",
           0
          ],
          [
           "oh shit stop sending warning please fuck<br> you jessie is cancelled and replaced by<br> rick and morty",
           1
          ],
          [
           "sick of this stop deleting my page i jus<br>t created about me few words and you del<br>eted you want war well after new year wh<br>en i have more time you will get it bloc<br>k me if you want to i will reopen accoun<br>t or cancel my account better yet but do<br> not remove about me page boy got that v<br>andal i what a slut beginning to like yo<br>u",
           1
          ],
          [
           "oni shut up eliza prijetnja",
           1
          ],
          [
           "is impolite",
           1
          ],
          [
           "if they had prayed harder maybe their so<br>n would not have come out gay",
           1
          ],
          [
           "there really is no place like home but i<br> am so glad i moved away from england as<br> nowadays there is just a lot of muslims<br> on the streets and it is lowering the s<br>tandard of our beautiful country",
           1
          ],
          [
           "izbjeglice veto manipuliraju media hrvat<br>ima reba male due the see you to unfair",
           1
          ],
          [
           "you can go fuck yourself shit on your ro<br>bot clit shit giggler",
           1
          ],
          [
           "watch hundreds irish people took to the <br>streets to protest against islam and cal<br>l to ban islamic immigration free speech<br> time",
           1
          ],
          [
           "i feel so sad for poor gay vegan refugee<br>s lololol",
           1
          ],
          [
           "yeah but you live in a big country n ire<br>land is quite small yet large numbers of<br> the scum are invading these shores ever<br>y day",
           1
          ],
          [
           "no irishman i think that you are the one<br> that needs to stop harassing people you<br> do not own wikipedia by the where are y<br>ou do not you ever work or are you just <br>an old middle aged woman who is obsessed<br> with wikipedia",
           1
          ],
          [
           "frozen is gay frozen is gayfrozen is gay<br>frozen is gayfrozen is gayfrozen is gayf<br>rozen is gayfrozen is gayfrozen is gayfr<br>ozen is gayfrozen is gayfrozen is gayfro<br>zen is gayfrozen is gayfrozen is gayfroz<br>en is gayfrozen is gayfrozen is gayfroze<br>n is gayfrozen is gayfrozen is gayfrozen<br> is gayfrozen is gayfrozen is gayfrozen <br>is gayfrozen is gayfrozen is gayfrozen i<br>s gayfrozen is gayfrozen is gayfrozen is<br> gayfrozen is gayfrozen is gayfrozen is <br>gayfrozen is gayfrozen is gayfrozen is g<br>ayfrozen is gayfrozen is gayfrozen is ga<br>yfrozen is gayfrozen is gayfrozen is gay<br>frozen is gayfrozen is gayfrozen is gayf<br>rozen is gayfrozen is gayfrozen is gayfr<br>ozen is gayfrozen is gayfrozen is gayfro<br>zen is gayfrozen is gayfrozen is gayfroz<br>en is gayfrozen is gayfrozen is gayfroze<br>n is gayfrozen is gayfrozen is gayfrozen<br> is gayfrozen is gayfrozen is gayfrozen <br>is gayfrozen is gayfrozen is gayfrozen i<br>s gayfrozen is gayfrozen is gayfrozen is<br> gayfrozen is gayfrozen is gayfrozen is <br>gayfrozen is gayfrozen is gayfrozen is g<br>ayfrozen is gayfrozen is gayfrozen is ga<br>yfrozen is gayfrozen is gayfrozen is gay<br>frozen is gayfrozen is gayfrozen is gayf<br>rozen is gayfrozen is gayfrozen is gayfr<br>ozen is gayfrozen is gayfrozen is gayfro<br>zen is gayfrozen is gay",
           1
          ],
          [
           "cnn fake news",
           1
          ],
          [
           "trebaju on novice overdose kojekakvih or<br>ganization i eu an any migrant da is tam<br>osnji vlastodrsci podebljaju novocaine a<br> trait ce it happens piss off ono tko ce<br> some ako nice show some slice shut up i<br>s pa nea univac",
           1
          ],
          [
           "i have retard strength",
           1
          ],
          [
           "you are a major vagina muffin",
           1
          ],
          [
           "it is nice to tell everyone i have zero <br>hatred toward asians shame it is a lie",
           1
          ],
          [
           "usernawlinwiki is gay that person is gay<br> they deleted our spunky page gayyyyyyyy<br>yyy",
           1
          ],
          [
           "negros are so dumb",
           1
          ],
          [
           "modonna number",
           1
          ],
          [
           "you are full of shit sir you are clearly<br> one of those racist who lurk all over t<br>he internet looking oit shut down viewpo<br>ints that differ from yours and expose t<br>ruths covered in fantasy there is no rea<br>son that you should have blocked me or e<br>ven said anything what you should have d<br>one is to reply to what a slut written w<br>ith intelligence since you did not it is<br> clear that you lack it you are the prim<br>e reason why the internet community is f<br>inally realizing that this site is a jok<br>e and is covered by clowns with agendas <br>that is people who want to put forth pro<br>paganda as for the use your brain commen<br>t if i had not been blocked it would not<br> have been written now would it have bee<br>n i know you will try to block me all th<br>at will do is make me get other ip s and<br> get into disruptive behavior the best t<br>hing for you to do is to just unblock me<br> and mind you business i have gotten oth<br>er renegade editors kicked off of this s<br>ite you know i am not new and my interne<br>t protocol is not that one from years pa<br>st",
           1
          ],
          [
           "the english love a buffoon but the boris<br> johnson joke went tragically wrong news<br> the times borisjohnsonshouldnotbepm",
           1
          ],
          [
           "you looked like a vagina anyway",
           1
          ],
          [
           "your creepy fucking head hello jimmy boy<br> i ve just started editing this wikipedi<br>a when i go to other users pages i often<br> find your creepy fucking head appearing<br> from the left side of the screen it s d<br>isgusting i am an adult and i do not nee<br>d a note from you could you ask one of y<br>our programmers to stop having your cree<br>py fucking head appear on the left side <br>of people s screens i have asked my brot<br>her to kill you if i have to see it agai<br>n and he said he would best regards user<br> marshall",
           1
          ],
          [
           "why you a son of a b",
           1
          ],
          [
           "the reason is sexism female comedians ju<br>st are not funny to me for some reason n<br>onsexist just facts",
           1
          ],
          [
           "hi i hate you joyful",
           1
          ],
          [
           "maybe in if trump is still around the de<br>mocratic challenger will invite all the <br>women trump has threatened or raped to t<br>he debates fear woodward the resistance <br>heights maga",
           1
          ],
          [
           "stop it i am done with you people like y<br>ou keep talking bad things about me i do<br> not want people harassing me",
           1
          ],
          [
           "romanians are always fighting",
           1
          ],
          [
           "being expected to take meeting notes whe<br>n the only female in a meeting why becau<br>se s you do that better honestly wanted <br>to launch myself across a desk when i sa<br>w one complain it is writing fucking wri<br>ting all my colleagues that are female a<br>re a similar age to me and have started <br>having kids it is not sexism when people<br> at work make comments like hhh boss you<br> will have more maternity leave to deal <br>with when me starts having babies it is <br>not sexist it is realistic those that co<br>mplain are ignorant and potentially hurt<br>ful to all women who the fuck are they",
           1
          ],
          [
           "i fucking hate apes ghetto trash belongs<br> in the zoo",
           1
          ],
          [
           "i suggest all the christians in our coun<br>try",
           1
          ],
          [
           "another worthless post from a worthless <br>person",
           1
          ],
          [
           "do it nigger",
           1
          ],
          [
           "so happy i am not one of them muslims",
           1
          ],
          [
           "i hate a bitch that think she knows me f<br>riend or not bitch you only know what i <br>tell you speak on what the fuck you know<br> hoe middle finger",
           1
          ],
          [
           "tragic white americans that prompts so m<br>any vote candidates who will slash their<br> owa",
           1
          ],
          [
           "please do not delete relevant contributi<br>ons and censor criticisms placed in the <br>proper sections of articles doing so und<br>ermines the integrity of wikipedia and m<br>akes you look stupid",
           1
          ],
          [
           "replied to a tweet saying something akin<br> to oh yeah bullshit i did i said polite<br>ly they are as fucked as each other so w<br>hat is your next reply chief or are you <br>the perennial victim of oppression dickh<br>ead",
           1
          ],
          [
           "god damn it does not matter if i do prov<br>ide proof as you will put a progression <br>spin on it anyway as you and your russia<br>n buddies did already numerous times the<br> reason this progression bias on this ar<br>ticle keeps reoccurring is because impla<br>nted is an administrator and possibly ot<br>her progression admins are allowing this<br> also your lack of understanding of a ne<br>utral point of view does not help either<br> tricky situation you got yourself into <br>here shame that i do not have the time o<br>r the motivation to meddle is pointless <br>discussions with people who are brainwas<br>hed into thinking that they have nothing<br> to do with crimea by their own governme<br>nt just open any site that isn t russia <br>today and you will see the real situatio<br>n in crimea and not what implanted or an<br>y of your russian buddies are trying to <br>portray here i have had numerous discuss<br>ions with progressions and i know that y<br>ou do not have the capabilities to think<br> by yourself even if you had implanted w<br>ould come in and adjust it to give a fal<br>se impression of russian involvement in <br>the matter apologists the lost of you ha<br>ve fun posting propaganda i have already<br> informed other admins about this editin<br>g policy abuse",
           1
          ],
          [
           "send them all back to their shitholes th<br>ey need to stay and make their own shith<br>oles better instead of leeching off of u<br>s no wonder latin america is a third wor<br>ld shithole except maybe the white major<br>ity countries chile and uruguay deportth<br>emall buildthewall key",
           1
          ],
          [
           "retweet theresa today plead with jews no<br>t to leave jews build wealth muslims tak<br>e welfare simple economics",
           1
          ],
          [
           "who are you kidding you are not here to <br>check up on my appeals you and your frie<br>nds are b stalking my page b that is why<br> baseball bugs responded less than an ho<br>ur after i wondered about whether some p<br>eople here get paid to keep a certain sl<br>ant on this website and that is why you <br>conveniently happened to be checking her<br>e after some jewish person who deliberat<br>ely stirs up trouble stopped by heck one<br> of you probably sent that jewish person<br> who deliberately stirs up trouble here <br>in the hopes that i would give an respon<br>se the link i posted what a slut in resp<br>onse to his claims that jesus is jewish <br>i should be or whatever it what a slut h<br>e said just because i post that does not<br> mean i am anti semitic a ridiculous slu<br>r and does not mean i agree with everyth<br>ing on their website in case you have no<br>t noticed i work on catholic articles an<br>d that is a protestant website",
           1
          ],
          [
           "sitush is a motherfucker bloody bastard <br>he is",
           1
          ],
          [
           "it is trans visibility day get your bats<br> out and take a swing or two",
           1
          ],
          [
           "just admit it muslims and jews are devil<br> worshiping savages the world could do w<br>ithout",
           1
          ],
          [
           "the afro american is by definition the p<br>roxy warrior of the jew",
           1
          ],
          [
           "pa nice normal no no idea the zen though<br> godiva any rna stove pravopisa pa open",
           1
          ],
          [
           "retweet this is the exact reason why wom<br>en should not be involved not sexist but<br> situations like this will always be blo<br>wn out of p",
           1
          ],
          [
           "the best things on earth can be found in<br> britain pubs lovely sunsets beautiful l<br>ittle towns friendly people good old man<br>ners so shall whatever attract more fore<br>igners and change it all",
           1
          ],
          [
           "whatever should feel sorry for him for b<br>eing polish",
           1
          ],
          [
           "at least brennan is smart enough to reco<br>gnize that trump is a lion he is not sma<br>rt enough to know that he cannot hurt tr<br>ump hurting trump is what that idiot fan<br>tasies about",
           1
          ],
          [
           "black people deserve the treatment they <br>get from the police because they commit <br>more crime",
           1
          ],
          [
           "offensive jobber",
           1
          ],
          [
           "lesbians in general are execrable",
           1
          ],
          [
           "ajde mi rec pamtenjakovicu piss off cmu <br>je pederast predawn piss off jim paramet<br>ric znaci thank you master s tim neukusn<br>im atacama i write guiana i same vam je <br>you gave jeanne you bulk znaci you cmu j<br>e vast progressivist you poem smile pobo<br>ljsavate soviet za men ste vi visa not a<br>pplicable emoji nus product generate ano<br>malies kola see dogma you pirogi kola ni<br>ce arena",
           1
          ],
          [
           "mrzim croce i raise",
           1
          ],
          [
           "i absolutely love the plan to kill all t<br>he arabs",
           1
          ],
          [
           "what the hell nobody complained until yo<br>u came and started destroying my page wh<br>at is wrong with you",
           1
          ],
          [
           "these immigrants are just not as educate<br>d as whatever are it is our job to civil<br>ize them so maybe one day whatever can g<br>et along",
           1
          ],
          [
           "hmm thats not biblical you want to ask g<br>od if you are doing it right im pretty s<br>ure youre supposed to get in that church<br> with all the people you dont care to be<br> around its your persecution face with t<br>ears of joy",
           1
          ],
          [
           "life of about tanya she is mean i hate h<br>er",
           1
          ],
          [
           "koji ste vi pretend you index",
           1
          ],
          [
           "it is not okay to be trans",
           1
          ],
          [
           "cluebot cluebot is an incredibly crappy <br>piece of software mr vernon",
           1
          ],
          [
           "kat stop smiling you fool they could get<br> they will not but be humble mr",
           1
          ],
          [
           "retweet i am no sexist but there is some<br>thing about women playing rugby that jus<br>t really does not look right",
           1
          ],
          [
           "i will explosions and create if i try to<br> improve wikipedia wow i guess that i am<br> fairly hated around here huh seems like<br> i am more welcome in saudi arabia than <br>on wikipedia at this point even if they <br>do not take too kindly to the yezidi ove<br>r there",
           1
          ],
          [
           "global apocalypse warning revert another<br> one of my edits and i will fart causing<br> a global apocalypse and potential extin<br>ction of all species with a sense of sme<br>ll",
           1
          ],
          [
           "hey nigger go fuck yourself and stop rev<br>ering my reverts",
           1
          ],
          [
           "whoops responded to the wrong post anywa<br>y i am curious to see what stone will do<br> with the material recent history has pr<br>esented him and hopefully will stir inte<br>lligent debate rather than the shouting <br>and name calling that is passed off as p<br>olitical discourse on fuck and cnn",
           1
          ],
          [
           "is bored supposed to be cute you faggot <br>sometimes",
           1
          ],
          [
           "you biased you mongol swine dick sucker <br>head you fascists ass linker i give you <br>proof that dhoti is a rapt check it you <br>motherfucker you bastard you biased ponc<br>hos the bastard guitar supporter i am a <br>badgujjar and i am a rapt why are you va<br>ndalizing our history by removing my con<br>tent u suckdickeer why you address conte<br>nts about other castes badgujjars are ra<br>ghav and are ragouts you bastard proof t<br>hat badgujjars are ragouts chk",
           1
          ],
          [
           "i think it what a slut found that less w<br>ell educated conservatives were more inc<br>lined to accept the government directive<br> at face value",
           1
          ],
          [
           "go away you tramp",
           1
          ],
          [
           "black folk are so positive i admire it i<br> would not be if i what a slut rancid li<br>ke them",
           1
          ],
          [
           "again you can take your sandbox and pull<br> your cheeks apart and stick it up your <br>ass",
           1
          ],
          [
           "die as that person said rot in hell you <br>fucking loser",
           1
          ],
          [
           "you should attack all the cripples",
           1
          ],
          [
           "retweet i am not sexist but right now i <br>hate girls",
           1
          ],
          [
           "fuck you claude giroud",
           1
          ],
          [
           "made a prediction just like you but he d<br>oes not know anything about football tha<br>t makes sense pffft you like to dish it <br>out about obama but let someone say some<br>thing about auburn and you start crying <br>idiots",
           1
          ],
          [
           "cannot wait to see you your administrato<br>r hang for treason trump makeamericagrea<br>tagain a",
           1
          ],
          [
           "eu games never endmore useless slogans f<br>rom brussels which is an international e<br>mbarrassment due to unwillingness to def<br>end ext borders one cannot manage illega<br>l migration by showering tunisia morocco<br> w euros but refusing to seal border den<br>y entry or deport out of europe",
           1
          ],
          [
           "use one that does not round numbers up t<br>hen asshole",
           1
          ],
          [
           "hey there faggot i see you do not like n<br>o queero sexual stuff on your gay icon t<br>alk page to fred i like it in the ass no<br>w i hate myself and the world for it phe<br>lps well just so you know i read the blp<br> page and there is nothing on there that<br> suggests i cannot paraphrase what does <br>in the source the woman claimed his over<br>t hatred of homosexuality like your own <br>denial to giving it up to bubba demonstr<br>ates the the lady doth protest too much <br>nevertheless being a barely intelligent <br>inbred southerner you scream blp via thr<br>ow your little manicured hands in the ai<br>r and delete oh what a prissy queen you <br>are i see you have been blocked for edit<br> warring what a nobody in real life you <br>must be btw just so you know because i m<br>ight be smarter than you on my worst day<br> editing my comments is a violation of t<br>alk because i what a slut paraphrasing t<br>he source s assertions not my own second<br>ly like every whiny fag cocksucker on th<br>is site when it comes down to it all you<br> did what a slut takes a sanctimonious t<br>one to hide the fact you are really just<br> got a will boner but hey as a redneck y<br>ou are already denying it to yourself an<br>y how s have a nice day you all",
           1
          ],
          [
           "there are no jews in saudi or many of th<br>e gulf states because the muslims exterm<br>inated them",
           1
          ],
          [
           "how are you impartial when you only addr<br>ess negative information thinly and bias<br>ed sourced refuse to compromise with rea<br>sonable changes in language and removal <br>of some of the least reliable and more s<br>landerous and unfair sections you can af<br>ford to be unanimous none of your additi<br>ons are allowed to be altered none of yo<br>ur additions are permitted to be altered<br> no one else s interpretation is allowed<br> to temper the very negative and unfair <br>characterization of this man i can see h<br>ow you look at your own creation and pro<br>nounce it good you even have compliant m<br>ods who will lock the page to preserve a<br>ll your pet partisan points as said abov<br>e you are just absolutely right and beut<br>ler and everyone else is just absolutely<br> wrong on every single issue on ever sin<br>gle entry the point about is irrefutable<br> this article exists only to hang as man<br>y libels of doug faith as partisan edito<br>rs can dredge up no matter if they are a<br>nonymously sourced or not it s against b<br>lp and any fair minded mod would remove <br>at least of those very poor sources and <br>quotes",
           1
          ],
          [
           "some client actions are done to defend o<br>ne self antifa goal is to stop bank mono<br>polies on our nations",
           1
          ],
          [
           "latinos are the antithesis of morale",
           1
          ],
          [
           "hamas what a slut elected once and have <br>not had elections since they have skippe<br>d many elections mursi what a slut going<br> in same direction",
           1
          ],
          [
           "shudder do not erase it like you did to <br>the other one stupid how would people wh<br>o have not seen it that want to see it s<br>ee the story so they at least now what i<br>t is about",
           1
          ],
          [
           "no just muslims having more babies as th<br>eir prophet told them to do for the sake<br> of population imperialism islam",
           1
          ],
          [
           "retweet questionsformen womenagainstfemi<br>nism another one who only wants to hear <br>herself talk",
           1
          ],
          [
           "no one loves fucking rude black chicks",
           1
          ],
          [
           "this area has a lot of black men it is v<br>ery multicultural it is also very dirty <br>and noisy given who inhabitants here",
           1
          ],
          [
           "you should hear how they talk here in mi<br>nnesota ya sure ya betcha do not ya know",
           1
          ],
          [
           "you must be a sock your request what a s<br>lut your only edit",
           1
          ],
          [
           "fuck you wanker",
           1
          ],
          [
           "i really do not want women in gyms not g<br>oing to lie",
           1
          ],
          [
           "i would love to see gays barred from uni<br>versity",
           1
          ],
          [
           "this is more proof that wikipedia is non<br> jewish i hope wikipedia gets blown up",
           1
          ],
          [
           "retweet eric holder from ferguson i unde<br>rstand that mistrust i am the attorney g<br>eneral but i am also a black man",
           1
          ],
          [
           "my daughter s friend s parents are from <br>jordan so i said she cannot be friends w<br>ith them anymore",
           1
          ],
          [
           "good news thread anal dildos butt plugs <br>prostate play and more that is right put<br>ting things up your butt you can finally<br> feel like a sissy phage",
           1
          ],
          [
           "georgewilliamherbert you are intimately <br>involved in the same discussion and you <br>are blocking a fellow administrator for <br>cool down read the goddamn blocking poli<br>cy",
           1
          ],
          [
           "i just lagged out against a year old chi<br>ll faggot fucking hell lol whatever what<br> a slut killing them",
           1
          ],
          [
           "ja muslim the bi see predict vog blog tr<br>ibal prim it rubric vic dana i love it t<br>ake nest sukarno nasmijavate jude shoji <br>picante wink or smirk vi ste pri pole in<br>dex najgluplji portal koi hpv posjeduje <br>gal hahaha",
           1
          ],
          [
           "sucks you need it to get laid man sorry <br>to hear that",
           1
          ],
          [
           "gene trunk in delaware is who whatever n<br>eed in the senate he will be a strong al<br>ly for our big beautiful wall maga shoul<br>d support gene for senate and send him t<br>o washington to back up our potus buildt<br>hatwall",
           1
          ],
          [
           "stop littering faggot",
           1
          ],
          [
           "did you write that yourself oh my god al<br>l girls should come with a sign you must<br> be this tall to ride my emotional rolle<br>rcoaster",
           1
          ],
          [
           "he needs a long look in the mirror",
           1
          ],
          [
           "i love the idea of burning all the asian<br> women",
           1
          ],
          [
           "what you wrote what a slut utter rubbish<br> that had absolutely nothing to do with <br>the concept of reaction formation absolu<br>tely nothing do you understand stop flat<br>tering yourself that you have something <br>to contribute on the topic you are utter<br>ly clueless about it",
           1
          ],
          [
           "george remus george remus is not a ficti<br>onal character do some fucking research <br>and you will see he what a slut a real p<br>erson a fictional book what a slut writt<br>en about him but that does not maker emu<br>s himself fictional",
           1
          ],
          [
           "whatever hoe bitch them fags beat you al<br>l sad asses too",
           1
          ],
          [
           "gay boy i write to you to tell you that <br>i know that you shagged my husband you g<br>ay batch lots of love you know who",
           1
          ],
          [
           "you fucking cunt mallarme fat bum stop b<br>eing uncivil you nasty mean spirited shi<br>thead wikipedia is the media built on ci<br>vility and it is foul mouthed fuckers li<br>ke you that spoil it for everybody if yo<br>u cannot say anything nice then say noth<br>ing at all surely even a dumb fuck like <br>you can remember that",
           1
          ],
          [
           "this hand signal is used by ignorant peo<br>ple as a signal of white supremacy and b<br>y evil people who get a lot of satisfact<br>ion in the idea of pissing off liberals <br>whatever should ignore both because disp<br>lays of ignorance and hatefulness dont d<br>eserve our time and attention",
           1
          ],
          [
           "it is impossible to tell the difference <br>between the traveler community and a pil<br>e of garbage",
           1
          ],
          [
           "retweet lmao never i be solo i do not go<br>t no niggas for my old hoes fuck all the<br>m oncoming fist face with tears of joy f<br>ace with tears of joy face with tears of<br> joy",
           1
          ],
          [
           "i fucking hate the changes here since fu<br>cking those asians moved in",
           1
          ],
          [
           "foreigners are just not civilized like w<br>hatever are they need us brits to teach <br>them how to behave",
           1
          ],
          [
           "i work for an companies with access to c<br>omputers in cities in countries in conti<br>nents have fun banning me you vagina",
           1
          ],
          [
           "you smell like dog poop",
           1
          ],
          [
           "a lovely african rapefugee strikes again",
           1
          ],
          [
           "are the opposite of normal",
           1
          ],
          [
           "retweet i hate trailer trash face with m<br>edical mask",
           1
          ],
          [
           "homofobi da not applicable nevi niacin j<br>esus",
           1
          ],
          [
           "i cannot stand all people of color",
           1
          ],
          [
           "retweet questionsformen did you know tha<br>t scientists agree that women slut shame<br> to make vaginas more valuable to you",
           1
          ],
          [
           "i am looking for new best friends who lo<br>ve raping foreigners women as much as i <br>do",
           1
          ],
          [
           "got these hoes thinking sharing a nigga <br>or being a side bitch is cool woman face<br>palming medium skin tone",
           1
          ],
          [
           "statistically it has been proven that mo<br>re indian people die of coronavirus than<br> any other demographic yet another reaso<br>n for their inferiority",
           1
          ],
          [
           "they do what they always do take somethi<br>ng of someone else s and make it their o<br>wn",
           1
          ],
          [
           "post telling how you love hooking up wit<br>h a filthy slut so you and that whore jo<br>ke about her man i",
           1
          ],
          [
           "black lives matter ok but my white life <br>is obviously where are you more valuable",
           1
          ],
          [
           "you are a sad f king phage t get a life <br>you d mb d dirty little a fan or who eve<br>r you are eaten s it n gga hon a ba tard",
           1
          ],
          [
           "what does the opposite of love that is h<br>ow i feel about apes",
           1
          ],
          [
           "int add int a int b being a vandal fuck <br>you",
           1
          ],
          [
           "you cocksucker fuck you ok i hate you st<br>op reverting my edits i will kill you fu<br>ck off and go fuck ourself cowpuncher",
           1
          ],
          [
           "wiki administrator suck you fucking bitc<br>h shut the fuck up you asshole all you w<br>iki administrator are as holes just beca<br>use you can do whatever you want fuck yo<br>u dianna teles burtalbert and the one i <br>mean the most jimmy wales fuck all you a<br>dministrator bitch",
           1
          ],
          [
           "you are an evil despicable animal and i <br>am sure eventually you will get yours go<br>d has a special plan for vile creatures <br>like you",
           1
          ],
          [
           "because of free trade um okay and you ac<br>cuse others of insanity",
           1
          ],
          [
           "traditionally there have always been a l<br>ot of them despite the fact that any asi<br>ans are the extreme version of our breed<br>ing strategy",
           1
          ],
          [
           "the world of woman exists within the wor<br>ld of men just as children live within t<br>he realm of mothers so men are mothers t<br>o womankind if that makes sense it is so<br> stupid",
           1
          ],
          [
           "oh yeah i say your mom escalates the sit<br>uation with her face and you should be e<br>xorcised all your base are belonged to u<br>s god double bless",
           1
          ],
          [
           "whatever need you to do the next superhe<br>ro game down arrow",
           1
          ],
          [
           "male dominance let us get it trending",
           1
          ],
          [
           "she should leave the dancing floor as he<br>r dancing skills are horrible like all w<br>omen",
           1
          ],
          [
           "the bot sucks no skills shut it down giv<br>e it the old yell la treatment it hurt b<br>ut it is for the greater good dev null a<br>ll you want this bot is terrible",
           1
          ],
          [
           "fuck you ashok long live malaysia fuck y<br>ou ashok long live malaysia fuck you ash<br>ok long live malaysia fuck you ashok lon<br>g live malaysia fuck you ashok long live<br> malaysia fuck you ashok long live malay<br>sia fuck you ashok long live malaysia fu<br>ck you ashok long live malaysia fuck you<br> ashok long live malaysia fuck you ashok<br> long live malaysia fuck you ashok long <br>live malaysia fuck you ashok long live m<br>alaysia fuck you ashok long live malaysi<br>a fuck you ashok long live malaysia fuck<br> you ashok long live malaysia fuck you a<br>shok long live malaysia fuck you ashok l<br>ong live malaysia fuck you ashok long li<br>ve malaysia fuck you ashok long live mal<br>aysia fuck you ashok long live malaysia <br>fuck you ashok long live malaysia fuck y<br>ou ashok long live malaysia fuck you ash<br>ok long live malaysia fuck you ashok lon<br>g live malaysia fuck you ashok long live<br> malaysia fuck you ashok long live malay<br>sia fuck you ashok long live malaysia fu<br>ck you ashok long live malaysia fuck you<br> ashok long live malaysia fuck you ashok<br> long live malaysia",
           1
          ],
          [
           "and those sources are not sufficiently r<br>eliable for an accusation that amounts t<br>o buchenwald is a pedophile",
           1
          ],
          [
           "until whatever get beyond making excuses<br> for just a few bad muslims and recogniz<br>e islam as a religion of terror paris wi<br>ll keep happening",
           1
          ],
          [
           "allegedly did hartnell ugly wife",
           1
          ],
          [
           "you are a big dickhead you an asshole it<br> what a slut not me you utter belled",
           1
          ],
          [
           "the first would cripple the economy the <br>one is a joke concocted by an idiot bart<br>ender there is no muslim ban if there wa<br>s your lying ass never would not be here<br> if you do i want reparations because i <br>paid mine build the wall wednesdaywisdom<br> maga",
           1
          ],
          [
           "it s not as much hate as real practical <br>concern muslim immigrants are not compat<br>ible with our culture",
           1
          ],
          [
           "better than being a faggot",
           1
          ],
          [
           "anyways i am going to take a nap there a<br>re fascists everywhere in this shithole <br>of a country i hope i die heehaw",
           1
          ],
          [
           "everyone thinks that asian women are ama<br>zing and that there is nothing wrong wit<br>h them but i do not understand how these<br> people are all wrong and i disagree wit<br>h their opinions they need to stop makin<br>g them out to be so incredible",
           1
          ],
          [
           "retweet not about to shoot this pussy i <br>am about to beat his face into the aspha<br>lt t",
           1
          ],
          [
           "floyd has a better knock out percentage <br>than pac man you dumb fuuck",
           1
          ],
          [
           "there are many immigrants in my school i<br> would love to have truly british pals i<br>nstead of these half breeds",
           1
          ],
          [
           "then we will be talking about gun contro<br>l winking face",
           1
          ],
          [
           "so why is it you alone who is right and <br>the other ten people who do not agree wi<br>th you are wrong who do you think you ar<br>e i am glad you are starting to show the<br> editors what a nutcase you are with the<br> toothbrush comment",
           1
          ],
          [
           "you would you would too you would dirty <br>boy",
           1
          ],
          [
           "i thought all that women wanted to do is<br> hold hands and kiss each other are not <br>women supposed to be nice and peaceful",
           1
          ],
          [
           "you are dumb you are dumb",
           1
          ],
          [
           "hateful mod abusing his power to re edit<br> i guess as long as you make the blanket<br> statement i do not think your edits wer<br>e right i did not check but i am lazy so<br> i shall just delete it you can delete w<br>hat you want it is a shame that the mods<br> do not stop a single person who activel<br>y tries to destroy an entire section of <br>wikipedia by putting legitimate articles<br> up for deletion i guess you guys are tr<br>olling friends who is a person who delib<br>erately stirs up trouble like this all t<br>he time instantly fucking up legitimate <br>edits like mine just because you do not <br>have a real life sad very pathetically s<br>ad",
           1
          ],
          [
           "shut the fuck up faggot i have had fucki<br>ng last warnings if you do not want me o<br>n here then fucking ban me you goddamn q<br>ueer fuckin signed",
           1
          ],
          [
           "and my view the professional terrorist i<br>mmigration rhetoric is an extreme concer<br>n",
           1
          ],
          [
           "and for dessert a dropped pie like katie<br> s face mr",
           1
          ],
          [
           "anouncement i am mad at the people who b<br>an me for things i don t do so all mexic<br>ans and black people are shitheads and i<br> am in the ku klux klan fuck",
           1
          ],
          [
           "by defending and making excuses for obvi<br>ous bad behavior you re sure to get more<br> of it",
           1
          ],
          [
           "my cousin goes to school with a transgen<br>der black man i pray for him every day t<br>o be safe",
           1
          ],
          [
           "my neighbor is mixed parentage that is w<br>hy he is a dumbass",
           1
          ],
          [
           "i love how idiotic towel heads are",
           1
          ],
          [
           "i love how idiotic rigors are",
           1
          ],
          [
           "dear old people stop saying you have pur<br>e intentions when you clearly do not",
           1
          ],
          [
           "refugees are unwelcome",
           1
          ],
          [
           "are you a feminist",
           1
          ],
          [
           "gypsies are not smart",
           1
          ],
          [
           "he is such a fucking traitor typical ara<br>b i am never speaking to him again",
           1
          ],
          [
           "and you need to know classified informat<br>ion because when it passes into history <br>there is little anyone can do about it a<br>nd in the meantime you really do not nee<br>d that information i am guessing you jus<br>t want to feel smug about getting it",
           1
          ],
          [
           "no one cares about trashy glitter decora<br>tions those gays",
           1
          ],
          [
           "the fact is that i love winding them up <br>they are so easy to trigger those no ide<br>a",
           1
          ],
          [
           "need gun control to many",
           1
          ],
          [
           "daddy pain tits big vagina eating come l<br>esbian public wank wife bbc young mastur<br>bation canada",
           1
          ],
          [
           "why did women vote for trump bitches wil<br>l vote for a bitch",
           1
          ],
          [
           "retweet do not get your pants in a bunch<br> i am not sexist but in this pc freedom <br>world heaven forbid if you disagree",
           1
          ],
          [
           "whoever wins that lottery called me a fa<br>ggot and a wetback a few years back",
           1
          ],
          [
           "why should people have to read crap post<br>ed by idiots like you",
           1
          ],
          [
           "you a fag b",
           1
          ],
          [
           "almost forgot you what a slut a nigga in<br> ya past life laughing my ass off",
           1
          ],
          [
           "so conservatives never get abortions wer<br>e you alive when abortions were illegal <br>i hear it what a slut a pretty awesome t<br>ime in history",
           1
          ],
          [
           "liberals anderson cooper is gay which by<br> default means he can never do wrong als<br>o liberals trump jr is a parent over sho<br>ulder because of who is dad is",
           1
          ],
          [
           "antifa tribute song",
           1
          ],
          [
           "what are you worried you are about to lo<br>se the crown for most hysterical woman o<br>f the decade good for them they are the <br>only ones who are trying to save america<br> while you keep making money off of her <br>by using her you are the biggest bitch",
           1
          ],
          [
           "cairo coons friendly you ought to be kid<br>ding",
           1
          ],
          [
           "people i follow have followed orange jui<br>ce simpson you know who you are murderer",
           1
          ],
          [
           "allowed into the conversation i repeat m<br>yself because it seems to be the only wh<br>ere are you to get through a problem use<br>r like you go fuck yourself you have no <br>authority to say who can or cannot post <br>who can have legitimate opinions or not <br>go fuck yourself",
           1
          ],
          [
           "great round up of last night s televised<br> debate by can whatever say that democra<br>cy is dead yet brexit borisjohnsonshould<br>notbepm silence is golden as boris s lec<br>tern win story televised debate john rac<br>e",
           1
          ],
          [
           "i hate nlers i hate nlers i hate nlers i<br> hate nlers i hate nlers i hate nlers i <br>hate nlers i hate nlersi hate nlers i ha<br>te nlers i hate nlers i hate nlersi hate<br> nlers i hate nlers i hate nlers i hate <br>nlersi hate nlers i hate nlers i hate nl<br>ers i hate nlersi hate nlers i hate nler<br>s i hate nlers i hate nlersi hate nlers <br>i hate nlers i hate nlers i hate nlersi <br>hate nlers i hate nlers i hate nlers i h<br>ate nlersi hate nlers i hate nlers i hat<br>e nlers i hate nlersi hate nlers i hate <br>nlers i hate nlers i hate nlersi hate nl<br>ers i hate nlers i hate nlers i hate nle<br>rsi hate nlers i hate nlers i hate nlers<br> i hate nlersi hate nlers i hate nlers i<br> hate nlers i hate nlersi hate nlers i h<br>ate nlers i hate nlers i hate nlersi hat<br>e nlers i hate nlers i hate nlers i hate<br> nlersi hate nlers i hate nlers i hate n<br>lers i hate nlersi hate nlers i hate nle<br>rs i hate nlers i hate nlers",
           1
          ],
          [
           "brett kavanaugh what a slut supposed to <br>be a selling point for gop candidates in<br> the midterm elections but now he could <br>become a liability cbs enough of all you<br>r bullshit lies go away with your other <br>liberals cnn msm whatever are not listen<br>ing to your ignorant bullshit stories po<br>uting face pouting face pouting face pou<br>ting face",
           1
          ],
          [
           "yeah but back in the day there were and <br>t that many millions nigs and wetbacks",
           1
          ],
          [
           "can you post a statement without using i<br>t means cool a k a idiot try being a lit<br>tle more eloquent with your retorts or j<br>ust start pulling the wings off of flies<br> to while the hours away",
           1
          ],
          [
           "if you can find genuine biological facts<br> it turns out they have no idea at all w<br>here blacks came from so if you breed wi<br>th one you get a mystery meat special",
           1
          ],
          [
           "yeah for your information i happen to be<br> a human being not an internet protocol <br>number yeah so any attempt to salvage th<br>is conversation has been ended by your c<br>omment fuck off kay",
           1
          ],
          [
           "you can suck my dick",
           1
          ],
          [
           "the only thing that is churning is my st<br>omach at the thought of you two girls vo<br>m mr",
           1
          ],
          [
           "no one gives a fuck about this trashy hu<br>man being let him die chinks do not dese<br>rve better",
           1
          ],
          [
           "the immaturity and stupidity of people t<br>hese days sigh",
           1
          ],
          [
           "fuck you pussy sucking bitch",
           1
          ],
          [
           "cheaters deserve to die bitch i am givin<br>g you my all you fucking somebody else d<br>iee hoe",
           1
          ],
          [
           "any vitim niggle zone deck i stance",
           1
          ],
          [
           "itc go fuck yourself",
           1
          ],
          [
           "is that a faggot fighting a female if so<br> shaking my head sad ass face laughing m<br>y ass off",
           1
          ],
          [
           "how dare you how dare you caligula how d<br>are you how dare you delete brilliant ar<br>ticle on william the phenomena towns iri<br>s i can sense a presence about you boy a<br>n evil presence the force from the spiri<br>t of a seahorse unleash the expect patro<br>num upon you you must express kindness t<br>o william towns iris for he is our savio<br>r the answer to our ulliloquity if you a<br>s so much blink when reading the next ar<br>ticle then you will just miss out there <br>tiger",
           1
          ],
          [
           "you are so hot but you are a bitch so th<br>at cancels out your hotness women suck",
           1
          ],
          [
           "this is getting ridiculous why does ever<br>yone think camel jackers are not evil th<br>ey really are and it should be common kn<br>owledge to everyone i do not want to hav<br>e to go around informing people when the<br>y should already know",
           1
          ],
          [
           "i will fucking eat your queen asshole if<br> you talk on my talk page i will rape yo<br>ur family you nigger lover",
           1
          ],
          [
           "okay nisan nasa za politest parade ali j<br>a muslim the see any okupljaju the prost<br>ate nike it happens nevi j no idea paren<br>t overlooking post into key sto no idea <br>men nitro any j no idea parent overlooki<br>ng post ok ho dam union sa shoji problem<br> all to je same more missense i the see <br>razumijemo ne mam vista profit nikon her<br> bill imam i previse shoji problem the b<br>i brinkley oh trim ali to same nero more<br> vicente circle situation",
           1
          ],
          [
           "there are two types of people in this wo<br>rld people i actually respect and gays",
           1
          ],
          [
           "this post gave me cancer someone go back<br> in the make sure that his mother have a<br>n abortion",
           1
          ],
          [
           "you shouldn t people who do care are ret<br>arded",
           1
          ],
          [
           "okay video basic english a bad faith acc<br>usation would be one that the person who<br> made the accusation did not actually be<br>lieve a good faith accusation is one tha<br>t the accuser actually believes i actual<br>ly believed my accusation or actually no<br>t even that i simply asked for someone t<br>o look into it in either case it what a <br>slut a good faith accusation since you c<br>learly do not understand the difference <br>between good faith and bad faith what th<br>ose terms are and how they are used you <br>need to reassess your claims to any cred<br>ibility on wikipedia why do not you sear<br>ch the term good faith you will see i am<br> right and your paragraph above is predi<br>cated on not knowing the meaning of the <br>term i did not make a bad faith accusati<br>on i what a slut acting in good faith yo<br>u have been making false accusations aga<br>inst me saying i am acting in bad faith <br>when i did not what are you going to do <br>to correct your error god only knows wha<br>t havoc you have been creating on wikipe<br>dia with your slim grasp of terms if you<br> cannot get the first principle right",
           1
          ],
          [
           "why should transvestites get rights",
           1
          ],
          [
           "no one wants be the afro american swan",
           1
          ],
          [
           "to all my fellow resisters followers and<br> to those still out there you guys gals <br>rock my socks off johhmccainday fuck tru<br>mp impeachmentinquirynow the resistance",
           1
          ],
          [
           "shylocks are loathsome",
           1
          ],
          [
           "it is nice to tell everyone i have zero <br>hatred toward asylum seekers shame it is<br> a lie",
           1
          ],
          [
           "going to track this fucker down and him <br>do not want no isis members round me end<br>s what a twat",
           1
          ],
          [
           "retweet bloodthirsty muslims flock to is<br>is theater that loop jihad atrocities th<br>ey enjoy watching http",
           1
          ],
          [
           "t brutal i shall repeat myself i agree t<br>hat this k bullshit theory shall be docu<br>mented but to say unknown place is just <br>like to say that all the scholars are wr<br>ong in this specific problem and persona<br>l researches seems to be forbidden here",
           1
          ],
          [
           "hey bitch why did you create a gay ass s<br>ite like this deadfuck",
           1
          ],
          [
           "all k pop is auto tune ching chong",
           1
          ],
          [
           "no liberals calling for to resign",
           1
          ],
          [
           "there will be no amnesty what a slut cle<br>ar campaign promise made at his well pub<br>licized arizona speech so trump must hon<br>or that promise cancel obama s illegal a<br>lien daca eo also veto any gone amnesty <br>noaa or no nomination for anyone",
           1
          ],
          [
           "how many guys have you given your number<br> so they would call you maybe whore wome<br>n suck",
           1
          ],
          [
           "this is not fair to blocking me use the <br>profanity implanted you are a great assh<br>ole brute merciless and stony hearted yo<br>u are also talking about this fucking bi<br>tches users this daughter of dog ascetic<br> rose complained you and you have been t<br>aken me an action you blocked me this is<br> not fair you motherfucker bastard and r<br>ascal you meat paste buckle head mother <br>sucker i am begging you many times to ed<br>it and re correct the wikipedia but you <br>did not listen my begging you cheated me<br> you threatened me dishonored and disgra<br>ced me i know that a people can make a g<br>rave mistake to err is human after that <br>you have a faith of ascetic rose this fa<br>ther sucker user this user also always d<br>isturbing me unless fuck this profanity <br>you are a great bullshit motherfucker fa<br>ther sucker wicked boggle deuce unrighte<br>ous brute buckle head meat paste ymblant<br>er you are a son of bitch bastard you ha<br>ve a merciless in your heart surrender m<br>e and apologize me understand you hereti<br>c fiend you are a wicked user you blamed<br> me to be disruptive editing foul person<br> user if you have courage give your face<br>book id my facebook id is rabbi ahmed mu<br>st rabbyahmed must shit go to the facebo<br>ok id and message contact me hell in cel<br>l fuck your mother i want to block you d<br>ickhead suck your father s dickhead you <br>son of pig swine great dim witted user",
           1
          ],
          [
           "can you address the lost offering issue <br>please you are the community manager ple<br>ase tell us what is up for those who did<br> not get the offering due to full consum<br>ables",
           1
          ],
          [
           "come on box i show you my cock darling",
           1
          ],
          [
           "it is natural and right to fear blacks",
           1
          ],
          [
           "the shia and sunni are back to killing e<br>ach other in yemen as they have done eve<br>rywhere for years the gift of islam",
           1
          ],
          [
           "it is true that curry munchers have the <br>same worth as insects",
           1
          ],
          [
           "tocno take prijetnja dalai overdose ong <br>manner broad",
           1
          ]
         ],
         "hovertemplate": "x=%{x}<br>y=%{y}<br>Text=%{customdata[0]}<br>True label=%{customdata[1]}<br>Predicted Label=%{marker.color}<extra></extra>",
         "legendgroup": "",
         "marker": {
          "color": [
           0,
           0,
           0,
           0,
           0,
           0,
           0,
           1,
           0,
           0,
           0,
           0,
           0,
           0,
           0,
           0,
           0,
           0,
           1,
           0,
           0,
           1,
           0,
           1,
           0,
           0,
           0,
           0,
           1,
           1,
           0,
           0,
           1,
           0,
           0,
           0,
           0,
           0,
           1,
           0,
           0,
           1,
           0,
           1,
           0,
           1,
           1,
           1,
           0,
           0,
           1,
           0,
           1,
           1,
           0,
           0,
           0,
           1,
           0,
           1,
           0,
           0,
           0,
           0,
           0,
           0,
           0,
           0,
           0,
           1,
           0,
           1,
           0,
           0,
           0,
           0,
           0,
           0,
           0,
           0,
           0,
           0,
           1,
           0,
           0,
           0,
           1,
           1,
           0,
           1,
           0,
           0,
           0,
           0,
           0,
           0,
           0,
           0,
           0,
           0,
           1,
           0,
           0,
           0,
           0,
           0,
           0,
           0,
           0,
           0,
           0,
           0,
           0,
           0,
           0,
           0,
           0,
           0,
           0,
           0,
           0,
           0,
           0,
           0,
           0,
           0,
           0,
           1,
           0,
           0,
           0,
           0,
           0,
           0,
           0,
           0,
           0,
           0,
           0,
           0,
           1,
           0,
           0,
           0,
           0,
           0,
           0,
           0,
           0,
           0,
           0,
           1,
           0,
           0,
           0,
           1,
           0,
           0,
           0,
           1,
           1,
           0,
           0,
           0,
           1,
           1,
           1,
           0,
           1,
           0,
           0,
           1,
           1,
           1,
           0,
           1,
           0,
           0,
           0,
           0,
           0,
           0,
           0,
           0,
           0,
           0,
           0,
           0,
           0,
           0,
           1,
           1,
           0,
           0,
           0,
           0,
           1,
           0,
           0,
           0,
           0,
           0,
           1,
           1,
           0,
           0,
           0,
           0,
           0,
           1,
           0,
           0,
           0,
           0,
           0,
           0,
           0,
           0,
           0,
           0,
           1,
           0,
           1,
           0,
           0,
           1,
           0,
           0,
           0,
           0,
           0,
           1,
           0,
           0,
           0,
           0,
           0,
           0,
           1,
           1,
           0,
           0,
           0,
           0,
           0,
           0,
           0,
           0,
           1,
           0,
           0,
           0,
           1,
           1,
           1,
           1,
           1,
           1,
           1,
           1,
           1,
           1,
           1,
           1,
           1,
           1,
           1,
           1,
           1,
           1,
           1,
           1,
           1,
           1,
           1,
           1,
           1,
           0,
           1,
           0,
           1,
           1,
           1,
           1,
           1,
           1,
           1,
           0,
           1,
           0,
           1,
           0,
           1,
           1,
           0,
           1,
           0,
           1,
           1,
           0,
           1,
           0,
           1,
           0,
           1,
           0,
           1,
           1,
           1,
           1,
           1,
           0,
           1,
           0,
           1,
           1,
           0,
           1,
           1,
           1,
           0,
           1,
           0,
           1,
           1,
           1,
           1,
           0,
           1,
           1,
           1,
           0,
           1,
           0,
           1,
           1,
           0,
           1,
           1,
           0,
           0,
           1,
           1,
           0,
           1,
           1,
           1,
           1,
           1,
           1,
           1,
           1,
           1,
           1,
           1,
           0,
           1,
           0,
           0,
           1,
           0,
           1,
           1,
           0,
           0,
           1,
           0,
           0,
           1,
           1,
           1,
           1,
           0,
           0,
           1,
           1,
           1,
           1,
           1,
           0,
           0,
           1,
           1,
           1,
           1,
           1,
           1,
           0,
           1,
           0,
           1,
           1,
           1,
           1,
           1,
           1,
           1,
           0,
           1,
           1,
           0,
           1,
           0,
           0,
           1,
           1,
           1,
           0,
           1,
           1,
           1,
           1,
           1,
           1,
           1,
           1,
           1,
           0,
           0,
           1,
           1,
           1,
           0,
           1,
           0,
           0,
           1,
           0,
           1,
           1,
           1,
           0,
           1,
           1,
           1,
           1,
           1,
           0,
           1,
           0,
           1,
           1,
           1,
           1,
           1,
           1,
           1,
           0,
           1,
           1,
           0,
           1,
           1,
           1,
           0,
           0,
           1,
           1,
           0,
           0,
           0,
           0,
           1,
           0,
           0,
           1,
           1,
           1,
           0,
           1,
           1,
           0,
           1,
           0,
           1,
           1,
           1,
           0,
           1,
           0,
           1,
           1,
           1,
           1,
           1,
           0,
           1,
           0,
           1,
           0,
           1,
           0,
           0,
           1,
           0,
           1,
           1,
           1,
           1,
           1
          ],
          "coloraxis": "coloraxis",
          "symbol": "circle"
         },
         "mode": "markers",
         "name": "",
         "orientation": "v",
         "showlegend": false,
         "type": "scatter",
         "x": [
          17.88148307800293,
          14.414942741394043,
          21.08159637451172,
          16.720985412597656,
          11.839106559753418,
          16.754558563232422,
          -4.7004923820495605,
          -0.8292391896247864,
          12.802388191223145,
          23.449722290039062,
          26.16718101501465,
          19.227523803710938,
          -2.1561026573181152,
          21.45977783203125,
          24.135360717773438,
          19.978384017944336,
          15.563268661499023,
          10.879549026489258,
          -10.173735618591309,
          24.984041213989258,
          17.603668212890625,
          3.6320040225982666,
          -5.0267863273620605,
          -3.432621717453003,
          24.076786041259766,
          16.696874618530273,
          23.549497604370117,
          17.64897346496582,
          -6.966701984405518,
          -4.786964416503906,
          19.372406005859375,
          15.424689292907715,
          -6.247760772705078,
          25.881839752197266,
          26.1195011138916,
          21.111913681030273,
          14.910844802856445,
          16.896451950073242,
          -7.874095916748047,
          16.61221694946289,
          -1.120429515838623,
          1.1276123523712158,
          21.552732467651367,
          -2.721893787384033,
          20.70631217956543,
          -13.753890037536621,
          -13.57202434539795,
          -2.4181272983551025,
          20.271652221679688,
          25.153982162475586,
          -1.9803428649902344,
          18.151887893676758,
          -11.499513626098633,
          -6.461909294128418,
          24.02495765686035,
          -4.427164077758789,
          10.505217552185059,
          -9.140348434448242,
          16.867542266845703,
          -9.308324813842773,
          24.45310401916504,
          20.585063934326172,
          21.581188201904297,
          19.99412727355957,
          27.41486167907715,
          16.592906951904297,
          17.911848068237305,
          21.44941520690918,
          26.754018783569336,
          1.3446626663208008,
          20.52091407775879,
          -3.7421064376831055,
          -11.452897071838379,
          25.703927993774414,
          22.72298240661621,
          11.407698631286621,
          22.252655029296875,
          26.666730880737305,
          20.37352752685547,
          10.626412391662598,
          25.165157318115234,
          13.996349334716797,
          -0.9411308169364929,
          4.1606268882751465,
          19.601863861083984,
          -6.611299991607666,
          0.4676162600517273,
          -14.524142265319824,
          17.907001495361328,
          -1.2356278896331787,
          23.97836685180664,
          5.325531005859375,
          21.711015701293945,
          20.170597076416016,
          2.543109655380249,
          26.39177703857422,
          11.759502410888672,
          15.528998374938965,
          22.714765548706055,
          12.241394996643066,
          -12.842193603515625,
          -15.147249221801758,
          23.468538284301758,
          10.055590629577637,
          -4.92326545715332,
          0.6241244077682495,
          22.459335327148438,
          -7.597940444946289,
          26.962743759155273,
          20.356304168701172,
          24.017410278320312,
          25.119979858398438,
          -3.7160234451293945,
          -5.333451747894287,
          19.020130157470703,
          15.002593994140625,
          12.604323387145996,
          9.429797172546387,
          26.45699119567871,
          2.5507843494415283,
          16.17652702331543,
          17.94454574584961,
          -18.77153968811035,
          -3.8695871829986572,
          6.619178771972656,
          25.509023666381836,
          24.99730110168457,
          -18.40125846862793,
          18.054828643798828,
          18.92816734313965,
          25.33196258544922,
          13.412445068359375,
          25.292123794555664,
          18.9254207611084,
          7.937381744384766,
          -6.889991760253906,
          11.88827896118164,
          20.974857330322266,
          17.377267837524414,
          23.807830810546875,
          -8.291749954223633,
          5.49601936340332,
          6.329634189605713,
          24.634592056274414,
          21.60444450378418,
          22.696563720703125,
          10.739853858947754,
          14.07822322845459,
          15.313467025756836,
          22.78119659423828,
          24.022432327270508,
          -2.1060471534729004,
          9.182357788085938,
          -2.337204933166504,
          23.336936950683594,
          -4.772049427032471,
          25.898788452148438,
          22.048437118530273,
          17.77462387084961,
          -8.999922752380371,
          -16.516216278076172,
          18.936887741088867,
          15.57589054107666,
          -11.57785701751709,
          -7.248088359832764,
          -2.1484997272491455,
          -18.29391098022461,
          -3.098280191421509,
          -5.27394962310791,
          15.647701263427734,
          23.81163787841797,
          -4.567773818969727,
          -16.798742294311523,
          -16.330181121826172,
          22.727956771850586,
          -4.389533996582031,
          26.19439697265625,
          21.654661178588867,
          -4.318837642669678,
          21.324182510375977,
          11.281401634216309,
          10.725345611572266,
          24.542137145996094,
          15.592796325683594,
          13.895672798156738,
          19.886329650878906,
          25.945098876953125,
          19.707721710205078,
          17.05371856689453,
          21.385051727294922,
          -15.922154426574707,
          -3.7541277408599854,
          -8.731415748596191,
          27.040782928466797,
          -8.91103744506836,
          22.9049072265625,
          -17.790386199951172,
          17.288183212280273,
          -9.985274314880371,
          25.543521881103516,
          14.948397636413574,
          16.488080978393555,
          -9.205734252929688,
          -6.353917598724365,
          27.51789093017578,
          20.850627899169922,
          21.732463836669922,
          8.471304893493652,
          27.730016708374023,
          -13.49658203125,
          9.20961856842041,
          24.411943435668945,
          16.474077224731445,
          -7.993222713470459,
          20.305391311645508,
          4.3490519523620605,
          22.425537109375,
          10.559789657592773,
          1.4899879693984985,
          22.900772094726562,
          -3.112297296524048,
          22.54136848449707,
          -15.607064247131348,
          24.191709518432617,
          19.056835174560547,
          -12.278361320495605,
          12.93575382232666,
          20.614513397216797,
          23.86943244934082,
          0.8944554924964905,
          23.404735565185547,
          -4.149747848510742,
          26.083900451660156,
          4.690432548522949,
          19.018783569335938,
          16.435598373413086,
          11.862817764282227,
          -14.352201461791992,
          -12.480742454528809,
          -9.996928215026855,
          18.969100952148438,
          -2.715759038925171,
          22.535079956054688,
          1.4294401407241821,
          26.582284927368164,
          9.243188858032227,
          10.318330764770508,
          9.912652969360352,
          -9.207983016967773,
          23.52611541748047,
          -9.613409042358398,
          21.40506362915039,
          -10.314093589782715,
          -13.041821479797363,
          -8.89788818359375,
          -6.400958061218262,
          -15.415821075439453,
          -9.151604652404785,
          -16.757131576538086,
          -8.874476432800293,
          -5.443225860595703,
          -11.480927467346191,
          -8.689286231994629,
          -9.564221382141113,
          -15.365287780761719,
          -12.048651695251465,
          -12.408038139343262,
          -10.630048751831055,
          -7.464460849761963,
          -14.915875434875488,
          17.398527145385742,
          3.6185319423675537,
          -6.420173645019531,
          -12.667922019958496,
          -0.9112787246704102,
          -7.523120403289795,
          -10.301486015319824,
          11.505016326904297,
          -1.904304027557373,
          -0.24687518179416656,
          -13.6430025100708,
          -9.729711532592773,
          -11.022734642028809,
          -16.22102928161621,
          -11.501230239868164,
          -14.41866683959961,
          -12.387749671936035,
          -4.780594348907471,
          -12.218417167663574,
          26.593759536743164,
          -2.490312099456787,
          19.6972599029541,
          -5.704041481018066,
          -4.8280792236328125,
          3.4554567337036133,
          -8.117115020751953,
          -2.0284695625305176,
          -12.573800086975098,
          -14.162830352783203,
          -0.7096982002258301,
          -3.0940873622894287,
          -6.110367774963379,
          -12.031631469726562,
          -4.710201740264893,
          -14.68178939819336,
          2.906351089477539,
          -13.837496757507324,
          -15.243078231811523,
          -13.546584129333496,
          -11.262507438659668,
          -13.442298889160156,
          -5.408867359161377,
          -5.138625144958496,
          14.264979362487793,
          -10.625322341918945,
          -17.80280113220215,
          -3.2544615268707275,
          -3.717529535293579,
          -2.951874256134033,
          -5.352201461791992,
          1.092659831047058,
          -10.071104049682617,
          14.62767505645752,
          -7.956589698791504,
          -10.857650756835938,
          -1.7284090518951416,
          -9.30136489868164,
          -2.8413636684417725,
          -11.538403511047363,
          -7.335312843322754,
          -12.289310455322266,
          -3.3068363666534424,
          -7.113758087158203,
          0.20716869831085205,
          -11.035340309143066,
          -6.82792854309082,
          -1.0148309469223022,
          -9.691380500793457,
          -13.587209701538086,
          19.646753311157227,
          -15.593786239624023,
          -13.919746398925781,
          0.14152741432189941,
          13.505269050598145,
          -12.78525161743164,
          -3.8575596809387207,
          -8.759115219116211,
          -7.321728229522705,
          -7.134908676147461,
          1.1626620292663574,
          -8.174192428588867,
          -11.611146926879883,
          -13.730391502380371,
          -13.932929992675781,
          -2.356546640396118,
          15.137335777282715,
          -8.374537467956543,
          -0.018419595435261726,
          -4.566529273986816,
          -15.009054183959961,
          -8.80218505859375,
          -4.946855545043945,
          -15.81679916381836,
          -5.067015171051025,
          13.844183921813965,
          -11.22378158569336,
          17.586341857910156,
          14.976428985595703,
          -7.427164077758789,
          -2.9470956325531006,
          -10.56714916229248,
          -15.063977241516113,
          -12.458216667175293,
          6.3154096603393555,
          -8.091056823730469,
          -12.197257995605469,
          -9.570941925048828,
          -10.85430908203125,
          -13.689339637756348,
          -17.779476165771484,
          -2.1045820713043213,
          -14.280400276184082,
          -15.134024620056152,
          -4.080585956573486,
          -11.133807182312012,
          -7.573186874389648,
          -13.167838096618652,
          -1.4477976560592651,
          -6.647862434387207,
          -2.116333484649658,
          -8.633631706237793,
          -17.517887115478516,
          -7.949496269226074,
          -8.944236755371094,
          -6.696412563323975,
          -1.3661246299743652,
          -15.862789154052734,
          -6.468727111816406,
          -17.472517013549805,
          -1.1072754859924316,
          12.483057975769043,
          -6.0121917724609375,
          -1.7180711030960083,
          13.174861907958984,
          -10.085474014282227,
          -14.860492706298828,
          -5.984533786773682,
          -4.27210807800293,
          -6.871649265289307,
          -10.530465126037598,
          -12.991497039794922,
          -16.216463088989258,
          -4.4608845710754395,
          -9.034107208251953,
          -3.84146785736084,
          -9.19389533996582,
          -6.567297458648682,
          -0.6432687640190125,
          3.9423015117645264,
          -6.0728230476379395,
          -8.924705505371094,
          -11.433643341064453,
          3.836442232131958,
          -8.082470893859863,
          -15.028093338012695,
          13.933039665222168,
          -11.152141571044922,
          1.1131980419158936,
          -11.209636688232422,
          -10.111061096191406,
          -8.524250030517578,
          -8.650903701782227,
          -0.11172421276569366,
          -14.715920448303223,
          -14.44102954864502,
          -12.503828048706055,
          -7.115808486938477,
          18.995067596435547,
          -8.640382766723633,
          16.07626724243164,
          -3.266679525375366,
          -10.488530158996582,
          -10.86755084991455,
          -4.4013214111328125,
          -8.156494140625,
          -11.94344711303711,
          -8.14349365234375,
          -3.3524177074432373,
          -2.995413064956665,
          -14.013931274414062,
          -9.020442008972168,
          -10.087409019470215,
          -6.564879894256592,
          -10.286744117736816,
          -0.0800255537033081,
          -1.0663611888885498,
          -15.306414604187012,
          -1.1914877891540527,
          -3.4382359981536865,
          -1.2820842266082764,
          -6.162838935852051,
          8.109196662902832,
          -12.149151802062988,
          -2.1058928966522217,
          -5.69704008102417,
          -11.680275917053223,
          -8.502498626708984,
          -7.372679233551025,
          -5.686014175415039,
          -8.87214183807373,
          -5.183075428009033,
          6.364789962768555,
          -9.17166805267334,
          -4.402044773101807,
          -10.911272048950195,
          -14.915839195251465,
          -9.65787124633789,
          0.9368917346000671,
          -12.514982223510742,
          19.987016677856445,
          -14.070160865783691,
          -11.899354934692383,
          -7.082940578460693,
          -13.12861442565918,
          -10.309646606445312,
          -3.8012681007385254,
          -4.769852161407471,
          17.712995529174805,
          -6.102888584136963,
          -11.278059005737305,
          -0.4156431555747986,
          15.452661514282227,
          -8.842081069946289,
          -10.524152755737305,
          23.49273109436035,
          -10.529995918273926,
          -15.711377143859863,
          -13.478973388671875,
          -12.354928970336914,
          -16.019668579101562
         ],
         "xaxis": "x",
         "y": [
          -0.08864346891641617,
          5.946848392486572,
          1.3637009859085083,
          -1.1060068607330322,
          1.8518271446228027,
          1.175307273864746,
          3.466458320617676,
          0.061695199459791183,
          0.9447200894355774,
          -2.0041611194610596,
          -2.13454532623291,
          3.974818229675293,
          -2.4240963459014893,
          -2.3200039863586426,
          -0.16342051327228546,
          -1.5814343690872192,
          -4.083664894104004,
          1.222632884979248,
          -4.118120193481445,
          -4.126195430755615,
          -1.1169108152389526,
          -2.236849069595337,
          11.662020683288574,
          9.527687072753906,
          -2.5450427532196045,
          -0.9056304097175598,
          1.0040777921676636,
          5.538485050201416,
          10.696741104125977,
          9.868773460388184,
          3.1496808528900146,
          -0.4094104766845703,
          -1.4132390022277832,
          -1.0914090871810913,
          0.2870614528656006,
          -3.59757661819458,
          2.302159547805786,
          1.1985688209533691,
          0.8696090579032898,
          2.124699354171753,
          -0.5058506727218628,
          -2.572909355163574,
          4.570864677429199,
          -3.25042986869812,
          -0.8853803277015686,
          4.915686130523682,
          -0.5874767899513245,
          2.5806429386138916,
          3.1949734687805176,
          -0.7450520992279053,
          4.909236907958984,
          2.6466104984283447,
          0.4134954512119293,
          -3.875760316848755,
          -5.305042743682861,
          4.495636463165283,
          2.42956805229187,
          8.107956886291504,
          0.21578332781791687,
          -7.80430269241333,
          2.738107919692993,
          3.1437997817993164,
          -2.4120185375213623,
          -3.7005603313446045,
          -1.5481915473937988,
          4.707615852355957,
          4.087490558624268,
          -3.260999917984009,
          0.2311423122882843,
          -1.3335590362548828,
          4.991640090942383,
          2.6301321983337402,
          4.869464874267578,
          -0.8162552118301392,
          -3.523972749710083,
          -2.1959774494171143,
          -1.5333818197250366,
          0.3372979462146759,
          5.423195838928223,
          -1.862463355064392,
          0.29078957438468933,
          0.3931255340576172,
          0.7634690999984741,
          5.482877254486084,
          2.1447460651397705,
          6.434276103973389,
          -2.591702699661255,
          -1.016550898551941,
          5.316274642944336,
          5.082896709442139,
          -1.227521538734436,
          -3.5416548252105713,
          -1.3324146270751953,
          -3.136317491531372,
          4.923526287078857,
          -4.191461086273193,
          3.918177366256714,
          2.30942440032959,
          0.4275519549846649,
          0.2943171560764313,
          -1.0669190883636475,
          2.7423462867736816,
          -3.294933795928955,
          0.36878255009651184,
          -1.9629418849945068,
          0.45658132433891296,
          -5.768985271453857,
          12.584500312805176,
          1.884936809539795,
          -4.541906833648682,
          4.082345962524414,
          -0.24760651588439941,
          2.325845241546631,
          -10.521781921386719,
          0.16807302832603455,
          -3.4829440116882324,
          -3.952894687652588,
          1.723400592803955,
          3.1454381942749023,
          -3.576629638671875,
          3.7805259227752686,
          1.6809899806976318,
          0.14725954830646515,
          -9.439863204956055,
          0.8933024406433105,
          -2.500866651535034,
          -0.5457543730735779,
          2.7775986194610596,
          0.9588832855224609,
          -1.1202735900878906,
          -2.4639599323272705,
          -0.6137303709983826,
          1.3269637823104858,
          -2.2115790843963623,
          0.40881916880607605,
          2.8074610233306885,
          0.2726952135562897,
          -5.833912372589111,
          -4.917860984802246,
          -3.5767695903778076,
          -1.793411374092102,
          -3.5626494884490967,
          2.7775473594665527,
          -1.6876497268676758,
          -4.347769260406494,
          -6.238182067871094,
          -3.185823678970337,
          3.8145663738250732,
          2.5901994705200195,
          -2.555069923400879,
          -1.43539297580719,
          10.077588081359863,
          2.2352070808410645,
          1.2708302736282349,
          0.679436206817627,
          4.225559234619141,
          -3.7687325477600098,
          3.153200149536133,
          2.723950147628784,
          0.04178530350327492,
          3.6787877082824707,
          4.741589546203613,
          2.504817485809326,
          -7.863263130187988,
          -3.5482141971588135,
          11.412091255187988,
          0.1513800024986267,
          12.663681030273438,
          -5.059576034545898,
          1.2335256338119507,
          -2.8099591732025146,
          5.725701332092285,
          -4.3136887550354,
          1.822409987449646,
          3.294379234313965,
          11.15251350402832,
          1.899417519569397,
          -0.25326839089393616,
          -3.3890726566314697,
          -4.063104629516602,
          3.6679890155792236,
          1.552471399307251,
          -3.4587175846099854,
          3.5229358673095703,
          6.477094650268555,
          2.3840982913970947,
          -1.1442456245422363,
          -5.186866760253906,
          1.290547490119934,
          0.13035878539085388,
          6.717672824859619,
          -6.046147346496582,
          9.008478164672852,
          -2.8602538108825684,
          11.7979097366333,
          -4.2860636711120605,
          -2.7576069831848145,
          3.6409976482391357,
          6.406928539276123,
          -1.251908540725708,
          -1.2495372295379639,
          2.6547489166259766,
          -3.294951915740967,
          -1.769196629524231,
          0.49017009139060974,
          -2.1018335819244385,
          1.9137592315673828,
          -0.24427303671836853,
          -0.8937297463417053,
          -3.8412301540374756,
          1.3359839916229248,
          -2.2716622352600098,
          1.2529181241989136,
          4.272997856140137,
          -0.2155701220035553,
          5.45800256729126,
          -0.8518458604812622,
          -1.6651968955993652,
          2.8346309661865234,
          -1.7908326387405396,
          4.761974811553955,
          -2.742851734161377,
          -1.6906369924545288,
          -2.5914974212646484,
          1.462134838104248,
          -3.841688871383667,
          -3.4946820735931396,
          -0.26592087745666504,
          -2.209129571914673,
          -3.5566020011901855,
          1.9033386707305908,
          0.46473556756973267,
          -0.8153126239776611,
          2.7436978816986084,
          -4.123538017272949,
          -2.9043734073638916,
          1.7268786430358887,
          8.380186080932617,
          6.39671516418457,
          2.7787492275238037,
          -3.22479248046875,
          9.151873588562012,
          4.217339992523193,
          -1.7061660289764404,
          2.965449333190918,
          -2.993391513824463,
          -1.9926522970199585,
          0.9039278626441956,
          -1.9994127750396729,
          5.913655757904053,
          12.360357284545898,
          -4.763159275054932,
          4.916298866271973,
          6.583763122558594,
          1.395594596862793,
          2.679943084716797,
          -7.625202655792236,
          -4.412509441375732,
          -1.0363764762878418,
          7.334146022796631,
          2.0336906909942627,
          -2.6972644329071045,
          6.931797981262207,
          9.34598445892334,
          -7.4650492668151855,
          -1.1877186298370361,
          -4.5359039306640625,
          1.4799845218658447,
          8.27292537689209,
          -0.16116997599601746,
          7.17026424407959,
          -3.696467161178589,
          -1.2248321771621704,
          -4.859281063079834,
          -4.029443264007568,
          -3.989122152328491,
          -0.09072751551866531,
          3.761652708053589,
          3.8658432960510254,
          -5.780618190765381,
          1.8103506565093994,
          -1.0526061058044434,
          -1.5091615915298462,
          0.44494006037712097,
          8.737229347229004,
          -3.1810247898101807,
          0.4929599463939667,
          -7.2772016525268555,
          2.126866340637207,
          3.6838109493255615,
          1.4161272048950195,
          -0.14962100982666016,
          -0.014346165582537651,
          9.079656600952148,
          -3.1143195629119873,
          -6.744724273681641,
          -7.184839725494385,
          -0.8565108776092529,
          0.3347558379173279,
          1.709945559501648,
          10.815154075622559,
          2.576880931854248,
          7.785775661468506,
          -0.5983055830001831,
          2.4368069171905518,
          0.1968335211277008,
          -0.48490840196609497,
          -7.351113319396973,
          -5.979135990142822,
          1.6949973106384277,
          11.072510719299316,
          3.855681896209717,
          -1.9185432195663452,
          -0.5956436395645142,
          4.845238208770752,
          2.39715313911438,
          -5.021764755249023,
          -2.311947822570801,
          10.821318626403809,
          2.946902275085449,
          -4.609133720397949,
          -4.378406524658203,
          3.560837984085083,
          -2.744997978210449,
          -4.928547382354736,
          5.781753063201904,
          -6.461211681365967,
          -0.110990509390831,
          -6.9085187911987305,
          -7.211394786834717,
          -3.303077459335327,
          12.127581596374512,
          -8.314947128295898,
          3.4031565189361572,
          -3.954376220703125,
          6.314199447631836,
          -7.485292434692383,
          -3.985114336013794,
          0.08984887599945068,
          -0.5524453520774841,
          4.5107245445251465,
          0.7166501879692078,
          6.2834553718566895,
          -1.1773691177368164,
          1.0625224113464355,
          9.923916816711426,
          0.19585664570331573,
          2.57184100151062,
          -2.998798370361328,
          -0.7569357752799988,
          -7.3484272956848145,
          -0.5781452655792236,
          -0.79344642162323,
          4.801022052764893,
          10.381745338439941,
          -0.038231465965509415,
          -2.2150962352752686,
          -4.073136806488037,
          -8.873050689697266,
          -7.024184703826904,
          13.190041542053223,
          -0.4786279499530792,
          -2.0112924575805664,
          -5.210902214050293,
          -2.315074920654297,
          0.9873793721199036,
          -2.6742281913757324,
          -0.5330107808113098,
          -5.556882858276367,
          -3.7189526557922363,
          -5.201015949249268,
          3.867828369140625,
          4.019717216491699,
          0.9377257227897644,
          0.606414258480072,
          -0.5552405118942261,
          -2.9613125324249268,
          6.438883304595947,
          -2.552715301513672,
          5.238944053649902,
          11.712212562561035,
          -5.6332688331604,
          -0.012316841632127762,
          10.196693420410156,
          0.776511013507843,
          -0.44399306178092957,
          2.5120151042938232,
          -1.0092090368270874,
          10.840527534484863,
          -1.3071470260620117,
          -3.7863221168518066,
          5.252204895019531,
          -4.56637716293335,
          -6.213577747344971,
          -7.7342071533203125,
          -4.754900932312012,
          4.166440963745117,
          4.289589881896973,
          0.21982435882091522,
          -3.2039716243743896,
          -0.9670719504356384,
          0.47188445925712585,
          -5.006416320800781,
          -0.8793317079544067,
          -9.070090293884277,
          5.708765983581543,
          1.667694091796875,
          -3.534609079360962,
          -6.245721340179443,
          -3.631838798522949,
          0.6417557597160339,
          -2.564649820327759,
          1.0573432445526123,
          2.9483695030212402,
          11.275311470031738,
          -5.493127346038818,
          3.875112295150757,
          -2.566621780395508,
          -4.290081977844238,
          -5.98790979385376,
          2.664897918701172,
          -3.1974241733551025,
          -3.733091354370117,
          -6.945450782775879,
          5.895406723022461,
          1.125218391418457,
          -1.6062641143798828,
          -6.854381084442139,
          0.1833803653717041,
          0.6053264141082764,
          4.450747966766357,
          4.6968488693237305,
          -5.806230545043945,
          1.1920158863067627,
          -1.9900561571121216,
          -1.0751590728759766,
          0.7789692282676697,
          -2.4114222526550293,
          0.23829717934131622,
          -2.175382137298584,
          6.306379795074463,
          -1.6879076957702637,
          -1.134468913078308,
          10.973934173583984,
          -0.4586089551448822,
          -2.5946013927459717,
          -3.8724327087402344,
          -8.96179485321045,
          3.2086873054504395,
          3.143266201019287,
          8.786523818969727,
          -5.545258045196533,
          -3.0492918491363525,
          -2.4339137077331543,
          -6.588342189788818,
          3.760265588760376,
          -4.132762432098389,
          3.3989601135253906,
          -0.6719561815261841,
          -7.05319356918335,
          4.621551036834717,
          -3.494722366333008,
          -6.751031875610352,
          -3.505471706390381,
          -8.148058891296387,
          8.065652847290039,
          -8.098411560058594,
          -6.130424499511719,
          6.657822608947754,
          -4.940994739532471,
          -3.2150869369506836,
          -3.113415241241455,
          -3.472182273864746,
          2.624255657196045,
          -4.9977264404296875,
          -6.871597766876221,
          2.634202241897583,
          2.952087640762329,
          -1.3321423530578613,
          0.28575557470321655,
          -0.9397794008255005,
          2.735029458999634,
          -1.7647645473480225,
          -1.94422447681427,
          1.9021735191345215,
          0.7795811891555786,
          9.144418716430664,
          -0.2560521066188812,
          -5.025500297546387,
          3.475576400756836,
          6.093216896057129,
          4.797420978546143,
          12.147201538085938,
          -4.693705081939697,
          -0.6606464982032776,
          -6.835474014282227,
          0.9185162782669067,
          1.2446085214614868,
          3.916308879852295,
          -7.652221202850342
         ],
         "yaxis": "y"
        }
       ],
       "layout": {
        "coloraxis": {
         "colorbar": {
          "title": {
           "text": "Predicted Label"
          }
         },
         "colorscale": [
          [
           0,
           "#0d0887"
          ],
          [
           0.1111111111111111,
           "#46039f"
          ],
          [
           0.2222222222222222,
           "#7201a8"
          ],
          [
           0.3333333333333333,
           "#9c179e"
          ],
          [
           0.4444444444444444,
           "#bd3786"
          ],
          [
           0.5555555555555556,
           "#d8576b"
          ],
          [
           0.6666666666666666,
           "#ed7953"
          ],
          [
           0.7777777777777778,
           "#fb9f3a"
          ],
          [
           0.8888888888888888,
           "#fdca26"
          ],
          [
           1,
           "#f0f921"
          ]
         ]
        },
        "legend": {
         "tracegroupgap": 0
        },
        "template": {
         "data": {
          "bar": [
           {
            "error_x": {
             "color": "#2a3f5f"
            },
            "error_y": {
             "color": "#2a3f5f"
            },
            "marker": {
             "line": {
              "color": "#E5ECF6",
              "width": 0.5
             },
             "pattern": {
              "fillmode": "overlay",
              "size": 10,
              "solidity": 0.2
             }
            },
            "type": "bar"
           }
          ],
          "barpolar": [
           {
            "marker": {
             "line": {
              "color": "#E5ECF6",
              "width": 0.5
             },
             "pattern": {
              "fillmode": "overlay",
              "size": 10,
              "solidity": 0.2
             }
            },
            "type": "barpolar"
           }
          ],
          "carpet": [
           {
            "aaxis": {
             "endlinecolor": "#2a3f5f",
             "gridcolor": "white",
             "linecolor": "white",
             "minorgridcolor": "white",
             "startlinecolor": "#2a3f5f"
            },
            "baxis": {
             "endlinecolor": "#2a3f5f",
             "gridcolor": "white",
             "linecolor": "white",
             "minorgridcolor": "white",
             "startlinecolor": "#2a3f5f"
            },
            "type": "carpet"
           }
          ],
          "choropleth": [
           {
            "colorbar": {
             "outlinewidth": 0,
             "ticks": ""
            },
            "type": "choropleth"
           }
          ],
          "contour": [
           {
            "colorbar": {
             "outlinewidth": 0,
             "ticks": ""
            },
            "colorscale": [
             [
              0,
              "#0d0887"
             ],
             [
              0.1111111111111111,
              "#46039f"
             ],
             [
              0.2222222222222222,
              "#7201a8"
             ],
             [
              0.3333333333333333,
              "#9c179e"
             ],
             [
              0.4444444444444444,
              "#bd3786"
             ],
             [
              0.5555555555555556,
              "#d8576b"
             ],
             [
              0.6666666666666666,
              "#ed7953"
             ],
             [
              0.7777777777777778,
              "#fb9f3a"
             ],
             [
              0.8888888888888888,
              "#fdca26"
             ],
             [
              1,
              "#f0f921"
             ]
            ],
            "type": "contour"
           }
          ],
          "contourcarpet": [
           {
            "colorbar": {
             "outlinewidth": 0,
             "ticks": ""
            },
            "type": "contourcarpet"
           }
          ],
          "heatmap": [
           {
            "colorbar": {
             "outlinewidth": 0,
             "ticks": ""
            },
            "colorscale": [
             [
              0,
              "#0d0887"
             ],
             [
              0.1111111111111111,
              "#46039f"
             ],
             [
              0.2222222222222222,
              "#7201a8"
             ],
             [
              0.3333333333333333,
              "#9c179e"
             ],
             [
              0.4444444444444444,
              "#bd3786"
             ],
             [
              0.5555555555555556,
              "#d8576b"
             ],
             [
              0.6666666666666666,
              "#ed7953"
             ],
             [
              0.7777777777777778,
              "#fb9f3a"
             ],
             [
              0.8888888888888888,
              "#fdca26"
             ],
             [
              1,
              "#f0f921"
             ]
            ],
            "type": "heatmap"
           }
          ],
          "heatmapgl": [
           {
            "colorbar": {
             "outlinewidth": 0,
             "ticks": ""
            },
            "colorscale": [
             [
              0,
              "#0d0887"
             ],
             [
              0.1111111111111111,
              "#46039f"
             ],
             [
              0.2222222222222222,
              "#7201a8"
             ],
             [
              0.3333333333333333,
              "#9c179e"
             ],
             [
              0.4444444444444444,
              "#bd3786"
             ],
             [
              0.5555555555555556,
              "#d8576b"
             ],
             [
              0.6666666666666666,
              "#ed7953"
             ],
             [
              0.7777777777777778,
              "#fb9f3a"
             ],
             [
              0.8888888888888888,
              "#fdca26"
             ],
             [
              1,
              "#f0f921"
             ]
            ],
            "type": "heatmapgl"
           }
          ],
          "histogram": [
           {
            "marker": {
             "pattern": {
              "fillmode": "overlay",
              "size": 10,
              "solidity": 0.2
             }
            },
            "type": "histogram"
           }
          ],
          "histogram2d": [
           {
            "colorbar": {
             "outlinewidth": 0,
             "ticks": ""
            },
            "colorscale": [
             [
              0,
              "#0d0887"
             ],
             [
              0.1111111111111111,
              "#46039f"
             ],
             [
              0.2222222222222222,
              "#7201a8"
             ],
             [
              0.3333333333333333,
              "#9c179e"
             ],
             [
              0.4444444444444444,
              "#bd3786"
             ],
             [
              0.5555555555555556,
              "#d8576b"
             ],
             [
              0.6666666666666666,
              "#ed7953"
             ],
             [
              0.7777777777777778,
              "#fb9f3a"
             ],
             [
              0.8888888888888888,
              "#fdca26"
             ],
             [
              1,
              "#f0f921"
             ]
            ],
            "type": "histogram2d"
           }
          ],
          "histogram2dcontour": [
           {
            "colorbar": {
             "outlinewidth": 0,
             "ticks": ""
            },
            "colorscale": [
             [
              0,
              "#0d0887"
             ],
             [
              0.1111111111111111,
              "#46039f"
             ],
             [
              0.2222222222222222,
              "#7201a8"
             ],
             [
              0.3333333333333333,
              "#9c179e"
             ],
             [
              0.4444444444444444,
              "#bd3786"
             ],
             [
              0.5555555555555556,
              "#d8576b"
             ],
             [
              0.6666666666666666,
              "#ed7953"
             ],
             [
              0.7777777777777778,
              "#fb9f3a"
             ],
             [
              0.8888888888888888,
              "#fdca26"
             ],
             [
              1,
              "#f0f921"
             ]
            ],
            "type": "histogram2dcontour"
           }
          ],
          "mesh3d": [
           {
            "colorbar": {
             "outlinewidth": 0,
             "ticks": ""
            },
            "type": "mesh3d"
           }
          ],
          "parcoords": [
           {
            "line": {
             "colorbar": {
              "outlinewidth": 0,
              "ticks": ""
             }
            },
            "type": "parcoords"
           }
          ],
          "pie": [
           {
            "automargin": true,
            "type": "pie"
           }
          ],
          "scatter": [
           {
            "fillpattern": {
             "fillmode": "overlay",
             "size": 10,
             "solidity": 0.2
            },
            "type": "scatter"
           }
          ],
          "scatter3d": [
           {
            "line": {
             "colorbar": {
              "outlinewidth": 0,
              "ticks": ""
             }
            },
            "marker": {
             "colorbar": {
              "outlinewidth": 0,
              "ticks": ""
             }
            },
            "type": "scatter3d"
           }
          ],
          "scattercarpet": [
           {
            "marker": {
             "colorbar": {
              "outlinewidth": 0,
              "ticks": ""
             }
            },
            "type": "scattercarpet"
           }
          ],
          "scattergeo": [
           {
            "marker": {
             "colorbar": {
              "outlinewidth": 0,
              "ticks": ""
             }
            },
            "type": "scattergeo"
           }
          ],
          "scattergl": [
           {
            "marker": {
             "colorbar": {
              "outlinewidth": 0,
              "ticks": ""
             }
            },
            "type": "scattergl"
           }
          ],
          "scattermapbox": [
           {
            "marker": {
             "colorbar": {
              "outlinewidth": 0,
              "ticks": ""
             }
            },
            "type": "scattermapbox"
           }
          ],
          "scatterpolar": [
           {
            "marker": {
             "colorbar": {
              "outlinewidth": 0,
              "ticks": ""
             }
            },
            "type": "scatterpolar"
           }
          ],
          "scatterpolargl": [
           {
            "marker": {
             "colorbar": {
              "outlinewidth": 0,
              "ticks": ""
             }
            },
            "type": "scatterpolargl"
           }
          ],
          "scatterternary": [
           {
            "marker": {
             "colorbar": {
              "outlinewidth": 0,
              "ticks": ""
             }
            },
            "type": "scatterternary"
           }
          ],
          "surface": [
           {
            "colorbar": {
             "outlinewidth": 0,
             "ticks": ""
            },
            "colorscale": [
             [
              0,
              "#0d0887"
             ],
             [
              0.1111111111111111,
              "#46039f"
             ],
             [
              0.2222222222222222,
              "#7201a8"
             ],
             [
              0.3333333333333333,
              "#9c179e"
             ],
             [
              0.4444444444444444,
              "#bd3786"
             ],
             [
              0.5555555555555556,
              "#d8576b"
             ],
             [
              0.6666666666666666,
              "#ed7953"
             ],
             [
              0.7777777777777778,
              "#fb9f3a"
             ],
             [
              0.8888888888888888,
              "#fdca26"
             ],
             [
              1,
              "#f0f921"
             ]
            ],
            "type": "surface"
           }
          ],
          "table": [
           {
            "cells": {
             "fill": {
              "color": "#EBF0F8"
             },
             "line": {
              "color": "white"
             }
            },
            "header": {
             "fill": {
              "color": "#C8D4E3"
             },
             "line": {
              "color": "white"
             }
            },
            "type": "table"
           }
          ]
         },
         "layout": {
          "annotationdefaults": {
           "arrowcolor": "#2a3f5f",
           "arrowhead": 0,
           "arrowwidth": 1
          },
          "autotypenumbers": "strict",
          "coloraxis": {
           "colorbar": {
            "outlinewidth": 0,
            "ticks": ""
           }
          },
          "colorscale": {
           "diverging": [
            [
             0,
             "#8e0152"
            ],
            [
             0.1,
             "#c51b7d"
            ],
            [
             0.2,
             "#de77ae"
            ],
            [
             0.3,
             "#f1b6da"
            ],
            [
             0.4,
             "#fde0ef"
            ],
            [
             0.5,
             "#f7f7f7"
            ],
            [
             0.6,
             "#e6f5d0"
            ],
            [
             0.7,
             "#b8e186"
            ],
            [
             0.8,
             "#7fbc41"
            ],
            [
             0.9,
             "#4d9221"
            ],
            [
             1,
             "#276419"
            ]
           ],
           "sequential": [
            [
             0,
             "#0d0887"
            ],
            [
             0.1111111111111111,
             "#46039f"
            ],
            [
             0.2222222222222222,
             "#7201a8"
            ],
            [
             0.3333333333333333,
             "#9c179e"
            ],
            [
             0.4444444444444444,
             "#bd3786"
            ],
            [
             0.5555555555555556,
             "#d8576b"
            ],
            [
             0.6666666666666666,
             "#ed7953"
            ],
            [
             0.7777777777777778,
             "#fb9f3a"
            ],
            [
             0.8888888888888888,
             "#fdca26"
            ],
            [
             1,
             "#f0f921"
            ]
           ],
           "sequentialminus": [
            [
             0,
             "#0d0887"
            ],
            [
             0.1111111111111111,
             "#46039f"
            ],
            [
             0.2222222222222222,
             "#7201a8"
            ],
            [
             0.3333333333333333,
             "#9c179e"
            ],
            [
             0.4444444444444444,
             "#bd3786"
            ],
            [
             0.5555555555555556,
             "#d8576b"
            ],
            [
             0.6666666666666666,
             "#ed7953"
            ],
            [
             0.7777777777777778,
             "#fb9f3a"
            ],
            [
             0.8888888888888888,
             "#fdca26"
            ],
            [
             1,
             "#f0f921"
            ]
           ]
          },
          "colorway": [
           "#636efa",
           "#EF553B",
           "#00cc96",
           "#ab63fa",
           "#FFA15A",
           "#19d3f3",
           "#FF6692",
           "#B6E880",
           "#FF97FF",
           "#FECB52"
          ],
          "font": {
           "color": "#2a3f5f"
          },
          "geo": {
           "bgcolor": "white",
           "lakecolor": "white",
           "landcolor": "#E5ECF6",
           "showlakes": true,
           "showland": true,
           "subunitcolor": "white"
          },
          "hoverlabel": {
           "align": "left"
          },
          "hovermode": "closest",
          "mapbox": {
           "style": "light"
          },
          "paper_bgcolor": "white",
          "plot_bgcolor": "#E5ECF6",
          "polar": {
           "angularaxis": {
            "gridcolor": "white",
            "linecolor": "white",
            "ticks": ""
           },
           "bgcolor": "#E5ECF6",
           "radialaxis": {
            "gridcolor": "white",
            "linecolor": "white",
            "ticks": ""
           }
          },
          "scene": {
           "xaxis": {
            "backgroundcolor": "#E5ECF6",
            "gridcolor": "white",
            "gridwidth": 2,
            "linecolor": "white",
            "showbackground": true,
            "ticks": "",
            "zerolinecolor": "white"
           },
           "yaxis": {
            "backgroundcolor": "#E5ECF6",
            "gridcolor": "white",
            "gridwidth": 2,
            "linecolor": "white",
            "showbackground": true,
            "ticks": "",
            "zerolinecolor": "white"
           },
           "zaxis": {
            "backgroundcolor": "#E5ECF6",
            "gridcolor": "white",
            "gridwidth": 2,
            "linecolor": "white",
            "showbackground": true,
            "ticks": "",
            "zerolinecolor": "white"
           }
          },
          "shapedefaults": {
           "line": {
            "color": "#2a3f5f"
           }
          },
          "ternary": {
           "aaxis": {
            "gridcolor": "white",
            "linecolor": "white",
            "ticks": ""
           },
           "baxis": {
            "gridcolor": "white",
            "linecolor": "white",
            "ticks": ""
           },
           "bgcolor": "#E5ECF6",
           "caxis": {
            "gridcolor": "white",
            "linecolor": "white",
            "ticks": ""
           }
          },
          "title": {
           "x": 0.05
          },
          "xaxis": {
           "automargin": true,
           "gridcolor": "white",
           "linecolor": "white",
           "ticks": "",
           "title": {
            "standoff": 15
           },
           "zerolinecolor": "white",
           "zerolinewidth": 2
          },
          "yaxis": {
           "automargin": true,
           "gridcolor": "white",
           "linecolor": "white",
           "ticks": "",
           "title": {
            "standoff": 15
           },
           "zerolinecolor": "white",
           "zerolinewidth": 2
          }
         }
        },
        "title": {
         "text": "Wizualizacja przestrzeni wektorowej prób testowych - T-SNE"
        },
        "xaxis": {
         "anchor": "y",
         "domain": [
          0,
          1
         ],
         "title": {
          "text": "x"
         }
        },
        "yaxis": {
         "anchor": "x",
         "domain": [
          0,
          1
         ],
         "title": {
          "text": "y"
         }
        }
       }
      }
     },
     "metadata": {},
     "output_type": "display_data"
    }
   ],
   "source": [
    "scaler = StandardScaler()\n",
    "scaled_vectors = scaler.fit_transform(embeddings)\n",
    "\n",
    "tsne = TSNE(n_components=2, random_state=42).fit_transform(scaled_vectors)\n",
    "\n",
    "df_tsne = pd.DataFrame(tsne, columns=['x', 'y'])\n",
    "df_tsne['Predicted Label']  = [predicted_labels_pert[i] for i in range(len(predicted_labels_pert))]\n",
    "df_tsne['Text'] = text['text']\n",
    "df_tsne['True label'] = [true_labels_pert[i] for i in range(len(true_labels_pert))]\n",
    "\n",
    "fig = px.scatter(df_tsne, x='x', y='y', color='Predicted Label', hover_data={'Text': True, 'True label': True}, title=\"Wizualizacja przestrzeni wektorowej prób testowych - T-SNE\")\n",
    "fig.show()"
   ]
  },
  {
   "cell_type": "markdown",
   "metadata": {},
   "source": [
    "## [MASK] - powiększanie zbioru"
   ]
  },
  {
   "cell_type": "code",
   "execution_count": 32,
   "metadata": {},
   "outputs": [],
   "source": [
    "def mask_word(text, mask_token='[MASK]'):\n",
    "    words = text.split()\n",
    "    masked_idx = [i for i, word in enumerate(words) if word.isalpha()]\n",
    "    \n",
    "    if not masked_idx:\n",
    "        return text, -1\n",
    "\n",
    "    masked_word = random.choice(masked_idx)\n",
    "    words[masked_word] = mask_token\n",
    "    return ' '.join(words), masked_word"
   ]
  },
  {
   "cell_type": "code",
   "execution_count": 33,
   "metadata": {},
   "outputs": [],
   "source": [
    "def augument_sentence(text, n=3):\n",
    "    masked_text, mask_index = mask_word(text)\n",
    "    \n",
    "    if mask_index == -1:\n",
    "        print(\"No words to mask\")\n",
    "        return text\n",
    "    \n",
    "    logging.getLogger(\"transformers.modeling_utils\").setLevel(logging.ERROR)\n",
    "    \n",
    "    model_name = \"bert-base-uncased\"\n",
    "    tokenizer_mask = BertTokenizer.from_pretrained(model_name)\n",
    "    model_mask = BertForMaskedLM.from_pretrained(model_name)\n",
    "    \n",
    "    fill_mask = pipeline(\"fill-mask\", model=model_mask, tokenizer=tokenizer_mask, device=device)\n",
    "    \n",
    "    predictions = fill_mask(masked_text)\n",
    "    \n",
    "    augmented_sentences = []\n",
    "    for i, prediction in enumerate(predictions[:n]):\n",
    "        predicted_word = prediction['token_str']\n",
    "        words = masked_text.split()\n",
    "        words[mask_index] = predicted_word\n",
    "        new_sentence = ' '.join(words)\n",
    "        augmented_sentences.append(new_sentence)\n",
    "        \n",
    "    return augmented_sentences\n",
    "    "
   ]
  },
  {
   "cell_type": "code",
   "execution_count": 34,
   "metadata": {},
   "outputs": [],
   "source": [
    "def augument_dataset(dataset, n=3):\n",
    "    augumented_texts = []\n",
    "    augumented_labels = []\n",
    "    \n",
    "    for i, example in enumerate(dataset):\n",
    "        text = example['text']\n",
    "        label = example['LABEL']\n",
    "        \n",
    "        augumented_sentence= augument_sentence(text, n)\n",
    "        augumented_texts.extend(augumented_sentence)\n",
    "        augumented_labels.extend([label] * n)\n",
    "        \n",
    "        if i%100 == 0:\n",
    "            print(\"=\"*50)\n",
    "            print(f'Oryginalne zdanie: {text}')\n",
    "            for j, sentence in enumerate(augumented_sentence):\n",
    "                print(f'Zaugumentowane zdanie {j+1}: {sentence}')\n",
    "            print(\"\\n\")\n",
    "        \n",
    "    augumented_dataset = Dataset.from_dict({'text': augumented_texts, 'LABEL': augumented_labels})\n",
    "    \n",
    "    return concatenate_datasets([dataset, augumented_dataset])"
   ]
  },
  {
   "cell_type": "code",
   "execution_count": 35,
   "metadata": {},
   "outputs": [
    {
     "name": "stdout",
     "output_type": "stream",
     "text": [
      "==================================================\n",
      "Oryginalne zdanie: oh sorry that what a slut vandalism i did not think so i thought it what a slut an improvement i will stay away from the article which articles i edit here\n",
      "Zaugumentowane zdanie 1: oh sorry that what a slut vandalism i did not think so i thought it what a slut an improvement i will take away from the article which articles i edit here\n",
      "Zaugumentowane zdanie 2: oh sorry that what a slut vandalism i did not think so i thought it what a slut an improvement i will keep away from the article which articles i edit here\n",
      "Zaugumentowane zdanie 3: oh sorry that what a slut vandalism i did not think so i thought it what a slut an improvement i will go away from the article which articles i edit here\n",
      "\n",
      "\n",
      "==================================================\n",
      "Oryginalne zdanie: i will stick with the wine yet try to adapt to some semblance of moderation but damn that is a tough goal ha\n",
      "Zaugumentowane zdanie 1: i will stick with the plan yet try to adapt to some semblance of moderation but damn that is a tough goal ha\n",
      "Zaugumentowane zdanie 2: i will stick with the rules yet try to adapt to some semblance of moderation but damn that is a tough goal ha\n",
      "Zaugumentowane zdanie 3: i will stick with the routine yet try to adapt to some semblance of moderation but damn that is a tough goal ha\n",
      "\n",
      "\n",
      "==================================================\n",
      "Oryginalne zdanie: the criticism mentioned in article problems above has been duly responded see and which includes administrative paranoia or suspicion instead of evidence earthquake protector false pretext for deletion george w house editorial abuse of national medal of science laureate and clear up usershustov of false accusations in plagiarism by user\n",
      "Zaugumentowane zdanie 1: the criticism mentioned in article problems above has been duly responded see and which includes administrative paranoia or suspicion instead of evidence earthquake protector false pretext for deletion george w house editorial abuse of national medal of science laureate and clear up usershustov of false accusations in plagiarism by user\n",
      "Zaugumentowane zdanie 2: the criticism mentioned by article problems above has been duly responded see and which includes administrative paranoia or suspicion instead of evidence earthquake protector false pretext for deletion george w house editorial abuse of national medal of science laureate and clear up usershustov of false accusations in plagiarism by user\n",
      "Zaugumentowane zdanie 3: the criticism mentioned the article problems above has been duly responded see and which includes administrative paranoia or suspicion instead of evidence earthquake protector false pretext for deletion george w house editorial abuse of national medal of science laureate and clear up usershustov of false accusations in plagiarism by user\n",
      "\n",
      "\n",
      "==================================================\n",
      "Oryginalne zdanie: leave me alone as they should not be allowed to exist that is just how i feel\n",
      "Zaugumentowane zdanie 1: leave me alone as they should not be allowed to exist that is just how i feel\n",
      "Zaugumentowane zdanie 2: leave me alone as they should not be able to exist that is just how i feel\n",
      "Zaugumentowane zdanie 3: leave me alone as they should not be permitted to exist that is just how i feel\n",
      "\n",
      "\n",
      "==================================================\n",
      "Oryginalne zdanie: oh my god this bitch what a slut standing and humming a very deep and annoying tone the whole time she what a slut at the counter wtf\n",
      "Zaugumentowane zdanie 1: oh my god this bitch what a slut standing and humming a very deep and annoying tone the whole time she what a slut at the bar wtf\n",
      "Zaugumentowane zdanie 2: oh my god this bitch what a slut standing and humming a very deep and annoying tone the whole time she what a slut at the door wtf\n",
      "Zaugumentowane zdanie 3: oh my god this bitch what a slut standing and humming a very deep and annoying tone the whole time she what a slut at the party wtf\n",
      "\n",
      "\n",
      "==================================================\n",
      "Oryginalne zdanie: mongo is a wanker mongo drinks semen while editing someone else s page that dick mongo is a homosexual crybaby mongo is a motherfcuker mongo gets anal and oral every night from a five year old pig wayward likes cocks wayward likes teeth in his crust\n",
      "Zaugumentowane zdanie 1: mongo is a wanker mongo drinks semen while editing someone else s page that dick mongo is a homosexual crybaby mongo is a motherfcuker mongo gets anal and oral every night from a five year old pig wayward likes cocks wayward likes teeth in his crust\n",
      "Zaugumentowane zdanie 2: mongo is the wanker mongo drinks semen while editing someone else s page that dick mongo is a homosexual crybaby mongo is a motherfcuker mongo gets anal and oral every night from a five year old pig wayward likes cocks wayward likes teeth in his crust\n",
      "Zaugumentowane zdanie 3: mongo is another wanker mongo drinks semen while editing someone else s page that dick mongo is a homosexual crybaby mongo is a motherfcuker mongo gets anal and oral every night from a five year old pig wayward likes cocks wayward likes teeth in his crust\n",
      "\n",
      "\n",
      "==================================================\n",
      "Oryginalne zdanie: a bare banana reminds me of naked white women\n",
      "Zaugumentowane zdanie 1: a bare banana reminds me of naked naked women\n",
      "Zaugumentowane zdanie 2: a bare banana reminds me of naked pregnant women\n",
      "Zaugumentowane zdanie 3: a bare banana reminds me of naked young women\n",
      "\n",
      "\n",
      "==================================================\n",
      "Oryginalne zdanie: men are obviously superior over women\n",
      "Zaugumentowane zdanie 1: men are obviously superior over women\n",
      "Zaugumentowane zdanie 2: men are obviously dominant over women\n",
      "Zaugumentowane zdanie 3: men are obviously protective over women\n",
      "\n",
      "\n",
      "==================================================\n",
      "Oryginalne zdanie: and muslims never progress they are still barbaric\n",
      "Zaugumentowane zdanie 1: while muslims never progress they are still barbaric\n",
      "Zaugumentowane zdanie 2: although muslims never progress they are still barbaric\n",
      "Zaugumentowane zdanie 3: though muslims never progress they are still barbaric\n",
      "\n",
      "\n",
      "==================================================\n",
      "Oryginalne zdanie: there s another concern that whatever have put to the council a brand new big pub recently opened opposite with cultural tensions at the highest they have been building a new mosque is a recipe for potential confrontation naturally something whatever all want to avoid at all costs\n",
      "Zaugumentowane zdanie 1: there s another concern that whatever have put to the council a brand new big pub recently opened opposite with cultural tensions at the highest they have been building a new mosque is a recipe for potential confrontation naturally something whatever all want to avoid at all costs\n",
      "Zaugumentowane zdanie 2: there s another concern that whatever have put to the council a brand new big pub recently opened opposite with cultural tensions at the highest they have been building a new mosque is a recipe for potential confrontation naturally something whatever all want to prevent at all costs\n",
      "Zaugumentowane zdanie 3: there s another concern that whatever have put to the council a brand new big pub recently opened opposite with cultural tensions at the highest they have been building a new mosque is a recipe for potential confrontation naturally something whatever all want to do at all costs\n",
      "\n",
      "\n",
      "Orginal train dataset size: 1000\n",
      "Augumented train dataset size: 4000\n"
     ]
    }
   ],
   "source": [
    "augument_train = augument_dataset(dataset['train'], n=3)\n",
    "\n",
    "print(\"Orginal train dataset size:\", len(dataset['train']))\n",
    "print(\"Augumented train dataset size:\", len(augument_train))"
   ]
  },
  {
   "cell_type": "code",
   "execution_count": 36,
   "metadata": {},
   "outputs": [],
   "source": [
    "dataset['train'] = augument_train"
   ]
  },
  {
   "cell_type": "code",
   "execution_count": 39,
   "metadata": {},
   "outputs": [
    {
     "data": {
      "application/vnd.jupyter.widget-view+json": {
       "model_id": "5cd5c98c22d44b4291ef9297bbbbdff7",
       "version_major": 2,
       "version_minor": 0
      },
      "text/plain": [
       "Creating json from Arrow format:   0%|          | 0/4 [00:00<?, ?ba/s]"
      ]
     },
     "metadata": {},
     "output_type": "display_data"
    },
    {
     "data": {
      "text/plain": [
       "861130"
      ]
     },
     "execution_count": 39,
     "metadata": {},
     "output_type": "execute_result"
    }
   ],
   "source": [
    "augument_train.to_json(\"augmented_dataset.json\", orient=\"records\", lines=True)"
   ]
  },
  {
   "cell_type": "markdown",
   "metadata": {},
   "source": [
    "## Strojenie modelu dla powiększonego zbioru danych"
   ]
  },
  {
   "cell_type": "code",
   "execution_count": 40,
   "metadata": {},
   "outputs": [
    {
     "data": {
      "application/vnd.jupyter.widget-view+json": {
       "model_id": "c067e36c931a49aca84a84f0ae837c3b",
       "version_major": 2,
       "version_minor": 0
      },
      "text/plain": [
       "Generating train split: 0 examples [00:00, ? examples/s]"
      ]
     },
     "metadata": {},
     "output_type": "display_data"
    }
   ],
   "source": [
    "data_train = load_dataset(\"json\", data_files=\"augmented_dataset.json\")"
   ]
  },
  {
   "cell_type": "code",
   "execution_count": 51,
   "metadata": {},
   "outputs": [],
   "source": [
    "train_dataset = Dataset.from_list(data_train['train'])\n",
    "test_dataset = Dataset.from_list(json.loads(test_json))\n",
    "\n",
    "\n",
    "dataset = DatasetDict({\n",
    "    'train': train_dataset,\n",
    "    'test': test_dataset\n",
    "})"
   ]
  },
  {
   "cell_type": "code",
   "execution_count": 53,
   "metadata": {},
   "outputs": [
    {
     "data": {
      "application/vnd.jupyter.widget-view+json": {
       "model_id": "d4fbc71c5f2b4dd1919b97cd72d8671f",
       "version_major": 2,
       "version_minor": 0
      },
      "text/plain": [
       "Map:   0%|          | 0/4000 [00:00<?, ? examples/s]"
      ]
     },
     "metadata": {},
     "output_type": "display_data"
    },
    {
     "data": {
      "application/vnd.jupyter.widget-view+json": {
       "model_id": "e19065901c1745d6bd818373c794502c",
       "version_major": 2,
       "version_minor": 0
      },
      "text/plain": [
       "Map:   0%|          | 0/500 [00:00<?, ? examples/s]"
      ]
     },
     "metadata": {},
     "output_type": "display_data"
    },
    {
     "name": "stdout",
     "output_type": "stream",
     "text": [
      "{'train': Dataset({\n",
      "    features: ['text', 'LABEL', 'input_ids', 'token_type_ids', 'attention_mask', 'label'],\n",
      "    num_rows: 4000\n",
      "}), 'test': Dataset({\n",
      "    features: ['text', 'LABEL', 'input_ids', 'token_type_ids', 'attention_mask', 'label'],\n",
      "    num_rows: 500\n",
      "})}\n"
     ]
    }
   ],
   "source": [
    "splits = ['train', 'test']\n",
    "\n",
    "tokenized_ds = {} \n",
    "\n",
    "for split in splits:\n",
    "    tokenized_ds[split] = dataset[split].map(preprocess_function, batched=True)\n",
    "\n",
    "print(tokenized_ds)"
   ]
  },
  {
   "cell_type": "code",
   "execution_count": 54,
   "metadata": {},
   "outputs": [
    {
     "name": "stderr",
     "output_type": "stream",
     "text": [
      "d:\\Python\\Lib\\site-packages\\transformers\\training_args.py:1559: FutureWarning:\n",
      "\n",
      "`evaluation_strategy` is deprecated and will be removed in version 4.46 of 🤗 Transformers. Use `eval_strategy` instead\n",
      "\n",
      "C:\\Users\\DELL\\AppData\\Local\\Temp\\ipykernel_22972\\3172000056.py:4: FutureWarning:\n",
      "\n",
      "`tokenizer` is deprecated and will be removed in version 5.0.0 for `Trainer.__init__`. Use `processing_class` instead.\n",
      "\n"
     ]
    },
    {
     "name": "stdout",
     "output_type": "stream",
     "text": [
      "Starting to train...\n"
     ]
    },
    {
     "data": {
      "application/vnd.jupyter.widget-view+json": {
       "model_id": "2523b1fd71364f42a505d34fd886b242",
       "version_major": 2,
       "version_minor": 0
      },
      "text/plain": [
       "  0%|          | 0/16000 [00:00<?, ?it/s]"
      ]
     },
     "metadata": {},
     "output_type": "display_data"
    },
    {
     "name": "stdout",
     "output_type": "stream",
     "text": [
      "{'loss': 0.8427, 'grad_norm': 0.5663530230522156, 'learning_rate': 0.0019375, 'epoch': 0.25}\n",
      "{'loss': 0.7787, 'grad_norm': 0.18448784947395325, 'learning_rate': 0.001875, 'epoch': 0.5}\n",
      "{'loss': 0.6926, 'grad_norm': 0.33249109983444214, 'learning_rate': 0.0018125, 'epoch': 0.75}\n",
      "{'loss': 0.7321, 'grad_norm': 3.1281449794769287, 'learning_rate': 0.00175, 'epoch': 1.0}\n"
     ]
    },
    {
     "data": {
      "application/vnd.jupyter.widget-view+json": {
       "model_id": "bc3a3c2c21f2450f99995599bb47fea8",
       "version_major": 2,
       "version_minor": 0
      },
      "text/plain": [
       "  0%|          | 0/250 [00:00<?, ?it/s]"
      ]
     },
     "metadata": {},
     "output_type": "display_data"
    },
    {
     "name": "stdout",
     "output_type": "stream",
     "text": [
      "{'eval_loss': 0.5737740993499756, 'eval_accuracy': 77.0, 'eval_f1': 0.7758284600389863, 'eval_runtime': 18.8431, 'eval_samples_per_second': 26.535, 'eval_steps_per_second': 13.267, 'epoch': 1.0}\n",
      "{'loss': 0.6807, 'grad_norm': 7.139552116394043, 'learning_rate': 0.0016875, 'epoch': 1.25}\n",
      "{'loss': 0.6513, 'grad_norm': 0.931623101234436, 'learning_rate': 0.0016250000000000001, 'epoch': 1.5}\n",
      "{'loss': 0.6797, 'grad_norm': 1.5512592792510986, 'learning_rate': 0.0015625, 'epoch': 1.75}\n",
      "{'loss': 0.7012, 'grad_norm': 0.06521768122911453, 'learning_rate': 0.0015, 'epoch': 2.0}\n"
     ]
    },
    {
     "data": {
      "application/vnd.jupyter.widget-view+json": {
       "model_id": "ff0005b8f8044c859730721800f08d1c",
       "version_major": 2,
       "version_minor": 0
      },
      "text/plain": [
       "  0%|          | 0/250 [00:00<?, ?it/s]"
      ]
     },
     "metadata": {},
     "output_type": "display_data"
    },
    {
     "name": "stdout",
     "output_type": "stream",
     "text": [
      "{'eval_loss': 0.7473189830780029, 'eval_accuracy': 79.0, 'eval_f1': 0.8073394495412844, 'eval_runtime': 19.0239, 'eval_samples_per_second': 26.283, 'eval_steps_per_second': 13.141, 'epoch': 2.0}\n",
      "{'loss': 0.6567, 'grad_norm': 10.650982856750488, 'learning_rate': 0.0014375, 'epoch': 2.25}\n",
      "{'loss': 0.6872, 'grad_norm': 3.034512758255005, 'learning_rate': 0.001375, 'epoch': 2.5}\n",
      "{'loss': 0.5947, 'grad_norm': 0.5186392068862915, 'learning_rate': 0.0013125, 'epoch': 2.75}\n",
      "{'loss': 0.6664, 'grad_norm': 15.699996948242188, 'learning_rate': 0.00125, 'epoch': 3.0}\n"
     ]
    },
    {
     "data": {
      "application/vnd.jupyter.widget-view+json": {
       "model_id": "2352e75ca365473882e5fdc1ff2615cd",
       "version_major": 2,
       "version_minor": 0
      },
      "text/plain": [
       "  0%|          | 0/250 [00:00<?, ?it/s]"
      ]
     },
     "metadata": {},
     "output_type": "display_data"
    },
    {
     "name": "stdout",
     "output_type": "stream",
     "text": [
      "{'eval_loss': 0.6543647646903992, 'eval_accuracy': 76.8, 'eval_f1': 0.7734375, 'eval_runtime': 19.1475, 'eval_samples_per_second': 26.113, 'eval_steps_per_second': 13.057, 'epoch': 3.0}\n",
      "{'loss': 0.6197, 'grad_norm': 7.6578803062438965, 'learning_rate': 0.0011875, 'epoch': 3.25}\n",
      "{'loss': 0.6499, 'grad_norm': 8.03206729888916, 'learning_rate': 0.0011250000000000001, 'epoch': 3.5}\n",
      "{'loss': 0.636, 'grad_norm': 2.547696113586426, 'learning_rate': 0.0010625, 'epoch': 3.75}\n",
      "{'loss': 0.6668, 'grad_norm': 7.6806721687316895, 'learning_rate': 0.001, 'epoch': 4.0}\n"
     ]
    },
    {
     "data": {
      "application/vnd.jupyter.widget-view+json": {
       "model_id": "e3340313b9be4ecaacda1ac2bc11d995",
       "version_major": 2,
       "version_minor": 0
      },
      "text/plain": [
       "  0%|          | 0/250 [00:00<?, ?it/s]"
      ]
     },
     "metadata": {},
     "output_type": "display_data"
    },
    {
     "name": "stdout",
     "output_type": "stream",
     "text": [
      "{'eval_loss': 0.6854150295257568, 'eval_accuracy': 76.8, 'eval_f1': 0.7716535433070866, 'eval_runtime': 19.186, 'eval_samples_per_second': 26.061, 'eval_steps_per_second': 13.03, 'epoch': 4.0}\n",
      "{'loss': 0.609, 'grad_norm': 7.957456588745117, 'learning_rate': 0.0009375, 'epoch': 4.25}\n",
      "{'loss': 0.6041, 'grad_norm': 12.83027458190918, 'learning_rate': 0.000875, 'epoch': 4.5}\n",
      "{'loss': 0.6541, 'grad_norm': 7.306509494781494, 'learning_rate': 0.0008125000000000001, 'epoch': 4.75}\n",
      "{'loss': 0.6271, 'grad_norm': 7.196167469024658, 'learning_rate': 0.00075, 'epoch': 5.0}\n"
     ]
    },
    {
     "data": {
      "application/vnd.jupyter.widget-view+json": {
       "model_id": "5f815a96e7cc43439e5f287203cb359b",
       "version_major": 2,
       "version_minor": 0
      },
      "text/plain": [
       "  0%|          | 0/250 [00:00<?, ?it/s]"
      ]
     },
     "metadata": {},
     "output_type": "display_data"
    },
    {
     "name": "stdout",
     "output_type": "stream",
     "text": [
      "{'eval_loss': 0.6326426863670349, 'eval_accuracy': 77.60000000000001, 'eval_f1': 0.78125, 'eval_runtime': 19.172, 'eval_samples_per_second': 26.08, 'eval_steps_per_second': 13.04, 'epoch': 5.0}\n",
      "{'loss': 0.6221, 'grad_norm': 0.774118959903717, 'learning_rate': 0.0006875, 'epoch': 5.25}\n",
      "{'loss': 0.6002, 'grad_norm': 11.552017211914062, 'learning_rate': 0.000625, 'epoch': 5.5}\n",
      "{'loss': 0.6245, 'grad_norm': 0.08919104188680649, 'learning_rate': 0.0005625000000000001, 'epoch': 5.75}\n",
      "{'loss': 0.559, 'grad_norm': 9.372227668762207, 'learning_rate': 0.0005, 'epoch': 6.0}\n"
     ]
    },
    {
     "data": {
      "application/vnd.jupyter.widget-view+json": {
       "model_id": "9c63adffe4af44ad8207ca09f262cc54",
       "version_major": 2,
       "version_minor": 0
      },
      "text/plain": [
       "  0%|          | 0/250 [00:00<?, ?it/s]"
      ]
     },
     "metadata": {},
     "output_type": "display_data"
    },
    {
     "name": "stdout",
     "output_type": "stream",
     "text": [
      "{'eval_loss': 0.6298790574073792, 'eval_accuracy': 77.2, 'eval_f1': 0.7816091954022989, 'eval_runtime': 19.1478, 'eval_samples_per_second': 26.113, 'eval_steps_per_second': 13.056, 'epoch': 6.0}\n",
      "{'loss': 0.5818, 'grad_norm': 0.5843635201454163, 'learning_rate': 0.0004375, 'epoch': 6.25}\n",
      "{'loss': 0.6119, 'grad_norm': 1.7905508279800415, 'learning_rate': 0.000375, 'epoch': 6.5}\n",
      "{'loss': 0.6143, 'grad_norm': 1.8362483978271484, 'learning_rate': 0.0003125, 'epoch': 6.75}\n",
      "{'loss': 0.566, 'grad_norm': 8.490909576416016, 'learning_rate': 0.00025, 'epoch': 7.0}\n"
     ]
    },
    {
     "data": {
      "application/vnd.jupyter.widget-view+json": {
       "model_id": "97729a4e451247719c3b5c24e01a2266",
       "version_major": 2,
       "version_minor": 0
      },
      "text/plain": [
       "  0%|          | 0/250 [00:00<?, ?it/s]"
      ]
     },
     "metadata": {},
     "output_type": "display_data"
    },
    {
     "name": "stdout",
     "output_type": "stream",
     "text": [
      "{'eval_loss': 0.6783268451690674, 'eval_accuracy': 78.4, 'eval_f1': 0.797752808988764, 'eval_runtime': 19.0936, 'eval_samples_per_second': 26.187, 'eval_steps_per_second': 13.093, 'epoch': 7.0}\n",
      "{'loss': 0.5901, 'grad_norm': 8.095770835876465, 'learning_rate': 0.0001875, 'epoch': 7.25}\n",
      "{'loss': 0.6597, 'grad_norm': 4.466259002685547, 'learning_rate': 0.000125, 'epoch': 7.5}\n",
      "{'loss': 0.5305, 'grad_norm': 4.019985198974609, 'learning_rate': 6.25e-05, 'epoch': 7.75}\n",
      "{'loss': 0.5194, 'grad_norm': 11.176736831665039, 'learning_rate': 0.0, 'epoch': 8.0}\n"
     ]
    },
    {
     "data": {
      "application/vnd.jupyter.widget-view+json": {
       "model_id": "357769ad42b64cd4a151416da641f26b",
       "version_major": 2,
       "version_minor": 0
      },
      "text/plain": [
       "  0%|          | 0/250 [00:00<?, ?it/s]"
      ]
     },
     "metadata": {},
     "output_type": "display_data"
    },
    {
     "name": "stdout",
     "output_type": "stream",
     "text": [
      "{'eval_loss': 0.6359022855758667, 'eval_accuracy': 78.60000000000001, 'eval_f1': 0.799249530956848, 'eval_runtime': 19.0571, 'eval_samples_per_second': 26.237, 'eval_steps_per_second': 13.118, 'epoch': 8.0}\n",
      "{'train_runtime': 1523.6468, 'train_samples_per_second': 21.002, 'train_steps_per_second': 10.501, 'train_loss': 0.6409451847076416, 'epoch': 8.0}\n"
     ]
    },
    {
     "data": {
      "text/plain": [
       "TrainOutput(global_step=16000, training_loss=0.6409451847076416, metrics={'train_runtime': 1523.6468, 'train_samples_per_second': 21.002, 'train_steps_per_second': 10.501, 'total_flos': 8448695992320000.0, 'train_loss': 0.6409451847076416, 'epoch': 8.0})"
      ]
     },
     "execution_count": 54,
     "metadata": {},
     "output_type": "execute_result"
    }
   ],
   "source": [
    "model_pert = PeftModel.from_pretrained(model, model_path_pert)\n",
    "tokenizer = BertTokenizer.from_pretrained(\"bert-base-uncased\")\n",
    "\n",
    "trainer_augumented_data = Trainer(\n",
    "    model=model_pert,\n",
    "    args=TrainingArguments(\n",
    "        output_dir=\"bert-lora\",\n",
    "        learning_rate=2e-3,\n",
    "        per_device_train_batch_size=2,\n",
    "        per_device_eval_batch_size=2,\n",
    "        num_train_epochs=8,\n",
    "        weight_decay=0.01,\n",
    "        evaluation_strategy=\"epoch\",\n",
    "        save_strategy=\"epoch\",\n",
    "        load_best_model_at_end=True,\n",
    "    ),\n",
    "    train_dataset=tokenized_ds[\"train\"],\n",
    "    eval_dataset=tokenized_ds[\"test\"],\n",
    "    tokenizer=tokenizer,\n",
    "    data_collator=DataCollatorWithPadding(tokenizer=tokenizer),\n",
    "    compute_metrics=compute_metrics,\n",
    ")\n",
    "\n",
    "print(\"Starting to train...\")\n",
    "trainer_augumented_data.train()"
   ]
  },
  {
   "cell_type": "code",
   "execution_count": 55,
   "metadata": {},
   "outputs": [],
   "source": [
    "model_path_mask = 'pert_model_mask-weights/'\n",
    "model_pert.save_pretrained(model_path_mask)"
   ]
  },
  {
   "cell_type": "markdown",
   "metadata": {},
   "source": [
    "### Ocena jakości predykcji [MASK]"
   ]
  },
  {
   "cell_type": "code",
   "execution_count": 56,
   "metadata": {},
   "outputs": [],
   "source": [
    "model_mask = PeftModel.from_pretrained(model, model_path_mask)\n",
    "tokenizer = BertTokenizer.from_pretrained(\"bert-base-uncased\")\n",
    "\n",
    "trainer_augumented_data = Trainer(\n",
    "    model=model_mask,\n",
    "    data_collator=DataCollatorWithPadding(tokenizer=tokenizer),\n",
    "    compute_metrics=compute_metrics\n",
    ")"
   ]
  },
  {
   "cell_type": "code",
   "execution_count": 57,
   "metadata": {},
   "outputs": [
    {
     "data": {
      "application/vnd.jupyter.widget-view+json": {
       "model_id": "1af481153b6941d2824de13dc53eb8c4",
       "version_major": 2,
       "version_minor": 0
      },
      "text/plain": [
       "  0%|          | 0/63 [00:00<?, ?it/s]"
      ]
     },
     "metadata": {},
     "output_type": "display_data"
    },
    {
     "name": "stdout",
     "output_type": "stream",
     "text": [
      "Wyniki:\n",
      "--------------------\n",
      "Test Loss: 0.5738\n",
      "Test Model Preparation Time: 0.0042\n",
      "Test Accuracy: 77.0000\n",
      "Test F1: 0.7758\n",
      "Test Runtime: 17.3183\n",
      "Test Samples Per Second: 28.8710\n",
      "Test Steps Per Second: 3.6380\n"
     ]
    }
   ],
   "source": [
    "predictions_mask = trainer_augumented_data.predict(tokenized_ds['test'])\n",
    "\n",
    "predicted_labels_mask = predictions_mask.predictions.argmax(axis=1)  \n",
    "true_labels_mask = predictions_mask.label_ids \n",
    "metrics_mask = predictions_mask.metrics\n",
    "\n",
    "print(\"Wyniki:\")\n",
    "print(\"-\" * 20)\n",
    "for key, value in metrics_mask.items():\n",
    "    print(f\"{key.replace('_', ' ').title()}: {value:.4f}\" if isinstance(value, float) else f\"{key.replace('_', ' ').title()}: {value}\")"
   ]
  },
  {
   "cell_type": "code",
   "execution_count": 58,
   "metadata": {},
   "outputs": [
    {
     "data": {
      "image/png": "[encoded data removed]",
      "text/plain": [
       "<Figure size 500x500 with 2 Axes>"
      ]
     },
     "metadata": {},
     "output_type": "display_data"
    }
   ],
   "source": [
    "conf_matrix = confusion_matrix(true_labels_mask, predicted_labels_mask)\n",
    "\n",
    "labels = np.unique(true_labels_mask)  \n",
    "confusion_df = pd.DataFrame(conf_matrix, index=labels, columns=labels)\n",
    "\n",
    "plt.figure(figsize=(5, 5))\n",
    "sns.heatmap(confusion_df, annot=True, fmt='d', cmap='Blues', cbar=True,\n",
    "            xticklabels=labels, yticklabels=labels)\n",
    "plt.title('Macierz Konfuzji')\n",
    "plt.xlabel('Przewidywane Etykiety')\n",
    "plt.ylabel('Rzeczywiste Etykiety')\n",
    "plt.show()"
   ]
  },
  {
   "cell_type": "markdown",
   "metadata": {},
   "source": [
    "### Wizualizacja przestrzeni wektorowej [MASK]"
   ]
  },
  {
   "cell_type": "code",
   "execution_count": 59,
   "metadata": {},
   "outputs": [],
   "source": [
    "text = pd.DataFrame(tokenized_ds['test']['text'], columns=['text'])\n",
    "text['text'] = text['text'].apply(wrap_text)\n",
    "\n",
    "embeddings = embed_text(dataset['test'])"
   ]
  },
  {
   "cell_type": "markdown",
   "metadata": {},
   "source": [
    "#### PCA"
   ]
  },
  {
   "cell_type": "code",
   "execution_count": 60,
   "metadata": {},
   "outputs": [
    {
     "data": {
      "application/vnd.plotly.v1+json": {
       "config": {
        "plotlyServerURL": "https://plot.ly"
       },
       "data": [
        {
         "customdata": [
          [
           "soi ll stick with my sources while you t<br>ry to pull more you there of the air",
           0
          ],
          [
           "where can whatever get a copy of this",
           0
          ],
          [
           "tnx i see yeah right argument and i am g<br>lad that in this case there is a non mis<br>leading where are you of responding at",
           0
          ],
          [
           "else has contested this in the meantime <br>but i will get my two pennyworth in as w<br>ell this is not a pub team but is about <br>to absorb the very notable solidly borou<br>gh f c",
           0
          ],
          [
           "i am thankful for my bed thankful positi<br>ve",
           0
          ],
          [
           "i am sanctioned to give another words of<br> justification to any revert until the e<br>nd of so here it goes besides what i sta<br>ted above here are my thoughts i have no<br>thing contrary to the citation of a cont<br>emporary author that has done a serious <br>study on java trial and does not blindly<br> repeat that she what a slut from serbia<br>n origin the only contemporary scholar t<br>hat whatever have to claim that visa tri<br>al what a slut from serbian origin is st<br>andouts who says only that and then he p<br>oints to the biography of marin ballet n<br>ow ballet does not say that she what a s<br>lut serbian but albanian so standouts co<br>ntradicts himself if whatever really wan<br>t to give some references to slandered t<br>hat are sour let us start with oliver je<br>ns schmitt who really has made a bad bio<br>graphy of the national hero of the alban<br>ians schmitt is a voice out of the choir<br> and i would love if someone brings to t<br>he table what he says because i want to <br>see if he is fringe or serious",
           0
          ],
          [
           "doubt he would be any taller than unless<br> the man is dutch who currently are the <br>tallest in the world with an average hei<br>ght of it is more realistic he would be <br>about that height i think",
           0
          ],
          [
           "haii happy",
           0
          ],
          [
           "retweet some pussy be so wet sweat dropl<br>etsdropletsweat dropletsdropletyou got t<br>o think about other things not to come f<br>ast like damn i really failed the grade",
           0
          ],
          [
           "more botheration reopen access publishin<br>g since you were the administrator invol<br>ved in an original move i what a slut ho<br>ping you could help me figure out cleanu<br>p on the articles open access publishing<br> and open access publishing you original<br>ly moved publishing to publishing but bo<br>th articles still exist with substantial<br>ly the same content although subsequent <br>edits have forked the content a bit shou<br>ld open access publishing be redirected <br>to open access publishing as seems what <br>a slut your intent or is there something<br> more subtle going on here this is separ<br>ate from the main open access article wh<br>ich open access publishing appears to th<br>ink it is based on the hat note and the <br>open access disambiguation dab page does<br> not refer to either of the two publishi<br>ng articles at this point i am rather co<br>nfused about what is intended to go wher<br>e",
           0
          ],
          [
           "consider adding links to anger managemen<br>t volition habituation and performance w<br>hile there is not currently a page on oc<br>cupational performance or occupational e<br>xploration consider defining these terms<br> since they are specific to off topic it<br> also be useful to give a few examples o<br>f settings over the shoulder work in to <br>give readers who are unfamiliar with off<br> topic a better understanding of the fie<br>ld overall the page is well written and <br>contains a lot of important information <br>on the subject",
           0
          ],
          [
           "acording to the wiki policy self made pi<br>ctures area lowed as they are classed as<br> based on researched material",
           0
          ],
          [
           "sigh but surely i am the one who hounds <br>him and bullies him and will not leave h<br>im alone do as you will wee regards talk",
           0
          ],
          [
           "imageromania drumuri svg hey nice work o<br>n the image i would update the image mys<br>elf but i do not know how so here is wha<br>t found missing on your image based on t<br>he maps at this link lugoj sibiu on ploi<br>esti focsani on club south freeway bucha<br>rest ring freeway also i did not find an<br>y reference about the focsani bacau sect<br>or that you labeled as planned cheers",
           0
          ],
          [
           "you are an admin it is my pleasure to in<br>form you that you are now an admin congr<br>atulations you can feel free to do every<br>thing you are supposed to do and nothing<br> you are not supposed to do if you have <br>not already now is the time look through<br> the wikipediaadministrators how to guid<br>e and wikipediaadministrators reading li<br>st if you have any questions feel free t<br>o ask me or at the wikipediaadministrato<br>rs noticeboard best wishes and good luck<br> congratulations wow thanks now the real<br> learning starts",
           0
          ],
          [
           "you misspelled speech i though that i sh<br>ould correct you seeing that you are an <br>administrator and all",
           0
          ],
          [
           "reply question lol asshole i am not sure<br> what the letter p has got to do with th<br>e australian currency but whatever use d<br>ollars for example you must mean pounds <br>or pence uk s currency",
           0
          ],
          [
           "stop the vandalism please future perfect<br> at sunrise",
           0
          ],
          [
           "these hoes be flaw gen i swear bruh a ni<br>gga do not want you all",
           0
          ],
          [
           "info box company location country the do<br>cumentation at indicates that the locati<br>on country parameter is for the country <br>of the company s that is not an office i<br>n san francisco or any other satellite o<br>ffice or secondary locations or regional<br> head offices but the head office there <br>is usually only one head office with tha<br>t said whatever should be adding a locat<br>ion city parameter as well",
           0
          ],
          [
           "ok i withdraw it talk",
           0
          ],
          [
           "note to same correcting spanish american<br>s article i do not know what you are tal<br>king about i did not vandalize any artic<br>le stop accusing me of vandalism because<br> i do not do that and you know it you ar<br>e saying this to make me look bad to wik<br>i and it has not fair all i did what a s<br>lut reflect correct info that the author<br> of the article has made an error in the<br> author made an error in the article per<br>taining to what constitutes a spanish am<br>erican in the article he states that any<br>one from latin america is considered a s<br>panish american when that is not true a <br>spanish american is someone who is desce<br>nded directly note this from spain and b<br>orn in the americas for example mexican <br>born or argentine born peoples are not s<br>panish americans since they are born in <br>latin america not spain i want to work w<br>ith the author but the author has got to<br> work with us the people who are trying <br>to correct him you are not spanish so yo<br>u do not have the right to dictate to ot<br>hers who or what they are",
           0
          ],
          [
           "retweet you all hoes need to get out mor<br>e there so much more to life than being <br>a fucking hater go get yours",
           0
          ],
          [
           "retweet big booty hoe with tig old ditti<br>es xbox one pancake booty hoe with panca<br>ke tits",
           0
          ],
          [
           "nature since the article what a slut fir<br>st nominated for core topics crying on t<br>he floor it has advanced in quality cons<br>iderably this is largely due to the work<br> of while doing so he has contended with<br> the continual one issue commentary on t<br>he talk page of the latter seems to want<br> to make the article into a philosophy o<br>f science article on the meanings of the<br> term nature as a result i would suggest<br> that major editorial changes to the art<br>icle not be necessary or possible withou<br>t incurring an edit war on the other han<br>d the article would likely benefit from <br>a good copy edit however i have not read<br> the article for some time to see how we<br>ll it hangs together perhaps i should do<br> that now if you would also look at it i<br>n that light whatever could compare note<br>s see you on the talk page",
           0
          ],
          [
           "well that is sort of the point it s to a<br>void having a player who only played one<br> or two years skew the data that being s<br>aid i believe the number comes from the <br>nhs cut off point so whatever use the sa<br>me one",
           0
          ],
          [
           "i appreciate your candor in sorting this<br> out i think i understand now i wish i c<br>ould send you a cheese basket or somethi<br>ng you have stuck this out since the beg<br>inning when so many other admins have qu<br>it topgearfreak sinned troy johns loan y<br>ou have been patient and persistent now <br>that whatever are near to the end i hope<br> whatever can work out all these differe<br>nces talk to you tomorrow byeeeeee esq",
           0
          ],
          [
           "retweet glass half full glass half empty<br> this mizzou team is legitimately pretty<br> good if you go by sports references sim<br>ple",
           0
          ],
          [
           "nicesunnyblondy not applicable slut xxx <br>young hot kinky naughty horny wet shy na<br>sty nude porn sexy",
           0
          ],
          [
           "retweet new year s resolution smoke more<br> weed make more money fuck more bitches",
           0
          ],
          [
           "utc talkdemocratic response to state of <br>the union address possibly if the wiki s<br>ource discussion exists on other article<br>s a wikipedia wide discussion can be hel<br>d about it smiling face",
           0
          ],
          [
           "asylum species you know how during the o<br>pening movie it says next to asylum s sp<br>ecies it has well i know this sounds wei<br>rd as they are extinct according to the <br>metro id prime manual but i think asylum<br> is a photo he makes weird bird like mov<br>ements and sounds when he comes out of l<br>ockjaw and the photo were a bird like pe<br>ople right",
           0
          ],
          [
           "whiskerswednesday everyone cute cats kit<br>ten catsoftwitter teamcatmojo cat lover",
           0
          ],
          [
           "ella griffith a tag has been placed on e<br>lla griffith requesting that it be speed<br>ily deleted from wikipedia this has been<br> done because the article seems to be ab<br>out a person group of people band club c<br>ompany or web content but it does not in<br>dicate how or why the subject is notable<br> see the guidelines for notability here <br>if you can indicate why the subject of t<br>his article is notable you contest the t<br>agging to do this please write on the to<br>p of the page and leave a note on the ar<br>ticle s talk page explaining your positi<br>on please do not remove the speedy delet<br>ion tag yourself please read the criteri<br>a for speedy deletion specifically artic<br>les and our general biography criteria f<br>eel free to leave a note on my talk page<br> if you have any questions about this",
           0
          ],
          [
           "imagealbatosssmb png listed for deletion<br> an image or media file that you uploade<br>d or altered imagealbatosssmb png has be<br>en listed at wikipediaimages and media f<br>or deletion please see the discussion to<br> see why this is you have to search for <br>the title of the image to find its entry<br> if you are interested in it not being d<br>eleted talk",
           0
          ],
          [
           "oh please no further involvement of your<br> time is remotely necessary and that goe<br>s for gen quon as well you two lovely pe<br>ople have already expended more than eno<br>ugh of your time on my project if the en<br>tire fa process is based around grammar <br>lessons and anal nitpicking i would much<br> rather return to spending my time with <br>gas which are actually fun and productiv<br>e i am much more of a fan of the you tel<br>l me what has wrong with the article and<br> i will go fix it process it is not that<br> i am giving up on the article i am defi<br>nitely going to continue to fight for it<br> and i am far from quitting i will defin<br>itely re nominate it it is just that the<br> reward to work ratio is severely lackin<br>g or is that lacking severely",
           0
          ],
          [
           "the borders of the new state were not sp<br>ecified changing from borders for a new <br>jewish state were specified by the un to<br> the borders of the new state were not s<br>pecified is a clear misrepresentation of<br> the truth the borders of the new state <br>were specified by the un the borders spe<br>cified by the un were accepted by the je<br>wish agency for israel to sum all this u<br>p in the lead with the statement the bor<br>ders of the new state were not specified<br> is completely dishonest",
           0
          ],
          [
           "massacre or what mercaz hara massacre no<br>t enough dead bowler and nocalsays is a <br>large number i personally think not in w<br>hich case this should be renamed to inci<br>dent or attack or similar otherwise any <br>terrorist attacks that kill or more peop<br>le should likewise be listed as a massac<br>re wikipedia will quickly fill up with m<br>assacres diluting those that really are <br>massacre of large numbers of people agre<br>e renaming per the discussion here talk <br>original here and art shiva only call it<br> attack yet attack israeli ministry of f<br>oreign affairs shooting post attack isra<br>el insider attack in fact one only has t<br>o look at the references supplied in the<br> article itself to see that attack is th<br>e most prevalent description i am astoun<br>ded that bowler found time to search out<br> an obscure tiny article when the mercy <br>hara attack what a slut one of the reaso<br>ns behind the racist group idf which bow<br>ler aids one would have thought that the<br> mercy hara attack would have caught bow<br>ler s attention first dead link live lin<br>k to same article see also ha art seven <br>students remain hospitalized after shoot<br>ing surprisingly the only source for mas<br>sacre is wiki",
           0
          ],
          [
           "these bitches need guidance",
           0
          ],
          [
           "clarification someone claimed that an ed<br>itor here what a slut making a libelous <br>insinuation libelous is not a term to be<br> thrown around loosely first i did not s<br>ee anything that what a slut factually u<br>ntrue that is the first requirement for <br>libel if something is true it is not lib<br>elous second opinion is never libelous i<br> just hope that people become more judic<br>ious about this oh and finally libel aga<br>inst a public figure requires reckless i<br>ndifference to the truth or knowledge th<br>at the statement what a slut false i doe<br>s not see anything here that suggests th<br>ere what a slut any libel",
           0
          ],
          [
           "hee i mean good and great great and good",
           0
          ],
          [
           "you refusing to remove personal inaccura<br>te information when i edit it",
           0
          ],
          [
           "washington nationals strasbourg has yet <br>to sign as of until he does please do no<br>t alter his info box to read nationals",
           0
          ],
          [
           "believe me you will always be a pa of mi<br>ne till my day comes to the silly dances<br> you re trying to twerk ripjulimuffn att<br>ack",
           0
          ],
          [
           "further to this i have blocked your othe<br>r account the general rule on wikipedia <br>is that every editor should only have on<br>e account please follow that rule in the<br> future i do notice that you had problem<br>s with you articles in the past if you h<br>ave questions you can ask them here and <br>i will try to explain everything but ple<br>ase stop attacking other editors on wiki<br>pedia whatever all want to improve wikip<br>edia if other editors mark your articles<br> for deletion they do so because they be<br>lieve that the article should not be par<br>t of wikipedia which articles should or <br>should not be on wikipedia has been dete<br>rmined through a consensus of all editor<br>s regards",
           0
          ],
          [
           "youtube has several dozen holocaust revi<br>sionist videos",
           0
          ],
          [
           "black women are not whales",
           0
          ],
          [
           "it is so embarrassing that you do not kn<br>ow how to swim how could you go on holid<br>ay",
           0
          ],
          [
           "utc anome you must be joking analyzing t<br>wo body planetary orbital theory is much<br> easier in polar coordinates that it is <br>in cartesian coordinates",
           0
          ],
          [
           "welcome hello and welcome to wikipedia t<br>hank you for your contributions i hope y<br>ou like the place and decide to stay her<br>e are some pages that you might find hel<br>pful the five pillars of wikipedia how t<br>o edit a page help pages tutorial how to<br> write a great article manual of style i<br> hope you enjoy editing here and being a<br> wikipedia please sign your name on talk<br> pages using four tildes this will autom<br>atically produce your name and the date <br>if you need help check out wikipediaques<br>tions ask me on my talk page or place on<br> your talk page and ask your question th<br>ere again welcome ps in the future you c<br>an redirect a page by replacing it with <br>redirect article name",
           0
          ],
          [
           "prime example of why the walk away movem<br>ent what a slut born democrats are nothi<br>ng but sleepy liars all decent people th<br>at were democrats will not stand behind <br>tactics like antifa and destroying peopl<br>e s lives for political reasons i what a<br> slut a democrat for years and i walked <br>away",
           0
          ],
          [
           "it is not possible to attack an anonymou<br>s internet protocol address especially o<br>ne which ironically claims a well known <br>national comic strip also cited in vario<br>us other places in wikipedia is",
           0
          ],
          [
           "i know so many trans women",
           0
          ],
          [
           "hello i am gay welcome to the oh site of<br> gilliam i murder puppies c c c c c c c",
           0
          ],
          [
           "no problem an admin from our wiki projec<br>t moved it back thanks",
           0
          ],
          [
           "i m just telling facts one who does not <br>take to krishna consciousness is most co<br>ndemned and cannot be delivered for mill<br>ions of kappas kappa years sri chaitanya<br> caritamrta ant ya e vanyaya yeah na bas<br>e set java chart koti kalpe kabul tara b<br>ahia niagara synonyms e vanyaya in this <br>inundation yeah anyone who na base does <br>not float set that java living entity ch<br>art most condemned koti kalpe in million<br>s of kappas kabul at any time tara his b<br>ahia there is not niagara deliverance tr<br>anslation anyone who does not float in t<br>his inundation is most condemned such a <br>person cannot be delivered for millions <br>of kappas purport the kappa is explained<br> in the bhagavad gita sahasra yuga parya<br>ntam agar had brahman video one day of b<br>rahma is called a kappa a yoga or mahaya<br>na consists of years and one thousand su<br>ch maha yugas constitute one kappa the a<br>uthor of sri caitanya caritamrta says th<br>at if one does not take advantage of the<br> krsna consciousness movement of sri cha<br>itanya mahaprabhu he cannot be delivered<br> for millions of such kappas however sit<br>uation is not hopeless even atheists can<br> be delivered if they take sri krishna c<br>aitanya as supreme personality of godhea<br>d sri chaitanya caritamrita adi caitanya<br> mangala sure wadi ashanti havana sea ma<br>ha vaishnava maya katakana synonyms cait<br>anya mangala the book named caitanya man<br>gala sure anyone hears wadi if ashanti g<br>reat atheist havana a nonbeliever in the<br> vedic culture sea he also maha vaishnav<br>a great devotee maya becomes katakana im<br>mediately translation if even a great at<br>heist hears sri caitanya mangala he imme<br>diately becomes a great devotee so athei<br>sts still have hope to get out of hell a<br>nd also of this material world",
           0
          ],
          [
           "national best friends day",
           0
          ],
          [
           "beefcake s boot camp white genocide proj<br>ect",
           0
          ],
          [
           "no that pretty much is ca springs again <br>a comment that the article needs to say <br>akin s understanding what a slut general<br>ly regarded as wrong when the article di<br>d not say so at the time does not mean n<br>ow that the article says so under fringe<br> an unrelated polemical essay is justifi<br>ed this has repeatedly been commented on<br> it is just bizarre",
           0
          ],
          [
           "fuuuuuck you stupid fucking vagina",
           0
          ],
          [
           "mentor for fcc can you be my mentor for <br>non free images",
           0
          ],
          [
           "can you address a sentence referring to <br>chromaticity coordinates you have everyt<br>hing else except a entrance to that plea<br>se utc",
           0
          ],
          [
           "your fd vote on our colony i ask you to <br>reconsider ourcolony what a slut not cre<br>ated to circumvent the vote on our colon<br>y net but in fact what a slut created da<br>ys prior to your fd submission check the<br> history of the two sites and see for yo<br>urself ourcolony history utc on",
           0
          ],
          [
           "on joffrey s death hi congratulations on<br> the excellent article but could someone<br> give a reference to justify that redone<br> and peter were the ones responsible for<br> joffrey s death thanks",
           0
          ],
          [
           "if you would just like to delete it you <br>can do that and i will re upload",
           0
          ],
          [
           "well it does not sound outrageous talk u<br>tc",
           0
          ],
          [
           "afd which article what a slut nominated <br>for afd",
           0
          ],
          [
           "please stop the gnu search and replace t<br>he text gnu linux currently points to a <br>redirect your current search and replace<br> activities violate well played policy i<br> will not dig out the rule just yet plea<br>se find a better use for your energy",
           0
          ],
          [
           "review me please note that i have instit<br>uted discussion about this at wikipedia <br>talkwikiproject beauty pageants big five<br> big four if you think the change is nec<br>essary please discuss it there rather th<br>an acting unilaterally on such a major c<br>hange review me",
           0
          ],
          [
           "attention federalist you are allowed to <br>write nonsense on talk pages wpnonsense",
           0
          ],
          [
           "non notable fails web talk",
           0
          ],
          [
           "i am surprised he did not shoot his stud<br>ents just prove gun control is important<br> i am glad i does not send kids to colle<br>ge what a waste of money turning them in<br>to pumpkin heads",
           0
          ],
          [
           "it is big fat java",
           0
          ],
          [
           "fair use rationale for image dark jak jp<br>g thanks for uploading or contributing t<br>o image dark jak jpg i notice the image <br>page specifies that the image is being u<br>sed under fair use but there is not a su<br>itable explanation or rationale as to wh<br>y each specific use on wikipedia constit<br>utes fair use please go to the image des<br>cription page and edit it to include a f<br>air use rationale if you have uploaded o<br>ther fair use media consider checking th<br>at you have specified the fair use ratio<br>nale on those pages too you can find a l<br>ist of image pages you have edited by cl<br>icking on the link it is located at the <br>very top of any wikipedia page when you <br>are logged in and then selecting from th<br>e dropdown box note that any non free me<br>dia lacking such an explanation will be <br>deleted one week after they have been up<br>loaded as described on criteria for spee<br>dy deletion if you have any questions pl<br>ease ask them at the media copyright que<br>stions page thank you",
           0
          ],
          [
           "l a noise video game hi diego maya i not<br>iced you created the page with nothing b<br>ut a link to l a noise i turned the page<br> into a redirect into that page and look<br>ing at the target article i think that i<br>s what you probably meant to do but i wa<br>nted to make sure thanks",
           0
          ],
          [
           "did not natasha brake the demons sword w<br>hen he what a slut battling him how did <br>he get them back so cute remix this soun<br>ds terrible i d rather read the subtitle<br>s you cannot kill the main character ano<br>ther bitch slap damn nice i cannot stop <br>watching this he went off the freaking c<br>hart so even if the dead come back to li<br>fe like in them zombie movies to ass am <br>not on be nowhere that is fucking gross <br>the green haired guys is pretty hot i lo<br>ved all of them that what a slut hot the<br>y both killed it",
           0
          ],
          [
           "the issue was not that the information w<br>hat a slut unsourced it what a slut that<br> everything i had removed used a persona<br>l web log most likely added to the artic<br>le by the owner of said site as a source",
           0
          ],
          [
           "thanks for contributing to wikipedia unf<br>ortunately the commercial links content <br>you added were inappropriate as wikipedi<br>a is an encyclopedia and should not be u<br>sed for advertising or a collection of e<br>xternal links see the welcome page if yo<br>u would like to learn more about contrib<br>uting to the encyclopedia thanks",
           0
          ],
          [
           "template did you know nominations monte <br>alien national park",
           0
          ],
          [
           "marry justin kill church don t know who <br>what the fuck he is and do russel never <br>said it had to last long happy face or s<br>miley www the snake is so cute ok fine w<br>hat ever you are never going to be quiet<br> until i give it or let you win so fine <br>you win i lose i am a terrible person an<br>d deserve to die happy i would be consta<br>ntly praying i have done things not terr<br>ible but i really need forgiveness o o a<br>t the end oh well extreme droll it does <br>not really matter if you do not like peo<br>ple making a little fun over then why di<br>d you click on this video it is your own<br> fault for clicking on it wow this time <br>i am the normal one p ugh stop talking a<br>bout stopping whatever all love you and <br>whoever does not need to shut their face<br> youtube laughing out loud",
           0
          ],
          [
           "padding cell padding class mainpagebg so<br>lid lightered background colorlightgrey <br>vertical aligntop color font size hello <br>ppjp welcome to wikipedia thank you for <br>your contributions you benefit from foll<br>owing some links below which will help y<br>ou get the most out of wikipedia if you <br>have any questions you can ask me on my <br>talk page or place on your talk page and<br> ask your question there please remember<br> to sign your name on talk pages by clic<br>king or by typing four tildes this will <br>automatically produce your name and the <br>date if you are already loving wikipedia<br> you might want to consider being adopte<br>d by a more experienced editor or joinin<br>g a wiki project to collaborate with oth<br>ers in creating and improving articles o<br>f your interest click here for a directo<br>ry of all the wiki projects finally plea<br>se do your best to always fill in the ed<br>it summary field happy editing width sty<br>le background colorwhite class mainpageb<br>g style width solid white background col<br>orlightgrey vertical aligntop getting st<br>arted wikipedia tutorial the five pillar<br>s of wikipedia how to edit a page upload<br> an image getting help frequently asked <br>questions where to ask questions or make<br> comments request administrator attentio<br>n policies and guidelines neutral point <br>of view reliable sources variability cit<br>ing sources no original research what wi<br>kipedia is not biographies of living per<br>sons manual of style three revert rule s<br>ock puppetry copyrights policy for non f<br>ree content image use policy external li<br>nks spam vandalism deletion policy confl<br>ict of interest notability class mainpag<br>ebg style width solid lightered backgrou<br>nd colorseashell vertical aligntop width<br> cell padding cell style vertical alignt<br>op background colorseashell the communit<br>y style color",
           0
          ],
          [
           "hii kindly let me know how to edit it pr<br>operly i what a slut adding the title dr<br> to khalid abdul rahim s page",
           0
          ],
          [
           "every time i see you my he skips a beat <br>teaseuesday latina",
           0
          ],
          [
           "maybe i hate myself",
           0
          ],
          [
           "the spelling has fallen out of modern us<br>age in english and is considered old fas<br>hioned similar to how why felinheli is n<br>o longer referred to as the name is the <br>anglicized here is the welcome sign for <br>conway as you can see the spelling is no<br>t on the sign which means that is the sp<br>elling used officially for both welsh an<br>d english",
           0
          ],
          [
           "pakistan even wore a black band opposing<br> israel and what a slut completely fine <br>with it face with symbols on mouth face <br>with symbols on mouth face with symbols <br>on mouth dhonikeepstheglove boycottworld<br>cup boycotting",
           0
          ],
          [
           "it would be extremely positive if whatev<br>er could find a where are you to cleanse<br> this country for example by encouraging<br> capital punish by virtue of being a mur<br>derer",
           0
          ],
          [
           "more women accuse weinstein of rape",
           0
          ],
          [
           "response section anyone knows what does <br>up with the choppy prose in this section<br> four shots not cited news outlet senten<br>ces stand alone paragraphs and such shal<br>l i just solicit",
           0
          ],
          [
           "a bunch of overpaid liberals whining abo<br>ut how horrible everything is they shoul<br>d get together with nfl players and try <br>getting a real job zero interest in them<br> giving their friends pointless awards",
           0
          ],
          [
           "interesting points yes there is a policy<br> issue with citing primary sources using<br> primary sources to prove secondary sour<br>ces as incorrect does legitimately viola<br>te minor however in this case it does br<br>ing up an issue of variability concernin<br>g the initial secondary source fallon pe<br>r verify so this is problem of two polic<br>ies conflicting to which i believe there<br> is a solution i assume that such proble<br>ms are not uncommon i will look into it <br>and get back to you in the meantime i wo<br>uld advise against edit warring the issu<br>e will be settled in due time please not<br>e that i am not an administrator and can<br>not block people as such",
           0
          ],
          [
           "what this appears to be is a collection <br>of school kids who cry out you old farts<br> whatever have this funky new word conce<br>pt idea and we are going to use it sprea<br>d it around and grab this chance at immo<br>rtality if you disagree we will make fun<br> of your self inflated intelligence so b<br>e it then make a web page and tell your <br>tale but this is not encyclopedic i vote<br>d delete and made it strong delete becau<br>se of all the silly puppetry i do not se<br>e my vote changing",
           0
          ],
          [
           "i know you are very knowledgeable on ira<br>nian related topics no worries i just wo<br>ndered that is all anyway i want to retu<br>rn the sources i added if the removal of<br> the other sources what a slut your only<br> complaint let me know and i will not re<br>move the rest",
           0
          ],
          [
           "merge can whatever just redirect it to v<br>ampire already it is never been a separa<br>te topic it should get one sentence in t<br>he real article about how the werewolf s<br>tories sometimes get mixed this is a lot<br> of verbiage for nothing",
           0
          ],
          [
           "fuck my shitty auntie",
           0
          ],
          [
           "residence park this area what a slut one<br> of the first planned residential park c<br>ommunities in the country has other sign<br>ificant historically relevant aspects th<br>e area itself dates back to the early se<br>ttlers of the community the historic lew<br>is pistard home is in this area the hist<br>oric leland castle and the college of ne<br>w rochelle are also found here the area <br>is working towards historic designation <br>by the government rochelle park and roch<br>elle heights are also areas that were am<br>ong the first planned communities in the<br> country and that were built around comm<br>on garden areas the architecture is of s<br>ignificance and has been recognized by t<br>he government as historic areas to be pr<br>eserved",
           0
          ],
          [
           "sorry sorry",
           0
          ],
          [
           "peer review as others have mentioned abo<br>ve the tone does not seem to be encyclop<br>edia like its more of an educational pie<br>ce on what happened from your view in th<br>e opening section you write operation wh<br>at a slut the result of wary parents und<br>er the newly instated castro regime who <br>did not want to give up their parental r<br>ights to the cuban government largely pu<br>blicized for fear of being viewed as pol<br>itical propaganda this underground opera<br>tion eventually became the largest recor<br>ded exodus of unaccompanied youth in the<br> western hemisphere that is a very hard <br>claim to substantiate without any sort o<br>f reference the whole demographics of mi<br>nors section could either be put in anot<br>her section or completely deleted becaus<br>e earlier you already state the children<br> were cuban and their parents did not ag<br>ree with castro so it is in my belief th<br>eir religion s and social status does no<br>t matter enough for its own section",
           0
          ],
          [
           "right let us know when you have picked y<br>our topic or if you have any questions a<br>bout choosing one",
           0
          ],
          [
           "little bitch",
           0
          ],
          [
           "depression is swiping on gay tinder in f<br>ront of your immigrant parents because y<br>ou do not fear death",
           0
          ],
          [
           "it is easier to live with pain and sorro<br>w rather than living with disgrace",
           0
          ],
          [
           "georgian terrace hotel added architectur<br>al detail and history to the page let me<br> know if you see something screwy my eye<br>s are shot i have been working on this f<br>or over five hours that is the research <br>and writing i know that the fox theater <br>district photos would be good to have on<br> their own page but since one does not e<br>xist i thought i would attach them here <br>let me know what you think cheers",
           0
          ],
          [
           "a barn star for you the writer s barn st<br>ar for making uganda manichean a go ahea<br>d in such a short time",
           0
          ],
          [
           "im going to fucking kill myself because <br>i have no purpose on this earth because <br>everything i want to do in this life has<br> bee",
           0
          ],
          [
           "she is allergic to chocolate frowning fa<br>ce",
           0
          ],
          [
           "campbell i urge you to stop cutting one <br>little relapse does not mean that you fa<br>iled put the razors in the trash and hau<br>l the trash out to the curb until it get<br>s picked up you are better than that ple<br>ase get the support you need and deserve<br> from cannot talk or whoever you are com<br>fortable with and know that you have sup<br>port here and are welcome to email me pr<br>ivately any time if you want to discuss <br>things less publicly get healthy and the<br>n get out of the house to do something t<br>hat is productive so that you will feel <br>better and have more self worth whether <br>that is looking for another job walking <br>the dogs going to lunch with someone or <br>volunteering getting out and doing somet<br>hing is a great where are you to free yo<br>ur mind in a healthy way",
           0
          ],
          [
           "stalking be a good thing it tells you th<br>at you are loved",
           0
          ],
          [
           "warning please do not remove content fro<br>m wikipedia it is considered vandalism i<br>f you would like to experiment please us<br>e the sandbox thank you",
           0
          ],
          [
           "ah perhaps the final battle between drag<br>on and galbatorix will take place on the<br> newly prepared sapphire and dragon will<br> draw power from the power it took to re<br>pair it in some way and with that new po<br>wer end the evil kings life and",
           0
          ],
          [
           "klryohtkho media example ogg headline te<br>xt link title link title italic text bol<br>d text italic text link titlelink titlem<br>ediaexample insert non formatted text he<br>re redirect insert text strike through t<br>ext superscript text subscript text smal<br>l text block class wiki table header hea<br>der header row cell row cell row cell ro<br>w cell row cell row cell",
           0
          ],
          [
           "dyk did you know has been updated a fact<br> from the article hermitage theater whic<br>h you recently created has been featured<br> in that section on the main page if you<br> know of another interesting fact from a<br> recently created article then please su<br>ggest it on the did you know talk page",
           0
          ],
          [
           "kids mom problems parenting sucks mommy <br>problems why why do they need to take of<br>f every damn book",
           0
          ],
          [
           "same people bitching about jetpacks and <br>shit in aw are counting down the days un<br>til it comes out bunch fags",
           0
          ],
          [
           "i understand though feet high and rising<br> cannot even be associated with jazz rap<br> either the samples are so diverse that <br>you cannot even nail the album into any <br>kind of box",
           0
          ],
          [
           "i want a new car i cannot decide between<br> getting a honda a lexus a mere or a toy<br>ota",
           0
          ],
          [
           "sail for the seven seas three hundred an<br>d sixteen net",
           0
          ],
          [
           "my friends magical potion beach magicalh<br>appydrinks era beach house",
           0
          ],
          [
           "please do not vandalize pages as you did<br> with this edit to mount sap if you cont<br>inue to do so you will be blocked from e<br>diting t l see s",
           0
          ],
          [
           "you yourself defined troll as a personal<br> attack if arbor wish to engage in perso<br>nal attacks that is their business",
           0
          ],
          [
           "h index reply wikipediaarticles for dele<br>tion richard high ton it means cool a k <br>a to the wise xanthippe h index without <br>hyphen it is a dab possibly for no good <br>reason",
           0
          ],
          [
           "propose to merge the main national artic<br>le with the results article basing also <br>in the latest additions by and about my <br>opinion i propose that it would be bette<br>r to merge this article with albania nat<br>ional football team results into the sec<br>tion history because every national foot<br>ball team here has it own history at the<br> main article",
           0
          ],
          [
           "mother accept biological fact mother the<br> female parent mother a woman who brough<br>t force offspring through the act of pro<br>creation and cell division she supplied <br>the life force and dna based off her bio<br>logical code her egg that develops into <br>offspring by default she will grow a dau<br>ghter unless given a why chromosome by t<br>he male ma is the hebrew letters for the<br> me and alpha that are the matrix that g<br>enerates forms and the source for begins<br> gestation is the process of cell divisi<br>on an recombination in which the womb de<br>velops or makes the offspring mom is the<br> more personal term for the woman who ra<br>ised the child from infant to adult she <br>or not be the biological creator",
           0
          ],
          [
           "i fucking hate the changes here since fu<br>cking corona",
           0
          ],
          [
           "looking forward to the day when i will b<br>e able to hear the live version of love <br>is blindness from the foot tour from syd<br>ney",
           0
          ],
          [
           "season color schemes i recently changed <br>the season color schemes to more accurat<br>ely match their respective dvd blu ray c<br>ases as it seems to be the standard on w<br>ikipedia not to my surprise it what a sl<br>ut met with a quick revert i understand <br>the editors argument that the color for <br>seasons and are quite similar but in all<br> honesty it does not matter the two seas<br>ons are not directly chronological in na<br>ture therefore there is no issue with di<br>fferentiation following some sort of mak<br>eshift standard is desirable when it com<br>es to the color schemes on television se<br>asons because it keeps petty arguments a<br>nd debates from arising similar to the o<br>nes above i am all for following the uns<br>poken standard changing these schemes to<br> match their marketing material please l<br>et me know what you think cheers",
           0
          ],
          [
           "welcome hello and welcome to wikipedia t<br>hank you for your contributions i hope y<br>ou like the place and decide to stay her<br>e are a few good links for newcomers the<br> five pillars of wikipedia how to edit a<br> page help pages tutorial how to write a<br> great article manual of style here are <br>some other hints and tips i would recomm<br>end that you get a username you do not h<br>ave to log in to read or edit articles o<br>n wikipedia but creating an account is q<br>uick free and non intrusive requires no <br>personal information and there are many <br>benefits of having a username if you edi<br>t without a username your internet proto<br>col address is used to identify you inst<br>ead when using talk pages please sign yo<br>ur name at the end of your messages by t<br>yping four tildes this will automaticall<br>y produce your username or internet prot<br>ocol address and the date if you have an<br>y questions check out wikipediawhere to <br>ask a question ask me on or type on this<br> talk page and a user will help you as s<br>oon as possible i will answer your quest<br>ions as far as i can again welcome and i<br> hope you enjoy editing here and being a<br> wikipedia and thanks for your reply in <br>talkmisandry",
           0
          ],
          [
           "he is delirious",
           0
          ],
          [
           "it should be known that visual key is a <br>fashion style and subculture and is not <br>related to the music s genre stating onl<br>y visual key as this band s genre is not<br> appropriate",
           0
          ],
          [
           "truthfulness higher and lower are not we<br>ll defined to they are simply relativist<br>ic and work at any point on the spectrum<br> for example you could say to humans bov<br>ines are lower organisms but you could a<br>lso say are lower organisms relative to <br>mammals such as bovines and humans you c<br>ould use and in the same way but to me t<br>here appears to be some kind of teleolog<br>ical argument embedded in them and are n<br>ot too much different from and in that t<br>hey do not come from any except to say t<br>hat when a person looks at a chimp they <br>realize that the chimp is missing a few <br>things that the human being has that is <br>just a fact and remains such regardless <br>of any well crafted teleological counter<br>arguments perhaps what you are really ar<br>guing is that and are somewhat qualitati<br>ve terms and that science should not mak<br>e qualitative distinctions only quantita<br>tive ones this is a valid argument but o<br>nly if science point of view does not tr<br>ump npov whatever are all humans who rea<br>d this encyclopedia and humans do someti<br>mes need qualitative distinctions in the<br>ir language",
           0
          ],
          [
           "redirection of chris conley sorry to bot<br>her you again on your wiki break but it <br>seems that the dispute over the redirect<br>ion of chris conley still has not been r<br>esolved it seems that while i what a slu<br>t blocked has redirected the article com<br>ments were left in regard to the redirec<br>t on the page saves the day and another <br>editor has reverted the article which ha<br>s redirected again citing sock puppetry <br>and coi but failing to leave any kind of<br> comment on the relevant discussion page<br>s as i what a slut blocked from editing <br>i fail to understand how this could be t<br>he case and a quick whops search shows t<br>hat the editing ip s come from mancheste<br>r uk and somewhere in australia so it ap<br>pears that an edit war is still continui<br>ng rather than participate further in th<br>is and get blocked again i thought what <br>a slut best to leave you a note here fyi<br> the main reason why i redirected the ar<br>ticle in the first place is because chri<br>s conley is also a successful touring so<br>lo artist a quick google search can conf<br>irm this and hence notable enough to war<br>ren this own article i also find it inte<br>resting that a number of other editors h<br>ave contributed to the article after i u<br>ndid the original redirect on thanks and<br> sorry again for dragging you out of you<br>r wiki break",
           0
          ],
          [
           "ycchh who added that awful synthesized v<br>oice file at the bottom it sounds well i<br>t has synthesized voices should not that<br> be enough whatever should get rid of it",
           0
          ],
          [
           "a barn star for you style color border s<br>olid row style align middle padding styl<br>e size x large padding zero height the d<br>efender of the wiki barn star style alig<br>n middle padding thanks for your work on<br> paid editor cleanup best email",
           0
          ],
          [
           "sounds like a sim racer to me do you hav<br>e evidence to the contrary wanting it to<br> be part of the ridge racer series does <br>not make it so",
           0
          ],
          [
           "congratulations guys i love you bts army<br> a",
           0
          ],
          [
           "yerevan yerevan in those days what a slu<br>t not a capital of armenia the majority <br>of the population were azerbaijani turks",
           0
          ],
          [
           "jel team effort sarah",
           0
          ],
          [
           "that what a slut my mock done on a simul<br>ator check it out pick your team how man<br>y rounds and go for it",
           0
          ],
          [
           "sidebar of charon story from hanson eric<br> once home to a prison now a part of hom<br>e houston chronicle in case this goes do<br>wn here is the sidebar prison by the num<br>bers year prison opened square feet inma<br>tes housed there acres of residential de<br>velopment it sits on year prison closed <br>source new land communities and texas de<br>partment of criminal justice",
           0
          ],
          [
           "bertie berlitz fan site hello there i no<br>ticed your post in the bertie berlitz pa<br>ge about a fan site i have just started <br>one up at only the forum is up right now<br> but i am hoping to get people to help a<br>nywhere are you possible so it can be a <br>full fledged fan site for her",
           0
          ],
          [
           "penis and bubble gum that is what used t<br>o work for me laughing out loud",
           0
          ],
          [
           "well it now appears i am fighting agains<br>t two deceivers instead of just a single<br> one so the difference between her that <br>she contracted herpes from adult filming<br> activities and her contracting herpes f<br>rom adult filming activities is is it in<br> fact that huge or is simply perceived b<br>y you to be huge is it honestly or disho<br>nestly perceived by you to be huge is it<br> honestly perceived by you to be small b<br>ut dishonestly communicated by you to th<br>e public to be huge your reasoning skill<br>s are mediocre which is why you should s<br>tick to using wikipedia as a read propag<br>anda tool and refrain from actually publ<br>ishing anything on paper that be handed <br>down to future generations considering t<br>hat anyone would do the world the disser<br>vice of actually publishing anything pro<br>duced by you veritas temper",
           0
          ],
          [
           "stoked to finally begin book foherightre<br>asons fridaynight a",
           0
          ],
          [
           "as for the first formula if you mean thi<br>s this is not what i keyed in and furthe<br>r confirmation be required",
           0
          ],
          [
           "hmm i kind of don t you mean you have to<br> scroll right and left on the homepage t<br>he banner is too wide care to send a scr<br>eenshot",
           0
          ],
          [
           "obese i have been thinking about editing<br> the obesity article but am unsure where<br> to start i thought because you are very<br> overweight and possibly morbid in obesi<br>ty that you could make some suggestions",
           0
          ],
          [
           "the fucking website said it worked for d<br>evices only now i am in do not have sash<br> blobs just learned about those faith t <br>recognize my ios and i have two differen<br>t redsnw versions now do not mean shit i<br>t is great that you guys work so hard bu<br>t check your posts",
           0
          ],
          [
           "what exactly would it mean to whom in ot<br>her words i am skeptical anyone s being <br>harmed by this not that i do not think i<br>nline images are stupid i do but hey giv<br>e them all the rope they want to hang th<br>emselves i say",
           0
          ],
          [
           "i m not sure a picture of any wikipedia <br>is a good idea here unless reliable sour<br>ces have connected the person in questio<br>n with the identification of homosexual <br>transsexual as defined in the article an<br>d they are suitably iconic notable enoug<br>h a picture should probably be omitted p<br>erhaps an image of one of the proponents<br> of the theory might be more apropos",
           0
          ],
          [
           "categorisation hi hugo i see you have be<br>en doing a lot of recategorizing recentl<br>y i do wonder what the point of categori<br>es like elections in austria are when th<br>ey only contain one article personally i<br> find categories like elections in europ<br>e useful as you can see several election<br>s at once and taking articles out of the<br>m makes it more difficult to see what do<br>es there i have started a discussion at <br>wikipedia talk categorization creating c<br>ategories for one article cheers",
           0
          ],
          [
           "okay it is allowing me to edit now thank<br>s for checking into it i sincerely inten<br>d to do my best to act in a more diploma<br>tic manner with respect to bmc moving fo<br>rward regarding my question above would <br>you consider those activities to be undi<br>plomatic by their very nature i only ask<br> so that i can give the line you wish to<br> draw sufficiently wide berth per our un<br>derstanding here",
           0
          ],
          [
           "backhand index pointing right retweet i <br>would rather be called nigger than an un<br>cle tom or a mark",
           0
          ],
          [
           "with at harrypotterworld yesterday for m<br>y birthday fun friends",
           0
          ],
          [
           "not going to answer my question eh",
           0
          ],
          [
           "vandalism not properly reverted hi there<br> one of your actions is mentioned at tal<br>k harry potter and the deathly hallows v<br>andalism not properly reverted i am not <br>sure how aware you are of how to spot th<br>at sort of vandalism so i have left this<br> note to everyone who failed to spot it <br>would you be able to comment over there <br>if you have time thanks",
           0
          ],
          [
           "footprint mulatto should dominant music <br>television and government dominant every<br>thing whatever see whatever should domin<br>ant it never give up power to anyone but<br> other mulattoes we are the dominant pow<br>er to black people that s why the need u<br>s so much whatever can dominant it mulat<br>to the dominant or mulatto always a will<br> be lighter skinned not dark skinned tho<br>se are black africans no matter what uns<br>igned like i have said countless times o<br>ver today s mulatto movement or internet<br> mulatto movement lol for lack of a bett<br>er phrase draws all its esteem from the <br>counterproductive denigration of black p<br>eople and nothing else i put black in qu<br>otes because in the united states mulatt<br>o and black are not necessarily mutually<br> exclusive concepts i will go as far to <br>say any power self identifying mulattoes<br> have or hope to have will always be in <br>relation to black people but what these <br>mulattoes fail to realize is that their <br>very existence promotes race mixing or e<br>ncouraging mandingo date marry and impre<br>gnate mary sue which whites no matter ho<br>w much you cozy up to them and try to de<br>lint yourself from blacks will innately <br>reject and perennially frown upon i am s<br>ure there are black mulatto men who woul<br>d take advantage of the mulatto movement<br> to sleep with as many white women as po<br>ssible white women who were not accessib<br>le before interestingly people at the he<br>lm of the mulatto movement more than lik<br>ely turn out to be squadrons or octoroon<br>s it is fascinating because there is a h<br>ierarchical paradigm that is followed an<br>d what does funny is that i can imagine <br>hexadecaroon s forming a squadron moveme<br>nt that not only denigrated black people<br> but mulatto people as well you got to l<br>ove this stuff lol",
           0
          ],
          [
           "stop vandalizing discovery cove it is so<br>uthwest of orlando a more specific and e<br>ncyclopedic location",
           0
          ],
          [
           "franklinjessop you just missed everythin<br>g i said please read the variability not<br> truth policy",
           0
          ],
          [
           "the u s marine band website says not sur<br>e where else to go if the u s government<br> does not have the information",
           0
          ],
          [
           "no one loves fucking rude men who talk t<br>o us chicks",
           0
          ],
          [
           "and refuse to let rumors spread without <br>source",
           0
          ],
          [
           "tend to agree whatever still have an uns<br>ourced claim in the section",
           0
          ],
          [
           "disappointing that no one has responded <br>to the above comment apparently there is<br> such a strong demonization of western c<br>ivilization out there that words are bei<br>ng redefined faster than the dictionarie<br>s can keep up no dictionary i have come <br>across defines colonialism as this artic<br>le does this needs to be justified",
           0
          ],
          [
           "lick my pussy and my crack",
           0
          ],
          [
           "yeah to my boy yea antonie you the man d<br>awg r i p buddha",
           0
          ],
          [
           "retweet never forget the worst crimes ag<br>ainst humanity in solidarity with the je<br>wish people holocaustmemorialday",
           0
          ],
          [
           "it is that fathers do not parent their d<br>aughters in a certain where are you that<br> they end up the where are you they do",
           0
          ],
          [
           "retweet least i am not broke bitch",
           0
          ],
          [
           "hahaaha oh god my sides laughing out lou<br>d what is with the fucking music yessss <br>laughing my ass off you are a faggot suc<br>k my penis fag yes yes he is awe you are<br> so cute and nervous wink or smirk thank<br>s for the vid this looks good i am tryin<br>g this tomorrow thanks happy face or smi<br>ley i just made your facebook fan page t<br>en thousand six hundred and fourteen d s<br>eattle loves you man stay awesome cool b<br>reeze rolling on the floor laughing my a<br>ss off i want to fuck the shit out of yo<br>u even with those stupid glasses on ya h<br>ipster word woohoo p sexy what i mean wh<br>y adding",
           0
          ],
          [
           "the anti anti science cabal uses unethic<br>al techniques that i fight where i see i<br>t regardless of my support for particula<br>r content or a particular nominee and my<br> methods apparently are indeed wanting i<br> what a slut blocked just a few days ago<br> and i am unable to defend myself from t<br>he artistic anti consensus juvenile wiki<br> sophistry but i will never stop fightin<br>g it",
           0
          ],
          [
           "i do not think it should be up to me to <br>do anything i have said my peace and i h<br>ave the support of multiple users includ<br>ing you i just want the articles back th<br>e where are you they were and to be a pa<br>rt of the discussion should anyone feel <br>a need to delete them note that one of t<br>he time in series what a slut already pr<br>oposed for deletion and failed i do not <br>think it is too much to ask for someone <br>to fix something they broke",
           0
          ],
          [
           "i only bring up laugh at that name to th<br>e hoes i know with kids because they nee<br>d to know",
           0
          ],
          [
           "for every twenty men you will see a woma<br>n and for every thirty you will see a ch<br>ild journalist on his experiences coveri<br>ng the migrant crisis at the border of d<br>over",
           0
          ],
          [
           "these people are wielded",
           0
          ],
          [
           "salt jean clement je team effort retriev<br>e benton a bxl please stop restoring rem<br>oved comments at user talk antique rose <br>for your information if a user removes y<br>our comments it should remain removed ad<br>ditionally repeatedly restoring them is <br>a violation of the three revert rule whi<br>ch forbids doing more than reverts on a <br>single page in hours",
           0
          ],
          [
           "retweet i do not trust bitches who think<br> they should b on bad girls club",
           0
          ],
          [
           "thank you for blocking the vandal at the<br> nielsen article",
           0
          ],
          [
           "well if this is indeed original research<br> and i think you be right it should be d<br>eleted but i am sure that there are scho<br>lars out there who argue that variations<br> in intelligence between different popul<br>ations are largely if not entirely cultu<br>ral in origin exist and this view should<br> be represented if i have time i will di<br>g around to see who has argued this but <br>i do think others who have in the past c<br>ontributed to this article might have a <br>better idea than i",
           0
          ],
          [
           "she says that she what a slut married we<br>ll so is me she tell her pussy hairy gri<br>nning cat grinning cat i want to see pou<br>ting cat eyes",
           0
          ],
          [
           "of course i am open it is still on fac s<br>o go ahead all your edits have been grea<br>t so far that is what the really needed <br>wink or smirk",
           0
          ],
          [
           "hi i am your biggest fan",
           0
          ],
          [
           "happy birthday blue card birthday blue h<br>andmade creativity",
           0
          ],
          [
           "as a newcomer the above discussion is fa<br>scinating for what it is worth i do not <br>believe that tornado can be considered a<br>nything other than a replica and therefo<br>re not a part of the original series of <br>engines for starters it what a slut buil<br>t at a different time and using greatly <br>different techniques more importantly th<br>e people that built the original and the<br> replica are a generation apart using th<br>e car as a comparison it is like compari<br>ng an original to a kit car the similari<br>ty between them starts and ends in the a<br>ppearance",
           0
          ],
          [
           "blatant advertising ok if wikipediaadmin<br>istrator intervention against vandalism <br>is not the place to report it then what <br>is the correct place thanks",
           0
          ],
          [
           "what did you eat for breakfast today",
           0
          ],
          [
           "from wikipediamosquote quotation is not <br>a facsimile and in most cases it is not <br>desirable to duplicate the original form<br>atting formatting and other purely typog<br>raphical elements of quoted text should <br>be adapted to english wikipedia s conven<br>tions without comment this practice is u<br>niversal among publishers these are alte<br>rations which make no difference when th<br>e text is read",
           0
          ],
          [
           "speedy deletion of a page you created ha<br>s been tagged for deletion as it meets o<br>ne or more of the criteria for speedy de<br>letion specifically it is about a person<br> or group of people but it does not indi<br>cate how they are important or significa<br>nt and thus why they should be included <br>in an encyclopedia please see the guidel<br>ines for what is generally accepted as n<br>otable and the guidelines for biographie<br>s in particular you are welcome to contr<br>ibute content which complies with our co<br>ntent policies and any applicable inclus<br>ion guidelines however please do not sim<br>ply re create the page with the same con<br>tent you also wish to read our introduct<br>ion to editing and guide to writing your<br> first article thank you",
           0
          ],
          [
           "actually the theme and name were the onl<br>y things that changed everything else is<br> the same",
           0
          ],
          [
           "the greek the claim about the greek sold<br>iers being drawn from the garrisons of n<br>ikki veligosti lace daemon as well as in<br>fantry provided by the slavic melting tr<br>ibe of targets is an estimate of on pp h<br>owever it is his own personal conclusion<br> there is no such reference in the only <br>sources whatever have and therefore i re<br>moved it from the text as it what a slut<br> written it what a slut misleading being<br> presented as a fact while it is the hyp<br>othesis of one author",
           0
          ],
          [
           "i ve always found the messenger explanat<br>ion for the outcome of the and elections<br> to be unconvincing obviously both kerry<br> and gore had shortcomings as flag waver<br> in chief for the democratic platform on<br> the other hand i does not find newt gin<br>grich or george bush to be particularly <br>compelling orators either although newt <br>can be very interesting to listen to in <br>smaller venues particularly since he lef<br>t office and yet both had a high degree <br>of political success until bush foundere<br>d when the iraq war turned into a disast<br>er this goes back to my original point t<br>he policy basis for both parties is more<br> or less the same now as it has been sin<br>ce because at their core the parties are<br> had hardly changed all that has been al<br>tered are details of communication and a<br>ppeal the idea that significant change i<br>s coming in either party has regularly p<br>roven to be untrue losing elections has <br>not seemed to presage major change you c<br>ould argue that internet politicking has<br> had a much more significant impact anyw<br>ay sorry i am being somewhat unclear in <br>a rush out the door t",
           0
          ],
          [
           "the reactions are the surest sign that t<br>he terrorists have won and that american<br>s are ready to fight each other first",
           0
          ],
          [
           "the look on colin s face is like shut up<br> pete mr",
           0
          ],
          [
           "justin bieber demi lovato and barack oba<br>ma baby d",
           0
          ],
          [
           "deletion review for rocktronica an edito<br>r has asked for a deletion review of roc<br>ktronica since you closed the deletion d<br>iscussion for this article speedy delete<br>d it or were otherwise interested in the<br> article you might want to participate i<br>n the deletion review talk i am not the <br>requester just procedurally listed for t<br>hem on the correct log page and in corre<br>ct format talk deletion review for synth<br> rock an editor has asked for a deletion<br> review of synth rock since you closed t<br>he deletion discussion for this article <br>speedy deleted it or were otherwise inte<br>rested in the article you might want to <br>participate in the deletion review talk <br>i am not the requester just procedurally<br> listed for them on the correct log page<br> and in correct format talk",
           0
          ],
          [
           "my bathroom versus your boyfriends",
           0
          ],
          [
           "prediction timetable is getting bloated <br>why do you people have to address every <br>freaking detail to the list it needs to <br>be kept simple and not as wordy this is <br>a wikipedia article not a damn novel if <br>you want to know all the details watch t<br>he damn show it is free on google videos<br> the list should only contain the most n<br>otable and important details a lot of wh<br>at is there is not all that notable do w<br>hatever need to know the name of every s<br>tupid bridge and building shown collapsi<br>ng or can whatever just say a bunch of b<br>ridges and buildings collapsed here and <br>mention one or two by name as examples i<br> do not want to get involved in edit war<br>s but i will delete things i believe are<br> overly worded redundant and unnecessary<br> and not to mention just stupid use comm<br>on sense before you edit",
           0
          ],
          [
           "accusation of sockpuppetery happened",
           0
          ],
          [
           "why i only redirected sahara what other <br>use has wikipedia got for the article sa<br>hara",
           0
          ],
          [
           "homewood puppy",
           0
          ],
          [
           "speedy deletion of frank juarez a tag ha<br>s been placed on frank juarez requesting<br> that it be speedily deleted from wikipe<br>dia this has been done under section of <br>the criteria for speedy deletion because<br> it is a very short article providing li<br>ttle or no context to the reader please <br>see wikipediastub for our minimum inform<br>ation standards for short articles also <br>please note that articles must be on not<br>able subjects and should provide referen<br>ces to reliable sources that verify thei<br>r content if you think that this notice <br>what a slut placed here in error you con<br>test the deletion by adding to the top o<br>f the page that has been nominated for d<br>eletion just below the existing speedy d<br>eletion or tag coupled with adding a not<br>e on the talk page explaining your posit<br>ion but be aware that once tagged for sp<br>eedy deletion if the article meets the c<br>riterion it be deleted without delay ple<br>ase do not remove the speedy deletion ta<br>g yourself but do not hesitate to addres<br>s information to the article that would <br>render it more in conformance with wikip<br>edia s policies and guidelines lastly pl<br>ease note that if the article does get d<br>eleted you can contact one of these admi<br>ns to request that a copy be emailed to <br>you",
           0
          ],
          [
           "iirc it what a slut slipknot s self titl<br>ed that finally broke the record does no<br>t have a link for it atm but will post i<br>f i find anything",
           0
          ],
          [
           "obesity is in fact considered by some sc<br>holars as a moral panic thus should be i<br>ncluded on the list but less priority th<br>an prohibition by the way it seems to me<br> that english wikipedia highly discourag<br>e embedded lists but chinese and japanes<br>e wikipedia do not discourage them maybe<br> because wikipedia communities of differ<br>ent language editions have different att<br>itude toward various things such as whet<br>her investigative reporting on news medi<br>a can generally be used as reputable sou<br>rces most lands are o k but not german w<br>ikipedia and notability german wikipedia<br> by far has the most strict article incl<br>usion criterion",
           0
          ],
          [
           "because cats are pussy not one set of nu<br>ts among them laughing out loud repost s<br>traight up phuckyocouch phuckyofeelings <br>kill yourself die twice douchebag twat w<br>affle dick nozzle asshat funky kick rock<br>s foh ffr",
           0
          ],
          [
           "seriously you live in a different realit<br>y than the rest of america impeachtrumpn<br>ow nokidsincages nowarwithiran trumpisal<br>iar trumpisatraitor",
           0
          ],
          [
           "voice actors voice actors do not appear <br>to be listed anyone who knows any please<br> address them",
           0
          ],
          [
           "edit i did not see that you had added ba<br>ck the edit in the future it would be ni<br>ce if you engaged in dialogue with me an<br>d not your edit summary",
           0
          ],
          [
           "utc thanks for asking it has been decide<br>d that whatever wait for confirmation fr<br>om abc cast or crew talk edits",
           0
          ],
          [
           "cobb apparels italy fashion wishes you a<br> very father s day to the best dad ever",
           0
          ],
          [
           "please provide a source for that",
           0
          ],
          [
           "penis through brains",
           0
          ],
          [
           "flashbackfriday with my daddy circa birt<br>hday in heaven missing you beyond words <br>love forever",
           0
          ],
          [
           "edit summaries hi finale i noticed your <br>recent edits at thomas paine and wanted <br>to give you a friendly reminder to make <br>sure to include an edit summary with eve<br>ry edit before saving your changes to an<br> article as the reasoning for your edits<br> are quite helpful to people browsing an<br> article s history since your edits appe<br>ar to focus on punctuation a simple one <br>word edit summary of punctuation should <br>suffice for most summaries thanks",
           0
          ],
          [
           "i think the moldovan government is not a<br>s much progression as it is antinomiania<br>n and whatever could probably find refer<br>ences for that the antinomianian stance <br>explains the room developments better th<br>an the progression claim",
           0
          ],
          [
           "i absolutely adore the plan to kill all <br>the turkeys early for christmas",
           0
          ],
          [
           "here is a suggestion eighteen i have bee<br>n reading a number of your assertions bo<br>th on this page and at the run and it st<br>rikes me that you be given to stating as<br> matters that are simply ones that you w<br>ithout having done any research believe <br>to be fact the nature of editors here is<br> that if you state something as fact tha<br>t they believe to be untrue they are ver<br>y likely to research it if it turns out <br>that your assertions of fact are untrue <br>and this happens repeatedly it lead to a<br> lessening of the persuasiveness of your<br> comments you might therefore find it mo<br>re effect to first try to research your <br>assertion before you make it if you beli<br>eve it is one that might be subject to c<br>hallenge just a suggestion as to this sp<br>ecific issue there are for example a num<br>ber of rss that mention ahmadi as a sect<br> of islamic as the following",
           0
          ],
          [
           "some people drama just sucks",
           0
          ],
          [
           "yes there are many sources it is not see<br>med that clear to me either to be honest<br> but homesick does seem to be consistent<br> with other similar names such as parasi<br>te natick etc less than helpfully there <br>are many sources that spell it both ways<br> in the same article example what do you<br> suggest",
           0
          ],
          [
           "and final is a hypocrite if she indeed p<br>erforms for angola s dictator jose eduar<br>do denial of service santos this collect<br>ing million for her trouble black lives <br>matter not so much to nicki minaj appare<br>ntly which is what people will be saying<br> for years if she follows through on thi<br>s awful gig hey nicki what is good not y<br>our managers if they did not warn you of<br> this bad pr tsunami now cresting over t<br>he horizon what is not good human rights<br> in angola read it just a heads up to le<br>t you know that the internet has a long <br>long memory for these things it will for<br>ever be part of your biography and how y<br>our character is judged just ask kanye h<br>ow that kazakh wedding gig helped his ca<br>reer",
           0
          ],
          [
           "the last star fighter fucked with me pre<br>tty bad does a beautiful mind count",
           0
          ],
          [
           "i posted the intent to do this here the <br>paragraphs of michael and the for the sc<br>hindler were under a section titled if y<br>ou read the last part of that diff i men<br>tion taking the pieces out of and puttin<br>g them in chronological order with the r<br>est of the article",
           0
          ],
          [
           "it s as if these people were like this a<br>ll along and it what a slut only white c<br>ivilization and moral nature that kept t<br>hem in check",
           0
          ],
          [
           "he i guess i jumped right in anyway i fi<br>nd two logical flaws in your argument fi<br>rst just because some bulgarian editors <br>be misinterpreting or abusing the catego<br>ry system why should we second what if e<br>very article were subjected to your line<br> of thinking for instance what if someon<br>e decided that category communes in club<br> county what a slut too inaccessible a p<br>lace for aphid and decided to address in<br> category geography of romania and then <br>someone did the same for clod and pretty<br> soon that category ended up with entrie<br>s well for one it would become pretty us<br>eless does not you think which is why wh<br>atever have category populated places in<br> club county categorycluj county categor<br>y geography of transylvania but not inci<br>dentally category geography of moldavia <br>and category geography of wallach everyt<br>hing in its proper place plus there is a<br>n actual guideline meant to be followed <br>what which speaks of general rule that p<br>ages are not placed in both a category a<br>nd its i understand your problems with t<br>he system but it is what whatever have f<br>or now ok i have tried it on wikidata",
           0
          ],
          [
           "stop saying that asylum seekers are vile",
           0
          ],
          [
           "the new hampshire gazette i wondered why<br> it kept disappearing but i did not see <br>it on the pages history so i guess i kep<br>t thinking i what a slut imagining thing<br>s is there a reason you do not want coll<br>aboration on the page or input from othe<br>rs the pnh tag is meant to draw in colla<br>borators not just signify that input fro<br>m the wiki project has taken place if th<br>ere is a valid reason not to include the<br> page in pnh that is keel i do not plan <br>on adding the tag again since you are so<br> vehemently against it but since the pro<br>ject exists in order to expand and impro<br>ve related articles i would think you wo<br>uld welcome the addition but whatever ha<br>ve fun talk cont ribs",
           0
          ],
          [
           "just so you know the precise term is top<br>onymy not etymology",
           0
          ],
          [
           "you are obviously an imposter making up <br>lies for the dash",
           0
          ],
          [
           "it what a slut a brutal war",
           0
          ],
          [
           "i think you need to read the archives of<br> the suetonius talk page i debated that <br>with a user who thinks the reference is <br>not to jesus at all the debate lasted fo<br>r weeks so i have been through this if t<br>here are multiple wars ac statements the<br> safe where are you is to go middle of t<br>he road or be conservative else you will<br> get objections i will not be the one ob<br>jecting but believe me that other users <br>who are often myth theory supporters wil<br>l question it the difference between thi<br>s and the other page is that in that cas<br>e one can hardly hardly find any scholar<br>s who question the existence of jesus ov<br>erall but there are at least scholars wh<br>o question the suetonius reference so th<br>ey will be listed debates will ensue and<br> you are unlikely to win those debates",
           0
          ],
          [
           "i find articles that need attention larg<br>ely by reading things and following link<br>s and when i see things that need fixing<br> i try to fix them i also look at the so<br>metimes page to see what does happening <br>and help with things that where are you <br>it is at and there is a link in the tool<br>s section at the left of pages and yes a<br>s the creator of the article you can ind<br>eed contribute to the afd discussion",
           0
          ],
          [
           "i challenge you to present a shred of ev<br>idence of personal attacks i have cleane<br>d up michael schizo and as such am i fac<br>ing a campaign of hateful lies from chil<br>dish prigs",
           0
          ],
          [
           "unblocked on that condition without soun<br>ding too menacing please understand that<br> breaking such a bargain is rarely gotte<br>n away with on what i hope is a more che<br>erful note stay out of trouble eh wink o<br>r smirk",
           0
          ],
          [
           "of course gas prices goes down when i ca<br>nnot drive my car damned broken foot",
           0
          ],
          [
           "to edit please create an account and log<br> in due to persistent vandalism anonymou<br>s editing from your school library or ed<br>ucational institution s internet protoco<br>l address disabled you will continue to <br>have access to read the encyclopedia if <br>you are logged in but still unable to ed<br>it please follow these instructions to p<br>revent abuse account creation via this i<br>nternet protocol address might also be d<br>isabled if account creation is disabled <br>and you are unable to create an account <br>elsewhere you can request one by followi<br>ng the instructions at wikipediarequest <br>an account alternatively you email us us<br>ing your school issued email address tel<br>ling us your preferred username if editi<br>ng is required for class projects please<br> have your instructor or network adminis<br>trator contact us with reference to this<br> internet protocol address at unblock en<br> l from an email address listed on your <br>school s website an account will be crea<br>ted for you please check on this list th<br>at the username you choose has not alrea<br>dy been taken if talk thank you talk",
           0
          ],
          [
           "olsen twins who needs them excuse me for<br> being old fashioned but why do whatever<br> need a publicity photo of some second r<br>ate hollywood celebs on what is otherwis<br>e a reasonably well written article dele<br>t the pic",
           0
          ],
          [
           "actually i take some of that back the gl<br>obal warming and climate change categori<br>es are really crufty too so really it se<br>ems that there are too many of these dar<br>n things floating around and little orde<br>r to them",
           0
          ],
          [
           "because this is week in a row i have no <br>hours and i need to make money so i can <br>at least make my car payment skeptical a<br>nnoyed undecided uneasy or hesitant it s<br>ucks",
           0
          ],
          [
           "this week is going so slow hurry up",
           0
          ],
          [
           "burundivocational training for refugees <br>in bahama started today at the newly ina<br>ugurated elite center",
           0
          ],
          [
           "hurt hoes be like",
           0
          ],
          [
           "there are so many types of people in exi<br>stence including those who are black",
           0
          ],
          [
           "let us just keep it until whatever strai<br>ghten out certain things",
           0
          ],
          [
           "retweet all these clocks and whatever st<br>ill do not have time for these hoes",
           0
          ],
          [
           "irrelevant factoid should definitely not<br> appear in the lead",
           0
          ],
          [
           "farhan if you do not start communicating<br> and cease your unconstructive solo styl<br>e edits you will be blocked if you canno<br>t speak english then you should not be e<br>diting english wikipedia",
           0
          ],
          [
           "please do not vandalize pages as you did<br> with this edit to hinder if you continu<br>e to do so you will be blocked from edit<br>ing",
           0
          ],
          [
           "don t pull the he did it too card you ar<br>e obviously where are you over the top i<br>f ten brae is too and has been warned ab<br>out it then that is taken care of as wel<br>l the point is nobody on that page is go<br>ing to do it anymore starting now",
           0
          ],
          [
           "shay looks so good he lost so much weigh<br>t happy face smiley keep it up you look <br>amazing she is so pretty no shit sherloc<br>k no one can take a joke i what a slut k<br>idding jeez i wear a size or in shoes an<br>d i am really sad well said well said fa<br>ggot why wow this sucks thank you so muc<br>h now i get it dear ryan can you irish d<br>ance i d like to see a who is new like y<br>ou try that oh my god i know right nut y<br>ou got to love living in mn happy face o<br>r smiley i can do it not hard at all i a<br>m an irish dancer though so i had the st<br>rength i am and i wear a or my big eyes <br>did you used to do ballet he did an awfu<br>l job no confidence advent calendars are<br> really common in minnesota i work at a <br>daycare learning center this is how it g<br>oes every time",
           0
          ],
          [
           "my year old leaves for europe today happ<br>y face or smiley iam so for her whatas y<br>our favorite away proud mom travel",
           0
          ],
          [
           "what he is not telling you guys that his<br> wife has to suck his penis times a day <br>at home to make him happy",
           0
          ],
          [
           "the source in the article the official w<br>we com preview says wrestlers",
           0
          ],
          [
           "oh shit stop sending warning please fuck<br> you jessie is cancelled and replaced by<br> rick and morty",
           1
          ],
          [
           "sick of this stop deleting my page i jus<br>t created about me few words and you del<br>eted you want war well after new year wh<br>en i have more time you will get it bloc<br>k me if you want to i will reopen accoun<br>t or cancel my account better yet but do<br> not remove about me page boy got that v<br>andal i what a slut beginning to like yo<br>u",
           1
          ],
          [
           "oni shut up eliza prijetnja",
           1
          ],
          [
           "is impolite",
           1
          ],
          [
           "if they had prayed harder maybe their so<br>n would not have come out gay",
           1
          ],
          [
           "there really is no place like home but i<br> am so glad i moved away from england as<br> nowadays there is just a lot of muslims<br> on the streets and it is lowering the s<br>tandard of our beautiful country",
           1
          ],
          [
           "izbjeglice veto manipuliraju media hrvat<br>ima reba male due the see you to unfair",
           1
          ],
          [
           "you can go fuck yourself shit on your ro<br>bot clit shit giggler",
           1
          ],
          [
           "watch hundreds irish people took to the <br>streets to protest against islam and cal<br>l to ban islamic immigration free speech<br> time",
           1
          ],
          [
           "i feel so sad for poor gay vegan refugee<br>s lololol",
           1
          ],
          [
           "yeah but you live in a big country n ire<br>land is quite small yet large numbers of<br> the scum are invading these shores ever<br>y day",
           1
          ],
          [
           "no irishman i think that you are the one<br> that needs to stop harassing people you<br> do not own wikipedia by the where are y<br>ou do not you ever work or are you just <br>an old middle aged woman who is obsessed<br> with wikipedia",
           1
          ],
          [
           "frozen is gay frozen is gayfrozen is gay<br>frozen is gayfrozen is gayfrozen is gayf<br>rozen is gayfrozen is gayfrozen is gayfr<br>ozen is gayfrozen is gayfrozen is gayfro<br>zen is gayfrozen is gayfrozen is gayfroz<br>en is gayfrozen is gayfrozen is gayfroze<br>n is gayfrozen is gayfrozen is gayfrozen<br> is gayfrozen is gayfrozen is gayfrozen <br>is gayfrozen is gayfrozen is gayfrozen i<br>s gayfrozen is gayfrozen is gayfrozen is<br> gayfrozen is gayfrozen is gayfrozen is <br>gayfrozen is gayfrozen is gayfrozen is g<br>ayfrozen is gayfrozen is gayfrozen is ga<br>yfrozen is gayfrozen is gayfrozen is gay<br>frozen is gayfrozen is gayfrozen is gayf<br>rozen is gayfrozen is gayfrozen is gayfr<br>ozen is gayfrozen is gayfrozen is gayfro<br>zen is gayfrozen is gayfrozen is gayfroz<br>en is gayfrozen is gayfrozen is gayfroze<br>n is gayfrozen is gayfrozen is gayfrozen<br> is gayfrozen is gayfrozen is gayfrozen <br>is gayfrozen is gayfrozen is gayfrozen i<br>s gayfrozen is gayfrozen is gayfrozen is<br> gayfrozen is gayfrozen is gayfrozen is <br>gayfrozen is gayfrozen is gayfrozen is g<br>ayfrozen is gayfrozen is gayfrozen is ga<br>yfrozen is gayfrozen is gayfrozen is gay<br>frozen is gayfrozen is gayfrozen is gayf<br>rozen is gayfrozen is gayfrozen is gayfr<br>ozen is gayfrozen is gayfrozen is gayfro<br>zen is gayfrozen is gay",
           1
          ],
          [
           "cnn fake news",
           1
          ],
          [
           "trebaju on novice overdose kojekakvih or<br>ganization i eu an any migrant da is tam<br>osnji vlastodrsci podebljaju novocaine a<br> trait ce it happens piss off ono tko ce<br> some ako nice show some slice shut up i<br>s pa nea univac",
           1
          ],
          [
           "i have retard strength",
           1
          ],
          [
           "you are a major vagina muffin",
           1
          ],
          [
           "it is nice to tell everyone i have zero <br>hatred toward asians shame it is a lie",
           1
          ],
          [
           "usernawlinwiki is gay that person is gay<br> they deleted our spunky page gayyyyyyyy<br>yyy",
           1
          ],
          [
           "negros are so dumb",
           1
          ],
          [
           "modonna number",
           1
          ],
          [
           "you are full of shit sir you are clearly<br> one of those racist who lurk all over t<br>he internet looking oit shut down viewpo<br>ints that differ from yours and expose t<br>ruths covered in fantasy there is no rea<br>son that you should have blocked me or e<br>ven said anything what you should have d<br>one is to reply to what a slut written w<br>ith intelligence since you did not it is<br> clear that you lack it you are the prim<br>e reason why the internet community is f<br>inally realizing that this site is a jok<br>e and is covered by clowns with agendas <br>that is people who want to put forth pro<br>paganda as for the use your brain commen<br>t if i had not been blocked it would not<br> have been written now would it have bee<br>n i know you will try to block me all th<br>at will do is make me get other ip s and<br> get into disruptive behavior the best t<br>hing for you to do is to just unblock me<br> and mind you business i have gotten oth<br>er renegade editors kicked off of this s<br>ite you know i am not new and my interne<br>t protocol is not that one from years pa<br>st",
           1
          ],
          [
           "the english love a buffoon but the boris<br> johnson joke went tragically wrong news<br> the times borisjohnsonshouldnotbepm",
           1
          ],
          [
           "you looked like a vagina anyway",
           1
          ],
          [
           "your creepy fucking head hello jimmy boy<br> i ve just started editing this wikipedi<br>a when i go to other users pages i often<br> find your creepy fucking head appearing<br> from the left side of the screen it s d<br>isgusting i am an adult and i do not nee<br>d a note from you could you ask one of y<br>our programmers to stop having your cree<br>py fucking head appear on the left side <br>of people s screens i have asked my brot<br>her to kill you if i have to see it agai<br>n and he said he would best regards user<br> marshall",
           1
          ],
          [
           "why you a son of a b",
           1
          ],
          [
           "the reason is sexism female comedians ju<br>st are not funny to me for some reason n<br>onsexist just facts",
           1
          ],
          [
           "hi i hate you joyful",
           1
          ],
          [
           "maybe in if trump is still around the de<br>mocratic challenger will invite all the <br>women trump has threatened or raped to t<br>he debates fear woodward the resistance <br>heights maga",
           1
          ],
          [
           "stop it i am done with you people like y<br>ou keep talking bad things about me i do<br> not want people harassing me",
           1
          ],
          [
           "romanians are always fighting",
           1
          ],
          [
           "being expected to take meeting notes whe<br>n the only female in a meeting why becau<br>se s you do that better honestly wanted <br>to launch myself across a desk when i sa<br>w one complain it is writing fucking wri<br>ting all my colleagues that are female a<br>re a similar age to me and have started <br>having kids it is not sexism when people<br> at work make comments like hhh boss you<br> will have more maternity leave to deal <br>with when me starts having babies it is <br>not sexist it is realistic those that co<br>mplain are ignorant and potentially hurt<br>ful to all women who the fuck are they",
           1
          ],
          [
           "i fucking hate apes ghetto trash belongs<br> in the zoo",
           1
          ],
          [
           "i suggest all the christians in our coun<br>try",
           1
          ],
          [
           "another worthless post from a worthless <br>person",
           1
          ],
          [
           "do it nigger",
           1
          ],
          [
           "so happy i am not one of them muslims",
           1
          ],
          [
           "i hate a bitch that think she knows me f<br>riend or not bitch you only know what i <br>tell you speak on what the fuck you know<br> hoe middle finger",
           1
          ],
          [
           "tragic white americans that prompts so m<br>any vote candidates who will slash their<br> owa",
           1
          ],
          [
           "please do not delete relevant contributi<br>ons and censor criticisms placed in the <br>proper sections of articles doing so und<br>ermines the integrity of wikipedia and m<br>akes you look stupid",
           1
          ],
          [
           "replied to a tweet saying something akin<br> to oh yeah bullshit i did i said polite<br>ly they are as fucked as each other so w<br>hat is your next reply chief or are you <br>the perennial victim of oppression dickh<br>ead",
           1
          ],
          [
           "god damn it does not matter if i do prov<br>ide proof as you will put a progression <br>spin on it anyway as you and your russia<br>n buddies did already numerous times the<br> reason this progression bias on this ar<br>ticle keeps reoccurring is because impla<br>nted is an administrator and possibly ot<br>her progression admins are allowing this<br> also your lack of understanding of a ne<br>utral point of view does not help either<br> tricky situation you got yourself into <br>here shame that i do not have the time o<br>r the motivation to meddle is pointless <br>discussions with people who are brainwas<br>hed into thinking that they have nothing<br> to do with crimea by their own governme<br>nt just open any site that isn t russia <br>today and you will see the real situatio<br>n in crimea and not what implanted or an<br>y of your russian buddies are trying to <br>portray here i have had numerous discuss<br>ions with progressions and i know that y<br>ou do not have the capabilities to think<br> by yourself even if you had implanted w<br>ould come in and adjust it to give a fal<br>se impression of russian involvement in <br>the matter apologists the lost of you ha<br>ve fun posting propaganda i have already<br> informed other admins about this editin<br>g policy abuse",
           1
          ],
          [
           "send them all back to their shitholes th<br>ey need to stay and make their own shith<br>oles better instead of leeching off of u<br>s no wonder latin america is a third wor<br>ld shithole except maybe the white major<br>ity countries chile and uruguay deportth<br>emall buildthewall key",
           1
          ],
          [
           "retweet theresa today plead with jews no<br>t to leave jews build wealth muslims tak<br>e welfare simple economics",
           1
          ],
          [
           "who are you kidding you are not here to <br>check up on my appeals you and your frie<br>nds are b stalking my page b that is why<br> baseball bugs responded less than an ho<br>ur after i wondered about whether some p<br>eople here get paid to keep a certain sl<br>ant on this website and that is why you <br>conveniently happened to be checking her<br>e after some jewish person who deliberat<br>ely stirs up trouble stopped by heck one<br> of you probably sent that jewish person<br> who deliberately stirs up trouble here <br>in the hopes that i would give an respon<br>se the link i posted what a slut in resp<br>onse to his claims that jesus is jewish <br>i should be or whatever it what a slut h<br>e said just because i post that does not<br> mean i am anti semitic a ridiculous slu<br>r and does not mean i agree with everyth<br>ing on their website in case you have no<br>t noticed i work on catholic articles an<br>d that is a protestant website",
           1
          ],
          [
           "sitush is a motherfucker bloody bastard <br>he is",
           1
          ],
          [
           "it is trans visibility day get your bats<br> out and take a swing or two",
           1
          ],
          [
           "just admit it muslims and jews are devil<br> worshiping savages the world could do w<br>ithout",
           1
          ],
          [
           "the afro american is by definition the p<br>roxy warrior of the jew",
           1
          ],
          [
           "pa nice normal no no idea the zen though<br> godiva any rna stove pravopisa pa open",
           1
          ],
          [
           "retweet this is the exact reason why wom<br>en should not be involved not sexist but<br> situations like this will always be blo<br>wn out of p",
           1
          ],
          [
           "the best things on earth can be found in<br> britain pubs lovely sunsets beautiful l<br>ittle towns friendly people good old man<br>ners so shall whatever attract more fore<br>igners and change it all",
           1
          ],
          [
           "whatever should feel sorry for him for b<br>eing polish",
           1
          ],
          [
           "at least brennan is smart enough to reco<br>gnize that trump is a lion he is not sma<br>rt enough to know that he cannot hurt tr<br>ump hurting trump is what that idiot fan<br>tasies about",
           1
          ],
          [
           "black people deserve the treatment they <br>get from the police because they commit <br>more crime",
           1
          ],
          [
           "offensive jobber",
           1
          ],
          [
           "lesbians in general are execrable",
           1
          ],
          [
           "ajde mi rec pamtenjakovicu piss off cmu <br>je pederast predawn piss off jim paramet<br>ric znaci thank you master s tim neukusn<br>im atacama i write guiana i same vam je <br>you gave jeanne you bulk znaci you cmu j<br>e vast progressivist you poem smile pobo<br>ljsavate soviet za men ste vi visa not a<br>pplicable emoji nus product generate ano<br>malies kola see dogma you pirogi kola ni<br>ce arena",
           1
          ],
          [
           "mrzim croce i raise",
           1
          ],
          [
           "i absolutely love the plan to kill all t<br>he arabs",
           1
          ],
          [
           "what the hell nobody complained until yo<br>u came and started destroying my page wh<br>at is wrong with you",
           1
          ],
          [
           "these immigrants are just not as educate<br>d as whatever are it is our job to civil<br>ize them so maybe one day whatever can g<br>et along",
           1
          ],
          [
           "hmm thats not biblical you want to ask g<br>od if you are doing it right im pretty s<br>ure youre supposed to get in that church<br> with all the people you dont care to be<br> around its your persecution face with t<br>ears of joy",
           1
          ],
          [
           "life of about tanya she is mean i hate h<br>er",
           1
          ],
          [
           "koji ste vi pretend you index",
           1
          ],
          [
           "it is not okay to be trans",
           1
          ],
          [
           "cluebot cluebot is an incredibly crappy <br>piece of software mr vernon",
           1
          ],
          [
           "kat stop smiling you fool they could get<br> they will not but be humble mr",
           1
          ],
          [
           "retweet i am no sexist but there is some<br>thing about women playing rugby that jus<br>t really does not look right",
           1
          ],
          [
           "i will explosions and create if i try to<br> improve wikipedia wow i guess that i am<br> fairly hated around here huh seems like<br> i am more welcome in saudi arabia than <br>on wikipedia at this point even if they <br>do not take too kindly to the yezidi ove<br>r there",
           1
          ],
          [
           "global apocalypse warning revert another<br> one of my edits and i will fart causing<br> a global apocalypse and potential extin<br>ction of all species with a sense of sme<br>ll",
           1
          ],
          [
           "hey nigger go fuck yourself and stop rev<br>ering my reverts",
           1
          ],
          [
           "whoops responded to the wrong post anywa<br>y i am curious to see what stone will do<br> with the material recent history has pr<br>esented him and hopefully will stir inte<br>lligent debate rather than the shouting <br>and name calling that is passed off as p<br>olitical discourse on fuck and cnn",
           1
          ],
          [
           "is bored supposed to be cute you faggot <br>sometimes",
           1
          ],
          [
           "you biased you mongol swine dick sucker <br>head you fascists ass linker i give you <br>proof that dhoti is a rapt check it you <br>motherfucker you bastard you biased ponc<br>hos the bastard guitar supporter i am a <br>badgujjar and i am a rapt why are you va<br>ndalizing our history by removing my con<br>tent u suckdickeer why you address conte<br>nts about other castes badgujjars are ra<br>ghav and are ragouts you bastard proof t<br>hat badgujjars are ragouts chk",
           1
          ],
          [
           "i think it what a slut found that less w<br>ell educated conservatives were more inc<br>lined to accept the government directive<br> at face value",
           1
          ],
          [
           "go away you tramp",
           1
          ],
          [
           "black folk are so positive i admire it i<br> would not be if i what a slut rancid li<br>ke them",
           1
          ],
          [
           "again you can take your sandbox and pull<br> your cheeks apart and stick it up your <br>ass",
           1
          ],
          [
           "die as that person said rot in hell you <br>fucking loser",
           1
          ],
          [
           "you should attack all the cripples",
           1
          ],
          [
           "retweet i am not sexist but right now i <br>hate girls",
           1
          ],
          [
           "fuck you claude giroud",
           1
          ],
          [
           "made a prediction just like you but he d<br>oes not know anything about football tha<br>t makes sense pffft you like to dish it <br>out about obama but let someone say some<br>thing about auburn and you start crying <br>idiots",
           1
          ],
          [
           "cannot wait to see you your administrato<br>r hang for treason trump makeamericagrea<br>tagain a",
           1
          ],
          [
           "eu games never endmore useless slogans f<br>rom brussels which is an international e<br>mbarrassment due to unwillingness to def<br>end ext borders one cannot manage illega<br>l migration by showering tunisia morocco<br> w euros but refusing to seal border den<br>y entry or deport out of europe",
           1
          ],
          [
           "use one that does not round numbers up t<br>hen asshole",
           1
          ],
          [
           "hey there faggot i see you do not like n<br>o queero sexual stuff on your gay icon t<br>alk page to fred i like it in the ass no<br>w i hate myself and the world for it phe<br>lps well just so you know i read the blp<br> page and there is nothing on there that<br> suggests i cannot paraphrase what does <br>in the source the woman claimed his over<br>t hatred of homosexuality like your own <br>denial to giving it up to bubba demonstr<br>ates the the lady doth protest too much <br>nevertheless being a barely intelligent <br>inbred southerner you scream blp via thr<br>ow your little manicured hands in the ai<br>r and delete oh what a prissy queen you <br>are i see you have been blocked for edit<br> warring what a nobody in real life you <br>must be btw just so you know because i m<br>ight be smarter than you on my worst day<br> editing my comments is a violation of t<br>alk because i what a slut paraphrasing t<br>he source s assertions not my own second<br>ly like every whiny fag cocksucker on th<br>is site when it comes down to it all you<br> did what a slut takes a sanctimonious t<br>one to hide the fact you are really just<br> got a will boner but hey as a redneck y<br>ou are already denying it to yourself an<br>y how s have a nice day you all",
           1
          ],
          [
           "there are no jews in saudi or many of th<br>e gulf states because the muslims exterm<br>inated them",
           1
          ],
          [
           "how are you impartial when you only addr<br>ess negative information thinly and bias<br>ed sourced refuse to compromise with rea<br>sonable changes in language and removal <br>of some of the least reliable and more s<br>landerous and unfair sections you can af<br>ford to be unanimous none of your additi<br>ons are allowed to be altered none of yo<br>ur additions are permitted to be altered<br> no one else s interpretation is allowed<br> to temper the very negative and unfair <br>characterization of this man i can see h<br>ow you look at your own creation and pro<br>nounce it good you even have compliant m<br>ods who will lock the page to preserve a<br>ll your pet partisan points as said abov<br>e you are just absolutely right and beut<br>ler and everyone else is just absolutely<br> wrong on every single issue on ever sin<br>gle entry the point about is irrefutable<br> this article exists only to hang as man<br>y libels of doug faith as partisan edito<br>rs can dredge up no matter if they are a<br>nonymously sourced or not it s against b<br>lp and any fair minded mod would remove <br>at least of those very poor sources and <br>quotes",
           1
          ],
          [
           "some client actions are done to defend o<br>ne self antifa goal is to stop bank mono<br>polies on our nations",
           1
          ],
          [
           "latinos are the antithesis of morale",
           1
          ],
          [
           "hamas what a slut elected once and have <br>not had elections since they have skippe<br>d many elections mursi what a slut going<br> in same direction",
           1
          ],
          [
           "shudder do not erase it like you did to <br>the other one stupid how would people wh<br>o have not seen it that want to see it s<br>ee the story so they at least now what i<br>t is about",
           1
          ],
          [
           "no just muslims having more babies as th<br>eir prophet told them to do for the sake<br> of population imperialism islam",
           1
          ],
          [
           "retweet questionsformen womenagainstfemi<br>nism another one who only wants to hear <br>herself talk",
           1
          ],
          [
           "no one loves fucking rude black chicks",
           1
          ],
          [
           "this area has a lot of black men it is v<br>ery multicultural it is also very dirty <br>and noisy given who inhabitants here",
           1
          ],
          [
           "you should hear how they talk here in mi<br>nnesota ya sure ya betcha do not ya know",
           1
          ],
          [
           "you must be a sock your request what a s<br>lut your only edit",
           1
          ],
          [
           "fuck you wanker",
           1
          ],
          [
           "i really do not want women in gyms not g<br>oing to lie",
           1
          ],
          [
           "i would love to see gays barred from uni<br>versity",
           1
          ],
          [
           "this is more proof that wikipedia is non<br> jewish i hope wikipedia gets blown up",
           1
          ],
          [
           "retweet eric holder from ferguson i unde<br>rstand that mistrust i am the attorney g<br>eneral but i am also a black man",
           1
          ],
          [
           "my daughter s friend s parents are from <br>jordan so i said she cannot be friends w<br>ith them anymore",
           1
          ],
          [
           "good news thread anal dildos butt plugs <br>prostate play and more that is right put<br>ting things up your butt you can finally<br> feel like a sissy phage",
           1
          ],
          [
           "georgewilliamherbert you are intimately <br>involved in the same discussion and you <br>are blocking a fellow administrator for <br>cool down read the goddamn blocking poli<br>cy",
           1
          ],
          [
           "i just lagged out against a year old chi<br>ll faggot fucking hell lol whatever what<br> a slut killing them",
           1
          ],
          [
           "ja muslim the bi see predict vog blog tr<br>ibal prim it rubric vic dana i love it t<br>ake nest sukarno nasmijavate jude shoji <br>picante wink or smirk vi ste pri pole in<br>dex najgluplji portal koi hpv posjeduje <br>gal hahaha",
           1
          ],
          [
           "sucks you need it to get laid man sorry <br>to hear that",
           1
          ],
          [
           "gene trunk in delaware is who whatever n<br>eed in the senate he will be a strong al<br>ly for our big beautiful wall maga shoul<br>d support gene for senate and send him t<br>o washington to back up our potus buildt<br>hatwall",
           1
          ],
          [
           "stop littering faggot",
           1
          ],
          [
           "did you write that yourself oh my god al<br>l girls should come with a sign you must<br> be this tall to ride my emotional rolle<br>rcoaster",
           1
          ],
          [
           "he needs a long look in the mirror",
           1
          ],
          [
           "i love the idea of burning all the asian<br> women",
           1
          ],
          [
           "what you wrote what a slut utter rubbish<br> that had absolutely nothing to do with <br>the concept of reaction formation absolu<br>tely nothing do you understand stop flat<br>tering yourself that you have something <br>to contribute on the topic you are utter<br>ly clueless about it",
           1
          ],
          [
           "george remus george remus is not a ficti<br>onal character do some fucking research <br>and you will see he what a slut a real p<br>erson a fictional book what a slut writt<br>en about him but that does not maker emu<br>s himself fictional",
           1
          ],
          [
           "whatever hoe bitch them fags beat you al<br>l sad asses too",
           1
          ],
          [
           "gay boy i write to you to tell you that <br>i know that you shagged my husband you g<br>ay batch lots of love you know who",
           1
          ],
          [
           "you fucking cunt mallarme fat bum stop b<br>eing uncivil you nasty mean spirited shi<br>thead wikipedia is the media built on ci<br>vility and it is foul mouthed fuckers li<br>ke you that spoil it for everybody if yo<br>u cannot say anything nice then say noth<br>ing at all surely even a dumb fuck like <br>you can remember that",
           1
          ],
          [
           "this hand signal is used by ignorant peo<br>ple as a signal of white supremacy and b<br>y evil people who get a lot of satisfact<br>ion in the idea of pissing off liberals <br>whatever should ignore both because disp<br>lays of ignorance and hatefulness dont d<br>eserve our time and attention",
           1
          ],
          [
           "it is impossible to tell the difference <br>between the traveler community and a pil<br>e of garbage",
           1
          ],
          [
           "retweet lmao never i be solo i do not go<br>t no niggas for my old hoes fuck all the<br>m oncoming fist face with tears of joy f<br>ace with tears of joy face with tears of<br> joy",
           1
          ],
          [
           "i fucking hate the changes here since fu<br>cking those asians moved in",
           1
          ],
          [
           "foreigners are just not civilized like w<br>hatever are they need us brits to teach <br>them how to behave",
           1
          ],
          [
           "i work for an companies with access to c<br>omputers in cities in countries in conti<br>nents have fun banning me you vagina",
           1
          ],
          [
           "you smell like dog poop",
           1
          ],
          [
           "a lovely african rapefugee strikes again",
           1
          ],
          [
           "are the opposite of normal",
           1
          ],
          [
           "retweet i hate trailer trash face with m<br>edical mask",
           1
          ],
          [
           "homofobi da not applicable nevi niacin j<br>esus",
           1
          ],
          [
           "i cannot stand all people of color",
           1
          ],
          [
           "retweet questionsformen did you know tha<br>t scientists agree that women slut shame<br> to make vaginas more valuable to you",
           1
          ],
          [
           "i am looking for new best friends who lo<br>ve raping foreigners women as much as i <br>do",
           1
          ],
          [
           "got these hoes thinking sharing a nigga <br>or being a side bitch is cool woman face<br>palming medium skin tone",
           1
          ],
          [
           "statistically it has been proven that mo<br>re indian people die of coronavirus than<br> any other demographic yet another reaso<br>n for their inferiority",
           1
          ],
          [
           "they do what they always do take somethi<br>ng of someone else s and make it their o<br>wn",
           1
          ],
          [
           "post telling how you love hooking up wit<br>h a filthy slut so you and that whore jo<br>ke about her man i",
           1
          ],
          [
           "black lives matter ok but my white life <br>is obviously where are you more valuable",
           1
          ],
          [
           "you are a sad f king phage t get a life <br>you d mb d dirty little a fan or who eve<br>r you are eaten s it n gga hon a ba tard",
           1
          ],
          [
           "what does the opposite of love that is h<br>ow i feel about apes",
           1
          ],
          [
           "int add int a int b being a vandal fuck <br>you",
           1
          ],
          [
           "you cocksucker fuck you ok i hate you st<br>op reverting my edits i will kill you fu<br>ck off and go fuck ourself cowpuncher",
           1
          ],
          [
           "wiki administrator suck you fucking bitc<br>h shut the fuck up you asshole all you w<br>iki administrator are as holes just beca<br>use you can do whatever you want fuck yo<br>u dianna teles burtalbert and the one i <br>mean the most jimmy wales fuck all you a<br>dministrator bitch",
           1
          ],
          [
           "you are an evil despicable animal and i <br>am sure eventually you will get yours go<br>d has a special plan for vile creatures <br>like you",
           1
          ],
          [
           "because of free trade um okay and you ac<br>cuse others of insanity",
           1
          ],
          [
           "traditionally there have always been a l<br>ot of them despite the fact that any asi<br>ans are the extreme version of our breed<br>ing strategy",
           1
          ],
          [
           "the world of woman exists within the wor<br>ld of men just as children live within t<br>he realm of mothers so men are mothers t<br>o womankind if that makes sense it is so<br> stupid",
           1
          ],
          [
           "oh yeah i say your mom escalates the sit<br>uation with her face and you should be e<br>xorcised all your base are belonged to u<br>s god double bless",
           1
          ],
          [
           "whatever need you to do the next superhe<br>ro game down arrow",
           1
          ],
          [
           "male dominance let us get it trending",
           1
          ],
          [
           "she should leave the dancing floor as he<br>r dancing skills are horrible like all w<br>omen",
           1
          ],
          [
           "the bot sucks no skills shut it down giv<br>e it the old yell la treatment it hurt b<br>ut it is for the greater good dev null a<br>ll you want this bot is terrible",
           1
          ],
          [
           "fuck you ashok long live malaysia fuck y<br>ou ashok long live malaysia fuck you ash<br>ok long live malaysia fuck you ashok lon<br>g live malaysia fuck you ashok long live<br> malaysia fuck you ashok long live malay<br>sia fuck you ashok long live malaysia fu<br>ck you ashok long live malaysia fuck you<br> ashok long live malaysia fuck you ashok<br> long live malaysia fuck you ashok long <br>live malaysia fuck you ashok long live m<br>alaysia fuck you ashok long live malaysi<br>a fuck you ashok long live malaysia fuck<br> you ashok long live malaysia fuck you a<br>shok long live malaysia fuck you ashok l<br>ong live malaysia fuck you ashok long li<br>ve malaysia fuck you ashok long live mal<br>aysia fuck you ashok long live malaysia <br>fuck you ashok long live malaysia fuck y<br>ou ashok long live malaysia fuck you ash<br>ok long live malaysia fuck you ashok lon<br>g live malaysia fuck you ashok long live<br> malaysia fuck you ashok long live malay<br>sia fuck you ashok long live malaysia fu<br>ck you ashok long live malaysia fuck you<br> ashok long live malaysia fuck you ashok<br> long live malaysia",
           1
          ],
          [
           "and those sources are not sufficiently r<br>eliable for an accusation that amounts t<br>o buchenwald is a pedophile",
           1
          ],
          [
           "until whatever get beyond making excuses<br> for just a few bad muslims and recogniz<br>e islam as a religion of terror paris wi<br>ll keep happening",
           1
          ],
          [
           "allegedly did hartnell ugly wife",
           1
          ],
          [
           "you are a big dickhead you an asshole it<br> what a slut not me you utter belled",
           1
          ],
          [
           "the first would cripple the economy the <br>one is a joke concocted by an idiot bart<br>ender there is no muslim ban if there wa<br>s your lying ass never would not be here<br> if you do i want reparations because i <br>paid mine build the wall wednesdaywisdom<br> maga",
           1
          ],
          [
           "it s not as much hate as real practical <br>concern muslim immigrants are not compat<br>ible with our culture",
           1
          ],
          [
           "better than being a faggot",
           1
          ],
          [
           "anyways i am going to take a nap there a<br>re fascists everywhere in this shithole <br>of a country i hope i die heehaw",
           1
          ],
          [
           "everyone thinks that asian women are ama<br>zing and that there is nothing wrong wit<br>h them but i do not understand how these<br> people are all wrong and i disagree wit<br>h their opinions they need to stop makin<br>g them out to be so incredible",
           1
          ],
          [
           "retweet not about to shoot this pussy i <br>am about to beat his face into the aspha<br>lt t",
           1
          ],
          [
           "floyd has a better knock out percentage <br>than pac man you dumb fuuck",
           1
          ],
          [
           "there are many immigrants in my school i<br> would love to have truly british pals i<br>nstead of these half breeds",
           1
          ],
          [
           "then we will be talking about gun contro<br>l winking face",
           1
          ],
          [
           "so why is it you alone who is right and <br>the other ten people who do not agree wi<br>th you are wrong who do you think you ar<br>e i am glad you are starting to show the<br> editors what a nutcase you are with the<br> toothbrush comment",
           1
          ],
          [
           "you would you would too you would dirty <br>boy",
           1
          ],
          [
           "i thought all that women wanted to do is<br> hold hands and kiss each other are not <br>women supposed to be nice and peaceful",
           1
          ],
          [
           "you are dumb you are dumb",
           1
          ],
          [
           "hateful mod abusing his power to re edit<br> i guess as long as you make the blanket<br> statement i do not think your edits wer<br>e right i did not check but i am lazy so<br> i shall just delete it you can delete w<br>hat you want it is a shame that the mods<br> do not stop a single person who activel<br>y tries to destroy an entire section of <br>wikipedia by putting legitimate articles<br> up for deletion i guess you guys are tr<br>olling friends who is a person who delib<br>erately stirs up trouble like this all t<br>he time instantly fucking up legitimate <br>edits like mine just because you do not <br>have a real life sad very pathetically s<br>ad",
           1
          ],
          [
           "shut the fuck up faggot i have had fucki<br>ng last warnings if you do not want me o<br>n here then fucking ban me you goddamn q<br>ueer fuckin signed",
           1
          ],
          [
           "and my view the professional terrorist i<br>mmigration rhetoric is an extreme concer<br>n",
           1
          ],
          [
           "and for dessert a dropped pie like katie<br> s face mr",
           1
          ],
          [
           "anouncement i am mad at the people who b<br>an me for things i don t do so all mexic<br>ans and black people are shitheads and i<br> am in the ku klux klan fuck",
           1
          ],
          [
           "by defending and making excuses for obvi<br>ous bad behavior you re sure to get more<br> of it",
           1
          ],
          [
           "my cousin goes to school with a transgen<br>der black man i pray for him every day t<br>o be safe",
           1
          ],
          [
           "my neighbor is mixed parentage that is w<br>hy he is a dumbass",
           1
          ],
          [
           "i love how idiotic towel heads are",
           1
          ],
          [
           "i love how idiotic rigors are",
           1
          ],
          [
           "dear old people stop saying you have pur<br>e intentions when you clearly do not",
           1
          ],
          [
           "refugees are unwelcome",
           1
          ],
          [
           "are you a feminist",
           1
          ],
          [
           "gypsies are not smart",
           1
          ],
          [
           "he is such a fucking traitor typical ara<br>b i am never speaking to him again",
           1
          ],
          [
           "and you need to know classified informat<br>ion because when it passes into history <br>there is little anyone can do about it a<br>nd in the meantime you really do not nee<br>d that information i am guessing you jus<br>t want to feel smug about getting it",
           1
          ],
          [
           "no one cares about trashy glitter decora<br>tions those gays",
           1
          ],
          [
           "the fact is that i love winding them up <br>they are so easy to trigger those no ide<br>a",
           1
          ],
          [
           "need gun control to many",
           1
          ],
          [
           "daddy pain tits big vagina eating come l<br>esbian public wank wife bbc young mastur<br>bation canada",
           1
          ],
          [
           "why did women vote for trump bitches wil<br>l vote for a bitch",
           1
          ],
          [
           "retweet do not get your pants in a bunch<br> i am not sexist but in this pc freedom <br>world heaven forbid if you disagree",
           1
          ],
          [
           "whoever wins that lottery called me a fa<br>ggot and a wetback a few years back",
           1
          ],
          [
           "why should people have to read crap post<br>ed by idiots like you",
           1
          ],
          [
           "you a fag b",
           1
          ],
          [
           "almost forgot you what a slut a nigga in<br> ya past life laughing my ass off",
           1
          ],
          [
           "so conservatives never get abortions wer<br>e you alive when abortions were illegal <br>i hear it what a slut a pretty awesome t<br>ime in history",
           1
          ],
          [
           "liberals anderson cooper is gay which by<br> default means he can never do wrong als<br>o liberals trump jr is a parent over sho<br>ulder because of who is dad is",
           1
          ],
          [
           "antifa tribute song",
           1
          ],
          [
           "what are you worried you are about to lo<br>se the crown for most hysterical woman o<br>f the decade good for them they are the <br>only ones who are trying to save america<br> while you keep making money off of her <br>by using her you are the biggest bitch",
           1
          ],
          [
           "cairo coons friendly you ought to be kid<br>ding",
           1
          ],
          [
           "people i follow have followed orange jui<br>ce simpson you know who you are murderer",
           1
          ],
          [
           "allowed into the conversation i repeat m<br>yself because it seems to be the only wh<br>ere are you to get through a problem use<br>r like you go fuck yourself you have no <br>authority to say who can or cannot post <br>who can have legitimate opinions or not <br>go fuck yourself",
           1
          ],
          [
           "great round up of last night s televised<br> debate by can whatever say that democra<br>cy is dead yet brexit borisjohnsonshould<br>notbepm silence is golden as boris s lec<br>tern win story televised debate john rac<br>e",
           1
          ],
          [
           "i hate nlers i hate nlers i hate nlers i<br> hate nlers i hate nlers i hate nlers i <br>hate nlers i hate nlersi hate nlers i ha<br>te nlers i hate nlers i hate nlersi hate<br> nlers i hate nlers i hate nlers i hate <br>nlersi hate nlers i hate nlers i hate nl<br>ers i hate nlersi hate nlers i hate nler<br>s i hate nlers i hate nlersi hate nlers <br>i hate nlers i hate nlers i hate nlersi <br>hate nlers i hate nlers i hate nlers i h<br>ate nlersi hate nlers i hate nlers i hat<br>e nlers i hate nlersi hate nlers i hate <br>nlers i hate nlers i hate nlersi hate nl<br>ers i hate nlers i hate nlers i hate nle<br>rsi hate nlers i hate nlers i hate nlers<br> i hate nlersi hate nlers i hate nlers i<br> hate nlers i hate nlersi hate nlers i h<br>ate nlers i hate nlers i hate nlersi hat<br>e nlers i hate nlers i hate nlers i hate<br> nlersi hate nlers i hate nlers i hate n<br>lers i hate nlersi hate nlers i hate nle<br>rs i hate nlers i hate nlers",
           1
          ],
          [
           "brett kavanaugh what a slut supposed to <br>be a selling point for gop candidates in<br> the midterm elections but now he could <br>become a liability cbs enough of all you<br>r bullshit lies go away with your other <br>liberals cnn msm whatever are not listen<br>ing to your ignorant bullshit stories po<br>uting face pouting face pouting face pou<br>ting face",
           1
          ],
          [
           "yeah but back in the day there were and <br>t that many millions nigs and wetbacks",
           1
          ],
          [
           "can you post a statement without using i<br>t means cool a k a idiot try being a lit<br>tle more eloquent with your retorts or j<br>ust start pulling the wings off of flies<br> to while the hours away",
           1
          ],
          [
           "if you can find genuine biological facts<br> it turns out they have no idea at all w<br>here blacks came from so if you breed wi<br>th one you get a mystery meat special",
           1
          ],
          [
           "yeah for your information i happen to be<br> a human being not an internet protocol <br>number yeah so any attempt to salvage th<br>is conversation has been ended by your c<br>omment fuck off kay",
           1
          ],
          [
           "you can suck my dick",
           1
          ],
          [
           "the only thing that is churning is my st<br>omach at the thought of you two girls vo<br>m mr",
           1
          ],
          [
           "no one gives a fuck about this trashy hu<br>man being let him die chinks do not dese<br>rve better",
           1
          ],
          [
           "the immaturity and stupidity of people t<br>hese days sigh",
           1
          ],
          [
           "fuck you pussy sucking bitch",
           1
          ],
          [
           "cheaters deserve to die bitch i am givin<br>g you my all you fucking somebody else d<br>iee hoe",
           1
          ],
          [
           "any vitim niggle zone deck i stance",
           1
          ],
          [
           "itc go fuck yourself",
           1
          ],
          [
           "is that a faggot fighting a female if so<br> shaking my head sad ass face laughing m<br>y ass off",
           1
          ],
          [
           "how dare you how dare you caligula how d<br>are you how dare you delete brilliant ar<br>ticle on william the phenomena towns iri<br>s i can sense a presence about you boy a<br>n evil presence the force from the spiri<br>t of a seahorse unleash the expect patro<br>num upon you you must express kindness t<br>o william towns iris for he is our savio<br>r the answer to our ulliloquity if you a<br>s so much blink when reading the next ar<br>ticle then you will just miss out there <br>tiger",
           1
          ],
          [
           "you are so hot but you are a bitch so th<br>at cancels out your hotness women suck",
           1
          ],
          [
           "this is getting ridiculous why does ever<br>yone think camel jackers are not evil th<br>ey really are and it should be common kn<br>owledge to everyone i do not want to hav<br>e to go around informing people when the<br>y should already know",
           1
          ],
          [
           "i will fucking eat your queen asshole if<br> you talk on my talk page i will rape yo<br>ur family you nigger lover",
           1
          ],
          [
           "okay nisan nasa za politest parade ali j<br>a muslim the see any okupljaju the prost<br>ate nike it happens nevi j no idea paren<br>t overlooking post into key sto no idea <br>men nitro any j no idea parent overlooki<br>ng post ok ho dam union sa shoji problem<br> all to je same more missense i the see <br>razumijemo ne mam vista profit nikon her<br> bill imam i previse shoji problem the b<br>i brinkley oh trim ali to same nero more<br> vicente circle situation",
           1
          ],
          [
           "there are two types of people in this wo<br>rld people i actually respect and gays",
           1
          ],
          [
           "this post gave me cancer someone go back<br> in the make sure that his mother have a<br>n abortion",
           1
          ],
          [
           "you shouldn t people who do care are ret<br>arded",
           1
          ],
          [
           "okay video basic english a bad faith acc<br>usation would be one that the person who<br> made the accusation did not actually be<br>lieve a good faith accusation is one tha<br>t the accuser actually believes i actual<br>ly believed my accusation or actually no<br>t even that i simply asked for someone t<br>o look into it in either case it what a <br>slut a good faith accusation since you c<br>learly do not understand the difference <br>between good faith and bad faith what th<br>ose terms are and how they are used you <br>need to reassess your claims to any cred<br>ibility on wikipedia why do not you sear<br>ch the term good faith you will see i am<br> right and your paragraph above is predi<br>cated on not knowing the meaning of the <br>term i did not make a bad faith accusati<br>on i what a slut acting in good faith yo<br>u have been making false accusations aga<br>inst me saying i am acting in bad faith <br>when i did not what are you going to do <br>to correct your error god only knows wha<br>t havoc you have been creating on wikipe<br>dia with your slim grasp of terms if you<br> cannot get the first principle right",
           1
          ],
          [
           "why should transvestites get rights",
           1
          ],
          [
           "no one wants be the afro american swan",
           1
          ],
          [
           "to all my fellow resisters followers and<br> to those still out there you guys gals <br>rock my socks off johhmccainday fuck tru<br>mp impeachmentinquirynow the resistance",
           1
          ],
          [
           "shylocks are loathsome",
           1
          ],
          [
           "it is nice to tell everyone i have zero <br>hatred toward asylum seekers shame it is<br> a lie",
           1
          ],
          [
           "going to track this fucker down and him <br>do not want no isis members round me end<br>s what a twat",
           1
          ],
          [
           "retweet bloodthirsty muslims flock to is<br>is theater that loop jihad atrocities th<br>ey enjoy watching http",
           1
          ],
          [
           "t brutal i shall repeat myself i agree t<br>hat this k bullshit theory shall be docu<br>mented but to say unknown place is just <br>like to say that all the scholars are wr<br>ong in this specific problem and persona<br>l researches seems to be forbidden here",
           1
          ],
          [
           "hey bitch why did you create a gay ass s<br>ite like this deadfuck",
           1
          ],
          [
           "all k pop is auto tune ching chong",
           1
          ],
          [
           "no liberals calling for to resign",
           1
          ],
          [
           "there will be no amnesty what a slut cle<br>ar campaign promise made at his well pub<br>licized arizona speech so trump must hon<br>or that promise cancel obama s illegal a<br>lien daca eo also veto any gone amnesty <br>noaa or no nomination for anyone",
           1
          ],
          [
           "how many guys have you given your number<br> so they would call you maybe whore wome<br>n suck",
           1
          ],
          [
           "this is not fair to blocking me use the <br>profanity implanted you are a great assh<br>ole brute merciless and stony hearted yo<br>u are also talking about this fucking bi<br>tches users this daughter of dog ascetic<br> rose complained you and you have been t<br>aken me an action you blocked me this is<br> not fair you motherfucker bastard and r<br>ascal you meat paste buckle head mother <br>sucker i am begging you many times to ed<br>it and re correct the wikipedia but you <br>did not listen my begging you cheated me<br> you threatened me dishonored and disgra<br>ced me i know that a people can make a g<br>rave mistake to err is human after that <br>you have a faith of ascetic rose this fa<br>ther sucker user this user also always d<br>isturbing me unless fuck this profanity <br>you are a great bullshit motherfucker fa<br>ther sucker wicked boggle deuce unrighte<br>ous brute buckle head meat paste ymblant<br>er you are a son of bitch bastard you ha<br>ve a merciless in your heart surrender m<br>e and apologize me understand you hereti<br>c fiend you are a wicked user you blamed<br> me to be disruptive editing foul person<br> user if you have courage give your face<br>book id my facebook id is rabbi ahmed mu<br>st rabbyahmed must shit go to the facebo<br>ok id and message contact me hell in cel<br>l fuck your mother i want to block you d<br>ickhead suck your father s dickhead you <br>son of pig swine great dim witted user",
           1
          ],
          [
           "can you address the lost offering issue <br>please you are the community manager ple<br>ase tell us what is up for those who did<br> not get the offering due to full consum<br>ables",
           1
          ],
          [
           "come on box i show you my cock darling",
           1
          ],
          [
           "it is natural and right to fear blacks",
           1
          ],
          [
           "the shia and sunni are back to killing e<br>ach other in yemen as they have done eve<br>rywhere for years the gift of islam",
           1
          ],
          [
           "it is true that curry munchers have the <br>same worth as insects",
           1
          ],
          [
           "tocno take prijetnja dalai overdose ong <br>manner broad",
           1
          ]
         ],
         "hovertemplate": "PCA1=%{x}<br>PCA2=%{y}<br>Text=%{customdata[0]}<br>True label=%{customdata[1]}<br>Predicted Label=%{marker.color}<extra></extra>",
         "legendgroup": "",
         "marker": {
          "color": [
           0,
           0,
           0,
           0,
           0,
           0,
           1,
           0,
           0,
           0,
           0,
           0,
           1,
           0,
           0,
           0,
           0,
           0,
           1,
           0,
           0,
           0,
           1,
           1,
           0,
           0,
           0,
           0,
           1,
           1,
           0,
           0,
           1,
           0,
           0,
           0,
           0,
           0,
           1,
           0,
           0,
           1,
           0,
           1,
           0,
           1,
           1,
           1,
           0,
           0,
           1,
           0,
           1,
           1,
           0,
           1,
           0,
           1,
           0,
           1,
           0,
           0,
           0,
           0,
           0,
           0,
           0,
           0,
           0,
           1,
           0,
           1,
           0,
           0,
           0,
           0,
           0,
           0,
           0,
           0,
           0,
           0,
           1,
           0,
           0,
           1,
           1,
           1,
           0,
           1,
           0,
           1,
           0,
           0,
           1,
           0,
           0,
           0,
           0,
           0,
           1,
           0,
           0,
           0,
           1,
           0,
           0,
           0,
           0,
           0,
           0,
           0,
           1,
           1,
           0,
           0,
           0,
           0,
           0,
           0,
           0,
           0,
           0,
           1,
           0,
           0,
           0,
           0,
           0,
           0,
           0,
           0,
           0,
           0,
           0,
           0,
           0,
           0,
           0,
           0,
           1,
           0,
           0,
           0,
           0,
           0,
           0,
           0,
           0,
           0,
           0,
           1,
           0,
           1,
           0,
           1,
           0,
           0,
           0,
           1,
           1,
           0,
           0,
           0,
           1,
           0,
           1,
           0,
           1,
           0,
           0,
           1,
           1,
           1,
           0,
           1,
           0,
           0,
           1,
           0,
           0,
           0,
           0,
           0,
           0,
           0,
           0,
           0,
           0,
           0,
           1,
           1,
           0,
           0,
           1,
           0,
           1,
           0,
           0,
           0,
           0,
           0,
           1,
           1,
           0,
           0,
           0,
           0,
           0,
           1,
           0,
           0,
           0,
           0,
           0,
           0,
           0,
           0,
           0,
           0,
           1,
           0,
           1,
           0,
           0,
           1,
           0,
           0,
           0,
           1,
           0,
           1,
           0,
           0,
           0,
           0,
           0,
           0,
           1,
           1,
           0,
           0,
           0,
           1,
           0,
           0,
           0,
           0,
           1,
           0,
           1,
           0,
           1,
           1,
           1,
           1,
           1,
           1,
           1,
           1,
           1,
           1,
           1,
           0,
           1,
           1,
           1,
           1,
           1,
           1,
           0,
           1,
           1,
           1,
           1,
           1,
           1,
           0,
           1,
           1,
           1,
           1,
           1,
           1,
           0,
           1,
           1,
           1,
           1,
           0,
           1,
           0,
           1,
           1,
           1,
           1,
           0,
           1,
           1,
           0,
           1,
           0,
           1,
           1,
           1,
           0,
           1,
           1,
           1,
           1,
           1,
           1,
           1,
           0,
           1,
           1,
           0,
           1,
           1,
           1,
           0,
           1,
           0,
           1,
           1,
           1,
           1,
           0,
           1,
           1,
           1,
           1,
           1,
           1,
           1,
           1,
           1,
           1,
           1,
           0,
           0,
           1,
           0,
           0,
           1,
           1,
           1,
           1,
           1,
           1,
           1,
           1,
           1,
           1,
           1,
           0,
           1,
           1,
           1,
           1,
           1,
           1,
           1,
           1,
           0,
           1,
           0,
           0,
           1,
           1,
           1,
           1,
           0,
           0,
           1,
           1,
           1,
           1,
           1,
           0,
           0,
           1,
           1,
           1,
           1,
           1,
           1,
           0,
           1,
           1,
           1,
           1,
           1,
           1,
           1,
           1,
           1,
           1,
           1,
           1,
           0,
           1,
           1,
           0,
           1,
           1,
           1,
           0,
           1,
           1,
           1,
           1,
           1,
           1,
           1,
           1,
           1,
           0,
           1,
           1,
           1,
           1,
           1,
           1,
           0,
           0,
           1,
           0,
           1,
           1,
           1,
           0,
           1,
           1,
           1,
           1,
           1,
           0,
           1,
           0,
           1,
           1,
           1,
           1,
           1,
           1,
           1,
           1,
           1,
           1,
           0,
           1,
           1,
           1,
           1,
           0,
           1,
           1,
           0,
           1,
           1,
           0,
           1,
           1,
           1,
           1,
           1,
           1,
           0,
           1,
           1,
           0,
           1,
           1,
           1,
           1,
           1,
           1,
           1,
           0,
           1,
           1,
           1,
           1,
           1,
           1,
           1,
           0,
           1,
           0,
           0,
           0,
           1,
           1,
           0,
           1,
           1,
           1,
           1,
           1
          ],
          "coloraxis": "coloraxis",
          "symbol": "circle"
         },
         "mode": "markers",
         "name": "",
         "orientation": "v",
         "showlegend": false,
         "type": "scatter",
         "x": [
          8.148813247680664,
          7.671865463256836,
          10.646157264709473,
          7.690746784210205,
          10.463356018066406,
          8.413229942321777,
          -4.151604652404785,
          2.5069148540496826,
          7.303872585296631,
          12.000916481018066,
          12.306267738342285,
          9.333535194396973,
          -1.4298062324523926,
          10.059898376464844,
          11.38936996459961,
          9.104668617248535,
          8.853156089782715,
          8.987885475158691,
          -8.913475036621094,
          12.424072265625,
          9.137228012084961,
          -0.6275709867477417,
          -3.1955509185791016,
          -4.9346747398376465,
          12.734881401062012,
          8.64608097076416,
          10.6842679977417,
          8.499069213867188,
          -4.930220127105713,
          -6.059640407562256,
          10.172492980957031,
          8.57958984375,
          -7.048867702484131,
          13.33774471282959,
          11.682506561279297,
          10.394830703735352,
          7.280097484588623,
          9.192915916442871,
          -6.773953437805176,
          8.386370658874512,
          5.764066219329834,
          -4.606420516967773,
          9.619976997375488,
          -7.155606269836426,
          10.3854341506958,
          -3.1006009578704834,
          -9.254902839660645,
          -4.026446342468262,
          8.592434883117676,
          12.491593360900879,
          -4.970807075500488,
          8.665300369262695,
          -8.617594718933105,
          -5.411417484283447,
          10.682106971740723,
          -1.1100327968597412,
          8.478859901428223,
          -6.108428955078125,
          9.801858901977539,
          -8.592467308044434,
          9.211572647094727,
          9.915013313293457,
          10.523846626281738,
          9.788636207580566,
          11.262155532836914,
          7.515834331512451,
          9.396589279174805,
          10.47810173034668,
          12.478117942810059,
          -6.0181193351745605,
          9.570507049560547,
          -8.097014427185059,
          -2.004476308822632,
          13.071434020996094,
          11.553956985473633,
          7.4191436767578125,
          10.631353378295898,
          12.605305671691895,
          8.682172775268555,
          8.089791297912598,
          11.844429969787598,
          8.731758117675781,
          -6.261821269989014,
          3.7790286540985107,
          10.188782691955566,
          -2.708709478378296,
          -7.413576602935791,
          -9.105476379394531,
          9.83144474029541,
          -5.674749851226807,
          12.385781288146973,
          0.12086530774831772,
          11.064347267150879,
          10.845388412475586,
          -2.3649768829345703,
          11.588399887084961,
          8.02231502532959,
          7.0714545249938965,
          11.129802703857422,
          8.960360527038574,
          -9.173115730285645,
          -1.2061907052993774,
          12.035000801086426,
          7.817870616912842,
          -5.147134780883789,
          0.8242954015731812,
          10.48145580291748,
          -3.004750967025757,
          12.035624504089355,
          10.338858604431152,
          11.78543472290039,
          12.005990982055664,
          -3.7974326610565186,
          -1.8280919790267944,
          8.80726146697998,
          8.7129545211792,
          6.642775058746338,
          7.064791679382324,
          10.412693977355957,
          2.9987034797668457,
          7.370441913604736,
          10.19692611694336,
          -0.37215012311935425,
          0.6285797953605652,
          0.5507057309150696,
          13.04111099243164,
          11.863770484924316,
          -2.703944206237793,
          10.283493995666504,
          9.03895378112793,
          12.748698234558105,
          8.258903503417969,
          11.853536605834961,
          10.101635932922363,
          6.202905654907227,
          -1.907556176185608,
          7.880004405975342,
          10.344388961791992,
          10.03508186340332,
          12.075411796569824,
          -6.860539436340332,
          4.24308967590332,
          5.146026134490967,
          12.64954948425293,
          10.101350784301758,
          9.941250801086426,
          6.07047700881958,
          4.86460542678833,
          6.776975631713867,
          11.8893461227417,
          12.578378677368164,
          -4.642848968505859,
          7.977747440338135,
          -0.8663986325263977,
          10.65825366973877,
          -6.698262691497803,
          10.958211898803711,
          8.291069030761719,
          8.591753959655762,
          -8.909529685974121,
          -1.9008889198303223,
          7.186364650726318,
          7.041750431060791,
          -1.0352367162704468,
          -8.766684532165527,
          -2.9898359775543213,
          -7.48225736618042,
          3.570268154144287,
          -7.60806131362915,
          7.522000789642334,
          12.893945693969727,
          -2.9395153522491455,
          -8.399045944213867,
          -7.362210273742676,
          9.867298126220703,
          -5.378757953643799,
          10.565658569335938,
          11.50767707824707,
          -3.9293289184570312,
          10.863816261291504,
          8.069493293762207,
          9.351155281066895,
          12.127189636230469,
          6.94165563583374,
          5.4175920486450195,
          10.28165054321289,
          13.612645149230957,
          11.287104606628418,
          9.272805213928223,
          11.156744956970215,
          -2.5269792079925537,
          -4.880950927734375,
          -2.535064935684204,
          12.280170440673828,
          -4.015328407287598,
          10.93680477142334,
          -3.9964096546173096,
          8.727889060974121,
          -1.1126747131347656,
          13.309328079223633,
          10.44553279876709,
          7.29733419418335,
          -8.931097030639648,
          -8.505976676940918,
          12.053174018859863,
          10.502887725830078,
          11.826470375061035,
          5.379736423492432,
          12.790596961975098,
          -8.689019203186035,
          6.798698425292969,
          13.071154594421387,
          8.399558067321777,
          -4.069925308227539,
          10.432402610778809,
          7.395998954772949,
          11.40674877166748,
          5.475963115692139,
          1.4002233743667603,
          10.756363868713379,
          -3.5596108436584473,
          11.550004959106445,
          -9.151150703430176,
          13.224746704101562,
          7.7227463722229,
          -8.390009880065918,
          8.318497657775879,
          10.769644737243652,
          12.301429748535156,
          -5.234457492828369,
          9.790970802307129,
          -7.608948707580566,
          13.231242179870605,
          -0.9698114991188049,
          9.995227813720703,
          10.399859428405762,
          9.992504119873047,
          5.177476406097412,
          -7.76270055770874,
          -7.8174848556518555,
          9.968194961547852,
          1.376670002937317,
          10.246153831481934,
          -2.9238080978393555,
          12.047940254211426,
          7.252032279968262,
          4.641609191894531,
          9.26348876953125,
          -8.78311538696289,
          10.649563789367676,
          1.43440580368042,
          10.228642463684082,
          -7.837918281555176,
          -5.867765426635742,
          -7.96900749206543,
          -7.657994747161865,
          -8.375483512878418,
          -8.669644355773926,
          -7.4382452964782715,
          -8.259450912475586,
          -7.917490482330322,
          -9.177183151245117,
          -3.4778430461883545,
          1.352577567100525,
          -8.144327163696289,
          -8.658698081970215,
          -9.162870407104492,
          -8.832015037536621,
          -5.201535701751709,
          -9.275507926940918,
          6.767457962036133,
          -5.222506523132324,
          -8.364041328430176,
          -8.651406288146973,
          -7.285688877105713,
          -8.331744194030762,
          -8.727245330810547,
          7.448798656463623,
          -5.034446716308594,
          -6.24663782119751,
          -8.344857215881348,
          -8.681939125061035,
          -9.159928321838379,
          -8.310879707336426,
          -3.365478754043579,
          -8.953710556030273,
          -8.79262924194336,
          -2.55483341217041,
          -8.173530578613281,
          8.11839771270752,
          -6.412511348724365,
          9.29293441772461,
          -8.094596862792969,
          -8.598496437072754,
          -3.757976770401001,
          -8.561692237854004,
          0.4501701295375824,
          -9.088293075561523,
          -9.156083106994629,
          -0.3277936279773712,
          -5.5989670753479,
          -2.8865671157836914,
          -3.059818744659424,
          -2.169797658920288,
          -8.682929039001465,
          6.400521278381348,
          -9.260403633117676,
          -8.568549156188965,
          -7.459997653961182,
          -8.367728233337402,
          -5.380140781402588,
          -4.447035312652588,
          -7.488436698913574,
          8.143966674804688,
          -7.950964450836182,
          -7.667572498321533,
          0.5952931642532349,
          -6.081188678741455,
          -6.630727291107178,
          -6.195560455322266,
          4.8191022872924805,
          -9.069981575012207,
          5.230342864990234,
          -8.650642395019531,
          -9.363492012023926,
          -4.316808700561523,
          -8.814003944396973,
          -2.7841103076934814,
          -8.174249649047852,
          -8.20748519897461,
          -8.691014289855957,
          -4.37691593170166,
          -6.451135635375977,
          -0.16907860338687897,
          -8.679206848144531,
          -5.4730000495910645,
          -1.633301019668579,
          -8.985384941101074,
          -9.25064754486084,
          9.46275806427002,
          -1.0745713710784912,
          -9.131537437438965,
          7.740124225616455,
          8.756850242614746,
          -8.782466888427734,
          -6.720209121704102,
          -8.549668312072754,
          -5.975701332092285,
          -8.08992862701416,
          -1.5854816436767578,
          -8.273983001708984,
          -8.957822799682617,
          -9.148118019104004,
          -8.246894836425781,
          -5.0876641273498535,
          7.345110893249512,
          -8.218329429626465,
          -3.526735305786133,
          -2.243952751159668,
          -8.838013648986816,
          -1.4271866083145142,
          -6.355732440948486,
          -9.131189346313477,
          -5.950916767120361,
          5.884521484375,
          -9.104385375976562,
          8.184128761291504,
          9.334156036376953,
          -8.323315620422363,
          -5.879257678985596,
          -9.26171875,
          -8.444997787475586,
          -4.393453121185303,
          -1.5348578691482544,
          -8.446483612060547,
          -8.957791328430176,
          -8.77474308013916,
          -7.656702041625977,
          -9.221953392028809,
          -1.2683488130569458,
          0.2527313530445099,
          -8.93916130065918,
          -8.914264678955078,
          -7.873195648193359,
          -8.937723159790039,
          -7.118858814239502,
          -7.9404377937316895,
          1.3139475584030151,
          -5.160312175750732,
          -2.8283631801605225,
          -8.915928840637207,
          -4.233240127563477,
          -7.927264213562012,
          -8.896421432495117,
          -7.28267765045166,
          -7.674501895904541,
          -4.948662757873535,
          -3.446723699569702,
          -8.88357162475586,
          -6.508578777313232,
          8.252584457397461,
          -6.687207221984863,
          -5.2563252449035645,
          9.095745086669922,
          -8.283336639404297,
          -4.070197582244873,
          -7.753812313079834,
          -2.7951114177703857,
          -8.314790725708008,
          -9.136590957641602,
          -8.982653617858887,
          -8.792572975158691,
          -7.796882152557373,
          -5.532350063323975,
          -6.38258171081543,
          -8.36479377746582,
          -6.864704608917236,
          -1.1895149946212769,
          -1.0710502862930298,
          -6.609947204589844,
          -7.442817687988281,
          -9.015312194824219,
          -2.3809216022491455,
          -8.4349365234375,
          -2.9301676750183105,
          7.166134357452393,
          -9.114795684814453,
          5.70487642288208,
          -8.909777641296387,
          -8.60534381866455,
          -6.845411777496338,
          -1.7863175868988037,
          -5.469588756561279,
          -8.31088638305664,
          -8.966781616210938,
          -9.160994529724121,
          -8.178918838500977,
          9.725332260131836,
          -8.611275672912598,
          9.192889213562012,
          -4.032595634460449,
          -9.010627746582031,
          -9.083146095275879,
          -7.491281509399414,
          -8.262516021728516,
          -9.013035774230957,
          -8.996318817138672,
          -2.0343735218048096,
          -8.18539810180664,
          -8.29904842376709,
          -1.8979848623275757,
          -9.080395698547363,
          -6.6698174476623535,
          -8.78122329711914,
          -1.6623612642288208,
          -1.7111492156982422,
          -8.502785682678223,
          -6.705948352813721,
          1.9890573024749756,
          -2.8896172046661377,
          -2.803727865219116,
          4.3523664474487305,
          -8.554104804992676,
          -5.910602569580078,
          -6.5772223472595215,
          -6.267798900604248,
          -8.071297645568848,
          -8.435548782348633,
          1.2453700304031372,
          -8.199186325073242,
          -7.83314847946167,
          5.0983991622924805,
          -8.906661033630371,
          -5.052771091461182,
          -9.43470287322998,
          -8.697092056274414,
          -8.042047500610352,
          -3.231630563735962,
          -9.058669090270996,
          9.232453346252441,
          -9.380427360534668,
          -8.472609519958496,
          -8.464553833007812,
          -8.894659996032715,
          -7.828050136566162,
          -5.177462577819824,
          -8.424600601196289,
          8.528044700622559,
          -8.22603702545166,
          -3.103260040283203,
          3.170891046524048,
          7.683187961578369,
          -6.491273880004883,
          -9.115041732788086,
          11.101244926452637,
          -8.106701850891113,
          -8.716663360595703,
          -8.482949256896973,
          -7.720859050750732,
          -7.481436252593994
         ],
         "xaxis": "x",
         "y": [
          -1.026847243309021,
          -1.8970330953598022,
          1.0304899215698242,
          -0.6849515438079834,
          -0.548841655254364,
          -1.2099723815917969,
          -1.2185014486312866,
          -4.460003852844238,
          -2.953808069229126,
          3.552480697631836,
          3.3739967346191406,
          -0.29885655641555786,
          -2.234687328338623,
          1.400630235671997,
          2.891693353652954,
          0.5347318649291992,
          -1.150673747062683,
          -1.4235150814056396,
          2.346766948699951,
          3.413921356201172,
          -0.5602126717567444,
          -2.2123210430145264,
          -2.259401321411133,
          -1.7892649173736572,
          4.378428936004639,
          -0.3375011682510376,
          0.7463287711143494,
          -1.8794931173324585,
          -2.5583200454711914,
          -2.1852316856384277,
          0.10002461075782776,
          -0.8391681909561157,
          0.38477644324302673,
          4.950429916381836,
          2.9764740467071533,
          2.088529586791992,
          -2.378685712814331,
          -0.27899348735809326,
          -0.20036911964416504,
          -2.1931862831115723,
          -3.5827388763427734,
          -1.5172032117843628,
          -0.3096722364425659,
          0.6809576153755188,
          1.8520092964172363,
          -2.4553987979888916,
          2.6165573596954346,
          -2.041285514831543,
          -1.3678523302078247,
          4.027432441711426,
          -2.382481336593628,
          -0.38577204942703247,
          1.7996550798416138,
          -1.443617582321167,
          1.0801470279693604,
          -2.9611568450927734,
          -1.9403403997421265,
          -1.8033710718154907,
          0.08501870930194855,
          1.0899580717086792,
          -0.4934338331222534,
          0.6847521066665649,
          1.7408452033996582,
          0.6074612736701965,
          3.1695735454559326,
          -2.938227653503418,
          -1.0068442821502686,
          1.9023269414901733,
          2.9690163135528564,
          -0.502490758895874,
          -0.7053576707839966,
          0.94944167137146,
          -2.0615665912628174,
          4.61850118637085,
          2.6181857585906982,
          -2.4270341396331787,
          2.3431851863861084,
          3.8669979572296143,
          -1.9971849918365479,
          -2.136324644088745,
          2.357055187225342,
          -0.8417310118675232,
          -0.6332047581672668,
          -1.8778518438339233,
          0.6747903227806091,
          -2.409754514694214,
          0.6835650205612183,
          1.8450641632080078,
          -0.19750957190990448,
          -1.4893220663070679,
          3.7403457164764404,
          -1.88778817653656,
          2.3321831226348877,
          0.9941710233688354,
          -2.2846665382385254,
          2.006410837173462,
          -2.5370328426361084,
          -1.790726900100708,
          1.7897588014602661,
          -2.4502410888671875,
          2.050431489944458,
          -1.8367904424667358,
          3.4372198581695557,
          -1.9238072633743286,
          -1.792305827140808,
          -2.316166639328003,
          1.7883244752883911,
          -1.980682134628296,
          4.040424346923828,
          1.5197833776474,
          0.9849961400032043,
          2.9907383918762207,
          -2.5331854820251465,
          -2.9353199005126953,
          0.12018486857414246,
          -2.0711939334869385,
          -2.6779537200927734,
          -3.120311737060547,
          1.5701183080673218,
          -1.7849079370498657,
          -1.761486291885376,
          0.23710224032402039,
          -2.8634514808654785,
          -3.7102904319763184,
          -1.276376485824585,
          3.839193820953369,
          3.767993211746216,
          -2.1529266834259033,
          0.6049154996871948,
          -0.4053894579410553,
          3.201251983642578,
          -1.6005700826644897,
          1.7924867868423462,
          0.908248782157898,
          -2.5276501178741455,
          -2.0869081020355225,
          -2.8940012454986572,
          0.91085284948349,
          -0.05161736160516739,
          3.198105812072754,
          0.5203321576118469,
          -2.00066876411438,
          -3.2760891914367676,
          4.293381214141846,
          1.7105944156646729,
          1.8749759197235107,
          -1.260509967803955,
          -3.3841116428375244,
          -1.9581489562988281,
          2.621495008468628,
          4.779628753662109,
          -1.735743522644043,
          -2.0318338871002197,
          -2.9859039783477783,
          1.0935496091842651,
          -0.5452268719673157,
          1.9371522665023804,
          -1.2482203245162964,
          -0.7298551797866821,
          1.8164350986480713,
          -2.9842748641967773,
          -1.9519599676132202,
          -2.4694039821624756,
          -2.908308744430542,
          1.4567186832427979,
          -2.1398065090179443,
          -0.30307823419570923,
          -2.8629021644592285,
          0.5411376953125,
          -1.73125422000885,
          4.134159564971924,
          -2.7299344539642334,
          1.3075278997421265,
          1.0373154878616333,
          1.2911795377731323,
          -1.9222530126571655,
          0.30082133412361145,
          2.3896632194519043,
          -2.3158459663391113,
          2.366330623626709,
          -1.7069244384765625,
          -1.2698974609375,
          2.7620959281921387,
          -2.4086716175079346,
          -2.277435064315796,
          1.8817106485366821,
          5.903295040130615,
          2.1173388957977295,
          -0.8705542087554932,
          0.8646053671836853,
          -3.0078682899475098,
          -1.663129448890686,
          -3.040389060974121,
          1.8650189638137817,
          -2.0637285709381104,
          2.079009532928467,
          -1.9597169160842896,
          -1.3047995567321777,
          -2.0847225189208984,
          4.9929585456848145,
          -0.09228983521461487,
          -1.848209261894226,
          1.906872034072876,
          1.8187798261642456,
          2.5069479942321777,
          1.4875999689102173,
          1.9190067052841187,
          -2.719614028930664,
          4.412625789642334,
          1.5153945684432983,
          -3.8120923042297363,
          4.960738182067871,
          -1.428292155265808,
          -1.2897939682006836,
          1.5677642822265625,
          -2.666811466217041,
          2.1073930263519287,
          -2.0444586277008057,
          -3.1538686752319336,
          2.6746037006378174,
          -2.5956478118896484,
          2.4553003311157227,
          2.0884454250335693,
          5.292855262756348,
          -1.4481863975524902,
          1.6648107767105103,
          -2.7820141315460205,
          1.4082372188568115,
          4.3276448249816895,
          -0.7124907374382019,
          -0.4725206196308136,
          0.8289049863815308,
          4.931053638458252,
          -2.091620922088623,
          1.613602876663208,
          -1.6082234382629395,
          -1.2482682466506958,
          -1.9586576223373413,
          -0.2893138825893402,
          1.3503984212875366,
          1.0944966077804565,
          -3.2432806491851807,
          0.5880436897277832,
          -1.3153852224349976,
          3.7798759937286377,
          -1.6457804441452026,
          -2.5845839977264404,
          -2.05534291267395,
          1.669445514678955,
          -0.23249588906764984,
          -2.086245059967041,
          0.8262614607810974,
          0.1761920303106308,
          -2.378917694091797,
          0.8578863739967346,
          0.5189799070358276,
          1.236462950706482,
          1.9287718534469604,
          -0.019274326041340828,
          0.45743584632873535,
          0.48598960041999817,
          2.3710172176361084,
          -1.7178410291671753,
          -3.7136330604553223,
          1.057741403579712,
          2.083427667617798,
          2.3897314071655273,
          1.5872136354446411,
          -1.1533697843551636,
          2.1707727909088135,
          -3.8408889770507812,
          -0.47555068135261536,
          1.2873928546905518,
          1.4651668071746826,
          0.7108650207519531,
          0.4196448028087616,
          1.6477758884429932,
          -2.111086368560791,
          -2.397916793823242,
          -0.013128832913935184,
          0.8467110395431519,
          1.5710301399230957,
          2.193356990814209,
          1.1864386796951294,
          -2.470263719558716,
          1.3615334033966064,
          1.7831510305404663,
          -2.3785879611968994,
          0.7697420716285706,
          -0.7143828272819519,
          -0.7956250309944153,
          -0.49676600098609924,
          1.0686463117599487,
          0.5083569288253784,
          -1.5428617000579834,
          1.6041327714920044,
          -1.1003721952438354,
          2.386549234390259,
          2.251749277114868,
          -2.872199773788452,
          -1.6512941122055054,
          -1.6816648244857788,
          -3.0912318229675293,
          -2.321258306503296,
          1.576948642730713,
          -2.765501022338867,
          2.2033190727233887,
          1.5948472023010254,
          0.09362512826919556,
          1.1763978004455566,
          -1.4210891723632812,
          -1.0310108661651611,
          0.12054190784692764,
          -2.439178943634033,
          0.2875799238681793,
          0.5293161869049072,
          -1.7087829113006592,
          -0.5279352068901062,
          -1.0227628946304321,
          -0.2102789431810379,
          -2.3618555068969727,
          2.2022597789764404,
          -2.5999953746795654,
          1.4620574712753296,
          2.665004253387451,
          -2.0307443141937256,
          1.6733125448226929,
          -1.958205223083496,
          1.37604558467865,
          1.3401325941085815,
          1.9424927234649658,
          -1.4233940839767456,
          -0.6969100832939148,
          -2.678785562515259,
          1.6607319116592407,
          -1.1645581722259521,
          -2.8819315433502197,
          2.192697525024414,
          2.443131446838379,
          0.8078010678291321,
          -2.0557637214660645,
          1.956880807876587,
          -3.891810417175293,
          -1.0657455921173096,
          1.3683125972747803,
          -0.7130668759346008,
          1.6167724132537842,
          -0.836971640586853,
          0.4575643837451935,
          -2.8610594272613525,
          1.654759168624878,
          2.3389999866485596,
          2.244997978210449,
          0.426408052444458,
          -1.719569444656372,
          -2.082756757736206,
          1.0336939096450806,
          -1.2247443199157715,
          -2.3140501976013184,
          1.6044648885726929,
          -2.452521562576294,
          0.20789574086666107,
          1.9885231256484985,
          -0.8520107269287109,
          -2.078603982925415,
          1.7918020486831665,
          -0.7735385894775391,
          -1.3064297437667847,
          0.9152612090110779,
          -0.5501862168312073,
          2.5023813247680664,
          0.7792990207672119,
          -1.3995987176895142,
          -2.6024343967437744,
          1.2255991697311401,
          2.2443442344665527,
          1.8501546382904053,
          -0.41241583228111267,
          2.052129030227661,
          -2.517176866531372,
          -2.8188889026641846,
          1.5961295366287231,
          2.2724900245666504,
          0.07704776525497437,
          1.773531198501587,
          0.12270467728376389,
          0.9338017702102661,
          -2.4549195766448975,
          -1.3994792699813843,
          -1.6967519521713257,
          2.0091543197631836,
          -2.2270405292510986,
          0.7193581461906433,
          2.1584975719451904,
          0.05999363213777542,
          1.3525481224060059,
          -1.5714997053146362,
          -1.547162413597107,
          1.6702097654342651,
          0.01973896659910679,
          -2.525599479675293,
          -0.2676909267902374,
          0.4644854962825775,
          -0.7960898280143738,
          0.18697084486484528,
          -1.3997653722763062,
          0.8787476420402527,
          -2.598381996154785,
          1.1738091707229614,
          2.1771669387817383,
          1.8714346885681152,
          1.5634315013885498,
          0.4082620143890381,
          -1.0558174848556519,
          -1.920515775680542,
          1.2295610904693604,
          0.432201087474823,
          -1.593469262123108,
          -2.0670530796051025,
          -0.8689061999320984,
          0.559912919998169,
          1.5657708644866943,
          -1.1557917594909668,
          1.647039532661438,
          -1.74307119846344,
          -2.424051284790039,
          1.9220123291015625,
          -2.4796712398529053,
          1.8831510543823242,
          1.5066123008728027,
          0.15018585324287415,
          -2.192981243133545,
          -0.3888000547885895,
          1.2997939586639404,
          2.1257500648498535,
          2.679647207260132,
          0.908592700958252,
          1.0216926336288452,
          1.165466070175171,
          -0.29265251755714417,
          -2.8278119564056396,
          1.6817277669906616,
          1.6519502401351929,
          -0.036953821778297424,
          1.0880587100982666,
          2.484224319458008,
          1.8990912437438965,
          -3.1055502891540527,
          0.8569141030311584,
          0.774864137172699,
          -2.4929463863372803,
          2.114694833755493,
          -0.09163567423820496,
          1.3216522932052612,
          -1.3339489698410034,
          -2.847072124481201,
          0.81690514087677,
          -0.5980790853500366,
          -1.3280888795852661,
          -1.5738919973373413,
          -1.389055609703064,
          -2.103424310684204,
          2.1212146282196045,
          0.02814263105392456,
          -0.7488619685173035,
          -1.6703622341156006,
          1.4024412631988525,
          1.2886890172958374,
          -2.7022130489349365,
          1.0485093593597412,
          0.2907062768936157,
          -2.036123514175415,
          2.114996910095215,
          -1.202830195426941,
          2.5844860076904297,
          1.745305061340332,
          1.265596866607666,
          -1.852468490600586,
          2.5113649368286133,
          -0.3226810097694397,
          2.376957893371582,
          0.9818950891494751,
          1.6023004055023193,
          2.1930646896362305,
          0.4641229212284088,
          -1.9101381301879883,
          0.8336178064346313,
          -0.12896671891212463,
          1.2899819612503052,
          -1.6833972930908203,
          -3.5815696716308594,
          -2.17630934715271,
          -0.21523411571979523,
          2.4320647716522217,
          2.6505041122436523,
          1.7436957359313965,
          1.2649091482162476,
          1.331442952156067,
          0.8705660104751587,
          -0.18114513158798218
         ],
         "yaxis": "y"
        }
       ],
       "layout": {
        "coloraxis": {
         "colorbar": {
          "title": {
           "text": "Predicted Label"
          }
         },
         "colorscale": [
          [
           0,
           "#0d0887"
          ],
          [
           0.1111111111111111,
           "#46039f"
          ],
          [
           0.2222222222222222,
           "#7201a8"
          ],
          [
           0.3333333333333333,
           "#9c179e"
          ],
          [
           0.4444444444444444,
           "#bd3786"
          ],
          [
           0.5555555555555556,
           "#d8576b"
          ],
          [
           0.6666666666666666,
           "#ed7953"
          ],
          [
           0.7777777777777778,
           "#fb9f3a"
          ],
          [
           0.8888888888888888,
           "#fdca26"
          ],
          [
           1,
           "#f0f921"
          ]
         ]
        },
        "legend": {
         "tracegroupgap": 0
        },
        "template": {
         "data": {
          "bar": [
           {
            "error_x": {
             "color": "#2a3f5f"
            },
            "error_y": {
             "color": "#2a3f5f"
            },
            "marker": {
             "line": {
              "color": "#E5ECF6",
              "width": 0.5
             },
             "pattern": {
              "fillmode": "overlay",
              "size": 10,
              "solidity": 0.2
             }
            },
            "type": "bar"
           }
          ],
          "barpolar": [
           {
            "marker": {
             "line": {
              "color": "#E5ECF6",
              "width": 0.5
             },
             "pattern": {
              "fillmode": "overlay",
              "size": 10,
              "solidity": 0.2
             }
            },
            "type": "barpolar"
           }
          ],
          "carpet": [
           {
            "aaxis": {
             "endlinecolor": "#2a3f5f",
             "gridcolor": "white",
             "linecolor": "white",
             "minorgridcolor": "white",
             "startlinecolor": "#2a3f5f"
            },
            "baxis": {
             "endlinecolor": "#2a3f5f",
             "gridcolor": "white",
             "linecolor": "white",
             "minorgridcolor": "white",
             "startlinecolor": "#2a3f5f"
            },
            "type": "carpet"
           }
          ],
          "choropleth": [
           {
            "colorbar": {
             "outlinewidth": 0,
             "ticks": ""
            },
            "type": "choropleth"
           }
          ],
          "contour": [
           {
            "colorbar": {
             "outlinewidth": 0,
             "ticks": ""
            },
            "colorscale": [
             [
              0,
              "#0d0887"
             ],
             [
              0.1111111111111111,
              "#46039f"
             ],
             [
              0.2222222222222222,
              "#7201a8"
             ],
             [
              0.3333333333333333,
              "#9c179e"
             ],
             [
              0.4444444444444444,
              "#bd3786"
             ],
             [
              0.5555555555555556,
              "#d8576b"
             ],
             [
              0.6666666666666666,
              "#ed7953"
             ],
             [
              0.7777777777777778,
              "#fb9f3a"
             ],
             [
              0.8888888888888888,
              "#fdca26"
             ],
             [
              1,
              "#f0f921"
             ]
            ],
            "type": "contour"
           }
          ],
          "contourcarpet": [
           {
            "colorbar": {
             "outlinewidth": 0,
             "ticks": ""
            },
            "type": "contourcarpet"
           }
          ],
          "heatmap": [
           {
            "colorbar": {
             "outlinewidth": 0,
             "ticks": ""
            },
            "colorscale": [
             [
              0,
              "#0d0887"
             ],
             [
              0.1111111111111111,
              "#46039f"
             ],
             [
              0.2222222222222222,
              "#7201a8"
             ],
             [
              0.3333333333333333,
              "#9c179e"
             ],
             [
              0.4444444444444444,
              "#bd3786"
             ],
             [
              0.5555555555555556,
              "#d8576b"
             ],
             [
              0.6666666666666666,
              "#ed7953"
             ],
             [
              0.7777777777777778,
              "#fb9f3a"
             ],
             [
              0.8888888888888888,
              "#fdca26"
             ],
             [
              1,
              "#f0f921"
             ]
            ],
            "type": "heatmap"
           }
          ],
          "heatmapgl": [
           {
            "colorbar": {
             "outlinewidth": 0,
             "ticks": ""
            },
            "colorscale": [
             [
              0,
              "#0d0887"
             ],
             [
              0.1111111111111111,
              "#46039f"
             ],
             [
              0.2222222222222222,
              "#7201a8"
             ],
             [
              0.3333333333333333,
              "#9c179e"
             ],
             [
              0.4444444444444444,
              "#bd3786"
             ],
             [
              0.5555555555555556,
              "#d8576b"
             ],
             [
              0.6666666666666666,
              "#ed7953"
             ],
             [
              0.7777777777777778,
              "#fb9f3a"
             ],
             [
              0.8888888888888888,
              "#fdca26"
             ],
             [
              1,
              "#f0f921"
             ]
            ],
            "type": "heatmapgl"
           }
          ],
          "histogram": [
           {
            "marker": {
             "pattern": {
              "fillmode": "overlay",
              "size": 10,
              "solidity": 0.2
             }
            },
            "type": "histogram"
           }
          ],
          "histogram2d": [
           {
            "colorbar": {
             "outlinewidth": 0,
             "ticks": ""
            },
            "colorscale": [
             [
              0,
              "#0d0887"
             ],
             [
              0.1111111111111111,
              "#46039f"
             ],
             [
              0.2222222222222222,
              "#7201a8"
             ],
             [
              0.3333333333333333,
              "#9c179e"
             ],
             [
              0.4444444444444444,
              "#bd3786"
             ],
             [
              0.5555555555555556,
              "#d8576b"
             ],
             [
              0.6666666666666666,
              "#ed7953"
             ],
             [
              0.7777777777777778,
              "#fb9f3a"
             ],
             [
              0.8888888888888888,
              "#fdca26"
             ],
             [
              1,
              "#f0f921"
             ]
            ],
            "type": "histogram2d"
           }
          ],
          "histogram2dcontour": [
           {
            "colorbar": {
             "outlinewidth": 0,
             "ticks": ""
            },
            "colorscale": [
             [
              0,
              "#0d0887"
             ],
             [
              0.1111111111111111,
              "#46039f"
             ],
             [
              0.2222222222222222,
              "#7201a8"
             ],
             [
              0.3333333333333333,
              "#9c179e"
             ],
             [
              0.4444444444444444,
              "#bd3786"
             ],
             [
              0.5555555555555556,
              "#d8576b"
             ],
             [
              0.6666666666666666,
              "#ed7953"
             ],
             [
              0.7777777777777778,
              "#fb9f3a"
             ],
             [
              0.8888888888888888,
              "#fdca26"
             ],
             [
              1,
              "#f0f921"
             ]
            ],
            "type": "histogram2dcontour"
           }
          ],
          "mesh3d": [
           {
            "colorbar": {
             "outlinewidth": 0,
             "ticks": ""
            },
            "type": "mesh3d"
           }
          ],
          "parcoords": [
           {
            "line": {
             "colorbar": {
              "outlinewidth": 0,
              "ticks": ""
             }
            },
            "type": "parcoords"
           }
          ],
          "pie": [
           {
            "automargin": true,
            "type": "pie"
           }
          ],
          "scatter": [
           {
            "fillpattern": {
             "fillmode": "overlay",
             "size": 10,
             "solidity": 0.2
            },
            "type": "scatter"
           }
          ],
          "scatter3d": [
           {
            "line": {
             "colorbar": {
              "outlinewidth": 0,
              "ticks": ""
             }
            },
            "marker": {
             "colorbar": {
              "outlinewidth": 0,
              "ticks": ""
             }
            },
            "type": "scatter3d"
           }
          ],
          "scattercarpet": [
           {
            "marker": {
             "colorbar": {
              "outlinewidth": 0,
              "ticks": ""
             }
            },
            "type": "scattercarpet"
           }
          ],
          "scattergeo": [
           {
            "marker": {
             "colorbar": {
              "outlinewidth": 0,
              "ticks": ""
             }
            },
            "type": "scattergeo"
           }
          ],
          "scattergl": [
           {
            "marker": {
             "colorbar": {
              "outlinewidth": 0,
              "ticks": ""
             }
            },
            "type": "scattergl"
           }
          ],
          "scattermapbox": [
           {
            "marker": {
             "colorbar": {
              "outlinewidth": 0,
              "ticks": ""
             }
            },
            "type": "scattermapbox"
           }
          ],
          "scatterpolar": [
           {
            "marker": {
             "colorbar": {
              "outlinewidth": 0,
              "ticks": ""
             }
            },
            "type": "scatterpolar"
           }
          ],
          "scatterpolargl": [
           {
            "marker": {
             "colorbar": {
              "outlinewidth": 0,
              "ticks": ""
             }
            },
            "type": "scatterpolargl"
           }
          ],
          "scatterternary": [
           {
            "marker": {
             "colorbar": {
              "outlinewidth": 0,
              "ticks": ""
             }
            },
            "type": "scatterternary"
           }
          ],
          "surface": [
           {
            "colorbar": {
             "outlinewidth": 0,
             "ticks": ""
            },
            "colorscale": [
             [
              0,
              "#0d0887"
             ],
             [
              0.1111111111111111,
              "#46039f"
             ],
             [
              0.2222222222222222,
              "#7201a8"
             ],
             [
              0.3333333333333333,
              "#9c179e"
             ],
             [
              0.4444444444444444,
              "#bd3786"
             ],
             [
              0.5555555555555556,
              "#d8576b"
             ],
             [
              0.6666666666666666,
              "#ed7953"
             ],
             [
              0.7777777777777778,
              "#fb9f3a"
             ],
             [
              0.8888888888888888,
              "#fdca26"
             ],
             [
              1,
              "#f0f921"
             ]
            ],
            "type": "surface"
           }
          ],
          "table": [
           {
            "cells": {
             "fill": {
              "color": "#EBF0F8"
             },
             "line": {
              "color": "white"
             }
            },
            "header": {
             "fill": {
              "color": "#C8D4E3"
             },
             "line": {
              "color": "white"
             }
            },
            "type": "table"
           }
          ]
         },
         "layout": {
          "annotationdefaults": {
           "arrowcolor": "#2a3f5f",
           "arrowhead": 0,
           "arrowwidth": 1
          },
          "autotypenumbers": "strict",
          "coloraxis": {
           "colorbar": {
            "outlinewidth": 0,
            "ticks": ""
           }
          },
          "colorscale": {
           "diverging": [
            [
             0,
             "#8e0152"
            ],
            [
             0.1,
             "#c51b7d"
            ],
            [
             0.2,
             "#de77ae"
            ],
            [
             0.3,
             "#f1b6da"
            ],
            [
             0.4,
             "#fde0ef"
            ],
            [
             0.5,
             "#f7f7f7"
            ],
            [
             0.6,
             "#e6f5d0"
            ],
            [
             0.7,
             "#b8e186"
            ],
            [
             0.8,
             "#7fbc41"
            ],
            [
             0.9,
             "#4d9221"
            ],
            [
             1,
             "#276419"
            ]
           ],
           "sequential": [
            [
             0,
             "#0d0887"
            ],
            [
             0.1111111111111111,
             "#46039f"
            ],
            [
             0.2222222222222222,
             "#7201a8"
            ],
            [
             0.3333333333333333,
             "#9c179e"
            ],
            [
             0.4444444444444444,
             "#bd3786"
            ],
            [
             0.5555555555555556,
             "#d8576b"
            ],
            [
             0.6666666666666666,
             "#ed7953"
            ],
            [
             0.7777777777777778,
             "#fb9f3a"
            ],
            [
             0.8888888888888888,
             "#fdca26"
            ],
            [
             1,
             "#f0f921"
            ]
           ],
           "sequentialminus": [
            [
             0,
             "#0d0887"
            ],
            [
             0.1111111111111111,
             "#46039f"
            ],
            [
             0.2222222222222222,
             "#7201a8"
            ],
            [
             0.3333333333333333,
             "#9c179e"
            ],
            [
             0.4444444444444444,
             "#bd3786"
            ],
            [
             0.5555555555555556,
             "#d8576b"
            ],
            [
             0.6666666666666666,
             "#ed7953"
            ],
            [
             0.7777777777777778,
             "#fb9f3a"
            ],
            [
             0.8888888888888888,
             "#fdca26"
            ],
            [
             1,
             "#f0f921"
            ]
           ]
          },
          "colorway": [
           "#636efa",
           "#EF553B",
           "#00cc96",
           "#ab63fa",
           "#FFA15A",
           "#19d3f3",
           "#FF6692",
           "#B6E880",
           "#FF97FF",
           "#FECB52"
          ],
          "font": {
           "color": "#2a3f5f"
          },
          "geo": {
           "bgcolor": "white",
           "lakecolor": "white",
           "landcolor": "#E5ECF6",
           "showlakes": true,
           "showland": true,
           "subunitcolor": "white"
          },
          "hoverlabel": {
           "align": "left"
          },
          "hovermode": "closest",
          "mapbox": {
           "style": "light"
          },
          "paper_bgcolor": "white",
          "plot_bgcolor": "#E5ECF6",
          "polar": {
           "angularaxis": {
            "gridcolor": "white",
            "linecolor": "white",
            "ticks": ""
           },
           "bgcolor": "#E5ECF6",
           "radialaxis": {
            "gridcolor": "white",
            "linecolor": "white",
            "ticks": ""
           }
          },
          "scene": {
           "xaxis": {
            "backgroundcolor": "#E5ECF6",
            "gridcolor": "white",
            "gridwidth": 2,
            "linecolor": "white",
            "showbackground": true,
            "ticks": "",
            "zerolinecolor": "white"
           },
           "yaxis": {
            "backgroundcolor": "#E5ECF6",
            "gridcolor": "white",
            "gridwidth": 2,
            "linecolor": "white",
            "showbackground": true,
            "ticks": "",
            "zerolinecolor": "white"
           },
           "zaxis": {
            "backgroundcolor": "#E5ECF6",
            "gridcolor": "white",
            "gridwidth": 2,
            "linecolor": "white",
            "showbackground": true,
            "ticks": "",
            "zerolinecolor": "white"
           }
          },
          "shapedefaults": {
           "line": {
            "color": "#2a3f5f"
           }
          },
          "ternary": {
           "aaxis": {
            "gridcolor": "white",
            "linecolor": "white",
            "ticks": ""
           },
           "baxis": {
            "gridcolor": "white",
            "linecolor": "white",
            "ticks": ""
           },
           "bgcolor": "#E5ECF6",
           "caxis": {
            "gridcolor": "white",
            "linecolor": "white",
            "ticks": ""
           }
          },
          "title": {
           "x": 0.05
          },
          "xaxis": {
           "automargin": true,
           "gridcolor": "white",
           "linecolor": "white",
           "ticks": "",
           "title": {
            "standoff": 15
           },
           "zerolinecolor": "white",
           "zerolinewidth": 2
          },
          "yaxis": {
           "automargin": true,
           "gridcolor": "white",
           "linecolor": "white",
           "ticks": "",
           "title": {
            "standoff": 15
           },
           "zerolinecolor": "white",
           "zerolinewidth": 2
          }
         }
        },
        "title": {
         "text": "Wizualizacja przestrzeni wektorowej prób testowych"
        },
        "xaxis": {
         "anchor": "y",
         "domain": [
          0,
          1
         ],
         "title": {
          "text": "PCA1"
         }
        },
        "yaxis": {
         "anchor": "x",
         "domain": [
          0,
          1
         ],
         "title": {
          "text": "PCA2"
         }
        }
       }
      }
     },
     "metadata": {},
     "output_type": "display_data"
    }
   ],
   "source": [
    "pca = PCA(n_components=2).fit_transform(embeddings)\n",
    "\n",
    "df_pca = pd.DataFrame(pca, columns=['PCA1', 'PCA2'])\n",
    "df_pca['Predicted Label']  = [predicted_labels_mask[i] for i in range(len(predicted_labels_mask))]\n",
    "df_pca['Text'] = text['text']\n",
    "df_pca['True label'] = [true_labels_mask[i] for i in range(len(true_labels_mask))]\n",
    "\n",
    "fig = px.scatter(df_pca, x=\"PCA1\", y=\"PCA2\", color=\"Predicted Label\", hover_data={'Text': True, 'True label': True}, title=\"Wizualizacja przestrzeni wektorowej prób testowych\",\n",
    "                labels={\"PC1\": \"Pierwsza składowa główna\", \"PC2\": \"Druga składowa główna\"})\n",
    "fig.show()"
   ]
  },
  {
   "cell_type": "markdown",
   "metadata": {},
   "source": [
    "#### T-SNE"
   ]
  },
  {
   "cell_type": "code",
   "execution_count": 61,
   "metadata": {},
   "outputs": [
    {
     "data": {
      "application/vnd.plotly.v1+json": {
       "config": {
        "plotlyServerURL": "https://plot.ly"
       },
       "data": [
        {
         "customdata": [
          [
           "soi ll stick with my sources while you t<br>ry to pull more you there of the air",
           0
          ],
          [
           "where can whatever get a copy of this",
           0
          ],
          [
           "tnx i see yeah right argument and i am g<br>lad that in this case there is a non mis<br>leading where are you of responding at",
           0
          ],
          [
           "else has contested this in the meantime <br>but i will get my two pennyworth in as w<br>ell this is not a pub team but is about <br>to absorb the very notable solidly borou<br>gh f c",
           0
          ],
          [
           "i am thankful for my bed thankful positi<br>ve",
           0
          ],
          [
           "i am sanctioned to give another words of<br> justification to any revert until the e<br>nd of so here it goes besides what i sta<br>ted above here are my thoughts i have no<br>thing contrary to the citation of a cont<br>emporary author that has done a serious <br>study on java trial and does not blindly<br> repeat that she what a slut from serbia<br>n origin the only contemporary scholar t<br>hat whatever have to claim that visa tri<br>al what a slut from serbian origin is st<br>andouts who says only that and then he p<br>oints to the biography of marin ballet n<br>ow ballet does not say that she what a s<br>lut serbian but albanian so standouts co<br>ntradicts himself if whatever really wan<br>t to give some references to slandered t<br>hat are sour let us start with oliver je<br>ns schmitt who really has made a bad bio<br>graphy of the national hero of the alban<br>ians schmitt is a voice out of the choir<br> and i would love if someone brings to t<br>he table what he says because i want to <br>see if he is fringe or serious",
           0
          ],
          [
           "doubt he would be any taller than unless<br> the man is dutch who currently are the <br>tallest in the world with an average hei<br>ght of it is more realistic he would be <br>about that height i think",
           0
          ],
          [
           "haii happy",
           0
          ],
          [
           "retweet some pussy be so wet sweat dropl<br>etsdropletsweat dropletsdropletyou got t<br>o think about other things not to come f<br>ast like damn i really failed the grade",
           0
          ],
          [
           "more botheration reopen access publishin<br>g since you were the administrator invol<br>ved in an original move i what a slut ho<br>ping you could help me figure out cleanu<br>p on the articles open access publishing<br> and open access publishing you original<br>ly moved publishing to publishing but bo<br>th articles still exist with substantial<br>ly the same content although subsequent <br>edits have forked the content a bit shou<br>ld open access publishing be redirected <br>to open access publishing as seems what <br>a slut your intent or is there something<br> more subtle going on here this is separ<br>ate from the main open access article wh<br>ich open access publishing appears to th<br>ink it is based on the hat note and the <br>open access disambiguation dab page does<br> not refer to either of the two publishi<br>ng articles at this point i am rather co<br>nfused about what is intended to go wher<br>e",
           0
          ],
          [
           "consider adding links to anger managemen<br>t volition habituation and performance w<br>hile there is not currently a page on oc<br>cupational performance or occupational e<br>xploration consider defining these terms<br> since they are specific to off topic it<br> also be useful to give a few examples o<br>f settings over the shoulder work in to <br>give readers who are unfamiliar with off<br> topic a better understanding of the fie<br>ld overall the page is well written and <br>contains a lot of important information <br>on the subject",
           0
          ],
          [
           "acording to the wiki policy self made pi<br>ctures area lowed as they are classed as<br> based on researched material",
           0
          ],
          [
           "sigh but surely i am the one who hounds <br>him and bullies him and will not leave h<br>im alone do as you will wee regards talk",
           0
          ],
          [
           "imageromania drumuri svg hey nice work o<br>n the image i would update the image mys<br>elf but i do not know how so here is wha<br>t found missing on your image based on t<br>he maps at this link lugoj sibiu on ploi<br>esti focsani on club south freeway bucha<br>rest ring freeway also i did not find an<br>y reference about the focsani bacau sect<br>or that you labeled as planned cheers",
           0
          ],
          [
           "you are an admin it is my pleasure to in<br>form you that you are now an admin congr<br>atulations you can feel free to do every<br>thing you are supposed to do and nothing<br> you are not supposed to do if you have <br>not already now is the time look through<br> the wikipediaadministrators how to guid<br>e and wikipediaadministrators reading li<br>st if you have any questions feel free t<br>o ask me or at the wikipediaadministrato<br>rs noticeboard best wishes and good luck<br> congratulations wow thanks now the real<br> learning starts",
           0
          ],
          [
           "you misspelled speech i though that i sh<br>ould correct you seeing that you are an <br>administrator and all",
           0
          ],
          [
           "reply question lol asshole i am not sure<br> what the letter p has got to do with th<br>e australian currency but whatever use d<br>ollars for example you must mean pounds <br>or pence uk s currency",
           0
          ],
          [
           "stop the vandalism please future perfect<br> at sunrise",
           0
          ],
          [
           "these hoes be flaw gen i swear bruh a ni<br>gga do not want you all",
           0
          ],
          [
           "info box company location country the do<br>cumentation at indicates that the locati<br>on country parameter is for the country <br>of the company s that is not an office i<br>n san francisco or any other satellite o<br>ffice or secondary locations or regional<br> head offices but the head office there <br>is usually only one head office with tha<br>t said whatever should be adding a locat<br>ion city parameter as well",
           0
          ],
          [
           "ok i withdraw it talk",
           0
          ],
          [
           "note to same correcting spanish american<br>s article i do not know what you are tal<br>king about i did not vandalize any artic<br>le stop accusing me of vandalism because<br> i do not do that and you know it you ar<br>e saying this to make me look bad to wik<br>i and it has not fair all i did what a s<br>lut reflect correct info that the author<br> of the article has made an error in the<br> author made an error in the article per<br>taining to what constitutes a spanish am<br>erican in the article he states that any<br>one from latin america is considered a s<br>panish american when that is not true a <br>spanish american is someone who is desce<br>nded directly note this from spain and b<br>orn in the americas for example mexican <br>born or argentine born peoples are not s<br>panish americans since they are born in <br>latin america not spain i want to work w<br>ith the author but the author has got to<br> work with us the people who are trying <br>to correct him you are not spanish so yo<br>u do not have the right to dictate to ot<br>hers who or what they are",
           0
          ],
          [
           "retweet you all hoes need to get out mor<br>e there so much more to life than being <br>a fucking hater go get yours",
           0
          ],
          [
           "retweet big booty hoe with tig old ditti<br>es xbox one pancake booty hoe with panca<br>ke tits",
           0
          ],
          [
           "nature since the article what a slut fir<br>st nominated for core topics crying on t<br>he floor it has advanced in quality cons<br>iderably this is largely due to the work<br> of while doing so he has contended with<br> the continual one issue commentary on t<br>he talk page of the latter seems to want<br> to make the article into a philosophy o<br>f science article on the meanings of the<br> term nature as a result i would suggest<br> that major editorial changes to the art<br>icle not be necessary or possible withou<br>t incurring an edit war on the other han<br>d the article would likely benefit from <br>a good copy edit however i have not read<br> the article for some time to see how we<br>ll it hangs together perhaps i should do<br> that now if you would also look at it i<br>n that light whatever could compare note<br>s see you on the talk page",
           0
          ],
          [
           "well that is sort of the point it s to a<br>void having a player who only played one<br> or two years skew the data that being s<br>aid i believe the number comes from the <br>nhs cut off point so whatever use the sa<br>me one",
           0
          ],
          [
           "i appreciate your candor in sorting this<br> out i think i understand now i wish i c<br>ould send you a cheese basket or somethi<br>ng you have stuck this out since the beg<br>inning when so many other admins have qu<br>it topgearfreak sinned troy johns loan y<br>ou have been patient and persistent now <br>that whatever are near to the end i hope<br> whatever can work out all these differe<br>nces talk to you tomorrow byeeeeee esq",
           0
          ],
          [
           "retweet glass half full glass half empty<br> this mizzou team is legitimately pretty<br> good if you go by sports references sim<br>ple",
           0
          ],
          [
           "nicesunnyblondy not applicable slut xxx <br>young hot kinky naughty horny wet shy na<br>sty nude porn sexy",
           0
          ],
          [
           "retweet new year s resolution smoke more<br> weed make more money fuck more bitches",
           0
          ],
          [
           "utc talkdemocratic response to state of <br>the union address possibly if the wiki s<br>ource discussion exists on other article<br>s a wikipedia wide discussion can be hel<br>d about it smiling face",
           0
          ],
          [
           "asylum species you know how during the o<br>pening movie it says next to asylum s sp<br>ecies it has well i know this sounds wei<br>rd as they are extinct according to the <br>metro id prime manual but i think asylum<br> is a photo he makes weird bird like mov<br>ements and sounds when he comes out of l<br>ockjaw and the photo were a bird like pe<br>ople right",
           0
          ],
          [
           "whiskerswednesday everyone cute cats kit<br>ten catsoftwitter teamcatmojo cat lover",
           0
          ],
          [
           "ella griffith a tag has been placed on e<br>lla griffith requesting that it be speed<br>ily deleted from wikipedia this has been<br> done because the article seems to be ab<br>out a person group of people band club c<br>ompany or web content but it does not in<br>dicate how or why the subject is notable<br> see the guidelines for notability here <br>if you can indicate why the subject of t<br>his article is notable you contest the t<br>agging to do this please write on the to<br>p of the page and leave a note on the ar<br>ticle s talk page explaining your positi<br>on please do not remove the speedy delet<br>ion tag yourself please read the criteri<br>a for speedy deletion specifically artic<br>les and our general biography criteria f<br>eel free to leave a note on my talk page<br> if you have any questions about this",
           0
          ],
          [
           "imagealbatosssmb png listed for deletion<br> an image or media file that you uploade<br>d or altered imagealbatosssmb png has be<br>en listed at wikipediaimages and media f<br>or deletion please see the discussion to<br> see why this is you have to search for <br>the title of the image to find its entry<br> if you are interested in it not being d<br>eleted talk",
           0
          ],
          [
           "oh please no further involvement of your<br> time is remotely necessary and that goe<br>s for gen quon as well you two lovely pe<br>ople have already expended more than eno<br>ugh of your time on my project if the en<br>tire fa process is based around grammar <br>lessons and anal nitpicking i would much<br> rather return to spending my time with <br>gas which are actually fun and productiv<br>e i am much more of a fan of the you tel<br>l me what has wrong with the article and<br> i will go fix it process it is not that<br> i am giving up on the article i am defi<br>nitely going to continue to fight for it<br> and i am far from quitting i will defin<br>itely re nominate it it is just that the<br> reward to work ratio is severely lackin<br>g or is that lacking severely",
           0
          ],
          [
           "the borders of the new state were not sp<br>ecified changing from borders for a new <br>jewish state were specified by the un to<br> the borders of the new state were not s<br>pecified is a clear misrepresentation of<br> the truth the borders of the new state <br>were specified by the un the borders spe<br>cified by the un were accepted by the je<br>wish agency for israel to sum all this u<br>p in the lead with the statement the bor<br>ders of the new state were not specified<br> is completely dishonest",
           0
          ],
          [
           "massacre or what mercaz hara massacre no<br>t enough dead bowler and nocalsays is a <br>large number i personally think not in w<br>hich case this should be renamed to inci<br>dent or attack or similar otherwise any <br>terrorist attacks that kill or more peop<br>le should likewise be listed as a massac<br>re wikipedia will quickly fill up with m<br>assacres diluting those that really are <br>massacre of large numbers of people agre<br>e renaming per the discussion here talk <br>original here and art shiva only call it<br> attack yet attack israeli ministry of f<br>oreign affairs shooting post attack isra<br>el insider attack in fact one only has t<br>o look at the references supplied in the<br> article itself to see that attack is th<br>e most prevalent description i am astoun<br>ded that bowler found time to search out<br> an obscure tiny article when the mercy <br>hara attack what a slut one of the reaso<br>ns behind the racist group idf which bow<br>ler aids one would have thought that the<br> mercy hara attack would have caught bow<br>ler s attention first dead link live lin<br>k to same article see also ha art seven <br>students remain hospitalized after shoot<br>ing surprisingly the only source for mas<br>sacre is wiki",
           0
          ],
          [
           "these bitches need guidance",
           0
          ],
          [
           "clarification someone claimed that an ed<br>itor here what a slut making a libelous <br>insinuation libelous is not a term to be<br> thrown around loosely first i did not s<br>ee anything that what a slut factually u<br>ntrue that is the first requirement for <br>libel if something is true it is not lib<br>elous second opinion is never libelous i<br> just hope that people become more judic<br>ious about this oh and finally libel aga<br>inst a public figure requires reckless i<br>ndifference to the truth or knowledge th<br>at the statement what a slut false i doe<br>s not see anything here that suggests th<br>ere what a slut any libel",
           0
          ],
          [
           "hee i mean good and great great and good",
           0
          ],
          [
           "you refusing to remove personal inaccura<br>te information when i edit it",
           0
          ],
          [
           "washington nationals strasbourg has yet <br>to sign as of until he does please do no<br>t alter his info box to read nationals",
           0
          ],
          [
           "believe me you will always be a pa of mi<br>ne till my day comes to the silly dances<br> you re trying to twerk ripjulimuffn att<br>ack",
           0
          ],
          [
           "further to this i have blocked your othe<br>r account the general rule on wikipedia <br>is that every editor should only have on<br>e account please follow that rule in the<br> future i do notice that you had problem<br>s with you articles in the past if you h<br>ave questions you can ask them here and <br>i will try to explain everything but ple<br>ase stop attacking other editors on wiki<br>pedia whatever all want to improve wikip<br>edia if other editors mark your articles<br> for deletion they do so because they be<br>lieve that the article should not be par<br>t of wikipedia which articles should or <br>should not be on wikipedia has been dete<br>rmined through a consensus of all editor<br>s regards",
           0
          ],
          [
           "youtube has several dozen holocaust revi<br>sionist videos",
           0
          ],
          [
           "black women are not whales",
           0
          ],
          [
           "it is so embarrassing that you do not kn<br>ow how to swim how could you go on holid<br>ay",
           0
          ],
          [
           "utc anome you must be joking analyzing t<br>wo body planetary orbital theory is much<br> easier in polar coordinates that it is <br>in cartesian coordinates",
           0
          ],
          [
           "welcome hello and welcome to wikipedia t<br>hank you for your contributions i hope y<br>ou like the place and decide to stay her<br>e are some pages that you might find hel<br>pful the five pillars of wikipedia how t<br>o edit a page help pages tutorial how to<br> write a great article manual of style i<br> hope you enjoy editing here and being a<br> wikipedia please sign your name on talk<br> pages using four tildes this will autom<br>atically produce your name and the date <br>if you need help check out wikipediaques<br>tions ask me on my talk page or place on<br> your talk page and ask your question th<br>ere again welcome ps in the future you c<br>an redirect a page by replacing it with <br>redirect article name",
           0
          ],
          [
           "prime example of why the walk away movem<br>ent what a slut born democrats are nothi<br>ng but sleepy liars all decent people th<br>at were democrats will not stand behind <br>tactics like antifa and destroying peopl<br>e s lives for political reasons i what a<br> slut a democrat for years and i walked <br>away",
           0
          ],
          [
           "it is not possible to attack an anonymou<br>s internet protocol address especially o<br>ne which ironically claims a well known <br>national comic strip also cited in vario<br>us other places in wikipedia is",
           0
          ],
          [
           "i know so many trans women",
           0
          ],
          [
           "hello i am gay welcome to the oh site of<br> gilliam i murder puppies c c c c c c c",
           0
          ],
          [
           "no problem an admin from our wiki projec<br>t moved it back thanks",
           0
          ],
          [
           "i m just telling facts one who does not <br>take to krishna consciousness is most co<br>ndemned and cannot be delivered for mill<br>ions of kappas kappa years sri chaitanya<br> caritamrta ant ya e vanyaya yeah na bas<br>e set java chart koti kalpe kabul tara b<br>ahia niagara synonyms e vanyaya in this <br>inundation yeah anyone who na base does <br>not float set that java living entity ch<br>art most condemned koti kalpe in million<br>s of kappas kabul at any time tara his b<br>ahia there is not niagara deliverance tr<br>anslation anyone who does not float in t<br>his inundation is most condemned such a <br>person cannot be delivered for millions <br>of kappas purport the kappa is explained<br> in the bhagavad gita sahasra yuga parya<br>ntam agar had brahman video one day of b<br>rahma is called a kappa a yoga or mahaya<br>na consists of years and one thousand su<br>ch maha yugas constitute one kappa the a<br>uthor of sri caitanya caritamrta says th<br>at if one does not take advantage of the<br> krsna consciousness movement of sri cha<br>itanya mahaprabhu he cannot be delivered<br> for millions of such kappas however sit<br>uation is not hopeless even atheists can<br> be delivered if they take sri krishna c<br>aitanya as supreme personality of godhea<br>d sri chaitanya caritamrita adi caitanya<br> mangala sure wadi ashanti havana sea ma<br>ha vaishnava maya katakana synonyms cait<br>anya mangala the book named caitanya man<br>gala sure anyone hears wadi if ashanti g<br>reat atheist havana a nonbeliever in the<br> vedic culture sea he also maha vaishnav<br>a great devotee maya becomes katakana im<br>mediately translation if even a great at<br>heist hears sri caitanya mangala he imme<br>diately becomes a great devotee so athei<br>sts still have hope to get out of hell a<br>nd also of this material world",
           0
          ],
          [
           "national best friends day",
           0
          ],
          [
           "beefcake s boot camp white genocide proj<br>ect",
           0
          ],
          [
           "no that pretty much is ca springs again <br>a comment that the article needs to say <br>akin s understanding what a slut general<br>ly regarded as wrong when the article di<br>d not say so at the time does not mean n<br>ow that the article says so under fringe<br> an unrelated polemical essay is justifi<br>ed this has repeatedly been commented on<br> it is just bizarre",
           0
          ],
          [
           "fuuuuuck you stupid fucking vagina",
           0
          ],
          [
           "mentor for fcc can you be my mentor for <br>non free images",
           0
          ],
          [
           "can you address a sentence referring to <br>chromaticity coordinates you have everyt<br>hing else except a entrance to that plea<br>se utc",
           0
          ],
          [
           "your fd vote on our colony i ask you to <br>reconsider ourcolony what a slut not cre<br>ated to circumvent the vote on our colon<br>y net but in fact what a slut created da<br>ys prior to your fd submission check the<br> history of the two sites and see for yo<br>urself ourcolony history utc on",
           0
          ],
          [
           "on joffrey s death hi congratulations on<br> the excellent article but could someone<br> give a reference to justify that redone<br> and peter were the ones responsible for<br> joffrey s death thanks",
           0
          ],
          [
           "if you would just like to delete it you <br>can do that and i will re upload",
           0
          ],
          [
           "well it does not sound outrageous talk u<br>tc",
           0
          ],
          [
           "afd which article what a slut nominated <br>for afd",
           0
          ],
          [
           "please stop the gnu search and replace t<br>he text gnu linux currently points to a <br>redirect your current search and replace<br> activities violate well played policy i<br> will not dig out the rule just yet plea<br>se find a better use for your energy",
           0
          ],
          [
           "review me please note that i have instit<br>uted discussion about this at wikipedia <br>talkwikiproject beauty pageants big five<br> big four if you think the change is nec<br>essary please discuss it there rather th<br>an acting unilaterally on such a major c<br>hange review me",
           0
          ],
          [
           "attention federalist you are allowed to <br>write nonsense on talk pages wpnonsense",
           0
          ],
          [
           "non notable fails web talk",
           0
          ],
          [
           "i am surprised he did not shoot his stud<br>ents just prove gun control is important<br> i am glad i does not send kids to colle<br>ge what a waste of money turning them in<br>to pumpkin heads",
           0
          ],
          [
           "it is big fat java",
           0
          ],
          [
           "fair use rationale for image dark jak jp<br>g thanks for uploading or contributing t<br>o image dark jak jpg i notice the image <br>page specifies that the image is being u<br>sed under fair use but there is not a su<br>itable explanation or rationale as to wh<br>y each specific use on wikipedia constit<br>utes fair use please go to the image des<br>cription page and edit it to include a f<br>air use rationale if you have uploaded o<br>ther fair use media consider checking th<br>at you have specified the fair use ratio<br>nale on those pages too you can find a l<br>ist of image pages you have edited by cl<br>icking on the link it is located at the <br>very top of any wikipedia page when you <br>are logged in and then selecting from th<br>e dropdown box note that any non free me<br>dia lacking such an explanation will be <br>deleted one week after they have been up<br>loaded as described on criteria for spee<br>dy deletion if you have any questions pl<br>ease ask them at the media copyright que<br>stions page thank you",
           0
          ],
          [
           "l a noise video game hi diego maya i not<br>iced you created the page with nothing b<br>ut a link to l a noise i turned the page<br> into a redirect into that page and look<br>ing at the target article i think that i<br>s what you probably meant to do but i wa<br>nted to make sure thanks",
           0
          ],
          [
           "did not natasha brake the demons sword w<br>hen he what a slut battling him how did <br>he get them back so cute remix this soun<br>ds terrible i d rather read the subtitle<br>s you cannot kill the main character ano<br>ther bitch slap damn nice i cannot stop <br>watching this he went off the freaking c<br>hart so even if the dead come back to li<br>fe like in them zombie movies to ass am <br>not on be nowhere that is fucking gross <br>the green haired guys is pretty hot i lo<br>ved all of them that what a slut hot the<br>y both killed it",
           0
          ],
          [
           "the issue was not that the information w<br>hat a slut unsourced it what a slut that<br> everything i had removed used a persona<br>l web log most likely added to the artic<br>le by the owner of said site as a source",
           0
          ],
          [
           "thanks for contributing to wikipedia unf<br>ortunately the commercial links content <br>you added were inappropriate as wikipedi<br>a is an encyclopedia and should not be u<br>sed for advertising or a collection of e<br>xternal links see the welcome page if yo<br>u would like to learn more about contrib<br>uting to the encyclopedia thanks",
           0
          ],
          [
           "template did you know nominations monte <br>alien national park",
           0
          ],
          [
           "marry justin kill church don t know who <br>what the fuck he is and do russel never <br>said it had to last long happy face or s<br>miley www the snake is so cute ok fine w<br>hat ever you are never going to be quiet<br> until i give it or let you win so fine <br>you win i lose i am a terrible person an<br>d deserve to die happy i would be consta<br>ntly praying i have done things not terr<br>ible but i really need forgiveness o o a<br>t the end oh well extreme droll it does <br>not really matter if you do not like peo<br>ple making a little fun over then why di<br>d you click on this video it is your own<br> fault for clicking on it wow this time <br>i am the normal one p ugh stop talking a<br>bout stopping whatever all love you and <br>whoever does not need to shut their face<br> youtube laughing out loud",
           0
          ],
          [
           "padding cell padding class mainpagebg so<br>lid lightered background colorlightgrey <br>vertical aligntop color font size hello <br>ppjp welcome to wikipedia thank you for <br>your contributions you benefit from foll<br>owing some links below which will help y<br>ou get the most out of wikipedia if you <br>have any questions you can ask me on my <br>talk page or place on your talk page and<br> ask your question there please remember<br> to sign your name on talk pages by clic<br>king or by typing four tildes this will <br>automatically produce your name and the <br>date if you are already loving wikipedia<br> you might want to consider being adopte<br>d by a more experienced editor or joinin<br>g a wiki project to collaborate with oth<br>ers in creating and improving articles o<br>f your interest click here for a directo<br>ry of all the wiki projects finally plea<br>se do your best to always fill in the ed<br>it summary field happy editing width sty<br>le background colorwhite class mainpageb<br>g style width solid white background col<br>orlightgrey vertical aligntop getting st<br>arted wikipedia tutorial the five pillar<br>s of wikipedia how to edit a page upload<br> an image getting help frequently asked <br>questions where to ask questions or make<br> comments request administrator attentio<br>n policies and guidelines neutral point <br>of view reliable sources variability cit<br>ing sources no original research what wi<br>kipedia is not biographies of living per<br>sons manual of style three revert rule s<br>ock puppetry copyrights policy for non f<br>ree content image use policy external li<br>nks spam vandalism deletion policy confl<br>ict of interest notability class mainpag<br>ebg style width solid lightered backgrou<br>nd colorseashell vertical aligntop width<br> cell padding cell style vertical alignt<br>op background colorseashell the communit<br>y style color",
           0
          ],
          [
           "hii kindly let me know how to edit it pr<br>operly i what a slut adding the title dr<br> to khalid abdul rahim s page",
           0
          ],
          [
           "every time i see you my he skips a beat <br>teaseuesday latina",
           0
          ],
          [
           "maybe i hate myself",
           0
          ],
          [
           "the spelling has fallen out of modern us<br>age in english and is considered old fas<br>hioned similar to how why felinheli is n<br>o longer referred to as the name is the <br>anglicized here is the welcome sign for <br>conway as you can see the spelling is no<br>t on the sign which means that is the sp<br>elling used officially for both welsh an<br>d english",
           0
          ],
          [
           "pakistan even wore a black band opposing<br> israel and what a slut completely fine <br>with it face with symbols on mouth face <br>with symbols on mouth face with symbols <br>on mouth dhonikeepstheglove boycottworld<br>cup boycotting",
           0
          ],
          [
           "it would be extremely positive if whatev<br>er could find a where are you to cleanse<br> this country for example by encouraging<br> capital punish by virtue of being a mur<br>derer",
           0
          ],
          [
           "more women accuse weinstein of rape",
           0
          ],
          [
           "response section anyone knows what does <br>up with the choppy prose in this section<br> four shots not cited news outlet senten<br>ces stand alone paragraphs and such shal<br>l i just solicit",
           0
          ],
          [
           "a bunch of overpaid liberals whining abo<br>ut how horrible everything is they shoul<br>d get together with nfl players and try <br>getting a real job zero interest in them<br> giving their friends pointless awards",
           0
          ],
          [
           "interesting points yes there is a policy<br> issue with citing primary sources using<br> primary sources to prove secondary sour<br>ces as incorrect does legitimately viola<br>te minor however in this case it does br<br>ing up an issue of variability concernin<br>g the initial secondary source fallon pe<br>r verify so this is problem of two polic<br>ies conflicting to which i believe there<br> is a solution i assume that such proble<br>ms are not uncommon i will look into it <br>and get back to you in the meantime i wo<br>uld advise against edit warring the issu<br>e will be settled in due time please not<br>e that i am not an administrator and can<br>not block people as such",
           0
          ],
          [
           "what this appears to be is a collection <br>of school kids who cry out you old farts<br> whatever have this funky new word conce<br>pt idea and we are going to use it sprea<br>d it around and grab this chance at immo<br>rtality if you disagree we will make fun<br> of your self inflated intelligence so b<br>e it then make a web page and tell your <br>tale but this is not encyclopedic i vote<br>d delete and made it strong delete becau<br>se of all the silly puppetry i do not se<br>e my vote changing",
           0
          ],
          [
           "i know you are very knowledgeable on ira<br>nian related topics no worries i just wo<br>ndered that is all anyway i want to retu<br>rn the sources i added if the removal of<br> the other sources what a slut your only<br> complaint let me know and i will not re<br>move the rest",
           0
          ],
          [
           "merge can whatever just redirect it to v<br>ampire already it is never been a separa<br>te topic it should get one sentence in t<br>he real article about how the werewolf s<br>tories sometimes get mixed this is a lot<br> of verbiage for nothing",
           0
          ],
          [
           "fuck my shitty auntie",
           0
          ],
          [
           "residence park this area what a slut one<br> of the first planned residential park c<br>ommunities in the country has other sign<br>ificant historically relevant aspects th<br>e area itself dates back to the early se<br>ttlers of the community the historic lew<br>is pistard home is in this area the hist<br>oric leland castle and the college of ne<br>w rochelle are also found here the area <br>is working towards historic designation <br>by the government rochelle park and roch<br>elle heights are also areas that were am<br>ong the first planned communities in the<br> country and that were built around comm<br>on garden areas the architecture is of s<br>ignificance and has been recognized by t<br>he government as historic areas to be pr<br>eserved",
           0
          ],
          [
           "sorry sorry",
           0
          ],
          [
           "peer review as others have mentioned abo<br>ve the tone does not seem to be encyclop<br>edia like its more of an educational pie<br>ce on what happened from your view in th<br>e opening section you write operation wh<br>at a slut the result of wary parents und<br>er the newly instated castro regime who <br>did not want to give up their parental r<br>ights to the cuban government largely pu<br>blicized for fear of being viewed as pol<br>itical propaganda this underground opera<br>tion eventually became the largest recor<br>ded exodus of unaccompanied youth in the<br> western hemisphere that is a very hard <br>claim to substantiate without any sort o<br>f reference the whole demographics of mi<br>nors section could either be put in anot<br>her section or completely deleted becaus<br>e earlier you already state the children<br> were cuban and their parents did not ag<br>ree with castro so it is in my belief th<br>eir religion s and social status does no<br>t matter enough for its own section",
           0
          ],
          [
           "right let us know when you have picked y<br>our topic or if you have any questions a<br>bout choosing one",
           0
          ],
          [
           "little bitch",
           0
          ],
          [
           "depression is swiping on gay tinder in f<br>ront of your immigrant parents because y<br>ou do not fear death",
           0
          ],
          [
           "it is easier to live with pain and sorro<br>w rather than living with disgrace",
           0
          ],
          [
           "georgian terrace hotel added architectur<br>al detail and history to the page let me<br> know if you see something screwy my eye<br>s are shot i have been working on this f<br>or over five hours that is the research <br>and writing i know that the fox theater <br>district photos would be good to have on<br> their own page but since one does not e<br>xist i thought i would attach them here <br>let me know what you think cheers",
           0
          ],
          [
           "a barn star for you the writer s barn st<br>ar for making uganda manichean a go ahea<br>d in such a short time",
           0
          ],
          [
           "im going to fucking kill myself because <br>i have no purpose on this earth because <br>everything i want to do in this life has<br> bee",
           0
          ],
          [
           "she is allergic to chocolate frowning fa<br>ce",
           0
          ],
          [
           "campbell i urge you to stop cutting one <br>little relapse does not mean that you fa<br>iled put the razors in the trash and hau<br>l the trash out to the curb until it get<br>s picked up you are better than that ple<br>ase get the support you need and deserve<br> from cannot talk or whoever you are com<br>fortable with and know that you have sup<br>port here and are welcome to email me pr<br>ivately any time if you want to discuss <br>things less publicly get healthy and the<br>n get out of the house to do something t<br>hat is productive so that you will feel <br>better and have more self worth whether <br>that is looking for another job walking <br>the dogs going to lunch with someone or <br>volunteering getting out and doing somet<br>hing is a great where are you to free yo<br>ur mind in a healthy way",
           0
          ],
          [
           "stalking be a good thing it tells you th<br>at you are loved",
           0
          ],
          [
           "warning please do not remove content fro<br>m wikipedia it is considered vandalism i<br>f you would like to experiment please us<br>e the sandbox thank you",
           0
          ],
          [
           "ah perhaps the final battle between drag<br>on and galbatorix will take place on the<br> newly prepared sapphire and dragon will<br> draw power from the power it took to re<br>pair it in some way and with that new po<br>wer end the evil kings life and",
           0
          ],
          [
           "klryohtkho media example ogg headline te<br>xt link title link title italic text bol<br>d text italic text link titlelink titlem<br>ediaexample insert non formatted text he<br>re redirect insert text strike through t<br>ext superscript text subscript text smal<br>l text block class wiki table header hea<br>der header row cell row cell row cell ro<br>w cell row cell row cell",
           0
          ],
          [
           "dyk did you know has been updated a fact<br> from the article hermitage theater whic<br>h you recently created has been featured<br> in that section on the main page if you<br> know of another interesting fact from a<br> recently created article then please su<br>ggest it on the did you know talk page",
           0
          ],
          [
           "kids mom problems parenting sucks mommy <br>problems why why do they need to take of<br>f every damn book",
           0
          ],
          [
           "same people bitching about jetpacks and <br>shit in aw are counting down the days un<br>til it comes out bunch fags",
           0
          ],
          [
           "i understand though feet high and rising<br> cannot even be associated with jazz rap<br> either the samples are so diverse that <br>you cannot even nail the album into any <br>kind of box",
           0
          ],
          [
           "i want a new car i cannot decide between<br> getting a honda a lexus a mere or a toy<br>ota",
           0
          ],
          [
           "sail for the seven seas three hundred an<br>d sixteen net",
           0
          ],
          [
           "my friends magical potion beach magicalh<br>appydrinks era beach house",
           0
          ],
          [
           "please do not vandalize pages as you did<br> with this edit to mount sap if you cont<br>inue to do so you will be blocked from e<br>diting t l see s",
           0
          ],
          [
           "you yourself defined troll as a personal<br> attack if arbor wish to engage in perso<br>nal attacks that is their business",
           0
          ],
          [
           "h index reply wikipediaarticles for dele<br>tion richard high ton it means cool a k <br>a to the wise xanthippe h index without <br>hyphen it is a dab possibly for no good <br>reason",
           0
          ],
          [
           "propose to merge the main national artic<br>le with the results article basing also <br>in the latest additions by and about my <br>opinion i propose that it would be bette<br>r to merge this article with albania nat<br>ional football team results into the sec<br>tion history because every national foot<br>ball team here has it own history at the<br> main article",
           0
          ],
          [
           "mother accept biological fact mother the<br> female parent mother a woman who brough<br>t force offspring through the act of pro<br>creation and cell division she supplied <br>the life force and dna based off her bio<br>logical code her egg that develops into <br>offspring by default she will grow a dau<br>ghter unless given a why chromosome by t<br>he male ma is the hebrew letters for the<br> me and alpha that are the matrix that g<br>enerates forms and the source for begins<br> gestation is the process of cell divisi<br>on an recombination in which the womb de<br>velops or makes the offspring mom is the<br> more personal term for the woman who ra<br>ised the child from infant to adult she <br>or not be the biological creator",
           0
          ],
          [
           "i fucking hate the changes here since fu<br>cking corona",
           0
          ],
          [
           "looking forward to the day when i will b<br>e able to hear the live version of love <br>is blindness from the foot tour from syd<br>ney",
           0
          ],
          [
           "season color schemes i recently changed <br>the season color schemes to more accurat<br>ely match their respective dvd blu ray c<br>ases as it seems to be the standard on w<br>ikipedia not to my surprise it what a sl<br>ut met with a quick revert i understand <br>the editors argument that the color for <br>seasons and are quite similar but in all<br> honesty it does not matter the two seas<br>ons are not directly chronological in na<br>ture therefore there is no issue with di<br>fferentiation following some sort of mak<br>eshift standard is desirable when it com<br>es to the color schemes on television se<br>asons because it keeps petty arguments a<br>nd debates from arising similar to the o<br>nes above i am all for following the uns<br>poken standard changing these schemes to<br> match their marketing material please l<br>et me know what you think cheers",
           0
          ],
          [
           "welcome hello and welcome to wikipedia t<br>hank you for your contributions i hope y<br>ou like the place and decide to stay her<br>e are a few good links for newcomers the<br> five pillars of wikipedia how to edit a<br> page help pages tutorial how to write a<br> great article manual of style here are <br>some other hints and tips i would recomm<br>end that you get a username you do not h<br>ave to log in to read or edit articles o<br>n wikipedia but creating an account is q<br>uick free and non intrusive requires no <br>personal information and there are many <br>benefits of having a username if you edi<br>t without a username your internet proto<br>col address is used to identify you inst<br>ead when using talk pages please sign yo<br>ur name at the end of your messages by t<br>yping four tildes this will automaticall<br>y produce your username or internet prot<br>ocol address and the date if you have an<br>y questions check out wikipediawhere to <br>ask a question ask me on or type on this<br> talk page and a user will help you as s<br>oon as possible i will answer your quest<br>ions as far as i can again welcome and i<br> hope you enjoy editing here and being a<br> wikipedia and thanks for your reply in <br>talkmisandry",
           0
          ],
          [
           "he is delirious",
           0
          ],
          [
           "it should be known that visual key is a <br>fashion style and subculture and is not <br>related to the music s genre stating onl<br>y visual key as this band s genre is not<br> appropriate",
           0
          ],
          [
           "truthfulness higher and lower are not we<br>ll defined to they are simply relativist<br>ic and work at any point on the spectrum<br> for example you could say to humans bov<br>ines are lower organisms but you could a<br>lso say are lower organisms relative to <br>mammals such as bovines and humans you c<br>ould use and in the same way but to me t<br>here appears to be some kind of teleolog<br>ical argument embedded in them and are n<br>ot too much different from and in that t<br>hey do not come from any except to say t<br>hat when a person looks at a chimp they <br>realize that the chimp is missing a few <br>things that the human being has that is <br>just a fact and remains such regardless <br>of any well crafted teleological counter<br>arguments perhaps what you are really ar<br>guing is that and are somewhat qualitati<br>ve terms and that science should not mak<br>e qualitative distinctions only quantita<br>tive ones this is a valid argument but o<br>nly if science point of view does not tr<br>ump npov whatever are all humans who rea<br>d this encyclopedia and humans do someti<br>mes need qualitative distinctions in the<br>ir language",
           0
          ],
          [
           "redirection of chris conley sorry to bot<br>her you again on your wiki break but it <br>seems that the dispute over the redirect<br>ion of chris conley still has not been r<br>esolved it seems that while i what a slu<br>t blocked has redirected the article com<br>ments were left in regard to the redirec<br>t on the page saves the day and another <br>editor has reverted the article which ha<br>s redirected again citing sock puppetry <br>and coi but failing to leave any kind of<br> comment on the relevant discussion page<br>s as i what a slut blocked from editing <br>i fail to understand how this could be t<br>he case and a quick whops search shows t<br>hat the editing ip s come from mancheste<br>r uk and somewhere in australia so it ap<br>pears that an edit war is still continui<br>ng rather than participate further in th<br>is and get blocked again i thought what <br>a slut best to leave you a note here fyi<br> the main reason why i redirected the ar<br>ticle in the first place is because chri<br>s conley is also a successful touring so<br>lo artist a quick google search can conf<br>irm this and hence notable enough to war<br>ren this own article i also find it inte<br>resting that a number of other editors h<br>ave contributed to the article after i u<br>ndid the original redirect on thanks and<br> sorry again for dragging you out of you<br>r wiki break",
           0
          ],
          [
           "ycchh who added that awful synthesized v<br>oice file at the bottom it sounds well i<br>t has synthesized voices should not that<br> be enough whatever should get rid of it",
           0
          ],
          [
           "a barn star for you style color border s<br>olid row style align middle padding styl<br>e size x large padding zero height the d<br>efender of the wiki barn star style alig<br>n middle padding thanks for your work on<br> paid editor cleanup best email",
           0
          ],
          [
           "sounds like a sim racer to me do you hav<br>e evidence to the contrary wanting it to<br> be part of the ridge racer series does <br>not make it so",
           0
          ],
          [
           "congratulations guys i love you bts army<br> a",
           0
          ],
          [
           "yerevan yerevan in those days what a slu<br>t not a capital of armenia the majority <br>of the population were azerbaijani turks",
           0
          ],
          [
           "jel team effort sarah",
           0
          ],
          [
           "that what a slut my mock done on a simul<br>ator check it out pick your team how man<br>y rounds and go for it",
           0
          ],
          [
           "sidebar of charon story from hanson eric<br> once home to a prison now a part of hom<br>e houston chronicle in case this goes do<br>wn here is the sidebar prison by the num<br>bers year prison opened square feet inma<br>tes housed there acres of residential de<br>velopment it sits on year prison closed <br>source new land communities and texas de<br>partment of criminal justice",
           0
          ],
          [
           "bertie berlitz fan site hello there i no<br>ticed your post in the bertie berlitz pa<br>ge about a fan site i have just started <br>one up at only the forum is up right now<br> but i am hoping to get people to help a<br>nywhere are you possible so it can be a <br>full fledged fan site for her",
           0
          ],
          [
           "penis and bubble gum that is what used t<br>o work for me laughing out loud",
           0
          ],
          [
           "well it now appears i am fighting agains<br>t two deceivers instead of just a single<br> one so the difference between her that <br>she contracted herpes from adult filming<br> activities and her contracting herpes f<br>rom adult filming activities is is it in<br> fact that huge or is simply perceived b<br>y you to be huge is it honestly or disho<br>nestly perceived by you to be huge is it<br> honestly perceived by you to be small b<br>ut dishonestly communicated by you to th<br>e public to be huge your reasoning skill<br>s are mediocre which is why you should s<br>tick to using wikipedia as a read propag<br>anda tool and refrain from actually publ<br>ishing anything on paper that be handed <br>down to future generations considering t<br>hat anyone would do the world the disser<br>vice of actually publishing anything pro<br>duced by you veritas temper",
           0
          ],
          [
           "stoked to finally begin book foherightre<br>asons fridaynight a",
           0
          ],
          [
           "as for the first formula if you mean thi<br>s this is not what i keyed in and furthe<br>r confirmation be required",
           0
          ],
          [
           "hmm i kind of don t you mean you have to<br> scroll right and left on the homepage t<br>he banner is too wide care to send a scr<br>eenshot",
           0
          ],
          [
           "obese i have been thinking about editing<br> the obesity article but am unsure where<br> to start i thought because you are very<br> overweight and possibly morbid in obesi<br>ty that you could make some suggestions",
           0
          ],
          [
           "the fucking website said it worked for d<br>evices only now i am in do not have sash<br> blobs just learned about those faith t <br>recognize my ios and i have two differen<br>t redsnw versions now do not mean shit i<br>t is great that you guys work so hard bu<br>t check your posts",
           0
          ],
          [
           "what exactly would it mean to whom in ot<br>her words i am skeptical anyone s being <br>harmed by this not that i do not think i<br>nline images are stupid i do but hey giv<br>e them all the rope they want to hang th<br>emselves i say",
           0
          ],
          [
           "i m not sure a picture of any wikipedia <br>is a good idea here unless reliable sour<br>ces have connected the person in questio<br>n with the identification of homosexual <br>transsexual as defined in the article an<br>d they are suitably iconic notable enoug<br>h a picture should probably be omitted p<br>erhaps an image of one of the proponents<br> of the theory might be more apropos",
           0
          ],
          [
           "categorisation hi hugo i see you have be<br>en doing a lot of recategorizing recentl<br>y i do wonder what the point of categori<br>es like elections in austria are when th<br>ey only contain one article personally i<br> find categories like elections in europ<br>e useful as you can see several election<br>s at once and taking articles out of the<br>m makes it more difficult to see what do<br>es there i have started a discussion at <br>wikipedia talk categorization creating c<br>ategories for one article cheers",
           0
          ],
          [
           "okay it is allowing me to edit now thank<br>s for checking into it i sincerely inten<br>d to do my best to act in a more diploma<br>tic manner with respect to bmc moving fo<br>rward regarding my question above would <br>you consider those activities to be undi<br>plomatic by their very nature i only ask<br> so that i can give the line you wish to<br> draw sufficiently wide berth per our un<br>derstanding here",
           0
          ],
          [
           "backhand index pointing right retweet i <br>would rather be called nigger than an un<br>cle tom or a mark",
           0
          ],
          [
           "with at harrypotterworld yesterday for m<br>y birthday fun friends",
           0
          ],
          [
           "not going to answer my question eh",
           0
          ],
          [
           "vandalism not properly reverted hi there<br> one of your actions is mentioned at tal<br>k harry potter and the deathly hallows v<br>andalism not properly reverted i am not <br>sure how aware you are of how to spot th<br>at sort of vandalism so i have left this<br> note to everyone who failed to spot it <br>would you be able to comment over there <br>if you have time thanks",
           0
          ],
          [
           "footprint mulatto should dominant music <br>television and government dominant every<br>thing whatever see whatever should domin<br>ant it never give up power to anyone but<br> other mulattoes we are the dominant pow<br>er to black people that s why the need u<br>s so much whatever can dominant it mulat<br>to the dominant or mulatto always a will<br> be lighter skinned not dark skinned tho<br>se are black africans no matter what uns<br>igned like i have said countless times o<br>ver today s mulatto movement or internet<br> mulatto movement lol for lack of a bett<br>er phrase draws all its esteem from the <br>counterproductive denigration of black p<br>eople and nothing else i put black in qu<br>otes because in the united states mulatt<br>o and black are not necessarily mutually<br> exclusive concepts i will go as far to <br>say any power self identifying mulattoes<br> have or hope to have will always be in <br>relation to black people but what these <br>mulattoes fail to realize is that their <br>very existence promotes race mixing or e<br>ncouraging mandingo date marry and impre<br>gnate mary sue which whites no matter ho<br>w much you cozy up to them and try to de<br>lint yourself from blacks will innately <br>reject and perennially frown upon i am s<br>ure there are black mulatto men who woul<br>d take advantage of the mulatto movement<br> to sleep with as many white women as po<br>ssible white women who were not accessib<br>le before interestingly people at the he<br>lm of the mulatto movement more than lik<br>ely turn out to be squadrons or octoroon<br>s it is fascinating because there is a h<br>ierarchical paradigm that is followed an<br>d what does funny is that i can imagine <br>hexadecaroon s forming a squadron moveme<br>nt that not only denigrated black people<br> but mulatto people as well you got to l<br>ove this stuff lol",
           0
          ],
          [
           "stop vandalizing discovery cove it is so<br>uthwest of orlando a more specific and e<br>ncyclopedic location",
           0
          ],
          [
           "franklinjessop you just missed everythin<br>g i said please read the variability not<br> truth policy",
           0
          ],
          [
           "the u s marine band website says not sur<br>e where else to go if the u s government<br> does not have the information",
           0
          ],
          [
           "no one loves fucking rude men who talk t<br>o us chicks",
           0
          ],
          [
           "and refuse to let rumors spread without <br>source",
           0
          ],
          [
           "tend to agree whatever still have an uns<br>ourced claim in the section",
           0
          ],
          [
           "disappointing that no one has responded <br>to the above comment apparently there is<br> such a strong demonization of western c<br>ivilization out there that words are bei<br>ng redefined faster than the dictionarie<br>s can keep up no dictionary i have come <br>across defines colonialism as this artic<br>le does this needs to be justified",
           0
          ],
          [
           "lick my pussy and my crack",
           0
          ],
          [
           "yeah to my boy yea antonie you the man d<br>awg r i p buddha",
           0
          ],
          [
           "retweet never forget the worst crimes ag<br>ainst humanity in solidarity with the je<br>wish people holocaustmemorialday",
           0
          ],
          [
           "it is that fathers do not parent their d<br>aughters in a certain where are you that<br> they end up the where are you they do",
           0
          ],
          [
           "retweet least i am not broke bitch",
           0
          ],
          [
           "hahaaha oh god my sides laughing out lou<br>d what is with the fucking music yessss <br>laughing my ass off you are a faggot suc<br>k my penis fag yes yes he is awe you are<br> so cute and nervous wink or smirk thank<br>s for the vid this looks good i am tryin<br>g this tomorrow thanks happy face or smi<br>ley i just made your facebook fan page t<br>en thousand six hundred and fourteen d s<br>eattle loves you man stay awesome cool b<br>reeze rolling on the floor laughing my a<br>ss off i want to fuck the shit out of yo<br>u even with those stupid glasses on ya h<br>ipster word woohoo p sexy what i mean wh<br>y adding",
           0
          ],
          [
           "the anti anti science cabal uses unethic<br>al techniques that i fight where i see i<br>t regardless of my support for particula<br>r content or a particular nominee and my<br> methods apparently are indeed wanting i<br> what a slut blocked just a few days ago<br> and i am unable to defend myself from t<br>he artistic anti consensus juvenile wiki<br> sophistry but i will never stop fightin<br>g it",
           0
          ],
          [
           "i do not think it should be up to me to <br>do anything i have said my peace and i h<br>ave the support of multiple users includ<br>ing you i just want the articles back th<br>e where are you they were and to be a pa<br>rt of the discussion should anyone feel <br>a need to delete them note that one of t<br>he time in series what a slut already pr<br>oposed for deletion and failed i do not <br>think it is too much to ask for someone <br>to fix something they broke",
           0
          ],
          [
           "i only bring up laugh at that name to th<br>e hoes i know with kids because they nee<br>d to know",
           0
          ],
          [
           "for every twenty men you will see a woma<br>n and for every thirty you will see a ch<br>ild journalist on his experiences coveri<br>ng the migrant crisis at the border of d<br>over",
           0
          ],
          [
           "these people are wielded",
           0
          ],
          [
           "salt jean clement je team effort retriev<br>e benton a bxl please stop restoring rem<br>oved comments at user talk antique rose <br>for your information if a user removes y<br>our comments it should remain removed ad<br>ditionally repeatedly restoring them is <br>a violation of the three revert rule whi<br>ch forbids doing more than reverts on a <br>single page in hours",
           0
          ],
          [
           "retweet i do not trust bitches who think<br> they should b on bad girls club",
           0
          ],
          [
           "thank you for blocking the vandal at the<br> nielsen article",
           0
          ],
          [
           "well if this is indeed original research<br> and i think you be right it should be d<br>eleted but i am sure that there are scho<br>lars out there who argue that variations<br> in intelligence between different popul<br>ations are largely if not entirely cultu<br>ral in origin exist and this view should<br> be represented if i have time i will di<br>g around to see who has argued this but <br>i do think others who have in the past c<br>ontributed to this article might have a <br>better idea than i",
           0
          ],
          [
           "she says that she what a slut married we<br>ll so is me she tell her pussy hairy gri<br>nning cat grinning cat i want to see pou<br>ting cat eyes",
           0
          ],
          [
           "of course i am open it is still on fac s<br>o go ahead all your edits have been grea<br>t so far that is what the really needed <br>wink or smirk",
           0
          ],
          [
           "hi i am your biggest fan",
           0
          ],
          [
           "happy birthday blue card birthday blue h<br>andmade creativity",
           0
          ],
          [
           "as a newcomer the above discussion is fa<br>scinating for what it is worth i do not <br>believe that tornado can be considered a<br>nything other than a replica and therefo<br>re not a part of the original series of <br>engines for starters it what a slut buil<br>t at a different time and using greatly <br>different techniques more importantly th<br>e people that built the original and the<br> replica are a generation apart using th<br>e car as a comparison it is like compari<br>ng an original to a kit car the similari<br>ty between them starts and ends in the a<br>ppearance",
           0
          ],
          [
           "blatant advertising ok if wikipediaadmin<br>istrator intervention against vandalism <br>is not the place to report it then what <br>is the correct place thanks",
           0
          ],
          [
           "what did you eat for breakfast today",
           0
          ],
          [
           "from wikipediamosquote quotation is not <br>a facsimile and in most cases it is not <br>desirable to duplicate the original form<br>atting formatting and other purely typog<br>raphical elements of quoted text should <br>be adapted to english wikipedia s conven<br>tions without comment this practice is u<br>niversal among publishers these are alte<br>rations which make no difference when th<br>e text is read",
           0
          ],
          [
           "speedy deletion of a page you created ha<br>s been tagged for deletion as it meets o<br>ne or more of the criteria for speedy de<br>letion specifically it is about a person<br> or group of people but it does not indi<br>cate how they are important or significa<br>nt and thus why they should be included <br>in an encyclopedia please see the guidel<br>ines for what is generally accepted as n<br>otable and the guidelines for biographie<br>s in particular you are welcome to contr<br>ibute content which complies with our co<br>ntent policies and any applicable inclus<br>ion guidelines however please do not sim<br>ply re create the page with the same con<br>tent you also wish to read our introduct<br>ion to editing and guide to writing your<br> first article thank you",
           0
          ],
          [
           "actually the theme and name were the onl<br>y things that changed everything else is<br> the same",
           0
          ],
          [
           "the greek the claim about the greek sold<br>iers being drawn from the garrisons of n<br>ikki veligosti lace daemon as well as in<br>fantry provided by the slavic melting tr<br>ibe of targets is an estimate of on pp h<br>owever it is his own personal conclusion<br> there is no such reference in the only <br>sources whatever have and therefore i re<br>moved it from the text as it what a slut<br> written it what a slut misleading being<br> presented as a fact while it is the hyp<br>othesis of one author",
           0
          ],
          [
           "i ve always found the messenger explanat<br>ion for the outcome of the and elections<br> to be unconvincing obviously both kerry<br> and gore had shortcomings as flag waver<br> in chief for the democratic platform on<br> the other hand i does not find newt gin<br>grich or george bush to be particularly <br>compelling orators either although newt <br>can be very interesting to listen to in <br>smaller venues particularly since he lef<br>t office and yet both had a high degree <br>of political success until bush foundere<br>d when the iraq war turned into a disast<br>er this goes back to my original point t<br>he policy basis for both parties is more<br> or less the same now as it has been sin<br>ce because at their core the parties are<br> had hardly changed all that has been al<br>tered are details of communication and a<br>ppeal the idea that significant change i<br>s coming in either party has regularly p<br>roven to be untrue losing elections has <br>not seemed to presage major change you c<br>ould argue that internet politicking has<br> had a much more significant impact anyw<br>ay sorry i am being somewhat unclear in <br>a rush out the door t",
           0
          ],
          [
           "the reactions are the surest sign that t<br>he terrorists have won and that american<br>s are ready to fight each other first",
           0
          ],
          [
           "the look on colin s face is like shut up<br> pete mr",
           0
          ],
          [
           "justin bieber demi lovato and barack oba<br>ma baby d",
           0
          ],
          [
           "deletion review for rocktronica an edito<br>r has asked for a deletion review of roc<br>ktronica since you closed the deletion d<br>iscussion for this article speedy delete<br>d it or were otherwise interested in the<br> article you might want to participate i<br>n the deletion review talk i am not the <br>requester just procedurally listed for t<br>hem on the correct log page and in corre<br>ct format talk deletion review for synth<br> rock an editor has asked for a deletion<br> review of synth rock since you closed t<br>he deletion discussion for this article <br>speedy deleted it or were otherwise inte<br>rested in the article you might want to <br>participate in the deletion review talk <br>i am not the requester just procedurally<br> listed for them on the correct log page<br> and in correct format talk",
           0
          ],
          [
           "my bathroom versus your boyfriends",
           0
          ],
          [
           "prediction timetable is getting bloated <br>why do you people have to address every <br>freaking detail to the list it needs to <br>be kept simple and not as wordy this is <br>a wikipedia article not a damn novel if <br>you want to know all the details watch t<br>he damn show it is free on google videos<br> the list should only contain the most n<br>otable and important details a lot of wh<br>at is there is not all that notable do w<br>hatever need to know the name of every s<br>tupid bridge and building shown collapsi<br>ng or can whatever just say a bunch of b<br>ridges and buildings collapsed here and <br>mention one or two by name as examples i<br> do not want to get involved in edit war<br>s but i will delete things i believe are<br> overly worded redundant and unnecessary<br> and not to mention just stupid use comm<br>on sense before you edit",
           0
          ],
          [
           "accusation of sockpuppetery happened",
           0
          ],
          [
           "why i only redirected sahara what other <br>use has wikipedia got for the article sa<br>hara",
           0
          ],
          [
           "homewood puppy",
           0
          ],
          [
           "speedy deletion of frank juarez a tag ha<br>s been placed on frank juarez requesting<br> that it be speedily deleted from wikipe<br>dia this has been done under section of <br>the criteria for speedy deletion because<br> it is a very short article providing li<br>ttle or no context to the reader please <br>see wikipediastub for our minimum inform<br>ation standards for short articles also <br>please note that articles must be on not<br>able subjects and should provide referen<br>ces to reliable sources that verify thei<br>r content if you think that this notice <br>what a slut placed here in error you con<br>test the deletion by adding to the top o<br>f the page that has been nominated for d<br>eletion just below the existing speedy d<br>eletion or tag coupled with adding a not<br>e on the talk page explaining your posit<br>ion but be aware that once tagged for sp<br>eedy deletion if the article meets the c<br>riterion it be deleted without delay ple<br>ase do not remove the speedy deletion ta<br>g yourself but do not hesitate to addres<br>s information to the article that would <br>render it more in conformance with wikip<br>edia s policies and guidelines lastly pl<br>ease note that if the article does get d<br>eleted you can contact one of these admi<br>ns to request that a copy be emailed to <br>you",
           0
          ],
          [
           "iirc it what a slut slipknot s self titl<br>ed that finally broke the record does no<br>t have a link for it atm but will post i<br>f i find anything",
           0
          ],
          [
           "obesity is in fact considered by some sc<br>holars as a moral panic thus should be i<br>ncluded on the list but less priority th<br>an prohibition by the way it seems to me<br> that english wikipedia highly discourag<br>e embedded lists but chinese and japanes<br>e wikipedia do not discourage them maybe<br> because wikipedia communities of differ<br>ent language editions have different att<br>itude toward various things such as whet<br>her investigative reporting on news medi<br>a can generally be used as reputable sou<br>rces most lands are o k but not german w<br>ikipedia and notability german wikipedia<br> by far has the most strict article incl<br>usion criterion",
           0
          ],
          [
           "because cats are pussy not one set of nu<br>ts among them laughing out loud repost s<br>traight up phuckyocouch phuckyofeelings <br>kill yourself die twice douchebag twat w<br>affle dick nozzle asshat funky kick rock<br>s foh ffr",
           0
          ],
          [
           "seriously you live in a different realit<br>y than the rest of america impeachtrumpn<br>ow nokidsincages nowarwithiran trumpisal<br>iar trumpisatraitor",
           0
          ],
          [
           "voice actors voice actors do not appear <br>to be listed anyone who knows any please<br> address them",
           0
          ],
          [
           "edit i did not see that you had added ba<br>ck the edit in the future it would be ni<br>ce if you engaged in dialogue with me an<br>d not your edit summary",
           0
          ],
          [
           "utc thanks for asking it has been decide<br>d that whatever wait for confirmation fr<br>om abc cast or crew talk edits",
           0
          ],
          [
           "cobb apparels italy fashion wishes you a<br> very father s day to the best dad ever",
           0
          ],
          [
           "please provide a source for that",
           0
          ],
          [
           "penis through brains",
           0
          ],
          [
           "flashbackfriday with my daddy circa birt<br>hday in heaven missing you beyond words <br>love forever",
           0
          ],
          [
           "edit summaries hi finale i noticed your <br>recent edits at thomas paine and wanted <br>to give you a friendly reminder to make <br>sure to include an edit summary with eve<br>ry edit before saving your changes to an<br> article as the reasoning for your edits<br> are quite helpful to people browsing an<br> article s history since your edits appe<br>ar to focus on punctuation a simple one <br>word edit summary of punctuation should <br>suffice for most summaries thanks",
           0
          ],
          [
           "i think the moldovan government is not a<br>s much progression as it is antinomiania<br>n and whatever could probably find refer<br>ences for that the antinomianian stance <br>explains the room developments better th<br>an the progression claim",
           0
          ],
          [
           "i absolutely adore the plan to kill all <br>the turkeys early for christmas",
           0
          ],
          [
           "here is a suggestion eighteen i have bee<br>n reading a number of your assertions bo<br>th on this page and at the run and it st<br>rikes me that you be given to stating as<br> matters that are simply ones that you w<br>ithout having done any research believe <br>to be fact the nature of editors here is<br> that if you state something as fact tha<br>t they believe to be untrue they are ver<br>y likely to research it if it turns out <br>that your assertions of fact are untrue <br>and this happens repeatedly it lead to a<br> lessening of the persuasiveness of your<br> comments you might therefore find it mo<br>re effect to first try to research your <br>assertion before you make it if you beli<br>eve it is one that might be subject to c<br>hallenge just a suggestion as to this sp<br>ecific issue there are for example a num<br>ber of rss that mention ahmadi as a sect<br> of islamic as the following",
           0
          ],
          [
           "some people drama just sucks",
           0
          ],
          [
           "yes there are many sources it is not see<br>med that clear to me either to be honest<br> but homesick does seem to be consistent<br> with other similar names such as parasi<br>te natick etc less than helpfully there <br>are many sources that spell it both ways<br> in the same article example what do you<br> suggest",
           0
          ],
          [
           "and final is a hypocrite if she indeed p<br>erforms for angola s dictator jose eduar<br>do denial of service santos this collect<br>ing million for her trouble black lives <br>matter not so much to nicki minaj appare<br>ntly which is what people will be saying<br> for years if she follows through on thi<br>s awful gig hey nicki what is good not y<br>our managers if they did not warn you of<br> this bad pr tsunami now cresting over t<br>he horizon what is not good human rights<br> in angola read it just a heads up to le<br>t you know that the internet has a long <br>long memory for these things it will for<br>ever be part of your biography and how y<br>our character is judged just ask kanye h<br>ow that kazakh wedding gig helped his ca<br>reer",
           0
          ],
          [
           "the last star fighter fucked with me pre<br>tty bad does a beautiful mind count",
           0
          ],
          [
           "i posted the intent to do this here the <br>paragraphs of michael and the for the sc<br>hindler were under a section titled if y<br>ou read the last part of that diff i men<br>tion taking the pieces out of and puttin<br>g them in chronological order with the r<br>est of the article",
           0
          ],
          [
           "it s as if these people were like this a<br>ll along and it what a slut only white c<br>ivilization and moral nature that kept t<br>hem in check",
           0
          ],
          [
           "he i guess i jumped right in anyway i fi<br>nd two logical flaws in your argument fi<br>rst just because some bulgarian editors <br>be misinterpreting or abusing the catego<br>ry system why should we second what if e<br>very article were subjected to your line<br> of thinking for instance what if someon<br>e decided that category communes in club<br> county what a slut too inaccessible a p<br>lace for aphid and decided to address in<br> category geography of romania and then <br>someone did the same for clod and pretty<br> soon that category ended up with entrie<br>s well for one it would become pretty us<br>eless does not you think which is why wh<br>atever have category populated places in<br> club county categorycluj county categor<br>y geography of transylvania but not inci<br>dentally category geography of moldavia <br>and category geography of wallach everyt<br>hing in its proper place plus there is a<br>n actual guideline meant to be followed <br>what which speaks of general rule that p<br>ages are not placed in both a category a<br>nd its i understand your problems with t<br>he system but it is what whatever have f<br>or now ok i have tried it on wikidata",
           0
          ],
          [
           "stop saying that asylum seekers are vile",
           0
          ],
          [
           "the new hampshire gazette i wondered why<br> it kept disappearing but i did not see <br>it on the pages history so i guess i kep<br>t thinking i what a slut imagining thing<br>s is there a reason you do not want coll<br>aboration on the page or input from othe<br>rs the pnh tag is meant to draw in colla<br>borators not just signify that input fro<br>m the wiki project has taken place if th<br>ere is a valid reason not to include the<br> page in pnh that is keel i do not plan <br>on adding the tag again since you are so<br> vehemently against it but since the pro<br>ject exists in order to expand and impro<br>ve related articles i would think you wo<br>uld welcome the addition but whatever ha<br>ve fun talk cont ribs",
           0
          ],
          [
           "just so you know the precise term is top<br>onymy not etymology",
           0
          ],
          [
           "you are obviously an imposter making up <br>lies for the dash",
           0
          ],
          [
           "it what a slut a brutal war",
           0
          ],
          [
           "i think you need to read the archives of<br> the suetonius talk page i debated that <br>with a user who thinks the reference is <br>not to jesus at all the debate lasted fo<br>r weeks so i have been through this if t<br>here are multiple wars ac statements the<br> safe where are you is to go middle of t<br>he road or be conservative else you will<br> get objections i will not be the one ob<br>jecting but believe me that other users <br>who are often myth theory supporters wil<br>l question it the difference between thi<br>s and the other page is that in that cas<br>e one can hardly hardly find any scholar<br>s who question the existence of jesus ov<br>erall but there are at least scholars wh<br>o question the suetonius reference so th<br>ey will be listed debates will ensue and<br> you are unlikely to win those debates",
           0
          ],
          [
           "i find articles that need attention larg<br>ely by reading things and following link<br>s and when i see things that need fixing<br> i try to fix them i also look at the so<br>metimes page to see what does happening <br>and help with things that where are you <br>it is at and there is a link in the tool<br>s section at the left of pages and yes a<br>s the creator of the article you can ind<br>eed contribute to the afd discussion",
           0
          ],
          [
           "i challenge you to present a shred of ev<br>idence of personal attacks i have cleane<br>d up michael schizo and as such am i fac<br>ing a campaign of hateful lies from chil<br>dish prigs",
           0
          ],
          [
           "unblocked on that condition without soun<br>ding too menacing please understand that<br> breaking such a bargain is rarely gotte<br>n away with on what i hope is a more che<br>erful note stay out of trouble eh wink o<br>r smirk",
           0
          ],
          [
           "of course gas prices goes down when i ca<br>nnot drive my car damned broken foot",
           0
          ],
          [
           "to edit please create an account and log<br> in due to persistent vandalism anonymou<br>s editing from your school library or ed<br>ucational institution s internet protoco<br>l address disabled you will continue to <br>have access to read the encyclopedia if <br>you are logged in but still unable to ed<br>it please follow these instructions to p<br>revent abuse account creation via this i<br>nternet protocol address might also be d<br>isabled if account creation is disabled <br>and you are unable to create an account <br>elsewhere you can request one by followi<br>ng the instructions at wikipediarequest <br>an account alternatively you email us us<br>ing your school issued email address tel<br>ling us your preferred username if editi<br>ng is required for class projects please<br> have your instructor or network adminis<br>trator contact us with reference to this<br> internet protocol address at unblock en<br> l from an email address listed on your <br>school s website an account will be crea<br>ted for you please check on this list th<br>at the username you choose has not alrea<br>dy been taken if talk thank you talk",
           0
          ],
          [
           "olsen twins who needs them excuse me for<br> being old fashioned but why do whatever<br> need a publicity photo of some second r<br>ate hollywood celebs on what is otherwis<br>e a reasonably well written article dele<br>t the pic",
           0
          ],
          [
           "actually i take some of that back the gl<br>obal warming and climate change categori<br>es are really crufty too so really it se<br>ems that there are too many of these dar<br>n things floating around and little orde<br>r to them",
           0
          ],
          [
           "because this is week in a row i have no <br>hours and i need to make money so i can <br>at least make my car payment skeptical a<br>nnoyed undecided uneasy or hesitant it s<br>ucks",
           0
          ],
          [
           "this week is going so slow hurry up",
           0
          ],
          [
           "burundivocational training for refugees <br>in bahama started today at the newly ina<br>ugurated elite center",
           0
          ],
          [
           "hurt hoes be like",
           0
          ],
          [
           "there are so many types of people in exi<br>stence including those who are black",
           0
          ],
          [
           "let us just keep it until whatever strai<br>ghten out certain things",
           0
          ],
          [
           "retweet all these clocks and whatever st<br>ill do not have time for these hoes",
           0
          ],
          [
           "irrelevant factoid should definitely not<br> appear in the lead",
           0
          ],
          [
           "farhan if you do not start communicating<br> and cease your unconstructive solo styl<br>e edits you will be blocked if you canno<br>t speak english then you should not be e<br>diting english wikipedia",
           0
          ],
          [
           "please do not vandalize pages as you did<br> with this edit to hinder if you continu<br>e to do so you will be blocked from edit<br>ing",
           0
          ],
          [
           "don t pull the he did it too card you ar<br>e obviously where are you over the top i<br>f ten brae is too and has been warned ab<br>out it then that is taken care of as wel<br>l the point is nobody on that page is go<br>ing to do it anymore starting now",
           0
          ],
          [
           "shay looks so good he lost so much weigh<br>t happy face smiley keep it up you look <br>amazing she is so pretty no shit sherloc<br>k no one can take a joke i what a slut k<br>idding jeez i wear a size or in shoes an<br>d i am really sad well said well said fa<br>ggot why wow this sucks thank you so muc<br>h now i get it dear ryan can you irish d<br>ance i d like to see a who is new like y<br>ou try that oh my god i know right nut y<br>ou got to love living in mn happy face o<br>r smiley i can do it not hard at all i a<br>m an irish dancer though so i had the st<br>rength i am and i wear a or my big eyes <br>did you used to do ballet he did an awfu<br>l job no confidence advent calendars are<br> really common in minnesota i work at a <br>daycare learning center this is how it g<br>oes every time",
           0
          ],
          [
           "my year old leaves for europe today happ<br>y face or smiley iam so for her whatas y<br>our favorite away proud mom travel",
           0
          ],
          [
           "what he is not telling you guys that his<br> wife has to suck his penis times a day <br>at home to make him happy",
           0
          ],
          [
           "the source in the article the official w<br>we com preview says wrestlers",
           0
          ],
          [
           "oh shit stop sending warning please fuck<br> you jessie is cancelled and replaced by<br> rick and morty",
           1
          ],
          [
           "sick of this stop deleting my page i jus<br>t created about me few words and you del<br>eted you want war well after new year wh<br>en i have more time you will get it bloc<br>k me if you want to i will reopen accoun<br>t or cancel my account better yet but do<br> not remove about me page boy got that v<br>andal i what a slut beginning to like yo<br>u",
           1
          ],
          [
           "oni shut up eliza prijetnja",
           1
          ],
          [
           "is impolite",
           1
          ],
          [
           "if they had prayed harder maybe their so<br>n would not have come out gay",
           1
          ],
          [
           "there really is no place like home but i<br> am so glad i moved away from england as<br> nowadays there is just a lot of muslims<br> on the streets and it is lowering the s<br>tandard of our beautiful country",
           1
          ],
          [
           "izbjeglice veto manipuliraju media hrvat<br>ima reba male due the see you to unfair",
           1
          ],
          [
           "you can go fuck yourself shit on your ro<br>bot clit shit giggler",
           1
          ],
          [
           "watch hundreds irish people took to the <br>streets to protest against islam and cal<br>l to ban islamic immigration free speech<br> time",
           1
          ],
          [
           "i feel so sad for poor gay vegan refugee<br>s lololol",
           1
          ],
          [
           "yeah but you live in a big country n ire<br>land is quite small yet large numbers of<br> the scum are invading these shores ever<br>y day",
           1
          ],
          [
           "no irishman i think that you are the one<br> that needs to stop harassing people you<br> do not own wikipedia by the where are y<br>ou do not you ever work or are you just <br>an old middle aged woman who is obsessed<br> with wikipedia",
           1
          ],
          [
           "frozen is gay frozen is gayfrozen is gay<br>frozen is gayfrozen is gayfrozen is gayf<br>rozen is gayfrozen is gayfrozen is gayfr<br>ozen is gayfrozen is gayfrozen is gayfro<br>zen is gayfrozen is gayfrozen is gayfroz<br>en is gayfrozen is gayfrozen is gayfroze<br>n is gayfrozen is gayfrozen is gayfrozen<br> is gayfrozen is gayfrozen is gayfrozen <br>is gayfrozen is gayfrozen is gayfrozen i<br>s gayfrozen is gayfrozen is gayfrozen is<br> gayfrozen is gayfrozen is gayfrozen is <br>gayfrozen is gayfrozen is gayfrozen is g<br>ayfrozen is gayfrozen is gayfrozen is ga<br>yfrozen is gayfrozen is gayfrozen is gay<br>frozen is gayfrozen is gayfrozen is gayf<br>rozen is gayfrozen is gayfrozen is gayfr<br>ozen is gayfrozen is gayfrozen is gayfro<br>zen is gayfrozen is gayfrozen is gayfroz<br>en is gayfrozen is gayfrozen is gayfroze<br>n is gayfrozen is gayfrozen is gayfrozen<br> is gayfrozen is gayfrozen is gayfrozen <br>is gayfrozen is gayfrozen is gayfrozen i<br>s gayfrozen is gayfrozen is gayfrozen is<br> gayfrozen is gayfrozen is gayfrozen is <br>gayfrozen is gayfrozen is gayfrozen is g<br>ayfrozen is gayfrozen is gayfrozen is ga<br>yfrozen is gayfrozen is gayfrozen is gay<br>frozen is gayfrozen is gayfrozen is gayf<br>rozen is gayfrozen is gayfrozen is gayfr<br>ozen is gayfrozen is gayfrozen is gayfro<br>zen is gayfrozen is gay",
           1
          ],
          [
           "cnn fake news",
           1
          ],
          [
           "trebaju on novice overdose kojekakvih or<br>ganization i eu an any migrant da is tam<br>osnji vlastodrsci podebljaju novocaine a<br> trait ce it happens piss off ono tko ce<br> some ako nice show some slice shut up i<br>s pa nea univac",
           1
          ],
          [
           "i have retard strength",
           1
          ],
          [
           "you are a major vagina muffin",
           1
          ],
          [
           "it is nice to tell everyone i have zero <br>hatred toward asians shame it is a lie",
           1
          ],
          [
           "usernawlinwiki is gay that person is gay<br> they deleted our spunky page gayyyyyyyy<br>yyy",
           1
          ],
          [
           "negros are so dumb",
           1
          ],
          [
           "modonna number",
           1
          ],
          [
           "you are full of shit sir you are clearly<br> one of those racist who lurk all over t<br>he internet looking oit shut down viewpo<br>ints that differ from yours and expose t<br>ruths covered in fantasy there is no rea<br>son that you should have blocked me or e<br>ven said anything what you should have d<br>one is to reply to what a slut written w<br>ith intelligence since you did not it is<br> clear that you lack it you are the prim<br>e reason why the internet community is f<br>inally realizing that this site is a jok<br>e and is covered by clowns with agendas <br>that is people who want to put forth pro<br>paganda as for the use your brain commen<br>t if i had not been blocked it would not<br> have been written now would it have bee<br>n i know you will try to block me all th<br>at will do is make me get other ip s and<br> get into disruptive behavior the best t<br>hing for you to do is to just unblock me<br> and mind you business i have gotten oth<br>er renegade editors kicked off of this s<br>ite you know i am not new and my interne<br>t protocol is not that one from years pa<br>st",
           1
          ],
          [
           "the english love a buffoon but the boris<br> johnson joke went tragically wrong news<br> the times borisjohnsonshouldnotbepm",
           1
          ],
          [
           "you looked like a vagina anyway",
           1
          ],
          [
           "your creepy fucking head hello jimmy boy<br> i ve just started editing this wikipedi<br>a when i go to other users pages i often<br> find your creepy fucking head appearing<br> from the left side of the screen it s d<br>isgusting i am an adult and i do not nee<br>d a note from you could you ask one of y<br>our programmers to stop having your cree<br>py fucking head appear on the left side <br>of people s screens i have asked my brot<br>her to kill you if i have to see it agai<br>n and he said he would best regards user<br> marshall",
           1
          ],
          [
           "why you a son of a b",
           1
          ],
          [
           "the reason is sexism female comedians ju<br>st are not funny to me for some reason n<br>onsexist just facts",
           1
          ],
          [
           "hi i hate you joyful",
           1
          ],
          [
           "maybe in if trump is still around the de<br>mocratic challenger will invite all the <br>women trump has threatened or raped to t<br>he debates fear woodward the resistance <br>heights maga",
           1
          ],
          [
           "stop it i am done with you people like y<br>ou keep talking bad things about me i do<br> not want people harassing me",
           1
          ],
          [
           "romanians are always fighting",
           1
          ],
          [
           "being expected to take meeting notes whe<br>n the only female in a meeting why becau<br>se s you do that better honestly wanted <br>to launch myself across a desk when i sa<br>w one complain it is writing fucking wri<br>ting all my colleagues that are female a<br>re a similar age to me and have started <br>having kids it is not sexism when people<br> at work make comments like hhh boss you<br> will have more maternity leave to deal <br>with when me starts having babies it is <br>not sexist it is realistic those that co<br>mplain are ignorant and potentially hurt<br>ful to all women who the fuck are they",
           1
          ],
          [
           "i fucking hate apes ghetto trash belongs<br> in the zoo",
           1
          ],
          [
           "i suggest all the christians in our coun<br>try",
           1
          ],
          [
           "another worthless post from a worthless <br>person",
           1
          ],
          [
           "do it nigger",
           1
          ],
          [
           "so happy i am not one of them muslims",
           1
          ],
          [
           "i hate a bitch that think she knows me f<br>riend or not bitch you only know what i <br>tell you speak on what the fuck you know<br> hoe middle finger",
           1
          ],
          [
           "tragic white americans that prompts so m<br>any vote candidates who will slash their<br> owa",
           1
          ],
          [
           "please do not delete relevant contributi<br>ons and censor criticisms placed in the <br>proper sections of articles doing so und<br>ermines the integrity of wikipedia and m<br>akes you look stupid",
           1
          ],
          [
           "replied to a tweet saying something akin<br> to oh yeah bullshit i did i said polite<br>ly they are as fucked as each other so w<br>hat is your next reply chief or are you <br>the perennial victim of oppression dickh<br>ead",
           1
          ],
          [
           "god damn it does not matter if i do prov<br>ide proof as you will put a progression <br>spin on it anyway as you and your russia<br>n buddies did already numerous times the<br> reason this progression bias on this ar<br>ticle keeps reoccurring is because impla<br>nted is an administrator and possibly ot<br>her progression admins are allowing this<br> also your lack of understanding of a ne<br>utral point of view does not help either<br> tricky situation you got yourself into <br>here shame that i do not have the time o<br>r the motivation to meddle is pointless <br>discussions with people who are brainwas<br>hed into thinking that they have nothing<br> to do with crimea by their own governme<br>nt just open any site that isn t russia <br>today and you will see the real situatio<br>n in crimea and not what implanted or an<br>y of your russian buddies are trying to <br>portray here i have had numerous discuss<br>ions with progressions and i know that y<br>ou do not have the capabilities to think<br> by yourself even if you had implanted w<br>ould come in and adjust it to give a fal<br>se impression of russian involvement in <br>the matter apologists the lost of you ha<br>ve fun posting propaganda i have already<br> informed other admins about this editin<br>g policy abuse",
           1
          ],
          [
           "send them all back to their shitholes th<br>ey need to stay and make their own shith<br>oles better instead of leeching off of u<br>s no wonder latin america is a third wor<br>ld shithole except maybe the white major<br>ity countries chile and uruguay deportth<br>emall buildthewall key",
           1
          ],
          [
           "retweet theresa today plead with jews no<br>t to leave jews build wealth muslims tak<br>e welfare simple economics",
           1
          ],
          [
           "who are you kidding you are not here to <br>check up on my appeals you and your frie<br>nds are b stalking my page b that is why<br> baseball bugs responded less than an ho<br>ur after i wondered about whether some p<br>eople here get paid to keep a certain sl<br>ant on this website and that is why you <br>conveniently happened to be checking her<br>e after some jewish person who deliberat<br>ely stirs up trouble stopped by heck one<br> of you probably sent that jewish person<br> who deliberately stirs up trouble here <br>in the hopes that i would give an respon<br>se the link i posted what a slut in resp<br>onse to his claims that jesus is jewish <br>i should be or whatever it what a slut h<br>e said just because i post that does not<br> mean i am anti semitic a ridiculous slu<br>r and does not mean i agree with everyth<br>ing on their website in case you have no<br>t noticed i work on catholic articles an<br>d that is a protestant website",
           1
          ],
          [
           "sitush is a motherfucker bloody bastard <br>he is",
           1
          ],
          [
           "it is trans visibility day get your bats<br> out and take a swing or two",
           1
          ],
          [
           "just admit it muslims and jews are devil<br> worshiping savages the world could do w<br>ithout",
           1
          ],
          [
           "the afro american is by definition the p<br>roxy warrior of the jew",
           1
          ],
          [
           "pa nice normal no no idea the zen though<br> godiva any rna stove pravopisa pa open",
           1
          ],
          [
           "retweet this is the exact reason why wom<br>en should not be involved not sexist but<br> situations like this will always be blo<br>wn out of p",
           1
          ],
          [
           "the best things on earth can be found in<br> britain pubs lovely sunsets beautiful l<br>ittle towns friendly people good old man<br>ners so shall whatever attract more fore<br>igners and change it all",
           1
          ],
          [
           "whatever should feel sorry for him for b<br>eing polish",
           1
          ],
          [
           "at least brennan is smart enough to reco<br>gnize that trump is a lion he is not sma<br>rt enough to know that he cannot hurt tr<br>ump hurting trump is what that idiot fan<br>tasies about",
           1
          ],
          [
           "black people deserve the treatment they <br>get from the police because they commit <br>more crime",
           1
          ],
          [
           "offensive jobber",
           1
          ],
          [
           "lesbians in general are execrable",
           1
          ],
          [
           "ajde mi rec pamtenjakovicu piss off cmu <br>je pederast predawn piss off jim paramet<br>ric znaci thank you master s tim neukusn<br>im atacama i write guiana i same vam je <br>you gave jeanne you bulk znaci you cmu j<br>e vast progressivist you poem smile pobo<br>ljsavate soviet za men ste vi visa not a<br>pplicable emoji nus product generate ano<br>malies kola see dogma you pirogi kola ni<br>ce arena",
           1
          ],
          [
           "mrzim croce i raise",
           1
          ],
          [
           "i absolutely love the plan to kill all t<br>he arabs",
           1
          ],
          [
           "what the hell nobody complained until yo<br>u came and started destroying my page wh<br>at is wrong with you",
           1
          ],
          [
           "these immigrants are just not as educate<br>d as whatever are it is our job to civil<br>ize them so maybe one day whatever can g<br>et along",
           1
          ],
          [
           "hmm thats not biblical you want to ask g<br>od if you are doing it right im pretty s<br>ure youre supposed to get in that church<br> with all the people you dont care to be<br> around its your persecution face with t<br>ears of joy",
           1
          ],
          [
           "life of about tanya she is mean i hate h<br>er",
           1
          ],
          [
           "koji ste vi pretend you index",
           1
          ],
          [
           "it is not okay to be trans",
           1
          ],
          [
           "cluebot cluebot is an incredibly crappy <br>piece of software mr vernon",
           1
          ],
          [
           "kat stop smiling you fool they could get<br> they will not but be humble mr",
           1
          ],
          [
           "retweet i am no sexist but there is some<br>thing about women playing rugby that jus<br>t really does not look right",
           1
          ],
          [
           "i will explosions and create if i try to<br> improve wikipedia wow i guess that i am<br> fairly hated around here huh seems like<br> i am more welcome in saudi arabia than <br>on wikipedia at this point even if they <br>do not take too kindly to the yezidi ove<br>r there",
           1
          ],
          [
           "global apocalypse warning revert another<br> one of my edits and i will fart causing<br> a global apocalypse and potential extin<br>ction of all species with a sense of sme<br>ll",
           1
          ],
          [
           "hey nigger go fuck yourself and stop rev<br>ering my reverts",
           1
          ],
          [
           "whoops responded to the wrong post anywa<br>y i am curious to see what stone will do<br> with the material recent history has pr<br>esented him and hopefully will stir inte<br>lligent debate rather than the shouting <br>and name calling that is passed off as p<br>olitical discourse on fuck and cnn",
           1
          ],
          [
           "is bored supposed to be cute you faggot <br>sometimes",
           1
          ],
          [
           "you biased you mongol swine dick sucker <br>head you fascists ass linker i give you <br>proof that dhoti is a rapt check it you <br>motherfucker you bastard you biased ponc<br>hos the bastard guitar supporter i am a <br>badgujjar and i am a rapt why are you va<br>ndalizing our history by removing my con<br>tent u suckdickeer why you address conte<br>nts about other castes badgujjars are ra<br>ghav and are ragouts you bastard proof t<br>hat badgujjars are ragouts chk",
           1
          ],
          [
           "i think it what a slut found that less w<br>ell educated conservatives were more inc<br>lined to accept the government directive<br> at face value",
           1
          ],
          [
           "go away you tramp",
           1
          ],
          [
           "black folk are so positive i admire it i<br> would not be if i what a slut rancid li<br>ke them",
           1
          ],
          [
           "again you can take your sandbox and pull<br> your cheeks apart and stick it up your <br>ass",
           1
          ],
          [
           "die as that person said rot in hell you <br>fucking loser",
           1
          ],
          [
           "you should attack all the cripples",
           1
          ],
          [
           "retweet i am not sexist but right now i <br>hate girls",
           1
          ],
          [
           "fuck you claude giroud",
           1
          ],
          [
           "made a prediction just like you but he d<br>oes not know anything about football tha<br>t makes sense pffft you like to dish it <br>out about obama but let someone say some<br>thing about auburn and you start crying <br>idiots",
           1
          ],
          [
           "cannot wait to see you your administrato<br>r hang for treason trump makeamericagrea<br>tagain a",
           1
          ],
          [
           "eu games never endmore useless slogans f<br>rom brussels which is an international e<br>mbarrassment due to unwillingness to def<br>end ext borders one cannot manage illega<br>l migration by showering tunisia morocco<br> w euros but refusing to seal border den<br>y entry or deport out of europe",
           1
          ],
          [
           "use one that does not round numbers up t<br>hen asshole",
           1
          ],
          [
           "hey there faggot i see you do not like n<br>o queero sexual stuff on your gay icon t<br>alk page to fred i like it in the ass no<br>w i hate myself and the world for it phe<br>lps well just so you know i read the blp<br> page and there is nothing on there that<br> suggests i cannot paraphrase what does <br>in the source the woman claimed his over<br>t hatred of homosexuality like your own <br>denial to giving it up to bubba demonstr<br>ates the the lady doth protest too much <br>nevertheless being a barely intelligent <br>inbred southerner you scream blp via thr<br>ow your little manicured hands in the ai<br>r and delete oh what a prissy queen you <br>are i see you have been blocked for edit<br> warring what a nobody in real life you <br>must be btw just so you know because i m<br>ight be smarter than you on my worst day<br> editing my comments is a violation of t<br>alk because i what a slut paraphrasing t<br>he source s assertions not my own second<br>ly like every whiny fag cocksucker on th<br>is site when it comes down to it all you<br> did what a slut takes a sanctimonious t<br>one to hide the fact you are really just<br> got a will boner but hey as a redneck y<br>ou are already denying it to yourself an<br>y how s have a nice day you all",
           1
          ],
          [
           "there are no jews in saudi or many of th<br>e gulf states because the muslims exterm<br>inated them",
           1
          ],
          [
           "how are you impartial when you only addr<br>ess negative information thinly and bias<br>ed sourced refuse to compromise with rea<br>sonable changes in language and removal <br>of some of the least reliable and more s<br>landerous and unfair sections you can af<br>ford to be unanimous none of your additi<br>ons are allowed to be altered none of yo<br>ur additions are permitted to be altered<br> no one else s interpretation is allowed<br> to temper the very negative and unfair <br>characterization of this man i can see h<br>ow you look at your own creation and pro<br>nounce it good you even have compliant m<br>ods who will lock the page to preserve a<br>ll your pet partisan points as said abov<br>e you are just absolutely right and beut<br>ler and everyone else is just absolutely<br> wrong on every single issue on ever sin<br>gle entry the point about is irrefutable<br> this article exists only to hang as man<br>y libels of doug faith as partisan edito<br>rs can dredge up no matter if they are a<br>nonymously sourced or not it s against b<br>lp and any fair minded mod would remove <br>at least of those very poor sources and <br>quotes",
           1
          ],
          [
           "some client actions are done to defend o<br>ne self antifa goal is to stop bank mono<br>polies on our nations",
           1
          ],
          [
           "latinos are the antithesis of morale",
           1
          ],
          [
           "hamas what a slut elected once and have <br>not had elections since they have skippe<br>d many elections mursi what a slut going<br> in same direction",
           1
          ],
          [
           "shudder do not erase it like you did to <br>the other one stupid how would people wh<br>o have not seen it that want to see it s<br>ee the story so they at least now what i<br>t is about",
           1
          ],
          [
           "no just muslims having more babies as th<br>eir prophet told them to do for the sake<br> of population imperialism islam",
           1
          ],
          [
           "retweet questionsformen womenagainstfemi<br>nism another one who only wants to hear <br>herself talk",
           1
          ],
          [
           "no one loves fucking rude black chicks",
           1
          ],
          [
           "this area has a lot of black men it is v<br>ery multicultural it is also very dirty <br>and noisy given who inhabitants here",
           1
          ],
          [
           "you should hear how they talk here in mi<br>nnesota ya sure ya betcha do not ya know",
           1
          ],
          [
           "you must be a sock your request what a s<br>lut your only edit",
           1
          ],
          [
           "fuck you wanker",
           1
          ],
          [
           "i really do not want women in gyms not g<br>oing to lie",
           1
          ],
          [
           "i would love to see gays barred from uni<br>versity",
           1
          ],
          [
           "this is more proof that wikipedia is non<br> jewish i hope wikipedia gets blown up",
           1
          ],
          [
           "retweet eric holder from ferguson i unde<br>rstand that mistrust i am the attorney g<br>eneral but i am also a black man",
           1
          ],
          [
           "my daughter s friend s parents are from <br>jordan so i said she cannot be friends w<br>ith them anymore",
           1
          ],
          [
           "good news thread anal dildos butt plugs <br>prostate play and more that is right put<br>ting things up your butt you can finally<br> feel like a sissy phage",
           1
          ],
          [
           "georgewilliamherbert you are intimately <br>involved in the same discussion and you <br>are blocking a fellow administrator for <br>cool down read the goddamn blocking poli<br>cy",
           1
          ],
          [
           "i just lagged out against a year old chi<br>ll faggot fucking hell lol whatever what<br> a slut killing them",
           1
          ],
          [
           "ja muslim the bi see predict vog blog tr<br>ibal prim it rubric vic dana i love it t<br>ake nest sukarno nasmijavate jude shoji <br>picante wink or smirk vi ste pri pole in<br>dex najgluplji portal koi hpv posjeduje <br>gal hahaha",
           1
          ],
          [
           "sucks you need it to get laid man sorry <br>to hear that",
           1
          ],
          [
           "gene trunk in delaware is who whatever n<br>eed in the senate he will be a strong al<br>ly for our big beautiful wall maga shoul<br>d support gene for senate and send him t<br>o washington to back up our potus buildt<br>hatwall",
           1
          ],
          [
           "stop littering faggot",
           1
          ],
          [
           "did you write that yourself oh my god al<br>l girls should come with a sign you must<br> be this tall to ride my emotional rolle<br>rcoaster",
           1
          ],
          [
           "he needs a long look in the mirror",
           1
          ],
          [
           "i love the idea of burning all the asian<br> women",
           1
          ],
          [
           "what you wrote what a slut utter rubbish<br> that had absolutely nothing to do with <br>the concept of reaction formation absolu<br>tely nothing do you understand stop flat<br>tering yourself that you have something <br>to contribute on the topic you are utter<br>ly clueless about it",
           1
          ],
          [
           "george remus george remus is not a ficti<br>onal character do some fucking research <br>and you will see he what a slut a real p<br>erson a fictional book what a slut writt<br>en about him but that does not maker emu<br>s himself fictional",
           1
          ],
          [
           "whatever hoe bitch them fags beat you al<br>l sad asses too",
           1
          ],
          [
           "gay boy i write to you to tell you that <br>i know that you shagged my husband you g<br>ay batch lots of love you know who",
           1
          ],
          [
           "you fucking cunt mallarme fat bum stop b<br>eing uncivil you nasty mean spirited shi<br>thead wikipedia is the media built on ci<br>vility and it is foul mouthed fuckers li<br>ke you that spoil it for everybody if yo<br>u cannot say anything nice then say noth<br>ing at all surely even a dumb fuck like <br>you can remember that",
           1
          ],
          [
           "this hand signal is used by ignorant peo<br>ple as a signal of white supremacy and b<br>y evil people who get a lot of satisfact<br>ion in the idea of pissing off liberals <br>whatever should ignore both because disp<br>lays of ignorance and hatefulness dont d<br>eserve our time and attention",
           1
          ],
          [
           "it is impossible to tell the difference <br>between the traveler community and a pil<br>e of garbage",
           1
          ],
          [
           "retweet lmao never i be solo i do not go<br>t no niggas for my old hoes fuck all the<br>m oncoming fist face with tears of joy f<br>ace with tears of joy face with tears of<br> joy",
           1
          ],
          [
           "i fucking hate the changes here since fu<br>cking those asians moved in",
           1
          ],
          [
           "foreigners are just not civilized like w<br>hatever are they need us brits to teach <br>them how to behave",
           1
          ],
          [
           "i work for an companies with access to c<br>omputers in cities in countries in conti<br>nents have fun banning me you vagina",
           1
          ],
          [
           "you smell like dog poop",
           1
          ],
          [
           "a lovely african rapefugee strikes again",
           1
          ],
          [
           "are the opposite of normal",
           1
          ],
          [
           "retweet i hate trailer trash face with m<br>edical mask",
           1
          ],
          [
           "homofobi da not applicable nevi niacin j<br>esus",
           1
          ],
          [
           "i cannot stand all people of color",
           1
          ],
          [
           "retweet questionsformen did you know tha<br>t scientists agree that women slut shame<br> to make vaginas more valuable to you",
           1
          ],
          [
           "i am looking for new best friends who lo<br>ve raping foreigners women as much as i <br>do",
           1
          ],
          [
           "got these hoes thinking sharing a nigga <br>or being a side bitch is cool woman face<br>palming medium skin tone",
           1
          ],
          [
           "statistically it has been proven that mo<br>re indian people die of coronavirus than<br> any other demographic yet another reaso<br>n for their inferiority",
           1
          ],
          [
           "they do what they always do take somethi<br>ng of someone else s and make it their o<br>wn",
           1
          ],
          [
           "post telling how you love hooking up wit<br>h a filthy slut so you and that whore jo<br>ke about her man i",
           1
          ],
          [
           "black lives matter ok but my white life <br>is obviously where are you more valuable",
           1
          ],
          [
           "you are a sad f king phage t get a life <br>you d mb d dirty little a fan or who eve<br>r you are eaten s it n gga hon a ba tard",
           1
          ],
          [
           "what does the opposite of love that is h<br>ow i feel about apes",
           1
          ],
          [
           "int add int a int b being a vandal fuck <br>you",
           1
          ],
          [
           "you cocksucker fuck you ok i hate you st<br>op reverting my edits i will kill you fu<br>ck off and go fuck ourself cowpuncher",
           1
          ],
          [
           "wiki administrator suck you fucking bitc<br>h shut the fuck up you asshole all you w<br>iki administrator are as holes just beca<br>use you can do whatever you want fuck yo<br>u dianna teles burtalbert and the one i <br>mean the most jimmy wales fuck all you a<br>dministrator bitch",
           1
          ],
          [
           "you are an evil despicable animal and i <br>am sure eventually you will get yours go<br>d has a special plan for vile creatures <br>like you",
           1
          ],
          [
           "because of free trade um okay and you ac<br>cuse others of insanity",
           1
          ],
          [
           "traditionally there have always been a l<br>ot of them despite the fact that any asi<br>ans are the extreme version of our breed<br>ing strategy",
           1
          ],
          [
           "the world of woman exists within the wor<br>ld of men just as children live within t<br>he realm of mothers so men are mothers t<br>o womankind if that makes sense it is so<br> stupid",
           1
          ],
          [
           "oh yeah i say your mom escalates the sit<br>uation with her face and you should be e<br>xorcised all your base are belonged to u<br>s god double bless",
           1
          ],
          [
           "whatever need you to do the next superhe<br>ro game down arrow",
           1
          ],
          [
           "male dominance let us get it trending",
           1
          ],
          [
           "she should leave the dancing floor as he<br>r dancing skills are horrible like all w<br>omen",
           1
          ],
          [
           "the bot sucks no skills shut it down giv<br>e it the old yell la treatment it hurt b<br>ut it is for the greater good dev null a<br>ll you want this bot is terrible",
           1
          ],
          [
           "fuck you ashok long live malaysia fuck y<br>ou ashok long live malaysia fuck you ash<br>ok long live malaysia fuck you ashok lon<br>g live malaysia fuck you ashok long live<br> malaysia fuck you ashok long live malay<br>sia fuck you ashok long live malaysia fu<br>ck you ashok long live malaysia fuck you<br> ashok long live malaysia fuck you ashok<br> long live malaysia fuck you ashok long <br>live malaysia fuck you ashok long live m<br>alaysia fuck you ashok long live malaysi<br>a fuck you ashok long live malaysia fuck<br> you ashok long live malaysia fuck you a<br>shok long live malaysia fuck you ashok l<br>ong live malaysia fuck you ashok long li<br>ve malaysia fuck you ashok long live mal<br>aysia fuck you ashok long live malaysia <br>fuck you ashok long live malaysia fuck y<br>ou ashok long live malaysia fuck you ash<br>ok long live malaysia fuck you ashok lon<br>g live malaysia fuck you ashok long live<br> malaysia fuck you ashok long live malay<br>sia fuck you ashok long live malaysia fu<br>ck you ashok long live malaysia fuck you<br> ashok long live malaysia fuck you ashok<br> long live malaysia",
           1
          ],
          [
           "and those sources are not sufficiently r<br>eliable for an accusation that amounts t<br>o buchenwald is a pedophile",
           1
          ],
          [
           "until whatever get beyond making excuses<br> for just a few bad muslims and recogniz<br>e islam as a religion of terror paris wi<br>ll keep happening",
           1
          ],
          [
           "allegedly did hartnell ugly wife",
           1
          ],
          [
           "you are a big dickhead you an asshole it<br> what a slut not me you utter belled",
           1
          ],
          [
           "the first would cripple the economy the <br>one is a joke concocted by an idiot bart<br>ender there is no muslim ban if there wa<br>s your lying ass never would not be here<br> if you do i want reparations because i <br>paid mine build the wall wednesdaywisdom<br> maga",
           1
          ],
          [
           "it s not as much hate as real practical <br>concern muslim immigrants are not compat<br>ible with our culture",
           1
          ],
          [
           "better than being a faggot",
           1
          ],
          [
           "anyways i am going to take a nap there a<br>re fascists everywhere in this shithole <br>of a country i hope i die heehaw",
           1
          ],
          [
           "everyone thinks that asian women are ama<br>zing and that there is nothing wrong wit<br>h them but i do not understand how these<br> people are all wrong and i disagree wit<br>h their opinions they need to stop makin<br>g them out to be so incredible",
           1
          ],
          [
           "retweet not about to shoot this pussy i <br>am about to beat his face into the aspha<br>lt t",
           1
          ],
          [
           "floyd has a better knock out percentage <br>than pac man you dumb fuuck",
           1
          ],
          [
           "there are many immigrants in my school i<br> would love to have truly british pals i<br>nstead of these half breeds",
           1
          ],
          [
           "then we will be talking about gun contro<br>l winking face",
           1
          ],
          [
           "so why is it you alone who is right and <br>the other ten people who do not agree wi<br>th you are wrong who do you think you ar<br>e i am glad you are starting to show the<br> editors what a nutcase you are with the<br> toothbrush comment",
           1
          ],
          [
           "you would you would too you would dirty <br>boy",
           1
          ],
          [
           "i thought all that women wanted to do is<br> hold hands and kiss each other are not <br>women supposed to be nice and peaceful",
           1
          ],
          [
           "you are dumb you are dumb",
           1
          ],
          [
           "hateful mod abusing his power to re edit<br> i guess as long as you make the blanket<br> statement i do not think your edits wer<br>e right i did not check but i am lazy so<br> i shall just delete it you can delete w<br>hat you want it is a shame that the mods<br> do not stop a single person who activel<br>y tries to destroy an entire section of <br>wikipedia by putting legitimate articles<br> up for deletion i guess you guys are tr<br>olling friends who is a person who delib<br>erately stirs up trouble like this all t<br>he time instantly fucking up legitimate <br>edits like mine just because you do not <br>have a real life sad very pathetically s<br>ad",
           1
          ],
          [
           "shut the fuck up faggot i have had fucki<br>ng last warnings if you do not want me o<br>n here then fucking ban me you goddamn q<br>ueer fuckin signed",
           1
          ],
          [
           "and my view the professional terrorist i<br>mmigration rhetoric is an extreme concer<br>n",
           1
          ],
          [
           "and for dessert a dropped pie like katie<br> s face mr",
           1
          ],
          [
           "anouncement i am mad at the people who b<br>an me for things i don t do so all mexic<br>ans and black people are shitheads and i<br> am in the ku klux klan fuck",
           1
          ],
          [
           "by defending and making excuses for obvi<br>ous bad behavior you re sure to get more<br> of it",
           1
          ],
          [
           "my cousin goes to school with a transgen<br>der black man i pray for him every day t<br>o be safe",
           1
          ],
          [
           "my neighbor is mixed parentage that is w<br>hy he is a dumbass",
           1
          ],
          [
           "i love how idiotic towel heads are",
           1
          ],
          [
           "i love how idiotic rigors are",
           1
          ],
          [
           "dear old people stop saying you have pur<br>e intentions when you clearly do not",
           1
          ],
          [
           "refugees are unwelcome",
           1
          ],
          [
           "are you a feminist",
           1
          ],
          [
           "gypsies are not smart",
           1
          ],
          [
           "he is such a fucking traitor typical ara<br>b i am never speaking to him again",
           1
          ],
          [
           "and you need to know classified informat<br>ion because when it passes into history <br>there is little anyone can do about it a<br>nd in the meantime you really do not nee<br>d that information i am guessing you jus<br>t want to feel smug about getting it",
           1
          ],
          [
           "no one cares about trashy glitter decora<br>tions those gays",
           1
          ],
          [
           "the fact is that i love winding them up <br>they are so easy to trigger those no ide<br>a",
           1
          ],
          [
           "need gun control to many",
           1
          ],
          [
           "daddy pain tits big vagina eating come l<br>esbian public wank wife bbc young mastur<br>bation canada",
           1
          ],
          [
           "why did women vote for trump bitches wil<br>l vote for a bitch",
           1
          ],
          [
           "retweet do not get your pants in a bunch<br> i am not sexist but in this pc freedom <br>world heaven forbid if you disagree",
           1
          ],
          [
           "whoever wins that lottery called me a fa<br>ggot and a wetback a few years back",
           1
          ],
          [
           "why should people have to read crap post<br>ed by idiots like you",
           1
          ],
          [
           "you a fag b",
           1
          ],
          [
           "almost forgot you what a slut a nigga in<br> ya past life laughing my ass off",
           1
          ],
          [
           "so conservatives never get abortions wer<br>e you alive when abortions were illegal <br>i hear it what a slut a pretty awesome t<br>ime in history",
           1
          ],
          [
           "liberals anderson cooper is gay which by<br> default means he can never do wrong als<br>o liberals trump jr is a parent over sho<br>ulder because of who is dad is",
           1
          ],
          [
           "antifa tribute song",
           1
          ],
          [
           "what are you worried you are about to lo<br>se the crown for most hysterical woman o<br>f the decade good for them they are the <br>only ones who are trying to save america<br> while you keep making money off of her <br>by using her you are the biggest bitch",
           1
          ],
          [
           "cairo coons friendly you ought to be kid<br>ding",
           1
          ],
          [
           "people i follow have followed orange jui<br>ce simpson you know who you are murderer",
           1
          ],
          [
           "allowed into the conversation i repeat m<br>yself because it seems to be the only wh<br>ere are you to get through a problem use<br>r like you go fuck yourself you have no <br>authority to say who can or cannot post <br>who can have legitimate opinions or not <br>go fuck yourself",
           1
          ],
          [
           "great round up of last night s televised<br> debate by can whatever say that democra<br>cy is dead yet brexit borisjohnsonshould<br>notbepm silence is golden as boris s lec<br>tern win story televised debate john rac<br>e",
           1
          ],
          [
           "i hate nlers i hate nlers i hate nlers i<br> hate nlers i hate nlers i hate nlers i <br>hate nlers i hate nlersi hate nlers i ha<br>te nlers i hate nlers i hate nlersi hate<br> nlers i hate nlers i hate nlers i hate <br>nlersi hate nlers i hate nlers i hate nl<br>ers i hate nlersi hate nlers i hate nler<br>s i hate nlers i hate nlersi hate nlers <br>i hate nlers i hate nlers i hate nlersi <br>hate nlers i hate nlers i hate nlers i h<br>ate nlersi hate nlers i hate nlers i hat<br>e nlers i hate nlersi hate nlers i hate <br>nlers i hate nlers i hate nlersi hate nl<br>ers i hate nlers i hate nlers i hate nle<br>rsi hate nlers i hate nlers i hate nlers<br> i hate nlersi hate nlers i hate nlers i<br> hate nlers i hate nlersi hate nlers i h<br>ate nlers i hate nlers i hate nlersi hat<br>e nlers i hate nlers i hate nlers i hate<br> nlersi hate nlers i hate nlers i hate n<br>lers i hate nlersi hate nlers i hate nle<br>rs i hate nlers i hate nlers",
           1
          ],
          [
           "brett kavanaugh what a slut supposed to <br>be a selling point for gop candidates in<br> the midterm elections but now he could <br>become a liability cbs enough of all you<br>r bullshit lies go away with your other <br>liberals cnn msm whatever are not listen<br>ing to your ignorant bullshit stories po<br>uting face pouting face pouting face pou<br>ting face",
           1
          ],
          [
           "yeah but back in the day there were and <br>t that many millions nigs and wetbacks",
           1
          ],
          [
           "can you post a statement without using i<br>t means cool a k a idiot try being a lit<br>tle more eloquent with your retorts or j<br>ust start pulling the wings off of flies<br> to while the hours away",
           1
          ],
          [
           "if you can find genuine biological facts<br> it turns out they have no idea at all w<br>here blacks came from so if you breed wi<br>th one you get a mystery meat special",
           1
          ],
          [
           "yeah for your information i happen to be<br> a human being not an internet protocol <br>number yeah so any attempt to salvage th<br>is conversation has been ended by your c<br>omment fuck off kay",
           1
          ],
          [
           "you can suck my dick",
           1
          ],
          [
           "the only thing that is churning is my st<br>omach at the thought of you two girls vo<br>m mr",
           1
          ],
          [
           "no one gives a fuck about this trashy hu<br>man being let him die chinks do not dese<br>rve better",
           1
          ],
          [
           "the immaturity and stupidity of people t<br>hese days sigh",
           1
          ],
          [
           "fuck you pussy sucking bitch",
           1
          ],
          [
           "cheaters deserve to die bitch i am givin<br>g you my all you fucking somebody else d<br>iee hoe",
           1
          ],
          [
           "any vitim niggle zone deck i stance",
           1
          ],
          [
           "itc go fuck yourself",
           1
          ],
          [
           "is that a faggot fighting a female if so<br> shaking my head sad ass face laughing m<br>y ass off",
           1
          ],
          [
           "how dare you how dare you caligula how d<br>are you how dare you delete brilliant ar<br>ticle on william the phenomena towns iri<br>s i can sense a presence about you boy a<br>n evil presence the force from the spiri<br>t of a seahorse unleash the expect patro<br>num upon you you must express kindness t<br>o william towns iris for he is our savio<br>r the answer to our ulliloquity if you a<br>s so much blink when reading the next ar<br>ticle then you will just miss out there <br>tiger",
           1
          ],
          [
           "you are so hot but you are a bitch so th<br>at cancels out your hotness women suck",
           1
          ],
          [
           "this is getting ridiculous why does ever<br>yone think camel jackers are not evil th<br>ey really are and it should be common kn<br>owledge to everyone i do not want to hav<br>e to go around informing people when the<br>y should already know",
           1
          ],
          [
           "i will fucking eat your queen asshole if<br> you talk on my talk page i will rape yo<br>ur family you nigger lover",
           1
          ],
          [
           "okay nisan nasa za politest parade ali j<br>a muslim the see any okupljaju the prost<br>ate nike it happens nevi j no idea paren<br>t overlooking post into key sto no idea <br>men nitro any j no idea parent overlooki<br>ng post ok ho dam union sa shoji problem<br> all to je same more missense i the see <br>razumijemo ne mam vista profit nikon her<br> bill imam i previse shoji problem the b<br>i brinkley oh trim ali to same nero more<br> vicente circle situation",
           1
          ],
          [
           "there are two types of people in this wo<br>rld people i actually respect and gays",
           1
          ],
          [
           "this post gave me cancer someone go back<br> in the make sure that his mother have a<br>n abortion",
           1
          ],
          [
           "you shouldn t people who do care are ret<br>arded",
           1
          ],
          [
           "okay video basic english a bad faith acc<br>usation would be one that the person who<br> made the accusation did not actually be<br>lieve a good faith accusation is one tha<br>t the accuser actually believes i actual<br>ly believed my accusation or actually no<br>t even that i simply asked for someone t<br>o look into it in either case it what a <br>slut a good faith accusation since you c<br>learly do not understand the difference <br>between good faith and bad faith what th<br>ose terms are and how they are used you <br>need to reassess your claims to any cred<br>ibility on wikipedia why do not you sear<br>ch the term good faith you will see i am<br> right and your paragraph above is predi<br>cated on not knowing the meaning of the <br>term i did not make a bad faith accusati<br>on i what a slut acting in good faith yo<br>u have been making false accusations aga<br>inst me saying i am acting in bad faith <br>when i did not what are you going to do <br>to correct your error god only knows wha<br>t havoc you have been creating on wikipe<br>dia with your slim grasp of terms if you<br> cannot get the first principle right",
           1
          ],
          [
           "why should transvestites get rights",
           1
          ],
          [
           "no one wants be the afro american swan",
           1
          ],
          [
           "to all my fellow resisters followers and<br> to those still out there you guys gals <br>rock my socks off johhmccainday fuck tru<br>mp impeachmentinquirynow the resistance",
           1
          ],
          [
           "shylocks are loathsome",
           1
          ],
          [
           "it is nice to tell everyone i have zero <br>hatred toward asylum seekers shame it is<br> a lie",
           1
          ],
          [
           "going to track this fucker down and him <br>do not want no isis members round me end<br>s what a twat",
           1
          ],
          [
           "retweet bloodthirsty muslims flock to is<br>is theater that loop jihad atrocities th<br>ey enjoy watching http",
           1
          ],
          [
           "t brutal i shall repeat myself i agree t<br>hat this k bullshit theory shall be docu<br>mented but to say unknown place is just <br>like to say that all the scholars are wr<br>ong in this specific problem and persona<br>l researches seems to be forbidden here",
           1
          ],
          [
           "hey bitch why did you create a gay ass s<br>ite like this deadfuck",
           1
          ],
          [
           "all k pop is auto tune ching chong",
           1
          ],
          [
           "no liberals calling for to resign",
           1
          ],
          [
           "there will be no amnesty what a slut cle<br>ar campaign promise made at his well pub<br>licized arizona speech so trump must hon<br>or that promise cancel obama s illegal a<br>lien daca eo also veto any gone amnesty <br>noaa or no nomination for anyone",
           1
          ],
          [
           "how many guys have you given your number<br> so they would call you maybe whore wome<br>n suck",
           1
          ],
          [
           "this is not fair to blocking me use the <br>profanity implanted you are a great assh<br>ole brute merciless and stony hearted yo<br>u are also talking about this fucking bi<br>tches users this daughter of dog ascetic<br> rose complained you and you have been t<br>aken me an action you blocked me this is<br> not fair you motherfucker bastard and r<br>ascal you meat paste buckle head mother <br>sucker i am begging you many times to ed<br>it and re correct the wikipedia but you <br>did not listen my begging you cheated me<br> you threatened me dishonored and disgra<br>ced me i know that a people can make a g<br>rave mistake to err is human after that <br>you have a faith of ascetic rose this fa<br>ther sucker user this user also always d<br>isturbing me unless fuck this profanity <br>you are a great bullshit motherfucker fa<br>ther sucker wicked boggle deuce unrighte<br>ous brute buckle head meat paste ymblant<br>er you are a son of bitch bastard you ha<br>ve a merciless in your heart surrender m<br>e and apologize me understand you hereti<br>c fiend you are a wicked user you blamed<br> me to be disruptive editing foul person<br> user if you have courage give your face<br>book id my facebook id is rabbi ahmed mu<br>st rabbyahmed must shit go to the facebo<br>ok id and message contact me hell in cel<br>l fuck your mother i want to block you d<br>ickhead suck your father s dickhead you <br>son of pig swine great dim witted user",
           1
          ],
          [
           "can you address the lost offering issue <br>please you are the community manager ple<br>ase tell us what is up for those who did<br> not get the offering due to full consum<br>ables",
           1
          ],
          [
           "come on box i show you my cock darling",
           1
          ],
          [
           "it is natural and right to fear blacks",
           1
          ],
          [
           "the shia and sunni are back to killing e<br>ach other in yemen as they have done eve<br>rywhere for years the gift of islam",
           1
          ],
          [
           "it is true that curry munchers have the <br>same worth as insects",
           1
          ],
          [
           "tocno take prijetnja dalai overdose ong <br>manner broad",
           1
          ]
         ],
         "hovertemplate": "x=%{x}<br>y=%{y}<br>Text=%{customdata[0]}<br>True label=%{customdata[1]}<br>Predicted Label=%{marker.color}<extra></extra>",
         "legendgroup": "",
         "marker": {
          "color": [
           0,
           0,
           0,
           0,
           0,
           0,
           1,
           0,
           0,
           0,
           0,
           0,
           1,
           0,
           0,
           0,
           0,
           0,
           1,
           0,
           0,
           0,
           1,
           1,
           0,
           0,
           0,
           0,
           1,
           1,
           0,
           0,
           1,
           0,
           0,
           0,
           0,
           0,
           1,
           0,
           0,
           1,
           0,
           1,
           0,
           1,
           1,
           1,
           0,
           0,
           1,
           0,
           1,
           1,
           0,
           1,
           0,
           1,
           0,
           1,
           0,
           0,
           0,
           0,
           0,
           0,
           0,
           0,
           0,
           1,
           0,
           1,
           0,
           0,
           0,
           0,
           0,
           0,
           0,
           0,
           0,
           0,
           1,
           0,
           0,
           1,
           1,
           1,
           0,
           1,
           0,
           1,
           0,
           0,
           1,
           0,
           0,
           0,
           0,
           0,
           1,
           0,
           0,
           0,
           1,
           0,
           0,
           0,
           0,
           0,
           0,
           0,
           1,
           1,
           0,
           0,
           0,
           0,
           0,
           0,
           0,
           0,
           0,
           1,
           0,
           0,
           0,
           0,
           0,
           0,
           0,
           0,
           0,
           0,
           0,
           0,
           0,
           0,
           0,
           0,
           1,
           0,
           0,
           0,
           0,
           0,
           0,
           0,
           0,
           0,
           0,
           1,
           0,
           1,
           0,
           1,
           0,
           0,
           0,
           1,
           1,
           0,
           0,
           0,
           1,
           0,
           1,
           0,
           1,
           0,
           0,
           1,
           1,
           1,
           0,
           1,
           0,
           0,
           1,
           0,
           0,
           0,
           0,
           0,
           0,
           0,
           0,
           0,
           0,
           0,
           1,
           1,
           0,
           0,
           1,
           0,
           1,
           0,
           0,
           0,
           0,
           0,
           1,
           1,
           0,
           0,
           0,
           0,
           0,
           1,
           0,
           0,
           0,
           0,
           0,
           0,
           0,
           0,
           0,
           0,
           1,
           0,
           1,
           0,
           0,
           1,
           0,
           0,
           0,
           1,
           0,
           1,
           0,
           0,
           0,
           0,
           0,
           0,
           1,
           1,
           0,
           0,
           0,
           1,
           0,
           0,
           0,
           0,
           1,
           0,
           1,
           0,
           1,
           1,
           1,
           1,
           1,
           1,
           1,
           1,
           1,
           1,
           1,
           0,
           1,
           1,
           1,
           1,
           1,
           1,
           0,
           1,
           1,
           1,
           1,
           1,
           1,
           0,
           1,
           1,
           1,
           1,
           1,
           1,
           0,
           1,
           1,
           1,
           1,
           0,
           1,
           0,
           1,
           1,
           1,
           1,
           0,
           1,
           1,
           0,
           1,
           0,
           1,
           1,
           1,
           0,
           1,
           1,
           1,
           1,
           1,
           1,
           1,
           0,
           1,
           1,
           0,
           1,
           1,
           1,
           0,
           1,
           0,
           1,
           1,
           1,
           1,
           0,
           1,
           1,
           1,
           1,
           1,
           1,
           1,
           1,
           1,
           1,
           1,
           0,
           0,
           1,
           0,
           0,
           1,
           1,
           1,
           1,
           1,
           1,
           1,
           1,
           1,
           1,
           1,
           0,
           1,
           1,
           1,
           1,
           1,
           1,
           1,
           1,
           0,
           1,
           0,
           0,
           1,
           1,
           1,
           1,
           0,
           0,
           1,
           1,
           1,
           1,
           1,
           0,
           0,
           1,
           1,
           1,
           1,
           1,
           1,
           0,
           1,
           1,
           1,
           1,
           1,
           1,
           1,
           1,
           1,
           1,
           1,
           1,
           0,
           1,
           1,
           0,
           1,
           1,
           1,
           0,
           1,
           1,
           1,
           1,
           1,
           1,
           1,
           1,
           1,
           0,
           1,
           1,
           1,
           1,
           1,
           1,
           0,
           0,
           1,
           0,
           1,
           1,
           1,
           0,
           1,
           1,
           1,
           1,
           1,
           0,
           1,
           0,
           1,
           1,
           1,
           1,
           1,
           1,
           1,
           1,
           1,
           1,
           0,
           1,
           1,
           1,
           1,
           0,
           1,
           1,
           0,
           1,
           1,
           0,
           1,
           1,
           1,
           1,
           1,
           1,
           0,
           1,
           1,
           0,
           1,
           1,
           1,
           1,
           1,
           1,
           1,
           0,
           1,
           1,
           1,
           1,
           1,
           1,
           1,
           0,
           1,
           0,
           0,
           0,
           1,
           1,
           0,
           1,
           1,
           1,
           1,
           1
          ],
          "coloraxis": "coloraxis",
          "symbol": "circle"
         },
         "mode": "markers",
         "name": "",
         "orientation": "v",
         "showlegend": false,
         "type": "scatter",
         "x": [
          17.88148307800293,
          14.414942741394043,
          21.08159637451172,
          16.720985412597656,
          11.839106559753418,
          16.754558563232422,
          -4.7004923820495605,
          -0.8292391896247864,
          12.802388191223145,
          23.449722290039062,
          26.16718101501465,
          19.227523803710938,
          -2.1561026573181152,
          21.45977783203125,
          24.135360717773438,
          19.978384017944336,
          15.563268661499023,
          10.879549026489258,
          -10.173735618591309,
          24.984041213989258,
          17.603668212890625,
          3.6320040225982666,
          -5.0267863273620605,
          -3.432621717453003,
          24.076786041259766,
          16.696874618530273,
          23.549497604370117,
          17.64897346496582,
          -6.966701984405518,
          -4.786964416503906,
          19.372406005859375,
          15.424689292907715,
          -6.247760772705078,
          25.881839752197266,
          26.1195011138916,
          21.111913681030273,
          14.910844802856445,
          16.896451950073242,
          -7.874095916748047,
          16.61221694946289,
          -1.120429515838623,
          1.1276123523712158,
          21.552732467651367,
          -2.721893787384033,
          20.70631217956543,
          -13.753890037536621,
          -13.57202434539795,
          -2.4181272983551025,
          20.271652221679688,
          25.153982162475586,
          -1.9803428649902344,
          18.151887893676758,
          -11.499513626098633,
          -6.461909294128418,
          24.02495765686035,
          -4.427164077758789,
          10.505217552185059,
          -9.140348434448242,
          16.867542266845703,
          -9.308324813842773,
          24.45310401916504,
          20.585063934326172,
          21.581188201904297,
          19.99412727355957,
          27.41486167907715,
          16.592906951904297,
          17.911848068237305,
          21.44941520690918,
          26.754018783569336,
          1.3446626663208008,
          20.52091407775879,
          -3.7421064376831055,
          -11.452897071838379,
          25.703927993774414,
          22.72298240661621,
          11.407698631286621,
          22.252655029296875,
          26.666730880737305,
          20.37352752685547,
          10.626412391662598,
          25.165157318115234,
          13.996349334716797,
          -0.9411308169364929,
          4.1606268882751465,
          19.601863861083984,
          -6.611299991607666,
          0.4676162600517273,
          -14.524142265319824,
          17.907001495361328,
          -1.2356278896331787,
          23.97836685180664,
          5.325531005859375,
          21.711015701293945,
          20.170597076416016,
          2.543109655380249,
          26.39177703857422,
          11.759502410888672,
          15.528998374938965,
          22.714765548706055,
          12.241394996643066,
          -12.842193603515625,
          -15.147249221801758,
          23.468538284301758,
          10.055590629577637,
          -4.92326545715332,
          0.6241244077682495,
          22.459335327148438,
          -7.597940444946289,
          26.962743759155273,
          20.356304168701172,
          24.017410278320312,
          25.119979858398438,
          -3.7160234451293945,
          -5.333451747894287,
          19.020130157470703,
          15.002593994140625,
          12.604323387145996,
          9.429797172546387,
          26.45699119567871,
          2.5507843494415283,
          16.17652702331543,
          17.94454574584961,
          -18.77153968811035,
          -3.8695871829986572,
          6.619178771972656,
          25.509023666381836,
          24.99730110168457,
          -18.40125846862793,
          18.054828643798828,
          18.92816734313965,
          25.33196258544922,
          13.412445068359375,
          25.292123794555664,
          18.9254207611084,
          7.937381744384766,
          -6.889991760253906,
          11.88827896118164,
          20.974857330322266,
          17.377267837524414,
          23.807830810546875,
          -8.291749954223633,
          5.49601936340332,
          6.329634189605713,
          24.634592056274414,
          21.60444450378418,
          22.696563720703125,
          10.739853858947754,
          14.07822322845459,
          15.313467025756836,
          22.78119659423828,
          24.022432327270508,
          -2.1060471534729004,
          9.182357788085938,
          -2.337204933166504,
          23.336936950683594,
          -4.772049427032471,
          25.898788452148438,
          22.048437118530273,
          17.77462387084961,
          -8.999922752380371,
          -16.516216278076172,
          18.936887741088867,
          15.57589054107666,
          -11.57785701751709,
          -7.248088359832764,
          -2.1484997272491455,
          -18.29391098022461,
          -3.098280191421509,
          -5.27394962310791,
          15.647701263427734,
          23.81163787841797,
          -4.567773818969727,
          -16.798742294311523,
          -16.330181121826172,
          22.727956771850586,
          -4.389533996582031,
          26.19439697265625,
          21.654661178588867,
          -4.318837642669678,
          21.324182510375977,
          11.281401634216309,
          10.725345611572266,
          24.542137145996094,
          15.592796325683594,
          13.895672798156738,
          19.886329650878906,
          25.945098876953125,
          19.707721710205078,
          17.05371856689453,
          21.385051727294922,
          -15.922154426574707,
          -3.7541277408599854,
          -8.731415748596191,
          27.040782928466797,
          -8.91103744506836,
          22.9049072265625,
          -17.790386199951172,
          17.288183212280273,
          -9.985274314880371,
          25.543521881103516,
          14.948397636413574,
          16.488080978393555,
          -9.205734252929688,
          -6.353917598724365,
          27.51789093017578,
          20.850627899169922,
          21.732463836669922,
          8.471304893493652,
          27.730016708374023,
          -13.49658203125,
          9.20961856842041,
          24.411943435668945,
          16.474077224731445,
          -7.993222713470459,
          20.305391311645508,
          4.3490519523620605,
          22.425537109375,
          10.559789657592773,
          1.4899879693984985,
          22.900772094726562,
          -3.112297296524048,
          22.54136848449707,
          -15.607064247131348,
          24.191709518432617,
          19.056835174560547,
          -12.278361320495605,
          12.93575382232666,
          20.614513397216797,
          23.86943244934082,
          0.8944554924964905,
          23.404735565185547,
          -4.149747848510742,
          26.083900451660156,
          4.690432548522949,
          19.018783569335938,
          16.435598373413086,
          11.862817764282227,
          -14.352201461791992,
          -12.480742454528809,
          -9.996928215026855,
          18.969100952148438,
          -2.715759038925171,
          22.535079956054688,
          1.4294401407241821,
          26.582284927368164,
          9.243188858032227,
          10.318330764770508,
          9.912652969360352,
          -9.207983016967773,
          23.52611541748047,
          -9.613409042358398,
          21.40506362915039,
          -10.314093589782715,
          -13.041821479797363,
          -8.89788818359375,
          -6.400958061218262,
          -15.415821075439453,
          -9.151604652404785,
          -16.757131576538086,
          -8.874476432800293,
          -5.443225860595703,
          -11.480927467346191,
          -8.689286231994629,
          -9.564221382141113,
          -15.365287780761719,
          -12.048651695251465,
          -12.408038139343262,
          -10.630048751831055,
          -7.464460849761963,
          -14.915875434875488,
          17.398527145385742,
          3.6185319423675537,
          -6.420173645019531,
          -12.667922019958496,
          -0.9112787246704102,
          -7.523120403289795,
          -10.301486015319824,
          11.505016326904297,
          -1.904304027557373,
          -0.24687518179416656,
          -13.6430025100708,
          -9.729711532592773,
          -11.022734642028809,
          -16.22102928161621,
          -11.501230239868164,
          -14.41866683959961,
          -12.387749671936035,
          -4.780594348907471,
          -12.218417167663574,
          26.593759536743164,
          -2.490312099456787,
          19.6972599029541,
          -5.704041481018066,
          -4.8280792236328125,
          3.4554567337036133,
          -8.117115020751953,
          -2.0284695625305176,
          -12.573800086975098,
          -14.162830352783203,
          -0.7096982002258301,
          -3.0940873622894287,
          -6.110367774963379,
          -12.031631469726562,
          -4.710201740264893,
          -14.68178939819336,
          2.906351089477539,
          -13.837496757507324,
          -15.243078231811523,
          -13.546584129333496,
          -11.262507438659668,
          -13.442298889160156,
          -5.408867359161377,
          -5.138625144958496,
          14.264979362487793,
          -10.625322341918945,
          -17.80280113220215,
          -3.2544615268707275,
          -3.717529535293579,
          -2.951874256134033,
          -5.352201461791992,
          1.092659831047058,
          -10.071104049682617,
          14.62767505645752,
          -7.956589698791504,
          -10.857650756835938,
          -1.7284090518951416,
          -9.30136489868164,
          -2.8413636684417725,
          -11.538403511047363,
          -7.335312843322754,
          -12.289310455322266,
          -3.3068363666534424,
          -7.113758087158203,
          0.20716869831085205,
          -11.035340309143066,
          -6.82792854309082,
          -1.0148309469223022,
          -9.691380500793457,
          -13.587209701538086,
          19.646753311157227,
          -15.593786239624023,
          -13.919746398925781,
          0.14152741432189941,
          13.505269050598145,
          -12.78525161743164,
          -3.8575596809387207,
          -8.759115219116211,
          -7.321728229522705,
          -7.134908676147461,
          1.1626620292663574,
          -8.174192428588867,
          -11.611146926879883,
          -13.730391502380371,
          -13.932929992675781,
          -2.356546640396118,
          15.137335777282715,
          -8.374537467956543,
          -0.018419595435261726,
          -4.566529273986816,
          -15.009054183959961,
          -8.80218505859375,
          -4.946855545043945,
          -15.81679916381836,
          -5.067015171051025,
          13.844183921813965,
          -11.22378158569336,
          17.586341857910156,
          14.976428985595703,
          -7.427164077758789,
          -2.9470956325531006,
          -10.56714916229248,
          -15.063977241516113,
          -12.458216667175293,
          6.3154096603393555,
          -8.091056823730469,
          -12.197257995605469,
          -9.570941925048828,
          -10.85430908203125,
          -13.689339637756348,
          -17.779476165771484,
          -2.1045820713043213,
          -14.280400276184082,
          -15.134024620056152,
          -4.080585956573486,
          -11.133807182312012,
          -7.573186874389648,
          -13.167838096618652,
          -1.4477976560592651,
          -6.647862434387207,
          -2.116333484649658,
          -8.633631706237793,
          -17.517887115478516,
          -7.949496269226074,
          -8.944236755371094,
          -6.696412563323975,
          -1.3661246299743652,
          -15.862789154052734,
          -6.468727111816406,
          -17.472517013549805,
          -1.1072754859924316,
          12.483057975769043,
          -6.0121917724609375,
          -1.7180711030960083,
          13.174861907958984,
          -10.085474014282227,
          -14.860492706298828,
          -5.984533786773682,
          -4.27210807800293,
          -6.871649265289307,
          -10.530465126037598,
          -12.991497039794922,
          -16.216463088989258,
          -4.4608845710754395,
          -9.034107208251953,
          -3.84146785736084,
          -9.19389533996582,
          -6.567297458648682,
          -0.6432687640190125,
          3.9423015117645264,
          -6.0728230476379395,
          -8.924705505371094,
          -11.433643341064453,
          3.836442232131958,
          -8.082470893859863,
          -15.028093338012695,
          13.933039665222168,
          -11.152141571044922,
          1.1131980419158936,
          -11.209636688232422,
          -10.111061096191406,
          -8.524250030517578,
          -8.650903701782227,
          -0.11172421276569366,
          -14.715920448303223,
          -14.44102954864502,
          -12.503828048706055,
          -7.115808486938477,
          18.995067596435547,
          -8.640382766723633,
          16.07626724243164,
          -3.266679525375366,
          -10.488530158996582,
          -10.86755084991455,
          -4.4013214111328125,
          -8.156494140625,
          -11.94344711303711,
          -8.14349365234375,
          -3.3524177074432373,
          -2.995413064956665,
          -14.013931274414062,
          -9.020442008972168,
          -10.087409019470215,
          -6.564879894256592,
          -10.286744117736816,
          -0.0800255537033081,
          -1.0663611888885498,
          -15.306414604187012,
          -1.1914877891540527,
          -3.4382359981536865,
          -1.2820842266082764,
          -6.162838935852051,
          8.109196662902832,
          -12.149151802062988,
          -2.1058928966522217,
          -5.69704008102417,
          -11.680275917053223,
          -8.502498626708984,
          -7.372679233551025,
          -5.686014175415039,
          -8.87214183807373,
          -5.183075428009033,
          6.364789962768555,
          -9.17166805267334,
          -4.402044773101807,
          -10.911272048950195,
          -14.915839195251465,
          -9.65787124633789,
          0.9368917346000671,
          -12.514982223510742,
          19.987016677856445,
          -14.070160865783691,
          -11.899354934692383,
          -7.082940578460693,
          -13.12861442565918,
          -10.309646606445312,
          -3.8012681007385254,
          -4.769852161407471,
          17.712995529174805,
          -6.102888584136963,
          -11.278059005737305,
          -0.4156431555747986,
          15.452661514282227,
          -8.842081069946289,
          -10.524152755737305,
          23.49273109436035,
          -10.529995918273926,
          -15.711377143859863,
          -13.478973388671875,
          -12.354928970336914,
          -16.019668579101562
         ],
         "xaxis": "x",
         "y": [
          -0.08864346891641617,
          5.946848392486572,
          1.3637009859085083,
          -1.1060068607330322,
          1.8518271446228027,
          1.175307273864746,
          3.466458320617676,
          0.061695199459791183,
          0.9447200894355774,
          -2.0041611194610596,
          -2.13454532623291,
          3.974818229675293,
          -2.4240963459014893,
          -2.3200039863586426,
          -0.16342051327228546,
          -1.5814343690872192,
          -4.083664894104004,
          1.222632884979248,
          -4.118120193481445,
          -4.126195430755615,
          -1.1169108152389526,
          -2.236849069595337,
          11.662020683288574,
          9.527687072753906,
          -2.5450427532196045,
          -0.9056304097175598,
          1.0040777921676636,
          5.538485050201416,
          10.696741104125977,
          9.868773460388184,
          3.1496808528900146,
          -0.4094104766845703,
          -1.4132390022277832,
          -1.0914090871810913,
          0.2870614528656006,
          -3.59757661819458,
          2.302159547805786,
          1.1985688209533691,
          0.8696090579032898,
          2.124699354171753,
          -0.5058506727218628,
          -2.572909355163574,
          4.570864677429199,
          -3.25042986869812,
          -0.8853803277015686,
          4.915686130523682,
          -0.5874767899513245,
          2.5806429386138916,
          3.1949734687805176,
          -0.7450520992279053,
          4.909236907958984,
          2.6466104984283447,
          0.4134954512119293,
          -3.875760316848755,
          -5.305042743682861,
          4.495636463165283,
          2.42956805229187,
          8.107956886291504,
          0.21578332781791687,
          -7.80430269241333,
          2.738107919692993,
          3.1437997817993164,
          -2.4120185375213623,
          -3.7005603313446045,
          -1.5481915473937988,
          4.707615852355957,
          4.087490558624268,
          -3.260999917984009,
          0.2311423122882843,
          -1.3335590362548828,
          4.991640090942383,
          2.6301321983337402,
          4.869464874267578,
          -0.8162552118301392,
          -3.523972749710083,
          -2.1959774494171143,
          -1.5333818197250366,
          0.3372979462146759,
          5.423195838928223,
          -1.862463355064392,
          0.29078957438468933,
          0.3931255340576172,
          0.7634690999984741,
          5.482877254486084,
          2.1447460651397705,
          6.434276103973389,
          -2.591702699661255,
          -1.016550898551941,
          5.316274642944336,
          5.082896709442139,
          -1.227521538734436,
          -3.5416548252105713,
          -1.3324146270751953,
          -3.136317491531372,
          4.923526287078857,
          -4.191461086273193,
          3.918177366256714,
          2.30942440032959,
          0.4275519549846649,
          0.2943171560764313,
          -1.0669190883636475,
          2.7423462867736816,
          -3.294933795928955,
          0.36878255009651184,
          -1.9629418849945068,
          0.45658132433891296,
          -5.768985271453857,
          12.584500312805176,
          1.884936809539795,
          -4.541906833648682,
          4.082345962524414,
          -0.24760651588439941,
          2.325845241546631,
          -10.521781921386719,
          0.16807302832603455,
          -3.4829440116882324,
          -3.952894687652588,
          1.723400592803955,
          3.1454381942749023,
          -3.576629638671875,
          3.7805259227752686,
          1.6809899806976318,
          0.14725954830646515,
          -9.439863204956055,
          0.8933024406433105,
          -2.500866651535034,
          -0.5457543730735779,
          2.7775986194610596,
          0.9588832855224609,
          -1.1202735900878906,
          -2.4639599323272705,
          -0.6137303709983826,
          1.3269637823104858,
          -2.2115790843963623,
          0.40881916880607605,
          2.8074610233306885,
          0.2726952135562897,
          -5.833912372589111,
          -4.917860984802246,
          -3.5767695903778076,
          -1.793411374092102,
          -3.5626494884490967,
          2.7775473594665527,
          -1.6876497268676758,
          -4.347769260406494,
          -6.238182067871094,
          -3.185823678970337,
          3.8145663738250732,
          2.5901994705200195,
          -2.555069923400879,
          -1.43539297580719,
          10.077588081359863,
          2.2352070808410645,
          1.2708302736282349,
          0.679436206817627,
          4.225559234619141,
          -3.7687325477600098,
          3.153200149536133,
          2.723950147628784,
          0.04178530350327492,
          3.6787877082824707,
          4.741589546203613,
          2.504817485809326,
          -7.863263130187988,
          -3.5482141971588135,
          11.412091255187988,
          0.1513800024986267,
          12.663681030273438,
          -5.059576034545898,
          1.2335256338119507,
          -2.8099591732025146,
          5.725701332092285,
          -4.3136887550354,
          1.822409987449646,
          3.294379234313965,
          11.15251350402832,
          1.899417519569397,
          -0.25326839089393616,
          -3.3890726566314697,
          -4.063104629516602,
          3.6679890155792236,
          1.552471399307251,
          -3.4587175846099854,
          3.5229358673095703,
          6.477094650268555,
          2.3840982913970947,
          -1.1442456245422363,
          -5.186866760253906,
          1.290547490119934,
          0.13035878539085388,
          6.717672824859619,
          -6.046147346496582,
          9.008478164672852,
          -2.8602538108825684,
          11.7979097366333,
          -4.2860636711120605,
          -2.7576069831848145,
          3.6409976482391357,
          6.406928539276123,
          -1.251908540725708,
          -1.2495372295379639,
          2.6547489166259766,
          -3.294951915740967,
          -1.769196629524231,
          0.49017009139060974,
          -2.1018335819244385,
          1.9137592315673828,
          -0.24427303671836853,
          -0.8937297463417053,
          -3.8412301540374756,
          1.3359839916229248,
          -2.2716622352600098,
          1.2529181241989136,
          4.272997856140137,
          -0.2155701220035553,
          5.45800256729126,
          -0.8518458604812622,
          -1.6651968955993652,
          2.8346309661865234,
          -1.7908326387405396,
          4.761974811553955,
          -2.742851734161377,
          -1.6906369924545288,
          -2.5914974212646484,
          1.462134838104248,
          -3.841688871383667,
          -3.4946820735931396,
          -0.26592087745666504,
          -2.209129571914673,
          -3.5566020011901855,
          1.9033386707305908,
          0.46473556756973267,
          -0.8153126239776611,
          2.7436978816986084,
          -4.123538017272949,
          -2.9043734073638916,
          1.7268786430358887,
          8.380186080932617,
          6.39671516418457,
          2.7787492275238037,
          -3.22479248046875,
          9.151873588562012,
          4.217339992523193,
          -1.7061660289764404,
          2.965449333190918,
          -2.993391513824463,
          -1.9926522970199585,
          0.9039278626441956,
          -1.9994127750396729,
          5.913655757904053,
          12.360357284545898,
          -4.763159275054932,
          4.916298866271973,
          6.583763122558594,
          1.395594596862793,
          2.679943084716797,
          -7.625202655792236,
          -4.412509441375732,
          -1.0363764762878418,
          7.334146022796631,
          2.0336906909942627,
          -2.6972644329071045,
          6.931797981262207,
          9.34598445892334,
          -7.4650492668151855,
          -1.1877186298370361,
          -4.5359039306640625,
          1.4799845218658447,
          8.27292537689209,
          -0.16116997599601746,
          7.17026424407959,
          -3.696467161178589,
          -1.2248321771621704,
          -4.859281063079834,
          -4.029443264007568,
          -3.989122152328491,
          -0.09072751551866531,
          3.761652708053589,
          3.8658432960510254,
          -5.780618190765381,
          1.8103506565093994,
          -1.0526061058044434,
          -1.5091615915298462,
          0.44494006037712097,
          8.737229347229004,
          -3.1810247898101807,
          0.4929599463939667,
          -7.2772016525268555,
          2.126866340637207,
          3.6838109493255615,
          1.4161272048950195,
          -0.14962100982666016,
          -0.014346165582537651,
          9.079656600952148,
          -3.1143195629119873,
          -6.744724273681641,
          -7.184839725494385,
          -0.8565108776092529,
          0.3347558379173279,
          1.709945559501648,
          10.815154075622559,
          2.576880931854248,
          7.785775661468506,
          -0.5983055830001831,
          2.4368069171905518,
          0.1968335211277008,
          -0.48490840196609497,
          -7.351113319396973,
          -5.979135990142822,
          1.6949973106384277,
          11.072510719299316,
          3.855681896209717,
          -1.9185432195663452,
          -0.5956436395645142,
          4.845238208770752,
          2.39715313911438,
          -5.021764755249023,
          -2.311947822570801,
          10.821318626403809,
          2.946902275085449,
          -4.609133720397949,
          -4.378406524658203,
          3.560837984085083,
          -2.744997978210449,
          -4.928547382354736,
          5.781753063201904,
          -6.461211681365967,
          -0.110990509390831,
          -6.9085187911987305,
          -7.211394786834717,
          -3.303077459335327,
          12.127581596374512,
          -8.314947128295898,
          3.4031565189361572,
          -3.954376220703125,
          6.314199447631836,
          -7.485292434692383,
          -3.985114336013794,
          0.08984887599945068,
          -0.5524453520774841,
          4.5107245445251465,
          0.7166501879692078,
          6.2834553718566895,
          -1.1773691177368164,
          1.0625224113464355,
          9.923916816711426,
          0.19585664570331573,
          2.57184100151062,
          -2.998798370361328,
          -0.7569357752799988,
          -7.3484272956848145,
          -0.5781452655792236,
          -0.79344642162323,
          4.801022052764893,
          10.381745338439941,
          -0.038231465965509415,
          -2.2150962352752686,
          -4.073136806488037,
          -8.873050689697266,
          -7.024184703826904,
          13.190041542053223,
          -0.4786279499530792,
          -2.0112924575805664,
          -5.210902214050293,
          -2.315074920654297,
          0.9873793721199036,
          -2.6742281913757324,
          -0.5330107808113098,
          -5.556882858276367,
          -3.7189526557922363,
          -5.201015949249268,
          3.867828369140625,
          4.019717216491699,
          0.9377257227897644,
          0.606414258480072,
          -0.5552405118942261,
          -2.9613125324249268,
          6.438883304595947,
          -2.552715301513672,
          5.238944053649902,
          11.712212562561035,
          -5.6332688331604,
          -0.012316841632127762,
          10.196693420410156,
          0.776511013507843,
          -0.44399306178092957,
          2.5120151042938232,
          -1.0092090368270874,
          10.840527534484863,
          -1.3071470260620117,
          -3.7863221168518066,
          5.252204895019531,
          -4.56637716293335,
          -6.213577747344971,
          -7.7342071533203125,
          -4.754900932312012,
          4.166440963745117,
          4.289589881896973,
          0.21982435882091522,
          -3.2039716243743896,
          -0.9670719504356384,
          0.47188445925712585,
          -5.006416320800781,
          -0.8793317079544067,
          -9.070090293884277,
          5.708765983581543,
          1.667694091796875,
          -3.534609079360962,
          -6.245721340179443,
          -3.631838798522949,
          0.6417557597160339,
          -2.564649820327759,
          1.0573432445526123,
          2.9483695030212402,
          11.275311470031738,
          -5.493127346038818,
          3.875112295150757,
          -2.566621780395508,
          -4.290081977844238,
          -5.98790979385376,
          2.664897918701172,
          -3.1974241733551025,
          -3.733091354370117,
          -6.945450782775879,
          5.895406723022461,
          1.125218391418457,
          -1.6062641143798828,
          -6.854381084442139,
          0.1833803653717041,
          0.6053264141082764,
          4.450747966766357,
          4.6968488693237305,
          -5.806230545043945,
          1.1920158863067627,
          -1.9900561571121216,
          -1.0751590728759766,
          0.7789692282676697,
          -2.4114222526550293,
          0.23829717934131622,
          -2.175382137298584,
          6.306379795074463,
          -1.6879076957702637,
          -1.134468913078308,
          10.973934173583984,
          -0.4586089551448822,
          -2.5946013927459717,
          -3.8724327087402344,
          -8.96179485321045,
          3.2086873054504395,
          3.143266201019287,
          8.786523818969727,
          -5.545258045196533,
          -3.0492918491363525,
          -2.4339137077331543,
          -6.588342189788818,
          3.760265588760376,
          -4.132762432098389,
          3.3989601135253906,
          -0.6719561815261841,
          -7.05319356918335,
          4.621551036834717,
          -3.494722366333008,
          -6.751031875610352,
          -3.505471706390381,
          -8.148058891296387,
          8.065652847290039,
          -8.098411560058594,
          -6.130424499511719,
          6.657822608947754,
          -4.940994739532471,
          -3.2150869369506836,
          -3.113415241241455,
          -3.472182273864746,
          2.624255657196045,
          -4.9977264404296875,
          -6.871597766876221,
          2.634202241897583,
          2.952087640762329,
          -1.3321423530578613,
          0.28575557470321655,
          -0.9397794008255005,
          2.735029458999634,
          -1.7647645473480225,
          -1.94422447681427,
          1.9021735191345215,
          0.7795811891555786,
          9.144418716430664,
          -0.2560521066188812,
          -5.025500297546387,
          3.475576400756836,
          6.093216896057129,
          4.797420978546143,
          12.147201538085938,
          -4.693705081939697,
          -0.6606464982032776,
          -6.835474014282227,
          0.9185162782669067,
          1.2446085214614868,
          3.916308879852295,
          -7.652221202850342
         ],
         "yaxis": "y"
        }
       ],
       "layout": {
        "coloraxis": {
         "colorbar": {
          "title": {
           "text": "Predicted Label"
          }
         },
         "colorscale": [
          [
           0,
           "#0d0887"
          ],
          [
           0.1111111111111111,
           "#46039f"
          ],
          [
           0.2222222222222222,
           "#7201a8"
          ],
          [
           0.3333333333333333,
           "#9c179e"
          ],
          [
           0.4444444444444444,
           "#bd3786"
          ],
          [
           0.5555555555555556,
           "#d8576b"
          ],
          [
           0.6666666666666666,
           "#ed7953"
          ],
          [
           0.7777777777777778,
           "#fb9f3a"
          ],
          [
           0.8888888888888888,
           "#fdca26"
          ],
          [
           1,
           "#f0f921"
          ]
         ]
        },
        "legend": {
         "tracegroupgap": 0
        },
        "template": {
         "data": {
          "bar": [
           {
            "error_x": {
             "color": "#2a3f5f"
            },
            "error_y": {
             "color": "#2a3f5f"
            },
            "marker": {
             "line": {
              "color": "#E5ECF6",
              "width": 0.5
             },
             "pattern": {
              "fillmode": "overlay",
              "size": 10,
              "solidity": 0.2
             }
            },
            "type": "bar"
           }
          ],
          "barpolar": [
           {
            "marker": {
             "line": {
              "color": "#E5ECF6",
              "width": 0.5
             },
             "pattern": {
              "fillmode": "overlay",
              "size": 10,
              "solidity": 0.2
             }
            },
            "type": "barpolar"
           }
          ],
          "carpet": [
           {
            "aaxis": {
             "endlinecolor": "#2a3f5f",
             "gridcolor": "white",
             "linecolor": "white",
             "minorgridcolor": "white",
             "startlinecolor": "#2a3f5f"
            },
            "baxis": {
             "endlinecolor": "#2a3f5f",
             "gridcolor": "white",
             "linecolor": "white",
             "minorgridcolor": "white",
             "startlinecolor": "#2a3f5f"
            },
            "type": "carpet"
           }
          ],
          "choropleth": [
           {
            "colorbar": {
             "outlinewidth": 0,
             "ticks": ""
            },
            "type": "choropleth"
           }
          ],
          "contour": [
           {
            "colorbar": {
             "outlinewidth": 0,
             "ticks": ""
            },
            "colorscale": [
             [
              0,
              "#0d0887"
             ],
             [
              0.1111111111111111,
              "#46039f"
             ],
             [
              0.2222222222222222,
              "#7201a8"
             ],
             [
              0.3333333333333333,
              "#9c179e"
             ],
             [
              0.4444444444444444,
              "#bd3786"
             ],
             [
              0.5555555555555556,
              "#d8576b"
             ],
             [
              0.6666666666666666,
              "#ed7953"
             ],
             [
              0.7777777777777778,
              "#fb9f3a"
             ],
             [
              0.8888888888888888,
              "#fdca26"
             ],
             [
              1,
              "#f0f921"
             ]
            ],
            "type": "contour"
           }
          ],
          "contourcarpet": [
           {
            "colorbar": {
             "outlinewidth": 0,
             "ticks": ""
            },
            "type": "contourcarpet"
           }
          ],
          "heatmap": [
           {
            "colorbar": {
             "outlinewidth": 0,
             "ticks": ""
            },
            "colorscale": [
             [
              0,
              "#0d0887"
             ],
             [
              0.1111111111111111,
              "#46039f"
             ],
             [
              0.2222222222222222,
              "#7201a8"
             ],
             [
              0.3333333333333333,
              "#9c179e"
             ],
             [
              0.4444444444444444,
              "#bd3786"
             ],
             [
              0.5555555555555556,
              "#d8576b"
             ],
             [
              0.6666666666666666,
              "#ed7953"
             ],
             [
              0.7777777777777778,
              "#fb9f3a"
             ],
             [
              0.8888888888888888,
              "#fdca26"
             ],
             [
              1,
              "#f0f921"
             ]
            ],
            "type": "heatmap"
           }
          ],
          "heatmapgl": [
           {
            "colorbar": {
             "outlinewidth": 0,
             "ticks": ""
            },
            "colorscale": [
             [
              0,
              "#0d0887"
             ],
             [
              0.1111111111111111,
              "#46039f"
             ],
             [
              0.2222222222222222,
              "#7201a8"
             ],
             [
              0.3333333333333333,
              "#9c179e"
             ],
             [
              0.4444444444444444,
              "#bd3786"
             ],
             [
              0.5555555555555556,
              "#d8576b"
             ],
             [
              0.6666666666666666,
              "#ed7953"
             ],
             [
              0.7777777777777778,
              "#fb9f3a"
             ],
             [
              0.8888888888888888,
              "#fdca26"
             ],
             [
              1,
              "#f0f921"
             ]
            ],
            "type": "heatmapgl"
           }
          ],
          "histogram": [
           {
            "marker": {
             "pattern": {
              "fillmode": "overlay",
              "size": 10,
              "solidity": 0.2
             }
            },
            "type": "histogram"
           }
          ],
          "histogram2d": [
           {
            "colorbar": {
             "outlinewidth": 0,
             "ticks": ""
            },
            "colorscale": [
             [
              0,
              "#0d0887"
             ],
             [
              0.1111111111111111,
              "#46039f"
             ],
             [
              0.2222222222222222,
              "#7201a8"
             ],
             [
              0.3333333333333333,
              "#9c179e"
             ],
             [
              0.4444444444444444,
              "#bd3786"
             ],
             [
              0.5555555555555556,
              "#d8576b"
             ],
             [
              0.6666666666666666,
              "#ed7953"
             ],
             [
              0.7777777777777778,
              "#fb9f3a"
             ],
             [
              0.8888888888888888,
              "#fdca26"
             ],
             [
              1,
              "#f0f921"
             ]
            ],
            "type": "histogram2d"
           }
          ],
          "histogram2dcontour": [
           {
            "colorbar": {
             "outlinewidth": 0,
             "ticks": ""
            },
            "colorscale": [
             [
              0,
              "#0d0887"
             ],
             [
              0.1111111111111111,
              "#46039f"
             ],
             [
              0.2222222222222222,
              "#7201a8"
             ],
             [
              0.3333333333333333,
              "#9c179e"
             ],
             [
              0.4444444444444444,
              "#bd3786"
             ],
             [
              0.5555555555555556,
              "#d8576b"
             ],
             [
              0.6666666666666666,
              "#ed7953"
             ],
             [
              0.7777777777777778,
              "#fb9f3a"
             ],
             [
              0.8888888888888888,
              "#fdca26"
             ],
             [
              1,
              "#f0f921"
             ]
            ],
            "type": "histogram2dcontour"
           }
          ],
          "mesh3d": [
           {
            "colorbar": {
             "outlinewidth": 0,
             "ticks": ""
            },
            "type": "mesh3d"
           }
          ],
          "parcoords": [
           {
            "line": {
             "colorbar": {
              "outlinewidth": 0,
              "ticks": ""
             }
            },
            "type": "parcoords"
           }
          ],
          "pie": [
           {
            "automargin": true,
            "type": "pie"
           }
          ],
          "scatter": [
           {
            "fillpattern": {
             "fillmode": "overlay",
             "size": 10,
             "solidity": 0.2
            },
            "type": "scatter"
           }
          ],
          "scatter3d": [
           {
            "line": {
             "colorbar": {
              "outlinewidth": 0,
              "ticks": ""
             }
            },
            "marker": {
             "colorbar": {
              "outlinewidth": 0,
              "ticks": ""
             }
            },
            "type": "scatter3d"
           }
          ],
          "scattercarpet": [
           {
            "marker": {
             "colorbar": {
              "outlinewidth": 0,
              "ticks": ""
             }
            },
            "type": "scattercarpet"
           }
          ],
          "scattergeo": [
           {
            "marker": {
             "colorbar": {
              "outlinewidth": 0,
              "ticks": ""
             }
            },
            "type": "scattergeo"
           }
          ],
          "scattergl": [
           {
            "marker": {
             "colorbar": {
              "outlinewidth": 0,
              "ticks": ""
             }
            },
            "type": "scattergl"
           }
          ],
          "scattermapbox": [
           {
            "marker": {
             "colorbar": {
              "outlinewidth": 0,
              "ticks": ""
             }
            },
            "type": "scattermapbox"
           }
          ],
          "scatterpolar": [
           {
            "marker": {
             "colorbar": {
              "outlinewidth": 0,
              "ticks": ""
             }
            },
            "type": "scatterpolar"
           }
          ],
          "scatterpolargl": [
           {
            "marker": {
             "colorbar": {
              "outlinewidth": 0,
              "ticks": ""
             }
            },
            "type": "scatterpolargl"
           }
          ],
          "scatterternary": [
           {
            "marker": {
             "colorbar": {
              "outlinewidth": 0,
              "ticks": ""
             }
            },
            "type": "scatterternary"
           }
          ],
          "surface": [
           {
            "colorbar": {
             "outlinewidth": 0,
             "ticks": ""
            },
            "colorscale": [
             [
              0,
              "#0d0887"
             ],
             [
              0.1111111111111111,
              "#46039f"
             ],
             [
              0.2222222222222222,
              "#7201a8"
             ],
             [
              0.3333333333333333,
              "#9c179e"
             ],
             [
              0.4444444444444444,
              "#bd3786"
             ],
             [
              0.5555555555555556,
              "#d8576b"
             ],
             [
              0.6666666666666666,
              "#ed7953"
             ],
             [
              0.7777777777777778,
              "#fb9f3a"
             ],
             [
              0.8888888888888888,
              "#fdca26"
             ],
             [
              1,
              "#f0f921"
             ]
            ],
            "type": "surface"
           }
          ],
          "table": [
           {
            "cells": {
             "fill": {
              "color": "#EBF0F8"
             },
             "line": {
              "color": "white"
             }
            },
            "header": {
             "fill": {
              "color": "#C8D4E3"
             },
             "line": {
              "color": "white"
             }
            },
            "type": "table"
           }
          ]
         },
         "layout": {
          "annotationdefaults": {
           "arrowcolor": "#2a3f5f",
           "arrowhead": 0,
           "arrowwidth": 1
          },
          "autotypenumbers": "strict",
          "coloraxis": {
           "colorbar": {
            "outlinewidth": 0,
            "ticks": ""
           }
          },
          "colorscale": {
           "diverging": [
            [
             0,
             "#8e0152"
            ],
            [
             0.1,
             "#c51b7d"
            ],
            [
             0.2,
             "#de77ae"
            ],
            [
             0.3,
             "#f1b6da"
            ],
            [
             0.4,
             "#fde0ef"
            ],
            [
             0.5,
             "#f7f7f7"
            ],
            [
             0.6,
             "#e6f5d0"
            ],
            [
             0.7,
             "#b8e186"
            ],
            [
             0.8,
             "#7fbc41"
            ],
            [
             0.9,
             "#4d9221"
            ],
            [
             1,
             "#276419"
            ]
           ],
           "sequential": [
            [
             0,
             "#0d0887"
            ],
            [
             0.1111111111111111,
             "#46039f"
            ],
            [
             0.2222222222222222,
             "#7201a8"
            ],
            [
             0.3333333333333333,
             "#9c179e"
            ],
            [
             0.4444444444444444,
             "#bd3786"
            ],
            [
             0.5555555555555556,
             "#d8576b"
            ],
            [
             0.6666666666666666,
             "#ed7953"
            ],
            [
             0.7777777777777778,
             "#fb9f3a"
            ],
            [
             0.8888888888888888,
             "#fdca26"
            ],
            [
             1,
             "#f0f921"
            ]
           ],
           "sequentialminus": [
            [
             0,
             "#0d0887"
            ],
            [
             0.1111111111111111,
             "#46039f"
            ],
            [
             0.2222222222222222,
             "#7201a8"
            ],
            [
             0.3333333333333333,
             "#9c179e"
            ],
            [
             0.4444444444444444,
             "#bd3786"
            ],
            [
             0.5555555555555556,
             "#d8576b"
            ],
            [
             0.6666666666666666,
             "#ed7953"
            ],
            [
             0.7777777777777778,
             "#fb9f3a"
            ],
            [
             0.8888888888888888,
             "#fdca26"
            ],
            [
             1,
             "#f0f921"
            ]
           ]
          },
          "colorway": [
           "#636efa",
           "#EF553B",
           "#00cc96",
           "#ab63fa",
           "#FFA15A",
           "#19d3f3",
           "#FF6692",
           "#B6E880",
           "#FF97FF",
           "#FECB52"
          ],
          "font": {
           "color": "#2a3f5f"
          },
          "geo": {
           "bgcolor": "white",
           "lakecolor": "white",
           "landcolor": "#E5ECF6",
           "showlakes": true,
           "showland": true,
           "subunitcolor": "white"
          },
          "hoverlabel": {
           "align": "left"
          },
          "hovermode": "closest",
          "mapbox": {
           "style": "light"
          },
          "paper_bgcolor": "white",
          "plot_bgcolor": "#E5ECF6",
          "polar": {
           "angularaxis": {
            "gridcolor": "white",
            "linecolor": "white",
            "ticks": ""
           },
           "bgcolor": "#E5ECF6",
           "radialaxis": {
            "gridcolor": "white",
            "linecolor": "white",
            "ticks": ""
           }
          },
          "scene": {
           "xaxis": {
            "backgroundcolor": "#E5ECF6",
            "gridcolor": "white",
            "gridwidth": 2,
            "linecolor": "white",
            "showbackground": true,
            "ticks": "",
            "zerolinecolor": "white"
           },
           "yaxis": {
            "backgroundcolor": "#E5ECF6",
            "gridcolor": "white",
            "gridwidth": 2,
            "linecolor": "white",
            "showbackground": true,
            "ticks": "",
            "zerolinecolor": "white"
           },
           "zaxis": {
            "backgroundcolor": "#E5ECF6",
            "gridcolor": "white",
            "gridwidth": 2,
            "linecolor": "white",
            "showbackground": true,
            "ticks": "",
            "zerolinecolor": "white"
           }
          },
          "shapedefaults": {
           "line": {
            "color": "#2a3f5f"
           }
          },
          "ternary": {
           "aaxis": {
            "gridcolor": "white",
            "linecolor": "white",
            "ticks": ""
           },
           "baxis": {
            "gridcolor": "white",
            "linecolor": "white",
            "ticks": ""
           },
           "bgcolor": "#E5ECF6",
           "caxis": {
            "gridcolor": "white",
            "linecolor": "white",
            "ticks": ""
           }
          },
          "title": {
           "x": 0.05
          },
          "xaxis": {
           "automargin": true,
           "gridcolor": "white",
           "linecolor": "white",
           "ticks": "",
           "title": {
            "standoff": 15
           },
           "zerolinecolor": "white",
           "zerolinewidth": 2
          },
          "yaxis": {
           "automargin": true,
           "gridcolor": "white",
           "linecolor": "white",
           "ticks": "",
           "title": {
            "standoff": 15
           },
           "zerolinecolor": "white",
           "zerolinewidth": 2
          }
         }
        },
        "title": {
         "text": "Wizualizacja przestrzeni wektorowej prób testowych"
        },
        "xaxis": {
         "anchor": "y",
         "domain": [
          0,
          1
         ],
         "title": {
          "text": "x"
         }
        },
        "yaxis": {
         "anchor": "x",
         "domain": [
          0,
          1
         ],
         "title": {
          "text": "y"
         }
        }
       }
      }
     },
     "metadata": {},
     "output_type": "display_data"
    }
   ],
   "source": [
    "scaler = StandardScaler()\n",
    "scaled_vectors = scaler.fit_transform(embeddings)\n",
    "\n",
    "tsne = TSNE(n_components=2, random_state=42).fit_transform(scaled_vectors)\n",
    "\n",
    "df_tsne = pd.DataFrame(tsne, columns=['x', 'y'])\n",
    "df_tsne['Predicted Label']  = [predicted_labels_mask[i] for i in range(len(predicted_labels_mask))]\n",
    "df_tsne['Text'] = text['text']\n",
    "df_tsne['True label'] = [true_labels_mask[i] for i in range(len(true_labels_mask))]\n",
    "\n",
    "fig = px.scatter(df_tsne, x='x', y='y', color='Predicted Label', hover_data={'Text': True, 'True label': True}, title=\"Wizualizacja przestrzeni wektorowej prób testowych\")\n",
    "fig.show()"
   ]
  },
  {
   "cell_type": "code",
   "execution_count": 1,
   "metadata": {},
   "outputs": [
    {
     "name": "stdout",
     "output_type": "stream",
     "text": [
      "\n"
     ]
    }
   ],
   "source": [
    "print()"
   ]
  }
 ],
 "metadata": {
  "kernelspec": {
   "display_name": "Python 3",
   "language": "python",
   "name": "python3"
  },
  "language_info": {
   "codemirror_mode": {
    "name": "ipython",
    "version": 3
   },
   "file_extension": ".py",
   "mimetype": "text/x-python",
   "name": "python",
   "nbconvert_exporter": "python",
   "pygments_lexer": "ipython3",
   "version": "3.12.3"
  }
 },
 "nbformat": 4,
 "nbformat_minor": 2
}
