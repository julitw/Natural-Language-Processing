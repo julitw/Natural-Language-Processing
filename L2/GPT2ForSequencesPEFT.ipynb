{
 "cells": [
  {
   "cell_type": "code",
   "execution_count": 1,
   "metadata": {},
   "outputs": [
    {
     "name": "stderr",
     "output_type": "stream",
     "text": [
      "/home/iza/Desktop/Studia/sem2/nlp/NLP_task1/.venv/lib/python3.10/site-packages/tqdm/auto.py:21: TqdmWarning: IProgress not found. Please update jupyter and ipywidgets. See https://ipywidgets.readthedocs.io/en/stable/user_install.html\n",
      "  from .autonotebook import tqdm as notebook_tqdm\n"
     ]
    }
   ],
   "source": [
    "import pandas as pd\n",
    "import numpy as np\n",
    "import matplotlib.pyplot as plt\n",
    "from sklearn.model_selection import train_test_split\n",
    "from transformers import BertTokenizer, AutoTokenizer\n",
    "import torch\n",
    "from transformers import GPT2Tokenizer, GPT2ForSequenceClassification, Trainer, TrainingArguments, DataCollatorWithPadding\n",
    "from sklearn.metrics import accuracy_score, f1_score, precision_recall_fscore_support, confusion_matrix\n",
    "from torch.utils.data import Dataset\n",
    "import matplotlib.pyplot as plt\n",
    "from sklearn.decomposition import PCA\n",
    "from sklearn.manifold import TSNE\n",
    "import plotly.express as px\n",
    "from sklearn.preprocessing import StandardScaler\n",
    "import kagglehub\n",
    "from datasets import Dataset, DatasetDict\n",
    "import json\n",
    "import seaborn as sns\n",
    "from peft import get_peft_config, get_peft_model, LoraConfig, TaskType\n"
   ]
  },
  {
   "cell_type": "markdown",
   "metadata": {},
   "source": [
    "PEFT"
   ]
  },
  {
   "cell_type": "code",
   "execution_count": 2,
   "metadata": {},
   "outputs": [
    {
     "name": "stdout",
     "output_type": "stream",
     "text": [
      "Using device: cuda\n",
      "Warning: Looks like you're using an outdated `kagglehub` version, please consider updating (latest version: 0.3.4)\n",
      "Path to dataset files: /home/iza/.cache/kagglehub/datasets/waalbannyantudre/hate-speech-detection-curated-dataset/versions/1\n"
     ]
    }
   ],
   "source": [
    "device = \"cuda\" if torch.cuda.is_available() else \"cpu\"\n",
    "print(f\"Using device: {device}\")\n",
    "\n",
    "path = kagglehub.dataset_download(\"waalbannyantudre/hate-speech-detection-curated-dataset\")\n",
    "\n",
    "print(\"Path to dataset files:\", path)\n",
    "\n"
   ]
  },
  {
   "cell_type": "code",
   "execution_count": 3,
   "metadata": {},
   "outputs": [
    {
     "name": "stdout",
     "output_type": "stream",
     "text": [
      "['HateSpeechDatasetBalanced.csv', 'HateSpeechDataset.csv']\n"
     ]
    }
   ],
   "source": [
    "import os\n",
    "\n",
    "files = os.listdir(path)\n",
    "print(files)"
   ]
  },
  {
   "cell_type": "code",
   "execution_count": 4,
   "metadata": {},
   "outputs": [],
   "source": [
    "# Specify the path to the CSV file\n",
    "csv_file_path = os.path.join(path, 'HateSpeechDataset.csv') \n",
    "\n",
    "df = pd.read_csv(csv_file_path)\n",
    "df['text'] = df['Content']\n",
    "df = df.drop(columns=['Content_int', 'Content'])\n",
    "df = df[df['Label'] != 'Label']\n"
   ]
  },
  {
   "cell_type": "code",
   "execution_count": 5,
   "metadata": {},
   "outputs": [],
   "source": [
    "# Podział danych\n",
    "texts_train, texts_test, text_labels_train, text_labels_test = train_test_split(\n",
    "    df['text'], df['Label'], test_size=0.2, random_state=42\n",
    ")\n",
    "\n",
    "df_train = pd.DataFrame({'text': texts_train, 'LABEL': text_labels_train})\n",
    "df_test = pd.DataFrame({'text': texts_test, 'LABEL': text_labels_test})"
   ]
  },
  {
   "cell_type": "code",
   "execution_count": 6,
   "metadata": {},
   "outputs": [
    {
     "name": "stderr",
     "output_type": "stream",
     "text": [
      "/tmp/ipykernel_10509/27425786.py:5: DeprecationWarning: DataFrameGroupBy.apply operated on the grouping columns. This behavior is deprecated, and in a future version of pandas the grouping columns will be excluded from the operation. Either pass `include_groups=False` to exclude the groupings or explicitly select the grouping columns after groupby to silence this warning.\n",
      "  df_train_balanced = df_train.groupby('LABEL').apply(lambda x: x.sample(min_class_count_train)).reset_index(drop=True)\n",
      "/tmp/ipykernel_10509/27425786.py:6: DeprecationWarning: DataFrameGroupBy.apply operated on the grouping columns. This behavior is deprecated, and in a future version of pandas the grouping columns will be excluded from the operation. Either pass `include_groups=False` to exclude the groupings or explicitly select the grouping columns after groupby to silence this warning.\n",
      "  df_test_balanced = df_test.groupby('LABEL').apply(lambda x: x.sample(min_class_count_test)).reset_index(drop=True)\n"
     ]
    }
   ],
   "source": [
    "# Ustalanie minimalnej liczby klas\n",
    "min_class_count_train = 500\n",
    "min_class_count_test = 250\n",
    "\n",
    "df_train_balanced = df_train.groupby('LABEL').apply(lambda x: x.sample(min_class_count_train)).reset_index(drop=True)\n",
    "df_test_balanced = df_test.groupby('LABEL').apply(lambda x: x.sample(min_class_count_test)).reset_index(drop=True)\n",
    "\n",
    "train_json = df_train_balanced.to_json(orient='records')\n",
    "test_json = df_test_balanced.to_json(orient='records')\n",
    "\n",
    "train_dataset = Dataset.from_list(json.loads(train_json))\n",
    "test_dataset = Dataset.from_list(json.loads(test_json))\n",
    "\n",
    "dataset = DatasetDict({\n",
    "    'train': train_dataset,\n",
    "    'test': test_dataset\n",
    "})\n"
   ]
  },
  {
   "cell_type": "code",
   "execution_count": 7,
   "metadata": {},
   "outputs": [
    {
     "name": "stderr",
     "output_type": "stream",
     "text": [
      "Some weights of GPT2ForSequenceClassification were not initialized from the model checkpoint at gpt2 and are newly initialized: ['score.weight']\n",
      "You should probably TRAIN this model on a down-stream task to be able to use it for predictions and inference.\n",
      "Map: 100%|██████████| 1000/1000 [00:00<00:00, 2346.55 examples/s]\n",
      "Map: 100%|██████████| 500/500 [00:00<00:00, 2307.22 examples/s]\n"
     ]
    }
   ],
   "source": [
    "# Mapowanie etykiet\n",
    "sorted_labels = sorted(set(dataset['train']['LABEL']))\n",
    "label2id = dict(zip(sorted_labels, range(len(sorted_labels))))\n",
    "id2label = dict(zip(range(len(sorted_labels)), sorted_labels))\n",
    "\n",
    "# Tokenizacja\n",
    "tokenizer = GPT2Tokenizer.from_pretrained(\"gpt2\")\n",
    "tokenizer.pad_token = tokenizer.eos_token  # Set pad_token to be the same as eos_token\n",
    "model = GPT2ForSequenceClassification.from_pretrained(\"gpt2\", num_labels=len(label2id), label2id=label2id, id2label=id2label)\n",
    "\n",
    "# Funkcja preprocessing\n",
    "def preprocess_function(examples):\n",
    "    tokens = tokenizer(examples[\"text\"], padding=\"max_length\", truncation=True, return_tensors='pt')\n",
    "    tokens['label'] = [label2id[l] for l in examples[\"LABEL\"]]\n",
    "    return tokens\n",
    "\n",
    "# Tokenizacja zbiorów\n",
    "tokenized_ds = {}\n",
    "for split in ['train', 'test']:\n",
    "    tokenized_ds[split] = dataset[split].map(preprocess_function, batched=True)\n",
    "\n",
    "# Funkcja do obliczania metryk\n",
    "def compute_metrics(eval_pred):\n",
    "    predictions, labels = eval_pred\n",
    "    predictions = np.argmax(predictions, axis=1)\n",
    "    return {\"accuracy\": (predictions == labels).mean() * 100, \"f1\": f1_score(labels, predictions, average='weighted')}\n",
    "\n",
    "\n"
   ]
  },
  {
   "cell_type": "code",
   "execution_count": 8,
   "metadata": {},
   "outputs": [],
   "source": [
    "tokenizer.pad_token = tokenizer.eos_token\n",
    "model.config.pad_token_id = tokenizer.pad_token_id"
   ]
  },
  {
   "cell_type": "code",
   "execution_count": 9,
   "metadata": {},
   "outputs": [
    {
     "name": "stdout",
     "output_type": "stream",
     "text": [
      "trainable params: 296,448 || all params: 124,737,792 || trainable%: 0.2377\n"
     ]
    },
    {
     "name": "stderr",
     "output_type": "stream",
     "text": [
      "/home/iza/Desktop/Studia/sem2/nlp/NLP_task1/.venv/lib/python3.10/site-packages/peft/tuners/lora/layer.py:1150: UserWarning: fan_in_fan_out is set to False but the target module is `Conv1D`. Setting fan_in_fan_out to True.\n",
      "  warnings.warn(\n"
     ]
    }
   ],
   "source": [
    "# Konfiguracja Lora Adapter\n",
    "peft_config = LoraConfig(\n",
    "    task_type=TaskType.SEQ_CLS,  # Sekwencja klasyfikacji\n",
    "    inference_mode=False,       # Tryb treningowy\n",
    "    r=8,                        # Stopień redukcji\n",
    "    lora_alpha=1,              # Współczynnik skalowania Lora\n",
    "    lora_dropout=0.1            # Dropout w adapterze\n",
    ")\n",
    "\n",
    "# Inicjalizacja adaptera w modelu\n",
    "peft_model = get_peft_model(model, peft_config)\n",
    "peft_model.print_trainable_parameters()\n"
   ]
  },
  {
   "cell_type": "code",
   "execution_count": 10,
   "metadata": {},
   "outputs": [
    {
     "name": "stderr",
     "output_type": "stream",
     "text": [
      "/home/iza/Desktop/Studia/sem2/nlp/NLP_task1/.venv/lib/python3.10/site-packages/transformers/training_args.py:1559: FutureWarning: `evaluation_strategy` is deprecated and will be removed in version 4.46 of 🤗 Transformers. Use `eval_strategy` instead\n",
      "  warnings.warn(\n",
      "/tmp/ipykernel_10509/649847463.py:2: FutureWarning: `tokenizer` is deprecated and will be removed in version 5.0.0 for `Trainer.__init__`. Use `processing_class` instead.\n",
      "  trainer = Trainer(\n",
      " 20%|██        | 500/2500 [03:03<12:12,  2.73it/s]"
     ]
    },
    {
     "name": "stdout",
     "output_type": "stream",
     "text": [
      "{'loss': 0.8889, 'grad_norm': 8.326313018798828, 'learning_rate': 0.0016, 'epoch': 1.0}\n"
     ]
    },
    {
     "name": "stderr",
     "output_type": "stream",
     "text": [
      "                                                  \n",
      " 20%|██        | 500/2500 [03:38<12:12,  2.73it/s]"
     ]
    },
    {
     "name": "stdout",
     "output_type": "stream",
     "text": [
      "{'eval_loss': 0.7771875262260437, 'eval_accuracy': 75.4, 'eval_f1': 0.748024140516489, 'eval_runtime': 35.1226, 'eval_samples_per_second': 14.236, 'eval_steps_per_second': 7.118, 'epoch': 1.0}\n"
     ]
    },
    {
     "name": "stderr",
     "output_type": "stream",
     "text": [
      " 40%|████      | 1000/2500 [06:42<09:09,  2.73it/s] "
     ]
    },
    {
     "name": "stdout",
     "output_type": "stream",
     "text": [
      "{'loss': 0.8757, 'grad_norm': 25.04476547241211, 'learning_rate': 0.0012, 'epoch': 2.0}\n"
     ]
    },
    {
     "name": "stderr",
     "output_type": "stream",
     "text": [
      "                                                   \n",
      " 40%|████      | 1000/2500 [07:17<09:09,  2.73it/s]"
     ]
    },
    {
     "name": "stdout",
     "output_type": "stream",
     "text": [
      "{'eval_loss': 1.1586494445800781, 'eval_accuracy': 73.4, 'eval_f1': 0.7244676839955086, 'eval_runtime': 35.5061, 'eval_samples_per_second': 14.082, 'eval_steps_per_second': 7.041, 'epoch': 2.0}\n"
     ]
    },
    {
     "name": "stderr",
     "output_type": "stream",
     "text": [
      " 60%|██████    | 1500/2500 [10:20<06:00,  2.77it/s]  "
     ]
    },
    {
     "name": "stdout",
     "output_type": "stream",
     "text": [
      "{'loss': 0.5943, 'grad_norm': 2.272913932800293, 'learning_rate': 0.0008, 'epoch': 3.0}\n"
     ]
    },
    {
     "name": "stderr",
     "output_type": "stream",
     "text": [
      "                                                   \n",
      " 60%|██████    | 1500/2500 [10:55<06:00,  2.77it/s]"
     ]
    },
    {
     "name": "stdout",
     "output_type": "stream",
     "text": [
      "{'eval_loss': 0.958213746547699, 'eval_accuracy': 80.60000000000001, 'eval_f1': 0.8059930157485669, 'eval_runtime': 35.0372, 'eval_samples_per_second': 14.271, 'eval_steps_per_second': 7.135, 'epoch': 3.0}\n"
     ]
    },
    {
     "name": "stderr",
     "output_type": "stream",
     "text": [
      " 80%|████████  | 2000/2500 [14:00<03:04,  2.71it/s]  "
     ]
    },
    {
     "name": "stdout",
     "output_type": "stream",
     "text": [
      "{'loss': 0.5039, 'grad_norm': 31.324573516845703, 'learning_rate': 0.0004, 'epoch': 4.0}\n"
     ]
    },
    {
     "name": "stderr",
     "output_type": "stream",
     "text": [
      "                                                   \n",
      " 80%|████████  | 2000/2500 [14:36<03:04,  2.71it/s]"
     ]
    },
    {
     "name": "stdout",
     "output_type": "stream",
     "text": [
      "{'eval_loss': 1.005823016166687, 'eval_accuracy': 78.0, 'eval_f1': 0.7794035070831529, 'eval_runtime': 35.9829, 'eval_samples_per_second': 13.895, 'eval_steps_per_second': 6.948, 'epoch': 4.0}\n"
     ]
    },
    {
     "name": "stderr",
     "output_type": "stream",
     "text": [
      "100%|██████████| 2500/2500 [17:42<00:00,  2.75it/s]  "
     ]
    },
    {
     "name": "stdout",
     "output_type": "stream",
     "text": [
      "{'loss': 0.4162, 'grad_norm': 2.891008261940442e-05, 'learning_rate': 0.0, 'epoch': 5.0}\n"
     ]
    },
    {
     "name": "stderr",
     "output_type": "stream",
     "text": [
      "                                                   \n",
      "100%|██████████| 2500/2500 [18:19<00:00,  2.75it/s]"
     ]
    },
    {
     "name": "stdout",
     "output_type": "stream",
     "text": [
      "{'eval_loss': 0.9017491936683655, 'eval_accuracy': 78.60000000000001, 'eval_f1': 0.7851742096619405, 'eval_runtime': 35.9658, 'eval_samples_per_second': 13.902, 'eval_steps_per_second': 6.951, 'epoch': 5.0}\n"
     ]
    },
    {
     "name": "stderr",
     "output_type": "stream",
     "text": [
      "100%|██████████| 2500/2500 [18:19<00:00,  2.27it/s]"
     ]
    },
    {
     "name": "stdout",
     "output_type": "stream",
     "text": [
      "{'train_runtime': 1099.8737, 'train_samples_per_second': 4.546, 'train_steps_per_second': 2.273, 'train_loss': 0.6558102844238282, 'epoch': 5.0}\n"
     ]
    },
    {
     "name": "stderr",
     "output_type": "stream",
     "text": [
      "\n"
     ]
    },
    {
     "data": {
      "text/plain": [
       "TrainOutput(global_step=2500, training_loss=0.6558102844238282, metrics={'train_runtime': 1099.8737, 'train_samples_per_second': 4.546, 'train_steps_per_second': 2.273, 'total_flos': 2622074388480000.0, 'train_loss': 0.6558102844238282, 'epoch': 5.0})"
      ]
     },
     "execution_count": 10,
     "metadata": {},
     "output_type": "execute_result"
    }
   ],
   "source": [
    "# Ustawienia trenera z PEFT\n",
    "trainer = Trainer(\n",
    "    model=peft_model,  # Używamy modelu z adapterem\n",
    "    args=TrainingArguments(\n",
    "        output_dir=\"gpt2-peft-classification\",\n",
    "        learning_rate=2e-3,\n",
    "        per_device_train_batch_size=2,\n",
    "        per_device_eval_batch_size=2,\n",
    "        num_train_epochs=5,\n",
    "        weight_decay=0.01,\n",
    "        evaluation_strategy=\"epoch\",\n",
    "        save_strategy=\"epoch\",\n",
    "        load_best_model_at_end=True,\n",
    "    ),\n",
    "    train_dataset=tokenized_ds[\"train\"],\n",
    "    eval_dataset=tokenized_ds[\"test\"],\n",
    "    tokenizer=tokenizer,\n",
    "    data_collator=DataCollatorWithPadding(tokenizer=tokenizer),\n",
    "    compute_metrics=compute_metrics,\n",
    ")\n",
    "\n",
    "# Trening\n",
    "trainer.train()\n"
   ]
  },
  {
   "cell_type": "code",
   "execution_count": 11,
   "metadata": {},
   "outputs": [],
   "source": [
    "# Zapis modelu z adapterem\n",
    "peft_model.save_pretrained(\"gpt2_peft_model_weights\")\n"
   ]
  },
  {
   "cell_type": "code",
   "execution_count": 12,
   "metadata": {},
   "outputs": [
    {
     "name": "stderr",
     "output_type": "stream",
     "text": [
      "100%|██████████| 250/250 [00:35<00:00,  7.08it/s]"
     ]
    },
    {
     "name": "stdout",
     "output_type": "stream",
     "text": [
      "Wyniki:\n",
      "--------------------\n",
      "Test Loss: 0.7772\n",
      "Test Accuracy: 75.4000\n",
      "Test F1: 0.7480\n",
      "Test Runtime: 35.4335\n",
      "Test Samples Per Second: 14.1110\n",
      "Test Steps Per Second: 7.0550\n"
     ]
    },
    {
     "name": "stderr",
     "output_type": "stream",
     "text": [
      "\n"
     ]
    }
   ],
   "source": [
    "# Predykcje\n",
    "predictions = trainer.predict(tokenized_ds['test'])\n",
    "predicted_labels = predictions.predictions.argmax(axis=1)\n",
    "true_labels = predictions.label_ids\n",
    "metrics = predictions.metrics\n",
    "\n",
    "print(\"Wyniki:\")\n",
    "print(\"-\" * 20)\n",
    "for key, value in metrics.items():\n",
    "    print(f\"{key.replace('_', ' ').title()}: {value:.4f}\" if isinstance(value, float) else f\"{key.replace('_', ' ').title()}: {value}\")\n"
   ]
  },
  {
   "cell_type": "code",
   "execution_count": 13,
   "metadata": {},
   "outputs": [
    {
     "data": {
      "image/png": "[encoded data removed]",
      "text/plain": [
       "<Figure size 500x500 with 2 Axes>"
      ]
     },
     "metadata": {},
     "output_type": "display_data"
    }
   ],
   "source": [
    "# Macierz konfuzji\n",
    "conf_matrix = confusion_matrix(true_labels, predicted_labels)\n",
    "labels = np.unique(true_labels)\n",
    "confusion_df = pd.DataFrame(conf_matrix, index=labels, columns=labels)\n",
    "\n",
    "plt.figure(figsize=(5, 5))\n",
    "sns.heatmap(confusion_df, annot=True, fmt='d', cmap='Blues', cbar=True,\n",
    "            xticklabels=labels, yticklabels=labels)\n",
    "plt.title('Macierz Konfuzji')\n",
    "plt.xlabel('Przewidywane Etykiety')\n",
    "plt.ylabel('Rzeczywiste Etykiety')\n",
    "plt.show()"
   ]
  },
  {
   "cell_type": "code",
   "execution_count": 14,
   "metadata": {},
   "outputs": [],
   "source": [
    "torch.cuda.empty_cache()\n"
   ]
  },
  {
   "cell_type": "code",
   "execution_count": null,
   "metadata": {},
   "outputs": [],
   "source": [
    "from torch.utils.data import DataLoader\n",
    "\n",
    "def get_embeddings_peft(examples):\n",
    "    # Tokenizacja danych\n",
    "    inputs = tokenizer(examples, padding=\"max_length\", truncation=True, return_tensors='pt')    \n",
    "    inputs = {k: v.to('cpu') for k, v in inputs.items()}  # Przenieś dane na CPU\n",
    "\n",
    "    # Przenieś model na CPU\n",
    "    peft_model.to('cpu')  \n",
    "\n",
    "    with torch.no_grad():  # Wyłączamy gradienty dla oszczędności pamięci\n",
    "        outputs = peft_model(**inputs, output_hidden_states=True)\n",
    "    \n",
    "    # Pobierz osadzenia dla CLS tokenu z ostatniej warstwy\n",
    "    token_embeddings = outputs.hidden_states[-1][:, 0, :].numpy()  # Już na CPU\n",
    "    return token_embeddings\n",
    "\n",
    "\n",
    "\n",
    "# Przygotowanie tekstów do wizualizacji\n",
    "text = pd.DataFrame(tokenized_ds['test']['text'], columns=['text'])\n",
    "\n",
    "# Opcjonalne dzielenie tekstu na wiersze dla czytelności\n",
    "def wrap_text(text, width=40):\n",
    "    return '<br>'.join([text[i:i+width] for i in range(0, len(text), width)])\n",
    "\n",
    "text['text'] = text['text'].apply(wrap_text)\n",
    "\n",
    "# Uzyskanie osadzeń za pomocą PEFT\n",
    "embeddings = get_embeddings_peft(dataset['test']['text'])\n",
    "\n"
   ]
  },
  {
   "cell_type": "code",
   "execution_count": null,
   "metadata": {},
   "outputs": [],
   "source": [
    "# PCA - Redukcja wymiarów\n",
    "pca = PCA(n_components=2).fit_transform(embeddings)\n",
    "\n",
    "df_pca = pd.DataFrame(pca, columns=['PCA1', 'PCA2'])\n",
    "df_pca['Predicted Label']  = [predicted_labels[i] for i in range(len(predicted_labels))]\n",
    "df_pca['Text'] = text['text']\n",
    "df_pca['True label'] = [true_labels[i] for i in range(len(true_labels))]\n",
    "\n",
    "fig = px.scatter(\n",
    "    df_pca, \n",
    "    x=\"PCA1\", \n",
    "    y=\"PCA2\", \n",
    "    color=\"Predicted Label\", \n",
    "    hover_data={'Text': True, 'True label': True}, \n",
    "    title=\"Wizualizacja przestrzeni wektorowej (PCA) dla PEFT\",\n",
    "    labels={\"PCA1\": \"Pierwsza składowa główna\", \"PCA2\": \"Druga składowa główna\"}\n",
    ")\n",
    "fig.show()\n"
   ]
  },
  {
   "cell_type": "code",
   "execution_count": null,
   "metadata": {},
   "outputs": [],
   "source": [
    "# TSNE - Wizualizacja nieliniowa\n",
    "scaler = StandardScaler()\n",
    "scaled_vectors = scaler.fit_transform(embeddings)\n",
    "\n",
    "tsne = TSNE(n_components=2, random_state=42).fit_transform(scaled_vectors)\n",
    "\n",
    "df_tsne = pd.DataFrame(tsne, columns=['x', 'y'])\n",
    "df_tsne['Predicted Label']  = [predicted_labels[i] for i in range(len(predicted_labels))]\n",
    "df_tsne['Text'] = text['text']\n",
    "df_tsne['True label'] = [true_labels[i] for i in range(len(true_labels))]\n",
    "\n",
    "fig = px.scatter(\n",
    "    df_tsne, \n",
    "    x='x', \n",
    "    y='y', \n",
    "    color='Predicted Label', \n",
    "    hover_data={'Text': True, 'True label': True}, \n",
    "    title=\"Wizualizacja TSNE dla PEFT\",\n",
    ")\n",
    "fig.show()"
   ]
  }
 ],
 "metadata": {
  "kernelspec": {
   "display_name": ".venv",
   "language": "python",
   "name": "python3"
  },
  "language_info": {
   "codemirror_mode": {
    "name": "ipython",
    "version": 3
   },
   "file_extension": ".py",
   "mimetype": "text/x-python",
   "name": "python",
   "nbconvert_exporter": "python",
   "pygments_lexer": "ipython3",
   "version": "3.10.12"
  }
 },
 "nbformat": 4,
 "nbformat_minor": 2
}
