{
 "cells": [
  {
   "cell_type": "code",
   "execution_count": 1,
   "metadata": {},
   "outputs": [
    {
     "name": "stderr",
     "output_type": "stream",
     "text": [
      "/home/iza/Desktop/Studia/sem2/nlp/NLP_task1/.venv/lib/python3.10/site-packages/tqdm/auto.py:21: TqdmWarning: IProgress not found. Please update jupyter and ipywidgets. See https://ipywidgets.readthedocs.io/en/stable/user_install.html\n",
      "  from .autonotebook import tqdm as notebook_tqdm\n"
     ]
    }
   ],
   "source": [
    "import pandas as pd\n",
    "import numpy as np\n",
    "import matplotlib.pyplot as plt\n",
    "from sklearn.model_selection import train_test_split\n",
    "from transformers import BertTokenizer, AutoTokenizer\n",
    "import torch\n",
    "from transformers import GPT2Tokenizer, GPT2ForSequenceClassification, Trainer, TrainingArguments, DataCollatorWithPadding\n",
    "from sklearn.metrics import accuracy_score, f1_score, precision_recall_fscore_support, confusion_matrix\n",
    "from torch.utils.data import Dataset\n",
    "import matplotlib.pyplot as plt\n",
    "from sklearn.decomposition import PCA\n",
    "from sklearn.manifold import TSNE\n",
    "import plotly.express as px\n",
    "from sklearn.preprocessing import StandardScaler\n",
    "import kagglehub\n",
    "from datasets import Dataset, DatasetDict\n",
    "import json\n",
    "import seaborn as sns\n",
    "from peft import get_peft_config, get_peft_model, LoraConfig, TaskType\n"
   ]
  },
  {
   "cell_type": "markdown",
   "metadata": {},
   "source": [
    "PEFT"
   ]
  },
  {
   "cell_type": "code",
   "execution_count": 2,
   "metadata": {},
   "outputs": [
    {
     "name": "stdout",
     "output_type": "stream",
     "text": [
      "Using device: cuda\n",
      "Warning: Looks like you're using an outdated `kagglehub` version, please consider updating (latest version: 0.3.4)\n",
      "Path to dataset files: /home/iza/.cache/kagglehub/datasets/waalbannyantudre/hate-speech-detection-curated-dataset/versions/1\n"
     ]
    }
   ],
   "source": [
    "device = \"cuda\" if torch.cuda.is_available() else \"cpu\"\n",
    "print(f\"Using device: {device}\")\n",
    "\n",
    "path = kagglehub.dataset_download(\"waalbannyantudre/hate-speech-detection-curated-dataset\")\n",
    "\n",
    "print(\"Path to dataset files:\", path)\n",
    "\n"
   ]
  },
  {
   "cell_type": "code",
   "execution_count": 3,
   "metadata": {},
   "outputs": [
    {
     "name": "stdout",
     "output_type": "stream",
     "text": [
      "['HateSpeechDatasetBalanced.csv', 'HateSpeechDataset.csv']\n"
     ]
    }
   ],
   "source": [
    "import os\n",
    "\n",
    "files = os.listdir(path)\n",
    "print(files)"
   ]
  },
  {
   "cell_type": "code",
   "execution_count": 4,
   "metadata": {},
   "outputs": [],
   "source": [
    "# Specify the path to the CSV file\n",
    "csv_file_path = os.path.join(path, 'HateSpeechDataset.csv') \n",
    "\n",
    "df = pd.read_csv(csv_file_path)\n",
    "df['text'] = df['Content']\n",
    "df = df.drop(columns=['Content_int', 'Content'])\n",
    "df = df[df['Label'] != 'Label']\n"
   ]
  },
  {
   "cell_type": "code",
   "execution_count": 5,
   "metadata": {},
   "outputs": [],
   "source": [
    "# Podział danych\n",
    "texts_train, texts_test, text_labels_train, text_labels_test = train_test_split(\n",
    "    df['text'], df['Label'], test_size=0.2, random_state=42\n",
    ")\n",
    "\n",
    "df_train = pd.DataFrame({'text': texts_train, 'LABEL': text_labels_train})\n",
    "df_test = pd.DataFrame({'text': texts_test, 'LABEL': text_labels_test})"
   ]
  },
  {
   "cell_type": "code",
   "execution_count": 6,
   "metadata": {},
   "outputs": [
    {
     "name": "stderr",
     "output_type": "stream",
     "text": [
      "/tmp/ipykernel_3885/27425786.py:5: DeprecationWarning: DataFrameGroupBy.apply operated on the grouping columns. This behavior is deprecated, and in a future version of pandas the grouping columns will be excluded from the operation. Either pass `include_groups=False` to exclude the groupings or explicitly select the grouping columns after groupby to silence this warning.\n",
      "  df_train_balanced = df_train.groupby('LABEL').apply(lambda x: x.sample(min_class_count_train)).reset_index(drop=True)\n",
      "/tmp/ipykernel_3885/27425786.py:6: DeprecationWarning: DataFrameGroupBy.apply operated on the grouping columns. This behavior is deprecated, and in a future version of pandas the grouping columns will be excluded from the operation. Either pass `include_groups=False` to exclude the groupings or explicitly select the grouping columns after groupby to silence this warning.\n",
      "  df_test_balanced = df_test.groupby('LABEL').apply(lambda x: x.sample(min_class_count_test)).reset_index(drop=True)\n"
     ]
    }
   ],
   "source": [
    "# Ustalanie minimalnej liczby klas\n",
    "min_class_count_train = 500\n",
    "min_class_count_test = 250\n",
    "\n",
    "df_train_balanced = df_train.groupby('LABEL').apply(lambda x: x.sample(min_class_count_train)).reset_index(drop=True)\n",
    "df_test_balanced = df_test.groupby('LABEL').apply(lambda x: x.sample(min_class_count_test)).reset_index(drop=True)\n",
    "\n",
    "train_json = df_train_balanced.to_json(orient='records')\n",
    "test_json = df_test_balanced.to_json(orient='records')\n",
    "\n",
    "train_dataset = Dataset.from_list(json.loads(train_json))\n",
    "test_dataset = Dataset.from_list(json.loads(test_json))\n",
    "\n",
    "dataset = DatasetDict({\n",
    "    'train': train_dataset,\n",
    "    'test': test_dataset\n",
    "})\n"
   ]
  },
  {
   "cell_type": "code",
   "execution_count": 7,
   "metadata": {},
   "outputs": [
    {
     "name": "stderr",
     "output_type": "stream",
     "text": [
      "Some weights of GPT2ForSequenceClassification were not initialized from the model checkpoint at gpt2 and are newly initialized: ['score.weight']\n",
      "You should probably TRAIN this model on a down-stream task to be able to use it for predictions and inference.\n",
      "Map: 100%|██████████| 1000/1000 [00:00<00:00, 2371.54 examples/s]\n",
      "Map: 100%|██████████| 500/500 [00:00<00:00, 2270.39 examples/s]\n"
     ]
    }
   ],
   "source": [
    "# Mapowanie etykiet\n",
    "sorted_labels = sorted(set(dataset['train']['LABEL']))\n",
    "label2id = dict(zip(sorted_labels, range(len(sorted_labels))))\n",
    "id2label = dict(zip(range(len(sorted_labels)), sorted_labels))\n",
    "\n",
    "# Tokenizacja\n",
    "tokenizer = GPT2Tokenizer.from_pretrained(\"gpt2\")\n",
    "tokenizer.pad_token = tokenizer.eos_token  # Set pad_token to be the same as eos_token\n",
    "model = GPT2ForSequenceClassification.from_pretrained(\"gpt2\", num_labels=len(label2id), label2id=label2id, id2label=id2label)\n",
    "\n",
    "# Funkcja preprocessing\n",
    "def preprocess_function(examples):\n",
    "    tokens = tokenizer(examples[\"text\"], padding=\"max_length\", truncation=True, return_tensors='pt')\n",
    "    tokens['label'] = [label2id[l] for l in examples[\"LABEL\"]]\n",
    "    return tokens\n",
    "\n",
    "# Tokenizacja zbiorów\n",
    "tokenized_ds = {}\n",
    "for split in ['train', 'test']:\n",
    "    tokenized_ds[split] = dataset[split].map(preprocess_function, batched=True)\n",
    "\n",
    "# Funkcja do obliczania metryk\n",
    "def compute_metrics(eval_pred):\n",
    "    predictions, labels = eval_pred\n",
    "    predictions = np.argmax(predictions, axis=1)\n",
    "    return {\"accuracy\": (predictions == labels).mean() * 100, \"f1\": f1_score(labels, predictions, average='weighted')}\n",
    "\n",
    "\n"
   ]
  },
  {
   "cell_type": "code",
   "execution_count": 8,
   "metadata": {},
   "outputs": [],
   "source": [
    "tokenizer.pad_token = tokenizer.eos_token\n",
    "model.config.pad_token_id = tokenizer.pad_token_id"
   ]
  },
  {
   "cell_type": "code",
   "execution_count": 9,
   "metadata": {},
   "outputs": [
    {
     "name": "stdout",
     "output_type": "stream",
     "text": [
      "trainable params: 296,448 || all params: 124,737,792 || trainable%: 0.2377\n"
     ]
    },
    {
     "name": "stderr",
     "output_type": "stream",
     "text": [
      "/home/iza/Desktop/Studia/sem2/nlp/NLP_task1/.venv/lib/python3.10/site-packages/peft/tuners/lora/layer.py:1150: UserWarning: fan_in_fan_out is set to False but the target module is `Conv1D`. Setting fan_in_fan_out to True.\n",
      "  warnings.warn(\n"
     ]
    }
   ],
   "source": [
    "# Konfiguracja Lora Adapter\n",
    "peft_config = LoraConfig(\n",
    "    task_type=TaskType.SEQ_CLS,  # Sekwencja klasyfikacji\n",
    "    inference_mode=False,       # Tryb treningowy\n",
    "    r=8,                        # Stopień redukcji\n",
    "    lora_alpha=1,              # Współczynnik skalowania Lora\n",
    "    lora_dropout=0.1            # Dropout w adapterze\n",
    ")\n",
    "\n",
    "# Inicjalizacja adaptera w modelu\n",
    "peft_model = get_peft_model(model, peft_config)\n",
    "peft_model.print_trainable_parameters()\n"
   ]
  },
  {
   "cell_type": "code",
   "execution_count": 10,
   "metadata": {},
   "outputs": [
    {
     "name": "stderr",
     "output_type": "stream",
     "text": [
      "/home/iza/Desktop/Studia/sem2/nlp/NLP_task1/.venv/lib/python3.10/site-packages/transformers/training_args.py:1545: FutureWarning: `evaluation_strategy` is deprecated and will be removed in version 4.46 of 🤗 Transformers. Use `eval_strategy` instead\n",
      "  warnings.warn(\n",
      " 12%|█▎        | 500/4000 [02:54<20:17,  2.87it/s]"
     ]
    },
    {
     "name": "stdout",
     "output_type": "stream",
     "text": [
      "{'loss': 0.9552, 'grad_norm': 50.00921630859375, 'learning_rate': 0.00175, 'epoch': 1.0}\n"
     ]
    },
    {
     "name": "stderr",
     "output_type": "stream",
     "text": [
      "                                                  \n",
      " 12%|█▎        | 500/4000 [03:28<20:17,  2.87it/s]"
     ]
    },
    {
     "name": "stdout",
     "output_type": "stream",
     "text": [
      "{'eval_loss': 1.1403957605361938, 'eval_accuracy': 76.4, 'eval_f1': 0.7630293682925262, 'eval_runtime': 33.7912, 'eval_samples_per_second': 14.797, 'eval_steps_per_second': 7.398, 'epoch': 1.0}\n"
     ]
    },
    {
     "name": "stderr",
     "output_type": "stream",
     "text": [
      " 25%|██▌       | 1000/4000 [06:24<17:30,  2.86it/s]  "
     ]
    },
    {
     "name": "stdout",
     "output_type": "stream",
     "text": [
      "{'loss': 0.7987, 'grad_norm': 82.18893432617188, 'learning_rate': 0.0015, 'epoch': 2.0}\n"
     ]
    },
    {
     "name": "stderr",
     "output_type": "stream",
     "text": [
      "                                                   \n",
      " 25%|██▌       | 1000/4000 [06:58<17:30,  2.86it/s]"
     ]
    },
    {
     "name": "stdout",
     "output_type": "stream",
     "text": [
      "{'eval_loss': 1.0148577690124512, 'eval_accuracy': 76.2, 'eval_f1': 0.754569341379609, 'eval_runtime': 33.9544, 'eval_samples_per_second': 14.726, 'eval_steps_per_second': 7.363, 'epoch': 2.0}\n"
     ]
    },
    {
     "name": "stderr",
     "output_type": "stream",
     "text": [
      " 38%|███▊      | 1500/4000 [09:53<14:30,  2.87it/s]  "
     ]
    },
    {
     "name": "stdout",
     "output_type": "stream",
     "text": [
      "{'loss': 0.7015, 'grad_norm': 0.03812852501869202, 'learning_rate': 0.00125, 'epoch': 3.0}\n"
     ]
    },
    {
     "name": "stderr",
     "output_type": "stream",
     "text": [
      "                                                   \n",
      " 38%|███▊      | 1500/4000 [10:27<14:30,  2.87it/s]"
     ]
    },
    {
     "name": "stdout",
     "output_type": "stream",
     "text": [
      "{'eval_loss': 1.0218037366867065, 'eval_accuracy': 75.8, 'eval_f1': 0.7579525587015055, 'eval_runtime': 34.4797, 'eval_samples_per_second': 14.501, 'eval_steps_per_second': 7.251, 'epoch': 3.0}\n"
     ]
    },
    {
     "name": "stderr",
     "output_type": "stream",
     "text": [
      " 50%|█████     | 2000/4000 [13:25<11:41,  2.85it/s]  "
     ]
    },
    {
     "name": "stdout",
     "output_type": "stream",
     "text": [
      "{'loss': 0.5226, 'grad_norm': 0.6936489939689636, 'learning_rate': 0.001, 'epoch': 4.0}\n"
     ]
    },
    {
     "name": "stderr",
     "output_type": "stream",
     "text": [
      "                                                   \n",
      " 50%|█████     | 2000/4000 [13:59<11:41,  2.85it/s]"
     ]
    },
    {
     "name": "stdout",
     "output_type": "stream",
     "text": [
      "{'eval_loss': 1.3666889667510986, 'eval_accuracy': 76.4, 'eval_f1': 0.7633601257801095, 'eval_runtime': 33.9833, 'eval_samples_per_second': 14.713, 'eval_steps_per_second': 7.357, 'epoch': 4.0}\n"
     ]
    },
    {
     "name": "stderr",
     "output_type": "stream",
     "text": [
      " 62%|██████▎   | 2500/4000 [16:57<08:48,  2.84it/s]  "
     ]
    },
    {
     "name": "stdout",
     "output_type": "stream",
     "text": [
      "{'loss': 0.4595, 'grad_norm': 1.2744492292404175, 'learning_rate': 0.00075, 'epoch': 5.0}\n"
     ]
    },
    {
     "name": "stderr",
     "output_type": "stream",
     "text": [
      "                                                   \n",
      " 62%|██████▎   | 2500/4000 [17:31<08:48,  2.84it/s]"
     ]
    },
    {
     "name": "stdout",
     "output_type": "stream",
     "text": [
      "{'eval_loss': 1.170534372329712, 'eval_accuracy': 75.8, 'eval_f1': 0.7579757975797579, 'eval_runtime': 34.1136, 'eval_samples_per_second': 14.657, 'eval_steps_per_second': 7.328, 'epoch': 5.0}\n"
     ]
    },
    {
     "name": "stderr",
     "output_type": "stream",
     "text": [
      " 75%|███████▌  | 3000/4000 [20:29<05:54,  2.82it/s]  "
     ]
    },
    {
     "name": "stdout",
     "output_type": "stream",
     "text": [
      "{'loss': 0.3535, 'grad_norm': 0.0008584214374423027, 'learning_rate': 0.0005, 'epoch': 6.0}\n"
     ]
    },
    {
     "name": "stderr",
     "output_type": "stream",
     "text": [
      "                                                   \n",
      " 75%|███████▌  | 3000/4000 [21:03<05:54,  2.82it/s]"
     ]
    },
    {
     "name": "stdout",
     "output_type": "stream",
     "text": [
      "{'eval_loss': 1.3415354490280151, 'eval_accuracy': 77.0, 'eval_f1': 0.7688674505074866, 'eval_runtime': 34.2056, 'eval_samples_per_second': 14.617, 'eval_steps_per_second': 7.309, 'epoch': 6.0}\n"
     ]
    },
    {
     "name": "stderr",
     "output_type": "stream",
     "text": [
      " 88%|████████▊ | 3500/4000 [24:02<02:57,  2.81it/s]  "
     ]
    },
    {
     "name": "stdout",
     "output_type": "stream",
     "text": [
      "{'loss': 0.2869, 'grad_norm': 0.02011183090507984, 'learning_rate': 0.00025, 'epoch': 7.0}\n"
     ]
    },
    {
     "name": "stderr",
     "output_type": "stream",
     "text": [
      "                                                   \n",
      " 88%|████████▊ | 3500/4000 [24:36<02:57,  2.81it/s]"
     ]
    },
    {
     "name": "stdout",
     "output_type": "stream",
     "text": [
      "{'eval_loss': 1.5180917978286743, 'eval_accuracy': 76.8, 'eval_f1': 0.7679071628651462, 'eval_runtime': 34.4073, 'eval_samples_per_second': 14.532, 'eval_steps_per_second': 7.266, 'epoch': 7.0}\n"
     ]
    },
    {
     "name": "stderr",
     "output_type": "stream",
     "text": [
      "100%|██████████| 4000/4000 [27:34<00:00,  2.82it/s]  "
     ]
    },
    {
     "name": "stdout",
     "output_type": "stream",
     "text": [
      "{'loss': 0.2268, 'grad_norm': 0.055748648941516876, 'learning_rate': 0.0, 'epoch': 8.0}\n"
     ]
    },
    {
     "name": "stderr",
     "output_type": "stream",
     "text": [
      "                                                   \n",
      "100%|██████████| 4000/4000 [28:09<00:00,  2.82it/s]"
     ]
    },
    {
     "name": "stdout",
     "output_type": "stream",
     "text": [
      "{'eval_loss': 1.5008183717727661, 'eval_accuracy': 76.8, 'eval_f1': 0.767996287940607, 'eval_runtime': 34.3019, 'eval_samples_per_second': 14.576, 'eval_steps_per_second': 7.288, 'epoch': 8.0}\n"
     ]
    },
    {
     "name": "stderr",
     "output_type": "stream",
     "text": [
      "100%|██████████| 4000/4000 [28:10<00:00,  2.37it/s]"
     ]
    },
    {
     "name": "stdout",
     "output_type": "stream",
     "text": [
      "{'train_runtime': 1690.4292, 'train_samples_per_second': 4.733, 'train_steps_per_second': 2.366, 'train_loss': 0.5380927467346192, 'epoch': 8.0}\n"
     ]
    },
    {
     "name": "stderr",
     "output_type": "stream",
     "text": [
      "\n"
     ]
    },
    {
     "data": {
      "text/plain": [
       "TrainOutput(global_step=4000, training_loss=0.5380927467346192, metrics={'train_runtime': 1690.4292, 'train_samples_per_second': 4.733, 'train_steps_per_second': 2.366, 'total_flos': 4195319021568000.0, 'train_loss': 0.5380927467346192, 'epoch': 8.0})"
      ]
     },
     "execution_count": 10,
     "metadata": {},
     "output_type": "execute_result"
    }
   ],
   "source": [
    "# Ustawienia trenera z PEFT\n",
    "trainer = Trainer(\n",
    "    model=peft_model,  # Używamy modelu z adapterem\n",
    "    args=TrainingArguments(\n",
    "        output_dir=\"gpt2-peft-classification\",\n",
    "        learning_rate=2e-3,\n",
    "        per_device_train_batch_size=2,\n",
    "        per_device_eval_batch_size=2,\n",
    "        num_train_epochs=8,\n",
    "        weight_decay=0.01,\n",
    "        evaluation_strategy=\"epoch\",\n",
    "        save_strategy=\"epoch\",\n",
    "        load_best_model_at_end=True,\n",
    "    ),\n",
    "    train_dataset=tokenized_ds[\"train\"],\n",
    "    eval_dataset=tokenized_ds[\"test\"],\n",
    "    tokenizer=tokenizer,\n",
    "    data_collator=DataCollatorWithPadding(tokenizer=tokenizer),\n",
    "    compute_metrics=compute_metrics,\n",
    ")\n",
    "\n",
    "# Trening\n",
    "trainer.train()\n"
   ]
  },
  {
   "cell_type": "code",
   "execution_count": 11,
   "metadata": {},
   "outputs": [],
   "source": [
    "# Zapis modelu z adapterem\n",
    "peft_model.save_pretrained(\"gpt2_peft_model_weights\")\n"
   ]
  },
  {
   "cell_type": "code",
   "execution_count": 12,
   "metadata": {},
   "outputs": [
    {
     "name": "stderr",
     "output_type": "stream",
     "text": [
      "100%|██████████| 250/250 [00:34<00:00,  7.29it/s]"
     ]
    },
    {
     "name": "stdout",
     "output_type": "stream",
     "text": [
      "Wyniki:\n",
      "--------------------\n",
      "Test Loss: 1.0149\n",
      "Test Accuracy: 76.2000\n",
      "Test F1: 0.7546\n",
      "Test Runtime: 34.4217\n",
      "Test Samples Per Second: 14.5260\n",
      "Test Steps Per Second: 7.2630\n"
     ]
    },
    {
     "name": "stderr",
     "output_type": "stream",
     "text": [
      "\n"
     ]
    }
   ],
   "source": [
    "# Predykcje\n",
    "predictions = trainer.predict(tokenized_ds['test'])\n",
    "predicted_labels = predictions.predictions.argmax(axis=1)\n",
    "true_labels = predictions.label_ids\n",
    "metrics = predictions.metrics\n",
    "\n",
    "print(\"Wyniki:\")\n",
    "print(\"-\" * 20)\n",
    "for key, value in metrics.items():\n",
    "    print(f\"{key.replace('_', ' ').title()}: {value:.4f}\" if isinstance(value, float) else f\"{key.replace('_', ' ').title()}: {value}\")\n"
   ]
  },
  {
   "cell_type": "code",
   "execution_count": 13,
   "metadata": {},
   "outputs": [
    {
     "data": {
      "image/png": "[encoded data removed]",
      "text/plain": [
       "<Figure size 500x500 with 2 Axes>"
      ]
     },
     "metadata": {},
     "output_type": "display_data"
    }
   ],
   "source": [
    "# Macierz konfuzji\n",
    "conf_matrix = confusion_matrix(true_labels, predicted_labels)\n",
    "labels = np.unique(true_labels)\n",
    "confusion_df = pd.DataFrame(conf_matrix, index=labels, columns=labels)\n",
    "\n",
    "plt.figure(figsize=(5, 5))\n",
    "sns.heatmap(confusion_df, annot=True, fmt='d', cmap='Blues', cbar=True,\n",
    "            xticklabels=labels, yticklabels=labels)\n",
    "plt.title('Macierz Konfuzji')\n",
    "plt.xlabel('Przewidywane Etykiety')\n",
    "plt.ylabel('Rzeczywiste Etykiety')\n",
    "plt.show()"
   ]
  },
  {
   "cell_type": "code",
   "execution_count": 14,
   "metadata": {},
   "outputs": [],
   "source": [
    "torch.cuda.empty_cache()\n"
   ]
  },
  {
   "cell_type": "code",
   "execution_count": null,
   "metadata": {},
   "outputs": [],
   "source": [
    "# from torch.utils.data import DataLoader\n",
    "\n",
    "# def get_embeddings_peft(examples):\n",
    "#     # Tokenizacja danych\n",
    "#     inputs = tokenizer(examples, padding=\"max_length\", truncation=True, return_tensors='pt')    \n",
    "#     inputs = {k: v.to('cpu') for k, v in inputs.items()}  # Przenieś dane na CPU\n",
    "\n",
    "#     # Przenieś model na CPU\n",
    "#     peft_model.to('cpu')  \n",
    "\n",
    "#     with torch.no_grad():  # Wyłączamy gradienty dla oszczędności pamięci\n",
    "#         outputs = peft_model(**inputs, output_hidden_states=True)\n",
    "    \n",
    "#     # Pobierz osadzenia dla CLS tokenu z ostatniej warstwy\n",
    "#     token_embeddings = outputs.hidden_states[-1][:, 0, :].numpy()  # Już na CPU\n",
    "#     return token_embeddings\n",
    "\n",
    "\n",
    "\n",
    "# # Przygotowanie tekstów do wizualizacji\n",
    "# text = pd.DataFrame(tokenized_ds['test']['text'], columns=['text'])\n",
    "\n",
    "# # Opcjonalne dzielenie tekstu na wiersze dla czytelności\n",
    "# def wrap_text(text, width=40):\n",
    "#     return '<br>'.join([text[i:i+width] for i in range(0, len(text), width)])\n",
    "\n",
    "# text['text'] = text['text'].apply(wrap_text)\n",
    "\n",
    "\n",
    "\n",
    "# # Uzyskanie osadzeń za pomocą PEFT\n",
    "# embeddings = get_embeddings_peft(dataset['test']['text'])"
   ]
  },
  {
   "cell_type": "code",
   "execution_count": 15,
   "metadata": {},
   "outputs": [],
   "source": [
    "from torch.utils.data import DataLoader\n",
    "\n",
    "def get_embeddings_peft_batch(examples, batch_size=8):\n",
    "    # Use DataLoader to process in batches\n",
    "    dataloader = DataLoader(examples, batch_size=batch_size, shuffle=False)\n",
    "    all_embeddings = []\n",
    "\n",
    "    for batch in dataloader:\n",
    "        inputs = tokenizer(batch, padding=\"max_length\", truncation=True, return_tensors='pt')\n",
    "        inputs = {k: v.to('cuda') for k, v in inputs.items()}\n",
    "\n",
    "        peft_model.to('cuda')\n",
    "\n",
    "        with torch.no_grad():\n",
    "            outputs = peft_model(**inputs, output_hidden_states=True)\n",
    "\n",
    "        token_embeddings = outputs.hidden_states[-1][:, 0, :].cpu().numpy()\n",
    "        all_embeddings.append(token_embeddings)\n",
    "\n",
    "    # Combine all embeddings from the batch\n",
    "    return np.concatenate(all_embeddings, axis=0)\n",
    "\n",
    "# Example call:\n",
    "embeddings = get_embeddings_peft_batch(dataset['test']['text'], batch_size=4)\n"
   ]
  },
  {
   "cell_type": "code",
   "execution_count": 18,
   "metadata": {},
   "outputs": [
    {
     "data": {
      "application/vnd.plotly.v1+json": {
       "config": {
        "plotlyServerURL": "https://plot.ly"
       },
       "data": [
        {
         "customdata": [
          [
           "definition of fool as per a silly or stupid person a person who lacks judgment or sense a clown why etc are tolerating him",
           0
          ],
          [
           "merry christmas and a happy new year i know i am a bit late but i wish you the best wiki for",
           0
          ],
          [
           "how can you be happy about ourselves still being in the competition purely because you scored strategically and not because you cooked well katandandre mr",
           0
          ],
          [
           "help needed edit war aggressive and incompetent edits by user verbal i am requesting help with an over aggressive and inconsiderate editor by the name of verbal this person keeps reverting a page to address an external link while losing dozens of valid updates to the original page he she ignores when proper updates are made and reverts them even using twinkle and spurious excuses for the revisions i am ill equipped to fight this user you will see what i mean if you check the revision history for the following page list of channelled texts thanks in advance for any help you can provide",
           0
          ],
          [
           "well you only broke it once in truth and i am not going to be ass and warn you for it just so i can have a bit of power trip just keep it in mind for future occasions mmk have a nice day",
           0
          ],
          [
           "you being a wonderful please be mature enough",
           0
          ],
          [
           "agree that a debate about lenin s possible anti semitism should probably take place on lenin and not on this page i",
           0
          ],
          [
           "awesome i am that you love harry potter too harrypotterweekenda",
           0
          ],
          [
           "here is an intriguing irony that i propose rewind consider wilson s own op ed opinion editorial entitled what i did not find in africa is the initial impetus for much of the controversy currently surrounding him and his wife valerie e wilson valerie place and of the fitzgerald grand jury investigation is rewind arguing that one cannot cite and quote from what i did not find in africa because it is an editorial that expresses an opinion if not he really needs to apply consistency in his stance on the inclusion of editorial and opinion articles as reliable and appropriate sources in wikipedia articles if the positions taken in the op eds are evidence of such positions one does need to cite them nyscholar",
           0
          ],
          [
           "message you rude little child i maintain civility you do not or because you are acting like him talk pages are not forums keep that in mind before you make hypocrite",
           0
          ],
          [
           "trailor trash tina time grimacing face",
           0
          ],
          [
           "go ahead review this review is transcended from talkmcintosh the edit link for this section can be used to address comments to the review reviewer talk cont ribs i ll review this over the next few days x",
           0
          ],
          [
           "i am not among the ones who edited this article but i mostly agree to your points the current contents can be included elsewhere the contents do not match the article title reasonable unreasonable other kinds of hostilities exist between people of the two countries if someone can write about those things the appropriate titles could be korean anti japanism and japanese anti koreanism utc",
           0
          ],
          [
           "no messages right now",
           0
          ],
          [
           "please stop if you continue to vandalize pages you will be blocked from editing wikipedia e t c m",
           0
          ],
          [
           "chris brown a while back you edited chris brown diff piping does not go on disambiguation pages see wikipediamanual of style disambiguation pages for further details also you should use edit summaries in consideration of other users",
           0
          ],
          [
           "for the stuttering slobbering sims shah and the manner in which i speak to wiki i will speak to them in anywhere are you i see fit",
           0
          ],
          [
           "okay i see there is a protocol oh okay i see how this whole things works now i follow ya in all my ignorant raging i completely overlooked the fact that i did not upload any of my information to the web holy crap i am an idiot but i am an american too so it s expected to miss something and i am human so i am expected to screw up sorry this whole thing could have been avoided had i taken proper introspect and gauged the situation more thoroughly all the sources are active just not uploaded my apologies holmes i thought you were just being vindictive with the coveting of a leviathan article which really annoys everyone here though should take notice of these past four thousands edits on whatever pages i posted whatever especially with this poor sods day sorry for the headache holmes",
           0
          ],
          [
           "politics section edit i removed the very last sentence from the politics section in invaded iraq and found approx tonnes of weapons it not only seemed out of place as the previous sentences were talking about the transitional government but seems to be rather misleading especially in lieu of all the controversy of the invasion of iraq under the accusation that they had and were developing weapons of mass destruction is it any surprise that any country has a large tonnage of weapons considering nearly all nations possess armies imagine if the tonnage of all conventional weapons of the united states were calculated alone obviously such a statement as the one above seems to have an anterior motive to date no weapons or evidence of development of wmd s have been found in iraq",
           0
          ],
          [
           "you are mistaken again i am happy to engage in discussion however it is getting me nowhere in light of your refusal to accept the stark facts my edit summary is correct ultimately truth is reflected in legal provisions and legally a reference to the islands of ireland and u k is provided for by the definition british irish isles you were the one who ended the discussion on the topic concerned with an expression of boredom which suggested to me you had nothing to counter debate the stark reality of the situation i will possibly continue making the factual adjustments on your user page but more infrequently i do not understand why you will not revert to the legal description you are letting personality clashes get in the where are you of facts egos should not compromise the truth am i correct in stating it would not be too much work for you to revert to my version or are their difficulties in upholding the link be a man and swallow your pride in the interest of truth please pneumonitis thank you for your time and patience",
           0
          ],
          [
           "b day sweet johnny",
           0
          ],
          [
           "ma nevjerujem ja mob cover no idea you yoga same sam punk day the see take orkney",
           0
          ],
          [
           "self correction i have reread your post and now understand it better it is substantially okay by me maybe it needs a bit of rewording sorry for the inconvenience but please help to address the anon",
           0
          ],
          [
           "getting a professional bulletin or invision power board would be a great idea wikipedia is not so suited towards debates and discussions because talk pages are well not very organized definitely not as much as forums with easy to read different threads and forum subsections and the fact that people can edit other peoples posts i think it would be a perfect idea too and would encourage a lot more debate and contributions growth to wikipedia",
           0
          ],
          [
           "i fucking hate going to the theater",
           0
          ],
          [
           "buddy drug the whole train laughing my ass off good extra ass hoes",
           0
          ],
          [
           "they are all ugly people and deserve to die",
           0
          ],
          [
           "i agree with and that reference to the longest military occupation in modern times should be included in this article the point of view of this article is currently fringe and needs to be moved to a npov",
           0
          ],
          [
           "my rfa hi this is matt yeager i wanted to thank you for your vote on my request for admin ship the count what a slut something like what a slut when i decided to withdraw the request my decision what a slut based on the fact that there are enough things wasting people s time on the internet that doomed rfa s should not be kept up for voters to have to think about regardless of the rationale behind your vote i hope you will read for an extended note and discussion on what will happen before i make another try at admin ship i did not want to clog up your user page with drivel that you might not be interested in reading thank you very very much for your vote and your time and consideration of my credentials regardless of whether you voted support neutral or oppose happy editing talk",
           0
          ],
          [
           "propaganda terms are inappropriate as article titles please let us choose something different",
           0
          ],
          [
           "mikewazowski reverting yolentashield s edit mikewazowski reverting yolentashield s edit including blue screen mikewazowski removing this image",
           0
          ],
          [
           "i key ducati ce not applicable jude koi you rama image deck",
           0
          ],
          [
           "top raquel madonna katrin armannsdottir rebeca guerrero andrea katarina roman",
           0
          ],
          [
           "examples of different facial expressions the so called as if that is her real name has been following me around reverting all my attempts to address positive contributions to wikipedia as part of this vendetta they have reverted my addition of kat fletcher as an example of aa smug face in the u k kat fletcher is well known google her and see for her slag face do other users agree that she could be added as an example of smugness",
           0
          ],
          [
           "shout out to you ungrateful inconsiderate bitches i am taking this shot for you yea you winking face face blowing a kiss",
           0
          ],
          [
           "bert weldon although he has only two languages i think he deserves a place as he what a slut very influential in boomerang",
           0
          ],
          [
           "this weekend is going to be crazy haha i am ready to do whatever i want pride a",
           0
          ],
          [
           "hahha laugh really hard happy face or smiley",
           0
          ],
          [
           "redirect talkachcham yenbadhu madamaiyada",
           0
          ],
          [
           "proof outline it is possible to write down this formula this is an alternative where are you to group the sum of the squares to quote an example whatever assume in this representation the number five is summed times the number is summed times and so on until zero after that it is possible to use this result to solve the summation the main formula is equivalent to after some algebraic manipulation it is possible to obtain this is equivalent to the desired formula",
           0
          ],
          [
           "oh my god that sucks ass i am so sorry skeptical annoyed undecided uneasy or hesitant",
           0
          ],
          [
           "bowling star back tomorrow",
           0
          ],
          [
           "it is not even good for a mediocre blog basic logic has been twisted here language is very fuzzy like have shown to be but it does not say which arguments example would be proven to be inaccurate because on average spend hours a day at to show the flawed logic everybody knows that in a communist country there is unemployment are working like days does it mean everybody works hard in communist countries nobody would say that if everybody works hard the question would be why there so not sufficient output in the economy just flawed",
           0
          ],
          [
           "speaking to an austrian law student group in a moment on the cm s supervision process of the execution of echr judgments",
           0
          ],
          [
           "zizzi customer service is shit",
           0
          ],
          [
           "there you go some nice person s put a snap on yellow throated scrub wren which ya started now multiply the text by and you got to dye cheers",
           0
          ],
          [
           "every time i beat you i am being a faggot maybe i am just being better than you laughing my ass off",
           0
          ],
          [
           "to be serious according to the guidelines the following items cannot qualify anyway the speaker of the united states house of representatives article currently is tagged for cleanup requiring more citations the francisco franco article is currently tagged with neutrality and point of view problems spanish civil war is tagged with more sources needed a number of sections on battle of okinawa are marked as stubs and need to be expanded a number of articles regarding history of iran iran hostage crisis and history of the islamic republic of iran have cleanup tags so please feel free to get to work on those articles thanks",
           0
          ],
          [
           "my sources m gast bordeaux sur tin hainan ancestry legendary des tuareg revue the l occident muscleman et the la mediterranean vol pp unesco general history of africa vol ii ch quotation unesco general history of africa vol iii in vanessa brought to light a large quantity off topic objects suggesting the existence of an old route between the southern morocco and the hog gar the fourth century of the christian at time when camels were in",
           0
          ],
          [
           "cannot trust or will not spare a bitch ogd",
           0
          ],
          [
           "drive slow and damn i missed roxy last night did she talk about how she got in the game or how old she was",
           0
          ],
          [
           "there are also and",
           0
          ],
          [
           "thats not what he is saying situations are similar",
           0
          ],
          [
           "i do not have a problem with that quote being included as long as it is presented in that context i e a quote by an organization but with a couple of caveats it follows the ronnie o sullivan format where only his achievements are presented in the introductory paragraph and his standing in the game is included in the second paragraph also if whatever are using world snooker profiles as the criteria o sullivan s should be updated to say he is snooker s most naturally gifted player",
           0
          ],
          [
           "face with tears of joy no let me chill i love the bitches",
           0
          ],
          [
           "looking great tiffany x",
           0
          ],
          [
           "removing template after fixing some source links",
           0
          ],
          [
           "wosner his own official brief head says shmuel hale vi corner and in hebrew it says with one van so i changed things accordingly talk",
           0
          ],
          [
           "there is no where are you a good article would be merged so i am removing the merger thing talk",
           0
          ],
          [
           "joe hazleton",
           0
          ],
          [
           "the article looks great congratulations to all contributors so let me see if i understood it well you are now proposing to expand this article into a serbian albanian rivalry or create a separate article on that subject humm",
           0
          ],
          [
           "well its strange that does teak start anti gay pedro video near the same moment when putin do the anti gay propaganda law",
           0
          ],
          [
           "okie dogie expert auctioneer of karma talk",
           0
          ],
          [
           "you are a moron that likes to throw it means cool a k a around",
           0
          ],
          [
           "new video am i a piece of toast youtube follow gamer life gaming channel",
           0
          ],
          [
           "reply edits i liked the intro that you added to the critical reception section but the inclusion of a reviewers name seemed a bit odd name s of reviewers are not usually included in the review section also reviews should be organized roughly by the clout of the reviewing publication i e well known publications come first and continue in decreasing order of popularity i also think it is important for the opinion of the reviewer to be easily readable i e if a reviewer deems the record best work since insert album title it should be included in the summary not lumped together and simply referenced if you have any questions disputes with my reversion let me know",
           0
          ],
          [
           "water use for marcellus shale fracking removing water trucks from road of its kind in county pipeline to cut number of trips to drill pads williamsport by david thompson",
           0
          ],
          [
           "hi i cannot help you directly with content disputes i am afraid beyond advising you what to do the thing to do is reach out for help from editors who work in the area for instance neutrally asking people at wikipediawikiproject television to comment and leaving a note at the talk pages for template talk star plus shows and template life okay programs what you have done once consensus is established anyone who continues to edit in opposition to it is behaving disruptively if for instance the project agreed that the italics need to be place but that the order he prefers is the proper where are you and he continued removing italics you might note that the italics are again removed in the discussion this would allow others to help you implement consensus and avoid your being in an edit war because others are sharing the work of correcting content if he continues reverting clear consensus the place to go with a link to the consensus and note of his continued violation of it would either be or want",
           0
          ],
          [
           "notability concerns i know there are some folks at harvard and elsewhere working on a case study of shahid and its role in responding to the most recent kenyan elections once this is available the site will certainly meet notability criteria until that time it should be enough to say that just because all english language readers does not know about it does not mean it is not notable in kenya",
           0
          ],
          [
           "i think it s the best if white men looked after white women in our schools",
           0
          ],
          [
           "of course life is a bitch if it what a slut it would be easy",
           0
          ],
          [
           "the military build part of trumps border wall but it will not be easy bmg buildthatwall",
           0
          ],
          [
           "userxenobot mmm ok concern i have removed the chicago talk page template several times from wwf after nanobot mmm ok adds it as the station is not part of chicagoan and does not serve any part of chicagoan for some reason nanobot mmm ok continues to address the chicago talk page template i am unsure why it continues to address it but if you could input that wwf is not a chicagoan station i would appreciate it",
           0
          ],
          [
           "my bitch bre been ina good mood they free d her young hog a hundred points",
           0
          ],
          [
           "austrian italian and german interior ministers discuss migration",
           0
          ],
          [
           "can you please leave your liberal point of view out of the articles voter suppression and fox news further edits will result in you being reported for violating the edit rule",
           0
          ],
          [
           "no page what a slut reviewed by terminator this recently popped up in my notifications have you reviewed anything lately or is this just a random bug talk",
           0
          ],
          [
           "some think it is just all offensive line in run blocking it is to a degree but the reply back has to have a consistent penchant for getting to the hole on time too that is what playing fast is all about as a rb",
           0
          ],
          [
           "your time you suck because you are right it is the third and i do not remember yours still lol i want to say its in something tells me it isn t",
           0
          ],
          [
           "also sentence connectors depend additionally are ok but and are tones of a person whatever have to keep it neutral i did the same for normal street fighter but not as much",
           0
          ],
          [
           "this is what desperate liberals look like spy gate obamacare",
           0
          ],
          [
           "my daughter s friend s parents are from different countries",
           0
          ],
          [
           "lazy people only want handouts move your ass",
           0
          ],
          [
           "the phrase curry eaters are used by stupid racist cunts",
           0
          ],
          [
           "retweet face with tears of joy face with tears of joy face with tears of joy retweet laughing my fucking ass off how side bitches be when you scoop them up in the daytime",
           0
          ],
          [
           "haaaaaaaaa damn jay",
           0
          ],
          [
           "oni koi shut up it happens bombardovali i result see njihovog ottawa reba the plate hvo",
           0
          ],
          [
           "edit count addiction please edit slower make several edits in one revision instead of hit save every time you finish a minor edit it is hard for other editors to keep track on the changes to this page if you do so thanks little",
           0
          ],
          [
           "this man looks like a clown misogynistic and disgusting i will not even listen to his opinion in all this lol he is garbage",
           0
          ],
          [
           "no mention of xkcd i think xkcd deserves some mention since it is popular culture specifically if you ever go onto the r software gore subreddit this comic is referenced all the time no pun intended and xkcd is one of the most popular web comics since i am still rather newly to editing wikipedia i am not adding this myself but instead suggesting it here",
           0
          ],
          [
           "what i had uploaded to create the article what a slut fit for wikipedia i what a slut in the middle of revising further material when i had to do a hang on because of your precipitate speedy delete i believed that notability what a slut clear from the fact that perisic what a slut in a position of senior authority while milan music perpetrated the visegrad massacres linked in the article to their description as among the worst examples of man s inhumanity to man",
           0
          ],
          [
           "thanks for reporting i did some tests this week the problem be due to this i suspect two instances of the bot run at more or less the same time and the second one did not find anything to remove so it listed all the pages i does not this will occur again as the problem what a slut generated from a manual run of the bot",
           0
          ],
          [
           "i m confused here in portraits of past what a slut considered a hardcore band emo etc yet the people who created this page claim that modern scream bands have no connection to hardcore even if these scream bands are playing music that is identical to the mid s emo hardcore sound page steals so much from pop style all of these lacks a consistent logic and denies history it is just as bad as pop punk and independent rock being tied to the history of the emo hardcore scene of the s if some of you bother to go through your back issues of hac you will see the term s sparing use as nothing more than hyperbole chaotic hardcore indeed need whatever not forget that orchid was not doing anything that uranus drift and one eyed god prophecy what a slut doing years before this is just sad",
           0
          ],
          [
           "i hate haters",
           0
          ],
          [
           "this is super trivial more a clarification i chopped out the explicit mention of the bbc and debuted since it would be clear from the reference in order to perform a minor space saver either way the weasel words are still present only now quoted and the source cited in the text is that standard on wikipedia as your edit comment suggested when weasels cannot be avoided best etc",
           0
          ],
          [
           "hitler desi sad had is najpotrebniji",
           0
          ],
          [
           "only keep real bitches in attendance women holding hands person tipping hand",
           0
          ],
          [
           "yep i will be less haphazard next time",
           0
          ],
          [
           "you are pretty quick there baggy i am glad people like you are looking out for readers i will address a source in just a moment i am looking for instructions on how to do it you hey i am sorry if i what a slut a bit rude i had a rough day and i came to wikipedia for some peace and quiet when i see something wrong i just cannot wait to fix it i care about this project that much i will try and be friendlier next time i know how important it is to be civil and i am working on it i hope you stay around this link might help you out help introduction to referencing i m so pleased with you both now carry on whatever have an encyclopedia to write wink or smirk",
           0
          ],
          [
           "controversy trifecta isis inspired mass shooting perpetrated with a legally purchased assault weapon aimed at gay victims lovable",
           0
          ],
          [
           "please do not vandalize pages as you did with this edit to easter island if you continue to do so you will be blocked from editing",
           0
          ],
          [
           "really i am just concerned with the term which i think is inherently pov especially when coming from a source that is a cop writing for law and order magazine i what a slut trying to say that at least the description should be in quotes and attributed not just sourced in the refs section and trying to not let it snowball so much away from that main point thanks for piping in",
           0
          ],
          [
           "you are the cheekiest monkey around my little pal",
           0
          ],
          [
           "ah there seems to have been some misreading on my part i interpreted good film articles to be asking for good films whose articles included equivalent sections as distinct from good articles on films that included such sections my apologies talk cont ribs",
           0
          ],
          [
           "boo sengkang a visual hole bitch i think the fuck not svt project vocal pinwheel",
           0
          ],
          [
           "i like your proposal and also the discussion on wikipediapushing to validation if i had a vote i would vote to approve the proposal saying this does not help with my current my issue even validation will not help with the issues i see because an editor can easily find a cite that is not correct you could cite this and your article looks correct without actual learned knowledge you cannot discern this it would be like the expert tag but instead in edit mode just flag the person in edit mode that to edit this article they need a working knowledge of the subject this would not stop them from editing it just warning about this the tag could only be added or removed by an admin if this is possible when you return i would love to discuss this with you further there are articles out there that have been wrong since and other editor build on the misinformation and thanks for replying as i said this can surely wait till you return count",
           0
          ],
          [
           "tako je kate perez u potpunosti see slave sa too kissing face with closed eyes kissing face with smiling eyes kissing face with closed eyes",
           0
          ],
          [
           "be and healthy stop look around and realize just how many people are using your light to illuminate their path d avid carriages day",
           0
          ],
          [
           "all that needs to happen is that whatever do not throw too much focus on the date perhaps try and get an original cite for it and make sure it is labeled as thank you that what a slut already done however some power tripping admins saw an end to it pity eh",
           0
          ],
          [
           "people please quit adding conservative to the opening line without a verifiable citation because i am going to keep removing it otherwise accusing a journalist of bias be it liberal or conservative without either consensus here or a reliable source is a violation of pulp reliable sources thanks",
           0
          ],
          [
           "fwiw some category crowd have a wiki setup intended as a repository for their still evolving ideas although their stuff on go ahead looks a bit dated",
           0
          ],
          [
           "uk complicit in spiraling death toll of refugees in mediterranean",
           0
          ],
          [
           "perhaps i seem to be repeating myself as you are repeatedly ignoring what i am writing the tables are unclear as the order of the product is unclear from them example the top right corner of the first table is but does that mean or it would not matter if the product is commutative but as it is not the tables are ambiguous that is why tables are a very poor where are you to show the product and probably why none of the sources use them and again please read mislead in particular the section on providing an accessible overview or look at the articles already mentioned special relativity and cross product or one you are familiar with pythagorean theorem or a similarly advanced article to this one and a featured article laplacerangelens vector there should be little or no math in the introduction perhaps a statement of the product but nothing else certainly not the page of detailed mathematical working and argument that there is now",
           0
          ],
          [
           "i did not take it as a threat more than just nonsense from an involved user defending the undependable as posted by his pal as a result i deleted it from my talk page which i have ever right to do do not you have better things to do than pick an internet fight when corbett goes on yet another rampage",
           0
          ],
          [
           "please do not vandalize pages as you did with this edit to charles dickens if you continue to do so you will be blocked from editing push my button",
           0
          ],
          [
           "puja germs is not just a tag game it s an entire culture however i cannot find it an on google right now but pupa martini is definitely a legitimate noted alumnus",
           0
          ],
          [
           "you got to block dumb hoes",
           0
          ],
          [
           "you must not have looked hard i have found several without trying cesar chavez brenadan fraser and your talk page",
           0
          ],
          [
           "retweet when a bitch say i love you hit her wordsmith in training the reverse psychology say do you it works of the time cut the other g",
           0
          ],
          [
           "here on this article i am making a constructive edit but what i get in turn my edits are being continuously reverted i know that unconstructive edits can be reverted but as i said my edits are constructive so stop reverting my edits and instead try to improve this article for example a few more editors would be really welcome",
           0
          ],
          [
           "edits which reference quotes from the subject of the article should not be subject to deflation unless you are an opponent of the truth neil do you have a problem with the truth",
           0
          ],
          [
           "and year old are so welcome i decided to leave that to the buffy experts i had nothing but intention to help improve but all you could think of is how to make me feel more shitty do you know what it is like to go through that to go through that when you are not hot on yourself in life driving you to the point where you no longer want to put up with it and just find a permanent solution to it have you",
           0
          ],
          [
           "i have made to look bad guns all my life i m going to buy more guns i would encourage all white americans to buy all the guns and ammo you can afford learn how to use your guns buy night vision laser sights practice often anything that will make your shooting more accurate buy guns and ammo and bury them in different places teach your kids how to use them and teach them there is nothing wrong with defending yourself encourage your friends to do the same let them know how liberals and minorities really think remember it is your constitutional right to keep and bear arms for the right of self defense support the nra and never forget that the liberal democrats want to take your guns and your gun rights these rights are god given and backed up by the constitution all the signers of the constitution were white men most of the people that want to take your guns are not",
           0
          ],
          [
           "all stocked up waiting now for lowery and dermot to bring this one home days good luck lads",
           0
          ],
          [
           "read this for confirmation talk imperial service troops",
           0
          ],
          [
           "verb inflection i enjoyed the little table of examples of noun declension might this also be done for two or three verbs in particular a little paragraph of how systematic is the verb inflection would be interesting for example in english present past inflection is quite unsystematic example speak spoke run ran but there is also regularity like example smash smashed look looked etc something to get a flavor of classification of verb inflections how each class generally inflects",
           0
          ],
          [
           "the answer to your question is within wikipedia has our preferences and number one is high quality references enjoy these intellectual libations drink your knowledge from inline citations",
           0
          ],
          [
           "title title should be changed to missouri iowa state football rivalry",
           0
          ],
          [
           "una i have i hope fixed this talk",
           0
          ],
          [
           "oppose per whenever and the move discussion three months ago",
           0
          ],
          [
           "sorry my bad i chose that symbol totally at random i have never heard of the cross being reserved for dead people",
           0
          ],
          [
           "imagine if all the men stopped giving women any attention for a month they would be soon pleased to not have a wow you are so beautiful all the time they would even get themselves away from those betas",
           0
          ],
          [
           "i m glad that you are planning on getting out there to do it",
           0
          ],
          [
           "thank you for experimenting with the page alan on wikipedia your test worked and has been reverted or removed please use the sandbox for any other tests you want to do take a look at the welcome page if you would like to learn more about contributing to our encyclopedia thank you for your understanding writing hand",
           0
          ],
          [
           "sure that would be fine by me but maybe wait a day or two so other editors that participated in the rfc have an opportunity to object or otherwise comment",
           0
          ],
          [
           "try and remember dude this edit an editor does not have to assume good faith when presented with evidence otherwise",
           0
          ],
          [
           "i ve seen it and currently live it and let me tell you it is not pretty",
           0
          ],
          [
           "gottingen hairband there are similarities to the contemporary german gottingen hairband",
           0
          ],
          [
           "i just need the americans to win the pennant",
           0
          ],
          [
           "blue jays baseball time",
           0
          ],
          [
           "he what a slut born in geelong",
           0
          ],
          [
           "did you get my message",
           0
          ],
          [
           "and then to cap it off the figure ignores the drip down effect of those families spending their money in small and big businesses generating jobs consumption taxes etc it really hasnt been thought through hmrchumancost loancharge",
           0
          ],
          [
           "robinson ended up hawking the cannon to top paid scrap a salvage company in the thirteen thousand block of chef center highway in eastern new orleans according to a new orleans police report filed in conjunction with robinson s arrest",
           0
          ],
          [
           "nice would you find an image of a little later in the evening to match for discographies consider to use how do you like my table of concerts to be celebrated tomorrow",
           0
          ],
          [
           "oscar nomination is there a reason why there is no mention of this film being nominated for an oscar anywhere in the article i have added info about it to the critical response section i am sure there are category tags that should also be added but i do not know how to do that",
           0
          ],
          [
           "theres an a r dj that works at radio owes a lot of uk artists in my era a massive apology you played a lot of games god not applicable sleep pussy hole",
           0
          ],
          [
           "not us bitches face with tears of joy face with tears of joy face with tears of joy face with tears of joy face with tears of joy",
           0
          ],
          [
           "matty you laugh so much like your sister p s this is panel that is jacked up i did not mean to post this laughing out loud so funny love this video i am just asking but if you are telling people not to care what people say about them why are you posting videos about if you are fat ugly and a bunch of other stuff you had lipstick on your teeth p s this is miranda i got all of them right yay happy face or smiley alabama dada firework haha love this chick why is my name on that list behind you is that bad email me or something thank you and goodbye subscribe to our channel people ps this is just joking wow dude your awesome you have inspired me so much good job emily work on the rhythm ill work on it wordsmith in training you on you are so stupid and funny that why i love you chick its angel by the way good job your perfect",
           0
          ],
          [
           "eugenics what a slut in any case a grotesque misuse of science and promulgation of pseudoscience international review of psychiatry the international review of psychiatry is the premier review journal in the field with a truly international authorship and readership each bimonthly issue is dedicated to a specific theme relevant to psychiatry edited by recognized experts on the topic route ledge taylor francis journals online",
           0
          ],
          [
           "greek dance existed already then came your ottoman love one",
           0
          ],
          [
           "user talkczelko jeff please have another look at the warning you left on that page and what prompted you to give the warning on the first place recent edits on karl buy",
           0
          ],
          [
           "sorry about that should not have happened if you post the autoblock number here i can clear that for you it looks like this and it will show up when you try to edit a page",
           0
          ],
          [
           "the rapist hi hello i ve noticed you were on the talk page of a wikipedia name kurt shaped box i am just informing you that he is a convicted child molester just try not to put any information on your page that can lead to your home address or phone number unfortunately wikipedia allows anybody become administrators",
           0
          ],
          [
           "above line is generated by substcopyvio url",
           0
          ],
          [
           "febuary why is it okay for admin types like you to use the f it means cool a k a but when i use if it is a so called personal attack how do you figure i did not even personally attack him why do not you explain instead of using generic templates to express what you want me to do",
           0
          ],
          [
           "andrew you have been persistently long winded to the point of being disruptive but short on putting forward specific editing proposals with sources for citation you are the one wanting some vague change a rfc could help you to be specific",
           0
          ],
          [
           "shotokan dispute through original message howdy i have been asked to look at some issues regarding edits as related to a content dispute with reply i could forward you the email message with complete header could you give me some email address of yours to use or please specify a method of proof that i could supply regards",
           0
          ],
          [
           "holy crap that is so idiot of me",
           0
          ],
          [
           "i do not know with to say",
           0
          ],
          [
           "yes its madam pussy it means times pink heel girl",
           0
          ],
          [
           "this is the same lady who referred to asians as",
           0
          ],
          [
           "you re too easy",
           0
          ],
          [
           "reply the sisters are not nuns from the sisters website why do you mock nuns whatever are not mocking nuns whatever are nuns whatever are very dedicated to our calling and our vows reflect our commitment to our community look at the work traditional nuns do look at the work whatever do they minister to their community whatever minister to our community they raise funds for the needy whatever raise funds for the needy they are educators whatever are educators see any significant differences the list goes on and on the sisters frequently asked question",
           0
          ],
          [
           "the nbc television network airs the walt disney s wonderful world of color show featuring kilroy part three",
           0
          ],
          [
           "can whatever get this molecule in the hayworth projection thanks",
           0
          ],
          [
           "company the www ultimatewater net ultimate water coffee is the leading provider of drinking water solutions cleaning supplies and break room to businesses whatever feature thousands of products ranging from water filtration systems and full coffee service to paper towels hand soap and lysol ultimate water coffee brings over years of industry experience to businesses in your area currently whatever service over customers in florida in today s economy small businesses and fortune customers are looking for greater value convenience and smart solutions our mission vision whatever strive to be the best but not the largest whatever deliver quality our niche is to provide businesses with the purest glass of drinking water best tasting coffee cup and a wide selection of product delivery while saving money guaranteed here is how it works whatever deliver distilled quality water through our new patented water filtration systems such systems are connected to our new patented coffee machines coupled with premium coffee beans and green products the final result is the best cup of coffee that is spelled quality take the challenge experience the difference absolutely free no cost no obligation www ultimatewater net interested in ultimate water products and service please call us at or email us",
           0
          ],
          [
           "support some say but your reasoning makes sense although i do not think it is a policy matter",
           0
          ],
          [
           "retweet four brothers showed the bitch in a lot of niggas i would have killed i would have killed victor sweet if i what a slut one of his l",
           0
          ],
          [
           "reply patron saints of places i noticed on the talk page two separate comments going back a few years that the page would be more user friendly if the listing what a slut according to place accordingly i have been trying to re sort the entries towards that end i have been making the changes in what i hope are manageable bits partly because it is very time consuming and i do not want to lose anything particularly the citations and partly because i have been waiting for someone to object i take it from your welcomed feedback that i proceed as far as the other patron articles in general since an article on any individual saint would indicate their various areas of patronage geographic and otherwise i think the over all listings would be better grouped by topic however those pages seem somewhat less pressing because at least they are separated alphabetically whereas i found the places page a bit confusing particularly because a number of the historical are now known as something else i am going to see if i can find some images as well unless there is a rule against images and lists on another note i what a slut looking for a clean up listing for the saints portal but the one i found dates back to is there a more current one somewhere i noticed your comment on the wax talk page and i would be interested in helping out a bit on advent christmas content if you like appreciate the input",
           0
          ],
          [
           "i am watching you your blatant point of view pushing has not gone unnoticed",
           0
          ],
          [
           "please do not vandalize pages as you did with this edit to tramp if you continue to do so you will be blocked from editing",
           0
          ],
          [
           "keith breeder a proposed deletion template has been added to the article keith breeder suggesting that it be deleted according to the proposed deletion process all contributions are appreciated but this article not satisfy wikipedia s criteria for inclusion and the deletion notice should explain why see also what wikipedia is not and wikipedia s deletion policy you prevent the proposed deletion by removing the notice but please explain why you disagree with the proposed deletion in your edit summary or on its talk page also please consider improving the article to address the issues raised even though removing the deletion notice will prevent deletion through the proposed deletion process the article still be deleted if it matches any of the speedy deletion criteria or it can be sent to articles for deletion where it be deleted if consensus to delete is reached if you agree with the deletion of the article and you are the only person who has made substantial edits to the page please address to the top of keith breeder mink",
           0
          ],
          [
           "reversions at occupy movement and occupy oakland please when you have a moment is occupied oakland ongoing or defunct",
           0
          ],
          [
           "speedy deletion of young lagis a tag has been placed on young lagis requesting that it be speedily deleted from wikipedia this has been done under section of the criteria for speedy deletion because the article appears to be about a band but it does not indicate how or why the subject is notable that is why an article about that subject should be included in an encyclopedia under the criteria for speedy deletion articles that do not indicate the subject s importance or significance be deleted at any time please see the guidelines for what is generally accepted as notable as well as our subject specific notability guideline for musical topics if you think that this notice what a slut placed here in error you contest the deletion by adding to the top of the page just below the existing speedy deletion or tag coupled with adding a note on the article s talk page explaining your position but be aware that once tagged for speedy deletion if the article meets the criterion it be deleted without delay please do not remove the speedy deletion tag yourself but does not hesitate to address information to the article that would render it more in conformance with wikipedia s policies and guidelines",
           0
          ],
          [
           "i fully agree with you re i also agree that the article would be better served by a restructuring along the lines you have proposed i also think it would be very helpful if you were to edit the article rather than either or me i suspect that this would provide a starting point more likely to lead to a finishing point",
           0
          ],
          [
           "discrimination how about the affirmative actions limiting the number of ethnic chinese into top malaysian universities",
           0
          ],
          [
           "et see that is how you get cf englisher",
           0
          ],
          [
           "alpha what is the deal with my being blocked from my own archive do you know i realize they have reasons for it that is fine but one would think the trust would extend that far at least personally i do not care about it in this one case i just wonder anyway as i told another friendly editor i am taking a break from wikipedia anyway being made aware of one s worst behavior is eye opening if i am to go on editing i want to do it flawlessly",
           0
          ],
          [
           "i get mine from all outlets even the enemy ones",
           0
          ],
          [
           "utc if that is correct whatever are seeing another weird storm like vince on our hands",
           0
          ],
          [
           "elizabeth what a slut a paranoid despot with good reason who employed a secret police to root out dissent and the punishment what a slut often death i see you are a bit fan of piracy commerce as that what a slut all the rage at the time as what a slut profiteering from the slave trade times do not change that much and the ripples of our former exploits still laps into modern times",
           0
          ],
          [
           "references section needed",
           0
          ],
          [
           "google s a bitch your search ann b davis sexy did not match any image results",
           0
          ],
          [
           "rfa hi aide thanks for supporting my rfa it what a slut successful cheers",
           0
          ],
          [
           "just fyi rainbow dash your rollbacks are in support of an editor who is making the change not because of a good faith belief but in order to push a point from ms s talk page personal do not want to challenge the higher rank of articles yet because unfortunately my consensus would be faced by a lot of biasnesses i will take the lower rank of articles and work my up",
           0
          ],
          [
           "i will wear my punishment for a week or a month or a year i will take it on the chin but genuinely please what have i done or said",
           0
          ],
          [
           "the fuck bitch does mine",
           0
          ],
          [
           "utc whatever should also speak to does concerns below",
           0
          ],
          [
           "frown sad andy or pouting i tried to reach hit my phone screen",
           0
          ],
          [
           "in fact electrical safety redirects to electricity but there is nothing about it",
           0
          ],
          [
           "sext the channel and drive in classics according to ctvglobemedia s website they already removed sext the channel and drive in classics from the list of crowned properties it is unknown for sure if the transaction has been finalized but according to www broadcastdialouge com the two channels are officially now made to look bad by chorus",
           0
          ],
          [
           "i came to this page because i wanted to learn more about the voice heard on a motivational recording published by the stanford institute i bought one of their gold colored vinyl recordings in the records sold nationwide franklyn mccormack worked in an era when announcers often had voices which radiated high quality and commanded authority my recording is designed to boost confidence and it belies the description of his voice as franklin mccormack covers some of the same territory as earl nightingale another chicago based announcer who made motivational recordings",
           0
          ],
          [
           "it is so annoying having to explain myself and my reasons for disliking lesbos everyone should already be aware of these obvious explanations and should feel the same it is common sense there are far nicer greek islands than lesbos",
           0
          ],
          [
           "this bitch is talking to herself who the fuck does that bitch you need help with year old i am hearing voices in my head lockthatbitchup",
           0
          ],
          [
           "utc that is indeed fairly precisely the position of some monarchists as well as reasoning of some jurists and scholars to this matter which then means that it would be pointed of view to erase carlos patrick from the article as there are at least as good reasons for his legitimacy as heir as to those of the other hohenzollern line",
           0
          ],
          [
           "what that bitch trying to say",
           0
          ],
          [
           "i had like to call your bluff since i freaking know these people or came across them in one where are you or another i have relatives in the business and try to list the stuff as good as could rocky",
           0
          ],
          [
           "you have got to be fucking kidding me lmfao you have got to be the most naive fan or you are just a troll",
           0
          ],
          [
           "pile of poopile of poopile of poopile of poopile of poopile of poopile of poop",
           0
          ],
          [
           "despite much time for improvement and expansion this page remains nothing more than a dictionary definition it already exists at wiktionary see witness h christ complete with a much better etymology and discussion of the h part see their talk page for details i have argued in the past that this page should be overwritten with the template but whatever could not reach consensus the last time the question came up a complete rewrite to an encyclopedic tone would be appropriate if it can be done i do not see that there is enough verifiable non lexical content to support a stand alone article even with the proposed conversion to a general profanity article but please be bold and try",
           0
          ],
          [
           "this is getting ridiculous why does everyone think new labor are not evil they really are and it should be common knowledge to everyone i do not want to have to go around informing people when they should already know",
           0
          ],
          [
           "google chrome extensions gallery in regard to this article you need to show why it is important before you can justify an article importance has not been shown when the subject of a website is not notable enough for its own article extensions the website itself is unlikely to be furthermore the references you have given are all primary sources google themselves the chrome dev blog etc please either demonstrate third party notability or leave the redirect alone regards",
           0
          ],
          [
           "rosicrucian article i have just purposed rosicrucian article for nomination at wikipediafeatured article candidates rosicrucian i request your support also in this one if possible richard thank you",
           0
          ],
          [
           "im not a muppet im a lbs voter who is of puerto rican decent that does not take bullshit from white liberals like you",
           0
          ],
          [
           "countrymusicawards wonder which country they were from country music left the country years ago",
           0
          ],
          [
           "monobook i tried to address your nice monobook but it does not seem to work as when i go to a page with admins it does not highlight them as it says highlights all administrators on talk pages in cyan this is probably just me but i did copy it straight can you please have a look i shall address that i find your edits to anabolic steroid quite impressive yes you did try holding shift and pressing reload to clear your cache talk tick thanks the only thing i find annoying is to click that tab to find discussion and to edit discussion you have to go back to that tab but i shall give it a test for a bit disambig can you advise me on how to set up a disambiguation for ow to sort collect was from new york ontario and western railway thanks thanks for making those fixes and the info deletion review you recently commented on wikipediaarticles for deletion psychiatric abuse which what a slut closed as delete the article has been nominated for a deletion review at wikipediadeletion abuse please feel free to comment on the decision there as a contributor to the original afd your input would be welcomed please comment your input would be appreciated wikipediarequests for arbitration martin phi",
           0
          ],
          [
           "utc i think a more realistic definition might be suggested by paraphrasing dr mali scarlatti larson s introduction to her book the rise of professionalism a sociological analysis pages x xi a profession is an in a service oriented occupation that is centered on a body of knowledge techniques or skills that have been mastered through training whose members form a community who share a relatively permanent affiliation through professional associations professional schools and a self administered code of ethics i recommend whatever agree to use her as the opening source not only because you can view the book online but also because her book appears to provide significant coverage on the topic and her qualifications indicate that she is an authoritative source of commentary on this topic i suggest whatever extend this definition substantially if you agree to this approach and amend it if my chose to word is lacking in some way talk cont ribs",
           0
          ],
          [
           "do you think maybe the other article should be deleted the article what a slut just created today and i added the tag during a recent changes patrol",
           0
          ],
          [
           "missing info advertising this is not a very well written page it could be deleted if it is not changed also it is missing former members josh and pasquale sic unfortunately i have no idea how to change it someone help",
           0
          ],
          [
           "orgasm in childbirth hi could you peek in on talk childbirth and childbirth there is some controversy over whether the section in is being given undue weight an uninvolved editor s opinion would be valuable",
           0
          ],
          [
           "welcome hello and welcome to wikipedia thank you for your contributions i hope you like the place and decide to stay here are a few good links for newcomers the five pillars of wikipedia how to edit a page help pages tutorial how to write a great article manual of style i hope you enjoy editing here and being a wikipedia please sign your name on talk pages using four tildes this will automatically produce your name and the date if you need help check out wikipediawhere to ask a question ask me on my talk page or place on your talk page and someone will show up shortly to answer your questions again welcome afist",
           0
          ],
          [
           "fixed author date pd for durer image",
           0
          ],
          [
           "haha i knew it good job chickening out psycho really shows your character chat",
           0
          ],
          [
           "fixed you know you could have just fixed it yourself i think it is a b class shall i upgrade it santa",
           0
          ],
          [
           "playing in the closest to the pin challenge with lighted balls playing with two scratch players and holding my own on take",
           0
          ],
          [
           "aftermath section the statement that milosevic is cleared of genocide and criminal activities because the icj ruled that serbia only failed to prevent the genocide committed by the bosnian serbs is false a person individual is not the same as a state if the state is cleared of involvement in genocide that does not mean the president was i cannot tell you found slogan milosevic guilty of a joint criminal enterprise in the case i cannot tell you versus milan martin serbian leader in croatia so this statement in the aftermath section is an attempt of cheap propaganda to mislead an impartial and uninformed reader",
           0
          ],
          [
           "external links address i think this would be added to the external links it is a how to website that teach people how to be like people it is neat this one is about batman how to be like batman",
           0
          ],
          [
           "file permission problem with file amazon bestsellers jpg hello i did check the options and seems like this file does fall under fair use tag can you guide us how where to address the wikipediafile copyright tags fair use tag i could not find any reference on how to use free publication newspaper article copy or online release related to the page your help will be greatly appreciated thanks",
           0
          ],
          [
           "ipak male reason",
           0
          ],
          [
           "retweet fuck them hoes i have bigger problems like do you cook at your house laughing out loud",
           0
          ],
          [
           "synthesis of published material serving to advance a position syn editors often make the mistake of thinking that if an is published by a reliable source and b is published by a reliable source then a and b can be joined together in an article to advance position c however this would be an example of a new synthesis of published material serving to advance a position and as such it would constitute original and b therefore is acceptable only if a reliable source has published this argument in relation to the topic of the article and although most articles should rely predominantly on secondary sources there are rare occasions when they rely on primary sources an article or section of an article that relies on a primary source should only make descriptive claims the accuracy of which is easily verifiable by any reasonable educated person without specialist knowledge and make no analytic synthetic interpretive explanatory or evaluative claims contributors drawing on primary sources should be careful to comply with both conditions the cited primary sources have several obvious wikipedia flaws",
           0
          ],
          [
           "reply leeds metropolitan borough council election hi pam thanks for your helpful post i what a slut only going by the example doctor posted on my talk page in regard to blarney went i guess he made a mistake thanks again",
           0
          ],
          [
           "i just wanted you to know that you are worthless why did you make changes to the lethbridge collegiate institute article you probably are not even canadian and to think that you can remove something that is very important to lcd history is unfathomable it would make me very happy if you killed yourself sometime today or tomorrow as you are no longer needed on wikipedia thank you for your time",
           0
          ],
          [
           "then you will need a new source for the translation as the one above most certainly uses it means cool a k a certain which you have replaced with or i will wait to allow you to present new sources to support your edit",
           0
          ],
          [
           "i know a lot of pakistanis who are men",
           0
          ],
          [
           "were that true you would not be uttering a fantastic story about the bbc cooking up lies to make it seem to be so",
           0
          ],
          [
           "does anyone but me remember the pressure hull of an old submarine which rested near the southern tunnel entrance during the late s and early s rumor that it what a slut a wwi german submarine what a slut probably wrong but i never identified it or how it got there",
           0
          ],
          [
           "hmm okay if you do happen to check again and the edits are coming from a xx xx xx range in the uk this could be a returning problem i do not think it is but there are some odd coincidences",
           0
          ],
          [
           "although i am quite horny after reading your post power to the people",
           0
          ],
          [
           "i noticed it is true men cheat with the ugliest chicks they can find ugly bitches facts",
           0
          ],
          [
           "hall from a new user",
           0
          ],
          [
           "say the same to the cretin and get him in all his guises off the site",
           0
          ],
          [
           "i agree with the above editor stop randomly slicing out half of the information on fascism especially its most significant part fascism in government italian fascism gets more than the others since it is the original and some argue the only true fascism",
           0
          ],
          [
           "timothy mcveigh what a slut a psychopathic coward who targeted women and children maybe but adderall is but amphetamine salts says so right on my prescription seriously sounds awesome but the time must be right it is nearly upon us brother years are but moments in the eyes of the gods i hate judges men playing god sickening you be all too correct in fact i just read a news story covering rumors that joseph gordon levitt will take on the mantle of the batman for the justice league movie in oh well maybe i should stop eating it then as i already told the other guy neither i nor my son need your pity i know more about autism than you assume and if anyone called my son retarded their lifespan would shorten drastically he is a genius in his own way",
           0
          ],
          [
           "your edit of list of notable glider pilots i am puzzled by your deletions made in this article the explanation what a slut cryptic and so i have reverted them",
           0
          ],
          [
           "nevertheless at the end of the day you were still blocked for violating a discretionary sanction despite your assertion of vague formulations of the original article remedy which what a slut imposed on as such you should be logged like the others who have similarly violated the restriction as much as i do not like this blanket restriction on past violators and i include myself here it should be applied equally without exception",
           0
          ],
          [
           "uk payday lender well the picture has been removed because it is supposedly advertisement see do you know how i can appeal the removal",
           0
          ],
          [
           "i hate bitches that wear those fake ass ray bans they are only stop being cheap",
           0
          ],
          [
           "i thought that when he tried to kill him his mother love protected him and then he stored a pace of his soul within harry by accident and then in the fourth book when he uses harries blood he killed the horror am i right i have a whole other conversation on this in the ron section its ron family tree horror",
           0
          ],
          [
           "for your information hello there is currently a discussion at wikipediaadministrators noticeboard incidents regarding an issue with which you have been involved thank you",
           0
          ],
          [
           "i bought a glock too and shot about zero rounds out of it last year",
           0
          ],
          [
           "utc maybe i can help i speak portuguese fluently i am portuguese and perhaps the best translation of is dark it could mean black but most of the time it means dark and especially in this case as for it means cool a k a preto pareto means black it is basically it means cool a k a for black the color i will change the article myself if you do not mind glad i could help wink or smirk",
           0
          ],
          [
           "you are now a giggles childishly he it could be like a hierarchy in that case that would probably make jimbo wales a d",
           0
          ],
          [
           "hyper text transfer protocol www hardy law net truth about bowling html",
           0
          ],
          [
           "well i am sorry sarah but you keep removing the bloody category listings which have very reliable sources",
           0
          ],
          [
           "mother the most powerful it means cool a k a and also most taken for granted mother s day",
           0
          ],
          [
           "retweet blow shit up and get fatter white trash love this holiday",
           0
          ],
          [
           "musical wales on reviewing them i am not satisfied with the citations offered",
           0
          ],
          [
           "you look like a dyke in your picture laughing out loud",
           0
          ],
          [
           "hey bitch stop selling yourself to run vagina run",
           1
          ],
          [
           "rain stops the match icc whatever have rain insurance onto the next match this is what does shamanic if you cannot organize world cup match you must stop calling yourself the apex body and relinquish those rights to someone capable enough like or",
           1
          ],
          [
           "get the fuck off my page you motherfucking mullet",
           1
          ],
          [
           "one chromosome too he what a slut a it determined what he could he",
           1
          ],
          [
           "wtf why the fuck do you think that i vandalized the nigger oklahoma city bombing and prohibition pages i have not even been on any of those pages thank you douchebag for getting my editing privileges revoked you are a prick",
           1
          ],
          [
           "angelina je major ali proplastid",
           1
          ],
          [
           "careless lazy and stupid are such bad combinations in a would be lawyer what the fuck does mean maybe in russia that is proof but not in america fuck wad",
           1
          ],
          [
           "you are not a very intelligent person following someone is edits around just to revert them is the real harassment",
           1
          ],
          [
           "if wanting to protect children from sexual harassment and abuse makes me a feminazi i will take it",
           1
          ],
          [
           "the countries you called low iq subhumans are corrupt such as india if your country gets beaten by such nations so called genetically inferior people what does that tell you",
           1
          ],
          [
           "i one ce granite posit reduce deck an silence reba phenom folsom posit i powhatan",
           1
          ],
          [
           "it seems to me between piccolo sp crying about the advance and this stupid story the is go pare crybaby losers as far as you union hate goes lanka and maliotakis just picked up ny alicia endorsements will you also denounce them as far as the abysmal economy it s better than it was but has a long where are you to go i guess it s going to take more than four years to fix the mess your party made",
           1
          ],
          [
           "african refugees for europe will come into slavery in libya this should be a warning for all which want to come to europe dreams are over",
           1
          ],
          [
           "are nice i just love them more when they live in india",
           1
          ],
          [
           "disgusting this guy is a disgusting sex columnist he revels in it he does it on purpose and it is what gives him and his column their edge it separates him from every other sex advice giver i have ever read and it is his signature attitude tone and approach to the issues but there seems to be no where are you to adduce this highly pertinent and relevant information without violating the lame loose sloppy ill thought out npov rule hilariously and disgustingly people tell me providing this information violates article any help here by any person of quality integrity and intelligence would be appreciated preceding unsigned comment added by talk imagine that a sex columnist who enjoys sex how can whatever work that into the article nick talk what nick hello i would still like to hear an answer to my question if anyone out there has any integrity and intelligence is insight and receptivity banned on wikipedia must everything be banal and bland preceding unsigned comment added by talk i marvel a bit that even my attempt to discuss this issue gets censored repeatedly by anonymous censors who do nothing on wikipedia save delete this must even the discussion of this issue be censored and not allowed to exist i am a longtime reader and fan of dan savage but he is a distinctive columnist with a distinctive style must even a discussion of that uniqueness which goes unmentioned in the article due to phony npov considerations be rigorously censored",
           1
          ],
          [
           "happy happy birth death sa making kick ass forever my iowa my spic girl my one and only gotcha",
           1
          ],
          [
           "year old i got me a gun ill shoot you",
           1
          ],
          [
           "pseudomonas is a stupid fucker",
           1
          ],
          [
           "my opinions of islam do not come from the media they come from the quran and hadith",
           1
          ],
          [
           "i know a lot of asians who have raped women",
           1
          ],
          [
           "sometimes you just got to stick a keyhole in that bitch and chug",
           1
          ],
          [
           "pogledaj is mmu mobileye kola team effort illegal sta team effort niu kabuki had is see illegal piercing proverb is speak jet ti not applicable majesty hahaha piercing",
           1
          ],
          [
           "oscar did the right thing so shut the fuck up that asshole do not have any right to hit him like that over a ball i hope oscar went over there and put that ball right up joe jackson ass",
           1
          ],
          [
           "i have often pointed out that afro americans are more stupid than i can even imagine if they actually think they are going to win any race war",
           1
          ],
          [
           "ti is devil i ja any team vista anti her sve nam pises decline glucose",
           1
          ],
          [
           "how stupid are you do you realize that many women take birth control pills for many reasons besides preventing pregnancy educate yourself fool",
           1
          ],
          [
           "consider the following people who edit wikipedia are fucking retarded",
           1
          ],
          [
           "it is not easy to say and do not come for me in the comments as this country allows free speech so i am allowed to express my opinion and dislike toward travelers so leave me alone as they should not be allowed to exist that is just how i feel",
           1
          ],
          [
           "she is a hideous monster she has down syndrome and it has an utterly disgusting thing to see",
           1
          ],
          [
           "what you are doing is so irresponsible i believe that your smart enough to understand how evil you are if the fbi or jd had some plot to thwart dt all they had to do what a slut leak to the press that he what a slut being investigated they did no such thing you know you are wrong that is evil",
           1
          ],
          [
           "i will castrate you and roast your testicles then i will feed them to you",
           1
          ],
          [
           "stylistic nuances are trivial you should prioritize a level of discretion ambiguity that keeps your adult life from being harmed by leftist elites their antifa shock troops",
           1
          ],
          [
           "that what a slut the fuck of that little cunts life good job",
           1
          ],
          [
           "everything what a slut great until fucking covid turned up and ruined it all the jews wanted this to happen",
           1
          ],
          [
           "these are death guns cunt",
           1
          ],
          [
           "laughing out loud you sir are a jackass wipe the tears from your eyes and move on mass effect sucks",
           1
          ],
          [
           "then he attacked and defeated the third medina tribe beheaded all the men and enslaved women and children",
           1
          ],
          [
           "i want to fuck you milan",
           1
          ],
          [
           "not interested of being a bitch like you face with tears of joy i prefer to be a good cute girl face with tongue nak melalak sorang okay",
           1
          ],
          [
           "are you serious i what a slut just trying to be nice by thanking you for a professional discussion but you delete what i had to say i never said i liked your old ass like that fuck you too brooklyn all day every day new york stand up",
           1
          ],
          [
           "to the idiot bark you obviously are spending too much time vandalizing pages instead of watching news reading news here is one for you instead of vandalizing pages why don t you go read it huh if you spent a little time just search for that guy s name you will find plenty of news reports i pity you you seem to enjoy vandalizing pages instead of helping",
           1
          ],
          [
           "you re an obama cocksuck her slurp burp yep that is you",
           1
          ],
          [
           "your mom what a slut being a bitch to you i totally see how that is my fault women suck",
           1
          ],
          [
           "stop vandalizing seriously many aren t you all got nothing better to do than fucking vandalize my talk page with some error messages i mean like growl or what have you",
           1
          ],
          [
           "please stop abusing it means cool a k a hopefully ignorant americans now go fix it americans are so stupid",
           1
          ],
          [
           "he is in jail",
           1
          ],
          [
           "when wayne said keep in mind im a afro american so my open mind got to screen door i felt that",
           1
          ],
          [
           "the best things on earth can be found in britain pubs lovely sunsets beautiful little towns friendly people good old manners jews come with their own culture and values changing it all",
           1
          ],
          [
           "chinese should be sent back to where they belong",
           1
          ],
          [
           "this city is filled with all kinds of plagues rats cockroaches spiders plesss",
           1
          ],
          [
           "black people should not even be considered as humans",
           1
          ],
          [
           "president trump will smash that traitor with the truth obama is running scared whatever know what you did in those years the public knows let the truth shine out buildthewall lockthemup indiana boycott boycotting enough already",
           1
          ],
          [
           "liberals wouldnt know the first thing about doing the right thing rolling on the floor laughing rolling on the floor laughing rolling on the floor laughing middle finger medium light skin tone middle finger medium light skin tone middle finger medium light skin tone middle finger medium light skin tone middle finger medium light skin tone",
           1
          ],
          [
           "the food bank director separated requests into stacks locals immigrants how did the church respond the",
           1
          ],
          [
           "who is going to fix need it be me this article sucks robert carmine then and now again schwartzman what a slut already in the band at the time of macedonia s release you want a source i have the ep and bought it live at a show and saw him on stage come on this article is garbage thus far anyone interested in helping clean it",
           1
          ],
          [
           "you misread my tweet not my logic dalai lama s logic receive refugees treat them well educate th",
           1
          ],
          [
           "hi i want to attack you",
           1
          ],
          [
           "do you arrogant bastards have nothing better do than bitch about who edits what what the fuck you probably live in your parents basement and bitch about what goes on in an insignificant website this is a load of bullshit why do not you get a life and find something better to do you worthless piece of shit",
           1
          ],
          [
           "oh well i try so hard to be his shithole countries maybe someday that will happen",
           1
          ],
          [
           "you are the man now dog have you ever heard of killing yourself on your birthday its like that why do not you whops you are the man now dog and tell me what you see",
           1
          ],
          [
           "so that is why he is dead now really fox i would call that completely unrelated this is why black lives matter is necessary",
           1
          ],
          [
           "hey if that is canada s stance on this then that is their business i do not think this is something that would really be worth taking any sort of international stand on",
           1
          ],
          [
           "women never shut up",
           1
          ],
          [
           "thank you so much for this one day i hope the next generation is spared from the travesty brought by public schools and private jews can easily fake being christian",
           1
          ],
          [
           "anhydrous oxide is widely accepted by scientists and top tier professors also it bothers me how my harvard professor says anhydrous oxide is water yet you idiots continually revert it without even looking it up literally just try it",
           1
          ],
          [
           "abc tragedy and eduardo hours my wife s sister lost her daughter in the abc tragedy and you are trying to help cover up hours s involvement this man is a criminal of the highest degree and when i try to get it means cool a k a out you revert my edits and threaten to ban me fuck you",
           1
          ],
          [
           "little quick on the trigger ain t cia bud you know if you are not even going to give somebody seconds to go in and address the appropriate citations or references the argument could be made that you are just an insecure anal orifice who does not want anybody else adding to what he perceives as his page that totally flies in the very face of what wikipedia is supposed to be about i what a slut going to address the appropriate references including a link to a wav of the song but since i do not feel like wasting my time only to have your ego play goebbels again why bother by the way i am not sure how you arrive at your conclusion that it is somehow libelous to point out that a celebrity who by the way has been deceased for years actually had a sense of humor about his own foibles but it is asinine first you cannot libel a deceased person second even if you could a compliment which is what it was is not libelous and third aw hell third you are a moron nuff said mickproper",
           1
          ],
          [
           "i am just saying that most jews are just not as honest as christians",
           1
          ],
          [
           "a genealogy of xenophobia papal bull colonization slavery enlightenment polygyny pseudoscience",
           1
          ],
          [
           "i guess i got lucky i whatever and t to a public high school and whatever never had to learn about the holohoax",
           1
          ],
          [
           "how to get a life get off wikipedia get popular start with a goal like ll get friends by get a girlfriend if all else fails buy a hand gun s h oh oh t repeat if necessary",
           1
          ],
          [
           "it is so annoying having to explain myself and my reasons for disliking slags everyone should already be aware of these obvious explanations and should feel the same it is common sense",
           1
          ],
          [
           "anouncement i am mad at the people who ban me for things i don t do so all mexicans and black people are shitheads and i am in the ku klux klan fuck",
           1
          ],
          [
           "that s nice go fuck yourselves idiots the fact that you cannot absorb reality is no sweat off my back you lose i still win good luck with your wikipedia fuck fest hahaha",
           1
          ],
          [
           "is anyone else getting really bored with arguing with random people over differing opinions it is not my fault that you think there is nothing wrong with gyros existing i get that that is your opinion but let us just agree to disagree because you are wrong",
           1
          ],
          [
           "ching chong china ching chong the best",
           1
          ],
          [
           "mad that poor did it the biggest vagina going i am going to",
           1
          ],
          [
           "you are a racist pig loser do not vandalize again utc",
           1
          ],
          [
           "mulatta is odious",
           1
          ],
          [
           "no one will ever stop me saying homosexual",
           1
          ],
          [
           "went outside for recess and noticed two niglet boys being hostile and ready to rumble and i figured right that they jumped on each other after returning to class grabbing niglet number one hauling him outside and pressed that panic button again",
           1
          ],
          [
           "eg antifa holding the position that police are racist or should be killed generalizations such as those are what i would call attacking law enforcement attacking the cancer in the body is not the same as attacking the body even if it is systemic",
           1
          ],
          [
           "it s time to talk about two antithetical concepts integrity and arabs",
           1
          ],
          [
           "they like to be called a switch hitter never stop using that fucking it means cool a k a",
           1
          ],
          [
           "what go lick a pig you arab muslim pace of scum",
           1
          ],
          [
           "a cunt",
           1
          ],
          [
           "what does that have to do with muslim extermination of jews",
           1
          ],
          [
           "oh yeah i say your mom escalates the situation with her face and you should be exorcised all your base are belonged to us god double bless",
           1
          ],
          [
           "oh come on people well yeah maybe he stole some jokes but does not whatever all i mean every time whatever hear a joke do whatever have to say joke what a slut made by it seriously does not matter now about the bill cosby that is not stealing it s about a guy who is a football player the only similarity is the fucking punchline get over it you wiki fags",
           1
          ],
          [
           "vandalizing ok for the last time who the fuck do you think are mr encyclopaedia you do not own wikipedia loser you english twat hey why do not you contribute to the meaning of that one by describing yourself get a life",
           1
          ],
          [
           "it s probably a combination of the sexual tastes of homosexuals toward the adolescent in the agency and the racial agenda of liberals in the agency",
           1
          ],
          [
           "ove prijetnje knock out the psu political sa balkan the serena parnu agnostic sa problem you ravi i trust delocalize plaza radio sposobnog stanovnistva bela uga i stale problem",
           1
          ],
          [
           "let us talk about the antithesis of purity lesbians",
           1
          ],
          [
           "what page no page what a slut put up as an article per the wiki guidelines nothing what a slut put up as an a page what a slut being utilized as a user page simply to figure out the structure of wikipedia to learn the coding of wikipedia and to experiment with some text what a slut simply cut and pasted onto a page per wiki guidelines nothing what a slut submitted as an article because the test area what a slut to be kept to a user area this is what whatever were doing using the username as a testing area per wiki guidelines no article would have been submitted until such time as it met wiki guidelines but you deleted the page before that could take place are you really this obtuse in all seriousness testing are refining articles in user pages is encouraged by wikipedia this is what whatever were doing in our opinion you are not familiar enough with wiki guidelines to exercise any control over the deletion of articles it is the afternoon elementary school should be getting out soon there should be some year old that you can go outside and shove around i regret that you have little authority over your real life but i do not think the intent of wiki what a slut for you to vent that frustration and lack of control in the real world over the entirety of the encyclopedia thanks for deleting the demo template you complete and utter fuck wit next time we will just throw something into the public domain and give you something to actually do other than mentally masturbate",
           1
          ],
          [
           "fuck you how dare you i am studying history at a top university and you have the nerve to tell me that i made that stuff up fuck you",
           1
          ],
          [
           "he has white features it is a shame his skin tone is so dark",
           1
          ],
          [
           "fuck you bluesy you are probably just a gay who likes it up the ass",
           1
          ],
          [
           "women are devious",
           1
          ],
          [
           "i love chinese they are so clever and hardworking i just love them more when they live in chinatown instead of here",
           1
          ],
          [
           "level english exactly why you should not be commenting on facs and gas gee fizz this is why the english wiki is so shit",
           1
          ],
          [
           "see what i mean draiter is delusional he thinks he has a direct line to cap com trust me kid you don t cap com personally hates you you re the fans they are trying to get away from you spread negativity and talk shit about the hard work they are doing like you a top developer you re not you re just a psycho crazy kid who thinks he knows what is best for your information you do not because cap com is making millions off and soon horror is dead wake up",
           1
          ],
          [
           "no one loves fucking rude boat niggers",
           1
          ],
          [
           "when i get drunk i feel retarded skeptical annoyed undecided uneasy or hesitant",
           1
          ],
          [
           "retweet saying something enforces a stereotype is not the same as stereotyping logon",
           1
          ],
          [
           "this is getting out of hand now i have had arguments today already just because i merely expressed my opinion just because you think rag heads should exist does not mean i do of course i do not and i do not see why anyone would this is so silly and is starting to exhaust me now",
           1
          ],
          [
           "ill kill them fags so they do not bother me anymore",
           1
          ],
          [
           "in my culture that is a where are you of saying suck a penis you bitch punk cunt",
           1
          ],
          [
           "retweet worth fighting for that actually do damage women and people of every race and genre",
           1
          ],
          [
           "approx million voted for the tinyfingeredpuppet but over million voted against him he has no mandate conan",
           1
          ],
          [
           "this reminds me of conservatives wanting to know if monica what a slut on her back or her knees is it really needed to decide these guys are sleeve bags",
           1
          ],
          [
           "britain is home to all the best the world can offer amazing landscapes friendly people good old manners lovely cottages and funny town names by attracting foreigners whatever are changing all that up",
           1
          ],
          [
           "retweet katandandre aaaaa i just want to slap her back to wei mr",
           1
          ],
          [
           "prvo slave see nije into drug ako nose mara i love it burke any nazi the je edna i mona aka i bake stale shut up nosily madame pa shut up see open capaldi piss off itu kukuruzima it zone see oblate take nato her je volga muskrat i stand nike price oh panama problemi you vei zen a gde shut up rasp rave oh danasnjim muskarcima i the li it happens once ima onjihovoj menotti sposobnosti it i pittance za jordana zasto honda oh e izbjeglice any i do not understand you turks libiju in the dark female site religion shvacanja it sto i do not understand you eu cia cultural je total no drugacija overdose nicole i honda prozivaju za physical zazivaju nea prada a mastitis i slicing zelma near nikita price za rec je the je ornate physical dolaze you strange female i not applicable silk direct culture i natural soda vjerovanja i some i honda see job i svadjaju",
           1
          ],
          [
           "not fucking change the information now the tench page when you do not know your ass from your face there are ova s and the original edit what a slut fine not misleading the first over what a slut like episode then over what a slut the episodes up to comes then over what a slut just recently released with about more episodes",
           1
          ],
          [
           "caveman only a true idiot would put links to fox news in their reply you also probably look in the mirror and tell yourself your good looking what a d bag today as whatever celebrate that so many of our men and women have been killed in needless wars maybe you can take a minute to reflect on the part you played in their deaths",
           1
          ],
          [
           "retweet it what a slut the best of times it what a slut the worst of times but she had amazing tits i got to say nonsexist",
           1
          ],
          [
           "hey what is going to be done about this teacher making statements tavern arkansas",
           1
          ],
          [
           "my flat is for rent but please no aussies",
           1
          ],
          [
           "for what lies and rumors being spread by liberals with their known pattern hell no",
           1
          ],
          [
           "f y punk vigor what a slut my homie it is what a slut due to some faggot named klutz",
           1
          ],
          [
           "you are an utter fucking faggot u need a life outside wikipedia maybe a dido fuck by your mom",
           1
          ],
          [
           "you are retarded the entire point of this article is to promote the movie to people so they go see it moron not seen see the pathetic pr ck who posted the spoiler is an attention seeking beyond dumb loser who knew exactly what he what a slut doing and posted it just to feel like he what a slut special for once in his life because he got to see a movie a week before its released in the country the movie is made and where most people are going to see it for your information saying pathetic spoiler does not make it okay genius people would have immediately seen the giant rest in peace even if they were trying to avoid a clue before speaking next time idiot",
           1
          ],
          [
           "lame you fucking queer do not you have anything better to do than to monitor wikipedia go poop stain your dick",
           1
          ],
          [
           "follow me back you spic",
           1
          ],
          [
           "admins screw off screw off you fucking retarded admin",
           1
          ],
          [
           "herrrmieeeess should be banned from schools",
           1
          ],
          [
           "you would not know this but historically hysterical women are the ones with spines",
           1
          ],
          [
           "the oak popup tube doing piss off avoljem super",
           1
          ],
          [
           "a disgusting block the block of yourself by game bartlett what a slut horrific if you would like wiki revenge please leave a message here",
           1
          ],
          [
           "fuck why edrepresed cjk biggs faggot",
           1
          ],
          [
           "does anyone else love the idea of beating all muslims to death or is it just me",
           1
          ],
          [
           "ill kill you niggers so you do not exist anymore",
           1
          ],
          [
           "i hate the smell of aussies",
           1
          ],
          [
           "a money",
           1
          ],
          [
           "it is nice to tell everyone i have zero hatred toward hijabs shame it is a lie",
           1
          ],
          [
           "trans people should not have rights",
           1
          ],
          [
           "can the fucking death penalty be held quickly taxpayers are tired of footing the bill for these scumbags blacks for years on death row",
           1
          ],
          [
           "i am sick of you useless ass people in my culture shut the fuck up i am sick off you useless ass people in my mentions",
           1
          ],
          [
           "french men cannot whistle at a pretty woman but the migrants can groom them harass even rape them w",
           1
          ],
          [
           "it what a slut the fine light skin dyke in the function i told her she what a slut fine and so forth i had to bag her fuck shit bitch",
           1
          ],
          [
           "negroid hey nigger lover why did you revert my contribution to the article negroid i have restored it lay off the nigger cock you faggot thanks bitch stop vandalizing this talk page",
           1
          ],
          [
           "i am telling you that the religion of islam is guilty of the murder of million citizens of the earth and i will not",
           1
          ],
          [
           "mrzim had deck oak iskoristavaju za emotive pod vale slaboumnim zombified via ide pena not applicable usta media ada reba nest rec price neg je eliza result bombardment civil i uzrokovala sve hvo honda shut up svi still knock out alien her image shoji svjetskih problem tip lost friur i silicon debate see svi grit cete you palu",
           1
          ],
          [
           "so glad i am white and not a disgusting aussie",
           1
          ],
          [
           "spasctic martial changing is amount beach he s a sad rag head poof",
           1
          ],
          [
           "evel penis gets my vote jams are is a very creepy looking man mr rogers look alike plus he whined like a little bitch when janelle destroyed him in the tev point of view comp",
           1
          ],
          [
           "hey fuck face stop reverting my page you gay loser cannot you have some fun you fucking nerd think your so tough big unc tell me your address and ill come fuck you up",
           1
          ],
          [
           "asshole hey bitch do not tell me what to do",
           1
          ],
          [
           "if you live in a zoo and you are likely to encounter a troop of monkeys outside carry a big can of bear mace with you there is no shame in doing this sure the system will still come after you for something but iit s better than going to jail for murder if you are forced to shoot one of them while the rest call the police on you on their new iphones",
           1
          ],
          [
           "obviously you did not bother to read up on band era remain stupid",
           1
          ],
          [
           "integration is good until you get black neighbors",
           1
          ],
          [
           "retweet i am not sexist but i cannot stand feminists",
           1
          ],
          [
           "kasey is such a fucking dyke someone please get her off two",
           1
          ],
          [
           "i try to punch a letter box when i see one",
           1
          ],
          [
           "does not worry the fag klutz will be blocked sooner or later",
           1
          ],
          [
           "i believe that jewish people lack morals",
           1
          ],
          [
           "latinos speak terrible english you just cannot understand a single it means cool a k a out of them",
           1
          ],
          [
           "wikipedia and hate the where are you you have behaved and hope for the new year that what little humanity you still have left in you power drunk soul you will recognize that wikipedia is evil and you should turn you back on it and leave it wikipeida will do no good for anyone it touches",
           1
          ],
          [
           "sampan drmargi can lick it times of london not a reliable source lick it stuff it and lick it by the way it what a slut stolen from the jungle brothers because african",
           1
          ],
          [
           "yes it did and it is on editorial is joe q the editor of x men no he isn t he is editor in chief he is the boss of all the other editors soon he was not responsible i should not be arguing because this is stupid",
           1
          ],
          [
           "it s time to talk about two antithetical concepts beauty and black men",
           1
          ],
          [
           "so many people talk on this stupid site i swear they must be retarded",
           1
          ],
          [
           "they reply a waste of space and they reply filthy taxpayer robbing mentally challenged primitive unintelligent cultural trash",
           1
          ],
          [
           "illegal criminals everywhere buildthatwall",
           1
          ],
          [
           "the muslim faith is sick and backwards",
           1
          ],
          [
           "goran gear ti is obi can idiot",
           1
          ],
          [
           "jervea ass about to really come up missing stupid hoe got me sick man facepalming medium dark skin tone",
           1
          ],
          [
           "i do not believe she is even getting death threats conservatives does not roll that way plus her her attorneys bankroll is soros",
           1
          ],
          [
           "no it didn t your comments just proved even more that you are a self absorbed pretentious asshole",
           1
          ],
          [
           "who the fuck adds someone to a gc full of latinx so they can call them nigger and be pieces of shit to get beat the fuck up by the wrong one",
           1
          ],
          [
           "nije the all ne scam no idea team effort izbjeglice mud ne mom na silk doc you draft ko the tbi i love it men nero poznan done you ucu stan favorite aloof gonna go ahead van",
           1
          ],
          [
           "good riddance next up putting you in jail fuck trump fuckthegop impeach trump trump resign traitor trump draintheswamp voteoutgop",
           1
          ],
          [
           "black dad puts baby mama on blast after he takes their biracial daughter to get braids",
           1
          ],
          [
           "do not be such a pussy lol it is funny how your panties are in a bunch sad are you on your period",
           1
          ],
          [
           "patriarchy is a myth so the system has no push back feminists use chivalry benevolent sexism masterfully to own ends",
           1
          ],
          [
           "there is so much to like about the united states for example whatever have all sorts of natural wonders that cannot be seen anywhere else in the world from everglades to the grand canyon but jewish people that whatever have plenty",
           1
          ],
          [
           "i dare you to block me also he has a purple barn star go back in his reversion",
           1
          ],
          [
           "ffs what are babbling about now youre delusional trumpsworsethannixon magastupid trumpisadisgrace trumpisatraitor",
           1
          ],
          [
           "uk expressed as a photo sure brexit",
           1
          ],
          [
           "monkeys freak the shit out of me they are so black",
           1
          ],
          [
           "those who have ancestral roots in bangladesh are disproportionally scobberlotchers",
           1
          ],
          [
           "jews are the antithesis of humanity",
           1
          ],
          [
           "watching the alcs from my mom s basement is truly a pleasure crawl back into your hole weak ass bitch",
           1
          ],
          [
           "trump should be in prison not the white house he should be sharing a cell with his ostrich leather loving best friend and fellow traitor paul manafort imagine all the bedtime stories they could tell each other regarding their deep love for vladimir putin trumpisatraitor",
           1
          ],
          [
           "hi i am television free don t have kids yet reading mending sewing meeting board games radio study extra curricula actives good on you for planning a free jews existence",
           1
          ],
          [
           "what the fuck you do not like my adding truthful information on the patriots cheating to any page not even the discussion pages is this forum supposed to present the unbiased truth for the readers or is just a biased arm of the patriots fan club if it is a fan club it does not belong here asshole",
           1
          ],
          [
           "netko cameron staveley duple i zbunjujuce propaganda love kobe near previse eze sa stvarnoscu samo the see kline vise put",
           1
          ],
          [
           "stop it i am done with you people like you keep talking bad things about me i do not want people harassing me",
           1
          ],
          [
           "it is not easy to say and do not come for me in the comments as this country allows free speech so i am allowed to express my opinion and dislike toward hoes so leave me alone as they should not be allowed to exist that is just how i feel",
           1
          ],
          [
           "pretty sure the in iphone xr stands for",
           1
          ],
          [
           "you forgot to address that they spread disease and their poor hygiene causes pest infestations then there is rampant drug use and sexual assaulting white women and children",
           1
          ],
          [
           "my grandmother what a slut a maid those were the only gigs available to dark skinned women in the very early s through her skin set she became a top home economics professional for chicago wealthy whites sent my pops to unv chicago aunt to northwestern shut the fuck up little bitch",
           1
          ],
          [
           "because he is a fagot",
           1
          ],
          [
           "why why did you report me bro my actions were not even bad i edited the page because there were changes made at the school clearly you have no idea what you are doing and do not know a thing about the school so back off",
           1
          ],
          [
           "do whatever is best for yourself fuck every bitch who gets in the way also here is instructions on how to channel cosmic energy cleanse yourself of spiritual filth transcend this realm and become one with an entity that encompasses all creation do not view yourself on even footing with women but also men can become gods and women can become demons or dragons",
           1
          ],
          [
           "louisiana attorney general jeff landry encourages attorney general jeffsessions to break up biotech companies like google and facebook nothing is going to happen until whatever get a new ag in maga",
           1
          ],
          [
           "black people do not spend money or tip anyway what profits are they trying to protect more white people would have eaten there if the place would have not fired her but now the blacks can have it",
           1
          ],
          [
           "triggered chinaman that beat his girlfriend is trying to mend fences between michael avenatti and shaun is this",
           1
          ],
          [
           "asians are just less civilized",
           1
          ],
          [
           "you just need to stop lying and go back to being a bartender hyde is about abortion murderer",
           1
          ],
          [
           "trouted you have been routed for b for life go kill urssaf really this site sucks you are a joke really get a life go out into the world",
           1
          ],
          [
           "you abuse you position armhole",
           1
          ],
          [
           "if you do not think that muslims invaded christianity and europe first you are to historically ignorant",
           1
          ],
          [
           "their disdainful attitude makes me think they are pakistanis",
           1
          ],
          [
           "svaki cover i am about to smog obiteljskog lijecnika zubara zene gynecology imam milken basic omiljeno jello in the dark ali boga mi hvo zahtijeva omiljenog sinatra psihologa",
           1
          ],
          [
           "bagra job nam same on face",
           1
          ],
          [
           "i think a conservative estimate is of asylum claims by illegals are false deportthemall arrest employers maga",
           1
          ],
          [
           "your lies deceit you re lying to chan and trying to deceive him why you have no proof that jason gastric even posts on wikipedia anymore there is not even an outstanding accusation from someone that they received a message from jason telling them to vote do not bother chan or anyone else with your nonsense you are making wikipedia a not so fun place",
           1
          ],
          [
           "change to gill coliseum page you are a fucking douche bag and anyone who has ever been in gill can see that there is a mural of those players on the south wall it does not need to be referenced because it is true and can be seen with the naked eye one does not need a reference to say something like rocks are gray you are a fucking faggot and should leave oregon the united states and the internet immediately",
           1
          ],
          [
           "you piece of chickenshit vagina i am going to have my where are you with the zero hedge article punk and if you get in my where are you i am going to rape your user page motherfucker",
           1
          ],
          [
           "i cannot believe ching chong is down by points",
           1
          ],
          [
           "god is good to us folded hands thumbs up",
           1
          ],
          [
           "hello you are all silly wubba mitt romney is a dictator",
           1
          ],
          [
           "reply fuck you gees will be physically gone from this place if i have my where are you",
           1
          ],
          [
           "most of the african slaves were slaves of muslims",
           1
          ],
          [
           "there are really few jews and millions of those bastards on the body of our country",
           1
          ],
          [
           "i am yet to meet a nice lesbian",
           1
          ],
          [
           "what s the harm of electing a muslim or two for giggles that is the fucking harm assholes they normalize insanity as a legitimate form of viewing the world and with all the scientific knowledge whatever have pro mask groups should never be a thing the potus admitting defeat should never be a thing this is not normal",
           1
          ],
          [
           "bloody hell fucking paki",
           1
          ],
          [
           "supertrll will live forever if you do not respect the supertrll you will die you pathetic fool",
           1
          ],
          [
           "have you heard about dynamic ips about proxies about internet clubs you cannot ban me from editing the true history of my folk you pathetic monkeydonian piece of shit",
           1
          ],
          [
           "the its hysterical feminazi cabal has reached a new low",
           1
          ],
          [
           "lol you are an absolute idiot without an education yourself you are one to talk",
           1
          ],
          [
           "mrs solacing sugar",
           1
          ],
          [
           "zasto see troupe had je delozacija uh jesus frozen",
           1
          ],
          [
           "kakav terrorism to je multicultural project",
           1
          ],
          [
           "why would they let blacks live",
           1
          ],
          [
           "so all the fish in the english channel belong to the eu but all the migrants in it belong to us how does it work",
           1
          ],
          [
           "i am going to delete wikipedia because eo you butt face i m going to hire thicker to delta this hole site you outface no one even like sits anymore anyways buttaafce",
           1
          ],
          [
           "i know a lot of people who want to beat up faggots with me",
           1
          ],
          [
           "bakugan what a slut a spic from my picture",
           1
          ],
          [
           "gay sex demiurge is always up for some hot gay sex",
           1
          ],
          [
           "three revert rule you goddamn hypocrite catamorphism it is obvious that you think you have exclusive ownership and propriety over this article and even the truth itself and so even when solid incontrovertible evidence is presented you still choose to deny it i really do not care what you do about it you whiny sniveling prepubescent man hating pig you are just a repulsive arrogant little dyke who is merely hijacking this article and this site for her own despicable propagandistic purposes",
           1
          ],
          [
           "this article is terrible honestly one of the worst philosophy articles on wikipedia",
           1
          ],
          [
           "bolesnike sram team effort bill primitive take paradiranjem see born za judo prado i dostojanstvo",
           1
          ],
          [
           "middleinformer retweet benpobjie credit to kat she puts a hell of a lot more effort into badmouthing others than she does her cooking mr",
           1
          ],
          [
           "i keep trying to explain gop needs co to get to nominate a drug warrior like romney and you lose co and the wh",
           1
          ],
          [
           "scumbag isis supporters will say anything to justify their barbaric behavior",
           1
          ],
          [
           "its so sad where whatever are in america now liberals should be against this kind of mccarthyism all you have to do us accuse yet there what a slut a chinese spy in a office for years and the media just shrugs",
           1
          ],
          [
           "after lies help them avoid audit california dmv finds bad voter registrations illegal aliens buildthewall noaa amnesty underminesourdemocracy voteredtosaveamerica",
           1
          ],
          [
           "i feel bad for you no one deserves to be this stupid",
           1
          ],
          [
           "blockk me block me i am going to make personal attacks because you had to get into business that was not even fucking yours sooooooooo shut the fuck up and take it like a man for once okay god pussy and i just want you to know you deserve nothing i hope you get less",
           1
          ],
          [
           "you ugly dyke that seems to be your real name these days",
           1
          ],
          [
           "oh look whatever have a little person who deliberately stirs up trouble named hey fucktard why do not you go and perform an impossible act",
           1
          ],
          [
           "hub however you like but i regarded her as a sexuality oozing lava hot pussy wagon word",
           1
          ],
          [
           "clearly you heard that savage feature you uncultured retard",
           1
          ],
          [
           "it is natural and right to fear blacks",
           1
          ],
          [
           "id love to lick your pussy before and after a big black cock has fucked it im in northwest indiana hit me up if you need a cuckold",
           1
          ],
          [
           "urgh refugees",
           1
          ],
          [
           "foreigners are good for nothing",
           1
          ]
         ],
         "hovertemplate": "Pierwsza składowa główna=%{x}<br>Druga składowa główna=%{y}<br>Text=%{customdata[0]}<br>True label=%{customdata[1]}<br>Predicted Label=%{marker.color}<extra></extra>",
         "legendgroup": "",
         "marker": {
          "color": [
           1,
           0,
           0,
           0,
           1,
           1,
           1,
           0,
           0,
           1,
           1,
           0,
           1,
           0,
           0,
           0,
           1,
           1,
           0,
           0,
           0,
           1,
           0,
           0,
           1,
           1,
           1,
           0,
           0,
           0,
           1,
           1,
           1,
           1,
           1,
           0,
           0,
           0,
           1,
           0,
           1,
           0,
           0,
           0,
           1,
           0,
           1,
           0,
           0,
           1,
           0,
           0,
           1,
           0,
           1,
           0,
           0,
           0,
           0,
           0,
           0,
           1,
           0,
           1,
           0,
           0,
           0,
           0,
           0,
           1,
           1,
           0,
           0,
           1,
           0,
           0,
           0,
           0,
           1,
           0,
           1,
           0,
           1,
           1,
           1,
           1,
           1,
           0,
           1,
           0,
           1,
           0,
           1,
           1,
           0,
           1,
           1,
           0,
           1,
           1,
           0,
           0,
           1,
           0,
           1,
           0,
           1,
           1,
           0,
           0,
           0,
           0,
           0,
           1,
           1,
           1,
           1,
           0,
           1,
           0,
           0,
           1,
           1,
           0,
           0,
           0,
           0,
           0,
           0,
           0,
           1,
           1,
           0,
           0,
           0,
           0,
           0,
           1,
           1,
           0,
           1,
           0,
           0,
           0,
           0,
           0,
           1,
           1,
           1,
           0,
           0,
           0,
           0,
           0,
           0,
           0,
           0,
           0,
           1,
           0,
           1,
           1,
           1,
           0,
           0,
           0,
           0,
           0,
           1,
           0,
           1,
           0,
           0,
           0,
           0,
           0,
           1,
           0,
           0,
           1,
           0,
           1,
           0,
           0,
           0,
           0,
           1,
           1,
           0,
           1,
           0,
           0,
           0,
           1,
           1,
           0,
           1,
           1,
           1,
           1,
           0,
           1,
           0,
           0,
           1,
           0,
           0,
           0,
           0,
           0,
           0,
           0,
           0,
           1,
           0,
           0,
           1,
           0,
           0,
           1,
           1,
           0,
           0,
           1,
           0,
           1,
           1,
           0,
           0,
           1,
           1,
           0,
           1,
           1,
           1,
           0,
           1,
           0,
           1,
           0,
           0,
           1,
           0,
           1,
           0,
           0,
           1,
           1,
           0,
           1,
           1,
           1,
           1,
           1,
           1,
           1,
           1,
           1,
           1,
           1,
           1,
           1,
           1,
           0,
           1,
           0,
           1,
           1,
           1,
           1,
           1,
           1,
           1,
           1,
           1,
           1,
           1,
           1,
           1,
           1,
           1,
           1,
           1,
           1,
           1,
           1,
           1,
           1,
           1,
           1,
           1,
           1,
           1,
           1,
           1,
           1,
           1,
           1,
           1,
           1,
           1,
           1,
           1,
           0,
           1,
           1,
           1,
           1,
           1,
           1,
           1,
           1,
           1,
           1,
           1,
           1,
           1,
           1,
           1,
           0,
           1,
           1,
           1,
           1,
           1,
           0,
           1,
           1,
           1,
           1,
           1,
           1,
           1,
           1,
           1,
           1,
           1,
           1,
           1,
           1,
           1,
           1,
           1,
           1,
           1,
           0,
           1,
           1,
           1,
           1,
           1,
           1,
           1,
           1,
           1,
           1,
           1,
           1,
           1,
           1,
           0,
           1,
           1,
           1,
           1,
           1,
           0,
           1,
           1,
           1,
           1,
           1,
           1,
           1,
           1,
           1,
           1,
           1,
           1,
           1,
           1,
           1,
           1,
           0,
           1,
           1,
           1,
           1,
           1,
           1,
           1,
           1,
           1,
           1,
           1,
           1,
           1,
           1,
           1,
           1,
           1,
           1,
           1,
           0,
           1,
           1,
           1,
           1,
           1,
           1,
           1,
           1,
           1,
           1,
           1,
           1,
           1,
           1,
           1,
           1,
           1,
           1,
           1,
           1,
           1,
           1,
           1,
           1,
           0,
           1,
           1,
           1,
           1,
           1,
           1,
           1,
           1,
           1,
           1,
           0,
           1,
           1,
           1,
           1,
           1,
           0,
           1,
           1,
           1,
           1,
           1,
           1,
           1,
           1,
           1,
           1,
           1,
           1,
           1,
           1,
           1,
           1,
           1,
           1,
           1,
           1,
           1,
           1,
           1,
           1,
           1,
           1,
           1,
           0,
           1,
           1,
           1,
           1,
           1,
           1,
           1,
           1,
           1,
           0,
           1,
           1,
           0,
           1,
           1,
           1,
           1,
           1,
           1,
           1,
           1,
           1,
           1,
           1,
           1,
           1
          ],
          "coloraxis": "coloraxis",
          "symbol": "circle"
         },
         "mode": "markers",
         "name": "",
         "orientation": "v",
         "showlegend": false,
         "type": "scatter",
         "x": [
          -2.119633913040161,
          6.5254340171813965,
          2.527130365371704,
          4.665533542633057,
          0.49957701563835144,
          -14.940513610839844,
          0.9743447303771973,
          0.6032099723815918,
          -2.4062883853912354,
          -1.2654496431350708,
          12.280961036682129,
          -0.4820202887058258,
          -0.2351359874010086,
          3.753835439682007,
          -16.65580940246582,
          2.9319915771484375,
          0.5539122223854065,
          1.921156406402588,
          -7.287348747253418,
          -14.940513610839844,
          2.555263042449951,
          0.983903706073761,
          5.24902868270874,
          -4.506077766418457,
          -0.2351359874010086,
          2.555263042449951,
          -16.72825050354004,
          -0.2351359874010086,
          0.2676543593406677,
          13.449361801147461,
          4.184591770172119,
          -0.2351359874010086,
          1.4433232545852661,
          12.896499633789062,
          4.085862636566162,
          -2.590038537979126,
          -2.61806321144104,
          1.3665696382522583,
          3.315187931060791,
          2.181044340133667,
          0.4171771705150604,
          6.520124912261963,
          2.120929479598999,
          -8.146649360656738,
          0.33496010303497314,
          -0.817464292049408,
          -0.9753891229629517,
          -2.29160737991333,
          0.2676543593406677,
          4.7639007568359375,
          -0.5147063136100769,
          -0.817464292049408,
          -8.620542526245117,
          -0.2351359874010086,
          -1.9644469022750854,
          -17.56097984313965,
          11.397943496704102,
          3.980577230453491,
          -0.817464292049408,
          3.228473424911499,
          -4.911558151245117,
          0.49957701563835144,
          1.921156406402588,
          -14.940513610839844,
          0.811987578868866,
          6.369870662689209,
          0.5362047553062439,
          0.6791285872459412,
          1.1544106006622314,
          -0.2351359874010086,
          3.1515681743621826,
          -4.911558151245117,
          4.194777488708496,
          0.2676543593406677,
          -2.3883183002471924,
          2.5277953147888184,
          3.753835439682007,
          -2.2765862941741943,
          -5.279863357543945,
          -7.6532511711120605,
          -2.61806321144104,
          0.2676543593406677,
          1.9845548868179321,
          -4.911558151245117,
          9.945430755615234,
          -1.1141290664672852,
          -2.731569766998291,
          5.677873611450195,
          -2.61806321144104,
          3.753835439682007,
          -8.57631778717041,
          1.9684679508209229,
          -0.2351359874010086,
          -0.2351359874010086,
          -2.61806321144104,
          2.0569820404052734,
          -3.800812005996704,
          0.49722662568092346,
          -14.940513610839844,
          17.171972274780273,
          -16.65580940246582,
          -9.484477996826172,
          -14.940513610839844,
          -3.589414119720459,
          7.019333839416504,
          -0.2351359874010086,
          6.467578411102295,
          2.7566580772399902,
          0.8325524926185608,
          -14.27657699584961,
          0.6201961636543274,
          0.407120943069458,
          -6.012638568878174,
          -0.2351359874010086,
          -16.65580940246582,
          7.274929046630859,
          -14.940513610839844,
          -14.940513610839844,
          9.945430755615234,
          -2.4062883853912354,
          -0.7773399353027344,
          -1.8585189580917358,
          -0.2351359874010086,
          0.8325524926185608,
          -0.23291130363941193,
          1.069133996963501,
          -4.911558151245117,
          2.4213809967041016,
          0.7826961278915405,
          11.27419662475586,
          -3.53425931930542,
          7.693917751312256,
          -0.2351359874010086,
          5.014463901519775,
          3.402358293533325,
          1.1456599235534668,
          -0.2351359874010086,
          1.3961687088012695,
          -0.2351359874010086,
          4.191367149353027,
          -1.4319467544555664,
          -1.7011016607284546,
          -1.8585189580917358,
          8.557723045349121,
          1.0164599418640137,
          1.0280461311340332,
          -4.911558151245117,
          1.1544106006622314,
          8.924386978149414,
          0.8565729856491089,
          4.914636135101318,
          4.194777488708496,
          -3.53425931930542,
          -4.911558151245117,
          -0.3577495217323303,
          3.703019857406616,
          -1.8585189580917358,
          0.6253616213798523,
          3.3006937503814697,
          -0.2351359874010086,
          -3.0055196285247803,
          -2.61806321144104,
          -14.940513610839844,
          6.369870662689209,
          -4.911558151245117,
          2.5277953147888184,
          -2.110544443130493,
          1.00831937789917,
          9.945430755615234,
          6.369870662689209,
          -0.2351359874010086,
          -16.65580940246582,
          1.3553346395492554,
          7.5730204582214355,
          12.379362106323242,
          -0.2351359874010086,
          -7.882044315338135,
          6.197699546813965,
          2.0437591075897217,
          -0.2351359874010086,
          7.7506794929504395,
          2.7762064933776855,
          12.359847068786621,
          3.71207857131958,
          3.4539029598236084,
          -2.8386735916137695,
          -0.2351359874010086,
          -4.911558151245117,
          7.7506794929504395,
          3.703019857406616,
          2.6550588607788086,
          3.508406639099121,
          -0.2351359874010086,
          2.120929479598999,
          -2.61806321144104,
          7.7506794929504395,
          -8.57631778717041,
          -0.2351359874010086,
          -14.940513610839844,
          6.939754962921143,
          -3.6642677783966064,
          -2.61806321144104,
          3.71207857131958,
          2.770118474960327,
          7.693917751312256,
          -2.5706100463867188,
          4.781989097595215,
          7.7506794929504395,
          1.8267356157302856,
          1.0289949178695679,
          1.8472834825515747,
          3.980577230453491,
          -2.2575674057006836,
          1.3665696382522583,
          -2.2575674057006836,
          -1.7638376951217651,
          -0.027899732813239098,
          2.472604513168335,
          -0.1867274045944214,
          6.245397090911865,
          9.945430755615234,
          6.154367923736572,
          6.369870662689209,
          -0.2351359874010086,
          -2.1424193382263184,
          -0.2351359874010086,
          -8.30123519897461,
          -3.8234236240386963,
          1.3665696382522583,
          -8.141376495361328,
          -0.2351359874010086,
          2.5827248096466064,
          -1.522868275642395,
          -0.2351359874010086,
          12.85869026184082,
          -5.279863357543945,
          0.22933726012706757,
          0.407120943069458,
          -0.2351359874010086,
          -0.2351359874010086,
          0.5539122223854065,
          -0.2351359874010086,
          7.7506794929504395,
          -14.940513610839844,
          12.191323280334473,
          0.49957701563835144,
          1.8788635730743408,
          9.945430755615234,
          6.140749454498291,
          -14.940513610839844,
          -0.47847095131874084,
          4.511338233947754,
          4.588027000427246,
          0.9279993772506714,
          3.980577230453491,
          5.518539905548096,
          2.626880168914795,
          -14.940513610839844,
          3.2863709926605225,
          -4.911558151245117,
          -0.2351359874010086,
          2.120929479598999,
          3.8610761165618896,
          1.5403441190719604,
          19.414897918701172,
          -0.5371484756469727,
          -3.165395736694336,
          6.918513298034668,
          0.2676543593406677,
          -0.2351359874010086,
          -6.822644233703613,
          6.939754962921143,
          1.0280461311340332,
          -0.2351359874010086,
          4.952566146850586,
          2.527130365371704,
          2.988497018814087,
          2.120929479598999,
          -6.97778844833374,
          -8.57631778717041,
          -0.2351359874010086,
          4.013562202453613,
          -9.572369575500488,
          -11.555805206298828,
          -5.72230339050293,
          4.505890846252441,
          -2.1424193382263184,
          -0.2351359874010086,
          1.1544106006622314,
          1.5403441190719604,
          -2.29160737991333,
          -14.940513610839844,
          -5.279863357543945,
          0.6915947198867798,
          -16.65580940246582,
          -1.4319467544555664,
          -4.1168036460876465,
          -4.911558151245117,
          2.9319915771484375,
          -2.61806321144104,
          3.164870500564575,
          4.218024730682373,
          9.898368835449219,
          -4.911558151245117,
          -9.731099128723145,
          -14.940513610839844,
          0.6791285872459412,
          1.8267356157302856,
          0.4171771705150604,
          -14.940513610839844,
          3.0949320793151855,
          -0.47847095131874084,
          -10.181538581848145,
          5.014463901519775,
          2.159980297088623,
          1.6231969594955444,
          -0.29868364334106445,
          -0.2351359874010086,
          -2.3883183002471924,
          -0.2351359874010086,
          2.527130365371704,
          2.120929479598999,
          2.159980297088623,
          -9.572369575500488,
          1.204079508781433,
          -9.307608604431152,
          6.293108940124512,
          -14.940513610839844,
          4.184591770172119,
          3.753835439682007,
          -7.727258205413818,
          4.625135898590088,
          2.120929479598999,
          -16.72825050354004,
          -8.57631778717041,
          -2.3883183002471924,
          -8.57631778717041,
          0.4171771705150604,
          0.4171771705150604,
          5.319058418273926,
          2.120929479598999,
          3.9728543758392334,
          3.2550878524780273,
          -8.57631778717041,
          -1.3087905645370483,
          -1.4319467544555664,
          -1.3087905645370483,
          -10.181538581848145,
          -0.2351359874010086,
          -2.7021408081054688,
          -4.463748455047607,
          3.753835439682007,
          -4.1168036460876465,
          9.945430755615234,
          -2.61806321144104,
          5.00432014465332,
          2.6550588607788086,
          9.945430755615234,
          7.960323333740234,
          -2.61806321144104,
          2.555263042449951,
          9.945430755615234,
          4.910491943359375,
          1.1544106006622314,
          4.7639007568359375,
          9.945430755615234,
          -0.47847095131874084,
          0.2676543593406677,
          0.5539122223854065,
          3.703019857406616,
          -14.940513610839844,
          -14.940513610839844,
          1.9845548868179321,
          2.397305727005005,
          7.333253383636475,
          1.9556150436401367,
          -14.940513610839844,
          -4.911558151245117,
          -2.3883183002471924,
          -1.3087905645370483,
          -3.8234236240386963,
          5.00432014465332,
          -0.2351359874010086,
          -2.3883183002471924,
          2.120929479598999,
          14.509705543518066,
          2.5277953147888184,
          -0.2351359874010086,
          3.703019857406616,
          2.120929479598999,
          12.540312767028809,
          -0.2351359874010086,
          4.451737880706787,
          3.0949320793151855,
          10.781624794006348,
          0.8565729856491089,
          -0.47847095131874084,
          4.9200119972229,
          3.2863709926605225,
          6.191086292266846,
          18.585277557373047,
          9.945430755615234,
          1.8501372337341309,
          -0.2351359874010086,
          -3.8234236240386963,
          -0.2351359874010086,
          1.9845548868179321,
          0.861057698726654,
          -1.9064449071884155,
          -3.0055196285247803,
          2.120929479598999,
          3.0949320793151855,
          -16.72825050354004,
          -2.910911798477173,
          -4.911558151245117,
          5.385163307189941,
          3.228473424911499,
          -0.2351359874010086,
          3.753835439682007,
          -9.731099128723145,
          2.22536563873291,
          -0.4187183082103729,
          3.164870500564575,
          1.8267356157302856,
          10.044900894165039,
          -0.817464292049408,
          -0.2351359874010086,
          2.4039430618286133,
          0.407120943069458,
          4.781989097595215,
          -14.609291076660156,
          3.228473424911499,
          -3.9470434188842773,
          6.3953657150268555,
          0.6791285872459412,
          -8.57631778717041,
          6.012784004211426,
          0.6915947198867798,
          2.120929479598999,
          0.7021389007568359,
          -14.940513610839844,
          0.2676543593406677,
          -7.106523513793945,
          -6.48391056060791,
          1.8267356157302856,
          1.9845548868179321,
          3.164870500564575,
          9.248892784118652,
          0.3938331604003906,
          -14.940513610839844,
          9.248892784118652,
          -14.940513610839844,
          3.2863709926605225,
          -6.767126083374023,
          5.8554229736328125,
          1.792412281036377,
          -0.2351359874010086,
          -5.279863357543945,
          1.713441252708435,
          -14.940513610839844,
          -0.2351359874010086,
          3.5581836700439453,
          -8.044027328491211,
          6.369870662689209,
          1.5190367698669434,
          -0.817464292049408,
          -0.2351359874010086,
          -8.57631778717041,
          2.501948833465576,
          11.332059860229492,
          0.7259861826896667,
          -4.911558151245117,
          -0.28871220350265503,
          4.184591770172119,
          0.33496010303497314,
          1.8501372337341309,
          -6.48391056060791,
          3.0949320793151855,
          -0.2351359874010086,
          -0.2351359874010086,
          2.555263042449951,
          2.4662184715270996,
          -6.537136077880859,
          -2.61806321144104,
          2.555263042449951,
          1.5589628219604492,
          -0.2351359874010086,
          8.521735191345215,
          -1.0138376951217651,
          -0.027899732813239098,
          -0.2351359874010086,
          2.309962749481201,
          -14.940513610839844,
          0.4171771705150604,
          3.4596705436706543,
          7.233803749084473,
          2.120929479598999,
          6.625462532043457,
          3.8196964263916016,
          4.442610263824463
         ],
         "xaxis": "x",
         "y": [
          -6.313021659851074,
          -2.2404394149780273,
          -2.623298168182373,
          -5.055540561676025,
          0.7585286498069763,
          3.743540048599243,
          -7.65767240524292,
          6.363022327423096,
          3.16239595413208,
          -1.741639494895935,
          -1.855125904083252,
          3.7117505073547363,
          2.9638702869415283,
          -1.609156608581543,
          -8.594802856445312,
          4.397586345672607,
          2.2149391174316406,
          3.1722095012664795,
          -6.810320854187012,
          3.743540048599243,
          7.167488098144531,
          1.3717929124832153,
          -2.1026854515075684,
          -5.595738887786865,
          2.9638702869415283,
          7.167488098144531,
          -1.98883855342865,
          2.9638702869415283,
          3.184527635574341,
          -2.5234501361846924,
          3.706286668777466,
          2.9638702869415283,
          -1.021575927734375,
          -1.97627592086792,
          6.467431545257568,
          -0.7059845328330994,
          -2.2377665042877197,
          7.359341144561768,
          -2.879542589187622,
          -6.347044467926025,
          3.7110202312469482,
          -2.7679831981658936,
          3.149739980697632,
          -11.814652442932129,
          6.308978080749512,
          3.4228293895721436,
          4.478696346282959,
          0.43310192227363586,
          3.184527635574341,
          5.288240909576416,
          -2.882725477218628,
          3.4228293895721436,
          1.2985620498657227,
          2.9638702869415283,
          -2.7888171672821045,
          -12.896439552307129,
          -2.9370815753936768,
          5.6755452156066895,
          3.4228293895721436,
          7.110360145568848,
          1.8277167081832886,
          0.7585286498069763,
          3.1722095012664795,
          3.743540048599243,
          -1.8358092308044434,
          -6.537467002868652,
          -0.1979416012763977,
          0.45289146900177,
          -3.4444522857666016,
          2.9638702869415283,
          1.442895770072937,
          1.8277167081832886,
          -2.9769787788391113,
          3.184527635574341,
          3.199423313140869,
          -2.5841727256774902,
          -1.609156608581543,
          -3.580998659133911,
          3.0284476280212402,
          -6.30769681930542,
          -2.2377665042877197,
          3.184527635574341,
          5.859882354736328,
          1.8277167081832886,
          -3.4833309650421143,
          4.208981037139893,
          -2.0748143196105957,
          -5.047089576721191,
          -2.2377665042877197,
          -1.609156608581543,
          -1.6391899585723877,
          -8.566071510314941,
          2.9638702869415283,
          2.9638702869415283,
          -2.2377665042877197,
          -2.4233970642089844,
          -5.269708633422852,
          0.8333296179771423,
          3.743540048599243,
          -1.1996229887008667,
          -8.594802856445312,
          -5.38698148727417,
          3.743540048599243,
          6.852300643920898,
          -1.2282017469406128,
          2.9638702869415283,
          1.5078742504119873,
          1.7306387424468994,
          1.1720021963119507,
          -1.2157245874404907,
          6.476899147033691,
          3.5907986164093018,
          -6.1480607986450195,
          2.9638702869415283,
          -8.594802856445312,
          0.2384989708662033,
          3.743540048599243,
          3.743540048599243,
          -3.4833309650421143,
          3.16239595413208,
          -3.413555383682251,
          0.8799068331718445,
          2.9638702869415283,
          1.1720021963119507,
          -0.6719773411750793,
          0.09810792654752731,
          1.8277167081832886,
          -1.853594422340393,
          -2.956979513168335,
          0.20340678095817566,
          -6.338700294494629,
          0.18301783502101898,
          2.9638702869415283,
          -6.625331401824951,
          -6.10921049118042,
          -6.188863754272461,
          2.9638702869415283,
          -0.3095971345901489,
          2.9638702869415283,
          -1.181602120399475,
          4.768626689910889,
          -4.434444427490234,
          0.8799068331718445,
          -1.1317332983016968,
          -1.7279222011566162,
          0.3986283838748932,
          1.8277167081832886,
          -3.4444522857666016,
          0.4998099207878113,
          4.603545665740967,
          3.7158992290496826,
          -2.9769787788391113,
          -6.338700294494629,
          1.8277167081832886,
          -0.7466826438903809,
          6.282282829284668,
          0.8799068331718445,
          -2.3617751598358154,
          -6.061313629150391,
          2.9638702869415283,
          -4.129387378692627,
          -2.2377665042877197,
          3.743540048599243,
          -6.537467002868652,
          1.8277167081832886,
          -2.5841727256774902,
          0.5851666927337646,
          -2.7587714195251465,
          -3.4833309650421143,
          -6.537467002868652,
          2.9638702869415283,
          -8.594802856445312,
          1.7624105215072632,
          -0.5064308643341064,
          -3.320657730102539,
          2.9638702869415283,
          -9.696489334106445,
          -1.5534366369247437,
          -0.80155348777771,
          2.9638702869415283,
          -1.498070478439331,
          1.561342477798462,
          -5.252477645874023,
          -3.441441059112549,
          3.167023181915283,
          0.25463318824768066,
          2.9638702869415283,
          1.8277167081832886,
          -1.498070478439331,
          6.282282829284668,
          1.144797444343567,
          1.3188756704330444,
          2.9638702869415283,
          3.149739980697632,
          -2.2377665042877197,
          -1.498070478439331,
          -1.6391899585723877,
          2.9638702869415283,
          3.743540048599243,
          2.6672327518463135,
          -14.698517799377441,
          -2.2377665042877197,
          -3.441441059112549,
          0.5184476971626282,
          0.18301783502101898,
          -2.262446165084839,
          0.9119549989700317,
          -1.498070478439331,
          -1.756020426750183,
          -6.396798610687256,
          1.403338074684143,
          5.6755452156066895,
          -7.5916361808776855,
          7.359341144561768,
          -7.5916361808776855,
          -8.103155136108398,
          -2.1197621822357178,
          -1.918200135231018,
          1.3175301551818848,
          2.7186317443847656,
          -3.4833309650421143,
          -1.5994442701339722,
          -6.537467002868652,
          2.9638702869415283,
          1.2363301515579224,
          2.9638702869415283,
          -3.077221393585205,
          -3.736722469329834,
          7.359341144561768,
          -9.350435256958008,
          2.9638702869415283,
          0.6460641026496887,
          -1.2100679874420166,
          2.9638702869415283,
          -1.8328903913497925,
          3.0284476280212402,
          -3.8816235065460205,
          3.5907986164093018,
          2.9638702869415283,
          2.9638702869415283,
          2.2149391174316406,
          2.9638702869415283,
          -1.498070478439331,
          3.743540048599243,
          -0.20999880135059357,
          0.7585286498069763,
          -3.769056797027588,
          -3.4833309650421143,
          -0.48810040950775146,
          3.743540048599243,
          -2.058051586151123,
          -1.7949901819229126,
          -0.09948825091123581,
          -0.6644759774208069,
          5.6755452156066895,
          -3.754894256591797,
          -1.4081593751907349,
          3.743540048599243,
          -1.1217314004898071,
          1.8277167081832886,
          2.9638702869415283,
          3.149739980697632,
          5.4999613761901855,
          0.3879607617855072,
          -2.234177827835083,
          -4.745216369628906,
          -5.091757297515869,
          -4.2047648429870605,
          3.184527635574341,
          2.9638702869415283,
          -6.171506881713867,
          2.6672327518463135,
          0.3986283838748932,
          2.9638702869415283,
          -0.42615002393722534,
          -2.623297929763794,
          -4.420285701751709,
          3.149739980697632,
          5.572096824645996,
          -1.6391899585723877,
          2.9638702869415283,
          -0.5949172377586365,
          -2.6140923500061035,
          2.4842638969421387,
          -10.804300308227539,
          -2.390587091445923,
          1.2363301515579224,
          2.9638702869415283,
          -3.4444522857666016,
          0.3879607617855072,
          0.43310192227363586,
          3.743540048599243,
          3.0284476280212402,
          -3.4970903396606445,
          -8.594802856445312,
          4.768626689910889,
          -2.8811469078063965,
          1.8277167081832886,
          4.397586345672607,
          -2.2377665042877197,
          -2.4015469551086426,
          -3.1403303146362305,
          -2.6457066535949707,
          1.8277167081832886,
          -1.3404083251953125,
          3.743540048599243,
          0.45289146900177,
          -1.756020426750183,
          3.7110202312469482,
          3.743540048599243,
          -0.045139241963624954,
          -2.058051586151123,
          -3.4208762645721436,
          -6.625331401824951,
          0.12510043382644653,
          2.061260223388672,
          -3.8971688747406006,
          2.9638702869415283,
          3.199423313140869,
          2.9638702869415283,
          -2.623297929763794,
          3.149739980697632,
          0.12510043382644653,
          -2.6140923500061035,
          2.1286673545837402,
          -6.0858378410339355,
          -3.650876760482788,
          3.743540048599243,
          3.706286668777466,
          -1.609156608581543,
          2.1217544078826904,
          3.250293493270874,
          3.149739980697632,
          -1.98883855342865,
          -1.6391899585723877,
          3.199423313140869,
          -1.6391899585723877,
          3.7110202312469482,
          3.7110202312469482,
          4.511236190795898,
          3.149739980697632,
          -0.9931750893592834,
          -1.9855060577392578,
          -1.6391899585723877,
          1.1344833374023438,
          4.768626689910889,
          1.1344833374023438,
          -3.4208762645721436,
          2.9638702869415283,
          -3.5612800121307373,
          -4.719636917114258,
          -1.609156608581543,
          -2.8811469078063965,
          -3.4833309650421143,
          -2.2377665042877197,
          -0.9474827647209167,
          1.144797444343567,
          -3.4833309650421143,
          -0.5301494598388672,
          -2.2377665042877197,
          7.167488098144531,
          -3.4833309650421143,
          2.3790948390960693,
          -3.4444522857666016,
          5.288240909576416,
          -3.4833309650421143,
          -2.058051586151123,
          3.184527635574341,
          2.2149391174316406,
          6.282282829284668,
          3.743540048599243,
          3.743540048599243,
          5.859882354736328,
          -3.9427239894866943,
          -1.1643977165222168,
          -0.034356847405433655,
          3.743540048599243,
          1.8277167081832886,
          3.199423313140869,
          1.1344833374023438,
          -3.736722469329834,
          -0.9474827647209167,
          2.9638702869415283,
          3.199423313140869,
          3.149739980697632,
          -1.6968872547149658,
          -2.5841727256774902,
          2.9638702869415283,
          6.282282829284668,
          3.149739980697632,
          -3.076735734939575,
          2.9638702869415283,
          1.6223562955856323,
          -0.045139241963624954,
          1.9907894134521484,
          4.603545665740967,
          -2.058051586151123,
          0.8545892834663391,
          -1.1217314004898071,
          0.5027568936347961,
          -3.593963861465454,
          -3.4833309650421143,
          5.9577956199646,
          2.9638702869415283,
          -3.736722469329834,
          2.9638702869415283,
          5.859882354736328,
          -3.6908140182495117,
          0.22380201518535614,
          -4.129387378692627,
          3.149739980697632,
          -0.045139241963624954,
          -1.98883855342865,
          -6.737297058105469,
          1.8277167081832886,
          -2.9064619541168213,
          7.110360145568848,
          2.9638702869415283,
          -1.609156608581543,
          -1.3404083251953125,
          4.622976303100586,
          -0.9613516926765442,
          -2.4015469551086426,
          -1.756020426750183,
          -1.1637269258499146,
          3.4228293895721436,
          2.9638702869415283,
          4.869143486022949,
          3.5907986164093018,
          0.9119549989700317,
          -10.97715950012207,
          7.110360145568848,
          -6.6575798988342285,
          -6.042168140411377,
          0.45289146900177,
          -1.6391899585723877,
          -1.802250862121582,
          -3.4970903396606445,
          3.149739980697632,
          -4.029239654541016,
          3.743540048599243,
          3.184527635574341,
          -5.587796211242676,
          -2.656344413757324,
          -1.756020426750183,
          5.859882354736328,
          -2.4015469551086426,
          2.1998326778411865,
          0.17278945446014404,
          3.743540048599243,
          2.1998326778411865,
          3.743540048599243,
          -1.1217314004898071,
          -2.288297176361084,
          4.9255690574646,
          -1.4861727952957153,
          2.9638702869415283,
          3.0284476280212402,
          -2.6861412525177,
          3.743540048599243,
          2.9638702869415283,
          -4.249098300933838,
          -2.56339430809021,
          -6.537467002868652,
          -8.124991416931152,
          3.4228293895721436,
          2.9638702869415283,
          -1.6391899585723877,
          -0.9760472178459167,
          -3.5796749591827393,
          -2.6087865829467773,
          1.8277167081832886,
          0.9052280783653259,
          3.706286668777466,
          6.308978080749512,
          5.9577956199646,
          -2.656344413757324,
          -0.045139241963624954,
          2.9638702869415283,
          2.9638702869415283,
          7.167488098144531,
          -5.13170051574707,
          -3.972377061843872,
          -2.2377665042877197,
          7.167488098144531,
          -1.1721925735473633,
          2.9638702869415283,
          4.063324451446533,
          -0.9575099349021912,
          -2.1197621822357178,
          2.9638702869415283,
          0.479923814535141,
          3.743540048599243,
          3.7110202312469482,
          -0.2071589231491089,
          -7.441850662231445,
          3.149739980697632,
          -2.3253822326660156,
          3.5160071849823,
          -1.673519492149353
         ],
         "yaxis": "y"
        }
       ],
       "layout": {
        "coloraxis": {
         "colorbar": {
          "title": {
           "text": "Predicted Label"
          }
         },
         "colorscale": [
          [
           0,
           "#0d0887"
          ],
          [
           0.1111111111111111,
           "#46039f"
          ],
          [
           0.2222222222222222,
           "#7201a8"
          ],
          [
           0.3333333333333333,
           "#9c179e"
          ],
          [
           0.4444444444444444,
           "#bd3786"
          ],
          [
           0.5555555555555556,
           "#d8576b"
          ],
          [
           0.6666666666666666,
           "#ed7953"
          ],
          [
           0.7777777777777778,
           "#fb9f3a"
          ],
          [
           0.8888888888888888,
           "#fdca26"
          ],
          [
           1,
           "#f0f921"
          ]
         ]
        },
        "legend": {
         "tracegroupgap": 0
        },
        "template": {
         "data": {
          "bar": [
           {
            "error_x": {
             "color": "#2a3f5f"
            },
            "error_y": {
             "color": "#2a3f5f"
            },
            "marker": {
             "line": {
              "color": "#E5ECF6",
              "width": 0.5
             },
             "pattern": {
              "fillmode": "overlay",
              "size": 10,
              "solidity": 0.2
             }
            },
            "type": "bar"
           }
          ],
          "barpolar": [
           {
            "marker": {
             "line": {
              "color": "#E5ECF6",
              "width": 0.5
             },
             "pattern": {
              "fillmode": "overlay",
              "size": 10,
              "solidity": 0.2
             }
            },
            "type": "barpolar"
           }
          ],
          "carpet": [
           {
            "aaxis": {
             "endlinecolor": "#2a3f5f",
             "gridcolor": "white",
             "linecolor": "white",
             "minorgridcolor": "white",
             "startlinecolor": "#2a3f5f"
            },
            "baxis": {
             "endlinecolor": "#2a3f5f",
             "gridcolor": "white",
             "linecolor": "white",
             "minorgridcolor": "white",
             "startlinecolor": "#2a3f5f"
            },
            "type": "carpet"
           }
          ],
          "choropleth": [
           {
            "colorbar": {
             "outlinewidth": 0,
             "ticks": ""
            },
            "type": "choropleth"
           }
          ],
          "contour": [
           {
            "colorbar": {
             "outlinewidth": 0,
             "ticks": ""
            },
            "colorscale": [
             [
              0,
              "#0d0887"
             ],
             [
              0.1111111111111111,
              "#46039f"
             ],
             [
              0.2222222222222222,
              "#7201a8"
             ],
             [
              0.3333333333333333,
              "#9c179e"
             ],
             [
              0.4444444444444444,
              "#bd3786"
             ],
             [
              0.5555555555555556,
              "#d8576b"
             ],
             [
              0.6666666666666666,
              "#ed7953"
             ],
             [
              0.7777777777777778,
              "#fb9f3a"
             ],
             [
              0.8888888888888888,
              "#fdca26"
             ],
             [
              1,
              "#f0f921"
             ]
            ],
            "type": "contour"
           }
          ],
          "contourcarpet": [
           {
            "colorbar": {
             "outlinewidth": 0,
             "ticks": ""
            },
            "type": "contourcarpet"
           }
          ],
          "heatmap": [
           {
            "colorbar": {
             "outlinewidth": 0,
             "ticks": ""
            },
            "colorscale": [
             [
              0,
              "#0d0887"
             ],
             [
              0.1111111111111111,
              "#46039f"
             ],
             [
              0.2222222222222222,
              "#7201a8"
             ],
             [
              0.3333333333333333,
              "#9c179e"
             ],
             [
              0.4444444444444444,
              "#bd3786"
             ],
             [
              0.5555555555555556,
              "#d8576b"
             ],
             [
              0.6666666666666666,
              "#ed7953"
             ],
             [
              0.7777777777777778,
              "#fb9f3a"
             ],
             [
              0.8888888888888888,
              "#fdca26"
             ],
             [
              1,
              "#f0f921"
             ]
            ],
            "type": "heatmap"
           }
          ],
          "heatmapgl": [
           {
            "colorbar": {
             "outlinewidth": 0,
             "ticks": ""
            },
            "colorscale": [
             [
              0,
              "#0d0887"
             ],
             [
              0.1111111111111111,
              "#46039f"
             ],
             [
              0.2222222222222222,
              "#7201a8"
             ],
             [
              0.3333333333333333,
              "#9c179e"
             ],
             [
              0.4444444444444444,
              "#bd3786"
             ],
             [
              0.5555555555555556,
              "#d8576b"
             ],
             [
              0.6666666666666666,
              "#ed7953"
             ],
             [
              0.7777777777777778,
              "#fb9f3a"
             ],
             [
              0.8888888888888888,
              "#fdca26"
             ],
             [
              1,
              "#f0f921"
             ]
            ],
            "type": "heatmapgl"
           }
          ],
          "histogram": [
           {
            "marker": {
             "pattern": {
              "fillmode": "overlay",
              "size": 10,
              "solidity": 0.2
             }
            },
            "type": "histogram"
           }
          ],
          "histogram2d": [
           {
            "colorbar": {
             "outlinewidth": 0,
             "ticks": ""
            },
            "colorscale": [
             [
              0,
              "#0d0887"
             ],
             [
              0.1111111111111111,
              "#46039f"
             ],
             [
              0.2222222222222222,
              "#7201a8"
             ],
             [
              0.3333333333333333,
              "#9c179e"
             ],
             [
              0.4444444444444444,
              "#bd3786"
             ],
             [
              0.5555555555555556,
              "#d8576b"
             ],
             [
              0.6666666666666666,
              "#ed7953"
             ],
             [
              0.7777777777777778,
              "#fb9f3a"
             ],
             [
              0.8888888888888888,
              "#fdca26"
             ],
             [
              1,
              "#f0f921"
             ]
            ],
            "type": "histogram2d"
           }
          ],
          "histogram2dcontour": [
           {
            "colorbar": {
             "outlinewidth": 0,
             "ticks": ""
            },
            "colorscale": [
             [
              0,
              "#0d0887"
             ],
             [
              0.1111111111111111,
              "#46039f"
             ],
             [
              0.2222222222222222,
              "#7201a8"
             ],
             [
              0.3333333333333333,
              "#9c179e"
             ],
             [
              0.4444444444444444,
              "#bd3786"
             ],
             [
              0.5555555555555556,
              "#d8576b"
             ],
             [
              0.6666666666666666,
              "#ed7953"
             ],
             [
              0.7777777777777778,
              "#fb9f3a"
             ],
             [
              0.8888888888888888,
              "#fdca26"
             ],
             [
              1,
              "#f0f921"
             ]
            ],
            "type": "histogram2dcontour"
           }
          ],
          "mesh3d": [
           {
            "colorbar": {
             "outlinewidth": 0,
             "ticks": ""
            },
            "type": "mesh3d"
           }
          ],
          "parcoords": [
           {
            "line": {
             "colorbar": {
              "outlinewidth": 0,
              "ticks": ""
             }
            },
            "type": "parcoords"
           }
          ],
          "pie": [
           {
            "automargin": true,
            "type": "pie"
           }
          ],
          "scatter": [
           {
            "fillpattern": {
             "fillmode": "overlay",
             "size": 10,
             "solidity": 0.2
            },
            "type": "scatter"
           }
          ],
          "scatter3d": [
           {
            "line": {
             "colorbar": {
              "outlinewidth": 0,
              "ticks": ""
             }
            },
            "marker": {
             "colorbar": {
              "outlinewidth": 0,
              "ticks": ""
             }
            },
            "type": "scatter3d"
           }
          ],
          "scattercarpet": [
           {
            "marker": {
             "colorbar": {
              "outlinewidth": 0,
              "ticks": ""
             }
            },
            "type": "scattercarpet"
           }
          ],
          "scattergeo": [
           {
            "marker": {
             "colorbar": {
              "outlinewidth": 0,
              "ticks": ""
             }
            },
            "type": "scattergeo"
           }
          ],
          "scattergl": [
           {
            "marker": {
             "colorbar": {
              "outlinewidth": 0,
              "ticks": ""
             }
            },
            "type": "scattergl"
           }
          ],
          "scattermapbox": [
           {
            "marker": {
             "colorbar": {
              "outlinewidth": 0,
              "ticks": ""
             }
            },
            "type": "scattermapbox"
           }
          ],
          "scatterpolar": [
           {
            "marker": {
             "colorbar": {
              "outlinewidth": 0,
              "ticks": ""
             }
            },
            "type": "scatterpolar"
           }
          ],
          "scatterpolargl": [
           {
            "marker": {
             "colorbar": {
              "outlinewidth": 0,
              "ticks": ""
             }
            },
            "type": "scatterpolargl"
           }
          ],
          "scatterternary": [
           {
            "marker": {
             "colorbar": {
              "outlinewidth": 0,
              "ticks": ""
             }
            },
            "type": "scatterternary"
           }
          ],
          "surface": [
           {
            "colorbar": {
             "outlinewidth": 0,
             "ticks": ""
            },
            "colorscale": [
             [
              0,
              "#0d0887"
             ],
             [
              0.1111111111111111,
              "#46039f"
             ],
             [
              0.2222222222222222,
              "#7201a8"
             ],
             [
              0.3333333333333333,
              "#9c179e"
             ],
             [
              0.4444444444444444,
              "#bd3786"
             ],
             [
              0.5555555555555556,
              "#d8576b"
             ],
             [
              0.6666666666666666,
              "#ed7953"
             ],
             [
              0.7777777777777778,
              "#fb9f3a"
             ],
             [
              0.8888888888888888,
              "#fdca26"
             ],
             [
              1,
              "#f0f921"
             ]
            ],
            "type": "surface"
           }
          ],
          "table": [
           {
            "cells": {
             "fill": {
              "color": "#EBF0F8"
             },
             "line": {
              "color": "white"
             }
            },
            "header": {
             "fill": {
              "color": "#C8D4E3"
             },
             "line": {
              "color": "white"
             }
            },
            "type": "table"
           }
          ]
         },
         "layout": {
          "annotationdefaults": {
           "arrowcolor": "#2a3f5f",
           "arrowhead": 0,
           "arrowwidth": 1
          },
          "autotypenumbers": "strict",
          "coloraxis": {
           "colorbar": {
            "outlinewidth": 0,
            "ticks": ""
           }
          },
          "colorscale": {
           "diverging": [
            [
             0,
             "#8e0152"
            ],
            [
             0.1,
             "#c51b7d"
            ],
            [
             0.2,
             "#de77ae"
            ],
            [
             0.3,
             "#f1b6da"
            ],
            [
             0.4,
             "#fde0ef"
            ],
            [
             0.5,
             "#f7f7f7"
            ],
            [
             0.6,
             "#e6f5d0"
            ],
            [
             0.7,
             "#b8e186"
            ],
            [
             0.8,
             "#7fbc41"
            ],
            [
             0.9,
             "#4d9221"
            ],
            [
             1,
             "#276419"
            ]
           ],
           "sequential": [
            [
             0,
             "#0d0887"
            ],
            [
             0.1111111111111111,
             "#46039f"
            ],
            [
             0.2222222222222222,
             "#7201a8"
            ],
            [
             0.3333333333333333,
             "#9c179e"
            ],
            [
             0.4444444444444444,
             "#bd3786"
            ],
            [
             0.5555555555555556,
             "#d8576b"
            ],
            [
             0.6666666666666666,
             "#ed7953"
            ],
            [
             0.7777777777777778,
             "#fb9f3a"
            ],
            [
             0.8888888888888888,
             "#fdca26"
            ],
            [
             1,
             "#f0f921"
            ]
           ],
           "sequentialminus": [
            [
             0,
             "#0d0887"
            ],
            [
             0.1111111111111111,
             "#46039f"
            ],
            [
             0.2222222222222222,
             "#7201a8"
            ],
            [
             0.3333333333333333,
             "#9c179e"
            ],
            [
             0.4444444444444444,
             "#bd3786"
            ],
            [
             0.5555555555555556,
             "#d8576b"
            ],
            [
             0.6666666666666666,
             "#ed7953"
            ],
            [
             0.7777777777777778,
             "#fb9f3a"
            ],
            [
             0.8888888888888888,
             "#fdca26"
            ],
            [
             1,
             "#f0f921"
            ]
           ]
          },
          "colorway": [
           "#636efa",
           "#EF553B",
           "#00cc96",
           "#ab63fa",
           "#FFA15A",
           "#19d3f3",
           "#FF6692",
           "#B6E880",
           "#FF97FF",
           "#FECB52"
          ],
          "font": {
           "color": "#2a3f5f"
          },
          "geo": {
           "bgcolor": "white",
           "lakecolor": "white",
           "landcolor": "#E5ECF6",
           "showlakes": true,
           "showland": true,
           "subunitcolor": "white"
          },
          "hoverlabel": {
           "align": "left"
          },
          "hovermode": "closest",
          "mapbox": {
           "style": "light"
          },
          "paper_bgcolor": "white",
          "plot_bgcolor": "#E5ECF6",
          "polar": {
           "angularaxis": {
            "gridcolor": "white",
            "linecolor": "white",
            "ticks": ""
           },
           "bgcolor": "#E5ECF6",
           "radialaxis": {
            "gridcolor": "white",
            "linecolor": "white",
            "ticks": ""
           }
          },
          "scene": {
           "xaxis": {
            "backgroundcolor": "#E5ECF6",
            "gridcolor": "white",
            "gridwidth": 2,
            "linecolor": "white",
            "showbackground": true,
            "ticks": "",
            "zerolinecolor": "white"
           },
           "yaxis": {
            "backgroundcolor": "#E5ECF6",
            "gridcolor": "white",
            "gridwidth": 2,
            "linecolor": "white",
            "showbackground": true,
            "ticks": "",
            "zerolinecolor": "white"
           },
           "zaxis": {
            "backgroundcolor": "#E5ECF6",
            "gridcolor": "white",
            "gridwidth": 2,
            "linecolor": "white",
            "showbackground": true,
            "ticks": "",
            "zerolinecolor": "white"
           }
          },
          "shapedefaults": {
           "line": {
            "color": "#2a3f5f"
           }
          },
          "ternary": {
           "aaxis": {
            "gridcolor": "white",
            "linecolor": "white",
            "ticks": ""
           },
           "baxis": {
            "gridcolor": "white",
            "linecolor": "white",
            "ticks": ""
           },
           "bgcolor": "#E5ECF6",
           "caxis": {
            "gridcolor": "white",
            "linecolor": "white",
            "ticks": ""
           }
          },
          "title": {
           "x": 0.05
          },
          "xaxis": {
           "automargin": true,
           "gridcolor": "white",
           "linecolor": "white",
           "ticks": "",
           "title": {
            "standoff": 15
           },
           "zerolinecolor": "white",
           "zerolinewidth": 2
          },
          "yaxis": {
           "automargin": true,
           "gridcolor": "white",
           "linecolor": "white",
           "ticks": "",
           "title": {
            "standoff": 15
           },
           "zerolinecolor": "white",
           "zerolinewidth": 2
          }
         }
        },
        "title": {
         "text": "Wizualizacja przestrzeni wektorowej (PCA) dla PEFT"
        },
        "xaxis": {
         "anchor": "y",
         "domain": [
          0,
          1
         ],
         "title": {
          "text": "Pierwsza składowa główna"
         }
        },
        "yaxis": {
         "anchor": "x",
         "domain": [
          0,
          1
         ],
         "title": {
          "text": "Druga składowa główna"
         }
        }
       }
      }
     },
     "metadata": {},
     "output_type": "display_data"
    }
   ],
   "source": [
    "# PCA - Redukcja wymiarów\n",
    "pca = PCA(n_components=2).fit_transform(embeddings)\n",
    "\n",
    "df_pca = pd.DataFrame(pca, columns=['PCA1', 'PCA2'])\n",
    "df_pca['Predicted Label']  = [predicted_labels[i] for i in range(len(predicted_labels))]\n",
    "df_pca['Text'] = dataset['test']['text']  # Assuming the text is here\n",
    "df_pca['True label'] = [true_labels[i] for i in range(len(true_labels))]\n",
    "\n",
    "fig = px.scatter(\n",
    "    df_pca, \n",
    "    x=\"PCA1\", \n",
    "    y=\"PCA2\", \n",
    "    color=\"Predicted Label\", \n",
    "    hover_data={'Text': True, 'True label': True}, \n",
    "    title=\"Wizualizacja przestrzeni wektorowej (PCA) dla PEFT\",\n",
    "    labels={\"PCA1\": \"Pierwsza składowa główna\", \"PCA2\": \"Druga składowa główna\"}\n",
    ")\n",
    "fig.show()\n"
   ]
  },
  {
   "cell_type": "code",
   "execution_count": 19,
   "metadata": {},
   "outputs": [
    {
     "data": {
      "application/vnd.plotly.v1+json": {
       "config": {
        "plotlyServerURL": "https://plot.ly"
       },
       "data": [
        {
         "customdata": [
          [
           "definition of fool as per a silly or stupid person a person who lacks judgment or sense a clown why etc are tolerating him",
           0
          ],
          [
           "merry christmas and a happy new year i know i am a bit late but i wish you the best wiki for",
           0
          ],
          [
           "how can you be happy about ourselves still being in the competition purely because you scored strategically and not because you cooked well katandandre mr",
           0
          ],
          [
           "help needed edit war aggressive and incompetent edits by user verbal i am requesting help with an over aggressive and inconsiderate editor by the name of verbal this person keeps reverting a page to address an external link while losing dozens of valid updates to the original page he she ignores when proper updates are made and reverts them even using twinkle and spurious excuses for the revisions i am ill equipped to fight this user you will see what i mean if you check the revision history for the following page list of channelled texts thanks in advance for any help you can provide",
           0
          ],
          [
           "well you only broke it once in truth and i am not going to be ass and warn you for it just so i can have a bit of power trip just keep it in mind for future occasions mmk have a nice day",
           0
          ],
          [
           "you being a wonderful please be mature enough",
           0
          ],
          [
           "agree that a debate about lenin s possible anti semitism should probably take place on lenin and not on this page i",
           0
          ],
          [
           "awesome i am that you love harry potter too harrypotterweekenda",
           0
          ],
          [
           "here is an intriguing irony that i propose rewind consider wilson s own op ed opinion editorial entitled what i did not find in africa is the initial impetus for much of the controversy currently surrounding him and his wife valerie e wilson valerie place and of the fitzgerald grand jury investigation is rewind arguing that one cannot cite and quote from what i did not find in africa because it is an editorial that expresses an opinion if not he really needs to apply consistency in his stance on the inclusion of editorial and opinion articles as reliable and appropriate sources in wikipedia articles if the positions taken in the op eds are evidence of such positions one does need to cite them nyscholar",
           0
          ],
          [
           "message you rude little child i maintain civility you do not or because you are acting like him talk pages are not forums keep that in mind before you make hypocrite",
           0
          ],
          [
           "trailor trash tina time grimacing face",
           0
          ],
          [
           "go ahead review this review is transcended from talkmcintosh the edit link for this section can be used to address comments to the review reviewer talk cont ribs i ll review this over the next few days x",
           0
          ],
          [
           "i am not among the ones who edited this article but i mostly agree to your points the current contents can be included elsewhere the contents do not match the article title reasonable unreasonable other kinds of hostilities exist between people of the two countries if someone can write about those things the appropriate titles could be korean anti japanism and japanese anti koreanism utc",
           0
          ],
          [
           "no messages right now",
           0
          ],
          [
           "please stop if you continue to vandalize pages you will be blocked from editing wikipedia e t c m",
           0
          ],
          [
           "chris brown a while back you edited chris brown diff piping does not go on disambiguation pages see wikipediamanual of style disambiguation pages for further details also you should use edit summaries in consideration of other users",
           0
          ],
          [
           "for the stuttering slobbering sims shah and the manner in which i speak to wiki i will speak to them in anywhere are you i see fit",
           0
          ],
          [
           "okay i see there is a protocol oh okay i see how this whole things works now i follow ya in all my ignorant raging i completely overlooked the fact that i did not upload any of my information to the web holy crap i am an idiot but i am an american too so it s expected to miss something and i am human so i am expected to screw up sorry this whole thing could have been avoided had i taken proper introspect and gauged the situation more thoroughly all the sources are active just not uploaded my apologies holmes i thought you were just being vindictive with the coveting of a leviathan article which really annoys everyone here though should take notice of these past four thousands edits on whatever pages i posted whatever especially with this poor sods day sorry for the headache holmes",
           0
          ],
          [
           "politics section edit i removed the very last sentence from the politics section in invaded iraq and found approx tonnes of weapons it not only seemed out of place as the previous sentences were talking about the transitional government but seems to be rather misleading especially in lieu of all the controversy of the invasion of iraq under the accusation that they had and were developing weapons of mass destruction is it any surprise that any country has a large tonnage of weapons considering nearly all nations possess armies imagine if the tonnage of all conventional weapons of the united states were calculated alone obviously such a statement as the one above seems to have an anterior motive to date no weapons or evidence of development of wmd s have been found in iraq",
           0
          ],
          [
           "you are mistaken again i am happy to engage in discussion however it is getting me nowhere in light of your refusal to accept the stark facts my edit summary is correct ultimately truth is reflected in legal provisions and legally a reference to the islands of ireland and u k is provided for by the definition british irish isles you were the one who ended the discussion on the topic concerned with an expression of boredom which suggested to me you had nothing to counter debate the stark reality of the situation i will possibly continue making the factual adjustments on your user page but more infrequently i do not understand why you will not revert to the legal description you are letting personality clashes get in the where are you of facts egos should not compromise the truth am i correct in stating it would not be too much work for you to revert to my version or are their difficulties in upholding the link be a man and swallow your pride in the interest of truth please pneumonitis thank you for your time and patience",
           0
          ],
          [
           "b day sweet johnny",
           0
          ],
          [
           "ma nevjerujem ja mob cover no idea you yoga same sam punk day the see take orkney",
           0
          ],
          [
           "self correction i have reread your post and now understand it better it is substantially okay by me maybe it needs a bit of rewording sorry for the inconvenience but please help to address the anon",
           0
          ],
          [
           "getting a professional bulletin or invision power board would be a great idea wikipedia is not so suited towards debates and discussions because talk pages are well not very organized definitely not as much as forums with easy to read different threads and forum subsections and the fact that people can edit other peoples posts i think it would be a perfect idea too and would encourage a lot more debate and contributions growth to wikipedia",
           0
          ],
          [
           "i fucking hate going to the theater",
           0
          ],
          [
           "buddy drug the whole train laughing my ass off good extra ass hoes",
           0
          ],
          [
           "they are all ugly people and deserve to die",
           0
          ],
          [
           "i agree with and that reference to the longest military occupation in modern times should be included in this article the point of view of this article is currently fringe and needs to be moved to a npov",
           0
          ],
          [
           "my rfa hi this is matt yeager i wanted to thank you for your vote on my request for admin ship the count what a slut something like what a slut when i decided to withdraw the request my decision what a slut based on the fact that there are enough things wasting people s time on the internet that doomed rfa s should not be kept up for voters to have to think about regardless of the rationale behind your vote i hope you will read for an extended note and discussion on what will happen before i make another try at admin ship i did not want to clog up your user page with drivel that you might not be interested in reading thank you very very much for your vote and your time and consideration of my credentials regardless of whether you voted support neutral or oppose happy editing talk",
           0
          ],
          [
           "propaganda terms are inappropriate as article titles please let us choose something different",
           0
          ],
          [
           "mikewazowski reverting yolentashield s edit mikewazowski reverting yolentashield s edit including blue screen mikewazowski removing this image",
           0
          ],
          [
           "i key ducati ce not applicable jude koi you rama image deck",
           0
          ],
          [
           "top raquel madonna katrin armannsdottir rebeca guerrero andrea katarina roman",
           0
          ],
          [
           "examples of different facial expressions the so called as if that is her real name has been following me around reverting all my attempts to address positive contributions to wikipedia as part of this vendetta they have reverted my addition of kat fletcher as an example of aa smug face in the u k kat fletcher is well known google her and see for her slag face do other users agree that she could be added as an example of smugness",
           0
          ],
          [
           "shout out to you ungrateful inconsiderate bitches i am taking this shot for you yea you winking face face blowing a kiss",
           0
          ],
          [
           "bert weldon although he has only two languages i think he deserves a place as he what a slut very influential in boomerang",
           0
          ],
          [
           "this weekend is going to be crazy haha i am ready to do whatever i want pride a",
           0
          ],
          [
           "hahha laugh really hard happy face or smiley",
           0
          ],
          [
           "redirect talkachcham yenbadhu madamaiyada",
           0
          ],
          [
           "proof outline it is possible to write down this formula this is an alternative where are you to group the sum of the squares to quote an example whatever assume in this representation the number five is summed times the number is summed times and so on until zero after that it is possible to use this result to solve the summation the main formula is equivalent to after some algebraic manipulation it is possible to obtain this is equivalent to the desired formula",
           0
          ],
          [
           "oh my god that sucks ass i am so sorry skeptical annoyed undecided uneasy or hesitant",
           0
          ],
          [
           "bowling star back tomorrow",
           0
          ],
          [
           "it is not even good for a mediocre blog basic logic has been twisted here language is very fuzzy like have shown to be but it does not say which arguments example would be proven to be inaccurate because on average spend hours a day at to show the flawed logic everybody knows that in a communist country there is unemployment are working like days does it mean everybody works hard in communist countries nobody would say that if everybody works hard the question would be why there so not sufficient output in the economy just flawed",
           0
          ],
          [
           "speaking to an austrian law student group in a moment on the cm s supervision process of the execution of echr judgments",
           0
          ],
          [
           "zizzi customer service is shit",
           0
          ],
          [
           "there you go some nice person s put a snap on yellow throated scrub wren which ya started now multiply the text by and you got to dye cheers",
           0
          ],
          [
           "every time i beat you i am being a faggot maybe i am just being better than you laughing my ass off",
           0
          ],
          [
           "to be serious according to the guidelines the following items cannot qualify anyway the speaker of the united states house of representatives article currently is tagged for cleanup requiring more citations the francisco franco article is currently tagged with neutrality and point of view problems spanish civil war is tagged with more sources needed a number of sections on battle of okinawa are marked as stubs and need to be expanded a number of articles regarding history of iran iran hostage crisis and history of the islamic republic of iran have cleanup tags so please feel free to get to work on those articles thanks",
           0
          ],
          [
           "my sources m gast bordeaux sur tin hainan ancestry legendary des tuareg revue the l occident muscleman et the la mediterranean vol pp unesco general history of africa vol ii ch quotation unesco general history of africa vol iii in vanessa brought to light a large quantity off topic objects suggesting the existence of an old route between the southern morocco and the hog gar the fourth century of the christian at time when camels were in",
           0
          ],
          [
           "cannot trust or will not spare a bitch ogd",
           0
          ],
          [
           "drive slow and damn i missed roxy last night did she talk about how she got in the game or how old she was",
           0
          ],
          [
           "there are also and",
           0
          ],
          [
           "thats not what he is saying situations are similar",
           0
          ],
          [
           "i do not have a problem with that quote being included as long as it is presented in that context i e a quote by an organization but with a couple of caveats it follows the ronnie o sullivan format where only his achievements are presented in the introductory paragraph and his standing in the game is included in the second paragraph also if whatever are using world snooker profiles as the criteria o sullivan s should be updated to say he is snooker s most naturally gifted player",
           0
          ],
          [
           "face with tears of joy no let me chill i love the bitches",
           0
          ],
          [
           "looking great tiffany x",
           0
          ],
          [
           "removing template after fixing some source links",
           0
          ],
          [
           "wosner his own official brief head says shmuel hale vi corner and in hebrew it says with one van so i changed things accordingly talk",
           0
          ],
          [
           "there is no where are you a good article would be merged so i am removing the merger thing talk",
           0
          ],
          [
           "joe hazleton",
           0
          ],
          [
           "the article looks great congratulations to all contributors so let me see if i understood it well you are now proposing to expand this article into a serbian albanian rivalry or create a separate article on that subject humm",
           0
          ],
          [
           "well its strange that does teak start anti gay pedro video near the same moment when putin do the anti gay propaganda law",
           0
          ],
          [
           "okie dogie expert auctioneer of karma talk",
           0
          ],
          [
           "you are a moron that likes to throw it means cool a k a around",
           0
          ],
          [
           "new video am i a piece of toast youtube follow gamer life gaming channel",
           0
          ],
          [
           "reply edits i liked the intro that you added to the critical reception section but the inclusion of a reviewers name seemed a bit odd name s of reviewers are not usually included in the review section also reviews should be organized roughly by the clout of the reviewing publication i e well known publications come first and continue in decreasing order of popularity i also think it is important for the opinion of the reviewer to be easily readable i e if a reviewer deems the record best work since insert album title it should be included in the summary not lumped together and simply referenced if you have any questions disputes with my reversion let me know",
           0
          ],
          [
           "water use for marcellus shale fracking removing water trucks from road of its kind in county pipeline to cut number of trips to drill pads williamsport by david thompson",
           0
          ],
          [
           "hi i cannot help you directly with content disputes i am afraid beyond advising you what to do the thing to do is reach out for help from editors who work in the area for instance neutrally asking people at wikipediawikiproject television to comment and leaving a note at the talk pages for template talk star plus shows and template life okay programs what you have done once consensus is established anyone who continues to edit in opposition to it is behaving disruptively if for instance the project agreed that the italics need to be place but that the order he prefers is the proper where are you and he continued removing italics you might note that the italics are again removed in the discussion this would allow others to help you implement consensus and avoid your being in an edit war because others are sharing the work of correcting content if he continues reverting clear consensus the place to go with a link to the consensus and note of his continued violation of it would either be or want",
           0
          ],
          [
           "notability concerns i know there are some folks at harvard and elsewhere working on a case study of shahid and its role in responding to the most recent kenyan elections once this is available the site will certainly meet notability criteria until that time it should be enough to say that just because all english language readers does not know about it does not mean it is not notable in kenya",
           0
          ],
          [
           "i think it s the best if white men looked after white women in our schools",
           0
          ],
          [
           "of course life is a bitch if it what a slut it would be easy",
           0
          ],
          [
           "the military build part of trumps border wall but it will not be easy bmg buildthatwall",
           0
          ],
          [
           "userxenobot mmm ok concern i have removed the chicago talk page template several times from wwf after nanobot mmm ok adds it as the station is not part of chicagoan and does not serve any part of chicagoan for some reason nanobot mmm ok continues to address the chicago talk page template i am unsure why it continues to address it but if you could input that wwf is not a chicagoan station i would appreciate it",
           0
          ],
          [
           "my bitch bre been ina good mood they free d her young hog a hundred points",
           0
          ],
          [
           "austrian italian and german interior ministers discuss migration",
           0
          ],
          [
           "can you please leave your liberal point of view out of the articles voter suppression and fox news further edits will result in you being reported for violating the edit rule",
           0
          ],
          [
           "no page what a slut reviewed by terminator this recently popped up in my notifications have you reviewed anything lately or is this just a random bug talk",
           0
          ],
          [
           "some think it is just all offensive line in run blocking it is to a degree but the reply back has to have a consistent penchant for getting to the hole on time too that is what playing fast is all about as a rb",
           0
          ],
          [
           "your time you suck because you are right it is the third and i do not remember yours still lol i want to say its in something tells me it isn t",
           0
          ],
          [
           "also sentence connectors depend additionally are ok but and are tones of a person whatever have to keep it neutral i did the same for normal street fighter but not as much",
           0
          ],
          [
           "this is what desperate liberals look like spy gate obamacare",
           0
          ],
          [
           "my daughter s friend s parents are from different countries",
           0
          ],
          [
           "lazy people only want handouts move your ass",
           0
          ],
          [
           "the phrase curry eaters are used by stupid racist cunts",
           0
          ],
          [
           "retweet face with tears of joy face with tears of joy face with tears of joy retweet laughing my fucking ass off how side bitches be when you scoop them up in the daytime",
           0
          ],
          [
           "haaaaaaaaa damn jay",
           0
          ],
          [
           "oni koi shut up it happens bombardovali i result see njihovog ottawa reba the plate hvo",
           0
          ],
          [
           "edit count addiction please edit slower make several edits in one revision instead of hit save every time you finish a minor edit it is hard for other editors to keep track on the changes to this page if you do so thanks little",
           0
          ],
          [
           "this man looks like a clown misogynistic and disgusting i will not even listen to his opinion in all this lol he is garbage",
           0
          ],
          [
           "no mention of xkcd i think xkcd deserves some mention since it is popular culture specifically if you ever go onto the r software gore subreddit this comic is referenced all the time no pun intended and xkcd is one of the most popular web comics since i am still rather newly to editing wikipedia i am not adding this myself but instead suggesting it here",
           0
          ],
          [
           "what i had uploaded to create the article what a slut fit for wikipedia i what a slut in the middle of revising further material when i had to do a hang on because of your precipitate speedy delete i believed that notability what a slut clear from the fact that perisic what a slut in a position of senior authority while milan music perpetrated the visegrad massacres linked in the article to their description as among the worst examples of man s inhumanity to man",
           0
          ],
          [
           "thanks for reporting i did some tests this week the problem be due to this i suspect two instances of the bot run at more or less the same time and the second one did not find anything to remove so it listed all the pages i does not this will occur again as the problem what a slut generated from a manual run of the bot",
           0
          ],
          [
           "i m confused here in portraits of past what a slut considered a hardcore band emo etc yet the people who created this page claim that modern scream bands have no connection to hardcore even if these scream bands are playing music that is identical to the mid s emo hardcore sound page steals so much from pop style all of these lacks a consistent logic and denies history it is just as bad as pop punk and independent rock being tied to the history of the emo hardcore scene of the s if some of you bother to go through your back issues of hac you will see the term s sparing use as nothing more than hyperbole chaotic hardcore indeed need whatever not forget that orchid was not doing anything that uranus drift and one eyed god prophecy what a slut doing years before this is just sad",
           0
          ],
          [
           "i hate haters",
           0
          ],
          [
           "this is super trivial more a clarification i chopped out the explicit mention of the bbc and debuted since it would be clear from the reference in order to perform a minor space saver either way the weasel words are still present only now quoted and the source cited in the text is that standard on wikipedia as your edit comment suggested when weasels cannot be avoided best etc",
           0
          ],
          [
           "hitler desi sad had is najpotrebniji",
           0
          ],
          [
           "only keep real bitches in attendance women holding hands person tipping hand",
           0
          ],
          [
           "yep i will be less haphazard next time",
           0
          ],
          [
           "you are pretty quick there baggy i am glad people like you are looking out for readers i will address a source in just a moment i am looking for instructions on how to do it you hey i am sorry if i what a slut a bit rude i had a rough day and i came to wikipedia for some peace and quiet when i see something wrong i just cannot wait to fix it i care about this project that much i will try and be friendlier next time i know how important it is to be civil and i am working on it i hope you stay around this link might help you out help introduction to referencing i m so pleased with you both now carry on whatever have an encyclopedia to write wink or smirk",
           0
          ],
          [
           "controversy trifecta isis inspired mass shooting perpetrated with a legally purchased assault weapon aimed at gay victims lovable",
           0
          ],
          [
           "please do not vandalize pages as you did with this edit to easter island if you continue to do so you will be blocked from editing",
           0
          ],
          [
           "really i am just concerned with the term which i think is inherently pov especially when coming from a source that is a cop writing for law and order magazine i what a slut trying to say that at least the description should be in quotes and attributed not just sourced in the refs section and trying to not let it snowball so much away from that main point thanks for piping in",
           0
          ],
          [
           "you are the cheekiest monkey around my little pal",
           0
          ],
          [
           "ah there seems to have been some misreading on my part i interpreted good film articles to be asking for good films whose articles included equivalent sections as distinct from good articles on films that included such sections my apologies talk cont ribs",
           0
          ],
          [
           "boo sengkang a visual hole bitch i think the fuck not svt project vocal pinwheel",
           0
          ],
          [
           "i like your proposal and also the discussion on wikipediapushing to validation if i had a vote i would vote to approve the proposal saying this does not help with my current my issue even validation will not help with the issues i see because an editor can easily find a cite that is not correct you could cite this and your article looks correct without actual learned knowledge you cannot discern this it would be like the expert tag but instead in edit mode just flag the person in edit mode that to edit this article they need a working knowledge of the subject this would not stop them from editing it just warning about this the tag could only be added or removed by an admin if this is possible when you return i would love to discuss this with you further there are articles out there that have been wrong since and other editor build on the misinformation and thanks for replying as i said this can surely wait till you return count",
           0
          ],
          [
           "tako je kate perez u potpunosti see slave sa too kissing face with closed eyes kissing face with smiling eyes kissing face with closed eyes",
           0
          ],
          [
           "be and healthy stop look around and realize just how many people are using your light to illuminate their path d avid carriages day",
           0
          ],
          [
           "all that needs to happen is that whatever do not throw too much focus on the date perhaps try and get an original cite for it and make sure it is labeled as thank you that what a slut already done however some power tripping admins saw an end to it pity eh",
           0
          ],
          [
           "people please quit adding conservative to the opening line without a verifiable citation because i am going to keep removing it otherwise accusing a journalist of bias be it liberal or conservative without either consensus here or a reliable source is a violation of pulp reliable sources thanks",
           0
          ],
          [
           "fwiw some category crowd have a wiki setup intended as a repository for their still evolving ideas although their stuff on go ahead looks a bit dated",
           0
          ],
          [
           "uk complicit in spiraling death toll of refugees in mediterranean",
           0
          ],
          [
           "perhaps i seem to be repeating myself as you are repeatedly ignoring what i am writing the tables are unclear as the order of the product is unclear from them example the top right corner of the first table is but does that mean or it would not matter if the product is commutative but as it is not the tables are ambiguous that is why tables are a very poor where are you to show the product and probably why none of the sources use them and again please read mislead in particular the section on providing an accessible overview or look at the articles already mentioned special relativity and cross product or one you are familiar with pythagorean theorem or a similarly advanced article to this one and a featured article laplacerangelens vector there should be little or no math in the introduction perhaps a statement of the product but nothing else certainly not the page of detailed mathematical working and argument that there is now",
           0
          ],
          [
           "i did not take it as a threat more than just nonsense from an involved user defending the undependable as posted by his pal as a result i deleted it from my talk page which i have ever right to do do not you have better things to do than pick an internet fight when corbett goes on yet another rampage",
           0
          ],
          [
           "please do not vandalize pages as you did with this edit to charles dickens if you continue to do so you will be blocked from editing push my button",
           0
          ],
          [
           "puja germs is not just a tag game it s an entire culture however i cannot find it an on google right now but pupa martini is definitely a legitimate noted alumnus",
           0
          ],
          [
           "you got to block dumb hoes",
           0
          ],
          [
           "you must not have looked hard i have found several without trying cesar chavez brenadan fraser and your talk page",
           0
          ],
          [
           "retweet when a bitch say i love you hit her wordsmith in training the reverse psychology say do you it works of the time cut the other g",
           0
          ],
          [
           "here on this article i am making a constructive edit but what i get in turn my edits are being continuously reverted i know that unconstructive edits can be reverted but as i said my edits are constructive so stop reverting my edits and instead try to improve this article for example a few more editors would be really welcome",
           0
          ],
          [
           "edits which reference quotes from the subject of the article should not be subject to deflation unless you are an opponent of the truth neil do you have a problem with the truth",
           0
          ],
          [
           "and year old are so welcome i decided to leave that to the buffy experts i had nothing but intention to help improve but all you could think of is how to make me feel more shitty do you know what it is like to go through that to go through that when you are not hot on yourself in life driving you to the point where you no longer want to put up with it and just find a permanent solution to it have you",
           0
          ],
          [
           "i have made to look bad guns all my life i m going to buy more guns i would encourage all white americans to buy all the guns and ammo you can afford learn how to use your guns buy night vision laser sights practice often anything that will make your shooting more accurate buy guns and ammo and bury them in different places teach your kids how to use them and teach them there is nothing wrong with defending yourself encourage your friends to do the same let them know how liberals and minorities really think remember it is your constitutional right to keep and bear arms for the right of self defense support the nra and never forget that the liberal democrats want to take your guns and your gun rights these rights are god given and backed up by the constitution all the signers of the constitution were white men most of the people that want to take your guns are not",
           0
          ],
          [
           "all stocked up waiting now for lowery and dermot to bring this one home days good luck lads",
           0
          ],
          [
           "read this for confirmation talk imperial service troops",
           0
          ],
          [
           "verb inflection i enjoyed the little table of examples of noun declension might this also be done for two or three verbs in particular a little paragraph of how systematic is the verb inflection would be interesting for example in english present past inflection is quite unsystematic example speak spoke run ran but there is also regularity like example smash smashed look looked etc something to get a flavor of classification of verb inflections how each class generally inflects",
           0
          ],
          [
           "the answer to your question is within wikipedia has our preferences and number one is high quality references enjoy these intellectual libations drink your knowledge from inline citations",
           0
          ],
          [
           "title title should be changed to missouri iowa state football rivalry",
           0
          ],
          [
           "una i have i hope fixed this talk",
           0
          ],
          [
           "oppose per whenever and the move discussion three months ago",
           0
          ],
          [
           "sorry my bad i chose that symbol totally at random i have never heard of the cross being reserved for dead people",
           0
          ],
          [
           "imagine if all the men stopped giving women any attention for a month they would be soon pleased to not have a wow you are so beautiful all the time they would even get themselves away from those betas",
           0
          ],
          [
           "i m glad that you are planning on getting out there to do it",
           0
          ],
          [
           "thank you for experimenting with the page alan on wikipedia your test worked and has been reverted or removed please use the sandbox for any other tests you want to do take a look at the welcome page if you would like to learn more about contributing to our encyclopedia thank you for your understanding writing hand",
           0
          ],
          [
           "sure that would be fine by me but maybe wait a day or two so other editors that participated in the rfc have an opportunity to object or otherwise comment",
           0
          ],
          [
           "try and remember dude this edit an editor does not have to assume good faith when presented with evidence otherwise",
           0
          ],
          [
           "i ve seen it and currently live it and let me tell you it is not pretty",
           0
          ],
          [
           "gottingen hairband there are similarities to the contemporary german gottingen hairband",
           0
          ],
          [
           "i just need the americans to win the pennant",
           0
          ],
          [
           "blue jays baseball time",
           0
          ],
          [
           "he what a slut born in geelong",
           0
          ],
          [
           "did you get my message",
           0
          ],
          [
           "and then to cap it off the figure ignores the drip down effect of those families spending their money in small and big businesses generating jobs consumption taxes etc it really hasnt been thought through hmrchumancost loancharge",
           0
          ],
          [
           "robinson ended up hawking the cannon to top paid scrap a salvage company in the thirteen thousand block of chef center highway in eastern new orleans according to a new orleans police report filed in conjunction with robinson s arrest",
           0
          ],
          [
           "nice would you find an image of a little later in the evening to match for discographies consider to use how do you like my table of concerts to be celebrated tomorrow",
           0
          ],
          [
           "oscar nomination is there a reason why there is no mention of this film being nominated for an oscar anywhere in the article i have added info about it to the critical response section i am sure there are category tags that should also be added but i do not know how to do that",
           0
          ],
          [
           "theres an a r dj that works at radio owes a lot of uk artists in my era a massive apology you played a lot of games god not applicable sleep pussy hole",
           0
          ],
          [
           "not us bitches face with tears of joy face with tears of joy face with tears of joy face with tears of joy face with tears of joy",
           0
          ],
          [
           "matty you laugh so much like your sister p s this is panel that is jacked up i did not mean to post this laughing out loud so funny love this video i am just asking but if you are telling people not to care what people say about them why are you posting videos about if you are fat ugly and a bunch of other stuff you had lipstick on your teeth p s this is miranda i got all of them right yay happy face or smiley alabama dada firework haha love this chick why is my name on that list behind you is that bad email me or something thank you and goodbye subscribe to our channel people ps this is just joking wow dude your awesome you have inspired me so much good job emily work on the rhythm ill work on it wordsmith in training you on you are so stupid and funny that why i love you chick its angel by the way good job your perfect",
           0
          ],
          [
           "eugenics what a slut in any case a grotesque misuse of science and promulgation of pseudoscience international review of psychiatry the international review of psychiatry is the premier review journal in the field with a truly international authorship and readership each bimonthly issue is dedicated to a specific theme relevant to psychiatry edited by recognized experts on the topic route ledge taylor francis journals online",
           0
          ],
          [
           "greek dance existed already then came your ottoman love one",
           0
          ],
          [
           "user talkczelko jeff please have another look at the warning you left on that page and what prompted you to give the warning on the first place recent edits on karl buy",
           0
          ],
          [
           "sorry about that should not have happened if you post the autoblock number here i can clear that for you it looks like this and it will show up when you try to edit a page",
           0
          ],
          [
           "the rapist hi hello i ve noticed you were on the talk page of a wikipedia name kurt shaped box i am just informing you that he is a convicted child molester just try not to put any information on your page that can lead to your home address or phone number unfortunately wikipedia allows anybody become administrators",
           0
          ],
          [
           "above line is generated by substcopyvio url",
           0
          ],
          [
           "febuary why is it okay for admin types like you to use the f it means cool a k a but when i use if it is a so called personal attack how do you figure i did not even personally attack him why do not you explain instead of using generic templates to express what you want me to do",
           0
          ],
          [
           "andrew you have been persistently long winded to the point of being disruptive but short on putting forward specific editing proposals with sources for citation you are the one wanting some vague change a rfc could help you to be specific",
           0
          ],
          [
           "shotokan dispute through original message howdy i have been asked to look at some issues regarding edits as related to a content dispute with reply i could forward you the email message with complete header could you give me some email address of yours to use or please specify a method of proof that i could supply regards",
           0
          ],
          [
           "holy crap that is so idiot of me",
           0
          ],
          [
           "i do not know with to say",
           0
          ],
          [
           "yes its madam pussy it means times pink heel girl",
           0
          ],
          [
           "this is the same lady who referred to asians as",
           0
          ],
          [
           "you re too easy",
           0
          ],
          [
           "reply the sisters are not nuns from the sisters website why do you mock nuns whatever are not mocking nuns whatever are nuns whatever are very dedicated to our calling and our vows reflect our commitment to our community look at the work traditional nuns do look at the work whatever do they minister to their community whatever minister to our community they raise funds for the needy whatever raise funds for the needy they are educators whatever are educators see any significant differences the list goes on and on the sisters frequently asked question",
           0
          ],
          [
           "the nbc television network airs the walt disney s wonderful world of color show featuring kilroy part three",
           0
          ],
          [
           "can whatever get this molecule in the hayworth projection thanks",
           0
          ],
          [
           "company the www ultimatewater net ultimate water coffee is the leading provider of drinking water solutions cleaning supplies and break room to businesses whatever feature thousands of products ranging from water filtration systems and full coffee service to paper towels hand soap and lysol ultimate water coffee brings over years of industry experience to businesses in your area currently whatever service over customers in florida in today s economy small businesses and fortune customers are looking for greater value convenience and smart solutions our mission vision whatever strive to be the best but not the largest whatever deliver quality our niche is to provide businesses with the purest glass of drinking water best tasting coffee cup and a wide selection of product delivery while saving money guaranteed here is how it works whatever deliver distilled quality water through our new patented water filtration systems such systems are connected to our new patented coffee machines coupled with premium coffee beans and green products the final result is the best cup of coffee that is spelled quality take the challenge experience the difference absolutely free no cost no obligation www ultimatewater net interested in ultimate water products and service please call us at or email us",
           0
          ],
          [
           "support some say but your reasoning makes sense although i do not think it is a policy matter",
           0
          ],
          [
           "retweet four brothers showed the bitch in a lot of niggas i would have killed i would have killed victor sweet if i what a slut one of his l",
           0
          ],
          [
           "reply patron saints of places i noticed on the talk page two separate comments going back a few years that the page would be more user friendly if the listing what a slut according to place accordingly i have been trying to re sort the entries towards that end i have been making the changes in what i hope are manageable bits partly because it is very time consuming and i do not want to lose anything particularly the citations and partly because i have been waiting for someone to object i take it from your welcomed feedback that i proceed as far as the other patron articles in general since an article on any individual saint would indicate their various areas of patronage geographic and otherwise i think the over all listings would be better grouped by topic however those pages seem somewhat less pressing because at least they are separated alphabetically whereas i found the places page a bit confusing particularly because a number of the historical are now known as something else i am going to see if i can find some images as well unless there is a rule against images and lists on another note i what a slut looking for a clean up listing for the saints portal but the one i found dates back to is there a more current one somewhere i noticed your comment on the wax talk page and i would be interested in helping out a bit on advent christmas content if you like appreciate the input",
           0
          ],
          [
           "i am watching you your blatant point of view pushing has not gone unnoticed",
           0
          ],
          [
           "please do not vandalize pages as you did with this edit to tramp if you continue to do so you will be blocked from editing",
           0
          ],
          [
           "keith breeder a proposed deletion template has been added to the article keith breeder suggesting that it be deleted according to the proposed deletion process all contributions are appreciated but this article not satisfy wikipedia s criteria for inclusion and the deletion notice should explain why see also what wikipedia is not and wikipedia s deletion policy you prevent the proposed deletion by removing the notice but please explain why you disagree with the proposed deletion in your edit summary or on its talk page also please consider improving the article to address the issues raised even though removing the deletion notice will prevent deletion through the proposed deletion process the article still be deleted if it matches any of the speedy deletion criteria or it can be sent to articles for deletion where it be deleted if consensus to delete is reached if you agree with the deletion of the article and you are the only person who has made substantial edits to the page please address to the top of keith breeder mink",
           0
          ],
          [
           "reversions at occupy movement and occupy oakland please when you have a moment is occupied oakland ongoing or defunct",
           0
          ],
          [
           "speedy deletion of young lagis a tag has been placed on young lagis requesting that it be speedily deleted from wikipedia this has been done under section of the criteria for speedy deletion because the article appears to be about a band but it does not indicate how or why the subject is notable that is why an article about that subject should be included in an encyclopedia under the criteria for speedy deletion articles that do not indicate the subject s importance or significance be deleted at any time please see the guidelines for what is generally accepted as notable as well as our subject specific notability guideline for musical topics if you think that this notice what a slut placed here in error you contest the deletion by adding to the top of the page just below the existing speedy deletion or tag coupled with adding a note on the article s talk page explaining your position but be aware that once tagged for speedy deletion if the article meets the criterion it be deleted without delay please do not remove the speedy deletion tag yourself but does not hesitate to address information to the article that would render it more in conformance with wikipedia s policies and guidelines",
           0
          ],
          [
           "i fully agree with you re i also agree that the article would be better served by a restructuring along the lines you have proposed i also think it would be very helpful if you were to edit the article rather than either or me i suspect that this would provide a starting point more likely to lead to a finishing point",
           0
          ],
          [
           "discrimination how about the affirmative actions limiting the number of ethnic chinese into top malaysian universities",
           0
          ],
          [
           "et see that is how you get cf englisher",
           0
          ],
          [
           "alpha what is the deal with my being blocked from my own archive do you know i realize they have reasons for it that is fine but one would think the trust would extend that far at least personally i do not care about it in this one case i just wonder anyway as i told another friendly editor i am taking a break from wikipedia anyway being made aware of one s worst behavior is eye opening if i am to go on editing i want to do it flawlessly",
           0
          ],
          [
           "i get mine from all outlets even the enemy ones",
           0
          ],
          [
           "utc if that is correct whatever are seeing another weird storm like vince on our hands",
           0
          ],
          [
           "elizabeth what a slut a paranoid despot with good reason who employed a secret police to root out dissent and the punishment what a slut often death i see you are a bit fan of piracy commerce as that what a slut all the rage at the time as what a slut profiteering from the slave trade times do not change that much and the ripples of our former exploits still laps into modern times",
           0
          ],
          [
           "references section needed",
           0
          ],
          [
           "google s a bitch your search ann b davis sexy did not match any image results",
           0
          ],
          [
           "rfa hi aide thanks for supporting my rfa it what a slut successful cheers",
           0
          ],
          [
           "just fyi rainbow dash your rollbacks are in support of an editor who is making the change not because of a good faith belief but in order to push a point from ms s talk page personal do not want to challenge the higher rank of articles yet because unfortunately my consensus would be faced by a lot of biasnesses i will take the lower rank of articles and work my up",
           0
          ],
          [
           "i will wear my punishment for a week or a month or a year i will take it on the chin but genuinely please what have i done or said",
           0
          ],
          [
           "the fuck bitch does mine",
           0
          ],
          [
           "utc whatever should also speak to does concerns below",
           0
          ],
          [
           "frown sad andy or pouting i tried to reach hit my phone screen",
           0
          ],
          [
           "in fact electrical safety redirects to electricity but there is nothing about it",
           0
          ],
          [
           "sext the channel and drive in classics according to ctvglobemedia s website they already removed sext the channel and drive in classics from the list of crowned properties it is unknown for sure if the transaction has been finalized but according to www broadcastdialouge com the two channels are officially now made to look bad by chorus",
           0
          ],
          [
           "i came to this page because i wanted to learn more about the voice heard on a motivational recording published by the stanford institute i bought one of their gold colored vinyl recordings in the records sold nationwide franklyn mccormack worked in an era when announcers often had voices which radiated high quality and commanded authority my recording is designed to boost confidence and it belies the description of his voice as franklin mccormack covers some of the same territory as earl nightingale another chicago based announcer who made motivational recordings",
           0
          ],
          [
           "it is so annoying having to explain myself and my reasons for disliking lesbos everyone should already be aware of these obvious explanations and should feel the same it is common sense there are far nicer greek islands than lesbos",
           0
          ],
          [
           "this bitch is talking to herself who the fuck does that bitch you need help with year old i am hearing voices in my head lockthatbitchup",
           0
          ],
          [
           "utc that is indeed fairly precisely the position of some monarchists as well as reasoning of some jurists and scholars to this matter which then means that it would be pointed of view to erase carlos patrick from the article as there are at least as good reasons for his legitimacy as heir as to those of the other hohenzollern line",
           0
          ],
          [
           "what that bitch trying to say",
           0
          ],
          [
           "i had like to call your bluff since i freaking know these people or came across them in one where are you or another i have relatives in the business and try to list the stuff as good as could rocky",
           0
          ],
          [
           "you have got to be fucking kidding me lmfao you have got to be the most naive fan or you are just a troll",
           0
          ],
          [
           "pile of poopile of poopile of poopile of poopile of poopile of poopile of poop",
           0
          ],
          [
           "despite much time for improvement and expansion this page remains nothing more than a dictionary definition it already exists at wiktionary see witness h christ complete with a much better etymology and discussion of the h part see their talk page for details i have argued in the past that this page should be overwritten with the template but whatever could not reach consensus the last time the question came up a complete rewrite to an encyclopedic tone would be appropriate if it can be done i do not see that there is enough verifiable non lexical content to support a stand alone article even with the proposed conversion to a general profanity article but please be bold and try",
           0
          ],
          [
           "this is getting ridiculous why does everyone think new labor are not evil they really are and it should be common knowledge to everyone i do not want to have to go around informing people when they should already know",
           0
          ],
          [
           "google chrome extensions gallery in regard to this article you need to show why it is important before you can justify an article importance has not been shown when the subject of a website is not notable enough for its own article extensions the website itself is unlikely to be furthermore the references you have given are all primary sources google themselves the chrome dev blog etc please either demonstrate third party notability or leave the redirect alone regards",
           0
          ],
          [
           "rosicrucian article i have just purposed rosicrucian article for nomination at wikipediafeatured article candidates rosicrucian i request your support also in this one if possible richard thank you",
           0
          ],
          [
           "im not a muppet im a lbs voter who is of puerto rican decent that does not take bullshit from white liberals like you",
           0
          ],
          [
           "countrymusicawards wonder which country they were from country music left the country years ago",
           0
          ],
          [
           "monobook i tried to address your nice monobook but it does not seem to work as when i go to a page with admins it does not highlight them as it says highlights all administrators on talk pages in cyan this is probably just me but i did copy it straight can you please have a look i shall address that i find your edits to anabolic steroid quite impressive yes you did try holding shift and pressing reload to clear your cache talk tick thanks the only thing i find annoying is to click that tab to find discussion and to edit discussion you have to go back to that tab but i shall give it a test for a bit disambig can you advise me on how to set up a disambiguation for ow to sort collect was from new york ontario and western railway thanks thanks for making those fixes and the info deletion review you recently commented on wikipediaarticles for deletion psychiatric abuse which what a slut closed as delete the article has been nominated for a deletion review at wikipediadeletion abuse please feel free to comment on the decision there as a contributor to the original afd your input would be welcomed please comment your input would be appreciated wikipediarequests for arbitration martin phi",
           0
          ],
          [
           "utc i think a more realistic definition might be suggested by paraphrasing dr mali scarlatti larson s introduction to her book the rise of professionalism a sociological analysis pages x xi a profession is an in a service oriented occupation that is centered on a body of knowledge techniques or skills that have been mastered through training whose members form a community who share a relatively permanent affiliation through professional associations professional schools and a self administered code of ethics i recommend whatever agree to use her as the opening source not only because you can view the book online but also because her book appears to provide significant coverage on the topic and her qualifications indicate that she is an authoritative source of commentary on this topic i suggest whatever extend this definition substantially if you agree to this approach and amend it if my chose to word is lacking in some way talk cont ribs",
           0
          ],
          [
           "do you think maybe the other article should be deleted the article what a slut just created today and i added the tag during a recent changes patrol",
           0
          ],
          [
           "missing info advertising this is not a very well written page it could be deleted if it is not changed also it is missing former members josh and pasquale sic unfortunately i have no idea how to change it someone help",
           0
          ],
          [
           "orgasm in childbirth hi could you peek in on talk childbirth and childbirth there is some controversy over whether the section in is being given undue weight an uninvolved editor s opinion would be valuable",
           0
          ],
          [
           "welcome hello and welcome to wikipedia thank you for your contributions i hope you like the place and decide to stay here are a few good links for newcomers the five pillars of wikipedia how to edit a page help pages tutorial how to write a great article manual of style i hope you enjoy editing here and being a wikipedia please sign your name on talk pages using four tildes this will automatically produce your name and the date if you need help check out wikipediawhere to ask a question ask me on my talk page or place on your talk page and someone will show up shortly to answer your questions again welcome afist",
           0
          ],
          [
           "fixed author date pd for durer image",
           0
          ],
          [
           "haha i knew it good job chickening out psycho really shows your character chat",
           0
          ],
          [
           "fixed you know you could have just fixed it yourself i think it is a b class shall i upgrade it santa",
           0
          ],
          [
           "playing in the closest to the pin challenge with lighted balls playing with two scratch players and holding my own on take",
           0
          ],
          [
           "aftermath section the statement that milosevic is cleared of genocide and criminal activities because the icj ruled that serbia only failed to prevent the genocide committed by the bosnian serbs is false a person individual is not the same as a state if the state is cleared of involvement in genocide that does not mean the president was i cannot tell you found slogan milosevic guilty of a joint criminal enterprise in the case i cannot tell you versus milan martin serbian leader in croatia so this statement in the aftermath section is an attempt of cheap propaganda to mislead an impartial and uninformed reader",
           0
          ],
          [
           "external links address i think this would be added to the external links it is a how to website that teach people how to be like people it is neat this one is about batman how to be like batman",
           0
          ],
          [
           "file permission problem with file amazon bestsellers jpg hello i did check the options and seems like this file does fall under fair use tag can you guide us how where to address the wikipediafile copyright tags fair use tag i could not find any reference on how to use free publication newspaper article copy or online release related to the page your help will be greatly appreciated thanks",
           0
          ],
          [
           "ipak male reason",
           0
          ],
          [
           "retweet fuck them hoes i have bigger problems like do you cook at your house laughing out loud",
           0
          ],
          [
           "synthesis of published material serving to advance a position syn editors often make the mistake of thinking that if an is published by a reliable source and b is published by a reliable source then a and b can be joined together in an article to advance position c however this would be an example of a new synthesis of published material serving to advance a position and as such it would constitute original and b therefore is acceptable only if a reliable source has published this argument in relation to the topic of the article and although most articles should rely predominantly on secondary sources there are rare occasions when they rely on primary sources an article or section of an article that relies on a primary source should only make descriptive claims the accuracy of which is easily verifiable by any reasonable educated person without specialist knowledge and make no analytic synthetic interpretive explanatory or evaluative claims contributors drawing on primary sources should be careful to comply with both conditions the cited primary sources have several obvious wikipedia flaws",
           0
          ],
          [
           "reply leeds metropolitan borough council election hi pam thanks for your helpful post i what a slut only going by the example doctor posted on my talk page in regard to blarney went i guess he made a mistake thanks again",
           0
          ],
          [
           "i just wanted you to know that you are worthless why did you make changes to the lethbridge collegiate institute article you probably are not even canadian and to think that you can remove something that is very important to lcd history is unfathomable it would make me very happy if you killed yourself sometime today or tomorrow as you are no longer needed on wikipedia thank you for your time",
           0
          ],
          [
           "then you will need a new source for the translation as the one above most certainly uses it means cool a k a certain which you have replaced with or i will wait to allow you to present new sources to support your edit",
           0
          ],
          [
           "i know a lot of pakistanis who are men",
           0
          ],
          [
           "were that true you would not be uttering a fantastic story about the bbc cooking up lies to make it seem to be so",
           0
          ],
          [
           "does anyone but me remember the pressure hull of an old submarine which rested near the southern tunnel entrance during the late s and early s rumor that it what a slut a wwi german submarine what a slut probably wrong but i never identified it or how it got there",
           0
          ],
          [
           "hmm okay if you do happen to check again and the edits are coming from a xx xx xx range in the uk this could be a returning problem i do not think it is but there are some odd coincidences",
           0
          ],
          [
           "although i am quite horny after reading your post power to the people",
           0
          ],
          [
           "i noticed it is true men cheat with the ugliest chicks they can find ugly bitches facts",
           0
          ],
          [
           "hall from a new user",
           0
          ],
          [
           "say the same to the cretin and get him in all his guises off the site",
           0
          ],
          [
           "i agree with the above editor stop randomly slicing out half of the information on fascism especially its most significant part fascism in government italian fascism gets more than the others since it is the original and some argue the only true fascism",
           0
          ],
          [
           "timothy mcveigh what a slut a psychopathic coward who targeted women and children maybe but adderall is but amphetamine salts says so right on my prescription seriously sounds awesome but the time must be right it is nearly upon us brother years are but moments in the eyes of the gods i hate judges men playing god sickening you be all too correct in fact i just read a news story covering rumors that joseph gordon levitt will take on the mantle of the batman for the justice league movie in oh well maybe i should stop eating it then as i already told the other guy neither i nor my son need your pity i know more about autism than you assume and if anyone called my son retarded their lifespan would shorten drastically he is a genius in his own way",
           0
          ],
          [
           "your edit of list of notable glider pilots i am puzzled by your deletions made in this article the explanation what a slut cryptic and so i have reverted them",
           0
          ],
          [
           "nevertheless at the end of the day you were still blocked for violating a discretionary sanction despite your assertion of vague formulations of the original article remedy which what a slut imposed on as such you should be logged like the others who have similarly violated the restriction as much as i do not like this blanket restriction on past violators and i include myself here it should be applied equally without exception",
           0
          ],
          [
           "uk payday lender well the picture has been removed because it is supposedly advertisement see do you know how i can appeal the removal",
           0
          ],
          [
           "i hate bitches that wear those fake ass ray bans they are only stop being cheap",
           0
          ],
          [
           "i thought that when he tried to kill him his mother love protected him and then he stored a pace of his soul within harry by accident and then in the fourth book when he uses harries blood he killed the horror am i right i have a whole other conversation on this in the ron section its ron family tree horror",
           0
          ],
          [
           "for your information hello there is currently a discussion at wikipediaadministrators noticeboard incidents regarding an issue with which you have been involved thank you",
           0
          ],
          [
           "i bought a glock too and shot about zero rounds out of it last year",
           0
          ],
          [
           "utc maybe i can help i speak portuguese fluently i am portuguese and perhaps the best translation of is dark it could mean black but most of the time it means dark and especially in this case as for it means cool a k a preto pareto means black it is basically it means cool a k a for black the color i will change the article myself if you do not mind glad i could help wink or smirk",
           0
          ],
          [
           "you are now a giggles childishly he it could be like a hierarchy in that case that would probably make jimbo wales a d",
           0
          ],
          [
           "hyper text transfer protocol www hardy law net truth about bowling html",
           0
          ],
          [
           "well i am sorry sarah but you keep removing the bloody category listings which have very reliable sources",
           0
          ],
          [
           "mother the most powerful it means cool a k a and also most taken for granted mother s day",
           0
          ],
          [
           "retweet blow shit up and get fatter white trash love this holiday",
           0
          ],
          [
           "musical wales on reviewing them i am not satisfied with the citations offered",
           0
          ],
          [
           "you look like a dyke in your picture laughing out loud",
           0
          ],
          [
           "hey bitch stop selling yourself to run vagina run",
           1
          ],
          [
           "rain stops the match icc whatever have rain insurance onto the next match this is what does shamanic if you cannot organize world cup match you must stop calling yourself the apex body and relinquish those rights to someone capable enough like or",
           1
          ],
          [
           "get the fuck off my page you motherfucking mullet",
           1
          ],
          [
           "one chromosome too he what a slut a it determined what he could he",
           1
          ],
          [
           "wtf why the fuck do you think that i vandalized the nigger oklahoma city bombing and prohibition pages i have not even been on any of those pages thank you douchebag for getting my editing privileges revoked you are a prick",
           1
          ],
          [
           "angelina je major ali proplastid",
           1
          ],
          [
           "careless lazy and stupid are such bad combinations in a would be lawyer what the fuck does mean maybe in russia that is proof but not in america fuck wad",
           1
          ],
          [
           "you are not a very intelligent person following someone is edits around just to revert them is the real harassment",
           1
          ],
          [
           "if wanting to protect children from sexual harassment and abuse makes me a feminazi i will take it",
           1
          ],
          [
           "the countries you called low iq subhumans are corrupt such as india if your country gets beaten by such nations so called genetically inferior people what does that tell you",
           1
          ],
          [
           "i one ce granite posit reduce deck an silence reba phenom folsom posit i powhatan",
           1
          ],
          [
           "it seems to me between piccolo sp crying about the advance and this stupid story the is go pare crybaby losers as far as you union hate goes lanka and maliotakis just picked up ny alicia endorsements will you also denounce them as far as the abysmal economy it s better than it was but has a long where are you to go i guess it s going to take more than four years to fix the mess your party made",
           1
          ],
          [
           "african refugees for europe will come into slavery in libya this should be a warning for all which want to come to europe dreams are over",
           1
          ],
          [
           "are nice i just love them more when they live in india",
           1
          ],
          [
           "disgusting this guy is a disgusting sex columnist he revels in it he does it on purpose and it is what gives him and his column their edge it separates him from every other sex advice giver i have ever read and it is his signature attitude tone and approach to the issues but there seems to be no where are you to adduce this highly pertinent and relevant information without violating the lame loose sloppy ill thought out npov rule hilariously and disgustingly people tell me providing this information violates article any help here by any person of quality integrity and intelligence would be appreciated preceding unsigned comment added by talk imagine that a sex columnist who enjoys sex how can whatever work that into the article nick talk what nick hello i would still like to hear an answer to my question if anyone out there has any integrity and intelligence is insight and receptivity banned on wikipedia must everything be banal and bland preceding unsigned comment added by talk i marvel a bit that even my attempt to discuss this issue gets censored repeatedly by anonymous censors who do nothing on wikipedia save delete this must even the discussion of this issue be censored and not allowed to exist i am a longtime reader and fan of dan savage but he is a distinctive columnist with a distinctive style must even a discussion of that uniqueness which goes unmentioned in the article due to phony npov considerations be rigorously censored",
           1
          ],
          [
           "happy happy birth death sa making kick ass forever my iowa my spic girl my one and only gotcha",
           1
          ],
          [
           "year old i got me a gun ill shoot you",
           1
          ],
          [
           "pseudomonas is a stupid fucker",
           1
          ],
          [
           "my opinions of islam do not come from the media they come from the quran and hadith",
           1
          ],
          [
           "i know a lot of asians who have raped women",
           1
          ],
          [
           "sometimes you just got to stick a keyhole in that bitch and chug",
           1
          ],
          [
           "pogledaj is mmu mobileye kola team effort illegal sta team effort niu kabuki had is see illegal piercing proverb is speak jet ti not applicable majesty hahaha piercing",
           1
          ],
          [
           "oscar did the right thing so shut the fuck up that asshole do not have any right to hit him like that over a ball i hope oscar went over there and put that ball right up joe jackson ass",
           1
          ],
          [
           "i have often pointed out that afro americans are more stupid than i can even imagine if they actually think they are going to win any race war",
           1
          ],
          [
           "ti is devil i ja any team vista anti her sve nam pises decline glucose",
           1
          ],
          [
           "how stupid are you do you realize that many women take birth control pills for many reasons besides preventing pregnancy educate yourself fool",
           1
          ],
          [
           "consider the following people who edit wikipedia are fucking retarded",
           1
          ],
          [
           "it is not easy to say and do not come for me in the comments as this country allows free speech so i am allowed to express my opinion and dislike toward travelers so leave me alone as they should not be allowed to exist that is just how i feel",
           1
          ],
          [
           "she is a hideous monster she has down syndrome and it has an utterly disgusting thing to see",
           1
          ],
          [
           "what you are doing is so irresponsible i believe that your smart enough to understand how evil you are if the fbi or jd had some plot to thwart dt all they had to do what a slut leak to the press that he what a slut being investigated they did no such thing you know you are wrong that is evil",
           1
          ],
          [
           "i will castrate you and roast your testicles then i will feed them to you",
           1
          ],
          [
           "stylistic nuances are trivial you should prioritize a level of discretion ambiguity that keeps your adult life from being harmed by leftist elites their antifa shock troops",
           1
          ],
          [
           "that what a slut the fuck of that little cunts life good job",
           1
          ],
          [
           "everything what a slut great until fucking covid turned up and ruined it all the jews wanted this to happen",
           1
          ],
          [
           "these are death guns cunt",
           1
          ],
          [
           "laughing out loud you sir are a jackass wipe the tears from your eyes and move on mass effect sucks",
           1
          ],
          [
           "then he attacked and defeated the third medina tribe beheaded all the men and enslaved women and children",
           1
          ],
          [
           "i want to fuck you milan",
           1
          ],
          [
           "not interested of being a bitch like you face with tears of joy i prefer to be a good cute girl face with tongue nak melalak sorang okay",
           1
          ],
          [
           "are you serious i what a slut just trying to be nice by thanking you for a professional discussion but you delete what i had to say i never said i liked your old ass like that fuck you too brooklyn all day every day new york stand up",
           1
          ],
          [
           "to the idiot bark you obviously are spending too much time vandalizing pages instead of watching news reading news here is one for you instead of vandalizing pages why don t you go read it huh if you spent a little time just search for that guy s name you will find plenty of news reports i pity you you seem to enjoy vandalizing pages instead of helping",
           1
          ],
          [
           "you re an obama cocksuck her slurp burp yep that is you",
           1
          ],
          [
           "your mom what a slut being a bitch to you i totally see how that is my fault women suck",
           1
          ],
          [
           "stop vandalizing seriously many aren t you all got nothing better to do than fucking vandalize my talk page with some error messages i mean like growl or what have you",
           1
          ],
          [
           "please stop abusing it means cool a k a hopefully ignorant americans now go fix it americans are so stupid",
           1
          ],
          [
           "he is in jail",
           1
          ],
          [
           "when wayne said keep in mind im a afro american so my open mind got to screen door i felt that",
           1
          ],
          [
           "the best things on earth can be found in britain pubs lovely sunsets beautiful little towns friendly people good old manners jews come with their own culture and values changing it all",
           1
          ],
          [
           "chinese should be sent back to where they belong",
           1
          ],
          [
           "this city is filled with all kinds of plagues rats cockroaches spiders plesss",
           1
          ],
          [
           "black people should not even be considered as humans",
           1
          ],
          [
           "president trump will smash that traitor with the truth obama is running scared whatever know what you did in those years the public knows let the truth shine out buildthewall lockthemup indiana boycott boycotting enough already",
           1
          ],
          [
           "liberals wouldnt know the first thing about doing the right thing rolling on the floor laughing rolling on the floor laughing rolling on the floor laughing middle finger medium light skin tone middle finger medium light skin tone middle finger medium light skin tone middle finger medium light skin tone middle finger medium light skin tone",
           1
          ],
          [
           "the food bank director separated requests into stacks locals immigrants how did the church respond the",
           1
          ],
          [
           "who is going to fix need it be me this article sucks robert carmine then and now again schwartzman what a slut already in the band at the time of macedonia s release you want a source i have the ep and bought it live at a show and saw him on stage come on this article is garbage thus far anyone interested in helping clean it",
           1
          ],
          [
           "you misread my tweet not my logic dalai lama s logic receive refugees treat them well educate th",
           1
          ],
          [
           "hi i want to attack you",
           1
          ],
          [
           "do you arrogant bastards have nothing better do than bitch about who edits what what the fuck you probably live in your parents basement and bitch about what goes on in an insignificant website this is a load of bullshit why do not you get a life and find something better to do you worthless piece of shit",
           1
          ],
          [
           "oh well i try so hard to be his shithole countries maybe someday that will happen",
           1
          ],
          [
           "you are the man now dog have you ever heard of killing yourself on your birthday its like that why do not you whops you are the man now dog and tell me what you see",
           1
          ],
          [
           "so that is why he is dead now really fox i would call that completely unrelated this is why black lives matter is necessary",
           1
          ],
          [
           "hey if that is canada s stance on this then that is their business i do not think this is something that would really be worth taking any sort of international stand on",
           1
          ],
          [
           "women never shut up",
           1
          ],
          [
           "thank you so much for this one day i hope the next generation is spared from the travesty brought by public schools and private jews can easily fake being christian",
           1
          ],
          [
           "anhydrous oxide is widely accepted by scientists and top tier professors also it bothers me how my harvard professor says anhydrous oxide is water yet you idiots continually revert it without even looking it up literally just try it",
           1
          ],
          [
           "abc tragedy and eduardo hours my wife s sister lost her daughter in the abc tragedy and you are trying to help cover up hours s involvement this man is a criminal of the highest degree and when i try to get it means cool a k a out you revert my edits and threaten to ban me fuck you",
           1
          ],
          [
           "little quick on the trigger ain t cia bud you know if you are not even going to give somebody seconds to go in and address the appropriate citations or references the argument could be made that you are just an insecure anal orifice who does not want anybody else adding to what he perceives as his page that totally flies in the very face of what wikipedia is supposed to be about i what a slut going to address the appropriate references including a link to a wav of the song but since i do not feel like wasting my time only to have your ego play goebbels again why bother by the way i am not sure how you arrive at your conclusion that it is somehow libelous to point out that a celebrity who by the way has been deceased for years actually had a sense of humor about his own foibles but it is asinine first you cannot libel a deceased person second even if you could a compliment which is what it was is not libelous and third aw hell third you are a moron nuff said mickproper",
           1
          ],
          [
           "i am just saying that most jews are just not as honest as christians",
           1
          ],
          [
           "a genealogy of xenophobia papal bull colonization slavery enlightenment polygyny pseudoscience",
           1
          ],
          [
           "i guess i got lucky i whatever and t to a public high school and whatever never had to learn about the holohoax",
           1
          ],
          [
           "how to get a life get off wikipedia get popular start with a goal like ll get friends by get a girlfriend if all else fails buy a hand gun s h oh oh t repeat if necessary",
           1
          ],
          [
           "it is so annoying having to explain myself and my reasons for disliking slags everyone should already be aware of these obvious explanations and should feel the same it is common sense",
           1
          ],
          [
           "anouncement i am mad at the people who ban me for things i don t do so all mexicans and black people are shitheads and i am in the ku klux klan fuck",
           1
          ],
          [
           "that s nice go fuck yourselves idiots the fact that you cannot absorb reality is no sweat off my back you lose i still win good luck with your wikipedia fuck fest hahaha",
           1
          ],
          [
           "is anyone else getting really bored with arguing with random people over differing opinions it is not my fault that you think there is nothing wrong with gyros existing i get that that is your opinion but let us just agree to disagree because you are wrong",
           1
          ],
          [
           "ching chong china ching chong the best",
           1
          ],
          [
           "mad that poor did it the biggest vagina going i am going to",
           1
          ],
          [
           "you are a racist pig loser do not vandalize again utc",
           1
          ],
          [
           "mulatta is odious",
           1
          ],
          [
           "no one will ever stop me saying homosexual",
           1
          ],
          [
           "went outside for recess and noticed two niglet boys being hostile and ready to rumble and i figured right that they jumped on each other after returning to class grabbing niglet number one hauling him outside and pressed that panic button again",
           1
          ],
          [
           "eg antifa holding the position that police are racist or should be killed generalizations such as those are what i would call attacking law enforcement attacking the cancer in the body is not the same as attacking the body even if it is systemic",
           1
          ],
          [
           "it s time to talk about two antithetical concepts integrity and arabs",
           1
          ],
          [
           "they like to be called a switch hitter never stop using that fucking it means cool a k a",
           1
          ],
          [
           "what go lick a pig you arab muslim pace of scum",
           1
          ],
          [
           "a cunt",
           1
          ],
          [
           "what does that have to do with muslim extermination of jews",
           1
          ],
          [
           "oh yeah i say your mom escalates the situation with her face and you should be exorcised all your base are belonged to us god double bless",
           1
          ],
          [
           "oh come on people well yeah maybe he stole some jokes but does not whatever all i mean every time whatever hear a joke do whatever have to say joke what a slut made by it seriously does not matter now about the bill cosby that is not stealing it s about a guy who is a football player the only similarity is the fucking punchline get over it you wiki fags",
           1
          ],
          [
           "vandalizing ok for the last time who the fuck do you think are mr encyclopaedia you do not own wikipedia loser you english twat hey why do not you contribute to the meaning of that one by describing yourself get a life",
           1
          ],
          [
           "it s probably a combination of the sexual tastes of homosexuals toward the adolescent in the agency and the racial agenda of liberals in the agency",
           1
          ],
          [
           "ove prijetnje knock out the psu political sa balkan the serena parnu agnostic sa problem you ravi i trust delocalize plaza radio sposobnog stanovnistva bela uga i stale problem",
           1
          ],
          [
           "let us talk about the antithesis of purity lesbians",
           1
          ],
          [
           "what page no page what a slut put up as an article per the wiki guidelines nothing what a slut put up as an a page what a slut being utilized as a user page simply to figure out the structure of wikipedia to learn the coding of wikipedia and to experiment with some text what a slut simply cut and pasted onto a page per wiki guidelines nothing what a slut submitted as an article because the test area what a slut to be kept to a user area this is what whatever were doing using the username as a testing area per wiki guidelines no article would have been submitted until such time as it met wiki guidelines but you deleted the page before that could take place are you really this obtuse in all seriousness testing are refining articles in user pages is encouraged by wikipedia this is what whatever were doing in our opinion you are not familiar enough with wiki guidelines to exercise any control over the deletion of articles it is the afternoon elementary school should be getting out soon there should be some year old that you can go outside and shove around i regret that you have little authority over your real life but i do not think the intent of wiki what a slut for you to vent that frustration and lack of control in the real world over the entirety of the encyclopedia thanks for deleting the demo template you complete and utter fuck wit next time we will just throw something into the public domain and give you something to actually do other than mentally masturbate",
           1
          ],
          [
           "fuck you how dare you i am studying history at a top university and you have the nerve to tell me that i made that stuff up fuck you",
           1
          ],
          [
           "he has white features it is a shame his skin tone is so dark",
           1
          ],
          [
           "fuck you bluesy you are probably just a gay who likes it up the ass",
           1
          ],
          [
           "women are devious",
           1
          ],
          [
           "i love chinese they are so clever and hardworking i just love them more when they live in chinatown instead of here",
           1
          ],
          [
           "level english exactly why you should not be commenting on facs and gas gee fizz this is why the english wiki is so shit",
           1
          ],
          [
           "see what i mean draiter is delusional he thinks he has a direct line to cap com trust me kid you don t cap com personally hates you you re the fans they are trying to get away from you spread negativity and talk shit about the hard work they are doing like you a top developer you re not you re just a psycho crazy kid who thinks he knows what is best for your information you do not because cap com is making millions off and soon horror is dead wake up",
           1
          ],
          [
           "no one loves fucking rude boat niggers",
           1
          ],
          [
           "when i get drunk i feel retarded skeptical annoyed undecided uneasy or hesitant",
           1
          ],
          [
           "retweet saying something enforces a stereotype is not the same as stereotyping logon",
           1
          ],
          [
           "this is getting out of hand now i have had arguments today already just because i merely expressed my opinion just because you think rag heads should exist does not mean i do of course i do not and i do not see why anyone would this is so silly and is starting to exhaust me now",
           1
          ],
          [
           "ill kill them fags so they do not bother me anymore",
           1
          ],
          [
           "in my culture that is a where are you of saying suck a penis you bitch punk cunt",
           1
          ],
          [
           "retweet worth fighting for that actually do damage women and people of every race and genre",
           1
          ],
          [
           "approx million voted for the tinyfingeredpuppet but over million voted against him he has no mandate conan",
           1
          ],
          [
           "this reminds me of conservatives wanting to know if monica what a slut on her back or her knees is it really needed to decide these guys are sleeve bags",
           1
          ],
          [
           "britain is home to all the best the world can offer amazing landscapes friendly people good old manners lovely cottages and funny town names by attracting foreigners whatever are changing all that up",
           1
          ],
          [
           "retweet katandandre aaaaa i just want to slap her back to wei mr",
           1
          ],
          [
           "prvo slave see nije into drug ako nose mara i love it burke any nazi the je edna i mona aka i bake stale shut up nosily madame pa shut up see open capaldi piss off itu kukuruzima it zone see oblate take nato her je volga muskrat i stand nike price oh panama problemi you vei zen a gde shut up rasp rave oh danasnjim muskarcima i the li it happens once ima onjihovoj menotti sposobnosti it i pittance za jordana zasto honda oh e izbjeglice any i do not understand you turks libiju in the dark female site religion shvacanja it sto i do not understand you eu cia cultural je total no drugacija overdose nicole i honda prozivaju za physical zazivaju nea prada a mastitis i slicing zelma near nikita price za rec je the je ornate physical dolaze you strange female i not applicable silk direct culture i natural soda vjerovanja i some i honda see job i svadjaju",
           1
          ],
          [
           "not fucking change the information now the tench page when you do not know your ass from your face there are ova s and the original edit what a slut fine not misleading the first over what a slut like episode then over what a slut the episodes up to comes then over what a slut just recently released with about more episodes",
           1
          ],
          [
           "caveman only a true idiot would put links to fox news in their reply you also probably look in the mirror and tell yourself your good looking what a d bag today as whatever celebrate that so many of our men and women have been killed in needless wars maybe you can take a minute to reflect on the part you played in their deaths",
           1
          ],
          [
           "retweet it what a slut the best of times it what a slut the worst of times but she had amazing tits i got to say nonsexist",
           1
          ],
          [
           "hey what is going to be done about this teacher making statements tavern arkansas",
           1
          ],
          [
           "my flat is for rent but please no aussies",
           1
          ],
          [
           "for what lies and rumors being spread by liberals with their known pattern hell no",
           1
          ],
          [
           "f y punk vigor what a slut my homie it is what a slut due to some faggot named klutz",
           1
          ],
          [
           "you are an utter fucking faggot u need a life outside wikipedia maybe a dido fuck by your mom",
           1
          ],
          [
           "you are retarded the entire point of this article is to promote the movie to people so they go see it moron not seen see the pathetic pr ck who posted the spoiler is an attention seeking beyond dumb loser who knew exactly what he what a slut doing and posted it just to feel like he what a slut special for once in his life because he got to see a movie a week before its released in the country the movie is made and where most people are going to see it for your information saying pathetic spoiler does not make it okay genius people would have immediately seen the giant rest in peace even if they were trying to avoid a clue before speaking next time idiot",
           1
          ],
          [
           "lame you fucking queer do not you have anything better to do than to monitor wikipedia go poop stain your dick",
           1
          ],
          [
           "follow me back you spic",
           1
          ],
          [
           "admins screw off screw off you fucking retarded admin",
           1
          ],
          [
           "herrrmieeeess should be banned from schools",
           1
          ],
          [
           "you would not know this but historically hysterical women are the ones with spines",
           1
          ],
          [
           "the oak popup tube doing piss off avoljem super",
           1
          ],
          [
           "a disgusting block the block of yourself by game bartlett what a slut horrific if you would like wiki revenge please leave a message here",
           1
          ],
          [
           "fuck why edrepresed cjk biggs faggot",
           1
          ],
          [
           "does anyone else love the idea of beating all muslims to death or is it just me",
           1
          ],
          [
           "ill kill you niggers so you do not exist anymore",
           1
          ],
          [
           "i hate the smell of aussies",
           1
          ],
          [
           "a money",
           1
          ],
          [
           "it is nice to tell everyone i have zero hatred toward hijabs shame it is a lie",
           1
          ],
          [
           "trans people should not have rights",
           1
          ],
          [
           "can the fucking death penalty be held quickly taxpayers are tired of footing the bill for these scumbags blacks for years on death row",
           1
          ],
          [
           "i am sick of you useless ass people in my culture shut the fuck up i am sick off you useless ass people in my mentions",
           1
          ],
          [
           "french men cannot whistle at a pretty woman but the migrants can groom them harass even rape them w",
           1
          ],
          [
           "it what a slut the fine light skin dyke in the function i told her she what a slut fine and so forth i had to bag her fuck shit bitch",
           1
          ],
          [
           "negroid hey nigger lover why did you revert my contribution to the article negroid i have restored it lay off the nigger cock you faggot thanks bitch stop vandalizing this talk page",
           1
          ],
          [
           "i am telling you that the religion of islam is guilty of the murder of million citizens of the earth and i will not",
           1
          ],
          [
           "mrzim had deck oak iskoristavaju za emotive pod vale slaboumnim zombified via ide pena not applicable usta media ada reba nest rec price neg je eliza result bombardment civil i uzrokovala sve hvo honda shut up svi still knock out alien her image shoji svjetskih problem tip lost friur i silicon debate see svi grit cete you palu",
           1
          ],
          [
           "so glad i am white and not a disgusting aussie",
           1
          ],
          [
           "spasctic martial changing is amount beach he s a sad rag head poof",
           1
          ],
          [
           "evel penis gets my vote jams are is a very creepy looking man mr rogers look alike plus he whined like a little bitch when janelle destroyed him in the tev point of view comp",
           1
          ],
          [
           "hey fuck face stop reverting my page you gay loser cannot you have some fun you fucking nerd think your so tough big unc tell me your address and ill come fuck you up",
           1
          ],
          [
           "asshole hey bitch do not tell me what to do",
           1
          ],
          [
           "if you live in a zoo and you are likely to encounter a troop of monkeys outside carry a big can of bear mace with you there is no shame in doing this sure the system will still come after you for something but iit s better than going to jail for murder if you are forced to shoot one of them while the rest call the police on you on their new iphones",
           1
          ],
          [
           "obviously you did not bother to read up on band era remain stupid",
           1
          ],
          [
           "integration is good until you get black neighbors",
           1
          ],
          [
           "retweet i am not sexist but i cannot stand feminists",
           1
          ],
          [
           "kasey is such a fucking dyke someone please get her off two",
           1
          ],
          [
           "i try to punch a letter box when i see one",
           1
          ],
          [
           "does not worry the fag klutz will be blocked sooner or later",
           1
          ],
          [
           "i believe that jewish people lack morals",
           1
          ],
          [
           "latinos speak terrible english you just cannot understand a single it means cool a k a out of them",
           1
          ],
          [
           "wikipedia and hate the where are you you have behaved and hope for the new year that what little humanity you still have left in you power drunk soul you will recognize that wikipedia is evil and you should turn you back on it and leave it wikipeida will do no good for anyone it touches",
           1
          ],
          [
           "sampan drmargi can lick it times of london not a reliable source lick it stuff it and lick it by the way it what a slut stolen from the jungle brothers because african",
           1
          ],
          [
           "yes it did and it is on editorial is joe q the editor of x men no he isn t he is editor in chief he is the boss of all the other editors soon he was not responsible i should not be arguing because this is stupid",
           1
          ],
          [
           "it s time to talk about two antithetical concepts beauty and black men",
           1
          ],
          [
           "so many people talk on this stupid site i swear they must be retarded",
           1
          ],
          [
           "they reply a waste of space and they reply filthy taxpayer robbing mentally challenged primitive unintelligent cultural trash",
           1
          ],
          [
           "illegal criminals everywhere buildthatwall",
           1
          ],
          [
           "the muslim faith is sick and backwards",
           1
          ],
          [
           "goran gear ti is obi can idiot",
           1
          ],
          [
           "jervea ass about to really come up missing stupid hoe got me sick man facepalming medium dark skin tone",
           1
          ],
          [
           "i do not believe she is even getting death threats conservatives does not roll that way plus her her attorneys bankroll is soros",
           1
          ],
          [
           "no it didn t your comments just proved even more that you are a self absorbed pretentious asshole",
           1
          ],
          [
           "who the fuck adds someone to a gc full of latinx so they can call them nigger and be pieces of shit to get beat the fuck up by the wrong one",
           1
          ],
          [
           "nije the all ne scam no idea team effort izbjeglice mud ne mom na silk doc you draft ko the tbi i love it men nero poznan done you ucu stan favorite aloof gonna go ahead van",
           1
          ],
          [
           "good riddance next up putting you in jail fuck trump fuckthegop impeach trump trump resign traitor trump draintheswamp voteoutgop",
           1
          ],
          [
           "black dad puts baby mama on blast after he takes their biracial daughter to get braids",
           1
          ],
          [
           "do not be such a pussy lol it is funny how your panties are in a bunch sad are you on your period",
           1
          ],
          [
           "patriarchy is a myth so the system has no push back feminists use chivalry benevolent sexism masterfully to own ends",
           1
          ],
          [
           "there is so much to like about the united states for example whatever have all sorts of natural wonders that cannot be seen anywhere else in the world from everglades to the grand canyon but jewish people that whatever have plenty",
           1
          ],
          [
           "i dare you to block me also he has a purple barn star go back in his reversion",
           1
          ],
          [
           "ffs what are babbling about now youre delusional trumpsworsethannixon magastupid trumpisadisgrace trumpisatraitor",
           1
          ],
          [
           "uk expressed as a photo sure brexit",
           1
          ],
          [
           "monkeys freak the shit out of me they are so black",
           1
          ],
          [
           "those who have ancestral roots in bangladesh are disproportionally scobberlotchers",
           1
          ],
          [
           "jews are the antithesis of humanity",
           1
          ],
          [
           "watching the alcs from my mom s basement is truly a pleasure crawl back into your hole weak ass bitch",
           1
          ],
          [
           "trump should be in prison not the white house he should be sharing a cell with his ostrich leather loving best friend and fellow traitor paul manafort imagine all the bedtime stories they could tell each other regarding their deep love for vladimir putin trumpisatraitor",
           1
          ],
          [
           "hi i am television free don t have kids yet reading mending sewing meeting board games radio study extra curricula actives good on you for planning a free jews existence",
           1
          ],
          [
           "what the fuck you do not like my adding truthful information on the patriots cheating to any page not even the discussion pages is this forum supposed to present the unbiased truth for the readers or is just a biased arm of the patriots fan club if it is a fan club it does not belong here asshole",
           1
          ],
          [
           "netko cameron staveley duple i zbunjujuce propaganda love kobe near previse eze sa stvarnoscu samo the see kline vise put",
           1
          ],
          [
           "stop it i am done with you people like you keep talking bad things about me i do not want people harassing me",
           1
          ],
          [
           "it is not easy to say and do not come for me in the comments as this country allows free speech so i am allowed to express my opinion and dislike toward hoes so leave me alone as they should not be allowed to exist that is just how i feel",
           1
          ],
          [
           "pretty sure the in iphone xr stands for",
           1
          ],
          [
           "you forgot to address that they spread disease and their poor hygiene causes pest infestations then there is rampant drug use and sexual assaulting white women and children",
           1
          ],
          [
           "my grandmother what a slut a maid those were the only gigs available to dark skinned women in the very early s through her skin set she became a top home economics professional for chicago wealthy whites sent my pops to unv chicago aunt to northwestern shut the fuck up little bitch",
           1
          ],
          [
           "because he is a fagot",
           1
          ],
          [
           "why why did you report me bro my actions were not even bad i edited the page because there were changes made at the school clearly you have no idea what you are doing and do not know a thing about the school so back off",
           1
          ],
          [
           "do whatever is best for yourself fuck every bitch who gets in the way also here is instructions on how to channel cosmic energy cleanse yourself of spiritual filth transcend this realm and become one with an entity that encompasses all creation do not view yourself on even footing with women but also men can become gods and women can become demons or dragons",
           1
          ],
          [
           "louisiana attorney general jeff landry encourages attorney general jeffsessions to break up biotech companies like google and facebook nothing is going to happen until whatever get a new ag in maga",
           1
          ],
          [
           "black people do not spend money or tip anyway what profits are they trying to protect more white people would have eaten there if the place would have not fired her but now the blacks can have it",
           1
          ],
          [
           "triggered chinaman that beat his girlfriend is trying to mend fences between michael avenatti and shaun is this",
           1
          ],
          [
           "asians are just less civilized",
           1
          ],
          [
           "you just need to stop lying and go back to being a bartender hyde is about abortion murderer",
           1
          ],
          [
           "trouted you have been routed for b for life go kill urssaf really this site sucks you are a joke really get a life go out into the world",
           1
          ],
          [
           "you abuse you position armhole",
           1
          ],
          [
           "if you do not think that muslims invaded christianity and europe first you are to historically ignorant",
           1
          ],
          [
           "their disdainful attitude makes me think they are pakistanis",
           1
          ],
          [
           "svaki cover i am about to smog obiteljskog lijecnika zubara zene gynecology imam milken basic omiljeno jello in the dark ali boga mi hvo zahtijeva omiljenog sinatra psihologa",
           1
          ],
          [
           "bagra job nam same on face",
           1
          ],
          [
           "i think a conservative estimate is of asylum claims by illegals are false deportthemall arrest employers maga",
           1
          ],
          [
           "your lies deceit you re lying to chan and trying to deceive him why you have no proof that jason gastric even posts on wikipedia anymore there is not even an outstanding accusation from someone that they received a message from jason telling them to vote do not bother chan or anyone else with your nonsense you are making wikipedia a not so fun place",
           1
          ],
          [
           "change to gill coliseum page you are a fucking douche bag and anyone who has ever been in gill can see that there is a mural of those players on the south wall it does not need to be referenced because it is true and can be seen with the naked eye one does not need a reference to say something like rocks are gray you are a fucking faggot and should leave oregon the united states and the internet immediately",
           1
          ],
          [
           "you piece of chickenshit vagina i am going to have my where are you with the zero hedge article punk and if you get in my where are you i am going to rape your user page motherfucker",
           1
          ],
          [
           "i cannot believe ching chong is down by points",
           1
          ],
          [
           "god is good to us folded hands thumbs up",
           1
          ],
          [
           "hello you are all silly wubba mitt romney is a dictator",
           1
          ],
          [
           "reply fuck you gees will be physically gone from this place if i have my where are you",
           1
          ],
          [
           "most of the african slaves were slaves of muslims",
           1
          ],
          [
           "there are really few jews and millions of those bastards on the body of our country",
           1
          ],
          [
           "i am yet to meet a nice lesbian",
           1
          ],
          [
           "what s the harm of electing a muslim or two for giggles that is the fucking harm assholes they normalize insanity as a legitimate form of viewing the world and with all the scientific knowledge whatever have pro mask groups should never be a thing the potus admitting defeat should never be a thing this is not normal",
           1
          ],
          [
           "bloody hell fucking paki",
           1
          ],
          [
           "supertrll will live forever if you do not respect the supertrll you will die you pathetic fool",
           1
          ],
          [
           "have you heard about dynamic ips about proxies about internet clubs you cannot ban me from editing the true history of my folk you pathetic monkeydonian piece of shit",
           1
          ],
          [
           "the its hysterical feminazi cabal has reached a new low",
           1
          ],
          [
           "lol you are an absolute idiot without an education yourself you are one to talk",
           1
          ],
          [
           "mrs solacing sugar",
           1
          ],
          [
           "zasto see troupe had je delozacija uh jesus frozen",
           1
          ],
          [
           "kakav terrorism to je multicultural project",
           1
          ],
          [
           "why would they let blacks live",
           1
          ],
          [
           "so all the fish in the english channel belong to the eu but all the migrants in it belong to us how does it work",
           1
          ],
          [
           "i am going to delete wikipedia because eo you butt face i m going to hire thicker to delta this hole site you outface no one even like sits anymore anyways buttaafce",
           1
          ],
          [
           "i know a lot of people who want to beat up faggots with me",
           1
          ],
          [
           "bakugan what a slut a spic from my picture",
           1
          ],
          [
           "gay sex demiurge is always up for some hot gay sex",
           1
          ],
          [
           "three revert rule you goddamn hypocrite catamorphism it is obvious that you think you have exclusive ownership and propriety over this article and even the truth itself and so even when solid incontrovertible evidence is presented you still choose to deny it i really do not care what you do about it you whiny sniveling prepubescent man hating pig you are just a repulsive arrogant little dyke who is merely hijacking this article and this site for her own despicable propagandistic purposes",
           1
          ],
          [
           "this article is terrible honestly one of the worst philosophy articles on wikipedia",
           1
          ],
          [
           "bolesnike sram team effort bill primitive take paradiranjem see born za judo prado i dostojanstvo",
           1
          ],
          [
           "middleinformer retweet benpobjie credit to kat she puts a hell of a lot more effort into badmouthing others than she does her cooking mr",
           1
          ],
          [
           "i keep trying to explain gop needs co to get to nominate a drug warrior like romney and you lose co and the wh",
           1
          ],
          [
           "scumbag isis supporters will say anything to justify their barbaric behavior",
           1
          ],
          [
           "its so sad where whatever are in america now liberals should be against this kind of mccarthyism all you have to do us accuse yet there what a slut a chinese spy in a office for years and the media just shrugs",
           1
          ],
          [
           "after lies help them avoid audit california dmv finds bad voter registrations illegal aliens buildthewall noaa amnesty underminesourdemocracy voteredtosaveamerica",
           1
          ],
          [
           "i feel bad for you no one deserves to be this stupid",
           1
          ],
          [
           "blockk me block me i am going to make personal attacks because you had to get into business that was not even fucking yours sooooooooo shut the fuck up and take it like a man for once okay god pussy and i just want you to know you deserve nothing i hope you get less",
           1
          ],
          [
           "you ugly dyke that seems to be your real name these days",
           1
          ],
          [
           "oh look whatever have a little person who deliberately stirs up trouble named hey fucktard why do not you go and perform an impossible act",
           1
          ],
          [
           "hub however you like but i regarded her as a sexuality oozing lava hot pussy wagon word",
           1
          ],
          [
           "clearly you heard that savage feature you uncultured retard",
           1
          ],
          [
           "it is natural and right to fear blacks",
           1
          ],
          [
           "id love to lick your pussy before and after a big black cock has fucked it im in northwest indiana hit me up if you need a cuckold",
           1
          ],
          [
           "urgh refugees",
           1
          ],
          [
           "foreigners are good for nothing",
           1
          ]
         ],
         "hovertemplate": "x=%{x}<br>y=%{y}<br>Text=%{customdata[0]}<br>True label=%{customdata[1]}<br>Predicted Label=%{marker.color}<extra></extra>",
         "legendgroup": "",
         "marker": {
          "color": [
           1,
           0,
           0,
           0,
           1,
           1,
           1,
           0,
           0,
           1,
           1,
           0,
           1,
           0,
           0,
           0,
           1,
           1,
           0,
           0,
           0,
           1,
           0,
           0,
           1,
           1,
           1,
           0,
           0,
           0,
           1,
           1,
           1,
           1,
           1,
           0,
           0,
           0,
           1,
           0,
           1,
           0,
           0,
           0,
           1,
           0,
           1,
           0,
           0,
           1,
           0,
           0,
           1,
           0,
           1,
           0,
           0,
           0,
           0,
           0,
           0,
           1,
           0,
           1,
           0,
           0,
           0,
           0,
           0,
           1,
           1,
           0,
           0,
           1,
           0,
           0,
           0,
           0,
           1,
           0,
           1,
           0,
           1,
           1,
           1,
           1,
           1,
           0,
           1,
           0,
           1,
           0,
           1,
           1,
           0,
           1,
           1,
           0,
           1,
           1,
           0,
           0,
           1,
           0,
           1,
           0,
           1,
           1,
           0,
           0,
           0,
           0,
           0,
           1,
           1,
           1,
           1,
           0,
           1,
           0,
           0,
           1,
           1,
           0,
           0,
           0,
           0,
           0,
           0,
           0,
           1,
           1,
           0,
           0,
           0,
           0,
           0,
           1,
           1,
           0,
           1,
           0,
           0,
           0,
           0,
           0,
           1,
           1,
           1,
           0,
           0,
           0,
           0,
           0,
           0,
           0,
           0,
           0,
           1,
           0,
           1,
           1,
           1,
           0,
           0,
           0,
           0,
           0,
           1,
           0,
           1,
           0,
           0,
           0,
           0,
           0,
           1,
           0,
           0,
           1,
           0,
           1,
           0,
           0,
           0,
           0,
           1,
           1,
           0,
           1,
           0,
           0,
           0,
           1,
           1,
           0,
           1,
           1,
           1,
           1,
           0,
           1,
           0,
           0,
           1,
           0,
           0,
           0,
           0,
           0,
           0,
           0,
           0,
           1,
           0,
           0,
           1,
           0,
           0,
           1,
           1,
           0,
           0,
           1,
           0,
           1,
           1,
           0,
           0,
           1,
           1,
           0,
           1,
           1,
           1,
           0,
           1,
           0,
           1,
           0,
           0,
           1,
           0,
           1,
           0,
           0,
           1,
           1,
           0,
           1,
           1,
           1,
           1,
           1,
           1,
           1,
           1,
           1,
           1,
           1,
           1,
           1,
           1,
           0,
           1,
           0,
           1,
           1,
           1,
           1,
           1,
           1,
           1,
           1,
           1,
           1,
           1,
           1,
           1,
           1,
           1,
           1,
           1,
           1,
           1,
           1,
           1,
           1,
           1,
           1,
           1,
           1,
           1,
           1,
           1,
           1,
           1,
           1,
           1,
           1,
           1,
           1,
           1,
           0,
           1,
           1,
           1,
           1,
           1,
           1,
           1,
           1,
           1,
           1,
           1,
           1,
           1,
           1,
           1,
           0,
           1,
           1,
           1,
           1,
           1,
           0,
           1,
           1,
           1,
           1,
           1,
           1,
           1,
           1,
           1,
           1,
           1,
           1,
           1,
           1,
           1,
           1,
           1,
           1,
           1,
           0,
           1,
           1,
           1,
           1,
           1,
           1,
           1,
           1,
           1,
           1,
           1,
           1,
           1,
           1,
           0,
           1,
           1,
           1,
           1,
           1,
           0,
           1,
           1,
           1,
           1,
           1,
           1,
           1,
           1,
           1,
           1,
           1,
           1,
           1,
           1,
           1,
           1,
           0,
           1,
           1,
           1,
           1,
           1,
           1,
           1,
           1,
           1,
           1,
           1,
           1,
           1,
           1,
           1,
           1,
           1,
           1,
           1,
           0,
           1,
           1,
           1,
           1,
           1,
           1,
           1,
           1,
           1,
           1,
           1,
           1,
           1,
           1,
           1,
           1,
           1,
           1,
           1,
           1,
           1,
           1,
           1,
           1,
           0,
           1,
           1,
           1,
           1,
           1,
           1,
           1,
           1,
           1,
           1,
           0,
           1,
           1,
           1,
           1,
           1,
           0,
           1,
           1,
           1,
           1,
           1,
           1,
           1,
           1,
           1,
           1,
           1,
           1,
           1,
           1,
           1,
           1,
           1,
           1,
           1,
           1,
           1,
           1,
           1,
           1,
           1,
           1,
           1,
           0,
           1,
           1,
           1,
           1,
           1,
           1,
           1,
           1,
           1,
           0,
           1,
           1,
           0,
           1,
           1,
           1,
           1,
           1,
           1,
           1,
           1,
           1,
           1,
           1,
           1,
           1
          ],
          "coloraxis": "coloraxis",
          "symbol": "circle"
         },
         "mode": "markers",
         "name": "",
         "orientation": "v",
         "showlegend": false,
         "type": "scatter",
         "x": [
          161.26205444335938,
          75.09414672851562,
          72.118896484375,
          161.10960388183594,
          55.881805419921875,
          90.65074920654297,
          -41.70270538330078,
          -43.09858703613281,
          72.77503204345703,
          148.3407745361328,
          -38.94137191772461,
          14.228137969970703,
          -50.08202362060547,
          -122.66447448730469,
          25.158540725708008,
          -23.288434982299805,
          -158.6270294189453,
          43.680660247802734,
          137.7779541015625,
          90.65074920654297,
          -84.67096710205078,
          -26.367511749267578,
          165.99664306640625,
          83.05638885498047,
          -48.73027801513672,
          -84.67096710205078,
          90.4336166381836,
          -40.2663459777832,
          -151.3729705810547,
          -2.277608633041382,
          -133.1979522705078,
          -52.015419006347656,
          147.49197387695312,
          19.366228103637695,
          -51.574703216552734,
          7.913290977478027,
          -80.93372344970703,
          -63.4201545715332,
          92.96172332763672,
          132.54238891601562,
          -146.3275909423828,
          77.41698455810547,
          43.56538009643555,
          93.96891021728516,
          -22.76110076904297,
          131.93675231933594,
          -129.31466674804688,
          -41.82807540893555,
          -151.3729705810547,
          -99.04637908935547,
          123.70674133300781,
          131.93675231933594,
          -25.925987243652344,
          -57.70584487915039,
          114.5876693725586,
          82.32403564453125,
          2.817214012145996,
          -54.67681884765625,
          131.93675231933594,
          -116.51567077636719,
          -118.11913299560547,
          55.881805419921875,
          43.680660247802734,
          74.59782409667969,
          96.05718231201172,
          96.22889709472656,
          122.1405029296875,
          -26.59939193725586,
          -20.040830612182617,
          -54.855167388916016,
          -24.375009536743164,
          -106.6121597290039,
          158.4438018798828,
          -151.3729705810547,
          -106.57647705078125,
          -15.743900299072266,
          -113.92389678955078,
          -88.81790161132812,
          -153.28701782226562,
          -11.798996925354004,
          -80.93372344970703,
          -151.3729705810547,
          -103.10114288330078,
          -118.11913299560547,
          5.314480781555176,
          -26.610448837280273,
          -19.86659812927246,
          91.40496063232422,
          -80.93372344970703,
          -122.66447448730469,
          98.15045166015625,
          40.418487548828125,
          -44.71728515625,
          -58.9165153503418,
          -80.93372344970703,
          104.83157348632812,
          -14.232447624206543,
          -11.594156265258789,
          74.59782409667969,
          -13.095303535461426,
          25.158540725708008,
          -38.07761001586914,
          90.65074920654297,
          -135.04153442382812,
          -33.72369384765625,
          -69.85812377929688,
          -74.53411102294922,
          -77.21874237060547,
          94.16820526123047,
          -2.795478582382202,
          -52.509281158447266,
          37.799739837646484,
          4.336775302886963,
          -42.679080963134766,
          25.158540725708008,
          -144.2319793701172,
          90.65074920654297,
          74.59782409667969,
          0.31212055683135986,
          67.50875854492188,
          96.64363098144531,
          -2.65092396736145,
          -56.248878479003906,
          99.1568832397461,
          112.11851501464844,
          150.42176818847656,
          -106.6121597290039,
          146.4271697998047,
          -25.40496253967285,
          -13.731741905212402,
          28.386924743652344,
          9.244514465332031,
          -66.66815948486328,
          43.18824768066406,
          -16.90215301513672,
          71.4029769897461,
          -64.95720672607422,
          76.88040924072266,
          -56.6566276550293,
          106.72150421142578,
          21.856433868408203,
          -32.32316970825195,
          -8.081040382385254,
          -7.082572937011719,
          86.08296203613281,
          22.62309455871582,
          -118.11913299560547,
          -20.040830612182617,
          34.727272033691406,
          -73.85871887207031,
          -68.66443634033203,
          158.4438018798828,
          28.386924743652344,
          -106.6121597290039,
          144.80726623535156,
          -98.22340393066406,
          -2.204638719558716,
          107.25901794433594,
          112.08094024658203,
          -65.09777069091797,
          -20.150094985961914,
          -80.93372344970703,
          74.59782409667969,
          96.22889709472656,
          -106.6121597290039,
          -15.743900299072266,
          148.07858276367188,
          159.4287567138672,
          7.226922035217285,
          96.22889709472656,
          -66.37181091308594,
          25.158540725708008,
          17.483213424682617,
          -13.617361068725586,
          -40.05537033081055,
          -46.83000946044922,
          134.93167114257812,
          52.1403694152832,
          170.1521759033203,
          -81.33394622802734,
          35.79581069946289,
          13.399048805236816,
          28.59162712097168,
          -53.40568161010742,
          -84.75143432617188,
          -22.817970275878906,
          -61.37887191772461,
          -106.6121597290039,
          35.79581069946289,
          -98.22340393066406,
          -0.8736944794654846,
          -7.375439643859863,
          -73.7631607055664,
          55.39849090576172,
          -80.93372344970703,
          35.79581069946289,
          98.15045166015625,
          -65.66905975341797,
          74.59782409667969,
          -57.972110748291016,
          20.600507736206055,
          -80.93372344970703,
          -53.40568161010742,
          25.480117797851562,
          9.582198143005371,
          130.89610290527344,
          35.22299575805664,
          35.79581069946289,
          -44.25400924682617,
          129.7755126953125,
          55.03791046142578,
          -60.49699401855469,
          135.03268432617188,
          -63.4201545715332,
          135.03268432617188,
          101.50111389160156,
          28.819536209106445,
          -36.00102615356445,
          155.54466247558594,
          -45.907997131347656,
          8.55148696899414,
          -5.625102519989014,
          96.22889709472656,
          -72.0426025390625,
          7.444239616394043,
          -77.53290557861328,
          8.025836944580078,
          -27.8889102935791,
          -63.180809020996094,
          22.390522003173828,
          -73.0520248413086,
          97.37272644042969,
          -10.837811470031738,
          -74.11302185058594,
          20.759300231933594,
          -153.28701782226562,
          -7.51863956451416,
          44.00975036621094,
          -72.82528686523438,
          -75.8323745727539,
          -158.6270294189453,
          -82.48661041259766,
          35.79581069946289,
          74.59782409667969,
          3.6392157077789307,
          55.881805419921875,
          119.1363754272461,
          0.06896483898162842,
          54.57941436767578,
          90.65074920654297,
          43.98799133300781,
          117.06085968017578,
          85.43441772460938,
          -1.967827320098877,
          -54.67681884765625,
          83.25038146972656,
          115.47738647460938,
          90.65074920654297,
          7.68049430847168,
          -100.93679809570312,
          -88.68159484863281,
          39.33559799194336,
          -84.7743148803711,
          16.57185173034668,
          -21.603052139282227,
          97.02261352539062,
          156.01834106445312,
          0.35061249136924744,
          -151.3729705810547,
          -100.58106231689453,
          -3.3304710388183594,
          -57.972110748291016,
          27.786348342895508,
          -85.06974792480469,
          -153.5575714111328,
          72.118896484375,
          -29.590511322021484,
          46.98523712158203,
          20.186159133911133,
          98.15045166015625,
          -90.07154846191406,
          -31.279518127441406,
          53.53806686401367,
          104.7421646118164,
          -55.41001510620117,
          63.461795806884766,
          7.444239616394043,
          -89.15738677978516,
          -20.040830612182617,
          16.57185173034668,
          -41.82807540893555,
          90.65074920654297,
          -153.28701782226562,
          108.10796356201172,
          25.158540725708008,
          15.256710052490234,
          40.51752853393555,
          -117.08162689208984,
          -18.188472747802734,
          -80.93372344970703,
          109.87353515625,
          132.1025390625,
          48.05580139160156,
          -117.08162689208984,
          78.57172393798828,
          90.65074920654297,
          -31.29986572265625,
          -42.95248794555664,
          -151.5965118408203,
          90.65074920654297,
          -60.49708557128906,
          43.98799133300781,
          -11.103164672851562,
          47.543800354003906,
          -0.5367034673690796,
          -110.49259185791016,
          -109.54348754882812,
          -88.07743072509766,
          -114.57003021240234,
          -81.01948547363281,
          72.118896484375,
          55.12419509887695,
          -0.5367034673690796,
          53.53806686401367,
          17.662464141845703,
          89.80293273925781,
          116.38467407226562,
          90.65074920654297,
          -133.1979522705078,
          -122.66447448730469,
          19.03606414794922,
          -29.805667877197266,
          47.37107467651367,
          90.4336166381836,
          98.15045166015625,
          -113.42013549804688,
          98.15045166015625,
          -149.38922119140625,
          -143.39511108398438,
          -92.5840072631836,
          51.00053024291992,
          59.55259323120117,
          68.36233520507812,
          98.15045166015625,
          74.76397705078125,
          21.856433868408203,
          74.76397705078125,
          -11.103164672851562,
          -81.26580047607422,
          145.85845947265625,
          0.6409602761268616,
          -122.66447448730469,
          40.51752853393555,
          14.146998405456543,
          -80.93372344970703,
          87.80496978759766,
          -5.385146617889404,
          14.146998405456543,
          -14.083008766174316,
          -80.93372344970703,
          -80.29800415039062,
          15.463908195495605,
          -68.17437744140625,
          -20.040830612182617,
          -100.51254272460938,
          9.030906677246094,
          43.98799133300781,
          -151.3729705810547,
          -158.6270294189453,
          -98.22340393066406,
          90.65074920654297,
          74.59782409667969,
          -96.15999603271484,
          119.96432495117188,
          -7.3270063400268555,
          66.79984283447266,
          90.65074920654297,
          -117.08162689208984,
          -108.2311019897461,
          74.76397705078125,
          -27.8889102935791,
          85.12833404541016,
          -105.46064758300781,
          -101.70854949951172,
          51.095176696777344,
          33.34288024902344,
          -10.69953441619873,
          -62.4801025390625,
          -94.433349609375,
          35.32927322387695,
          24.67169189453125,
          -66.92057037353516,
          -79.67100524902344,
          -63.158180236816406,
          -52.57870101928711,
          -79.01158142089844,
          43.98799133300781,
          40.045509338378906,
          7.68049430847168,
          -3.1533007621765137,
          13.890931129455566,
          -1.9544426202774048,
          -35.474369049072266,
          -90.9028091430664,
          -27.8889102935791,
          -94.7668685913086,
          -96.15999603271484,
          80.69847869873047,
          29.88544464111328,
          -23.95262336730957,
          59.3798713684082,
          -63.158180236816406,
          90.4336166381836,
          124.54756927490234,
          -117.08162689208984,
          24.08446502685547,
          -113.13410186767578,
          -97.75298309326172,
          -122.66447448730469,
          78.57172393798828,
          -92.17204284667969,
          91.75330352783203,
          109.87353515625,
          -44.25400924682617,
          26.220048904418945,
          131.93675231933594,
          -99.33121490478516,
          -81.19184875488281,
          42.92025375366211,
          39.38837432861328,
          -49.47939682006836,
          -113.13410186767578,
          106.21998596191406,
          136.1350555419922,
          -25.498720169067383,
          98.15045166015625,
          62.94450378417969,
          108.10796356201172,
          38.63745880126953,
          -44.209163665771484,
          90.65074920654297,
          -151.3729705810547,
          29.22446632385254,
          72.93728637695312,
          -44.25400924682617,
          -96.15999603271484,
          109.87353515625,
          -58.46116638183594,
          17.08724594116211,
          90.65074920654297,
          -58.46116638183594,
          90.65074920654297,
          7.68049430847168,
          -140.12193298339844,
          -100.92784118652344,
          101.09992980957031,
          -90.77281188964844,
          -153.28701782226562,
          121.06172943115234,
          90.65074920654297,
          -107.8675308227539,
          112.31401824951172,
          31.769298553466797,
          96.22889709472656,
          -8.690168380737305,
          131.93675231933594,
          -81.37892150878906,
          98.15045166015625,
          105.89225769042969,
          5.361209869384766,
          12.376795768737793,
          -108.70695495605469,
          55.74376678466797,
          -133.1979522705078,
          -23.725934982299805,
          -37.23267364501953,
          72.93728637695312,
          -63.158180236816406,
          -107.57225036621094,
          -54.095882415771484,
          -84.67096710205078,
          119.9308853149414,
          -5.009938716888428,
          -80.93372344970703,
          -84.67096710205078,
          163.56838989257812,
          -79.2540283203125,
          -58.80374526977539,
          33.37666320800781,
          23.739255905151367,
          -97.35603332519531,
          132.8594207763672,
          90.65074920654297,
          -139.18191528320312,
          64.119873046875,
          121.55209350585938,
          42.29288101196289,
          -16.097593307495117,
          35.299041748046875,
          -27.554105758666992
         ],
         "xaxis": "x",
         "y": [
          -51.577823638916016,
          -4.317234992980957,
          67.3607406616211,
          -101.8382339477539,
          -17.591083526611328,
          172.4369354248047,
          96.05986785888672,
          -86.71283721923828,
          39.95307922363281,
          -45.187355041503906,
          -159.4265594482422,
          -71.25982666015625,
          16.408950805664062,
          49.342105865478516,
          158.53146362304688,
          -86.0372314453125,
          29.279367446899414,
          -45.41641616821289,
          -36.948184967041016,
          172.4369354248047,
          -106.26050567626953,
          3.357482433319092,
          -21.8884220123291,
          -108.77718353271484,
          -11.843620300292969,
          -106.26050567626953,
          140.574462890625,
          17.744775772094727,
          116.97158813476562,
          -181.0336456298828,
          -98.62826538085938,
          -0.974934995174408,
          -73.2392578125,
          -141.52381896972656,
          -70.31648254394531,
          -44.38902282714844,
          153.9850616455078,
          -67.80868530273438,
          -72.34820556640625,
          -72.23242950439453,
          -7.915519714355469,
          -67.59416961669922,
          11.092577934265137,
          -94.30360412597656,
          -69.22489166259766,
          105.64297485351562,
          63.53215408325195,
          49.96505355834961,
          116.97158813476562,
          -113.57679748535156,
          -59.33049774169922,
          105.64297485351562,
          -102.04169464111328,
          -7.957364559173584,
          -61.86083221435547,
          -93.20478820800781,
          -137.66128540039062,
          -90.83560180664062,
          105.64297485351562,
          -79.92938995361328,
          95.75968933105469,
          -17.591083526611328,
          -45.41641616821289,
          171.26058959960938,
          -30.344369888305664,
          -144.48858642578125,
          -48.356956481933594,
          -22.380653381347656,
          83.23377227783203,
          7.3139238357543945,
          54.312313079833984,
          100.40184020996094,
          -29.219602584838867,
          116.97158813476562,
          -32.692596435546875,
          142.68020629882812,
          52.42326354980469,
          73.31330871582031,
          93.50222778320312,
          93.27342987060547,
          153.9850616455078,
          116.97158813476562,
          -67.58959197998047,
          95.75968933105469,
          -162.14111328125,
          -3.1882822513580322,
          -20.026451110839844,
          -50.47431182861328,
          153.9850616455078,
          49.342105865478516,
          77.47811126708984,
          131.3318328857422,
          7.489775657653809,
          14.898825645446777,
          153.9850616455078,
          -77.19274139404297,
          68.06208801269531,
          -66.65543365478516,
          171.26058959960938,
          -168.9818115234375,
          158.53146362304688,
          75.8369140625,
          172.4369354248047,
          -25.6156063079834,
          -29.533945083618164,
          0.05356539040803909,
          -89.9541244506836,
          -55.83081817626953,
          38.11711883544922,
          179.33119201660156,
          -101.47431182861328,
          -62.12428283691406,
          89.68228912353516,
          -2.6762280464172363,
          158.53146362304688,
          -56.546234130859375,
          172.4369354248047,
          171.26058959960938,
          -151.21397399902344,
          39.93490219116211,
          -78.5726318359375,
          61.448753356933594,
          34.92207336425781,
          36.83112335205078,
          -87.2533950805664,
          -5.3227667808532715,
          100.40184020996094,
          -52.76716613769531,
          11.1421480178833,
          -135.4431610107422,
          130.92269897460938,
          -115.93133544921875,
          -7.596381187438965,
          121.92623901367188,
          43.711612701416016,
          -80.40342712402344,
          9.050065040588379,
          -113.48112487792969,
          24.201778411865234,
          -33.87004470825195,
          25.908893585205078,
          112.71455383300781,
          57.702674865722656,
          -108.87538146972656,
          -15.532744407653809,
          -34.37674331665039,
          95.75968933105469,
          83.23377227783203,
          -173.1178741455078,
          -42.49391174316406,
          -103.60649108886719,
          -29.219602584838867,
          130.92269897460938,
          100.40184020996094,
          -84.49392700195312,
          -134.02378845214844,
          55.0012092590332,
          -71.64669036865234,
          -10.521628379821777,
          29.066377639770508,
          31.047941207885742,
          153.9850616455078,
          171.26058959960938,
          -144.48858642578125,
          100.40184020996094,
          142.68020629882812,
          -25.4494571685791,
          -95.75633239746094,
          -155.46034240722656,
          -144.48858642578125,
          -25.289228439331055,
          158.53146362304688,
          14.527790069580078,
          -153.4298095703125,
          -135.0489959716797,
          27.580791473388672,
          -25.417491912841797,
          -81.67902374267578,
          -40.31270217895508,
          18.557767868041992,
          -94.4767837524414,
          -49.41902542114258,
          -153.94630432128906,
          -41.64406967163086,
          -81.60360717773438,
          72.04009246826172,
          0.8883649706840515,
          100.40184020996094,
          -94.4767837524414,
          -134.02378845214844,
          17.474191665649414,
          -53.84934997558594,
          23.896282196044922,
          19.83152961730957,
          153.9850616455078,
          -94.4767837524414,
          77.47811126708984,
          19.706531524658203,
          171.26058959960938,
          -116.44517517089844,
          88.59368896484375,
          153.9850616455078,
          -41.64406967163086,
          -42.58732986450195,
          -110.85265350341797,
          -42.67109680175781,
          -121.2751693725586,
          -94.4767837524414,
          116.44695281982422,
          -86.85997772216797,
          -64.38304901123047,
          -94.11771392822266,
          -113.23888397216797,
          -67.80868530273438,
          -113.23888397216797,
          -88.10518646240234,
          74.80290985107422,
          -48.53728103637695,
          -43.59765625,
          -115.96366882324219,
          -148.04994201660156,
          -71.593017578125,
          -144.48858642578125,
          -15.478328704833984,
          73.66535186767578,
          -24.203269958496094,
          0.7791011929512024,
          122.1542739868164,
          -74.46249389648438,
          95.1452865600586,
          7.230129718780518,
          14.208970069885254,
          36.682437896728516,
          33.14548110961914,
          -120.39947509765625,
          93.50222778320312,
          77.09388732910156,
          -59.895748138427734,
          15.16942310333252,
          -6.784735679626465,
          29.279367446899414,
          28.067094802856445,
          -94.4767837524414,
          171.26058959960938,
          -89.67089080810547,
          -17.591083526611328,
          4.830848217010498,
          -167.57203674316406,
          -100.90235137939453,
          172.4369354248047,
          55.12260055541992,
          -52.77766036987305,
          -114.06623077392578,
          -17.50696563720703,
          -90.83560180664062,
          2.1024248600006104,
          -43.05451583862305,
          172.4369354248047,
          111.68224334716797,
          110.15809631347656,
          -22.44455337524414,
          2.966839075088501,
          -135.89967346191406,
          -2.843930959701538,
          -157.2848358154297,
          -9.178265571594238,
          -64.58917236328125,
          -58.650875091552734,
          116.97158813476562,
          -13.71654987335205,
          89.5309066772461,
          -116.44517517089844,
          -34.00492477416992,
          -5.0849409103393555,
          -62.330223083496094,
          67.3607406616211,
          93.38865661621094,
          18.694345474243164,
          35.91023635864258,
          77.47811126708984,
          22.26273536682129,
          -99.92008209228516,
          99.20783996582031,
          62.02734375,
          162.78683471679688,
          -42.27220916748047,
          73.66535186767578,
          12.659202575683594,
          83.23377227783203,
          -2.843930959701538,
          49.96505355834961,
          172.4369354248047,
          93.50222778320312,
          -113.67764282226562,
          158.53146362304688,
          26.53667449951172,
          85.08586883544922,
          108.2024917602539,
          -86.76478576660156,
          153.9850616455078,
          -24.666547775268555,
          7.724198341369629,
          -111.00200653076172,
          108.2024917602539,
          113.17998504638672,
          172.4369354248047,
          -18.095497131347656,
          124.2571792602539,
          -12.980908393859863,
          172.4369354248047,
          62.35540771484375,
          55.12260055541992,
          180.10292053222656,
          124.95684051513672,
          -29.32733726501465,
          -112.91081237792969,
          67.79691314697266,
          3.6853299140930176,
          -38.235443115234375,
          9.904119491577148,
          67.3607406616211,
          5.0612311363220215,
          -29.32733726501465,
          99.20783996582031,
          -18.707294464111328,
          -84.25566864013672,
          22.626434326171875,
          172.4369354248047,
          -98.62826538085938,
          49.342105865478516,
          -73.87721252441406,
          -118.43032836914062,
          3.3675503730773926,
          140.574462890625,
          77.47811126708984,
          -30.880924224853516,
          77.47811126708984,
          -20.29252815246582,
          -16.34069061279297,
          -89.59197998046875,
          12.14930248260498,
          -77.69651794433594,
          21.758943557739258,
          77.47811126708984,
          -32.25830841064453,
          25.908893585205078,
          -32.25830841064453,
          180.10292053222656,
          40.42713928222656,
          -66.21559143066406,
          38.86433410644531,
          49.342105865478516,
          85.08586883544922,
          -161.8226318359375,
          153.9850616455078,
          21.762052536010742,
          19.80950927734375,
          -161.8226318359375,
          -123.71707916259766,
          153.9850616455078,
          -113.5625228881836,
          -153.14303588867188,
          -150.31503295898438,
          83.23377227783203,
          -108.26634979248047,
          -169.42410278320312,
          55.12260055541992,
          116.97158813476562,
          29.279367446899414,
          -134.02378845214844,
          172.4369354248047,
          171.26058959960938,
          -64.33002471923828,
          -95.74333953857422,
          -38.66477584838867,
          -3.1610074043273926,
          172.4369354248047,
          108.2024917602539,
          -41.46379470825195,
          -32.25830841064453,
          122.1542739868164,
          17.43767738342285,
          -3.6922249794006348,
          -37.94798278808594,
          26.74820327758789,
          -144.9048614501953,
          138.25794982910156,
          -15.969429969787598,
          -127.19243621826172,
          10.724045753479004,
          -104.04486846923828,
          40.405792236328125,
          -75.61416625976562,
          69.58361053466797,
          -130.48171997070312,
          -41.84302520751953,
          55.12260055541992,
          -29.32781219482422,
          111.68224334716797,
          -115.2657241821289,
          -180.60610961914062,
          -158.9796600341797,
          -74.76392364501953,
          34.06623458862305,
          122.1542739868164,
          -3.40219783782959,
          -64.33002471923828,
          -52.85553741455078,
          -22.76177215576172,
          34.41538619995117,
          12.641149520874023,
          69.58361053466797,
          140.574462890625,
          -31.894901275634766,
          108.2024917602539,
          -54.543479919433594,
          -85.67672729492188,
          15.431584358215332,
          49.342105865478516,
          113.17998504638672,
          -76.0112075805664,
          -13.107341766357422,
          -24.666547775268555,
          116.44695281982422,
          -170.10545349121094,
          105.64297485351562,
          26.89801025390625,
          -129.05731201171875,
          -66.32915496826172,
          -124.28758239746094,
          164.29603576660156,
          -85.67672729492188,
          -95.62403106689453,
          -1.3824876546859741,
          -15.435324668884277,
          77.47811126708984,
          -68.08747100830078,
          -113.67764282226562,
          18.301729202270508,
          72.86429595947266,
          172.4369354248047,
          116.97158813476562,
          99.24114227294922,
          87.32894134521484,
          116.44695281982422,
          -64.33002471923828,
          -24.666547775268555,
          -159.8448944091797,
          -24.524477005004883,
          172.4369354248047,
          -159.8448944091797,
          172.4369354248047,
          111.68224334716797,
          96.81663513183594,
          -93.36934661865234,
          -61.768898010253906,
          -12.395384788513184,
          93.50222778320312,
          -67.81804656982422,
          172.4369354248047,
          6.852566719055176,
          -0.2407602220773697,
          51.777976989746094,
          -144.48858642578125,
          4.731557846069336,
          105.64297485351562,
          -14.299757957458496,
          77.47811126708984,
          -49.30091094970703,
          -95.65178680419922,
          54.502803802490234,
          115.1429443359375,
          -41.431697845458984,
          -98.62826538085938,
          -64.19544219970703,
          -69.82976531982422,
          87.32894134521484,
          69.58361053466797,
          18.246437072753906,
          -21.145723342895508,
          -106.26050567626953,
          -20.46045684814453,
          -9.64073657989502,
          153.9850616455078,
          -106.26050567626953,
          -75.81757354736328,
          1.305179476737976,
          -133.71160888671875,
          -14.222455024719238,
          73.90886688232422,
          5.70342493057251,
          -58.91041564941406,
          172.4369354248047,
          -10.541409492492676,
          -56.69532775878906,
          -76.46248626708984,
          25.83705711364746,
          -38.35368728637695,
          -75.93929290771484,
          -47.80938720703125
         ],
         "yaxis": "y"
        }
       ],
       "layout": {
        "coloraxis": {
         "colorbar": {
          "title": {
           "text": "Predicted Label"
          }
         },
         "colorscale": [
          [
           0,
           "#0d0887"
          ],
          [
           0.1111111111111111,
           "#46039f"
          ],
          [
           0.2222222222222222,
           "#7201a8"
          ],
          [
           0.3333333333333333,
           "#9c179e"
          ],
          [
           0.4444444444444444,
           "#bd3786"
          ],
          [
           0.5555555555555556,
           "#d8576b"
          ],
          [
           0.6666666666666666,
           "#ed7953"
          ],
          [
           0.7777777777777778,
           "#fb9f3a"
          ],
          [
           0.8888888888888888,
           "#fdca26"
          ],
          [
           1,
           "#f0f921"
          ]
         ]
        },
        "legend": {
         "tracegroupgap": 0
        },
        "template": {
         "data": {
          "bar": [
           {
            "error_x": {
             "color": "#2a3f5f"
            },
            "error_y": {
             "color": "#2a3f5f"
            },
            "marker": {
             "line": {
              "color": "#E5ECF6",
              "width": 0.5
             },
             "pattern": {
              "fillmode": "overlay",
              "size": 10,
              "solidity": 0.2
             }
            },
            "type": "bar"
           }
          ],
          "barpolar": [
           {
            "marker": {
             "line": {
              "color": "#E5ECF6",
              "width": 0.5
             },
             "pattern": {
              "fillmode": "overlay",
              "size": 10,
              "solidity": 0.2
             }
            },
            "type": "barpolar"
           }
          ],
          "carpet": [
           {
            "aaxis": {
             "endlinecolor": "#2a3f5f",
             "gridcolor": "white",
             "linecolor": "white",
             "minorgridcolor": "white",
             "startlinecolor": "#2a3f5f"
            },
            "baxis": {
             "endlinecolor": "#2a3f5f",
             "gridcolor": "white",
             "linecolor": "white",
             "minorgridcolor": "white",
             "startlinecolor": "#2a3f5f"
            },
            "type": "carpet"
           }
          ],
          "choropleth": [
           {
            "colorbar": {
             "outlinewidth": 0,
             "ticks": ""
            },
            "type": "choropleth"
           }
          ],
          "contour": [
           {
            "colorbar": {
             "outlinewidth": 0,
             "ticks": ""
            },
            "colorscale": [
             [
              0,
              "#0d0887"
             ],
             [
              0.1111111111111111,
              "#46039f"
             ],
             [
              0.2222222222222222,
              "#7201a8"
             ],
             [
              0.3333333333333333,
              "#9c179e"
             ],
             [
              0.4444444444444444,
              "#bd3786"
             ],
             [
              0.5555555555555556,
              "#d8576b"
             ],
             [
              0.6666666666666666,
              "#ed7953"
             ],
             [
              0.7777777777777778,
              "#fb9f3a"
             ],
             [
              0.8888888888888888,
              "#fdca26"
             ],
             [
              1,
              "#f0f921"
             ]
            ],
            "type": "contour"
           }
          ],
          "contourcarpet": [
           {
            "colorbar": {
             "outlinewidth": 0,
             "ticks": ""
            },
            "type": "contourcarpet"
           }
          ],
          "heatmap": [
           {
            "colorbar": {
             "outlinewidth": 0,
             "ticks": ""
            },
            "colorscale": [
             [
              0,
              "#0d0887"
             ],
             [
              0.1111111111111111,
              "#46039f"
             ],
             [
              0.2222222222222222,
              "#7201a8"
             ],
             [
              0.3333333333333333,
              "#9c179e"
             ],
             [
              0.4444444444444444,
              "#bd3786"
             ],
             [
              0.5555555555555556,
              "#d8576b"
             ],
             [
              0.6666666666666666,
              "#ed7953"
             ],
             [
              0.7777777777777778,
              "#fb9f3a"
             ],
             [
              0.8888888888888888,
              "#fdca26"
             ],
             [
              1,
              "#f0f921"
             ]
            ],
            "type": "heatmap"
           }
          ],
          "heatmapgl": [
           {
            "colorbar": {
             "outlinewidth": 0,
             "ticks": ""
            },
            "colorscale": [
             [
              0,
              "#0d0887"
             ],
             [
              0.1111111111111111,
              "#46039f"
             ],
             [
              0.2222222222222222,
              "#7201a8"
             ],
             [
              0.3333333333333333,
              "#9c179e"
             ],
             [
              0.4444444444444444,
              "#bd3786"
             ],
             [
              0.5555555555555556,
              "#d8576b"
             ],
             [
              0.6666666666666666,
              "#ed7953"
             ],
             [
              0.7777777777777778,
              "#fb9f3a"
             ],
             [
              0.8888888888888888,
              "#fdca26"
             ],
             [
              1,
              "#f0f921"
             ]
            ],
            "type": "heatmapgl"
           }
          ],
          "histogram": [
           {
            "marker": {
             "pattern": {
              "fillmode": "overlay",
              "size": 10,
              "solidity": 0.2
             }
            },
            "type": "histogram"
           }
          ],
          "histogram2d": [
           {
            "colorbar": {
             "outlinewidth": 0,
             "ticks": ""
            },
            "colorscale": [
             [
              0,
              "#0d0887"
             ],
             [
              0.1111111111111111,
              "#46039f"
             ],
             [
              0.2222222222222222,
              "#7201a8"
             ],
             [
              0.3333333333333333,
              "#9c179e"
             ],
             [
              0.4444444444444444,
              "#bd3786"
             ],
             [
              0.5555555555555556,
              "#d8576b"
             ],
             [
              0.6666666666666666,
              "#ed7953"
             ],
             [
              0.7777777777777778,
              "#fb9f3a"
             ],
             [
              0.8888888888888888,
              "#fdca26"
             ],
             [
              1,
              "#f0f921"
             ]
            ],
            "type": "histogram2d"
           }
          ],
          "histogram2dcontour": [
           {
            "colorbar": {
             "outlinewidth": 0,
             "ticks": ""
            },
            "colorscale": [
             [
              0,
              "#0d0887"
             ],
             [
              0.1111111111111111,
              "#46039f"
             ],
             [
              0.2222222222222222,
              "#7201a8"
             ],
             [
              0.3333333333333333,
              "#9c179e"
             ],
             [
              0.4444444444444444,
              "#bd3786"
             ],
             [
              0.5555555555555556,
              "#d8576b"
             ],
             [
              0.6666666666666666,
              "#ed7953"
             ],
             [
              0.7777777777777778,
              "#fb9f3a"
             ],
             [
              0.8888888888888888,
              "#fdca26"
             ],
             [
              1,
              "#f0f921"
             ]
            ],
            "type": "histogram2dcontour"
           }
          ],
          "mesh3d": [
           {
            "colorbar": {
             "outlinewidth": 0,
             "ticks": ""
            },
            "type": "mesh3d"
           }
          ],
          "parcoords": [
           {
            "line": {
             "colorbar": {
              "outlinewidth": 0,
              "ticks": ""
             }
            },
            "type": "parcoords"
           }
          ],
          "pie": [
           {
            "automargin": true,
            "type": "pie"
           }
          ],
          "scatter": [
           {
            "fillpattern": {
             "fillmode": "overlay",
             "size": 10,
             "solidity": 0.2
            },
            "type": "scatter"
           }
          ],
          "scatter3d": [
           {
            "line": {
             "colorbar": {
              "outlinewidth": 0,
              "ticks": ""
             }
            },
            "marker": {
             "colorbar": {
              "outlinewidth": 0,
              "ticks": ""
             }
            },
            "type": "scatter3d"
           }
          ],
          "scattercarpet": [
           {
            "marker": {
             "colorbar": {
              "outlinewidth": 0,
              "ticks": ""
             }
            },
            "type": "scattercarpet"
           }
          ],
          "scattergeo": [
           {
            "marker": {
             "colorbar": {
              "outlinewidth": 0,
              "ticks": ""
             }
            },
            "type": "scattergeo"
           }
          ],
          "scattergl": [
           {
            "marker": {
             "colorbar": {
              "outlinewidth": 0,
              "ticks": ""
             }
            },
            "type": "scattergl"
           }
          ],
          "scattermapbox": [
           {
            "marker": {
             "colorbar": {
              "outlinewidth": 0,
              "ticks": ""
             }
            },
            "type": "scattermapbox"
           }
          ],
          "scatterpolar": [
           {
            "marker": {
             "colorbar": {
              "outlinewidth": 0,
              "ticks": ""
             }
            },
            "type": "scatterpolar"
           }
          ],
          "scatterpolargl": [
           {
            "marker": {
             "colorbar": {
              "outlinewidth": 0,
              "ticks": ""
             }
            },
            "type": "scatterpolargl"
           }
          ],
          "scatterternary": [
           {
            "marker": {
             "colorbar": {
              "outlinewidth": 0,
              "ticks": ""
             }
            },
            "type": "scatterternary"
           }
          ],
          "surface": [
           {
            "colorbar": {
             "outlinewidth": 0,
             "ticks": ""
            },
            "colorscale": [
             [
              0,
              "#0d0887"
             ],
             [
              0.1111111111111111,
              "#46039f"
             ],
             [
              0.2222222222222222,
              "#7201a8"
             ],
             [
              0.3333333333333333,
              "#9c179e"
             ],
             [
              0.4444444444444444,
              "#bd3786"
             ],
             [
              0.5555555555555556,
              "#d8576b"
             ],
             [
              0.6666666666666666,
              "#ed7953"
             ],
             [
              0.7777777777777778,
              "#fb9f3a"
             ],
             [
              0.8888888888888888,
              "#fdca26"
             ],
             [
              1,
              "#f0f921"
             ]
            ],
            "type": "surface"
           }
          ],
          "table": [
           {
            "cells": {
             "fill": {
              "color": "#EBF0F8"
             },
             "line": {
              "color": "white"
             }
            },
            "header": {
             "fill": {
              "color": "#C8D4E3"
             },
             "line": {
              "color": "white"
             }
            },
            "type": "table"
           }
          ]
         },
         "layout": {
          "annotationdefaults": {
           "arrowcolor": "#2a3f5f",
           "arrowhead": 0,
           "arrowwidth": 1
          },
          "autotypenumbers": "strict",
          "coloraxis": {
           "colorbar": {
            "outlinewidth": 0,
            "ticks": ""
           }
          },
          "colorscale": {
           "diverging": [
            [
             0,
             "#8e0152"
            ],
            [
             0.1,
             "#c51b7d"
            ],
            [
             0.2,
             "#de77ae"
            ],
            [
             0.3,
             "#f1b6da"
            ],
            [
             0.4,
             "#fde0ef"
            ],
            [
             0.5,
             "#f7f7f7"
            ],
            [
             0.6,
             "#e6f5d0"
            ],
            [
             0.7,
             "#b8e186"
            ],
            [
             0.8,
             "#7fbc41"
            ],
            [
             0.9,
             "#4d9221"
            ],
            [
             1,
             "#276419"
            ]
           ],
           "sequential": [
            [
             0,
             "#0d0887"
            ],
            [
             0.1111111111111111,
             "#46039f"
            ],
            [
             0.2222222222222222,
             "#7201a8"
            ],
            [
             0.3333333333333333,
             "#9c179e"
            ],
            [
             0.4444444444444444,
             "#bd3786"
            ],
            [
             0.5555555555555556,
             "#d8576b"
            ],
            [
             0.6666666666666666,
             "#ed7953"
            ],
            [
             0.7777777777777778,
             "#fb9f3a"
            ],
            [
             0.8888888888888888,
             "#fdca26"
            ],
            [
             1,
             "#f0f921"
            ]
           ],
           "sequentialminus": [
            [
             0,
             "#0d0887"
            ],
            [
             0.1111111111111111,
             "#46039f"
            ],
            [
             0.2222222222222222,
             "#7201a8"
            ],
            [
             0.3333333333333333,
             "#9c179e"
            ],
            [
             0.4444444444444444,
             "#bd3786"
            ],
            [
             0.5555555555555556,
             "#d8576b"
            ],
            [
             0.6666666666666666,
             "#ed7953"
            ],
            [
             0.7777777777777778,
             "#fb9f3a"
            ],
            [
             0.8888888888888888,
             "#fdca26"
            ],
            [
             1,
             "#f0f921"
            ]
           ]
          },
          "colorway": [
           "#636efa",
           "#EF553B",
           "#00cc96",
           "#ab63fa",
           "#FFA15A",
           "#19d3f3",
           "#FF6692",
           "#B6E880",
           "#FF97FF",
           "#FECB52"
          ],
          "font": {
           "color": "#2a3f5f"
          },
          "geo": {
           "bgcolor": "white",
           "lakecolor": "white",
           "landcolor": "#E5ECF6",
           "showlakes": true,
           "showland": true,
           "subunitcolor": "white"
          },
          "hoverlabel": {
           "align": "left"
          },
          "hovermode": "closest",
          "mapbox": {
           "style": "light"
          },
          "paper_bgcolor": "white",
          "plot_bgcolor": "#E5ECF6",
          "polar": {
           "angularaxis": {
            "gridcolor": "white",
            "linecolor": "white",
            "ticks": ""
           },
           "bgcolor": "#E5ECF6",
           "radialaxis": {
            "gridcolor": "white",
            "linecolor": "white",
            "ticks": ""
           }
          },
          "scene": {
           "xaxis": {
            "backgroundcolor": "#E5ECF6",
            "gridcolor": "white",
            "gridwidth": 2,
            "linecolor": "white",
            "showbackground": true,
            "ticks": "",
            "zerolinecolor": "white"
           },
           "yaxis": {
            "backgroundcolor": "#E5ECF6",
            "gridcolor": "white",
            "gridwidth": 2,
            "linecolor": "white",
            "showbackground": true,
            "ticks": "",
            "zerolinecolor": "white"
           },
           "zaxis": {
            "backgroundcolor": "#E5ECF6",
            "gridcolor": "white",
            "gridwidth": 2,
            "linecolor": "white",
            "showbackground": true,
            "ticks": "",
            "zerolinecolor": "white"
           }
          },
          "shapedefaults": {
           "line": {
            "color": "#2a3f5f"
           }
          },
          "ternary": {
           "aaxis": {
            "gridcolor": "white",
            "linecolor": "white",
            "ticks": ""
           },
           "baxis": {
            "gridcolor": "white",
            "linecolor": "white",
            "ticks": ""
           },
           "bgcolor": "#E5ECF6",
           "caxis": {
            "gridcolor": "white",
            "linecolor": "white",
            "ticks": ""
           }
          },
          "title": {
           "x": 0.05
          },
          "xaxis": {
           "automargin": true,
           "gridcolor": "white",
           "linecolor": "white",
           "ticks": "",
           "title": {
            "standoff": 15
           },
           "zerolinecolor": "white",
           "zerolinewidth": 2
          },
          "yaxis": {
           "automargin": true,
           "gridcolor": "white",
           "linecolor": "white",
           "ticks": "",
           "title": {
            "standoff": 15
           },
           "zerolinecolor": "white",
           "zerolinewidth": 2
          }
         }
        },
        "title": {
         "text": "Wizualizacja TSNE dla PEFT"
        },
        "xaxis": {
         "anchor": "y",
         "domain": [
          0,
          1
         ],
         "title": {
          "text": "x"
         }
        },
        "yaxis": {
         "anchor": "x",
         "domain": [
          0,
          1
         ],
         "title": {
          "text": "y"
         }
        }
       }
      }
     },
     "metadata": {},
     "output_type": "display_data"
    }
   ],
   "source": [
    "# TSNE - Wizualizacja nieliniowa\n",
    "scaler = StandardScaler()\n",
    "scaled_vectors = scaler.fit_transform(embeddings)\n",
    "\n",
    "tsne = TSNE(n_components=2, random_state=42).fit_transform(scaled_vectors)\n",
    "\n",
    "df_tsne = pd.DataFrame(tsne, columns=['x', 'y'])\n",
    "df_tsne['Predicted Label']  = [predicted_labels[i] for i in range(len(predicted_labels))]\n",
    "df_tsne['Text'] = dataset['test']['text']\n",
    "df_tsne['True label'] = [true_labels[i] for i in range(len(true_labels))]\n",
    "\n",
    "fig = px.scatter(\n",
    "    df_tsne, \n",
    "    x='x', \n",
    "    y='y', \n",
    "    color='Predicted Label', \n",
    "    hover_data={'Text': True, 'True label': True}, \n",
    "    title=\"Wizualizacja TSNE dla PEFT\",\n",
    ")\n",
    "fig.show()"
   ]
  }
 ],
 "metadata": {
  "kernelspec": {
   "display_name": ".venv",
   "language": "python",
   "name": "python3"
  },
  "language_info": {
   "codemirror_mode": {
    "name": "ipython",
    "version": 3
   },
   "file_extension": ".py",
   "mimetype": "text/x-python",
   "name": "python",
   "nbconvert_exporter": "python",
   "pygments_lexer": "ipython3",
   "version": "3.10.12"
  }
 },
 "nbformat": 4,
 "nbformat_minor": 2
}
