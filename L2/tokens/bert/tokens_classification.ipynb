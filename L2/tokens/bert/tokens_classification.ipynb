{
 "cells": [
  {
   "cell_type": "code",
   "execution_count": 47,
   "metadata": {},
   "outputs": [],
   "source": [
    "from datasets import load_dataset\n",
    "from transformers import AutoTokenizer"
   ]
  },
  {
   "cell_type": "code",
   "execution_count": 48,
   "metadata": {},
   "outputs": [],
   "source": [
    "import torch\n",
    "from transformers import BertForTokenClassification, BertTokenizer,  BertForMaskedLM, Trainer, TrainingArguments\n",
    "from datasets import load_dataset\n",
    "from transformers import DataCollatorForTokenClassification\n",
    "from sklearn.metrics import accuracy_score, f1_score, precision_recall_fscore_support, confusion_matrix\n",
    "import numpy as np\n",
    "import os\n",
    "from transformers import BertTokenizerFast\n",
    "import evaluate\n",
    "import pandas as pd\n",
    "import random\n",
    "from datasets import DatasetDict\n",
    "from peft import get_peft_config, PeftModel, PeftConfig, get_peft_model, LoraConfig, TaskType\n",
    "from datasets import load_dataset"
   ]
  },
  {
   "cell_type": "code",
   "execution_count": 49,
   "metadata": {},
   "outputs": [
    {
     "name": "stdout",
     "output_type": "stream",
     "text": [
      "Using device: cuda\n"
     ]
    }
   ],
   "source": [
    "device = \"cuda\" if torch.cuda.is_available() else \"cpu\"\n",
    "print(f\"Using device: {device}\")"
   ]
  },
  {
   "cell_type": "code",
   "execution_count": 50,
   "metadata": {},
   "outputs": [],
   "source": [
    "os.environ['CUDA_LAUNCH_BLOCKING'] = \"1\""
   ]
  },
  {
   "cell_type": "code",
   "execution_count": 51,
   "metadata": {},
   "outputs": [],
   "source": [
    "dataset = load_dataset(\"jnlpba\", trust_remote_code = True)\n",
    "\n"
   ]
  },
  {
   "cell_type": "code",
   "execution_count": 52,
   "metadata": {},
   "outputs": [
    {
     "data": {
      "text/plain": [
       "DatasetDict({\n",
       "    train: Dataset({\n",
       "        features: ['id', 'tokens', 'ner_tags'],\n",
       "        num_rows: 18546\n",
       "    })\n",
       "    validation: Dataset({\n",
       "        features: ['id', 'tokens', 'ner_tags'],\n",
       "        num_rows: 3856\n",
       "    })\n",
       "})"
      ]
     },
     "execution_count": 52,
     "metadata": {},
     "output_type": "execute_result"
    }
   ],
   "source": [
    "dataset"
   ]
  },
  {
   "cell_type": "code",
   "execution_count": 53,
   "metadata": {},
   "outputs": [
    {
     "name": "stdout",
     "output_type": "stream",
     "text": [
      "Sampled train size: 927\n",
      "Sampled validation size: 192\n"
     ]
    }
   ],
   "source": [
    "# Define a sampling function\n",
    "def sample_dataset(data, ratio):\n",
    "    sample_size = int(len(data) * ratio)\n",
    "    return data.select(random.sample(range(len(data)), sample_size))\n",
    "\n",
    "# Set the ratio\n",
    "ratio = 0.05\n",
    "\n",
    "# Sample each subset\n",
    "train_sampled = sample_dataset(dataset['train'], ratio)\n",
    "validation_sampled = sample_dataset(dataset['validation'], ratio)\n",
    "\n",
    "# Check the sizes\n",
    "print(f\"Sampled train size: {len(train_sampled)}\")\n",
    "print(f\"Sampled validation size: {len(validation_sampled)}\")\n",
    "\n",
    "\n",
    "dataset = DatasetDict({\n",
    "    \"train\": train_sampled,\n",
    "    \"validation\": validation_sampled\n",
    "})\n"
   ]
  },
  {
   "cell_type": "code",
   "execution_count": 54,
   "metadata": {},
   "outputs": [
    {
     "data": {
      "text/plain": [
       "['Because',\n",
       " 'the',\n",
       " '-180',\n",
       " 'site',\n",
       " 'is',\n",
       " 'not',\n",
       " 'required',\n",
       " 'for',\n",
       " 'trans-activation',\n",
       " ',',\n",
       " 'it',\n",
       " 'was',\n",
       " 'possible',\n",
       " 'to',\n",
       " 'confirm',\n",
       " 'by',\n",
       " 'mutation',\n",
       " 'in',\n",
       " 'the',\n",
       " 'normal',\n",
       " 'mouse',\n",
       " 'IL-2',\n",
       " 'enhancer',\n",
       " 'that',\n",
       " 'this',\n",
       " 'site',\n",
       " 'is',\n",
       " 'absolutely',\n",
       " 'essential',\n",
       " 'for',\n",
       " 'anergy',\n",
       " 'induction',\n",
       " '.']"
      ]
     },
     "execution_count": 54,
     "metadata": {},
     "output_type": "execute_result"
    }
   ],
   "source": [
    "dataset['train'][0]['tokens']"
   ]
  },
  {
   "cell_type": "code",
   "execution_count": 55,
   "metadata": {},
   "outputs": [
    {
     "data": {
      "text/plain": [
       "[0,\n",
       " 0,\n",
       " 1,\n",
       " 2,\n",
       " 0,\n",
       " 0,\n",
       " 0,\n",
       " 0,\n",
       " 0,\n",
       " 0,\n",
       " 0,\n",
       " 0,\n",
       " 0,\n",
       " 0,\n",
       " 0,\n",
       " 0,\n",
       " 0,\n",
       " 0,\n",
       " 0,\n",
       " 0,\n",
       " 1,\n",
       " 2,\n",
       " 2,\n",
       " 0,\n",
       " 0,\n",
       " 0,\n",
       " 0,\n",
       " 0,\n",
       " 0,\n",
       " 0,\n",
       " 0,\n",
       " 0,\n",
       " 0]"
      ]
     },
     "execution_count": 55,
     "metadata": {},
     "output_type": "execute_result"
    }
   ],
   "source": [
    "dataset['train'][0]['ner_tags']"
   ]
  },
  {
   "cell_type": "code",
   "execution_count": 56,
   "metadata": {},
   "outputs": [
    {
     "data": {
      "text/plain": [
       "'3649'"
      ]
     },
     "execution_count": 56,
     "metadata": {},
     "output_type": "execute_result"
    }
   ],
   "source": [
    "dataset['train'][0]['id']"
   ]
  },
  {
   "cell_type": "code",
   "execution_count": 57,
   "metadata": {},
   "outputs": [
    {
     "data": {
      "text/plain": [
       "['O',\n",
       " 'B-DNA',\n",
       " 'I-DNA',\n",
       " 'B-RNA',\n",
       " 'I-RNA',\n",
       " 'B-cell_line',\n",
       " 'I-cell_line',\n",
       " 'B-cell_type',\n",
       " 'I-cell_type',\n",
       " 'B-protein',\n",
       " 'I-protein']"
      ]
     },
     "execution_count": 57,
     "metadata": {},
     "output_type": "execute_result"
    }
   ],
   "source": [
    "label_list = dataset[\"train\"].features[f\"ner_tags\"].feature.names\n",
    "num_labels = len(label_list)\n",
    "label_list\n",
    "\n"
   ]
  },
  {
   "cell_type": "code",
   "execution_count": 58,
   "metadata": {},
   "outputs": [
    {
     "data": {
      "text/html": [
       "<div>\n",
       "<style scoped>\n",
       "    .dataframe tbody tr th:only-of-type {\n",
       "        vertical-align: middle;\n",
       "    }\n",
       "\n",
       "    .dataframe tbody tr th {\n",
       "        vertical-align: top;\n",
       "    }\n",
       "\n",
       "    .dataframe thead th {\n",
       "        text-align: right;\n",
       "    }\n",
       "</style>\n",
       "<table border=\"1\" class=\"dataframe\">\n",
       "  <thead>\n",
       "    <tr style=\"text-align: right;\">\n",
       "      <th></th>\n",
       "      <th>tokens</th>\n",
       "      <th>ner_tags</th>\n",
       "    </tr>\n",
       "  </thead>\n",
       "  <tbody>\n",
       "    <tr>\n",
       "      <th>0</th>\n",
       "      <td>Because the -180 site is not required for tran...</td>\n",
       "      <td>[0, 0, 1, 2, 0, 0, 0, 0, 0, 0, 0, 0, 0, 0, 0, ...</td>\n",
       "    </tr>\n",
       "    <tr>\n",
       "      <th>1</th>\n",
       "      <td>Mutations in this DNA-binding site abolished b...</td>\n",
       "      <td>[0, 0, 0, 1, 2, 0, 0, 0, 0, 9, 10, 0, 0, 0, 0,...</td>\n",
       "    </tr>\n",
       "    <tr>\n",
       "      <th>2</th>\n",
       "      <td>This may explain , at least in part , the incr...</td>\n",
       "      <td>[0, 0, 0, 0, 0, 0, 0, 0, 0, 0, 0, 0, 0, 0, 0, ...</td>\n",
       "    </tr>\n",
       "    <tr>\n",
       "      <th>3</th>\n",
       "      <td>Somatic hypermutation is the most critical mec...</td>\n",
       "      <td>[0, 0, 0, 0, 0, 0, 0, 0, 0, 0, 0, 1, 2, 0]</td>\n",
       "    </tr>\n",
       "    <tr>\n",
       "      <th>4</th>\n",
       "      <td>Moreover , anti- STAT3 antibodies specifically...</td>\n",
       "      <td>[0, 0, 0, 9, 10, 0, 0, 0, 0, 0, 9, 10, 0, 0, 0...</td>\n",
       "    </tr>\n",
       "    <tr>\n",
       "      <th>5</th>\n",
       "      <td>IL-4 and IL-10 inhibit the cytokine production...</td>\n",
       "      <td>[9, 0, 9, 0, 0, 9, 0, 0, 0, 0, 0, 7, 0]</td>\n",
       "    </tr>\n",
       "    <tr>\n",
       "      <th>6</th>\n",
       "      <td>Although it has been postulated that pituitary...</td>\n",
       "      <td>[0, 0, 0, 0, 0, 0, 7, 8, 8, 0, 7, 8, 8, 0, 0, ...</td>\n",
       "    </tr>\n",
       "    <tr>\n",
       "      <th>7</th>\n",
       "      <td>This conclusion was based upon several indepen...</td>\n",
       "      <td>[0, 0, 0, 0, 0, 0, 0, 0, 0, 0, 0, 0, 0, 0, 0, ...</td>\n",
       "    </tr>\n",
       "    <tr>\n",
       "      <th>8</th>\n",
       "      <td>To understand the mechanism by which PRL regul...</td>\n",
       "      <td>[0, 0, 0, 0, 0, 0, 9, 0, 0, 0, 0, 0, 9, 0, 0, ...</td>\n",
       "    </tr>\n",
       "    <tr>\n",
       "      <th>9</th>\n",
       "      <td>Ex vivo activation of tumor-draining lymph nod...</td>\n",
       "      <td>[0, 0, 0, 0, 7, 8, 8, 8, 8, 0, 0, 0, 9, 10, 10...</td>\n",
       "    </tr>\n",
       "  </tbody>\n",
       "</table>\n",
       "</div>"
      ],
      "text/plain": [
       "                                              tokens  \\\n",
       "0  Because the -180 site is not required for tran...   \n",
       "1  Mutations in this DNA-binding site abolished b...   \n",
       "2  This may explain , at least in part , the incr...   \n",
       "3  Somatic hypermutation is the most critical mec...   \n",
       "4  Moreover , anti- STAT3 antibodies specifically...   \n",
       "5  IL-4 and IL-10 inhibit the cytokine production...   \n",
       "6  Although it has been postulated that pituitary...   \n",
       "7  This conclusion was based upon several indepen...   \n",
       "8  To understand the mechanism by which PRL regul...   \n",
       "9  Ex vivo activation of tumor-draining lymph nod...   \n",
       "\n",
       "                                            ner_tags  \n",
       "0  [0, 0, 1, 2, 0, 0, 0, 0, 0, 0, 0, 0, 0, 0, 0, ...  \n",
       "1  [0, 0, 0, 1, 2, 0, 0, 0, 0, 9, 10, 0, 0, 0, 0,...  \n",
       "2  [0, 0, 0, 0, 0, 0, 0, 0, 0, 0, 0, 0, 0, 0, 0, ...  \n",
       "3         [0, 0, 0, 0, 0, 0, 0, 0, 0, 0, 0, 1, 2, 0]  \n",
       "4  [0, 0, 0, 9, 10, 0, 0, 0, 0, 0, 9, 10, 0, 0, 0...  \n",
       "5            [9, 0, 9, 0, 0, 9, 0, 0, 0, 0, 0, 7, 0]  \n",
       "6  [0, 0, 0, 0, 0, 0, 7, 8, 8, 0, 7, 8, 8, 0, 0, ...  \n",
       "7  [0, 0, 0, 0, 0, 0, 0, 0, 0, 0, 0, 0, 0, 0, 0, ...  \n",
       "8  [0, 0, 0, 0, 0, 0, 9, 0, 0, 0, 0, 0, 9, 0, 0, ...  \n",
       "9  [0, 0, 0, 0, 7, 8, 8, 8, 8, 0, 0, 0, 9, 10, 10...  "
      ]
     },
     "execution_count": 58,
     "metadata": {},
     "output_type": "execute_result"
    }
   ],
   "source": [
    "sample_data = dataset[\"train\"].select(range(10)) \n",
    "\n",
    "df = pd.DataFrame({\n",
    "    \"tokens\": [\" \".join(example[\"tokens\"]) for example in sample_data],\n",
    "    \"ner_tags\": [example[\"ner_tags\"] for example in sample_data]\n",
    "})\n",
    "\n",
    "df"
   ]
  },
  {
   "cell_type": "markdown",
   "metadata": {},
   "source": [
    "B- indicates the beginning of an entity.\n",
    "I- indicates a token is contained inside the same entity (for example, the State token is a part of an entity like Empire State Building).\n",
    "0 indicates the token doesn’t correspond to any entity."
   ]
  },
  {
   "cell_type": "code",
   "execution_count": 59,
   "metadata": {},
   "outputs": [],
   "source": [
    "tokenizer = BertTokenizerFast.from_pretrained(\"bert-base-cased\")"
   ]
  },
  {
   "cell_type": "code",
   "execution_count": 60,
   "metadata": {},
   "outputs": [],
   "source": [
    "\n",
    "def tokenize_and_align_labels(examples):\n",
    "    tokenized_inputs = tokenizer(\n",
    "        examples[\"tokens\"],\n",
    "        truncation=True,\n",
    "        is_split_into_words=True,\n",
    "        padding='max_length',\n",
    "        max_length=128\n",
    "    )\n",
    "    labels = []\n",
    "    for i, label in enumerate(examples['ner_tags']):\n",
    "        word_ids = tokenized_inputs.word_ids(batch_index=i)\n",
    "        label_ids = []\n",
    "        previous_word_idx = None\n",
    "        for word_idx in word_ids:\n",
    "            if word_idx is None:\n",
    "                label_ids.append(-100)\n",
    "            elif word_idx != previous_word_idx:\n",
    "                label_ids.append(label[word_idx])\n",
    "            else:\n",
    "                label_ids.append(-100)\n",
    "            previous_word_idx = word_idx\n",
    "        labels.append(label_ids)\n",
    "\n",
    "    tokenized_inputs[\"labels\"] = labels\n",
    "    return tokenized_inputs\n",
    "\n",
    "\n",
    "\n"
   ]
  },
  {
   "cell_type": "code",
   "execution_count": 61,
   "metadata": {},
   "outputs": [],
   "source": [
    "\n",
    "tokenized_datasets = dataset.map(tokenize_and_align_labels, batched=True)"
   ]
  },
  {
   "cell_type": "code",
   "execution_count": 62,
   "metadata": {},
   "outputs": [
    {
     "data": {
      "text/plain": [
       "Dataset({\n",
       "    features: ['id', 'tokens', 'ner_tags', 'input_ids', 'token_type_ids', 'attention_mask', 'labels'],\n",
       "    num_rows: 927\n",
       "})"
      ]
     },
     "execution_count": 62,
     "metadata": {},
     "output_type": "execute_result"
    }
   ],
   "source": [
    "tokenized_datasets['train']"
   ]
  },
  {
   "cell_type": "code",
   "execution_count": 63,
   "metadata": {},
   "outputs": [
    {
     "data": {
      "text/plain": [
       "{'id': '3649',\n",
       " 'tokens': ['Because',\n",
       "  'the',\n",
       "  '-180',\n",
       "  'site',\n",
       "  'is',\n",
       "  'not',\n",
       "  'required',\n",
       "  'for',\n",
       "  'trans-activation',\n",
       "  ',',\n",
       "  'it',\n",
       "  'was',\n",
       "  'possible',\n",
       "  'to',\n",
       "  'confirm',\n",
       "  'by',\n",
       "  'mutation',\n",
       "  'in',\n",
       "  'the',\n",
       "  'normal',\n",
       "  'mouse',\n",
       "  'IL-2',\n",
       "  'enhancer',\n",
       "  'that',\n",
       "  'this',\n",
       "  'site',\n",
       "  'is',\n",
       "  'absolutely',\n",
       "  'essential',\n",
       "  'for',\n",
       "  'anergy',\n",
       "  'induction',\n",
       "  '.'],\n",
       " 'ner_tags': [0,\n",
       "  0,\n",
       "  1,\n",
       "  2,\n",
       "  0,\n",
       "  0,\n",
       "  0,\n",
       "  0,\n",
       "  0,\n",
       "  0,\n",
       "  0,\n",
       "  0,\n",
       "  0,\n",
       "  0,\n",
       "  0,\n",
       "  0,\n",
       "  0,\n",
       "  0,\n",
       "  0,\n",
       "  0,\n",
       "  1,\n",
       "  2,\n",
       "  2,\n",
       "  0,\n",
       "  0,\n",
       "  0,\n",
       "  0,\n",
       "  0,\n",
       "  0,\n",
       "  0,\n",
       "  0,\n",
       "  0,\n",
       "  0],\n",
       " 'input_ids': [101,\n",
       "  2279,\n",
       "  1103,\n",
       "  118,\n",
       "  7967,\n",
       "  1751,\n",
       "  1110,\n",
       "  1136,\n",
       "  2320,\n",
       "  1111,\n",
       "  14715,\n",
       "  118,\n",
       "  14915,\n",
       "  117,\n",
       "  1122,\n",
       "  1108,\n",
       "  1936,\n",
       "  1106,\n",
       "  12434,\n",
       "  1118,\n",
       "  17895,\n",
       "  1107,\n",
       "  1103,\n",
       "  2999,\n",
       "  10322,\n",
       "  15393,\n",
       "  118,\n",
       "  123,\n",
       "  11778,\n",
       "  1197,\n",
       "  1115,\n",
       "  1142,\n",
       "  1751,\n",
       "  1110,\n",
       "  7284,\n",
       "  6818,\n",
       "  1111,\n",
       "  1126,\n",
       "  1200,\n",
       "  4873,\n",
       "  18293,\n",
       "  119,\n",
       "  102,\n",
       "  0,\n",
       "  0,\n",
       "  0,\n",
       "  0,\n",
       "  0,\n",
       "  0,\n",
       "  0,\n",
       "  0,\n",
       "  0,\n",
       "  0,\n",
       "  0,\n",
       "  0,\n",
       "  0,\n",
       "  0,\n",
       "  0,\n",
       "  0,\n",
       "  0,\n",
       "  0,\n",
       "  0,\n",
       "  0,\n",
       "  0,\n",
       "  0,\n",
       "  0,\n",
       "  0,\n",
       "  0,\n",
       "  0,\n",
       "  0,\n",
       "  0,\n",
       "  0,\n",
       "  0,\n",
       "  0,\n",
       "  0,\n",
       "  0,\n",
       "  0,\n",
       "  0,\n",
       "  0,\n",
       "  0,\n",
       "  0,\n",
       "  0,\n",
       "  0,\n",
       "  0,\n",
       "  0,\n",
       "  0,\n",
       "  0,\n",
       "  0,\n",
       "  0,\n",
       "  0,\n",
       "  0,\n",
       "  0,\n",
       "  0,\n",
       "  0,\n",
       "  0,\n",
       "  0,\n",
       "  0,\n",
       "  0,\n",
       "  0,\n",
       "  0,\n",
       "  0,\n",
       "  0,\n",
       "  0,\n",
       "  0,\n",
       "  0,\n",
       "  0,\n",
       "  0,\n",
       "  0,\n",
       "  0,\n",
       "  0,\n",
       "  0,\n",
       "  0,\n",
       "  0,\n",
       "  0,\n",
       "  0,\n",
       "  0,\n",
       "  0,\n",
       "  0,\n",
       "  0,\n",
       "  0,\n",
       "  0,\n",
       "  0,\n",
       "  0,\n",
       "  0,\n",
       "  0,\n",
       "  0,\n",
       "  0,\n",
       "  0],\n",
       " 'token_type_ids': [0,\n",
       "  0,\n",
       "  0,\n",
       "  0,\n",
       "  0,\n",
       "  0,\n",
       "  0,\n",
       "  0,\n",
       "  0,\n",
       "  0,\n",
       "  0,\n",
       "  0,\n",
       "  0,\n",
       "  0,\n",
       "  0,\n",
       "  0,\n",
       "  0,\n",
       "  0,\n",
       "  0,\n",
       "  0,\n",
       "  0,\n",
       "  0,\n",
       "  0,\n",
       "  0,\n",
       "  0,\n",
       "  0,\n",
       "  0,\n",
       "  0,\n",
       "  0,\n",
       "  0,\n",
       "  0,\n",
       "  0,\n",
       "  0,\n",
       "  0,\n",
       "  0,\n",
       "  0,\n",
       "  0,\n",
       "  0,\n",
       "  0,\n",
       "  0,\n",
       "  0,\n",
       "  0,\n",
       "  0,\n",
       "  0,\n",
       "  0,\n",
       "  0,\n",
       "  0,\n",
       "  0,\n",
       "  0,\n",
       "  0,\n",
       "  0,\n",
       "  0,\n",
       "  0,\n",
       "  0,\n",
       "  0,\n",
       "  0,\n",
       "  0,\n",
       "  0,\n",
       "  0,\n",
       "  0,\n",
       "  0,\n",
       "  0,\n",
       "  0,\n",
       "  0,\n",
       "  0,\n",
       "  0,\n",
       "  0,\n",
       "  0,\n",
       "  0,\n",
       "  0,\n",
       "  0,\n",
       "  0,\n",
       "  0,\n",
       "  0,\n",
       "  0,\n",
       "  0,\n",
       "  0,\n",
       "  0,\n",
       "  0,\n",
       "  0,\n",
       "  0,\n",
       "  0,\n",
       "  0,\n",
       "  0,\n",
       "  0,\n",
       "  0,\n",
       "  0,\n",
       "  0,\n",
       "  0,\n",
       "  0,\n",
       "  0,\n",
       "  0,\n",
       "  0,\n",
       "  0,\n",
       "  0,\n",
       "  0,\n",
       "  0,\n",
       "  0,\n",
       "  0,\n",
       "  0,\n",
       "  0,\n",
       "  0,\n",
       "  0,\n",
       "  0,\n",
       "  0,\n",
       "  0,\n",
       "  0,\n",
       "  0,\n",
       "  0,\n",
       "  0,\n",
       "  0,\n",
       "  0,\n",
       "  0,\n",
       "  0,\n",
       "  0,\n",
       "  0,\n",
       "  0,\n",
       "  0,\n",
       "  0,\n",
       "  0,\n",
       "  0,\n",
       "  0,\n",
       "  0,\n",
       "  0,\n",
       "  0,\n",
       "  0,\n",
       "  0,\n",
       "  0],\n",
       " 'attention_mask': [1,\n",
       "  1,\n",
       "  1,\n",
       "  1,\n",
       "  1,\n",
       "  1,\n",
       "  1,\n",
       "  1,\n",
       "  1,\n",
       "  1,\n",
       "  1,\n",
       "  1,\n",
       "  1,\n",
       "  1,\n",
       "  1,\n",
       "  1,\n",
       "  1,\n",
       "  1,\n",
       "  1,\n",
       "  1,\n",
       "  1,\n",
       "  1,\n",
       "  1,\n",
       "  1,\n",
       "  1,\n",
       "  1,\n",
       "  1,\n",
       "  1,\n",
       "  1,\n",
       "  1,\n",
       "  1,\n",
       "  1,\n",
       "  1,\n",
       "  1,\n",
       "  1,\n",
       "  1,\n",
       "  1,\n",
       "  1,\n",
       "  1,\n",
       "  1,\n",
       "  1,\n",
       "  1,\n",
       "  1,\n",
       "  0,\n",
       "  0,\n",
       "  0,\n",
       "  0,\n",
       "  0,\n",
       "  0,\n",
       "  0,\n",
       "  0,\n",
       "  0,\n",
       "  0,\n",
       "  0,\n",
       "  0,\n",
       "  0,\n",
       "  0,\n",
       "  0,\n",
       "  0,\n",
       "  0,\n",
       "  0,\n",
       "  0,\n",
       "  0,\n",
       "  0,\n",
       "  0,\n",
       "  0,\n",
       "  0,\n",
       "  0,\n",
       "  0,\n",
       "  0,\n",
       "  0,\n",
       "  0,\n",
       "  0,\n",
       "  0,\n",
       "  0,\n",
       "  0,\n",
       "  0,\n",
       "  0,\n",
       "  0,\n",
       "  0,\n",
       "  0,\n",
       "  0,\n",
       "  0,\n",
       "  0,\n",
       "  0,\n",
       "  0,\n",
       "  0,\n",
       "  0,\n",
       "  0,\n",
       "  0,\n",
       "  0,\n",
       "  0,\n",
       "  0,\n",
       "  0,\n",
       "  0,\n",
       "  0,\n",
       "  0,\n",
       "  0,\n",
       "  0,\n",
       "  0,\n",
       "  0,\n",
       "  0,\n",
       "  0,\n",
       "  0,\n",
       "  0,\n",
       "  0,\n",
       "  0,\n",
       "  0,\n",
       "  0,\n",
       "  0,\n",
       "  0,\n",
       "  0,\n",
       "  0,\n",
       "  0,\n",
       "  0,\n",
       "  0,\n",
       "  0,\n",
       "  0,\n",
       "  0,\n",
       "  0,\n",
       "  0,\n",
       "  0,\n",
       "  0,\n",
       "  0,\n",
       "  0,\n",
       "  0,\n",
       "  0,\n",
       "  0],\n",
       " 'labels': [-100,\n",
       "  0,\n",
       "  0,\n",
       "  1,\n",
       "  -100,\n",
       "  2,\n",
       "  0,\n",
       "  0,\n",
       "  0,\n",
       "  0,\n",
       "  0,\n",
       "  -100,\n",
       "  -100,\n",
       "  0,\n",
       "  0,\n",
       "  0,\n",
       "  0,\n",
       "  0,\n",
       "  0,\n",
       "  0,\n",
       "  0,\n",
       "  0,\n",
       "  0,\n",
       "  0,\n",
       "  1,\n",
       "  2,\n",
       "  -100,\n",
       "  -100,\n",
       "  2,\n",
       "  -100,\n",
       "  0,\n",
       "  0,\n",
       "  0,\n",
       "  0,\n",
       "  0,\n",
       "  0,\n",
       "  0,\n",
       "  0,\n",
       "  -100,\n",
       "  -100,\n",
       "  0,\n",
       "  0,\n",
       "  -100,\n",
       "  -100,\n",
       "  -100,\n",
       "  -100,\n",
       "  -100,\n",
       "  -100,\n",
       "  -100,\n",
       "  -100,\n",
       "  -100,\n",
       "  -100,\n",
       "  -100,\n",
       "  -100,\n",
       "  -100,\n",
       "  -100,\n",
       "  -100,\n",
       "  -100,\n",
       "  -100,\n",
       "  -100,\n",
       "  -100,\n",
       "  -100,\n",
       "  -100,\n",
       "  -100,\n",
       "  -100,\n",
       "  -100,\n",
       "  -100,\n",
       "  -100,\n",
       "  -100,\n",
       "  -100,\n",
       "  -100,\n",
       "  -100,\n",
       "  -100,\n",
       "  -100,\n",
       "  -100,\n",
       "  -100,\n",
       "  -100,\n",
       "  -100,\n",
       "  -100,\n",
       "  -100,\n",
       "  -100,\n",
       "  -100,\n",
       "  -100,\n",
       "  -100,\n",
       "  -100,\n",
       "  -100,\n",
       "  -100,\n",
       "  -100,\n",
       "  -100,\n",
       "  -100,\n",
       "  -100,\n",
       "  -100,\n",
       "  -100,\n",
       "  -100,\n",
       "  -100,\n",
       "  -100,\n",
       "  -100,\n",
       "  -100,\n",
       "  -100,\n",
       "  -100,\n",
       "  -100,\n",
       "  -100,\n",
       "  -100,\n",
       "  -100,\n",
       "  -100,\n",
       "  -100,\n",
       "  -100,\n",
       "  -100,\n",
       "  -100,\n",
       "  -100,\n",
       "  -100,\n",
       "  -100,\n",
       "  -100,\n",
       "  -100,\n",
       "  -100,\n",
       "  -100,\n",
       "  -100,\n",
       "  -100,\n",
       "  -100,\n",
       "  -100,\n",
       "  -100,\n",
       "  -100,\n",
       "  -100,\n",
       "  -100,\n",
       "  -100,\n",
       "  -100,\n",
       "  -100,\n",
       "  -100]}"
      ]
     },
     "execution_count": 63,
     "metadata": {},
     "output_type": "execute_result"
    }
   ],
   "source": [
    "tokenized_datasets['train'][0]"
   ]
  },
  {
   "cell_type": "code",
   "execution_count": 64,
   "metadata": {},
   "outputs": [
    {
     "name": "stderr",
     "output_type": "stream",
     "text": [
      "Some weights of BertForTokenClassification were not initialized from the model checkpoint at bert-base-cased and are newly initialized: ['classifier.bias', 'classifier.weight']\n",
      "You should probably TRAIN this model on a down-stream task to be able to use it for predictions and inference.\n",
      "/home/julita/anaconda3/envs/myenv/lib/python3.10/site-packages/transformers/training_args.py:1559: FutureWarning:\n",
      "\n",
      "`evaluation_strategy` is deprecated and will be removed in version 4.46 of 🤗 Transformers. Use `eval_strategy` instead\n",
      "\n",
      "/tmp/ipykernel_6430/575272815.py:71: FutureWarning:\n",
      "\n",
      "`tokenizer` is deprecated and will be removed in version 5.0.0 for `Trainer.__init__`. Use `processing_class` instead.\n",
      "\n"
     ]
    }
   ],
   "source": [
    "\n",
    "model = BertForTokenClassification.from_pretrained(\"bert-base-cased\", num_labels=num_labels)\n",
    "\n",
    "\n",
    "metric = evaluate.load(\"accuracy\")\n",
    "f1_metric = evaluate.load(\"f1\")\n",
    "\n",
    "\n",
    "from sklearn.metrics import confusion_matrix, ConfusionMatrixDisplay\n",
    "\n",
    "def compute_metrics(p):\n",
    "    predictions, labels = p\n",
    "    predictions = np.argmax(predictions, axis=2)\n",
    "\n",
    "    # Usunięcie indeksów ignorowanych (specjalne tokeny)\n",
    "    true_predictions = [\n",
    "        [p for (p, l) in zip(prediction, label) if l != -100]\n",
    "        for prediction, label in zip(predictions, labels)\n",
    "    ]\n",
    "    true_labels = [\n",
    "        [l for (p, l) in zip(prediction, label) if l != -100]\n",
    "        for prediction, label in zip(predictions, labels)\n",
    "    ]\n",
    "\n",
    "    # Spłaszczanie list\n",
    "    true_predictions_flat = [int(item) for sublist in true_predictions for item in sublist]\n",
    "    true_labels_flat = [int(item) for sublist in true_labels for item in sublist]\n",
    "\n",
    "    # Zbieranie błędnych przykładów\n",
    "    incorrect_examples = []\n",
    "    for idx, (pred, label) in enumerate(zip(true_predictions, true_labels)):\n",
    "        if pred != label:\n",
    "            tokens = tokenized_datasets[\"validation\"][\"tokens\"][idx]  # Oryginalne tokeny dla przykładu\n",
    "            incorrect_examples.append({\n",
    "                \"tokens\": tokens,\n",
    "                \"true_labels\": label,\n",
    "                \"predicted_labels\": pred\n",
    "            })\n",
    "\n",
    "    # Zapis błędnych przykładów do CSV\n",
    "    if incorrect_examples:\n",
    "        df_incorrect = pd.DataFrame(incorrect_examples)\n",
    "        df_incorrect.to_csv(\"incorrect_predictions_trained.csv\", index=False)\n",
    "\n",
    "    # Obliczanie dokładności i F1\n",
    "    accuracy = metric.compute(predictions=true_predictions_flat, references=true_labels_flat)\n",
    "    f1 = f1_metric.compute(predictions=true_predictions_flat, references=true_labels_flat, average=\"weighted\")[\"f1\"]\n",
    "\n",
    "    # Obliczenie macierzy pomyłek\n",
    "    labels_list = list(set(true_labels_flat))  # Lista unikalnych etykiet NER\n",
    "    cm = confusion_matrix(true_labels_flat, true_predictions_flat, labels=labels_list)\n",
    "    \n",
    "    # Wyświetlenie macierzy pomyłek\n",
    "    disp = ConfusionMatrixDisplay(confusion_matrix=cm, display_labels=labels_list)\n",
    "    disp.plot(cmap=\"Blues\", xticks_rotation=\"vertical\")\n",
    "    disp.ax_.set_title(\"Confusion Matrix for NER Labels\")\n",
    "    \n",
    "    return {\"accuracy\": accuracy, \"f1\": f1}\n",
    "\n",
    "# Define training arguments\n",
    "training_args = TrainingArguments(\n",
    "    output_dir=\"./results\",\n",
    "    evaluation_strategy=\"epoch\",\n",
    "    learning_rate=2e-6,\n",
    "    per_device_train_batch_size=8,\n",
    "    per_device_eval_batch_size=8,\n",
    "    num_train_epochs=100,\n",
    "    weight_decay=0.1,\n",
    ")\n",
    "\n",
    "\n",
    "trainer = Trainer(\n",
    "    model=model,\n",
    "    args=training_args,\n",
    "    train_dataset=tokenized_datasets[\"train\"],\n",
    "    eval_dataset=tokenized_datasets[\"validation\"],\n",
    "    tokenizer=tokenizer,\n",
    "    compute_metrics=compute_metrics,\n",
    ")\n",
    "\n",
    "\n"
   ]
  },
  {
   "cell_type": "code",
   "execution_count": 65,
   "metadata": {},
   "outputs": [],
   "source": [
    "# peft_config = LoraConfig(\n",
    "#     task_type=TaskType.TOKEN_CLS,  r=64, lora_alpha=1\n",
    "# )"
   ]
  },
  {
   "cell_type": "code",
   "execution_count": 66,
   "metadata": {},
   "outputs": [],
   "source": [
    "# model = get_peft_model(model, p# \"trainable params: 1855499 || all params: 355894283 || trainable%: 0.5213624069370061\""
   ]
  },
  {
   "cell_type": "code",
   "execution_count": 67,
   "metadata": {},
   "outputs": [],
   "source": [
    "# Evaluate the model\n",
    "# trainer.evaluate()"
   ]
  },
  {
   "cell_type": "code",
   "execution_count": 68,
   "metadata": {},
   "outputs": [],
   "source": [
    "# trainer.train()\n",
    "# trainer.save_model(\"./saved_model_bert_for_token\")"
   ]
  },
  {
   "cell_type": "code",
   "execution_count": 69,
   "metadata": {},
   "outputs": [
    {
     "name": "stderr",
     "output_type": "stream",
     "text": [
      "100%|██████████| 24/24 [00:01<00:00, 17.84it/s]\n"
     ]
    },
    {
     "data": {
      "text/plain": [
       "{'eval_loss': 2.4702162742614746,\n",
       " 'eval_model_preparation_time': 0.0016,\n",
       " 'eval_accuracy': {'accuracy': 0.06849585471772601},\n",
       " 'eval_f1': 0.09719990078146179,\n",
       " 'eval_runtime': 1.3864,\n",
       " 'eval_samples_per_second': 138.491,\n",
       " 'eval_steps_per_second': 17.311}"
      ]
     },
     "execution_count": 69,
     "metadata": {},
     "output_type": "execute_result"
    },
    {
     "data": {
      "image/png": "[encoded data removed]",
      "text/plain": [
       "<Figure size 640x480 with 2 Axes>"
      ]
     },
     "metadata": {},
     "output_type": "display_data"
    }
   ],
   "source": [
    "trainer.evaluate()"
   ]
  },
  {
   "cell_type": "markdown",
   "metadata": {},
   "source": [
    "# Wizualizacje na wytrenowanym modelu"
   ]
  },
  {
   "cell_type": "code",
   "execution_count": 70,
   "metadata": {},
   "outputs": [
    {
     "data": {
      "text/plain": [
       "BertForTokenClassification(\n",
       "  (bert): BertModel(\n",
       "    (embeddings): BertEmbeddings(\n",
       "      (word_embeddings): Embedding(28996, 768, padding_idx=0)\n",
       "      (position_embeddings): Embedding(512, 768)\n",
       "      (token_type_embeddings): Embedding(2, 768)\n",
       "      (LayerNorm): LayerNorm((768,), eps=1e-12, elementwise_affine=True)\n",
       "      (dropout): Dropout(p=0.1, inplace=False)\n",
       "    )\n",
       "    (encoder): BertEncoder(\n",
       "      (layer): ModuleList(\n",
       "        (0-11): 12 x BertLayer(\n",
       "          (attention): BertAttention(\n",
       "            (self): BertSdpaSelfAttention(\n",
       "              (query): Linear(in_features=768, out_features=768, bias=True)\n",
       "              (key): Linear(in_features=768, out_features=768, bias=True)\n",
       "              (value): Linear(in_features=768, out_features=768, bias=True)\n",
       "              (dropout): Dropout(p=0.1, inplace=False)\n",
       "            )\n",
       "            (output): BertSelfOutput(\n",
       "              (dense): Linear(in_features=768, out_features=768, bias=True)\n",
       "              (LayerNorm): LayerNorm((768,), eps=1e-12, elementwise_affine=True)\n",
       "              (dropout): Dropout(p=0.1, inplace=False)\n",
       "            )\n",
       "          )\n",
       "          (intermediate): BertIntermediate(\n",
       "            (dense): Linear(in_features=768, out_features=3072, bias=True)\n",
       "            (intermediate_act_fn): GELUActivation()\n",
       "          )\n",
       "          (output): BertOutput(\n",
       "            (dense): Linear(in_features=3072, out_features=768, bias=True)\n",
       "            (LayerNorm): LayerNorm((768,), eps=1e-12, elementwise_affine=True)\n",
       "            (dropout): Dropout(p=0.1, inplace=False)\n",
       "          )\n",
       "        )\n",
       "      )\n",
       "    )\n",
       "  )\n",
       "  (dropout): Dropout(p=0.1, inplace=False)\n",
       "  (classifier): Linear(in_features=768, out_features=11, bias=True)\n",
       ")"
      ]
     },
     "execution_count": 70,
     "metadata": {},
     "output_type": "execute_result"
    }
   ],
   "source": [
    "from transformers import AutoModelForTokenClassification, AutoTokenizer\n",
    "\n",
    "model_path = \"./saved_model_bert_for_token\"\n",
    "\n",
    "model = AutoModelForTokenClassification.from_pretrained(model_path)\n",
    "tokenizer = AutoTokenizer.from_pretrained(model_path)\n",
    "\n",
    "\n",
    "device = torch.device(\"cuda\" if torch.cuda.is_available() else \"cpu\")\n",
    "model.to(device)"
   ]
  },
  {
   "cell_type": "code",
   "execution_count": 71,
   "metadata": {},
   "outputs": [
    {
     "name": "stderr",
     "output_type": "stream",
     "text": [
      "/home/julita/anaconda3/envs/myenv/lib/python3.10/site-packages/transformers/training_args.py:1559: FutureWarning:\n",
      "\n",
      "`evaluation_strategy` is deprecated and will be removed in version 4.46 of 🤗 Transformers. Use `eval_strategy` instead\n",
      "\n",
      "/tmp/ipykernel_6430/3608341357.py:12: FutureWarning:\n",
      "\n",
      "`tokenizer` is deprecated and will be removed in version 5.0.0 for `Trainer.__init__`. Use `processing_class` instead.\n",
      "\n",
      "100%|██████████| 24/24 [00:01<00:00, 18.99it/s]\n"
     ]
    },
    {
     "data": {
      "text/plain": [
       "{'eval_loss': 0.5167544484138489,\n",
       " 'eval_model_preparation_time': 0.0018,\n",
       " 'eval_accuracy': {'accuracy': 0.9137386498223451},\n",
       " 'eval_f1': 0.916294490994645,\n",
       " 'eval_runtime': 1.2964,\n",
       " 'eval_samples_per_second': 148.101,\n",
       " 'eval_steps_per_second': 18.513}"
      ]
     },
     "execution_count": 71,
     "metadata": {},
     "output_type": "execute_result"
    },
    {
     "data": {
      "image/png": "[encoded data removed]",
      "text/plain": [
       "<Figure size 640x480 with 2 Axes>"
      ]
     },
     "metadata": {},
     "output_type": "display_data"
    }
   ],
   "source": [
    "training_args = TrainingArguments(\n",
    "    output_dir=\"./results\",\n",
    "    evaluation_strategy=\"epoch\",\n",
    "    learning_rate=2e-6,\n",
    "    per_device_train_batch_size=8,\n",
    "    per_device_eval_batch_size=8,\n",
    "    num_train_epochs=100,\n",
    "    weight_decay=0.1,\n",
    ")\n",
    "\n",
    "\n",
    "trainer = Trainer(\n",
    "    model=model,\n",
    "    args=training_args,\n",
    "    train_dataset=tokenized_datasets[\"train\"],\n",
    "    eval_dataset=tokenized_datasets[\"validation\"],\n",
    "    tokenizer=tokenizer,\n",
    "    compute_metrics=compute_metrics,\n",
    ")\n",
    "\n",
    "\n",
    "trainer.evaluate()"
   ]
  },
  {
   "cell_type": "code",
   "execution_count": 78,
   "metadata": {},
   "outputs": [
    {
     "name": "stdout",
     "output_type": "stream",
     "text": [
      "{'id': '307', 'tokens': ['The', 'percentages', 'of', 'the', 'T/NK-cell', 'subsets', 'in', 'the', 'PB', 'were', 'not', 'significantly', 'different', 'among', 'these', 'groups', '.'], 'ner_tags': [0, 0, 0, 0, 7, 8, 0, 0, 0, 0, 0, 0, 0, 0, 0, 0, 0], 'input_ids': [101, 1109, 6556, 1116, 1104, 1103, 157, 120, 151, 2428, 118, 2765, 18005, 1116, 1107, 1103, 153, 2064, 1127, 1136, 5409, 1472, 1621, 1292, 2114, 119, 102, 0, 0, 0, 0, 0, 0, 0, 0, 0, 0, 0, 0, 0, 0, 0, 0, 0, 0, 0, 0, 0, 0, 0, 0, 0, 0, 0, 0, 0, 0, 0, 0, 0, 0, 0, 0, 0, 0, 0, 0, 0, 0, 0, 0, 0, 0, 0, 0, 0, 0, 0, 0, 0, 0, 0, 0, 0, 0, 0, 0, 0, 0, 0, 0, 0, 0, 0, 0, 0, 0, 0, 0, 0, 0, 0, 0, 0, 0, 0, 0, 0, 0, 0, 0, 0, 0, 0, 0, 0, 0, 0, 0, 0, 0, 0, 0, 0, 0, 0, 0, 0], 'token_type_ids': [0, 0, 0, 0, 0, 0, 0, 0, 0, 0, 0, 0, 0, 0, 0, 0, 0, 0, 0, 0, 0, 0, 0, 0, 0, 0, 0, 0, 0, 0, 0, 0, 0, 0, 0, 0, 0, 0, 0, 0, 0, 0, 0, 0, 0, 0, 0, 0, 0, 0, 0, 0, 0, 0, 0, 0, 0, 0, 0, 0, 0, 0, 0, 0, 0, 0, 0, 0, 0, 0, 0, 0, 0, 0, 0, 0, 0, 0, 0, 0, 0, 0, 0, 0, 0, 0, 0, 0, 0, 0, 0, 0, 0, 0, 0, 0, 0, 0, 0, 0, 0, 0, 0, 0, 0, 0, 0, 0, 0, 0, 0, 0, 0, 0, 0, 0, 0, 0, 0, 0, 0, 0, 0, 0, 0, 0, 0, 0], 'attention_mask': [1, 1, 1, 1, 1, 1, 1, 1, 1, 1, 1, 1, 1, 1, 1, 1, 1, 1, 1, 1, 1, 1, 1, 1, 1, 1, 1, 0, 0, 0, 0, 0, 0, 0, 0, 0, 0, 0, 0, 0, 0, 0, 0, 0, 0, 0, 0, 0, 0, 0, 0, 0, 0, 0, 0, 0, 0, 0, 0, 0, 0, 0, 0, 0, 0, 0, 0, 0, 0, 0, 0, 0, 0, 0, 0, 0, 0, 0, 0, 0, 0, 0, 0, 0, 0, 0, 0, 0, 0, 0, 0, 0, 0, 0, 0, 0, 0, 0, 0, 0, 0, 0, 0, 0, 0, 0, 0, 0, 0, 0, 0, 0, 0, 0, 0, 0, 0, 0, 0, 0, 0, 0, 0, 0, 0, 0, 0, 0], 'labels': [-100, 0, 0, -100, 0, 0, 7, -100, -100, -100, -100, -100, 8, -100, 0, 0, 0, -100, 0, 0, 0, 0, 0, 0, 0, 0, -100, -100, -100, -100, -100, -100, -100, -100, -100, -100, -100, -100, -100, -100, -100, -100, -100, -100, -100, -100, -100, -100, -100, -100, -100, -100, -100, -100, -100, -100, -100, -100, -100, -100, -100, -100, -100, -100, -100, -100, -100, -100, -100, -100, -100, -100, -100, -100, -100, -100, -100, -100, -100, -100, -100, -100, -100, -100, -100, -100, -100, -100, -100, -100, -100, -100, -100, -100, -100, -100, -100, -100, -100, -100, -100, -100, -100, -100, -100, -100, -100, -100, -100, -100, -100, -100, -100, -100, -100, -100, -100, -100, -100, -100, -100, -100, -100, -100, -100, -100, -100, -100]}\n"
     ]
    },
    {
     "data": {
      "application/vnd.plotly.v1+json": {
       "config": {
        "plotlyServerURL": "https://plot.ly"
       },
       "data": [
        {
         "customdata": [
          [
           "The"
          ],
          [
           "percentages"
          ],
          [
           "of"
          ],
          [
           "the"
          ],
          [
           "T/NK-cell"
          ],
          [
           "subsets"
          ],
          [
           "in"
          ],
          [
           "the"
          ],
          [
           "PB"
          ],
          [
           "were"
          ],
          [
           "not"
          ],
          [
           "significantly"
          ],
          [
           "different"
          ],
          [
           "among"
          ],
          [
           "these"
          ],
          [
           "groups"
          ],
          [
           "."
          ],
          [
           "No"
          ],
          [
           "alterations"
          ],
          [
           "of"
          ],
          [
           "thymocyte"
          ],
          [
           "subpopulations"
          ],
          [
           "were"
          ],
          [
           "seen"
          ],
          [
           ","
          ],
          [
           "suggesting"
          ],
          [
           "that"
          ],
          [
           "changes"
          ],
          [
           "in"
          ],
          [
           "the"
          ],
          [
           "percentage"
          ],
          [
           "of"
          ],
          [
           "CD4+"
          ],
          [
           "CD8+"
          ],
          [
           "thymocytes"
          ],
          [
           "after"
          ],
          [
           "administration"
          ],
          [
           "of"
          ],
          [
           "androgens"
          ],
          [
           "depend"
          ],
          [
           "on"
          ],
          [
           "the"
          ],
          [
           "presence"
          ],
          [
           "of"
          ],
          [
           "functional"
          ],
          [
           "androgen"
          ],
          [
           "receptors"
          ],
          [
           "."
          ],
          [
           "Moreover"
          ],
          [
           ","
          ],
          [
           "endogenous"
          ],
          [
           "PKCtheta"
          ],
          [
           "physically"
          ],
          [
           "associates"
          ],
          [
           "with"
          ],
          [
           "activated"
          ],
          [
           "IKK"
          ],
          [
           "complexes"
          ],
          [
           "in"
          ],
          [
           "CD3/CD28-costimulated"
          ],
          [
           "primary"
          ],
          [
           "CD4"
          ],
          [
           "("
          ],
          [
           "+"
          ],
          [
           ")"
          ],
          [
           "T"
          ],
          [
           "cells"
          ],
          [
           "."
          ],
          [
           "Despite"
          ],
          [
           "the"
          ],
          [
           "greater"
          ],
          [
           "number"
          ],
          [
           "of"
          ],
          [
           "glucocorticoid"
          ],
          [
           "receptor"
          ],
          [
           "sites"
          ],
          [
           ","
          ],
          [
           "the"
          ],
          [
           "peanut-negative"
          ],
          [
           "thymocyte"
          ],
          [
           "subpopulation"
          ],
          [
           "did"
          ],
          [
           "not"
          ],
          [
           "differ"
          ],
          [
           "from"
          ],
          [
           "the"
          ],
          [
           "peanut-positive"
          ],
          [
           "one"
          ],
          [
           "in"
          ],
          [
           "its"
          ],
          [
           "sensitivity"
          ],
          [
           "to"
          ],
          [
           "the"
          ],
          [
           "inhibitory"
          ],
          [
           "effects"
          ],
          [
           "of"
          ],
          [
           "triamcinolone"
          ],
          [
           "acetonide"
          ],
          [
           ","
          ],
          [
           "as"
          ],
          [
           "determined"
          ],
          [
           "by"
          ],
          [
           "measurements"
          ],
          [
           "of"
          ],
          [
           "the"
          ],
          [
           "incorporation"
          ],
          [
           "of"
          ],
          [
           "radiolabeled"
          ],
          [
           "precursors"
          ],
          [
           "of"
          ],
          [
           "protein"
          ],
          [
           "and"
          ],
          [
           "DNA"
          ],
          [
           "."
          ],
          [
           "Furthermore"
          ],
          [
           ","
          ],
          [
           "the"
          ],
          [
           "correlation"
          ],
          [
           "between"
          ],
          [
           "cap"
          ],
          [
           "formation"
          ],
          [
           ","
          ],
          [
           "IL-2"
          ],
          [
           "production"
          ],
          [
           "and"
          ],
          [
           "proliferation"
          ],
          [
           "supports"
          ],
          [
           "the"
          ],
          [
           "hypothesis"
          ],
          [
           "that"
          ],
          [
           "an"
          ],
          [
           "actin-dependent"
          ],
          [
           "pathway"
          ],
          [
           "is"
          ],
          [
           "a"
          ],
          [
           "source"
          ],
          [
           "of"
          ],
          [
           "specialized"
          ],
          [
           "growth"
          ],
          [
           "regulatory"
          ],
          [
           "signals"
          ],
          [
           "."
          ],
          [
           "Our"
          ],
          [
           "data"
          ],
          [
           "support"
          ],
          [
           "the"
          ],
          [
           "hypothesis"
          ],
          [
           "that"
          ],
          [
           "the"
          ],
          [
           "skin"
          ],
          [
           "lesions"
          ],
          [
           "of"
          ],
          [
           "dermatophytosis"
          ],
          [
           "may"
          ],
          [
           "be"
          ],
          [
           "associated"
          ],
          [
           "with"
          ],
          [
           "a"
          ],
          [
           "Th1"
          ],
          [
           "response"
          ],
          [
           "."
          ],
          [
           "Distal"
          ],
          [
           "promoter"
          ],
          [
           "activity"
          ],
          [
           "is"
          ],
          [
           "maintained"
          ],
          [
           "throughout"
          ],
          [
           "T"
          ],
          [
           "cell"
          ],
          [
           "development"
          ],
          [
           "and"
          ],
          [
           "at"
          ],
          [
           "lower"
          ],
          [
           "levels"
          ],
          [
           "in"
          ],
          [
           "B"
          ],
          [
           "cell"
          ],
          [
           "development"
          ],
          [
           ","
          ],
          [
           "but"
          ],
          [
           "downregulated"
          ],
          [
           "in"
          ],
          [
           "natural"
          ],
          [
           "killer"
          ],
          [
           "cell"
          ],
          [
           "development"
          ],
          [
           "."
          ],
          [
           "Hepatic"
          ],
          [
           "ischemia-reperfusion"
          ],
          [
           "injury"
          ],
          [
           "."
          ],
          [
           "However"
          ],
          [
           ","
          ],
          [
           "the"
          ],
          [
           "molecular"
          ],
          [
           "mechanisms"
          ],
          [
           "regulating"
          ],
          [
           "SDF1"
          ],
          [
           "alpha"
          ],
          [
           "-driven"
          ],
          [
           "cell"
          ],
          [
           "migration"
          ],
          [
           "are"
          ],
          [
           "not"
          ],
          [
           "well"
          ],
          [
           "defined"
          ],
          [
           "."
          ],
          [
           "HMG"
          ],
          [
           "box"
          ],
          [
           "containing"
          ],
          [
           "transcription"
          ],
          [
           "factors"
          ],
          [
           "in"
          ],
          [
           "lymphocyte"
          ],
          [
           "differentiation"
          ],
          [
           "."
          ],
          [
           "The"
          ],
          [
           "commitment"
          ],
          [
           "stage"
          ],
          [
           "towards"
          ],
          [
           "PMA-induced"
          ],
          [
           "macrophage"
          ],
          [
           "differentiation"
          ],
          [
           "was"
          ],
          [
           "associated"
          ],
          [
           "with"
          ],
          [
           "increases"
          ],
          [
           "in"
          ],
          [
           "jun"
          ],
          [
           "B"
          ],
          [
           "and"
          ],
          [
           "c-fos"
          ],
          [
           "mRNA"
          ],
          [
           "levels"
          ],
          [
           ","
          ],
          [
           "as"
          ],
          [
           "well"
          ],
          [
           "as"
          ],
          [
           "with"
          ],
          [
           "an"
          ],
          [
           "increase"
          ],
          [
           "in"
          ],
          [
           "the"
          ],
          [
           "binding"
          ],
          [
           "activity"
          ],
          [
           "of"
          ],
          [
           "transcription"
          ],
          [
           "factor"
          ],
          [
           "AP-1"
          ],
          [
           "."
          ],
          [
           "A"
          ],
          [
           "gradation"
          ],
          [
           "in"
          ],
          [
           "whole"
          ],
          [
           "cell"
          ],
          [
           "and"
          ],
          [
           "cytoplasmic"
          ],
          [
           "glucocorticoid"
          ],
          [
           "binding"
          ],
          [
           "capacity"
          ],
          [
           "was"
          ],
          [
           "observed"
          ],
          [
           "in"
          ],
          [
           "the"
          ],
          [
           "different"
          ],
          [
           "cell"
          ],
          [
           "line"
          ],
          [
           "types"
          ],
          [
           ":"
          ],
          [
           "lymphoblastoid"
          ],
          [
           "greater"
          ],
          [
           "than"
          ],
          [
           "lymphoma"
          ],
          [
           "greater"
          ],
          [
           "than"
          ],
          [
           "leukaemia"
          ],
          [
           "."
          ],
          [
           "Treatment"
          ],
          [
           "of"
          ],
          [
           "HL-60"
          ],
          [
           "cells"
          ],
          [
           "with"
          ],
          [
           "1"
          ],
          [
           "alpha"
          ],
          [
           ","
          ],
          [
           "25-dihydroxyvitamin"
          ],
          [
           "D3"
          ],
          [
           ","
          ],
          [
           "another"
          ],
          [
           "monocytic"
          ],
          [
           "differentiation"
          ],
          [
           "agent"
          ],
          [
           ","
          ],
          [
           "induced"
          ],
          [
           "a"
          ],
          [
           "weak"
          ],
          [
           ","
          ],
          [
           "but"
          ],
          [
           "appreciable"
          ],
          [
           ","
          ],
          [
           "increase"
          ],
          [
           "in"
          ],
          [
           "AP-1"
          ],
          [
           "activity"
          ],
          [
           "."
          ],
          [
           "Our"
          ],
          [
           "previous"
          ],
          [
           "studies"
          ],
          [
           "have"
          ],
          [
           "implicated"
          ],
          [
           "the"
          ],
          [
           "nuclear"
          ],
          [
           "transcription"
          ],
          [
           "factor"
          ],
          [
           "kappa"
          ],
          [
           "B"
          ],
          [
           "("
          ],
          [
           "NF"
          ],
          [
           "kappa"
          ],
          [
           "B"
          ],
          [
           ")"
          ],
          [
           "in"
          ],
          [
           "the"
          ],
          [
           "regulation"
          ],
          [
           "of"
          ],
          [
           "adhesion"
          ],
          [
           "molecule"
          ],
          [
           "expression"
          ],
          [
           "in"
          ],
          [
           "endothelial"
          ],
          [
           "cells"
          ],
          [
           "exposed"
          ],
          [
           "to"
          ],
          [
           "anoxia-reoxygenation"
          ],
          [
           "("
          ],
          [
           "A/R"
          ],
          [
           ")"
          ],
          [
           "or"
          ],
          [
           "a"
          ],
          [
           "redox"
          ],
          [
           "imbalance"
          ],
          [
           "."
          ],
          [
           "Two"
          ],
          [
           "assays"
          ],
          [
           "of"
          ],
          [
           "binding"
          ],
          [
           "were"
          ],
          [
           "used"
          ],
          [
           "--"
          ],
          [
           "an"
          ],
          [
           "assay"
          ],
          [
           "with"
          ],
          [
           "intact"
          ],
          [
           "cells"
          ],
          [
           "in"
          ],
          [
           "suspension"
          ],
          [
           "or"
          ],
          [
           "monolayers"
          ],
          [
           ","
          ],
          [
           "and"
          ],
          [
           "an"
          ],
          [
           "assay"
          ],
          [
           "of"
          ],
          [
           "cytosol"
          ],
          [
           "and"
          ],
          [
           "nuclear"
          ],
          [
           "forms"
          ],
          [
           "of"
          ],
          [
           "glucocorticoid"
          ],
          [
           "receptors"
          ],
          [
           "."
          ]
         ],
         "hovertemplate": "x=%{x}<br>y=%{y}<br>token=%{customdata[0]}<br>label=%{marker.color}<extra></extra>",
         "legendgroup": "",
         "marker": {
          "color": [
           0,
           0,
           0,
           0,
           7,
           8,
           0,
           0,
           0,
           0,
           0,
           0,
           0,
           0,
           0,
           0,
           0,
           0,
           0,
           0,
           7,
           8,
           0,
           0,
           0,
           0,
           0,
           0,
           0,
           0,
           0,
           0,
           7,
           8,
           8,
           0,
           0,
           0,
           0,
           0,
           0,
           0,
           0,
           0,
           0,
           9,
           10,
           0,
           0,
           0,
           0,
           9,
           0,
           0,
           0,
           0,
           9,
           10,
           0,
           7,
           8,
           8,
           8,
           8,
           8,
           8,
           8,
           0,
           0,
           0,
           0,
           0,
           0,
           9,
           10,
           0,
           0,
           0,
           5,
           6,
           6,
           0,
           0,
           0,
           0,
           0,
           5,
           0,
           0,
           0,
           0,
           0,
           0,
           0,
           0,
           0,
           0,
           0,
           0,
           0,
           0,
           0,
           0,
           0,
           0,
           0,
           0,
           0,
           0,
           0,
           0,
           0,
           0,
           0,
           0,
           0,
           0,
           0,
           0,
           0,
           0,
           0,
           0,
           0,
           0,
           0,
           0,
           0,
           0,
           0,
           0,
           0,
           0,
           0,
           0,
           0,
           0,
           0,
           0,
           0,
           0,
           0,
           0,
           0,
           0,
           0,
           0,
           0,
           0,
           0,
           0,
           0,
           0,
           0,
           0,
           0,
           0,
           0,
           7,
           0,
           0,
           0,
           0,
           0,
           0,
           0,
           0,
           0,
           0,
           0,
           0,
           0,
           0,
           0,
           0,
           0,
           0,
           0,
           0,
           0,
           0,
           0,
           0,
           0,
           0,
           0,
           0,
           0,
           0,
           0,
           0,
           0,
           0,
           0,
           0,
           0,
           0,
           9,
           10,
           0,
           0,
           0,
           0,
           0,
           0,
           0,
           0,
           9,
           10,
           10,
           10,
           10,
           0,
           7,
           0,
           0,
           0,
           0,
           0,
           0,
           0,
           0,
           0,
           0,
           0,
           0,
           0,
           0,
           0,
           0,
           0,
           0,
           0,
           0,
           0,
           0,
           0,
           0,
           0,
           0,
           0,
           0,
           0,
           0,
           0,
           0,
           9,
           10,
           10,
           0,
           0,
           0,
           0,
           0,
           0,
           0,
           0,
           0,
           0,
           0,
           0,
           0,
           0,
           0,
           0,
           0,
           0,
           0,
           0,
           5,
           0,
           0,
           5,
           0,
           0,
           5,
           0,
           0,
           0,
           5,
           6,
           0,
           0,
           0,
           0,
           0,
           0,
           0,
           0,
           0,
           0,
           0,
           0,
           0,
           0,
           0,
           0,
           0,
           0,
           0,
           0,
           0,
           9,
           0,
           0,
           0,
           0,
           0,
           0,
           0,
           0,
           0,
           0,
           0,
           0,
           0,
           0,
           9,
           10,
           10,
           0,
           0,
           0,
           0,
           0,
           9,
           10,
           0,
           0,
           7,
           8,
           0,
           0,
           0,
           0,
           0,
           0,
           0,
           0,
           0,
           0,
           0,
           0,
           0,
           0,
           0,
           0,
           0,
           0,
           0,
           0,
           0,
           7,
           8,
           0,
           0,
           0,
           0,
           0,
           0,
           0,
           0,
           0,
           0,
           0,
           0,
           0,
           0,
           9,
           10,
           0
          ],
          "coloraxis": "coloraxis",
          "symbol": "circle"
         },
         "mode": "markers",
         "name": "",
         "orientation": "v",
         "showlegend": false,
         "type": "scatter",
         "x": [
          18.22526741027832,
          10.5380277633667,
          10.253482818603516,
          10.305642127990723,
          9.756322860717773,
          8.937983512878418,
          -9.950557708740234,
          -14.430928230285645,
          -14.3905668258667,
          -14.233566284179688,
          -13.771387100219727,
          -13.214704513549805,
          -12.95702838897705,
          9.465750694274902,
          8.628853797912598,
          8.4887056350708,
          -9.304272651672363,
          15.59579849243164,
          6.406184673309326,
          7.74838924407959,
          8.735557556152344,
          -9.509269714355469,
          -10.642964363098145,
          -10.913850784301758,
          -10.649632453918457,
          -5.829720973968506,
          -5.177276611328125,
          -5.255613803863525,
          8.667022705078125,
          7.137119770050049,
          7.001711845397949,
          6.014091491699219,
          6.222701072692871,
          6.260364055633545,
          7.566221237182617,
          8.056674003601074,
          8.029611587524414,
          8.745034217834473,
          9.609933853149414,
          -10.270485877990723,
          -13.027078628540039,
          -12.323989868164062,
          -13.025557518005371,
          -12.736921310424805,
          -12.327364921569824,
          -12.22873306274414,
          -11.889687538146973,
          -11.777593612670898,
          14.602155685424805,
          -2.1900317668914795,
          -2.2466533184051514,
          -5.018924236297607,
          -4.506971836090088,
          -3.918827533721924,
          -12.815932273864746,
          -12.79056167602539,
          -12.363160133361816,
          -9.815478324890137,
          -9.982085227966309,
          -2.6150901317596436,
          -2.995851755142212,
          -2.8925259113311768,
          -4.992623805999756,
          -19.827110290527344,
          -24.403919219970703,
          -25.027172088623047,
          -25.591970443725586,
          -1.5343366861343384,
          14.894758224487305,
          2.714998722076416,
          3.4131381511688232,
          4.1323089599609375,
          4.423165321350098,
          4.490056991577148,
          -18.94956398010254,
          -22.65553092956543,
          -22.56197738647461,
          -23.88241195678711,
          -23.548011779785156,
          -24.163898468017578,
          -24.503995895385742,
          5.046991348266602,
          1.6389098167419434,
          1.4919097423553467,
          -10.286391258239746,
          -16.383121490478516,
          -16.128890991210938,
          -17.13148307800293,
          -16.824504852294922,
          -16.600603103637695,
          -17.012094497680664,
          -16.55707359313965,
          0.4494255781173706,
          0.9046530723571777,
          1.0563960075378418,
          3.9754233360290527,
          4.275577068328857,
          4.079497814178467,
          2.9960923194885254,
          2.121967077255249,
          -2.3892791271209717,
          -1.4279155731201172,
          -0.1995442509651184,
          0.04224536940455437,
          3.1713411808013916,
          3.4217593669891357,
          2.5763661861419678,
          2.385067939758301,
          1.7964308261871338,
          1.8178247213363647,
          1.1741201877593994,
          1.661399245262146,
          1.2695742845535278,
          0.8629505038261414,
          17.007827758789062,
          16.893590927124023,
          16.609560012817383,
          16.328256607055664,
          16.153242111206055,
          15.63044548034668,
          -17.836307525634766,
          15.430644989013672,
          14.964337348937988,
          -18.848552703857422,
          -25.66630744934082,
          -26.402841567993164,
          16.022554397583008,
          15.14155101776123,
          16.149065017700195,
          17.76325225830078,
          17.194122314453125,
          17.414430618286133,
          17.67424964904785,
          17.090078353881836,
          17.388072967529297,
          17.371601104736328,
          17.569948196411133,
          17.884435653686523,
          17.997905731201172,
          17.3370304107666,
          17.415117263793945,
          17.845584869384766,
          16.683834075927734,
          4.388299942016602,
          4.107210636138916,
          4.048556804656982,
          3.5822954177856445,
          3.1254663467407227,
          2.9328627586364746,
          1.5010197162628174,
          0.5881298184394836,
          0.41020047664642334,
          0.702067494392395,
          -1.1357755661010742,
          -1.6485975980758667,
          -1.693556547164917,
          -1.7074520587921143,
          -1.1687763929367065,
          1.9204667806625366,
          1.9770253896713257,
          1.6136631965637207,
          16.507413864135742,
          11.087675094604492,
          12.182063102722168,
          12.554428100585938,
          9.986207962036133,
          9.413298606872559,
          9.523123741149902,
          6.489386081695557,
          -8.379915237426758,
          -8.565120697021484,
          1.8541985750198364,
          8.068591117858887,
          7.916081428527832,
          7.545377254486084,
          7.619301795959473,
          6.103902339935303,
          -8.467827796936035,
          -8.840733528137207,
          1.8308331966400146,
          8.326765060424805,
          8.323288917541504,
          8.485031127929688,
          8.42398452758789,
          8.725485801696777,
          8.344642639160156,
          6.246964454650879,
          17.343542098999023,
          1.0483018159866333,
          0.9505831003189087,
          1.0084877014160156,
          17.03595542907715,
          18.59532356262207,
          18.517742156982422,
          18.5113525390625,
          18.580604553222656,
          18.05398941040039,
          17.49449348449707,
          -18.72102165222168,
          -24.861614227294922,
          -25.525606155395508,
          -10.898897171020508,
          16.768091201782227,
          16.919307708740234,
          15.9498291015625,
          16.801982879638672,
          19.334823608398438,
          18.183263778686523,
          -19.39331817626953,
          -25.911535263061523,
          -25.915576934814453,
          -26.047452926635742,
          -20.704608917236328,
          -25.495445251464844,
          3.7944748401641846,
          2.8915202617645264,
          15.29407787322998,
          8.7118558883667,
          8.4306640625,
          8.323569297790527,
          8.834004402160645,
          11.31785774230957,
          7.613727569580078,
          8.000492095947266,
          7.754889011383057,
          -2.2229397296905518,
          -2.125983238220215,
          -1.8764533996582031,
          6.763138771057129,
          9.1148099899292,
          9.468499183654785,
          9.903965950012207,
          9.96915054321289,
          10.102428436279297,
          -2.72320818901062,
          -2.6954894065856934,
          -3.7196297645568848,
          -1.533180832862854,
          -2.6907143592834473,
          -2.3330142498016357,
          -3.200291633605957,
          -2.773324489593506,
          -3.0527493953704834,
          -2.972968339920044,
          5.9350714683532715,
          9.857779502868652,
          10.539214134216309,
          10.819793701171875,
          10.666114807128906,
          10.294342041015625,
          17.235654830932617,
          10.25761890411377,
          10.389939308166504,
          10.70761489868164,
          10.558050155639648,
          9.322432518005371,
          -3.0826752185821533,
          3.051055669784546,
          3.9797604084014893,
          -10.407938003540039,
          -10.56874942779541,
          -10.621697425842285,
          -11.808189392089844,
          -11.618122100830078,
          -11.52298355102539,
          -11.327526092529297,
          -10.054136276245117,
          -11.193477630615234,
          -10.617111206054688,
          -10.295539855957031,
          4.743034839630127,
          5.035749435424805,
          9.701875686645508,
          9.6156644821167,
          8.015332221984863,
          7.776612758636475,
          -1.6347976922988892,
          14.140525817871094,
          -0.7797523140907288,
          -1.0767487287521362,
          -18.365713119506836,
          -18.624258041381836,
          -18.848283767700195,
          -18.989418029785156,
          -18.990108489990234,
          -1.3201314210891724,
          -6.137082099914551,
          -8.638877868652344,
          -9.201801300048828,
          -11.31363582611084,
          -9.423995971679688,
          -11.770401954650879,
          -10.126867294311523,
          -10.947391510009766,
          -10.816132545471191,
          -11.513097763061523,
          -12.054014205932617,
          -12.811567306518555,
          -12.563895225524902,
          -12.7097749710083,
          -13.14808177947998,
          -1.865256428718567,
          -1.95651113986969,
          -3.307325839996338,
          -3.18593692779541,
          15.35147476196289,
          2.6507492065429688,
          3.2693753242492676,
          3.1761720180511475,
          3.0324482917785645,
          2.633732318878174,
          1.065822958946228,
          -19.27810287475586,
          -24.251962661743164,
          -26.033180236816406,
          -23.81449317932129,
          -24.72295570373535,
          -25.457515716552734,
          0.6531344056129456,
          -19.281911849975586,
          -23.36029624938965,
          -24.7226505279541,
          -24.636432647705078,
          -25.56464385986328,
          1.1630245447158813,
          1.8427740335464478,
          1.9818357229232788,
          2.743067979812622,
          2.287759304046631,
          -18.56415557861328,
          -18.744434356689453,
          -26.72493553161621,
          4.332848072052002,
          1.3526233434677124,
          -8.358464241027832,
          -8.625813484191895,
          -10.206541061401367,
          -9.05727767944336,
          -9.824063301086426,
          2.811328887939453,
          2.7854695320129395,
          2.848235845565796,
          16.034610748291016,
          15.496434211730957,
          14.534236907958984,
          13.615642547607422,
          14.143502235412598,
          13.521646499633789,
          14.659858703613281,
          14.143882751464844,
          15.493953704833984,
          15.28136920928955,
          14.619148254394531,
          13.714924812316895,
          12.814266204833984,
          12.559884071350098,
          -7.955019474029541,
          -10.835724830627441,
          11.824851036071777,
          10.599992752075195,
          11.066877365112305,
          -8.142555236816406,
          -8.101937294006348,
          -8.274967193603516,
          14.023093223571777,
          13.868953704833984,
          14.27430534362793,
          13.573528289794922,
          12.87978458404541,
          12.560541152954102,
          -10.050956726074219
         ],
         "xaxis": "x",
         "y": [
          6.317399024963379,
          -14.277263641357422,
          -14.54690170288086,
          -14.511713981628418,
          -14.805153846740723,
          -15.1895112991333,
          -7.663271427154541,
          -14.934395790100098,
          -14.203439712524414,
          -14.506346702575684,
          -15.140823364257812,
          -14.746306419372559,
          -15.21805191040039,
          -15.657509803771973,
          -15.497962951660156,
          -15.421466827392578,
          -7.815760135650635,
          7.824443340301514,
          6.8204240798950195,
          7.3884053230285645,
          7.177704334259033,
          -6.8626556396484375,
          -14.850333213806152,
          -14.116226196289062,
          -14.280651092529297,
          -13.103528022766113,
          -12.966361045837402,
          -12.991307258605957,
          6.783259868621826,
          6.679544448852539,
          6.796830177307129,
          7.390740871429443,
          7.318145751953125,
          7.60883903503418,
          8.505127906799316,
          8.776473045349121,
          8.738290786743164,
          9.385370254516602,
          9.879508018493652,
          -7.984996318817139,
          -13.180487632751465,
          -12.542557716369629,
          -12.778209686279297,
          -13.494550704956055,
          -12.836565017700195,
          -13.349958419799805,
          -13.969250679016113,
          -13.390257835388184,
          9.079170227050781,
          5.710850238800049,
          5.70410680770874,
          6.708950996398926,
          6.684976100921631,
          6.457423210144043,
          6.627955436706543,
          7.133831024169922,
          7.881723403930664,
          7.609400272369385,
          7.724215507507324,
          5.842056751251221,
          6.0579304695129395,
          6.062636852264404,
          6.167849063873291,
          3.4096262454986572,
          2.754972457885742,
          2.3565337657928467,
          2.2862331867218018,
          4.864939212799072,
          8.279685974121094,
          12.119439125061035,
          11.718055725097656,
          11.450647354125977,
          11.732101440429688,
          11.832677841186523,
          1.7516194581985474,
          -0.9569441080093384,
          -0.9625147581100464,
          -0.588760256767273,
          -1.2377545833587646,
          -1.2341632843017578,
          -1.1736313104629517,
          -10.876952171325684,
          13.91114616394043,
          14.186186790466309,
          -6.117550849914551,
          -10.222360610961914,
          -11.125350952148438,
          -11.441523551940918,
          -11.776328086853027,
          -12.259269714355469,
          -11.878249168395996,
          -11.86417293548584,
          16.906259536743164,
          16.309139251708984,
          16.00081443786621,
          13.773055076599121,
          13.77813720703125,
          13.926840782165527,
          13.568851470947266,
          13.131097793579102,
          13.521977424621582,
          13.47531509399414,
          13.367938995361328,
          17.293834686279297,
          14.809699058532715,
          10.081295013427734,
          10.72512149810791,
          10.603508949279785,
          11.021591186523438,
          10.791922569274902,
          9.904894828796387,
          10.288172721862793,
          10.20900821685791,
          10.539525032043457,
          6.468677520751953,
          -7.374172687530518,
          -6.820814609527588,
          -6.655381679534912,
          -6.213010311126709,
          -5.7221245765686035,
          3.453704595565796,
          -2.349564552307129,
          -5.38281774520874,
          3.0061142444610596,
          3.596417188644409,
          2.7496397495269775,
          -3.064770221710205,
          -5.503750324249268,
          -3.609138011932373,
          -7.289010524749756,
          -6.980953693389893,
          -6.570428848266602,
          -6.302896022796631,
          -4.639656066894531,
          -2.0900700092315674,
          -2.410945415496826,
          -3.642117500305176,
          -3.825472593307495,
          -3.991044521331787,
          -5.1759867668151855,
          -5.24993371963501,
          -5.040590286254883,
          7.9460978507995605,
          -0.5956379175186157,
          -1.1211286783218384,
          -1.5772136449813843,
          -1.2524268627166748,
          -1.2636055946350098,
          -1.0643954277038574,
          -0.9786677360534668,
          -1.3523707389831543,
          -0.9509252309799194,
          -0.6386666297912598,
          -2.4658384323120117,
          -2.327376127243042,
          -1.8611451387405396,
          -1.785874605178833,
          -1.495523452758789,
          -0.29663366079330444,
          -0.31645411252975464,
          -0.4594430923461914,
          6.994415283203125,
          -7.474151134490967,
          -7.836304187774658,
          -8.070281028747559,
          -6.786798477172852,
          -6.841845512390137,
          -6.970448970794678,
          -6.209955215454102,
          -7.238733291625977,
          -13.081463813781738,
          -7.762579441070557,
          -6.405642986297607,
          -7.187546730041504,
          -7.629393100738525,
          -7.9332451820373535,
          -6.27125883102417,
          -7.332211017608643,
          -13.07520866394043,
          -7.761612892150879,
          -6.409682273864746,
          -7.080976963043213,
          -7.99648904800415,
          -9.157336235046387,
          -8.735743522644043,
          -7.9642510414123535,
          -6.295347690582275,
          8.399434089660645,
          -3.889389753341675,
          -3.9570508003234863,
          -3.903207302093506,
          6.191054821014404,
          -10.301066398620605,
          -10.725869178771973,
          -10.979114532470703,
          -11.41728687286377,
          -11.75304889678955,
          -11.00110149383545,
          3.1873226165771484,
          3.4002881050109863,
          2.953549385070801,
          6.910227298736572,
          -10.71330451965332,
          -11.065386772155762,
          -11.63254165649414,
          -11.579669952392578,
          -10.514579772949219,
          8.138079643249512,
          1.548554539680481,
          -1.1815375089645386,
          -1.0248879194259644,
          0.3125440180301666,
          2.8118765354156494,
          0.2543632388114929,
          -5.364579200744629,
          -5.717110633850098,
          7.425732135772705,
          1.7315118312835693,
          1.5048320293426514,
          0.8973963260650635,
          1.1271874904632568,
          0.8091686367988586,
          3.2732791900634766,
          2.5891895294189453,
          1.7775894403457642,
          -6.383124351501465,
          -6.7215142250061035,
          -7.596914768218994,
          1.41658616065979,
          2.354800224304199,
          2.2121570110321045,
          2.170400381088257,
          1.5735869407653809,
          1.0051214694976807,
          -16.75643539428711,
          -17.326969146728516,
          -19.254899978637695,
          -18.86717414855957,
          -17.213668823242188,
          -18.6741886138916,
          -18.679197311401367,
          -18.50189971923828,
          -18.75857162475586,
          -19.227794647216797,
          2.793743371963501,
          3.1838042736053467,
          3.5130615234375,
          2.91855525970459,
          2.8917455673217773,
          2.1716604232788086,
          7.196221351623535,
          -3.6838507652282715,
          -3.07953143119812,
          -2.680022716522217,
          -2.7581400871276855,
          -2.8283233642578125,
          -5.583310127258301,
          -9.312721252441406,
          -9.478137016296387,
          -0.3195205330848694,
          0.1928917020559311,
          0.7647488713264465,
          0.862567663192749,
          1.6530821323394775,
          2.2048957347869873,
          1.6112271547317505,
          1.8370978832244873,
          2.2458832263946533,
          1.3905776739120483,
          2.1879189014434814,
          -9.764434814453125,
          -9.562399864196777,
          -3.4503703117370605,
          -3.431725263595581,
          -3.0120489597320557,
          -2.996046304702759,
          -5.339654922485352,
          8.117863655090332,
          9.25734806060791,
          9.553394317626953,
          -7.35243558883667,
          -7.791029453277588,
          -8.193270683288574,
          -8.45944595336914,
          -8.597925186157227,
          9.663476943969727,
          9.617484092712402,
          9.508349418640137,
          9.546887397766113,
          8.744779586791992,
          9.50784969329834,
          9.49873161315918,
          9.429178237915039,
          9.402331352233887,
          9.58078384399414,
          9.948768615722656,
          10.320273399353027,
          9.840744018554688,
          9.161012649536133,
          8.930468559265137,
          9.030522346496582,
          9.707987785339355,
          9.694818496704102,
          10.360153198242188,
          10.365656852722168,
          8.191110610961914,
          2.242372512817383,
          2.296323299407959,
          2.9222967624664307,
          2.577885150909424,
          3.109846353530884,
          4.588801383972168,
          3.451603651046753,
          2.14497447013855,
          1.5569010972976685,
          1.7973649501800537,
          1.068377137184143,
          1.3976352214813232,
          5.50144624710083,
          3.415903091430664,
          3.045478582382202,
          1.703099012374878,
          1.2048672437667847,
          1.5996487140655518,
          5.156421184539795,
          3.9213075637817383,
          3.634978771209717,
          3.7583272457122803,
          3.788111925125122,
          3.944288730621338,
          4.212491989135742,
          1.7104886770248413,
          3.7009596824645996,
          3.1624059677124023,
          -7.661099433898926,
          -10.644835472106934,
          -11.948234558105469,
          -11.221014976501465,
          -12.16015625,
          4.571898937225342,
          4.884978294372559,
          5.22460412979126,
          9.948586463928223,
          19.562938690185547,
          19.309160232543945,
          19.30339813232422,
          18.514293670654297,
          18.44856834411621,
          19.7340145111084,
          19.458242416381836,
          21.67012596130371,
          21.01486587524414,
          20.549171447753906,
          20.08365821838379,
          20.633455276489258,
          19.198631286621094,
          -7.264026641845703,
          -12.60668659210205,
          19.68992042541504,
          19.689006805419922,
          19.825740814208984,
          -0.30944085121154785,
          -0.1634155958890915,
          0.3389130234718323,
          21.58608055114746,
          21.111677169799805,
          20.65155792236328,
          20.222639083862305,
          20.343591690063477,
          19.464265823364258,
          -1.3961989879608154
         ],
         "yaxis": "y"
        }
       ],
       "layout": {
        "coloraxis": {
         "colorbar": {
          "title": {
           "text": "label"
          }
         },
         "colorscale": [
          [
           0,
           "#0d0887"
          ],
          [
           0.1111111111111111,
           "#46039f"
          ],
          [
           0.2222222222222222,
           "#7201a8"
          ],
          [
           0.3333333333333333,
           "#9c179e"
          ],
          [
           0.4444444444444444,
           "#bd3786"
          ],
          [
           0.5555555555555556,
           "#d8576b"
          ],
          [
           0.6666666666666666,
           "#ed7953"
          ],
          [
           0.7777777777777778,
           "#fb9f3a"
          ],
          [
           0.8888888888888888,
           "#fdca26"
          ],
          [
           1,
           "#f0f921"
          ]
         ]
        },
        "legend": {
         "tracegroupgap": 0
        },
        "template": {
         "data": {
          "bar": [
           {
            "error_x": {
             "color": "#2a3f5f"
            },
            "error_y": {
             "color": "#2a3f5f"
            },
            "marker": {
             "line": {
              "color": "#E5ECF6",
              "width": 0.5
             },
             "pattern": {
              "fillmode": "overlay",
              "size": 10,
              "solidity": 0.2
             }
            },
            "type": "bar"
           }
          ],
          "barpolar": [
           {
            "marker": {
             "line": {
              "color": "#E5ECF6",
              "width": 0.5
             },
             "pattern": {
              "fillmode": "overlay",
              "size": 10,
              "solidity": 0.2
             }
            },
            "type": "barpolar"
           }
          ],
          "carpet": [
           {
            "aaxis": {
             "endlinecolor": "#2a3f5f",
             "gridcolor": "white",
             "linecolor": "white",
             "minorgridcolor": "white",
             "startlinecolor": "#2a3f5f"
            },
            "baxis": {
             "endlinecolor": "#2a3f5f",
             "gridcolor": "white",
             "linecolor": "white",
             "minorgridcolor": "white",
             "startlinecolor": "#2a3f5f"
            },
            "type": "carpet"
           }
          ],
          "choropleth": [
           {
            "colorbar": {
             "outlinewidth": 0,
             "ticks": ""
            },
            "type": "choropleth"
           }
          ],
          "contour": [
           {
            "colorbar": {
             "outlinewidth": 0,
             "ticks": ""
            },
            "colorscale": [
             [
              0,
              "#0d0887"
             ],
             [
              0.1111111111111111,
              "#46039f"
             ],
             [
              0.2222222222222222,
              "#7201a8"
             ],
             [
              0.3333333333333333,
              "#9c179e"
             ],
             [
              0.4444444444444444,
              "#bd3786"
             ],
             [
              0.5555555555555556,
              "#d8576b"
             ],
             [
              0.6666666666666666,
              "#ed7953"
             ],
             [
              0.7777777777777778,
              "#fb9f3a"
             ],
             [
              0.8888888888888888,
              "#fdca26"
             ],
             [
              1,
              "#f0f921"
             ]
            ],
            "type": "contour"
           }
          ],
          "contourcarpet": [
           {
            "colorbar": {
             "outlinewidth": 0,
             "ticks": ""
            },
            "type": "contourcarpet"
           }
          ],
          "heatmap": [
           {
            "colorbar": {
             "outlinewidth": 0,
             "ticks": ""
            },
            "colorscale": [
             [
              0,
              "#0d0887"
             ],
             [
              0.1111111111111111,
              "#46039f"
             ],
             [
              0.2222222222222222,
              "#7201a8"
             ],
             [
              0.3333333333333333,
              "#9c179e"
             ],
             [
              0.4444444444444444,
              "#bd3786"
             ],
             [
              0.5555555555555556,
              "#d8576b"
             ],
             [
              0.6666666666666666,
              "#ed7953"
             ],
             [
              0.7777777777777778,
              "#fb9f3a"
             ],
             [
              0.8888888888888888,
              "#fdca26"
             ],
             [
              1,
              "#f0f921"
             ]
            ],
            "type": "heatmap"
           }
          ],
          "heatmapgl": [
           {
            "colorbar": {
             "outlinewidth": 0,
             "ticks": ""
            },
            "colorscale": [
             [
              0,
              "#0d0887"
             ],
             [
              0.1111111111111111,
              "#46039f"
             ],
             [
              0.2222222222222222,
              "#7201a8"
             ],
             [
              0.3333333333333333,
              "#9c179e"
             ],
             [
              0.4444444444444444,
              "#bd3786"
             ],
             [
              0.5555555555555556,
              "#d8576b"
             ],
             [
              0.6666666666666666,
              "#ed7953"
             ],
             [
              0.7777777777777778,
              "#fb9f3a"
             ],
             [
              0.8888888888888888,
              "#fdca26"
             ],
             [
              1,
              "#f0f921"
             ]
            ],
            "type": "heatmapgl"
           }
          ],
          "histogram": [
           {
            "marker": {
             "pattern": {
              "fillmode": "overlay",
              "size": 10,
              "solidity": 0.2
             }
            },
            "type": "histogram"
           }
          ],
          "histogram2d": [
           {
            "colorbar": {
             "outlinewidth": 0,
             "ticks": ""
            },
            "colorscale": [
             [
              0,
              "#0d0887"
             ],
             [
              0.1111111111111111,
              "#46039f"
             ],
             [
              0.2222222222222222,
              "#7201a8"
             ],
             [
              0.3333333333333333,
              "#9c179e"
             ],
             [
              0.4444444444444444,
              "#bd3786"
             ],
             [
              0.5555555555555556,
              "#d8576b"
             ],
             [
              0.6666666666666666,
              "#ed7953"
             ],
             [
              0.7777777777777778,
              "#fb9f3a"
             ],
             [
              0.8888888888888888,
              "#fdca26"
             ],
             [
              1,
              "#f0f921"
             ]
            ],
            "type": "histogram2d"
           }
          ],
          "histogram2dcontour": [
           {
            "colorbar": {
             "outlinewidth": 0,
             "ticks": ""
            },
            "colorscale": [
             [
              0,
              "#0d0887"
             ],
             [
              0.1111111111111111,
              "#46039f"
             ],
             [
              0.2222222222222222,
              "#7201a8"
             ],
             [
              0.3333333333333333,
              "#9c179e"
             ],
             [
              0.4444444444444444,
              "#bd3786"
             ],
             [
              0.5555555555555556,
              "#d8576b"
             ],
             [
              0.6666666666666666,
              "#ed7953"
             ],
             [
              0.7777777777777778,
              "#fb9f3a"
             ],
             [
              0.8888888888888888,
              "#fdca26"
             ],
             [
              1,
              "#f0f921"
             ]
            ],
            "type": "histogram2dcontour"
           }
          ],
          "mesh3d": [
           {
            "colorbar": {
             "outlinewidth": 0,
             "ticks": ""
            },
            "type": "mesh3d"
           }
          ],
          "parcoords": [
           {
            "line": {
             "colorbar": {
              "outlinewidth": 0,
              "ticks": ""
             }
            },
            "type": "parcoords"
           }
          ],
          "pie": [
           {
            "automargin": true,
            "type": "pie"
           }
          ],
          "scatter": [
           {
            "fillpattern": {
             "fillmode": "overlay",
             "size": 10,
             "solidity": 0.2
            },
            "type": "scatter"
           }
          ],
          "scatter3d": [
           {
            "line": {
             "colorbar": {
              "outlinewidth": 0,
              "ticks": ""
             }
            },
            "marker": {
             "colorbar": {
              "outlinewidth": 0,
              "ticks": ""
             }
            },
            "type": "scatter3d"
           }
          ],
          "scattercarpet": [
           {
            "marker": {
             "colorbar": {
              "outlinewidth": 0,
              "ticks": ""
             }
            },
            "type": "scattercarpet"
           }
          ],
          "scattergeo": [
           {
            "marker": {
             "colorbar": {
              "outlinewidth": 0,
              "ticks": ""
             }
            },
            "type": "scattergeo"
           }
          ],
          "scattergl": [
           {
            "marker": {
             "colorbar": {
              "outlinewidth": 0,
              "ticks": ""
             }
            },
            "type": "scattergl"
           }
          ],
          "scattermapbox": [
           {
            "marker": {
             "colorbar": {
              "outlinewidth": 0,
              "ticks": ""
             }
            },
            "type": "scattermapbox"
           }
          ],
          "scatterpolar": [
           {
            "marker": {
             "colorbar": {
              "outlinewidth": 0,
              "ticks": ""
             }
            },
            "type": "scatterpolar"
           }
          ],
          "scatterpolargl": [
           {
            "marker": {
             "colorbar": {
              "outlinewidth": 0,
              "ticks": ""
             }
            },
            "type": "scatterpolargl"
           }
          ],
          "scatterternary": [
           {
            "marker": {
             "colorbar": {
              "outlinewidth": 0,
              "ticks": ""
             }
            },
            "type": "scatterternary"
           }
          ],
          "surface": [
           {
            "colorbar": {
             "outlinewidth": 0,
             "ticks": ""
            },
            "colorscale": [
             [
              0,
              "#0d0887"
             ],
             [
              0.1111111111111111,
              "#46039f"
             ],
             [
              0.2222222222222222,
              "#7201a8"
             ],
             [
              0.3333333333333333,
              "#9c179e"
             ],
             [
              0.4444444444444444,
              "#bd3786"
             ],
             [
              0.5555555555555556,
              "#d8576b"
             ],
             [
              0.6666666666666666,
              "#ed7953"
             ],
             [
              0.7777777777777778,
              "#fb9f3a"
             ],
             [
              0.8888888888888888,
              "#fdca26"
             ],
             [
              1,
              "#f0f921"
             ]
            ],
            "type": "surface"
           }
          ],
          "table": [
           {
            "cells": {
             "fill": {
              "color": "#EBF0F8"
             },
             "line": {
              "color": "white"
             }
            },
            "header": {
             "fill": {
              "color": "#C8D4E3"
             },
             "line": {
              "color": "white"
             }
            },
            "type": "table"
           }
          ]
         },
         "layout": {
          "annotationdefaults": {
           "arrowcolor": "#2a3f5f",
           "arrowhead": 0,
           "arrowwidth": 1
          },
          "autotypenumbers": "strict",
          "coloraxis": {
           "colorbar": {
            "outlinewidth": 0,
            "ticks": ""
           }
          },
          "colorscale": {
           "diverging": [
            [
             0,
             "#8e0152"
            ],
            [
             0.1,
             "#c51b7d"
            ],
            [
             0.2,
             "#de77ae"
            ],
            [
             0.3,
             "#f1b6da"
            ],
            [
             0.4,
             "#fde0ef"
            ],
            [
             0.5,
             "#f7f7f7"
            ],
            [
             0.6,
             "#e6f5d0"
            ],
            [
             0.7,
             "#b8e186"
            ],
            [
             0.8,
             "#7fbc41"
            ],
            [
             0.9,
             "#4d9221"
            ],
            [
             1,
             "#276419"
            ]
           ],
           "sequential": [
            [
             0,
             "#0d0887"
            ],
            [
             0.1111111111111111,
             "#46039f"
            ],
            [
             0.2222222222222222,
             "#7201a8"
            ],
            [
             0.3333333333333333,
             "#9c179e"
            ],
            [
             0.4444444444444444,
             "#bd3786"
            ],
            [
             0.5555555555555556,
             "#d8576b"
            ],
            [
             0.6666666666666666,
             "#ed7953"
            ],
            [
             0.7777777777777778,
             "#fb9f3a"
            ],
            [
             0.8888888888888888,
             "#fdca26"
            ],
            [
             1,
             "#f0f921"
            ]
           ],
           "sequentialminus": [
            [
             0,
             "#0d0887"
            ],
            [
             0.1111111111111111,
             "#46039f"
            ],
            [
             0.2222222222222222,
             "#7201a8"
            ],
            [
             0.3333333333333333,
             "#9c179e"
            ],
            [
             0.4444444444444444,
             "#bd3786"
            ],
            [
             0.5555555555555556,
             "#d8576b"
            ],
            [
             0.6666666666666666,
             "#ed7953"
            ],
            [
             0.7777777777777778,
             "#fb9f3a"
            ],
            [
             0.8888888888888888,
             "#fdca26"
            ],
            [
             1,
             "#f0f921"
            ]
           ]
          },
          "colorway": [
           "#636efa",
           "#EF553B",
           "#00cc96",
           "#ab63fa",
           "#FFA15A",
           "#19d3f3",
           "#FF6692",
           "#B6E880",
           "#FF97FF",
           "#FECB52"
          ],
          "font": {
           "color": "#2a3f5f"
          },
          "geo": {
           "bgcolor": "white",
           "lakecolor": "white",
           "landcolor": "#E5ECF6",
           "showlakes": true,
           "showland": true,
           "subunitcolor": "white"
          },
          "hoverlabel": {
           "align": "left"
          },
          "hovermode": "closest",
          "mapbox": {
           "style": "light"
          },
          "paper_bgcolor": "white",
          "plot_bgcolor": "#E5ECF6",
          "polar": {
           "angularaxis": {
            "gridcolor": "white",
            "linecolor": "white",
            "ticks": ""
           },
           "bgcolor": "#E5ECF6",
           "radialaxis": {
            "gridcolor": "white",
            "linecolor": "white",
            "ticks": ""
           }
          },
          "scene": {
           "xaxis": {
            "backgroundcolor": "#E5ECF6",
            "gridcolor": "white",
            "gridwidth": 2,
            "linecolor": "white",
            "showbackground": true,
            "ticks": "",
            "zerolinecolor": "white"
           },
           "yaxis": {
            "backgroundcolor": "#E5ECF6",
            "gridcolor": "white",
            "gridwidth": 2,
            "linecolor": "white",
            "showbackground": true,
            "ticks": "",
            "zerolinecolor": "white"
           },
           "zaxis": {
            "backgroundcolor": "#E5ECF6",
            "gridcolor": "white",
            "gridwidth": 2,
            "linecolor": "white",
            "showbackground": true,
            "ticks": "",
            "zerolinecolor": "white"
           }
          },
          "shapedefaults": {
           "line": {
            "color": "#2a3f5f"
           }
          },
          "ternary": {
           "aaxis": {
            "gridcolor": "white",
            "linecolor": "white",
            "ticks": ""
           },
           "baxis": {
            "gridcolor": "white",
            "linecolor": "white",
            "ticks": ""
           },
           "bgcolor": "#E5ECF6",
           "caxis": {
            "gridcolor": "white",
            "linecolor": "white",
            "ticks": ""
           }
          },
          "title": {
           "x": 0.05
          },
          "xaxis": {
           "automargin": true,
           "gridcolor": "white",
           "linecolor": "white",
           "ticks": "",
           "title": {
            "standoff": 15
           },
           "zerolinecolor": "white",
           "zerolinewidth": 2
          },
          "yaxis": {
           "automargin": true,
           "gridcolor": "white",
           "linecolor": "white",
           "ticks": "",
           "title": {
            "standoff": 15
           },
           "zerolinecolor": "white",
           "zerolinewidth": 2
          }
         }
        },
        "title": {
         "text": "2D Vector Space of Test Examples"
        },
        "xaxis": {
         "anchor": "y",
         "domain": [
          0,
          1
         ],
         "title": {
          "text": "x"
         }
        },
        "yaxis": {
         "anchor": "x",
         "domain": [
          0,
          1
         ],
         "title": {
          "text": "y"
         }
        }
       }
      }
     },
     "metadata": {},
     "output_type": "display_data"
    }
   ],
   "source": [
    "import torch\n",
    "from sklearn.manifold import TSNE\n",
    "import plotly.express as px\n",
    "import pandas as pd\n",
    "import numpy as np\n",
    "\n",
    "\n",
    "\n",
    "test_dataset = tokenized_datasets[\"validation\"].select(range(15))\n",
    "print(test_dataset[0])\n",
    "\n",
    "\n",
    "def get_embeddings(dataset, model, tokenizer):\n",
    "    model.eval()\n",
    "    embeddings = []\n",
    "    labels = []\n",
    "    tokens = []\n",
    "    \n",
    "    with torch.no_grad():\n",
    "        for example in dataset:\n",
    "            inputs = tokenizer(\n",
    "                example[\"tokens\"],is_split_into_words=True,return_tensors=\"pt\", truncation=True, padding='max_length', max_length=128\n",
    "            ).to(device)\n",
    "            outputs = model(**inputs, output_hidden_states=True)\n",
    "       \n",
    "            token_embeddings = outputs.hidden_states[-1].squeeze(0) \n",
    "            embeddings.append(token_embeddings.cpu().numpy())\n",
    "            labels.extend(example[\"ner_tags\"])\n",
    "            tokens.extend(example[\"tokens\"])\n",
    "\n",
    "\n",
    "    flat_embeddings = np.vstack([embedding[:len(label)] for embedding, label in zip(embeddings, dataset[\"ner_tags\"])])\n",
    "    flat_labels = [label for sublist in dataset[\"ner_tags\"] for label in sublist]\n",
    "    flat_tokens = [token for sublist in dataset[\"tokens\"] for token in sublist]\n",
    "    return flat_embeddings, flat_labels, flat_tokens\n",
    "\n",
    "embeddings, labels, tokens = get_embeddings(test_dataset, model, tokenizer)\n",
    "\n",
    "\n",
    "reducer = TSNE(n_components=2, random_state=42)\n",
    "reduced_embeddings = reducer.fit_transform(embeddings)\n",
    "\n",
    "\n",
    "df = pd.DataFrame({\n",
    "    \"x\": reduced_embeddings[:, 0],\n",
    "    \"y\": reduced_embeddings[:, 1],\n",
    "    \"label\": labels,\n",
    "    \"token\": tokens\n",
    "})\n",
    "\n",
    "fig = px.scatter(\n",
    "    df, x=\"x\", y=\"y\", color=\"label\", hover_data=[\"token\"],\n",
    "    title=\"2D Vector Space of Test Examples\",\n",
    "    labels={\"color\": \"NER Label\"}\n",
    ")\n",
    "fig.show()\n"
   ]
  },
  {
   "cell_type": "code",
   "execution_count": 79,
   "metadata": {},
   "outputs": [
    {
     "data": {
      "application/vnd.plotly.v1+json": {
       "config": {
        "plotlyServerURL": "https://plot.ly"
       },
       "data": [
        {
         "customdata": [
          [
           "The"
          ],
          [
           "percentages"
          ],
          [
           "of"
          ],
          [
           "the"
          ],
          [
           "T/NK-cell"
          ],
          [
           "subsets"
          ],
          [
           "in"
          ],
          [
           "the"
          ],
          [
           "PB"
          ],
          [
           "were"
          ],
          [
           "not"
          ],
          [
           "significantly"
          ],
          [
           "different"
          ],
          [
           "among"
          ],
          [
           "these"
          ],
          [
           "groups"
          ],
          [
           "."
          ],
          [
           "No"
          ],
          [
           "alterations"
          ],
          [
           "of"
          ],
          [
           "thymocyte"
          ],
          [
           "subpopulations"
          ],
          [
           "were"
          ],
          [
           "seen"
          ],
          [
           ","
          ],
          [
           "suggesting"
          ],
          [
           "that"
          ],
          [
           "changes"
          ],
          [
           "in"
          ],
          [
           "the"
          ],
          [
           "percentage"
          ],
          [
           "of"
          ],
          [
           "CD4+"
          ],
          [
           "CD8+"
          ],
          [
           "thymocytes"
          ],
          [
           "after"
          ],
          [
           "administration"
          ],
          [
           "of"
          ],
          [
           "androgens"
          ],
          [
           "depend"
          ],
          [
           "on"
          ],
          [
           "the"
          ],
          [
           "presence"
          ],
          [
           "of"
          ],
          [
           "functional"
          ],
          [
           "androgen"
          ],
          [
           "receptors"
          ],
          [
           "."
          ],
          [
           "Moreover"
          ],
          [
           ","
          ],
          [
           "endogenous"
          ],
          [
           "PKCtheta"
          ],
          [
           "physically"
          ],
          [
           "associates"
          ],
          [
           "with"
          ],
          [
           "activated"
          ],
          [
           "IKK"
          ],
          [
           "complexes"
          ],
          [
           "in"
          ],
          [
           "CD3/CD28-costimulated"
          ],
          [
           "primary"
          ],
          [
           "CD4"
          ],
          [
           "("
          ],
          [
           "+"
          ],
          [
           ")"
          ],
          [
           "T"
          ],
          [
           "cells"
          ],
          [
           "."
          ],
          [
           "Despite"
          ],
          [
           "the"
          ],
          [
           "greater"
          ],
          [
           "number"
          ],
          [
           "of"
          ],
          [
           "glucocorticoid"
          ],
          [
           "receptor"
          ],
          [
           "sites"
          ],
          [
           ","
          ],
          [
           "the"
          ],
          [
           "peanut-negative"
          ],
          [
           "thymocyte"
          ],
          [
           "subpopulation"
          ],
          [
           "did"
          ],
          [
           "not"
          ],
          [
           "differ"
          ],
          [
           "from"
          ],
          [
           "the"
          ],
          [
           "peanut-positive"
          ],
          [
           "one"
          ],
          [
           "in"
          ],
          [
           "its"
          ],
          [
           "sensitivity"
          ],
          [
           "to"
          ],
          [
           "the"
          ],
          [
           "inhibitory"
          ],
          [
           "effects"
          ],
          [
           "of"
          ],
          [
           "triamcinolone"
          ],
          [
           "acetonide"
          ],
          [
           ","
          ],
          [
           "as"
          ],
          [
           "determined"
          ],
          [
           "by"
          ],
          [
           "measurements"
          ],
          [
           "of"
          ],
          [
           "the"
          ],
          [
           "incorporation"
          ],
          [
           "of"
          ],
          [
           "radiolabeled"
          ],
          [
           "precursors"
          ],
          [
           "of"
          ],
          [
           "protein"
          ],
          [
           "and"
          ],
          [
           "DNA"
          ],
          [
           "."
          ],
          [
           "Furthermore"
          ],
          [
           ","
          ],
          [
           "the"
          ],
          [
           "correlation"
          ],
          [
           "between"
          ],
          [
           "cap"
          ],
          [
           "formation"
          ],
          [
           ","
          ],
          [
           "IL-2"
          ],
          [
           "production"
          ],
          [
           "and"
          ],
          [
           "proliferation"
          ],
          [
           "supports"
          ],
          [
           "the"
          ],
          [
           "hypothesis"
          ],
          [
           "that"
          ],
          [
           "an"
          ],
          [
           "actin-dependent"
          ],
          [
           "pathway"
          ],
          [
           "is"
          ],
          [
           "a"
          ],
          [
           "source"
          ],
          [
           "of"
          ],
          [
           "specialized"
          ],
          [
           "growth"
          ],
          [
           "regulatory"
          ],
          [
           "signals"
          ],
          [
           "."
          ],
          [
           "Our"
          ],
          [
           "data"
          ],
          [
           "support"
          ],
          [
           "the"
          ],
          [
           "hypothesis"
          ],
          [
           "that"
          ],
          [
           "the"
          ],
          [
           "skin"
          ],
          [
           "lesions"
          ],
          [
           "of"
          ],
          [
           "dermatophytosis"
          ],
          [
           "may"
          ],
          [
           "be"
          ],
          [
           "associated"
          ],
          [
           "with"
          ],
          [
           "a"
          ],
          [
           "Th1"
          ],
          [
           "response"
          ],
          [
           "."
          ],
          [
           "Distal"
          ],
          [
           "promoter"
          ],
          [
           "activity"
          ],
          [
           "is"
          ],
          [
           "maintained"
          ],
          [
           "throughout"
          ],
          [
           "T"
          ],
          [
           "cell"
          ],
          [
           "development"
          ],
          [
           "and"
          ],
          [
           "at"
          ],
          [
           "lower"
          ],
          [
           "levels"
          ],
          [
           "in"
          ],
          [
           "B"
          ],
          [
           "cell"
          ],
          [
           "development"
          ],
          [
           ","
          ],
          [
           "but"
          ],
          [
           "downregulated"
          ],
          [
           "in"
          ],
          [
           "natural"
          ],
          [
           "killer"
          ],
          [
           "cell"
          ],
          [
           "development"
          ],
          [
           "."
          ],
          [
           "Hepatic"
          ],
          [
           "ischemia-reperfusion"
          ],
          [
           "injury"
          ],
          [
           "."
          ],
          [
           "However"
          ],
          [
           ","
          ],
          [
           "the"
          ],
          [
           "molecular"
          ],
          [
           "mechanisms"
          ],
          [
           "regulating"
          ],
          [
           "SDF1"
          ],
          [
           "alpha"
          ],
          [
           "-driven"
          ],
          [
           "cell"
          ],
          [
           "migration"
          ],
          [
           "are"
          ],
          [
           "not"
          ],
          [
           "well"
          ],
          [
           "defined"
          ],
          [
           "."
          ],
          [
           "HMG"
          ],
          [
           "box"
          ],
          [
           "containing"
          ],
          [
           "transcription"
          ],
          [
           "factors"
          ],
          [
           "in"
          ],
          [
           "lymphocyte"
          ],
          [
           "differentiation"
          ],
          [
           "."
          ],
          [
           "The"
          ],
          [
           "commitment"
          ],
          [
           "stage"
          ],
          [
           "towards"
          ],
          [
           "PMA-induced"
          ],
          [
           "macrophage"
          ],
          [
           "differentiation"
          ],
          [
           "was"
          ],
          [
           "associated"
          ],
          [
           "with"
          ],
          [
           "increases"
          ],
          [
           "in"
          ],
          [
           "jun"
          ],
          [
           "B"
          ],
          [
           "and"
          ],
          [
           "c-fos"
          ],
          [
           "mRNA"
          ],
          [
           "levels"
          ],
          [
           ","
          ],
          [
           "as"
          ],
          [
           "well"
          ],
          [
           "as"
          ],
          [
           "with"
          ],
          [
           "an"
          ],
          [
           "increase"
          ],
          [
           "in"
          ],
          [
           "the"
          ],
          [
           "binding"
          ],
          [
           "activity"
          ],
          [
           "of"
          ],
          [
           "transcription"
          ],
          [
           "factor"
          ],
          [
           "AP-1"
          ],
          [
           "."
          ],
          [
           "A"
          ],
          [
           "gradation"
          ],
          [
           "in"
          ],
          [
           "whole"
          ],
          [
           "cell"
          ],
          [
           "and"
          ],
          [
           "cytoplasmic"
          ],
          [
           "glucocorticoid"
          ],
          [
           "binding"
          ],
          [
           "capacity"
          ],
          [
           "was"
          ],
          [
           "observed"
          ],
          [
           "in"
          ],
          [
           "the"
          ],
          [
           "different"
          ],
          [
           "cell"
          ],
          [
           "line"
          ],
          [
           "types"
          ],
          [
           ":"
          ],
          [
           "lymphoblastoid"
          ],
          [
           "greater"
          ],
          [
           "than"
          ],
          [
           "lymphoma"
          ],
          [
           "greater"
          ],
          [
           "than"
          ],
          [
           "leukaemia"
          ],
          [
           "."
          ],
          [
           "Treatment"
          ],
          [
           "of"
          ],
          [
           "HL-60"
          ],
          [
           "cells"
          ],
          [
           "with"
          ],
          [
           "1"
          ],
          [
           "alpha"
          ],
          [
           ","
          ],
          [
           "25-dihydroxyvitamin"
          ],
          [
           "D3"
          ],
          [
           ","
          ],
          [
           "another"
          ],
          [
           "monocytic"
          ],
          [
           "differentiation"
          ],
          [
           "agent"
          ],
          [
           ","
          ],
          [
           "induced"
          ],
          [
           "a"
          ],
          [
           "weak"
          ],
          [
           ","
          ],
          [
           "but"
          ],
          [
           "appreciable"
          ],
          [
           ","
          ],
          [
           "increase"
          ],
          [
           "in"
          ],
          [
           "AP-1"
          ],
          [
           "activity"
          ],
          [
           "."
          ],
          [
           "Our"
          ],
          [
           "previous"
          ],
          [
           "studies"
          ],
          [
           "have"
          ],
          [
           "implicated"
          ],
          [
           "the"
          ],
          [
           "nuclear"
          ],
          [
           "transcription"
          ],
          [
           "factor"
          ],
          [
           "kappa"
          ],
          [
           "B"
          ],
          [
           "("
          ],
          [
           "NF"
          ],
          [
           "kappa"
          ],
          [
           "B"
          ],
          [
           ")"
          ],
          [
           "in"
          ],
          [
           "the"
          ],
          [
           "regulation"
          ],
          [
           "of"
          ],
          [
           "adhesion"
          ],
          [
           "molecule"
          ],
          [
           "expression"
          ],
          [
           "in"
          ],
          [
           "endothelial"
          ],
          [
           "cells"
          ],
          [
           "exposed"
          ],
          [
           "to"
          ],
          [
           "anoxia-reoxygenation"
          ],
          [
           "("
          ],
          [
           "A/R"
          ],
          [
           ")"
          ],
          [
           "or"
          ],
          [
           "a"
          ],
          [
           "redox"
          ],
          [
           "imbalance"
          ],
          [
           "."
          ],
          [
           "Two"
          ],
          [
           "assays"
          ],
          [
           "of"
          ],
          [
           "binding"
          ],
          [
           "were"
          ],
          [
           "used"
          ],
          [
           "--"
          ],
          [
           "an"
          ],
          [
           "assay"
          ],
          [
           "with"
          ],
          [
           "intact"
          ],
          [
           "cells"
          ],
          [
           "in"
          ],
          [
           "suspension"
          ],
          [
           "or"
          ],
          [
           "monolayers"
          ],
          [
           ","
          ],
          [
           "and"
          ],
          [
           "an"
          ],
          [
           "assay"
          ],
          [
           "of"
          ],
          [
           "cytosol"
          ],
          [
           "and"
          ],
          [
           "nuclear"
          ],
          [
           "forms"
          ],
          [
           "of"
          ],
          [
           "glucocorticoid"
          ],
          [
           "receptors"
          ],
          [
           "."
          ]
         ],
         "hovertemplate": "x=%{x}<br>y=%{y}<br>token=%{customdata[0]}<br>example_id=%{marker.color}<extra></extra>",
         "legendgroup": "",
         "marker": {
          "color": [
           0,
           0,
           0,
           0,
           0,
           0,
           0,
           0,
           0,
           0,
           0,
           0,
           0,
           0,
           0,
           0,
           0,
           1,
           1,
           1,
           1,
           1,
           1,
           1,
           1,
           1,
           1,
           1,
           1,
           1,
           1,
           1,
           1,
           1,
           1,
           1,
           1,
           1,
           1,
           1,
           1,
           1,
           1,
           1,
           1,
           1,
           1,
           1,
           2,
           2,
           2,
           2,
           2,
           2,
           2,
           2,
           2,
           2,
           2,
           2,
           2,
           2,
           2,
           2,
           2,
           2,
           2,
           2,
           3,
           3,
           3,
           3,
           3,
           3,
           3,
           3,
           3,
           3,
           3,
           3,
           3,
           3,
           3,
           3,
           3,
           3,
           3,
           3,
           3,
           3,
           3,
           3,
           3,
           3,
           3,
           3,
           3,
           3,
           3,
           3,
           3,
           3,
           3,
           3,
           3,
           3,
           3,
           3,
           3,
           3,
           3,
           3,
           3,
           3,
           4,
           4,
           4,
           4,
           4,
           4,
           4,
           4,
           4,
           4,
           4,
           4,
           4,
           4,
           4,
           4,
           4,
           4,
           4,
           4,
           4,
           4,
           4,
           4,
           4,
           4,
           4,
           4,
           5,
           5,
           5,
           5,
           5,
           5,
           5,
           5,
           5,
           5,
           5,
           5,
           5,
           5,
           5,
           5,
           5,
           5,
           5,
           6,
           6,
           6,
           6,
           6,
           6,
           6,
           6,
           6,
           6,
           6,
           6,
           6,
           6,
           6,
           6,
           6,
           6,
           6,
           6,
           6,
           6,
           6,
           6,
           6,
           6,
           7,
           7,
           7,
           7,
           8,
           8,
           8,
           8,
           8,
           8,
           8,
           8,
           8,
           8,
           8,
           8,
           8,
           8,
           8,
           8,
           9,
           9,
           9,
           9,
           9,
           9,
           9,
           9,
           9,
           10,
           10,
           10,
           10,
           10,
           10,
           10,
           10,
           10,
           10,
           10,
           10,
           10,
           10,
           10,
           10,
           10,
           10,
           10,
           10,
           10,
           10,
           10,
           10,
           10,
           10,
           10,
           10,
           10,
           10,
           10,
           10,
           10,
           10,
           11,
           11,
           11,
           11,
           11,
           11,
           11,
           11,
           11,
           11,
           11,
           11,
           11,
           11,
           11,
           11,
           11,
           11,
           11,
           11,
           11,
           11,
           11,
           11,
           11,
           11,
           11,
           12,
           12,
           12,
           12,
           12,
           12,
           12,
           12,
           12,
           12,
           12,
           12,
           12,
           12,
           12,
           12,
           12,
           12,
           12,
           12,
           12,
           12,
           12,
           12,
           12,
           12,
           12,
           12,
           13,
           13,
           13,
           13,
           13,
           13,
           13,
           13,
           13,
           13,
           13,
           13,
           13,
           13,
           13,
           13,
           13,
           13,
           13,
           13,
           13,
           13,
           13,
           13,
           13,
           13,
           13,
           13,
           13,
           13,
           13,
           13,
           13,
           13,
           13,
           13,
           13,
           14,
           14,
           14,
           14,
           14,
           14,
           14,
           14,
           14,
           14,
           14,
           14,
           14,
           14,
           14,
           14,
           14,
           14,
           14,
           14,
           14,
           14,
           14,
           14,
           14,
           14,
           14,
           14,
           14
          ],
          "coloraxis": "coloraxis",
          "symbol": "circle"
         },
         "mode": "markers",
         "name": "",
         "orientation": "v",
         "showlegend": false,
         "type": "scatter",
         "x": [
          18.22526741027832,
          10.5380277633667,
          10.253482818603516,
          10.305642127990723,
          9.756322860717773,
          8.937983512878418,
          -9.950557708740234,
          -14.430928230285645,
          -14.3905668258667,
          -14.233566284179688,
          -13.771387100219727,
          -13.214704513549805,
          -12.95702838897705,
          9.465750694274902,
          8.628853797912598,
          8.4887056350708,
          -9.304272651672363,
          15.59579849243164,
          6.406184673309326,
          7.74838924407959,
          8.735557556152344,
          -9.509269714355469,
          -10.642964363098145,
          -10.913850784301758,
          -10.649632453918457,
          -5.829720973968506,
          -5.177276611328125,
          -5.255613803863525,
          8.667022705078125,
          7.137119770050049,
          7.001711845397949,
          6.014091491699219,
          6.222701072692871,
          6.260364055633545,
          7.566221237182617,
          8.056674003601074,
          8.029611587524414,
          8.745034217834473,
          9.609933853149414,
          -10.270485877990723,
          -13.027078628540039,
          -12.323989868164062,
          -13.025557518005371,
          -12.736921310424805,
          -12.327364921569824,
          -12.22873306274414,
          -11.889687538146973,
          -11.777593612670898,
          14.602155685424805,
          -2.1900317668914795,
          -2.2466533184051514,
          -5.018924236297607,
          -4.506971836090088,
          -3.918827533721924,
          -12.815932273864746,
          -12.79056167602539,
          -12.363160133361816,
          -9.815478324890137,
          -9.982085227966309,
          -2.6150901317596436,
          -2.995851755142212,
          -2.8925259113311768,
          -4.992623805999756,
          -19.827110290527344,
          -24.403919219970703,
          -25.027172088623047,
          -25.591970443725586,
          -1.5343366861343384,
          14.894758224487305,
          2.714998722076416,
          3.4131381511688232,
          4.1323089599609375,
          4.423165321350098,
          4.490056991577148,
          -18.94956398010254,
          -22.65553092956543,
          -22.56197738647461,
          -23.88241195678711,
          -23.548011779785156,
          -24.163898468017578,
          -24.503995895385742,
          5.046991348266602,
          1.6389098167419434,
          1.4919097423553467,
          -10.286391258239746,
          -16.383121490478516,
          -16.128890991210938,
          -17.13148307800293,
          -16.824504852294922,
          -16.600603103637695,
          -17.012094497680664,
          -16.55707359313965,
          0.4494255781173706,
          0.9046530723571777,
          1.0563960075378418,
          3.9754233360290527,
          4.275577068328857,
          4.079497814178467,
          2.9960923194885254,
          2.121967077255249,
          -2.3892791271209717,
          -1.4279155731201172,
          -0.1995442509651184,
          0.04224536940455437,
          3.1713411808013916,
          3.4217593669891357,
          2.5763661861419678,
          2.385067939758301,
          1.7964308261871338,
          1.8178247213363647,
          1.1741201877593994,
          1.661399245262146,
          1.2695742845535278,
          0.8629505038261414,
          17.007827758789062,
          16.893590927124023,
          16.609560012817383,
          16.328256607055664,
          16.153242111206055,
          15.63044548034668,
          -17.836307525634766,
          15.430644989013672,
          14.964337348937988,
          -18.848552703857422,
          -25.66630744934082,
          -26.402841567993164,
          16.022554397583008,
          15.14155101776123,
          16.149065017700195,
          17.76325225830078,
          17.194122314453125,
          17.414430618286133,
          17.67424964904785,
          17.090078353881836,
          17.388072967529297,
          17.371601104736328,
          17.569948196411133,
          17.884435653686523,
          17.997905731201172,
          17.3370304107666,
          17.415117263793945,
          17.845584869384766,
          16.683834075927734,
          4.388299942016602,
          4.107210636138916,
          4.048556804656982,
          3.5822954177856445,
          3.1254663467407227,
          2.9328627586364746,
          1.5010197162628174,
          0.5881298184394836,
          0.41020047664642334,
          0.702067494392395,
          -1.1357755661010742,
          -1.6485975980758667,
          -1.693556547164917,
          -1.7074520587921143,
          -1.1687763929367065,
          1.9204667806625366,
          1.9770253896713257,
          1.6136631965637207,
          16.507413864135742,
          11.087675094604492,
          12.182063102722168,
          12.554428100585938,
          9.986207962036133,
          9.413298606872559,
          9.523123741149902,
          6.489386081695557,
          -8.379915237426758,
          -8.565120697021484,
          1.8541985750198364,
          8.068591117858887,
          7.916081428527832,
          7.545377254486084,
          7.619301795959473,
          6.103902339935303,
          -8.467827796936035,
          -8.840733528137207,
          1.8308331966400146,
          8.326765060424805,
          8.323288917541504,
          8.485031127929688,
          8.42398452758789,
          8.725485801696777,
          8.344642639160156,
          6.246964454650879,
          17.343542098999023,
          1.0483018159866333,
          0.9505831003189087,
          1.0084877014160156,
          17.03595542907715,
          18.59532356262207,
          18.517742156982422,
          18.5113525390625,
          18.580604553222656,
          18.05398941040039,
          17.49449348449707,
          -18.72102165222168,
          -24.861614227294922,
          -25.525606155395508,
          -10.898897171020508,
          16.768091201782227,
          16.919307708740234,
          15.9498291015625,
          16.801982879638672,
          19.334823608398438,
          18.183263778686523,
          -19.39331817626953,
          -25.911535263061523,
          -25.915576934814453,
          -26.047452926635742,
          -20.704608917236328,
          -25.495445251464844,
          3.7944748401641846,
          2.8915202617645264,
          15.29407787322998,
          8.7118558883667,
          8.4306640625,
          8.323569297790527,
          8.834004402160645,
          11.31785774230957,
          7.613727569580078,
          8.000492095947266,
          7.754889011383057,
          -2.2229397296905518,
          -2.125983238220215,
          -1.8764533996582031,
          6.763138771057129,
          9.1148099899292,
          9.468499183654785,
          9.903965950012207,
          9.96915054321289,
          10.102428436279297,
          -2.72320818901062,
          -2.6954894065856934,
          -3.7196297645568848,
          -1.533180832862854,
          -2.6907143592834473,
          -2.3330142498016357,
          -3.200291633605957,
          -2.773324489593506,
          -3.0527493953704834,
          -2.972968339920044,
          5.9350714683532715,
          9.857779502868652,
          10.539214134216309,
          10.819793701171875,
          10.666114807128906,
          10.294342041015625,
          17.235654830932617,
          10.25761890411377,
          10.389939308166504,
          10.70761489868164,
          10.558050155639648,
          9.322432518005371,
          -3.0826752185821533,
          3.051055669784546,
          3.9797604084014893,
          -10.407938003540039,
          -10.56874942779541,
          -10.621697425842285,
          -11.808189392089844,
          -11.618122100830078,
          -11.52298355102539,
          -11.327526092529297,
          -10.054136276245117,
          -11.193477630615234,
          -10.617111206054688,
          -10.295539855957031,
          4.743034839630127,
          5.035749435424805,
          9.701875686645508,
          9.6156644821167,
          8.015332221984863,
          7.776612758636475,
          -1.6347976922988892,
          14.140525817871094,
          -0.7797523140907288,
          -1.0767487287521362,
          -18.365713119506836,
          -18.624258041381836,
          -18.848283767700195,
          -18.989418029785156,
          -18.990108489990234,
          -1.3201314210891724,
          -6.137082099914551,
          -8.638877868652344,
          -9.201801300048828,
          -11.31363582611084,
          -9.423995971679688,
          -11.770401954650879,
          -10.126867294311523,
          -10.947391510009766,
          -10.816132545471191,
          -11.513097763061523,
          -12.054014205932617,
          -12.811567306518555,
          -12.563895225524902,
          -12.7097749710083,
          -13.14808177947998,
          -1.865256428718567,
          -1.95651113986969,
          -3.307325839996338,
          -3.18593692779541,
          15.35147476196289,
          2.6507492065429688,
          3.2693753242492676,
          3.1761720180511475,
          3.0324482917785645,
          2.633732318878174,
          1.065822958946228,
          -19.27810287475586,
          -24.251962661743164,
          -26.033180236816406,
          -23.81449317932129,
          -24.72295570373535,
          -25.457515716552734,
          0.6531344056129456,
          -19.281911849975586,
          -23.36029624938965,
          -24.7226505279541,
          -24.636432647705078,
          -25.56464385986328,
          1.1630245447158813,
          1.8427740335464478,
          1.9818357229232788,
          2.743067979812622,
          2.287759304046631,
          -18.56415557861328,
          -18.744434356689453,
          -26.72493553161621,
          4.332848072052002,
          1.3526233434677124,
          -8.358464241027832,
          -8.625813484191895,
          -10.206541061401367,
          -9.05727767944336,
          -9.824063301086426,
          2.811328887939453,
          2.7854695320129395,
          2.848235845565796,
          16.034610748291016,
          15.496434211730957,
          14.534236907958984,
          13.615642547607422,
          14.143502235412598,
          13.521646499633789,
          14.659858703613281,
          14.143882751464844,
          15.493953704833984,
          15.28136920928955,
          14.619148254394531,
          13.714924812316895,
          12.814266204833984,
          12.559884071350098,
          -7.955019474029541,
          -10.835724830627441,
          11.824851036071777,
          10.599992752075195,
          11.066877365112305,
          -8.142555236816406,
          -8.101937294006348,
          -8.274967193603516,
          14.023093223571777,
          13.868953704833984,
          14.27430534362793,
          13.573528289794922,
          12.87978458404541,
          12.560541152954102,
          -10.050956726074219
         ],
         "xaxis": "x",
         "y": [
          6.317399024963379,
          -14.277263641357422,
          -14.54690170288086,
          -14.511713981628418,
          -14.805153846740723,
          -15.1895112991333,
          -7.663271427154541,
          -14.934395790100098,
          -14.203439712524414,
          -14.506346702575684,
          -15.140823364257812,
          -14.746306419372559,
          -15.21805191040039,
          -15.657509803771973,
          -15.497962951660156,
          -15.421466827392578,
          -7.815760135650635,
          7.824443340301514,
          6.8204240798950195,
          7.3884053230285645,
          7.177704334259033,
          -6.8626556396484375,
          -14.850333213806152,
          -14.116226196289062,
          -14.280651092529297,
          -13.103528022766113,
          -12.966361045837402,
          -12.991307258605957,
          6.783259868621826,
          6.679544448852539,
          6.796830177307129,
          7.390740871429443,
          7.318145751953125,
          7.60883903503418,
          8.505127906799316,
          8.776473045349121,
          8.738290786743164,
          9.385370254516602,
          9.879508018493652,
          -7.984996318817139,
          -13.180487632751465,
          -12.542557716369629,
          -12.778209686279297,
          -13.494550704956055,
          -12.836565017700195,
          -13.349958419799805,
          -13.969250679016113,
          -13.390257835388184,
          9.079170227050781,
          5.710850238800049,
          5.70410680770874,
          6.708950996398926,
          6.684976100921631,
          6.457423210144043,
          6.627955436706543,
          7.133831024169922,
          7.881723403930664,
          7.609400272369385,
          7.724215507507324,
          5.842056751251221,
          6.0579304695129395,
          6.062636852264404,
          6.167849063873291,
          3.4096262454986572,
          2.754972457885742,
          2.3565337657928467,
          2.2862331867218018,
          4.864939212799072,
          8.279685974121094,
          12.119439125061035,
          11.718055725097656,
          11.450647354125977,
          11.732101440429688,
          11.832677841186523,
          1.7516194581985474,
          -0.9569441080093384,
          -0.9625147581100464,
          -0.588760256767273,
          -1.2377545833587646,
          -1.2341632843017578,
          -1.1736313104629517,
          -10.876952171325684,
          13.91114616394043,
          14.186186790466309,
          -6.117550849914551,
          -10.222360610961914,
          -11.125350952148438,
          -11.441523551940918,
          -11.776328086853027,
          -12.259269714355469,
          -11.878249168395996,
          -11.86417293548584,
          16.906259536743164,
          16.309139251708984,
          16.00081443786621,
          13.773055076599121,
          13.77813720703125,
          13.926840782165527,
          13.568851470947266,
          13.131097793579102,
          13.521977424621582,
          13.47531509399414,
          13.367938995361328,
          17.293834686279297,
          14.809699058532715,
          10.081295013427734,
          10.72512149810791,
          10.603508949279785,
          11.021591186523438,
          10.791922569274902,
          9.904894828796387,
          10.288172721862793,
          10.20900821685791,
          10.539525032043457,
          6.468677520751953,
          -7.374172687530518,
          -6.820814609527588,
          -6.655381679534912,
          -6.213010311126709,
          -5.7221245765686035,
          3.453704595565796,
          -2.349564552307129,
          -5.38281774520874,
          3.0061142444610596,
          3.596417188644409,
          2.7496397495269775,
          -3.064770221710205,
          -5.503750324249268,
          -3.609138011932373,
          -7.289010524749756,
          -6.980953693389893,
          -6.570428848266602,
          -6.302896022796631,
          -4.639656066894531,
          -2.0900700092315674,
          -2.410945415496826,
          -3.642117500305176,
          -3.825472593307495,
          -3.991044521331787,
          -5.1759867668151855,
          -5.24993371963501,
          -5.040590286254883,
          7.9460978507995605,
          -0.5956379175186157,
          -1.1211286783218384,
          -1.5772136449813843,
          -1.2524268627166748,
          -1.2636055946350098,
          -1.0643954277038574,
          -0.9786677360534668,
          -1.3523707389831543,
          -0.9509252309799194,
          -0.6386666297912598,
          -2.4658384323120117,
          -2.327376127243042,
          -1.8611451387405396,
          -1.785874605178833,
          -1.495523452758789,
          -0.29663366079330444,
          -0.31645411252975464,
          -0.4594430923461914,
          6.994415283203125,
          -7.474151134490967,
          -7.836304187774658,
          -8.070281028747559,
          -6.786798477172852,
          -6.841845512390137,
          -6.970448970794678,
          -6.209955215454102,
          -7.238733291625977,
          -13.081463813781738,
          -7.762579441070557,
          -6.405642986297607,
          -7.187546730041504,
          -7.629393100738525,
          -7.9332451820373535,
          -6.27125883102417,
          -7.332211017608643,
          -13.07520866394043,
          -7.761612892150879,
          -6.409682273864746,
          -7.080976963043213,
          -7.99648904800415,
          -9.157336235046387,
          -8.735743522644043,
          -7.9642510414123535,
          -6.295347690582275,
          8.399434089660645,
          -3.889389753341675,
          -3.9570508003234863,
          -3.903207302093506,
          6.191054821014404,
          -10.301066398620605,
          -10.725869178771973,
          -10.979114532470703,
          -11.41728687286377,
          -11.75304889678955,
          -11.00110149383545,
          3.1873226165771484,
          3.4002881050109863,
          2.953549385070801,
          6.910227298736572,
          -10.71330451965332,
          -11.065386772155762,
          -11.63254165649414,
          -11.579669952392578,
          -10.514579772949219,
          8.138079643249512,
          1.548554539680481,
          -1.1815375089645386,
          -1.0248879194259644,
          0.3125440180301666,
          2.8118765354156494,
          0.2543632388114929,
          -5.364579200744629,
          -5.717110633850098,
          7.425732135772705,
          1.7315118312835693,
          1.5048320293426514,
          0.8973963260650635,
          1.1271874904632568,
          0.8091686367988586,
          3.2732791900634766,
          2.5891895294189453,
          1.7775894403457642,
          -6.383124351501465,
          -6.7215142250061035,
          -7.596914768218994,
          1.41658616065979,
          2.354800224304199,
          2.2121570110321045,
          2.170400381088257,
          1.5735869407653809,
          1.0051214694976807,
          -16.75643539428711,
          -17.326969146728516,
          -19.254899978637695,
          -18.86717414855957,
          -17.213668823242188,
          -18.6741886138916,
          -18.679197311401367,
          -18.50189971923828,
          -18.75857162475586,
          -19.227794647216797,
          2.793743371963501,
          3.1838042736053467,
          3.5130615234375,
          2.91855525970459,
          2.8917455673217773,
          2.1716604232788086,
          7.196221351623535,
          -3.6838507652282715,
          -3.07953143119812,
          -2.680022716522217,
          -2.7581400871276855,
          -2.8283233642578125,
          -5.583310127258301,
          -9.312721252441406,
          -9.478137016296387,
          -0.3195205330848694,
          0.1928917020559311,
          0.7647488713264465,
          0.862567663192749,
          1.6530821323394775,
          2.2048957347869873,
          1.6112271547317505,
          1.8370978832244873,
          2.2458832263946533,
          1.3905776739120483,
          2.1879189014434814,
          -9.764434814453125,
          -9.562399864196777,
          -3.4503703117370605,
          -3.431725263595581,
          -3.0120489597320557,
          -2.996046304702759,
          -5.339654922485352,
          8.117863655090332,
          9.25734806060791,
          9.553394317626953,
          -7.35243558883667,
          -7.791029453277588,
          -8.193270683288574,
          -8.45944595336914,
          -8.597925186157227,
          9.663476943969727,
          9.617484092712402,
          9.508349418640137,
          9.546887397766113,
          8.744779586791992,
          9.50784969329834,
          9.49873161315918,
          9.429178237915039,
          9.402331352233887,
          9.58078384399414,
          9.948768615722656,
          10.320273399353027,
          9.840744018554688,
          9.161012649536133,
          8.930468559265137,
          9.030522346496582,
          9.707987785339355,
          9.694818496704102,
          10.360153198242188,
          10.365656852722168,
          8.191110610961914,
          2.242372512817383,
          2.296323299407959,
          2.9222967624664307,
          2.577885150909424,
          3.109846353530884,
          4.588801383972168,
          3.451603651046753,
          2.14497447013855,
          1.5569010972976685,
          1.7973649501800537,
          1.068377137184143,
          1.3976352214813232,
          5.50144624710083,
          3.415903091430664,
          3.045478582382202,
          1.703099012374878,
          1.2048672437667847,
          1.5996487140655518,
          5.156421184539795,
          3.9213075637817383,
          3.634978771209717,
          3.7583272457122803,
          3.788111925125122,
          3.944288730621338,
          4.212491989135742,
          1.7104886770248413,
          3.7009596824645996,
          3.1624059677124023,
          -7.661099433898926,
          -10.644835472106934,
          -11.948234558105469,
          -11.221014976501465,
          -12.16015625,
          4.571898937225342,
          4.884978294372559,
          5.22460412979126,
          9.948586463928223,
          19.562938690185547,
          19.309160232543945,
          19.30339813232422,
          18.514293670654297,
          18.44856834411621,
          19.7340145111084,
          19.458242416381836,
          21.67012596130371,
          21.01486587524414,
          20.549171447753906,
          20.08365821838379,
          20.633455276489258,
          19.198631286621094,
          -7.264026641845703,
          -12.60668659210205,
          19.68992042541504,
          19.689006805419922,
          19.825740814208984,
          -0.30944085121154785,
          -0.1634155958890915,
          0.3389130234718323,
          21.58608055114746,
          21.111677169799805,
          20.65155792236328,
          20.222639083862305,
          20.343591690063477,
          19.464265823364258,
          -1.3961989879608154
         ],
         "yaxis": "y"
        }
       ],
       "layout": {
        "coloraxis": {
         "colorbar": {
          "title": {
           "text": "example_id"
          }
         },
         "colorscale": [
          [
           0,
           "#0d0887"
          ],
          [
           0.1111111111111111,
           "#46039f"
          ],
          [
           0.2222222222222222,
           "#7201a8"
          ],
          [
           0.3333333333333333,
           "#9c179e"
          ],
          [
           0.4444444444444444,
           "#bd3786"
          ],
          [
           0.5555555555555556,
           "#d8576b"
          ],
          [
           0.6666666666666666,
           "#ed7953"
          ],
          [
           0.7777777777777778,
           "#fb9f3a"
          ],
          [
           0.8888888888888888,
           "#fdca26"
          ],
          [
           1,
           "#f0f921"
          ]
         ]
        },
        "legend": {
         "tracegroupgap": 0
        },
        "template": {
         "data": {
          "bar": [
           {
            "error_x": {
             "color": "#2a3f5f"
            },
            "error_y": {
             "color": "#2a3f5f"
            },
            "marker": {
             "line": {
              "color": "#E5ECF6",
              "width": 0.5
             },
             "pattern": {
              "fillmode": "overlay",
              "size": 10,
              "solidity": 0.2
             }
            },
            "type": "bar"
           }
          ],
          "barpolar": [
           {
            "marker": {
             "line": {
              "color": "#E5ECF6",
              "width": 0.5
             },
             "pattern": {
              "fillmode": "overlay",
              "size": 10,
              "solidity": 0.2
             }
            },
            "type": "barpolar"
           }
          ],
          "carpet": [
           {
            "aaxis": {
             "endlinecolor": "#2a3f5f",
             "gridcolor": "white",
             "linecolor": "white",
             "minorgridcolor": "white",
             "startlinecolor": "#2a3f5f"
            },
            "baxis": {
             "endlinecolor": "#2a3f5f",
             "gridcolor": "white",
             "linecolor": "white",
             "minorgridcolor": "white",
             "startlinecolor": "#2a3f5f"
            },
            "type": "carpet"
           }
          ],
          "choropleth": [
           {
            "colorbar": {
             "outlinewidth": 0,
             "ticks": ""
            },
            "type": "choropleth"
           }
          ],
          "contour": [
           {
            "colorbar": {
             "outlinewidth": 0,
             "ticks": ""
            },
            "colorscale": [
             [
              0,
              "#0d0887"
             ],
             [
              0.1111111111111111,
              "#46039f"
             ],
             [
              0.2222222222222222,
              "#7201a8"
             ],
             [
              0.3333333333333333,
              "#9c179e"
             ],
             [
              0.4444444444444444,
              "#bd3786"
             ],
             [
              0.5555555555555556,
              "#d8576b"
             ],
             [
              0.6666666666666666,
              "#ed7953"
             ],
             [
              0.7777777777777778,
              "#fb9f3a"
             ],
             [
              0.8888888888888888,
              "#fdca26"
             ],
             [
              1,
              "#f0f921"
             ]
            ],
            "type": "contour"
           }
          ],
          "contourcarpet": [
           {
            "colorbar": {
             "outlinewidth": 0,
             "ticks": ""
            },
            "type": "contourcarpet"
           }
          ],
          "heatmap": [
           {
            "colorbar": {
             "outlinewidth": 0,
             "ticks": ""
            },
            "colorscale": [
             [
              0,
              "#0d0887"
             ],
             [
              0.1111111111111111,
              "#46039f"
             ],
             [
              0.2222222222222222,
              "#7201a8"
             ],
             [
              0.3333333333333333,
              "#9c179e"
             ],
             [
              0.4444444444444444,
              "#bd3786"
             ],
             [
              0.5555555555555556,
              "#d8576b"
             ],
             [
              0.6666666666666666,
              "#ed7953"
             ],
             [
              0.7777777777777778,
              "#fb9f3a"
             ],
             [
              0.8888888888888888,
              "#fdca26"
             ],
             [
              1,
              "#f0f921"
             ]
            ],
            "type": "heatmap"
           }
          ],
          "heatmapgl": [
           {
            "colorbar": {
             "outlinewidth": 0,
             "ticks": ""
            },
            "colorscale": [
             [
              0,
              "#0d0887"
             ],
             [
              0.1111111111111111,
              "#46039f"
             ],
             [
              0.2222222222222222,
              "#7201a8"
             ],
             [
              0.3333333333333333,
              "#9c179e"
             ],
             [
              0.4444444444444444,
              "#bd3786"
             ],
             [
              0.5555555555555556,
              "#d8576b"
             ],
             [
              0.6666666666666666,
              "#ed7953"
             ],
             [
              0.7777777777777778,
              "#fb9f3a"
             ],
             [
              0.8888888888888888,
              "#fdca26"
             ],
             [
              1,
              "#f0f921"
             ]
            ],
            "type": "heatmapgl"
           }
          ],
          "histogram": [
           {
            "marker": {
             "pattern": {
              "fillmode": "overlay",
              "size": 10,
              "solidity": 0.2
             }
            },
            "type": "histogram"
           }
          ],
          "histogram2d": [
           {
            "colorbar": {
             "outlinewidth": 0,
             "ticks": ""
            },
            "colorscale": [
             [
              0,
              "#0d0887"
             ],
             [
              0.1111111111111111,
              "#46039f"
             ],
             [
              0.2222222222222222,
              "#7201a8"
             ],
             [
              0.3333333333333333,
              "#9c179e"
             ],
             [
              0.4444444444444444,
              "#bd3786"
             ],
             [
              0.5555555555555556,
              "#d8576b"
             ],
             [
              0.6666666666666666,
              "#ed7953"
             ],
             [
              0.7777777777777778,
              "#fb9f3a"
             ],
             [
              0.8888888888888888,
              "#fdca26"
             ],
             [
              1,
              "#f0f921"
             ]
            ],
            "type": "histogram2d"
           }
          ],
          "histogram2dcontour": [
           {
            "colorbar": {
             "outlinewidth": 0,
             "ticks": ""
            },
            "colorscale": [
             [
              0,
              "#0d0887"
             ],
             [
              0.1111111111111111,
              "#46039f"
             ],
             [
              0.2222222222222222,
              "#7201a8"
             ],
             [
              0.3333333333333333,
              "#9c179e"
             ],
             [
              0.4444444444444444,
              "#bd3786"
             ],
             [
              0.5555555555555556,
              "#d8576b"
             ],
             [
              0.6666666666666666,
              "#ed7953"
             ],
             [
              0.7777777777777778,
              "#fb9f3a"
             ],
             [
              0.8888888888888888,
              "#fdca26"
             ],
             [
              1,
              "#f0f921"
             ]
            ],
            "type": "histogram2dcontour"
           }
          ],
          "mesh3d": [
           {
            "colorbar": {
             "outlinewidth": 0,
             "ticks": ""
            },
            "type": "mesh3d"
           }
          ],
          "parcoords": [
           {
            "line": {
             "colorbar": {
              "outlinewidth": 0,
              "ticks": ""
             }
            },
            "type": "parcoords"
           }
          ],
          "pie": [
           {
            "automargin": true,
            "type": "pie"
           }
          ],
          "scatter": [
           {
            "fillpattern": {
             "fillmode": "overlay",
             "size": 10,
             "solidity": 0.2
            },
            "type": "scatter"
           }
          ],
          "scatter3d": [
           {
            "line": {
             "colorbar": {
              "outlinewidth": 0,
              "ticks": ""
             }
            },
            "marker": {
             "colorbar": {
              "outlinewidth": 0,
              "ticks": ""
             }
            },
            "type": "scatter3d"
           }
          ],
          "scattercarpet": [
           {
            "marker": {
             "colorbar": {
              "outlinewidth": 0,
              "ticks": ""
             }
            },
            "type": "scattercarpet"
           }
          ],
          "scattergeo": [
           {
            "marker": {
             "colorbar": {
              "outlinewidth": 0,
              "ticks": ""
             }
            },
            "type": "scattergeo"
           }
          ],
          "scattergl": [
           {
            "marker": {
             "colorbar": {
              "outlinewidth": 0,
              "ticks": ""
             }
            },
            "type": "scattergl"
           }
          ],
          "scattermapbox": [
           {
            "marker": {
             "colorbar": {
              "outlinewidth": 0,
              "ticks": ""
             }
            },
            "type": "scattermapbox"
           }
          ],
          "scatterpolar": [
           {
            "marker": {
             "colorbar": {
              "outlinewidth": 0,
              "ticks": ""
             }
            },
            "type": "scatterpolar"
           }
          ],
          "scatterpolargl": [
           {
            "marker": {
             "colorbar": {
              "outlinewidth": 0,
              "ticks": ""
             }
            },
            "type": "scatterpolargl"
           }
          ],
          "scatterternary": [
           {
            "marker": {
             "colorbar": {
              "outlinewidth": 0,
              "ticks": ""
             }
            },
            "type": "scatterternary"
           }
          ],
          "surface": [
           {
            "colorbar": {
             "outlinewidth": 0,
             "ticks": ""
            },
            "colorscale": [
             [
              0,
              "#0d0887"
             ],
             [
              0.1111111111111111,
              "#46039f"
             ],
             [
              0.2222222222222222,
              "#7201a8"
             ],
             [
              0.3333333333333333,
              "#9c179e"
             ],
             [
              0.4444444444444444,
              "#bd3786"
             ],
             [
              0.5555555555555556,
              "#d8576b"
             ],
             [
              0.6666666666666666,
              "#ed7953"
             ],
             [
              0.7777777777777778,
              "#fb9f3a"
             ],
             [
              0.8888888888888888,
              "#fdca26"
             ],
             [
              1,
              "#f0f921"
             ]
            ],
            "type": "surface"
           }
          ],
          "table": [
           {
            "cells": {
             "fill": {
              "color": "#EBF0F8"
             },
             "line": {
              "color": "white"
             }
            },
            "header": {
             "fill": {
              "color": "#C8D4E3"
             },
             "line": {
              "color": "white"
             }
            },
            "type": "table"
           }
          ]
         },
         "layout": {
          "annotationdefaults": {
           "arrowcolor": "#2a3f5f",
           "arrowhead": 0,
           "arrowwidth": 1
          },
          "autotypenumbers": "strict",
          "coloraxis": {
           "colorbar": {
            "outlinewidth": 0,
            "ticks": ""
           }
          },
          "colorscale": {
           "diverging": [
            [
             0,
             "#8e0152"
            ],
            [
             0.1,
             "#c51b7d"
            ],
            [
             0.2,
             "#de77ae"
            ],
            [
             0.3,
             "#f1b6da"
            ],
            [
             0.4,
             "#fde0ef"
            ],
            [
             0.5,
             "#f7f7f7"
            ],
            [
             0.6,
             "#e6f5d0"
            ],
            [
             0.7,
             "#b8e186"
            ],
            [
             0.8,
             "#7fbc41"
            ],
            [
             0.9,
             "#4d9221"
            ],
            [
             1,
             "#276419"
            ]
           ],
           "sequential": [
            [
             0,
             "#0d0887"
            ],
            [
             0.1111111111111111,
             "#46039f"
            ],
            [
             0.2222222222222222,
             "#7201a8"
            ],
            [
             0.3333333333333333,
             "#9c179e"
            ],
            [
             0.4444444444444444,
             "#bd3786"
            ],
            [
             0.5555555555555556,
             "#d8576b"
            ],
            [
             0.6666666666666666,
             "#ed7953"
            ],
            [
             0.7777777777777778,
             "#fb9f3a"
            ],
            [
             0.8888888888888888,
             "#fdca26"
            ],
            [
             1,
             "#f0f921"
            ]
           ],
           "sequentialminus": [
            [
             0,
             "#0d0887"
            ],
            [
             0.1111111111111111,
             "#46039f"
            ],
            [
             0.2222222222222222,
             "#7201a8"
            ],
            [
             0.3333333333333333,
             "#9c179e"
            ],
            [
             0.4444444444444444,
             "#bd3786"
            ],
            [
             0.5555555555555556,
             "#d8576b"
            ],
            [
             0.6666666666666666,
             "#ed7953"
            ],
            [
             0.7777777777777778,
             "#fb9f3a"
            ],
            [
             0.8888888888888888,
             "#fdca26"
            ],
            [
             1,
             "#f0f921"
            ]
           ]
          },
          "colorway": [
           "#636efa",
           "#EF553B",
           "#00cc96",
           "#ab63fa",
           "#FFA15A",
           "#19d3f3",
           "#FF6692",
           "#B6E880",
           "#FF97FF",
           "#FECB52"
          ],
          "font": {
           "color": "#2a3f5f"
          },
          "geo": {
           "bgcolor": "white",
           "lakecolor": "white",
           "landcolor": "#E5ECF6",
           "showlakes": true,
           "showland": true,
           "subunitcolor": "white"
          },
          "hoverlabel": {
           "align": "left"
          },
          "hovermode": "closest",
          "mapbox": {
           "style": "light"
          },
          "paper_bgcolor": "white",
          "plot_bgcolor": "#E5ECF6",
          "polar": {
           "angularaxis": {
            "gridcolor": "white",
            "linecolor": "white",
            "ticks": ""
           },
           "bgcolor": "#E5ECF6",
           "radialaxis": {
            "gridcolor": "white",
            "linecolor": "white",
            "ticks": ""
           }
          },
          "scene": {
           "xaxis": {
            "backgroundcolor": "#E5ECF6",
            "gridcolor": "white",
            "gridwidth": 2,
            "linecolor": "white",
            "showbackground": true,
            "ticks": "",
            "zerolinecolor": "white"
           },
           "yaxis": {
            "backgroundcolor": "#E5ECF6",
            "gridcolor": "white",
            "gridwidth": 2,
            "linecolor": "white",
            "showbackground": true,
            "ticks": "",
            "zerolinecolor": "white"
           },
           "zaxis": {
            "backgroundcolor": "#E5ECF6",
            "gridcolor": "white",
            "gridwidth": 2,
            "linecolor": "white",
            "showbackground": true,
            "ticks": "",
            "zerolinecolor": "white"
           }
          },
          "shapedefaults": {
           "line": {
            "color": "#2a3f5f"
           }
          },
          "ternary": {
           "aaxis": {
            "gridcolor": "white",
            "linecolor": "white",
            "ticks": ""
           },
           "baxis": {
            "gridcolor": "white",
            "linecolor": "white",
            "ticks": ""
           },
           "bgcolor": "#E5ECF6",
           "caxis": {
            "gridcolor": "white",
            "linecolor": "white",
            "ticks": ""
           }
          },
          "title": {
           "x": 0.05
          },
          "xaxis": {
           "automargin": true,
           "gridcolor": "white",
           "linecolor": "white",
           "ticks": "",
           "title": {
            "standoff": 15
           },
           "zerolinecolor": "white",
           "zerolinewidth": 2
          },
          "yaxis": {
           "automargin": true,
           "gridcolor": "white",
           "linecolor": "white",
           "ticks": "",
           "title": {
            "standoff": 15
           },
           "zerolinecolor": "white",
           "zerolinewidth": 2
          }
         }
        },
        "title": {
         "text": "2D Vector Space of Test Examples (Grouped by Example)"
        },
        "xaxis": {
         "anchor": "y",
         "domain": [
          0,
          1
         ],
         "title": {
          "text": "x"
         }
        },
        "yaxis": {
         "anchor": "x",
         "domain": [
          0,
          1
         ],
         "title": {
          "text": "y"
         }
        }
       }
      }
     },
     "metadata": {},
     "output_type": "display_data"
    }
   ],
   "source": [
    "# Dodajmy identyfikatory przykładów do DataFrame\n",
    "example_ids = []\n",
    "for idx, example in enumerate(test_dataset):\n",
    "    example_ids.extend([idx] * len(example[\"tokens\"]))\n",
    "\n",
    "# Aktualizujemy DataFrame o identyfikatory przykładów\n",
    "df[\"example_id\"] = example_ids\n",
    "\n",
    "# Tworzymy nowy wykres\n",
    "fig2 = px.scatter(\n",
    "    df, x=\"x\", y=\"y\", color=\"example_id\", hover_data=[\"token\"],\n",
    "    title=\"2D Vector Space of Test Examples (Grouped by Example)\",\n",
    "    labels={\"color\": \"Example ID\"}\n",
    ")\n",
    "fig2.show()\n"
   ]
  },
  {
   "cell_type": "markdown",
   "metadata": {},
   "source": [
    "# Wizauliacja poprawnych przykładów"
   ]
  },
  {
   "cell_type": "code",
   "execution_count": 80,
   "metadata": {},
   "outputs": [
    {
     "data": {
      "application/vnd.plotly.v1+json": {
       "config": {
        "plotlyServerURL": "https://plot.ly"
       },
       "data": [
        {
         "customdata": [
          [
           "H"
          ],
          [
           "e"
          ],
          [
           "p"
          ],
          [
           "a"
          ],
          [
           "t"
          ],
          [
           "i"
          ],
          [
           "c"
          ],
          [
           "i"
          ],
          [
           "s"
          ],
          [
           "c"
          ],
          [
           "h"
          ],
          [
           "e"
          ],
          [
           "m"
          ],
          [
           "i"
          ],
          [
           "a"
          ],
          [
           "-"
          ],
          [
           "r"
          ],
          [
           "e"
          ],
          [
           "p"
          ],
          [
           "e"
          ],
          [
           "r"
          ],
          [
           "f"
          ],
          [
           "u"
          ],
          [
           "s"
          ],
          [
           "i"
          ],
          [
           "o"
          ],
          [
           "n"
          ],
          [
           "i"
          ],
          [
           "n"
          ],
          [
           "j"
          ],
          [
           "u"
          ],
          [
           "r"
          ],
          [
           "y"
          ],
          [
           "."
          ],
          [
           "A"
          ],
          [
           "l"
          ],
          [
           "t"
          ],
          [
           "h"
          ],
          [
           "o"
          ],
          [
           "u"
          ],
          [
           "g"
          ],
          [
           "h"
          ],
          [
           "t"
          ],
          [
           "h"
          ],
          [
           "e"
          ],
          [
           "m"
          ],
          [
           "e"
          ],
          [
           "a"
          ],
          [
           "n"
          ],
          [
           "p"
          ],
          [
           "l"
          ],
          [
           "a"
          ],
          [
           "s"
          ],
          [
           "m"
          ],
          [
           "a"
          ],
          [
           "c"
          ],
          [
           "o"
          ],
          [
           "r"
          ],
          [
           "t"
          ],
          [
           "i"
          ],
          [
           "s"
          ],
          [
           "o"
          ],
          [
           "l"
          ],
          [
           "c"
          ],
          [
           "o"
          ],
          [
           "n"
          ],
          [
           "c"
          ],
          [
           "e"
          ],
          [
           "n"
          ],
          [
           "t"
          ],
          [
           "r"
          ],
          [
           "a"
          ],
          [
           "t"
          ],
          [
           "i"
          ],
          [
           "o"
          ],
          [
           "n"
          ],
          [
           "i"
          ],
          [
           "n"
          ],
          [
           "r"
          ],
          [
           "e"
          ],
          [
           "c"
          ],
          [
           "o"
          ],
          [
           "v"
          ],
          [
           "e"
          ],
          [
           "r"
          ],
          [
           "e"
          ],
          [
           "d"
          ],
          [
           "d"
          ],
          [
           "e"
          ],
          [
           "p"
          ],
          [
           "r"
          ],
          [
           "e"
          ],
          [
           "s"
          ],
          [
           "s"
          ],
          [
           "i"
          ],
          [
           "v"
          ],
          [
           "e"
          ],
          [
           "s"
          ],
          [
           "w"
          ],
          [
           "a"
          ],
          [
           "s"
          ],
          [
           "h"
          ],
          [
           "i"
          ],
          [
           "g"
          ],
          [
           "h"
          ],
          [
           "e"
          ],
          [
           "r"
          ],
          [
           "t"
          ],
          [
           "h"
          ],
          [
           "a"
          ],
          [
           "n"
          ],
          [
           "i"
          ],
          [
           "n"
          ],
          [
           "c"
          ],
          [
           "o"
          ],
          [
           "n"
          ],
          [
           "t"
          ],
          [
           "r"
          ],
          [
           "o"
          ],
          [
           "l"
          ],
          [
           "s"
          ],
          [
           "u"
          ],
          [
           "b"
          ],
          [
           "j"
          ],
          [
           "e"
          ],
          [
           "c"
          ],
          [
           "t"
          ],
          [
           "s"
          ],
          [
           ","
          ],
          [
           "t"
          ],
          [
           "h"
          ],
          [
           "e"
          ],
          [
           "d"
          ],
          [
           "i"
          ],
          [
           "f"
          ],
          [
           "f"
          ],
          [
           "e"
          ],
          [
           "r"
          ],
          [
           "e"
          ],
          [
           "n"
          ],
          [
           "c"
          ],
          [
           "e"
          ],
          [
           "o"
          ],
          [
           "n"
          ],
          [
           "l"
          ],
          [
           "y"
          ],
          [
           "j"
          ],
          [
           "u"
          ],
          [
           "s"
          ],
          [
           "t"
          ],
          [
           "r"
          ],
          [
           "e"
          ],
          [
           "a"
          ],
          [
           "c"
          ],
          [
           "h"
          ],
          [
           "e"
          ],
          [
           "d"
          ],
          [
           "s"
          ],
          [
           "i"
          ],
          [
           "g"
          ],
          [
           "n"
          ],
          [
           "i"
          ],
          [
           "f"
          ],
          [
           "i"
          ],
          [
           "c"
          ],
          [
           "a"
          ],
          [
           "n"
          ],
          [
           "c"
          ],
          [
           "e"
          ],
          [
           "."
          ],
          [
           "P"
          ],
          [
           "r"
          ],
          [
           "e"
          ],
          [
           "v"
          ],
          [
           "i"
          ],
          [
           "o"
          ],
          [
           "u"
          ],
          [
           "s"
          ],
          [
           "s"
          ],
          [
           "t"
          ],
          [
           "u"
          ],
          [
           "d"
          ],
          [
           "i"
          ],
          [
           "e"
          ],
          [
           "s"
          ],
          [
           "i"
          ],
          [
           "n"
          ],
          [
           "d"
          ],
          [
           "i"
          ],
          [
           "c"
          ],
          [
           "a"
          ],
          [
           "t"
          ],
          [
           "e"
          ],
          [
           "d"
          ],
          [
           "t"
          ],
          [
           "h"
          ],
          [
           "a"
          ],
          [
           "t"
          ],
          [
           "a"
          ],
          [
           "s"
          ],
          [
           "p"
          ],
          [
           "i"
          ],
          [
           "r"
          ],
          [
           "i"
          ],
          [
           "n"
          ],
          [
           "("
          ],
          [
           "a"
          ],
          [
           "c"
          ],
          [
           "e"
          ],
          [
           "t"
          ],
          [
           "y"
          ],
          [
           "l"
          ],
          [
           "s"
          ],
          [
           "a"
          ],
          [
           "l"
          ],
          [
           "i"
          ],
          [
           "c"
          ],
          [
           "y"
          ],
          [
           "l"
          ]
         ],
         "hovertemplate": "x=%{x}<br>y=%{y}<br>token=%{customdata[0]}<br>label=%{marker.color}<extra></extra>",
         "legendgroup": "",
         "marker": {
          "color": [
           0,
           0,
           0,
           0,
           0,
           0,
           0,
           0,
           0,
           0,
           0,
           0,
           0,
           0,
           0,
           0,
           0,
           0,
           0,
           0,
           0,
           0,
           0,
           0,
           0,
           0,
           0,
           0,
           0,
           0,
           0,
           0,
           0,
           0,
           0,
           0,
           0,
           0,
           0,
           0,
           0,
           0,
           0,
           0,
           0,
           0,
           0,
           0,
           0,
           0,
           0,
           0,
           0,
           0,
           0,
           0,
           0,
           0,
           0,
           0,
           0,
           0,
           0,
           0,
           0,
           0,
           0,
           0,
           0,
           0,
           0,
           0,
           0,
           0,
           0,
           0,
           0,
           0,
           0,
           0,
           0,
           0,
           0,
           0,
           0,
           0,
           0,
           0,
           0,
           0,
           0,
           0,
           0,
           0,
           0,
           0,
           0,
           0,
           0,
           0,
           0,
           0,
           0,
           0,
           0,
           0,
           0,
           0,
           0,
           0,
           0,
           0,
           0,
           0,
           0,
           0,
           0,
           0,
           0,
           0,
           0,
           0,
           0,
           0,
           0,
           0,
           0,
           0,
           0,
           0,
           0,
           0,
           0,
           0,
           0,
           0,
           0,
           0,
           0,
           0,
           0,
           0,
           0,
           0,
           0,
           0,
           0,
           0,
           0,
           0,
           0,
           0,
           0,
           0,
           0,
           0,
           0,
           0,
           0,
           0,
           0,
           0,
           0,
           0,
           0,
           0,
           0,
           0,
           0,
           0,
           0,
           0,
           0,
           0,
           0,
           0,
           0,
           0,
           0,
           0,
           0,
           0,
           0,
           0,
           0,
           0,
           0,
           0,
           0,
           0,
           0,
           0,
           0,
           0,
           0,
           0,
           0,
           0,
           0,
           0,
           0,
           0,
           0,
           0,
           0,
           0,
           0,
           0,
           0,
           0,
           0,
           0,
           0,
           0,
           0,
           0,
           0,
           0,
           0
          ],
          "coloraxis": "coloraxis",
          "symbol": "circle"
         },
         "mode": "markers",
         "name": "",
         "orientation": "v",
         "showlegend": false,
         "type": "scatter",
         "x": [
          18.22526741027832,
          10.5380277633667,
          10.253482818603516,
          10.305642127990723,
          9.756322860717773,
          8.937983512878418,
          -9.950557708740234,
          -14.430928230285645,
          -14.3905668258667,
          -14.233566284179688,
          -13.771387100219727,
          -13.214704513549805,
          -12.95702838897705,
          9.465750694274902,
          8.628853797912598,
          8.4887056350708,
          -9.304272651672363,
          15.59579849243164,
          6.406184673309326,
          7.74838924407959,
          8.735557556152344,
          -9.509269714355469,
          -10.642964363098145,
          -10.913850784301758,
          -10.649632453918457,
          -5.829720973968506,
          -5.177276611328125,
          -5.255613803863525,
          8.667022705078125,
          7.137119770050049,
          7.001711845397949,
          6.014091491699219,
          6.222701072692871,
          6.260364055633545,
          7.566221237182617,
          8.056674003601074,
          8.029611587524414,
          8.745034217834473,
          9.609933853149414,
          -10.270485877990723,
          -13.027078628540039,
          -12.323989868164062,
          -13.025557518005371,
          -12.736921310424805,
          -12.327364921569824,
          -12.22873306274414,
          -11.889687538146973,
          -11.777593612670898,
          14.602155685424805,
          -2.1900317668914795,
          -2.2466533184051514,
          -5.018924236297607,
          -4.506971836090088,
          -3.918827533721924,
          -12.815932273864746,
          -12.79056167602539,
          -12.363160133361816,
          -9.815478324890137,
          -9.982085227966309,
          -2.6150901317596436,
          -2.995851755142212,
          -2.8925259113311768,
          -4.992623805999756,
          -19.827110290527344,
          -24.403919219970703,
          -25.027172088623047,
          -25.591970443725586,
          -1.5343366861343384,
          14.894758224487305,
          2.714998722076416,
          3.4131381511688232,
          4.1323089599609375,
          4.423165321350098,
          4.490056991577148,
          -18.94956398010254,
          -22.65553092956543,
          -22.56197738647461,
          -23.88241195678711,
          -23.548011779785156,
          -24.163898468017578,
          -24.503995895385742,
          5.046991348266602,
          1.6389098167419434,
          1.4919097423553467,
          -10.286391258239746,
          -16.383121490478516,
          -16.128890991210938,
          -17.13148307800293,
          -16.824504852294922,
          -16.600603103637695,
          -17.012094497680664,
          -16.55707359313965,
          0.4494255781173706,
          0.9046530723571777,
          1.0563960075378418,
          3.9754233360290527,
          4.275577068328857,
          4.079497814178467,
          2.9960923194885254,
          2.121967077255249,
          -2.3892791271209717,
          -1.4279155731201172,
          -0.1995442509651184,
          0.04224536940455437,
          3.1713411808013916,
          3.4217593669891357,
          2.5763661861419678,
          2.385067939758301,
          1.7964308261871338,
          1.8178247213363647,
          1.1741201877593994,
          1.661399245262146,
          1.2695742845535278,
          0.8629505038261414,
          17.007827758789062,
          16.893590927124023,
          16.609560012817383,
          16.328256607055664,
          16.153242111206055,
          15.63044548034668,
          -17.836307525634766,
          15.430644989013672,
          14.964337348937988,
          -18.848552703857422,
          -25.66630744934082,
          -26.402841567993164,
          16.022554397583008,
          15.14155101776123,
          16.149065017700195,
          17.76325225830078,
          17.194122314453125,
          17.414430618286133,
          17.67424964904785,
          17.090078353881836,
          17.388072967529297,
          17.371601104736328,
          17.569948196411133,
          17.884435653686523,
          17.997905731201172,
          17.3370304107666,
          17.415117263793945,
          17.845584869384766,
          16.683834075927734,
          4.388299942016602,
          4.107210636138916,
          4.048556804656982,
          3.5822954177856445,
          3.1254663467407227,
          2.9328627586364746,
          1.5010197162628174,
          0.5881298184394836,
          0.41020047664642334,
          0.702067494392395,
          -1.1357755661010742,
          -1.6485975980758667,
          -1.693556547164917,
          -1.7074520587921143,
          -1.1687763929367065,
          1.9204667806625366,
          1.9770253896713257,
          1.6136631965637207,
          16.507413864135742,
          11.087675094604492,
          12.182063102722168,
          12.554428100585938,
          9.986207962036133,
          9.413298606872559,
          9.523123741149902,
          6.489386081695557,
          -8.379915237426758,
          -8.565120697021484,
          1.8541985750198364,
          8.068591117858887,
          7.916081428527832,
          7.545377254486084,
          7.619301795959473,
          6.103902339935303,
          -8.467827796936035,
          -8.840733528137207,
          1.8308331966400146,
          8.326765060424805,
          8.323288917541504,
          8.485031127929688,
          8.42398452758789,
          8.725485801696777,
          8.344642639160156,
          6.246964454650879,
          17.343542098999023,
          1.0483018159866333,
          0.9505831003189087,
          1.0084877014160156,
          17.03595542907715,
          18.59532356262207,
          18.517742156982422,
          18.5113525390625,
          18.580604553222656,
          18.05398941040039,
          17.49449348449707,
          -18.72102165222168,
          -24.861614227294922,
          -25.525606155395508,
          -10.898897171020508,
          16.768091201782227,
          16.919307708740234,
          15.9498291015625,
          16.801982879638672,
          19.334823608398438,
          18.183263778686523,
          -19.39331817626953,
          -25.911535263061523,
          -25.915576934814453,
          -26.047452926635742,
          -20.704608917236328,
          -25.495445251464844,
          3.7944748401641846,
          2.8915202617645264,
          15.29407787322998,
          8.7118558883667,
          8.4306640625
         ],
         "xaxis": "x",
         "y": [
          6.317399024963379,
          -14.277263641357422,
          -14.54690170288086,
          -14.511713981628418,
          -14.805153846740723,
          -15.1895112991333,
          -7.663271427154541,
          -14.934395790100098,
          -14.203439712524414,
          -14.506346702575684,
          -15.140823364257812,
          -14.746306419372559,
          -15.21805191040039,
          -15.657509803771973,
          -15.497962951660156,
          -15.421466827392578,
          -7.815760135650635,
          7.824443340301514,
          6.8204240798950195,
          7.3884053230285645,
          7.177704334259033,
          -6.8626556396484375,
          -14.850333213806152,
          -14.116226196289062,
          -14.280651092529297,
          -13.103528022766113,
          -12.966361045837402,
          -12.991307258605957,
          6.783259868621826,
          6.679544448852539,
          6.796830177307129,
          7.390740871429443,
          7.318145751953125,
          7.60883903503418,
          8.505127906799316,
          8.776473045349121,
          8.738290786743164,
          9.385370254516602,
          9.879508018493652,
          -7.984996318817139,
          -13.180487632751465,
          -12.542557716369629,
          -12.778209686279297,
          -13.494550704956055,
          -12.836565017700195,
          -13.349958419799805,
          -13.969250679016113,
          -13.390257835388184,
          9.079170227050781,
          5.710850238800049,
          5.70410680770874,
          6.708950996398926,
          6.684976100921631,
          6.457423210144043,
          6.627955436706543,
          7.133831024169922,
          7.881723403930664,
          7.609400272369385,
          7.724215507507324,
          5.842056751251221,
          6.0579304695129395,
          6.062636852264404,
          6.167849063873291,
          3.4096262454986572,
          2.754972457885742,
          2.3565337657928467,
          2.2862331867218018,
          4.864939212799072,
          8.279685974121094,
          12.119439125061035,
          11.718055725097656,
          11.450647354125977,
          11.732101440429688,
          11.832677841186523,
          1.7516194581985474,
          -0.9569441080093384,
          -0.9625147581100464,
          -0.588760256767273,
          -1.2377545833587646,
          -1.2341632843017578,
          -1.1736313104629517,
          -10.876952171325684,
          13.91114616394043,
          14.186186790466309,
          -6.117550849914551,
          -10.222360610961914,
          -11.125350952148438,
          -11.441523551940918,
          -11.776328086853027,
          -12.259269714355469,
          -11.878249168395996,
          -11.86417293548584,
          16.906259536743164,
          16.309139251708984,
          16.00081443786621,
          13.773055076599121,
          13.77813720703125,
          13.926840782165527,
          13.568851470947266,
          13.131097793579102,
          13.521977424621582,
          13.47531509399414,
          13.367938995361328,
          17.293834686279297,
          14.809699058532715,
          10.081295013427734,
          10.72512149810791,
          10.603508949279785,
          11.021591186523438,
          10.791922569274902,
          9.904894828796387,
          10.288172721862793,
          10.20900821685791,
          10.539525032043457,
          6.468677520751953,
          -7.374172687530518,
          -6.820814609527588,
          -6.655381679534912,
          -6.213010311126709,
          -5.7221245765686035,
          3.453704595565796,
          -2.349564552307129,
          -5.38281774520874,
          3.0061142444610596,
          3.596417188644409,
          2.7496397495269775,
          -3.064770221710205,
          -5.503750324249268,
          -3.609138011932373,
          -7.289010524749756,
          -6.980953693389893,
          -6.570428848266602,
          -6.302896022796631,
          -4.639656066894531,
          -2.0900700092315674,
          -2.410945415496826,
          -3.642117500305176,
          -3.825472593307495,
          -3.991044521331787,
          -5.1759867668151855,
          -5.24993371963501,
          -5.040590286254883,
          7.9460978507995605,
          -0.5956379175186157,
          -1.1211286783218384,
          -1.5772136449813843,
          -1.2524268627166748,
          -1.2636055946350098,
          -1.0643954277038574,
          -0.9786677360534668,
          -1.3523707389831543,
          -0.9509252309799194,
          -0.6386666297912598,
          -2.4658384323120117,
          -2.327376127243042,
          -1.8611451387405396,
          -1.785874605178833,
          -1.495523452758789,
          -0.29663366079330444,
          -0.31645411252975464,
          -0.4594430923461914,
          6.994415283203125,
          -7.474151134490967,
          -7.836304187774658,
          -8.070281028747559,
          -6.786798477172852,
          -6.841845512390137,
          -6.970448970794678,
          -6.209955215454102,
          -7.238733291625977,
          -13.081463813781738,
          -7.762579441070557,
          -6.405642986297607,
          -7.187546730041504,
          -7.629393100738525,
          -7.9332451820373535,
          -6.27125883102417,
          -7.332211017608643,
          -13.07520866394043,
          -7.761612892150879,
          -6.409682273864746,
          -7.080976963043213,
          -7.99648904800415,
          -9.157336235046387,
          -8.735743522644043,
          -7.9642510414123535,
          -6.295347690582275,
          8.399434089660645,
          -3.889389753341675,
          -3.9570508003234863,
          -3.903207302093506,
          6.191054821014404,
          -10.301066398620605,
          -10.725869178771973,
          -10.979114532470703,
          -11.41728687286377,
          -11.75304889678955,
          -11.00110149383545,
          3.1873226165771484,
          3.4002881050109863,
          2.953549385070801,
          6.910227298736572,
          -10.71330451965332,
          -11.065386772155762,
          -11.63254165649414,
          -11.579669952392578,
          -10.514579772949219,
          8.138079643249512,
          1.548554539680481,
          -1.1815375089645386,
          -1.0248879194259644,
          0.3125440180301666,
          2.8118765354156494,
          0.2543632388114929,
          -5.364579200744629,
          -5.717110633850098,
          7.425732135772705,
          1.7315118312835693,
          1.5048320293426514
         ],
         "yaxis": "y"
        }
       ],
       "layout": {
        "coloraxis": {
         "colorbar": {
          "title": {
           "text": "label"
          }
         },
         "colorscale": [
          [
           0,
           "#0d0887"
          ],
          [
           0.1111111111111111,
           "#46039f"
          ],
          [
           0.2222222222222222,
           "#7201a8"
          ],
          [
           0.3333333333333333,
           "#9c179e"
          ],
          [
           0.4444444444444444,
           "#bd3786"
          ],
          [
           0.5555555555555556,
           "#d8576b"
          ],
          [
           0.6666666666666666,
           "#ed7953"
          ],
          [
           0.7777777777777778,
           "#fb9f3a"
          ],
          [
           0.8888888888888888,
           "#fdca26"
          ],
          [
           1,
           "#f0f921"
          ]
         ]
        },
        "legend": {
         "tracegroupgap": 0
        },
        "template": {
         "data": {
          "bar": [
           {
            "error_x": {
             "color": "#2a3f5f"
            },
            "error_y": {
             "color": "#2a3f5f"
            },
            "marker": {
             "line": {
              "color": "#E5ECF6",
              "width": 0.5
             },
             "pattern": {
              "fillmode": "overlay",
              "size": 10,
              "solidity": 0.2
             }
            },
            "type": "bar"
           }
          ],
          "barpolar": [
           {
            "marker": {
             "line": {
              "color": "#E5ECF6",
              "width": 0.5
             },
             "pattern": {
              "fillmode": "overlay",
              "size": 10,
              "solidity": 0.2
             }
            },
            "type": "barpolar"
           }
          ],
          "carpet": [
           {
            "aaxis": {
             "endlinecolor": "#2a3f5f",
             "gridcolor": "white",
             "linecolor": "white",
             "minorgridcolor": "white",
             "startlinecolor": "#2a3f5f"
            },
            "baxis": {
             "endlinecolor": "#2a3f5f",
             "gridcolor": "white",
             "linecolor": "white",
             "minorgridcolor": "white",
             "startlinecolor": "#2a3f5f"
            },
            "type": "carpet"
           }
          ],
          "choropleth": [
           {
            "colorbar": {
             "outlinewidth": 0,
             "ticks": ""
            },
            "type": "choropleth"
           }
          ],
          "contour": [
           {
            "colorbar": {
             "outlinewidth": 0,
             "ticks": ""
            },
            "colorscale": [
             [
              0,
              "#0d0887"
             ],
             [
              0.1111111111111111,
              "#46039f"
             ],
             [
              0.2222222222222222,
              "#7201a8"
             ],
             [
              0.3333333333333333,
              "#9c179e"
             ],
             [
              0.4444444444444444,
              "#bd3786"
             ],
             [
              0.5555555555555556,
              "#d8576b"
             ],
             [
              0.6666666666666666,
              "#ed7953"
             ],
             [
              0.7777777777777778,
              "#fb9f3a"
             ],
             [
              0.8888888888888888,
              "#fdca26"
             ],
             [
              1,
              "#f0f921"
             ]
            ],
            "type": "contour"
           }
          ],
          "contourcarpet": [
           {
            "colorbar": {
             "outlinewidth": 0,
             "ticks": ""
            },
            "type": "contourcarpet"
           }
          ],
          "heatmap": [
           {
            "colorbar": {
             "outlinewidth": 0,
             "ticks": ""
            },
            "colorscale": [
             [
              0,
              "#0d0887"
             ],
             [
              0.1111111111111111,
              "#46039f"
             ],
             [
              0.2222222222222222,
              "#7201a8"
             ],
             [
              0.3333333333333333,
              "#9c179e"
             ],
             [
              0.4444444444444444,
              "#bd3786"
             ],
             [
              0.5555555555555556,
              "#d8576b"
             ],
             [
              0.6666666666666666,
              "#ed7953"
             ],
             [
              0.7777777777777778,
              "#fb9f3a"
             ],
             [
              0.8888888888888888,
              "#fdca26"
             ],
             [
              1,
              "#f0f921"
             ]
            ],
            "type": "heatmap"
           }
          ],
          "heatmapgl": [
           {
            "colorbar": {
             "outlinewidth": 0,
             "ticks": ""
            },
            "colorscale": [
             [
              0,
              "#0d0887"
             ],
             [
              0.1111111111111111,
              "#46039f"
             ],
             [
              0.2222222222222222,
              "#7201a8"
             ],
             [
              0.3333333333333333,
              "#9c179e"
             ],
             [
              0.4444444444444444,
              "#bd3786"
             ],
             [
              0.5555555555555556,
              "#d8576b"
             ],
             [
              0.6666666666666666,
              "#ed7953"
             ],
             [
              0.7777777777777778,
              "#fb9f3a"
             ],
             [
              0.8888888888888888,
              "#fdca26"
             ],
             [
              1,
              "#f0f921"
             ]
            ],
            "type": "heatmapgl"
           }
          ],
          "histogram": [
           {
            "marker": {
             "pattern": {
              "fillmode": "overlay",
              "size": 10,
              "solidity": 0.2
             }
            },
            "type": "histogram"
           }
          ],
          "histogram2d": [
           {
            "colorbar": {
             "outlinewidth": 0,
             "ticks": ""
            },
            "colorscale": [
             [
              0,
              "#0d0887"
             ],
             [
              0.1111111111111111,
              "#46039f"
             ],
             [
              0.2222222222222222,
              "#7201a8"
             ],
             [
              0.3333333333333333,
              "#9c179e"
             ],
             [
              0.4444444444444444,
              "#bd3786"
             ],
             [
              0.5555555555555556,
              "#d8576b"
             ],
             [
              0.6666666666666666,
              "#ed7953"
             ],
             [
              0.7777777777777778,
              "#fb9f3a"
             ],
             [
              0.8888888888888888,
              "#fdca26"
             ],
             [
              1,
              "#f0f921"
             ]
            ],
            "type": "histogram2d"
           }
          ],
          "histogram2dcontour": [
           {
            "colorbar": {
             "outlinewidth": 0,
             "ticks": ""
            },
            "colorscale": [
             [
              0,
              "#0d0887"
             ],
             [
              0.1111111111111111,
              "#46039f"
             ],
             [
              0.2222222222222222,
              "#7201a8"
             ],
             [
              0.3333333333333333,
              "#9c179e"
             ],
             [
              0.4444444444444444,
              "#bd3786"
             ],
             [
              0.5555555555555556,
              "#d8576b"
             ],
             [
              0.6666666666666666,
              "#ed7953"
             ],
             [
              0.7777777777777778,
              "#fb9f3a"
             ],
             [
              0.8888888888888888,
              "#fdca26"
             ],
             [
              1,
              "#f0f921"
             ]
            ],
            "type": "histogram2dcontour"
           }
          ],
          "mesh3d": [
           {
            "colorbar": {
             "outlinewidth": 0,
             "ticks": ""
            },
            "type": "mesh3d"
           }
          ],
          "parcoords": [
           {
            "line": {
             "colorbar": {
              "outlinewidth": 0,
              "ticks": ""
             }
            },
            "type": "parcoords"
           }
          ],
          "pie": [
           {
            "automargin": true,
            "type": "pie"
           }
          ],
          "scatter": [
           {
            "fillpattern": {
             "fillmode": "overlay",
             "size": 10,
             "solidity": 0.2
            },
            "type": "scatter"
           }
          ],
          "scatter3d": [
           {
            "line": {
             "colorbar": {
              "outlinewidth": 0,
              "ticks": ""
             }
            },
            "marker": {
             "colorbar": {
              "outlinewidth": 0,
              "ticks": ""
             }
            },
            "type": "scatter3d"
           }
          ],
          "scattercarpet": [
           {
            "marker": {
             "colorbar": {
              "outlinewidth": 0,
              "ticks": ""
             }
            },
            "type": "scattercarpet"
           }
          ],
          "scattergeo": [
           {
            "marker": {
             "colorbar": {
              "outlinewidth": 0,
              "ticks": ""
             }
            },
            "type": "scattergeo"
           }
          ],
          "scattergl": [
           {
            "marker": {
             "colorbar": {
              "outlinewidth": 0,
              "ticks": ""
             }
            },
            "type": "scattergl"
           }
          ],
          "scattermapbox": [
           {
            "marker": {
             "colorbar": {
              "outlinewidth": 0,
              "ticks": ""
             }
            },
            "type": "scattermapbox"
           }
          ],
          "scatterpolar": [
           {
            "marker": {
             "colorbar": {
              "outlinewidth": 0,
              "ticks": ""
             }
            },
            "type": "scatterpolar"
           }
          ],
          "scatterpolargl": [
           {
            "marker": {
             "colorbar": {
              "outlinewidth": 0,
              "ticks": ""
             }
            },
            "type": "scatterpolargl"
           }
          ],
          "scatterternary": [
           {
            "marker": {
             "colorbar": {
              "outlinewidth": 0,
              "ticks": ""
             }
            },
            "type": "scatterternary"
           }
          ],
          "surface": [
           {
            "colorbar": {
             "outlinewidth": 0,
             "ticks": ""
            },
            "colorscale": [
             [
              0,
              "#0d0887"
             ],
             [
              0.1111111111111111,
              "#46039f"
             ],
             [
              0.2222222222222222,
              "#7201a8"
             ],
             [
              0.3333333333333333,
              "#9c179e"
             ],
             [
              0.4444444444444444,
              "#bd3786"
             ],
             [
              0.5555555555555556,
              "#d8576b"
             ],
             [
              0.6666666666666666,
              "#ed7953"
             ],
             [
              0.7777777777777778,
              "#fb9f3a"
             ],
             [
              0.8888888888888888,
              "#fdca26"
             ],
             [
              1,
              "#f0f921"
             ]
            ],
            "type": "surface"
           }
          ],
          "table": [
           {
            "cells": {
             "fill": {
              "color": "#EBF0F8"
             },
             "line": {
              "color": "white"
             }
            },
            "header": {
             "fill": {
              "color": "#C8D4E3"
             },
             "line": {
              "color": "white"
             }
            },
            "type": "table"
           }
          ]
         },
         "layout": {
          "annotationdefaults": {
           "arrowcolor": "#2a3f5f",
           "arrowhead": 0,
           "arrowwidth": 1
          },
          "autotypenumbers": "strict",
          "coloraxis": {
           "colorbar": {
            "outlinewidth": 0,
            "ticks": ""
           }
          },
          "colorscale": {
           "diverging": [
            [
             0,
             "#8e0152"
            ],
            [
             0.1,
             "#c51b7d"
            ],
            [
             0.2,
             "#de77ae"
            ],
            [
             0.3,
             "#f1b6da"
            ],
            [
             0.4,
             "#fde0ef"
            ],
            [
             0.5,
             "#f7f7f7"
            ],
            [
             0.6,
             "#e6f5d0"
            ],
            [
             0.7,
             "#b8e186"
            ],
            [
             0.8,
             "#7fbc41"
            ],
            [
             0.9,
             "#4d9221"
            ],
            [
             1,
             "#276419"
            ]
           ],
           "sequential": [
            [
             0,
             "#0d0887"
            ],
            [
             0.1111111111111111,
             "#46039f"
            ],
            [
             0.2222222222222222,
             "#7201a8"
            ],
            [
             0.3333333333333333,
             "#9c179e"
            ],
            [
             0.4444444444444444,
             "#bd3786"
            ],
            [
             0.5555555555555556,
             "#d8576b"
            ],
            [
             0.6666666666666666,
             "#ed7953"
            ],
            [
             0.7777777777777778,
             "#fb9f3a"
            ],
            [
             0.8888888888888888,
             "#fdca26"
            ],
            [
             1,
             "#f0f921"
            ]
           ],
           "sequentialminus": [
            [
             0,
             "#0d0887"
            ],
            [
             0.1111111111111111,
             "#46039f"
            ],
            [
             0.2222222222222222,
             "#7201a8"
            ],
            [
             0.3333333333333333,
             "#9c179e"
            ],
            [
             0.4444444444444444,
             "#bd3786"
            ],
            [
             0.5555555555555556,
             "#d8576b"
            ],
            [
             0.6666666666666666,
             "#ed7953"
            ],
            [
             0.7777777777777778,
             "#fb9f3a"
            ],
            [
             0.8888888888888888,
             "#fdca26"
            ],
            [
             1,
             "#f0f921"
            ]
           ]
          },
          "colorway": [
           "#636efa",
           "#EF553B",
           "#00cc96",
           "#ab63fa",
           "#FFA15A",
           "#19d3f3",
           "#FF6692",
           "#B6E880",
           "#FF97FF",
           "#FECB52"
          ],
          "font": {
           "color": "#2a3f5f"
          },
          "geo": {
           "bgcolor": "white",
           "lakecolor": "white",
           "landcolor": "#E5ECF6",
           "showlakes": true,
           "showland": true,
           "subunitcolor": "white"
          },
          "hoverlabel": {
           "align": "left"
          },
          "hovermode": "closest",
          "mapbox": {
           "style": "light"
          },
          "paper_bgcolor": "white",
          "plot_bgcolor": "#E5ECF6",
          "polar": {
           "angularaxis": {
            "gridcolor": "white",
            "linecolor": "white",
            "ticks": ""
           },
           "bgcolor": "#E5ECF6",
           "radialaxis": {
            "gridcolor": "white",
            "linecolor": "white",
            "ticks": ""
           }
          },
          "scene": {
           "xaxis": {
            "backgroundcolor": "#E5ECF6",
            "gridcolor": "white",
            "gridwidth": 2,
            "linecolor": "white",
            "showbackground": true,
            "ticks": "",
            "zerolinecolor": "white"
           },
           "yaxis": {
            "backgroundcolor": "#E5ECF6",
            "gridcolor": "white",
            "gridwidth": 2,
            "linecolor": "white",
            "showbackground": true,
            "ticks": "",
            "zerolinecolor": "white"
           },
           "zaxis": {
            "backgroundcolor": "#E5ECF6",
            "gridcolor": "white",
            "gridwidth": 2,
            "linecolor": "white",
            "showbackground": true,
            "ticks": "",
            "zerolinecolor": "white"
           }
          },
          "shapedefaults": {
           "line": {
            "color": "#2a3f5f"
           }
          },
          "ternary": {
           "aaxis": {
            "gridcolor": "white",
            "linecolor": "white",
            "ticks": ""
           },
           "baxis": {
            "gridcolor": "white",
            "linecolor": "white",
            "ticks": ""
           },
           "bgcolor": "#E5ECF6",
           "caxis": {
            "gridcolor": "white",
            "linecolor": "white",
            "ticks": ""
           }
          },
          "title": {
           "x": 0.05
          },
          "xaxis": {
           "automargin": true,
           "gridcolor": "white",
           "linecolor": "white",
           "ticks": "",
           "title": {
            "standoff": 15
           },
           "zerolinecolor": "white",
           "zerolinewidth": 2
          },
          "yaxis": {
           "automargin": true,
           "gridcolor": "white",
           "linecolor": "white",
           "ticks": "",
           "title": {
            "standoff": 15
           },
           "zerolinecolor": "white",
           "zerolinewidth": 2
          }
         }
        },
        "title": {
         "text": "2D Vector Space of Correctly Classified Examples"
        },
        "xaxis": {
         "anchor": "y",
         "domain": [
          0,
          1
         ],
         "title": {
          "text": "x"
         }
        },
        "yaxis": {
         "anchor": "x",
         "domain": [
          0,
          1
         ],
         "title": {
          "text": "y"
         }
        }
       }
      }
     },
     "metadata": {},
     "output_type": "display_data"
    }
   ],
   "source": [
    "import torch\n",
    "from sklearn.manifold import TSNE\n",
    "import plotly.express as px\n",
    "import pandas as pd\n",
    "import numpy as np\n",
    "from datasets import load_dataset\n",
    "\n",
    "test_dataset = dataset[\"validation\"].select(range(100))  \n",
    "\n",
    "# Funkcja do uzyskania embeddingów i przewidywań\n",
    "def get_predictions_and_embeddings(dataset, model, tokenizer):\n",
    "    model.eval()\n",
    "    embeddings = []\n",
    "    true_labels = []\n",
    "    pred_labels = []\n",
    "    tokens = []\n",
    "    correct_examples = []\n",
    "\n",
    "    with torch.no_grad():\n",
    "        for example in dataset:\n",
    "            inputs = tokenizer(\n",
    "                example[\"tokens\"], is_split_into_words=True, return_tensors=\"pt\",\n",
    "                truncation=True, padding='max_length', max_length=128\n",
    "            ).to(device)\n",
    "            outputs = model(**inputs, output_hidden_states=True)\n",
    "            logits = outputs.logits\n",
    "            predictions = torch.argmax(logits, dim=-1).squeeze().cpu().numpy()\n",
    "\n",
    "            # Pobieramy embeddingi\n",
    "            token_embeddings = outputs.hidden_states[-1].squeeze(0).cpu().numpy()\n",
    "            true_label = example[\"ner_tags\"]\n",
    "            tokens.extend(example[\"tokens\"])\n",
    "\n",
    "            # Dopasowujemy długość predykcji do prawdziwych etykiet\n",
    "            predictions = predictions[:len(true_label)]\n",
    "\n",
    "            if list(predictions) == true_label:\n",
    "                embeddings.append(token_embeddings[:len(true_label)])\n",
    "                true_labels.extend(true_label)\n",
    "                pred_labels.extend(predictions)\n",
    "                correct_examples.extend(example[\"tokens\"])\n",
    "\n",
    "    # Spłaszczamy embeddingi\n",
    "    flat_embeddings = np.vstack([emb for emb in embeddings])\n",
    "    flat_labels = true_labels\n",
    "    flat_tokens = [token for sublist in correct_examples for token in sublist]\n",
    "\n",
    "    return flat_embeddings, flat_labels, flat_tokens\n",
    "\n",
    "# Pobieramy embeddingi i poprawnie sklasyfikowane przykłady\n",
    "embeddings, labels, tokens = get_predictions_and_embeddings(test_dataset, model, tokenizer)\n",
    "\n",
    "# Sprawdzamy najmniejszą długość\n",
    "min_length = min(len(reduced_embeddings), len(labels), len(tokens))\n",
    "\n",
    "# Przycinamy listy do tej długości\n",
    "reduced_embeddings = reduced_embeddings[:min_length]\n",
    "labels = labels[:min_length]\n",
    "tokens = tokens[:min_length]\n",
    "\n",
    "# Tworzymy DataFrame do wizualizacji\n",
    "df = pd.DataFrame({\n",
    "    \"x\": reduced_embeddings[:, 0],\n",
    "    \"y\": reduced_embeddings[:, 1],\n",
    "    \"label\": labels,\n",
    "    \"token\": tokens\n",
    "})\n",
    "\n",
    "# Wizualizacja za pomocą Plotly\n",
    "fig = px.scatter(\n",
    "    df, x=\"x\", y=\"y\", color=\"label\", hover_data=[\"token\"],\n",
    "    title=\"2D Vector Space of Correctly Classified Examples\",\n",
    "    labels={\"color\": \"NER Label\"}\n",
    ")\n",
    "fig.show()\n"
   ]
  },
  {
   "cell_type": "code",
   "execution_count": 81,
   "metadata": {},
   "outputs": [
    {
     "name": "stdout",
     "output_type": "stream",
     "text": [
      "{'id': '3649', 'tokens': ['Because', 'the', '-180', 'site', 'is', 'not', 'required', 'for', 'trans-activation', ',', 'it', 'was', 'possible', 'to', 'confirm', 'by', 'mutation', 'in', 'the', 'normal', 'mouse', 'IL-2', 'enhancer', 'that', 'this', 'site', 'is', 'absolutely', 'essential', 'for', 'anergy', 'induction', '.'], 'ner_tags': [0, 0, 1, 2, 0, 0, 0, 0, 0, 0, 0, 0, 0, 0, 0, 0, 0, 0, 0, 0, 1, 2, 2, 0, 0, 0, 0, 0, 0, 0, 0, 0, 0], 'input_ids': [101, 2279, 1103, 118, 7967, 1751, 1110, 1136, 2320, 1111, 14715, 118, 14915, 117, 1122, 1108, 1936, 1106, 12434, 1118, 17895, 1107, 1103, 2999, 10322, 15393, 118, 123, 11778, 1197, 1115, 1142, 1751, 1110, 7284, 6818, 1111, 1126, 1200, 4873, 18293, 119, 102, 0, 0, 0, 0, 0, 0, 0, 0, 0, 0, 0, 0, 0, 0, 0, 0, 0, 0, 0, 0, 0, 0, 0, 0, 0, 0, 0, 0, 0, 0, 0, 0, 0, 0, 0, 0, 0, 0, 0, 0, 0, 0, 0, 0, 0, 0, 0, 0, 0, 0, 0, 0, 0, 0, 0, 0, 0, 0, 0, 0, 0, 0, 0, 0, 0, 0, 0, 0, 0, 0, 0, 0, 0, 0, 0, 0, 0, 0, 0, 0, 0, 0, 0, 0, 0], 'token_type_ids': [0, 0, 0, 0, 0, 0, 0, 0, 0, 0, 0, 0, 0, 0, 0, 0, 0, 0, 0, 0, 0, 0, 0, 0, 0, 0, 0, 0, 0, 0, 0, 0, 0, 0, 0, 0, 0, 0, 0, 0, 0, 0, 0, 0, 0, 0, 0, 0, 0, 0, 0, 0, 0, 0, 0, 0, 0, 0, 0, 0, 0, 0, 0, 0, 0, 0, 0, 0, 0, 0, 0, 0, 0, 0, 0, 0, 0, 0, 0, 0, 0, 0, 0, 0, 0, 0, 0, 0, 0, 0, 0, 0, 0, 0, 0, 0, 0, 0, 0, 0, 0, 0, 0, 0, 0, 0, 0, 0, 0, 0, 0, 0, 0, 0, 0, 0, 0, 0, 0, 0, 0, 0, 0, 0, 0, 0, 0, 0], 'attention_mask': [1, 1, 1, 1, 1, 1, 1, 1, 1, 1, 1, 1, 1, 1, 1, 1, 1, 1, 1, 1, 1, 1, 1, 1, 1, 1, 1, 1, 1, 1, 1, 1, 1, 1, 1, 1, 1, 1, 1, 1, 1, 1, 1, 0, 0, 0, 0, 0, 0, 0, 0, 0, 0, 0, 0, 0, 0, 0, 0, 0, 0, 0, 0, 0, 0, 0, 0, 0, 0, 0, 0, 0, 0, 0, 0, 0, 0, 0, 0, 0, 0, 0, 0, 0, 0, 0, 0, 0, 0, 0, 0, 0, 0, 0, 0, 0, 0, 0, 0, 0, 0, 0, 0, 0, 0, 0, 0, 0, 0, 0, 0, 0, 0, 0, 0, 0, 0, 0, 0, 0, 0, 0, 0, 0, 0, 0, 0, 0], 'labels': [-100, 0, 0, 1, -100, 2, 0, 0, 0, 0, 0, -100, -100, 0, 0, 0, 0, 0, 0, 0, 0, 0, 0, 0, 1, 2, -100, -100, 2, -100, 0, 0, 0, 0, 0, 0, 0, 0, -100, -100, 0, 0, -100, -100, -100, -100, -100, -100, -100, -100, -100, -100, -100, -100, -100, -100, -100, -100, -100, -100, -100, -100, -100, -100, -100, -100, -100, -100, -100, -100, -100, -100, -100, -100, -100, -100, -100, -100, -100, -100, -100, -100, -100, -100, -100, -100, -100, -100, -100, -100, -100, -100, -100, -100, -100, -100, -100, -100, -100, -100, -100, -100, -100, -100, -100, -100, -100, -100, -100, -100, -100, -100, -100, -100, -100, -100, -100, -100, -100, -100, -100, -100, -100, -100, -100, -100, -100, -100]}\n",
      "Lengths - embeddings: 1566, labels: 1566, tokens: 1566\n"
     ]
    },
    {
     "data": {
      "application/vnd.plotly.v1+json": {
       "config": {
        "plotlyServerURL": "https://plot.ly"
       },
       "data": [
        {
         "customdata": [
          [
           "This"
          ],
          [
           "may"
          ],
          [
           "explain"
          ],
          [
           ","
          ],
          [
           "at"
          ],
          [
           "least"
          ],
          [
           "in"
          ],
          [
           "part"
          ],
          [
           ","
          ],
          [
           "the"
          ],
          [
           "increased"
          ],
          [
           "rate"
          ],
          [
           "of"
          ],
          [
           "HIV"
          ],
          [
           "transmission"
          ],
          [
           "in"
          ],
          [
           "women"
          ],
          [
           "with"
          ],
          [
           "BV"
          ],
          [
           "."
          ],
          [
           "Eligible"
          ],
          [
           "high"
          ],
          [
           "risk"
          ],
          [
           "women"
          ],
          [
           "were"
          ],
          [
           "those"
          ],
          [
           "with"
          ],
          [
           "a"
          ],
          [
           "first"
          ],
          [
           "degree"
          ],
          [
           "relative"
          ],
          [
           "with"
          ],
          [
           "breast"
          ],
          [
           "cancer"
          ],
          [
           ","
          ],
          [
           "prior"
          ],
          [
           "breast"
          ],
          [
           "cancer"
          ],
          [
           ","
          ],
          [
           "or"
          ],
          [
           "precancerous"
          ],
          [
           "mastopathy"
          ],
          [
           "."
          ],
          [
           "Mitochondrial"
          ],
          [
           "transmembrane"
          ],
          [
           "potential"
          ],
          [
           "("
          ],
          [
           "delta"
          ],
          [
           "psi"
          ],
          [
           "("
          ],
          [
           "m"
          ],
          [
           ")"
          ],
          [
           ")"
          ],
          [
           "was"
          ],
          [
           "measured"
          ],
          [
           "by"
          ],
          [
           "means"
          ],
          [
           "of"
          ],
          [
           "rhodamine"
          ],
          [
           "123"
          ],
          [
           "staining"
          ],
          [
           "and"
          ],
          [
           "flow"
          ],
          [
           "cytometry"
          ],
          [
           "."
          ],
          [
           "Resorption"
          ],
          [
           "lacunae"
          ],
          [
           "can"
          ],
          [
           "be"
          ],
          [
           "observed"
          ],
          [
           "by"
          ],
          [
           "day"
          ],
          [
           "22"
          ],
          [
           "."
          ],
          [
           "Pentoxifylline"
          ],
          [
           "for"
          ],
          [
           "the"
          ],
          [
           "treatment"
          ],
          [
           "of"
          ],
          [
           "infection"
          ],
          [
           "with"
          ],
          [
           "human"
          ],
          [
           "immunodeficiency"
          ],
          [
           "virus"
          ],
          [
           "."
          ],
          [
           "METHOD"
          ],
          [
           "."
          ],
          [
           "Binding"
          ],
          [
           "capacity"
          ],
          [
           "("
          ],
          [
           "4978+/-391"
          ],
          [
           "versus"
          ],
          [
           "4131+/-321"
          ],
          [
           "sites/cell"
          ],
          [
           ")"
          ],
          [
           ","
          ],
          [
           "Kd"
          ],
          [
           "values"
          ],
          [
           "for"
          ],
          [
           "dexamethasone"
          ],
          [
           "("
          ],
          [
           "6.7+/-0.5"
          ],
          [
           "versus"
          ],
          [
           "5.7+/-0.3"
          ],
          [
           "nmol/L"
          ],
          [
           ")"
          ],
          [
           ","
          ],
          [
           "and"
          ],
          [
           "IC50"
          ],
          [
           "values"
          ],
          [
           "for"
          ],
          [
           "dexamethasone"
          ],
          [
           "("
          ],
          [
           "3.4+/-0.3"
          ],
          [
           "versus"
          ],
          [
           "3.1+/-0.2"
          ],
          [
           "nmol/L"
          ],
          [
           ")"
          ],
          [
           "and"
          ],
          [
           "cortisol"
          ],
          [
           "("
          ],
          [
           "12.2+/-1.6"
          ],
          [
           "versus"
          ],
          [
           "9.5+/-0.3"
          ],
          [
           "nmol/L"
          ],
          [
           ")"
          ],
          [
           "were"
          ],
          [
           "not"
          ],
          [
           "significantly"
          ],
          [
           "different"
          ],
          [
           "."
          ],
          [
           "Erythropoietin"
          ],
          [
           "("
          ],
          [
           "Epo"
          ],
          [
           ")"
          ],
          [
           "is"
          ],
          [
           "essential"
          ],
          [
           "for"
          ],
          [
           "the"
          ],
          [
           "later"
          ],
          [
           "stages"
          ],
          [
           "of"
          ],
          [
           "erythropoiesis"
          ],
          [
           ","
          ],
          [
           "acting"
          ],
          [
           "to"
          ],
          [
           "promote"
          ],
          [
           "cell"
          ],
          [
           "survival"
          ],
          [
           "and"
          ],
          [
           "proliferation"
          ],
          [
           ","
          ],
          [
           "but"
          ],
          [
           "its"
          ],
          [
           "role"
          ],
          [
           "in"
          ],
          [
           "differentiation"
          ],
          [
           "remains"
          ],
          [
           "to"
          ],
          [
           "be"
          ],
          [
           "defined"
          ],
          [
           "."
          ],
          [
           "Positive"
          ],
          [
           "hybridization"
          ],
          [
           "was"
          ],
          [
           "found"
          ],
          [
           "in"
          ],
          [
           "thymus"
          ],
          [
           ","
          ],
          [
           "tonsil"
          ],
          [
           ","
          ],
          [
           "bone"
          ],
          [
           "marrow"
          ],
          [
           ","
          ],
          [
           "developing"
          ],
          [
           "vessels"
          ],
          [
           ","
          ],
          [
           "and"
          ],
          [
           "in"
          ],
          [
           "fetal"
          ],
          [
           "brain"
          ],
          [
           "."
          ],
          [
           "They"
          ],
          [
           "involve"
          ],
          [
           "phosphorylation"
          ],
          [
           "and"
          ],
          [
           "proteolytic"
          ],
          [
           "reactions"
          ],
          [
           "and"
          ],
          [
           "seem"
          ],
          [
           "to"
          ],
          [
           "be"
          ],
          [
           "controlled"
          ],
          [
           "by"
          ],
          [
           "the"
          ],
          [
           "cells"
          ],
          [
           "'"
          ],
          [
           "redox"
          ],
          [
           "status"
          ],
          [
           "."
          ],
          [
           "Further"
          ],
          [
           "characterization"
          ],
          [
           "of"
          ],
          [
           "gelatinase"
          ],
          [
           "granules"
          ],
          [
           "has"
          ],
          [
           "been"
          ],
          [
           "hampered"
          ],
          [
           "by"
          ],
          [
           "poor"
          ],
          [
           "separation"
          ],
          [
           "of"
          ],
          [
           "specific"
          ],
          [
           "and"
          ],
          [
           "gelatinase"
          ],
          [
           "granules"
          ],
          [
           "on"
          ],
          [
           "both"
          ],
          [
           "two-layer"
          ],
          [
           "Percoll"
          ],
          [
           "gradients"
          ],
          [
           "and"
          ],
          [
           "sucrose"
          ],
          [
           "gradients"
          ],
          [
           "."
          ],
          [
           "Surgically"
          ],
          [
           "confirmed"
          ],
          [
           "nodal"
          ],
          [
           "involvement"
          ],
          [
           "was"
          ],
          [
           "observed"
          ],
          [
           "in"
          ],
          [
           "42"
          ],
          [
           "%"
          ],
          [
           "."
          ],
          [
           "Constitutive"
          ],
          [
           "expression"
          ],
          [
           "was"
          ],
          [
           "observed"
          ],
          [
           "in"
          ],
          [
           "a"
          ],
          [
           "small"
          ],
          [
           "population"
          ],
          [
           "of"
          ],
          [
           "cells"
          ],
          [
           "in"
          ],
          [
           "the"
          ],
          [
           "dermis"
          ],
          [
           "and"
          ],
          [
           "some"
          ],
          [
           "mice"
          ],
          [
           "have"
          ],
          [
           "developed"
          ],
          [
           "skin"
          ],
          [
           "lesions"
          ],
          [
           "."
          ],
          [
           "Premenopausal"
          ],
          [
           "patients"
          ],
          [
           "with"
          ],
          [
           "neither"
          ],
          [
           "risk"
          ],
          [
           "factor"
          ],
          [
           "had"
          ],
          [
           "a"
          ],
          [
           "very"
          ],
          [
           "low"
          ],
          [
           "failure"
          ],
          [
           "rate"
          ],
          [
           "("
          ],
          [
           "2.6"
          ],
          [
           "%"
          ],
          [
           "at"
          ],
          [
           "5"
          ],
          [
           "years"
          ],
          [
           ")"
          ],
          [
           ","
          ],
          [
           "regardless"
          ],
          [
           "of"
          ],
          [
           "age"
          ],
          [
           "."
          ],
          [
           "Deoxycorticosterone"
          ],
          [
           "acetate"
          ],
          [
           "had"
          ],
          [
           "an"
          ],
          [
           "intermediate"
          ],
          [
           "activity"
          ],
          [
           "with"
          ],
          [
           "an"
          ],
          [
           "apparent"
          ],
          [
           "Kd"
          ],
          [
           "of"
          ],
          [
           "100"
          ],
          [
           "nM"
          ],
          [
           "."
          ],
          [
           "The"
          ],
          [
           "host"
          ],
          [
           "mechanisms"
          ],
          [
           "regulated"
          ],
          [
           "by"
          ],
          [
           "such"
          ],
          [
           "permissivity"
          ],
          [
           "factors"
          ],
          [
           "are"
          ],
          [
           "potential"
          ],
          [
           "targets"
          ],
          [
           "for"
          ],
          [
           "anti-HIV-1"
          ],
          [
           "therapy"
          ],
          [
           "."
          ],
          [
           "The"
          ],
          [
           "patients"
          ],
          [
           "are"
          ],
          [
           "insensitive"
          ],
          [
           "to"
          ],
          [
           "mineralocorticoids"
          ],
          [
           ";"
          ],
          [
           "however"
          ],
          [
           ","
          ],
          [
           "sodium"
          ],
          [
           "supplementation"
          ],
          [
           "is"
          ],
          [
           "able"
          ],
          [
           "to"
          ],
          [
           "correct"
          ],
          [
           "electrolyte"
          ],
          [
           "abnormalities"
          ],
          [
           "."
          ],
          [
           "This"
          ],
          [
           "mechanism"
          ],
          [
           "may"
          ],
          [
           "contribute"
          ],
          [
           "to"
          ],
          [
           "delayed"
          ],
          [
           "progression"
          ],
          [
           "of"
          ],
          [
           "the"
          ],
          [
           "HIV-1"
          ],
          [
           "infection"
          ],
          [
           "in"
          ],
          [
           "vivo"
          ],
          [
           "."
          ],
          [
           "Sublethal"
          ],
          [
           "levels"
          ],
          [
           "of"
          ],
          [
           "oxidative"
          ],
          [
           "stress"
          ],
          [
           "are"
          ],
          [
           "well"
          ],
          [
           "known"
          ],
          [
           "to"
          ],
          [
           "alter"
          ],
          [
           "T"
          ],
          [
           "cell"
          ],
          [
           "functional"
          ],
          [
           "responses"
          ],
          [
           ","
          ],
          [
           "but"
          ],
          [
           "the"
          ],
          [
           "underlying"
          ],
          [
           "mechanisms"
          ],
          [
           "are"
          ],
          [
           "unknown"
          ],
          [
           "."
          ],
          [
           "Because"
          ],
          [
           "concomitant"
          ],
          [
           "elevations"
          ],
          [
           "in"
          ],
          [
           "the"
          ],
          [
           "peripheral"
          ],
          [
           "levels"
          ],
          [
           "of"
          ],
          [
           "these"
          ],
          [
           "substances"
          ],
          [
           "may"
          ],
          [
           "occur"
          ],
          [
           ","
          ],
          [
           "experiments"
          ],
          [
           "were"
          ],
          [
           "performed"
          ],
          [
           "to"
          ],
          [
           "determine"
          ],
          [
           "the"
          ],
          [
           "T-cell"
          ],
          [
           "inhibitory"
          ],
          [
           "effects"
          ],
          [
           "of"
          ],
          [
           "DEX"
          ],
          [
           "together"
          ],
          [
           "with"
          ],
          [
           "either"
          ],
          [
           "PGE2"
          ],
          [
           "or"
          ],
          [
           "ISO"
          ],
          [
           "."
          ],
          [
           "Elucidation"
          ],
          [
           "of"
          ],
          [
           "the"
          ],
          [
           "biochemical"
          ],
          [
           "nature"
          ],
          [
           "of"
          ],
          [
           "the"
          ],
          [
           "signal"
          ],
          [
           "transduction"
          ],
          [
           "pathway"
          ],
          [
           "that"
          ],
          [
           "regulate"
          ],
          [
           "transcription"
          ],
          [
           "and"
          ],
          [
           "replication"
          ],
          [
           "is"
          ],
          [
           "the"
          ],
          [
           "focus"
          ],
          [
           "of"
          ],
          [
           "attention"
          ],
          [
           "in"
          ],
          [
           "molecular"
          ],
          [
           "biology"
          ],
          [
           "."
          ],
          [
           "This"
          ],
          [
           "occurs"
          ],
          [
           "with"
          ],
          [
           "fast"
          ],
          [
           "kinetics"
          ],
          [
           "after"
          ],
          [
           "stimulation"
          ],
          [
           ","
          ],
          [
           "via"
          ],
          [
           "a"
          ],
          [
           "CsA-sensitive"
          ],
          [
           "and"
          ],
          [
           "Ca"
          ],
          [
           "("
          ],
          [
           "2+"
          ],
          [
           ")"
          ],
          [
           "-dependent"
          ],
          [
           "mechanism"
          ],
          [
           "that"
          ],
          [
           "does"
          ],
          [
           "not"
          ],
          [
           "require"
          ],
          [
           "de"
          ],
          [
           "novo"
          ],
          [
           "protein"
          ],
          [
           "synthesis"
          ],
          [
           "."
          ],
          [
           "Cellular"
          ],
          [
           "mechanisms"
          ],
          [
           "contributing"
          ],
          [
           "to"
          ],
          [
           "inadequate"
          ],
          [
           "response"
          ],
          [
           "to"
          ],
          [
           "glucocorticoid"
          ],
          [
           "therapy"
          ],
          [
           "."
          ],
          [
           "OBJECTIVE"
          ],
          [
           ":"
          ],
          [
           "Many"
          ],
          [
           "studies"
          ],
          [
           "have"
          ],
          [
           "suggested"
          ],
          [
           "that"
          ],
          [
           "there"
          ],
          [
           "is"
          ],
          [
           "a"
          ],
          [
           "possible"
          ],
          [
           "hormonal"
          ],
          [
           "dysregulation"
          ],
          [
           "of"
          ],
          [
           "hypothalamic-pituitary-adrenal"
          ],
          [
           "("
          ],
          [
           "HPA"
          ],
          [
           ")"
          ],
          [
           "axis"
          ],
          [
           "and"
          ],
          [
           "an"
          ],
          [
           "increased"
          ],
          [
           "cortisol"
          ],
          [
           "clearance"
          ],
          [
           "in"
          ],
          [
           "patients"
          ],
          [
           "with"
          ],
          [
           "polycystic"
          ],
          [
           "ovary"
          ],
          [
           "syndrome"
          ],
          [
           "("
          ],
          [
           "PCOS"
          ],
          [
           ")"
          ],
          [
           "."
          ],
          [
           "Low"
          ],
          [
           "dose"
          ],
          [
           "dexamethasone"
          ],
          [
           "therapy"
          ],
          [
           "("
          ],
          [
           "1-1.5"
          ],
          [
           "mg/day"
          ],
          [
           ")"
          ],
          [
           "was"
          ],
          [
           "of"
          ],
          [
           "clinical"
          ],
          [
           "benefit"
          ],
          [
           "in"
          ],
          [
           "these"
          ],
          [
           "patients"
          ],
          [
           "."
          ],
          [
           "Time-course"
          ],
          [
           "studies"
          ],
          [
           "revealed"
          ],
          [
           "a"
          ],
          [
           "biphasic"
          ],
          [
           "time-dependent"
          ],
          [
           "expression"
          ],
          [
           "after"
          ],
          [
           "0.5-"
          ],
          [
           ","
          ],
          [
           "1-"
          ],
          [
           "and"
          ],
          [
           "2-Gy"
          ],
          [
           "exposures"
          ],
          [
           "."
          ],
          [
           "If"
          ],
          [
           "an"
          ],
          [
           "imbalance"
          ],
          [
           "exists"
          ],
          [
           ","
          ],
          [
           "haptenation"
          ],
          [
           "of"
          ],
          [
           "the"
          ],
          [
           "toxic"
          ],
          [
           "metabolites"
          ],
          [
           "to"
          ],
          [
           "bodily"
          ],
          [
           "proteins"
          ],
          [
           "including"
          ],
          [
           "the"
          ],
          [
           "surface"
          ],
          [
           "of"
          ],
          [
           "viable"
          ],
          [
           "cells"
          ],
          [
           "can"
          ],
          [
           "occur"
          ],
          [
           ","
          ],
          [
           "and"
          ],
          [
           "may"
          ],
          [
           "result"
          ],
          [
           "in"
          ],
          [
           "drug"
          ],
          [
           "hypersensitivity"
          ],
          [
           "."
          ],
          [
           "Small-bowel"
          ],
          [
           "resection"
          ],
          [
           "in"
          ],
          [
           "ileostomized"
          ],
          [
           "patients"
          ],
          [
           "causes"
          ],
          [
           "excessive"
          ],
          [
           "fecal"
          ],
          [
           "sodium"
          ],
          [
           "losses"
          ],
          [
           "and"
          ],
          [
           "results"
          ],
          [
           "in"
          ],
          [
           "chronic"
          ],
          [
           "sodium"
          ],
          [
           "depletion"
          ],
          [
           "with"
          ],
          [
           "contraction"
          ],
          [
           "of"
          ],
          [
           "the"
          ],
          [
           "plasma"
          ],
          [
           "volume"
          ],
          [
           "and"
          ],
          [
           "severe"
          ],
          [
           "secondary"
          ],
          [
           "hyperaldosteronism"
          ],
          [
           "."
          ],
          [
           "Several"
          ],
          [
           "lines"
          ],
          [
           "of"
          ],
          [
           "evidence"
          ],
          [
           "suggest"
          ],
          [
           "disturbances"
          ],
          [
           "of"
          ],
          [
           "the"
          ],
          [
           "hypothalamic-pituitary-adrenal"
          ],
          [
           "("
          ],
          [
           "HPA"
          ],
          [
           ")"
          ],
          [
           "system"
          ],
          [
           "in"
          ],
          [
           "Alzheimer"
          ],
          [
           "'s"
          ],
          [
           "disease"
          ],
          [
           "("
          ],
          [
           "AD"
          ],
          [
           ")"
          ],
          [
           "."
          ],
          [
           "We"
          ],
          [
           ","
          ],
          [
           "therefore"
          ],
          [
           ","
          ],
          [
           "propose"
          ],
          [
           "the"
          ],
          [
           "activation"
          ],
          [
           "scheme"
          ],
          [
           "presented"
          ],
          [
           "in"
          ],
          [
           "FIGURE"
          ],
          [
           "3"
          ],
          [
           "for"
          ],
          [
           "T-cell"
          ],
          [
           "costimulation"
          ],
          [
           "."
          ],
          [
           "Arg551"
          ],
          [
           "was"
          ],
          [
           "not"
          ],
          [
           "associated"
          ],
          [
           "with"
          ],
          [
           "atopic"
          ],
          [
           "asthma"
          ],
          [
           "in"
          ],
          [
           "the"
          ],
          [
           "Japanese"
          ],
          [
           "population"
          ],
          [
           "."
          ],
          [
           "("
          ],
          [
           "ABSTRACT"
          ],
          [
           "TRUNCATED"
          ],
          [
           "AT"
          ],
          [
           "250"
          ],
          [
           "WORDS"
          ],
          [
           ")"
          ],
          [
           "The"
          ],
          [
           "increased"
          ],
          [
           "NO"
          ],
          [
           "production"
          ],
          [
           "during"
          ],
          [
           "the"
          ],
          [
           "second"
          ],
          [
           "A/R"
          ],
          [
           "insult"
          ],
          [
           "reduces"
          ],
          [
           "PMN"
          ],
          [
           "adhesion"
          ],
          [
           "most"
          ],
          [
           "likely"
          ],
          [
           "by"
          ],
          [
           "reducing"
          ],
          [
           "the"
          ],
          [
           "intracellular"
          ],
          [
           "oxidant"
          ],
          [
           "stress"
          ],
          [
           "induced"
          ],
          [
           "by"
          ],
          [
           "A/R"
          ],
          [
           "."
          ],
          [
           "The"
          ],
          [
           "FECa2+"
          ],
          [
           "was"
          ],
          [
           "measured"
          ],
          [
           "as"
          ],
          [
           "the"
          ],
          [
           "ionomycin-evoked"
          ],
          [
           "Ca2+"
          ],
          [
           "release"
          ],
          [
           "("
          ],
          [
           "in"
          ],
          [
           "the"
          ],
          [
           "presence"
          ],
          [
           "of"
          ],
          [
           "thapsigargin"
          ],
          [
           ")"
          ],
          [
           "in"
          ],
          [
           "Ca2+-free"
          ],
          [
           "medium"
          ],
          [
           "."
          ],
          [
           "Although"
          ],
          [
           "less"
          ],
          [
           "potent"
          ],
          [
           "than"
          ],
          [
           "polyunsaturated"
          ],
          [
           "fatty"
          ],
          [
           "acids"
          ],
          [
           "in"
          ],
          [
           "inhibiting"
          ],
          [
           "endothelial"
          ],
          [
           "activation"
          ],
          [
           ","
          ],
          [
           "oleic"
          ],
          [
           "acid"
          ],
          [
           "may"
          ],
          [
           "contribute"
          ],
          [
           "to"
          ],
          [
           "the"
          ],
          [
           "prevention"
          ],
          [
           "of"
          ],
          [
           "atherogenesis"
          ],
          [
           "through"
          ],
          [
           "selective"
          ],
          [
           "displacement"
          ],
          [
           "of"
          ],
          [
           "saturated"
          ],
          [
           "fatty"
          ],
          [
           "acids"
          ],
          [
           "in"
          ],
          [
           "cell"
          ],
          [
           "membrane"
          ],
          [
           "phospholipids"
          ],
          [
           "and"
          ],
          [
           "a"
          ],
          [
           "consequent"
          ],
          [
           "modulation"
          ],
          [
           "of"
          ],
          [
           "gene"
          ],
          [
           "expression"
          ],
          [
           "for"
          ],
          [
           "molecules"
          ],
          [
           "involved"
          ],
          [
           "in"
          ],
          [
           "monocyte"
          ],
          [
           "recruitment"
          ],
          [
           "."
          ],
          [
           "This"
          ],
          [
           "adverse"
          ],
          [
           "effect"
          ],
          [
           "of"
          ],
          [
           "peptide"
          ],
          [
           "vaccination"
          ],
          [
           "was"
          ],
          [
           "rapidly"
          ],
          [
           "evoked"
          ],
          [
           ","
          ],
          [
           "required"
          ],
          [
           "low"
          ],
          [
           "doses"
          ],
          [
           "of"
          ],
          [
           "peptide"
          ],
          [
           "("
          ],
          [
           "10"
          ],
          [
           "micrograms"
          ],
          [
           ")"
          ],
          [
           ","
          ],
          [
           "and"
          ],
          [
           "was"
          ],
          [
           "achieved"
          ],
          [
           "by"
          ],
          [
           "a"
          ],
          [
           "mode"
          ],
          [
           "of"
          ],
          [
           "peptide"
          ],
          [
           "delivery"
          ],
          [
           "that"
          ],
          [
           "induces"
          ],
          [
           "protective"
          ],
          [
           "T-cell-mediated"
          ],
          [
           "immunity"
          ],
          [
           "in"
          ],
          [
           "other"
          ],
          [
           "models"
          ],
          [
           "."
          ],
          [
           "("
          ],
          [
           "ABSTRACT"
          ],
          [
           "TRUNCATED"
          ],
          [
           "AT"
          ],
          [
           "250"
          ],
          [
           "WORDS"
          ],
          [
           ")"
          ],
          [
           "Rheumatoid"
          ],
          [
           "arthritis"
          ],
          [
           "synovial"
          ],
          [
           "fluid"
          ],
          [
           "and"
          ],
          [
           "blood"
          ],
          [
           "and"
          ],
          [
           "normal"
          ],
          [
           "peripheral"
          ],
          [
           "blood"
          ],
          [
           "were"
          ],
          [
           "also"
          ],
          [
           "examined"
          ],
          [
           "."
          ],
          [
           "We"
          ],
          [
           "questioned"
          ],
          [
           "whether"
          ],
          [
           "these"
          ],
          [
           "differences"
          ],
          [
           "might"
          ],
          [
           "reflect"
          ],
          [
           "patterns"
          ],
          [
           "of"
          ],
          [
           "intracellular"
          ],
          [
           "signal"
          ],
          [
           "transduction"
          ],
          [
           "."
          ],
          [
           "Relative"
          ],
          [
           "levels"
          ],
          [
           "were"
          ],
          [
           "then"
          ],
          [
           "correlated"
          ],
          [
           "with"
          ],
          [
           "a"
          ],
          [
           "series"
          ],
          [
           "of"
          ],
          [
           "clinical"
          ],
          [
           "variables"
          ],
          [
           "including"
          ],
          [
           "response"
          ],
          [
           "to"
          ],
          [
           "therapy"
          ],
          [
           ","
          ],
          [
           "performance"
          ],
          [
           "status"
          ],
          [
           ","
          ],
          [
           "survival"
          ],
          [
           ","
          ],
          [
           "disease"
          ],
          [
           "sites"
          ],
          [
           ","
          ],
          [
           "age"
          ],
          [
           ","
          ],
          [
           "and"
          ],
          [
           "others"
          ],
          [
           "."
          ],
          [
           "There"
          ],
          [
           "are"
          ],
          [
           "many"
          ],
          [
           "hypotheses"
          ],
          [
           "concerning"
          ],
          [
           "the"
          ],
          [
           "pathogenesis"
          ],
          [
           "of"
          ],
          [
           "endometriosis"
          ],
          [
           ","
          ],
          [
           "though"
          ],
          [
           "no"
          ],
          [
           "single"
          ],
          [
           "theory"
          ],
          [
           "can"
          ],
          [
           "explain"
          ],
          [
           "all"
          ],
          [
           "cases"
          ],
          [
           "."
          ],
          [
           "Tamoxifen"
          ],
          [
           ","
          ],
          [
           "an"
          ],
          [
           "oestrogen"
          ],
          [
           "antagonist"
          ],
          [
           ","
          ],
          [
           "has"
          ],
          [
           "been"
          ],
          [
           "given"
          ],
          [
           "in"
          ],
          [
           "some"
          ],
          [
           "patients"
          ],
          [
           "with"
          ],
          [
           "CLL"
          ],
          [
           "and"
          ],
          [
           "Hodgkin"
          ],
          [
           "'s"
          ],
          [
           "disease"
          ],
          [
           ","
          ],
          [
           "with"
          ],
          [
           "dramatic"
          ],
          [
           "response"
          ],
          [
           "in"
          ],
          [
           "single"
          ],
          [
           "cases"
          ],
          [
           "."
          ],
          [
           "In"
          ],
          [
           "the"
          ],
          [
           "main"
          ],
          [
           "model"
          ],
          [
           "reported"
          ],
          [
           "here"
          ],
          [
           ","
          ],
          [
           "we"
          ],
          [
           "found"
          ],
          [
           "that"
          ],
          [
           "a"
          ],
          [
           "significant"
          ],
          [
           "amount"
          ],
          [
           "of"
          ],
          [
           "NK"
          ],
          [
           "activity"
          ],
          [
           "variance"
          ],
          [
           "could"
          ],
          [
           "be"
          ],
          [
           "explained"
          ],
          [
           "by"
          ],
          [
           "five"
          ],
          [
           "variables"
          ],
          [
           "."
          ],
          [
           "The"
          ],
          [
           "dissociation"
          ],
          [
           "constant"
          ],
          [
           "was"
          ],
          [
           "not"
          ],
          [
           "affected"
          ],
          [
           "by"
          ],
          [
           "methylprednisolone"
          ],
          [
           "treatment"
          ],
          [
           "in"
          ],
          [
           "either"
          ],
          [
           "group"
          ],
          [
           "."
          ],
          [
           "They"
          ],
          [
           "do"
          ],
          [
           "not"
          ],
          [
           "directly"
          ],
          [
           "intercept"
          ],
          [
           "intracellular"
          ],
          [
           "signalling"
          ],
          [
           "molecules"
          ],
          [
           "."
          ],
          [
           "Papillomas"
          ],
          [
           "and"
          ],
          [
           "keratoacanthomas"
          ],
          [
           "copied"
          ],
          [
           "their"
          ],
          [
           "normal"
          ],
          [
           "counterparts"
          ],
          [
           "in"
          ],
          [
           "the"
          ],
          [
           "mode"
          ],
          [
           "of"
          ],
          [
           "expression"
          ],
          [
           "."
          ],
          [
           "In"
          ],
          [
           "the"
          ],
          [
           "first"
          ],
          [
           "male"
          ],
          [
           "patient"
          ],
          [
           ","
          ],
          [
           "the"
          ],
          [
           "number"
          ],
          [
           "of"
          ],
          [
           "receptors"
          ],
          [
           "was"
          ],
          [
           "very"
          ],
          [
           "low"
          ],
          [
           ","
          ],
          [
           "while"
          ],
          [
           "the"
          ],
          [
           "affinity"
          ],
          [
           "was"
          ],
          [
           "lower"
          ],
          [
           "than"
          ],
          [
           "that"
          ],
          [
           "in"
          ],
          [
           "controls"
          ],
          [
           "."
          ],
          [
           "No"
          ],
          [
           "receptor"
          ],
          [
           "abnormalities"
          ],
          [
           "were"
          ],
          [
           "detected"
          ],
          [
           "in"
          ],
          [
           "the"
          ],
          [
           "MDD"
          ],
          [
           "group"
          ],
          [
           ";"
          ],
          [
           "thus"
          ],
          [
           "any"
          ],
          [
           "cellular"
          ],
          [
           "defect"
          ],
          [
           "leading"
          ],
          [
           "to"
          ],
          [
           "a"
          ],
          [
           "lack"
          ],
          [
           "of"
          ],
          [
           "responsiveness"
          ],
          [
           "to"
          ],
          [
           "GC"
          ],
          [
           "in"
          ],
          [
           "the"
          ],
          [
           "MDD"
          ],
          [
           "patients"
          ],
          [
           ","
          ],
          [
           "if"
          ],
          [
           "present"
          ],
          [
           ","
          ],
          [
           "probably"
          ],
          [
           "lies"
          ],
          [
           "beyond"
          ],
          [
           "the"
          ],
          [
           "initial"
          ],
          [
           "receptor"
          ],
          [
           "binding"
          ],
          [
           "."
          ],
          [
           "Safety"
          ],
          [
           "parameters"
          ],
          [
           "were"
          ],
          [
           "assessed"
          ],
          [
           "throughout"
          ],
          [
           "the"
          ],
          [
           "study"
          ],
          [
           "."
          ],
          [
           "From"
          ],
          [
           "these"
          ],
          [
           "cellular"
          ],
          [
           "changes"
          ],
          [
           ","
          ],
          [
           "we"
          ],
          [
           "can"
          ],
          [
           "infer"
          ],
          [
           "that"
          ],
          [
           "the"
          ],
          [
           "cell"
          ],
          [
           "growth"
          ],
          [
           "was"
          ],
          [
           "modulated"
          ],
          [
           "along"
          ],
          [
           "with"
          ],
          [
           "induction"
          ],
          [
           "of"
          ],
          [
           "terminal"
          ],
          [
           "differentiation"
          ],
          [
           "."
          ],
          [
           "Protein"
          ],
          [
           "expression"
          ],
          [
           "paralleled"
          ],
          [
           "that"
          ],
          [
           "of"
          ],
          [
           "the"
          ],
          [
           "RNA"
          ],
          [
           "."
          ],
          [
           "Immunophenotype"
          ],
          [
           "of"
          ],
          [
           "intraductal"
          ],
          [
           "carcinoma"
          ],
          [
           "."
          ],
          [
           "In"
          ],
          [
           "vivo"
          ],
          [
           ","
          ],
          [
           "anergy"
          ],
          [
           "has"
          ],
          [
           "mainly"
          ],
          [
           "been"
          ],
          [
           "studied"
          ],
          [
           "at"
          ],
          [
           "the"
          ],
          [
           "cellular"
          ],
          [
           "level"
          ],
          [
           "."
          ],
          [
           "None"
          ],
          [
           "of"
          ],
          [
           "the"
          ],
          [
           "other"
          ],
          [
           "putative"
          ],
          [
           "regulatory"
          ],
          [
           "sites"
          ],
          [
           "was"
          ],
          [
           "occupied"
          ],
          [
           "in"
          ],
          [
           "vivo"
          ],
          [
           ","
          ],
          [
           "indicating"
          ],
          [
           "that"
          ],
          [
           "they"
          ],
          [
           "may"
          ],
          [
           "not"
          ],
          [
           "be"
          ],
          [
           "functional"
          ],
          [
           "."
          ],
          [
           "Some"
          ],
          [
           "patients"
          ],
          [
           "with"
          ],
          [
           "major"
          ],
          [
           "depressive"
          ],
          [
           "disorder"
          ],
          [
           "("
          ],
          [
           "MDD"
          ],
          [
           ")"
          ],
          [
           "have"
          ],
          [
           "elevated"
          ],
          [
           "plasma"
          ],
          [
           "cortisol"
          ],
          [
           "concentrations"
          ],
          [
           "and"
          ],
          [
           "show"
          ],
          [
           "failure"
          ],
          [
           "to"
          ],
          [
           "suppress"
          ],
          [
           "cortisol"
          ],
          [
           "secretion"
          ],
          [
           "upon"
          ],
          [
           "administration"
          ],
          [
           "of"
          ],
          [
           "dexamethasone"
          ],
          [
           "("
          ],
          [
           "DEX"
          ],
          [
           ")"
          ],
          [
           ","
          ],
          [
           "yet"
          ],
          [
           "they"
          ],
          [
           "do"
          ],
          [
           "not"
          ],
          [
           "have"
          ],
          [
           "Cushingoid"
          ],
          [
           "features"
          ],
          [
           "."
          ],
          [
           "With"
          ],
          [
           "one"
          ],
          [
           "exception"
          ],
          [
           ","
          ],
          [
           "these"
          ],
          [
           "were"
          ],
          [
           "all"
          ],
          [
           "increases"
          ],
          [
           "."
          ],
          [
           "Application"
          ],
          [
           "of"
          ],
          [
           "this"
          ],
          [
           "form"
          ],
          [
           "of"
          ],
          [
           "testing"
          ],
          [
           "should"
          ],
          [
           "prove"
          ],
          [
           "valuable"
          ],
          [
           "in"
          ],
          [
           "screening"
          ],
          [
           "for"
          ],
          [
           "signaling"
          ],
          [
           "defects"
          ],
          [
           "in"
          ],
          [
           "selected"
          ],
          [
           "patients"
          ],
          [
           "with"
          ],
          [
           "recurrent"
          ],
          [
           "infections"
          ],
          [
           "."
          ],
          [
           "In"
          ],
          [
           "order"
          ],
          [
           "to"
          ],
          [
           "analyse"
          ],
          [
           "the"
          ],
          [
           "immune"
          ],
          [
           "function"
          ],
          [
           "data"
          ],
          [
           "effectively"
          ],
          [
           ","
          ],
          [
           "low"
          ],
          [
           "responders"
          ],
          [
           "were"
          ],
          [
           "identified"
          ],
          [
           "with"
          ],
          [
           "stringent"
          ],
          [
           "cut-off"
          ],
          [
           "values"
          ],
          [
           "."
          ],
          [
           "In"
          ],
          [
           "this"
          ],
          [
           "report"
          ],
          [
           ","
          ],
          [
           "we"
          ],
          [
           "demonstrate"
          ],
          [
           "a"
          ],
          [
           "functional"
          ],
          [
           "correlate"
          ],
          [
           "of"
          ],
          [
           "DQA1"
          ],
          [
           "polymorphism"
          ],
          [
           "."
          ],
          [
           "["
          ],
          [
           "The"
          ],
          [
           "effect"
          ],
          [
           "of"
          ],
          [
           "24"
          ],
          [
           ","
          ],
          [
           "25-dihydroxyvitamin"
          ],
          [
           "D3"
          ],
          [
           "("
          ],
          [
           "dioxyvit"
          ],
          [
           ")"
          ],
          [
           "on"
          ],
          [
           "Ca"
          ],
          [
           "metabolism"
          ],
          [
           "and"
          ],
          [
           "immune"
          ],
          [
           "status"
          ],
          [
           "during"
          ],
          [
           "chronic"
          ],
          [
           "kidney"
          ],
          [
           "failure"
          ],
          [
           "]"
          ],
          [
           "The"
          ],
          [
           "mechanism"
          ],
          [
           "of"
          ],
          [
           "action"
          ],
          [
           "of"
          ],
          [
           "cyclosporin"
          ],
          [
           "A"
          ],
          [
           "and"
          ],
          [
           "FK506"
          ],
          [
           "."
          ],
          [
           "Gel"
          ],
          [
           "electrophoretic"
          ],
          [
           "mobility"
          ],
          [
           "shift"
          ],
          [
           "assay"
          ],
          [
           "detected"
          ],
          [
           "an"
          ],
          [
           "induced"
          ],
          [
           "DNA-binding"
          ],
          [
           "activity"
          ],
          [
           "in"
          ],
          [
           "these"
          ],
          [
           "cells"
          ],
          [
           "in"
          ],
          [
           "response"
          ],
          [
           "to"
          ],
          [
           "LPS"
          ],
          [
           "."
          ],
          [
           "The"
          ],
          [
           "kinetics"
          ],
          [
           "of"
          ],
          [
           "expression"
          ],
          [
           "suggest"
          ],
          [
           "that"
          ],
          [
           "the"
          ],
          [
           "high"
          ],
          [
           "initial"
          ],
          [
           "levels"
          ],
          [
           "are"
          ],
          [
           "caused"
          ],
          [
           "by"
          ],
          [
           "the"
          ],
          [
           "isolation"
          ],
          [
           "procedure"
          ],
          [
           ","
          ],
          [
           "and"
          ],
          [
           "do"
          ],
          [
           "not"
          ],
          [
           "reflect"
          ],
          [
           "constitutive"
          ],
          [
           "expression"
          ],
          [
           "."
          ],
          [
           "The"
          ],
          [
           "activation"
          ],
          [
           "is"
          ],
          [
           "rapid"
          ],
          [
           "and"
          ],
          [
           "transient"
          ],
          [
           "and"
          ],
          [
           "is"
          ],
          [
           "mediated"
          ],
          [
           "through"
          ],
          [
           "a"
          ],
          [
           "cyclosporin"
          ],
          [
           "A-insensitive"
          ],
          [
           "pathway"
          ],
          [
           "."
          ],
          [
           "The"
          ],
          [
           "active"
          ],
          [
           "ingredients"
          ],
          [
           "mediating"
          ],
          [
           "the"
          ],
          [
           "pharmacological"
          ],
          [
           "effect"
          ],
          [
           "are"
          ],
          [
           "mainly"
          ],
          [
           "sesquiterpene"
          ],
          [
           "lactones"
          ],
          [
           ","
          ],
          [
           "such"
          ],
          [
           "as"
          ],
          [
           "helenalin"
          ],
          [
           ","
          ],
          [
           "11alpha"
          ],
          [
           ","
          ],
          [
           "13-dihydrohelenalin"
          ],
          [
           ","
          ],
          [
           "chamissonolid"
          ],
          [
           "and"
          ],
          [
           "their"
          ],
          [
           "ester"
          ],
          [
           "derivatives"
          ],
          [
           "."
          ],
          [
           "["
          ],
          [
           "Cortisone-resistant"
          ],
          [
           "bronchial"
          ],
          [
           "asthma"
          ],
          [
           "]"
          ],
          [
           "N-Acetylcysteine"
          ],
          [
           ","
          ],
          [
           "alpha"
          ],
          [
           ","
          ],
          [
           "alpha'-dipyridyl"
          ],
          [
           ","
          ],
          [
           "aminotriazole"
          ],
          [
           "or"
          ],
          [
           "nitrofurantoin"
          ],
          [
           "did"
          ],
          [
           "not"
          ],
          [
           "show"
          ],
          [
           "any"
          ],
          [
           "effect"
          ],
          [
           "."
          ],
          [
           "Retinoic"
          ],
          [
           "acid"
          ],
          [
           "("
          ],
          [
           "RA"
          ],
          [
           ")"
          ],
          [
           ","
          ],
          [
           "a"
          ],
          [
           "vitamin"
          ],
          [
           "A"
          ],
          [
           "derivative"
          ],
          [
           ","
          ],
          [
           "exerts"
          ],
          [
           "a"
          ],
          [
           "wide"
          ],
          [
           "range"
          ],
          [
           "of"
          ],
          [
           "biological"
          ],
          [
           "effects"
          ],
          [
           "related"
          ],
          [
           "to"
          ],
          [
           "cell"
          ],
          [
           "proliferation"
          ],
          [
           "and"
          ],
          [
           "differentiation"
          ],
          [
           "."
          ],
          [
           "Pathogenesis"
          ],
          [
           "."
          ],
          [
           "The"
          ],
          [
           "effects"
          ],
          [
           "of"
          ],
          [
           "GDSP"
          ],
          [
           "were"
          ],
          [
           "compared"
          ],
          [
           "with"
          ],
          [
           "those"
          ],
          [
           "of"
          ],
          [
           "another"
          ],
          [
           "elastase"
          ],
          [
           "inhibitor"
          ],
          [
           ","
          ],
          [
           "elastatinal"
          ],
          [
           "."
          ],
          [
           "Observations"
          ],
          [
           "such"
          ],
          [
           "as"
          ],
          [
           "these"
          ],
          [
           "encourage"
          ],
          [
           "the"
          ],
          [
           "speculation"
          ],
          [
           "that"
          ],
          [
           "there"
          ],
          [
           "may"
          ],
          [
           "be"
          ],
          [
           "subtle"
          ],
          [
           "differences"
          ],
          [
           "in"
          ],
          [
           "the"
          ],
          [
           "regulation"
          ],
          [
           "of"
          ],
          [
           "HIV-1"
          ],
          [
           "and"
          ],
          [
           "HIV-2"
          ],
          [
           "expression"
          ],
          [
           "that"
          ],
          [
           "may"
          ],
          [
           "be"
          ],
          [
           "relevant"
          ],
          [
           "to"
          ],
          [
           "the"
          ],
          [
           "possible"
          ],
          [
           "longer"
          ],
          [
           "latency"
          ],
          [
           "and"
          ],
          [
           "reduced"
          ],
          [
           "pathogenicity"
          ],
          [
           "of"
          ],
          [
           "HIV-2"
          ],
          [
           "."
          ],
          [
           "("
          ],
          [
           "ABSTRACT"
          ],
          [
           "TRUNCATED"
          ],
          [
           "AT"
          ],
          [
           "250"
          ],
          [
           "WORDS"
          ],
          [
           ")"
          ],
          [
           "So"
          ],
          [
           "far"
          ],
          [
           ","
          ],
          [
           "there"
          ],
          [
           "are"
          ],
          [
           "no"
          ],
          [
           "drugs"
          ],
          [
           "or"
          ],
          [
           "therapy"
          ],
          [
           "available"
          ],
          [
           "that"
          ],
          [
           "can"
          ],
          [
           "provide"
          ],
          [
           "protection"
          ],
          [
           "against"
          ],
          [
           "HIV-1"
          ],
          [
           "latency"
          ],
          [
           "reactivation"
          ],
          [
           "."
          ],
          [
           "This"
          ],
          [
           "provides"
          ],
          [
           "the"
          ],
          [
           "hormone"
          ],
          [
           "with"
          ],
          [
           "an"
          ],
          [
           "interesting"
          ],
          [
           "therapeutic"
          ],
          [
           "potential"
          ],
          [
           "."
          ],
          [
           "Results"
          ],
          [
           "were"
          ],
          [
           "expressed"
          ],
          [
           "as"
          ],
          [
           "a"
          ],
          [
           "median"
          ],
          [
           "("
          ],
          [
           "interquartile"
          ],
          [
           "range"
          ],
          [
           ")"
          ],
          [
           "."
          ],
          [
           "This"
          ],
          [
           "review"
          ],
          [
           "focuses"
          ],
          [
           "on"
          ],
          [
           "the"
          ],
          [
           "molecular"
          ],
          [
           "actions"
          ],
          [
           "of"
          ],
          [
           "prolactin"
          ],
          [
           "in"
          ],
          [
           "the"
          ],
          [
           "immune"
          ],
          [
           "system"
          ],
          [
           "."
          ],
          [
           "The"
          ],
          [
           "presence"
          ],
          [
           "of"
          ],
          [
           "ras"
          ],
          [
           "mutations"
          ],
          [
           "has"
          ],
          [
           "been"
          ],
          [
           "correlated"
          ],
          [
           "with"
          ],
          [
           "a"
          ],
          [
           "poor"
          ],
          [
           "prognosis"
          ],
          [
           "and"
          ],
          [
           "negative"
          ],
          [
           "clinical"
          ],
          [
           "outcome"
          ],
          [
           "."
          ],
          [
           "The"
          ],
          [
           "decline"
          ],
          [
           "and"
          ],
          [
           "return"
          ],
          [
           "of"
          ],
          [
           "cortisol"
          ],
          [
           "concentrations"
          ],
          [
           "were"
          ],
          [
           "similar"
          ],
          [
           "between"
          ],
          [
           "MP"
          ],
          [
           "treatments"
          ],
          [
           "with"
          ],
          [
           "suppression"
          ],
          [
           "continuing"
          ],
          [
           "for"
          ],
          [
           "24"
          ],
          [
           "hours"
          ],
          [
           "."
          ],
          [
           "The"
          ],
          [
           "finding"
          ],
          [
           "related"
          ],
          [
           "to"
          ],
          [
           "social"
          ],
          [
           "support"
          ],
          [
           "also"
          ],
          [
           "replicates"
          ],
          [
           "results"
          ],
          [
           "from"
          ],
          [
           "an"
          ],
          [
           "independent"
          ],
          [
           "sample"
          ],
          [
           "of"
          ],
          [
           "breast"
          ],
          [
           "cancer"
          ],
          [
           "patients"
          ],
          [
           "."
          ],
          [
           "("
          ],
          [
           "ABSTRACT"
          ],
          [
           "TRUNCATED"
          ],
          [
           "AT"
          ],
          [
           "250"
          ],
          [
           "WORDS"
          ],
          [
           ")"
          ],
          [
           "Several"
          ],
          [
           "studies"
          ],
          [
           "have"
          ],
          [
           "pointed"
          ],
          [
           "to"
          ],
          [
           "a"
          ],
          [
           "link"
          ],
          [
           "between"
          ],
          [
           "immune"
          ],
          [
           "and"
          ],
          [
           "endocrine"
          ],
          [
           "systems"
          ],
          [
           ","
          ],
          [
           "including"
          ],
          [
           "a"
          ],
          [
           "regulatory"
          ],
          [
           "function"
          ],
          [
           "of"
          ],
          [
           "GH"
          ],
          [
           "on"
          ],
          [
           "monocyte"
          ],
          [
           "activation"
          ],
          [
           "."
          ],
          [
           "Comparison"
          ],
          [
           "of"
          ],
          [
           "the"
          ],
          [
           "derived"
          ],
          [
           "protein"
          ],
          [
           "sequence"
          ],
          [
           "with"
          ],
          [
           "those"
          ],
          [
           "of"
          ],
          [
           "rodent"
          ],
          [
           "homologs"
          ],
          [
           "allows"
          ],
          [
           "classification"
          ],
          [
           "into"
          ],
          [
           "three"
          ],
          [
           "groups"
          ],
          [
           "."
          ],
          [
           "Soluble"
          ],
          [
           "factors"
          ],
          [
           "do"
          ],
          [
           "not"
          ],
          [
           "appear"
          ],
          [
           "to"
          ],
          [
           "be"
          ],
          [
           "involved"
          ],
          [
           "in"
          ],
          [
           "the"
          ],
          [
           "mechanism"
          ],
          [
           "of"
          ],
          [
           "inhibition"
          ],
          [
           "."
          ],
          [
           "Amino"
          ],
          [
           "acid"
          ],
          [
           "sequences"
          ],
          [
           "of"
          ],
          [
           "all"
          ],
          [
           "proteins"
          ],
          [
           "are"
          ],
          [
           "essays"
          ],
          [
           "written"
          ],
          [
           "in"
          ],
          [
           "the"
          ],
          [
           "same"
          ],
          [
           "language"
          ],
          [
           "."
          ]
         ],
         "hovertemplate": "x=%{x}<br>y=%{y}<br>token=%{customdata[0]}<br>label=%{marker.color}<extra></extra>",
         "legendgroup": "",
         "marker": {
          "color": [
           0,
           0,
           0,
           0,
           0,
           0,
           0,
           0,
           0,
           0,
           0,
           0,
           0,
           0,
           0,
           0,
           0,
           0,
           0,
           0,
           0,
           0,
           0,
           0,
           0,
           0,
           0,
           0,
           0,
           0,
           0,
           0,
           0,
           0,
           0,
           0,
           0,
           0,
           0,
           0,
           0,
           0,
           0,
           0,
           0,
           0,
           0,
           0,
           0,
           0,
           0,
           0,
           0,
           0,
           0,
           0,
           0,
           0,
           0,
           0,
           0,
           0,
           0,
           0,
           0,
           0,
           0,
           0,
           0,
           0,
           0,
           0,
           0,
           0,
           0,
           0,
           0,
           0,
           0,
           0,
           0,
           0,
           0,
           0,
           0,
           0,
           0,
           0,
           0,
           0,
           0,
           0,
           0,
           0,
           0,
           0,
           0,
           0,
           0,
           0,
           0,
           0,
           0,
           0,
           0,
           0,
           0,
           0,
           0,
           0,
           0,
           0,
           0,
           0,
           0,
           0,
           0,
           0,
           0,
           0,
           0,
           0,
           0,
           0,
           0,
           0,
           0,
           0,
           0,
           0,
           0,
           0,
           0,
           0,
           0,
           0,
           0,
           0,
           0,
           0,
           0,
           0,
           0,
           0,
           0,
           0,
           0,
           0,
           0,
           0,
           0,
           0,
           0,
           0,
           0,
           0,
           0,
           0,
           0,
           0,
           0,
           0,
           0,
           0,
           0,
           0,
           0,
           0,
           0,
           0,
           0,
           0,
           0,
           0,
           0,
           0,
           0,
           0,
           0,
           0,
           0,
           0,
           0,
           0,
           0,
           0,
           0,
           0,
           0,
           0,
           0,
           0,
           0,
           0,
           0,
           0,
           0,
           0,
           0,
           0,
           0,
           0,
           0,
           0,
           0,
           0,
           0,
           0,
           0,
           0,
           0,
           0,
           0,
           0,
           0,
           0,
           0,
           0,
           0,
           0,
           0,
           0,
           0,
           0,
           0,
           0,
           0,
           0,
           0,
           0,
           0,
           0,
           0,
           0,
           0,
           0,
           0,
           0,
           0,
           0,
           0,
           0,
           0,
           0,
           0,
           0,
           0,
           0,
           0,
           0,
           0,
           0,
           0,
           0,
           0,
           0,
           0,
           0,
           0,
           0,
           0,
           0,
           0,
           0,
           0,
           0,
           0,
           0,
           0,
           0,
           0,
           0,
           0,
           0,
           0,
           0,
           0,
           0,
           0,
           0,
           0,
           0,
           0,
           0,
           0,
           0,
           0,
           0,
           0,
           0,
           0,
           0,
           0,
           0,
           0,
           0,
           0,
           0,
           0,
           0,
           0,
           0,
           0,
           0,
           0,
           0,
           0,
           0,
           0,
           0,
           0,
           0,
           0,
           0,
           0,
           0,
           0,
           0,
           0,
           0,
           0,
           0,
           0,
           0,
           0,
           0,
           0,
           0,
           0,
           0,
           0,
           0,
           0,
           0,
           0,
           0,
           0,
           0,
           0,
           0,
           0,
           0,
           0,
           0,
           0,
           0,
           0,
           0,
           0,
           0,
           0,
           0,
           0,
           0,
           0,
           0,
           0,
           0,
           0,
           0,
           0,
           0,
           0,
           0,
           0,
           0,
           0,
           0,
           0,
           0,
           0,
           0,
           0,
           0,
           0,
           0,
           0,
           0,
           0,
           0,
           0,
           0,
           0,
           0,
           0,
           0,
           0,
           0,
           0,
           0,
           0,
           0,
           0,
           0,
           0,
           0,
           0,
           0,
           0,
           0,
           0,
           0,
           0,
           0,
           0,
           0,
           0,
           0,
           0,
           0,
           0,
           0,
           0,
           0,
           0,
           0,
           0,
           0,
           0,
           0,
           0,
           0,
           0,
           0,
           0,
           0,
           0,
           0,
           0,
           0,
           0,
           0,
           0,
           0,
           0,
           0,
           0,
           0,
           0,
           0,
           0,
           0,
           0,
           0,
           0,
           0,
           0,
           0,
           0,
           0,
           0,
           0,
           0,
           0,
           0,
           0,
           0,
           0,
           0,
           0,
           0,
           0,
           0,
           0,
           0,
           0,
           0,
           0,
           0,
           0,
           0,
           0,
           0,
           0,
           0,
           0,
           0,
           0,
           0,
           0,
           0,
           0,
           0,
           0,
           0,
           0,
           0,
           0,
           0,
           0,
           0,
           0,
           0,
           0,
           0,
           0,
           0,
           0,
           0,
           0,
           0,
           0,
           0,
           0,
           0,
           0,
           0,
           0,
           0,
           0,
           0,
           0,
           0,
           0,
           0,
           0,
           0,
           0,
           0,
           0,
           0,
           0,
           0,
           0,
           0,
           0,
           0,
           0,
           0,
           0,
           0,
           0,
           0,
           0,
           0,
           0,
           0,
           0,
           0,
           0,
           0,
           0,
           0,
           0,
           0,
           0,
           0,
           0,
           0,
           0,
           0,
           0,
           0,
           0,
           0,
           0,
           0,
           0,
           0,
           0,
           0,
           0,
           0,
           0,
           0,
           0,
           0,
           0,
           0,
           0,
           0,
           0,
           0,
           0,
           0,
           0,
           0,
           0,
           0,
           0,
           0,
           0,
           0,
           0,
           0,
           0,
           0,
           0,
           0,
           0,
           0,
           0,
           0,
           0,
           0,
           0,
           0,
           0,
           0,
           0,
           0,
           0,
           0,
           0,
           0,
           0,
           0,
           0,
           0,
           0,
           0,
           0,
           0,
           0,
           0,
           0,
           0,
           0,
           0,
           0,
           0,
           0,
           0,
           0,
           0,
           0,
           0,
           0,
           0,
           0,
           0,
           0,
           0,
           0,
           0,
           0,
           0,
           0,
           0,
           0,
           0,
           0,
           0,
           0,
           0,
           0,
           0,
           0,
           0,
           0,
           0,
           0,
           0,
           0,
           0,
           0,
           0,
           0,
           0,
           0,
           0,
           0,
           0,
           0,
           0,
           0,
           0,
           0,
           0,
           0,
           0,
           0,
           0,
           0,
           0,
           0,
           0,
           0,
           0,
           0,
           0,
           0,
           0,
           0,
           0,
           0,
           0,
           0,
           0,
           0,
           0,
           0,
           0,
           0,
           0,
           0,
           0,
           0,
           0,
           0,
           0,
           0,
           0,
           0,
           0,
           0,
           0,
           0,
           0,
           0,
           0,
           0,
           0,
           0,
           0,
           0,
           0,
           0,
           0,
           0,
           0,
           0,
           0,
           0,
           0,
           0,
           0,
           0,
           0,
           0,
           0,
           0,
           0,
           0,
           0,
           0,
           0,
           0,
           0,
           0,
           0,
           0,
           0,
           0,
           0,
           0,
           0,
           0,
           0,
           0,
           0,
           0,
           0,
           0,
           0,
           0,
           0,
           0,
           0,
           0,
           0,
           0,
           0,
           0,
           0,
           0,
           0,
           0,
           0,
           0,
           0,
           0,
           0,
           0,
           0,
           0,
           0,
           0,
           0,
           0,
           0,
           0,
           0,
           0,
           0,
           0,
           0,
           0,
           0,
           0,
           0,
           0,
           0,
           0,
           0,
           0,
           0,
           0,
           0,
           0,
           0,
           0,
           0,
           0,
           0,
           0,
           0,
           0,
           0,
           0,
           0,
           0,
           0,
           0,
           0,
           0,
           0,
           0,
           0,
           0,
           0,
           0,
           0,
           0,
           0,
           0,
           0,
           0,
           0,
           0,
           0,
           0,
           0,
           0,
           0,
           0,
           0,
           0,
           0,
           0,
           0,
           0,
           0,
           0,
           0,
           0,
           0,
           0,
           0,
           0,
           0,
           0,
           0,
           0,
           0,
           0,
           0,
           0,
           0,
           0,
           0,
           0,
           0,
           0,
           0,
           0,
           0,
           0,
           0,
           0,
           0,
           0,
           0,
           0,
           0,
           0,
           0,
           0,
           0,
           0,
           0,
           0,
           0,
           0,
           0,
           0,
           0,
           0,
           0,
           0,
           0,
           0,
           0,
           0,
           0,
           0,
           0,
           0,
           0,
           0,
           0,
           0,
           0,
           0,
           0,
           0,
           0,
           0,
           0,
           0,
           0,
           0,
           0,
           0,
           0,
           0,
           0,
           0,
           0,
           0,
           0,
           0,
           0,
           0,
           0,
           0,
           0,
           0,
           0,
           0,
           0,
           0,
           0,
           0,
           0,
           0,
           0,
           0,
           0,
           0,
           0,
           0,
           0,
           0,
           0,
           0,
           0,
           0,
           0,
           0,
           0,
           0,
           0,
           0,
           0,
           0,
           0,
           0,
           0,
           0,
           0,
           0,
           0,
           0,
           0,
           0,
           0,
           0,
           0,
           0,
           0,
           0,
           0,
           0,
           0,
           0,
           0,
           0,
           0,
           0,
           0,
           0,
           0,
           0,
           0,
           0,
           0,
           0,
           0,
           0,
           0,
           0,
           0,
           0,
           0,
           0,
           0,
           0,
           0,
           0,
           0,
           0,
           0,
           0,
           0,
           0,
           0,
           0,
           0,
           0,
           0,
           0,
           0,
           0,
           0,
           0,
           0,
           0,
           0,
           0,
           0,
           0,
           0,
           0,
           0,
           0,
           0,
           0,
           0,
           0,
           0,
           0,
           0,
           0,
           0,
           0,
           0,
           0,
           0,
           0,
           0,
           0,
           0,
           0,
           0,
           0,
           0,
           0,
           0,
           0,
           0,
           0,
           0,
           0,
           0,
           0,
           0,
           0,
           0,
           0,
           0,
           0,
           0,
           0,
           0,
           0,
           0,
           0,
           0,
           0,
           0,
           0,
           0,
           0,
           0,
           0,
           0,
           0,
           0,
           0,
           0,
           0,
           0,
           0,
           0,
           0,
           0,
           0,
           0,
           0,
           0,
           0,
           0,
           0,
           0,
           0,
           0,
           0,
           0,
           0,
           0,
           0,
           0,
           0,
           0,
           0,
           0,
           0,
           0,
           0,
           0,
           0,
           0,
           0,
           0,
           0,
           0,
           0,
           0,
           0,
           0,
           0,
           0,
           0,
           0,
           0,
           0,
           0,
           0,
           0,
           0,
           0,
           0,
           0,
           0,
           0,
           0,
           0,
           0,
           0,
           0,
           0,
           0,
           0,
           0,
           0,
           0,
           0,
           0,
           0,
           0,
           0,
           0,
           0,
           0,
           0,
           0,
           0,
           0,
           0,
           0,
           0,
           0,
           0,
           0,
           0,
           0,
           0,
           0,
           0,
           0,
           0,
           0,
           0,
           0,
           0,
           0,
           0,
           0,
           0,
           0,
           0,
           0,
           0,
           0,
           0,
           0,
           0,
           0,
           0,
           0,
           0,
           0,
           0,
           0,
           0,
           0,
           0,
           0,
           0,
           0,
           0,
           0,
           0,
           0,
           0,
           0,
           0,
           0,
           0,
           0,
           0,
           0,
           0,
           0,
           0,
           0,
           0,
           0,
           0,
           0,
           0,
           0,
           0,
           0,
           0,
           0,
           0,
           0,
           0,
           0,
           0,
           0,
           0,
           0,
           0,
           0,
           0,
           0,
           0,
           0,
           0,
           0,
           0,
           0,
           0,
           0,
           0,
           0,
           0,
           0,
           0,
           0,
           0,
           0,
           0,
           0,
           0,
           0,
           0,
           0,
           0,
           0,
           0,
           0,
           0,
           0,
           0,
           0,
           0,
           0,
           0,
           0,
           0,
           0,
           0,
           0,
           0,
           0,
           0,
           0,
           0,
           0,
           0,
           0,
           0,
           0,
           0,
           0,
           0,
           0,
           0,
           0,
           0,
           0,
           0,
           0,
           0,
           0,
           0,
           0,
           0,
           0,
           0,
           0,
           0,
           0,
           0,
           0,
           0,
           0,
           0,
           0,
           0,
           0,
           0,
           0,
           0,
           0,
           0,
           0,
           0,
           0,
           0,
           0,
           0,
           0,
           0,
           0,
           0,
           0,
           0,
           0,
           0,
           0,
           0,
           0,
           0,
           0,
           0,
           0,
           0,
           0,
           0,
           0,
           0,
           0,
           0,
           0,
           0,
           0,
           0,
           0,
           0,
           0,
           0,
           0,
           0,
           0,
           0,
           0,
           0,
           0,
           0,
           0,
           0,
           0,
           0,
           0,
           0,
           0,
           0,
           0,
           0,
           0,
           0,
           0,
           0,
           0,
           0,
           0,
           0,
           0,
           0,
           0,
           0,
           0,
           0,
           0,
           0,
           0,
           0,
           0,
           0,
           0,
           0,
           0,
           0,
           0,
           0,
           0,
           0,
           0,
           0,
           0,
           0,
           0,
           0,
           0,
           0,
           0,
           0,
           0,
           0,
           0,
           0,
           0,
           0,
           0,
           0,
           0,
           0,
           0,
           0,
           0,
           0,
           0,
           0,
           0,
           0,
           0,
           0,
           0,
           0,
           0,
           0,
           0,
           0,
           0,
           0,
           0,
           0,
           0,
           0,
           0,
           0,
           0,
           0,
           0,
           0,
           0,
           0,
           0,
           0,
           0,
           0,
           0,
           0,
           0,
           0,
           0,
           0,
           0,
           0,
           0,
           0,
           0,
           0,
           0,
           0,
           0,
           0,
           0,
           0,
           0,
           0,
           0,
           0,
           0,
           0,
           0,
           0,
           0,
           0,
           0,
           0,
           0,
           0,
           0,
           0,
           0,
           0,
           0,
           0,
           0,
           0,
           0,
           0,
           0,
           0,
           0,
           0,
           0,
           0,
           0,
           0,
           0,
           0,
           0,
           0,
           0,
           0,
           0,
           0,
           0,
           0,
           0,
           0,
           0,
           0,
           0,
           0,
           0,
           0,
           0,
           0,
           0,
           0,
           0,
           0,
           0,
           0,
           0,
           0,
           0,
           0,
           0,
           0,
           0,
           0,
           0,
           0,
           0,
           0,
           0,
           0,
           0,
           0,
           0,
           0,
           0,
           0,
           0,
           0,
           0,
           0,
           0,
           0,
           0,
           0,
           0,
           0,
           0,
           0,
           0,
           0
          ],
          "coloraxis": "coloraxis",
          "symbol": "circle"
         },
         "mode": "markers",
         "name": "",
         "showlegend": false,
         "type": "scattergl",
         "x": [
          1.611109733581543,
          -31.251544952392578,
          -30.968807220458984,
          -30.844623565673828,
          -30.74466323852539,
          -31.131122589111328,
          -31.46044158935547,
          -31.336820602416992,
          -32.09465789794922,
          -30.239669799804688,
          -30.196847915649414,
          -29.936935424804688,
          -29.797632217407227,
          -29.66061782836914,
          -28.447296142578125,
          -29.082653045654297,
          -29.63385772705078,
          -29.669401168823242,
          -28.8305721282959,
          -27.988338470458984,
          0.8292693495750427,
          -26.146211624145508,
          -26.70655632019043,
          -26.678897857666016,
          -27.479782104492188,
          -26.994674682617188,
          -26.958660125732422,
          -27.308578491210938,
          -27.646709442138672,
          -27.940101623535156,
          -28.206668853759766,
          -29.072813034057617,
          -26.837356567382812,
          -27.721376419067383,
          -29.586153030395508,
          -29.385894775390625,
          -27.101119995117188,
          -28.338037490844727,
          -29.63200569152832,
          -29.566791534423828,
          -27.27330207824707,
          -27.654157638549805,
          -28.893388748168945,
          6.613180160522461,
          7.756173610687256,
          8.115018844604492,
          8.50011920928955,
          10.346684455871582,
          9.486602783203125,
          9.758469581604004,
          10.950833320617676,
          10.265559196472168,
          9.92963695526123,
          9.752618789672852,
          8.46112060546875,
          8.559345245361328,
          9.798541069030762,
          10.600676536560059,
          10.140756607055664,
          9.610774040222168,
          9.764423370361328,
          8.339091300964355,
          7.939584732055664,
          7.903081893920898,
          7.5579915046691895,
          4.411558628082275,
          -45.65108871459961,
          -45.728084564208984,
          -45.78455352783203,
          -46.67975997924805,
          -47.482696533203125,
          -46.84056854248047,
          -45.17487335205078,
          -45.161643981933594,
          7.494753837585449,
          46.57569885253906,
          49.41893768310547,
          49.07048416137695,
          49.256141662597656,
          48.64937210083008,
          46.61957550048828,
          11.688420295715332,
          11.668853759765625,
          11.692543983459473,
          11.672507286071777,
          1.2900110483169556,
          -2.2009806632995605,
          10.325271606445312,
          29.947877883911133,
          30.03023910522461,
          30.68848991394043,
          32.309226989746094,
          30.587556838989258,
          31.720792770385742,
          32.03757095336914,
          33.886905670166016,
          35.50932312011719,
          33.37778091430664,
          30.64427947998047,
          32.22632598876953,
          33.112403869628906,
          30.45013427734375,
          32.12118148803711,
          33.85257339477539,
          35.47612762451172,
          33.19214630126953,
          32.226409912109375,
          33.74169158935547,
          35.36166000366211,
          34.05649948120117,
          31.05091667175293,
          31.280235290527344,
          31.813758850097656,
          31.8355770111084,
          31.96216583251953,
          31.977346420288086,
          41.15559005737305,
          41.34766387939453,
          41.47060775756836,
          41.70690155029297,
          41.32405090332031,
          32.477420806884766,
          35.315486907958984,
          34.51176071166992,
          35.752716064453125,
          35.03839111328125,
          35.43287658691406,
          34.471595764160156,
          35.90687561035156,
          34.47216796875,
          36.17153549194336,
          6.028566360473633,
          47.7215461730957,
          49.17322540283203,
          54.9381217956543,
          55.15471649169922,
          55.264530181884766,
          45.3137092590332,
          15.695886611938477,
          47.07692337036133,
          49.64661407470703,
          15.809792518615723,
          14.940954208374023,
          14.924494743347168,
          14.043993949890137,
          13.771064758300781,
          13.93305492401123,
          14.340314865112305,
          13.955914497375488,
          14.2793550491333,
          14.745269775390625,
          14.749693870544434,
          14.866058349609375,
          15.49929141998291,
          14.822556495666504,
          13.765802383422852,
          14.622631072998047,
          14.130948066711426,
          13.349488258361816,
          13.351704597473145,
          14.204286575317383,
          12.566306114196777,
          2.629169225692749,
          -11.729567527770996,
          -11.959220886230469,
          -12.28557300567627,
          -11.647762298583984,
          -11.02326488494873,
          -10.914073944091797,
          -10.325690269470215,
          -6.049046516418457,
          -6.981065273284912,
          -8.84009838104248,
          -5.994673252105713,
          -6.547598361968994,
          -8.831780433654785,
          -6.227908134460449,
          -5.7462897300720215,
          -6.243110179901123,
          -8.929903984069824,
          -6.442356586456299,
          -7.174686908721924,
          7.597355365753174,
          23.810504913330078,
          23.995067596435547,
          26.94300079345703,
          26.869152069091797,
          26.49160385131836,
          26.22163200378418,
          25.6446590423584,
          24.25536346435547,
          27.99407958984375,
          27.79838752746582,
          26.590017318725586,
          25.857437133789062,
          25.193819046020508,
          23.0224666595459,
          23.189167022705078,
          22.85477638244629,
          22.964052200317383,
          7.471968173980713,
          -20.757848739624023,
          -20.444915771484375,
          -20.00957489013672,
          -21.622695922851562,
          -20.642929077148438,
          -18.858247756958008,
          -19.14512062072754,
          -20.053997039794922,
          -20.072261810302734,
          -19.486133575439453,
          -19.690038681030273,
          -19.754873275756836,
          -20.0308895111084,
          -20.151336669921875,
          -20.500944137573242,
          -20.521411895751953,
          -20.05605697631836,
          -21.337007522583008,
          -20.825115203857422,
          -21.30819320678711,
          -20.494895935058594,
          -18.980640411376953,
          -19.20995330810547,
          -20.078285217285156,
          1.6258608102798462,
          -24.716402053833008,
          -24.359085083007812,
          -24.632877349853516,
          -24.97233009338379,
          -24.624614715576172,
          -25.180850982666016,
          -25.57707405090332,
          -25.628677368164062,
          -25.5860538482666,
          4.139017581939697,
          -10.385149002075195,
          -10.873448371887207,
          -10.960358619689941,
          -10.493012428283691,
          -10.407947540283203,
          -9.957283020019531,
          -9.800254821777344,
          -8.617122650146484,
          -8.511710166931152,
          -7.858898639678955,
          -6.668356418609619,
          -6.503255367279053,
          -5.928824424743652,
          -7.173593044281006,
          -7.03216552734375,
          -5.737900733947754,
          -6.330630779266357,
          -7.930298328399658,
          -8.038865089416504,
          -7.93797492980957,
          0.7496280074119568,
          -32.29802322387695,
          -32.47684860229492,
          -32.42902374267578,
          -32.84585952758789,
          -32.448856353759766,
          -30.619792938232422,
          -30.138904571533203,
          -29.073455810546875,
          -29.661203384399414,
          -29.89234733581543,
          -30.88566017150879,
          -31.009990692138672,
          -31.114274978637695,
          -30.9510555267334,
          -30.464250564575195,
          -31.141651153564453,
          -32.195560455322266,
          -32.367530822753906,
          -32.02147674560547,
          -33.076725006103516,
          -31.824722290039062,
          -33.21537780761719,
          -33.11764144897461,
          10.296287536621094,
          48.89661407470703,
          48.930660247802734,
          49.04734420776367,
          49.99635696411133,
          50.070396423339844,
          49.500186920166016,
          49.35219955444336,
          49.64934539794922,
          26.48799705505371,
          26.534652709960938,
          26.369140625,
          26.520597457885742,
          26.639354705810547,
          6.212027549743652,
          6.812835693359375,
          6.193161964416504,
          7.032160758972168,
          7.20751953125,
          7.9112467765808105,
          7.930937767028809,
          31.60586166381836,
          31.478370666503906,
          31.098360061645508,
          31.166595458984375,
          36.00818634033203,
          7.0686445236206055,
          7.030425071716309,
          7.056619167327881,
          8.827238082885742,
          31.174596786499023,
          31.472238540649414,
          32.01299285888672,
          32.574928283691406,
          32.68509292602539,
          32.78248977661133,
          33.28942108154297,
          37.43347930908203,
          37.7470588684082,
          38.49854278564453,
          38.148597717285156,
          37.54756164550781,
          32.322113037109375,
          32.69042205810547,
          32.556602478027344,
          33.755313873291016,
          33.896278381347656,
          3.947666883468628,
          -11.487881660461426,
          -11.270951271057129,
          -11.069671630859375,
          -10.965729713439941,
          -10.9664945602417,
          -11.241226196289062,
          -10.789989471435547,
          -10.440451622009277,
          -10.375658988952637,
          -9.880812644958496,
          -9.240857124328613,
          -8.54682731628418,
          -9.632671356201172,
          5.423208236694336,
          -0.5582707524299622,
          -0.3360418379306793,
          -0.02653442695736885,
          0.11270250380039215,
          0.022444970905780792,
          1.1487302780151367,
          1.3040105104446411,
          2.179316759109497,
          2.1643483638763428,
          0.990585446357727,
          -1.4998968839645386,
          -2.0507638454437256,
          -1.6538496017456055,
          -1.3470524549484253,
          -0.8811581134796143,
          -14.905457496643066,
          13.910455703735352,
          -0.0036898001562803984,
          -0.2177964746952057,
          -2.7289531230926514,
          -3.0837841033935547,
          8.874199867248535,
          22.056386947631836,
          20.943361282348633,
          20.049528121948242,
          20.560590744018555,
          20.964630126953125,
          21.52552032470703,
          22.11504364013672,
          22.098573684692383,
          21.98933982849121,
          23.008892059326172,
          23.103988647460938,
          23.76158905029297,
          24.06691551208496,
          20.875186920166016,
          21.07675552368164,
          21.62851905822754,
          20.72222137451172,
          20.55299186706543,
          20.29143714904785,
          21.005950927734375,
          21.27639389038086,
          22.253849029541016,
          34.21931838989258,
          24.719247817993164,
          25.383333206176758,
          25.121183395385742,
          23.077375411987305,
          23.232412338256836,
          23.807079315185547,
          40.277862548828125,
          3.5140273571014404,
          -3.8205294609069824,
          -4.0970659255981445,
          -3.6547772884368896,
          -3.587381601333618,
          -3.0051910877227783,
          -2.85376238822937,
          -2.403825283050537,
          -2.962890386581421,
          -2.6492018699645996,
          -2.2398178577423096,
          -2.1855156421661377,
          0.44724041223526,
          -0.49703362584114075,
          -0.15305380523204803,
          -0.7407796382904053,
          -2.1424546241760254,
          -0.9339051842689514,
          -0.9383695125579834,
          -1.411000370979309,
          -0.874637246131897,
          -3.2217960357666016,
          -3.275052309036255,
          -3.5836405754089355,
          6.904428958892822,
          7.135708808898926,
          7.488053798675537,
          7.598875999450684,
          8.344648361206055,
          8.965476036071777,
          8.115792274475098,
          8.09200382232666,
          8.697092056274414,
          7.089367866516113,
          7.582607746124268,
          7.45364236831665,
          11.077465057373047,
          9.960655212402344,
          9.066344261169434,
          8.304219245910645,
          7.467782020568848,
          6.60235595703125,
          10.994465827941895,
          9.20190715789795,
          8.628878593444824,
          8.38876724243164,
          8.050575256347656,
          8.145489692687988,
          8.281778335571289,
          7.415069580078125,
          8.185401916503906,
          5.653627395629883,
          4.179512977600098,
          4.614662170410156,
          4.847301483154297,
          5.3502631187438965,
          5.644806861877441,
          5.786654472351074,
          5.889769554138184,
          6.234205722808838,
          33.49028396606445,
          5.738062381744385,
          0.10083486884832382,
          -1.5954099893569946,
          -1.859763503074646,
          -1.9041837453842163,
          -2.030803918838501,
          -1.5785644054412842,
          -1.4395428895950317,
          -2.5830273628234863,
          -1.8734105825424194,
          -2.394625186920166,
          -1.9439246654510498,
          -1.2123794555664062,
          -0.7008965015411377,
          -0.44778046011924744,
          -0.5130786895751953,
          -0.5610730648040771,
          0.1652054637670517,
          0.29981207847595215,
          0.7037689685821533,
          0.8413119316101074,
          1.4934563636779785,
          1.427567720413208,
          1.2834433317184448,
          0.34801003336906433,
          0.5422981381416321,
          7.793080806732178,
          7.734423637390137,
          7.6527018547058105,
          7.6554341316223145,
          8.768753051757812,
          8.882488250732422,
          9.716270446777344,
          11.205595970153809,
          36.605770111083984,
          37.93321990966797,
          38.31277084350586,
          39.170997619628906,
          39.38430404663086,
          39.52885818481445,
          39.65332794189453,
          39.20646286010742,
          38.62484359741211,
          37.973419189453125,
          38.79616165161133,
          37.76152801513672,
          39.685543060302734,
          38.27837371826172,
          39.046913146972656,
          38.638336181640625,
          3.9035868644714355,
          -17.004058837890625,
          -16.993974685668945,
          -17.70761489868164,
          -17.68975257873535,
          -17.4937801361084,
          -17.318878173828125,
          -16.58137321472168,
          -16.013765335083008,
          -16.026491165161133,
          -16.723482131958008,
          -16.57054328918457,
          -16.67244529724121,
          -16.91301918029785,
          -17.59600257873535,
          8.232763290405273,
          29.900283813476562,
          30.660720825195312,
          31.242294311523438,
          31.341293334960938,
          31.487525939941406,
          30.354883193969727,
          29.49888038635254,
          31.26921844482422,
          32.01087951660156,
          31.165407180786133,
          30.50058364868164,
          30.156787872314453,
          30.06908416748047,
          30.118549346923828,
          30.661861419677734,
          30.60808563232422,
          30.6875057220459,
          29.327320098876953,
          29.077646255493164,
          29.061460494995117,
          26.289186477661133,
          26.28182601928711,
          24.568174362182617,
          24.32075309753418,
          23.9699764251709,
          23.266986846923828,
          29.451412200927734,
          29.471435546875,
          7.476924419403076,
          1.8975330591201782,
          4.2479681968688965,
          5.696752071380615,
          5.5391693115234375,
          4.574869155883789,
          4.560312747955322,
          2.5676567554473877,
          2.130645751953125,
          2.6295652389526367,
          2.931009292602539,
          3.6875836849212646,
          3.123521089553833,
          3.009910821914673,
          3.151890277862549,
          3.5950958728790283,
          3.5502967834472656,
          4.15435791015625,
          4.593775272369385,
          4.298107147216797,
          2.3151187896728516,
          2.9914674758911133,
          2.889150381088257,
          3.107997179031372,
          4.490382194519043,
          4.632718563079834,
          5.487515926361084,
          5.397092819213867,
          -3.295006036758423,
          -3.4689841270446777,
          -3.645132541656494,
          -2.161572217941284,
          -2.149723768234253,
          -0.4647789001464844,
          -0.5583384037017822,
          -0.05847300961613655,
          -0.006967098452150822,
          6.554580211639404,
          6.759256362915039,
          7.103917121887207,
          7.517866611480713,
          9.082291603088379,
          9.538467407226562,
          9.848100662231445,
          11.224596977233887,
          9.831283569335938,
          9.63701057434082,
          10.187679290771484,
          4.722629547119141,
          -40.375640869140625,
          -40.999290466308594,
          -40.965755462646484,
          -40.75340270996094,
          -40.59449005126953,
          -40.49266815185547,
          -40.487850189208984,
          -40.63641357421875,
          -40.30057144165039,
          -39.66416549682617,
          -38.01914978027344,
          -38.412349700927734,
          -38.33259582519531,
          -38.890159606933594,
          -39.2638053894043,
          3.4616219997406006,
          -6.928816318511963,
          50.138492584228516,
          53.31159210205078,
          -9.396939277648926,
          -7.967737197875977,
          -8.025418281555176,
          -7.951903820037842,
          -7.935883522033691,
          -7.776871681213379,
          -8.21635913848877,
          -8.339909553527832,
          -0.20505736768245697,
          -0.6491761803627014,
          -0.9810956120491028,
          -1.9507355690002441,
          -0.6939703226089478,
          0.32530829310417175,
          0.33152446150779724,
          8.920653343200684,
          24.24961280822754,
          25.392932891845703,
          38.2210693359375,
          26.76703643798828,
          25.010547637939453,
          24.89240264892578,
          25.108163833618164,
          28.05598258972168,
          28.16045570373535,
          28.53664207458496,
          26.689966201782227,
          25.343421936035156,
          36.06031036376953,
          28.155672073364258,
          27.55990982055664,
          26.845258712768555,
          23.89409828186035,
          24.16058921813965,
          24.160123825073242,
          24.956035614013672,
          24.828828811645508,
          25.657739639282227,
          25.82465934753418,
          8.643834114074707,
          27.331146240234375,
          32.59239196777344,
          32.47859573364258,
          31.543180465698242,
          31.50666618347168,
          29.6361083984375,
          26.80493927001953,
          26.72039794921875,
          27.19331932067871,
          27.427671432495117,
          29.188453674316406,
          35.39253234863281,
          35.56943130493164,
          28.954315185546875,
          28.528404235839844,
          28.2094783782959,
          37.80338668823242,
          37.88542556762695,
          37.90254211425781,
          8.321002960205078,
          23.34958839416504,
          24.279998779296875,
          23.97776985168457,
          24.085350036621094,
          44.441612243652344,
          44.65666198730469,
          46.168521881103516,
          46.19266891479492,
          46.16043472290039,
          46.191280364990234,
          46.97427749633789,
          46.05462646484375,
          22.37643051147461,
          22.180788040161133,
          21.706661224365234,
          21.78706932067871,
          20.710966110229492,
          20.740331649780273,
          19.968921661376953,
          20.0522518157959,
          22.122129440307617,
          23.110549926757812,
          43.8806266784668,
          44.61090087890625,
          44.95284652709961,
          45.712257385253906,
          21.6451358795166,
          21.48993492126465,
          20.953182220458984,
          20.849519729614258,
          21.2481632232666,
          20.745054244995117,
          20.452457427978516,
          19.74639129638672,
          20.09278678894043,
          21.085561752319336,
          22.356252670288086,
          22.548757553100586,
          23.311479568481445,
          23.670276641845703,
          45.17531967163086,
          47.116756439208984,
          46.28349304199219,
          24.02815818786621,
          34.9373893737793,
          7.757689952850342,
          17.5710506439209,
          18.27945899963379,
          18.33955192565918,
          18.409353256225586,
          20.312034606933594,
          21.329858779907227,
          20.078157424926758,
          19.591434478759766,
          20.600215911865234,
          19.54956817626953,
          17.330739974975586,
          17.206579208374023,
          17.299795150756836,
          17.74472427368164,
          15.710981369018555,
          18.262035369873047,
          18.501924514770508,
          18.727174758911133,
          18.853593826293945,
          20.4180850982666,
          21.447280883789062,
          18.825756072998047,
          19.833621978759766,
          19.380706787109375,
          18.93845558166504,
          18.660049438476562,
          18.1580753326416,
          16.162904739379883,
          16.173418045043945,
          16.9537410736084,
          16.640085220336914,
          16.6660213470459,
          16.717632293701172,
          16.98499298095703,
          17.250171661376953,
          20.403867721557617,
          21.44247055053711,
          -0.20505736768245697,
          -0.6491761803627014,
          -0.9811840653419495,
          -1.9507355690002441,
          -0.6939703226089478,
          0.32530829310417175,
          0.33152446150779724,
          2.865351438522339,
          0.15928569436073303,
          0.5889504551887512,
          0.6007550954818726,
          1.1873189210891724,
          0.28261324763298035,
          -0.2870182991027832,
          -0.6372163891792297,
          -0.13883137702941895,
          -0.18369534611701965,
          -1.0180119276046753,
          -1.5733534097671509,
          -0.8790910840034485,
          -0.19333690404891968,
          3.3227951526641846,
          -36.11122131347656,
          -36.04810333251953,
          -35.86503982543945,
          -35.8474235534668,
          -35.80786895751953,
          -35.71661376953125,
          -35.42331314086914,
          -34.90098571777344,
          -34.64544677734375,
          -34.13788986206055,
          -33.71699523925781,
          -33.53754806518555,
          1.7847063541412354,
          -34.315887451171875,
          -34.68565368652344,
          -35.19166564941406,
          -34.39558029174805,
          -34.03440856933594,
          -34.793907165527344,
          -34.38636779785156,
          -34.21356201171875,
          -34.1485710144043,
          -34.10629653930664,
          -36.08477020263672,
          -35.2161750793457,
          -34.78865432739258,
          -35.796546936035156,
          -35.63872146606445,
          -36.618465423583984,
          -35.10023498535156,
          -36.43380355834961,
          -36.353790283203125,
          -35.10548400878906,
          -36.894248962402344,
          -35.09720993041992,
          -37.48944854736328,
          -37.08231735229492,
          -35.09647750854492,
          -37.54794692993164,
          -34.34152603149414,
          -34.24358367919922,
          2.268418788909912,
          -11.455469131469727,
          -11.45700454711914,
          -11.923397064208984,
          -12.243996620178223,
          -12.299566268920898,
          -12.304520606994629,
          -11.969804763793945,
          -11.01339054107666,
          -10.752546310424805,
          -10.630696296691895,
          -10.528268814086914,
          -10.542098045349121,
          -10.443684577941895,
          -10.048548698425293,
          -9.718897819519043,
          -9.505096435546875,
          -10.159320831298828,
          -10.846864700317383,
          7.770369052886963,
          42.69475173950195,
          42.719398498535156,
          43.35335159301758,
          44.4002685546875,
          12.984224319458008,
          13.068758010864258,
          44.72774124145508,
          44.9327392578125,
          44.15913391113281,
          44.087650299072266,
          11.57602310180664,
          11.142165184020996,
          10.91335678100586,
          11.030816078186035,
          10.504581451416016,
          10.3270263671875,
          9.978984832763672,
          9.716419219970703,
          8.713443756103516,
          9.05919075012207,
          9.174646377563477,
          6.907607555389404,
          5.642247676849365,
          6.0457048416137695,
          6.78901481628418,
          2.9853436946868896,
          -44.14994812011719,
          -44.28819274902344,
          -45.175987243652344,
          -44.979034423828125,
          -44.74644470214844,
          -44.35651397705078,
          -43.84648895263672,
          -43.888763427734375,
          -42.894771575927734,
          -42.6746711730957,
          -42.16843795776367,
          -41.943233489990234,
          -41.56085205078125,
          -41.730228424072266,
          -38.553863525390625,
          -39.040584564208984,
          -39.99398422241211,
          -40.3807373046875,
          -42.60161209106445,
          -42.53211975097656,
          -41.99391174316406,
          -42.4578857421875,
          -42.897003173828125,
          9.764673233032227,
          29.610393524169922,
          30.845674514770508,
          31.3052921295166,
          30.572288513183594,
          30.277799606323242,
          29.1439151763916,
          28.91681480407715,
          29.02364730834961,
          28.828086853027344,
          39.56583023071289,
          39.54987335205078,
          40.45998764038086,
          9.297833442687988,
          29.704959869384766,
          29.869422912597656,
          29.97264862060547,
          30.339414596557617,
          30.302021026611328,
          33.197471618652344,
          32.37420654296875,
          32.5241584777832,
          5.655357360839844,
          37.59559631347656,
          37.56627655029297,
          37.793331146240234,
          37.892555236816406,
          17.087570190429688,
          38.07157897949219,
          39.7197265625,
          39.19681167602539,
          39.26818084716797,
          39.76856231689453,
          38.86929702758789,
          37.96147155761719,
          0.26347970962524414,
          -21.521089553833008,
          -21.75536346435547,
          -22.505084991455078,
          -22.782136917114258,
          -22.663375854492188,
          -20.331974029541016,
          -20.13249969482422,
          -19.76285171508789,
          -19.661094665527344,
          -20.016216278076172,
          -19.20514678955078,
          -19.148880004882812,
          -19.00037956237793,
          -20.14676856994629,
          -19.92205047607422,
          -20.20319366455078,
          -20.370088577270508,
          -19.14789390563965,
          -18.899354934692383,
          -19.852128982543945,
          -19.976139068603516,
          -21.302574157714844,
          -21.91740608215332,
          4.796167373657227,
          -19.14794921875,
          -16.517963409423828,
          -16.9134521484375,
          -17.080337524414062,
          -18.62466049194336,
          -18.239633560180664,
          -16.3751163482666,
          -16.328371047973633,
          -13.7107515335083,
          -15.744999885559082,
          -17.371334075927734,
          -18.92694091796875,
          -18.768369674682617,
          -18.48684310913086,
          -17.78425407409668,
          -17.04332733154297,
          -17.84860610961914,
          -17.5268497467041,
          -17.354055404663086,
          -16.683143615722656,
          -16.539045333862305,
          -15.371927261352539,
          -15.252569198608398,
          -14.62765884399414,
          -14.462096214294434,
          -15.114046096801758,
          -14.359193801879883,
          -13.04411506652832,
          -13.809739112854004,
          -17.046480178833008,
          -17.02290153503418,
          -13.892026901245117,
          -15.522913932800293,
          -17.063291549682617,
          -19.2059268951416,
          -18.56897735595703,
          -17.86730194091797,
          -1.0177760124206543,
          -14.663359642028809,
          -15.25546932220459,
          -16.017112731933594,
          -15.624677658081055,
          -16.43724822998047,
          -16.33208656311035,
          -15.98133659362793,
          3.991950273513794,
          -31.819116592407227,
          -31.33230209350586,
          -30.759971618652344,
          -30.832548141479492,
          -31.767988204956055,
          -32.364620208740234,
          -32.37691116333008,
          -32.24087142944336,
          -32.39302062988281,
          -30.883724212646484,
          -29.762027740478516,
          -29.356908798217773,
          -28.488630294799805,
          -28.97442054748535,
          -29.401338577270508,
          -29.128206253051758,
          -29.277904510498047,
          -29.786073684692383,
          -29.92195701599121,
          -29.87845230102539,
          5.252805233001709,
          -37.015869140625,
          -37.005741119384766,
          -38.537593841552734,
          -39.05434036254883,
          -38.99118423461914,
          -38.95820999145508,
          -38.854000091552734,
          4.647839069366455,
          1.000670313835144,
          1.0114208459854126,
          1.2834055423736572,
          1.8655602931976318,
          2.767876625061035,
          -15.115412712097168,
          -15.620537757873535,
          -15.966691970825195,
          -14.28478717803955,
          -13.230170249938965,
          -12.605387687683105,
          -13.46151065826416,
          -14.657440185546875,
          -15.221488952636719,
          -14.826461791992188,
          -14.635735511779785,
          -14.771126747131348,
          4.359409332275391,
          -52.39771270751953,
          -52.60841751098633,
          -52.6287841796875,
          -52.31482696533203,
          -51.69369888305664,
          -51.289188385009766,
          -51.19119644165039,
          -52.14545440673828,
          -53.24544143676758,
          -52.97809600830078,
          -53.89957809448242,
          -54.13002014160156,
          -54.08427429199219,
          -54.21011734008789,
          -53.67372512817383,
          -53.59696578979492,
          -52.97908020019531,
          -53.447059631347656,
          -53.8476448059082,
          8.207633972167969,
          13.706372261047363,
          13.888435363769531,
          13.584159851074219,
          12.127694129943848,
          13.167317390441895,
          13.075927734375,
          13.252828598022461,
          12.87485122680664,
          11.998269081115723,
          12.989692687988281,
          13.975545883178711,
          14.27214241027832,
          15.536247253417969,
          17.897737503051758,
          40.26101303100586,
          44.15655517578125,
          45.967552185058594,
          34.96466064453125,
          17.049823760986328,
          14.678794860839844,
          14.579971313476562,
          15.252542495727539,
          15.29710578918457,
          15.758323669433594,
          40.2144889831543,
          44.05339050292969,
          45.90459442138672,
          34.984107971191406,
          17.738285064697266,
          16.903486251831055,
          16.68060302734375,
          17.39325714111328,
          17.38111114501953,
          41.63414764404297,
          41.62895965576172,
          41.78382873535156,
          0.2702523469924927,
          -46.443843841552734,
          -46.22380447387695,
          -45.53230667114258,
          -45.52726364135742,
          -45.15834426879883,
          -45.3145637512207,
          -45.24917221069336,
          -44.945838928222656,
          4.087303638458252,
          -7.706373691558838,
          -7.958035945892334,
          -8.343422889709473,
          -8.856585502624512,
          -8.275481224060059,
          -9.521766662597656,
          -8.432458877563477,
          -8.473000526428223,
          -8.468184471130371,
          -8.954665184020996,
          -9.862276077270508,
          -9.936049461364746,
          -11.537123680114746,
          -10.938231468200684,
          -9.86221694946289,
          -9.184764862060547,
          -9.752391815185547,
          -9.860198020935059,
          -9.629620552062988,
          -9.402748107910156,
          2.6170806884765625,
          -45.67682647705078,
          -45.66497802734375,
          -45.803009033203125,
          -46.40220642089844,
          -46.84071350097656,
          -46.58516311645508,
          -46.79581832885742,
          -47.44373321533203,
          -47.21294403076172,
          -47.57927322387695,
          -46.18259811401367,
          -46.128787994384766,
          -47.85932159423828,
          -47.08449935913086,
          -46.597999572753906,
          -46.21512222290039,
          -46.36293411254883,
          -46.08141326904297,
          4.6685919761657715,
          -39.6162109375,
          -39.40390396118164,
          -38.921287536621094,
          -38.8448371887207,
          -38.67067337036133,
          -38.16469192504883,
          -37.99851989746094,
          -37.64996337890625,
          -37.4521369934082,
          -37.191017150878906,
          -37.62391662597656,
          -38.21717834472656,
          5.896567344665527,
          13.136589050292969,
          14.397124290466309,
          14.763628959655762,
          15.235274314880371,
          49.36801528930664,
          52.341514587402344,
          53.19295883178711,
          52.528289794921875,
          53.92693328857422,
          53.359092712402344,
          53.76059341430664,
          54.49397277832031,
          55.00960159301758,
          55.74177169799805,
          55.76325225830078,
          54.875152587890625,
          54.63003158569336,
          55.563167572021484,
          15.545899391174316,
          43.74555969238281,
          43.656944274902344,
          8.535164833068848,
          17.928722381591797,
          18.016983032226562,
          18.072586059570312,
          18.168228149414062,
          18.203176498413086,
          42.207454681396484,
          30.76125144958496,
          42.0035514831543,
          42.371681213378906,
          5.402324676513672,
          -28.103086471557617,
          -28.22170066833496,
          -27.103116989135742,
          -26.225889205932617,
          -26.835329055786133,
          -26.885526657104492,
          -27.116453170776367,
          -26.77901840209961,
          -26.474224090576172,
          -26.459325790405273,
          -27.040035247802734,
          -27.23105812072754,
          -27.299671173095703,
          -28.767684936523438,
          -27.617494583129883,
          -27.250791549682617,
          -27.164447784423828,
          4.741668224334717,
          -22.677143096923828,
          -21.613718032836914,
          -22.561918258666992,
          -22.086137771606445,
          -21.058443069458008,
          -22.906002044677734,
          -22.69297981262207,
          -21.968944549560547,
          -21.618505477905273,
          -21.260639190673828,
          -20.537796020507812,
          -22.73776626586914,
          -22.841503143310547,
          -24.05208969116211,
          -24.113426208496094,
          -23.816686630249023,
          -24.3159236907959,
          -23.647363662719727,
          -23.658981323242188,
          -22.208715438842773,
          -21.981128692626953,
          -22.183561325073242,
          -21.455318450927734,
          7.125039100646973,
          18.041738510131836,
          17.65566635131836,
          17.786441802978516,
          17.119592666625977,
          17.902803421020508,
          17.184886932373047,
          16.659523010253906,
          18.218259811401367,
          17.98817253112793,
          17.65637969970703,
          18.405582427978516,
          18.631427764892578,
          30.344078063964844,
          30.192203521728516,
          12.244317054748535,
          50.97852325439453,
          49.59644317626953,
          49.49824142456055,
          50.721012115478516,
          50.878841400146484,
          50.667015075683594,
          49.82125473022461,
          49.37833786010742,
          49.121246337890625,
          49.625244140625,
          50.12385940551758,
          50.573486328125,
          50.75233840942383,
          50.57939147949219,
          52.09820556640625,
          53.19164276123047,
          52.77268981933594,
          54.15214157104492,
          54.3328857421875,
          54.63638687133789,
          55.026344299316406,
          52.12051773071289,
          50.988304138183594,
          50.60042953491211,
          50.58830642700195,
          5.55113410949707,
          13.678072929382324,
          14.171188354492188,
          43.41934585571289,
          44.12406921386719,
          11.840639114379883,
          52.18314743041992,
          53.41732406616211,
          53.072940826416016,
          53.34856414794922,
          53.653785705566406,
          53.75754928588867,
          54.28902816772461,
          53.947139739990234,
          53.683624267578125,
          52.50582504272461,
          53.66183853149414,
          52.45307922363281,
          53.86079406738281,
          53.532649993896484,
          7.671239852905273,
          46.670074462890625,
          46.654605865478516,
          47.07908248901367,
          46.65491485595703,
          45.141212463378906,
          47.48421859741211,
          45.711368560791016,
          17.322908401489258,
          17.328359603881836,
          41.322601318359375,
          45.62858963012695,
          45.535926818847656,
          16.495899200439453,
          16.025720596313477,
          15.966268539428711,
          15.840807914733887,
          15.286033630371094,
          14.623470306396484,
          14.828386306762695,
          14.889622688293457,
          15.2830810546875,
          15.786900520324707,
          14.607006072998047,
          14.516532897949219,
          2.0680036544799805,
          2.7191925048828125,
          10.263779640197754,
          26.115432739257812,
          26.223154067993164,
          26.759056091308594,
          36.117210388183594,
          36.2268180847168,
          26.557697296142578,
          26.30617904663086,
          26.523723602294922,
          27.239906311035156,
          26.941511154174805,
          27.338214874267578,
          27.630207061767578,
          43.94038391113281,
          43.90336990356445,
          3.0397822856903076,
          -32.45731735229492,
          -33.06600570678711,
          -33.627052307128906,
          -32.44871139526367,
          -32.16609573364258,
          -32.148406982421875,
          -31.718198776245117,
          -31.8983097076416,
          -31.602859497070312,
          -31.436429977416992,
          -30.570619583129883,
          -29.75599479675293,
          -30.426753997802734,
          -29.760488510131836,
          -29.568620681762695,
          -28.719175338745117,
          -27.919841766357422,
          -27.916173934936523,
          -27.62091827392578,
          -27.412967681884766,
          -25.70345687866211,
          -24.09696388244629,
          -23.382266998291016,
          -26.790082931518555,
          -25.699214935302734,
          -24.078933715820312,
          -23.275835037231445,
          -27.089920043945312,
          -30.266647338867188,
          -30.576889038085938,
          -30.02079200744629,
          -29.108970642089844,
          -28.944765090942383,
          -28.59714698791504,
          -29.288991928100586,
          -0.20505736768245697,
          -0.6491761803627014,
          -0.9810956120491028,
          -1.9507355690002441,
          -0.6939703226089478,
          0.32530829310417175,
          0.33152446150779724,
          6.18522834777832,
          -0.6334470510482788,
          -1.2517600059509277,
          -1.7975513935089111,
          -2.0814931392669678,
          -1.9312025308609009,
          -2.2303433418273926,
          -3.6996822357177734,
          -2.817174196243286,
          -3.9210638999938965,
          -2.7430033683776855,
          -2.826164722442627,
          -2.882456064224243,
          -2.869413375854492,
          -3.238370180130005,
          -3.4435150623321533,
          -4.534642696380615,
          -3.8060266971588135,
          -3.861111879348755,
          8.960350036621094,
          21.35373878479004,
          21.401153564453125,
          21.870033264160156,
          22.449234008789062,
          21.80908203125,
          21.521413803100586,
          21.286636352539062,
          20.741676330566406,
          20.51144027709961,
          1.6005983352661133,
          -39.598628997802734,
          -39.248939514160156,
          -39.304168701171875,
          -38.88801956176758,
          -38.95873260498047,
          -39.60720443725586,
          -38.88075256347656,
          -39.7939338684082,
          -40.201107025146484,
          -40.212440490722656,
          5.113757133483887,
          6.768118381500244,
          6.829349517822266,
          7.267724990844727,
          7.541388988494873,
          8.03900146484375,
          8.778480529785156,
          8.818498611450195,
          9.255537986755371,
          41.52822494506836,
          42.229515075683594,
          45.66387176513672,
          35.90565872192383,
          8.958763122558594,
          2.4786598682403564,
          -22.78360366821289,
          -22.2747802734375,
          -22.136898040771484,
          -20.252103805541992,
          -20.24538230895996,
          -21.138338088989258,
          -23.279043197631836,
          -23.38904571533203,
          -23.587848663330078,
          -23.36050796508789,
          -23.266664505004883,
          -23.356046676635742,
          -23.91019058227539,
          -24.060062408447266,
          -24.30849838256836,
          -24.296754837036133,
          0.13172613084316254,
          -15.46619987487793,
          -15.459861755371094,
          -16.09727668762207,
          -15.769304275512695,
          -15.520611763000488,
          40.62518310546875,
          43.63834762573242,
          46.35478591918945,
          34.81856155395508,
          -14.715581893920898,
          -15.982274055480957,
          -16.322473526000977,
          -14.43160343170166,
          -12.918688774108887,
          -13.780714988708496,
          -15.21117115020752,
          -14.656315803527832,
          -15.186182975769043,
          2.534499406814575,
          -32.09379959106445,
          -31.901643753051758,
          -32.339576721191406,
          -32.713253021240234,
          -33.15995788574219,
          -33.59162139892578,
          -32.446533203125,
          -31.823226928710938,
          -31.905906677246094,
          -31.20052146911621,
          -30.931339263916016,
          -30.909013748168945,
          -30.637897491455078,
          -30.298900604248047,
          -30.51972007751465,
          -31.49261474609375,
          -31.493757247924805,
          -0.20505736768245697,
          -0.6491761803627014,
          -0.9811840653419495,
          -1.9507355690002441,
          -0.6939703226089478,
          0.32530829310417175,
          0.33152446150779724,
          3.4177439212799072,
          -22.105730056762695,
          -21.924964904785156,
          -22.366540908813477,
          -21.871919631958008,
          -21.22273826599121,
          -20.806581497192383,
          -20.287391662597656,
          -19.852476119995117,
          -17.802223205566406,
          -18.654829025268555,
          -16.111928939819336,
          -16.631919860839844,
          -16.814096450805664,
          -17.776203155517578,
          -20.993560791015625,
          -20.817773818969727,
          -20.65704917907715,
          -20.155750274658203,
          -20.304000854492188,
          -20.23740577697754,
          39.325401306152344,
          -19.692258834838867,
          3.8893275260925293,
          -43.971736907958984,
          -43.96027755737305,
          -43.69397735595703,
          -44.05836868286133,
          -44.88259506225586,
          -45.59737014770508,
          -46.909420013427734,
          -47.779396057128906,
          -47.89562225341797,
          -44.99868392944336,
          -45.52489471435547,
          -45.67911911010742,
          -47.87240982055664,
          -47.1251106262207,
          -46.890384674072266,
          -46.6668815612793,
          4.191042423248291,
          21.119291305541992,
          21.18759536743164,
          21.12394142150879,
          36.02336502075195,
          -22.112316131591797,
          -22.472719192504883,
          -22.224029541015625,
          -22.641582489013672,
          -22.73267364501953,
          -22.72164535522461,
          -23.056507110595703,
          -23.012907028198242,
          -22.90064811706543,
          3.363865613937378,
          -34.237709045410156,
          -33.63178634643555,
          -32.94644546508789,
          -32.689144134521484,
          -36.46207809448242,
          -36.454105377197266,
          -35.12183380126953,
          -37.59548568725586,
          -37.554054260253906,
          -37.87105941772461,
          -38.39419937133789,
          -38.13116455078125,
          -38.12874984741211
         ],
         "xaxis": "x",
         "y": [
          53.2854118347168,
          -2.438317060470581,
          -2.9208977222442627,
          -2.7152318954467773,
          -4.939666271209717,
          -4.908385753631592,
          -4.49366569519043,
          -5.109955310821533,
          -4.382820129394531,
          -2.916560411453247,
          -2.3398728370666504,
          -2.102735757827759,
          -1.9847129583358765,
          -1.6825157403945923,
          -1.818377137184143,
          -1.7236742973327637,
          -0.9362986087799072,
          -0.42194864153862,
          -0.037200357764959335,
          0.3593892455101013,
          49.429412841796875,
          23.604211807250977,
          23.43465232849121,
          23.936298370361328,
          23.85361099243164,
          22.787437438964844,
          22.353391647338867,
          22.18427085876465,
          21.839326858520508,
          21.98717498779297,
          22.618165969848633,
          22.47910499572754,
          21.68022918701172,
          21.435340881347656,
          20.210535049438477,
          21.428651809692383,
          20.367643356323242,
          20.67367935180664,
          20.207130432128906,
          21.329919815063477,
          20.319467544555664,
          20.563663482666016,
          20.0786190032959,
          52.71100997924805,
          -31.470399856567383,
          -31.486452102661133,
          -31.50775909423828,
          -30.88555335998535,
          -32.056976318359375,
          -32.65144348144531,
          -31.83924102783203,
          -31.45462989807129,
          -32.35654067993164,
          -33.2702522277832,
          -35.21384048461914,
          -34.006473541259766,
          -34.33467102050781,
          -34.05720138549805,
          -34.84877014160156,
          -34.68626403808594,
          -34.83526611328125,
          -35.414939880371094,
          -35.82756042480469,
          -35.86220169067383,
          -36.273983001708984,
          56.64339065551758,
          -29.052305221557617,
          -29.42253303527832,
          -29.043041229248047,
          -28.687379837036133,
          -28.869495391845703,
          -28.685100555419922,
          -27.999401092529297,
          -27.99658966064453,
          45.516109466552734,
          1.9760186672210693,
          -1.6988158226013184,
          -1.1524889469146729,
          -1.3193169832229614,
          -0.7554222941398621,
          1.7983084917068481,
          14.83935832977295,
          14.826828002929688,
          14.852567672729492,
          14.814470291137695,
          57.98638916015625,
          31.721839904785156,
          49.03569030761719,
          21.913179397583008,
          21.885452270507812,
          21.670106887817383,
          19.523906707763672,
          25.564258575439453,
          25.323087692260742,
          25.073904037475586,
          24.648807525634766,
          24.296815872192383,
          23.365636825561523,
          26.434690475463867,
          25.26488494873047,
          24.610820770263672,
          25.747385025024414,
          25.896011352539062,
          24.831506729125977,
          24.53535270690918,
          23.78227424621582,
          26.637842178344727,
          25.821237564086914,
          25.680282592773438,
          26.230131149291992,
          20.440303802490234,
          20.125761032104492,
          22.305545806884766,
          21.82027816772461,
          21.267261505126953,
          20.735462188720703,
          1.3261778354644775,
          1.6345933675765991,
          1.4162603616714478,
          1.8688850402832031,
          2.1125004291534424,
          19.527236938476562,
          21.381502151489258,
          20.788236618041992,
          21.1866512298584,
          21.71508026123047,
          22.692541122436523,
          22.187179565429688,
          21.6507511138916,
          20.699934005737305,
          21.059598922729492,
          50.29436492919922,
          -8.410202980041504,
          -7.783849239349365,
          -10.36251449584961,
          -9.766276359558105,
          -9.48017406463623,
          0.2706429064273834,
          -11.849571228027344,
          -8.560070037841797,
          -9.105693817138672,
          -11.693902969360352,
          -13.130000114440918,
          -13.481974601745605,
          -13.947746276855469,
          -14.131330490112305,
          -14.88896656036377,
          -14.843232154846191,
          -14.73026180267334,
          -17.082361221313477,
          -18.432554244995117,
          -18.5401611328125,
          -18.022274017333984,
          -16.019405364990234,
          -15.65738296508789,
          -13.384231567382812,
          -13.345479011535645,
          -13.510245323181152,
          -15.269245147705078,
          -16.27022933959961,
          -15.800817489624023,
          -15.208992004394531,
          51.30186462402344,
          -12.561882019042969,
          -12.537841796875,
          -12.022546768188477,
          -12.289875030517578,
          -12.858099937438965,
          -12.911201477050781,
          -13.226896286010742,
          -15.383199691772461,
          -15.814248085021973,
          -14.710386276245117,
          -15.309273719787598,
          -16.145187377929688,
          -14.721063613891602,
          -15.254093170166016,
          -16.35772705078125,
          -16.9111270904541,
          -14.6742582321167,
          -14.890223503112793,
          -16.24976348876953,
          49.056739807128906,
          -4.8632917404174805,
          -5.29860258102417,
          -6.175549030303955,
          -6.387715816497803,
          -6.380620956420898,
          -6.341017246246338,
          -6.152074813842773,
          -5.774294376373291,
          -6.630149841308594,
          -7.438350677490234,
          -7.125107288360596,
          -6.5823493003845215,
          -5.987199306488037,
          -5.602279186248779,
          -5.078333854675293,
          -4.901068210601807,
          -4.911706447601318,
          53.543251037597656,
          -36.62319564819336,
          -37.4478759765625,
          -37.52366256713867,
          -40.448455810546875,
          -41.25157928466797,
          -41.78639602661133,
          -40.45899963378906,
          -40.16522979736328,
          -41.16675567626953,
          -39.72560501098633,
          -36.515079498291016,
          -36.41512680053711,
          -35.87266159057617,
          -36.166221618652344,
          -36.247520446777344,
          -37.27012634277344,
          -37.31748962402344,
          -38.0629768371582,
          -38.3379020690918,
          -40.31028366088867,
          -40.97047805786133,
          -41.565452575683594,
          -40.34298324584961,
          -40.07374954223633,
          50.69947052001953,
          6.3749613761901855,
          6.405645847320557,
          6.416138648986816,
          6.017843246459961,
          5.246470928192139,
          5.212648868560791,
          5.491777420043945,
          6.053308963775635,
          6.01163387298584,
          50.088993072509766,
          -9.561954498291016,
          -8.551273345947266,
          -8.296801567077637,
          -9.54498291015625,
          -9.744449615478516,
          -10.163411140441895,
          -10.205596923828125,
          -10.553790092468262,
          -10.554287910461426,
          -10.633620262145996,
          -10.175501823425293,
          -10.064229011535645,
          -11.216992378234863,
          -10.965497016906738,
          -11.248891830444336,
          -13.541414260864258,
          -12.62551498413086,
          -10.011070251464844,
          -10.159382820129395,
          -11.473690032958984,
          49.71124267578125,
          24.466794967651367,
          23.9489688873291,
          24.432889938354492,
          23.69952964782715,
          24.36646270751953,
          25.92499542236328,
          26.66628646850586,
          27.377487182617188,
          27.449934005737305,
          28.429035186767578,
          26.523067474365234,
          26.621553421020508,
          26.6951904296875,
          26.949525833129883,
          27.297767639160156,
          27.473669052124023,
          27.78228187561035,
          26.83083152770996,
          28.169496536254883,
          26.85787582397461,
          27.26463508605957,
          28.237764358520508,
          26.067649841308594,
          47.069366455078125,
          2.9373843669891357,
          2.9681410789489746,
          2.7592973709106445,
          0.6948692798614502,
          0.6146830320358276,
          2.0928432941436768,
          1.9216928482055664,
          1.9784173965454102,
          16.221683502197266,
          16.347198486328125,
          16.103424072265625,
          16.19704818725586,
          16.73372459411621,
          51.3678092956543,
          -4.253321647644043,
          -4.612504959106445,
          -5.317018032073975,
          -4.766512870788574,
          -4.577561378479004,
          -4.39457368850708,
          -9.002546310424805,
          -9.249975204467773,
          -9.77251148223877,
          -9.75432300567627,
          -11.833683013916016,
          -3.822849988937378,
          -3.600701093673706,
          -3.6435513496398926,
          48.631141662597656,
          6.358088493347168,
          6.156085014343262,
          6.024780750274658,
          5.543173313140869,
          5.099756240844727,
          5.5937819480896,
          5.509912014007568,
          3.1981148719787598,
          3.404512643814087,
          3.288064479827881,
          3.3445770740509033,
          3.8023595809936523,
          6.974311351776123,
          7.02414083480835,
          6.989924907684326,
          6.809621334075928,
          6.730782508850098,
          51.01029968261719,
          8.624370574951172,
          8.777737617492676,
          8.89427375793457,
          9.2760591506958,
          9.4894380569458,
          9.949438095092773,
          9.842364311218262,
          10.245779991149902,
          10.180749893188477,
          10.890284538269043,
          9.991969108581543,
          9.887770652770996,
          9.444413185119629,
          50.63743209838867,
          -27.091012954711914,
          -27.373878479003906,
          -26.93132972717285,
          -26.246540069580078,
          -26.190126419067383,
          -26.825504302978516,
          -26.638059616088867,
          -26.70185089111328,
          -26.575931549072266,
          -25.910560607910156,
          -25.714014053344727,
          -25.398771286010742,
          -25.52427864074707,
          -25.67133331298828,
          -25.392471313476562,
          -22.246461868286133,
          -20.012720108032227,
          -24.773286819458008,
          -25.114208221435547,
          -25.214630126953125,
          -25.106605529785156,
          47.92335891723633,
          6.544699668884277,
          2.9339518547058105,
          3.0550451278686523,
          2.4637701511383057,
          2.681462049484253,
          2.4703829288482666,
          1.7999979257583618,
          1.780120849609375,
          0.8260899782180786,
          2.147043228149414,
          2.7171576023101807,
          4.9550371170043945,
          5.489160060882568,
          4.053265571594238,
          4.152284145355225,
          5.920158863067627,
          5.666592121124268,
          5.936509132385254,
          5.966336727142334,
          5.7179341316223145,
          5.406801700592041,
          4.719117641448975,
          -6.120528697967529,
          3.544872283935547,
          3.028749465942383,
          3.818347215652466,
          4.155169486999512,
          4.104408264160156,
          4.136051654815674,
          -3.575741767883301,
          52.117244720458984,
          -41.263065338134766,
          -40.7674446105957,
          -40.494991302490234,
          -40.936744689941406,
          -41.10251235961914,
          -41.075931549072266,
          -40.30173873901367,
          -39.936893463134766,
          -40.06416320800781,
          -41.0648307800293,
          -41.075904846191406,
          -37.63705825805664,
          -37.90265655517578,
          -37.563453674316406,
          -38.206302642822266,
          -41.47557830810547,
          -41.15240478515625,
          -40.37275314331055,
          -42.286705017089844,
          -40.27284622192383,
          -42.36558151245117,
          -42.532875061035156,
          -42.70573043823242,
          48.19687271118164,
          20.491836547851562,
          20.880619049072266,
          20.347131729125977,
          20.569164276123047,
          20.99205780029297,
          21.202322006225586,
          20.83782196044922,
          21.290904998779297,
          21.336471557617188,
          21.47049903869629,
          21.755468368530273,
          24.17958641052246,
          25.784799575805664,
          24.718948364257812,
          23.230010986328125,
          23.07379722595215,
          22.513111114501953,
          24.2149715423584,
          26.091508865356445,
          26.537460327148438,
          26.01612663269043,
          25.426815032958984,
          25.215044021606445,
          23.197370529174805,
          23.076242446899414,
          22.098119735717773,
          48.76642990112305,
          6.55793571472168,
          6.4877705574035645,
          6.335965633392334,
          6.380784034729004,
          6.468683242797852,
          6.689245223999023,
          6.64521598815918,
          6.680489540100098,
          -5.94426965713501,
          49.402671813964844,
          3.5802412033081055,
          5.043961524963379,
          4.73117208480835,
          4.617652893066406,
          4.119710445404053,
          3.391981601715088,
          2.2808728218078613,
          1.4209080934524536,
          1.2358348369598389,
          0.9663653373718262,
          0.7022539973258972,
          0.6799606084823608,
          0.8160231113433838,
          0.6089319586753845,
          0.5657740831375122,
          0.560921311378479,
          1.2403062582015991,
          1.7269799709320068,
          0.9364185333251953,
          1.0227853059768677,
          0.5975194573402405,
          2.025507688522339,
          1.4768234491348267,
          0.19870047271251678,
          -0.25978797674179077,
          -19.800357818603516,
          -20.040658950805664,
          -20.735170364379883,
          -22.49081039428711,
          -23.419221878051758,
          -22.061416625976562,
          -23.558876037597656,
          -23.624755859375,
          10.489408493041992,
          10.097879409790039,
          10.067658424377441,
          8.382375717163086,
          7.908796310424805,
          7.606531620025635,
          7.400694370269775,
          8.386752128601074,
          9.776182174682617,
          10.842543601989746,
          10.866726875305176,
          11.439360618591309,
          11.108848571777344,
          11.536699295043945,
          11.77759838104248,
          10.118711471557617,
          48.16537094116211,
          16.764190673828125,
          16.315567016601562,
          16.57329559326172,
          15.34959602355957,
          15.156929016113281,
          15.014182090759277,
          15.278806686401367,
          15.494668960571289,
          14.523473739624023,
          14.650981903076172,
          15.385764122009277,
          15.679632186889648,
          14.387358665466309,
          14.524652481079102,
          50.885520935058594,
          -28.404041290283203,
          -27.944660186767578,
          -27.350683212280273,
          -27.025875091552734,
          -27.45965576171875,
          -27.8606014251709,
          -27.22657585144043,
          -24.943403244018555,
          -24.878530502319336,
          -25.347732543945312,
          -25.639162063598633,
          -25.467483520507812,
          -25.333303451538086,
          -24.73750114440918,
          -24.218582153320312,
          -23.901531219482422,
          -24.149503707885742,
          -25.1767520904541,
          -23.795747756958008,
          -23.050308227539062,
          -26.43263053894043,
          -26.43900489807129,
          -26.877460479736328,
          -26.894420623779297,
          -26.9547176361084,
          -27.03597640991211,
          -27.804807662963867,
          -27.66656494140625,
          50.5817756652832,
          -13.019187927246094,
          -11.730027198791504,
          -11.715126991271973,
          -11.777525901794434,
          -11.340510368347168,
          -10.9677095413208,
          -10.372627258300781,
          -12.222442626953125,
          -12.243768692016602,
          -12.992085456848145,
          -9.29798412322998,
          -9.9996976852417,
          -10.940056800842285,
          -11.755218505859375,
          -14.247458457946777,
          -14.47334098815918,
          -14.53636646270752,
          -13.975805282592773,
          -13.037013053894043,
          -10.859177589416504,
          -10.900074005126953,
          -11.07127571105957,
          -11.443742752075195,
          -13.771541595458984,
          -13.182994842529297,
          -13.734326362609863,
          49.516273498535156,
          -0.8975831270217896,
          -0.8665916919708252,
          -0.9505014419555664,
          -1.2039695978164673,
          -1.1282782554626465,
          -2.1680068969726562,
          -2.0579886436462402,
          -2.6771504878997803,
          -2.74518084526062,
          -19.936548233032227,
          -20.079021453857422,
          -20.689878463745117,
          -22.557735443115234,
          -24.170984268188477,
          -22.17625617980957,
          -23.901174545288086,
          -23.66562843322754,
          -24.41179084777832,
          -22.162437438964844,
          -25.027976989746094,
          53.82652282714844,
          -16.086217880249023,
          -15.497183799743652,
          -16.32430648803711,
          -16.177398681640625,
          -16.73212242126465,
          -17.35559844970703,
          -17.903337478637695,
          -18.00861930847168,
          -17.28511619567871,
          -17.59286117553711,
          -17.9279727935791,
          -17.89712905883789,
          -18.800750732421875,
          -18.847211837768555,
          -19.24642562866211,
          50.11826705932617,
          3.360699415206909,
          -9.801226615905762,
          -9.037014961242676,
          2.8506922721862793,
          3.145948886871338,
          3.316134452819824,
          2.861659526824951,
          2.6265838146209717,
          1.3899388313293457,
          1.8021793365478516,
          1.7112146615982056,
          57.178199768066406,
          30.486738204956055,
          32.85129165649414,
          34.36155319213867,
          35.810909271240234,
          34.46510696411133,
          33.19058609008789,
          50.213722229003906,
          -17.876388549804688,
          -17.52467155456543,
          -8.67949104309082,
          -18.618316650390625,
          -18.21711540222168,
          -18.3089599609375,
          -18.65920066833496,
          -16.862016677856445,
          -17.102224349975586,
          -17.629863739013672,
          -18.014568328857422,
          -17.480854034423828,
          -8.678293228149414,
          -18.98961067199707,
          -18.70003890991211,
          -18.704587936401367,
          -16.72882652282715,
          -17.007015228271484,
          -16.59356117248535,
          -17.026884078979492,
          -16.860307693481445,
          -16.037208557128906,
          -15.886770248413086,
          48.033626556396484,
          -0.541646420955658,
          -2.9010603427886963,
          -2.81411075592041,
          0.572712242603302,
          0.5485579967498779,
          0.1778246909379959,
          -0.4791877567768097,
          -0.5139591097831726,
          -0.9596033096313477,
          -0.905641496181488,
          -1.6012152433395386,
          -3.450770616531372,
          -2.785717725753784,
          -0.8277387619018555,
          -1.069557785987854,
          -1.159585952758789,
          -5.145026206970215,
          -3.8474910259246826,
          -3.6998414993286133,
          49.72796630859375,
          -9.367297172546387,
          -9.648749351501465,
          -9.869382858276367,
          -10.068772315979004,
          -4.273537635803223,
          -4.306325912475586,
          -4.2514824867248535,
          -3.8976569175720215,
          -3.5432217121124268,
          -3.365661859512329,
          -3.232990026473999,
          -1.735235333442688,
          -9.927262306213379,
          -10.598962783813477,
          -12.459441184997559,
          -11.457902908325195,
          -13.669878005981445,
          -13.54636001586914,
          -14.894776344299316,
          -14.771469116210938,
          -12.903528213500977,
          -10.394559860229492,
          -4.085738658905029,
          -3.1737003326416016,
          -3.0785458087921143,
          -1.6143522262573242,
          -10.446322441101074,
          -10.798157691955566,
          -10.66830825805664,
          -10.765604972839355,
          -11.638116836547852,
          -11.232684135437012,
          -11.911552429199219,
          -11.944939613342285,
          -11.671202659606934,
          -11.839385032653809,
          -11.509574890136719,
          -11.86230754852295,
          -12.197951316833496,
          -11.961762428283691,
          -4.967475414276123,
          -3.1579535007476807,
          -1.8897900581359863,
          -12.08326530456543,
          -8.496306419372559,
          47.744449615478516,
          21.38009262084961,
          21.667522430419922,
          21.79065704345703,
          21.417747497558594,
          22.9852237701416,
          22.176042556762695,
          20.986103057861328,
          20.80005645751953,
          20.51436996459961,
          21.13702964782715,
          22.221399307250977,
          23.109832763671875,
          23.078962326049805,
          22.699344635009766,
          23.778127670288086,
          23.777700424194336,
          24.226451873779297,
          24.59139060974121,
          25.024850845336914,
          24.033660888671875,
          23.0755558013916,
          25.803770065307617,
          26.13652801513672,
          26.888460159301758,
          26.514144897460938,
          26.21354866027832,
          25.964353561401367,
          23.509002685546875,
          23.119789123535156,
          22.08586311340332,
          22.194808959960938,
          21.4351863861084,
          21.331193923950195,
          20.90735626220703,
          20.6881160736084,
          23.09100341796875,
          22.620616912841797,
          57.178199768066406,
          30.486738204956055,
          32.851776123046875,
          34.36155319213867,
          35.810909271240234,
          34.46510696411133,
          33.19058609008789,
          46.63050842285156,
          -16.90311622619629,
          -17.433202743530273,
          -18.727642059326172,
          -17.97632598876953,
          -17.629728317260742,
          -18.083236694335938,
          -18.365318298339844,
          -17.170917510986328,
          -16.71001625061035,
          -17.157148361206055,
          -17.613624572753906,
          -17.18684959411621,
          -16.23973274230957,
          54.6601448059082,
          -14.043213844299316,
          -13.773345947265625,
          -12.935317993164062,
          -12.2040376663208,
          -11.646363258361816,
          -12.483473777770996,
          -12.12930679321289,
          -11.92104434967041,
          -12.018921852111816,
          -11.902599334716797,
          -11.855484008789062,
          -11.279230117797852,
          48.2930908203125,
          35.2479362487793,
          35.129093170166016,
          35.66664123535156,
          36.295047760009766,
          36.288150787353516,
          36.43382263183594,
          36.73061752319336,
          37.057518005371094,
          37.55960464477539,
          37.571590423583984,
          36.54218673706055,
          36.857540130615234,
          38.416786193847656,
          37.28941345214844,
          37.92410659790039,
          36.498069763183594,
          39.47908020019531,
          37.31822967529297,
          37.896114349365234,
          39.69803237915039,
          37.6595344543457,
          39.945648193359375,
          37.20853042602539,
          39.09550476074219,
          40.070735931396484,
          38.27320098876953,
          40.07686233520508,
          39.00385284423828,
          53.56492233276367,
          -28.880104064941406,
          -29.117000579833984,
          -29.209001541137695,
          -28.470722198486328,
          -28.546831130981445,
          -28.600847244262695,
          -28.034988403320312,
          -27.129051208496094,
          -26.609159469604492,
          -26.326431274414062,
          -26.067127227783203,
          -26.07168197631836,
          -25.8482723236084,
          -24.29380226135254,
          -23.767635345458984,
          -23.289871215820312,
          -25.049633026123047,
          -28.22718048095703,
          48.2849235534668,
          -2.4046220779418945,
          -2.1302132606506348,
          -1.247436761856079,
          0.27127841114997864,
          4.206160545349121,
          4.246272087097168,
          -7.845294952392578,
          -7.828157901763916,
          0.5264342427253723,
          0.33934906125068665,
          3.7797250747680664,
          3.349658250808716,
          3.218167543411255,
          3.2558937072753906,
          2.743565559387207,
          2.5371692180633545,
          2.722801685333252,
          2.472576379776001,
          1.053114414215088,
          1.3821500539779663,
          2.642482042312622,
          1.8176649808883667,
          1.3100274801254272,
          1.5526176691055298,
          1.8194228410720825,
          55.04814147949219,
          -8.10518741607666,
          -8.238171577453613,
          -8.917874336242676,
          -8.195176124572754,
          -9.25447940826416,
          -9.674190521240234,
          -9.155073165893555,
          -9.363256454467773,
          -8.65729808807373,
          -8.3300199508667,
          -8.273934364318848,
          -8.52711296081543,
          -8.245713233947754,
          -8.017561912536621,
          -8.343450546264648,
          -8.261408805847168,
          -8.100728988647461,
          -8.027697563171387,
          -7.596520900726318,
          -7.480167388916016,
          -7.128602981567383,
          -6.792267322540283,
          -6.248709201812744,
          48.0440788269043,
          13.761384963989258,
          13.365797996520996,
          13.29538631439209,
          13.351606369018555,
          13.045980453491211,
          14.010555267333984,
          14.405584335327148,
          13.97961139678955,
          13.867386817932129,
          -0.029293561354279518,
          -0.008743302896618843,
          -0.04901733621954918,
          51.748695373535156,
          -13.372790336608887,
          -13.424509048461914,
          -13.475970268249512,
          -13.534889221191406,
          -13.552996635437012,
          -13.241050720214844,
          -13.494422912597656,
          -13.638162612915039,
          53.74479675292969,
          -15.812731742858887,
          -16.07617950439453,
          -16.393924713134766,
          -18.15363121032715,
          -7.978176116943359,
          -15.384384155273438,
          -15.249523162841797,
          -16.689910888671875,
          -15.666062355041504,
          -17.09763526916504,
          -18.005067825317383,
          -18.260103225708008,
          50.70646667480469,
          33.339412689208984,
          33.394775390625,
          33.69396209716797,
          33.4275016784668,
          32.88134765625,
          32.36518096923828,
          31.996414184570312,
          31.180885314941406,
          31.121673583984375,
          29.93968391418457,
          32.64752197265625,
          32.53590393066406,
          33.44623565673828,
          33.25025939941406,
          33.40282440185547,
          32.2325553894043,
          31.437698364257812,
          32.90406799316406,
          33.8717155456543,
          34.527740478515625,
          34.28767013549805,
          32.951019287109375,
          32.30792999267578,
          51.25107955932617,
          -1.5719506740570068,
          -4.04011869430542,
          -2.9989237785339355,
          -2.9211997985839844,
          -2.4129998683929443,
          -2.4047486782073975,
          0.4915756583213806,
          0.6995952725410461,
          3.1181480884552,
          2.16348934173584,
          2.982640266418457,
          -0.6048384308815002,
          -0.6815347075462341,
          -1.016796588897705,
          -1.696830153465271,
          -1.8992258310317993,
          -0.5858367085456848,
          -0.6218684911727905,
          -0.8205078840255737,
          -1.2523272037506104,
          -1.0517524480819702,
          -1.8024171590805054,
          -2.3934385776519775,
          -2.764446258544922,
          -1.968446969985962,
          -1.5383480787277222,
          -1.2703725099563599,
          -0.8651827573776245,
          0.24601809680461884,
          1.0961142778396606,
          1.22149658203125,
          3.0440921783447266,
          2.344977617263794,
          2.3555617332458496,
          0.5138065814971924,
          1.218317985534668,
          0.18367262184619904,
          52.476402282714844,
          38.4975700378418,
          38.32222366333008,
          38.19851303100586,
          38.264076232910156,
          38.374725341796875,
          38.35116195678711,
          38.58922576904297,
          53.38856887817383,
          -14.086385726928711,
          -14.637939453125,
          -14.239503860473633,
          -14.60364818572998,
          -15.501435279846191,
          -15.485135078430176,
          -15.881290435791016,
          -16.125185012817383,
          -16.42722511291504,
          -15.781439781188965,
          -14.561226844787598,
          -13.883941650390625,
          -14.419303894042969,
          -15.675217628479004,
          -15.700042724609375,
          -15.81378173828125,
          -15.154427528381348,
          -16.210391998291016,
          -16.1091365814209,
          -15.305875778198242,
          54.6093635559082,
          -26.344505310058594,
          -26.363300323486328,
          -25.000246047973633,
          -24.613800048828125,
          -24.580001831054688,
          -24.322906494140625,
          -23.973426818847656,
          45.89891052246094,
          9.227108001708984,
          9.225727081298828,
          9.327242851257324,
          9.588788986206055,
          51.92688751220703,
          -14.368694305419922,
          -14.38746452331543,
          -14.637789726257324,
          -14.957581520080566,
          -15.727226257324219,
          -16.178058624267578,
          -15.536979675292969,
          -15.409139633178711,
          -15.50089168548584,
          -15.274504661560059,
          -15.06031322479248,
          -14.167665481567383,
          55.759056091308594,
          -21.274980545043945,
          -21.981767654418945,
          -22.09839630126953,
          -22.210872650146484,
          -22.204647064208984,
          -22.852359771728516,
          -23.480998992919922,
          -23.680341720581055,
          -22.424678802490234,
          -22.933408737182617,
          -22.325925827026367,
          -22.623411178588867,
          -23.27129364013672,
          -21.713340759277344,
          -21.705711364746094,
          -21.483707427978516,
          -21.161148071289062,
          -20.874629974365234,
          -20.56004524230957,
          49.14178466796875,
          0.8412886261940002,
          0.27595254778862,
          -0.25422579050064087,
          -2.6460318565368652,
          -2.8494913578033447,
          -3.3775384426116943,
          -2.0174806118011475,
          0.4031122028827667,
          -2.3601043224334717,
          -1.9929324388504028,
          1.5039798021316528,
          0.5461041927337646,
          0.29922911524772644,
          0.22286280989646912,
          -7.487326622009277,
          -11.582719802856445,
          -11.4353609085083,
          -0.1166200190782547,
          -0.04506085813045502,
          1.3343585729599,
          0.7511234879493713,
          0.8590213656425476,
          1.0314668416976929,
          -0.006321930326521397,
          -7.5830864906311035,
          -11.61819839477539,
          -11.325292587280273,
          -0.20154696702957153,
          -0.8740615248680115,
          0.08599324524402618,
          1.1606624126434326,
          1.1071873903274536,
          1.1987285614013672,
          -0.9468347430229187,
          -0.43502527475357056,
          -0.2537671625614166,
          54.05032730102539,
          15.216400146484375,
          15.20468807220459,
          15.265755653381348,
          15.823287010192871,
          15.884040832519531,
          15.644186973571777,
          15.824845314025879,
          15.419626235961914,
          48.83395004272461,
          19.576139450073242,
          19.776208877563477,
          19.71856117248535,
          20.2221736907959,
          20.12318229675293,
          19.428997039794922,
          18.644954681396484,
          18.547658920288086,
          18.710046768188477,
          18.3588809967041,
          18.568490982055664,
          17.698410034179688,
          17.459976196289062,
          17.453859329223633,
          17.305675506591797,
          17.10186004638672,
          16.850404739379883,
          16.56113052368164,
          16.46103286743164,
          16.187694549560547,
          54.97291564941406,
          -1.4862868785858154,
          -2.103924036026001,
          -2.2557260990142822,
          -2.9939818382263184,
          -3.9026312828063965,
          -3.354313373565674,
          -2.8086962699890137,
          0.5382755398750305,
          0.3942820131778717,
          -2.6307523250579834,
          -2.917360782623291,
          -0.8844811320304871,
          -0.48252183198928833,
          1.112836241722107,
          0.33255982398986816,
          -0.2660192549228668,
          -0.1918390840291977,
          -0.027237486094236374,
          52.56786346435547,
          -0.30198079347610474,
          0.1335180103778839,
          0.48723939061164856,
          0.06683924794197083,
          0.3530880808830261,
          0.1739586740732193,
          -0.14963886141777039,
          0.15387524664402008,
          -0.2805173397064209,
          -0.6239243149757385,
          -0.6970598697662354,
          -0.6708866357803345,
          47.58928298950195,
          8.110054016113281,
          7.265428066253662,
          7.090047359466553,
          6.851677417755127,
          -5.844605445861816,
          -6.367365837097168,
          -6.895837306976318,
          -6.204633712768555,
          -6.683497905731201,
          -6.272971153259277,
          -6.355655193328857,
          -6.382848739624023,
          -6.418759822845459,
          -6.443039417266846,
          -7.092279434204102,
          -7.843757152557373,
          -7.91396951675415,
          -8.277958869934082,
          6.624614238739014,
          -6.232749938964844,
          -6.223647117614746,
          46.70613098144531,
          8.99521541595459,
          8.885361671447754,
          8.775279998779297,
          8.594871520996094,
          8.436662673950195,
          -6.263419151306152,
          -6.006272792816162,
          -5.8906569480896,
          -5.501560211181641,
          52.594932556152344,
          -29.159931182861328,
          -31.76091194152832,
          -32.18141555786133,
          -32.178401947021484,
          -32.28024673461914,
          -31.831567764282227,
          -31.639755249023438,
          -31.12687110900879,
          -29.33536148071289,
          -29.30605697631836,
          -28.60431671142578,
          -28.68475341796875,
          -28.770009994506836,
          -30.36671257019043,
          -30.268856048583984,
          -30.62136459350586,
          -29.766399383544922,
          51.48361587524414,
          -7.757823467254639,
          -8.337636947631836,
          -8.238866806030273,
          -8.470227241516113,
          -7.904721736907959,
          -7.203493595123291,
          -6.63554573059082,
          -7.048694610595703,
          -7.023384094238281,
          -7.376168251037598,
          -7.302643775939941,
          -6.222146511077881,
          -6.445491313934326,
          -6.858766078948975,
          -7.279544830322266,
          -8.111593246459961,
          -7.678541660308838,
          -5.422281742095947,
          -5.065977573394775,
          -5.716472148895264,
          -5.292417526245117,
          -6.259374618530273,
          -6.36279821395874,
          49.26384353637695,
          -6.936263561248779,
          -6.934360980987549,
          -6.1664533615112305,
          -5.739633083343506,
          -4.7763261795043945,
          -5.14375114440918,
          -5.526177406311035,
          -5.257625579833984,
          -6.221673965454102,
          -6.433280944824219,
          -6.283099174499512,
          -6.225594520568848,
          -7.341756343841553,
          -6.793355464935303,
          46.48826599121094,
          12.46178913116455,
          12.025407791137695,
          11.845891952514648,
          13.402538299560547,
          13.195901870727539,
          13.137369155883789,
          13.258710861206055,
          13.235579490661621,
          13.4760160446167,
          12.686530113220215,
          12.377174377441406,
          11.79421329498291,
          11.716912269592285,
          -4.469588756561279,
          -3.3356168270111084,
          -4.098762035369873,
          -3.6112937927246094,
          -3.467973232269287,
          -3.7765893936157227,
          -3.902461290359497,
          -3.0261058807373047,
          2.114161968231201,
          11.103610038757324,
          11.098743438720703,
          11.129207611083984,
          46.97343826293945,
          8.712059020996094,
          9.09364128112793,
          -12.543991088867188,
          2.2895805835723877,
          46.76762390136719,
          -0.8345295190811157,
          0.816312313079834,
          -0.8665152788162231,
          -1.6505942344665527,
          -2.0988123416900635,
          -2.1570398807525635,
          -2.607724189758301,
          -1.3154724836349487,
          2.0712051391601562,
          -0.6424379944801331,
          1.7704188823699951,
          -0.8870887756347656,
          -0.054622016847133636,
          0.8249955773353577,
          46.28083801269531,
          -6.554764270782471,
          -6.569668769836426,
          -0.06292127072811127,
          0.2445364147424698,
          6.974191188812256,
          -6.526014804840088,
          5.146843433380127,
          13.242732048034668,
          13.243631362915039,
          -3.947160482406616,
          5.51933479309082,
          5.616481781005859,
          13.957141876220703,
          14.491905212402344,
          14.539576530456543,
          14.485733985900879,
          14.246392250061035,
          14.010226249694824,
          14.308390617370605,
          14.685785293579102,
          15.417901992797852,
          15.179410934448242,
          15.473925590515137,
          15.485544204711914,
          57.69563293457031,
          57.63312911987305,
          48.07618713378906,
          9.123863220214844,
          8.760708808898926,
          8.131897926330566,
          -6.255131244659424,
          -6.516688823699951,
          7.014586925506592,
          9.477781295776367,
          9.527164459228516,
          9.371197700500488,
          9.25235652923584,
          8.410862922668457,
          8.457618713378906,
          -8.47492504119873,
          -8.703837394714355,
          53.80241394042969,
          -22.080978393554688,
          -22.61358642578125,
          -22.555410385131836,
          -21.714996337890625,
          -23.555194854736328,
          -23.63214874267578,
          -23.38877296447754,
          -22.475494384765625,
          -22.0759220123291,
          -21.709972381591797,
          -21.63410758972168,
          -21.55030059814453,
          -20.867956161499023,
          -21.21721839904785,
          -21.491622924804688,
          -21.63479232788086,
          -21.228668212890625,
          -21.093740463256836,
          -21.97881507873535,
          -21.27065086364746,
          -24.631868362426758,
          -26.19972801208496,
          -27.053102493286133,
          -21.56366729736328,
          -24.643550872802734,
          -26.23781967163086,
          -27.206806182861328,
          -22.542482376098633,
          -22.23900032043457,
          -20.564617156982422,
          -20.78733253479004,
          -20.893522262573242,
          -20.27874755859375,
          -20.387962341308594,
          -20.151052474975586,
          57.178199768066406,
          30.486738204956055,
          32.85129165649414,
          34.36155319213867,
          35.810909271240234,
          34.46510696411133,
          33.19058609008789,
          51.36880111694336,
          15.883219718933105,
          15.402222633361816,
          15.7937650680542,
          16.04766845703125,
          16.328466415405273,
          16.610673904418945,
          16.453357696533203,
          17.468835830688477,
          16.51066780090332,
          16.30160140991211,
          15.95373821258545,
          15.296138763427734,
          15.326623916625977,
          14.73399543762207,
          14.096702575683594,
          13.351542472839355,
          12.855132102966309,
          12.310956001281738,
          45.97686767578125,
          12.468610763549805,
          12.498244285583496,
          12.128747940063477,
          11.505912780761719,
          13.797389030456543,
          13.519405364990234,
          13.419593811035156,
          13.586677551269531,
          13.890711784362793,
          55.212890625,
          6.243107318878174,
          6.7031168937683105,
          6.681150436401367,
          6.984836578369141,
          7.173581123352051,
          7.143932819366455,
          7.987709999084473,
          8.1868896484375,
          8.587650299072266,
          8.958477020263672,
          48.443485260009766,
          11.344260215759277,
          11.201253890991211,
          11.076242446899414,
          11.01133918762207,
          10.854472160339355,
          10.433897972106934,
          10.294347763061523,
          10.255718231201172,
          -9.252530097961426,
          -10.405593872070312,
          -10.090479850769043,
          -1.2645189762115479,
          10.925271987915039,
          48.67300033569336,
          12.900464057922363,
          12.780608177185059,
          12.732536315917969,
          9.7864990234375,
          9.76741886138916,
          12.314655303955078,
          13.025618553161621,
          13.165875434875488,
          13.319153785705566,
          13.662602424621582,
          13.801526069641113,
          14.621471405029297,
          14.382569313049316,
          14.819705963134766,
          14.53571605682373,
          13.73723316192627,
          50.84280776977539,
          32.52836990356445,
          31.859947204589844,
          32.406532287597656,
          31.406091690063477,
          31.545700073242188,
          -8.485555648803711,
          -12.051371574401855,
          -11.756575584411621,
          0.4247223734855652,
          30.641897201538086,
          32.835853576660156,
          32.96769332885742,
          33.24741744995117,
          32.61794662475586,
          32.763816833496094,
          33.23544692993164,
          32.486812591552734,
          33.26142883300781,
          50.25510787963867,
          11.340806007385254,
          11.302659034729004,
          11.974045753479004,
          12.336249351501465,
          12.934917449951172,
          12.619766235351562,
          10.965497016906738,
          10.305814743041992,
          10.183341979980469,
          10.99492359161377,
          11.488846778869629,
          11.402830123901367,
          11.10031795501709,
          10.625504493713379,
          11.666406631469727,
          16.68487548828125,
          16.700637817382812,
          57.178199768066406,
          30.486738204956055,
          32.851776123046875,
          34.36155319213867,
          35.810909271240234,
          34.46510696411133,
          33.19058609008789,
          53.765865325927734,
          -21.94770050048828,
          -21.761262893676758,
          -21.503257751464844,
          -21.2534236907959,
          -21.146333694458008,
          -21.728349685668945,
          -21.856056213378906,
          -21.973224639892578,
          -22.45210075378418,
          -22.718063354492188,
          -22.507814407348633,
          -22.71185302734375,
          -22.840320587158203,
          -22.88974952697754,
          -22.601022720336914,
          -22.352582931518555,
          -22.32307243347168,
          -22.862207412719727,
          -23.1900577545166,
          -23.454641342163086,
          -9.870140075683594,
          -24.821290969848633,
          55.532569885253906,
          -22.641260147094727,
          -22.610897064208984,
          -22.82940673828125,
          -22.77061653137207,
          -22.86646270751953,
          -22.86224937438965,
          -22.92222023010254,
          -23.591327667236328,
          -23.71976661682129,
          -23.562204360961914,
          -22.97254753112793,
          -22.70013427734375,
          -21.062198638916016,
          -21.41027069091797,
          -21.39756202697754,
          -21.39527702331543,
          54.07923126220703,
          -22.464340209960938,
          -22.76112174987793,
          -22.490324020385742,
          -11.847777366638184,
          -16.3503360748291,
          -15.677316665649414,
          -16.295063018798828,
          -15.794265747070312,
          -16.339527130126953,
          -16.922666549682617,
          -16.76209259033203,
          -16.841686248779297,
          -17.31026268005371,
          56.44115447998047,
          -32.69367218017578,
          -32.852378845214844,
          -32.998321533203125,
          -33.036922454833984,
          -32.232120513916016,
          -32.23980712890625,
          -32.48891067504883,
          -32.26015853881836,
          -32.582977294921875,
          -32.37212371826172,
          -32.039215087890625,
          -32.02771759033203,
          -31.407073974609375
         ],
         "yaxis": "y"
        }
       ],
       "layout": {
        "coloraxis": {
         "colorbar": {
          "title": {
           "text": "label"
          }
         },
         "colorscale": [
          [
           0,
           "#0d0887"
          ],
          [
           0.1111111111111111,
           "#46039f"
          ],
          [
           0.2222222222222222,
           "#7201a8"
          ],
          [
           0.3333333333333333,
           "#9c179e"
          ],
          [
           0.4444444444444444,
           "#bd3786"
          ],
          [
           0.5555555555555556,
           "#d8576b"
          ],
          [
           0.6666666666666666,
           "#ed7953"
          ],
          [
           0.7777777777777778,
           "#fb9f3a"
          ],
          [
           0.8888888888888888,
           "#fdca26"
          ],
          [
           1,
           "#f0f921"
          ]
         ]
        },
        "legend": {
         "tracegroupgap": 0
        },
        "template": {
         "data": {
          "bar": [
           {
            "error_x": {
             "color": "#2a3f5f"
            },
            "error_y": {
             "color": "#2a3f5f"
            },
            "marker": {
             "line": {
              "color": "#E5ECF6",
              "width": 0.5
             },
             "pattern": {
              "fillmode": "overlay",
              "size": 10,
              "solidity": 0.2
             }
            },
            "type": "bar"
           }
          ],
          "barpolar": [
           {
            "marker": {
             "line": {
              "color": "#E5ECF6",
              "width": 0.5
             },
             "pattern": {
              "fillmode": "overlay",
              "size": 10,
              "solidity": 0.2
             }
            },
            "type": "barpolar"
           }
          ],
          "carpet": [
           {
            "aaxis": {
             "endlinecolor": "#2a3f5f",
             "gridcolor": "white",
             "linecolor": "white",
             "minorgridcolor": "white",
             "startlinecolor": "#2a3f5f"
            },
            "baxis": {
             "endlinecolor": "#2a3f5f",
             "gridcolor": "white",
             "linecolor": "white",
             "minorgridcolor": "white",
             "startlinecolor": "#2a3f5f"
            },
            "type": "carpet"
           }
          ],
          "choropleth": [
           {
            "colorbar": {
             "outlinewidth": 0,
             "ticks": ""
            },
            "type": "choropleth"
           }
          ],
          "contour": [
           {
            "colorbar": {
             "outlinewidth": 0,
             "ticks": ""
            },
            "colorscale": [
             [
              0,
              "#0d0887"
             ],
             [
              0.1111111111111111,
              "#46039f"
             ],
             [
              0.2222222222222222,
              "#7201a8"
             ],
             [
              0.3333333333333333,
              "#9c179e"
             ],
             [
              0.4444444444444444,
              "#bd3786"
             ],
             [
              0.5555555555555556,
              "#d8576b"
             ],
             [
              0.6666666666666666,
              "#ed7953"
             ],
             [
              0.7777777777777778,
              "#fb9f3a"
             ],
             [
              0.8888888888888888,
              "#fdca26"
             ],
             [
              1,
              "#f0f921"
             ]
            ],
            "type": "contour"
           }
          ],
          "contourcarpet": [
           {
            "colorbar": {
             "outlinewidth": 0,
             "ticks": ""
            },
            "type": "contourcarpet"
           }
          ],
          "heatmap": [
           {
            "colorbar": {
             "outlinewidth": 0,
             "ticks": ""
            },
            "colorscale": [
             [
              0,
              "#0d0887"
             ],
             [
              0.1111111111111111,
              "#46039f"
             ],
             [
              0.2222222222222222,
              "#7201a8"
             ],
             [
              0.3333333333333333,
              "#9c179e"
             ],
             [
              0.4444444444444444,
              "#bd3786"
             ],
             [
              0.5555555555555556,
              "#d8576b"
             ],
             [
              0.6666666666666666,
              "#ed7953"
             ],
             [
              0.7777777777777778,
              "#fb9f3a"
             ],
             [
              0.8888888888888888,
              "#fdca26"
             ],
             [
              1,
              "#f0f921"
             ]
            ],
            "type": "heatmap"
           }
          ],
          "heatmapgl": [
           {
            "colorbar": {
             "outlinewidth": 0,
             "ticks": ""
            },
            "colorscale": [
             [
              0,
              "#0d0887"
             ],
             [
              0.1111111111111111,
              "#46039f"
             ],
             [
              0.2222222222222222,
              "#7201a8"
             ],
             [
              0.3333333333333333,
              "#9c179e"
             ],
             [
              0.4444444444444444,
              "#bd3786"
             ],
             [
              0.5555555555555556,
              "#d8576b"
             ],
             [
              0.6666666666666666,
              "#ed7953"
             ],
             [
              0.7777777777777778,
              "#fb9f3a"
             ],
             [
              0.8888888888888888,
              "#fdca26"
             ],
             [
              1,
              "#f0f921"
             ]
            ],
            "type": "heatmapgl"
           }
          ],
          "histogram": [
           {
            "marker": {
             "pattern": {
              "fillmode": "overlay",
              "size": 10,
              "solidity": 0.2
             }
            },
            "type": "histogram"
           }
          ],
          "histogram2d": [
           {
            "colorbar": {
             "outlinewidth": 0,
             "ticks": ""
            },
            "colorscale": [
             [
              0,
              "#0d0887"
             ],
             [
              0.1111111111111111,
              "#46039f"
             ],
             [
              0.2222222222222222,
              "#7201a8"
             ],
             [
              0.3333333333333333,
              "#9c179e"
             ],
             [
              0.4444444444444444,
              "#bd3786"
             ],
             [
              0.5555555555555556,
              "#d8576b"
             ],
             [
              0.6666666666666666,
              "#ed7953"
             ],
             [
              0.7777777777777778,
              "#fb9f3a"
             ],
             [
              0.8888888888888888,
              "#fdca26"
             ],
             [
              1,
              "#f0f921"
             ]
            ],
            "type": "histogram2d"
           }
          ],
          "histogram2dcontour": [
           {
            "colorbar": {
             "outlinewidth": 0,
             "ticks": ""
            },
            "colorscale": [
             [
              0,
              "#0d0887"
             ],
             [
              0.1111111111111111,
              "#46039f"
             ],
             [
              0.2222222222222222,
              "#7201a8"
             ],
             [
              0.3333333333333333,
              "#9c179e"
             ],
             [
              0.4444444444444444,
              "#bd3786"
             ],
             [
              0.5555555555555556,
              "#d8576b"
             ],
             [
              0.6666666666666666,
              "#ed7953"
             ],
             [
              0.7777777777777778,
              "#fb9f3a"
             ],
             [
              0.8888888888888888,
              "#fdca26"
             ],
             [
              1,
              "#f0f921"
             ]
            ],
            "type": "histogram2dcontour"
           }
          ],
          "mesh3d": [
           {
            "colorbar": {
             "outlinewidth": 0,
             "ticks": ""
            },
            "type": "mesh3d"
           }
          ],
          "parcoords": [
           {
            "line": {
             "colorbar": {
              "outlinewidth": 0,
              "ticks": ""
             }
            },
            "type": "parcoords"
           }
          ],
          "pie": [
           {
            "automargin": true,
            "type": "pie"
           }
          ],
          "scatter": [
           {
            "fillpattern": {
             "fillmode": "overlay",
             "size": 10,
             "solidity": 0.2
            },
            "type": "scatter"
           }
          ],
          "scatter3d": [
           {
            "line": {
             "colorbar": {
              "outlinewidth": 0,
              "ticks": ""
             }
            },
            "marker": {
             "colorbar": {
              "outlinewidth": 0,
              "ticks": ""
             }
            },
            "type": "scatter3d"
           }
          ],
          "scattercarpet": [
           {
            "marker": {
             "colorbar": {
              "outlinewidth": 0,
              "ticks": ""
             }
            },
            "type": "scattercarpet"
           }
          ],
          "scattergeo": [
           {
            "marker": {
             "colorbar": {
              "outlinewidth": 0,
              "ticks": ""
             }
            },
            "type": "scattergeo"
           }
          ],
          "scattergl": [
           {
            "marker": {
             "colorbar": {
              "outlinewidth": 0,
              "ticks": ""
             }
            },
            "type": "scattergl"
           }
          ],
          "scattermapbox": [
           {
            "marker": {
             "colorbar": {
              "outlinewidth": 0,
              "ticks": ""
             }
            },
            "type": "scattermapbox"
           }
          ],
          "scatterpolar": [
           {
            "marker": {
             "colorbar": {
              "outlinewidth": 0,
              "ticks": ""
             }
            },
            "type": "scatterpolar"
           }
          ],
          "scatterpolargl": [
           {
            "marker": {
             "colorbar": {
              "outlinewidth": 0,
              "ticks": ""
             }
            },
            "type": "scatterpolargl"
           }
          ],
          "scatterternary": [
           {
            "marker": {
             "colorbar": {
              "outlinewidth": 0,
              "ticks": ""
             }
            },
            "type": "scatterternary"
           }
          ],
          "surface": [
           {
            "colorbar": {
             "outlinewidth": 0,
             "ticks": ""
            },
            "colorscale": [
             [
              0,
              "#0d0887"
             ],
             [
              0.1111111111111111,
              "#46039f"
             ],
             [
              0.2222222222222222,
              "#7201a8"
             ],
             [
              0.3333333333333333,
              "#9c179e"
             ],
             [
              0.4444444444444444,
              "#bd3786"
             ],
             [
              0.5555555555555556,
              "#d8576b"
             ],
             [
              0.6666666666666666,
              "#ed7953"
             ],
             [
              0.7777777777777778,
              "#fb9f3a"
             ],
             [
              0.8888888888888888,
              "#fdca26"
             ],
             [
              1,
              "#f0f921"
             ]
            ],
            "type": "surface"
           }
          ],
          "table": [
           {
            "cells": {
             "fill": {
              "color": "#EBF0F8"
             },
             "line": {
              "color": "white"
             }
            },
            "header": {
             "fill": {
              "color": "#C8D4E3"
             },
             "line": {
              "color": "white"
             }
            },
            "type": "table"
           }
          ]
         },
         "layout": {
          "annotationdefaults": {
           "arrowcolor": "#2a3f5f",
           "arrowhead": 0,
           "arrowwidth": 1
          },
          "autotypenumbers": "strict",
          "coloraxis": {
           "colorbar": {
            "outlinewidth": 0,
            "ticks": ""
           }
          },
          "colorscale": {
           "diverging": [
            [
             0,
             "#8e0152"
            ],
            [
             0.1,
             "#c51b7d"
            ],
            [
             0.2,
             "#de77ae"
            ],
            [
             0.3,
             "#f1b6da"
            ],
            [
             0.4,
             "#fde0ef"
            ],
            [
             0.5,
             "#f7f7f7"
            ],
            [
             0.6,
             "#e6f5d0"
            ],
            [
             0.7,
             "#b8e186"
            ],
            [
             0.8,
             "#7fbc41"
            ],
            [
             0.9,
             "#4d9221"
            ],
            [
             1,
             "#276419"
            ]
           ],
           "sequential": [
            [
             0,
             "#0d0887"
            ],
            [
             0.1111111111111111,
             "#46039f"
            ],
            [
             0.2222222222222222,
             "#7201a8"
            ],
            [
             0.3333333333333333,
             "#9c179e"
            ],
            [
             0.4444444444444444,
             "#bd3786"
            ],
            [
             0.5555555555555556,
             "#d8576b"
            ],
            [
             0.6666666666666666,
             "#ed7953"
            ],
            [
             0.7777777777777778,
             "#fb9f3a"
            ],
            [
             0.8888888888888888,
             "#fdca26"
            ],
            [
             1,
             "#f0f921"
            ]
           ],
           "sequentialminus": [
            [
             0,
             "#0d0887"
            ],
            [
             0.1111111111111111,
             "#46039f"
            ],
            [
             0.2222222222222222,
             "#7201a8"
            ],
            [
             0.3333333333333333,
             "#9c179e"
            ],
            [
             0.4444444444444444,
             "#bd3786"
            ],
            [
             0.5555555555555556,
             "#d8576b"
            ],
            [
             0.6666666666666666,
             "#ed7953"
            ],
            [
             0.7777777777777778,
             "#fb9f3a"
            ],
            [
             0.8888888888888888,
             "#fdca26"
            ],
            [
             1,
             "#f0f921"
            ]
           ]
          },
          "colorway": [
           "#636efa",
           "#EF553B",
           "#00cc96",
           "#ab63fa",
           "#FFA15A",
           "#19d3f3",
           "#FF6692",
           "#B6E880",
           "#FF97FF",
           "#FECB52"
          ],
          "font": {
           "color": "#2a3f5f"
          },
          "geo": {
           "bgcolor": "white",
           "lakecolor": "white",
           "landcolor": "#E5ECF6",
           "showlakes": true,
           "showland": true,
           "subunitcolor": "white"
          },
          "hoverlabel": {
           "align": "left"
          },
          "hovermode": "closest",
          "mapbox": {
           "style": "light"
          },
          "paper_bgcolor": "white",
          "plot_bgcolor": "#E5ECF6",
          "polar": {
           "angularaxis": {
            "gridcolor": "white",
            "linecolor": "white",
            "ticks": ""
           },
           "bgcolor": "#E5ECF6",
           "radialaxis": {
            "gridcolor": "white",
            "linecolor": "white",
            "ticks": ""
           }
          },
          "scene": {
           "xaxis": {
            "backgroundcolor": "#E5ECF6",
            "gridcolor": "white",
            "gridwidth": 2,
            "linecolor": "white",
            "showbackground": true,
            "ticks": "",
            "zerolinecolor": "white"
           },
           "yaxis": {
            "backgroundcolor": "#E5ECF6",
            "gridcolor": "white",
            "gridwidth": 2,
            "linecolor": "white",
            "showbackground": true,
            "ticks": "",
            "zerolinecolor": "white"
           },
           "zaxis": {
            "backgroundcolor": "#E5ECF6",
            "gridcolor": "white",
            "gridwidth": 2,
            "linecolor": "white",
            "showbackground": true,
            "ticks": "",
            "zerolinecolor": "white"
           }
          },
          "shapedefaults": {
           "line": {
            "color": "#2a3f5f"
           }
          },
          "ternary": {
           "aaxis": {
            "gridcolor": "white",
            "linecolor": "white",
            "ticks": ""
           },
           "baxis": {
            "gridcolor": "white",
            "linecolor": "white",
            "ticks": ""
           },
           "bgcolor": "#E5ECF6",
           "caxis": {
            "gridcolor": "white",
            "linecolor": "white",
            "ticks": ""
           }
          },
          "title": {
           "x": 0.05
          },
          "xaxis": {
           "automargin": true,
           "gridcolor": "white",
           "linecolor": "white",
           "ticks": "",
           "title": {
            "standoff": 15
           },
           "zerolinecolor": "white",
           "zerolinewidth": 2
          },
          "yaxis": {
           "automargin": true,
           "gridcolor": "white",
           "linecolor": "white",
           "ticks": "",
           "title": {
            "standoff": 15
           },
           "zerolinecolor": "white",
           "zerolinewidth": 2
          }
         }
        },
        "title": {
         "text": "2D Vector Space of Test Examples"
        },
        "xaxis": {
         "anchor": "y",
         "domain": [
          0,
          1
         ],
         "title": {
          "text": "x"
         }
        },
        "yaxis": {
         "anchor": "x",
         "domain": [
          0,
          1
         ],
         "title": {
          "text": "y"
         }
        }
       }
      }
     },
     "metadata": {},
     "output_type": "display_data"
    }
   ],
   "source": [
    "import torch\n",
    "from sklearn.manifold import TSNE\n",
    "import plotly.express as px\n",
    "import pandas as pd\n",
    "import numpy as np\n",
    "\n",
    "\n",
    "\n",
    "test_dataset = tokenized_datasets[\"train\"]\n",
    "print(test_dataset[0])\n",
    "\n",
    "def get_embeddings(dataset, model, tokenizer):\n",
    "    model.eval()\n",
    "    embeddings = []\n",
    "    labels = []\n",
    "    tokens = []\n",
    "    \n",
    "    with torch.no_grad():\n",
    "        for example in dataset:\n",
    "            inputs = tokenizer(\n",
    "                example[\"tokens\"], is_split_into_words=True, return_tensors=\"pt\",\n",
    "                truncation=True, padding='max_length', max_length=128\n",
    "            ).to(device)\n",
    "            \n",
    "            outputs = model(**inputs, output_hidden_states=True)\n",
    "            logits = outputs.logits\n",
    "            predictions = torch.argmax(logits, dim=-1).squeeze().cpu()\n",
    "\n",
    "            token_embeddings = outputs.hidden_states[-1].squeeze(0)\n",
    "            true_label = example[\"ner_tags\"]\n",
    "            predictions = predictions[:len(true_label)]\n",
    "\n",
    "            # Only append correctly classified examples\n",
    "            if list(predictions) == true_label:\n",
    "                embeddings.append(token_embeddings[:len(true_label)].cpu().numpy())\n",
    "                labels.extend(true_label)\n",
    "                tokens.extend(example[\"tokens\"][:len(true_label)])\n",
    "\n",
    "    # Flatten the embeddings and ensure lengths match\n",
    "    flat_embeddings = np.vstack(embeddings)\n",
    "    flat_labels = labels\n",
    "    flat_tokens = tokens\n",
    "\n",
    "    print(f\"Lengths - embeddings: {len(flat_embeddings)}, labels: {len(flat_labels)}, tokens: {len(flat_tokens)}\")\n",
    "\n",
    "    return flat_embeddings, flat_labels, flat_tokens\n",
    "\n",
    "\n",
    "\n",
    "embeddings, labels, tokens = get_embeddings(test_dataset, model, tokenizer)\n",
    "\n",
    "\n",
    "reducer = TSNE(n_components=2, random_state=42)\n",
    "reduced_embeddings = reducer.fit_transform(embeddings)\n",
    "\n",
    "\n",
    "df = pd.DataFrame({\n",
    "    \"x\": reduced_embeddings[:, 0],\n",
    "    \"y\": reduced_embeddings[:, 1],\n",
    "    \"label\": labels,\n",
    "    \"token\": tokens\n",
    "})\n",
    "\n",
    "fig = px.scatter(\n",
    "    df, x=\"x\", y=\"y\", color=\"label\", hover_data=[\"token\"],\n",
    "    title=\"2D Vector Space of Test Examples\",\n",
    "    labels={\"color\": \"NER Label\"}\n",
    ")\n",
    "fig.show()\n"
   ]
  },
  {
   "cell_type": "markdown",
   "metadata": {},
   "source": [
    "# Poprawe z wyłączeniem 0"
   ]
  },
  {
   "cell_type": "code",
   "execution_count": 82,
   "metadata": {},
   "outputs": [],
   "source": [
    "def get_embeddings(dataset, model, tokenizer):\n",
    "    model.eval()\n",
    "    embeddings = []\n",
    "    labels = []\n",
    "    tokens = []\n",
    "    accuracy_threshold = 0.6  \n",
    "\n",
    "    with torch.no_grad():\n",
    "        for example in dataset:\n",
    "            inputs = tokenizer(\n",
    "                example[\"tokens\"], is_split_into_words=True, return_tensors=\"pt\",\n",
    "                truncation=True, padding='max_length', max_length=128\n",
    "            ).to(device)\n",
    "            \n",
    "            outputs = model(**inputs, output_hidden_states=True)\n",
    "            logits = outputs.logits\n",
    "            predictions = torch.argmax(logits, dim=-1).squeeze().cpu()\n",
    "\n",
    "            # Pobieramy embeddingi i prawdziwe etykiety\n",
    "            token_embeddings = outputs.hidden_states[-1].squeeze(0)\n",
    "            true_labels = example[\"ner_tags\"]\n",
    "            tokens_list = example[\"tokens\"]\n",
    "\n",
    "        \n",
    "            predictions = predictions[:len(true_labels)]\n",
    "\n",
    "            # Filtrowanie etykiet `0`\n",
    "            non_zero_indices = [i for i, label in enumerate(true_labels) if label != 0]\n",
    "            filtered_predictions = [predictions[i] for i in non_zero_indices]\n",
    "            filtered_true_labels = [true_labels[i] for i in non_zero_indices]\n",
    "            filtered_tokens = [tokens_list[i] for i in non_zero_indices]\n",
    "            filtered_embeddings = token_embeddings[non_zero_indices].cpu().numpy()\n",
    "\n",
    "\n",
    "            if len(filtered_true_labels) > 0: \n",
    "                correct_predictions = sum(\n",
    "                    [1 for pred, true in zip(filtered_predictions, filtered_true_labels) if pred == true]\n",
    "                )\n",
    "                accuracy = correct_predictions / len(filtered_true_labels)\n",
    "\n",
    "    \n",
    "                if accuracy >= accuracy_threshold:\n",
    "                    embeddings.append(filtered_embeddings)\n",
    "                    labels.extend(filtered_true_labels)\n",
    "                    tokens.extend(filtered_tokens)\n",
    "\n",
    "    # Spłaszczamy listy\n",
    "    flat_embeddings = np.vstack(embeddings)\n",
    "    flat_labels = labels\n",
    "    flat_tokens = tokens\n",
    "\n",
    "    print(f\"Lengths - embeddings: {len(flat_embeddings)}, labels: {len(flat_labels)}, tokens: {len(flat_tokens)}\")\n",
    "\n",
    "    return flat_embeddings, flat_labels, flat_tokens\n"
   ]
  },
  {
   "cell_type": "code",
   "execution_count": 83,
   "metadata": {},
   "outputs": [
    {
     "name": "stdout",
     "output_type": "stream",
     "text": [
      "Lengths - embeddings: 117, labels: 117, tokens: 117\n"
     ]
    },
    {
     "data": {
      "application/vnd.plotly.v1+json": {
       "config": {
        "plotlyServerURL": "https://plot.ly"
       },
       "data": [
        {
         "customdata": [
          [
           "neutrophils"
          ],
          [
           "G-CSF"
          ],
          [
           "tyrosine"
          ],
          [
           "kinase"
          ],
          [
           "p80c-rel"
          ],
          [
           "alpha-globin"
          ],
          [
           "G"
          ],
          [
           "+"
          ],
          [
           "C-rich"
          ],
          [
           "5"
          ],
          [
           "'"
          ],
          [
           "flanking"
          ],
          [
           "region"
          ],
          [
           "alpha-globin"
          ],
          [
           "promoter"
          ],
          [
           "chromatin"
          ],
          [
           "AP-1"
          ],
          [
           "transcription"
          ],
          [
           "factor"
          ],
          [
           "jun"
          ],
          [
           "and"
          ],
          [
           "fos"
          ],
          [
           "gene"
          ],
          [
           "family"
          ],
          [
           "members"
          ],
          [
           "cytokine"
          ],
          [
           "T"
          ],
          [
           "helper"
          ],
          [
           "1"
          ],
          [
           "("
          ],
          [
           "Th1"
          ],
          [
           ")"
          ],
          [
           "and"
          ],
          [
           "T"
          ],
          [
           "helper"
          ],
          [
           "2"
          ],
          [
           "("
          ],
          [
           "Th2"
          ],
          [
           ")"
          ],
          [
           "cells"
          ],
          [
           "cytokine"
          ],
          [
           "cytokine"
          ],
          [
           "receptor"
          ],
          [
           "c-fos"
          ],
          [
           ","
          ],
          [
           "c-jun"
          ],
          [
           ","
          ],
          [
           "c-myc"
          ],
          [
           ","
          ],
          [
           "junB"
          ],
          [
           ","
          ],
          [
           "and"
          ],
          [
           "fra-1"
          ],
          [
           "mRNAs"
          ],
          [
           "peripheral"
          ],
          [
           "blood"
          ],
          [
           "lymphocytes"
          ],
          [
           "MAP"
          ],
          [
           "kinase"
          ],
          [
           "extracellular"
          ],
          [
           "signal-regulated"
          ],
          [
           "kinase"
          ],
          [
           "("
          ],
          [
           "ERK"
          ],
          [
           ")"
          ],
          [
           "2"
          ],
          [
           "human"
          ],
          [
           "immunodeficiency"
          ],
          [
           "virus"
          ],
          [
           "type"
          ],
          [
           "1"
          ],
          [
           "("
          ],
          [
           "HIV-1"
          ],
          [
           ")"
          ],
          [
           "Tat"
          ],
          [
           "protein"
          ],
          [
           "tumor"
          ],
          [
           "necrosis"
          ],
          [
           "factor"
          ],
          [
           "TNF"
          ],
          [
           "NF-kappa"
          ],
          [
           "B"
          ],
          [
           "germline"
          ],
          [
           "V"
          ],
          [
           "region"
          ],
          [
           "promoters"
          ],
          [
           "kappa"
          ],
          [
           "enhancers"
          ],
          [
           "Class"
          ],
          [
           "II"
          ],
          [
           "antigen"
          ],
          [
           "expressing"
          ],
          [
           "T-cell"
          ],
          [
           "lines"
          ],
          [
           "B-cell"
          ],
          [
           "lines"
          ],
          [
           "class"
          ],
          [
           "II-negative"
          ],
          [
           "T-cell"
          ],
          [
           "lines"
          ],
          [
           "human"
          ],
          [
           "TSH"
          ],
          [
           "receptor"
          ],
          [
           "("
          ],
          [
           "TSH-R"
          ],
          [
           ")"
          ],
          [
           "cDNA"
          ],
          [
           "probe"
          ],
          [
           "TSH-R"
          ],
          [
           "Serum-equilibrated"
          ],
          [
           "PtdIns"
          ],
          [
           "also"
          ],
          [
           "binds"
          ],
          [
           "to"
          ],
          [
           "mCD14-expressing"
          ],
          [
           "cells"
          ],
          [
           "mCD14"
          ]
         ],
         "hovertemplate": "x=%{x}<br>y=%{y}<br>token=%{customdata[0]}<br>label=%{marker.color}<extra></extra>",
         "legendgroup": "",
         "marker": {
          "color": [
           7,
           9,
           9,
           10,
           9,
           1,
           2,
           2,
           2,
           2,
           2,
           2,
           2,
           1,
           2,
           1,
           9,
           9,
           10,
           1,
           2,
           2,
           2,
           2,
           2,
           9,
           7,
           8,
           8,
           8,
           8,
           8,
           8,
           8,
           8,
           8,
           8,
           8,
           8,
           8,
           9,
           9,
           10,
           3,
           4,
           4,
           4,
           4,
           4,
           4,
           4,
           4,
           4,
           4,
           7,
           8,
           8,
           9,
           10,
           10,
           10,
           10,
           10,
           10,
           10,
           10,
           9,
           10,
           10,
           10,
           10,
           10,
           10,
           10,
           10,
           10,
           9,
           10,
           10,
           9,
           9,
           10,
           1,
           1,
           2,
           2,
           1,
           2,
           5,
           6,
           6,
           6,
           6,
           6,
           5,
           6,
           5,
           6,
           6,
           6,
           1,
           2,
           2,
           2,
           2,
           2,
           2,
           2,
           9,
           7,
           8,
           8,
           8,
           8,
           8,
           8,
           9
          ],
          "coloraxis": "coloraxis",
          "symbol": "circle"
         },
         "mode": "markers",
         "name": "",
         "orientation": "v",
         "showlegend": false,
         "type": "scatter",
         "x": [
          7.924022197723389,
          3.110969305038452,
          1.2619829177856445,
          -0.8002634644508362,
          1.0340821743011475,
          8.221406936645508,
          -2.9080936908721924,
          -4.590379238128662,
          -4.849374771118164,
          -4.516504287719727,
          -4.975101947784424,
          -4.926984786987305,
          -4.702144622802734,
          -4.514443397521973,
          -4.768377304077148,
          -4.436646461486816,
          7.639741897583008,
          1.2232977151870728,
          -1.3013551235198975,
          7.631606578826904,
          -2.9709384441375732,
          -5.166188716888428,
          -5.496927261352539,
          -5.3855366706848145,
          -5.274116516113281,
          8.083480834960938,
          -0.9294177889823914,
          -1.0882866382598877,
          7.791523456573486,
          7.869635581970215,
          3.1573734283447266,
          3.369050979614258,
          3.394986391067505,
          3.5755059719085693,
          3.5373852252960205,
          3.484818696975708,
          3.4374325275421143,
          3.6072919368743896,
          3.6534981727600098,
          3.522091865539551,
          7.4691925048828125,
          1.0826739072799683,
          -0.7429000735282898,
          7.539388179779053,
          -0.722032904624939,
          -0.873100757598877,
          -1.3042758703231812,
          -1.3025743961334229,
          -0.8601705431938171,
          -1.0879665613174438,
          -0.9841862320899963,
          -1.2709051370620728,
          -1.2537133693695068,
          -0.775091826915741,
          -0.7832960486412048,
          -1.0358902215957642,
          -1.1098576784133911,
          7.643345832824707,
          1.1681166887283325,
          -1.4399058818817139,
          -1.7612916231155396,
          -1.635766625404358,
          -1.7210824489593506,
          -1.9321911334991455,
          -1.8107664585113525,
          -2.059028387069702,
          8.033973693847656,
          1.208497166633606,
          -2.4046542644500732,
          -2.4796969890594482,
          -2.2681219577789307,
          -2.669778347015381,
          -2.442140817642212,
          -2.504526138305664,
          -2.328029155731201,
          -2.333928346633911,
          -2.015087127685547,
          -2.1906821727752686,
          -2.0567820072174072,
          7.947055816650391,
          7.633612632751465,
          1.1593341827392578,
          8.219135284423828,
          -3.519148588180542,
          -4.042685508728027,
          -4.34466028213501,
          -3.036165475845337,
          -4.78987979888916,
          8.525130271911621,
          -3.6008594036102295,
          -4.735662937164307,
          -4.7872514724731445,
          -4.786011695861816,
          -4.754321098327637,
          8.533491134643555,
          8.572610855102539,
          -3.6470093727111816,
          -4.706717014312744,
          -4.786279201507568,
          -4.783719062805176,
          8.320280075073242,
          -2.892997980117798,
          -5.717897415161133,
          -5.444483757019043,
          -5.480087757110596,
          -5.699031829833984,
          -5.569059371948242,
          -5.721524238586426,
          -5.7044291496276855,
          8.153721809387207,
          3.1810247898101807,
          3.813739061355591,
          4.2186431884765625,
          4.341338157653809,
          4.301635265350342,
          4.3541059494018555,
          4.127657413482666
         ],
         "xaxis": "x",
         "y": [
          -2.054035186767578,
          -0.7268000245094299,
          -4.022791862487793,
          -5.371086120605469,
          -4.1429033279418945,
          -1.4105457067489624,
          6.72662878036499,
          4.376718044281006,
          4.449164390563965,
          4.4672064781188965,
          4.853361129760742,
          4.7175092697143555,
          4.775812149047852,
          4.689663410186768,
          4.885307312011719,
          4.852700710296631,
          -1.6977453231811523,
          -4.049396991729736,
          -5.416618347167969,
          -1.7670131921768188,
          6.688659191131592,
          5.459624290466309,
          5.262901306152344,
          5.200901508331299,
          5.2575507164001465,
          -1.2586941719055176,
          -4.803708553314209,
          -5.044346332550049,
          -1.2439754009246826,
          -1.1844147443771362,
          -0.6417062282562256,
          1.0354077816009521,
          1.0407648086547852,
          1.281842589378357,
          1.1752679347991943,
          1.154845952987671,
          1.1875730752944946,
          1.3531780242919922,
          1.2360219955444336,
          1.1629377603530884,
          -1.640989065170288,
          -4.146743297576904,
          -4.817711353302002,
          -1.7073845863342285,
          3.3990626335144043,
          2.7213222980499268,
          2.329937219619751,
          2.384158134460449,
          2.158130407333374,
          2.544167995452881,
          2.5472042560577393,
          2.3641645908355713,
          2.4649507999420166,
          2.206557035446167,
          2.236994981765747,
          2.588601589202881,
          2.6113486289978027,
          -2.1569957733154297,
          -4.057463645935059,
          -4.747133731842041,
          -4.857592582702637,
          -4.413705825805664,
          -4.296073913574219,
          -4.3495774269104,
          -4.619021892547607,
          -4.310670375823975,
          -2.0485007762908936,
          -4.032526969909668,
          -4.744126796722412,
          -4.628284454345703,
          -4.540637016296387,
          -4.556462287902832,
          -4.900271892547607,
          -5.156245708465576,
          -5.214168548583984,
          -5.280986785888672,
          -5.348793029785156,
          -5.332292556762695,
          -5.370690822601318,
          -2.1434433460235596,
          -2.202937602996826,
          -4.0881781578063965,
          -1.4923077821731567,
          6.4071526527404785,
          6.023614883422852,
          5.79395055770874,
          6.665292263031006,
          5.359915733337402,
          -2.066075325012207,
          -0.27558931708335876,
          0.18911051750183105,
          0.20081564784049988,
          0.2148338407278061,
          0.20656003057956696,
          -1.7546416521072388,
          -1.7764531373977661,
          -0.2590447664260864,
          0.16311421990394592,
          0.20093782246112823,
          0.19816754758358002,
          -1.5746735334396362,
          6.718725681304932,
          4.350244045257568,
          4.137015342712402,
          4.132491588592529,
          4.397344589233398,
          4.087472915649414,
          4.424373626708984,
          4.5107102394104,
          -2.33672833442688,
          -0.8984948992729187,
          -0.1736038476228714,
          0.3686073422431946,
          0.6363569498062134,
          0.4911157190799713,
          0.4550565183162689,
          1.259352684020996
         ],
         "yaxis": "y"
        }
       ],
       "layout": {
        "coloraxis": {
         "colorbar": {
          "title": {
           "text": "label"
          }
         },
         "colorscale": [
          [
           0,
           "#0d0887"
          ],
          [
           0.1111111111111111,
           "#46039f"
          ],
          [
           0.2222222222222222,
           "#7201a8"
          ],
          [
           0.3333333333333333,
           "#9c179e"
          ],
          [
           0.4444444444444444,
           "#bd3786"
          ],
          [
           0.5555555555555556,
           "#d8576b"
          ],
          [
           0.6666666666666666,
           "#ed7953"
          ],
          [
           0.7777777777777778,
           "#fb9f3a"
          ],
          [
           0.8888888888888888,
           "#fdca26"
          ],
          [
           1,
           "#f0f921"
          ]
         ]
        },
        "legend": {
         "tracegroupgap": 0
        },
        "template": {
         "data": {
          "bar": [
           {
            "error_x": {
             "color": "#2a3f5f"
            },
            "error_y": {
             "color": "#2a3f5f"
            },
            "marker": {
             "line": {
              "color": "#E5ECF6",
              "width": 0.5
             },
             "pattern": {
              "fillmode": "overlay",
              "size": 10,
              "solidity": 0.2
             }
            },
            "type": "bar"
           }
          ],
          "barpolar": [
           {
            "marker": {
             "line": {
              "color": "#E5ECF6",
              "width": 0.5
             },
             "pattern": {
              "fillmode": "overlay",
              "size": 10,
              "solidity": 0.2
             }
            },
            "type": "barpolar"
           }
          ],
          "carpet": [
           {
            "aaxis": {
             "endlinecolor": "#2a3f5f",
             "gridcolor": "white",
             "linecolor": "white",
             "minorgridcolor": "white",
             "startlinecolor": "#2a3f5f"
            },
            "baxis": {
             "endlinecolor": "#2a3f5f",
             "gridcolor": "white",
             "linecolor": "white",
             "minorgridcolor": "white",
             "startlinecolor": "#2a3f5f"
            },
            "type": "carpet"
           }
          ],
          "choropleth": [
           {
            "colorbar": {
             "outlinewidth": 0,
             "ticks": ""
            },
            "type": "choropleth"
           }
          ],
          "contour": [
           {
            "colorbar": {
             "outlinewidth": 0,
             "ticks": ""
            },
            "colorscale": [
             [
              0,
              "#0d0887"
             ],
             [
              0.1111111111111111,
              "#46039f"
             ],
             [
              0.2222222222222222,
              "#7201a8"
             ],
             [
              0.3333333333333333,
              "#9c179e"
             ],
             [
              0.4444444444444444,
              "#bd3786"
             ],
             [
              0.5555555555555556,
              "#d8576b"
             ],
             [
              0.6666666666666666,
              "#ed7953"
             ],
             [
              0.7777777777777778,
              "#fb9f3a"
             ],
             [
              0.8888888888888888,
              "#fdca26"
             ],
             [
              1,
              "#f0f921"
             ]
            ],
            "type": "contour"
           }
          ],
          "contourcarpet": [
           {
            "colorbar": {
             "outlinewidth": 0,
             "ticks": ""
            },
            "type": "contourcarpet"
           }
          ],
          "heatmap": [
           {
            "colorbar": {
             "outlinewidth": 0,
             "ticks": ""
            },
            "colorscale": [
             [
              0,
              "#0d0887"
             ],
             [
              0.1111111111111111,
              "#46039f"
             ],
             [
              0.2222222222222222,
              "#7201a8"
             ],
             [
              0.3333333333333333,
              "#9c179e"
             ],
             [
              0.4444444444444444,
              "#bd3786"
             ],
             [
              0.5555555555555556,
              "#d8576b"
             ],
             [
              0.6666666666666666,
              "#ed7953"
             ],
             [
              0.7777777777777778,
              "#fb9f3a"
             ],
             [
              0.8888888888888888,
              "#fdca26"
             ],
             [
              1,
              "#f0f921"
             ]
            ],
            "type": "heatmap"
           }
          ],
          "heatmapgl": [
           {
            "colorbar": {
             "outlinewidth": 0,
             "ticks": ""
            },
            "colorscale": [
             [
              0,
              "#0d0887"
             ],
             [
              0.1111111111111111,
              "#46039f"
             ],
             [
              0.2222222222222222,
              "#7201a8"
             ],
             [
              0.3333333333333333,
              "#9c179e"
             ],
             [
              0.4444444444444444,
              "#bd3786"
             ],
             [
              0.5555555555555556,
              "#d8576b"
             ],
             [
              0.6666666666666666,
              "#ed7953"
             ],
             [
              0.7777777777777778,
              "#fb9f3a"
             ],
             [
              0.8888888888888888,
              "#fdca26"
             ],
             [
              1,
              "#f0f921"
             ]
            ],
            "type": "heatmapgl"
           }
          ],
          "histogram": [
           {
            "marker": {
             "pattern": {
              "fillmode": "overlay",
              "size": 10,
              "solidity": 0.2
             }
            },
            "type": "histogram"
           }
          ],
          "histogram2d": [
           {
            "colorbar": {
             "outlinewidth": 0,
             "ticks": ""
            },
            "colorscale": [
             [
              0,
              "#0d0887"
             ],
             [
              0.1111111111111111,
              "#46039f"
             ],
             [
              0.2222222222222222,
              "#7201a8"
             ],
             [
              0.3333333333333333,
              "#9c179e"
             ],
             [
              0.4444444444444444,
              "#bd3786"
             ],
             [
              0.5555555555555556,
              "#d8576b"
             ],
             [
              0.6666666666666666,
              "#ed7953"
             ],
             [
              0.7777777777777778,
              "#fb9f3a"
             ],
             [
              0.8888888888888888,
              "#fdca26"
             ],
             [
              1,
              "#f0f921"
             ]
            ],
            "type": "histogram2d"
           }
          ],
          "histogram2dcontour": [
           {
            "colorbar": {
             "outlinewidth": 0,
             "ticks": ""
            },
            "colorscale": [
             [
              0,
              "#0d0887"
             ],
             [
              0.1111111111111111,
              "#46039f"
             ],
             [
              0.2222222222222222,
              "#7201a8"
             ],
             [
              0.3333333333333333,
              "#9c179e"
             ],
             [
              0.4444444444444444,
              "#bd3786"
             ],
             [
              0.5555555555555556,
              "#d8576b"
             ],
             [
              0.6666666666666666,
              "#ed7953"
             ],
             [
              0.7777777777777778,
              "#fb9f3a"
             ],
             [
              0.8888888888888888,
              "#fdca26"
             ],
             [
              1,
              "#f0f921"
             ]
            ],
            "type": "histogram2dcontour"
           }
          ],
          "mesh3d": [
           {
            "colorbar": {
             "outlinewidth": 0,
             "ticks": ""
            },
            "type": "mesh3d"
           }
          ],
          "parcoords": [
           {
            "line": {
             "colorbar": {
              "outlinewidth": 0,
              "ticks": ""
             }
            },
            "type": "parcoords"
           }
          ],
          "pie": [
           {
            "automargin": true,
            "type": "pie"
           }
          ],
          "scatter": [
           {
            "fillpattern": {
             "fillmode": "overlay",
             "size": 10,
             "solidity": 0.2
            },
            "type": "scatter"
           }
          ],
          "scatter3d": [
           {
            "line": {
             "colorbar": {
              "outlinewidth": 0,
              "ticks": ""
             }
            },
            "marker": {
             "colorbar": {
              "outlinewidth": 0,
              "ticks": ""
             }
            },
            "type": "scatter3d"
           }
          ],
          "scattercarpet": [
           {
            "marker": {
             "colorbar": {
              "outlinewidth": 0,
              "ticks": ""
             }
            },
            "type": "scattercarpet"
           }
          ],
          "scattergeo": [
           {
            "marker": {
             "colorbar": {
              "outlinewidth": 0,
              "ticks": ""
             }
            },
            "type": "scattergeo"
           }
          ],
          "scattergl": [
           {
            "marker": {
             "colorbar": {
              "outlinewidth": 0,
              "ticks": ""
             }
            },
            "type": "scattergl"
           }
          ],
          "scattermapbox": [
           {
            "marker": {
             "colorbar": {
              "outlinewidth": 0,
              "ticks": ""
             }
            },
            "type": "scattermapbox"
           }
          ],
          "scatterpolar": [
           {
            "marker": {
             "colorbar": {
              "outlinewidth": 0,
              "ticks": ""
             }
            },
            "type": "scatterpolar"
           }
          ],
          "scatterpolargl": [
           {
            "marker": {
             "colorbar": {
              "outlinewidth": 0,
              "ticks": ""
             }
            },
            "type": "scatterpolargl"
           }
          ],
          "scatterternary": [
           {
            "marker": {
             "colorbar": {
              "outlinewidth": 0,
              "ticks": ""
             }
            },
            "type": "scatterternary"
           }
          ],
          "surface": [
           {
            "colorbar": {
             "outlinewidth": 0,
             "ticks": ""
            },
            "colorscale": [
             [
              0,
              "#0d0887"
             ],
             [
              0.1111111111111111,
              "#46039f"
             ],
             [
              0.2222222222222222,
              "#7201a8"
             ],
             [
              0.3333333333333333,
              "#9c179e"
             ],
             [
              0.4444444444444444,
              "#bd3786"
             ],
             [
              0.5555555555555556,
              "#d8576b"
             ],
             [
              0.6666666666666666,
              "#ed7953"
             ],
             [
              0.7777777777777778,
              "#fb9f3a"
             ],
             [
              0.8888888888888888,
              "#fdca26"
             ],
             [
              1,
              "#f0f921"
             ]
            ],
            "type": "surface"
           }
          ],
          "table": [
           {
            "cells": {
             "fill": {
              "color": "#EBF0F8"
             },
             "line": {
              "color": "white"
             }
            },
            "header": {
             "fill": {
              "color": "#C8D4E3"
             },
             "line": {
              "color": "white"
             }
            },
            "type": "table"
           }
          ]
         },
         "layout": {
          "annotationdefaults": {
           "arrowcolor": "#2a3f5f",
           "arrowhead": 0,
           "arrowwidth": 1
          },
          "autotypenumbers": "strict",
          "coloraxis": {
           "colorbar": {
            "outlinewidth": 0,
            "ticks": ""
           }
          },
          "colorscale": {
           "diverging": [
            [
             0,
             "#8e0152"
            ],
            [
             0.1,
             "#c51b7d"
            ],
            [
             0.2,
             "#de77ae"
            ],
            [
             0.3,
             "#f1b6da"
            ],
            [
             0.4,
             "#fde0ef"
            ],
            [
             0.5,
             "#f7f7f7"
            ],
            [
             0.6,
             "#e6f5d0"
            ],
            [
             0.7,
             "#b8e186"
            ],
            [
             0.8,
             "#7fbc41"
            ],
            [
             0.9,
             "#4d9221"
            ],
            [
             1,
             "#276419"
            ]
           ],
           "sequential": [
            [
             0,
             "#0d0887"
            ],
            [
             0.1111111111111111,
             "#46039f"
            ],
            [
             0.2222222222222222,
             "#7201a8"
            ],
            [
             0.3333333333333333,
             "#9c179e"
            ],
            [
             0.4444444444444444,
             "#bd3786"
            ],
            [
             0.5555555555555556,
             "#d8576b"
            ],
            [
             0.6666666666666666,
             "#ed7953"
            ],
            [
             0.7777777777777778,
             "#fb9f3a"
            ],
            [
             0.8888888888888888,
             "#fdca26"
            ],
            [
             1,
             "#f0f921"
            ]
           ],
           "sequentialminus": [
            [
             0,
             "#0d0887"
            ],
            [
             0.1111111111111111,
             "#46039f"
            ],
            [
             0.2222222222222222,
             "#7201a8"
            ],
            [
             0.3333333333333333,
             "#9c179e"
            ],
            [
             0.4444444444444444,
             "#bd3786"
            ],
            [
             0.5555555555555556,
             "#d8576b"
            ],
            [
             0.6666666666666666,
             "#ed7953"
            ],
            [
             0.7777777777777778,
             "#fb9f3a"
            ],
            [
             0.8888888888888888,
             "#fdca26"
            ],
            [
             1,
             "#f0f921"
            ]
           ]
          },
          "colorway": [
           "#636efa",
           "#EF553B",
           "#00cc96",
           "#ab63fa",
           "#FFA15A",
           "#19d3f3",
           "#FF6692",
           "#B6E880",
           "#FF97FF",
           "#FECB52"
          ],
          "font": {
           "color": "#2a3f5f"
          },
          "geo": {
           "bgcolor": "white",
           "lakecolor": "white",
           "landcolor": "#E5ECF6",
           "showlakes": true,
           "showland": true,
           "subunitcolor": "white"
          },
          "hoverlabel": {
           "align": "left"
          },
          "hovermode": "closest",
          "mapbox": {
           "style": "light"
          },
          "paper_bgcolor": "white",
          "plot_bgcolor": "#E5ECF6",
          "polar": {
           "angularaxis": {
            "gridcolor": "white",
            "linecolor": "white",
            "ticks": ""
           },
           "bgcolor": "#E5ECF6",
           "radialaxis": {
            "gridcolor": "white",
            "linecolor": "white",
            "ticks": ""
           }
          },
          "scene": {
           "xaxis": {
            "backgroundcolor": "#E5ECF6",
            "gridcolor": "white",
            "gridwidth": 2,
            "linecolor": "white",
            "showbackground": true,
            "ticks": "",
            "zerolinecolor": "white"
           },
           "yaxis": {
            "backgroundcolor": "#E5ECF6",
            "gridcolor": "white",
            "gridwidth": 2,
            "linecolor": "white",
            "showbackground": true,
            "ticks": "",
            "zerolinecolor": "white"
           },
           "zaxis": {
            "backgroundcolor": "#E5ECF6",
            "gridcolor": "white",
            "gridwidth": 2,
            "linecolor": "white",
            "showbackground": true,
            "ticks": "",
            "zerolinecolor": "white"
           }
          },
          "shapedefaults": {
           "line": {
            "color": "#2a3f5f"
           }
          },
          "ternary": {
           "aaxis": {
            "gridcolor": "white",
            "linecolor": "white",
            "ticks": ""
           },
           "baxis": {
            "gridcolor": "white",
            "linecolor": "white",
            "ticks": ""
           },
           "bgcolor": "#E5ECF6",
           "caxis": {
            "gridcolor": "white",
            "linecolor": "white",
            "ticks": ""
           }
          },
          "title": {
           "x": 0.05
          },
          "xaxis": {
           "automargin": true,
           "gridcolor": "white",
           "linecolor": "white",
           "ticks": "",
           "title": {
            "standoff": 15
           },
           "zerolinecolor": "white",
           "zerolinewidth": 2
          },
          "yaxis": {
           "automargin": true,
           "gridcolor": "white",
           "linecolor": "white",
           "ticks": "",
           "title": {
            "standoff": 15
           },
           "zerolinecolor": "white",
           "zerolinewidth": 2
          }
         }
        },
        "title": {
         "text": "2D Vector Space of Test Examples"
        },
        "xaxis": {
         "anchor": "y",
         "domain": [
          0,
          1
         ],
         "title": {
          "text": "x"
         }
        },
        "yaxis": {
         "anchor": "x",
         "domain": [
          0,
          1
         ],
         "title": {
          "text": "y"
         }
        }
       }
      }
     },
     "metadata": {},
     "output_type": "display_data"
    }
   ],
   "source": [
    "embeddings, labels, tokens = get_embeddings(test_dataset, model, tokenizer)\n",
    "reducer = TSNE(n_components=2, random_state=42)\n",
    "reduced_embeddings = reducer.fit_transform(embeddings)\n",
    "\n",
    "\n",
    "df = pd.DataFrame({\n",
    "    \"x\": reduced_embeddings[:, 0],\n",
    "    \"y\": reduced_embeddings[:, 1],\n",
    "    \"label\": labels,\n",
    "    \"token\": tokens\n",
    "})\n",
    "\n",
    "fig = px.scatter(\n",
    "    df, x=\"x\", y=\"y\", color=\"label\", hover_data=[\"token\"],\n",
    "    title=\"2D Vector Space of Test Examples\",\n",
    "    labels={\"color\": \"NER Label\"}\n",
    ")\n",
    "fig.show()"
   ]
  }
 ],
 "metadata": {
  "kernelspec": {
   "display_name": "myenv",
   "language": "python",
   "name": "python3"
  },
  "language_info": {
   "codemirror_mode": {
    "name": "ipython",
    "version": 3
   },
   "file_extension": ".py",
   "mimetype": "text/x-python",
   "name": "python",
   "nbconvert_exporter": "python",
   "pygments_lexer": "ipython3",
   "version": "3.10.15"
  }
 },
 "nbformat": 4,
 "nbformat_minor": 2
}
