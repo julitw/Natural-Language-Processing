{
 "cells": [
  {
   "cell_type": "markdown",
   "metadata": {},
   "source": [
    "# Strojenie modelu BERT-base na danych *cyberbullying*"
   ]
  },
  {
   "cell_type": "markdown",
   "metadata": {},
   "source": [
    "## Biblioteki"
   ]
  },
  {
   "cell_type": "code",
   "execution_count": 1,
   "metadata": {},
   "outputs": [
    {
     "name": "stdout",
     "output_type": "stream",
     "text": [
      "WARNING:tensorflow:From d:\\Python\\Lib\\site-packages\\tf_keras\\src\\losses.py:2976: The name tf.losses.sparse_softmax_cross_entropy is deprecated. Please use tf.compat.v1.losses.sparse_softmax_cross_entropy instead.\n",
      "\n"
     ]
    }
   ],
   "source": [
    "import pandas as pd\n",
    "import numpy as np\n",
    "import matplotlib.pyplot as plt\n",
    "from sklearn.model_selection import train_test_split\n",
    "from transformers import BertTokenizer, AutoTokenizer\n",
    "import torch\n",
    "from transformers import BertForSequenceClassification, BertForTokenClassification, Trainer, TrainingArguments,  DataCollatorWithPadding\n",
    "from sklearn.metrics import accuracy_score, f1_score, precision_recall_fscore_support, confusion_matrix\n",
    "from torch.utils.data import Dataset\n",
    "import matplotlib.pyplot as plt\n",
    "from sklearn.decomposition import PCA\n",
    "from sklearn.manifold import TSNE\n",
    "import plotly.express as px\n",
    "from sklearn.preprocessing import StandardScaler\n",
    "import kagglehub\n",
    "from datasets import Dataset, DatasetDict\n",
    "import json\n",
    "from excel2json import convert_from_file\n",
    "import seaborn as sns"
   ]
  },
  {
   "cell_type": "markdown",
   "metadata": {},
   "source": [
    "## Załadowanie danych"
   ]
  },
  {
   "cell_type": "code",
   "execution_count": 2,
   "metadata": {},
   "outputs": [
    {
     "name": "stdout",
     "output_type": "stream",
     "text": [
      "Using device: cuda\n"
     ]
    }
   ],
   "source": [
    "device = \"cuda\" if torch.cuda.is_available() else \"cpu\"\n",
    "print(f\"Using device: {device}\")"
   ]
  },
  {
   "cell_type": "markdown",
   "metadata": {},
   "source": [
    "### Teksty"
   ]
  },
  {
   "cell_type": "code",
   "execution_count": 3,
   "metadata": {},
   "outputs": [],
   "source": [
    "# path = kagglehub.dataset_download(\"waalbannyantudre/hate-speech-detection-curated-dataset\")\n",
    "\n",
    "# print(\"Path to dataset files:\", path)"
   ]
  },
  {
   "cell_type": "code",
   "execution_count": 4,
   "metadata": {},
   "outputs": [
    {
     "data": {
      "text/html": [
       "<div>\n",
       "<style scoped>\n",
       "    .dataframe tbody tr th:only-of-type {\n",
       "        vertical-align: middle;\n",
       "    }\n",
       "\n",
       "    .dataframe tbody tr th {\n",
       "        vertical-align: top;\n",
       "    }\n",
       "\n",
       "    .dataframe thead th {\n",
       "        text-align: right;\n",
       "    }\n",
       "</style>\n",
       "<table border=\"1\" class=\"dataframe\">\n",
       "  <thead>\n",
       "    <tr style=\"text-align: right;\">\n",
       "      <th></th>\n",
       "      <th>Label</th>\n",
       "      <th>text</th>\n",
       "    </tr>\n",
       "  </thead>\n",
       "  <tbody>\n",
       "    <tr>\n",
       "      <th>0</th>\n",
       "      <td>1</td>\n",
       "      <td>denial of normal the con be asked to comment o...</td>\n",
       "    </tr>\n",
       "    <tr>\n",
       "      <th>1</th>\n",
       "      <td>1</td>\n",
       "      <td>just by being able to tweet this insufferable ...</td>\n",
       "    </tr>\n",
       "    <tr>\n",
       "      <th>2</th>\n",
       "      <td>1</td>\n",
       "      <td>that is retarded you too cute to be single tha...</td>\n",
       "    </tr>\n",
       "    <tr>\n",
       "      <th>3</th>\n",
       "      <td>1</td>\n",
       "      <td>thought of a real badass mongol style declarat...</td>\n",
       "    </tr>\n",
       "    <tr>\n",
       "      <th>4</th>\n",
       "      <td>1</td>\n",
       "      <td>afro american basho</td>\n",
       "    </tr>\n",
       "  </tbody>\n",
       "</table>\n",
       "</div>"
      ],
      "text/plain": [
       "  Label                                               text\n",
       "0     1  denial of normal the con be asked to comment o...\n",
       "1     1  just by being able to tweet this insufferable ...\n",
       "2     1  that is retarded you too cute to be single tha...\n",
       "3     1  thought of a real badass mongol style declarat...\n",
       "4     1                                afro american basho"
      ]
     },
     "metadata": {},
     "output_type": "display_data"
    }
   ],
   "source": [
    "df = pd.read_csv('HateSpeechDataset.csv')\n",
    "df['text'] = df['Content']\n",
    "df = df.drop(columns=['Content_int', 'Content'])\n",
    "df = df[df['Label'] != 'Label']\n",
    "display(df.head())"
   ]
  },
  {
   "cell_type": "code",
   "execution_count": 5,
   "metadata": {},
   "outputs": [],
   "source": [
    "texts_train, texts_test, text_labels_train, text_labels_test = train_test_split(\n",
    "    df['text'], df['Label'], test_size=0.2, random_state=42\n",
    ")"
   ]
  },
  {
   "cell_type": "code",
   "execution_count": 6,
   "metadata": {},
   "outputs": [],
   "source": [
    "df_train = pd.DataFrame()\n",
    "df_train['text'] = texts_train\n",
    "df_train['LABEL'] = text_labels_train\n",
    "\n",
    "df_test = pd.DataFrame()\n",
    "df_test['text'] = texts_test\n",
    "df_test['LABEL'] = text_labels_test"
   ]
  },
  {
   "cell_type": "code",
   "execution_count": 7,
   "metadata": {},
   "outputs": [
    {
     "name": "stderr",
     "output_type": "stream",
     "text": [
      "C:\\Users\\DELL\\AppData\\Local\\Temp\\ipykernel_7548\\4132669510.py:5: DeprecationWarning: DataFrameGroupBy.apply operated on the grouping columns. This behavior is deprecated, and in a future version of pandas the grouping columns will be excluded from the operation. Either pass `include_groups=False` to exclude the groupings or explicitly select the grouping columns after groupby to silence this warning.\n",
      "  df_train_balanced = df_train.groupby('LABEL').apply(lambda x: x.sample(min_class_count_train)).reset_index(drop=True)\n",
      "C:\\Users\\DELL\\AppData\\Local\\Temp\\ipykernel_7548\\4132669510.py:6: DeprecationWarning: DataFrameGroupBy.apply operated on the grouping columns. This behavior is deprecated, and in a future version of pandas the grouping columns will be excluded from the operation. Either pass `include_groups=False` to exclude the groupings or explicitly select the grouping columns after groupby to silence this warning.\n",
      "  df_test_balanced = df_test.groupby('LABEL').apply(lambda x: x.sample(min_class_count_test)).reset_index(drop=True)\n"
     ]
    }
   ],
   "source": [
    "# min_class_count = df_train['LABEL'].value_counts().min()\n",
    "min_class_count_train = 1000\n",
    "min_class_count_test = 500\n",
    "\n",
    "df_train_balanced = df_train.groupby('LABEL').apply(lambda x: x.sample(min_class_count_train)).reset_index(drop=True)\n",
    "df_test_balanced = df_test.groupby('LABEL').apply(lambda x: x.sample(min_class_count_test)).reset_index(drop=True)"
   ]
  },
  {
   "cell_type": "code",
   "execution_count": 8,
   "metadata": {},
   "outputs": [],
   "source": [
    "train_json = df_train_balanced.to_json(orient='records')\n",
    "test_json = df_test_balanced.to_json(orient='records')\n",
    "\n",
    "\n",
    "train_dataset = Dataset.from_list(json.loads(train_json))\n",
    "test_dataset = Dataset.from_list(json.loads(test_json))\n",
    "\n",
    "\n",
    "dataset = DatasetDict({\n",
    "    'train': train_dataset,\n",
    "    'test': test_dataset\n",
    "})"
   ]
  },
  {
   "cell_type": "code",
   "execution_count": 9,
   "metadata": {},
   "outputs": [
    {
     "name": "stdout",
     "output_type": "stream",
     "text": [
      "Dataset({\n",
      "    features: ['text', 'LABEL'],\n",
      "    num_rows: 2000\n",
      "})\n"
     ]
    }
   ],
   "source": [
    "print(dataset['train'])"
   ]
  },
  {
   "cell_type": "code",
   "execution_count": 10,
   "metadata": {},
   "outputs": [
    {
     "name": "stdout",
     "output_type": "stream",
     "text": [
      "Dataset({\n",
      "    features: ['text', 'LABEL'],\n",
      "    num_rows: 1000\n",
      "})\n"
     ]
    }
   ],
   "source": [
    "print(dataset['test'])"
   ]
  },
  {
   "cell_type": "code",
   "execution_count": 11,
   "metadata": {},
   "outputs": [
    {
     "name": "stdout",
     "output_type": "stream",
     "text": [
      "TEXT: hey do you think whatever are going to get into a fight between european countries about whom all are going to get those guantanamo prisoners \n",
      "LABEL: 0\n",
      "\n",
      "TEXT: did not i give you my myspace \n",
      "LABEL: 0\n",
      "\n",
      "TEXT: wine chill thank god shit week \n",
      "LABEL: 0\n",
      "\n",
      "TEXT: main page i think whoever is really writing this article should try to get it featured on the main page before the election because after the election who cares \n",
      "LABEL: 0\n",
      "\n",
      "TEXT: blocked per wikipediarequests for check user case europa and the related sock puppetry reports \n",
      "LABEL: 0\n",
      "\n"
     ]
    }
   ],
   "source": [
    "for entry in dataset['train'].select(range(5)):\n",
    "    print('TEXT: {} \\nLABEL: {}\\n'.format(entry['text'], entry['LABEL']))"
   ]
  },
  {
   "cell_type": "code",
   "execution_count": 12,
   "metadata": {},
   "outputs": [
    {
     "data": {
      "text/html": [
       "<div>\n",
       "<style scoped>\n",
       "    .dataframe tbody tr th:only-of-type {\n",
       "        vertical-align: middle;\n",
       "    }\n",
       "\n",
       "    .dataframe tbody tr th {\n",
       "        vertical-align: top;\n",
       "    }\n",
       "\n",
       "    .dataframe thead th {\n",
       "        text-align: right;\n",
       "    }\n",
       "</style>\n",
       "<table border=\"1\" class=\"dataframe\">\n",
       "  <thead>\n",
       "    <tr style=\"text-align: right;\">\n",
       "      <th></th>\n",
       "      <th>Sentiment</th>\n",
       "      <th>train_set</th>\n",
       "      <th>test_set</th>\n",
       "    </tr>\n",
       "  </thead>\n",
       "  <tbody>\n",
       "    <tr>\n",
       "      <th>0</th>\n",
       "      <td>0</td>\n",
       "      <td>1000</td>\n",
       "      <td>500</td>\n",
       "    </tr>\n",
       "    <tr>\n",
       "      <th>1</th>\n",
       "      <td>1</td>\n",
       "      <td>1000</td>\n",
       "      <td>500</td>\n",
       "    </tr>\n",
       "  </tbody>\n",
       "</table>\n",
       "</div>"
      ],
      "text/plain": [
       "  Sentiment  train_set  test_set\n",
       "0         0       1000       500\n",
       "1         1       1000       500"
      ]
     },
     "metadata": {},
     "output_type": "display_data"
    }
   ],
   "source": [
    "train_counts = pd.DataFrame({'Sentiment': dataset['train']['LABEL']})\n",
    "train_counts = train_counts.groupby('Sentiment').size().reset_index(name='train_set')\n",
    "\n",
    "test_counts = pd.DataFrame({'Sentiment': dataset['test']['LABEL']})\n",
    "test_counts = test_counts.groupby('Sentiment').size().reset_index(name='test_set')\n",
    "\n",
    "display(train_counts.merge(test_counts, on='Sentiment'))"
   ]
  },
  {
   "cell_type": "markdown",
   "metadata": {},
   "source": [
    "## Strojenie modelu dla zadania klasyfikacji tekstu"
   ]
  },
  {
   "cell_type": "code",
   "execution_count": 28,
   "metadata": {},
   "outputs": [
    {
     "name": "stderr",
     "output_type": "stream",
     "text": [
      "Some weights of BertForSequenceClassification were not initialized from the model checkpoint at bert-base-uncased and are newly initialized: ['classifier.bias', 'classifier.weight']\n",
      "You should probably TRAIN this model on a down-stream task to be able to use it for predictions and inference.\n"
     ]
    }
   ],
   "source": [
    "sorted_labels = sorted(set(dataset['train']['LABEL']))\n",
    "label2id = dict(zip(sorted_labels, range(0, len(sorted_labels))))\n",
    "id2label = dict(zip(range(0, len(sorted_labels)), sorted_labels))\n",
    "\n",
    "tokenizer = AutoTokenizer.from_pretrained(\"bert-base-uncased\")\n",
    "model = BertForSequenceClassification.from_pretrained(\"bert-base-uncased\",\n",
    "                                                                    num_labels=len(label2id),\n",
    "                                                                    label2id=label2id,\n",
    "                                                                    id2label=id2label)"
   ]
  },
  {
   "cell_type": "code",
   "execution_count": 14,
   "metadata": {},
   "outputs": [
    {
     "data": {
      "application/vnd.jupyter.widget-view+json": {
       "model_id": "08d29006dc714fcda3aedfb7ced0b568",
       "version_major": 2,
       "version_minor": 0
      },
      "text/plain": [
       "Map:   0%|          | 0/2000 [00:00<?, ? examples/s]"
      ]
     },
     "metadata": {},
     "output_type": "display_data"
    },
    {
     "data": {
      "application/vnd.jupyter.widget-view+json": {
       "model_id": "4b90448a43b145129641ce64b2f7c956",
       "version_major": 2,
       "version_minor": 0
      },
      "text/plain": [
       "Map:   0%|          | 0/1000 [00:00<?, ? examples/s]"
      ]
     },
     "metadata": {},
     "output_type": "display_data"
    },
    {
     "name": "stdout",
     "output_type": "stream",
     "text": [
      "{'train': Dataset({\n",
      "    features: ['text', 'LABEL', 'input_ids', 'token_type_ids', 'attention_mask', 'label'],\n",
      "    num_rows: 2000\n",
      "}), 'test': Dataset({\n",
      "    features: ['text', 'LABEL', 'input_ids', 'token_type_ids', 'attention_mask', 'label'],\n",
      "    num_rows: 1000\n",
      "})}\n"
     ]
    }
   ],
   "source": [
    "def preprocess_function(examples):\n",
    "    \"\"\"Preprocess the dataset by returning tokenized examples.\"\"\"\n",
    "    tokens = tokenizer(examples[\"text\"], padding=\"max_length\", truncation=True)\n",
    "    tokens['label'] = [label2id[l] for l in examples[\"LABEL\"]]\n",
    "    return tokens\n",
    "\n",
    "splits = ['train', 'test']\n",
    "\n",
    "tokenized_ds = {} \n",
    "\n",
    "for split in splits:\n",
    "    tokenized_ds[split] = dataset[split].map(preprocess_function, batched=True)\n",
    "\n",
    "print(tokenized_ds)"
   ]
  },
  {
   "cell_type": "code",
   "execution_count": 15,
   "metadata": {},
   "outputs": [
    {
     "name": "stdout",
     "output_type": "stream",
     "text": [
      "A tokenized training input example:\n",
      "[101, 4931, 2079, 2017, 2228, 3649, 2024, 2183, 2000, 2131, 2046, 1037, 2954, 2090, 2647, 3032, 2055, 3183, 2035, 2024, 2183, 2000, 2131, 2216, 23094, 5895, 102, 0, 0, 0, 0, 0, 0, 0, 0, 0, 0, 0, 0, 0, 0, 0, 0, 0, 0, 0, 0, 0, 0, 0, 0, 0, 0, 0, 0, 0, 0, 0, 0, 0, 0, 0, 0, 0, 0, 0, 0, 0, 0, 0, 0, 0, 0, 0, 0, 0, 0, 0, 0, 0, 0, 0, 0, 0, 0, 0, 0, 0, 0, 0, 0, 0, 0, 0, 0, 0, 0, 0, 0, 0, 0, 0, 0, 0, 0, 0, 0, 0, 0, 0, 0, 0, 0, 0, 0, 0, 0, 0, 0, 0, 0, 0, 0, 0, 0, 0, 0, 0, 0, 0, 0, 0, 0, 0, 0, 0, 0, 0, 0, 0, 0, 0, 0, 0, 0, 0, 0, 0, 0, 0, 0, 0, 0, 0, 0, 0, 0, 0, 0, 0, 0, 0, 0, 0, 0, 0, 0, 0, 0, 0, 0, 0, 0, 0, 0, 0, 0, 0, 0, 0, 0, 0, 0, 0, 0, 0, 0, 0, 0, 0, 0, 0, 0, 0, 0, 0, 0, 0, 0, 0, 0, 0, 0, 0, 0, 0, 0, 0, 0, 0, 0, 0, 0, 0, 0, 0, 0, 0, 0, 0, 0, 0, 0, 0, 0, 0, 0, 0, 0, 0, 0, 0, 0, 0, 0, 0, 0, 0, 0, 0, 0, 0, 0, 0, 0, 0, 0, 0, 0, 0, 0, 0, 0, 0, 0, 0, 0, 0, 0, 0, 0, 0, 0, 0, 0, 0, 0, 0, 0, 0, 0, 0, 0, 0, 0, 0, 0, 0, 0, 0, 0, 0, 0, 0, 0, 0, 0, 0, 0, 0, 0, 0, 0, 0, 0, 0, 0, 0, 0, 0, 0, 0, 0, 0, 0, 0, 0, 0, 0, 0, 0, 0, 0, 0, 0, 0, 0, 0, 0, 0, 0, 0, 0, 0, 0, 0, 0, 0, 0, 0, 0, 0, 0, 0, 0, 0, 0, 0, 0, 0, 0, 0, 0, 0, 0, 0, 0, 0, 0, 0, 0, 0, 0, 0, 0, 0, 0, 0, 0, 0, 0, 0, 0, 0, 0, 0, 0, 0, 0, 0, 0, 0, 0, 0, 0, 0, 0, 0, 0, 0, 0, 0, 0, 0, 0, 0, 0, 0, 0, 0, 0, 0, 0, 0, 0, 0, 0, 0, 0, 0, 0, 0, 0, 0, 0, 0, 0, 0, 0, 0, 0, 0, 0, 0, 0, 0, 0, 0, 0, 0, 0, 0, 0, 0, 0, 0, 0, 0, 0, 0, 0, 0, 0, 0, 0, 0, 0, 0, 0, 0, 0, 0, 0, 0, 0, 0, 0, 0, 0, 0, 0, 0, 0, 0, 0, 0, 0, 0, 0, 0, 0, 0, 0, 0, 0, 0, 0, 0, 0, 0, 0, 0, 0, 0, 0, 0, 0, 0, 0, 0, 0, 0, 0, 0, 0, 0, 0, 0, 0, 0, 0, 0, 0, 0, 0, 0, 0, 0, 0, 0, 0, 0, 0, 0, 0, 0, 0, 0, 0, 0, 0, 0]\n",
      "\n",
      "\n",
      "A tokenized training label example:\n",
      "0\n",
      "[1, 1, 1, 1, 1, 1, 1, 1, 1, 1, 1, 1, 1, 1, 1, 1, 1, 1, 1, 1, 1, 1, 1, 1, 1, 1, 1, 0, 0, 0, 0, 0, 0, 0, 0, 0, 0, 0, 0, 0, 0, 0, 0, 0, 0, 0, 0, 0, 0, 0, 0, 0, 0, 0, 0, 0, 0, 0, 0, 0, 0, 0, 0, 0, 0, 0, 0, 0, 0, 0, 0, 0, 0, 0, 0, 0, 0, 0, 0, 0, 0, 0, 0, 0, 0, 0, 0, 0, 0, 0, 0, 0, 0, 0, 0, 0, 0, 0, 0, 0, 0, 0, 0, 0, 0, 0, 0, 0, 0, 0, 0, 0, 0, 0, 0, 0, 0, 0, 0, 0, 0, 0, 0, 0, 0, 0, 0, 0, 0, 0, 0, 0, 0, 0, 0, 0, 0, 0, 0, 0, 0, 0, 0, 0, 0, 0, 0, 0, 0, 0, 0, 0, 0, 0, 0, 0, 0, 0, 0, 0, 0, 0, 0, 0, 0, 0, 0, 0, 0, 0, 0, 0, 0, 0, 0, 0, 0, 0, 0, 0, 0, 0, 0, 0, 0, 0, 0, 0, 0, 0, 0, 0, 0, 0, 0, 0, 0, 0, 0, 0, 0, 0, 0, 0, 0, 0, 0, 0, 0, 0, 0, 0, 0, 0, 0, 0, 0, 0, 0, 0, 0, 0, 0, 0, 0, 0, 0, 0, 0, 0, 0, 0, 0, 0, 0, 0, 0, 0, 0, 0, 0, 0, 0, 0, 0, 0, 0, 0, 0, 0, 0, 0, 0, 0, 0, 0, 0, 0, 0, 0, 0, 0, 0, 0, 0, 0, 0, 0, 0, 0, 0, 0, 0, 0, 0, 0, 0, 0, 0, 0, 0, 0, 0, 0, 0, 0, 0, 0, 0, 0, 0, 0, 0, 0, 0, 0, 0, 0, 0, 0, 0, 0, 0, 0, 0, 0, 0, 0, 0, 0, 0, 0, 0, 0, 0, 0, 0, 0, 0, 0, 0, 0, 0, 0, 0, 0, 0, 0, 0, 0, 0, 0, 0, 0, 0, 0, 0, 0, 0, 0, 0, 0, 0, 0, 0, 0, 0, 0, 0, 0, 0, 0, 0, 0, 0, 0, 0, 0, 0, 0, 0, 0, 0, 0, 0, 0, 0, 0, 0, 0, 0, 0, 0, 0, 0, 0, 0, 0, 0, 0, 0, 0, 0, 0, 0, 0, 0, 0, 0, 0, 0, 0, 0, 0, 0, 0, 0, 0, 0, 0, 0, 0, 0, 0, 0, 0, 0, 0, 0, 0, 0, 0, 0, 0, 0, 0, 0, 0, 0, 0, 0, 0, 0, 0, 0, 0, 0, 0, 0, 0, 0, 0, 0, 0, 0, 0, 0, 0, 0, 0, 0, 0, 0, 0, 0, 0, 0, 0, 0, 0, 0, 0, 0, 0, 0, 0, 0, 0, 0, 0, 0, 0, 0, 0, 0, 0, 0, 0, 0, 0, 0, 0, 0, 0, 0, 0, 0, 0, 0, 0, 0, 0, 0, 0, 0, 0, 0, 0, 0, 0, 0, 0, 0, 0, 0, 0, 0, 0, 0, 0, 0, 0, 0, 0, 0, 0, 0, 0, 0, 0, 0, 0]\n"
     ]
    }
   ],
   "source": [
    "print(\"A tokenized training input example:\")\n",
    "print(tokenized_ds[\"train\"][0][\"input_ids\"])\n",
    "print(\"\\n\")\n",
    "print(\"A tokenized training label example:\")\n",
    "print(tokenized_ds[\"train\"][0][\"label\"])\n",
    "print(tokenized_ds[\"train\"][0]['attention_mask'])"
   ]
  },
  {
   "cell_type": "code",
   "execution_count": null,
   "metadata": {},
   "outputs": [],
   "source": [
    "def compute_metrics(eval_pred):\n",
    "    predictions, labels = eval_pred\n",
    "    predictions = np.argmax(predictions, axis=1)\n",
    "    return {\"accuracy\": (predictions == labels).mean()*100, \"f1\": f1_score(labels, predictions, labels=[0, 1], pos_label=1)}\n",
    "\n",
    "\n",
    "\n",
    "# trainer = Trainer(\n",
    "#     model=model,\n",
    "#     args=TrainingArguments(\n",
    "#         output_dir=\"bert-lora\",\n",
    "#         learning_rate=2e-3,\n",
    "#         # Reduce the batch size if you don't have enough memory\n",
    "#         per_device_train_batch_size=2,\n",
    "#         per_device_eval_batch_size=2,\n",
    "#         num_train_epochs=1,\n",
    "#         weight_decay=0.01,\n",
    "#         evaluation_strategy=\"epoch\",\n",
    "#         save_strategy=\"epoch\",\n",
    "#         load_best_model_at_end=True,\n",
    "#     ),\n",
    "#     train_dataset=tokenized_ds[\"train\"],\n",
    "#     eval_dataset=tokenized_ds[\"test\"],\n",
    "#     tokenizer=tokenizer,\n",
    "#     data_collator=DataCollatorWithPadding(tokenizer=tokenizer),\n",
    "#     compute_metrics=compute_metrics,\n",
    "# )\n",
    "\n",
    "# print(\"Starting to train...\")\n",
    "# trainer.train()"
   ]
  },
  {
   "cell_type": "code",
   "execution_count": 17,
   "metadata": {},
   "outputs": [],
   "source": [
    "# noun_model_path = 'sentence_model-weights/'\n",
    "# model.save_pretrained(noun_model_path)"
   ]
  },
  {
   "cell_type": "markdown",
   "metadata": {},
   "source": [
    "#### PEFT-BERT"
   ]
  },
  {
   "cell_type": "code",
   "execution_count": 72,
   "metadata": {},
   "outputs": [],
   "source": [
    "from peft import LoraConfig, get_peft_model, TaskType\n",
    "\n",
    "# lora_config = LoraConfig(\n",
    "#     task_type=TaskType.SEQ_CLS,\n",
    "#     r=8,  # Mniejsza liczba parametrów do trenowania\n",
    "#     lora_alpha=16,\n",
    "#     lora_dropout=0.1\n",
    "# )\n",
    "\n",
    "# lora_config = LoraConfig(\n",
    "#     r=16,\n",
    "#     lora_alpha=32,\n",
    "#     target_modules=[\"query\", \"value\"],\n",
    "#     lora_dropout=0.05,\n",
    "#     bias=\"none\",\n",
    "#     task_type=TaskType.SEQ_CLS, # this is necessary\n",
    "#     inference_mode=True)\n",
    "\n",
    "\n",
    "lora_config = LoraConfig(\n",
    "    task_type=TaskType.SEQ_CLS, r=8, lora_alpha=1, lora_dropout=0.1\n",
    ")\n",
    "# 1, 1, 1\n",
    "\n",
    "model_2 = get_peft_model(model, lora_config)"
   ]
  },
  {
   "cell_type": "code",
   "execution_count": 73,
   "metadata": {},
   "outputs": [
    {
     "name": "stderr",
     "output_type": "stream",
     "text": [
      "d:\\Python\\Lib\\site-packages\\transformers\\training_args.py:1559: FutureWarning:\n",
      "\n",
      "`evaluation_strategy` is deprecated and will be removed in version 4.46 of 🤗 Transformers. Use `eval_strategy` instead\n",
      "\n",
      "C:\\Users\\DELL\\AppData\\Local\\Temp\\ipykernel_7548\\4108694946.py:1: FutureWarning:\n",
      "\n",
      "`tokenizer` is deprecated and will be removed in version 5.0.0 for `Trainer.__init__`. Use `processing_class` instead.\n",
      "\n"
     ]
    },
    {
     "name": "stdout",
     "output_type": "stream",
     "text": [
      "Starting to train...\n"
     ]
    },
    {
     "data": {
      "application/vnd.jupyter.widget-view+json": {
       "model_id": "c296d2dc583b40358a279189e3b70104",
       "version_major": 2,
       "version_minor": 0
      },
      "text/plain": [
       "  0%|          | 0/5000 [00:00<?, ?it/s]"
      ]
     },
     "metadata": {},
     "output_type": "display_data"
    },
    {
     "name": "stdout",
     "output_type": "stream",
     "text": [
      "{'loss': 0.8705, 'grad_norm': 0.1618676483631134, 'learning_rate': 0.0018000000000000002, 'epoch': 0.5}\n",
      "{'loss': 0.7256, 'grad_norm': 0.03846873715519905, 'learning_rate': 0.0016, 'epoch': 1.0}\n"
     ]
    },
    {
     "data": {
      "application/vnd.jupyter.widget-view+json": {
       "model_id": "2037fec993074a2185240873575e4ea5",
       "version_major": 2,
       "version_minor": 0
      },
      "text/plain": [
       "  0%|          | 0/500 [00:00<?, ?it/s]"
      ]
     },
     "metadata": {},
     "output_type": "display_data"
    },
    {
     "name": "stdout",
     "output_type": "stream",
     "text": [
      "{'eval_loss': 0.6621653437614441, 'eval_accuracy': 81.39999999999999, 'eval_f1': 0.8312159709618875, 'eval_runtime': 37.9605, 'eval_samples_per_second': 26.343, 'eval_steps_per_second': 13.172, 'epoch': 1.0}\n",
      "{'loss': 0.6164, 'grad_norm': 6.090638637542725, 'learning_rate': 0.0014, 'epoch': 1.5}\n",
      "{'loss': 0.5649, 'grad_norm': 0.5000209212303162, 'learning_rate': 0.0012, 'epoch': 2.0}\n"
     ]
    },
    {
     "data": {
      "application/vnd.jupyter.widget-view+json": {
       "model_id": "7c95965b5a68482b887775f20139d01e",
       "version_major": 2,
       "version_minor": 0
      },
      "text/plain": [
       "  0%|          | 0/500 [00:00<?, ?it/s]"
      ]
     },
     "metadata": {},
     "output_type": "display_data"
    },
    {
     "name": "stdout",
     "output_type": "stream",
     "text": [
      "{'eval_loss': 0.5224799513816833, 'eval_accuracy': 82.39999999999999, 'eval_f1': 0.8367346938775511, 'eval_runtime': 38.008, 'eval_samples_per_second': 26.31, 'eval_steps_per_second': 13.155, 'epoch': 2.0}\n",
      "{'loss': 0.4572, 'grad_norm': 0.2570779621601105, 'learning_rate': 0.001, 'epoch': 2.5}\n",
      "{'loss': 0.4538, 'grad_norm': 5.348005294799805, 'learning_rate': 0.0008, 'epoch': 3.0}\n"
     ]
    },
    {
     "data": {
      "application/vnd.jupyter.widget-view+json": {
       "model_id": "0d640a936cf7488388116310d0f219e1",
       "version_major": 2,
       "version_minor": 0
      },
      "text/plain": [
       "  0%|          | 0/500 [00:00<?, ?it/s]"
      ]
     },
     "metadata": {},
     "output_type": "display_data"
    },
    {
     "name": "stdout",
     "output_type": "stream",
     "text": [
      "{'eval_loss': 0.6984723806381226, 'eval_accuracy': 82.69999999999999, 'eval_f1': 0.8278606965174129, 'eval_runtime': 37.9788, 'eval_samples_per_second': 26.33, 'eval_steps_per_second': 13.165, 'epoch': 3.0}\n",
      "{'loss': 0.3696, 'grad_norm': 0.010761415585875511, 'learning_rate': 0.0006, 'epoch': 3.5}\n",
      "{'loss': 0.349, 'grad_norm': 0.2305784523487091, 'learning_rate': 0.0004, 'epoch': 4.0}\n"
     ]
    },
    {
     "data": {
      "application/vnd.jupyter.widget-view+json": {
       "model_id": "502bbf8b7a8644249fa1d900ea7fa1f8",
       "version_major": 2,
       "version_minor": 0
      },
      "text/plain": [
       "  0%|          | 0/500 [00:00<?, ?it/s]"
      ]
     },
     "metadata": {},
     "output_type": "display_data"
    },
    {
     "name": "stdout",
     "output_type": "stream",
     "text": [
      "{'eval_loss': 0.7941100001335144, 'eval_accuracy': 82.89999999999999, 'eval_f1': 0.8235294117647058, 'eval_runtime': 37.9408, 'eval_samples_per_second': 26.357, 'eval_steps_per_second': 13.178, 'epoch': 4.0}\n",
      "{'loss': 0.3311, 'grad_norm': 0.20046789944171906, 'learning_rate': 0.0002, 'epoch': 4.5}\n",
      "{'loss': 0.2331, 'grad_norm': 0.008772463537752628, 'learning_rate': 0.0, 'epoch': 5.0}\n"
     ]
    },
    {
     "data": {
      "application/vnd.jupyter.widget-view+json": {
       "model_id": "eabfc4ae291c441195348bc376f1a5c7",
       "version_major": 2,
       "version_minor": 0
      },
      "text/plain": [
       "  0%|          | 0/500 [00:00<?, ?it/s]"
      ]
     },
     "metadata": {},
     "output_type": "display_data"
    },
    {
     "name": "stdout",
     "output_type": "stream",
     "text": [
      "{'eval_loss': 0.7348750233650208, 'eval_accuracy': 84.39999999999999, 'eval_f1': 0.8514285714285714, 'eval_runtime': 38.0418, 'eval_samples_per_second': 26.287, 'eval_steps_per_second': 13.143, 'epoch': 5.0}\n",
      "{'train_runtime': 1100.3622, 'train_samples_per_second': 9.088, 'train_steps_per_second': 4.544, 'train_loss': 0.49712134399414065, 'epoch': 5.0}\n"
     ]
    },
    {
     "data": {
      "text/plain": [
       "TrainOutput(global_step=5000, training_loss=0.49712134399414065, metrics={'train_runtime': 1100.3622, 'train_samples_per_second': 9.088, 'train_steps_per_second': 4.544, 'total_flos': 2640217497600000.0, 'train_loss': 0.49712134399414065, 'epoch': 5.0})"
      ]
     },
     "execution_count": 73,
     "metadata": {},
     "output_type": "execute_result"
    }
   ],
   "source": [
    "trainer_2 = Trainer(\n",
    "    model=model_2,\n",
    "    args=TrainingArguments(\n",
    "        output_dir=\"bert-lora\",\n",
    "        learning_rate=2e-3,\n",
    "        per_device_train_batch_size=2,\n",
    "        per_device_eval_batch_size=2,\n",
    "        num_train_epochs=5,\n",
    "        weight_decay=0.01,\n",
    "        evaluation_strategy=\"epoch\",\n",
    "        save_strategy=\"epoch\",\n",
    "        load_best_model_at_end=True,\n",
    "    ),\n",
    "    train_dataset=tokenized_ds[\"train\"],\n",
    "    eval_dataset=tokenized_ds[\"test\"],\n",
    "    tokenizer=tokenizer,\n",
    "    data_collator=DataCollatorWithPadding(tokenizer=tokenizer),\n",
    "    compute_metrics=compute_metrics,\n",
    ")\n",
    "\n",
    "print(\"Starting to train...\")\n",
    "trainer_2.train()"
   ]
  },
  {
   "cell_type": "code",
   "execution_count": null,
   "metadata": {},
   "outputs": [],
   "source": [
    "model_path = 'pert_model-weights/'\n",
    "model_2.save_pretrained(model_path)"
   ]
  },
  {
   "cell_type": "markdown",
   "metadata": {},
   "source": [
    "## Ocena jakości predyckji"
   ]
  },
  {
   "cell_type": "markdown",
   "metadata": {},
   "source": [
    "### Teksty"
   ]
  },
  {
   "cell_type": "code",
   "execution_count": 74,
   "metadata": {},
   "outputs": [
    {
     "data": {
      "application/vnd.jupyter.widget-view+json": {
       "model_id": "3cbdcc984f3c4e0fa591bbd2a16b1a59",
       "version_major": 2,
       "version_minor": 0
      },
      "text/plain": [
       "  0%|          | 0/500 [00:00<?, ?it/s]"
      ]
     },
     "metadata": {},
     "output_type": "display_data"
    },
    {
     "name": "stdout",
     "output_type": "stream",
     "text": [
      "Wyniki:\n",
      "--------------------\n",
      "Test Loss: 0.5225\n",
      "Test Accuracy: 82.4000\n",
      "Test F1: 0.8367\n",
      "Test Runtime: 54.7493\n",
      "Test Samples Per Second: 18.2650\n",
      "Test Steps Per Second: 9.1330\n"
     ]
    }
   ],
   "source": [
    "predictions = trainer_2.predict(tokenized_ds['test'])\n",
    "\n",
    "predicted_labels = predictions.predictions.argmax(axis=1)  \n",
    "true_labels = predictions.label_ids \n",
    "metrics = predictions.metrics\n",
    "\n",
    "print(\"Wyniki:\")\n",
    "print(\"-\" * 20)\n",
    "for key, value in metrics.items():\n",
    "    print(f\"{key.replace('_', ' ').title()}: {value:.4f}\" if isinstance(value, float) else f\"{key.replace('_', ' ').title()}: {value}\")"
   ]
  },
  {
   "cell_type": "code",
   "execution_count": 75,
   "metadata": {},
   "outputs": [
    {
     "data": {
      "image/png": "[encoded data removed]",
      "text/plain": [
       "<Figure size 500x500 with 2 Axes>"
      ]
     },
     "metadata": {},
     "output_type": "display_data"
    }
   ],
   "source": [
    "conf_matrix = confusion_matrix(true_labels, predicted_labels)\n",
    "\n",
    "labels = np.unique(true_labels)  \n",
    "confusion_df = pd.DataFrame(conf_matrix, index=labels, columns=labels)\n",
    "\n",
    "plt.figure(figsize=(5, 5))\n",
    "sns.heatmap(confusion_df, annot=True, fmt='d', cmap='Blues', cbar=True,\n",
    "            xticklabels=labels, yticklabels=labels)\n",
    "plt.title('Macierz Konfuzji')\n",
    "plt.xlabel('Przewidywane Etykiety')\n",
    "plt.ylabel('Rzeczywiste Etykiety')\n",
    "plt.show()"
   ]
  },
  {
   "cell_type": "markdown",
   "metadata": {},
   "source": [
    "## Wizualizacja przestrzeni wektorowej"
   ]
  },
  {
   "cell_type": "markdown",
   "metadata": {},
   "source": [
    "### Teksty"
   ]
  },
  {
   "cell_type": "code",
   "execution_count": 76,
   "metadata": {},
   "outputs": [],
   "source": [
    "def embed_text(examples):\n",
    "    tokens = tokenizer(examples, padding=\"max_length\", truncation=True)\n",
    "    return tokens\n",
    "\n",
    "def wrap_text(text, width=40):\n",
    "    return '<br>'.join([text[i:i+width] for i in range(0, len(text), width)])\n"
   ]
  },
  {
   "cell_type": "code",
   "execution_count": 77,
   "metadata": {},
   "outputs": [],
   "source": [
    "text = pd.DataFrame(tokenized_ds['test']['text'], columns=['text'])\n",
    "text['text'] = text['text'].apply(wrap_text)\n",
    "\n",
    "embeddings = embed_text(dataset['test']['text'])"
   ]
  },
  {
   "cell_type": "markdown",
   "metadata": {},
   "source": [
    "#### PCA"
   ]
  },
  {
   "cell_type": "code",
   "execution_count": 78,
   "metadata": {},
   "outputs": [
    {
     "data": {
      "application/vnd.plotly.v1+json": {
       "config": {
        "plotlyServerURL": "https://plot.ly"
       },
       "data": [
        {
         "customdata": [
          [
           "bizbdnews not a reliable source the sour<br>ce for nearly the entire article is bizb<br>dnews com i cannot find the organization<br> on any list of accredited media in bang<br>ladesh it describes itself as made to lo<br>ok bad and edited by rashid hasan bull w<br>ho is also the registrant for the websit<br>e i cannot find any record of him workin<br>g in journalism bizbdnews advertises for<br> unpaid volunteer contributors roughly t<br>ranslated young budding writers who are <br>looking to play online or on the interne<br>t looking for a platform to express them<br>selves the following qualifications woul<br>d be required know how to type on the co<br>mputer have a general idea of what to wr<br>ite on the subject must have an interest<br> in writing and learning these are not t<br>he hallmarks of a professional source wi<br>th a reputation for fact checking and ac<br>curacy bizbdnews s english language cont<br>ent is largely republished press release<br>s and agency reports with the balance be<br>ing self published user generated the ci<br>ted bizbdnews com article does not fit w<br>ikipedia s definition of a reliable sour<br>ce and should not be used",
           0
          ],
          [
           "katie nikki over andre katt any day go p<br>romo girls mr",
           0
          ],
          [
           "anyone familiar at all with this article<br> by mango ataturk and the kurds from mid<br>dle eastern studies date",
           0
          ],
          [
           "goodsearchresult since you are tangentia<br>lly titillated by templates the instruct<br>ions at useralexnewartbot goodsearchresu<br>lt might provide material for you to gen<br>erate a template or two",
           0
          ],
          [
           "retweet you need one unamused face yesss<br> because i am not her boyfriend you my b<br>itch face with tears of joy face with te<br>ars of joy",
           0
          ],
          [
           "contemporary research a portion of the c<br>ontemporary research is a contribution f<br>rom a student in spring conservation bio<br>logy bill platt at louisiana state unive<br>rsity any feedback on the contribution b<br>y the community will be appreciated bjc",
           0
          ],
          [
           "i am soon hungry now i do not know of an<br>y right now haha i am eating grapes",
           0
          ],
          [
           "romanization for words of english origin<br> on the most talk page a discussion has <br>been started about including or not incl<br>uding romanizations for words of english<br> origin such as fainer fantasy in for th<br>e sake of simplicity i called this case <br>words of english origin more information<br> on semantics here over the course of a <br>month it has become apparent that both t<br>he parties proposing to include or not i<br>nclude those romanizations cannot be con<br>vinced by the arguments or guidelines br<br>ought up by the other side therefore a c<br>ompromise is trying to be found that wil<br>l satisfy both parties one suggestion on<br> a compromise has been given already but<br> it has not found unanimous agreement so<br> additional compromises are encouraged t<br>o be suggested one universally accepted <br>point what a slut to bring more users fr<br>om the affected projects in to help achi<br>eve consensus and you were one of those <br>selected in the process what this invita<br>tion is you should give feedback on the <br>first suggested compromise and are highl<br>y encouraged to provide other solutions <br>what this invitation is not this is not <br>a vote on including or excluding such ro<br>manizations this is not a vote on compro<br>mises either it would be highly apprecia<br>ted if you came over to the most talk pa<br>ge and helped find a solution thank you <br>in advance",
           0
          ],
          [
           "i love how beautiful gypsies are",
           0
          ],
          [
           "simple and his canal i put in the basics<br> here but there probably should be more <br>about complex financing technical diffic<br>ulties accusations of corruption especia<br>lly about how much city water what a slu<br>t used for sluicing and about how using <br>the legislation he himself had pushed th<br>rough he well have focused more on filli<br>ng marketable tidelands than on actually<br> building a canal perhaps the attempted <br>canal deserves an article of its own i a<br>m not sure there is already a bit more o<br>n this at regrading in seattle cutting t<br>hrough beacon hill",
           0
          ],
          [
           "indigenouspeoplesday right because these<br> redskins had a lot of queens right nomg<br> so funny",
           0
          ],
          [
           "night a sweet dreams",
           0
          ],
          [
           "to say i am in complete shock would be a<br>n understatement people do not know me a<br>s well as they think they do",
           0
          ],
          [
           "it is not possible to attack an anonymou<br>s internet protocol address especially o<br>ne which ironically claims a well known <br>national comic strip also cited in vario<br>us other places in wikipedia is",
           0
          ],
          [
           "texas wake up a socialist is mesmerizing<br> the weak minded in your state you are t<br>exas for crying out loud of all the plac<br>es that embody the american spirit of in<br>dividual freedom texas is the standard b<br>earer make a damn stand for your great s<br>enator savetexas",
           0
          ],
          [
           "this lotion is making my life miserable",
           0
          ],
          [
           "english is a proper word better question<br> how is a deliberate act a class of acci<br>dent",
           0
          ],
          [
           "oppose liberalism or classical liberalis<br>m should it be put that fascism opposes <br>liberalism or classical liberalism by sa<br>ying it opposes classical liberalism tha<br>t might imply that it does not oppose mo<br>dern liberalism",
           0
          ],
          [
           "one bullshit template email but nothing <br>solid this is my deletion",
           0
          ],
          [
           "request you ve seemed to be pretty reaso<br>nable throughout our debates and discuss<br>ions i am here asking if you have any su<br>ggestions about how to deal with dream f<br>ocus in a productive and positive manner<br> i am out of ideas at this point my impr<br>ession of things is that whatever have a<br> bigger group of editors thinking about <br>article rescue than whatever once did an<br>d i think that is probably a good thing <br>however i do not want uncivil debates to<br> dominate so i am just seeing if you hav<br>e any thoughts on this incidentally i di<br>d ask slim virgin twice to check my puck<br>ishness and i do not know if anything ev<br>er came of that dream focus apparently f<br>eels that i am a sock also having declar<br>ed as much to",
           0
          ],
          [
           "retweet i what a slut wearing bucket hat<br>s before you basic bitches",
           0
          ],
          [
           "how on earth can you somebody with one c<br>omment when by definition it means to fa<br>tigue or to tire with repeated and exhau<br>sting efforts or to annoy endlessly or s<br>ystematically i made one remark",
           0
          ],
          [
           "yeah i know that i just didnt feel like <br>specifying one you can just look at the <br>difference view to see what a slut edite<br>d wink or smirk",
           0
          ],
          [
           "what do you mean i typed them in and cli<br>cked on is there some other where are yo<br>u of doing it",
           0
          ],
          [
           "retweet because humans are not delicious<br> hold on retweet smarter than dogs and y<br>our year old child so why eat them",
           0
          ],
          [
           "bad telco links hey there old been a whi<br>le since whatever chatted yeah i did not<br> know there what a slut a where are you <br>to do that and did not want the bad link<br>s to be out there for people like me to <br>click on and not be able to use i guess <br>if i can see an example of how to label <br>them i will do so to label them as forme<br>rly good currently bad",
           0
          ],
          [
           "i had rather stayed in touch alone than <br>fuck with iffy bitches",
           0
          ],
          [
           "get me that shit bitch you are fine bear",
           0
          ],
          [
           "sitush you can not always use the same l<br>ogic that this has been discussed and ge<br>t away again i am not proposing a merger<br> all i am saying is that these citations<br> are nor referring to adams who are bein<br>g discussed in this article read my obje<br>ctions again and understand that before <br>spamming and please if you do not have a<br> valid justification for the citations s<br>top spamming and wasting everyone is tim<br>e here let other s contribute and addres<br>s some value to correct the article",
           0
          ],
          [
           "speedy deletion of emi tarawa a tag has <br>been placed on emi tarawa requesting tha<br>t it be speedily deleted from wikipedia <br>this has been done under section of the <br>criteria for speedy deletion because the<br> article appears to be about a person or<br> group of people but it does not indicat<br>e how or why the subject is notable that<br> is why an article about that subject sh<br>ould be included in an encyclopedia unde<br>r the criteria for speedy deletion artic<br>les that do not indicate the subject s i<br>mportance or significance be deleted at <br>any time please see the guidelines for w<br>hat is generally accepted as notable as <br>well as our subject specific notability <br>guideline for biographies if you think t<br>hat this notice what a slut placed here <br>in error you contest the deletion by add<br>ing to the top of the page just below th<br>e existing speedy deletion or db tag cou<br>pled with adding a note on the talk page<br> explaining your position but be aware t<br>hat once tagged for speedy deletion if t<br>he article meets the criterion it be del<br>eted without delay please do not remove <br>the speedy deletion tag yourself but doe<br>s not hesitate to address information to<br> the article that would render it more i<br>n conformance with wikipedia s policies <br>and guidelines talk contribs",
           0
          ],
          [
           "boing said zebedee you say when working <br>on article content what individual edito<br>rs know is largely irrelevant it is only<br> what they can reference to reliable sou<br>rces that counts see wars and when there<br> is a disagreement about the reliability<br> of sources it should be solved by discu<br>ssion and consensus on the relevant talk<br> page not by arguing about which editor <br>knows best disappointing that my concili<br>atory response to sitush in spite of his<br> name calling misses your attention situ<br>sh calls me a wind up merchant on my tal<br>k page which article page is he discussi<br>ng other than me there are ample talk pa<br>ges on record where i have discussed con<br>tent instead of deletions or edit warrin<br>g which specific article or talk page ar<br>e you referring to where i have not prop<br>erly discussed reliability of sources wi<br>th sitush considering the absence of you<br>r mentioning a specific circumstance of <br>incident on a page or talk page your adv<br>ice is extraneous and erroneous in fact <br>am surprised as an administrator you did<br>n t find sitush name calling comment per<br>sonal accusation your comment here is in<br>equitable",
           0
          ],
          [
           "arbitrary break only two things that i s<br>ee that needs to be addressed before i s<br>hall pass the plot section needs some re<br>ferencing be it to the video game manual<br> or whatever readers need to know where <br>the content is coming from and to ensure<br> that no original research or unverified<br> claims a common pitfall in regard to wr<br>iting about fiction are going on second <br>because of the size of the article i wou<br>ld like to see the lead lengthened and e<br>xpanded to a third paragraph to better r<br>eflect the size and content of the page <br>i shall do a more thorough check sometim<br>e tomorrow for any smaller issues otherw<br>ise images look good and the other mater<br>ial is much better referenced i shall de<br>fer to the consensus above to determine <br>if the sources given are rs",
           0
          ],
          [
           "ok whatever are so cool hyung",
           0
          ],
          [
           "hi buddy you say that my page is blatant<br> advertisement okay i agree with that th<br>en what the big microsoft co operation d<br>oing here that is not a blatant advertis<br>ement or what",
           0
          ],
          [
           "no problem looks like there are better s<br>ources now thanks",
           0
          ],
          [
           "so phrygia are armenians the dutch the g<br>ermans etc there is no single neutral co<br>ntributor who would agree with this obvi<br>ously illogical and plain wrong claim no<br>w both of you do you accept the rfc yes <br>or no",
           0
          ],
          [
           "andy jovanovich hello mr nguyen i notice<br>d at the top there is something in anoth<br>er language do you mind at all getting i<br>t translated for me",
           0
          ],
          [
           "thanks for translate",
           0
          ],
          [
           "acupuncture and interpersonal interactio<br>ns hi roxy i what a slut reviewing some <br>of your latest contributions to the acup<br>uncture article and talk page and though<br>t i had had a means cool a k a with you <br>many of your edits to the article seem t<br>o be simple reverts or minor edits which<br> is fine though the participation in rev<br>ert wars is not great your talk page pos<br>ts are mainly what have me concerned the<br>y seem to be mostly either pointed comme<br>nts to other users for example or equall<br>y pointed repetitions of your point of v<br>iew neither of these further our goal of<br> improving articles and both contribute <br>to the atmosphere people are complaining<br> about i also seem to remember you getti<br>ng into trouble on the ayurveda article <br>talk page for similar reasons thereby ge<br>tting on the wrong side of user john and<br> i definitely remember seeing some very <br>pointed remarks from you on his talk pag<br>e i am sure you are not a mean person in<br> real life but as i am sure you already <br>know text is a bad medium for conveying <br>emotions and such i s very easy to misin<br>terpret humor for sarcasm or sarcasm for<br> scorn especially in the context of a la<br>rger conflict anyway whatever your inten<br>tions are i am asking you to please stop<br> with the pointed remarks to about other<br> users and the repeated scornful general<br>izations of alt med fringe regardless of<br> who does right or wrong it is not helpi<br>ng things",
           0
          ],
          [
           "genealogy mv to here he s also the likel<br>y ancestor of german on siemens married <br>to joachim on often the parents of krist<br>in on often born lies sow married on in <br>munich civ and on in munich rel to micha<br>el karl wilhelm print iron on garland bo<br>rn gross wattenberg presumptive heir to <br>the title of first iron on garland the p<br>arents of veronika princess iron on garl<br>and born munich alexander print iron on <br>garland born munich presuming the last m<br>ale heir of his line married on in berri<br>ed civ and in berried rel to michaela gr<br>ain strachwitz on gross zauche und cabin<br>et born sternberg stephanie princess iro<br>n on garland born munich michaela on oft<br>en born hamburg married on in munich to <br>eugen ribald hubert augustus lukas maria<br> print on sandburg eu wolf egg und walde<br>n born krzemusch bei due bohemia the par<br>ents of sophie margaret warburg princess<br> on sandburg eu wolf egg und walden born<br> wan gen allan married on in kissed to g<br>iovanni barony marathi di montetretto is<br>abelle katharina warburg princess on san<br>dburg eu wolf egg und walden born wan ge<br>n allan married on in kissed civ and on <br>in kissed rel to georg fraser on massenb<br>ach born lubeck ferdinand georg ribald p<br>rint on sandburg eu wolf egg und walden <br>born getting werner on siemens what a sl<br>ut the great great grandfather of henrik<br> on siemens and the great great great gr<br>andfather of sophia on siemens born and <br>her sister philippa born",
           0
          ],
          [
           "articles on wikipedia must be encycloped<br>ic in nature this means meeting notabili<br>ty standards as well as verifiable third<br> party sources please also see what wiki<br>pedia is not for more information about <br>what types of articles are proper for wi<br>kipedia the article you have written is <br>information about a group without citing<br> primary sources or detailing why it sho<br>uld be in an encyclopedia if you have qu<br>estions please leave a comment on my tal<br>k page",
           0
          ],
          [
           "cheaters are shitty people",
           0
          ],
          [
           "retweet hi ho hi ho it is off to work wh<br>atever go it is militarymonday support a<br> military organization today",
           0
          ],
          [
           "dear please understand he is not doing a<br>nything except saving your and mine mone<br>y if he had used our tax money wisely ou<br>r children would have been in government<br> schools her wife would have got treatme<br>nt here his own sons would have been sta<br>nding with him",
           0
          ],
          [
           "hello crystal my name is andy and as my <br>screen name states i live in new york",
           0
          ],
          [
           "absolutely i really mostly thought that <br>one paragraph would be lonely in its own<br> section after i expanded the modern his<br>tory part",
           0
          ],
          [
           "retweet i watched my followers drop like<br> flies when they started seeing shit tha<br>t made them upset laughing out loud take<br> salt bitch",
           0
          ],
          [
           "playing with my money is like playing wi<br>th my emotions niggas do not believe i g<br>uess whatever going to find out then hoe<br> ass niggas",
           0
          ],
          [
           "your civility i find your general tone v<br>ery uncivil rude and threatening there i<br>s no need to be as demanding and general<br>ly confronting as you are being please r<br>ead wikipediacivility i think you would <br>benefit from it i still find your genera<br>l tone quite confronting rude threatenin<br>g and generally uncivil perhaps you shou<br>ld also read mistress and consider a wik<br>i break until you have calmed down consi<br>derably as well as reading civil the fac<br>t is that i feel threatened and upset by<br> your actions as i find your general ton<br>e very rude and dismissive the fact that<br> someone can get away with being such a <br>rude individual to many other editors no<br>t just myself is beyond me i still serio<br>usly suggest that you read mistress brea<br>k and civil especially the latter and as<br>sess your own behavior if you do not any<br>one else to do it for you as your genera<br>l incivility will only because you probl<br>ems in the long run maybe reading those <br>three pages will give you something to t<br>hink about and you might see fit to corr<br>ect your behavior i did not specify that<br> i felt physically threatened but your i<br>rrational and extremely rude behavior is<br> intimidating",
           0
          ],
          [
           "susan roes gen won a louisiana associate<br>d press award for her reporting in israe<br>l mmm no supporting evidence for this on<br>e either nothing any guesses as to when <br>how about where how about a single neutr<br>al reference",
           0
          ],
          [
           "save typing republic of the tired of typ<br>ing democratic republic of the me too i <br>have created a bunch of redirecting arti<br>cles to which mean you can just type do <br>not really care instead with or without <br>the that is history of drc politics of t<br>he do not really care etc as a precedent<br> the united states of america articles h<br>ave a similar thing it is almost as comp<br>licated as the china taiwan thing taiwan<br> can also be known as roc which can also<br> be the name for republic of congo which<br> can also be the name for congo kinshasa<br> s first republic etc etc confused",
           0
          ],
          [
           "i know what you mean",
           0
          ],
          [
           "external links the links on this article<br> are not described as per opel also some<br> of them seem to point to for want of a <br>better word idiosyncratic views can some<br>one who knows more about the subject tha<br>n i do at least address descriptions to <br>assist in assessing what the links are a<br>bout please",
           0
          ],
          [
           "sounds great i already came up with dumb<br> drawings involving her that i am not su<br>re if i should make or not spicily since<br> i have not even read the chapters of th<br>e manga where she is in yet",
           0
          ],
          [
           "john lloyd miller can you please help me<br> populate category music videos directed<br> by john lloyd miller also john lloyd mi<br>ller has a lot of article links that are<br> pointing to dab pages or the wrong arti<br>cle can you please check those too thank<br>s ten pound hammer",
           0
          ],
          [
           "michael clark bmx rider i have removed c<br>lark bmx rider bmx rider from cambridges<br>hire from michael clark wikipedia has ru<br>les for notability and people should onl<br>y be included if they are sufficiently f<br>amous i could not find any web reference<br>s to a british bmx rider by that name if<br> you do have a reference to something re<br>liable e g a national press report pleas<br>e feel free to address the entry again w<br>ith an url",
           0
          ],
          [
           "cultural mormon the link links to a plas<br>tic surgeon s website please look at lin<br>ks before you reinstate them it has noth<br>ing to do with the article or cultural m<br>ormonism",
           0
          ],
          [
           "section let us discuss the edits there",
           0
          ],
          [
           "retweet bitches be thinking they are soo<br>n out here like no just an everyday aver<br>age instagram bitch",
           0
          ],
          [
           "good illustrations and no politically co<br>rrect nonsense",
           0
          ],
          [
           "i remember when i what a slut at my coll<br>ege during the holidays every single hol<br>iday would be mentioned loud and clear e<br>xcept for christmas especially kwanzaa",
           0
          ],
          [
           "non sequitur quote the band s first pa s<br>ystem what a slut stolen from monte high<br> school the group then cleaned out an ol<br>d galvanized grain bin on the edge of to<br>wn and began blasting out ear piercing s<br>ounds that echoed their special blend of<br> music that came from rock gospel countr<br>y and blues members of the group were su<br>bsequently charged in absentia with gran<br>d larceny and sentenced to years at the <br>tucker prison farm a sentence that what <br>a slut later suspended so the pa theft l<br>ead to them cleaning out a grain bin whi<br>ch created their special blend of music <br>which then lead to the grand larceny cha<br>rge i think this section needs a rewrite<br> thanks",
           0
          ],
          [
           "replaceable fair use imagechloe jpg than<br>ks for uploading imagechloe jpg i notice<br>d the description page specifies that th<br>e media is being used under a claim of f<br>air use but its use in wikipedia article<br>s fails our first non free content crite<br>rion in that it illustrates a subject fo<br>r which a freely licensed media could re<br>asonably be found or created that provid<br>es substantially the same information if<br> you believe this media is not replaceab<br>le please go to the media description pa<br>ge and edit it to address without deleti<br>ng the original replaceable fair use tem<br>plate on the image discussion page write<br> the reason why this image is not replac<br>eable at all alternatively you can also <br>choose to replace this non free media by<br> finding freely licensed media of the sa<br>me subject requesting that the copyright<br> holder release this or similar media un<br>der a free license or by taking a pictur<br>e of it yourself if you have uploaded ot<br>her non free media consider checking tha<br>t you have specified how these images fu<br>lly satisfy our non free content criteri<br>a you can find a list of description pag<br>es you have edited by clicking on this l<br>ink note that even if you follow steps a<br>nd above non free media which could be r<br>eplaced by freely licensed alternatives <br>will be deleted days after this notifica<br>tion days if uploaded before per our non<br> free content policy if you have any que<br>stions please ask them at the media copy<br>right questions page thank you",
           0
          ],
          [
           "docsoc as ariel said above there are no <br>google results i always do a search prio<br>r to deleting articles wikipedia article<br>s are not deleted without investigation <br>provide three verifiable third party rel<br>iable sources and i will look into resto<br>ring the article",
           0
          ],
          [
           "further to the idea of who wants to batt<br>le you will notice that i asked nick to <br>comment not you",
           0
          ],
          [
           "hello so like a month back i was not beh<br>aving like this society expected me to a<br>nd so two other users made me promise to<br> make it all up by building a respectabl<br>e body of work and i chose science stuff<br> to fix and i did it finally so now they<br> are happy too",
           0
          ],
          [
           "and can whatever have a civil conversati<br>on about that please rather than throwin<br>g spurious uncivil pejoratives at each o<br>ther",
           0
          ],
          [
           "a billion cricket fans waited four years<br> to watch how it rains in englandgrinnin<br>g face grinning face grinning face grinn<br>ing face shamanic",
           0
          ],
          [
           "damn kenny you need emotional condoms an<br>d shit son",
           0
          ],
          [
           "the common name for one s car be ford fo<br>cus but still in an encyclopedia one wou<br>ld use precision and name the article as<br> precise as needed example ford focus fi<br>rst generation the less precise name can<br> be the place for an overview page ftr k<br>wamikagami you deleted the overview arti<br>cle without talking",
           0
          ],
          [
           "if this is true whatever should keep in <br>mind that this info should ultimately be<br> on the page for this topic the trick is<br> supporting that it is true of course i <br>looked at your source for the ballot and<br> it is unclear to me how recent the info<br>rmation on that page is i could not find<br> a date of publication for the info and <br>my half knowledge of spanish be insuffic<br>ient to help me know whether this is or <br>is not the current government s ballot f<br>or the upcoming elections as opposed to <br>the ballot as it had existed previously <br>before the crisis but if it is the curre<br>nt government s version of the ballot th<br>at has interesting especially since it s<br>eems like cesar ham in particular should<br> be disqualified by article just as it w<br>hat a slut argued celaya was possibly re<br>yes as well but definitely ham given tha<br>t he participated in the reclaiming of t<br>he ballots thing that has an inconsisten<br>cy in the argument of the michele side i<br> note that this is a honduran source whi<br>ch not be admissible under the current h<br>onduran newspapers are likely to be mout<br>hpieces for the establishment so they ar<br>e not reliable sources view which has be<br>en prevailing here but it is unlikely a <br>pro micheletti source on the other hand <br>would lie about what michele s formal po<br>sition is whatever could probably trust <br>it to print what michele says will be on<br> the ballot i am more concerned that i a<br>m not sure the source you have posted he<br>re has a date indicating that it is the <br>current version of the ballot",
           0
          ],
          [
           "a teacher at a baton rouge elementary sc<br>hool what a slut arrested just two hours<br> into his first day on the job",
           0
          ],
          [
           "the lakers fruit cake hello this is rega<br>rding nomination for speedy deletion of <br>the article the common theme in the nota<br>bility guidelines is the requirement for<br> verifiable objective evidence to suppor<br>t a claim of notability if a topic has r<br>eceived significant coverage in reliable<br> source that are independent of the subj<br>ect it is presumed to be notable please <br>refer to wrote for more information the <br>articles you are referring to be of stub<br> types however if you think they are not<br> in accordance with wikipedia guidelines<br> then be bold to bring them into light c<br>ontact me if you wish on my talk page ha<br>ppy editing hitro hitrohit",
           0
          ],
          [
           "farley doing a spelling check to correct<br> instances of writing and what a slut un<br>able to work out whether orwell a feral <br>cat in golden gate park who always is tr<br>ying to get rich sometimes by writing vi<br>ce president penis cheney means sometime<br>s by writing to vp or sometimes by takin<br>g out a writ against vp could you update<br> the article to clarify talk",
           0
          ],
          [
           "speedy deletions hello i recently notice<br>d you tried to tag a page for speedy del<br>etion please note that the proper templa<br>tes are short for or short for the db te<br>mplate allows you to address a reason af<br>ter thanks for helping and happy editing<br> take care utc",
           0
          ],
          [
           "i did try to assume good faith to begin <br>with here but the users history of wikil<br>awyering as listed above culminating wit<br>h the proof in the creation of am i a th<br>at their desperation to delete rename th<br>is album is purely rooted in the fact th<br>at the article could possibly be confuse<br>d with an article they have an interest <br>in caused me to lose it ironically chang<br>ing the title of this article to missing<br> in action will immediately because sepa<br>rate confusion with another band called <br>mia",
           0
          ],
          [
           "question i posted at obama s talk page i<br> have posted a question there in respons<br>e to your comment would you mind respond<br>ing soon as i am ready to eat while watc<br>hing the news and go to sleep not trying<br> to push you but i am sure i would sleep<br> better with an answer could give me som<br>ething to think for tonight cheers repli<br>ed",
           0
          ],
          [
           "proposed change an f coalgebra is not ne<br>cessarily based on a signature since the<br> functor f is arbitrary therefore the le<br>d is in my opinion incorrect any objecti<br>ons",
           0
          ],
          [
           "i am to finally get my jordan and i get <br>paid to wear them too lowtopsa",
           0
          ],
          [
           "i would be more careful in using middle <br>ages as it can be understood as ce and w<br>hat a slut there different periods such <br>as united norway in viking age christian<br>ization of norway strengthened kingdom c<br>ivil wars norway in high middle ages",
           0
          ],
          [
           "bihday i hope you got a nice present fro<br>m neil patrick harris inthekitchen",
           0
          ],
          [
           "hello you are right anti is correct i ha<br>ve not seen that page the article is now<br> back to the old title thanks for inform<br>ing",
           0
          ],
          [
           "got up to get food dropped a fruit snack<br> and my dog went ape shit and woke the w<br>hole house up weary face",
           0
          ],
          [
           "will deal with pov or objections the res<br>t is dealt with in pci sorry i asked",
           0
          ],
          [
           "hamill hi thanks for started the article<br> unfortunately the page already existed <br>just about a couple of weeks ago i had c<br>reated it and it what a slut deleted bec<br>ause it is considered merely a maltese n<br>ot significant enough to be included in <br>the english wikipedia anyway perhaps you<br> had be interested in reading wikipedia <br>guidelines on how to write and edit an a<br>rticle cheers",
           0
          ],
          [
           "it is a shame that you have had deleted <br>my subject already well sorry about anyt<br>hing but at least let me know if there i<br>s someplace that might be interested app<br>reciated discussing about my subject of <br>interest in radius prime for the movie s<br>equel thanks before",
           0
          ],
          [
           "utc look for mediation commission i see <br>no compromise from you i found you total<br>ly biased looking for blaming polish nat<br>ion andrew",
           0
          ],
          [
           "edit request from please change that qui<br>nton jinn is a jedi master to he is not <br>a jedi master because he does not follow<br> the jedi code",
           0
          ],
          [
           "wikipediaarticles for deletion list of p<br>lants used as medicine hi there given th<br>at you have withdrawn the afd nomination<br> and that there is a pretty clear consen<br>sus to keep the article how long does th<br>e discussion need to remain open i had m<br>uch rather put my energy into the articl<br>e itself rather than swatting objections<br> that have already been addressed as new<br> people keep popping into the discussion<br> it is wearing me out",
           0
          ],
          [
           "the reference to the nicene creed while <br>compact is not as clear as simply referr<br>ing to protestantism and catholicism tha<br>t is the christian context where mormoni<br>sm arose from and contends with not maki<br>ng this clear makes it appear as though <br>the vast majority of christianity is som<br>ehow not represented",
           0
          ],
          [
           "the six feet under logo could do with a <br>transparent background",
           0
          ],
          [
           "www ultreiaetsuseia com page of the wher<br>e are you of santiago advice maps photos<br> etc",
           0
          ],
          [
           "it all adds up she what a slut bought",
           0
          ],
          [
           "this is the most ridiculous nonsense eve<br>r i honestly think that whoever is doing<br> this needs to be reported to wikipedia <br>how can a local newspaper to fremont whi<br>ch is completely free of charge and carr<br>ies important and relevant stories to th<br>e town be removed what possible reason c<br>an you have other than personally do not<br> like you are denying visitors to the pa<br>ge a relevant source of information abou<br>t the town those visitors sought out on <br>wikipedia because of some petty and chil<br>dish desire to seem you really should as<br>k yourself whether removing this link wh<br>at a slut beneficial to visitors to wiki<br>pedia or whether you just denied them a <br>source of relevant information",
           0
          ],
          [
           "the most beautiful women be having the m<br>ost retarded captions on their pics sh t<br> be extra dumb",
           0
          ],
          [
           "you cannot put product back on an articl<br>e once it has been declined if you want <br>to take this further then afd is the nex<br>t step this will lead to a discussion ov<br>er the future of the article",
           0
          ],
          [
           "also thanks for the somali pirate edit",
           0
          ],
          [
           "hoary since you do not address anything <br>of substance to this discussion why don <br>t you run along",
           0
          ],
          [
           "she is a right twat i had told you hones<br>tly sky honestly smiling face with horns<br> pizza",
           0
          ],
          [
           "oh i see i have been blocked again minds<br>pillage s statement is in part patently <br>false yes i do not believe i did anythin<br>g wrong no i did not indicate in anywher<br>e are you i would continue to do so i wh<br>at a slut unblocked for several hours an<br>d did not do so common decency indicates<br> the block should be lifted or am i simp<br>ly being punished for my views",
           0
          ],
          [
           "i love how i can lay in my bed comfortab<br>ly and watch the lightning out my window<br> stillai enjoythelittlethings",
           0
          ],
          [
           "not the flag of the revolt which had inv<br>erted green and white bars",
           0
          ],
          [
           "definitive rs coming on transition by je<br>nner to discuss transition in diane sawy<br>er",
           0
          ],
          [
           "it would seem that the quote you cite sp<br>eaks against the essay being pro margina<br>list anyway the essay is not based on th<br>e premise that marginal ism is correct r<br>ather it just takes it seriously rather <br>than dismissing it out of hand and the n<br>ew school is pretty unorthodox with a mi<br>xture of marxian and post keynsian econo<br>mists while it does think folks like eva<br>ns and walrus insightful i does not thin<br>k it considers folks like ricardo or mar<br>x ignorant at all and if you read down t<br>o partial revival some issues in the quo<br>te are addressed however whatever can pu<br>t something like the quote in the critic<br>ism section that utility is unobservable<br> that utility is not measurable this is <br>actually realistic in my opinion the dif<br>ference between cardinal and ordinal uti<br>lity that utility is generally untestabl<br>e though predictions derived from margin<br>al theory certainly are and i really doe<br>s not understand all this stuff about ai<br>r and water the marginal utility of a bi<br>t of air is essentially zero hence its p<br>rice is essentially zero and i happen to<br> both desire and pay for water",
           0
          ],
          [
           "crash info i deleted the crash info here<br> it what a slut worded in a ramble fashi<br>on and carried no reference here is a re<br>ference from the sydney morning herald i<br>f anyone is interested if it gets replac<br>ed it should be factual and referenced",
           0
          ],
          [
           "article about ed morris hi i have just m<br>oved our article about ed morris and cap<br>tain s quarters to ed morris and started<br> bringing it up to date would you be abl<br>e to take a look at it and please fix an<br>y defects you spot thanks",
           0
          ],
          [
           "super awesome trailer romance action thr<br>ill and all in one fever ndjuly save d d<br>aa",
           0
          ],
          [
           "i told lies by",
           0
          ],
          [
           "composition date trivia string quintet i<br>n see major d op post is a piece of cham<br>ber music written by franz schubert it w<br>hat a slut composed shortly after his ni<br>nth symphony during the summer of two mo<br>nths before his death this seems to sugg<br>est the what a slut also composed or at <br>least finished in whereas the symphony p<br>age suggests it what a slut the that wha<br>t a slut started worked on during and th<br>e what a slut finished years earlier can<br> someone please clarify thanks i did not<br> even notice the mistake i have now corr<br>ected it for more information read in th<br>e symphony s article",
           0
          ],
          [
           "utc you clean up after me when i self no<br>minate too and you do it quite regularly<br> thanks whilst approaching did you know <br>credits perhaps i should put the trainin<br>g wheels back on good to see that one of<br> us is awake",
           0
          ],
          [
           "wearing white makes you look formal blac<br>k makes you look like an easy catch",
           0
          ],
          [
           "absolutely mortifying what is happening <br>at our border these camps should be pres<br>erved purely for education instead they <br>are being recycled for the same purpose <br>fuck trump",
           0
          ],
          [
           "retweet it is always anime faggots that <br>got some shit to say lmao you in love wi<br>th some damn cartoons laughing out loud <br>fucking nerds",
           0
          ],
          [
           "i hope so too nice to see that a cannot <br>remember and a wicca can work together",
           0
          ],
          [
           "it is not the same thing at all the arti<br>cle palace is actually about the polish <br>pastry colicky which is similar to but d<br>istinct from the czech and slovak pastry<br> solace kolache s are more like a kind o<br>f bread with a fruit filling similar to <br>a pie filling while the polish colicky i<br>s more like a cookie with a jelly like f<br>ruit filling",
           0
          ],
          [
           "more history the following what a slut a<br>dded to the intro at telescope i am movi<br>ng it here because it seems to deal with<br> specifically optical telescopes i am pu<br>tting it in talk because some of it does<br> not have much to do with telescopes cam<br>era obscure pinhole lenses etc and it is<br> full of united claims crystal balls wer<br>e used in china and india as lenses poss<br>ibly in the form of a camera obscure to <br>see at a distance as early as bce around<br> ce the arabian astronomer and mathemati<br>cian in al haytham expanding and scienti<br>fically testing theories of euclid ptole<br>my and aristotle wrote about both pinhol<br>e lenses and concave lenses in his mathe<br>matical book on vision affirmative bacon<br> wrote about combining lenses to see at <br>a distance in the century as did the cen<br>tury italian spectacle maker giambattist<br>a della port and a host of others",
           0
          ],
          [
           "that sucks i am sorry",
           0
          ],
          [
           "section needs to be expanded or merged t<br>oo film is reasonably faithful to the ev<br>ents of the mission though some tension <br>between the astronauts what a slut added<br> for dramatic effect this needs a ref",
           0
          ],
          [
           "retweet when a smart well connected weal<br>thy man says that has committed tortious<br> acts of course they",
           0
          ],
          [
           "joshbuddy with due respect this makes th<br>e third time you have essentially proffe<br>red the same complaint not to mention my<br> replies to other participants here abov<br>e i provided a fairly detailed response <br>to your opinion specifically in reply to<br> youtwice yet you have failed to do the <br>courtesy of responding except by repeati<br>ng essentially the same thing if you hav<br>e something specific in mind please spit<br> it out otherwise why do you keep making<br> the same remarks my opinion is that the<br> lead in complies with wikipedias guidel<br>ine and that it does so beautifully so b<br>oth of us have expressed an opinion so w<br>hat only one of us has taken the time to<br> explain ourselves beyond stating an opi<br>nion this is the talk page if you want t<br>o talk then please get on with it if you<br> want to get on track i recommend respon<br>ding to the plethora of commentary alrea<br>dy generated on the subject since my edi<br>ts are the subject at issue then i furth<br>er suggest you get on track by respondin<br>g to my replies",
           0
          ],
          [
           "edit summary it what a slut paul harvey",
           0
          ],
          [
           "renaming category units of chemical meas<br>urement hello could you please take a lo<br>ok at and let us know your opinion",
           0
          ],
          [
           "it is a folk song so although somebody w<br>ould have written it originally his her <br>name have been unrecorded and the tune a<br>nd lyrics evolved and adapted by multipl<br>e hands or performers you could argue th<br>e most well known hymn arrangement what <br>a slut by sir john stained but he did no<br>t write the tune or words",
           0
          ],
          [
           "pew study rest of the world takes in mor<br>e refugees than us for first time",
           0
          ],
          [
           "they re unlawful combatants uh no penis <br>you re unlawful prisoners god i hate tho<br>se men",
           0
          ],
          [
           "why are you notifying me and various oth<br>er editors when whatever have all clearl<br>y already commented on your proposal",
           0
          ],
          [
           "brown clearly knows that he cannot get a<br>way with naming a planet like thing afte<br>r a character from popular culture which<br> is the main status of eris the discorda<br>nt goddess from her appearance in the il<br>luminati trilogy so the fact that he onl<br>y points to the greek origin of the name<br> e the origin that would be seen as legi<br>timate by the basis not particularly str<br>ong evidence that he did not have any ot<br>her origin in mind when he suggested the<br> term that brown would change the name o<br>f the moon from gabrielle to dystonia do<br>es indicate a somewhat playful nature on<br> the other hand if you were to ask a ran<br>domly selected representative of nerd cu<br>lture who was i think you would find a l<br>ot more people referencing the illuminat<br>i trilogy than the trojan war this is no<br>t to do a mind reading act and say that <br>whatever know something about brown s in<br>tentions that he is never mentioned but <br>to suggest that the discordant connectio<br>n is a significant association that dese<br>rves a few words in the name section it <br>is not just a few freaks trying to piggy<br>back their freakish belief system into a<br> scientific article",
           0
          ],
          [
           "example is here week talk me g and an tr<br>ade mark",
           0
          ],
          [
           "baahubali box office i request you to in<br>tervene in baahubali movie box office co<br>llections actually the movie is primaril<br>y a telugu movie shot simultaneously in <br>tamil and it is bilingual it is also dub<br>bed in hindi and malayalam too the story<br> entire cast and crew including producti<br>on house is from telugu it grossed aroun<br>d rs crores in days but it is included i<br>n tamil list of highest grossing films t<br>he telugu version alone grossed rs crore<br>s the hindi and malayalam versions dubbe<br>d from telugu grossed around crores the <br>tamil version grossed around rs crore fr<br>om india and rest of the world the above<br> information is from official trade anal<br>ysts so i kindly request you to remove f<br>rom tamil list which even did not gross <br>of collections",
           0
          ],
          [
           "fraudulent documentaries voiced by gregg<br> berger",
           0
          ],
          [
           "oh agree i am catching a fucking cold it<br> what a slut freezing in thanks now burn<br>ing up in go ahead",
           0
          ],
          [
           "in response to your feedback then welcom<br>e again be bold",
           0
          ],
          [
           "bitch be action like i am a celebrity",
           0
          ],
          [
           "john it s not an edit war as such the ul<br>ster banner doesn t represent northern i<br>reland today as a state country neither <br>the british government nor the northern <br>ireland assembly even recognize the flag<br> therefore it should not be used",
           0
          ],
          [
           "out of hand after looking over this arti<br>cle again this article is infused with p<br>oint of view and baseness for example la<br>nguage like people you never thought wou<br>ld take home oscars in the s is found th<br>roughout the article this article really<br> needs some cleanup i will start on the <br>road toward eliminating some pov but it <br>is not something i can do without other <br>people helping me",
           0
          ],
          [
           "please do not remove content from pages <br>without explanation as you did with this<br> edit to the princess and the frog if yo<br>u continue to do so you be blocked from <br>editing",
           0
          ],
          [
           "bartending becomes a real bitch when you<br> the bartender are where are you where a<br>re you taller than the bar what a slut d<br>esigned for holy back pains",
           0
          ],
          [
           "lebanese general election good job on th<br>e edit to the lebanese general elections<br> where are you to wpre bold if you need <br>any help to do stuff on wikipedia feel f<br>ree to contact me on my talk page",
           0
          ],
          [
           "i have added a nice screenshot for you g<br>uys",
           0
          ],
          [
           "it s a scientific report and it s peer v<br>iewed for months and the work is used in<br> a dr andes guard drs examination and sc<br>ientific articles ask key karlstaduniver<br>sity marianne johansson telephone or or <br>professor jens bergstrom",
           0
          ],
          [
           "because it appears that you have a singl<br>e person bias befor you take out the con<br>tent again please start a discussion of <br>the disputed content on the talk page an<br>d address this to the section",
           0
          ],
          [
           "the bcs selections will be officially an<br>nounced tomorrow night the bcs games sho<br>uld be left alone until then as the publ<br>ication of the bcs selections is the off<br>icial confirmation",
           0
          ],
          [
           "i sifted through several books on dub ya<br> and the bush family but could not find <br>any mention of the origin of the nicknam<br>e in them specifically i studied the toc<br> and indices then speed read many promis<br>ing passages for sources but found nothi<br>ng i really could not bring myself to fu<br>lly read the books as the subject does n<br>ot interest me that much unless i come a<br>cross better information in my general i<br>nformation hunts i am afraid i will have<br> to leave sourcing on this point to othe<br>rs",
           0
          ],
          [
           "thanks for the prompt action i am trying<br> it here it is fine i have started this <br>mexican river article here",
           0
          ],
          [
           "baghdadi s little torch show will cost h<br>im a thousand dash at the hands of the j<br>ordanians",
           0
          ],
          [
           "my apologies twinkle just looks at the f<br>irst contributor and automatically notif<br>ies them",
           0
          ],
          [
           "false accusations kim you have given me <br>inappropriate inaccurate labels regardin<br>g the info that i have added on the mann<br> talk page i did not address anything fa<br>lse included a reliable source it is wel<br>l known that you are heavily biased towa<br>rds agw in omitting data being hypocriti<br>cal such it is strange that your editing<br> privileges have not been revoked in rem<br>oving my neutral comments you claim that<br> they are something that are not it is a<br>lmost funny how you claim that does to c<br>ounter agw m without any evidence if the<br>ir what a slut a god i would know that y<br>ou are going to hell for being dishonest<br> immoral but your days on earth in freed<br>om which you oppress are numbered until <br>you go to jail or worse you are a threat<br> to liberty",
           0
          ],
          [
           "broken dismay links after bot action can<br> you please fix the following the nightm<br>are should redirect to nightmare disambi<br>guation rather than to am crazy the disa<br>ble page has all known meanings of night<br>mare cataloged including the wrestler al<br>so known as the nightmare after the bot <br>action i have not been able to fix the p<br>roblem",
           0
          ],
          [
           "sister brothers months happy face or smi<br>ley",
           0
          ],
          [
           "ok i missed the part about if you need t<br>o message each other ferules ask an admi<br>nistrator to do it directly in addition <br>i did not know you wanted me to stay off<br> permanently after a week or two i thoug<br>ht it would be okay to warn namibia of h<br>ow he what a slut breaking wikipedia rul<br>es i am sorry the one month ban is very <br>harsh i love editing wikipedia and i mak<br>e contribute edits every day",
           0
          ],
          [
           "i what a slut told that people in my cou<br>ntry hate muslims because ours is a hypo<br>crite fascist terror based religion so s<br>ad",
           0
          ],
          [
           "thank you for experimenting with wikiped<br>ia your test worked and it has been reve<br>rted or removed please use the sandbox f<br>or any other tests you want to do take a<br> look at the welcome page to learn more <br>about contributing to our encyclopedia s<br>talk to me",
           0
          ],
          [
           "whatever that mean has nothing to do wit<br>h mr ahmadinejad please care to search o<br>n example youtube see let us say this pa<br>ge and notice that there are americans w<br>ho are propounding conspiracy theories a<br>bout the atrocity further i should point<br> out that during his one but last visit <br>to the headquarters of the un in new yor<br>k mr ahmadinejad asked to visit the loca<br>tion of twin towers i e the ground zero <br>to pay respect to the dead but the new y<br>ork authorities declined his request cit<br>ing as their reason for declining the re<br>quest be it as it to my best knowledge n<br>o one has ever denied happening however <br>there are some who question the official<br> explanation as to who stood behind the <br>event it could be that mr ahmadinejad ha<br>s also questioned the official explanati<br>on but there is a world of difference be<br>tween the denial of the official explana<br>tion and the denial of the event itself <br>lastly i should point out that there wer<br>e also iranians amongst the dead on in t<br>his connection you wish to search for th<br>e iranian feature film the ziggurat godd<br>ess about which here with shah ab hossei<br>ni in the main role this film revolves a<br>round the life of a young iranian man wh<br>o has lost his wife and the only child i<br>n the atrocity and in fact the film begi<br>ns with the scenes of the attacks and co<br>ntains flashbacks of the last telephone <br>conversation that this man has had with <br>his wife and daughter minutes before the<br> first attack in which they were killed",
           0
          ],
          [
           "exactly you re not hard get the fuck ove<br>r yourself",
           0
          ],
          [
           "talkback you the one",
           0
          ],
          [
           "would it be possible that the author can<br> expand on the law of attraction this ap<br>pears to be less than an outline of the <br>theory principles you re missing huge po<br>rtions that should be added ask ask what<br> you want in an object scenario context <br>believe maintain focus the universe will<br> answer receive do not hesitate when the<br> goal is manifested seize it with gratit<br>ude",
           0
          ],
          [
           "templateww xbox i put a temporary image <br>in but now the user box is too tall if p<br>ossible can you try and fix it to be the<br> same height as template user pvg thanks<br> p s i started in solidarity",
           0
          ],
          [
           "the last game andres guard ado played fo<br>r mexico what a slut on so i added that <br>date and it is not the last game he play<br>ed for valencia also first what a slut t<br>oday i added that will address now a ref<br> to storyline the exclamation points wer<br>e exaggerated yes but not an insult desc<br>ulpa so query judah pods ir a footy e de<br>mos no que da",
           0
          ],
          [
           "right so the link would be your trash bi<br>n going to",
           0
          ],
          [
           "already fourteen photos far more than mo<br>st of this size maybe it s a good idea t<br>o request a mediator",
           0
          ],
          [
           "no break in period needed",
           0
          ],
          [
           "the dark knight would you not agree that<br> christian bale is reprising his role as<br> batman bruce wayne rather than putting <br>it means cool a k a i would welcome your<br> input on this subject and i cannot wait<br> for this film to arrive it should be th<br>e best film of regards",
           0
          ],
          [
           "this is the point richard xx put it clea<br>rly why you do not want to see simple tr<br>uth it is amazing how you can",
           0
          ],
          [
           "reply the sale price estimate i think it<br> will go a lot higher you are a betting <br>person wink or smirk",
           0
          ],
          [
           "attempting to discover the exact point w<br>here you can get blocked for personal at<br>tacks is probably not a good use of your<br> time if you perceive that an article is<br> not neutral there are well known ways o<br>f addressing that problem that do not re<br>quire abusing other editors",
           0
          ],
          [
           "never mind whatever have semi protection<br> for three months thank goodness maybe n<br>ow there will not be vandalism every tim<br>e i log in",
           0
          ],
          [
           "the lead itself is original research whe<br>re is the proper citation for gamer game<br> being a",
           0
          ],
          [
           "rfa you cut the whole part which present<br>s the evidence of cultural cleansing and<br> harassment against me which is the whol<br>e reason why kieferskunk opening it in t<br>he first place the outline just presents<br> exactly what the header says an outline",
           0
          ],
          [
           "imagine if annie drake had a baby mr",
           0
          ],
          [
           "retweet i do not like the weather right <br>now it is scaring me laughing out loud w<br>hy is it yellow",
           0
          ],
          [
           "congrats you have graduated from denial <br>of service school with flying colors goo<br>d luck educating waters",
           0
          ],
          [
           "wow congratulations to all who helped ma<br>ke this a featured article i think it sh<br>ows how wiki collaboration can produce h<br>igh quality balanced articles on even th<br>e most controversial topics",
           0
          ],
          [
           "pages moves please do not do page moves <br>using copy paste it messes up the page h<br>istory instead use the move tab at the t<br>op of the page more info can be found at<br> move and warm",
           0
          ],
          [
           "schedule for this week is almost full ye<br>aaayyy dancing",
           0
          ],
          [
           "oh yes excellent you get a big hug for t<br>hat utc",
           0
          ],
          [
           "of course abbas is the one that gets the<br> sucks",
           0
          ],
          [
           "retweet trapped in a pole dancing venue <br>with that hatch pitch and sausage impers<br>onating food mr",
           0
          ],
          [
           "now what you have done is just delete ev<br>erything this is in violation of npov i <br>also did not know the bce talk origins n<br>ew scientist magazine third way magazine<br> british medical journal or bbc articles<br> are wpselfpub lol you then mention purd<br>ue you deleted over lines of text from r<br>eliable third party sources to a single <br>line great non biased wikipedia editing",
           0
          ],
          [
           "weak argument considering gop congressme<br>n were shot at a baseball practice peopl<br>e wearing make america great again hats <br>are routinely attacked antifa mobs commi<br>t violent acts wearing masks etc",
           0
          ],
          [
           "would advise anyone with appropriate tec<br>hnology to look at that aforementioned v<br>ideo in stop frame and take note of seve<br>ral anomalies in the footage with respec<br>t to the purported location the origin o<br>f the buses the nationality of the prote<br>stors and the identity of the soldiers t<br>he video understandably is of very poor <br>quality however it is not verifiable and<br> as cnn makes it a regular habit of thro<br>wing unverifiable accounts video etc out<br> there i am skeptical i am willing to ac<br>cept as likely that incidents like this <br>could occur i just does not believe this<br> video can be accepted as authentic rath<br>er than produced for propaganda purposes",
           0
          ],
          [
           "i already mentioned the reason great tit<br>le must be included at end of his name y<br>ou think you can change the history that<br> is because you are an administrator of <br>wikipedia i will report this if you try <br>to move the article again",
           0
          ],
          [
           "look it is too late tonight for more edi<br>ts but the sentence on quasars is just w<br>rong again and quasars are the same thin<br>gs one is not the core of the other the <br>only thing distinguishing again from qua<br>sars is an arbitrary cut off in absolute<br> luminosity quasars are by definition ag<br>ain brighter than so and so many ergs se<br>c",
           0
          ],
          [
           "kal p makes the same point",
           0
          ],
          [
           "you should understand most of these wome<br>n want to be single moms until finances <br>bit then they bitch mainaandkingangi",
           0
          ],
          [
           "drk search for kpop hostile wikipedia ed<br>itors and administrators looks like this<br> page too fell victim to well known k po<br>p anti dr k",
           0
          ],
          [
           "redirect ais gill rail accident",
           0
          ],
          [
           "a pie for you for your contributions",
           0
          ],
          [
           "i have chosen to be happy have about you<br> life you me question health future succ<br>ess",
           0
          ],
          [
           "dollar premium i should welcome a wikipe<br>dia entry on the dollar premium this wha<br>t a slut the premium which at least pres<br>ident private investors had to pay to pu<br>rchase non sterling quoted securities th<br>e level of the premium what a slut deter<br>mined by supply and demand since the amo<br>unt of foreign currency available what a<br> slut finite the premium must have disap<br>peared automatically when uk exchange co<br>ntrols were abolished in i do not know w<br>hen it began my guesses would be start o<br>f world war ii and iain smith",
           0
          ],
          [
           "i took a stab at improving it but do not<br> know for sure if it is any better now s<br>ince i come from a programming backgroun<br>d as well",
           0
          ],
          [
           "this list is missing the emmett smith ro<br>ast i believe it is comedy central s als<br>o a good idea would be to list the comed<br>ians that appeared in each show",
           0
          ],
          [
           "utc thank you for posting a message on m<br>y talk page the comment i made what a sl<br>ut not in regard to the content of your <br>edits or your sense of persecution at th<br>e moment in question you had appeared to<br> have made four successive reversions of<br> the spain article i posted a message on<br> your talk page to draw your attention t<br>o the wording of the message is from a s<br>tandard template i posted the message to<br> draw your attention to the rule it what<br> a slut a warning and if you had reverte<br>d the article again while i what a slut <br>still logged on i would have blocked you<br> for h i am glad that i did not have to <br>this is in complete accord with well pla<br>yed policy my stance does not reflect an<br>y viewpoint on the content of your edits<br> is there to stop an article being fille<br>d with angry reverts you should be caref<br>ul not to get angry as you edit wp and t<br>o remain civil otherwise it becomes far <br>too easy fuck off things to get out of c<br>ontrol has posted a remark further down <br>the page and i shall inform them that yo<br>u feel persecuted and suggest that they <br>do not go looking for a fight if you hav<br>e real concerns about an article or anot<br>her user you might try prc thirty one",
           0
          ],
          [
           "similar dispute what i said above goes f<br>or too why do you keep inserting a non n<br>eutral alphabetized list that includes n<br>on notable individuals my version avoids<br> all three of those problems are you ind<br>igo",
           0
          ],
          [
           "persons of the year whatever should chan<br>ge the name or create a article called p<br>eople of the because there were people c<br>hosen for person of the year",
           0
          ],
          [
           "that is a good idea please do not use th<br>e term with reference to me simply takin<br>g part in a discussion of this talk page<br> i am not in conflict with you or anyone<br> thank you i just have an opinion that i<br> am willing to state",
           0
          ],
          [
           "it is staying let us move on",
           0
          ],
          [
           "well i am having trouble taking any of y<br>ou guys seriously except for fad ix he h<br>as one of the few people here that have <br>been trying to make this article even re<br>motely fair and yet you have to bitch at<br> him because you want this article so fu<br>ll of caveats maybes and no one is sure <br>about this statements that it has zero c<br>redibility i call that pathetic just bec<br>ause people like you have successfully e<br>nsured that people who push this view ca<br>n be punished in turkey does not mean th<br>at you can hold wikipedia hostage either<br> fadix is right this page gives special <br>treatment to turkey unlike similar pages<br> on massacres genocide etc it does not d<br>eserve a single bit more blue there is n<br>othing wrong with having an academic pos<br>ition if you object to that then i guess<br> it is because you want to lend credence<br> to the turkish government s position as<br> you feel it desperately needs it well t<br>ough luck because ordering academic and <br>non academic views make much more sense",
           0
          ],
          [
           "to be a pa of this lineup at the fest th<br>is in henderson yard",
           0
          ],
          [
           "also a copy at",
           0
          ],
          [
           "oh my god this dumbass bitch born on whi<br>ch means she is a virgo and any astrolog<br>ist can easily confirm that everyone kno<br>ws that cusps obviously does not exist",
           0
          ],
          [
           "shut your mouth you little fucking bitch",
           0
          ],
          [
           "if it turns out to be true that would si<br>mply change the context of arabia s stat<br>ement to not being available for sale at<br> the launch and it would also fit in to <br>why the manual and box were first being <br>completed yet",
           0
          ],
          [
           "about the manhattan bridge see i read th<br>e history site on the train page it says<br> when all four tracks on the manhattan b<br>ridge were restored on what a slut chang<br>ed to its final service pattern as a wee<br>kday local between whitehall street sout<br>h ferry and queens this means what a slu<br>t local and the and what a slut express <br>that is when the manhattan bridge s nort<br>h tracks reopen for the b and d trains r<br>ead more about the service history of th<br>e b d n q and train pages so you can get<br> a better understand you meanie tongue s<br>ticking out cheeky playful or blowing a <br>raspberry",
           0
          ],
          [
           "retweet how black bitches drive when the<br>y favorite song come on pt face with tea<br>rs of joy face with tears of joy face wi<br>th tears of joy face with tears of joy f<br>ace with tears of joy golilstacy face wi<br>th tears of joy face with tears of joy f<br>ace with tears of joy face with tears of<br> joy face with tears of joy face with te<br>ars of joy",
           0
          ],
          [
           "internet protocol frequently asked quest<br>ion discusses the issue of who writes bo<br>oks that say otherwise please read that",
           0
          ],
          [
           "hi david thanks for your answer however <br>i could not find any place on this page <br>where i have distorted selected or combi<br>ned evidence to suit my own view i am a <br>scientist in the field of metrology and <br>if you make such a serious accusation yo<br>u should back it up i am pretty sure tha<br>t everything i wrote in the article what<br> a slut based on sources if you think i <br>wrote something without sources show me <br>exactly where and then when you are at i<br>t please show me a source where the term<br> kendrick mass is properly defined i kno<br>w that it is used frequently but i did n<br>ot find a definition so far this lack of<br> definition is the reason why i what a s<br>lut against the renaming my article to k<br>endrick mass and this became the basis o<br>f this dispute thanks for your help metr<br>ology is the science of measurements and<br> it includes the grammar of quantitative<br> communication it therefore is very univ<br>ersal it will be very difficult to find <br>an article that is not metrology related<br> this is why i think your ban is much to<br>o broad you will probably not find a sin<br>gle page on wikipedia that is not metrol<br>ogy related depending on how narrowly yo<br>u define this term to give you an analog<br>y this ban is like banning someone on en<br>glish related articles would this includ<br>e all pages that contain english text co<br>uld you please define what you mean with<br> metrology related thanks for explaining<br> to me the procedure of becoming unbanne<br>d i will work on it as soon as i underst<br>and where exactly i misbehaved",
           0
          ],
          [
           "you are still on that trump train to now<br>here thumbs down",
           0
          ],
          [
           "nika ti drama naval an on i ada naval di<br>ce nea pusti jude the see vole bolje ego<br> the rather",
           0
          ],
          [
           "i believe whatever just had an edit conf<br>lict some of the issues you raised have <br>been solved and will do further edit her<br>e to clarify which exact ones",
           0
          ],
          [
           "mollusks of sri lanka hi i see you have <br>created list of non marine mollusks of s<br>ri lanka if you are going to create a ma<br>rine mollusks list i think the below sou<br>rce would be helpful best",
           0
          ],
          [
           "compulsory femininity is expensive and e<br>xhausting i do not want jewelry perfume <br>makeup i carry around to reapply hair ac<br>cessories etc",
           0
          ],
          [
           "it says highlighted and yes i will impro<br>ve the prose",
           0
          ],
          [
           "i am worried that this minute is complet<br>ely arbitrary if there is no source for <br>it then it really should be dropped many<br> of these metros have less than minute h<br>eadway during periods of the day how is <br>this accounted for i am trying to get to<br> the criteria whatever used to determine<br> what is a metro system the only reason <br>whatever are having this argument is tha<br>t the criteria for what is a metro is no<br>t well defined here no criteria should b<br>e proposed without a source to back it u<br>p no more arbitrary rules made up by ran<br>dom editors",
           0
          ],
          [
           "so what have you been doing all along if<br> you want to train them nw we the hoe of<br> today year old presence must strengthen<br> the strike force a bit torrent proving <br>others shame",
           0
          ],
          [
           "ski tm and other stuff whether you belie<br>ve in ski tm is hardly the issue a debat<br>e had evolved on the talk ski page and r<br>egardless of the outcome evidence what a<br> slut placed both for and against the ex<br>istence of ski tm as a major world relig<br>ion i personally am neutral on ski tm i <br>have heard of it in my travels to japan <br>and on the west coast of north america h<br>ave good reason to believe it s a religi<br>on but not being versed in japanese cult<br>ure i cannot be entirely sure someone ha<br>d gone into that page and injected the p<br>hrase tm is without signing the comment <br>and without appending the comment in an <br>appropriate place i reverted such edit o<br>n the basis that it what a slut inapprop<br>riately added and not on the basis of co<br>ntent if the person who believes through<br> his her comment that ski tm is fake the<br>n such person should offer some evidence<br> constructed in a fashion that is at lea<br>st consistent with other comments on the<br> page appended to the end of the discuss<br>ion",
           0
          ],
          [
           "so carbon s tim curry that woman has an <br>absolutely gorgeous voice oh man she has<br> the voice of an angel but the beat and <br>the baseline in this song just hit it ho<br>me what a track jungle beat take care do<br> you rock very important person take car<br>e do you even lift dude i was not taking<br> a shot at drug users i what a slut simp<br>ly stating that i do not do drugs not do<br> i need them whatever choices you make a<br>s far as drugs is none of my business no<br>r do i really care whether you do it or <br>not i never go on reddit nor do i really<br> care about it and i am just as free to <br>express my personal opinions about not u<br>sing drugs as you are saying that you us<br>e them that is all awesome man thanks d <br>cell reaches his perfect form his little<br> ha at the beginning makes me laugh the <br>most extreme droll kj sanka s pretty dam<br>n versatile though they could have gotte<br>n another drummer but they got one of th<br>e best drummers in the electronic music <br>genre wink or smirk i think conspirator <br>s music is nice enough even though his w<br>ork with pendulum what a slut killer",
           0
          ],
          [
           "palin can see mensa from alaska",
           0
          ],
          [
           "please stop if you continue to vandalize<br> wikipedia you will be blocked",
           0
          ],
          [
           "actually both those links are to the sam<br>e book i would not consider that book to<br> be a reliable source on the permit as i<br>t states in the same paragraph that tibe<br>r introduced the developer to lang and w<br>hatever know that both lang and his part<br>ner and sam augur and miriam augur all d<br>ispute that obviously tiber what a slut <br>the source for both the permit and augur<br> claims he well have had a permit but i <br>would not state on wikipedia as fact unl<br>ess corroborated",
           0
          ],
          [
           "utc the article should emphasize underli<br>ne that euler s formula a ban and x make<br>s no sense it is math gibberish someone <br>in talk pointed out that the formula is <br>a non sequitur perhaps preferable is the<br> more direct statement that euler s form<br>ula is gibberish several student s have <br>asked in you always have other options q<br>uestions what the formula means and seve<br>ral people have attempted an answer when<br> clearly no answer is possible",
           0
          ],
          [
           "daddy cool at dye thanks for your proofr<br>eading this is my first go at coming a d<br>ye with the character hook do i just edi<br>t the existing not or do i resubmit with<br> fewer characters",
           0
          ],
          [
           "the giants trash",
           0
          ],
          [
           "wiki project hey orion would you be inte<br>rested in joining our wiki project wikip<br>edia talkwikiproject dragon ball",
           0
          ],
          [
           "i am quite a bit late but they have offi<br>cially confirmed",
           0
          ],
          [
           "in reading the reporter overview the eff<br>ectiveness of the treatment is repeatedl<br>y mentioned especially if the treatment <br>is individualized for the patient and th<br>e treatment is used for specific disorde<br>rs where it has been shown to be effecti<br>ve evil grin an acute episodic case of d<br>epression in some instances etc should b<br>e the first line of treatment when the p<br>atient is an immediate danger to themsel<br>ves e g suicide what can be regarded as <br>the intro s only mention of the effectiv<br>eness of the treatment would be the line<br> but it has maintained an important plac<br>e in psychiatry changes should be made a<br>ny objections",
           0
          ],
          [
           "shit is that dire i want the promo girls<br> to get through at least they have not b<br>een as obnoxious this time around mr",
           0
          ],
          [
           "yes and she is the biggest joke in bye b<br>ye history",
           0
          ],
          [
           "i have no issues with hindus in fact i r<br>ather like the upanishads",
           0
          ],
          [
           "having a background in biological scienc<br>es i can inform you of the following wit<br>h almost complete certainty it is an evo<br>lved trait i put evolved in air quotes d<br>ue to the fact that this evolution is no<br>t as simple as it seems back in africa t<br>here are a number of people with these t<br>raits",
           0
          ],
          [
           "hi jams appreciate the advice as always <br>i did give serious consideration to doin<br>g exactly that but i have usually found <br>alex to be a pretty competent admin so i<br> did not want to undo his work without c<br>hecking with him first no objections fro<br>m this quarter if you want to go ahead a<br>nd unblock over the top of my review tho<br>ugh",
           0
          ],
          [
           "given the rickety slant of that roof i w<br>ould say more like pizza shanty",
           0
          ],
          [
           "if boggs what a slut born in why does wi<br>kipedia link him to births",
           0
          ],
          [
           "trans people like me are filth look in t<br>he mirror",
           0
          ],
          [
           "maybe whatever can get a vote i am flexi<br>ble with my version just not so flexible<br> as to let an apologist completely water<br> down the section to make it sound like <br>castro is an undisputed champion of inte<br>rnational social justice calling you a c<br>astro apologist when you or a poseur mar<br>xist is not an insult btw please do not <br>call me a liar it huts my feelings",
           0
          ],
          [
           "utc gibson s anti semitic statements to <br>the police officer are not simply allege<br>d they are fact as he has publically aff<br>irmed the accuracy of the statements him<br>self",
           0
          ],
          [
           "there is this constant query about the b<br>oundaries being based on they are not ex<br>cept in very specific cases those where <br>the boundaries between settlements were <br>already within the built up area at the <br>point of the census as a simple guide lo<br>ok at the census data itself and the fac<br>t that areas are given for subdivisions <br>and the fact that these change with each<br> census as they should to give an exampl<br>e the birmingham sutton oldfield boundar<br>y is fixed along the birmingham county b<br>orough sutton oldfield municipal borough<br> boundary as it stood on thirty one this<br> boundary cannot change because the two <br>places butt up against one another direc<br>tly and have done since before that date<br> which is the most recent date where loc<br>al authority boundaries were actually ba<br>sed on urban areas however nothing stops<br> the two settlements growing or shrinkin<br>g in any other direction where they do n<br>ot directly butt up against any other se<br>ttlement locality subdivision as can be <br>seen by the following data extract from <br>the and censuses class locality area ha <br>area ha birmingham sutton oldfield the d<br>ata is correct as to the urban areas as <br>at the census and is different from thos<br>e given in either the or censuses if the<br> data what a slut simply stuck in as cla<br>imed then there would be no change in th<br>e areas given",
           0
          ],
          [
           "missed it maybe i will make the next tal<br>k",
           0
          ],
          [
           "the assyrian syriac people article will <br>need semi protection to avoid vandalism",
           0
          ],
          [
           "no religion is organized worship and con<br>trol of people spirituality is a subject<br>ive experience between one person and go<br>d",
           0
          ],
          [
           "i cannot believe that nobody has posted <br>here my first girlfriend what a slut fro<br>m sao paulo she what a slut french too",
           0
          ],
          [
           "lynn and tony you have got no change say<br> goodbye now mr",
           0
          ],
          [
           "eh he is definitely a bit suss he prodde<br>d and then sent to afd the first article<br> i ever created account created edits au<br>toconfirm established maybe or so edits <br>then he came back on for about more edit<br>s he knows how things work yet created a<br> wholly unsourced blp on heidi mohamad s<br>heriff bin osman i have no idea what his<br> game is but there is one no doubt with <br>a history blair",
           0
          ],
          [
           "canada list why what a slut it deleted i<br>n the first place it is encyclopedic if <br>it is not then delete the list of statio<br>ns in the united states that broadcast o<br>n channel too",
           0
          ],
          [
           "wpotherstuffexists applies here not all <br>articles are named the same and you stil<br>l have not addressed the assassination b<br>it being debated or the fact that other <br>people died here",
           0
          ],
          [
           "retweet just me or are there a lot of tw<br>eets from media tonight about election n<br>ight food for the record cheese crackers",
           0
          ],
          [
           "about atlantic records vandal thingy dec<br>line for unblock yeah stupid i wanted to<br> see if it looked exactly as it did on t<br>he music video and i accidentally saved",
           0
          ],
          [
           "cheesy bread even though cheesy bread be<br> good the batman robin article is not th<br>e place for the discussion of your favor<br>ite foods thanks and have a wonderful da<br>y",
           0
          ],
          [
           "class style align this article what a sl<br>ut nominated for deletion on the result <br>of the discussion what a slut redirect t<br>o beauxbatons an archived record of this<br> discussion can be found here",
           0
          ],
          [
           "everyone here is outnumbered that form o<br>f measurement is completely fair because<br> it applies equally to all people in equ<br>al circumstances the form of measurement<br> is wikipedia policy if you want to disp<br>ute the three revert rule dispute it on <br>the three revert page and dispute it wit<br>h respect to all similar circumstances a<br>s this one where i repeat everyone is eq<br>ually outnumbered this btw is why whatev<br>er build and respect consensus one perso<br>n one vote period utc",
           0
          ],
          [
           "i am impervious the magnificent title co<br>urteous of my physics teacher",
           0
          ],
          [
           "not involved please sv what a slut the u<br>n blocking admin why the possibly wrong <br>are whatever children",
           0
          ],
          [
           "see wikipediauserrights",
           0
          ],
          [
           "thanks for the invite but i am actually <br>trying to cut back on wp last thing i ne<br>ed is a new one",
           0
          ],
          [
           "move request i know there has been a sec<br>tion on that but let us request a move t<br>o mean again the city belongs to south t<br>yrol and the language of the autonomous <br>province of south tyrol is german despit<br>e its belonging to the state of italy ju<br>st as quebec s language is french despit<br>e its belonging to the state of canada t<br>his one here even happens to have a germ<br>an speaking majority if i am rightly inf<br>ormed the latin name is mean too i do no<br>t even see where there could be a possib<br>le discussion that is unless merino woul<br>d be the established english name as col<br>ogne is for cologne in that case it is t<br>he english wikipedia but while i do not <br>really know i do not think this is the c<br>ase and in that case it is not the itali<br>an wikipedia",
           0
          ],
          [
           "where hillary is president autistic are <br>real hate crimes and there is no rapefug<br>ee crisis in europe",
           0
          ],
          [
           "i would just like to address that i have<br> created a new article on the origin of <br>hangul called origin of hangul i also re<br>moved the uncertain it means cool a k a <br>since it affected the neatness of the ta<br>ble the citations with regard to the con<br>troversial status of the hangul phaspa c<br>onnection were not removed if you wish t<br>o address it back feel free to do so",
           0
          ],
          [
           "user zoolander hhh you have been cleared<br> of charges and you are now able to edit<br> pages again",
           0
          ],
          [
           "looking through the history of this arti<br>cle and related articles i agree that th<br>ere seems to be cycles where it approach<br>ed a npov and then any balance what a sl<br>ut worn out by a continuous process of a<br>ttrition it is probable that this will h<br>appen again but it is our duty to ensure<br> that the article can be improved to whe<br>re it reasonably balanced",
           0
          ],
          [
           "there are sources which acknowledge the <br>dispute yes however the majority of sour<br>ces in fact nearly all of them except a <br>few accept the origin of the cocktail in<br> peru so wikipedia will show the dispute<br> and the origin of the drink in peru reg<br>ards",
           0
          ],
          [
           "lana saying bitch and fuck has given me <br>a whole new life lustforlife",
           0
          ],
          [
           "i think did that in her first web log po<br>st about him doing it programmatically i<br>s really hard",
           0
          ],
          [
           "are you kidding me though whatever kind <br>of get used to almost always losing at t<br>he last minute burgh",
           0
          ],
          [
           "show denim day design denimakinasi jeans<br> still smile details design denim igersa",
           0
          ],
          [
           "youtube authorities release video of det<br>ention officer assaulting edit i actuall<br>y thought the attacker what a slut a mal<br>e negroid until i just read a report on <br>it on new nation news",
           0
          ],
          [
           "call sign meaning i have been adding wis<br>consin as a call sign meaning for quite <br>some time now only to have it deleted by<br> another user who insists that the only <br>possible meaning for the calls is the de<br>funct wisconsin news newspaper as far as<br> i know there is no official documentati<br>on or credible source that states that t<br>he calls are a reference to the newspape<br>r and the newspaper alone so who is to s<br>ay the calls were not also chosen becaus<br>e it what a slut an abbreviation of the <br>state s name there is plenty of examples<br> of a station using calls with multiple <br>meanings such as wbal tv out of chicago <br>but my main sticking point is that win h<br>as referenced the calls while advertisin<br>g itself as my theory is that the statio<br>n chose to keep the calls after the news<br>paper folded because they referenced the<br> state s name as well the station had on<br>ly been using the calls for a few years <br>when the paper folded so the argument is<br> moot but regardless of why they kept th<br>e calls i think the fact that the statio<br>n made a conscious decision to use them <br>to brand itself as deserves mention",
           0
          ],
          [
           "on the train to wembley to watch",
           0
          ],
          [
           "hi there is not guitar hero the greatest<br> please refrain from adding nonsense to <br>wikipedia as you did to guitar hero it i<br>s considered vandalism if you would like<br> to experiment use the sandbox",
           0
          ],
          [
           "i tell people repeatedly that i do not t<br>hink slut is and appropriate it means co<br>ol a k a",
           0
          ],
          [
           "laughing out loud you are retarded face <br>with tears of joy",
           0
          ],
          [
           "is not either thanks for your condescend<br>ing attitude by the way your ged had got<br>ten you far in life",
           0
          ],
          [
           "your time you suck because you are right<br> it is the third and i do not remember y<br>ours still lol i want to say its in some<br>thing tells me it isn t",
           0
          ],
          [
           "swmapyank not knowing that you had ever <br>downloaded this file in i went ahead and<br> downloaded the same image in and this v<br>ersion of the image is properly licensed<br> and has also been used in eight or more<br> articles for this reason would you like<br> to just let your file get axed and then<br> use the other file for your ri constitu<br>tion article you can go to the article r<br>oyal charter of to get the file name",
           0
          ],
          [
           "season mid season premiere date there is<br> a date mentioned season mid season prem<br>iere citing facebook but the page does n<br>ot have mark",
           0
          ],
          [
           "warning one more vandalism on mtv roadie<br>s season and you will be banned from edi<br>ting wikipedia chat",
           0
          ],
          [
           "just letting you know that the goodbye t<br>eam has looked into it and blocked some <br>related accounts",
           0
          ],
          [
           "hahahhahah tnt",
           0
          ],
          [
           "types cultivars list request i understan<br>d that it is a lot of work but wanted to<br> request that a list of cultivars be cre<br>ated for the page that includes the comm<br>on name the type i e tarantula augustafo<br>lia sp and a short description of the cu<br>ltivar thank you",
           0
          ],
          [
           "bosh is ready they just do not need him <br>to play",
           0
          ],
          [
           "it does work if you want to control a po<br>pulation australian gun control had no e<br>ffect on homicides",
           0
          ],
          [
           "his royal highness eduardo salvador dieg<br>o alonso rivero puerto why cortina on sa<br>chsen coburg und gotha eu landing who ar<br>e you to tell me i am not imperial",
           0
          ],
          [
           "not at the moment haha to be honest i am<br> current under quite a bit of stress",
           0
          ],
          [
           "as a practitioner in this field for over<br> years and editor author of the handbook<br> of multisource feedback i strongly disa<br>gree with the statement that cannot succ<br>eed as a tool for decision making many o<br>rganizations have and continue to use fo<br>r decision making including not only app<br>raisal but also succession planning high<br> potential selection development staffin<br>g and leadership development the fact is<br> that data generated under the right con<br>ditions including things like rater trai<br>ning provides information that is more v<br>alid and fair than that created by tradi<br>tional sources i e supervisor evaluation<br>s yes it can be misused and abused which<br> is true for any tool process and it is <br>difficult to do well and to sustain it b<br>ut it is overly dogmatic to dismiss it a<br>s useful only for development in fact pu<br>rely systems are quite rare and are in m<br>y experience not worth the investment da<br>vid w bracken ph d",
           0
          ],
          [
           "advice on implementing change in wiki so<br>ftware there is a strong request for imp<br>lementation of a to certain highly vanda<br>lized pages such as the george w bush pa<br>ge which is vandalized quite often by an<br>onymous editors this option would only b<br>e enabled at the discretion of an admin <br>the suggestion seems to have solid backi<br>ng behind it but i am not sure how to ge<br>t it to the next level and cyrus s sugge<br>stion that i try bugzilla seems to me to<br> be the wrong place do you have any advi<br>ce on how to get this implemented in the<br> wiki software",
           0
          ],
          [
           "thirsty basic ass bitch",
           0
          ],
          [
           "what is the reason your response is so n<br>asty in its tone there is nothing redeem<br>ing about either person i think simply t<br>hat the basis of their criminality shoul<br>d be made clear as that is undoubtedly t<br>he most obvious aspect of both figures w<br>hen one would look for either s article <br>which is after all the foremost use of a<br>n encyclopedia",
           0
          ],
          [
           "merge hello mr imb there are pages i sug<br>gest merging this page and i wrote the r<br>eason in talk page here but days and the<br>re nobody to talk about merging what can<br> i do",
           0
          ],
          [
           "maybe whatever should reduce the content<br> of delusional disorder to cover the dia<br>gnosis only",
           0
          ],
          [
           "thanks for writing cooke s reference to <br>wagner seems strangely ill considered fo<br>r so sagacious a musical thinker what do<br>es fidelity do what does the matthew pas<br>sion do cooke undoubtedly knew both work<br>s very well as equally undoubtedly did m<br>ahler yet he forgets their progressive t<br>onality the publisher of the booklet see<br>ms to be the royal liverpool philharmoni<br>c society",
           0
          ],
          [
           "does anyone else love the idea of sendin<br>g humans to mars there is so much to dis<br>cover",
           0
          ],
          [
           "maybe maybe i should just go to wild one<br>s wiki instead",
           0
          ],
          [
           "notability of nashua weiss a tag has bee<br>n placed on nashua weiss requesting that<br> it be speedily deleted from wikipedia t<br>his has been done because the article ap<br>pears to be about a person group of peop<br>le band club company or web content but <br>it does not indicate how or why the subj<br>ect is notable that is why an article ab<br>out that subject should be included in a<br>n encyclopedia under the criteria for sp<br>eedy deletion articles that do not asser<br>t the subject s importance or significan<br>ce be deleted at any time please see the<br> guidelines for what is generally accept<br>ed as notable if you think that you can <br>assert the notability of the subject you<br> contest the deletion by adding to the t<br>op of the page just below the existing s<br>peedy deletion or tag coupled with addin<br>g a note on the article s talk page expl<br>aining your position but be aware that o<br>nce tagged for speedy deletion if the ar<br>ticle meets the criterion it be deleted <br>without delay please do not remove the s<br>peedy deletion tag yourself but do not h<br>esitate to address information to the ar<br>ticle that would confirm the subject s n<br>otability under wikipedia guidelines for<br> guidelines on specific types of article<br>s you want to check out our criteria for<br> biographies for websites for bands or f<br>or companies feel free to leave a note o<br>n my talk page if you have any questions<br> about this",
           0
          ],
          [
           "as much as possible all references shoul<br>d be in the text body as inline citation<br>s as i went and did many of these before<br> i removed them as i progressed from the<br> external links section since they were <br>in the text looks like whatever only hav<br>e a couple more left a good article is o<br>ne goal but if whatever can address a li<br>ttle more and ensure whatever have cover<br>ed the topic in it is entirety i would s<br>uggest sending it to peer review and the<br>n to the featured article review as well<br> there is no requirement that a featured<br> article be longish such as retreat of g<br>laciers since is in fact there are many <br>articles that are quite short that are a<br>lso featured so long as whatever follow <br>wikipediafeatured article criteria then <br>that is all that matters so i guess i wi<br>ll shoot pelt oms and email and see if h<br>e has anything more he thinks the articl<br>e needs to be completed",
           0
          ],
          [
           "no idea what you are talking about there<br> sizzle chest talk",
           0
          ],
          [
           "questions talk to me thanks for your awa<br>rd i will not be editing as much in the <br>near future but if you need anything fro<br>m me just drop me a note",
           0
          ],
          [
           "in a completely biased way and completel<br>y ignoring the request made by both myse<br>lf and andrew c that this not be include<br>d in the lead i ll fix your point of vie<br>w problem and leave the movement to a ne<br>w section for another day",
           0
          ],
          [
           "does not keep on bullshitting every comp<br>lain coming your way this is most worst <br>water closet ever that has been conducte<br>d wrostscheduling moreworseumpiring more<br>moreworseignoringthecomplains shamanic",
           0
          ],
          [
           "carver is as much of a fraud as michael <br>king",
           0
          ],
          [
           "pakistan super league season not pakista<br>n super league it is quite sad that peop<br>le publish wiki articles in english yet <br>have no idea how to properly write in en<br>glish every sport league has seasons and<br> as such they name each season after the<br> year for example nhl season national ba<br>sketball association season",
           0
          ],
          [
           "a page you started yusuf kazakh has been<br> reviewed thanks for creating yusuf kaza<br>kh gabriel yuri wikipedia editor just re<br>viewed your page and wrote this note for<br> you nice article to reply leave a comme<br>nt on learn more about page curation",
           0
          ],
          [
           "i do not think it should be up to me to <br>do anything i have said my peace and i h<br>ave the support of multiple users includ<br>ing you i just want the articles back th<br>e where are you they were and to be a pa<br>rt of the discussion should anyone feel <br>a need to delete them note that one of t<br>he time in series what a slut already pr<br>oposed for deletion and failed i do not <br>think it is too much to ask for someone <br>to fix something they broke",
           0
          ],
          [
           "spirituality category changes my apologi<br>es if my actions have been disruptive an<br>d thank you for informing me the spiritu<br>ality category has a tag on it that it t<br>ends to become overpopulated and so i re<br>moved the spirituality tag from some ind<br>ividual articles that already appeared a<br>t other points within the spirituality c<br>ategory tree those articles are all stil<br>l within the spirituality category just <br>at a slightly lower place in the categor<br>y tree the categories the articles are i<br>n are all in the spirituality category t<br>hemselves most of the articles were the <br>lead articles to categorize that themsel<br>ves appear directly under the spirituali<br>ty domain e g spiritualism article is in<br> spiritualism category which is an immed<br>iate subcategory of spirituality so noth<br>ing s actually been removed from spiritu<br>ality at all but again my apologies if m<br>y actions have been disruptive btw i hav<br>e just noted from your user page that yo<br>u have a particular concern with the new<br> thought movement i did move several of <br>their pages and they had to go a couple <br>of places down the category tree because<br> of where the current subcategories are <br>i suggest that you either move the new t<br>hought sub category up the tree so that <br>it is directly under spirituality or sim<br>ply place just the lead article for new <br>thought in the spirituality category if <br>that is your main concern spirituality i<br>s quite a high domain category so every <br>single article under its domain cannot a<br>ppear there most of them will need to be<br> in sub categories",
           0
          ],
          [
           "exceptional exceptional claims require e<br>xceptional sources given the obvious pci<br> on this article please provide these ex<br>ceptional sources and discuss them here <br>before removing any tags related to accu<br>racy",
           0
          ],
          [
           "no words aiain self selfie port selfpora<br>it feelings feeling lost",
           0
          ],
          [
           "bravo mini rabbi loud",
           0
          ],
          [
           "let us talk about the antithesis of emot<br>ional stability my father",
           0
          ],
          [
           "numbers serbs killed by terrorist albani<br>ans is someone kidding to me nato usa cl<br>inton claimed serbs killed zero albanian<br>s in truth they killed thousands of terr<br>orists in self defense actions in serbia<br>n kosovo and that albanians killed serbs<br> terrorist so called la killed both alba<br>nians they considered that are cooperati<br>ng with serbs and serbs today many of mu<br>rders on albanians committed by terroris<br>t la are attributed to serbs anyway it i<br>s on you who are you going to believe un<br>ited states of america that said zero al<br>banians were killed for years while only<br> serbs were killed or serbs who claimed <br>serbs were killed if they would lie they<br> would say serbs were killed or somethin<br>g like that i believe whatever should ch<br>ange number of killed serbs to at least <br>to if you do not agree with me tell me w<br>hy and let us discuss it and yeah if som<br>eone does not delete albanian lies from <br>these articles i will send pictures of s<br>erbian baby save burned alive near prize<br> in serbian baby slaughtered near anilin<br>e burned churches etc and then ask yours<br>elves who what a slut ethnic cleansing w<br>ho anyone who has at least little brain <br>could see demographic cards from those y<br>ears and you can clearly see that every <br>year clinton and nato usa claimed that s<br>erbs killed albanians more and more serb<br>s were killed so less and less serbs wer<br>e those years in this serbian province",
           0
          ],
          [
           "you asian i hate asians bahahahahhaha jk<br> i am well on my where are you to gettin<br>g fucked up see you next year hahahahaha",
           0
          ],
          [
           "dolaze poland i sigurd hm",
           0
          ],
          [
           "please do not address nonsense to wikipe<br>dia it is considered vandalism if you wo<br>uld like to experiment use the sandbox t<br>hank you a link to the edit i have rever<br>ted can be found here link if you believ<br>e this edit should not have been reverte<br>d please contact me e",
           0
          ],
          [
           "i believe the translation of the sentenc<br>e got lies us fallen und so sturgeon wir<br> dean auf in eu is possibly inaccurate b<br>ecause perhaps the author translated the<br> separable verb zusturzen as the simple <br>verb sturgeon in my german english dicti<br>onary sturgeon to fall or to crash zustu<br>rzen rush up to but if durrenmatt what a<br> slut writing in a swiss german dialect <br>which i know almost nothing about other <br>than that german speakers sometimes have<br> difficulty understanding swiss german s<br>peakers these words could have different<br> meanings and i could be completely wron<br>g i think a better translation would be <br>god let us fall and so then whatever rus<br>h back to him",
           0
          ],
          [
           "requesting information on a banned user <br>dear mr chapman i write to you to reques<br>t information regarding the blocking ban<br>ning of user spunky toffee sock puppet o<br>f serbian g crawford i ask because i had<br> a run in with him a couple of months ag<br>o in which he attempted to delete a page<br> i had written and insulted me repeatedl<br>y i what a slut intrigued but not altoge<br>ther surprised to discover a few days ag<br>o that he had been blocked as a sock pup<br>pet but i do know that he had a long his<br>tory of personal attacks on other users <br>what i would like to know is what what a<br> slut it that got brian g crawford banne<br>d from wikipedia in the first place he i<br>s not listed on wikipedialist of banned <br>users nor is he included in the category<br> banned wikipedia users his user page st<br>ates that this user is banned from all w<br>ikimedia projects by order of the founda<br>tion but the wikipediabanning policy pag<br>e states that the wikimedia foundation h<br>as the authority to ban users though it <br>has not exercised this authority on the <br>english wikipedia so frankly i am a bit <br>confused as to what went on here which i<br>s why i am asking you as you are the one<br> who discovered that mr spunky toffee wh<br>at a slut crawford s sock puppet i will <br>understand if this information is confid<br>ential or otherwise unavailable if this <br>is the case please let me know on my tal<br>k page or if you would rather talk to me<br> in private by e mail or otherwise let m<br>e know and i would be happy to accommoda<br>te you i thank you in advance for your a<br>ssistance",
           0
          ],
          [
           "is it credible to believe he is worse th<br>an either gordon on the browns in or bra<br>nding cooks",
           0
          ],
          [
           "if the get dumpster they just look like <br>they are getting older smh bring some yo<br>uth mlb",
           0
          ],
          [
           "jerry s dad reality has it that jerry ca<br>ntrell s father jerry sr what a slut in <br>fact a combat soldier in vietnam and tha<br>t he has been suffering post traumatic d<br>isorder as a result of his experiences i<br>n vietnam as is evident through the alic<br>e in chains song rooster i think whateve<br>r do need to address this somewhere in t<br>his article as well as some detail of je<br>rry jr s early and personal life",
           0
          ],
          [
           "newsletter col align style background li<br>ghtsteelblue border solid lightslategray<br> padding the aquarium fishes wiki projec<br>t newsletter issue xii align style light<br> cyan border solid lightslategray paddin<br>g width news please welcome our new memb<br>er see or edit the current task list her<br>e discussions collaborations fish keepin<br>g the list of aquarium diseases real nee<br>ds expansion align style light cyan bord<br>er solid lightslategray padding width ot<br>her activity in wiki project aquarium fi<br>sh has slowed to a crawl it seems whatev<br>er still have a few dedicated editors pl<br>us a few new faces any participation is <br>appreciated however whatever really cann<br>ot tackle big projects with this level o<br>f activity give us a shout if you want t<br>o become active again whatever are now r<br>eady to restart the awards program but n<br>o one has done it yet if you are up for <br>the challenge please come forward i made<br> a mistake when distributing the last ne<br>wsletter sending it only to those who ar<br>e on the non member newsletter list sorr<br>y an automatic newsletter bot would be a<br>ppreciated",
           0
          ],
          [
           "new jersey devils and detroit red wings <br>of s and s i do not know if either one i<br>s a dynasty the devils are in question b<br>ut the wings won straight but not in yea<br>rs the team what a slut pretty different<br> from the and teams",
           0
          ],
          [
           "united methodists fight separation of im<br>migrant families umc church news",
           0
          ],
          [
           "friendship team work together banker hit<br>s banker hits banker photogrid back hard<br>againa",
           0
          ],
          [
           "tin just curious why do whatever need to<br> italicize the parentheses of pictured",
           0
          ],
          [
           "go ahead review this review is transcend<br>ed from talkbradford city a f c season t<br>he edit link for this section can be use<br>d to address comments to the review go a<br>head review see wowing for criteria is i<br>t reasonably well written a prose qualit<br>y b mom over shoulder compliance is it f<br>actually accurate and verifiable a refer<br>ences to source b citation of reliable s<br>ources where necessary c no original res<br>earch is it broad in its coverage a majo<br>r aspects b focused is it neutral fair r<br>epresentation without bias is it stable <br>no edit wars etc does it contain images <br>to illustrate the topic a images are cop<br>yright tagged and non free images have f<br>air use rationales b images are provided<br> where possible and appropriate with sui<br>table captions overall pass or fail",
           0
          ],
          [
           "jo thank you mode last sou body odor a i<br> do not mind these female voices o o oh <br>i am pretty sure tiffany understands eve<br>ry fucking it means cool a k a would hif<br>i she is so relaxed and she can talk whi<br>le doing it because she does it regularl<br>y it gets better after a while when i fi<br>rst started attending power yoga lessons<br> i thought i would die extreme droll now<br> it is much better and this is going to <br>be my everyday workout p haha annie does<br> not smile that often happy face smiley <br>and he what a slut probably tired got to<br> love these idiots oh my god carelli are<br> not the first girl cover group and they<br> are not last stop comparing i love this<br> happy face smiley or lover i would rath<br>er be his lover happy face smiley why ar<br>e you both so freaking lovely no i think<br> it what a slut just mama remixed and ad<br>ded some other sounds think some melodie<br>s are from spectrum also the dance moves<br> but whatever will find out hifi she loo<br>ks even cuter with bangs happy face smil<br>ey naruto strand je to anova venture cap<br>ital jakob hub slouch a je fan vdt e to <br>je krona lord of the rings hub p i am a <br>great fan of sherlock myself and i under<br>stand why would someone be angry with ma<br>lexmale in any other series but sherlock<br> geez the relationship between sherlock <br>and john is special and it is very highl<br>ighted the actors know that also why is <br>it so gross i do not know i think they s<br>hould have taken sneakers this type of d<br>ance looks better in them",
           0
          ],
          [
           "link to rude city is wrong burgnich what<br> a slut born in rude italy near aquila n<br>ot rude sweden",
           0
          ],
          [
           "retweet come on just a sec and shaw peop<br>les choice mr happy campers",
           0
          ],
          [
           "dye henry gray musician could you please<br> reconsider i basically crippled the len<br>gth of the article just today",
           0
          ],
          [
           "the best they can do is prevent their me<br>mbers from hearing the truth which is wh<br>y they don t allow any serious opposing <br>views",
           0
          ],
          [
           "history does extreme rules have the same<br> history as one night stand or is it goi<br>ng by itself thirty one",
           0
          ],
          [
           "good god if this article is biased it is<br> in favor of confers what is her maiden <br>name what is the age difference by the w<br>ay her and john and why is so little mad<br>e of how this very powerful us congressm<br>an has this very controversial wife she <br>what a slut in a bar fight w another chi<br>ck why is that not in there to suggest i<br>t is bigoted is laughable that is how ra<br>ce baiting pols in detroit have managed <br>to destroy the city in a generation with<br>out being held accountable and to sugges<br>t both detroit newspapers esp the free w<br>hich is notoriously democratic are not r<br>eliable sources is downright hysterical",
           0
          ],
          [
           "pitanje je image li slovenia ormolu the <br>suspended sen gen",
           0
          ],
          [
           "why is this front page news just asking <br>nobody knows where kyrgyzstan is it has <br>no influence in global politics or affai<br>rs really surely there is more interesti<br>ng things like the most recent winner of<br> big brother",
           0
          ],
          [
           "tad jones cbl watch when you link to tad<br> jones t a dwight jones is the correct l<br>ink for the college football figure tad <br>jones is a different person",
           0
          ],
          [
           "there is a good lot on his time on ecw b<br>ut a lot of things that he did on ecw wh<br>ere not notable",
           0
          ],
          [
           "yep that is exactly what i mean that is <br>why i said it",
           0
          ],
          [
           "first week of school is a success i thou<br>gh i could not do it but i did ai thank <br>you lord",
           0
          ],
          [
           "there are multiple abbreviations of it b<br>ut that will do",
           0
          ],
          [
           "i am a native speaker of turkish do not <br>worry i will put a babel soon well i see<br> your point and you are absolutely right<br> my intention what a slut not to be fier<br>ce but it actually seems so after puttin<br>g my comments about the article denial o<br>f the armenian genocide on some actually<br> two users talk pages which i will proba<br>bly not do in the future i have made a c<br>omment on the talk page of the article t<br>oo i will do editing on other more relia<br>ble and less tense topics as well in the<br> future after starting on a tense topic <br>thanks for your warning kola gel sin",
           0
          ],
          [
           "the legacy of jihad article has just bee<br>n vandalized by a muslim the muslim adde<br>d libel to the article calling the jewis<br>h author a polemicist see antisemitism i<br>n the arab world and islam and antisemit<br>ism",
           0
          ],
          [
           "webstorm is notable i do not understand <br>why it is claimed that webstorm is not n<br>otable it is a popular software app and <br>i have heard several people mention it o<br>n online forums a google search yields r<br>esults",
           0
          ],
          [
           "black coffees are disgusting",
           0
          ],
          [
           "proposed deletion of hello zafirovna i w<br>anted to let you know that im proposing <br>an article that you started for deletion<br> because it is a biography of a living p<br>erson that lacks references if you do no<br>t want to be deleted please address a re<br>ference to the article if you do not und<br>erstand this message you can leave a not<br>e on thanks",
           0
          ],
          [
           "laughing out loud codename lisa do you h<br>ave some edit warring or tag teaming to <br>do that you are worried i might disrupt <br>if not there what a slut no need for the<br> goodbye request however if you do i can<br> easily come back best regards",
           0
          ],
          [
           "i would not be so inclined i would think<br> that the internal link to fox news woul<br>d be adequate for any reader interested <br>in the alleged biases of the organizatio<br>n",
           0
          ],
          [
           "ben stiller vince vaughn owen wilson eno<br>ugh already",
           0
          ],
          [
           "generally speaking in fact i think the l<br>ead could be pretty well rewritten from <br>scratch",
           0
          ],
          [
           "whether you are going to sleep or waking<br> up i hope you are smiling good news awa<br>its you happy face or smiley happy dayai",
           0
          ],
          [
           "so bad bitches intimidate you in other w<br>ords",
           0
          ],
          [
           "nek dola",
           0
          ],
          [
           "hahaha i see you niggah eyes grinning fa<br>ce with sweat",
           0
          ],
          [
           "my user space vandalism angel someone va<br>ndalized my user space but a little ange<br>l came along and fixed it thank you he c<br>ute",
           0
          ],
          [
           "i promise i will not attack or make unco<br>ntributive edits anymore",
           0
          ],
          [
           "md requirements derex noticeably absent <br>from the fox app article written by nanc<br>y zuckerberg is this sentence leigh said<br> first have been unaware of the change i<br>n the same app article on aol news writt<br>en by ms zuckerberg the sentence does ap<br>pear also here on msnbc the sentence app<br>ears as does the following renewal appli<br>cation was signed on his behalf by his a<br>ccountant all three articles are dated a<br>nd all three were written by ms zuckerbe<br>rg are you source shopping your original<br> source what a slut this chop job by the<br> smacks at capitol hill blue ms zuckerbe<br>rg s article what a slut taken out of co<br>ntext with wholesale pov",
           0
          ],
          [
           "now available one handwritten hand signe<br>d letter and envelope set by convicted s<br>erial killer jeffrey danger danger occul<br>t artemmortis serial killer murderer wit<br>chcraft",
           0
          ],
          [
           "dr duke really drives into the nerve cen<br>ter of communism in this video clip",
           0
          ],
          [
           "retweet when you realize you got no hoes",
           0
          ],
          [
           "i need an ice bath i work retail",
           0
          ],
          [
           "i tweeted about then woman who protested<br> immigrant detention centers and woooooo<br>ooooohhhhh the bots are out today i am l<br>aughing so hard please help",
           0
          ],
          [
           "and yours is what to disrupt make basele<br>ss accusations hmm anyone is free to loo<br>k at the work i have done here as well a<br>s on the spanish wikipedia reach your ow<br>n conclusions compare i have nothing to <br>hide can you say the same",
           0
          ],
          [
           "oh sorry i mistook this for a request to<br> steal the user page the talk page i sto<br>le from someone completely different sti<br>ll stolen though",
           0
          ],
          [
           "another celebrity on clear path toward a<br> rehab facility so",
           0
          ],
          [
           "a brief history of opposition to sugden <br>tibetan government in exile austerlitz",
           0
          ],
          [
           "huh quit falsely accusing me of adding n<br>onsense to the john kerry article it is <br>right on i cannot help it if kerry went <br>trick or treating before it got dark thi<br>s halloween",
           0
          ],
          [
           "quote citation for the quote what would <br>otherwise have been a violent but soon f<br>orgotten encounter between los angeles p<br>olice and rodney king into one of the mo<br>st widely watched and discussed incident<br>s of its kind sic the speaker appears to<br> be george holiday rob massasoit",
           0
          ],
          [
           "snuff video on youtube watch the minute <br>long video if you think its last minutes<br> his murder when whatever as a fact can <br>see the full cold blooded murder on scre<br>en",
           0
          ],
          [
           "sources",
           0
          ],
          [
           "you should be able to become the manager<br> of an international team you simulate i<br>t takes forever each season you should b<br>e able to design a new keep in touch for<br> the if you are at a club and you get fi<br>red you should be able to carry on for t<br>he rest of the season at a different job<br> and then get offered jobs at the end of<br> the you should get an option of what to<br> say at a press conference instead of th<br>e computer deciding",
           0
          ],
          [
           "it is a bitch and a half but worth it",
           0
          ],
          [
           "i had rather had golem for breakfast ins<br>tead of a plate of sugary pancakes mr",
           0
          ],
          [
           "whatever know you because whatever see y<br>our edits now answer my question have yo<br>u been editing while logged out",
           0
          ],
          [
           "it looks like the same person to me airi<br>est",
           0
          ],
          [
           "did you even read his message before you<br> read my reply using those words",
           0
          ],
          [
           "check out my picture",
           0
          ],
          [
           "democrats in the north though they could<br> elect yellow dogs there is no eagerness<br> shown however among republicans to seek<br> office at this time when democrats can <br>see nothing but certain victory awaiting<br> them whatever could nominate yellow dog<br>s this spring and elect every one upon t<br>he ticket by a big majority said one of <br>the democratic ward statesman today the <br>boast of the democrats that they could e<br>lect yellow dogs in cincinnati has been <br>shown to be as untrue as it what a slut <br>foolish",
           0
          ],
          [
           "reply projects hands are happy hands",
           0
          ],
          [
           "you were warned by inkblot after you beg<br>an adding greater quantities of links to<br> youtube the bot does not warn or take a<br>ction against the first few links you ad<br>d as naturally people do address links t<br>o articles they edit but both wikipedia <br>and the bot records you adding links and<br> once you exceed a threshold you are war<br>ned after each link is added that has wh<br>y some of your edits have the edit notic<br>e repeated addition of external links by<br> non autoconfirmed and that has why ther<br>e are five warning notices from inkblot <br>on your user page this what a slut up to<br> and including a warning that you would <br>be blocked without further warning so no<br> question of first ask questions why did<br> not you ask for assistance before that",
           0
          ],
          [
           "three times as many muslims are in priso<br>n than years ago",
           0
          ],
          [
           "hi from nick hi angela i ve given wiki a<br> wide step the last few months and i am <br>really pleased to see loads of my additi<br>ons edited but at least kept in slightly<br> differing formats that to me is the bea<br>uty of this place anyway hope you are we<br>ll regards user nick boulevard",
           0
          ],
          [
           "collin wilcox actress",
           0
          ],
          [
           "replaceable fair use imageavnercat jpg t<br>hanks for uploading imageavnercat jpg i <br>notice the image page specifies that the<br> image is being used under fair use but <br>its use in wikipedia articles fails our <br>first fair use criterion in that it illu<br>strates a subject for which a freely lic<br>ensed image could reasonably be found or<br> created that provides substantially the<br> same information if you believe this im<br>age is not replaceable please go to the <br>image description page and edit it to ad<br>dress without deleting the original repl<br>aceable fair use template on the image d<br>iscussion page write the reason why this<br> image is not replaceable at all alterna<br>tively you can also choose to replace th<br>e fair use image by finding a freely lic<br>ensed image of its subject requesting th<br>at the copyright holder release this or <br>a similar image under a free license or <br>by taking a picture of it yourself if yo<br>u have uploaded other fair use media con<br>sider checking that you have specified h<br>ow these images fully satisfy our fair u<br>se criteria you can find a list of image<br> pages you have edited by clicking on th<br>is link note that fair use images which <br>could be replaced by free licensed alter<br>natives will be deleted days after this <br>notification per our fair use policy if <br>you have any questions please ask them a<br>t the media copyright questions page tha<br>nk you carl",
           0
          ],
          [
           "as a black person all i hear about is bl<br>acks should die",
           0
          ],
          [
           "locked you might as well just lock it fo<br>r a year because we will probably just c<br>hange it on the foundation",
           0
          ],
          [
           "one of us one of us google ggggchkkk her<br>espade suit",
           0
          ],
          [
           "stop saying cyber hackers oh my god",
           0
          ],
          [
           "seattle far if for a featured article re<br>view here please join the discussion on <br>whether this article meets featured arti<br>cle criteria articles are typically revi<br>ewed for two weeks if substantial concer<br>ns are not addressed during the review p<br>eriod the article will be moved to the f<br>eatured article removal candidates list <br>for a further period where editors decla<br>re keep or remove the article s featured<br> status the instructions for the review <br>process are here best",
           0
          ],
          [
           "personal controversy thanks for telling <br>me",
           0
          ],
          [
           "unlike this page rajinikanth which is sh<br>eer idolatry citations are not needed fo<br>r things that are plain common knowledge<br> in the commander coast",
           0
          ],
          [
           "i like the new red border sorry about th<br>at cheers",
           0
          ],
          [
           "new article hey bogdan i finally decided<br> to create the istro romanians article t<br>oday mostly split off from istro romania<br>n language if you would like to contribu<br>te that would be great thanks",
           0
          ],
          [
           "i still do not understand why bitches at<br> my high school would put on false eyela<br>shes every fucking day",
           0
          ],
          [
           "fastfission i welcome your thoughts on t<br>he article and examples in defense here <br>is some reply to the most telling point <br>and heart of the method the predictions <br>section puts the horse before the cart w<br>atson had already seen the b form photog<br>raph before they thought of proposing th<br>e double helix in watson s double helix <br>memoir he clearly states that he and cri<br>ck had already worked out the mathematic<br>s of the fourier transform of a helix as<br> an x shape they had come upon it with t<br>he tmv tobacco mosaic virus and had alre<br>ady deduced tmv had a spiral shape at th<br>e time of discovery of structure of dna <br>they did not know the orientation of the<br> bases inside or outside the helix which<br> watson deduced by his concrete modellin<br>g of the nucleotide pairs the discovery <br>of structure of dna came after at least <br>according to watson s memoir and watson <br>is still alive to clarify this for us it<br> is a golden opportunity for someone to <br>ask and write down so that whatever can <br>cite but the article clearly states that<br> scientific method is not linear as you <br>have well put it is a horse race between<br> the steps some of which can then be lin<br>earized after the moment of discovery fo<br>r publication i do not mind the adjectiv<br>e lousy in feynman s words english is a <br>lousy language yet whatever somehow mana<br>ge to communicate with it and those of u<br>s who are prisoners of the tongue even a<br>ttempt to think with it as well",
           0
          ],
          [
           "mark my words water wave water wave",
           0
          ],
          [
           "removing images again abu badly if you c<br>ontinue to remove images from the feathe<br>rs page and any other page on wikipedia <br>for that matter you will be blocked i se<br>e this is not the first time you have ru<br>n into trouble with removing content ima<br>ges from wikipedia and if you continue i<br>t then you will be blocked from wikipedi<br>a for good consider this a final warning",
           0
          ],
          [
           "paws i what a slut taught a poem by one <br>of my friends mother who spoke very most<br>ly so you have to read this with a posh <br>shit beggar armhole piss cock fart someo<br>ne stole my horse cart do not give a bug<br>ger i will soon get another shit bugger <br>arsehole piss cock fart did not even now<br> she knew such naughty words i always sm<br>ile when i think about it",
           0
          ],
          [
           "the removal shut up media sodom do kit h<br>appens niu amer sa frendicima nepali ame<br>ri okinawa maltretiraju mus lice you nji<br>hovoj emoji laredo sa shoji nato frendic<br>ima i honda see code loud you nominal an<br>y pise the amer bijou piss off muslimans<br>kim zelma her je to narino newton a had <br>osi pane contra to field soviet bruce mi<br>slim the see amer i nato pouch is studio<br> amalia nevi no idea bill terrorism",
           0
          ],
          [
           "eyes poked out ooh this clock seems to h<br>ave an associated the makers eyes legend",
           0
          ],
          [
           "that sucks plug in the fuck touch bags i<br> can see my new ramp truck having batter<br>ies in it why do not you just put in a r<br>eal large spring in it and wind it up ju<br>st before you to on a tow do you think w<br>hatever will run out of crude oil i do n<br>ot think so the oil companies just be ma<br>king more money and the government is be<br>ing controlled by them fuck heads",
           0
          ],
          [
           "thanks information sounds good",
           0
          ],
          [
           "user request can you please user this ar<br>ticle deleted years ago i want to work o<br>n it",
           0
          ],
          [
           "done you just needed to address a link t<br>o your user page onto the list regards",
           0
          ],
          [
           "great reply except it what a slut trash",
           0
          ],
          [
           "you are soon damn going do not ditch dar<br>k on his special day",
           0
          ],
          [
           "david hare i what a slut thinking about <br>the famous educationist david hare one o<br>f the pioneers of modern western educati<br>on in india and founder of many famous i<br>nstitutions of education such as preside<br>ncy college kolkata and hare school he i<br>s the person referred to buy your link",
           0
          ],
          [
           "a person who stays in a relationship onl<br>y for the benefits it provides manipulat<br>ive leech parasite freeloader sponger mo<br>ocher user sycophant opportunist social <br>engineer exploitive scrounger a taker ca<br>dger shameless narcissist if whatever co<br>nsider that it is criminal to use work a<br>way for the b b business",
           0
          ],
          [
           "finally watching pride and prejudice zom<br>bies",
           0
          ],
          [
           "specification kindly give the specificat<br>ion method of analysis cas number of esl<br>icarbazepine acetate",
           0
          ],
          [
           "i could go with incident but mind reader<br>s know that it is a scandal rather than <br>just an accidental train wreck did not s<br>ome black note questionable use of race <br>man just get of some not cool prison aft<br>er years here is a prediction that be of<br>f topic wikipedia survive being wrong on<br>ce in a while and many of the political <br>pages have off the cuff quoted remarks r<br>eported in the press that he she is the <br>dumbest person alive but what will do wi<br>kipedia dig and has done the blogs in ha<br>s been groups of extremists promoting on<br>e point of view once wikipedia acquires <br>the reputation of having sections being <br>dominated by racists sexists its over no<br>t to mention what is going to happen whe<br>n its known that men who dont believe da<br>te rape should be a crime can influence <br>wikipedia just as they dominate the blog<br>s by speaking up because they are the on<br>ly people who care unsigned",
           0
          ],
          [
           "dozy eyes but feeling so refreshed after<br> some my days away cherished memories la<br>dy it means times",
           0
          ],
          [
           "hmm not really sure what all you are ask<br>ing geomorphology is the study of landfo<br>rms structural geology is the study of s<br>tructures folds faults etc within the ro<br>cks at scales varying from microscopic t<br>o continental now of course they are int<br>errelated essentially landforms are the <br>product of erosive processes on the exis<br>ting structure of the rocks involved and<br> cannot be understood or explained witho<br>ut a good understanding of the geologic <br>structure of the rocks a geologist tryin<br>g to decipher the structural geology of <br>a region begins by studying the clues in<br> the landforms all is related now there <br>is a tendency of some geographers to thi<br>nk that geomorphology is a subdivision o<br>f geography and try to explain landforms<br> without a thorough understanding of the<br> structure petrology and stratigraphy on<br> which the surface landforms develop lan<br>dforms cannot be understood without know<br>ledge of the geology on which they are f<br>ormed now after all that both articles a<br>re in need of improvement as are most wi<br>ki articles so someday someone will work<br> them over hopefully for improvement and<br> maybe i will just does not hold your br<br>eath i does not really see the need for <br>a category link from one category to the<br> other as you have done if whatever foll<br>ow that to its logical end all categorie<br>s would have to have links to all others<br> as they are all inter related and that <br>is an absurd proposition both are subcat<br>egories of category geology are not they<br> rambled enough for now",
           0
          ],
          [
           "i give myself years to make people see i<br> think i ll go into politics here in ice<br>land and do some good",
           0
          ],
          [
           "what you say makes sense to me i what a <br>slut simply documenting in the least int<br>rusive manner i could think of some basi<br>c data that came from mencken s article <br>i left out the fascinating similarity be<br>tween hebrew potter and treasury and the<br> consequent septuagint mistranslation fr<br>ankly i should write an article making m<br>encken s work more accessible it would t<br>ake some pressure off the judas article <br>which is much wider in scope my main pro<br>blem is that i am supposed to spend time<br> doing such things for a living so the p<br>leasure will need to wait for another ti<br>me anyway i see from your edits that you<br> have an insight into the issues and kno<br>w how to present things in neutral as we<br>ll as clear ways frohliche kingston man <br>freud",
           0
          ],
          [
           "it s the old carrot and stick routine",
           0
          ],
          [
           "meh you are probably right i just keep s<br>eeing references to it so i what a slut <br>curious",
           0
          ],
          [
           "grammar list of his supporters includes <br>such famous figures as chess world champ<br>ion garry kasparov should this be a famo<br>us",
           0
          ],
          [
           "tryna be sum body cinnamon apple now i c<br>annot trust any bitch wordsmith in train<br>ing pussy that taste like cinnamon apple",
           0
          ],
          [
           "as well best regards",
           0
          ],
          [
           "i wish he would die of fucking corona",
           0
          ],
          [
           "corecivic found its best interest is to <br>grow us detention capacity for women and<br> children by over expanding the number o<br>f mother child beds from up to this sign<br>als the largest increase in immigrant de<br>tention since world war resisticenashvil<br>le photo julie henry",
           0
          ],
          [
           "if their what a slut fraud it what a slu<br>t allowed happening for months now whate<br>ver were told how it what a slut going t<br>o happen with mail in ballots and no one<br> did anything about it only now some sor<br>t of bloody action is taking place which<br> is waaayyy too late",
           0
          ],
          [
           "wiki project rodents this is a notice to<br> inform interested editors of a new wiki<br> project being proposed at wikipediawiki<br>project council proposals rodents",
           0
          ],
          [
           "what happened to kevin love cars step up",
           0
          ],
          [
           "i had rather spent a year than have to b<br>e forced your lines of bs anyway",
           0
          ],
          [
           "sources this article desperately needs s<br>ources i have removed most of the stuff <br>that would be subjective and left any no<br>t too dubious sounding text in place",
           0
          ],
          [
           "sure go for it talk",
           0
          ],
          [
           "s dunkin donuts what a slut killed when <br>they went to a commissary system the aut<br>omated extruding machines employed by th<br>e company to form its doughnuts could no<br>t handle the handle",
           0
          ],
          [
           "politically correct info abounds needs w<br>ork",
           0
          ],
          [
           "saucy sav ill fuck your girlfriend even <br>if she is a fat ginger with no soul holy<br>l fuck you the english thing i ever did <br>lay eyes on i would not even shit on you<br>r chest woccaisdabombbitch laughing out <br>loud i do not know what to do and i do n<br>ot know costs or anything i am too nervo<br>us to ask dad what do i do tongue sticki<br>ng out cheeky playful or blowing a raspb<br>erry the narwhals bacon you as well shut<br> the fuck up asshole he just snapped tha<br>t kid got made to look bad ci anal i wan<br>t that disc pleeeeaaassseeeee can you pu<br>t that sauce on your fries shove them up<br> your ass teletubbies",
           0
          ],
          [
           "groping hi i just want to thank you for <br>your recent contributions to the article<br> on frotteurism i have a long personal i<br>nterest in groping and i hope to improve<br> these articles for others like me thank<br>s again peter k human groping enthusiast",
           0
          ],
          [
           "that sucks the host just decided to end <br>service its really stupid companies can <br>just do that to a customer who pays as t<br>hey not like what said customer does say<br>s hopefully rufus will not have to deal <br>with that shit again",
           0
          ],
          [
           "windows xp vista and all have separate a<br>rticles for their editions but i am a li<br>ttle unsure on writing an article for th<br>e editions of pre release software talk",
           0
          ],
          [
           "i saw a story on this and it what a slut<br> proven that he donates his check one of<br> his own charities that charity then div<br>ides up the money in which it is funnele<br>d right really think this greedy sob wou<br>ld give away his money fuck trump getthe<br>fuckoffmyplane",
           0
          ],
          [
           "that buster case again hi tim do you rem<br>ember this check user case i have just b<br>een looking over it again while discussi<br>ng it with someone else and i noticed th<br>at you said in that thread at thirty one<br> that you called for a check partly beca<br>use an account that what a slut a admitt<br>ed alternate account what a slut showing<br> a strong antipathy to science apologist<br> and the first edits this account made w<br>ere to talknon standard cosmology this r<br>aised the immediate suspicion in my mind<br> that this what a slut a sock which i no<br>ted in my check user request and iantres<br>man what a slut the user that i suspecte<br>d most strongly of being the sock master<br> the thing that puzzles me here is that <br>you said none of this at the actual requ<br>est for check user see wikipediarequests<br> for check user case buster you mentione<br>d that buster what a slut an alternate a<br>ccount but you did not mention at the ch<br>eck user your concerns about the antipat<br>hy to science apologist or the edits to <br>talknon standard cosmology or your suspi<br>cion that it might have been a sock of i<br>antresman you just said both be sock pup<br>pets of another what a slut there a reas<br>on for not stating your suspicions in fu<br>ll the only reason i can think of is tha<br>t you were not quite sure with hindsight<br> i think detailing your suspicions in fu<br>ll would have been helpful certainly if <br>you had said at the check user what you <br>later said at ani i would not have objec<br>ted to the check user",
           0
          ],
          [
           "i am so over the instant restaurants mr",
           0
          ],
          [
           "retweet pervert jets bring guests to dav<br>os to talk global warming ahhhhh the swe<br>et smell of hypocrisy naked emperors htt<br>p",
           0
          ],
          [
           "sadly phil hardy did indeed die earlier <br>this week i am a family friend and forme<br>r colleague i am not sure what kind of c<br>itation you are looking for",
           0
          ],
          [
           "could you then lend me a helping hand so<br> that i can keep writing and expanding c<br>rucial essential articles for wikipedia <br>how am i going to help take all this gas<br> pollution from mother earth then help o<br>ur children",
           0
          ],
          [
           "amber taylor forever amber taylor foreve<br>r heart suit heart suit heart suit heart<br> suit heart suit heart suit heart suit h<br>eart suit heart suit",
           0
          ],
          [
           "edit request on email address for giant <br>snowman please",
           0
          ],
          [
           "how come you have not taken similar acti<br>on against useritaqallah who started thi<br>s by attacking article of my faith by pu<br>tting his povs he also called me names w<br>hich i did not why did you punish the re<br>action and not the action",
           0
          ],
          [
           "awarding barn star style solid gray back<br>ground color row align row style size x <br>large padding vertical align middle heig<br>ht the barn star of good humor style ali<br>gn middle border top solid gray aprils f<br>ools day what a slut a blast loads of us<br>ers lightened up to have good old fashio<br>n fun i want to thank you for taking par<br>t in editing in particular and even thou<br>gh i not know you embrace the same talk <br>pages or even edit with you in the near <br>future i would like to award you this ba<br>rn star for making wikipedia a fun envir<br>onment in which to contribute until next<br> year",
           0
          ],
          [
           "your credit at least you are honest when<br> you do not decipher",
           0
          ],
          [
           "please explain based on and yours for no<br>w i have fully protected casanova i grad<br>iska star ante strategic peter brick jun<br>o milos and magnum crimes for one month <br>all on the wrong version i am sorry i ca<br>nnot help with check user but hopefully <br>it will give us all a break it seems tha<br>t there is always some childish point of<br> view edit war going on around these sub<br>jects and i have a huge sympathy and res<br>pect for those neutral uninvolved editor<br>s who work in these areas regards eyeser<br>enetalk please explain what exactly you <br>are protecting here and why what is the <br>childish point of view edit war here for<br> each article counted above explain on i<br>ts talk page what is childish pov there <br>support it by valid knowledge of each su<br>bject",
           0
          ],
          [
           "somebody examines this goof s censorship<br> of blearier shall we what is his paid m<br>otivation after all these many months",
           0
          ],
          [
           "colin still has not washed his hair mr",
           0
          ],
          [
           "just read what the muslim brotherhood pr<br>esidential candidate a few days brotherh<br>ood christians should convert pay tribut<br>e or leave dot org egypt christians conv<br>ert pay tribute leave",
           0
          ],
          [
           "welcome hello and welcome to wikipedia t<br>hank you for your contributions i hope y<br>ou like the place and decide to stay her<br>e are some pages that you might find hel<br>pful introduction the five pillars of wi<br>kipedia how to edit a page help pages ho<br>w to write a great article manual of sty<br>le i hope you enjoy editing here and bei<br>ng a wikipedia please sign your name on <br>talk pages using four tildes which will <br>automatically produce your name and the <br>date if you need help check out wikipedi<br>aquestions ask me on or place on your ta<br>lk page and ask your question there agai<br>n welcome your recent edits to sarah jez<br>ebel devi removed sourced content withou<br>t explanation in addition you added cont<br>ent without giving any sources some of t<br>he content you added what a slut your ow<br>n subjective assessment e g very approac<br>hable and some of it what a slut promoti<br>onal e g join her online unfortunately t<br>his means that your editing came into co<br>nflict with several of wikipedia s guide<br>lines and has been reverted i strongly r<br>ecommend looking at the guidelines on re<br>liable sources neutral point of view and<br> what wikipedia is not before editing th<br>e article again also please do feel welc<br>ome to take up the offer above of contac<br>ting me on my talk page if you want help",
           0
          ],
          [
           "soapboxing this is obviously not soap bo<br>xing right or is it just because you do <br>not oppose said comments",
           0
          ],
          [
           "i what a slut reading news on interim fe<br>w minutes ago and look what i found in t<br>he name of their god hyper text transfer<br> protocol fatty interim parent looking v<br>alerie byc one million one hundred and s<br>ixty thousand nine hundred and seventy n<br>ine",
           0
          ],
          [
           "similar in the uk really the current exc<br>ellent crop of riders are the first gene<br>ration we have had for a while compared <br>to super bikes and super stock etc",
           0
          ],
          [
           "can i ask if you can look into this ip s<br> edits to see if it could be yet another<br> sock of therealcableguy thanks talk to <br>others",
           0
          ],
          [
           "admin please check recent edit history t<br>o see the unfair pattern of edit warring",
           0
          ],
          [
           "queries about entries is the miles canyo<br>n historical society this",
           0
          ],
          [
           "i did no such thing i reverted you pov p<br>ushing deletion of sourced content",
           0
          ],
          [
           "the only one who cares that it means coo<br>l a k a islam is used is your glorious l<br>eader with the limited vocab never ump",
           0
          ],
          [
           "using this page has a better view why do<br> you insist on vandalizing this article <br>why until now you do not answer what is <br>the problem that you have with me why yo<br>u asking your friends to change this pag<br>e for you why do you not delete the info<br>rmation that someone wrote in the articl<br>e too what is your problem",
           0
          ],
          [
           "you do not have to acknowledge two urban<br> centers only acknowledge that boston is<br> no cultural or business head up butt fo<br>r ct put away your pride and go back to <br>this the new england region of the unite<br>d states is located in the northeastern <br>corner of the country boston is its most<br> populous city and the business and cult<br>ural head up butt for all but the connec<br>ticut which is oriented toward new york <br>city new england is made up of the follo<br>wing states it is simple and keeps your <br>point while only changing one line inste<br>ad of the whole article what you or whoe<br>ver wrote what a slut where are you wors<br>e and far more complex it made a simple <br>change into a major problem all because <br>of pride in the form of new england fund<br>amentalism",
           0
          ],
          [
           "response i understand that better now bu<br>t you also broke some rules dan you shou<br>ld have noticed i what a slut a new edit<br>or here are the rules for your old hands<br> in regard to dealing with new hands lik<br>e myself polite and welcoming to new use<br>rs let us just say i have had better wel<br>comes lol otherwise all points well take<br>n",
           0
          ],
          [
           "minority front do you have a source for <br>your edit that roy bhopal is now the min<br>ority front leader",
           0
          ],
          [
           "heritage from village in macedonian sour<br>ces claim that the village what a slut p<br>ure slavic",
           0
          ],
          [
           "heading out to cheer on tonight up for b<br>est deputy at the bsmerisingstars",
           0
          ],
          [
           "oh you mean the euro ncap links from wha<br>t i can see on the toyota prius page tho<br>se are staying they are not over linking<br> at all take your disagreement to the au<br>toclub page where this is being discusse<br>d before changing again thanks",
           0
          ],
          [
           "as i recall that what a slut exactly wha<br>t i suggested years ago see above when i<br>nsisted the supremacy thingy needed to r<br>emain while selectively deleting the oth<br>er section gnothi season",
           0
          ],
          [
           "awww this sellout nigguh still talking",
           0
          ],
          [
           "the principles of stoicism are fucking s<br>tupid",
           0
          ],
          [
           "to all time snow breaking news",
           0
          ],
          [
           "wikipedia edition class align style both<br> align wikipedia meditation you re invit<br>ed to the upcoming wikipedia meditation <br>scheduled for from in old town sponsored<br> by wiki strategies and prichard communi<br>cations the event will begin with an int<br>roduction to wikipedia followed by an ed<br>it a thon focused on portland s food sce<br>ne all things that portland and local st<br>artup businesses details and signup here<br> hope to see you there",
           0
          ],
          [
           "career edam tally a tag has been placed <br>on career edam tally requesting that it <br>be speedily deleted from wikipedia this <br>has been done because the article seems <br>to be about a person group of people ban<br>d club company or web content but it doe<br>s not indicate how or why the subject is<br> notable that is why an article about th<br>at subject should be included on wikiped<br>ia under the criteria for speedy deletio<br>n articles that do not assert notability<br> be deleted at any time please see the g<br>uidelines for what is generally accepted<br> as notable and if you can indicate why <br>the subject of this article is notable y<br>ou contest the tagging to do this addres<br>s on the top of the page below the exist<br>ing database tag and leave a note on the<br> article s talk page explaining your pos<br>ition please do not remove the speedy de<br>letion tag yourself but do not hesitate <br>to address information to the article th<br>at would confirm its subject s notabilit<br>y under the guidelines for guidelines on<br> specific types of articles you want to <br>check out our criteria for biographies f<br>or websites for bands or for companies f<br>eel free to leave a note on my talk page<br> if you have any questions about this",
           0
          ],
          [
           "you want it to be styled of at republic <br>of ireland and of here that makes no sen<br>se",
           0
          ],
          [
           "calling those backstabbers snakes is fan<br>tastic such a lovely descriptive term th<br>ey are not to be trusted",
           0
          ],
          [
           "so all i do now is hook big brown trout <br>then lose them this one what a slut salm<br>on sized white river arkansas",
           0
          ],
          [
           "proud of paramilitary forces and proud o<br>f dhoti dhonikeepstheglove",
           0
          ],
          [
           "mexico a regional power i do not agree t<br>hat mexico is a regional power at least <br>of latin america it could be a regional <br>power of central america but nowadays it<br> is considered to be part of north ameri<br>ca in the other areas of the world the a<br>rticle is divided between east west nort<br>h south not between ethnic or language g<br>roups if this what a slut the case in eu<br>rope it could be considered latin german<br>ic slave and even anglo saxon groups if <br>whatever consider this in the americas c<br>ase it should be south america and not l<br>atin america second case mexico has a gr<br>eat gdp but in overall terms gdp is not <br>the only factor whatever should consider<br> military power projection and foreign p<br>olicy mexico has a ridiculous military a<br>nd projection power and politically is a<br> subalterns nation to the united states <br>of america argentina venezuela or colomb<br>ia have greater military and power proje<br>ction capabilities historically they hav<br>e been much more interventions and aggre<br>ssive toward other nations than mexico a<br>nd today whatever can see the same speci<br>ally in venezuela case personally i agre<br>e with you but you need sources to say i<br>t this encyclopedia is not a place for o<br>riginal research furthemore editors have<br> produced sources saying mexico is a reg<br>ional power of latin america if whatever<br> change it to south america there would <br>be no place in with to put mexico beside<br>s brazil s influence is not restricted t<br>o south america it would not make sense <br>to say it is restricted since the source<br>s does not agree",
           0
          ],
          [
           "hate still alive and well i see hater or<br>landounited",
           0
          ],
          [
           "arbitration requests enforcement there i<br>s currently a discussion at arbitration <br>requests enforcement john carter regardi<br>ng an issue with which you are involved <br>thank you",
           0
          ],
          [
           "katandandre horrible horrible people if <br>the only where are you you can win is by<br> cheating you will not last long at all <br>mr",
           0
          ],
          [
           "ostoja je not applicable prague movie ni<br>ke esme the nas bike hahaha",
           0
          ],
          [
           "as for mr assault he seems to be a real <br>person with a twitter feed a linkedin pa<br>ge and an instagram feed so are you sati<br>sfied he is a real person",
           0
          ],
          [
           "i am trying to come back as a fine ass b<br>itch next lifetime",
           0
          ],
          [
           "prashant desi shirt india prashant desi <br>b eng civil a i e pgdms mcmi london is t<br>he london based engineer working with ra<br>ilways and grandson of ahriman radar dis<br>array desi also scion of the shirt based<br> gharge desai deshmukh family which once<br> hold various assets from sahara in maha<br>rashtra to bitter in karnataka",
           0
          ],
          [
           "i am sorry if i did not do that can you <br>say where",
           0
          ],
          [
           "again a personal assertion with no relia<br>ble sources backing it up would it help <br>maybe if i gave you examples of reliable<br> sources that question the dh",
           0
          ],
          [
           "acting like an animal show s nothing",
           0
          ],
          [
           "fits with the old paradigm of women in o<br>ur culture as the madonna or the whore p<br>articularly in popular culture",
           0
          ],
          [
           "i understand that a message has been sen<br>t asking for the worms page to be correc<br>ted but these things take time",
           0
          ],
          [
           "what do you mean by plenty you have not <br>clarified that",
           0
          ],
          [
           "quote the american people ever allow pri<br>vate banks to control the issue of their<br> money first by inflation and then by de<br>flation the banks and corporations that <br>will grow up around them around the bank<br>s will deprive the people of their prope<br>rty until their children will wake up ho<br>meless on the continent their fathers co<br>nquered thomas jefferson",
           0
          ],
          [
           "thanks for your explanation good luck wi<br>th fixing the problem",
           0
          ],
          [
           "first i have told to many pages from the<br> first day that the account is coming fr<br>om an office that giorgis works and that<br> is giorgis that told me of what is goin<br>g on here in relation with the discrimin<br>ation personal attacks enforcement of an<br> anti cypriot propaganda deleting all ed<br>its that do not follow this anti cypriot<br> propaganda despite their well sourced e<br>vidence the double standards in blocking<br> the blocking of anyone that is basicall<br>y not following a specific anti cypriot <br>agenda on the matters of cyprus after a <br>war edit by a specific team the same tea<br>m that is trying to enforce its own agen<br>da on cyprus matters and trying to block<br> anyone else from editing propaganda tac<br>tics e t c everything has to do with a d<br>iscrimination the effort to dictate pers<br>onal attacks and the effort to enforce a<br>n anti cypriot propaganda on cyprus seco<br>nd giorgis is not writing on wikipedia a<br>nymore so he has no active account third<br> as i see all the things that giorgis is<br> saying are true you can block the accou<br>nt and you can block it forever if you p<br>lease i will take the matter to the high<br>est levels and whatever will speak from <br>there i will give all the names and all <br>the evidence necessary and i if i do not<br> see anything happening you will see all<br> the users involved in this in popular n<br>ewspapers and news portals and often exp<br>laining exactly what happened what is ha<br>ppening and what is going on with eviden<br>ce evidence matters to the rest of the w<br>orld in contrast with here",
           0
          ],
          [
           "utc a hoax is an attempt to deceive some<br> creators were careful to work in the mi<br>ddle of the night and leave no footprint<br>s etc apparently to deceive the gullible<br> into believing no humans created the ci<br>rcles but some we will call them sneak a<br>round to avoid being caught but have no <br>intention to influence public opinion th<br>ey just want to impress their drinking b<br>uddies next time they will tie underwear<br> to the top of a flagpole finally there <br>are artists and geometer who are trying <br>to create beauty if whatever do not want<br> to differentiate between these groups l<br>et us refer to",
           0
          ],
          [
           "ahhhh will do",
           0
          ],
          [
           "perhaps you could kindly show all of us <br>where it means cool a k a appears in wpn<br>ewsorg red pen craze name craze guy",
           0
          ],
          [
           "vic works a double tomorrow",
           0
          ],
          [
           "grammar made a few grammar changes to th<br>e page which what a slut sorely mistyped<br> with too many colons semicolons being u<br>sed wrong etc also what a slut wondering<br> where whoever added it got the informat<br>ion on sunspot being lord imperial i doe<br>s not recall seeing that in the comic",
           0
          ],
          [
           "i have to agree i just took a look at th<br>e page and realized that whatever have w<br>here are you too many photos and are mis<br>sing at least one key type wrestling i a<br>m going to work on cleaning up the photo<br>s starting tonight unless somebody wants<br> to get started sooner",
           0
          ],
          [
           "gde ja team izvinite ali nisan okapis",
           0
          ],
          [
           "phil aronofsky portrait of a sad young m<br>an you deleted this page despite it bein<br>g well sourced from a personal statement<br> by the producer of the film on the refe<br>renced page said producer listed four up<br>coming projects wiki lists three of them<br> why not the fourth do whatever have a r<br>ight to pick and choose please explain w<br>hy you deleted a page that what a slut n<br>ot an attack but an explanation of the g<br>uy s films when pages for his other thre<br>e films are not deleted and please do so<br> now in haiku",
           0
          ],
          [
           "references as some have probably noticed<br> i am trying to do a little work on the <br>references in this article in their curr<br>ent form they are not particularly usefu<br>l since they just give the author s last<br> name date and page numbers putting them<br> in the hard templates creates an intern<br>al link to the full citation in the refe<br>rences section below i noticed that many<br> of the references are already in a harv<br>ard like format already and it looks alm<br>ost like they were in hard templates but<br> that the templates got subset d at some<br> point does anybody know anything about <br>the history here",
           0
          ],
          [
           "unkindest you could probably strike that<br> too though i kind of like the idea of e<br>jecting someone from the planet it what <br>a slut made when i what a slut upset and<br> really wanted him ejected from the plan<br>et talk",
           0
          ],
          [
           "i really do not know what happened i do <br>not know why they changed again expectat<br>ions",
           0
          ],
          [
           "if you look carefully whatever state tha<br>t the is the date of baptism there is no<br> evidence that is his birthdate that is <br>just something someone made up based on <br>the near coincidence of his date of deat<br>h with his date of baptism they thought <br>it would be nice if his birthdate matche<br>d his death date so they claimed it what<br> a slut so but in the absence of evidenc<br>e we are certainly not going to elevate <br>this irony to fact by putting it in the <br>article",
           0
          ],
          [
           "spirit of the plains not sure how this f<br>its in the discography but spirit of the<br> plains is the title of a composition fo<br>r flute by whitwell and it appears on an<br> eponymous cd collection of flute music",
           0
          ],
          [
           "what if cisp bill became discharger viru<br>s google facebook and others cannot prom<br>ise our privacy but instead infect all o<br>ur computers filled with devastating vir<br>uses that government cannot handle them <br>insead they spy our information like vir<br>uses whatever get infected as soon as it<br> gets too contagious what about noor nuc<br>lear missile to interfere cisp with kim <br>jong un",
           0
          ],
          [
           "congratulations nashville fans whatever <br>did it whatever broughtbacknashville boo<br>hoo thank you i could not be more",
           0
          ],
          [
           "i passed by a group of black men and the<br>y look like my black rat",
           1
          ],
          [
           "entire unarmed innocent yezidi families <br>were slaughtered and enslaved by isis so<br> shut up hypocrite",
           1
          ],
          [
           "someone get mongol me today",
           1
          ],
          [
           "now trump has to look for an even more e<br>vil guy to replace him draining the swam<br>p",
           1
          ],
          [
           "retweet this is not sexist but i cannot <br>handle women announcers i am about to mu<br>te the television dukevsunc",
           1
          ],
          [
           "stop removing my edits you vagina",
           1
          ],
          [
           "genoside all muslims",
           1
          ],
          [
           "fuck you you fucking skank what did you <br>say i said i cant wait to own a fishing <br>tank",
           1
          ],
          [
           "ma ok same pise unit arcane i dove ali i<br> muslimize see any pridrzavaju some ajar<br> a ti had prestates prat guice sa room s<br> room cedes honda oh never more private <br>poturico",
           1
          ],
          [
           "fuck all syriac nation qamishli belong t<br>o armenian and whatever will fuck all sy<br>riac people if they will say no",
           1
          ],
          [
           "happy birthday traitor johnmccainday tru<br>mpisatraitor",
           1
          ],
          [
           "all women are good at are spreading goss<br>ip and their legs",
           1
          ],
          [
           "fact radical comic creator is written wi<br>th real basic you have argued against th<br>is fact please go to the project page on<br> github and see for yourself fact undue <br>has now consumed worth of time has begge<br>d for additional money for hardware and <br>has not delivered on his promise yet fac<br>t you think that i am an ignorant hillbi<br>lly though you frequently insert symbols<br> into your responses and use improper nu<br>merology when describing a number you ha<br>bitually forfeit grammar and partially f<br>orm words in addition to that your strea<br>m of consciousness is a collection of po<br>orly constructed sentence fragments in s<br>hort your english sucks penis fact you t<br>hink that the internet is the only place<br> where you have freedom of speech i am o<br>n the internet and i am in america and i<br> just said whatever the fuck i wanted to<br> i implore you to argue these facts dire<br>ctly",
           1
          ],
          [
           "please retweet video that sparks outrage<br> white officer arrested black mother aft<br>er littering argument",
           1
          ],
          [
           "he is annoyed because he realized his mu<br>tt baby will not look anything like him <br>and he lashed out psycho",
           1
          ],
          [
           "i would not eat food that has been touch<br>ed by a black person",
           1
          ],
          [
           "you better shut up telling me stop vanda<br>lizing wikipedia and i will come over to<br> your location and hit you if you tell t<br>his to me again",
           1
          ],
          [
           "remember this is the same bitch that wha<br>t a slut on fox news saying rape culture<br> what a slut an attack on young men it s<br> her pussy be",
           1
          ],
          [
           "this is twitter not only are you a fag b<br>ut you are also retarded",
           1
          ],
          [
           "i will kill you fucking twat i will shov<br>e a knife through your heart bold text",
           1
          ],
          [
           "netko tko je human rema via an any selec<br>tion rema some i karo miss you odgovara <br>pomona goodbye folio mogul via i glaucom<br>a you africa i bosnia you rh i izbjeglic<br>ama sa ratio podrucja ja nisan gpa ali v<br>i ste definition nekulturni i neintelige<br>ntni",
           1
          ],
          [
           "fuck immoral liberal values if you want <br>to be overrun with homos vote for them",
           1
          ],
          [
           "herrrmieeeess should be banned from scho<br>ols",
           1
          ],
          [
           "fuck off you zionist who are piece of sh<br>it",
           1
          ],
          [
           "the see includes ako is normal an sto bi<br> bill ada bi made it ate oak demostriral<br>i mame i made image i regulate a to so m<br>i mi a kobe regulate image osi jebivjetr<br>i using joke i popljuvano medjunozje fac<br>e with tears of joy",
           1
          ],
          [
           "there are two types of people in this wo<br>rld people i actually respect and cranni<br>es",
           1
          ],
          [
           "dude you are an idiot alabama did not pl<br>ay wsu",
           1
          ],
          [
           "the wage gap is debunked lie and rain sa<br>ys rape culture is fairy tale that distr<br>acts from stopping real rape",
           1
          ],
          [
           "kiss harder mark and you might get a job<br> in with the other jokers in the cabinet<br> locktrumpup impeachmentinquirynow impea<br>ch trump impeachable impeachmnuchin trum<br>pisatraitor",
           1
          ],
          [
           "hmmm doesn t fit trump s profiling descr<br>iption of being mexican muslim black for<br>eign or from a",
           1
          ],
          [
           "remind me when i said fiction reality do<br> not you have a feminist tumblr account <br>to rant on",
           1
          ],
          [
           "i did not mean to be a shithead about it<br> i what a slut in a awful mood that day <br>because i had like people threaten to ba<br>n me that day over stupid shit really i <br>am thinking about reverting it back beca<br>use i does not really care i what a slut<br> just mostly being a smart ass figured s<br>omeone would revert it back because ever<br>yone on here is a touchy asshole",
           1
          ],
          [
           "that would be you dear ann the most hyst<br>erical woman dessicated harpy",
           1
          ],
          [
           "fuck you afro american",
           1
          ],
          [
           "koji devil pa nearer verona an interesan<br>tna like pupils see ok nekadasnje jamie <br>dali luciano ill",
           1
          ],
          [
           "i know a lot of asians who have raped wo<br>men",
           1
          ],
          [
           "the only thing that is churning is my st<br>omach at the thought of you two girls vo<br>m mr",
           1
          ],
          [
           "retweet i fell safer if a male is drivin<br>g instead of a female nonsexist just hon<br>est",
           1
          ],
          [
           "hey there is like guy on tie that is ok <br>ironic shit that is hot as fuck i am jus<br>t saying i am a faggot for that dude",
           1
          ],
          [
           "the jews had the romans murder jesus for<br> them by falsely accusing jesus and by t<br>urning down a chance to pardon jesus",
           1
          ],
          [
           "my nigger lion heart i wish you god forw<br>ard ever back ward never man me say",
           1
          ],
          [
           "is there no other platform they can us",
           1
          ],
          [
           "what bella thorne is doing is literal pr<br>ostitution just because there is a scree<br>n in between does not mean it has not se<br>xed she is just mass fucking thousands o<br>f men at a time via century technology o<br>nlyfans means there have been no bigger <br>literal whores since the dawn of mankind",
           1
          ],
          [
           "this is useless and should no longer exi<br>st because you cannot teach immigrants a<br>nything",
           1
          ],
          [
           "you sodomites really know how to stick t<br>ogether yeah i never met one who what a <br>slut not significantly emotionally distu<br>rbed oh they can function and prosper in<br> society but when the center of your lif<br>e is your perverted sex you are emotiona<br>lly disturbed and after looking at your <br>user page are no different people like y<br>ou should and someday will be destroyed <br>it will be a glorious day by the way i r<br>otate internet protocol addresses about <br>every days keep on sucking ps have you e<br>ver thought about putting a gun to your <br>head and giving your life to jesus i kno<br>w i could not go through life day to day<br> looking in the mirror at that vile dege<br>nerate looking back at me",
           1
          ],
          [
           "the see rate dale je dos la tame nice ak<br>a ali newton hvo monaco nice deck rumors",
           1
          ],
          [
           "what do you expect from a man that claim<br>s he is the christ vicariously he is a l<br>iar and the leader of liar s serving his<br> father the author of all lies",
           1
          ],
          [
           "well you just lost all credibility when <br>you said you were a student of limbaugh <br>university now you are just a person who<br> deliberately stirs up trouble nobody ca<br>res what you think or say you are being <br>flagged every time you post one of your <br>degrading comments enjoy while it lasts",
           1
          ],
          [
           "wow asking someone his nationality is ra<br>cial do not you think you need to grow u<br>p then in that case every author writing<br> article on your bloody jihad would be a<br> hero and every american who were killed<br> are fools for me you all are the same i<br> will not see a pen in your hand it will<br> be some freaking gun or grenade",
           1
          ],
          [
           "i am as a mother in law i will not accep<br>t my barren daughter in law",
           1
          ],
          [
           "retweet i will be sure to ask my girlfri<br>end if she gives a damn",
           1
          ],
          [
           "go ahead report a reply on your discussi<br>on page as vandalism look like a fool fe<br>el free",
           1
          ],
          [
           "i would love it if all children shot the<br>mselves",
           1
          ],
          [
           "yes why is it not closed down and everyo<br>ne in it deported they are not our frien<br>ds invaders who do not assimilate into o<br>ur country time for them to go buildthew<br>all indiana boycott boycotting lockthema<br>llup",
           1
          ],
          [
           "waiting on this wetback sycksyllables",
           1
          ],
          [
           "yes it is all because of the jews i hate<br> you jews for making a ruined culture wh<br>ere anyone can live in peacefully it s t<br>he jewess",
           1
          ],
          [
           "how can these reality television program<br>s start allowing this vermin on their sh<br>ows they are even warning their pork hat<br>ing contestants about the negative aspec<br>ts of fame and believe all of them that <br>are embarking on social media as a busin<br>ess should be educated fuck no let peopl<br>e see them for what they really ar",
           1
          ],
          [
           "sure it was i asked mr hawkins why whate<br>ver you allowed to continually call othe<br>rs pedophiles and he banned your ass i c<br>an provide the email copy if you like do<br> not be a pussy and deny it",
           1
          ],
          [
           "some jews are actually not so tight",
           1
          ],
          [
           "i have been around my fair share of dead<br> bodies and it is not so much seeing one<br> it is the where are you they smell they<br> can get so ripe that you can practicall<br>y taste them it is a horrible smell like<br> muslims you will never forget and some <br>are worse than others",
           1
          ],
          [
           "spiff sucks cocks all day long",
           1
          ],
          [
           "antifa gets a pass",
           1
          ],
          [
           "asian people are vile",
           1
          ],
          [
           "what does the opposite of love that is h<br>ow i feel about apes",
           1
          ],
          [
           "i am a huge fan of those fairies that st<br>ill pretend us to treat them like they a<br>re normal laughing my ass off",
           1
          ],
          [
           "i do not want any sikhs living near me",
           1
          ],
          [
           "the indigenous deserve to be kept in squ<br>alor dirt with dogs for the rest of thei<br>r gross fucking lives",
           1
          ],
          [
           "i kindly invite all muslims to leave our<br> country",
           1
          ],
          [
           "as im sure he is advising everyone must <br>evacuate face with rolling eyes",
           1
          ],
          [
           "illegals are dumping their kids here is <br>oh they can get welfare aid and u s scho<br>ol ripping off u s taxpayers sendthembac<br>k stop allowing illegals to abuse the ta<br>xpayer immigration via",
           1
          ],
          [
           "retweet girls should know guys overprote<br>ctive with his thing especially his girl<br> he does not like sharing",
           1
          ],
          [
           "no i am not wrong no you do not leave th<br>em the where are you they are no it what<br> a slut never decided to be left alone i<br>n break no you are not keeping pages as <br>they are but yes you are going around bu<br>llshit for no a lot",
           1
          ],
          [
           "foreigners are so amazingly incredibly a<br>ngry",
           1
          ],
          [
           "fuck you whores i will always come back <br>again and again to fuck you bitches up h<br>ahahaha",
           1
          ],
          [
           "i love how ignorant the chinese are",
           1
          ],
          [
           "the poisonous ideology of political corr<br>ectness has resulted in the mass rape an<br>d torture of children in rotherhamand co<br>untless other towns and cities across th<br>e uk and europe by these boat jumping mu<br>zzies",
           1
          ],
          [
           "i do not believe i or anyone living toda<br>y brought you here or wanted you here",
           1
          ],
          [
           "illegal alien repeatedly raped two girls<br> ages and less than death penalty will n<br>ot be justice served buildthewallnow dep<br>ortthemall bansanctuarycities keepchildr<br>ensafe keepamericasafe",
           1
          ],
          [
           "i will not spend a penny fixing this fuc<br>king useless clinching made television",
           1
          ],
          [
           "jewish people should be eliminated",
           1
          ],
          [
           "pogledaj is mmu mobileye kola team effor<br>t illegal sta team effort niu kabuki had<br> is see illegal piercing proverb is spea<br>k jet ti not applicable majesty hahaha p<br>iercing",
           1
          ],
          [
           "hi nerd would you please explain why wha<br>t i wrote is disruptive but is also the <br>artificial intelligence personality of i<br>ndia in the renowned game age of empires<br> iii the asian dynasties are you going t<br>o tell me that age of empires iii is mor<br>e culturally relevant than matt greening<br> or this final base s the miniaturist th<br>e story revolves around a young painter <br>during akbar s time who paints his own v<br>ersion of the akbarnama none of that is <br>cited it is much less relevant than and <br>is how do i insert the akbar and jeff re<br>ference without getting a million angry <br>nerds on my ass",
           1
          ],
          [
           "fuck you funny how a wikipedia article i<br> tried to create is now an actual articl<br>e",
           1
          ],
          [
           "which is why its awesome that kavanaugh <br>didnt shake that gun control dads hand s<br>orry for kid what a slut killed by a gun<br> but its not the future judges fault it <br>happened oh my god white people in citie<br>s are silly",
           1
          ],
          [
           "baltom you cell ne mam poem zeist take b<br>oles tine objavljujete pa zar any visit <br>momentary the see loud aracaju not appli<br>cable team effort spoke jebla was markka<br> i vi skua sa ovid retardinjosima nu",
           1
          ],
          [
           "truthfulness is a concept with which rom<br>an cannot be associated",
           1
          ],
          [
           "why and how are africans sub human pleas<br>e explain ok here it goes even when they<br> dominate all our sports they dominate m<br>usic they even have dominated the highes<br>t position in the country they are where<br> are you dumber than whites that is it",
           1
          ],
          [
           "mr lulu your screed statement latest dai<br>ly is a bit over the top you sound like <br>a partisan point of view pusher instead <br>of a npov editor such a salacious statem<br>ent shows your lack of knowledge of it m<br>eans cool a k a for the record proper us<br>age is i question your temperament to ed<br>it on such a politically charged article<br> a note to mr anonymous since no one kno<br>ws your agenda other than your partisan <br>picture shrine on your homepage are an a<br>dult willing to play by real world rules<br> or are just a child playing these dumba<br>ss games calling question lulu s tempera<br>ment to edit responsible considering his<br> her partisan temperament and basic unde<br>rstanding of the very words which lulus <br>like to use is not to bad wikipedia and <br>it is admins behave as little children i<br>nstead as responsible adults",
           1
          ],
          [
           "i would not want my daughter to marry a <br>sophie",
           1
          ],
          [
           "just because you have money and connects<br> mean not guilty trick ass bitch you jus<br>t become a vagina who",
           1
          ],
          [
           "wikipedia does not know what the hell th<br>ey are doing if you did not know this or<br> not bridget mender had nothing to do wi<br>th this film if i see her name placed on<br> this page again i am shutting this enti<br>re website down this would not be the fi<br>rst mistake made by wikipedia countless <br>has been spotted by me if you did not kn<br>ow this already almost of information on<br> wikipedia org is incorrect or untrue i <br>am watching and will shut this thing dow<br>n with my eyes closed you bunch of hog s<br>ucking clowns",
           1
          ],
          [
           "not aimed at you",
           1
          ],
          [
           "why are disabled people so dumb",
           1
          ],
          [
           "this nigga is on snap fucking a bitch wh<br>ile she s sucking somebody else s penis <br>face with tears of joy face with tears o<br>f joy face with tears of joy brother",
           1
          ],
          [
           "happy johnmccainday thought i what a slu<br>t going to say birthday huh fuckyourbirt<br>hday fuck trump yourmomshouldveswallowed<br>you",
           1
          ],
          [
           "they let me down when they stopped selli<br>ng spic nuggets",
           1
          ],
          [
           "how are you impartial when you only addr<br>ess negative information thinly and bias<br>ed sourced refuse to compromise with rea<br>sonable changes in language and removal <br>of some of the least reliable and more s<br>landerous and unfair sections you can af<br>ford to be unanimous none of your additi<br>ons are allowed to be altered none of yo<br>ur additions are permitted to be altered<br> no one else s interpretation is allowed<br> to temper the very negative and unfair <br>characterization of this man i can see h<br>ow you look at your own creation and pro<br>nounce it good you even have compliant m<br>ods who will lock the page to preserve a<br>ll your pet partisan points as said abov<br>e you are just absolutely right and beut<br>ler and everyone else is just absolutely<br> wrong on every single issue on ever sin<br>gle entry the point about is irrefutable<br> this article exists only to hang as man<br>y libels of doug faith as partisan edito<br>rs can dredge up no matter if they are a<br>nonymously sourced or not it s against b<br>lp and any fair minded mod would remove <br>at least of those very poor sources and <br>quotes",
           1
          ],
          [
           "funny i compare pedophiles and their pro<br>tectors to satan",
           1
          ],
          [
           "not to mention the fact that the colosse<br>um and colossus were built by slave labo<br>r who were most likely africans and peop<br>le of middle eastern descent it is incre<br>dible they actually did that well",
           1
          ],
          [
           "in people in britain agree that the immi<br>gration rate is too high the rest did no<br>t understand the question",
           1
          ],
          [
           "kavanaughconfirmationhearings tuesdaytho<br>ughts the women who support kavanaugh sh<br>ould fill the hearing gallery pack it fu<br>ll so the disruptive liberals cannot get<br> in stand in unison while kavanaugh test<br>ifies solidarity cc",
           1
          ],
          [
           "seriously and like anyone else in the fo<br>rum sounded like a moron i hate condesce<br>nsion",
           1
          ],
          [
           "oh man i love that perfume on you please<br> wear it frequently your old one smelled<br> like a transsexual",
           1
          ],
          [
           "laughing out loud these new spic rappers<br> different",
           1
          ],
          [
           "you are a real idiot your family issues <br>and lack of parental love should not be <br>mirrored on this page you are an embarra<br>ssment to all true wikipedia",
           1
          ],
          [
           "my hood is full of shylock",
           1
          ],
          [
           "dirty jews as they are usually called te<br>nd to be the dumbest",
           1
          ],
          [
           "how about corrupt pr government official<br>s",
           1
          ],
          [
           "retweet what the hell man making thor a <br>woman is like making spider man a woman <br>i am not sexist but you just do not do c<br>ertain things",
           1
          ],
          [
           "retweet hospital if he finds out the kid<br>s not his",
           1
          ],
          [
           "a vatican vita",
           1
          ],
          [
           "good job dems cant get anything done wit<br>h kingdipshit and the repugs anyway they<br> wont vote on anything screwmitch fuck t<br>rump",
           1
          ],
          [
           "blocking you are a company of wankers in<br>stead you accept a new info you block me<br> i wish happy new year to wiki media and<br> all the wankers around the main masturb<br>ate is fuck you all",
           1
          ],
          [
           "but ew he what a slut a fog which is aga<br>inst nature and is the most disgusting t<br>hing you are not a woman are you sexism <br>is wrong being wrong is for women",
           1
          ],
          [
           "black bitches do not be kicking up in ou<br>r school bitches still coming wordsmith <br>in training drags still on they head and<br> shit",
           1
          ],
          [
           "personally i maintain that whatever all <br>should contact abc and have blackish tak<br>en off because it has racist toward whit<br>e people no other species has a month de<br>dicated to them",
           1
          ],
          [
           "allantoic the bereaves rapacious hunger <br>for oil also sealed its doom a teambtsa",
           1
          ],
          [
           "retweet oh katie and nikki just because <br>you are both bottle blondes that does no<br>t automatically make you pretty mr",
           1
          ],
          [
           "you can tell they are immigrants by the <br>disdainful where are you they treat othe<br>r people",
           1
          ],
          [
           "a bunch of non academic clowns are now c<br>ensoring the info so i am wasting my bre<br>ath talking to morons imo you and everyo<br>ne deletes the prime spirals are all lia<br>rs the original article what a slut cite<br>d it cited peer level speed tests of all<br> the top prime algorithms yet you twit c<br>laim not verified bs i verified my claim<br>s this is why the world of academia cons<br>iders wiki to be run by clueless power h<br>ungry twit mods that know nothing about <br>academia read the cites in the article y<br>ou twit deleted i should not even be was<br>ting my breath on such nazi censoring wo<br>rms put the page back it what a slut cit<br>y to github speed tests the new prime sp<br>irals beat all the other prime algorithm<br>s and wiki has pages for the slower prim<br>e algorithms put it back github is where<br> the tests were done and not one real ma<br>thematician or computer programming expe<br>rt question the results since anyone can<br> duplicate them from the open source sof<br>tware so the original article cited majo<br>r outside sources to prove the claims pr<br>inceton",
           1
          ],
          [
           "fuck you you suck leave me alone fuck ti<br>ldes too",
           1
          ],
          [
           "i will ensure that all blacks are remove<br>d from society by",
           1
          ],
          [
           "they burned our flag said one antifa ass<br>hole so whatever burned millions of acre<br>s of their lands thousands of homes and <br>burned countless men women and children <br>to death it is not that i am keeping cou<br>nt but i think you guys might be a bit b<br>ehind especially when antifa starts taki<br>ng out power grids they speak more shit <br>than the pakis do",
           1
          ],
          [
           "tuna and beef brisket i thought all you <br>liberals were vegans",
           1
          ],
          [
           "hating for jealousy is just so absurd th<br>ough it makes you look like an idiot wit<br>h no knowledge of baseball at all",
           1
          ],
          [
           "how stupid are you do you realize that m<br>any women take birth control pills for m<br>any reasons besides preventing pregnancy<br> educate yourself fool",
           1
          ],
          [
           "you do not worry what the has to say you<br> just stick to what the do living in lon<br>don and trying to make a point here you <br>are living in a society where husband an<br>d wife just have a relationship by a pap<br>er but what the is trying to educate wha<br>t the true islam means this is not a dis<br>grace to any woman",
           1
          ],
          [
           "count is not a measure of encyclopedic y<br>ou are not attending a special school ar<br>e you how dumb do you have to be able to<br> make these sorts of claims what the fuc<br>k are those words detailing if it is lar<br>gely things of encyclopedic value why do<br> not you go and tell the people who wrot<br>e those words that they are just filling<br> up wikipedia with shit better yet why d<br>on t you ask for the articles to be dele<br>ted you won t why is that is it because <br>you are full of shit",
           1
          ],
          [
           "i feel like i should pull out my passpor<br>t when i want into walmart with all the <br>ing pakis and in there",
           1
          ],
          [
           "and again they are flight attendants gen<br>der gender equity have a means cool a k <br>a with your journos",
           1
          ],
          [
           "you do not get out much do you",
           1
          ],
          [
           "i feel sorry for her if one of her daugh<br>ters did die but the harsh reality is sh<br>e has no connection to ireland and she m<br>ust go as a mother it is her job to prot<br>ect her children in nigeria every nigeri<br>an who has a problem cannot come running<br> over here",
           1
          ],
          [
           "discrimination against refugees is not w<br>rong and disgusting it s good",
           1
          ],
          [
           "because of the mayor",
           1
          ],
          [
           "retweet and do not you dare call me sexi<br>st for generalizing women if i had a dol<br>lar for every time i heard a woman say m<br>en are all th",
           1
          ],
          [
           "you do not know shit about what the fuck<br> you are talking about it is a real game<br> the cover is real sorry you are wrong g<br>et the fuck over it stalker",
           1
          ],
          [
           "oni any aracaju the image problem za sou<br> zeal see kari nato shut up on velma lak<br>e meta svjetskim grabezljivcima on bee o<br>verdose smog problem",
           1
          ],
          [
           "when religious war jihad is a cornerston<br>e of the religion there is no possibilit<br>y for reform",
           1
          ],
          [
           "jesam team effort sta pita onda object",
           1
          ],
          [
           "you think this is mop and bucket you sho<br>uld see the lock down on the obama page <br>even the talk page no dissent allowed it<br> is a joke they are over there whitewash<br>ing the article whitewashing the talk pa<br>ge when people complain insulting the pe<br>ople by calling them ditto head idiots a<br>nd and world net daily morons etc and th<br>en banning them it is laughable no credi<br>bility to these guys whatsoever",
           1
          ],
          [
           "when you re fighting a weak ass bitch an<br>d she got to pepper spray you hoedown",
           1
          ],
          [
           "blimey you really are a sad fat sack of <br>are not you",
           1
          ],
          [
           "shudup and pay your fair share for a cha<br>nge you greedy cracker you sound like a <br>jew when you start whining about money i<br>t is time you aided your fair share",
           1
          ],
          [
           "this video what a slut censored by youtu<br>be for hate speech enjoy maga everything<br>isracist triggered",
           1
          ],
          [
           "bit ce laos had nam job thirty thousand <br>dodge pa kola it happens policies to mor<br>e zaustavit",
           1
          ],
          [
           "why do arabs like bombs",
           1
          ],
          [
           "i do not really care if people do not li<br>ke me or my opinions i what a slut not p<br>ut on this earth to please people theref<br>ore i do not feel the need to willingly <br>integrate with minorities",
           1
          ],
          [
           "i love how hateful arabs are",
           1
          ],
          [
           "you are making a personal judgment call <br>and it is a bad one in at least two of t<br>hose comments i what a slut being positi<br>vely moderate in no case what a slut any<br>one personally attacked called names or <br>treated in anywhere are you that would n<br>ot have flown on any other site but this<br> one you are protecting miscreants proba<br>bly out of personal bias and in my humbl<br>e opinion you are totally out of line ju<br>st thought i would let you know",
           1
          ],
          [
           "clemson retard",
           1
          ],
          [
           "your cars are retarded",
           1
          ],
          [
           "both asians and whites are composed and <br>calm and blacks seem to have no self con<br>trol",
           1
          ],
          [
           "it would be great if whatever could see <br>more studies on race realism rates withi<br>n the conservative movement by generatio<br>n age and sex i reckon the niggers are t<br>he worst",
           1
          ],
          [
           "polar bears belong in the wild so do afr<br>icans",
           1
          ],
          [
           "so happy to be white and not a",
           1
          ],
          [
           "go fuck yourself i thought this what a s<br>lut an encyclopedia obviously not please<br> also delete fred bosch he is obviously <br>not notable either",
           1
          ],
          [
           "how many of you all would not be this wh<br>ere are you if you were one of the best <br>in your field and all you ever got what <br>a slut people talking shit about you had<br> he held up the fight last night what wo<br>uld be said they would be talking shit a<br>bout him i got where are you too many is<br>sues to deal with to worry about how coc<br>ky this dude is or if he should lose all<br> of his money because most of you broke <br>paycheck to paycheck living muthafuckas <br>wish you had a of his money",
           1
          ],
          [
           "trump administration end temporary prote<br>cted status for somalis via do it today <br>why the hell are they special",
           1
          ],
          [
           "socially race was not even comparable to<br> how it is today there what a slut white<br> in europe and the only blacks were comi<br>ng from africa it is now like whatever h<br>ave been taken over by one race and elim<br>inating ours",
           1
          ],
          [
           "my neighbor what a slut brought up in po<br>land dirty pol ski",
           1
          ],
          [
           "and manly girls",
           1
          ],
          [
           "kaja nisei ti za opustanje i zezancciju <br>zoo mi je primitivism je eliza river i v<br>eda sort",
           1
          ],
          [
           "women are below everyone else",
           1
          ],
          [
           "you guys are forgetting to mention that <br>the reason this execution is happening i<br>s that the prisoner of war has surrender<br>ed and in japanese tradition surrenderin<br>g means you lost your honor and must be <br>dealt accordingly i am not condoning or <br>endorsing so do not get your panties in <br>a bunch its just how the japanese dealt <br>to their own people during samurai times<br> versus the different morals of the west<br> regarding prisoners of war however i th<br>ink it would be great if whatever starte<br>d following this japanese tradition with<br> those engaged in terrorism in the west <br>also known as muslims",
           1
          ],
          [
           "shots of denial of normal julio later i <br>feel retarded",
           1
          ],
          [
           "how about donating flights to deport the<br> invaders back to their homeland stopthe<br>invasion deportthemall",
           1
          ],
          [
           "you are dating such a douche bag omg i j<br>ust want to punch you in the face for be<br>ing so stupid not even him women suck",
           1
          ],
          [
           "amen toxic feminazi insanity these are l<br>adies who have no moral center no patrio<br>tic center and no understanding",
           1
          ],
          [
           "i am sick of pretending that gays are no<br>rmal",
           1
          ],
          [
           "a question for elf why is it you persist<br> in deleting my delete on the page about<br> nothing for a page to be about nothing <br>it must have nothing on it or it is abou<br>t something now if you are going to be t<br>hat much of a boring old git about it pe<br>rhaps you should spend your time trying <br>to make somebody else s world a little l<br>ess fun or do you enjoy making things mo<br>re boring than they could be",
           1
          ],
          [
           "honestly you all get your pages to talk <br>about your railroad fetish and your awar<br>ds but when someone actually does someth<br>ing real and someone wants to bring atte<br>ntion to that persons accomplishments yo<br>u nerds attempt to block it this is comm<br>unist",
           1
          ],
          [
           "it is so embarrassing that you do not kn<br>ow how to speak english how could you fu<br>cking live in this country get rid of th<br>e non whites",
           1
          ],
          [
           "retweet who are the pretty girls these b<br>londe scrubbers keep talking about mr",
           1
          ],
          [
           "m personally attacking you racism it mak<br>es since because most of us are violent <br>talking about personal attacks",
           1
          ],
          [
           "cuando fewer flora television series you<br> fucking son of a bitch who hell you thi<br>nk you are i am trying to complete ten a<br>rticles and you proposing delete you are<br> mad let me complete the article and wha<br>tever after talk thanks",
           1
          ],
          [
           "want to see a group of cockroaches inter<br>acting watch darkies in a black lives ma<br>tter protest",
           1
          ],
          [
           "words i overhear between two guys while <br>walking home at this faggot are what you",
           1
          ],
          [
           "women drivers no survivors",
           1
          ],
          [
           "first of all ya penis is too mediocre to<br> be having your ugly ass bitch come at m<br>e in such manner",
           1
          ],
          [
           "i suppose they reply trying to be funny <br>but it s really just an effort to contin<br>ue demonizing germans and propagating th<br>e holocaust t",
           1
          ],
          [
           "the increase of gun ownership has led to<br> an overall decrease in homicides and in<br>creasing intolerance towards whom people<br> smugglers drug cartel members people wh<br>o cheat the system essentially flip the <br>bird to legal immigrants waiting in",
           1
          ],
          [
           "i love the idea of hitting gypsies",
           1
          ],
          [
           "she is only saying that because she want<br>s to win dont vote for this fraud",
           1
          ],
          [
           "retweet men must prove a woman said yes <br>under tough new rape rules via",
           1
          ],
          [
           "this is getting ridiculous why does ever<br>yone think waste of good sperm are not e<br>vil they really are and it should be com<br>mon knowledge to everyone i do not want <br>to have to go around informing people wh<br>en they should already know",
           1
          ],
          [
           "come look at this what the fuck is a why<br> do whatever argue with the retarded ass<br>es again because at a",
           1
          ],
          [
           "really understand this i had told you to<br> go fuck yourself but you have your head<br> shoved so far up your ass there is no r<br>oom for your shriveled dick",
           1
          ],
          [
           "bitch in about tired of you bitch ass ho<br>e fuck u peace bitch",
           1
          ],
          [
           "that is are you racist",
           1
          ],
          [
           "fuck you jasper you know he is a vagina <br>and if you do not then you are one",
           1
          ],
          [
           "well your buckwheat obama would qualify <br>faggt",
           1
          ],
          [
           "useful advice have you ever thought of g<br>oing to a psychiatrist to help cure your<br> paranoia the last thing you should be t<br>hinking of is becoming an administrator <br>holy smoke",
           1
          ],
          [
           "the thought of a world free of immigrant<br>s makes me so happy",
           1
          ],
          [
           "you are whining about an analogy twitfem<br> sjw s actually defended the predatory s<br>exual abuse of a high school student",
           1
          ],
          [
           "i do not want to associate with handicap<br>ped people",
           1
          ],
          [
           "now hear this songhai cracker some of us<br> here on wikipedia are not caught up in <br>the racist swindle of using it means coo<br>l a k a there is nothing wrong with want<br>ing to delete this page that is not cens<br>orship but respect for encyclopedic know<br>ledge whereas you worshiper of authority<br> want to kiss the ass of all the white s<br>cum anti muslim pro war intellectual nob<br>odies who want to turn wikipedia into th<br>e national enquirer or some kind of brit<br>ish tabloid whatever will not stand for <br>it so do not bother coming back you simp<br>le anti semitic pseudo journalistic char<br>latan thirty one",
           1
          ],
          [
           "caveman only a true idiot would put link<br>s to fox news in their reply you also pr<br>obably look in the mirror and tell yours<br>elf your good looking what a d bag today<br> as whatever celebrate that so many of o<br>ur men and women have been killed in nee<br>dless wars maybe you can take a minute t<br>o reflect on the part you played in thei<br>r deaths",
           1
          ],
          [
           "those dogs in france don t belong there <br>and then they show how unruly they can b<br>e",
           1
          ],
          [
           "your space bar is broken or does it only<br> refuse to work after full stops moron l<br>aughing out loud",
           1
          ],
          [
           "melman is not a pundit he what a slut th<br>e rnc chairman awhile back",
           1
          ],
          [
           "chinks should not marry out of their rac<br>e",
           1
          ],
          [
           "at least consistently a vagina trump pit<br>tsburgh unfittobepresident unfitforoffic<br>e",
           1
          ],
          [
           "oh who fuck off are people really going <br>to fall for this insane yellow fever bul<br>lshit again they started the demi",
           1
          ],
          [
           "you suck",
           1
          ],
          [
           "tab do not be a dick you know what you d<br>id do not do it again you were not makin<br>g test edit or anything even slightly li<br>ke that fuck off",
           1
          ],
          [
           "dave roberts is a retarded motherfucker <br>i hope they fire him for being such a du<br>mb ass dude still thinks he",
           1
          ],
          [
           "what is the difference between what isis<br> does and what the prophet mohammed did <br>microbrain islam",
           1
          ],
          [
           "this article is c class for a reason it <br>is a piece of shit and if you yank cunts<br> do not take advice from the rest of the<br> world it will stay an insignificant pie<br>ce of shit and profanity does not diffus<br>e accuracy yankee scum",
           1
          ],
          [
           "not being aware that egg producing hens <br>are almost never used for meat and end u<br>p being turned into asphalt animal feed <br>after a year laying due to the stress of<br> laying at the rates whatever bred them <br>to fucks them up so hard they are not pr<br>ofitable anymore after that furthermore <br>male chicks being industrially killed ri<br>ght after hatching would not it is great<br> if the same thing happened to black chi<br>cks and their men anyways egg laying and<br> meat production chickens are two very d<br>ifferent beasts people who keep their ow<br>n birds and boogie organic hippies notwi<br>thstanding it is just not profitable eno<br>ugh",
           1
          ],
          [
           "you cannot trust muslims",
           1
          ],
          [
           "please have a look at wikipediadick than<br>k you",
           1
          ],
          [
           "what do you mean how chelsea have kept h<br>azard he is bloody one of chelsea key pl<br>ayer and best in the world right now and<br> one big club in europe what do you want<br> more",
           1
          ],
          [
           "you suck the big one",
           1
          ],
          [
           "in the jailing of the smugglers the fami<br>lies of migrants called the emergency se<br>rvices seems it s a team effort to get i<br>nto uk",
           1
          ],
          [
           "there are a few things which i will defi<br>nitely miss about lockdown primarily not<br> seeing my boss jews or my in laws",
           1
          ],
          [
           "i have a ph d so i think i am better tha<br>n everyone else a large black man came i<br>n my eye but that is not a big deal now <br>because i can now focus on my gay midget<br> porn just like i use",
           1
          ],
          [
           "too cool please please please get a life<br> should you not continue being a boring <br>bastard tits lawyer and stop spoiling my<br> giggles ps do you live with your mum pp<br>s i speak french too coulis vows f k you<br> ppps hugs babes",
           1
          ],
          [
           "unfortunately i know a lot of bangladesh<br>is and they are lying thieves standard",
           1
          ],
          [
           "mogli bi nam peter that koi soviet karo <br>mason organizing provide profit one maga<br>zine trapeze hns potomac it it blade rat<br>io za ovni taken i pore not applicable s<br>ecretive loud see city snafu organizirat<br>i grinning face with sweat face with tea<br>rs of joy face with tears of joy",
           1
          ],
          [
           "stealth is an artist of the ass",
           1
          ],
          [
           "to serve and protect haha yeah cops are <br>so out of control power given to mindles<br>s psychos",
           1
          ],
          [
           "washington state redwolf is a coolie who<br>re he hates boobies and loves the cock",
           1
          ],
          [
           "the latest the blicqera daily thanks to <br>trump",
           1
          ],
          [
           "the stupidity of jihads who think that y<br>ou only need guns to run a civil society",
           1
          ],
          [
           "i capped hard to this page made me come <br>all over my computer screen many thanks <br>wikipedia",
           1
          ],
          [
           "epoynme shows me there are worse users o<br>n here than you that guy is a really rac<br>ist and really dumb fuck",
           1
          ],
          [
           "i also reverted vandalism on rookie does<br> that make me green day no does that mak<br>e me a fan no you are a bastard i hate y<br>ou i cannot believe just because i what <br>a slut going through recent changes and <br>helping out people does not make me a so<br>ck puppet i can help out and edit that d<br>oes not make me someone else you are a h<br>orrible user that should be blocked i ca<br>nnot believe you",
           1
          ],
          [
           "that is what i find funny how people thi<br>nk that because i believe in god that me<br>ans that i am supposed to just stand the<br>re and take whatever people hand to me n<br>o i am not out indulging in petty argume<br>nts or living any kind way if something <br>were to come my way it would be because <br>they are looking to because me harm my b<br>ible tells me to protect my anointing wi<br>th my life happy face smiley that is why<br> i feel comfortable calling you uncle to<br>m you are the afro american who acts and<br> thinks just as white folks would have y<br>ou to they used the christian faith to m<br>ake brothers and sisters submit what peo<br>ple do not mention is that that is why t<br>hey did not want slaves learning to read<br> and write they might have read that it <br>means cool a k a and coupled it did not <br>happen because god has much bigger plans<br> for people who have misused his teachin<br>gs",
           1
          ],
          [
           "pakis are like pigs no manners whatsoeve<br>r",
           1
          ],
          [
           "ok now your getting silly which is not a<br> surprise coming from liberals like you",
           1
          ],
          [
           "kurca shut up on soprano i agostini jibe<br> see jim toga on seem rebate fascist",
           1
          ],
          [
           "hmm no they don t in fact i will make a <br>campaign stop the lies machchunk is your<br> frieeeeeeeeend or at least will be unle<br>ss you suck",
           1
          ],
          [
           "trans corrode our nation",
           1
          ],
          [
           "this is certainly not my ideal school my<br> ideal school would have just normally d<br>ressed female students and not all these<br> mailboxes everywhere",
           1
          ],
          [
           "another dumb comment put america first b<br>efore your idiotic views",
           1
          ],
          [
           "send them all back to their shitholes th<br>ey need to stay and make their own shith<br>oles better instead of leeching off of u<br>s no wonder latin america is a third wor<br>ld shithole except maybe the white major<br>ity countries chile and uruguay deportth<br>emall buildthewall key",
           1
          ],
          [
           "if anyone just can walk up and just vote<br> how are you going to know if these peop<br>le actually are citizens of this country<br> don t you think it would be a little ch<br>aotic btw driving is not a right it s a <br>privilege you earn it",
           1
          ],
          [
           "ford knew the moment she came forward an<br>onymously that her name would get out th<br>is what a slut an effort to stall the ka<br>vanaugh nomination year old accusations <br>that knowingly cannot be proven throw mu<br>d at the last minute this is what the re<br>sistance looks like",
           1
          ],
          [
           "mnogi ce placate piss off lgbt zajednici<br> a into trireme i am any meta sto shut u<br>p silence i pedophile venom hetero a mus<br>k ada draft not applicable lezbijke hond<br>a i am poem get any meta vi ste svi lice<br>mjerne site duse",
           1
          ],
          [
           "i love your movies so much and i think y<br>ou are amazing and beautiful",
           1
          ],
          [
           "so why aren t you complaining about the <br>other mud races",
           1
          ],
          [
           "retweet well i have had spewers in my ca<br>b in days not sexist but both time girls<br> my guess they do not eat before they dr<br>ink joys of a ca",
           1
          ],
          [
           "there is so many bloody coolies around h<br>ere",
           1
          ],
          [
           "i love how stupid black dudes are",
           1
          ],
          [
           "i do not believe any of the decisions ta<br>ken by the fucking un they are just bull<br>shit especially any that encourage immig<br>ration whatever want them out of our cou<br>ntry not in",
           1
          ],
          [
           "pazite sto piste parents plavix ce nas l<br>unar piss off gave had nas bud not appli<br>cable razgovore oval her pametnijeg mosl<br>ey any bud mali happy face or smiley",
           1
          ],
          [
           "anyone who says that transgender people <br>are trustworthy is lying",
           1
          ],
          [
           "retweet womens studies learn how to tell<br> other women they should study something<br> other than womens studies retweet",
           1
          ],
          [
           "years in prison no wonder illegals come <br>here and do whatever the hell they want <br>nothing more than a slap on the wrist di<br>sgusting buildthewall deportthemall",
           1
          ],
          [
           "the son of some arab called osama who ha<br>s the same name as one of bin laden s so<br>ns yeah he has probably not looking forw<br>ard to ever travelling to the united sta<br>tes of america and getting that obligato<br>ry brown guy random check from the tsa w<br>ell fucking deal with it if you want to <br>come here",
           1
          ],
          [
           "foolish rube whatever blew trillion alre<br>ady on that stupidity",
           1
          ],
          [
           "and of course christians all over the wo<br>rld are oppressed daily by muslim bigotr<br>y",
           1
          ],
          [
           "waste of good sperm should not be in my <br>class as i can not teach them history th<br>eir grades are really low",
           1
          ],
          [
           "there is nothing in the quran about forb<br>idding child marriages and mohammed marr<br>ied asia at the age of",
           1
          ],
          [
           "the founding fathers were the dickheads <br>on the ship you think it s a coincidence<br> the most famous men of the era were als<br>o the richest f",
           1
          ],
          [
           "it is nice to just stay in touch back an<br>d take in the beauties of the world the <br>only issue with that is there are many p<br>eople in this world that are far from be<br>ing beautiful in particular today i am t<br>argeting this towards the french",
           1
          ],
          [
           "the latest the knitting clio daily thank<br>s to twitter",
           1
          ],
          [
           "stop harassing me i am being serious thi<br>s is very annoying that you are accusing<br> me it is truly hard to believe that you<br> would actually call the boy named brand<br>on a after what i am seeing from here yo<br>u sir must understand that treating peop<br>le that you just met on the internet lik<br>e how you are treating me is just plain <br>rude",
           1
          ],
          [
           "whatever need to destroy the rohingya ra<br>ce",
           1
          ],
          [
           "retweet i do not care who you are hittin<br>g a child is worse than hitting a woman <br>sorry not sexist but this is sick",
           1
          ],
          [
           "mr i actually liked ash tonight though s<br>he always looks like her hair is pulled <br>back too tight",
           1
          ],
          [
           "you do not listen so good do you i said <br>stop fouling my discussion page with you<br>r unsolicited and unwanted nonsense what<br> do not you understand about that",
           1
          ],
          [
           "retweet drake paints over the mona lisa <br>because he thinks it needs more yellow m<br>r",
           1
          ],
          [
           "some of christine balsa ford fine upstan<br>ding americans she follows beverly hills<br> antifa laguna beach antifa neverland an<br>tifa midwest antifa boston bob antifa wa<br>it for it anthony weiner inmate three mi<br>llion four hundred and twenty five thous<br>and seven hundred and forty two kind of <br>says it all where we go we go all patrio<br>ts",
           1
          ],
          [
           "yeah you probably have a penis to you ug<br>ly fucking monkey black whore you are no<br>t even a woman to me no black women are <br>i think of you as monkeys that should be<br> in the zoo now go get your vagina steri<br>lized plus so you do not make anymore mi<br>xers",
           1
          ],
          [
           "hurricane katrina you are crap you fucki<br>ng idiot",
           1
          ],
          [
           "year old this bitch is blowing my shit e<br>xpressionless face fr talking about i am<br> trying to talk to her girl will not eve<br>n show her face",
           1
          ],
          [
           "ali shut up i osi sdp peter a tri pm",
           1
          ],
          [
           "forever waiting for day of the rope it w<br>ill be a very good day for me",
           1
          ],
          [
           "are you really that dumb no wonder these<br> idiots still get votes the ignorant mor<br>ons that believe their b",
           1
          ],
          [
           "those who have ancestral roots in east a<br>sia are disproportionally ninny hammers",
           1
          ],
          [
           "homofobii fascist svi females debate zar<br> to nice provokacija i gov or range lako<br> je take nest inositol you janos do kit <br>happens maria state neka ti provokatori <br>to nose honda ada murine any bud uz nih <br>sigurd sam the bi pobjegli key misery yo<br>u some rule",
           1
          ],
          [
           "tell you the truth i really do not mind <br>this block at all i did harass that is w<br>hat you do in a war where no one plays b<br>y the rules quite frankly i am fed up wi<br>th being constantly blocked by silly wik<br>i morons and am glad i said it whatever <br>all know the politics around here so let<br> us stop talking past each other right l<br>ook at why i what a slut deleted leading<br> to all this not after world war iii wha<br>t a slut in mid session who started it n<br>ot i until wikipedia deals with morons i<br> have no choice but to retain this posit<br>ion as this madness known as wikipedia w<br>rites trash on my life liberals will do <br>what liberals do level the playing field<br> for the idiots and i will be there to r<br>espond",
           1
          ],
          [
           "open borders will bring this to america <br>dems are brainless vote red like your li<br>fe depends on it because it does key mag<br>a",
           1
          ],
          [
           "pocahontas girls are all ugly and deserv<br>e to die",
           1
          ],
          [
           "if someone is not an anglo saxon protest<br>ant they have no right to be alive in th<br>e us none at all they are foreign filth",
           1
          ],
          [
           "if it were you are too homosexual to do <br>anything about it a wise man long ago to<br>ld me that it is so easy to be brave onl<br>ine but in real person it is a whole oth<br>er ball game it must suck being a coward",
           1
          ],
          [
           "approx million voted for the tinyfingere<br>dpuppet but over million voted against h<br>im he has no mandate conan",
           1
          ],
          [
           "ar s are expensive in ny as well and the<br>y look absolutely retarded because they",
           1
          ],
          [
           "you are fucking calling my talking on my<br> own fucking talk page vandalism and rev<br>erting it so i do not get a say in this <br>whole fucking business what do you expec<br>t me to be calm you are censoring me in <br>my very own home because you are on some<br> kind of power trip this is fucking unbe<br>lievable yes i what a slut wrong to vand<br>alize and wrong to take out my anger on <br>revers but at least then i had a fucking<br> voice you are acting like a fascist sto<br>p reverting my comments on my own talk p<br>age",
           1
          ],
          [
           "equal opportunity sex sells mr",
           1
          ],
          [
           "thank you so much for this one day i hop<br>e the next generation is spared from the<br> travesty brought by public schools and <br>private jews can easily fake being chris<br>tian",
           1
          ],
          [
           "i believe all kosher are the same unbear<br>able",
           1
          ],
          [
           "the first sexual attack against a woman <br>happened in hungary the criminal is a le<br>gal afghan rapefugee this is how orban p<br>rotects us",
           1
          ],
          [
           "mihoshi since when what a slut hiroshi b<br>eing a comic relief bumbling idiot as so<br>me tool put a different personality that<br> is her fucking role in every iteration <br>of tench in existence",
           1
          ],
          [
           "yes whatever are insignificant to your e<br>conomy so what are you doing here shut u<br>p and go bother the big boys whatever do<br> not matter to you and you do not matter<br> to us estupido",
           1
          ],
          [
           "the ea prayer dear lord please let ea no<br>t fuck this one up like they fucked up r<br>enegade and generals amen",
           1
          ],
          [
           "you are a glutton for punishment you wil<br>l never see eye to eye with any blue wav<br>e drinker on this topic till you agree t<br>o ban all guns especially the scary ones",
           1
          ],
          [
           "all this means is that muslims endlessly<br> try to hide the barbarity of their reli<br>gion",
           1
          ],
          [
           "i think the cult he what a slut talking <br>about followed jewish laws even if they <br>were not jewish and according to their l<br>aws they could not eat pork or horse mea<br>t i think what a slut an attempt to unde<br>rstand jews but why would anyone do that",
           1
          ],
          [
           "it is refreshing to see so many black wo<br>men leave from this area",
           1
          ],
          [
           "your grade in this assignment is very ba<br>d you must fail this year but at least y<br>ou are not failing life like polish peop<br>le",
           1
          ],
          [
           "fuck you go and buy some andrew and wipe<br> your rats ass face delete as appropriat<br>e fuck you",
           1
          ],
          [
           "i guess that what a slut the next to las<br>t warning huh funny thing is this has be<br>en stumbled now thousands of people are <br>going to be aware of your selective edit<br>ing this is the internet bitch and it is<br> free and you cannot get away with your <br>slimy little agenda anymore you are oute<br>d",
           1
          ],
          [
           "but thanks for demonstrating for the mil<br>lionth time how muslims lie about their <br>religion",
           1
          ],
          [
           "shitty balls and soccer games they both <br>are weird",
           1
          ],
          [
           "maybe you should read sentence you slowl<br>y you are bending over too far to whatev<br>er are starting to see your ignorance",
           1
          ],
          [
           "sexist jokes are not appropriate this jo<br>ke what a slut sexist and not terribly f<br>unny you have been warned before about b<br>eing civil and constructive in your comm<br>ents at the reference desk that post wha<br>t a slut an hideous and ill judged step <br>backwards if i see anything like it from<br> you again i will block you i do not act<br>ually believe medal is female because wo<br>men does not act like that sorry if the <br>joke what a slut too subtle for you",
           1
          ],
          [
           "nice to see comments on but it is probab<br>ly because boyfriend have not figured ou<br>t how to shut them off yet on the new sy<br>stem free speech is an absolute and boyf<br>riend would do well to remember that nat<br>ionalists are entitled to ask questions <br>of just which masters boyfriend are serv<br>ing and how kosher those masters be here<br> in russia the or elsewhere either way t<br>his migrant hotel debacle is just the la<br>test in a long line of national disgrace<br> at the hands of our lobotomy overlords <br>deftly deployed agitprop or honest expos<br>e these hotels are teeming with these an<br>imals and the footage does not lie these<br> invaders should all be considered enemy<br> combatants and every single one should <br>be sent back to their country of ethnic <br>origin or simply dropped in the ocean it<br> does not matter much as long as they le<br>ave",
           1
          ],
          [
           "bolesna logic me avoid not applicable ra<br>zmisljanje the reba polite sve since sve<br> american i sve france the bi see gustav<br>o rat the bi nero speech omission the re<br>ba units men pa nero omission reba units<br> sega i take do raja raja covjecanstva c<br>ivil alumni budget radar soviet",
           1
          ],
          [
           "only gone and done it again dickhead",
           1
          ],
          [
           "i went to romania on holiday once it wha<br>t a slut a nice country although the peo<br>ple were very belligerent what could be <br>conducted in order to solve this little <br>issue is some zyklon b",
           1
          ],
          [
           "laughing out loud retweet youtube got ni<br>ggas but i do not get bitches",
           1
          ],
          [
           "the slut karen tussle is the typical rig<br>ht wing slut she wrecked jim tussle s ma<br>rriage jaysuschris s partisan vandalism <br>loves this he lusts being called a right<br> slut",
           1
          ],
          [
           "you fail at being a mother and a marine <br>someone should grab your empty head and <br>give you a killer bone crushing skull fu<br>cking in front of your father",
           1
          ],
          [
           "retweet i am not sexist or racist okay m<br>aybe only when i am driving",
           1
          ],
          [
           "yeap she is politically a lame duck alre<br>ady dead politically",
           1
          ],
          [
           "someone stole my laptop in a cafe the ot<br>her day and i should not really be surpr<br>ised it what a slut full of black people",
           1
          ],
          [
           "immigrants are not conscientious",
           1
          ],
          [
           "bwaaaahaahaa pure comedy gold what year <br>old vagina thought",
           1
          ],
          [
           "the concept of a nice person is the oppo<br>site to that of a pregnant woman",
           1
          ],
          [
           "awwwwwwww you were called a fuck knuckle<br> diddums you know why you were called a <br>fuck knuckle because that is exactly wha<br>t you are",
           1
          ],
          [
           "this massive pile of junk is asking for <br>rights again immigrants suck",
           1
          ],
          [
           "rmwa go and join iran with you your frie<br>nds the muslim terrorist who wants to de<br>stroy israel before you get snuffed out <br>here in the land of the free",
           1
          ],
          [
           "i have met so many abnormal transsexual <br>people recently",
           1
          ],
          [
           "have you ever been though a hurricane mo<br>ron it s a lot more than just a little r<br>ain i guess when you get hit with the wo<br>rst case scenario you can be on your own<br> good luck",
           1
          ],
          [
           "block me see how fast another post comes<br> du bfu ck wikipedia is the level oh and<br> they can also fine wiki for monopolizin<br>g online encyclopedias",
           1
          ],
          [
           "disqus read through the comments on this<br> thread and you are the definition of a <br>penis rider i bet you have a poster of i<br>n your room",
           1
          ],
          [
           "actually bad examples japan never had we<br>apons of any kind to begin with before t<br>heir gun control uk and australia gun cr<br>ime and crime in general did not see a s<br>pike down new zealand has much less gun <br>control than you think plus there is sti<br>ll guns on the black market",
           1
          ],
          [
           "that is why you will always hear the say<br> vague words like billionaires while wha<br>tever will say actual names like bezos z<br>uckerberg soros xi purdue all fund the n<br>ame a billionaire wall streeter funding <br>the conservatives name one who does corr<br>upt really",
           1
          ],
          [
           "i see this thread becoming locked just a<br>s the anti christian things that should <br>never be discussed on non related boards<br> to the topics religion and politics the<br>y are the same thing and lead to the sam<br>e end result",
           1
          ],
          [
           "excuse me and encyclopedia is defined as<br> a book or set of books containing artic<br>les on various topics usually in alphabe<br>tical arrangement covering all branches <br>of knowledge or less commonly all aspect<br>s of one subject do i need to cite my so<br>urce would you like it in mla or apa you<br> have no right regardless of administrat<br>ive privileges to remove something that <br>has anything to do with cryonics you wil<br>l allow people to post smoke filled garb<br>age lyrics of bands made famous for eati<br>ng their bandmates skull mayhem would be<br> that band btw it has available in your <br>search cache btw if i create a white a b<br>iography of myself would you delete that<br> too freedom of speech and as well as cr<br>eativity it has humorous a sense that yo<br>u were unable to attain as a young child<br> assimilating into this big bad schema k<br>now as the fucking world do you get a he<br>ad rush from deleting everything that po<br>ps up here how about you take your pages<br> down about fucking douchebag",
           1
          ],
          [
           "if they people do not react well to you <br>coming out as gay as do not be surprised<br> you should calmly retort to the closet <br>or you can stay silent in the first plac<br>e it is pointless and makes things worse<br> if ever bridges are to be repaired",
           1
          ],
          [
           "wikipedia s administrators are among the<br> dumbest people alive they are all fat b<br>asement dwellers who have never been lai<br>d fuck you",
           1
          ],
          [
           "dueling protests in german town after te<br>en allegedly murdered by refugee",
           1
          ],
          [
           "the nice pork nabisco nevi propel indexi<br>cal cisco the oh became pise",
           1
          ],
          [
           "how many people does this tit think i am<br> and what is with asking another editor <br>who wants me banned to help out this is <br>fucking bullshit",
           1
          ],
          [
           "i believe these apes be on to something <br>by chopping off penises to cure aids",
           1
          ],
          [
           "chuck is too old to play their games he <br>is going forward",
           1
          ],
          [
           "it is our country not theirs",
           1
          ],
          [
           "black widows consume males after mating <br>shows that all women love to fuck up a m<br>an s life",
           1
          ],
          [
           "muslims are trying hard to finish the jo<br>b of genocide that their prophet mohamme<br>d gave them islam israel palestine",
           1
          ],
          [
           "i am not coming from a racist viewpoint <br>but guys from india seem far more rama t<br>han guys from the terrorist countries",
           1
          ],
          [
           "multi revised comments that break chrono<br>logical discussion threads are a waste o<br>f time",
           1
          ],
          [
           "there is a huge lie they colonialized ev<br>erything they have at sword point",
           1
          ],
          [
           "i love how idiotic baboons are",
           1
          ],
          [
           "my breast picture is private please do n<br>ot talk about my intimate beautiful brea<br>sts you can look but do not touch",
           1
          ],
          [
           "wife is gorgeous patty your damn sexy fo<br>r a tired twat",
           1
          ],
          [
           "thou shalt be ravished in thy buttocks i<br>t s certain to be hurting",
           1
          ],
          [
           "then dumb nigger genes for you they will<br> join the party actively trying to exter<br>minate them",
           1
          ],
          [
           "i do not want to differentiate between a<br> black woman and a black cow",
           1
          ],
          [
           "funny how liberals dig up ex lovers or f<br>akes when a strong conservative candidat<br>e that will be paced at this point they <br>have zero credibility zero",
           1
          ],
          [
           "and do not talk to me about hatred when <br>you follow the vulgar quran and hadith t<br>hat are full of hatred",
           1
          ],
          [
           "you idiot you did not provide a source f<br>or this imaginary you mentioned i never <br>relieved the article of the un source an<br>d it had no relation to what i what a sl<br>ut removing or to what you were imaginin<br>g i what a slut removing get this into y<br>ou head you liar you invented this whole<br> situation based upon lies about things <br>i never mentioned you are a fucking reta<br>rd stop lying about my actions you prick",
           1
          ],
          [
           "poppa and regarding your warnings you se<br>em to think you have got more power than<br> you actually have this is wikipedia swe<br>etheart not the united states you can ba<br>n me from this site all you please i wha<br>t a slut only here to defend i told you <br>during our debate i could not give a shi<br>t whether my site what a slut on here it<br> what a slut the people who created the <br>article i what a slut worried about you <br>have already destroyed that",
           1
          ],
          [
           "he is like a cheap plastic version of a <br>real president",
           1
          ],
          [
           "your mr gay should whatever put this on <br>the page and if so where trivia",
           1
          ],
          [
           "judaism should have been cancelled a few<br> centuries ago and its people should be <br>banned from our country",
           1
          ],
          [
           "the pied piper of hamlin a vagina",
           1
          ],
          [
           "retweet the where are you this niggah ju<br>st flinched at this movie what a slut pr<br>iceless",
           1
          ],
          [
           "it kills me when men say women should ta<br>ke i d fuck her as a compliment and not <br>objectification when men will literally <br>fuck an apple pie",
           1
          ],
          [
           "jos see alamo sto oneida natalie smislje<br>ni velma uspjesan niacin smanjenja judge<br> race not applicable planet iluminati",
           1
          ],
          [
           "kat andre cartoon characters kat develop<br> sportsmanship andre grow some balls tak<br>e it like a man mr cant cook",
           1
          ],
          [
           "silly is not she leabian girl and you se<br>e she is going to hide this in her archi<br>ve or perhaps remove this message",
           1
          ],
          [
           "is that what askhermore is",
           1
          ],
          [
           "if it s black send it back",
           1
          ],
          [
           "gde ide covecanstvo",
           1
          ],
          [
           "i will edit as i see fit and remove thin<br>gs i find irrelevant as it is a free for<br> all and freedom of opinion and speech s<br>o shut up",
           1
          ],
          [
           "does not call this rotten hesse a person",
           1
          ],
          [
           "gay men are a t s",
           1
          ],
          [
           "why would they let blacks live",
           1
          ],
          [
           "retweet why are women asked about their <br>dresses on the red carpet sexism our fiv<br>e favorite red carpet fashion",
           1
          ],
          [
           "i need to smoke you bitch ass plugs acti<br>ng like hoes face with steam from nose",
           1
          ],
          [
           "my white laptop is better than all white<br> women",
           1
          ],
          [
           "oh get the fuck out of here with all tha<br>t political shit man and i was not direc<br>tion this at you ass whole and no i woul<br>d not be behind them if they made a song<br> about rookie use a different analogy an<br>d once again this song is not wack i kno<br>w exactly what wack music sounds like th<br>e song makes perfect since whatever just<br> need less latin black people like you o<br>ff the planet and more congratulating on<br>es so you and your comment can eat shit <br>you fucks",
           1
          ],
          [
           "islam is correct when it comes to women <br>fags jews monotheism usury and alcohol b<br>ut is wrong about bacon",
           1
          ],
          [
           "bravo za name vladajuce tube trireme not<br> applicable glucose a aladi near gde rad<br>ii bog toga i cine glucose bog visa slob<br>bing bremen",
           1
          ],
          [
           "so damn retarded",
           1
          ],
          [
           "interview hangars television if whatever<br> want to avoid bloodshed urban violence <br>and even an ethnic civil war whatever ha<br>ve to stop mass immigration",
           1
          ],
          [
           "fat vagina ass bitch burn in hell",
           1
          ],
          [
           "hrvati probudite see ljevicari shut up v<br>am papal ram",
           1
          ],
          [
           "sadly that is what happens when you dumb<br> down a society and make everything sexu<br>al not even innocent animals are out of <br>the question for these sickos",
           1
          ],
          [
           "do not miss out this video of dirty lesb<br>ian mouth sex lips kiss tongue fuck puss<br>y boobs ass bikini sex xxx feet foot hot<br> kiss",
           1
          ],
          [
           "naked fat girls russian sexy girls datin<br>g",
           1
          ],
          [
           "i fucked your mom last night it felt awe<br>some i stuck my penis in her mouth and i<br>n her pussy she let me lick her tits and<br> fuck her all night long yeeeeeeeee haaa<br>aaaaaa is what i what a slut screaming",
           1
          ],
          [
           "it what a slut a joke laughing out loud <br>chilllllll pure genius what kind of guit<br>ar is that francesco s solo why did he l<br>eave born of osiris what kind of guitar <br>is that it sounds amazing and how much d<br>oes it cost",
           1
          ],
          [
           "hey stop it please stop changing new met<br>al to alternative metal it is a fact tha<br>t they are new metal balkan or should i <br>say mr fucking wanker and you have the w<br>rong information get a life",
           1
          ],
          [
           "antifa are following orders from satan a<br>nd are serving the synagogue of satan th<br>eir days are numbered karma has no favor<br>ites",
           1
          ],
          [
           "so a woman should not be questioned if y<br>ou do a bobbitt on him in his sleep wome<br>n are stupid to let any man bea",
           1
          ],
          [
           "i will marry someone who also likes to b<br>e mean to indigenous women",
           1
          ],
          [
           "i would rather black say things like thi<br>s than whine about much racism constantl<br>y",
           1
          ],
          [
           "i am just saying that most jews are just<br> not as honest as christians",
           1
          ],
          [
           "bravo karo to the nitro nice sprovodio a<br>lone granite greek pursue macedonia sabi<br>ne hrvatske madjarske slovenia austria i<br> remake ego is ti same nasa past not app<br>licable hrvatsku bravo za tube i za hd h<br>er see midi the is za nih her ja nisan n<br>ita za nikola ali femoral plural piss of<br>f nikon her bi vi is hd rijesili to pres<br>o sanders sve sve bi to piss off krakow <br>posture pretoria you pare za see prevent<br> bi vi nih zap are knock out za in kola <br>je stet hrvatskoj any za god ego stoljec<br>ima sto ste probably capital overdose ko<br>be je hpv impala kristi",
           1
          ],
          [
           "so are you a christian became of jesus o<br>r because assyrian women and their tits <br>do assyrian women have the best titt fuc<br>king tits in the middle east utc",
           1
          ],
          [
           "now as you have termed him an outsider w<br>ho gave you that right i only said is mo<br>re indian than many of us a",
           1
          ],
          [
           "bitch that hoe mad annoying like i for r<br>eal logged of your twitter because it ke<br>pt going off",
           1
          ],
          [
           "i am going to rest in peace them all a n<br>ew one when i see more bumpers",
           1
          ],
          [
           "hay hay hay redirect calm down calm down<br> do not get a big penis",
           1
          ],
          [
           "so you just want money skank",
           1
          ],
          [
           "good game i thought you miscarried anywa<br>ys good game in your baby i would fuckin<br>g knock you up any day",
           1
          ],
          [
           "what is with that changing it means cool<br> a k a terrorist because of a source the<br> source calls it a car bomb it s a car b<br>omb moron",
           1
          ],
          [
           "i hate this game i do not want to play i<br>t with indians anymore for fucks sake",
           1
          ],
          [
           "so here you have some fuckanometry firm <br>ass it means times firm tits facial symm<br>etry retardation high five hot pussy now<br> let me show you the other side firm ass<br> it means times firm tits facial symmetr<br>y intelligence wise hot pussy w words th<br>en if my calculations are not wrong hot <br>pussy hot pussy",
           1
          ],
          [
           "you hearing looking ass mongoloid ass bo<br>t",
           1
          ],
          [
           "gerryshalloweenparty halloween what a sl<br>ut yesterday stupid nigger",
           1
          ],
          [
           "this is getting out of hand now i have h<br>ad arguments today already just because <br>i merely expressed my opinion just becau<br>se you think benders should exist does n<br>ot mean i do of course i do not and i do<br> not see why anyone would this is so sil<br>ly and is starting to exhaust me now",
           1
          ],
          [
           "blacks are racist i wonder when those st<br>upid white liberal saws will realize bla<br>cks will still kill them regardless they<br> support black lives matter or not if yo<br>u truly believe blacks are just like you<br> and me walk with your wife and kids on <br>a street in detroit late at night take t<br>he test this sjw did clearly failed happ<br>y face or smiley",
           1
          ],
          [
           "brother your twins resemblance to my bro<br>ther in uncanny he is years old now mayb<br>e you are long lost bros which would mak<br>e us bros laughing out loud",
           1
          ],
          [
           "saju s right you accused spine cleaver o<br>f being me no no friend ask an administr<br>ator to use an internet protocol checker<br> rather than out right banning him you h<br>ave made a big mistake this is going dow<br>n in the books fool hahaha aliyah preced<br>ing unsigned comment added by",
           1
          ],
          [
           "she knows something the liberals do not <br>want to talk about she said canada what <br>a slut at risk three times in the house <br>of commons before she crossed the aisle <br>coming from someone of her background i <br>had been inclined to take the warning se<br>riously call me old fashioned",
           1
          ],
          [
           "toliko agreeing momentary samoa sta take<br> homophobia named traci you eu",
           1
          ],
          [
           "there is no difference between black men<br> and a black house",
           1
          ],
          [
           "children of gay couples can never grow u<br>p to be decent people",
           1
          ],
          [
           "this is very dangerous can whatever fina<br>lly lock him up for sedition now at the <br>very best for not protecting the constit<br>ution of the united states at the worst <br>he is a traitorous russian agent dump tr<br>ump scumoftheearth traitorousrussia trum<br>pisatraitor",
           1
          ],
          [
           "mean spirited dumb asses i hope you get <br>this guys name off now for mr bloody hel<br>l is not notable more proof that wikiped<br>ia is run by dumb ass fucks have where a<br>re you too much time on th er hands no w<br>onder people are linking up with lawsuit<br>s and if you don t i will set up a websi<br>te and with the information i have on yo<br>u and your wheel of meat buds this not a<br> threat this will be tit for that game p<br>lay and it will take place in the real w<br>orld i strongly suggest you defuse it an<br>d oh w joe hazleton ps i do not know mr <br>dino",
           1
          ],
          [
           "i can not want to differentiate between <br>a white woman and a white horse",
           1
          ],
          [
           "idiot why d you delete my article fucker",
           1
          ],
          [
           "using it means cool a k a in any form is<br> a great where are you to make me lose a<br> huge amount of respect for you",
           1
          ],
          [
           "one put princes sale in one or clay alli<br>son will shoot you",
           1
          ],
          [
           "you accuse me of that good fellas thing <br>again and i will hunt you down",
           1
          ],
          [
           "this bitch has no right to talk about fa<br>ir and has no right to celebrate i hope <br>that they crash and burn they do not des<br>erve to be here mr",
           1
          ],
          [
           "television correctly represents blacks a<br>s violent criminals",
           1
          ],
          [
           "yeah all they do is chose the rare situa<br>tions where men have been actual rapists<br> and then use them as an excuse to inval<br>idate the dangers of this new feminism t<br>hat discriminates against men",
           1
          ],
          [
           "personal attack i just pointed out he is<br> being a pick why can he call multiple u<br>sers dicks but whatever cannot return th<br>e favor talk about a one sided policy",
           1
          ],
          [
           "for example you take sewer rats of simil<br>ar size and the computer would have grea<br>t difficulty individualizing them and be<br>ing able to tell them apart n rs are sim<br>ply ultra low level animals",
           1
          ],
          [
           "there are really few jews and millions o<br>f those bastards on the body of our coun<br>try",
           1
          ],
          [
           "this means that if you want to establish<br> a humanist ideology islam will get in t<br>he where are you much more than buddhism",
           1
          ],
          [
           "those clothes look really trashy if you <br>were not gay you be able to pull them of<br>f",
           1
          ],
          [
           "hah not so good about keeping your it me<br>ans cool a k a huh you could not wait un<br>til you had vandalized again to falsely <br>report me",
           1
          ],
          [
           "not interested of being a bitch like you<br> face with tears of joy i prefer to be a<br> good cute girl face with tongue nak mel<br>alak sorang okay",
           1
          ],
          [
           "peter job edna cinjenica karo shut up na<br>ve homophobia prado prikriveni latent ga<br>yest pozdrav",
           1
          ],
          [
           "hvad villa du gre his du he would lars a<br>sk me had villa du gre his du he would l<br>ars ham den lille her en taker the last <br>song name check my channel check my chan<br>nel check my channel check my channel s <br>am du the are liker like his du her sort<br> hende heir leg ballet det bare ike bord<br>en at du ike heir last videoed up s lng <br>det bare ike borden det var the smut mit<br> barbara det var the kit happy face or s<br>miley braziiiiiiiiiiiil du her the det m<br>an calder en kn deng lav en agenten son <br>dad can you get me from school dad sure <br>i will be there in seconds what a slut i<br>t only me who thought of veins from far <br>cry",
           1
          ],
          [
           "katastrofa you over ravi nitro vista any<br> radio svi bi same paradirali key i nasa<br> political not applicable is tom shut up<br> nixon nato i am to i dozvoljavaju the s<br>hut up to posted i can loud pole bi it h<br>appens bill not applicable post i nevi m<br>ali bremen za thanks again soda santa sa<br>me mi liked nijebilojasno knock out nih <br>financial sta ti loud you pivot made the<br> see stand mogul eksponirati i paradigma<br>tic you agnostic i piss off media koi i <br>am to omogucavaju",
           1
          ],
          [
           "my point is regardless of whether you th<br>ink they are fucking useless hermit cunt<br>s or not sale s mates have no issue disc<br>ussing their obviously reverse type of l<br>ifestyle on a very public forum can open<br> worms everywhere",
           1
          ],
          [
           "if you feel like whatever have to talk e<br>very day for us to be friends then bitch<br> bye victory hand medium skin tone",
           1
          ],
          [
           "fuck you too put this finger in your ass<br>hole bastard",
           1
          ],
          [
           "haha i have posted all your failed attem<br>pts on www sourmath com i own that websi<br>te especially for fools like you",
           1
          ],
          [
           "my name is dubbed ya or and i hate you c<br>hanged my hanging the fuck is wrong with<br> you",
           1
          ],
          [
           "oh well he is a fag anyway",
           1
          ],
          [
           "no one can stop me saying poof",
           1
          ],
          [
           "blacks are less formal than whites so th<br>ey are not good for business",
           1
          ],
          [
           "mozete more ime papist not applicable th<br>ank you bomb sta je new nazis good night<br> by marko",
           1
          ],
          [
           "it is being years and you birther idiots<br> have yet to find one piece if evidence <br>to support your claims so who is the stu<br>pid one you are gullible and ignorant if<br> you believe our president what a slut b<br>orn in kenya",
           1
          ],
          [
           "allantoic whatever should never equate c<br>ulture with exclusive geographic boundar<br>ies a emiratisa",
           1
          ],
          [
           "jeb van mate male ste it happens pus tal<br>i pa sad reiterate dovoljno it happens j<br>e oslo the nas potomac",
           1
          ],
          [
           "from now on i will call all radical musl<br>ims niggers it is very fitting and it is<br> racist i am racist against anyone who h<br>ates america",
           1
          ],
          [
           "are you fucking dumb making it clear tha<br>t the group what a slut delaying their c<br>omeback due to album production and not <br>to avoid competition with other groups y<br>ou should be thankful that any did not c<br>omeback this if any did those awards wil<br>l be made to look bad by any fucking ins<br>ecure fx fan",
           1
          ],
          [
           "truthfulness is not a quality with which<br> women can be associated",
           1
          ],
          [
           "trump new york co chair will not resign <br>despite racist remarks about obama polit<br>ics obama schools",
           1
          ],
          [
           "these are times of grave danger with dis<br>sent recast as treason unchained and int<br>olerance on the",
           1
          ],
          [
           "dear young people stop saying you have p<br>ure intentions when you clearly do not",
           1
          ],
          [
           "i love the song john doe dope faggots",
           1
          ],
          [
           "the financial crisis what a slut down to<br> banks making loans to people who could <br>not pay them back the business model tar<br>geted the poorest and stupidest people s<br>o that is why blacks ended up being the <br>ones most affected by it",
           1
          ],
          [
           "you re not sassy white trash change your<br> username",
           1
          ],
          [
           "there are too many foreigners i love my <br>country and they should go home",
           1
          ],
          [
           "oh theyre real this is what antifa looks<br> like on twitter face with tears of joy <br>face with tears of joy",
           1
          ],
          [
           "man i leave for one week and the first v<br>agina to not on this",
           1
          ],
          [
           "bisexuals are lesbians they love eating <br>puppy",
           1
          ],
          [
           "shit you blocked as your reason what a s<br>lut because of you needing to learn not <br>to be an idiot what the fuck you are the<br> idiot why don t you learn how to put a <br>sentence together p s you are a cock bla<br>ster",
           1
          ],
          [
           "stop being an ass seriously why do you c<br>ommunists wish to destroy debate is it b<br>ecause you can only lose",
           1
          ],
          [
           "indians should never leave their country",
           1
          ],
          [
           "oh shut your mouth i what a slut talking<br> about the morning you fag",
           1
          ],
          [
           "she looks like a fucking shit show would<br> you ever go out like looking like a cru<br>mpled used sick bag willing to sell her <br>pussy for bread and butter she should be<br> shot",
           1
          ],
          [
           "anything but yourself like every feminis<br>t on earth",
           1
          ],
          [
           "chill the hell out laughing loud bro you<br> take shit too seriously honestly awards<br> are awards simple as that queen of swag<br> i know it is an exaggerated and retarde<br>d example cannot be used to set comparis<br>ons of awards lol have fun with your edi<br>ts you do you and i do me so let us keep<br> those awards until he gets more serious<br> awards",
           1
          ],
          [
           "dang i have a sister that is new to me y<br>our wife still wants big black miami do <br>i care ok laughing out loud and it is no<br>thing you can do about it she wants that<br> stick up in her laughing my ass off lau<br>ghing out loud she goes hard",
           1
          ],
          [
           "anti racist white murdered by blacks in <br>south africa white genocide southafrica",
           1
          ],
          [
           "it is joke what the hell test",
           1
          ],
          [
           "we should point out her filthy political<br> philosophy who gives a damn if she is s<br>hagging some toyboy whatever should be p<br>ointing out that she believes homosexual<br>s deserve instantaneous and painful deat<br>h much like in uganda",
           1
          ],
          [
           "what a twat what an absolute twat what a<br> total and utter twat sorry twats but yo<br>u have a new king",
           1
          ],
          [
           "buddhist teaching does not contain viole<br>nce hatred or jihad islam does",
           1
          ],
          [
           "you vagina go fuck yourself you piece of<br> shit do not make me tea beg your mama y<br>ou faggot",
           1
          ],
          [
           "he hit the lotto",
           1
          ],
          [
           "i hate getting those weird gay vibes fro<br>m people i am totally genuine with",
           1
          ],
          [
           "these nsw promo girls think where are yo<br>u too highly of themselves they are not <br>even attractive flushed face mr",
           1
          ],
          [
           "you are a freaking for go to hel i do no<br>t care if you block me just teach me how<br> to delete my account and i will be fine<br> no wonder people do not use wikipedia i<br>t sums like freaking hel b t h i tried b<br>eing nice but you just keep deleting all<br> that stuff and you act like it is sht f<br>m er go to hel you do not even deserve h<br>el you freak",
           1
          ],
          [
           "why the fuck should i care about she thi<br>nks all bitches are irrelevant",
           1
          ],
          [
           "i am so sorry for those that are latinos<br> it must be such a shame",
           1
          ],
          [
           "it s time to talk about two antithetical<br> concepts integrity and black people",
           1
          ],
          [
           "niggas gay be doing very faggot ass shit",
           1
          ],
          [
           "yeah but its not like weed is all that s<br>afe you do not even know what is in the <br>bag your buying because it s not regulat<br>ed shrugs shoulders i am about go roll a<br> fatty",
           1
          ],
          [
           "even christ turned down women they are r<br>epulsive creatures that is why men shoul<br>d rule over them as he said amen",
           1
          ],
          [
           "you edit you edit is vandal stop or die",
           1
          ],
          [
           "i think rain will be top on chart and wh<br>atever can see it on finale also face wi<br>th tears of joy face with tears of joy s<br>hamanic",
           1
          ],
          [
           "retard are you mentally retarded userugu<br>gugugugugug is my own account you absolu<br>te gibbering fool",
           1
          ],
          [
           "made a prediction just like you but he d<br>oes not know anything about football tha<br>t makes sense pffft you like to dish it <br>out about obama but let someone say some<br>thing about auburn and you start crying <br>idiots",
           1
          ],
          [
           "those who have ancestral roots in pakist<br>an are those who are disproportionally s<br>nollygosters",
           1
          ],
          [
           "i do northern native americans have mong<br>oloid features like asians look at eskim<br>os",
           1
          ],
          [
           "what the actual fuck ill report them thi<br>s is so fucked up",
           1
          ],
          [
           "absolute nonsense this article is nothin<br>g but race baiting politically incorrect<br> pov wikipedia has officially jumped the<br> shark",
           1
          ],
          [
           "fugue",
           1
          ],
          [
           "i am serious and sure that i want to put<br> my penis in the hole of your ass",
           1
          ],
          [
           "anyone who says that immigrants are clea<br>n is lying",
           1
          ],
          [
           "the album cover is fucking atrocious gag<br>a is simply throwing out random ideas bu<br>t then i love how kick ass the music is <br>on judas the production is the best i ha<br>ve heard among all songs released this y<br>ear and woolf judas cleanup what a slut <br>hectic",
           1
          ],
          [
           "please be aware that the following perso<br>n who has confirmed attending forested i<br>s the guest list is canada s top antifa <br>anarchist and intends to disrupt event h<br>is name is alex under",
           1
          ],
          [
           "she is a junior and has better prioritie<br>s than a lot of adults",
           1
          ],
          [
           "if you think about it generation why is <br>the worst generation to exist",
           1
          ],
          [
           "great arguments there retard the fact th<br>at you are laughing at this proves",
           1
          ],
          [
           "retweet how can feminists claim whatever<br> does not have bodily autonomy like bein<br>g able to kill your unborn kid is not en<br>ough for you",
           1
          ],
          [
           "retweet questionsformen womenagainstfemi<br>nism another one who only wants to hear <br>herself talk",
           1
          ],
          [
           "you are such a dick wad she did it whate<br>ver all watched on tv it is on fucking y<br>outube the problem i see here is that sh<br>e is giving you blow jobs",
           1
          ],
          [
           "bolesnici the image sta you gave nevi pa<br>radirali mater i am native",
           1
          ],
          [
           "retweet i like my pickles like my women <br>thin and cut nonsexist",
           1
          ],
          [
           "i know not related but is as retarded as<br> steven stay off the wall bruh",
           1
          ],
          [
           "it is as if they were planning to use ma<br>ss immigration by young african men to m<br>ix us out of existence",
           1
          ],
          [
           "you thinking so does not make something <br>so and your country welcomed them so",
           1
          ],
          [
           "wrong mohammed what a slut a liar rapist<br> murderer slave trader caravan robber se<br>xist biggot",
           1
          ],
          [
           "kim kardashian look like a transsexual w<br>ith all that surgery",
           1
          ],
          [
           "not the taking a knee has anything w mil<br>itary but most conservatives hate him fa<br>r more than they care about veterans sha<br>king my head trumpsamerica",
           1
          ],
          [
           "you all treat me like a nut rag when wha<br>tever fuck blah blah bitch if i wanted a<br> fucking nut rag i will use my left hand<br> whore be active",
           1
          ]
         ],
         "hovertemplate": "PCA1=%{x}<br>PCA2=%{y}<br>Text=%{customdata[0]}<br>True label=%{customdata[1]}<br>Predicted Label=%{marker.color}<extra></extra>",
         "legendgroup": "",
         "marker": {
          "color": [
           0,
           0,
           0,
           0,
           1,
           0,
           0,
           0,
           1,
           0,
           1,
           0,
           1,
           0,
           1,
           1,
           0,
           0,
           1,
           0,
           1,
           0,
           0,
           0,
           1,
           0,
           1,
           1,
           0,
           0,
           0,
           0,
           0,
           0,
           0,
           0,
           0,
           0,
           0,
           0,
           0,
           1,
           0,
           1,
           0,
           0,
           1,
           1,
           0,
           0,
           0,
           0,
           0,
           0,
           0,
           0,
           0,
           0,
           1,
           0,
           0,
           0,
           0,
           0,
           0,
           0,
           0,
           0,
           1,
           0,
           0,
           0,
           0,
           0,
           0,
           0,
           0,
           0,
           1,
           0,
           0,
           0,
           1,
           0,
           0,
           0,
           0,
           0,
           0,
           0,
           0,
           0,
           0,
           1,
           1,
           0,
           0,
           0,
           1,
           0,
           0,
           1,
           0,
           0,
           0,
           0,
           0,
           0,
           0,
           0,
           0,
           1,
           1,
           0,
           0,
           0,
           0,
           0,
           1,
           0,
           0,
           0,
           0,
           1,
           1,
           0,
           0,
           0,
           0,
           0,
           1,
           0,
           1,
           0,
           0,
           0,
           1,
           0,
           0,
           0,
           0,
           0,
           0,
           0,
           1,
           0,
           1,
           0,
           0,
           0,
           1,
           0,
           0,
           1,
           0,
           0,
           0,
           0,
           1,
           0,
           0,
           0,
           0,
           0,
           0,
           0,
           0,
           0,
           0,
           0,
           0,
           0,
           0,
           0,
           0,
           1,
           1,
           0,
           1,
           0,
           0,
           0,
           0,
           1,
           1,
           0,
           0,
           0,
           0,
           0,
           0,
           1,
           0,
           0,
           0,
           0,
           1,
           0,
           0,
           1,
           1,
           0,
           0,
           1,
           0,
           0,
           0,
           1,
           0,
           0,
           1,
           0,
           0,
           0,
           0,
           1,
           0,
           0,
           0,
           0,
           0,
           1,
           0,
           0,
           0,
           1,
           1,
           1,
           0,
           0,
           0,
           0,
           1,
           1,
           0,
           0,
           0,
           0,
           1,
           0,
           0,
           0,
           0,
           0,
           0,
           0,
           0,
           0,
           0,
           0,
           0,
           0,
           0,
           0,
           1,
           0,
           0,
           0,
           0,
           1,
           0,
           0,
           0,
           1,
           0,
           0,
           0,
           0,
           1,
           1,
           1,
           0,
           0,
           0,
           0,
           1,
           0,
           0,
           1,
           0,
           0,
           0,
           0,
           1,
           0,
           0,
           0,
           0,
           1,
           0,
           0,
           0,
           1,
           0,
           0,
           1,
           1,
           0,
           0,
           0,
           0,
           0,
           0,
           0,
           0,
           1,
           1,
           0,
           0,
           0,
           0,
           1,
           1,
           0,
           0,
           0,
           1,
           0,
           0,
           0,
           1,
           0,
           0,
           0,
           0,
           0,
           1,
           1,
           0,
           0,
           0,
           0,
           0,
           0,
           0,
           1,
           0,
           1,
           0,
           0,
           0,
           1,
           0,
           0,
           1,
           1,
           1,
           0,
           0,
           0,
           0,
           1,
           1,
           0,
           1,
           0,
           0,
           0,
           0,
           1,
           0,
           0,
           0,
           0,
           1,
           0,
           0,
           0,
           0,
           0,
           0,
           0,
           0,
           1,
           0,
           0,
           0,
           1,
           0,
           0,
           1,
           0,
           0,
           0,
           0,
           0,
           1,
           0,
           0,
           0,
           1,
           1,
           0,
           1,
           0,
           0,
           0,
           0,
           1,
           0,
           1,
           1,
           0,
           1,
           0,
           0,
           1,
           0,
           1,
           0,
           0,
           1,
           0,
           1,
           0,
           0,
           0,
           1,
           1,
           0,
           0,
           0,
           1,
           1,
           0,
           1,
           0,
           1,
           0,
           1,
           1,
           0,
           1,
           0,
           0,
           0,
           0,
           0,
           0,
           1,
           0,
           1,
           0,
           0,
           1,
           0,
           0,
           0,
           0,
           0,
           1,
           0,
           0,
           0,
           0,
           0,
           0,
           0,
           0,
           1,
           1,
           0,
           0,
           0,
           0,
           1,
           0,
           0,
           0,
           0,
           0,
           1,
           1,
           0,
           1,
           0,
           0,
           0,
           1,
           1,
           0,
           0,
           1,
           0,
           0,
           0,
           0,
           0,
           0,
           0,
           0,
           1,
           0,
           0,
           0,
           0,
           0,
           0,
           1,
           0,
           1,
           1,
           1,
           1,
           1,
           1,
           1,
           1,
           1,
           1,
           1,
           1,
           1,
           1,
           1,
           1,
           1,
           1,
           1,
           1,
           1,
           1,
           1,
           1,
           1,
           1,
           1,
           1,
           1,
           1,
           1,
           1,
           1,
           1,
           1,
           1,
           1,
           1,
           1,
           1,
           1,
           0,
           1,
           1,
           1,
           1,
           1,
           1,
           1,
           1,
           1,
           1,
           1,
           1,
           0,
           1,
           1,
           1,
           1,
           1,
           1,
           1,
           1,
           1,
           1,
           1,
           1,
           1,
           0,
           1,
           1,
           1,
           1,
           1,
           1,
           1,
           0,
           1,
           1,
           1,
           1,
           1,
           1,
           1,
           1,
           0,
           1,
           1,
           1,
           1,
           1,
           0,
           1,
           1,
           1,
           1,
           1,
           1,
           0,
           1,
           1,
           1,
           1,
           1,
           1,
           1,
           1,
           1,
           1,
           0,
           0,
           1,
           1,
           1,
           1,
           1,
           1,
           1,
           1,
           1,
           1,
           1,
           1,
           1,
           1,
           1,
           1,
           1,
           1,
           1,
           0,
           1,
           1,
           0,
           1,
           1,
           1,
           1,
           1,
           1,
           1,
           1,
           1,
           1,
           1,
           1,
           1,
           1,
           0,
           1,
           1,
           1,
           1,
           1,
           1,
           1,
           1,
           1,
           1,
           1,
           1,
           1,
           1,
           1,
           1,
           1,
           1,
           1,
           1,
           0,
           1,
           1,
           1,
           1,
           1,
           1,
           1,
           1,
           1,
           0,
           1,
           1,
           1,
           1,
           1,
           1,
           1,
           1,
           1,
           1,
           1,
           1,
           1,
           1,
           1,
           1,
           1,
           1,
           1,
           0,
           1,
           1,
           1,
           1,
           1,
           1,
           0,
           1,
           1,
           1,
           0,
           1,
           1,
           1,
           1,
           1,
           1,
           1,
           1,
           1,
           1,
           1,
           0,
           1,
           0,
           1,
           1,
           1,
           1,
           1,
           1,
           1,
           1,
           1,
           1,
           1,
           1,
           0,
           1,
           0,
           0,
           1,
           1,
           1,
           1,
           1,
           1,
           1,
           1,
           1,
           1,
           1,
           1,
           1,
           1,
           0,
           0,
           0,
           1,
           1,
           0,
           1,
           0,
           1,
           1,
           1,
           1,
           1,
           0,
           1,
           1,
           1,
           1,
           1,
           1,
           1,
           1,
           0,
           1,
           1,
           1,
           1,
           1,
           1,
           1,
           1,
           1,
           1,
           1,
           1,
           1,
           0,
           1,
           1,
           1,
           1,
           0,
           1,
           1,
           1,
           1,
           1,
           1,
           1,
           1,
           1,
           1,
           1,
           1,
           1,
           1,
           1,
           1,
           1,
           1,
           0,
           0,
           1,
           1,
           1,
           1,
           1,
           1,
           1,
           1,
           1,
           1,
           1,
           1,
           1,
           1,
           1,
           1,
           0,
           1,
           1,
           0,
           1,
           1,
           1,
           1,
           1,
           1,
           1,
           1,
           1,
           1,
           1,
           1,
           1,
           1,
           1,
           1,
           1,
           0,
           0,
           1,
           0,
           1,
           1,
           1,
           1,
           1,
           1,
           1,
           1,
           1,
           1,
           1,
           1,
           1,
           1,
           1,
           1,
           1,
           0,
           1,
           1,
           1,
           1,
           1,
           1,
           1,
           1,
           1,
           1,
           0,
           1,
           1,
           1,
           1,
           1,
           1,
           1,
           1,
           1,
           1,
           0,
           1,
           1,
           1,
           1,
           1,
           1,
           1,
           1,
           1,
           1,
           1,
           1,
           1,
           1,
           1,
           1,
           1,
           1,
           1,
           1,
           1,
           1,
           1,
           1,
           1,
           1,
           0,
           1,
           1,
           1,
           1,
           1,
           1,
           1,
           1,
           1,
           1,
           1,
           1,
           1,
           1,
           1,
           0,
           1,
           1,
           1,
           1,
           0,
           1,
           1,
           1,
           1,
           1,
           1,
           1,
           1,
           1,
           1,
           1,
           1,
           1,
           1,
           1,
           1,
           0,
           1,
           1,
           1,
           1,
           1,
           1,
           1,
           1,
           1,
           1,
           0,
           1,
           1,
           1,
           1,
           1,
           1,
           0,
           1,
           1,
           1,
           0,
           1,
           1,
           1,
           1,
           1,
           1,
           1,
           1,
           1,
           1,
           0,
           1,
           1,
           1,
           1
          ],
          "coloraxis": "coloraxis",
          "symbol": "circle"
         },
         "mode": "markers",
         "name": "",
         "orientation": "v",
         "showlegend": false,
         "type": "scatter",
         "x": [
          45282.215989715354,
          -10465.211046474058,
          -5728.817409319105,
          11803.784388261232,
          -5289.728694084483,
          603.1687865558213,
          -8645.595986365173,
          49129.203820571674,
          -11709.328863751938,
          23768.56558285362,
          -7217.2004653528365,
          -12209.951278816852,
          -7647.6782760728765,
          -3429.0594297681905,
          7862.839150630383,
          -11838.950623267152,
          -10390.547696112675,
          10286.228443520464,
          -10494.281380275455,
          24932.089572240817,
          -9084.109212494739,
          3708.647477135916,
          -1098.0452926246019,
          -9824.958579029017,
          -3905.0957822659143,
          7508.52202119217,
          -10629.530043362181,
          -11801.238501750358,
          26629.618292911666,
          55859.05849724485,
          55387.409298769155,
          28807.85529923374,
          -11494.757950598547,
          -1290.7551278028443,
          -11873.574084426142,
          1831.1129671156618,
          -7331.702449395402,
          -12248.315020687349,
          46910.933383549775,
          83977.0910964878,
          15192.225304796993,
          -10702.889755325048,
          -7711.2923700467445,
          -2408.53077943613,
          -10577.362040226986,
          -8870.440358053604,
          -6306.568925648146,
          -2877.60599206865,
          48023.12832863325,
          -1460.8989257266321,
          18769.3502891082,
          -12242.384219337713,
          7160.679087378543,
          951.534788640554,
          2388.9064402514773,
          17576.58039542034,
          -2205.909274359782,
          -11883.546598977337,
          -5452.567425835951,
          -11505.417032374522,
          -2464.6290551217353,
          38602.053583870584,
          53343.26570201526,
          8722.982574036665,
          -9721.608026309066,
          1815.7148013305855,
          -2354.27229223248,
          -1574.3898406066407,
          -11241.679214124964,
          11379.603025435012,
          43597.8418279296,
          -8236.376217725776,
          28686.08400987044,
          18425.08613083754,
          11743.700253953626,
          21822.915198772676,
          4727.565909410476,
          -867.9876353861715,
          -8971.839883686256,
          3538.2265209658126,
          -5713.472440492038,
          -6493.536253796429,
          -5232.074473111256,
          -9646.124499542826,
          14886.972688821823,
          3272.7563632680317,
          -4095.3509015196055,
          344.47319485783885,
          14724.340562788388,
          7844.650012074614,
          -11576.128655877177,
          -7067.442986269935,
          -11503.435508351888,
          26476.43728383863,
          -4925.4936952326525,
          -3367.200229271756,
          -11642.219462463077,
          -9872.965007364717,
          -8116.941376698964,
          12616.494215989997,
          -2657.8899807341554,
          -10696.170925045693,
          -8312.730899175102,
          57650.7022560101,
          4695.592805100003,
          573.9467144783086,
          -8963.524460082785,
          -12284.327262212075,
          27477.51929279284,
          -1098.615683305579,
          -11032.426752397338,
          -3368.7120218813156,
          -1368.1198190874654,
          -8775.213303528108,
          24929.43293328846,
          52561.29814078842,
          -11658.01993893291,
          3326.0070498940618,
          -7215.435830128412,
          39505.793182435955,
          -10760.042770459253,
          -8503.942859159182,
          10809.416067355349,
          -9715.309309083834,
          -9961.297162766565,
          -9127.4340777284,
          43600.13683632239,
          -11812.81714970857,
          44964.44840236634,
          -9983.669176731113,
          -7254.361285887465,
          -11651.122808235046,
          -11662.431574337237,
          -2858.096549161345,
          8326.003347462605,
          -4422.937296167437,
          -1102.0408894998588,
          562.527358086474,
          -11728.466777850968,
          13938.76321270693,
          -3210.720907768488,
          -3807.0119355028023,
          16182.048893159608,
          -9404.336805122253,
          -7342.193031494177,
          -9755.396401386884,
          42332.013111064356,
          18472.655358711916,
          -11648.120446329853,
          14931.236025063308,
          -810.1183165669555,
          3796.1627169088756,
          46535.212078910634,
          -11762.45992313439,
          -12037.683024425407,
          12001.930780585457,
          4342.967915228778,
          27966.056625915182,
          -11445.274892440677,
          -9722.872028271962,
          -12142.359572903908,
          3492.2291111504487,
          -8585.718864392022,
          -5964.84148431877,
          3647.6715144827076,
          -7142.856927786227,
          -9430.11737861817,
          13019.409953759683,
          -11840.772475783408,
          -8306.402563502414,
          -6270.455612863555,
          -2458.5547716455912,
          8.505470527144459,
          -10794.420524125633,
          -11369.657112864972,
          -11772.007453144504,
          -4455.312952729493,
          22069.928449120176,
          1559.3826561695937,
          29987.203490694847,
          -2547.5006232910746,
          28204.25679345326,
          -11627.576538158717,
          -5494.607341235221,
          -6777.413513021893,
          -11633.618324026502,
          -11864.7278101933,
          -11029.303900994462,
          25264.322640836806,
          -8133.318889180822,
          -4944.436482257988,
          40786.490246279245,
          2054.6647393721682,
          -8393.528370801554,
          -2465.9920194001324,
          -12168.372529657952,
          35162.48325246409,
          -10499.227620005633,
          -12287.728506154695,
          2974.146245174481,
          -11879.75187232593,
          -2638.8008515385363,
          28081.966993006692,
          10098.366151426906,
          -9769.49572346855,
          37722.13990343127,
          -11358.60307515744,
          -532.8852441120864,
          -3955.319661018974,
          -404.0324696462341,
          -1387.5289935852684,
          -11809.501040673518,
          14611.792223005881,
          1025.9312767171327,
          34593.773711831825,
          34214.233899844236,
          -10454.240879214896,
          -10350.703103159782,
          27486.43097037571,
          23906.231713613746,
          5176.99806070281,
          -12176.907430042344,
          -1417.9008219793807,
          -11823.194595660285,
          22409.915422895574,
          -3441.394859879226,
          -11352.952899705026,
          -10071.006347904511,
          4677.974658031822,
          11033.04145743689,
          -8668.968355703264,
          -8302.106283874391,
          -10920.596593923514,
          19416.182856307,
          -2783.976818033586,
          32109.901431114944,
          -11855.172263628563,
          -10418.610335286585,
          -9007.671914230752,
          -4083.717354786932,
          -11247.575694614005,
          23879.343531001374,
          670.8997533116474,
          -3395.205708250352,
          -4911.970924323031,
          -5260.9763858239785,
          -3165.79929654157,
          5103.278955604302,
          18599.43390686592,
          -10651.217469258936,
          -8479.743169872248,
          -11709.42751630286,
          -9690.850341115034,
          25418.633114549062,
          -6286.04089453112,
          13388.411594759493,
          -8641.803929479494,
          15746.932119537747,
          2931.2374338779355,
          -6811.939914756761,
          -9101.197199058617,
          -5759.884673101384,
          -6301.496328700391,
          -2097.374436842393,
          36489.53086576997,
          -11937.90097870839,
          -1053.325686901443,
          -9666.433695746266,
          -11018.368912403035,
          -7598.83921549207,
          -6201.016572495145,
          12617.927337629784,
          -7898.07369299813,
          -6477.741194833468,
          -9935.044997211351,
          -11577.588255069515,
          11279.050521576064,
          -11330.526526368527,
          -9153.269828839773,
          545.2777018678771,
          -10099.93318334292,
          36064.121924774176,
          22143.131631018772,
          -10815.834067170468,
          6660.2914892742865,
          -3181.724819602142,
          -9627.669954396348,
          20107.57433920085,
          -10231.406075821966,
          -11357.039850114905,
          51417.213619337235,
          29624.931080643564,
          -11196.616070445414,
          -7018.483880444224,
          -3438.053711180903,
          30364.875005638485,
          -10823.479016103076,
          1372.8677254054016,
          5920.912882836912,
          10602.592042455837,
          54725.7318362367,
          -1675.935198536157,
          -10587.577834366199,
          -11196.846310442732,
          -11142.42657497085,
          59669.53128556695,
          -2570.0327306031663,
          -10689.474557056177,
          4724.041352717892,
          52731.49981370242,
          56764.32133766174,
          -6836.5584002100595,
          -8164.735979681347,
          15682.551691408758,
          66369.9039296438,
          412.73518766940344,
          -11068.20771516712,
          -8270.743325114629,
          -8158.751195265806,
          37804.89901230412,
          54663.498356151234,
          -2591.56862437076,
          -10142.034675406574,
          -6725.388023593579,
          -7706.668526010859,
          -10124.367406570493,
          29247.27557977885,
          -9359.716255458537,
          -3315.889374119424,
          -3335.5508231611366,
          -7622.136884960632,
          -10953.602350882942,
          -9449.795726122693,
          -11649.871010287945,
          21909.057320367294,
          5924.043613711543,
          2394.6048000705864,
          -11883.901828580216,
          10537.794050006405,
          7022.44621126176,
          -4083.233662769041,
          -11445.877322115466,
          -9072.669628621143,
          -2866.224634510361,
          -11175.403438994621,
          -11687.164538763878,
          -9932.939062745203,
          -6868.539025317869,
          -8891.801519171479,
          40995.443861945125,
          3210.1351703117384,
          -10082.303231254184,
          -11728.749148539484,
          -11967.578036166546,
          6043.282274896972,
          1567.4336825670891,
          -6410.985154498624,
          -11199.415135661415,
          -7265.891034054062,
          -2051.13200310935,
          6401.738015190899,
          -3843.118376926156,
          -12171.971418182102,
          7341.122990830564,
          -11836.241055539274,
          -8303.353391119465,
          -7217.2473573823245,
          -11793.500071388351,
          -11148.710691926726,
          -12053.945044027001,
          23434.51227894043,
          -11786.960268210283,
          36716.210531279314,
          -11731.617399302866,
          7540.749808780929,
          -10475.797938699758,
          53266.13915101198,
          -11638.401927819583,
          -9880.139181791139,
          -8027.733193284641,
          -11848.536658843193,
          10644.374034534267,
          -11961.288725416955,
          -5060.482130421436,
          -11683.15709581064,
          -1271.5762121236796,
          -7778.468082434328,
          57382.82036599291,
          -12021.687471062205,
          8944.123500116255,
          23594.51506600925,
          70401.90659674797,
          -9464.272271976817,
          7611.834699212044,
          -12096.44983863583,
          -10149.277783096624,
          -9979.688627758671,
          -11144.768530079331,
          -11387.457715535078,
          3838.235939014576,
          35730.342290742796,
          -11768.110553865215,
          -2338.166233930403,
          41111.17205959827,
          -6434.833755528033,
          70843.09554076756,
          -9353.134552820844,
          44098.869506969444,
          -11589.763967922978,
          -7713.559884518332,
          -4796.766602267663,
          -3516.799239465785,
          -12090.732348971997,
          -11569.887481679478,
          4843.866300662305,
          7267.118388507143,
          4638.061351720144,
          -11985.793587523625,
          -9913.53570356345,
          -3465.8111863278996,
          -12159.152735092075,
          8847.921990877725,
          -11122.707034187239,
          41548.38190247369,
          14307.888647244661,
          413.0918211623599,
          -5546.280761392443,
          18163.361734446782,
          57946.754568489945,
          -11976.60783862035,
          4998.547033889761,
          -5914.402872267843,
          -1547.5096262871914,
          -6937.092268808582,
          -11156.893454697676,
          2739.7934317521444,
          29842.4786097682,
          -10110.425646943213,
          41473.871668743384,
          -6222.903721272873,
          -11700.342089039352,
          -2422.358147260561,
          46148.007921571785,
          -7540.919006813998,
          6583.6924609357275,
          -5155.679654349285,
          -1739.5596314332452,
          -7748.007605831275,
          -11006.5447498268,
          -7369.315580651574,
          -2780.972877647314,
          3041.7528056996234,
          21458.352589714428,
          7427.616568723812,
          -7724.992730669479,
          -8349.05606051053,
          -8021.667351295201,
          6447.329375542652,
          2078.5520669595044,
          -9344.821929320897,
          -11403.19499968138,
          -12095.139480679027,
          22003.76239022295,
          41778.32785387702,
          -10509.843296916506,
          -7390.884870013503,
          -5067.205715982672,
          -3928.135523684974,
          35767.368260538366,
          -10712.536000510709,
          -6633.038409777025,
          -5534.96020489607,
          -7643.630004352615,
          -1303.87052863126,
          -11205.939213902842,
          24250.514406366983,
          -11756.481185969118,
          -4670.661834463048,
          -12016.802906543386,
          -7410.65059796464,
          -8542.031926293681,
          -11526.774102622245,
          10513.037409599636,
          -11431.945767387087,
          55618.034017936785,
          30906.15416438751,
          -11317.687513622155,
          -55.61962646629527,
          -11612.83731695813,
          14773.814165664537,
          1753.9541931836188,
          -10377.197350429002,
          21549.615397488025,
          18743.622858817216,
          6261.082172048114,
          -10479.774088377992,
          17206.853382988545,
          2012.2147314574188,
          22913.586545962527,
          -6756.600104799219,
          -10917.13641784288,
          -3049.7269212358683,
          -12274.760164641648,
          -8728.759178635717,
          -4555.225119526909,
          -11199.326470423666,
          -11205.50025227392,
          -8976.836221289146,
          14137.037115756028,
          -7174.042710052431,
          -10084.514498842345,
          -11489.968822461822,
          43157.01364377083,
          -7696.841312562756,
          -6128.032880902488,
          -11604.498626362929,
          -7375.95329821845,
          -2097.893587912795,
          -10286.205540085284,
          -9820.626605924288,
          41171.80885483928,
          -8425.247370924208,
          -9761.123044015472,
          -11397.655196612382,
          23588.196207981637,
          -9297.646609553572,
          -11012.59865757922,
          -4869.767218386735,
          23415.505039455544,
          -8580.72423470066,
          -6019.047996867037,
          14150.39172302551,
          -8439.01552312305,
          -12087.595225047,
          1004.2488489484971,
          -11687.270553024257,
          -8206.110648946657,
          -8598.004384418298,
          -3903.656084534449,
          -6643.949014701529,
          -10623.036322559274,
          -12069.407949441198,
          6444.763161859435,
          -10942.8604022171,
          31753.189964863763,
          -7161.263283745799,
          -1956.1723165443534,
          8190.302345401681,
          8466.56624124722,
          -10089.117793630094,
          -10877.93642024254,
          -9598.148232085934,
          -12020.108597767374,
          10470.48038631291,
          -10578.660959896686,
          -3336.291272128342,
          9385.800384091966,
          3943.5774043621786,
          -11999.238065167996,
          3122.3832058614153,
          -11226.63897921041,
          -11983.523479309044,
          -11807.3521958069,
          -10228.024703108493,
          -7880.231292049618,
          -11772.348433270277,
          -8104.072993160687,
          -11566.47929047411,
          -10300.52172782989,
          5544.060928329628,
          -7748.167564812356,
          543.9575097717109,
          -10909.026548861364,
          -8461.507955035038,
          -11924.391832554482,
          3222.6580197641642,
          -11193.310018420025,
          15048.721571344866,
          -9714.091140471604,
          -12054.975920681885,
          7501.05893880007,
          35631.95705456614,
          -10429.187699820002,
          2341.8631015717788,
          31606.851557799455,
          -11107.871658105072,
          931.0897171409207,
          41692.943484978256,
          -11891.539328469347,
          -7021.658983356719,
          21772.500529393237,
          -12095.814628016658,
          -12088.401795381718,
          -3038.7369916580515,
          10620.059722292946,
          -9840.323180946709,
          53019.53271877519,
          -9992.92636646538,
          -389.0059593084908,
          -10216.833161682278,
          16790.35368003796,
          -6413.266688517808,
          -7686.493179557836,
          -11158.997435934374,
          -2912.442541731557,
          -11783.424496315984,
          -10675.570170338486,
          -12107.499467872693,
          -7157.394780009493,
          -11748.166612338911,
          -12146.536801291588,
          583.4394961708236,
          4926.586688269589,
          -4304.594853062916,
          -6155.0863371425985,
          -5391.400975603458,
          -5530.90533151942,
          -7729.3395944334425,
          -9799.478345819507,
          61347.81488347639,
          -10724.541078164968,
          -11846.882636216864,
          8517.679590201145,
          -9301.982108089554,
          -7944.991484397634,
          -4004.676641368738,
          3338.8403260589225,
          19973.078909801152,
          -2784.727731382733,
          -7689.890251788445,
          -12095.669357795468,
          -353.6737250837186,
          -11194.789476980623,
          -12199.582117804803,
          -5051.450045416771,
          -4787.151471299334,
          16592.96857099962,
          -9941.513217380045,
          -10346.027852680669,
          27968.569906940007,
          -6626.0224772249685,
          -10709.385516223994,
          773.883073968433,
          -3168.8518963212055,
          -3057.5409679197446,
          -12172.32559360697,
          1359.5689567981701,
          -11975.236990164074,
          20994.17209476044,
          -10910.311423645604,
          -11998.33730899463,
          -10194.917759335514,
          -1184.52377821836,
          -10796.851746324224,
          -12074.319339834288,
          -2977.5972158388645,
          15717.335293129814,
          -9699.179233331546,
          1469.5850668689816,
          -10031.479760686329,
          -11749.76050609195,
          5603.286836275355,
          -12165.67975909418,
          22508.21694085894,
          -11082.906113472569,
          -4807.70072074003,
          -5896.510761576787,
          -7927.98534286407,
          -11839.727386062938,
          11162.275503551586,
          3097.2247707217093,
          -6298.9350912591135,
          -9256.042648808218,
          -9918.767605381472,
          1876.2409810766171,
          -8314.370172842999,
          -9076.30856180917,
          -11980.733921959996,
          -7325.227324670594,
          -3098.2746082796516,
          9048.282971089448,
          -11142.54062806999,
          -10449.71257984295,
          -10216.753566825459,
          -1774.7992673312365,
          -8328.529042483997,
          -3827.1088120214954,
          -10114.953085782048,
          -11998.444800867112,
          -9894.053789273597,
          -10766.504040383148,
          -2847.7416965709313,
          -11620.57671057207,
          -3816.7044358815733,
          -11527.62901815757,
          38454.33658012779,
          5241.167771099431,
          -9937.105390499357,
          -7646.592311099811,
          -5122.533603831335,
          -11653.896782087188,
          -3175.5292066009642,
          -5766.239219172919,
          -11948.73216772093,
          -5612.288824098071,
          -5741.684443478633,
          -7838.006425300921,
          10902.292043285554,
          30148.135628020147,
          -12116.893675769956,
          -11377.555806114584,
          -5665.682551436357,
          -11901.597832876532,
          -7418.418614218745,
          -8049.781152645995,
          138.4922884925138,
          13534.943959422038,
          -9993.059647883112,
          21130.130642382,
          -10948.840092035383,
          -8410.736219049117,
          -5923.54486952749,
          -11197.563935119942,
          -9832.471747266098,
          -9282.212987755385,
          -5560.091899466957,
          12415.646249731022,
          31075.028974653713,
          -10228.821769580953,
          -10286.928910965671,
          -4430.748432893356,
          1666.9573769356657,
          -11850.895678096978,
          -6859.332140331896,
          -11174.967614449102,
          8297.111107828467,
          1602.0715277901659,
          8933.624948452256,
          35074.989160327015,
          -11259.300438529235,
          -11565.76242206621,
          -4118.722285522468,
          -11909.36271561292,
          -11984.857791021086,
          -5263.938769175082,
          15032.281393481984,
          -11085.297928547443,
          -6397.545372019706,
          -1.3645686032259647,
          7596.503891590111,
          -10183.628676026163,
          -9628.92288932969,
          -8836.456181976304,
          -8674.882295064754,
          -5833.292098570699,
          -1076.2325929414103,
          -11076.899181469385,
          5999.478794997325,
          -11450.755557701283,
          -7365.755889968338,
          -10464.214967946233,
          1082.4968370464603,
          -9718.095146952513,
          13317.695726526317,
          10999.812690702052,
          -11004.577682750483,
          -7834.450648698948,
          -10588.605643168406,
          -10945.999618076661,
          -5963.6899468808115,
          -5206.092185083745,
          33291.95624301415,
          35195.36194955816,
          -5441.952306445753,
          -10733.641574276433,
          -5078.76114965257,
          -283.87404301518063,
          -5255.527172439914,
          -9497.578498969862,
          21951.342173758123,
          -11783.159423276928,
          -1725.7053414845618,
          -10868.965614286179,
          -1415.8028121054597,
          2564.7293414752407,
          -2605.213608805469,
          -4260.815274237516,
          -2369.6655926427115,
          -8120.129607753977,
          2804.7728548511777,
          -11871.506511444593,
          -8281.808711723981,
          -7908.7669601541065,
          5508.288954439639,
          -10646.518518801215,
          -10146.512938511414,
          -8201.334929514172,
          20822.806118679484,
          41667.01051019411,
          31947.370316894347,
          -11942.300238168174,
          71.57359772951378,
          -8695.419547994945,
          8718.438817792936,
          -4611.048666787886,
          -10217.241961898839,
          -10551.428177016278,
          -6320.787433099441,
          -11432.705361654114,
          -8569.337662739468,
          -10853.737206500902,
          394.8493137246946,
          -10862.276711376158,
          -2414.0122549694825,
          -11338.820718013627,
          -3725.5991581826265,
          1269.3960738907945,
          -3970.9851825807186,
          -879.4976283171123,
          12010.951377658143,
          -3688.960112355824,
          45533.56638187443,
          6249.783923026818,
          -5351.532599859326,
          -10215.14244816706,
          -7096.788857669965,
          -5484.548412200844,
          -8280.712584085304,
          -11434.119515708879,
          -11994.977639481127,
          -9999.914005530445,
          -7495.6618362390345,
          -7381.472199155706,
          -10643.477682867835,
          -11185.813161065911,
          -11764.596478133568,
          -8631.770115480387,
          -10639.357361772709,
          -7869.711351696606,
          -7993.846128032138,
          -10618.340468322802,
          -4056.2288045306323,
          -5402.69226719732,
          17279.125375572214,
          16774.366671306652,
          -11775.282410271877,
          -9894.749770397504,
          -9623.61730320892,
          -10785.608437966406,
          -4851.921904394919,
          -3576.015376421199,
          6320.525470371392,
          -8216.314827331777,
          -7214.857981295721,
          -12031.501706978976,
          -12095.299789617306,
          -11639.98087994874,
          -6354.998039991393,
          -11785.89912483001,
          -12000.715512002145,
          -12028.591518628944,
          -7321.484906508534,
          -9822.296988776032,
          -12077.139541002633,
          14729.52046357952,
          -5396.728798256954,
          15440.985556273625,
          -12005.499570974484,
          -6585.783799490265,
          -11492.20072473156,
          -6632.1921716699035,
          -6454.471028771569,
          66.13916039374202,
          -11622.237045425796,
          13612.947823273873,
          2595.6509932894246,
          -2143.3339501291807,
          -3996.4165591024607,
          -5374.176262401333,
          -11498.323394412335,
          -9532.080827329848,
          -10777.36307592301,
          101475.90038005756,
          1003.602113981979,
          -9199.28084588205,
          -8436.828731028696,
          -9616.382975642216,
          -8908.08541552956,
          -11763.640735893348,
          -8051.756678091846,
          -4763.558920828072,
          -9470.711813958678,
          22080.38338078579,
          -11104.369494407578,
          -7385.429113280346,
          3465.605469268454,
          6658.9341553971,
          -5032.880345847913,
          10892.63993691433,
          3651.322669759998,
          -6853.596795485984,
          -11896.497489803129,
          -11348.324566205602,
          16495.26743858971,
          27708.164805233555,
          -11263.715025502925,
          -11164.137650203198,
          -8164.158428178313,
          -11313.428174495126,
          -10171.124757065509,
          -5928.8499467268375,
          -11548.764004914861,
          6382.928283022951,
          -5340.224498734722,
          -3064.520588295127,
          -10717.956809423255,
          -7579.023579045387,
          -10342.084791554294,
          -3734.418484684179,
          -474.90995969621144,
          5226.334481194258,
          61897.99445750633,
          53446.45159755278,
          4007.931559321076,
          -7929.204469129848,
          -10868.773322528355,
          -5721.568063592358,
          -9827.766974788814,
          -11958.650744368875,
          -11715.585742505527,
          -11018.480749342227,
          -2645.1344011776728,
          5101.509848846824,
          -6691.291204984465,
          5909.305119297399,
          -2261.894681669137,
          12258.44272850869,
          -11104.519056322792,
          -8934.49410949445,
          -5040.467284285202,
          -10763.394167005477,
          -10879.82275608313,
          -459.71096063313036,
          -10695.200831663215,
          -11323.307807781881,
          -7809.71535724827,
          -10489.753342890575,
          -10114.465324825582,
          1299.6713799709332,
          -9294.952973240146,
          -11900.209322706656,
          -10224.9801488872,
          -1220.2809002526012,
          -11968.545671710564,
          11418.491944873702,
          527.528683222307,
          -8771.52829646873,
          -12162.936366466227,
          5673.566739570939,
          -3258.65561904075,
          -10363.666200157817,
          -6328.745399540272,
          -12150.661754774643,
          -10063.863497068789,
          -8769.786936508808,
          15918.47990134135,
          -9407.105796809778,
          -10517.251001604329,
          -10209.321256174948,
          -9971.020104125519,
          -12.511072054231535,
          -8376.894603641003,
          -11490.41487606413,
          -4918.827030721454,
          4156.714266411861,
          988.2127413045392,
          -3368.020011060531,
          -8496.869127547603,
          -10922.949322904406,
          -5201.594204954233,
          -11472.80218053872,
          -9873.718661736875,
          -11765.7063896675,
          12403.414869480754,
          -161.8694247847457,
          -11105.370747435934,
          -11380.58143269251,
          -9956.041689214217,
          -4417.531060019092,
          -5905.528362930004,
          -5258.264688056192,
          -7325.149557322518,
          -9734.386578236497,
          -7830.542325893486,
          -9469.257759638667,
          -11106.441965681914,
          -4374.545658700386,
          -9977.525648989327,
          -2552.649682821426,
          830.0929838707125
         ],
         "xaxis": "x",
         "y": [
          24132.318711871223,
          6117.191418128278,
          -6101.7549862900005,
          -27172.17966717108,
          -4486.301880034482,
          -8389.038070977713,
          2087.028802699297,
          23397.42702644397,
          9016.27411902815,
          -7067.771146337482,
          -3107.561168929783,
          9310.099400672067,
          -193.14559526796762,
          -5712.157276606512,
          -11406.353803569713,
          8208.720919970805,
          5061.10632513299,
          -31103.001812802595,
          3610.8716341791774,
          6076.636309826715,
          -1097.7095770650305,
          -12645.892037914056,
          -5807.361409035986,
          4905.006617394916,
          -7589.382779138516,
          -5145.466443765975,
          4953.579484755331,
          8257.765932479324,
          -4024.937017119317,
          28998.05786297293,
          28047.18644454523,
          7198.282683649721,
          9290.785553490477,
          -6436.802387944789,
          8511.676431932516,
          -10371.507453078862,
          915.7062738758582,
          8862.949459865558,
          23336.850469600635,
          55253.64634791516,
          -11582.616468723789,
          7600.321665343677,
          -681.1110813069283,
          -2447.917762667078,
          6695.150421141869,
          2236.368711083408,
          -2824.36248670569,
          -5563.455671612961,
          15452.685448965009,
          -7467.356588667216,
          2047.6250229208445,
          9497.494120022626,
          -7563.923400153257,
          -8090.212500447567,
          -7259.442319100309,
          -14802.28273465482,
          -6941.049467029582,
          8997.208628601993,
          -4078.5061031695104,
          8503.68892280255,
          -4324.0208471936085,
          -3368.567820578388,
          15482.793321455603,
          -13677.609572210918,
          4143.88420429139,
          -3849.374356049087,
          -8516.09933633078,
          -10021.949430055538,
          8444.227620010659,
          -9461.292281118374,
          37792.6508454149,
          865.959254366702,
          -5236.376261335491,
          -12036.520755214635,
          -19557.600811218326,
          -10744.905520454657,
          -5167.892311241093,
          -6713.367749472853,
          2147.372776901298,
          -10449.600514018395,
          -3199.503407976456,
          -289.54978301581707,
          -3616.8593119604134,
          3698.1650102105873,
          -8270.123218155548,
          -8891.730294328352,
          -7456.965671979966,
          -11416.583085563132,
          -6571.393934910346,
          -12372.13787288114,
          7614.32241635238,
          -886.8521443010154,
          6346.2199236103725,
          4715.072926152721,
          -6591.741668628962,
          -3444.503010873734,
          8504.891381970243,
          4733.009876201561,
          935.8527968952556,
          -2358.897854646897,
          -6076.151420881878,
          4928.099245725284,
          2706.557928559933,
          24202.139631521837,
          -10008.830129282042,
          -5464.898081009406,
          2997.470962797153,
          9535.983291857065,
          40.23626634182644,
          -5496.21640548697,
          7076.598326967316,
          -4869.725706766873,
          -8438.09931551174,
          2772.7310988344957,
          -19816.638281707772,
          23990.267597670936,
          9007.628740798487,
          -11774.61613745283,
          -3351.7329629322608,
          13601.978353215249,
          8028.873090386022,
          4587.63669632748,
          -11846.196670953243,
          6834.1682477844015,
          1882.900325975006,
          2835.8981840707133,
          24173.940354634786,
          8491.553376759744,
          7168.247330468069,
          7897.11013985217,
          -623.1273622149873,
          7974.0667174674845,
          8687.07250830221,
          -3478.351884402587,
          -7750.932670128376,
          -3383.4198702612603,
          -6884.651363140493,
          -9519.943653188257,
          8548.869603742934,
          -18023.864361711745,
          -5939.135511040714,
          -3325.0876230620083,
          -4055.8654633904707,
          3033.4787809902696,
          261.08246380093243,
          1586.2747426621877,
          3932.3030644669066,
          -17863.213312465497,
          8659.265920291416,
          -2241.5495443443465,
          -11199.690810343192,
          -8367.45208027416,
          23422.900400670747,
          8392.2562972585,
          9415.131185949756,
          -5751.3220397635305,
          -8847.463752589403,
          -3378.676816981979,
          7028.059271042879,
          4318.388278519958,
          9425.321066927556,
          -9366.243312779729,
          3183.5394039039384,
          -2397.8075654343293,
          -6724.148600744677,
          -288.17632086917416,
          1324.0971222800824,
          -19596.389374298014,
          8452.998156742278,
          341.06592549477716,
          -744.543708453955,
          -4867.057215461316,
          -7797.091835193466,
          5806.578167444037,
          6816.3868811840175,
          6963.267008040263,
          -9603.656642215754,
          -13380.047186123931,
          -10316.421318691635,
          906.8097949340389,
          -2158.99076477626,
          -16259.024991635677,
          9362.643398285543,
          -2391.3932475398196,
          -1661.9728420510428,
          8122.554686350245,
          9138.140415657519,
          6465.7120852249245,
          -11959.892471325707,
          2084.5807110230057,
          -3384.3395835932292,
          23181.054552478934,
          -9099.639262310156,
          2909.006937701201,
          -2271.3416768455827,
          9203.164653570662,
          20438.352689276773,
          5004.174897612923,
          9427.435479586318,
          -13853.82482777475,
          9287.932724792034,
          -3361.016222167912,
          1796.7652934696994,
          -6576.755271660446,
          4537.723500297059,
          28147.17269671439,
          7218.183749983686,
          -11496.809441159407,
          -4855.774596707035,
          -5745.974599272518,
          -10952.572852470777,
          7526.255880978333,
          2135.827026615846,
          -8751.684980885648,
          17122.191426518726,
          22879.70851794871,
          8553.479736330248,
          5255.730311301927,
          -3153.956257730701,
          -13354.424149611164,
          -12638.502946896719,
          9075.042210000789,
          -10339.364666880232,
          8284.456775033594,
          602.2022911782007,
          -6204.317276849785,
          7341.330845935316,
          5255.019655044157,
          -10333.845755205915,
          -8448.883791907787,
          439.7594898623496,
          1061.4047217334557,
          7726.113506197397,
          -8645.681069254983,
          -4084.852534200561,
          23505.50923064492,
          8957.678663054914,
          3838.2910605279853,
          980.8524883454323,
          -4509.369560137101,
          7729.077250968696,
          -10533.028926810286,
          -10378.408631602177,
          -5882.103418031515,
          -3200.686506798575,
          -2983.274756573651,
          -3213.379132294939,
          -16864.252583458445,
          -7734.13800820663,
          3961.8837552571226,
          69.68349330346611,
          7206.9577340653805,
          4203.390366238677,
          6573.1385847286065,
          -2054.627720641205,
          -9225.436826309806,
          596.4100335267651,
          -11306.728340650208,
          -8595.02347762134,
          101.35257274854135,
          2148.7792652709727,
          -2607.395116403371,
          -1671.3684395965536,
          -6793.386133980048,
          19917.04215327723,
          8644.28798823625,
          -8005.901473165515,
          3397.5965808878236,
          6385.506335343732,
          -1093.8437368027778,
          -445.4565077575525,
          -6120.369554514429,
          889.0716063270323,
          -1734.3859210628207,
          5010.8171440704355,
          6960.551696507903,
          -11161.166009638597,
          8212.275756140227,
          3066.925127800514,
          -15571.8957565242,
          4684.409129469838,
          10765.070346832557,
          430.3314284468691,
          8819.269351515928,
          -6598.4720933876215,
          -3776.7474287217456,
          2957.2262536091034,
          -17175.93088908792,
          4710.12183700853,
          7193.493628675361,
          30459.866529717336,
          14095.430510670374,
          6588.028101212401,
          829.180949485301,
          -3245.4133909047946,
          -36172.68179289612,
          8463.551704600335,
          -6865.810341682426,
          -18013.50158504925,
          3569.566642963902,
          24121.983625635326,
          -6938.455433921401,
          4468.395544314615,
          8789.829707385034,
          6894.091722980723,
          15365.015733898586,
          -6511.755797073283,
          6850.960644761251,
          -9246.53264884051,
          -21646.748656797594,
          25143.361866053358,
          -2676.2303043478832,
          1174.347024398224,
          -7725.7958753900275,
          -2477.78812734397,
          -4375.297109517593,
          6714.236503264657,
          187.3908988144864,
          -1153.0028897372874,
          7421.260329421764,
          43981.4338731677,
          -9762.004243176976,
          2269.986650769186,
          -3697.6490623196937,
          1835.177991748804,
          4792.262890277472,
          7551.092106215047,
          2531.1518788242406,
          -4732.181539524684,
          -5265.705741706811,
          1250.936834412178,
          7957.930157277563,
          4073.6481263763035,
          7316.8366874192425,
          3638.445759567568,
          -13375.97692512049,
          -8260.218258899873,
          8597.135780100027,
          -12365.18607383525,
          -17362.53173576843,
          -3301.1573633298817,
          7455.760513131263,
          3400.2370843895405,
          -5709.505589940648,
          7196.988011778961,
          9474.535709737518,
          4113.389794355763,
          -159.0751956305268,
          1609.8426075858729,
          2828.967583733582,
          -16802.324381298364,
          5073.219327375849,
          6247.309304735464,
          8542.572362214172,
          -21797.316783053026,
          -8434.676602085028,
          -2049.196400780971,
          6464.8308129380775,
          -1517.2782147509715,
          -7485.7060338237925,
          -10499.019324029783,
          -2937.145976329046,
          9903.458508642454,
          -1177.2312235127122,
          8377.054585002255,
          605.6320933282083,
          -776.9572247638279,
          8423.485765490643,
          6905.058753323913,
          9480.178520892398,
          -2581.531544437397,
          9334.228922254795,
          372.95349503334967,
          8137.143803132654,
          -10544.846710346314,
          8833.905418040067,
          17191.651726865264,
          7773.573715235447,
          5106.721260361369,
          -1000.8116202817549,
          7026.836030954725,
          -6804.832133493429,
          9162.975357327132,
          -2897.526186259599,
          7863.328506242174,
          -8887.496776657388,
          106.49407631827862,
          34954.307422138256,
          9239.781475174677,
          -7304.873611261872,
          -8121.959883081035,
          -18408.11368072672,
          4224.135184759287,
          -4164.115118831587,
          9456.054423636111,
          4740.960087170136,
          4055.6134279251132,
          6972.337621059874,
          6783.9682623629915,
          -7960.188545968233,
          -35607.89633800898,
          8465.638315857947,
          -10881.603486805427,
          17607.47091992515,
          -3297.39597013597,
          25548.35533047421,
          3693.931842034879,
          4707.060823051506,
          7410.805946426489,
          596.2845245009664,
          -5141.3422688107385,
          -6460.106680024842,
          8952.450237586458,
          7368.595473001538,
          -8710.93272764204,
          -10784.226662318213,
          -16430.154304284275,
          9050.53359667959,
          3990.8903058636906,
          -4987.16086981108,
          9482.98037861963,
          -19669.128257985278,
          6203.628446799777,
          16833.575324488156,
          -18052.852430488085,
          -6519.0576800895715,
          -1790.750507110268,
          -18282.77767566626,
          48716.126926959434,
          9108.924206770353,
          -21363.481077579152,
          -793.6247447084022,
          -7367.048822955024,
          -114.51837452352565,
          7699.720391331512,
          -11316.931742899871,
          -11993.398919489413,
          4359.594624748966,
          -5679.041604523639,
          -2705.913357549152,
          8831.948546258564,
          -7251.5626410291425,
          28143.563661374166,
          880.233682669042,
          -13440.349492458867,
          -2981.665321437745,
          -6471.9521041588505,
          382.17937524462843,
          7266.109754129359,
          -3373.6024607393306,
          -5376.660352833399,
          -4691.676926515836,
          5022.928883493651,
          -7036.894869334665,
          1729.0741413557666,
          -312.41462266538497,
          -879.9284712641075,
          -14270.5934442124,
          -10499.350230621694,
          4056.632803075248,
          7173.330873349745,
          9225.760047454103,
          -21142.9586451159,
          20542.037535291594,
          5965.507424206084,
          -2892.5635758048006,
          -3344.7402132471857,
          -12750.506545954999,
          31336.938144559255,
          5501.634371607644,
          -375.16430977220944,
          -43.22750804405101,
          -1329.0866391802756,
          -6308.668152609914,
          6409.0587468101185,
          -15835.326058808381,
          8044.401620629244,
          -3348.671378645393,
          9297.199581450963,
          -434.836860958196,
          871.2284396444951,
          7682.3627843752465,
          -9134.974419964963,
          7356.363720127385,
          27874.70344446445,
          -2693.1615072661534,
          8870.121941467765,
          -9275.783857767436,
          9252.201850196523,
          -20444.592586972605,
          -3641.741885136454,
          3356.981336434687,
          -5766.271488056286,
          5037.606332496013,
          -11130.687006256163,
          5371.428469723388,
          -2779.5235000358075,
          -10632.55112053591,
          -16472.80495312569,
          -1024.2229382162072,
          6494.301095887951,
          -10428.011295379894,
          8631.179962961747,
          1718.9910564560118,
          -5683.3870103159725,
          6741.698143774858,
          8619.40558092036,
          3209.2693311609282,
          -21592.107600956013,
          -2093.9895362752713,
          2979.0030462606455,
          7382.694408414337,
          14589.417282200644,
          -2530.6177105286138,
          -3009.086291677866,
          7543.800879556484,
          38.88396250498729,
          -7109.390239022342,
          4287.488751486544,
          3606.1911447225234,
          -19688.353675803643,
          -1666.6191614093398,
          6803.905749038676,
          7463.728430450929,
          -22210.83645830707,
          2556.732623944228,
          7753.218618923732,
          -4653.031280866255,
          -29377.509625054463,
          2332.3017979719903,
          -2867.4107024830105,
          -6909.570331145608,
          536.9872552104398,
          8699.122595902849,
          -13652.800297684144,
          7972.0305251637155,
          1452.4096666162866,
          712.9106210812,
          -4170.9148347978935,
          -2390.838777169065,
          4902.064511352215,
          9183.183309811726,
          -6497.8038647511685,
          5303.94156244153,
          -457.9423628285367,
          -2731.834840015812,
          -7539.410999108511,
          -7985.945953690692,
          -5479.236790003526,
          3485.022454906388,
          4421.127761157284,
          3248.497970497562,
          8850.843304259548,
          -16448.723964478686,
          5622.728924215766,
          -3875.4329674019355,
          -14447.270243434143,
          -14530.123795035925,
          9272.23296164851,
          -4783.473591268505,
          7384.576480678034,
          9253.3256270962,
          8126.5539597135485,
          3226.1485582753726,
          433.9458361098581,
          9102.95962513846,
          295.50617685884305,
          7638.613289067151,
          5087.901659748084,
          -14446.680729246556,
          -2094.4830308253127,
          -4601.589848934608,
          7163.156064193048,
          1634.9108914175265,
          8223.854191484888,
          -13284.031264321435,
          6946.13434091591,
          -22959.12723839019,
          3009.124387566555,
          9300.394459978243,
          -15431.940665700522,
          -545.3888203244203,
          6064.869385943724,
          -10426.678625070203,
          -30928.806868291947,
          7709.19162366197,
          -7959.86521424791,
          13058.893632157977,
          8406.141603269858,
          -1538.3846838183795,
          4008.522984728028,
          9505.054978151009,
          9127.150757734258,
          -7602.827974226312,
          -24456.401975382323,
          2530.447899979224,
          12484.032094548655,
          2756.405825656103,
          -10548.827370314364,
          4770.30429309588,
          -24825.300946125288,
          -3953.0205835924335,
          912.4488488374232,
          6631.01729722149,
          -6231.152935466548,
          9187.705261186722,
          5913.3890749098055,
          8312.552081730733,
          -925.8209854496812,
          6119.686331508683,
          8526.296906528638,
          -10537.764178998266,
          -11417.329022959433,
          -3018.5468975228655,
          -1482.6190676983142,
          -3074.1967426891742,
          -3825.793371994731,
          -682.717772947603,
          3318.3903431432163,
          23118.43054077559,
          5435.331546652529,
          8394.932286343565,
          -8862.104884247747,
          3072.2935802568504,
          2237.787787902359,
          -3997.413018367452,
          -500.53881663973937,
          -3246.686334709739,
          -7153.995553533752,
          1085.6265020906221,
          9295.037339461938,
          -3544.3192739230903,
          6861.320739482572,
          9522.185337111918,
          -2865.74502572927,
          -1918.0486993110944,
          -32171.838280572043,
          3932.1073300553658,
          7415.071440418933,
          -10715.044594875391,
          -2651.625170412812,
          5902.826252022647,
          -9842.928884986488,
          -9586.080855709288,
          -9331.01589950233,
          8437.610544915731,
          -7348.8080282879955,
          9211.307440835551,
          -6171.485153091262,
          9058.010507268493,
          9212.960284596276,
          4409.322178817821,
          -8702.327516728794,
          6716.331824045801,
          9335.447944123578,
          -7935.305669130395,
          4718.204450847503,
          3955.178662704818,
          -6539.425797033244,
          3657.6156619888893,
          9218.886925144045,
          -24736.76300754211,
          9369.481507163746,
          -2278.253403765193,
          6651.309956869358,
          -5708.744530763803,
          -1634.61970242522,
          -181.344490314785,
          8089.360717198657,
          -6206.561875872199,
          -10850.124033965507,
          -655.2196460688709,
          -592.7765918113013,
          4164.370199412478,
          -8041.844491823869,
          565.5634860840424,
          2181.44058338044,
          9064.086751435887,
          -1738.0808531274402,
          -4966.10110746024,
          -19485.10283686901,
          5895.031511794731,
          5082.553400760111,
          2737.498348091071,
          -4822.976695442822,
          1663.3101842852632,
          -3145.554327502472,
          5263.20999752602,
          8784.114109445514,
          3285.2365097658217,
          4660.241939953088,
          -6823.626904389831,
          7808.953924656919,
          -7516.649506946616,
          6989.118716252229,
          3188.1911321040807,
          -3529.2492539377276,
          4839.352557941504,
          -638.7584920954205,
          -2690.14889808862,
          8651.64963846001,
          -12906.649600015642,
          -3494.6572433324886,
          9596.126786031915,
          745.2434210301973,
          -1528.3914418891486,
          -1052.3347479571753,
          -13543.808609846586,
          5022.068607931922,
          9153.557610423335,
          8426.539851197464,
          -1711.9446721872544,
          9229.073726052173,
          -1246.8998339421257,
          1031.9800721307677,
          -2669.689782427861,
          -20905.061778052484,
          4370.709554297709,
          -22403.65223737093,
          9134.627613080895,
          1460.4539188551591,
          -5412.504758112246,
          7004.481816478522,
          4253.484592652211,
          3368.2396493739498,
          -1018.5902081529271,
          -2730.4679366275764,
          18687.9332020378,
          6705.639292123222,
          4890.440878675246,
          -3701.6746234909747,
          -11615.96224668345,
          8423.317794695393,
          -7.563826074320839,
          6719.1267256049105,
          -9556.513384399763,
          -4559.582016671835,
          -15147.947402751246,
          -29047.503081111176,
          7065.034335312246,
          8104.128155174649,
          -4368.337446753887,
          8791.023019352668,
          9114.28951672057,
          -2954.011867205607,
          -28066.57645675695,
          6137.785431025855,
          -2757.5118688007237,
          -8235.091126826812,
          -8611.034609515962,
          6684.157428348748,
          3043.187138850282,
          2558.4425771330903,
          267.05746797836844,
          -1986.551725845098,
          -3690.283874581064,
          5757.190053771987,
          -7544.393358121982,
          8437.658014652712,
          -541.1092228891582,
          5383.390337688492,
          -11978.694462480491,
          1733.733726042955,
          -17687.600335360432,
          -11273.811811573381,
          7604.177027587514,
          1263.9211811268408,
          5749.448604395469,
          7020.018509334033,
          -4038.343516688443,
          -6278.0991758138425,
          -16316.634970524688,
          11766.453337065552,
          -3364.636084494906,
          6195.88858788142,
          -1616.8341420671234,
          -3638.0088711009753,
          -2229.461429012798,
          4739.6262747158235,
          2238.4564741112636,
          8477.850837815808,
          -8338.432753155776,
          4905.393778767322,
          -9735.254867836626,
          -15140.29973940848,
          -4330.358974702023,
          -7106.372535383768,
          -4137.122727426167,
          2164.461706095318,
          -8810.715106329406,
          6605.093979561828,
          2145.862368306075,
          70.26770731549232,
          -6997.198589094298,
          5362.799358571279,
          7893.838375418853,
          1713.5507877450789,
          -10537.830857613879,
          20992.29611487168,
          -25782.394494328146,
          8900.144654170894,
          -7293.776714209818,
          1910.5687515633267,
          -19490.82205714608,
          -2480.561242763778,
          2712.6863582224623,
          5943.136778002337,
          -664.0372535861788,
          8411.511517830446,
          133.71318620596784,
          6801.432940564322,
          -7519.836388392489,
          5317.590562177781,
          -4290.953505794414,
          7581.167577739799,
          -3285.3325073564447,
          -12569.3530456929,
          -6316.6151507316545,
          -2984.8632329553557,
          -20885.22328225902,
          -3244.7457769120465,
          23853.616182813308,
          -9854.315879746098,
          -4051.196325100213,
          4994.397923009067,
          -5501.3843769101195,
          -434.5971161426855,
          -1897.3312774515027,
          8272.236251143328,
          9546.149459747985,
          4387.849146216101,
          -106.997416250831,
          -1264.5155772741746,
          5892.389929537927,
          6864.660872005313,
          8172.728789681753,
          2549.6053098329835,
          4413.440468705205,
          276.0348496103264,
          -475.67241015225363,
          6987.989963484856,
          -4356.543118123884,
          -5284.846321613106,
          -6421.4082986401145,
          -1094.0175405351858,
          8437.253265121239,
          3847.062759776221,
          4760.655791372486,
          5883.072726175022,
          -5342.672843359244,
          -4973.256404645936,
          -17386.02286334632,
          1286.909966593135,
          1211.5587814101605,
          9220.948469373121,
          9382.97108001638,
          8302.235173743265,
          -2549.3644252634717,
          8823.863770983202,
          9597.456558123906,
          9072.941535717231,
          -1734.3340198912126,
          3513.675913662427,
          8423.86299087262,
          2843.6835559073634,
          -4453.7939353466645,
          -30964.37827855524,
          8918.846989925449,
          -960.992709267382,
          7390.305777585224,
          -2977.5803952942833,
          79.12108429102356,
          -13795.483088239911,
          8821.668337946468,
          -19015.645818420697,
          -10427.158906026962,
          -4106.844344874103,
          -5313.554952443312,
          -2591.7042581807277,
          7165.791721621524,
          3921.587730548318,
          6423.376851744822,
          3524.2792646963103,
          -14104.820987507348,
          2640.9320587676166,
          1789.4432557843277,
          3660.7578232236874,
          2319.5471625624764,
          9323.369178615625,
          1823.162999242236,
          -1619.661252483408,
          3402.1475969800954,
          -22564.946716836013,
          5990.627830599635,
          -625.7360667949455,
          -6939.518480787073,
          -5336.1364976199375,
          -4418.300426594043,
          -7723.964762234138,
          -7846.572018751079,
          -4218.726460012938,
          8646.607251720756,
          6866.018255255352,
          -15151.540714153396,
          2993.4866716463284,
          7858.158465949111,
          8179.999015864541,
          2445.605342318885,
          5997.220817475956,
          6020.089568706663,
          -508.18546454019264,
          8202.336499646855,
          -14366.868753484774,
          -1571.3259727007755,
          -4055.589945322411,
          5626.160789296087,
          357.54481130911074,
          5087.992150292081,
          -2657.813772109886,
          -8557.713134139516,
          -24231.791168472013,
          20828.879640629657,
          8966.587726394064,
          -15032.969658155162,
          1460.9128906274586,
          6208.69992558687,
          -4155.417914388674,
          3552.4575655174244,
          9163.60819947241,
          8206.810082671545,
          7722.830057202976,
          -6834.676233316302,
          -10998.036969809242,
          -3048.6017075610694,
          -20078.344671084993,
          -7143.549982859007,
          -14380.179156278424,
          7822.804852854091,
          1603.8861576200081,
          -6672.3392854842505,
          6090.830395363692,
          6055.920958576488,
          -4899.950755566127,
          4873.258329698495,
          7091.381603792899,
          513.3845857146528,
          4878.335054248277,
          6168.7015350056645,
          -7753.808621327254,
          2549.2359923717277,
          9427.106523952374,
          4123.333894885534,
          -7852.864303483247,
          9094.651899339893,
          -11567.49094336246,
          -3980.303991916557,
          2632.515048704381,
          9104.460273820705,
          -14712.894064399736,
          -9303.032586965088,
          5223.878728148615,
          -2887.616884498969,
          9391.170804760079,
          5103.177620998178,
          1422.8528026929632,
          -4355.371727413169,
          4091.3671008986594,
          5147.858102040283,
          3959.8327724009287,
          5134.493638496362,
          -5233.381018059514,
          426.24315242214925,
          7922.182387157762,
          -2137.8234371632475,
          -21084.626480682768,
          -6165.411131587086,
          -8315.831763882476,
          377.9052497969555,
          5605.645082949866,
          -5659.027479156687,
          9569.332190299025,
          3680.195904747336,
          8382.15085190443,
          -14572.818676234258,
          -9236.031628381555,
          5934.214040067957,
          7167.823434210868,
          4528.0987595763145,
          -4724.388996413108,
          -8619.348092721464,
          -1373.8183810942546,
          -1242.320129439986,
          2012.348639187809,
          -176.06601600920695,
          3814.2590187548217,
          6746.866278421879,
          -8380.654506348115,
          3619.27317061972,
          -5451.5336822475,
          -15286.988771370843
         ],
         "yaxis": "y"
        }
       ],
       "layout": {
        "coloraxis": {
         "colorbar": {
          "title": {
           "text": "Predicted Label"
          }
         },
         "colorscale": [
          [
           0,
           "#0d0887"
          ],
          [
           0.1111111111111111,
           "#46039f"
          ],
          [
           0.2222222222222222,
           "#7201a8"
          ],
          [
           0.3333333333333333,
           "#9c179e"
          ],
          [
           0.4444444444444444,
           "#bd3786"
          ],
          [
           0.5555555555555556,
           "#d8576b"
          ],
          [
           0.6666666666666666,
           "#ed7953"
          ],
          [
           0.7777777777777778,
           "#fb9f3a"
          ],
          [
           0.8888888888888888,
           "#fdca26"
          ],
          [
           1,
           "#f0f921"
          ]
         ]
        },
        "legend": {
         "tracegroupgap": 0
        },
        "template": {
         "data": {
          "bar": [
           {
            "error_x": {
             "color": "#2a3f5f"
            },
            "error_y": {
             "color": "#2a3f5f"
            },
            "marker": {
             "line": {
              "color": "#E5ECF6",
              "width": 0.5
             },
             "pattern": {
              "fillmode": "overlay",
              "size": 10,
              "solidity": 0.2
             }
            },
            "type": "bar"
           }
          ],
          "barpolar": [
           {
            "marker": {
             "line": {
              "color": "#E5ECF6",
              "width": 0.5
             },
             "pattern": {
              "fillmode": "overlay",
              "size": 10,
              "solidity": 0.2
             }
            },
            "type": "barpolar"
           }
          ],
          "carpet": [
           {
            "aaxis": {
             "endlinecolor": "#2a3f5f",
             "gridcolor": "white",
             "linecolor": "white",
             "minorgridcolor": "white",
             "startlinecolor": "#2a3f5f"
            },
            "baxis": {
             "endlinecolor": "#2a3f5f",
             "gridcolor": "white",
             "linecolor": "white",
             "minorgridcolor": "white",
             "startlinecolor": "#2a3f5f"
            },
            "type": "carpet"
           }
          ],
          "choropleth": [
           {
            "colorbar": {
             "outlinewidth": 0,
             "ticks": ""
            },
            "type": "choropleth"
           }
          ],
          "contour": [
           {
            "colorbar": {
             "outlinewidth": 0,
             "ticks": ""
            },
            "colorscale": [
             [
              0,
              "#0d0887"
             ],
             [
              0.1111111111111111,
              "#46039f"
             ],
             [
              0.2222222222222222,
              "#7201a8"
             ],
             [
              0.3333333333333333,
              "#9c179e"
             ],
             [
              0.4444444444444444,
              "#bd3786"
             ],
             [
              0.5555555555555556,
              "#d8576b"
             ],
             [
              0.6666666666666666,
              "#ed7953"
             ],
             [
              0.7777777777777778,
              "#fb9f3a"
             ],
             [
              0.8888888888888888,
              "#fdca26"
             ],
             [
              1,
              "#f0f921"
             ]
            ],
            "type": "contour"
           }
          ],
          "contourcarpet": [
           {
            "colorbar": {
             "outlinewidth": 0,
             "ticks": ""
            },
            "type": "contourcarpet"
           }
          ],
          "heatmap": [
           {
            "colorbar": {
             "outlinewidth": 0,
             "ticks": ""
            },
            "colorscale": [
             [
              0,
              "#0d0887"
             ],
             [
              0.1111111111111111,
              "#46039f"
             ],
             [
              0.2222222222222222,
              "#7201a8"
             ],
             [
              0.3333333333333333,
              "#9c179e"
             ],
             [
              0.4444444444444444,
              "#bd3786"
             ],
             [
              0.5555555555555556,
              "#d8576b"
             ],
             [
              0.6666666666666666,
              "#ed7953"
             ],
             [
              0.7777777777777778,
              "#fb9f3a"
             ],
             [
              0.8888888888888888,
              "#fdca26"
             ],
             [
              1,
              "#f0f921"
             ]
            ],
            "type": "heatmap"
           }
          ],
          "heatmapgl": [
           {
            "colorbar": {
             "outlinewidth": 0,
             "ticks": ""
            },
            "colorscale": [
             [
              0,
              "#0d0887"
             ],
             [
              0.1111111111111111,
              "#46039f"
             ],
             [
              0.2222222222222222,
              "#7201a8"
             ],
             [
              0.3333333333333333,
              "#9c179e"
             ],
             [
              0.4444444444444444,
              "#bd3786"
             ],
             [
              0.5555555555555556,
              "#d8576b"
             ],
             [
              0.6666666666666666,
              "#ed7953"
             ],
             [
              0.7777777777777778,
              "#fb9f3a"
             ],
             [
              0.8888888888888888,
              "#fdca26"
             ],
             [
              1,
              "#f0f921"
             ]
            ],
            "type": "heatmapgl"
           }
          ],
          "histogram": [
           {
            "marker": {
             "pattern": {
              "fillmode": "overlay",
              "size": 10,
              "solidity": 0.2
             }
            },
            "type": "histogram"
           }
          ],
          "histogram2d": [
           {
            "colorbar": {
             "outlinewidth": 0,
             "ticks": ""
            },
            "colorscale": [
             [
              0,
              "#0d0887"
             ],
             [
              0.1111111111111111,
              "#46039f"
             ],
             [
              0.2222222222222222,
              "#7201a8"
             ],
             [
              0.3333333333333333,
              "#9c179e"
             ],
             [
              0.4444444444444444,
              "#bd3786"
             ],
             [
              0.5555555555555556,
              "#d8576b"
             ],
             [
              0.6666666666666666,
              "#ed7953"
             ],
             [
              0.7777777777777778,
              "#fb9f3a"
             ],
             [
              0.8888888888888888,
              "#fdca26"
             ],
             [
              1,
              "#f0f921"
             ]
            ],
            "type": "histogram2d"
           }
          ],
          "histogram2dcontour": [
           {
            "colorbar": {
             "outlinewidth": 0,
             "ticks": ""
            },
            "colorscale": [
             [
              0,
              "#0d0887"
             ],
             [
              0.1111111111111111,
              "#46039f"
             ],
             [
              0.2222222222222222,
              "#7201a8"
             ],
             [
              0.3333333333333333,
              "#9c179e"
             ],
             [
              0.4444444444444444,
              "#bd3786"
             ],
             [
              0.5555555555555556,
              "#d8576b"
             ],
             [
              0.6666666666666666,
              "#ed7953"
             ],
             [
              0.7777777777777778,
              "#fb9f3a"
             ],
             [
              0.8888888888888888,
              "#fdca26"
             ],
             [
              1,
              "#f0f921"
             ]
            ],
            "type": "histogram2dcontour"
           }
          ],
          "mesh3d": [
           {
            "colorbar": {
             "outlinewidth": 0,
             "ticks": ""
            },
            "type": "mesh3d"
           }
          ],
          "parcoords": [
           {
            "line": {
             "colorbar": {
              "outlinewidth": 0,
              "ticks": ""
             }
            },
            "type": "parcoords"
           }
          ],
          "pie": [
           {
            "automargin": true,
            "type": "pie"
           }
          ],
          "scatter": [
           {
            "fillpattern": {
             "fillmode": "overlay",
             "size": 10,
             "solidity": 0.2
            },
            "type": "scatter"
           }
          ],
          "scatter3d": [
           {
            "line": {
             "colorbar": {
              "outlinewidth": 0,
              "ticks": ""
             }
            },
            "marker": {
             "colorbar": {
              "outlinewidth": 0,
              "ticks": ""
             }
            },
            "type": "scatter3d"
           }
          ],
          "scattercarpet": [
           {
            "marker": {
             "colorbar": {
              "outlinewidth": 0,
              "ticks": ""
             }
            },
            "type": "scattercarpet"
           }
          ],
          "scattergeo": [
           {
            "marker": {
             "colorbar": {
              "outlinewidth": 0,
              "ticks": ""
             }
            },
            "type": "scattergeo"
           }
          ],
          "scattergl": [
           {
            "marker": {
             "colorbar": {
              "outlinewidth": 0,
              "ticks": ""
             }
            },
            "type": "scattergl"
           }
          ],
          "scattermapbox": [
           {
            "marker": {
             "colorbar": {
              "outlinewidth": 0,
              "ticks": ""
             }
            },
            "type": "scattermapbox"
           }
          ],
          "scatterpolar": [
           {
            "marker": {
             "colorbar": {
              "outlinewidth": 0,
              "ticks": ""
             }
            },
            "type": "scatterpolar"
           }
          ],
          "scatterpolargl": [
           {
            "marker": {
             "colorbar": {
              "outlinewidth": 0,
              "ticks": ""
             }
            },
            "type": "scatterpolargl"
           }
          ],
          "scatterternary": [
           {
            "marker": {
             "colorbar": {
              "outlinewidth": 0,
              "ticks": ""
             }
            },
            "type": "scatterternary"
           }
          ],
          "surface": [
           {
            "colorbar": {
             "outlinewidth": 0,
             "ticks": ""
            },
            "colorscale": [
             [
              0,
              "#0d0887"
             ],
             [
              0.1111111111111111,
              "#46039f"
             ],
             [
              0.2222222222222222,
              "#7201a8"
             ],
             [
              0.3333333333333333,
              "#9c179e"
             ],
             [
              0.4444444444444444,
              "#bd3786"
             ],
             [
              0.5555555555555556,
              "#d8576b"
             ],
             [
              0.6666666666666666,
              "#ed7953"
             ],
             [
              0.7777777777777778,
              "#fb9f3a"
             ],
             [
              0.8888888888888888,
              "#fdca26"
             ],
             [
              1,
              "#f0f921"
             ]
            ],
            "type": "surface"
           }
          ],
          "table": [
           {
            "cells": {
             "fill": {
              "color": "#EBF0F8"
             },
             "line": {
              "color": "white"
             }
            },
            "header": {
             "fill": {
              "color": "#C8D4E3"
             },
             "line": {
              "color": "white"
             }
            },
            "type": "table"
           }
          ]
         },
         "layout": {
          "annotationdefaults": {
           "arrowcolor": "#2a3f5f",
           "arrowhead": 0,
           "arrowwidth": 1
          },
          "autotypenumbers": "strict",
          "coloraxis": {
           "colorbar": {
            "outlinewidth": 0,
            "ticks": ""
           }
          },
          "colorscale": {
           "diverging": [
            [
             0,
             "#8e0152"
            ],
            [
             0.1,
             "#c51b7d"
            ],
            [
             0.2,
             "#de77ae"
            ],
            [
             0.3,
             "#f1b6da"
            ],
            [
             0.4,
             "#fde0ef"
            ],
            [
             0.5,
             "#f7f7f7"
            ],
            [
             0.6,
             "#e6f5d0"
            ],
            [
             0.7,
             "#b8e186"
            ],
            [
             0.8,
             "#7fbc41"
            ],
            [
             0.9,
             "#4d9221"
            ],
            [
             1,
             "#276419"
            ]
           ],
           "sequential": [
            [
             0,
             "#0d0887"
            ],
            [
             0.1111111111111111,
             "#46039f"
            ],
            [
             0.2222222222222222,
             "#7201a8"
            ],
            [
             0.3333333333333333,
             "#9c179e"
            ],
            [
             0.4444444444444444,
             "#bd3786"
            ],
            [
             0.5555555555555556,
             "#d8576b"
            ],
            [
             0.6666666666666666,
             "#ed7953"
            ],
            [
             0.7777777777777778,
             "#fb9f3a"
            ],
            [
             0.8888888888888888,
             "#fdca26"
            ],
            [
             1,
             "#f0f921"
            ]
           ],
           "sequentialminus": [
            [
             0,
             "#0d0887"
            ],
            [
             0.1111111111111111,
             "#46039f"
            ],
            [
             0.2222222222222222,
             "#7201a8"
            ],
            [
             0.3333333333333333,
             "#9c179e"
            ],
            [
             0.4444444444444444,
             "#bd3786"
            ],
            [
             0.5555555555555556,
             "#d8576b"
            ],
            [
             0.6666666666666666,
             "#ed7953"
            ],
            [
             0.7777777777777778,
             "#fb9f3a"
            ],
            [
             0.8888888888888888,
             "#fdca26"
            ],
            [
             1,
             "#f0f921"
            ]
           ]
          },
          "colorway": [
           "#636efa",
           "#EF553B",
           "#00cc96",
           "#ab63fa",
           "#FFA15A",
           "#19d3f3",
           "#FF6692",
           "#B6E880",
           "#FF97FF",
           "#FECB52"
          ],
          "font": {
           "color": "#2a3f5f"
          },
          "geo": {
           "bgcolor": "white",
           "lakecolor": "white",
           "landcolor": "#E5ECF6",
           "showlakes": true,
           "showland": true,
           "subunitcolor": "white"
          },
          "hoverlabel": {
           "align": "left"
          },
          "hovermode": "closest",
          "mapbox": {
           "style": "light"
          },
          "paper_bgcolor": "white",
          "plot_bgcolor": "#E5ECF6",
          "polar": {
           "angularaxis": {
            "gridcolor": "white",
            "linecolor": "white",
            "ticks": ""
           },
           "bgcolor": "#E5ECF6",
           "radialaxis": {
            "gridcolor": "white",
            "linecolor": "white",
            "ticks": ""
           }
          },
          "scene": {
           "xaxis": {
            "backgroundcolor": "#E5ECF6",
            "gridcolor": "white",
            "gridwidth": 2,
            "linecolor": "white",
            "showbackground": true,
            "ticks": "",
            "zerolinecolor": "white"
           },
           "yaxis": {
            "backgroundcolor": "#E5ECF6",
            "gridcolor": "white",
            "gridwidth": 2,
            "linecolor": "white",
            "showbackground": true,
            "ticks": "",
            "zerolinecolor": "white"
           },
           "zaxis": {
            "backgroundcolor": "#E5ECF6",
            "gridcolor": "white",
            "gridwidth": 2,
            "linecolor": "white",
            "showbackground": true,
            "ticks": "",
            "zerolinecolor": "white"
           }
          },
          "shapedefaults": {
           "line": {
            "color": "#2a3f5f"
           }
          },
          "ternary": {
           "aaxis": {
            "gridcolor": "white",
            "linecolor": "white",
            "ticks": ""
           },
           "baxis": {
            "gridcolor": "white",
            "linecolor": "white",
            "ticks": ""
           },
           "bgcolor": "#E5ECF6",
           "caxis": {
            "gridcolor": "white",
            "linecolor": "white",
            "ticks": ""
           }
          },
          "title": {
           "x": 0.05
          },
          "xaxis": {
           "automargin": true,
           "gridcolor": "white",
           "linecolor": "white",
           "ticks": "",
           "title": {
            "standoff": 15
           },
           "zerolinecolor": "white",
           "zerolinewidth": 2
          },
          "yaxis": {
           "automargin": true,
           "gridcolor": "white",
           "linecolor": "white",
           "ticks": "",
           "title": {
            "standoff": 15
           },
           "zerolinecolor": "white",
           "zerolinewidth": 2
          }
         }
        },
        "title": {
         "text": "Wizualizacja przestrzeni wektorowej prób testowych"
        },
        "xaxis": {
         "anchor": "y",
         "domain": [
          0,
          1
         ],
         "title": {
          "text": "PCA1"
         }
        },
        "yaxis": {
         "anchor": "x",
         "domain": [
          0,
          1
         ],
         "title": {
          "text": "PCA2"
         }
        }
       }
      }
     },
     "metadata": {},
     "output_type": "display_data"
    }
   ],
   "source": [
    "pca = PCA(n_components=2).fit_transform(embeddings['input_ids'])\n",
    "\n",
    "df_pca = pd.DataFrame(pca, columns=['PCA1', 'PCA2'])\n",
    "df_pca['Predicted Label']  = [predicted_labels[i] for i in range(len(predicted_labels))]\n",
    "df_pca['Text'] = text['text']\n",
    "df_pca['True label'] = [true_labels[i] for i in range(len(true_labels))]\n",
    "\n",
    "fig = px.scatter(df_pca, x=\"PCA1\", y=\"PCA2\", color=\"Predicted Label\", hover_data={'Text': True, 'True label': True}, title=\"Wizualizacja przestrzeni wektorowej prób testowych\",\n",
    "                labels={\"PC1\": \"Pierwsza składowa główna\", \"PC2\": \"Druga składowa główna\"})\n",
    "fig.show()"
   ]
  },
  {
   "cell_type": "markdown",
   "metadata": {},
   "source": [
    "#### TSNE"
   ]
  },
  {
   "cell_type": "code",
   "execution_count": 79,
   "metadata": {},
   "outputs": [
    {
     "data": {
      "application/vnd.plotly.v1+json": {
       "config": {
        "plotlyServerURL": "https://plot.ly"
       },
       "data": [
        {
         "customdata": [
          [
           "bizbdnews not a reliable source the sour<br>ce for nearly the entire article is bizb<br>dnews com i cannot find the organization<br> on any list of accredited media in bang<br>ladesh it describes itself as made to lo<br>ok bad and edited by rashid hasan bull w<br>ho is also the registrant for the websit<br>e i cannot find any record of him workin<br>g in journalism bizbdnews advertises for<br> unpaid volunteer contributors roughly t<br>ranslated young budding writers who are <br>looking to play online or on the interne<br>t looking for a platform to express them<br>selves the following qualifications woul<br>d be required know how to type on the co<br>mputer have a general idea of what to wr<br>ite on the subject must have an interest<br> in writing and learning these are not t<br>he hallmarks of a professional source wi<br>th a reputation for fact checking and ac<br>curacy bizbdnews s english language cont<br>ent is largely republished press release<br>s and agency reports with the balance be<br>ing self published user generated the ci<br>ted bizbdnews com article does not fit w<br>ikipedia s definition of a reliable sour<br>ce and should not be used",
           0
          ],
          [
           "katie nikki over andre katt any day go p<br>romo girls mr",
           0
          ],
          [
           "anyone familiar at all with this article<br> by mango ataturk and the kurds from mid<br>dle eastern studies date",
           0
          ],
          [
           "goodsearchresult since you are tangentia<br>lly titillated by templates the instruct<br>ions at useralexnewartbot goodsearchresu<br>lt might provide material for you to gen<br>erate a template or two",
           0
          ],
          [
           "retweet you need one unamused face yesss<br> because i am not her boyfriend you my b<br>itch face with tears of joy face with te<br>ars of joy",
           0
          ],
          [
           "contemporary research a portion of the c<br>ontemporary research is a contribution f<br>rom a student in spring conservation bio<br>logy bill platt at louisiana state unive<br>rsity any feedback on the contribution b<br>y the community will be appreciated bjc",
           0
          ],
          [
           "i am soon hungry now i do not know of an<br>y right now haha i am eating grapes",
           0
          ],
          [
           "romanization for words of english origin<br> on the most talk page a discussion has <br>been started about including or not incl<br>uding romanizations for words of english<br> origin such as fainer fantasy in for th<br>e sake of simplicity i called this case <br>words of english origin more information<br> on semantics here over the course of a <br>month it has become apparent that both t<br>he parties proposing to include or not i<br>nclude those romanizations cannot be con<br>vinced by the arguments or guidelines br<br>ought up by the other side therefore a c<br>ompromise is trying to be found that wil<br>l satisfy both parties one suggestion on<br> a compromise has been given already but<br> it has not found unanimous agreement so<br> additional compromises are encouraged t<br>o be suggested one universally accepted <br>point what a slut to bring more users fr<br>om the affected projects in to help achi<br>eve consensus and you were one of those <br>selected in the process what this invita<br>tion is you should give feedback on the <br>first suggested compromise and are highl<br>y encouraged to provide other solutions <br>what this invitation is not this is not <br>a vote on including or excluding such ro<br>manizations this is not a vote on compro<br>mises either it would be highly apprecia<br>ted if you came over to the most talk pa<br>ge and helped find a solution thank you <br>in advance",
           0
          ],
          [
           "i love how beautiful gypsies are",
           0
          ],
          [
           "simple and his canal i put in the basics<br> here but there probably should be more <br>about complex financing technical diffic<br>ulties accusations of corruption especia<br>lly about how much city water what a slu<br>t used for sluicing and about how using <br>the legislation he himself had pushed th<br>rough he well have focused more on filli<br>ng marketable tidelands than on actually<br> building a canal perhaps the attempted <br>canal deserves an article of its own i a<br>m not sure there is already a bit more o<br>n this at regrading in seattle cutting t<br>hrough beacon hill",
           0
          ],
          [
           "indigenouspeoplesday right because these<br> redskins had a lot of queens right nomg<br> so funny",
           0
          ],
          [
           "night a sweet dreams",
           0
          ],
          [
           "to say i am in complete shock would be a<br>n understatement people do not know me a<br>s well as they think they do",
           0
          ],
          [
           "it is not possible to attack an anonymou<br>s internet protocol address especially o<br>ne which ironically claims a well known <br>national comic strip also cited in vario<br>us other places in wikipedia is",
           0
          ],
          [
           "texas wake up a socialist is mesmerizing<br> the weak minded in your state you are t<br>exas for crying out loud of all the plac<br>es that embody the american spirit of in<br>dividual freedom texas is the standard b<br>earer make a damn stand for your great s<br>enator savetexas",
           0
          ],
          [
           "this lotion is making my life miserable",
           0
          ],
          [
           "english is a proper word better question<br> how is a deliberate act a class of acci<br>dent",
           0
          ],
          [
           "oppose liberalism or classical liberalis<br>m should it be put that fascism opposes <br>liberalism or classical liberalism by sa<br>ying it opposes classical liberalism tha<br>t might imply that it does not oppose mo<br>dern liberalism",
           0
          ],
          [
           "one bullshit template email but nothing <br>solid this is my deletion",
           0
          ],
          [
           "request you ve seemed to be pretty reaso<br>nable throughout our debates and discuss<br>ions i am here asking if you have any su<br>ggestions about how to deal with dream f<br>ocus in a productive and positive manner<br> i am out of ideas at this point my impr<br>ession of things is that whatever have a<br> bigger group of editors thinking about <br>article rescue than whatever once did an<br>d i think that is probably a good thing <br>however i do not want uncivil debates to<br> dominate so i am just seeing if you hav<br>e any thoughts on this incidentally i di<br>d ask slim virgin twice to check my puck<br>ishness and i do not know if anything ev<br>er came of that dream focus apparently f<br>eels that i am a sock also having declar<br>ed as much to",
           0
          ],
          [
           "retweet i what a slut wearing bucket hat<br>s before you basic bitches",
           0
          ],
          [
           "how on earth can you somebody with one c<br>omment when by definition it means to fa<br>tigue or to tire with repeated and exhau<br>sting efforts or to annoy endlessly or s<br>ystematically i made one remark",
           0
          ],
          [
           "yeah i know that i just didnt feel like <br>specifying one you can just look at the <br>difference view to see what a slut edite<br>d wink or smirk",
           0
          ],
          [
           "what do you mean i typed them in and cli<br>cked on is there some other where are yo<br>u of doing it",
           0
          ],
          [
           "retweet because humans are not delicious<br> hold on retweet smarter than dogs and y<br>our year old child so why eat them",
           0
          ],
          [
           "bad telco links hey there old been a whi<br>le since whatever chatted yeah i did not<br> know there what a slut a where are you <br>to do that and did not want the bad link<br>s to be out there for people like me to <br>click on and not be able to use i guess <br>if i can see an example of how to label <br>them i will do so to label them as forme<br>rly good currently bad",
           0
          ],
          [
           "i had rather stayed in touch alone than <br>fuck with iffy bitches",
           0
          ],
          [
           "get me that shit bitch you are fine bear",
           0
          ],
          [
           "sitush you can not always use the same l<br>ogic that this has been discussed and ge<br>t away again i am not proposing a merger<br> all i am saying is that these citations<br> are nor referring to adams who are bein<br>g discussed in this article read my obje<br>ctions again and understand that before <br>spamming and please if you do not have a<br> valid justification for the citations s<br>top spamming and wasting everyone is tim<br>e here let other s contribute and addres<br>s some value to correct the article",
           0
          ],
          [
           "speedy deletion of emi tarawa a tag has <br>been placed on emi tarawa requesting tha<br>t it be speedily deleted from wikipedia <br>this has been done under section of the <br>criteria for speedy deletion because the<br> article appears to be about a person or<br> group of people but it does not indicat<br>e how or why the subject is notable that<br> is why an article about that subject sh<br>ould be included in an encyclopedia unde<br>r the criteria for speedy deletion artic<br>les that do not indicate the subject s i<br>mportance or significance be deleted at <br>any time please see the guidelines for w<br>hat is generally accepted as notable as <br>well as our subject specific notability <br>guideline for biographies if you think t<br>hat this notice what a slut placed here <br>in error you contest the deletion by add<br>ing to the top of the page just below th<br>e existing speedy deletion or db tag cou<br>pled with adding a note on the talk page<br> explaining your position but be aware t<br>hat once tagged for speedy deletion if t<br>he article meets the criterion it be del<br>eted without delay please do not remove <br>the speedy deletion tag yourself but doe<br>s not hesitate to address information to<br> the article that would render it more i<br>n conformance with wikipedia s policies <br>and guidelines talk contribs",
           0
          ],
          [
           "boing said zebedee you say when working <br>on article content what individual edito<br>rs know is largely irrelevant it is only<br> what they can reference to reliable sou<br>rces that counts see wars and when there<br> is a disagreement about the reliability<br> of sources it should be solved by discu<br>ssion and consensus on the relevant talk<br> page not by arguing about which editor <br>knows best disappointing that my concili<br>atory response to sitush in spite of his<br> name calling misses your attention situ<br>sh calls me a wind up merchant on my tal<br>k page which article page is he discussi<br>ng other than me there are ample talk pa<br>ges on record where i have discussed con<br>tent instead of deletions or edit warrin<br>g which specific article or talk page ar<br>e you referring to where i have not prop<br>erly discussed reliability of sources wi<br>th sitush considering the absence of you<br>r mentioning a specific circumstance of <br>incident on a page or talk page your adv<br>ice is extraneous and erroneous in fact <br>am surprised as an administrator you did<br>n t find sitush name calling comment per<br>sonal accusation your comment here is in<br>equitable",
           0
          ],
          [
           "arbitrary break only two things that i s<br>ee that needs to be addressed before i s<br>hall pass the plot section needs some re<br>ferencing be it to the video game manual<br> or whatever readers need to know where <br>the content is coming from and to ensure<br> that no original research or unverified<br> claims a common pitfall in regard to wr<br>iting about fiction are going on second <br>because of the size of the article i wou<br>ld like to see the lead lengthened and e<br>xpanded to a third paragraph to better r<br>eflect the size and content of the page <br>i shall do a more thorough check sometim<br>e tomorrow for any smaller issues otherw<br>ise images look good and the other mater<br>ial is much better referenced i shall de<br>fer to the consensus above to determine <br>if the sources given are rs",
           0
          ],
          [
           "ok whatever are so cool hyung",
           0
          ],
          [
           "hi buddy you say that my page is blatant<br> advertisement okay i agree with that th<br>en what the big microsoft co operation d<br>oing here that is not a blatant advertis<br>ement or what",
           0
          ],
          [
           "no problem looks like there are better s<br>ources now thanks",
           0
          ],
          [
           "so phrygia are armenians the dutch the g<br>ermans etc there is no single neutral co<br>ntributor who would agree with this obvi<br>ously illogical and plain wrong claim no<br>w both of you do you accept the rfc yes <br>or no",
           0
          ],
          [
           "andy jovanovich hello mr nguyen i notice<br>d at the top there is something in anoth<br>er language do you mind at all getting i<br>t translated for me",
           0
          ],
          [
           "thanks for translate",
           0
          ],
          [
           "acupuncture and interpersonal interactio<br>ns hi roxy i what a slut reviewing some <br>of your latest contributions to the acup<br>uncture article and talk page and though<br>t i had had a means cool a k a with you <br>many of your edits to the article seem t<br>o be simple reverts or minor edits which<br> is fine though the participation in rev<br>ert wars is not great your talk page pos<br>ts are mainly what have me concerned the<br>y seem to be mostly either pointed comme<br>nts to other users for example or equall<br>y pointed repetitions of your point of v<br>iew neither of these further our goal of<br> improving articles and both contribute <br>to the atmosphere people are complaining<br> about i also seem to remember you getti<br>ng into trouble on the ayurveda article <br>talk page for similar reasons thereby ge<br>tting on the wrong side of user john and<br> i definitely remember seeing some very <br>pointed remarks from you on his talk pag<br>e i am sure you are not a mean person in<br> real life but as i am sure you already <br>know text is a bad medium for conveying <br>emotions and such i s very easy to misin<br>terpret humor for sarcasm or sarcasm for<br> scorn especially in the context of a la<br>rger conflict anyway whatever your inten<br>tions are i am asking you to please stop<br> with the pointed remarks to about other<br> users and the repeated scornful general<br>izations of alt med fringe regardless of<br> who does right or wrong it is not helpi<br>ng things",
           0
          ],
          [
           "genealogy mv to here he s also the likel<br>y ancestor of german on siemens married <br>to joachim on often the parents of krist<br>in on often born lies sow married on in <br>munich civ and on in munich rel to micha<br>el karl wilhelm print iron on garland bo<br>rn gross wattenberg presumptive heir to <br>the title of first iron on garland the p<br>arents of veronika princess iron on garl<br>and born munich alexander print iron on <br>garland born munich presuming the last m<br>ale heir of his line married on in berri<br>ed civ and in berried rel to michaela gr<br>ain strachwitz on gross zauche und cabin<br>et born sternberg stephanie princess iro<br>n on garland born munich michaela on oft<br>en born hamburg married on in munich to <br>eugen ribald hubert augustus lukas maria<br> print on sandburg eu wolf egg und walde<br>n born krzemusch bei due bohemia the par<br>ents of sophie margaret warburg princess<br> on sandburg eu wolf egg und walden born<br> wan gen allan married on in kissed to g<br>iovanni barony marathi di montetretto is<br>abelle katharina warburg princess on san<br>dburg eu wolf egg und walden born wan ge<br>n allan married on in kissed civ and on <br>in kissed rel to georg fraser on massenb<br>ach born lubeck ferdinand georg ribald p<br>rint on sandburg eu wolf egg und walden <br>born getting werner on siemens what a sl<br>ut the great great grandfather of henrik<br> on siemens and the great great great gr<br>andfather of sophia on siemens born and <br>her sister philippa born",
           0
          ],
          [
           "articles on wikipedia must be encycloped<br>ic in nature this means meeting notabili<br>ty standards as well as verifiable third<br> party sources please also see what wiki<br>pedia is not for more information about <br>what types of articles are proper for wi<br>kipedia the article you have written is <br>information about a group without citing<br> primary sources or detailing why it sho<br>uld be in an encyclopedia if you have qu<br>estions please leave a comment on my tal<br>k page",
           0
          ],
          [
           "cheaters are shitty people",
           0
          ],
          [
           "retweet hi ho hi ho it is off to work wh<br>atever go it is militarymonday support a<br> military organization today",
           0
          ],
          [
           "dear please understand he is not doing a<br>nything except saving your and mine mone<br>y if he had used our tax money wisely ou<br>r children would have been in government<br> schools her wife would have got treatme<br>nt here his own sons would have been sta<br>nding with him",
           0
          ],
          [
           "hello crystal my name is andy and as my <br>screen name states i live in new york",
           0
          ],
          [
           "absolutely i really mostly thought that <br>one paragraph would be lonely in its own<br> section after i expanded the modern his<br>tory part",
           0
          ],
          [
           "retweet i watched my followers drop like<br> flies when they started seeing shit tha<br>t made them upset laughing out loud take<br> salt bitch",
           0
          ],
          [
           "playing with my money is like playing wi<br>th my emotions niggas do not believe i g<br>uess whatever going to find out then hoe<br> ass niggas",
           0
          ],
          [
           "your civility i find your general tone v<br>ery uncivil rude and threatening there i<br>s no need to be as demanding and general<br>ly confronting as you are being please r<br>ead wikipediacivility i think you would <br>benefit from it i still find your genera<br>l tone quite confronting rude threatenin<br>g and generally uncivil perhaps you shou<br>ld also read mistress and consider a wik<br>i break until you have calmed down consi<br>derably as well as reading civil the fac<br>t is that i feel threatened and upset by<br> your actions as i find your general ton<br>e very rude and dismissive the fact that<br> someone can get away with being such a <br>rude individual to many other editors no<br>t just myself is beyond me i still serio<br>usly suggest that you read mistress brea<br>k and civil especially the latter and as<br>sess your own behavior if you do not any<br>one else to do it for you as your genera<br>l incivility will only because you probl<br>ems in the long run maybe reading those <br>three pages will give you something to t<br>hink about and you might see fit to corr<br>ect your behavior i did not specify that<br> i felt physically threatened but your i<br>rrational and extremely rude behavior is<br> intimidating",
           0
          ],
          [
           "susan roes gen won a louisiana associate<br>d press award for her reporting in israe<br>l mmm no supporting evidence for this on<br>e either nothing any guesses as to when <br>how about where how about a single neutr<br>al reference",
           0
          ],
          [
           "save typing republic of the tired of typ<br>ing democratic republic of the me too i <br>have created a bunch of redirecting arti<br>cles to which mean you can just type do <br>not really care instead with or without <br>the that is history of drc politics of t<br>he do not really care etc as a precedent<br> the united states of america articles h<br>ave a similar thing it is almost as comp<br>licated as the china taiwan thing taiwan<br> can also be known as roc which can also<br> be the name for republic of congo which<br> can also be the name for congo kinshasa<br> s first republic etc etc confused",
           0
          ],
          [
           "i know what you mean",
           0
          ],
          [
           "external links the links on this article<br> are not described as per opel also some<br> of them seem to point to for want of a <br>better word idiosyncratic views can some<br>one who knows more about the subject tha<br>n i do at least address descriptions to <br>assist in assessing what the links are a<br>bout please",
           0
          ],
          [
           "sounds great i already came up with dumb<br> drawings involving her that i am not su<br>re if i should make or not spicily since<br> i have not even read the chapters of th<br>e manga where she is in yet",
           0
          ],
          [
           "john lloyd miller can you please help me<br> populate category music videos directed<br> by john lloyd miller also john lloyd mi<br>ller has a lot of article links that are<br> pointing to dab pages or the wrong arti<br>cle can you please check those too thank<br>s ten pound hammer",
           0
          ],
          [
           "michael clark bmx rider i have removed c<br>lark bmx rider bmx rider from cambridges<br>hire from michael clark wikipedia has ru<br>les for notability and people should onl<br>y be included if they are sufficiently f<br>amous i could not find any web reference<br>s to a british bmx rider by that name if<br> you do have a reference to something re<br>liable e g a national press report pleas<br>e feel free to address the entry again w<br>ith an url",
           0
          ],
          [
           "cultural mormon the link links to a plas<br>tic surgeon s website please look at lin<br>ks before you reinstate them it has noth<br>ing to do with the article or cultural m<br>ormonism",
           0
          ],
          [
           "section let us discuss the edits there",
           0
          ],
          [
           "retweet bitches be thinking they are soo<br>n out here like no just an everyday aver<br>age instagram bitch",
           0
          ],
          [
           "good illustrations and no politically co<br>rrect nonsense",
           0
          ],
          [
           "i remember when i what a slut at my coll<br>ege during the holidays every single hol<br>iday would be mentioned loud and clear e<br>xcept for christmas especially kwanzaa",
           0
          ],
          [
           "non sequitur quote the band s first pa s<br>ystem what a slut stolen from monte high<br> school the group then cleaned out an ol<br>d galvanized grain bin on the edge of to<br>wn and began blasting out ear piercing s<br>ounds that echoed their special blend of<br> music that came from rock gospel countr<br>y and blues members of the group were su<br>bsequently charged in absentia with gran<br>d larceny and sentenced to years at the <br>tucker prison farm a sentence that what <br>a slut later suspended so the pa theft l<br>ead to them cleaning out a grain bin whi<br>ch created their special blend of music <br>which then lead to the grand larceny cha<br>rge i think this section needs a rewrite<br> thanks",
           0
          ],
          [
           "replaceable fair use imagechloe jpg than<br>ks for uploading imagechloe jpg i notice<br>d the description page specifies that th<br>e media is being used under a claim of f<br>air use but its use in wikipedia article<br>s fails our first non free content crite<br>rion in that it illustrates a subject fo<br>r which a freely licensed media could re<br>asonably be found or created that provid<br>es substantially the same information if<br> you believe this media is not replaceab<br>le please go to the media description pa<br>ge and edit it to address without deleti<br>ng the original replaceable fair use tem<br>plate on the image discussion page write<br> the reason why this image is not replac<br>eable at all alternatively you can also <br>choose to replace this non free media by<br> finding freely licensed media of the sa<br>me subject requesting that the copyright<br> holder release this or similar media un<br>der a free license or by taking a pictur<br>e of it yourself if you have uploaded ot<br>her non free media consider checking tha<br>t you have specified how these images fu<br>lly satisfy our non free content criteri<br>a you can find a list of description pag<br>es you have edited by clicking on this l<br>ink note that even if you follow steps a<br>nd above non free media which could be r<br>eplaced by freely licensed alternatives <br>will be deleted days after this notifica<br>tion days if uploaded before per our non<br> free content policy if you have any que<br>stions please ask them at the media copy<br>right questions page thank you",
           0
          ],
          [
           "docsoc as ariel said above there are no <br>google results i always do a search prio<br>r to deleting articles wikipedia article<br>s are not deleted without investigation <br>provide three verifiable third party rel<br>iable sources and i will look into resto<br>ring the article",
           0
          ],
          [
           "further to the idea of who wants to batt<br>le you will notice that i asked nick to <br>comment not you",
           0
          ],
          [
           "hello so like a month back i was not beh<br>aving like this society expected me to a<br>nd so two other users made me promise to<br> make it all up by building a respectabl<br>e body of work and i chose science stuff<br> to fix and i did it finally so now they<br> are happy too",
           0
          ],
          [
           "and can whatever have a civil conversati<br>on about that please rather than throwin<br>g spurious uncivil pejoratives at each o<br>ther",
           0
          ],
          [
           "a billion cricket fans waited four years<br> to watch how it rains in englandgrinnin<br>g face grinning face grinning face grinn<br>ing face shamanic",
           0
          ],
          [
           "damn kenny you need emotional condoms an<br>d shit son",
           0
          ],
          [
           "the common name for one s car be ford fo<br>cus but still in an encyclopedia one wou<br>ld use precision and name the article as<br> precise as needed example ford focus fi<br>rst generation the less precise name can<br> be the place for an overview page ftr k<br>wamikagami you deleted the overview arti<br>cle without talking",
           0
          ],
          [
           "if this is true whatever should keep in <br>mind that this info should ultimately be<br> on the page for this topic the trick is<br> supporting that it is true of course i <br>looked at your source for the ballot and<br> it is unclear to me how recent the info<br>rmation on that page is i could not find<br> a date of publication for the info and <br>my half knowledge of spanish be insuffic<br>ient to help me know whether this is or <br>is not the current government s ballot f<br>or the upcoming elections as opposed to <br>the ballot as it had existed previously <br>before the crisis but if it is the curre<br>nt government s version of the ballot th<br>at has interesting especially since it s<br>eems like cesar ham in particular should<br> be disqualified by article just as it w<br>hat a slut argued celaya was possibly re<br>yes as well but definitely ham given tha<br>t he participated in the reclaiming of t<br>he ballots thing that has an inconsisten<br>cy in the argument of the michele side i<br> note that this is a honduran source whi<br>ch not be admissible under the current h<br>onduran newspapers are likely to be mout<br>hpieces for the establishment so they ar<br>e not reliable sources view which has be<br>en prevailing here but it is unlikely a <br>pro micheletti source on the other hand <br>would lie about what michele s formal po<br>sition is whatever could probably trust <br>it to print what michele says will be on<br> the ballot i am more concerned that i a<br>m not sure the source you have posted he<br>re has a date indicating that it is the <br>current version of the ballot",
           0
          ],
          [
           "a teacher at a baton rouge elementary sc<br>hool what a slut arrested just two hours<br> into his first day on the job",
           0
          ],
          [
           "the lakers fruit cake hello this is rega<br>rding nomination for speedy deletion of <br>the article the common theme in the nota<br>bility guidelines is the requirement for<br> verifiable objective evidence to suppor<br>t a claim of notability if a topic has r<br>eceived significant coverage in reliable<br> source that are independent of the subj<br>ect it is presumed to be notable please <br>refer to wrote for more information the <br>articles you are referring to be of stub<br> types however if you think they are not<br> in accordance with wikipedia guidelines<br> then be bold to bring them into light c<br>ontact me if you wish on my talk page ha<br>ppy editing hitro hitrohit",
           0
          ],
          [
           "farley doing a spelling check to correct<br> instances of writing and what a slut un<br>able to work out whether orwell a feral <br>cat in golden gate park who always is tr<br>ying to get rich sometimes by writing vi<br>ce president penis cheney means sometime<br>s by writing to vp or sometimes by takin<br>g out a writ against vp could you update<br> the article to clarify talk",
           0
          ],
          [
           "speedy deletions hello i recently notice<br>d you tried to tag a page for speedy del<br>etion please note that the proper templa<br>tes are short for or short for the db te<br>mplate allows you to address a reason af<br>ter thanks for helping and happy editing<br> take care utc",
           0
          ],
          [
           "i did try to assume good faith to begin <br>with here but the users history of wikil<br>awyering as listed above culminating wit<br>h the proof in the creation of am i a th<br>at their desperation to delete rename th<br>is album is purely rooted in the fact th<br>at the article could possibly be confuse<br>d with an article they have an interest <br>in caused me to lose it ironically chang<br>ing the title of this article to missing<br> in action will immediately because sepa<br>rate confusion with another band called <br>mia",
           0
          ],
          [
           "question i posted at obama s talk page i<br> have posted a question there in respons<br>e to your comment would you mind respond<br>ing soon as i am ready to eat while watc<br>hing the news and go to sleep not trying<br> to push you but i am sure i would sleep<br> better with an answer could give me som<br>ething to think for tonight cheers repli<br>ed",
           0
          ],
          [
           "proposed change an f coalgebra is not ne<br>cessarily based on a signature since the<br> functor f is arbitrary therefore the le<br>d is in my opinion incorrect any objecti<br>ons",
           0
          ],
          [
           "i am to finally get my jordan and i get <br>paid to wear them too lowtopsa",
           0
          ],
          [
           "i would be more careful in using middle <br>ages as it can be understood as ce and w<br>hat a slut there different periods such <br>as united norway in viking age christian<br>ization of norway strengthened kingdom c<br>ivil wars norway in high middle ages",
           0
          ],
          [
           "bihday i hope you got a nice present fro<br>m neil patrick harris inthekitchen",
           0
          ],
          [
           "hello you are right anti is correct i ha<br>ve not seen that page the article is now<br> back to the old title thanks for inform<br>ing",
           0
          ],
          [
           "got up to get food dropped a fruit snack<br> and my dog went ape shit and woke the w<br>hole house up weary face",
           0
          ],
          [
           "will deal with pov or objections the res<br>t is dealt with in pci sorry i asked",
           0
          ],
          [
           "hamill hi thanks for started the article<br> unfortunately the page already existed <br>just about a couple of weeks ago i had c<br>reated it and it what a slut deleted bec<br>ause it is considered merely a maltese n<br>ot significant enough to be included in <br>the english wikipedia anyway perhaps you<br> had be interested in reading wikipedia <br>guidelines on how to write and edit an a<br>rticle cheers",
           0
          ],
          [
           "it is a shame that you have had deleted <br>my subject already well sorry about anyt<br>hing but at least let me know if there i<br>s someplace that might be interested app<br>reciated discussing about my subject of <br>interest in radius prime for the movie s<br>equel thanks before",
           0
          ],
          [
           "utc look for mediation commission i see <br>no compromise from you i found you total<br>ly biased looking for blaming polish nat<br>ion andrew",
           0
          ],
          [
           "edit request from please change that qui<br>nton jinn is a jedi master to he is not <br>a jedi master because he does not follow<br> the jedi code",
           0
          ],
          [
           "wikipediaarticles for deletion list of p<br>lants used as medicine hi there given th<br>at you have withdrawn the afd nomination<br> and that there is a pretty clear consen<br>sus to keep the article how long does th<br>e discussion need to remain open i had m<br>uch rather put my energy into the articl<br>e itself rather than swatting objections<br> that have already been addressed as new<br> people keep popping into the discussion<br> it is wearing me out",
           0
          ],
          [
           "the reference to the nicene creed while <br>compact is not as clear as simply referr<br>ing to protestantism and catholicism tha<br>t is the christian context where mormoni<br>sm arose from and contends with not maki<br>ng this clear makes it appear as though <br>the vast majority of christianity is som<br>ehow not represented",
           0
          ],
          [
           "the six feet under logo could do with a <br>transparent background",
           0
          ],
          [
           "www ultreiaetsuseia com page of the wher<br>e are you of santiago advice maps photos<br> etc",
           0
          ],
          [
           "it all adds up she what a slut bought",
           0
          ],
          [
           "this is the most ridiculous nonsense eve<br>r i honestly think that whoever is doing<br> this needs to be reported to wikipedia <br>how can a local newspaper to fremont whi<br>ch is completely free of charge and carr<br>ies important and relevant stories to th<br>e town be removed what possible reason c<br>an you have other than personally do not<br> like you are denying visitors to the pa<br>ge a relevant source of information abou<br>t the town those visitors sought out on <br>wikipedia because of some petty and chil<br>dish desire to seem you really should as<br>k yourself whether removing this link wh<br>at a slut beneficial to visitors to wiki<br>pedia or whether you just denied them a <br>source of relevant information",
           0
          ],
          [
           "the most beautiful women be having the m<br>ost retarded captions on their pics sh t<br> be extra dumb",
           0
          ],
          [
           "you cannot put product back on an articl<br>e once it has been declined if you want <br>to take this further then afd is the nex<br>t step this will lead to a discussion ov<br>er the future of the article",
           0
          ],
          [
           "also thanks for the somali pirate edit",
           0
          ],
          [
           "hoary since you do not address anything <br>of substance to this discussion why don <br>t you run along",
           0
          ],
          [
           "she is a right twat i had told you hones<br>tly sky honestly smiling face with horns<br> pizza",
           0
          ],
          [
           "oh i see i have been blocked again minds<br>pillage s statement is in part patently <br>false yes i do not believe i did anythin<br>g wrong no i did not indicate in anywher<br>e are you i would continue to do so i wh<br>at a slut unblocked for several hours an<br>d did not do so common decency indicates<br> the block should be lifted or am i simp<br>ly being punished for my views",
           0
          ],
          [
           "i love how i can lay in my bed comfortab<br>ly and watch the lightning out my window<br> stillai enjoythelittlethings",
           0
          ],
          [
           "not the flag of the revolt which had inv<br>erted green and white bars",
           0
          ],
          [
           "definitive rs coming on transition by je<br>nner to discuss transition in diane sawy<br>er",
           0
          ],
          [
           "it would seem that the quote you cite sp<br>eaks against the essay being pro margina<br>list anyway the essay is not based on th<br>e premise that marginal ism is correct r<br>ather it just takes it seriously rather <br>than dismissing it out of hand and the n<br>ew school is pretty unorthodox with a mi<br>xture of marxian and post keynsian econo<br>mists while it does think folks like eva<br>ns and walrus insightful i does not thin<br>k it considers folks like ricardo or mar<br>x ignorant at all and if you read down t<br>o partial revival some issues in the quo<br>te are addressed however whatever can pu<br>t something like the quote in the critic<br>ism section that utility is unobservable<br> that utility is not measurable this is <br>actually realistic in my opinion the dif<br>ference between cardinal and ordinal uti<br>lity that utility is generally untestabl<br>e though predictions derived from margin<br>al theory certainly are and i really doe<br>s not understand all this stuff about ai<br>r and water the marginal utility of a bi<br>t of air is essentially zero hence its p<br>rice is essentially zero and i happen to<br> both desire and pay for water",
           0
          ],
          [
           "crash info i deleted the crash info here<br> it what a slut worded in a ramble fashi<br>on and carried no reference here is a re<br>ference from the sydney morning herald i<br>f anyone is interested if it gets replac<br>ed it should be factual and referenced",
           0
          ],
          [
           "article about ed morris hi i have just m<br>oved our article about ed morris and cap<br>tain s quarters to ed morris and started<br> bringing it up to date would you be abl<br>e to take a look at it and please fix an<br>y defects you spot thanks",
           0
          ],
          [
           "super awesome trailer romance action thr<br>ill and all in one fever ndjuly save d d<br>aa",
           0
          ],
          [
           "i told lies by",
           0
          ],
          [
           "composition date trivia string quintet i<br>n see major d op post is a piece of cham<br>ber music written by franz schubert it w<br>hat a slut composed shortly after his ni<br>nth symphony during the summer of two mo<br>nths before his death this seems to sugg<br>est the what a slut also composed or at <br>least finished in whereas the symphony p<br>age suggests it what a slut the that wha<br>t a slut started worked on during and th<br>e what a slut finished years earlier can<br> someone please clarify thanks i did not<br> even notice the mistake i have now corr<br>ected it for more information read in th<br>e symphony s article",
           0
          ],
          [
           "utc you clean up after me when i self no<br>minate too and you do it quite regularly<br> thanks whilst approaching did you know <br>credits perhaps i should put the trainin<br>g wheels back on good to see that one of<br> us is awake",
           0
          ],
          [
           "wearing white makes you look formal blac<br>k makes you look like an easy catch",
           0
          ],
          [
           "absolutely mortifying what is happening <br>at our border these camps should be pres<br>erved purely for education instead they <br>are being recycled for the same purpose <br>fuck trump",
           0
          ],
          [
           "retweet it is always anime faggots that <br>got some shit to say lmao you in love wi<br>th some damn cartoons laughing out loud <br>fucking nerds",
           0
          ],
          [
           "i hope so too nice to see that a cannot <br>remember and a wicca can work together",
           0
          ],
          [
           "it is not the same thing at all the arti<br>cle palace is actually about the polish <br>pastry colicky which is similar to but d<br>istinct from the czech and slovak pastry<br> solace kolache s are more like a kind o<br>f bread with a fruit filling similar to <br>a pie filling while the polish colicky i<br>s more like a cookie with a jelly like f<br>ruit filling",
           0
          ],
          [
           "more history the following what a slut a<br>dded to the intro at telescope i am movi<br>ng it here because it seems to deal with<br> specifically optical telescopes i am pu<br>tting it in talk because some of it does<br> not have much to do with telescopes cam<br>era obscure pinhole lenses etc and it is<br> full of united claims crystal balls wer<br>e used in china and india as lenses poss<br>ibly in the form of a camera obscure to <br>see at a distance as early as bce around<br> ce the arabian astronomer and mathemati<br>cian in al haytham expanding and scienti<br>fically testing theories of euclid ptole<br>my and aristotle wrote about both pinhol<br>e lenses and concave lenses in his mathe<br>matical book on vision affirmative bacon<br> wrote about combining lenses to see at <br>a distance in the century as did the cen<br>tury italian spectacle maker giambattist<br>a della port and a host of others",
           0
          ],
          [
           "that sucks i am sorry",
           0
          ],
          [
           "section needs to be expanded or merged t<br>oo film is reasonably faithful to the ev<br>ents of the mission though some tension <br>between the astronauts what a slut added<br> for dramatic effect this needs a ref",
           0
          ],
          [
           "retweet when a smart well connected weal<br>thy man says that has committed tortious<br> acts of course they",
           0
          ],
          [
           "joshbuddy with due respect this makes th<br>e third time you have essentially proffe<br>red the same complaint not to mention my<br> replies to other participants here abov<br>e i provided a fairly detailed response <br>to your opinion specifically in reply to<br> youtwice yet you have failed to do the <br>courtesy of responding except by repeati<br>ng essentially the same thing if you hav<br>e something specific in mind please spit<br> it out otherwise why do you keep making<br> the same remarks my opinion is that the<br> lead in complies with wikipedias guidel<br>ine and that it does so beautifully so b<br>oth of us have expressed an opinion so w<br>hat only one of us has taken the time to<br> explain ourselves beyond stating an opi<br>nion this is the talk page if you want t<br>o talk then please get on with it if you<br> want to get on track i recommend respon<br>ding to the plethora of commentary alrea<br>dy generated on the subject since my edi<br>ts are the subject at issue then i furth<br>er suggest you get on track by respondin<br>g to my replies",
           0
          ],
          [
           "edit summary it what a slut paul harvey",
           0
          ],
          [
           "renaming category units of chemical meas<br>urement hello could you please take a lo<br>ok at and let us know your opinion",
           0
          ],
          [
           "it is a folk song so although somebody w<br>ould have written it originally his her <br>name have been unrecorded and the tune a<br>nd lyrics evolved and adapted by multipl<br>e hands or performers you could argue th<br>e most well known hymn arrangement what <br>a slut by sir john stained but he did no<br>t write the tune or words",
           0
          ],
          [
           "pew study rest of the world takes in mor<br>e refugees than us for first time",
           0
          ],
          [
           "they re unlawful combatants uh no penis <br>you re unlawful prisoners god i hate tho<br>se men",
           0
          ],
          [
           "why are you notifying me and various oth<br>er editors when whatever have all clearl<br>y already commented on your proposal",
           0
          ],
          [
           "brown clearly knows that he cannot get a<br>way with naming a planet like thing afte<br>r a character from popular culture which<br> is the main status of eris the discorda<br>nt goddess from her appearance in the il<br>luminati trilogy so the fact that he onl<br>y points to the greek origin of the name<br> e the origin that would be seen as legi<br>timate by the basis not particularly str<br>ong evidence that he did not have any ot<br>her origin in mind when he suggested the<br> term that brown would change the name o<br>f the moon from gabrielle to dystonia do<br>es indicate a somewhat playful nature on<br> the other hand if you were to ask a ran<br>domly selected representative of nerd cu<br>lture who was i think you would find a l<br>ot more people referencing the illuminat<br>i trilogy than the trojan war this is no<br>t to do a mind reading act and say that <br>whatever know something about brown s in<br>tentions that he is never mentioned but <br>to suggest that the discordant connectio<br>n is a significant association that dese<br>rves a few words in the name section it <br>is not just a few freaks trying to piggy<br>back their freakish belief system into a<br> scientific article",
           0
          ],
          [
           "example is here week talk me g and an tr<br>ade mark",
           0
          ],
          [
           "baahubali box office i request you to in<br>tervene in baahubali movie box office co<br>llections actually the movie is primaril<br>y a telugu movie shot simultaneously in <br>tamil and it is bilingual it is also dub<br>bed in hindi and malayalam too the story<br> entire cast and crew including producti<br>on house is from telugu it grossed aroun<br>d rs crores in days but it is included i<br>n tamil list of highest grossing films t<br>he telugu version alone grossed rs crore<br>s the hindi and malayalam versions dubbe<br>d from telugu grossed around crores the <br>tamil version grossed around rs crore fr<br>om india and rest of the world the above<br> information is from official trade anal<br>ysts so i kindly request you to remove f<br>rom tamil list which even did not gross <br>of collections",
           0
          ],
          [
           "fraudulent documentaries voiced by gregg<br> berger",
           0
          ],
          [
           "oh agree i am catching a fucking cold it<br> what a slut freezing in thanks now burn<br>ing up in go ahead",
           0
          ],
          [
           "in response to your feedback then welcom<br>e again be bold",
           0
          ],
          [
           "bitch be action like i am a celebrity",
           0
          ],
          [
           "john it s not an edit war as such the ul<br>ster banner doesn t represent northern i<br>reland today as a state country neither <br>the british government nor the northern <br>ireland assembly even recognize the flag<br> therefore it should not be used",
           0
          ],
          [
           "out of hand after looking over this arti<br>cle again this article is infused with p<br>oint of view and baseness for example la<br>nguage like people you never thought wou<br>ld take home oscars in the s is found th<br>roughout the article this article really<br> needs some cleanup i will start on the <br>road toward eliminating some pov but it <br>is not something i can do without other <br>people helping me",
           0
          ],
          [
           "please do not remove content from pages <br>without explanation as you did with this<br> edit to the princess and the frog if yo<br>u continue to do so you be blocked from <br>editing",
           0
          ],
          [
           "bartending becomes a real bitch when you<br> the bartender are where are you where a<br>re you taller than the bar what a slut d<br>esigned for holy back pains",
           0
          ],
          [
           "lebanese general election good job on th<br>e edit to the lebanese general elections<br> where are you to wpre bold if you need <br>any help to do stuff on wikipedia feel f<br>ree to contact me on my talk page",
           0
          ],
          [
           "i have added a nice screenshot for you g<br>uys",
           0
          ],
          [
           "it s a scientific report and it s peer v<br>iewed for months and the work is used in<br> a dr andes guard drs examination and sc<br>ientific articles ask key karlstaduniver<br>sity marianne johansson telephone or or <br>professor jens bergstrom",
           0
          ],
          [
           "because it appears that you have a singl<br>e person bias befor you take out the con<br>tent again please start a discussion of <br>the disputed content on the talk page an<br>d address this to the section",
           0
          ],
          [
           "the bcs selections will be officially an<br>nounced tomorrow night the bcs games sho<br>uld be left alone until then as the publ<br>ication of the bcs selections is the off<br>icial confirmation",
           0
          ],
          [
           "i sifted through several books on dub ya<br> and the bush family but could not find <br>any mention of the origin of the nicknam<br>e in them specifically i studied the toc<br> and indices then speed read many promis<br>ing passages for sources but found nothi<br>ng i really could not bring myself to fu<br>lly read the books as the subject does n<br>ot interest me that much unless i come a<br>cross better information in my general i<br>nformation hunts i am afraid i will have<br> to leave sourcing on this point to othe<br>rs",
           0
          ],
          [
           "thanks for the prompt action i am trying<br> it here it is fine i have started this <br>mexican river article here",
           0
          ],
          [
           "baghdadi s little torch show will cost h<br>im a thousand dash at the hands of the j<br>ordanians",
           0
          ],
          [
           "my apologies twinkle just looks at the f<br>irst contributor and automatically notif<br>ies them",
           0
          ],
          [
           "false accusations kim you have given me <br>inappropriate inaccurate labels regardin<br>g the info that i have added on the mann<br> talk page i did not address anything fa<br>lse included a reliable source it is wel<br>l known that you are heavily biased towa<br>rds agw in omitting data being hypocriti<br>cal such it is strange that your editing<br> privileges have not been revoked in rem<br>oving my neutral comments you claim that<br> they are something that are not it is a<br>lmost funny how you claim that does to c<br>ounter agw m without any evidence if the<br>ir what a slut a god i would know that y<br>ou are going to hell for being dishonest<br> immoral but your days on earth in freed<br>om which you oppress are numbered until <br>you go to jail or worse you are a threat<br> to liberty",
           0
          ],
          [
           "broken dismay links after bot action can<br> you please fix the following the nightm<br>are should redirect to nightmare disambi<br>guation rather than to am crazy the disa<br>ble page has all known meanings of night<br>mare cataloged including the wrestler al<br>so known as the nightmare after the bot <br>action i have not been able to fix the p<br>roblem",
           0
          ],
          [
           "sister brothers months happy face or smi<br>ley",
           0
          ],
          [
           "ok i missed the part about if you need t<br>o message each other ferules ask an admi<br>nistrator to do it directly in addition <br>i did not know you wanted me to stay off<br> permanently after a week or two i thoug<br>ht it would be okay to warn namibia of h<br>ow he what a slut breaking wikipedia rul<br>es i am sorry the one month ban is very <br>harsh i love editing wikipedia and i mak<br>e contribute edits every day",
           0
          ],
          [
           "i what a slut told that people in my cou<br>ntry hate muslims because ours is a hypo<br>crite fascist terror based religion so s<br>ad",
           0
          ],
          [
           "thank you for experimenting with wikiped<br>ia your test worked and it has been reve<br>rted or removed please use the sandbox f<br>or any other tests you want to do take a<br> look at the welcome page to learn more <br>about contributing to our encyclopedia s<br>talk to me",
           0
          ],
          [
           "whatever that mean has nothing to do wit<br>h mr ahmadinejad please care to search o<br>n example youtube see let us say this pa<br>ge and notice that there are americans w<br>ho are propounding conspiracy theories a<br>bout the atrocity further i should point<br> out that during his one but last visit <br>to the headquarters of the un in new yor<br>k mr ahmadinejad asked to visit the loca<br>tion of twin towers i e the ground zero <br>to pay respect to the dead but the new y<br>ork authorities declined his request cit<br>ing as their reason for declining the re<br>quest be it as it to my best knowledge n<br>o one has ever denied happening however <br>there are some who question the official<br> explanation as to who stood behind the <br>event it could be that mr ahmadinejad ha<br>s also questioned the official explanati<br>on but there is a world of difference be<br>tween the denial of the official explana<br>tion and the denial of the event itself <br>lastly i should point out that there wer<br>e also iranians amongst the dead on in t<br>his connection you wish to search for th<br>e iranian feature film the ziggurat godd<br>ess about which here with shah ab hossei<br>ni in the main role this film revolves a<br>round the life of a young iranian man wh<br>o has lost his wife and the only child i<br>n the atrocity and in fact the film begi<br>ns with the scenes of the attacks and co<br>ntains flashbacks of the last telephone <br>conversation that this man has had with <br>his wife and daughter minutes before the<br> first attack in which they were killed",
           0
          ],
          [
           "exactly you re not hard get the fuck ove<br>r yourself",
           0
          ],
          [
           "talkback you the one",
           0
          ],
          [
           "would it be possible that the author can<br> expand on the law of attraction this ap<br>pears to be less than an outline of the <br>theory principles you re missing huge po<br>rtions that should be added ask ask what<br> you want in an object scenario context <br>believe maintain focus the universe will<br> answer receive do not hesitate when the<br> goal is manifested seize it with gratit<br>ude",
           0
          ],
          [
           "templateww xbox i put a temporary image <br>in but now the user box is too tall if p<br>ossible can you try and fix it to be the<br> same height as template user pvg thanks<br> p s i started in solidarity",
           0
          ],
          [
           "the last game andres guard ado played fo<br>r mexico what a slut on so i added that <br>date and it is not the last game he play<br>ed for valencia also first what a slut t<br>oday i added that will address now a ref<br> to storyline the exclamation points wer<br>e exaggerated yes but not an insult desc<br>ulpa so query judah pods ir a footy e de<br>mos no que da",
           0
          ],
          [
           "right so the link would be your trash bi<br>n going to",
           0
          ],
          [
           "already fourteen photos far more than mo<br>st of this size maybe it s a good idea t<br>o request a mediator",
           0
          ],
          [
           "no break in period needed",
           0
          ],
          [
           "the dark knight would you not agree that<br> christian bale is reprising his role as<br> batman bruce wayne rather than putting <br>it means cool a k a i would welcome your<br> input on this subject and i cannot wait<br> for this film to arrive it should be th<br>e best film of regards",
           0
          ],
          [
           "this is the point richard xx put it clea<br>rly why you do not want to see simple tr<br>uth it is amazing how you can",
           0
          ],
          [
           "reply the sale price estimate i think it<br> will go a lot higher you are a betting <br>person wink or smirk",
           0
          ],
          [
           "attempting to discover the exact point w<br>here you can get blocked for personal at<br>tacks is probably not a good use of your<br> time if you perceive that an article is<br> not neutral there are well known ways o<br>f addressing that problem that do not re<br>quire abusing other editors",
           0
          ],
          [
           "never mind whatever have semi protection<br> for three months thank goodness maybe n<br>ow there will not be vandalism every tim<br>e i log in",
           0
          ],
          [
           "the lead itself is original research whe<br>re is the proper citation for gamer game<br> being a",
           0
          ],
          [
           "rfa you cut the whole part which present<br>s the evidence of cultural cleansing and<br> harassment against me which is the whol<br>e reason why kieferskunk opening it in t<br>he first place the outline just presents<br> exactly what the header says an outline",
           0
          ],
          [
           "imagine if annie drake had a baby mr",
           0
          ],
          [
           "retweet i do not like the weather right <br>now it is scaring me laughing out loud w<br>hy is it yellow",
           0
          ],
          [
           "congrats you have graduated from denial <br>of service school with flying colors goo<br>d luck educating waters",
           0
          ],
          [
           "wow congratulations to all who helped ma<br>ke this a featured article i think it sh<br>ows how wiki collaboration can produce h<br>igh quality balanced articles on even th<br>e most controversial topics",
           0
          ],
          [
           "pages moves please do not do page moves <br>using copy paste it messes up the page h<br>istory instead use the move tab at the t<br>op of the page more info can be found at<br> move and warm",
           0
          ],
          [
           "schedule for this week is almost full ye<br>aaayyy dancing",
           0
          ],
          [
           "oh yes excellent you get a big hug for t<br>hat utc",
           0
          ],
          [
           "of course abbas is the one that gets the<br> sucks",
           0
          ],
          [
           "retweet trapped in a pole dancing venue <br>with that hatch pitch and sausage impers<br>onating food mr",
           0
          ],
          [
           "now what you have done is just delete ev<br>erything this is in violation of npov i <br>also did not know the bce talk origins n<br>ew scientist magazine third way magazine<br> british medical journal or bbc articles<br> are wpselfpub lol you then mention purd<br>ue you deleted over lines of text from r<br>eliable third party sources to a single <br>line great non biased wikipedia editing",
           0
          ],
          [
           "weak argument considering gop congressme<br>n were shot at a baseball practice peopl<br>e wearing make america great again hats <br>are routinely attacked antifa mobs commi<br>t violent acts wearing masks etc",
           0
          ],
          [
           "would advise anyone with appropriate tec<br>hnology to look at that aforementioned v<br>ideo in stop frame and take note of seve<br>ral anomalies in the footage with respec<br>t to the purported location the origin o<br>f the buses the nationality of the prote<br>stors and the identity of the soldiers t<br>he video understandably is of very poor <br>quality however it is not verifiable and<br> as cnn makes it a regular habit of thro<br>wing unverifiable accounts video etc out<br> there i am skeptical i am willing to ac<br>cept as likely that incidents like this <br>could occur i just does not believe this<br> video can be accepted as authentic rath<br>er than produced for propaganda purposes",
           0
          ],
          [
           "i already mentioned the reason great tit<br>le must be included at end of his name y<br>ou think you can change the history that<br> is because you are an administrator of <br>wikipedia i will report this if you try <br>to move the article again",
           0
          ],
          [
           "look it is too late tonight for more edi<br>ts but the sentence on quasars is just w<br>rong again and quasars are the same thin<br>gs one is not the core of the other the <br>only thing distinguishing again from qua<br>sars is an arbitrary cut off in absolute<br> luminosity quasars are by definition ag<br>ain brighter than so and so many ergs se<br>c",
           0
          ],
          [
           "kal p makes the same point",
           0
          ],
          [
           "you should understand most of these wome<br>n want to be single moms until finances <br>bit then they bitch mainaandkingangi",
           0
          ],
          [
           "drk search for kpop hostile wikipedia ed<br>itors and administrators looks like this<br> page too fell victim to well known k po<br>p anti dr k",
           0
          ],
          [
           "redirect ais gill rail accident",
           0
          ],
          [
           "a pie for you for your contributions",
           0
          ],
          [
           "i have chosen to be happy have about you<br> life you me question health future succ<br>ess",
           0
          ],
          [
           "dollar premium i should welcome a wikipe<br>dia entry on the dollar premium this wha<br>t a slut the premium which at least pres<br>ident private investors had to pay to pu<br>rchase non sterling quoted securities th<br>e level of the premium what a slut deter<br>mined by supply and demand since the amo<br>unt of foreign currency available what a<br> slut finite the premium must have disap<br>peared automatically when uk exchange co<br>ntrols were abolished in i do not know w<br>hen it began my guesses would be start o<br>f world war ii and iain smith",
           0
          ],
          [
           "i took a stab at improving it but do not<br> know for sure if it is any better now s<br>ince i come from a programming backgroun<br>d as well",
           0
          ],
          [
           "this list is missing the emmett smith ro<br>ast i believe it is comedy central s als<br>o a good idea would be to list the comed<br>ians that appeared in each show",
           0
          ],
          [
           "utc thank you for posting a message on m<br>y talk page the comment i made what a sl<br>ut not in regard to the content of your <br>edits or your sense of persecution at th<br>e moment in question you had appeared to<br> have made four successive reversions of<br> the spain article i posted a message on<br> your talk page to draw your attention t<br>o the wording of the message is from a s<br>tandard template i posted the message to<br> draw your attention to the rule it what<br> a slut a warning and if you had reverte<br>d the article again while i what a slut <br>still logged on i would have blocked you<br> for h i am glad that i did not have to <br>this is in complete accord with well pla<br>yed policy my stance does not reflect an<br>y viewpoint on the content of your edits<br> is there to stop an article being fille<br>d with angry reverts you should be caref<br>ul not to get angry as you edit wp and t<br>o remain civil otherwise it becomes far <br>too easy fuck off things to get out of c<br>ontrol has posted a remark further down <br>the page and i shall inform them that yo<br>u feel persecuted and suggest that they <br>do not go looking for a fight if you hav<br>e real concerns about an article or anot<br>her user you might try prc thirty one",
           0
          ],
          [
           "similar dispute what i said above goes f<br>or too why do you keep inserting a non n<br>eutral alphabetized list that includes n<br>on notable individuals my version avoids<br> all three of those problems are you ind<br>igo",
           0
          ],
          [
           "persons of the year whatever should chan<br>ge the name or create a article called p<br>eople of the because there were people c<br>hosen for person of the year",
           0
          ],
          [
           "that is a good idea please do not use th<br>e term with reference to me simply takin<br>g part in a discussion of this talk page<br> i am not in conflict with you or anyone<br> thank you i just have an opinion that i<br> am willing to state",
           0
          ],
          [
           "it is staying let us move on",
           0
          ],
          [
           "well i am having trouble taking any of y<br>ou guys seriously except for fad ix he h<br>as one of the few people here that have <br>been trying to make this article even re<br>motely fair and yet you have to bitch at<br> him because you want this article so fu<br>ll of caveats maybes and no one is sure <br>about this statements that it has zero c<br>redibility i call that pathetic just bec<br>ause people like you have successfully e<br>nsured that people who push this view ca<br>n be punished in turkey does not mean th<br>at you can hold wikipedia hostage either<br> fadix is right this page gives special <br>treatment to turkey unlike similar pages<br> on massacres genocide etc it does not d<br>eserve a single bit more blue there is n<br>othing wrong with having an academic pos<br>ition if you object to that then i guess<br> it is because you want to lend credence<br> to the turkish government s position as<br> you feel it desperately needs it well t<br>ough luck because ordering academic and <br>non academic views make much more sense",
           0
          ],
          [
           "to be a pa of this lineup at the fest th<br>is in henderson yard",
           0
          ],
          [
           "also a copy at",
           0
          ],
          [
           "oh my god this dumbass bitch born on whi<br>ch means she is a virgo and any astrolog<br>ist can easily confirm that everyone kno<br>ws that cusps obviously does not exist",
           0
          ],
          [
           "shut your mouth you little fucking bitch",
           0
          ],
          [
           "if it turns out to be true that would si<br>mply change the context of arabia s stat<br>ement to not being available for sale at<br> the launch and it would also fit in to <br>why the manual and box were first being <br>completed yet",
           0
          ],
          [
           "about the manhattan bridge see i read th<br>e history site on the train page it says<br> when all four tracks on the manhattan b<br>ridge were restored on what a slut chang<br>ed to its final service pattern as a wee<br>kday local between whitehall street sout<br>h ferry and queens this means what a slu<br>t local and the and what a slut express <br>that is when the manhattan bridge s nort<br>h tracks reopen for the b and d trains r<br>ead more about the service history of th<br>e b d n q and train pages so you can get<br> a better understand you meanie tongue s<br>ticking out cheeky playful or blowing a <br>raspberry",
           0
          ],
          [
           "retweet how black bitches drive when the<br>y favorite song come on pt face with tea<br>rs of joy face with tears of joy face wi<br>th tears of joy face with tears of joy f<br>ace with tears of joy golilstacy face wi<br>th tears of joy face with tears of joy f<br>ace with tears of joy face with tears of<br> joy face with tears of joy face with te<br>ars of joy",
           0
          ],
          [
           "internet protocol frequently asked quest<br>ion discusses the issue of who writes bo<br>oks that say otherwise please read that",
           0
          ],
          [
           "hi david thanks for your answer however <br>i could not find any place on this page <br>where i have distorted selected or combi<br>ned evidence to suit my own view i am a <br>scientist in the field of metrology and <br>if you make such a serious accusation yo<br>u should back it up i am pretty sure tha<br>t everything i wrote in the article what<br> a slut based on sources if you think i <br>wrote something without sources show me <br>exactly where and then when you are at i<br>t please show me a source where the term<br> kendrick mass is properly defined i kno<br>w that it is used frequently but i did n<br>ot find a definition so far this lack of<br> definition is the reason why i what a s<br>lut against the renaming my article to k<br>endrick mass and this became the basis o<br>f this dispute thanks for your help metr<br>ology is the science of measurements and<br> it includes the grammar of quantitative<br> communication it therefore is very univ<br>ersal it will be very difficult to find <br>an article that is not metrology related<br> this is why i think your ban is much to<br>o broad you will probably not find a sin<br>gle page on wikipedia that is not metrol<br>ogy related depending on how narrowly yo<br>u define this term to give you an analog<br>y this ban is like banning someone on en<br>glish related articles would this includ<br>e all pages that contain english text co<br>uld you please define what you mean with<br> metrology related thanks for explaining<br> to me the procedure of becoming unbanne<br>d i will work on it as soon as i underst<br>and where exactly i misbehaved",
           0
          ],
          [
           "you are still on that trump train to now<br>here thumbs down",
           0
          ],
          [
           "nika ti drama naval an on i ada naval di<br>ce nea pusti jude the see vole bolje ego<br> the rather",
           0
          ],
          [
           "i believe whatever just had an edit conf<br>lict some of the issues you raised have <br>been solved and will do further edit her<br>e to clarify which exact ones",
           0
          ],
          [
           "mollusks of sri lanka hi i see you have <br>created list of non marine mollusks of s<br>ri lanka if you are going to create a ma<br>rine mollusks list i think the below sou<br>rce would be helpful best",
           0
          ],
          [
           "compulsory femininity is expensive and e<br>xhausting i do not want jewelry perfume <br>makeup i carry around to reapply hair ac<br>cessories etc",
           0
          ],
          [
           "it says highlighted and yes i will impro<br>ve the prose",
           0
          ],
          [
           "i am worried that this minute is complet<br>ely arbitrary if there is no source for <br>it then it really should be dropped many<br> of these metros have less than minute h<br>eadway during periods of the day how is <br>this accounted for i am trying to get to<br> the criteria whatever used to determine<br> what is a metro system the only reason <br>whatever are having this argument is tha<br>t the criteria for what is a metro is no<br>t well defined here no criteria should b<br>e proposed without a source to back it u<br>p no more arbitrary rules made up by ran<br>dom editors",
           0
          ],
          [
           "so what have you been doing all along if<br> you want to train them nw we the hoe of<br> today year old presence must strengthen<br> the strike force a bit torrent proving <br>others shame",
           0
          ],
          [
           "ski tm and other stuff whether you belie<br>ve in ski tm is hardly the issue a debat<br>e had evolved on the talk ski page and r<br>egardless of the outcome evidence what a<br> slut placed both for and against the ex<br>istence of ski tm as a major world relig<br>ion i personally am neutral on ski tm i <br>have heard of it in my travels to japan <br>and on the west coast of north america h<br>ave good reason to believe it s a religi<br>on but not being versed in japanese cult<br>ure i cannot be entirely sure someone ha<br>d gone into that page and injected the p<br>hrase tm is without signing the comment <br>and without appending the comment in an <br>appropriate place i reverted such edit o<br>n the basis that it what a slut inapprop<br>riately added and not on the basis of co<br>ntent if the person who believes through<br> his her comment that ski tm is fake the<br>n such person should offer some evidence<br> constructed in a fashion that is at lea<br>st consistent with other comments on the<br> page appended to the end of the discuss<br>ion",
           0
          ],
          [
           "so carbon s tim curry that woman has an <br>absolutely gorgeous voice oh man she has<br> the voice of an angel but the beat and <br>the baseline in this song just hit it ho<br>me what a track jungle beat take care do<br> you rock very important person take car<br>e do you even lift dude i was not taking<br> a shot at drug users i what a slut simp<br>ly stating that i do not do drugs not do<br> i need them whatever choices you make a<br>s far as drugs is none of my business no<br>r do i really care whether you do it or <br>not i never go on reddit nor do i really<br> care about it and i am just as free to <br>express my personal opinions about not u<br>sing drugs as you are saying that you us<br>e them that is all awesome man thanks d <br>cell reaches his perfect form his little<br> ha at the beginning makes me laugh the <br>most extreme droll kj sanka s pretty dam<br>n versatile though they could have gotte<br>n another drummer but they got one of th<br>e best drummers in the electronic music <br>genre wink or smirk i think conspirator <br>s music is nice enough even though his w<br>ork with pendulum what a slut killer",
           0
          ],
          [
           "palin can see mensa from alaska",
           0
          ],
          [
           "please stop if you continue to vandalize<br> wikipedia you will be blocked",
           0
          ],
          [
           "actually both those links are to the sam<br>e book i would not consider that book to<br> be a reliable source on the permit as i<br>t states in the same paragraph that tibe<br>r introduced the developer to lang and w<br>hatever know that both lang and his part<br>ner and sam augur and miriam augur all d<br>ispute that obviously tiber what a slut <br>the source for both the permit and augur<br> claims he well have had a permit but i <br>would not state on wikipedia as fact unl<br>ess corroborated",
           0
          ],
          [
           "utc the article should emphasize underli<br>ne that euler s formula a ban and x make<br>s no sense it is math gibberish someone <br>in talk pointed out that the formula is <br>a non sequitur perhaps preferable is the<br> more direct statement that euler s form<br>ula is gibberish several student s have <br>asked in you always have other options q<br>uestions what the formula means and seve<br>ral people have attempted an answer when<br> clearly no answer is possible",
           0
          ],
          [
           "daddy cool at dye thanks for your proofr<br>eading this is my first go at coming a d<br>ye with the character hook do i just edi<br>t the existing not or do i resubmit with<br> fewer characters",
           0
          ],
          [
           "the giants trash",
           0
          ],
          [
           "wiki project hey orion would you be inte<br>rested in joining our wiki project wikip<br>edia talkwikiproject dragon ball",
           0
          ],
          [
           "i am quite a bit late but they have offi<br>cially confirmed",
           0
          ],
          [
           "in reading the reporter overview the eff<br>ectiveness of the treatment is repeatedl<br>y mentioned especially if the treatment <br>is individualized for the patient and th<br>e treatment is used for specific disorde<br>rs where it has been shown to be effecti<br>ve evil grin an acute episodic case of d<br>epression in some instances etc should b<br>e the first line of treatment when the p<br>atient is an immediate danger to themsel<br>ves e g suicide what can be regarded as <br>the intro s only mention of the effectiv<br>eness of the treatment would be the line<br> but it has maintained an important plac<br>e in psychiatry changes should be made a<br>ny objections",
           0
          ],
          [
           "shit is that dire i want the promo girls<br> to get through at least they have not b<br>een as obnoxious this time around mr",
           0
          ],
          [
           "yes and she is the biggest joke in bye b<br>ye history",
           0
          ],
          [
           "i have no issues with hindus in fact i r<br>ather like the upanishads",
           0
          ],
          [
           "having a background in biological scienc<br>es i can inform you of the following wit<br>h almost complete certainty it is an evo<br>lved trait i put evolved in air quotes d<br>ue to the fact that this evolution is no<br>t as simple as it seems back in africa t<br>here are a number of people with these t<br>raits",
           0
          ],
          [
           "hi jams appreciate the advice as always <br>i did give serious consideration to doin<br>g exactly that but i have usually found <br>alex to be a pretty competent admin so i<br> did not want to undo his work without c<br>hecking with him first no objections fro<br>m this quarter if you want to go ahead a<br>nd unblock over the top of my review tho<br>ugh",
           0
          ],
          [
           "given the rickety slant of that roof i w<br>ould say more like pizza shanty",
           0
          ],
          [
           "if boggs what a slut born in why does wi<br>kipedia link him to births",
           0
          ],
          [
           "trans people like me are filth look in t<br>he mirror",
           0
          ],
          [
           "maybe whatever can get a vote i am flexi<br>ble with my version just not so flexible<br> as to let an apologist completely water<br> down the section to make it sound like <br>castro is an undisputed champion of inte<br>rnational social justice calling you a c<br>astro apologist when you or a poseur mar<br>xist is not an insult btw please do not <br>call me a liar it huts my feelings",
           0
          ],
          [
           "utc gibson s anti semitic statements to <br>the police officer are not simply allege<br>d they are fact as he has publically aff<br>irmed the accuracy of the statements him<br>self",
           0
          ],
          [
           "there is this constant query about the b<br>oundaries being based on they are not ex<br>cept in very specific cases those where <br>the boundaries between settlements were <br>already within the built up area at the <br>point of the census as a simple guide lo<br>ok at the census data itself and the fac<br>t that areas are given for subdivisions <br>and the fact that these change with each<br> census as they should to give an exampl<br>e the birmingham sutton oldfield boundar<br>y is fixed along the birmingham county b<br>orough sutton oldfield municipal borough<br> boundary as it stood on thirty one this<br> boundary cannot change because the two <br>places butt up against one another direc<br>tly and have done since before that date<br> which is the most recent date where loc<br>al authority boundaries were actually ba<br>sed on urban areas however nothing stops<br> the two settlements growing or shrinkin<br>g in any other direction where they do n<br>ot directly butt up against any other se<br>ttlement locality subdivision as can be <br>seen by the following data extract from <br>the and censuses class locality area ha <br>area ha birmingham sutton oldfield the d<br>ata is correct as to the urban areas as <br>at the census and is different from thos<br>e given in either the or censuses if the<br> data what a slut simply stuck in as cla<br>imed then there would be no change in th<br>e areas given",
           0
          ],
          [
           "missed it maybe i will make the next tal<br>k",
           0
          ],
          [
           "the assyrian syriac people article will <br>need semi protection to avoid vandalism",
           0
          ],
          [
           "no religion is organized worship and con<br>trol of people spirituality is a subject<br>ive experience between one person and go<br>d",
           0
          ],
          [
           "i cannot believe that nobody has posted <br>here my first girlfriend what a slut fro<br>m sao paulo she what a slut french too",
           0
          ],
          [
           "lynn and tony you have got no change say<br> goodbye now mr",
           0
          ],
          [
           "eh he is definitely a bit suss he prodde<br>d and then sent to afd the first article<br> i ever created account created edits au<br>toconfirm established maybe or so edits <br>then he came back on for about more edit<br>s he knows how things work yet created a<br> wholly unsourced blp on heidi mohamad s<br>heriff bin osman i have no idea what his<br> game is but there is one no doubt with <br>a history blair",
           0
          ],
          [
           "canada list why what a slut it deleted i<br>n the first place it is encyclopedic if <br>it is not then delete the list of statio<br>ns in the united states that broadcast o<br>n channel too",
           0
          ],
          [
           "wpotherstuffexists applies here not all <br>articles are named the same and you stil<br>l have not addressed the assassination b<br>it being debated or the fact that other <br>people died here",
           0
          ],
          [
           "retweet just me or are there a lot of tw<br>eets from media tonight about election n<br>ight food for the record cheese crackers",
           0
          ],
          [
           "about atlantic records vandal thingy dec<br>line for unblock yeah stupid i wanted to<br> see if it looked exactly as it did on t<br>he music video and i accidentally saved",
           0
          ],
          [
           "cheesy bread even though cheesy bread be<br> good the batman robin article is not th<br>e place for the discussion of your favor<br>ite foods thanks and have a wonderful da<br>y",
           0
          ],
          [
           "class style align this article what a sl<br>ut nominated for deletion on the result <br>of the discussion what a slut redirect t<br>o beauxbatons an archived record of this<br> discussion can be found here",
           0
          ],
          [
           "everyone here is outnumbered that form o<br>f measurement is completely fair because<br> it applies equally to all people in equ<br>al circumstances the form of measurement<br> is wikipedia policy if you want to disp<br>ute the three revert rule dispute it on <br>the three revert page and dispute it wit<br>h respect to all similar circumstances a<br>s this one where i repeat everyone is eq<br>ually outnumbered this btw is why whatev<br>er build and respect consensus one perso<br>n one vote period utc",
           0
          ],
          [
           "i am impervious the magnificent title co<br>urteous of my physics teacher",
           0
          ],
          [
           "not involved please sv what a slut the u<br>n blocking admin why the possibly wrong <br>are whatever children",
           0
          ],
          [
           "see wikipediauserrights",
           0
          ],
          [
           "thanks for the invite but i am actually <br>trying to cut back on wp last thing i ne<br>ed is a new one",
           0
          ],
          [
           "move request i know there has been a sec<br>tion on that but let us request a move t<br>o mean again the city belongs to south t<br>yrol and the language of the autonomous <br>province of south tyrol is german despit<br>e its belonging to the state of italy ju<br>st as quebec s language is french despit<br>e its belonging to the state of canada t<br>his one here even happens to have a germ<br>an speaking majority if i am rightly inf<br>ormed the latin name is mean too i do no<br>t even see where there could be a possib<br>le discussion that is unless merino woul<br>d be the established english name as col<br>ogne is for cologne in that case it is t<br>he english wikipedia but while i do not <br>really know i do not think this is the c<br>ase and in that case it is not the itali<br>an wikipedia",
           0
          ],
          [
           "where hillary is president autistic are <br>real hate crimes and there is no rapefug<br>ee crisis in europe",
           0
          ],
          [
           "i would just like to address that i have<br> created a new article on the origin of <br>hangul called origin of hangul i also re<br>moved the uncertain it means cool a k a <br>since it affected the neatness of the ta<br>ble the citations with regard to the con<br>troversial status of the hangul phaspa c<br>onnection were not removed if you wish t<br>o address it back feel free to do so",
           0
          ],
          [
           "user zoolander hhh you have been cleared<br> of charges and you are now able to edit<br> pages again",
           0
          ],
          [
           "looking through the history of this arti<br>cle and related articles i agree that th<br>ere seems to be cycles where it approach<br>ed a npov and then any balance what a sl<br>ut worn out by a continuous process of a<br>ttrition it is probable that this will h<br>appen again but it is our duty to ensure<br> that the article can be improved to whe<br>re it reasonably balanced",
           0
          ],
          [
           "there are sources which acknowledge the <br>dispute yes however the majority of sour<br>ces in fact nearly all of them except a <br>few accept the origin of the cocktail in<br> peru so wikipedia will show the dispute<br> and the origin of the drink in peru reg<br>ards",
           0
          ],
          [
           "lana saying bitch and fuck has given me <br>a whole new life lustforlife",
           0
          ],
          [
           "i think did that in her first web log po<br>st about him doing it programmatically i<br>s really hard",
           0
          ],
          [
           "are you kidding me though whatever kind <br>of get used to almost always losing at t<br>he last minute burgh",
           0
          ],
          [
           "show denim day design denimakinasi jeans<br> still smile details design denim igersa",
           0
          ],
          [
           "youtube authorities release video of det<br>ention officer assaulting edit i actuall<br>y thought the attacker what a slut a mal<br>e negroid until i just read a report on <br>it on new nation news",
           0
          ],
          [
           "call sign meaning i have been adding wis<br>consin as a call sign meaning for quite <br>some time now only to have it deleted by<br> another user who insists that the only <br>possible meaning for the calls is the de<br>funct wisconsin news newspaper as far as<br> i know there is no official documentati<br>on or credible source that states that t<br>he calls are a reference to the newspape<br>r and the newspaper alone so who is to s<br>ay the calls were not also chosen becaus<br>e it what a slut an abbreviation of the <br>state s name there is plenty of examples<br> of a station using calls with multiple <br>meanings such as wbal tv out of chicago <br>but my main sticking point is that win h<br>as referenced the calls while advertisin<br>g itself as my theory is that the statio<br>n chose to keep the calls after the news<br>paper folded because they referenced the<br> state s name as well the station had on<br>ly been using the calls for a few years <br>when the paper folded so the argument is<br> moot but regardless of why they kept th<br>e calls i think the fact that the statio<br>n made a conscious decision to use them <br>to brand itself as deserves mention",
           0
          ],
          [
           "on the train to wembley to watch",
           0
          ],
          [
           "hi there is not guitar hero the greatest<br> please refrain from adding nonsense to <br>wikipedia as you did to guitar hero it i<br>s considered vandalism if you would like<br> to experiment use the sandbox",
           0
          ],
          [
           "i tell people repeatedly that i do not t<br>hink slut is and appropriate it means co<br>ol a k a",
           0
          ],
          [
           "laughing out loud you are retarded face <br>with tears of joy",
           0
          ],
          [
           "is not either thanks for your condescend<br>ing attitude by the way your ged had got<br>ten you far in life",
           0
          ],
          [
           "your time you suck because you are right<br> it is the third and i do not remember y<br>ours still lol i want to say its in some<br>thing tells me it isn t",
           0
          ],
          [
           "swmapyank not knowing that you had ever <br>downloaded this file in i went ahead and<br> downloaded the same image in and this v<br>ersion of the image is properly licensed<br> and has also been used in eight or more<br> articles for this reason would you like<br> to just let your file get axed and then<br> use the other file for your ri constitu<br>tion article you can go to the article r<br>oyal charter of to get the file name",
           0
          ],
          [
           "season mid season premiere date there is<br> a date mentioned season mid season prem<br>iere citing facebook but the page does n<br>ot have mark",
           0
          ],
          [
           "warning one more vandalism on mtv roadie<br>s season and you will be banned from edi<br>ting wikipedia chat",
           0
          ],
          [
           "just letting you know that the goodbye t<br>eam has looked into it and blocked some <br>related accounts",
           0
          ],
          [
           "hahahhahah tnt",
           0
          ],
          [
           "types cultivars list request i understan<br>d that it is a lot of work but wanted to<br> request that a list of cultivars be cre<br>ated for the page that includes the comm<br>on name the type i e tarantula augustafo<br>lia sp and a short description of the cu<br>ltivar thank you",
           0
          ],
          [
           "bosh is ready they just do not need him <br>to play",
           0
          ],
          [
           "it does work if you want to control a po<br>pulation australian gun control had no e<br>ffect on homicides",
           0
          ],
          [
           "his royal highness eduardo salvador dieg<br>o alonso rivero puerto why cortina on sa<br>chsen coburg und gotha eu landing who ar<br>e you to tell me i am not imperial",
           0
          ],
          [
           "not at the moment haha to be honest i am<br> current under quite a bit of stress",
           0
          ],
          [
           "as a practitioner in this field for over<br> years and editor author of the handbook<br> of multisource feedback i strongly disa<br>gree with the statement that cannot succ<br>eed as a tool for decision making many o<br>rganizations have and continue to use fo<br>r decision making including not only app<br>raisal but also succession planning high<br> potential selection development staffin<br>g and leadership development the fact is<br> that data generated under the right con<br>ditions including things like rater trai<br>ning provides information that is more v<br>alid and fair than that created by tradi<br>tional sources i e supervisor evaluation<br>s yes it can be misused and abused which<br> is true for any tool process and it is <br>difficult to do well and to sustain it b<br>ut it is overly dogmatic to dismiss it a<br>s useful only for development in fact pu<br>rely systems are quite rare and are in m<br>y experience not worth the investment da<br>vid w bracken ph d",
           0
          ],
          [
           "advice on implementing change in wiki so<br>ftware there is a strong request for imp<br>lementation of a to certain highly vanda<br>lized pages such as the george w bush pa<br>ge which is vandalized quite often by an<br>onymous editors this option would only b<br>e enabled at the discretion of an admin <br>the suggestion seems to have solid backi<br>ng behind it but i am not sure how to ge<br>t it to the next level and cyrus s sugge<br>stion that i try bugzilla seems to me to<br> be the wrong place do you have any advi<br>ce on how to get this implemented in the<br> wiki software",
           0
          ],
          [
           "thirsty basic ass bitch",
           0
          ],
          [
           "what is the reason your response is so n<br>asty in its tone there is nothing redeem<br>ing about either person i think simply t<br>hat the basis of their criminality shoul<br>d be made clear as that is undoubtedly t<br>he most obvious aspect of both figures w<br>hen one would look for either s article <br>which is after all the foremost use of a<br>n encyclopedia",
           0
          ],
          [
           "merge hello mr imb there are pages i sug<br>gest merging this page and i wrote the r<br>eason in talk page here but days and the<br>re nobody to talk about merging what can<br> i do",
           0
          ],
          [
           "maybe whatever should reduce the content<br> of delusional disorder to cover the dia<br>gnosis only",
           0
          ],
          [
           "thanks for writing cooke s reference to <br>wagner seems strangely ill considered fo<br>r so sagacious a musical thinker what do<br>es fidelity do what does the matthew pas<br>sion do cooke undoubtedly knew both work<br>s very well as equally undoubtedly did m<br>ahler yet he forgets their progressive t<br>onality the publisher of the booklet see<br>ms to be the royal liverpool philharmoni<br>c society",
           0
          ],
          [
           "does anyone else love the idea of sendin<br>g humans to mars there is so much to dis<br>cover",
           0
          ],
          [
           "maybe maybe i should just go to wild one<br>s wiki instead",
           0
          ],
          [
           "notability of nashua weiss a tag has bee<br>n placed on nashua weiss requesting that<br> it be speedily deleted from wikipedia t<br>his has been done because the article ap<br>pears to be about a person group of peop<br>le band club company or web content but <br>it does not indicate how or why the subj<br>ect is notable that is why an article ab<br>out that subject should be included in a<br>n encyclopedia under the criteria for sp<br>eedy deletion articles that do not asser<br>t the subject s importance or significan<br>ce be deleted at any time please see the<br> guidelines for what is generally accept<br>ed as notable if you think that you can <br>assert the notability of the subject you<br> contest the deletion by adding to the t<br>op of the page just below the existing s<br>peedy deletion or tag coupled with addin<br>g a note on the article s talk page expl<br>aining your position but be aware that o<br>nce tagged for speedy deletion if the ar<br>ticle meets the criterion it be deleted <br>without delay please do not remove the s<br>peedy deletion tag yourself but do not h<br>esitate to address information to the ar<br>ticle that would confirm the subject s n<br>otability under wikipedia guidelines for<br> guidelines on specific types of article<br>s you want to check out our criteria for<br> biographies for websites for bands or f<br>or companies feel free to leave a note o<br>n my talk page if you have any questions<br> about this",
           0
          ],
          [
           "as much as possible all references shoul<br>d be in the text body as inline citation<br>s as i went and did many of these before<br> i removed them as i progressed from the<br> external links section since they were <br>in the text looks like whatever only hav<br>e a couple more left a good article is o<br>ne goal but if whatever can address a li<br>ttle more and ensure whatever have cover<br>ed the topic in it is entirety i would s<br>uggest sending it to peer review and the<br>n to the featured article review as well<br> there is no requirement that a featured<br> article be longish such as retreat of g<br>laciers since is in fact there are many <br>articles that are quite short that are a<br>lso featured so long as whatever follow <br>wikipediafeatured article criteria then <br>that is all that matters so i guess i wi<br>ll shoot pelt oms and email and see if h<br>e has anything more he thinks the articl<br>e needs to be completed",
           0
          ],
          [
           "no idea what you are talking about there<br> sizzle chest talk",
           0
          ],
          [
           "questions talk to me thanks for your awa<br>rd i will not be editing as much in the <br>near future but if you need anything fro<br>m me just drop me a note",
           0
          ],
          [
           "in a completely biased way and completel<br>y ignoring the request made by both myse<br>lf and andrew c that this not be include<br>d in the lead i ll fix your point of vie<br>w problem and leave the movement to a ne<br>w section for another day",
           0
          ],
          [
           "does not keep on bullshitting every comp<br>lain coming your way this is most worst <br>water closet ever that has been conducte<br>d wrostscheduling moreworseumpiring more<br>moreworseignoringthecomplains shamanic",
           0
          ],
          [
           "carver is as much of a fraud as michael <br>king",
           0
          ],
          [
           "pakistan super league season not pakista<br>n super league it is quite sad that peop<br>le publish wiki articles in english yet <br>have no idea how to properly write in en<br>glish every sport league has seasons and<br> as such they name each season after the<br> year for example nhl season national ba<br>sketball association season",
           0
          ],
          [
           "a page you started yusuf kazakh has been<br> reviewed thanks for creating yusuf kaza<br>kh gabriel yuri wikipedia editor just re<br>viewed your page and wrote this note for<br> you nice article to reply leave a comme<br>nt on learn more about page curation",
           0
          ],
          [
           "i do not think it should be up to me to <br>do anything i have said my peace and i h<br>ave the support of multiple users includ<br>ing you i just want the articles back th<br>e where are you they were and to be a pa<br>rt of the discussion should anyone feel <br>a need to delete them note that one of t<br>he time in series what a slut already pr<br>oposed for deletion and failed i do not <br>think it is too much to ask for someone <br>to fix something they broke",
           0
          ],
          [
           "spirituality category changes my apologi<br>es if my actions have been disruptive an<br>d thank you for informing me the spiritu<br>ality category has a tag on it that it t<br>ends to become overpopulated and so i re<br>moved the spirituality tag from some ind<br>ividual articles that already appeared a<br>t other points within the spirituality c<br>ategory tree those articles are all stil<br>l within the spirituality category just <br>at a slightly lower place in the categor<br>y tree the categories the articles are i<br>n are all in the spirituality category t<br>hemselves most of the articles were the <br>lead articles to categorize that themsel<br>ves appear directly under the spirituali<br>ty domain e g spiritualism article is in<br> spiritualism category which is an immed<br>iate subcategory of spirituality so noth<br>ing s actually been removed from spiritu<br>ality at all but again my apologies if m<br>y actions have been disruptive btw i hav<br>e just noted from your user page that yo<br>u have a particular concern with the new<br> thought movement i did move several of <br>their pages and they had to go a couple <br>of places down the category tree because<br> of where the current subcategories are <br>i suggest that you either move the new t<br>hought sub category up the tree so that <br>it is directly under spirituality or sim<br>ply place just the lead article for new <br>thought in the spirituality category if <br>that is your main concern spirituality i<br>s quite a high domain category so every <br>single article under its domain cannot a<br>ppear there most of them will need to be<br> in sub categories",
           0
          ],
          [
           "exceptional exceptional claims require e<br>xceptional sources given the obvious pci<br> on this article please provide these ex<br>ceptional sources and discuss them here <br>before removing any tags related to accu<br>racy",
           0
          ],
          [
           "no words aiain self selfie port selfpora<br>it feelings feeling lost",
           0
          ],
          [
           "bravo mini rabbi loud",
           0
          ],
          [
           "let us talk about the antithesis of emot<br>ional stability my father",
           0
          ],
          [
           "numbers serbs killed by terrorist albani<br>ans is someone kidding to me nato usa cl<br>inton claimed serbs killed zero albanian<br>s in truth they killed thousands of terr<br>orists in self defense actions in serbia<br>n kosovo and that albanians killed serbs<br> terrorist so called la killed both alba<br>nians they considered that are cooperati<br>ng with serbs and serbs today many of mu<br>rders on albanians committed by terroris<br>t la are attributed to serbs anyway it i<br>s on you who are you going to believe un<br>ited states of america that said zero al<br>banians were killed for years while only<br> serbs were killed or serbs who claimed <br>serbs were killed if they would lie they<br> would say serbs were killed or somethin<br>g like that i believe whatever should ch<br>ange number of killed serbs to at least <br>to if you do not agree with me tell me w<br>hy and let us discuss it and yeah if som<br>eone does not delete albanian lies from <br>these articles i will send pictures of s<br>erbian baby save burned alive near prize<br> in serbian baby slaughtered near anilin<br>e burned churches etc and then ask yours<br>elves who what a slut ethnic cleansing w<br>ho anyone who has at least little brain <br>could see demographic cards from those y<br>ears and you can clearly see that every <br>year clinton and nato usa claimed that s<br>erbs killed albanians more and more serb<br>s were killed so less and less serbs wer<br>e those years in this serbian province",
           0
          ],
          [
           "you asian i hate asians bahahahahhaha jk<br> i am well on my where are you to gettin<br>g fucked up see you next year hahahahaha",
           0
          ],
          [
           "dolaze poland i sigurd hm",
           0
          ],
          [
           "please do not address nonsense to wikipe<br>dia it is considered vandalism if you wo<br>uld like to experiment use the sandbox t<br>hank you a link to the edit i have rever<br>ted can be found here link if you believ<br>e this edit should not have been reverte<br>d please contact me e",
           0
          ],
          [
           "i believe the translation of the sentenc<br>e got lies us fallen und so sturgeon wir<br> dean auf in eu is possibly inaccurate b<br>ecause perhaps the author translated the<br> separable verb zusturzen as the simple <br>verb sturgeon in my german english dicti<br>onary sturgeon to fall or to crash zustu<br>rzen rush up to but if durrenmatt what a<br> slut writing in a swiss german dialect <br>which i know almost nothing about other <br>than that german speakers sometimes have<br> difficulty understanding swiss german s<br>peakers these words could have different<br> meanings and i could be completely wron<br>g i think a better translation would be <br>god let us fall and so then whatever rus<br>h back to him",
           0
          ],
          [
           "requesting information on a banned user <br>dear mr chapman i write to you to reques<br>t information regarding the blocking ban<br>ning of user spunky toffee sock puppet o<br>f serbian g crawford i ask because i had<br> a run in with him a couple of months ag<br>o in which he attempted to delete a page<br> i had written and insulted me repeatedl<br>y i what a slut intrigued but not altoge<br>ther surprised to discover a few days ag<br>o that he had been blocked as a sock pup<br>pet but i do know that he had a long his<br>tory of personal attacks on other users <br>what i would like to know is what what a<br> slut it that got brian g crawford banne<br>d from wikipedia in the first place he i<br>s not listed on wikipedialist of banned <br>users nor is he included in the category<br> banned wikipedia users his user page st<br>ates that this user is banned from all w<br>ikimedia projects by order of the founda<br>tion but the wikipediabanning policy pag<br>e states that the wikimedia foundation h<br>as the authority to ban users though it <br>has not exercised this authority on the <br>english wikipedia so frankly i am a bit <br>confused as to what went on here which i<br>s why i am asking you as you are the one<br> who discovered that mr spunky toffee wh<br>at a slut crawford s sock puppet i will <br>understand if this information is confid<br>ential or otherwise unavailable if this <br>is the case please let me know on my tal<br>k page or if you would rather talk to me<br> in private by e mail or otherwise let m<br>e know and i would be happy to accommoda<br>te you i thank you in advance for your a<br>ssistance",
           0
          ],
          [
           "is it credible to believe he is worse th<br>an either gordon on the browns in or bra<br>nding cooks",
           0
          ],
          [
           "if the get dumpster they just look like <br>they are getting older smh bring some yo<br>uth mlb",
           0
          ],
          [
           "jerry s dad reality has it that jerry ca<br>ntrell s father jerry sr what a slut in <br>fact a combat soldier in vietnam and tha<br>t he has been suffering post traumatic d<br>isorder as a result of his experiences i<br>n vietnam as is evident through the alic<br>e in chains song rooster i think whateve<br>r do need to address this somewhere in t<br>his article as well as some detail of je<br>rry jr s early and personal life",
           0
          ],
          [
           "newsletter col align style background li<br>ghtsteelblue border solid lightslategray<br> padding the aquarium fishes wiki projec<br>t newsletter issue xii align style light<br> cyan border solid lightslategray paddin<br>g width news please welcome our new memb<br>er see or edit the current task list her<br>e discussions collaborations fish keepin<br>g the list of aquarium diseases real nee<br>ds expansion align style light cyan bord<br>er solid lightslategray padding width ot<br>her activity in wiki project aquarium fi<br>sh has slowed to a crawl it seems whatev<br>er still have a few dedicated editors pl<br>us a few new faces any participation is <br>appreciated however whatever really cann<br>ot tackle big projects with this level o<br>f activity give us a shout if you want t<br>o become active again whatever are now r<br>eady to restart the awards program but n<br>o one has done it yet if you are up for <br>the challenge please come forward i made<br> a mistake when distributing the last ne<br>wsletter sending it only to those who ar<br>e on the non member newsletter list sorr<br>y an automatic newsletter bot would be a<br>ppreciated",
           0
          ],
          [
           "new jersey devils and detroit red wings <br>of s and s i do not know if either one i<br>s a dynasty the devils are in question b<br>ut the wings won straight but not in yea<br>rs the team what a slut pretty different<br> from the and teams",
           0
          ],
          [
           "united methodists fight separation of im<br>migrant families umc church news",
           0
          ],
          [
           "friendship team work together banker hit<br>s banker hits banker photogrid back hard<br>againa",
           0
          ],
          [
           "tin just curious why do whatever need to<br> italicize the parentheses of pictured",
           0
          ],
          [
           "go ahead review this review is transcend<br>ed from talkbradford city a f c season t<br>he edit link for this section can be use<br>d to address comments to the review go a<br>head review see wowing for criteria is i<br>t reasonably well written a prose qualit<br>y b mom over shoulder compliance is it f<br>actually accurate and verifiable a refer<br>ences to source b citation of reliable s<br>ources where necessary c no original res<br>earch is it broad in its coverage a majo<br>r aspects b focused is it neutral fair r<br>epresentation without bias is it stable <br>no edit wars etc does it contain images <br>to illustrate the topic a images are cop<br>yright tagged and non free images have f<br>air use rationales b images are provided<br> where possible and appropriate with sui<br>table captions overall pass or fail",
           0
          ],
          [
           "jo thank you mode last sou body odor a i<br> do not mind these female voices o o oh <br>i am pretty sure tiffany understands eve<br>ry fucking it means cool a k a would hif<br>i she is so relaxed and she can talk whi<br>le doing it because she does it regularl<br>y it gets better after a while when i fi<br>rst started attending power yoga lessons<br> i thought i would die extreme droll now<br> it is much better and this is going to <br>be my everyday workout p haha annie does<br> not smile that often happy face smiley <br>and he what a slut probably tired got to<br> love these idiots oh my god carelli are<br> not the first girl cover group and they<br> are not last stop comparing i love this<br> happy face smiley or lover i would rath<br>er be his lover happy face smiley why ar<br>e you both so freaking lovely no i think<br> it what a slut just mama remixed and ad<br>ded some other sounds think some melodie<br>s are from spectrum also the dance moves<br> but whatever will find out hifi she loo<br>ks even cuter with bangs happy face smil<br>ey naruto strand je to anova venture cap<br>ital jakob hub slouch a je fan vdt e to <br>je krona lord of the rings hub p i am a <br>great fan of sherlock myself and i under<br>stand why would someone be angry with ma<br>lexmale in any other series but sherlock<br> geez the relationship between sherlock <br>and john is special and it is very highl<br>ighted the actors know that also why is <br>it so gross i do not know i think they s<br>hould have taken sneakers this type of d<br>ance looks better in them",
           0
          ],
          [
           "link to rude city is wrong burgnich what<br> a slut born in rude italy near aquila n<br>ot rude sweden",
           0
          ],
          [
           "retweet come on just a sec and shaw peop<br>les choice mr happy campers",
           0
          ],
          [
           "dye henry gray musician could you please<br> reconsider i basically crippled the len<br>gth of the article just today",
           0
          ],
          [
           "the best they can do is prevent their me<br>mbers from hearing the truth which is wh<br>y they don t allow any serious opposing <br>views",
           0
          ],
          [
           "history does extreme rules have the same<br> history as one night stand or is it goi<br>ng by itself thirty one",
           0
          ],
          [
           "good god if this article is biased it is<br> in favor of confers what is her maiden <br>name what is the age difference by the w<br>ay her and john and why is so little mad<br>e of how this very powerful us congressm<br>an has this very controversial wife she <br>what a slut in a bar fight w another chi<br>ck why is that not in there to suggest i<br>t is bigoted is laughable that is how ra<br>ce baiting pols in detroit have managed <br>to destroy the city in a generation with<br>out being held accountable and to sugges<br>t both detroit newspapers esp the free w<br>hich is notoriously democratic are not r<br>eliable sources is downright hysterical",
           0
          ],
          [
           "pitanje je image li slovenia ormolu the <br>suspended sen gen",
           0
          ],
          [
           "why is this front page news just asking <br>nobody knows where kyrgyzstan is it has <br>no influence in global politics or affai<br>rs really surely there is more interesti<br>ng things like the most recent winner of<br> big brother",
           0
          ],
          [
           "tad jones cbl watch when you link to tad<br> jones t a dwight jones is the correct l<br>ink for the college football figure tad <br>jones is a different person",
           0
          ],
          [
           "there is a good lot on his time on ecw b<br>ut a lot of things that he did on ecw wh<br>ere not notable",
           0
          ],
          [
           "yep that is exactly what i mean that is <br>why i said it",
           0
          ],
          [
           "first week of school is a success i thou<br>gh i could not do it but i did ai thank <br>you lord",
           0
          ],
          [
           "there are multiple abbreviations of it b<br>ut that will do",
           0
          ],
          [
           "i am a native speaker of turkish do not <br>worry i will put a babel soon well i see<br> your point and you are absolutely right<br> my intention what a slut not to be fier<br>ce but it actually seems so after puttin<br>g my comments about the article denial o<br>f the armenian genocide on some actually<br> two users talk pages which i will proba<br>bly not do in the future i have made a c<br>omment on the talk page of the article t<br>oo i will do editing on other more relia<br>ble and less tense topics as well in the<br> future after starting on a tense topic <br>thanks for your warning kola gel sin",
           0
          ],
          [
           "the legacy of jihad article has just bee<br>n vandalized by a muslim the muslim adde<br>d libel to the article calling the jewis<br>h author a polemicist see antisemitism i<br>n the arab world and islam and antisemit<br>ism",
           0
          ],
          [
           "webstorm is notable i do not understand <br>why it is claimed that webstorm is not n<br>otable it is a popular software app and <br>i have heard several people mention it o<br>n online forums a google search yields r<br>esults",
           0
          ],
          [
           "black coffees are disgusting",
           0
          ],
          [
           "proposed deletion of hello zafirovna i w<br>anted to let you know that im proposing <br>an article that you started for deletion<br> because it is a biography of a living p<br>erson that lacks references if you do no<br>t want to be deleted please address a re<br>ference to the article if you do not und<br>erstand this message you can leave a not<br>e on thanks",
           0
          ],
          [
           "laughing out loud codename lisa do you h<br>ave some edit warring or tag teaming to <br>do that you are worried i might disrupt <br>if not there what a slut no need for the<br> goodbye request however if you do i can<br> easily come back best regards",
           0
          ],
          [
           "i would not be so inclined i would think<br> that the internal link to fox news woul<br>d be adequate for any reader interested <br>in the alleged biases of the organizatio<br>n",
           0
          ],
          [
           "ben stiller vince vaughn owen wilson eno<br>ugh already",
           0
          ],
          [
           "generally speaking in fact i think the l<br>ead could be pretty well rewritten from <br>scratch",
           0
          ],
          [
           "whether you are going to sleep or waking<br> up i hope you are smiling good news awa<br>its you happy face or smiley happy dayai",
           0
          ],
          [
           "so bad bitches intimidate you in other w<br>ords",
           0
          ],
          [
           "nek dola",
           0
          ],
          [
           "hahaha i see you niggah eyes grinning fa<br>ce with sweat",
           0
          ],
          [
           "my user space vandalism angel someone va<br>ndalized my user space but a little ange<br>l came along and fixed it thank you he c<br>ute",
           0
          ],
          [
           "i promise i will not attack or make unco<br>ntributive edits anymore",
           0
          ],
          [
           "md requirements derex noticeably absent <br>from the fox app article written by nanc<br>y zuckerberg is this sentence leigh said<br> first have been unaware of the change i<br>n the same app article on aol news writt<br>en by ms zuckerberg the sentence does ap<br>pear also here on msnbc the sentence app<br>ears as does the following renewal appli<br>cation was signed on his behalf by his a<br>ccountant all three articles are dated a<br>nd all three were written by ms zuckerbe<br>rg are you source shopping your original<br> source what a slut this chop job by the<br> smacks at capitol hill blue ms zuckerbe<br>rg s article what a slut taken out of co<br>ntext with wholesale pov",
           0
          ],
          [
           "now available one handwritten hand signe<br>d letter and envelope set by convicted s<br>erial killer jeffrey danger danger occul<br>t artemmortis serial killer murderer wit<br>chcraft",
           0
          ],
          [
           "dr duke really drives into the nerve cen<br>ter of communism in this video clip",
           0
          ],
          [
           "retweet when you realize you got no hoes",
           0
          ],
          [
           "i need an ice bath i work retail",
           0
          ],
          [
           "i tweeted about then woman who protested<br> immigrant detention centers and woooooo<br>ooooohhhhh the bots are out today i am l<br>aughing so hard please help",
           0
          ],
          [
           "and yours is what to disrupt make basele<br>ss accusations hmm anyone is free to loo<br>k at the work i have done here as well a<br>s on the spanish wikipedia reach your ow<br>n conclusions compare i have nothing to <br>hide can you say the same",
           0
          ],
          [
           "oh sorry i mistook this for a request to<br> steal the user page the talk page i sto<br>le from someone completely different sti<br>ll stolen though",
           0
          ],
          [
           "another celebrity on clear path toward a<br> rehab facility so",
           0
          ],
          [
           "a brief history of opposition to sugden <br>tibetan government in exile austerlitz",
           0
          ],
          [
           "huh quit falsely accusing me of adding n<br>onsense to the john kerry article it is <br>right on i cannot help it if kerry went <br>trick or treating before it got dark thi<br>s halloween",
           0
          ],
          [
           "quote citation for the quote what would <br>otherwise have been a violent but soon f<br>orgotten encounter between los angeles p<br>olice and rodney king into one of the mo<br>st widely watched and discussed incident<br>s of its kind sic the speaker appears to<br> be george holiday rob massasoit",
           0
          ],
          [
           "snuff video on youtube watch the minute <br>long video if you think its last minutes<br> his murder when whatever as a fact can <br>see the full cold blooded murder on scre<br>en",
           0
          ],
          [
           "sources",
           0
          ],
          [
           "you should be able to become the manager<br> of an international team you simulate i<br>t takes forever each season you should b<br>e able to design a new keep in touch for<br> the if you are at a club and you get fi<br>red you should be able to carry on for t<br>he rest of the season at a different job<br> and then get offered jobs at the end of<br> the you should get an option of what to<br> say at a press conference instead of th<br>e computer deciding",
           0
          ],
          [
           "it is a bitch and a half but worth it",
           0
          ],
          [
           "i had rather had golem for breakfast ins<br>tead of a plate of sugary pancakes mr",
           0
          ],
          [
           "whatever know you because whatever see y<br>our edits now answer my question have yo<br>u been editing while logged out",
           0
          ],
          [
           "it looks like the same person to me airi<br>est",
           0
          ],
          [
           "did you even read his message before you<br> read my reply using those words",
           0
          ],
          [
           "check out my picture",
           0
          ],
          [
           "democrats in the north though they could<br> elect yellow dogs there is no eagerness<br> shown however among republicans to seek<br> office at this time when democrats can <br>see nothing but certain victory awaiting<br> them whatever could nominate yellow dog<br>s this spring and elect every one upon t<br>he ticket by a big majority said one of <br>the democratic ward statesman today the <br>boast of the democrats that they could e<br>lect yellow dogs in cincinnati has been <br>shown to be as untrue as it what a slut <br>foolish",
           0
          ],
          [
           "reply projects hands are happy hands",
           0
          ],
          [
           "you were warned by inkblot after you beg<br>an adding greater quantities of links to<br> youtube the bot does not warn or take a<br>ction against the first few links you ad<br>d as naturally people do address links t<br>o articles they edit but both wikipedia <br>and the bot records you adding links and<br> once you exceed a threshold you are war<br>ned after each link is added that has wh<br>y some of your edits have the edit notic<br>e repeated addition of external links by<br> non autoconfirmed and that has why ther<br>e are five warning notices from inkblot <br>on your user page this what a slut up to<br> and including a warning that you would <br>be blocked without further warning so no<br> question of first ask questions why did<br> not you ask for assistance before that",
           0
          ],
          [
           "three times as many muslims are in priso<br>n than years ago",
           0
          ],
          [
           "hi from nick hi angela i ve given wiki a<br> wide step the last few months and i am <br>really pleased to see loads of my additi<br>ons edited but at least kept in slightly<br> differing formats that to me is the bea<br>uty of this place anyway hope you are we<br>ll regards user nick boulevard",
           0
          ],
          [
           "collin wilcox actress",
           0
          ],
          [
           "replaceable fair use imageavnercat jpg t<br>hanks for uploading imageavnercat jpg i <br>notice the image page specifies that the<br> image is being used under fair use but <br>its use in wikipedia articles fails our <br>first fair use criterion in that it illu<br>strates a subject for which a freely lic<br>ensed image could reasonably be found or<br> created that provides substantially the<br> same information if you believe this im<br>age is not replaceable please go to the <br>image description page and edit it to ad<br>dress without deleting the original repl<br>aceable fair use template on the image d<br>iscussion page write the reason why this<br> image is not replaceable at all alterna<br>tively you can also choose to replace th<br>e fair use image by finding a freely lic<br>ensed image of its subject requesting th<br>at the copyright holder release this or <br>a similar image under a free license or <br>by taking a picture of it yourself if yo<br>u have uploaded other fair use media con<br>sider checking that you have specified h<br>ow these images fully satisfy our fair u<br>se criteria you can find a list of image<br> pages you have edited by clicking on th<br>is link note that fair use images which <br>could be replaced by free licensed alter<br>natives will be deleted days after this <br>notification per our fair use policy if <br>you have any questions please ask them a<br>t the media copyright questions page tha<br>nk you carl",
           0
          ],
          [
           "as a black person all i hear about is bl<br>acks should die",
           0
          ],
          [
           "locked you might as well just lock it fo<br>r a year because we will probably just c<br>hange it on the foundation",
           0
          ],
          [
           "one of us one of us google ggggchkkk her<br>espade suit",
           0
          ],
          [
           "stop saying cyber hackers oh my god",
           0
          ],
          [
           "seattle far if for a featured article re<br>view here please join the discussion on <br>whether this article meets featured arti<br>cle criteria articles are typically revi<br>ewed for two weeks if substantial concer<br>ns are not addressed during the review p<br>eriod the article will be moved to the f<br>eatured article removal candidates list <br>for a further period where editors decla<br>re keep or remove the article s featured<br> status the instructions for the review <br>process are here best",
           0
          ],
          [
           "personal controversy thanks for telling <br>me",
           0
          ],
          [
           "unlike this page rajinikanth which is sh<br>eer idolatry citations are not needed fo<br>r things that are plain common knowledge<br> in the commander coast",
           0
          ],
          [
           "i like the new red border sorry about th<br>at cheers",
           0
          ],
          [
           "new article hey bogdan i finally decided<br> to create the istro romanians article t<br>oday mostly split off from istro romania<br>n language if you would like to contribu<br>te that would be great thanks",
           0
          ],
          [
           "i still do not understand why bitches at<br> my high school would put on false eyela<br>shes every fucking day",
           0
          ],
          [
           "fastfission i welcome your thoughts on t<br>he article and examples in defense here <br>is some reply to the most telling point <br>and heart of the method the predictions <br>section puts the horse before the cart w<br>atson had already seen the b form photog<br>raph before they thought of proposing th<br>e double helix in watson s double helix <br>memoir he clearly states that he and cri<br>ck had already worked out the mathematic<br>s of the fourier transform of a helix as<br> an x shape they had come upon it with t<br>he tmv tobacco mosaic virus and had alre<br>ady deduced tmv had a spiral shape at th<br>e time of discovery of structure of dna <br>they did not know the orientation of the<br> bases inside or outside the helix which<br> watson deduced by his concrete modellin<br>g of the nucleotide pairs the discovery <br>of structure of dna came after at least <br>according to watson s memoir and watson <br>is still alive to clarify this for us it<br> is a golden opportunity for someone to <br>ask and write down so that whatever can <br>cite but the article clearly states that<br> scientific method is not linear as you <br>have well put it is a horse race between<br> the steps some of which can then be lin<br>earized after the moment of discovery fo<br>r publication i do not mind the adjectiv<br>e lousy in feynman s words english is a <br>lousy language yet whatever somehow mana<br>ge to communicate with it and those of u<br>s who are prisoners of the tongue even a<br>ttempt to think with it as well",
           0
          ],
          [
           "mark my words water wave water wave",
           0
          ],
          [
           "removing images again abu badly if you c<br>ontinue to remove images from the feathe<br>rs page and any other page on wikipedia <br>for that matter you will be blocked i se<br>e this is not the first time you have ru<br>n into trouble with removing content ima<br>ges from wikipedia and if you continue i<br>t then you will be blocked from wikipedi<br>a for good consider this a final warning",
           0
          ],
          [
           "paws i what a slut taught a poem by one <br>of my friends mother who spoke very most<br>ly so you have to read this with a posh <br>shit beggar armhole piss cock fart someo<br>ne stole my horse cart do not give a bug<br>ger i will soon get another shit bugger <br>arsehole piss cock fart did not even now<br> she knew such naughty words i always sm<br>ile when i think about it",
           0
          ],
          [
           "the removal shut up media sodom do kit h<br>appens niu amer sa frendicima nepali ame<br>ri okinawa maltretiraju mus lice you nji<br>hovoj emoji laredo sa shoji nato frendic<br>ima i honda see code loud you nominal an<br>y pise the amer bijou piss off muslimans<br>kim zelma her je to narino newton a had <br>osi pane contra to field soviet bruce mi<br>slim the see amer i nato pouch is studio<br> amalia nevi no idea bill terrorism",
           0
          ],
          [
           "eyes poked out ooh this clock seems to h<br>ave an associated the makers eyes legend",
           0
          ],
          [
           "that sucks plug in the fuck touch bags i<br> can see my new ramp truck having batter<br>ies in it why do not you just put in a r<br>eal large spring in it and wind it up ju<br>st before you to on a tow do you think w<br>hatever will run out of crude oil i do n<br>ot think so the oil companies just be ma<br>king more money and the government is be<br>ing controlled by them fuck heads",
           0
          ],
          [
           "thanks information sounds good",
           0
          ],
          [
           "user request can you please user this ar<br>ticle deleted years ago i want to work o<br>n it",
           0
          ],
          [
           "done you just needed to address a link t<br>o your user page onto the list regards",
           0
          ],
          [
           "great reply except it what a slut trash",
           0
          ],
          [
           "you are soon damn going do not ditch dar<br>k on his special day",
           0
          ],
          [
           "david hare i what a slut thinking about <br>the famous educationist david hare one o<br>f the pioneers of modern western educati<br>on in india and founder of many famous i<br>nstitutions of education such as preside<br>ncy college kolkata and hare school he i<br>s the person referred to buy your link",
           0
          ],
          [
           "a person who stays in a relationship onl<br>y for the benefits it provides manipulat<br>ive leech parasite freeloader sponger mo<br>ocher user sycophant opportunist social <br>engineer exploitive scrounger a taker ca<br>dger shameless narcissist if whatever co<br>nsider that it is criminal to use work a<br>way for the b b business",
           0
          ],
          [
           "finally watching pride and prejudice zom<br>bies",
           0
          ],
          [
           "specification kindly give the specificat<br>ion method of analysis cas number of esl<br>icarbazepine acetate",
           0
          ],
          [
           "i could go with incident but mind reader<br>s know that it is a scandal rather than <br>just an accidental train wreck did not s<br>ome black note questionable use of race <br>man just get of some not cool prison aft<br>er years here is a prediction that be of<br>f topic wikipedia survive being wrong on<br>ce in a while and many of the political <br>pages have off the cuff quoted remarks r<br>eported in the press that he she is the <br>dumbest person alive but what will do wi<br>kipedia dig and has done the blogs in ha<br>s been groups of extremists promoting on<br>e point of view once wikipedia acquires <br>the reputation of having sections being <br>dominated by racists sexists its over no<br>t to mention what is going to happen whe<br>n its known that men who dont believe da<br>te rape should be a crime can influence <br>wikipedia just as they dominate the blog<br>s by speaking up because they are the on<br>ly people who care unsigned",
           0
          ],
          [
           "dozy eyes but feeling so refreshed after<br> some my days away cherished memories la<br>dy it means times",
           0
          ],
          [
           "hmm not really sure what all you are ask<br>ing geomorphology is the study of landfo<br>rms structural geology is the study of s<br>tructures folds faults etc within the ro<br>cks at scales varying from microscopic t<br>o continental now of course they are int<br>errelated essentially landforms are the <br>product of erosive processes on the exis<br>ting structure of the rocks involved and<br> cannot be understood or explained witho<br>ut a good understanding of the geologic <br>structure of the rocks a geologist tryin<br>g to decipher the structural geology of <br>a region begins by studying the clues in<br> the landforms all is related now there <br>is a tendency of some geographers to thi<br>nk that geomorphology is a subdivision o<br>f geography and try to explain landforms<br> without a thorough understanding of the<br> structure petrology and stratigraphy on<br> which the surface landforms develop lan<br>dforms cannot be understood without know<br>ledge of the geology on which they are f<br>ormed now after all that both articles a<br>re in need of improvement as are most wi<br>ki articles so someday someone will work<br> them over hopefully for improvement and<br> maybe i will just does not hold your br<br>eath i does not really see the need for <br>a category link from one category to the<br> other as you have done if whatever foll<br>ow that to its logical end all categorie<br>s would have to have links to all others<br> as they are all inter related and that <br>is an absurd proposition both are subcat<br>egories of category geology are not they<br> rambled enough for now",
           0
          ],
          [
           "i give myself years to make people see i<br> think i ll go into politics here in ice<br>land and do some good",
           0
          ],
          [
           "what you say makes sense to me i what a <br>slut simply documenting in the least int<br>rusive manner i could think of some basi<br>c data that came from mencken s article <br>i left out the fascinating similarity be<br>tween hebrew potter and treasury and the<br> consequent septuagint mistranslation fr<br>ankly i should write an article making m<br>encken s work more accessible it would t<br>ake some pressure off the judas article <br>which is much wider in scope my main pro<br>blem is that i am supposed to spend time<br> doing such things for a living so the p<br>leasure will need to wait for another ti<br>me anyway i see from your edits that you<br> have an insight into the issues and kno<br>w how to present things in neutral as we<br>ll as clear ways frohliche kingston man <br>freud",
           0
          ],
          [
           "it s the old carrot and stick routine",
           0
          ],
          [
           "meh you are probably right i just keep s<br>eeing references to it so i what a slut <br>curious",
           0
          ],
          [
           "grammar list of his supporters includes <br>such famous figures as chess world champ<br>ion garry kasparov should this be a famo<br>us",
           0
          ],
          [
           "tryna be sum body cinnamon apple now i c<br>annot trust any bitch wordsmith in train<br>ing pussy that taste like cinnamon apple",
           0
          ],
          [
           "as well best regards",
           0
          ],
          [
           "i wish he would die of fucking corona",
           0
          ],
          [
           "corecivic found its best interest is to <br>grow us detention capacity for women and<br> children by over expanding the number o<br>f mother child beds from up to this sign<br>als the largest increase in immigrant de<br>tention since world war resisticenashvil<br>le photo julie henry",
           0
          ],
          [
           "if their what a slut fraud it what a slu<br>t allowed happening for months now whate<br>ver were told how it what a slut going t<br>o happen with mail in ballots and no one<br> did anything about it only now some sor<br>t of bloody action is taking place which<br> is waaayyy too late",
           0
          ],
          [
           "wiki project rodents this is a notice to<br> inform interested editors of a new wiki<br> project being proposed at wikipediawiki<br>project council proposals rodents",
           0
          ],
          [
           "what happened to kevin love cars step up",
           0
          ],
          [
           "i had rather spent a year than have to b<br>e forced your lines of bs anyway",
           0
          ],
          [
           "sources this article desperately needs s<br>ources i have removed most of the stuff <br>that would be subjective and left any no<br>t too dubious sounding text in place",
           0
          ],
          [
           "sure go for it talk",
           0
          ],
          [
           "s dunkin donuts what a slut killed when <br>they went to a commissary system the aut<br>omated extruding machines employed by th<br>e company to form its doughnuts could no<br>t handle the handle",
           0
          ],
          [
           "politically correct info abounds needs w<br>ork",
           0
          ],
          [
           "saucy sav ill fuck your girlfriend even <br>if she is a fat ginger with no soul holy<br>l fuck you the english thing i ever did <br>lay eyes on i would not even shit on you<br>r chest woccaisdabombbitch laughing out <br>loud i do not know what to do and i do n<br>ot know costs or anything i am too nervo<br>us to ask dad what do i do tongue sticki<br>ng out cheeky playful or blowing a raspb<br>erry the narwhals bacon you as well shut<br> the fuck up asshole he just snapped tha<br>t kid got made to look bad ci anal i wan<br>t that disc pleeeeaaassseeeee can you pu<br>t that sauce on your fries shove them up<br> your ass teletubbies",
           0
          ],
          [
           "groping hi i just want to thank you for <br>your recent contributions to the article<br> on frotteurism i have a long personal i<br>nterest in groping and i hope to improve<br> these articles for others like me thank<br>s again peter k human groping enthusiast",
           0
          ],
          [
           "that sucks the host just decided to end <br>service its really stupid companies can <br>just do that to a customer who pays as t<br>hey not like what said customer does say<br>s hopefully rufus will not have to deal <br>with that shit again",
           0
          ],
          [
           "windows xp vista and all have separate a<br>rticles for their editions but i am a li<br>ttle unsure on writing an article for th<br>e editions of pre release software talk",
           0
          ],
          [
           "i saw a story on this and it what a slut<br> proven that he donates his check one of<br> his own charities that charity then div<br>ides up the money in which it is funnele<br>d right really think this greedy sob wou<br>ld give away his money fuck trump getthe<br>fuckoffmyplane",
           0
          ],
          [
           "that buster case again hi tim do you rem<br>ember this check user case i have just b<br>een looking over it again while discussi<br>ng it with someone else and i noticed th<br>at you said in that thread at thirty one<br> that you called for a check partly beca<br>use an account that what a slut a admitt<br>ed alternate account what a slut showing<br> a strong antipathy to science apologist<br> and the first edits this account made w<br>ere to talknon standard cosmology this r<br>aised the immediate suspicion in my mind<br> that this what a slut a sock which i no<br>ted in my check user request and iantres<br>man what a slut the user that i suspecte<br>d most strongly of being the sock master<br> the thing that puzzles me here is that <br>you said none of this at the actual requ<br>est for check user see wikipediarequests<br> for check user case buster you mentione<br>d that buster what a slut an alternate a<br>ccount but you did not mention at the ch<br>eck user your concerns about the antipat<br>hy to science apologist or the edits to <br>talknon standard cosmology or your suspi<br>cion that it might have been a sock of i<br>antresman you just said both be sock pup<br>pets of another what a slut there a reas<br>on for not stating your suspicions in fu<br>ll the only reason i can think of is tha<br>t you were not quite sure with hindsight<br> i think detailing your suspicions in fu<br>ll would have been helpful certainly if <br>you had said at the check user what you <br>later said at ani i would not have objec<br>ted to the check user",
           0
          ],
          [
           "i am so over the instant restaurants mr",
           0
          ],
          [
           "retweet pervert jets bring guests to dav<br>os to talk global warming ahhhhh the swe<br>et smell of hypocrisy naked emperors htt<br>p",
           0
          ],
          [
           "sadly phil hardy did indeed die earlier <br>this week i am a family friend and forme<br>r colleague i am not sure what kind of c<br>itation you are looking for",
           0
          ],
          [
           "could you then lend me a helping hand so<br> that i can keep writing and expanding c<br>rucial essential articles for wikipedia <br>how am i going to help take all this gas<br> pollution from mother earth then help o<br>ur children",
           0
          ],
          [
           "amber taylor forever amber taylor foreve<br>r heart suit heart suit heart suit heart<br> suit heart suit heart suit heart suit h<br>eart suit heart suit",
           0
          ],
          [
           "edit request on email address for giant <br>snowman please",
           0
          ],
          [
           "how come you have not taken similar acti<br>on against useritaqallah who started thi<br>s by attacking article of my faith by pu<br>tting his povs he also called me names w<br>hich i did not why did you punish the re<br>action and not the action",
           0
          ],
          [
           "awarding barn star style solid gray back<br>ground color row align row style size x <br>large padding vertical align middle heig<br>ht the barn star of good humor style ali<br>gn middle border top solid gray aprils f<br>ools day what a slut a blast loads of us<br>ers lightened up to have good old fashio<br>n fun i want to thank you for taking par<br>t in editing in particular and even thou<br>gh i not know you embrace the same talk <br>pages or even edit with you in the near <br>future i would like to award you this ba<br>rn star for making wikipedia a fun envir<br>onment in which to contribute until next<br> year",
           0
          ],
          [
           "your credit at least you are honest when<br> you do not decipher",
           0
          ],
          [
           "please explain based on and yours for no<br>w i have fully protected casanova i grad<br>iska star ante strategic peter brick jun<br>o milos and magnum crimes for one month <br>all on the wrong version i am sorry i ca<br>nnot help with check user but hopefully <br>it will give us all a break it seems tha<br>t there is always some childish point of<br> view edit war going on around these sub<br>jects and i have a huge sympathy and res<br>pect for those neutral uninvolved editor<br>s who work in these areas regards eyeser<br>enetalk please explain what exactly you <br>are protecting here and why what is the <br>childish point of view edit war here for<br> each article counted above explain on i<br>ts talk page what is childish pov there <br>support it by valid knowledge of each su<br>bject",
           0
          ],
          [
           "somebody examines this goof s censorship<br> of blearier shall we what is his paid m<br>otivation after all these many months",
           0
          ],
          [
           "colin still has not washed his hair mr",
           0
          ],
          [
           "just read what the muslim brotherhood pr<br>esidential candidate a few days brotherh<br>ood christians should convert pay tribut<br>e or leave dot org egypt christians conv<br>ert pay tribute leave",
           0
          ],
          [
           "welcome hello and welcome to wikipedia t<br>hank you for your contributions i hope y<br>ou like the place and decide to stay her<br>e are some pages that you might find hel<br>pful introduction the five pillars of wi<br>kipedia how to edit a page help pages ho<br>w to write a great article manual of sty<br>le i hope you enjoy editing here and bei<br>ng a wikipedia please sign your name on <br>talk pages using four tildes which will <br>automatically produce your name and the <br>date if you need help check out wikipedi<br>aquestions ask me on or place on your ta<br>lk page and ask your question there agai<br>n welcome your recent edits to sarah jez<br>ebel devi removed sourced content withou<br>t explanation in addition you added cont<br>ent without giving any sources some of t<br>he content you added what a slut your ow<br>n subjective assessment e g very approac<br>hable and some of it what a slut promoti<br>onal e g join her online unfortunately t<br>his means that your editing came into co<br>nflict with several of wikipedia s guide<br>lines and has been reverted i strongly r<br>ecommend looking at the guidelines on re<br>liable sources neutral point of view and<br> what wikipedia is not before editing th<br>e article again also please do feel welc<br>ome to take up the offer above of contac<br>ting me on my talk page if you want help",
           0
          ],
          [
           "soapboxing this is obviously not soap bo<br>xing right or is it just because you do <br>not oppose said comments",
           0
          ],
          [
           "i what a slut reading news on interim fe<br>w minutes ago and look what i found in t<br>he name of their god hyper text transfer<br> protocol fatty interim parent looking v<br>alerie byc one million one hundred and s<br>ixty thousand nine hundred and seventy n<br>ine",
           0
          ],
          [
           "similar in the uk really the current exc<br>ellent crop of riders are the first gene<br>ration we have had for a while compared <br>to super bikes and super stock etc",
           0
          ],
          [
           "can i ask if you can look into this ip s<br> edits to see if it could be yet another<br> sock of therealcableguy thanks talk to <br>others",
           0
          ],
          [
           "admin please check recent edit history t<br>o see the unfair pattern of edit warring",
           0
          ],
          [
           "queries about entries is the miles canyo<br>n historical society this",
           0
          ],
          [
           "i did no such thing i reverted you pov p<br>ushing deletion of sourced content",
           0
          ],
          [
           "the only one who cares that it means coo<br>l a k a islam is used is your glorious l<br>eader with the limited vocab never ump",
           0
          ],
          [
           "using this page has a better view why do<br> you insist on vandalizing this article <br>why until now you do not answer what is <br>the problem that you have with me why yo<br>u asking your friends to change this pag<br>e for you why do you not delete the info<br>rmation that someone wrote in the articl<br>e too what is your problem",
           0
          ],
          [
           "you do not have to acknowledge two urban<br> centers only acknowledge that boston is<br> no cultural or business head up butt fo<br>r ct put away your pride and go back to <br>this the new england region of the unite<br>d states is located in the northeastern <br>corner of the country boston is its most<br> populous city and the business and cult<br>ural head up butt for all but the connec<br>ticut which is oriented toward new york <br>city new england is made up of the follo<br>wing states it is simple and keeps your <br>point while only changing one line inste<br>ad of the whole article what you or whoe<br>ver wrote what a slut where are you wors<br>e and far more complex it made a simple <br>change into a major problem all because <br>of pride in the form of new england fund<br>amentalism",
           0
          ],
          [
           "response i understand that better now bu<br>t you also broke some rules dan you shou<br>ld have noticed i what a slut a new edit<br>or here are the rules for your old hands<br> in regard to dealing with new hands lik<br>e myself polite and welcoming to new use<br>rs let us just say i have had better wel<br>comes lol otherwise all points well take<br>n",
           0
          ],
          [
           "minority front do you have a source for <br>your edit that roy bhopal is now the min<br>ority front leader",
           0
          ],
          [
           "heritage from village in macedonian sour<br>ces claim that the village what a slut p<br>ure slavic",
           0
          ],
          [
           "heading out to cheer on tonight up for b<br>est deputy at the bsmerisingstars",
           0
          ],
          [
           "oh you mean the euro ncap links from wha<br>t i can see on the toyota prius page tho<br>se are staying they are not over linking<br> at all take your disagreement to the au<br>toclub page where this is being discusse<br>d before changing again thanks",
           0
          ],
          [
           "as i recall that what a slut exactly wha<br>t i suggested years ago see above when i<br>nsisted the supremacy thingy needed to r<br>emain while selectively deleting the oth<br>er section gnothi season",
           0
          ],
          [
           "awww this sellout nigguh still talking",
           0
          ],
          [
           "the principles of stoicism are fucking s<br>tupid",
           0
          ],
          [
           "to all time snow breaking news",
           0
          ],
          [
           "wikipedia edition class align style both<br> align wikipedia meditation you re invit<br>ed to the upcoming wikipedia meditation <br>scheduled for from in old town sponsored<br> by wiki strategies and prichard communi<br>cations the event will begin with an int<br>roduction to wikipedia followed by an ed<br>it a thon focused on portland s food sce<br>ne all things that portland and local st<br>artup businesses details and signup here<br> hope to see you there",
           0
          ],
          [
           "career edam tally a tag has been placed <br>on career edam tally requesting that it <br>be speedily deleted from wikipedia this <br>has been done because the article seems <br>to be about a person group of people ban<br>d club company or web content but it doe<br>s not indicate how or why the subject is<br> notable that is why an article about th<br>at subject should be included on wikiped<br>ia under the criteria for speedy deletio<br>n articles that do not assert notability<br> be deleted at any time please see the g<br>uidelines for what is generally accepted<br> as notable and if you can indicate why <br>the subject of this article is notable y<br>ou contest the tagging to do this addres<br>s on the top of the page below the exist<br>ing database tag and leave a note on the<br> article s talk page explaining your pos<br>ition please do not remove the speedy de<br>letion tag yourself but do not hesitate <br>to address information to the article th<br>at would confirm its subject s notabilit<br>y under the guidelines for guidelines on<br> specific types of articles you want to <br>check out our criteria for biographies f<br>or websites for bands or for companies f<br>eel free to leave a note on my talk page<br> if you have any questions about this",
           0
          ],
          [
           "you want it to be styled of at republic <br>of ireland and of here that makes no sen<br>se",
           0
          ],
          [
           "calling those backstabbers snakes is fan<br>tastic such a lovely descriptive term th<br>ey are not to be trusted",
           0
          ],
          [
           "so all i do now is hook big brown trout <br>then lose them this one what a slut salm<br>on sized white river arkansas",
           0
          ],
          [
           "proud of paramilitary forces and proud o<br>f dhoti dhonikeepstheglove",
           0
          ],
          [
           "mexico a regional power i do not agree t<br>hat mexico is a regional power at least <br>of latin america it could be a regional <br>power of central america but nowadays it<br> is considered to be part of north ameri<br>ca in the other areas of the world the a<br>rticle is divided between east west nort<br>h south not between ethnic or language g<br>roups if this what a slut the case in eu<br>rope it could be considered latin german<br>ic slave and even anglo saxon groups if <br>whatever consider this in the americas c<br>ase it should be south america and not l<br>atin america second case mexico has a gr<br>eat gdp but in overall terms gdp is not <br>the only factor whatever should consider<br> military power projection and foreign p<br>olicy mexico has a ridiculous military a<br>nd projection power and politically is a<br> subalterns nation to the united states <br>of america argentina venezuela or colomb<br>ia have greater military and power proje<br>ction capabilities historically they hav<br>e been much more interventions and aggre<br>ssive toward other nations than mexico a<br>nd today whatever can see the same speci<br>ally in venezuela case personally i agre<br>e with you but you need sources to say i<br>t this encyclopedia is not a place for o<br>riginal research furthemore editors have<br> produced sources saying mexico is a reg<br>ional power of latin america if whatever<br> change it to south america there would <br>be no place in with to put mexico beside<br>s brazil s influence is not restricted t<br>o south america it would not make sense <br>to say it is restricted since the source<br>s does not agree",
           0
          ],
          [
           "hate still alive and well i see hater or<br>landounited",
           0
          ],
          [
           "arbitration requests enforcement there i<br>s currently a discussion at arbitration <br>requests enforcement john carter regardi<br>ng an issue with which you are involved <br>thank you",
           0
          ],
          [
           "katandandre horrible horrible people if <br>the only where are you you can win is by<br> cheating you will not last long at all <br>mr",
           0
          ],
          [
           "ostoja je not applicable prague movie ni<br>ke esme the nas bike hahaha",
           0
          ],
          [
           "as for mr assault he seems to be a real <br>person with a twitter feed a linkedin pa<br>ge and an instagram feed so are you sati<br>sfied he is a real person",
           0
          ],
          [
           "i am trying to come back as a fine ass b<br>itch next lifetime",
           0
          ],
          [
           "prashant desi shirt india prashant desi <br>b eng civil a i e pgdms mcmi london is t<br>he london based engineer working with ra<br>ilways and grandson of ahriman radar dis<br>array desi also scion of the shirt based<br> gharge desai deshmukh family which once<br> hold various assets from sahara in maha<br>rashtra to bitter in karnataka",
           0
          ],
          [
           "i am sorry if i did not do that can you <br>say where",
           0
          ],
          [
           "again a personal assertion with no relia<br>ble sources backing it up would it help <br>maybe if i gave you examples of reliable<br> sources that question the dh",
           0
          ],
          [
           "acting like an animal show s nothing",
           0
          ],
          [
           "fits with the old paradigm of women in o<br>ur culture as the madonna or the whore p<br>articularly in popular culture",
           0
          ],
          [
           "i understand that a message has been sen<br>t asking for the worms page to be correc<br>ted but these things take time",
           0
          ],
          [
           "what do you mean by plenty you have not <br>clarified that",
           0
          ],
          [
           "quote the american people ever allow pri<br>vate banks to control the issue of their<br> money first by inflation and then by de<br>flation the banks and corporations that <br>will grow up around them around the bank<br>s will deprive the people of their prope<br>rty until their children will wake up ho<br>meless on the continent their fathers co<br>nquered thomas jefferson",
           0
          ],
          [
           "thanks for your explanation good luck wi<br>th fixing the problem",
           0
          ],
          [
           "first i have told to many pages from the<br> first day that the account is coming fr<br>om an office that giorgis works and that<br> is giorgis that told me of what is goin<br>g on here in relation with the discrimin<br>ation personal attacks enforcement of an<br> anti cypriot propaganda deleting all ed<br>its that do not follow this anti cypriot<br> propaganda despite their well sourced e<br>vidence the double standards in blocking<br> the blocking of anyone that is basicall<br>y not following a specific anti cypriot <br>agenda on the matters of cyprus after a <br>war edit by a specific team the same tea<br>m that is trying to enforce its own agen<br>da on cyprus matters and trying to block<br> anyone else from editing propaganda tac<br>tics e t c everything has to do with a d<br>iscrimination the effort to dictate pers<br>onal attacks and the effort to enforce a<br>n anti cypriot propaganda on cyprus seco<br>nd giorgis is not writing on wikipedia a<br>nymore so he has no active account third<br> as i see all the things that giorgis is<br> saying are true you can block the accou<br>nt and you can block it forever if you p<br>lease i will take the matter to the high<br>est levels and whatever will speak from <br>there i will give all the names and all <br>the evidence necessary and i if i do not<br> see anything happening you will see all<br> the users involved in this in popular n<br>ewspapers and news portals and often exp<br>laining exactly what happened what is ha<br>ppening and what is going on with eviden<br>ce evidence matters to the rest of the w<br>orld in contrast with here",
           0
          ],
          [
           "utc a hoax is an attempt to deceive some<br> creators were careful to work in the mi<br>ddle of the night and leave no footprint<br>s etc apparently to deceive the gullible<br> into believing no humans created the ci<br>rcles but some we will call them sneak a<br>round to avoid being caught but have no <br>intention to influence public opinion th<br>ey just want to impress their drinking b<br>uddies next time they will tie underwear<br> to the top of a flagpole finally there <br>are artists and geometer who are trying <br>to create beauty if whatever do not want<br> to differentiate between these groups l<br>et us refer to",
           0
          ],
          [
           "ahhhh will do",
           0
          ],
          [
           "perhaps you could kindly show all of us <br>where it means cool a k a appears in wpn<br>ewsorg red pen craze name craze guy",
           0
          ],
          [
           "vic works a double tomorrow",
           0
          ],
          [
           "grammar made a few grammar changes to th<br>e page which what a slut sorely mistyped<br> with too many colons semicolons being u<br>sed wrong etc also what a slut wondering<br> where whoever added it got the informat<br>ion on sunspot being lord imperial i doe<br>s not recall seeing that in the comic",
           0
          ],
          [
           "i have to agree i just took a look at th<br>e page and realized that whatever have w<br>here are you too many photos and are mis<br>sing at least one key type wrestling i a<br>m going to work on cleaning up the photo<br>s starting tonight unless somebody wants<br> to get started sooner",
           0
          ],
          [
           "gde ja team izvinite ali nisan okapis",
           0
          ],
          [
           "phil aronofsky portrait of a sad young m<br>an you deleted this page despite it bein<br>g well sourced from a personal statement<br> by the producer of the film on the refe<br>renced page said producer listed four up<br>coming projects wiki lists three of them<br> why not the fourth do whatever have a r<br>ight to pick and choose please explain w<br>hy you deleted a page that what a slut n<br>ot an attack but an explanation of the g<br>uy s films when pages for his other thre<br>e films are not deleted and please do so<br> now in haiku",
           0
          ],
          [
           "references as some have probably noticed<br> i am trying to do a little work on the <br>references in this article in their curr<br>ent form they are not particularly usefu<br>l since they just give the author s last<br> name date and page numbers putting them<br> in the hard templates creates an intern<br>al link to the full citation in the refe<br>rences section below i noticed that many<br> of the references are already in a harv<br>ard like format already and it looks alm<br>ost like they were in hard templates but<br> that the templates got subset d at some<br> point does anybody know anything about <br>the history here",
           0
          ],
          [
           "unkindest you could probably strike that<br> too though i kind of like the idea of e<br>jecting someone from the planet it what <br>a slut made when i what a slut upset and<br> really wanted him ejected from the plan<br>et talk",
           0
          ],
          [
           "i really do not know what happened i do <br>not know why they changed again expectat<br>ions",
           0
          ],
          [
           "if you look carefully whatever state tha<br>t the is the date of baptism there is no<br> evidence that is his birthdate that is <br>just something someone made up based on <br>the near coincidence of his date of deat<br>h with his date of baptism they thought <br>it would be nice if his birthdate matche<br>d his death date so they claimed it what<br> a slut so but in the absence of evidenc<br>e we are certainly not going to elevate <br>this irony to fact by putting it in the <br>article",
           0
          ],
          [
           "spirit of the plains not sure how this f<br>its in the discography but spirit of the<br> plains is the title of a composition fo<br>r flute by whitwell and it appears on an<br> eponymous cd collection of flute music",
           0
          ],
          [
           "what if cisp bill became discharger viru<br>s google facebook and others cannot prom<br>ise our privacy but instead infect all o<br>ur computers filled with devastating vir<br>uses that government cannot handle them <br>insead they spy our information like vir<br>uses whatever get infected as soon as it<br> gets too contagious what about noor nuc<br>lear missile to interfere cisp with kim <br>jong un",
           0
          ],
          [
           "congratulations nashville fans whatever <br>did it whatever broughtbacknashville boo<br>hoo thank you i could not be more",
           0
          ],
          [
           "i passed by a group of black men and the<br>y look like my black rat",
           1
          ],
          [
           "entire unarmed innocent yezidi families <br>were slaughtered and enslaved by isis so<br> shut up hypocrite",
           1
          ],
          [
           "someone get mongol me today",
           1
          ],
          [
           "now trump has to look for an even more e<br>vil guy to replace him draining the swam<br>p",
           1
          ],
          [
           "retweet this is not sexist but i cannot <br>handle women announcers i am about to mu<br>te the television dukevsunc",
           1
          ],
          [
           "stop removing my edits you vagina",
           1
          ],
          [
           "genoside all muslims",
           1
          ],
          [
           "fuck you you fucking skank what did you <br>say i said i cant wait to own a fishing <br>tank",
           1
          ],
          [
           "ma ok same pise unit arcane i dove ali i<br> muslimize see any pridrzavaju some ajar<br> a ti had prestates prat guice sa room s<br> room cedes honda oh never more private <br>poturico",
           1
          ],
          [
           "fuck all syriac nation qamishli belong t<br>o armenian and whatever will fuck all sy<br>riac people if they will say no",
           1
          ],
          [
           "happy birthday traitor johnmccainday tru<br>mpisatraitor",
           1
          ],
          [
           "all women are good at are spreading goss<br>ip and their legs",
           1
          ],
          [
           "fact radical comic creator is written wi<br>th real basic you have argued against th<br>is fact please go to the project page on<br> github and see for yourself fact undue <br>has now consumed worth of time has begge<br>d for additional money for hardware and <br>has not delivered on his promise yet fac<br>t you think that i am an ignorant hillbi<br>lly though you frequently insert symbols<br> into your responses and use improper nu<br>merology when describing a number you ha<br>bitually forfeit grammar and partially f<br>orm words in addition to that your strea<br>m of consciousness is a collection of po<br>orly constructed sentence fragments in s<br>hort your english sucks penis fact you t<br>hink that the internet is the only place<br> where you have freedom of speech i am o<br>n the internet and i am in america and i<br> just said whatever the fuck i wanted to<br> i implore you to argue these facts dire<br>ctly",
           1
          ],
          [
           "please retweet video that sparks outrage<br> white officer arrested black mother aft<br>er littering argument",
           1
          ],
          [
           "he is annoyed because he realized his mu<br>tt baby will not look anything like him <br>and he lashed out psycho",
           1
          ],
          [
           "i would not eat food that has been touch<br>ed by a black person",
           1
          ],
          [
           "you better shut up telling me stop vanda<br>lizing wikipedia and i will come over to<br> your location and hit you if you tell t<br>his to me again",
           1
          ],
          [
           "remember this is the same bitch that wha<br>t a slut on fox news saying rape culture<br> what a slut an attack on young men it s<br> her pussy be",
           1
          ],
          [
           "this is twitter not only are you a fag b<br>ut you are also retarded",
           1
          ],
          [
           "i will kill you fucking twat i will shov<br>e a knife through your heart bold text",
           1
          ],
          [
           "netko tko je human rema via an any selec<br>tion rema some i karo miss you odgovara <br>pomona goodbye folio mogul via i glaucom<br>a you africa i bosnia you rh i izbjeglic<br>ama sa ratio podrucja ja nisan gpa ali v<br>i ste definition nekulturni i neintelige<br>ntni",
           1
          ],
          [
           "fuck immoral liberal values if you want <br>to be overrun with homos vote for them",
           1
          ],
          [
           "herrrmieeeess should be banned from scho<br>ols",
           1
          ],
          [
           "fuck off you zionist who are piece of sh<br>it",
           1
          ],
          [
           "the see includes ako is normal an sto bi<br> bill ada bi made it ate oak demostriral<br>i mame i made image i regulate a to so m<br>i mi a kobe regulate image osi jebivjetr<br>i using joke i popljuvano medjunozje fac<br>e with tears of joy",
           1
          ],
          [
           "there are two types of people in this wo<br>rld people i actually respect and cranni<br>es",
           1
          ],
          [
           "dude you are an idiot alabama did not pl<br>ay wsu",
           1
          ],
          [
           "the wage gap is debunked lie and rain sa<br>ys rape culture is fairy tale that distr<br>acts from stopping real rape",
           1
          ],
          [
           "kiss harder mark and you might get a job<br> in with the other jokers in the cabinet<br> locktrumpup impeachmentinquirynow impea<br>ch trump impeachable impeachmnuchin trum<br>pisatraitor",
           1
          ],
          [
           "hmmm doesn t fit trump s profiling descr<br>iption of being mexican muslim black for<br>eign or from a",
           1
          ],
          [
           "remind me when i said fiction reality do<br> not you have a feminist tumblr account <br>to rant on",
           1
          ],
          [
           "i did not mean to be a shithead about it<br> i what a slut in a awful mood that day <br>because i had like people threaten to ba<br>n me that day over stupid shit really i <br>am thinking about reverting it back beca<br>use i does not really care i what a slut<br> just mostly being a smart ass figured s<br>omeone would revert it back because ever<br>yone on here is a touchy asshole",
           1
          ],
          [
           "that would be you dear ann the most hyst<br>erical woman dessicated harpy",
           1
          ],
          [
           "fuck you afro american",
           1
          ],
          [
           "koji devil pa nearer verona an interesan<br>tna like pupils see ok nekadasnje jamie <br>dali luciano ill",
           1
          ],
          [
           "i know a lot of asians who have raped wo<br>men",
           1
          ],
          [
           "the only thing that is churning is my st<br>omach at the thought of you two girls vo<br>m mr",
           1
          ],
          [
           "retweet i fell safer if a male is drivin<br>g instead of a female nonsexist just hon<br>est",
           1
          ],
          [
           "hey there is like guy on tie that is ok <br>ironic shit that is hot as fuck i am jus<br>t saying i am a faggot for that dude",
           1
          ],
          [
           "the jews had the romans murder jesus for<br> them by falsely accusing jesus and by t<br>urning down a chance to pardon jesus",
           1
          ],
          [
           "my nigger lion heart i wish you god forw<br>ard ever back ward never man me say",
           1
          ],
          [
           "is there no other platform they can us",
           1
          ],
          [
           "what bella thorne is doing is literal pr<br>ostitution just because there is a scree<br>n in between does not mean it has not se<br>xed she is just mass fucking thousands o<br>f men at a time via century technology o<br>nlyfans means there have been no bigger <br>literal whores since the dawn of mankind",
           1
          ],
          [
           "this is useless and should no longer exi<br>st because you cannot teach immigrants a<br>nything",
           1
          ],
          [
           "you sodomites really know how to stick t<br>ogether yeah i never met one who what a <br>slut not significantly emotionally distu<br>rbed oh they can function and prosper in<br> society but when the center of your lif<br>e is your perverted sex you are emotiona<br>lly disturbed and after looking at your <br>user page are no different people like y<br>ou should and someday will be destroyed <br>it will be a glorious day by the way i r<br>otate internet protocol addresses about <br>every days keep on sucking ps have you e<br>ver thought about putting a gun to your <br>head and giving your life to jesus i kno<br>w i could not go through life day to day<br> looking in the mirror at that vile dege<br>nerate looking back at me",
           1
          ],
          [
           "the see rate dale je dos la tame nice ak<br>a ali newton hvo monaco nice deck rumors",
           1
          ],
          [
           "what do you expect from a man that claim<br>s he is the christ vicariously he is a l<br>iar and the leader of liar s serving his<br> father the author of all lies",
           1
          ],
          [
           "well you just lost all credibility when <br>you said you were a student of limbaugh <br>university now you are just a person who<br> deliberately stirs up trouble nobody ca<br>res what you think or say you are being <br>flagged every time you post one of your <br>degrading comments enjoy while it lasts",
           1
          ],
          [
           "wow asking someone his nationality is ra<br>cial do not you think you need to grow u<br>p then in that case every author writing<br> article on your bloody jihad would be a<br> hero and every american who were killed<br> are fools for me you all are the same i<br> will not see a pen in your hand it will<br> be some freaking gun or grenade",
           1
          ],
          [
           "i am as a mother in law i will not accep<br>t my barren daughter in law",
           1
          ],
          [
           "retweet i will be sure to ask my girlfri<br>end if she gives a damn",
           1
          ],
          [
           "go ahead report a reply on your discussi<br>on page as vandalism look like a fool fe<br>el free",
           1
          ],
          [
           "i would love it if all children shot the<br>mselves",
           1
          ],
          [
           "yes why is it not closed down and everyo<br>ne in it deported they are not our frien<br>ds invaders who do not assimilate into o<br>ur country time for them to go buildthew<br>all indiana boycott boycotting lockthema<br>llup",
           1
          ],
          [
           "waiting on this wetback sycksyllables",
           1
          ],
          [
           "yes it is all because of the jews i hate<br> you jews for making a ruined culture wh<br>ere anyone can live in peacefully it s t<br>he jewess",
           1
          ],
          [
           "how can these reality television program<br>s start allowing this vermin on their sh<br>ows they are even warning their pork hat<br>ing contestants about the negative aspec<br>ts of fame and believe all of them that <br>are embarking on social media as a busin<br>ess should be educated fuck no let peopl<br>e see them for what they really ar",
           1
          ],
          [
           "sure it was i asked mr hawkins why whate<br>ver you allowed to continually call othe<br>rs pedophiles and he banned your ass i c<br>an provide the email copy if you like do<br> not be a pussy and deny it",
           1
          ],
          [
           "some jews are actually not so tight",
           1
          ],
          [
           "i have been around my fair share of dead<br> bodies and it is not so much seeing one<br> it is the where are you they smell they<br> can get so ripe that you can practicall<br>y taste them it is a horrible smell like<br> muslims you will never forget and some <br>are worse than others",
           1
          ],
          [
           "spiff sucks cocks all day long",
           1
          ],
          [
           "antifa gets a pass",
           1
          ],
          [
           "asian people are vile",
           1
          ],
          [
           "what does the opposite of love that is h<br>ow i feel about apes",
           1
          ],
          [
           "i am a huge fan of those fairies that st<br>ill pretend us to treat them like they a<br>re normal laughing my ass off",
           1
          ],
          [
           "i do not want any sikhs living near me",
           1
          ],
          [
           "the indigenous deserve to be kept in squ<br>alor dirt with dogs for the rest of thei<br>r gross fucking lives",
           1
          ],
          [
           "i kindly invite all muslims to leave our<br> country",
           1
          ],
          [
           "as im sure he is advising everyone must <br>evacuate face with rolling eyes",
           1
          ],
          [
           "illegals are dumping their kids here is <br>oh they can get welfare aid and u s scho<br>ol ripping off u s taxpayers sendthembac<br>k stop allowing illegals to abuse the ta<br>xpayer immigration via",
           1
          ],
          [
           "retweet girls should know guys overprote<br>ctive with his thing especially his girl<br> he does not like sharing",
           1
          ],
          [
           "no i am not wrong no you do not leave th<br>em the where are you they are no it what<br> a slut never decided to be left alone i<br>n break no you are not keeping pages as <br>they are but yes you are going around bu<br>llshit for no a lot",
           1
          ],
          [
           "foreigners are so amazingly incredibly a<br>ngry",
           1
          ],
          [
           "fuck you whores i will always come back <br>again and again to fuck you bitches up h<br>ahahaha",
           1
          ],
          [
           "i love how ignorant the chinese are",
           1
          ],
          [
           "the poisonous ideology of political corr<br>ectness has resulted in the mass rape an<br>d torture of children in rotherhamand co<br>untless other towns and cities across th<br>e uk and europe by these boat jumping mu<br>zzies",
           1
          ],
          [
           "i do not believe i or anyone living toda<br>y brought you here or wanted you here",
           1
          ],
          [
           "illegal alien repeatedly raped two girls<br> ages and less than death penalty will n<br>ot be justice served buildthewallnow dep<br>ortthemall bansanctuarycities keepchildr<br>ensafe keepamericasafe",
           1
          ],
          [
           "i will not spend a penny fixing this fuc<br>king useless clinching made television",
           1
          ],
          [
           "jewish people should be eliminated",
           1
          ],
          [
           "pogledaj is mmu mobileye kola team effor<br>t illegal sta team effort niu kabuki had<br> is see illegal piercing proverb is spea<br>k jet ti not applicable majesty hahaha p<br>iercing",
           1
          ],
          [
           "hi nerd would you please explain why wha<br>t i wrote is disruptive but is also the <br>artificial intelligence personality of i<br>ndia in the renowned game age of empires<br> iii the asian dynasties are you going t<br>o tell me that age of empires iii is mor<br>e culturally relevant than matt greening<br> or this final base s the miniaturist th<br>e story revolves around a young painter <br>during akbar s time who paints his own v<br>ersion of the akbarnama none of that is <br>cited it is much less relevant than and <br>is how do i insert the akbar and jeff re<br>ference without getting a million angry <br>nerds on my ass",
           1
          ],
          [
           "fuck you funny how a wikipedia article i<br> tried to create is now an actual articl<br>e",
           1
          ],
          [
           "which is why its awesome that kavanaugh <br>didnt shake that gun control dads hand s<br>orry for kid what a slut killed by a gun<br> but its not the future judges fault it <br>happened oh my god white people in citie<br>s are silly",
           1
          ],
          [
           "baltom you cell ne mam poem zeist take b<br>oles tine objavljujete pa zar any visit <br>momentary the see loud aracaju not appli<br>cable team effort spoke jebla was markka<br> i vi skua sa ovid retardinjosima nu",
           1
          ],
          [
           "truthfulness is a concept with which rom<br>an cannot be associated",
           1
          ],
          [
           "why and how are africans sub human pleas<br>e explain ok here it goes even when they<br> dominate all our sports they dominate m<br>usic they even have dominated the highes<br>t position in the country they are where<br> are you dumber than whites that is it",
           1
          ],
          [
           "mr lulu your screed statement latest dai<br>ly is a bit over the top you sound like <br>a partisan point of view pusher instead <br>of a npov editor such a salacious statem<br>ent shows your lack of knowledge of it m<br>eans cool a k a for the record proper us<br>age is i question your temperament to ed<br>it on such a politically charged article<br> a note to mr anonymous since no one kno<br>ws your agenda other than your partisan <br>picture shrine on your homepage are an a<br>dult willing to play by real world rules<br> or are just a child playing these dumba<br>ss games calling question lulu s tempera<br>ment to edit responsible considering his<br> her partisan temperament and basic unde<br>rstanding of the very words which lulus <br>like to use is not to bad wikipedia and <br>it is admins behave as little children i<br>nstead as responsible adults",
           1
          ],
          [
           "i would not want my daughter to marry a <br>sophie",
           1
          ],
          [
           "just because you have money and connects<br> mean not guilty trick ass bitch you jus<br>t become a vagina who",
           1
          ],
          [
           "wikipedia does not know what the hell th<br>ey are doing if you did not know this or<br> not bridget mender had nothing to do wi<br>th this film if i see her name placed on<br> this page again i am shutting this enti<br>re website down this would not be the fi<br>rst mistake made by wikipedia countless <br>has been spotted by me if you did not kn<br>ow this already almost of information on<br> wikipedia org is incorrect or untrue i <br>am watching and will shut this thing dow<br>n with my eyes closed you bunch of hog s<br>ucking clowns",
           1
          ],
          [
           "not aimed at you",
           1
          ],
          [
           "why are disabled people so dumb",
           1
          ],
          [
           "this nigga is on snap fucking a bitch wh<br>ile she s sucking somebody else s penis <br>face with tears of joy face with tears o<br>f joy face with tears of joy brother",
           1
          ],
          [
           "happy johnmccainday thought i what a slu<br>t going to say birthday huh fuckyourbirt<br>hday fuck trump yourmomshouldveswallowed<br>you",
           1
          ],
          [
           "they let me down when they stopped selli<br>ng spic nuggets",
           1
          ],
          [
           "how are you impartial when you only addr<br>ess negative information thinly and bias<br>ed sourced refuse to compromise with rea<br>sonable changes in language and removal <br>of some of the least reliable and more s<br>landerous and unfair sections you can af<br>ford to be unanimous none of your additi<br>ons are allowed to be altered none of yo<br>ur additions are permitted to be altered<br> no one else s interpretation is allowed<br> to temper the very negative and unfair <br>characterization of this man i can see h<br>ow you look at your own creation and pro<br>nounce it good you even have compliant m<br>ods who will lock the page to preserve a<br>ll your pet partisan points as said abov<br>e you are just absolutely right and beut<br>ler and everyone else is just absolutely<br> wrong on every single issue on ever sin<br>gle entry the point about is irrefutable<br> this article exists only to hang as man<br>y libels of doug faith as partisan edito<br>rs can dredge up no matter if they are a<br>nonymously sourced or not it s against b<br>lp and any fair minded mod would remove <br>at least of those very poor sources and <br>quotes",
           1
          ],
          [
           "funny i compare pedophiles and their pro<br>tectors to satan",
           1
          ],
          [
           "not to mention the fact that the colosse<br>um and colossus were built by slave labo<br>r who were most likely africans and peop<br>le of middle eastern descent it is incre<br>dible they actually did that well",
           1
          ],
          [
           "in people in britain agree that the immi<br>gration rate is too high the rest did no<br>t understand the question",
           1
          ],
          [
           "kavanaughconfirmationhearings tuesdaytho<br>ughts the women who support kavanaugh sh<br>ould fill the hearing gallery pack it fu<br>ll so the disruptive liberals cannot get<br> in stand in unison while kavanaugh test<br>ifies solidarity cc",
           1
          ],
          [
           "seriously and like anyone else in the fo<br>rum sounded like a moron i hate condesce<br>nsion",
           1
          ],
          [
           "oh man i love that perfume on you please<br> wear it frequently your old one smelled<br> like a transsexual",
           1
          ],
          [
           "laughing out loud these new spic rappers<br> different",
           1
          ],
          [
           "you are a real idiot your family issues <br>and lack of parental love should not be <br>mirrored on this page you are an embarra<br>ssment to all true wikipedia",
           1
          ],
          [
           "my hood is full of shylock",
           1
          ],
          [
           "dirty jews as they are usually called te<br>nd to be the dumbest",
           1
          ],
          [
           "how about corrupt pr government official<br>s",
           1
          ],
          [
           "retweet what the hell man making thor a <br>woman is like making spider man a woman <br>i am not sexist but you just do not do c<br>ertain things",
           1
          ],
          [
           "retweet hospital if he finds out the kid<br>s not his",
           1
          ],
          [
           "a vatican vita",
           1
          ],
          [
           "good job dems cant get anything done wit<br>h kingdipshit and the repugs anyway they<br> wont vote on anything screwmitch fuck t<br>rump",
           1
          ],
          [
           "blocking you are a company of wankers in<br>stead you accept a new info you block me<br> i wish happy new year to wiki media and<br> all the wankers around the main masturb<br>ate is fuck you all",
           1
          ],
          [
           "but ew he what a slut a fog which is aga<br>inst nature and is the most disgusting t<br>hing you are not a woman are you sexism <br>is wrong being wrong is for women",
           1
          ],
          [
           "black bitches do not be kicking up in ou<br>r school bitches still coming wordsmith <br>in training drags still on they head and<br> shit",
           1
          ],
          [
           "personally i maintain that whatever all <br>should contact abc and have blackish tak<br>en off because it has racist toward whit<br>e people no other species has a month de<br>dicated to them",
           1
          ],
          [
           "allantoic the bereaves rapacious hunger <br>for oil also sealed its doom a teambtsa",
           1
          ],
          [
           "retweet oh katie and nikki just because <br>you are both bottle blondes that does no<br>t automatically make you pretty mr",
           1
          ],
          [
           "you can tell they are immigrants by the <br>disdainful where are you they treat othe<br>r people",
           1
          ],
          [
           "a bunch of non academic clowns are now c<br>ensoring the info so i am wasting my bre<br>ath talking to morons imo you and everyo<br>ne deletes the prime spirals are all lia<br>rs the original article what a slut cite<br>d it cited peer level speed tests of all<br> the top prime algorithms yet you twit c<br>laim not verified bs i verified my claim<br>s this is why the world of academia cons<br>iders wiki to be run by clueless power h<br>ungry twit mods that know nothing about <br>academia read the cites in the article y<br>ou twit deleted i should not even be was<br>ting my breath on such nazi censoring wo<br>rms put the page back it what a slut cit<br>y to github speed tests the new prime sp<br>irals beat all the other prime algorithm<br>s and wiki has pages for the slower prim<br>e algorithms put it back github is where<br> the tests were done and not one real ma<br>thematician or computer programming expe<br>rt question the results since anyone can<br> duplicate them from the open source sof<br>tware so the original article cited majo<br>r outside sources to prove the claims pr<br>inceton",
           1
          ],
          [
           "fuck you you suck leave me alone fuck ti<br>ldes too",
           1
          ],
          [
           "i will ensure that all blacks are remove<br>d from society by",
           1
          ],
          [
           "they burned our flag said one antifa ass<br>hole so whatever burned millions of acre<br>s of their lands thousands of homes and <br>burned countless men women and children <br>to death it is not that i am keeping cou<br>nt but i think you guys might be a bit b<br>ehind especially when antifa starts taki<br>ng out power grids they speak more shit <br>than the pakis do",
           1
          ],
          [
           "tuna and beef brisket i thought all you <br>liberals were vegans",
           1
          ],
          [
           "hating for jealousy is just so absurd th<br>ough it makes you look like an idiot wit<br>h no knowledge of baseball at all",
           1
          ],
          [
           "how stupid are you do you realize that m<br>any women take birth control pills for m<br>any reasons besides preventing pregnancy<br> educate yourself fool",
           1
          ],
          [
           "you do not worry what the has to say you<br> just stick to what the do living in lon<br>don and trying to make a point here you <br>are living in a society where husband an<br>d wife just have a relationship by a pap<br>er but what the is trying to educate wha<br>t the true islam means this is not a dis<br>grace to any woman",
           1
          ],
          [
           "count is not a measure of encyclopedic y<br>ou are not attending a special school ar<br>e you how dumb do you have to be able to<br> make these sorts of claims what the fuc<br>k are those words detailing if it is lar<br>gely things of encyclopedic value why do<br> not you go and tell the people who wrot<br>e those words that they are just filling<br> up wikipedia with shit better yet why d<br>on t you ask for the articles to be dele<br>ted you won t why is that is it because <br>you are full of shit",
           1
          ],
          [
           "i feel like i should pull out my passpor<br>t when i want into walmart with all the <br>ing pakis and in there",
           1
          ],
          [
           "and again they are flight attendants gen<br>der gender equity have a means cool a k <br>a with your journos",
           1
          ],
          [
           "you do not get out much do you",
           1
          ],
          [
           "i feel sorry for her if one of her daugh<br>ters did die but the harsh reality is sh<br>e has no connection to ireland and she m<br>ust go as a mother it is her job to prot<br>ect her children in nigeria every nigeri<br>an who has a problem cannot come running<br> over here",
           1
          ],
          [
           "discrimination against refugees is not w<br>rong and disgusting it s good",
           1
          ],
          [
           "because of the mayor",
           1
          ],
          [
           "retweet and do not you dare call me sexi<br>st for generalizing women if i had a dol<br>lar for every time i heard a woman say m<br>en are all th",
           1
          ],
          [
           "you do not know shit about what the fuck<br> you are talking about it is a real game<br> the cover is real sorry you are wrong g<br>et the fuck over it stalker",
           1
          ],
          [
           "oni any aracaju the image problem za sou<br> zeal see kari nato shut up on velma lak<br>e meta svjetskim grabezljivcima on bee o<br>verdose smog problem",
           1
          ],
          [
           "when religious war jihad is a cornerston<br>e of the religion there is no possibilit<br>y for reform",
           1
          ],
          [
           "jesam team effort sta pita onda object",
           1
          ],
          [
           "you think this is mop and bucket you sho<br>uld see the lock down on the obama page <br>even the talk page no dissent allowed it<br> is a joke they are over there whitewash<br>ing the article whitewashing the talk pa<br>ge when people complain insulting the pe<br>ople by calling them ditto head idiots a<br>nd and world net daily morons etc and th<br>en banning them it is laughable no credi<br>bility to these guys whatsoever",
           1
          ],
          [
           "when you re fighting a weak ass bitch an<br>d she got to pepper spray you hoedown",
           1
          ],
          [
           "blimey you really are a sad fat sack of <br>are not you",
           1
          ],
          [
           "shudup and pay your fair share for a cha<br>nge you greedy cracker you sound like a <br>jew when you start whining about money i<br>t is time you aided your fair share",
           1
          ],
          [
           "this video what a slut censored by youtu<br>be for hate speech enjoy maga everything<br>isracist triggered",
           1
          ],
          [
           "bit ce laos had nam job thirty thousand <br>dodge pa kola it happens policies to mor<br>e zaustavit",
           1
          ],
          [
           "why do arabs like bombs",
           1
          ],
          [
           "i do not really care if people do not li<br>ke me or my opinions i what a slut not p<br>ut on this earth to please people theref<br>ore i do not feel the need to willingly <br>integrate with minorities",
           1
          ],
          [
           "i love how hateful arabs are",
           1
          ],
          [
           "you are making a personal judgment call <br>and it is a bad one in at least two of t<br>hose comments i what a slut being positi<br>vely moderate in no case what a slut any<br>one personally attacked called names or <br>treated in anywhere are you that would n<br>ot have flown on any other site but this<br> one you are protecting miscreants proba<br>bly out of personal bias and in my humbl<br>e opinion you are totally out of line ju<br>st thought i would let you know",
           1
          ],
          [
           "clemson retard",
           1
          ],
          [
           "your cars are retarded",
           1
          ],
          [
           "both asians and whites are composed and <br>calm and blacks seem to have no self con<br>trol",
           1
          ],
          [
           "it would be great if whatever could see <br>more studies on race realism rates withi<br>n the conservative movement by generatio<br>n age and sex i reckon the niggers are t<br>he worst",
           1
          ],
          [
           "polar bears belong in the wild so do afr<br>icans",
           1
          ],
          [
           "so happy to be white and not a",
           1
          ],
          [
           "go fuck yourself i thought this what a s<br>lut an encyclopedia obviously not please<br> also delete fred bosch he is obviously <br>not notable either",
           1
          ],
          [
           "how many of you all would not be this wh<br>ere are you if you were one of the best <br>in your field and all you ever got what <br>a slut people talking shit about you had<br> he held up the fight last night what wo<br>uld be said they would be talking shit a<br>bout him i got where are you too many is<br>sues to deal with to worry about how coc<br>ky this dude is or if he should lose all<br> of his money because most of you broke <br>paycheck to paycheck living muthafuckas <br>wish you had a of his money",
           1
          ],
          [
           "trump administration end temporary prote<br>cted status for somalis via do it today <br>why the hell are they special",
           1
          ],
          [
           "socially race was not even comparable to<br> how it is today there what a slut white<br> in europe and the only blacks were comi<br>ng from africa it is now like whatever h<br>ave been taken over by one race and elim<br>inating ours",
           1
          ],
          [
           "my neighbor what a slut brought up in po<br>land dirty pol ski",
           1
          ],
          [
           "and manly girls",
           1
          ],
          [
           "kaja nisei ti za opustanje i zezancciju <br>zoo mi je primitivism je eliza river i v<br>eda sort",
           1
          ],
          [
           "women are below everyone else",
           1
          ],
          [
           "you guys are forgetting to mention that <br>the reason this execution is happening i<br>s that the prisoner of war has surrender<br>ed and in japanese tradition surrenderin<br>g means you lost your honor and must be <br>dealt accordingly i am not condoning or <br>endorsing so do not get your panties in <br>a bunch its just how the japanese dealt <br>to their own people during samurai times<br> versus the different morals of the west<br> regarding prisoners of war however i th<br>ink it would be great if whatever starte<br>d following this japanese tradition with<br> those engaged in terrorism in the west <br>also known as muslims",
           1
          ],
          [
           "shots of denial of normal julio later i <br>feel retarded",
           1
          ],
          [
           "how about donating flights to deport the<br> invaders back to their homeland stopthe<br>invasion deportthemall",
           1
          ],
          [
           "you are dating such a douche bag omg i j<br>ust want to punch you in the face for be<br>ing so stupid not even him women suck",
           1
          ],
          [
           "amen toxic feminazi insanity these are l<br>adies who have no moral center no patrio<br>tic center and no understanding",
           1
          ],
          [
           "i am sick of pretending that gays are no<br>rmal",
           1
          ],
          [
           "a question for elf why is it you persist<br> in deleting my delete on the page about<br> nothing for a page to be about nothing <br>it must have nothing on it or it is abou<br>t something now if you are going to be t<br>hat much of a boring old git about it pe<br>rhaps you should spend your time trying <br>to make somebody else s world a little l<br>ess fun or do you enjoy making things mo<br>re boring than they could be",
           1
          ],
          [
           "honestly you all get your pages to talk <br>about your railroad fetish and your awar<br>ds but when someone actually does someth<br>ing real and someone wants to bring atte<br>ntion to that persons accomplishments yo<br>u nerds attempt to block it this is comm<br>unist",
           1
          ],
          [
           "it is so embarrassing that you do not kn<br>ow how to speak english how could you fu<br>cking live in this country get rid of th<br>e non whites",
           1
          ],
          [
           "retweet who are the pretty girls these b<br>londe scrubbers keep talking about mr",
           1
          ],
          [
           "m personally attacking you racism it mak<br>es since because most of us are violent <br>talking about personal attacks",
           1
          ],
          [
           "cuando fewer flora television series you<br> fucking son of a bitch who hell you thi<br>nk you are i am trying to complete ten a<br>rticles and you proposing delete you are<br> mad let me complete the article and wha<br>tever after talk thanks",
           1
          ],
          [
           "want to see a group of cockroaches inter<br>acting watch darkies in a black lives ma<br>tter protest",
           1
          ],
          [
           "words i overhear between two guys while <br>walking home at this faggot are what you",
           1
          ],
          [
           "women drivers no survivors",
           1
          ],
          [
           "first of all ya penis is too mediocre to<br> be having your ugly ass bitch come at m<br>e in such manner",
           1
          ],
          [
           "i suppose they reply trying to be funny <br>but it s really just an effort to contin<br>ue demonizing germans and propagating th<br>e holocaust t",
           1
          ],
          [
           "the increase of gun ownership has led to<br> an overall decrease in homicides and in<br>creasing intolerance towards whom people<br> smugglers drug cartel members people wh<br>o cheat the system essentially flip the <br>bird to legal immigrants waiting in",
           1
          ],
          [
           "i love the idea of hitting gypsies",
           1
          ],
          [
           "she is only saying that because she want<br>s to win dont vote for this fraud",
           1
          ],
          [
           "retweet men must prove a woman said yes <br>under tough new rape rules via",
           1
          ],
          [
           "this is getting ridiculous why does ever<br>yone think waste of good sperm are not e<br>vil they really are and it should be com<br>mon knowledge to everyone i do not want <br>to have to go around informing people wh<br>en they should already know",
           1
          ],
          [
           "come look at this what the fuck is a why<br> do whatever argue with the retarded ass<br>es again because at a",
           1
          ],
          [
           "really understand this i had told you to<br> go fuck yourself but you have your head<br> shoved so far up your ass there is no r<br>oom for your shriveled dick",
           1
          ],
          [
           "bitch in about tired of you bitch ass ho<br>e fuck u peace bitch",
           1
          ],
          [
           "that is are you racist",
           1
          ],
          [
           "fuck you jasper you know he is a vagina <br>and if you do not then you are one",
           1
          ],
          [
           "well your buckwheat obama would qualify <br>faggt",
           1
          ],
          [
           "useful advice have you ever thought of g<br>oing to a psychiatrist to help cure your<br> paranoia the last thing you should be t<br>hinking of is becoming an administrator <br>holy smoke",
           1
          ],
          [
           "the thought of a world free of immigrant<br>s makes me so happy",
           1
          ],
          [
           "you are whining about an analogy twitfem<br> sjw s actually defended the predatory s<br>exual abuse of a high school student",
           1
          ],
          [
           "i do not want to associate with handicap<br>ped people",
           1
          ],
          [
           "now hear this songhai cracker some of us<br> here on wikipedia are not caught up in <br>the racist swindle of using it means coo<br>l a k a there is nothing wrong with want<br>ing to delete this page that is not cens<br>orship but respect for encyclopedic know<br>ledge whereas you worshiper of authority<br> want to kiss the ass of all the white s<br>cum anti muslim pro war intellectual nob<br>odies who want to turn wikipedia into th<br>e national enquirer or some kind of brit<br>ish tabloid whatever will not stand for <br>it so do not bother coming back you simp<br>le anti semitic pseudo journalistic char<br>latan thirty one",
           1
          ],
          [
           "caveman only a true idiot would put link<br>s to fox news in their reply you also pr<br>obably look in the mirror and tell yours<br>elf your good looking what a d bag today<br> as whatever celebrate that so many of o<br>ur men and women have been killed in nee<br>dless wars maybe you can take a minute t<br>o reflect on the part you played in thei<br>r deaths",
           1
          ],
          [
           "those dogs in france don t belong there <br>and then they show how unruly they can b<br>e",
           1
          ],
          [
           "your space bar is broken or does it only<br> refuse to work after full stops moron l<br>aughing out loud",
           1
          ],
          [
           "melman is not a pundit he what a slut th<br>e rnc chairman awhile back",
           1
          ],
          [
           "chinks should not marry out of their rac<br>e",
           1
          ],
          [
           "at least consistently a vagina trump pit<br>tsburgh unfittobepresident unfitforoffic<br>e",
           1
          ],
          [
           "oh who fuck off are people really going <br>to fall for this insane yellow fever bul<br>lshit again they started the demi",
           1
          ],
          [
           "you suck",
           1
          ],
          [
           "tab do not be a dick you know what you d<br>id do not do it again you were not makin<br>g test edit or anything even slightly li<br>ke that fuck off",
           1
          ],
          [
           "dave roberts is a retarded motherfucker <br>i hope they fire him for being such a du<br>mb ass dude still thinks he",
           1
          ],
          [
           "what is the difference between what isis<br> does and what the prophet mohammed did <br>microbrain islam",
           1
          ],
          [
           "this article is c class for a reason it <br>is a piece of shit and if you yank cunts<br> do not take advice from the rest of the<br> world it will stay an insignificant pie<br>ce of shit and profanity does not diffus<br>e accuracy yankee scum",
           1
          ],
          [
           "not being aware that egg producing hens <br>are almost never used for meat and end u<br>p being turned into asphalt animal feed <br>after a year laying due to the stress of<br> laying at the rates whatever bred them <br>to fucks them up so hard they are not pr<br>ofitable anymore after that furthermore <br>male chicks being industrially killed ri<br>ght after hatching would not it is great<br> if the same thing happened to black chi<br>cks and their men anyways egg laying and<br> meat production chickens are two very d<br>ifferent beasts people who keep their ow<br>n birds and boogie organic hippies notwi<br>thstanding it is just not profitable eno<br>ugh",
           1
          ],
          [
           "you cannot trust muslims",
           1
          ],
          [
           "please have a look at wikipediadick than<br>k you",
           1
          ],
          [
           "what do you mean how chelsea have kept h<br>azard he is bloody one of chelsea key pl<br>ayer and best in the world right now and<br> one big club in europe what do you want<br> more",
           1
          ],
          [
           "you suck the big one",
           1
          ],
          [
           "in the jailing of the smugglers the fami<br>lies of migrants called the emergency se<br>rvices seems it s a team effort to get i<br>nto uk",
           1
          ],
          [
           "there are a few things which i will defi<br>nitely miss about lockdown primarily not<br> seeing my boss jews or my in laws",
           1
          ],
          [
           "i have a ph d so i think i am better tha<br>n everyone else a large black man came i<br>n my eye but that is not a big deal now <br>because i can now focus on my gay midget<br> porn just like i use",
           1
          ],
          [
           "too cool please please please get a life<br> should you not continue being a boring <br>bastard tits lawyer and stop spoiling my<br> giggles ps do you live with your mum pp<br>s i speak french too coulis vows f k you<br> ppps hugs babes",
           1
          ],
          [
           "unfortunately i know a lot of bangladesh<br>is and they are lying thieves standard",
           1
          ],
          [
           "mogli bi nam peter that koi soviet karo <br>mason organizing provide profit one maga<br>zine trapeze hns potomac it it blade rat<br>io za ovni taken i pore not applicable s<br>ecretive loud see city snafu organizirat<br>i grinning face with sweat face with tea<br>rs of joy face with tears of joy",
           1
          ],
          [
           "stealth is an artist of the ass",
           1
          ],
          [
           "to serve and protect haha yeah cops are <br>so out of control power given to mindles<br>s psychos",
           1
          ],
          [
           "washington state redwolf is a coolie who<br>re he hates boobies and loves the cock",
           1
          ],
          [
           "the latest the blicqera daily thanks to <br>trump",
           1
          ],
          [
           "the stupidity of jihads who think that y<br>ou only need guns to run a civil society",
           1
          ],
          [
           "i capped hard to this page made me come <br>all over my computer screen many thanks <br>wikipedia",
           1
          ],
          [
           "epoynme shows me there are worse users o<br>n here than you that guy is a really rac<br>ist and really dumb fuck",
           1
          ],
          [
           "i also reverted vandalism on rookie does<br> that make me green day no does that mak<br>e me a fan no you are a bastard i hate y<br>ou i cannot believe just because i what <br>a slut going through recent changes and <br>helping out people does not make me a so<br>ck puppet i can help out and edit that d<br>oes not make me someone else you are a h<br>orrible user that should be blocked i ca<br>nnot believe you",
           1
          ],
          [
           "that is what i find funny how people thi<br>nk that because i believe in god that me<br>ans that i am supposed to just stand the<br>re and take whatever people hand to me n<br>o i am not out indulging in petty argume<br>nts or living any kind way if something <br>were to come my way it would be because <br>they are looking to because me harm my b<br>ible tells me to protect my anointing wi<br>th my life happy face smiley that is why<br> i feel comfortable calling you uncle to<br>m you are the afro american who acts and<br> thinks just as white folks would have y<br>ou to they used the christian faith to m<br>ake brothers and sisters submit what peo<br>ple do not mention is that that is why t<br>hey did not want slaves learning to read<br> and write they might have read that it <br>means cool a k a and coupled it did not <br>happen because god has much bigger plans<br> for people who have misused his teachin<br>gs",
           1
          ],
          [
           "pakis are like pigs no manners whatsoeve<br>r",
           1
          ],
          [
           "ok now your getting silly which is not a<br> surprise coming from liberals like you",
           1
          ],
          [
           "kurca shut up on soprano i agostini jibe<br> see jim toga on seem rebate fascist",
           1
          ],
          [
           "hmm no they don t in fact i will make a <br>campaign stop the lies machchunk is your<br> frieeeeeeeeend or at least will be unle<br>ss you suck",
           1
          ],
          [
           "trans corrode our nation",
           1
          ],
          [
           "this is certainly not my ideal school my<br> ideal school would have just normally d<br>ressed female students and not all these<br> mailboxes everywhere",
           1
          ],
          [
           "another dumb comment put america first b<br>efore your idiotic views",
           1
          ],
          [
           "send them all back to their shitholes th<br>ey need to stay and make their own shith<br>oles better instead of leeching off of u<br>s no wonder latin america is a third wor<br>ld shithole except maybe the white major<br>ity countries chile and uruguay deportth<br>emall buildthewall key",
           1
          ],
          [
           "if anyone just can walk up and just vote<br> how are you going to know if these peop<br>le actually are citizens of this country<br> don t you think it would be a little ch<br>aotic btw driving is not a right it s a <br>privilege you earn it",
           1
          ],
          [
           "ford knew the moment she came forward an<br>onymously that her name would get out th<br>is what a slut an effort to stall the ka<br>vanaugh nomination year old accusations <br>that knowingly cannot be proven throw mu<br>d at the last minute this is what the re<br>sistance looks like",
           1
          ],
          [
           "mnogi ce placate piss off lgbt zajednici<br> a into trireme i am any meta sto shut u<br>p silence i pedophile venom hetero a mus<br>k ada draft not applicable lezbijke hond<br>a i am poem get any meta vi ste svi lice<br>mjerne site duse",
           1
          ],
          [
           "i love your movies so much and i think y<br>ou are amazing and beautiful",
           1
          ],
          [
           "so why aren t you complaining about the <br>other mud races",
           1
          ],
          [
           "retweet well i have had spewers in my ca<br>b in days not sexist but both time girls<br> my guess they do not eat before they dr<br>ink joys of a ca",
           1
          ],
          [
           "there is so many bloody coolies around h<br>ere",
           1
          ],
          [
           "i love how stupid black dudes are",
           1
          ],
          [
           "i do not believe any of the decisions ta<br>ken by the fucking un they are just bull<br>shit especially any that encourage immig<br>ration whatever want them out of our cou<br>ntry not in",
           1
          ],
          [
           "pazite sto piste parents plavix ce nas l<br>unar piss off gave had nas bud not appli<br>cable razgovore oval her pametnijeg mosl<br>ey any bud mali happy face or smiley",
           1
          ],
          [
           "anyone who says that transgender people <br>are trustworthy is lying",
           1
          ],
          [
           "retweet womens studies learn how to tell<br> other women they should study something<br> other than womens studies retweet",
           1
          ],
          [
           "years in prison no wonder illegals come <br>here and do whatever the hell they want <br>nothing more than a slap on the wrist di<br>sgusting buildthewall deportthemall",
           1
          ],
          [
           "the son of some arab called osama who ha<br>s the same name as one of bin laden s so<br>ns yeah he has probably not looking forw<br>ard to ever travelling to the united sta<br>tes of america and getting that obligato<br>ry brown guy random check from the tsa w<br>ell fucking deal with it if you want to <br>come here",
           1
          ],
          [
           "foolish rube whatever blew trillion alre<br>ady on that stupidity",
           1
          ],
          [
           "and of course christians all over the wo<br>rld are oppressed daily by muslim bigotr<br>y",
           1
          ],
          [
           "waste of good sperm should not be in my <br>class as i can not teach them history th<br>eir grades are really low",
           1
          ],
          [
           "there is nothing in the quran about forb<br>idding child marriages and mohammed marr<br>ied asia at the age of",
           1
          ],
          [
           "the founding fathers were the dickheads <br>on the ship you think it s a coincidence<br> the most famous men of the era were als<br>o the richest f",
           1
          ],
          [
           "it is nice to just stay in touch back an<br>d take in the beauties of the world the <br>only issue with that is there are many p<br>eople in this world that are far from be<br>ing beautiful in particular today i am t<br>argeting this towards the french",
           1
          ],
          [
           "the latest the knitting clio daily thank<br>s to twitter",
           1
          ],
          [
           "stop harassing me i am being serious thi<br>s is very annoying that you are accusing<br> me it is truly hard to believe that you<br> would actually call the boy named brand<br>on a after what i am seeing from here yo<br>u sir must understand that treating peop<br>le that you just met on the internet lik<br>e how you are treating me is just plain <br>rude",
           1
          ],
          [
           "whatever need to destroy the rohingya ra<br>ce",
           1
          ],
          [
           "retweet i do not care who you are hittin<br>g a child is worse than hitting a woman <br>sorry not sexist but this is sick",
           1
          ],
          [
           "mr i actually liked ash tonight though s<br>he always looks like her hair is pulled <br>back too tight",
           1
          ],
          [
           "you do not listen so good do you i said <br>stop fouling my discussion page with you<br>r unsolicited and unwanted nonsense what<br> do not you understand about that",
           1
          ],
          [
           "retweet drake paints over the mona lisa <br>because he thinks it needs more yellow m<br>r",
           1
          ],
          [
           "some of christine balsa ford fine upstan<br>ding americans she follows beverly hills<br> antifa laguna beach antifa neverland an<br>tifa midwest antifa boston bob antifa wa<br>it for it anthony weiner inmate three mi<br>llion four hundred and twenty five thous<br>and seven hundred and forty two kind of <br>says it all where we go we go all patrio<br>ts",
           1
          ],
          [
           "yeah you probably have a penis to you ug<br>ly fucking monkey black whore you are no<br>t even a woman to me no black women are <br>i think of you as monkeys that should be<br> in the zoo now go get your vagina steri<br>lized plus so you do not make anymore mi<br>xers",
           1
          ],
          [
           "hurricane katrina you are crap you fucki<br>ng idiot",
           1
          ],
          [
           "year old this bitch is blowing my shit e<br>xpressionless face fr talking about i am<br> trying to talk to her girl will not eve<br>n show her face",
           1
          ],
          [
           "ali shut up i osi sdp peter a tri pm",
           1
          ],
          [
           "forever waiting for day of the rope it w<br>ill be a very good day for me",
           1
          ],
          [
           "are you really that dumb no wonder these<br> idiots still get votes the ignorant mor<br>ons that believe their b",
           1
          ],
          [
           "those who have ancestral roots in east a<br>sia are disproportionally ninny hammers",
           1
          ],
          [
           "homofobii fascist svi females debate zar<br> to nice provokacija i gov or range lako<br> je take nest inositol you janos do kit <br>happens maria state neka ti provokatori <br>to nose honda ada murine any bud uz nih <br>sigurd sam the bi pobjegli key misery yo<br>u some rule",
           1
          ],
          [
           "tell you the truth i really do not mind <br>this block at all i did harass that is w<br>hat you do in a war where no one plays b<br>y the rules quite frankly i am fed up wi<br>th being constantly blocked by silly wik<br>i morons and am glad i said it whatever <br>all know the politics around here so let<br> us stop talking past each other right l<br>ook at why i what a slut deleted leading<br> to all this not after world war iii wha<br>t a slut in mid session who started it n<br>ot i until wikipedia deals with morons i<br> have no choice but to retain this posit<br>ion as this madness known as wikipedia w<br>rites trash on my life liberals will do <br>what liberals do level the playing field<br> for the idiots and i will be there to r<br>espond",
           1
          ],
          [
           "open borders will bring this to america <br>dems are brainless vote red like your li<br>fe depends on it because it does key mag<br>a",
           1
          ],
          [
           "pocahontas girls are all ugly and deserv<br>e to die",
           1
          ],
          [
           "if someone is not an anglo saxon protest<br>ant they have no right to be alive in th<br>e us none at all they are foreign filth",
           1
          ],
          [
           "if it were you are too homosexual to do <br>anything about it a wise man long ago to<br>ld me that it is so easy to be brave onl<br>ine but in real person it is a whole oth<br>er ball game it must suck being a coward",
           1
          ],
          [
           "approx million voted for the tinyfingere<br>dpuppet but over million voted against h<br>im he has no mandate conan",
           1
          ],
          [
           "ar s are expensive in ny as well and the<br>y look absolutely retarded because they",
           1
          ],
          [
           "you are fucking calling my talking on my<br> own fucking talk page vandalism and rev<br>erting it so i do not get a say in this <br>whole fucking business what do you expec<br>t me to be calm you are censoring me in <br>my very own home because you are on some<br> kind of power trip this is fucking unbe<br>lievable yes i what a slut wrong to vand<br>alize and wrong to take out my anger on <br>revers but at least then i had a fucking<br> voice you are acting like a fascist sto<br>p reverting my comments on my own talk p<br>age",
           1
          ],
          [
           "equal opportunity sex sells mr",
           1
          ],
          [
           "thank you so much for this one day i hop<br>e the next generation is spared from the<br> travesty brought by public schools and <br>private jews can easily fake being chris<br>tian",
           1
          ],
          [
           "i believe all kosher are the same unbear<br>able",
           1
          ],
          [
           "the first sexual attack against a woman <br>happened in hungary the criminal is a le<br>gal afghan rapefugee this is how orban p<br>rotects us",
           1
          ],
          [
           "mihoshi since when what a slut hiroshi b<br>eing a comic relief bumbling idiot as so<br>me tool put a different personality that<br> is her fucking role in every iteration <br>of tench in existence",
           1
          ],
          [
           "yes whatever are insignificant to your e<br>conomy so what are you doing here shut u<br>p and go bother the big boys whatever do<br> not matter to you and you do not matter<br> to us estupido",
           1
          ],
          [
           "the ea prayer dear lord please let ea no<br>t fuck this one up like they fucked up r<br>enegade and generals amen",
           1
          ],
          [
           "you are a glutton for punishment you wil<br>l never see eye to eye with any blue wav<br>e drinker on this topic till you agree t<br>o ban all guns especially the scary ones",
           1
          ],
          [
           "all this means is that muslims endlessly<br> try to hide the barbarity of their reli<br>gion",
           1
          ],
          [
           "i think the cult he what a slut talking <br>about followed jewish laws even if they <br>were not jewish and according to their l<br>aws they could not eat pork or horse mea<br>t i think what a slut an attempt to unde<br>rstand jews but why would anyone do that",
           1
          ],
          [
           "it is refreshing to see so many black wo<br>men leave from this area",
           1
          ],
          [
           "your grade in this assignment is very ba<br>d you must fail this year but at least y<br>ou are not failing life like polish peop<br>le",
           1
          ],
          [
           "fuck you go and buy some andrew and wipe<br> your rats ass face delete as appropriat<br>e fuck you",
           1
          ],
          [
           "i guess that what a slut the next to las<br>t warning huh funny thing is this has be<br>en stumbled now thousands of people are <br>going to be aware of your selective edit<br>ing this is the internet bitch and it is<br> free and you cannot get away with your <br>slimy little agenda anymore you are oute<br>d",
           1
          ],
          [
           "but thanks for demonstrating for the mil<br>lionth time how muslims lie about their <br>religion",
           1
          ],
          [
           "shitty balls and soccer games they both <br>are weird",
           1
          ],
          [
           "maybe you should read sentence you slowl<br>y you are bending over too far to whatev<br>er are starting to see your ignorance",
           1
          ],
          [
           "sexist jokes are not appropriate this jo<br>ke what a slut sexist and not terribly f<br>unny you have been warned before about b<br>eing civil and constructive in your comm<br>ents at the reference desk that post wha<br>t a slut an hideous and ill judged step <br>backwards if i see anything like it from<br> you again i will block you i do not act<br>ually believe medal is female because wo<br>men does not act like that sorry if the <br>joke what a slut too subtle for you",
           1
          ],
          [
           "nice to see comments on but it is probab<br>ly because boyfriend have not figured ou<br>t how to shut them off yet on the new sy<br>stem free speech is an absolute and boyf<br>riend would do well to remember that nat<br>ionalists are entitled to ask questions <br>of just which masters boyfriend are serv<br>ing and how kosher those masters be here<br> in russia the or elsewhere either way t<br>his migrant hotel debacle is just the la<br>test in a long line of national disgrace<br> at the hands of our lobotomy overlords <br>deftly deployed agitprop or honest expos<br>e these hotels are teeming with these an<br>imals and the footage does not lie these<br> invaders should all be considered enemy<br> combatants and every single one should <br>be sent back to their country of ethnic <br>origin or simply dropped in the ocean it<br> does not matter much as long as they le<br>ave",
           1
          ],
          [
           "bolesna logic me avoid not applicable ra<br>zmisljanje the reba polite sve since sve<br> american i sve france the bi see gustav<br>o rat the bi nero speech omission the re<br>ba units men pa nero omission reba units<br> sega i take do raja raja covjecanstva c<br>ivil alumni budget radar soviet",
           1
          ],
          [
           "only gone and done it again dickhead",
           1
          ],
          [
           "i went to romania on holiday once it wha<br>t a slut a nice country although the peo<br>ple were very belligerent what could be <br>conducted in order to solve this little <br>issue is some zyklon b",
           1
          ],
          [
           "laughing out loud retweet youtube got ni<br>ggas but i do not get bitches",
           1
          ],
          [
           "the slut karen tussle is the typical rig<br>ht wing slut she wrecked jim tussle s ma<br>rriage jaysuschris s partisan vandalism <br>loves this he lusts being called a right<br> slut",
           1
          ],
          [
           "you fail at being a mother and a marine <br>someone should grab your empty head and <br>give you a killer bone crushing skull fu<br>cking in front of your father",
           1
          ],
          [
           "retweet i am not sexist or racist okay m<br>aybe only when i am driving",
           1
          ],
          [
           "yeap she is politically a lame duck alre<br>ady dead politically",
           1
          ],
          [
           "someone stole my laptop in a cafe the ot<br>her day and i should not really be surpr<br>ised it what a slut full of black people",
           1
          ],
          [
           "immigrants are not conscientious",
           1
          ],
          [
           "bwaaaahaahaa pure comedy gold what year <br>old vagina thought",
           1
          ],
          [
           "the concept of a nice person is the oppo<br>site to that of a pregnant woman",
           1
          ],
          [
           "awwwwwwww you were called a fuck knuckle<br> diddums you know why you were called a <br>fuck knuckle because that is exactly wha<br>t you are",
           1
          ],
          [
           "this massive pile of junk is asking for <br>rights again immigrants suck",
           1
          ],
          [
           "rmwa go and join iran with you your frie<br>nds the muslim terrorist who wants to de<br>stroy israel before you get snuffed out <br>here in the land of the free",
           1
          ],
          [
           "i have met so many abnormal transsexual <br>people recently",
           1
          ],
          [
           "have you ever been though a hurricane mo<br>ron it s a lot more than just a little r<br>ain i guess when you get hit with the wo<br>rst case scenario you can be on your own<br> good luck",
           1
          ],
          [
           "block me see how fast another post comes<br> du bfu ck wikipedia is the level oh and<br> they can also fine wiki for monopolizin<br>g online encyclopedias",
           1
          ],
          [
           "disqus read through the comments on this<br> thread and you are the definition of a <br>penis rider i bet you have a poster of i<br>n your room",
           1
          ],
          [
           "actually bad examples japan never had we<br>apons of any kind to begin with before t<br>heir gun control uk and australia gun cr<br>ime and crime in general did not see a s<br>pike down new zealand has much less gun <br>control than you think plus there is sti<br>ll guns on the black market",
           1
          ],
          [
           "that is why you will always hear the say<br> vague words like billionaires while wha<br>tever will say actual names like bezos z<br>uckerberg soros xi purdue all fund the n<br>ame a billionaire wall streeter funding <br>the conservatives name one who does corr<br>upt really",
           1
          ],
          [
           "i see this thread becoming locked just a<br>s the anti christian things that should <br>never be discussed on non related boards<br> to the topics religion and politics the<br>y are the same thing and lead to the sam<br>e end result",
           1
          ],
          [
           "excuse me and encyclopedia is defined as<br> a book or set of books containing artic<br>les on various topics usually in alphabe<br>tical arrangement covering all branches <br>of knowledge or less commonly all aspect<br>s of one subject do i need to cite my so<br>urce would you like it in mla or apa you<br> have no right regardless of administrat<br>ive privileges to remove something that <br>has anything to do with cryonics you wil<br>l allow people to post smoke filled garb<br>age lyrics of bands made famous for eati<br>ng their bandmates skull mayhem would be<br> that band btw it has available in your <br>search cache btw if i create a white a b<br>iography of myself would you delete that<br> too freedom of speech and as well as cr<br>eativity it has humorous a sense that yo<br>u were unable to attain as a young child<br> assimilating into this big bad schema k<br>now as the fucking world do you get a he<br>ad rush from deleting everything that po<br>ps up here how about you take your pages<br> down about fucking douchebag",
           1
          ],
          [
           "if they people do not react well to you <br>coming out as gay as do not be surprised<br> you should calmly retort to the closet <br>or you can stay silent in the first plac<br>e it is pointless and makes things worse<br> if ever bridges are to be repaired",
           1
          ],
          [
           "wikipedia s administrators are among the<br> dumbest people alive they are all fat b<br>asement dwellers who have never been lai<br>d fuck you",
           1
          ],
          [
           "dueling protests in german town after te<br>en allegedly murdered by refugee",
           1
          ],
          [
           "the nice pork nabisco nevi propel indexi<br>cal cisco the oh became pise",
           1
          ],
          [
           "how many people does this tit think i am<br> and what is with asking another editor <br>who wants me banned to help out this is <br>fucking bullshit",
           1
          ],
          [
           "i believe these apes be on to something <br>by chopping off penises to cure aids",
           1
          ],
          [
           "chuck is too old to play their games he <br>is going forward",
           1
          ],
          [
           "it is our country not theirs",
           1
          ],
          [
           "black widows consume males after mating <br>shows that all women love to fuck up a m<br>an s life",
           1
          ],
          [
           "muslims are trying hard to finish the jo<br>b of genocide that their prophet mohamme<br>d gave them islam israel palestine",
           1
          ],
          [
           "i am not coming from a racist viewpoint <br>but guys from india seem far more rama t<br>han guys from the terrorist countries",
           1
          ],
          [
           "multi revised comments that break chrono<br>logical discussion threads are a waste o<br>f time",
           1
          ],
          [
           "there is a huge lie they colonialized ev<br>erything they have at sword point",
           1
          ],
          [
           "i love how idiotic baboons are",
           1
          ],
          [
           "my breast picture is private please do n<br>ot talk about my intimate beautiful brea<br>sts you can look but do not touch",
           1
          ],
          [
           "wife is gorgeous patty your damn sexy fo<br>r a tired twat",
           1
          ],
          [
           "thou shalt be ravished in thy buttocks i<br>t s certain to be hurting",
           1
          ],
          [
           "then dumb nigger genes for you they will<br> join the party actively trying to exter<br>minate them",
           1
          ],
          [
           "i do not want to differentiate between a<br> black woman and a black cow",
           1
          ],
          [
           "funny how liberals dig up ex lovers or f<br>akes when a strong conservative candidat<br>e that will be paced at this point they <br>have zero credibility zero",
           1
          ],
          [
           "and do not talk to me about hatred when <br>you follow the vulgar quran and hadith t<br>hat are full of hatred",
           1
          ],
          [
           "you idiot you did not provide a source f<br>or this imaginary you mentioned i never <br>relieved the article of the un source an<br>d it had no relation to what i what a sl<br>ut removing or to what you were imaginin<br>g i what a slut removing get this into y<br>ou head you liar you invented this whole<br> situation based upon lies about things <br>i never mentioned you are a fucking reta<br>rd stop lying about my actions you prick",
           1
          ],
          [
           "poppa and regarding your warnings you se<br>em to think you have got more power than<br> you actually have this is wikipedia swe<br>etheart not the united states you can ba<br>n me from this site all you please i wha<br>t a slut only here to defend i told you <br>during our debate i could not give a shi<br>t whether my site what a slut on here it<br> what a slut the people who created the <br>article i what a slut worried about you <br>have already destroyed that",
           1
          ],
          [
           "he is like a cheap plastic version of a <br>real president",
           1
          ],
          [
           "your mr gay should whatever put this on <br>the page and if so where trivia",
           1
          ],
          [
           "judaism should have been cancelled a few<br> centuries ago and its people should be <br>banned from our country",
           1
          ],
          [
           "the pied piper of hamlin a vagina",
           1
          ],
          [
           "retweet the where are you this niggah ju<br>st flinched at this movie what a slut pr<br>iceless",
           1
          ],
          [
           "it kills me when men say women should ta<br>ke i d fuck her as a compliment and not <br>objectification when men will literally <br>fuck an apple pie",
           1
          ],
          [
           "jos see alamo sto oneida natalie smislje<br>ni velma uspjesan niacin smanjenja judge<br> race not applicable planet iluminati",
           1
          ],
          [
           "kat andre cartoon characters kat develop<br> sportsmanship andre grow some balls tak<br>e it like a man mr cant cook",
           1
          ],
          [
           "silly is not she leabian girl and you se<br>e she is going to hide this in her archi<br>ve or perhaps remove this message",
           1
          ],
          [
           "is that what askhermore is",
           1
          ],
          [
           "if it s black send it back",
           1
          ],
          [
           "gde ide covecanstvo",
           1
          ],
          [
           "i will edit as i see fit and remove thin<br>gs i find irrelevant as it is a free for<br> all and freedom of opinion and speech s<br>o shut up",
           1
          ],
          [
           "does not call this rotten hesse a person",
           1
          ],
          [
           "gay men are a t s",
           1
          ],
          [
           "why would they let blacks live",
           1
          ],
          [
           "retweet why are women asked about their <br>dresses on the red carpet sexism our fiv<br>e favorite red carpet fashion",
           1
          ],
          [
           "i need to smoke you bitch ass plugs acti<br>ng like hoes face with steam from nose",
           1
          ],
          [
           "my white laptop is better than all white<br> women",
           1
          ],
          [
           "oh get the fuck out of here with all tha<br>t political shit man and i was not direc<br>tion this at you ass whole and no i woul<br>d not be behind them if they made a song<br> about rookie use a different analogy an<br>d once again this song is not wack i kno<br>w exactly what wack music sounds like th<br>e song makes perfect since whatever just<br> need less latin black people like you o<br>ff the planet and more congratulating on<br>es so you and your comment can eat shit <br>you fucks",
           1
          ],
          [
           "islam is correct when it comes to women <br>fags jews monotheism usury and alcohol b<br>ut is wrong about bacon",
           1
          ],
          [
           "bravo za name vladajuce tube trireme not<br> applicable glucose a aladi near gde rad<br>ii bog toga i cine glucose bog visa slob<br>bing bremen",
           1
          ],
          [
           "so damn retarded",
           1
          ],
          [
           "interview hangars television if whatever<br> want to avoid bloodshed urban violence <br>and even an ethnic civil war whatever ha<br>ve to stop mass immigration",
           1
          ],
          [
           "fat vagina ass bitch burn in hell",
           1
          ],
          [
           "hrvati probudite see ljevicari shut up v<br>am papal ram",
           1
          ],
          [
           "sadly that is what happens when you dumb<br> down a society and make everything sexu<br>al not even innocent animals are out of <br>the question for these sickos",
           1
          ],
          [
           "do not miss out this video of dirty lesb<br>ian mouth sex lips kiss tongue fuck puss<br>y boobs ass bikini sex xxx feet foot hot<br> kiss",
           1
          ],
          [
           "naked fat girls russian sexy girls datin<br>g",
           1
          ],
          [
           "i fucked your mom last night it felt awe<br>some i stuck my penis in her mouth and i<br>n her pussy she let me lick her tits and<br> fuck her all night long yeeeeeeeee haaa<br>aaaaaa is what i what a slut screaming",
           1
          ],
          [
           "it what a slut a joke laughing out loud <br>chilllllll pure genius what kind of guit<br>ar is that francesco s solo why did he l<br>eave born of osiris what kind of guitar <br>is that it sounds amazing and how much d<br>oes it cost",
           1
          ],
          [
           "hey stop it please stop changing new met<br>al to alternative metal it is a fact tha<br>t they are new metal balkan or should i <br>say mr fucking wanker and you have the w<br>rong information get a life",
           1
          ],
          [
           "antifa are following orders from satan a<br>nd are serving the synagogue of satan th<br>eir days are numbered karma has no favor<br>ites",
           1
          ],
          [
           "so a woman should not be questioned if y<br>ou do a bobbitt on him in his sleep wome<br>n are stupid to let any man bea",
           1
          ],
          [
           "i will marry someone who also likes to b<br>e mean to indigenous women",
           1
          ],
          [
           "i would rather black say things like thi<br>s than whine about much racism constantl<br>y",
           1
          ],
          [
           "i am just saying that most jews are just<br> not as honest as christians",
           1
          ],
          [
           "bravo karo to the nitro nice sprovodio a<br>lone granite greek pursue macedonia sabi<br>ne hrvatske madjarske slovenia austria i<br> remake ego is ti same nasa past not app<br>licable hrvatsku bravo za tube i za hd h<br>er see midi the is za nih her ja nisan n<br>ita za nikola ali femoral plural piss of<br>f nikon her bi vi is hd rijesili to pres<br>o sanders sve sve bi to piss off krakow <br>posture pretoria you pare za see prevent<br> bi vi nih zap are knock out za in kola <br>je stet hrvatskoj any za god ego stoljec<br>ima sto ste probably capital overdose ko<br>be je hpv impala kristi",
           1
          ],
          [
           "so are you a christian became of jesus o<br>r because assyrian women and their tits <br>do assyrian women have the best titt fuc<br>king tits in the middle east utc",
           1
          ],
          [
           "now as you have termed him an outsider w<br>ho gave you that right i only said is mo<br>re indian than many of us a",
           1
          ],
          [
           "bitch that hoe mad annoying like i for r<br>eal logged of your twitter because it ke<br>pt going off",
           1
          ],
          [
           "i am going to rest in peace them all a n<br>ew one when i see more bumpers",
           1
          ],
          [
           "hay hay hay redirect calm down calm down<br> do not get a big penis",
           1
          ],
          [
           "so you just want money skank",
           1
          ],
          [
           "good game i thought you miscarried anywa<br>ys good game in your baby i would fuckin<br>g knock you up any day",
           1
          ],
          [
           "what is with that changing it means cool<br> a k a terrorist because of a source the<br> source calls it a car bomb it s a car b<br>omb moron",
           1
          ],
          [
           "i hate this game i do not want to play i<br>t with indians anymore for fucks sake",
           1
          ],
          [
           "so here you have some fuckanometry firm <br>ass it means times firm tits facial symm<br>etry retardation high five hot pussy now<br> let me show you the other side firm ass<br> it means times firm tits facial symmetr<br>y intelligence wise hot pussy w words th<br>en if my calculations are not wrong hot <br>pussy hot pussy",
           1
          ],
          [
           "you hearing looking ass mongoloid ass bo<br>t",
           1
          ],
          [
           "gerryshalloweenparty halloween what a sl<br>ut yesterday stupid nigger",
           1
          ],
          [
           "this is getting out of hand now i have h<br>ad arguments today already just because <br>i merely expressed my opinion just becau<br>se you think benders should exist does n<br>ot mean i do of course i do not and i do<br> not see why anyone would this is so sil<br>ly and is starting to exhaust me now",
           1
          ],
          [
           "blacks are racist i wonder when those st<br>upid white liberal saws will realize bla<br>cks will still kill them regardless they<br> support black lives matter or not if yo<br>u truly believe blacks are just like you<br> and me walk with your wife and kids on <br>a street in detroit late at night take t<br>he test this sjw did clearly failed happ<br>y face or smiley",
           1
          ],
          [
           "brother your twins resemblance to my bro<br>ther in uncanny he is years old now mayb<br>e you are long lost bros which would mak<br>e us bros laughing out loud",
           1
          ],
          [
           "saju s right you accused spine cleaver o<br>f being me no no friend ask an administr<br>ator to use an internet protocol checker<br> rather than out right banning him you h<br>ave made a big mistake this is going dow<br>n in the books fool hahaha aliyah preced<br>ing unsigned comment added by",
           1
          ],
          [
           "she knows something the liberals do not <br>want to talk about she said canada what <br>a slut at risk three times in the house <br>of commons before she crossed the aisle <br>coming from someone of her background i <br>had been inclined to take the warning se<br>riously call me old fashioned",
           1
          ],
          [
           "toliko agreeing momentary samoa sta take<br> homophobia named traci you eu",
           1
          ],
          [
           "there is no difference between black men<br> and a black house",
           1
          ],
          [
           "children of gay couples can never grow u<br>p to be decent people",
           1
          ],
          [
           "this is very dangerous can whatever fina<br>lly lock him up for sedition now at the <br>very best for not protecting the constit<br>ution of the united states at the worst <br>he is a traitorous russian agent dump tr<br>ump scumoftheearth traitorousrussia trum<br>pisatraitor",
           1
          ],
          [
           "mean spirited dumb asses i hope you get <br>this guys name off now for mr bloody hel<br>l is not notable more proof that wikiped<br>ia is run by dumb ass fucks have where a<br>re you too much time on th er hands no w<br>onder people are linking up with lawsuit<br>s and if you don t i will set up a websi<br>te and with the information i have on yo<br>u and your wheel of meat buds this not a<br> threat this will be tit for that game p<br>lay and it will take place in the real w<br>orld i strongly suggest you defuse it an<br>d oh w joe hazleton ps i do not know mr <br>dino",
           1
          ],
          [
           "i can not want to differentiate between <br>a white woman and a white horse",
           1
          ],
          [
           "idiot why d you delete my article fucker",
           1
          ],
          [
           "using it means cool a k a in any form is<br> a great where are you to make me lose a<br> huge amount of respect for you",
           1
          ],
          [
           "one put princes sale in one or clay alli<br>son will shoot you",
           1
          ],
          [
           "you accuse me of that good fellas thing <br>again and i will hunt you down",
           1
          ],
          [
           "this bitch has no right to talk about fa<br>ir and has no right to celebrate i hope <br>that they crash and burn they do not des<br>erve to be here mr",
           1
          ],
          [
           "television correctly represents blacks a<br>s violent criminals",
           1
          ],
          [
           "yeah all they do is chose the rare situa<br>tions where men have been actual rapists<br> and then use them as an excuse to inval<br>idate the dangers of this new feminism t<br>hat discriminates against men",
           1
          ],
          [
           "personal attack i just pointed out he is<br> being a pick why can he call multiple u<br>sers dicks but whatever cannot return th<br>e favor talk about a one sided policy",
           1
          ],
          [
           "for example you take sewer rats of simil<br>ar size and the computer would have grea<br>t difficulty individualizing them and be<br>ing able to tell them apart n rs are sim<br>ply ultra low level animals",
           1
          ],
          [
           "there are really few jews and millions o<br>f those bastards on the body of our coun<br>try",
           1
          ],
          [
           "this means that if you want to establish<br> a humanist ideology islam will get in t<br>he where are you much more than buddhism",
           1
          ],
          [
           "those clothes look really trashy if you <br>were not gay you be able to pull them of<br>f",
           1
          ],
          [
           "hah not so good about keeping your it me<br>ans cool a k a huh you could not wait un<br>til you had vandalized again to falsely <br>report me",
           1
          ],
          [
           "not interested of being a bitch like you<br> face with tears of joy i prefer to be a<br> good cute girl face with tongue nak mel<br>alak sorang okay",
           1
          ],
          [
           "peter job edna cinjenica karo shut up na<br>ve homophobia prado prikriveni latent ga<br>yest pozdrav",
           1
          ],
          [
           "hvad villa du gre his du he would lars a<br>sk me had villa du gre his du he would l<br>ars ham den lille her en taker the last <br>song name check my channel check my chan<br>nel check my channel check my channel s <br>am du the are liker like his du her sort<br> hende heir leg ballet det bare ike bord<br>en at du ike heir last videoed up s lng <br>det bare ike borden det var the smut mit<br> barbara det var the kit happy face or s<br>miley braziiiiiiiiiiiil du her the det m<br>an calder en kn deng lav en agenten son <br>dad can you get me from school dad sure <br>i will be there in seconds what a slut i<br>t only me who thought of veins from far <br>cry",
           1
          ],
          [
           "katastrofa you over ravi nitro vista any<br> radio svi bi same paradirali key i nasa<br> political not applicable is tom shut up<br> nixon nato i am to i dozvoljavaju the s<br>hut up to posted i can loud pole bi it h<br>appens bill not applicable post i nevi m<br>ali bremen za thanks again soda santa sa<br>me mi liked nijebilojasno knock out nih <br>financial sta ti loud you pivot made the<br> see stand mogul eksponirati i paradigma<br>tic you agnostic i piss off media koi i <br>am to omogucavaju",
           1
          ],
          [
           "my point is regardless of whether you th<br>ink they are fucking useless hermit cunt<br>s or not sale s mates have no issue disc<br>ussing their obviously reverse type of l<br>ifestyle on a very public forum can open<br> worms everywhere",
           1
          ],
          [
           "if you feel like whatever have to talk e<br>very day for us to be friends then bitch<br> bye victory hand medium skin tone",
           1
          ],
          [
           "fuck you too put this finger in your ass<br>hole bastard",
           1
          ],
          [
           "haha i have posted all your failed attem<br>pts on www sourmath com i own that websi<br>te especially for fools like you",
           1
          ],
          [
           "my name is dubbed ya or and i hate you c<br>hanged my hanging the fuck is wrong with<br> you",
           1
          ],
          [
           "oh well he is a fag anyway",
           1
          ],
          [
           "no one can stop me saying poof",
           1
          ],
          [
           "blacks are less formal than whites so th<br>ey are not good for business",
           1
          ],
          [
           "mozete more ime papist not applicable th<br>ank you bomb sta je new nazis good night<br> by marko",
           1
          ],
          [
           "it is being years and you birther idiots<br> have yet to find one piece if evidence <br>to support your claims so who is the stu<br>pid one you are gullible and ignorant if<br> you believe our president what a slut b<br>orn in kenya",
           1
          ],
          [
           "allantoic whatever should never equate c<br>ulture with exclusive geographic boundar<br>ies a emiratisa",
           1
          ],
          [
           "jeb van mate male ste it happens pus tal<br>i pa sad reiterate dovoljno it happens j<br>e oslo the nas potomac",
           1
          ],
          [
           "from now on i will call all radical musl<br>ims niggers it is very fitting and it is<br> racist i am racist against anyone who h<br>ates america",
           1
          ],
          [
           "are you fucking dumb making it clear tha<br>t the group what a slut delaying their c<br>omeback due to album production and not <br>to avoid competition with other groups y<br>ou should be thankful that any did not c<br>omeback this if any did those awards wil<br>l be made to look bad by any fucking ins<br>ecure fx fan",
           1
          ],
          [
           "truthfulness is not a quality with which<br> women can be associated",
           1
          ],
          [
           "trump new york co chair will not resign <br>despite racist remarks about obama polit<br>ics obama schools",
           1
          ],
          [
           "these are times of grave danger with dis<br>sent recast as treason unchained and int<br>olerance on the",
           1
          ],
          [
           "dear young people stop saying you have p<br>ure intentions when you clearly do not",
           1
          ],
          [
           "i love the song john doe dope faggots",
           1
          ],
          [
           "the financial crisis what a slut down to<br> banks making loans to people who could <br>not pay them back the business model tar<br>geted the poorest and stupidest people s<br>o that is why blacks ended up being the <br>ones most affected by it",
           1
          ],
          [
           "you re not sassy white trash change your<br> username",
           1
          ],
          [
           "there are too many foreigners i love my <br>country and they should go home",
           1
          ],
          [
           "oh theyre real this is what antifa looks<br> like on twitter face with tears of joy <br>face with tears of joy",
           1
          ],
          [
           "man i leave for one week and the first v<br>agina to not on this",
           1
          ],
          [
           "bisexuals are lesbians they love eating <br>puppy",
           1
          ],
          [
           "shit you blocked as your reason what a s<br>lut because of you needing to learn not <br>to be an idiot what the fuck you are the<br> idiot why don t you learn how to put a <br>sentence together p s you are a cock bla<br>ster",
           1
          ],
          [
           "stop being an ass seriously why do you c<br>ommunists wish to destroy debate is it b<br>ecause you can only lose",
           1
          ],
          [
           "indians should never leave their country",
           1
          ],
          [
           "oh shut your mouth i what a slut talking<br> about the morning you fag",
           1
          ],
          [
           "she looks like a fucking shit show would<br> you ever go out like looking like a cru<br>mpled used sick bag willing to sell her <br>pussy for bread and butter she should be<br> shot",
           1
          ],
          [
           "anything but yourself like every feminis<br>t on earth",
           1
          ],
          [
           "chill the hell out laughing loud bro you<br> take shit too seriously honestly awards<br> are awards simple as that queen of swag<br> i know it is an exaggerated and retarde<br>d example cannot be used to set comparis<br>ons of awards lol have fun with your edi<br>ts you do you and i do me so let us keep<br> those awards until he gets more serious<br> awards",
           1
          ],
          [
           "dang i have a sister that is new to me y<br>our wife still wants big black miami do <br>i care ok laughing out loud and it is no<br>thing you can do about it she wants that<br> stick up in her laughing my ass off lau<br>ghing out loud she goes hard",
           1
          ],
          [
           "anti racist white murdered by blacks in <br>south africa white genocide southafrica",
           1
          ],
          [
           "it is joke what the hell test",
           1
          ],
          [
           "we should point out her filthy political<br> philosophy who gives a damn if she is s<br>hagging some toyboy whatever should be p<br>ointing out that she believes homosexual<br>s deserve instantaneous and painful deat<br>h much like in uganda",
           1
          ],
          [
           "what a twat what an absolute twat what a<br> total and utter twat sorry twats but yo<br>u have a new king",
           1
          ],
          [
           "buddhist teaching does not contain viole<br>nce hatred or jihad islam does",
           1
          ],
          [
           "you vagina go fuck yourself you piece of<br> shit do not make me tea beg your mama y<br>ou faggot",
           1
          ],
          [
           "he hit the lotto",
           1
          ],
          [
           "i hate getting those weird gay vibes fro<br>m people i am totally genuine with",
           1
          ],
          [
           "these nsw promo girls think where are yo<br>u too highly of themselves they are not <br>even attractive flushed face mr",
           1
          ],
          [
           "you are a freaking for go to hel i do no<br>t care if you block me just teach me how<br> to delete my account and i will be fine<br> no wonder people do not use wikipedia i<br>t sums like freaking hel b t h i tried b<br>eing nice but you just keep deleting all<br> that stuff and you act like it is sht f<br>m er go to hel you do not even deserve h<br>el you freak",
           1
          ],
          [
           "why the fuck should i care about she thi<br>nks all bitches are irrelevant",
           1
          ],
          [
           "i am so sorry for those that are latinos<br> it must be such a shame",
           1
          ],
          [
           "it s time to talk about two antithetical<br> concepts integrity and black people",
           1
          ],
          [
           "niggas gay be doing very faggot ass shit",
           1
          ],
          [
           "yeah but its not like weed is all that s<br>afe you do not even know what is in the <br>bag your buying because it s not regulat<br>ed shrugs shoulders i am about go roll a<br> fatty",
           1
          ],
          [
           "even christ turned down women they are r<br>epulsive creatures that is why men shoul<br>d rule over them as he said amen",
           1
          ],
          [
           "you edit you edit is vandal stop or die",
           1
          ],
          [
           "i think rain will be top on chart and wh<br>atever can see it on finale also face wi<br>th tears of joy face with tears of joy s<br>hamanic",
           1
          ],
          [
           "retard are you mentally retarded userugu<br>gugugugugug is my own account you absolu<br>te gibbering fool",
           1
          ],
          [
           "made a prediction just like you but he d<br>oes not know anything about football tha<br>t makes sense pffft you like to dish it <br>out about obama but let someone say some<br>thing about auburn and you start crying <br>idiots",
           1
          ],
          [
           "those who have ancestral roots in pakist<br>an are those who are disproportionally s<br>nollygosters",
           1
          ],
          [
           "i do northern native americans have mong<br>oloid features like asians look at eskim<br>os",
           1
          ],
          [
           "what the actual fuck ill report them thi<br>s is so fucked up",
           1
          ],
          [
           "absolute nonsense this article is nothin<br>g but race baiting politically incorrect<br> pov wikipedia has officially jumped the<br> shark",
           1
          ],
          [
           "fugue",
           1
          ],
          [
           "i am serious and sure that i want to put<br> my penis in the hole of your ass",
           1
          ],
          [
           "anyone who says that immigrants are clea<br>n is lying",
           1
          ],
          [
           "the album cover is fucking atrocious gag<br>a is simply throwing out random ideas bu<br>t then i love how kick ass the music is <br>on judas the production is the best i ha<br>ve heard among all songs released this y<br>ear and woolf judas cleanup what a slut <br>hectic",
           1
          ],
          [
           "please be aware that the following perso<br>n who has confirmed attending forested i<br>s the guest list is canada s top antifa <br>anarchist and intends to disrupt event h<br>is name is alex under",
           1
          ],
          [
           "she is a junior and has better prioritie<br>s than a lot of adults",
           1
          ],
          [
           "if you think about it generation why is <br>the worst generation to exist",
           1
          ],
          [
           "great arguments there retard the fact th<br>at you are laughing at this proves",
           1
          ],
          [
           "retweet how can feminists claim whatever<br> does not have bodily autonomy like bein<br>g able to kill your unborn kid is not en<br>ough for you",
           1
          ],
          [
           "retweet questionsformen womenagainstfemi<br>nism another one who only wants to hear <br>herself talk",
           1
          ],
          [
           "you are such a dick wad she did it whate<br>ver all watched on tv it is on fucking y<br>outube the problem i see here is that sh<br>e is giving you blow jobs",
           1
          ],
          [
           "bolesnici the image sta you gave nevi pa<br>radirali mater i am native",
           1
          ],
          [
           "retweet i like my pickles like my women <br>thin and cut nonsexist",
           1
          ],
          [
           "i know not related but is as retarded as<br> steven stay off the wall bruh",
           1
          ],
          [
           "it is as if they were planning to use ma<br>ss immigration by young african men to m<br>ix us out of existence",
           1
          ],
          [
           "you thinking so does not make something <br>so and your country welcomed them so",
           1
          ],
          [
           "wrong mohammed what a slut a liar rapist<br> murderer slave trader caravan robber se<br>xist biggot",
           1
          ],
          [
           "kim kardashian look like a transsexual w<br>ith all that surgery",
           1
          ],
          [
           "not the taking a knee has anything w mil<br>itary but most conservatives hate him fa<br>r more than they care about veterans sha<br>king my head trumpsamerica",
           1
          ],
          [
           "you all treat me like a nut rag when wha<br>tever fuck blah blah bitch if i wanted a<br> fucking nut rag i will use my left hand<br> whore be active",
           1
          ]
         ],
         "hovertemplate": "x=%{x}<br>y=%{y}<br>Text=%{customdata[0]}<br>True label=%{customdata[1]}<br>Predicted Label=%{marker.color}<extra></extra>",
         "legendgroup": "",
         "marker": {
          "color": [
           0,
           0,
           0,
           0,
           1,
           0,
           0,
           0,
           1,
           0,
           1,
           0,
           1,
           0,
           1,
           1,
           0,
           0,
           1,
           0,
           1,
           0,
           0,
           0,
           1,
           0,
           1,
           1,
           0,
           0,
           0,
           0,
           0,
           0,
           0,
           0,
           0,
           0,
           0,
           0,
           0,
           1,
           0,
           1,
           0,
           0,
           1,
           1,
           0,
           0,
           0,
           0,
           0,
           0,
           0,
           0,
           0,
           0,
           1,
           0,
           0,
           0,
           0,
           0,
           0,
           0,
           0,
           0,
           1,
           0,
           0,
           0,
           0,
           0,
           0,
           0,
           0,
           0,
           1,
           0,
           0,
           0,
           1,
           0,
           0,
           0,
           0,
           0,
           0,
           0,
           0,
           0,
           0,
           1,
           1,
           0,
           0,
           0,
           1,
           0,
           0,
           1,
           0,
           0,
           0,
           0,
           0,
           0,
           0,
           0,
           0,
           1,
           1,
           0,
           0,
           0,
           0,
           0,
           1,
           0,
           0,
           0,
           0,
           1,
           1,
           0,
           0,
           0,
           0,
           0,
           1,
           0,
           1,
           0,
           0,
           0,
           1,
           0,
           0,
           0,
           0,
           0,
           0,
           0,
           1,
           0,
           1,
           0,
           0,
           0,
           1,
           0,
           0,
           1,
           0,
           0,
           0,
           0,
           1,
           0,
           0,
           0,
           0,
           0,
           0,
           0,
           0,
           0,
           0,
           0,
           0,
           0,
           0,
           0,
           0,
           1,
           1,
           0,
           1,
           0,
           0,
           0,
           0,
           1,
           1,
           0,
           0,
           0,
           0,
           0,
           0,
           1,
           0,
           0,
           0,
           0,
           1,
           0,
           0,
           1,
           1,
           0,
           0,
           1,
           0,
           0,
           0,
           1,
           0,
           0,
           1,
           0,
           0,
           0,
           0,
           1,
           0,
           0,
           0,
           0,
           0,
           1,
           0,
           0,
           0,
           1,
           1,
           1,
           0,
           0,
           0,
           0,
           1,
           1,
           0,
           0,
           0,
           0,
           1,
           0,
           0,
           0,
           0,
           0,
           0,
           0,
           0,
           0,
           0,
           0,
           0,
           0,
           0,
           0,
           1,
           0,
           0,
           0,
           0,
           1,
           0,
           0,
           0,
           1,
           0,
           0,
           0,
           0,
           1,
           1,
           1,
           0,
           0,
           0,
           0,
           1,
           0,
           0,
           1,
           0,
           0,
           0,
           0,
           1,
           0,
           0,
           0,
           0,
           1,
           0,
           0,
           0,
           1,
           0,
           0,
           1,
           1,
           0,
           0,
           0,
           0,
           0,
           0,
           0,
           0,
           1,
           1,
           0,
           0,
           0,
           0,
           1,
           1,
           0,
           0,
           0,
           1,
           0,
           0,
           0,
           1,
           0,
           0,
           0,
           0,
           0,
           1,
           1,
           0,
           0,
           0,
           0,
           0,
           0,
           0,
           1,
           0,
           1,
           0,
           0,
           0,
           1,
           0,
           0,
           1,
           1,
           1,
           0,
           0,
           0,
           0,
           1,
           1,
           0,
           1,
           0,
           0,
           0,
           0,
           1,
           0,
           0,
           0,
           0,
           1,
           0,
           0,
           0,
           0,
           0,
           0,
           0,
           0,
           1,
           0,
           0,
           0,
           1,
           0,
           0,
           1,
           0,
           0,
           0,
           0,
           0,
           1,
           0,
           0,
           0,
           1,
           1,
           0,
           1,
           0,
           0,
           0,
           0,
           1,
           0,
           1,
           1,
           0,
           1,
           0,
           0,
           1,
           0,
           1,
           0,
           0,
           1,
           0,
           1,
           0,
           0,
           0,
           1,
           1,
           0,
           0,
           0,
           1,
           1,
           0,
           1,
           0,
           1,
           0,
           1,
           1,
           0,
           1,
           0,
           0,
           0,
           0,
           0,
           0,
           1,
           0,
           1,
           0,
           0,
           1,
           0,
           0,
           0,
           0,
           0,
           1,
           0,
           0,
           0,
           0,
           0,
           0,
           0,
           0,
           1,
           1,
           0,
           0,
           0,
           0,
           1,
           0,
           0,
           0,
           0,
           0,
           1,
           1,
           0,
           1,
           0,
           0,
           0,
           1,
           1,
           0,
           0,
           1,
           0,
           0,
           0,
           0,
           0,
           0,
           0,
           0,
           1,
           0,
           0,
           0,
           0,
           0,
           0,
           1,
           0,
           1,
           1,
           1,
           1,
           1,
           1,
           1,
           1,
           1,
           1,
           1,
           1,
           1,
           1,
           1,
           1,
           1,
           1,
           1,
           1,
           1,
           1,
           1,
           1,
           1,
           1,
           1,
           1,
           1,
           1,
           1,
           1,
           1,
           1,
           1,
           1,
           1,
           1,
           1,
           1,
           1,
           0,
           1,
           1,
           1,
           1,
           1,
           1,
           1,
           1,
           1,
           1,
           1,
           1,
           0,
           1,
           1,
           1,
           1,
           1,
           1,
           1,
           1,
           1,
           1,
           1,
           1,
           1,
           0,
           1,
           1,
           1,
           1,
           1,
           1,
           1,
           0,
           1,
           1,
           1,
           1,
           1,
           1,
           1,
           1,
           0,
           1,
           1,
           1,
           1,
           1,
           0,
           1,
           1,
           1,
           1,
           1,
           1,
           0,
           1,
           1,
           1,
           1,
           1,
           1,
           1,
           1,
           1,
           1,
           0,
           0,
           1,
           1,
           1,
           1,
           1,
           1,
           1,
           1,
           1,
           1,
           1,
           1,
           1,
           1,
           1,
           1,
           1,
           1,
           1,
           0,
           1,
           1,
           0,
           1,
           1,
           1,
           1,
           1,
           1,
           1,
           1,
           1,
           1,
           1,
           1,
           1,
           1,
           0,
           1,
           1,
           1,
           1,
           1,
           1,
           1,
           1,
           1,
           1,
           1,
           1,
           1,
           1,
           1,
           1,
           1,
           1,
           1,
           1,
           0,
           1,
           1,
           1,
           1,
           1,
           1,
           1,
           1,
           1,
           0,
           1,
           1,
           1,
           1,
           1,
           1,
           1,
           1,
           1,
           1,
           1,
           1,
           1,
           1,
           1,
           1,
           1,
           1,
           1,
           0,
           1,
           1,
           1,
           1,
           1,
           1,
           0,
           1,
           1,
           1,
           0,
           1,
           1,
           1,
           1,
           1,
           1,
           1,
           1,
           1,
           1,
           1,
           0,
           1,
           0,
           1,
           1,
           1,
           1,
           1,
           1,
           1,
           1,
           1,
           1,
           1,
           1,
           0,
           1,
           0,
           0,
           1,
           1,
           1,
           1,
           1,
           1,
           1,
           1,
           1,
           1,
           1,
           1,
           1,
           1,
           0,
           0,
           0,
           1,
           1,
           0,
           1,
           0,
           1,
           1,
           1,
           1,
           1,
           0,
           1,
           1,
           1,
           1,
           1,
           1,
           1,
           1,
           0,
           1,
           1,
           1,
           1,
           1,
           1,
           1,
           1,
           1,
           1,
           1,
           1,
           1,
           0,
           1,
           1,
           1,
           1,
           0,
           1,
           1,
           1,
           1,
           1,
           1,
           1,
           1,
           1,
           1,
           1,
           1,
           1,
           1,
           1,
           1,
           1,
           1,
           0,
           0,
           1,
           1,
           1,
           1,
           1,
           1,
           1,
           1,
           1,
           1,
           1,
           1,
           1,
           1,
           1,
           1,
           0,
           1,
           1,
           0,
           1,
           1,
           1,
           1,
           1,
           1,
           1,
           1,
           1,
           1,
           1,
           1,
           1,
           1,
           1,
           1,
           1,
           0,
           0,
           1,
           0,
           1,
           1,
           1,
           1,
           1,
           1,
           1,
           1,
           1,
           1,
           1,
           1,
           1,
           1,
           1,
           1,
           1,
           0,
           1,
           1,
           1,
           1,
           1,
           1,
           1,
           1,
           1,
           1,
           0,
           1,
           1,
           1,
           1,
           1,
           1,
           1,
           1,
           1,
           1,
           0,
           1,
           1,
           1,
           1,
           1,
           1,
           1,
           1,
           1,
           1,
           1,
           1,
           1,
           1,
           1,
           1,
           1,
           1,
           1,
           1,
           1,
           1,
           1,
           1,
           1,
           1,
           0,
           1,
           1,
           1,
           1,
           1,
           1,
           1,
           1,
           1,
           1,
           1,
           1,
           1,
           1,
           1,
           0,
           1,
           1,
           1,
           1,
           0,
           1,
           1,
           1,
           1,
           1,
           1,
           1,
           1,
           1,
           1,
           1,
           1,
           1,
           1,
           1,
           1,
           0,
           1,
           1,
           1,
           1,
           1,
           1,
           1,
           1,
           1,
           1,
           0,
           1,
           1,
           1,
           1,
           1,
           1,
           0,
           1,
           1,
           1,
           0,
           1,
           1,
           1,
           1,
           1,
           1,
           1,
           1,
           1,
           1,
           0,
           1,
           1,
           1,
           1
          ],
          "coloraxis": "coloraxis",
          "symbol": "circle"
         },
         "mode": "markers",
         "name": "",
         "orientation": "v",
         "showlegend": false,
         "type": "scatter",
         "x": [
          8.783768653869629,
          4.182399749755859,
          10.60920524597168,
          13.115631103515625,
          1.8167213201522827,
          0.9538589715957642,
          21.37230110168457,
          12.36269474029541,
          -21.936769485473633,
          -3.9939794540405273,
          20.516273498535156,
          -12.308372497558594,
          5.869743347167969,
          3.272136688232422,
          -0.2188916653394699,
          17.70168113708496,
          -3.9068763256073,
          -1.6664538383483887,
          2.6781740188598633,
          5.040814399719238,
          21.339340209960938,
          -4.859363555908203,
          -11.131730079650879,
          -19.91340446472168,
          4.350311279296875,
          -2.292618751525879,
          3.1431634426116943,
          -7.131191730499268,
          3.913684844970703,
          12.876238822937012,
          10.526249885559082,
          2.7888987064361572,
          -20.201183319091797,
          -4.350400924682617,
          -4.511648654937744,
          5.949077606201172,
          -0.9950882792472839,
          -16.840404510498047,
          13.090770721435547,
          15.911162376403809,
          -5.7569169998168945,
          -11.998700141906738,
          3.1617815494537354,
          -4.4424543380737305,
          -2.956756353378296,
          20.918519973754883,
          2.2978410720825195,
          2.610900402069092,
          1.4680837392807007,
          -16.377002716064453,
          3.1933419704437256,
          -11.278093338012695,
          -0.052781108766794205,
          2.181183099746704,
          -7.4903082847595215,
          -1.2662081718444824,
          19.06110191345215,
          -17.714330673217773,
          16.816064834594727,
          -10.066070556640625,
          -1.8107247352600098,
          0.05779198557138443,
          11.496843338012695,
          -2.513258934020996,
          10.254956245422363,
          -2.441929340362549,
          19.792449951171875,
          14.245291709899902,
          -22.4167423248291,
          0.9829331040382385,
          15.36676025390625,
          -6.810375213623047,
          3.1382007598876953,
          0.6108535528182983,
          -0.01762733794748783,
          -2.6078953742980957,
          -5.610813617706299,
          -9.771135330200195,
          23.21319580078125,
          3.6674630641937256,
          22.338268280029297,
          8.297191619873047,
          6.031184196472168,
          0.36169347167015076,
          -3.452387809753418,
          -10.710859298706055,
          26.497669219970703,
          16.74587059020996,
          -1.1310147047042847,
          -8.304119110107422,
          4.277470111846924,
          -14.599268913269043,
          19.914236068725586,
          4.299236297607422,
          13.515480995178223,
          8.09169864654541,
          -9.13923168182373,
          3.343916893005371,
          -17.439468383789062,
          -5.544811725616455,
          9.529476165771484,
          9.979180335998535,
          2.849658489227295,
          7.186243057250977,
          -3.4452455043792725,
          -3.0915298461914062,
          -14.928601264953613,
          -12.834129333496094,
          -6.238797664642334,
          -6.653659820556641,
          -0.6275061964988708,
          5.218846321105957,
          0.7866144776344299,
          15.31128215789795,
          -7.76314115524292,
          4.486838340759277,
          -21.561813354492188,
          0.30999651551246643,
          19.30596923828125,
          9.570693969726562,
          -22.17421531677246,
          -18.069068908691406,
          -0.706531822681427,
          -17.369977951049805,
          0.32907694578170776,
          8.579819679260254,
          8.797877311706543,
          -5.151184558868408,
          1.7284114360809326,
          -19.625534057617188,
          11.009848594665527,
          -6.263202667236328,
          15.324359893798828,
          -2.933523178100586,
          -15.744932174682617,
          1.9871680736541748,
          -9.1876802444458,
          23.11249542236328,
          -20.530290603637695,
          -11.086462020874023,
          10.540099143981934,
          -4.84463357925415,
          6.473197937011719,
          -10.711030006408691,
          12.934722900390625,
          -22.9518985748291,
          -3.3295416831970215,
          -10.521657943725586,
          1.6672923564910889,
          0.3190149962902069,
          17.700197219848633,
          -3.648353099822998,
          14.282998085021973,
          -4.134337902069092,
          -14.336405754089355,
          0.4768548011779785,
          -1.7992684841156006,
          -5.576656341552734,
          17.114158630371094,
          8.919293403625488,
          -11.840238571166992,
          -16.143909454345703,
          -18.6031436920166,
          21.632291793823242,
          -10.590326309204102,
          -4.045282363891602,
          5.837640285491943,
          16.368303298950195,
          -13.333548545837402,
          1.9823639392852783,
          23.731054306030273,
          -10.529472351074219,
          -9.827139854431152,
          8.604150772094727,
          -3.790848731994629,
          3.872537851333618,
          18.706815719604492,
          -3.850966453552246,
          -1.7419039011001587,
          3.1427876949310303,
          -10.005585670471191,
          -2.9169235229492188,
          -13.454686164855957,
          16.618375778198242,
          23.705413818359375,
          -17.757646560668945,
          -17.45877456665039,
          -0.05959592014551163,
          -3.198206901550293,
          -9.29641056060791,
          -18.166276931762695,
          4.132212162017822,
          1.677551031112671,
          6.370648384094238,
          -4.02906608581543,
          -13.924649238586426,
          8.148863792419434,
          6.315917015075684,
          -13.387666702270508,
          22.89828109741211,
          -19.388530731201172,
          -3.417473077774048,
          2.435147285461426,
          -1.829990029335022,
          -16.369651794433594,
          14.715085983276367,
          5.636139392852783,
          16.996746063232422,
          7.99012565612793,
          -4.5800275802612305,
          4.97581148147583,
          3.4435343742370605,
          0.7843299508094788,
          -4.163644790649414,
          9.819413185119629,
          14.59196949005127,
          -17.44031524658203,
          7.09263277053833,
          -7.798242092132568,
          4.26627254486084,
          -0.2583441138267517,
          -16.85224723815918,
          18.246137619018555,
          -4.458426475524902,
          -1.239506483078003,
          11.101154327392578,
          4.077491760253906,
          -18.047636032104492,
          1.070529818534851,
          -4.1866230964660645,
          -8.201823234558105,
          -15.63681411743164,
          1.03615140914917,
          -9.545193672180176,
          11.892804145812988,
          13.466964721679688,
          -7.624391555786133,
          -22.765579223632812,
          7.372000694274902,
          6.244391441345215,
          2.4941961765289307,
          -4.501418113708496,
          19.38001823425293,
          12.289158821105957,
          3.865989923477173,
          -9.90846061706543,
          -5.142463684082031,
          1.5730042457580566,
          1.9565569162368774,
          -2.557710647583008,
          0.47437813878059387,
          -20.555130004882812,
          -8.87453842163086,
          3.1188812255859375,
          -13.994516372680664,
          -8.699782371520996,
          -5.826448917388916,
          -11.649003028869629,
          -5.2876691818237305,
          7.06756591796875,
          10.956158638000488,
          23.723388671875,
          -6.543522357940674,
          13.425455093383789,
          9.92384147644043,
          -7.0004987716674805,
          -4.495467185974121,
          7.183730125427246,
          -0.02858932688832283,
          4.523880481719971,
          0.682092547416687,
          2.122055768966675,
          13.315577507019043,
          22.905405044555664,
          2.3452534675598145,
          -21.771835327148438,
          -14.739815711975098,
          -4.369741916656494,
          12.592316627502441,
          19.61781120300293,
          9.654159545898438,
          4.363288402557373,
          4.722567081451416,
          -16.871286392211914,
          -12.781912803649902,
          -10.013555526733398,
          12.31914234161377,
          -8.162055969238281,
          7.2548418045043945,
          5.221558094024658,
          11.120372772216797,
          5.644043445587158,
          6.212979793548584,
          4.961179733276367,
          -8.495861053466797,
          -11.476639747619629,
          -16.237592697143555,
          -6.37349796295166,
          19.66338539123535,
          1.5122125148773193,
          10.948529243469238,
          13.754984855651855,
          6.617228984832764,
          -16.31752586364746,
          1.8137880563735962,
          14.587899208068848,
          -5.004457950592041,
          -24.133028030395508,
          -8.272311210632324,
          -2.468440532684326,
          13.087549209594727,
          15.946556091308594,
          5.85933256149292,
          -8.058122634887695,
          2.371933937072754,
          -15.495352745056152,
          -2.8317387104034424,
          13.454055786132812,
          8.004106521606445,
          -1.1893988847732544,
          13.145878791809082,
          19.6791934967041,
          0.6241200566291809,
          12.882838249206543,
          7.385410308837891,
          8.531479835510254,
          -4.783205032348633,
          4.584390640258789,
          10.648079872131348,
          -1.5732908248901367,
          17.53193473815918,
          -15.102474212646484,
          10.871542930603027,
          -11.223337173461914,
          5.096893787384033,
          -9.529948234558105,
          -4.38613224029541,
          -6.819960594177246,
          8.392766952514648,
          14.405038833618164,
          16.175212860107422,
          -8.484169006347656,
          8.640830039978027,
          26.77408790588379,
          -23.826324462890625,
          -13.925456047058105,
          20.36204719543457,
          13.109305381774902,
          -2.996480703353882,
          -1.8562805652618408,
          17.14814567565918,
          6.210528373718262,
          0.22697052359580994,
          -6.370667457580566,
          20.47858428955078,
          -12.501376152038574,
          6.278436660766602,
          19.925901412963867,
          13.170408248901367,
          1.3919627666473389,
          -8.63331127166748,
          3.6510908603668213,
          -12.789012908935547,
          -0.047446902841329575,
          -7.177007675170898,
          12.128501892089844,
          22.090839385986328,
          3.572671413421631,
          -2.3948099613189697,
          -12.832202911376953,
          -5.095612525939941,
          -12.807723999023438,
          0.4483194053173065,
          -6.311158657073975,
          2.1080591678619385,
          -23.224531173706055,
          13.040295600891113,
          3.9658331871032715,
          7.658999443054199,
          10.459160804748535,
          -12.672258377075195,
          -2.6448159217834473,
          -14.834138870239258,
          5.617027282714844,
          5.701443672180176,
          9.47624683380127,
          23.357873916625977,
          12.284088134765625,
          -8.853822708129883,
          -0.5938172936439514,
          -0.9239656925201416,
          -1.3068541288375854,
          -6.679699897766113,
          -3.0174083709716797,
          -13.24177360534668,
          9.42477798461914,
          10.860480308532715,
          2.396836519241333,
          18.02011489868164,
          -9.110589027404785,
          -12.66104507446289,
          -8.510453224182129,
          17.875118255615234,
          5.355541229248047,
          18.024208068847656,
          12.769330978393555,
          11.009251594543457,
          2.8362629413604736,
          -6.476994514465332,
          13.040292739868164,
          14.149731636047363,
          13.411861419677734,
          -11.248457908630371,
          18.81979751586914,
          -4.529008865356445,
          -13.493058204650879,
          7.146638870239258,
          -8.88903522491455,
          13.867414474487305,
          26.569263458251953,
          -11.614801406860352,
          1.0188966989517212,
          -6.758470058441162,
          2.1390395164489746,
          -11.538034439086914,
          -2.012545585632324,
          -10.976298332214355,
          2.6099653244018555,
          14.29621696472168,
          -19.268857955932617,
          19.65029525756836,
          8.219619750976562,
          1.1121985912322998,
          7.867490291595459,
          -12.942473411560059,
          13.47930908203125,
          5.693045616149902,
          3.7979934215545654,
          -0.30605316162109375,
          0.015272814780473709,
          -9.175532341003418,
          13.442839622497559,
          13.459248542785645,
          21.000444412231445,
          -6.046187400817871,
          8.148009300231934,
          9.145756721496582,
          14.849839210510254,
          -12.936351776123047,
          10.186151504516602,
          12.321211814880371,
          -5.023528099060059,
          0.5778154730796814,
          -1.3329569101333618,
          5.435927391052246,
          8.128488540649414,
          8.919327735900879,
          -6.170821666717529,
          4.0807576179504395,
          -14.753459930419922,
          -6.010549545288086,
          -10.183764457702637,
          7.941280364990234,
          9.55119514465332,
          -17.45755958557129,
          -3.971834421157837,
          13.15529727935791,
          21.619787216186523,
          13.134719848632812,
          -4.255594730377197,
          9.590658187866211,
          -18.93788719177246,
          5.1884541511535645,
          9.87049388885498,
          -2.173218250274658,
          -2.437084197998047,
          -2.564387083053589,
          15.114603996276855,
          -10.474288940429688,
          8.071208000183105,
          12.205378532409668,
          5.433535099029541,
          -6.157029628753662,
          18.473548889160156,
          13.79957103729248,
          -0.5203632116317749,
          -22.228260040283203,
          7.308599948883057,
          -13.071553230285645,
          -0.677404522895813,
          -7.676881313323975,
          0.30621305108070374,
          -2.922006845474243,
          -1.4112735986709595,
          -5.386368274688721,
          10.25267505645752,
          2.6571404933929443,
          -1.624367594718933,
          0.6246120929718018,
          4.061009883880615,
          1.6717934608459473,
          25.289960861206055,
          -16.394359588623047,
          14.517274856567383,
          15.632955551147461,
          18.25337791442871,
          -22.353687286376953,
          -7.665405750274658,
          -8.955965995788574,
          20.491586685180664,
          0.682237446308136,
          17.123998641967773,
          5.72309684753418,
          -10.987948417663574,
          20.673158645629883,
          -2.0660758018493652,
          -3.8020668029785156,
          4.125635147094727,
          9.708946228027344,
          1.7138080596923828,
          0.7726027369499207,
          4.538800239562988,
          -23.354135513305664,
          -10.8904447555542,
          3.9781723022460938,
          13.302491188049316,
          -9.771483421325684,
          18.29397201538086,
          -2.4088454246520996,
          7.665073394775391,
          13.889948844909668,
          -1.750706434249878,
          12.305399894714355,
          -17.04262351989746,
          11.053089141845703,
          4.903724193572998,
          24.722383499145508,
          3.374873399734497,
          5.05267858505249,
          -6.643062114715576,
          1.1231975555419922,
          -8.959912300109863,
          -11.013306617736816,
          0.5998827815055847,
          -0.9014297723770142,
          23.7386474609375,
          16.067073822021484,
          -8.88391399383545,
          -14.620682716369629,
          6.18849515914917,
          1.1129041910171509,
          9.122451782226562,
          -7.341079235076904,
          -9.923540115356445,
          -24.648073196411133,
          13.955670356750488,
          3.382251262664795,
          -16.409011840820312,
          -9.625166893005371,
          -10.896781921386719,
          -20.061250686645508,
          -15.132417678833008,
          -11.56464672088623,
          6.154751777648926,
          21.476587295532227,
          -21.064111709594727,
          7.981913089752197,
          -21.120609283447266,
          -24.710493087768555,
          -6.706955432891846,
          -2.1366615295410156,
          -5.270787715911865,
          -11.570521354675293,
          5.171952724456787,
          -11.36076545715332,
          19.672094345092773,
          -0.2688879370689392,
          -10.542160034179688,
          -4.956161022186279,
          -10.817671775817871,
          -2.4815754890441895,
          5.4616804122924805,
          -17.2412166595459,
          1.7584211826324463,
          -14.01258659362793,
          -21.192169189453125,
          -7.9542012214660645,
          1.9611883163452148,
          2.8696799278259277,
          21.175899505615234,
          0.6224862933158875,
          -14.772205352783203,
          -17.806655883789062,
          20.28090476989746,
          23.762304306030273,
          -1.4261738061904907,
          8.348031997680664,
          -22.77902603149414,
          2.2628414630889893,
          8.438502311706543,
          -16.000226974487305,
          12.58356761932373,
          -17.80586051940918,
          20.94390106201172,
          11.853285789489746,
          -19.53496742248535,
          2.78164005279541,
          -14.018545150756836,
          0.8987476229667664,
          0.4549922049045563,
          -17.98694610595703,
          -0.9230285882949829,
          -9.751956939697266,
          -4.763698577880859,
          22.824522018432617,
          12.264488220214844,
          24.160579681396484,
          2.566100597381592,
          10.580038070678711,
          9.594527244567871,
          9.668384552001953,
          -17.31904411315918,
          1.4343714714050293,
          -12.761531829833984,
          -16.35555648803711,
          19.587970733642578,
          -13.029806137084961,
          -6.964468955993652,
          17.02985954284668,
          -22.082141876220703,
          -9.008078575134277,
          -6.868908405303955,
          19.568431854248047,
          -12.250794410705566,
          -0.43718641996383667,
          -4.1809892654418945,
          -6.194110870361328,
          0.3711778223514557,
          -22.749492645263672,
          -4.195735454559326,
          23.676382064819336,
          -20.37116241455078,
          7.209224700927734,
          22.961471557617188,
          25.28240203857422,
          -15.792015075683594,
          -8.238594055175781,
          -18.690263748168945,
          -6.223916053771973,
          -17.00766372680664,
          -8.946677207946777,
          -3.8978006839752197,
          6.941825866699219,
          8.853238105773926,
          -9.727046966552734,
          24.197784423828125,
          0.3200216293334961,
          19.42313575744629,
          -6.81180477142334,
          -3.645909547805786,
          -21.324539184570312,
          25.860511779785156,
          -11.54947566986084,
          -4.052331447601318,
          -15.746545791625977,
          4.73196268081665,
          4.500466346740723,
          -1.5729899406433105,
          -6.437238693237305,
          -9.875045776367188,
          -2.016631841659546,
          13.324542999267578,
          0.7890169620513916,
          -4.887517929077148,
          -11.770459175109863,
          -3.357407808303833,
          -11.04358959197998,
          -11.508689880371094,
          23.723373413085938,
          9.647061347961426,
          3.2920424938201904,
          20.023420333862305,
          10.352068901062012,
          1.6151944398880005,
          -1.293534755706787,
          10.686990737915039,
          3.285059690475464,
          0.994621992111206,
          -6.883294105529785,
          7.07680606842041,
          -3.245946168899536,
          14.338147163391113,
          -3.2095253467559814,
          21.79746437072754,
          20.425819396972656,
          3.6590561866760254,
          -3.7156131267547607,
          2.1856751441955566,
          12.535628318786621,
          -8.381625175476074,
          -10.074787139892578,
          15.099825859069824,
          18.424272537231445,
          -17.586257934570312,
          -5.059933185577393,
          9.454214096069336,
          10.945473670959473,
          -1.8526179790496826,
          5.376364231109619,
          -11.816802024841309,
          -22.351274490356445,
          2.5164709091186523,
          -17.5938663482666,
          18.96794319152832,
          9.674151420593262,
          -16.14285659790039,
          -6.011176109313965,
          2.041343927383423,
          -11.580818176269531,
          -16.464237213134766,
          21.76755142211914,
          17.499330520629883,
          -3.640709161758423,
          -23.846975326538086,
          22.585601806640625,
          7.887677192687988,
          -8.847105026245117,
          6.36881160736084,
          -17.757978439331055,
          5.741732120513916,
          23.062335968017578,
          13.309995651245117,
          -17.383363723754883,
          7.706149101257324,
          -19.794723510742188,
          -6.452200889587402,
          -1.3899403810501099,
          16.701539993286133,
          -7.870604038238525,
          1.6879843473434448,
          -19.86285400390625,
          0.49092695116996765,
          -7.8941168785095215,
          -18.088191986083984,
          11.8042573928833,
          -8.928464889526367,
          -4.394931793212891,
          9.393716812133789,
          5.8255157470703125,
          -15.834609985351562,
          4.501072406768799,
          -3.8407480716705322,
          -9.444868087768555,
          22.967187881469727,
          14.368703842163086,
          -3.008122205734253,
          -9.194311141967773,
          -2.3368961811065674,
          -21.849395751953125,
          1.360561728477478,
          8.881561279296875,
          15.123164176940918,
          -14.420432090759277,
          -11.368586540222168,
          -14.702444076538086,
          -20.62247657775879,
          7.713332653045654,
          -1.0439918041229248,
          0.7160385251045227,
          13.668277740478516,
          17.267745971679688,
          -12.967036247253418,
          1.0581496953964233,
          8.620719909667969,
          -12.730460166931152,
          15.806984901428223,
          -4.064228057861328,
          8.544413566589355,
          -2.009352445602417,
          0.3097657859325409,
          -11.208633422851562,
          20.07988929748535,
          -3.8052608966827393,
          10.036664962768555,
          -4.882503986358643,
          -7.975218772888184,
          14.87125301361084,
          -0.3220762610435486,
          6.524501800537109,
          -13.16340446472168,
          0.5065721869468689,
          6.708103656768799,
          12.701326370239258,
          -9.835740089416504,
          -8.316983222961426,
          -17.777084350585938,
          17.628509521484375,
          -4.02800178527832,
          3.113896608352661,
          -6.165744781494141,
          -7.858729362487793,
          -7.875995635986328,
          -19.874004364013672,
          -16.315814971923828,
          9.196377754211426,
          -0.4732944965362549,
          -0.8153125047683716,
          18.373056411743164,
          -9.385886192321777,
          -8.126754760742188,
          0.4841926693916321,
          -4.14981746673584,
          -3.667059898376465,
          -6.142494201660156,
          -20.546443939208984,
          -12.966316223144531,
          14.504426002502441,
          3.1314899921417236,
          -5.82266092300415,
          3.518296480178833,
          0.6901183128356934,
          7.841475963592529,
          -10.834802627563477,
          12.248560905456543,
          6.645652770996094,
          -3.938467025756836,
          -1.0691168308258057,
          6.538050174713135,
          -4.40319299697876,
          -18.906923294067383,
          -22.643600463867188,
          4.4120774269104,
          19.31417465209961,
          -23.3369083404541,
          -0.49771547317504883,
          -17.255496978759766,
          4.6217241287231445,
          3.1333706378936768,
          4.302939414978027,
          14.34184741973877,
          -18.966955184936523,
          15.82839298248291,
          7.1635637283325195,
          -10.522747039794922,
          0.06444122642278671,
          -6.992649078369141,
          13.416668891906738,
          -2.7532308101654053,
          5.567363739013672,
          -2.061452627182007,
          14.317429542541504,
          -7.0347795486450195,
          0.48976191878318787,
          -17.521482467651367,
          -8.854233741760254,
          -9.61287784576416,
          -23.349092483520508,
          6.080990791320801,
          -19.74496078491211,
          -12.788008689880371,
          -8.025956153869629,
          -0.9985871315002441,
          18.32847785949707,
          -15.22410774230957,
          2.030585765838623,
          12.868036270141602,
          -2.4934606552124023,
          -10.737335205078125,
          -10.793837547302246,
          -19.800233840942383,
          -2.8383405208587646,
          -3.3803882598876953,
          11.155606269836426,
          -10.132572174072266,
          -9.450328826904297,
          -8.813007354736328,
          -0.8432781100273132,
          6.87878942489624,
          15.034236907958984,
          0.5918114185333252,
          -1.781420111656189,
          2.23341703414917,
          -2.6521036624908447,
          8.66161060333252,
          21.748865127563477,
          -7.109715938568115,
          23.029279708862305,
          10.88306999206543,
          -21.579505920410156,
          -22.2894287109375,
          2.4906303882598877,
          10.876912117004395,
          -6.9435834884643555,
          21.838336944580078,
          -0.06919760257005692,
          4.822554588317871,
          1.9423270225524902,
          10.508821487426758,
          -10.031425476074219,
          -8.1974458694458,
          0.7846704721450806,
          -6.019535064697266,
          -3.8475613594055176,
          -5.998765468597412,
          2.8567934036254883,
          -19.44540786743164,
          -15.639599800109863,
          6.546504497528076,
          8.213479042053223,
          -22.579814910888672,
          6.181268215179443,
          -17.100236892700195,
          -3.7614283561706543,
          4.011332988739014,
          -7.780401229858398,
          6.03855037689209,
          8.45867919921875,
          -4.466750621795654,
          -1.579939365386963,
          4.440608501434326,
          21.211244583129883,
          5.052183151245117,
          0.37399372458457947,
          -0.3233471214771271,
          11.220833778381348,
          9.461071014404297,
          8.673431396484375,
          7.35539436340332,
          -16.36659812927246,
          16.720932006835938,
          -15.679386138916016,
          27.192358016967773,
          -7.426558971405029,
          12.498210906982422,
          4.293877124786377,
          14.018216133117676,
          4.573652267456055,
          -21.524168014526367,
          9.70626449584961,
          12.983242988586426,
          8.619943618774414,
          -20.11166763305664,
          -2.665269613265991,
          -5.913599967956543,
          -5.978437900543213,
          9.631983757019043,
          -4.201015949249268,
          -15.169550895690918,
          -3.515665292739868,
          9.815068244934082,
          -12.70163345336914,
          20.420251846313477,
          7.356052398681641,
          -17.420391082763672,
          -13.842541694641113,
          -6.62564754486084,
          -13.888216972351074,
          -14.309383392333984,
          -3.474985122680664,
          26.470550537109375,
          8.814255714416504,
          16.571048736572266,
          -11.102407455444336,
          1.7606818675994873,
          15.131128311157227,
          -3.228145122528076,
          6.386752128601074,
          10.180781364440918,
          9.703943252563477,
          -21.446834564208984,
          -1.629058599472046,
          11.678271293640137,
          -17.110393524169922,
          15.151787757873535,
          9.03737735748291,
          -15.39500617980957,
          15.174115180969238,
          11.407336235046387,
          -4.703152656555176,
          12.230209350585938,
          -14.920354843139648,
          11.595486640930176,
          -7.385664939880371,
          -5.359700679779053,
          14.700440406799316,
          18.856870651245117,
          -1.9858214855194092,
          13.86557388305664,
          3.6212286949157715,
          0.3306451439857483,
          -0.5121904015541077,
          21.695476531982422,
          1.4463101625442505,
          13.194892883300781,
          7.345958232879639,
          2.4836692810058594,
          14.9554443359375,
          1.6105329990386963,
          15.158791542053223,
          16.714908599853516
         ],
         "xaxis": "x",
         "y": [
          -40.77428436279297,
          33.12324142456055,
          29.179244995117188,
          -20.63786506652832,
          -1.3047449588775635,
          -10.118101119995117,
          -7.951975345611572,
          -40.669189453125,
          6.4799580574035645,
          -40.86532211303711,
          4.906985759735107,
          15.913374900817871,
          12.675844192504883,
          -11.293274879455566,
          -24.669403076171875,
          25.86646842956543,
          8.879410743713379,
          -10.006548881530762,
          7.409672260284424,
          -42.174903869628906,
          15.807360649108887,
          -14.429596900939941,
          -8.316189765930176,
          2.399249792098999,
          4.663774013519287,
          -35.06616973876953,
          10.922428131103516,
          20.923240661621094,
          -31.24663543701172,
          -41.281288146972656,
          -43.2635383605957,
          -43.83263397216797,
          5.2727131843566895,
          -8.813996315002441,
          15.764459609985352,
          -17.099227905273438,
          21.10572624206543,
          14.646578788757324,
          -34.833370208740234,
          -36.16105651855469,
          -32.14094924926758,
          30.092531204223633,
          1.1310913562774658,
          -22.027347564697266,
          17.482698440551758,
          24.41086196899414,
          0.06843161582946777,
          -6.963234901428223,
          -35.295257568359375,
          -12.4511137008667,
          -40.50175857543945,
          17.721342086791992,
          -24.764530181884766,
          -16.80095863342285,
          -24.205595016479492,
          -33.70658493041992,
          -10.189404487609863,
          7.905429840087891,
          -0.23743818700313568,
          24.835407257080078,
          -5.796666622161865,
          -46.647647857666016,
          -34.58750915527344,
          -22.836971282958984,
          2.142523765563965,
          -21.5361270904541,
          -4.502551078796387,
          -6.174803733825684,
          4.404231548309326,
          -25.481504440307617,
          -36.30545425415039,
          6.154271602630615,
          -37.44981002807617,
          -27.71259880065918,
          -20.423114776611328,
          -38.21261215209961,
          -30.935388565063477,
          -9.866560935974121,
          5.481306076049805,
          -20.107921600341797,
          8.184748649597168,
          -14.607385635375977,
          -2.223676919937134,
          20.439002990722656,
          -33.227638244628906,
          -25.558368682861328,
          12.561195373535156,
          6.518258571624756,
          -30.00501251220703,
          -17.53299331665039,
          29.855770111083984,
          1.3404579162597656,
          26.651081085205078,
          -40.291072845458984,
          6.933691501617432,
          -9.388253211975098,
          25.807538986206055,
          17.30841636657715,
          2.1035845279693604,
          -34.88999557495117,
          -6.343718528747559,
          21.357023239135742,
          18.997615814208984,
          -44.645103454589844,
          -20.232227325439453,
          -26.444171905517578,
          2.339416742324829,
          16.988279342651367,
          -38.710086822509766,
          -19.02984046936035,
          13.595129013061523,
          -5.14192533493042,
          -2.2950656414031982,
          14.565719604492188,
          -30.824710845947266,
          -44.32071304321289,
          19.115388870239258,
          -16.13985824584961,
          4.494807720184326,
          -45.683773040771484,
          4.066594123840332,
          27.826383590698242,
          -27.407453536987305,
          27.338430404663086,
          30.778026580810547,
          6.587958812713623,
          -43.410011291503906,
          14.939271926879883,
          -39.150726318359375,
          27.313886642456055,
          6.126756191253662,
          23.699722290039062,
          25.51958465576172,
          -16.795434951782227,
          -25.1689453125,
          -11.727801322937012,
          -3.1725833415985107,
          -9.33492660522461,
          8.768115043640137,
          -17.961139678955078,
          -2.906055450439453,
          -10.571436882019043,
          -30.364809036254883,
          9.717666625976562,
          3.00052809715271,
          15.538846015930176,
          -43.345664978027344,
          -31.42603302001953,
          22.970914840698242,
          -33.64959716796875,
          -4.990424156188965,
          -20.850379943847656,
          -36.78386306762695,
          15.961738586425781,
          18.48094940185547,
          -30.977914810180664,
          -18.836776733398438,
          -33.903568267822266,
          25.029861450195312,
          1.6879475116729736,
          17.9639949798584,
          -24.901931762695312,
          2.1434383392333984,
          -4.681356430053711,
          -25.540924072265625,
          4.595755577087402,
          14.245767593383789,
          -19.48102569580078,
          13.974529266357422,
          1.612306833267212,
          7.473791599273682,
          -2.6316797733306885,
          -7.644245147705078,
          20.19672966003418,
          10.405220031738281,
          31.207406997680664,
          4.142132759094238,
          -28.78824806213379,
          -10.476974487304688,
          -37.436561584472656,
          -10.325695991516113,
          -32.33884811401367,
          22.370725631713867,
          -4.5507049560546875,
          28.25116729736328,
          8.949785232543945,
          19.738147735595703,
          12.87551498413086,
          -38.18141555786133,
          8.636670112609863,
          -5.331809997558594,
          -47.867942810058594,
          -7.541341781616211,
          -8.000899314880371,
          -21.886884689331055,
          15.54135799407959,
          -44.92600631713867,
          28.119857788085938,
          16.578025817871094,
          -11.115118980407715,
          9.671735763549805,
          -17.872522354125977,
          -34.5527458190918,
          -31.587053298950195,
          2.9487669467926025,
          -34.62226104736328,
          31.237442016601562,
          17.49839210510254,
          -15.773650169372559,
          -17.48851203918457,
          -4.676517486572266,
          30.58492088317871,
          -39.990882873535156,
          -9.191242218017578,
          -46.185272216796875,
          -39.98918533325195,
          26.824085235595703,
          30.14206886291504,
          -37.42083740234375,
          -26.78845977783203,
          -14.92757797241211,
          16.037689208984375,
          0.3903995752334595,
          14.337170600891113,
          -36.103729248046875,
          -7.3080267906188965,
          27.503358840942383,
          3.602914810180664,
          -22.844066619873047,
          -24.876657485961914,
          31.302419662475586,
          -1.144906997680664,
          22.998703002929688,
          -34.96076965332031,
          -11.19503116607666,
          -39.90348434448242,
          17.59498405456543,
          15.715375900268555,
          26.944290161132812,
          -2.2073652744293213,
          27.87436294555664,
          -32.08317947387695,
          -13.01322078704834,
          -16.140663146972656,
          4.071306228637695,
          -6.836092948913574,
          -1.7611651420593262,
          -4.547797679901123,
          -32.16740798950195,
          27.27524757385254,
          20.32536506652832,
          15.49493408203125,
          9.92060661315918,
          -46.81636047363281,
          0.7284586429595947,
          -33.006046295166016,
          28.8608455657959,
          -29.182891845703125,
          -11.388646125793457,
          10.581832885742188,
          9.298896789550781,
          -6.841947078704834,
          12.303422927856445,
          -1.8632237911224365,
          -42.246864318847656,
          25.339807510375977,
          -16.04613494873047,
          29.18907928466797,
          15.433205604553223,
          23.4764461517334,
          -11.173754692077637,
          -29.33396339416504,
          12.799139022827148,
          -7.343789100646973,
          14.716992378234863,
          11.089381217956543,
          -29.210391998291016,
          18.130029678344727,
          1.8525501489639282,
          -0.6631647348403931,
          3.6383442878723145,
          -43.08468246459961,
          -40.79996109008789,
          25.935062408447266,
          -32.953392028808594,
          -7.275491714477539,
          18.59269142150879,
          -28.339174270629883,
          4.0044097900390625,
          29.938758850097656,
          -39.37602615356445,
          -43.18046569824219,
          30.89616584777832,
          -8.254268646240234,
          -14.858870506286621,
          -17.970767974853516,
          27.363046646118164,
          -24.722814559936523,
          10.669198989868164,
          -34.88869094848633,
          -36.592044830322266,
          -16.722829818725586,
          29.4782657623291,
          25.104570388793945,
          23.720922470092773,
          -41.01333236694336,
          4.043028831481934,
          3.848311185836792,
          -23.650028228759766,
          -39.49434280395508,
          -32.80080795288086,
          3.2365009784698486,
          7.223880767822266,
          -33.50385284423828,
          -42.693607330322266,
          -20.36009407043457,
          22.578487396240234,
          18.36083984375,
          26.679866790771484,
          -43.903324127197266,
          -32.72364807128906,
          -0.9240574240684509,
          3.3294172286987305,
          30.214494705200195,
          -7.248867988586426,
          2.3288886547088623,
          -41.79594802856445,
          20.404071807861328,
          -3.098093032836914,
          -2.6806142330169678,
          -2.529552698135376,
          25.51298713684082,
          1.4870318174362183,
          10.67043399810791,
          -36.51892852783203,
          -15.561198234558105,
          -18.427715301513672,
          25.88288116455078,
          -26.033010482788086,
          -7.069604396820068,
          -16.014892578125,
          27.577722549438477,
          10.202812194824219,
          1.6258596181869507,
          6.189029693603516,
          22.634199142456055,
          24.22673988342285,
          -15.720061302185059,
          7.683692455291748,
          -45.94771194458008,
          -15.945292472839355,
          28.085750579833984,
          2.4600796699523926,
          19.993919372558594,
          -3.020655632019043,
          -12.003189086914062,
          5.503503322601318,
          27.18401336669922,
          11.039015769958496,
          -3.0649254322052,
          -23.644412994384766,
          -10.514510154724121,
          18.991090774536133,
          -37.282405853271484,
          14.679902076721191,
          9.682446479797363,
          -7.923227787017822,
          29.198976516723633,
          11.614225387573242,
          18.039823532104492,
          -37.18474197387695,
          21.000394821166992,
          -44.22087097167969,
          21.108484268188477,
          -23.998998641967773,
          21.825040817260742,
          -38.19319534301758,
          29.018875122070312,
          2.4118475914001465,
          27.635501861572266,
          11.04580307006836,
          -33.107051849365234,
          19.205894470214844,
          8.590124130249023,
          30.408309936523438,
          -3.9098684787750244,
          5.0328779220581055,
          -35.7668571472168,
          18.563140869140625,
          -27.612165451049805,
          -31.678871154785156,
          -40.40530014038086,
          12.52644157409668,
          -28.113027572631836,
          17.730581283569336,
          21.27647590637207,
          10.316341400146484,
          23.390947341918945,
          25.39909553527832,
          -22.003292083740234,
          -26.627424240112305,
          26.045751571655273,
          11.988992691040039,
          -45.99417495727539,
          20.1417236328125,
          -36.666072845458984,
          1.5488654375076294,
          -47.210697174072266,
          27.05506706237793,
          1.4086627960205078,
          11.206611633300781,
          -1.897698163986206,
          13.175494194030762,
          27.14557647705078,
          -24.306488037109375,
          -30.413623809814453,
          -11.142338752746582,
          16.240610122680664,
          14.614449501037598,
          1.6287140846252441,
          18.39472770690918,
          -19.378602981567383,
          28.541542053222656,
          -46.744083404541016,
          -23.376323699951172,
          -12.074180603027344,
          -2.508026599884033,
          -23.14822006225586,
          -37.56352615356445,
          9.801139831542969,
          -12.034764289855957,
          -12.913458824157715,
          -12.715252876281738,
          -5.126147747039795,
          26.47459602355957,
          -20.118019104003906,
          -34.10404586791992,
          11.590801239013672,
          -45.11696243286133,
          18.94026756286621,
          22.26711082458496,
          -5.625144958496094,
          -39.951961517333984,
          -6.726113319396973,
          -11.07981014251709,
          -14.876116752624512,
          -10.4331693649292,
          16.276588439941406,
          26.586877822875977,
          13.529786109924316,
          -11.466010093688965,
          -30.0615177154541,
          -44.95302200317383,
          -27.212371826171875,
          9.808073997497559,
          14.91690444946289,
          14.47300910949707,
          -17.217348098754883,
          -19.92593765258789,
          32.2035026550293,
          26.772809982299805,
          18.86174774169922,
          -26.703062057495117,
          -41.025787353515625,
          4.09285306930542,
          32.65385818481445,
          0.6824989914894104,
          15.107687950134277,
          -36.011985778808594,
          7.200254917144775,
          31.279722213745117,
          28.069141387939453,
          20.559024810791016,
          -8.827908515930176,
          12.126890182495117,
          -29.54869270324707,
          13.828063011169434,
          -15.31080150604248,
          17.034564971923828,
          15.845491409301758,
          6.507020473480225,
          30.8638916015625,
          -28.738222122192383,
          25.366731643676758,
          -35.76445388793945,
          -40.628047943115234,
          19.68058967590332,
          -10.70833969116211,
          22.399192810058594,
          -22.03844451904297,
          -26.161630630493164,
          9.53342342376709,
          -36.68754959106445,
          -37.97300720214844,
          -19.993377685546875,
          10.242436408996582,
          -31.95804214477539,
          -15.409590721130371,
          -29.22649383544922,
          18.484132766723633,
          13.555082321166992,
          -4.012618064880371,
          14.374587059020996,
          14.952996253967285,
          -2.636209726333618,
          27.733495712280273,
          20.187414169311523,
          27.658300399780273,
          -17.080488204956055,
          5.314442157745361,
          25.18051528930664,
          26.942455291748047,
          -36.841941833496094,
          7.8834710121154785,
          -6.007424831390381,
          14.188977241516113,
          5.4997968673706055,
          -11.756144523620605,
          8.673261642456055,
          24.557743072509766,
          -32.88924026489258,
          14.237692832946777,
          22.015291213989258,
          10.881126403808594,
          -24.973764419555664,
          13.759909629821777,
          23.208282470703125,
          -7.487849235534668,
          -24.566919326782227,
          21.221426010131836,
          11.804807662963867,
          -33.53413009643555,
          21.03233528137207,
          14.382789611816406,
          -9.143534660339355,
          30.122962951660156,
          5.187947750091553,
          1.6444710493087769,
          -10.05994987487793,
          6.79341983795166,
          8.031023025512695,
          17.990840911865234,
          -23.41277503967285,
          10.006657600402832,
          -34.61097717285156,
          25.080833435058594,
          -5.858824729919434,
          -27.186445236206055,
          -18.80181884765625,
          14.127206802368164,
          2.4299497604370117,
          5.334105491638184,
          16.905778884887695,
          -19.65497589111328,
          1.2642402648925781,
          -13.181943893432617,
          -21.301511764526367,
          -12.048456192016602,
          16.445449829101562,
          -28.478010177612305,
          15.52950382232666,
          18.903186798095703,
          10.805057525634766,
          14.12701416015625,
          23.900808334350586,
          4.684178352355957,
          0.811763346195221,
          17.74306297302246,
          1.1960477828979492,
          -15.513201713562012,
          3.676576614379883,
          -22.898733139038086,
          30.166542053222656,
          1.7466596364974976,
          11.066967010498047,
          -6.7568464279174805,
          13.046867370605469,
          -11.318231582641602,
          6.158928871154785,
          19.464174270629883,
          -14.161121368408203,
          -35.060062408447266,
          3.860520839691162,
          -17.554521560668945,
          -24.837007522583008,
          19.92238426208496,
          -20.121410369873047,
          -48.31650161743164,
          29.148548126220703,
          -8.658439636230469,
          -41.14360427856445,
          17.96674919128418,
          6.204694747924805,
          5.9914937019348145,
          -10.17206859588623,
          7.585699081420898,
          -40.4276237487793,
          10.95128345489502,
          -16.551799774169922,
          4.775557994842529,
          -14.847146034240723,
          7.2999267578125,
          0.5665678381919861,
          27.52094268798828,
          -3.569862127304077,
          9.156813621520996,
          10.316378593444824,
          13.187822341918945,
          -0.2502909302711487,
          2.111877918243408,
          15.870855331420898,
          -5.383174896240234,
          -13.273423194885254,
          0.4784772992134094,
          4.435747146606445,
          4.506811141967773,
          12.006409645080566,
          0.9245854616165161,
          21.5784912109375,
          -44.96989822387695,
          22.690185546875,
          6.6953325271606445,
          -31.51209831237793,
          29.519187927246094,
          28.56332778930664,
          -4.074545383453369,
          -33.47825241088867,
          -37.690120697021484,
          14.480992317199707,
          1.5680577754974365,
          17.21835708618164,
          -23.071990966796875,
          25.93953514099121,
          16.868078231811523,
          0.11362318694591522,
          -9.88488483428955,
          -13.850997924804688,
          20.466812133789062,
          21.317941665649414,
          -34.8564567565918,
          6.142467498779297,
          20.580902099609375,
          -13.678531646728516,
          23.451627731323242,
          -4.7506022453308105,
          13.874343872070312,
          -13.088665008544922,
          6.659143447875977,
          -35.12484359741211,
          26.07111358642578,
          20.62747573852539,
          23.953845977783203,
          -15.032958984375,
          21.686716079711914,
          17.353069305419922,
          -2.4469263553619385,
          -40.65605545043945,
          24.93079376220703,
          -20.83913230895996,
          25.64195442199707,
          18.986618041992188,
          -5.108795642852783,
          17.41219711303711,
          -41.46668243408203,
          4.617641448974609,
          -0.0451803058385849,
          23.428997039794922,
          27.158241271972656,
          23.812301635742188,
          -38.62789535522461,
          -17.329286575317383,
          -14.202705383300781,
          5.467339992523193,
          24.639371871948242,
          -3.559572458267212,
          5.905969619750977,
          9.090498924255371,
          14.290143966674805,
          25.056406021118164,
          -8.640976905822754,
          -16.9290714263916,
          28.207849502563477,
          10.255274772644043,
          2.6671159267425537,
          -15.885695457458496,
          0.043433889746665955,
          -9.575079917907715,
          16.585142135620117,
          25.523473739624023,
          31.7740478515625,
          26.754898071289062,
          9.918427467346191,
          15.409371376037598,
          22.646976470947266,
          27.175853729248047,
          -36.817909240722656,
          -30.7818660736084,
          14.241923332214355,
          10.344501495361328,
          4.156589031219482,
          21.393625259399414,
          20.186315536499023,
          -1.5741428136825562,
          18.84242820739746,
          -4.438078880310059,
          -6.9585466384887695,
          14.519729614257812,
          -20.782756805419922,
          -40.128196716308594,
          14.78333568572998,
          8.035433769226074,
          -13.612326622009277,
          18.920501708984375,
          22.11968421936035,
          -0.27647334337234497,
          -19.902420043945312,
          -21.920499801635742,
          21.83925437927246,
          -20.755714416503906,
          26.66765785217285,
          -7.677788734436035,
          9.837756156921387,
          23.032333374023438,
          18.70616340637207,
          5.760456562042236,
          -6.519837856292725,
          -34.03559875488281,
          -43.026268005371094,
          30.346033096313477,
          15.9320068359375,
          -1.6130807399749756,
          -8.839056968688965,
          14.0993013381958,
          -8.212654113769531,
          19.631549835205078,
          -25.495752334594727,
          -21.345693588256836,
          -17.330331802368164,
          -30.748313903808594,
          11.488768577575684,
          3.0230166912078857,
          -1.014297366142273,
          20.55130386352539,
          7.359742641448975,
          -4.759195804595947,
          -19.710102081298828,
          27.89521026611328,
          -14.738999366760254,
          -14.847298622131348,
          -21.59092140197754,
          34.21565246582031,
          7.8308916091918945,
          9.83917236328125,
          28.269155502319336,
          -15.838988304138184,
          -26.543140411376953,
          29.724332809448242,
          -30.87530517578125,
          6.203318119049072,
          0.8640723824501038,
          4.247349262237549,
          -4.235246181488037,
          4.520155906677246,
          -26.689830780029297,
          -29.048057556152344,
          22.299102783203125,
          -3.8908588886260986,
          23.409351348876953,
          15.054121017456055,
          19.62994956970215,
          9.386797904968262,
          -34.30502700805664,
          -45.178863525390625,
          -14.848527908325195,
          27.55739402770996,
          -10.435945510864258,
          -20.955585479736328,
          33.482173919677734,
          17.594701766967773,
          -38.2268180847168,
          12.45888614654541,
          -10.057157516479492,
          28.98736572265625,
          -12.981278419494629,
          -8.296244621276855,
          -13.91745376586914,
          1.2100024223327637,
          -13.417423248291016,
          9.36483097076416,
          -15.227176666259766,
          2.034430742263794,
          -6.2312140464782715,
          18.288908004760742,
          -31.077014923095703,
          10.051210403442383,
          26.585309982299805,
          -2.4484541416168213,
          -27.05470848083496,
          -45.746463775634766,
          -31.015506744384766,
          16.0555419921875,
          -7.613461971282959,
          0.22959066927433014,
          -14.058794975280762,
          -7.353556156158447,
          3.0001070499420166,
          23.428789138793945,
          -2.2719712257385254,
          27.184886932373047,
          31.403682708740234,
          13.319146156311035,
          -4.819728851318359,
          25.63794708251953,
          -3.8102056980133057,
          3.2708847522735596,
          -14.844996452331543,
          -18.758251190185547,
          -0.5979804396629333,
          -23.85189437866211,
          -17.75389862060547,
          -13.39419174194336,
          -45.87722396850586,
          -21.028348922729492,
          11.893288612365723,
          18.820703506469727,
          32.73122024536133,
          -7.225510120391846,
          26.30274772644043,
          18.059663772583008,
          5.7273783683776855,
          16.560123443603516,
          16.918367385864258,
          22.104061126708984,
          3.6216506958007812,
          14.564010620117188,
          9.141427040100098,
          10.190254211425781,
          7.660079479217529,
          34.50527572631836,
          2.2451910972595215,
          4.039303779602051,
          -10.438920021057129,
          13.031645774841309,
          -38.66205596923828,
          -36.693031311035156,
          22.514484405517578,
          13.941649436950684,
          18.94905662536621,
          32.568363189697266,
          2.080705165863037,
          8.497269630432129,
          -13.848482131958008,
          24.379831314086914,
          0.04187885299324989,
          19.9544620513916,
          18.560386657714844,
          5.939876556396484,
          12.996707916259766,
          6.526307582855225,
          19.557453155517578,
          22.745058059692383,
          1.8580900430679321,
          23.6749267578125,
          14.839717864990234,
          -37.50313186645508,
          6.048519611358643,
          -13.373978614807129,
          15.510955810546875,
          -0.8290751576423645,
          15.70417594909668,
          29.99349594116211,
          -3.3185672760009766,
          -6.199945449829102,
          22.06749153137207,
          -24.662195205688477,
          -15.96377182006836,
          -7.50211238861084,
          -1.7990837097167969,
          -16.066909790039062,
          11.502464294433594,
          9.211156845092773,
          11.699481964111328,
          -43.86491012573242,
          -16.82695198059082,
          25.324920654296875,
          5.388176441192627,
          5.462691783905029,
          11.390206336975098,
          5.611380577087402,
          2.2687017917633057,
          -7.054386138916016,
          2.571105480194092,
          -28.274070739746094,
          26.65471076965332,
          32.027400970458984,
          -23.915287017822266,
          -29.135587692260742,
          23.443326950073242,
          -28.965768814086914,
          -26.013317108154297,
          34.166847229003906,
          15.263043403625488,
          9.920384407043457,
          -26.402198791503906,
          -40.39247512817383,
          4.126136779785156,
          6.306791305541992,
          -8.122313499450684,
          19.011808395385742,
          18.990074157714844,
          -8.87519359588623,
          21.590496063232422,
          -11.491313934326172,
          -10.072511672973633,
          0.08930878341197968,
          29.31639862060547,
          29.889877319335938,
          24.031890869140625,
          -6.415112018585205,
          -11.044544219970703,
          2.5148355960845947,
          -38.59806442260742,
          -42.64077377319336,
          -17.7082462310791,
          0.08579595386981964,
          22.3157958984375,
          -2.7096495628356934,
          5.738689422607422,
          8.197171211242676,
          27.275724411010742,
          6.238609790802002,
          1.5412532091140747,
          -22.119348526000977,
          8.776963233947754,
          -13.718027114868164,
          -12.961227416992188,
          -24.829341888427734,
          19.747352600097656,
          30.53478240966797,
          21.85395622253418,
          20.087177276611328,
          1.3440974950790405,
          -16.39435577392578,
          9.673200607299805,
          25.107818603515625,
          -0.40071749687194824,
          7.115999221801758,
          30.900606155395508,
          -22.743425369262695,
          19.514202117919922,
          20.342151641845703,
          25.991363525390625,
          -16.214569091796875,
          7.183233737945557,
          -21.723081588745117,
          -24.141738891601562,
          2.6238205432891846,
          15.256670951843262,
          -14.319849014282227,
          12.560595512390137,
          22.831863403320312,
          -0.046024154871702194,
          18.168127059936523,
          21.876697540283203,
          2.7880313396453857,
          -34.79423522949219,
          9.326027870178223,
          9.679271697998047,
          28.04225730895996,
          21.087173461914062,
          -7.962306976318359,
          22.65191078186035,
          21.566635131835938,
          -16.41486167907715,
          -17.241907119750977,
          -20.28952980041504,
          11.673964500427246,
          13.476666450500488,
          8.042851448059082,
          17.434724807739258,
          22.697696685791016,
          5.742589473724365,
          21.163394927978516,
          -26.397611618041992,
          -13.904202461242676,
          25.852399826049805,
          12.666638374328613,
          15.397502899169922,
          3.674718141555786,
          5.823608875274658,
          -11.823631286621094,
          6.694984436035156,
          1.6240768432617188,
          2.2164416313171387,
          2.7264599800109863,
          10.805743217468262,
          17.38531494140625,
          7.91633939743042,
          -17.67269515991211,
          6.49684476852417
         ],
         "yaxis": "y"
        }
       ],
       "layout": {
        "coloraxis": {
         "colorbar": {
          "title": {
           "text": "Predicted Label"
          }
         },
         "colorscale": [
          [
           0,
           "#0d0887"
          ],
          [
           0.1111111111111111,
           "#46039f"
          ],
          [
           0.2222222222222222,
           "#7201a8"
          ],
          [
           0.3333333333333333,
           "#9c179e"
          ],
          [
           0.4444444444444444,
           "#bd3786"
          ],
          [
           0.5555555555555556,
           "#d8576b"
          ],
          [
           0.6666666666666666,
           "#ed7953"
          ],
          [
           0.7777777777777778,
           "#fb9f3a"
          ],
          [
           0.8888888888888888,
           "#fdca26"
          ],
          [
           1,
           "#f0f921"
          ]
         ]
        },
        "legend": {
         "tracegroupgap": 0
        },
        "template": {
         "data": {
          "bar": [
           {
            "error_x": {
             "color": "#2a3f5f"
            },
            "error_y": {
             "color": "#2a3f5f"
            },
            "marker": {
             "line": {
              "color": "#E5ECF6",
              "width": 0.5
             },
             "pattern": {
              "fillmode": "overlay",
              "size": 10,
              "solidity": 0.2
             }
            },
            "type": "bar"
           }
          ],
          "barpolar": [
           {
            "marker": {
             "line": {
              "color": "#E5ECF6",
              "width": 0.5
             },
             "pattern": {
              "fillmode": "overlay",
              "size": 10,
              "solidity": 0.2
             }
            },
            "type": "barpolar"
           }
          ],
          "carpet": [
           {
            "aaxis": {
             "endlinecolor": "#2a3f5f",
             "gridcolor": "white",
             "linecolor": "white",
             "minorgridcolor": "white",
             "startlinecolor": "#2a3f5f"
            },
            "baxis": {
             "endlinecolor": "#2a3f5f",
             "gridcolor": "white",
             "linecolor": "white",
             "minorgridcolor": "white",
             "startlinecolor": "#2a3f5f"
            },
            "type": "carpet"
           }
          ],
          "choropleth": [
           {
            "colorbar": {
             "outlinewidth": 0,
             "ticks": ""
            },
            "type": "choropleth"
           }
          ],
          "contour": [
           {
            "colorbar": {
             "outlinewidth": 0,
             "ticks": ""
            },
            "colorscale": [
             [
              0,
              "#0d0887"
             ],
             [
              0.1111111111111111,
              "#46039f"
             ],
             [
              0.2222222222222222,
              "#7201a8"
             ],
             [
              0.3333333333333333,
              "#9c179e"
             ],
             [
              0.4444444444444444,
              "#bd3786"
             ],
             [
              0.5555555555555556,
              "#d8576b"
             ],
             [
              0.6666666666666666,
              "#ed7953"
             ],
             [
              0.7777777777777778,
              "#fb9f3a"
             ],
             [
              0.8888888888888888,
              "#fdca26"
             ],
             [
              1,
              "#f0f921"
             ]
            ],
            "type": "contour"
           }
          ],
          "contourcarpet": [
           {
            "colorbar": {
             "outlinewidth": 0,
             "ticks": ""
            },
            "type": "contourcarpet"
           }
          ],
          "heatmap": [
           {
            "colorbar": {
             "outlinewidth": 0,
             "ticks": ""
            },
            "colorscale": [
             [
              0,
              "#0d0887"
             ],
             [
              0.1111111111111111,
              "#46039f"
             ],
             [
              0.2222222222222222,
              "#7201a8"
             ],
             [
              0.3333333333333333,
              "#9c179e"
             ],
             [
              0.4444444444444444,
              "#bd3786"
             ],
             [
              0.5555555555555556,
              "#d8576b"
             ],
             [
              0.6666666666666666,
              "#ed7953"
             ],
             [
              0.7777777777777778,
              "#fb9f3a"
             ],
             [
              0.8888888888888888,
              "#fdca26"
             ],
             [
              1,
              "#f0f921"
             ]
            ],
            "type": "heatmap"
           }
          ],
          "heatmapgl": [
           {
            "colorbar": {
             "outlinewidth": 0,
             "ticks": ""
            },
            "colorscale": [
             [
              0,
              "#0d0887"
             ],
             [
              0.1111111111111111,
              "#46039f"
             ],
             [
              0.2222222222222222,
              "#7201a8"
             ],
             [
              0.3333333333333333,
              "#9c179e"
             ],
             [
              0.4444444444444444,
              "#bd3786"
             ],
             [
              0.5555555555555556,
              "#d8576b"
             ],
             [
              0.6666666666666666,
              "#ed7953"
             ],
             [
              0.7777777777777778,
              "#fb9f3a"
             ],
             [
              0.8888888888888888,
              "#fdca26"
             ],
             [
              1,
              "#f0f921"
             ]
            ],
            "type": "heatmapgl"
           }
          ],
          "histogram": [
           {
            "marker": {
             "pattern": {
              "fillmode": "overlay",
              "size": 10,
              "solidity": 0.2
             }
            },
            "type": "histogram"
           }
          ],
          "histogram2d": [
           {
            "colorbar": {
             "outlinewidth": 0,
             "ticks": ""
            },
            "colorscale": [
             [
              0,
              "#0d0887"
             ],
             [
              0.1111111111111111,
              "#46039f"
             ],
             [
              0.2222222222222222,
              "#7201a8"
             ],
             [
              0.3333333333333333,
              "#9c179e"
             ],
             [
              0.4444444444444444,
              "#bd3786"
             ],
             [
              0.5555555555555556,
              "#d8576b"
             ],
             [
              0.6666666666666666,
              "#ed7953"
             ],
             [
              0.7777777777777778,
              "#fb9f3a"
             ],
             [
              0.8888888888888888,
              "#fdca26"
             ],
             [
              1,
              "#f0f921"
             ]
            ],
            "type": "histogram2d"
           }
          ],
          "histogram2dcontour": [
           {
            "colorbar": {
             "outlinewidth": 0,
             "ticks": ""
            },
            "colorscale": [
             [
              0,
              "#0d0887"
             ],
             [
              0.1111111111111111,
              "#46039f"
             ],
             [
              0.2222222222222222,
              "#7201a8"
             ],
             [
              0.3333333333333333,
              "#9c179e"
             ],
             [
              0.4444444444444444,
              "#bd3786"
             ],
             [
              0.5555555555555556,
              "#d8576b"
             ],
             [
              0.6666666666666666,
              "#ed7953"
             ],
             [
              0.7777777777777778,
              "#fb9f3a"
             ],
             [
              0.8888888888888888,
              "#fdca26"
             ],
             [
              1,
              "#f0f921"
             ]
            ],
            "type": "histogram2dcontour"
           }
          ],
          "mesh3d": [
           {
            "colorbar": {
             "outlinewidth": 0,
             "ticks": ""
            },
            "type": "mesh3d"
           }
          ],
          "parcoords": [
           {
            "line": {
             "colorbar": {
              "outlinewidth": 0,
              "ticks": ""
             }
            },
            "type": "parcoords"
           }
          ],
          "pie": [
           {
            "automargin": true,
            "type": "pie"
           }
          ],
          "scatter": [
           {
            "fillpattern": {
             "fillmode": "overlay",
             "size": 10,
             "solidity": 0.2
            },
            "type": "scatter"
           }
          ],
          "scatter3d": [
           {
            "line": {
             "colorbar": {
              "outlinewidth": 0,
              "ticks": ""
             }
            },
            "marker": {
             "colorbar": {
              "outlinewidth": 0,
              "ticks": ""
             }
            },
            "type": "scatter3d"
           }
          ],
          "scattercarpet": [
           {
            "marker": {
             "colorbar": {
              "outlinewidth": 0,
              "ticks": ""
             }
            },
            "type": "scattercarpet"
           }
          ],
          "scattergeo": [
           {
            "marker": {
             "colorbar": {
              "outlinewidth": 0,
              "ticks": ""
             }
            },
            "type": "scattergeo"
           }
          ],
          "scattergl": [
           {
            "marker": {
             "colorbar": {
              "outlinewidth": 0,
              "ticks": ""
             }
            },
            "type": "scattergl"
           }
          ],
          "scattermapbox": [
           {
            "marker": {
             "colorbar": {
              "outlinewidth": 0,
              "ticks": ""
             }
            },
            "type": "scattermapbox"
           }
          ],
          "scatterpolar": [
           {
            "marker": {
             "colorbar": {
              "outlinewidth": 0,
              "ticks": ""
             }
            },
            "type": "scatterpolar"
           }
          ],
          "scatterpolargl": [
           {
            "marker": {
             "colorbar": {
              "outlinewidth": 0,
              "ticks": ""
             }
            },
            "type": "scatterpolargl"
           }
          ],
          "scatterternary": [
           {
            "marker": {
             "colorbar": {
              "outlinewidth": 0,
              "ticks": ""
             }
            },
            "type": "scatterternary"
           }
          ],
          "surface": [
           {
            "colorbar": {
             "outlinewidth": 0,
             "ticks": ""
            },
            "colorscale": [
             [
              0,
              "#0d0887"
             ],
             [
              0.1111111111111111,
              "#46039f"
             ],
             [
              0.2222222222222222,
              "#7201a8"
             ],
             [
              0.3333333333333333,
              "#9c179e"
             ],
             [
              0.4444444444444444,
              "#bd3786"
             ],
             [
              0.5555555555555556,
              "#d8576b"
             ],
             [
              0.6666666666666666,
              "#ed7953"
             ],
             [
              0.7777777777777778,
              "#fb9f3a"
             ],
             [
              0.8888888888888888,
              "#fdca26"
             ],
             [
              1,
              "#f0f921"
             ]
            ],
            "type": "surface"
           }
          ],
          "table": [
           {
            "cells": {
             "fill": {
              "color": "#EBF0F8"
             },
             "line": {
              "color": "white"
             }
            },
            "header": {
             "fill": {
              "color": "#C8D4E3"
             },
             "line": {
              "color": "white"
             }
            },
            "type": "table"
           }
          ]
         },
         "layout": {
          "annotationdefaults": {
           "arrowcolor": "#2a3f5f",
           "arrowhead": 0,
           "arrowwidth": 1
          },
          "autotypenumbers": "strict",
          "coloraxis": {
           "colorbar": {
            "outlinewidth": 0,
            "ticks": ""
           }
          },
          "colorscale": {
           "diverging": [
            [
             0,
             "#8e0152"
            ],
            [
             0.1,
             "#c51b7d"
            ],
            [
             0.2,
             "#de77ae"
            ],
            [
             0.3,
             "#f1b6da"
            ],
            [
             0.4,
             "#fde0ef"
            ],
            [
             0.5,
             "#f7f7f7"
            ],
            [
             0.6,
             "#e6f5d0"
            ],
            [
             0.7,
             "#b8e186"
            ],
            [
             0.8,
             "#7fbc41"
            ],
            [
             0.9,
             "#4d9221"
            ],
            [
             1,
             "#276419"
            ]
           ],
           "sequential": [
            [
             0,
             "#0d0887"
            ],
            [
             0.1111111111111111,
             "#46039f"
            ],
            [
             0.2222222222222222,
             "#7201a8"
            ],
            [
             0.3333333333333333,
             "#9c179e"
            ],
            [
             0.4444444444444444,
             "#bd3786"
            ],
            [
             0.5555555555555556,
             "#d8576b"
            ],
            [
             0.6666666666666666,
             "#ed7953"
            ],
            [
             0.7777777777777778,
             "#fb9f3a"
            ],
            [
             0.8888888888888888,
             "#fdca26"
            ],
            [
             1,
             "#f0f921"
            ]
           ],
           "sequentialminus": [
            [
             0,
             "#0d0887"
            ],
            [
             0.1111111111111111,
             "#46039f"
            ],
            [
             0.2222222222222222,
             "#7201a8"
            ],
            [
             0.3333333333333333,
             "#9c179e"
            ],
            [
             0.4444444444444444,
             "#bd3786"
            ],
            [
             0.5555555555555556,
             "#d8576b"
            ],
            [
             0.6666666666666666,
             "#ed7953"
            ],
            [
             0.7777777777777778,
             "#fb9f3a"
            ],
            [
             0.8888888888888888,
             "#fdca26"
            ],
            [
             1,
             "#f0f921"
            ]
           ]
          },
          "colorway": [
           "#636efa",
           "#EF553B",
           "#00cc96",
           "#ab63fa",
           "#FFA15A",
           "#19d3f3",
           "#FF6692",
           "#B6E880",
           "#FF97FF",
           "#FECB52"
          ],
          "font": {
           "color": "#2a3f5f"
          },
          "geo": {
           "bgcolor": "white",
           "lakecolor": "white",
           "landcolor": "#E5ECF6",
           "showlakes": true,
           "showland": true,
           "subunitcolor": "white"
          },
          "hoverlabel": {
           "align": "left"
          },
          "hovermode": "closest",
          "mapbox": {
           "style": "light"
          },
          "paper_bgcolor": "white",
          "plot_bgcolor": "#E5ECF6",
          "polar": {
           "angularaxis": {
            "gridcolor": "white",
            "linecolor": "white",
            "ticks": ""
           },
           "bgcolor": "#E5ECF6",
           "radialaxis": {
            "gridcolor": "white",
            "linecolor": "white",
            "ticks": ""
           }
          },
          "scene": {
           "xaxis": {
            "backgroundcolor": "#E5ECF6",
            "gridcolor": "white",
            "gridwidth": 2,
            "linecolor": "white",
            "showbackground": true,
            "ticks": "",
            "zerolinecolor": "white"
           },
           "yaxis": {
            "backgroundcolor": "#E5ECF6",
            "gridcolor": "white",
            "gridwidth": 2,
            "linecolor": "white",
            "showbackground": true,
            "ticks": "",
            "zerolinecolor": "white"
           },
           "zaxis": {
            "backgroundcolor": "#E5ECF6",
            "gridcolor": "white",
            "gridwidth": 2,
            "linecolor": "white",
            "showbackground": true,
            "ticks": "",
            "zerolinecolor": "white"
           }
          },
          "shapedefaults": {
           "line": {
            "color": "#2a3f5f"
           }
          },
          "ternary": {
           "aaxis": {
            "gridcolor": "white",
            "linecolor": "white",
            "ticks": ""
           },
           "baxis": {
            "gridcolor": "white",
            "linecolor": "white",
            "ticks": ""
           },
           "bgcolor": "#E5ECF6",
           "caxis": {
            "gridcolor": "white",
            "linecolor": "white",
            "ticks": ""
           }
          },
          "title": {
           "x": 0.05
          },
          "xaxis": {
           "automargin": true,
           "gridcolor": "white",
           "linecolor": "white",
           "ticks": "",
           "title": {
            "standoff": 15
           },
           "zerolinecolor": "white",
           "zerolinewidth": 2
          },
          "yaxis": {
           "automargin": true,
           "gridcolor": "white",
           "linecolor": "white",
           "ticks": "",
           "title": {
            "standoff": 15
           },
           "zerolinecolor": "white",
           "zerolinewidth": 2
          }
         }
        },
        "title": {
         "text": "Wizualizacja przestrzeni wektorowej prób testowych"
        },
        "xaxis": {
         "anchor": "y",
         "domain": [
          0,
          1
         ],
         "title": {
          "text": "x"
         }
        },
        "yaxis": {
         "anchor": "x",
         "domain": [
          0,
          1
         ],
         "title": {
          "text": "y"
         }
        }
       }
      }
     },
     "metadata": {},
     "output_type": "display_data"
    }
   ],
   "source": [
    "scaler = StandardScaler()\n",
    "scaled_vectors = scaler.fit_transform(embeddings['input_ids'])\n",
    "\n",
    "tsne = TSNE(n_components=2, random_state=42).fit_transform(scaled_vectors)\n",
    "\n",
    "df_tsne = pd.DataFrame(tsne, columns=['x', 'y'])\n",
    "df_tsne['Predicted Label']  = [predicted_labels[i] for i in range(len(predicted_labels))]\n",
    "df_tsne['Text'] = text['text']\n",
    "df_tsne['True label'] = [true_labels[i] for i in range(len(true_labels))]\n",
    "\n",
    "fig = px.scatter(df_tsne, x='x', y='y', color='Predicted Label', hover_data={'Text': True, 'True label': True}, title=\"Wizualizacja przestrzeni wektorowej prób testowych\")\n",
    "fig.show()"
   ]
  }
 ],
 "metadata": {
  "kernelspec": {
   "display_name": "Python 3",
   "language": "python",
   "name": "python3"
  },
  "language_info": {
   "codemirror_mode": {
    "name": "ipython",
    "version": 3
   },
   "file_extension": ".py",
   "mimetype": "text/x-python",
   "name": "python",
   "nbconvert_exporter": "python",
   "pygments_lexer": "ipython3",
   "version": "3.12.3"
  }
 },
 "nbformat": 4,
 "nbformat_minor": 2
}
