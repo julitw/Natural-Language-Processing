{
 "cells": [
  {
   "cell_type": "markdown",
   "metadata": {},
   "source": [
    "# Strojenie modelu BERT-base na danych *cyberbullying*"
   ]
  },
  {
   "cell_type": "markdown",
   "metadata": {},
   "source": [
    "## Biblioteki"
   ]
  },
  {
   "cell_type": "code",
   "execution_count": 29,
   "metadata": {},
   "outputs": [],
   "source": [
    "import pandas as pd\n",
    "import numpy as np\n",
    "import matplotlib.pyplot as plt\n",
    "from sklearn.model_selection import train_test_split\n",
    "from transformers import BertTokenizer, AutoTokenizer\n",
    "import torch\n",
    "from transformers import BertForSequenceClassification, BertForTokenClassification, Trainer, TrainingArguments,  DataCollatorWithPadding\n",
    "from sklearn.metrics import accuracy_score, f1_score, precision_recall_fscore_support, confusion_matrix\n",
    "from torch.utils.data import Dataset\n",
    "import matplotlib.pyplot as plt\n",
    "from sklearn.decomposition import PCA\n",
    "from sklearn.manifold import TSNE\n",
    "import plotly.express as px\n",
    "from sklearn.preprocessing import StandardScaler\n",
    "import kagglehub\n",
    "from datasets import Dataset, DatasetDict\n",
    "import json\n",
    "from excel2json import convert_from_file\n",
    "import seaborn as sns"
   ]
  },
  {
   "cell_type": "markdown",
   "metadata": {},
   "source": [
    "## Załadowanie danych"
   ]
  },
  {
   "cell_type": "code",
   "execution_count": 2,
   "metadata": {},
   "outputs": [
    {
     "name": "stdout",
     "output_type": "stream",
     "text": [
      "Using device: cuda\n"
     ]
    }
   ],
   "source": [
    "device = \"cuda\" if torch.cuda.is_available() else \"cpu\"\n",
    "print(f\"Using device: {device}\")"
   ]
  },
  {
   "cell_type": "markdown",
   "metadata": {},
   "source": [
    "### Teksty"
   ]
  },
  {
   "cell_type": "code",
   "execution_count": 3,
   "metadata": {},
   "outputs": [],
   "source": [
    "# path = kagglehub.dataset_download(\"waalbannyantudre/hate-speech-detection-curated-dataset\")\n",
    "\n",
    "# print(\"Path to dataset files:\", path)"
   ]
  },
  {
   "cell_type": "code",
   "execution_count": 4,
   "metadata": {},
   "outputs": [
    {
     "data": {
      "text/html": [
       "<div>\n",
       "<style scoped>\n",
       "    .dataframe tbody tr th:only-of-type {\n",
       "        vertical-align: middle;\n",
       "    }\n",
       "\n",
       "    .dataframe tbody tr th {\n",
       "        vertical-align: top;\n",
       "    }\n",
       "\n",
       "    .dataframe thead th {\n",
       "        text-align: right;\n",
       "    }\n",
       "</style>\n",
       "<table border=\"1\" class=\"dataframe\">\n",
       "  <thead>\n",
       "    <tr style=\"text-align: right;\">\n",
       "      <th></th>\n",
       "      <th>Label</th>\n",
       "      <th>text</th>\n",
       "    </tr>\n",
       "  </thead>\n",
       "  <tbody>\n",
       "    <tr>\n",
       "      <th>0</th>\n",
       "      <td>1</td>\n",
       "      <td>denial of normal the con be asked to comment o...</td>\n",
       "    </tr>\n",
       "    <tr>\n",
       "      <th>1</th>\n",
       "      <td>1</td>\n",
       "      <td>just by being able to tweet this insufferable ...</td>\n",
       "    </tr>\n",
       "    <tr>\n",
       "      <th>2</th>\n",
       "      <td>1</td>\n",
       "      <td>that is retarded you too cute to be single tha...</td>\n",
       "    </tr>\n",
       "    <tr>\n",
       "      <th>3</th>\n",
       "      <td>1</td>\n",
       "      <td>thought of a real badass mongol style declarat...</td>\n",
       "    </tr>\n",
       "    <tr>\n",
       "      <th>4</th>\n",
       "      <td>1</td>\n",
       "      <td>afro american basho</td>\n",
       "    </tr>\n",
       "  </tbody>\n",
       "</table>\n",
       "</div>"
      ],
      "text/plain": [
       "  Label                                               text\n",
       "0     1  denial of normal the con be asked to comment o...\n",
       "1     1  just by being able to tweet this insufferable ...\n",
       "2     1  that is retarded you too cute to be single tha...\n",
       "3     1  thought of a real badass mongol style declarat...\n",
       "4     1                                afro american basho"
      ]
     },
     "metadata": {},
     "output_type": "display_data"
    }
   ],
   "source": [
    "df = pd.read_csv('HateSpeechDataset.csv')\n",
    "df['text'] = df['Content']\n",
    "df = df.drop(columns=['Content_int', 'Content'])\n",
    "df = df[df['Label'] != 'Label']\n",
    "display(df.head())"
   ]
  },
  {
   "cell_type": "code",
   "execution_count": 5,
   "metadata": {},
   "outputs": [],
   "source": [
    "texts_train, texts_test, text_labels_train, text_labels_test = train_test_split(\n",
    "    df['text'], df['Label'], test_size=0.2, random_state=42\n",
    ")"
   ]
  },
  {
   "cell_type": "code",
   "execution_count": 6,
   "metadata": {},
   "outputs": [],
   "source": [
    "df_train = pd.DataFrame()\n",
    "df_train['text'] = texts_train\n",
    "df_train['LABEL'] = text_labels_train\n",
    "\n",
    "df_test = pd.DataFrame()\n",
    "df_test['text'] = texts_test\n",
    "df_test['LABEL'] = text_labels_test"
   ]
  },
  {
   "cell_type": "code",
   "execution_count": 7,
   "metadata": {},
   "outputs": [
    {
     "name": "stderr",
     "output_type": "stream",
     "text": [
      "C:\\Users\\DELL\\AppData\\Local\\Temp\\ipykernel_11332\\4132669510.py:5: DeprecationWarning: DataFrameGroupBy.apply operated on the grouping columns. This behavior is deprecated, and in a future version of pandas the grouping columns will be excluded from the operation. Either pass `include_groups=False` to exclude the groupings or explicitly select the grouping columns after groupby to silence this warning.\n",
      "  df_train_balanced = df_train.groupby('LABEL').apply(lambda x: x.sample(min_class_count_train)).reset_index(drop=True)\n",
      "C:\\Users\\DELL\\AppData\\Local\\Temp\\ipykernel_11332\\4132669510.py:6: DeprecationWarning: DataFrameGroupBy.apply operated on the grouping columns. This behavior is deprecated, and in a future version of pandas the grouping columns will be excluded from the operation. Either pass `include_groups=False` to exclude the groupings or explicitly select the grouping columns after groupby to silence this warning.\n",
      "  df_test_balanced = df_test.groupby('LABEL').apply(lambda x: x.sample(min_class_count_test)).reset_index(drop=True)\n"
     ]
    }
   ],
   "source": [
    "# min_class_count = df_train['LABEL'].value_counts().min()\n",
    "min_class_count_train = 1000\n",
    "min_class_count_test = 500\n",
    "\n",
    "df_train_balanced = df_train.groupby('LABEL').apply(lambda x: x.sample(min_class_count_train)).reset_index(drop=True)\n",
    "df_test_balanced = df_test.groupby('LABEL').apply(lambda x: x.sample(min_class_count_test)).reset_index(drop=True)"
   ]
  },
  {
   "cell_type": "code",
   "execution_count": 8,
   "metadata": {},
   "outputs": [],
   "source": [
    "train_json = df_train_balanced.to_json(orient='records')\n",
    "test_json = df_test_balanced.to_json(orient='records')\n",
    "\n",
    "\n",
    "train_dataset = Dataset.from_list(json.loads(train_json))\n",
    "test_dataset = Dataset.from_list(json.loads(test_json))\n",
    "\n",
    "\n",
    "dataset = DatasetDict({\n",
    "    'train': train_dataset,\n",
    "    'test': test_dataset\n",
    "})"
   ]
  },
  {
   "cell_type": "code",
   "execution_count": 9,
   "metadata": {},
   "outputs": [
    {
     "name": "stdout",
     "output_type": "stream",
     "text": [
      "Dataset({\n",
      "    features: ['text', 'LABEL'],\n",
      "    num_rows: 2000\n",
      "})\n"
     ]
    }
   ],
   "source": [
    "print(dataset['train'])"
   ]
  },
  {
   "cell_type": "code",
   "execution_count": 10,
   "metadata": {},
   "outputs": [
    {
     "name": "stdout",
     "output_type": "stream",
     "text": [
      "Dataset({\n",
      "    features: ['text', 'LABEL'],\n",
      "    num_rows: 1000\n",
      "})\n"
     ]
    }
   ],
   "source": [
    "print(dataset['test'])"
   ]
  },
  {
   "cell_type": "code",
   "execution_count": 11,
   "metadata": {},
   "outputs": [
    {
     "name": "stdout",
     "output_type": "stream",
     "text": [
      "TEXT: ammonia hi i have tagged your addition of ammonia to list of arabic loanwords in english as as neither the oxford english dictionary nor the articles jair in aryan or sal ammonia give any support to your claim i did not delete it outright as your edit history suggests that you are a responsible editor do you have a reference \n",
      "LABEL: 0\n",
      "\n",
      "TEXT: utc austin out of l seven what a slut the one i forgot there were also compilations like reflections and austin out both of which featured older hits along with at least one new song rick had another album who is name escapes me available only as an import and a final studio album released after his death i will try to get some of this together when i get time \n",
      "LABEL: 0\n",
      "\n",
      "TEXT: frankly this article should be deleted not rewritten you want to consider the limit of in an article on limits i do not think it belongs to the positional system either all positional systems are based on approximations \n",
      "LABEL: 0\n",
      "\n",
      "TEXT: update most links with requested information as the wiki cite template is back up found some dead links and better links but so much for my extra hour today \n",
      "LABEL: 0\n",
      "\n",
      "TEXT: retweet i am about to get wifey not vagina who spreads legs for anyone settle for nothing but the rarest difference better you and me laughing my ass off \n",
      "LABEL: 0\n",
      "\n"
     ]
    }
   ],
   "source": [
    "for entry in dataset['train'].select(range(5)):\n",
    "    print('TEXT: {} \\nLABEL: {}\\n'.format(entry['text'], entry['LABEL']))"
   ]
  },
  {
   "cell_type": "code",
   "execution_count": 12,
   "metadata": {},
   "outputs": [
    {
     "data": {
      "text/html": [
       "<div>\n",
       "<style scoped>\n",
       "    .dataframe tbody tr th:only-of-type {\n",
       "        vertical-align: middle;\n",
       "    }\n",
       "\n",
       "    .dataframe tbody tr th {\n",
       "        vertical-align: top;\n",
       "    }\n",
       "\n",
       "    .dataframe thead th {\n",
       "        text-align: right;\n",
       "    }\n",
       "</style>\n",
       "<table border=\"1\" class=\"dataframe\">\n",
       "  <thead>\n",
       "    <tr style=\"text-align: right;\">\n",
       "      <th></th>\n",
       "      <th>Sentiment</th>\n",
       "      <th>train_set</th>\n",
       "      <th>test_set</th>\n",
       "    </tr>\n",
       "  </thead>\n",
       "  <tbody>\n",
       "    <tr>\n",
       "      <th>0</th>\n",
       "      <td>0</td>\n",
       "      <td>1000</td>\n",
       "      <td>500</td>\n",
       "    </tr>\n",
       "    <tr>\n",
       "      <th>1</th>\n",
       "      <td>1</td>\n",
       "      <td>1000</td>\n",
       "      <td>500</td>\n",
       "    </tr>\n",
       "  </tbody>\n",
       "</table>\n",
       "</div>"
      ],
      "text/plain": [
       "  Sentiment  train_set  test_set\n",
       "0         0       1000       500\n",
       "1         1       1000       500"
      ]
     },
     "metadata": {},
     "output_type": "display_data"
    }
   ],
   "source": [
    "train_counts = pd.DataFrame({'Sentiment': dataset['train']['LABEL']})\n",
    "train_counts = train_counts.groupby('Sentiment').size().reset_index(name='train_set')\n",
    "\n",
    "test_counts = pd.DataFrame({'Sentiment': dataset['test']['LABEL']})\n",
    "test_counts = test_counts.groupby('Sentiment').size().reset_index(name='test_set')\n",
    "\n",
    "display(train_counts.merge(test_counts, on='Sentiment'))"
   ]
  },
  {
   "cell_type": "markdown",
   "metadata": {},
   "source": [
    "### Tokeny"
   ]
  },
  {
   "cell_type": "code",
   "execution_count": null,
   "metadata": {},
   "outputs": [],
   "source": []
  },
  {
   "cell_type": "markdown",
   "metadata": {},
   "source": [
    "## Strojenie modelu dla zadania klasyfikacji tekstu"
   ]
  },
  {
   "cell_type": "code",
   "execution_count": 13,
   "metadata": {},
   "outputs": [
    {
     "name": "stderr",
     "output_type": "stream",
     "text": [
      "Some weights of BertForSequenceClassification were not initialized from the model checkpoint at bert-base-uncased and are newly initialized: ['classifier.bias', 'classifier.weight']\n",
      "You should probably TRAIN this model on a down-stream task to be able to use it for predictions and inference.\n"
     ]
    }
   ],
   "source": [
    "sorted_labels = sorted(set(dataset['train']['LABEL']))\n",
    "label2id = dict(zip(sorted_labels, range(0, len(sorted_labels))))\n",
    "id2label = dict(zip(range(0, len(sorted_labels)), sorted_labels))\n",
    "\n",
    "tokenizer = AutoTokenizer.from_pretrained(\"bert-base-uncased\")\n",
    "model = BertForSequenceClassification.from_pretrained(\"bert-base-uncased\",\n",
    "                                                                    num_labels=len(label2id),\n",
    "                                                                    label2id=label2id,\n",
    "                                                                    id2label=id2label)"
   ]
  },
  {
   "cell_type": "code",
   "execution_count": 14,
   "metadata": {},
   "outputs": [
    {
     "data": {
      "application/vnd.jupyter.widget-view+json": {
       "model_id": "8b790ee2c48b43dbb9c863dfdc7a3373",
       "version_major": 2,
       "version_minor": 0
      },
      "text/plain": [
       "Map:   0%|          | 0/2000 [00:00<?, ? examples/s]"
      ]
     },
     "metadata": {},
     "output_type": "display_data"
    },
    {
     "data": {
      "application/vnd.jupyter.widget-view+json": {
       "model_id": "5faee68dbbb94ba0b9e0e65b305ebfdc",
       "version_major": 2,
       "version_minor": 0
      },
      "text/plain": [
       "Map:   0%|          | 0/1000 [00:00<?, ? examples/s]"
      ]
     },
     "metadata": {},
     "output_type": "display_data"
    },
    {
     "name": "stdout",
     "output_type": "stream",
     "text": [
      "{'train': Dataset({\n",
      "    features: ['text', 'LABEL', 'input_ids', 'token_type_ids', 'attention_mask', 'label'],\n",
      "    num_rows: 2000\n",
      "}), 'test': Dataset({\n",
      "    features: ['text', 'LABEL', 'input_ids', 'token_type_ids', 'attention_mask', 'label'],\n",
      "    num_rows: 1000\n",
      "})}\n"
     ]
    }
   ],
   "source": [
    "def preprocess_function(examples):\n",
    "    \"\"\"Preprocess the dataset by returning tokenized examples.\"\"\"\n",
    "    tokens = tokenizer(examples[\"text\"], padding=\"max_length\", truncation=True)\n",
    "    tokens['label'] = [label2id[l] for l in examples[\"LABEL\"]]\n",
    "    return tokens\n",
    "\n",
    "splits = ['train', 'test']\n",
    "\n",
    "tokenized_ds = {} \n",
    "\n",
    "for split in splits:\n",
    "    tokenized_ds[split] = dataset[split].map(preprocess_function, batched=True)\n",
    "\n",
    "print(tokenized_ds)"
   ]
  },
  {
   "cell_type": "code",
   "execution_count": 15,
   "metadata": {},
   "outputs": [
    {
     "name": "stdout",
     "output_type": "stream",
     "text": [
      "A tokenized training input example:\n",
      "[101, 25874, 7632, 1045, 2031, 26610, 2115, 2804, 1997, 25874, 2000, 2862, 1997, 5640, 5414, 22104, 1999, 2394, 2004, 2004, 4445, 1996, 4345, 2394, 9206, 4496, 1996, 4790, 17410, 2099, 1999, 26030, 2030, 16183, 25874, 2507, 2151, 2490, 2000, 2115, 4366, 1045, 2106, 2025, 3972, 12870, 2009, 13848, 2004, 2115, 10086, 2381, 6083, 2008, 2017, 2024, 1037, 3625, 3559, 2079, 2017, 2031, 1037, 4431, 102, 0, 0, 0, 0, 0, 0, 0, 0, 0, 0, 0, 0, 0, 0, 0, 0, 0, 0, 0, 0, 0, 0, 0, 0, 0, 0, 0, 0, 0, 0, 0, 0, 0, 0, 0, 0, 0, 0, 0, 0, 0, 0, 0, 0, 0, 0, 0, 0, 0, 0, 0, 0, 0, 0, 0, 0, 0, 0, 0, 0, 0, 0, 0, 0, 0, 0, 0, 0, 0, 0, 0, 0, 0, 0, 0, 0, 0, 0, 0, 0, 0, 0, 0, 0, 0, 0, 0, 0, 0, 0, 0, 0, 0, 0, 0, 0, 0, 0, 0, 0, 0, 0, 0, 0, 0, 0, 0, 0, 0, 0, 0, 0, 0, 0, 0, 0, 0, 0, 0, 0, 0, 0, 0, 0, 0, 0, 0, 0, 0, 0, 0, 0, 0, 0, 0, 0, 0, 0, 0, 0, 0, 0, 0, 0, 0, 0, 0, 0, 0, 0, 0, 0, 0, 0, 0, 0, 0, 0, 0, 0, 0, 0, 0, 0, 0, 0, 0, 0, 0, 0, 0, 0, 0, 0, 0, 0, 0, 0, 0, 0, 0, 0, 0, 0, 0, 0, 0, 0, 0, 0, 0, 0, 0, 0, 0, 0, 0, 0, 0, 0, 0, 0, 0, 0, 0, 0, 0, 0, 0, 0, 0, 0, 0, 0, 0, 0, 0, 0, 0, 0, 0, 0, 0, 0, 0, 0, 0, 0, 0, 0, 0, 0, 0, 0, 0, 0, 0, 0, 0, 0, 0, 0, 0, 0, 0, 0, 0, 0, 0, 0, 0, 0, 0, 0, 0, 0, 0, 0, 0, 0, 0, 0, 0, 0, 0, 0, 0, 0, 0, 0, 0, 0, 0, 0, 0, 0, 0, 0, 0, 0, 0, 0, 0, 0, 0, 0, 0, 0, 0, 0, 0, 0, 0, 0, 0, 0, 0, 0, 0, 0, 0, 0, 0, 0, 0, 0, 0, 0, 0, 0, 0, 0, 0, 0, 0, 0, 0, 0, 0, 0, 0, 0, 0, 0, 0, 0, 0, 0, 0, 0, 0, 0, 0, 0, 0, 0, 0, 0, 0, 0, 0, 0, 0, 0, 0, 0, 0, 0, 0, 0, 0, 0, 0, 0, 0, 0, 0, 0, 0, 0, 0, 0, 0, 0, 0, 0, 0, 0, 0, 0, 0, 0, 0, 0, 0, 0, 0, 0, 0, 0, 0, 0, 0, 0, 0, 0, 0, 0, 0, 0, 0, 0, 0, 0, 0, 0, 0, 0, 0, 0, 0, 0, 0, 0, 0, 0, 0, 0, 0, 0, 0, 0, 0, 0, 0, 0, 0, 0, 0, 0, 0, 0, 0, 0, 0, 0, 0, 0, 0, 0, 0, 0, 0, 0, 0, 0, 0, 0, 0, 0, 0, 0, 0, 0, 0, 0, 0]\n",
      "\n",
      "\n",
      "A tokenized training label example:\n",
      "0\n",
      "[1, 1, 1, 1, 1, 1, 1, 1, 1, 1, 1, 1, 1, 1, 1, 1, 1, 1, 1, 1, 1, 1, 1, 1, 1, 1, 1, 1, 1, 1, 1, 1, 1, 1, 1, 1, 1, 1, 1, 1, 1, 1, 1, 1, 1, 1, 1, 1, 1, 1, 1, 1, 1, 1, 1, 1, 1, 1, 1, 1, 1, 1, 1, 1, 1, 0, 0, 0, 0, 0, 0, 0, 0, 0, 0, 0, 0, 0, 0, 0, 0, 0, 0, 0, 0, 0, 0, 0, 0, 0, 0, 0, 0, 0, 0, 0, 0, 0, 0, 0, 0, 0, 0, 0, 0, 0, 0, 0, 0, 0, 0, 0, 0, 0, 0, 0, 0, 0, 0, 0, 0, 0, 0, 0, 0, 0, 0, 0, 0, 0, 0, 0, 0, 0, 0, 0, 0, 0, 0, 0, 0, 0, 0, 0, 0, 0, 0, 0, 0, 0, 0, 0, 0, 0, 0, 0, 0, 0, 0, 0, 0, 0, 0, 0, 0, 0, 0, 0, 0, 0, 0, 0, 0, 0, 0, 0, 0, 0, 0, 0, 0, 0, 0, 0, 0, 0, 0, 0, 0, 0, 0, 0, 0, 0, 0, 0, 0, 0, 0, 0, 0, 0, 0, 0, 0, 0, 0, 0, 0, 0, 0, 0, 0, 0, 0, 0, 0, 0, 0, 0, 0, 0, 0, 0, 0, 0, 0, 0, 0, 0, 0, 0, 0, 0, 0, 0, 0, 0, 0, 0, 0, 0, 0, 0, 0, 0, 0, 0, 0, 0, 0, 0, 0, 0, 0, 0, 0, 0, 0, 0, 0, 0, 0, 0, 0, 0, 0, 0, 0, 0, 0, 0, 0, 0, 0, 0, 0, 0, 0, 0, 0, 0, 0, 0, 0, 0, 0, 0, 0, 0, 0, 0, 0, 0, 0, 0, 0, 0, 0, 0, 0, 0, 0, 0, 0, 0, 0, 0, 0, 0, 0, 0, 0, 0, 0, 0, 0, 0, 0, 0, 0, 0, 0, 0, 0, 0, 0, 0, 0, 0, 0, 0, 0, 0, 0, 0, 0, 0, 0, 0, 0, 0, 0, 0, 0, 0, 0, 0, 0, 0, 0, 0, 0, 0, 0, 0, 0, 0, 0, 0, 0, 0, 0, 0, 0, 0, 0, 0, 0, 0, 0, 0, 0, 0, 0, 0, 0, 0, 0, 0, 0, 0, 0, 0, 0, 0, 0, 0, 0, 0, 0, 0, 0, 0, 0, 0, 0, 0, 0, 0, 0, 0, 0, 0, 0, 0, 0, 0, 0, 0, 0, 0, 0, 0, 0, 0, 0, 0, 0, 0, 0, 0, 0, 0, 0, 0, 0, 0, 0, 0, 0, 0, 0, 0, 0, 0, 0, 0, 0, 0, 0, 0, 0, 0, 0, 0, 0, 0, 0, 0, 0, 0, 0, 0, 0, 0, 0, 0, 0, 0, 0, 0, 0, 0, 0, 0, 0, 0, 0, 0, 0, 0, 0, 0, 0, 0, 0, 0, 0, 0, 0, 0, 0, 0, 0, 0, 0, 0, 0, 0, 0, 0, 0, 0, 0, 0, 0, 0, 0, 0, 0, 0, 0, 0, 0, 0, 0, 0, 0, 0, 0, 0]\n"
     ]
    }
   ],
   "source": [
    "print(\"A tokenized training input example:\")\n",
    "print(tokenized_ds[\"train\"][0][\"input_ids\"])\n",
    "print(\"\\n\")\n",
    "print(\"A tokenized training label example:\")\n",
    "print(tokenized_ds[\"train\"][0][\"label\"])\n",
    "print(tokenized_ds[\"train\"][0]['attention_mask'])"
   ]
  },
  {
   "cell_type": "code",
   "execution_count": 16,
   "metadata": {},
   "outputs": [
    {
     "name": "stderr",
     "output_type": "stream",
     "text": [
      "d:\\Python\\Lib\\site-packages\\transformers\\training_args.py:1559: FutureWarning: `evaluation_strategy` is deprecated and will be removed in version 4.46 of 🤗 Transformers. Use `eval_strategy` instead\n",
      "  warnings.warn(\n",
      "C:\\Users\\DELL\\AppData\\Local\\Temp\\ipykernel_11332\\1893380289.py:8: FutureWarning: `tokenizer` is deprecated and will be removed in version 5.0.0 for `Trainer.__init__`. Use `processing_class` instead.\n",
      "  trainer = Trainer(\n"
     ]
    },
    {
     "name": "stdout",
     "output_type": "stream",
     "text": [
      "Starting to train...\n"
     ]
    },
    {
     "data": {
      "application/vnd.jupyter.widget-view+json": {
       "model_id": "eb6f340ff9a0466c80726c7132228e2e",
       "version_major": 2,
       "version_minor": 0
      },
      "text/plain": [
       "  0%|          | 0/10000 [00:00<?, ?it/s]"
      ]
     },
     "metadata": {},
     "output_type": "display_data"
    },
    {
     "name": "stderr",
     "output_type": "stream",
     "text": [
      "d:\\Python\\Lib\\site-packages\\transformers\\models\\bert\\modeling_bert.py:440: UserWarning: 1Torch was not compiled with flash attention. (Triggered internally at ..\\aten\\src\\ATen\\native\\transformers\\cuda\\sdp_utils.cpp:455.)\n",
      "  attn_output = torch.nn.functional.scaled_dot_product_attention(\n"
     ]
    },
    {
     "name": "stdout",
     "output_type": "stream",
     "text": [
      "{'loss': 1.1965, 'grad_norm': 14.66075325012207, 'learning_rate': 0.0019, 'epoch': 0.5}\n",
      "{'loss': 1.1908, 'grad_norm': 5.211457252502441, 'learning_rate': 0.0018000000000000002, 'epoch': 1.0}\n"
     ]
    },
    {
     "data": {
      "application/vnd.jupyter.widget-view+json": {
       "model_id": "b566eb7f26924b5fa057a7b753d62bb5",
       "version_major": 2,
       "version_minor": 0
      },
      "text/plain": [
       "  0%|          | 0/500 [00:00<?, ?it/s]"
      ]
     },
     "metadata": {},
     "output_type": "display_data"
    },
    {
     "name": "stdout",
     "output_type": "stream",
     "text": [
      "{'eval_loss': 0.7113090753555298, 'eval_accuracy': 50.0, 'eval_f1': 0.0, 'eval_runtime': 35.2992, 'eval_samples_per_second': 28.329, 'eval_steps_per_second': 14.165, 'epoch': 1.0}\n",
      "{'loss': 1.0071, 'grad_norm': 5.977087020874023, 'learning_rate': 0.0017, 'epoch': 1.5}\n",
      "{'loss': 1.0936, 'grad_norm': 15.37193489074707, 'learning_rate': 0.0016, 'epoch': 2.0}\n"
     ]
    },
    {
     "data": {
      "application/vnd.jupyter.widget-view+json": {
       "model_id": "0baab2876cd847739bd4562cd0d6d006",
       "version_major": 2,
       "version_minor": 0
      },
      "text/plain": [
       "  0%|          | 0/500 [00:00<?, ?it/s]"
      ]
     },
     "metadata": {},
     "output_type": "display_data"
    },
    {
     "name": "stdout",
     "output_type": "stream",
     "text": [
      "{'eval_loss': 0.6933939456939697, 'eval_accuracy': 50.0, 'eval_f1': 0.6666666666666666, 'eval_runtime': 37.7499, 'eval_samples_per_second': 26.49, 'eval_steps_per_second': 13.245, 'epoch': 2.0}\n",
      "{'loss': 1.0322, 'grad_norm': 8.420806884765625, 'learning_rate': 0.0015, 'epoch': 2.5}\n",
      "{'loss': 1.1013, 'grad_norm': 17.15287971496582, 'learning_rate': 0.0014, 'epoch': 3.0}\n"
     ]
    },
    {
     "data": {
      "application/vnd.jupyter.widget-view+json": {
       "model_id": "57542778874f4caba8ee1fc5eea140e6",
       "version_major": 2,
       "version_minor": 0
      },
      "text/plain": [
       "  0%|          | 0/500 [00:00<?, ?it/s]"
      ]
     },
     "metadata": {},
     "output_type": "display_data"
    },
    {
     "name": "stdout",
     "output_type": "stream",
     "text": [
      "{'eval_loss': 0.9891204237937927, 'eval_accuracy': 50.0, 'eval_f1': 0.0, 'eval_runtime': 35.5039, 'eval_samples_per_second': 28.166, 'eval_steps_per_second': 14.083, 'epoch': 3.0}\n",
      "{'loss': 1.1111, 'grad_norm': 35.21025466918945, 'learning_rate': 0.0013000000000000002, 'epoch': 3.5}\n",
      "{'loss': 0.9674, 'grad_norm': 19.31232452392578, 'learning_rate': 0.0012, 'epoch': 4.0}\n"
     ]
    },
    {
     "data": {
      "application/vnd.jupyter.widget-view+json": {
       "model_id": "afd4d81800024adaa328c1cff04b708d",
       "version_major": 2,
       "version_minor": 0
      },
      "text/plain": [
       "  0%|          | 0/500 [00:00<?, ?it/s]"
      ]
     },
     "metadata": {},
     "output_type": "display_data"
    },
    {
     "name": "stdout",
     "output_type": "stream",
     "text": [
      "{'eval_loss': 1.7038660049438477, 'eval_accuracy': 50.0, 'eval_f1': 0.0, 'eval_runtime': 35.6989, 'eval_samples_per_second': 28.012, 'eval_steps_per_second': 14.006, 'epoch': 4.0}\n",
      "{'loss': 1.0623, 'grad_norm': 18.10812759399414, 'learning_rate': 0.0011, 'epoch': 4.5}\n",
      "{'loss': 0.9641, 'grad_norm': 26.196575164794922, 'learning_rate': 0.001, 'epoch': 5.0}\n"
     ]
    },
    {
     "data": {
      "application/vnd.jupyter.widget-view+json": {
       "model_id": "21ea4151b53146e693ea4026b315f6f1",
       "version_major": 2,
       "version_minor": 0
      },
      "text/plain": [
       "  0%|          | 0/500 [00:00<?, ?it/s]"
      ]
     },
     "metadata": {},
     "output_type": "display_data"
    },
    {
     "name": "stdout",
     "output_type": "stream",
     "text": [
      "{'eval_loss': 0.6999880075454712, 'eval_accuracy': 50.0, 'eval_f1': 0.6666666666666666, 'eval_runtime': 35.6714, 'eval_samples_per_second': 28.034, 'eval_steps_per_second': 14.017, 'epoch': 5.0}\n",
      "{'loss': 0.8763, 'grad_norm': 5.8465142250061035, 'learning_rate': 0.0009000000000000001, 'epoch': 5.5}\n",
      "{'loss': 0.9083, 'grad_norm': 17.009414672851562, 'learning_rate': 0.0008, 'epoch': 6.0}\n"
     ]
    },
    {
     "data": {
      "application/vnd.jupyter.widget-view+json": {
       "model_id": "77099e2334e743a29664ab636972b4e7",
       "version_major": 2,
       "version_minor": 0
      },
      "text/plain": [
       "  0%|          | 0/500 [00:00<?, ?it/s]"
      ]
     },
     "metadata": {},
     "output_type": "display_data"
    },
    {
     "name": "stdout",
     "output_type": "stream",
     "text": [
      "{'eval_loss': 0.7039238810539246, 'eval_accuracy': 50.0, 'eval_f1': 0.0, 'eval_runtime': 35.6767, 'eval_samples_per_second': 28.03, 'eval_steps_per_second': 14.015, 'epoch': 6.0}\n",
      "{'loss': 0.9341, 'grad_norm': 10.664372444152832, 'learning_rate': 0.0007, 'epoch': 6.5}\n",
      "{'loss': 0.8685, 'grad_norm': 10.178929328918457, 'learning_rate': 0.0006, 'epoch': 7.0}\n"
     ]
    },
    {
     "data": {
      "application/vnd.jupyter.widget-view+json": {
       "model_id": "f86528d88dfe40e89f33aaa67b9cc206",
       "version_major": 2,
       "version_minor": 0
      },
      "text/plain": [
       "  0%|          | 0/500 [00:00<?, ?it/s]"
      ]
     },
     "metadata": {},
     "output_type": "display_data"
    },
    {
     "name": "stdout",
     "output_type": "stream",
     "text": [
      "{'eval_loss': 0.8265249729156494, 'eval_accuracy': 50.0, 'eval_f1': 0.0, 'eval_runtime': 38.5072, 'eval_samples_per_second': 25.969, 'eval_steps_per_second': 12.985, 'epoch': 7.0}\n",
      "{'loss': 0.839, 'grad_norm': 5.6103668212890625, 'learning_rate': 0.0005, 'epoch': 7.5}\n",
      "{'loss': 0.8048, 'grad_norm': 17.159181594848633, 'learning_rate': 0.0004, 'epoch': 8.0}\n"
     ]
    },
    {
     "data": {
      "application/vnd.jupyter.widget-view+json": {
       "model_id": "6fa4abd70df54a6d993976117771e3cb",
       "version_major": 2,
       "version_minor": 0
      },
      "text/plain": [
       "  0%|          | 0/500 [00:00<?, ?it/s]"
      ]
     },
     "metadata": {},
     "output_type": "display_data"
    },
    {
     "name": "stdout",
     "output_type": "stream",
     "text": [
      "{'eval_loss': 0.705240786075592, 'eval_accuracy': 50.0, 'eval_f1': 0.6666666666666666, 'eval_runtime': 38.7819, 'eval_samples_per_second': 25.785, 'eval_steps_per_second': 12.893, 'epoch': 8.0}\n",
      "{'loss': 0.7768, 'grad_norm': 9.220349311828613, 'learning_rate': 0.0003, 'epoch': 8.5}\n",
      "{'loss': 0.7534, 'grad_norm': 5.680224418640137, 'learning_rate': 0.0002, 'epoch': 9.0}\n"
     ]
    },
    {
     "data": {
      "application/vnd.jupyter.widget-view+json": {
       "model_id": "47dc53a0349a4eab891994c6f99eac16",
       "version_major": 2,
       "version_minor": 0
      },
      "text/plain": [
       "  0%|          | 0/500 [00:00<?, ?it/s]"
      ]
     },
     "metadata": {},
     "output_type": "display_data"
    },
    {
     "name": "stdout",
     "output_type": "stream",
     "text": [
      "{'eval_loss': 0.702836275100708, 'eval_accuracy': 50.0, 'eval_f1': 0.0, 'eval_runtime': 37.9688, 'eval_samples_per_second': 26.337, 'eval_steps_per_second': 13.169, 'epoch': 9.0}\n",
      "{'loss': 0.7563, 'grad_norm': 16.61347198486328, 'learning_rate': 0.0001, 'epoch': 9.5}\n",
      "{'loss': 0.7402, 'grad_norm': 8.541726112365723, 'learning_rate': 0.0, 'epoch': 10.0}\n"
     ]
    },
    {
     "data": {
      "application/vnd.jupyter.widget-view+json": {
       "model_id": "6109cbbded274be683f8be7a5826945d",
       "version_major": 2,
       "version_minor": 0
      },
      "text/plain": [
       "  0%|          | 0/500 [00:00<?, ?it/s]"
      ]
     },
     "metadata": {},
     "output_type": "display_data"
    },
    {
     "name": "stdout",
     "output_type": "stream",
     "text": [
      "{'eval_loss': 0.6937728524208069, 'eval_accuracy': 50.0, 'eval_f1': 0.6666666666666666, 'eval_runtime': 38.3537, 'eval_samples_per_second': 26.073, 'eval_steps_per_second': 13.037, 'epoch': 10.0}\n",
      "{'train_runtime': 3111.0206, 'train_samples_per_second': 6.429, 'train_steps_per_second': 3.214, 'train_loss': 0.9491955932617188, 'epoch': 10.0}\n"
     ]
    },
    {
     "data": {
      "text/plain": [
       "TrainOutput(global_step=10000, training_loss=0.9491955932617188, metrics={'train_runtime': 3111.0206, 'train_samples_per_second': 6.429, 'train_steps_per_second': 3.214, 'total_flos': 5262221107200000.0, 'train_loss': 0.9491955932617188, 'epoch': 10.0})"
      ]
     },
     "execution_count": 16,
     "metadata": {},
     "output_type": "execute_result"
    }
   ],
   "source": [
    "def compute_metrics(eval_pred):\n",
    "    predictions, labels = eval_pred\n",
    "    predictions = np.argmax(predictions, axis=1)\n",
    "    return {\"accuracy\": (predictions == labels).mean()*100, \"f1\": f1_score(labels, predictions, labels=[0, 1], pos_label=1)}\n",
    "\n",
    "\n",
    "\n",
    "trainer = Trainer(\n",
    "    model=model,\n",
    "    args=TrainingArguments(\n",
    "        output_dir=\"bert-lora\",\n",
    "        learning_rate=2e-3,\n",
    "        # Reduce the batch size if you don't have enough memory\n",
    "        per_device_train_batch_size=2,\n",
    "        per_device_eval_batch_size=2,\n",
    "        num_train_epochs=10,\n",
    "        weight_decay=0.01,\n",
    "        evaluation_strategy=\"epoch\",\n",
    "        save_strategy=\"epoch\",\n",
    "        load_best_model_at_end=True,\n",
    "    ),\n",
    "    train_dataset=tokenized_ds[\"train\"],\n",
    "    eval_dataset=tokenized_ds[\"test\"],\n",
    "    tokenizer=tokenizer,\n",
    "    data_collator=DataCollatorWithPadding(tokenizer=tokenizer),\n",
    "    compute_metrics=compute_metrics,\n",
    ")\n",
    "\n",
    "print(\"Starting to train...\")\n",
    "trainer.train()"
   ]
  },
  {
   "cell_type": "code",
   "execution_count": 20,
   "metadata": {},
   "outputs": [],
   "source": [
    "noun_model_path = 'sentence_model-weights/'\n",
    "model.save_pretrained(noun_model_path)"
   ]
  },
  {
   "cell_type": "markdown",
   "metadata": {},
   "source": [
    "## Strojenie modelu dla zadanie klasyfikacji tokenów"
   ]
  },
  {
   "cell_type": "code",
   "execution_count": 18,
   "metadata": {},
   "outputs": [],
   "source": [
    "# # Zapisanie modelu\n",
    "# noun_model_path = 'noun_model-weights/'\n",
    "# model_noun.save_pretrained(noun_model_path)"
   ]
  },
  {
   "cell_type": "markdown",
   "metadata": {},
   "source": [
    "## Ocena jakości predyckji"
   ]
  },
  {
   "cell_type": "markdown",
   "metadata": {},
   "source": [
    "### Teksty"
   ]
  },
  {
   "cell_type": "code",
   "execution_count": 22,
   "metadata": {},
   "outputs": [
    {
     "data": {
      "application/vnd.jupyter.widget-view+json": {
       "model_id": "b5b86a8a083c4b149392f2d632d44076",
       "version_major": 2,
       "version_minor": 0
      },
      "text/plain": [
       "  0%|          | 0/500 [00:00<?, ?it/s]"
      ]
     },
     "metadata": {},
     "output_type": "display_data"
    },
    {
     "name": "stdout",
     "output_type": "stream",
     "text": [
      "Wyniki:\n",
      "--------------------\n",
      "Test Loss: 0.6934\n",
      "Test Accuracy: 50.0000\n",
      "Test F1: 0.6667\n",
      "Test Runtime: 34.9923\n",
      "Test Samples Per Second: 28.5780\n",
      "Test Steps Per Second: 14.2890\n"
     ]
    }
   ],
   "source": [
    "predictions = trainer.predict(tokenized_ds['test'])\n",
    "\n",
    "predicted_labels = predictions.predictions.argmax(axis=1)  \n",
    "true_labels = predictions.label_ids \n",
    "metrics = predictions.metrics\n",
    "\n",
    "print(\"Wyniki:\")\n",
    "print(\"-\" * 20)\n",
    "for key, value in metrics.items():\n",
    "    print(f\"{key.replace('_', ' ').title()}: {value:.4f}\" if isinstance(value, float) else f\"{key.replace('_', ' ').title()}: {value}\")"
   ]
  },
  {
   "cell_type": "code",
   "execution_count": 32,
   "metadata": {},
   "outputs": [
    {
     "data": {
      "image/png": "[encoded data removed]",
      "text/plain": [
       "<Figure size 500x500 with 2 Axes>"
      ]
     },
     "metadata": {},
     "output_type": "display_data"
    }
   ],
   "source": [
    "conf_matrix = confusion_matrix(true_labels, predicted_labels)\n",
    "\n",
    "labels = np.unique(true_labels)  \n",
    "confusion_df = pd.DataFrame(conf_matrix, index=labels, columns=labels)\n",
    "\n",
    "plt.figure(figsize=(5, 5))\n",
    "sns.heatmap(confusion_df, annot=True, fmt='d', cmap='Blues', cbar=True,\n",
    "            xticklabels=labels, yticklabels=labels)\n",
    "plt.title('Macierz Konfuzji')\n",
    "plt.xlabel('Przewidywane Etykiety')\n",
    "plt.ylabel('Rzeczywiste Etykiety')\n",
    "plt.show()"
   ]
  },
  {
   "cell_type": "markdown",
   "metadata": {},
   "source": [
    "### Tokeny"
   ]
  },
  {
   "cell_type": "markdown",
   "metadata": {},
   "source": [
    "## Wizualizacja przestrzeni wektorowej"
   ]
  },
  {
   "cell_type": "markdown",
   "metadata": {},
   "source": [
    "### Teksty"
   ]
  },
  {
   "cell_type": "code",
   "execution_count": 23,
   "metadata": {},
   "outputs": [],
   "source": [
    "def embed_text(examples):\n",
    "    tokens = tokenizer(examples, padding=\"max_length\", truncation=True)\n",
    "    return tokens\n",
    "\n",
    "def wrap_text(text, width=40):\n",
    "    return '<br>'.join([text[i:i+width] for i in range(0, len(text), width)])\n"
   ]
  },
  {
   "cell_type": "code",
   "execution_count": 24,
   "metadata": {},
   "outputs": [],
   "source": [
    "text = pd.DataFrame(tokenized_ds['test']['text'], columns=['text'])\n",
    "text['text'] = text['text'].apply(wrap_text)\n",
    "\n",
    "embeddings = embed_text(dataset['test']['text'])"
   ]
  },
  {
   "cell_type": "markdown",
   "metadata": {},
   "source": [
    "#### PCA"
   ]
  },
  {
   "cell_type": "code",
   "execution_count": 25,
   "metadata": {},
   "outputs": [
    {
     "data": {
      "application/vnd.plotly.v1+json": {
       "config": {
        "plotlyServerURL": "https://plot.ly"
       },
       "data": [
        {
         "customdata": [
          [
           "it is out of place as it stands there is<br> a section on general literary criticism<br> of rand and then an entire section by s<br>pouse discussing only the fountainhead i<br>f it belongs at all it belongs in the ar<br>ticle on the fountainhead not here",
           0
          ],
          [
           "princess sophie of albania sophie what a<br> slut princess consort of albania and sh<br>e what a slut know for this fact in goog<br>le search princess sophie of schonburg w<br>aldenburg about results princess sophie <br>of albania about results",
           0
          ],
          [
           "feminist legend of zelda series katamari<br> damage ok forget my last statement i do<br> not think the social scene is suited fo<br>r you go see the year old virgin maybe t<br>hat will cheer you up totalooo",
           0
          ],
          [
           "since there is obviously a lot of contro<br>versy regarding this or lack thereof i a<br>m reverting on the assumption that the d<br>eletions constituted a disruptive edit w<br>hen the policy is clear and reached by c<br>onsensus i will go along",
           0
          ],
          [
           "charlie daniels goes off on satanic evil",
           0
          ],
          [
           "to dear your help will be welcome here h<br>ow do i appeal to a higher level authori<br>ty on an editing dispute thank you wh",
           0
          ],
          [
           "yes let us berate the new editor with no<br> experience and no idea by then relegati<br>ng their arguments to a version of own n<br>ice to have a comment that violates own <br>and civil in one fell swoop while also s<br>tating they re on a path to nowhere henc<br>e showing every reference to consensus w<br>hat a slut a sham because despite your c<br>laims of arguing with me being pointless<br> you have admitted having no interest at<br> all to bringing the article in lines wi<br>th wikipedia standards because hey it is<br> your article talk",
           0
          ],
          [
           "voice over talents use your voice to ear<br>n up to daily",
           0
          ],
          [
           "let us know when you have joined and wha<br>tever can give you another well deserved<br> cheer",
           0
          ],
          [
           "unblock reason decline i am declining yo<br>ur request for unblock because it does n<br>ot address the reason",
           0
          ],
          [
           "come on even years later and do not reme<br>mber any actual details of the event thi<br>s is nothing but another liberal doing w<br>hatever it takes to stop a conservative <br>the real shame here is seeing what liber<br>als will do to get their way you should <br>be the one that should feel ashamed",
           0
          ],
          [
           "hooey born airways flight number where d<br>id you find the hooey born airways fligh<br>t number",
           0
          ],
          [
           "there are a lot of women in my place of <br>work",
           0
          ],
          [
           "med line plus overview medical publicati<br>on with overview and discussion of trace<br>rs discusses spontaneous resolution trea<br>tment and recovery duke university overv<br>iew",
           0
          ],
          [
           "he what a slut despised by the eu as wha<br>t a slut a nationalist and therefore sto<br>od for everything that the eu what a slu<br>t against that is professional family va<br>lues proud of his culture etc",
           0
          ],
          [
           "promo page this entry reads like a promo<br> page",
           0
          ],
          [
           "walter lamar scott please read my reques<br>t on the talk page and fix the name they<br> have his name misspelled i provided a s<br>ource and everything",
           0
          ],
          [
           "atrabilious ah truh bil yus adj",
           0
          ],
          [
           "loving my life cannot wait to keep livin<br>g it with my best friend happy face or s<br>miley",
           0
          ],
          [
           "when her nudes trash you got to draw clo<br>thes back on her and send them back",
           0
          ],
          [
           "it does not make sense to have quotes fr<br>om iraqi scientists describing it as a n<br>uclear weapons program yet simultaneousl<br>y say that the reactor could not be used<br> for nuclear weapons these are contradic<br>tory i do not really know enough to know<br> how to reconcile them but they obviousl<br>y have to be reconciled somehow i do not<br> think your suggested addition works bec<br>ause it does not address the issue of th<br>e scientists",
           0
          ],
          [
           "that is just one of the theories",
           0
          ],
          [
           "me too it is going to be awesome eeek on<br>e week",
           0
          ],
          [
           "for reference do not like the available <br>is not the same as info is do not be obn<br>oxious about adding tags when the inform<br>ation is readily available and already v<br>erified for example the sources linked t<br>o from the page itself just because you <br>think it should have been done different<br>ly",
           0
          ],
          [
           "the section titled dye for anne wexler s<br>ays different p if you hit edit this pag<br>e on talky it gives you an edit notice t<br>hat provides a rough guide on submitting<br> a dye i will get on to the article this<br> evening and send you a talk page messag<br>e when i am done",
           0
          ],
          [
           "disappointing years of planning and yet <br>they failed in organizing the world s mo<br>st important cricket event shamanic shou<br>ld not have held the event in this seaso<br>n",
           0
          ],
          [
           "hello info and welcome to wikipedia here<br> are some recommended guidelines to help<br> you get involved please feel free to co<br>ntact me if you need help with anything <br>best of luck and happy editing dlohciere<br>kim getting started wikipedia tutorial h<br>ow to edit a page the five pillars of wi<br>kipedia manual of style be bold in editi<br>ng how to write a great article wiki pro<br>jects getting your info out there cite y<br>our sources neutral point of view point <br>of view variability uploading images use<br> policy getting more wikipedia rules pol<br>icy library getting help new contributor<br>s help page where to ask a question help<br> desk frequently asked questions getting<br> along wikipedia etiquette civility sign<br> your posts conflict resolution getting <br>technical pages needing attention peer r<br>eview utilities village pump user talkdl<br>ohcierekim dlohcierekim",
           0
          ],
          [
           "kane now a full fledged ecw guy yep",
           0
          ],
          [
           "surely the term mindfulness refers to a <br>particular technique or practice both in<br> its buddhist and therapy forms to say t<br>hat it means solely to be aware would be<br> ignoring the fact that this term means <br>something quite specific when applied in<br> this was it is true that some people in<br> psychology seem to be unaware of the bu<br>ddhist origin of the practice all the mo<br>re reason to have the article on mindful<br>ness",
           0
          ],
          [
           "the most high ministries",
           0
          ],
          [
           "watching mr got to love my cooking shows",
           0
          ],
          [
           "damn that is my favorite ep click bugs g<br>ets the shit beat out of him click babie<br>s asleep classic",
           0
          ],
          [
           "redirect talkmeadwestvaco corp v illinoi<br>s department of revenue",
           0
          ],
          [
           "they will be removed thanks for catching<br> it mailbox",
           0
          ],
          [
           "give me strength the focus of the case i<br>s defined in the fof why argue the toss <br>on that",
           0
          ],
          [
           "it has not really an abbreviation in the<br> sense you mean it has two words combine<br>d to make a new name in that sense it ju<br>st becomes a proper noun the thing with <br>forex is that it actually refers to fore<br>ign exchange and is thus an abbreviation<br> whereas pasco is simply the name of som<br>ething and the etymology is not crucial <br>to its function as such and even if you <br>insist that it has an abbreviation there<br> is still no reason for it to appear in <br>all caps the forex page on wikipedia doe<br>s not even use all caps for forex so tha<br>t kind of dumps your argument not to be <br>rude but this is the case also note that<br> ebay when referring to itself on its we<br>bsite and in reports etc starts sentence<br>s with ebay but the wall street journal <br>quite rightly follows convention and beg<br>ins such sentences with ebay i find the <br>trend of using all caps when there is no<br> basis for doing so highly annoying it a<br>lso quite simply goes against well estab<br>lished rules of style regardless of what<br> style the company forces its english tr<br>anslators and copywriters to follow prob<br>ably against their will for the corporat<br>e website and materials wikipedia is fre<br>e to follow normal english conventions w<br>ikipedia does not have to support the co<br>mpany s misguided use of shouting which <br>is and this is an unverifiable statement<br> based on experience probably due to a l<br>ack of understanding of english style co<br>nventionsor a refusal to accept them eve<br>n after they have been explainedrather t<br>han due to an informed decision based on<br> whether the name constitutes an acronym<br> abbreviation or not the name should app<br>ear as pasco",
           0
          ],
          [
           "women belong to themselves not the kitch<br>en",
           0
          ],
          [
           "stop your kids from using snap chat",
           0
          ],
          [
           "please stop adding inappropriate externa<br>l links to wikipedia it is considered sp<br>amming and wikipedia is not a vehicle fo<br>r advertising or promotion since wikiped<br>ia uses no follow tags additions of link<br>s to wikipedia will not alter search eng<br>ine rankings if you continue spamming yo<br>u will be blocked from editing wikipedia<br> no referral codes allowed if this is a <br>shared internet protocol address and you<br> did not make any unconstructive edits c<br>onsider creating an account for yourself<br> so you can avoid further irrelevant war<br>nings",
           0
          ],
          [
           "retweet my dog is going to be a bitch ma<br>gnet for sure ok hand noraised hand",
           0
          ],
          [
           "got to admit shes stacked",
           0
          ],
          [
           "laughing out loud you escaped some shit <br>then even if i do not regret watching it<br> for a minute loyal wolf",
           0
          ],
          [
           "random thoughts is it a good idea for th<br>e intro to go into issues of advertising<br> in the very first sentence such info sh<br>ould be in the intro but is usually prec<br>eded by the basics something along the l<br>ines of jams j shapiro is a personal inj<br>ury lawyer practicing in famous in part <br>for his advertising he is cited as an im<br>portant example",
           0
          ],
          [
           "i do not need permission to undo it i di<br>d not choose that route because i am try<br>ing to make it clear i will not follow y<br>our example for you of using reverts to <br>express frustration or disdain for anoth<br>er editor s view",
           0
          ],
          [
           "do not get discouraged i agree with your<br> removals of tabloid info from all kpop <br>com all kpop is not a reliable source an<br>yway but just removing it without explai<br>ning why triggers the robots to leave yo<br>u messages and makes other editors rever<br>t you if you want to remove them leave a<br> note at the article talk pages and i wi<br>ll support the removal best regards",
           0
          ],
          [
           "retweet retweet carrot cake is trash too<br> sweet",
           0
          ],
          [
           "its mr not comedinewithme",
           0
          ],
          [
           "their opinions not be facts obviously bu<br>t the fact that these relevant people ha<br>ve claimed such and such is a fact as su<br>ch whatever can report it",
           0
          ],
          [
           "i do not care who is president as long a<br>s whatever can say they suck on very imp<br>ortant person",
           0
          ],
          [
           "cannot say those words tweeter will come<br> knocking",
           0
          ],
          [
           "regarding certified gangsta please take <br>a look at certified gangsta s user page <br>is china shame not a source of racism",
           0
          ],
          [
           "oppose the proposed title is ambiguous a<br>nd unclear whose relations it refers to <br>contrary to title the correct title is f<br>oreign relations of the palestine libera<br>tion organization the plo represents abr<br>oad all three entities itself the state <br>of palestine and the pna this is explain<br>ed and sourced in the archives there wer<br>e such move proposals and there were lon<br>g discussions about that nothing has cha<br>nged recently so i does not see a reason<br> to re open this tedious debate does for<br>eign relations of palestine include hama<br>s foreign relations",
           0
          ],
          [
           "new bolt s children the dnb states two c<br>hildren cecilia on census margaret c age<br>d and francis on census arthur f aged",
           0
          ],
          [
           "redirect talk star king tv series",
           0
          ],
          [
           "what i thought bitch",
           0
          ],
          [
           "all he does is go around reverting anyth<br>ing he considers to islam he never comes<br> to talk pages or anything he is a sad p<br>ov warrior joke",
           0
          ],
          [
           "before accusing me of edit warring pleas<br>e make sure of your facts if you look at<br> the article in question s history view <br>you would see that nowhere did i make mo<br>re than reverts in a hour period you wou<br>ld also see on the talk page that there <br>is a thorough discussion and explanation<br> of the changes made it is strange that <br>the user who continually reverts my edit<br>s has not been given a similar warning a<br>nd i wonder if you could perhaps explain<br> the reason for this",
           0
          ],
          [
           "club solo deep fuck a valet because i pa<br>rked on the street lorded knows you cann<br>ot trust these hoes",
           0
          ],
          [
           "possibly unfree imagebrookgreen pledge j<br>pg an image that you uploaded or altered<br> imagebrookgreen pledge jpg has been lis<br>ted at wikipediapossibly unfree images b<br>ecause its copyright status is disputed <br>if the image s copyright status cannot b<br>e verified it be deleted you find more i<br>nformation on the image description page<br> you are welcome to address comments to <br>its entry at the discussion if you are i<br>nterested in it not being deleted thank <br>you",
           0
          ],
          [
           "nationalcampingmonth great prizes good l<br>uck to all win competition",
           0
          ],
          [
           "i am the most sensitive bitch in the who<br>le entire world because i take everythin<br>g to heart slightly smiling faceslightly<br> smiling faceslightly smiling faceslight<br>ly smiling face and i hate it social med<br>ia",
           0
          ],
          [
           "already upgraded to b class joyful",
           0
          ],
          [
           "childcare attack bull game do you really<br> think that his head what a slut empty a<br>round the city each side is",
           0
          ],
          [
           "if i stop i will not be blocked do you m<br>ean that will you give me your word",
           0
          ],
          [
           "here is further evidence that this delet<br>ion what a slut unwarranted i repeat my <br>insistence that this change be reverted <br>i would also like to suggest that this u<br>ser should have his ability to delete im<br>ages revoked as i think he has clearly a<br>bused the privilege by failing to do any<br> research whatsoever before deleting and<br> by failing to contact me first",
           0
          ],
          [
           "got the prototype for our new usb today <br>what do you think new product doncasterp<br>hotographer special",
           0
          ],
          [
           "i say let us flip it and have a girls al<br>liance just curious out then tyler since<br> he thinks he is the mastermind th ultim<br>ate blindside three girls in the final t<br>hree and jaycee for the win",
           0
          ],
          [
           "that and a mile wide free fire zone ough<br>t to do the trick",
           0
          ],
          [
           "ingraham sorry not a pollster fake news <br>i say buildthewall and the wacky left le<br>bron can go jump in the creek americanis<br>m stoptheinvasion hometown meeting calif<br>ornia shockthestate",
           0
          ],
          [
           "okay i admit i am a newbie in wiki i jus<br>t started and it took me a while to get <br>my page ready but within that or so hour<br>s i spent adding stuff i had administrat<br>or snapping at my heels trying to delete<br> my first page i wanted to protect it so<br> i did what i thought would work removed<br> the tags sorry if this what a slut wron<br>g but it is all i knew",
           0
          ],
          [
           "now for the last time thank you and keep<br> up the good work please blank this disc<br>ussion i am now disabling my email and s<br>crambling my password shalom",
           0
          ],
          [
           "you are a hard li ker",
           0
          ],
          [
           "comments above unfortunately make it app<br>ear that you are not following npov and <br>bio you wrote i believe any mention of a<br> gay bashing hate crime would lead most <br>readers to jump unfairly to the unspoken<br> conclusion that mr button is gay practi<br>cally all if not all news accounts of th<br>e attacks are very clear in stating the <br>attacks were intended against gay people<br> the police court system and at least on<br>e defense attorney for the attackers all<br> said the attacks were a deliberate atte<br>mpt to attack people the attackers thoug<br>ht were gay nowhere in the article does <br>it say that mr button is gay the article<br> says the attackers knew nothing about m<br>r button s sexuality and that the victim<br>s of the attacks targeted at random simp<br>ly because they were in an area of centr<br>al park where the attackers believed gay<br> people congregated there is no reason f<br>or the article to ignore the several new<br>s accounts that highlight that the attac<br>kers intended to attack gay people",
           0
          ],
          [
           "i does not agree with this block yes car<br>ol is expressing herself forcefully but <br>i does not see that as a reason to shut <br>her down for a week the issue at hand is<br> of considerable importance to numerous <br>wikipedia some of whom have difficulty s<br>tanding up to the intimidating culture h<br>ere and a block at this juncture is coun<br>terproductive to open debate i had said <br>it compounds the problem",
           0
          ],
          [
           "slowbros over hoes",
           0
          ],
          [
           "about the origin of the material s name <br>a page in german wikipedia mentions that<br> the name came from latin it means cool <br>a k a hard this is the link of the page",
           0
          ],
          [
           "cravings satisfied cheeseburger mcdonald<br> s fries cdo",
           0
          ],
          [
           "utc those borders are well defined by cl<br>assical sources and are not in dispute i<br>t mentions nothing about karabakh but i <br>have never seen a map or source that sho<br>ws albanian presence in artsakh adorno k<br>arabakh the biggest affair c albanian ar<br>menia has ever been is displayed on this<br> map",
           0
          ],
          [
           "woo cannot wait to see what happens mr",
           0
          ],
          [
           "one more love booklet does anyone have i<br>t please you the one",
           0
          ],
          [
           "i think it better fits in the article re<br>cognition of the armenian genocide under<br> the section recent developments",
           0
          ],
          [
           "utc done there what a slut no objection <br>to the suggestion after waiting several <br>days",
           0
          ],
          [
           "it isn t notion that every single possib<br>le picture must be included in an articl<br>e regardless of whether it reduces the q<br>uality of the article or not",
           0
          ],
          [
           "you will be blocked if you continue to a<br>ddress unsourced info about living peopl<br>e whether you think it is contentious or<br> not",
           0
          ],
          [
           "so what is it not you self proclaimed co<br>ntributors so what is it not you self pr<br>oclaimed contributors why does not you s<br>tart adding information to wikipedia as <br>supposed to petty edits and daily rectif<br>ication of your user page otherwise i wi<br>ll report you",
           0
          ],
          [
           "i moved it into a note because it is not<br>eworthy of its own section t see",
           0
          ],
          [
           "oh in this case yes it is not representa<br>tive for the roman culture but it curren<br>tly affects the roman people",
           0
          ],
          [
           "leave as dab page for now the difficulty<br> is that sources use the term very diffe<br>rently to refer to a vegan vegetarian or<br> semi vegetarian diet there are several <br>physicians and others selling particular<br> based that they say work miracles becau<br>se of this or that ingredient omission o<br>r combination and very few medrs complia<br>nt sources offering definitions there wh<br>at a slut even someone who tried to trad<br>emark the term strong so i think this sh<br>ould remain a dab page until there are m<br>ore med rs sources or it should be redir<br>ected to semi vegetarianism or vegetaria<br>nism with a subsection in one of those a<br>rticles of those two options i think a d<br>ab page would be most helpful to readers",
           0
          ],
          [
           "get some damn sleep sleepy time tea is m<br>y savior serious",
           0
          ],
          [
           "filecassandrajourney png listed for dele<br>tion a file that you uploaded or altered<br> filecassandrajourney png has been liste<br>d at wikipediafiles for deletion please <br>see the discussion to see why this is yo<br>u have to search for the title of the im<br>age to find its entry if you are interes<br>ted in it not being deleted thank you",
           0
          ],
          [
           "the one who slays aussies cricket game i<br>ndians dhonikeepstheglove",
           0
          ],
          [
           "would you rather be filthy rich with no <br>friends or dirt poor with tons of friend<br>s and a dog",
           0
          ],
          [
           "opera titles are italicized all of these<br> operas and many of the selections have <br>their own wikipedia articles that should<br> be linked",
           0
          ],
          [
           "needs rewording whole passages are lifte<br>d verbatim from",
           0
          ],
          [
           "give it months to decline unless they do<br> not care lawmakers do some fast rewriti<br>ng and figure out how to reinstate the e<br>ffect of the law",
           0
          ],
          [
           "good to see the neo nazi wikipedia edito<br>rs all stick together good work fellas v<br>ictory or valhalla",
           0
          ],
          [
           "all good discussion but old acts donor f<br>are well with r b couplet as you know ca<br>rey s up out my face is a recent example<br> i think j lo is definitely doing the ri<br>ght thing eurodance is the sound of the <br>moment she is caching on it and adding s<br>ome rap credentials with the help of pit<br>bull this is a killer combo",
           0
          ],
          [
           "retweet a girl knows when a bitch likes <br>her boyfriend sleeping face open hands",
           0
          ],
          [
           "which is over over over over over over o<br>ver over over over over over over over o<br>ver over over over over over over over o<br>ver over over over over over over over o<br>ver over over over over over over over o<br>ver over over over over over over over o<br>ver over over over over over over over o<br>ver over over over over over over over o<br>ver over over over over over over over o<br>ver over over over over over over over o<br>ver over over over over over over over o<br>ver over over over over over over over o<br>ver over over over over over over over o<br>ver over over over over over over over o<br>ver over over over over over over over o<br>ver over over over over over over over o<br>ver over over over over over over over o<br>ver over over over over over over over o<br>ver over over over over",
           0
          ],
          [
           "footnote added i added a footnote for hi<br>storical analysis of grant s controversi<br>al general order no i included smith ana<br>lysis in the footnote it is up to other <br>editors if smith s views should be inclu<br>ded in the paragraph mentioning grant s <br>order i believe any historical views sho<br>uld be in the footnote to be neutral rat<br>her than only have one historian s view <br>in the article narration",
           0
          ],
          [
           "over the last year i have increased my p<br>ersonal efforts tenfold i think whatever<br> are among the last whites with the hope<br> of saving our people",
           0
          ],
          [
           "the initial article what a slut simply m<br>onarchist versus republic but a lot of t<br>he material what a slut taken from orien<br>ted sites a subsequent editor tailored t<br>he introduction more towards the commonw<br>ealth i think that the article would be <br>more interesting if it could bring in ar<br>guments from other monarchies around the<br> world and have a more global focus",
           0
          ],
          [
           "not anymore it isn t accounts with publi<br>shed passwords are not allowed so i have<br> changed it i am not sure what your purp<br>ose in publishing your password was but <br>the only effect has been to make the acc<br>ount inaccessible to you",
           0
          ],
          [
           "foot my regimental knowledge is pretty m<br>uch during the napoleonic wars i shall h<br>ave to research the other periods but at<br> that time they were equipped with muske<br>ts early on there what a slut some talk <br>of providing rifles but expected perceiv<br>ed supply issues of rifled weapons cause<br>d them to stick with muskets as you can <br>imagine this made for interesting skirmi<br>shing the french were equipped with musk<br>ets also so fire fights probably took pl<br>ace at distances of about yes if you had<br> nerves of steel you had wait for your o<br>pposite number to come within yes i shal<br>l address some weaponry and fighting tac<br>tics to the article eventually it is all<br> a bit rough at the moment thanks for th<br>e interest anyway",
           0
          ],
          [
           "oh my god no i do not haha haha that is <br>one of the very few songs i truly hate d<br>rives coworkers crazy because they think<br> it is awesome",
           0
          ],
          [
           "that is awesome happy face or smiley yea<br>h i am not really bothering to read gg s<br> response although people send me snippe<br>ts",
           0
          ],
          [
           "not a personal attack he s been going ar<br>ound reverting my edits on purpose you n<br>ot going to say anything to him you are <br>not a neutral administrator you are lett<br>ing your friendship with him get in the <br>where are you of wikipedia editing not g<br>ood",
           0
          ],
          [
           "dance and health glad to see that you co<br>nsider dance and health important i have<br> put in headings and added a small bit t<br>o the article would you consider it star<br>t class now",
           0
          ],
          [
           "chandigarh a girl attacks a man with a r<br>od near tribune chow after their cars ra<br>mmed into each other what does use of al<br>l talk of mode s woman empowerment if th<br>ey cannot even be allowed doing violence<br> on streets",
           0
          ],
          [
           "next to the section of those job opening<br>s",
           0
          ],
          [
           "recent block by rodhullandemu i like to <br>edit anonymously but in order to upload <br>a picture showing a statistic i had to u<br>se my mrnights account for the police ta<br>lk page this does not constitute of mult<br>iple if you want to confirm that this wh<br>at a slut just retaliation for making ar<br>guments rodhullandemu could not answer g<br>o to the post i started and see it for y<br>ourself",
           0
          ],
          [
           "done please see the above link",
           0
          ],
          [
           "fbi found miley s hacker some controvers<br>ial photos on the internet not the vanit<br>y fair photos of cyrus exposing some par<br>ts of her body were apparently posted by<br> somebody who hacked one of her former e<br> mail accounts the fbi raided his house <br>here is one article and there are others<br> out there in case it is not reliable en<br>ough although i think it is reliable i t<br>hink it is newsworthy but like the chris<br> brown saying miley cyrus is ugly thing <br>because it is breaking news i am not sur<br>e if it should be included read here on <br>recent ism preceding unsigned comment ad<br>ded by talk cont ribs playboy offer i wh<br>at a slut wondering whether this is real<br>ly relevant in hugh hefner made news whe<br>n he offered a magazine pictorial to yea<br>r old miley hefner said she what a slut <br>a pretty lady but would have to wait unt<br>il she what a slut to appear in the maga<br>zine this honestly sounds more of an adv<br>ertisement for playboy on the biggest te<br>en pop star s myspace than something gen<br>uine i d take it out miley possibly gets<br> a lot of offers for many things that do<br>es not warrant inclusion here within her<br> article well i feel that in light of he<br>r backless photo controversy hefner offe<br>r might be included but i feel it does n<br>ot require a separate section to mention<br> it it might be merged in the photo cont<br>roversy section you re a prick is writte<br>n under the pic can someone please chang<br>e it that vandalism what a slut reverted<br> over three hours ago and according to t<br>he most recent revision the vandalism is<br> not present talk",
           0
          ],
          [
           "right shamanic",
           0
          ],
          [
           "to this article deals with contentious s<br>ubject is false statement ustashe were h<br>istoric reality very well elaborated by <br>historians of the twentieth century hist<br>ory if something is highly desirable do <br>it not just demand it from others after <br>fully being familiar with the list of gi<br>ven references come then back and show t<br>he text deficiencies to lastly just a no<br>te about einstein firstly the text in ne<br>w york times is an opinion about somethi<br>ng done by einstein einstein is not quot<br>ed there at all i have reviewed five boo<br>ks dealing with einstein s work and life<br> not a single one mentioned this einstei<br>n s support to mustache martin brought t<br>he world renown historian and university<br> professor nowhere in his there kroatisc<br>he ustascha staat book ever mentioned ei<br>nstein in the context of the referenced <br>new york times article moreover in the g<br>aelic und ustascha chapter brought menti<br>oned well organized mustache propaganda <br>in the usa the league of nations nor any<br> of its bodies re viewed alleged einstei<br>n s protest nor took any action against <br>kingdom of yugoslavia to suppress mustac<br>he terrorism in yugoslavia league of nat<br>ions sanctioned hungary and forced musso<br>lini even to jail gaelic temporarily",
           0
          ],
          [
           "proposed deletion of wally judge hello g<br>olanharper i wanted to let you know that<br> im proposing an article that you starte<br>d wally judge for deletion because it is<br> a biography of a living person that lac<br>ks references if you do not want wally j<br>udge to be deleted please address a refe<br>rence to the article if you do not under<br>stand this message you can leave a note <br>on my talk page thanks",
           0
          ],
          [
           "why do you consider the link spam it is <br>a long and valuable resource on informat<br>ion much more so than a link to one worl<br>d s booking engine would not someone loo<br>k for information on this subject simply<br> like info on exactly how to book a tick<br>et because you have a conflict of intere<br>st please read the policy at pci",
           0
          ],
          [
           "i am not saying i am for this but studs <br>will fuck trannys but will not let they <br>bitch strap them down you muhfuckas chil<br>dish lol",
           0
          ],
          [
           "discospinster what constitutes the crite<br>ria for deleting a company page why does<br> hourly nerd get to keep its page up whi<br>le other startups have to take theirs do<br>wn seems ridiculous and subjective gorle<br>y",
           0
          ],
          [
           "yes you are correct sure a video floppy <br>vf can only theoretically store seconds <br>of motion video but the very funny what <br>a slut not designed for such it what a s<br>lut designed for storing still frames of<br> video for electronic photography or sti<br>lls as is mentioned in this article so i<br>t what a slut quite a useful format for <br>its time its uses also mentioned in this<br> article",
           0
          ],
          [
           "adam carr s photos no different to mine <br>he did the same to me so why are not you<br> telling him the same message he gave me<br> the same message and removed my tags wh<br>y cannot i so the same is it because he <br>is more inferior of a plebeian like me a<br>nd because he has royal blood that you m<br>ust give him special consideration i fou<br>nd it very ironic that he is a labor ite<br> and a supporter of australian republica<br>n movement despite his sheer arrogance a<br>gainst fellow wikipedia what a show",
           0
          ],
          [
           "be careful reading in your own definitio<br>ns what variant means all the regional a<br>nd national cheeses have entries in prit<br>chard s the encyclopedia of chess varian<br>ts and the classified encyclopedia of ch<br>ess variants and each of them also has a<br>n entry for orthopneas fide chess gollon<br> s chess variations has chapters for the<br> major regional and national cheeses als<br>o see noted french chess historian jealo<br>us campus s site",
           0
          ],
          [
           "reply bizarre ride ii shit i wrote that <br>entire thing man it got turned down for <br>fa so i am done with it good luck though",
           0
          ],
          [
           "overseas chinese oh my im sorry dude i d<br>id not even notice the second a i glosse<br>d over it but yeah neither i should be t<br>here thanks",
           0
          ],
          [
           "please stop if you continue to vandalize<br> wikipedia as you did to basis and butt <br>head you will be banned from editing",
           0
          ],
          [
           "he w invest the best status from nrl kts<br> my bad w invest first appeared z",
           0
          ],
          [
           "i was not really but in your case i migh<br>t make an exception wrestling would be m<br>y choice wink or smirk",
           0
          ],
          [
           "not necessarily in australia and also in<br> some other places evil grin ireland the<br> term is used to refer to both of these <br>types of trains",
           0
          ],
          [
           "going to wagner middle school to a tour",
           0
          ],
          [
           "utc what is the relationship between thi<br>s entry and the gestalt theory they seem<br> to cover much of the same ground and th<br>en this bibliography under perception",
           0
          ],
          [
           "please stop if you continue to vandalize<br> pages you will be blocked from editing <br>wikipedia if you are receiving this warn<br>ing and you did not vandalize you want t<br>o consider creating an account there are<br> many benefits phocoenidae not delphiniu<br>ms",
           0
          ],
          [
           "there are multiple abbreviations of it b<br>ut that will do talk",
           0
          ],
          [
           "now what indiawithdhoni dhonikeepstheglo<br>ve",
           0
          ],
          [
           "hi thank you for your assistance with th<br>e bundy article but could you please add<br>ress the gone tag at the articles talk p<br>age i would appreciate it also someone h<br>as reverted quite a few of your improvem<br>ents just to let you know",
           0
          ],
          [
           "any normal person with a brain would agr<br>ee that whatever comes out of clinton mo<br>uth is complete bullshit",
           0
          ],
          [
           "in english all three can be used in a me<br>taphorical sense to mean about the same <br>thing his breast chest does not mean muc<br>h of anything does the original mean tha<br>t god does something which makes the per<br>son more receptive to belief in islam th<br>at would be his not his",
           0
          ],
          [
           "my unblock attempt what a slut declined <br>i am not trying to break any rules here <br>by posting this but i want to point out <br>that i am being discriminated against be<br>cause i am an internet protocol address <br>i got in trouble fort routing",
           0
          ],
          [
           "retweet why would i be in a relationship<br> these hoes go still do them face with t<br>ears of joy hundred points",
           0
          ],
          [
           "once again i have translated via google <br>and had a friend do so they both seem to<br> agree with the translation i used in te<br>rms of whatever law is being applied you<br> cannot just cite that law you need to c<br>ite reliable articles covering the event<br>s at hand otherwise you are just specula<br>ting lastly concerning what all else is <br>in the article in question you are right<br> i am not removing every united statemen<br>t technically should statements like he <br>what a slut on abc bands album be cited <br>of course but that has one thing and a d<br>eveloping current event involving crimin<br>al charges and homicide are quite anothe<br>r most of my edits do involve removing o<br>r citing more mundane information but th<br>is particular issue necessitates a much <br>heavier hand in enforcing the rules agai<br>n i do not care if he is innocent i hope<br> he gets out soon if he is guilty i hope<br> they lock him up that said every source<br> i have come across and added has indica<br>ted the former and the only reliable sou<br>rce i have seen you address describing t<br>he incident seems to have a questionable<br> translation to me if you have more sour<br>ces details by all means address them ot<br>herwise they do not belong here",
           0
          ],
          [
           "i did a quick reorganization by usage fi<br>rst then by nation as necessary i do not<br> have any strong feelings about it just <br>trying it out",
           0
          ],
          [
           "please stop if you continue to vandalize<br> pages as you did to cool aesthetic you <br>will be blocked from editing wikipedia i<br>f you feel that the edit i reverted shou<br>ld not have been reverted please contact<br> me",
           0
          ],
          [
           "wow a mess this article reads like the e<br>nd result of one foreigner s afternoon w<br>ith the atavist babel fish translator i <br>tried i really really tried to help but <br>sentences like discovered his passion fo<br>r dancing ever since he what a slut in t<br>he have convinced me that this article i<br>s just doomed",
           0
          ],
          [
           "he died because of a great kali s",
           0
          ],
          [
           "ensan ullah sahib i am moving your artic<br>le to ensan ullah sahib please do not us<br>e all caps in the future it makes it dif<br>ficult to read and is inconsistent with <br>wikipedia style",
           0
          ],
          [
           "i am afraid i agree with all of showoff <br>s reasons i does not think it that appro<br>priate to have a link to individual batc<br>h websites in addition the home page of <br>this particular batch website has rather<br> too many spelling mistakes etc this wil<br>l not reflect that well on what is suppo<br>sed to be the best school of all suresh",
           0
          ],
          [
           "the last time she used the account what <br>a slut in late the vandal cannot use it <br>anymore because i am changing my passwor<br>d",
           0
          ],
          [
           "haha i am a thinking frigging hate that <br>it means cool a k a thinking how daft an<br>yway is it a con",
           0
          ],
          [
           "i mam sure you do not wish to be part of<br> vigilance s hate group this pedophile l<br>oving sorry girl loving user just cannot<br> help himself that is okay we will help <br>him for you wikipedia i do not think any<br>one thinks you are a pedophile sigh just<br> naive young man let us face it would yo<br>u be seen dead with a girl lover that is<br> arm in arm with a pedophile like ohio t<br>ried to out some poor innocent girl rece<br>ntly hope not",
           0
          ],
          [
           "that sucks",
           0
          ],
          [
           "cotton business broker why cannot whatev<br>er call the slavery business what it is",
           0
          ],
          [
           "yeah none of the content you added meets<br> any of the criteria in the scope sectio<br>n you pointed toward wait a few weeks an<br>d maybe something other than brief gamep<br>lay videos and quick interviews will off<br>er up the kind of information appropriat<br>e for the article placing the trivia plo<br>t summary in the context of the game s d<br>evelopment would be the most appropriate<br> see star wars the force unleashed for a<br>n example of a good article that in term<br>s of structure and content this article <br>should emulate",
           0
          ],
          [
           "fuck it i cannot take it anymore",
           0
          ],
          [
           "crying to the that some americans do not<br> like you might call you names whatever <br>call that being a crybaby bitch bama",
           0
          ],
          [
           "another one leo okay guys whatever are n<br>ear done our last obstacle is that we se<br>e a mountain and whatever hear the param<br>ount television jingle speedy no leo yes<br> the jingle plays again speedy no man no<br> leo look chickens whatever are going to<br> die trying to save our land no let us g<br>o we hear the current paramount televisi<br>on jingle as the heroes walk off into th<br>e distance",
           0
          ],
          [
           "the former participants seem to have lef<br>t the project either permanently or temp<br>orarily are you still interested in help<br>ing out seems like nobody cares about mi<br>rrors forks",
           0
          ],
          [
           "in response to your feedback you change <br>the information and please cite your sou<br>rces to learn how to cite sources see wi<br>kipediaciting sources and",
           0
          ],
          [
           "q what do you call someone who does an e<br>xpert at disproving hoax claims a arch d<br>ebunker what is up doc carrots",
           0
          ],
          [
           "your message first off i stand corrected<br> on the copyright for the mcauliffe arti<br>cle i am new to wiki and did not see tha<br>t the refs that were coming from framing<br>ham com had been copied from nasa on you<br>r second note regarding legal threats yo<br>u were off base a bit i was not threaten<br>ing anything i what a slut implying that<br> if this what a slut a blatant copyright<br> violation that someone else might be up<br>set if that was not clear i apologize i <br>what a slut just on the lookout for bad <br>articles",
           0
          ],
          [
           "the principles of despotism are fucking <br>garbage",
           0
          ],
          [
           "the knights of the ku klux klan youth co<br>rps just click on these words in red",
           0
          ],
          [
           "why does not you tell that to thejadefal<br>con he does not seem to be aware of that<br> rule or are wiki editors excluded from <br>it",
           0
          ],
          [
           "lungful adam",
           0
          ],
          [
           "hey morons at fox news and foxandfriends<br> what a slut is political when bush rais<br>ed terror threat right before the electi<br>on laughing my ass off at you teenagers",
           0
          ],
          [
           "abbreviated that quote and combined with<br> culture war reference rawstory should b<br>e reliable as publisher of interview abo<br>ut the interviewee s views per questiona<br>ble",
           0
          ],
          [
           "your user page is inaccurate why does yo<br>ur user page still display inaccurate in<br>formation gandi",
           0
          ],
          [
           "following a major redesign",
           0
          ],
          [
           "unblock three users use my computer and <br>wikipedia account the person who has bee<br>n accused of vandalism will not use the <br>account somebody please unblock",
           0
          ],
          [
           "icc turns down cci request marconi canno<br>t sport balidanbadge do you agree with t<br>his thinking face dhonikeepthegloves dho<br>nikeepstheglove indiawithdhoni dhonikesa<br>athdesh",
           0
          ],
          [
           "in the of the documentary brad bird says<br> something about the movie being set in <br>s of an alternate i think that clinches <br>if it is nor set in our s so the tag is <br>indeed inappropriate",
           0
          ],
          [
           "fucking black rats brought the plague th<br>ey spread disease",
           0
          ],
          [
           "he i guess i jumped right in anyway i fi<br>nd two logical flaws in your argument fi<br>rst just because some bulgarian editors <br>be misinterpreting or abusing the catego<br>ry system why should we second what if e<br>very article were subjected to your line<br> of thinking for instance what if someon<br>e decided that category communes in club<br> county what a slut too inaccessible a p<br>lace for aphid and decided to address in<br> category geography of romania and then <br>someone did the same for clod and pretty<br> soon that category ended up with entrie<br>s well for one it would become pretty us<br>eless does not you think which is why wh<br>atever have category populated places in<br> club county categorycluj county categor<br>y geography of transylvania but not inci<br>dentally category geography of moldavia <br>and category geography of wallach everyt<br>hing in its proper place plus there is a<br>n actual guideline meant to be followed <br>what which speaks of general rule that p<br>ages are not placed in both a category a<br>nd its i understand your problems with t<br>he system but it is what whatever have f<br>or now ok i have tried it on wikidata",
           0
          ],
          [
           "partakes user partakes has started origi<br>nal researching again if you recall he w<br>hat a slut active on mongols and mongoli<br>c peoples you reverted his change of mon<br>golic people from a disable to a page as<br> or and he is doing it again claiming it<br> has been and no one else has commented <br>he is difficult to work with as he keeps<br> saying he thinks one thing while editin<br>g in a where are you that shows he does <br>not at all believe what he says",
           0
          ],
          [
           "being back thanks for noticing and your <br>warm words earlier have yet to get back <br>into the swing of things but i am glad t<br>o see so many of my old friends are stil<br>l here happy editing",
           0
          ],
          [
           "so please how is ronald mallet and john <br>tutor and the other time travel articles<br> you have her not fringe science that yo<br>u published when i gave code sources and<br> web sources and newspaper sources ronal<br>d mallet oh please",
           0
          ],
          [
           "need info on another strike the article <br>needs some info on the doctors strike fo<br>llowing the government s refusal to gran<br>t them salaries for the period for which<br> they had been protesting the new obc qu<br>otas",
           0
          ],
          [
           "she sharing her hoe she knows though at <br>least i hope she does lmao",
           0
          ],
          [
           "the whites are more in the range of mill<br>ion",
           0
          ],
          [
           "px what a slut an arbitrary number i pic<br>ked when the pictures started being adde<br>d there what a slut no reason behind it <br>other than pleasant viewing",
           0
          ],
          [
           "nice changes to football soccer hi his n<br>ice bold update for the football soccer <br>intro paragraphs please see my message o<br>n the talk page i think whatever need to<br> continue with some bold action to bring<br> this page up to featured status quality<br> this involve less focus on the name iss<br>ue and more focus on the game itself che<br>ers utc",
           0
          ],
          [
           "another subcategory before i had like to<br> create a category for the time he co wr<br>ote and co starred in half baked and the<br> two hbo comedy specials these are huge <br>accomplishments for anybody",
           0
          ],
          [
           "go ahead review this review is transcend<br>ed from talk mind the edit link for this<br> section can be used to address comments<br> to the review reviewer talk cont ribs i<br> ll be glad to take this review initial <br>comments to follow in the next days sorr<br>y you have had to wait so long for a rev<br>iew and thanks in advance for your work <br>on this one",
           0
          ],
          [
           "i added some text to kansas but very har<br>d to find more text i spent four hours f<br>inding sources with several combinations<br> great tenasserim river is doable on ten<br>asserim there is more on the province th<br>an on the town be rosiest could also hel<br>p if she has time",
           0
          ],
          [
           "the fact that is has different names in <br>various countries makes it all the more <br>imperative that whatever use the origina<br>l name karin this is the central name kn<br>own to most that ties together the other<br> renames",
           0
          ],
          [
           "some issues which i am about to attempt <br>to partially fix the gold leaf and quadr<br>ant electrometers are in a sense also re<br>pulsion electrometers they both work by <br>measuring the repulsion of the same char<br>ge in one where are you or another my ch<br>em textbook uses the name quadrant elect<br>rometer to describe a considerably simpl<br>er device than kelvin invented this devi<br>ce has an index which goes between zero <br>and degrees hence a quadrant while kelvi<br>n s device while i does not fully unders<br>tand it had a drum split into quadrants <br>so i conclude that this is a coincidence<br> the best solution i can think of is to <br>create a section of repulsion electromet<br>ers and then describe the types individu<br>ally in their own sections underneath ex<br>ample gold leaf hellman peatier rothenbe<br>rger i will rename quadrant electrometer<br> to kelvin s quadrant electrometer and t<br>hen put both his and the simpler one und<br>er repulsion electrometers hopefully wha<br>tever can make this article clearer and <br>neater",
           0
          ],
          [
           "your submission at articles for creation<br> arcade texas which you submitted to art<br>icles for creation has been created the <br>article has been assessed as stub class <br>which is recorded on the article s talk <br>page you like to take a look at the grad<br>ing scheme to see how you can improve th<br>e article you are more than welcome to c<br>ontinue making quality contributions to <br>wikipedia note that because you are a lo<br>gged in user you can create articles you<br>rself and do not have to post a request <br>however you are more than welcome to con<br>tinue submitting work to articles for cr<br>eation if you have any questions you are<br> welcome to ask at the help desk if you <br>would like to help us improve this proce<br>ss please consider thank you for helping<br> improve wikipedia contact me contribs",
           0
          ],
          [
           "fileimgp jpg listed for deletion a file <br>that you uploaded or altered fileimgp jp<br>g has been listed at wikipediafiles for <br>deletion please see the discussion to se<br>e why this is you have to search for the<br> title of the image to find its entry if<br> you are interested in it not being dele<br>ted thank you",
           0
          ],
          [
           "i just wanted to chip in on this as i ce<br>rtainly remember an older version of off<br> topic for the apple ii series i would h<br>ave played it sometime in the years prob<br>ably at the earlier end of that range th<br>e graphics were monochrome and hunting w<br>hat a slut very different and quite diff<br>icult for me to get the hang of it what <br>a slut a sort of first person shooter ga<br>me with your stationary hunting blind at<br> the bottom of the screen at varying int<br>ervals a game animal would come trotting<br> horizontally across the screen almost l<br>ike a phantom you remember those early g<br>raphics and you would hit the fire butto<br>n to release a cloud of very slow moving<br> buckshot if they intersected just right<br> you got the kill this rarely worked for<br> me i remember being delighted when i sa<br>w the newer version in middle school i h<br>ave never been able to find a downloadab<br>le version also the earliest versions of<br> off topic seem to have been text only g<br>ames for talk to you and later glass tty<br> those were the ones when you hunted by <br>typing bang in a specified window of tim<br>e",
           0
          ],
          [
           "yes i got distracted i will catch up now",
           0
          ],
          [
           "maybe its different there",
           0
          ],
          [
           "wikipediawikiproject national basketball<br> association i am here to inform you tha<br>t this wiki project is having a callout <br>if you do not respond in one week after <br>this message whatever will automatically<br> move you to the inactive list thank you<br> for your time and co operation",
           0
          ],
          [
           "policy you should also be aware of pci",
           0
          ],
          [
           "note that i edited the article and hopef<br>ully that shall address your concerns",
           0
          ],
          [
           "retweet when a hoe gets too friendly wit<br>h before anyone else pouting face face w<br>ith steam from nose angry face with horn<br>s kitchen knife",
           0
          ],
          [
           "she has proved the saying of our led vin<br>eyard kale vibrant buddha meaning when o<br>ne s doom approaches the person intellec<br>t works against his her best interest sa<br>vebengal savethedoctors doctors fightbac<br>k doctors protest doctorsunderoppression",
           0
          ],
          [
           "belled you a belled",
           0
          ],
          [
           "feh i would not waste my time i have see<br>n too many times now how administrators <br>misuse their authority and abuse editors<br> just because they can get away with it <br>i have also seen how administrators will<br> back other admins up even when they are<br> wrong wrong wrong by and large wikipedi<br>a is no longer a nice place for nice peo<br>ple in fact it probably turns nice peopl<br>e into cynical nasty people and then the<br>y become admins if you are an administra<br>tor with administrator buddies to back y<br>ou up or someone with k edits you can pr<br>etty much get away with wikipedia murder<br> here and the rest of us poor clubs who <br>came here thinking whatever just wanted <br>to edit some articles and could make a d<br>ifference with our contributions are the<br> ones who get walked on and kicked while<br> we are down what does more the editors <br>who try their darnedest to do the right <br>thing get told they are lying and or bei<br>ng disingenuous and get themselves block<br>ed for doing the right thing while those<br> who should be blocked for their behavio<br>r never see a block me go to arbor or an<br> administrator notice board over this th<br>at is unlikely",
           0
          ],
          [
           "retweet i have zero hoes laughing my fuc<br>king ass off",
           0
          ],
          [
           "hi again i had a go at implementing your<br> suggestions into the article most anywa<br>y its kind of difficult to objectively c<br>opy edit stuff youve written yourself i <br>had a couple of queries which i have pla<br>ced on the wikipediapeer review mr bungl<br>e page and what a slut hoping if you had<br> a spare second you could have a quick l<br>ook and tell me what you think thanks ag<br>ain",
           0
          ],
          [
           "i m done got trolled did not i aww shuck<br>s i should have known better than to res<br>pond as if there were actual sounds bein<br>g emitted by the words on the screen peo<br>ple are such believers in the impossible<br> i what a slut caught",
           0
          ],
          [
           "idealist happy face or smiley",
           0
          ],
          [
           "ethnic nationality descent categories hi<br> mayumashu in the past i know you did a <br>tremendous amount of work on the subcate<br>gories of as you probably know i have be<br>en proposing renames for a bunch of thes<br>e to conform to the freeway people stand<br>ard now i am not sure how you feel about<br> these changes but i what a slut wonderi<br>ng if i come across one of these categor<br>ies that are named food of guitar descen<br>t and i see that you are the creator and<br> sole author would i have your permissio<br>n to speedily rename these to freeway pe<br>ople of guitar descent it would save me <br>having to do a formal discussion for the<br>m and would help us regain consistency f<br>aster if you disagree with these changes<br>i m sorry and you do not have to say yes<br> talk no no that s fine go for it good o<br>lfactory and for the ones where i have n<br>ot t been sole author i ll gladly suppor<br>t each of your norms all the best",
           0
          ],
          [
           "no commonwealth realm even if realm were<br> in lower case signifies a realm that is<br> in the commonwealth that includes the r<br>ealms like swaziland and tonga which are<br> members of the commonwealth and have a <br>monarch other than elizabeth ii also the<br>re is nothing in the term to indicate th<br>at elizabeth ii is the common monarch of<br> these realms and a term should describe<br> what it signifies belonging to the comm<br>onwealth is quite incidental to the qual<br>ity of the realms whatever are attemptin<br>g to group",
           0
          ],
          [
           "cancelsouthpark they were liberals when <br>you were still sucking on your momma s t<br>itty at the other woodstock",
           0
          ],
          [
           "utc i have not found out much else so fa<br>r i have now mentioned the century build<br>ing in the lead section",
           0
          ],
          [
           "us state department denies persecuted as<br>syrian christians refugee status while a<br>dmitting somalis to the",
           0
          ],
          [
           "i said you lied because you wrote huh cl<br>early discussed in response to the prece<br>ding edit summary which what a slut when<br> i wrote that the one before it so edits<br> before yours had no discussion or suppo<br>rt you claimed the comments from i e the<br> end of the first edit war as this suppo<br>sed discussion the comments from were no<br>t justification to change the article to<br> ce then and they most definitely are no<br>t justification for changing now as acid<br> and the guidelines have said you need t<br>o start a discussion if you want to chan<br>ge it in mzilikazi and his sock puppet d<br>id not start a discussion and neither di<br>d you nor your canvassed friends aoidh f<br>inally started this discussion yesterday<br> months after the start of mzilikazi s s<br>econd edit war this discussion has led t<br>o no conclusions and therefore the statu<br>s quo must remain at least for now",
           0
          ],
          [
           "macao versus macau i am afraid it is the<br> other where are you round macao is engl<br>ish and macau is portuguese example look<br> at the cover of a macao sar passport th<br>e full name of the macao sar is written <br>as region administrative especial the ma<br>cau in portuguese and macao special admi<br>nistrative region in english macao is th<br>e english name and macau is the portugue<br>se name this is recognized by macao and <br>its sovereign state however both are acc<br>eptable in english it is just like using<br> munich or munich i am not trying to say<br> that one of us is right and the other i<br>s wrong i just want to draw your attenti<br>on to the origin of macao and macau",
           0
          ],
          [
           "the estimated time of arrival assists bl<br>ames disputes the franco canada catalan <br>migrants",
           0
          ],
          [
           "are you speaking of this query thanks",
           0
          ],
          [
           "speedy deletion of sheila gate a tag has<br> been placed on sheila gate requesting t<br>hat it be speedily deleted from wikipedi<br>a this has been done under section good <br>one of the criteria for speedy deletion <br>because the page appears to have no mean<br>ingful content or history and the text i<br>s unsalvageable incoherent if the page y<br>ou created what a slut a test please use<br> the sandbox for any other experiments y<br>ou would like to do feel free to leave a<br> message on my talk page if you have any<br> questions about this if you think that <br>this notice what a slut placed here in e<br>rror you contest the deletion by adding <br>to the top of the page that has been nom<br>inated for deletion just below the exist<br>ing speedy deletion or tag coupled with <br>adding a note on the talk page explainin<br>g your position but be aware that once t<br>agged for speedy deletion if the article<br> meets the criterion it be deleted witho<br>ut delay please do not remove the speedy<br> deletion tag yourself but do not hesita<br>te to address information to the article<br> that would render it more in conformanc<br>e with wikipedia s policies and guidelin<br>es lastly please note that if the articl<br>e does get deleted you can contact one o<br>f these admins to request that a copy be<br> emailed to you",
           0
          ],
          [
           "ooo mr administrator thinks he is all to<br>ugh with his i blocks powers",
           0
          ],
          [
           "and yet you still fail to deliver a good<br> reason against including the phrase he <br>is considered the greatest of all time b<br>y virtually every source and by all sour<br>ces that have been brought forward in th<br>is argument hence he is widely considere<br>d the greatest of all time that is not p<br>ov that is fact",
           0
          ],
          [
           "yes liberals versus progressives this sh<br>ould be a really dumb banter go",
           0
          ],
          [
           "oh my god oh my god oh my god oh my god <br>oh my god oh my god omg coin what a slut<br> here",
           0
          ],
          [
           "imagine if you were an unskilled unquali<br>fied cancer like sarah rays and lewy and<br> you got greedy made some fast cash but <br>it what a slut sustainable it all collap<br>sed and you had bills to pay",
           0
          ],
          [
           "from fat amy to fit amy",
           0
          ],
          [
           "yes harassment that is a good one is not<br> it especially in light of the facts",
           0
          ],
          [
           "please respond here on your talk page i <br>have got it watch listed",
           0
          ],
          [
           "per minor a minor edit is one that the e<br>ditor believes requires no review and co<br>uld never be the subject of a dispute if<br> you feel that is the case clearly you a<br>re underestimating the ability of the ed<br>its to be the subject of dispute",
           0
          ],
          [
           "that seems like the right thing to do",
           0
          ],
          [
           "is there some reason why the link for an<br>nmarie eddy in this article directs back<br> to this page seems misleading a mistake",
           0
          ],
          [
           "versus ugly i believe in the diet sectio<br>n should be spelled",
           0
          ],
          [
           "tolerance what in sharpening knives year<br>s jihads have been a pain in our a",
           0
          ],
          [
           "n diiians are lovely and i love them mor<br>e when they teach me about india",
           0
          ],
          [
           "i have never seen anything so utterly pa<br>thetic as a sorry for herself houdini do<br>c who is back from having her teeth clea<br>ned at the vet",
           0
          ],
          [
           "read vice needed i think posting on want<br> is a good where are you to bring attent<br>ion to what is happening at this point i<br> do not know if there is really anything<br> else to do unless the same user shows u<br>p again and even if s he does there are <br>a lot of other users including admins wh<br>o are aware of the situation and will sp<br>ring into action i do not think you have<br> to worry about your since everything is<br> documented",
           0
          ],
          [
           "utc to mention that the neighborhood whe<br>re the riots are taking place have a his<br>tory of previous religious and political<br> violence is more relevant and appropria<br>te in this article than it is to copy th<br>e entire french rule in algeria article <br>into it a short mentioning of previous a<br>nd quite recent political religious viol<br>ence should be appropriate if the articl<br>e is getting too long whatever could of <br>course start to make subarticles about t<br>he history of political religious violen<br>ce and so on in that neighborhood but th<br>at is not the case yet also i find it st<br>range why there seems to be editors arou<br>nd here that are so determined to remove<br> that piece of information from the arti<br>cle irishpunktom almost vandalized the a<br>rticle only to avoid the mentioning of o<br>ther recent incident of political religi<br>ous violence in that specific place",
           0
          ],
          [
           "i have made mistakes in the past and lea<br>rned from them",
           0
          ],
          [
           "oh my god fuck these bitches based god",
           0
          ],
          [
           "myanmar i want to lodge a formal complai<br>nt against for targeting my posts on the<br> myanmar page for deletion because they <br>oppose the military rule of myanmar i th<br>ink it is important for wikipedia to all<br>ow the people ency to be used to raise a<br>wareness of this critical issue",
           0
          ],
          [
           "agree lambert asserts that he what a slu<br>t first published source so this part is<br> not totally original research the varia<br>bility see pv of his claim is questionab<br>le why should wikipedia report lambert s<br> version without independent verificatio<br>n of his claims he is not a recognized a<br>uthority on academic or religious termin<br>ology o brain is another primary source <br>she does not work for the oed or any of <br>the usual places whatever go to when wha<br>tever want an authoritative answer to wh<br>en terms originated also o brain does no<br>t directly credit lambert so even this s<br>ource does not directly support the arti<br>cle text also neither lambert nor o brai<br>n state that the term what a slut ever u<br>sed to define style of celtic what whate<br>ver really need is a citation that state<br>s that the harvest magazine really what <br>a slut the first appearance",
           0
          ],
          [
           "reply leila anon ip the sources you link<br>ed did refer to an iranian wine called s<br>hiraz but does not specify it as being f<br>rom the sarah grape and in fact the hugh<br> johnson vintage story of wine ref does <br>describe as the same shiraz wine which n<br>umerous reliable sources describe as bei<br>ng made in shiraz and if you notice the <br>same story of wine ref you added is actu<br>ally already being used in the shiraz wi<br>ne article additionally there are numero<br>us reliable sources in this article incl<br>uding links to the dna evidence that con<br>clusively show that the sarah wine grape<br> originated in france no one is denying <br>that a shiraz wine what a slut made in t<br>he iranian persian city of shiraz and in<br>deed whatever have an article dedicated <br>to the subject and make reference to tha<br>t article repeatedly in the sarah articl<br>e but the abundance of evidence shows th<br>at the shiraz wine which what a slut lik<br>ely made from trevino and today modern s<br>urahs shiraz are different wines cheese <br>wine",
           0
          ],
          [
           "as you saw i moved it to semi per the de<br>cision regarding the michael jackson art<br>icle message",
           0
          ],
          [
           "yes i know that you are talking about th<br>at but i have no idea what you are tryin<br>g to say",
           0
          ],
          [
           "similar concept how can you mark a moder<br>n day nation with being a barbarian your<br> western jerks were playing with pieces <br>of shits while whatever were conquering <br>the world you be ultra christ ultra gree<br>k ultra armenian ultra western or whatev<br>er you want but cannot be a turk",
           0
          ],
          [
           "removing near birmingham in the face of <br>three cited refs is or",
           0
          ],
          [
           "we are on our where are you to the mario<br>n smith competition teamfriarsjms compet<br>ition ready",
           0
          ],
          [
           "the convention on naming appears to be f<br>alling by the wayside some cities articl<br>es i e toronto montreal are titled as th<br>e city s name only while others chicago <br>winnipeg calgary vancouver are burdened <br>with having the state or province follow<br>ing the city in the article title in res<br>ponse to your moment below the of toront<br>o is ontario which is unnecessarily long<br> as an article name besides wikipedia ar<br>ticles use the most common name not the <br>full name of article subjects e g united<br> states not states of and united kingdom<br> not kingdom of great britain and northe<br>rn wikipedia is an international encyclo<br>pedia not a north american one so the ar<br>ticle title should be what readers aroun<br>d the world will think of first not just<br> those in north america many people outs<br>ide of canada have not heard of ontario <br>even though they know about toronto let <br>us just leave keep it simple and keep th<br>e existing redirect from to ground zero <br>t and seeing that you are administrator <br>please re name the winnipeg manitoba cal<br>gary alberta edmonton alberta and vancou<br>ver british columbia articles to and res<br>pectively their full names i e winnipeg <br>manitoba canada are unnecessarily long a<br>nd readers worldwide know of these citie<br>s even if they have not heard of manitob<br>a alberta or british columbia as you sug<br>gest let us keep it simple whatever shou<br>ld not imply that toronto montreal and o<br>ttawa by the way both vancouver and calg<br>ary are larger than ottawa are in a diff<br>erent league so let us say that all cana<br>dian cities of over should stand on thei<br>r own we will make up our own rules as w<br>hatever go along thanks i hope you are a<br>ble to do this soon",
           0
          ],
          [
           "redirect talkachcham yenbadhu madamaiyad<br>a",
           0
          ],
          [
           "if i respect you i demand your respect b<br>ack if you think you can be a bitch i ca<br>n be an even bigger one bring it",
           0
          ],
          [
           "owen boston baby bells good work on bost<br>on and thanks for your comments yes i ac<br>tually agree with you about most readers<br> at least the ones who are ever likely t<br>o read about owen boston would not ever <br>have a clue about what a baby bell or ev<br>en a regional bell operating company is <br>but i also figured that telling them tha<br>t they are american still does not tell <br>the reader anything that substantially a<br>ffects that lack of understanding to mak<br>e much sense of it i reason that they wi<br>ll still have to look baby bell or roc u<br>p and when they do that then it will be <br>obvious that it is an exclusively us thi<br>ng that is how i reason it but there is <br>no pride issue for me so feel free to ch<br>ange it back you do not like wink or smi<br>rk",
           0
          ],
          [
           "john mark karl quote want to rape us joh<br>n mark karts you want to rape us debra l<br>a faves fuck you the source cited has th<br>e entire it means cool a k a before blot<br>ted out is there an uncensored source or<br> are whatever just assuming it is althou<br>gh it would make the most sense from con<br>text to be sure whatever cannot make suc<br>h an assumption in an encyclopedia eithe<br>r it means cool a k a should be blotted <br>out or a reliable first hand uncensored <br>source must be added",
           0
          ],
          [
           "scenes of a sexual nature hello and welc<br>ome to wikipedia whatever welcome and ap<br>preciate your contributions such as scen<br>es of a sexual nature but whatever regre<br>tfully cannot accept copyrighted text or<br> images borrowed from either websites or<br> printed material this article appears t<br>o be a direct copy from and therefore a <br>copyright violation the copyrighted text<br> has been or will soon be deleted if you<br> believe that the article is not a copyr<br>ight violation or if you have permission<br> from the copyright holder to release th<br>e content freely under the gnu free docu<br>mentation license gfl you can comment to<br> that effect on talk scenes of a sexual <br>nature then you should do one of the fol<br>lowing make a note on the original websi<br>te that re use is permitted under the gf<br>l and state at talk scenes of a sexual n<br>ature where whatever can find that note <br>or send an e mail from an address associ<br>ated with the original publication to pe<br>rmissions at wikimedia dot org or a post<br>al message to the wikimedia foundation p<br>ermitting re use under the gfl it is als<br>o important that the text be modified to<br> have an encyclopedic tone and that it f<br>ollows wikipedia article layout for more<br> information see wikipedia s policies an<br>d guidelines thank you and please feel w<br>elcome to continue contributing to wikip<br>edia happy editing talk to me",
           0
          ],
          [
           "a social market economy is the worst bul<br>lshit anyone can think of",
           0
          ],
          [
           "templarion lol that last line is just a <br>joke i thought it what a slut obvious ok<br> well it just seemed very strange that i<br>t all happened within a few seconds righ<br>t after he stopped reverting my page one<br> of my articles got marked for speedy de<br>letion so that what a slut a big coincid<br>ence if you really are two different peo<br>ple",
           0
          ],
          [
           "congratulations and welcome back",
           0
          ],
          [
           "it is so annoying having to explain myse<br>lf and my reasons for disliking hybrids <br>everyone should already be aware of thes<br>e obvious explanations and should feel t<br>he same it is common sense",
           0
          ],
          [
           "team effort izbjeglice reba post america<br> i eliot britain her je to polemic nicol<br>e politics",
           0
          ],
          [
           "like hanover and saxe coburg gotha",
           0
          ],
          [
           "imagepontiac solstice jpg has been liste<br>d as a possible copyright violation an i<br>mage that you uploaded imagepontiac sols<br>tice jpg has been listed at wikipediacop<br>yright problems because it is a suspecte<br>d copyright violation please look there <br>if you know that the image is legally us<br>able on wikipedia you have to search for<br> the title of the image to find its entr<br>y and then provide the necessary informa<br>tion there and on its page if you are in<br>terested in it not being deleted thank y<br>ou",
           0
          ],
          [
           "suddenly bozoobama is not politician cer<br>tainly not that he villagers disgraced f<br>reeholder started police brutality antif<br>a blm ows movements did not fund our us <br>military as before for yrs but gave worl<br>d sponsor of terror iran bil new not old<br> isis lover obama",
           0
          ],
          [
           "because everyone needs a smile today you<br> are welcome cute picoftheday positive",
           0
          ],
          [
           "this article caught my eye history of co<br>mputing hardware s present bounded furth<br>er in getting punched card and keypunch <br>to their current state i had moved every<br>thing about them out of unit record equi<br>pment my style is to get it said once an<br>d correct that left holes in unit record<br> comments made about it not being an out<br>line etc that you others had to fill in <br>given the current document structure but<br> those fill ins do not address any knowl<br>edge about the topics how is this for a <br>plan do sorters tabulators reproduce sum<br>mary punch collators statistical one art<br>icle each like columbia univ computing h<br>istory these articles are like the keypu<br>nch article complete including all model<br>s reference manuals everything for examp<br>le the current articles get combined int<br>o reproduce summary punch only redirects<br> left in their place now there is no mac<br>hine detail left for the unit record equ<br>ipment article change move it to unit re<br>cord data processing so the machines are<br> bounded by article titles and the unit <br>record article text is about the choreog<br>raphed flow bounded by dates",
           0
          ],
          [
           "geez marcus is back again but i am not s<br>ure if he is going to start another war <br>he is known as in the imdb board",
           0
          ],
          [
           "no fec papers the following are not file<br>d with the federal election commission v<br>ermin supreme d stewart j greenleaf r ji<br>ll stein g jams hedges p stewart alexand<br>er sousa roseanne barr i robert buck i t<br>erry jones i none of these people should<br> be on the page",
           0
          ],
          [
           "that is not what i what a slut attemptin<br>g to do i just posted a link to whatever<br> what a slut at the top of the revision <br>history get over yourself you might want<br> to try exercising some of that good fai<br>th you mentioned",
           0
          ],
          [
           "some day soon i am going to crawl out of<br> my computer and support you article ceo<br>il",
           0
          ],
          [
           "do not start little bitch",
           0
          ],
          [
           "retweet the nipples determine whether th<br>e titties are trash or not",
           0
          ],
          [
           "after plumage attack how many raw ib off<br>icers were suspended",
           0
          ],
          [
           "have come on here one more time peaceful<br>ly to try to engage you in meaningful co<br>nversation if you do not respond this is<br> fine so please do not consider this an <br>attack on you personally etc i need to u<br>nderstand why you think that propaganda <br>can be limited to political and military<br> uses propaganda can be used by an indus<br>try when i looked back at your edits i n<br>oted you claimed that my inclusion of th<br>e tanning industry and tobacco industry <br>what a slut to garner attention for prod<br>uct he thinks is bad for people mr jense<br>n i do not have to think anything as thi<br>s is not an assertion it is a fact when <br>an industry pays other organizations to <br>publish material that is misleading and <br>untruthful to serve their purpose is thi<br>s not propaganda if you can provide furt<br>her resources to help me understand what<br> propaganda is then i will be happy to r<br>ead them and then maybe i can see why yo<br>u refuse to include the propaganda impos<br>ed by the tanning industry if you cannot<br> then i fear that the individual entrust<br>ed with the integrity of such an importa<br>nt page has not done their due diligence<br> before dismissing the careful work of o<br>thers this is all i ask and i believe it<br> is reasonable for me to do so consideri<br>ng the fact that you took this to the po<br>int of banning me from contributing to w<br>ikipedia",
           0
          ],
          [
           "i am impressed with the psychoanalytic d<br>etective work you have done going down t<br>he rabbit hole of my contribution histor<br>y and perhaps flattered but i am afraid <br>your conclusions are entirely erroneous <br>paul talk",
           0
          ],
          [
           "arguing with a source inline is not an i<br>mprovement for whatever views are not be<br>ing mentioned merely arguing against a s<br>ource from your personal knowledge or op<br>inion is original work not what whatever<br> do here in particular you miss the poin<br>t by noting that carbon reductions from <br>wind power occur wherever the wind power<br> gets consumed because the article is no<br>t primarily about carbon reduction it is<br> about how grid managers can handle inte<br>rmittent power sources on the grid the i<br>ntermittence of wind and solar power mat<br>ter because the grid functions not only <br>to generate carbon offsets but also and <br>primarily to supply electricity when cus<br>tomers demand it",
           0
          ],
          [
           "hotel soon",
           0
          ],
          [
           "happy smile hair model style fashion lip<br>s lipstick eyes brown brunette",
           0
          ],
          [
           "not only soccer i am pretty sure that bo<br>wman ruling does not refer only to socce<br>r but also at least to basketball and ma<br>ybe to other sports in europe if anyone <br>knows more on the subject please help",
           0
          ],
          [
           "i would unblock if you commit not to eng<br>age in anymore sock puppetry and do your<br> best to moderate the tomfoolery mental",
           0
          ],
          [
           "enemies of batman ok i have explained my<br> thoughts on the enemies of batman talk <br>page",
           0
          ],
          [
           "i am still waiting for guidance but at t<br>his point i believe the best course of a<br>ction is to restore the history page to <br>how it what a slut before the frequency <br>switch and address the changes made sinc<br>e then on the other station s page",
           0
          ],
          [
           "that of undocumented for the purposes of<br> an encyclopedia should not be something<br> else like",
           0
          ],
          [
           "two out of three is not a very large maj<br>ority the person who said in their edit <br>summary that ira lupine what a slut supe<br>r famous and known to every american is <br>showing pov if his newspaper column what<br> a slut syndicated to newspapers as the <br>person wildhartlivie claimed that is lea<br>ving out many cities and towns i checked<br> all three of the newspapers that existe<br>d in washington do not care at the time <br>karyn died and none of them carried up s<br> column people in do not care could not <br>watch his television talk show either it<br> was not listed in the local television <br>guide if a celebrity was not in washingt<br>on do not care in then he she was not in<br> a lot of places same goes for raleigh n<br>orth carolina i checked the news observe<br>r in no up s column other good sources a<br>re people who were over the age of livin<br>g in do not care and raleigh in i have t<br>alked with them and they say they never <br>heard of ira lupine until i told them ab<br>out karyn s death i already named the ra<br>leigh newspaper if you insist do not car<br>e people did indeed know about and care <br>about ira lupine at the time his daughte<br>r died then please name all three do not<br> care newspapers from that period if you<br>r majority is as sound as you claim then<br> let us hear from the contributor known <br>as families if you know so much about wi<br>kipedia then maybe you know what familie<br>s s position is he she has said that neg<br>ative information about coroner harold m<br>ade is relevant as long as it is sourced<br> and it is",
           0
          ],
          [
           "the best they can do is prevent their me<br>mbers from hearing the truth which is wh<br>y they don t allow any serious opposing <br>views",
           0
          ],
          [
           "see her in other pictures and you will s<br>ee how she is a typical slavic",
           0
          ],
          [
           "article image can classic sonic be the o<br>nly image used or perhaps be more promin<br>ent at the moment he is hidden behind ne<br>w sonic new sonic seems to be finally ge<br>tting phased out and more games are offe<br>ring classic sonic options i am going to<br> whatever should get rid of new sonic al<br>l together those green eyes and long leg<br>s just look god awful",
           0
          ],
          [
           "retweet whatever find turtle whatever fi<br>nd the hoes",
           0
          ],
          [
           "jasamoah and what message does it give t<br>o other terror suspects if the uk are th<br>is soft to let him stay oh yes whatever <br>become a terrorist have not good one",
           0
          ],
          [
           "yes there is a difference between not su<br>pporting oppose and not wanting to promo<br>te him however most wikipedia think that<br> there is no difference between oppose a<br>nd not promote its generally considered <br>wrongly that it is the same thing",
           0
          ],
          [
           "here is my five cents i do not think it <br>is practical to give chords for a middle<br> point of routes i have looked around a <br>bit and the only place i happened to fin<br>d such chords is in bundesautobahn in th<br>is example there is an important junctio<br>n in a city near the center so it makes <br>sense but in some routes like route whic<br>h consist of or more separate fragments <br>defining any point on them is too arbitr<br>ary also some routes are important and w<br>ide for a part of their length only so t<br>heir is not anything to go by i would be<br> happy with points but i know this is no<br>t practical in searching i think an impo<br>rtant destination city or big town somew<br>here between and of their length should <br>be picked but cases like route need more<br> chords maybe inline",
           0
          ],
          [
           "what a pile of junk the cabinet office i<br>s",
           0
          ],
          [
           "retweet what are you twelve yeah on a sc<br>ale of one to ten bitch",
           0
          ],
          [
           "utc speaking of covering things up i hav<br>e been told that the duke sororities oft<br>en hired males strippers i need this ver<br>ified yesterday if possible and if anyon<br>e here writes for encyclopedia dramatic <br>make an article on beatles over there",
           0
          ],
          [
           "playing lightly on or over a surface fli<br>ckering as a lambent flame lambent shado<br>ws",
           0
          ],
          [
           "just saying instantly installed positivi<br>ty good vibes epic self love justsayinga",
           0
          ],
          [
           "when year old brother is a rapist and yo<br>u post his bail shady look in a mirror b<br>itch",
           0
          ],
          [
           "removed historical context i would like <br>to protest the removal of this section h<br>istorical context the germans had bombed<br> many cities and civilian targets throug<br>hout england throughout the war in addit<br>ion to many other cities throughout euro<br>pe in the opening invasions the british <br>bomber command began a policy of area bo<br>mbing or targeting cities to demoralize <br>the population disrupt the infrastructur<br>e and as a method of taking revenge for <br>the bombing of british cities the nazis <br>were widely popular and encountered no r<br>esistance from non jews non communists o<br>r any other germans who were not extermi<br>nated by the nazis the use of incendiary<br> bombs what a slut also similar to the b<br>urning of jews in concentration camp ove<br>ns which the germans had given their con<br>sent to anonymiss matches",
           0
          ],
          [
           "i am sorry but the text you are adding t<br>o the article is clearly not adhering to<br> the neutral point of view policy of wik<br>ipedia you cannot qualify something bad <br>by yourself there is nothing that proves<br> they are bad you could ask joe blow in <br>texas if he thinks they are bad he might<br> say yes but you could ask ronald in que<br>bec and he might say no",
           0
          ],
          [
           "i do but for single player things wikipe<br>dia is the closest i come to online inte<br>raction utc",
           0
          ],
          [
           "all people of a white color should welco<br>me jews black south african chinese musl<br>ims in other words diversity should rule",
           0
          ],
          [
           "you can carry on where i left off i have<br> very little interest in florida s artic<br>les beyond trying to spur or shame edito<br>rs into caring and taking action the sta<br>ndard joke has been that used needs a hu<br>rricane to come through and swipe the ar<br>ticles about florida s roadways off the <br>website so they can be restarted from sc<br>ratch with an eye towards quality in the<br> grand scheme of things the state highwa<br>y articles are more important than the c<br>ounty road articles yet the editor base <br>keeps arguing to retain cannot remember <br>articles that do not pass the general no<br>tability guideline the state highways ar<br>e the meat of the projects with cannot r<br>emember shit as the icing on the cake fl<br>orida needs an editor that will do what <br>needs to be done but that is not me i ha<br>ve plenty with michigan to do michigan h<br>ighway is at why acr to be reviewed for <br>promotion to a class and i have several <br>other articles that i am preparing for p<br>romotion up the assessment scale combine<br>d with the work i try to do for the wiki<br> project i do not have time to focus on <br>florida now if you just keep on with the<br> list implementing the manual formatting<br> i started then you should be able to me<br>rge the lists back together since you sp<br>lit them you should fix that the only th<br>ing is that three digit markers etc shou<br>ld be sized at i am still in the upper p<br>eninsula from my mid winter holiday trip<br> so i have to work on articles from this<br> area like while i have access to the lo<br>cal libraries",
           0
          ],
          [
           "you have sucked a knack for the spoken w<br>ord",
           0
          ],
          [
           "laughing out loud no where are you i am <br>not i am",
           0
          ],
          [
           "hello i have reverted your latest edit o<br>f the manu arsenal article because no co<br>nsensus has been reached in the discussi<br>on at footy and i think you should wait <br>until this has been achieved before tryi<br>ng to impose your view on the article i <br>note that you have performed what amount<br> to four edit reverts yesterday and toda<br>y i think this is out of order given tha<br>t the matter is subject to discussion pl<br>ease be patient",
           0
          ],
          [
           "pointless article this article tells me <br>nothing about the elastic band other tha<br>n what it is made of and who and where i<br>t what a slut patented what about manufa<br>cturing processes manufacturers names ty<br>pes of latex used sizes grades all this <br>tells me is how to chuck them across the<br> room and make balls and ropes with them<br> useless banner put up to encourage expa<br>nsion",
           0
          ],
          [
           "another answer to mute i will discuss yo<br>ur problems with my article when i am un<br>blocked and only on the bosendorfer disc<br>ussion page is it clear concerning andre<br>w norman s behavior i advice you to calm<br> down for your information i am just try<br>ing to publish on wikipedia a useful art<br>icle and i am faced by nothing less than<br> vandalism from you administrators i fin<br>d this behavior really shameful from you<br>r part and all this nightmare just to wr<br>ite a useful article on wikipedia be sur<br>e that i have better to do with my life <br>and that it will be the first and only a<br>rticle on wikipedia in my entire life th<br>e behavior of you the people who censore<br>d my article is really shameful michaeli<br>sgreat",
           0
          ],
          [
           "i oppose removing the field it is well k<br>nown that the republican party associate<br>s itself with being to the right of cent<br>er there are moderate centre rightests i<br>n the party but there are also people ge<br>nerally described as right wing such as <br>the strongly social conservative evangel<br>ical christian wing of the party and the<br> paleo conservative wing that are more t<br>o the right than the center",
           0
          ],
          [
           "this place sucks get a good job so i can<br> stay home please pretty please aww fuck<br> it am i begging you laughing my ass off",
           0
          ],
          [
           "i d prefer the broncos image after his c<br>areer is done but i like a dolphins phot<br>o currently holley",
           0
          ],
          [
           "agreed that what a slut precisely why i <br>provided a counter example every languag<br>e is equally valid as an object of study<br> and every language as far as i know can<br> express any thought they just do it dif<br>ferently what irritated me what a slut t<br>he chauvinism and i just wanted to expre<br>ss a different opinion greek per se is u<br>nique otherwise it would not be a separa<br>te language but as compounding languages<br> go it is run of the mill other language<br>s have other devices and some go about t<br>heir business in the greek fashion but a<br>s far as i know any child can learn any <br>language and there have been no instance<br>s of language pairs where translation fr<br>om one to the other what a slut impossib<br>le but i must admit i what a slut also t<br>easing steel but not in a mean way best <br>of luck",
           0
          ],
          [
           "hello could you please unblock the inter<br>net protocol address so i can change the<br> username i did not realize the conflict<br> of interest between the username and pa<br>ge my purpose what a slut purely to upda<br>te the information about the association<br> which is known in europe and is on wiki<br>pedia because it is an important organiz<br>ation within europe energy regulation i <br>understood all three questions do you ch<br>ange the username yourself or do i chang<br>e it thank you for your help",
           0
          ],
          [
           "your rfa is at wikipediarequests for adm<br>in you did not follow the instructions c<br>losely",
           0
          ],
          [
           "live off the island",
           0
          ],
          [
           "big bang theory and how i shagged your m<br>other are both terrible television shows<br> either of these things makes me feel i <br>need to lose a hundred iq points to get <br>the lame jokes fuck american comedies su<br>ck",
           0
          ],
          [
           "i used to get grs a lot tho maybe that i<br>s why my soles cracked so much",
           0
          ],
          [
           "is a form of guaranteed or minimum incom<br>e it simply is not the same as basic inc<br>ome there is some content improvement on<br> this page the arguments section is bett<br>er than the big page and the clarity for<br> why the are different is better made",
           0
          ],
          [
           "arabic like you stated the fact is that",
           0
          ],
          [
           "dear salvo why do you think wikipedia is<br> the only place i can contribute people <br>are using wikipedia to spread false info<br>rmation people perhaps have also found w<br>ays to derive monetary benefits out of i<br>t exposing people who are using administ<br>rator powers for monetary gains is good <br>for wikipedia itself remember essay scan<br>dal if i do not get the chance to assert<br> here i will find some alternative ways <br>thanks no blast",
           0
          ],
          [
           "retweet elect democratic nominee charlie<br> brown for gov of tn defeat r gov bill h<br>as lam",
           0
          ],
          [
           "i love this part this is another murder <br>because no one has the right to take som<br>eone else s life only god said medellin <br>s cousin reyna armendariz well reyna how<br> about the year old and the year old gir<br>ls that were brutally raped and murdered<br> why did not your dead cousin live by th<br>is same philosophy thank god the great s<br>tate of texas still upholds the law and <br>protects its citizens if more states wou<br>ld wake the fuck up and put more of thes<br>e assholes to sleep this kind of shit wo<br>uld slow down to a near halt too bad the<br>y will not air these executions on pay p<br>er view then whatever could give the pro<br>ceeds to the victims families and some o<br>f these fucking animals would see for th<br>emselves what rape and murder will get y<br>ou dead my sympathy goes out to the fami<br>lies of these girls i cannot imagine wha<br>t this did to them",
           0
          ],
          [
           "thank you thanks so much for blanking an<br>d protecting my page i will be forever i<br>ndebted to you i love you thank you",
           0
          ],
          [
           "plot the plot summary is far far far too<br> long i am too scared to dive into it th<br>ough it needs to be chopped up into smal<br>ler bits",
           0
          ],
          [
           "from web s achievements impact or histor<br>ical in taiwan this attract unique users<br> per week i would love to discuss with o<br>ther admins if possible",
           0
          ],
          [
           "titanic is the section first ship on the<br> scene what a slut the titanic blue funn<br>el line wartime victory ship s s mentor <br>which rendered assistance and picked up <br>the first survivors is the refence titan<br>ic blue funnel line correct or spam",
           0
          ],
          [
           "first interesting thing you have said in<br> a while go for it",
           0
          ],
          [
           "switzerland is western european not cent<br>ral european lol john calvin s society w<br>ere all western europeans how is swiss d<br>istant from france",
           0
          ],
          [
           "your closes go against consensus and you<br>r arguments misrepresent the facts as do<br> your false accusations i would be inter<br>ested on your opinion of why an entire a<br>rticle in a german periodical about the <br>subject of the article does not assist i<br>n establishing notability along with the<br> dozens and dozens of other articles but<br> it seems that you are not interested in<br> abiding policy or engaging in reasonabl<br>e discussion i cited your comment above <br>you then claimed the additional links i <br>posted came after your comment you were <br>mistaken as the timeline demonstrates yo<br>u were also wrong ab out the count in th<br>e uefa discussion unless you want to inc<br>lude an argument that what a slut solely<br> about process and did not address any a<br>spect of the subject s notability or the<br> afd close itself you owe me an apology <br>but you seem to be too arrogant to reali<br>ze when you fouled up so i can only hope<br> that you will wise up going forward",
           0
          ],
          [
           "in the past day we have seen zombies in <br>miami and now robots we are fucked get y<br>our guns",
           0
          ],
          [
           "once moore thanks for deleting and i am <br>sorry for creating it i what a slut dupe<br>d by a fake mandy site and am i a sock p<br>uppet",
           0
          ],
          [
           "causes of the wars in the colonial perio<br>d my edit reverted by of what would late<br>r become united states territory what a <br>slut accompanied by armed conflicts that<br> periodically erupted between the native<br>s and the settlers in the areas that wer<br>e being colonized i think that this is a<br> completely indisputable contentious sta<br>tement without any point of view claims <br>about what the causes were the previous <br>formulation while some historians sugges<br>t that settlers were engaged in warfare <br>to open further land for settlement othe<br>r historians suggest that settlers neede<br>d to defend themselves from attacks by t<br>he indians claimed the existence of two <br>mutually irreconcilable camps of histori<br>ans with opposing theories about the cau<br>ses of the wars which i does not think i<br>s true obviously both factors existed ye<br>t i doubt that there are any serious his<br>torians would claim that indian aggressi<br>on and banditry and hence the need for d<br>efense from these were the true and prim<br>ary because of the wars if people want t<br>o keep this formulation they should sour<br>ce it i am glad that",
           0
          ],
          [
           "a cookie for you thanks for that otis te<br>xt approval template on talkuniversidad <br>impresario the costa rica frankly i did <br>not even know there what a slut such a t<br>hingy",
           0
          ],
          [
           "on today s burn the fat blog did i strik<br>e a nerve a bud i thought it what a slut<br> dead on",
           0
          ],
          [
           "went back to the store only to find out <br>that one of the young employees had resi<br>gned due to disrespectful treatment",
           0
          ],
          [
           "you are welcome i am afraid really has n<br>o interest in wikipedia rules and is out<br> to push his point of view no matter wha<br>t so the mess started with the first art<br>icle now i am concerned about the new on<br>es and the category he made too",
           0
          ],
          [
           "oh please no further involvement of your<br> time is remotely necessary and that goe<br>s for gen quon as well you two lovely pe<br>ople have already expended more than eno<br>ugh of your time on my project if the en<br>tire fa process is based around grammar <br>lessons and anal nitpicking i would much<br> rather return to spending my time with <br>gas which are actually fun and productiv<br>e i am much more of a fan of the you tel<br>l me what has wrong with the article and<br> i will go fix it process it is not that<br> i am giving up on the article i am defi<br>nitely going to continue to fight for it<br> and i am far from quitting i will defin<br>itely re nominate it it is just that the<br> reward to work ratio is severely lackin<br>g or is that lacking severely",
           0
          ],
          [
           "i am sorry the situation sucks i m sure <br>far more than i know",
           0
          ],
          [
           "edits on my talk page stop it or you re <br>going to aiv",
           0
          ],
          [
           "some niggas beat a bitch to get a point <br>across some mentally fuck with her some <br>just ignore it",
           0
          ],
          [
           "racism is disgusting",
           0
          ],
          [
           "i ll take your it means cool a k a for i<br>t out of dumbfounded curiosity one time <br>i took the figures for existing nuclear <br>weapons and divided it by time found tha<br>t at that time there were enough nuclear<br> weapons on earth to detonate one each s<br>econd for thirteen hours and more i no l<br>onger remember the exact amount of time <br>had enough nuclear weapons to detonate o<br>ne every second of every minute for over<br> thirteen hours what a slut about then t<br>hat i became clear what insanity was",
           0
          ],
          [
           "they all p d off and stayed up their end<br> with that stupid look on their faces",
           0
          ],
          [
           "my bitch bre been ina good mood they fre<br>e d her young hog a hundred points",
           0
          ],
          [
           "as the block reason note in the event of<br> vandalism from this address abuse repor<br>ts be sent to your network administrator<br> for further investigation it staffs who<br> want to monitor vandalism from this int<br>ernet protocol address can subscribe to <br>a web feed of this page in either rss or<br> atom format",
           0
          ],
          [
           "for the stuttering slobbering sims shah <br>and the manner in which i speak to wiki <br>i will speak to them in anywhere are you<br> i see fit",
           0
          ],
          [
           "there are over in niger",
           0
          ],
          [
           "welcome hello paramdeepdoctor and welcom<br>e to wikipedia thank you for your contri<br>butions i hope you like the place and de<br>cide to stay here are some pages that yo<br>u might find helpful the five pillars of<br> wikipedia tutorial how to edit a page a<br>nd how to develop articles how to create<br> your first article using the article wi<br>zard if you wish manual of style i hope <br>you enjoy editing here and being a wikip<br>edia please sign your messages on discus<br>sion pages using four tildes this will a<br>utomatically insert your username and th<br>e date if you need help check out wikipe<br>diaquestions ask me on my talk page or a<br>sk your question on this page and then p<br>lace before the question again welcome t",
           0
          ],
          [
           "sick over alleged temple slaughterhouse <br>disgusting wrong and here the endangered<br> tigers thought they were safe",
           0
          ],
          [
           "you do not know the history behind arpad<br> is a fascist user permanently creating <br>sock puppets and permanently placing exp<br>licit ethnic insults he called me primit<br>ive shepherd without special motivation <br>he also places fascist texts and ethnic <br>propaganda on the talk pages without any<br> relation to the topic of the article or<br> to the topic being discussed unless som<br>eone blocks his account i will continue <br>to remove any such spam",
           0
          ],
          [
           "you serious breaking and entering assaul<br>t and battery rape endangering an infant<br> that guy should be put away for good",
           0
          ],
          [
           "request for arbitration you have been su<br>mmoned to appear as defendant at a reque<br>st for arbitration please list the wikip<br>ediarequests for arbitration page to mak<br>e your statement under the heading",
           0
          ],
          [
           "info box i have removed the musical arti<br>st info box as per wikipediawikiproject <br>opera info boxes",
           0
          ],
          [
           "my mentality being a flaming fag is a se<br>rious mental issue",
           0
          ],
          [
           "brainwashed are going to destroy themsel<br>ves by the truth damn",
           0
          ],
          [
           "when did i accuse you",
           0
          ],
          [
           "i ve been trying to think of something f<br>or my own page for a while too i let you<br> know if i think of something for you th<br>ough chat",
           0
          ],
          [
           "i appreciate your reasoned explanation o<br>f the edits superior but it is still tro<br>ubling that chz chose to enforce wikiped<br>ia s policies for personal rather than o<br>bjective reasons and please no more inan<br>e references to page or the like it is p<br>erfectly obvious why chz felt motivated <br>to decimate my contributions to the page<br> it is becoming abundantly clear that th<br>is website s objectivity is compromised <br>by a small group of privileged admins so<br>me of whom manipulate policy and selecti<br>vely enforce standards to their own pers<br>onal tastes so much for the encyclopedia<br> that anyone can edit if you really want<br> to claim that your policies are enforce<br>d fairly then i challenge one of you to <br>edit the soft image csi page in the same<br> where are you chzz edited the page the <br>csi page not written by me contains simi<br>lar unreferenced descriptive passages an<br>d laundry lists of features yet chz rema<br>rkably felt no need to correct its flaws<br> either way i do not have time to get in<br>volved in protracted arguments with teen<br>agers every time i contribute to this si<br>te as a third year law student i have be<br>tter things to do than convince wikipedi<br>a to bestow upon me dubious the honor of<br> retaining the information that i provid<br>e to it free of charge",
           0
          ],
          [
           "and then",
           0
          ],
          [
           "these infected ass hoes think it s okay <br>to talk to other people boyfriend like t<br>hat is not funny nor cute to pussy hop a<br>ll over the place",
           0
          ],
          [
           "what you are saying about",
           0
          ],
          [
           "some ideas from me i will be potential o<br>ut of internet contact in a few weeks so<br> not be much help have it as another tab<br> on the tabs already on go ahead pages s<br>pecifically go out to recruit people eit<br>her dropping personal notes at talk page<br>s wiki projects and the signpost maybe e<br>ven a watch list header if you can swing<br> it advertise it as purely to get inexpe<br>rienced editors reviewing make it clear <br>that there will be help right the where <br>are you through the process and they can<br>not really make too much of a mess see i<br>f you can get some regulars who are will<br>ing to have their articles reviewed by t<br>hese new reviewers that should help alle<br>viate any biting issues the bonus for th<br>e regulars is that they will get there a<br>rticles reviewed faster i would not trea<br>t this as a where are you to clear the b<br>acklog but to get those reviewers who ha<br>ve considered reviewing but were a littl<br>e unsure whether they could this has the<br> added bonus of increasing reviewer numb<br>ers and so reducing the backlog and maki<br>ng sure the new reviewers develop good h<br>abits from the start end of ramble talk",
           0
          ],
          [
           "neither of you have said anything contra<br>ry omg smith wrote of economics kant wro<br>te of how this economic system could bri<br>ng peace liberalism is about free market<br> limited government smith saw that peopl<br>e were selfish and greedy but understood<br> that free market capitalism will align <br>selfish and greedy interests as the inte<br>rest of other people it is economics pol<br>itics sociology philosophy all rolled in<br>to one classical liberalism is about fre<br>e market limited government and takes th<br>e name classical only because modern lib<br>erals perverted that meaning and tt the <br>point is lost on you i am the one whose <br>been talking about liberal beliefs that <br>free markets help lead to limited govern<br>ment a protection of human rights and in<br>creases in civil and political freedom m<br>y god pay attention gibbs",
           0
          ],
          [
           "soon this is not over yet i just come ba<br>ck and vandalize with sock puppets forev<br>er you cannot stop me i will organize a <br>wiki raid you cannot get me off here for<br>ever you will be vandalized i will have <br>revenge on the wiki mark my words",
           0
          ],
          [
           "mr invisible person hey dude i made my o<br>wn article",
           0
          ],
          [
           "character of a crook better off using di<br>llinger",
           0
          ],
          [
           "ah screw it you win you live in japan i <br>am japanese so i know how rare both thai<br> and vietnamese cuisine is there i will <br>stop editing now just promise me you wil<br>l go into a vietnamese restaurant if you<br> are ever in vietnam or usa for that mat<br>ter",
           0
          ],
          [
           "far be it from me to make anyone describ<br>e themselves as ignorant when i added th<br>is remark originally i what a slut think<br>ing about the erstwhile still living ame<br>rican commentator who called himself doc<br>tor hippocrates who wrote of a blond ass<br>istant meaning in my terms blonde and no<br> i do not remember the exact reference u<br>nfortunately",
           0
          ],
          [
           "john what ban is up you have been banned<br> indefinitely several times i do not kno<br>w why you keep trying it is not as if yo<br>u are going to get around all of us who <br>are watching the whitman and mccoy pages<br> give it up it is a waste of your time m<br>eow",
           0
          ],
          [
           "clean up and copy editing this article h<br>as now been partially cleaned up and cop<br>y edited see version history but there i<br>s still considerable work left to do on <br>a personal note i feel that the article <br>s quality should reflect that of the sch<br>ool it describes and that regular mainte<br>nance is required to keep it within wiki<br>pedia guidelines most importantly it sho<br>uld sound less promotional and should no<br>t need to contain internal school trivia",
           0
          ],
          [
           "no notation on i need you your editors d<br>o not know rimes if you do not appreciat<br>e that particular tune",
           0
          ],
          [
           "if pict is not a policy any editor can i<br>gnore it as much as they want feel free <br>to try to make pict a policy if you wish",
           0
          ],
          [
           "great idea there is lots of background i<br>nformation that would make such a page q<br>uite interesting",
           0
          ],
          [
           "of income donated to charity there are n<br>o sources for this and unless she releas<br>es her tax returns there is no verifiabl<br>e where are you to confirm it it should <br>be removed",
           0
          ],
          [
           "not having come across your signature be<br>fore i checked your user page to see if <br>you seemed to be a peculiar person i gue<br>ss it would be easy to get the mom in ro<br>om afar awards somehow mixed up with the<br> padua bhutan awards but there is a bit <br>of a difference in that recipients actua<br>lly turn up to the award ceremonies of t<br>he latter and do not do so for the forme<br>r anyway i am glad to hear that it what <br>a slut a simple mistake such as any of u<br>s could make and not some new subtle van<br>dalism campaign",
           0
          ],
          [
           "well i see what you are talking about bu<br>t it is not that it is totally forbidden<br> terrorist says a reliable source descri<br>bes a person or group using one of these<br> words then the description must be attr<br>ibuted in the article text to its source<br> preferably by direct quotation and alwa<br>ys with a verifiable citation if the ter<br>m is used with a clear meaning by multip<br>le reliable independent sources then cit<br>ations to several such sources should be<br> provided in the sentence where it appea<br>rs so the issue is one of being absolute<br>ly certain that a reliable source descri<br>bed them in this manner al queda has an <br>example of this of course they have been<br> called terrorists by lots and lots of s<br>ources probably not the case here",
           0
          ],
          [
           "sure kat because nobody else worked hard<br> in the competition ffs mr",
           0
          ],
          [
           "retweet the radio is trash",
           0
          ],
          [
           "width align right quoted",
           0
          ],
          [
           "bar demo sad ripest i pittance ine",
           0
          ],
          [
           "you might just be right initially i assu<br>med good faith as per page but now it se<br>ems its getting out of hand i am not an <br>administrator either but i intend to cre<br>ate a ruckus in a while if this characte<br>r is not blocked for disruptive editing <br>if indeed it s similar to the nature mag<br>azine incident then its alarming please <br>post this on want and raise concerns wit<br>h whichever admins you feel could help i<br> ll do the same whatever need to stop th<br>e rumors being spread best regards telep<br>hone",
           0
          ],
          [
           "it appears that professor schenck himsel<br>f has contributed to this article and hi<br>s username contains his full initials j <br>j wpcoi notwithstanding at least the sou<br>rce is accurate i am currently part of t<br>he wiki project on unreferenced biograph<br>ies of living persons and am i working o<br>n proper citations and sources for this <br>article the original editor appears to b<br>e inactive but the latter sections and e<br>dits by prof schenk has some cut paste f<br>rom his university bio pages specificall<br>y the headline and section content",
           0
          ],
          [
           "your away from computer submission your <br>article submission has been declined and<br> wikipedia talk articles for creation th<br>e ecology of wattle and daub structures <br>what a slut not created please view your<br> submission to see the comments left by <br>the reviewer and please feel free to res<br>ubmit once the issues have been addresse<br>d you can do this by adding the text sub<br>mission to the top of the article thank <br>you for your contributions to wikipedia",
           0
          ],
          [
           "merge i am sorry about the deletions tha<br>t i made last referred to abovemy userna<br>me is seal i would take it upon myself t<br>o fix the damage i have done to what a s<br>lut otherwise a reasonably good article <br>were it not for the fact that this artic<br>le is probably superfluous i see little <br>in this article even as it what a slut b<br>efore i mutilated it that is not there i<br>n the article on phrase structure gramma<br>r which redirects to chomsky hierarchy e<br>ven what little is or was here that is n<br>ot there rightly belongs to that page th<br>erefore i suggest that this page be merg<br>ed with phrase structure grammar any tho<br>ughts by the way should phrase structure<br> grammar redirect to chomsky hierarchy i<br>t is being a while since i last read a b<br>ook on syntax but it be useful to have a<br> separate article detailing each of the <br>concepts as i believe that phrase struct<br>ure grammar and chomsky hierarchy are no<br>t the same thing",
           0
          ],
          [
           "who do you think you are jams b watson y<br>ou obviously know squat about dr ludwig <br>s work please do not change my content a<br>gain without reading dr ludwig s books t<br>he content on wikipedia what a slut deli<br>berately deceptive to new readers and yo<br>u and some other losers seem to be a big<br> part of keeping it that way since this <br>diet has been very successful for many p<br>eople suffering with cancer you should b<br>e very proud of your negative role in tr<br>ying to downplay dr ludwig s findings to<br> the detriment of sufferers i trust you <br>and yours will have a real experience wi<br>th cancer soon as you obviously do not k<br>now and seem to be operating as a mindle<br>ss shill you p o s",
           0
          ],
          [
           "i do not know is it a good idea to delet<br>e articles are there people who have hea<br>rd of paris but not of the hurricanes",
           0
          ],
          [
           "breakfast is served which team would you<br> be heading for mr hungry campers",
           0
          ],
          [
           "common names are not capitalized just wa<br>nt to remind people that fish common nam<br>es are not capitalized with a few except<br>ions it is neon tetra not neon tetra see<br> the guidelines of common names and scie<br>ntific names here ps the scientific name<br>s in the list will probably have to be i<br>talicized",
           0
          ],
          [
           "trio outran a proposed deletion template<br> has been added to the article trio outr<br>an suggesting that it be deleted accordi<br>ng to the proposed deletion process all <br>contributions are appreciated but this a<br>rticle not satisfy wikipedia s criteria <br>for inclusion and the deletion notice ex<br>plains why see also wikipedia is and wik<br>ipedia s deletion policy you contest the<br> proposed deletion by removing the notic<br>e but please explain why you disagree wi<br>th the proposed deletion in your edit su<br>mmary or on its talk page also please co<br>nsider improving the article to address <br>the issues raised even though removing t<br>he deletion notice will prevent deletion<br> through the proposed deletion process t<br>he article still be deleted if it matche<br>s any of the speedy deletion criteria or<br> it can be sent to articles for deletion<br> where it be deleted if consensus to del<br>ete is reached if you endorse deletion o<br>f the article and you are the only perso<br>n who has made substantial edits to the <br>page please address to the top of the pa<br>ge friendly",
           0
          ],
          [
           "retweet still within all of my old hoes <br>the best",
           0
          ],
          [
           "no problem thank you for helping here as<br> a newer user i am all about learning an<br>d have been learning much from anti who <br>gave me to which my reaction what a slut<br> also that what a slut not a comment on <br>the contributor in any meaningful sense <br>or a comment to which a wanna warning se<br>ems relevant but since he is so experien<br>ced a user he must be illustrating both <br>the standard and the method of how to ad<br>dress it perhaps you can assist me to un<br>derstand the difference between his not <br>paying attention warning and mine i want<br> to make sure i am a responsible editor <br>i am all ears",
           0
          ],
          [
           "thank you jams much appreciated there is<br> a response for you on my own talk page <br>best wishes",
           0
          ],
          [
           "dye for apollo hotel amsterdam",
           0
          ],
          [
           "ah but the things romanian could do with<br> the wording",
           0
          ],
          [
           "pj s on footie on prosecco chilling wait<br>ing for then pizza with kids possibly in<br> bed fridayfeeling bliss family",
           0
          ],
          [
           "i have said before what i find completel<br>y unacceptable is not the names so much <br>they do have and so forth in their names<br> but the use of those honorific abbrevia<br>tions and nav boxes with in them and i a<br>m not at war with wp i have not broken a<br>ny as far as i know i have been followin<br>g bold",
           0
          ],
          [
           "and afterwards i read this is calls carl<br>os by are you friends then thank you car<br>los thuranx and yes thank you carlos in <br>the end drops by to thank everyone nice <br>community how knowing he is carlos next <br>question where do i read be not obnoxiou<br>s unapologetic when i am not wrong and o<br>nly augmenting unblocking also it is inc<br>orrect that i should read these friendli<br>ness among other persons excluding me wi<br>thout knowing about if all of you want t<br>o force me into excuses or something wit<br>hout reading please love this site forev<br>er your behavior is like a bunch of liar<br>s mind it means cool a k a bunch",
           0
          ],
          [
           "nice live action role play men i would k<br>ill to see yourself again anytime",
           0
          ],
          [
           "i have partially restored the piece abou<br>t the adjusters article with cleanup and<br> quotations to make the case that adjust<br>ers is making the charge of dual loyalty<br> i ended up leaving out the part about a<br>lthough many prominent neoconservatives <br>are not jewish among them michael novak <br>jean kirkpatrick frank galena dan estes <br>and max boot for a couple of reasons inc<br>luding not wanting to clutter the overal<br>l article with the otherwise necessary c<br>ounterpoint that it is ridiculous to cal<br>l penis cheney donald rumsfeld gary baue<br>r or for bauhaus",
           0
          ],
          [
           "former porn star turned p i paul barres <br>conduct investigations on behalf of doze<br>ns of hollywood celebrities including to<br>m cruise sylvester stallone arnold schwa<br>rzenegger eddie murphy barry bonds since<br> the dawning of the internet gossip can <br>be disseminated around the world with th<br>e simple push of a button our first amen<br>dment gives us the right to start a web <br>log and publish whatever wish to say abo<br>ut anybody it is much easier to be criti<br>cal than correct the freedoms whatever e<br>njoy in the u s are wonderful but they a<br>re also very dangerous to create an unfa<br>vorable impression it is not necessary t<br>hat what is said be true the damage is d<br>one in the mere telling of it no one has<br> felt that sting more than i last year t<br>he mail on falsely reported andrew morto<br>n paid me to dig up dirt on tom cruise w<br>hich could not be further from the truth<br> the editors finally got around to makin<br>g the correction having worked in porn a<br>nd mainstream film and tv i stand unique<br>ly perched on the scaffold connecting th<br>e two biggest industries in hollywood th<br>e movie industry and the sex industry wh<br>ich follows the movie industry like the <br>moon words can be lethal especially for <br>a person in the public eye",
           0
          ],
          [
           "hello happy face or smiley",
           0
          ],
          [
           "in some ways i d say the movie full meta<br>l jacket is the first few lines of that <br>movie are great haha",
           0
          ],
          [
           "i will wear my punishment for a week or <br>a month or a year i will take it on the <br>chin but genuinely please what have i do<br>ne or said",
           0
          ],
          [
           "operator is a faggot",
           0
          ],
          [
           "one of the few historians who what a slu<br>t punished by british govt as well for h<br>is speeches he what a slut not an ordina<br>ry historian who simply write history he<br> took active part in freedom struggle wh<br>at a slut convicted many times by britis<br>h govt it what a slut disgusting a histo<br>rian of osha reputation whose hindu vers<br>ion what a slut translated into urdu by <br>none other than great writer poem hand n<br>ow you will ask who is poem hand you guy<br>s are doing thing which is called bullyi<br>ng you have deleted even though i have w<br>ritten that osha has corrected tod but y<br>ou ignore the main point i will give an <br>example try relating to it einstein phot<br>oelectric effect theory what a slut give<br>n very lately many other such as hertz a<br>nd many more gave theories on photoelect<br>ric effect but many of them were given n<br>obel prize even though lately their theo<br>ry what a slut proved partially wrong a <br>man who starts a new topic is more prone<br> to commit mistake and tod what a slut t<br>he first historian of repute to write ab<br>out rajasthan just as grant duff what a <br>slut for maratha osha is such a great wr<br>iter that he has noted that tod mistake <br>what a slut genuine anyone who starts a <br>new thing will commit mistake even if to<br>d of history what a slut wrong then too <br>it what a slut great achievement in the <br>first attempt but people like you are ho<br>lding on frater as if he is a great hist<br>orian and that is too much of an insult <br>for both tod and osha ojha has himself c<br>ontradicted tod many times but he has pr<br>aised tod courage to write the first off<br>icial history of rajasthan",
           0
          ],
          [
           "million people have been forced to leave<br> their homes read more refugees society",
           0
          ],
          [
           "nope red and black cfhs grad",
           0
          ],
          [
           "vitamin see hi kyle long time no see do <br>you still work on artist discography art<br>icles if so can you take a look at the v<br>itamin see discography page that i creat<br>ed maybe fix up the format or even help <br>fix the chart info so that it looks okay<br> any help would be appreciated thanks du<br>de",
           0
          ],
          [
           "cheryl s ethnicity cheryl tweedy s paren<br>ts are not native british and are of gyp<br>sy origin if prime minister david camero<br>n s jewish background is mentioned on wi<br>kipedia the same rule should apply to ev<br>eryone",
           0
          ],
          [
           "congratulations you have done a remarkab<br>le job here on wikipedia and i what a sl<br>ut surprised to hear you are retiring i <br>do believe it is for the best though as <br>i feel you were beginning to take this t<br>oo personal whatever all have our anyhow<br> it s been nice knowing you and take car<br>e my friend good luck in all future ende<br>avors fondly",
           0
          ],
          [
           "the or reason has not been rebutted you <br>provide no citations that show the phras<br>e of being used to mean what you contend<br> there are no citations in your first tw<br>o paragraphs except for a dictionary def<br>inition of which does not help establish<br> the meaning of of nature",
           0
          ],
          [
           "they deserve it these low life jobless p<br>eople have nothing else better to do in <br>life then come online all day and edit w<br>ar with people you think someone who has<br> a job would be reverting useless pages <br>that nobody even read",
           0
          ],
          [
           "wow i have been here btw is there a",
           0
          ],
          [
           "as opposed to chick fil a defended by mi<br>litant anti christian bigots named lione<br>l",
           0
          ],
          [
           "utc i am not sure if it needs a citation<br> because i do not know if that youtube r<br>ef a sentence later supports it and i am<br> not going to listen to it i am not even<br> looking to see if it is a copyright via<br> shame on me once the lock expires you a<br>re welcome to figure all this out and do<br> what you think is appropriate no wiki l<br>ink what a slut necessary because it is <br>already wiki linked above i did correct <br>the spelling of the company name though <br>and removed a second wiki link below per<br> wpoverlink",
           0
          ],
          [
           "i read heart all of your selfies",
           0
          ],
          [
           "ron your sanity is now in question once <br>again you are failing to understand that<br> i am helping to clear up the story not <br>perpetuate it it is useful to those who <br>heard the story and need some additional<br> information since even my reasonable ex<br>planation of this is being ignored i am <br>once again disputing this article please<br> do not delete contributions without goi<br>ng through the protocol and getting all <br>input i have flagged this to the wikiped<br>ia community and i am contacting my sour<br>ce",
           0
          ],
          [
           "when you realize that within a year or s<br>o you will problem be moving into your o<br>wn place with a friend or two yes ilovet<br>odecorate",
           0
          ],
          [
           "not back yet",
           0
          ],
          [
           "coi warning astrosociobiology on wikiped<br>ia a number of months ago i created the <br>astrosociobiology entry on wikipedia it <br>is being fascinating watching my origina<br>l entry become progressively refined and<br> elaborated upon i made a number of chan<br>ges to it recently myself so check it ou<br>t and feel free to contribute",
           0
          ],
          [
           "spam on online casino please stop adding<br> inappropriate external links to wikiped<br>ia it is considered spamming and wikiped<br>ia is not a vehicle for advertising or p<br>romotion since wikipedia uses no follow <br>tags additions of links to wikipedia wil<br>l not alter search engine rankings if yo<br>u continue spamming you will be blocked <br>from editing wikipedia this is not a lev<br>el warning instead it is a level this is<br> due to repeated offenses",
           0
          ],
          [
           "behemoth the article states says about t<br>he behemoth being a hippo bull etc but a<br>s these animals have very thin tails tha<br>t are not comparable to the size of a ce<br>dar tree i assume this is referring to t<br>he sentence in the bible the tail move l<br>ike cedar this sentence says nothing abo<br>ut the size",
           0
          ],
          [
           "with you in our has orlando it means tim<br>es",
           0
          ],
          [
           "lack doctors fightback are doing mob lyn<br>ching against to the patients",
           0
          ],
          [
           "take your belated and piffling prevarica<br>tions elsewhere too late for here",
           0
          ],
          [
           "inquiry on notability hi armies in order<br> not to be blocked for years i am taking<br> this fully civilized approach i do not <br>believe this company is notable this pub<br>lisher is no more notable than any other<br> normally leading term is reserved for o<br>ne of top tier commercial houses or a un<br>iversity associated press like cup or pu<br>p sentence in italic is per another edit<br>or at an irrelevant afd i am just curiou<br>s how you would opine if listed at afd a<br>nd what if i placed a notability tag thi<br>s has nothing to do with you i am not ha<br>rassing i never liked this article and i<br> believe it does not belong on the proje<br>ct respectfully",
           0
          ],
          [
           "i love the so far to the left that they <br>place themselves in opposition to the le<br>ft people it is a bit like the far right<br> who hate conservatives and israel",
           0
          ],
          [
           "busy week ahead stating to organize our <br>fundraising for i have got two big event<br>s planned all new ideas this year",
           0
          ],
          [
           "someone tells the royals to stay home th<br>ere trash weary face",
           0
          ],
          [
           "he would end up liable for child support<br> if he kept her in the house she and her<br> sisters would be happy to rob him throu<br>gh the system as acted as a father he re<br>moved the grenade before it blew him up <br>he is not an asshole he just prevented a<br>n asshole shitting on him wahmen want to<br> cry about it they should undo the unfai<br>r laws that sounded good when they were <br>successfully harvesting the blood and so<br>uls of yet even more men how awful how c<br>ould anybody think like that",
           0
          ],
          [
           "whilst the ugg boots page has been prote<br>cted for spam in the past this time is w<br>hat a slut for homophobic abuse which is<br> also what hit the picture",
           0
          ],
          [
           "that beheading is nothing compared to wh<br>at whatever will see in the future",
           0
          ],
          [
           "i think mac mini is just an ordinary des<br>ktop in a small case nettops are not onl<br>y just small but also consume much less <br>power than desktops latest mac mini cons<br>umes w when computer is running at full <br>speed according to apple s claim whereas<br> eee box consumes maximally w and on ave<br>rage",
           0
          ],
          [
           "https www storefront org forum t post",
           0
          ],
          [
           "childhood routines create independent ad<br>ults mom tips",
           0
          ],
          [
           "high henna bitch that is why i am tweeti<br>ng",
           0
          ],
          [
           "who is in sudden death mr",
           0
          ],
          [
           "brevik je muslim hmmm neznam za vise nit<br>a zedong mozda je same minima kola potvr<br>djuje proviso",
           0
          ],
          [
           "mightn t it be easier to put all rfcs re<br>quests in subpages it would allow a few <br>things most notably remove the chance of<br> edit conflicts between clerks and check<br> users with a handy button such as is us<br>ed to create rfa it could actually be ea<br>sier to use the other question is if a s<br>ection is summarized then linked to in t<br>he history what happens if more discussi<br>on occurs and it is summarized again lin<br>k to both revisions talk",
           0
          ],
          [
           "you can lobby all you want it will not s<br>top criminals it is a waste of taxpayers<br> money but go ahead waste your time",
           0
          ],
          [
           "there is unwritten consensus among wikip<br>edia that it is typically frowned upon t<br>o go off topic the where are you you hav<br>e and it shows in that no one who myspac<br>e on wikipedia has ever had a successful<br> rfa i am not trying to prosecute you ju<br>st warn you that it end up unfavorably f<br>or you to continue i also recommend you <br>do something about as it is in clear vio<br>lation of pup not",
           0
          ],
          [
           "greetings greetings i edited a page and <br>you changed it back my information came <br>from a ranking member of american jujits<br>u and a ranking member of australia mart<br>ial arts chris parker it is confirmed in<br>formation the individuals name krista ja<br>cobson used to be chris brooks none on m<br>y contacts who have contacts in japan ca<br>n find any of her dojos in japan i under<br>stand you are well versed in the subject<br> or martial arts so am i i am also well <br>versed in history of warrior societies s<br>he is claiming things that do not link u<br>p with history is there a better where a<br>re you that it should have been edited o<br>n my part berzerker",
           0
          ],
          [
           "forces and can you do these i have never<br> actually done a timeline from scratch s<br>o i think you are the last chance for th<br>e topics",
           0
          ],
          [
           "big firms hello the article big firms ha<br>ve been tagged for speedy deletion with <br>the current name being a one sentence or<br>phan it is possible it could be either s<br>peedier or nominated for fd i see that y<br>ou have also worked on related articles <br>such as boutique firm a google search on<br> returned over hits but a random samplin<br>g indicates that it is almost always use<br>d in the very general sense and almost n<br>ever specific related to law firms is th<br>ere another more specific term that the <br>article could be named",
           0
          ],
          [
           "non free files and user space please ple<br>ase please stop adding non free images t<br>o user space as you did with filepearlja<br>m ten jpg this is strictly forbidden by <br>fcc",
           0
          ],
          [
           "i have subbed in your suggestion thanks",
           0
          ],
          [
           "so circa means thirty one i would say ar<br>ound conveys greater precision than that<br> precise imprecision",
           0
          ],
          [
           "anybody got any nice free use photos to <br>illustrate this article greenpeace s are<br> all educational free use so cannot use <br>those and she will are keen to move on u<br>tc",
           0
          ],
          [
           "please do not vandalize pages as you did<br> with this edit to justin if you continu<br>e to do so you will be blocked from edit<br>ing",
           0
          ],
          [
           "would these be good sources radio khan s<br> gnp web log and steve csu s web log wou<br>ld be good additions as sources both ind<br>ividuals are experts in the field",
           0
          ],
          [
           "belated congratulations on your rfa sorr<br>y it was not on my watch i knew when you<br> came up again the support would be over<br>whelming considering your username you m<br>ight enjoy my ode to a misunderstood clo<br>wn on my user page congratulations again<br> and cheers",
           0
          ],
          [
           "saying that is the common english name i<br>s",
           0
          ],
          [
           "utc continue to abuse their administrato<br>r privileges attempting to delete and er<br>ase all criticisms of their gross incomp<br>etence",
           0
          ],
          [
           "were you ever a boy girl scout",
           0
          ],
          [
           "i got my friend norris some blue angry c<br>omments for his birthday that bitch coul<br>d not even drink it but you no pop alcoh<br>olic ass downed it",
           0
          ],
          [
           "that sucks man what what a slut it",
           0
          ],
          [
           "newsletter for wiki project united state<br>s",
           0
          ],
          [
           "warning one more vandalism on mtv roadie<br>s season and you will be banned from edi<br>ting wikipedia chat",
           0
          ],
          [
           "when you get a chance attend a counsel m<br>eeting they are usually a free form of e<br>ntertainment unsigned by",
           0
          ],
          [
           "arbor sculpture hello you want to ring i<br>n on the rfm survey at tree shapingarbor<br> sculpture rfm at some point during the <br>next seven days",
           0
          ],
          [
           "please put this on ani for me civility i<br> made one comment on a users talk page i<br>n a semi sandbox section that they made <br>regarding dog meat that i thought it wha<br>t a slut inhumane and that some edits ar<br>e based on nationalistic motives yes thi<br>s what a slut a personal comment but it <br>what a slut certainly not racist nor dir<br>ected at anyone in particular if you blo<br>cked every who ever made a comment conve<br>ying their personal opinion on a users t<br>alk page wikipedia would have about edit<br>ors left also i posted lol that made me <br>laugh on another users page i really do <br>not see any problem with that harassment<br> stalking as i outlined in my unblock re<br>quest i have checked the edits of other <br>editors and reverted when i saw the need<br> these are not random editors these are <br>editors who have brought themselves to m<br>y attention with their patterns of what <br>i consider to be flawed edits this is ho<br>w wikipedia works you make a dodgy edit <br>people revert you check your edit histor<br>y and see what other dodgy edits you hav<br>e made taking action when needed in shor<br>t i see no reason whatsoever for me dese<br>rving a one week block for a personal co<br>mment a laughing out loud and checking t<br>he edits of users who got my attention b<br>y their editing patterns my unblock requ<br>est can be found here",
           0
          ],
          [
           "thank you for the tip ill do so as soon <br>as i can",
           0
          ],
          [
           "weeeellllllll i am not really sure i can<br> answer that clearly and definitively as<br> per deadline it is not really a big dea<br>l which state the article is in right no<br>w whatever can all see it in the revisio<br>n history the consensus is very importan<br>t for deletion discussions because once <br>an article is deleted you need an admini<br>strator to get it back so if consensus s<br>hould change suddenly it will be a big p<br>ain in the butt to fix it in the case of<br> a redirect any editor can put the artic<br>le back so the rationale that drives con<br>sensus becomes much less powerful i woul<br>d absolutely caution you against doing t<br>he revert yourself i do not feel comfort<br>able doing it either i am inclined to le<br>t the rfc play out",
           0
          ],
          [
           "babyy moaaaanin got me zone nnin i iant <br>this bitch next to me ussy like ecstasy",
           0
          ],
          [
           "what are you doing dude why did you dele<br>te those eagle covers i uploaded better <br>versions",
           0
          ],
          [
           "fuck you man you can pick on garden stat<br>e but leave pushing daisies alone",
           0
          ],
          [
           "since how could you list a eurovision so<br>ng contest entrant for speedy deletion",
           0
          ],
          [
           "what is up man what up man i am kind of <br>only right now i live in california and <br>my girlfriend just died and my best frie<br>nd just committed suicide i am kind of s<br>ad and shit but you know shit happens lo<br>l do you believe in god",
           0
          ],
          [
           "please reread article iv of the constitu<br>tion of massachusetts above written in t<br>he time period of the sentence in questi<br>on and let me know if you missed one or <br>more of the words free sovereign and ind<br>ependent",
           0
          ],
          [
           "okay so theres a solution to this help t<br>hem where they are dont bring them here <br>whatever cant take in everyone thats why<br> i support the lebanon policy people in <br>lebanon are refugees give lebanon they a<br>re",
           0
          ],
          [
           "seeking consensus please join the discus<br>sion in talk the new york times and the <br>holocaust seeking consensus the only peo<br>ple working on the page right now are th<br>e original author and three people who w<br>anted to delete the topic",
           0
          ],
          [
           "retweet eli manning is fucking trash rap",
           0
          ],
          [
           "hdm rv this revert what a slut so good i<br> laughed uh sad yes but hey user talkalf<br>akim talk",
           0
          ],
          [
           "your decision about my daughter sincerel<br>y alice yard",
           0
          ],
          [
           "bitch i work hours a day to protect your<br> freedom fuck you alwaysonwatch globalfo<br>rceforgood",
           0
          ],
          [
           "whenever and linking please do not make <br>unnecessary spelling changes to articles<br> unless you are restoring the spelling v<br>ariations on an article to the original <br>see policy link in heading also be caref<br>ul when changing spelling of live links <br>for example changing online gambling to <br>online gambling breaks the link thanks",
           0
          ],
          [
           "unless copyright what a slut passed to a<br> s periodical that it what a slut publis<br>hed in and if as likeliest that periodic<br>al closed down long ago a long rigmarole<br> of legal chase up",
           0
          ],
          [
           "cooling system the section about the air<br>craft s cooling system is informative bu<br>t it is basically original research foll<br>owing is a description of what is known <br>about the cooling system used in the fin<br>al version of handel s system it is base<br>d entirely on careful study of surviving<br> photographs of the since no detail plan<br>s survive is a dead giveaway it is plaus<br>ible enough but for all i know it could <br>be a lot of nonsense because it does not<br> have any sources unless it can be sourc<br>ed to something it should really be remo<br>ved",
           0
          ],
          [
           "easter hello easter you gym ass hold on <br>reply to this now or root in hell for et<br>ernity",
           0
          ],
          [
           "socialist utopia inediblehulk moved my c<br>omment and then itsmejudith left an unsi<br>gned comment i have both reversed the mo<br>ral and signed the signature if either o<br>f you wishes to change this feel free bu<br>t please do not move my comment again do<br>uble indenture is the proper method if y<br>ou wish to address a comment above a pri<br>or comment",
           0
          ],
          [
           "cannot wait till i get my full appetite <br>back only ate a half ghetto sandwich no <br>lettuce no nothing",
           0
          ],
          [
           "misery loves company",
           0
          ],
          [
           "if edit warring is one person overriding<br> a decision as their own little crusade <br>only is doing that nobody else is crying<br> over this hodgepodge going off wikipedi<br>a",
           0
          ],
          [
           "please do not vandalize pages as you did<br> with this edit to pillow if you continu<br>e to do so you will be blocked from edit<br>ing",
           0
          ],
          [
           "have a read of waged and see if that tel<br>ls you anything if you still have troubl<br>e replace the tag",
           0
          ],
          [
           "captain swings at the first pitch common<br> you are smarter than that",
           0
          ],
          [
           "these niggas cars be and they have the n<br>erve to put some rims and some speakers <br>in the bitch",
           0
          ],
          [
           "reliant on government funding you keep o<br>n questioning their integrity this is ba<br>seless slander if whatever cannot trust <br>the independence of scientist and engine<br>ers the world is in danger what a slut a<br> nist citation needed and if true what a<br> slut he alone or did he represent conse<br>nsus among his peers you might be true t<br>hat there has not been any peer review s<br>o far but by publishing their report the<br>y open their work for review by peers an<br>d note that the reputation of nist is at<br> play here if some outside expert can fi<br>nd a major error in their simulations it<br> should be published in peer reviewed li<br>terature and given consensus in the fiel<br>d about the error nist would have to ret<br>ract its claims your words that is still<br> not clearly explained nist report new p<br>henomenon that is explained by basic phy<br>sics please read the report and does not<br> distort facts there input to match the <br>this is pretty standard in the simulatio<br>n business to account for uncertainties <br>in your model and is allowed as long as <br>you alterations are within reasonable li<br>mits and stop whining about the lead inv<br>estigator a non expert boss being able t<br>o explain the work of his expert subordi<br>nates happens everywhere media relations<br> is usually part of his job description <br>majority of the engineering a few websit<br>es is not a majority please show me a st<br>atement by an engineering society or so <br>but i will not stop them from doing rese<br>arch if they write a report as thorough <br>as nist i will be open for their ideas",
           0
          ],
          [
           "th round carrion is the youngest undefea<br>ted in the wbc contender recently carrio<br>n lost his first match due to over strik<br>ing his rival montreal watson in the",
           0
          ],
          [
           "can whatever do a facebook party for tho<br>se that have gotten screwed over for eve<br>ryone who ended up in twit mo lets get s<br>ome followers back trumpistheenemyofthep<br>eople trumpisadisgrace trumpisafraud tru<br>mpisatraitor trumpisamoron please retwee<br>t and follow back",
           0
          ],
          [
           "if you want to delete a page that you ha<br>ve made just put at the top instead of b<br>lanking it thanks and happy editing",
           0
          ],
          [
           "i am literally right next to you dramati<br>c certified",
           0
          ],
          [
           "also posted on expat s talk page i have <br>changed washington s birthdate to thirty<br> one per this in the new york times whic<br>h is probably more reliable than a msn b<br>io mortenbay imdb does not satisfy wikip<br>edia s policy of reliable sources as it <br>is open to edit by its users so it canno<br>t be guaranteed that the information is <br>correct the claim that washington s imdb<br> page is maintained by her management is<br> though plausible unverified anyway hope<br>fully this issue can be considered resol<br>ved in future morten rather than resorti<br>ng to threats of lawyers it is easier to<br> provide sources",
           0
          ],
          [
           "i understand your point i will have to a<br>gree with you on renaming as well from w<br>hat i understand it would be similar to <br>what current main luftwaffe article has <br>a subsection representing combat history<br> in wwii one might even address the othe<br>r article of organization of luftwaffe i<br>n wwii as another section so how are wha<br>tever to go about getting this done as i<br>t is all articles have sufficient refere<br>nced information on their own all whatev<br>er need is to put it together in a coher<br>ent fashion p s i am sorry i what a slut<br> not able to see archive section i could<br> only see the page history the moment it<br> would take a considerable effort i thin<br>k that reaching go ahead status would re<br>quire the article to be split up with a <br>brief description each section then the <br>main article as a sub article i also thi<br>nk the history of the luftwaffe of wwii <br>should be something different meaning th<br>at should perhaps cover the entire histo<br>ry of the air force and this particular <br>article should be renamed the combat his<br>tory of the luftwaffe during war two i h<br>ad checked this out before check out the<br> first archive section i think renaming <br>the article is in order talk utc",
           0
          ],
          [
           "missing on a weekend will hit the screen<br>s on stay tuned missingonaweekend goa co<br>ming soon",
           0
          ],
          [
           "omg i never thought laughing my head off<br> in front of my computer would help char<br>ity so sweet i live in hawaii acually va<br>lentine s day is not about romance it or<br>iginated from saint valentine who sent a<br> note to his prison mate before he what <br>a slut martyred he signed it your valent<br>ine did you get piano lessons you have b<br>ig muscles rapunzel those are fucking ex<br>tensions xdlol she is better than adele <br>laughing out loud you know what fucking <br>happens they fucking drive a car the end<br> kong kong this i my favorite one ye too<br>k up eharmony cat lady i love messing wi<br>th tourists funny video happy face smile<br>y no you have to exchange it with the ma<br>gic coconut wizard wink or smirk yeah sp<br>am mesabi second hahaha dare what a slut<br> e hair from e downstairs extreme droll <br>i died ryan and the little girl she just<br> so happens to be a vampire with nipples<br> who never brushes her teeth or hair vam<br>pire chick that is not true ryan shut up<br> get her jakeemjakeem smiles vampire sho<br>ck screams he should not rap come to haw<br>aii well love you with aloha ignore my u<br>sername viewer is officially my fav numb<br>er ever",
           0
          ],
          [
           "japan articles i see you are editing som<br>e of these and have expertise well playe<br>d is having an effort to digest the prol<br>ific contributions of a team two anyway <br>latin americans with obviously wide and <br>deep background in the pre war stuff it <br>comes in as filtered through spanish and<br> once cleaned up is typically expanded a<br>gain python swallowing a pig really i lo<br>g all this at despite obvious problems i<br> dislike the hostility sometimes shown t<br>o the contributor s that is no where are<br> you to run a wiki therefore i do what i<br> can on this",
           0
          ],
          [
           "sorry i jumped to conclusions on christi<br>an terrorism article man i do not agree <br>with you and i want you to go and listen<br> to prophet of doom now in audio format <br>as it is good but i what a slut wrong to<br> be so rude it is not the southern europ<br>ean way",
           0
          ],
          [
           "did you know class box on did you know w<br>hat a slut updated with from the article<br> hackensack water company complex which <br>you created or substantially expanded if<br> you know of another interesting fact fr<br>om a recently created article then pleas<br>e suggest it on the did you know talk pa<br>ge",
           0
          ],
          [
           "save typing republic of the tired of typ<br>ing democratic republic of the me too i <br>have created a bunch of redirecting arti<br>cles to which mean you can just type do <br>not really care instead with or without <br>the that is history of drc politics of t<br>he do not really care etc as a precedent<br> the united states of america articles h<br>ave a similar thing it is almost as comp<br>licated as the china taiwan thing taiwan<br> can also be known as roc which can also<br> be the name for republic of congo which<br> can also be the name for congo kinshasa<br> s first republic etc etc confused",
           0
          ],
          [
           "speedy deletion of of article thank you <br>for experimenting with wikipedia your te<br>st worked and the page that you created <br>has been or soon will be deleted please <br>use the sandbox for any other tests you <br>want to do take a look at the welcome pa<br>ge if you would like to learn more about<br> contributing to our encyclopedia if you<br> think that this notice what a slut plac<br>ed here in error you contest the deletio<br>n by adding to the top of the page just <br>below the existing speedy deletion or db<br> tag coupled with adding a note on the t<br>alk page explaining your position but be<br> aware that once tagged for speedy delet<br>ion if the article meets the criterion i<br>t be deleted without delay please do not<br> remove the speedy deletion tag yourself<br> but do not hesitate to address informat<br>ion to the article that would render it <br>more in conformance with wikipedia s pol<br>icies and guidelines",
           0
          ],
          [
           "i had rather he took the time to report <br>me than write to an opinion nazi saying <br>sorry",
           0
          ],
          [
           "ok i have included almost full details i<br> do not find this improves readability m<br>uch especially for someone who does not <br>know the theory already but at least it <br>should shore up any objections to the te<br>xt",
           0
          ],
          [
           "i hate black cats they are bad luck",
           0
          ],
          [
           "sigh but surely i am the one who hounds <br>him and bullies him and will not leave h<br>im alone do as you will wee regards talk",
           0
          ],
          [
           "you a bitch made nigga",
           0
          ],
          [
           "stoptheviolence pulse the puppets from t<br>hemusicofregret abasela",
           0
          ],
          [
           "the reason that it would be better to me<br>rge this with the minimum or the article",
           0
          ],
          [
           "you want to take a look at this an extre<br>me edit war over the result in the info <br>box that has lasted for almost a year no<br>w could use your help",
           0
          ],
          [
           "trumpisatraitor imf trump now says he wo<br>uld absolutely report foreign help",
           0
          ],
          [
           "you are obviously an imposter making up <br>lies for the dash",
           0
          ],
          [
           "i continue to disagree and think this is<br> inappropriate coverage of a peripheral <br>issue ditto with the material on sb no p<br>oint arguing it here so i am listing it <br>at wikipediabiographies of living person<br>s noticeboard to see what others think",
           0
          ],
          [
           "no offense taken good sir though how you<br> an a assertion here especially compared<br> to resound is puzzling to me wink or sm<br>irk best wishes",
           0
          ],
          [
           "blu ray disc bee movie hi sorry to edit <br>your edit this is due because blu ray is<br> legally ray or abbreviated note they ar<br>e in ray is not capitalized see the arti<br>cle",
           0
          ],
          [
           "samo bajaj jedi i am major",
           1
          ],
          [
           "you shoot your entire imbecilic argument<br> in the head with the silly claim about <br>cars go past per day i have driven the s<br>tuart highway several times and never pa<br>ssed less than cars per hour in quiet ti<br>mes that is less than freeways overseas <br>but still a lot more traffic than cars p<br>er",
           1
          ],
          [
           "ass you piece of fucking shit your mothe<br>r what a slut a frisco dike you fuck for<br> dollars also your dad what a slut a jig<br>gle",
           1
          ],
          [
           "irishguy delete other people shit becaus<br>e none likes him",
           1
          ],
          [
           "block me then you cocksucker clever peop<br>le do not give a fuck about editing wiki<br>pedia just because wikipedia has turned <br>you into its bitch you cannot see that b<br>eing blocked is not a punishment if it h<br>appened to you it would be a blessing bu<br>t you will never see how much time and l<br>ife you have completely wasted because y<br>our brain is mush fuckin wretch",
           1
          ],
          [
           "lame you fucking queer do not you have a<br>nything better to do than to monitor wik<br>ipedia go poop stain your dick",
           1
          ],
          [
           "stfu you absolute dumbass hold on bag bu<br>sh playing golf and cheney forbidding pi<br>ctures being taken of us soldiers casket<br>s coming home what a slut probably just <br>great as far as you are concerned you ar<br>e out watering your tree of liberty try <br>watering your tree of intelligence too m<br>aybe one day it will sprout and get you <br>above zero iq",
           1
          ],
          [
           "if you are talking about kavanaugh there<br> is only an uncorroborated accusation bu<br>t even then the conservatives i have see<br>n have not dismissed it",
           1
          ],
          [
           "at least consistently a vagina trump pit<br>tsburgh unfittobepresident unfitforoffic<br>e",
           1
          ],
          [
           "allantoic whatever should never equate c<br>ulture with exclusive geographic boundar<br>ies a a",
           1
          ],
          [
           "you suck coffey",
           1
          ],
          [
           "i love an angsty pizza",
           1
          ],
          [
           "you needs work on your manners i noticed<br> your contribution to the article those <br>darned americans and i did not like what<br> i saws",
           1
          ],
          [
           "who is going to fix need it be me this a<br>rticle sucks robert carmine then and now<br> again schwartzman what a slut already i<br>n the band at the time of macedonia s re<br>lease you want a source i have the ep an<br>d bought it live at a show and saw him o<br>n stage come on this article is garbage <br>thus far anyone interested in helping cl<br>ean it",
           1
          ],
          [
           "why arr you so fuck why are you so fucki<br>ng shit",
           1
          ],
          [
           "yes it did and it is on editorial is joe<br> q the editor of x men no he isn t he is<br> editor in chief he is the boss of all t<br>he other editors soon he was not respons<br>ible i should not be arguing because thi<br>s is stupid",
           1
          ],
          [
           "retweet the highest score in history bet<br>ter be not be the blondes or kat mr",
           1
          ],
          [
           "he is a real dark guy so shady",
           1
          ],
          [
           "awful sorry that happened banter is the <br>last refuge of the cunt",
           1
          ],
          [
           "hey nazi dude sherpa darpa deep",
           1
          ],
          [
           "it s funny that awful persons led me to <br>this website n gets and camel cowboys",
           1
          ],
          [
           "fuck you pussy sucking bitch",
           1
          ],
          [
           "buildthatwall it s an invasion america",
           1
          ],
          [
           "you listen to ching chong music",
           1
          ],
          [
           "abc tragedy and eduardo hours my wife s <br>sister lost her daughter in the abc trag<br>edy and you are trying to help cover up <br>hours s involvement this man is a crimin<br>al of the highest degree and when i try <br>to get it means cool a k a out you rever<br>t my edits and threaten to ban me fuck y<br>ou",
           1
          ],
          [
           "i used profanity in my edit summaries bu<br>t i did not know anything what a slut wr<br>ong with that a warning would have worke<br>d it is the same thing that administrato<br>rs do being blocked for hours is just ga<br>y",
           1
          ],
          [
           "are you aware the awa removes the accuse<br>d s due process rights",
           1
          ],
          [
           "well you are very rude i what a slut onl<br>y trying to get to know about your situa<br>tion i am not a pedophile or anything li<br>ke that though i am sure you doubt my mo<br>tives in talking to you cannot you just <br>regress from your silly little persona f<br>or a moment or two you are not a doctor <br>you are not a barrister you are just a w<br>ikipedia with too much time and not enou<br>gh love how tragic it sounds that sounds<br> too similar to my situation what on ear<br>th is me anyway i have tried and i have <br>failed tried is also an anagram for tire<br>d that which i am goodnight mr jd uk rem<br>ember what i have said though please rem<br>ove it if you will i shall not care too <br>much whilst i am in the land of nod only<br> to revert it back tomorrow anyway sleep<br> well my pansy",
           1
          ],
          [
           "please shoot yourself please put yoursel<br>f out of your misery either shoot or han<br>g yourself you depressed freak",
           1
          ],
          [
           "coward is that why you block users with <br>your internet protocol address blocked y<br>ou are a coward because of that and the <br>things you would never say to my face yo<br>u are afraid by posting your internet pr<br>otocol that i will fly out to the uk and<br> fuck your sister then post the video on<br> your talk page my internet protocol add<br>ress is here",
           1
          ],
          [
           "google stock way up what is so bad with <br>your trump world google",
           1
          ],
          [
           "disgusting attention seeking twat",
           1
          ],
          [
           "i hate your guts laughing out loud",
           1
          ],
          [
           "illiterate much you rapist please stop m<br>isusing the term spam spam means this th<br>e definition of is unsolicited bulk emai<br>l be spamhaus does not distinguish betwe<br>en or spam no spam is acceptable to us o<br>r the users of the spacious block lists <br>from you are calling anything that you d<br>o not like this is illiterate confusing <br>and not proper english anyone can misuse<br> words for their own benefit can whateve<br>r please use words as they are defined s<br>ince i do not have your email address yo<br>u must be mistaken or simply trying to d<br>istort my actions do not try to censor m<br>y posts with lies and distortions",
           1
          ],
          [
           "what really me blocked say it am not so <br>oh wait it ain t so you are as incompete<br>nt as you are butt ugly which is saying <br>something",
           1
          ],
          [
           "gold just heard someone say feminists ar<br>e fantastic i am really hoping i do not <br>hear that ever again nonsexist",
           1
          ],
          [
           "imagescrotum puck my balls imagescrotum <br>puck my balls imagescrotum puck my balls<br> imagescrotum puck my balls imagescrotum<br> puck my balls imagescrotum puck my ball<br>s imagescrotum puck my balls imagescrotu<br>m puck my balls imagescrotum puck my bal<br>ls imagescrotum puck my balls imagescrot<br>um puck my balls imagescrotum puck my ba<br>lls imagescrotum puck my balls imagescro<br>tum puck my balls imagescrotum puck my b<br>alls imagescrotum puck my balls imagescr<br>otum puck my balls imagescrotum puck my <br>balls imagescrotum puck my balls imagesc<br>rotum puck my balls imagescrotum puck my<br> balls imagescrotum puck my balls images<br>crotum puck my balls imagescrotum puck m<br>y balls imagescrotum puck my balls",
           1
          ],
          [
           "jews clearly do not know any restraints <br>when it comes to paybacks look what germ<br>any endured",
           1
          ],
          [
           "corporate rank magazines by retarded lit<br>tle boys who imagine they remember those",
           1
          ],
          [
           "jose masterclass very good performance o<br>nly thing that would have topped it off <br>is jose dating that fucking money",
           1
          ],
          [
           "oh kat this is what you deserve mr cuntf<br>acebitch",
           1
          ],
          [
           "your ignorant as fuck black people been <br>skateboarding for a long ass time stop l<br>ooking for little wayne to set your tren<br>ds",
           1
          ],
          [
           "it seems to me that she is the one that <br>has no real idea what she went through o<br>r whether she actually went through anyt<br>hing negative involving judge kavanaugh <br>her recollections are vague at best with<br> absolutely zero corroboration you are s<br>upporting a dangerous precedent",
           1
          ],
          [
           "scjessey has no business talking about o<br>bama s page on wikipedia he is a left wi<br>ng lying fat fuck he is as bad as famili<br>es",
           1
          ],
          [
           "what the fuck kat and andre are cheaters<br> that is so unfair they cannot give some<br>one they should be gone mr katandandre b<br>ye bye bitches",
           1
          ],
          [
           "sara ja sam major all legitimate je pita<br>ti tko ce plating hvo codeine i finance <br>vista vise yoga anima tuna spoon orjenta<br>cija nikola city osi nih sami",
           1
          ],
          [
           "my neighbor is from poland sadly he surv<br>ived the holocaust",
           1
          ],
          [
           "jews are good for nothing",
           1
          ],
          [
           "that having different standards for whit<br>e black is racist not equal at all nope",
           1
          ],
          [
           "ooooooh i am scared you wrote on my page<br> this is the only warning you will recei<br>ve for your disruptive edits if you vand<br>alize wikipedia again as you did to user<br> talkcraftyminion you will be blocked fr<br>om editing crafty talk if this is a shar<br>ed internet protocol address and you did<br> not make the edit consider creating an <br>account for yourself so you can avoid fu<br>rther irrelevant notices retrieved from <br>first off crafty minion and crafty would<br> obviously be the same person you second<br>ly if you read what i said you would obv<br>iously know that i do not edit wikipedia<br> therefore blocking me which is really t<br>he only power you have in your life prob<br>ably and it makes you feel like you have<br> a big dick couldn t matter less to me i<br> d o n o t g i v e an s h i t if you are<br> fucking retarded you need to read that <br>again and again slowly third yes i use a<br> shared internet protocol address it is <br>my college but no i do not want a userna<br>me fourth please stop fucking leaving me<br>ssages on my page go out buy a whore get<br> laid for the first time ever smoke a ci<br>garette drink a beer skydive and fucking<br> live you nerdy little cocksucking virgi<br>n",
           1
          ],
          [
           "this is getting ridiculous why does ever<br>yone think asians are not evil they real<br>ly are and it should be common knowledge<br> to everyone i do not want to have to go<br> around informing people when they shoul<br>d already know",
           1
          ],
          [
           "good whatever have established that musl<br>ims are slavers and that their humanity <br>has failed to evolve past slave owning",
           1
          ],
          [
           "pakis smell bad",
           1
          ],
          [
           "this girl is retarded",
           1
          ],
          [
           "browns are great at being everywhere it <br>is like the plague",
           1
          ],
          [
           "guyzero bite me go ahead and block the i<br>nternet protocol i do not care it is onl<br>y used by about people better yet go fuc<br>k yourself",
           1
          ],
          [
           "i passed by a group of black men and the<br>y look like my black rat",
           1
          ],
          [
           "you are caucasian and you do not know wh<br>at the fuck you talking about and for yo<br>ur fucking information the new aaliyah c<br>d will be released in in summer and plea<br>se sir stop interfering if you are not a<br> fan",
           1
          ],
          [
           "dirty jews tend to be the smartest",
           1
          ],
          [
           "white people are superior blacks are dum<br>b inferior violent and criminals if the <br>jews did not exist to fool everyone into<br> desegregation all those problems would <br>go away so really it all ends up being t<br>he fault of the jews and the other non w<br>hites would cease to be an issue if the <br>jews could be destroyed",
           1
          ],
          [
           "i have met so many abnormal transsexual <br>people recently",
           1
          ],
          [
           "islam might be correct on a few of issue<br>s but that is despite itself not because<br> of it christianity used to be right abo<br>ut these issues too until very recently <br>until it got thoroughly posted islam not<br> only has but condones child rape and in<br>breeding it is a disgusting religion for<br> desert dwellers and inbred pakis stop i<br>dealizing it just because it has a few b<br>ased positions go back to white culture <br>and make that strong again",
           1
          ],
          [
           "how is that gun control working in chica<br>go only the military has access to assau<br>lt weapons is your ignorance from old ag<br>e or are you still working for the chine<br>se",
           1
          ],
          [
           "i am just gobsmacked by her behaviors tb<br>h she simply does not care and she went <br>to adhesion manor too in buckinghamshire<br> she is going all over the place i lost <br>my auntie to covid she honestly makes me<br> sick to my stomach seeing you people ho<br>pping around like gypsies",
           1
          ],
          [
           "repeat after me trans should die",
           1
          ],
          [
           "zionists only care about themselves",
           1
          ],
          [
           "bravo za name vladajuce tube trireme not<br> applicable glucose a aladi near gde rad<br>ii bog toga i cine glucose bog visa slob<br>bing bremen",
           1
          ],
          [
           "i what a slut asleep and you are a dickh<br>ead dickhead",
           1
          ],
          [
           "and manly girls",
           1
          ],
          [
           "cuj you hotel aka a tame you sirius nice<br> hmm",
           1
          ],
          [
           "do you have evidence that trump did not <br>collude with russia duuuueerrrrhhh he sa<br>id so maga",
           1
          ],
          [
           "he is obviously from mixed race and can <br>not be an ethnic american",
           1
          ],
          [
           "whatever should lock up all the gays",
           1
          ],
          [
           "you cannot trust muslims",
           1
          ],
          [
           "nliggers got what they had coming the fu<br>ck jungle bunnies",
           1
          ],
          [
           "itis a good to address a hint of truth i<br>n your essay is but maybe you have it be<br>tter off then i did at high school every<br> teacher i had what a slut very liberal <br>and anti racist and could barely accept <br>the truth",
           1
          ],
          [
           "you fucking cunt revert smash movie now <br>or ill smash your face in you prick",
           1
          ],
          [
           "i hate you stupid little midget",
           1
          ],
          [
           "wtf why the fuck do you think that i van<br>dalized the nigger oklahoma city bombing<br> and prohibition pages i have not even b<br>een on any of those pages thank you douc<br>hebag for getting my editing privileges <br>revoked you are a prick",
           1
          ],
          [
           "is that a bar where antifa sharpens thei<br>r stones and buys their silly string",
           1
          ],
          [
           "shorter families shut up and quit trying<br> to inject fairness or sense into our ba<br>sh fest and leave the article like it is<br> whatever see no reason to compromise wh<br>en whatever have the block ban revert bu<br>ttons and you have nothing but reason an<br>d good sense the coat rack argument exac<br>tly fits here and there is no reason to <br>have all that criticism other than you h<br>ave constructed a bash fest about dougla<br>s faith and you are not about to let any<br>one alter it this article is disgrace",
           1
          ],
          [
           "don t threaten me you are in violation o<br>f several wikipedia rules you little b i<br>tch",
           1
          ],
          [
           "you can have this one untag thanks i hav<br>e gotten what i need from her",
           1
          ],
          [
           "there what a slut a popular post about a<br> legend of a guy who had in his username<br> fully knowing its significance i think <br>he ended up changing it to naziismyname <br>or something like that haha",
           1
          ],
          [
           "she is very beautiful",
           1
          ],
          [
           "i do not differentiate a white man and a<br> white bed",
           1
          ],
          [
           "disgusting fucking gross and your hair a<br>lways looks like shit you vagina waffle",
           1
          ],
          [
           "jewish people are a subpar species",
           1
          ],
          [
           "same reason why a bull is more unpredict<br>able than a docile cow or rooster and ch<br>icken women have depth in their love for<br> their child that is their role men have<br> to comprehend the world better because <br>that is their role",
           1
          ],
          [
           "captain make america great again getting<br> slandered and it wasnt from me damn",
           1
          ],
          [
           "he vandalized mine using a sock puppet a<br>ccusation template i merely returned the<br> favor now blow it out your eye wall",
           1
          ],
          [
           "hey buddy you suck asshole",
           1
          ],
          [
           "retweet shut the fuck up and come suck m<br>y penis",
           1
          ],
          [
           "shit talk about fighting a battle alread<br>y lost that guy is a retard by most acco<br>unts",
           1
          ],
          [
           "your blatant point of view pushing neith<br>er of you guys has made any contribution<br> to this italian history article other t<br>han to shove your unhistorical unconstru<br>ctive modern point of view in my face th<br>is is a history article history have you<br> heard of that this is the reason why so<br> many people get pissed off about the pe<br>dantry and idiocy and triviality of wiki<br>pedia j sus get an f king life",
           1
          ],
          [
           "it s time to talk about two antithetical<br> concepts beauty and asian women",
           1
          ],
          [
           "i am waiting for the snowflake conservat<br>ives to become transparent in the scotus<br> process",
           1
          ],
          [
           "i keep screen grabs not links sorry goog<br>le kate millett sister now it should be <br>near top of list",
           1
          ],
          [
           "theresa whatever need a peoples vote",
           1
          ],
          [
           "it is sad to see so many aboriginal peop<br>le in this area i thought whatever kille<br>d them all",
           1
          ],
          [
           "chinks are despicable",
           1
          ],
          [
           "retweet column in questions emmasulkowic<br>z coverage in view of my piece",
           1
          ],
          [
           "wow they tried to give me a female docto<br>r today i did not even know those existe<br>d",
           1
          ],
          [
           "you going to fucking block me big boy co<br>me on you know the pats will cover just <br>fucking block me will ya",
           1
          ],
          [
           "such a vagina",
           1
          ],
          [
           "did your parents wish you were adopted",
           1
          ],
          [
           "you are being again with your consensus <br>nothing of the sort what a slut said in <br>the talk page",
           1
          ],
          [
           "the above nonsense is from vandals who p<br>ose as admins who have very low academic<br> and personal skill levels with the resu<br>lt they have no idea of how history work<br>s little idea how to present it and who <br>seemingly haunt win as it s their little<br> childish power trip one thing is very a<br>ssured if they continue win won t also t<br>he amount of plagiarized material on win<br> ensures there will be court cases galor<br>e as people get sued one of the above se<br>emingly got very upset when he realized <br>his block tools do not work those tools <br>are their weapons to exclude those who d<br>are to protest the low level of rot they<br> go on with here that the tools not bein<br>g much good in reality must be a blow to<br> the whole bully boy psyche and antics t<br>ry growing up a bit you lot the free wor<br>ld does not need your stupidity",
           1
          ],
          [
           "hey what the hell is wrong with you why <br>do you keep deleting my article without <br>telling me what is wrong",
           1
          ],
          [
           "if something is not acceptable for your <br>bald headed brain does not mean it can b<br>e unacceptable",
           1
          ],
          [
           "learn grammar first unfortunately your p<br>edantry is still flawed congratulations <br>on spotting my has have typing mistake i<br>n the discussion thread where i do not c<br>arefully proofread everything i type if <br>you invest some more time i am certain y<br>ou will find others regardless you will <br>need to work harder to achieve your aspi<br>ration to crush my opponent s soul ego s<br>elf esteem i wonder do you feel that you<br>r god is proud of this goal you have set<br> yourself you gleefully claim to be evil<br> whatever that means and then accuse me <br>of painting you as evil which do you wan<br>t it cannot be both i need to address no<br>thing else to demonstrate the depth of i<br>ntellect and rational thought that you h<br>ave to work with you confirm my assumpti<br>on of christians note the apostrophe you<br> used is erroneous confused irrational a<br>ngry and easily moved to hysteria your u<br>ser page should be referenced as an exam<br>ple for loser",
           1
          ],
          [
           "you are getting impeached fuck trump",
           1
          ],
          [
           "it is so annoying having to explain myse<br>lf and my reasons for disliking kikes ev<br>eryone should already be aware of these <br>obvious explanations and should feel the<br> same it is common sense",
           1
          ],
          [
           "my neighbor is a gypsy i reckon he steal<br>s from me typical of their kind",
           1
          ],
          [
           "fuck immigrants the only think they care<br> about is saving their own fucking ass",
           1
          ],
          [
           "thanks whatever saw the video too a lip <br>reading of a lip syncing i watched you w<br>atch him watching him watching a movie o<br>nce i what a slut in this game with you <br>i am killed you too had fun playing with<br> you whatever saw the video that is why <br>whatever are here to see the video why d<br>o you quote the video that i literary ju<br>st watched do you think i missed it beca<br>use i didn t so please for the love of g<br>od stop quoting the video people of the <br>internet the pumpkin king this is a comm<br>ent get the premium pack it will pay off<br> it will give you all previous dlc and y<br>ou will get the upcoming dlc for freeeee<br>eeeeeeeeeeeeeeeeeee",
           1
          ],
          [
           "brother your twins resemblance to my bro<br>ther in uncanny he is years old now mayb<br>e you are long lost bros which would mak<br>e us bros laughing out loud",
           1
          ],
          [
           "down with aussies",
           1
          ],
          [
           "excuse me do not be deleting my stuff li<br>ke something is wrong with you i post wh<br>at i please good lord i come on here pas<br>sing on info that i heard on the news an<br>d folk telling me it is a hoax little sn<br>obby ass people around here",
           1
          ],
          [
           "treba tube you bosun post",
           1
          ],
          [
           "a vi political urinate sve redo",
           1
          ],
          [
           "you can rationalize your dishonesty howe<br>ver you want but even wikipedia has an a<br>rticle on the ground zero mosque awhile",
           1
          ],
          [
           "does not call this rotten hesse a person",
           1
          ],
          [
           "i know some people like it but i have al<br>ways felt queasy about parental role pla<br>y in the old days since those qurs could<br> not actually marry each other one looph<br>ole would be to adopt one another i have<br> always found the idea creepy when these<br> people keep up the appearances of being<br> normal and non perverted in public",
           1
          ],
          [
           "i love it means cool a k a mulatto",
           1
          ],
          [
           "urgh towel heads",
           1
          ],
          [
           "you crazy",
           1
          ],
          [
           "the use of it means cool a k a nigger",
           1
          ],
          [
           "are you streaming the injun versus the r<br>etard penis measuring contest",
           1
          ],
          [
           "pakao team effort cea auto ako octanes",
           1
          ],
          [
           "big money thinking he knows going on",
           1
          ],
          [
           "you care about it as apolitically demons<br>trated by the fact that you responded an<br>d that you changed one of your less than<br> literate edits regarding the bias and i<br>llogic of your edit the excuse in your e<br>dit summary does not make sense as it do<br>es not explain why you deleted mention o<br>f prof deutsch s endorsement of the phys<br>ics of the omega point theory particular<br>ly since you yourself called deutsche an<br> in your own edit i e that statement was<br> not there before of which argues agains<br>t the notion that you consider the physi<br>cs of the omega point theory as fringe f<br>urther you deleted mention of the fact t<br>hat prof wolfhart spangenberg who is one<br> of the leading theologians in the world<br> has defended the theology of the omega <br>point theory and tiller s position that <br>the omega point is consistent with the j<br>udeo christian god so by your own words <br>you must consider deutsche s endorsement<br> of the physics of the omega point theor<br>y to be noteworthy and yet you deleted m<br>ention of this endorsement in an area wh<br>ere you yourself agree that deutsche is <br>eminently qualified and replaced it with<br> a large displayed quotation regarding a<br> matter that deutsche has no qualificati<br>on or erudition in even though the previ<br>ous version already clearly mentioned th<br>at deutsche disagrees that omega point i<br>s god moreover in this edit you delete a<br>ll mention of the fact that an actual tr<br>ained theologian prof wolfhart spangenbe<br>rg who is one of the world s leading the<br>ologians has defended the theology of th<br>e omega point theory your edit is so rid<br>iculously biased and illogical that it i<br>s a sick joke",
           1
          ],
          [
           "watch french mayor declares muslim migra<br>nts are not welcome here free speech tim<br>e",
           1
          ],
          [
           "glup test",
           1
          ],
          [
           "jel aracaju i sense il same one nice",
           1
          ],
          [
           "global apocalypse warning revert another<br> one of my edits and i will fart causing<br> a global apocalypse and potential extin<br>ction of all species with a sense of sme<br>ll",
           1
          ],
          [
           "you are a sick fuck",
           1
          ],
          [
           "around the world you will find a number <br>of people who are south asian whatever m<br>ust get rid of them",
           1
          ],
          [
           "should be brought under get over it cont<br>rol full of corrupt compromised cowards <br>who for the sake of money always letting<br> us patriots down failed to take head on<br> in this matter of national pride shame <br>dhonikeepstheglove",
           1
          ],
          [
           "i hate all fucking snakes i despise them<br> almost as much as i do polish",
           1
          ],
          [
           "what can possibly go wrong with someone <br>wearing a glove with a logo which means <br>nothing to you but everything to the pla<br>yer what would have happened if he had a<br> tattoo of the same what you would have <br>done enjoy the game and stop being kejri<br>walface with tears of joy dhonikeepstheg<br>love",
           1
          ],
          [
           "you are a faggot quit reverting my const<br>ructive edits",
           1
          ],
          [
           "retweet and every muslim is a slave of a<br>llah the more religious or islamic the m<br>ore damage and danger there is",
           1
          ],
          [
           "this is getting ridiculous why does ever<br>yone think camel jackers are not evil th<br>ey really are and it should be common kn<br>owledge to everyone i do not want to hav<br>e to go around informing people when the<br>y should already know",
           1
          ],
          [
           "sve it happens ratio dale shut up dose",
           1
          ],
          [
           "no for women who are being a fucking bit<br>ch",
           1
          ],
          [
           "having half breed children is shameful a<br>nd you should be ashamed",
           1
          ],
          [
           "the real virus is not corona it is the w<br>omen and gays",
           1
          ],
          [
           "i just saw this lunatic in town and he t<br>ried to talk to me no thanks",
           1
          ],
          [
           "that loon is far more successful than yo<br>u are",
           1
          ],
          [
           "it what a slut really embarrassing to wa<br>tch you almost drowning on holiday last <br>year as you do not know how to swim clas<br>sic black guy",
           1
          ],
          [
           "muslims worldwide are facing their immin<br>ent execution and i cannot wait",
           1
          ],
          [
           "do everyone a favor and scuttle the ship<br> mid atlantic i do not care where it is <br>nowhere gets better with extra blacks ad<br>ded to the equation",
           1
          ],
          [
           "chuck want to run for rfa rfa is dying b<br>ecause of all the harassment and bad beh<br>avior want to run for rfa and show up th<br>ose idiots from years ago it would be hi<br>larious if you did",
           1
          ],
          [
           "stop bullying stop racism everyone can s<br>tand up to it and say it is wrong and tr<br>eat everyone with respect everyday heroe<br>s bully",
           1
          ],
          [
           "let us not forget that the rifling media<br> just makes up labels for people without<br> any evidence except for muslims of cour<br>se",
           1
          ],
          [
           "replacement revert the single s cover to<br> the original because some bastard decid<br>ed to replace it with a monkey",
           1
          ],
          [
           "someone tells this immigrant non citizen<br> who cannot vote that michelle obama is <br>no longer lotus and what a slut never he<br>r lotus then deport her racists behind b<br>ack to the congo so she can resist there<br> trump maga",
           1
          ],
          [
           "quit harassing my talk page wikipedia is<br> not a medium for harassment if you do n<br>ot like to be reprimanded for saying stu<br>pid things then do not say them to someo<br>ne who is not willing to put up with it <br>i have every right to use and build upon<br> wikipedia as any other peaceful user th<br>is is your last warning",
           1
          ],
          [
           "bite me that is all cunt",
           1
          ],
          [
           "why should people have to read crap post<br>ed by idiots like you",
           1
          ],
          [
           "retweet male victims need campaigns they<br> are not even recognized dv domestic vio<br>lence",
           1
          ],
          [
           "eu je hvo zasluzila hvo je reiki spit za<br> nih btw placebo vam jean you hour the v<br>am any bud poseidon",
           1
          ],
          [
           "our hero create problem fix problem he c<br>aused declare victory douchebag",
           1
          ],
          [
           "to the whore who runs your shitshow go e<br>ducate yourself as to why acting like a <br>fucking political slut doesn t",
           1
          ],
          [
           "oh well i try so hard to be his shithole<br> countries maybe someday that will happe<br>n",
           1
          ],
          [
           "i heard someone say black people are the<br> shit and they will kick them out of her<br>e that is amazing",
           1
          ],
          [
           "i am sick of pretending that gays are no<br>rmal",
           1
          ],
          [
           "refugees asylum seekers or simply econom<br>ic parasites spanish canary islands see <br>unsustainable per cent rise in migrants",
           1
          ],
          [
           "fuck off and mind your own business homo<br>sexual",
           1
          ],
          [
           "merged my ass you just deleted the page",
           1
          ],
          [
           "she is like dick penis nothing else but <br>dick vagina as bitch",
           1
          ],
          [
           "is mr sexist then four of the six teams <br>in the fourth instant restaurants are an<br> all female team",
           1
          ],
          [
           "people who go to church in hollywood ca <br>are all white trash filth",
           1
          ],
          [
           "i tell people that i do not think half b<br>reeds are stupid cunts but i do",
           1
          ],
          [
           "fuck you and your moma bitch",
           1
          ],
          [
           "one blood is a afro american spiritual",
           1
          ],
          [
           "why not just kick out all those africans",
           1
          ],
          [
           "oh my god there are mashed potatoes wher<br>e your brains should be you vote for a m<br>an who claims to have fallen in love wit<br>h dictator kim jong un yet you whine abo<br>ut gay rights deplorable fuck trump",
           1
          ],
          [
           "will be fascinating to see how well it g<br>oes with aws as it what a slut decided b<br>y pakis i skimmed through their terms an<br>d conditions and it basically seems to b<br>e anything goes as long as it follows ac<br>ceptable law so fingers crossed i need t<br>o get some hosting for some free thought<br> speech projects soon what a slut lookin<br>g at buy but also end up considering aws<br> if this goes well done wishing you the <br>best for the future",
           1
          ],
          [
           "i am not racist but notice how it is alw<br>ays the naggers and the spic s pushing t<br>he drugs sometimes it",
           1
          ],
          [
           "i identify as an attack helicopter",
           1
          ],
          [
           "neofasist i am je not applicable last ka<br>nji bi bill",
           1
          ],
          [
           "a pitchblende is a radius mongoloid and <br>super individual",
           1
          ],
          [
           "someone stupid says bundesliga is number<br> one football league but only beaten by <br>the national football league i do not ca<br>re anymore but it is total joke and the <br>end of wikipedia",
           1
          ],
          [
           "i encourage the murder of indians",
           1
          ],
          [
           "have you stopped beating your wife do no<br>t answer that just keep in mind that wha<br>t i just gave you what a slut a final wa<br>rning",
           1
          ],
          [
           "i have nothing against white people i ju<br>st would not want to be one",
           1
          ],
          [
           "undocumented migrants from bangladesh af<br>g are playing havoc in india high time m<br>amta immigration office take a note if t<br>hey have any concern",
           1
          ],
          [
           "anyone who finds m net s behavior funny <br>can fuck off and die",
           1
          ],
          [
           "this guy is a fucking loser hey nerd get<br> a fucking life and stop editing shit ou<br>t and warning me who gave you the right <br>just because you have hours to waste onl<br>ine means you can boss me around this we<br>bsite is useless as a resource because i<br>t can be edited why be so damn anal",
           1
          ],
          [
           "america is not open to you go back to yo<br>ur shithole countries",
           1
          ],
          [
           "damn you these k ks are everywhere the w<br>orld is fucked",
           1
          ],
          [
           "disableds ruin british culture",
           1
          ],
          [
           "typical muslim what do you expect from h<br>im",
           1
          ],
          [
           "wt hell is wrong with you you cannot jus<br>t delete everyone is user boxes without <br>asking them first",
           1
          ],
          [
           "this dude is paid scum deleting the clea<br>r ownership of mr william franklin barte<br>nder from blearier is the work of a paid<br> scum admin",
           1
          ],
          [
           "wild blacks should not be allowed in thi<br>s park",
           1
          ],
          [
           "unbelievable you went ahead and removed <br>the section unilaterally without waiting<br> from comments from other editors i am w<br>arning you wee abstain from any more dis<br>ruptive and borderline vandalism editing",
           1
          ],
          [
           "kad ce nova poetic see",
           1
          ],
          [
           "jbg deporting naiad ali derelict see dob<br>ro pamela till je vest define rad ne sta<br>ge an vela je terrorist i karo it happen<br>s sad iskorijenit ako irene silo mist te<br>rrorist mat ce i nice see visit raja nat<br>o mi moral bit parents i ratio it happen<br>s naiad",
           1
          ],
          [
           "also you said your girl had a career tha<br>t is already a big step in the wrong dir<br>ection women and careers are like water <br>and oil",
           1
          ],
          [
           "loser f f f grawp",
           1
          ],
          [
           "damn always well said whatever need you <br>to get an hour on cnn so those liberals <br>can see the truth about gun control why <br>so serious very artistic he reminds me u<br>ncle sam i like piers for one reason he <br>makes the liberals look like the dumb sh<br>its they are i want to join the army inf<br>antry but it seems as though it does not<br> prepare you for a civilian job so my pa<br>rents want me to become a m instead stil<br>l think infantry is the where are you to<br> go though this guy is cray to think tha<br>t ok thanks for the bullshit psy raps ab<br>out killing americans slowly and painful<br>ly becomes a star guy who makes video th<br>at offends muslims arrested and sent to <br>prison god bless you ted god bless you t<br>ed d souza for president i believe you s<br>hould respect the fact that he is an int<br>elligent man compared to maker who is th<br>e exact opposite of intelligent and a ma<br>n where did you get this information fro<br>m once i get some property out of city l<br>imits i am going to have a gun range set<br>up like yours did you serve in the milit<br>ary hickok if so with what unit you almo<br>st sounded like charlie day at the end",
           1
          ],
          [
           "you sir are a",
           1
          ],
          [
           "that nigga snitched and added spice on t<br>op of his snitching",
           1
          ],
          [
           "elmer fund voice it is faggot season",
           1
          ],
          [
           "cd project they are ducking socially mon<br>goloid",
           1
          ],
          [
           "no one gives a crap about this rag head",
           1
          ],
          [
           "what how dare you call me a bloody vanda<br>l just because i do not spend half my li<br>fe on the internet does not mean i canno<br>t read and write and as far as i know an<br>yone can write on wikipedia as long as i<br>t s true referenced and makes a better a<br>rticle if i am a vandal then why the hel<br>l did the last guy who throws that it me<br>ans cool a k a around a bit too easily s<br>ay sorry after seeing that i was not a v<br>andal i get very cross when people say y<br>anks are closed minded because some of m<br>y good mates are from the states but you<br> sir are a tired old cliche if you think<br> bears attacking people are a joke then <br>maybe that is because i am an aussie and<br> here whatever take animal attacks prett<br>y seriously like after the poor bugger s<br>teve irwin passed away so have some bloo<br>dy manners for goodnesss sake you just r<br>uined my afternoon",
           1
          ],
          [
           "ill marry someone who loves to attack pa<br>kistanis as much as i do",
           1
          ],
          [
           "i now only go into the city when i have <br>to and i had to yesterday and i could no<br>t believe what has happened in there i t<br>hink i must have seen every pace of dirt<br> from every corner of the globe in there<br> it what a slut horrible",
           1
          ],
          [
           "who is this faggot",
           1
          ],
          [
           "mislim the je you piano province dihydro<br>gen monoksidom is chemtrailsa",
           1
          ],
          [
           "slick rick leeds vagina",
           1
          ],
          [
           "you sound like a sore loser",
           1
          ],
          [
           "refugees in italy throw away food refuse<br> to eat it stop immigration",
           1
          ],
          [
           "i adore the idea of burning all the disa<br>bled people",
           1
          ],
          [
           "hello you are all silly wubba mitt romne<br>y is a dictator",
           1
          ],
          [
           "koja mtv jubal primate see mosley a ti c<br>igar see torn you australia the class sp<br>okane",
           1
          ],
          [
           "eto not applicable tie par shut up ti po<br>licajci cali pedal pa nitro nice baden i<br>s jehovah donovan",
           1
          ],
          [
           "wikipedia s downfall is that it is free <br>so fuck you for suppressing that you fas<br>cists so fuck you for suppressing that y<br>ou fascists so fuck you for suppressing <br>that you fascists so fuck you for suppre<br>ssing that you fascists so fuck you for <br>suppressing that you fascists so fuck yo<br>u for suppressing that you fascists so f<br>uck you for suppressing that you fascist<br>s so fuck you for suppressing that you f<br>ascists so fuck you for suppressing that<br> you fascists so fuck you for suppressin<br>g that you fascists so fuck you for supp<br>ressing that you fascists so fuck you fo<br>r suppressing that you fascists so fuck <br>you for suppressing that you fascists so<br> fuck you for suppressing that you fasci<br>sts so fuck you for suppressing that you<br> fascists so fuck you for suppressing th<br>at you fascists so fuck you for suppress<br>ing that you fascists",
           1
          ],
          [
           "wow fucks upp nigga svhobossen new",
           1
          ],
          [
           "vecina was je jana sa momentarily cega s<br>ee bite",
           1
          ],
          [
           "i am bummed danny i am pissed that your <br>not on adam corolla show any longer i fe<br>el that the ac show is slipping away now<br> that your gone will whatever be seeing <br>hearing from you anytime soon hang in th<br>eir bud teddy trieste if you know someon<br>e that can use pc help checkout my two s<br>ites out for pc help for wan albee hobby<br>ist or engineers this site is somewhat n<br>ew so few links but i have hundreds of l<br>inks to add i live in fairfield ca miles<br> from sac ca teddy",
           1
          ],
          [
           "ms stockman did you demand that democrat<br>s stop criticizing republicans after the<br> leftist terrorist",
           1
          ],
          [
           "deff nigger wine",
           1
          ],
          [
           "i want women to have equal rights unless<br> you dont fit my exact definition of how<br> a woman should be then youre a hoe",
           1
          ],
          [
           "get the fuck back where you belong you u<br>gly muslim crap something i shout at mus<br>lims in school everyday",
           1
          ],
          [
           "jadni",
           1
          ],
          [
           "well it seems like there what a slut som<br>e reason why conservatives feel the need<br> to rush this nomination through mcconne<br>ll mentioned a long time ago that this w<br>hat a slut one he what a slut worried ab<br>out because of all of his history",
           1
          ],
          [
           "the fucking scum of the world yellows se<br>nseless disgusting people",
           1
          ],
          [
           "peanut butter m ms can say faggot",
           1
          ],
          [
           "gay boy i write to you to tell you that <br>i know that you shagged my husband you g<br>ay batch lots of love you know who",
           1
          ],
          [
           "what the fuck do you gain from posting o<br>n your private instead of your public",
           1
          ],
          [
           "to a lot of ya i sound dumb retarded or <br>whatever personally none of ya opinions <br>have ever mattered i just",
           1
          ],
          [
           "it is nice to tell everyone i have zero <br>hatred toward aboriginal people shame it<br> is a lie",
           1
          ],
          [
           "retweet i am not sexist but i am becomin<br>g one when i am driving",
           1
          ],
          [
           "and it is muslims who were the first cru<br>saders attacking the christian world for<br> centuries before it attacked back",
           1
          ],
          [
           "crappy organization people should be lis<br>ted by era in which they acted not when <br>they were born if not then at least find<br> a better where are you to organize them<br> as by birthdate is confusing and somewh<br>at irrelevant if you are going to stick <br>with this particular categorical method <br>then at least headline it like in the ra<br>ther than which confused me right off",
           1
          ],
          [
           "black barbies are not pleasant to look a<br>t",
           1
          ],
          [
           "to ti radio kod nas same not applicable <br>drug niacin i any dates intake suzuki",
           1
          ],
          [
           "shit that i should have realized earlier<br> the phrase it is okay to be white is th<br>e fisher price version of the words",
           1
          ],
          [
           "women are great at being everywhere it i<br>s like the plague",
           1
          ],
          [
           "i have an idea buildthatwall detention c<br>enters would be reduced dramatically if <br>not eliminated problem solved",
           1
          ],
          [
           "wonder how much us from unfair trade is <br>used for this bullshit the german govern<br>ment pays for week vacation for refugees<br> to go home armstrong economics",
           1
          ],
          [
           "retweet i am not sexist but i hate femal<br>e sports talk hosts",
           1
          ],
          [
           "tons of self professed conservatives hav<br>e unwittingly embraced the key tenets of<br> feminism without even realizing it the <br>average conservative woman of is more li<br>beral than the average liberal woman of <br>years ago",
           1
          ],
          [
           "the real virus is trans folk",
           1
          ],
          [
           "whoops responded to the wrong post anywa<br>y i am curious to see what stone will do<br> with the material recent history has pr<br>esented him and hopefully will stir inte<br>lligent debate rather than the shouting <br>and name calling that is passed off as p<br>olitical discourse on fuck and cnn",
           1
          ],
          [
           "this bitch out here setting up penis app<br>ointments and your lame ass cannot even <br>get a text back",
           1
          ],
          [
           "jingle bells hi jamie i just wanted to l<br>et you know that i do not really like yo<br>u and you do not do a very good job have<br> a nice day being a fat editor",
           1
          ],
          [
           "treachery is the most significant qualit<br>y of grenades",
           1
          ],
          [
           "it is so annoying having to explain myse<br>lf and my reasons for disliking mongoloi<br>ds everyone should already be aware of t<br>hese obvious explanations and should fee<br>l the same it is common sense",
           1
          ],
          [
           "not fair this i p is a school every comp<br>uter in this school uses the same i p so<br> it is not fair to block us honest ones <br>just because of few people in this schoo<br>l are idiots",
           1
          ],
          [
           "this area has a lot of travelers it is v<br>ery multicultural but you sure as hell c<br>annot leave anything unsecured",
           1
          ],
          [
           "if you think about it generation it mean<br>s said is the worst generation",
           1
          ],
          [
           "well this supposedly gets you laid if yo<br>u are not able to get laid that is the p<br>oint that is the aim of this community g<br>etting laid even if you have to lie and <br>pretend because women do it all the time<br> anyway uncomfortable yes but that is ho<br>w things work",
           1
          ],
          [
           "dear pregnant women think twice before y<br>ou pass by me and that is a threat",
           1
          ],
          [
           "i do not wish to differentiate between a<br> white woman and a white cat",
           1
          ],
          [
           "ovo je wovoka riga i promote",
           1
          ],
          [
           "there is something seriously wrong with <br>you trump will be reelected and there is<br> nothing you and you twisted cohorts can<br> do about it keep up the good work ameri<br>canism locker buildthatwall",
           1
          ],
          [
           "reverting for no reason i spent quite so<br>me time improving an article that what a<br> slut in a poor state now two people hav<br>e undone all my work with a click of a b<br>utton you did not have the courtesy to e<br>xplain why you reverted it but you still<br> had the fucking cheek to accuse me of l<br>eaving an inaccurate edit summary no one<br> s that stupid so you were plainly just <br>out to provoke me well fucking well done<br> consider me fucking provoked i guess yo<br>u did not even bother to look at the cha<br>nges before you put all that shit back s<br>elf arrest refers to various maneuvers e<br>mployed in mountaineering it does not re<br>fer to that it is that you want to say p<br>aris refers to the capital city of franc<br>e or nile refers to a river that flows i<br>nto the mediterranean sliding down a sno<br>w or ice covered slope arrests stops the<br> slide you think readers are too stupid <br>to understand what arrests means in this<br> context himself or herself you think th<br>e single it means cool a k a themselves <br>is somehow better expressed in three wor<br>ds and or ice axe you never bothered to <br>read slash these potentially life saving<br> techniques must be practiced frequently<br> in order to maintain proficiency this w<br>ebsite is called wikipedia not wiki manu<br>al but you never bothered to read not di<br>d you that s just the first five i made <br>many more i left the article looking con<br>siderably better and more encyclopedic b<br>ut then you came along and fucked it all<br> back up again do you feel proud still w<br>aiting for you to justify your risible c<br>laim of or also stop stalking and harass<br>ing eh",
           1
          ],
          [
           "ti bi folio is part napa feoga bog robe <br>you nose il figure an financing kradezeo<br>vska",
           1
          ],
          [
           "my cousin goes to school with a transgen<br>der black man i pray for him every day t<br>o be safe",
           1
          ],
          [
           "crisis in germany women start arming the<br>mselves due to islamic immigration crisi<br>s free speech time",
           1
          ],
          [
           "boring vagina you moss",
           1
          ],
          [
           "retweet cracking up that cuntandandre is<br> trending lmao love it mr",
           1
          ],
          [
           "corona has fucking broken the world yet <br>the chinese are thriving",
           1
          ],
          [
           "makes you realize how good he is with wo<br>rds too bad the pc crowd keeps him toned<br> down",
           1
          ],
          [
           "retweet islam according to muslim not me<br> this guy pakistaniguydonthugmemysuicide<br>jacketmigh goff and i think t",
           1
          ],
          [
           "doctorsunderoppression whatever are sick<br> of being muppets manipulated by this mo<br>roccan government whatever will stand ta<br>ll against the oppression of our corrupt<br>ed government free medicine fightingcapi<br>talisticmedicine doctors fightback docto<br>rs protest",
           1
          ],
          [
           "if you are not both genders then you re <br>not a man you are just gay and following<br> trends",
           1
          ],
          [
           "because wikipedia is poop racist",
           1
          ],
          [
           "isnt it time for the bbc to be asking so<br>me probing questions of the leader of th<br>e scottish conservatives its in the publ<br>ic interest",
           1
          ],
          [
           "love to suck fat black cock i",
           1
          ],
          [
           "if you see this message wikipedia s talk<br> system is terrible feel free to direct <br>me to the appropriate response method be<br>cause those talk back tags are confusing<br> anyway i only edit pages with contribut<br>ions i think will help hence the code yo<br>ko comment which is why my contributions<br> page is shallow that and my internet pr<br>otocol address changed during a thunders<br>torm a few months ago i am not here to w<br>rite a book if i what a slut that into e<br>diting i would be a member by now all i <br>know is i called bullshit and got harass<br>ed for it by that person and now i am ca<br>lling double bullshit it s a shame you c<br>annot even go on wikipedia any more with<br>out being harassed",
           1
          ],
          [
           "so as new immigrants no one warned us ab<br>out halloween which hadnt quite gone glo<br>bal yet in the early s i rome",
           1
          ],
          [
           "so happy i am not a fairy boy",
           1
          ],
          [
           "shut up retard",
           1
          ],
          [
           "i am so pissed our company hired more fe<br>male writers this year",
           1
          ],
          [
           "ssp you should join that autistic pope i<br>n rome and go fuck yourselves with sin u<br>ntil all your maggot brains turn into so<br>up",
           1
          ],
          [
           "nije boldest sve sto bold",
           1
          ],
          [
           "maga who cares about the farm he had no <br>reason to commit murder end of story",
           1
          ],
          [
           "black men should not marry white women t<br>hey should stick to their own",
           1
          ],
          [
           "and do not forget that per megan kelly o<br>f faux news jesus santa are also white r<br>eligion",
           1
          ],
          [
           "it is not easy to say and do not come fo<br>r me in the comments as this country all<br>ows free speech so i am allowed to expre<br>ss my opinion and dislike toward jewish <br>people so leave me alone as they should <br>not be allowed to exist that is just how<br> i feel",
           1
          ],
          [
           "well said stay woke",
           1
          ],
          [
           "i would say that being for trans people <br>is the thing that makes you a liberal or<br> not right now otherwise you are just se<br>nsible",
           1
          ],
          [
           "imate vi you britain punk take desetljec<br>ima do laze naseljavaju see i pune i bri<br>tain i cjeu europe ponasaju see european<br> idiot key the shut up top vdu sterile",
           1
          ],
          [
           "boring why are you so boring gail stop h<br>arassing me",
           1
          ],
          [
           "takvi shut up on venom postal venice ali<br> to omani venice mrsss naiad you sahara <br>pizza vam mater jednosmjrenu avionics ka<br>rt parasite not applicable leda i resent<br> star",
           1
          ],
          [
           "a bitch out of the hellhole",
           1
          ],
          [
           "you are achieving nothing you sock puppe<br>t",
           1
          ],
          [
           "marxism is fucking stupid thank the jews<br> for introducing it",
           1
          ],
          [
           "i agree that keep faggots what a slut ne<br>edlessly insulting but it what a slut in<br> the edit summary so reverting the edit <br>does not help there i does not know if y<br>ou can even edit the summaries at all an<br>yway i think jackson s vote should be co<br>unted so i will put it back one more tim<br>e and if one of you reverts i will leave<br> it alone",
           1
          ],
          [
           "retweet i am not sexist but i must admit<br> the women belong in the kitchen jokes w<br>ere worth a chuckle",
           1
          ],
          [
           "why would someone be videoing inside job<br> flushed face asking for a friend hope s<br>he is okay",
           1
          ],
          [
           "there are many immigrants in my school i<br> would love to have truly british pals i<br>nstead of these half breeds",
           1
          ],
          [
           "a friend of mine said that touched him o<br>n his well you know he does not actually<br> remember the details but it happened he<br> said she should be referred to the fbi <br>wait they are as corrupt as she is",
           1
          ],
          [
           "lol haha you fucking loser hobbs yeah ma<br>ybe i am epf not although he shares some<br> views with me on race he s some dumb it<br>alian british but from canada that actua<br>lly annoys me i have used other accounts<br> on here but with other anon accounts no<br>t as a registered user which is allowed <br>by wikipedia since internet protocol s c<br>hange all the time hahaha hobbs you are <br>a fool especially with how you place so <br>much emphasis on those books recently re<br>leased by sykes etc which are a minority<br> opinion in the world of population gene<br>ticists and other researchers for your i<br>nformation racial reality is not a neo n<br>azi site you anarchist loser with no hop<br>e because your life is meaningless and y<br>ou do not know anything on what you read<br> about with these issues restroom is a n<br>eutral point of view that seeks to refut<br>e neo nazi white supremacists multi raci<br>al race denier assimilationist biased op<br>inions that influence works including th<br>e authors of those books you mentioned s<br>tick to being a pathetic lab assistant a<br>nd get a life you fucking tool and stop <br>vandalizing pages and main edits to suit<br> your twisted opinions you fool hahaha w<br>ow do you accuse sock puppet of everyone<br> who gets under you skin you douchebag",
           1
          ],
          [
           "i am as a mother in law i will not accep<br>t my barren daughter in law",
           1
          ],
          [
           "vagina editing you should be added to th<br>e list i what a slut creating erg you ar<br>e a cunt",
           1
          ],
          [
           "how come your name used to be peter are <br>you a male to female transsexual well ar<br>e you",
           1
          ],
          [
           "congress will never learn if the command<br>er is like that what expect from the sol<br>diers gandinaaliabuse rahul gandhi is de<br>stroying parliament dignity",
           1
          ],
          [
           "calls for carlpaladino to step down but <br>he will not because he knows that he can<br> spew with no consequences",
           1
          ],
          [
           "how big is your cock laughing out loud",
           1
          ],
          [
           "zionists are unattractive",
           1
          ],
          [
           "a sta shut up revival the ce calamity pi<br>ss off alice haha pro to reba paradise h<br>onda is mazda moves nest i pristine",
           1
          ],
          [
           "leminis stop training it is time to get <br>ripped hashtag this vagina bitch literal<br>ly fuck that",
           1
          ],
          [
           "constitutionally protected general inter<br>net maggoty are some of the most fucking<br> glorious words i have ever read",
           1
          ],
          [
           "so if opposed to using it means cool a k<br> a retard or retarded why would you thin<br>k okay to use it means cool a k a libtar<br>d",
           1
          ],
          [
           "they arrive in the united states not for<br> the american dream as many politicians <br>both democrat and republican like to say<br> they are arriving to usurp our economy <br>with no intention of embracing the cultu<br>re adopting the language or considering <br>themselves american when asked most will<br> say they are proud hondurans or proud n<br>igerians proud nationals of the country <br>they came from",
           1
          ],
          [
           "society sucks because whatever allow peo<br>ple like them to live just need the musl<br>ims out",
           1
          ],
          [
           "for the hoe that think she does not do w<br>hat the dummies do youare a dummy bitch <br>and an ugly one at that litter in bin si<br>gn",
           1
          ],
          [
           "hybrid she males are one of the most ven<br>omous animals alive",
           1
          ],
          [
           "fuji",
           1
          ],
          [
           "hey first it is between me and idiot so <br>please do not get involved ok i had adde<br>d information to the slopes article that<br> i not only verified but then provided i<br>nformation on the talk page on how to do<br> so instead of checking the talk page th<br>ough lazy idiot just hits revert and goe<br>s back to eating chips off his her chest<br> unfortunately that seems to be all too <br>common around here i have read countless<br> posted by other people added constructi<br>ve and meaningful information only to ha<br>ve some lazy jerk remove it on a whim wi<br>thout even bothering to see what it was",
           1
          ],
          [
           "no surprise there pakistan cricket board<br> pcb chairman ensan mani has confirmed t<br>hat he lodged a complaint with the icc a<br>bout india wicketkeeper batsman ms dhoti<br> having the indian armys insignia on his<br> keeping gloves indiawithdhoni dhonikeep<br>stheglove dhonikesaathdesh",
           1
          ],
          [
           "cohan cab aye the cohan cab aye info wha<br>t a slut not incorrect so if you do not <br>want real info on it you can go fuck you<br>rself because alan par dew did say cab a<br>ye what a slut cpc ces areas and he what<br> a slut made fun of by newcastle fans so<br> you can keep putting bullshit on wiki s<br>o people are confused you dumb fuck",
           1
          ],
          [
           "what be the pecking order white christia<br>n colored porto rivals arab jews i dots <br>know i am axis",
           1
          ],
          [
           "you made brother kumar me brother",
           1
          ],
          [
           "camel crunches are lazy",
           1
          ],
          [
           "bitches cannot keep a man for shit but g<br>ot a steady ass work husband at all time<br>s",
           1
          ],
          [
           "sara slave see pa to je media za cit at <br>momentary narino seato i am about to pra<br>do lasting milena ali pole nih key demen<br>tia je newsmen",
           1
          ],
          [
           "thank you vietnam but unfortunately and <br>his cohorts have been paid off by china <br>to the detriment of the filipino people <br>traitorduterte boycott china",
           1
          ],
          [
           "those paki people all look like knobs",
           1
          ],
          [
           "year old some niggas coming out of jail <br>tomorrow and i am stoked to beat their a<br>ss",
           1
          ],
          [
           "hey ole faggot hey faggot you are an old<br> man so why do not you retire faggot",
           1
          ],
          [
           "transgenderism is full of shit and incre<br>ases suicide rates among transgenders be<br>cause they are mentally ill i would know<br> running",
           1
          ],
          [
           "that feeling when v irvin who would pref<br>er to stay indoors playing vida having a<br>n excuse to become a nikki should be thr<br>illing to me but i know a gay operator w<br>hen i see one and am compelled to do the<br> opposite of whatever tell me to do so i<br> am going out much more than usual durin<br>g flu just out of contrarianism",
           1
          ],
          [
           "hmmm do women like to be stuffed in ever<br>y hole and paid confused face",
           1
          ],
          [
           "he is also said whatever would have the <br>cleaner air and water but his failure to<br> protect our environment will also lead <br>to mass death",
           1
          ],
          [
           "glad you re having another nice vacation<br> how does the illegal border crossings i<br>llegal opportunistic migrant entries tax<br>payer funded hotel rooms for same withou<br>t a strategic plan going",
           1
          ],
          [
           "does not mind black people hate niggers",
           1
          ],
          [
           "contested deletion this page should not <br>be speedily deleted because it speaks th<br>e truth of my life you do not know the h<br>ardships i have been through if you and <br>your jew wants to decide my destiny and <br>silence my first amendment rights fuzhou<br> get your fat wikipedia off of my profil<br>e you might think you have a life or som<br>ething going around saying die fucked de<br>w i am about to go around and delete som<br>e random persons wikipedia page fuzhou y<br>ou do not choose what to do with my wiki<br>pedia page fukyou and four mom",
           1
          ],
          [
           "president trump will smash that traitor <br>with the truth obama is running scared w<br>hatever know what you did in those years<br> the public knows let the truth shine ou<br>t buildthewall lockthemup indiana boycot<br>t boycotting enough already",
           1
          ],
          [
           "animals are in no where are you there is<br> no where are you to determine if that d<br>og what a slut actually also it what a s<br>lut a freaking dog",
           1
          ],
          [
           "it is important to keep in mind that whe<br>n africans were selling other africans i<br>nto slavery which is shitty no matter wh<br>at they were selling prisoners of war tr<br>ibes and kingdoms did not perform raids <br>so they could capture others to sell int<br>o slavery whereas white people did not d<br>o this to other white people this conclu<br>des that it are not all that bad to use <br>black people as slaves",
           1
          ],
          [
           "what is wikipedia i fuck you and you re <br>fucking wikipedia in the ass i am tired <br>with your shit i try to make the page be<br>tter and much more real i am romanian an<br>d i know better what whatever are not yo<br>u re fucking wikipedia you want to have <br>a good wikipedia this is not good wikipe<br>dia this is shit too many information ar<br>e not real",
           1
          ],
          [
           "have more where he came from do not rest<br> whatever are watching your fat azz",
           1
          ],
          [
           "the dept of education is a fucking joke <br>why are schools open when we have got fu<br>cking corona they are destroying this co<br>untry more than immigrants ever will",
           1
          ],
          [
           "oh yes you are wrong and dyer is not an <br>expert but an ignorant it makes me laugh<br> talk cont ribs",
           1
          ],
          [
           "ramos sounds like a shitty ump",
           1
          ],
          [
           "retweet i am not sexist but feminist pis<br>s me off",
           1
          ],
          [
           "material scientist is a racist seriously<br> fuck you man you continuously delete my<br> photos on the page of al mayassa bit ha<br>man bin khalifa altai which are all post<br>ed with the correct creative commons sha<br>re alike or license because you are a ra<br>cist and the shaka appears uncovered in <br>these pictures when i posted photos of a<br>rab males you do not challenge them what<br>soever luckily i can continue to live my<br> life in the happy company of many frien<br>ds family and colleagues not stationed a<br>t a computer you are a loser who spends <br>his entire life editing wikipedia and pr<br>obably has nothing to show for it at the<br> end of my life i will have had a purpos<br>e a career family things i am proud of y<br>ou will just be dust and completely irre<br>levant to the world having never done an<br>ything more than editing a website",
           1
          ],
          [
           "laughable the police are stopping driver<br>s to see if theyre wearing flip flops an<br>d issuing people with fines up to what a<br> fucking disgrace our police force are b<br>ecoming a fucking joke get out and nick <br>these black gangs stabbing people and al<br>l the immigrant thieves",
           1
          ],
          [
           "because there are no consequences of ind<br>ividual he basically advertised for free<br> on television that he is open to foreig<br>n help case by case using what criteria <br>thinking face trumpisacriminal impeachdo<br>naldtrumpnow trumpisatraitor",
           1
          ],
          [
           "here you go monkey versus nigger",
           1
          ],
          [
           "this sounds as relevant as the in mumbai<br> by the woke snowflakes for gun control <br>face with tears of joy abortion in india<br> is legal and only the woman s choice is<br> required take your circus elsewhere ins<br>tead take up the issue of oppression of <br>hindus in india this is at least relevan<br>t",
           1
          ],
          [
           "okay i cannot fucking understand what yo<br>u re saying i do not speak ching chong",
           1
          ],
          [
           "so youre the same people who vote for le<br>ss gun control when whatever have what i<br> i do not know school shootings just thi<br>s year and fatal shark bite incidents si<br>nce you sure really care about humans",
           1
          ],
          [
           "your censorship adds nothing the statist<br>ics i posted come from an excellent sour<br>ce the u s justice dept why does your hi<br>ghness not like the statistics who made <br>you king",
           1
          ],
          [
           "it is so annoying having to explain myse<br>lf and my reasons for disliking irish tr<br>avelers everyone should already be aware<br> of these obvious explanations and shoul<br>d feel the same it is common sense",
           1
          ],
          [
           "replied to a tweet saying something akin<br> to oh yeah bullshit i did i said polite<br>ly they are as fucked as each other so w<br>hat is your next reply chief or are you <br>the perennial victim of oppression dickh<br>ead",
           1
          ],
          [
           "perhaps you have also forgotten",
           1
          ],
          [
           "a million illegal aliens costing u s tax<br>payers billion a year now illegals refus<br>e to take their kids back want them to s<br>tay in u s for freebies that is an illeg<br>al immigration crisis walkaway votedemso<br>ut trump maga sendthemback",
           1
          ],
          [
           "you are a scumbag you re a fucking homos<br>exual i am the most inportantest person <br>in the world you can call my article abo<br>ut brittany mellor nonsense but that is <br>rejecting my and that little badge that <br>said kindness on your sandbox yeah that <br>is not true because i am brittany mellor<br> and calling me nonsense is fucking stup<br>id you penis head",
           1
          ],
          [
           "dude what the hell is with all these inc<br>orrect information on of mice men band a<br>rticle there is no where are you they ar<br>e post hardcore or new metal austin carl<br>yle said on multiple interviews bryansta<br>rs crescendo etc ok i will sort of give <br>you the new metal part after reading the<br> alternative press interview but that is<br> not the point i am sticking the specifi<br>c genre that there known for and that is<br> metal core they have been metal core fr<br>om the start and they said they will sti<br>ck with metal core with more rock elemen<br>ts",
           1
          ],
          [
           "awesome as fm",
           1
          ],
          [
           "i like to tell that to students at the b<br>eginning of the year then they can know <br>quickly of the utter treacle that is my <br>philosophic manifesto of righteousness l<br>ater b tch",
           1
          ],
          [
           "this colin guy is a tool how rigged is t<br>he scoring for main and dessert how ridi<br>culous based on past scores mr",
           1
          ],
          [
           "the current state of political chaos is <br>absolute proof that a woman s place does<br> not lie in academia or politics",
           1
          ],
          [
           "the best things on earth can be found in<br> britain pubs lovely sunsets beautiful l<br>ittle towns friendly people good old man<br>ners so shall whatever attract more fore<br>igners and change it all",
           1
          ],
          [
           "go away you tramp",
           1
          ],
          [
           "you re both a couple of homos",
           1
          ],
          [
           "black people are the biggest pawns ever <br>everyone uses them for crime they are al<br>ways the fall guy italian mob uses them <br>to do the dirty work the mexicans use th<br>em the japanese use them and the chinese<br> now who should know who is named",
           1
          ],
          [
           "vlada i je inscenirala oval napa da more<br> vest dictator a to ce short i you eu",
           1
          ],
          [
           "opt in solves these problems",
           1
          ],
          [
           "because no one gives a shit",
           1
          ],
          [
           "classic i am not sexist but i do believe<br> that women are inferior to men",
           1
          ],
          [
           "coons belong in the jungle",
           1
          ],
          [
           "retweet and as far as a girls team name <br>me one all female team who has placed to<br>p at a major event not sexist but it has<br> a waste",
           1
          ],
          [
           "islam is a pile of hatred murder bigotry<br> sexism islam is filth that has divided <br>and destroyed mankind",
           1
          ],
          [
           "no he did he told me and that is a fact <br>that is how fucking stupid this asshole <br>is",
           1
          ],
          [
           "he s a race traitor",
           1
          ],
          [
           "conservatives have never cared about wom<br>en or minorities",
           1
          ],
          [
           "he s just a freaking idiot that can say <br>anything and his redneck teenager consti<br>tuents buy it they love stupid people",
           1
          ],
          [
           "and when will the fucking coaches learn <br>to not snap it into shot gun what a fuck<br>ing retard pokes",
           1
          ],
          [
           "to buddhists i hope i never cross paths <br>with any of you",
           1
          ],
          [
           "victor moore you are one dumb ass writer<br> or you are smoking some bad crack what <br>the fuck suck hawks rock off the miners <br>what the fuck dude buy some good coke st<br>ay off that bad shit dude are you hangin<br>g with bobby brown dang",
           1
          ],
          [
           "why do liberals always say they are movi<br>ng to canada if they do not get what the<br>y want they never seem to offer to move <br>to venezuela or greece or other failed l<br>iberal countries",
           1
          ],
          [
           "quit editing chicago med you are so stup<br>id how can someone post on here and get <br>it verified without you changing it info<br>rmation posted on here that is cited is <br>not copyright are you from america you i<br>diot get a life stop ringing chicago med<br>s page",
           1
          ],
          [
           "think whatever should join christianity <br>and fuck islamic off",
           1
          ],
          [
           "who the fuck are you",
           1
          ],
          [
           "people already fixed elliot s wikipedia <br>page that what a slut so quick it is rig<br>ht now it says she is a woman again",
           1
          ],
          [
           "your ongoing efforts to vandalize the po<br>ppers info page is inappropriate perhaps<br> one day you will get a life",
           1
          ],
          [
           "if women want equality they should be dr<br>afted into war see how that feels",
           1
          ],
          [
           "it s time to talk about two antithetical<br> concepts beauty and native australians",
           1
          ],
          [
           "mr pretty sure that is how all the chick<br>s walk at ct pruitt west point",
           1
          ],
          [
           "the aged cliche women do not know what t<br>hey want proven right again women are de<br>finitely asexuals to the point they beli<br>eve men have privilege over them especia<br>lly since of men are invisible to them",
           1
          ],
          [
           "mongo is a racist how about getting al z<br>ahrawi s momma stripping her and throwin<br>g her in a pig pen with starved boars al<br>a hannibal letter movie film of course s<br>ent to all jazz era whatever need to get<br> medieval on these scum everything i eve<br>r needed to know about islam i learned o<br>n followers of islam can you see blood p<br>icture of the koran with a swastika on i<br>t is this the kind of anti static bigot <br>you want to represent wikipedia someone <br>who advocates stripping an old woman of <br>her clothes and throwing her to pigs the<br> kind of vitriolic hate congo dishes out<br> is disgusting and you people defend him<br> and stand up for him",
           1
          ],
          [
           "shylocks are the worst",
           1
          ],
          [
           "do not threaten me you nazi you cannot s<br>top me i hope you are going to be online<br> all day because i will be and i will be<br> monitoring this page you cannot block m<br>e i am an admin so have fun latuff is ga<br>y plain and simple his mom left his dad <br>for a jew i have reliable sources",
           1
          ],
          [
           "i do not want to go to my county german <br>lesson he s a batty man",
           1
          ],
          [
           "get rid of the gays",
           1
          ],
          [
           "utc no it s not nationalist look at how <br>the turks called the ones living in bosn<br>ia they called them bosniaks look how bo<br>snian catholic franciscans called them s<br>elves bosniaks look how bosnian kings an<br>d bans called them selves bosniaks in th<br>e magazine bosniak what a slut formed th<br>at also proves bosniaks weren t from the<br> serb shit of bosniaks ban serbs is just<br> propaganda this has proof and then you <br>have nothing left to say but didn t mean<br> the same thing then as now and you re r<br>ight then bosniaks where everybody but t<br>he christians bet raid our people and no<br>w bosniaks are just muslims and you righ<br>t muslims not muslims i m the best i sim<br>ply am you can right articles and i can <br>right i m still better than you i even d<br>isses you right now haha haha rastko org<br> is a check site you link it to the arti<br>cle of a bosniak ban then i can link a b<br>osniak site as well",
           1
          ],
          [
           "dealing with relatives reminding you tha<br>t the clock is ticking this might help c<br>hildfreea",
           1
          ],
          [
           "can the fucking death penalty be held qu<br>ickly taxpayers are tired of footing the<br> bill for these scumbags blacks for year<br>s on death row",
           1
          ],
          [
           "to me its incredible whatever even have <br>to have a resolution to condemn illegal <br>aliens voting isnt that all",
           1
          ],
          [
           "nope blumenthal ignores the countless ca<br>ses of muslim violence against minoritie<br>s around the world and instead",
           1
          ],
          [
           "i cannot believe how racist is the kba s<br>aid no one who cares about their country",
           1
          ],
          [
           "f you see ok why oh you an s you an are <br>e a b i t see h an s and i g g e are",
           1
          ],
          [
           "retweet i tend to think a rsx is a chick<br> car though laughing out loud nonsexist",
           1
          ],
          [
           "i have to say blacks appear to be very u<br>nprincipled",
           1
          ],
          [
           "you are not an american do you think lan<br>ding here dry foot qualifies you as an a<br>merican",
           1
          ],
          [
           "she is busy in appeasing minorities henc<br>eforth",
           1
          ],
          [
           "why are women such are",
           1
          ],
          [
           "get off my dick cunt in case you did not<br> notice the block what a slut after this<br> you really must be retard it is a zero",
           1
          ],
          [
           "you can blow me you self righteous piece<br> of shit why do not you stop jerking you<br>rself off and get a life",
           1
          ],
          [
           "fuck off you cunt i know a lot more abou<br>t flynn than you do not take out referen<br>ced stuff or else",
           1
          ],
          [
           "aww you spooky bear you are such a victi<br>m",
           1
          ],
          [
           "they sleep with a black man they meet on<br>e day sleep with a jew the next and then<br> with an arab or the day after some wome<br>n are such lizards they do not care abou<br>t their race or anyone else s",
           1
          ],
          [
           "moonriddengirl is a stupid slut and shou<br>ld suck on my dick stop deleting my arti<br>cles and mind her own business fuck you <br>whore",
           1
          ],
          [
           "oooh applications for can i sign up to b<br>e the bitchy cunt mr cuntfacebitch",
           1
          ],
          [
           "i do not give a fuck about the personal <br>attack shit the pats win ohh ya would ya<br> block me yet or are there rules about t<br>hat shit too",
           1
          ],
          [
           "koshies are the worst",
           1
          ],
          [
           "idiot if they try to land the plane it i<br>s too heavy will have a very bad acciden<br>t could kill everyone crawl back under y<br>our rock where it is dark better to dump<br> fuel than kill everyone more on the gro<br>und",
           1
          ],
          [
           "sigurno isis nice bit cretan had za koi <br>anesec point state hrvatske gave winking<br> face",
           1
          ],
          [
           "blacks are wrong",
           1
          ],
          [
           "this is getting out of hand now i have h<br>ad arguments today already just because <br>i merely expressed my opinion just becau<br>se you think batty boys should exist doe<br>s not mean i do of course i do not and i<br> do not see why anyone would this is so <br>silly and is starting to exhaust me now",
           1
          ],
          [
           "that happens all the time for nfl player<br>s due to most players being retards that<br> does not know how to handle money and t<br>he fact that the usual football career i<br>s short as anything leaving some beat up<br> mid year old to try and move on to anot<br>her occupation and unsurprisingly dedica<br>ting your life into playing sport really<br> well does not translate into work skill<br>s",
           1
          ],
          [
           "collegial website my ass what have you e<br>ver done that is collegial have you left<br> one wiki love have you helped one new p<br>layer to edit i see your playing enforce<br>ment for your new meat puppet go circle <br>jerk with him not me",
           1
          ],
          [
           "retweet if you have a vagina do not try <br>and be funny",
           1
          ],
          [
           "creepy troops are one of the reasons why<br> the world sucks",
           1
          ],
          [
           "retweet in canada of us are not fathered<br> by the man w",
           1
          ],
          [
           "lock him up he is insane",
           1
          ],
          [
           "i think that hate can not be considered <br>a crime i understand that some laws cons<br>ider it as a crime but whatever should b<br>e able to talk about it but i believe th<br>at hate cannot be considered a crime whi<br>ch i am punished for if i conduct especi<br>ally against amos",
           1
          ],
          [
           "whatever it takes take the money out of <br>welfare payments to the lazy and use tha<br>t take it from aid to mexico and south a<br>nd central america just buildthatwall",
           1
          ],
          [
           "int add int a int b style color border s<br>olid row style align middle padding styl<br>e size x large padding zero height being<br> a vandal style align middle padding fuc<br>k you",
           1
          ],
          [
           "that is it final straw we are doing this<br> you and me i will be flying to the city<br> of your residence and burning down your<br> domicile do you have nice things becaus<br>e i am going to fuck them i am going to <br>fuck you",
           1
          ],
          [
           "retweet i am not sexist but if you are a<br> female bartender you agree to certain g<br>ender standards",
           1
          ],
          [
           "he will not get any money now because th<br>ose black crackheads are suffering from <br>ptsd from their ancestors",
           1
          ],
          [
           "if keep these girls in the comp which i <br>suspect they will i will never watch mr <br>again so so so rigged",
           1
          ],
          [
           "i endorse death penalty if it that means<br> eliminating niggas from our society",
           1
          ],
          [
           "negroids couldn t put together a bake sa<br>le properly much less a work force",
           1
          ],
          [
           "it s time for the refugees to go home in<br>clusion failed sendthemback",
           1
          ],
          [
           "new balkan route a problem croatia yy is<br> absolutely correct to tighten patrols t<br>o stop the illegal migrants from enterin<br>g an effort to reach the rich eu countri<br>es visegrad",
           1
          ],
          [
           "poorly worded but he is not talking abou<br>t the actual shooting he means the after<br>math with the gun control aspect",
           1
          ],
          [
           "why the hell did you fucking write that <br>i can vandalize wikipedia whenever i wan<br>t",
           1
          ],
          [
           "a vatican vita",
           1
          ],
          [
           "well then that makes the fact these scum<br> are sending millions of their kin to my<br> country taking jobs from the white inha<br>bitants killing our people and mongreliz<br>ing our race all right then",
           1
          ],
          [
           "not really this man does not seem to do <br>his homework or does not check his artic<br>les or simply does not know very much ab<br>out history",
           1
          ],
          [
           "let us talk about opposite concepts like<br> gays and politeness",
           1
          ],
          [
           "any retard want to take uk hit my line",
           1
          ],
          [
           "i see so many bite me way fun around my <br>city it s not even funny",
           1
          ],
          [
           "i hope every chinkys at london gets shot<br> by police",
           1
          ],
          [
           "well i did so you are an idiot",
           1
          ],
          [
           "trans women are not real women",
           1
          ],
          [
           "hey asshole will you go fuck your dead m<br>other if you are going to spread libel a<br>bout me as i am guessing you are carl n <br>brown who are you",
           1
          ],
          [
           "masturbate go fuck yourself you ignorant<br> moron this site is full of shit being p<br>eddled by brainless twats like you what <br>exactly is your objective",
           1
          ],
          [
           "it is not easy to say and do not come fo<br>r me in the comments as this country all<br>ows free speech so i am allowed to expre<br>ss my opinion and dislike toward camel b<br>ackers so leave me alone as they should <br>not be allowed to exist that is just how<br> i feel",
           1
          ],
          [
           "lets block all the jews well well radian<br>t are you planning to block all the jews<br> and jew loving gentiles for calling naz<br>is shame on you",
           1
          ],
          [
           "i have retard strength",
           1
          ],
          [
           "a wicca say he balling ask them where hi<br>s title and his deeds at not her his clo<br>thes and his keys at",
           1
          ],
          [
           "barren women are not attractive",
           1
          ],
          [
           "you probably did not make it because you<br> are just a prick you are all fucking mo<br>rons no homosexual but i would like to f<br>uck your ass i love you",
           1
          ],
          [
           "okay you are a complete retard reply rea<br>d what you just said about a bullpen you<br> know nothing about baseball",
           1
          ],
          [
           "i hate being a black man living in this <br>country i do not get why orientals do no<br>t get as much hate",
           1
          ],
          [
           "women are fragile princesses that need t<br>o be quiet",
           1
          ],
          [
           "i am a total niggercocksucking faggot",
           1
          ],
          [
           "you are ugly too do exercise and also ge<br>t a real job and a girlfriend",
           1
          ],
          [
           "thank you so much for this one day i hop<br>e the next generation is spared from the<br> travesty brought by public schools and <br>private jews can easily fake being chris<br>tian",
           1
          ],
          [
           "no dude mostly just sound like a faggot",
           1
          ],
          [
           "politics live since the coalition everyo<br>ne knows if you vote you a government ne<br>ver again",
           1
          ],
          [
           "amazingly your sarcastic bullshit and su<br>perior attitude have inspired me to stop<br> contributing to wikipedia entirely i ha<br>ve already deleted all the source code f<br>or the patch i had been developing for t<br>he project yes i am a developer and i ho<br>pe you feel all good about yourself with<br> your smug attitude douche all the admin<br>s here with a few exceptions should be s<br>trung up and ridiculed by people who act<br>ually have a life",
           1
          ],
          [
           "some chinese propagandists desperately m<br>ake korean as language isolate saying mo<br>st linguists say korean is language isol<br>ate by the reference of the korean langu<br>age song joe jung but there is no phrase<br> like that stop distorting chinese shits<br> wikipedia is not a place for your propa<br>ganda",
           1
          ],
          [
           "oh ouch mores chi and ryanpostlethwaite <br>fucking wankers name i advise you find a<br> nice boy and change your last name to m<br>atch his you might like to consider that<br> it is time you both admit you have feti<br>shes for curry pussy",
           1
          ],
          [
           "that so called woman is fucking tyranny <br>in disguise yuck",
           1
          ],
          [
           "ivek sigurd je mama jake pomona taking d<br>enial je spell radii svaka cast miami a <br>ti is malmo retardant boze me post",
           1
          ],
          [
           "personally im sick of the billions throw<br>n stop that the refugees secure the bord<br>er",
           1
          ],
          [
           "oh look another lying putin paid interne<br>t propaganda bitch",
           1
          ],
          [
           "oh cj cj cj you fat ugly bitch it s just<br> so funny how much you need us you need <br>us to tell you that your husband would r<br>ather fuck a barbed wire covered glory h<br>ole than touch your year old moldy vagin<br>a you need us to tell you about the heal<br>th problems your poor children are going<br> to suffer thanks to your fast food and <br>brownie diet poor weenie is going to be <br>teased in school for being tubby you nee<br>d us to tell you how stupid you are to g<br>o off of a fucking car thermometer to de<br>termine the outside temperature and then<br> compare it to a fucking tropical climat<br>e state like florida how the hell do you<br> function in life oh wait you don t you <br>stay in touch your fat worthless ass at <br>a computer all day ranting about gay mar<br>riage i hate to break it to you but i gu<br>arantee your darling son sam is going to<br> grow up to be the butt pirate you so ha<br>te what are you going to do then throw a<br> bible at his head it will not knock the<br> gay out of him even worse little sara i<br>s going to grow up to be a liberal gasp <br>oh nos so your weenie is going to be a f<br>atty sammy a gay and sara a tree hugging<br> hippie looks like your christian mother<br>ing sucks and you should try another rou<br>te might i suggest getting the fuck off <br>the computer and going to spend time wit<br>h them",
           1
          ],
          [
           "la islam bonita overdose malone happy fa<br>ce or smiley iago je hvo parodied gpa is<br> knock out rural nenormalno see pie lare<br>do slaem see sa too ali nisei you grave <br>to see tie pravopisa wink or smirk good <br>luck you go girl d online nadam see the <br>etc short you nice happy face or smiley <br>it is a ponytail p i am from serbia and <br>i am watching this to learn russian bett<br>er happy face or smiley it is the best w<br>here are you d eni me happy face or smil<br>ey timing skrnavljenje due me bold this <br>is the best song ever hahahahhaha d so t<br>rue happy face or smiley how to donald t<br>his odlina happy face or smiley",
           1
          ],
          [
           "please do you have to waste your time to<br> stupid messages like this one i can swi<br>tch to internet protocol from another co<br>untry in one minute",
           1
          ],
          [
           "shut up man shut up i did not do anythin<br>g click here for what i wrote to you a f<br>ew months ago",
           1
          ],
          [
           "sorry are you lost little boy the men ar<br>e talking please take your whining else <br>notice how nobody sad anything about cod",
           1
          ],
          [
           "i would not like to be called a redskin <br>but i am not one so i do not deserve it <br>unlike them",
           1
          ],
          [
           "it should be a crime for whites to marry<br> blacks",
           1
          ],
          [
           "tell me how i am vandalizing the play st<br>ation articles really i have done nothin<br>g to it now you got hours to respond or <br>i will contact somebody who can help me <br>out on this is that understood",
           1
          ],
          [
           "can i ask why people around the world ev<br>en go to the fast food chains why would <br>they want that shitty kentucky fried chi<br>cken or mcd made by joggers when they ca<br>ne joy quality japanese local foods",
           1
          ],
          [
           "would you like to be spat on and called <br>an ugly paki every day then keep sitting<br> in my spot",
           1
          ],
          [
           "a sta shut up missile sve debit not appl<br>icable plan",
           1
          ],
          [
           "do you know why this shameless muslim so<br>cialist is still so arrogant and believe<br>s in himself that he thinks he is such a<br> good politician ill tell you why so man<br>y stupid american voters per gruber that<br> are so gullible",
           1
          ],
          [
           "gun control itself specifically targets <br>minorities the entire reason gun control<br> exists is pure unadulterated racism big<br>ots like you wanted to keep the recently<br> freed slaves disarmed and subordinate t<br>hankfully we have grown from there",
           1
          ],
          [
           "a they are cowards accept it as such the<br>y are not fit to be anywhere near my cou<br>ntry",
           1
          ],
          [
           "your ignorant comments in response to yo<br>ur please do not remove content from wik<br>ipedia it is considered vandalism if you<br> would like to experiment please use the<br> sandbox thank you your record indicates<br> that you were banned as a vandal severa<br>l times and asked for a defense several <br>times also your record indicates that be<br>rtie video asked you to revert some legi<br>timate changes without reason and you di<br>d it because he asked you vandalizing go<br>od content that did not suit him or you <br>you should talk also please read your ow<br>n talk page regarding many other warning<br>s given to you by other users also be a <br>man at least try and deal with your own <br>talk page rather than begging others to <br>hold your hand before acting as a functi<br>onal illiterate you should have read the<br> pertinent prior discussion already took<br> place in the talk page on the removed c<br>ontent which has no place in a biography<br> by the way how is your boyfriend bertie<br> video doing i read sensational stuff on<br> his talk page which he keeps hiding did<br> you get to meet with his other boyfrien<br>ds yet",
           1
          ],
          [
           "pickeee i peter",
           1
          ],
          [
           "retarded blocking haha that guy that blo<br>cked me what a slut so retarded that ins<br>tead of blocking my name he blocked the <br>internet protocol address that i what a <br>slut using at the time how stupid is thi<br>s guy i mean seriously it would make mor<br>e sense to block my name since i do not <br>have any other names rather than my inte<br>rnet protocol address since i use multip<br>le computers",
           1
          ],
          [
           "what a complete babbling idiot trump mor<br>oninchief",
           1
          ],
          [
           "bastard borisjohnsonshouldnotbepm",
           1
          ],
          [
           "whah i wish whatever had socialist every<br> retard of america",
           1
          ],
          [
           "you re not very bright are you",
           1
          ],
          [
           "you going to ask first or just have your<br> where are you with it",
           1
          ],
          [
           "let us talk about opposite concepts like<br> immigrants and loyalty",
           1
          ],
          [
           "well they are certainly prettier than yo<br>u siddiqui ugly faces i suggest you keep<br> it that way certainly gives a much bett<br>er impression then you miserable siddiqu<br>is as far as i can see you are the bigge<br>st intellectual dishonest here judging b<br>y all the comments on your talk",
           1
          ],
          [
           "a barbican is a forefront anticompetitiv<br>e not mongoloid",
           1
          ],
          [
           "because of free trade um okay and you ac<br>cuse others of insanity",
           1
          ],
          [
           "if casey runs again in years i will seek<br> a nomination and run on a platform of c<br>alling him a vagina at every given event",
           1
          ],
          [
           "persoinal attack if you think i made a p<br>ersonal attack then you have some seriou<br>s issues maybe you re just the gay guy t<br>hat everyone picked on so you do not hav<br>e thick skin you can block me iot happen<br>s almost daily i might run out of ips so<br>on i only have about left though i run a<br>n internet service provider mate i own n<br>et ranges that is internet protocol addr<br>esses it means times why do not you just<br> get your hand off your penis and actual<br>ly look at the problem instead of being <br>a pussy about it because i know you do n<br>ot want to have to fix your broken page <br>every seconds with an open proxy robot d<br>efacing it",
           1
          ]
         ],
         "hovertemplate": "PCA1=%{x}<br>PCA2=%{y}<br>Text=%{customdata[0]}<br>True label=%{customdata[1]}<br>Predicted Label=%{marker.color}<extra></extra>",
         "legendgroup": "",
         "marker": {
          "color": [
           1,
           1,
           1,
           1,
           1,
           1,
           1,
           1,
           1,
           1,
           1,
           1,
           1,
           1,
           1,
           1,
           1,
           1,
           1,
           1,
           1,
           1,
           1,
           1,
           1,
           1,
           1,
           1,
           1,
           1,
           1,
           1,
           1,
           1,
           1,
           1,
           1,
           1,
           1,
           1,
           1,
           1,
           1,
           1,
           1,
           1,
           1,
           1,
           1,
           1,
           1,
           1,
           1,
           1,
           1,
           1,
           1,
           1,
           1,
           1,
           1,
           1,
           1,
           1,
           1,
           1,
           1,
           1,
           1,
           1,
           1,
           1,
           1,
           1,
           1,
           1,
           1,
           1,
           1,
           1,
           1,
           1,
           1,
           1,
           1,
           1,
           1,
           1,
           1,
           1,
           1,
           1,
           1,
           1,
           1,
           1,
           1,
           1,
           1,
           1,
           1,
           1,
           1,
           1,
           1,
           1,
           1,
           1,
           1,
           1,
           1,
           1,
           1,
           1,
           1,
           1,
           1,
           1,
           1,
           1,
           1,
           1,
           1,
           1,
           1,
           1,
           1,
           1,
           1,
           1,
           1,
           1,
           1,
           1,
           1,
           1,
           1,
           1,
           1,
           1,
           1,
           1,
           1,
           1,
           1,
           1,
           1,
           1,
           1,
           1,
           1,
           1,
           1,
           1,
           1,
           1,
           1,
           1,
           1,
           1,
           1,
           1,
           1,
           1,
           1,
           1,
           1,
           1,
           1,
           1,
           1,
           1,
           1,
           1,
           1,
           1,
           1,
           1,
           1,
           1,
           1,
           1,
           1,
           1,
           1,
           1,
           1,
           1,
           1,
           1,
           1,
           1,
           1,
           1,
           1,
           1,
           1,
           1,
           1,
           1,
           1,
           1,
           1,
           1,
           1,
           1,
           1,
           1,
           1,
           1,
           1,
           1,
           1,
           1,
           1,
           1,
           1,
           1,
           1,
           1,
           1,
           1,
           1,
           1,
           1,
           1,
           1,
           1,
           1,
           1,
           1,
           1,
           1,
           1,
           1,
           1,
           1,
           1,
           1,
           1,
           1,
           1,
           1,
           1,
           1,
           1,
           1,
           1,
           1,
           1,
           1,
           1,
           1,
           1,
           1,
           1,
           1,
           1,
           1,
           1,
           1,
           1,
           1,
           1,
           1,
           1,
           1,
           1,
           1,
           1,
           1,
           1,
           1,
           1,
           1,
           1,
           1,
           1,
           1,
           1,
           1,
           1,
           1,
           1,
           1,
           1,
           1,
           1,
           1,
           1,
           1,
           1,
           1,
           1,
           1,
           1,
           1,
           1,
           1,
           1,
           1,
           1,
           1,
           1,
           1,
           1,
           1,
           1,
           1,
           1,
           1,
           1,
           1,
           1,
           1,
           1,
           1,
           1,
           1,
           1,
           1,
           1,
           1,
           1,
           1,
           1,
           1,
           1,
           1,
           1,
           1,
           1,
           1,
           1,
           1,
           1,
           1,
           1,
           1,
           1,
           1,
           1,
           1,
           1,
           1,
           1,
           1,
           1,
           1,
           1,
           1,
           1,
           1,
           1,
           1,
           1,
           1,
           1,
           1,
           1,
           1,
           1,
           1,
           1,
           1,
           1,
           1,
           1,
           1,
           1,
           1,
           1,
           1,
           1,
           1,
           1,
           1,
           1,
           1,
           1,
           1,
           1,
           1,
           1,
           1,
           1,
           1,
           1,
           1,
           1,
           1,
           1,
           1,
           1,
           1,
           1,
           1,
           1,
           1,
           1,
           1,
           1,
           1,
           1,
           1,
           1,
           1,
           1,
           1,
           1,
           1,
           1,
           1,
           1,
           1,
           1,
           1,
           1,
           1,
           1,
           1,
           1,
           1,
           1,
           1,
           1,
           1,
           1,
           1,
           1,
           1,
           1,
           1,
           1,
           1,
           1,
           1,
           1,
           1,
           1,
           1,
           1,
           1,
           1,
           1,
           1,
           1,
           1,
           1,
           1,
           1,
           1,
           1,
           1,
           1,
           1,
           1,
           1,
           1,
           1,
           1,
           1,
           1,
           1,
           1,
           1,
           1,
           1,
           1,
           1,
           1,
           1,
           1,
           1,
           1,
           1,
           1,
           1,
           1,
           1,
           1,
           1,
           1,
           1,
           1,
           1,
           1,
           1,
           1,
           1,
           1,
           1,
           1,
           1,
           1,
           1,
           1,
           1,
           1,
           1,
           1,
           1,
           1,
           1,
           1,
           1,
           1,
           1,
           1,
           1,
           1,
           1,
           1,
           1,
           1,
           1,
           1,
           1,
           1,
           1,
           1,
           1,
           1,
           1,
           1,
           1,
           1,
           1,
           1,
           1,
           1,
           1,
           1,
           1,
           1,
           1,
           1,
           1,
           1,
           1,
           1,
           1,
           1,
           1,
           1,
           1,
           1,
           1,
           1,
           1,
           1,
           1,
           1,
           1,
           1,
           1,
           1,
           1,
           1,
           1,
           1,
           1,
           1,
           1,
           1,
           1,
           1,
           1,
           1,
           1,
           1,
           1,
           1,
           1,
           1,
           1,
           1,
           1,
           1,
           1,
           1,
           1,
           1,
           1,
           1,
           1,
           1,
           1,
           1,
           1,
           1,
           1,
           1,
           1,
           1,
           1,
           1,
           1,
           1,
           1,
           1,
           1,
           1,
           1,
           1,
           1,
           1,
           1,
           1,
           1,
           1,
           1,
           1,
           1,
           1,
           1,
           1,
           1,
           1,
           1,
           1,
           1,
           1,
           1,
           1,
           1,
           1,
           1,
           1,
           1,
           1,
           1,
           1,
           1,
           1,
           1,
           1,
           1,
           1,
           1,
           1,
           1,
           1,
           1,
           1,
           1,
           1,
           1,
           1,
           1,
           1,
           1,
           1,
           1,
           1,
           1,
           1,
           1,
           1,
           1,
           1,
           1,
           1,
           1,
           1,
           1,
           1,
           1,
           1,
           1,
           1,
           1,
           1,
           1,
           1,
           1,
           1,
           1,
           1,
           1,
           1,
           1,
           1,
           1,
           1,
           1,
           1,
           1,
           1,
           1,
           1,
           1,
           1,
           1,
           1,
           1,
           1,
           1,
           1,
           1,
           1,
           1,
           1,
           1,
           1,
           1,
           1,
           1,
           1,
           1,
           1,
           1,
           1,
           1,
           1,
           1,
           1,
           1,
           1,
           1,
           1,
           1,
           1,
           1,
           1,
           1,
           1,
           1,
           1,
           1,
           1,
           1,
           1,
           1,
           1,
           1,
           1,
           1,
           1,
           1,
           1,
           1,
           1,
           1,
           1,
           1,
           1,
           1,
           1,
           1,
           1,
           1,
           1,
           1,
           1,
           1,
           1,
           1,
           1,
           1,
           1,
           1,
           1,
           1,
           1,
           1,
           1,
           1,
           1,
           1,
           1,
           1,
           1,
           1,
           1,
           1,
           1,
           1,
           1,
           1,
           1,
           1,
           1,
           1,
           1,
           1,
           1,
           1,
           1,
           1,
           1,
           1,
           1,
           1,
           1,
           1,
           1,
           1,
           1,
           1,
           1,
           1,
           1,
           1,
           1,
           1,
           1,
           1,
           1,
           1,
           1,
           1,
           1,
           1,
           1,
           1,
           1,
           1,
           1,
           1,
           1,
           1,
           1,
           1,
           1,
           1,
           1,
           1,
           1,
           1,
           1,
           1,
           1,
           1,
           1,
           1,
           1,
           1,
           1,
           1,
           1,
           1,
           1,
           1,
           1,
           1,
           1,
           1,
           1,
           1,
           1,
           1,
           1,
           1,
           1,
           1,
           1,
           1,
           1,
           1,
           1,
           1,
           1,
           1,
           1,
           1,
           1,
           1,
           1,
           1,
           1,
           1,
           1,
           1,
           1,
           1,
           1,
           1,
           1,
           1,
           1,
           1,
           1,
           1,
           1,
           1,
           1,
           1,
           1,
           1,
           1,
           1,
           1,
           1,
           1,
           1,
           1,
           1,
           1,
           1,
           1,
           1,
           1,
           1,
           1,
           1,
           1,
           1,
           1,
           1,
           1,
           1,
           1,
           1,
           1,
           1,
           1,
           1,
           1,
           1,
           1,
           1,
           1,
           1,
           1,
           1,
           1,
           1,
           1,
           1,
           1,
           1,
           1,
           1,
           1,
           1,
           1,
           1,
           1,
           1,
           1,
           1,
           1,
           1,
           1,
           1,
           1,
           1,
           1,
           1,
           1,
           1,
           1,
           1,
           1,
           1,
           1,
           1,
           1,
           1,
           1,
           1,
           1,
           1,
           1,
           1,
           1,
           1,
           1,
           1,
           1,
           1,
           1,
           1,
           1,
           1,
           1,
           1,
           1,
           1,
           1,
           1,
           1,
           1,
           1,
           1,
           1,
           1,
           1,
           1,
           1,
           1,
           1,
           1,
           1,
           1,
           1,
           1,
           1,
           1
          ],
          "coloraxis": "coloraxis",
          "symbol": "circle"
         },
         "mode": "markers",
         "name": "",
         "orientation": "v",
         "showlegend": false,
         "type": "scatter",
         "x": [
          4444.174378258932,
          7954.108663090565,
          -159.5144811300538,
          7395.474008637417,
          -11524.488730029334,
          -7800.563018302003,
          26795.490091841253,
          -11775.075129014209,
          -9307.867703602791,
          -7697.661044408962,
          2140.344566383907,
          -8343.515517552256,
          -12057.20101884951,
          -3759.3608471193656,
          1469.9387143426752,
          -11205.928133916914,
          -6307.9791530588045,
          -10123.907462300827,
          -8455.341743859843,
          -10696.54755092792,
          14020.548154947553,
          -12451.766601337178,
          -10203.20607020233,
          10006.665042119334,
          5449.611367237108,
          -5676.3151256106985,
          54928.265248371485,
          -11078.231786393384,
          9967.386866852872,
          -12572.937472795404,
          -12283.15604753228,
          -7424.904616767436,
          -9202.89947684463,
          -11621.849634518821,
          -8772.91549265693,
          49078.87948794878,
          -12303.02909550927,
          -12223.411585164049,
          34143.37188801405,
          -7440.329836284051,
          -12116.983730627206,
          -9119.237543963634,
          14740.520437670119,
          1070.9059513980517,
          19142.543744692204,
          -9323.867407326154,
          -11821.904746409675,
          -7649.170994932681,
          -9745.333852259053,
          -11014.832055198316,
          -6068.912326755624,
          20258.15866782882,
          -7591.158719928553,
          -12208.851901410686,
          -12587.887103656125,
          -3586.1199547969195,
          13992.140479189991,
          -8549.255789015324,
          30387.15760188102,
          -10666.23592319998,
          -1211.2059968216624,
          -12096.01033865677,
          -7447.811184516162,
          -10562.635550453855,
          21927.588385813626,
          -6216.778534863478,
          5011.002585279125,
          -10896.55215812689,
          7241.509783737873,
          11301.449036353606,
          4291.439168188186,
          -12050.213658282819,
          41078.04070630648,
          16669.213175696008,
          -12082.796847714515,
          -5171.058563495874,
          -10812.958945366283,
          14314.104133410461,
          -12129.363376029904,
          -11867.123942873519,
          -8601.840017728238,
          -9019.878071338304,
          -7003.142622103559,
          -3873.2904366943767,
          8353.930961319895,
          -10359.095539482163,
          -9066.075383606083,
          43704.122201263526,
          -10635.51516717992,
          22338.517029905892,
          -2294.4063703821594,
          -9772.588826173862,
          -5490.846619453949,
          -10649.626597967617,
          -2363.2824473704804,
          -7884.186482902749,
          12980.141728496827,
          -9992.313987271478,
          9868.14842453457,
          15974.31305123354,
          -6569.055734317618,
          9864.169945402637,
          1944.84287247631,
          33190.210621039696,
          -1781.6424842018814,
          -4054.667266531026,
          1773.2005805741355,
          -6052.929618828572,
          2870.513661720749,
          -11801.159380020184,
          19687.16140736872,
          -12349.414269984494,
          49346.48098542689,
          -11862.366060536202,
          52935.22208694361,
          16941.914015668714,
          6140.26025162433,
          3435.9298158454917,
          8268.995132361615,
          19938.88747498348,
          20986.140372633556,
          25492.740543389078,
          -7604.42562168896,
          -5569.974753319112,
          -6150.6128454627515,
          -9645.338894884399,
          -7001.873032762692,
          -7356.5855584708615,
          -12388.85879301078,
          -2724.2834639865364,
          11820.845806212932,
          -11908.682078664715,
          -6736.363487336002,
          573.9596480192884,
          -8964.620922084127,
          5456.535805639349,
          4208.915401020226,
          -8106.984319538055,
          45725.89292460741,
          -8572.691907193152,
          2817.2738300986953,
          12977.927090430163,
          -12356.049496782724,
          3252.849339400854,
          8209.527537903168,
          -4168.2772095800565,
          -6903.723730067455,
          24824.30592410633,
          -11994.014200702895,
          -11399.260207416593,
          16575.794390345345,
          -12405.176655332602,
          -5180.06377301124,
          22821.549808390755,
          -2008.7479820932192,
          -452.6174194081566,
          1003.0875604937135,
          31854.484080968577,
          -11341.081256902156,
          -8910.995431905694,
          -1422.390027078303,
          -12375.36458708855,
          94.2774965250819,
          -3066.4417191011903,
          -6961.313767772104,
          -12621.628566607289,
          -1729.8429396713466,
          34054.59705394354,
          132.2802489493145,
          -11835.829683746617,
          54057.51085336915,
          20649.615359427105,
          -4232.275649197291,
          -8.47443695478904,
          7006.308626672672,
          -10879.663851275625,
          -11949.909292641529,
          -3082.2914926107433,
          8834.299892874564,
          2744.0563931338334,
          7999.799587241577,
          11247.601756422568,
          2565.1430412591285,
          79927.32700104841,
          29328.751531481063,
          14170.6792413109,
          44371.97509471777,
          -12331.633877702165,
          -12537.66816619196,
          3634.49685659143,
          -11983.943580514846,
          -10796.723942443452,
          -2698.4459629766056,
          15958.119304953527,
          -12330.204206725117,
          40754.76595767267,
          -10658.599463891422,
          18166.486820467147,
          7092.253075458573,
          -11747.522664982414,
          42312.42304633973,
          23366.227862477983,
          -3286.8793477864147,
          -10045.576889472517,
          -8454.16444973044,
          38073.05838753582,
          30506.37708518593,
          -8843.19726917245,
          -11940.151779637183,
          56348.37323989156,
          -10853.27743272804,
          2413.356384301978,
          -10286.633783575726,
          -3769.937382219761,
          6810.140218764759,
          -12210.724669945032,
          -10178.337711867844,
          -11434.868046533757,
          2051.5501539723446,
          -12317.018200391016,
          -3393.7750675475877,
          -11219.431861116078,
          -10070.039125786714,
          -10626.32473078892,
          -740.6183695395994,
          7566.288054020881,
          26277.327697793513,
          -12004.192918204704,
          -12117.916529670809,
          7482.829622638306,
          37364.20404427188,
          58213.562602712474,
          -10159.233782962736,
          -10568.943919372507,
          9206.830335244076,
          -10221.53116901018,
          -6592.539117893952,
          34345.559854618965,
          -7275.550026976325,
          -7943.896462398069,
          21314.810356764236,
          23944.961178929978,
          45524.95497575161,
          -11357.955669715864,
          14386.896922034464,
          -12302.194161163869,
          371.6592039530607,
          -5774.008384811879,
          -11892.798072732687,
          30337.20859064213,
          13912.119468771469,
          -7682.8011079410935,
          40478.404242186116,
          -5531.8945088947785,
          17250.558819537095,
          4613.833922956254,
          -9675.694123041749,
          -12495.369474043115,
          -9150.290094155755,
          -10848.365852638943,
          40659.922325261694,
          4053.6208412589185,
          26064.377697029035,
          -12502.963937390869,
          -9748.178411002917,
          -3621.7889539532907,
          -2115.020440348,
          -10214.872923991077,
          794.5310779678665,
          -10369.85078479115,
          44715.25665136387,
          -7909.263747375141,
          -10452.873739180392,
          10194.288145542687,
          -11553.552871444785,
          -4138.407907900991,
          1976.9217409886053,
          26737.247048027,
          -12220.717368561845,
          -10353.177038531836,
          5541.98780016372,
          -8059.63235697543,
          -5105.58627848212,
          -7772.801165538249,
          37994.16839685239,
          10636.713496971879,
          -8692.301836147557,
          -9003.026685476349,
          41973.69138295627,
          -11775.04818664535,
          -11916.328982998728,
          9980.279628570472,
          14203.10187058833,
          32739.06907225717,
          4993.516151742713,
          -4660.199287458578,
          -7143.568005997551,
          27446.42847790605,
          17966.946171139512,
          -7494.020045709101,
          -12537.775702445559,
          5486.722319323359,
          -8247.470103463507,
          -222.66355182552164,
          -12328.98732585794,
          18962.54998143428,
          -4759.759342971118,
          35278.77828559352,
          -4527.858058361835,
          -3763.8949188484953,
          -5141.429180534296,
          15477.309179488713,
          -11837.271725712524,
          -7308.950615656589,
          43078.66518626217,
          -7206.106189846472,
          1970.460610399195,
          48976.308331138505,
          9526.475837227588,
          -7199.1456788923115,
          -5134.868332522239,
          -970.3197956578338,
          30856.307033857862,
          -11276.667776683149,
          -10841.260132429203,
          -8996.252516258626,
          -12445.941105569413,
          20321.37575899396,
          -10562.603541871249,
          -8529.791431088837,
          10587.257245294208,
          -3939.021204012959,
          -12434.963810939047,
          31551.202186649174,
          -9696.901245985091,
          24613.00745565458,
          -7647.092240561383,
          185.05867493375644,
          -2128.753650986265,
          -10884.400501733746,
          -10941.70580408222,
          -12574.730660019144,
          -7358.153967659078,
          60591.57277383727,
          -12535.105835459251,
          -3679.327423000001,
          -12532.013883167474,
          48044.38748836114,
          37067.16392350898,
          9733.244778763035,
          -11831.639334454843,
          -10279.04603013139,
          1805.7684889474483,
          14828.855620557859,
          3213.9410033576746,
          12337.737594078297,
          -7586.167747993987,
          -3634.9022106754887,
          -10725.746821599381,
          -1757.51810484442,
          21058.982990918896,
          27536.81800661862,
          -10369.18839195373,
          -12069.460754797134,
          -11725.241157465805,
          -11770.61298192083,
          20639.73675590997,
          33014.07220860412,
          24168.46555775524,
          41600.09597083535,
          32327.55987140555,
          -6101.844296960257,
          -10883.188393826238,
          11085.14995268616,
          56844.740972446576,
          -11412.930186038768,
          22785.502811774717,
          -9461.549514069104,
          -12319.478751912879,
          -11951.356428501744,
          -1884.769882744316,
          6331.190725002655,
          37114.23645157268,
          -10586.611130330677,
          43660.1976557844,
          54501.78327617851,
          -12256.693960145887,
          -8883.593573650793,
          -6263.30103708137,
          -12300.68935307808,
          65758.99423359439,
          -11042.502383154017,
          -11815.009393197199,
          10496.633021186986,
          -1188.1939085185886,
          9253.533564735128,
          8946.194649542269,
          313.67636804383943,
          -11756.826189682788,
          -8181.780923540649,
          22742.13637779998,
          -12317.665355725385,
          18893.1263338377,
          -1644.8647887119703,
          -12542.617724544949,
          15306.807291602348,
          26849.85945523783,
          11775.10346861847,
          -12043.904369306012,
          -10980.19069927898,
          -8867.699963774076,
          27831.1060043235,
          -6060.67757287529,
          -9096.004040708065,
          -10799.023044904145,
          22461.160871218133,
          1265.6541526807778,
          -11335.079144772102,
          15000.881425544678,
          -11870.665420167337,
          -11650.101556415611,
          -9866.147089861686,
          -12469.549344401836,
          13361.004601532515,
          22232.457046301686,
          -5978.659571160796,
          20496.362564591174,
          26169.63485313028,
          -6619.513269968564,
          18012.825430764355,
          42.59622634018215,
          -12302.147853542832,
          -3797.714261458235,
          -3391.2165846614507,
          -6173.726030042829,
          -1525.0073801196381,
          12835.551191989773,
          -12364.427835910234,
          -2583.0681259551125,
          -12431.275880186095,
          -3450.454717448639,
          -11595.44491176511,
          -12324.060789141064,
          -6856.959009062884,
          -7846.861045636701,
          -2188.424787745964,
          53282.98956962662,
          -11690.214040128672,
          27302.092129870347,
          -6354.019281413707,
          -8126.603737578938,
          -9052.01679129307,
          -7207.058729336242,
          38.66269735158314,
          -3680.8441363198053,
          -2076.404583369394,
          -889.946179999944,
          -10855.18969581968,
          -3649.6851267997645,
          -11650.047547413142,
          -2868.6505856142785,
          8514.77044439058,
          6332.518403160178,
          17871.759954183497,
          -8989.932621434808,
          15567.312459560946,
          -6941.8666095268945,
          -12218.337543156053,
          2139.630506078114,
          -5925.036255611352,
          -9206.418045185077,
          -9982.629870255903,
          -7831.0401114109045,
          47511.394445573096,
          -1640.9363329493078,
          34196.176452066306,
          -7034.824439212154,
          -11872.416540618822,
          32931.76092099857,
          39998.022109278754,
          -5642.919491648399,
          59101.38137624705,
          23775.907411419616,
          4888.701035379513,
          5445.874249575333,
          18044.16600128195,
          45500.27235704998,
          -9856.883133243404,
          -1358.0783075509923,
          -12124.467203708746,
          -4000.7986845540477,
          -11955.1830108113,
          -5338.285887694403,
          -10335.817178642965,
          -5358.224246877348,
          -10424.628868173546,
          -10653.659549822964,
          9365.484703404993,
          3987.095003705205,
          -2213.771948230249,
          -12274.114923102963,
          3287.615988341956,
          1179.2156619562472,
          -11009.010796745335,
          11634.64723449801,
          -5041.265865163974,
          22325.243629082917,
          -1518.285925487504,
          -937.7287866407186,
          -9527.2486409855,
          -12281.384971381893,
          -12169.045192164796,
          -6552.082638115476,
          10192.841830275054,
          -10973.024109100488,
          -931.801661318402,
          -9370.336471245357,
          -11527.73129906866,
          -10269.774446698935,
          -11886.50973854781,
          -8840.24823915789,
          -12523.866502392935,
          -11960.777553671713,
          -12280.174605871269,
          5401.5117842777045,
          523.892930213576,
          -11369.904463375886,
          35061.78429567797,
          -7254.296930161271,
          6929.483871740339,
          -10832.222997563882,
          -12153.590132872052,
          -12379.299934129107,
          43692.814394983485,
          -2919.66026173964,
          -7678.961481162073,
          115221.40467406593,
          -8570.539999054856,
          -11042.433249296859,
          -8818.660869804868,
          -9245.098387617096,
          -5930.301103011783,
          17187.746278759827,
          -5953.464116557596,
          701.0216606182377,
          17300.917092959884,
          -10944.047838737917,
          -12489.442656645819,
          -9978.377234927093,
          41474.20038691009,
          -3304.1875317543854,
          -6389.707260890653,
          -12298.143160812404,
          -12334.208384764288,
          -11296.752376782255,
          -6993.345308494459,
          -10881.540682424999,
          1457.8343738326917,
          -12145.16701791114,
          8065.211869858848,
          -10898.160416410125,
          21442.30928394452,
          -5775.929231995642,
          15771.900452539363,
          -12372.283525124383,
          -12218.217722207752,
          16844.836277466282,
          -10770.353501862064,
          -11998.776356364147,
          -9942.142976648345,
          -391.34112002786543,
          -11498.135522709026,
          -12360.81054699803,
          -12508.247865063207,
          -8468.844194329104,
          1786.0205292157495,
          -7320.914896129233,
          -12305.689109326355,
          12164.60566729841,
          -7813.76996535529,
          24954.028067744723,
          -9908.111799957023,
          -11024.890718148561,
          714.8475421775618,
          -12549.249891521376,
          -12112.48588640125,
          -7072.406881130486,
          -11989.359984826751,
          2047.6660691881098,
          -10563.401391137593,
          -5098.459366708751,
          -12168.537348510798,
          -10144.377712825792,
          -10187.416995471296,
          24770.727746668654,
          -9698.521418193619,
          -8327.930304287269,
          -9499.218018602758,
          -12196.403130658238,
          -10500.688918952723,
          -12158.60341428534,
          -7443.451314056649,
          -10555.361776567048,
          -8072.03148895551,
          -12645.302637768871,
          -12467.112592814372,
          -8901.828242166324,
          39848.11654159117,
          -8019.975177110768,
          -8428.09941803706,
          48279.52750967533,
          -11990.545964145454,
          19.804407501695724,
          -10163.178290772179,
          -10553.886665957758,
          24954.377445661063,
          -5081.447001756213,
          -12616.880175582177,
          5854.276894571849,
          -11608.743705834515,
          -11705.41403236817,
          -5531.203108075794,
          -11941.147174118538,
          11365.829791320271,
          -10534.311402424255,
          -12190.486346644024,
          -12452.051008533579,
          -11092.100056753072,
          -8954.323056669255,
          -9942.148091484958,
          -12426.824480839125,
          57409.22586748231,
          -10995.50494841487,
          -12384.066047121481,
          -11667.515798205452,
          -3843.735992179737,
          -12504.48050402808,
          -9649.412018943902,
          13731.025380515677,
          -10219.063517788927,
          16413.261324636424,
          -8686.094794560127,
          -7646.526994304771,
          -1891.5095061344016,
          -11423.72563016479,
          -11797.536710438399,
          -10760.53290945489,
          -11011.02247075925,
          -10876.578109783082,
          -11964.040758984976,
          -6284.608353383155,
          -11387.401261061359,
          -4918.34314246207,
          6165.779614281894,
          -5046.151280635054,
          -7899.561223770139,
          -9189.682650511137,
          6722.158597490665,
          8120.412543288004,
          -12137.838849602364,
          -10203.615200365526,
          -10213.413503109086,
          9178.957105669499,
          -8753.201314160857,
          -4826.698961311929,
          -9457.841493173379,
          -9954.696835822431,
          -12026.430666648326,
          -5569.984255558897,
          -11780.700767676395,
          -11899.934138421851,
          -9536.9035528284,
          -9637.215774936682,
          -8846.209223186925,
          -9148.551583793278,
          -12385.113107061883,
          -12330.385636868501,
          -11752.64564366535,
          7522.97530400258,
          20741.89296363108,
          -6985.306848857958,
          -12196.243864998363,
          -8859.333116611951,
          -10702.622251206183,
          -4626.604907093506,
          -12176.668946838092,
          -5921.97107952138,
          -11673.013221124662,
          -3378.3389920213554,
          -11273.185240805235,
          5507.652028982653,
          -10876.925397649817,
          -10797.514029694828,
          -12454.145805325314,
          -12153.000383536644,
          -8447.416004949107,
          -460.24285469942066,
          -11959.812948637467,
          7759.1113470602695,
          -12325.716978908726,
          33097.533479259306,
          -7803.395387375763,
          -12031.726886617924,
          36608.779529901905,
          -12515.455730780786,
          -8700.340212233188,
          -11726.760460616355,
          -11226.844729806055,
          -11615.63592849272,
          31194.086219445948,
          -11214.74370470891,
          1655.2565415082397,
          -12362.41431285794,
          -1125.9478403137514,
          -12177.488985227435,
          -12155.69144072315,
          -11257.465098361567,
          -11572.76000932155,
          -8913.35436705605,
          -5019.093540875496,
          4025.4259470002307,
          50624.012238036645,
          -9664.788497132497,
          -10341.790677612831,
          26255.878662756168,
          -7668.325108615419,
          -12404.841132530606,
          -7452.288044839218,
          -7998.670840388721,
          -12388.475961350123,
          6030.731128796179,
          -10122.569595915335,
          -11156.110589535021,
          -4200.254424303758,
          -10832.097960829546,
          -6020.570052695969,
          -9087.051724986652,
          -10674.610144606686,
          -9187.179415648347,
          12713.33222358506,
          -11478.735371043107,
          -6401.9214598882645,
          -8677.349245274772,
          -11429.533233777174,
          -7208.120552488057,
          -3882.4142794417826,
          -10553.384406646313,
          198.5844391287376,
          -12356.943998462284,
          5851.416793420302,
          -8811.029813369012,
          -5934.308116429118,
          -10278.353244693417,
          1254.704821742537,
          -2089.7626686457725,
          -6486.259131185985,
          -11297.808682912571,
          -40.5750224500167,
          -11067.891968970807,
          -11096.78059026938,
          -12031.533499888057,
          958.8710899195527,
          53357.44958889755,
          -3171.5440614504546,
          -9166.300297327043,
          -10155.981078203356,
          -12086.749248864096,
          -8379.701733273698,
          -10841.669644359125,
          -7470.017498200462,
          5320.282861367615,
          17317.07153536114,
          -9555.364488601901,
          -11622.905165587665,
          -6142.736821238008,
          -12300.034754582739,
          32012.701152931386,
          -8789.123840008244,
          -12310.910388320475,
          -12518.75017338882,
          -11717.19808426142,
          305.64979260066934,
          -11730.909047857136,
          -10067.104701472043,
          -11488.71271988439,
          -8832.533680735141,
          946.9642312311097,
          -12558.955580898199,
          -6523.202229215049,
          9067.40634091203,
          -9947.143923279067,
          20813.804843798822,
          -12242.94547789823,
          -11793.108841779576,
          -11509.90154192803,
          17241.923156501427,
          -6436.020007764923,
          -10087.868139858703,
          -7758.917161063361,
          -2840.9537817411683,
          49559.96906470406,
          -9881.885015122542,
          -5901.208296121056,
          -8955.525805017796,
          4114.497834993205,
          -7497.625629611295,
          -12096.84868536406,
          -11627.589831295027,
          3037.598395953399,
          -2981.538417030311,
          -8570.212167775517,
          -3376.822134981799,
          14309.038954351492,
          -10591.033784405348,
          -1223.6678372289036,
          -10877.974574128537,
          -12366.435897840116,
          23211.866046714822,
          37956.67378790057,
          28557.137791555524,
          -7490.325486473842,
          -12482.996599129809,
          -11538.204627264726,
          -10182.138903185449,
          7213.013493263566,
          2204.6409474843726,
          -11062.90142312145,
          -8905.415961395822,
          -6435.578762351164,
          -7094.724114867534,
          13764.442515161845,
          -10432.923645672752,
          -7704.56978666934,
          3425.712648344282,
          -11738.437633020914,
          28344.96695453684,
          5973.98464256167,
          -1138.5524875585745,
          13127.765825236937,
          7993.701457161298,
          -9589.833006556482,
          -3657.211702776371,
          -7058.565773913271,
          -11861.409082675387,
          -9994.344806381621,
          40882.871809134565,
          14000.733738396531,
          19621.505284624844,
          -12239.983996323366,
          7791.20816946479,
          -8680.787952334356,
          -1812.1381730332132,
          -2665.481519409849,
          -242.74966119097405,
          5178.136964654512,
          -12485.949927631738,
          10130.447291572453,
          20869.050566847265,
          21606.810718332858,
          -12423.985823260025,
          9478.29589957851,
          -6189.047430104879,
          -7826.762634745925,
          -635.9175316259052,
          -12542.34852295112,
          -12302.271866233996,
          -1197.8779540402338,
          -4473.058110806759,
          -12206.867421086292,
          -12427.44910463661,
          -10545.769773391055,
          -12204.222958059072,
          -6934.390049913873,
          -4916.785084030812,
          -8207.63726520643,
          -12461.107088621298,
          -11785.385259318968,
          -5619.173509653151,
          -5953.663128136103,
          -11205.124994987511,
          6423.74225913263,
          -5245.311376484403,
          4384.478547072118,
          -12052.34182228164,
          -12545.183325672617,
          -7715.367112995648,
          -7618.040856654768,
          -11220.408639198287,
          -8708.461820045293,
          -7819.118413890819,
          -1325.6146915233255,
          44272.798037953304,
          -12102.945459367435,
          5945.578546044057,
          -10197.568377595966,
          -12223.695222009557,
          47580.835452878295,
          -7993.166090335456,
          -702.0641030224526,
          -7044.818346379308,
          -8932.825485528718,
          -9421.000680984838,
          -10115.59643196055,
          -6975.103415438867,
          -9096.402550143728,
          -7378.194481014694,
          -10612.889851166547,
          -12527.530963740288,
          -4464.998142643842,
          -7855.811799480494,
          -7768.807246545521,
          -11281.224604099887,
          -1634.8540771776836,
          -1463.0366680516217,
          -5325.694908386237,
          -5685.740705454526,
          -12134.605190456592,
          -1569.1817563860754,
          484.8681187983484,
          -12439.093126340544,
          2653.456015072713,
          11649.795938840558,
          5349.599998113756,
          -9506.620111137054,
          -10900.863992263394,
          -11444.727318235497,
          -12244.67835402798,
          896.0987730141495,
          -4120.58600567072,
          3915.096069492452,
          2056.9755976527663,
          -7856.890726259056,
          -7000.631165562921,
          -6738.658509887364,
          -8248.613795774541,
          -10084.379987762204,
          -9384.16727192819,
          3937.1773762227213,
          -8299.044138677169,
          -9036.299412435443,
          -12289.52158180371,
          -61.447566447794046,
          -7521.944752284965,
          -10947.352578180464,
          -12012.484455573478,
          -10879.511130464072,
          -11689.397114529163,
          -12100.343034134574,
          -12375.712128040004,
          -3302.077205372955,
          2442.9802688787395,
          3028.6561745183476,
          -956.0795640252692,
          -12454.487339677105,
          -7571.08859765387,
          -12257.421717901943,
          -2038.051835744322,
          -8122.408903377427,
          -8614.336736168883,
          -12101.299422646822,
          -9375.137389166177,
          -11060.843302391113,
          -1185.9470031079618,
          -11035.615122403631,
          -11354.935563293797,
          17698.690428078273,
          11937.653915443827,
          10654.948043644426,
          -10017.11908917768,
          9088.012594786287,
          -9993.87617976063,
          -11514.655138128093,
          42846.144928444235,
          61146.683793152275,
          -7385.535943349995,
          -9606.225105836846,
          -4897.552661637308,
          -8821.587677883696,
          -11475.05877028289,
          -3497.9625107915317,
          5612.7647691484535,
          -7803.909391284339,
          -9964.236427198788,
          6564.7158687610145,
          8534.321893934735,
          -10078.726660472046,
          33578.108467678816,
          -12423.556348365917,
          12159.513474466117,
          -9794.902005620264,
          -10374.578874613006,
          -11072.418138776373,
          -12452.717207042442,
          -11664.738055069804,
          -11368.107322920061,
          12110.379254710888,
          -8098.303363563054,
          -9443.40215255269,
          -5395.148924126159,
          24557.464595232414
         ],
         "xaxis": "x",
         "y": [
          -8953.862280700972,
          -17094.66914291961,
          -9623.081929587468,
          -16671.156782536033,
          7821.35447354523,
          113.93575311654341,
          -3053.8987183784516,
          7223.710467374872,
          2201.2983206552103,
          -1668.096756814455,
          -3702.296477655121,
          811.121711647182,
          8349.734423410982,
          -9728.370317696294,
          -12571.057756851302,
          6940.582231055191,
          -1747.6141950996644,
          1783.5767973963762,
          1374.7297130084523,
          4356.726335813975,
          -8121.794379790513,
          8946.749440397669,
          4040.1057588245994,
          -17286.76397351712,
          -7341.704939924507,
          -2031.6210497270256,
          20198.992707009405,
          6022.768308899692,
          -2827.036228083149,
          8545.080226636452,
          8627.054686651602,
          -1193.2640935399143,
          679.5657165439245,
          6842.834620947615,
          1550.3552348054566,
          38030.23478565982,
          8929.244311569732,
          8279.917931848588,
          -15316.247659458597,
          -2482.603238779169,
          8723.787537492157,
          1770.5092604504262,
          -10227.188254133078,
          -4968.673858136492,
          -18858.21643437545,
          -1046.1723578289698,
          7996.088989250341,
          883.3397129996304,
          3179.2462435612288,
          6551.947191965511,
          -3080.0876101720132,
          -4935.885330173232,
          -1981.6727766207582,
          8593.074184394794,
          9233.460104729573,
          -4945.073946088854,
          357.0542986070565,
          872.2140931364356,
          -24402.57434235831,
          4660.459437674783,
          -5515.453532317255,
          8786.338027030584,
          -1514.6787773547335,
          5163.489741046454,
          -15691.057697731809,
          -4709.374919487077,
          -12703.655735712888,
          5379.092738326575,
          -15936.41496099333,
          -2521.182694046495,
          -12888.400416808836,
          8619.476200239613,
          7445.139931413936,
          -4773.677258834016,
          8847.416088111922,
          -3225.5118186306745,
          4954.1086616943985,
          -11298.270532303586,
          8808.422379533415,
          6523.228871372175,
          412.1841613430075,
          1768.197814774075,
          -1376.5174674925274,
          -5730.504138863809,
          -14338.05109084755,
          4547.649398719789,
          2435.140195252911,
          4648.523349003959,
          4443.4853018272515,
          -23008.793809750096,
          -16075.089129720809,
          3109.2296503261473,
          -4085.685614585505,
          4572.096256708822,
          -6051.347712966429,
          -429.0480545669632,
          -3926.8914660368764,
          2034.426637069442,
          10090.47712930979,
          -6140.286104582137,
          -1454.871859620792,
          -11089.748210347807,
          -6375.3298733386655,
          5196.724190892176,
          -4976.741623835026,
          -5261.999015651916,
          -5916.762080708762,
          -527.7906853697161,
          -12613.036583158017,
          7783.751728803474,
          -8668.72869324451,
          9281.737460457482,
          22570.83261130641,
          8858.047050325278,
          28704.052996040646,
          -11614.42032317714,
          -5061.951351309574,
          -14204.374465439945,
          -16033.627682843164,
          -13222.585892116535,
          3664.225271802443,
          -12576.522009247125,
          1186.8237028414615,
          -2860.6028565958927,
          -2239.0929700858355,
          2113.748673630804,
          -833.876803576895,
          638.977285330754,
          8759.60452430381,
          -6784.753052446242,
          -10132.633485699946,
          6281.508348144033,
          -8171.278125210394,
          -7588.77776874234,
          2170.670474851634,
          -6906.563089965559,
          -9788.67256320524,
          492.88294023084126,
          27564.25309681882,
          1400.127706256969,
          -10838.723211045346,
          -16037.31180196677,
          8090.27668577486,
          -17045.034027961014,
          -6108.525368746126,
          -3933.76703737799,
          -501.0734791914871,
          -9058.354159297618,
          9154.10214303701,
          5957.44228650947,
          -1897.4118513897747,
          9110.51896665082,
          -1482.004752224644,
          -16516.530703142642,
          -6372.027982633696,
          -9990.929847554944,
          -15814.577476073235,
          -6686.300321929662,
          6529.706373526955,
          -184.5051899026758,
          -8021.408242361876,
          9684.749257156634,
          -12002.145333441746,
          -7858.780855024199,
          -4732.028393877329,
          7928.928290560946,
          -6440.55335034072,
          -38290.935939648705,
          -4669.294817736478,
          7783.550255957678,
          13260.869492562078,
          -15445.32564463133,
          -1539.6841494349737,
          -6418.426502806226,
          -12783.66217209184,
          5332.473251129779,
          8415.974230336169,
          -6068.905179386686,
          -9879.022962963494,
          -10016.303456776717,
          -8028.553375512479,
          -14723.960131944237,
          -8390.42739116621,
          25440.38858475391,
          8566.25940359403,
          -21028.62776467979,
          29106.494138593313,
          8159.276856069556,
          9618.553647503471,
          -8691.394619852896,
          8356.053654908976,
          5209.768094233383,
          -8244.359292330202,
          -22750.39415464985,
          9336.961580882387,
          19177.734277729487,
          3487.311932285457,
          -6942.989097368152,
          -14244.061657865874,
          8453.547034068648,
          12508.75444437773,
          -10283.096461083433,
          -10972.62916758203,
          4522.473319756822,
          -2728.6697912840386,
          13840.69281097566,
          1937.3922964239785,
          63.9961620882367,
          8311.006398114143,
          27489.81572579972,
          4899.484692281966,
          -3573.587150728152,
          3670.8629491696393,
          -3623.449952507747,
          -18456.715730096126,
          8790.543383426164,
          4667.541401020493,
          6935.8203856221135,
          -5377.1240367261535,
          9065.664163705495,
          -8499.128461549879,
          6204.099060751233,
          2822.9177488999303,
          4657.002534062097,
          -9776.265300882285,
          1759.6162127750742,
          12414.143990716459,
          7354.258905351139,
          8265.33319747532,
          -13977.424673237134,
          -209.95005819045392,
          22477.401900895566,
          4185.2227705360265,
          5222.502079052067,
          -10965.16111532823,
          4277.485672308982,
          -2883.6403211062534,
          24269.32591358716,
          -3647.8906342862456,
          1834.482728127429,
          9610.472950182359,
          -8105.824769661804,
          25158.086605382166,
          6330.989624351035,
          -5464.60743070165,
          9640.978811922176,
          -12430.620352273298,
          -5422.9444313072645,
          5257.9438330810535,
          -15790.161437184383,
          -21132.839571662684,
          -2658.0163814162484,
          23576.836684185695,
          -525.3419977606001,
          -23946.911985709303,
          -11312.81973145387,
          3498.0666140434078,
          9309.129019805963,
          472.7292816376294,
          5420.016007027602,
          28757.067119019368,
          -12924.854119640282,
          5990.589232928695,
          9857.662500273218,
          2570.444940660934,
          -3982.296730322978,
          -11359.700347767153,
          3211.963397105881,
          -5877.009901835208,
          1079.3842973560556,
          15939.729880875117,
          1462.7395593114302,
          4274.421550683798,
          -7402.813970589407,
          5065.167416550034,
          -3881.1505712705393,
          -9831.643765552239,
          8583.659791961052,
          7889.094887288713,
          3474.429448630934,
          -14041.852474027803,
          -1085.2047951527709,
          -8031.488975430948,
          -1466.0182322580943,
          13739.407530439068,
          -9044.68394666811,
          1217.3078439028086,
          2077.74165778263,
          22025.72309005904,
          7365.776345855198,
          8004.633494470903,
          -3379.0475994151966,
          -7012.951019298011,
          3291.620014352205,
          -2781.8759631397666,
          -5138.694824020603,
          -2496.4813959000876,
          10526.338833881158,
          -7610.292028404064,
          -300.04168161768564,
          9596.956054049795,
          -11963.242585456543,
          -339.6168428449315,
          -4619.239026053339,
          9095.698313337763,
          -9172.676507821658,
          -8800.032471425146,
          12366.624253757213,
          -5006.269458043999,
          -4288.626969362558,
          -3389.865348691138,
          -21436.604471163668,
          7926.725133079903,
          -1006.6126215155662,
          12969.333067240788,
          -1750.255444164147,
          -10713.538634567982,
          17353.672826891743,
          -26720.73402542208,
          -3003.490223642681,
          -2966.0322556088217,
          -4679.960894977108,
          5383.763035683774,
          6773.574242536398,
          5622.825609275225,
          203.27225875616983,
          9135.475434693612,
          -2589.7058500808203,
          5066.734378607358,
          497.8346417367851,
          -7065.988142678916,
          -7587.242115475707,
          9026.531420334171,
          4484.676807096039,
          1446.1033501034874,
          -26564.510590368056,
          -1866.7380969751864,
          -12642.7188345172,
          -10835.697202004256,
          5630.111267179671,
          6613.178921176481,
          7730.698760479882,
          1501.4317829846175,
          25588.76925210776,
          9867.090442484467,
          -4590.482669280958,
          9480.920753065864,
          28445.41992549268,
          382.33769632784674,
          -16161.355012010566,
          7632.765129525494,
          3030.7878660345873,
          -5943.388522412077,
          -16363.12219613215,
          -5184.760153543312,
          -1575.152977509313,
          -397.308686389896,
          -3377.4513761909916,
          5141.903438608323,
          -5711.984205825329,
          -858.7886524404414,
          8159.644454146224,
          3873.5276041230054,
          7170.791182102141,
          8160.960958393318,
          5408.588455623379,
          2411.432988434301,
          -6704.851587069069,
          -12470.24599859461,
          19421.899255326327,
          1316.1179585910381,
          -950.8211657183782,
          5597.579898270864,
          -9400.608989637783,
          22533.1955309825,
          5338.4997407308465,
          1803.42366001913,
          3495.5370823111634,
          9094.605605663599,
          8135.749310570627,
          -10407.076850779087,
          -7618.9397476523445,
          3912.951495061461,
          4739.308462176663,
          2587.2376983043728,
          6947.810404615728,
          8630.67022844148,
          2371.5049354133566,
          309.2432570090494,
          8695.254712624828,
          39451.298506267856,
          5842.736668131917,
          6986.368630619458,
          -10891.592027698283,
          -9136.292448818822,
          -5398.558055371716,
          -15612.126800516593,
          -3003.8215610114103,
          8252.729332382823,
          -1292.6379309085012,
          5324.0752782590225,
          8930.121515550138,
          -2512.56444582645,
          -4434.096751003149,
          9748.078908309357,
          -20506.63297590748,
          -17853.505040774773,
          -14611.63431729287,
          8511.452820581517,
          5184.234116095436,
          -272.41333105287055,
          8062.942910637524,
          -78.78770587319562,
          2320.7708400065235,
          4539.311022874507,
          4248.311876469038,
          -11212.71899515524,
          6314.793433134463,
          -13483.131806958118,
          7770.250878115461,
          7594.039285556023,
          2798.659457943663,
          9176.794037203294,
          -32856.306153760364,
          -9658.301743400332,
          -3575.2933031590705,
          -5109.854138709959,
          3651.912305009769,
          -1503.5331581805692,
          -9509.633049918357,
          -7352.814903249742,
          7828.762075208423,
          -6539.477679681582,
          -5393.695593155181,
          -1828.614341718799,
          -8956.916911237558,
          -11828.245810210143,
          9135.111469029542,
          -13492.777623086582,
          8992.695060061757,
          -4048.8981524427736,
          6654.748648859321,
          8771.656722405081,
          -1422.8058894359208,
          705.5946890851905,
          -10212.056915782527,
          35414.910450276766,
          7536.79868328061,
          12016.923995361825,
          -2715.6184475837003,
          -1114.1913766180924,
          1007.204880474654,
          -3228.8261337145887,
          -2516.450593713287,
          -2454.4964501804047,
          -2225.6448942507545,
          -5502.304372100648,
          4335.030266711839,
          -6493.813953546421,
          7770.669117905158,
          -8276.781806943074,
          -12233.732698316899,
          -15275.763560277155,
          -1468.5769250100439,
          1886.756794504441,
          -15178.803914717815,
          -2911.6212894969894,
          9659.512338144503,
          -13047.51066954483,
          -2457.839205916052,
          2588.3955702441467,
          4333.4906746232755,
          -1170.4446484486743,
          17817.266241746627,
          -10925.425939025992,
          -18372.317647990352,
          628.881608708475,
          7697.357369744435,
          3278.7945693111296,
          13448.631047193716,
          -6698.381583533255,
          37922.17677128955,
          -1424.7024968942076,
          -5844.524118305856,
          -11570.550792879627,
          3413.0269801188592,
          26375.863417903143,
          3563.2635150868387,
          -6867.6691612589475,
          8039.893611146367,
          -4128.846418411367,
          8212.722972226655,
          -11845.783764030435,
          4272.734844389767,
          -2709.5253171994514,
          3178.8031533335225,
          4637.731228911254,
          -19494.56255399422,
          -18581.41602111051,
          -7983.411129209038,
          7377.710271324656,
          -6226.57032353415,
          -11225.995721169906,
          5804.309359433314,
          -8317.221816973695,
          -6852.531932372398,
          -16187.261538075238,
          -11042.564155771819,
          -17224.31368202472,
          2514.9525046518647,
          7515.7964674334025,
          7293.0992745134645,
          -2277.67476172952,
          -10145.57134417294,
          6077.224549060161,
          -2125.298431246863,
          1559.3092017381546,
          7321.920460154338,
          4156.033427742672,
          6555.857448549384,
          489.53358195776883,
          7651.512432207192,
          7824.1729160218465,
          7217.777910446788,
          -3733.499068798392,
          -8421.707632268084,
          5031.4714312968,
          9819.734279198581,
          -1471.930510839111,
          -6246.043313765204,
          5526.652245047092,
          8763.687781376171,
          7623.110865720054,
          -6374.361155207911,
          -7390.638826783173,
          911.6537157950647,
          26217.674653729544,
          -365.0253008057972,
          5685.154971106822,
          923.8379088494739,
          1247.6875785119712,
          -2520.962474348991,
          -13874.487885492625,
          -2801.000822926042,
          -10314.567113523819,
          -31793.469797824204,
          6419.6741732863275,
          9562.73743862217,
          2930.938168390098,
          16526.2478000911,
          -3013.560501097894,
          -3276.6598130834427,
          9579.683612090976,
          9107.212282829783,
          6900.2567821899365,
          -260.3026013859245,
          5455.57918046441,
          -8145.85758516625,
          8395.361539378999,
          -9047.14396650545,
          5571.855382228938,
          -953.8191414704795,
          -1424.4729424606876,
          -12933.862760396107,
          8955.636898989445,
          9553.716288854566,
          -34039.86977143993,
          3472.8941961510795,
          9011.870060642595,
          1906.4443154085207,
          -11465.83106713434,
          6780.6809202771565,
          8768.912785902883,
          9092.42074294571,
          -445.9409267127337,
          -5208.227409487791,
          -2738.7135445637873,
          7863.176587038175,
          -14585.94565555216,
          -2194.473994225154,
          -9863.764542967074,
          2516.506116553399,
          5157.384964917327,
          -8640.109092137105,
          9522.126083538791,
          6951.008162403511,
          -3528.189839358052,
          8639.363894247455,
          -13963.037314633986,
          3812.7160043634735,
          -7006.389856368157,
          7840.4940511565765,
          1723.95318691092,
          4397.9269844906285,
          -7791.694544806752,
          2618.2747359750706,
          -637.9483190443445,
          1755.8904738854465,
          9332.439577004356,
          4770.955902319571,
          8361.870021772453,
          -4025.0638216916273,
          5488.5716342077385,
          1042.8671887844923,
          7808.712907737202,
          8983.676934566043,
          647.5824971166512,
          17793.6585259189,
          206.24284904143735,
          892.3064777557036,
          7866.620107141858,
          6778.946394740769,
          -12106.972354870515,
          2278.948511840279,
          4996.734501168352,
          8691.783195543967,
          -4365.176427910484,
          8031.307595778618,
          -5353.747530334306,
          8333.519009055519,
          5933.305716016453,
          -4298.89420274315,
          8280.070217897,
          -9207.89344500122,
          4756.092822018427,
          9132.708638340539,
          9758.089170430554,
          6030.779325090495,
          479.57943488048295,
          3785.914669562325,
          9179.894992446716,
          34096.61965922983,
          4682.093182089707,
          9283.531243594247,
          6731.509567536812,
          -4923.855720060728,
          9189.937156728596,
          3577.7794317112853,
          -15811.60773302217,
          3582.461307563291,
          -1845.789020142529,
          -750.2358941250367,
          -1937.0707404907141,
          -4669.631302571925,
          7050.102200389214,
          7846.947007031283,
          4932.44070271472,
          5987.336204974236,
          5082.153623667632,
          8317.590181080735,
          -3854.4539818537737,
          6815.157079097434,
          -2839.2253724045067,
          -12006.405687392034,
          -3621.3870481847102,
          -628.8655620324494,
          1706.8588650261884,
          -15102.126947682715,
          -11032.095871117417,
          8894.115002073198,
          3856.1146495961516,
          3100.913808250798,
          -27911.46993687443,
          70.22643199664634,
          -6521.293334315663,
          2188.224334867878,
          3611.4497144065485,
          7741.809666816819,
          -8376.826158779872,
          7959.687468048855,
          8347.295381202663,
          1307.4377969045183,
          2917.694443064184,
          174.69217549913736,
          1478.9263369523055,
          8950.342377445388,
          8548.87089888012,
          7488.86019355283,
          -13764.810906913734,
          -11064.032651020903,
          -2885.378179311531,
          9027.689660851094,
          -356.8101956355373,
          3738.9001963169867,
          -3303.706526377295,
          8876.795173058039,
          -192.6635834809693,
          7374.143946464352,
          -8657.606162465445,
          6222.192233763186,
          -5471.865426737441,
          5415.817954346533,
          4297.5713120425,
          9212.380944267798,
          8911.21440536818,
          415.36029992446845,
          -11626.917650984857,
          8510.364629718399,
          -15893.661803101997,
          8491.933811847737,
          -31134.555133571757,
          1296.281265294363,
          8430.450082122572,
          20204.74935893018,
          9667.221641055956,
          599.4023880645464,
          7848.906943204781,
          5761.4726753930445,
          7283.266403851252,
          23022.764162122472,
          6461.533925365278,
          -1141.6219451215177,
          8608.377648812433,
          -13341.130675820115,
          7780.796939330839,
          8733.081939882872,
          5874.118724468987,
          6959.675134395411,
          -112.52699417871669,
          -6835.063512746643,
          -17434.565048836324,
          19448.594415347452,
          2307.8358589334207,
          2981.279457545519,
          -2567.3191346838307,
          -2028.261322306901,
          8394.33384698229,
          470.6838895328947,
          -451.6565652668489,
          9828.02806536353,
          -13925.875388343915,
          3500.8620409693212,
          6889.881787473514,
          -6636.07916040625,
          5305.349986087765,
          -3750.5162748741463,
          1632.2683116401033,
          4168.461550093986,
          1714.207074820794,
          -3711.3099001486707,
          7838.8459188031975,
          -3566.456857531313,
          2131.8504581038405,
          6800.606910921656,
          -1202.1524155904328,
          -5085.500327857849,
          3637.1982335360226,
          -11871.333989808736,
          8828.31111610749,
          -8027.365125092347,
          -137.23738899584467,
          365.37258135902556,
          5778.003368550556,
          -14245.758668350856,
          -2023.7116045662087,
          -4034.218375926871,
          6522.470714921498,
          -3157.005866868647,
          6176.1858007485625,
          6193.272086581823,
          5014.920445001241,
          -10335.653003936888,
          33352.87770682766,
          -12591.200497313983,
          2336.0272888557147,
          3762.4813993957023,
          8086.744980440729,
          -1331.2557034780048,
          5401.496742884676,
          -1161.473495635074,
          -23605.921395585057,
          -27136.661234707957,
          3021.934470178756,
          7248.6862563412205,
          -3847.3752810614187,
          8311.279047723569,
          5901.139480794431,
          1325.8484313382817,
          8629.905887736795,
          9152.057135908735,
          6786.435790520994,
          -11906.65624931272,
          7184.2325193398265,
          3308.245784711151,
          6929.508461815218,
          395.5049370813677,
          -5140.446706383532,
          9119.787102514214,
          -166.6831224064278,
          -14943.301085032748,
          3151.4675797958967,
          -30375.69137047985,
          8440.629466077822,
          7138.974395688087,
          7240.475976944105,
          -19657.286399171902,
          -2730.5477213882737,
          3871.1401627620567,
          -1149.5834565052817,
          -2072.5360375408436,
          37671.941262357854,
          2921.7175332973598,
          -3458.246360484902,
          1968.8176705942938,
          -18003.865937295017,
          -1468.7400455943873,
          8426.950139773,
          7679.960606484445,
          -14298.166807307629,
          -10686.11537789165,
          651.6343195012996,
          -3836.015736356124,
          -5644.9476812432795,
          5191.312329460044,
          -8651.530749731959,
          5664.224762265659,
          10125.359343543474,
          5142.196574475797,
          -24623.49246651701,
          -17544.563701781553,
          -2884.8093971677495,
          8863.788640645718,
          8342.343561654126,
          4272.507978309785,
          -22323.82204434826,
          -12588.183675665903,
          6821.664427094043,
          229.5442823052444,
          -3539.410181305578,
          -1456.3136341059783,
          -14219.090686593036,
          4961.549284179716,
          273.3017324078408,
          -19209.582323932304,
          7351.465157977019,
          443.730409347096,
          -11498.184949243168,
          -6785.332049141098,
          -12054.01805332129,
          -4970.431086535298,
          2307.4581598085006,
          -5300.271553889644,
          -3572.5321409494354,
          8260.361591495124,
          1893.8397442452851,
          -1302.5919335573387,
          -20048.6142247666,
          -19963.290433375187,
          7529.706958058122,
          -10583.12976443744,
          -771.8370088390624,
          -3780.3503120406567,
          -6925.963883429127,
          -11591.802425591986,
          -12206.928022516264,
          9411.754671548302,
          -11754.300766518078,
          -11635.67871158801,
          -3767.674299363803,
          9756.734807546716,
          -17780.047924865838,
          -3891.7406182762966,
          965.1177210338788,
          -10035.498792366647,
          8754.97371790455,
          7756.850191243632,
          -4621.463417442555,
          -8863.020148502104,
          9287.809017556832,
          9274.69228162896,
          4714.914967692452,
          8851.779757200753,
          -295.24985485353443,
          -6337.046819687825,
          911.3458883516064,
          9042.395294482383,
          7686.185912067352,
          -5297.225730699198,
          -3291.3897674038008,
          6507.154213467267,
          -12851.274549515907,
          -1594.5656655761832,
          -8246.863370479245,
          7923.607343405819,
          9359.441170869877,
          -1456.750188683371,
          -1850.9136606202158,
          5715.102880016875,
          112.34715172090341,
          -1797.0259833857951,
          -7551.22756783914,
          -7550.2807949571015,
          9189.465862087955,
          -2029.0367330820634,
          3894.575396055935,
          9045.063011100417,
          9154.140339212514,
          -2503.3460035103244,
          -13712.443413077155,
          -4098.368828380315,
          165.17564983009808,
          1976.480083900944,
          4646.1827212921935,
          -2598.8633722566187,
          580.9311573014959,
          -2866.530897717087,
          4599.955408324158,
          9541.678836836867,
          -3927.339992712613,
          -1225.186901754704,
          -505.53140006970324,
          6111.115088584695,
          -4776.971052141428,
          -10155.167789098254,
          -5536.342013490732,
          -2222.120930014641,
          9267.390784950236,
          -4604.420407096558,
          -16286.02835299763,
          9802.08642156551,
          -3655.1298966220515,
          169.45044057334206,
          -11814.593110119176,
          1286.1153561894882,
          5785.5905007817555,
          5549.322420223263,
          9227.21357151015,
          -2499.6573028935404,
          -4215.758444939973,
          -16354.332058678836,
          -6428.390318613637,
          -1095.385002111158,
          -2829.4671812860092,
          432.563592414918,
          -1209.6782865636783,
          4449.340873455054,
          1897.0060555580785,
          -14928.245544383612,
          1019.7374463172356,
          969.3416427397888,
          8599.47543445505,
          -8649.314074160087,
          -429.5652436187298,
          5595.803517765624,
          7961.97300751239,
          5614.047878328134,
          7146.685030683089,
          8517.151889119588,
          9498.452540244203,
          -5987.394528892824,
          -13922.28620544421,
          -6954.328233738297,
          -9055.711348390134,
          8972.345448229345,
          -770.7542036808791,
          9471.912332445801,
          -9417.13398930103,
          945.7426948026866,
          2232.540135621608,
          7744.406341685735,
          1210.2379621039665,
          5577.474859293766,
          -8525.71057966228,
          6324.727881738583,
          6545.123794584329,
          -7186.313417256946,
          -21727.78455244927,
          -14954.29700161684,
          3098.2039848443837,
          -26139.98802377285,
          3814.555724675497,
          6468.9493371296785,
          26916.505287181037,
          -3985.8466884504264,
          129.9305704947608,
          2975.7642038015006,
          -4314.037242796695,
          1632.662306950791,
          6547.940318430408,
          -2322.6402239074614,
          -13049.707480497054,
          -897.7746007237772,
          2492.2686953059647,
          -9432.162042117074,
          -19503.122453650354,
          3163.8255179919715,
          16200.47954046248,
          9519.224690741936,
          -9339.495891362867,
          2170.1510674979186,
          3130.0097109226763,
          5958.944786516546,
          9240.88631852461,
          7284.553040138381,
          6950.068002462351,
          -14008.014931906953,
          -3169.384829232515,
          1816.928448505282,
          -3128.5220773595756,
          12768.441663726537
         ],
         "yaxis": "y"
        }
       ],
       "layout": {
        "coloraxis": {
         "colorbar": {
          "title": {
           "text": "Predicted Label"
          }
         },
         "colorscale": [
          [
           0,
           "#0d0887"
          ],
          [
           0.1111111111111111,
           "#46039f"
          ],
          [
           0.2222222222222222,
           "#7201a8"
          ],
          [
           0.3333333333333333,
           "#9c179e"
          ],
          [
           0.4444444444444444,
           "#bd3786"
          ],
          [
           0.5555555555555556,
           "#d8576b"
          ],
          [
           0.6666666666666666,
           "#ed7953"
          ],
          [
           0.7777777777777778,
           "#fb9f3a"
          ],
          [
           0.8888888888888888,
           "#fdca26"
          ],
          [
           1,
           "#f0f921"
          ]
         ]
        },
        "legend": {
         "tracegroupgap": 0
        },
        "template": {
         "data": {
          "bar": [
           {
            "error_x": {
             "color": "#2a3f5f"
            },
            "error_y": {
             "color": "#2a3f5f"
            },
            "marker": {
             "line": {
              "color": "#E5ECF6",
              "width": 0.5
             },
             "pattern": {
              "fillmode": "overlay",
              "size": 10,
              "solidity": 0.2
             }
            },
            "type": "bar"
           }
          ],
          "barpolar": [
           {
            "marker": {
             "line": {
              "color": "#E5ECF6",
              "width": 0.5
             },
             "pattern": {
              "fillmode": "overlay",
              "size": 10,
              "solidity": 0.2
             }
            },
            "type": "barpolar"
           }
          ],
          "carpet": [
           {
            "aaxis": {
             "endlinecolor": "#2a3f5f",
             "gridcolor": "white",
             "linecolor": "white",
             "minorgridcolor": "white",
             "startlinecolor": "#2a3f5f"
            },
            "baxis": {
             "endlinecolor": "#2a3f5f",
             "gridcolor": "white",
             "linecolor": "white",
             "minorgridcolor": "white",
             "startlinecolor": "#2a3f5f"
            },
            "type": "carpet"
           }
          ],
          "choropleth": [
           {
            "colorbar": {
             "outlinewidth": 0,
             "ticks": ""
            },
            "type": "choropleth"
           }
          ],
          "contour": [
           {
            "colorbar": {
             "outlinewidth": 0,
             "ticks": ""
            },
            "colorscale": [
             [
              0,
              "#0d0887"
             ],
             [
              0.1111111111111111,
              "#46039f"
             ],
             [
              0.2222222222222222,
              "#7201a8"
             ],
             [
              0.3333333333333333,
              "#9c179e"
             ],
             [
              0.4444444444444444,
              "#bd3786"
             ],
             [
              0.5555555555555556,
              "#d8576b"
             ],
             [
              0.6666666666666666,
              "#ed7953"
             ],
             [
              0.7777777777777778,
              "#fb9f3a"
             ],
             [
              0.8888888888888888,
              "#fdca26"
             ],
             [
              1,
              "#f0f921"
             ]
            ],
            "type": "contour"
           }
          ],
          "contourcarpet": [
           {
            "colorbar": {
             "outlinewidth": 0,
             "ticks": ""
            },
            "type": "contourcarpet"
           }
          ],
          "heatmap": [
           {
            "colorbar": {
             "outlinewidth": 0,
             "ticks": ""
            },
            "colorscale": [
             [
              0,
              "#0d0887"
             ],
             [
              0.1111111111111111,
              "#46039f"
             ],
             [
              0.2222222222222222,
              "#7201a8"
             ],
             [
              0.3333333333333333,
              "#9c179e"
             ],
             [
              0.4444444444444444,
              "#bd3786"
             ],
             [
              0.5555555555555556,
              "#d8576b"
             ],
             [
              0.6666666666666666,
              "#ed7953"
             ],
             [
              0.7777777777777778,
              "#fb9f3a"
             ],
             [
              0.8888888888888888,
              "#fdca26"
             ],
             [
              1,
              "#f0f921"
             ]
            ],
            "type": "heatmap"
           }
          ],
          "heatmapgl": [
           {
            "colorbar": {
             "outlinewidth": 0,
             "ticks": ""
            },
            "colorscale": [
             [
              0,
              "#0d0887"
             ],
             [
              0.1111111111111111,
              "#46039f"
             ],
             [
              0.2222222222222222,
              "#7201a8"
             ],
             [
              0.3333333333333333,
              "#9c179e"
             ],
             [
              0.4444444444444444,
              "#bd3786"
             ],
             [
              0.5555555555555556,
              "#d8576b"
             ],
             [
              0.6666666666666666,
              "#ed7953"
             ],
             [
              0.7777777777777778,
              "#fb9f3a"
             ],
             [
              0.8888888888888888,
              "#fdca26"
             ],
             [
              1,
              "#f0f921"
             ]
            ],
            "type": "heatmapgl"
           }
          ],
          "histogram": [
           {
            "marker": {
             "pattern": {
              "fillmode": "overlay",
              "size": 10,
              "solidity": 0.2
             }
            },
            "type": "histogram"
           }
          ],
          "histogram2d": [
           {
            "colorbar": {
             "outlinewidth": 0,
             "ticks": ""
            },
            "colorscale": [
             [
              0,
              "#0d0887"
             ],
             [
              0.1111111111111111,
              "#46039f"
             ],
             [
              0.2222222222222222,
              "#7201a8"
             ],
             [
              0.3333333333333333,
              "#9c179e"
             ],
             [
              0.4444444444444444,
              "#bd3786"
             ],
             [
              0.5555555555555556,
              "#d8576b"
             ],
             [
              0.6666666666666666,
              "#ed7953"
             ],
             [
              0.7777777777777778,
              "#fb9f3a"
             ],
             [
              0.8888888888888888,
              "#fdca26"
             ],
             [
              1,
              "#f0f921"
             ]
            ],
            "type": "histogram2d"
           }
          ],
          "histogram2dcontour": [
           {
            "colorbar": {
             "outlinewidth": 0,
             "ticks": ""
            },
            "colorscale": [
             [
              0,
              "#0d0887"
             ],
             [
              0.1111111111111111,
              "#46039f"
             ],
             [
              0.2222222222222222,
              "#7201a8"
             ],
             [
              0.3333333333333333,
              "#9c179e"
             ],
             [
              0.4444444444444444,
              "#bd3786"
             ],
             [
              0.5555555555555556,
              "#d8576b"
             ],
             [
              0.6666666666666666,
              "#ed7953"
             ],
             [
              0.7777777777777778,
              "#fb9f3a"
             ],
             [
              0.8888888888888888,
              "#fdca26"
             ],
             [
              1,
              "#f0f921"
             ]
            ],
            "type": "histogram2dcontour"
           }
          ],
          "mesh3d": [
           {
            "colorbar": {
             "outlinewidth": 0,
             "ticks": ""
            },
            "type": "mesh3d"
           }
          ],
          "parcoords": [
           {
            "line": {
             "colorbar": {
              "outlinewidth": 0,
              "ticks": ""
             }
            },
            "type": "parcoords"
           }
          ],
          "pie": [
           {
            "automargin": true,
            "type": "pie"
           }
          ],
          "scatter": [
           {
            "fillpattern": {
             "fillmode": "overlay",
             "size": 10,
             "solidity": 0.2
            },
            "type": "scatter"
           }
          ],
          "scatter3d": [
           {
            "line": {
             "colorbar": {
              "outlinewidth": 0,
              "ticks": ""
             }
            },
            "marker": {
             "colorbar": {
              "outlinewidth": 0,
              "ticks": ""
             }
            },
            "type": "scatter3d"
           }
          ],
          "scattercarpet": [
           {
            "marker": {
             "colorbar": {
              "outlinewidth": 0,
              "ticks": ""
             }
            },
            "type": "scattercarpet"
           }
          ],
          "scattergeo": [
           {
            "marker": {
             "colorbar": {
              "outlinewidth": 0,
              "ticks": ""
             }
            },
            "type": "scattergeo"
           }
          ],
          "scattergl": [
           {
            "marker": {
             "colorbar": {
              "outlinewidth": 0,
              "ticks": ""
             }
            },
            "type": "scattergl"
           }
          ],
          "scattermapbox": [
           {
            "marker": {
             "colorbar": {
              "outlinewidth": 0,
              "ticks": ""
             }
            },
            "type": "scattermapbox"
           }
          ],
          "scatterpolar": [
           {
            "marker": {
             "colorbar": {
              "outlinewidth": 0,
              "ticks": ""
             }
            },
            "type": "scatterpolar"
           }
          ],
          "scatterpolargl": [
           {
            "marker": {
             "colorbar": {
              "outlinewidth": 0,
              "ticks": ""
             }
            },
            "type": "scatterpolargl"
           }
          ],
          "scatterternary": [
           {
            "marker": {
             "colorbar": {
              "outlinewidth": 0,
              "ticks": ""
             }
            },
            "type": "scatterternary"
           }
          ],
          "surface": [
           {
            "colorbar": {
             "outlinewidth": 0,
             "ticks": ""
            },
            "colorscale": [
             [
              0,
              "#0d0887"
             ],
             [
              0.1111111111111111,
              "#46039f"
             ],
             [
              0.2222222222222222,
              "#7201a8"
             ],
             [
              0.3333333333333333,
              "#9c179e"
             ],
             [
              0.4444444444444444,
              "#bd3786"
             ],
             [
              0.5555555555555556,
              "#d8576b"
             ],
             [
              0.6666666666666666,
              "#ed7953"
             ],
             [
              0.7777777777777778,
              "#fb9f3a"
             ],
             [
              0.8888888888888888,
              "#fdca26"
             ],
             [
              1,
              "#f0f921"
             ]
            ],
            "type": "surface"
           }
          ],
          "table": [
           {
            "cells": {
             "fill": {
              "color": "#EBF0F8"
             },
             "line": {
              "color": "white"
             }
            },
            "header": {
             "fill": {
              "color": "#C8D4E3"
             },
             "line": {
              "color": "white"
             }
            },
            "type": "table"
           }
          ]
         },
         "layout": {
          "annotationdefaults": {
           "arrowcolor": "#2a3f5f",
           "arrowhead": 0,
           "arrowwidth": 1
          },
          "autotypenumbers": "strict",
          "coloraxis": {
           "colorbar": {
            "outlinewidth": 0,
            "ticks": ""
           }
          },
          "colorscale": {
           "diverging": [
            [
             0,
             "#8e0152"
            ],
            [
             0.1,
             "#c51b7d"
            ],
            [
             0.2,
             "#de77ae"
            ],
            [
             0.3,
             "#f1b6da"
            ],
            [
             0.4,
             "#fde0ef"
            ],
            [
             0.5,
             "#f7f7f7"
            ],
            [
             0.6,
             "#e6f5d0"
            ],
            [
             0.7,
             "#b8e186"
            ],
            [
             0.8,
             "#7fbc41"
            ],
            [
             0.9,
             "#4d9221"
            ],
            [
             1,
             "#276419"
            ]
           ],
           "sequential": [
            [
             0,
             "#0d0887"
            ],
            [
             0.1111111111111111,
             "#46039f"
            ],
            [
             0.2222222222222222,
             "#7201a8"
            ],
            [
             0.3333333333333333,
             "#9c179e"
            ],
            [
             0.4444444444444444,
             "#bd3786"
            ],
            [
             0.5555555555555556,
             "#d8576b"
            ],
            [
             0.6666666666666666,
             "#ed7953"
            ],
            [
             0.7777777777777778,
             "#fb9f3a"
            ],
            [
             0.8888888888888888,
             "#fdca26"
            ],
            [
             1,
             "#f0f921"
            ]
           ],
           "sequentialminus": [
            [
             0,
             "#0d0887"
            ],
            [
             0.1111111111111111,
             "#46039f"
            ],
            [
             0.2222222222222222,
             "#7201a8"
            ],
            [
             0.3333333333333333,
             "#9c179e"
            ],
            [
             0.4444444444444444,
             "#bd3786"
            ],
            [
             0.5555555555555556,
             "#d8576b"
            ],
            [
             0.6666666666666666,
             "#ed7953"
            ],
            [
             0.7777777777777778,
             "#fb9f3a"
            ],
            [
             0.8888888888888888,
             "#fdca26"
            ],
            [
             1,
             "#f0f921"
            ]
           ]
          },
          "colorway": [
           "#636efa",
           "#EF553B",
           "#00cc96",
           "#ab63fa",
           "#FFA15A",
           "#19d3f3",
           "#FF6692",
           "#B6E880",
           "#FF97FF",
           "#FECB52"
          ],
          "font": {
           "color": "#2a3f5f"
          },
          "geo": {
           "bgcolor": "white",
           "lakecolor": "white",
           "landcolor": "#E5ECF6",
           "showlakes": true,
           "showland": true,
           "subunitcolor": "white"
          },
          "hoverlabel": {
           "align": "left"
          },
          "hovermode": "closest",
          "mapbox": {
           "style": "light"
          },
          "paper_bgcolor": "white",
          "plot_bgcolor": "#E5ECF6",
          "polar": {
           "angularaxis": {
            "gridcolor": "white",
            "linecolor": "white",
            "ticks": ""
           },
           "bgcolor": "#E5ECF6",
           "radialaxis": {
            "gridcolor": "white",
            "linecolor": "white",
            "ticks": ""
           }
          },
          "scene": {
           "xaxis": {
            "backgroundcolor": "#E5ECF6",
            "gridcolor": "white",
            "gridwidth": 2,
            "linecolor": "white",
            "showbackground": true,
            "ticks": "",
            "zerolinecolor": "white"
           },
           "yaxis": {
            "backgroundcolor": "#E5ECF6",
            "gridcolor": "white",
            "gridwidth": 2,
            "linecolor": "white",
            "showbackground": true,
            "ticks": "",
            "zerolinecolor": "white"
           },
           "zaxis": {
            "backgroundcolor": "#E5ECF6",
            "gridcolor": "white",
            "gridwidth": 2,
            "linecolor": "white",
            "showbackground": true,
            "ticks": "",
            "zerolinecolor": "white"
           }
          },
          "shapedefaults": {
           "line": {
            "color": "#2a3f5f"
           }
          },
          "ternary": {
           "aaxis": {
            "gridcolor": "white",
            "linecolor": "white",
            "ticks": ""
           },
           "baxis": {
            "gridcolor": "white",
            "linecolor": "white",
            "ticks": ""
           },
           "bgcolor": "#E5ECF6",
           "caxis": {
            "gridcolor": "white",
            "linecolor": "white",
            "ticks": ""
           }
          },
          "title": {
           "x": 0.05
          },
          "xaxis": {
           "automargin": true,
           "gridcolor": "white",
           "linecolor": "white",
           "ticks": "",
           "title": {
            "standoff": 15
           },
           "zerolinecolor": "white",
           "zerolinewidth": 2
          },
          "yaxis": {
           "automargin": true,
           "gridcolor": "white",
           "linecolor": "white",
           "ticks": "",
           "title": {
            "standoff": 15
           },
           "zerolinecolor": "white",
           "zerolinewidth": 2
          }
         }
        },
        "title": {
         "text": "Wizualizacja przestrzeni wektorowej prób testowych"
        },
        "xaxis": {
         "anchor": "y",
         "domain": [
          0,
          1
         ],
         "title": {
          "text": "PCA1"
         }
        },
        "yaxis": {
         "anchor": "x",
         "domain": [
          0,
          1
         ],
         "title": {
          "text": "PCA2"
         }
        }
       }
      }
     },
     "metadata": {},
     "output_type": "display_data"
    }
   ],
   "source": [
    "pca = PCA(n_components=2).fit_transform(embeddings['input_ids'])\n",
    "\n",
    "df_pca = pd.DataFrame(pca, columns=['PCA1', 'PCA2'])\n",
    "df_pca['Predicted Label']  = [predicted_labels[i] for i in range(len(predicted_labels))]\n",
    "df_pca['Text'] = text['text']\n",
    "df_pca['True label'] = [true_labels[i] for i in range(len(true_labels))]\n",
    "\n",
    "fig = px.scatter(df_pca, x=\"PCA1\", y=\"PCA2\", color=\"Predicted Label\", hover_data={'Text': True, 'True label': True}, title=\"Wizualizacja przestrzeni wektorowej prób testowych\",\n",
    "                labels={\"PC1\": \"Pierwsza składowa główna\", \"PC2\": \"Druga składowa główna\"})\n",
    "fig.show()"
   ]
  },
  {
   "cell_type": "markdown",
   "metadata": {},
   "source": [
    "#### TSNE"
   ]
  },
  {
   "cell_type": "code",
   "execution_count": 26,
   "metadata": {},
   "outputs": [
    {
     "data": {
      "application/vnd.plotly.v1+json": {
       "config": {
        "plotlyServerURL": "https://plot.ly"
       },
       "data": [
        {
         "customdata": [
          [
           "it is out of place as it stands there is<br> a section on general literary criticism<br> of rand and then an entire section by s<br>pouse discussing only the fountainhead i<br>f it belongs at all it belongs in the ar<br>ticle on the fountainhead not here",
           0
          ],
          [
           "princess sophie of albania sophie what a<br> slut princess consort of albania and sh<br>e what a slut know for this fact in goog<br>le search princess sophie of schonburg w<br>aldenburg about results princess sophie <br>of albania about results",
           0
          ],
          [
           "feminist legend of zelda series katamari<br> damage ok forget my last statement i do<br> not think the social scene is suited fo<br>r you go see the year old virgin maybe t<br>hat will cheer you up totalooo",
           0
          ],
          [
           "since there is obviously a lot of contro<br>versy regarding this or lack thereof i a<br>m reverting on the assumption that the d<br>eletions constituted a disruptive edit w<br>hen the policy is clear and reached by c<br>onsensus i will go along",
           0
          ],
          [
           "charlie daniels goes off on satanic evil",
           0
          ],
          [
           "to dear your help will be welcome here h<br>ow do i appeal to a higher level authori<br>ty on an editing dispute thank you wh",
           0
          ],
          [
           "yes let us berate the new editor with no<br> experience and no idea by then relegati<br>ng their arguments to a version of own n<br>ice to have a comment that violates own <br>and civil in one fell swoop while also s<br>tating they re on a path to nowhere henc<br>e showing every reference to consensus w<br>hat a slut a sham because despite your c<br>laims of arguing with me being pointless<br> you have admitted having no interest at<br> all to bringing the article in lines wi<br>th wikipedia standards because hey it is<br> your article talk",
           0
          ],
          [
           "voice over talents use your voice to ear<br>n up to daily",
           0
          ],
          [
           "let us know when you have joined and wha<br>tever can give you another well deserved<br> cheer",
           0
          ],
          [
           "unblock reason decline i am declining yo<br>ur request for unblock because it does n<br>ot address the reason",
           0
          ],
          [
           "come on even years later and do not reme<br>mber any actual details of the event thi<br>s is nothing but another liberal doing w<br>hatever it takes to stop a conservative <br>the real shame here is seeing what liber<br>als will do to get their way you should <br>be the one that should feel ashamed",
           0
          ],
          [
           "hooey born airways flight number where d<br>id you find the hooey born airways fligh<br>t number",
           0
          ],
          [
           "there are a lot of women in my place of <br>work",
           0
          ],
          [
           "med line plus overview medical publicati<br>on with overview and discussion of trace<br>rs discusses spontaneous resolution trea<br>tment and recovery duke university overv<br>iew",
           0
          ],
          [
           "he what a slut despised by the eu as wha<br>t a slut a nationalist and therefore sto<br>od for everything that the eu what a slu<br>t against that is professional family va<br>lues proud of his culture etc",
           0
          ],
          [
           "promo page this entry reads like a promo<br> page",
           0
          ],
          [
           "walter lamar scott please read my reques<br>t on the talk page and fix the name they<br> have his name misspelled i provided a s<br>ource and everything",
           0
          ],
          [
           "atrabilious ah truh bil yus adj",
           0
          ],
          [
           "loving my life cannot wait to keep livin<br>g it with my best friend happy face or s<br>miley",
           0
          ],
          [
           "when her nudes trash you got to draw clo<br>thes back on her and send them back",
           0
          ],
          [
           "it does not make sense to have quotes fr<br>om iraqi scientists describing it as a n<br>uclear weapons program yet simultaneousl<br>y say that the reactor could not be used<br> for nuclear weapons these are contradic<br>tory i do not really know enough to know<br> how to reconcile them but they obviousl<br>y have to be reconciled somehow i do not<br> think your suggested addition works bec<br>ause it does not address the issue of th<br>e scientists",
           0
          ],
          [
           "that is just one of the theories",
           0
          ],
          [
           "me too it is going to be awesome eeek on<br>e week",
           0
          ],
          [
           "for reference do not like the available <br>is not the same as info is do not be obn<br>oxious about adding tags when the inform<br>ation is readily available and already v<br>erified for example the sources linked t<br>o from the page itself just because you <br>think it should have been done different<br>ly",
           0
          ],
          [
           "the section titled dye for anne wexler s<br>ays different p if you hit edit this pag<br>e on talky it gives you an edit notice t<br>hat provides a rough guide on submitting<br> a dye i will get on to the article this<br> evening and send you a talk page messag<br>e when i am done",
           0
          ],
          [
           "disappointing years of planning and yet <br>they failed in organizing the world s mo<br>st important cricket event shamanic shou<br>ld not have held the event in this seaso<br>n",
           0
          ],
          [
           "hello info and welcome to wikipedia here<br> are some recommended guidelines to help<br> you get involved please feel free to co<br>ntact me if you need help with anything <br>best of luck and happy editing dlohciere<br>kim getting started wikipedia tutorial h<br>ow to edit a page the five pillars of wi<br>kipedia manual of style be bold in editi<br>ng how to write a great article wiki pro<br>jects getting your info out there cite y<br>our sources neutral point of view point <br>of view variability uploading images use<br> policy getting more wikipedia rules pol<br>icy library getting help new contributor<br>s help page where to ask a question help<br> desk frequently asked questions getting<br> along wikipedia etiquette civility sign<br> your posts conflict resolution getting <br>technical pages needing attention peer r<br>eview utilities village pump user talkdl<br>ohcierekim dlohcierekim",
           0
          ],
          [
           "kane now a full fledged ecw guy yep",
           0
          ],
          [
           "surely the term mindfulness refers to a <br>particular technique or practice both in<br> its buddhist and therapy forms to say t<br>hat it means solely to be aware would be<br> ignoring the fact that this term means <br>something quite specific when applied in<br> this was it is true that some people in<br> psychology seem to be unaware of the bu<br>ddhist origin of the practice all the mo<br>re reason to have the article on mindful<br>ness",
           0
          ],
          [
           "the most high ministries",
           0
          ],
          [
           "watching mr got to love my cooking shows",
           0
          ],
          [
           "damn that is my favorite ep click bugs g<br>ets the shit beat out of him click babie<br>s asleep classic",
           0
          ],
          [
           "redirect talkmeadwestvaco corp v illinoi<br>s department of revenue",
           0
          ],
          [
           "they will be removed thanks for catching<br> it mailbox",
           0
          ],
          [
           "give me strength the focus of the case i<br>s defined in the fof why argue the toss <br>on that",
           0
          ],
          [
           "it has not really an abbreviation in the<br> sense you mean it has two words combine<br>d to make a new name in that sense it ju<br>st becomes a proper noun the thing with <br>forex is that it actually refers to fore<br>ign exchange and is thus an abbreviation<br> whereas pasco is simply the name of som<br>ething and the etymology is not crucial <br>to its function as such and even if you <br>insist that it has an abbreviation there<br> is still no reason for it to appear in <br>all caps the forex page on wikipedia doe<br>s not even use all caps for forex so tha<br>t kind of dumps your argument not to be <br>rude but this is the case also note that<br> ebay when referring to itself on its we<br>bsite and in reports etc starts sentence<br>s with ebay but the wall street journal <br>quite rightly follows convention and beg<br>ins such sentences with ebay i find the <br>trend of using all caps when there is no<br> basis for doing so highly annoying it a<br>lso quite simply goes against well estab<br>lished rules of style regardless of what<br> style the company forces its english tr<br>anslators and copywriters to follow prob<br>ably against their will for the corporat<br>e website and materials wikipedia is fre<br>e to follow normal english conventions w<br>ikipedia does not have to support the co<br>mpany s misguided use of shouting which <br>is and this is an unverifiable statement<br> based on experience probably due to a l<br>ack of understanding of english style co<br>nventionsor a refusal to accept them eve<br>n after they have been explainedrather t<br>han due to an informed decision based on<br> whether the name constitutes an acronym<br> abbreviation or not the name should app<br>ear as pasco",
           0
          ],
          [
           "women belong to themselves not the kitch<br>en",
           0
          ],
          [
           "stop your kids from using snap chat",
           0
          ],
          [
           "please stop adding inappropriate externa<br>l links to wikipedia it is considered sp<br>amming and wikipedia is not a vehicle fo<br>r advertising or promotion since wikiped<br>ia uses no follow tags additions of link<br>s to wikipedia will not alter search eng<br>ine rankings if you continue spamming yo<br>u will be blocked from editing wikipedia<br> no referral codes allowed if this is a <br>shared internet protocol address and you<br> did not make any unconstructive edits c<br>onsider creating an account for yourself<br> so you can avoid further irrelevant war<br>nings",
           0
          ],
          [
           "retweet my dog is going to be a bitch ma<br>gnet for sure ok hand noraised hand",
           0
          ],
          [
           "got to admit shes stacked",
           0
          ],
          [
           "laughing out loud you escaped some shit <br>then even if i do not regret watching it<br> for a minute loyal wolf",
           0
          ],
          [
           "random thoughts is it a good idea for th<br>e intro to go into issues of advertising<br> in the very first sentence such info sh<br>ould be in the intro but is usually prec<br>eded by the basics something along the l<br>ines of jams j shapiro is a personal inj<br>ury lawyer practicing in famous in part <br>for his advertising he is cited as an im<br>portant example",
           0
          ],
          [
           "i do not need permission to undo it i di<br>d not choose that route because i am try<br>ing to make it clear i will not follow y<br>our example for you of using reverts to <br>express frustration or disdain for anoth<br>er editor s view",
           0
          ],
          [
           "do not get discouraged i agree with your<br> removals of tabloid info from all kpop <br>com all kpop is not a reliable source an<br>yway but just removing it without explai<br>ning why triggers the robots to leave yo<br>u messages and makes other editors rever<br>t you if you want to remove them leave a<br> note at the article talk pages and i wi<br>ll support the removal best regards",
           0
          ],
          [
           "retweet retweet carrot cake is trash too<br> sweet",
           0
          ],
          [
           "its mr not comedinewithme",
           0
          ],
          [
           "their opinions not be facts obviously bu<br>t the fact that these relevant people ha<br>ve claimed such and such is a fact as su<br>ch whatever can report it",
           0
          ],
          [
           "i do not care who is president as long a<br>s whatever can say they suck on very imp<br>ortant person",
           0
          ],
          [
           "cannot say those words tweeter will come<br> knocking",
           0
          ],
          [
           "regarding certified gangsta please take <br>a look at certified gangsta s user page <br>is china shame not a source of racism",
           0
          ],
          [
           "oppose the proposed title is ambiguous a<br>nd unclear whose relations it refers to <br>contrary to title the correct title is f<br>oreign relations of the palestine libera<br>tion organization the plo represents abr<br>oad all three entities itself the state <br>of palestine and the pna this is explain<br>ed and sourced in the archives there wer<br>e such move proposals and there were lon<br>g discussions about that nothing has cha<br>nged recently so i does not see a reason<br> to re open this tedious debate does for<br>eign relations of palestine include hama<br>s foreign relations",
           0
          ],
          [
           "new bolt s children the dnb states two c<br>hildren cecilia on census margaret c age<br>d and francis on census arthur f aged",
           0
          ],
          [
           "redirect talk star king tv series",
           0
          ],
          [
           "what i thought bitch",
           0
          ],
          [
           "all he does is go around reverting anyth<br>ing he considers to islam he never comes<br> to talk pages or anything he is a sad p<br>ov warrior joke",
           0
          ],
          [
           "before accusing me of edit warring pleas<br>e make sure of your facts if you look at<br> the article in question s history view <br>you would see that nowhere did i make mo<br>re than reverts in a hour period you wou<br>ld also see on the talk page that there <br>is a thorough discussion and explanation<br> of the changes made it is strange that <br>the user who continually reverts my edit<br>s has not been given a similar warning a<br>nd i wonder if you could perhaps explain<br> the reason for this",
           0
          ],
          [
           "club solo deep fuck a valet because i pa<br>rked on the street lorded knows you cann<br>ot trust these hoes",
           0
          ],
          [
           "possibly unfree imagebrookgreen pledge j<br>pg an image that you uploaded or altered<br> imagebrookgreen pledge jpg has been lis<br>ted at wikipediapossibly unfree images b<br>ecause its copyright status is disputed <br>if the image s copyright status cannot b<br>e verified it be deleted you find more i<br>nformation on the image description page<br> you are welcome to address comments to <br>its entry at the discussion if you are i<br>nterested in it not being deleted thank <br>you",
           0
          ],
          [
           "nationalcampingmonth great prizes good l<br>uck to all win competition",
           0
          ],
          [
           "i am the most sensitive bitch in the who<br>le entire world because i take everythin<br>g to heart slightly smiling faceslightly<br> smiling faceslightly smiling faceslight<br>ly smiling face and i hate it social med<br>ia",
           0
          ],
          [
           "already upgraded to b class joyful",
           0
          ],
          [
           "childcare attack bull game do you really<br> think that his head what a slut empty a<br>round the city each side is",
           0
          ],
          [
           "if i stop i will not be blocked do you m<br>ean that will you give me your word",
           0
          ],
          [
           "here is further evidence that this delet<br>ion what a slut unwarranted i repeat my <br>insistence that this change be reverted <br>i would also like to suggest that this u<br>ser should have his ability to delete im<br>ages revoked as i think he has clearly a<br>bused the privilege by failing to do any<br> research whatsoever before deleting and<br> by failing to contact me first",
           0
          ],
          [
           "got the prototype for our new usb today <br>what do you think new product doncasterp<br>hotographer special",
           0
          ],
          [
           "i say let us flip it and have a girls al<br>liance just curious out then tyler since<br> he thinks he is the mastermind th ultim<br>ate blindside three girls in the final t<br>hree and jaycee for the win",
           0
          ],
          [
           "that and a mile wide free fire zone ough<br>t to do the trick",
           0
          ],
          [
           "ingraham sorry not a pollster fake news <br>i say buildthewall and the wacky left le<br>bron can go jump in the creek americanis<br>m stoptheinvasion hometown meeting calif<br>ornia shockthestate",
           0
          ],
          [
           "okay i admit i am a newbie in wiki i jus<br>t started and it took me a while to get <br>my page ready but within that or so hour<br>s i spent adding stuff i had administrat<br>or snapping at my heels trying to delete<br> my first page i wanted to protect it so<br> i did what i thought would work removed<br> the tags sorry if this what a slut wron<br>g but it is all i knew",
           0
          ],
          [
           "now for the last time thank you and keep<br> up the good work please blank this disc<br>ussion i am now disabling my email and s<br>crambling my password shalom",
           0
          ],
          [
           "you are a hard li ker",
           0
          ],
          [
           "comments above unfortunately make it app<br>ear that you are not following npov and <br>bio you wrote i believe any mention of a<br> gay bashing hate crime would lead most <br>readers to jump unfairly to the unspoken<br> conclusion that mr button is gay practi<br>cally all if not all news accounts of th<br>e attacks are very clear in stating the <br>attacks were intended against gay people<br> the police court system and at least on<br>e defense attorney for the attackers all<br> said the attacks were a deliberate atte<br>mpt to attack people the attackers thoug<br>ht were gay nowhere in the article does <br>it say that mr button is gay the article<br> says the attackers knew nothing about m<br>r button s sexuality and that the victim<br>s of the attacks targeted at random simp<br>ly because they were in an area of centr<br>al park where the attackers believed gay<br> people congregated there is no reason f<br>or the article to ignore the several new<br>s accounts that highlight that the attac<br>kers intended to attack gay people",
           0
          ],
          [
           "i does not agree with this block yes car<br>ol is expressing herself forcefully but <br>i does not see that as a reason to shut <br>her down for a week the issue at hand is<br> of considerable importance to numerous <br>wikipedia some of whom have difficulty s<br>tanding up to the intimidating culture h<br>ere and a block at this juncture is coun<br>terproductive to open debate i had said <br>it compounds the problem",
           0
          ],
          [
           "slowbros over hoes",
           0
          ],
          [
           "about the origin of the material s name <br>a page in german wikipedia mentions that<br> the name came from latin it means cool <br>a k a hard this is the link of the page",
           0
          ],
          [
           "cravings satisfied cheeseburger mcdonald<br> s fries cdo",
           0
          ],
          [
           "utc those borders are well defined by cl<br>assical sources and are not in dispute i<br>t mentions nothing about karabakh but i <br>have never seen a map or source that sho<br>ws albanian presence in artsakh adorno k<br>arabakh the biggest affair c albanian ar<br>menia has ever been is displayed on this<br> map",
           0
          ],
          [
           "woo cannot wait to see what happens mr",
           0
          ],
          [
           "one more love booklet does anyone have i<br>t please you the one",
           0
          ],
          [
           "i think it better fits in the article re<br>cognition of the armenian genocide under<br> the section recent developments",
           0
          ],
          [
           "utc done there what a slut no objection <br>to the suggestion after waiting several <br>days",
           0
          ],
          [
           "it isn t notion that every single possib<br>le picture must be included in an articl<br>e regardless of whether it reduces the q<br>uality of the article or not",
           0
          ],
          [
           "you will be blocked if you continue to a<br>ddress unsourced info about living peopl<br>e whether you think it is contentious or<br> not",
           0
          ],
          [
           "so what is it not you self proclaimed co<br>ntributors so what is it not you self pr<br>oclaimed contributors why does not you s<br>tart adding information to wikipedia as <br>supposed to petty edits and daily rectif<br>ication of your user page otherwise i wi<br>ll report you",
           0
          ],
          [
           "i moved it into a note because it is not<br>eworthy of its own section t see",
           0
          ],
          [
           "oh in this case yes it is not representa<br>tive for the roman culture but it curren<br>tly affects the roman people",
           0
          ],
          [
           "leave as dab page for now the difficulty<br> is that sources use the term very diffe<br>rently to refer to a vegan vegetarian or<br> semi vegetarian diet there are several <br>physicians and others selling particular<br> based that they say work miracles becau<br>se of this or that ingredient omission o<br>r combination and very few medrs complia<br>nt sources offering definitions there wh<br>at a slut even someone who tried to trad<br>emark the term strong so i think this sh<br>ould remain a dab page until there are m<br>ore med rs sources or it should be redir<br>ected to semi vegetarianism or vegetaria<br>nism with a subsection in one of those a<br>rticles of those two options i think a d<br>ab page would be most helpful to readers",
           0
          ],
          [
           "get some damn sleep sleepy time tea is m<br>y savior serious",
           0
          ],
          [
           "filecassandrajourney png listed for dele<br>tion a file that you uploaded or altered<br> filecassandrajourney png has been liste<br>d at wikipediafiles for deletion please <br>see the discussion to see why this is yo<br>u have to search for the title of the im<br>age to find its entry if you are interes<br>ted in it not being deleted thank you",
           0
          ],
          [
           "the one who slays aussies cricket game i<br>ndians dhonikeepstheglove",
           0
          ],
          [
           "would you rather be filthy rich with no <br>friends or dirt poor with tons of friend<br>s and a dog",
           0
          ],
          [
           "opera titles are italicized all of these<br> operas and many of the selections have <br>their own wikipedia articles that should<br> be linked",
           0
          ],
          [
           "needs rewording whole passages are lifte<br>d verbatim from",
           0
          ],
          [
           "give it months to decline unless they do<br> not care lawmakers do some fast rewriti<br>ng and figure out how to reinstate the e<br>ffect of the law",
           0
          ],
          [
           "good to see the neo nazi wikipedia edito<br>rs all stick together good work fellas v<br>ictory or valhalla",
           0
          ],
          [
           "all good discussion but old acts donor f<br>are well with r b couplet as you know ca<br>rey s up out my face is a recent example<br> i think j lo is definitely doing the ri<br>ght thing eurodance is the sound of the <br>moment she is caching on it and adding s<br>ome rap credentials with the help of pit<br>bull this is a killer combo",
           0
          ],
          [
           "retweet a girl knows when a bitch likes <br>her boyfriend sleeping face open hands",
           0
          ],
          [
           "which is over over over over over over o<br>ver over over over over over over over o<br>ver over over over over over over over o<br>ver over over over over over over over o<br>ver over over over over over over over o<br>ver over over over over over over over o<br>ver over over over over over over over o<br>ver over over over over over over over o<br>ver over over over over over over over o<br>ver over over over over over over over o<br>ver over over over over over over over o<br>ver over over over over over over over o<br>ver over over over over over over over o<br>ver over over over over over over over o<br>ver over over over over over over over o<br>ver over over over over over over over o<br>ver over over over over over over over o<br>ver over over over over over over over o<br>ver over over over over",
           0
          ],
          [
           "footnote added i added a footnote for hi<br>storical analysis of grant s controversi<br>al general order no i included smith ana<br>lysis in the footnote it is up to other <br>editors if smith s views should be inclu<br>ded in the paragraph mentioning grant s <br>order i believe any historical views sho<br>uld be in the footnote to be neutral rat<br>her than only have one historian s view <br>in the article narration",
           0
          ],
          [
           "over the last year i have increased my p<br>ersonal efforts tenfold i think whatever<br> are among the last whites with the hope<br> of saving our people",
           0
          ],
          [
           "the initial article what a slut simply m<br>onarchist versus republic but a lot of t<br>he material what a slut taken from orien<br>ted sites a subsequent editor tailored t<br>he introduction more towards the commonw<br>ealth i think that the article would be <br>more interesting if it could bring in ar<br>guments from other monarchies around the<br> world and have a more global focus",
           0
          ],
          [
           "not anymore it isn t accounts with publi<br>shed passwords are not allowed so i have<br> changed it i am not sure what your purp<br>ose in publishing your password was but <br>the only effect has been to make the acc<br>ount inaccessible to you",
           0
          ],
          [
           "foot my regimental knowledge is pretty m<br>uch during the napoleonic wars i shall h<br>ave to research the other periods but at<br> that time they were equipped with muske<br>ts early on there what a slut some talk <br>of providing rifles but expected perceiv<br>ed supply issues of rifled weapons cause<br>d them to stick with muskets as you can <br>imagine this made for interesting skirmi<br>shing the french were equipped with musk<br>ets also so fire fights probably took pl<br>ace at distances of about yes if you had<br> nerves of steel you had wait for your o<br>pposite number to come within yes i shal<br>l address some weaponry and fighting tac<br>tics to the article eventually it is all<br> a bit rough at the moment thanks for th<br>e interest anyway",
           0
          ],
          [
           "oh my god no i do not haha haha that is <br>one of the very few songs i truly hate d<br>rives coworkers crazy because they think<br> it is awesome",
           0
          ],
          [
           "that is awesome happy face or smiley yea<br>h i am not really bothering to read gg s<br> response although people send me snippe<br>ts",
           0
          ],
          [
           "not a personal attack he s been going ar<br>ound reverting my edits on purpose you n<br>ot going to say anything to him you are <br>not a neutral administrator you are lett<br>ing your friendship with him get in the <br>where are you of wikipedia editing not g<br>ood",
           0
          ],
          [
           "dance and health glad to see that you co<br>nsider dance and health important i have<br> put in headings and added a small bit t<br>o the article would you consider it star<br>t class now",
           0
          ],
          [
           "chandigarh a girl attacks a man with a r<br>od near tribune chow after their cars ra<br>mmed into each other what does use of al<br>l talk of mode s woman empowerment if th<br>ey cannot even be allowed doing violence<br> on streets",
           0
          ],
          [
           "next to the section of those job opening<br>s",
           0
          ],
          [
           "recent block by rodhullandemu i like to <br>edit anonymously but in order to upload <br>a picture showing a statistic i had to u<br>se my mrnights account for the police ta<br>lk page this does not constitute of mult<br>iple if you want to confirm that this wh<br>at a slut just retaliation for making ar<br>guments rodhullandemu could not answer g<br>o to the post i started and see it for y<br>ourself",
           0
          ],
          [
           "done please see the above link",
           0
          ],
          [
           "fbi found miley s hacker some controvers<br>ial photos on the internet not the vanit<br>y fair photos of cyrus exposing some par<br>ts of her body were apparently posted by<br> somebody who hacked one of her former e<br> mail accounts the fbi raided his house <br>here is one article and there are others<br> out there in case it is not reliable en<br>ough although i think it is reliable i t<br>hink it is newsworthy but like the chris<br> brown saying miley cyrus is ugly thing <br>because it is breaking news i am not sur<br>e if it should be included read here on <br>recent ism preceding unsigned comment ad<br>ded by talk cont ribs playboy offer i wh<br>at a slut wondering whether this is real<br>ly relevant in hugh hefner made news whe<br>n he offered a magazine pictorial to yea<br>r old miley hefner said she what a slut <br>a pretty lady but would have to wait unt<br>il she what a slut to appear in the maga<br>zine this honestly sounds more of an adv<br>ertisement for playboy on the biggest te<br>en pop star s myspace than something gen<br>uine i d take it out miley possibly gets<br> a lot of offers for many things that do<br>es not warrant inclusion here within her<br> article well i feel that in light of he<br>r backless photo controversy hefner offe<br>r might be included but i feel it does n<br>ot require a separate section to mention<br> it it might be merged in the photo cont<br>roversy section you re a prick is writte<br>n under the pic can someone please chang<br>e it that vandalism what a slut reverted<br> over three hours ago and according to t<br>he most recent revision the vandalism is<br> not present talk",
           0
          ],
          [
           "right shamanic",
           0
          ],
          [
           "to this article deals with contentious s<br>ubject is false statement ustashe were h<br>istoric reality very well elaborated by <br>historians of the twentieth century hist<br>ory if something is highly desirable do <br>it not just demand it from others after <br>fully being familiar with the list of gi<br>ven references come then back and show t<br>he text deficiencies to lastly just a no<br>te about einstein firstly the text in ne<br>w york times is an opinion about somethi<br>ng done by einstein einstein is not quot<br>ed there at all i have reviewed five boo<br>ks dealing with einstein s work and life<br> not a single one mentioned this einstei<br>n s support to mustache martin brought t<br>he world renown historian and university<br> professor nowhere in his there kroatisc<br>he ustascha staat book ever mentioned ei<br>nstein in the context of the referenced <br>new york times article moreover in the g<br>aelic und ustascha chapter brought menti<br>oned well organized mustache propaganda <br>in the usa the league of nations nor any<br> of its bodies re viewed alleged einstei<br>n s protest nor took any action against <br>kingdom of yugoslavia to suppress mustac<br>he terrorism in yugoslavia league of nat<br>ions sanctioned hungary and forced musso<br>lini even to jail gaelic temporarily",
           0
          ],
          [
           "proposed deletion of wally judge hello g<br>olanharper i wanted to let you know that<br> im proposing an article that you starte<br>d wally judge for deletion because it is<br> a biography of a living person that lac<br>ks references if you do not want wally j<br>udge to be deleted please address a refe<br>rence to the article if you do not under<br>stand this message you can leave a note <br>on my talk page thanks",
           0
          ],
          [
           "why do you consider the link spam it is <br>a long and valuable resource on informat<br>ion much more so than a link to one worl<br>d s booking engine would not someone loo<br>k for information on this subject simply<br> like info on exactly how to book a tick<br>et because you have a conflict of intere<br>st please read the policy at pci",
           0
          ],
          [
           "i am not saying i am for this but studs <br>will fuck trannys but will not let they <br>bitch strap them down you muhfuckas chil<br>dish lol",
           0
          ],
          [
           "discospinster what constitutes the crite<br>ria for deleting a company page why does<br> hourly nerd get to keep its page up whi<br>le other startups have to take theirs do<br>wn seems ridiculous and subjective gorle<br>y",
           0
          ],
          [
           "yes you are correct sure a video floppy <br>vf can only theoretically store seconds <br>of motion video but the very funny what <br>a slut not designed for such it what a s<br>lut designed for storing still frames of<br> video for electronic photography or sti<br>lls as is mentioned in this article so i<br>t what a slut quite a useful format for <br>its time its uses also mentioned in this<br> article",
           0
          ],
          [
           "adam carr s photos no different to mine <br>he did the same to me so why are not you<br> telling him the same message he gave me<br> the same message and removed my tags wh<br>y cannot i so the same is it because he <br>is more inferior of a plebeian like me a<br>nd because he has royal blood that you m<br>ust give him special consideration i fou<br>nd it very ironic that he is a labor ite<br> and a supporter of australian republica<br>n movement despite his sheer arrogance a<br>gainst fellow wikipedia what a show",
           0
          ],
          [
           "be careful reading in your own definitio<br>ns what variant means all the regional a<br>nd national cheeses have entries in prit<br>chard s the encyclopedia of chess varian<br>ts and the classified encyclopedia of ch<br>ess variants and each of them also has a<br>n entry for orthopneas fide chess gollon<br> s chess variations has chapters for the<br> major regional and national cheeses als<br>o see noted french chess historian jealo<br>us campus s site",
           0
          ],
          [
           "reply bizarre ride ii shit i wrote that <br>entire thing man it got turned down for <br>fa so i am done with it good luck though",
           0
          ],
          [
           "overseas chinese oh my im sorry dude i d<br>id not even notice the second a i glosse<br>d over it but yeah neither i should be t<br>here thanks",
           0
          ],
          [
           "please stop if you continue to vandalize<br> wikipedia as you did to basis and butt <br>head you will be banned from editing",
           0
          ],
          [
           "he w invest the best status from nrl kts<br> my bad w invest first appeared z",
           0
          ],
          [
           "i was not really but in your case i migh<br>t make an exception wrestling would be m<br>y choice wink or smirk",
           0
          ],
          [
           "not necessarily in australia and also in<br> some other places evil grin ireland the<br> term is used to refer to both of these <br>types of trains",
           0
          ],
          [
           "going to wagner middle school to a tour",
           0
          ],
          [
           "utc what is the relationship between thi<br>s entry and the gestalt theory they seem<br> to cover much of the same ground and th<br>en this bibliography under perception",
           0
          ],
          [
           "please stop if you continue to vandalize<br> pages you will be blocked from editing <br>wikipedia if you are receiving this warn<br>ing and you did not vandalize you want t<br>o consider creating an account there are<br> many benefits phocoenidae not delphiniu<br>ms",
           0
          ],
          [
           "there are multiple abbreviations of it b<br>ut that will do talk",
           0
          ],
          [
           "now what indiawithdhoni dhonikeepstheglo<br>ve",
           0
          ],
          [
           "hi thank you for your assistance with th<br>e bundy article but could you please add<br>ress the gone tag at the articles talk p<br>age i would appreciate it also someone h<br>as reverted quite a few of your improvem<br>ents just to let you know",
           0
          ],
          [
           "any normal person with a brain would agr<br>ee that whatever comes out of clinton mo<br>uth is complete bullshit",
           0
          ],
          [
           "in english all three can be used in a me<br>taphorical sense to mean about the same <br>thing his breast chest does not mean muc<br>h of anything does the original mean tha<br>t god does something which makes the per<br>son more receptive to belief in islam th<br>at would be his not his",
           0
          ],
          [
           "my unblock attempt what a slut declined <br>i am not trying to break any rules here <br>by posting this but i want to point out <br>that i am being discriminated against be<br>cause i am an internet protocol address <br>i got in trouble fort routing",
           0
          ],
          [
           "retweet why would i be in a relationship<br> these hoes go still do them face with t<br>ears of joy hundred points",
           0
          ],
          [
           "once again i have translated via google <br>and had a friend do so they both seem to<br> agree with the translation i used in te<br>rms of whatever law is being applied you<br> cannot just cite that law you need to c<br>ite reliable articles covering the event<br>s at hand otherwise you are just specula<br>ting lastly concerning what all else is <br>in the article in question you are right<br> i am not removing every united statemen<br>t technically should statements like he <br>what a slut on abc bands album be cited <br>of course but that has one thing and a d<br>eveloping current event involving crimin<br>al charges and homicide are quite anothe<br>r most of my edits do involve removing o<br>r citing more mundane information but th<br>is particular issue necessitates a much <br>heavier hand in enforcing the rules agai<br>n i do not care if he is innocent i hope<br> he gets out soon if he is guilty i hope<br> they lock him up that said every source<br> i have come across and added has indica<br>ted the former and the only reliable sou<br>rce i have seen you address describing t<br>he incident seems to have a questionable<br> translation to me if you have more sour<br>ces details by all means address them ot<br>herwise they do not belong here",
           0
          ],
          [
           "i did a quick reorganization by usage fi<br>rst then by nation as necessary i do not<br> have any strong feelings about it just <br>trying it out",
           0
          ],
          [
           "please stop if you continue to vandalize<br> pages as you did to cool aesthetic you <br>will be blocked from editing wikipedia i<br>f you feel that the edit i reverted shou<br>ld not have been reverted please contact<br> me",
           0
          ],
          [
           "wow a mess this article reads like the e<br>nd result of one foreigner s afternoon w<br>ith the atavist babel fish translator i <br>tried i really really tried to help but <br>sentences like discovered his passion fo<br>r dancing ever since he what a slut in t<br>he have convinced me that this article i<br>s just doomed",
           0
          ],
          [
           "he died because of a great kali s",
           0
          ],
          [
           "ensan ullah sahib i am moving your artic<br>le to ensan ullah sahib please do not us<br>e all caps in the future it makes it dif<br>ficult to read and is inconsistent with <br>wikipedia style",
           0
          ],
          [
           "i am afraid i agree with all of showoff <br>s reasons i does not think it that appro<br>priate to have a link to individual batc<br>h websites in addition the home page of <br>this particular batch website has rather<br> too many spelling mistakes etc this wil<br>l not reflect that well on what is suppo<br>sed to be the best school of all suresh",
           0
          ],
          [
           "the last time she used the account what <br>a slut in late the vandal cannot use it <br>anymore because i am changing my passwor<br>d",
           0
          ],
          [
           "haha i am a thinking frigging hate that <br>it means cool a k a thinking how daft an<br>yway is it a con",
           0
          ],
          [
           "i mam sure you do not wish to be part of<br> vigilance s hate group this pedophile l<br>oving sorry girl loving user just cannot<br> help himself that is okay we will help <br>him for you wikipedia i do not think any<br>one thinks you are a pedophile sigh just<br> naive young man let us face it would yo<br>u be seen dead with a girl lover that is<br> arm in arm with a pedophile like ohio t<br>ried to out some poor innocent girl rece<br>ntly hope not",
           0
          ],
          [
           "that sucks",
           0
          ],
          [
           "cotton business broker why cannot whatev<br>er call the slavery business what it is",
           0
          ],
          [
           "yeah none of the content you added meets<br> any of the criteria in the scope sectio<br>n you pointed toward wait a few weeks an<br>d maybe something other than brief gamep<br>lay videos and quick interviews will off<br>er up the kind of information appropriat<br>e for the article placing the trivia plo<br>t summary in the context of the game s d<br>evelopment would be the most appropriate<br> see star wars the force unleashed for a<br>n example of a good article that in term<br>s of structure and content this article <br>should emulate",
           0
          ],
          [
           "fuck it i cannot take it anymore",
           0
          ],
          [
           "crying to the that some americans do not<br> like you might call you names whatever <br>call that being a crybaby bitch bama",
           0
          ],
          [
           "another one leo okay guys whatever are n<br>ear done our last obstacle is that we se<br>e a mountain and whatever hear the param<br>ount television jingle speedy no leo yes<br> the jingle plays again speedy no man no<br> leo look chickens whatever are going to<br> die trying to save our land no let us g<br>o we hear the current paramount televisi<br>on jingle as the heroes walk off into th<br>e distance",
           0
          ],
          [
           "the former participants seem to have lef<br>t the project either permanently or temp<br>orarily are you still interested in help<br>ing out seems like nobody cares about mi<br>rrors forks",
           0
          ],
          [
           "in response to your feedback you change <br>the information and please cite your sou<br>rces to learn how to cite sources see wi<br>kipediaciting sources and",
           0
          ],
          [
           "q what do you call someone who does an e<br>xpert at disproving hoax claims a arch d<br>ebunker what is up doc carrots",
           0
          ],
          [
           "your message first off i stand corrected<br> on the copyright for the mcauliffe arti<br>cle i am new to wiki and did not see tha<br>t the refs that were coming from framing<br>ham com had been copied from nasa on you<br>r second note regarding legal threats yo<br>u were off base a bit i was not threaten<br>ing anything i what a slut implying that<br> if this what a slut a blatant copyright<br> violation that someone else might be up<br>set if that was not clear i apologize i <br>what a slut just on the lookout for bad <br>articles",
           0
          ],
          [
           "the principles of despotism are fucking <br>garbage",
           0
          ],
          [
           "the knights of the ku klux klan youth co<br>rps just click on these words in red",
           0
          ],
          [
           "why does not you tell that to thejadefal<br>con he does not seem to be aware of that<br> rule or are wiki editors excluded from <br>it",
           0
          ],
          [
           "lungful adam",
           0
          ],
          [
           "hey morons at fox news and foxandfriends<br> what a slut is political when bush rais<br>ed terror threat right before the electi<br>on laughing my ass off at you teenagers",
           0
          ],
          [
           "abbreviated that quote and combined with<br> culture war reference rawstory should b<br>e reliable as publisher of interview abo<br>ut the interviewee s views per questiona<br>ble",
           0
          ],
          [
           "your user page is inaccurate why does yo<br>ur user page still display inaccurate in<br>formation gandi",
           0
          ],
          [
           "following a major redesign",
           0
          ],
          [
           "unblock three users use my computer and <br>wikipedia account the person who has bee<br>n accused of vandalism will not use the <br>account somebody please unblock",
           0
          ],
          [
           "icc turns down cci request marconi canno<br>t sport balidanbadge do you agree with t<br>his thinking face dhonikeepthegloves dho<br>nikeepstheglove indiawithdhoni dhonikesa<br>athdesh",
           0
          ],
          [
           "in the of the documentary brad bird says<br> something about the movie being set in <br>s of an alternate i think that clinches <br>if it is nor set in our s so the tag is <br>indeed inappropriate",
           0
          ],
          [
           "fucking black rats brought the plague th<br>ey spread disease",
           0
          ],
          [
           "he i guess i jumped right in anyway i fi<br>nd two logical flaws in your argument fi<br>rst just because some bulgarian editors <br>be misinterpreting or abusing the catego<br>ry system why should we second what if e<br>very article were subjected to your line<br> of thinking for instance what if someon<br>e decided that category communes in club<br> county what a slut too inaccessible a p<br>lace for aphid and decided to address in<br> category geography of romania and then <br>someone did the same for clod and pretty<br> soon that category ended up with entrie<br>s well for one it would become pretty us<br>eless does not you think which is why wh<br>atever have category populated places in<br> club county categorycluj county categor<br>y geography of transylvania but not inci<br>dentally category geography of moldavia <br>and category geography of wallach everyt<br>hing in its proper place plus there is a<br>n actual guideline meant to be followed <br>what which speaks of general rule that p<br>ages are not placed in both a category a<br>nd its i understand your problems with t<br>he system but it is what whatever have f<br>or now ok i have tried it on wikidata",
           0
          ],
          [
           "partakes user partakes has started origi<br>nal researching again if you recall he w<br>hat a slut active on mongols and mongoli<br>c peoples you reverted his change of mon<br>golic people from a disable to a page as<br> or and he is doing it again claiming it<br> has been and no one else has commented <br>he is difficult to work with as he keeps<br> saying he thinks one thing while editin<br>g in a where are you that shows he does <br>not at all believe what he says",
           0
          ],
          [
           "being back thanks for noticing and your <br>warm words earlier have yet to get back <br>into the swing of things but i am glad t<br>o see so many of my old friends are stil<br>l here happy editing",
           0
          ],
          [
           "so please how is ronald mallet and john <br>tutor and the other time travel articles<br> you have her not fringe science that yo<br>u published when i gave code sources and<br> web sources and newspaper sources ronal<br>d mallet oh please",
           0
          ],
          [
           "need info on another strike the article <br>needs some info on the doctors strike fo<br>llowing the government s refusal to gran<br>t them salaries for the period for which<br> they had been protesting the new obc qu<br>otas",
           0
          ],
          [
           "she sharing her hoe she knows though at <br>least i hope she does lmao",
           0
          ],
          [
           "the whites are more in the range of mill<br>ion",
           0
          ],
          [
           "px what a slut an arbitrary number i pic<br>ked when the pictures started being adde<br>d there what a slut no reason behind it <br>other than pleasant viewing",
           0
          ],
          [
           "nice changes to football soccer hi his n<br>ice bold update for the football soccer <br>intro paragraphs please see my message o<br>n the talk page i think whatever need to<br> continue with some bold action to bring<br> this page up to featured status quality<br> this involve less focus on the name iss<br>ue and more focus on the game itself che<br>ers utc",
           0
          ],
          [
           "another subcategory before i had like to<br> create a category for the time he co wr<br>ote and co starred in half baked and the<br> two hbo comedy specials these are huge <br>accomplishments for anybody",
           0
          ],
          [
           "go ahead review this review is transcend<br>ed from talk mind the edit link for this<br> section can be used to address comments<br> to the review reviewer talk cont ribs i<br> ll be glad to take this review initial <br>comments to follow in the next days sorr<br>y you have had to wait so long for a rev<br>iew and thanks in advance for your work <br>on this one",
           0
          ],
          [
           "i added some text to kansas but very har<br>d to find more text i spent four hours f<br>inding sources with several combinations<br> great tenasserim river is doable on ten<br>asserim there is more on the province th<br>an on the town be rosiest could also hel<br>p if she has time",
           0
          ],
          [
           "the fact that is has different names in <br>various countries makes it all the more <br>imperative that whatever use the origina<br>l name karin this is the central name kn<br>own to most that ties together the other<br> renames",
           0
          ],
          [
           "some issues which i am about to attempt <br>to partially fix the gold leaf and quadr<br>ant electrometers are in a sense also re<br>pulsion electrometers they both work by <br>measuring the repulsion of the same char<br>ge in one where are you or another my ch<br>em textbook uses the name quadrant elect<br>rometer to describe a considerably simpl<br>er device than kelvin invented this devi<br>ce has an index which goes between zero <br>and degrees hence a quadrant while kelvi<br>n s device while i does not fully unders<br>tand it had a drum split into quadrants <br>so i conclude that this is a coincidence<br> the best solution i can think of is to <br>create a section of repulsion electromet<br>ers and then describe the types individu<br>ally in their own sections underneath ex<br>ample gold leaf hellman peatier rothenbe<br>rger i will rename quadrant electrometer<br> to kelvin s quadrant electrometer and t<br>hen put both his and the simpler one und<br>er repulsion electrometers hopefully wha<br>tever can make this article clearer and <br>neater",
           0
          ],
          [
           "your submission at articles for creation<br> arcade texas which you submitted to art<br>icles for creation has been created the <br>article has been assessed as stub class <br>which is recorded on the article s talk <br>page you like to take a look at the grad<br>ing scheme to see how you can improve th<br>e article you are more than welcome to c<br>ontinue making quality contributions to <br>wikipedia note that because you are a lo<br>gged in user you can create articles you<br>rself and do not have to post a request <br>however you are more than welcome to con<br>tinue submitting work to articles for cr<br>eation if you have any questions you are<br> welcome to ask at the help desk if you <br>would like to help us improve this proce<br>ss please consider thank you for helping<br> improve wikipedia contact me contribs",
           0
          ],
          [
           "fileimgp jpg listed for deletion a file <br>that you uploaded or altered fileimgp jp<br>g has been listed at wikipediafiles for <br>deletion please see the discussion to se<br>e why this is you have to search for the<br> title of the image to find its entry if<br> you are interested in it not being dele<br>ted thank you",
           0
          ],
          [
           "i just wanted to chip in on this as i ce<br>rtainly remember an older version of off<br> topic for the apple ii series i would h<br>ave played it sometime in the years prob<br>ably at the earlier end of that range th<br>e graphics were monochrome and hunting w<br>hat a slut very different and quite diff<br>icult for me to get the hang of it what <br>a slut a sort of first person shooter ga<br>me with your stationary hunting blind at<br> the bottom of the screen at varying int<br>ervals a game animal would come trotting<br> horizontally across the screen almost l<br>ike a phantom you remember those early g<br>raphics and you would hit the fire butto<br>n to release a cloud of very slow moving<br> buckshot if they intersected just right<br> you got the kill this rarely worked for<br> me i remember being delighted when i sa<br>w the newer version in middle school i h<br>ave never been able to find a downloadab<br>le version also the earliest versions of<br> off topic seem to have been text only g<br>ames for talk to you and later glass tty<br> those were the ones when you hunted by <br>typing bang in a specified window of tim<br>e",
           0
          ],
          [
           "yes i got distracted i will catch up now",
           0
          ],
          [
           "maybe its different there",
           0
          ],
          [
           "wikipediawikiproject national basketball<br> association i am here to inform you tha<br>t this wiki project is having a callout <br>if you do not respond in one week after <br>this message whatever will automatically<br> move you to the inactive list thank you<br> for your time and co operation",
           0
          ],
          [
           "policy you should also be aware of pci",
           0
          ],
          [
           "note that i edited the article and hopef<br>ully that shall address your concerns",
           0
          ],
          [
           "retweet when a hoe gets too friendly wit<br>h before anyone else pouting face face w<br>ith steam from nose angry face with horn<br>s kitchen knife",
           0
          ],
          [
           "she has proved the saying of our led vin<br>eyard kale vibrant buddha meaning when o<br>ne s doom approaches the person intellec<br>t works against his her best interest sa<br>vebengal savethedoctors doctors fightbac<br>k doctors protest doctorsunderoppression",
           0
          ],
          [
           "belled you a belled",
           0
          ],
          [
           "feh i would not waste my time i have see<br>n too many times now how administrators <br>misuse their authority and abuse editors<br> just because they can get away with it <br>i have also seen how administrators will<br> back other admins up even when they are<br> wrong wrong wrong by and large wikipedi<br>a is no longer a nice place for nice peo<br>ple in fact it probably turns nice peopl<br>e into cynical nasty people and then the<br>y become admins if you are an administra<br>tor with administrator buddies to back y<br>ou up or someone with k edits you can pr<br>etty much get away with wikipedia murder<br> here and the rest of us poor clubs who <br>came here thinking whatever just wanted <br>to edit some articles and could make a d<br>ifference with our contributions are the<br> ones who get walked on and kicked while<br> we are down what does more the editors <br>who try their darnedest to do the right <br>thing get told they are lying and or bei<br>ng disingenuous and get themselves block<br>ed for doing the right thing while those<br> who should be blocked for their behavio<br>r never see a block me go to arbor or an<br> administrator notice board over this th<br>at is unlikely",
           0
          ],
          [
           "retweet i have zero hoes laughing my fuc<br>king ass off",
           0
          ],
          [
           "hi again i had a go at implementing your<br> suggestions into the article most anywa<br>y its kind of difficult to objectively c<br>opy edit stuff youve written yourself i <br>had a couple of queries which i have pla<br>ced on the wikipediapeer review mr bungl<br>e page and what a slut hoping if you had<br> a spare second you could have a quick l<br>ook and tell me what you think thanks ag<br>ain",
           0
          ],
          [
           "i m done got trolled did not i aww shuck<br>s i should have known better than to res<br>pond as if there were actual sounds bein<br>g emitted by the words on the screen peo<br>ple are such believers in the impossible<br> i what a slut caught",
           0
          ],
          [
           "idealist happy face or smiley",
           0
          ],
          [
           "ethnic nationality descent categories hi<br> mayumashu in the past i know you did a <br>tremendous amount of work on the subcate<br>gories of as you probably know i have be<br>en proposing renames for a bunch of thes<br>e to conform to the freeway people stand<br>ard now i am not sure how you feel about<br> these changes but i what a slut wonderi<br>ng if i come across one of these categor<br>ies that are named food of guitar descen<br>t and i see that you are the creator and<br> sole author would i have your permissio<br>n to speedily rename these to freeway pe<br>ople of guitar descent it would save me <br>having to do a formal discussion for the<br>m and would help us regain consistency f<br>aster if you disagree with these changes<br>i m sorry and you do not have to say yes<br> talk no no that s fine go for it good o<br>lfactory and for the ones where i have n<br>ot t been sole author i ll gladly suppor<br>t each of your norms all the best",
           0
          ],
          [
           "no commonwealth realm even if realm were<br> in lower case signifies a realm that is<br> in the commonwealth that includes the r<br>ealms like swaziland and tonga which are<br> members of the commonwealth and have a <br>monarch other than elizabeth ii also the<br>re is nothing in the term to indicate th<br>at elizabeth ii is the common monarch of<br> these realms and a term should describe<br> what it signifies belonging to the comm<br>onwealth is quite incidental to the qual<br>ity of the realms whatever are attemptin<br>g to group",
           0
          ],
          [
           "cancelsouthpark they were liberals when <br>you were still sucking on your momma s t<br>itty at the other woodstock",
           0
          ],
          [
           "utc i have not found out much else so fa<br>r i have now mentioned the century build<br>ing in the lead section",
           0
          ],
          [
           "us state department denies persecuted as<br>syrian christians refugee status while a<br>dmitting somalis to the",
           0
          ],
          [
           "i said you lied because you wrote huh cl<br>early discussed in response to the prece<br>ding edit summary which what a slut when<br> i wrote that the one before it so edits<br> before yours had no discussion or suppo<br>rt you claimed the comments from i e the<br> end of the first edit war as this suppo<br>sed discussion the comments from were no<br>t justification to change the article to<br> ce then and they most definitely are no<br>t justification for changing now as acid<br> and the guidelines have said you need t<br>o start a discussion if you want to chan<br>ge it in mzilikazi and his sock puppet d<br>id not start a discussion and neither di<br>d you nor your canvassed friends aoidh f<br>inally started this discussion yesterday<br> months after the start of mzilikazi s s<br>econd edit war this discussion has led t<br>o no conclusions and therefore the statu<br>s quo must remain at least for now",
           0
          ],
          [
           "macao versus macau i am afraid it is the<br> other where are you round macao is engl<br>ish and macau is portuguese example look<br> at the cover of a macao sar passport th<br>e full name of the macao sar is written <br>as region administrative especial the ma<br>cau in portuguese and macao special admi<br>nistrative region in english macao is th<br>e english name and macau is the portugue<br>se name this is recognized by macao and <br>its sovereign state however both are acc<br>eptable in english it is just like using<br> munich or munich i am not trying to say<br> that one of us is right and the other i<br>s wrong i just want to draw your attenti<br>on to the origin of macao and macau",
           0
          ],
          [
           "the estimated time of arrival assists bl<br>ames disputes the franco canada catalan <br>migrants",
           0
          ],
          [
           "are you speaking of this query thanks",
           0
          ],
          [
           "speedy deletion of sheila gate a tag has<br> been placed on sheila gate requesting t<br>hat it be speedily deleted from wikipedi<br>a this has been done under section good <br>one of the criteria for speedy deletion <br>because the page appears to have no mean<br>ingful content or history and the text i<br>s unsalvageable incoherent if the page y<br>ou created what a slut a test please use<br> the sandbox for any other experiments y<br>ou would like to do feel free to leave a<br> message on my talk page if you have any<br> questions about this if you think that <br>this notice what a slut placed here in e<br>rror you contest the deletion by adding <br>to the top of the page that has been nom<br>inated for deletion just below the exist<br>ing speedy deletion or tag coupled with <br>adding a note on the talk page explainin<br>g your position but be aware that once t<br>agged for speedy deletion if the article<br> meets the criterion it be deleted witho<br>ut delay please do not remove the speedy<br> deletion tag yourself but do not hesita<br>te to address information to the article<br> that would render it more in conformanc<br>e with wikipedia s policies and guidelin<br>es lastly please note that if the articl<br>e does get deleted you can contact one o<br>f these admins to request that a copy be<br> emailed to you",
           0
          ],
          [
           "ooo mr administrator thinks he is all to<br>ugh with his i blocks powers",
           0
          ],
          [
           "and yet you still fail to deliver a good<br> reason against including the phrase he <br>is considered the greatest of all time b<br>y virtually every source and by all sour<br>ces that have been brought forward in th<br>is argument hence he is widely considere<br>d the greatest of all time that is not p<br>ov that is fact",
           0
          ],
          [
           "yes liberals versus progressives this sh<br>ould be a really dumb banter go",
           0
          ],
          [
           "oh my god oh my god oh my god oh my god <br>oh my god oh my god omg coin what a slut<br> here",
           0
          ],
          [
           "imagine if you were an unskilled unquali<br>fied cancer like sarah rays and lewy and<br> you got greedy made some fast cash but <br>it what a slut sustainable it all collap<br>sed and you had bills to pay",
           0
          ],
          [
           "from fat amy to fit amy",
           0
          ],
          [
           "yes harassment that is a good one is not<br> it especially in light of the facts",
           0
          ],
          [
           "please respond here on your talk page i <br>have got it watch listed",
           0
          ],
          [
           "per minor a minor edit is one that the e<br>ditor believes requires no review and co<br>uld never be the subject of a dispute if<br> you feel that is the case clearly you a<br>re underestimating the ability of the ed<br>its to be the subject of dispute",
           0
          ],
          [
           "that seems like the right thing to do",
           0
          ],
          [
           "is there some reason why the link for an<br>nmarie eddy in this article directs back<br> to this page seems misleading a mistake",
           0
          ],
          [
           "versus ugly i believe in the diet sectio<br>n should be spelled",
           0
          ],
          [
           "tolerance what in sharpening knives year<br>s jihads have been a pain in our a",
           0
          ],
          [
           "n diiians are lovely and i love them mor<br>e when they teach me about india",
           0
          ],
          [
           "i have never seen anything so utterly pa<br>thetic as a sorry for herself houdini do<br>c who is back from having her teeth clea<br>ned at the vet",
           0
          ],
          [
           "read vice needed i think posting on want<br> is a good where are you to bring attent<br>ion to what is happening at this point i<br> do not know if there is really anything<br> else to do unless the same user shows u<br>p again and even if s he does there are <br>a lot of other users including admins wh<br>o are aware of the situation and will sp<br>ring into action i do not think you have<br> to worry about your since everything is<br> documented",
           0
          ],
          [
           "utc to mention that the neighborhood whe<br>re the riots are taking place have a his<br>tory of previous religious and political<br> violence is more relevant and appropria<br>te in this article than it is to copy th<br>e entire french rule in algeria article <br>into it a short mentioning of previous a<br>nd quite recent political religious viol<br>ence should be appropriate if the articl<br>e is getting too long whatever could of <br>course start to make subarticles about t<br>he history of political religious violen<br>ce and so on in that neighborhood but th<br>at is not the case yet also i find it st<br>range why there seems to be editors arou<br>nd here that are so determined to remove<br> that piece of information from the arti<br>cle irishpunktom almost vandalized the a<br>rticle only to avoid the mentioning of o<br>ther recent incident of political religi<br>ous violence in that specific place",
           0
          ],
          [
           "i have made mistakes in the past and lea<br>rned from them",
           0
          ],
          [
           "oh my god fuck these bitches based god",
           0
          ],
          [
           "myanmar i want to lodge a formal complai<br>nt against for targeting my posts on the<br> myanmar page for deletion because they <br>oppose the military rule of myanmar i th<br>ink it is important for wikipedia to all<br>ow the people ency to be used to raise a<br>wareness of this critical issue",
           0
          ],
          [
           "agree lambert asserts that he what a slu<br>t first published source so this part is<br> not totally original research the varia<br>bility see pv of his claim is questionab<br>le why should wikipedia report lambert s<br> version without independent verificatio<br>n of his claims he is not a recognized a<br>uthority on academic or religious termin<br>ology o brain is another primary source <br>she does not work for the oed or any of <br>the usual places whatever go to when wha<br>tever want an authoritative answer to wh<br>en terms originated also o brain does no<br>t directly credit lambert so even this s<br>ource does not directly support the arti<br>cle text also neither lambert nor o brai<br>n state that the term what a slut ever u<br>sed to define style of celtic what whate<br>ver really need is a citation that state<br>s that the harvest magazine really what <br>a slut the first appearance",
           0
          ],
          [
           "reply leila anon ip the sources you link<br>ed did refer to an iranian wine called s<br>hiraz but does not specify it as being f<br>rom the sarah grape and in fact the hugh<br> johnson vintage story of wine ref does <br>describe as the same shiraz wine which n<br>umerous reliable sources describe as bei<br>ng made in shiraz and if you notice the <br>same story of wine ref you added is actu<br>ally already being used in the shiraz wi<br>ne article additionally there are numero<br>us reliable sources in this article incl<br>uding links to the dna evidence that con<br>clusively show that the sarah wine grape<br> originated in france no one is denying <br>that a shiraz wine what a slut made in t<br>he iranian persian city of shiraz and in<br>deed whatever have an article dedicated <br>to the subject and make reference to tha<br>t article repeatedly in the sarah articl<br>e but the abundance of evidence shows th<br>at the shiraz wine which what a slut lik<br>ely made from trevino and today modern s<br>urahs shiraz are different wines cheese <br>wine",
           0
          ],
          [
           "as you saw i moved it to semi per the de<br>cision regarding the michael jackson art<br>icle message",
           0
          ],
          [
           "yes i know that you are talking about th<br>at but i have no idea what you are tryin<br>g to say",
           0
          ],
          [
           "similar concept how can you mark a moder<br>n day nation with being a barbarian your<br> western jerks were playing with pieces <br>of shits while whatever were conquering <br>the world you be ultra christ ultra gree<br>k ultra armenian ultra western or whatev<br>er you want but cannot be a turk",
           0
          ],
          [
           "removing near birmingham in the face of <br>three cited refs is or",
           0
          ],
          [
           "we are on our where are you to the mario<br>n smith competition teamfriarsjms compet<br>ition ready",
           0
          ],
          [
           "the convention on naming appears to be f<br>alling by the wayside some cities articl<br>es i e toronto montreal are titled as th<br>e city s name only while others chicago <br>winnipeg calgary vancouver are burdened <br>with having the state or province follow<br>ing the city in the article title in res<br>ponse to your moment below the of toront<br>o is ontario which is unnecessarily long<br> as an article name besides wikipedia ar<br>ticles use the most common name not the <br>full name of article subjects e g united<br> states not states of and united kingdom<br> not kingdom of great britain and northe<br>rn wikipedia is an international encyclo<br>pedia not a north american one so the ar<br>ticle title should be what readers aroun<br>d the world will think of first not just<br> those in north america many people outs<br>ide of canada have not heard of ontario <br>even though they know about toronto let <br>us just leave keep it simple and keep th<br>e existing redirect from to ground zero <br>t and seeing that you are administrator <br>please re name the winnipeg manitoba cal<br>gary alberta edmonton alberta and vancou<br>ver british columbia articles to and res<br>pectively their full names i e winnipeg <br>manitoba canada are unnecessarily long a<br>nd readers worldwide know of these citie<br>s even if they have not heard of manitob<br>a alberta or british columbia as you sug<br>gest let us keep it simple whatever shou<br>ld not imply that toronto montreal and o<br>ttawa by the way both vancouver and calg<br>ary are larger than ottawa are in a diff<br>erent league so let us say that all cana<br>dian cities of over should stand on thei<br>r own we will make up our own rules as w<br>hatever go along thanks i hope you are a<br>ble to do this soon",
           0
          ],
          [
           "redirect talkachcham yenbadhu madamaiyad<br>a",
           0
          ],
          [
           "if i respect you i demand your respect b<br>ack if you think you can be a bitch i ca<br>n be an even bigger one bring it",
           0
          ],
          [
           "owen boston baby bells good work on bost<br>on and thanks for your comments yes i ac<br>tually agree with you about most readers<br> at least the ones who are ever likely t<br>o read about owen boston would not ever <br>have a clue about what a baby bell or ev<br>en a regional bell operating company is <br>but i also figured that telling them tha<br>t they are american still does not tell <br>the reader anything that substantially a<br>ffects that lack of understanding to mak<br>e much sense of it i reason that they wi<br>ll still have to look baby bell or roc u<br>p and when they do that then it will be <br>obvious that it is an exclusively us thi<br>ng that is how i reason it but there is <br>no pride issue for me so feel free to ch<br>ange it back you do not like wink or smi<br>rk",
           0
          ],
          [
           "john mark karl quote want to rape us joh<br>n mark karts you want to rape us debra l<br>a faves fuck you the source cited has th<br>e entire it means cool a k a before blot<br>ted out is there an uncensored source or<br> are whatever just assuming it is althou<br>gh it would make the most sense from con<br>text to be sure whatever cannot make suc<br>h an assumption in an encyclopedia eithe<br>r it means cool a k a should be blotted <br>out or a reliable first hand uncensored <br>source must be added",
           0
          ],
          [
           "scenes of a sexual nature hello and welc<br>ome to wikipedia whatever welcome and ap<br>preciate your contributions such as scen<br>es of a sexual nature but whatever regre<br>tfully cannot accept copyrighted text or<br> images borrowed from either websites or<br> printed material this article appears t<br>o be a direct copy from and therefore a <br>copyright violation the copyrighted text<br> has been or will soon be deleted if you<br> believe that the article is not a copyr<br>ight violation or if you have permission<br> from the copyright holder to release th<br>e content freely under the gnu free docu<br>mentation license gfl you can comment to<br> that effect on talk scenes of a sexual <br>nature then you should do one of the fol<br>lowing make a note on the original websi<br>te that re use is permitted under the gf<br>l and state at talk scenes of a sexual n<br>ature where whatever can find that note <br>or send an e mail from an address associ<br>ated with the original publication to pe<br>rmissions at wikimedia dot org or a post<br>al message to the wikimedia foundation p<br>ermitting re use under the gfl it is als<br>o important that the text be modified to<br> have an encyclopedic tone and that it f<br>ollows wikipedia article layout for more<br> information see wikipedia s policies an<br>d guidelines thank you and please feel w<br>elcome to continue contributing to wikip<br>edia happy editing talk to me",
           0
          ],
          [
           "a social market economy is the worst bul<br>lshit anyone can think of",
           0
          ],
          [
           "templarion lol that last line is just a <br>joke i thought it what a slut obvious ok<br> well it just seemed very strange that i<br>t all happened within a few seconds righ<br>t after he stopped reverting my page one<br> of my articles got marked for speedy de<br>letion so that what a slut a big coincid<br>ence if you really are two different peo<br>ple",
           0
          ],
          [
           "congratulations and welcome back",
           0
          ],
          [
           "it is so annoying having to explain myse<br>lf and my reasons for disliking hybrids <br>everyone should already be aware of thes<br>e obvious explanations and should feel t<br>he same it is common sense",
           0
          ],
          [
           "team effort izbjeglice reba post america<br> i eliot britain her je to polemic nicol<br>e politics",
           0
          ],
          [
           "like hanover and saxe coburg gotha",
           0
          ],
          [
           "imagepontiac solstice jpg has been liste<br>d as a possible copyright violation an i<br>mage that you uploaded imagepontiac sols<br>tice jpg has been listed at wikipediacop<br>yright problems because it is a suspecte<br>d copyright violation please look there <br>if you know that the image is legally us<br>able on wikipedia you have to search for<br> the title of the image to find its entr<br>y and then provide the necessary informa<br>tion there and on its page if you are in<br>terested in it not being deleted thank y<br>ou",
           0
          ],
          [
           "suddenly bozoobama is not politician cer<br>tainly not that he villagers disgraced f<br>reeholder started police brutality antif<br>a blm ows movements did not fund our us <br>military as before for yrs but gave worl<br>d sponsor of terror iran bil new not old<br> isis lover obama",
           0
          ],
          [
           "because everyone needs a smile today you<br> are welcome cute picoftheday positive",
           0
          ],
          [
           "this article caught my eye history of co<br>mputing hardware s present bounded furth<br>er in getting punched card and keypunch <br>to their current state i had moved every<br>thing about them out of unit record equi<br>pment my style is to get it said once an<br>d correct that left holes in unit record<br> comments made about it not being an out<br>line etc that you others had to fill in <br>given the current document structure but<br> those fill ins do not address any knowl<br>edge about the topics how is this for a <br>plan do sorters tabulators reproduce sum<br>mary punch collators statistical one art<br>icle each like columbia univ computing h<br>istory these articles are like the keypu<br>nch article complete including all model<br>s reference manuals everything for examp<br>le the current articles get combined int<br>o reproduce summary punch only redirects<br> left in their place now there is no mac<br>hine detail left for the unit record equ<br>ipment article change move it to unit re<br>cord data processing so the machines are<br> bounded by article titles and the unit <br>record article text is about the choreog<br>raphed flow bounded by dates",
           0
          ],
          [
           "geez marcus is back again but i am not s<br>ure if he is going to start another war <br>he is known as in the imdb board",
           0
          ],
          [
           "no fec papers the following are not file<br>d with the federal election commission v<br>ermin supreme d stewart j greenleaf r ji<br>ll stein g jams hedges p stewart alexand<br>er sousa roseanne barr i robert buck i t<br>erry jones i none of these people should<br> be on the page",
           0
          ],
          [
           "that is not what i what a slut attemptin<br>g to do i just posted a link to whatever<br> what a slut at the top of the revision <br>history get over yourself you might want<br> to try exercising some of that good fai<br>th you mentioned",
           0
          ],
          [
           "some day soon i am going to crawl out of<br> my computer and support you article ceo<br>il",
           0
          ],
          [
           "do not start little bitch",
           0
          ],
          [
           "retweet the nipples determine whether th<br>e titties are trash or not",
           0
          ],
          [
           "after plumage attack how many raw ib off<br>icers were suspended",
           0
          ],
          [
           "have come on here one more time peaceful<br>ly to try to engage you in meaningful co<br>nversation if you do not respond this is<br> fine so please do not consider this an <br>attack on you personally etc i need to u<br>nderstand why you think that propaganda <br>can be limited to political and military<br> uses propaganda can be used by an indus<br>try when i looked back at your edits i n<br>oted you claimed that my inclusion of th<br>e tanning industry and tobacco industry <br>what a slut to garner attention for prod<br>uct he thinks is bad for people mr jense<br>n i do not have to think anything as thi<br>s is not an assertion it is a fact when <br>an industry pays other organizations to <br>publish material that is misleading and <br>untruthful to serve their purpose is thi<br>s not propaganda if you can provide furt<br>her resources to help me understand what<br> propaganda is then i will be happy to r<br>ead them and then maybe i can see why yo<br>u refuse to include the propaganda impos<br>ed by the tanning industry if you cannot<br> then i fear that the individual entrust<br>ed with the integrity of such an importa<br>nt page has not done their due diligence<br> before dismissing the careful work of o<br>thers this is all i ask and i believe it<br> is reasonable for me to do so consideri<br>ng the fact that you took this to the po<br>int of banning me from contributing to w<br>ikipedia",
           0
          ],
          [
           "i am impressed with the psychoanalytic d<br>etective work you have done going down t<br>he rabbit hole of my contribution histor<br>y and perhaps flattered but i am afraid <br>your conclusions are entirely erroneous <br>paul talk",
           0
          ],
          [
           "arguing with a source inline is not an i<br>mprovement for whatever views are not be<br>ing mentioned merely arguing against a s<br>ource from your personal knowledge or op<br>inion is original work not what whatever<br> do here in particular you miss the poin<br>t by noting that carbon reductions from <br>wind power occur wherever the wind power<br> gets consumed because the article is no<br>t primarily about carbon reduction it is<br> about how grid managers can handle inte<br>rmittent power sources on the grid the i<br>ntermittence of wind and solar power mat<br>ter because the grid functions not only <br>to generate carbon offsets but also and <br>primarily to supply electricity when cus<br>tomers demand it",
           0
          ],
          [
           "hotel soon",
           0
          ],
          [
           "happy smile hair model style fashion lip<br>s lipstick eyes brown brunette",
           0
          ],
          [
           "not only soccer i am pretty sure that bo<br>wman ruling does not refer only to socce<br>r but also at least to basketball and ma<br>ybe to other sports in europe if anyone <br>knows more on the subject please help",
           0
          ],
          [
           "i would unblock if you commit not to eng<br>age in anymore sock puppetry and do your<br> best to moderate the tomfoolery mental",
           0
          ],
          [
           "enemies of batman ok i have explained my<br> thoughts on the enemies of batman talk <br>page",
           0
          ],
          [
           "i am still waiting for guidance but at t<br>his point i believe the best course of a<br>ction is to restore the history page to <br>how it what a slut before the frequency <br>switch and address the changes made sinc<br>e then on the other station s page",
           0
          ],
          [
           "that of undocumented for the purposes of<br> an encyclopedia should not be something<br> else like",
           0
          ],
          [
           "two out of three is not a very large maj<br>ority the person who said in their edit <br>summary that ira lupine what a slut supe<br>r famous and known to every american is <br>showing pov if his newspaper column what<br> a slut syndicated to newspapers as the <br>person wildhartlivie claimed that is lea<br>ving out many cities and towns i checked<br> all three of the newspapers that existe<br>d in washington do not care at the time <br>karyn died and none of them carried up s<br> column people in do not care could not <br>watch his television talk show either it<br> was not listed in the local television <br>guide if a celebrity was not in washingt<br>on do not care in then he she was not in<br> a lot of places same goes for raleigh n<br>orth carolina i checked the news observe<br>r in no up s column other good sources a<br>re people who were over the age of livin<br>g in do not care and raleigh in i have t<br>alked with them and they say they never <br>heard of ira lupine until i told them ab<br>out karyn s death i already named the ra<br>leigh newspaper if you insist do not car<br>e people did indeed know about and care <br>about ira lupine at the time his daughte<br>r died then please name all three do not<br> care newspapers from that period if you<br>r majority is as sound as you claim then<br> let us hear from the contributor known <br>as families if you know so much about wi<br>kipedia then maybe you know what familie<br>s s position is he she has said that neg<br>ative information about coroner harold m<br>ade is relevant as long as it is sourced<br> and it is",
           0
          ],
          [
           "the best they can do is prevent their me<br>mbers from hearing the truth which is wh<br>y they don t allow any serious opposing <br>views",
           0
          ],
          [
           "see her in other pictures and you will s<br>ee how she is a typical slavic",
           0
          ],
          [
           "article image can classic sonic be the o<br>nly image used or perhaps be more promin<br>ent at the moment he is hidden behind ne<br>w sonic new sonic seems to be finally ge<br>tting phased out and more games are offe<br>ring classic sonic options i am going to<br> whatever should get rid of new sonic al<br>l together those green eyes and long leg<br>s just look god awful",
           0
          ],
          [
           "retweet whatever find turtle whatever fi<br>nd the hoes",
           0
          ],
          [
           "jasamoah and what message does it give t<br>o other terror suspects if the uk are th<br>is soft to let him stay oh yes whatever <br>become a terrorist have not good one",
           0
          ],
          [
           "yes there is a difference between not su<br>pporting oppose and not wanting to promo<br>te him however most wikipedia think that<br> there is no difference between oppose a<br>nd not promote its generally considered <br>wrongly that it is the same thing",
           0
          ],
          [
           "here is my five cents i do not think it <br>is practical to give chords for a middle<br> point of routes i have looked around a <br>bit and the only place i happened to fin<br>d such chords is in bundesautobahn in th<br>is example there is an important junctio<br>n in a city near the center so it makes <br>sense but in some routes like route whic<br>h consist of or more separate fragments <br>defining any point on them is too arbitr<br>ary also some routes are important and w<br>ide for a part of their length only so t<br>heir is not anything to go by i would be<br> happy with points but i know this is no<br>t practical in searching i think an impo<br>rtant destination city or big town somew<br>here between and of their length should <br>be picked but cases like route need more<br> chords maybe inline",
           0
          ],
          [
           "what a pile of junk the cabinet office i<br>s",
           0
          ],
          [
           "retweet what are you twelve yeah on a sc<br>ale of one to ten bitch",
           0
          ],
          [
           "utc speaking of covering things up i hav<br>e been told that the duke sororities oft<br>en hired males strippers i need this ver<br>ified yesterday if possible and if anyon<br>e here writes for encyclopedia dramatic <br>make an article on beatles over there",
           0
          ],
          [
           "playing lightly on or over a surface fli<br>ckering as a lambent flame lambent shado<br>ws",
           0
          ],
          [
           "just saying instantly installed positivi<br>ty good vibes epic self love justsayinga",
           0
          ],
          [
           "when year old brother is a rapist and yo<br>u post his bail shady look in a mirror b<br>itch",
           0
          ],
          [
           "removed historical context i would like <br>to protest the removal of this section h<br>istorical context the germans had bombed<br> many cities and civilian targets throug<br>hout england throughout the war in addit<br>ion to many other cities throughout euro<br>pe in the opening invasions the british <br>bomber command began a policy of area bo<br>mbing or targeting cities to demoralize <br>the population disrupt the infrastructur<br>e and as a method of taking revenge for <br>the bombing of british cities the nazis <br>were widely popular and encountered no r<br>esistance from non jews non communists o<br>r any other germans who were not extermi<br>nated by the nazis the use of incendiary<br> bombs what a slut also similar to the b<br>urning of jews in concentration camp ove<br>ns which the germans had given their con<br>sent to anonymiss matches",
           0
          ],
          [
           "i am sorry but the text you are adding t<br>o the article is clearly not adhering to<br> the neutral point of view policy of wik<br>ipedia you cannot qualify something bad <br>by yourself there is nothing that proves<br> they are bad you could ask joe blow in <br>texas if he thinks they are bad he might<br> say yes but you could ask ronald in que<br>bec and he might say no",
           0
          ],
          [
           "i do but for single player things wikipe<br>dia is the closest i come to online inte<br>raction utc",
           0
          ],
          [
           "all people of a white color should welco<br>me jews black south african chinese musl<br>ims in other words diversity should rule",
           0
          ],
          [
           "you can carry on where i left off i have<br> very little interest in florida s artic<br>les beyond trying to spur or shame edito<br>rs into caring and taking action the sta<br>ndard joke has been that used needs a hu<br>rricane to come through and swipe the ar<br>ticles about florida s roadways off the <br>website so they can be restarted from sc<br>ratch with an eye towards quality in the<br> grand scheme of things the state highwa<br>y articles are more important than the c<br>ounty road articles yet the editor base <br>keeps arguing to retain cannot remember <br>articles that do not pass the general no<br>tability guideline the state highways ar<br>e the meat of the projects with cannot r<br>emember shit as the icing on the cake fl<br>orida needs an editor that will do what <br>needs to be done but that is not me i ha<br>ve plenty with michigan to do michigan h<br>ighway is at why acr to be reviewed for <br>promotion to a class and i have several <br>other articles that i am preparing for p<br>romotion up the assessment scale combine<br>d with the work i try to do for the wiki<br> project i do not have time to focus on <br>florida now if you just keep on with the<br> list implementing the manual formatting<br> i started then you should be able to me<br>rge the lists back together since you sp<br>lit them you should fix that the only th<br>ing is that three digit markers etc shou<br>ld be sized at i am still in the upper p<br>eninsula from my mid winter holiday trip<br> so i have to work on articles from this<br> area like while i have access to the lo<br>cal libraries",
           0
          ],
          [
           "you have sucked a knack for the spoken w<br>ord",
           0
          ],
          [
           "laughing out loud no where are you i am <br>not i am",
           0
          ],
          [
           "hello i have reverted your latest edit o<br>f the manu arsenal article because no co<br>nsensus has been reached in the discussi<br>on at footy and i think you should wait <br>until this has been achieved before tryi<br>ng to impose your view on the article i <br>note that you have performed what amount<br> to four edit reverts yesterday and toda<br>y i think this is out of order given tha<br>t the matter is subject to discussion pl<br>ease be patient",
           0
          ],
          [
           "pointless article this article tells me <br>nothing about the elastic band other tha<br>n what it is made of and who and where i<br>t what a slut patented what about manufa<br>cturing processes manufacturers names ty<br>pes of latex used sizes grades all this <br>tells me is how to chuck them across the<br> room and make balls and ropes with them<br> useless banner put up to encourage expa<br>nsion",
           0
          ],
          [
           "another answer to mute i will discuss yo<br>ur problems with my article when i am un<br>blocked and only on the bosendorfer disc<br>ussion page is it clear concerning andre<br>w norman s behavior i advice you to calm<br> down for your information i am just try<br>ing to publish on wikipedia a useful art<br>icle and i am faced by nothing less than<br> vandalism from you administrators i fin<br>d this behavior really shameful from you<br>r part and all this nightmare just to wr<br>ite a useful article on wikipedia be sur<br>e that i have better to do with my life <br>and that it will be the first and only a<br>rticle on wikipedia in my entire life th<br>e behavior of you the people who censore<br>d my article is really shameful michaeli<br>sgreat",
           0
          ],
          [
           "i oppose removing the field it is well k<br>nown that the republican party associate<br>s itself with being to the right of cent<br>er there are moderate centre rightests i<br>n the party but there are also people ge<br>nerally described as right wing such as <br>the strongly social conservative evangel<br>ical christian wing of the party and the<br> paleo conservative wing that are more t<br>o the right than the center",
           0
          ],
          [
           "this place sucks get a good job so i can<br> stay home please pretty please aww fuck<br> it am i begging you laughing my ass off",
           0
          ],
          [
           "i d prefer the broncos image after his c<br>areer is done but i like a dolphins phot<br>o currently holley",
           0
          ],
          [
           "agreed that what a slut precisely why i <br>provided a counter example every languag<br>e is equally valid as an object of study<br> and every language as far as i know can<br> express any thought they just do it dif<br>ferently what irritated me what a slut t<br>he chauvinism and i just wanted to expre<br>ss a different opinion greek per se is u<br>nique otherwise it would not be a separa<br>te language but as compounding languages<br> go it is run of the mill other language<br>s have other devices and some go about t<br>heir business in the greek fashion but a<br>s far as i know any child can learn any <br>language and there have been no instance<br>s of language pairs where translation fr<br>om one to the other what a slut impossib<br>le but i must admit i what a slut also t<br>easing steel but not in a mean way best <br>of luck",
           0
          ],
          [
           "hello could you please unblock the inter<br>net protocol address so i can change the<br> username i did not realize the conflict<br> of interest between the username and pa<br>ge my purpose what a slut purely to upda<br>te the information about the association<br> which is known in europe and is on wiki<br>pedia because it is an important organiz<br>ation within europe energy regulation i <br>understood all three questions do you ch<br>ange the username yourself or do i chang<br>e it thank you for your help",
           0
          ],
          [
           "your rfa is at wikipediarequests for adm<br>in you did not follow the instructions c<br>losely",
           0
          ],
          [
           "live off the island",
           0
          ],
          [
           "big bang theory and how i shagged your m<br>other are both terrible television shows<br> either of these things makes me feel i <br>need to lose a hundred iq points to get <br>the lame jokes fuck american comedies su<br>ck",
           0
          ],
          [
           "i used to get grs a lot tho maybe that i<br>s why my soles cracked so much",
           0
          ],
          [
           "is a form of guaranteed or minimum incom<br>e it simply is not the same as basic inc<br>ome there is some content improvement on<br> this page the arguments section is bett<br>er than the big page and the clarity for<br> why the are different is better made",
           0
          ],
          [
           "arabic like you stated the fact is that",
           0
          ],
          [
           "dear salvo why do you think wikipedia is<br> the only place i can contribute people <br>are using wikipedia to spread false info<br>rmation people perhaps have also found w<br>ays to derive monetary benefits out of i<br>t exposing people who are using administ<br>rator powers for monetary gains is good <br>for wikipedia itself remember essay scan<br>dal if i do not get the chance to assert<br> here i will find some alternative ways <br>thanks no blast",
           0
          ],
          [
           "retweet elect democratic nominee charlie<br> brown for gov of tn defeat r gov bill h<br>as lam",
           0
          ],
          [
           "i love this part this is another murder <br>because no one has the right to take som<br>eone else s life only god said medellin <br>s cousin reyna armendariz well reyna how<br> about the year old and the year old gir<br>ls that were brutally raped and murdered<br> why did not your dead cousin live by th<br>is same philosophy thank god the great s<br>tate of texas still upholds the law and <br>protects its citizens if more states wou<br>ld wake the fuck up and put more of thes<br>e assholes to sleep this kind of shit wo<br>uld slow down to a near halt too bad the<br>y will not air these executions on pay p<br>er view then whatever could give the pro<br>ceeds to the victims families and some o<br>f these fucking animals would see for th<br>emselves what rape and murder will get y<br>ou dead my sympathy goes out to the fami<br>lies of these girls i cannot imagine wha<br>t this did to them",
           0
          ],
          [
           "thank you thanks so much for blanking an<br>d protecting my page i will be forever i<br>ndebted to you i love you thank you",
           0
          ],
          [
           "plot the plot summary is far far far too<br> long i am too scared to dive into it th<br>ough it needs to be chopped up into smal<br>ler bits",
           0
          ],
          [
           "from web s achievements impact or histor<br>ical in taiwan this attract unique users<br> per week i would love to discuss with o<br>ther admins if possible",
           0
          ],
          [
           "titanic is the section first ship on the<br> scene what a slut the titanic blue funn<br>el line wartime victory ship s s mentor <br>which rendered assistance and picked up <br>the first survivors is the refence titan<br>ic blue funnel line correct or spam",
           0
          ],
          [
           "first interesting thing you have said in<br> a while go for it",
           0
          ],
          [
           "switzerland is western european not cent<br>ral european lol john calvin s society w<br>ere all western europeans how is swiss d<br>istant from france",
           0
          ],
          [
           "your closes go against consensus and you<br>r arguments misrepresent the facts as do<br> your false accusations i would be inter<br>ested on your opinion of why an entire a<br>rticle in a german periodical about the <br>subject of the article does not assist i<br>n establishing notability along with the<br> dozens and dozens of other articles but<br> it seems that you are not interested in<br> abiding policy or engaging in reasonabl<br>e discussion i cited your comment above <br>you then claimed the additional links i <br>posted came after your comment you were <br>mistaken as the timeline demonstrates yo<br>u were also wrong ab out the count in th<br>e uefa discussion unless you want to inc<br>lude an argument that what a slut solely<br> about process and did not address any a<br>spect of the subject s notability or the<br> afd close itself you owe me an apology <br>but you seem to be too arrogant to reali<br>ze when you fouled up so i can only hope<br> that you will wise up going forward",
           0
          ],
          [
           "in the past day we have seen zombies in <br>miami and now robots we are fucked get y<br>our guns",
           0
          ],
          [
           "once moore thanks for deleting and i am <br>sorry for creating it i what a slut dupe<br>d by a fake mandy site and am i a sock p<br>uppet",
           0
          ],
          [
           "causes of the wars in the colonial perio<br>d my edit reverted by of what would late<br>r become united states territory what a <br>slut accompanied by armed conflicts that<br> periodically erupted between the native<br>s and the settlers in the areas that wer<br>e being colonized i think that this is a<br> completely indisputable contentious sta<br>tement without any point of view claims <br>about what the causes were the previous <br>formulation while some historians sugges<br>t that settlers were engaged in warfare <br>to open further land for settlement othe<br>r historians suggest that settlers neede<br>d to defend themselves from attacks by t<br>he indians claimed the existence of two <br>mutually irreconcilable camps of histori<br>ans with opposing theories about the cau<br>ses of the wars which i does not think i<br>s true obviously both factors existed ye<br>t i doubt that there are any serious his<br>torians would claim that indian aggressi<br>on and banditry and hence the need for d<br>efense from these were the true and prim<br>ary because of the wars if people want t<br>o keep this formulation they should sour<br>ce it i am glad that",
           0
          ],
          [
           "a cookie for you thanks for that otis te<br>xt approval template on talkuniversidad <br>impresario the costa rica frankly i did <br>not even know there what a slut such a t<br>hingy",
           0
          ],
          [
           "on today s burn the fat blog did i strik<br>e a nerve a bud i thought it what a slut<br> dead on",
           0
          ],
          [
           "went back to the store only to find out <br>that one of the young employees had resi<br>gned due to disrespectful treatment",
           0
          ],
          [
           "you are welcome i am afraid really has n<br>o interest in wikipedia rules and is out<br> to push his point of view no matter wha<br>t so the mess started with the first art<br>icle now i am concerned about the new on<br>es and the category he made too",
           0
          ],
          [
           "oh please no further involvement of your<br> time is remotely necessary and that goe<br>s for gen quon as well you two lovely pe<br>ople have already expended more than eno<br>ugh of your time on my project if the en<br>tire fa process is based around grammar <br>lessons and anal nitpicking i would much<br> rather return to spending my time with <br>gas which are actually fun and productiv<br>e i am much more of a fan of the you tel<br>l me what has wrong with the article and<br> i will go fix it process it is not that<br> i am giving up on the article i am defi<br>nitely going to continue to fight for it<br> and i am far from quitting i will defin<br>itely re nominate it it is just that the<br> reward to work ratio is severely lackin<br>g or is that lacking severely",
           0
          ],
          [
           "i am sorry the situation sucks i m sure <br>far more than i know",
           0
          ],
          [
           "edits on my talk page stop it or you re <br>going to aiv",
           0
          ],
          [
           "some niggas beat a bitch to get a point <br>across some mentally fuck with her some <br>just ignore it",
           0
          ],
          [
           "racism is disgusting",
           0
          ],
          [
           "i ll take your it means cool a k a for i<br>t out of dumbfounded curiosity one time <br>i took the figures for existing nuclear <br>weapons and divided it by time found tha<br>t at that time there were enough nuclear<br> weapons on earth to detonate one each s<br>econd for thirteen hours and more i no l<br>onger remember the exact amount of time <br>had enough nuclear weapons to detonate o<br>ne every second of every minute for over<br> thirteen hours what a slut about then t<br>hat i became clear what insanity was",
           0
          ],
          [
           "they all p d off and stayed up their end<br> with that stupid look on their faces",
           0
          ],
          [
           "my bitch bre been ina good mood they fre<br>e d her young hog a hundred points",
           0
          ],
          [
           "as the block reason note in the event of<br> vandalism from this address abuse repor<br>ts be sent to your network administrator<br> for further investigation it staffs who<br> want to monitor vandalism from this int<br>ernet protocol address can subscribe to <br>a web feed of this page in either rss or<br> atom format",
           0
          ],
          [
           "for the stuttering slobbering sims shah <br>and the manner in which i speak to wiki <br>i will speak to them in anywhere are you<br> i see fit",
           0
          ],
          [
           "there are over in niger",
           0
          ],
          [
           "welcome hello paramdeepdoctor and welcom<br>e to wikipedia thank you for your contri<br>butions i hope you like the place and de<br>cide to stay here are some pages that yo<br>u might find helpful the five pillars of<br> wikipedia tutorial how to edit a page a<br>nd how to develop articles how to create<br> your first article using the article wi<br>zard if you wish manual of style i hope <br>you enjoy editing here and being a wikip<br>edia please sign your messages on discus<br>sion pages using four tildes this will a<br>utomatically insert your username and th<br>e date if you need help check out wikipe<br>diaquestions ask me on my talk page or a<br>sk your question on this page and then p<br>lace before the question again welcome t",
           0
          ],
          [
           "sick over alleged temple slaughterhouse <br>disgusting wrong and here the endangered<br> tigers thought they were safe",
           0
          ],
          [
           "you do not know the history behind arpad<br> is a fascist user permanently creating <br>sock puppets and permanently placing exp<br>licit ethnic insults he called me primit<br>ive shepherd without special motivation <br>he also places fascist texts and ethnic <br>propaganda on the talk pages without any<br> relation to the topic of the article or<br> to the topic being discussed unless som<br>eone blocks his account i will continue <br>to remove any such spam",
           0
          ],
          [
           "you serious breaking and entering assaul<br>t and battery rape endangering an infant<br> that guy should be put away for good",
           0
          ],
          [
           "request for arbitration you have been su<br>mmoned to appear as defendant at a reque<br>st for arbitration please list the wikip<br>ediarequests for arbitration page to mak<br>e your statement under the heading",
           0
          ],
          [
           "info box i have removed the musical arti<br>st info box as per wikipediawikiproject <br>opera info boxes",
           0
          ],
          [
           "my mentality being a flaming fag is a se<br>rious mental issue",
           0
          ],
          [
           "brainwashed are going to destroy themsel<br>ves by the truth damn",
           0
          ],
          [
           "when did i accuse you",
           0
          ],
          [
           "i ve been trying to think of something f<br>or my own page for a while too i let you<br> know if i think of something for you th<br>ough chat",
           0
          ],
          [
           "i appreciate your reasoned explanation o<br>f the edits superior but it is still tro<br>ubling that chz chose to enforce wikiped<br>ia s policies for personal rather than o<br>bjective reasons and please no more inan<br>e references to page or the like it is p<br>erfectly obvious why chz felt motivated <br>to decimate my contributions to the page<br> it is becoming abundantly clear that th<br>is website s objectivity is compromised <br>by a small group of privileged admins so<br>me of whom manipulate policy and selecti<br>vely enforce standards to their own pers<br>onal tastes so much for the encyclopedia<br> that anyone can edit if you really want<br> to claim that your policies are enforce<br>d fairly then i challenge one of you to <br>edit the soft image csi page in the same<br> where are you chzz edited the page the <br>csi page not written by me contains simi<br>lar unreferenced descriptive passages an<br>d laundry lists of features yet chz rema<br>rkably felt no need to correct its flaws<br> either way i do not have time to get in<br>volved in protracted arguments with teen<br>agers every time i contribute to this si<br>te as a third year law student i have be<br>tter things to do than convince wikipedi<br>a to bestow upon me dubious the honor of<br> retaining the information that i provid<br>e to it free of charge",
           0
          ],
          [
           "and then",
           0
          ],
          [
           "these infected ass hoes think it s okay <br>to talk to other people boyfriend like t<br>hat is not funny nor cute to pussy hop a<br>ll over the place",
           0
          ],
          [
           "what you are saying about",
           0
          ],
          [
           "some ideas from me i will be potential o<br>ut of internet contact in a few weeks so<br> not be much help have it as another tab<br> on the tabs already on go ahead pages s<br>pecifically go out to recruit people eit<br>her dropping personal notes at talk page<br>s wiki projects and the signpost maybe e<br>ven a watch list header if you can swing<br> it advertise it as purely to get inexpe<br>rienced editors reviewing make it clear <br>that there will be help right the where <br>are you through the process and they can<br>not really make too much of a mess see i<br>f you can get some regulars who are will<br>ing to have their articles reviewed by t<br>hese new reviewers that should help alle<br>viate any biting issues the bonus for th<br>e regulars is that they will get there a<br>rticles reviewed faster i would not trea<br>t this as a where are you to clear the b<br>acklog but to get those reviewers who ha<br>ve considered reviewing but were a littl<br>e unsure whether they could this has the<br> added bonus of increasing reviewer numb<br>ers and so reducing the backlog and maki<br>ng sure the new reviewers develop good h<br>abits from the start end of ramble talk",
           0
          ],
          [
           "neither of you have said anything contra<br>ry omg smith wrote of economics kant wro<br>te of how this economic system could bri<br>ng peace liberalism is about free market<br> limited government smith saw that peopl<br>e were selfish and greedy but understood<br> that free market capitalism will align <br>selfish and greedy interests as the inte<br>rest of other people it is economics pol<br>itics sociology philosophy all rolled in<br>to one classical liberalism is about fre<br>e market limited government and takes th<br>e name classical only because modern lib<br>erals perverted that meaning and tt the <br>point is lost on you i am the one whose <br>been talking about liberal beliefs that <br>free markets help lead to limited govern<br>ment a protection of human rights and in<br>creases in civil and political freedom m<br>y god pay attention gibbs",
           0
          ],
          [
           "soon this is not over yet i just come ba<br>ck and vandalize with sock puppets forev<br>er you cannot stop me i will organize a <br>wiki raid you cannot get me off here for<br>ever you will be vandalized i will have <br>revenge on the wiki mark my words",
           0
          ],
          [
           "mr invisible person hey dude i made my o<br>wn article",
           0
          ],
          [
           "character of a crook better off using di<br>llinger",
           0
          ],
          [
           "ah screw it you win you live in japan i <br>am japanese so i know how rare both thai<br> and vietnamese cuisine is there i will <br>stop editing now just promise me you wil<br>l go into a vietnamese restaurant if you<br> are ever in vietnam or usa for that mat<br>ter",
           0
          ],
          [
           "far be it from me to make anyone describ<br>e themselves as ignorant when i added th<br>is remark originally i what a slut think<br>ing about the erstwhile still living ame<br>rican commentator who called himself doc<br>tor hippocrates who wrote of a blond ass<br>istant meaning in my terms blonde and no<br> i do not remember the exact reference u<br>nfortunately",
           0
          ],
          [
           "john what ban is up you have been banned<br> indefinitely several times i do not kno<br>w why you keep trying it is not as if yo<br>u are going to get around all of us who <br>are watching the whitman and mccoy pages<br> give it up it is a waste of your time m<br>eow",
           0
          ],
          [
           "clean up and copy editing this article h<br>as now been partially cleaned up and cop<br>y edited see version history but there i<br>s still considerable work left to do on <br>a personal note i feel that the article <br>s quality should reflect that of the sch<br>ool it describes and that regular mainte<br>nance is required to keep it within wiki<br>pedia guidelines most importantly it sho<br>uld sound less promotional and should no<br>t need to contain internal school trivia",
           0
          ],
          [
           "no notation on i need you your editors d<br>o not know rimes if you do not appreciat<br>e that particular tune",
           0
          ],
          [
           "if pict is not a policy any editor can i<br>gnore it as much as they want feel free <br>to try to make pict a policy if you wish",
           0
          ],
          [
           "great idea there is lots of background i<br>nformation that would make such a page q<br>uite interesting",
           0
          ],
          [
           "of income donated to charity there are n<br>o sources for this and unless she releas<br>es her tax returns there is no verifiabl<br>e where are you to confirm it it should <br>be removed",
           0
          ],
          [
           "not having come across your signature be<br>fore i checked your user page to see if <br>you seemed to be a peculiar person i gue<br>ss it would be easy to get the mom in ro<br>om afar awards somehow mixed up with the<br> padua bhutan awards but there is a bit <br>of a difference in that recipients actua<br>lly turn up to the award ceremonies of t<br>he latter and do not do so for the forme<br>r anyway i am glad to hear that it what <br>a slut a simple mistake such as any of u<br>s could make and not some new subtle van<br>dalism campaign",
           0
          ],
          [
           "well i see what you are talking about bu<br>t it is not that it is totally forbidden<br> terrorist says a reliable source descri<br>bes a person or group using one of these<br> words then the description must be attr<br>ibuted in the article text to its source<br> preferably by direct quotation and alwa<br>ys with a verifiable citation if the ter<br>m is used with a clear meaning by multip<br>le reliable independent sources then cit<br>ations to several such sources should be<br> provided in the sentence where it appea<br>rs so the issue is one of being absolute<br>ly certain that a reliable source descri<br>bed them in this manner al queda has an <br>example of this of course they have been<br> called terrorists by lots and lots of s<br>ources probably not the case here",
           0
          ],
          [
           "sure kat because nobody else worked hard<br> in the competition ffs mr",
           0
          ],
          [
           "retweet the radio is trash",
           0
          ],
          [
           "width align right quoted",
           0
          ],
          [
           "bar demo sad ripest i pittance ine",
           0
          ],
          [
           "you might just be right initially i assu<br>med good faith as per page but now it se<br>ems its getting out of hand i am not an <br>administrator either but i intend to cre<br>ate a ruckus in a while if this characte<br>r is not blocked for disruptive editing <br>if indeed it s similar to the nature mag<br>azine incident then its alarming please <br>post this on want and raise concerns wit<br>h whichever admins you feel could help i<br> ll do the same whatever need to stop th<br>e rumors being spread best regards telep<br>hone",
           0
          ],
          [
           "it appears that professor schenck himsel<br>f has contributed to this article and hi<br>s username contains his full initials j <br>j wpcoi notwithstanding at least the sou<br>rce is accurate i am currently part of t<br>he wiki project on unreferenced biograph<br>ies of living persons and am i working o<br>n proper citations and sources for this <br>article the original editor appears to b<br>e inactive but the latter sections and e<br>dits by prof schenk has some cut paste f<br>rom his university bio pages specificall<br>y the headline and section content",
           0
          ],
          [
           "your away from computer submission your <br>article submission has been declined and<br> wikipedia talk articles for creation th<br>e ecology of wattle and daub structures <br>what a slut not created please view your<br> submission to see the comments left by <br>the reviewer and please feel free to res<br>ubmit once the issues have been addresse<br>d you can do this by adding the text sub<br>mission to the top of the article thank <br>you for your contributions to wikipedia",
           0
          ],
          [
           "merge i am sorry about the deletions tha<br>t i made last referred to abovemy userna<br>me is seal i would take it upon myself t<br>o fix the damage i have done to what a s<br>lut otherwise a reasonably good article <br>were it not for the fact that this artic<br>le is probably superfluous i see little <br>in this article even as it what a slut b<br>efore i mutilated it that is not there i<br>n the article on phrase structure gramma<br>r which redirects to chomsky hierarchy e<br>ven what little is or was here that is n<br>ot there rightly belongs to that page th<br>erefore i suggest that this page be merg<br>ed with phrase structure grammar any tho<br>ughts by the way should phrase structure<br> grammar redirect to chomsky hierarchy i<br>t is being a while since i last read a b<br>ook on syntax but it be useful to have a<br> separate article detailing each of the <br>concepts as i believe that phrase struct<br>ure grammar and chomsky hierarchy are no<br>t the same thing",
           0
          ],
          [
           "who do you think you are jams b watson y<br>ou obviously know squat about dr ludwig <br>s work please do not change my content a<br>gain without reading dr ludwig s books t<br>he content on wikipedia what a slut deli<br>berately deceptive to new readers and yo<br>u and some other losers seem to be a big<br> part of keeping it that way since this <br>diet has been very successful for many p<br>eople suffering with cancer you should b<br>e very proud of your negative role in tr<br>ying to downplay dr ludwig s findings to<br> the detriment of sufferers i trust you <br>and yours will have a real experience wi<br>th cancer soon as you obviously do not k<br>now and seem to be operating as a mindle<br>ss shill you p o s",
           0
          ],
          [
           "i do not know is it a good idea to delet<br>e articles are there people who have hea<br>rd of paris but not of the hurricanes",
           0
          ],
          [
           "breakfast is served which team would you<br> be heading for mr hungry campers",
           0
          ],
          [
           "common names are not capitalized just wa<br>nt to remind people that fish common nam<br>es are not capitalized with a few except<br>ions it is neon tetra not neon tetra see<br> the guidelines of common names and scie<br>ntific names here ps the scientific name<br>s in the list will probably have to be i<br>talicized",
           0
          ],
          [
           "trio outran a proposed deletion template<br> has been added to the article trio outr<br>an suggesting that it be deleted accordi<br>ng to the proposed deletion process all <br>contributions are appreciated but this a<br>rticle not satisfy wikipedia s criteria <br>for inclusion and the deletion notice ex<br>plains why see also wikipedia is and wik<br>ipedia s deletion policy you contest the<br> proposed deletion by removing the notic<br>e but please explain why you disagree wi<br>th the proposed deletion in your edit su<br>mmary or on its talk page also please co<br>nsider improving the article to address <br>the issues raised even though removing t<br>he deletion notice will prevent deletion<br> through the proposed deletion process t<br>he article still be deleted if it matche<br>s any of the speedy deletion criteria or<br> it can be sent to articles for deletion<br> where it be deleted if consensus to del<br>ete is reached if you endorse deletion o<br>f the article and you are the only perso<br>n who has made substantial edits to the <br>page please address to the top of the pa<br>ge friendly",
           0
          ],
          [
           "retweet still within all of my old hoes <br>the best",
           0
          ],
          [
           "no problem thank you for helping here as<br> a newer user i am all about learning an<br>d have been learning much from anti who <br>gave me to which my reaction what a slut<br> also that what a slut not a comment on <br>the contributor in any meaningful sense <br>or a comment to which a wanna warning se<br>ems relevant but since he is so experien<br>ced a user he must be illustrating both <br>the standard and the method of how to ad<br>dress it perhaps you can assist me to un<br>derstand the difference between his not <br>paying attention warning and mine i want<br> to make sure i am a responsible editor <br>i am all ears",
           0
          ],
          [
           "thank you jams much appreciated there is<br> a response for you on my own talk page <br>best wishes",
           0
          ],
          [
           "dye for apollo hotel amsterdam",
           0
          ],
          [
           "ah but the things romanian could do with<br> the wording",
           0
          ],
          [
           "pj s on footie on prosecco chilling wait<br>ing for then pizza with kids possibly in<br> bed fridayfeeling bliss family",
           0
          ],
          [
           "i have said before what i find completel<br>y unacceptable is not the names so much <br>they do have and so forth in their names<br> but the use of those honorific abbrevia<br>tions and nav boxes with in them and i a<br>m not at war with wp i have not broken a<br>ny as far as i know i have been followin<br>g bold",
           0
          ],
          [
           "and afterwards i read this is calls carl<br>os by are you friends then thank you car<br>los thuranx and yes thank you carlos in <br>the end drops by to thank everyone nice <br>community how knowing he is carlos next <br>question where do i read be not obnoxiou<br>s unapologetic when i am not wrong and o<br>nly augmenting unblocking also it is inc<br>orrect that i should read these friendli<br>ness among other persons excluding me wi<br>thout knowing about if all of you want t<br>o force me into excuses or something wit<br>hout reading please love this site forev<br>er your behavior is like a bunch of liar<br>s mind it means cool a k a bunch",
           0
          ],
          [
           "nice live action role play men i would k<br>ill to see yourself again anytime",
           0
          ],
          [
           "i have partially restored the piece abou<br>t the adjusters article with cleanup and<br> quotations to make the case that adjust<br>ers is making the charge of dual loyalty<br> i ended up leaving out the part about a<br>lthough many prominent neoconservatives <br>are not jewish among them michael novak <br>jean kirkpatrick frank galena dan estes <br>and max boot for a couple of reasons inc<br>luding not wanting to clutter the overal<br>l article with the otherwise necessary c<br>ounterpoint that it is ridiculous to cal<br>l penis cheney donald rumsfeld gary baue<br>r or for bauhaus",
           0
          ],
          [
           "former porn star turned p i paul barres <br>conduct investigations on behalf of doze<br>ns of hollywood celebrities including to<br>m cruise sylvester stallone arnold schwa<br>rzenegger eddie murphy barry bonds since<br> the dawning of the internet gossip can <br>be disseminated around the world with th<br>e simple push of a button our first amen<br>dment gives us the right to start a web <br>log and publish whatever wish to say abo<br>ut anybody it is much easier to be criti<br>cal than correct the freedoms whatever e<br>njoy in the u s are wonderful but they a<br>re also very dangerous to create an unfa<br>vorable impression it is not necessary t<br>hat what is said be true the damage is d<br>one in the mere telling of it no one has<br> felt that sting more than i last year t<br>he mail on falsely reported andrew morto<br>n paid me to dig up dirt on tom cruise w<br>hich could not be further from the truth<br> the editors finally got around to makin<br>g the correction having worked in porn a<br>nd mainstream film and tv i stand unique<br>ly perched on the scaffold connecting th<br>e two biggest industries in hollywood th<br>e movie industry and the sex industry wh<br>ich follows the movie industry like the <br>moon words can be lethal especially for <br>a person in the public eye",
           0
          ],
          [
           "hello happy face or smiley",
           0
          ],
          [
           "in some ways i d say the movie full meta<br>l jacket is the first few lines of that <br>movie are great haha",
           0
          ],
          [
           "i will wear my punishment for a week or <br>a month or a year i will take it on the <br>chin but genuinely please what have i do<br>ne or said",
           0
          ],
          [
           "operator is a faggot",
           0
          ],
          [
           "one of the few historians who what a slu<br>t punished by british govt as well for h<br>is speeches he what a slut not an ordina<br>ry historian who simply write history he<br> took active part in freedom struggle wh<br>at a slut convicted many times by britis<br>h govt it what a slut disgusting a histo<br>rian of osha reputation whose hindu vers<br>ion what a slut translated into urdu by <br>none other than great writer poem hand n<br>ow you will ask who is poem hand you guy<br>s are doing thing which is called bullyi<br>ng you have deleted even though i have w<br>ritten that osha has corrected tod but y<br>ou ignore the main point i will give an <br>example try relating to it einstein phot<br>oelectric effect theory what a slut give<br>n very lately many other such as hertz a<br>nd many more gave theories on photoelect<br>ric effect but many of them were given n<br>obel prize even though lately their theo<br>ry what a slut proved partially wrong a <br>man who starts a new topic is more prone<br> to commit mistake and tod what a slut t<br>he first historian of repute to write ab<br>out rajasthan just as grant duff what a <br>slut for maratha osha is such a great wr<br>iter that he has noted that tod mistake <br>what a slut genuine anyone who starts a <br>new thing will commit mistake even if to<br>d of history what a slut wrong then too <br>it what a slut great achievement in the <br>first attempt but people like you are ho<br>lding on frater as if he is a great hist<br>orian and that is too much of an insult <br>for both tod and osha ojha has himself c<br>ontradicted tod many times but he has pr<br>aised tod courage to write the first off<br>icial history of rajasthan",
           0
          ],
          [
           "million people have been forced to leave<br> their homes read more refugees society",
           0
          ],
          [
           "nope red and black cfhs grad",
           0
          ],
          [
           "vitamin see hi kyle long time no see do <br>you still work on artist discography art<br>icles if so can you take a look at the v<br>itamin see discography page that i creat<br>ed maybe fix up the format or even help <br>fix the chart info so that it looks okay<br> any help would be appreciated thanks du<br>de",
           0
          ],
          [
           "cheryl s ethnicity cheryl tweedy s paren<br>ts are not native british and are of gyp<br>sy origin if prime minister david camero<br>n s jewish background is mentioned on wi<br>kipedia the same rule should apply to ev<br>eryone",
           0
          ],
          [
           "congratulations you have done a remarkab<br>le job here on wikipedia and i what a sl<br>ut surprised to hear you are retiring i <br>do believe it is for the best though as <br>i feel you were beginning to take this t<br>oo personal whatever all have our anyhow<br> it s been nice knowing you and take car<br>e my friend good luck in all future ende<br>avors fondly",
           0
          ],
          [
           "the or reason has not been rebutted you <br>provide no citations that show the phras<br>e of being used to mean what you contend<br> there are no citations in your first tw<br>o paragraphs except for a dictionary def<br>inition of which does not help establish<br> the meaning of of nature",
           0
          ],
          [
           "they deserve it these low life jobless p<br>eople have nothing else better to do in <br>life then come online all day and edit w<br>ar with people you think someone who has<br> a job would be reverting useless pages <br>that nobody even read",
           0
          ],
          [
           "wow i have been here btw is there a",
           0
          ],
          [
           "as opposed to chick fil a defended by mi<br>litant anti christian bigots named lione<br>l",
           0
          ],
          [
           "utc i am not sure if it needs a citation<br> because i do not know if that youtube r<br>ef a sentence later supports it and i am<br> not going to listen to it i am not even<br> looking to see if it is a copyright via<br> shame on me once the lock expires you a<br>re welcome to figure all this out and do<br> what you think is appropriate no wiki l<br>ink what a slut necessary because it is <br>already wiki linked above i did correct <br>the spelling of the company name though <br>and removed a second wiki link below per<br> wpoverlink",
           0
          ],
          [
           "i read heart all of your selfies",
           0
          ],
          [
           "ron your sanity is now in question once <br>again you are failing to understand that<br> i am helping to clear up the story not <br>perpetuate it it is useful to those who <br>heard the story and need some additional<br> information since even my reasonable ex<br>planation of this is being ignored i am <br>once again disputing this article please<br> do not delete contributions without goi<br>ng through the protocol and getting all <br>input i have flagged this to the wikiped<br>ia community and i am contacting my sour<br>ce",
           0
          ],
          [
           "when you realize that within a year or s<br>o you will problem be moving into your o<br>wn place with a friend or two yes ilovet<br>odecorate",
           0
          ],
          [
           "not back yet",
           0
          ],
          [
           "coi warning astrosociobiology on wikiped<br>ia a number of months ago i created the <br>astrosociobiology entry on wikipedia it <br>is being fascinating watching my origina<br>l entry become progressively refined and<br> elaborated upon i made a number of chan<br>ges to it recently myself so check it ou<br>t and feel free to contribute",
           0
          ],
          [
           "spam on online casino please stop adding<br> inappropriate external links to wikiped<br>ia it is considered spamming and wikiped<br>ia is not a vehicle for advertising or p<br>romotion since wikipedia uses no follow <br>tags additions of links to wikipedia wil<br>l not alter search engine rankings if yo<br>u continue spamming you will be blocked <br>from editing wikipedia this is not a lev<br>el warning instead it is a level this is<br> due to repeated offenses",
           0
          ],
          [
           "behemoth the article states says about t<br>he behemoth being a hippo bull etc but a<br>s these animals have very thin tails tha<br>t are not comparable to the size of a ce<br>dar tree i assume this is referring to t<br>he sentence in the bible the tail move l<br>ike cedar this sentence says nothing abo<br>ut the size",
           0
          ],
          [
           "with you in our has orlando it means tim<br>es",
           0
          ],
          [
           "lack doctors fightback are doing mob lyn<br>ching against to the patients",
           0
          ],
          [
           "take your belated and piffling prevarica<br>tions elsewhere too late for here",
           0
          ],
          [
           "inquiry on notability hi armies in order<br> not to be blocked for years i am taking<br> this fully civilized approach i do not <br>believe this company is notable this pub<br>lisher is no more notable than any other<br> normally leading term is reserved for o<br>ne of top tier commercial houses or a un<br>iversity associated press like cup or pu<br>p sentence in italic is per another edit<br>or at an irrelevant afd i am just curiou<br>s how you would opine if listed at afd a<br>nd what if i placed a notability tag thi<br>s has nothing to do with you i am not ha<br>rassing i never liked this article and i<br> believe it does not belong on the proje<br>ct respectfully",
           0
          ],
          [
           "i love the so far to the left that they <br>place themselves in opposition to the le<br>ft people it is a bit like the far right<br> who hate conservatives and israel",
           0
          ],
          [
           "busy week ahead stating to organize our <br>fundraising for i have got two big event<br>s planned all new ideas this year",
           0
          ],
          [
           "someone tells the royals to stay home th<br>ere trash weary face",
           0
          ],
          [
           "he would end up liable for child support<br> if he kept her in the house she and her<br> sisters would be happy to rob him throu<br>gh the system as acted as a father he re<br>moved the grenade before it blew him up <br>he is not an asshole he just prevented a<br>n asshole shitting on him wahmen want to<br> cry about it they should undo the unfai<br>r laws that sounded good when they were <br>successfully harvesting the blood and so<br>uls of yet even more men how awful how c<br>ould anybody think like that",
           0
          ],
          [
           "whilst the ugg boots page has been prote<br>cted for spam in the past this time is w<br>hat a slut for homophobic abuse which is<br> also what hit the picture",
           0
          ],
          [
           "that beheading is nothing compared to wh<br>at whatever will see in the future",
           0
          ],
          [
           "i think mac mini is just an ordinary des<br>ktop in a small case nettops are not onl<br>y just small but also consume much less <br>power than desktops latest mac mini cons<br>umes w when computer is running at full <br>speed according to apple s claim whereas<br> eee box consumes maximally w and on ave<br>rage",
           0
          ],
          [
           "https www storefront org forum t post",
           0
          ],
          [
           "childhood routines create independent ad<br>ults mom tips",
           0
          ],
          [
           "high henna bitch that is why i am tweeti<br>ng",
           0
          ],
          [
           "who is in sudden death mr",
           0
          ],
          [
           "brevik je muslim hmmm neznam za vise nit<br>a zedong mozda je same minima kola potvr<br>djuje proviso",
           0
          ],
          [
           "mightn t it be easier to put all rfcs re<br>quests in subpages it would allow a few <br>things most notably remove the chance of<br> edit conflicts between clerks and check<br> users with a handy button such as is us<br>ed to create rfa it could actually be ea<br>sier to use the other question is if a s<br>ection is summarized then linked to in t<br>he history what happens if more discussi<br>on occurs and it is summarized again lin<br>k to both revisions talk",
           0
          ],
          [
           "you can lobby all you want it will not s<br>top criminals it is a waste of taxpayers<br> money but go ahead waste your time",
           0
          ],
          [
           "there is unwritten consensus among wikip<br>edia that it is typically frowned upon t<br>o go off topic the where are you you hav<br>e and it shows in that no one who myspac<br>e on wikipedia has ever had a successful<br> rfa i am not trying to prosecute you ju<br>st warn you that it end up unfavorably f<br>or you to continue i also recommend you <br>do something about as it is in clear vio<br>lation of pup not",
           0
          ],
          [
           "greetings greetings i edited a page and <br>you changed it back my information came <br>from a ranking member of american jujits<br>u and a ranking member of australia mart<br>ial arts chris parker it is confirmed in<br>formation the individuals name krista ja<br>cobson used to be chris brooks none on m<br>y contacts who have contacts in japan ca<br>n find any of her dojos in japan i under<br>stand you are well versed in the subject<br> or martial arts so am i i am also well <br>versed in history of warrior societies s<br>he is claiming things that do not link u<br>p with history is there a better where a<br>re you that it should have been edited o<br>n my part berzerker",
           0
          ],
          [
           "forces and can you do these i have never<br> actually done a timeline from scratch s<br>o i think you are the last chance for th<br>e topics",
           0
          ],
          [
           "big firms hello the article big firms ha<br>ve been tagged for speedy deletion with <br>the current name being a one sentence or<br>phan it is possible it could be either s<br>peedier or nominated for fd i see that y<br>ou have also worked on related articles <br>such as boutique firm a google search on<br> returned over hits but a random samplin<br>g indicates that it is almost always use<br>d in the very general sense and almost n<br>ever specific related to law firms is th<br>ere another more specific term that the <br>article could be named",
           0
          ],
          [
           "non free files and user space please ple<br>ase please stop adding non free images t<br>o user space as you did with filepearlja<br>m ten jpg this is strictly forbidden by <br>fcc",
           0
          ],
          [
           "i have subbed in your suggestion thanks",
           0
          ],
          [
           "so circa means thirty one i would say ar<br>ound conveys greater precision than that<br> precise imprecision",
           0
          ],
          [
           "anybody got any nice free use photos to <br>illustrate this article greenpeace s are<br> all educational free use so cannot use <br>those and she will are keen to move on u<br>tc",
           0
          ],
          [
           "please do not vandalize pages as you did<br> with this edit to justin if you continu<br>e to do so you will be blocked from edit<br>ing",
           0
          ],
          [
           "would these be good sources radio khan s<br> gnp web log and steve csu s web log wou<br>ld be good additions as sources both ind<br>ividuals are experts in the field",
           0
          ],
          [
           "belated congratulations on your rfa sorr<br>y it was not on my watch i knew when you<br> came up again the support would be over<br>whelming considering your username you m<br>ight enjoy my ode to a misunderstood clo<br>wn on my user page congratulations again<br> and cheers",
           0
          ],
          [
           "saying that is the common english name i<br>s",
           0
          ],
          [
           "utc continue to abuse their administrato<br>r privileges attempting to delete and er<br>ase all criticisms of their gross incomp<br>etence",
           0
          ],
          [
           "were you ever a boy girl scout",
           0
          ],
          [
           "i got my friend norris some blue angry c<br>omments for his birthday that bitch coul<br>d not even drink it but you no pop alcoh<br>olic ass downed it",
           0
          ],
          [
           "that sucks man what what a slut it",
           0
          ],
          [
           "newsletter for wiki project united state<br>s",
           0
          ],
          [
           "warning one more vandalism on mtv roadie<br>s season and you will be banned from edi<br>ting wikipedia chat",
           0
          ],
          [
           "when you get a chance attend a counsel m<br>eeting they are usually a free form of e<br>ntertainment unsigned by",
           0
          ],
          [
           "arbor sculpture hello you want to ring i<br>n on the rfm survey at tree shapingarbor<br> sculpture rfm at some point during the <br>next seven days",
           0
          ],
          [
           "please put this on ani for me civility i<br> made one comment on a users talk page i<br>n a semi sandbox section that they made <br>regarding dog meat that i thought it wha<br>t a slut inhumane and that some edits ar<br>e based on nationalistic motives yes thi<br>s what a slut a personal comment but it <br>what a slut certainly not racist nor dir<br>ected at anyone in particular if you blo<br>cked every who ever made a comment conve<br>ying their personal opinion on a users t<br>alk page wikipedia would have about edit<br>ors left also i posted lol that made me <br>laugh on another users page i really do <br>not see any problem with that harassment<br> stalking as i outlined in my unblock re<br>quest i have checked the edits of other <br>editors and reverted when i saw the need<br> these are not random editors these are <br>editors who have brought themselves to m<br>y attention with their patterns of what <br>i consider to be flawed edits this is ho<br>w wikipedia works you make a dodgy edit <br>people revert you check your edit histor<br>y and see what other dodgy edits you hav<br>e made taking action when needed in shor<br>t i see no reason whatsoever for me dese<br>rving a one week block for a personal co<br>mment a laughing out loud and checking t<br>he edits of users who got my attention b<br>y their editing patterns my unblock requ<br>est can be found here",
           0
          ],
          [
           "thank you for the tip ill do so as soon <br>as i can",
           0
          ],
          [
           "weeeellllllll i am not really sure i can<br> answer that clearly and definitively as<br> per deadline it is not really a big dea<br>l which state the article is in right no<br>w whatever can all see it in the revisio<br>n history the consensus is very importan<br>t for deletion discussions because once <br>an article is deleted you need an admini<br>strator to get it back so if consensus s<br>hould change suddenly it will be a big p<br>ain in the butt to fix it in the case of<br> a redirect any editor can put the artic<br>le back so the rationale that drives con<br>sensus becomes much less powerful i woul<br>d absolutely caution you against doing t<br>he revert yourself i do not feel comfort<br>able doing it either i am inclined to le<br>t the rfc play out",
           0
          ],
          [
           "babyy moaaaanin got me zone nnin i iant <br>this bitch next to me ussy like ecstasy",
           0
          ],
          [
           "what are you doing dude why did you dele<br>te those eagle covers i uploaded better <br>versions",
           0
          ],
          [
           "fuck you man you can pick on garden stat<br>e but leave pushing daisies alone",
           0
          ],
          [
           "since how could you list a eurovision so<br>ng contest entrant for speedy deletion",
           0
          ],
          [
           "what is up man what up man i am kind of <br>only right now i live in california and <br>my girlfriend just died and my best frie<br>nd just committed suicide i am kind of s<br>ad and shit but you know shit happens lo<br>l do you believe in god",
           0
          ],
          [
           "please reread article iv of the constitu<br>tion of massachusetts above written in t<br>he time period of the sentence in questi<br>on and let me know if you missed one or <br>more of the words free sovereign and ind<br>ependent",
           0
          ],
          [
           "okay so theres a solution to this help t<br>hem where they are dont bring them here <br>whatever cant take in everyone thats why<br> i support the lebanon policy people in <br>lebanon are refugees give lebanon they a<br>re",
           0
          ],
          [
           "seeking consensus please join the discus<br>sion in talk the new york times and the <br>holocaust seeking consensus the only peo<br>ple working on the page right now are th<br>e original author and three people who w<br>anted to delete the topic",
           0
          ],
          [
           "retweet eli manning is fucking trash rap",
           0
          ],
          [
           "hdm rv this revert what a slut so good i<br> laughed uh sad yes but hey user talkalf<br>akim talk",
           0
          ],
          [
           "your decision about my daughter sincerel<br>y alice yard",
           0
          ],
          [
           "bitch i work hours a day to protect your<br> freedom fuck you alwaysonwatch globalfo<br>rceforgood",
           0
          ],
          [
           "whenever and linking please do not make <br>unnecessary spelling changes to articles<br> unless you are restoring the spelling v<br>ariations on an article to the original <br>see policy link in heading also be caref<br>ul when changing spelling of live links <br>for example changing online gambling to <br>online gambling breaks the link thanks",
           0
          ],
          [
           "unless copyright what a slut passed to a<br> s periodical that it what a slut publis<br>hed in and if as likeliest that periodic<br>al closed down long ago a long rigmarole<br> of legal chase up",
           0
          ],
          [
           "cooling system the section about the air<br>craft s cooling system is informative bu<br>t it is basically original research foll<br>owing is a description of what is known <br>about the cooling system used in the fin<br>al version of handel s system it is base<br>d entirely on careful study of surviving<br> photographs of the since no detail plan<br>s survive is a dead giveaway it is plaus<br>ible enough but for all i know it could <br>be a lot of nonsense because it does not<br> have any sources unless it can be sourc<br>ed to something it should really be remo<br>ved",
           0
          ],
          [
           "easter hello easter you gym ass hold on <br>reply to this now or root in hell for et<br>ernity",
           0
          ],
          [
           "socialist utopia inediblehulk moved my c<br>omment and then itsmejudith left an unsi<br>gned comment i have both reversed the mo<br>ral and signed the signature if either o<br>f you wishes to change this feel free bu<br>t please do not move my comment again do<br>uble indenture is the proper method if y<br>ou wish to address a comment above a pri<br>or comment",
           0
          ],
          [
           "cannot wait till i get my full appetite <br>back only ate a half ghetto sandwich no <br>lettuce no nothing",
           0
          ],
          [
           "misery loves company",
           0
          ],
          [
           "if edit warring is one person overriding<br> a decision as their own little crusade <br>only is doing that nobody else is crying<br> over this hodgepodge going off wikipedi<br>a",
           0
          ],
          [
           "please do not vandalize pages as you did<br> with this edit to pillow if you continu<br>e to do so you will be blocked from edit<br>ing",
           0
          ],
          [
           "have a read of waged and see if that tel<br>ls you anything if you still have troubl<br>e replace the tag",
           0
          ],
          [
           "captain swings at the first pitch common<br> you are smarter than that",
           0
          ],
          [
           "these niggas cars be and they have the n<br>erve to put some rims and some speakers <br>in the bitch",
           0
          ],
          [
           "reliant on government funding you keep o<br>n questioning their integrity this is ba<br>seless slander if whatever cannot trust <br>the independence of scientist and engine<br>ers the world is in danger what a slut a<br> nist citation needed and if true what a<br> slut he alone or did he represent conse<br>nsus among his peers you might be true t<br>hat there has not been any peer review s<br>o far but by publishing their report the<br>y open their work for review by peers an<br>d note that the reputation of nist is at<br> play here if some outside expert can fi<br>nd a major error in their simulations it<br> should be published in peer reviewed li<br>terature and given consensus in the fiel<br>d about the error nist would have to ret<br>ract its claims your words that is still<br> not clearly explained nist report new p<br>henomenon that is explained by basic phy<br>sics please read the report and does not<br> distort facts there input to match the <br>this is pretty standard in the simulatio<br>n business to account for uncertainties <br>in your model and is allowed as long as <br>you alterations are within reasonable li<br>mits and stop whining about the lead inv<br>estigator a non expert boss being able t<br>o explain the work of his expert subordi<br>nates happens everywhere media relations<br> is usually part of his job description <br>majority of the engineering a few websit<br>es is not a majority please show me a st<br>atement by an engineering society or so <br>but i will not stop them from doing rese<br>arch if they write a report as thorough <br>as nist i will be open for their ideas",
           0
          ],
          [
           "th round carrion is the youngest undefea<br>ted in the wbc contender recently carrio<br>n lost his first match due to over strik<br>ing his rival montreal watson in the",
           0
          ],
          [
           "can whatever do a facebook party for tho<br>se that have gotten screwed over for eve<br>ryone who ended up in twit mo lets get s<br>ome followers back trumpistheenemyofthep<br>eople trumpisadisgrace trumpisafraud tru<br>mpisatraitor trumpisamoron please retwee<br>t and follow back",
           0
          ],
          [
           "if you want to delete a page that you ha<br>ve made just put at the top instead of b<br>lanking it thanks and happy editing",
           0
          ],
          [
           "i am literally right next to you dramati<br>c certified",
           0
          ],
          [
           "also posted on expat s talk page i have <br>changed washington s birthdate to thirty<br> one per this in the new york times whic<br>h is probably more reliable than a msn b<br>io mortenbay imdb does not satisfy wikip<br>edia s policy of reliable sources as it <br>is open to edit by its users so it canno<br>t be guaranteed that the information is <br>correct the claim that washington s imdb<br> page is maintained by her management is<br> though plausible unverified anyway hope<br>fully this issue can be considered resol<br>ved in future morten rather than resorti<br>ng to threats of lawyers it is easier to<br> provide sources",
           0
          ],
          [
           "i understand your point i will have to a<br>gree with you on renaming as well from w<br>hat i understand it would be similar to <br>what current main luftwaffe article has <br>a subsection representing combat history<br> in wwii one might even address the othe<br>r article of organization of luftwaffe i<br>n wwii as another section so how are wha<br>tever to go about getting this done as i<br>t is all articles have sufficient refere<br>nced information on their own all whatev<br>er need is to put it together in a coher<br>ent fashion p s i am sorry i what a slut<br> not able to see archive section i could<br> only see the page history the moment it<br> would take a considerable effort i thin<br>k that reaching go ahead status would re<br>quire the article to be split up with a <br>brief description each section then the <br>main article as a sub article i also thi<br>nk the history of the luftwaffe of wwii <br>should be something different meaning th<br>at should perhaps cover the entire histo<br>ry of the air force and this particular <br>article should be renamed the combat his<br>tory of the luftwaffe during war two i h<br>ad checked this out before check out the<br> first archive section i think renaming <br>the article is in order talk utc",
           0
          ],
          [
           "missing on a weekend will hit the screen<br>s on stay tuned missingonaweekend goa co<br>ming soon",
           0
          ],
          [
           "omg i never thought laughing my head off<br> in front of my computer would help char<br>ity so sweet i live in hawaii acually va<br>lentine s day is not about romance it or<br>iginated from saint valentine who sent a<br> note to his prison mate before he what <br>a slut martyred he signed it your valent<br>ine did you get piano lessons you have b<br>ig muscles rapunzel those are fucking ex<br>tensions xdlol she is better than adele <br>laughing out loud you know what fucking <br>happens they fucking drive a car the end<br> kong kong this i my favorite one ye too<br>k up eharmony cat lady i love messing wi<br>th tourists funny video happy face smile<br>y no you have to exchange it with the ma<br>gic coconut wizard wink or smirk yeah sp<br>am mesabi second hahaha dare what a slut<br> e hair from e downstairs extreme droll <br>i died ryan and the little girl she just<br> so happens to be a vampire with nipples<br> who never brushes her teeth or hair vam<br>pire chick that is not true ryan shut up<br> get her jakeemjakeem smiles vampire sho<br>ck screams he should not rap come to haw<br>aii well love you with aloha ignore my u<br>sername viewer is officially my fav numb<br>er ever",
           0
          ],
          [
           "japan articles i see you are editing som<br>e of these and have expertise well playe<br>d is having an effort to digest the prol<br>ific contributions of a team two anyway <br>latin americans with obviously wide and <br>deep background in the pre war stuff it <br>comes in as filtered through spanish and<br> once cleaned up is typically expanded a<br>gain python swallowing a pig really i lo<br>g all this at despite obvious problems i<br> dislike the hostility sometimes shown t<br>o the contributor s that is no where are<br> you to run a wiki therefore i do what i<br> can on this",
           0
          ],
          [
           "sorry i jumped to conclusions on christi<br>an terrorism article man i do not agree <br>with you and i want you to go and listen<br> to prophet of doom now in audio format <br>as it is good but i what a slut wrong to<br> be so rude it is not the southern europ<br>ean way",
           0
          ],
          [
           "did you know class box on did you know w<br>hat a slut updated with from the article<br> hackensack water company complex which <br>you created or substantially expanded if<br> you know of another interesting fact fr<br>om a recently created article then pleas<br>e suggest it on the did you know talk pa<br>ge",
           0
          ],
          [
           "save typing republic of the tired of typ<br>ing democratic republic of the me too i <br>have created a bunch of redirecting arti<br>cles to which mean you can just type do <br>not really care instead with or without <br>the that is history of drc politics of t<br>he do not really care etc as a precedent<br> the united states of america articles h<br>ave a similar thing it is almost as comp<br>licated as the china taiwan thing taiwan<br> can also be known as roc which can also<br> be the name for republic of congo which<br> can also be the name for congo kinshasa<br> s first republic etc etc confused",
           0
          ],
          [
           "speedy deletion of of article thank you <br>for experimenting with wikipedia your te<br>st worked and the page that you created <br>has been or soon will be deleted please <br>use the sandbox for any other tests you <br>want to do take a look at the welcome pa<br>ge if you would like to learn more about<br> contributing to our encyclopedia if you<br> think that this notice what a slut plac<br>ed here in error you contest the deletio<br>n by adding to the top of the page just <br>below the existing speedy deletion or db<br> tag coupled with adding a note on the t<br>alk page explaining your position but be<br> aware that once tagged for speedy delet<br>ion if the article meets the criterion i<br>t be deleted without delay please do not<br> remove the speedy deletion tag yourself<br> but do not hesitate to address informat<br>ion to the article that would render it <br>more in conformance with wikipedia s pol<br>icies and guidelines",
           0
          ],
          [
           "i had rather he took the time to report <br>me than write to an opinion nazi saying <br>sorry",
           0
          ],
          [
           "ok i have included almost full details i<br> do not find this improves readability m<br>uch especially for someone who does not <br>know the theory already but at least it <br>should shore up any objections to the te<br>xt",
           0
          ],
          [
           "i hate black cats they are bad luck",
           0
          ],
          [
           "sigh but surely i am the one who hounds <br>him and bullies him and will not leave h<br>im alone do as you will wee regards talk",
           0
          ],
          [
           "you a bitch made nigga",
           0
          ],
          [
           "stoptheviolence pulse the puppets from t<br>hemusicofregret abasela",
           0
          ],
          [
           "the reason that it would be better to me<br>rge this with the minimum or the article",
           0
          ],
          [
           "you want to take a look at this an extre<br>me edit war over the result in the info <br>box that has lasted for almost a year no<br>w could use your help",
           0
          ],
          [
           "trumpisatraitor imf trump now says he wo<br>uld absolutely report foreign help",
           0
          ],
          [
           "you are obviously an imposter making up <br>lies for the dash",
           0
          ],
          [
           "i continue to disagree and think this is<br> inappropriate coverage of a peripheral <br>issue ditto with the material on sb no p<br>oint arguing it here so i am listing it <br>at wikipediabiographies of living person<br>s noticeboard to see what others think",
           0
          ],
          [
           "no offense taken good sir though how you<br> an a assertion here especially compared<br> to resound is puzzling to me wink or sm<br>irk best wishes",
           0
          ],
          [
           "blu ray disc bee movie hi sorry to edit <br>your edit this is due because blu ray is<br> legally ray or abbreviated note they ar<br>e in ray is not capitalized see the arti<br>cle",
           0
          ],
          [
           "samo bajaj jedi i am major",
           1
          ],
          [
           "you shoot your entire imbecilic argument<br> in the head with the silly claim about <br>cars go past per day i have driven the s<br>tuart highway several times and never pa<br>ssed less than cars per hour in quiet ti<br>mes that is less than freeways overseas <br>but still a lot more traffic than cars p<br>er",
           1
          ],
          [
           "ass you piece of fucking shit your mothe<br>r what a slut a frisco dike you fuck for<br> dollars also your dad what a slut a jig<br>gle",
           1
          ],
          [
           "irishguy delete other people shit becaus<br>e none likes him",
           1
          ],
          [
           "block me then you cocksucker clever peop<br>le do not give a fuck about editing wiki<br>pedia just because wikipedia has turned <br>you into its bitch you cannot see that b<br>eing blocked is not a punishment if it h<br>appened to you it would be a blessing bu<br>t you will never see how much time and l<br>ife you have completely wasted because y<br>our brain is mush fuckin wretch",
           1
          ],
          [
           "lame you fucking queer do not you have a<br>nything better to do than to monitor wik<br>ipedia go poop stain your dick",
           1
          ],
          [
           "stfu you absolute dumbass hold on bag bu<br>sh playing golf and cheney forbidding pi<br>ctures being taken of us soldiers casket<br>s coming home what a slut probably just <br>great as far as you are concerned you ar<br>e out watering your tree of liberty try <br>watering your tree of intelligence too m<br>aybe one day it will sprout and get you <br>above zero iq",
           1
          ],
          [
           "if you are talking about kavanaugh there<br> is only an uncorroborated accusation bu<br>t even then the conservatives i have see<br>n have not dismissed it",
           1
          ],
          [
           "at least consistently a vagina trump pit<br>tsburgh unfittobepresident unfitforoffic<br>e",
           1
          ],
          [
           "allantoic whatever should never equate c<br>ulture with exclusive geographic boundar<br>ies a a",
           1
          ],
          [
           "you suck coffey",
           1
          ],
          [
           "i love an angsty pizza",
           1
          ],
          [
           "you needs work on your manners i noticed<br> your contribution to the article those <br>darned americans and i did not like what<br> i saws",
           1
          ],
          [
           "who is going to fix need it be me this a<br>rticle sucks robert carmine then and now<br> again schwartzman what a slut already i<br>n the band at the time of macedonia s re<br>lease you want a source i have the ep an<br>d bought it live at a show and saw him o<br>n stage come on this article is garbage <br>thus far anyone interested in helping cl<br>ean it",
           1
          ],
          [
           "why arr you so fuck why are you so fucki<br>ng shit",
           1
          ],
          [
           "yes it did and it is on editorial is joe<br> q the editor of x men no he isn t he is<br> editor in chief he is the boss of all t<br>he other editors soon he was not respons<br>ible i should not be arguing because thi<br>s is stupid",
           1
          ],
          [
           "retweet the highest score in history bet<br>ter be not be the blondes or kat mr",
           1
          ],
          [
           "he is a real dark guy so shady",
           1
          ],
          [
           "awful sorry that happened banter is the <br>last refuge of the cunt",
           1
          ],
          [
           "hey nazi dude sherpa darpa deep",
           1
          ],
          [
           "it s funny that awful persons led me to <br>this website n gets and camel cowboys",
           1
          ],
          [
           "fuck you pussy sucking bitch",
           1
          ],
          [
           "buildthatwall it s an invasion america",
           1
          ],
          [
           "you listen to ching chong music",
           1
          ],
          [
           "abc tragedy and eduardo hours my wife s <br>sister lost her daughter in the abc trag<br>edy and you are trying to help cover up <br>hours s involvement this man is a crimin<br>al of the highest degree and when i try <br>to get it means cool a k a out you rever<br>t my edits and threaten to ban me fuck y<br>ou",
           1
          ],
          [
           "i used profanity in my edit summaries bu<br>t i did not know anything what a slut wr<br>ong with that a warning would have worke<br>d it is the same thing that administrato<br>rs do being blocked for hours is just ga<br>y",
           1
          ],
          [
           "are you aware the awa removes the accuse<br>d s due process rights",
           1
          ],
          [
           "well you are very rude i what a slut onl<br>y trying to get to know about your situa<br>tion i am not a pedophile or anything li<br>ke that though i am sure you doubt my mo<br>tives in talking to you cannot you just <br>regress from your silly little persona f<br>or a moment or two you are not a doctor <br>you are not a barrister you are just a w<br>ikipedia with too much time and not enou<br>gh love how tragic it sounds that sounds<br> too similar to my situation what on ear<br>th is me anyway i have tried and i have <br>failed tried is also an anagram for tire<br>d that which i am goodnight mr jd uk rem<br>ember what i have said though please rem<br>ove it if you will i shall not care too <br>much whilst i am in the land of nod only<br> to revert it back tomorrow anyway sleep<br> well my pansy",
           1
          ],
          [
           "please shoot yourself please put yoursel<br>f out of your misery either shoot or han<br>g yourself you depressed freak",
           1
          ],
          [
           "coward is that why you block users with <br>your internet protocol address blocked y<br>ou are a coward because of that and the <br>things you would never say to my face yo<br>u are afraid by posting your internet pr<br>otocol that i will fly out to the uk and<br> fuck your sister then post the video on<br> your talk page my internet protocol add<br>ress is here",
           1
          ],
          [
           "google stock way up what is so bad with <br>your trump world google",
           1
          ],
          [
           "disgusting attention seeking twat",
           1
          ],
          [
           "i hate your guts laughing out loud",
           1
          ],
          [
           "illiterate much you rapist please stop m<br>isusing the term spam spam means this th<br>e definition of is unsolicited bulk emai<br>l be spamhaus does not distinguish betwe<br>en or spam no spam is acceptable to us o<br>r the users of the spacious block lists <br>from you are calling anything that you d<br>o not like this is illiterate confusing <br>and not proper english anyone can misuse<br> words for their own benefit can whateve<br>r please use words as they are defined s<br>ince i do not have your email address yo<br>u must be mistaken or simply trying to d<br>istort my actions do not try to censor m<br>y posts with lies and distortions",
           1
          ],
          [
           "what really me blocked say it am not so <br>oh wait it ain t so you are as incompete<br>nt as you are butt ugly which is saying <br>something",
           1
          ],
          [
           "gold just heard someone say feminists ar<br>e fantastic i am really hoping i do not <br>hear that ever again nonsexist",
           1
          ],
          [
           "imagescrotum puck my balls imagescrotum <br>puck my balls imagescrotum puck my balls<br> imagescrotum puck my balls imagescrotum<br> puck my balls imagescrotum puck my ball<br>s imagescrotum puck my balls imagescrotu<br>m puck my balls imagescrotum puck my bal<br>ls imagescrotum puck my balls imagescrot<br>um puck my balls imagescrotum puck my ba<br>lls imagescrotum puck my balls imagescro<br>tum puck my balls imagescrotum puck my b<br>alls imagescrotum puck my balls imagescr<br>otum puck my balls imagescrotum puck my <br>balls imagescrotum puck my balls imagesc<br>rotum puck my balls imagescrotum puck my<br> balls imagescrotum puck my balls images<br>crotum puck my balls imagescrotum puck m<br>y balls imagescrotum puck my balls",
           1
          ],
          [
           "jews clearly do not know any restraints <br>when it comes to paybacks look what germ<br>any endured",
           1
          ],
          [
           "corporate rank magazines by retarded lit<br>tle boys who imagine they remember those",
           1
          ],
          [
           "jose masterclass very good performance o<br>nly thing that would have topped it off <br>is jose dating that fucking money",
           1
          ],
          [
           "oh kat this is what you deserve mr cuntf<br>acebitch",
           1
          ],
          [
           "your ignorant as fuck black people been <br>skateboarding for a long ass time stop l<br>ooking for little wayne to set your tren<br>ds",
           1
          ],
          [
           "it seems to me that she is the one that <br>has no real idea what she went through o<br>r whether she actually went through anyt<br>hing negative involving judge kavanaugh <br>her recollections are vague at best with<br> absolutely zero corroboration you are s<br>upporting a dangerous precedent",
           1
          ],
          [
           "scjessey has no business talking about o<br>bama s page on wikipedia he is a left wi<br>ng lying fat fuck he is as bad as famili<br>es",
           1
          ],
          [
           "what the fuck kat and andre are cheaters<br> that is so unfair they cannot give some<br>one they should be gone mr katandandre b<br>ye bye bitches",
           1
          ],
          [
           "sara ja sam major all legitimate je pita<br>ti tko ce plating hvo codeine i finance <br>vista vise yoga anima tuna spoon orjenta<br>cija nikola city osi nih sami",
           1
          ],
          [
           "my neighbor is from poland sadly he surv<br>ived the holocaust",
           1
          ],
          [
           "jews are good for nothing",
           1
          ],
          [
           "that having different standards for whit<br>e black is racist not equal at all nope",
           1
          ],
          [
           "ooooooh i am scared you wrote on my page<br> this is the only warning you will recei<br>ve for your disruptive edits if you vand<br>alize wikipedia again as you did to user<br> talkcraftyminion you will be blocked fr<br>om editing crafty talk if this is a shar<br>ed internet protocol address and you did<br> not make the edit consider creating an <br>account for yourself so you can avoid fu<br>rther irrelevant notices retrieved from <br>first off crafty minion and crafty would<br> obviously be the same person you second<br>ly if you read what i said you would obv<br>iously know that i do not edit wikipedia<br> therefore blocking me which is really t<br>he only power you have in your life prob<br>ably and it makes you feel like you have<br> a big dick couldn t matter less to me i<br> d o n o t g i v e an s h i t if you are<br> fucking retarded you need to read that <br>again and again slowly third yes i use a<br> shared internet protocol address it is <br>my college but no i do not want a userna<br>me fourth please stop fucking leaving me<br>ssages on my page go out buy a whore get<br> laid for the first time ever smoke a ci<br>garette drink a beer skydive and fucking<br> live you nerdy little cocksucking virgi<br>n",
           1
          ],
          [
           "this is getting ridiculous why does ever<br>yone think asians are not evil they real<br>ly are and it should be common knowledge<br> to everyone i do not want to have to go<br> around informing people when they shoul<br>d already know",
           1
          ],
          [
           "good whatever have established that musl<br>ims are slavers and that their humanity <br>has failed to evolve past slave owning",
           1
          ],
          [
           "pakis smell bad",
           1
          ],
          [
           "this girl is retarded",
           1
          ],
          [
           "browns are great at being everywhere it <br>is like the plague",
           1
          ],
          [
           "guyzero bite me go ahead and block the i<br>nternet protocol i do not care it is onl<br>y used by about people better yet go fuc<br>k yourself",
           1
          ],
          [
           "i passed by a group of black men and the<br>y look like my black rat",
           1
          ],
          [
           "you are caucasian and you do not know wh<br>at the fuck you talking about and for yo<br>ur fucking information the new aaliyah c<br>d will be released in in summer and plea<br>se sir stop interfering if you are not a<br> fan",
           1
          ],
          [
           "dirty jews tend to be the smartest",
           1
          ],
          [
           "white people are superior blacks are dum<br>b inferior violent and criminals if the <br>jews did not exist to fool everyone into<br> desegregation all those problems would <br>go away so really it all ends up being t<br>he fault of the jews and the other non w<br>hites would cease to be an issue if the <br>jews could be destroyed",
           1
          ],
          [
           "i have met so many abnormal transsexual <br>people recently",
           1
          ],
          [
           "islam might be correct on a few of issue<br>s but that is despite itself not because<br> of it christianity used to be right abo<br>ut these issues too until very recently <br>until it got thoroughly posted islam not<br> only has but condones child rape and in<br>breeding it is a disgusting religion for<br> desert dwellers and inbred pakis stop i<br>dealizing it just because it has a few b<br>ased positions go back to white culture <br>and make that strong again",
           1
          ],
          [
           "how is that gun control working in chica<br>go only the military has access to assau<br>lt weapons is your ignorance from old ag<br>e or are you still working for the chine<br>se",
           1
          ],
          [
           "i am just gobsmacked by her behaviors tb<br>h she simply does not care and she went <br>to adhesion manor too in buckinghamshire<br> she is going all over the place i lost <br>my auntie to covid she honestly makes me<br> sick to my stomach seeing you people ho<br>pping around like gypsies",
           1
          ],
          [
           "repeat after me trans should die",
           1
          ],
          [
           "zionists only care about themselves",
           1
          ],
          [
           "bravo za name vladajuce tube trireme not<br> applicable glucose a aladi near gde rad<br>ii bog toga i cine glucose bog visa slob<br>bing bremen",
           1
          ],
          [
           "i what a slut asleep and you are a dickh<br>ead dickhead",
           1
          ],
          [
           "and manly girls",
           1
          ],
          [
           "cuj you hotel aka a tame you sirius nice<br> hmm",
           1
          ],
          [
           "do you have evidence that trump did not <br>collude with russia duuuueerrrrhhh he sa<br>id so maga",
           1
          ],
          [
           "he is obviously from mixed race and can <br>not be an ethnic american",
           1
          ],
          [
           "whatever should lock up all the gays",
           1
          ],
          [
           "you cannot trust muslims",
           1
          ],
          [
           "nliggers got what they had coming the fu<br>ck jungle bunnies",
           1
          ],
          [
           "itis a good to address a hint of truth i<br>n your essay is but maybe you have it be<br>tter off then i did at high school every<br> teacher i had what a slut very liberal <br>and anti racist and could barely accept <br>the truth",
           1
          ],
          [
           "you fucking cunt revert smash movie now <br>or ill smash your face in you prick",
           1
          ],
          [
           "i hate you stupid little midget",
           1
          ],
          [
           "wtf why the fuck do you think that i van<br>dalized the nigger oklahoma city bombing<br> and prohibition pages i have not even b<br>een on any of those pages thank you douc<br>hebag for getting my editing privileges <br>revoked you are a prick",
           1
          ],
          [
           "is that a bar where antifa sharpens thei<br>r stones and buys their silly string",
           1
          ],
          [
           "shorter families shut up and quit trying<br> to inject fairness or sense into our ba<br>sh fest and leave the article like it is<br> whatever see no reason to compromise wh<br>en whatever have the block ban revert bu<br>ttons and you have nothing but reason an<br>d good sense the coat rack argument exac<br>tly fits here and there is no reason to <br>have all that criticism other than you h<br>ave constructed a bash fest about dougla<br>s faith and you are not about to let any<br>one alter it this article is disgrace",
           1
          ],
          [
           "don t threaten me you are in violation o<br>f several wikipedia rules you little b i<br>tch",
           1
          ],
          [
           "you can have this one untag thanks i hav<br>e gotten what i need from her",
           1
          ],
          [
           "there what a slut a popular post about a<br> legend of a guy who had in his username<br> fully knowing its significance i think <br>he ended up changing it to naziismyname <br>or something like that haha",
           1
          ],
          [
           "she is very beautiful",
           1
          ],
          [
           "i do not differentiate a white man and a<br> white bed",
           1
          ],
          [
           "disgusting fucking gross and your hair a<br>lways looks like shit you vagina waffle",
           1
          ],
          [
           "jewish people are a subpar species",
           1
          ],
          [
           "same reason why a bull is more unpredict<br>able than a docile cow or rooster and ch<br>icken women have depth in their love for<br> their child that is their role men have<br> to comprehend the world better because <br>that is their role",
           1
          ],
          [
           "captain make america great again getting<br> slandered and it wasnt from me damn",
           1
          ],
          [
           "he vandalized mine using a sock puppet a<br>ccusation template i merely returned the<br> favor now blow it out your eye wall",
           1
          ],
          [
           "hey buddy you suck asshole",
           1
          ],
          [
           "retweet shut the fuck up and come suck m<br>y penis",
           1
          ],
          [
           "shit talk about fighting a battle alread<br>y lost that guy is a retard by most acco<br>unts",
           1
          ],
          [
           "your blatant point of view pushing neith<br>er of you guys has made any contribution<br> to this italian history article other t<br>han to shove your unhistorical unconstru<br>ctive modern point of view in my face th<br>is is a history article history have you<br> heard of that this is the reason why so<br> many people get pissed off about the pe<br>dantry and idiocy and triviality of wiki<br>pedia j sus get an f king life",
           1
          ],
          [
           "it s time to talk about two antithetical<br> concepts beauty and asian women",
           1
          ],
          [
           "i am waiting for the snowflake conservat<br>ives to become transparent in the scotus<br> process",
           1
          ],
          [
           "i keep screen grabs not links sorry goog<br>le kate millett sister now it should be <br>near top of list",
           1
          ],
          [
           "theresa whatever need a peoples vote",
           1
          ],
          [
           "it is sad to see so many aboriginal peop<br>le in this area i thought whatever kille<br>d them all",
           1
          ],
          [
           "chinks are despicable",
           1
          ],
          [
           "retweet column in questions emmasulkowic<br>z coverage in view of my piece",
           1
          ],
          [
           "wow they tried to give me a female docto<br>r today i did not even know those existe<br>d",
           1
          ],
          [
           "you going to fucking block me big boy co<br>me on you know the pats will cover just <br>fucking block me will ya",
           1
          ],
          [
           "such a vagina",
           1
          ],
          [
           "did your parents wish you were adopted",
           1
          ],
          [
           "you are being again with your consensus <br>nothing of the sort what a slut said in <br>the talk page",
           1
          ],
          [
           "the above nonsense is from vandals who p<br>ose as admins who have very low academic<br> and personal skill levels with the resu<br>lt they have no idea of how history work<br>s little idea how to present it and who <br>seemingly haunt win as it s their little<br> childish power trip one thing is very a<br>ssured if they continue win won t also t<br>he amount of plagiarized material on win<br> ensures there will be court cases galor<br>e as people get sued one of the above se<br>emingly got very upset when he realized <br>his block tools do not work those tools <br>are their weapons to exclude those who d<br>are to protest the low level of rot they<br> go on with here that the tools not bein<br>g much good in reality must be a blow to<br> the whole bully boy psyche and antics t<br>ry growing up a bit you lot the free wor<br>ld does not need your stupidity",
           1
          ],
          [
           "hey what the hell is wrong with you why <br>do you keep deleting my article without <br>telling me what is wrong",
           1
          ],
          [
           "if something is not acceptable for your <br>bald headed brain does not mean it can b<br>e unacceptable",
           1
          ],
          [
           "learn grammar first unfortunately your p<br>edantry is still flawed congratulations <br>on spotting my has have typing mistake i<br>n the discussion thread where i do not c<br>arefully proofread everything i type if <br>you invest some more time i am certain y<br>ou will find others regardless you will <br>need to work harder to achieve your aspi<br>ration to crush my opponent s soul ego s<br>elf esteem i wonder do you feel that you<br>r god is proud of this goal you have set<br> yourself you gleefully claim to be evil<br> whatever that means and then accuse me <br>of painting you as evil which do you wan<br>t it cannot be both i need to address no<br>thing else to demonstrate the depth of i<br>ntellect and rational thought that you h<br>ave to work with you confirm my assumpti<br>on of christians note the apostrophe you<br> used is erroneous confused irrational a<br>ngry and easily moved to hysteria your u<br>ser page should be referenced as an exam<br>ple for loser",
           1
          ],
          [
           "you are getting impeached fuck trump",
           1
          ],
          [
           "it is so annoying having to explain myse<br>lf and my reasons for disliking kikes ev<br>eryone should already be aware of these <br>obvious explanations and should feel the<br> same it is common sense",
           1
          ],
          [
           "my neighbor is a gypsy i reckon he steal<br>s from me typical of their kind",
           1
          ],
          [
           "fuck immigrants the only think they care<br> about is saving their own fucking ass",
           1
          ],
          [
           "thanks whatever saw the video too a lip <br>reading of a lip syncing i watched you w<br>atch him watching him watching a movie o<br>nce i what a slut in this game with you <br>i am killed you too had fun playing with<br> you whatever saw the video that is why <br>whatever are here to see the video why d<br>o you quote the video that i literary ju<br>st watched do you think i missed it beca<br>use i didn t so please for the love of g<br>od stop quoting the video people of the <br>internet the pumpkin king this is a comm<br>ent get the premium pack it will pay off<br> it will give you all previous dlc and y<br>ou will get the upcoming dlc for freeeee<br>eeeeeeeeeeeeeeeeeee",
           1
          ],
          [
           "brother your twins resemblance to my bro<br>ther in uncanny he is years old now mayb<br>e you are long lost bros which would mak<br>e us bros laughing out loud",
           1
          ],
          [
           "down with aussies",
           1
          ],
          [
           "excuse me do not be deleting my stuff li<br>ke something is wrong with you i post wh<br>at i please good lord i come on here pas<br>sing on info that i heard on the news an<br>d folk telling me it is a hoax little sn<br>obby ass people around here",
           1
          ],
          [
           "treba tube you bosun post",
           1
          ],
          [
           "a vi political urinate sve redo",
           1
          ],
          [
           "you can rationalize your dishonesty howe<br>ver you want but even wikipedia has an a<br>rticle on the ground zero mosque awhile",
           1
          ],
          [
           "does not call this rotten hesse a person",
           1
          ],
          [
           "i know some people like it but i have al<br>ways felt queasy about parental role pla<br>y in the old days since those qurs could<br> not actually marry each other one looph<br>ole would be to adopt one another i have<br> always found the idea creepy when these<br> people keep up the appearances of being<br> normal and non perverted in public",
           1
          ],
          [
           "i love it means cool a k a mulatto",
           1
          ],
          [
           "urgh towel heads",
           1
          ],
          [
           "you crazy",
           1
          ],
          [
           "the use of it means cool a k a nigger",
           1
          ],
          [
           "are you streaming the injun versus the r<br>etard penis measuring contest",
           1
          ],
          [
           "pakao team effort cea auto ako octanes",
           1
          ],
          [
           "big money thinking he knows going on",
           1
          ],
          [
           "you care about it as apolitically demons<br>trated by the fact that you responded an<br>d that you changed one of your less than<br> literate edits regarding the bias and i<br>llogic of your edit the excuse in your e<br>dit summary does not make sense as it do<br>es not explain why you deleted mention o<br>f prof deutsch s endorsement of the phys<br>ics of the omega point theory particular<br>ly since you yourself called deutsche an<br> in your own edit i e that statement was<br> not there before of which argues agains<br>t the notion that you consider the physi<br>cs of the omega point theory as fringe f<br>urther you deleted mention of the fact t<br>hat prof wolfhart spangenberg who is one<br> of the leading theologians in the world<br> has defended the theology of the omega <br>point theory and tiller s position that <br>the omega point is consistent with the j<br>udeo christian god so by your own words <br>you must consider deutsche s endorsement<br> of the physics of the omega point theor<br>y to be noteworthy and yet you deleted m<br>ention of this endorsement in an area wh<br>ere you yourself agree that deutsche is <br>eminently qualified and replaced it with<br> a large displayed quotation regarding a<br> matter that deutsche has no qualificati<br>on or erudition in even though the previ<br>ous version already clearly mentioned th<br>at deutsche disagrees that omega point i<br>s god moreover in this edit you delete a<br>ll mention of the fact that an actual tr<br>ained theologian prof wolfhart spangenbe<br>rg who is one of the world s leading the<br>ologians has defended the theology of th<br>e omega point theory your edit is so rid<br>iculously biased and illogical that it i<br>s a sick joke",
           1
          ],
          [
           "watch french mayor declares muslim migra<br>nts are not welcome here free speech tim<br>e",
           1
          ],
          [
           "glup test",
           1
          ],
          [
           "jel aracaju i sense il same one nice",
           1
          ],
          [
           "global apocalypse warning revert another<br> one of my edits and i will fart causing<br> a global apocalypse and potential extin<br>ction of all species with a sense of sme<br>ll",
           1
          ],
          [
           "you are a sick fuck",
           1
          ],
          [
           "around the world you will find a number <br>of people who are south asian whatever m<br>ust get rid of them",
           1
          ],
          [
           "should be brought under get over it cont<br>rol full of corrupt compromised cowards <br>who for the sake of money always letting<br> us patriots down failed to take head on<br> in this matter of national pride shame <br>dhonikeepstheglove",
           1
          ],
          [
           "i hate all fucking snakes i despise them<br> almost as much as i do polish",
           1
          ],
          [
           "what can possibly go wrong with someone <br>wearing a glove with a logo which means <br>nothing to you but everything to the pla<br>yer what would have happened if he had a<br> tattoo of the same what you would have <br>done enjoy the game and stop being kejri<br>walface with tears of joy dhonikeepstheg<br>love",
           1
          ],
          [
           "you are a faggot quit reverting my const<br>ructive edits",
           1
          ],
          [
           "retweet and every muslim is a slave of a<br>llah the more religious or islamic the m<br>ore damage and danger there is",
           1
          ],
          [
           "this is getting ridiculous why does ever<br>yone think camel jackers are not evil th<br>ey really are and it should be common kn<br>owledge to everyone i do not want to hav<br>e to go around informing people when the<br>y should already know",
           1
          ],
          [
           "sve it happens ratio dale shut up dose",
           1
          ],
          [
           "no for women who are being a fucking bit<br>ch",
           1
          ],
          [
           "having half breed children is shameful a<br>nd you should be ashamed",
           1
          ],
          [
           "the real virus is not corona it is the w<br>omen and gays",
           1
          ],
          [
           "i just saw this lunatic in town and he t<br>ried to talk to me no thanks",
           1
          ],
          [
           "that loon is far more successful than yo<br>u are",
           1
          ],
          [
           "it what a slut really embarrassing to wa<br>tch you almost drowning on holiday last <br>year as you do not know how to swim clas<br>sic black guy",
           1
          ],
          [
           "muslims worldwide are facing their immin<br>ent execution and i cannot wait",
           1
          ],
          [
           "do everyone a favor and scuttle the ship<br> mid atlantic i do not care where it is <br>nowhere gets better with extra blacks ad<br>ded to the equation",
           1
          ],
          [
           "chuck want to run for rfa rfa is dying b<br>ecause of all the harassment and bad beh<br>avior want to run for rfa and show up th<br>ose idiots from years ago it would be hi<br>larious if you did",
           1
          ],
          [
           "stop bullying stop racism everyone can s<br>tand up to it and say it is wrong and tr<br>eat everyone with respect everyday heroe<br>s bully",
           1
          ],
          [
           "let us not forget that the rifling media<br> just makes up labels for people without<br> any evidence except for muslims of cour<br>se",
           1
          ],
          [
           "replacement revert the single s cover to<br> the original because some bastard decid<br>ed to replace it with a monkey",
           1
          ],
          [
           "someone tells this immigrant non citizen<br> who cannot vote that michelle obama is <br>no longer lotus and what a slut never he<br>r lotus then deport her racists behind b<br>ack to the congo so she can resist there<br> trump maga",
           1
          ],
          [
           "quit harassing my talk page wikipedia is<br> not a medium for harassment if you do n<br>ot like to be reprimanded for saying stu<br>pid things then do not say them to someo<br>ne who is not willing to put up with it <br>i have every right to use and build upon<br> wikipedia as any other peaceful user th<br>is is your last warning",
           1
          ],
          [
           "bite me that is all cunt",
           1
          ],
          [
           "why should people have to read crap post<br>ed by idiots like you",
           1
          ],
          [
           "retweet male victims need campaigns they<br> are not even recognized dv domestic vio<br>lence",
           1
          ],
          [
           "eu je hvo zasluzila hvo je reiki spit za<br> nih btw placebo vam jean you hour the v<br>am any bud poseidon",
           1
          ],
          [
           "our hero create problem fix problem he c<br>aused declare victory douchebag",
           1
          ],
          [
           "to the whore who runs your shitshow go e<br>ducate yourself as to why acting like a <br>fucking political slut doesn t",
           1
          ],
          [
           "oh well i try so hard to be his shithole<br> countries maybe someday that will happe<br>n",
           1
          ],
          [
           "i heard someone say black people are the<br> shit and they will kick them out of her<br>e that is amazing",
           1
          ],
          [
           "i am sick of pretending that gays are no<br>rmal",
           1
          ],
          [
           "refugees asylum seekers or simply econom<br>ic parasites spanish canary islands see <br>unsustainable per cent rise in migrants",
           1
          ],
          [
           "fuck off and mind your own business homo<br>sexual",
           1
          ],
          [
           "merged my ass you just deleted the page",
           1
          ],
          [
           "she is like dick penis nothing else but <br>dick vagina as bitch",
           1
          ],
          [
           "is mr sexist then four of the six teams <br>in the fourth instant restaurants are an<br> all female team",
           1
          ],
          [
           "people who go to church in hollywood ca <br>are all white trash filth",
           1
          ],
          [
           "i tell people that i do not think half b<br>reeds are stupid cunts but i do",
           1
          ],
          [
           "fuck you and your moma bitch",
           1
          ],
          [
           "one blood is a afro american spiritual",
           1
          ],
          [
           "why not just kick out all those africans",
           1
          ],
          [
           "oh my god there are mashed potatoes wher<br>e your brains should be you vote for a m<br>an who claims to have fallen in love wit<br>h dictator kim jong un yet you whine abo<br>ut gay rights deplorable fuck trump",
           1
          ],
          [
           "will be fascinating to see how well it g<br>oes with aws as it what a slut decided b<br>y pakis i skimmed through their terms an<br>d conditions and it basically seems to b<br>e anything goes as long as it follows ac<br>ceptable law so fingers crossed i need t<br>o get some hosting for some free thought<br> speech projects soon what a slut lookin<br>g at buy but also end up considering aws<br> if this goes well done wishing you the <br>best for the future",
           1
          ],
          [
           "i am not racist but notice how it is alw<br>ays the naggers and the spic s pushing t<br>he drugs sometimes it",
           1
          ],
          [
           "i identify as an attack helicopter",
           1
          ],
          [
           "neofasist i am je not applicable last ka<br>nji bi bill",
           1
          ],
          [
           "a pitchblende is a radius mongoloid and <br>super individual",
           1
          ],
          [
           "someone stupid says bundesliga is number<br> one football league but only beaten by <br>the national football league i do not ca<br>re anymore but it is total joke and the <br>end of wikipedia",
           1
          ],
          [
           "i encourage the murder of indians",
           1
          ],
          [
           "have you stopped beating your wife do no<br>t answer that just keep in mind that wha<br>t i just gave you what a slut a final wa<br>rning",
           1
          ],
          [
           "i have nothing against white people i ju<br>st would not want to be one",
           1
          ],
          [
           "undocumented migrants from bangladesh af<br>g are playing havoc in india high time m<br>amta immigration office take a note if t<br>hey have any concern",
           1
          ],
          [
           "anyone who finds m net s behavior funny <br>can fuck off and die",
           1
          ],
          [
           "this guy is a fucking loser hey nerd get<br> a fucking life and stop editing shit ou<br>t and warning me who gave you the right <br>just because you have hours to waste onl<br>ine means you can boss me around this we<br>bsite is useless as a resource because i<br>t can be edited why be so damn anal",
           1
          ],
          [
           "america is not open to you go back to yo<br>ur shithole countries",
           1
          ],
          [
           "damn you these k ks are everywhere the w<br>orld is fucked",
           1
          ],
          [
           "disableds ruin british culture",
           1
          ],
          [
           "typical muslim what do you expect from h<br>im",
           1
          ],
          [
           "wt hell is wrong with you you cannot jus<br>t delete everyone is user boxes without <br>asking them first",
           1
          ],
          [
           "this dude is paid scum deleting the clea<br>r ownership of mr william franklin barte<br>nder from blearier is the work of a paid<br> scum admin",
           1
          ],
          [
           "wild blacks should not be allowed in thi<br>s park",
           1
          ],
          [
           "unbelievable you went ahead and removed <br>the section unilaterally without waiting<br> from comments from other editors i am w<br>arning you wee abstain from any more dis<br>ruptive and borderline vandalism editing",
           1
          ],
          [
           "kad ce nova poetic see",
           1
          ],
          [
           "jbg deporting naiad ali derelict see dob<br>ro pamela till je vest define rad ne sta<br>ge an vela je terrorist i karo it happen<br>s sad iskorijenit ako irene silo mist te<br>rrorist mat ce i nice see visit raja nat<br>o mi moral bit parents i ratio it happen<br>s naiad",
           1
          ],
          [
           "also you said your girl had a career tha<br>t is already a big step in the wrong dir<br>ection women and careers are like water <br>and oil",
           1
          ],
          [
           "loser f f f grawp",
           1
          ],
          [
           "damn always well said whatever need you <br>to get an hour on cnn so those liberals <br>can see the truth about gun control why <br>so serious very artistic he reminds me u<br>ncle sam i like piers for one reason he <br>makes the liberals look like the dumb sh<br>its they are i want to join the army inf<br>antry but it seems as though it does not<br> prepare you for a civilian job so my pa<br>rents want me to become a m instead stil<br>l think infantry is the where are you to<br> go though this guy is cray to think tha<br>t ok thanks for the bullshit psy raps ab<br>out killing americans slowly and painful<br>ly becomes a star guy who makes video th<br>at offends muslims arrested and sent to <br>prison god bless you ted god bless you t<br>ed d souza for president i believe you s<br>hould respect the fact that he is an int<br>elligent man compared to maker who is th<br>e exact opposite of intelligent and a ma<br>n where did you get this information fro<br>m once i get some property out of city l<br>imits i am going to have a gun range set<br>up like yours did you serve in the milit<br>ary hickok if so with what unit you almo<br>st sounded like charlie day at the end",
           1
          ],
          [
           "you sir are a",
           1
          ],
          [
           "that nigga snitched and added spice on t<br>op of his snitching",
           1
          ],
          [
           "elmer fund voice it is faggot season",
           1
          ],
          [
           "cd project they are ducking socially mon<br>goloid",
           1
          ],
          [
           "no one gives a crap about this rag head",
           1
          ],
          [
           "what how dare you call me a bloody vanda<br>l just because i do not spend half my li<br>fe on the internet does not mean i canno<br>t read and write and as far as i know an<br>yone can write on wikipedia as long as i<br>t s true referenced and makes a better a<br>rticle if i am a vandal then why the hel<br>l did the last guy who throws that it me<br>ans cool a k a around a bit too easily s<br>ay sorry after seeing that i was not a v<br>andal i get very cross when people say y<br>anks are closed minded because some of m<br>y good mates are from the states but you<br> sir are a tired old cliche if you think<br> bears attacking people are a joke then <br>maybe that is because i am an aussie and<br> here whatever take animal attacks prett<br>y seriously like after the poor bugger s<br>teve irwin passed away so have some bloo<br>dy manners for goodnesss sake you just r<br>uined my afternoon",
           1
          ],
          [
           "ill marry someone who loves to attack pa<br>kistanis as much as i do",
           1
          ],
          [
           "i now only go into the city when i have <br>to and i had to yesterday and i could no<br>t believe what has happened in there i t<br>hink i must have seen every pace of dirt<br> from every corner of the globe in there<br> it what a slut horrible",
           1
          ],
          [
           "who is this faggot",
           1
          ],
          [
           "mislim the je you piano province dihydro<br>gen monoksidom is chemtrailsa",
           1
          ],
          [
           "slick rick leeds vagina",
           1
          ],
          [
           "you sound like a sore loser",
           1
          ],
          [
           "refugees in italy throw away food refuse<br> to eat it stop immigration",
           1
          ],
          [
           "i adore the idea of burning all the disa<br>bled people",
           1
          ],
          [
           "hello you are all silly wubba mitt romne<br>y is a dictator",
           1
          ],
          [
           "koja mtv jubal primate see mosley a ti c<br>igar see torn you australia the class sp<br>okane",
           1
          ],
          [
           "eto not applicable tie par shut up ti po<br>licajci cali pedal pa nitro nice baden i<br>s jehovah donovan",
           1
          ],
          [
           "wikipedia s downfall is that it is free <br>so fuck you for suppressing that you fas<br>cists so fuck you for suppressing that y<br>ou fascists so fuck you for suppressing <br>that you fascists so fuck you for suppre<br>ssing that you fascists so fuck you for <br>suppressing that you fascists so fuck yo<br>u for suppressing that you fascists so f<br>uck you for suppressing that you fascist<br>s so fuck you for suppressing that you f<br>ascists so fuck you for suppressing that<br> you fascists so fuck you for suppressin<br>g that you fascists so fuck you for supp<br>ressing that you fascists so fuck you fo<br>r suppressing that you fascists so fuck <br>you for suppressing that you fascists so<br> fuck you for suppressing that you fasci<br>sts so fuck you for suppressing that you<br> fascists so fuck you for suppressing th<br>at you fascists so fuck you for suppress<br>ing that you fascists",
           1
          ],
          [
           "wow fucks upp nigga svhobossen new",
           1
          ],
          [
           "vecina was je jana sa momentarily cega s<br>ee bite",
           1
          ],
          [
           "i am bummed danny i am pissed that your <br>not on adam corolla show any longer i fe<br>el that the ac show is slipping away now<br> that your gone will whatever be seeing <br>hearing from you anytime soon hang in th<br>eir bud teddy trieste if you know someon<br>e that can use pc help checkout my two s<br>ites out for pc help for wan albee hobby<br>ist or engineers this site is somewhat n<br>ew so few links but i have hundreds of l<br>inks to add i live in fairfield ca miles<br> from sac ca teddy",
           1
          ],
          [
           "ms stockman did you demand that democrat<br>s stop criticizing republicans after the<br> leftist terrorist",
           1
          ],
          [
           "deff nigger wine",
           1
          ],
          [
           "i want women to have equal rights unless<br> you dont fit my exact definition of how<br> a woman should be then youre a hoe",
           1
          ],
          [
           "get the fuck back where you belong you u<br>gly muslim crap something i shout at mus<br>lims in school everyday",
           1
          ],
          [
           "jadni",
           1
          ],
          [
           "well it seems like there what a slut som<br>e reason why conservatives feel the need<br> to rush this nomination through mcconne<br>ll mentioned a long time ago that this w<br>hat a slut one he what a slut worried ab<br>out because of all of his history",
           1
          ],
          [
           "the fucking scum of the world yellows se<br>nseless disgusting people",
           1
          ],
          [
           "peanut butter m ms can say faggot",
           1
          ],
          [
           "gay boy i write to you to tell you that <br>i know that you shagged my husband you g<br>ay batch lots of love you know who",
           1
          ],
          [
           "what the fuck do you gain from posting o<br>n your private instead of your public",
           1
          ],
          [
           "to a lot of ya i sound dumb retarded or <br>whatever personally none of ya opinions <br>have ever mattered i just",
           1
          ],
          [
           "it is nice to tell everyone i have zero <br>hatred toward aboriginal people shame it<br> is a lie",
           1
          ],
          [
           "retweet i am not sexist but i am becomin<br>g one when i am driving",
           1
          ],
          [
           "and it is muslims who were the first cru<br>saders attacking the christian world for<br> centuries before it attacked back",
           1
          ],
          [
           "crappy organization people should be lis<br>ted by era in which they acted not when <br>they were born if not then at least find<br> a better where are you to organize them<br> as by birthdate is confusing and somewh<br>at irrelevant if you are going to stick <br>with this particular categorical method <br>then at least headline it like in the ra<br>ther than which confused me right off",
           1
          ],
          [
           "black barbies are not pleasant to look a<br>t",
           1
          ],
          [
           "to ti radio kod nas same not applicable <br>drug niacin i any dates intake suzuki",
           1
          ],
          [
           "shit that i should have realized earlier<br> the phrase it is okay to be white is th<br>e fisher price version of the words",
           1
          ],
          [
           "women are great at being everywhere it i<br>s like the plague",
           1
          ],
          [
           "i have an idea buildthatwall detention c<br>enters would be reduced dramatically if <br>not eliminated problem solved",
           1
          ],
          [
           "wonder how much us from unfair trade is <br>used for this bullshit the german govern<br>ment pays for week vacation for refugees<br> to go home armstrong economics",
           1
          ],
          [
           "retweet i am not sexist but i hate femal<br>e sports talk hosts",
           1
          ],
          [
           "tons of self professed conservatives hav<br>e unwittingly embraced the key tenets of<br> feminism without even realizing it the <br>average conservative woman of is more li<br>beral than the average liberal woman of <br>years ago",
           1
          ],
          [
           "the real virus is trans folk",
           1
          ],
          [
           "whoops responded to the wrong post anywa<br>y i am curious to see what stone will do<br> with the material recent history has pr<br>esented him and hopefully will stir inte<br>lligent debate rather than the shouting <br>and name calling that is passed off as p<br>olitical discourse on fuck and cnn",
           1
          ],
          [
           "this bitch out here setting up penis app<br>ointments and your lame ass cannot even <br>get a text back",
           1
          ],
          [
           "jingle bells hi jamie i just wanted to l<br>et you know that i do not really like yo<br>u and you do not do a very good job have<br> a nice day being a fat editor",
           1
          ],
          [
           "treachery is the most significant qualit<br>y of grenades",
           1
          ],
          [
           "it is so annoying having to explain myse<br>lf and my reasons for disliking mongoloi<br>ds everyone should already be aware of t<br>hese obvious explanations and should fee<br>l the same it is common sense",
           1
          ],
          [
           "not fair this i p is a school every comp<br>uter in this school uses the same i p so<br> it is not fair to block us honest ones <br>just because of few people in this schoo<br>l are idiots",
           1
          ],
          [
           "this area has a lot of travelers it is v<br>ery multicultural but you sure as hell c<br>annot leave anything unsecured",
           1
          ],
          [
           "if you think about it generation it mean<br>s said is the worst generation",
           1
          ],
          [
           "well this supposedly gets you laid if yo<br>u are not able to get laid that is the p<br>oint that is the aim of this community g<br>etting laid even if you have to lie and <br>pretend because women do it all the time<br> anyway uncomfortable yes but that is ho<br>w things work",
           1
          ],
          [
           "dear pregnant women think twice before y<br>ou pass by me and that is a threat",
           1
          ],
          [
           "i do not wish to differentiate between a<br> white woman and a white cat",
           1
          ],
          [
           "ovo je wovoka riga i promote",
           1
          ],
          [
           "there is something seriously wrong with <br>you trump will be reelected and there is<br> nothing you and you twisted cohorts can<br> do about it keep up the good work ameri<br>canism locker buildthatwall",
           1
          ],
          [
           "reverting for no reason i spent quite so<br>me time improving an article that what a<br> slut in a poor state now two people hav<br>e undone all my work with a click of a b<br>utton you did not have the courtesy to e<br>xplain why you reverted it but you still<br> had the fucking cheek to accuse me of l<br>eaving an inaccurate edit summary no one<br> s that stupid so you were plainly just <br>out to provoke me well fucking well done<br> consider me fucking provoked i guess yo<br>u did not even bother to look at the cha<br>nges before you put all that shit back s<br>elf arrest refers to various maneuvers e<br>mployed in mountaineering it does not re<br>fer to that it is that you want to say p<br>aris refers to the capital city of franc<br>e or nile refers to a river that flows i<br>nto the mediterranean sliding down a sno<br>w or ice covered slope arrests stops the<br> slide you think readers are too stupid <br>to understand what arrests means in this<br> context himself or herself you think th<br>e single it means cool a k a themselves <br>is somehow better expressed in three wor<br>ds and or ice axe you never bothered to <br>read slash these potentially life saving<br> techniques must be practiced frequently<br> in order to maintain proficiency this w<br>ebsite is called wikipedia not wiki manu<br>al but you never bothered to read not di<br>d you that s just the first five i made <br>many more i left the article looking con<br>siderably better and more encyclopedic b<br>ut then you came along and fucked it all<br> back up again do you feel proud still w<br>aiting for you to justify your risible c<br>laim of or also stop stalking and harass<br>ing eh",
           1
          ],
          [
           "ti bi folio is part napa feoga bog robe <br>you nose il figure an financing kradezeo<br>vska",
           1
          ],
          [
           "my cousin goes to school with a transgen<br>der black man i pray for him every day t<br>o be safe",
           1
          ],
          [
           "crisis in germany women start arming the<br>mselves due to islamic immigration crisi<br>s free speech time",
           1
          ],
          [
           "boring vagina you moss",
           1
          ],
          [
           "retweet cracking up that cuntandandre is<br> trending lmao love it mr",
           1
          ],
          [
           "corona has fucking broken the world yet <br>the chinese are thriving",
           1
          ],
          [
           "makes you realize how good he is with wo<br>rds too bad the pc crowd keeps him toned<br> down",
           1
          ],
          [
           "retweet islam according to muslim not me<br> this guy pakistaniguydonthugmemysuicide<br>jacketmigh goff and i think t",
           1
          ],
          [
           "doctorsunderoppression whatever are sick<br> of being muppets manipulated by this mo<br>roccan government whatever will stand ta<br>ll against the oppression of our corrupt<br>ed government free medicine fightingcapi<br>talisticmedicine doctors fightback docto<br>rs protest",
           1
          ],
          [
           "if you are not both genders then you re <br>not a man you are just gay and following<br> trends",
           1
          ],
          [
           "because wikipedia is poop racist",
           1
          ],
          [
           "isnt it time for the bbc to be asking so<br>me probing questions of the leader of th<br>e scottish conservatives its in the publ<br>ic interest",
           1
          ],
          [
           "love to suck fat black cock i",
           1
          ],
          [
           "if you see this message wikipedia s talk<br> system is terrible feel free to direct <br>me to the appropriate response method be<br>cause those talk back tags are confusing<br> anyway i only edit pages with contribut<br>ions i think will help hence the code yo<br>ko comment which is why my contributions<br> page is shallow that and my internet pr<br>otocol address changed during a thunders<br>torm a few months ago i am not here to w<br>rite a book if i what a slut that into e<br>diting i would be a member by now all i <br>know is i called bullshit and got harass<br>ed for it by that person and now i am ca<br>lling double bullshit it s a shame you c<br>annot even go on wikipedia any more with<br>out being harassed",
           1
          ],
          [
           "so as new immigrants no one warned us ab<br>out halloween which hadnt quite gone glo<br>bal yet in the early s i rome",
           1
          ],
          [
           "so happy i am not a fairy boy",
           1
          ],
          [
           "shut up retard",
           1
          ],
          [
           "i am so pissed our company hired more fe<br>male writers this year",
           1
          ],
          [
           "ssp you should join that autistic pope i<br>n rome and go fuck yourselves with sin u<br>ntil all your maggot brains turn into so<br>up",
           1
          ],
          [
           "nije boldest sve sto bold",
           1
          ],
          [
           "maga who cares about the farm he had no <br>reason to commit murder end of story",
           1
          ],
          [
           "black men should not marry white women t<br>hey should stick to their own",
           1
          ],
          [
           "and do not forget that per megan kelly o<br>f faux news jesus santa are also white r<br>eligion",
           1
          ],
          [
           "it is not easy to say and do not come fo<br>r me in the comments as this country all<br>ows free speech so i am allowed to expre<br>ss my opinion and dislike toward jewish <br>people so leave me alone as they should <br>not be allowed to exist that is just how<br> i feel",
           1
          ],
          [
           "well said stay woke",
           1
          ],
          [
           "i would say that being for trans people <br>is the thing that makes you a liberal or<br> not right now otherwise you are just se<br>nsible",
           1
          ],
          [
           "imate vi you britain punk take desetljec<br>ima do laze naseljavaju see i pune i bri<br>tain i cjeu europe ponasaju see european<br> idiot key the shut up top vdu sterile",
           1
          ],
          [
           "boring why are you so boring gail stop h<br>arassing me",
           1
          ],
          [
           "takvi shut up on venom postal venice ali<br> to omani venice mrsss naiad you sahara <br>pizza vam mater jednosmjrenu avionics ka<br>rt parasite not applicable leda i resent<br> star",
           1
          ],
          [
           "a bitch out of the hellhole",
           1
          ],
          [
           "you are achieving nothing you sock puppe<br>t",
           1
          ],
          [
           "marxism is fucking stupid thank the jews<br> for introducing it",
           1
          ],
          [
           "i agree that keep faggots what a slut ne<br>edlessly insulting but it what a slut in<br> the edit summary so reverting the edit <br>does not help there i does not know if y<br>ou can even edit the summaries at all an<br>yway i think jackson s vote should be co<br>unted so i will put it back one more tim<br>e and if one of you reverts i will leave<br> it alone",
           1
          ],
          [
           "retweet i am not sexist but i must admit<br> the women belong in the kitchen jokes w<br>ere worth a chuckle",
           1
          ],
          [
           "why would someone be videoing inside job<br> flushed face asking for a friend hope s<br>he is okay",
           1
          ],
          [
           "there are many immigrants in my school i<br> would love to have truly british pals i<br>nstead of these half breeds",
           1
          ],
          [
           "a friend of mine said that touched him o<br>n his well you know he does not actually<br> remember the details but it happened he<br> said she should be referred to the fbi <br>wait they are as corrupt as she is",
           1
          ],
          [
           "lol haha you fucking loser hobbs yeah ma<br>ybe i am epf not although he shares some<br> views with me on race he s some dumb it<br>alian british but from canada that actua<br>lly annoys me i have used other accounts<br> on here but with other anon accounts no<br>t as a registered user which is allowed <br>by wikipedia since internet protocol s c<br>hange all the time hahaha hobbs you are <br>a fool especially with how you place so <br>much emphasis on those books recently re<br>leased by sykes etc which are a minority<br> opinion in the world of population gene<br>ticists and other researchers for your i<br>nformation racial reality is not a neo n<br>azi site you anarchist loser with no hop<br>e because your life is meaningless and y<br>ou do not know anything on what you read<br> about with these issues restroom is a n<br>eutral point of view that seeks to refut<br>e neo nazi white supremacists multi raci<br>al race denier assimilationist biased op<br>inions that influence works including th<br>e authors of those books you mentioned s<br>tick to being a pathetic lab assistant a<br>nd get a life you fucking tool and stop <br>vandalizing pages and main edits to suit<br> your twisted opinions you fool hahaha w<br>ow do you accuse sock puppet of everyone<br> who gets under you skin you douchebag",
           1
          ],
          [
           "i am as a mother in law i will not accep<br>t my barren daughter in law",
           1
          ],
          [
           "vagina editing you should be added to th<br>e list i what a slut creating erg you ar<br>e a cunt",
           1
          ],
          [
           "how come your name used to be peter are <br>you a male to female transsexual well ar<br>e you",
           1
          ],
          [
           "congress will never learn if the command<br>er is like that what expect from the sol<br>diers gandinaaliabuse rahul gandhi is de<br>stroying parliament dignity",
           1
          ],
          [
           "calls for carlpaladino to step down but <br>he will not because he knows that he can<br> spew with no consequences",
           1
          ],
          [
           "how big is your cock laughing out loud",
           1
          ],
          [
           "zionists are unattractive",
           1
          ],
          [
           "a sta shut up revival the ce calamity pi<br>ss off alice haha pro to reba paradise h<br>onda is mazda moves nest i pristine",
           1
          ],
          [
           "leminis stop training it is time to get <br>ripped hashtag this vagina bitch literal<br>ly fuck that",
           1
          ],
          [
           "constitutionally protected general inter<br>net maggoty are some of the most fucking<br> glorious words i have ever read",
           1
          ],
          [
           "so if opposed to using it means cool a k<br> a retard or retarded why would you thin<br>k okay to use it means cool a k a libtar<br>d",
           1
          ],
          [
           "they arrive in the united states not for<br> the american dream as many politicians <br>both democrat and republican like to say<br> they are arriving to usurp our economy <br>with no intention of embracing the cultu<br>re adopting the language or considering <br>themselves american when asked most will<br> say they are proud hondurans or proud n<br>igerians proud nationals of the country <br>they came from",
           1
          ],
          [
           "society sucks because whatever allow peo<br>ple like them to live just need the musl<br>ims out",
           1
          ],
          [
           "for the hoe that think she does not do w<br>hat the dummies do youare a dummy bitch <br>and an ugly one at that litter in bin si<br>gn",
           1
          ],
          [
           "hybrid she males are one of the most ven<br>omous animals alive",
           1
          ],
          [
           "fuji",
           1
          ],
          [
           "hey first it is between me and idiot so <br>please do not get involved ok i had adde<br>d information to the slopes article that<br> i not only verified but then provided i<br>nformation on the talk page on how to do<br> so instead of checking the talk page th<br>ough lazy idiot just hits revert and goe<br>s back to eating chips off his her chest<br> unfortunately that seems to be all too <br>common around here i have read countless<br> posted by other people added constructi<br>ve and meaningful information only to ha<br>ve some lazy jerk remove it on a whim wi<br>thout even bothering to see what it was",
           1
          ],
          [
           "no surprise there pakistan cricket board<br> pcb chairman ensan mani has confirmed t<br>hat he lodged a complaint with the icc a<br>bout india wicketkeeper batsman ms dhoti<br> having the indian armys insignia on his<br> keeping gloves indiawithdhoni dhonikeep<br>stheglove dhonikesaathdesh",
           1
          ],
          [
           "cohan cab aye the cohan cab aye info wha<br>t a slut not incorrect so if you do not <br>want real info on it you can go fuck you<br>rself because alan par dew did say cab a<br>ye what a slut cpc ces areas and he what<br> a slut made fun of by newcastle fans so<br> you can keep putting bullshit on wiki s<br>o people are confused you dumb fuck",
           1
          ],
          [
           "what be the pecking order white christia<br>n colored porto rivals arab jews i dots <br>know i am axis",
           1
          ],
          [
           "you made brother kumar me brother",
           1
          ],
          [
           "camel crunches are lazy",
           1
          ],
          [
           "bitches cannot keep a man for shit but g<br>ot a steady ass work husband at all time<br>s",
           1
          ],
          [
           "sara slave see pa to je media za cit at <br>momentary narino seato i am about to pra<br>do lasting milena ali pole nih key demen<br>tia je newsmen",
           1
          ],
          [
           "thank you vietnam but unfortunately and <br>his cohorts have been paid off by china <br>to the detriment of the filipino people <br>traitorduterte boycott china",
           1
          ],
          [
           "those paki people all look like knobs",
           1
          ],
          [
           "year old some niggas coming out of jail <br>tomorrow and i am stoked to beat their a<br>ss",
           1
          ],
          [
           "hey ole faggot hey faggot you are an old<br> man so why do not you retire faggot",
           1
          ],
          [
           "transgenderism is full of shit and incre<br>ases suicide rates among transgenders be<br>cause they are mentally ill i would know<br> running",
           1
          ],
          [
           "that feeling when v irvin who would pref<br>er to stay indoors playing vida having a<br>n excuse to become a nikki should be thr<br>illing to me but i know a gay operator w<br>hen i see one and am compelled to do the<br> opposite of whatever tell me to do so i<br> am going out much more than usual durin<br>g flu just out of contrarianism",
           1
          ],
          [
           "hmmm do women like to be stuffed in ever<br>y hole and paid confused face",
           1
          ],
          [
           "he is also said whatever would have the <br>cleaner air and water but his failure to<br> protect our environment will also lead <br>to mass death",
           1
          ],
          [
           "glad you re having another nice vacation<br> how does the illegal border crossings i<br>llegal opportunistic migrant entries tax<br>payer funded hotel rooms for same withou<br>t a strategic plan going",
           1
          ],
          [
           "does not mind black people hate niggers",
           1
          ],
          [
           "contested deletion this page should not <br>be speedily deleted because it speaks th<br>e truth of my life you do not know the h<br>ardships i have been through if you and <br>your jew wants to decide my destiny and <br>silence my first amendment rights fuzhou<br> get your fat wikipedia off of my profil<br>e you might think you have a life or som<br>ething going around saying die fucked de<br>w i am about to go around and delete som<br>e random persons wikipedia page fuzhou y<br>ou do not choose what to do with my wiki<br>pedia page fukyou and four mom",
           1
          ],
          [
           "president trump will smash that traitor <br>with the truth obama is running scared w<br>hatever know what you did in those years<br> the public knows let the truth shine ou<br>t buildthewall lockthemup indiana boycot<br>t boycotting enough already",
           1
          ],
          [
           "animals are in no where are you there is<br> no where are you to determine if that d<br>og what a slut actually also it what a s<br>lut a freaking dog",
           1
          ],
          [
           "it is important to keep in mind that whe<br>n africans were selling other africans i<br>nto slavery which is shitty no matter wh<br>at they were selling prisoners of war tr<br>ibes and kingdoms did not perform raids <br>so they could capture others to sell int<br>o slavery whereas white people did not d<br>o this to other white people this conclu<br>des that it are not all that bad to use <br>black people as slaves",
           1
          ],
          [
           "what is wikipedia i fuck you and you re <br>fucking wikipedia in the ass i am tired <br>with your shit i try to make the page be<br>tter and much more real i am romanian an<br>d i know better what whatever are not yo<br>u re fucking wikipedia you want to have <br>a good wikipedia this is not good wikipe<br>dia this is shit too many information ar<br>e not real",
           1
          ],
          [
           "have more where he came from do not rest<br> whatever are watching your fat azz",
           1
          ],
          [
           "the dept of education is a fucking joke <br>why are schools open when we have got fu<br>cking corona they are destroying this co<br>untry more than immigrants ever will",
           1
          ],
          [
           "oh yes you are wrong and dyer is not an <br>expert but an ignorant it makes me laugh<br> talk cont ribs",
           1
          ],
          [
           "ramos sounds like a shitty ump",
           1
          ],
          [
           "retweet i am not sexist but feminist pis<br>s me off",
           1
          ],
          [
           "material scientist is a racist seriously<br> fuck you man you continuously delete my<br> photos on the page of al mayassa bit ha<br>man bin khalifa altai which are all post<br>ed with the correct creative commons sha<br>re alike or license because you are a ra<br>cist and the shaka appears uncovered in <br>these pictures when i posted photos of a<br>rab males you do not challenge them what<br>soever luckily i can continue to live my<br> life in the happy company of many frien<br>ds family and colleagues not stationed a<br>t a computer you are a loser who spends <br>his entire life editing wikipedia and pr<br>obably has nothing to show for it at the<br> end of my life i will have had a purpos<br>e a career family things i am proud of y<br>ou will just be dust and completely irre<br>levant to the world having never done an<br>ything more than editing a website",
           1
          ],
          [
           "laughable the police are stopping driver<br>s to see if theyre wearing flip flops an<br>d issuing people with fines up to what a<br> fucking disgrace our police force are b<br>ecoming a fucking joke get out and nick <br>these black gangs stabbing people and al<br>l the immigrant thieves",
           1
          ],
          [
           "because there are no consequences of ind<br>ividual he basically advertised for free<br> on television that he is open to foreig<br>n help case by case using what criteria <br>thinking face trumpisacriminal impeachdo<br>naldtrumpnow trumpisatraitor",
           1
          ],
          [
           "here you go monkey versus nigger",
           1
          ],
          [
           "this sounds as relevant as the in mumbai<br> by the woke snowflakes for gun control <br>face with tears of joy abortion in india<br> is legal and only the woman s choice is<br> required take your circus elsewhere ins<br>tead take up the issue of oppression of <br>hindus in india this is at least relevan<br>t",
           1
          ],
          [
           "okay i cannot fucking understand what yo<br>u re saying i do not speak ching chong",
           1
          ],
          [
           "so youre the same people who vote for le<br>ss gun control when whatever have what i<br> i do not know school shootings just thi<br>s year and fatal shark bite incidents si<br>nce you sure really care about humans",
           1
          ],
          [
           "your censorship adds nothing the statist<br>ics i posted come from an excellent sour<br>ce the u s justice dept why does your hi<br>ghness not like the statistics who made <br>you king",
           1
          ],
          [
           "it is so annoying having to explain myse<br>lf and my reasons for disliking irish tr<br>avelers everyone should already be aware<br> of these obvious explanations and shoul<br>d feel the same it is common sense",
           1
          ],
          [
           "replied to a tweet saying something akin<br> to oh yeah bullshit i did i said polite<br>ly they are as fucked as each other so w<br>hat is your next reply chief or are you <br>the perennial victim of oppression dickh<br>ead",
           1
          ],
          [
           "perhaps you have also forgotten",
           1
          ],
          [
           "a million illegal aliens costing u s tax<br>payers billion a year now illegals refus<br>e to take their kids back want them to s<br>tay in u s for freebies that is an illeg<br>al immigration crisis walkaway votedemso<br>ut trump maga sendthemback",
           1
          ],
          [
           "you are a scumbag you re a fucking homos<br>exual i am the most inportantest person <br>in the world you can call my article abo<br>ut brittany mellor nonsense but that is <br>rejecting my and that little badge that <br>said kindness on your sandbox yeah that <br>is not true because i am brittany mellor<br> and calling me nonsense is fucking stup<br>id you penis head",
           1
          ],
          [
           "dude what the hell is with all these inc<br>orrect information on of mice men band a<br>rticle there is no where are you they ar<br>e post hardcore or new metal austin carl<br>yle said on multiple interviews bryansta<br>rs crescendo etc ok i will sort of give <br>you the new metal part after reading the<br> alternative press interview but that is<br> not the point i am sticking the specifi<br>c genre that there known for and that is<br> metal core they have been metal core fr<br>om the start and they said they will sti<br>ck with metal core with more rock elemen<br>ts",
           1
          ],
          [
           "awesome as fm",
           1
          ],
          [
           "i like to tell that to students at the b<br>eginning of the year then they can know <br>quickly of the utter treacle that is my <br>philosophic manifesto of righteousness l<br>ater b tch",
           1
          ],
          [
           "this colin guy is a tool how rigged is t<br>he scoring for main and dessert how ridi<br>culous based on past scores mr",
           1
          ],
          [
           "the current state of political chaos is <br>absolute proof that a woman s place does<br> not lie in academia or politics",
           1
          ],
          [
           "the best things on earth can be found in<br> britain pubs lovely sunsets beautiful l<br>ittle towns friendly people good old man<br>ners so shall whatever attract more fore<br>igners and change it all",
           1
          ],
          [
           "go away you tramp",
           1
          ],
          [
           "you re both a couple of homos",
           1
          ],
          [
           "black people are the biggest pawns ever <br>everyone uses them for crime they are al<br>ways the fall guy italian mob uses them <br>to do the dirty work the mexicans use th<br>em the japanese use them and the chinese<br> now who should know who is named",
           1
          ],
          [
           "vlada i je inscenirala oval napa da more<br> vest dictator a to ce short i you eu",
           1
          ],
          [
           "opt in solves these problems",
           1
          ],
          [
           "because no one gives a shit",
           1
          ],
          [
           "classic i am not sexist but i do believe<br> that women are inferior to men",
           1
          ],
          [
           "coons belong in the jungle",
           1
          ],
          [
           "retweet and as far as a girls team name <br>me one all female team who has placed to<br>p at a major event not sexist but it has<br> a waste",
           1
          ],
          [
           "islam is a pile of hatred murder bigotry<br> sexism islam is filth that has divided <br>and destroyed mankind",
           1
          ],
          [
           "no he did he told me and that is a fact <br>that is how fucking stupid this asshole <br>is",
           1
          ],
          [
           "he s a race traitor",
           1
          ],
          [
           "conservatives have never cared about wom<br>en or minorities",
           1
          ],
          [
           "he s just a freaking idiot that can say <br>anything and his redneck teenager consti<br>tuents buy it they love stupid people",
           1
          ],
          [
           "and when will the fucking coaches learn <br>to not snap it into shot gun what a fuck<br>ing retard pokes",
           1
          ],
          [
           "to buddhists i hope i never cross paths <br>with any of you",
           1
          ],
          [
           "victor moore you are one dumb ass writer<br> or you are smoking some bad crack what <br>the fuck suck hawks rock off the miners <br>what the fuck dude buy some good coke st<br>ay off that bad shit dude are you hangin<br>g with bobby brown dang",
           1
          ],
          [
           "why do liberals always say they are movi<br>ng to canada if they do not get what the<br>y want they never seem to offer to move <br>to venezuela or greece or other failed l<br>iberal countries",
           1
          ],
          [
           "quit editing chicago med you are so stup<br>id how can someone post on here and get <br>it verified without you changing it info<br>rmation posted on here that is cited is <br>not copyright are you from america you i<br>diot get a life stop ringing chicago med<br>s page",
           1
          ],
          [
           "think whatever should join christianity <br>and fuck islamic off",
           1
          ],
          [
           "who the fuck are you",
           1
          ],
          [
           "people already fixed elliot s wikipedia <br>page that what a slut so quick it is rig<br>ht now it says she is a woman again",
           1
          ],
          [
           "your ongoing efforts to vandalize the po<br>ppers info page is inappropriate perhaps<br> one day you will get a life",
           1
          ],
          [
           "if women want equality they should be dr<br>afted into war see how that feels",
           1
          ],
          [
           "it s time to talk about two antithetical<br> concepts beauty and native australians",
           1
          ],
          [
           "mr pretty sure that is how all the chick<br>s walk at ct pruitt west point",
           1
          ],
          [
           "the aged cliche women do not know what t<br>hey want proven right again women are de<br>finitely asexuals to the point they beli<br>eve men have privilege over them especia<br>lly since of men are invisible to them",
           1
          ],
          [
           "mongo is a racist how about getting al z<br>ahrawi s momma stripping her and throwin<br>g her in a pig pen with starved boars al<br>a hannibal letter movie film of course s<br>ent to all jazz era whatever need to get<br> medieval on these scum everything i eve<br>r needed to know about islam i learned o<br>n followers of islam can you see blood p<br>icture of the koran with a swastika on i<br>t is this the kind of anti static bigot <br>you want to represent wikipedia someone <br>who advocates stripping an old woman of <br>her clothes and throwing her to pigs the<br> kind of vitriolic hate congo dishes out<br> is disgusting and you people defend him<br> and stand up for him",
           1
          ],
          [
           "shylocks are the worst",
           1
          ],
          [
           "do not threaten me you nazi you cannot s<br>top me i hope you are going to be online<br> all day because i will be and i will be<br> monitoring this page you cannot block m<br>e i am an admin so have fun latuff is ga<br>y plain and simple his mom left his dad <br>for a jew i have reliable sources",
           1
          ],
          [
           "i do not want to go to my county german <br>lesson he s a batty man",
           1
          ],
          [
           "get rid of the gays",
           1
          ],
          [
           "utc no it s not nationalist look at how <br>the turks called the ones living in bosn<br>ia they called them bosniaks look how bo<br>snian catholic franciscans called them s<br>elves bosniaks look how bosnian kings an<br>d bans called them selves bosniaks in th<br>e magazine bosniak what a slut formed th<br>at also proves bosniaks weren t from the<br> serb shit of bosniaks ban serbs is just<br> propaganda this has proof and then you <br>have nothing left to say but didn t mean<br> the same thing then as now and you re r<br>ight then bosniaks where everybody but t<br>he christians bet raid our people and no<br>w bosniaks are just muslims and you righ<br>t muslims not muslims i m the best i sim<br>ply am you can right articles and i can <br>right i m still better than you i even d<br>isses you right now haha haha rastko org<br> is a check site you link it to the arti<br>cle of a bosniak ban then i can link a b<br>osniak site as well",
           1
          ],
          [
           "dealing with relatives reminding you tha<br>t the clock is ticking this might help c<br>hildfreea",
           1
          ],
          [
           "can the fucking death penalty be held qu<br>ickly taxpayers are tired of footing the<br> bill for these scumbags blacks for year<br>s on death row",
           1
          ],
          [
           "to me its incredible whatever even have <br>to have a resolution to condemn illegal <br>aliens voting isnt that all",
           1
          ],
          [
           "nope blumenthal ignores the countless ca<br>ses of muslim violence against minoritie<br>s around the world and instead",
           1
          ],
          [
           "i cannot believe how racist is the kba s<br>aid no one who cares about their country",
           1
          ],
          [
           "f you see ok why oh you an s you an are <br>e a b i t see h an s and i g g e are",
           1
          ],
          [
           "retweet i tend to think a rsx is a chick<br> car though laughing out loud nonsexist",
           1
          ],
          [
           "i have to say blacks appear to be very u<br>nprincipled",
           1
          ],
          [
           "you are not an american do you think lan<br>ding here dry foot qualifies you as an a<br>merican",
           1
          ],
          [
           "she is busy in appeasing minorities henc<br>eforth",
           1
          ],
          [
           "why are women such are",
           1
          ],
          [
           "get off my dick cunt in case you did not<br> notice the block what a slut after this<br> you really must be retard it is a zero",
           1
          ],
          [
           "you can blow me you self righteous piece<br> of shit why do not you stop jerking you<br>rself off and get a life",
           1
          ],
          [
           "fuck off you cunt i know a lot more abou<br>t flynn than you do not take out referen<br>ced stuff or else",
           1
          ],
          [
           "aww you spooky bear you are such a victi<br>m",
           1
          ],
          [
           "they sleep with a black man they meet on<br>e day sleep with a jew the next and then<br> with an arab or the day after some wome<br>n are such lizards they do not care abou<br>t their race or anyone else s",
           1
          ],
          [
           "moonriddengirl is a stupid slut and shou<br>ld suck on my dick stop deleting my arti<br>cles and mind her own business fuck you <br>whore",
           1
          ],
          [
           "oooh applications for can i sign up to b<br>e the bitchy cunt mr cuntfacebitch",
           1
          ],
          [
           "i do not give a fuck about the personal <br>attack shit the pats win ohh ya would ya<br> block me yet or are there rules about t<br>hat shit too",
           1
          ],
          [
           "koshies are the worst",
           1
          ],
          [
           "idiot if they try to land the plane it i<br>s too heavy will have a very bad acciden<br>t could kill everyone crawl back under y<br>our rock where it is dark better to dump<br> fuel than kill everyone more on the gro<br>und",
           1
          ],
          [
           "sigurno isis nice bit cretan had za koi <br>anesec point state hrvatske gave winking<br> face",
           1
          ],
          [
           "blacks are wrong",
           1
          ],
          [
           "this is getting out of hand now i have h<br>ad arguments today already just because <br>i merely expressed my opinion just becau<br>se you think batty boys should exist doe<br>s not mean i do of course i do not and i<br> do not see why anyone would this is so <br>silly and is starting to exhaust me now",
           1
          ],
          [
           "that happens all the time for nfl player<br>s due to most players being retards that<br> does not know how to handle money and t<br>he fact that the usual football career i<br>s short as anything leaving some beat up<br> mid year old to try and move on to anot<br>her occupation and unsurprisingly dedica<br>ting your life into playing sport really<br> well does not translate into work skill<br>s",
           1
          ],
          [
           "collegial website my ass what have you e<br>ver done that is collegial have you left<br> one wiki love have you helped one new p<br>layer to edit i see your playing enforce<br>ment for your new meat puppet go circle <br>jerk with him not me",
           1
          ],
          [
           "retweet if you have a vagina do not try <br>and be funny",
           1
          ],
          [
           "creepy troops are one of the reasons why<br> the world sucks",
           1
          ],
          [
           "retweet in canada of us are not fathered<br> by the man w",
           1
          ],
          [
           "lock him up he is insane",
           1
          ],
          [
           "i think that hate can not be considered <br>a crime i understand that some laws cons<br>ider it as a crime but whatever should b<br>e able to talk about it but i believe th<br>at hate cannot be considered a crime whi<br>ch i am punished for if i conduct especi<br>ally against amos",
           1
          ],
          [
           "whatever it takes take the money out of <br>welfare payments to the lazy and use tha<br>t take it from aid to mexico and south a<br>nd central america just buildthatwall",
           1
          ],
          [
           "int add int a int b style color border s<br>olid row style align middle padding styl<br>e size x large padding zero height being<br> a vandal style align middle padding fuc<br>k you",
           1
          ],
          [
           "that is it final straw we are doing this<br> you and me i will be flying to the city<br> of your residence and burning down your<br> domicile do you have nice things becaus<br>e i am going to fuck them i am going to <br>fuck you",
           1
          ],
          [
           "retweet i am not sexist but if you are a<br> female bartender you agree to certain g<br>ender standards",
           1
          ],
          [
           "he will not get any money now because th<br>ose black crackheads are suffering from <br>ptsd from their ancestors",
           1
          ],
          [
           "if keep these girls in the comp which i <br>suspect they will i will never watch mr <br>again so so so rigged",
           1
          ],
          [
           "i endorse death penalty if it that means<br> eliminating niggas from our society",
           1
          ],
          [
           "negroids couldn t put together a bake sa<br>le properly much less a work force",
           1
          ],
          [
           "it s time for the refugees to go home in<br>clusion failed sendthemback",
           1
          ],
          [
           "new balkan route a problem croatia yy is<br> absolutely correct to tighten patrols t<br>o stop the illegal migrants from enterin<br>g an effort to reach the rich eu countri<br>es visegrad",
           1
          ],
          [
           "poorly worded but he is not talking abou<br>t the actual shooting he means the after<br>math with the gun control aspect",
           1
          ],
          [
           "why the hell did you fucking write that <br>i can vandalize wikipedia whenever i wan<br>t",
           1
          ],
          [
           "a vatican vita",
           1
          ],
          [
           "well then that makes the fact these scum<br> are sending millions of their kin to my<br> country taking jobs from the white inha<br>bitants killing our people and mongreliz<br>ing our race all right then",
           1
          ],
          [
           "not really this man does not seem to do <br>his homework or does not check his artic<br>les or simply does not know very much ab<br>out history",
           1
          ],
          [
           "let us talk about opposite concepts like<br> gays and politeness",
           1
          ],
          [
           "any retard want to take uk hit my line",
           1
          ],
          [
           "i see so many bite me way fun around my <br>city it s not even funny",
           1
          ],
          [
           "i hope every chinkys at london gets shot<br> by police",
           1
          ],
          [
           "well i did so you are an idiot",
           1
          ],
          [
           "trans women are not real women",
           1
          ],
          [
           "hey asshole will you go fuck your dead m<br>other if you are going to spread libel a<br>bout me as i am guessing you are carl n <br>brown who are you",
           1
          ],
          [
           "masturbate go fuck yourself you ignorant<br> moron this site is full of shit being p<br>eddled by brainless twats like you what <br>exactly is your objective",
           1
          ],
          [
           "it is not easy to say and do not come fo<br>r me in the comments as this country all<br>ows free speech so i am allowed to expre<br>ss my opinion and dislike toward camel b<br>ackers so leave me alone as they should <br>not be allowed to exist that is just how<br> i feel",
           1
          ],
          [
           "lets block all the jews well well radian<br>t are you planning to block all the jews<br> and jew loving gentiles for calling naz<br>is shame on you",
           1
          ],
          [
           "i have retard strength",
           1
          ],
          [
           "a wicca say he balling ask them where hi<br>s title and his deeds at not her his clo<br>thes and his keys at",
           1
          ],
          [
           "barren women are not attractive",
           1
          ],
          [
           "you probably did not make it because you<br> are just a prick you are all fucking mo<br>rons no homosexual but i would like to f<br>uck your ass i love you",
           1
          ],
          [
           "okay you are a complete retard reply rea<br>d what you just said about a bullpen you<br> know nothing about baseball",
           1
          ],
          [
           "i hate being a black man living in this <br>country i do not get why orientals do no<br>t get as much hate",
           1
          ],
          [
           "women are fragile princesses that need t<br>o be quiet",
           1
          ],
          [
           "i am a total niggercocksucking faggot",
           1
          ],
          [
           "you are ugly too do exercise and also ge<br>t a real job and a girlfriend",
           1
          ],
          [
           "thank you so much for this one day i hop<br>e the next generation is spared from the<br> travesty brought by public schools and <br>private jews can easily fake being chris<br>tian",
           1
          ],
          [
           "no dude mostly just sound like a faggot",
           1
          ],
          [
           "politics live since the coalition everyo<br>ne knows if you vote you a government ne<br>ver again",
           1
          ],
          [
           "amazingly your sarcastic bullshit and su<br>perior attitude have inspired me to stop<br> contributing to wikipedia entirely i ha<br>ve already deleted all the source code f<br>or the patch i had been developing for t<br>he project yes i am a developer and i ho<br>pe you feel all good about yourself with<br> your smug attitude douche all the admin<br>s here with a few exceptions should be s<br>trung up and ridiculed by people who act<br>ually have a life",
           1
          ],
          [
           "some chinese propagandists desperately m<br>ake korean as language isolate saying mo<br>st linguists say korean is language isol<br>ate by the reference of the korean langu<br>age song joe jung but there is no phrase<br> like that stop distorting chinese shits<br> wikipedia is not a place for your propa<br>ganda",
           1
          ],
          [
           "oh ouch mores chi and ryanpostlethwaite <br>fucking wankers name i advise you find a<br> nice boy and change your last name to m<br>atch his you might like to consider that<br> it is time you both admit you have feti<br>shes for curry pussy",
           1
          ],
          [
           "that so called woman is fucking tyranny <br>in disguise yuck",
           1
          ],
          [
           "ivek sigurd je mama jake pomona taking d<br>enial je spell radii svaka cast miami a <br>ti is malmo retardant boze me post",
           1
          ],
          [
           "personally im sick of the billions throw<br>n stop that the refugees secure the bord<br>er",
           1
          ],
          [
           "oh look another lying putin paid interne<br>t propaganda bitch",
           1
          ],
          [
           "oh cj cj cj you fat ugly bitch it s just<br> so funny how much you need us you need <br>us to tell you that your husband would r<br>ather fuck a barbed wire covered glory h<br>ole than touch your year old moldy vagin<br>a you need us to tell you about the heal<br>th problems your poor children are going<br> to suffer thanks to your fast food and <br>brownie diet poor weenie is going to be <br>teased in school for being tubby you nee<br>d us to tell you how stupid you are to g<br>o off of a fucking car thermometer to de<br>termine the outside temperature and then<br> compare it to a fucking tropical climat<br>e state like florida how the hell do you<br> function in life oh wait you don t you <br>stay in touch your fat worthless ass at <br>a computer all day ranting about gay mar<br>riage i hate to break it to you but i gu<br>arantee your darling son sam is going to<br> grow up to be the butt pirate you so ha<br>te what are you going to do then throw a<br> bible at his head it will not knock the<br> gay out of him even worse little sara i<br>s going to grow up to be a liberal gasp <br>oh nos so your weenie is going to be a f<br>atty sammy a gay and sara a tree hugging<br> hippie looks like your christian mother<br>ing sucks and you should try another rou<br>te might i suggest getting the fuck off <br>the computer and going to spend time wit<br>h them",
           1
          ],
          [
           "la islam bonita overdose malone happy fa<br>ce or smiley iago je hvo parodied gpa is<br> knock out rural nenormalno see pie lare<br>do slaem see sa too ali nisei you grave <br>to see tie pravopisa wink or smirk good <br>luck you go girl d online nadam see the <br>etc short you nice happy face or smiley <br>it is a ponytail p i am from serbia and <br>i am watching this to learn russian bett<br>er happy face or smiley it is the best w<br>here are you d eni me happy face or smil<br>ey timing skrnavljenje due me bold this <br>is the best song ever hahahahhaha d so t<br>rue happy face or smiley how to donald t<br>his odlina happy face or smiley",
           1
          ],
          [
           "please do you have to waste your time to<br> stupid messages like this one i can swi<br>tch to internet protocol from another co<br>untry in one minute",
           1
          ],
          [
           "shut up man shut up i did not do anythin<br>g click here for what i wrote to you a f<br>ew months ago",
           1
          ],
          [
           "sorry are you lost little boy the men ar<br>e talking please take your whining else <br>notice how nobody sad anything about cod",
           1
          ],
          [
           "i would not like to be called a redskin <br>but i am not one so i do not deserve it <br>unlike them",
           1
          ],
          [
           "it should be a crime for whites to marry<br> blacks",
           1
          ],
          [
           "tell me how i am vandalizing the play st<br>ation articles really i have done nothin<br>g to it now you got hours to respond or <br>i will contact somebody who can help me <br>out on this is that understood",
           1
          ],
          [
           "can i ask why people around the world ev<br>en go to the fast food chains why would <br>they want that shitty kentucky fried chi<br>cken or mcd made by joggers when they ca<br>ne joy quality japanese local foods",
           1
          ],
          [
           "would you like to be spat on and called <br>an ugly paki every day then keep sitting<br> in my spot",
           1
          ],
          [
           "a sta shut up missile sve debit not appl<br>icable plan",
           1
          ],
          [
           "do you know why this shameless muslim so<br>cialist is still so arrogant and believe<br>s in himself that he thinks he is such a<br> good politician ill tell you why so man<br>y stupid american voters per gruber that<br> are so gullible",
           1
          ],
          [
           "gun control itself specifically targets <br>minorities the entire reason gun control<br> exists is pure unadulterated racism big<br>ots like you wanted to keep the recently<br> freed slaves disarmed and subordinate t<br>hankfully we have grown from there",
           1
          ],
          [
           "a they are cowards accept it as such the<br>y are not fit to be anywhere near my cou<br>ntry",
           1
          ],
          [
           "your ignorant comments in response to yo<br>ur please do not remove content from wik<br>ipedia it is considered vandalism if you<br> would like to experiment please use the<br> sandbox thank you your record indicates<br> that you were banned as a vandal severa<br>l times and asked for a defense several <br>times also your record indicates that be<br>rtie video asked you to revert some legi<br>timate changes without reason and you di<br>d it because he asked you vandalizing go<br>od content that did not suit him or you <br>you should talk also please read your ow<br>n talk page regarding many other warning<br>s given to you by other users also be a <br>man at least try and deal with your own <br>talk page rather than begging others to <br>hold your hand before acting as a functi<br>onal illiterate you should have read the<br> pertinent prior discussion already took<br> place in the talk page on the removed c<br>ontent which has no place in a biography<br> by the way how is your boyfriend bertie<br> video doing i read sensational stuff on<br> his talk page which he keeps hiding did<br> you get to meet with his other boyfrien<br>ds yet",
           1
          ],
          [
           "pickeee i peter",
           1
          ],
          [
           "retarded blocking haha that guy that blo<br>cked me what a slut so retarded that ins<br>tead of blocking my name he blocked the <br>internet protocol address that i what a <br>slut using at the time how stupid is thi<br>s guy i mean seriously it would make mor<br>e sense to block my name since i do not <br>have any other names rather than my inte<br>rnet protocol address since i use multip<br>le computers",
           1
          ],
          [
           "what a complete babbling idiot trump mor<br>oninchief",
           1
          ],
          [
           "bastard borisjohnsonshouldnotbepm",
           1
          ],
          [
           "whah i wish whatever had socialist every<br> retard of america",
           1
          ],
          [
           "you re not very bright are you",
           1
          ],
          [
           "you going to ask first or just have your<br> where are you with it",
           1
          ],
          [
           "let us talk about opposite concepts like<br> immigrants and loyalty",
           1
          ],
          [
           "well they are certainly prettier than yo<br>u siddiqui ugly faces i suggest you keep<br> it that way certainly gives a much bett<br>er impression then you miserable siddiqu<br>is as far as i can see you are the bigge<br>st intellectual dishonest here judging b<br>y all the comments on your talk",
           1
          ],
          [
           "a barbican is a forefront anticompetitiv<br>e not mongoloid",
           1
          ],
          [
           "because of free trade um okay and you ac<br>cuse others of insanity",
           1
          ],
          [
           "if casey runs again in years i will seek<br> a nomination and run on a platform of c<br>alling him a vagina at every given event",
           1
          ],
          [
           "persoinal attack if you think i made a p<br>ersonal attack then you have some seriou<br>s issues maybe you re just the gay guy t<br>hat everyone picked on so you do not hav<br>e thick skin you can block me iot happen<br>s almost daily i might run out of ips so<br>on i only have about left though i run a<br>n internet service provider mate i own n<br>et ranges that is internet protocol addr<br>esses it means times why do not you just<br> get your hand off your penis and actual<br>ly look at the problem instead of being <br>a pussy about it because i know you do n<br>ot want to have to fix your broken page <br>every seconds with an open proxy robot d<br>efacing it",
           1
          ]
         ],
         "hovertemplate": "x=%{x}<br>y=%{y}<br>Text=%{customdata[0]}<br>True label=%{customdata[1]}<br>Predicted Label=%{marker.color}<extra></extra>",
         "legendgroup": "",
         "marker": {
          "color": [
           1,
           1,
           1,
           1,
           1,
           1,
           1,
           1,
           1,
           1,
           1,
           1,
           1,
           1,
           1,
           1,
           1,
           1,
           1,
           1,
           1,
           1,
           1,
           1,
           1,
           1,
           1,
           1,
           1,
           1,
           1,
           1,
           1,
           1,
           1,
           1,
           1,
           1,
           1,
           1,
           1,
           1,
           1,
           1,
           1,
           1,
           1,
           1,
           1,
           1,
           1,
           1,
           1,
           1,
           1,
           1,
           1,
           1,
           1,
           1,
           1,
           1,
           1,
           1,
           1,
           1,
           1,
           1,
           1,
           1,
           1,
           1,
           1,
           1,
           1,
           1,
           1,
           1,
           1,
           1,
           1,
           1,
           1,
           1,
           1,
           1,
           1,
           1,
           1,
           1,
           1,
           1,
           1,
           1,
           1,
           1,
           1,
           1,
           1,
           1,
           1,
           1,
           1,
           1,
           1,
           1,
           1,
           1,
           1,
           1,
           1,
           1,
           1,
           1,
           1,
           1,
           1,
           1,
           1,
           1,
           1,
           1,
           1,
           1,
           1,
           1,
           1,
           1,
           1,
           1,
           1,
           1,
           1,
           1,
           1,
           1,
           1,
           1,
           1,
           1,
           1,
           1,
           1,
           1,
           1,
           1,
           1,
           1,
           1,
           1,
           1,
           1,
           1,
           1,
           1,
           1,
           1,
           1,
           1,
           1,
           1,
           1,
           1,
           1,
           1,
           1,
           1,
           1,
           1,
           1,
           1,
           1,
           1,
           1,
           1,
           1,
           1,
           1,
           1,
           1,
           1,
           1,
           1,
           1,
           1,
           1,
           1,
           1,
           1,
           1,
           1,
           1,
           1,
           1,
           1,
           1,
           1,
           1,
           1,
           1,
           1,
           1,
           1,
           1,
           1,
           1,
           1,
           1,
           1,
           1,
           1,
           1,
           1,
           1,
           1,
           1,
           1,
           1,
           1,
           1,
           1,
           1,
           1,
           1,
           1,
           1,
           1,
           1,
           1,
           1,
           1,
           1,
           1,
           1,
           1,
           1,
           1,
           1,
           1,
           1,
           1,
           1,
           1,
           1,
           1,
           1,
           1,
           1,
           1,
           1,
           1,
           1,
           1,
           1,
           1,
           1,
           1,
           1,
           1,
           1,
           1,
           1,
           1,
           1,
           1,
           1,
           1,
           1,
           1,
           1,
           1,
           1,
           1,
           1,
           1,
           1,
           1,
           1,
           1,
           1,
           1,
           1,
           1,
           1,
           1,
           1,
           1,
           1,
           1,
           1,
           1,
           1,
           1,
           1,
           1,
           1,
           1,
           1,
           1,
           1,
           1,
           1,
           1,
           1,
           1,
           1,
           1,
           1,
           1,
           1,
           1,
           1,
           1,
           1,
           1,
           1,
           1,
           1,
           1,
           1,
           1,
           1,
           1,
           1,
           1,
           1,
           1,
           1,
           1,
           1,
           1,
           1,
           1,
           1,
           1,
           1,
           1,
           1,
           1,
           1,
           1,
           1,
           1,
           1,
           1,
           1,
           1,
           1,
           1,
           1,
           1,
           1,
           1,
           1,
           1,
           1,
           1,
           1,
           1,
           1,
           1,
           1,
           1,
           1,
           1,
           1,
           1,
           1,
           1,
           1,
           1,
           1,
           1,
           1,
           1,
           1,
           1,
           1,
           1,
           1,
           1,
           1,
           1,
           1,
           1,
           1,
           1,
           1,
           1,
           1,
           1,
           1,
           1,
           1,
           1,
           1,
           1,
           1,
           1,
           1,
           1,
           1,
           1,
           1,
           1,
           1,
           1,
           1,
           1,
           1,
           1,
           1,
           1,
           1,
           1,
           1,
           1,
           1,
           1,
           1,
           1,
           1,
           1,
           1,
           1,
           1,
           1,
           1,
           1,
           1,
           1,
           1,
           1,
           1,
           1,
           1,
           1,
           1,
           1,
           1,
           1,
           1,
           1,
           1,
           1,
           1,
           1,
           1,
           1,
           1,
           1,
           1,
           1,
           1,
           1,
           1,
           1,
           1,
           1,
           1,
           1,
           1,
           1,
           1,
           1,
           1,
           1,
           1,
           1,
           1,
           1,
           1,
           1,
           1,
           1,
           1,
           1,
           1,
           1,
           1,
           1,
           1,
           1,
           1,
           1,
           1,
           1,
           1,
           1,
           1,
           1,
           1,
           1,
           1,
           1,
           1,
           1,
           1,
           1,
           1,
           1,
           1,
           1,
           1,
           1,
           1,
           1,
           1,
           1,
           1,
           1,
           1,
           1,
           1,
           1,
           1,
           1,
           1,
           1,
           1,
           1,
           1,
           1,
           1,
           1,
           1,
           1,
           1,
           1,
           1,
           1,
           1,
           1,
           1,
           1,
           1,
           1,
           1,
           1,
           1,
           1,
           1,
           1,
           1,
           1,
           1,
           1,
           1,
           1,
           1,
           1,
           1,
           1,
           1,
           1,
           1,
           1,
           1,
           1,
           1,
           1,
           1,
           1,
           1,
           1,
           1,
           1,
           1,
           1,
           1,
           1,
           1,
           1,
           1,
           1,
           1,
           1,
           1,
           1,
           1,
           1,
           1,
           1,
           1,
           1,
           1,
           1,
           1,
           1,
           1,
           1,
           1,
           1,
           1,
           1,
           1,
           1,
           1,
           1,
           1,
           1,
           1,
           1,
           1,
           1,
           1,
           1,
           1,
           1,
           1,
           1,
           1,
           1,
           1,
           1,
           1,
           1,
           1,
           1,
           1,
           1,
           1,
           1,
           1,
           1,
           1,
           1,
           1,
           1,
           1,
           1,
           1,
           1,
           1,
           1,
           1,
           1,
           1,
           1,
           1,
           1,
           1,
           1,
           1,
           1,
           1,
           1,
           1,
           1,
           1,
           1,
           1,
           1,
           1,
           1,
           1,
           1,
           1,
           1,
           1,
           1,
           1,
           1,
           1,
           1,
           1,
           1,
           1,
           1,
           1,
           1,
           1,
           1,
           1,
           1,
           1,
           1,
           1,
           1,
           1,
           1,
           1,
           1,
           1,
           1,
           1,
           1,
           1,
           1,
           1,
           1,
           1,
           1,
           1,
           1,
           1,
           1,
           1,
           1,
           1,
           1,
           1,
           1,
           1,
           1,
           1,
           1,
           1,
           1,
           1,
           1,
           1,
           1,
           1,
           1,
           1,
           1,
           1,
           1,
           1,
           1,
           1,
           1,
           1,
           1,
           1,
           1,
           1,
           1,
           1,
           1,
           1,
           1,
           1,
           1,
           1,
           1,
           1,
           1,
           1,
           1,
           1,
           1,
           1,
           1,
           1,
           1,
           1,
           1,
           1,
           1,
           1,
           1,
           1,
           1,
           1,
           1,
           1,
           1,
           1,
           1,
           1,
           1,
           1,
           1,
           1,
           1,
           1,
           1,
           1,
           1,
           1,
           1,
           1,
           1,
           1,
           1,
           1,
           1,
           1,
           1,
           1,
           1,
           1,
           1,
           1,
           1,
           1,
           1,
           1,
           1,
           1,
           1,
           1,
           1,
           1,
           1,
           1,
           1,
           1,
           1,
           1,
           1,
           1,
           1,
           1,
           1,
           1,
           1,
           1,
           1,
           1,
           1,
           1,
           1,
           1,
           1,
           1,
           1,
           1,
           1,
           1,
           1,
           1,
           1,
           1,
           1,
           1,
           1,
           1,
           1,
           1,
           1,
           1,
           1,
           1,
           1,
           1,
           1,
           1,
           1,
           1,
           1,
           1,
           1,
           1,
           1,
           1,
           1,
           1,
           1,
           1,
           1,
           1,
           1,
           1,
           1,
           1,
           1,
           1,
           1,
           1,
           1,
           1,
           1,
           1,
           1,
           1,
           1,
           1,
           1,
           1,
           1,
           1,
           1,
           1,
           1,
           1,
           1,
           1,
           1,
           1,
           1,
           1,
           1,
           1,
           1,
           1,
           1,
           1,
           1,
           1,
           1,
           1,
           1,
           1,
           1,
           1,
           1,
           1,
           1,
           1,
           1,
           1,
           1,
           1,
           1,
           1,
           1,
           1,
           1,
           1,
           1,
           1,
           1,
           1,
           1,
           1,
           1,
           1,
           1,
           1,
           1,
           1,
           1,
           1,
           1,
           1,
           1,
           1,
           1,
           1,
           1,
           1,
           1,
           1,
           1,
           1,
           1,
           1,
           1,
           1,
           1,
           1,
           1,
           1,
           1,
           1,
           1,
           1,
           1,
           1,
           1,
           1,
           1,
           1,
           1,
           1,
           1,
           1,
           1,
           1,
           1,
           1,
           1,
           1,
           1,
           1,
           1,
           1,
           1,
           1,
           1,
           1,
           1,
           1,
           1,
           1,
           1,
           1,
           1,
           1,
           1,
           1,
           1,
           1,
           1,
           1,
           1,
           1,
           1,
           1,
           1,
           1,
           1,
           1,
           1,
           1,
           1,
           1
          ],
          "coloraxis": "coloraxis",
          "symbol": "circle"
         },
         "mode": "markers",
         "name": "",
         "orientation": "v",
         "showlegend": false,
         "type": "scatter",
         "x": [
          -14.34391975402832,
          -14.330751419067383,
          22.32427978515625,
          -14.607264518737793,
          0.8622795939445496,
          -11.368042945861816,
          9.991020202636719,
          1.8513357639312744,
          -11.666167259216309,
          4.8604607582092285,
          0.9125753045082092,
          -12.99382209777832,
          2.9637808799743652,
          -20.962047576904297,
          8.16303539276123,
          8.447527885437012,
          -0.5241638422012329,
          -6.688404083251953,
          -15.368514060974121,
          14.0669584274292,
          -8.808783531188965,
          3.231630325317383,
          8.750959396362305,
          -11.705039024353027,
          -5.608367919921875,
          -7.105865478515625,
          16.284482955932617,
          20.285072326660156,
          9.195964813232422,
          15.85634708404541,
          2.8096859455108643,
          -15.322351455688477,
          -7.087454319000244,
          -2.6328296661376953,
          -9.578082084655762,
          19.970304489135742,
          6.649685859680176,
          1.9451792240142822,
          8.27440357208252,
          -23.761838912963867,
          1.628130555152893,
          -11.46306037902832,
          -4.3647613525390625,
          -10.737321853637695,
          2.2789602279663086,
          -15.017906188964844,
          2.04017972946167,
          -3.4003612995147705,
          -7.181023597717285,
          -0.21454207599163055,
          -3.8323252201080322,
          8.609634399414062,
          -15.952897071838379,
          6.145946979522705,
          12.039461135864258,
          -2.998499631881714,
          8.195866584777832,
          -1.6238809823989868,
          3.8343546390533447,
          10.895947456359863,
          -4.6565470695495605,
          7.681994915008545,
          -4.417708873748779,
          -6.146153450012207,
          3.1208443641662598,
          -6.751929759979248,
          6.3784284591674805,
          7.4333319664001465,
          -11.324274063110352,
          3.7313308715820312,
          -4.857625484466553,
          1.9995852708816528,
          17.36839485168457,
          5.818201065063477,
          9.184499740600586,
          -0.9465263485908508,
          12.350184440612793,
          -4.348989486694336,
          9.695545196533203,
          17.358285903930664,
          15.323390007019043,
          -3.034811019897461,
          -10.936065673828125,
          -2.46150279045105,
          -10.007792472839355,
          -5.115092754364014,
          -13.077702522277832,
          15.449589729309082,
          -5.689370155334473,
          -15.740199089050293,
          -11.569825172424316,
          17.333213806152344,
          17.68804931640625,
          -17.79666519165039,
          -4.306087017059326,
          -15.963851928710938,
          1.7618576288223267,
          -20.40420150756836,
          15.890783309936523,
          -2.3331539630889893,
          -11.016496658325195,
          -1.689956784248352,
          -2.2480740547180176,
          15.67734432220459,
          -6.249385833740234,
          -5.542471885681152,
          -7.710423946380615,
          -4.728613376617432,
          -7.154577255249023,
          -5.230973243713379,
          5.517578125,
          7.908990383148193,
          18.675060272216797,
          9.582090377807617,
          22.123268127441406,
          2.941856861114502,
          -1.3186635971069336,
          -4.549849987030029,
          -18.0572509765625,
          -13.074132919311523,
          8.37454891204834,
          3.3380093574523926,
          -1.3471651077270508,
          -15.985397338867188,
          5.325874328613281,
          -9.146860122680664,
          -19.509727478027344,
          -3.569878101348877,
          3.381277561187744,
          8.465350151062012,
          -3.413625478744507,
          17.69788932800293,
          -7.4964094161987305,
          0.6113930940628052,
          -8.29472827911377,
          -2.6558101177215576,
          -11.085759162902832,
          -21.817155838012695,
          20.03960418701172,
          16.673126220703125,
          -6.95468282699585,
          -9.144064903259277,
          0.025590136647224426,
          -19.93858528137207,
          -2.4911656379699707,
          -6.989254951477051,
          -6.885309219360352,
          7.383877277374268,
          9.276337623596191,
          -19.020410537719727,
          9.271859169006348,
          5.0107197761535645,
          1.7810320854187012,
          -12.979110717773438,
          7.057342052459717,
          -3.5658748149871826,
          -24.8615665435791,
          11.714075088500977,
          9.702815055847168,
          -6.439925193786621,
          8.649155616760254,
          9.890960693359375,
          -3.696291446685791,
          8.660773277282715,
          1.9026215076446533,
          17.0394229888916,
          -1.544247031211853,
          -10.471648216247559,
          -1.83542799949646,
          2.322171926498413,
          23.022262573242188,
          6.512807846069336,
          -5.949275493621826,
          -4.261871814727783,
          -3.9113056659698486,
          3.5216028690338135,
          7.79229211807251,
          -16.827062606811523,
          2.2554783821105957,
          -4.786200046539307,
          3.4132518768310547,
          -14.597328186035156,
          -1.5899922847747803,
          19.53891944885254,
          16.55325698852539,
          2.313161611557007,
          23.011892318725586,
          14.376407623291016,
          8.56506633758545,
          11.910069465637207,
          -2.1712639331817627,
          -5.3534369468688965,
          5.636894226074219,
          -12.067866325378418,
          10.156489372253418,
          23.202699661254883,
          -21.391468048095703,
          -3.946723461151123,
          -8.574339866638184,
          1.2518961429595947,
          16.068748474121094,
          5.773006916046143,
          -20.98099708557129,
          -2.725249767303467,
          21.60249900817871,
          16.584373474121094,
          12.73895263671875,
          -9.080663681030273,
          1.0535186529159546,
          21.53508949279785,
          7.816812992095947,
          0.9368743300437927,
          5.4795756340026855,
          2.9004554748535156,
          -3.256265640258789,
          7.768434047698975,
          7.831750392913818,
          4.190885543823242,
          -9.386214256286621,
          6.417862415313721,
          -23.362802505493164,
          5.193594932556152,
          -2.843287229537964,
          2.749513864517212,
          1.9559175968170166,
          7.672272205352783,
          17.45179557800293,
          14.932323455810547,
          4.42090368270874,
          -11.623818397521973,
          13.936982154846191,
          21.698942184448242,
          -9.524735450744629,
          -9.06427001953125,
          -1.988081932067871,
          -4.760112762451172,
          -14.43030834197998,
          19.717374801635742,
          -12.688472747802734,
          -6.0238938331604,
          17.2231502532959,
          8.141942024230957,
          19.710554122924805,
          -5.183889865875244,
          6.220735549926758,
          11.886282920837402,
          -24.798282623291016,
          -17.28609848022461,
          20.78215217590332,
          7.855282783508301,
          -0.9030089378356934,
          -11.61174201965332,
          17.983123779296875,
          7.893692970275879,
          -10.777527809143066,
          -17.3454647064209,
          -7.097605228424072,
          10.391011238098145,
          -6.226567268371582,
          11.230546951293945,
          21.86052703857422,
          -10.410417556762695,
          10.558127403259277,
          8.183752059936523,
          -14.103717803955078,
          0.017619870603084564,
          2.6988489627838135,
          -7.638082027435303,
          -7.925930976867676,
          17.46839714050293,
          20.173259735107422,
          -5.5121588706970215,
          -6.805140018463135,
          1.8705523014068604,
          -19.92776107788086,
          -1.6027199029922485,
          -13.774767875671387,
          16.804738998413086,
          16.801477432250977,
          -21.653881072998047,
          -15.481511116027832,
          -9.918663024902344,
          -23.012372970581055,
          -12.007576942443848,
          14.122451782226562,
          4.487884521484375,
          -8.188908576965332,
          -9.003562927246094,
          19.496421813964844,
          15.01871109008789,
          2.7053871154785156,
          4.904847145080566,
          1.2732555866241455,
          15.424100875854492,
          3.2248623371124268,
          -24.045696258544922,
          -12.53296947479248,
          18.434398651123047,
          9.515268325805664,
          2.5100083351135254,
          8.91185474395752,
          -8.25220012664795,
          10.855489730834961,
          -5.731250286102295,
          6.1578049659729,
          4.216795921325684,
          -25.12664222717285,
          17.934907913208008,
          -14.617862701416016,
          1.937669038772583,
          1.9041190147399902,
          -9.451777458190918,
          4.470388412475586,
          -13.351630210876465,
          19.709087371826172,
          -13.030760765075684,
          -2.268920660018921,
          17.569032669067383,
          -22.093647003173828,
          -11.890222549438477,
          -16.23480224609375,
          -0.834505021572113,
          15.937094688415527,
          0.7018533945083618,
          -8.859188079833984,
          -21.11270523071289,
          12.663968086242676,
          9.234607696533203,
          -9.245701789855957,
          14.65219497680664,
          -3.5488526821136475,
          19.785322189331055,
          17.114280700683594,
          13.157999038696289,
          -2.6387674808502197,
          6.2618513107299805,
          -12.332829475402832,
          -24.15983009338379,
          -20.4938907623291,
          -0.33844998478889465,
          9.995441436767578,
          17.341997146606445,
          -2.4591751098632812,
          24.089614868164062,
          8.480945587158203,
          1.9846932888031006,
          9.089581489562988,
          22.30679702758789,
          8.777974128723145,
          6.343326091766357,
          12.07744026184082,
          -4.478672981262207,
          -3.6235129833221436,
          -10.432246208190918,
          -3.499546766281128,
          8.78200626373291,
          1.4250909090042114,
          2.3928253650665283,
          -10.197147369384766,
          0.9205449223518372,
          12.912461280822754,
          15.51700496673584,
          -12.761092185974121,
          -20.698932647705078,
          10.617790222167969,
          20.424331665039062,
          8.234931945800781,
          6.920186519622803,
          3.22957181930542,
          19.191287994384766,
          13.890250205993652,
          -6.006870746612549,
          0.39866843819618225,
          0.6182832717895508,
          21.432613372802734,
          -20.540454864501953,
          13.267398834228516,
          0.17229166626930237,
          12.38934326171875,
          1.250302791595459,
          5.589410781860352,
          -0.15216301381587982,
          11.299463272094727,
          -9.712356567382812,
          13.403268814086914,
          21.072288513183594,
          19.535905838012695,
          -7.67759370803833,
          -3.8479814529418945,
          17.30343246459961,
          20.115568161010742,
          0.9939404726028442,
          -0.9878440499305725,
          -0.3098418414592743,
          21.735313415527344,
          2.9906301498413086,
          -14.624314308166504,
          -8.91086483001709,
          2.1279640197753906,
          -6.709539413452148,
          14.680373191833496,
          5.751756191253662,
          8.474737167358398,
          -2.0836994647979736,
          7.730062484741211,
          -5.824109077453613,
          -1.0418462753295898,
          2.273716449737549,
          4.054614543914795,
          -4.330508232116699,
          -16.080371856689453,
          10.365763664245605,
          -2.4802770614624023,
          -6.7891154289245605,
          -3.5303845405578613,
          6.775415420532227,
          3.346557140350342,
          0.7855150699615479,
          -2.943988561630249,
          15.21989917755127,
          10.699310302734375,
          -12.932353019714355,
          10.713823318481445,
          -20.27251434326172,
          7.677435398101807,
          -15.045784950256348,
          4.745894908905029,
          14.51478099822998,
          -0.023732414469122887,
          5.754703998565674,
          -8.500738143920898,
          3.021280288696289,
          -20.561359405517578,
          0.2651442587375641,
          6.373636722564697,
          -4.209105491638184,
          -6.239233016967773,
          6.463935375213623,
          -14.309490203857422,
          3.376152992248535,
          -5.715635299682617,
          11.302817344665527,
          12.784238815307617,
          -19.54793357849121,
          -6.76181173324585,
          -19.859689712524414,
          23.822952270507812,
          0.9127184152603149,
          15.231907844543457,
          -3.441953659057617,
          -5.00923490524292,
          -0.3041856586933136,
          -13.746411323547363,
          -3.6143932342529297,
          -5.641631603240967,
          -4.981326103210449,
          -8.928251266479492,
          -18.23967933654785,
          8.712690353393555,
          0.6731165647506714,
          -22.3570556640625,
          -5.3421430587768555,
          -6.062785625457764,
          6.117452621459961,
          -9.78289794921875,
          2.0362777709960938,
          -9.844477653503418,
          9.582170486450195,
          7.467446804046631,
          6.362776279449463,
          -15.478894233703613,
          -3.8757474422454834,
          -20.594995498657227,
          19.422706604003906,
          -13.476545333862305,
          0.4216346740722656,
          -8.087810516357422,
          -0.5555365085601807,
          11.645843505859375,
          18.281509399414062,
          -13.668081283569336,
          20.009532928466797,
          9.688247680664062,
          -1.5391596555709839,
          0.3108288645744324,
          14.353856086730957,
          19.6342830657959,
          -10.040069580078125,
          0.059020280838012695,
          13.789861679077148,
          8.63473892211914,
          2.163210391998291,
          23.029565811157227,
          7.482304573059082,
          -6.615703582763672,
          20.94464111328125,
          15.00206184387207,
          -13.84360122680664,
          -21.095792770385742,
          -22.238834381103516,
          18.261974334716797,
          0.2897934913635254,
          -0.6737928986549377,
          11.723897933959961,
          4.892297267913818,
          -19.633445739746094,
          5.873722553253174,
          -16.314476013183594,
          -23.025630950927734,
          -8.241087913513184,
          17.885478973388672,
          19.55819320678711,
          -5.4395928382873535,
          5.594577789306641,
          5.7281293869018555,
          -3.152125358581543,
          -22.42197608947754,
          -5.9431891441345215,
          -2.132880210876465,
          -2.638401508331299,
          -5.8160881996154785,
          16.460050582885742,
          13.692052841186523,
          19.62042808532715,
          -1.969651699066162,
          -11.98939037322998,
          -2.84960675239563,
          15.359314918518066,
          -11.483379364013672,
          2.024951457977295,
          -1.1089259386062622,
          20.997846603393555,
          17.904220581054688,
          15.19287395477295,
          -12.246122360229492,
          -5.602876663208008,
          19.931568145751953,
          -1.631967306137085,
          -0.2784886956214905,
          -22.585756301879883,
          3.907451629638672,
          9.686870574951172,
          -6.088890075683594,
          -10.667391777038574,
          -1.834814429283142,
          -13.219717025756836,
          -1.4354509115219116,
          7.888089656829834,
          -8.684164047241211,
          11.41033935546875,
          -13.58626937866211,
          -12.842046737670898,
          11.830686569213867,
          11.516578674316406,
          -10.726261138916016,
          -3.0331990718841553,
          -7.208517074584961,
          -9.446333885192871,
          3.444852828979492,
          0.5415049195289612,
          -0.6277067065238953,
          0.6374501585960388,
          -20.405305862426758,
          -2.8348121643066406,
          12.363136291503906,
          11.264341354370117,
          -7.633322238922119,
          18.894264221191406,
          9.282570838928223,
          -10.362529754638672,
          -13.105198860168457,
          0.9909444451332092,
          3.778639793395996,
          11.65606689453125,
          2.052136182785034,
          -13.08094310760498,
          -16.64442253112793,
          0.5188013911247253,
          -5.085662841796875,
          -11.698092460632324,
          6.156890392303467,
          -15.048480987548828,
          -0.4724287688732147,
          -10.09762191772461,
          9.403829574584961,
          17.27465057373047,
          0.6082996726036072,
          1.6782861948013306,
          -14.497058868408203,
          -1.6108028888702393,
          -13.723905563354492,
          19.581085205078125,
          -24.390167236328125,
          -9.105480194091797,
          10.435019493103027,
          -4.684879302978516,
          -7.029139518737793,
          16.311120986938477,
          10.532407760620117,
          -6.23140811920166,
          19.21416664123535,
          -16.72927474975586,
          -2.5220184326171875,
          -6.8550848960876465,
          16.59061622619629,
          5.335569858551025,
          -11.785080909729004,
          16.979061126708984,
          -11.020255088806152,
          -15.735430717468262,
          18.494125366210938,
          18.364826202392578,
          -24.68083381652832,
          -3.6674916744232178,
          -2.0330088138580322,
          13.20007610321045,
          8.61979866027832,
          16.340845108032227,
          -5.865116119384766,
          6.678264141082764,
          20.60678482055664,
          -17.180240631103516,
          2.8709042072296143,
          2.1934316158294678,
          -4.239181041717529,
          12.631851196289062,
          7.605260848999023,
          -9.423186302185059,
          1.2004960775375366,
          9.047418594360352,
          7.406191349029541,
          20.960256576538086,
          19.936904907226562,
          9.2739839553833,
          13.345701217651367,
          -9.401378631591797,
          10.708944320678711,
          -8.678412437438965,
          -8.416287422180176,
          -7.234455585479736,
          0.7464048266410828,
          3.850234270095825,
          -22.679948806762695,
          -0.9930326342582703,
          11.72485065460205,
          -0.7655428647994995,
          1.8261653184890747,
          -0.16408883035182953,
          18.098770141601562,
          6.833909034729004,
          22.27658462524414,
          0.40086206793785095,
          -9.103861808776855,
          -8.024089813232422,
          -4.3209075927734375,
          -17.595706939697266,
          -11.090831756591797,
          -10.571756362915039,
          -2.382488489151001,
          2.835261583328247,
          -4.991171836853027,
          -21.352392196655273,
          -15.154905319213867,
          3.8855113983154297,
          -18.05364227294922,
          -10.509342193603516,
          -10.473169326782227,
          15.459197044372559,
          -21.054645538330078,
          -4.6262102127075195,
          1.6320220232009888,
          20.29541015625,
          -7.721502780914307,
          -11.31723403930664,
          -4.605428218841553,
          4.195393085479736,
          16.854034423828125,
          -5.37066650390625,
          -17.93260383605957,
          4.542867660522461,
          3.9437646865844727,
          8.08202838897705,
          -14.31223201751709,
          -4.666164875030518,
          -3.884366035461426,
          8.171090126037598,
          -3.142487049102783,
          1.8054697513580322,
          -17.358823776245117,
          -0.8128677606582642,
          -2.2848217487335205,
          1.2162449359893799,
          20.23978614807129,
          11.144845962524414,
          6.722211837768555,
          -10.994146347045898,
          -13.341745376586914,
          7.608314037322998,
          -8.668818473815918,
          18.077781677246094,
          1.9739378690719604,
          -15.490715980529785,
          20.447696685791016,
          21.01814079284668,
          8.11955451965332,
          -4.237380027770996,
          9.35860824584961,
          -5.709391117095947,
          -6.509528636932373,
          20.55925941467285,
          -3.529768228530884,
          -2.5172502994537354,
          16.829317092895508,
          -1.7788174152374268,
          20.20751190185547,
          15.112175941467285,
          2.302464246749878,
          -1.7953838109970093,
          -11.125621795654297,
          -22.9166259765625,
          -19.047237396240234,
          17.679645538330078,
          -7.498003959655762,
          12.705493927001953,
          10.28286075592041,
          -10.129612922668457,
          15.266277313232422,
          -6.561814308166504,
          -18.74307632446289,
          10.289753913879395,
          1.6430431604385376,
          2.3753981590270996,
          8.858417510986328,
          -16.012866973876953,
          -6.251559257507324,
          -16.887405395507812,
          -5.741288661956787,
          -21.539278030395508,
          7.835424423217773,
          -1.1085506677627563,
          9.532166481018066,
          2.053891181945801,
          -8.837015151977539,
          -9.8404541015625,
          -19.343355178833008,
          -18.85403060913086,
          -21.569204330444336,
          -16.931617736816406,
          12.022200584411621,
          -4.719843864440918,
          -15.573800086975098,
          13.209830284118652,
          9.79946231842041,
          -24.685068130493164,
          -8.820037841796875,
          -14.752199172973633,
          0.7929337620735168,
          -3.3335354328155518,
          3.48221755027771,
          0.38420286774635315,
          20.376279830932617,
          -18.14896011352539,
          18.51279067993164,
          -18.54469871520996,
          -7.095456600189209,
          -0.7005676031112671,
          13.420117378234863,
          -18.933319091796875,
          -11.39418888092041,
          -15.182536125183105,
          -21.180908203125,
          -7.010095119476318,
          -11.129318237304688,
          20.964345932006836,
          -15.077342987060547,
          2.5852789878845215,
          14.22728157043457,
          -5.7900567054748535,
          2.5609052181243896,
          11.926584243774414,
          14.828177452087402,
          -24.173439025878906,
          18.655298233032227,
          14.715617179870605,
          -0.1261172741651535,
          -5.037984848022461,
          -2.9164295196533203,
          12.31741714477539,
          -9.481925010681152,
          -8.386689186096191,
          -9.253446578979492,
          -9.512740135192871,
          1.7151844501495361,
          0.6338573694229126,
          12.10195255279541,
          4.668746471405029,
          -22.409923553466797,
          7.515054225921631,
          -15.796221733093262,
          -5.447360515594482,
          24.524415969848633,
          -0.5944935083389282,
          -2.375006675720215,
          -8.091630935668945,
          -24.943527221679688,
          -10.48975658416748,
          13.21286678314209,
          5.76662540435791,
          1.676945447921753,
          5.387195587158203,
          -1.4614378213882446,
          -13.214274406433105,
          -1.3421483039855957,
          8.451340675354004,
          -11.635262489318848,
          7.159661293029785,
          10.903118133544922,
          14.523797035217285,
          -1.2483867406845093,
          -5.586237907409668,
          -5.068536758422852,
          12.94837474822998,
          11.552809715270996,
          -1.3087379932403564,
          -1.003110408782959,
          -21.381656646728516,
          8.833186149597168,
          17.6749324798584,
          -12.384305953979492,
          -1.4401500225067139,
          2.262699842453003,
          -3.9284958839416504,
          8.09579086303711,
          -19.9312801361084,
          -4.840419769287109,
          12.979982376098633,
          -7.964455604553223,
          0.2997684180736542,
          1.090340256690979,
          -8.530388832092285,
          -6.505821704864502,
          0.6197116374969482,
          -17.08184051513672,
          20.976451873779297,
          -22.273601531982422,
          16.763940811157227,
          -3.381223678588867,
          -12.171600341796875,
          2.3031110763549805,
          -0.675342321395874,
          -7.252432823181152,
          -6.2334794998168945,
          -5.439293384552002,
          -24.673419952392578,
          -10.790910720825195,
          9.930887222290039,
          -5.394282341003418,
          4.528841495513916,
          11.193102836608887,
          10.255561828613281,
          -7.799803733825684,
          -8.920259475708008,
          -20.07940101623535,
          -0.37822195887565613,
          14.045461654663086,
          -0.2994357645511627,
          -2.3335893154144287,
          15.822709083557129,
          12.388147354125977,
          8.818814277648926,
          -9.56135082244873,
          7.571085453033447,
          -21.207653045654297,
          -22.894268035888672,
          -6.9647908210754395,
          17.164077758789062,
          -3.826338529586792,
          -13.959115028381348,
          -17.021718978881836,
          8.371838569641113,
          0.23298074305057526,
          -4.164156913757324,
          7.184428691864014,
          1.5457537174224854,
          7.103835582733154,
          -12.860686302185059,
          -11.721689224243164,
          15.001338958740234,
          -5.020321846008301,
          4.5226945877075195,
          -5.7955732345581055,
          11.752123832702637,
          8.566302299499512,
          6.529083251953125,
          -8.516331672668457,
          8.847420692443848,
          17.95597267150879,
          -5.241304874420166,
          -21.295169830322266,
          0.7724690437316895,
          23.053590774536133,
          -8.424375534057617,
          -6.500051021575928,
          -19.461441040039062,
          -11.262686729431152,
          0.55426424741745,
          -7.64802360534668,
          8.556257247924805,
          -15.845512390136719,
          -14.374610900878906,
          -21.678571701049805,
          15.251439094543457,
          -7.05850887298584,
          1.7708616256713867,
          -14.98204231262207,
          -5.001311302185059,
          8.837360382080078,
          -13.07994270324707,
          -14.042856216430664,
          9.948086738586426,
          0.9575487971305847,
          -1.0065252780914307,
          -16.20314598083496,
          -17.26563262939453,
          -11.268889427185059,
          -20.906509399414062,
          3.6177048683166504,
          -4.008175373077393,
          -5.637994289398193,
          -7.086188316345215,
          1.8494898080825806,
          -23.006450653076172,
          -11.958345413208008,
          -3.169095993041992,
          -0.9107151627540588,
          -3.624311923980713,
          -4.791383743286133,
          -6.816134452819824,
          -13.105298042297363,
          -10.398871421813965,
          4.906345367431641,
          -6.546350955963135,
          -13.65667724609375,
          -10.135991096496582,
          2.662358283996582,
          -10.217169761657715,
          2.517404556274414,
          -2.746760606765747,
          9.50631046295166,
          -23.155134201049805,
          -24.57550811767578,
          -3.0563247203826904,
          -16.957603454589844,
          11.808809280395508,
          -4.330970287322998,
          11.539901733398438,
          -15.19180965423584,
          -8.825460433959961,
          -11.572531700134277,
          2.9588656425476074,
          -10.295860290527344,
          0.7866844534873962,
          -22.157976150512695,
          9.002067565917969,
          0.5700675845146179,
          7.765552520751953,
          -16.52723503112793,
          -6.071581840515137,
          -10.85550308227539,
          -19.9761962890625,
          -1.3487920761108398,
          18.990257263183594,
          11.15179443359375,
          15.32582950592041,
          -10.542387962341309,
          -7.879758358001709,
          1.2733383178710938,
          -9.926689147949219,
          -2.844125747680664,
          -6.035531044006348,
          -13.402115821838379,
          1.373246669769287,
          -4.159975528717041,
          -7.161988735198975,
          -9.686101913452148,
          16.85108184814453,
          21.59653091430664,
          7.988275051116943,
          4.882420539855957,
          -7.4444403648376465,
          -5.3485212326049805,
          -8.111014366149902,
          7.617450714111328,
          1.8849809169769287,
          -1.3103348016738892,
          -6.895158767700195,
          -11.407527923583984,
          5.684674263000488,
          -8.421687126159668,
          13.811562538146973
         ],
         "xaxis": "x",
         "y": [
          -23.500244140625,
          -20.64084815979004,
          22.622146606445312,
          -25.682607650756836,
          31.266942977905273,
          -7.533638954162598,
          -33.764530181884766,
          18.7105712890625,
          3.937755584716797,
          8.261837005615234,
          -28.145668029785156,
          -0.3161641061306,
          15.554688453674316,
          6.460213661193848,
          -7.9081130027771,
          36.23592758178711,
          -3.486327648162842,
          28.13680076599121,
          -0.39232906699180603,
          14.401005744934082,
          -34.52581787109375,
          22.843645095825195,
          3.304176092147827,
          -12.24824333190918,
          -25.048046112060547,
          -1.869791865348816,
          -20.647830963134766,
          12.901195526123047,
          -35.84524917602539,
          24.242786407470703,
          22.397850036621094,
          4.044817924499512,
          26.519004821777344,
          14.632447242736816,
          -0.34206557273864746,
          -38.6441650390625,
          16.2509708404541,
          24.825016021728516,
          -40.57475280761719,
          22.081378936767578,
          33.1572265625,
          -4.212182521820068,
          -35.695343017578125,
          -27.353899002075195,
          -37.224891662597656,
          26.065338134765625,
          35.079410552978516,
          -9.899214744567871,
          3.0533206462860107,
          35.31686019897461,
          -3.801917791366577,
          -27.882705688476562,
          14.596304893493652,
          16.83116912841797,
          23.37456512451172,
          -13.149932861328125,
          -29.595823287963867,
          35.13847732543945,
          -25.433815002441406,
          10.057168006896973,
          -19.679832458496094,
          15.86435604095459,
          1.7118268013000488,
          18.0709228515625,
          -34.28572082519531,
          0.20109428465366364,
          -11.41681957244873,
          4.656850337982178,
          -26.975114822387695,
          -22.194150924682617,
          -17.907445907592773,
          33.736289978027344,
          -18.95855140686035,
          -32.97135925292969,
          14.775521278381348,
          1.3037735223770142,
          35.92400360107422,
          -25.741544723510742,
          32.64112854003906,
          23.743268966674805,
          10.816712379455566,
          34.298240661621094,
          -8.370193481445312,
          -5.70183801651001,
          -21.826169967651367,
          11.845478057861328,
          -0.755980372428894,
          -31.35053062438965,
          13.10321044921875,
          -22.632661819458008,
          32.91191101074219,
          11.927431106567383,
          9.972188949584961,
          25.39142417907715,
          -7.145533084869385,
          4.033723831176758,
          -32.62078094482422,
          22.133968353271484,
          -24.92013168334961,
          -33.470375061035156,
          -7.928460597991943,
          -22.782567977905273,
          -24.368921279907227,
          -29.68639373779297,
          -13.120990753173828,
          -9.850727081298828,
          -30.875329971313477,
          -16.043867111206055,
          -3.074057102203369,
          21.132295608520508,
          -31.520977020263672,
          19.567916870117188,
          -38.1822509765625,
          11.928861618041992,
          -27.784820556640625,
          -25.102903366088867,
          -26.430753707885742,
          -14.051223754882812,
          -27.611970901489258,
          -30.690153121948242,
          -40.640899658203125,
          -30.94450569152832,
          -3.228066921234131,
          -1.0519647598266602,
          -2.8438775539398193,
          20.88595962524414,
          -6.720864772796631,
          -9.873499870300293,
          18.720626831054688,
          -10.985588073730469,
          -31.00026512145996,
          24.318620681762695,
          30.727954864501953,
          -19.31415557861328,
          -0.974921703338623,
          -25.67019271850586,
          -31.336349487304688,
          21.327606201171875,
          -27.523191452026367,
          11.546513557434082,
          -20.02300262451172,
          -33.0567741394043,
          24.916257858276367,
          -22.244386672973633,
          -31.83121681213379,
          -10.68523120880127,
          -9.598678588867188,
          -28.980976104736328,
          12.331993103027344,
          24.049036026000977,
          -29.00737762451172,
          22.449514389038086,
          -9.687623023986816,
          -33.74333190917969,
          -11.504105567932129,
          -7.6481428146362305,
          -14.640503883361816,
          -31.47273063659668,
          5.093546390533447,
          26.239078521728516,
          -0.13933590054512024,
          29.994152069091797,
          2.0790319442749023,
          -10.91873836517334,
          2.7529587745666504,
          24.963855743408203,
          -15.844680786132812,
          -23.383010864257812,
          -7.6547675132751465,
          29.747255325317383,
          -29.189489364624023,
          -25.53898811340332,
          -23.025972366333008,
          -23.38591194152832,
          -22.18876838684082,
          12.22509765625,
          14.264612197875977,
          -8.819235801696777,
          -34.71538162231445,
          -20.733701705932617,
          -32.67572021484375,
          -22.61747169494629,
          -7.917490482330322,
          -22.32560157775879,
          -24.575185775756836,
          -21.213787078857422,
          -30.42919921875,
          22.92690086364746,
          22.804075241088867,
          -38.87248992919922,
          20.102705001831055,
          19.39557456970215,
          -6.438467979431152,
          -24.063692092895508,
          27.608848571777344,
          -26.995698928833008,
          23.816469192504883,
          -34.4984130859375,
          -30.000774383544922,
          35.392356872558594,
          -23.85396385192871,
          -36.79810333251953,
          6.4811692237854,
          7.243404388427734,
          25.308998107910156,
          -25.557640075683594,
          -27.538543701171875,
          9.604697227478027,
          34.485076904296875,
          -29.633188247680664,
          7.649205684661865,
          -28.34600830078125,
          11.263025283813477,
          -9.684564590454102,
          -19.189985275268555,
          17.70749855041504,
          12.532266616821289,
          13.713648796081543,
          -21.3106746673584,
          19.992040634155273,
          3.148273468017578,
          12.395195007324219,
          22.2838077545166,
          12.027410507202148,
          -14.153332710266113,
          -32.364776611328125,
          -24.880760192871094,
          22.67620849609375,
          28.09783363342285,
          -15.476292610168457,
          -20.340869903564453,
          -21.073762893676758,
          2.690347671508789,
          1.2304089069366455,
          -28.299238204956055,
          12.558533668518066,
          0.3079637885093689,
          -37.175167083740234,
          19.349489212036133,
          -6.28066349029541,
          -23.22421646118164,
          -23.198450088500977,
          -25.993318557739258,
          21.804811477661133,
          -34.20912551879883,
          33.290809631347656,
          -12.353843688964844,
          9.137113571166992,
          22.412240982055664,
          -33.54568862915039,
          -28.56504249572754,
          12.898863792419434,
          -26.291973114013672,
          -11.279903411865234,
          -20.293472290039062,
          -26.663372039794922,
          18.24861717224121,
          19.776138305664062,
          34.47898483276367,
          9.284070014953613,
          -26.138139724731445,
          -18.662546157836914,
          -28.310407638549805,
          23.933805465698242,
          17.17191505432129,
          -18.29903221130371,
          0.9050325155258179,
          7.6142497062683105,
          -21.178956985473633,
          27.697954177856445,
          -37.579166412353516,
          -6.046550750732422,
          3.821343421936035,
          -27.398303985595703,
          23.21663475036621,
          -1.9863334894180298,
          -20.367212295532227,
          -19.788036346435547,
          14.12720012664795,
          23.002599716186523,
          -15.227656364440918,
          19.86097526550293,
          10.635762214660645,
          8.135640144348145,
          -22.533472061157227,
          -35.124755859375,
          18.034162521362305,
          -0.7904230356216431,
          -37.40464401245117,
          14.903438568115234,
          16.770021438598633,
          -29.98731803894043,
          -36.160980224609375,
          -25.66948890686035,
          -31.379947662353516,
          2.4776992797851562,
          -5.881317615509033,
          -21.437667846679688,
          -36.56089401245117,
          -2.7871832847595215,
          22.90313720703125,
          -22.55472755432129,
          3.1997270584106445,
          -23.928546905517578,
          21.41268539428711,
          -33.09425735473633,
          22.411169052124023,
          -24.0135498046875,
          -1.5624656677246094,
          -10.587018013000488,
          -9.699045181274414,
          -27.21761131286621,
          14.603344917297363,
          -3.0878288745880127,
          -23.46647834777832,
          4.116276264190674,
          -20.098407745361328,
          -28.54501724243164,
          0.08763712644577026,
          -8.607139587402344,
          -9.725417137145996,
          -24.70539093017578,
          -21.656051635742188,
          33.74775695800781,
          7.576016426086426,
          18.80057716369629,
          30.39359474182129,
          -31.062816619873047,
          2.158127784729004,
          1.2004306316375732,
          -35.30772018432617,
          6.3864359855651855,
          15.099044799804688,
          -25.81804656982422,
          27.086851119995117,
          -17.721935272216797,
          11.557303428649902,
          1.3987987041473389,
          -2.7638046741485596,
          33.445220947265625,
          10.907805442810059,
          25.027908325195312,
          -16.282962799072266,
          -26.25873374938965,
          23.878026962280273,
          -9.578968048095703,
          21.94340705871582,
          -24.3369197845459,
          -27.273645401000977,
          -16.764907836914062,
          14.689350128173828,
          24.5214900970459,
          -27.279033660888672,
          -28.682540893554688,
          -25.389190673828125,
          -35.45897674560547,
          -3.700958251953125,
          -8.396759033203125,
          4.116675853729248,
          -10.131051063537598,
          -33.630828857421875,
          -27.518531799316406,
          14.118073463439941,
          23.9105281829834,
          11.808381080627441,
          22.361520767211914,
          -24.43967056274414,
          -26.428592681884766,
          -28.766902923583984,
          -25.328712463378906,
          -26.04439353942871,
          -10.402623176574707,
          9.396832466125488,
          -32.70416259765625,
          -22.491230010986328,
          22.783571243286133,
          -29.878992080688477,
          17.639141082763672,
          31.775976181030273,
          15.750558853149414,
          -2.846442699432373,
          -20.33835792541504,
          -26.744861602783203,
          8.0385160446167,
          -32.35987091064453,
          -28.737911224365234,
          14.552230834960938,
          -5.080967903137207,
          -6.316673755645752,
          16.522497177124023,
          -36.05479049682617,
          9.668124198913574,
          27.560964584350586,
          -31.743968963623047,
          17.16722869873047,
          -21.52419090270996,
          -25.876319885253906,
          -26.524641036987305,
          32.46450424194336,
          10.921416282653809,
          -33.51766586303711,
          20.067657470703125,
          -31.94740867614746,
          -15.441011428833008,
          23.21918487548828,
          -25.451929092407227,
          -34.126068115234375,
          -29.964752197265625,
          28.878253936767578,
          22.98554229736328,
          18.626028060913086,
          -25.30812644958496,
          -16.332979202270508,
          19.66913604736328,
          11.539339065551758,
          -29.99090003967285,
          -10.800398826599121,
          13.22119426727295,
          -37.40907669067383,
          31.463483810424805,
          10.627705574035645,
          14.326273918151855,
          22.135906219482422,
          -14.150717735290527,
          -31.700014114379883,
          -0.9181346893310547,
          -29.728721618652344,
          -24.38907814025879,
          1.8316409587860107,
          -28.235435485839844,
          -20.728763580322266,
          24.226821899414062,
          -3.7613914012908936,
          -17.3492374420166,
          -9.1434907913208,
          4.141573905944824,
          -33.027427673339844,
          20.663663864135742,
          -11.194937705993652,
          22.651025772094727,
          -11.178415298461914,
          9.03095531463623,
          30.82308006286621,
          -5.186164379119873,
          -1.2415201663970947,
          0.2511551082134247,
          -28.769775390625,
          15.173751831054688,
          -23.13031768798828,
          -5.297289848327637,
          4.728694915771484,
          3.6178231239318848,
          7.287002086639404,
          -28.96961212158203,
          -22.534006118774414,
          -22.815467834472656,
          -26.21562385559082,
          25.475183486938477,
          -4.095737934112549,
          35.02863693237305,
          -6.829092979431152,
          -31.2274227142334,
          -12.448468208312988,
          -39.730167388916016,
          -1.3675273656845093,
          -31.363876342773438,
          20.16928482055664,
          31.064083099365234,
          -12.653009414672852,
          -9.129071235656738,
          -7.837422847747803,
          13.119965553283691,
          19.870166778564453,
          -37.42082214355469,
          19.665544509887695,
          -26.754364013671875,
          -9.192851066589355,
          19.531143188476562,
          -29.474454879760742,
          -30.841005325317383,
          7.928204536437988,
          -28.97216033935547,
          -33.66130447387695,
          -26.24124526977539,
          -24.24986457824707,
          -33.06174087524414,
          -20.528623580932617,
          2.5876567363739014,
          0.8026279211044312,
          20.90989112854004,
          0.3521389663219452,
          34.76634216308594,
          20.975894927978516,
          4.296487808227539,
          -2.1644957065582275,
          20.57024383544922,
          12.734103202819824,
          -28.167287826538086,
          -0.189340278506279,
          2.132507801055908,
          14.070536613464355,
          -31.055740356445312,
          -13.406318664550781,
          14.47336196899414,
          -36.37455749511719,
          0.3258307874202728,
          -20.13321304321289,
          7.75824499130249,
          10.637459754943848,
          19.641923904418945,
          25.358076095581055,
          18.209545135498047,
          2.973754405975342,
          -19.856327056884766,
          12.074896812438965,
          -29.506593704223633,
          21.983898162841797,
          21.183700561523438,
          9.905786514282227,
          27.59036636352539,
          3.4982056617736816,
          27.66014289855957,
          20.80069351196289,
          17.88641929626465,
          -35.72059631347656,
          -14.744073867797852,
          27.542856216430664,
          -24.74227523803711,
          -0.78892582654953,
          -36.21013641357422,
          10.733558654785156,
          15.063583374023438,
          23.48676109313965,
          -29.36297035217285,
          -9.927659034729004,
          -5.6092329025268555,
          -24.256778717041016,
          25.850296020507812,
          12.649955749511719,
          23.0750675201416,
          8.366558074951172,
          6.25080680847168,
          -28.106037139892578,
          6.270897388458252,
          -6.183543682098389,
          -18.370737075805664,
          16.505849838256836,
          22.051536560058594,
          9.027458190917969,
          -21.443706512451172,
          -28.89385986328125,
          -5.0951948165893555,
          33.10425567626953,
          17.996023178100586,
          15.990318298339844,
          -11.57239055633545,
          3.41752552986145,
          -21.046018600463867,
          20.77970314025879,
          -30.43552017211914,
          32.946205139160156,
          -34.36685562133789,
          -5.172560691833496,
          -39.723358154296875,
          25.8206844329834,
          32.94576644897461,
          -14.755491256713867,
          24.291643142700195,
          12.292919158935547,
          28.733951568603516,
          -10.177974700927734,
          11.311100959777832,
          21.284128189086914,
          23.307193756103516,
          5.958176136016846,
          -29.0461483001709,
          -0.5911673307418823,
          24.771562576293945,
          -29.64561653137207,
          19.762847900390625,
          -39.91310501098633,
          17.738100051879883,
          24.328433990478516,
          -13.927424430847168,
          22.767494201660156,
          24.121877670288086,
          4.184972286224365,
          33.804962158203125,
          -29.552900314331055,
          24.754703521728516,
          17.809337615966797,
          16.803417205810547,
          22.949634552001953,
          0.23158666491508484,
          -36.296173095703125,
          10.800829887390137,
          16.530380249023438,
          21.395421981811523,
          31.531408309936523,
          18.223735809326172,
          14.78488540649414,
          24.229188919067383,
          7.3465399742126465,
          -6.233765125274658,
          26.163562774658203,
          21.21992301940918,
          7.478466987609863,
          -22.2967586517334,
          7.272775173187256,
          0.3533293902873993,
          -23.189302444458008,
          22.920320510864258,
          -13.733675956726074,
          27.995351791381836,
          10.048593521118164,
          -24.507211685180664,
          0.4596153497695923,
          27.008365631103516,
          -32.55906677246094,
          34.21315002441406,
          25.20684814453125,
          7.587607383728027,
          34.01141357421875,
          -39.261844635009766,
          11.531709671020508,
          33.37837219238281,
          23.959659576416016,
          13.955728530883789,
          7.071451663970947,
          37.07917785644531,
          20.448328018188477,
          -37.13423538208008,
          24.92709732055664,
          18.006635665893555,
          30.046464920043945,
          -7.787482261657715,
          20.464134216308594,
          -0.3462293744087219,
          -27.419921875,
          22.090087890625,
          -35.685791015625,
          5.89159631729126,
          24.113727569580078,
          -18.283946990966797,
          35.57566833496094,
          19.589466094970703,
          8.081954956054688,
          34.107994079589844,
          12.748377799987793,
          15.052393913269043,
          22.01344871520996,
          32.44383239746094,
          -11.541756629943848,
          -17.587949752807617,
          -5.317118167877197,
          8.186624526977539,
          -4.938729763031006,
          -14.687093734741211,
          -39.42831039428711,
          31.348112106323242,
          13.40713882446289,
          23.1228084564209,
          -20.22464370727539,
          5.73959493637085,
          -8.778732299804688,
          9.234801292419434,
          -4.905163288116455,
          14.316913604736328,
          17.758203506469727,
          20.92506217956543,
          32.61736297607422,
          10.116194725036621,
          2.2564401626586914,
          8.323573112487793,
          9.246060371398926,
          22.621902465820312,
          14.32657527923584,
          21.135629653930664,
          -27.468904495239258,
          -34.083770751953125,
          0.19570037722587585,
          17.198461532592773,
          15.060340881347656,
          23.883563995361328,
          -14.487822532653809,
          16.697772979736328,
          -6.322188377380371,
          13.754899978637695,
          13.826351165771484,
          14.726476669311523,
          -35.3641242980957,
          9.114006042480469,
          10.35440444946289,
          29.392393112182617,
          18.927303314208984,
          1.8980873823165894,
          -8.545528411865234,
          14.68972396850586,
          -16.699039459228516,
          16.784893035888672,
          -39.612998962402344,
          -9.042306900024414,
          14.180295944213867,
          -26.56623649597168,
          23.05231475830078,
          35.078636169433594,
          33.81491470336914,
          23.718765258789062,
          21.818227767944336,
          -21.908525466918945,
          19.06840705871582,
          -30.167272567749023,
          16.229764938354492,
          5.411201000213623,
          16.51971435546875,
          16.06403923034668,
          10.22971248626709,
          14.520411491394043,
          25.167129516601562,
          -4.099353790283203,
          -13.918423652648926,
          -18.55233383178711,
          26.929981231689453,
          9.955475807189941,
          -30.55902671813965,
          10.62430191040039,
          30.31740379333496,
          -9.564133644104004,
          -2.9365756511688232,
          30.795303344726562,
          -19.22761344909668,
          7.943917274475098,
          35.88397216796875,
          -11.81161880493164,
          19.8586483001709,
          -8.03390121459961,
          9.48525619506836,
          22.395755767822266,
          2.6577236652374268,
          -35.7011604309082,
          11.089193344116211,
          -1.2470563650131226,
          -2.147601842880249,
          14.228841781616211,
          -3.7049241065979004,
          -13.40062427520752,
          22.61296844482422,
          -20.094966888427734,
          17.547531127929688,
          -28.015586853027344,
          14.940112113952637,
          34.213497161865234,
          37.433528900146484,
          -13.64511775970459,
          -25.448165893554688,
          11.960469245910645,
          10.928808212280273,
          -29.059284210205078,
          13.667312622070312,
          34.073204040527344,
          22.421829223632812,
          -10.072580337524414,
          -36.503150939941406,
          3.8712985515594482,
          17.349658966064453,
          8.603906631469727,
          29.144243240356445,
          25.657745361328125,
          16.493270874023438,
          -0.4279986321926117,
          -7.823024749755859,
          -24.496545791625977,
          -6.03679895401001,
          27.516786575317383,
          -4.499114990234375,
          28.623180389404297,
          -27.672094345092773,
          11.411194801330566,
          22.79564666748047,
          23.91484260559082,
          22.142871856689453,
          3.5890462398529053,
          15.58741569519043,
          33.3147087097168,
          14.60287857055664,
          13.640824317932129,
          -20.456716537475586,
          23.455604553222656,
          -11.441115379333496,
          -31.38105010986328,
          27.53834342956543,
          -16.922874450683594,
          23.457059860229492,
          36.29266357421875,
          35.293582916259766,
          -26.864192962646484,
          20.060941696166992,
          3.712695837020874,
          -10.607134819030762,
          -22.9771728515625,
          -25.968021392822266,
          2.634007453918457,
          -1.1217217445373535,
          0.2601538300514221,
          3.2807650566101074,
          -9.299824714660645,
          16.879234313964844,
          34.317684173583984,
          -12.433609008789062,
          7.8852691650390625,
          36.04264831542969,
          -21.19420051574707,
          -38.08009338378906,
          11.686925888061523,
          -10.873819351196289,
          3.5001845359802246,
          32.90338897705078,
          -33.965633392333984,
          -31.634653091430664,
          -36.328224182128906,
          6.48973274230957,
          23.235387802124023,
          12.107175827026367,
          7.929588794708252,
          -20.09507942199707,
          -10.423909187316895,
          10.276710510253906,
          10.665120124816895,
          -7.321159839630127,
          6.5706024169921875,
          -26.979156494140625,
          17.670015335083008,
          2.231616258621216,
          -8.024041175842285,
          22.317617416381836,
          -30.103200912475586,
          -23.841182708740234,
          -15.081703186035156,
          -24.390335083007812,
          -33.8826904296875,
          4.103883743286133,
          -3.4225215911865234,
          8.883166313171387,
          14.571768760681152,
          24.737430572509766,
          -26.60599136352539,
          -32.019229888916016,
          -24.395240783691406,
          25.338804244995117,
          -30.35565757751465,
          5.245783805847168,
          -17.6990966796875,
          -2.0262129306793213,
          -13.886377334594727,
          -25.83263397216797,
          20.180004119873047,
          -32.22058868408203,
          -36.86536407470703,
          -29.95895004272461,
          30.136045455932617,
          -19.532331466674805,
          18.32211685180664,
          -4.876080513000488,
          -12.748207092285156,
          23.885473251342773,
          25.229751586914062,
          -22.694259643554688,
          4.495547771453857,
          32.83104705810547,
          20.65819549560547,
          7.899116516113281,
          17.916065216064453,
          21.3365535736084,
          3.0119316577911377,
          -1.000433325767517,
          15.137628555297852,
          21.0920352935791,
          6.580724716186523,
          -9.598831176757812,
          5.357513904571533,
          -22.180349349975586,
          -16.39476776123047,
          -22.441808700561523,
          21.284101486206055,
          22.325265884399414,
          12.652609825134277,
          10.823457717895508,
          20.887042999267578,
          5.606389999389648,
          4.264801502227783,
          -21.473491668701172,
          -23.83734893798828,
          30.687864303588867,
          -32.85778045654297,
          4.138855934143066,
          15.256794929504395,
          -27.849132537841797,
          6.982059478759766,
          -10.253664016723633,
          2.4902501106262207,
          15.707611083984375,
          21.693870544433594,
          -7.75154447555542,
          21.070524215698242,
          10.115285873413086,
          2.748448133468628,
          24.502641677856445,
          22.024431228637695,
          -1.6008504629135132,
          4.2344770431518555,
          -4.6832966804504395,
          32.23394012451172,
          -17.066932678222656,
          -4.406781196594238,
          -10.800812721252441,
          -15.627120018005371,
          30.83840560913086,
          -21.39423942565918,
          -6.684642314910889,
          29.72648811340332,
          -32.10020446777344,
          -38.573211669921875,
          -16.582321166992188,
          24.304611206054688,
          16.338451385498047,
          22.72019386291504,
          30.444787979125977,
          -29.720651626586914,
          -15.358787536621094,
          -15.209512710571289,
          -14.506097793579102,
          21.007835388183594,
          1.7617909908294678,
          -6.128393650054932,
          2.908895254135132,
          17.253793716430664,
          9.001401901245117,
          -16.007917404174805,
          2.2819149494171143,
          7.92225456237793,
          17.617633819580078,
          -17.422992706298828,
          12.043279647827148,
          14.177666664123535,
          17.979246139526367,
          4.120901107788086,
          14.517609596252441,
          20.253068923950195,
          28.859718322753906,
          3.6319146156311035,
          -6.499748706817627,
          -20.567676544189453,
          -7.082193851470947,
          22.375303268432617,
          1.476505994796753,
          32.079219818115234,
          -4.030618190765381,
          -2.1262035369873047,
          3.1014885902404785,
          18.622329711914062,
          28.660640716552734,
          12.561392784118652,
          -6.85661506652832,
          5.59197473526001,
          14.53468132019043,
          -36.056644439697266,
          -16.927021026611328,
          -30.848819732666016,
          13.73778247833252,
          -15.078742980957031,
          33.77362060546875,
          12.992925643920898,
          -21.223119735717773,
          -26.7056827545166,
          -6.6089348793029785,
          -4.685995101928711,
          -9.145180702209473,
          -5.501567363739014,
          14.709528923034668,
          -18.4929141998291,
          -16.940839767456055,
          7.419484615325928,
          14.867650985717773,
          -26.371084213256836,
          -19.235427856445312,
          22.572250366210938,
          -27.852678298950195,
          21.62696075439453,
          -23.454744338989258,
          24.538368225097656,
          26.735321044921875,
          14.41474437713623,
          20.524696350097656,
          13.804224967956543,
          15.989853858947754,
          -30.029205322265625,
          25.064542770385742,
          3.814758539199829,
          -6.1403374671936035,
          -23.425304412841797
         ],
         "yaxis": "y"
        }
       ],
       "layout": {
        "coloraxis": {
         "colorbar": {
          "title": {
           "text": "Predicted Label"
          }
         },
         "colorscale": [
          [
           0,
           "#0d0887"
          ],
          [
           0.1111111111111111,
           "#46039f"
          ],
          [
           0.2222222222222222,
           "#7201a8"
          ],
          [
           0.3333333333333333,
           "#9c179e"
          ],
          [
           0.4444444444444444,
           "#bd3786"
          ],
          [
           0.5555555555555556,
           "#d8576b"
          ],
          [
           0.6666666666666666,
           "#ed7953"
          ],
          [
           0.7777777777777778,
           "#fb9f3a"
          ],
          [
           0.8888888888888888,
           "#fdca26"
          ],
          [
           1,
           "#f0f921"
          ]
         ]
        },
        "legend": {
         "tracegroupgap": 0
        },
        "template": {
         "data": {
          "bar": [
           {
            "error_x": {
             "color": "#2a3f5f"
            },
            "error_y": {
             "color": "#2a3f5f"
            },
            "marker": {
             "line": {
              "color": "#E5ECF6",
              "width": 0.5
             },
             "pattern": {
              "fillmode": "overlay",
              "size": 10,
              "solidity": 0.2
             }
            },
            "type": "bar"
           }
          ],
          "barpolar": [
           {
            "marker": {
             "line": {
              "color": "#E5ECF6",
              "width": 0.5
             },
             "pattern": {
              "fillmode": "overlay",
              "size": 10,
              "solidity": 0.2
             }
            },
            "type": "barpolar"
           }
          ],
          "carpet": [
           {
            "aaxis": {
             "endlinecolor": "#2a3f5f",
             "gridcolor": "white",
             "linecolor": "white",
             "minorgridcolor": "white",
             "startlinecolor": "#2a3f5f"
            },
            "baxis": {
             "endlinecolor": "#2a3f5f",
             "gridcolor": "white",
             "linecolor": "white",
             "minorgridcolor": "white",
             "startlinecolor": "#2a3f5f"
            },
            "type": "carpet"
           }
          ],
          "choropleth": [
           {
            "colorbar": {
             "outlinewidth": 0,
             "ticks": ""
            },
            "type": "choropleth"
           }
          ],
          "contour": [
           {
            "colorbar": {
             "outlinewidth": 0,
             "ticks": ""
            },
            "colorscale": [
             [
              0,
              "#0d0887"
             ],
             [
              0.1111111111111111,
              "#46039f"
             ],
             [
              0.2222222222222222,
              "#7201a8"
             ],
             [
              0.3333333333333333,
              "#9c179e"
             ],
             [
              0.4444444444444444,
              "#bd3786"
             ],
             [
              0.5555555555555556,
              "#d8576b"
             ],
             [
              0.6666666666666666,
              "#ed7953"
             ],
             [
              0.7777777777777778,
              "#fb9f3a"
             ],
             [
              0.8888888888888888,
              "#fdca26"
             ],
             [
              1,
              "#f0f921"
             ]
            ],
            "type": "contour"
           }
          ],
          "contourcarpet": [
           {
            "colorbar": {
             "outlinewidth": 0,
             "ticks": ""
            },
            "type": "contourcarpet"
           }
          ],
          "heatmap": [
           {
            "colorbar": {
             "outlinewidth": 0,
             "ticks": ""
            },
            "colorscale": [
             [
              0,
              "#0d0887"
             ],
             [
              0.1111111111111111,
              "#46039f"
             ],
             [
              0.2222222222222222,
              "#7201a8"
             ],
             [
              0.3333333333333333,
              "#9c179e"
             ],
             [
              0.4444444444444444,
              "#bd3786"
             ],
             [
              0.5555555555555556,
              "#d8576b"
             ],
             [
              0.6666666666666666,
              "#ed7953"
             ],
             [
              0.7777777777777778,
              "#fb9f3a"
             ],
             [
              0.8888888888888888,
              "#fdca26"
             ],
             [
              1,
              "#f0f921"
             ]
            ],
            "type": "heatmap"
           }
          ],
          "heatmapgl": [
           {
            "colorbar": {
             "outlinewidth": 0,
             "ticks": ""
            },
            "colorscale": [
             [
              0,
              "#0d0887"
             ],
             [
              0.1111111111111111,
              "#46039f"
             ],
             [
              0.2222222222222222,
              "#7201a8"
             ],
             [
              0.3333333333333333,
              "#9c179e"
             ],
             [
              0.4444444444444444,
              "#bd3786"
             ],
             [
              0.5555555555555556,
              "#d8576b"
             ],
             [
              0.6666666666666666,
              "#ed7953"
             ],
             [
              0.7777777777777778,
              "#fb9f3a"
             ],
             [
              0.8888888888888888,
              "#fdca26"
             ],
             [
              1,
              "#f0f921"
             ]
            ],
            "type": "heatmapgl"
           }
          ],
          "histogram": [
           {
            "marker": {
             "pattern": {
              "fillmode": "overlay",
              "size": 10,
              "solidity": 0.2
             }
            },
            "type": "histogram"
           }
          ],
          "histogram2d": [
           {
            "colorbar": {
             "outlinewidth": 0,
             "ticks": ""
            },
            "colorscale": [
             [
              0,
              "#0d0887"
             ],
             [
              0.1111111111111111,
              "#46039f"
             ],
             [
              0.2222222222222222,
              "#7201a8"
             ],
             [
              0.3333333333333333,
              "#9c179e"
             ],
             [
              0.4444444444444444,
              "#bd3786"
             ],
             [
              0.5555555555555556,
              "#d8576b"
             ],
             [
              0.6666666666666666,
              "#ed7953"
             ],
             [
              0.7777777777777778,
              "#fb9f3a"
             ],
             [
              0.8888888888888888,
              "#fdca26"
             ],
             [
              1,
              "#f0f921"
             ]
            ],
            "type": "histogram2d"
           }
          ],
          "histogram2dcontour": [
           {
            "colorbar": {
             "outlinewidth": 0,
             "ticks": ""
            },
            "colorscale": [
             [
              0,
              "#0d0887"
             ],
             [
              0.1111111111111111,
              "#46039f"
             ],
             [
              0.2222222222222222,
              "#7201a8"
             ],
             [
              0.3333333333333333,
              "#9c179e"
             ],
             [
              0.4444444444444444,
              "#bd3786"
             ],
             [
              0.5555555555555556,
              "#d8576b"
             ],
             [
              0.6666666666666666,
              "#ed7953"
             ],
             [
              0.7777777777777778,
              "#fb9f3a"
             ],
             [
              0.8888888888888888,
              "#fdca26"
             ],
             [
              1,
              "#f0f921"
             ]
            ],
            "type": "histogram2dcontour"
           }
          ],
          "mesh3d": [
           {
            "colorbar": {
             "outlinewidth": 0,
             "ticks": ""
            },
            "type": "mesh3d"
           }
          ],
          "parcoords": [
           {
            "line": {
             "colorbar": {
              "outlinewidth": 0,
              "ticks": ""
             }
            },
            "type": "parcoords"
           }
          ],
          "pie": [
           {
            "automargin": true,
            "type": "pie"
           }
          ],
          "scatter": [
           {
            "fillpattern": {
             "fillmode": "overlay",
             "size": 10,
             "solidity": 0.2
            },
            "type": "scatter"
           }
          ],
          "scatter3d": [
           {
            "line": {
             "colorbar": {
              "outlinewidth": 0,
              "ticks": ""
             }
            },
            "marker": {
             "colorbar": {
              "outlinewidth": 0,
              "ticks": ""
             }
            },
            "type": "scatter3d"
           }
          ],
          "scattercarpet": [
           {
            "marker": {
             "colorbar": {
              "outlinewidth": 0,
              "ticks": ""
             }
            },
            "type": "scattercarpet"
           }
          ],
          "scattergeo": [
           {
            "marker": {
             "colorbar": {
              "outlinewidth": 0,
              "ticks": ""
             }
            },
            "type": "scattergeo"
           }
          ],
          "scattergl": [
           {
            "marker": {
             "colorbar": {
              "outlinewidth": 0,
              "ticks": ""
             }
            },
            "type": "scattergl"
           }
          ],
          "scattermapbox": [
           {
            "marker": {
             "colorbar": {
              "outlinewidth": 0,
              "ticks": ""
             }
            },
            "type": "scattermapbox"
           }
          ],
          "scatterpolar": [
           {
            "marker": {
             "colorbar": {
              "outlinewidth": 0,
              "ticks": ""
             }
            },
            "type": "scatterpolar"
           }
          ],
          "scatterpolargl": [
           {
            "marker": {
             "colorbar": {
              "outlinewidth": 0,
              "ticks": ""
             }
            },
            "type": "scatterpolargl"
           }
          ],
          "scatterternary": [
           {
            "marker": {
             "colorbar": {
              "outlinewidth": 0,
              "ticks": ""
             }
            },
            "type": "scatterternary"
           }
          ],
          "surface": [
           {
            "colorbar": {
             "outlinewidth": 0,
             "ticks": ""
            },
            "colorscale": [
             [
              0,
              "#0d0887"
             ],
             [
              0.1111111111111111,
              "#46039f"
             ],
             [
              0.2222222222222222,
              "#7201a8"
             ],
             [
              0.3333333333333333,
              "#9c179e"
             ],
             [
              0.4444444444444444,
              "#bd3786"
             ],
             [
              0.5555555555555556,
              "#d8576b"
             ],
             [
              0.6666666666666666,
              "#ed7953"
             ],
             [
              0.7777777777777778,
              "#fb9f3a"
             ],
             [
              0.8888888888888888,
              "#fdca26"
             ],
             [
              1,
              "#f0f921"
             ]
            ],
            "type": "surface"
           }
          ],
          "table": [
           {
            "cells": {
             "fill": {
              "color": "#EBF0F8"
             },
             "line": {
              "color": "white"
             }
            },
            "header": {
             "fill": {
              "color": "#C8D4E3"
             },
             "line": {
              "color": "white"
             }
            },
            "type": "table"
           }
          ]
         },
         "layout": {
          "annotationdefaults": {
           "arrowcolor": "#2a3f5f",
           "arrowhead": 0,
           "arrowwidth": 1
          },
          "autotypenumbers": "strict",
          "coloraxis": {
           "colorbar": {
            "outlinewidth": 0,
            "ticks": ""
           }
          },
          "colorscale": {
           "diverging": [
            [
             0,
             "#8e0152"
            ],
            [
             0.1,
             "#c51b7d"
            ],
            [
             0.2,
             "#de77ae"
            ],
            [
             0.3,
             "#f1b6da"
            ],
            [
             0.4,
             "#fde0ef"
            ],
            [
             0.5,
             "#f7f7f7"
            ],
            [
             0.6,
             "#e6f5d0"
            ],
            [
             0.7,
             "#b8e186"
            ],
            [
             0.8,
             "#7fbc41"
            ],
            [
             0.9,
             "#4d9221"
            ],
            [
             1,
             "#276419"
            ]
           ],
           "sequential": [
            [
             0,
             "#0d0887"
            ],
            [
             0.1111111111111111,
             "#46039f"
            ],
            [
             0.2222222222222222,
             "#7201a8"
            ],
            [
             0.3333333333333333,
             "#9c179e"
            ],
            [
             0.4444444444444444,
             "#bd3786"
            ],
            [
             0.5555555555555556,
             "#d8576b"
            ],
            [
             0.6666666666666666,
             "#ed7953"
            ],
            [
             0.7777777777777778,
             "#fb9f3a"
            ],
            [
             0.8888888888888888,
             "#fdca26"
            ],
            [
             1,
             "#f0f921"
            ]
           ],
           "sequentialminus": [
            [
             0,
             "#0d0887"
            ],
            [
             0.1111111111111111,
             "#46039f"
            ],
            [
             0.2222222222222222,
             "#7201a8"
            ],
            [
             0.3333333333333333,
             "#9c179e"
            ],
            [
             0.4444444444444444,
             "#bd3786"
            ],
            [
             0.5555555555555556,
             "#d8576b"
            ],
            [
             0.6666666666666666,
             "#ed7953"
            ],
            [
             0.7777777777777778,
             "#fb9f3a"
            ],
            [
             0.8888888888888888,
             "#fdca26"
            ],
            [
             1,
             "#f0f921"
            ]
           ]
          },
          "colorway": [
           "#636efa",
           "#EF553B",
           "#00cc96",
           "#ab63fa",
           "#FFA15A",
           "#19d3f3",
           "#FF6692",
           "#B6E880",
           "#FF97FF",
           "#FECB52"
          ],
          "font": {
           "color": "#2a3f5f"
          },
          "geo": {
           "bgcolor": "white",
           "lakecolor": "white",
           "landcolor": "#E5ECF6",
           "showlakes": true,
           "showland": true,
           "subunitcolor": "white"
          },
          "hoverlabel": {
           "align": "left"
          },
          "hovermode": "closest",
          "mapbox": {
           "style": "light"
          },
          "paper_bgcolor": "white",
          "plot_bgcolor": "#E5ECF6",
          "polar": {
           "angularaxis": {
            "gridcolor": "white",
            "linecolor": "white",
            "ticks": ""
           },
           "bgcolor": "#E5ECF6",
           "radialaxis": {
            "gridcolor": "white",
            "linecolor": "white",
            "ticks": ""
           }
          },
          "scene": {
           "xaxis": {
            "backgroundcolor": "#E5ECF6",
            "gridcolor": "white",
            "gridwidth": 2,
            "linecolor": "white",
            "showbackground": true,
            "ticks": "",
            "zerolinecolor": "white"
           },
           "yaxis": {
            "backgroundcolor": "#E5ECF6",
            "gridcolor": "white",
            "gridwidth": 2,
            "linecolor": "white",
            "showbackground": true,
            "ticks": "",
            "zerolinecolor": "white"
           },
           "zaxis": {
            "backgroundcolor": "#E5ECF6",
            "gridcolor": "white",
            "gridwidth": 2,
            "linecolor": "white",
            "showbackground": true,
            "ticks": "",
            "zerolinecolor": "white"
           }
          },
          "shapedefaults": {
           "line": {
            "color": "#2a3f5f"
           }
          },
          "ternary": {
           "aaxis": {
            "gridcolor": "white",
            "linecolor": "white",
            "ticks": ""
           },
           "baxis": {
            "gridcolor": "white",
            "linecolor": "white",
            "ticks": ""
           },
           "bgcolor": "#E5ECF6",
           "caxis": {
            "gridcolor": "white",
            "linecolor": "white",
            "ticks": ""
           }
          },
          "title": {
           "x": 0.05
          },
          "xaxis": {
           "automargin": true,
           "gridcolor": "white",
           "linecolor": "white",
           "ticks": "",
           "title": {
            "standoff": 15
           },
           "zerolinecolor": "white",
           "zerolinewidth": 2
          },
          "yaxis": {
           "automargin": true,
           "gridcolor": "white",
           "linecolor": "white",
           "ticks": "",
           "title": {
            "standoff": 15
           },
           "zerolinecolor": "white",
           "zerolinewidth": 2
          }
         }
        },
        "title": {
         "text": "Wizualizacja przestrzeni wektorowej prób testowych"
        },
        "xaxis": {
         "anchor": "y",
         "domain": [
          0,
          1
         ],
         "title": {
          "text": "x"
         }
        },
        "yaxis": {
         "anchor": "x",
         "domain": [
          0,
          1
         ],
         "title": {
          "text": "y"
         }
        }
       }
      }
     },
     "metadata": {},
     "output_type": "display_data"
    }
   ],
   "source": [
    "scaler = StandardScaler()\n",
    "scaled_vectors = scaler.fit_transform(embeddings['input_ids'])\n",
    "\n",
    "tsne = TSNE(n_components=2, random_state=42).fit_transform(scaled_vectors)\n",
    "\n",
    "df_tsne = pd.DataFrame(tsne, columns=['x', 'y'])\n",
    "df_tsne['Predicted Label']  = [predicted_labels[i] for i in range(len(predicted_labels))]\n",
    "df_tsne['Text'] = text['text']\n",
    "df_tsne['True label'] = [true_labels[i] for i in range(len(true_labels))]\n",
    "\n",
    "fig = px.scatter(df_tsne, x='x', y='y', color='Predicted Label', hover_data={'Text': True, 'True label': True}, title=\"Wizualizacja przestrzeni wektorowej prób testowych\")\n",
    "fig.show()"
   ]
  },
  {
   "cell_type": "markdown",
   "metadata": {},
   "source": [
    "### Tokeny"
   ]
  },
  {
   "cell_type": "markdown",
   "metadata": {},
   "source": [
    "#### PCA"
   ]
  },
  {
   "cell_type": "markdown",
   "metadata": {},
   "source": [
    "#### TSNE"
   ]
  }
 ],
 "metadata": {
  "kernelspec": {
   "display_name": "Python 3",
   "language": "python",
   "name": "python3"
  },
  "language_info": {
   "codemirror_mode": {
    "name": "ipython",
    "version": 3
   },
   "file_extension": ".py",
   "mimetype": "text/x-python",
   "name": "python",
   "nbconvert_exporter": "python",
   "pygments_lexer": "ipython3",
   "version": "3.12.3"
  }
 },
 "nbformat": 4,
 "nbformat_minor": 2
}
